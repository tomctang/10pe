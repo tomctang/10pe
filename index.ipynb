{
 "cells": [
  {
   "cell_type": "markdown",
   "metadata": {},
   "source": [
    "# Project_Euler\n",
    "\n",
    "Jonny and Tom's workbook of [Project Euler](https://projecteuler.net/) and A-level math, using both Python and Wolfram languages (=Mathematica), in both OOP and FP approaches.\n",
    "\n",
    "## Software and files\n",
    "\n",
    "As we first start this project using Python (thus .ipynb), then we move to Mathematica \n",
    "So we have 3 types of files: \n",
    "\n",
    "- Python  (.ipynb): we first use Python, then we found $SageMath$ - the most powerful CAS (computer algebra system) in Python.\n",
    "- Mathematica   (.nb): the best CAS.\n",
    "- wolfram notebook (.wlnb): this enables us running Mathematica kernel in VScode.\n",
    "\n",
    "## OOP to FP\n",
    "\n",
    "We first start this using Python in OOP way, then we move to functional programming using both Wolfram and Python.\n",
    "\n",
    "Even though both Python and Wolfram are not pure FP, they do help us understand FP way. "
   ]
  }
 ],
 "metadata": {
  "language_info": {
   "name": "python"
  }
 },
 "nbformat": 4,
 "nbformat_minor": 2
}
