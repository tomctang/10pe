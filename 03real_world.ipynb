{
 "cells": [
  {
   "cell_type": "markdown",
   "metadata": {},
   "source": [
    "# Real World Math"
   ]
  },
  {
   "cell_type": "markdown",
   "metadata": {},
   "source": [
    "## Functional Programming"
   ]
  },
  {
   "cell_type": "markdown",
   "metadata": {},
   "source": [
    "from: [A Guide to Programming with Wolfram Language: Functional Programming](https://www.youtube.com/watch?v=E6RAiKG3pKE&list=WL&index=6&t=301s)"
   ]
  },
  {
   "cell_type": "code",
   "execution_count": null,
   "metadata": {
    "vscode": {
     "languageId": "wolfram"
    }
   },
   "outputs": [],
   "source": [
    "(*OOP*)\n",
    "data={a,b,c};\n",
    "Do[\n",
    "   data[[k]]=f[data[[k]]], {k,Length[data]}\n",
    "];\n",
    "data\n",
    "(*FP*)\n",
    "Map[f,{a,b,c}]\n",
    "f /@ {a,b,c}"
   ]
  },
  {
   "cell_type": "code",
   "execution_count": null,
   "metadata": {
    "vscode": {
     "languageId": "wolfram"
    }
   },
   "outputs": [],
   "source": [
    "Map[f, {{1,2,3},{4,5,6},{7,8,9}}] \n",
    "Map[f, {{1,2,3},{4,5,6},{7,8,9}}, {1}] \n",
    "Map[f, {{1,2,3},{4,5,6},{7,8,9}}, {2}] (*{2} indicates level 2*)"
   ]
  },
  {
   "cell_type": "code",
   "execution_count": null,
   "metadata": {
    "vscode": {
     "languageId": "wolfram"
    }
   },
   "outputs": [],
   "source": [
    "Map[Reverse, {{1,2,3},{4,5,6},{7,8,9}}] (*With-In*)\n",
    "Map[Reverse, {{1,2,3},{4,5,6},{7,8,9}}, {1}] \n",
    "Reverse[{{1,2,3},{4,5,6},{7,8,9}}] (*Between*)\n",
    "\n",
    "Map[Sort, {{2,1,3},{a,c,b},{7,2,8}}]\n",
    "Sort[{{2,1,3},{a,c,b},{7,2,8}}]"
   ]
  },
  {
   "cell_type": "code",
   "execution_count": null,
   "metadata": {},
   "outputs": [],
   "source": [
    "Apply[g,f[1,2,3]]\n",
    "g @@ f[1,2,3]\n",
    "Apply[g, {{1,2,3},{4,5,6},{7,8,9}}, {1}]"
   ]
  },
  {
   "cell_type": "code",
   "execution_count": null,
   "metadata": {},
   "outputs": [],
   "source": [
    "Apply[Rule,{x,5}] (*a -> 1 is read as \"a maps to 1\"*)\n",
    "Apply[Rule, {{a,1},{b,2},{c,3}}, {1}] (*turn pairs into a list of rules*)\n",
    "Rule @@@ {{a,1},{b,2},{c,3}}"
   ]
  },
  {
   "cell_type": "code",
   "execution_count": null,
   "metadata": {
    "vscode": {
     "languageId": "wolfram"
    }
   },
   "outputs": [
    {
     "data": {
      "text/html": [
       "<style>\n",
       "\t\t\t\t\t\t\t\t\t\t\t\t\t.grid-container {\n",
       "\t\t\t\t\t\t\t\t\t\t\t\t\t\tdisplay: inline-grid;\n",
       "\t\t\t\t\t\t\t\t\t\t\t\t\t\tgrid-template-columns: auto;\n",
       "\t\t\t\t\t\t\t\t\t\t\t\t\t}\n",
       "\t\t\t\t\t\t\t\t\t\t\t\t</style>\n",
       "\n",
       "\t\t\t\t\t\t\t\t\t\t\t\t<div><div class=\"grid-container\"><div class=\"grid-item\"><img alt=\"Output\" src=\"data:image/png;base64,iVBORw0KGgoAAAANSUhEUgAAAGUAAAAVCAIAAADQPLdZAAAA0HpUWHRSYXcgcHJvZmlsZSB0eXBlIGV4aWYAAHjabU9BjsQgDLvzinlCEoIDz6EzjLQ/2OePKWi1rNZVY+PEaUnj++udHhOmkrxERQOE8ObNOkWVhcUq7a43UHZPTz/pbminVX4Fxvav0w8stvpnkdgSeX6BOvsO7EXZlq99na89b73Wc9ElByA/v/7v2XMYCjSc1U0i0KhroiShmJTAG0+Ag4qXiT/JAxGMIeZE7jM4YSPO6ZGQabzmFfJ8PfesfDo1GFVyZ8fvKnbtLjWv8wE16Vqo3N9AxgAAAAlwSFlzAAAOxAAADsQBlSsOGwAAADx0RVh0U29mdHdhcmUAQ3JlYXRlZCB3aXRoIHRoZSBXb2xmcmFtIExhbmd1YWdlIDogd3d3LndvbGZyYW0uY29tXKKmhQAAACF0RVh0Q3JlYXRpb24gVGltZQAyMDI0OjExOjI2IDEyOjA0OjAwcJIRlwAAAWZJREFUWIXtmEGSRDAUQH+65hhWvmOwFVdwBA7gDhwgtnYcIdYcgy43ySzUaDNaixhRqfJWJHmJ+pX/S0KEEHAjzePqDzCMO177uOO1j7/xchyH/NC2rfxEyuJBVzdiBqUUEcUKiLhUZMTzXGVrc861Ab/eAaAsy7UpKKVrXZ/F89xNoihS7n074JWPz+dTbYcqiwfdSzCy3sdxTAjJsmxqGWufjuiLWa7OWWbBskVS/Hd3zBQA6Pt+epZMKPnetwMeANB1nRCi73uYlRLO+WaslcWDLgAwxiilvu9XVZXnedM0kuJBvvQscwacc0JIGIZpmrquq2dRI+vXyFSthmHQtqjB8ULEKIqapsnzvKoqPYuamo9BECAiYwwA0jQNw9CyLA1ZaeT+chynruuiKMbXJEkQ0fM8DWep1/6ybVso3YUpi8pu13WbLSdh5P66ks8/bHPUzr1XuSedt4m476P3cOfjPr4BooxexCPTaXEAAAAASUVORK5CYII=\"></div><div class=\"grid-item\"><img alt=\"Output\" src=\"data:image/png;base64,iVBORw0KGgoAAAANSUhEUgAAAR4AAAAVCAIAAAAfGxb2AAAAznpUWHRSYXcgcHJvZmlsZSB0eXBlIGV4aWYAAHjabU/RjUMhDPtnihshCcGBcXgtlbpBxz9TOJ2oGkTsOE4Qabyej/Qzw1SSl6hogDC8ebNOUmXFQpX2zqsYm+mpJy3b0CmV/wbG1q9TDyy0+rFIbJE8XyDPvgf2omxL177qa/ut13ouuuQI/BH9XnsOQ4GGM7tJBBp5TaQEFJMSeOAG0Ki4m/iNOBDBMcR05D4HZ9iI0z0SMoX7/EKe13PPytPJwVEldnb8ncWu3SXnd34Bdq5a1CEw700AAAAJcEhZcwAADsQAAA7EAZUrDhsAAAA8dEVYdFNvZnR3YXJlAENyZWF0ZWQgd2l0aCB0aGUgV29sZnJhbSBMYW5ndWFnZSA6IHd3dy53b2xmcmFtLmNvbVyipoUAAAAhdEVYdENyZWF0aW9uIFRpbWUAMjAyNDoxMToyNiAxMjowNDowMHCSEZcAAAKhSURBVHic7Zu/cYMwFMYfuQziQ4wBjRtYAVduYQAqLwAD2K0rwwimhjGMz5soBRdCgEgY8ZAg+lWJzAff9+6E/h0GpRQ0Gs3cfMg2oNFsE921NBoUdNfSaFCQ07UsyzK+KctSigcuIiZXEZCNrPgbKF1Nt2s9n0/DMCzLwnuk53kAQL+xbbtzQVPct247TYVhkq1FSreW+CJaKaXjysMwHH4L0N8EQUCRAYA0TRkXuK47+eZz+RcxydaiplM/vohWYum48r63gVGL/x4QAPv+syBichUB2ciKv+rSmabZaeGvterxLkmSpqUeH5cshAoeUNl8QDzULR13XKtHQwCoqqr5mz04DkII6T998HEiHgRnRCImR2r/mtWMCYg9IVwgvohWYukmyEd1rbqdEJKmKQAURcF+DIOqqmDqXHyMh1kWGyImuVrGgoEbcJm1Fmp8Ea3E0k2Qf7bfE1mW7ff7/vsDAO73u2EYvu/Hcdzf81kGFTygsvmAeEgv3eFwSJIkiqKm5adrlWXp+35RFIPKZub6er0wHbJQwQMqmw+Ih/TS2bbtOA4ANL3ro/0bpfR2uw0qCSFBEBRFcblcsixbwKuaHlDZfEA8pJcuDENKaXvUGrX57nkeIeR8Ptu2Hcex7/udA7IFzs65HrgofsAvHpCN4vFFwC7dNPib75Zl5Xl+vV7rf6MoIoQ4jtN277ouAPw14okzxgMXbJMizBKQjcrxRVigdNP45F7xeDy4LcfjMc/z3W7HvZtpmvT9L8TGeOCCbVJEO0tANirHF9EuULppdEet/qHyGE6nE7QWcGqyCpN4/PP4EuhsxtcnA4QQ9i5+ezv/revH0BwgzqVSx+RkIVe1lvgi2uVLN0Zel7d/rmVQ/QG/RoOA/hRSo0HhC5fF/DPA5B1dAAAAAElFTkSuQmCC\"></div><div class=\"grid-item\"><img alt=\"Output\" src=\"data:image/png;base64,iVBORw0KGgoAAAANSUhEUgAAAFAAAAAVCAIAAABe5v4lAAAAz3pUWHRSYXcgcHJvZmlsZSB0eXBlIGV4aWYAAHjabU9BjgMhDLvzij4hCcGB5zAtlfYH+/yaAalitR6ROHaSgTR+f97pMWEqyUtUNEAIb96sk1RZWFml3fFG2RbrQ0+6He2UytfA2Pp16oGVrf5ZJLZInn8gz74H9qJsS9e+6mv3W6/1XHTJAXyv/m/tOQwFGs7oJhFo5DWRMqGYlMAbT4CNipeJP5kHIjiGmB25z8EJG3F2j4RM4TWfkOfx3LPy6+TgqDJ3On5HsWu75HzOBy0SWqJOemCVAAAACXBIWXMAAA7EAAAOxAGVKw4bAAAAPHRFWHRTb2Z0d2FyZQBDcmVhdGVkIHdpdGggdGhlIFdvbGZyYW0gTGFuZ3VhZ2UgOiB3d3cud29sZnJhbS5jb21coqaFAAAAIXRFWHRDcmVhdGlvbiBUaW1lADIwMjQ6MTE6MjYgMTI6MDQ6MDBwkhGXAAACE0lEQVRYheWXP9biIBDAh5zEF3IGC5+mSGE8gI1WtlxAL2ATL5DWKuQImjLyPIVQeg22GOXjS75EXFb3rfuryEBg/sAMEK01/E8Ef1uBV1GWJbkTRZGRf6zBAMAY01prrS+XixF+ssE/8skG53mOW7osyy+ptkAJ51y7wRg7nU5tOaX0qXl8SNO0f4CUEgCklPj5FWEhBKWUMbbf7138p5QCgPF4bAt3ux0hZLvdegbHndVq9S2ALcIwpJRer9fbt/EEYwwjBt/D3gVjzLgN4Zyjv3GS90RYPwoy59y2yGrdVXTRVUrZs8yfNZhSmmUZzok0HI29jb+yLDPjbTnYKmI7TVOT0LvgnPfY427ww4X0PSNQSo16DV9LKV3mQW5nuCiKNE3NqcjzvP/k1HU9HA6dD5ovlFJTS5MkOR6Pdm8YhphQXLgZXFVVkiTYRkv6M4FSKgzDp5T2YTqdmvZ6vdYe1+EAAIQQUsrNZoNVC7dQXdf+inYxm81wLVMqCSGvW84mAICiKMwJQbIs69/VnuE9HA7tM+wzoTsBAFRVZe8ZABiNRgAghOj6bTAY9PS+H/cABLifl8ulLcXrRFEUXb/N5/Pz+dwQKqVwc04mEwBYLBaNl8qLEELEcew62jGbt3GvBK/m4e3S5vcfD3Ec92fy96CUMvXFBaI9skUURVVVvbM+tSHkORO8DP4X+eT38I/8An4W1cL35CLrAAAAAElFTkSuQmCC\"></div><div class=\"grid-item\"><img alt=\"Output\" src=\"data:image/png;base64,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\"></div><div class=\"grid-item\"><img alt=\"Output\" src=\"data:image/png;base64,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\"></div></div></div>"
      ],
      "text/plain": [
       "f[f[f[x]]]\n",
       "{x, f[x], f[f[x]], f[f[f[x]]]}\n",
       "         5\n",
       "A (1 + r)\n",
       "                        2           3           4           5\n",
       "{A, A (1 + r), A (1 + r) , A (1 + r) , A (1 + r) , A (1 + r) }\n",
       "{100, 110., 121., 133.1, 146.41, 161.051}"
      ]
     },
     "metadata": {},
     "output_type": "display_data"
    }
   ],
   "source": [
    "Nest[f,x,3]\n",
    "NestList[f,x,3]\n",
    "Nest[(1+r)# &, A, 5]\n",
    "NestList[(1+r)# &, A, 5]\n",
    "\n",
    "NestList[1.1#&, 100, 5]"
   ]
  },
  {
   "cell_type": "code",
   "execution_count": null,
   "metadata": {
    "vscode": {
     "languageId": "wolfram"
    }
   },
   "outputs": [],
   "source": [
    "FixedPoint[(#+2/#)/2 &, 1.0]\n",
    "FixedPointList[(#+2/#)/2 &, 1.0]\n",
    "\n",
    "ListPlot[FixedPointList[(# + 2/#)/2 &, 1.0], \n",
    "        PlotStyle -> {Blue, PointSize[Medium]}, \n",
    "        GridLines -> Automatic, \n",
    "        AxesLabel -> {\"Iteration\", \"Value\"}, \n",
    "        PlotRange -> All]"
   ]
  },
  {
   "cell_type": "code",
   "execution_count": null,
   "metadata": {
    "vscode": {
     "languageId": "wolfram"
    }
   },
   "outputs": [],
   "source": [
    "Fold[f,x,{a,b,c}]\n",
    "FoldList[f,x,{a,b,c}]\n",
    "FoldList[Max,{1,5,2,4,7,9,1,1}]"
   ]
  },
  {
   "cell_type": "code",
   "execution_count": null,
   "metadata": {
    "vscode": {
     "languageId": "wolfram"
    }
   },
   "outputs": [],
   "source": [
    "Map[(#+x)&,{1,2,3,4,5}]\n",
    "{1,2,3,4,5}+x\n",
    "Apply[Plus,{1,2,3,4,5}]\n",
    "Total[{1,2,3,4,5}]\n",
    "\n",
    "FoldList[Plus,{1,2,3,4,5}]\n",
    "Accumulate[{1,2,3,4,5}]\n",
    "Total[{{1,1,1},{2,2,2},{3,3,3}}]"
   ]
  },
  {
   "cell_type": "code",
   "execution_count": null,
   "metadata": {
    "vscode": {
     "languageId": "wolfram"
    }
   },
   "outputs": [],
   "source": [
    "Map[Select[#,EvenQ]& , {{1,2,3},{4,5,6},{7,8,9}}]\n",
    "Map[Select[  EvenQ]  , {{1,2,3},{4,5,6},{7,8,9}}]\n",
    "\n",
    "f[p_]:=Select[p,EvenQ]\n",
    "Map[f , {{1,2,3},{4,5,6},{7,8,9}}]"
   ]
  },
  {
   "cell_type": "code",
   "execution_count": null,
   "metadata": {
    "vscode": {
     "languageId": "wolfram"
    }
   },
   "outputs": [
    {
     "data": {
      "text/html": [
       "<div><pre style=\"&#102;&#111;&#110;&#116;&#45;&#102;&#97;&#109;&#105;&#108;&#121;&#58;&#32;&#34;&#67;&#111;&#117;&#114;&#105;&#101;&#114;&#32;&#78;&#101;&#119;&#34;&#44;&#67;&#111;&#117;&#114;&#105;&#101;&#114;&#44;&#109;&#111;&#110;&#111;&#115;&#112;&#97;&#99;&#101;&#59;\">&#49;&#50;&#48;</pre></div>"
      ],
      "text/plain": [
       "120"
      ]
     },
     "metadata": {},
     "output_type": "display_data"
    }
   ],
   "source": [
    "f = If[#==0 , 1 , # f[#-1]] &; (* #和f 中间空格表示乘号 *)\n",
    "f[5] (* 5!=120 *)"
   ]
  },
  {
   "cell_type": "code",
   "execution_count": null,
   "metadata": {
    "vscode": {
     "languageId": "wolfram"
    }
   },
   "outputs": [
    {
     "data": {
      "text/html": [
       "<style>\n",
       "\t\t\t\t\t\t\t\t\t\t\t\t\t.grid-container {\n",
       "\t\t\t\t\t\t\t\t\t\t\t\t\t\tdisplay: inline-grid;\n",
       "\t\t\t\t\t\t\t\t\t\t\t\t\t\tgrid-template-columns: auto;\n",
       "\t\t\t\t\t\t\t\t\t\t\t\t\t}\n",
       "\t\t\t\t\t\t\t\t\t\t\t\t</style>\n",
       "\n",
       "\t\t\t\t\t\t\t\t\t\t\t\t<div><div class=\"grid-container\"><div class=\"grid-item\"><img alt=\"Output\" src=\"data:image/png;base64,iVBORw0KGgoAAAANSUhEUgAAAPQAAAAVCAIAAAD+VVSOAAAA0HpUWHRSYXcgcHJvZmlsZSB0eXBlIGV4aWYAAHjabU/ZbUQhEPunii1hDvBAObxdnpQOUv6aBSUiihFj4zmANL6/7vSYMJWUS1Q0QIjccrNOUWVhsUr7xA/uvHN6+knL9jut8pvA2P51+oHFVv8MElvC5w3Uvm+MPcht+drX+dr11ms9B11yAPLz9H/P2cNQoJEZs0kEGnVNlCQUkxK48QRYqHiZ5Cd5IIJtiFnhfTZO2IizeiQ4jdf8gs+dvbtydWqwVcmdmWAsLnbtrPj8zht77Frfo6LwLgAAAAlwSFlzAAAOxAAADsQBlSsOGwAAADx0RVh0U29mdHdhcmUAQ3JlYXRlZCB3aXRoIHRoZSBXb2xmcmFtIExhbmd1YWdlIDogd3d3LndvbGZyYW0uY29tXKKmhQAAACF0RVh0Q3JlYXRpb24gVGltZQAyMDI0OjExOjI2IDEyOjA3OjUwH1BKPAAAA8dJREFUaIHtmz1uszAYx5+86jE6VJhTVJChQ8wBOgSmTpFgrmDp2MUcoKydQo4QumJ16BkC6k3oYMUvxXw6JqERvwkFf/z/YPt5bNpFURQwM3ON/Lu0gJmZsZgH98zVMg/umatl2ODWdX1xhFI6kqaJMNQspfTvPparfLPVwZ3n+WKx0HVdLGpZFgAURwzDKN/lT2c8re2oFdBuVnl3Q5nNcjzPa5yQxW9c1y0aAIA4jpvuYoybbp2TFv2DaDdb1PlN0xQA0jRVIqAPFzR7ftrN1iqsWblr50fT71fJbPbPoWma+OM5NpSWZfF8LgxDiRZY6CnXZa1N88XwMOp5nlz1SloYhuE0zbIklsFyGwkWAsqS/s7lHSEk1hKLNUUujDGP1KcEbtd1ASDLMn7dVEyicU5Ps0VzWgLHEJ9lGXSF+1riOK48JYQQIUQseUGzXCc3GMexhFmxo1qnRZfZ2rvdg5vR+ap6pmUA0KS+E4wxQkh892WUpKF9xmXT4C7XwhjLZasIIW6ENctmdYULmq2IVAIhBCHUdFdicP9KS3a73cPDg2QIaKAcuU7cbu/3+yzLbNsmhIg7+olwe3vLrzVNOxwOEo1sNpsoitj1drt1Xbc2p7wgeZ5nWeY4jsIGgyD4+PiQq+44jpjx/h/clFLbtu/v7+UFCuR5XpnfJ7bGLr6/vxWImzCPj48AsNvtACCKoufn50srGp3VakUIkZ7DhmEEQVAZ3zfl20VReJ6ncFH8+voCAFXvhs0Tx3FM01wul+v1Wkmz45Hn+Wq1kqioaZrruu/v7wCAMZ7asg3H04nPz08lo8XzPF3Xfd8/pQVx6ex7FCgHi9FsiANAbVrSc4NsWRZC6O3tzTAMQoht20P31Gf+/BaGYZIklYndX4PjOEmS2Lb98vIi0fsZzBJCgiDgXVBKWagZKoNSGkXRfr9XrnDco0A+EJnJNE0xxpUy7JftdtvSjq7rSZKwlQwAfN9HCJmmOejl9enoFNgaZpomMxsEQVEUlUW3vwbDMBBCCCG5pXFsswDg+34cx9zv6+urGEv7yDBNE34fCModoYrcdBcBAABN0+QyZt/3y+FGnKBPT09Jktzd3bU0Im7LJDZqfTpiSJvtrNVfA2Oz2UjIGNSRtFkAWK/X7clhHxkn7sTaGHTg0oL0F1p22ipXV6RFv9qOpM/4empg557tZSZuVq2MU48CAWC5XDb94VQ7h8Nh6GEf++4IiuYu+y7IT9DG64gx1G9/DbzZlug0cbNqZbSYLXckslD4CGZmJsX8zwozV8sPqMnOBkyKaqgAAAAASUVORK5CYII=\"></div><div class=\"grid-item\"><img alt=\"Output\" src=\"data:image/png;base64,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\"></div><div class=\"grid-item\"><img alt=\"Output\" src=\"data:image/png;base64,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\"></div><div class=\"grid-item\"><img alt=\"Output\" src=\"data:image/png;base64,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\"></div><div class=\"grid-item\"><img alt=\"Output\" src=\"data:image/png;base64,iVBORw0KGgoAAAANSUhEUgAAALEAAAAVCAIAAACGxphqAAAAz3pUWHRSYXcgcHJvZmlsZSB0eXBlIGV4aWYAAHjabU/rjYMhDPvPFDdCSIID4/C1VOoGHf9MQXeiqhGxcR5AGq/nI/1MaJbkJSoaIIQ3b9opqiwsztLe8Y1rM8+Hn3LZfqdV/hMY279OP7BY68cg0SVs3kBtvhv2INPl575ftOu113oOuuQA5O/pX89uoSjI4YyuEoFGXRMlCUWlBB64ASzMuKv4jTwQwTbErLA+Gyd0xFk9EozGfX7B5nbrlrk6NdiayZ2ZYCwmeu2s2PzOL3GZWth+dchOAAAACXBIWXMAAA7EAAAOxAGVKw4bAAAAPHRFWHRTb2Z0d2FyZQBDcmVhdGVkIHdpdGggdGhlIFdvbGZyYW0gTGFuZ3VhZ2UgOiB3d3cud29sZnJhbS5jb21coqaFAAAAIXRFWHRDcmVhdGlvbiBUaW1lADIwMjQ6MTE6MjYgMTI6MDc6NTAfUEo8AAACuUlEQVRoge2aMa7jIBCG8WpPEaWIjI9hpSXHSIvrKHewT5HOV4hr5xi2q9yDLUaL2MFgPPDeW0V83eOFPwP8M4yTFEoplskY/PrpADL/HdkTGUz2RAaTPZHBYE8sy1IURVVV9qCG/GZVVWkR9BZkLpdLURRN08SHBCzLQg6maZpIna7rCgvyXpmr67puNdrX64WnqX+RUqKReZ4ZY+M4wp+cc865ikYIEa/T9z2swg47EM5527aRYai/u0QOwwPnnCZrThzHkTG2ulIhBBrBnrBfgYBj0BYhAzrzPMeIwImSd02l84QQ4isMQd5tMIE50RWhPbi7nzgej3uneCjLkjy367p5nu/3e8J4aCzLMgzD7XZLrvx4PIQQdV3vnXg4HBhj7/dbj0zTdDqdgiYjj2zWibZtWXR+K6WYo5QFArW673sVUV1hrmc3AoFs1hcZS3SJ2Lm+Cyml3mRYputlaGSfJ+AkNn3jQZ9BZDMhpdRhxHjCRAhBszvkiY4Bdin+SopvucBV/iPb8ETf9/6VxCQTAvaRlgQogVJ5QlGrF6zFHJFSJjlOKIQ0oE6AxeHgVu0+jiNaMjP/5z8kSPH4W8MUjO+oY3RsaGUfbg1zBDrfmEgii4TdnHLOXdUCZcL2s6hWTGsIRe35oTKvElmuzR5lF3Y6mVcbOZKY5dhtn8tkxH4CLlpPCYEj2XURQGVLIrVaJwg6rns3RMrccVfFDQ/JtTnhOhADanECn0W3PaH7FBPkODCNv+qi/Ha9OEQKseqJQB0zJFeFCJSCl3lu7kAdz+dLBJ3NImrr/HbVYU1d12rrNxbX63UYBv/jb1mWmzqBUohpmsg6CUN6Pp9JdDY3PJWOk03XhOB5/P0pqQ8OKeHSVMjnmOfzedeXLvA9CgtLuO+R+uCQEi7NVEMUSdQzn0T+/UQG8weglZ5REuEQtgAAAABJRU5ErkJggg==\"></div></div></div>"
      ],
      "text/plain": [
       "{f[a, x], f[b, y], f[c, z]}\n",
       "{f[{1, 2, 3}], f[{4, 5, 6}], f[{7, 8, 9}]}\n",
       "{f[{1, 2, 3}], f[{2, 3, 4}], f[{3, 4, 5}], f[{4, 5, 6}], f[{5, 6, 7}], f[{6, 7, 8}], \n",
       " \n",
       ">   f[{7, 8, 9}]}\n",
       "{f[{1, 2, 3}], f[{2, 3, 4}], f[{3, 4, 5}], f[{4, 5, 6}], f[{5, 6, 7}], f[{6, 7, 8}], \n",
       " \n",
       ">   f[{7, 8, 9}]}\n",
       "{2, 3, 4, 5, 6, 7, 8}"
      ]
     },
     "metadata": {},
     "output_type": "display_data"
    }
   ],
   "source": [
    "Clear[f]\n",
    "MapThread[f,{{a,b,c},{x,y,z}}]\n",
    "BlockMap[f,{1,2,3,4,5,6,7,8,9}, 3]\n",
    "\n",
    "BlockMap[f,{1,2,3,4,5,6,7,8,9}, 3,1]\n",
    "ArrayFilter[f,{1,2,3,4,5,6,7,8,9}, 1, Padding->None]\n",
    "ArrayFilter[Mean,{1,2,3,4,5,6,7,8,9}, 1, Padding->None] "
   ]
  },
  {
   "cell_type": "markdown",
   "metadata": {},
   "source": [
    "## Coding Theory & Information\n",
    "symbols<->info, data storage/compression/transmission/cryptography, error detection/correction to protect information"
   ]
  },
  {
   "cell_type": "markdown",
   "metadata": {},
   "source": [
    "## Data analysis\n",
    "Visualisation, Simulation"
   ]
  },
  {
   "cell_type": "markdown",
   "metadata": {},
   "source": [
    "## Statistics & Probability Theory\n",
    "Descriptive, Inferential, Correlation & Regression, Sample Spaces (countable VS. uncountable), Conditional Probability, Random Variable"
   ]
  },
  {
   "cell_type": "markdown",
   "metadata": {},
   "source": [
    "Discrete approach through \n",
    "- combinatorics\n",
    "\n",
    "Continuous approach through \n",
    "- measure theory (e.g. modelling Stochastic Processes)正态分布，是一种模型，对binomial分布进行模拟\n"
   ]
  },
  {
   "cell_type": "markdown",
   "metadata": {},
   "source": [
    "## Game Theory & Decision & Operation\n",
    "Utilities/Strategies, Decision Analysis, Optimization, Stochastic Process Modeling"
   ]
  },
  {
   "cell_type": "markdown",
   "metadata": {},
   "source": [
    "## Quantum Theory\n",
    "\n",
    "This is cornerstone of modern physics, with deep roots in Linear Algebra, Functional Analysis, DE, Complex Analysis, Group Theory, Probability & Statistics, Topology, Measure and Variational Calculus\n"
   ]
  }
 ],
 "metadata": {
  "language_info": {
   "name": "python"
  }
 },
 "nbformat": 4,
 "nbformat_minor": 2
}
