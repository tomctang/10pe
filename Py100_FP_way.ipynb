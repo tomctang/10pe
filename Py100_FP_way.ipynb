{
 "cells": [
  {
   "cell_type": "markdown",
   "metadata": {},
   "source": [
    "Using Functional Programming to solve PE problems\n",
    "\n",
    "Python FP resources: 1. [SageMath-FP4Mathematicians](https://doc.sagemath.org/html/en/thematic_tutorials/functional_programming.html#); \n",
    "2. [adabeat - FP in Python](https://adabeat.com/fp/functional-programming-in-python/?_gl=1*qsc6fw*_up*MQ..*_ga*MjAzMjkwMTE5MC4xNzMwOTQxODgx*_ga_6RQG15HSGT*MTczMDk0MTg4MC4xLjAuMTczMDk0MTg4MC4wLjAuMA..); \n",
    "3. [adabeat - Ease into](https://adabeat.com/fp/ease-into-functional-programming/?_gl=1*1r4s1nz*_up*MQ..*_ga*NDgxNzc4NDQ0LjE3MzA4MTAwMTg.*_ga_6RQG15HSGT*MTczMDgxMDAxNy4xLjAuMTczMDgxMDAxNy4wLjAuMA..); \n",
    "\n",
    "\n",
    "#### Project Euler Questions 1-100"
   ]
  },
  {
   "cell_type": "code",
   "execution_count": null,
   "metadata": {},
   "outputs": [],
   "source": [
    "#30 FP way\n",
    "def fifth1(num):\n",
    "    return num == sum(int(digit) ** 5 for digit in str(num))\n",
    "\n",
    "sum_num1 = sum(n for n in range(2, 1000000) if fifth1(n))\n",
    "sum_num1"
   ]
  },
  {
   "cell_type": "code",
   "execution_count": null,
   "metadata": {},
   "outputs": [],
   "source": [
    "#34 FP way\n",
    "from math import factorial\n",
    "\n",
    "factorials = {str(d): factorial(d) for d in range(10)} # Precompute factorials for digits 0-9\n",
    "def is_digit_factorial(num):\n",
    "    return num == sum(factorials[digit] for digit in str(num))\n",
    "\n",
    "sum_num = sum(n for n in range(10, 1850000) if is_digit_factorial(n))\n",
    "sum_num"
   ]
  },
  {
   "cell_type": "code",
   "execution_count": null,
   "metadata": {},
   "outputs": [],
   "source": [
    "#35 FP\n",
    "from sympy import isprime  # how can we use Jonny-defined function here? \n",
    "\n",
    "def rotations(num):  # Function to get all rotations of a number\n",
    "    s = str(num)\n",
    "    return [int(s[i:] + s[:i]) for i in range(len(s))]\n",
    "\n",
    "def is_circular_prime(num):\n",
    "    return all(isprime(rot) for rot in rotations(num))\n",
    "\n",
    "circular_primes = [n for n in range(2, 999999) if is_circular_prime(n)]\n",
    "circular_primes "
   ]
  },
  {
   "cell_type": "code",
   "execution_count": null,
   "metadata": {},
   "outputs": [],
   "source": [
    "#69 FP   欧拉函数Euler's Totient Function\n",
    "from sympy import totient\n",
    "\n",
    "seq = [n / totient(n) for n in range(1, 1000000)] # Generate the sequence using the totient function\n",
    "max_value    = max(seq)\n",
    "max_position = [i + 1 for i, value in enumerate(seq) if value == max_value]\n",
    "max_position"
   ]
  },
  {
   "cell_type": "code",
   "execution_count": null,
   "metadata": {},
   "outputs": [],
   "source": [
    "#71 Ordered Fractions \n",
    "from math import floor\n",
    "target = 3/7\n",
    "\n",
    "pairs = [( floor(deno*target) , deno ) for deno in range(2, 1000000)]\n",
    "\n",
    "fracs = [( n, deno ) for n, deno in pairs if (n/deno)<target]  # Filter fractions < target\n",
    "\n",
    "maxFrac = max(fracs, key=lambda frac: frac[0]/frac[1] )\n",
    "maxFrac"
   ]
  },
  {
   "cell_type": "code",
   "execution_count": 4,
   "metadata": {},
   "outputs": [
    {
     "data": {
      "text/plain": [
       "288725"
      ]
     },
     "execution_count": 4,
     "metadata": {},
     "output_type": "execute_result"
    }
   ],
   "source": [
    "#187\n",
    "from sympy import factorint\n",
    "limit = 999999\n",
    "count_two_prime_factors = sum(1 for n in range(3, limit ) if len(factorint(n)) == 2)\n",
    "count_two_prime_factors"
   ]
  }
 ],
 "metadata": {
  "kernelspec": {
   "display_name": "base",
   "language": "python",
   "name": "python3"
  },
  "language_info": {
   "codemirror_mode": {
    "name": "ipython",
    "version": 3
   },
   "file_extension": ".py",
   "mimetype": "text/x-python",
   "name": "python",
   "nbconvert_exporter": "python",
   "pygments_lexer": "ipython3",
   "version": "3.10.14"
  }
 },
 "nbformat": 4,
 "nbformat_minor": 2
}
