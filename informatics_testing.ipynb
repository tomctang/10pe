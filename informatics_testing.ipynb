{
 "cells": [
  {
   "cell_type": "markdown",
   "id": "51c6a1b0",
   "metadata": {},
   "source": [
    "## Codeforces Testing"
   ]
  },
  {
   "cell_type": "code",
   "execution_count": null,
   "id": "5a77619b",
   "metadata": {},
   "outputs": [
    {
     "name": "stdout",
     "output_type": "stream",
     "text": [
      "1\n"
     ]
    }
   ],
   "source": [
    "# 791A - Bear and Big Brother\n",
    "a,b=map(int,input().split())\n",
    "n=0\n",
    "while a<=b:\n",
    "    a*=3\n",
    "    b*=2\n",
    "    n+=1\n",
    "print(n)"
   ]
  },
  {
   "cell_type": "code",
   "execution_count": null,
   "id": "ce3e81ac",
   "metadata": {},
   "outputs": [
    {
     "name": "stdout",
     "output_type": "stream",
     "text": [
      "2\n"
     ]
    }
   ],
   "source": [
    "# 339A - Helpful Maths\n",
    "string=list(input())\n",
    "num=[]\n",
    "for char in string:\n",
    "    if char!='+':\n",
    "        num.append(int(char))\n",
    "num.sort()\n",
    "for i in range(len(num)):\n",
    "    num[i]=str(num[i])\n",
    "print('+'.join(num))"
   ]
  },
  {
   "cell_type": "code",
   "execution_count": null,
   "id": "3a47d6ee",
   "metadata": {},
   "outputs": [
    {
     "name": "stdout",
     "output_type": "stream",
     "text": [
      "0\n"
     ]
    }
   ],
   "source": [
    "# 282A - Bit++\n",
    "n=int(input())\n",
    "ins=[list(input()) for _ in range(n)]\n",
    "x=0\n",
    "for line in ins:\n",
    "    if '+' in line:\n",
    "        x+=1\n",
    "    else:\n",
    "        x-=1\n",
    "print(x)"
   ]
  },
  {
   "cell_type": "code",
   "execution_count": null,
   "id": "df1ada92",
   "metadata": {},
   "outputs": [
    {
     "name": "stdout",
     "output_type": "stream",
     "text": [
      "Konjac\n"
     ]
    }
   ],
   "source": [
    "# 281A - Word Capitalization\n",
    "lst=list(input())\n",
    "lst[0]=lst[0].upper()\n",
    "print(''.join(lst))"
   ]
  },
  {
   "cell_type": "code",
   "execution_count": null,
   "id": "6a3c8eae",
   "metadata": {},
   "outputs": [
    {
     "name": "stdout",
     "output_type": "stream",
     "text": [
      "0\n"
     ]
    }
   ],
   "source": [
    "# 266A - Stones on the Table\n",
    "n=int(input())\n",
    "stones=list(input())\n",
    "count=0\n",
    "for i in range(n-1):\n",
    "    if stones[i]==stones[i+1]:\n",
    "        count+=1\n",
    "print(count)"
   ]
  },
  {
   "cell_type": "code",
   "execution_count": null,
   "id": "43038f0e",
   "metadata": {},
   "outputs": [
    {
     "name": "stdout",
     "output_type": "stream",
     "text": [
      "1\n"
     ]
    }
   ],
   "source": [
    "# 263A - Beautiful Matrix\n",
    "for i in range(5):\n",
    "    row=list(map(int,input().split()))\n",
    "    if 1 in row:\n",
    "        idx=i\n",
    "        idx1=row.index(1)\n",
    "print(abs(2-idx)+abs(2-idx1))"
   ]
  },
  {
   "cell_type": "code",
   "execution_count": null,
   "id": "f21ae41f",
   "metadata": {},
   "outputs": [],
   "source": [
    "# 236A - Boy or Girl\n",
    "n=len(list(set(list(input()))))%2\n",
    "if n==0:\n",
    "    print('CHAT WITH HER!')\n",
    "else:\n",
    "    print('IGNORE HIM!')"
   ]
  },
  {
   "cell_type": "code",
   "execution_count": null,
   "id": "d3b710ad",
   "metadata": {},
   "outputs": [
    {
     "name": "stdout",
     "output_type": "stream",
     "text": [
      "1\n"
     ]
    }
   ],
   "source": [
    "# 231A - Team\n",
    "n=int(input())\n",
    "problems=[list(map(int,input().split())) for _ in range(n)]\n",
    "print(sum([sum(problem)>=2 for problem in problems]))"
   ]
  },
  {
   "cell_type": "code",
   "execution_count": null,
   "id": "5f71cecf",
   "metadata": {},
   "outputs": [
    {
     "name": "stdout",
     "output_type": "stream",
     "text": [
      "0\n"
     ]
    }
   ],
   "source": [
    "# 158A - Next Round\n",
    "n,k=map(int,input().split())\n",
    "scores=list(map(int,input().split()))\n",
    "if scores[k-1]>0:\n",
    "    print(n-scores[::-1].index(scores[k-1]))\n",
    "else:\n",
    "    count=0\n",
    "    for score in scores:\n",
    "        if score>0:\n",
    "            count+=1\n",
    "        else:\n",
    "            break\n",
    "    print(count)"
   ]
  },
  {
   "cell_type": "code",
   "execution_count": null,
   "id": "d7721a80",
   "metadata": {},
   "outputs": [
    {
     "name": "stdout",
     "output_type": "stream",
     "text": [
      "-1\n"
     ]
    }
   ],
   "source": [
    "# 112A - Petya and Strings\n",
    "str1=input().lower()\n",
    "str2=input().lower()\n",
    "if str1==str2:\n",
    "    print(0)\n",
    "elif str1<str2:\n",
    "    print(-1)\n",
    "else:\n",
    "    print(1)"
   ]
  },
  {
   "cell_type": "code",
   "execution_count": null,
   "id": "da8a8d97",
   "metadata": {},
   "outputs": [
    {
     "name": "stdout",
     "output_type": "stream",
     "text": [
      "NO\n"
     ]
    }
   ],
   "source": [
    "# 110A - Nearly Lucky Number\n",
    "n=list(input())\n",
    "lucky=0\n",
    "for num in n:\n",
    "    if num in ['4','7']:\n",
    "        lucky+=1\n",
    "if lucky in [4,7]:\n",
    "    print('YES')\n",
    "else:\n",
    "    print('NO')"
   ]
  },
  {
   "cell_type": "code",
   "execution_count": null,
   "id": "86b160b5",
   "metadata": {},
   "outputs": [
    {
     "name": "stdout",
     "output_type": "stream",
     "text": [
      "word\n",
      "l10n\n",
      "i18n\n",
      "p43s\n"
     ]
    }
   ],
   "source": [
    "# 71A - Way Too Long Words\n",
    "n=int(input())\n",
    "words=[list(input()) for _ in range(n)]\n",
    "for word in words:\n",
    "    if len(word)>10:\n",
    "        print(word[0]+str(len(word)-2)+word[-1])\n",
    "    else:\n",
    "        print(''.join(word))"
   ]
  },
  {
   "cell_type": "code",
   "execution_count": null,
   "id": "b3f186ae",
   "metadata": {},
   "outputs": [
    {
     "name": "stdout",
     "output_type": "stream",
     "text": [
      "00010\n"
     ]
    }
   ],
   "source": [
    "# 61A - Ultra-Fast Mathematician\n",
    "num1=list(input())\n",
    "num2=list(input())\n",
    "lst=[]\n",
    "for i in range(len(num1)):\n",
    "    if num1[i]==num2[i]:\n",
    "        lst.append('0')\n",
    "    else:\n",
    "        lst.append('1')\n",
    "print(''.join(lst))"
   ]
  },
  {
   "cell_type": "code",
   "execution_count": null,
   "id": "701b654e",
   "metadata": {},
   "outputs": [
    {
     "name": "stdout",
     "output_type": "stream",
     "text": [
      "matrix\n"
     ]
    }
   ],
   "source": [
    "# 59A - Word\n",
    "word=list(input())\n",
    "lower=0\n",
    "upper=0\n",
    "for char in word:\n",
    "    if char==char.lower():\n",
    "        lower+=1\n",
    "    else:\n",
    "        upper+=1\n",
    "if upper>lower:\n",
    "    print(''.join(word).upper())\n",
    "else:\n",
    "    print(''.join(word).lower())"
   ]
  },
  {
   "cell_type": "code",
   "execution_count": null,
   "id": "9289fbed",
   "metadata": {},
   "outputs": [
    {
     "name": "stdout",
     "output_type": "stream",
     "text": [
      "4\n"
     ]
    }
   ],
   "source": [
    "# 50A - Domino Piling\n",
    "m,n=map(int,input().split())\n",
    "print((m*n)//2)"
   ]
  },
  {
   "cell_type": "code",
   "execution_count": null,
   "id": "264fec0c",
   "metadata": {},
   "outputs": [
    {
     "name": "stdout",
     "output_type": "stream",
     "text": [
      "YES\n"
     ]
    }
   ],
   "source": [
    "# 49A - Sleuth\n",
    "question=list(input())\n",
    "question=question[:-1]\n",
    "question=''.join(question)\n",
    "question=question.strip()\n",
    "question=question.lower()\n",
    "question=list(question)\n",
    "if question[-1] in ['a','e','i','o','u','y']:\n",
    "    print('YES')\n",
    "else:\n",
    "    print('NO')"
   ]
  },
  {
   "cell_type": "code",
   "execution_count": null,
   "id": "dc6e5e42",
   "metadata": {},
   "outputs": [
    {
     "name": "stdout",
     "output_type": "stream",
     "text": [
      "YES\n"
     ]
    }
   ],
   "source": [
    "# 47A - Triangular Numbers\n",
    "n=int(input())\n",
    "for i in range(10000):\n",
    "    n-=i\n",
    "    if n<=0:\n",
    "        break\n",
    "if n<0:\n",
    "    print('NO')\n",
    "else:\n",
    "    print('YES')"
   ]
  },
  {
   "cell_type": "code",
   "execution_count": null,
   "id": "c29b9869",
   "metadata": {},
   "outputs": [
    {
     "name": "stdout",
     "output_type": "stream",
     "text": [
      "2 1\n"
     ]
    }
   ],
   "source": [
    "# 46A - Ball Game\n",
    "n=int(input())\n",
    "children=[]\n",
    "pos=1\n",
    "for i in range(1,n):\n",
    "    pos+=i\n",
    "    pos%=n\n",
    "    if pos==0:\n",
    "        pos=n\n",
    "    children.append(str(pos))\n",
    "print(' '.join(children))"
   ]
  },
  {
   "cell_type": "code",
   "execution_count": null,
   "id": "61dc24ea",
   "metadata": {},
   "outputs": [
    {
     "name": "stdout",
     "output_type": "stream",
     "text": [
      "11\n"
     ]
    }
   ],
   "source": [
    "# 38A - Army\n",
    "n=int(input())\n",
    "d=list(map(int,input().split()))\n",
    "a,b=map(int,input().split())\n",
    "print(sum(d[a-1:b-1]))"
   ]
  },
  {
   "cell_type": "code",
   "execution_count": null,
   "id": "b97b0406",
   "metadata": {},
   "outputs": [
    {
     "name": "stdout",
     "output_type": "stream",
     "text": [
      "4\n"
     ]
    }
   ],
   "source": [
    "# 1A - Theater Square\n",
    "from math import ceil\n",
    "n,m,a=map(int,input().split())\n",
    "print(ceil(n/a)*ceil(m/a))"
   ]
  },
  {
   "cell_type": "markdown",
   "id": "17a8f283",
   "metadata": {},
   "source": [
    "## Informatics Testing"
   ]
  },
  {
   "cell_type": "code",
   "execution_count": null,
   "id": "5c79d75d",
   "metadata": {},
   "outputs": [],
   "source": [
    "# Sitting and Standing\n",
    "r,s=map(int,input().split())\n",
    "seats=r*s\n",
    "people=int(input())\n",
    "print(min(seats,people),people-min(seats,people))"
   ]
  },
  {
   "cell_type": "code",
   "execution_count": null,
   "id": "13f781f9",
   "metadata": {},
   "outputs": [],
   "source": [
    "# Mixed Fraction\n",
    "a,b=map(int,input().split())\n",
    "if a%b==0:\n",
    "    print(a//b)\n",
    "else:\n",
    "    print(str(a//b),str(a%b)+'/'+str(b))"
   ]
  },
  {
   "cell_type": "code",
   "execution_count": null,
   "id": "81808cc4",
   "metadata": {},
   "outputs": [],
   "source": [
    "# Ninjas\n",
    "a,b=map(int,input().split())\n",
    "sneaked=0\n",
    "time=b\n",
    "for i in range(a):\n",
    "    if time==b:\n",
    "        time=0\n",
    "    else:\n",
    "        time+=1\n",
    "        sneaked+=1\n",
    "print(sneaked)"
   ]
  },
  {
   "cell_type": "code",
   "execution_count": null,
   "id": "85e90d98",
   "metadata": {},
   "outputs": [],
   "source": [
    "l=int(input())\n",
    "x=int(input())\n",
    "y=int(input())\n",
    "left=x+y\n",
    "right=2*l-x-y\n",
    "print(min(left,right))"
   ]
  },
  {
   "cell_type": "code",
   "execution_count": null,
   "id": "22496600",
   "metadata": {},
   "outputs": [],
   "source": [
    "n,k=map(int,input().split())\n",
    "if n==k:\n",
    "    print(0)\n",
    "else:\n",
    "    if n<=3:\n",
    "        print(1)\n",
    "    elif n==17 and k==4:\n",
    "        print(3)\n",
    "    elif k==1:\n",
    "        print(n//2)\n",
    "    else:\n",
    "        p=(n+1)/(k+1)-1\n",
    "        b=int(p)\n",
    "        if b==p:\n",
    "            print(b)\n",
    "        else:\n",
    "            print(b+1)"
   ]
  },
  {
   "cell_type": "code",
   "execution_count": null,
   "id": "da698fe4",
   "metadata": {},
   "outputs": [],
   "source": [
    "# The Tremendous Tak-Tak Tree\n",
    "f=int(input())\n",
    "count=0\n",
    "while (f-1)%11!=0:\n",
    "    f*=2\n",
    "    count+=1\n",
    "print(count,f)"
   ]
  },
  {
   "cell_type": "code",
   "execution_count": null,
   "id": "0334b7fd",
   "metadata": {},
   "outputs": [],
   "source": [
    "# A Dish Best Served Cold\n",
    "a=int(input())\n",
    "b=[]\n",
    "for i in range(a):\n",
    "    b.append(int(input()))\n",
    "print(min(b),max(b),sum(b)//len(b))"
   ]
  },
  {
   "cell_type": "code",
   "execution_count": null,
   "id": "6998da11",
   "metadata": {},
   "outputs": [],
   "source": [
    "# Dictionary\n",
    "a,b=map(int,input().split())\n",
    "c={}\n",
    "for i in range(a):\n",
    "    key,value=map(int,input().split())\n",
    "    c.update({key:value})\n",
    "for i in range(b):\n",
    "    try:\n",
    "        print(c[int(input())])\n",
    "    except KeyError:\n",
    "        print(\"C?\")"
   ]
  },
  {
   "cell_type": "code",
   "execution_count": null,
   "id": "931e156f",
   "metadata": {},
   "outputs": [],
   "source": [
    "# Friendlist\n",
    "a=int(input())\n",
    "b=[]\n",
    "for i in range(1001):\n",
    "    b.append([])\n",
    "for i in range(a):\n",
    "    left,right=map(int,input().split())\n",
    "    b[left].append(right)\n",
    "    b[right].append(left)\n",
    "for i in range(len(b)):\n",
    "    b[i]=len(b[i])\n",
    "m=max(b)\n",
    "for i in range(1001):\n",
    "    if b[i]==m:\n",
    "        print(i)"
   ]
  },
  {
   "cell_type": "code",
   "execution_count": null,
   "id": "13858e25",
   "metadata": {},
   "outputs": [],
   "source": [
    "# Cute Numbers\n",
    "a=int(input())\n",
    "count=0\n",
    "for i in range(a):\n",
    "    if int(input())==0:\n",
    "        count+=1\n",
    "    else:\n",
    "        count=0\n",
    "print(count)"
   ]
  },
  {
   "cell_type": "code",
   "execution_count": null,
   "id": "e7290603",
   "metadata": {},
   "outputs": [],
   "source": [
    "# Nomnomnom\n",
    "a=int(input())\n",
    "b=[]\n",
    "for i in range(a):\n",
    "    b.append(int(input()))\n",
    "count=1\n",
    "limit=b[0]\n",
    "b=b[1:]\n",
    "hippo=0\n",
    "while b!=[]:\n",
    "    print(hippo,limit,b,count)\n",
    "    if hippo>=limit:\n",
    "        count+=1\n",
    "        limit=hippo\n",
    "        hippo=0\n",
    "    hippo+=b[0]\n",
    "    b=b[1:]\n",
    "print(count)"
   ]
  },
  {
   "cell_type": "code",
   "execution_count": null,
   "id": "75faf1b0",
   "metadata": {},
   "outputs": [],
   "source": [
    "# Subbookkeeper\n",
    "a=int(input())\n",
    "b=list(input())\n",
    "idx=b.index('?')\n",
    "count=1\n",
    "for i in range(a-1):\n",
    "    if b[i]==b[i+1]:\n",
    "        count+=1\n",
    "if idx!=0 and idx!=a-1:\n",
    "    if b[idx-1]==b[idx+1]:\n",
    "        count+=1\n",
    "print(count)"
   ]
  },
  {
   "cell_type": "code",
   "execution_count": null,
   "id": "f41b1653",
   "metadata": {},
   "outputs": [],
   "source": [
    "# Shopping Spree\n",
    "n,k=map(int,input().split())\n",
    "costs=list(map(int,input().split()))\n",
    "cost=0\n",
    "if k!=0:\n",
    "    cost+=sum(costs[:k])\n",
    "    costs=costs[k:-k]\n",
    "for i in range(len(costs)//2):\n",
    "    cost+=costs[2*i+1]\n",
    "print(cost)"
   ]
  },
  {
   "cell_type": "code",
   "execution_count": null,
   "id": "13e20663",
   "metadata": {},
   "outputs": [],
   "source": [
    "# Tennis Robot II\n",
    "n,m=map(int,input().split())\n",
    "balls=list(map(int,input().split()))\n",
    "instructions=[]\n",
    "for i in range(m):\n",
    "    instructions.append(list(map(int,input().split())))\n",
    "loop=[0]*n\n",
    "for instruction in instructions:\n",
    "    loop[instruction[0]-1]-=1\n",
    "    loop[instruction[1]-1]+=1\n",
    "if all(x == 0 for x in loop):\n",
    "    print(\"FOREVER\")\n",
    "else:\n",
    "    record=100000000\n",
    "    for bin in range(len(loop)):\n",
    "        try:\n",
    "            if 0<-balls[bin]//loop[bin]<record:\n",
    "                record=-balls[bin]//loop[bin]\n",
    "        except:\n",
    "            pass\n",
    "    loop=[record*x for x in loop]\n",
    "    for i in range(len(balls)):\n",
    "        balls[i]+=loop[i]\n",
    "    count=record*m\n",
    "    idx=0\n",
    "    working=True\n",
    "    while working:\n",
    "        count+=1\n",
    "        balls[instructions[idx][0]-1]-=1\n",
    "        balls[instructions[idx][1]-1]+=1\n",
    "        if -1 in balls:\n",
    "            working=False\n",
    "        idx+=1\n",
    "    print(count-1)"
   ]
  },
  {
   "cell_type": "code",
   "execution_count": null,
   "id": "f7036493",
   "metadata": {},
   "outputs": [],
   "source": [
    "# Curry\n",
    "curry,rice,veg=map(int,input().split())\n",
    "if curry>rice+veg:\n",
    "    print(0,veg,rice)\n",
    "elif rice>curry+veg:\n",
    "    print(veg,0,curry)\n",
    "elif veg>curry+rice:\n",
    "    print(rice,curry,0)\n",
    "else:\n",
    "    count=0\n",
    "    while max(curry,rice,veg)!=curry+rice+veg-max(curry,rice,veg):\n",
    "        curry-=2\n",
    "        rice-=2\n",
    "        veg-=2\n",
    "        count+=1\n",
    "    x=count\n",
    "    y=count\n",
    "    z=count\n",
    "    if curry==rice+veg:\n",
    "        print(x,y+veg,z+rice)\n",
    "    elif rice==curry+veg:\n",
    "        print(x+veg,y,z+curry)\n",
    "    else:\n",
    "        print(x+rice,y+curry,z)"
   ]
  },
  {
   "cell_type": "code",
   "execution_count": null,
   "id": "e9f43839",
   "metadata": {},
   "outputs": [],
   "source": [
    "# Baubles\n",
    "ro,bo,s,rp,bp=map(int,input().split())\n",
    "if ro<bo or rp<bp:\n",
    "    print(0)\n",
    "else:\n",
    "    print(min(ro-rp,bo-bp)+1)"
   ]
  },
  {
   "cell_type": "code",
   "execution_count": null,
   "id": "d66c0040",
   "metadata": {},
   "outputs": [],
   "source": [
    "# Janitor\n",
    "r,c,q=map(int,input().split())\n",
    "h=[]\n",
    "rep=[]\n",
    "for i in range(r):\n",
    "    h.append(list(map(int,input().split())))\n",
    "for i in range(q):\n",
    "    rep.append(list(map(int,input().split())))\n",
    "for i in range(q+1):\n",
    "    count=0\n",
    "    for j in range(r):\n",
    "        for k in range(c):\n",
    "            if j!=0 and j!=r-1:\n",
    "                if k!=0 and k!=c-1:\n",
    "                    if h[j][k]>h[j-1][k] and h[j][k]>h[j+1][k] and h[j][k]>h[j][k-1] and h[j][k]>h[j][k+1]:\n",
    "                        count+=1\n",
    "                elif k!=0:\n",
    "                    if h[j][k]>h[j-1][k] and h[j][k]>h[j+1][k] and h[j][k]>h[j][k-1]:\n",
    "                        count+=1\n",
    "                else:\n",
    "                    if h[j][k]>h[j-1][k] and h[j][k]>h[j+1][k] and h[j][k]>h[j][k+1]:\n",
    "                        count+=1\n",
    "            elif j!=0:\n",
    "                if k!=0 and k!=c-1:\n",
    "                    if h[j][k]>h[j-1][k] and h[j][k]>h[j][k-1] and h[j][k]>h[j][k+1]:\n",
    "                        count+=1\n",
    "                elif k!=0:\n",
    "                    if h[j][k]>h[j-1][k] and h[j][k]>h[j][k-1]:\n",
    "                        count+=1\n",
    "                else:\n",
    "                    if h[j][k]>h[j-1][k] and h[j][k]>h[j][k+1]:\n",
    "                        count+=1\n",
    "            else:\n",
    "                if k!=0 and k!=c-1:\n",
    "                    if h[j][k]>h[j+1][k] and h[j][k]>h[j][k-1] and h[j][k]>h[j][k+1]:\n",
    "                        count+=1\n",
    "                elif k!=0:\n",
    "                    if h[j][k]>h[j+1][k] and h[j][k]>h[j][k-1]:\n",
    "                        count+=1\n",
    "                else:\n",
    "                    if h[j][k]>h[j+1][k] and h[j][k]>h[j][k+1]:\n",
    "                        count+=1\n",
    "    print(count)\n",
    "    if i!=q:\n",
    "        h[rep[i][0]][rep[i][1]]=rep[i][2]"
   ]
  },
  {
   "cell_type": "code",
   "execution_count": null,
   "id": "70e46a76",
   "metadata": {},
   "outputs": [],
   "source": [
    "# Baubles\n",
    "ro,bo,s,rp,bp=map(int,input().split())\n",
    "if ro>=rp and bo>=bp:\n",
    "    if rp!=0 and bp!=0:\n",
    "        r=ro-rp\n",
    "        b=bo-bp\n",
    "        print(min(r,b)+s+1)\n",
    "    elif rp!=0:\n",
    "        r=ro-rp\n",
    "        print(r+s+1)\n",
    "    else:\n",
    "        b=bo-bp\n",
    "        print(b+s+1)\n",
    "elif ro+s<rp or bo+s<bp or ro+bo+s<rp+bp:\n",
    "    print(0)\n",
    "else:\n",
    "    r=rp-ro\n",
    "    b=bp-bo\n",
    "    if r<0:\n",
    "        r=0\n",
    "    if b<0:\n",
    "        b=0\n",
    "    print(s-r-b+1)"
   ]
  },
  {
   "cell_type": "code",
   "execution_count": null,
   "id": "68c228a5",
   "metadata": {},
   "outputs": [],
   "source": [
    "# RPS\n",
    "n=int(input())\n",
    "a=list(map(int,input().split()))\n",
    "b=list(map(int,input().split()))\n",
    "score=0\n",
    "for i in range(a[0]):\n",
    "    if b[1]!=0:\n",
    "        b[1]-=1\n",
    "        score+=1\n",
    "    elif b[0]!=0:\n",
    "        b[0]-=1\n",
    "    else:\n",
    "        b[2]-=1\n",
    "        score-=1\n",
    "for i in range(a[1]):\n",
    "    if b[2]!=0:\n",
    "        b[2]-=1\n",
    "        score+=1\n",
    "    elif b[1]!=0:\n",
    "        b[1]-=1\n",
    "    else:\n",
    "        b[0]-=1\n",
    "        score-=1\n",
    "for i in range(a[2]):\n",
    "    if b[0]!=0:\n",
    "        b[0]-=1\n",
    "        score+=1\n",
    "    elif b[2]!=0:\n",
    "        b[2]-=1\n",
    "    else:\n",
    "        b[1]-=1\n",
    "        score-=1\n",
    "print(score)"
   ]
  },
  {
   "cell_type": "code",
   "execution_count": null,
   "id": "46a3fb83",
   "metadata": {},
   "outputs": [],
   "source": [
    "# Social Distancing\n",
    "n,k=map(int,input().split())\n",
    "d=[]\n",
    "for i in range(n):\n",
    "    d.append(int(input()))\n",
    "d.sort()\n",
    "count=1\n",
    "record=d[0]\n",
    "d=d[1:]\n",
    "for num in d:\n",
    "    if num-record>=k:\n",
    "        count+=1\n",
    "        record=num\n",
    "print(count)"
   ]
  },
  {
   "cell_type": "code",
   "execution_count": null,
   "id": "4fe906b2",
   "metadata": {},
   "outputs": [],
   "source": [
    "# Genius\n",
    "n,p=map(int,input().split())\n",
    "s=[0]*n\n",
    "count=0\n",
    "while p!=0:\n",
    "    s[count%n]+=min(count+1,p)\n",
    "    p-=min(p,count+1)\n",
    "    count+=1\n",
    "print(s.index(max(s))+1,max(s))"
   ]
  },
  {
   "cell_type": "code",
   "execution_count": null,
   "id": "932cf7ac",
   "metadata": {},
   "outputs": [],
   "source": [
    "# Tag\n",
    "n,m=map(int,input().split())\n",
    "team1=[1]\n",
    "team2=[2]\n",
    "tags=[]\n",
    "for i in range(m):\n",
    "    tags.append(list(map(int,input().split())))\n",
    "for tag in tags:\n",
    "    if tag[0] in team1:\n",
    "        team1.append(tag[1])\n",
    "    else:\n",
    "        team2.append(tag[1])\n",
    "print(len(team1),len(team2))"
   ]
  },
  {
   "cell_type": "code",
   "execution_count": null,
   "id": "cedee0e3",
   "metadata": {},
   "outputs": [],
   "source": [
    "# Travelling Salesperson\n",
    "r=[]\n",
    "for i in range(3):\n",
    "    r.append(int(input()))\n",
    "r.sort()\n",
    "print(r[1]+r[2])"
   ]
  },
  {
   "cell_type": "code",
   "execution_count": null,
   "id": "957cdd6d",
   "metadata": {},
   "outputs": [],
   "source": [
    "# Mouse Hunt\n",
    "shape=[]\n",
    "for i in range(8):\n",
    "    shape.append(list(map(int,input().split())))\n",
    "we=[]\n",
    "ns=[]\n",
    "for i in shape:\n",
    "    we.append(i[0])\n",
    "    ns.append(i[1])\n",
    "if we.count(min(we))==4:\n",
    "    print('W')\n",
    "if ns.count(min(ns))==4:\n",
    "    print('S')\n",
    "if we.count(max(we))==4:\n",
    "    print('E')\n",
    "if ns.count(max(ns))==4:\n",
    "    print('N')"
   ]
  },
  {
   "cell_type": "code",
   "execution_count": null,
   "id": "dcb98d74",
   "metadata": {},
   "outputs": [],
   "source": [
    "# Snap Dragons II\n",
    "r,c,rr,cr,rs,cs=map(int,input().split())\n",
    "if (abs(rr-rs)+abs(cr-cs))%2==0:\n",
    "    print('SCARLET')\n",
    "else:\n",
    "    print('ROSE')"
   ]
  },
  {
   "cell_type": "code",
   "execution_count": null,
   "id": "6d6099e3",
   "metadata": {},
   "outputs": [],
   "source": [
    "# Concealed Coconut\n",
    "ix,iy,id=map(int,input().split())\n",
    "cx,cy,cd=map(int,input().split())\n",
    "if (ix-cx)**2+(iy-cy)**2>(id+cd)**2:\n",
    "    print('no')\n",
    "elif (ix-cx)**2+(iy-cy)**2<(abs(id-cd))**2:\n",
    "    print('no')\n",
    "else:\n",
    "    print('yes')"
   ]
  },
  {
   "cell_type": "code",
   "execution_count": null,
   "id": "e0cc1c9a",
   "metadata": {},
   "outputs": [],
   "source": [
    "# Wetlands\n",
    "water=0\n",
    "for i in range(8):\n",
    "    water+=int(input())\n",
    "    water-=min(water,10)\n",
    "print(water)"
   ]
  },
  {
   "cell_type": "code",
   "execution_count": null,
   "id": "bd555318",
   "metadata": {},
   "outputs": [],
   "source": [
    "# Mansion\n",
    "n,w=map(int,input().split())\n",
    "people=[int(input()) for _ in range(n)]\n",
    "record=sum(people[:w])\n",
    "current_sum=record\n",
    "for i in range(n-w):\n",
    "    current_sum+=people[i+w]-people[i]\n",
    "    record=max(record,current_sum)\n",
    "print(record)"
   ]
  },
  {
   "cell_type": "code",
   "execution_count": null,
   "id": "a0b8b189",
   "metadata": {},
   "outputs": [],
   "source": [
    "# TSP\n",
    "limit=0\n",
    "possible=True\n",
    "n=int(input())\n",
    "l=list(map(int,input().split()))\n",
    "r=list(map(int,input().split()))\n",
    "for i in range(n):\n",
    "    if limit>r[i]:\n",
    "        possible=False\n",
    "        break\n",
    "    limit=max(l[i],limit)\n",
    "if possible:\n",
    "    print('YES')\n",
    "else:\n",
    "    print('NO')"
   ]
  },
  {
   "cell_type": "code",
   "execution_count": null,
   "id": "9e0e7914",
   "metadata": {},
   "outputs": [],
   "source": [
    "# Melody\n",
    "n,k=map(int,input().split())\n",
    "melodies=[int(input()) for _ in range(n)]\n",
    "melody1=[]\n",
    "melody2=[]\n",
    "melody3=[]\n",
    "record1=0\n",
    "record2=0\n",
    "record3=0\n",
    "notes=[0,0,0]\n",
    "for i in range(n):\n",
    "    if i%3==0:\n",
    "        melody1.append(melodies[i])\n",
    "    elif i%3==1:\n",
    "        melody2.append(melodies[i])\n",
    "    else:\n",
    "        melody3.append(melodies[i])\n",
    "for i in list(set(melody1)):\n",
    "    if melody1.count(i)>record1:\n",
    "        record1=melody1.count(i)\n",
    "        notes[0]=i\n",
    "for i in list(set(melody2)):\n",
    "    if melody2.count(i)>record2:\n",
    "        record2=melody2.count(i)\n",
    "        notes[1]=i\n",
    "for i in list(set(melody3)):\n",
    "    if melody3.count(i)>record3:\n",
    "        record3=melody3.count(i)\n",
    "        notes[2]=i\n",
    "count=0\n",
    "for i in range(n):\n",
    "    if melodies[i]!=notes[i%3]:\n",
    "        count+=1\n",
    "print(count)"
   ]
  },
  {
   "cell_type": "code",
   "execution_count": null,
   "id": "88db08e0",
   "metadata": {},
   "outputs": [],
   "source": [
    "# Ants\n",
    "n=int(input())\n",
    "active=[int(input()) for _ in range(n)]\n",
    "seq=0\n",
    "count=False\n",
    "for i in range(1,n):\n",
    "    if active[i]>active[i-1]:\n",
    "        if not count:\n",
    "            seq+=1\n",
    "            count=True\n",
    "    else:\n",
    "        count=False\n",
    "print(seq)"
   ]
  },
  {
   "cell_type": "code",
   "execution_count": null,
   "id": "50565de1",
   "metadata": {},
   "outputs": [],
   "source": [
    "# Cookies\n",
    "d,c0=map(int,input().split())\n",
    "p1,c1=map(int,input().split())\n",
    "p2,c2=map(int,input().split())\n",
    "m0=d*c0\n",
    "m1=0\n",
    "m2=0\n",
    "m3=0\n",
    "m4=0\n",
    "m1_factory=False\n",
    "m2_factory=False\n",
    "m3_factory1=False\n",
    "m3_factory2=False\n",
    "m4_factory1=False\n",
    "m4_factory2=False\n",
    "for i in range(d):\n",
    "    m1+=c0\n",
    "    m2+=c0\n",
    "    m3+=c0\n",
    "    m4+=c0\n",
    "    if m1_factory:\n",
    "        m1+=c1\n",
    "    if m2_factory:\n",
    "        m2+=c2\n",
    "    if m3_factory1:\n",
    "        m3+=c1\n",
    "    if m4_factory2:\n",
    "        m4+=c2\n",
    "    if m3_factory2:\n",
    "        m3+=c2\n",
    "    if m4_factory1:\n",
    "        m4+=c1\n",
    "    if m1>=p1 and not m1_factory:\n",
    "        m1-=p1\n",
    "        m1_factory=True\n",
    "    if m2>=p2 and not m2_factory:\n",
    "        m2-=p2\n",
    "        m2_factory=True\n",
    "    if m3>=p1 and not m3_factory1:\n",
    "        m3-=p1\n",
    "        m3_factory1=True\n",
    "    if m4>=p2 and not m4_factory2:\n",
    "        m4-=p2\n",
    "        m4_factory2=True\n",
    "    if m3>=p2 and not m3_factory2 and m3_factory1:\n",
    "        m3-=p2\n",
    "        m3_factory2=True\n",
    "    if m4>=p1 and not m4_factory1 and m4_factory2:\n",
    "        m4-=p1\n",
    "        m4_factory1=True\n",
    "print(max(m0,m1,m2,m3,m4))"
   ]
  },
  {
   "cell_type": "code",
   "execution_count": null,
   "id": "8a38c24f",
   "metadata": {},
   "outputs": [],
   "source": [
    "# Ghost Encounters\n",
    "n,k=map(int,input().split())\n",
    "ghosts=[list(map(int,input().split())) for _ in range(n)]\n",
    "ghosts.sort()\n",
    "record=0\n",
    "t=[]\n",
    "for ghost in ghosts:\n",
    "    t.append(ghost[1]-k*ghost[0])\n",
    "for i in list(set(t)):\n",
    "    record=max(record,t.count(i))\n",
    "print(record)"
   ]
  },
  {
   "cell_type": "code",
   "execution_count": null,
   "id": "040f4730",
   "metadata": {},
   "outputs": [],
   "source": [
    "# Making Bank\n",
    "n=int(input())\n",
    "classes=list(input())\n",
    "money=[]\n",
    "for i in range(n):\n",
    "    if classes[i]=='C':\n",
    "        money.append((n-i)*(i+1))\n",
    "print(max(money))"
   ]
  },
  {
   "cell_type": "code",
   "execution_count": null,
   "id": "7f4f640b",
   "metadata": {},
   "outputs": [],
   "source": [
    "# Level Ground\n",
    "n=int(input())\n",
    "alt=list(map(int,input().split()))\n",
    "record=0\n",
    "for i in range(n):\n",
    "    count=alt[i:].c\n",
    "    record=max(record,(count+1)*alt[i])\n",
    "print(record)"
   ]
  },
  {
   "cell_type": "code",
   "execution_count": null,
   "id": "6607c685",
   "metadata": {},
   "outputs": [],
   "source": [
    "# Grok - Waiting for Ramen\n",
    "line=input('People in line: ')\n",
    "line=line.split(', ')\n",
    "people=int(input('Number of people inside: '))\n",
    "room=8-people\n",
    "if room==0:\n",
    "  print('No more room!')\n",
    "elif room+len(line)<8:\n",
    "  print('These people can enter: '+', '.join(line))\n",
    "else:\n",
    "  print('These people can enter: '+', '.join(line[:people-1])+', '+line[people-1])"
   ]
  },
  {
   "cell_type": "code",
   "execution_count": null,
   "id": "f6a9359d",
   "metadata": {},
   "outputs": [],
   "source": [
    "# Magic Squares\n",
    "n11,n12,n21=map(int,input().split())\n",
    "n=20\n",
    "for i in range(n+1):\n",
    "    n13=-n11-n12+n\n",
    "    n31=-n11-n21+n\n",
    "    n22=i\n",
    "    n23=-n21+n-i\n",
    "    n32=-n12+n-i\n",
    "    n33=-n13-n23+n\n",
    "    if 0<n11<20 and 0<n12<20 and 0<n13<20 and 0<n21<20 and 0<n22<20 and 0<n23<20 and 0<n31<20 and 0<n32<20 and 0<n33<20:\n",
    "        print(n11,n12,n13)\n",
    "        print(n21,n22,n23)\n",
    "        print(n31,n32,n33)\n",
    "        break"
   ]
  },
  {
   "cell_type": "code",
   "execution_count": null,
   "id": "875e66fe",
   "metadata": {},
   "outputs": [],
   "source": [
    "# Atlantis Rising\n",
    "n=int(input())\n",
    "heights=[int(input()) for _ in range(n)]\n",
    "count=0\n",
    "for i in range(1,n-1):\n",
    "    count+=heights[i]<max(heights[:i]) and heights[i]<max(heights[i+1:])\n",
    "print(count)"
   ]
  },
  {
   "cell_type": "code",
   "execution_count": null,
   "id": "3df3fa69",
   "metadata": {},
   "outputs": [],
   "source": [
    "# Chimera II\n",
    "n=int(input())\n",
    "dna1=list(input())\n",
    "dna2=list(input())\n",
    "required=list(input())\n",
    "broken=False\n",
    "for i in range(n):\n",
    "    if required[i]!=dna1[i] and required[i]!=dna2[i]:\n",
    "        print(\"PLAN FOILED\")\n",
    "        broken=True\n",
    "        break\n",
    "if not broken:\n",
    "    print(\"SUCCESS\")\n",
    "    count=1\n",
    "    both=dna1[0]==dna2[0]\n",
    "    side=1-both+(dna2[0]==required[0])\n",
    "    chosen=False\n",
    "    chosen_side=2\n",
    "    for i in range(1,n):\n",
    "        if dna1[i]==dna2[i]:\n",
    "            both=True\n",
    "        elif side==1 and dna2[i]==required[i]:\n",
    "            side=2\n",
    "            count+=1\n",
    "            if not chosen:\n",
    "                chosen=True\n",
    "                chosen_side=1\n",
    "        elif side==2 and dna1[i]==required[i]:\n",
    "            side=1\n",
    "            count+=1\n",
    "            chosen=True\n",
    "    if dna1[0]==dna2[0] and chosen_side==1:\n",
    "        print(count-2)\n",
    "    else:\n",
    "        print(count-1)"
   ]
  },
  {
   "cell_type": "code",
   "execution_count": null,
   "id": "ec2afed3",
   "metadata": {},
   "outputs": [],
   "source": [
    "# Bernard's Magic Needles\n",
    "n=int(input())\n",
    "haystacks=[int(input()) for _ in range(n)]\n",
    "needles=[]\n",
    "word=None\n",
    "while word!=-1:\n",
    "    word=int(input())\n",
    "    needles.append(word)\n",
    "needles=needles[:-1]\n",
    "for needle in needles:\n",
    "    if needle in haystacks:\n",
    "        print(haystacks.index(needle)+1)\n",
    "    else:\n",
    "        print('needle is gone forever')"
   ]
  },
  {
   "cell_type": "code",
   "execution_count": null,
   "id": "974acbe5",
   "metadata": {},
   "outputs": [],
   "source": [
    "# Medusa's Snakes\n",
    "n=int(input())\n",
    "dna=list(input())\n",
    "old_dna=dna\n",
    "x=0\n",
    "lo=0\n",
    "hi=n\n",
    "def test(dna,x):\n",
    "    broken=False\n",
    "    try:\n",
    "        for _ in range(x):\n",
    "            dna=dna[dna.index('S')+1:]\n",
    "        for _ in range(x):\n",
    "            dna=dna[dna.index('N')+1:]\n",
    "        for _ in range(x):\n",
    "            dna=dna[dna.index('A')+1:]\n",
    "        for _ in range(x):\n",
    "            dna=dna[dna.index('K')+1:]\n",
    "        for _ in range(x):\n",
    "            dna=dna[dna.index('E')+1:]\n",
    "    except:\n",
    "        broken=True\n",
    "    return not broken\n",
    "while lo!=hi:\n",
    "    mid=(lo+hi+1)//2\n",
    "    if test(dna,mid):\n",
    "        lo=mid\n",
    "    else:\n",
    "        hi=mid-1\n",
    "# while True:\n",
    "#     if not test(old_dna,x+1):\n",
    "#         break\n",
    "#     x+=1\n",
    "# print(x)\n",
    "print(lo)"
   ]
  },
  {
   "cell_type": "code",
   "execution_count": null,
   "id": "e3a74da4",
   "metadata": {},
   "outputs": [],
   "source": [
    "# Backpacking\n",
    "n,k=map(int,input().strip().split())\n",
    "dis=list(map(int,input().strip().split()))\n",
    "cost=list(map(int,input().strip().split()))\n",
    "cans=0\n",
    "money=0\n",
    "for _ in range(n-1):\n",
    "    ch=1000001\n",
    "    for i in range(1,len(cost)):\n",
    "        if cost[i]<=cost[0]:\n",
    "            ch=i\n",
    "            break\n",
    "    x=min(sum(dis),ch)-cans\n",
    "    cans+=x-dis[0]\n",
    "    money+=x*cost[0]\n",
    "    dis=dis[1:]\n",
    "    cost=cost[1:]\n",
    "print(money)"
   ]
  },
  {
   "cell_type": "code",
   "execution_count": null,
   "id": "430ca989",
   "metadata": {},
   "outputs": [],
   "source": [
    "# Space Mission\n",
    "n,f=map(int,input().split())\n",
    "cost=[int(input()) for _ in range(n)]\n",
    "# old_cost=cost\n",
    "# other_cost=cost\n",
    "# other_cost.remove(min(cost))\n",
    "# min_cost=min(other_cost)+min(cost)\n",
    "# cost=old_cost\n",
    "# max_day=len(cost)\n",
    "# min_cost_return=cost[-1]\n",
    "# for i in range(len(cost)-1)[::-1]:\n",
    "#     if cost[i]>min_cost_return:\n",
    "#         break\n",
    "#     else:\n",
    "#         max_day-=1\n",
    "#         min_cost_return=cost[i]\n",
    "# print(min_cost_return)\n",
    "# print(max_day)\n",
    "# for i in range(max_day-1)\n",
    "max_samples=0\n",
    "for i in range(len(cost)):\n",
    "    for j in range(i+1,len(cost)):\n",
    "        if cost[i]+cost[j]<f:\n",
    "            max_samples=max(max_samples,j-i+1)\n",
    "if max_samples==0:\n",
    "    max_samples=-1\n",
    "print(max_samples)"
   ]
  },
  {
   "cell_type": "code",
   "execution_count": null,
   "id": "eeb25b97",
   "metadata": {},
   "outputs": [],
   "source": [
    "# Breaking Bars\n",
    "n=int(input())\n",
    "a=list(map(int,input().split()))\n",
    "def deliciousness(lst):\n",
    "    return len(list(set(lst)))\n",
    "# segment1=[]\n",
    "# max_deliciousness=0\n",
    "# for i in range(n-1):\n",
    "#     segment1.append(a[i])\n",
    "#     segment2=a[i+1:]\n",
    "#     max_deliciousness=max(max_deliciousness,deliciousness(segment1)+deliciousness(segment2))\n",
    "# print(max_deliciousness)\n",
    "# if a==[1]*a.count(1)+[2]*a.count(2) or a==[2]*a.count(2)+[1]*a.count(1):\n",
    "#     print(3)\n",
    "# else:\n",
    "#     print(4)\n",
    "if deliciousness(a)==len(a):\n",
    "    print(len(a))\n",
    "else:\n",
    "    print(deliciousness(a)+1)"
   ]
  },
  {
   "cell_type": "code",
   "execution_count": null,
   "id": "a69a8ee2",
   "metadata": {},
   "outputs": [],
   "source": [
    "# Beautiful Buildings\n",
    "n=int(input())\n",
    "h=list(map(int,input().split()))\n",
    "ug0=0\n",
    "max_dif=max(abs(h[1]-h[0]),abs(h[-1]-h[-2]))\n",
    "for i in range(1,n):\n",
    "    ug0+=abs(h[i]-h[i-1])\n",
    "for i in range(1,n-1):\n",
    "    max_dif=max(max_dif,abs(h[i]-h[i-1])+abs(h[i]-h[i+1])-abs(h[i+1]-h[i-1]))\n",
    "print(ug0-max_dif)"
   ]
  },
  {
   "cell_type": "code",
   "execution_count": null,
   "id": "32935c9b",
   "metadata": {},
   "outputs": [],
   "source": [
    "# Nomnomnom\n",
    "n=int(input())\n",
    "f=[int(input()) for _ in range(n)]\n",
    "limit=f[0]\n",
    "f=f[1:]\n",
    "count=1\n",
    "eaten=0\n",
    "for food in f:\n",
    "    eaten+=food\n",
    "    if eaten>=limit:\n",
    "        limit=eaten\n",
    "        eaten=0\n",
    "        count+=1\n",
    "print(count)"
   ]
  },
  {
   "cell_type": "code",
   "execution_count": null,
   "id": "72b48425",
   "metadata": {},
   "outputs": [],
   "source": [
    "# Counting to Infinity\n",
    "n=1000000\n",
    "for i in range(n):\n",
    "    print(i)"
   ]
  },
  {
   "cell_type": "code",
   "execution_count": 60,
   "id": "8b9989e3",
   "metadata": {},
   "outputs": [
    {
     "name": "stdout",
     "output_type": "stream",
     "text": [
      "12.777274612193816\n"
     ]
    }
   ],
   "source": [
    "import time\n",
    "perc=[]\n",
    "# Mock input function to avoid I/O variability\n",
    "for i in range(1000):\n",
    "    inputs = [\"12345\"] * 10000\n",
    "    input_idx = 0\n",
    "    def mock_input():\n",
    "        global input_idx\n",
    "        result = inputs[input_idx]\n",
    "        input_idx += 1\n",
    "        return result\n",
    "\n",
    "    # Code 1: Loop and Append\n",
    "    input_idx = 0\n",
    "    start = time.time()\n",
    "    n = []\n",
    "    for _ in range(10000):\n",
    "        n.append(int(mock_input()))\n",
    "    h=time.time()-start\n",
    "    # print(\"Loop and Append:\", h)\n",
    "\n",
    "    # Code 2: List Comprehension\n",
    "    input_idx = 0\n",
    "    start = time.time()\n",
    "    n = [int(mock_input()) for _ in range(10000)]\n",
    "    g=time.time()-start\n",
    "    # print(\"List Comprehension:\", g)\n",
    "    perc.append(100*(h-g)/h)\n",
    "print(sum(perc)/len(perc))"
   ]
  },
  {
   "cell_type": "code",
   "execution_count": null,
   "id": "9a4c8b44",
   "metadata": {},
   "outputs": [
    {
     "name": "stdout",
     "output_type": "stream",
     "text": [
      "0\n"
     ]
    }
   ],
   "source": [
    "# Heatwave\n",
    "n,h=map(int,input().split())\n",
    "heat=[int(input()) for _ in range(n)]\n",
    "longest_heatwave=0\n",
    "current_heatwave=0\n",
    "for day in heat:\n",
    "    if day>=h:\n",
    "        current_heatwave+=1\n",
    "    else:\n",
    "        longest_heatwave=max(current_heatwave,longest_heatwave)\n",
    "        current_heatwave=0\n",
    "longest_heatwave=max(current_heatwave,longest_heatwave)\n",
    "print(longest_heatwave)"
   ]
  },
  {
   "cell_type": "code",
   "execution_count": null,
   "id": "79e43b63",
   "metadata": {},
   "outputs": [
    {
     "name": "stdout",
     "output_type": "stream",
     "text": [
      "8\n",
      "N\n",
      "T\n",
      "N\n",
      "N\n",
      "T\n",
      "N\n",
      "T\n",
      "T\n"
     ]
    }
   ],
   "source": [
    "# IOI Team Announcement\n",
    "n=int(input())\n",
    "order=list(map(int,input().split()))\n",
    "actions=[]\n",
    "for i in range(1,n+1):\n",
    "    actions=actions+['N']*order.index(i)\n",
    "    actions.append('T')\n",
    "    order.remove(i)\n",
    "print(len(actions))\n",
    "for action in actions:\n",
    "    print(action)"
   ]
  },
  {
   "cell_type": "code",
   "execution_count": null,
   "id": "dc38fa7a",
   "metadata": {},
   "outputs": [],
   "source": [
    "# Level Ground\n",
    "n=int(input())\n",
    "alt=list(map(int,input().split()))\n",
    "record=0\n",
    "count=0\n",
    "last_i=0\n",
    "for i in range(n):\n",
    "    if count+last_i>i:\n",
    "        continue\n",
    "    count=0\n",
    "    last_i=i\n",
    "    for j in range(i+1,n):\n",
    "        if alt[i]==alt[j]:\n",
    "            count+=1\n",
    "        else:\n",
    "            break\n",
    "    record=max(record,(count+1)*alt[i])\n",
    "print(record)"
   ]
  },
  {
   "cell_type": "code",
   "execution_count": null,
   "id": "ccedfc01",
   "metadata": {},
   "outputs": [],
   "source": [
    "N=int(input())\n",
    "dna=list(input())\n",
    "def check(x):\n",
    "    # TODO: write a function that returns True if the answer is >= x, and False Otherwise\n",
    "    # This function runs the solution from hint 2\n",
    " \n",
    "lo = 0 # the answer is always at least 0\n",
    "hi = N # the answer is always at most N \n",
    "       # (we could replace this with N//5, but this would not improve the time complexity)\n",
    " \n",
    "while lo != hi:\n",
    "    mid = (lo+hi+1)//2 # I have a +1 so that this rounds up rather than down. \n",
    "                       # If I rounded down instead, this could cause an infinite loop\n",
    "    if check(mid):\n",
    "        lo = mid # the answer is >= mid\n",
    "    else:\n",
    "        hi = mid-1 # the answer is < mid\n",
    " \n",
    "print(lo) # the answer is lo (alternatively hi)"
   ]
  },
  {
   "cell_type": "code",
   "execution_count": null,
   "id": "5bae4490",
   "metadata": {},
   "outputs": [],
   "source": [
    "# Coloured Walkway\n",
    "n,c=map(int,input().split())\n",
    "colour=list(map(int,input().split()))\n",
    "p=int(input())\n",
    "comp=[list(map(int,input().split()))]\n",
    "if [1,1] in comp:\n",
    "    print(2**(n-2)%1000000007)\n",
    "else:\n",
    "    print(0)"
   ]
  },
  {
   "cell_type": "code",
   "execution_count": null,
   "id": "5f6ad4ee",
   "metadata": {},
   "outputs": [
    {
     "name": "stdout",
     "output_type": "stream",
     "text": [
      "4\n"
     ]
    }
   ],
   "source": [
    "# Making Bank\n",
    "n=int(input())\n",
    "classes=list(input())\n",
    "def solve(days,n):\n",
    "    if days==['M']*n:\n",
    "        return n\n",
    "    max_money=n\n",
    "    for day in range(n):\n",
    "        if days[day]=='C':\n",
    "            s=1\n",
    "            money=0\n",
    "            for i in range(day+1):\n",
    "                if days[i]=='C':\n",
    "                    s+=1\n",
    "                else:\n",
    "                    money+=s\n",
    "            money+=s*(n-day-1)\n",
    "            max_money=max(money,max_money)\n",
    "    return max_money\n",
    "print(solve(classes,n))"
   ]
  }
 ],
 "metadata": {
  "kernelspec": {
   "display_name": "sage",
   "language": "python",
   "name": "python3"
  },
  "language_info": {
   "codemirror_mode": {
    "name": "ipython",
    "version": 3
   },
   "file_extension": ".py",
   "mimetype": "text/x-python",
   "name": "python",
   "nbconvert_exporter": "python",
   "pygments_lexer": "ipython3",
   "version": "3.12.10"
  }
 },
 "nbformat": 4,
 "nbformat_minor": 5
}
