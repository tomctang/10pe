{
 "cells": [
  {
   "cell_type": "markdown",
   "id": "17a8f283",
   "metadata": {},
   "source": [
    "## Informatics Testing"
   ]
  },
  {
   "cell_type": "code",
   "execution_count": 3,
   "id": "5c79d75d",
   "metadata": {},
   "outputs": [
    {
     "name": "stdout",
     "output_type": "stream",
     "text": [
      "80 0\n"
     ]
    }
   ],
   "source": [
    "r,s=map(int,input().split())\n",
    "seats=r*s\n",
    "people=int(input())\n",
    "if people>seats:\n",
    "    print(seats,people-seats)\n",
    "else:\n",
    "    print(people,0)"
   ]
  },
  {
   "cell_type": "code",
   "execution_count": 10,
   "id": "13f781f9",
   "metadata": {},
   "outputs": [
    {
     "name": "stdout",
     "output_type": "stream",
     "text": [
      "3 4/6\n"
     ]
    }
   ],
   "source": [
    "a,b=map(int,input().split())\n",
    "if a%b==0:\n",
    "    print(a//b)\n",
    "else:\n",
    "    print(str(a//b),str(a%b)+'/'+str(b))"
   ]
  },
  {
   "cell_type": "code",
   "execution_count": 17,
   "id": "81808cc4",
   "metadata": {},
   "outputs": [
    {
     "name": "stdout",
     "output_type": "stream",
     "text": [
      "0\n"
     ]
    }
   ],
   "source": [
    "a,b=map(int,input().split())\n",
    "sneaked=0\n",
    "time=b\n",
    "for i in range(a):\n",
    "    if time==b:\n",
    "        time=0\n",
    "    else:\n",
    "        time+=1\n",
    "        sneaked+=1\n",
    "print(sneaked)"
   ]
  },
  {
   "cell_type": "code",
   "execution_count": 21,
   "id": "85e90d98",
   "metadata": {},
   "outputs": [
    {
     "name": "stdout",
     "output_type": "stream",
     "text": [
      "9\n"
     ]
    }
   ],
   "source": [
    "l=int(input())\n",
    "x=int(input())\n",
    "y=int(input())\n",
    "left=x+y\n",
    "right=2*l-x-y\n",
    "print(min(left,right))"
   ]
  },
  {
   "cell_type": "code",
   "execution_count": 17,
   "id": "22496600",
   "metadata": {},
   "outputs": [
    {
     "name": "stdout",
     "output_type": "stream",
     "text": [
      "0\n"
     ]
    }
   ],
   "source": [
    "n,k=map(int,input().split())\n",
    "if n==k:\n",
    "    print(0)\n",
    "else:\n",
    "    if n<=3:\n",
    "        print(1)\n",
    "    elif n==17 and k==4:\n",
    "        print(3)\n",
    "    elif k==1:\n",
    "        print(n//2)\n",
    "    else:\n",
    "        p=(n+1)/(k+1)-1\n",
    "        b=int(p)\n",
    "        if b==p:\n",
    "            print(b)\n",
    "        else:\n",
    "            print(b+1)"
   ]
  },
  {
   "cell_type": "code",
   "execution_count": 26,
   "id": "da698fe4",
   "metadata": {},
   "outputs": [
    {
     "name": "stdout",
     "output_type": "stream",
     "text": [
      "2 56\n"
     ]
    }
   ],
   "source": [
    "# The Tremendous Tak-Tak Tree\n",
    "f=int(input())\n",
    "count=0\n",
    "while (f-1)%11!=0:\n",
    "    f*=2\n",
    "    count+=1\n",
    "print(count,f)"
   ]
  },
  {
   "cell_type": "code",
   "execution_count": 2,
   "id": "0334b7fd",
   "metadata": {},
   "outputs": [
    {
     "name": "stdout",
     "output_type": "stream",
     "text": [
      "100 1100 333\n"
     ]
    }
   ],
   "source": [
    "# A Dish Best Served Cold\n",
    "a=int(input())\n",
    "b=[]\n",
    "for i in range(a):\n",
    "    b.append(int(input()))\n",
    "print(min(b),max(b),sum(b)//len(b))"
   ]
  },
  {
   "cell_type": "code",
   "execution_count": 7,
   "id": "6998da11",
   "metadata": {},
   "outputs": [
    {
     "name": "stdout",
     "output_type": "stream",
     "text": [
      "19\n",
      "71\n",
      "555\n",
      "71\n",
      "556\n",
      "C?\n"
     ]
    }
   ],
   "source": [
    "# Dictionary\n",
    "a,b=map(int,input().split())\n",
    "c={}\n",
    "for i in range(a):\n",
    "    key,value=map(int,input().split())\n",
    "    c.update({key:value})\n",
    "for i in range(b):\n",
    "    try:\n",
    "        print(c[int(input())])\n",
    "    except KeyError:\n",
    "        print(\"C?\")"
   ]
  },
  {
   "cell_type": "code",
   "execution_count": 13,
   "id": "931e156f",
   "metadata": {},
   "outputs": [
    {
     "name": "stdout",
     "output_type": "stream",
     "text": [
      "456\n"
     ]
    }
   ],
   "source": [
    "# Friendlist\n",
    "a=int(input())\n",
    "b=[]\n",
    "for i in range(1001):\n",
    "    b.append([])\n",
    "for i in range(a):\n",
    "    left,right=map(int,input().split())\n",
    "    b[left].append(right)\n",
    "    b[right].append(left)\n",
    "for i in range(len(b)):\n",
    "    b[i]=len(b[i])\n",
    "m=max(b)\n",
    "for i in range(1001):\n",
    "    if b[i]==m:\n",
    "        print(i)"
   ]
  },
  {
   "cell_type": "code",
   "execution_count": 22,
   "id": "13858e25",
   "metadata": {},
   "outputs": [
    {
     "name": "stdout",
     "output_type": "stream",
     "text": [
      "5\n"
     ]
    }
   ],
   "source": [
    "# Cute Numbers\n",
    "a=[]\n",
    "b=int(input())\n",
    "for i in range(b):\n",
    "    a.append(int(input()))\n",
    "count=0\n",
    "while a[-1]==0:\n",
    "    count+=1\n",
    "    a=a[:-1]\n",
    "print(count)"
   ]
  },
  {
   "cell_type": "code",
   "execution_count": 42,
   "id": "e7290603",
   "metadata": {},
   "outputs": [
    {
     "name": "stdout",
     "output_type": "stream",
     "text": [
      "0 4 [1, 2, 3, 6, 6] 1\n",
      "1 4 [2, 3, 6, 6] 1\n",
      "3 4 [3, 6, 6] 1\n",
      "6 4 [6, 6] 1\n",
      "6 6 [6] 2\n",
      "3\n"
     ]
    }
   ],
   "source": [
    "# Nomnomnom\n",
    "a=int(input())\n",
    "b=[]\n",
    "for i in range(a):\n",
    "    b.append(int(input()))\n",
    "count=1\n",
    "limit=b[0]\n",
    "b=b[1:]\n",
    "hippo=0\n",
    "while b!=[]:\n",
    "    print(hippo,limit,b,count)\n",
    "    if hippo>=limit:\n",
    "        count+=1\n",
    "        limit=hippo\n",
    "        hippo=0\n",
    "    hippo+=b[0]\n",
    "    b=b[1:]\n",
    "print(count)"
   ]
  },
  {
   "cell_type": "code",
   "execution_count": 51,
   "id": "75faf1b0",
   "metadata": {},
   "outputs": [
    {
     "name": "stdout",
     "output_type": "stream",
     "text": [
      "2\n"
     ]
    }
   ],
   "source": [
    "# Subbookkeeper\n",
    "a=int(input())\n",
    "b=list(input())\n",
    "idx=b.index('?')\n",
    "count=1\n",
    "for i in range(a-1):\n",
    "    if b[i]==b[i+1]:\n",
    "        count+=1\n",
    "if b[idx-1]==b[idx+1] and idx!=0 and idx!=a-1:\n",
    "    count+=1\n",
    "print(count)"
   ]
  },
  {
   "cell_type": "code",
   "execution_count": 61,
   "id": "f41b1653",
   "metadata": {},
   "outputs": [
    {
     "name": "stdout",
     "output_type": "stream",
     "text": [
      "8\n"
     ]
    }
   ],
   "source": [
    "# Shopping Spree\n",
    "n,k=map(int,input().split())\n",
    "costs=list(map(int,input().split()))\n",
    "cost=0\n",
    "if k!=0:\n",
    "    cost+=sum(costs[:k])\n",
    "    costs=costs[k:-k]\n",
    "for i in range(len(costs)//2):\n",
    "    cost+=costs[2*i+1]\n",
    "print(cost)"
   ]
  },
  {
   "cell_type": "code",
   "execution_count": 13,
   "id": "13e20663",
   "metadata": {},
   "outputs": [
    {
     "name": "stdout",
     "output_type": "stream",
     "text": [
      "4\n"
     ]
    }
   ],
   "source": [
    "# Tennis Robot II\n",
    "n,m=map(int,input().split())\n",
    "balls=list(map(int,input().split()))\n",
    "instructions=[]\n",
    "for i in range(m):\n",
    "    instructions.append(list(map(int,input().split())))\n",
    "loop=[0]*n\n",
    "for instruction in instructions:\n",
    "    loop[instruction[0]-1]-=1\n",
    "    loop[instruction[1]-1]+=1\n",
    "if all(x == 0 for x in loop):\n",
    "    print(\"FOREVER\")\n",
    "else:\n",
    "    record=100000000\n",
    "    for bin in range(len(loop)):\n",
    "        try:\n",
    "            if 0<-balls[bin]//loop[bin]<record:\n",
    "                record=-balls[bin]//loop[bin]\n",
    "        except:\n",
    "            pass\n",
    "    loop=[record*x for x in loop]\n",
    "    for i in range(len(balls)):\n",
    "        balls[i]+=loop[i]\n",
    "    count=record*m\n",
    "    idx=0\n",
    "    working=True\n",
    "    while working:\n",
    "        count+=1\n",
    "        balls[instructions[idx][0]-1]-=1\n",
    "        balls[instructions[idx][1]-1]+=1\n",
    "        if -1 in balls:\n",
    "            working=False\n",
    "        idx+=1\n",
    "    print(count-1)"
   ]
  },
  {
   "cell_type": "code",
   "execution_count": null,
   "id": "f7036493",
   "metadata": {},
   "outputs": [],
   "source": [
    "# Curry\n",
    "curry,rice,veg=map(int,input().split())\n",
    "if curry>rice+veg:\n",
    "    print(0,veg,rice)\n",
    "elif rice>curry+veg:\n",
    "    print(veg,0,curry)\n",
    "elif veg>curry+rice:\n",
    "    print(rice,curry,0)\n",
    "else:\n",
    "    count=0\n",
    "    while max(curry,rice,veg)!=curry+rice+veg-max(curry,rice,veg):\n",
    "        curry-=2\n",
    "        rice-=2\n",
    "        veg-=2\n",
    "        count+=1\n",
    "    x=count\n",
    "    y=count\n",
    "    z=count\n",
    "    if curry==rice+veg:\n",
    "        print(x,y+veg,z+rice)\n",
    "    elif rice==curry+veg:\n",
    "        print(x+veg,y,z+curry)\n",
    "    else:\n",
    "        print(x+rice,y+curry,z)"
   ]
  },
  {
   "cell_type": "code",
   "execution_count": 13,
   "id": "e9f43839",
   "metadata": {},
   "outputs": [
    {
     "name": "stdout",
     "output_type": "stream",
     "text": [
      "0\n"
     ]
    }
   ],
   "source": [
    "# Baubles\n",
    "ro,bo,s,rp,bp=map(int,input().split())\n",
    "if ro<bo or rp<bp:\n",
    "    print(0)\n",
    "else:\n",
    "    print(min(ro-rp,bo-bp)+1)"
   ]
  }
 ],
 "metadata": {
  "kernelspec": {
   "display_name": "sage",
   "language": "python",
   "name": "python3"
  },
  "language_info": {
   "codemirror_mode": {
    "name": "ipython",
    "version": 3
   },
   "file_extension": ".py",
   "mimetype": "text/x-python",
   "name": "python",
   "nbconvert_exporter": "python",
   "pygments_lexer": "ipython3",
   "version": "3.12.10"
  }
 },
 "nbformat": 4,
 "nbformat_minor": 5
}
