{
 "cells": [
  {
   "cell_type": "markdown",
   "metadata": {},
   "source": [
    "# PE Q51-75"
   ]
  },
  {
   "cell_type": "code",
   "execution_count": null,
   "metadata": {},
   "outputs": [],
   "source": [
    "%run PE_pre_running.py"
   ]
  },
  {
   "cell_type": "markdown",
   "metadata": {},
   "source": [
    "## PE 51"
   ]
  },
  {
   "cell_type": "markdown",
   "metadata": {},
   "source": [
    "## PE 52"
   ]
  },
  {
   "cell_type": "code",
   "execution_count": null,
   "metadata": {},
   "outputs": [],
   "source": [
    "#52 Permuted Multiples\n",
    "def permuted(n):\n",
    "    listnum=list(map(int, str(n)))\n",
    "    listnum1=listnum[:]\n",
    "    listnum1.sort()\n",
    "    m=1\n",
    "    old=list_to_int(listnum)\n",
    "    while True:\n",
    "        n=old*(m+1)\n",
    "        test=list(map(int, str(n)))\n",
    "        test.sort()\n",
    "        if test!=listnum1:\n",
    "            break\n",
    "        m+=1\n",
    "    return m\n",
    "def solve(m):\n",
    "    n=1000\n",
    "    while True:\n",
    "        num=permuted(n)\n",
    "        if num>=m:\n",
    "            break\n",
    "        n+=1\n",
    "    return n\n",
    "print(solve(6))"
   ]
  },
  {
   "cell_type": "markdown",
   "metadata": {},
   "source": [
    "## PE 53"
   ]
  },
  {
   "cell_type": "code",
   "execution_count": null,
   "metadata": {},
   "outputs": [],
   "source": [
    "# 53 Combinatoric Selections\n",
    "def ncr(n, r):\n",
    "    return factorial(n)/(factorial(r)*factorial(n-r))\n",
    "\n",
    "over_million=0\n",
    "for n in range(22,101):\n",
    "    for r in range(3,n-1):\n",
    "        if ncr(n,r)>1000000:\n",
    "            over_million+=1\n",
    "over_million"
   ]
  },
  {
   "cell_type": "markdown",
   "metadata": {},
   "source": [
    "## PE 55"
   ]
  },
  {
   "cell_type": "code",
   "execution_count": null,
   "metadata": {},
   "outputs": [],
   "source": [
    "#55 Lychrel Numbers\n",
    "MAX_ITERATIONS = 50\n",
    "def isPalindrome(number): \n",
    "\treturn number == reverse(number)\n",
    "def reverse(number): \n",
    "\treverse = 0; \n",
    "\twhile (number > 0): \n",
    "\t\tremainder = number % 10\n",
    "\t\treverse = (reverse * 10) + remainder\n",
    "\t\tnumber = int(number / 10)\n",
    "\treturn reverse\n",
    "def isLychrel(number):\n",
    "\tfor i in range(MAX_ITERATIONS): \n",
    "\t\tnumber+=reverse(number)\n",
    "\t\tif (isPalindrome(number)): \n",
    "\t\t\treturn False\n",
    "\treturn True\n",
    "num_lyc=0\n",
    "for i in range(1, 10000):\n",
    "\tif isLychrel(i)==True:\n",
    "\t\tnum_lyc+=1\n",
    "num_lyc"
   ]
  },
  {
   "cell_type": "markdown",
   "metadata": {},
   "source": [
    "## PE 56"
   ]
  },
  {
   "cell_type": "code",
   "execution_count": null,
   "metadata": {},
   "outputs": [],
   "source": [
    "#56 Powerful Digit Sum\n",
    "sum_num=0\n",
    "for i in range(1, 100):\n",
    "    for j in range(1, 100):\n",
    "        current_sum=0\n",
    "        power=i**j\n",
    "        list_power=list(map(int, str(power)))\n",
    "        for digit in list_power:\n",
    "            current_sum+=digit\n",
    "        if current_sum>sum_num:\n",
    "            sum_num=current_sum\n",
    "sum_num"
   ]
  },
  {
   "cell_type": "markdown",
   "metadata": {},
   "source": [
    "## PE 57"
   ]
  },
  {
   "cell_type": "code",
   "execution_count": null,
   "metadata": {},
   "outputs": [],
   "source": [
    "# 57 Square Root Convergents\n",
    "def convergent_square_root2(term):\n",
    "    numerator=3\n",
    "    denominator=2\n",
    "    for _ in range(term-1):\n",
    "        denominator1=numerator+denominator\n",
    "        numerator=denominator+denominator1\n",
    "        denominator=denominator1\n",
    "    return [numerator,denominator]\n",
    "\n",
    "def solve():\n",
    "    ans=0\n",
    "    for i in range(1,1001):\n",
    "        fraction=convergent_square_root2(i)\n",
    "        n=list(map(int,str(fraction[0])))\n",
    "        d=list(map(int,str(fraction[1]))) #separates number's digits into list\n",
    "        if len(n)>len(d):\n",
    "            ans+=1\n",
    "    return ans\n",
    "\n",
    "solve()"
   ]
  },
  {
   "cell_type": "markdown",
   "metadata": {},
   "source": [
    "## PE 58"
   ]
  },
  {
   "cell_type": "code",
   "execution_count": null,
   "metadata": {},
   "outputs": [],
   "source": [
    "# 58 Spiral Primes\n",
    "# find quicker solution\n",
    "from gmpy2 import is_prime\n",
    "diagonal=[1]\n",
    "n=1\n",
    "x=2\n",
    "spiral_percentage=100\n",
    "for i in range(5000000):\n",
    "    print(spiral_percentage)\n",
    "    for i in range(4):\n",
    "        n+=x\n",
    "        diagonal.append(n)\n",
    "while spiral_percentage>=10:\n",
    "    print(spiral_percentage)\n",
    "    for i in range(4):\n",
    "        n+=x\n",
    "        diagonal.append(n)\n",
    "    primes=0\n",
    "    for num in diagonal:\n",
    "        if is_prime(num):\n",
    "            primes+=1\n",
    "    spiral_percentage=100*primes/len(diagonal)\n",
    "n"
   ]
  },
  {
   "cell_type": "markdown",
   "metadata": {},
   "source": [
    "## PE 62"
   ]
  },
  {
   "cell_type": "code",
   "execution_count": null,
   "metadata": {},
   "outputs": [],
   "source": [
    "#62 \n",
    "import time\n",
    "start = time.time()\n",
    "cubes = []\n",
    "i = 0\n",
    "while True:\n",
    "    cube = sorted(list(str(i**3)))\n",
    "    cubes.append(cube)\n",
    "    if cubes.count(cube) == 5:\n",
    "        print((cubes.index(cube))**3)\n",
    "        break\n",
    "    i += 1\n",
    "end = time.time()\n",
    "print(end - start)"
   ]
  },
  {
   "cell_type": "markdown",
   "metadata": {},
   "source": [
    "## PE 63"
   ]
  },
  {
   "cell_type": "code",
   "execution_count": null,
   "metadata": {},
   "outputs": [],
   "source": [
    "# 63 Powerful Digit Counts\n",
    "num=0\n",
    "for i in range(1,10):\n",
    "    for j in range(1,22):\n",
    "        if length(i**j)==j:\n",
    "            num+=1\n",
    "num"
   ]
  },
  {
   "cell_type": "markdown",
   "metadata": {},
   "source": [
    "## PE 65"
   ]
  },
  {
   "cell_type": "code",
   "execution_count": null,
   "metadata": {},
   "outputs": [],
   "source": [
    "#65 Convergents of e\n",
    "def solve(N):\n",
    "    n=2\n",
    "    prev_n=1\n",
    "    fract=1\n",
    "    for k in range(2, N+1):\n",
    "        temp=prev_n\n",
    "        if (k % 3 == 0):\n",
    "            fract=2*int(k/3)\n",
    "        else:\n",
    "            fract=1\n",
    "        prev_n=n\n",
    "        n=fract * prev_n + temp\n",
    "    sum = digit_sum(n)\n",
    "    return sum\n",
    "def digit_sum(num):\n",
    "    sum = 0\n",
    "    while num > 0:\n",
    "        sum = sum + (num % 10)\n",
    "        num = num // 10\n",
    "    return sum\n",
    "#cal\n",
    "solve(100)"
   ]
  },
  {
   "cell_type": "code",
   "execution_count": null,
   "metadata": {},
   "outputs": [],
   "source": [
    "(* 65 Convergents of e *)"
   ]
  },
  {
   "cell_type": "markdown",
   "metadata": {},
   "source": [
    "## PE 66\n",
    "\n",
    "see https://en.wikipedia.org/wiki/Pell%27s_equation"
   ]
  },
  {
   "cell_type": "code",
   "execution_count": null,
   "metadata": {},
   "outputs": [],
   "source": [
    "#66 Diophantine Equation, "
   ]
  },
  {
   "cell_type": "markdown",
   "metadata": {},
   "source": [
    "## PE 69"
   ]
  },
  {
   "cell_type": "code",
   "execution_count": null,
   "metadata": {},
   "outputs": [],
   "source": [
    "#69 Totient Maximum\n",
    "def factors(n):\n",
    "    intnum=int(n**1/2)+1\n",
    "    num=[]\n",
    "    for i in range(1, intnum):\n",
    "        if n%i==0:\n",
    "            num.append(i)\n",
    "    for number in num:\n",
    "        if n/number not in num:\n",
    "            num.append(n/number)\n",
    "    return num\n",
    "def prime1(n):\n",
    "    if len(factors(n))==2:\n",
    "        return True\n",
    "    return False\n",
    "def smaller(mt, n):\n",
    "    if m<n:\n",
    "        return m\n",
    "    elif m>n:\n",
    "        return n\n",
    "    else:\n",
    "        return 'same'\n",
    "def bcf(m, n):\n",
    "    fac=factors(m)\n",
    "    fac1=factors(n)\n",
    "    facs=fac+fac1\n",
    "    facs.sort()\n",
    "    facs.reverse()\n",
    "    for factor in facs:\n",
    "        if factor in fac and factor in fac1:\n",
    "            return factor\n",
    "def coprime(m, n):\n",
    "    if m==1 or n==1:\n",
    "        return False\n",
    "    if prime(m)==True or prime(n)==True:\n",
    "        return True\n",
    "    if bcf(m, n)==1:\n",
    "        return True\n",
    "    else:\n",
    "        return False\n",
    "def phi(n):\n",
    "    num=1\n",
    "    for i in range(2, n):\n",
    "        if coprime(i, n)==True:\n",
    "            num+=1\n",
    "    return num\n",
    "def totient(n):\n",
    "    big=0\n",
    "    for i in range(2, n):\n",
    "        num=i/phi(i)\n",
    "        print(i)\n",
    "        if num>big:\n",
    "            big=num\n",
    "    return big\n",
    "totient(50)"
   ]
  },
  {
   "cell_type": "code",
   "execution_count": null,
   "metadata": {},
   "outputs": [],
   "source": [
    "#69 FP   欧拉函数Euler's Totient Function\n",
    "from sympy import totient\n",
    "\n",
    "seq = [n / totient(n) for n in range(1, 1000000)] # Generate the sequence using the totient function\n",
    "max_value    = max(seq)\n",
    "max_position = [i + 1 for i, value in enumerate(seq) if value == max_value]\n",
    "max_position"
   ]
  },
  {
   "cell_type": "code",
   "execution_count": null,
   "metadata": {},
   "outputs": [],
   "source": [
    "(* 69 Totient Maximum, also called \\phi function*)\n",
    "(* seq = Table[ n/Length[Select[Range[n], CoprimeQ[#, n] == True &]]\n",
    "             , {n, 10}] ;   pretty slow  *)\n",
    "seq = Table[ n/EulerPhi[n] , {n, 1000000} ];\n",
    "Position[seq, Max[seq]]\n",
    "Max[seq]"
   ]
  },
  {
   "cell_type": "markdown",
   "metadata": {},
   "source": [
    "# PE 71"
   ]
  },
  {
   "cell_type": "code",
   "execution_count": null,
   "metadata": {},
   "outputs": [],
   "source": [
    "#71 Ordered Fractions \n",
    "from math import floor\n",
    "target = 3/7\n",
    "\n",
    "pairs = [( floor(deno*target) , deno ) for deno in range(2, 1000000)]\n",
    "\n",
    "fracs = [( n, deno ) for n, deno in pairs if (n/deno)<target]  # Filter fractions < target\n",
    "\n",
    "maxFrac = max(fracs, key=lambda frac: frac[0]/frac[1] )\n",
    "maxFrac"
   ]
  },
  {
   "cell_type": "code",
   "execution_count": null,
   "metadata": {},
   "outputs": [],
   "source": [
    "(* 71 Ordered Fractions \n",
    "    Table[] gen [{numerator}, {denominator}]\n",
    "    Floor[] gen greatest integer <= d*target\n",
    "    Select[] and MaximalBy[], both are [list + function]\n",
    "    [[2]] the 2nd item, #[[2]] the 2nd input of the function \n",
    "    *)\n",
    "target = 3/7;\n",
    "MaximalBy[Select[  Table[ {Floor[d*target], d}, {d, 2, 1000000} ], \n",
    "                          #[[1]]/#[[2]] < target & ], \n",
    "         #[[1]]/#[[2]] & ]"
   ]
  },
  {
   "cell_type": "markdown",
   "metadata": {},
   "source": [
    "## PE 74"
   ]
  },
  {
   "cell_type": "code",
   "execution_count": null,
   "metadata": {},
   "outputs": [],
   "source": [
    "#74 Factorial Chains\n",
    "def fact(n):\n",
    "    if n==0 or n==1:\n",
    "        return 1\n",
    "    elif n<0:\n",
    "        raise ValueError\n",
    "    else:\n",
    "        return n*fact(n-1)\n",
    "    \n",
    "factorials={i:fact(i) for i in range(10)}\n",
    "\n",
    "num=0\n",
    "for i in range(1,1000000):\n",
    "    n=i\n",
    "    lst=[]\n",
    "    while n not in lst:\n",
    "        lst.append(n)\n",
    "        n=list(map(int,str(n)))\n",
    "        n1=0\n",
    "        for j in n:\n",
    "            n1+=factorials[j]\n",
    "        n=n1\n",
    "    if len(lst)==60:\n",
    "        num+=1\n",
    "print(num)"
   ]
  },
  {
   "cell_type": "markdown",
   "metadata": {},
   "source": [
    "## PE 75"
   ]
  },
  {
   "cell_type": "code",
   "execution_count": null,
   "metadata": {},
   "outputs": [],
   "source": [
    "#75 Singular Integer Right Triangles\n",
    "def sumPythagoreanTriplets(limits): \n",
    "\ta, b, c, m = 0, 0, 0, 2\n",
    "\tnum=[]\n",
    "\tnums=[]\n",
    "\tfor i in range(1,1000):\n",
    "\t\tnum.append(i)\n",
    "\td=a+b+c\n",
    "\twhile d<limits : \n",
    "\t\tfor n in range(1, m):\n",
    "\t\t\ta=m*m-n*n \n",
    "\t\t\tb=2*m*n \n",
    "\t\t\tc=m*m+n*n\n",
    "\t\t\td=a+b+c\n",
    "\t\t\tif d>limits: \n",
    "\t\t\t\tbreak\n",
    "\t\t\tprint('Sum of triplet :', d)\n",
    "\t\t\tnums.append(d)\n",
    "\t\t\tif d==1000:\n",
    "\t\t\t\tprint('Special')\n",
    "\t\tm+=1\n",
    "\treturn nums\n",
    "sumPythagoreanTriplets(150)"
   ]
  }
 ],
 "metadata": {
  "language_info": {
   "name": "python"
  }
 },
 "nbformat": 4,
 "nbformat_minor": 2
}
