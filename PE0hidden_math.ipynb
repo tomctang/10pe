{
 "cells": [
  {
   "cell_type": "markdown",
   "metadata": {},
   "source": [
    "# PE-Hidden-Math"
   ]
  },
  {
   "cell_type": "markdown",
   "metadata": {},
   "source": [
    "> **Question ordering**\n",
    "\n",
    "69. Totient Maximum\n",
    "\n",
    "欧拉函数 Euler's Totient Function (or $\\phi$ function) has a general formulas as below, $p_i$ is all of the coprime of x, where x is a positive integer.\n",
    "\n",
    "$$\\phi(x)=x\\prod_{i=1}^n(1-\\frac{1}{p_i})$$"
   ]
  },
  {
   "cell_type": "markdown",
   "metadata": {},
   "source": [
    "99. Largest Exponential\n",
    "\n",
    "In this question, I learned Ordinal theory (VS. Cardinal theory):\n",
    "\n",
    "- Ordinal data only introduces a ordering/ranking (e.g. A>B), but we don't know how large A or B is.\n",
    "- Cardinal further tell 'how many' of each thing, or showing quantity (e.g. 2>1)\n",
    "\n",
    "When comparing huge numbers, I don't need to know 'how many' they are, I just need to where they are (their ranking). So I can use log to shrink their coordinates: \n",
    "\n",
    "$$base^{exponent} =e^{exponent⋅log(base)}$$\n"
   ]
  },
  {
   "cell_type": "markdown",
   "metadata": {},
   "source": [
    "187. Semiprimes\n",
    "\n",
    "[A semiprime-counting formula](https://en.wikipedia.org/wiki/Semiprime):\n",
    "\n",
    "$$\\pi_{2}(n)= $$\n"
   ]
  },
  {
   "cell_type": "markdown",
   "metadata": {},
   "source": [
    "## Number Theory & Algebra"
   ]
  },
  {
   "cell_type": "markdown",
   "metadata": {},
   "source": [
    "- Prime numbers and factorization: 3, 7, 10, 12, 27, 35, 47, 50, 58, 67, 70, 78, 87, 92, 97, 104, 120, 123, 134, 140, 146, 158, 160, 162, 179, 187, 196\n",
    "- Divisibility rules and modular arithmetic: 2, 4, 5, 9, 11, 14, 17, 21, 24, 29, 31, 37, 41, 43, 46, 53, 56, 61, 65, 73, 76, 82, 85, 90, 95, 102, 108, 112, 116, 119, 125, 131, 137, 143, 149, 155, 166, 172, 178, 184, 190, 193, 199\n",
    "- Number sequences and series: 6, 8, 15, 22, 25, 30, 33, 36, 39, 42, 45, 48, 51, 54, 57, 60, 63, 66, 69, 72, 75, 79, 83, 86, 89, 93, 96, 99, 105, 109, 113, 117, 121, 126, 132, 138, 144, 150, 156, 163, 169, 175, 181, 188, 194\n",
    "- Diophantine equations\n",
    "- Continued Fraction \n",
    "\n",
    "- Polynomial equations: 18, 28, 35, 43, 51, 61, 71, 81, 91, 101, 111, 121, 131, 141, 151, 161, 171, 181, 191, 200\n",
    "- Matrix operations: 44, 53, 62, 72, 82, 92, 102, 112, 122, 132, 142, 152, 162, 172, 182, 192\n",
    "- Number bases and conversions\n",
    "- Algebraic identities\n"
   ]
  },
  {
   "cell_type": "markdown",
   "metadata": {},
   "source": [
    "### Continued Fraction "
   ]
  },
  {
   "cell_type": "markdown",
   "metadata": {},
   "source": [
    "Numerators and denominators ${N_i}$ and ${D_i}$ could be any sequences or functions\n",
    "\n",
    "$$D_0+\\cfrac{N_1}{D_1+\\cfrac{N_2}{{ D_k+\\cfrac{N_k}{\\ddots}}}} = D_0 + \\mathop{K}\\limits_{i=1}^{\\infty} \\frac{N_i}{D_i} \\quad  e.g. \\quad\n",
    "1+\\frac{1}{2+\\frac{1}{{ 2+\\frac{1}{\\ddots}}}}$$"
   ]
  },
  {
   "cell_type": "code",
   "execution_count": null,
   "metadata": {
    "vscode": {
     "languageId": "wolfram"
    }
   },
   "outputs": [
    {
     "data": {
      "text/plain": [
       "{1, 2, 2, 2, 2, 2, 2, 2, 2, 2}"
      ],
      "x-application/wolfram-language-html": "<div class=\"wexpr\"><wrow><w></w><wb>{</wb><wrow><w></w><w>1</w><w>,</w><w>2</w><w>,</w><w>2</w><w>,</w><w>2</w><w>,</w><w>2</w><w>,</w><w>2</w><w>,</w><w>2</w><w>,</w><w>2</w><w>,</w><w>2</w><w>,</w><w>2</w></wrow><wb>}</wb></wrow></div>"
     },
     "metadata": {},
     "output_type": "display_data"
    },
    {
     "data": {
      "text/plain": [
       "{1, 3/2, 7/5, 17/12, 41/29, 99/70, 239/169, 577/408, 1393/985, 3363/2378}"
      ],
      "x-application/wolfram-language-html": "<div class=\"wexpr\"><wrow><w></w><wb>{</wb><wrow><w></w><w>1</w><w>,</w><wfrac><w><w>3</w></w><w><w></w><w><w>2</w></w></w></wfrac><w>,</w><wfrac><w><w>7</w></w><w><w></w><w><w>5</w></w></w></wfrac><w>,</w><wfrac><w><w>17</w></w><w><w></w><w><w>12</w></w></w></wfrac><w>,</w><wfrac><w><w>41</w></w><w><w></w><w><w>29</w></w></w></wfrac><w>,</w><wfrac><w><w>99</w></w><w><w></w><w><w>70</w></w></w></wfrac><w>,</w><wfrac><w><w>239</w></w><w><w></w><w><w>169</w></w></w></wfrac><w>,</w><wfrac><w><w>577</w></w><w><w></w><w><w>408</w></w></w></wfrac><w>,</w><wfrac><w><w>1393</w></w><w><w></w><w><w>985</w></w></w></wfrac><w>,</w><wfrac><w><w>3363</w></w><w><w></w><w><w>2378</w></w></w></wfrac></wrow><wb>}</wb></wrow></div>"
     },
     "metadata": {},
     "output_type": "display_data"
    },
    {
     "data": {
      "text/plain": [
       "aa[{1, 2}]"
      ],
      "x-application/wolfram-language-html": "<div class=\"wexpr\"><wrow><w></w><w>aa</w><wrow><w></w><wb>[</wb><wrow><w></w><wb>{</wb><wrow><w></w><w>1</w><w>,</w><w>2</w></wrow><wb>}</wb></wrow><wb>]</wb></wrow></wrow></div>"
     },
     "metadata": {},
     "output_type": "display_data"
    }
   ],
   "source": [
    "(* 连分数 Continued Fraction for Sqrt[2] *)\n",
    "ContinuedFraction[Sqrt[2], 10]   (*generate D series*)\n",
    "Convergents[ContinuedFraction[Sqrt[2], 10]] (*generate each CF*)\n",
    "  (*now do it manually, \n",
    "  Fold[f, x, {a, b, c, d}] == f{f{f{f[x,a],b},c},d}\n",
    "  #1 is the accumulated result; #2 is the the current element;\n",
    "  '&' at the end: defining an anonymous function *)\n",
    "aa[x] := Fold[#2 + 1/#1 &, x, Reverse[x]]; \n",
    "aa[ContinuedFraction[Sqrt[2], 2]]"
   ]
  },
  {
   "cell_type": "markdown",
   "metadata": {},
   "source": []
  },
  {
   "cell_type": "markdown",
   "metadata": {},
   "source": [
    "## Algorithms & Data Structures\n",
    "\n",
    "- Sorting and searching algorithms: 4, 17, 26, 35, 44, 53, 62, 72, 82, 92, 102, 112, 122, 132, 142, 152, 162, 172, 182, 192 [path-planning algorithms animations](https://github.com/zhm-real/PathPlanning#papers)\n",
    "- Dynamic programming: 18, 67, 187, 198, 202\n",
    "- Greedy algorithms: 22, 30, 39, 48, 57, 66, 75, 84, 93, 102, 111, 120, 129, 138, 147, 156, 165, 174, 183, 192\n",
    "- Backtracking: 29, 37, 45, 53, 61, 69, 77, 85, 93, 101, 109, 117, 125, 133, 141, 149, 157, 165, 173, 181, 189, 197\n",
    "- Recursion: 13, 21, 29, 37, 45, 53, 61, 69, 77, 85, 93, 101, 109, 117, 125, 133, 141, 149, 157, 165, 173, 181, 189, 197\n",
    "- Data structures (arrays, lists, stacks, queues, trees, graphs): 19, 27, 35, 43, 51, 59, 67, 75, 83, 91, 99, 107, 115, 123, 131, 139, 147, 155, 163, 171, 179, 187, 195\n",
    "\n",
    "### Recursion/Recurrance\n",
    "\n",
    "- Recursion is a logic idea (non-computational)\n",
    "- Recursion Schemes structurally implement the idea (computational), relying on higher-order functions (fold, unfold). Higher-order functions nested in DE, so RS can model numerical solutions, approximations, or symbolic computations\n",
    "\n",
    "| Catamorphism | fold, recursively reducing a data structure into a single value, like solving an integral or differential equation, where an initial state evolves iteratively | e.g. Euler Method |\n",
    "|---|----------|-------|\n",
    "| Anamorphism  | unfold, recursively builds a structure. generating sequences from DE | e.g. creating Taylor series |\n",
    "| Hylomorphism | fold+unfold, generates a structure and immediately reduces it | E.g. Runge-Kutta Method |\n",
    "| Paramorphism | fold, extension of catamorphism, maintain both the current approximation result and all previous steps | e.g. Euler Method |\n",
    "\n"
   ]
  },
  {
   "cell_type": "markdown",
   "metadata": {},
   "source": [
    "### DP (Dynamic Programming)\n",
    "\n",
    "tips using dynamic programming:\n",
    "\n",
    "- Identify the overlapping subproblems: The first step is to identify smaller, overlapping subproblems.\n",
    "- Define the recurrence relation: in subproblems, you need to define a recurrence relation that relates the solution to a larger problem to the solutions of smaller subproblems.\n",
    "- Implement the dynamic programming solution: You can implement the dynamic programming solution using either top-down or bottom-up approaches.\n",
    "- Optimize your solution: You can optimize your solution by using memoization or tabulation to avoid redundant calculations.\n",
    "\n",
    "practicing: Problem 18: Maximum path sum I\n",
    "Problem 67: Maximum path sum II\n",
    " 187: Prime power triples\n",
    " 198: Counting paths\n",
    " 202: Integer replacements\n",
    " 219: Permutations of a number"
   ]
  },
  {
   "cell_type": "markdown",
   "metadata": {},
   "source": [
    "## Combinatorics and Probability\n",
    "\n",
    "- Permutations and combinations: 15, 24, 32, 40, 49, 59, 62, 68, 74, 80, 88, 94, 100, 106, 114, 122, 130, 139, 147, 159, 167, 176, 185, 192, 200\n",
    "- Probability theory: 19, 26, 34, 44, 52, 64, 77, 91, 103, 115, 127, 135, 145, 153, 161, 170, 179, 189, 197\n",
    "- Combinatorial games\n",
    "- Graph theory\n",
    "- Lattice paths"
   ]
  },
  {
   "cell_type": "markdown",
   "metadata": {},
   "source": [
    "### Graph Theory\n"
   ]
  },
  {
   "cell_type": "code",
   "execution_count": null,
   "metadata": {
    "vscode": {
     "languageId": "wolfram"
    }
   },
   "outputs": [],
   "source": [
    "(* Mess Connex *)\n",
    "Graph[{entrance->A,A->A,A->B,B->C,B->exit1,C->exit2,A->C,C->A,C->A,B->A},VertexLabels->All]\n",
    "(* Loop *)\n",
    "Graph[{1->2,2->3,3->1},VertexLabels->All]\n",
    "(* System - sydney trains and metro *)\n",
    "Graph[{1<->2,2<->3,3<->Central,Central<->5,5<->6,6<->1,2<->7,7<->8,8<->9,\n",
    "9<->10,10<->11,3<->12,14<->11,14<->Chatswood,Central<->16,16<->12,12<->17,17<->18,\n",
    "18<->19,19<->Chatswood,Chatswood<->20,20<->21,21<->22,22<->Epping,Central<->24,24<->25,\n",
    "4<->26,26<->27,27<->28,28<->25,Epping<->29,29<->30,30<->31,31<->32,32<->33,\n",
    "33<->34,34<->35,35<->36,36<->37,37<->26,Epping<->38,Epping<->39,38<->40,\n",
    "40<->41,41<->42,42<->43,43<->44,44<->45,45<->46,39<->47,47<->48,48<->49,\n",
    "49<->50,50<->Hornsby,Hornsby<->52,52<->53,53<->54,54<->55,Hornsby<->56,56<->57,57<->58,\n",
    "58<->59,55<->60,60<->61,61<->62,62<->63,63<->Chatswood,36<->64,64<->65,65<->66\n",
    ",66->67,67->66,66<->68,68<->69,69<->70,70<->71,70<->72,72<->71,71<->73,\n",
    "73<->74,74<->75,75<->76,76<->77},VertexLabels->All]"
   ]
  },
  {
   "cell_type": "markdown",
   "metadata": {},
   "source": [
    "## Geometry\n",
    "\n",
    "- Geometric sequences and series: 16, 23, 31, 41, 50, 60, 70, 80, 90, 100, 110, 120, 130, 140, 150, 160, 170, 180, 190, 200\n",
    "- Pythagorean triples and triangles: 9, 20, 38, 55, 71, 84, 98, 111, 124, 136, 148, 164, 173, 182, 191\n",
    "- Polygons and their properties\n",
    "- Circle geometry\n",
    "- Solid geometry"
   ]
  },
  {
   "cell_type": "markdown",
   "metadata": {},
   "source": [
    "## Other\n",
    "\n",
    "- Cryptography\n",
    "- Numerical analysis\n",
    "- Calculus\n",
    "- Game theory"
   ]
  }
 ],
 "metadata": {
  "language_info": {
   "name": "python"
  }
 },
 "nbformat": 4,
 "nbformat_minor": 2
}
