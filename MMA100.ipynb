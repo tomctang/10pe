{
 "cells": [
  {
   "cell_type": "markdown",
   "metadata": {},
   "source": [
    "# MMA Q1-100"
   ]
  },
  {
   "cell_type": "markdown",
   "metadata": {},
   "source": [
    "## Problems 1-50"
   ]
  },
  {
   "cell_type": "code",
   "execution_count": null,
   "metadata": {
    "vscode": {
     "languageId": "wolfram"
    }
   },
   "outputs": [],
   "source": [
    "(* 26 *)\n",
    "(* learn 4 functions: \n",
    "    Association[]\n",
    "    Module[]\n",
    "    KeyExistsQ[]\n",
    "    Mod[] *)\n",
    "cycleLength[d_] := Module[{rems = Association[], num = 1, pos = 1},\n",
    "  While[! KeyExistsQ[rems, num] && num != 0,\n",
    "    rems[num] = pos;\n",
    "    num = Mod[10 num, d];\n",
    "    pos++   ];\n",
    "  If[num == 0, 0, pos - rems[num]]];\n",
    "\n",
    "SortBy[Range[888, 999], cycleLength]\n",
    "cycleLength[983]"
   ]
  },
  {
   "cell_type": "code",
   "execution_count": null,
   "metadata": {
    "vscode": {
     "languageId": "wolfram"
    }
   },
   "outputs": [],
   "source": [
    "(* 31 Coin Sums: use graph traversal (DFS) with memoization*)\n",
    "(* learn functions:\n",
    "    ClearAll[] \n",
    "    Memoization(:= ... =): store results to avoid recalculating for the same pair\n",
    "    Table[]: loop over each coin in validCoins *)\n",
    "ClearAll[graphSearchWays];\n",
    "validCoins = {1, 2, 5, 10, 20, 50, 100, 200};\n",
    "graphSearchWays[n_, maxCoin_] := graphSearchWays[n, maxCoin] =\n",
    "  If[n == 0, \n",
    "          1, \n",
    "   Total[Table[If[coin <= maxCoin && coin <= n \n",
    "                  , graphSearchWays[n - coin, coin]\n",
    "                  , 0], {coin, validCoins}] ]];\n",
    "\n",
    "graphSearchWays[200, 200] (*calculate n of total pairs*)\n",
    "TreeForm[ (*see logic structure*)\n",
    "  If[n == 0, 1, \n",
    "  Total[Table[If[coin <= maxCoin && coin <= n, \n",
    "              graphSearchWays[n - coin, coin], \n",
    "              0], {coin, validCoins}]]]]"
   ]
  },
  {
   "cell_type": "markdown",
   "metadata": {},
   "source": [
    "32. Math easy, coding hard. \n",
    "    1) memoization use (:= ... )\n",
    "    2) gen number from digits using string, all possible combinations of digits where each digit be used only once\n",
    "    3) I tried numerically way, but computing time doubled\n",
    "    4) IntegerString[], Characters[]\n",
    "    5) Flatten[]\n",
    "    6) Apply[] -> @@"
   ]
  },
  {
   "cell_type": "code",
   "execution_count": null,
   "metadata": {
    "vscode": {
     "languageId": "wolfram"
    }
   },
   "outputs": [
    {
     "data": {
      "text/plain": [
       "{6952, 7852, 5796, 5346, 4396, 7254, 7632}"
      ],
      "x-application/wolfram-language-html": "<div class=\"wexpr\"><wrow><w></w><wb>{</wb><wrow><w></w><w>6952</w><w>,</w><w>7852</w><w>,</w><w>5796</w><w>,</w><w>5346</w><w>,</w><w>4396</w><w>,</w><w>7254</w><w>,</w><w>7632</w></wrow><wb>}</wb></wrow></div>"
     },
     "metadata": {},
     "output_type": "display_data"
    },
    {
     "data": {
      "text/plain": [
       "45228"
      ],
      "x-application/wolfram-language-html": "<div class=\"wexpr\"><w>45228</w></div>"
     },
     "metadata": {},
     "output_type": "display_data"
    }
   ],
   "source": [
    "(* 32 Pandigital Products *)\n",
    "(* Check if the concatenation of x, y, product forms a 1-9 pandigital number stringly*)\n",
    "pandigitalQ[x_, y_, xy_] := \n",
    "  StringLength[ str=IntegerString[x] <> IntegerString[y] <> IntegerString[xy] ] == 9 && \n",
    "  Sort[Characters[str]] == Characters[\"123456789\"] ; \n",
    "\n",
    "(* List all valid xy then sum *)\n",
    "pandigitalProducts = DeleteDuplicates[\n",
    "    Select[ Flatten[ Table[{x, y, x*y}, {x, 1, 99}, {y, 1, 9999}], 1 ]\n",
    "          , pandigitalQ @@ # & ]\n",
    "          [[All, 3]] ]\n",
    "\n",
    "Total[pandigitalProducts]"
   ]
  },
  {
   "cell_type": "code",
   "execution_count": null,
   "metadata": {
    "vscode": {
     "languageId": "wolfram"
    }
   },
   "outputs": [],
   "source": [
    "(* 33 Digit Cancelling Fractions *)\n"
   ]
  },
  {
   "cell_type": "code",
   "execution_count": null,
   "metadata": {
    "vscode": {
     "languageId": "wolfram"
    }
   },
   "outputs": [
    {
     "data": {
      "text/plain": [
       "{2, 3, 5, 7, 11, 13, 17, 31, 37, 71, 73, 79, 97, 113, 131, 197, 199, 311, 337, 373, 719, 733, 919, 971, 991, 1193, 1931, 3119, 3779, 7793, 7937, 9311, 9377, 11939, 19391, 19937, 37199, 39119, 71993, 91193, 93719, 93911, 99371, 193939, 199933, 319993, 331999, 391939, 393919, 919393, 933199, 939193, 939391, 993319, 999331}"
      ],
      "x-application/wolfram-language-html": "<div class=\"wexpr\"><wrow><w></w><wb>{</wb><wrow><w></w><w>2</w><w>,</w><w>3</w><w>,</w><w>5</w><w>,</w><w>7</w><w>,</w><w>11</w><w>,</w><w>13</w><w>,</w><w>17</w><w>,</w><w>31</w><w>,</w><w>37</w><w>,</w><w>71</w><w>,</w><w>73</w><w>,</w><w>79</w><w>,</w><w>97</w><w>,</w><w>113</w><w>,</w><w>131</w><w>,</w><w>197</w><w>,</w><w>199</w><w>,</w><w>311</w><w>,</w><w>337</w><w>,</w><w>373</w><w>,</w><w>719</w><w>,</w><w>733</w><w>,</w><w>919</w><w>,</w><w>971</w><w>,</w><w>991</w><w>,</w><w>1193</w><w>,</w><w>1931</w><w>,</w><w>3119</w><w>,</w><w>3779</w><w>,</w><w>7793</w><w>,</w><w>7937</w><w>,</w><w>9311</w><w>,</w><w>9377</w><w>,</w><w>11939</w><w>,</w><w>19391</w><w>,</w><w>19937</w><w>,</w><w>37199</w><w>,</w><w>39119</w><w>,</w><w>71993</w><w>,</w><w>91193</w><w>,</w><w>93719</w><w>,</w><w>93911</w><w>,</w><w>99371</w><w>,</w><w>193939</w><w>,</w><w>199933</w><w>,</w><w>319993</w><w>,</w><w>331999</w><w>,</w><w>391939</w><w>,</w><w>393919</w><w>,</w><w>919393</w><w>,</w><w>933199</w><w>,</w><w>939193</w><w>,</w><w>939391</w><w>,</w><w>993319</w><w>,</w><w>999331</w></wrow><wb>}</wb></wrow></div>"
     },
     "metadata": {},
     "output_type": "display_data"
    }
   ],
   "source": [
    "(*35 Circular Sums*) \n",
    "rotations[n_Integer] := Module[{digits = IntegerDigits[n]},\n",
    "  FromDigits /@ NestList[RotateLeft, digits, Length[digits] - 1]]\n",
    "\n",
    "isCircularPrime[n_Integer] := AllTrue[rotations[n], PrimeQ] (*if all rotations of a number are prime*)\n",
    "circularPrimes = Select[Range[2, 999999], isCircularPrime]"
   ]
  },
  {
   "cell_type": "markdown",
   "metadata": {},
   "source": [
    "38. I didn't see the answer? what happened in your mind? take notes in natural language \n",
    "- "
   ]
  },
  {
   "cell_type": "code",
   "execution_count": null,
   "metadata": {
    "vscode": {
     "languageId": "wolfram"
    }
   },
   "outputs": [],
   "source": [
    "(* 38 Pandigital Multiples\n",
    "    already presented (1,2,3) and (1,2,3,4,5)->918273645,(1,2,3,4,5,6,7,8,9)->123456789,calculated 3 options and n>1\n",
    "    left 2 options: (1,2,3,4,5,6,7) (1,2,3,4,5,6,7,8) *)\n",
    "(* (1,2) *1=****, *2=1****,\n",
    " (1,2,3,4) *1=**, *2=**, *3=**, *4=***,\n",
    "  (1,2,3,4,5,6) *1=*, *2=*, *3=*, *4=**, *5=**, *6=**,\n",
    "   (1,2,3,4,5,6,7) and (1,2,3,4,5,6,7,8) not possible*)\n",
    "Select[Range[5000, 9999], \n",
    "  Function[n, \n",
    "    Length[Union[IntegerDigits[n], IntegerDigits[2 n]]] == 9 && \n",
    "    1000 <= 2 n < 100000\n",
    "  ]\n",
    "]\n",
    "Select[Range[10, 99], Function[n, Length[Union[IntegerDigits[n #]] & /@ Range[4]]] == 9]\n",
    "Select[Range[1, 100], \n",
    "  Function[n, \n",
    "    Length[Union[IntegerDigits[n], IntegerDigits[6 n]]] == 9 && \n",
    "    1 <= 6 n < 100000\n",
    "  ]\n",
    "]\n",
    "Select[Range[100,1000], \n",
    "  Function[n, \n",
    "    Length[Union[IntegerDigits[n], IntegerDigits[3 n]]] == 9 && \n",
    "    1 <= 3 n < 100000\n",
    "  ]\n",
    "]"
   ]
  },
  {
   "cell_type": "code",
   "execution_count": null,
   "metadata": {
    "vscode": {
     "languageId": "wolfram"
    }
   },
   "outputs": [],
   "source": [
    "(* 45 Triangular, Pentagonal, and Hexagonal \n",
    "    what I can learn?\n",
    "    1) defining series \n",
    "    2) finding common items in lists using set theory: Intersection and Union*)\n",
    "n=99999;\n",
    "Tri = #(# + 1)/2 &  /@ Range[n];\n",
    "Pen = #(3# - 1)/2 & /@ Range[n];\n",
    "Hex = #(2# - 1) &   /@ Range[n];\n",
    "Intersection[Tri,Pen,Hex]"
   ]
  },
  {
   "cell_type": "code",
   "execution_count": null,
   "metadata": {
    "vscode": {
     "languageId": "wolfram"
    }
   },
   "outputs": [],
   "source": [
    "(* 47 Distinct Primes Factors*)\n",
    "lst=Table[FactorInteger[n],{n,134040,134050}];\n",
    "lst1=Length/@lst;\n",
    "ans=Select[Range[Length[lst1]],lst1[[#]]==4&];\n",
    "ans1=Select[Range[3,Length[ans]],ans[[#]]==ans[[#-3]]+3&]\n",
    "ans\n",
    "(* learn 5 functions:\n",
    "    Table[]\n",
    "    Length[]\n",
    "    FactorInteger[]\n",
    "    Select[]\n",
    "    Range[]*)"
   ]
  },
  {
   "cell_type": "code",
   "execution_count": null,
   "metadata": {
    "vscode": {
     "languageId": "wolfram"
    }
   },
   "outputs": [],
   "source": [
    "matrix = {\n",
    "  {7, 53, 183, 439, 863, 497, 383, 563, 79, 973, 287, 63, 343, 169, 583},\n",
    "  {627, 343, 773, 959, 943, 767, 473, 103, 699, 303, 957, 703, 583, 639, 913},\n",
    "  {447, 283, 463, 29, 23, 487, 463, 993, 119, 883, 327, 493, 423, 159, 743},\n",
    "  {217, 623, 3, 399, 853, 407, 103, 983, 89, 463, 290, 516, 212, 462, 350},\n",
    "  {960, 376, 682, 962, 300, 780, 486, 502, 912, 800, 250, 346, 172, 812, 350},\n",
    "  {870, 456, 192, 162, 593, 473, 915, 45, 989, 873, 823, 965, 425, 329, 803},\n",
    "  {973, 965, 905, 919, 133, 673, 665, 235, 509, 613, 673, 815, 165, 992, 326},\n",
    "  {322, 148, 972, 962, 286, 255, 941, 541, 265, 323, 925, 281, 601, 95, 973},\n",
    "  {445, 721, 11, 525, 473, 65, 511, 164, 138, 672, 18, 428, 154, 448, 848},\n",
    "  {414, 456, 310, 312, 798, 104, 566, 520, 302, 248, 694, 976, 430, 392, 198},\n",
    "  {184, 829, 373, 181, 631, 101, 969, 613, 840, 740, 778, 458, 284, 760, 390},\n",
    "  {821, 461, 843, 513, 17, 901, 711, 993, 293, 157, 274, 94, 192, 156, 574},\n",
    "  {34, 124, 4, 878, 450, 476, 712, 914, 838, 669, 875, 299, 823, 329, 699},\n",
    "  {815, 559, 813, 459, 522, 788, 168, 586, 966, 232, 308, 833, 251, 631, 107},\n",
    "  {813, 883, 451, 509, 615, 77, 281, 613, 459, 205, 380, 274, 302, 35, 805}\n",
    "};\n",
    "maxRowTotal = Max[Total /@ matrix]\n",
    "maxColumnTotal=Max[Total /@ Transpose[matrix]]"
   ]
  },
  {
   "cell_type": "markdown",
   "metadata": {},
   "source": [
    "## Problems 51-100"
   ]
  },
  {
   "cell_type": "code",
   "execution_count": null,
   "metadata": {
    "vscode": {
     "languageId": "wolfram"
    }
   },
   "outputs": [],
   "source": [
    "(* 65 Convergents of e *)\n"
   ]
  },
  {
   "cell_type": "code",
   "execution_count": null,
   "metadata": {
    "vscode": {
     "languageId": "wolfram"
    }
   },
   "outputs": [],
   "source": [
    "(* 69 Totient Maximum, also called \\phi function*)\n",
    "(* seq = Table[ n/Length[Select[Range[n], CoprimeQ[#, n] == True &]]\n",
    "             , {n, 10}] ;   pretty slow  *)\n",
    "seq = Table[ n/EulerPhi[n] , {n, 1000000} ];\n",
    "Position[seq, Max[seq]]\n",
    "Max[seq]"
   ]
  },
  {
   "cell_type": "code",
   "execution_count": null,
   "metadata": {
    "vscode": {
     "languageId": "wolfram"
    }
   },
   "outputs": [],
   "source": [
    "(* 71 Ordered Fractions \n",
    "    Table[] gen [{numerator}, {denominator}]\n",
    "    Floor[] gen greatest integer <= d*target\n",
    "    Select[] and MaximalBy[], both are [list + function]\n",
    "    [[2]] the 2nd item, #[[2]] the 2nd input of the function \n",
    "    *)\n",
    "target = 3/7;\n",
    "MaximalBy[Select[  Table[ {Floor[d*target], d}, {d, 2, 1000000} ], \n",
    "                          #[[1]]/#[[2]] < target & ], \n",
    "         #[[1]]/#[[2]] & ]"
   ]
  },
  {
   "cell_type": "code",
   "execution_count": null,
   "metadata": {
    "vscode": {
     "languageId": "wolfram"
    }
   },
   "outputs": [],
   "source": [
    "(* 80 Square Root Digital Expansion*)\n",
    "numberDigits = RealDigits[Sqrt[2], 10, 100][[1]]\n",
    "lst=Complement[Range[1, 99], Table[n^2, {n, 1, Floor[Sqrt[99]]}]];\n",
    "totalNumberDigits=Table[RealDigits[Sqrt[i], 10, 100][[1]],{i,lst}];\n",
    "lst1={{1,2,3,4,5},{6,7,8,9,10}};\n",
    "Total[Total[lst1]]\n",
    "Total[Total[totalNumberDigits]]\n",
    "(* learn 3 functions:\n",
    "    RealDigits[] give a list of len digit\n",
    "    Complement[] after excluding the subsequent lists, the complement from the first list \n",
    "    Total[] *)"
   ]
  },
  {
   "cell_type": "code",
   "execution_count": null,
   "metadata": {
    "vscode": {
     "languageId": "wolfram"
    }
   },
   "outputs": [],
   "source": [
    "(* 99 Largest Exponential\n",
    "   [[2]] denotes the 2nd item in {{1,2},{1,2}} *)\n",
    "data = Import[\"https://projecteuler.net/resources/documents/0099_base_exp.txt\", \"CSV\"];\n",
    "new = Map[#[[2]] * Log[#[[1]]] &, data];\n",
    "Position[new, Max[new]]"
   ]
  },
  {
   "cell_type": "markdown",
   "metadata": {},
   "source": [
    "## Problems 101-200"
   ]
  },
  {
   "cell_type": "code",
   "execution_count": null,
   "metadata": {
    "vscode": {
     "languageId": "wolfram"
    }
   },
   "outputs": [],
   "source": [
    "(* 121 Disc Game Prize Fund \n",
    "    Person will have to pull out blue >=8 times*)\n",
    "ncr[n_,r_]:=n!/(r!*(n-r)!) (*n choose r combinatorics function*)\n",
    "blueChance[blues_]:=\n",
    "lst=Table[blueChance[n]*ncr[15,n],{n,8,15}]\n",
    "n=Floor[1/(Total[lst]/2^15)]"
   ]
  },
  {
   "cell_type": "code",
   "execution_count": null,
   "metadata": {
    "vscode": {
     "languageId": "wolfram"
    }
   },
   "outputs": [],
   "source": [
    "(* 125 Palindromic Sums *)\n",
    "(* add Boole[] to count number of times when <10^8 *)\n",
    "(* learnt functions:\n",
    "    Accumulate[]\n",
    "    AnyTrue[{},test] true if any input passes the test\n",
    "    MemberQ[{},___] true if any element in list is ___\n",
    "    Module[]??? *)\n",
    "isSumOfConsecutiveSquares[n_Integer] := \n",
    " Module[{maxK, sumsOfSquares},\n",
    "  maxK = Floor[Sqrt[n]];\n",
    "\n",
    "  (* Generate cumulative sums of consecutive squares starting from each k *)\n",
    "  sumsOfSquares = Table[\n",
    "    Accumulate[Table[(k + i)^2, {i, 0, maxK - k}]],\n",
    "    {k, 1, maxK}\n",
    "  ];\n",
    "\n",
    "  (* Check if any sum sequence contains n with more than one term *)\n",
    "  AnyTrue[sumsOfSquares, MemberQ[#, n] && Length[#] > 1 &]\n",
    "]\n",
    "\n",
    "isSumSquaresPalindromic[n_Integer]:=isSumOfConsecutiveSquares[n]&&PalindromeQ[n]\n",
    "lst=Table[isSumSquaresPalindromic[n],{n,2,9999}];\n",
    "Count[lst,True]"
   ]
  },
  {
   "cell_type": "code",
   "execution_count": null,
   "metadata": {
    "vscode": {
     "languageId": "wolfram"
    }
   },
   "outputs": [],
   "source": [
    "(* 162 Hexadecimal Numbers *)\n",
    "lst=Table[(n-1)*Factorial[n-1]/Factorial[n-3]*(14^(n-3)),{n,3,16}];\n",
    "lst1=Table[(n-1)*Factorial[n-1]/Factorial[n-3]*(16^(n-3)),{n,3,16}];\n",
    "n=(Total[lst1]-Total[lst])/2;\n",
    "n=\n",
    "BaseForm[Total[lst]+n,16]"
   ]
  },
  {
   "cell_type": "code",
   "execution_count": null,
   "metadata": {
    "vscode": {
     "languageId": "wolfram"
    }
   },
   "outputs": [],
   "source": [
    "14*Factorial[14]/Factorial[12]\n",
    "15*Factorial[15]/Factorial[13]\n",
    "2*Factorial[2]/Factorial[0]*16^0"
   ]
  },
  {
   "cell_type": "code",
   "execution_count": null,
   "metadata": {
    "vscode": {
     "languageId": "wolfram"
    }
   },
   "outputs": [],
   "source": [
    "0123456789ABCDEF\n",
    "[1,A,0,0,0,0,0,0,0,0,0,0,0,0,0,0]"
   ]
  },
  {
   "cell_type": "code",
   "execution_count": null,
   "metadata": {
    "vscode": {
     "languageId": "wolfram"
    }
   },
   "outputs": [],
   "source": [
    "(* 187 Semiprimes \n",
    "    Q: the code takes 11min, faster??? *)\n",
    "Total[Table[ \n",
    "            Boole[ Total[FactorInteger[n]][[2]] == 2 ]\n",
    "            , {n,3,99999999} ] \n",
    "    ]"
   ]
  },
  {
   "cell_type": "code",
   "execution_count": null,
   "metadata": {
    "vscode": {
     "languageId": "wolfram"
    }
   },
   "outputs": [],
   "source": [
    "(* speed up but wrong answer ?? - add {{_,2}} *)\n",
    "(* takes >11 min??? *)\n",
    "Count[ FactorInteger /@ Range[3, 10^8-1] \n",
    "      ,{{_, 1},{_, 1}} | {{_,2}}\n",
    "      ]"
   ]
  },
  {
   "cell_type": "code",
   "execution_count": null,
   "metadata": {
    "vscode": {
     "languageId": "wolfram"
    }
   },
   "outputs": [],
   "source": [
    "lst=Table[ \n",
    "    Boole[ Length[ FactorInteger[n] ]==2 ],\n",
    "    {n,3,30}]"
   ]
  },
  {
   "cell_type": "code",
   "execution_count": null,
   "metadata": {
    "vscode": {
     "languageId": "wolfram"
    }
   },
   "outputs": [],
   "source": [
    "lst={{2,5},{3,1}};\n",
    "Total[lst][[2]]"
   ]
  }
 ],
 "metadata": {
  "language_info": {
   "name": "python"
  }
 },
 "nbformat": 4,
 "nbformat_minor": 2
}
