{
 "cells": [
  {
   "attachments": {},
   "cell_type": "markdown",
   "metadata": {},
   "source": [
    "# Lottery Math  \n",
    "\n",
    "This is the accompaying Jupyter Notebook to [my article 网站已失效](http://urbanscientist.cool/articles/19/Mathematics-of-the-Powerball-blog/). Here we will take a quick computational walkthrough the article and the functions defined within it. 来自：https://github.com/UrbanScientist\n",
    "\n",
    "## Calculating the Total number of Combinations & Permutations\n",
    "As in the article I am quick to point out that factorials are computationally ineffecient. We will use them for simple explanation’s sake. Using the defined n, and k within equation in the article. We us them below to arrive at the total number of combinations including permutations, or just combinations within the Powerball lottery.\n",
    "\n",
    "* *n = denotes the maximum value in a range from (1,n)*\n",
    "* *k = denotes the number of values selected from the n range*\n",
    "\n",
    "The computational expression of the binomial coefficient calculation expresses the optionality to include or exclude permutations using the perm parameter. There is also a Scipy Module that can be used called \"binom()\"there is however no way to alter it to have permutations within it. This is why we built our own binomial function. "
   ]
  },
  {
   "cell_type": "code",
   "execution_count": null,
   "metadata": {
    "collapsed": true
   },
   "outputs": [],
   "source": [
    "#Import the Necessities\n",
    "from scipy.special import factorial, binom\n",
    "import numpy as np\n",
    "import pandas as pd\n",
    "\n",
    "def binomial_coefficient(n,k,perm=False):\n",
    "    '''Calculates the Binomial Coefficient (n choose k)\n",
    "\n",
    "    Keyword Arguments:\n",
    "    n = denotes the maximum value in a range from (1,n)\n",
    "    k = denotes the number of values selected from the (1,n) range\n",
    "    perm = denotes whether permutations are included\n",
    "    '''\n",
    "    if perm is True:\n",
    "        binomial_coefficient = round((factorial(n)) / factorial(n-k))\n",
    "    else:\n",
    "        binomial_coefficient = round((factorial(n)) / (factorial(k) * factorial(n-k)))\n",
    "    return binomial_coefficient"
   ]
  },
  {
   "cell_type": "markdown",
   "metadata": {},
   "source": [
    "### Total Number of Combinations and Permutations \n",
    "\n",
    "Taking note that the powerball is a *selection without replacement* meaning that once a number is drawn out of a pool it can no longer be drawn. This means that we must get rid of any permuatations within our calculation. "
   ]
  },
  {
   "cell_type": "code",
   "execution_count": null,
   "metadata": {},
   "outputs": [],
   "source": [
    "binomial_coefficient(69,5,perm=True)"
   ]
  },
  {
   "cell_type": "markdown",
   "metadata": {},
   "source": [
    "### Total Number of Combinations\n",
    "\n",
    "Using the function without using the perm parameter, or declaring it false yeilds us with the total number of combinations deviod of any permutations. "
   ]
  },
  {
   "cell_type": "code",
   "execution_count": null,
   "metadata": {},
   "outputs": [],
   "source": [
    "#binomial_coefficient(69,5, perm=False)\n",
    "binomial_coefficient(69,5)"
   ]
  },
  {
   "attachments": {},
   "cell_type": "markdown",
   "metadata": {},
   "source": [
    "## Calculating the Odds of Each Ticket Combination\n",
    "\n",
    "This function gives us the ability to calcluate the range of odds of drawing X correct balls in a non-powerball or one-powerball style lottery. The function takes the n,k,and pmax parameters as inputs and 2 lists with the calculated odds of winning with the powerball or without the powerball. In a lottery without the powerball pool it returns an empty list. "
   ]
  },
  {
   "cell_type": "code",
   "execution_count": 2,
   "metadata": {},
   "outputs": [],
   "source": [
    "def powerball_odds(n,k,pmax=0):\n",
    "    '''Calcluates the range of odds of drawing X correct balls in a non-powerball or one-powerball style lottery.\n",
    "    \n",
    "    Keyword Arguments:\n",
    "    n: The total number of balls in the lottery's drawing\n",
    "    k: The total number of balls that a player can draw out of the n pool\n",
    "    pmax:(optional): The maximum value if there is a powerball drawn from a seperate pool.        \n",
    "    '''\n",
    "    global odds_list\n",
    "    global odds_list_PB\n",
    "    odds_list_PB = []\n",
    "    odds_list = []\n",
    "    m = n-k\n",
    "    for i in range(k+1):\n",
    "        f = k-i\n",
    "        odds_a = binomial_coefficient(k,i)\n",
    "        odds_b = binomial_coefficient(m,f)\n",
    "        odds_c = binomial_coefficient(n,k)\n",
    "        if pmax == 0:\n",
    "            odds = 1/((odds_a * odds_b)/odds_c)\n",
    "            odds_list.append(odds)\n",
    "        else:\n",
    "            odds_d = 1/((odds_a * odds_b)/odds_c)\n",
    "            odds_PB = odds_d * pmax\n",
    "            odds_wo_PB = odds_d * pmax / (pmax - 1)\n",
    "            odds_list_PB.append(odds_PB)\n",
    "            odds_list.append(odds_wo_PB)\n",
    "    return odds_list, odds_list_PB"
   ]
  },
  {
   "cell_type": "markdown",
   "metadata": {},
   "source": [
    "### Calculating the odds of the Powerball from October 2015 - Current"
   ]
  },
  {
   "cell_type": "code",
   "execution_count": null,
   "metadata": {},
   "outputs": [],
   "source": [
    "powerball_odds(69,5,pmax=26)"
   ]
  },
  {
   "cell_type": "markdown",
   "metadata": {},
   "source": [
    "### A Quick Clean\n",
    "Lets Clean the lists up a bit. "
   ]
  },
  {
   "cell_type": "code",
   "execution_count": 3,
   "metadata": {},
   "outputs": [
    {
     "ename": "NameError",
     "evalue": "name 'odds_list' is not defined",
     "output_type": "error",
     "traceback": [
      "\u001b[1;31m---------------------------------------------------------------------------\u001b[0m",
      "\u001b[1;31mNameError\u001b[0m                                 Traceback (most recent call last)",
      "Cell \u001b[1;32mIn[3], line 11\u001b[0m\n\u001b[0;32m      8\u001b[0m PayoutWO \u001b[38;5;241m=\u001b[39m [\u001b[38;5;241m0\u001b[39m,\u001b[38;5;241m0\u001b[39m,\u001b[38;5;241m0\u001b[39m,\u001b[38;5;241m7\u001b[39m,\u001b[38;5;241m100\u001b[39m,\u001b[38;5;241m1000000\u001b[39m]\n\u001b[0;32m     10\u001b[0m \u001b[38;5;66;03m#Clean the Odds Lists\u001b[39;00m\n\u001b[1;32m---> 11\u001b[0m OddsWO \u001b[38;5;241m=\u001b[39m \u001b[38;5;28mlist\u001b[39m(\u001b[38;5;28mmap\u001b[39m(\u001b[38;5;28;01mlambda\u001b[39;00m x: \u001b[38;5;28mint\u001b[39m(x), \u001b[43modds_list\u001b[49m))\n\u001b[0;32m     12\u001b[0m Odds_W \u001b[38;5;241m=\u001b[39m \u001b[38;5;28mlist\u001b[39m(\u001b[38;5;28mmap\u001b[39m(\u001b[38;5;28;01mlambda\u001b[39;00m x: \u001b[38;5;28mint\u001b[39m(x), odds_list_PB))\n\u001b[0;32m     14\u001b[0m \u001b[38;5;66;03m#Create the DataFrame    \u001b[39;00m\n",
      "\u001b[1;31mNameError\u001b[0m: name 'odds_list' is not defined"
     ]
    }
   ],
   "source": [
    "#Define the Ticket Combinations\n",
    "Correct_Numbers = [i for i in range(6)]\n",
    "Correct_Powerball = 'Powerball'\n",
    "Incorrect_Powerball = 'No Powerball'\n",
    "    \n",
    "#Define the Payouts ($)\n",
    "PayoutW_69 = [4,4,7,100,50000,'Jackpot']\n",
    "PayoutWO = [0,0,0,7,100,1000000]\n",
    "    \n",
    "#Clean the Odds Lists\n",
    "OddsWO = list(map(lambda x: int(x), odds_list))\n",
    "Odds_W = list(map(lambda x: int(x), odds_list_PB))\n",
    "    \n",
    "#Create the DataFrame    \n",
    "OddsW_6926 = pd.DataFrame({'# Correct':Correct_Numbers, 'Correct Powerball #': Correct_Powerball,'Odds1: 1/Probability': Odds_W,\n",
    "                            'Payout':PayoutW_69})\n",
    "OddsWO_6926 = pd.DataFrame({'# Correct':Correct_Numbers, 'Correct Powerball #': Incorrect_Powerball,'Odds: 1/Probability':OddsWO,\n",
    "                             'Payout': PayoutWO})"
   ]
  },
  {
   "cell_type": "markdown",
   "metadata": {},
   "source": [
    "### The Odds with getting the correct Powerball\n",
    "\n",
    "This dataframe also includes the associated payouts in ($) in the payout column.  "
   ]
  },
  {
   "cell_type": "code",
   "execution_count": null,
   "metadata": {},
   "outputs": [],
   "source": [
    "OddsW_6926"
   ]
  },
  {
   "cell_type": "markdown",
   "metadata": {},
   "source": [
    "### The Odds without getting the correct Powerball"
   ]
  },
  {
   "cell_type": "code",
   "execution_count": null,
   "metadata": {},
   "outputs": [],
   "source": [
    "OddsWO_6926"
   ]
  },
  {
   "cell_type": "markdown",
   "metadata": {},
   "source": [
    "### Calculating the odds of the Powerball from January 2012 - October 2015\n",
    "\n",
    "Let us take a look at how the powerball has changed from the most previous version of the game. It was played where, n = 59, k = 5, and the size of the pool that the powerball could be drawn from ranged to 35. This when ran through the same processes that weused prior shows us how the odds have changed in our favor. "
   ]
  },
  {
   "cell_type": "code",
   "execution_count": null,
   "metadata": {},
   "outputs": [],
   "source": [
    "powerball_odds(59,5,pmax=35)"
   ]
  },
  {
   "cell_type": "code",
   "execution_count": null,
   "metadata": {},
   "outputs": [],
   "source": [
    "#Define the Payouts ($)\n",
    "PayoutW_59 = [4,4,7,100,10000,'Jackpot']\n",
    "PayoutWO = [0,0,0,7,100,1000000]\n",
    "    \n",
    "#Clean the Odds Lists\n",
    "Odds_WO59 = list(map(lambda x: int(x), odds_list))\n",
    "Odds_W59 = list(map(lambda x: int(x), odds_list_PB))\n",
    "\n",
    "#Create the DataFrame    \n",
    "OddsW_5935 = pd.DataFrame({'# Correct':Correct_Numbers, 'Correct Powerball #': Correct_Powerball,'Odds1: 1/Probability': Odds_W59,\n",
    "                            'Payout':PayoutW_59})\n",
    "OddsWO_5935 = pd.DataFrame({'# Correct':Correct_Numbers, 'Correct Powerball #': Incorrect_Powerball,'Odds: 1/Probability':Odds_WO59,\n",
    "                             'Payout': PayoutWO})"
   ]
  },
  {
   "cell_type": "markdown",
   "metadata": {},
   "source": [
    "### The Odds with getting the correct Powerball (2012-2015)"
   ]
  },
  {
   "cell_type": "code",
   "execution_count": null,
   "metadata": {},
   "outputs": [],
   "source": [
    "OddsW_5935"
   ]
  },
  {
   "cell_type": "markdown",
   "metadata": {},
   "source": [
    "### The Odds without getting the correct Powerball (2012-2015)"
   ]
  },
  {
   "cell_type": "code",
   "execution_count": null,
   "metadata": {},
   "outputs": [],
   "source": [
    "OddsWO_5935"
   ]
  },
  {
   "attachments": {},
   "cell_type": "markdown",
   "metadata": {},
   "source": [
    "## A Quick Comparison between the two Odds"
   ]
  },
  {
   "cell_type": "code",
   "execution_count": null,
   "metadata": {},
   "outputs": [],
   "source": [
    "difference = [Odds_W[i] - Odds_W59[i] for i in range(5)]\n",
    "print(difference)"
   ]
  },
  {
   "cell_type": "code",
   "execution_count": null,
   "metadata": {},
   "outputs": [],
   "source": [
    "difference1 = [OddsWO[i] - Odds_WO59[i] for i in range(5)]\n",
    "print(difference1)"
   ]
  },
  {
   "cell_type": "markdown",
   "metadata": {},
   "source": [
    "### The change in 2015\n",
    "\n",
    "That change in the sizes of the pools in the powerball accomplished two things. It first improved the odds of having a winning ticket with the powerball for tickets with 3 correct numbers or less. Secondly it decreased the odds of having a winning ticket with the powerball for tickets with 4 or more correct numbers. For tickets without the correct powerball the odds of winning either stayed the same or increased. This change has allowed the powerball to increase the coverage of the lottery thus implicitly causing higher jackpot payouts. "
   ]
  },
  {
   "cell_type": "markdown",
   "metadata": {},
   "source": [
    "## God's view"
   ]
  },
  {
   "cell_type": "code",
   "execution_count": null,
   "metadata": {},
   "outputs": [],
   "source": [
    "# Importing modules\n",
    "import random\n",
    "from scipy.stats import rankdata\n",
    "from scipy import stats\n",
    "import numpy as np\n",
    "import pandas as pd\n",
    "import matplotlib.pyplot as plt\n",
    "from pandas import ExcelWriter\n",
    "\n",
    "guessed_balls = 0  #guessed balls\n",
    "lottery_balls = 1  #lottery balls\n",
    "\n",
    "# set high level stats\n",
    "plays = 0\n",
    "ticket_spending = 0\n",
    "winnings = 0\n",
    "\n",
    "# set records of winnings\n",
    "jackpot = 0\n",
    "five_white = 0\n",
    "four_white_mega = 0\n",
    "four_white = 0\n",
    "three_white_mega = 0\n",
    "three_white = 0\n",
    "two_white_mega = 0\n",
    "one_white_mega = 0\n",
    "mega = 0\n",
    "dud = 0\n",
    "won = plays-dud\n",
    "\n",
    "# 这个循环 Loop 跑了两个小时\n",
    "\n",
    "while guessed_balls != lottery_balls:\n",
    "    \n",
    "    guessed_balls = sorted(random.sample(range(1,69), 5))\n",
    "    guessed_balls_set = set(guessed_balls)\n",
    "    guessed_megaball = random.randint(1,26)\n",
    "    guessed_balls.append(guessed_megaball)  # 加入附加球\n",
    "\n",
    "    lottery_balls = sorted(random.sample(range(1,69), 5))\n",
    "    lottery_balls_set = set(lottery_balls)\n",
    "    lottery_megaball = random.randint(1,26)\n",
    "    lottery_balls.append(lottery_megaball)  # 加入附加球\n",
    "    \n",
    "    difference_whites = len(guessed_balls_set.symmetric_difference(lottery_balls_set))\n",
    "    plays +=1\n",
    "    ticket_spending +=2\n",
    "    \n",
    "    #dud1\n",
    "    if difference_whites == 10 and guessed_megaball != lottery_megaball:\n",
    "        dud +=1\n",
    "    #dud2\n",
    "    elif difference_whites == 8 and guessed_megaball != lottery_megaball:\n",
    "        dud +=1\n",
    "    #dud3\n",
    "    elif difference_whites == 6 and guessed_megaball != lottery_megaball:\n",
    "        dud +=1\n",
    "    #just megaball\n",
    "    elif difference_whites == 10 and guessed_megaball == lottery_megaball:\n",
    "        mega +=1\n",
    "        winnings += 2\n",
    "    #1white and megaball\n",
    "    elif difference_whites == 8 and guessed_megaball == lottery_megaball:\n",
    "        one_white_mega +=1\n",
    "        winnings += 4\n",
    "    #2white and megaball\n",
    "    elif difference_whites == 6 and guessed_megaball == lottery_megaball:\n",
    "        two_white_mega +=1\n",
    "        winnings += 10 \n",
    "    #3white\n",
    "    elif difference_whites == 4 and guessed_megaball != lottery_megaball:\n",
    "        three_white +=1\n",
    "        winnings += 10\n",
    "    #3white and megaball\n",
    "    elif difference_whites == 4 and guessed_megaball == lottery_megaball:\n",
    "        three_white_mega +=1\n",
    "        winnings += 200\n",
    "    #4white\n",
    "    elif difference_whites == 2 and guessed_megaball != lottery_megaball:\n",
    "        four_white +=1\n",
    "        winnings += 500\n",
    "    #4white and megaball\n",
    "    elif difference_whites == 2 and guessed_megaball == lottery_megaball:\n",
    "        four_white_mega +=1\n",
    "        winnings += 10000\n",
    "    #5white\n",
    "    elif difference_whites == 0 and guessed_megaball != lottery_megaball:\n",
    "        five_white +=1 \n",
    "        winnings += 1000000\n",
    "        break\n",
    "    #jackpot\n",
    "    elif difference_whites == 0 and guessed_megaball == lottery_megaball:\n",
    "        jackpot +=1\n",
    "        winnings += 197000000\n",
    "        break\n",
    "print(winnings)"
   ]
  },
  {
   "cell_type": "markdown",
   "metadata": {},
   "source": [
    "#### Prize Quantity Won & Barplot 图调整log坐标"
   ]
  },
  {
   "cell_type": "code",
   "execution_count": null,
   "metadata": {},
   "outputs": [
    {
     "name": "stdout",
     "output_type": "stream",
     "text": [
      "total plays:                         332,842,963\n",
      "total duds:                          318,955,658\n",
      "percent of plays that won any prize: 4%\n",
      "-----------------------------------------------------\n",
      "Prize Type                           Quantity Won\n",
      "total just mega balls:               9,029,055\n",
      "total 1white+mega:                   3,759,258\n",
      "total 2white+mega:                   492,944\n",
      "total 3white:                        572,631\n",
      "total 3white+mega:                   23,880\n",
      "total 4white:                        9,092\n",
      "total 4white+mega:                   401\n",
      "total 5white:                        43\n",
      "total jackpot:                       1\n"
     ]
    },
    {
     "data": {
      "image/png": "[encoded data removed]",
      "text/plain": [
       "<Figure size 1440x720 with 1 Axes>"
      ]
     },
     "metadata": {},
     "output_type": "display_data"
    }
   ],
   "source": [
    "import seaborn as sb\n",
    "sb.set_style(\"dark\")\n",
    "sb.set(font_scale=1.2) \n",
    "fig_dims = (20, 10)\n",
    "fig, ax = plt.subplots(figsize=fig_dims)\n",
    "ax.set(yscale=\"log\")\n",
    "ds = {'prize':['total plays','dud', 'just mega', '1white+mega', '2white+mega', '3white','3white+mega', '4white', '4white+mega', '5white', 'jackpot'], 'quantity':[plays, dud, mega, one_white_mega, two_white_mega, three_white, three_white_mega, four_white, four_white_mega, five_white, jackpot]}\n",
    "dx = pd.DataFrame(ds)\n",
    "sb.barplot(x='prize', y='quantity', data=dx)\n",
    "\n",
    "\n",
    "print(\"total plays:                        \", f\"{plays:,d}\")\n",
    "print(\"total duds:                         \", f\"{dud:,d}\")\n",
    "percent_wins = (1-(dud/plays))\n",
    "percentage = \"{:.0%}\".format(percent_wins)\n",
    "print(\"percent of plays that won any prize:\", percentage)\n",
    "print(\"-----------------------------------------------------\")\n",
    "print(\"Prize Type                          \", \"Quantity Won\")\n",
    "print(\"total just mega balls:              \", f\"{mega:,d}\")\n",
    "print(\"total 1white+mega:                  \", f\"{one_white_mega:,d}\")\n",
    "print(\"total 2white+mega:                  \", f\"{two_white_mega:,d}\")\n",
    "print(\"total 3white:                       \", f\"{three_white:,d}\")\n",
    "print(\"total 3white+mega:                  \", f\"{three_white_mega:,d}\")\n",
    "print(\"total 4white:                       \", f\"{four_white:,d}\")\n",
    "print(\"total 4white+mega:                  \", f\"{four_white_mega:,d}\")\n",
    "print(\"total 5white:                       \", f\"{five_white:,d}\")\n",
    "print(\"total jackpot:                      \", f\"{jackpot:,d}\")"
   ]
  },
  {
   "cell_type": "markdown",
   "metadata": {},
   "source": [
    "#### Prize Quantity Won & Barplot linear坐标不调整"
   ]
  },
  {
   "cell_type": "code",
   "execution_count": null,
   "metadata": {},
   "outputs": [
    {
     "name": "stdout",
     "output_type": "stream",
     "text": [
      "total plays:                         332,842,963\n",
      "total duds:                          318,955,658\n",
      "percent of plays that won any prize: 4%\n",
      "-----------------------------------------------------\n",
      "Prize Type                           Quantity Won\n",
      "total just mega balls:               9,029,055\n",
      "total 1white+mega:                   3,759,258\n",
      "total 2white+mega:                   492,944\n",
      "total 3white:                        572,631\n",
      "total 3white+mega:                   23,880\n",
      "total 4white:                        9,092\n",
      "total 4white+mega:                   401\n",
      "total 5white:                        43\n",
      "total jackpot:                       1\n"
     ]
    },
    {
     "data": {
      "image/png": "[encoded data removed]",
      "text/plain": [
       "<Figure size 1440x720 with 1 Axes>"
      ]
     },
     "metadata": {},
     "output_type": "display_data"
    }
   ],
   "source": [
    "import seaborn as sb\n",
    "sb.set_style(\"dark\")\n",
    "sb.set(font_scale=1.2) \n",
    "fig_dims = (20, 10)\n",
    "fig, ax = plt.subplots(figsize=fig_dims)\n",
    "ds = {'prize':['total plays','dud', 'just mega', '1white+mega', '2white+mega', '3white','3white+mega', '4white', '4white+mega', '5white', 'jackpot'], 'quantity':[plays, dud, mega, one_white_mega, two_white_mega, three_white, three_white_mega, four_white, four_white_mega, five_white, jackpot]}\n",
    "dx = pd.DataFrame(ds)\n",
    "sb.barplot(x='prize', y='quantity', data=dx)\n",
    "\n",
    "\n",
    "print(\"total plays:                        \", f\"{plays:,d}\")\n",
    "print(\"total duds:                         \", f\"{dud:,d}\")\n",
    "percent_wins = (1-(dud/plays))\n",
    "percentage = \"{:.0%}\".format(percent_wins)\n",
    "print(\"percent of plays that won any prize:\", percentage)\n",
    "print(\"-----------------------------------------------------\")\n",
    "print(\"Prize Type                          \", \"Quantity Won\")\n",
    "print(\"total just mega balls:              \", f\"{mega:,d}\")\n",
    "print(\"total 1white+mega:                  \", f\"{one_white_mega:,d}\")\n",
    "print(\"total 2white+mega:                  \", f\"{two_white_mega:,d}\")\n",
    "print(\"total 3white:                       \", f\"{three_white:,d}\")\n",
    "print(\"total 3white+mega:                  \", f\"{three_white_mega:,d}\")\n",
    "print(\"total 4white:                       \", f\"{four_white:,d}\")\n",
    "print(\"total 4white+mega:                  \", f\"{four_white_mega:,d}\")\n",
    "print(\"total 5white:                       \", f\"{five_white:,d}\")\n",
    "print(\"total jackpot:                      \", f\"{jackpot:,d}\")"
   ]
  },
  {
   "cell_type": "markdown",
   "metadata": {},
   "source": [
    "#### How much money Won for per Prize & Barplot linear"
   ]
  },
  {
   "cell_type": "code",
   "execution_count": null,
   "metadata": {},
   "outputs": [
    {
     "name": "stdout",
     "output_type": "stream",
     "text": [
      "total spent:                       $ 665,685,926\n",
      "total won:                         $ 297,082,892\n",
      "-----------------------------------------------------\n",
      "Prize Type                        Won\n",
      "total just mega balls:             $ 18,058,110\n",
      "total 1white+mega:                 $ 15,037,032\n",
      "total 2white+mega:                 $ 4,929,440\n",
      "total 3white:                      $ 5,726,310\n",
      "total 3white+mega:                 $ 4,776,000\n",
      "total 4white:                      $ 4,546,000\n",
      "total 4white+mega:                 $ 4,010,000\n",
      "total 5white:                      $ 43,000,000\n",
      "total jackpot:                     $ 197,000,000\n"
     ]
    },
    {
     "data": {
      "image/png": "[encoded data removed]",
      "text/plain": [
       "<Figure size 1440x720 with 1 Axes>"
      ]
     },
     "metadata": {},
     "output_type": "display_data"
    }
   ],
   "source": [
    "# Calculate variables\n",
    "jackpot_winnings = jackpot * 197000000\n",
    "five_white_winnings = five_white * 1000000\n",
    "four_white_mega_winnings = four_white_mega * 10000\n",
    "four_white_winnings = four_white * 500\n",
    "three_white_mega_winnings = three_white_mega * 200\n",
    "three_white_winnings = three_white * 10\n",
    "two_white_mega_winnings = two_white_mega * 10\n",
    "one_white_mega_winnings = one_white_mega * 4\n",
    "mega_winnings = mega * 2\n",
    "\n",
    "import seaborn as sb\n",
    "sb.set_style(\"dark\")\n",
    "sb.set(font_scale=1.2) \n",
    "fig_dims = (20, 10)\n",
    "fig, ax = plt.subplots(figsize=fig_dims)\n",
    "ds = {'prize':['winnings','just mega','1white+mega', '2white+mega', '3white', '3white+mega','4white', '4white+mega', '5white', 'jackpot'],'$':[winnings, mega_winnings, one_white_mega_winnings,two_white_mega_winnings,three_white_winnings,three_white_mega_winnings,four_white_winnings,four_white_mega_winnings,five_white_winnings,jackpot_winnings,]}\n",
    "dx = pd.DataFrame(ds)\n",
    "sb.barplot(x='prize', y='$', data=dx)\n",
    "\n",
    "print(\"total spent:                       $\", f\"{ticket_spending:,d}\")\n",
    "print(\"total won:                         $\", f\"{winnings:,d}\")\n",
    "print(\"-----------------------------------------------------\")\n",
    "print(\"Prize Type                       \", \"Won\")\n",
    "print(\"total just mega balls:             $\", f\"{mega_winnings:,d}\")\n",
    "print(\"total 1white+mega:                 $\", f\"{one_white_mega_winnings:,d}\")\n",
    "print(\"total 2white+mega:                 $\", f\"{two_white_mega_winnings:,d}\")\n",
    "print(\"total 3white:                      $\", f\"{three_white_winnings:,d}\")\n",
    "print(\"total 3white+mega:                 $\", f\"{three_white_mega_winnings:,d}\")\n",
    "print(\"total 4white:                      $\", f\"{four_white_winnings:,d}\")\n",
    "print(\"total 4white+mega:                 $\", f\"{four_white_mega_winnings:,d}\")\n",
    "print(\"total 5white:                      $\", f\"{five_white_winnings:,d}\")\n",
    "print(\"total jackpot:                     $\", f\"{jackpot_winnings:,d}\")"
   ]
  },
  {
   "cell_type": "markdown",
   "metadata": {},
   "source": [
    "#### God(Boss)'s view\n"
   ]
  },
  {
   "cell_type": "code",
   "execution_count": null,
   "metadata": {},
   "outputs": [
    {
     "name": "stdout",
     "output_type": "stream",
     "text": [
      "the winning ticket is... [3, 11, 27, 31, 45, 25]\n"
     ]
    }
   ],
   "source": [
    "print(\"the winning ticket is...\", guessed_balls)"
   ]
  },
  {
   "cell_type": "code",
   "execution_count": null,
   "metadata": {},
   "outputs": [
    {
     "data": {
      "text/html": [
       "<div>\n",
       "<style scoped>\n",
       "    .dataframe tbody tr th:only-of-type {\n",
       "        vertical-align: middle;\n",
       "    }\n",
       "\n",
       "    .dataframe tbody tr th {\n",
       "        vertical-align: top;\n",
       "    }\n",
       "\n",
       "    .dataframe thead th {\n",
       "        text-align: right;\n",
       "    }\n",
       "</style>\n",
       "<table border=\"1\" class=\"dataframe\">\n",
       "  <thead>\n",
       "    <tr style=\"text-align: right;\">\n",
       "      <th></th>\n",
       "      <th>titles</th>\n",
       "      <th>vals</th>\n",
       "      <th>cost/wins</th>\n",
       "      <th>p_l</th>\n",
       "    </tr>\n",
       "  </thead>\n",
       "  <tbody>\n",
       "    <tr>\n",
       "      <th>0</th>\n",
       "      <td>total plays</td>\n",
       "      <td>332842963</td>\n",
       "      <td>-2</td>\n",
       "      <td>-665685926</td>\n",
       "    </tr>\n",
       "    <tr>\n",
       "      <th>1</th>\n",
       "      <td>dud</td>\n",
       "      <td>318955658</td>\n",
       "      <td>0</td>\n",
       "      <td>0</td>\n",
       "    </tr>\n",
       "    <tr>\n",
       "      <th>2</th>\n",
       "      <td>just mega</td>\n",
       "      <td>9029055</td>\n",
       "      <td>2</td>\n",
       "      <td>18058110</td>\n",
       "    </tr>\n",
       "    <tr>\n",
       "      <th>3</th>\n",
       "      <td>1white+mega</td>\n",
       "      <td>3759258</td>\n",
       "      <td>4</td>\n",
       "      <td>15037032</td>\n",
       "    </tr>\n",
       "    <tr>\n",
       "      <th>4</th>\n",
       "      <td>2white+mega</td>\n",
       "      <td>492944</td>\n",
       "      <td>10</td>\n",
       "      <td>4929440</td>\n",
       "    </tr>\n",
       "    <tr>\n",
       "      <th>5</th>\n",
       "      <td>3white</td>\n",
       "      <td>572631</td>\n",
       "      <td>10</td>\n",
       "      <td>5726310</td>\n",
       "    </tr>\n",
       "    <tr>\n",
       "      <th>6</th>\n",
       "      <td>3white+mega</td>\n",
       "      <td>23880</td>\n",
       "      <td>200</td>\n",
       "      <td>4776000</td>\n",
       "    </tr>\n",
       "    <tr>\n",
       "      <th>7</th>\n",
       "      <td>4white</td>\n",
       "      <td>9092</td>\n",
       "      <td>500</td>\n",
       "      <td>4546000</td>\n",
       "    </tr>\n",
       "    <tr>\n",
       "      <th>8</th>\n",
       "      <td>4white+mega</td>\n",
       "      <td>401</td>\n",
       "      <td>10000</td>\n",
       "      <td>4010000</td>\n",
       "    </tr>\n",
       "    <tr>\n",
       "      <th>9</th>\n",
       "      <td>5white</td>\n",
       "      <td>43</td>\n",
       "      <td>1000000</td>\n",
       "      <td>43000000</td>\n",
       "    </tr>\n",
       "    <tr>\n",
       "      <th>10</th>\n",
       "      <td>jackpot</td>\n",
       "      <td>1</td>\n",
       "      <td>197000000</td>\n",
       "      <td>197000000</td>\n",
       "    </tr>\n",
       "  </tbody>\n",
       "</table>\n",
       "</div>"
      ],
      "text/plain": [
       "         titles       vals  cost/wins        p_l\n",
       "0   total plays  332842963         -2 -665685926\n",
       "1           dud  318955658          0          0\n",
       "2     just mega    9029055          2   18058110\n",
       "3   1white+mega    3759258          4   15037032\n",
       "4   2white+mega     492944         10    4929440\n",
       "5        3white     572631         10    5726310\n",
       "6   3white+mega      23880        200    4776000\n",
       "7        4white       9092        500    4546000\n",
       "8   4white+mega        401      10000    4010000\n",
       "9        5white         43    1000000   43000000\n",
       "10      jackpot          1  197000000  197000000"
      ]
     },
     "metadata": {},
     "output_type": "display_data"
    }
   ],
   "source": [
    "# Summary statistics\n",
    "quant_titles = ['total plays','dud', 'just mega', '1white+mega', '2white+mega', '3white','3white+mega', '4white', '4white+mega', '5white', 'jackpot']\n",
    "quant_vals = [plays, dud, mega, one_white_mega, two_white_mega, three_white, three_white_mega, four_white, four_white_mega, five_white, jackpot]\n",
    "constants = [-2, 0, 2,4, 10,10,200,500,10000,1000000,197000000]\n",
    "\n",
    "array_quant_titles = np.array(quant_titles)\n",
    "array_quant_vals = np.array(quant_vals)\n",
    "array_constants =np.array(constants)\n",
    "\n",
    "dataframe = pd.DataFrame({ 'titles': array_quant_titles,'vals': array_quant_vals, 'cost/wins': array_constants})\n",
    "dataframe['p_l'] = dataframe['vals'] * dataframe['cost/wins']\n",
    "\n",
    "dataframe"
   ]
  },
  {
   "cell_type": "markdown",
   "metadata": {},
   "source": [
    "## Another way\n",
    "\n",
    "来自：\n",
    "https://github.com/CoreyMSchafer/code_snippets/tree/master/Python/Python-Lottery-Simulation\n",
    "\n",
    "视频教程：\n",
    "https://www.youtube.com/watch?v=HZ8uXq5VG2w"
   ]
  },
  {
   "cell_type": "code",
   "execution_count": null,
   "metadata": {},
   "outputs": [],
   "source": [
    "# Creating a Lottery Simulator, from https://gist.github.com/Oiselenjakhian/26a7336a19a7cd1136dea3eec4b67cc8\n",
    "from random import randint # Import the randint function\n",
    "pickedNumbers = []         # Initialize the empty list\n",
    "\n",
    "while(len(pickedNumbers) < 6): # Generate numbers from 1 to 36 6 times\n",
    "  generated = randint(1, 36)\n",
    "  if (generated not in pickedNumbers):\n",
    "    pickedNumbers.append(generated)\n",
    "    \n",
    "print(pickedNumbers[0])\n",
    "print(pickedNumbers[1])\n",
    "print(pickedNumbers[2])\n",
    "print(pickedNumbers[3])\n",
    "print(pickedNumbers[4])\n",
    "print(pickedNumbers[5])"
   ]
  },
  {
   "cell_type": "code",
   "execution_count": null,
   "metadata": {},
   "outputs": [],
   "source": [
    "import random\n",
    "import json\n",
    "\n",
    "white_possibles = list(range(1, 70))\n",
    "red_possibles = list(range(1, 27))\n",
    "\n",
    "tickets_per_drawing = 100\n",
    "num_drawings = 15600\n",
    "\n",
    "total_spent = 0\n",
    "earnings = 0\n",
    "\n",
    "times_won = {\n",
    "    \"5+P\": 0,\n",
    "    \"5\": 0,\n",
    "    \"4+P\": 0,\n",
    "    \"4\": 0,\n",
    "    \"3+P\": 0,\n",
    "    \"3\": 0,\n",
    "    \"2+P\": 0,\n",
    "    \"1+P\": 0,\n",
    "    \"P\": 0,\n",
    "    \"0\": 0,\n",
    "}\n",
    "\n",
    "def calc_win_amt(my_numbers, winning_numbers):\n",
    "    win_amt = 0\n",
    "\n",
    "    white_matches = len(my_numbers[\"whites\"].intersection(\n",
    "        winning_numbers[\"whites\"]))\n",
    "    power_match = my_numbers[\"red\"] == winning_numbers[\"red\"]\n",
    "\n",
    "    if white_matches == 5:\n",
    "        if power_match:\n",
    "            win_amt = 2_000_000_000\n",
    "            times_won[\"5+P\"] += 1\n",
    "        else:\n",
    "            win_amt = 1_000_000\n",
    "            times_won[\"5\"] += 1\n",
    "    elif white_matches == 4:\n",
    "        if power_match:\n",
    "            win_amt = 50_000\n",
    "            times_won[\"4+P\"] += 1\n",
    "        else:\n",
    "            win_amt = 100\n",
    "            times_won[\"4\"] += 1\n",
    "    elif white_matches == 3:\n",
    "        if power_match:\n",
    "            win_amt = 100\n",
    "            times_won[\"3+P\"] += 1\n",
    "        else:\n",
    "            win_amt = 7\n",
    "            times_won[\"3\"] += 1\n",
    "    elif white_matches == 2 and power_match:\n",
    "        win_amt = 7\n",
    "        times_won[\"2+P\"] += 1\n",
    "    elif white_matches == 1 and power_match:\n",
    "        win_amt = 4\n",
    "        times_won[\"1+P\"] += 1\n",
    "    elif power_match:\n",
    "        win_amt = 4\n",
    "        times_won[\"P\"] += 1\n",
    "    else:\n",
    "        times_won[\"0\"] += 1\n",
    "\n",
    "    return win_amt\n",
    "\n",
    "\n",
    "# for drawing in range(num_drawings):\n",
    "hit_jp = False\n",
    "drawings = 0\n",
    "years = 0\n",
    "while True:\n",
    "    drawings += 1\n",
    "    white_drawing = set(random.sample(white_possibles, k=5))\n",
    "    red_drawing = random.choice(red_possibles)\n",
    "\n",
    "    winning_numbers = {\"whites\": white_drawing, \"red\": red_drawing}\n",
    "\n",
    "    for ticket in range(tickets_per_drawing):\n",
    "        total_spent += 2\n",
    "        my_whites = set(random.sample(white_possibles, k=5))\n",
    "        my_red = random.choice(red_possibles)\n",
    "\n",
    "        my_numbers = {\"whites\": my_whites, \"red\": my_red}\n",
    "\n",
    "        win_amt = calc_win_amt(my_numbers, winning_numbers)\n",
    "        earnings += win_amt\n",
    "\n",
    "        if win_amt == 2_000_000_000:\n",
    "            hit_jp = True\n",
    "            break\n",
    "\n",
    "    if drawings % 156 == 0:\n",
    "        years += 1\n",
    "        print(f'{years} years')\n",
    "\n",
    "    if hit_jp:\n",
    "        break\n",
    "\n",
    "print(f'Spent: ${total_spent}')\n",
    "print(f'Earnings: ${earnings}')\n",
    "\n",
    "print(json.dumps(times_won, indent=2))"
   ]
  }
 ],
 "metadata": {
  "kernelspec": {
   "display_name": "Python 3",
   "language": "python",
   "name": "python3"
  },
  "language_info": {
   "codemirror_mode": {
    "name": "ipython",
    "version": 3
   },
   "file_extension": ".py",
   "mimetype": "text/x-python",
   "name": "python",
   "nbconvert_exporter": "python",
   "pygments_lexer": "ipython3",
   "version": "3.10.14"
  }
 },
 "nbformat": 4,
 "nbformat_minor": 2
}
