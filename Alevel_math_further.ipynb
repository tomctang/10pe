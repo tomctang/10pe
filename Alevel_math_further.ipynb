{
 "cells": [
  {
   "cell_type": "markdown",
   "metadata": {},
   "source": [
    "# A-level-further"
   ]
  },
  {
   "cell_type": "code",
   "execution_count": null,
   "metadata": {
    "vscode": {
     "languageId": "wolfram"
    }
   },
   "outputs": [],
   "source": [
    "g=9.8;\n",
    "invsin[x_]:=InverseFunction[Sin][x]\n",
    "N[InverseFunction[Sin][1]]\n",
    "InverseFunction[Sin][1]//N  (*Wolfram喜欢用后缀线//*)\n",
    "f[x_]:=x^2"
   ]
  },
  {
   "cell_type": "markdown",
   "metadata": {},
   "source": [
    "## Further Y12-2"
   ]
  },
  {
   "cell_type": "markdown",
   "metadata": {},
   "source": [
    "### Elementary functions & Differential Equations\n",
    "Elementary functions are solutions to some simple Differential Equations. Given $f(x)=y$:\n",
    "\n",
    "Exponential function: $\\frac{d}{dx}f(x)=f(x) \\quad\\rightarrow\\quad sol: f(x)=e^x$\n",
    "\n",
    "Trigonometry function: $\\frac{d^2}{dx^2}f(x)=-f(x) \\quad\\rightarrow\\quad sol: f(x)=sin(x), cos(x)$\n",
    "\n",
    "$e$'s Log function: $\\quad \\frac{d}{dx}f(x)=\\frac{1}{x} \\quad\\rightarrow\\quad sol: f(x)=ln(x)$\n",
    "\n",
    "Power function: $\\quad \\frac{d}{dx}f(x)=f(x)\\frac{n}{x} \\quad\\rightarrow\\quad sol: f(x)=x^n$\n",
    "\n",
    "Hyperbolic trig: $\\quad \\frac{d^2}{dx^2}f(x)=f(x) \\quad\\rightarrow\\quad sol: f(x)=sinh(x), cosh(x)$"
   ]
  },
  {
   "cell_type": "code",
   "execution_count": null,
   "metadata": {
    "vscode": {
     "languageId": "wolfram"
    }
   },
   "outputs": [],
   "source": [
    "DSolve[f'[x] == f[x], f[x], x]\n",
    "DSolve[q''[x] == -q[x], q[x], x]\n",
    "DSolve[f'[x] == 1/x, f[x], x]\n",
    "DSolve[f'[x] == f[x]*(n/x), f[x], x]"
   ]
  },
  {
   "cell_type": "markdown",
   "metadata": {},
   "source": [
    "### Module 3 - Further Differentiation and Integration"
   ]
  },
  {
   "cell_type": "markdown",
   "metadata": {},
   "source": [
    "$$\\int f'(x)g'(f(x))=g(f(x))+c$$"
   ]
  },
  {
   "cell_type": "code",
   "execution_count": 26,
   "metadata": {
    "vscode": {
     "languageId": "wolfram"
    }
   },
   "outputs": [
    {
     "data": {
      "text/html": [
       "<style>\n",
       "\t\t\t\t\t\t\t\t\t\t\t\t\t.grid-container {\n",
       "\t\t\t\t\t\t\t\t\t\t\t\t\t\tdisplay: inline-grid;\n",
       "\t\t\t\t\t\t\t\t\t\t\t\t\t\tgrid-template-columns: auto;\n",
       "\t\t\t\t\t\t\t\t\t\t\t\t\t}\n",
       "\t\t\t\t\t\t\t\t\t\t\t\t</style>\n",
       "\n",
       "\t\t\t\t\t\t\t\t\t\t\t\t<div><div class=\"grid-container\"><div class=\"grid-item\"><img alt=\"Output\" src=\"data:image/png;base64,iVBORw0KGgoAAAANSUhEUgAAACcAAAAVCAIAAABKc2DEAAAA0HpUWHRSYXcgcHJvZmlsZSB0eXBlIGV4aWYAAHjabU/tbUQhDPvPFDdCSIID4/DuOKkbdPwzD9SKqkYkjvMBSeP7650eE5oleYmKBgjhzZt2kioLy2dpt72hsXP51FMuW++Uym8CY+vXqQf2wPpnkOgiNl8gN98Ne5Dp0nNf8bXrtdd6DrrkAOTn6//GbqEoyOG0rhKBRl4TKR2KSgm88QRYmPFS8Sf9QATbELPC+myc0BFn9UgwCq+5gs3r1i3zTBtsFWs3V9piVa+dZYbrfAA0XVq4GT8GWgAAAAlwSFlzAAAOxAAADsQBlSsOGwAAADx0RVh0U29mdHdhcmUAQ3JlYXRlZCB3aXRoIHRoZSBXb2xmcmFtIExhbmd1YWdlIDogd3d3LndvbGZyYW0uY29tXKKmhQAAACF0RVh0Q3JlYXRpb24gVGltZQAyMDI0OjExOjE3IDA5OjEyOjU4o7hC1wAAAQFJREFUSIntlc+NhSAQxr/ZbBUehRo8UYAlePSKNViB8SwdKDVwhdgFtMIeSAh5+zbr5j3NHvxOTGaGXzJ/gGKMuFwf1yNv6kVUzjk9UwjhLGwsJKVkjMXz9V/7qrUmIgBt26bKD8OQXM45InLO5WAimqYpmyGEsmV/oObr+r6PMVprlVIl6SeFEBhj1trcvgw+St22res6AEIIAPu+/5oyz7OUMsUDWJYFgNYawOdBatM0+XzwETXGeO+VUt9d506TlPJhelPBXqJWVVWaD/vNOTfGPE18iVrXNYB1XZPJGCu94zh67/PAv40KII10WgxrbQkWQpTecnno/l9v6tv0BeNH3zcjZVZmAAAAAElFTkSuQmCC\"></div><div class=\"grid-item\"><img alt=\"Output\" src=\"data:image/png;base64,iVBORw0KGgoAAAANSUhEUgAAADoAAAAVCAIAAACYI2qcAAAAznpUWHRSYXcgcHJvZmlsZSB0eXBlIGV4aWYAAHjabU/bDcMgDPxnio5gbHOGcUhCpG7Q8WsSqxVVD2Ef5ydpvJ5nekxwpqTFKhpADm3auDupdOP2mdplL0iPWF71lEvo3aXyDWCEvq264fZcfxoRx6Q5wbloFEQj4VvPsckW+dxrXRtttAD0Wf3vW8UYBdnUrTKZoTmvyak7FKZiOLEDnphxMOnufsDMy2AzQ/osnOBha/ZIEBeO+QWZV6VL9jOteSlJuzi7LVJ5i6hH/Dtvc7Fa46iYol4AAAAJcEhZcwAADsQAAA7EAZUrDhsAAAA8dEVYdFNvZnR3YXJlAENyZWF0ZWQgd2l0aCB0aGUgV29sZnJhbSBMYW5ndWFnZSA6IHd3dy53b2xmcmFtLmNvbVyipoUAAAAhdEVYdENyZWF0aW9uIFRpbWUAMjAyNDoxMToxNyAwOToxMjo1OKO4QtcAAAIKSURBVEiJ7VYxkuowDFX2IAxj5RikSeMcAY7gHIA0lGmcA5AZLhAKDgBNCkLFGZIUXMS/0H6t1gaWLZgdZngFY0uW/CRLCpFzDl4HH39N4Hd4030mXpZunufRf5xOp195kbbjOEoVy+M4vmObZVmoYtsvrXPOOae1RkRaW2sBoOs69wCGYQAAY8wtlbWWtojIVzC6riMaWmspv8UB2GYYBpYi4lUGIbTWt04aYyQJusVjQOZaa3mS4ryaL6BQZNwc8Y9cya+MUwIRObXE3nuHpmnI3KNrrfWSzfgAgLZtubC2222SJOTIq8IQ5/OZfrnI8jwn1TiOwzBMJhPaUvFpraXPxWJhrVVKeW7btlVKZVkW9tK3yVBV1Wq1cg9/5y6XCwAcj0dOdl3XVVV5x+I4TtN0vV57dyHicrkM3fZ9X9c1MaFkJ0lCcX7RzbKsbdu+7x/kymAeSiljzGazkfFEUVSWpUdrHMeiKMqyvOXTGDObzWhNtrvd7pOuUupwOCil9vs9X4OI4TN54LdmTKdTpg4ARVF0XTefz0nY932apgCQ57nWmuUewpGHiJ8rWfJc0Xf6XSJsdjkN7vT7naSSE2/kAUDTNI4mg/s+FGnmef1OwrBh5cD22NNWzt1b/X41MDaU7EHacJShRxpD4Zz3DL0g6WKZuUfoeoZSFbn3/93n4U33mXgxuv8AyImQ8kCSU2wAAAAASUVORK5CYII=\"></div><div class=\"grid-item\"><img alt=\"Output\" src=\"data:image/png;base64,iVBORw0KGgoAAAANSUhEUgAAAEMAAAAVCAIAAACSf8TOAAAAz3pUWHRSYXcgcHJvZmlsZSB0eXBlIGV4aWYAAHjabVBbDgMhCPz3FD0CAg56HLdrk96gxy+spo1NxwjD8PCRxuv5SLcAZ0parKIB5NCmjbuTShPTZ2qXvaCycnnXUy5L7y6VbwJj6ceuG6bn+jOIeBKJE5yLroY1SHjquc/4WPXca90HHbQB9Ln631jFGAXZ1K0ymaE5r8mpOxSmYnjgDnhhxsmkd/cDZt4Giwrp0RjgYXv1SBAXzniCxFbpkn2FNW8laRdnt0UqHytL8efpDTFtWrZSfea9AAAACXBIWXMAAA7EAAAOxAGVKw4bAAAAPHRFWHRTb2Z0d2FyZQBDcmVhdGVkIHdpdGggdGhlIFdvbGZyYW0gTGFuZ3VhZ2UgOiB3d3cud29sZnJhbS5jb21coqaFAAAAIXRFWHRDcmVhdGlvbiBUaW1lADIwMjQ6MTE6MTcgMDk6MTI6NTijuELXAAACSklEQVRYhe1XPa7iQAx2OAZCFJmcgSpQUDA5AnS0SY1EkwskByASVSqSIyRNmkQUnIGhiHKP2cLg55fw8/Yt0iLEV6AZj+3x53hsYWit4S3Q+98BPA0fJq+Hd2TieZ5xQVVVf+XFsizDMNI0bcmrqiKfnud1DcMw7F7KrQzDCMOQmziOY3zH2VBrrbWWUgohcB0EAQCUZal/AFROkgR/+REKlVK4BQDXdbkCAEgp7/tXSgFAEAQkkVK2/Jy9aa3LsuRXaq2FEFe1W0iSBENBDy0mQggeARKjreu6D2lQ6FzzFpMeAOz3eyGEaZr0cZVSURQ9LKr5fJ5l2a1TpdRwOKTtaDRC57iNosj3/YdXICi2O+gBQFEUlmXhPk3T8XiM+TudTj+86Rbqum5JmqaBC5+maajWHce56iFN0zzPV6sVF0ZRRIYU5LfeFYah7/v6SVPfdd31ek1b/uKRTxzHVBt5nnMFevSLxSIIAv5NsizjJSqEwLx8MXEcpyiK4/H4FBoAsNlspJSUvOVyCQCDwYAr0DoIAl7Ptm1TuNvtlkqme4UQYrfbnZmYppnnuWmaVPR1XfOX82vw/CEH27ZbfBD8RbUQx7FS6s5gwALrAcBkMgEAXotFUcxms38i0cFut3NdF9f9fh8ADocDnWLu7pijSRdKqel0CnBpi0KI1jzhTZmEt/rm1S7MgVFyCbLCNQ6NW+bQGUTcLYX95V1KSUS7NngxmfEIWiAdbIAIPlhaPhF8EGPWrh5RUrpuDf35f/Jq+DB5PbwPkz9BMBo9trwGXQAAAABJRU5ErkJggg==\"></div><div class=\"grid-item\"><img alt=\"Output\" src=\"data:image/png;base64,iVBORw0KGgoAAAANSUhEUgAAAG0AAAAVCAIAAADD6/etAAAAz3pUWHRSYXcgcHJvZmlsZSB0eXBlIGV4aWYAAHjabU/RbQUhDPtnio4QkuDAONw7ntQNOn7NgapS1YjEOHGANL4+3+ljQrMkL1HRACG8edNOUmVh5SztiQ9w71o+9ZTL1jul8sswtn6demBlrX8GiS5i8wZy823Yg0yXnvs6X7tfe63noEsOQH6e/u/ZLRQFOZzRVSLQyGsiZUJRKYE3XgAbM24VfzEPRNCGmB3Wp3FCR5zdI8Eo3PMLNrdbt8w1Y9Aq1h6ujMWqXrvKCr/zDXyKWunyVH8tAAAACXBIWXMAAA7EAAAOxAGVKw4bAAAAPHRFWHRTb2Z0d2FyZQBDcmVhdGVkIHdpdGggdGhlIFdvbGZyYW0gTGFuZ3VhZ2UgOiB3d3cud29sZnJhbS5jb21coqaFAAAAIXRFWHRDcmVhdGlvbiBUaW1lADIwMjQ6MTE6MTcgMDk6MTI6NTijuELXAAACpklEQVRYhe2ZMa7iMBBAx6s9BUIUcU6BUhMOQEGoaJMDkAvQmAMkLRW44ADQ0CSi4AxxhBDiGt5idq0o8QYngf3sLq9KPB7PaDyTGQGRUsKHznz7agf+ET5xfA6fOD6H941jmqaEkPF4/NWOGPEzjkEQ2Lb9Ihu2bRNCCCG/WyeEpGlakt5ut1cY7aJVI/0T+WjbtpSyNBgQQtS6lHK5XOZ5XtwwnU6llPv9/olGH5JlmZTS9/2m0u9tfOwM5xwAoihSK63j9SYY5SPnXBVgtfxJhWqRajmfz9p1/DIiQRBURXmeqxIrbaghCAJCyGq1KnleqoOWYPL7vk8plToYYwAghMBX13WVFlaN7/vanQrXdavHUkoBQCsq7lGHI0mSoNvb7Va9JklS1dWejCWJHuKz1m7JqIn0cT6GYcgYsywLX7EYsTDxJmezGYomkwkA3O93k/vLsowxdjgcWiTFdrudTqcA4DgOAJxOJ0PFKIpc1x2NRpzzOI7VrXTnQRyxQofDoVqxLItSer1e8RkANpsNina7HQD0ej1D24vFQkophAAASinejQn9ft9wZ5X9fi+E8DyPMYbX8BS69mtKaRzHmFNhGAohVOYaYlkWlvB6ve7ojAkq8S+XyxOPfRBHTK7iKJfnuRBiMBgAAOe89DVsGkTF66bXEvjNTZIkjmPzCnjIgzhaluX7vud56hpHoxGlFD9PWF+G3blIEARFLc754XCYz+dNz2nKeDymlEZR5DgOY8zzvBbO6yk2siLFfoeNGCl1q6oiY8ykdWLfVxTzWjvo4oZqg9Za1BrFCaGoW11RDlQPrJfqG78h1dFBO/rUDzcvoovRl8w9jTgej/Crj/9ftL40pFSe2mEey6e7rUa0M1qvVSMl8vO/wjN4398f/y5+AKgHEnhWRAiNAAAAAElFTkSuQmCC\"></div></div></div>"
      ],
      "text/plain": [
       "True\n",
       "0.6046\n",
       "0.19635\n",
       "Log[Sin[x]]"
      ]
     },
     "execution_count": 26,
     "metadata": {
      "text/html": [],
      "text/plain": []
     },
     "output_type": "execute_result"
    }
   ],
   "source": [
    "1/(2Sqrt[1-3^2])==1/Sqrt[4-4*(3^2)]\n",
    "N[Pi/(3Sqrt[3])]\n",
    "f[x_]:=ArcTan[(3/4)x]/4\n",
    "N[f[4/3]-f[0]]\n",
    "Integrate[Cot[x],x]"
   ]
  },
  {
   "cell_type": "code",
   "execution_count": 78,
   "metadata": {
    "vscode": {
     "languageId": "wolfram"
    }
   },
   "outputs": [
    {
     "data": {
      "text/html": [
       "<style>\n",
       "\t\t\t\t\t\t\t\t\t\t\t\t\t.grid-container {\n",
       "\t\t\t\t\t\t\t\t\t\t\t\t\t\tdisplay: inline-grid;\n",
       "\t\t\t\t\t\t\t\t\t\t\t\t\t\tgrid-template-columns: auto;\n",
       "\t\t\t\t\t\t\t\t\t\t\t\t\t}\n",
       "\t\t\t\t\t\t\t\t\t\t\t\t</style>\n",
       "\n",
       "\t\t\t\t\t\t\t\t\t\t\t\t<div><div class=\"grid-container\"><div class=\"grid-item\"><img alt=\"Output\" src=\"data:image/png;base64,iVBORw0KGgoAAAANSUhEUgAAAE8AAAAVCAIAAACIQyRAAAAA0HpUWHRSYXcgcHJvZmlsZSB0eXBlIGV4aWYAAHjabU/tbUQhDPvPFDdCSIID4/DueFI36PhnDtSKqkYkjvMBSeP7606PCc2SvERFA4Tw5k07SZWF5bO0j/3A753Lp55y2XqnVH4TGFu/Tj2wvNY/g0QXsfkCuflu2INMl577iq9dr73Wc9AlByA/X/83dgtFQQ6ndZUINPKaSOlQVErgxhNgYcZLxZ/0AxFsQ8wK67NxQkec1SPBKLzmCjavW7fMMy3YKlbJiwUtuV47ywzXeQN8vlrrAmkIiwAAAAlwSFlzAAAOxAAADsQBlSsOGwAAADx0RVh0U29mdHdhcmUAQ3JlYXRlZCB3aXRoIHRoZSBXb2xmcmFtIExhbmd1YWdlIDogd3d3LndvbGZyYW0uY29tXKKmhQAAACF0RVh0Q3JlYXRpb24gVGltZQAyMDI0OjExOjE2IDA4OjU3OjA4VSSA6gAAAcBJREFUWIXlV8uRwjAMlbcV00YuXEwBXGiAGdNJMvRhDhTA3TlRA/HQifcgMFr/EJDMzoR3CjKS9WQ9JRbee/ga/Px3AlNhsVgIIYQQfd8H4zzZdl233W6999bapmmCXcy7k51zUsrAcZ5nG3A+n5VSj9+ejWEYaCC+IwdSyjfC1r0w4WEYgoUb3RgDAMaYYFFKvZRZHZ9E01qnRqRqraVGFlv0bNv27YSeYly2Waree5Zuj8cjAKzX69If+r4XBIfDga4658LSarXi7AgAu91OCNF1XbBgBOfcU9/9fg8ATdOgyyMIs3g42bKw1kKukIhIAsYYKoeA7NlqreEuPHwupfeUAoLFVilVYYt86DCgkFJysil1Mm6NW5QK+jLbP2Ma4mOvs/VkNkbnVtJPiopuMXJlavDZ3nR7Op1K2wDAcrmMXj8RLpcLZrzZbFLdfoKg0uv1OkI4TklQmVm9ZStNGwF4w7x0tgCgta4nMLJu/X1IcN63Sim61LYtkGa21vKnFFVQFCfKjcnihW8XHBVpU2AeAWne1LFSo8iCs4DSSy2ISdhOitG/pbKY+a0gxtsVHRdT3ApSzPx+G+G7OvkXcdhMTUWR8QIAAAAASUVORK5CYII=\"></div><div class=\"grid-item\"><img alt=\"Output\" src=\"data:image/png;base64,iVBORw0KGgoAAAANSUhEUgAAAFEAAAAxCAIAAAAtGdI7AAAAz3pUWHRSYXcgcHJvZmlsZSB0eXBlIGV4aWYAAHjabU9bjgMhDPvnFHuEkAQHjsO0VOoNevw1Be2Kqh4RO85jII3X85F+JjRL8hIVDRDCmzftFFUWFmdp7/hG2cz88JNtkTut8l/A2P51+oHFWj8WiS5h8w/U5ntgLzJdfu4rv3a/9lrPRZccgPxd/WvuFoqCHM7oKhFo1DVRklBUSuCBG8DGjLuK38gDERxDzA7rc3BCR5zdI8Fo3OcTbB63bpnfjOCoWKUuFozUeu0qK3zOLy1tWrW5QbHkAAAACXBIWXMAAA7EAAAOxAGVKw4bAAAAPHRFWHRTb2Z0d2FyZQBDcmVhdGVkIHdpdGggdGhlIFdvbGZyYW0gTGFuZ3VhZ2UgOiB3d3cud29sZnJhbS5jb21coqaFAAAAIXRFWHRDcmVhdGlvbiBUaW1lADIwMjQ6MTE6MTYgMDg6NTc6MDhVJIDqAAAC9UlEQVRoge2ZsWv6QBTH7351cCjYUcSheIIObi4OFt10tOCgm4uCOrgVty6CJFOhoJT+ARU6uFoCOpyDCCKi4KJBEGcdLVruNxy/INHGNl6SHySfQc/n812+3t3Lyx0khACT8cfoCzCA/0Wz1+uFEDYaDR36Ml4zz/MQwkqloluPBmtuNBrtdpsQ4na7devUYM2pVKrVauncqfFzW38szebA0mwOzKgZGltvi6KIEJIZEUKz2Uy7Tg3WbAhmnNuWZnNgaTYHlmZzYKNv8Xj84+ND9p3s1l2tVqfTqU7XxZpsNnt3d0fbVk1iDizN5sCmRdDFYrFYLLSIrAK/3+90Og8tmmh+eXnx+XxaRFbB8S6yJpq3220mk9EiMhPYr+ftdmu325mHZQh7zZPJJBgMMg/LEPaau91uKBRiHvYn0IM+CGG321VwY695tVrpefgkwfN8LpcjhGCMpTLzJOxzmM2mSV48y8PDA224XC5lT8bjvNlsHA6HzKjn2TIAoN/vx2IxJQ/CFEEQBEGQPnIcBwB4e3ujr2z7Osl8PgcAzOdzBR/G49zr9aQEpv/ZMt0txxh7PB4FN8aaPz8/r6+vaVuLs+VCoQAh5HlestBELYqiJDgcDp+JonoWCYLw+voqM5bL5WNPjDFgN7fz+Tz4N3tp+9AuwXHcdxHUaN7tdslkslqtJhKJ9Xot2ZfL5fPz87E/W82EkFgshhCiaQJj/NufqxxnKrXT6Tw+PkrGZrM5HA6Pnc9qPplmz1z3ucFUQOV6vrm5AQBEo9HRaLTZbKhxMBgEAgEV0Vqt1neqTiKKIm2oe2K9NIeVSqWnpyfavrq60qcgQQjl83mMcb1eV3Hbv1Tz4VB/fX1dGO0nxONxhFCtVguHwxzHpdNp5er6BCrWgwy6qsfj8fv7+6GdlgcyEEKX9EUPqw/z1rHlLGz2eu/v7yORSCKRuL29vTya5lzyr0t0Oh2v18sklA6wqcOi0WixWGQSSgeYnWPs93ujniJ/y18wVuZLS1r+GQAAAABJRU5ErkJggg==\"></div><div class=\"grid-item\"><img alt=\"Output\" src=\"data:image/png;base64,iVBORw0KGgoAAAANSUhEUgAAADsAAAAVCAIAAAB34QGiAAAA0HpUWHRSYXcgcHJvZmlsZSB0eXBlIGV4aWYAAHjabU/bjQMhDPynipRgbDOGctgska6DKz9D4C7aKIOwh/GTNH5/Huk2oVmSl6hogBDevGknqbKwfJb2si/YsWP5qqdctt4plXcAY+vHVQ8sr/WjkeieNCeQm++C3ch06bmv97Hztdd6bfS36gbkf/Wvb7dQFORwWleJQCOviZQORaUEHrgDTMw4VfxOPxDBMsTMsD4LJ3TENXskGIVzfsHmdeuWeaYFS8UqebGgJddjRxnhd551YFrmT3Pe7wAAAAlwSFlzAAAOxAAADsQBlSsOGwAAADx0RVh0U29mdHdhcmUAQ3JlYXRlZCB3aXRoIHRoZSBXb2xmcmFtIExhbmd1YWdlIDogd3d3LndvbGZyYW0uY29tXKKmhQAAACF0RVh0Q3JlYXRpb24gVGltZQAyMDI0OjExOjE2IDA4OjU3OjA4VSSA6gAAAV1JREFUSIntl8FthDAQRe0oZXDacRlwNi1QwlAA1GAXAFduUAJw4GLawKITcnBkIXZZDGEToew72YNm/Jn5MoJO00QuxcdfC9jNW/HruaZixhh9hNb6lDNs/XOyphmICADT2XDOD+ci4iJyTVds0vf93C2LuNbaTjCOY5eCcRxTSqWUNrLDh4sR3LtCKTUfK+fcbpVSpkhZlnarlHJxBSISQoZhsGtHV+z2sRDCVjcSjdzvcoQIIVwUmzgAlGX58D3XFH86DjHP87Wnnue5FLmnrmtKaRRFQgjf9x2ztn1s5Jrx2R6fgnXtOI7uWduK27ZFxNvtdkzWEwAAEZVSeZ5XVeWYte0KxljbtmYtpUzT9LjGGWEYAkCWZYQQIUQURZ7nuXhju8d1XQ/DYG6fruvs/fATGGNN0xRFYbZJkgBAEAR9328nP78ZTuG/f/N+o8cAcOCstSw6vf+aXs0XypNuAG1KJIAAAAAASUVORK5CYII=\"></div><div class=\"grid-item\"><img alt=\"Output\" src=\"data:image/png;base64,iVBORw0KGgoAAAANSUhEUgAAAJAAAAAVCAIAAAAmWfCEAAAAz3pUWHRSYXcgcHJvZmlsZSB0eXBlIGV4aWYAAHjabU/tjUMhDPvPFDdCSIID4/D6qNQNOv6ZglRxOiMSx/mApPF+PdPPhGZJXqKiAUJ486adpMrC8lnax37Qdorxoadctt4plW8CY+vXqQeW1/pnkOgiNl8gN98Ne5Dp0nNf8bXrtdd6DrrkAL5f/zd2C0VBDqd1lQg08ppI6VBUSuCJB8DCjFvFH/QDEWxDzArrs3FCR5zVI8Eo3HMFm9etW+aZFmwVq+TFgpZcr51lhuv8AjSaWrpw2qjZAAAACXBIWXMAAA7EAAAOxAGVKw4bAAAAPHRFWHRTb2Z0d2FyZQBDcmVhdGVkIHdpdGggdGhlIFdvbGZyYW0gTGFuZ3VhZ2UgOiB3d3cud29sZnJhbS5jb21coqaFAAAAIXRFWHRDcmVhdGlvbiBUaW1lADIwMjQ6MTE6MTYgMDg6NTc6MDhVJIDqAAAC+klEQVRoge2ZMXLCMBBFVxyDYVJYnIIhTYqIA1BAR2sOQEWZxj6A3aYzBQegNxVnQBomk+EaTrGJWGzJ2IpNwoxfhWRp9e1d7cqGZVkGHY9D768FdJjZbDbsh81mo/tZt8P+OUqp19fX4/GIzW6H/XfO5/NwONTNzmEX9vs9Y2wymfy1kG+WyyVj7Pn5OYoi3Zl32GQyYYwtl0ubFaUUIzQrcTgcOpitPkuPZIzt9/vc1c/Pz1rrOsuoOCuKoizLpJScc6XUd29GSJIEO33fz0zggCRJdI8QwjjSjd9Ys2nWAAC1L4SQUjovV6Q98UKINE3x95XDOOdBEHDOjfOllAAQBIGzrJu0d88Yas16KEdL4vGx6+YlJYZhKKVcrVa2zbvdbgFgOp3aBtCTKK2TCCZb21UbmMfDMNQ9aOGSIupwOByM/Vi9kFw5wEtKKZ27SupFg+LDMMTBnPOMnuSpGzHX2XaY7/s42UgQBEBCWAgBJC6EEFUC0DjG931tGX8b595MiZxzuM6KxjE5O2ma4oPCh4NNnaDuJl4DeoJez+YwIUSJw+A6W9IIKLFZXMLWzznHtGZ8WFm1e8aoQozp0eYwWrbBUhfaFo/0cNfHcbxeryvu9CJ44hqNRrrH8zzO+cfHBzbf3t7iOK6VDCm73U5KOZ/PgyAYj8fOOlerVfYTTJxz+gWhnMFg4LxoU+KRHgAsFgvf92/aenl5wVt1YDabYbRKKR3cppP+6XRyE0DxPA830/v7+++t3aRZ8T2llJQSwx/RTVot4WcDGaOy3+/D9XsMmn16eqLDxuMxBriUsnp0AwBmqjRN4ziuNbEEt73uQMPiq+RxmmrB8h5GqysasRW8unWb1k4sQsa55WUAH5luFl8otWxjDaNzoU4Na0Q8pZ7DMvJyXfQ3Lek5C7kosdXe4j3j0Y6OL/YgN+8ZD64aeujAaMuBA37jsAbFX1avOO4+tPqlo23uI777+PtoOAdFG2DGqKvKbVbj3Ed89wfmg9GlxAfjCzg3ggUIk4MdAAAAAElFTkSuQmCC\"></div><div class=\"grid-item\"><img alt=\"Output\" src=\"data:image/png;base64,iVBORw0KGgoAAAANSUhEUgAAAC8AAAArCAIAAABn1EbtAAAA0XpUWHRSYXcgcHJvZmlsZSB0eXBlIGV4aWYAAHjabU/bjQMhDPyniivB2DCGctiEla6DK/+G4CTaKIOwx+MHOM2/3zP9LGiWVKo3dECI0kvXQdJkY/ss/WEf0DNy+aonPUIflOo7gRn6cdUdMbB9DBLdxNYL5FaiIQaZbj2PHR9Rr6O166D40ROQ19e/xsVcUZG90BYVd3TylkjpUFWq48QNYGHGXaXc6Cfc2QZfFTZW44JOv1bPBKNwXyvYusWGZZ5lwVaxRl7Nacn1iCwzXOcfuQtbF7yC6LMAAAAJcEhZcwAADsQAAA7EAZUrDhsAAAA8dEVYdFNvZnR3YXJlAENyZWF0ZWQgd2l0aCB0aGUgV29sZnJhbSBMYW5ndWFnZSA6IHd3dy53b2xmcmFtLmNvbVyipoUAAAAhdEVYdENyZWF0aW9uIFRpbWUAMjAyNDoxMToxNiAwODo1NzowOFUkgOoAAAILSURBVFiF7Zg/i8IwGMbj4eAHcOwgJlA3B8HJQVxcXNyqk2ud3BwdpfgBHBQcM/oVCtVFhLhIK2hRFz+Ag4uQGwq9Xrn0T2Lv5OizNK2+T395EkrfZiil4G30wV1p23aGoX6/z2lKhdVsNp0BxhhjLGLFn42bULFYdMbX67VarYq4idJsNptut+uMz+ezS8apVy2Tb8wnoWxWq1Wj0XBPRYMRzAZC6D3FGBuGIWLISWMYxo8z8fHFVYb+j6dfEkpp2Epp2Epp2Mo6B9M0Lcv6K4h2u+0M3iub9FnMVkrDVjY56/l8vl6vA/6Qz+cnk8kv0ez3+8ViEaskqZV6Pp/ZbOypJkWz3W4rlUrcqqRodF2v1Wpxq77RIITc7hUhJEJzuVwkSYpr+43meDy6L8wIIRGgXC7HYctcqV6vdzqdbNvmQNntduVymcM2ZN/wNWy6rtfrdR5bVmsDANA0Lbj9eTwe4/F4NBr5rg8GAz5bPw2E0KEM7dPu93ur1Voul4qi3G63YJqItsxsNE0DAETpZAkh3tsTQmazGZ9tUOcLIVRVNZSGUuqNZzqdmqbJZxuyiwuFQpRtOxwOnUkDAA6HQ6lU4rRlzUBV1YBfA+IJ2MKhtl/Z+L4qOjVRgvHGY1mWLMve67FsX/le3Ol0ZFlWFCV0pZiKvhahIoRIkiTi8EoaSqngF9r36mA+AY6OJ7FBYoxpAAAAAElFTkSuQmCC\"></div><div class=\"grid-item\"><img alt=\"Output\" src=\"data:image/png;base64,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\"></div><div class=\"grid-item\"><img alt=\"Output\" src=\"data:image/png;base64,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\"></div></div></div>"
      ],
      "text/plain": [
       "       2\n",
       "-Csc[x]\n",
       "       1\n",
       "-(------------)\n",
       "            2\n",
       "  Sqrt[1 - x ]\n",
       "Tan[x]\n",
       "               3\n",
       "4 Cos[x] Sin[x]\n",
       "   Pi\n",
       "---------\n",
       "3 Sqrt[3]\n",
       "    Sqrt[3]\n",
       "----------------\n",
       "              2\n",
       "           3 x\n",
       "4 Sqrt[1 - ----]\n",
       "            4\n",
       "      3\n",
       "-------------\n",
       "           2\n",
       "        9 x\n",
       "16 (1 + ----)\n",
       "         16"
      ]
     },
     "execution_count": 78,
     "metadata": {
      "text/html": [],
      "text/plain": []
     },
     "output_type": "execute_result"
    }
   ],
   "source": [
    "D[Cot[x],x]\n",
    "D[ArcCos[x],x]\n",
    "Integrate[Sec[x]^2,x]\n",
    "D[Sin[x]^4,x]\n",
    "Integrate[1/Sqrt[4-3x^2],{x,0,1}]\n",
    "D[ArcSin[Sqrt[3/4]x]/2,x]\n",
    "D[ArcTan[(3/4)x]/4,x]"
   ]
  },
  {
   "cell_type": "code",
   "execution_count": null,
   "metadata": {
    "vscode": {
     "languageId": "wolfram"
    }
   },
   "outputs": [],
   "source": [
    "D[Sin[1/x],x]\n",
    "D[Log[2x],x]\n",
    "D[Csc[x],x]\n",
    "D[ArcTan[x],x]\n",
    "D[Sec[x],x]"
   ]
  },
  {
   "cell_type": "markdown",
   "metadata": {},
   "source": [
    "### Module 2 - Mathematical Induction"
   ]
  },
  {
   "cell_type": "markdown",
   "metadata": {},
   "source": [
    "For mathematical induction if $n=k$ then $n=k+1$ so if for $n=1$ the claim is true then for $\\Z_+$.\n",
    "\n",
    "For series use formula to check if $n=k+1$ will be true.\n",
    "\n",
    "For divisibility check if $u_{k+1}-u_k$ is divisible by $n$."
   ]
  },
  {
   "cell_type": "code",
   "execution_count": null,
   "metadata": {
    "vscode": {
     "languageId": "python"
    }
   },
   "outputs": [],
   "source": [
    "n=1\n",
    "n=3n+4\n",
    "n=3n+4\n",
    "n=3n+4\n",
    "f[x_]:=3^x-2\n",
    "f[1]\n",
    "f[2]\n",
    "f[3]\n",
    "f[4]"
   ]
  },
  {
   "cell_type": "markdown",
   "metadata": {},
   "source": [
    "### Module 1 - Determinant and Inverse of 3 by 3 Matrix"
   ]
  },
  {
   "cell_type": "code",
   "execution_count": null,
   "metadata": {
    "vscode": {
     "languageId": "python"
    }
   },
   "outputs": [],
   "source": [
    "mat1={{1, 0, 0}, {0, 0, 1}, {0, -1, 0}}//MatrixForm"
   ]
  },
  {
   "cell_type": "code",
   "execution_count": null,
   "metadata": {
    "vscode": {
     "languageId": "python"
    }
   },
   "outputs": [],
   "source": [
    "mat1={{1, 0, 0}, {0, 0, 1}, {0, -1, 0}}//MatrixForm\n",
    "mat2={{0, -1, 0}, {1, 0, 0}, {0, 0, 1}};\n",
    "mat3=mat1.mat2;\n",
    "mat4={{-1, 0, 0}, {0, -1, 0}, {0, 0, 1}};\n",
    "mat5={{13, 53, 10}, {4, -7, -2}, {2, -8, -1}}/9;\n",
    "mat6={{3}, {-2}, {4}};\n",
    "mat7={{1, 1, -1}, {0, 6, 2}, {-3, 1, 1}};\n",
    "MatrixForm[mat3]\n",
    "MatrixForm[mat2.mat1]\n",
    "Det[mat3]-Det[mat1]Det[mat2]\n",
    "MatrixForm[mat4.mat4]\n",
    "MatrixForm[mat5.mat6]\n",
    "Det[mat7]"
   ]
  },
  {
   "cell_type": "code",
   "execution_count": null,
   "metadata": {
    "vscode": {
     "languageId": "python"
    }
   },
   "outputs": [],
   "source": [
    "dist=BinomialDistribution[40,0.2];\n",
    "ans=1-CDF[dist,11]"
   ]
  },
  {
   "cell_type": "code",
   "execution_count": null,
   "metadata": {
    "vscode": {
     "languageId": "python"
    }
   },
   "outputs": [],
   "source": [
    "dist=NormalDistribution[12,3.5/40];\n",
    "ans=CDF[dist,10.8]"
   ]
  },
  {
   "cell_type": "code",
   "execution_count": null,
   "metadata": {
    "vscode": {
     "languageId": "python"
    }
   },
   "outputs": [],
   "source": [
    "dist=NormalDistribution[12,3.5];\n",
    "N[CDF[dist,15]-CDF[dist,10]]"
   ]
  },
  {
   "cell_type": "code",
   "execution_count": null,
   "metadata": {
    "vscode": {
     "languageId": "python"
    }
   },
   "outputs": [],
   "source": [
    "dist=NormalDistribution[];\n",
    "quan1=Quantile[dist,0.05]\n",
    "quan2=Quantile[dist,0.75]"
   ]
  },
  {
   "cell_type": "code",
   "execution_count": null,
   "metadata": {
    "vscode": {
     "languageId": "python"
    }
   },
   "outputs": [],
   "source": [
    "mat1={{1, 1, 1}, {x, y, z}, {x^2, y^2, z^2}}//MatrixForm;\n",
    "mat2={{p, q, r}, {p^2, q^2, r^2}, {qr, pr, pq}};\n",
    "Det[mat1]\n",
    "Simplify[Det[mat2]]\n",
    "12*2-53*4-3*5*10+3*53-2*10+4*12*5\n",
    "3*4-3*3-2*5*4-2*2"
   ]
  },
  {
   "cell_type": "markdown",
   "metadata": {},
   "source": [
    "## Further Y12-1"
   ]
  },
  {
   "cell_type": "markdown",
   "metadata": {},
   "source": [
    "### Module 7 - Vectors 1"
   ]
  },
  {
   "cell_type": "code",
   "execution_count": null,
   "metadata": {
    "vscode": {
     "languageId": "python"
    }
   },
   "outputs": [],
   "source": [
    "ArcCos[0.44141]*180/Pi"
   ]
  },
  {
   "cell_type": "code",
   "execution_count": null,
   "metadata": {
    "vscode": {
     "languageId": "python"
    }
   },
   "outputs": [],
   "source": [
    "44+29\n",
    "29*4-30\n",
    "3*29-21"
   ]
  },
  {
   "cell_type": "code",
   "execution_count": null,
   "metadata": {
    "vscode": {
     "languageId": "python"
    }
   },
   "outputs": [],
   "source": [
    "N[Sqrt[(73/29)^2+(86/29)^2+(66/29)^2]]"
   ]
  },
  {
   "cell_type": "code",
   "execution_count": null,
   "metadata": {
    "vscode": {
     "languageId": "python"
    }
   },
   "outputs": [],
   "source": [
    "N[Sqrt[(27/10)^2+(9/10)^2]]"
   ]
  },
  {
   "cell_type": "code",
   "execution_count": null,
   "metadata": {
    "vscode": {
     "languageId": "python"
    }
   },
   "outputs": [],
   "source": [
    "Sqrt[75]\n",
    "N[7*5Sqrt[3]/14]"
   ]
  },
  {
   "cell_type": "code",
   "execution_count": null,
   "metadata": {
    "vscode": {
     "languageId": "python"
    }
   },
   "outputs": [],
   "source": [
    "N[ArcCos[11/14]*180/Pi]"
   ]
  },
  {
   "cell_type": "code",
   "execution_count": null,
   "metadata": {
    "vscode": {
     "languageId": "python"
    }
   },
   "outputs": [],
   "source": [
    "vec1={{2}, {3}, {2}};\n",
    "vec2={{6}, {-2}, {1}};\n",
    "vec1-vec2*3/2 "
   ]
  },
  {
   "cell_type": "code",
   "execution_count": null,
   "metadata": {
    "vscode": {
     "languageId": "python"
    }
   },
   "outputs": [],
   "source": [
    "(-2/7)^2+(8/7)^2+(18/7)^2"
   ]
  },
  {
   "cell_type": "markdown",
   "metadata": {},
   "source": [
    "Angle between 2 vectors\n",
    "\n",
    "$\\cos{\\theta}=\\large\\frac{a_1b_1+a_2b_2}{|\\mathbf{a}||\\mathbf{b}|}$\n",
    "\n",
    "Scalar Product/Dot Product\n",
    "\n",
    "$\\mathbf{a}\\mathbf{b}=ab\\cos{\\theta}$\n",
    "\n",
    "$\\mathbf{a}\\mathbf{b}=a_1b_1+a_2b_2$"
   ]
  },
  {
   "cell_type": "markdown",
   "metadata": {},
   "source": [
    "### Module 3 and 6 - Further Algebra and Functions 1 and 2"
   ]
  },
  {
   "cell_type": "code",
   "execution_count": null,
   "metadata": {
    "vscode": {
     "languageId": "python"
    }
   },
   "outputs": [],
   "source": [
    "mat1={{1, -1, 2}, {2, 1, 1}, {2, -2, 1}};\n",
    "mat2=Inverse[mat1];\n",
    "mat3={{9}, {0}, {3}};\n",
    "mat4=mat2.mat3;\n",
    "f[x_]:=x(x+1)/2\n",
    "g[x_]:=x(x+1)(2x+1)/6\n",
    "h[x_]:=2g[x]+3f[x]\n",
    "j[x_]:=x^2-17x+22\n",
    "k[x_]:=x(x+1)^2\n",
    "MatrixForm[mat2]\n",
    "MatrixForm[mat4]\n",
    "36*7\n",
    "f[50]-f[20]\n",
    "g[100]-g[90]\n",
    "f[50]-f[15]+5*35\n",
    "h[50]-h[25]\n",
    "j[1]\n",
    "j[3]\n",
    "j[-2]\n",
    "k[30]-k[20]"
   ]
  },
  {
   "cell_type": "code",
   "execution_count": null,
   "metadata": {
    "vscode": {
     "languageId": "python"
    }
   },
   "outputs": [],
   "source": [
    "f[x_]:=2x(x+1)\n",
    "g[x_]:=x(x+1)(2x+1)+2x\n",
    "h[x_]:=x(x+1)(x+2)(x+3)\n",
    "i[x_]:=x(x-1)(x+1)(x+2)\n",
    "f[20]-f[9]\n",
    "g[10]-g[4]\n",
    "h[1]\n",
    "h[2]\n",
    "h[3]\n",
    "i[1]\n",
    "i[2]\n",
    "i[3]\n",
    "16*4*9"
   ]
  },
  {
   "cell_type": "code",
   "execution_count": null,
   "metadata": {
    "vscode": {
     "languageId": "python"
    }
   },
   "outputs": [],
   "source": [
    "35*4.2\n",
    "35*0.42*0.58"
   ]
  },
  {
   "cell_type": "code",
   "execution_count": null,
   "metadata": {
    "vscode": {
     "languageId": "python"
    }
   },
   "outputs": [],
   "source": [
    "dist=BinomialDistribution[35,0.42];\n",
    "1-CDF[dist,17]"
   ]
  },
  {
   "cell_type": "code",
   "execution_count": null,
   "metadata": {
    "vscode": {
     "languageId": "python"
    }
   },
   "outputs": [],
   "source": [
    "dist=NormalDistribution[34,4.5];\n",
    "ans=1-CDF[dist,36.2]"
   ]
  },
  {
   "cell_type": "code",
   "execution_count": null,
   "metadata": {
    "vscode": {
     "languageId": "python"
    }
   },
   "outputs": [],
   "source": [
    "dist=NormalDistribution[];\n",
    "ans=1.5Quantile[dist,0.95]\n",
    "10-ans"
   ]
  },
  {
   "cell_type": "code",
   "execution_count": null,
   "metadata": {
    "vscode": {
     "languageId": "python"
    }
   },
   "outputs": [],
   "source": [
    "dist=NormalDistribution[1.78,.23];\n",
    "N[CDF[dist,1.82]-CDF[dist,1.82]]\n",
    "N[CDF[dist,1.9]-CDF[dist,1.7]]^2"
   ]
  },
  {
   "cell_type": "code",
   "execution_count": null,
   "metadata": {
    "vscode": {
     "languageId": "python"
    }
   },
   "outputs": [],
   "source": [
    "45-17-15-4\n",
    "70-31-17-15\n",
    "N[101/240]\n",
    "240-101-7-9\n",
    "123/3\n",
    "N[41/80]\n",
    "240-101-31-17-7-15-4-9\n",
    "101+31+7\n",
    "N[139/195]\n",
    "69.2/40\n",
    "Sqrt[2.81/40]\n",
    "1.78-0.23*2"
   ]
  },
  {
   "cell_type": "code",
   "execution_count": null,
   "metadata": {
    "vscode": {
     "languageId": "python"
    }
   },
   "outputs": [],
   "source": [
    "dist=BinomialDistribution[20,0.3];\n",
    "N[PDF[dist,1]]\n",
    "N[CDF[dist,3]]\n",
    "1-N[CDF[dist,9]]"
   ]
  },
  {
   "cell_type": "code",
   "execution_count": null,
   "metadata": {
    "vscode": {
     "languageId": "python"
    }
   },
   "outputs": [],
   "source": [
    "f[x_]:=x^3+4x^2-x+2\n",
    "g[x_]:=5x^2-9x+22\n",
    "h[x_]:=x^2+2x+9\n",
    "f[2]\n",
    "g[4]\n",
    "h[4]"
   ]
  },
  {
   "cell_type": "code",
   "execution_count": null,
   "metadata": {
    "vscode": {
     "languageId": "python"
    }
   },
   "outputs": [],
   "source": [
    "f[x_]:=4x(4x+1)(8x^2-1)\n",
    "g[x_]:=2(x-1)(2x-1)(8(x-1)^2-1)\n",
    "Expand[f[x]-g[x]]"
   ]
  },
  {
   "cell_type": "code",
   "execution_count": null,
   "metadata": {
    "vscode": {
     "languageId": "python"
    }
   },
   "outputs": [],
   "source": [
    "n=4;\n",
    "f[x_]:=x(x+1)/2\n",
    "g[x_]:=x(x+1)(2x+1)/6\n",
    "h[x_]:=x^2(x+1)^2/4\n",
    "n(n+1)(8n-5)/6\n",
    "Simplify[Expand[2h[4x]-6g[4x]]]"
   ]
  },
  {
   "cell_type": "code",
   "execution_count": null,
   "metadata": {
    "vscode": {
     "languageId": "python"
    }
   },
   "outputs": [],
   "source": [
    "n=20;\n",
    "n1=15;\n",
    "n2=4;\n",
    "a=40;\n",
    "b=19;\n",
    "25*51\n",
    "n(n+1)(2n+1)/6\n",
    "15*31+60-5*9-18\n",
    "(n1(n1+1)(2n1+1)-n2(n2+1)(2n2+1))/6\n",
    "2(25*51-1.5*50+9*1.5-5*9)\n",
    "(a(a+1)(2a+1)-b(b+1)(2b+1))*5/6-84\n",
    "Expand[(x+1)(x+2)(x-3)]\n",
    "4*5*9"
   ]
  },
  {
   "cell_type": "code",
   "execution_count": null,
   "metadata": {
    "vscode": {
     "languageId": "python"
    }
   },
   "outputs": [],
   "source": [
    "n=Pi/6;\n",
    "f[x_]:=Sin[2x]-x\n",
    "g[x_]:=f'[x]\n",
    "g[x]\n",
    "n=N[n-f[n]/g[n]]"
   ]
  },
  {
   "cell_type": "code",
   "execution_count": null,
   "metadata": {
    "vscode": {
     "languageId": "python"
    }
   },
   "outputs": [],
   "source": [
    "dist=BinomialDistribution[25,0.7];\n",
    "N[1-CDF[dist,20]]"
   ]
  },
  {
   "cell_type": "code",
   "execution_count": null,
   "metadata": {
    "vscode": {
     "languageId": "python"
    }
   },
   "outputs": [],
   "source": [
    "lower=N[Quantile[NormalDistribution[],0.6]]\n",
    "upper=N[Quantile[NormalDistribution[],0.8]]\n",
    "sd=0.2/(upper-lower)\n",
    "5.9-lower*sd"
   ]
  },
  {
   "cell_type": "code",
   "execution_count": null,
   "metadata": {
    "vscode": {
     "languageId": "python"
    }
   },
   "outputs": [],
   "source": [
    "dist=NormalDistribution[24500,5200];\n",
    "ans=1-N[CDF[dist, 26730]]"
   ]
  },
  {
   "cell_type": "code",
   "execution_count": null,
   "metadata": {
    "vscode": {
     "languageId": "python"
    }
   },
   "outputs": [],
   "source": [
    "Expand[(2a-1)(2b-1)+(2a-1)(2c-1)+(2b-1)(2c-1)]"
   ]
  },
  {
   "cell_type": "code",
   "execution_count": null,
   "metadata": {
    "vscode": {
     "languageId": "python"
    }
   },
   "outputs": [],
   "source": [
    "Simplify[Divide[f[z],z-3]]"
   ]
  },
  {
   "cell_type": "code",
   "execution_count": null,
   "metadata": {
    "vscode": {
     "languageId": "python"
    }
   },
   "outputs": [],
   "source": [
    "f[z_]:=z^3-z^2+11z-51;\n",
    "Plot[f[z],{z,1,5}]"
   ]
  },
  {
   "cell_type": "markdown",
   "metadata": {},
   "source": [
    "Suppose $ax^2+bx+c=0$ has roots $x=\\alpha$ and $x=\\beta$\n",
    "\n",
    "Then $\\alpha+\\beta=-\\large\\frac{b}{a}$ and $\\alpha\\beta=\\large\\frac{c}{a}$\n",
    "\n",
    "Suppose $ax^3+bx^2+cx+d=0$ has roots $x=\\alpha$, $x=\\beta$ and $x=\\gamma$\n",
    "\n",
    "Then $\\alpha+\\beta+\\gamma=\\large\\frac{-b}{a}$, $\\alpha\\beta+\\alpha\\gamma+\\beta\\gamma=\\large\\frac{c}{a}$, $\\alpha\\beta\\gamma=-\\large\\frac{d}{a}$, $\\alpha^2+\\beta^2+\\gamma^2=(\\alpha+\\beta+\\gamma)^2-2(\\alpha\\beta+\\alpha\\gamma+\\beta\\gamma)$ and $\\large\\frac{1}{\\alpha}+\\large\\frac{1}{\\beta}+\\large\\frac{1}{\\gamma}=\\large \\frac{\\alpha\\beta+\\alpha\\gamma+\\beta\\gamma}{\\alpha\\beta\\gamma}$\n",
    "\n",
    "Suppose $ax^4+bx^3+cx^2+dx+e$ has roots $x=\\alpha$, $x=\\beta$, $x=\\gamma$ and $x=\\delta$\n",
    "\n",
    "Then $\\Sigma\\alpha=-\\large\\frac{b}{a}$, $\\Sigma\\alpha\\beta=\\large\\frac{c}{a}$, $\\Sigma\\alpha\\beta\\gamma=-\\large\\frac{d}{a}$ and $\\alpha\\beta\\gamma\\delta=\\large \\frac{e}{a}$"
   ]
  },
  {
   "cell_type": "code",
   "execution_count": null,
   "metadata": {
    "vscode": {
     "languageId": "python"
    }
   },
   "outputs": [],
   "source": [
    "b+c+d"
   ]
  },
  {
   "cell_type": "code",
   "execution_count": null,
   "metadata": {
    "vscode": {
     "languageId": "python"
    }
   },
   "outputs": [],
   "source": [
    "a=3;\n",
    "b=2a;\n",
    "c=a-2;\n",
    "d=1/a;\n",
    "N[b*c+c*d+b*d]"
   ]
  },
  {
   "cell_type": "code",
   "execution_count": null,
   "metadata": {
    "vscode": {
     "languageId": "python"
    }
   },
   "outputs": [],
   "source": [
    "1+12+18-81"
   ]
  },
  {
   "cell_type": "code",
   "execution_count": null,
   "metadata": {
    "vscode": {
     "languageId": "python"
    }
   },
   "outputs": [],
   "source": [
    "Expand[(3a+1)(3b+1)(3c+1)]"
   ]
  },
  {
   "cell_type": "code",
   "execution_count": null,
   "metadata": {
    "vscode": {
     "languageId": "python"
    }
   },
   "outputs": [],
   "source": [
    "Expand[(3a+1)(3b+1)+(3a+1)(3c+1)+(3b+1)(3c+1)]"
   ]
  },
  {
   "cell_type": "code",
   "execution_count": null,
   "metadata": {
    "vscode": {
     "languageId": "python"
    }
   },
   "outputs": [],
   "source": [
    "-3/4-6+16"
   ]
  },
  {
   "cell_type": "code",
   "execution_count": null,
   "metadata": {
    "vscode": {
     "languageId": "python"
    }
   },
   "outputs": [],
   "source": [
    "1.5^3-3*3*1.5+3*1"
   ]
  },
  {
   "cell_type": "code",
   "execution_count": null,
   "metadata": {
    "vscode": {
     "languageId": "python"
    }
   },
   "outputs": [],
   "source": [
    "Expand[(a+b+c)^3]"
   ]
  },
  {
   "cell_type": "code",
   "execution_count": null,
   "metadata": {
    "vscode": {
     "languageId": "python"
    }
   },
   "outputs": [],
   "source": [
    "1-3/2+6/2-2/2"
   ]
  },
  {
   "cell_type": "code",
   "execution_count": null,
   "metadata": {
    "vscode": {
     "languageId": "python"
    }
   },
   "outputs": [],
   "source": [
    "1-(a+b+c)+(ab+ac+bc)-abc=1+1.5+3+1"
   ]
  },
  {
   "cell_type": "code",
   "execution_count": null,
   "metadata": {
    "vscode": {
     "languageId": "python"
    }
   },
   "outputs": [],
   "source": [
    "Expand[(1-a)(1-b)(1-c)]"
   ]
  },
  {
   "cell_type": "markdown",
   "metadata": {},
   "source": [
    "### Modules 2 and 5 - Matrices 1 and 2"
   ]
  },
  {
   "cell_type": "markdown",
   "metadata": {},
   "source": [
    "Matrices for transformations:\n",
    "\n",
    "Reflection in the x axis:\n",
    "\n",
    "$$\\begin{pmatrix}1&&0\\\\0&&-1\\end{pmatrix}$$\n",
    "\n",
    "Reflection in the y axis:\n",
    "\n",
    "$$\\begin{pmatrix}1&&0\\\\0&&1\\end{pmatrix}$$\n",
    "\n",
    "Reflection in the line y=x axis:\n",
    "\n",
    "$$\\begin{pmatrix} 0 && 1 \\\\ 1 && 0 \\end{pmatrix}$$\n",
    "\n",
    "Anticlockwise rotation of theta about the origin:\n",
    "\n",
    "$$\\begin{pmatrix}\\cos{\\theta}&&-\\sin{\\theta}\\\\ \\sin{\\theta}&&\\cos{\\theta}\\end{pmatrix}"
   ]
  },
  {
   "cell_type": "code",
   "execution_count": null,
   "metadata": {
    "vscode": {
     "languageId": "python"
    }
   },
   "outputs": [],
   "source": [
    "k=5;\n",
    "mat1={{3,1,2},{1, -2, 1}, {-1, 4, 1}};\n",
    "mat2={{k+1, 8, -4}, {-3, k-4, 7}, {3, -11, 2k+3}};\n",
    "mat3={{3, -2, 2}, {2, 3, -1}, {1, 3, 1}};\n",
    "mat4={{2, 3, -4}, {1, -1, -2}, {5, 2, 3}};\n",
    "mat5={{2, 3, -1}, {1, -2, -3}, {1, 5, 2}};\n",
    "mat6=Inverse[mat4];\n",
    "mat7={{11},{8},{7}};\n",
    "mat8=mat6.mat7;\n",
    "Det[mat1]\n",
    "Det[mat3]\n",
    "MatrixForm[mat2]\n",
    "MatrixForm[mat6]\n",
    "Det[mat5]\n",
    "MatrixForm[mat8]"
   ]
  },
  {
   "cell_type": "code",
   "execution_count": null,
   "metadata": {
    "vscode": {
     "languageId": "python"
    }
   },
   "outputs": [],
   "source": [
    "4*27-7*33\n",
    "3*27+5*33\n",
    "6*3-7*1+5*1\n",
    "6*1+7*2-5*4\n",
    "6*2-7*1-5*1\n",
    "2*3-5*1-1\n",
    "6*16-7*13+5*15\n",
    "2*16-5*13-15\n",
    "13^2-15*7-16*2\n",
    "6*3-2*8-4*22"
   ]
  },
  {
   "cell_type": "code",
   "execution_count": null,
   "metadata": {
    "vscode": {
     "languageId": "python"
    }
   },
   "outputs": [],
   "source": [
    "f[x_]:=x^3-2x^2-5x+6;\n",
    "g[x_]:=x-1\n",
    "Simplify[f[x]/g[x]]"
   ]
  },
  {
   "cell_type": "code",
   "execution_count": null,
   "metadata": {
    "vscode": {
     "languageId": "python"
    }
   },
   "outputs": [],
   "source": [
    "p={{1,-2},{3,-2}};\n",
    "q={{-2,1},{1, -2}};\n",
    "r={{-1, -2}, {-3, 4}};\n",
    "MatrixForm[p.q]\n",
    "MatrixForm[r.q]\n",
    "MatrixForm[p.r]"
   ]
  },
  {
   "cell_type": "code",
   "execution_count": null,
   "metadata": {
    "vscode": {
     "languageId": "python"
    }
   },
   "outputs": [],
   "source": [
    "Det[mat1]"
   ]
  },
  {
   "cell_type": "code",
   "execution_count": null,
   "metadata": {
    "vscode": {
     "languageId": "python"
    }
   },
   "outputs": [],
   "source": [
    "mat1={{3,-8}, {-5, 7}};\n",
    "MatrixForm[mat1.unitsquare]"
   ]
  },
  {
   "cell_type": "code",
   "execution_count": null,
   "metadata": {
    "vscode": {
     "languageId": "python"
    }
   },
   "outputs": [],
   "source": [
    "mat1={{-7,-2}, {4, -2}};\n",
    "MatrixForm[mat1.unitsquare]"
   ]
  },
  {
   "cell_type": "code",
   "execution_count": null,
   "metadata": {
    "vscode": {
     "languageId": "python"
    }
   },
   "outputs": [],
   "source": [
    "mat1={{5,-1},{-3,1}};\n",
    "MatrixForm[mat1.unitsquare]"
   ]
  },
  {
   "cell_type": "code",
   "execution_count": null,
   "metadata": {
    "vscode": {
     "languageId": "python"
    }
   },
   "outputs": [],
   "source": [
    "unitsquare={{0,0,1,1},{0,1,1,0}};\n",
    "mat1={{2,2},{-1,4}};\n",
    "MatrixForm[mat1.unitsquare]"
   ]
  },
  {
   "cell_type": "code",
   "execution_count": null,
   "metadata": {
    "vscode": {
     "languageId": "python"
    }
   },
   "outputs": [],
   "source": [
    "mat1={{4,2},{3,6}}\n",
    "Det[mat1]"
   ]
  },
  {
   "cell_type": "markdown",
   "metadata": {},
   "source": [
    "Identity matrices have 1's on the lead diagonal that stretches from the top-left corner to the bottom-right corner.\n",
    "\n",
    "For example, below is 3 by 3 identity matrix:\n",
    "\n",
    "$$\\mathbf{I} = \\begin{pmatrix} 1 && 0&&0 \\\\ 0 && 1&&0\\\\0&&0&&1 \\end{pmatrix}$$"
   ]
  },
  {
   "cell_type": "code",
   "execution_count": null,
   "metadata": {
    "vscode": {
     "languageId": "python"
    }
   },
   "outputs": [],
   "source": [
    "(* Ex 05 q 7 *)\n",
    "mat1={{-3,2},{-8,5}};\n",
    "mat2={{x},{2x+1}};\n",
    "MatrixForm[mat1.mat2]"
   ]
  },
  {
   "cell_type": "code",
   "execution_count": null,
   "metadata": {
    "vscode": {
     "languageId": "python"
    }
   },
   "outputs": [],
   "source": [
    "mat1={{3,7},{2,4}};\n",
    "mat2={{2,3},{-1,2}};\n",
    "mat5={{3,6,1},{-4,-2,5}};\n",
    "mat7=IdentityMatrix[3];\n",
    "mat6=mat1.mat5;\n",
    "mat3=mat1*mat2;\n",
    "mat4=mat1.mat2;\n",
    "MatrixForm[mat3]\n",
    "MatrixForm[Transpose[mat1]]\n",
    "MatrixForm[mat6]\n",
    "MatrixForm[mat7]"
   ]
  },
  {
   "cell_type": "code",
   "execution_count": null,
   "metadata": {
    "vscode": {
     "languageId": "python"
    }
   },
   "outputs": [],
   "source": [
    "mat1={{1,0},{0,1}};\n",
    "mat2={{-1,0},{-1,0}};\n",
    "MatrixForm[mat1.mat2]"
   ]
  },
  {
   "cell_type": "markdown",
   "metadata": {},
   "source": [
    "### Module 1 and 4 - Complex Numbers 1 (Introduction) Complex Numbers 2 (Complex Plane)"
   ]
  },
  {
   "cell_type": "code",
   "execution_count": null,
   "metadata": {
    "vscode": {
     "languageId": "python"
    }
   },
   "outputs": [],
   "source": [
    "ArcTan[0.5]\n",
    "N[ArcTan[2]]"
   ]
  },
  {
   "cell_type": "code",
   "execution_count": null,
   "metadata": {
    "vscode": {
     "languageId": "python"
    }
   },
   "outputs": [],
   "source": [
    "N[3E^(3I)]"
   ]
  },
  {
   "cell_type": "code",
   "execution_count": null,
   "metadata": {
    "vscode": {
     "languageId": "python"
    }
   },
   "outputs": [],
   "source": [
    "Expand[(a+b*I)^3]"
   ]
  },
  {
   "cell_type": "code",
   "execution_count": null,
   "metadata": {
    "vscode": {
     "languageId": "python"
    }
   },
   "outputs": [],
   "source": [
    "N[2E^I]"
   ]
  },
  {
   "cell_type": "code",
   "execution_count": null,
   "metadata": {
    "vscode": {
     "languageId": "python"
    }
   },
   "outputs": [],
   "source": [
    "0.1415*-2.4034-1.7954*1.995\n",
    "0.1415*1.7954+1.9950*-2.4034"
   ]
  },
  {
   "cell_type": "code",
   "execution_count": null,
   "metadata": {
    "vscode": {
     "languageId": "python"
    }
   },
   "outputs": [],
   "source": [
    "N[Cos[-1]]\n",
    "N[Sin[-1]]\n",
    "N[Cos[-2]]\n",
    "N[Sin[-2]]\n",
    "N[Cos[2]]\n",
    "N[Sin[2]]\n",
    "2Cos[1.5]\n",
    "2Sin[1.5]\n",
    "3Cos[2.5]\n",
    "3Sin[2.5]"
   ]
  },
  {
   "cell_type": "code",
   "execution_count": null,
   "metadata": {
    "vscode": {
     "languageId": "python"
    }
   },
   "outputs": [],
   "source": [
    "(1.081^2+1.683^2)(-0.909^2-0.416^2)"
   ]
  },
  {
   "cell_type": "code",
   "execution_count": null,
   "metadata": {
    "vscode": {
     "languageId": "python"
    }
   },
   "outputs": [],
   "source": [
    "(3+4I)(3-4I)"
   ]
  },
  {
   "cell_type": "code",
   "execution_count": null,
   "metadata": {
    "vscode": {
     "languageId": "python"
    }
   },
   "outputs": [],
   "source": [
    "f[z_]:=(2z-2I)/(1+I)-3+I\n",
    "NSolve[f[z],z]"
   ]
  },
  {
   "cell_type": "code",
   "execution_count": null,
   "metadata": {
    "vscode": {
     "languageId": "python"
    }
   },
   "outputs": [],
   "source": [
    "Pi-ArcTan[1.5]"
   ]
  }
 ],
 "metadata": {
  "kernelspec": {
   "display_name": "Wolfram Language 14",
   "language": "Wolfram Language",
   "name": "wolframlanguage14"
  },
  "language_info": {
   "codemirror_mode": "mathematica",
   "file_extension": ".m",
   "mimetype": "application/vnd.wolfram.m",
   "name": "Wolfram Language",
   "pygments_lexer": "mathematica",
   "version": "12.0"
  }
 },
 "nbformat": 4,
 "nbformat_minor": 2
}
