{
 "cells": [
  {
   "cell_type": "markdown",
   "metadata": {},
   "source": [
    "# A-level-further"
   ]
  },
  {
   "cell_type": "code",
   "execution_count": null,
   "metadata": {
    "vscode": {
     "languageId": "wolfram"
    }
   },
   "outputs": [],
   "source": [
    "g=9.8;\n",
    "invsin[x_]:=InverseFunction[Sin][x]\n",
    "N[InverseFunction[Sin][1]]\n",
    "InverseFunction[Sin][1]//N  (*Wolfram喜欢用后缀线//*)\n",
    "f[x_]:=x^2"
   ]
  },
  {
   "cell_type": "markdown",
   "metadata": {},
   "source": [
    "## Further Y12-2"
   ]
  },
  {
   "cell_type": "markdown",
   "metadata": {},
   "source": [
    "### Module 3 - Further Differentiation and Integration"
   ]
  },
  {
   "cell_type": "markdown",
   "metadata": {},
   "source": [
    "Integration methods :\n",
    "\n",
    "$$\\int f'(x)g'(f(x))=g(f(x))+c$$\n",
    "\n",
    "$$\\int \\frac{f'(x)}{f(x)}\\hspace{1px}\\mathrm{d}x=\\ln{f(x)}+c$$\n",
    "\n",
    "\n",
    "Trigonometric identities for integration :\n",
    "\n",
    "$$\\cos^2{x}\\equiv\\frac{1}{2}(1+\\cos{2x})$$\n",
    "\n",
    "$$\\sin^2{x}\\equiv\\frac{1}{2}(1-\\cos{2x})$$"
   ]
  },
  {
   "cell_type": "code",
   "execution_count": null,
   "metadata": {
    "vscode": {
     "languageId": "wolfram"
    }
   },
   "outputs": [],
   "source": []
  },
  {
   "cell_type": "markdown",
   "metadata": {},
   "source": [
    "x^2+25=169(yz+144)\n",
    "y^2+153=169(xz+16)\n",
    "z^2+160=169(xy-9)"
   ]
  },
  {
   "cell_type": "code",
   "execution_count": null,
   "metadata": {
    "vscode": {
     "languageId": "wolfram"
    }
   },
   "outputs": [
    {
     "data": {
      "text/html": [
       "<style>\n",
       "\t\t\t\t\t\t\t\t\t\t\t\t\t.grid-container {\n",
       "\t\t\t\t\t\t\t\t\t\t\t\t\t\tdisplay: inline-grid;\n",
       "\t\t\t\t\t\t\t\t\t\t\t\t\t\tgrid-template-columns: auto;\n",
       "\t\t\t\t\t\t\t\t\t\t\t\t\t}\n",
       "\t\t\t\t\t\t\t\t\t\t\t\t</style>\n",
       "\n",
       "\t\t\t\t\t\t\t\t\t\t\t\t<div><div class=\"grid-container\"><div class=\"grid-item\"><img alt=\"Output\" src=\"data:image/png;base64,iVBORw0KGgoAAAANSUhEUgAAAB8AAAAVCAIAAAAxV6IIAAAA0HpUWHRSYXcgcHJvZmlsZSB0eXBlIGV4aWYAAHjabU/tbQUhDPvPFB0hH+DAONx7nNQNOn7NgVpR1RKxY5JA0vj6vNPHhKmkXKKiAULklpt1iioLi1XaE1dy7zs9/aRl+51W+b3A2P51+oHFVv8MElvC5wvUnnfDHuS2fO0rv3a99VrPQZccgPx8/d88exgKNDJjNolAo66JkoRiUgI3XgALFW+T/CIPRLANMSu8z8YJG3FWjwSn8Z4r+DzZuyu5M1O2qoOa33gct4uOPnqu8w13KFrc6L8M9gAAAAlwSFlzAAAOxAAADsQBlSsOGwAAADx0RVh0U29mdHdhcmUAQ3JlYXRlZCB3aXRoIHRoZSBXb2xmcmFtIExhbmd1YWdlIDogd3d3LndvbGZyYW0uY29tXKKmhQAAACF0RVh0Q3JlYXRpb24gVGltZQAyMDI0OjEyOjAxIDE2OjQ3OjAz/ZujZgAAAQdJREFUOI3tVLGNhDAQ3H1dGUQ2NRBBvJRADdRAA66AlAhcAhGJ28CO6GM/2NM+utOffPq75HUTWNoda2yPx0Zmhrfh633SH/WXqZdliYje+5u+9x5P+CE4D845AFiWRcYzJc0Yo5REpLJZe/feb9vGzEVR3LPTNBGRMUbKYRgAIKWU60zXdeu6/sYaY/Z91/I4Dmk+4YwghHDvTIxRdNUl55xQl5y9P4YxhpnbtpX7DCHUdS3U1RnhbpCpnlJCRFnDOdc0Td/3oMf5ozPWWiLSUswJIeRm5jFijBoYAJBcyd2+QJ2IxnGUCALAPM8AUFUVQJ4zmoozrLU6QV6QQvvIn//9/6l/A6CFX9dDWmbBAAAAAElFTkSuQmCC\"></div><div class=\"grid-item\"><img alt=\"Output\" src=\"data:image/png;base64,iVBORw0KGgoAAAANSUhEUgAAABQAAAAVCAIAAADJt1n/AAAA0HpUWHRSYXcgcHJvZmlsZSB0eXBlIGV4aWYAAHjabU/ZbUQhEPunii1hDvBAObxdVkoHKX/NAyUiiiWwx3NBGt9f7/SYMJWUS1Q0QIjccrNOUWVhsUq77xXkndPTT1q232mV3wTG9q/TDyy2+meQ2BI+N1D73hh7kNvyta/42vXWaz0HXXIA8vP0f+PsYSjQyLyzSQQadU2UJBSTEnjjCbBQ8TLJT/JABNsQs8L7bJywEWf1SHAar/kFnyd7dyV3RspWdVDzGbfjdtHRW8/vfAAthlqqS/bYMQAAAAlwSFlzAAAOxAAADsQBlSsOGwAAADx0RVh0U29mdHdhcmUAQ3JlYXRlZCB3aXRoIHRoZSBXb2xmcmFtIExhbmd1YWdlIDogd3d3LndvbGZyYW0uY29tXKKmhQAAACF0RVh0Q3JlYXRpb24gVGltZQAyMDI0OjEyOjAxIDE2OjQ3OjAz/ZujZgAAAM5JREFUOI3tU8FxxDAIXKcOPzyGXqgFF+AeaETqwh/VIbXCPXQhjq3LTO6XmewLwS7DImlyd7yLj7eVf17MzNMnmPnOa60FYdu2Z9ZvEBEiOmdUFUCt9cIciHPOZ2opZah095ee13XtQUpJVeP4Dfd+AMwsjkRkZkQUkpgCZ1KvXQxfBN3/S89mBqCUMhyk1gog5zz2vO87EaWUYpDhLvDDI1mWpQfMfBxH5FtrAOZ5Hi/s7Cquqs/p7iIiIl+eu42Aql7adf29Ovn/f/4VHu1iSaOV7htRAAAAAElFTkSuQmCC\"></div><div class=\"grid-item\"><img alt=\"Output\" src=\"data:image/png;base64,iVBORw0KGgoAAAANSUhEUgAAABQAAAAVCAIAAADJt1n/AAAA0HpUWHRSYXcgcHJvZmlsZSB0eXBlIGV4aWYAAHjabU/ZbUQhEPunii1hDvBAObxdVkoHKX/NAyUiiiWwx3NBGt9f7/SYMJWUS1Q0QIjccrNOUWVhsUq77xXkndPTT1q232mV3wTG9q/TDyy2+meQ2BI+N1D73hh7kNvyta/42vXWaz0HXXIA8vP0f+PsYSjQyLyzSQQadU2UJBSTEnjjCbBQ8TLJT/JABNsQs8L7bJywEWf1SHAar/kFnyd7dyV3RspWdVDzGbfjdtHRW8/vfAAthlqqS/bYMQAAAAlwSFlzAAAOxAAADsQBlSsOGwAAADx0RVh0U29mdHdhcmUAQ3JlYXRlZCB3aXRoIHRoZSBXb2xmcmFtIExhbmd1YWdlIDogd3d3LndvbGZyYW0uY29tXKKmhQAAACF0RVh0Q3JlYXRpb24gVGltZQAyMDI0OjEyOjAxIDE2OjQ3OjAz/ZujZgAAAKxJREFUOI3tk8sNAzEIRNm0gsvwnVpcCl34RiHU4VrIAQWtv1L2FilzWiE/2Bnsy8zgqV6Pyd+FwcyYea4jon1USok6M0cdbCVELKUESUT+LSIAICJb2E+o6q5v9Fp4rrUSUc55aTOl1Hm+S1UPY/1GhaMRJqJ7VIM8uWjdwT428hjkS9mmfRjrKcYPj3BrbWh8JjvY/cyke4n1LGA/sRxLRPPCPJfL/u/5K70BZ/zPNThElL8AAAAASUVORK5CYII=\"></div><div class=\"grid-item\"><img alt=\"Output\" src=\"data:image/png;base64,iVBORw0KGgoAAAANSUhEUgAAAIgAAAAVCAIAAAASIDGYAAAA0npUWHRSYXcgcHJvZmlsZSB0eXBlIGV4aWYAAHjabY/rjQMhDIT/U8WV4AeMl3LYhEjXwZV/w0ISEcXSMuMP22tS//t9pJ8RppJyiQMVEEauuVqjOWTGVJV6nRM973TnScvijai8L9AXP3cemGrHxyCxaXz8gd7zaliD3CbXNvNz1VvjbtugU7aAvFb/mmcPQ4FG5plNIlDpj0RLQTEpgQduAAsVd5N8o3ZEsA0xKryNxhHWY6/uCU5wH0/w8WVvrtTGTNmqDnqucRG3k0QvP57zDz3AWrVU6qg8AAAACXBIWXMAAA7EAAAOxAGVKw4bAAAAPHRFWHRTb2Z0d2FyZQBDcmVhdGVkIHdpdGggdGhlIFdvbGZyYW0gTGFuZ3VhZ2UgOiB3d3cud29sZnJhbS5jb21coqaFAAAAIXRFWHRDcmVhdGlvbiBUaW1lADIwMjQ6MTI6MDEgMTY6NDc6MDP9m6NmAAAC/klEQVRoge1ZvW3rMBA+GW+KFEGg0xSGkSINNUCKeARqgSygRlzAI1hFBrBSpLCETBGxCAyvoVfc870DSSvSix37wf4q6Y68Hx75HWVHXdfBFeeHyakDuCKMa2HOFNfCnCkOVpgkSaIdmqY5lNmLxd/CWGsjgVFW0jQFgG6H2Wz2/ciiKCrL8vt2fPAeOpTBLMtoBYJommafu55I/hSmLEtEXC6XvLg9nnxUVZXn+fDxp0WSJJTjz/jK81xrHdR+fHx0XRfUTgDAWjufz4uieHp6YsVqtRro21o7PuCLQJqmeZ4PX0mJCQC8vLwAwOPj475BZVkyxSVJMty6Q49+CX2z7AsA5vN5cG6apiw3xjjumqYxxoyKNk1TYwwRizEmy7IoiiRnMB05zEOvi8Wiqio/pNVqJff6ONBRQsRuD4qiAIC2belVKQW7doKIvkGlFGnbtpVmHS91XQNAURT8ys/MM5JaGYgoXQCA1lq+Sol0weDpUkLuKFmtNYVHWdd1LacopRwLWmvfpjMARA/2tb4QyFNPYZzcKHm5ZL4kiOVy6RS4P5mgTcdIt9s3MhKZZ9BLUEIrwLuQClPXtR+Y9Eg4RmF+9Z8nuvhOp1OWxHGMiJ+fn0OOozHm+fk5qKqqilZ5FNbrNSLGccwSis1ay8L7+3vWDud3SXpxHG+3W6nNsmyxWIyN9juYAMDDwwOTwAFBVeFN9w9lOBNQVfiY0ok5Niaw23TBj4abmxsA2Gw2LLHWtm17e3v7pem3tzel1L5vGkRcr9djw727u3P20Pv7OwDIM3RwvL6+aq2P6iIASYKS05k0ScX7BRGdhrSvx0hi5ePCdkjCs9q2dbq074gA4n7h3CAGdrtgjyEh9w/ZY2QP5uMip5Mw2JD8pQhqA2nyk0M1vmOCb6VnOfjahog0TPZtSp4HBIITkBPlbVAux5EKIyNRSpHKsSA/EnmjBEnPvyV+UZjLQf8N6ucRLMz11+UzRdRd3j+YSZIQ6Z08955ILrEw/wWuVHam+A3/dxD2SO6VzAAAAABJRU5ErkJggg==\"></div></div></div>"
      ],
      "text/plain": [
       "-18\n",
       "36\n",
       "72\n",
       "Cofactor[mat1]"
      ]
     },
     "execution_count": 7,
     "metadata": {
      "text/html": [],
      "text/plain": []
     },
     "output_type": "execute_result"
    }
   ],
   "source": [
    "(* Assessment 1 Calculation *)\n",
    "4-18+6-10\n",
    "20-12-8+36\n",
    "72-16-24+40"
   ]
  },
  {
   "cell_type": "code",
   "execution_count": 2,
   "metadata": {
    "vscode": {
     "languageId": "wolfram"
    }
   },
   "outputs": [
    {
     "data": {
      "text/html": [
       "<style>\n",
       "\t\t\t\t\t\t\t\t\t\t\t\t\t.grid-container {\n",
       "\t\t\t\t\t\t\t\t\t\t\t\t\t\tdisplay: inline-grid;\n",
       "\t\t\t\t\t\t\t\t\t\t\t\t\t\tgrid-template-columns: auto;\n",
       "\t\t\t\t\t\t\t\t\t\t\t\t\t}\n",
       "\t\t\t\t\t\t\t\t\t\t\t\t</style>\n",
       "\n",
       "\t\t\t\t\t\t\t\t\t\t\t\t<div><div class=\"grid-container\"><div class=\"grid-item\"><img alt=\"Output\" src=\"data:image/png;base64,iVBORw0KGgoAAAANSUhEUgAAAFYAAAAVCAIAAABT+I5iAAAAznpUWHRSYXcgcHJvZmlsZSB0eXBlIGV4aWYAAHjaXU/rkYMhCPxvFVcCLxctxy8xM+kg5QcjdzdmHWFZHkqZr+ej/CwIU7HqDR2ggHXrMoI02tieqX/sBxWZ41MvXFMfIdX/BGbq16l7DpL2NYhkE10vBFfLhhyksnUeO76yXkZr56CLDvz+/O9nX7GpCyrYLawJuaMHbyVoOFSh6njgBkQh4y5kt/AT7tEGXxU6VuOCTD+rZ4GGcF8r6LqmQznOCI5oZUVwTYXkyizpWucNNoJaroGRJD0AAAAJcEhZcwAADsQAAA7EAZUrDhsAAAA8dEVYdFNvZnR3YXJlAENyZWF0ZWQgd2l0aCB0aGUgV29sZnJhbSBMYW5ndWFnZSA6IHd3dy53b2xmcmFtLmNvbVyipoUAAAAhdEVYdENyZWF0aW9uIFRpbWUAMjAyNDoxMToyNiAxNjozMToyMMaV3eQAAAJxSURBVFiF7Vc9jrMwEJ3kIFGEOUMqSGuOkFwACeqINCnTGFEHKRVdOEJoaEApcgawIi7iLWbXn9dgwn7NFssrEPb4jWeefwYWQgj421j+dgC/j1mCWYJZAlAlCMNw8YW6rqe7MBFt2170EMexyvU8r99Z1/UIRZvX8zy1k3MuiZpJjROR5zkAgBBCCEEpJYTgO2MMAKqqEhMwnVhVlWq93W4AgE/GmMl/27aDA9AbAFBKTVMQQlRrEARqUwIks21b2UsICYLAnPi3KScSVbGqqsJ3U4YasR86pRRTUk3YaQrPJMESAB6PByHEsiy5D9u2TdP07RGYTuScF0VxPp+x6ThO0zRv/UvIKRB5nhdFcTgctGFN06zXa9l0HAcAns/nuPMlAJRladu29O66Lu5Pzvk4eToxSRJCyG63G3fYx2C2+/2eMabpgni9XlpP13XyvSiK/rX1rSLEcXw6ncTPvxfHiZzzNE1935/uUN6I/WzjOCaERFHUZ/m+n6apXIAwDFXr5XKRm58x5rouXof/JPA8ryzLH+3PicQkSQBgMGgTHMeR4V6vV7nXOOfH41EeKA1RFAVBQAhB+bbbLQCsVqvBkZTSLMsAJbAsqygKy7Lu9zuO6LpOPeQmTCHiFsBi8X/IsqxtW9y3YRhSSkcOlLrUm80GAPA5iM9lE1/1Sb3YtavVhClETF4do2JKRVAvdlMyg9EyxgZLAEIWL5BtrbxrQWNn3+Nboik+xBQJRjwM1ktpGpEerZ/+tV5EnxMEAQDIbPvuBonIGoxjcDHRpJ2akY80TQL5vTSomhqnal2Yovk7mH+TZglmCWCWAAA+AAdcsfzeiVzzAAAAAElFTkSuQmCC\"></div><div class=\"grid-item\"><img alt=\"Output\" src=\"data:image/png;base64,iVBORw0KGgoAAAANSUhEUgAAAEMAAAAVCAIAAACSf8TOAAAAzXpUWHRSYXcgcHJvZmlsZSB0eXBlIGV4aWYAAHjabVBbDgIhDPznFB6hL6ZwHHbFxBt4fMtCNBiH0E6nDx6pv56PdBsQpmTZCypAAatWpQUpNDE9U73sBdOV411PnJfeQsrfBPrSj113TC/lZxDJJDpOCK62GtYglalzm/Gx6qWVsg86aAPoc/W/sakLMtgtrAm5owYvKWg4ZKHseOAEopBxF7IzfId7tMFHhbbROCDd9+qeoCHcxxN0bNOmHKsFR7SyIrguheRYWRp/nt4wnVqqgieR0AAAAAlwSFlzAAAOxAAADsQBlSsOGwAAADx0RVh0U29mdHdhcmUAQ3JlYXRlZCB3aXRoIHRoZSBXb2xmcmFtIExhbmd1YWdlIDogd3d3LndvbGZyYW0uY29tXKKmhQAAACF0RVh0Q3JlYXRpb24gVGltZQAyMDI0OjExOjI2IDE2OjMxOjIwxpXd5AAAAYBJREFUWIXtV8uNhDAMdbYMxAnTS2gl1MElNEINnKEN0or3YG0m63wmMzvSIsS7gePPe3lmNIqI4BL4+u8BPoabyflwOSbOORWgPr/ve/UbzrlcSCk1zzNHh2EQoX3ffdl5nv37cRxF02Q7IKLjOABg2zYiIiJERESqAyJaa2tObtsWdtFaG2OSJ621fgDOClsAwLIsvghTICKICy3LErb8FBOtdShQgUk5MQTzZGKJPWnbtt5dlXDOres6TdMbuV3X5UJN0zweYqLWWgA4jqNGMEQMS+eOGWOErmwMj0I7RNRaJ0OhfWRv3plcZhk8XDwT1yyY0BgDGT+zrH4xBADACySZlKV9iuTEPGg5ERHjtWHJc+vEdvDCQSH2BuLGTy/EtxZG4G3OuYPvP7zGB5O/0+ChhRMqt06wfZUGeSbJWDxQeX+SBwr28BC/YKxI7svLXo03B+hHAAFRiPPj6mFKXJ2zkhcSfvSE9zhLgM8wyRhEpOj+f3I23EzOh+sw+Qazb6pnBq8UtAAAAABJRU5ErkJggg==\"></div><div class=\"grid-item\"><img alt=\"Output\" src=\"data:image/png;base64,iVBORw0KGgoAAAANSUhEUgAAAJsAAAAVCAIAAADeuQtzAAAAz3pUWHRSYXcgcHJvZmlsZSB0eXBlIGV4aWYAAHjabU/bjQMhDPynipTgF2Moh80S6Tq48mOC76KNMgh7PH6Ay/z9eZTbgjAVq97QAQpYty4jSKON7Zn6y77Qj8zxVS9cUx8h1XcCM/Xjqju2l/YxiGQTXS8EV8uGHKSydR47PrJeRmvXQX9fTYD+v/41NnVBBbuFNSF39OCtBA2HKlQdD9yBKGScQnYPP+EebfBVoWM1Lsj0a/Us0BDOtYKuazqU44zgiFZWBNdUSI7Mkq51nn02Wt77NOQ2AAAACXBIWXMAAA7EAAAOxAGVKw4bAAAAPHRFWHRTb2Z0d2FyZQBDcmVhdGVkIHdpdGggdGhlIFdvbGZyYW0gTGFuZ3VhZ2UgOiB3d3cud29sZnJhbS5jb21coqaFAAAAIXRFWHRDcmVhdGlvbiBUaW1lADIwMjQ6MTE6MjYgMTY6MzE6MjDGld3kAAADAElEQVRoge1ZTW7qMBAe9xgVqlDMKRBs2IQDsGguECkcgBOwCeoatqyARQ/QfVhxhtpCiHv4LUa13PinZggvFeVbEWfGnvGMvxkHppSCB+4IT20b0D56vR5jjDG23+/btqUB/PWILhaLPM+VUlVVDYfDts1pAOzBuggpJef8Dnbjr59RjcPhkKYpWX2/3zPGxuNxgybREBtRXWwYY71eLywspWQGrjbSbUmDKlLKLMuWy2XMJM6Kez6f4+251LzLtNTlSNMUCcqJ7XYLANvt1pQnrBJYnaZYFIVzXAgBAFVVBXQBwFw3TVMhBM0MG9fsj+0UJaIYM6dLuDtlWVKsi0OzEY0JZ8DfRtBsROl1NEkSe/D9/R0AJpOJT2u32wXYezwex3O7xnQ6ZYwtFgs9gjNIKX/UfXt7A4DhcIgq5iQ1HA4H5zhWUMR0OrVfSSk1Q9YEbuER5YyC/xQWRREg5LIswUh27ET02zRNY7LVKVMUhZ4ZfztlfpzcB845fCdep0xtiaqqcJOxBuGjzQdkj9SVrIteAUAgZuESW0sFZDxdce0d8S0RWBoZ0smi10RUfaUjwsnAvoiaLYXzMJA9UgHWNenO16N+fn6iTp7nhC8sKN/v9/VIkiSc89PphI/z+Xy1Wl3EtyY+Pj6EEFmWlWU5GAwIM4Qxm83UVxZyzne7XaRip9OhrUjz6Ekr2/H36cxmM875ZrOxX41GI/SZgNfXV8xrIQQhrrrGHI9HmgExSJIEj+N6vb7dKgiaR/TOqNvt2oN4BJ35+/z8DN/vbVJKIcTLy4spNhgM8CgIIeLPAQAg6VVVtVqtLlIkgMYil4LokZOdwwgUav3WeR81qz1muq/o+poI5ak6Zv3Ggmfrkusobqt+tC/cCF8dNXUhuo7GeKTInVGNSH/cGvTZmTRmf1Gbp5Zqvl7A9h9bNlPeHlHXdUa1D4RmZ4RpWgMKkCMa6ZHTKcoZbReNfzNqHb/lC8MDvxTXpVcL0Nfim6r8T9DM82k9/h+9NzxY997wDyoLjXrtt2nBAAAAAElFTkSuQmCC\"></div></div></div>"
      ],
      "text/plain": [
       "0.0713495\n",
       "2.57522\n",
       "         2\n",
       "-3 Cos[x]  Sin[x]"
      ]
     },
     "execution_count": 2,
     "metadata": {
      "text/html": [],
      "text/plain": []
     },
     "output_type": "execute_result"
    }
   ],
   "source": [
    "N[(Pi-2)/16]\n",
    "N[12-3Pi]\n",
    "D[Cos[x]^3,x]"
   ]
  },
  {
   "cell_type": "code",
   "execution_count": null,
   "metadata": {
    "vscode": {
     "languageId": "wolfram"
    }
   },
   "outputs": [
    {
     "data": {
      "text/html": [
       "<style>\n",
       "\t\t\t\t\t\t\t\t\t\t\t\t\t.grid-container {\n",
       "\t\t\t\t\t\t\t\t\t\t\t\t\t\tdisplay: inline-grid;\n",
       "\t\t\t\t\t\t\t\t\t\t\t\t\t\tgrid-template-columns: auto;\n",
       "\t\t\t\t\t\t\t\t\t\t\t\t\t}\n",
       "\t\t\t\t\t\t\t\t\t\t\t\t</style>\n",
       "\n",
       "\t\t\t\t\t\t\t\t\t\t\t\t<div><div class=\"grid-container\"><div class=\"grid-item\"><img alt=\"Output\" src=\"data:image/png;base64,iVBORw0KGgoAAAANSUhEUgAAACcAAAAVCAIAAABKc2DEAAAAz3pUWHRSYXcgcHJvZmlsZSB0eXBlIGV4aWYAAHjabU/ZjUMhDPynii3BF2Moh5cQKR2k/LUD2hVRBmGPxwe4zNfzUX4SwlSsekMHKGDduowgjRaWZ+pv+4b4zvGpF65bHyHV/wTm1q9Td+yB7WMQySKaLwRX2w17kMrSeaz42vUyWjsHXXQA9Pf1r7GpCyrYLawJuaMHbyVoOFSh6njgBkQh4y5kt/AT7tEGzwod2ZiQ6Wf1LNAQ7rmC5jUdynHSerRyqEM1MmmrXDtLmuv8AjNbWq2AbZdsAAAACXBIWXMAAA7EAAAOxAGVKw4bAAAAPHRFWHRTb2Z0d2FyZQBDcmVhdGVkIHdpdGggdGhlIFdvbGZyYW0gTGFuZ3VhZ2UgOiB3d3cud29sZnJhbS5jb21coqaFAAAAIXRFWHRDcmVhdGlvbiBUaW1lADIwMjQ6MTE6MTcgMTA6MzI6MzWooY/BAAABAUlEQVRIie2Vz42FIBDGv9lsFR6FGjxRgCV49Io1WIHxLB0oNXCF2AW0wh5ICHn7NuvmPc0e/E5MZoZfMn+AYoy4XB/XI2/qRVTOOT1TCOEsbCwkpWSMxfP1X/uqtSYiAG3bpsoPw5Bczjkics7lYCKapimbIYSyZX+g5uv6vo8xWmuVUiXpJ4UQGGPW2ty+DD5K3bat6zoAQggA+77/mjLPs5QyxQNYlgWA1hrA50Fq0zT5fPARNcZ475VS313nTpOU8mF6U8FeolZVVZoP+805N8Y8TXyJWtc1gHVdk8kYK73jOHrv88C/jQogjXRaDGttCRZClN5yeej+X2/q2/QF40ffNyNlVmYAAAAASUVORK5CYII=\"></div><div class=\"grid-item\"><img alt=\"Output\" src=\"data:image/png;base64,iVBORw0KGgoAAAANSUhEUgAAADoAAAAVCAIAAACYI2qcAAAAz3pUWHRSYXcgcHJvZmlsZSB0eXBlIGV4aWYAAHjabU/ZbUQhDPynipTgizGUw9tlpXSQ8mPvsxIRZRC2mfFF21+fr/aREKZm3QcmQAGbNmVFMOjG7Znm276hqzQ++ca9+BVU/xWwi79O3nF7GX8akdSknBCxWhVUI5Wb59rkqnxZY5yNLjoA+ln937epCzrYLawJuWNGPFqE4dCFuuOFBxCJjKeQPcJvuEcZPDN0ZWFCtp/Zu0GDeOYXNK/pUo6T1qOUg12qoaSFXKWS5ne+AXK/WtmfRGRKAAAACXBIWXMAAA7EAAAOxAGVKw4bAAAAPHRFWHRTb2Z0d2FyZQBDcmVhdGVkIHdpdGggdGhlIFdvbGZyYW0gTGFuZ3VhZ2UgOiB3d3cud29sZnJhbS5jb21coqaFAAAAIXRFWHRDcmVhdGlvbiBUaW1lADIwMjQ6MTE6MTcgMTA6MzI6MzYxqN57AAACCklEQVRIie1WMZLqMAxV9iAMY+UYpEnjHAGO4ByANJRpnAOQGS4QCg4ATQpCxRmSFFzEv9B+rdYGli2YHWZ4BWNLlvwkSwqRcw5eBx9/TeB3eNN9Jl6Wbp7n0X+cTqdfeZG24zhKFcvjOL5jm2VZqGLbL61zzjmntUZEWltrAaDrOvcAhmEAAGPMLZW1lraIyFcwuq4jGlprKb/FAdhmGAaWIuJVBiG01rdOGmMkCbrFY0DmWmt5kuK8mi+gUGTcHPGPXMmvjFMCETm1xN57h6ZpyNyja631ks34AIC2bbmwttttkiTkyKvCEOfzmX65yPI8J9U4jsMwTCYT2lLxaa2lz8ViYa1VSnlu27ZVSmVZFvbSt8lQVdVqtXIPf+culwsAHI9HTnZd11VVecfiOE7TdL1ee3ch4nK5DN32fV/XNTGhZCdJQnF+0c2yrG3bvu8f5MpgHkopY8xms5HxRFFUlqVHaxzHoijKsrzl0xgzm81oTba73e6TrlLqcDgopfb7PV+DiOEzeeC3ZkynU6YOAEVRdF03n89J2Pd9mqYAkOe51prlHsKRh4ifK1nyXNF3+l0ibHY5De70+52kkhNv5AFA0zSOJoP7PhRp5nn9TsKwYeXA9tjTVs7dW/1+NTA2lOxB2nCUoUcaQ+Gc9wy9IOlimblH6HqGUhW59//d5+FN95l4Mbr/AMiJkPJAklNsAAAAAElFTkSuQmCC\"></div><div class=\"grid-item\"><img alt=\"Output\" src=\"data:image/png;base64,iVBORw0KGgoAAAANSUhEUgAAAEMAAAAVCAIAAACSf8TOAAAAz3pUWHRSYXcgcHJvZmlsZSB0eXBlIGV4aWYAAHjabVDZjUMhDPynii3BF2Moh5cQKR2k/LUD2hVRBmGPxwdHma/no/wkhKlY9YYOUMC6dRlBGi0sz9Tf9g3TneNTL1y3PkKq/wnMrV+n7lhe2scgkkU0Twiuthv2IJWl81jxtetltHYOuugA6O/qX2NTF1SwW1gTckcP3krQcKhC1fHADYhCxl3IbuEn3KMNnhU6sjEh08/qWaAh3PMJmtt0KMdK69HKoQ7VyKSFXDtL+eflFzB7WqytkClgAAAACXBIWXMAAA7EAAAOxAGVKw4bAAAAPHRFWHRTb2Z0d2FyZQBDcmVhdGVkIHdpdGggdGhlIFdvbGZyYW0gTGFuZ3VhZ2UgOiB3d3cud29sZnJhbS5jb21coqaFAAAAIXRFWHRDcmVhdGlvbiBUaW1lADIwMjQ6MTE6MTcgMTA6MzI6MzYxqN57AAACSklEQVRYhe1XPa7iQAx2OAZCFJmcgSpQUDA5AnS0SY1EkwskByASVSqSIyRNmkQUnIGhiHKP2cLg55fw8/Yt0iLEV6AZj+3x53hsYWit4S3Q+98BPA0fJq+Hd2TieZ5xQVVVf+XFsizDMNI0bcmrqiKfnud1DcMw7F7KrQzDCMOQmziOY3zH2VBrrbWWUgohcB0EAQCUZal/AFROkgR/+REKlVK4BQDXdbkCAEgp7/tXSgFAEAQkkVK2/Jy9aa3LsuRXaq2FEFe1W0iSBENBDy0mQggeARKjreu6D2lQ6FzzFpMeAOz3eyGEaZr0cZVSURQ9LKr5fJ5l2a1TpdRwOKTtaDRC57iNosj3/YdXICi2O+gBQFEUlmXhPk3T8XiM+TudTj+86Rbqum5JmqaBC5+maajWHce56iFN0zzPV6sVF0ZRRIYU5LfeFYah7/v6SVPfdd31ek1b/uKRTxzHVBt5nnMFevSLxSIIAv5NsizjJSqEwLx8MXEcpyiK4/H4FBoAsNlspJSUvOVyCQCDwYAr0DoIAl7Ptm1TuNvtlkqme4UQYrfbnZmYppnnuWmaVPR1XfOX82vw/CEH27ZbfBD8RbUQx7FS6s5gwALrAcBkMgEAXotFUcxms38i0cFut3NdF9f9fh8ADocDnWLu7pijSRdKqel0CnBpi0KI1jzhTZmEt/rm1S7MgVFyCbLCNQ6NW+bQGUTcLYX95V1KSUS7NngxmfEIWiAdbIAIPlhaPhF8EGPWrh5RUrpuDf35f/Jq+DB5PbwPkz9BMBo9trwGXQAAAABJRU5ErkJggg==\"></div><div class=\"grid-item\"><img alt=\"Output\" src=\"data:image/png;base64,iVBORw0KGgoAAAANSUhEUgAAAG0AAAAVCAIAAADD6/etAAAAz3pUWHRSYXcgcHJvZmlsZSB0eXBlIGV4aWYAAHjabU/tbUQhDPvPFDdCvnBgHN49TuoGHf+SA1WlqhGJceIAZX5/vcojIUzFqjd0gALWrcsI0mhhZab+iR/g3jU+9cJ16yOk+sswt36dumNlaX8GkSyieUNwtW3Yg1SWzmOdr90vo7Vz0EUHQD9P//ds6oIKdotoQu7owVsJGglVqDpeeALRyLiF7Bl5wj1s8OzQkcaETD+7Z4GGcOcXNLfpUI6V0cPKoQ7VqGSEXLtKmt95A3uYWt9JUo8nAAAACXBIWXMAAA7EAAAOxAGVKw4bAAAAPHRFWHRTb2Z0d2FyZQBDcmVhdGVkIHdpdGggdGhlIFdvbGZyYW0gTGFuZ3VhZ2UgOiB3d3cud29sZnJhbS5jb21coqaFAAAAIXRFWHRDcmVhdGlvbiBUaW1lADIwMjQ6MTE6MTcgMTA6MzI6MzYxqN57AAACpklEQVRYhe2ZMa7iMBBAx6s9BUIUcU6BUhMOQEGoaJMDkAvQmAMkLRW44ADQ0CSi4AxxhBDiGt5idq0o8QYngf3sLq9KPB7PaDyTGQGRUsKHznz7agf+ET5xfA6fOD6H941jmqaEkPF4/NWOGPEzjkEQ2Lb9Ihu2bRNCCCG/WyeEpGlakt5ut1cY7aJVI/0T+WjbtpSyNBgQQtS6lHK5XOZ5XtwwnU6llPv9/olGH5JlmZTS9/2m0u9tfOwM5xwAoihSK63j9SYY5SPnXBVgtfxJhWqRajmfz9p1/DIiQRBURXmeqxIrbaghCAJCyGq1KnleqoOWYPL7vk8plToYYwAghMBX13WVFlaN7/vanQrXdavHUkoBQCsq7lGHI0mSoNvb7Va9JklS1dWejCWJHuKz1m7JqIn0cT6GYcgYsywLX7EYsTDxJmezGYomkwkA3O93k/vLsowxdjgcWiTFdrudTqcA4DgOAJxOJ0PFKIpc1x2NRpzzOI7VrXTnQRyxQofDoVqxLItSer1e8RkANpsNina7HQD0ej1D24vFQkophAAASinejQn9ft9wZ5X9fi+E8DyPMYbX8BS69mtKaRzHmFNhGAohVOYaYlkWlvB6ve7ojAkq8S+XyxOPfRBHTK7iKJfnuRBiMBgAAOe89DVsGkTF66bXEvjNTZIkjmPzCnjIgzhaluX7vud56hpHoxGlFD9PWF+G3blIEARFLc754XCYz+dNz2nKeDymlEZR5DgOY8zzvBbO6yk2siLFfoeNGCl1q6oiY8ykdWLfVxTzWjvo4oZqg9Za1BrFCaGoW11RDlQPrJfqG78h1dFBO/rUDzcvoovRl8w9jTgej/Crj/9ftL40pFSe2mEey6e7rUa0M1qvVSMl8vO/wjN4398f/y5+AKgHEnhWRAiNAAAAAElFTkSuQmCC\"></div><div class=\"grid-item\"><img alt=\"Output\" src=\"data:image/png;base64,iVBORw0KGgoAAAANSUhEUgAAAE8AAAAVCAIAAACIQyRAAAAAz3pUWHRSYXcgcHJvZmlsZSB0eXBlIGV4aWYAAHjabU/ZbUQhDPynii3BF2Moh7fLk9JByl97QYmIMgh7PD7AZX5/3eWREKZi1Rs6QAHr1mUEabSwPFP/2A/s3jk+9cJ16yOk+pvA3Pp16o7lpf0ZRLKI5gvB1XbDHqSydB4rvna9jNbOQRcdAP18/d/Y1AUV7BbWhNzRg7cSNByqUHXceAJRyHgJ2TP8hHu0wbNCRzYmZPpZPQs0hFeuoHlNh3KctB6tHOpQjUxayLWzpLnOG3uWWt+HEW9KAAAACXBIWXMAAA7EAAAOxAGVKw4bAAAAPHRFWHRTb2Z0d2FyZQBDcmVhdGVkIHdpdGggdGhlIFdvbGZyYW0gTGFuZ3VhZ2UgOiB3d3cud29sZnJhbS5jb21coqaFAAAAIXRFWHRDcmVhdGlvbiBUaW1lADIwMjQ6MTE6MTcgMTA6MzI6MzYxqN57AAABwElEQVRYheVXy5HCMAyVtxXTRi5cTAFcaIAZ00ky9GEOFMDdOVED8dCJ9yAwWv8QkMzOhHcKMpL1ZD0lFt57+Br8/HcCU2GxWAghhBB93wfjPNl2Xbfdbr331tqmaYJdzLuTnXNSysBxnmcbcD6flVKP356NYRhoIL4jB1LKN8LWvTDhYRiChRvdGAMAxphgUUq9lFkdn0TTWqdGpGqtpUYWW/Rs2/bthJ5iXLZZqt57lm6PxyMArNfr0h/6vhcEh8OBrjrnwtJqteLsCAC73U4I0XVdsGAE59xT3/1+DwBN06DLIwizeDjZsrDWQq6QiEgCxhgqh4Ds2Wqt4S48fC6l95QCgsVWKVVhi3zoMKCQUnKyKXUybo1blAr6Mts/YxriY6+z9WQ2RudW0k+Kim4xcmVq8NnedHs6nUrbAMByuYxePxEulwtmvNlsUt1+gqDS6/U6QjhOSVCZWb1lK00bAXjDvHS2AKC1ricwsm79fUhw3rdKKbrUti2QZrbW8qcUVVAUJ8qNyeKFbxccFWlTYB4Bad7UsVKjyIKzgNJLLYhJ2E6K0b+lspj5rSDG2xUdF1PcClLM/H4b4bs6+Rdx2ExNRZHxAgAAAABJRU5ErkJggg==\"></div><div class=\"grid-item\"><img alt=\"Output\" src=\"data:image/png;base64,iVBORw0KGgoAAAANSUhEUgAAAGgAAAAqCAIAAADQ7omRAAAAzXpUWHRSYXcgcHJvZmlsZSB0eXBlIGV4aWYAAHjabU9REkIhCPz3FB0BARc9jq9spht0/OBpTTatI6wLi5rG83FPlwBnSlqsogHk0KaNu5NKEzNnamc8gXct73o6jXHuLpUvw1j6seuGmbn+DCKeROIG56LLsAYJTz2vC4/Vz73WfdBBG0Cfp/89qxijIJt6VCYzNOc1OfWEwlQMd1wBb8y4MenV84CZ22DRIT2MAR62d48EceEWX5DYKl2yr4jm1uxqF/FKRPCxqiTxnRd4rVrg3cP/LAAAAAlwSFlzAAAOxAAADsQBlSsOGwAAADx0RVh0U29mdHdhcmUAQ3JlYXRlZCB3aXRoIHRoZSBXb2xmcmFtIExhbmd1YWdlIDogd3d3LndvbGZyYW0uY29tXKKmhQAAACF0RVh0Q3JlYXRpb24gVGltZQAyMDI0OjExOjE3IDEwOjMyOjM2MajeewAAAwtJREFUaIHtmj/OsjAcx8ub5whO5pkopzAw4wEcwMlFEzyALowmBmK8gAeAwQPg4lLi4AVcpHHwHrxDfZpGBSlQ/hg+k7bQfvOlv/bXghTHMejg51/dAtpKTuMURZEkyff9ctWIo3TB3Ma5ritJ0mq1KkuBaAQJ5jPO9/3j8RjH8e/vb7k6BFGKYDJaJUkKw5AW8hlnGEYQBLkVVE9xwa7rzmazOI4RQpqm0fKfwtq+nMViQX70+322vPWrKo2jIhM/xlj6I+ma8/ms6zr92/oRpyjK9Xot2IgsyySfnc/nby/AGJumGUURLWn9iKsAjDGEECEkyzIt7Iz7AHVNVVW2vDPuA5vNBgCgaRqZAV3XfVTEPLBBToEQcjVSLrqup9TyCrYsK2O/fIsDnUTbgjjBXajmpCLj2EQpJVdqEVUY5/s+hNDzPDpBDIfDCvoVinDjSOroOI5hGLSwXRvetwg3br/fAwBGo1HSBWEYslH8tHNiY7xR41S4cbfbDULI5twsYRhqmoYQolHMDsynGJ9MJs05OhW+V8UYp9Te73fwcvBAsW3bsixqJetp7TyMGw6Hh8Phqe4pA1qv15fLJamh7Xbb6/V4uzcMw7ZtCCEAwPM81hqMcRRF4/GYt00CQmi32yXVapo2nU7ztfwgY6KcG8dxsvRCT2xoYJKkn43ipBtLUPlH9p2D8DluMBgAAD7OTUEQEN22bZMSMi2eTifRCvMh3DhVVS3LMk2T9S5pfcQYK4pC/zqOs1wu6Ul/GIbNWRyEhyrB87y3nZJAprzGHXvj26isK1QrMk4cXzvHfSudcTnhNq515xyCBPMZRw/gSZxDCNlFsIEIFFxkKiVL3sccVShci8NHwRUtDm35goRSouBCxpG0PmmL3kDKFJx9nD9B9pLlplE5yC4gi+AqEuCCvpcFOVkBzOlAEimC2beIGfvNeR5H1qa3by0rJuOHI+mC87xF5Hq8BPKQoyjKcW8tiBDMbRw5OKs3BeFCkGA+4xBCr2O23k8g0hEnWIpb9UlDc+g2+Tn5DyUOT7P2euDUAAAAAElFTkSuQmCC\"></div></div></div>"
      ],
      "text/plain": [
       "True\n",
       "0.6046\n",
       "0.19635\n",
       "Log[Sin[x]]\n",
       "       2\n",
       "-Csc[x]\n",
       "  1      1 2\n",
       "-(-) Csc[-]\n",
       "  2      2"
      ]
     },
     "execution_count": 60,
     "metadata": {
      "text/html": [],
      "text/plain": []
     },
     "output_type": "execute_result"
    }
   ],
   "source": [
    "1/(2Sqrt[1-3^2])==1/Sqrt[4-4*(3^2)]\n",
    "N[Pi/(3Sqrt[3])]\n",
    "f[x_]:=ArcTan[(3/4)x]/4\n",
    "N[f[4/3]-f[0]]\n",
    "Integrate[Cot[x],x]\n",
    "D[Cot[x],x]\n",
    "g[x_]:=(-Csc[x/2-1]^2)/2\n",
    "g[3]"
   ]
  },
  {
   "cell_type": "code",
   "execution_count": 78,
   "metadata": {
    "vscode": {
     "languageId": "wolfram"
    }
   },
   "outputs": [
    {
     "data": {
      "text/html": [
       "<style>\n",
       "\t\t\t\t\t\t\t\t\t\t\t\t\t.grid-container {\n",
       "\t\t\t\t\t\t\t\t\t\t\t\t\t\tdisplay: inline-grid;\n",
       "\t\t\t\t\t\t\t\t\t\t\t\t\t\tgrid-template-columns: auto;\n",
       "\t\t\t\t\t\t\t\t\t\t\t\t\t}\n",
       "\t\t\t\t\t\t\t\t\t\t\t\t</style>\n",
       "\n",
       "\t\t\t\t\t\t\t\t\t\t\t\t<div><div class=\"grid-container\"><div class=\"grid-item\"><img alt=\"Output\" src=\"data:image/png;base64,iVBORw0KGgoAAAANSUhEUgAAAE8AAAAVCAIAAACIQyRAAAAA0HpUWHRSYXcgcHJvZmlsZSB0eXBlIGV4aWYAAHjabU/tbUQhDPvPFDdCSIID4/DueFI36PhnDtSKqkYkjvMBSeP7606PCc2SvERFA4Tw5k07SZWF5bO0j/3A753Lp55y2XqnVH4TGFu/Tj2wvNY/g0QXsfkCuflu2INMl577iq9dr73Wc9AlByA/X/83dgtFQQ6ndZUINPKaSOlQVErgxhNgYcZLxZ/0AxFsQ8wK67NxQkec1SPBKLzmCjavW7fMMy3YKlbJiwUtuV47ywzXeQN8vlrrAmkIiwAAAAlwSFlzAAAOxAAADsQBlSsOGwAAADx0RVh0U29mdHdhcmUAQ3JlYXRlZCB3aXRoIHRoZSBXb2xmcmFtIExhbmd1YWdlIDogd3d3LndvbGZyYW0uY29tXKKmhQAAACF0RVh0Q3JlYXRpb24gVGltZQAyMDI0OjExOjE2IDA4OjU3OjA4VSSA6gAAAcBJREFUWIXlV8uRwjAMlbcV00YuXEwBXGiAGdNJMvRhDhTA3TlRA/HQifcgMFr/EJDMzoR3CjKS9WQ9JRbee/ga/Px3AlNhsVgIIYQQfd8H4zzZdl233W6999bapmmCXcy7k51zUsrAcZ5nG3A+n5VSj9+ejWEYaCC+IwdSyjfC1r0w4WEYgoUb3RgDAMaYYFFKvZRZHZ9E01qnRqRqraVGFlv0bNv27YSeYly2Waree5Zuj8cjAKzX69If+r4XBIfDga4658LSarXi7AgAu91OCNF1XbBgBOfcU9/9fg8ATdOgyyMIs3g42bKw1kKukIhIAsYYKoeA7NlqreEuPHwupfeUAoLFVilVYYt86DCgkFJysil1Mm6NW5QK+jLbP2Ma4mOvs/VkNkbnVtJPiopuMXJlavDZ3nR7Op1K2wDAcrmMXj8RLpcLZrzZbFLdfoKg0uv1OkI4TklQmVm9ZStNGwF4w7x0tgCgta4nMLJu/X1IcN63Sim61LYtkGa21vKnFFVQFCfKjcnihW8XHBVpU2AeAWne1LFSo8iCs4DSSy2ISdhOitG/pbKY+a0gxtsVHRdT3ApSzPx+G+G7OvkXcdhMTUWR8QIAAAAASUVORK5CYII=\"></div><div class=\"grid-item\"><img alt=\"Output\" src=\"data:image/png;base64,iVBORw0KGgoAAAANSUhEUgAAAFEAAAAxCAIAAAAtGdI7AAAAz3pUWHRSYXcgcHJvZmlsZSB0eXBlIGV4aWYAAHjabU9bjgMhDPvnFHuEkAQHjsO0VOoNevw1Be2Kqh4RO85jII3X85F+JjRL8hIVDRDCmzftFFUWFmdp7/hG2cz88JNtkTut8l/A2P51+oHFWj8WiS5h8w/U5ntgLzJdfu4rv3a/9lrPRZccgPxd/WvuFoqCHM7oKhFo1DVRklBUSuCBG8DGjLuK38gDERxDzA7rc3BCR5zdI8Fo3OcTbB63bpnfjOCoWKUuFozUeu0qK3zOLy1tWrW5QbHkAAAACXBIWXMAAA7EAAAOxAGVKw4bAAAAPHRFWHRTb2Z0d2FyZQBDcmVhdGVkIHdpdGggdGhlIFdvbGZyYW0gTGFuZ3VhZ2UgOiB3d3cud29sZnJhbS5jb21coqaFAAAAIXRFWHRDcmVhdGlvbiBUaW1lADIwMjQ6MTE6MTYgMDg6NTc6MDhVJIDqAAAC9UlEQVRoge2ZsWv6QBTH7351cCjYUcSheIIObi4OFt10tOCgm4uCOrgVty6CJFOhoJT+ARU6uFoCOpyDCCKi4KJBEGcdLVruNxy/INHGNl6SHySfQc/n812+3t3Lyx0khACT8cfoCzCA/0Wz1+uFEDYaDR36Ml4zz/MQwkqloluPBmtuNBrtdpsQ4na7devUYM2pVKrVauncqfFzW38szebA0mwOzKgZGltvi6KIEJIZEUKz2Uy7Tg3WbAhmnNuWZnNgaTYHlmZzYKNv8Xj84+ND9p3s1l2tVqfTqU7XxZpsNnt3d0fbVk1iDizN5sCmRdDFYrFYLLSIrAK/3+90Og8tmmh+eXnx+XxaRFbB8S6yJpq3220mk9EiMhPYr+ftdmu325mHZQh7zZPJJBgMMg/LEPaau91uKBRiHvYn0IM+CGG321VwY695tVrpefgkwfN8LpcjhGCMpTLzJOxzmM2mSV48y8PDA224XC5lT8bjvNlsHA6HzKjn2TIAoN/vx2IxJQ/CFEEQBEGQPnIcBwB4e3ujr2z7Osl8PgcAzOdzBR/G49zr9aQEpv/ZMt0txxh7PB4FN8aaPz8/r6+vaVuLs+VCoQAh5HlestBELYqiJDgcDp+JonoWCYLw+voqM5bL5WNPjDFgN7fz+Tz4N3tp+9AuwXHcdxHUaN7tdslkslqtJhKJ9Xot2ZfL5fPz87E/W82EkFgshhCiaQJj/NufqxxnKrXT6Tw+PkrGZrM5HA6Pnc9qPplmz1z3ucFUQOV6vrm5AQBEo9HRaLTZbKhxMBgEAgEV0Vqt1neqTiKKIm2oe2K9NIeVSqWnpyfavrq60qcgQQjl83mMcb1eV3Hbv1Tz4VB/fX1dGO0nxONxhFCtVguHwxzHpdNp5er6BCrWgwy6qsfj8fv7+6GdlgcyEEKX9EUPqw/z1rHlLGz2eu/v7yORSCKRuL29vTya5lzyr0t0Oh2v18sklA6wqcOi0WixWGQSSgeYnWPs93ujniJ/y18wVuZLS1r+GQAAAABJRU5ErkJggg==\"></div><div class=\"grid-item\"><img alt=\"Output\" src=\"data:image/png;base64,iVBORw0KGgoAAAANSUhEUgAAADsAAAAVCAIAAAB34QGiAAAA0HpUWHRSYXcgcHJvZmlsZSB0eXBlIGV4aWYAAHjabU/bjQMhDPynipRgbDOGctgska6DKz9D4C7aKIOwh/GTNH5/Huk2oVmSl6hogBDevGknqbKwfJb2si/YsWP5qqdctt4plXcAY+vHVQ8sr/WjkeieNCeQm++C3ch06bmv97Hztdd6bfS36gbkf/Wvb7dQFORwWleJQCOviZQORaUEHrgDTMw4VfxOPxDBMsTMsD4LJ3TENXskGIVzfsHmdeuWeaYFS8UqebGgJddjRxnhd551YFrmT3Pe7wAAAAlwSFlzAAAOxAAADsQBlSsOGwAAADx0RVh0U29mdHdhcmUAQ3JlYXRlZCB3aXRoIHRoZSBXb2xmcmFtIExhbmd1YWdlIDogd3d3LndvbGZyYW0uY29tXKKmhQAAACF0RVh0Q3JlYXRpb24gVGltZQAyMDI0OjExOjE2IDA4OjU3OjA4VSSA6gAAAV1JREFUSIntl8FthDAQRe0oZXDacRlwNi1QwlAA1GAXAFduUAJw4GLawKITcnBkIXZZDGEToew72YNm/Jn5MoJO00QuxcdfC9jNW/HruaZixhh9hNb6lDNs/XOyphmICADT2XDOD+ci4iJyTVds0vf93C2LuNbaTjCOY5eCcRxTSqWUNrLDh4sR3LtCKTUfK+fcbpVSpkhZlnarlHJxBSISQoZhsGtHV+z2sRDCVjcSjdzvcoQIIVwUmzgAlGX58D3XFH86DjHP87Wnnue5FLmnrmtKaRRFQgjf9x2ztn1s5Jrx2R6fgnXtOI7uWduK27ZFxNvtdkzWEwAAEZVSeZ5XVeWYte0KxljbtmYtpUzT9LjGGWEYAkCWZYQQIUQURZ7nuXhju8d1XQ/DYG6fruvs/fATGGNN0xRFYbZJkgBAEAR9328nP78ZTuG/f/N+o8cAcOCstSw6vf+aXs0XypNuAG1KJIAAAAAASUVORK5CYII=\"></div><div class=\"grid-item\"><img alt=\"Output\" src=\"data:image/png;base64,iVBORw0KGgoAAAANSUhEUgAAAJAAAAAVCAIAAAAmWfCEAAAAz3pUWHRSYXcgcHJvZmlsZSB0eXBlIGV4aWYAAHjabU/tjUMhDPvPFDdCSIID4/D6qNQNOv6ZglRxOiMSx/mApPF+PdPPhGZJXqKiAUJ486adpMrC8lnax37Qdorxoadctt4plW8CY+vXqQeW1/pnkOgiNl8gN98Ne5Dp0nNf8bXrtdd6DrrkAL5f/zd2C0VBDqd1lQg08ppI6VBUSuCJB8DCjFvFH/QDEWxDzArrs3FCR5zVI8Eo3HMFm9etW+aZFmwVq+TFgpZcr51lhuv8AjSaWrpw2qjZAAAACXBIWXMAAA7EAAAOxAGVKw4bAAAAPHRFWHRTb2Z0d2FyZQBDcmVhdGVkIHdpdGggdGhlIFdvbGZyYW0gTGFuZ3VhZ2UgOiB3d3cud29sZnJhbS5jb21coqaFAAAAIXRFWHRDcmVhdGlvbiBUaW1lADIwMjQ6MTE6MTYgMDg6NTc6MDhVJIDqAAAC+klEQVRoge2ZMXLCMBBFVxyDYVJYnIIhTYqIA1BAR2sOQEWZxj6A3aYzBQegNxVnQBomk+EaTrGJWGzJ2IpNwoxfhWRp9e1d7cqGZVkGHY9D768FdJjZbDbsh81mo/tZt8P+OUqp19fX4/GIzW6H/XfO5/NwONTNzmEX9vs9Y2wymfy1kG+WyyVj7Pn5OYoi3Zl32GQyYYwtl0ubFaUUIzQrcTgcOpitPkuPZIzt9/vc1c/Pz1rrOsuoOCuKoizLpJScc6XUd29GSJIEO33fz0zggCRJdI8QwjjSjd9Ys2nWAAC1L4SQUjovV6Q98UKINE3x95XDOOdBEHDOjfOllAAQBIGzrJu0d88Yas16KEdL4vGx6+YlJYZhKKVcrVa2zbvdbgFgOp3aBtCTKK2TCCZb21UbmMfDMNQ9aOGSIupwOByM/Vi9kFw5wEtKKZ27SupFg+LDMMTBnPOMnuSpGzHX2XaY7/s42UgQBEBCWAgBJC6EEFUC0DjG931tGX8b595MiZxzuM6KxjE5O2ma4oPCh4NNnaDuJl4DeoJez+YwIUSJw+A6W9IIKLFZXMLWzznHtGZ8WFm1e8aoQozp0eYwWrbBUhfaFo/0cNfHcbxeryvu9CJ44hqNRrrH8zzO+cfHBzbf3t7iOK6VDCm73U5KOZ/PgyAYj8fOOlerVfYTTJxz+gWhnMFg4LxoU+KRHgAsFgvf92/aenl5wVt1YDabYbRKKR3cppP+6XRyE0DxPA830/v7+++t3aRZ8T2llJQSwx/RTVot4WcDGaOy3+/D9XsMmn16eqLDxuMxBriUsnp0AwBmqjRN4ziuNbEEt73uQMPiq+RxmmrB8h5GqysasRW8unWb1k4sQsa55WUAH5luFl8otWxjDaNzoU4Na0Q8pZ7DMvJyXfQ3Lek5C7kosdXe4j3j0Y6OL/YgN+8ZD64aeujAaMuBA37jsAbFX1avOO4+tPqlo23uI777+PtoOAdFG2DGqKvKbVbj3Ed89wfmg9GlxAfjCzg3ggUIk4MdAAAAAElFTkSuQmCC\"></div><div class=\"grid-item\"><img alt=\"Output\" src=\"data:image/png;base64,iVBORw0KGgoAAAANSUhEUgAAAC8AAAArCAIAAABn1EbtAAAA0XpUWHRSYXcgcHJvZmlsZSB0eXBlIGV4aWYAAHjabU/bjQMhDPyniivB2DCGctiEla6DK/+G4CTaKIOwx+MHOM2/3zP9LGiWVKo3dECI0kvXQdJkY/ss/WEf0DNy+aonPUIflOo7gRn6cdUdMbB9DBLdxNYL5FaiIQaZbj2PHR9Rr6O166D40ROQ19e/xsVcUZG90BYVd3TylkjpUFWq48QNYGHGXaXc6Cfc2QZfFTZW44JOv1bPBKNwXyvYusWGZZ5lwVaxRl7Nacn1iCwzXOcfuQtbF7yC6LMAAAAJcEhZcwAADsQAAA7EAZUrDhsAAAA8dEVYdFNvZnR3YXJlAENyZWF0ZWQgd2l0aCB0aGUgV29sZnJhbSBMYW5ndWFnZSA6IHd3dy53b2xmcmFtLmNvbVyipoUAAAAhdEVYdENyZWF0aW9uIFRpbWUAMjAyNDoxMToxNiAwODo1NzowOFUkgOoAAAILSURBVFiF7Zg/i8IwGMbj4eAHcOwgJlA3B8HJQVxcXNyqk2ud3BwdpfgBHBQcM/oVCtVFhLhIK2hRFz+Ag4uQGwq9Xrn0T2Lv5OizNK2+T395EkrfZiil4G30wV1p23aGoX6/z2lKhdVsNp0BxhhjLGLFn42bULFYdMbX67VarYq4idJsNptut+uMz+ezS8apVy2Tb8wnoWxWq1Wj0XBPRYMRzAZC6D3FGBuGIWLISWMYxo8z8fHFVYb+j6dfEkpp2Epp2Epp2Mo6B9M0Lcv6K4h2u+0M3iub9FnMVkrDVjY56/l8vl6vA/6Qz+cnk8kv0ez3+8ViEaskqZV6Pp/ZbOypJkWz3W4rlUrcqqRodF2v1Wpxq77RIITc7hUhJEJzuVwkSYpr+43meDy6L8wIIRGgXC7HYctcqV6vdzqdbNvmQNntduVymcM2ZN/wNWy6rtfrdR5bVmsDANA0Lbj9eTwe4/F4NBr5rg8GAz5bPw2E0KEM7dPu93ur1Voul4qi3G63YJqItsxsNE0DAETpZAkh3tsTQmazGZ9tUOcLIVRVNZSGUuqNZzqdmqbJZxuyiwuFQpRtOxwOnUkDAA6HQ6lU4rRlzUBV1YBfA+IJ2MKhtl/Z+L4qOjVRgvHGY1mWLMve67FsX/le3Ol0ZFlWFCV0pZiKvhahIoRIkiTi8EoaSqngF9r36mA+AY6OJ7FBYoxpAAAAAElFTkSuQmCC\"></div><div class=\"grid-item\"><img alt=\"Output\" src=\"data:image/png;base64,iVBORw0KGgoAAAANSUhEUgAAAGEAAABFCAIAAADVWR/UAAAAz3pUWHRSYXcgcHJvZmlsZSB0eXBlIGV4aWYAAHjabU9BjgMhDLvzin1CSIIDz2FaKvUHff6aglZLVY8mdkycGdJ4PR/pZ0KzJC9R0QAhvHnTTlFlYXGW9q5vYDP7w+ei7Xda5V9gbP86/cBirR+LRJew+QVq8x3Yi0yXn/vqrz2vvdZz0SUHIH+//rV3C0VBDmd1lQg06pooSSgqJfDADeBgxl3Fb+SBCMYQc8L6DE7oiHN6JBiN+7yCzdetW+YzKxgVq9TFgpVar33KE17nFzXIWrtDqncUAAAACXBIWXMAAA7EAAAOxAGVKw4bAAAAPHRFWHRTb2Z0d2FyZQBDcmVhdGVkIHdpdGggdGhlIFdvbGZyYW0gTGFuZ3VhZ2UgOiB3d3cud29sZnJhbS5jb21coqaFAAAAIXRFWHRDcmVhdGlvbiBUaW1lADIwMjQ6MTE6MTYgMDg6NTc6MDhVJIDqAAAF8ElEQVR4nO2bPUjrXBjHT147FCz4gaB4C1eaDgoODh0cLGYQ6iDcpdCKSwYptMvtIIro6JIq6FZHQSVdLjg4aO/FCon4jRYcIjS5FaFEqCAotWAh75DXvDFt2tw06Ync/qb09PTJ039OnnPOc85BBEEATapig+2AkmKxyPN89TpOp9Nma5znltNoY2OjWCy2t7dXqeP3+x0OR8NcspxGt7e3q6ursL34wD+wHfgEWEujbDb79etX2F4osZZGh4eHGIbB9kKJtTRKp9NDQ0PitdvtRt5xu90QvbKWRnIymYzwjtvthiiThTSqEoxwHGdZluO4BrskAkejUqnEMIyikKbp6sHI5XKZ6FMVhIbz8+fPiYmJsbGx19dXefnMzIzaTwAABEGY71plILSjbDZLkuTCwsL6+rq8vFQqKWpKYRtF0dnZ2Qb6+AEIGk1PTzscDgzDTk9Pi8WiWMjzfHd3t6KmFLZDoRCCIDRNN9xZAACMd00ilUotLy+L1yRJHh8fV6mMomg4HG6IX0pg9msYhh0dHT09PQEALi8vPR5P9fp9fX2NcKsMyH3/9+/f19bWAAA2m61KuiMSibAsCyskQdYIw7B0Op3NZltbW+XlHMchMgAAAsRcIJQ3XE4qlfJ4PKlUCrYjqsAfZ2MY1tXVNTw8DNsRVRDBAvlsnud7enpge6GKJTSyOPDfNevT1Kg2TY1q89+wrVAoFAoFuK5YjY6OjpaWFiBpRFHU/v4+VJcsx+LiYmdnJ2j2a1poxqPaNDWqTVOj2pi+3p/JZKDlD/WC47j8o+ka7e7u9vT0WHk6VhPTNbq7u4tGo2bfxVRMj0dSVv/z8pfGbGlVSkusNFejfD5fviIEnVgsFgqFBEGgKMrr9dasb248YhhmcHDQ1FvoQFo76O3t1VLf3HZ0c3PT399v6i3q4ezszOfz1a5narY8Go0qFvWtA8uyAACWZWvWND1m2+12s2+RSCSkVaZEIqHlJxzHoShKUZSmvSimPqtoNGqqfQUsy6IoqqUaAICiKI1mTWxHLy8vDWhEcnK5nGK7m9vtjkQi0nUsFgMArKysAAC8Xq/Y9MTCatT35KpxdXW1ublpnn054XBY/Dvl8UV8pwiC0L2DyUSNSJI8Pz83z345FcOwWOjz+XSbrfyujY+PIwgitVJ9pNPp8o5fHOBqjKx/isvl8vl8uVxOXpjL5VAUzWQyus1W0CiRSBiS2y6VSvJTHbFYDEGQpaWl+i2rwXHc/v7+yMiIvNDr9SaTyVAopPuRV9BocXGRIAgURfVZlJDvlUkkEgcHB4IgOJ3OOs2WI6ovbgkUPqbnEQQhCMLlcs3OziaTSZ0yKd49giDEwjr3jb29vVXcA0pRFACAJEndlhvPh3bEcdzc3BxJkvqf6TuZTKb+lmgRPsxpV1ZWfD5fMBis3y7DMNKpBvN4e3urJxjLGRgYUPvqf41omo7H4+K7UD8Mw+g7HTM+Pl7eYwgqi4CFQmFnZ0fHXcrRpBGO4+FwWNEp1ITneZqm/X6/ovzh4aH6WUY19vb2tFdua2ubn5/XcZc/QwxL4kCrImrD0+fn52g0GgwGMQwrn9yrbdr/xDHb5XIpvpD6NbXdrHa7PRAIkCQ5NTVV3uAbeSbYbPTPaW02m7iJMRgM/vjxQ/4Vz/NfvnyRl0j7ZMXc6OTkJPRTadpRfdra+wuHw2G32/P5fFdXl1hyfX2tmIWI7VS3l3AxJjcSCAS2trakj9ZMY+vGGI0UHfbj46N1FmZpmtaUJFLHGI1sNlt/f//NzY34sfyUFUS8Xq+mxL46huUhp6amtre3xWvrdGqRSIQkyToPUBqmkcfjubi4AAA8PT21tbUZZbYeaJrmOK7+qZWRD3x0dPTXr18Oh8Mia2o4jieTSQMMGTgevb+/x3E8Ho///v3bQLP6KJ94alkyqYiR7cjpdObz+bu7O1iH8eSMjIwI7yOySCTS19en+/ibwWtH3759Ozk5MdYmfAxt4MLz8zOO48bahI7x+7MZhrFIzDaK5h722vwL3zSziiYf4/IAAAAASUVORK5CYII=\"></div><div class=\"grid-item\"><img alt=\"Output\" src=\"data:image/png;base64,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\"></div></div></div>"
      ],
      "text/plain": [
       "       2\n",
       "-Csc[x]\n",
       "       1\n",
       "-(------------)\n",
       "            2\n",
       "  Sqrt[1 - x ]\n",
       "Tan[x]\n",
       "               3\n",
       "4 Cos[x] Sin[x]\n",
       "   Pi\n",
       "---------\n",
       "3 Sqrt[3]\n",
       "    Sqrt[3]\n",
       "----------------\n",
       "              2\n",
       "           3 x\n",
       "4 Sqrt[1 - ----]\n",
       "            4\n",
       "      3\n",
       "-------------\n",
       "           2\n",
       "        9 x\n",
       "16 (1 + ----)\n",
       "         16"
      ]
     },
     "execution_count": 78,
     "metadata": {
      "text/html": [],
      "text/plain": []
     },
     "output_type": "execute_result"
    }
   ],
   "source": [
    "D[Cot[x],x]\n",
    "D[ArcCos[x],x]\n",
    "Integrate[Sec[x]^2,x]\n",
    "D[Sin[x]^4,x]\n",
    "Integrate[1/Sqrt[4-3x^2],{x,0,1}]\n",
    "D[ArcSin[Sqrt[3/4]x]/2,x]\n",
    "D[ArcTan[(3/4)x]/4,x]"
   ]
  },
  {
   "cell_type": "code",
   "execution_count": null,
   "metadata": {
    "vscode": {
     "languageId": "wolfram"
    }
   },
   "outputs": [],
   "source": [
    "D[Sin[1/x],x]\n",
    "D[Log[2x],x]\n",
    "D[Csc[x],x]\n",
    "D[ArcTan[x],x]\n",
    "D[Sec[x],x]"
   ]
  },
  {
   "cell_type": "markdown",
   "metadata": {},
   "source": [
    "### Module 2 - Mathematical Induction"
   ]
  },
  {
   "cell_type": "markdown",
   "metadata": {},
   "source": [
    "For mathematical induction if $n=k$ then $n=k+1$ so if for $n=1$ the claim is true then for $\\Z_+$.\n",
    "\n",
    "For series use formula to check if $n=k+1$ will be true.\n",
    "\n",
    "For divisibility check if $u_{k+1}-u_k$ is divisible by $n$."
   ]
  },
  {
   "cell_type": "code",
   "execution_count": null,
   "metadata": {
    "vscode": {
     "languageId": "wolfram"
    }
   },
   "outputs": [],
   "source": [
    "n=1\n",
    "n=3n+4\n",
    "n=3n+4\n",
    "n=3n+4\n",
    "f[x_]:=3^x-2\n",
    "f[1]\n",
    "f[2]\n",
    "f[3]\n",
    "f[4]"
   ]
  },
  {
   "cell_type": "markdown",
   "metadata": {},
   "source": [
    "### Module 1 - Determinant and Inverse of 3 by 3 Matrix"
   ]
  },
  {
   "cell_type": "code",
   "execution_count": null,
   "metadata": {
    "vscode": {
     "languageId": "wolfram"
    }
   },
   "outputs": [],
   "source": [
    "mat1={{1, 0, 0}, {0, 0, 1}, {0, -1, 0}}//MatrixForm"
   ]
  },
  {
   "cell_type": "code",
   "execution_count": null,
   "metadata": {
    "vscode": {
     "languageId": "wolfram"
    }
   },
   "outputs": [
    {
     "data": {
      "text/html": [
       "<style>\n",
       "\t\t\t\t\t\t\t\t\t\t\t\t\t.grid-container {\n",
       "\t\t\t\t\t\t\t\t\t\t\t\t\t\tdisplay: inline-grid;\n",
       "\t\t\t\t\t\t\t\t\t\t\t\t\t\tgrid-template-columns: auto;\n",
       "\t\t\t\t\t\t\t\t\t\t\t\t\t}\n",
       "\t\t\t\t\t\t\t\t\t\t\t\t</style>\n",
       "\n",
       "\t\t\t\t\t\t\t\t\t\t\t\t<div><div class=\"grid-container\"><div class=\"grid-item\"><img alt=\"Output\" src=\"data:image/png;base64,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\"></div><div class=\"grid-item\"><img alt=\"Output\" src=\"data:image/png;base64,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\"></div><div class=\"grid-item\"><img alt=\"Output\" src=\"data:image/png;base64,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\"></div><div class=\"grid-item\"><img alt=\"Output\" src=\"data:image/png;base64,iVBORw0KGgoAAAANSUhEUgAAAmYAAAA/CAIAAADFUJPLAAAAzXpUWHRSYXcgcHJvZmlsZSB0eXBlIGV4aWYAAHjabU/bDQMhDPtnio6QFw6Mw7Wc1A06fsNBpVLViMQYO4jUX88z3QaEKVn2ggpQwKpVaUEKTczOVK96IZyy1E1Pek7CLaT8FehLP3bdMbuUn0FrPul4IbjaCqxBKlPnNs/H8ksrZR900AZ8CP8/m7ogg92impA7avCSgkZDFsqOE3cgjIyHkN2jd7hHDD4c2kZwQLrv7p6gITzGF3Rs06YcqwVHRFn9UuqlqBzrlnR85w2B2Fru2foAFQAAAAlwSFlzAAAOxAAADsQBlSsOGwAAADx0RVh0U29mdHdhcmUAQ3JlYXRlZCB3aXRoIHRoZSBXb2xmcmFtIExhbmd1YWdlIDogd3d3LndvbGZyYW0uY29tXKKmhQAAACF0RVh0Q3JlYXRpb24gVGltZQAyMDI0OjExOjI2IDE3OjE5OjIzRp/8ZQAADEpJREFUeJzt3TFoG9cfB/Cn4kGDh0AyBCKw0QmyZCh4CKSWMQlYt7Wj3GSQIUOsyQXjLC411EMlAlmCQ7q40BLdlmQo6ES5JPhq6BRljqQ6JjQePGgwWMWG+w/X3F+xpHfv7n739CR/P5OlO//e772Tfk93J90lHMdhAAAA4OeLYScAAAAwGjBlAgAACFFrymw0GpylmUwmkUgYhkHSVrFYTHxi27bMmHt7eyTNAQAQOjo6Ojg4GLSUtgKzGIqwYMB2u314eBiuCYWmzNPT0ydPnvRdVC6XE4nE5uYmVVu6rtdqNcdxHMcplUrZbDb6BhOPube39/z584jNAQDQevToUd/nySswi6EIiwdMJpPff/99uFYUmjJ/++2327dv9z5vGIZlWY7jpFIpkoZs2zZNs1aruQ/X1tY0TXv69Km0mPPz869fv47SHAAArXa73el0Ll++fOZ58grMYijCgQImk8mrV6/W6/UwLTlqODk5WVlZ4a+zs7PDGKtUKhHbKpVKmqadCRtxKILGfPny5bNnz6K0CABA6Mcff/z48SNnBaoK7MRQhIMGPD4+vnfvXoiGVNnLfPXq1czMjJy2LMvKZDLu34ZhZLPZSqXCGGu1WtJizs/P//7776GbAwCg1Ww2e3cxY0JehIMGTCaTk5OTIc5oqjJlvnjx4ptvvpHcaLlcXl9fd0h/mSoeM9wGAwAg98cff3z11Vfy2yUvwuIBv/766xDfKVFlyjw6OpqcnJTZoq7rlmXxv6Mba8xbt27hS0AAoIKh7LSQF+FAAWdnZ//888+gTSgxZR4eHl64cEFac+l02jTNdDpdrVbdZ/b39zVNS6fTMmNeu3bt7du3oVsEAKDy4cOHS5cuSWuOvAiHC3h6ehq0ISWmzEajMTU1Ja25ubk5xtjq6qr3jGVZCwsLkmNOT0/jB5oAcA6RF+FwAZPJZKfTCdSQKlOmd+ZWgnw+r2maN5rlctk0ze6xlhYzxGccAABaR0dHMncxWQxFOFzAqampoIeFJ0ImSKrRaMzPzw9a2mq1NE3zHi4uLi4uLmqaFuUIeKPR0HU9kUi4D0lOPoeIGfQDDgAAucPDwytXrgxaGkcFZjEU4RABU6lU0O9gKjFl8qXTadovtbq8Q96KxwQAiFW73eYsjakCsxgKZoiA/L73UuLALGOM8LoSAAAgLui0MU5Gcsp8//79xMQI7O+Sm56eHnYKAAAgSsaU6V7/nvYS+AAA8rVaLe9eGcPORZRvBW632zJ/5qc4/iaWsW+XyWRorxgAADAU3om9YrE47FxE+VZgTJnd+JtYiQOzAAAA6sOUCQAAIARTJgAAgBBMmQAAAEIwZQIAAAjBlAkAACDkC8ZYsVhMdAl6hfRisajrejzpfdaKl6Ft2woGdLk/gYr7F6juL4c4W2rQCjH1ehCq0eCk7S6i7QtneEl6RLgVFBkZqh7Rvj4HbSzfkYlj6DjOZwWOKWbcFfi/vUxN05xP3CalvVxE6Lpeq9Xc9EqlUjabjZgeeUDGWLlcTiQSm5ubEeOIePDggeM4nN9a9V0hjl4PQjga/LS3trYcx6Ed9r6jR9Ujwq2gyMhQ9YhwZPgby3dk4hg6vvNWgeOIKacC9zkwW61Wc7mczJcLn23bpmnWajX34dramqZpT58+VScgY8wwDMuyHMeRc7HcVqsVdIU4ej0I4WgIph3l9uC9ekePqkeEW0GRkaHqEeHICG4s35GhHTpxY1+B44gprQL3P5d58+ZN0zS9t4dt230PGrjPPH782DRNb4VyuUyb4u7ubvfNtW3bbjabjx8/VicgYyyfzyt+G5M4ej0I4WjITJuDqkeE3VFkZKjSIOyO+m9GX+NdgeOIKW2j958yb9y4wRj7559/GGO2bWez2Waz6R008LaZ+8zy8nIul/OOKqytrdGmaFmW16JhGNlstlKpMIE9LWkBR8KI9npE0x6EsDuKjAxVGop0RxHjXYFjiimH/zdmNzc3S6WS93Fga2ur2WwO5Th7uVxeX18nvHMbecCRMKK9HtG0ByHsjiIjQ5WGIt1RxxhX4Jhixsp/yjRN8/79+95ef/ftuWXSdd2yLMLLu5MHlMYwjJs3b4ZbgarX7t3Pz4gYk98cP+1vv/2W6niU7/BGR/jaU2RkCF9X0t6VviMTceio3iPjWoFjihm3/lPm7u4uY2x2dtZ9WCqVnM95iyRIp9OmaabTae9Q9f7+fvdx8KEHlMm27cXFRfe4TaAVaHtdrVadHiHi+BJMe3Z29v79+9HnBt/hjYhwKygyMlQ9kv+u9B2ZiEMX5T0y3hU4pphy9J8yf/755+XlZfdvTdMsy5KY0llzc3OMsdXVVe8Zy7IWFhbUCSjT7Oys4zicr5YNWmFEey2YdrFYJDmL4zu8ERFuBUVGhqpH8l+fviNDNXQhjHcFjimmJO7Z4+5fBbk7/t5D96xs78ccT6lUYozt7OwMWqH71HRfhULh77//5qygaZqXoducdzI8HPKAnp2dHcZYpVIRWblQKAxa5G6dQaPqO6R9VxDpNb/doPijIdiWSNrLy8ucCEE7xRleTo8IuzNaI+ObhvyRcfFffvyR8V3B99/FDb0Cb29vb29vc1aIo2DGVIQDVWB+x/tu4v+mzO5JtHfbuNvM0711vdCcf48+ZbpBuqf56GgDNpvN3o8jvQN1xqAp04s2aMOHmzIdgV67K0QsB4KjId6Wb9r8IEE71Tt6Ij0i7M4IjYxIGpJHRvDlp9SU2Z2q/ArsO2U6MVRg2pjhKnCIKfML9ulSF57eAxH5fL57hd6ztd0RYjqO0X1iQMGA7o28zwh9WtuLls/no+fWzbfXhUKBMTY9PR2lFcHREG8r4saK3imRHhF2Z4RGRiQNySND+2aU4HxWYNqY0jY6Lss+kuK7cMn6+jpjTM75G2ltBW0o3OgRdgcjIyEUQAiYMkfS3Nwc//LNviv0ci+RzBgj/BQpoS0vFGFDQUcvju5gZCSECr0CnFsJCfVR13X+pYyWlpZ++OGH6EeHRs7S0tL29vawswCAwIrF4tbW1rCzEOJbgX/55Rf26aD3ucLveN9NjL1MAAAAIZgyAQAAhGDKBAAAEIIpEwAAQAimTAAAACEypsxGo+Feg98wDAnNAQDEpNVqeTd2HnYuolCBA+Fv4gkJGah83Q0AAHHuVWaGnUUwqMCB8DcxDswCAJxrly9fPjg4GHYWo0GJKXNyctJ3Hfd6HK747kieyWSiHL4ImmSn0wnXEAAAlWQy6VuL5FRgFq0IS0hSiSnz4sWL7Xabs4Ku67Vazb3SbqlUymaz5MNRLpcTicTm5mboCCGSxCc7AFCfhArMIhdhOUkqMWUyxjhTpm3bpmnWajX34dramqZptDcBNgzDsizHcVKpVLgIEpIEAIgDv+7JKW4Ri3DoJIM2p8SUyT8wu7u7q2madwsF27abzSbt19Xy+Tz/Goy+wiU5MSHj61cAABwTExP//vvvoKUSKjCLXITDJdnpdIIWYSWmzEwmwzlEaVmWd+cEwzCy2ax7w9VWqyUpPwHhksSUCQBDl0qlON+qHeMK/P79+5Hcy8xkMnt7e76rlcvl9fV1xb/hLZ5kp9MR+d4TAECsBD+7j1kFZox9+PAh0B0SmZzfZfrKZDLNZpO/jq7rLMIPjHRdN03zzJPk2z5Qko1GI+jWAgCIw+npKX+F8avA4Sixl5lMJjkbLJ1Om6aZTqe9I937+/vdh61FVKtVp0fUvKMlWa/Xr1+/TpgDAEA4MzMz9Xq976JxrcDhjvMpMWUyxjRNG3Rsdm5ujjG2urrqPWNZ1sLCgpzEBIVI8q+//nI/EwEADFc+n3/+/HnfReNagavVai6XC9xS78w/FO/evXv48OGgpZqmaZrm/l0qlRhjzWYzjjR2dnYYY5VKJcT/Bkry5ORkZWUlZJYAANQKhcKgRdIqsBOhCAdN8t69e8fHx0FbUWXKdBzn7t27Jycng5Z2fxwgb7rvmVRv9MWJJ/nrr7++efMmbL4AAMS2t7dfvnw5aGmsFdghKsLiSX78+NH9llBQCUeZrz/V6/V6vV4oFIadSOw6nc5PP/20sbEx7EQAAP7vu+++e/jw4bCzkGFjY2NlZeXChQtB/1GVc5mMsS+//PLo6GjYWcjw6tWrO3fuDDsLAIDP5HK583Dbk06nk0qlQsyXjDGF9jIBAABUptBeJgAAgMr+B705HWBnjDSLAAAAAElFTkSuQmCC\"></div><div class=\"grid-item\"><img alt=\"Output\" src=\"data:image/png;base64,iVBORw0KGgoAAAANSUhEUgAAAFIAAAA/CAIAAAD8JAhIAAAAznpUWHRSYXcgcHJvZmlsZSB0eXBlIGV4aWYAAHjabU9bDgMhCPz3FD0CAg56HHfXTXqDHr/4SBubjhHG4SWhvZ53eHRwpKDJMgpADi1auDrJNDF9pDLsQOIVi7se5F56dSl9A2hLP3bdMD3nn0a0Jkif4Fx0FaxGwlOPdb6Plc81573RQRtAn6//fasYIyGaulUmMxTnOTh1B189GW6cgCdGXEx6um8w8zJYz5DaCzu42Z7dAsSFq68g/apUiX6qc3hpFBtKGYrwsaIkfZ03d4xa5yhda28AAAAJcEhZcwAADsQAAA7EAZUrDhsAAAA8dEVYdFNvZnR3YXJlAENyZWF0ZWQgd2l0aCB0aGUgV29sZnJhbSBMYW5ndWFnZSA6IHd3dy53b2xmcmFtLmNvbVyipoUAAAAhdEVYdENyZWF0aW9uIFRpbWUAMjAyNDoxMToyNiAxNzoxOToyM0af/GUAAAP8SURBVGiB7Vu/S+tQFE4eHTo4FHRwEITcjA6Cc8XJBFzctJuDi4LgEJyEDgqSLo4dMwg2q+hgO0ShwbV/QJP6a1AhYIQMQoS8IRjybm7b5J6k+ki+obQnPeeeL/dX7scJ63kekz/8+ekEfgYF7X9hGMYIN57nWZZVVZWu1d3dXfYbuq5n5G5ZluM45GseCa7rSpJEvCTLMsMwrVbL/yT+ZzQEQUAIhaN1u90s3N/f3+v1OvESmbaiKL1eL2pvtVqCIHie1+126Wj7jqZpBhaE0M7OTkbuJycnLy8vUTuBtuu6+/v7cZqnoC3LctBXQZxhgw7uPqzDCXP79vZ2aWkp6XyLCU3TeJ73v6uqWq1W/fkyGAyycK9UKh8fH5+fn5idQPvi4mJ9fT0eC3o0Go3Dw0OP9qkhvvva2tr19TVmLEX/5zjO1NQUXTYxIYoiM26zSMt9ZWVlb28P60i8ty3LqlQqdNnEAcdx7Xab47igB56enhBCHMdl5F4qlaLbGE7bMIz5+fm4JJJjeXmZYRhJkgKLpmmrq6uZun99feEmbIk7Ozu7vLwcu6JSr+Se5yGEsI03vCFl4S5J0vPzc9iC067X6zc3N8P8TdOM3svwjhITgiAMu+9ZuEdJEZa0EeA4zkvjxBZdWifpzhA3sLm5OWDQ34bZ2VnMgtN+fHwslZINgd+Pcrn88PAQthQHzzyhoJ0nFLTzhIJ2nkBDG6h7+oBor/AEEtMWRbHT6fgP9LIsV6vVpA03Gg2WZY+Pj5M2nVYCTFLauq632+1Op+P/PDg4QAidn5/Hj6CqqqZpnufRPfnDE/CRjPbd3V1YytB13TTNZrMZP8Lm5ibk/ARPwEcy2kDdE460EqBcyYG6JxzABGjOmEDdEw54Asl6G6h7wpFWAsloA3VPOFJLAFPbtra27u/vR8hxQN0zALX2SpGAoiiKooQtiee2YRiiKLIsG9y1RO6DwQAhFPys1Wq1Wg0hFH+iAhPwQbOkQTbeVLTXTJTTPKCgnScUtPOEgnaeUNDOEwraeQJOO05pFlyvhUdIqjdjvHDa09PTtm2P8IfrtcAIFHqzbdszMzNhC2GQj6AN12uBEej05iijZIMcrtcCI1DrzWMGOc/zr6+vw5zheu2PSM5vb29Boz4ItLHqFiLggvEkJWfHcbCKUlxd4XmeWHMXBlyv/XHJGe/tcrlMqND8BlyvnbzkbFnW+Lo0hmEQQsPGOVyvnbzkfHV1tbGxgVuj8mq/3z89PU1Rr009gpdEbya+60MuVd3e3nZdd1ggYKEsJELSWt9+v99sNqN2cqu9Xg/T0/9THB0dEfuPfBRZXFwc+uLY/wPbthcWFogltKxXvNqaH/wFWV6bNltwKFsAAAAASUVORK5CYII=\"></div><div class=\"grid-item\"><img alt=\"Output\" src=\"data:image/png;base64,iVBORw0KGgoAAAANSUhEUgAAADMAAAA/CAIAAADCAWcGAAAA0HpUWHRSYXcgcHJvZmlsZSB0eXBlIGV4aWYAAHjabZDrDcMgDIT/M0VHMLY5wzgkIVI36Pg1D7Wi6kXBx+cHCaG9nnd4dHGkoMkyCkAuLVq4usk0NWOkMtYhkZWLOw9yL14dpW8CbfFj54YZOf8MIl4n9RPci66GNUh48ljn/lj1XHPeBx20CfT59L97FWMkRFNflckMxX0Obj0gMSXDjRPwwoiLSU+PDWbeBusVUntjFzfbq1uAOLj6L0h/VapEf6p7eGsUG6QMInysLPU7D292EVrmXjh1WAAAAAlwSFlzAAAOxAAADsQBlSsOGwAAADx0RVh0U29mdHdhcmUAQ3JlYXRlZCB3aXRoIHRoZSBXb2xmcmFtIExhbmd1YWdlIDogd3d3LndvbGZyYW0uY29tXKKmhQAAACF0RVh0Q3JlYXRpb24gVGltZQAyMDI0OjExOjI2IDE3OjE5OjIzRp/8ZQAAAxpJREFUaIHtmj9r8kAYwC8vHTJkEOwgRVC8Gxw6+AHsrKMfwUEciqPoFyiIk3Pp4FBou3VVMkZco6AgNBfsIDo4BOoQMJB3CC0vufOSS65vX1/y23zufPzlLn/uySm5rgv+SX79tMBJztDMMIzISRFC0icIIUbP1WrFZ+Y4zv39fWQzwzDcTxBCDLmXlxfLsuhtLo3hcKjrOrWJl+fnZwAAxpjaut1ue70etYkyZo7jzOfzUqkUecxICoUCNZ7JZGzbpg8bKauq6uPjo5ABc10XANDv9xkddF1/eHigfJEMtVqtj4+PmEIQQu/IIYSBnev1OhmkzObhcFAU5dS8VKtViYDs9nURNJtNSZImkwljrhVFORwOvqDfbL/fp1IpRpbRaEQeH6N/p9OBED49PTH6QAjJ24ffzDCMXC7HyBKNfD7Pbl0sFr4gxYx9b+Tl9vYWY9zpdBh9EELL5TLYjHGShcE0Td8pyJ5uAICiKPv93he8iCNBpVAoBKqEgXJtZrPZ+Hm5yGQyu93OF/Sbvb+/X1yIH0g2sizbtu0LnuEq6MdJzPhJzPhJzPgRYEY+KIUQ18w0TQihpmlfS1lRS5W4Zt7zu1wuex/v7u4wxuwVbEgEn2cCVwOCzabTKQDg6uoqfiqRZqZpdrvdSqVyqrrkQqSZV8mNRiMh2YSZeZckxlhUQjFmCCGMMcZYyDx6CDCrVqsYY03TBGqB+GaTyWQ8HgMAbm5uQr4zC0ncJX+5XBZSKZH810/0byIx4ycx4ycx4ycx4+d8zCK8Cv1LVV06nT65RXVCK35VZ1nW5eVlgJnXL3xSIVWdZVnkXAmYzT/5xqoOIUS+zA1PtKput9uR2yMUs/V6HU0rclW3Xq+vr6+DzSLXP5GrOsMwisVigJksy47jRNCKU9VtNptgMwAAhJB3QuNUdbZty7JM2YQgtwTf3t4Gg0Hw5uonlUoFAPB1S+NFVVVVVck4fYe/0Wgcj8cweTVNo456eLN2u039LbqZruvD4TB89shomvb6+kptoj/RS6USuX38Hcxms1qtRm2S3OQfS7z8BglIclApStOKAAAAAElFTkSuQmCC\"></div><div class=\"grid-item\"><img alt=\"Output\" src=\"data:image/png;base64,iVBORw0KGgoAAAANSUhEUgAAAB8AAAAVCAIAAAAxV6IIAAAAz3pUWHRSYXcgcHJvZmlsZSB0eXBlIGV4aWYAAHjabY/rDcMgDIT/M0VH8IszjENaInWDjl8TUCuqXhR8/vxISP31PNNtSJiSZS+oAIWsWpUWptDUjEz1OmdyrhrvPHFevAXK3wL64sfOHTNK+VlEMo2OL4RXWwNrkcrk3GZ+rH5ppeyLDtoE+vz639zUBRnsFqcJuaOGLylsBGSh7DhxB6KR8RCye8QO9xiDjw5tY3BIuu/dPUEDPMYVdLymTTmeFh4xyuoXqRdROVaVdFznDXgWWuSRySHEAAAACXBIWXMAAA7EAAAOxAGVKw4bAAAAPHRFWHRTb2Z0d2FyZQBDcmVhdGVkIHdpdGggdGhlIFdvbGZyYW0gTGFuZ3VhZ2UgOiB3d3cud29sZnJhbS5jb21coqaFAAAAIXRFWHRDcmVhdGlvbiBUaW1lADIwMjQ6MTE6MjYgMTc6MTk6MjNGn/xlAAAA/klEQVQ4je1Uu63DMAw8ZQzDHT2HCzfUCF7Bo3gLd2o8gF3L8BYyvIlewURh7OBBCV6ah1wlfnAkj4RMjBEfw+Vz1F/2P2Dfts0o/BK11t4DMQMhBADeezGJiIhS1HsPwDknJgBmvr5z2A9wzulizNx13SEaQogxvqN7WZbanOe5rutkDsMAYBxHvLfVdV0BFEUBYFkWXa+qqqZpiGjfdyBP9/MOkrIiuqiEm/pEJFpde7fWmhOeNk5EAKZpOkxjjPHet237kP1S40ItG9OjHJxpiBfYz9TJr29GtJK0XHZmhrpCDTlBfe+pWBa7tHNewNOEvu+T38Tv//7/2H8AqTAs/hGIwOQAAAAASUVORK5CYII=\"></div></div></div>"
      ],
      "text/plain": [
       "1    0    0\n",
       "\n",
       "0    0    1\n",
       "\n",
       "0    -1   0\n",
       "1    0    0  . {{0, -1, 0}, {1, 0, 0}, {0, 0, 1}}\n",
       "\n",
       "0    0    1\n",
       "\n",
       "0    -1   0\n",
       "{{0, -1, 0}, {1, 0, 0}, {0, 0, 1}} . 1    0    0\n",
       "\n",
       "                                     0    0    1\n",
       "\n",
       "                                     0    -1   0\n",
       "Det[1    0    0  . {{0, -1, 0}, {1, 0, 0}, {0, 0, 1}}] - Det[1    0    0 ]\n",
       "\n",
       "    0    0    1                                              0    0    1\n",
       "\n",
       "    0    -1   0                                              0    -1   0\n",
       "1   0   0\n",
       "\n",
       "0   1   0\n",
       "\n",
       "0   0   1\n",
       "-3\n",
       "\n",
       "2\n",
       "\n",
       "2\n",
       "-20"
      ]
     },
     "execution_count": 33,
     "metadata": {
      "text/html": [],
      "text/plain": []
     },
     "output_type": "execute_result"
    }
   ],
   "source": [
    "mat1={{1, 0, 0}, {0, 0, 1}, {0, -1, 0}}//MatrixForm\n",
    "mat2={{0, -1, 0}, {1, 0, 0}, {0, 0, 1}};\n",
    "mat3=mat1.mat2;\n",
    "mat4={{-1, 0, 0}, {0, -1, 0}, {0, 0, 1}};\n",
    "mat5={{13, 53, 10}, {4, -7, -2}, {2, -8, -1}}/9;\n",
    "mat6={{3}, {-2}, {4}};\n",
    "mat7={{1, 1, -1}, {0, 6, 2}, {-3, 1, 1}};\n",
    "MatrixForm[mat3]\n",
    "MatrixForm[mat2.mat1]\n",
    "Det[mat3]-Det[mat1]Det[mat2]\n",
    "MatrixForm[mat4.mat4]\n",
    "MatrixForm[mat5.mat6]\n",
    "Det[mat7]"
   ]
  },
  {
   "cell_type": "code",
   "execution_count": null,
   "metadata": {
    "vscode": {
     "languageId": "wolfram"
    }
   },
   "outputs": [],
   "source": [
    "dist=BinomialDistribution[40,0.2];\n",
    "ans=1-CDF[dist,11]"
   ]
  },
  {
   "cell_type": "code",
   "execution_count": null,
   "metadata": {
    "vscode": {
     "languageId": "wolfram"
    }
   },
   "outputs": [],
   "source": [
    "dist=NormalDistribution[12,3.5/40];\n",
    "ans=CDF[dist,10.8]"
   ]
  },
  {
   "cell_type": "code",
   "execution_count": null,
   "metadata": {
    "vscode": {
     "languageId": "wolfram"
    }
   },
   "outputs": [],
   "source": [
    "dist=NormalDistribution[12,3.5];\n",
    "N[CDF[dist,15]-CDF[dist,10]]"
   ]
  },
  {
   "cell_type": "code",
   "execution_count": null,
   "metadata": {
    "vscode": {
     "languageId": "wolfram"
    }
   },
   "outputs": [],
   "source": [
    "dist=NormalDistribution[];\n",
    "quan1=Quantile[dist,0.05]\n",
    "quan2=Quantile[dist,0.75]"
   ]
  },
  {
   "cell_type": "code",
   "execution_count": null,
   "metadata": {
    "vscode": {
     "languageId": "wolfram"
    }
   },
   "outputs": [],
   "source": [
    "mat1={{1, 1, 1}, {x, y, z}, {x^2, y^2, z^2}}//MatrixForm;\n",
    "mat2={{p, q, r}, {p^2, q^2, r^2}, {qr, pr, pq}};\n",
    "Det[mat1]\n",
    "Simplify[Det[mat2]]\n",
    "12*2-53*4-3*5*10+3*53-2*10+4*12*5\n",
    "3*4-3*3-2*5*4-2*2"
   ]
  },
  {
   "cell_type": "markdown",
   "metadata": {},
   "source": [
    "## Further Y12-1"
   ]
  },
  {
   "cell_type": "markdown",
   "metadata": {},
   "source": [
    "### Module 7 - Vectors 1"
   ]
  },
  {
   "cell_type": "code",
   "execution_count": null,
   "metadata": {
    "vscode": {
     "languageId": "wolfram"
    }
   },
   "outputs": [],
   "source": [
    "ArcCos[0.44141]*180/Pi"
   ]
  },
  {
   "cell_type": "code",
   "execution_count": 46,
   "metadata": {
    "vscode": {
     "languageId": "python"
    }
   },
   "outputs": [
    {
     "data": {
      "text/html": [
       "<style>\n",
       "\t\t\t\t\t\t\t\t\t\t\t\t\t.grid-container {\n",
       "\t\t\t\t\t\t\t\t\t\t\t\t\t\tdisplay: inline-grid;\n",
       "\t\t\t\t\t\t\t\t\t\t\t\t\t\tgrid-template-columns: auto;\n",
       "\t\t\t\t\t\t\t\t\t\t\t\t\t}\n",
       "\t\t\t\t\t\t\t\t\t\t\t\t</style>\n",
       "\n",
       "\t\t\t\t\t\t\t\t\t\t\t\t<div><div class=\"grid-container\"><div class=\"grid-item\"><pre style=\"&#102;&#111;&#110;&#116;&#45;&#102;&#97;&#109;&#105;&#108;&#121;&#58;&#32;&#34;&#67;&#111;&#117;&#114;&#105;&#101;&#114;&#32;&#78;&#101;&#119;&#34;&#44;&#67;&#111;&#117;&#114;&#105;&#101;&#114;&#44;&#109;&#111;&#110;&#111;&#115;&#112;&#97;&#99;&#101;&#59;\">&#55;&#51;</pre></div><div class=\"grid-item\"><pre style=\"&#102;&#111;&#110;&#116;&#45;&#102;&#97;&#109;&#105;&#108;&#121;&#58;&#32;&#34;&#67;&#111;&#117;&#114;&#105;&#101;&#114;&#32;&#78;&#101;&#119;&#34;&#44;&#67;&#111;&#117;&#114;&#105;&#101;&#114;&#44;&#109;&#111;&#110;&#111;&#115;&#112;&#97;&#99;&#101;&#59;\">&#56;&#54;</pre></div><div class=\"grid-item\"><pre style=\"&#102;&#111;&#110;&#116;&#45;&#102;&#97;&#109;&#105;&#108;&#121;&#58;&#32;&#34;&#67;&#111;&#117;&#114;&#105;&#101;&#114;&#32;&#78;&#101;&#119;&#34;&#44;&#67;&#111;&#117;&#114;&#105;&#101;&#114;&#44;&#109;&#111;&#110;&#111;&#115;&#112;&#97;&#99;&#101;&#59;\">&#54;&#54;</pre></div></div></div>"
      ],
      "text/plain": [
       "73\n",
       "86\n",
       "66"
      ]
     },
     "execution_count": 46,
     "metadata": {
      "text/html": [],
      "text/plain": []
     },
     "output_type": "execute_result"
    }
   ],
   "source": [
    "44+29\n",
    "29*4-30\n",
    "3*29-21"
   ]
  },
  {
   "cell_type": "code",
   "execution_count": null,
   "metadata": {
    "vscode": {
     "languageId": "wolfram"
    }
   },
   "outputs": [],
   "source": [
    "N[Sqrt[(73/29)^2+(86/29)^2+(66/29)^2]]"
   ]
  },
  {
   "cell_type": "code",
   "execution_count": null,
   "metadata": {
    "vscode": {
     "languageId": "wolfram"
    }
   },
   "outputs": [],
   "source": [
    "N[Sqrt[(27/10)^2+(9/10)^2]]"
   ]
  },
  {
   "cell_type": "code",
   "execution_count": null,
   "metadata": {
    "vscode": {
     "languageId": "wolfram"
    }
   },
   "outputs": [],
   "source": [
    "Sqrt[75]\n",
    "N[7*5Sqrt[3]/14]"
   ]
  },
  {
   "cell_type": "code",
   "execution_count": null,
   "metadata": {
    "vscode": {
     "languageId": "wolfram"
    }
   },
   "outputs": [],
   "source": [
    "N[ArcCos[11/14]*180/Pi]"
   ]
  },
  {
   "cell_type": "code",
   "execution_count": null,
   "metadata": {
    "vscode": {
     "languageId": "wolfram"
    }
   },
   "outputs": [],
   "source": [
    "vec1={{2}, {3}, {2}};\n",
    "vec2={{6}, {-2}, {1}};\n",
    "vec1-vec2*3/2 "
   ]
  },
  {
   "cell_type": "code",
   "execution_count": null,
   "metadata": {
    "vscode": {
     "languageId": "wolfram"
    }
   },
   "outputs": [],
   "source": [
    "(-2/7)^2+(8/7)^2+(18/7)^2"
   ]
  },
  {
   "cell_type": "markdown",
   "metadata": {},
   "source": [
    "Angle between 2 vectors\n",
    "\n",
    "$\\cos{\\theta}=\\large\\frac{a_1b_1+a_2b_2}{|\\mathbf{a}||\\mathbf{b}|}$\n",
    "\n",
    "Scalar Product/Dot Product\n",
    "\n",
    "$\\mathbf{a}\\mathbf{b}=ab\\cos{\\theta}$\n",
    "\n",
    "$\\mathbf{a}\\mathbf{b}=a_1b_1+a_2b_2$"
   ]
  },
  {
   "cell_type": "markdown",
   "metadata": {},
   "source": [
    "### Module 3 and 6 - Further Algebra and Functions 1 and 2"
   ]
  },
  {
   "cell_type": "code",
   "execution_count": null,
   "metadata": {
    "vscode": {
     "languageId": "wolfram"
    }
   },
   "outputs": [],
   "source": [
    "mat1={{1, -1, 2}, {2, 1, 1}, {2, -2, 1}};\n",
    "mat2=Inverse[mat1];\n",
    "mat3={{9}, {0}, {3}};\n",
    "mat4=mat2.mat3;\n",
    "f[x_]:=x(x+1)/2\n",
    "g[x_]:=x(x+1)(2x+1)/6\n",
    "h[x_]:=2g[x]+3f[x]\n",
    "j[x_]:=x^2-17x+22\n",
    "k[x_]:=x(x+1)^2\n",
    "MatrixForm[mat2]\n",
    "MatrixForm[mat4]\n",
    "36*7\n",
    "f[50]-f[20]\n",
    "g[100]-g[90]\n",
    "f[50]-f[15]+5*35\n",
    "h[50]-h[25]\n",
    "j[1]\n",
    "j[3]\n",
    "j[-2]\n",
    "k[30]-k[20]"
   ]
  },
  {
   "cell_type": "code",
   "execution_count": null,
   "metadata": {
    "vscode": {
     "languageId": "wolfram"
    }
   },
   "outputs": [],
   "source": [
    "f[x_]:=2x(x+1)\n",
    "g[x_]:=x(x+1)(2x+1)+2x\n",
    "h[x_]:=x(x+1)(x+2)(x+3)\n",
    "i[x_]:=x(x-1)(x+1)(x+2)\n",
    "f[20]-f[9]\n",
    "g[10]-g[4]\n",
    "h[1]\n",
    "h[2]\n",
    "h[3]\n",
    "i[1]\n",
    "i[2]\n",
    "i[3]\n",
    "16*4*9"
   ]
  },
  {
   "cell_type": "code",
   "execution_count": null,
   "metadata": {
    "vscode": {
     "languageId": "python"
    }
   },
   "outputs": [],
   "source": [
    "35*4.2\n",
    "35*0.42*0.58"
   ]
  },
  {
   "cell_type": "code",
   "execution_count": null,
   "metadata": {
    "vscode": {
     "languageId": "wolfram"
    }
   },
   "outputs": [],
   "source": [
    "dist=BinomialDistribution[35,0.42];\n",
    "1-CDF[dist,17]"
   ]
  },
  {
   "cell_type": "code",
   "execution_count": null,
   "metadata": {
    "vscode": {
     "languageId": "wolfram"
    }
   },
   "outputs": [],
   "source": [
    "dist=NormalDistribution[34,4.5];\n",
    "ans=1-CDF[dist,36.2]"
   ]
  },
  {
   "cell_type": "code",
   "execution_count": null,
   "metadata": {
    "vscode": {
     "languageId": "wolfram"
    }
   },
   "outputs": [],
   "source": [
    "dist=NormalDistribution[];\n",
    "ans=1.5Quantile[dist,0.95]\n",
    "10-ans"
   ]
  },
  {
   "cell_type": "code",
   "execution_count": null,
   "metadata": {
    "vscode": {
     "languageId": "wolfram"
    }
   },
   "outputs": [],
   "source": [
    "dist=NormalDistribution[1.78,.23];\n",
    "N[CDF[dist,1.82]-CDF[dist,1.82]]\n",
    "N[CDF[dist,1.9]-CDF[dist,1.7]]^2"
   ]
  },
  {
   "cell_type": "code",
   "execution_count": null,
   "metadata": {
    "vscode": {
     "languageId": "wolfram"
    }
   },
   "outputs": [],
   "source": [
    "45-17-15-4\n",
    "70-31-17-15\n",
    "N[101/240]\n",
    "240-101-7-9\n",
    "123/3\n",
    "N[41/80]\n",
    "240-101-31-17-7-15-4-9\n",
    "101+31+7\n",
    "N[139/195]\n",
    "69.2/40\n",
    "Sqrt[2.81/40]\n",
    "1.78-0.23*2"
   ]
  },
  {
   "cell_type": "code",
   "execution_count": null,
   "metadata": {
    "vscode": {
     "languageId": "wolfram"
    }
   },
   "outputs": [],
   "source": [
    "dist=BinomialDistribution[20,0.3];\n",
    "N[PDF[dist,1]]\n",
    "N[CDF[dist,3]]\n",
    "1-N[CDF[dist,9]]"
   ]
  },
  {
   "cell_type": "code",
   "execution_count": null,
   "metadata": {
    "vscode": {
     "languageId": "wolfram"
    }
   },
   "outputs": [],
   "source": [
    "f[x_]:=x^3+4x^2-x+2\n",
    "g[x_]:=5x^2-9x+22\n",
    "h[x_]:=x^2+2x+9\n",
    "f[2]\n",
    "g[4]\n",
    "h[4]"
   ]
  },
  {
   "cell_type": "code",
   "execution_count": null,
   "metadata": {
    "vscode": {
     "languageId": "wolfram"
    }
   },
   "outputs": [],
   "source": [
    "f[x_]:=4x(4x+1)(8x^2-1)\n",
    "g[x_]:=2(x-1)(2x-1)(8(x-1)^2-1)\n",
    "Expand[f[x]-g[x]]"
   ]
  },
  {
   "cell_type": "code",
   "execution_count": null,
   "metadata": {
    "vscode": {
     "languageId": "wolfram"
    }
   },
   "outputs": [],
   "source": [
    "n=4;\n",
    "f[x_]:=x(x+1)/2\n",
    "g[x_]:=x(x+1)(2x+1)/6\n",
    "h[x_]:=x^2(x+1)^2/4\n",
    "n(n+1)(8n-5)/6\n",
    "Simplify[Expand[2h[4x]-6g[4x]]]"
   ]
  },
  {
   "cell_type": "code",
   "execution_count": null,
   "metadata": {
    "vscode": {
     "languageId": "wolfram"
    }
   },
   "outputs": [],
   "source": [
    "n=20;\n",
    "n1=15;\n",
    "n2=4;\n",
    "a=40;\n",
    "b=19;\n",
    "25*51\n",
    "n(n+1)(2n+1)/6\n",
    "15*31+60-5*9-18\n",
    "(n1(n1+1)(2n1+1)-n2(n2+1)(2n2+1))/6\n",
    "2(25*51-1.5*50+9*1.5-5*9)\n",
    "(a(a+1)(2a+1)-b(b+1)(2b+1))*5/6-84\n",
    "Expand[(x+1)(x+2)(x-3)]\n",
    "4*5*9"
   ]
  },
  {
   "cell_type": "code",
   "execution_count": null,
   "metadata": {
    "vscode": {
     "languageId": "wolfram"
    }
   },
   "outputs": [],
   "source": [
    "n=Pi/6;\n",
    "f[x_]:=Sin[2x]-x\n",
    "g[x_]:=f'[x]\n",
    "g[x]\n",
    "n=N[n-f[n]/g[n]]"
   ]
  },
  {
   "cell_type": "code",
   "execution_count": null,
   "metadata": {
    "vscode": {
     "languageId": "wolfram"
    }
   },
   "outputs": [],
   "source": [
    "dist=BinomialDistribution[25,0.7];\n",
    "N[1-CDF[dist,20]]"
   ]
  },
  {
   "cell_type": "code",
   "execution_count": null,
   "metadata": {
    "vscode": {
     "languageId": "wolfram"
    }
   },
   "outputs": [],
   "source": [
    "lower=N[Quantile[NormalDistribution[],0.6]]\n",
    "upper=N[Quantile[NormalDistribution[],0.8]]\n",
    "sd=0.2/(upper-lower)\n",
    "5.9-lower*sd"
   ]
  },
  {
   "cell_type": "code",
   "execution_count": null,
   "metadata": {
    "vscode": {
     "languageId": "wolfram"
    }
   },
   "outputs": [],
   "source": [
    "dist=NormalDistribution[24500,5200];\n",
    "ans=1-N[CDF[dist, 26730]]"
   ]
  },
  {
   "cell_type": "code",
   "execution_count": null,
   "metadata": {
    "vscode": {
     "languageId": "wolfram"
    }
   },
   "outputs": [],
   "source": [
    "Expand[(2a-1)(2b-1)+(2a-1)(2c-1)+(2b-1)(2c-1)]"
   ]
  },
  {
   "cell_type": "code",
   "execution_count": null,
   "metadata": {
    "vscode": {
     "languageId": "wolfram"
    }
   },
   "outputs": [],
   "source": [
    "Simplify[Divide[f[z],z-3]]"
   ]
  },
  {
   "cell_type": "code",
   "execution_count": null,
   "metadata": {
    "vscode": {
     "languageId": "wolfram"
    }
   },
   "outputs": [],
   "source": [
    "f[z_]:=z^3-z^2+11z-51;\n",
    "Plot[f[z],{z,1,5}]"
   ]
  },
  {
   "cell_type": "markdown",
   "metadata": {},
   "source": [
    "Suppose $ax^2+bx+c=0$ has roots $x=\\alpha$ and $x=\\beta$\n",
    "\n",
    "Then $\\alpha+\\beta=-\\large\\frac{b}{a}$ and $\\alpha\\beta=\\large\\frac{c}{a}$\n",
    "\n",
    "Suppose $ax^3+bx^2+cx+d=0$ has roots $x=\\alpha$, $x=\\beta$ and $x=\\gamma$\n",
    "\n",
    "Then $\\alpha+\\beta+\\gamma=\\large\\frac{-b}{a}$, $\\alpha\\beta+\\alpha\\gamma+\\beta\\gamma=\\large\\frac{c}{a}$, $\\alpha\\beta\\gamma=-\\large\\frac{d}{a}$, $\\alpha^2+\\beta^2+\\gamma^2=(\\alpha+\\beta+\\gamma)^2-2(\\alpha\\beta+\\alpha\\gamma+\\beta\\gamma)$ and $\\large\\frac{1}{\\alpha}+\\large\\frac{1}{\\beta}+\\large\\frac{1}{\\gamma}=\\large \\frac{\\alpha\\beta+\\alpha\\gamma+\\beta\\gamma}{\\alpha\\beta\\gamma}$\n",
    "\n",
    "Suppose $ax^4+bx^3+cx^2+dx+e$ has roots $x=\\alpha$, $x=\\beta$, $x=\\gamma$ and $x=\\delta$\n",
    "\n",
    "Then $\\Sigma\\alpha=-\\large\\frac{b}{a}$, $\\Sigma\\alpha\\beta=\\large\\frac{c}{a}$, $\\Sigma\\alpha\\beta\\gamma=-\\large\\frac{d}{a}$ and $\\alpha\\beta\\gamma\\delta=\\large \\frac{e}{a}$"
   ]
  },
  {
   "cell_type": "code",
   "execution_count": null,
   "metadata": {
    "vscode": {
     "languageId": "wolfram"
    }
   },
   "outputs": [],
   "source": [
    "b+c+d"
   ]
  },
  {
   "cell_type": "code",
   "execution_count": null,
   "metadata": {
    "vscode": {
     "languageId": "wolfram"
    }
   },
   "outputs": [],
   "source": [
    "a=3;\n",
    "b=2a;\n",
    "c=a-2;\n",
    "d=1/a;\n",
    "N[b*c+c*d+b*d]"
   ]
  },
  {
   "cell_type": "code",
   "execution_count": null,
   "metadata": {
    "vscode": {
     "languageId": "python"
    }
   },
   "outputs": [],
   "source": [
    "1+12+18-81"
   ]
  },
  {
   "cell_type": "code",
   "execution_count": null,
   "metadata": {
    "vscode": {
     "languageId": "wolfram"
    }
   },
   "outputs": [],
   "source": [
    "Expand[(3a+1)(3b+1)(3c+1)]"
   ]
  },
  {
   "cell_type": "code",
   "execution_count": null,
   "metadata": {
    "vscode": {
     "languageId": "wolfram"
    }
   },
   "outputs": [],
   "source": [
    "Expand[(3a+1)(3b+1)+(3a+1)(3c+1)+(3b+1)(3c+1)]"
   ]
  },
  {
   "cell_type": "code",
   "execution_count": null,
   "metadata": {
    "vscode": {
     "languageId": "python"
    }
   },
   "outputs": [],
   "source": [
    "-3/4-6+16"
   ]
  },
  {
   "cell_type": "code",
   "execution_count": null,
   "metadata": {
    "vscode": {
     "languageId": "wolfram"
    }
   },
   "outputs": [],
   "source": [
    "1.5^3-3*3*1.5+3*1"
   ]
  },
  {
   "cell_type": "code",
   "execution_count": null,
   "metadata": {
    "vscode": {
     "languageId": "wolfram"
    }
   },
   "outputs": [],
   "source": [
    "Expand[(a+b+c)^3]"
   ]
  },
  {
   "cell_type": "code",
   "execution_count": null,
   "metadata": {
    "vscode": {
     "languageId": "python"
    }
   },
   "outputs": [],
   "source": [
    "1-3/2+6/2-2/2"
   ]
  },
  {
   "cell_type": "code",
   "execution_count": null,
   "metadata": {
    "vscode": {
     "languageId": "python"
    }
   },
   "outputs": [],
   "source": [
    "1-(a+b+c)+(ab+ac+bc)-abc=1+1.5+3+1"
   ]
  },
  {
   "cell_type": "code",
   "execution_count": null,
   "metadata": {
    "vscode": {
     "languageId": "wolfram"
    }
   },
   "outputs": [],
   "source": [
    "Expand[(1-a)(1-b)(1-c)]"
   ]
  },
  {
   "cell_type": "markdown",
   "metadata": {},
   "source": [
    "### Modules 2 and 5 - Matrices 1 and 2"
   ]
  },
  {
   "cell_type": "markdown",
   "metadata": {},
   "source": [
    "Matrices for transformations:\n",
    "\n",
    "Reflection in the x axis:\n",
    "\n",
    "$$\\begin{pmatrix}1&&0\\\\0&&-1\\end{pmatrix}$$\n",
    "\n",
    "Reflection in the y axis:\n",
    "\n",
    "$$\\begin{pmatrix}1&&0\\\\0&&1\\end{pmatrix}$$\n",
    "\n",
    "Reflection in the line y=x axis:\n",
    "\n",
    "$$\\begin{pmatrix} 0 && 1 \\\\ 1 && 0 \\end{pmatrix}$$\n",
    "\n",
    "Anticlockwise rotation of theta about the origin:\n",
    "\n",
    "$$\\begin{pmatrix}\\cos{\\theta}&&-\\sin{\\theta}\\\\ \\sin{\\theta}&&\\cos{\\theta}\\end{pmatrix}"
   ]
  },
  {
   "cell_type": "code",
   "execution_count": null,
   "metadata": {
    "vscode": {
     "languageId": "python"
    }
   },
   "outputs": [],
   "source": [
    "k=5;\n",
    "mat1={{3,1,2},{1, -2, 1}, {-1, 4, 1}};\n",
    "mat2={{k+1, 8, -4}, {-3, k-4, 7}, {3, -11, 2k+3}};\n",
    "mat3={{3, -2, 2}, {2, 3, -1}, {1, 3, 1}};\n",
    "mat4={{2, 3, -4}, {1, -1, -2}, {5, 2, 3}};\n",
    "mat5={{2, 3, -1}, {1, -2, -3}, {1, 5, 2}};\n",
    "mat6=Inverse[mat4];\n",
    "mat7={{11},{8},{7}};\n",
    "mat8=mat6.mat7;\n",
    "Det[mat1]\n",
    "Det[mat3]\n",
    "MatrixForm[mat2]\n",
    "MatrixForm[mat6]\n",
    "Det[mat5]\n",
    "MatrixForm[mat8]"
   ]
  },
  {
   "cell_type": "code",
   "execution_count": null,
   "metadata": {
    "vscode": {
     "languageId": "python"
    }
   },
   "outputs": [],
   "source": [
    "4*27-7*33\n",
    "3*27+5*33\n",
    "6*3-7*1+5*1\n",
    "6*1+7*2-5*4\n",
    "6*2-7*1-5*1\n",
    "2*3-5*1-1\n",
    "6*16-7*13+5*15\n",
    "2*16-5*13-15\n",
    "13^2-15*7-16*2\n",
    "6*3-2*8-4*22"
   ]
  },
  {
   "cell_type": "code",
   "execution_count": null,
   "metadata": {
    "vscode": {
     "languageId": "python"
    }
   },
   "outputs": [],
   "source": [
    "f[x_]:=x^3-2x^2-5x+6;\n",
    "g[x_]:=x-1\n",
    "Simplify[f[x]/g[x]]"
   ]
  },
  {
   "cell_type": "code",
   "execution_count": null,
   "metadata": {
    "vscode": {
     "languageId": "python"
    }
   },
   "outputs": [],
   "source": [
    "p={{1,-2},{3,-2}};\n",
    "q={{-2,1},{1, -2}};\n",
    "r={{-1, -2}, {-3, 4}};\n",
    "MatrixForm[p.q]\n",
    "MatrixForm[r.q]\n",
    "MatrixForm[p.r]"
   ]
  },
  {
   "cell_type": "code",
   "execution_count": null,
   "metadata": {
    "vscode": {
     "languageId": "python"
    }
   },
   "outputs": [],
   "source": [
    "Det[mat1]"
   ]
  },
  {
   "cell_type": "code",
   "execution_count": null,
   "metadata": {
    "vscode": {
     "languageId": "python"
    }
   },
   "outputs": [],
   "source": [
    "mat1={{3,-8}, {-5, 7}};\n",
    "MatrixForm[mat1.unitsquare]"
   ]
  },
  {
   "cell_type": "code",
   "execution_count": null,
   "metadata": {
    "vscode": {
     "languageId": "python"
    }
   },
   "outputs": [],
   "source": [
    "mat1={{-7,-2}, {4, -2}};\n",
    "MatrixForm[mat1.unitsquare]"
   ]
  },
  {
   "cell_type": "code",
   "execution_count": null,
   "metadata": {
    "vscode": {
     "languageId": "python"
    }
   },
   "outputs": [],
   "source": [
    "mat1={{5,-1},{-3,1}};\n",
    "MatrixForm[mat1.unitsquare]"
   ]
  },
  {
   "cell_type": "code",
   "execution_count": null,
   "metadata": {
    "vscode": {
     "languageId": "python"
    }
   },
   "outputs": [],
   "source": [
    "unitsquare={{0,0,1,1},{0,1,1,0}};\n",
    "mat1={{2,2},{-1,4}};\n",
    "MatrixForm[mat1.unitsquare]"
   ]
  },
  {
   "cell_type": "code",
   "execution_count": null,
   "metadata": {
    "vscode": {
     "languageId": "python"
    }
   },
   "outputs": [],
   "source": [
    "mat1={{4,2},{3,6}}\n",
    "Det[mat1]"
   ]
  },
  {
   "cell_type": "markdown",
   "metadata": {},
   "source": [
    "Identity matrices have 1's on the lead diagonal that stretches from the top-left corner to the bottom-right corner.\n",
    "\n",
    "For example, below is 3 by 3 identity matrix:\n",
    "\n",
    "$$\\mathbf{I} = \\begin{pmatrix} 1 && 0&&0 \\\\ 0 && 1&&0\\\\0&&0&&1 \\end{pmatrix}$$"
   ]
  },
  {
   "cell_type": "code",
   "execution_count": null,
   "metadata": {
    "vscode": {
     "languageId": "python"
    }
   },
   "outputs": [],
   "source": [
    "(* Ex 05 q 7 *)\n",
    "mat1={{-3,2},{-8,5}};\n",
    "mat2={{x},{2x+1}};\n",
    "MatrixForm[mat1.mat2]"
   ]
  },
  {
   "cell_type": "code",
   "execution_count": null,
   "metadata": {
    "vscode": {
     "languageId": "python"
    }
   },
   "outputs": [],
   "source": [
    "mat1={{3,7},{2,4}};\n",
    "mat2={{2,3},{-1,2}};\n",
    "mat5={{3,6,1},{-4,-2,5}};\n",
    "mat7=IdentityMatrix[3];\n",
    "mat6=mat1.mat5;\n",
    "mat3=mat1*mat2;\n",
    "mat4=mat1.mat2;\n",
    "MatrixForm[mat3]\n",
    "MatrixForm[Transpose[mat1]]\n",
    "MatrixForm[mat6]\n",
    "MatrixForm[mat7]"
   ]
  },
  {
   "cell_type": "code",
   "execution_count": null,
   "metadata": {
    "vscode": {
     "languageId": "python"
    }
   },
   "outputs": [],
   "source": [
    "mat1={{1,0},{0,1}};\n",
    "mat2={{-1,0},{-1,0}};\n",
    "MatrixForm[mat1.mat2]"
   ]
  },
  {
   "cell_type": "markdown",
   "metadata": {},
   "source": [
    "### Module 1 and 4 - Complex Numbers 1 (Introduction) Complex Numbers 2 (Complex Plane)"
   ]
  },
  {
   "cell_type": "code",
   "execution_count": null,
   "metadata": {
    "vscode": {
     "languageId": "python"
    }
   },
   "outputs": [],
   "source": [
    "ArcTan[0.5]\n",
    "N[ArcTan[2]]"
   ]
  },
  {
   "cell_type": "code",
   "execution_count": null,
   "metadata": {
    "vscode": {
     "languageId": "python"
    }
   },
   "outputs": [],
   "source": [
    "N[3E^(3I)]"
   ]
  },
  {
   "cell_type": "code",
   "execution_count": null,
   "metadata": {
    "vscode": {
     "languageId": "python"
    }
   },
   "outputs": [],
   "source": [
    "Expand[(a+b*I)^3]"
   ]
  },
  {
   "cell_type": "code",
   "execution_count": null,
   "metadata": {
    "vscode": {
     "languageId": "python"
    }
   },
   "outputs": [],
   "source": [
    "N[2E^I]"
   ]
  },
  {
   "cell_type": "code",
   "execution_count": null,
   "metadata": {
    "vscode": {
     "languageId": "python"
    }
   },
   "outputs": [],
   "source": [
    "0.1415*-2.4034-1.7954*1.995\n",
    "0.1415*1.7954+1.9950*-2.4034"
   ]
  },
  {
   "cell_type": "code",
   "execution_count": null,
   "metadata": {
    "vscode": {
     "languageId": "python"
    }
   },
   "outputs": [],
   "source": [
    "N[Cos[-1]]\n",
    "N[Sin[-1]]\n",
    "N[Cos[-2]]\n",
    "N[Sin[-2]]\n",
    "N[Cos[2]]\n",
    "N[Sin[2]]\n",
    "2Cos[1.5]\n",
    "2Sin[1.5]\n",
    "3Cos[2.5]\n",
    "3Sin[2.5]"
   ]
  },
  {
   "cell_type": "code",
   "execution_count": null,
   "metadata": {
    "vscode": {
     "languageId": "python"
    }
   },
   "outputs": [],
   "source": [
    "(1.081^2+1.683^2)(-0.909^2-0.416^2)"
   ]
  },
  {
   "cell_type": "code",
   "execution_count": null,
   "metadata": {
    "vscode": {
     "languageId": "python"
    }
   },
   "outputs": [],
   "source": [
    "(3+4I)(3-4I)"
   ]
  },
  {
   "cell_type": "code",
   "execution_count": null,
   "metadata": {
    "vscode": {
     "languageId": "python"
    }
   },
   "outputs": [],
   "source": [
    "f[z_]:=(2z-2I)/(1+I)-3+I\n",
    "NSolve[f[z],z]"
   ]
  },
  {
   "cell_type": "code",
   "execution_count": null,
   "metadata": {
    "vscode": {
     "languageId": "python"
    }
   },
   "outputs": [],
   "source": [
    "Pi-ArcTan[1.5]"
   ]
  }
 ],
 "metadata": {
  "kernelspec": {
   "display_name": "Wolfram Language 14",
   "language": "Wolfram Language",
   "name": "wolframlanguage14"
  },
  "language_info": {
   "codemirror_mode": "mathematica",
   "file_extension": ".m",
   "mimetype": "application/vnd.wolfram.m",
   "name": "Wolfram Language",
   "pygments_lexer": "mathematica",
   "version": "12.0"
  }
 },
 "nbformat": 4,
 "nbformat_minor": 2
}
