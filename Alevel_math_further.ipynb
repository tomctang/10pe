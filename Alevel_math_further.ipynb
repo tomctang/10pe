{
 "cells": [
  {
   "cell_type": "markdown",
   "metadata": {},
   "source": [
    "# A-level-further"
   ]
  },
  {
   "cell_type": "markdown",
   "metadata": {},
   "source": [
    "Notes go downwards in cells and cells go upwards in sections.\n",
    "Cells with formulas are at top of each section.\n",
    "\n",
    "Used Languages : MMA, Sage, Python(for number calculations)"
   ]
  },
  {
   "cell_type": "raw",
   "metadata": {
    "vscode": {
     "languageId": "wolfram"
    }
   },
   "source": [
    "g=9.8;\n",
    "invsin[x_]:=InverseFunction[Sin][x]\n",
    "N[InverseFunction[Sin][1]]\n",
    "InverseFunction[Sin][1]//N  (*Wolfram 后线// *)"
   ]
  },
  {
   "cell_type": "markdown",
   "metadata": {},
   "source": [
    "## Further Y12-2"
   ]
  },
  {
   "cell_type": "markdown",
   "metadata": {
    "jp-MarkdownHeadingCollapsed": true
   },
   "source": [
    "### Module 8 - Hyperbolic Functions"
   ]
  },
  {
   "cell_type": "markdown",
   "metadata": {},
   "source": [
    "$$\\sinh{x}=\\frac{e^x-e^{-x}}{2}$$\n",
    "$$\\cosh{x}=\\frac{e^x+e^{-x}}{2}$$\n",
    "$$\\tanh{x}=\\frac{e^x-e^{-x}}{e^x+e^{-x}}$$\n",
    "$$\\mathrm{csch}\\hspace{2px}x=\\frac{2}{e^x-e^{-x}}$$\n",
    "$$\\mathrm{sech}\\hspace{2px}x=\\frac{2}{e^x+e^{-x}}$$\n",
    "$$\\mathrm{coth}\\hspace{2px}x=\\frac{e^x+e^{-x}}{e^x-e^{-x}}$$\n",
    "\n",
    "$$\\mathrm{arcsinh}\\hspace{2px}x=\\ln{(x+\\sqrt{x^2+1})}$$\n",
    "$$\\mathrm{arccosh}\\hspace{2px}x=\\ln{(x+\\sqrt{x^2-1})}$$\n",
    "for $x\\geqslant1$\n",
    "$$\\mathrm{arctanh}\\hspace{2px}x=\\frac{1}{2}\\ln{(\\frac{x+1}{x-1})}$$\n",
    "for $-1\\geqslant x \\geqslant1$\n",
    "\n",
    "$$f(x)=\\sinh{x}$$\n",
    "$$f'(x)=\\cosh{x}$$\n",
    "$$f''(x)=\\sinh{x}$$\n",
    "$$g(x)=\\tanh{x}$$\n",
    "$$g'(x)=\\mathrm{sech}^2{x}$$\n",
    "$$h(x)=\\mathrm{cosech}{x}$$\n",
    "$$h'(x)=-\\mathrm{cosech}{x}\\mathrm{coth}{x}$$\n",
    "$$y=\\mathrm{sech}{x}$$\n",
    "$$y'=-\\mathrm{sech}{x}\\tanh{x}$$\n",
    "$$\\frac{\\mathrm{d}}{\\mathrm{d}x}\\mathrm{coth}{x}=-\\mathrm{cosech}^2{x}$$\n",
    "\n",
    "$$\\int\\frac{1}{\\sqrt{x^2-a^2}}\\mathrm{d}x=\\cosh^{-1}\\frac{x}{a}+c$$\n",
    "$$\\int\\frac{1}{\\sqrt{a^2+x^2}}\\mathrm{d}x=\\sinh^{-1}\\frac{x}{a}+c$$\n",
    "$$\\frac{\\mathrm{d}}{\\mathrm{d}x}\\frac{1}{a}\\tanh^{-1}\\frac{x}{a}=\\frac{1}{a^2-x^2}$$\n",
    "\n",
    "$$\\int\\tanh{x}\\mathrm{d}x=\\ln{(\\cosh{x})}+c$$\n",
    "$$\\int\\mathrm{coth}{x}{d}x=\\ln{(sinh{x})}+c$$"
   ]
  },
  {
   "cell_type": "code",
   "execution_count": 1696,
   "metadata": {},
   "outputs": [
    {
     "data": {
      "text/html": [
       "<html>\\(\\displaystyle 7.38905609893065\\)</html>"
      ],
      "text/latex": [
       "$\\displaystyle 7.38905609893065$"
      ],
      "text/plain": [
       "7.38905609893065"
      ]
     },
     "metadata": {},
     "output_type": "display_data"
    },
    {
     "data": {
      "text/html": [
       "<html>\\(\\displaystyle 0.135335283236613\\)</html>"
      ],
      "text/latex": [
       "$\\displaystyle 0.135335283236613$"
      ],
      "text/plain": [
       "0.135335283236613"
      ]
     },
     "metadata": {},
     "output_type": "display_data"
    },
    {
     "data": {
      "text/html": [
       "<html>\\(\\displaystyle -0.724061660966311\\)</html>"
      ],
      "text/latex": [
       "$\\displaystyle -0.724061660966311$"
      ],
      "text/plain": [
       "-0.724061660966311"
      ]
     },
     "metadata": {},
     "output_type": "display_data"
    },
    {
     "data": {
      "text/html": [
       "<html>\\(\\displaystyle -0.724061660966311\\)</html>"
      ],
      "text/latex": [
       "$\\displaystyle -0.724061660966311$"
      ],
      "text/plain": [
       "-0.724061660966311"
      ]
     },
     "metadata": {},
     "output_type": "display_data"
    },
    {
     "data": {
      "text/html": [
       "<html>\\(\\displaystyle 10.5328125000000\\)</html>"
      ],
      "text/latex": [
       "$\\displaystyle 10.5328125000000$"
      ],
      "text/plain": [
       "10.5328125000000"
      ]
     },
     "metadata": {},
     "output_type": "display_data"
    },
    {
     "data": {
      "text/html": [
       "<html>\\(\\displaystyle 21.6656250000000\\)</html>"
      ],
      "text/latex": [
       "$\\displaystyle 21.6656250000000$"
      ],
      "text/plain": [
       "21.6656250000000"
      ]
     },
     "metadata": {},
     "output_type": "display_data"
    }
   ],
   "source": [
    "# Ex. 16 Working with Hyperbolic Functions\n",
    "a=sinh(1)\n",
    "b=cosh(1)\n",
    "f(x)=3*cosh(2*x)*cosh(3*x)-2*sinh(2*x)*sinh(3*x)\n",
    "g(x)=cosh(5*x)+5*cosh(x)\n",
    "show(n(e*(a+b)))\n",
    "show(n((b-a)/e))\n",
    "show(n(e*(a-b)/a^2))\n",
    "show(n( -(a+b)/(e*a^2) ))\n",
    "show(n(f(ln(2))-f(0)/5))\n",
    "show(n(g(ln(2))-g(0)/10))"
   ]
  },
  {
   "cell_type": "code",
   "execution_count": 1694,
   "metadata": {},
   "outputs": [
    {
     "data": {
      "text/html": [
       "<html>\\(\\displaystyle 1.47221948958322\\)</html>"
      ],
      "text/latex": [
       "$\\displaystyle 1.47221948958322$"
      ],
      "text/plain": [
       "1.47221948958322"
      ]
     },
     "metadata": {},
     "output_type": "display_data"
    },
    {
     "data": {
      "text/html": [
       "<html>\\(\\displaystyle 0.191473074462475\\)</html>"
      ],
      "text/latex": [
       "$\\displaystyle 0.191473074462475$"
      ],
      "text/plain": [
       "0.191473074462475"
      ]
     },
     "metadata": {},
     "output_type": "display_data"
    },
    {
     "data": {
      "text/html": [
       "<html>\\(\\displaystyle -0.804718956217050\\)</html>"
      ],
      "text/latex": [
       "$\\displaystyle -0.804718956217050$"
      ],
      "text/plain": [
       "-0.804718956217050"
      ]
     },
     "metadata": {},
     "output_type": "display_data"
    },
    {
     "data": {
      "text/html": [
       "<html>\\(\\displaystyle 0\\)</html>"
      ],
      "text/latex": [
       "$\\displaystyle 0$"
      ],
      "text/plain": [
       "0"
      ]
     },
     "metadata": {},
     "output_type": "display_data"
    },
    {
     "data": {
      "text/html": [
       "<html>\\(\\displaystyle 120\\)</html>"
      ],
      "text/latex": [
       "$\\displaystyle 120$"
      ],
      "text/plain": [
       "120"
      ]
     },
     "metadata": {},
     "output_type": "display_data"
    },
    {
     "data": {
      "text/html": [
       "<html>\\(\\displaystyle 1896\\)</html>"
      ],
      "text/latex": [
       "$\\displaystyle 1896$"
      ],
      "text/plain": [
       "1896"
      ]
     },
     "metadata": {},
     "output_type": "display_data"
    },
    {
     "data": {
      "text/html": [
       "<html>\\(\\displaystyle \\frac{15}{4}\\)</html>"
      ],
      "text/latex": [
       "$\\displaystyle \\frac{15}{4}$"
      ],
      "text/plain": [
       "15/4"
      ]
     },
     "metadata": {},
     "output_type": "display_data"
    },
    {
     "data": {
      "text/html": [
       "<html>\\(\\displaystyle \\frac{40}{9}\\)</html>"
      ],
      "text/latex": [
       "$\\displaystyle \\frac{40}{9}$"
      ],
      "text/plain": [
       "40/9"
      ]
     },
     "metadata": {},
     "output_type": "display_data"
    },
    {
     "data": {
      "text/html": [
       "<html>\\(\\displaystyle \\frac{3096}{625}\\)</html>"
      ],
      "text/latex": [
       "$\\displaystyle \\frac{3096}{625}$"
      ],
      "text/plain": [
       "3096/625"
      ]
     },
     "metadata": {},
     "output_type": "display_data"
    },
    {
     "data": {
      "image/png": "[encoded data removed]",
      "text/plain": [
       "Graphics object consisting of 1 graphics primitive"
      ]
     },
     "metadata": {},
     "output_type": "display_data"
    }
   ],
   "source": [
    "# Ex. 15 Hyperbolic Functions\n",
    "x=var('x')\n",
    "f(x)=6*x^4-17*x^3+12*x^2-7*x+6\n",
    "show(arctanh(0.9))\n",
    "show(n(log((3+sqrt(30))/7)))\n",
    "show(n(log(1/sqrt(5))))\n",
    "show(f(2))\n",
    "show(f(3))\n",
    "show(f(5))\n",
    "show(f(1/2))\n",
    "show(f(1/3))\n",
    "show(f(1/5))\n",
    "show(plot(f(x), (x, -3, 3), figsize=3))"
   ]
  },
  {
   "cell_type": "code",
   "execution_count": 1,
   "metadata": {},
   "outputs": [
    {
     "data": {
      "image/png": "[encoded data removed]",
      "text/plain": [
       "Graphics object consisting of 1 graphics primitive"
      ]
     },
     "metadata": {},
     "output_type": "display_data"
    },
    {
     "data": {
      "image/png": "[encoded data removed]",
      "text/plain": [
       "Graphics object consisting of 1 graphics primitive"
      ]
     },
     "metadata": {},
     "output_type": "display_data"
    },
    {
     "data": {
      "image/png": "[encoded data removed]",
      "text/plain": [
       "Graphics object consisting of 1 graphics primitive"
      ]
     },
     "metadata": {},
     "output_type": "display_data"
    },
    {
     "data": {
      "image/png": "[encoded data removed]",
      "text/plain": [
       "Graphics object consisting of 1 graphics primitive"
      ]
     },
     "metadata": {},
     "output_type": "display_data"
    },
    {
     "data": {
      "image/png": "[encoded data removed]",
      "text/plain": [
       "Graphics object consisting of 1 graphics primitive"
      ]
     },
     "metadata": {},
     "output_type": "display_data"
    },
    {
     "data": {
      "image/png": "[encoded data removed]",
      "text/plain": [
       "Graphics object consisting of 1 graphics primitive"
      ]
     },
     "metadata": {},
     "output_type": "display_data"
    }
   ],
   "source": [
    "# Hyperbolic plots\n",
    "x=var('x')\n",
    "show(plot(sinh(x), (x, -5, 5), figsize=3))\n",
    "show(plot(cosh(x), (x, -5, 5), figsize=3))\n",
    "show(plot(tanh(x), (x, -5, 5), figsize=3))\n",
    "show(plot(csch(x), (x, -5, 5), figsize=3))\n",
    "show(plot(sech(x), (x, -5, 5), figsize=3))\n",
    "show(plot(coth(x), (x, -5, 5), figsize=3))"
   ]
  },
  {
   "cell_type": "markdown",
   "metadata": {
    "jp-MarkdownHeadingCollapsed": true
   },
   "source": [
    "### Module 7 - An Introduction to Polar Coordinates"
   ]
  },
  {
   "cell_type": "code",
   "execution_count": 2,
   "metadata": {},
   "outputs": [
    {
     "data": {
      "text/html": [
       "<html>\\(\\displaystyle 1.57079632679490\\)</html>"
      ],
      "text/latex": [
       "$\\displaystyle 1.57079632679490$"
      ],
      "text/plain": [
       "1.57079632679490"
      ]
     },
     "metadata": {},
     "output_type": "display_data"
    },
    {
     "data": {
      "text/html": [
       "<html>\\(\\displaystyle 0.785398163397448\\)</html>"
      ],
      "text/latex": [
       "$\\displaystyle 0.785398163397448$"
      ],
      "text/plain": [
       "0.785398163397448"
      ]
     },
     "metadata": {},
     "output_type": "display_data"
    },
    {
     "data": {
      "text/html": [
       "<html>\\(\\displaystyle 5.23598775598299\\)</html>"
      ],
      "text/latex": [
       "$\\displaystyle 5.23598775598299$"
      ],
      "text/plain": [
       "5.23598775598299"
      ]
     },
     "metadata": {},
     "output_type": "display_data"
    },
    {
     "data": {
      "text/html": [
       "<html>\\(\\displaystyle 2.21429743558818\\)</html>"
      ],
      "text/latex": [
       "$\\displaystyle 2.21429743558818$"
      ],
      "text/plain": [
       "2.21429743558818"
      ]
     },
     "metadata": {},
     "output_type": "display_data"
    },
    {
     "data": {
      "text/html": [
       "<html>\\(\\displaystyle 1.73205080756888\\)</html>"
      ],
      "text/latex": [
       "$\\displaystyle 1.73205080756888$"
      ],
      "text/plain": [
       "1.73205080756888"
      ]
     },
     "metadata": {},
     "output_type": "display_data"
    },
    {
     "data": {
      "image/png": "[encoded data removed]",
      "text/plain": [
       "Graphics object consisting of 1 graphics primitive"
      ]
     },
     "metadata": {},
     "output_type": "display_data"
    },
    {
     "data": {
      "image/png": "[encoded data removed]",
      "text/plain": [
       "Graphics object consisting of 1 graphics primitive"
      ]
     },
     "metadata": {},
     "output_type": "display_data"
    }
   ],
   "source": [
    "x=var('x')\n",
    "show(n(pi/2))\n",
    "show(n(pi/4))\n",
    "show(n(5*pi/3))\n",
    "show(n(pi-arctan(4/3)))\n",
    "show(n(sqrt(3)))\n",
    "show(polar_plot(2*cos(x), (x, 0, 2*pi), figsize=3))\n",
    "show(polar_plot(cos(x)+sqrt(cos(x)^2+4), (x, 0, 2*pi), figsize=3))"
   ]
  },
  {
   "cell_type": "markdown",
   "metadata": {
    "jp-MarkdownHeadingCollapsed": true
   },
   "source": [
    "### Assessment 2"
   ]
  },
  {
   "cell_type": "code",
   "execution_count": 2739,
   "metadata": {},
   "outputs": [
    {
     "data": {
      "text/html": [
       "<html>\\(\\displaystyle 1.60943791243410\\)</html>"
      ],
      "text/latex": [
       "$\\displaystyle 1.60943791243410$"
      ],
      "text/plain": [
       "1.60943791243410"
      ]
     },
     "metadata": {},
     "output_type": "display_data"
    },
    {
     "data": {
      "text/html": [
       "<html>\\(\\displaystyle 1.58353909465021\\)</html>"
      ],
      "text/latex": [
       "$\\displaystyle 1.58353909465021$"
      ],
      "text/plain": [
       "1.58353909465021"
      ]
     },
     "metadata": {},
     "output_type": "display_data"
    },
    {
     "data": {
      "text/html": [
       "<html>\\(\\displaystyle 0.320695797545871\\)</html>"
      ],
      "text/latex": [
       "$\\displaystyle 0.320695797545871$"
      ],
      "text/plain": [
       "0.320695797545871"
      ]
     },
     "metadata": {},
     "output_type": "display_data"
    },
    {
     "data": {
      "text/html": [
       "<html>\\(\\displaystyle 0.320695797545871\\)</html>"
      ],
      "text/latex": [
       "$\\displaystyle 0.320695797545871$"
      ],
      "text/plain": [
       "0.320695797545871"
      ]
     },
     "metadata": {},
     "output_type": "display_data"
    },
    {
     "data": {
      "text/html": [
       "<html>\\(\\displaystyle 0.320695797545871\\)</html>"
      ],
      "text/latex": [
       "$\\displaystyle 0.320695797545871$"
      ],
      "text/plain": [
       "0.320695797545871"
      ]
     },
     "metadata": {},
     "output_type": "display_data"
    }
   ],
   "source": [
    "show(n(ln(5)))\n",
    "f(x)=x+x^3/12+x^5/80\n",
    "show(n(f(4/3)))\n",
    "g(x)=-sin(6*x)/6+3*sin(4*x)/2-15*sin(2*x)/2+10*sin(x)\n",
    "show(n((g(pi/2)-g(pi/4))/32))\n",
    "show(n((10-(5*sqrt(2)-44/6))/32))\n",
    "show(n((10-1/6+15/2-5*sqrt(2))/32))"
   ]
  },
  {
   "cell_type": "code",
   "execution_count": 4094,
   "metadata": {},
   "outputs": [
    {
     "data": {
      "text/html": [
       "<html>\\(\\displaystyle \\frac{4}{21}\\)</html>"
      ],
      "text/latex": [
       "$\\displaystyle \\frac{4}{21}$"
      ],
      "text/plain": [
       "4/21"
      ]
     },
     "metadata": {},
     "output_type": "display_data"
    },
    {
     "data": {
      "text/html": [
       "<html>\\(\\displaystyle 0.636619772367581\\)</html>"
      ],
      "text/latex": [
       "$\\displaystyle 0.636619772367581$"
      ],
      "text/plain": [
       "0.636619772367581"
      ]
     },
     "metadata": {},
     "output_type": "display_data"
    },
    {
     "data": {
      "text/html": [
       "<html>\\(\\displaystyle 1170\\)</html>"
      ],
      "text/latex": [
       "$\\displaystyle 1170$"
      ],
      "text/plain": [
       "1170"
      ]
     },
     "metadata": {},
     "output_type": "display_data"
    },
    {
     "data": {
      "text/html": [
       "<html>\\(\\displaystyle 2 \\, y\\)</html>"
      ],
      "text/latex": [
       "$\\displaystyle 2 \\, y$"
      ],
      "text/plain": [
       "2*y"
      ]
     },
     "metadata": {},
     "output_type": "display_data"
    }
   ],
   "source": [
    "x=var('x')\n",
    "t=var('t')\n",
    "y=var('y')\n",
    "f(x)=x^8/8\n",
    "f(4)-f(2)\n",
    "g(x)=-1/x\n",
    "show(g(7)-g(3))\n",
    "h(x)=sin(x)\n",
    "show(n((sin(pi/2)-sin(0))/(pi/2)))\n",
    "parametric_plot((3*cos(t), 2*sin(t)), (t, 0, 2*pi))\n",
    "j(t)=2*t^3/3+3*t^2/2\n",
    "show(j(12)-j(6))\n",
    "show(diff(x*y*(x-1), x, 2))"
   ]
  },
  {
   "cell_type": "markdown",
   "metadata": {
    "jp-MarkdownHeadingCollapsed": true
   },
   "source": [
    "### Module 6 - Complex Numbers - deMoivre's Theorem"
   ]
  },
  {
   "cell_type": "markdown",
   "metadata": {},
   "source": [
    "deMoivre's Theorem :\n",
    "\n",
    "Let $z=r(\\cos{\\theta}+i\\sin{\\theta})$.\n",
    "\n",
    "For any integer n,\n",
    "$$z^n=r^n(\\cos{n\\theta}+i\\sin{n\\theta})$$\n",
    "$$ $$"
   ]
  },
  {
   "cell_type": "markdown",
   "metadata": {},
   "source": [
    "Let $z=\\cos{\\theta}+i\\sin{\\theta}$.\n",
    "\n",
    "Then using deMoivre's Theorem :\n",
    "$$z^n=\\cos{n\\theta}+i\\sin{n\\theta}$$\n",
    "$$z^{-n}=cos{n\\theta}-i\\sin{n\\theta}$$\n",
    "So, \n",
    "$$z^n+z^{-n}=2\\cos{n\\theta}$$\n",
    "$$z^n-z^{-n}=2i\\sin{n\\theta}$$\n",
    "$$ $$"
   ]
  },
  {
   "cell_type": "markdown",
   "metadata": {},
   "source": [
    "$$\\large 1+e^{i\\theta}=e^{i\\frac{\\theta}{2}}e^{-i\\frac{\\theta}{2}}+e^{i\\frac{\\theta}{2}}e^{i\\frac{\\theta}{2}}$$\n",
    "$$\\large =e^{i\\frac{\\theta}{2}}(e^{-i\\frac{\\theta}{2}}+e^{i\\frac{\\theta}{2}})$$\n",
    "$$\\large =2\\cos{\\frac{\\theta}{2}}e^{i\\frac{\\theta}{2}}$$"
   ]
  },
  {
   "cell_type": "code",
   "execution_count": 1143,
   "metadata": {},
   "outputs": [
    {
     "data": {
      "text/html": [
       "<html>\\(\\displaystyle -\\frac{1}{5} \\, \\cos\\left(x\\right)^{5} + \\frac{2}{3} \\, \\cos\\left(x\\right)^{3} - \\cos\\left(x\\right)\\)</html>"
      ],
      "text/latex": [
       "$\\displaystyle -\\frac{1}{5} \\, \\cos\\left(x\\right)^{5} + \\frac{2}{3} \\, \\cos\\left(x\\right)^{3} - \\cos\\left(x\\right)$"
      ],
      "text/plain": [
       "-1/5*cos(x)^5 + 2/3*cos(x)^3 - cos(x)"
      ]
     },
     "metadata": {},
     "output_type": "display_data"
    },
    {
     "data": {
      "text/html": [
       "<html>\\(\\displaystyle \\frac{1}{7} \\, \\sin\\left(7 \\, x\\right)\\)</html>"
      ],
      "text/latex": [
       "$\\displaystyle \\frac{1}{7} \\, \\sin\\left(7 \\, x\\right)$"
      ],
      "text/plain": [
       "1/7*sin(7*x)"
      ]
     },
     "metadata": {},
     "output_type": "display_data"
    },
    {
     "data": {
      "text/html": [
       "<html>\\(\\displaystyle \\frac{128}{35}\\)</html>"
      ],
      "text/latex": [
       "$\\displaystyle \\frac{128}{35}$"
      ],
      "text/plain": [
       "128/35"
      ]
     },
     "metadata": {},
     "output_type": "display_data"
    },
    {
     "data": {
      "text/html": [
       "<html>\\(\\displaystyle -\\frac{128}{35}\\)</html>"
      ],
      "text/latex": [
       "$\\displaystyle -\\frac{128}{35}$"
      ],
      "text/plain": [
       "-128/35"
      ]
     },
     "metadata": {},
     "output_type": "display_data"
    }
   ],
   "source": [
    "# Ex. 11 deMoivre's Theorem\n",
    "show(integrate(sin(x)^5, x))\n",
    "show(integrate(cos(7*x), x))\n",
    "4-12/35\n",
    "show(integrate(cos(7*x)-cos(5*x)-3*cos(3*x)+3*cos(x), x, 0, pi/2))\n",
    "f(x)=-cos(7*x)/7-cos(5*x)/5+cos(3*x)+3*cos(x)\n",
    "show(f(pi/2)-f(0))"
   ]
  },
  {
   "cell_type": "markdown",
   "metadata": {},
   "source": [
    "$$\\cos{\\left( 4 \\theta \\right)} = a_0 \\cos^4{\\theta} + a_1 \\cos^3{\\theta} + a_2 \\cos^2{\\theta} + a_3 \\cos{\\theta} + a_4$$"
   ]
  },
  {
   "cell_type": "markdown",
   "metadata": {
    "jp-MarkdownHeadingCollapsed": true
   },
   "source": [
    "### Module 5 - An Introduction to Maclaurin Series"
   ]
  },
  {
   "cell_type": "markdown",
   "metadata": {},
   "source": [
    "Standard Maclaurin Series Expansions\n",
    "\n",
    "$$\\mathrm{f}(x)=\\mathrm{f}(0)+x\\mathrm{f}'(0)+\\frac{x^2}{2!}\\mathrm{f}''(0)+\\dots+ \\frac{x^r}{r!}\\mathrm{f}(r)(0)+\\dots$$\n",
    "\n",
    "$$e^x=1+x+\\frac{x^2}{2!}+\\dots+\\frac{x^r}{r!}+\\dots$$\n",
    "\n",
    "$$\\ln(1+x)=x-\\frac{x^2}{2}+\\frac{x^3}{3}-\\dots+(-1)^{r+1}\\frac{x^r}{r}+\\dots$$ \n",
    "\n",
    "for $-1\\lt x\\leqslant1$\n",
    "\n",
    "$$\\sin{x}=x-\\frac{x^3}{3!}+\\frac{x^5}{5!}-\\dots+(-1)^r\\frac{x^{2r+1}}{(2r+1)!}+\\dots$$\n",
    "\n",
    "$$\\cos{x}=1-\\frac{x^2}{2!}+\\frac{x^4}{4!}-\\dots+(-1)^r\\frac{x^{2r}}{(2r)!}+\\dots$$"
   ]
  },
  {
   "cell_type": "code",
   "execution_count": 856,
   "metadata": {},
   "outputs": [
    {
     "data": {
      "image/png": "[encoded data removed]",
      "text/plain": [
       "Graphics object consisting of 1 graphics primitive"
      ]
     },
     "metadata": {},
     "output_type": "display_data"
    }
   ],
   "source": [
    "x=var('x')\n",
    "show(plot(log((1-2*x)/(1+2*x)^2), x, -20, 0.5))"
   ]
  },
  {
   "cell_type": "markdown",
   "metadata": {},
   "source": [
    "$$\\ln{\\sqrt{\\frac{1-x}{1+x}}}$$\n",
    "$$\\downarrow$$\n",
    "$$\\frac{\\ln{\\frac{1-x}{1+x}}}{2}$$"
   ]
  },
  {
   "cell_type": "code",
   "execution_count": 5,
   "metadata": {},
   "outputs": [
    {
     "data": {
      "text/html": [
       "<html>\\(\\displaystyle {\\left(e^{\\left(3 \\, x\\right)} - e^{\\left(-x\\right)}\\right)} e^{\\left(-x\\right)}\\)</html>"
      ],
      "text/latex": [
       "$\\displaystyle {\\left(e^{\\left(3 \\, x\\right)} - e^{\\left(-x\\right)}\\right)} e^{\\left(-x\\right)}$"
      ],
      "text/plain": [
       "(e^(3*x) - e^(-x))*e^(-x)"
      ]
     },
     "metadata": {},
     "output_type": "display_data"
    },
    {
     "data": {
      "text/html": [
       "<html>\\(\\displaystyle e^{x} \\log\\left(x + 1\\right) + \\frac{e^{x}}{x + 1}\\)</html>"
      ],
      "text/latex": [
       "$\\displaystyle e^{x} \\log\\left(x + 1\\right) + \\frac{e^{x}}{x + 1}$"
      ],
      "text/plain": [
       "e^x*log(x + 1) + e^x/(x + 1)"
      ]
     },
     "metadata": {},
     "output_type": "display_data"
    },
    {
     "data": {
      "text/html": [
       "<html>\\(\\displaystyle \\frac{e^{x}}{x + 1} - \\frac{e^{x}}{{\\left(x + 1\\right)}^{2}}\\)</html>"
      ],
      "text/latex": [
       "$\\displaystyle \\frac{e^{x}}{x + 1} - \\frac{e^{x}}{{\\left(x + 1\\right)}^{2}}$"
      ],
      "text/plain": [
       "e^x/(x + 1) - e^x/(x + 1)^2"
      ]
     },
     "metadata": {},
     "output_type": "display_data"
    },
    {
     "data": {
      "text/html": [
       "<html>\\(\\displaystyle \\frac{e^{x}}{{\\left(x + 1\\right)}^{2}} - \\frac{2 \\, e^{x}}{{\\left(x + 1\\right)}^{3}}\\)</html>"
      ],
      "text/latex": [
       "$\\displaystyle \\frac{e^{x}}{{\\left(x + 1\\right)}^{2}} - \\frac{2 \\, e^{x}}{{\\left(x + 1\\right)}^{3}}$"
      ],
      "text/plain": [
       "e^x/(x + 1)^2 - 2*e^x/(x + 1)^3"
      ]
     },
     "metadata": {},
     "output_type": "display_data"
    },
    {
     "data": {
      "text/html": [
       "<html>\\(\\displaystyle \\frac{1}{\\sqrt{-x^{2} + 1}}\\)</html>"
      ],
      "text/latex": [
       "$\\displaystyle \\frac{1}{\\sqrt{-x^{2} + 1}}$"
      ],
      "text/plain": [
       "1/sqrt(-x^2 + 1)"
      ]
     },
     "metadata": {},
     "output_type": "display_data"
    },
    {
     "data": {
      "text/html": [
       "<html>\\(\\displaystyle \\frac{x}{{\\left(-x^{2} + 1\\right)}^{\\frac{3}{2}}}\\)</html>"
      ],
      "text/latex": [
       "$\\displaystyle \\frac{x}{{\\left(-x^{2} + 1\\right)}^{\\frac{3}{2}}}$"
      ],
      "text/plain": [
       "x/(-x^2 + 1)^(3/2)"
      ]
     },
     "metadata": {},
     "output_type": "display_data"
    },
    {
     "data": {
      "text/html": [
       "<html>\\(\\displaystyle \\frac{3 \\, x^{2}}{{\\left(-x^{2} + 1\\right)}^{\\frac{5}{2}}} + \\frac{1}{{\\left(-x^{2} + 1\\right)}^{\\frac{3}{2}}}\\)</html>"
      ],
      "text/latex": [
       "$\\displaystyle \\frac{3 \\, x^{2}}{{\\left(-x^{2} + 1\\right)}^{\\frac{5}{2}}} + \\frac{1}{{\\left(-x^{2} + 1\\right)}^{\\frac{3}{2}}}$"
      ],
      "text/plain": [
       "3*x^2/(-x^2 + 1)^(5/2) + 1/(-x^2 + 1)^(3/2)"
      ]
     },
     "metadata": {},
     "output_type": "display_data"
    }
   ],
   "source": [
    "# Ex. 10\n",
    "x=var('x')\n",
    "f(x)=2*x+2*x^3/3\n",
    "show((e^(3*x)-e^(-x))/e^x)\n",
    "n(f(1/3))\n",
    "show(diff(ln(1+x)*e^x, x))\n",
    "show(diff(e^x/(1+x), x))\n",
    "show(diff(e^x/(1+x)^2, x))\n",
    "show(diff(arcsin(x), x))\n",
    "show(diff(arcsin(x), x, 2))\n",
    "show(diff(arcsin(x), x, 3))"
   ]
  },
  {
   "cell_type": "code",
   "execution_count": 14,
   "metadata": {},
   "outputs": [
    {
     "data": {
      "text/html": [
       "<html>\\(\\displaystyle \\frac{2 \\, x}{x^{2} + 1}\\)</html>"
      ],
      "text/latex": [
       "$\\displaystyle \\frac{2 \\, x}{x^{2} + 1}$"
      ],
      "text/plain": [
       "2*x/(x^2 + 1)"
      ]
     },
     "metadata": {},
     "output_type": "display_data"
    },
    {
     "data": {
      "text/html": [
       "<html>\\(\\displaystyle -\\frac{4 \\, x^{2}}{{\\left(x^{2} + 1\\right)}^{2}} + \\frac{2}{x^{2} + 1}\\)</html>"
      ],
      "text/latex": [
       "$\\displaystyle -\\frac{4 \\, x^{2}}{{\\left(x^{2} + 1\\right)}^{2}} + \\frac{2}{x^{2} + 1}$"
      ],
      "text/plain": [
       "-4*x^2/(x^2 + 1)^2 + 2/(x^2 + 1)"
      ]
     },
     "metadata": {},
     "output_type": "display_data"
    },
    {
     "data": {
      "text/html": [
       "<html>\\(\\displaystyle \\frac{16 \\, x^{3}}{{\\left(x^{2} + 1\\right)}^{3}} - \\frac{12 \\, x}{{\\left(x^{2} + 1\\right)}^{2}}\\)</html>"
      ],
      "text/latex": [
       "$\\displaystyle \\frac{16 \\, x^{3}}{{\\left(x^{2} + 1\\right)}^{3}} - \\frac{12 \\, x}{{\\left(x^{2} + 1\\right)}^{2}}$"
      ],
      "text/plain": [
       "16*x^3/(x^2 + 1)^3 - 12*x/(x^2 + 1)^2"
      ]
     },
     "metadata": {},
     "output_type": "display_data"
    },
    {
     "data": {
      "text/html": [
       "<html>\\(\\displaystyle -\\frac{96 \\, x^{4}}{{\\left(x^{2} + 1\\right)}^{4}} + \\frac{96 \\, x^{2}}{{\\left(x^{2} + 1\\right)}^{3}} - \\frac{12}{{\\left(x^{2} + 1\\right)}^{2}}\\)</html>"
      ],
      "text/latex": [
       "$\\displaystyle -\\frac{96 \\, x^{4}}{{\\left(x^{2} + 1\\right)}^{4}} + \\frac{96 \\, x^{2}}{{\\left(x^{2} + 1\\right)}^{3}} - \\frac{12}{{\\left(x^{2} + 1\\right)}^{2}}$"
      ],
      "text/plain": [
       "-96*x^4/(x^2 + 1)^4 + 96*x^2/(x^2 + 1)^3 - 12/(x^2 + 1)^2"
      ]
     },
     "metadata": {},
     "output_type": "display_data"
    },
    {
     "data": {
      "text/html": [
       "<html>\\(\\displaystyle -2 \\, x y\\)</html>"
      ],
      "text/latex": [
       "$\\displaystyle -2 \\, x y$"
      ],
      "text/plain": [
       "-2*x*y"
      ]
     },
     "metadata": {},
     "output_type": "display_data"
    },
    {
     "data": {
      "text/html": [
       "<html>\\(\\displaystyle -2 \\, y\\)</html>"
      ],
      "text/latex": [
       "$\\displaystyle -2 \\, y$"
      ],
      "text/plain": [
       "-2*y"
      ]
     },
     "metadata": {},
     "output_type": "display_data"
    },
    {
     "data": {
      "text/html": [
       "<html>\\(\\displaystyle 0\\)</html>"
      ],
      "text/latex": [
       "$\\displaystyle 0$"
      ],
      "text/plain": [
       "0"
      ]
     },
     "metadata": {},
     "output_type": "display_data"
    }
   ],
   "source": [
    "# Ex. 09 con.\n",
    "x=var('x')\n",
    "y=var('y')\n",
    "show(diff(log(x^2+1), x))\n",
    "show(diff(log(x^2+1), x, 2))\n",
    "show(diff(log(x^2+1), x, 3))\n",
    "show(diff(log(x^2+1), x, 4))\n",
    "show(diff(1-y*x^2, x))\n",
    "show(diff(1-y*x^2, x, 2))\n",
    "show(diff(1-y*x^2, x, 3))"
   ]
  },
  {
   "cell_type": "code",
   "execution_count": 26,
   "metadata": {},
   "outputs": [
    {
     "data": {
      "text/html": [
       "<html>\\(\\displaystyle -2 \\, \\cos\\left(x\\right) \\sin\\left(x\\right)\\)</html>"
      ],
      "text/latex": [
       "$\\displaystyle -2 \\, \\cos\\left(x\\right) \\sin\\left(x\\right)$"
      ],
      "text/plain": [
       "-2*cos(x)*sin(x)"
      ]
     },
     "metadata": {},
     "output_type": "display_data"
    },
    {
     "data": {
      "text/html": [
       "<html>\\(\\displaystyle -2 \\, \\cos\\left(2 \\, x\\right)\\)</html>"
      ],
      "text/latex": [
       "$\\displaystyle -2 \\, \\cos\\left(2 \\, x\\right)$"
      ],
      "text/plain": [
       "-2*cos(2*x)"
      ]
     },
     "metadata": {},
     "output_type": "display_data"
    },
    {
     "data": {
      "text/html": [
       "<html>\\(\\displaystyle \\frac{1}{x^{2} + 1}\\)</html>"
      ],
      "text/latex": [
       "$\\displaystyle \\frac{1}{x^{2} + 1}$"
      ],
      "text/plain": [
       "1/(x^2 + 1)"
      ]
     },
     "metadata": {},
     "output_type": "display_data"
    },
    {
     "data": {
      "text/html": [
       "<html>\\(\\displaystyle -\\frac{2 \\, x}{{\\left(x^{2} + 1\\right)}^{2}}\\)</html>"
      ],
      "text/latex": [
       "$\\displaystyle -\\frac{2 \\, x}{{\\left(x^{2} + 1\\right)}^{2}}$"
      ],
      "text/plain": [
       "-2*x/(x^2 + 1)^2"
      ]
     },
     "metadata": {},
     "output_type": "display_data"
    },
    {
     "data": {
      "text/html": [
       "<html>\\(\\displaystyle \\frac{8 \\, x^{2}}{{\\left(x^{2} + 1\\right)}^{3}} - \\frac{2}{{\\left(x^{2} + 1\\right)}^{2}}\\)</html>"
      ],
      "text/latex": [
       "$\\displaystyle \\frac{8 \\, x^{2}}{{\\left(x^{2} + 1\\right)}^{3}} - \\frac{2}{{\\left(x^{2} + 1\\right)}^{2}}$"
      ],
      "text/plain": [
       "8*x^2/(x^2 + 1)^3 - 2/(x^2 + 1)^2"
      ]
     },
     "metadata": {},
     "output_type": "display_data"
    },
    {
     "data": {
      "text/html": [
       "<html>\\(\\displaystyle \\frac{2 \\, x}{x^{2} + 1}\\)</html>"
      ],
      "text/latex": [
       "$\\displaystyle \\frac{2 \\, x}{x^{2} + 1}$"
      ],
      "text/plain": [
       "2*x/(x^2 + 1)"
      ]
     },
     "metadata": {},
     "output_type": "display_data"
    },
    {
     "data": {
      "text/html": [
       "<html>\\(\\displaystyle -\\frac{4 \\, x^{2}}{{\\left(x^{2} + 1\\right)}^{2}} + \\frac{2}{x^{2} + 1}\\)</html>"
      ],
      "text/latex": [
       "$\\displaystyle -\\frac{4 \\, x^{2}}{{\\left(x^{2} + 1\\right)}^{2}} + \\frac{2}{x^{2} + 1}$"
      ],
      "text/plain": [
       "-4*x^2/(x^2 + 1)^2 + 2/(x^2 + 1)"
      ]
     },
     "metadata": {},
     "output_type": "display_data"
    },
    {
     "data": {
      "text/html": [
       "<html>\\(\\displaystyle \\frac{16 \\, x^{3}}{{\\left(x^{2} + 1\\right)}^{3}} - \\frac{12 \\, x}{{\\left(x^{2} + 1\\right)}^{2}}\\)</html>"
      ],
      "text/latex": [
       "$\\displaystyle \\frac{16 \\, x^{3}}{{\\left(x^{2} + 1\\right)}^{3}} - \\frac{12 \\, x}{{\\left(x^{2} + 1\\right)}^{2}}$"
      ],
      "text/plain": [
       "16*x^3/(x^2 + 1)^3 - 12*x/(x^2 + 1)^2"
      ]
     },
     "metadata": {},
     "output_type": "display_data"
    },
    {
     "data": {
      "text/html": [
       "<html>\\(\\displaystyle -\\frac{96 \\, x^{4}}{{\\left(x^{2} + 1\\right)}^{4}} + \\frac{96 \\, x^{2}}{{\\left(x^{2} + 1\\right)}^{3}} - \\frac{12}{{\\left(x^{2} + 1\\right)}^{2}}\\)</html>"
      ],
      "text/latex": [
       "$\\displaystyle -\\frac{96 \\, x^{4}}{{\\left(x^{2} + 1\\right)}^{4}} + \\frac{96 \\, x^{2}}{{\\left(x^{2} + 1\\right)}^{3}} - \\frac{12}{{\\left(x^{2} + 1\\right)}^{2}}$"
      ],
      "text/plain": [
       "-96*x^4/(x^2 + 1)^4 + 96*x^2/(x^2 + 1)^3 - 12/(x^2 + 1)^2"
      ]
     },
     "metadata": {},
     "output_type": "display_data"
    }
   ],
   "source": [
    "# (* Ex. 09 con. *)\n",
    "x=var('x')\n",
    "show(diff(cos(x)^2, x))\n",
    "show(diff(-sin(2*x), x))\n",
    "show(diff(arctan(x), x))\n",
    "show(diff(diff(arctan(x), x), x))\n",
    "show(diff(diff(diff(arctan(x), x), x), x))"
   ]
  },
  {
   "cell_type": "code",
   "execution_count": 1,
   "metadata": {},
   "outputs": [
    {
     "ename": "NameError",
     "evalue": "name 'Series' is not defined",
     "output_type": "error",
     "traceback": [
      "\u001b[0;31m---------------------------------------------------------------------------\u001b[0m",
      "\u001b[0;31mNameError\u001b[0m                                 Traceback (most recent call last)",
      "Cell \u001b[0;32mIn[1], line 1\u001b[0m\n\u001b[0;32m----> 1\u001b[0m \u001b[43mSeries\u001b[49m[Tan[x], {x, Integer(\u001b[38;5;241m0\u001b[39m), Integer(\u001b[38;5;241m5\u001b[39m)}]\n\u001b[1;32m      2\u001b[0m Series[Cos[x]\u001b[38;5;241m*\u001b[39m\u001b[38;5;241m*\u001b[39mInteger(\u001b[38;5;241m2\u001b[39m), {x, Integer(\u001b[38;5;241m0\u001b[39m), Integer(\u001b[38;5;241m4\u001b[39m)}]\n\u001b[1;32m      3\u001b[0m Series[ArcTan[x], {x, Integer(\u001b[38;5;241m0\u001b[39m), Integer(\u001b[38;5;241m5\u001b[39m)}]\n",
      "\u001b[0;31mNameError\u001b[0m: name 'Series' is not defined"
     ]
    }
   ],
   "source": [
    "Series[Tan[x], {x, 0, 5}]\n",
    "Series[Cos[x]^2, {x, 0, 4}]\n",
    "Series[ArcTan[x], {x, 0, 5}]\n",
    "Series[E^(x^2), {x, 0, 4}]"
   ]
  },
  {
   "cell_type": "markdown",
   "metadata": {},
   "source": [
    "$$\\mathrm{f}(x)=\\tan(x)$$\n",
    "\n",
    "$$\\mathrm{f}^{(4)}(x)=16\\tan(x)+40\\tan^3(x)+24\\tan^5(x)$$\n",
    "\n",
    "$$\\mathrm{f}^{(5)}(x)=16+136\\tan^2(x)+240\\tan^4(x)+120\\tan^6(x)$$"
   ]
  },
  {
   "cell_type": "code",
   "execution_count": 18,
   "metadata": {},
   "outputs": [
    {
     "ename": "SyntaxError",
     "evalue": "invalid decimal literal (4198175537.py, line 4)",
     "output_type": "error",
     "traceback": [
      "\u001b[0;36m  Cell \u001b[0;32mIn[18], line 4\u001b[0;36m\u001b[0m\n\u001b[0;31m    D[Tan[x]**Integer(2), x]  (* 2Tan[x]+2Tan[x]**Integer(3) *)\u001b[0m\n\u001b[0m                                 ^\u001b[0m\n\u001b[0;31mSyntaxError\u001b[0m\u001b[0;31m:\u001b[0m invalid decimal literal\n"
     ]
    }
   ],
   "source": [
    "(* Ex. 09 Maclaurin Series *)\n",
    "Expand[(1-x+x^2/2-x^3/6)(1+x+x^2/2+x^3/6)]\n",
    "D[Tan[x], x]  (* Tan[x]^2+1 *)af\n",
    "D[Tan[x]^2, x]  (* 2Tan[x]+2Tan[x]^3 *)\n",
    "D[Tan[x]^3, x]  (* 3Tan[x]^2+3Tan[x]^4 *)\n",
    "D[Tan[x]^4, x]  (* 4Tan[x]^3+4Tan[x]^5 *)\n",
    "D[Tan[x]^5, x]  (* 5Tan[x]^4+5Tan[x]^6 *)"
   ]
  },
  {
   "cell_type": "markdown",
   "metadata": {
    "jp-MarkdownHeadingCollapsed": true
   },
   "source": [
    "### Module 4 - Applications of Integration"
   ]
  },
  {
   "cell_type": "markdown",
   "metadata": {},
   "source": [
    "Parametric Rewriting for Volume of Revolution\n",
    "\n",
    "For parametric equations, when t is the unit($a \\leqslant t \\leqslant b$) : \n",
    "\n",
    "For rotation about the $x$ axis, \n",
    "\n",
    "$$V_x = \\pi\\int^{x_b}_{x_a} y^2 \\mathrm{d}x = \\pi\\int^{b}_{a} y^2 \\frac{\\mathrm{d}x} {\\mathrm{d}t}\\mathrm{d}t$$\n",
    "\n",
    "For rotation about the $y$ axis, \n",
    "\n",
    "$$V_y=\\pi\\int^{y_b}_{y_a} x^2 \\mathrm{d}y = \\pi\\int^{b}_{a} x^2 \\frac{\\mathrm{d}y}{\\mathrm{d}t}\\mathrm{d}t$$\n",
    "\n",
    "If not parametric equations, then just use first part of formula."
   ]
  },
  {
   "cell_type": "code",
   "execution_count": 30,
   "metadata": {},
   "outputs": [
    {
     "ename": "SyntaxError",
     "evalue": "invalid decimal literal (56963037.py, line 2)",
     "output_type": "error",
     "traceback": [
      "\u001b[0;36m  Cell \u001b[0;32mIn[30], line 2\u001b[0;36m\u001b[0m\n\u001b[0;31m    Integer(4)/(3Pi)//N\u001b[0m\n\u001b[0m                ^\u001b[0m\n\u001b[0;31mSyntaxError\u001b[0m\u001b[0;31m:\u001b[0m invalid decimal literal\n"
     ]
    }
   ],
   "source": [
    "(* Ex. 08 The mean of a Function *)\n",
    "4/(3Pi)//N\n",
    "(Sqrt[Pi]/2)^2"
   ]
  },
  {
   "cell_type": "code",
   "execution_count": 31,
   "metadata": {},
   "outputs": [
    {
     "ename": "SyntaxError",
     "evalue": "invalid syntax. Perhaps you forgot a comma? (2822666727.py, line 1)",
     "output_type": "error",
     "traceback": [
      "\u001b[0;36m  Cell \u001b[0;32mIn[31], line 1\u001b[0;36m\u001b[0m\n\u001b[0;31m    (* Ex. Integer(8) The mean of a Function *)\u001b[0m\n\u001b[0m       ^\u001b[0m\n\u001b[0;31mSyntaxError\u001b[0m\u001b[0;31m:\u001b[0m invalid syntax. Perhaps you forgot a comma?\n"
     ]
    }
   ],
   "source": [
    "(* Ex. 08 The mean of a Function *)\n",
    "Expand[(x^2+2)^2]\n",
    "2/Sqrt[3]//N\n",
    "(32/5+32/3+8)/2//N   (* Find mean values by using definite integral to calculate area *)\n",
    "(E^5-27/2)/5//N\n",
    "(Log[4]-Log[6]+Log[3])/2/3//N"
   ]
  },
  {
   "cell_type": "code",
   "execution_count": 20,
   "metadata": {},
   "outputs": [
    {
     "data": {
      "text/html": [
       "<div><img alt=\"Output\" src=\"data:image/png;base64,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\"></div>"
      ],
      "text/plain": [
       "-Graphics-"
      ]
     },
     "execution_count": 20,
     "metadata": {
      "text/html": [],
      "text/plain": []
     },
     "output_type": "execute_result"
    }
   ],
   "source": [
    "Plot[2ArcCos[x], {x, 0, 1}]"
   ]
  },
  {
   "cell_type": "code",
   "execution_count": 50,
   "metadata": {},
   "outputs": [
    {
     "data": {
      "text/html": [
       "<div><img alt=\"Output\" src=\"data:image/png;base64,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\"></div>"
      ],
      "text/plain": [
       "-Graphics-"
      ]
     },
     "execution_count": 50,
     "metadata": {
      "text/html": [],
      "text/plain": []
     },
     "output_type": "execute_result"
    }
   ],
   "source": [
    "f[t_]:=-4Sin[t]^3\n",
    "Plot[f[t], {t, -3Pi, 3Pi}]"
   ]
  },
  {
   "cell_type": "code",
   "execution_count": null,
   "metadata": {},
   "outputs": [
    {
     "data": {
      "text/html": [
       "<style>\n",
       "\t\t\t\t\t\t\t\t\t\t\t\t\t.grid-container {\n",
       "\t\t\t\t\t\t\t\t\t\t\t\t\t\tdisplay: inline-grid;\n",
       "\t\t\t\t\t\t\t\t\t\t\t\t\t\tgrid-template-columns: auto;\n",
       "\t\t\t\t\t\t\t\t\t\t\t\t\t}\n",
       "\t\t\t\t\t\t\t\t\t\t\t\t</style>\n",
       "\n",
       "\t\t\t\t\t\t\t\t\t\t\t\t<div><div class=\"grid-container\"><div class=\"grid-item\"><img alt=\"Output\" src=\"data:image/png;base64,iVBORw0KGgoAAAANSUhEUgAAABEAAAAmCAIAAACtcOe4AAAA0HpUWHRSYXcgcHJvZmlsZSB0eXBlIGV4aWYAAHjabU9bbsQgDPznFHsEY5sxHIfsslJv0OPvEFArqo4U5pGxE9L4/nqnx4RmSV6iogFCePOmnaLKwuIs7T6X2Ux/5Emx886o/L7A2Pl15rH7Wv8sEl3C5heozffAXmS68tyXv3Zfe63noksOQH5+/V/vFoqCHM7TVSLQqGuiJKGolMAbT4DFjJeKP8kDERxDzIb1OTihI872SDAGr3kFm49bt0zudI2j2Rp1sbgT14tJvvW8zgctaFq2a3iSCgAAAAlwSFlzAAAOxAAADsQBlSsOGwAAADx0RVh0U29mdHdhcmUAQ3JlYXRlZCB3aXRoIHRoZSBXb2xmcmFtIExhbmd1YWdlIDogd3d3LndvbGZyYW0uY29tXKKmhQAAACF0RVh0Q3JlYXRpb24gVGltZQAyMDI0OjEyOjA5IDE5OjU3OjA0uwAvaAAAAQ5JREFUOI3tlb2NhDAQhZfTlkAFuAciSEhMCYiI1BQACQ0YkVPC0AKxHdEAJLYQjfgC362QbRCcdKcL9iWekebzG/Cfp5R63JX6lhDiqIYQonZ6KEsYYx0AAADYBR/GlFLKIAh0vG1bGIa2rclM05TnuY7XdX3x7u8xGjPiw94450mSvFK3ieGDENqnAMAYs32+GMaY3ac9i5an7q+p+d/ezO8xTz3M87wsy0ldHMe+7//c570P/gGTpqnneWVZXmWGYRjH8Z5P0zSUUoTQVaZtWyFEVVVXfaSUdV0DwBHgYLquwxhnWXbCPPcJ57zve33XXfUpioIQEkXROXPpzaKUOu5epxBCxgun9Vfn9BPzuV0F3l20EAAAAABJRU5ErkJggg==\"></div><div class=\"grid-item\"><img alt=\"Output\" src=\"data:image/png;base64,iVBORw0KGgoAAAANSUhEUgAAAEMAAAAVCAIAAACSf8TOAAAAz3pUWHRSYXcgcHJvZmlsZSB0eXBlIGV4aWYAAHjabU/bDQMhDPtnio6QFw6Mw/Wo1A06fsOBWlHVErHjPIDUX89Hug0IU7LsBRWggFWr0kIUmpjMVK94wXTVePcT5+W3sPK3gL78Y/cdk6X8LCKZQscNodXWwFqkMn1uMz9Wv7RS9kUHbQB9nv43N3VBBrtFNCF31NAlhQxCFsqOB+5ANDJOIbsHd7jHGHx0aBuDA9J97+4JGsY5vqDjmDbl4BZZjVHWGjqrX47JEQ5fenznDTIHWrnw/ZdqAAAACXBIWXMAAA7EAAAOxAGVKw4bAAAAPHRFWHRTb2Z0d2FyZQBDcmVhdGVkIHdpdGggdGhlIFdvbGZyYW0gTGFuZ3VhZ2UgOiB3d3cud29sZnJhbS5jb21coqaFAAAAIXRFWHRDcmVhdGlvbiBUaW1lADIwMjQ6MTI6MDkgMTk6NTc6MDS7AC9oAAABzUlEQVRYhe1Xy40CMQw1q60CccK0MVxDGVxTykwDUwLUwHVGHOghc0D04T08ZJn8hpVWWoR4B0QSx/jZz45YiAi9Bb7+O4A/w4fJ6+HtmGw2m8UjpmlSo+PxaI9++xvTNOHiOI66udvtSj7HcbRHXdelPruuU4O7WxEREWZu21ZyOBwORBRCwNI5p7eeBK4Q0TAMWQPvfclnCIGIotiIyDkXWc4zcc7Za8MwWGKzgD3SUWICm9JpFID3PqUhIt+z2liv16fTSZe32w2bT0prv99771er1azlcrmsxKDf+74H8xhak3QTQH2xidSWqpeibVtcrGedmb332aNI27bCgNYno07IOtLPrNazwK+WmKhPSprEZt0mDhysuogIWcj3mb2PmsAaOS7lL4L3npltZKUsID5wTsHM6icqkZiyF5louMxsc1DvXUUUep2JJG1dcpXOG8QjIpmXES/JdrvFMoRgGw69i76v4Hw+E1HTNBj5TdPo0r5UFvUpgnmAz8vlovvX6/Xe5NmC2PREbYPZH3URnFZSXq8JFFKa7PSoZ/v4QPmQJdlQgFSvtjVT8jrcSkLPMrEOI12BmCLlDzLR6UI+/09eDR8mr4f3YfID87T1lmZ3uvYAAAAASUVORK5CYII=\"></div><div class=\"grid-item\"><img alt=\"Output\" src=\"data:image/png;base64,iVBORw0KGgoAAAANSUhEUgAAAF8AAAAVCAIAAACv7aWoAAAAz3pUWHRSYXcgcHJvZmlsZSB0eXBlIGV4aWYAAHjabU/bDQMhDPtnio6QFw6Mw7Wc1A06fsOBWlHVErHjPIDUX88z3QaEKVn2ggpQwKpVaSEKTUxmqle8kM9V491PnJffwsrfAvryj913TJbys4hkCh03hFZbA2uRyvS5zfxY/dJK2RcdtAH0efrf3NQFGewW0YTcUUOXFDIIWSg7TtyBaGQ8hOwe3OEeY/DRoW0MDkj3vbsnaBiP8QUdx7QpB7fIaoyy1tBZ/XJMjnD40uM7b36cWu3T7JQYAAAACXBIWXMAAA7EAAAOxAGVKw4bAAAAPHRFWHRTb2Z0d2FyZQBDcmVhdGVkIHdpdGggdGhlIFdvbGZyYW0gTGFuZ3VhZ2UgOiB3d3cud29sZnJhbS5jb21coqaFAAAAIXRFWHRDcmVhdGlvbiBUaW1lADIwMjQ6MTI6MDkgMTk6NTc6MDS7AC9oAAABzElEQVRYhe2YMY7CMBBFx6s9BaJzruHaHCF0VEjOAbhDImo4gjkCNXbFHWJxk9litJE34GAneNmV8grkONH84WfGNjBEhJkAH+9O4AlFUTDGGGPW2txa1lrGWNM03cyfdqdpmu12i4jGGCFEbjkhhJTSn/nMLTmF3W5Hg8VikVurqiqt9eVy8Sf/dO10XK/X3lt9LdZa51xZlr35H+5Qk59Op+l6zjnmMTHUer0+HA7Tswqx2Wwex0dERKzrGgC01vSJ02jbFgCMMXTJOeecvyRUDowxPU+6bAERtdZSyu656e70INNHfMNfsKaHUqqu6+7yAwDKsjyfz/nqdrlchm5VVdXbRKkTnXMAsN/vAUAIQZP+YyMY1nqM71x87Sil4l8ItW3btqFQ3V0ax0dOTSlVK7s71B3UuSGklJzz0Q2YlFKSVnZ37it04DG/51NJTSlGK+28s1qtqFePx2PMbl0UBVXycNiu82+3W1I+I1JK0/Ktem3tcM4hvNz4AIBSauKOGVk7SVq53KGjbcwiQgsBjWn9Hrf0xLiTqgX4vXD2GD6/Dadyf74KBaT68lO8n4nkqTsjtBjO/++E+R+/Qt/F7M4QsztDzO4M8QVF6RTIW8oj8gAAAABJRU5ErkJggg==\"></div><div class=\"grid-item\"><img alt=\"Output\" src=\"data:image/png;base64,iVBORw0KGgoAAAANSUhEUgAAAEMAAAAVCAIAAACSf8TOAAAAz3pUWHRSYXcgcHJvZmlsZSB0eXBlIGV4aWYAAHjabU/bDQMhDPtnio6QFw6Mw/Wo1A06fsOBWlHVErHjPIDUX89Hug0IU7LsBRWggFWr0kIUmpjMVK94wXTVePcT5+W3sPK3gL78Y/cdk6X8LCKZQscNodXWwFqkMn1uMz9Wv7RS9kUHbQB9nv43N3VBBrtFNCF31NAlhQxCFsqOB+5ANDJOIbsHd7jHGHx0aBuDA9J97+4JGsY5vqDjmDbl4BZZjVHWGjqrX47JEQ5fenznDTIHWrnw/ZdqAAAACXBIWXMAAA7EAAAOxAGVKw4bAAAAPHRFWHRTb2Z0d2FyZQBDcmVhdGVkIHdpdGggdGhlIFdvbGZyYW0gTGFuZ3VhZ2UgOiB3d3cud29sZnJhbS5jb21coqaFAAAAIXRFWHRDcmVhdGlvbiBUaW1lADIwMjQ6MTI6MDkgMTk6NTc6MDS7AC9oAAAB8UlEQVRYhe1Xy43CMBCdrLYKhDjELiMnLk4NdJDUwSUpAEpISuBun6iBiRBCtDF7GLAG24GstNIixDsRe/7zZiwyIoK3wNd/B/Bn+GTyeni7TIZhyARiub7vsyzTWsdXWmuv2Lbtr9y3bet1nXN86JzL7lGWpVcpyzK4vSoSESICgLWWiIhIKaWUIgEAqKrKGBOcs3BVVfzbWgsATdPQNACAMSY+ZzuImNQyxniPEl8AkOc5ERVFwUmv12tE9BXSWltrN5tNXFHnHCKuViv+LIrCGHM8Hqd0o65rY8xut/tVDx/gOz6az+fy83A4jCnPZjMAOJ/PUni5XE5xvN1uufZ/hrhNTdNAqrlJdlVVBTdGKaWSBsf403WdD0PSLMgw4JIxRt76OEPHPDNJ+iYzkY6TWklwDlI+jvhpPHSrI094mMlYo8YyYVtcmKBITzORkkyEicISfuXcvSe8ZLkMU9D3PdM9z3OOQylV1/VTxWAUAWCxWDxWuVwuY1fDMIB8GbXWiIiIHNYUnE4nuM29N/JgQ3iwyn6/l6Z4zMa8+NUaABGvO8YzB8STMpFdPCGe39zMgO7MjTFaSsWu68aolbyi+6cPKNoVDC/BLgN404Fu/CzyAEBqBqRlWUS502JF2TrpLqPP/5NXwyeT18P7ZPIDSdLQPErY9REAAAAASUVORK5CYII=\"></div><div class=\"grid-item\"><img alt=\"Output\" src=\"data:image/png;base64,iVBORw0KGgoAAAANSUhEUgAAAEMAAAAVCAIAAACSf8TOAAAAz3pUWHRSYXcgcHJvZmlsZSB0eXBlIGV4aWYAAHjabU/bDQMhDPtnio6QFw6Mw/Wo1A06fsOBWlHVErHjPIDUX89Hug0IU7LsBRWggFWr0kIUmpjMVK94wXTVePcT5+W3sPK3gL78Y/cdk6X8LCKZQscNodXWwFqkMn1uMz9Wv7RS9kUHbQB9nv43N3VBBrtFNCF31NAlhQxCFsqOB+5ANDJOIbsHd7jHGHx0aBuDA9J97+4JGsY5vqDjmDbl4BZZjVHWGjqrX47JEQ5fenznDTIHWrnw/ZdqAAAACXBIWXMAAA7EAAAOxAGVKw4bAAAAPHRFWHRTb2Z0d2FyZQBDcmVhdGVkIHdpdGggdGhlIFdvbGZyYW0gTGFuZ3VhZ2UgOiB3d3cud29sZnJhbS5jb21coqaFAAAAIXRFWHRDcmVhdGlvbiBUaW1lADIwMjQ6MTI6MDkgMTk6NTc6MDS7AC9oAAABrklEQVRYhe2Xza3CMAyA3TcHQgh3Bk6cuKQjsELZpBOwQcse7RjkgtjD72DVGMfJAwnpIcR3InX8b0eiIiL4CH7+O4CX8c3k/fi4TOq6rmbqujaXTqdTpXjc+jRNonU4HLSoaZrqnmmaUi2maRo3kruQKCGEgIhyHIYBAGKMInW1UowiALRtq73oo2YcR61YJoQQQiAiJ6Y0dL76rBtE7LrOmH1tJnxzGAYiyu7Jer2WH+fzWb5fr1ctLRBjXC6XctxsNjw5fyo+Tt/3iLjf7wG8OQEAXcsYI6tJXbW0gGuH60fzlOq0TaWFXOuMwVsmiMiaekkEcTyO4yNpEFHbtnA/TtpxetO1zOHq8c7Zd3rSdZ22y7a4MCzKFSlFF577mSsEIubMmr3VUeme+6+QtouIuiTlgArwzOSkxovG9WgaQoWNX61WMsF6vxeLBcx7/xR937N7lxjjbrdzRZfLBQC2263+eDwerbW0Bu58S3NZanrNpgqN4iUsSN3llIaY7eIhtzGQep2YdF7NO2Okom78cRBM+tzJA5NKtWLOXRpkRd//J+/GN5P343My+QVVdQWi93UkFgAAAABJRU5ErkJggg==\"></div><div class=\"grid-item\"><img alt=\"Output\" src=\"data:image/png;base64,iVBORw0KGgoAAAANSUhEUgAAADoAAAAVCAIAAACYI2qcAAAAz3pUWHRSYXcgcHJvZmlsZSB0eXBlIGV4aWYAAHjabU/bDcMgEPtnio5wL3wwDkmI1A06fo8EtaKqJbDxPUn99TzTY0CYkmUvqAAFrFqVFqLQjZuZ6nVf0DZjvPqJ8/RbWPkbQJ/+tvqOm6X8NCKZk8aE0GqzYDZSuX2em2wzX1opa6ONFoA+q/99m7ogg93iNiF31NAlhQxCFsqOEzsQiYxDyPbgDvcog48MbaNwQLqv2T1BwzjGF3Qc06Yc3OJVo5S1hs7ql2OyhcOXHt95A3RLWubszHZ9AAAACXBIWXMAAA7EAAAOxAGVKw4bAAAAPHRFWHRTb2Z0d2FyZQBDcmVhdGVkIHdpdGggdGhlIFdvbGZyYW0gTGFuZ3VhZ2UgOiB3d3cud29sZnJhbS5jb21coqaFAAAAIXRFWHRDcmVhdGlvbiBUaW1lADIwMjQ6MTI6MDkgMTk6NTc6MDS7AC9oAAABsklEQVRIie1Wy5HCMAyVd7YKTgxOGXB2WnHODNRgF0ALoQWumDIQk1Pa8B4ERviTMQdmYYZ3iiVZfpZelAjvPXwOfv6bwHP40n0lPpxu27ZCiK7r6lM0TSNu4PbT6SQYrLXZ7V3XCSHatp3Ye7lcrg7P0Pc9GbXWvg4AYIyhZ611lDAAEXlkgHOOTlRKRUbnHE+LiN77h+xSSmOMlLKSLgVH7Pu+zwYrpTinYNRaRy6tNU9LVyX2dzFYaxFxs9nUy2AYhqZpuEUpdTweS/GLxYIv9/v94XBYr9dR2Hw+J4qEcRwBYDab3cVAbipMfXWjMpRK6G8yo4byVpA80l1EFBFJGIEPhIPDhnq6lCt0nzilKiREwuVCyl6SJAuP6gKfSLuermdvJ9WAtJiNlFIGfryZWbrh2lEJIOX3FN2UU+lV40WJ+KVLrjHeQ+CijpDOnWlQ3mnvdR4VQGWSUnL2fAhmsmera4yJdJkNKJWWKJaalg4yLk7KTMvf0kUjDMMAAOfzObKHLxm1j7ustdvtNiydc8vlsuas3W4HAKvVKlgQkYagmGjNG+LDf3HeHF+6r8QftCpFbobN9FIAAAAASUVORK5CYII=\"></div><div class=\"grid-item\"><img alt=\"Output\" src=\"data:image/png;base64,iVBORw0KGgoAAAANSUhEUgAAAEMAAAAVCAIAAACSf8TOAAAAz3pUWHRSYXcgcHJvZmlsZSB0eXBlIGV4aWYAAHjabU/bDQMhDPtnio6QFw6Mw/Wo1A06fsOBWlHVErHjPIDUX89Hug0IU7LsBRWggFWr0kIUmpjMVK94wXTVePcT5+W3sPK3gL78Y/cdk6X8LCKZQscNodXWwFqkMn1uMz9Wv7RS9kUHbQB9nv43N3VBBrtFNCF31NAlhQxCFsqOB+5ANDJOIbsHd7jHGHx0aBuDA9J97+4JGsY5vqDjmDbl4BZZjVHWGjqrX47JEQ5fenznDTIHWrnw/ZdqAAAACXBIWXMAAA7EAAAOxAGVKw4bAAAAPHRFWHRTb2Z0d2FyZQBDcmVhdGVkIHdpdGggdGhlIFdvbGZyYW0gTGFuZ3VhZ2UgOiB3d3cud29sZnJhbS5jb21coqaFAAAAIXRFWHRDcmVhdGlvbiBUaW1lADIwMjQ6MTI6MDkgMTk6NTc6MDS7AC9oAAAB40lEQVRYhe1XO67qMBA9uXqrQBQIZxlUNPYCKLKFsAZKmiD67ABSsIFQpHEq9mAXFGxjXjHcPF87P8SVHkKcAjmej+fEZyYiIiK8Bb7+dwG/hg+T18ObMonjOIqioihCP2tt9I31ej0mNWfzsNvt2KqU8kx1XbOprmvPpJRyM7sma+19l4iIKMsyAMfjkX/pJ9I0BWCMoSegtQagteZHKWWapj2eXce5FUopGwpfAIqiqKqKiKbTafhq67rO89wYM5/Px1xFF7bbrRBisVg8kwQAESVJwuvNZgOARfQHQJIkjS3E4XBI0/RJGtbasiz5zn8Rk8mkWQ93/Pl8ns1mruj/SXM09vu9EMJ7X3me9+QUQgy25eVyAXCXUihQr084plEt98xDHWKMAZBlWZcD52xaKIyVUrYGMuH7egwTtwhOHU6FHowhL4ToGgCsyXAACCHc/WF1cUCDRxvGWpvnOc/GQc8e6+12cx+VUsYYrXVTzzCTOI6rqvLOa51yrTidTgBWq1W/mzFmuVy2mq7XKwB36CmlyrLUWv+YhO59tarL25RShqrlVK1CB9AlG1cnjdxbpeWWxFoN5Q36lr4HNzWTYYRlNeEPfVJd0XrDwBvWrWd5IKKIPv9PXg0fJq+H92HyF04gb4qiaTDMAAAAAElFTkSuQmCC\"></div><div class=\"grid-item\"><img alt=\"Output\" src=\"data:image/png;base64,iVBORw0KGgoAAAANSUhEUgAAABkAAAAqCAIAAADJZWc3AAAA0HpUWHRSYXcgcHJvZmlsZSB0eXBlIGV4aWYAAHjabU/tbUQhDPvPFDdCvnBgHN4dJ3WDjn/JA7WiqiWwY+IAZX5/vcsjIUzFqjd0gALWrcsI0WhhMVO/91X0fcanX+5g1iOs+nuAuf3r9B2Lpf0ZRLKE5g2h1XZgD1JZPu8Lr90vo7Vz0EUHQD9P/7c2dUEFu8VuQu7ooVsJGYQqVB1vPIFoZLyE7Bk84R4xeHboyGBCpp/ds0DDeOUXNJfpUA4eUfWIsvbQVf12TK5w+Nb5nQ90UFrp9fXRUAAAAAlwSFlzAAAOxAAADsQBlSsOGwAAADx0RVh0U29mdHdhcmUAQ3JlYXRlZCB3aXRoIHRoZSBXb2xmcmFtIExhbmd1YWdlIDogd3d3LndvbGZyYW0uY29tXKKmhQAAACF0RVh0Q3JlYXRpb24gVGltZQAyMDI0OjEyOjA5IDE5OjU3OjA0uwAvaAAAAUdJREFUSIntVjuShCAQ7d7aIxgaWMpduIlVGM8lSEw9gmTkBiRyDOEqbEAN4yI66hrsVPkCFYFXrx+fbnTOwUX4uooozUUIQUQhxLLLWotPNE0Td7sZOOcA0Pe9f7rfYIwBgDHGreClSwihlHLO5Xm+VKS17rrOGFOW5WqQS/pxHJe6GGOMsTVFsa5tDMNQFIW30sNae1KXHxzM8t6d1AUAnPNg1uPxAIBorfdyVVU1byZXYC8XIUQpFZrerHjFd/oV/aSUUkqjiS8uY0wytIjOI7k/0H3M2b65PpDr27+klFLKE/OzLGvb1n/fe/XmOsI1z2CEkD9xTdMU7kxCyHu65VWbhC8yNooJdyg/wkoqO6wLADjnb8Zsd4cUO09IJ2MM9td1jYha6wti9Bq3y6Zj3hdFcYGuZJG0V9e8zEVET7St+r/eqz+hZdGPG20+PgAAAABJRU5ErkJggg==\"></div><div class=\"grid-item\"><img alt=\"Output\" src=\"data:image/png;base64,iVBORw0KGgoAAAANSUhEUgAAAE8AAAAVCAIAAACIQyRAAAAAz3pUWHRSYXcgcHJvZmlsZSB0eXBlIGV4aWYAAHjabU/bDQMhDPtnio6QFw6Mw7Wc1A06fsOBWlHVErHjPIDUX88z3QaEKVn2ggpQwKpVaSEKTUxmqle8YOeq8e4nzstvYeVvAX35x+47Jkv5WUQyhY4bQqutgbVIZfrcZn6sfmml7IsO2gD6PP1vbuqCDHaLaELuqKFLChmELJQdJ+5ANDIeQnYP7nCPMfjo0DYGB6T73t0TNIzH+IKOY9qUg1tkNUZZa+isfjkmRzh86fGdN30iWuwaJQHMAAAACXBIWXMAAA7EAAAOxAGVKw4bAAAAPHRFWHRTb2Z0d2FyZQBDcmVhdGVkIHdpdGggdGhlIFdvbGZyYW0gTGFuZ3VhZ2UgOiB3d3cud29sZnJhbS5jb21coqaFAAAAIXRFWHRDcmVhdGlvbiBUaW1lADIwMjQ6MTI6MDkgMTk6NTc6MDS7AC9oAAAB20lEQVRYhe1XO47CMBCd7DkQBc4x6J0jUNIOB6DiArHoaakIBQegT65hxE2yxUMjM3FMslrtSpBXET9n8t58bJG1bUsfg6//FvCnmNy+Lya3SRRFkWXZZrMZuD/P8+wZt9tN7RGqKApFOeeEbZoGi03ThAGdc7L/fD5nMTzodgyqqsJbzDzwFWNMWZZ9bFmWRFTXdZQlImttOr73nogSn7DWSpBxbiHdGPMrbiG0zyozv7QKhH4U6romoqqq8Diik51z3vvtdjv8lTQul4u1drlcRtnD4bDb7QaGWiwW0fXT6WSMWa1Wj+chyZM6IEljaxt+XtUEBRRW6iw1EaqvetjjvU9rBoa6DftqlNsQMCbKkAhxiBkGCw+hQ3o+LJAOoG9SmFnll0IdCiq0yPqxW4gWcd04wnYrhlxEYxpjjDFqMXp6Peb2er1GlQHr9ZqZ+wZsLO73O37kea4oafvZbKao+XzeF/B4PHrv5X4C9vs9EelT5mU1kKQoEud+IpQMEjOrmgjbHTncBdGwaD01uhS7JsfdQEC0k9Fp6TtDbVDNpsyHU9c1r8IqPeER8LQzZasHUbcQ101/2AtduWHjdDOFmEB4LcNMlJKY0ZMla6f/t++Kye374rPcfgOhCRjTd1Lp6QAAAABJRU5ErkJggg==\"></div><div class=\"grid-item\"><img alt=\"Output\" src=\"data:image/png;base64,iVBORw0KGgoAAAANSUhEUgAAAEMAAAAVCAIAAACSf8TOAAAAz3pUWHRSYXcgcHJvZmlsZSB0eXBlIGV4aWYAAHjabU/bDQMhDPtnio6QFw6Mw/Wo1A06fsOBWlHVErHjPIDUX89Hug0IU7LsBRWggFWr0kIUmpjMVK94wXTVePcT5+W3sPK3gL78Y/cdk6X8LCKZQscNodXWwFqkMn1uMz9Wv7RS9kUHbQB9nv43N3VBBrtFNCF31NAlhQxCFsqOB+5ANDJOIbsHd7jHGHx0aBuDA9J97+4JGsY5vqDjmDbl4BZZjVHWGjqrX47JEQ5fenznDTIHWrnw/ZdqAAAACXBIWXMAAA7EAAAOxAGVKw4bAAAAPHRFWHRTb2Z0d2FyZQBDcmVhdGVkIHdpdGggdGhlIFdvbGZyYW0gTGFuZ3VhZ2UgOiB3d3cud29sZnJhbS5jb21coqaFAAAAIXRFWHRDcmVhdGlvbiBUaW1lADIwMjQ6MTI6MDkgMTk6NTc6MDS7AC9oAAAB40lEQVRYhe1XO67qMBA9uXqrQBQIZxlUNPYCKLKFsAZKmiD67ABSsIFQpHEq9mAXFGxjXjHcPF87P8SVHkKcAjmej+fEZyYiIiK8Bb7+dwG/hg+T18ObMonjOIqioihCP2tt9I31ej0mNWfzsNvt2KqU8kx1XbOprmvPpJRyM7sma+19l4iIKMsyAMfjkX/pJ9I0BWCMoSegtQagteZHKWWapj2eXce5FUopGwpfAIqiqKqKiKbTafhq67rO89wYM5/Px1xFF7bbrRBisVg8kwQAESVJwuvNZgOARfQHQJIkjS3E4XBI0/RJGtbasiz5zn8Rk8mkWQ93/Pl8ns1mruj/SXM09vu9EMJ7X3me9+QUQgy25eVyAXCXUihQr084plEt98xDHWKMAZBlWZcD52xaKIyVUrYGMuH7egwTtwhOHU6FHowhL4ToGgCsyXAACCHc/WF1cUCDRxvGWpvnOc/GQc8e6+12cx+VUsYYrXVTzzCTOI6rqvLOa51yrTidTgBWq1W/mzFmuVy2mq7XKwB36CmlyrLUWv+YhO59tarL25RShqrlVK1CB9AlG1cnjdxbpeWWxFoN5Q36lr4HNzWTYYRlNeEPfVJd0XrDwBvWrWd5IKKIPv9PXg0fJq+H92HyF04gb4qiaTDMAAAAAElFTkSuQmCC\"></div><div class=\"grid-item\"><img alt=\"Output\" src=\"data:image/png;base64,iVBORw0KGgoAAAANSUhEUgAAADoAAAAVCAIAAACYI2qcAAAAz3pUWHRSYXcgcHJvZmlsZSB0eXBlIGV4aWYAAHjabU/bDcMgEPtnio5wL3wwDkmI1A06fo8EtaKqJbDxPUn99TzTY0CYkmUvqAAFrFqVFqLQjZuZ6nVf0DZjvPqJ8/RbWPkbQJ/+tvqOm6X8NCKZk8aE0GqzYDZSuX2em2wzX1opa6ONFoA+q/99m7ogg93iNiF31NAlhQxCFsqOEzsQiYxDyPbgDvcog48MbaNwQLqv2T1BwzjGF3Qc06Yc3OJVo5S1hs7ql2OyhcOXHt95A3RLWubszHZ9AAAACXBIWXMAAA7EAAAOxAGVKw4bAAAAPHRFWHRTb2Z0d2FyZQBDcmVhdGVkIHdpdGggdGhlIFdvbGZyYW0gTGFuZ3VhZ2UgOiB3d3cud29sZnJhbS5jb21coqaFAAAAIXRFWHRDcmVhdGlvbiBUaW1lADIwMjQ6MTI6MDkgMTk6NTc6MDS7AC9oAAABvUlEQVRIie1Wsa3CMBC9MAdCKJcxUlHEGYCCCZCSGlFR0pgp6LJC0tDEVWYgFkrBGqY4yd/YDjEF+kLiFVF05+d79r2cEiml4Hsw+28B7+En95P4Qrmn0ylykCRJ+C5lWWqilJKCQghrzzzPTVae5y7rNXEGAPv9Xj0DEbMsCxEqpYyiCAA0N45jc0Hf9zpV17WOJ0kSxzHFOeeIaCoeJSoHVVUBQNu2bsoFY6woCm+qbVurqlXCuiDO+STR493z+cwYS9M05GqbptntdiF9MDEMAyKakSzLLpfLJNGWK4RomuZwOIRU7bqOntpkZVlaaxDRm+r73lp5vV6niW5zETHEBkopzjkAaDOQAt1TE5RijHlXUve9dS3ik1yiVVX1llwzUhTF2GnJr9qRVItAH4DW9IL4ZIbj8YiIm80mxAkAsFgsrMhyuXxNud/v9JKmqRZU17WUcrVaTRL/5NJ3s91uA7UCwHw+BwAhhI7cbrexgT0MA6l0U1R6vV5PE80+gm+umX13+2V6nfrrnYDUUK/NKOV1vEsEs9IYRx/G60vGmL4Jc1hSJQ2LZQ4yr0RvNlK//93P4Sf3k/gyuQ/Ku0u1XRADRQAAAABJRU5ErkJggg==\"></div><div class=\"grid-item\"><img alt=\"Output\" src=\"data:image/png;base64,iVBORw0KGgoAAAANSUhEUgAAAKkAAAAVCAIAAACyv1l2AAAAz3pUWHRSYXcgcHJvZmlsZSB0eXBlIGV4aWYAAHjabU/bDQMhDPtnio6QFw6Mw/Wo1A06fsOBWlHVErHjPIDUX89Hug0IU7LsBRWggFWr0kIUmpjMVK94odVV491PnJffwsrfAvryj913TJbys4hkCh03hFZbA2uRyvS5zfxY/dJK2RcdtAH0efrf3NQFGewW0YTcUUOXFDIIWSg7HrgD0cg4hewe3OEeY/DRoW0MDkj3vbsnaBjn+IKOY9qUg1tkNUZZa+isfjkmRzh86fGdN31PWuwGwEGCAAAACXBIWXMAAA7EAAAOxAGVKw4bAAAAPHRFWHRTb2Z0d2FyZQBDcmVhdGVkIHdpdGggdGhlIFdvbGZyYW0gTGFuZ3VhZ2UgOiB3d3cud29sZnJhbS5jb21coqaFAAAAIXRFWHRDcmVhdGlvbiBUaW1lADIwMjQ6MTI6MDkgMTk6NTc6MDS7AC9oAAADh0lEQVRoge1ZO27jMBAl9xhBiiD0MVSloY8Qd64CUHWQNCndSAeIgRwg8hWS0tYxTMFwkWtoi1nPTmYoitJikUJ6RWCa5PDNn4x127ZqxiTx66cJzPgxzL6fLmbfTxez76cCrXXTNPSbwb5fLpda6zzP07csFgt9Af2+rmtNUJZlcHue51rr5XIZ2cu0GgfKc7FY0Kndbqe/Y5AFusSqiz0jMpumgdm6rtlUWZa4V872ox2Cqqpgl3MucYtSqigK+Oyc6zrRe09XIg6HA5xorWVfHg4HKtZ7P0iXOKy1xhgcguIj5DC9jDFUrLUW9YKV0rDWWrAA6gtgNhmBYfoYY4qiMMYk+h4WfztPqaqqgoupIeiXzjk25ZyjYsFqzDT/CHA2xtNo3wN5HNKoBdrUGmwxrofTqYJy5QgMqPllWXrvn56e0recTidW5ay1+/2+a/3t7S0d7na7j4+Px8dHtuzm5gYMB/j6+lJKXV1dpRNLBOMzAp+fn3d3dzh8f3/HvyD8fD7jbNM07MT1eu2cu76+ZmK32+3Ly0sKAdqtWN9MjWUapOl5zxK07UjuVuQZQF2qpdwF5L33kBm9fNKbFDua0kPI3hQEy2xZw4qiQPJQ26kFYLYVPY4WA0BvDXDOee+ZEVJ9T4tMuu+RJQyBrqyBQYPSfhGMGGjzqruJsMUphI0xIJOFrFQqRSBLmGAcYwGTJ+Je5ntpxl4+Qd//qfn0tinv5HVdpxcZiizLqqparVYgcL/fW2tpWcuyDKm8vb1hg2ia5vn5ebPZdEmGuz0YYrVa8Wo2FsfjEcg8PDx0XZ6zLCuKYrvdJso8n89a681mI9tlWZbGGHCqUoqemOe5Meb+/r5L7OvrK34exOcveoO3FYmenvdBUV1pSqObJYcc0ixh1YUCL8lDVW6jakI1TnlZwIn0moYFQNJGvYJFng3p6b1X0ZE1n96qGBLbHgJIx2dBpa4Tgb0xRpbNOJkRwYpOCkqLNAWKYIUHLwZv72AfiK0gvPfygSDfU5Lw+H5PEUwIoBu5dMCCSG9W3U1LvvGo1UBy/I031PeRf0V0HSdTvL0ENH3fswc9a9tBA7K8Z/RkKATV+Y++BzbBCwtATrHojjhP3vXwoofZEOfc63tW3th6SjWYYbhd+oBKZmLjhyKk79vvFoibThYPmNLt/Pv9VDH/ljNdzL6fLmbfTxez76eL3xn1B7PopnmQAAAAAElFTkSuQmCC\"></div><div class=\"grid-item\"><img alt=\"Output\" src=\"data:image/png;base64,iVBORw0KGgoAAAANSUhEUgAAAEMAAAAVCAIAAACSf8TOAAAAz3pUWHRSYXcgcHJvZmlsZSB0eXBlIGV4aWYAAHjabU/bDQMhDPtnio6QFw6Mw/Wo1A06fsOBWlHVErHjPIDUX89Hug0IU7LsBRWggFWr0kIUmpjMVK94wXTVePcT5+W3sPK3gL78Y/cdk6X8LCKZQscNodXWwFqkMn1uMz9Wv7RS9kUHbQB9nv43N3VBBrtFNCF31NAlhQxCFsqOB+5ANDJOIbsHd7jHGHx0aBuDA9J97+4JGsY5vqDjmDbl4BZZjVHWGjqrX47JEQ5fenznDTIHWrnw/ZdqAAAACXBIWXMAAA7EAAAOxAGVKw4bAAAAPHRFWHRTb2Z0d2FyZQBDcmVhdGVkIHdpdGggdGhlIFdvbGZyYW0gTGFuZ3VhZ2UgOiB3d3cud29sZnJhbS5jb21coqaFAAAAIXRFWHRDcmVhdGlvbiBUaW1lADIwMjQ6MTI6MDkgMTk6NTc6MDS7AC9oAAAB7ElEQVRYhe1Xwa3iMBAd0FaBOCCcNrgyFEABXJ0C0oMrSQtw4RKLAzXEEcqBNvwPb/8wspOvsLvSIsQ7IMXjeZlnv5mIWYyR3gLz/13AP8NHyevhTZWUZTn7Rtd1U/K7rpspJFHvvY5qzt1u90Oizs1DOvfBGWOMMYYQiMhaG58BspqmwaMxxhgj0aZpdNRaS0QhhJwHIb1ijGHmfB0hqdM5J5y/9yHtKRk56rpOStfCEtkaiWZmrut6UCFekQhzzsUYf8Ehp9MJb/obLJdL/bharTTn/X4nosViMZYuoePxOLan73tjjF7Zbrfn87mqqjkRXa9X/Ir5yrL8AyWXy0UXVFUVEcHK3vvNZmOtXa/XeeLhcBgL5chPvG1bIiJxm7gLW3Fl04EsZk7W4RAigmE0mFmqGeTM3ZXUBlvCww8lCYW2+BQMFiTa4O9cJ4BoLnWw41E9gPYGLcWhNnLOPaUE3k3mEjPnoywvVzaP3efPr2ZmXNGcvjvVey9ab7dbURRTXEtERVGEEEIIidHbttUk6J++78d4JvaJBmbVfr8noscUlvNLZiIAB+bHBq8PzlacqITAMLhTfxam3wmsJD3z2Kf7b4w0sZy2rEDvkXbPafV6ckAQlkAq1lNYZ83i5//Jq+Gj5PXwPkq+AGJxZtM3ioffAAAAAElFTkSuQmCC\"></div><div class=\"grid-item\"><img alt=\"Output\" src=\"data:image/png;base64,iVBORw0KGgoAAAANSUhEUgAAAEMAAAAVCAIAAACSf8TOAAAAz3pUWHRSYXcgcHJvZmlsZSB0eXBlIGV4aWYAAHjabU/bDQMhDPtnio6QFw6Mw/Wo1A06fsOBWlHVErHjPIDUX89Hug0IU7LsBRWggFWr0kIUmpjMVK94wXTVePcT5+W3sPK3gL78Y/cdk6X8LCKZQscNodXWwFqkMn1uMz9Wv7RS9kUHbQB9nv43N3VBBrtFNCF31NAlhQxCFsqOB+5ANDJOIbsHd7jHGHx0aBuDA9J97+4JGsY5vqDjmDbl4BZZjVHWGjqrX47JEQ5fenznDTIHWrnw/ZdqAAAACXBIWXMAAA7EAAAOxAGVKw4bAAAAPHRFWHRTb2Z0d2FyZQBDcmVhdGVkIHdpdGggdGhlIFdvbGZyYW0gTGFuZ3VhZ2UgOiB3d3cud29sZnJhbS5jb21coqaFAAAAIXRFWHRDcmVhdGlvbiBUaW1lADIwMjQ6MTI6MDkgMTk6NTc6MDS7AC9oAAACHUlEQVRYhe1XTc7aMBAdf+opEAsU5xRIrJ0jJBdActaIXICNcwDW7JwjJOvkGCQLhLjGdPH6ua6Tj4a2UhHiLVA8nhm/8fxYCGaml8DH/ybwz/CO5PnwopHEcSyEqKoqUKqqSnyiLMuHDui6DoZfKeR5LoRIkmTSChiGwd9NksRt5Xn+Q8rMzGyMISJrLX7ZA7bw3fc9ERljeB6klEoprbXzEKBtW9BQSgXCtm2xhHnf91gqpZwy+GitmZmY2VqLPbgIIgkkxhgp5ZwwlFIwvBMJ4vTJQd8/AnQRGL59PjBn5g8iStO0ruvJ1COty+XSSdbrdd/3QbonUdd1mqZ3FKqqappmt9sF8tVqBcbA7XYjosViQURRFBHR5XLxGUI4q+Ov12sggfe/RJZlxhjw8LHf74kI7dF13Waz0Vo7NWNMURRojyRJft7FuGqD6lJK+bmWUpJXxHMwWV1+lQbV5VuN+bgaIyKf2O9zgsJzs+JwONBnrv8YwzAURQFXk0BCmNlam2WZP9nKspRS4iqh2XUd0YycBLDWzuz44HZ9SZCE8dI/wmc1ZuiUvz16nafTabvdPmoVoGkaXKcvFEJorY/H4/l8juPYyZF/dDk61p9AURTB22M5oV9L05fT181zZwpP5gT6zhseNH8K+8puSew1kA/HGI6AySCd+eSTGmDyVR13vGt3wD2LY7Z4FplZ8Pv/ybPhHcnz4XUi+Q5TPefopHdBdwAAAABJRU5ErkJggg==\"></div></div></div>"
      ],
      "text/plain": [
       "Pi\n",
       "--\n",
       "4\n",
       "58.4336\n",
       "       2    4\n",
       "1 + 2 x  + x\n",
       "218.655\n",
       "38.9557\n",
       "4.9348\n",
       "16.7552\n",
       "16\n",
       "--\n",
       "3\n",
       "-4.56637\n",
       "16.7552\n",
       "7.6595\n",
       "-4.9348 + 35.0846 I\n",
       "6.28319\n",
       "19.1488"
      ]
     },
     "execution_count": 90,
     "metadata": {
      "text/html": [],
      "text/plain": []
     },
     "output_type": "execute_result"
    }
   ],
   "source": [
    "(* Ex 07 Volumes of Revolution *)\n",
    "Pi(2^5-1^5)*0.6//N\n",
    "Expand[(x^2+1)^2]\n",
    "348Pi/5//N\n",
    "62Pi/5//N\n",
    "Pi^2/2//N\n",
    "16Pi/3//N\n",
    "Integrate[-4Sin[t]^3, {t, Pi, 0}]\n",
    "Integrate[-4Sin[t]t^2, {t, 0, Pi/2}]//N\n",
    "Pi*Integrate[4-x^2, {x, 0, 2}]//N\n",
    "256Pi/105//N\n",
    "Pi*Integrate[-2x^2/Sqrt[1-x^2], {x, 0, Pi}]//N\n",
    "Pi*Integrate[(2x-x^3/2), {x, 0, 2}]//N\n",
    "128Pi/21//N"
   ]
  },
  {
   "cell_type": "code",
   "execution_count": 29,
   "metadata": {},
   "outputs": [
    {
     "data": {
      "text/html": [
       "<div><img alt=\"Output\" src=\"data:image/png;base64,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\"></div>"
      ],
      "text/plain": [
       "-Graphics3D-"
      ]
     },
     "execution_count": 29,
     "metadata": {
      "text/html": [],
      "text/plain": []
     },
     "output_type": "execute_result"
    }
   ],
   "source": [
    "(* Plot revolution *)\n",
    "f[x_] := Sqrt[3 x - 2]  (*MMA 空格 是乘号 *)\n",
    "RevolutionPlot3D[f[x], {x, 0, 5}, RevolutionAxis -> \"x\",  AspectRatio -> 1]"
   ]
  },
  {
   "cell_type": "markdown",
   "metadata": {
    "jp-MarkdownHeadingCollapsed": true
   },
   "source": [
    "### Module 3 - Further Differentiation and Integration"
   ]
  },
  {
   "cell_type": "markdown",
   "metadata": {},
   "source": [
    "Integration methods :\n",
    "\n",
    "$$\\int f'(x)g'(f(x))=g(f(x))+c$$\n",
    "\n",
    "$$\\int \\frac{f'(x)}{f(x)}\\hspace{1px}\\mathrm{d}x=\\ln{f(x)}+c$$\n",
    "\n",
    "\n",
    "Trigonometric identities for integration :\n",
    "\n",
    "$$\\cos^2{x}\\equiv\\frac{1}{2}(1+\\cos{2x})$$\n",
    "\n",
    "$$\\sin^2{x}\\equiv\\frac{1}{2}(1-\\cos{2x})$$"
   ]
  },
  {
   "cell_type": "markdown",
   "metadata": {},
   "source": [
    "$x^2+25=169(yz+144)/(288+144x+16y-9z+xyz)$\n",
    "\n",
    "$y^2+153=169(xz+16)/(288+144x+16y-9z+xyz)$\n",
    "\n",
    "$z^2+160=169(xy-9)/(288+144x+16y-9z+xyz)$"
   ]
  },
  {
   "cell_type": "markdown",
   "metadata": {},
   "source": [
    "$$\\hspace{10px} \\dfrac{\\mathrm{d}y}{\\mathrm{d}x} = - \\mathrm{cosec}^2 \\hspace{2px} \\left(\\frac{x}{a} \\right)$$\n",
    "$$\\hspace{10px} \\dfrac{\\mathrm{d}y}{\\mathrm{d}x} = \\tan{\\left( \\frac{x}{a} \\right)} \\sec{\\left( \\frac{x}{a}\\right)}$$\n",
    "$$\\hspace{10px} \\dfrac{\\mathrm{d}y}{\\mathrm{d}x} = \\dfrac{a^2}{\\sqrt{1 - \\left( ax \\right)^2} }$$\n",
    "$$\\hspace{10px} \\dfrac{\\mathrm{d}y}{\\mathrm{d}x} = -\\cot{\\left( \\frac{x}{a} \\right)} \\hspace{2px} \\mathrm{cosec} \\hspace{2px} \\left( \\frac{x}{a} \\right)$$\n",
    "$$\\hspace{10px} \\dfrac{\\mathrm{d}y}{\\mathrm{d}x} = -\\dfrac{a^2}{\\sqrt{1 - \\left( ax \\right)^2}}$$\n",
    "$$\\hspace{10px} \\dfrac{\\mathrm{d}y}{\\mathrm{d}x} = \\dfrac{a^2}{1 + \\left( ax \\right)^2}$$"
   ]
  },
  {
   "cell_type": "code",
   "execution_count": 173,
   "metadata": {},
   "outputs": [
    {
     "data": {
      "text/html": [
       "<style>\n",
       "\t\t\t\t\t\t\t\t\t\t\t\t\t.grid-container {\n",
       "\t\t\t\t\t\t\t\t\t\t\t\t\t\tdisplay: inline-grid;\n",
       "\t\t\t\t\t\t\t\t\t\t\t\t\t\tgrid-template-columns: auto;\n",
       "\t\t\t\t\t\t\t\t\t\t\t\t\t}\n",
       "\t\t\t\t\t\t\t\t\t\t\t\t</style>\n",
       "\n",
       "\t\t\t\t\t\t\t\t\t\t\t\t<div><div class=\"grid-container\"><div class=\"grid-item\"><img alt=\"Output\" src=\"data:image/png;base64,iVBORw0KGgoAAAANSUhEUgAAADwAAAA/CAIAAAAzCjyLAAAA0HpUWHRSYXcgcHJvZmlsZSB0eXBlIGV4aWYAAHjabU/trQMhDPvPFB0hJMGBcbgrJ3WDjt/kQK14epaIHecDSOP9utIjwJmSFqtoADm0aePuotLE5EztjjfkXLW8+0mu5Xe3yq+Asfxj9w2Tuf5ZRLxuihtci66BtUh4+rnP/Fj93GvdFx20AfR9+r+5ijEKsqlHZTJDc12TSycUpmK4cALemPFk0tN5wMzHYNEhPQYDPGzvHgnixjO+IHFUumTn7lmMZrFbN48qwoc7+XbiOx+8i1sVuNljcgAAAAlwSFlzAAAOxAAADsQBlSsOGwAAADx0RVh0U29mdHdhcmUAQ3JlYXRlZCB3aXRoIHRoZSBXb2xmcmFtIExhbmd1YWdlIDogd3d3LndvbGZyYW0uY29tXKKmhQAAACF0RVh0Q3JlYXRpb24gVGltZQAyMDI0OjEyOjA1IDE3OjA5OjQzIzQcXwAAA6VJREFUaIHtmr9L60AcwO8eHTp0EFwKCkpz4FpwcKmzjo6JLk5iQkdJ/wGXZHGRVl0UFHuDi1uLIILd1cHJNERQyNBBsINiIG8IhL67yzW/mufz5bP1e5fLp8c35L53ga7rgn+NX39bIA4/S9owjIRDI4QghBjj0SDGGP6JoijMy23bHg6HzCa2tOM4h4eHsXV1XYcQ7u7uBnVwR2g2m0Hd9vf3mXG29NnZ2cbGRlRXD4zx9fW167qzs7PxRvAol8sfHx9vb290E0PacZyHh4dqtRrvZqIodjqdeNcSbG9vHxwc0HGG9M3NzeLiYip3DcJPaF3XOd3K5fLr6yujwaWo1+vv7+90PCq3t7cAgHa7ze8gyzJnkNPT06urKyLImOnhcFgqlYL+/erqKqSIOtMetVpN07RWq8Xps7a2dnl5SQRJ6cFgMDU1xRml0+nQ8xFP2sc0zaCmUqlEP4uktGEYc3NzCSXCY1mWIAiVSiXSVQXit2EYCKH0rHjout5qtbzM5lAsFomMZcw0J6HDYJqml+jLy8sAAEmSIIT+RHjvHY+joyPXdWu1Gn/AmZmZwWAwGkl/7VGpVOik9xcFqqrSwbEQac2QTvgmmwRjpJ+fnwsFMtG/Gz9rafqdyaWzIpfOilw6K1KTZtbeAABFUULWKeFJQZpTeyuKYpqmt9Jot9uNRoP+VzFIKs2vvZvNpl/kiqIoCMLJyUnCO4Lk0pFq77RW6pk+iN1uN2qRwiQ7aW/7a319PflQGUl7lZWmaWPrlDBkIY0xbjQasiyrqprKgBOXxhhLkiTLMmejMSqTle71epIkrayspGgMkkvza2/vjdPtdke3o5K/X5KWg17tHdSa1vYpwf+9YMqSXDorcumsyKWzIpfOih8hnfDsgsbbWvCYVI04PT3NPI6OjWEY/nkFQigVb0Z6pCs9yubmZr/f55waBkHsT0w8PWiiFuSfn5/EiQopjRCybTupVwCSJGmaFvUqy7LGzDRCyLKsJGY0/rMoCEKM2rZQKIyf6X6/H37EMOf7/rO4tbUFIez1elG9CUjpYrHoOE746yOd76uqKgjC+fl5+PFfXl4WFhbGSAMABEFIPUNGmZ+fD9/54uJCFEUySs/T09PT3t4e58OR2MiyzLwjh3q9TgcZM40Qenx8jJQkQfgbDH6uu1E+Drm/v2d/mMT8f3d3d8fHx9GnMmV2dna+vr7oOHvBVK1Wgz7kywzbtpeWlpgH9dDNP5DNht9tuZIxEDW58AAAAABJRU5ErkJggg==\"></div><div class=\"grid-item\"><img alt=\"Output\" src=\"data:image/png;base64,iVBORw0KGgoAAAANSUhEUgAAAEMAAAAVCAIAAACSf8TOAAAAz3pUWHRSYXcgcHJvZmlsZSB0eXBlIGV4aWYAAHjabU9ZbkQhDPvnFHOEbDhwHN4MI/UGPf4kD9SKqpaIHWcByvz+epdHQpiKVW/oAAWsW5cRotHCYqZ+xxumu8anX7huf4RVfwuY279O37FY2p9FJEto3hBabQ/sRSrL57Hya/fLaO1cdNEB0M/T/81NXVDBbhFNyB09dCshg1CFquONJxCNjJeQPYMn3GMMnh06cjAh08/uWaBhvPILmsd0KAePyHKU1W/dI5qaXOHw7eR3PjFDWrT72fx+AAAACXBIWXMAAA7EAAAOxAGVKw4bAAAAPHRFWHRTb2Z0d2FyZQBDcmVhdGVkIHdpdGggdGhlIFdvbGZyYW0gTGFuZ3VhZ2UgOiB3d3cud29sZnJhbS5jb21coqaFAAAAIXRFWHRDcmVhdGlvbiBUaW1lADIwMjQ6MTI6MDUgMTc6MDk6NDS9UIn8AAABr0lEQVRYhd1XMZKDMAy07ymIZ4RaeUlmyE9g0qdNR16RRkwK/oAnP9EVugifwQNxyNxwW4FsyV5pZYNlZvMv8PXXG0hBnufWWmtt27Zq3B6Tuq4PhwMzE1FRFGq321WXcw4AdP/bq4mi6zpEHN75CQBQIxHxetDIK3r1fW+M6fteLT/zjDGIqFZE9Ce9CT/yqyjLcmwUGkG6DTM3TRPwWxfrMpmkwcxDn3RdF1Nk27b2iTzPg1HnnI7u9/slEj8ej9bauq7VIu7OuVnf0+lkjCmKQlyGIEJIRDmZPCLyK4aIcmIIpJ5N0+irPismw5ZlqWHleWFNYhj8q6pS3r7SELGqKn0NigsAs4vF1CVJkVzEzpgUJv5G/TRPllgWjkl2IRMN7mcqmUl4n2RZxswAcLlc1DheabfbzQp6FtoVj8fj/WjTN6Pf1gBwu90mp2VZZoy53+9pa4syieh8Pl+v17QgA6SCvkLGTWziApDuUnciWtjx/skRBPHxcp/8uvZHd4uQ8XMZG41tOrDIUelvfWxJZPJRrH7HT2LDX5AhkrO1HJ/4ghxjw/8nAf6Pur4BbEAHrtUcbeAAAAAASUVORK5CYII=\"></div><div class=\"grid-item\"><img alt=\"Output\" src=\"data:image/png;base64,iVBORw0KGgoAAAANSUhEUgAAABAAAAAqCAIAAAA1cEz9AAAAznpUWHRSYXcgcHJvZmlsZSB0eXBlIGV4aWYAAHjabU/BDQMhDPszRUcISXBgHK5HpW7Q8ZscVBVVLV3smDgcabyej3QLcKakxSoaQA5t2ri7qDQxOVO76mroIzY/XcHou1vle4Cx/GP3DZO5/iwinkLiBteiK7AWCU8/rwuPNc+91n3RQRvw/fW/vYoxCrKpV2UyQ3Ndk0snFKZieOAO+GDGyaR35wEzj8FiQnoEAzxsnx4J4sYZT5D4VLpk5+5dRLPYpZtXFeXDnXw58Zw3Zkta28vIZBYAAAAJcEhZcwAADsQAAA7EAZUrDhsAAAA8dEVYdFNvZnR3YXJlAENyZWF0ZWQgd2l0aCB0aGUgV29sZnJhbSBMYW5ndWFnZSA6IHd3dy53b2xmcmFtLmNvbVyipoUAAAAhdEVYdENyZWF0aW9uIFRpbWUAMjAyNDoxMjowNSAxNzowOTo0NL1QifwAAAC1SURBVEiJ7ZOxDcMgEEX5UaawqIA12MMLeBNXLOANLDpaKhpYA69yKVCiRMaxXVgu7N8Ad/+JLx2AiNgePXa564BSCoC1dh0wxgDo+37TDdbaEAIRcc43AW3beu//WCuRtuiSAKO3cs7zrpSSfoUzHt8NzPQsi3POObdk6rpOa1329+CuB6SUAKSUPhUAxpgTIx0PNE3z3ZimaQUQQjDGxnEsRynleqQY4zAMAADEGKvM8T/uBXg4UB9YQMfsAAAAAElFTkSuQmCC\"></div><div class=\"grid-item\"><img alt=\"Output\" src=\"data:image/png;base64,iVBORw0KGgoAAAANSUhEUgAAAJQAAAAVCAIAAAAvslD+AAAA0HpUWHRSYXcgcHJvZmlsZSB0eXBlIGV4aWYAAHjabU9ZbkQhDPvnFHOEbDhwHN4MI/UGPf4kD9SKqpaIHWcByvz+epdHQpiKVW/oAAWsW5cRotHCYqZ+xxvddo1Pv3Dd/gir/hYwt3+dvmOxtD+LSJbQvCG07ht9L1JZPo+VX7tfRmvnoosOgH6e/m9u6oIKdotoQu7ooVsJGYQqVB1vPIFoZLyE7Bk84R5j8OzQkYMJmX52zwIN45Vf0DymQzl4RJajrH7rHtHU5AqHbye/8wE6Hlq6P6/92AAAAAlwSFlzAAAOxAAADsQBlSsOGwAAADx0RVh0U29mdHdhcmUAQ3JlYXRlZCB3aXRoIHRoZSBXb2xmcmFtIExhbmd1YWdlIDogd3d3LndvbGZyYW0uY29tXKKmhQAAACF0RVh0Q3JlYXRpb24gVGltZQAyMDI0OjEyOjA1IDE3OjA5OjQ0vVCJ/AAAAsJJREFUaIHtWrHN8jAQPX9jIEQRZwqUisYZgAJGSAZgApqwQFq6pGCA9KFiB1sIsUe+4v7PMo6d2AbEj5RXEfvu8uw73tkI0nUdTPhO/HyawIRwTMn7YkzJ+2JMyfPD+XwmhKRp+mkiAO7JE0IQBS809kUcx75hvVykMSHkfD5rs/f73YPrc0zGvToHcM4BoG1bfKSUUkptxlVVAUBVVXKEMebyFkcER8uybNQGANT4jDHOedjrjHhmK/r8nZKnAdMjc6kC01wURQg7N7wvebiu12ZLw2uTF9Lz5vO5bep0OgHAer22GdR1LUUpjmNtNk3TgVkb8jwnhBwOBzmCEYQQjhFUXC4X4zh2O0Se5/0pIYTUN83gXeQDSqAoCrBUaJZlA4qqOTLGVAKMMZfCNNpkWSYj42ejzWhwSik8KqfRRgvVti1uJjYLfDQqUzB5I3/v5KEw2pbHGBtIHjwqKoaS3bG/KbZXDLx6QNJdgnd/FYYwFqgteWqbB0vvCCZv5P9PNlW9Gj4lYm02TeMoCxJ4clsul3IkiiJK6e12w8f9fl+WpZdgqmiahnO+3W6LokiSJCACYrfbdX+FRSmt69rRcaCbjCKM/I907qe6b43bigszYrVaDcwOY7PZYBVzzgNSKJvE9XoNI6AiiiL8kh2Px+ejjSKMvMeBJY5jzjnnPIoimw1+sYzVOpvN4PGeJITgnC8WC9UsSRIsfM65e9UDAKpZ27ZlWXo5DiBMAwIQSN4or0ZRBrsca9IMlnue2pm7wfuib89Xey02rb7vaM/D7ZOP/QurpG3seaov+PQ8F/JG/k7Jk6cprVhs9rhsY32oxwGNjRbfVij99WMbVu37I53bgQVrVEI9sGDlaUCDZ5LnSN7IP+Sq8Fm89ReWd+Pzl/QJ/wueq6QPAFXFi3mAy5sQxsTmRbrpbxBfi0k2vxi/wITCaFVnpx8AAAAASUVORK5CYII=\"></div><div class=\"grid-item\"><img alt=\"Output\" src=\"data:image/png;base64,iVBORw0KGgoAAAANSUhEUgAAADsAAAAVCAIAAAB34QGiAAAA0XpUWHRSYXcgcHJvZmlsZSB0eXBlIGV4aWYAAHjabU9bjgMhDPvnFHuEvHDgOExLpb3BHn+TgbaaqpaIHecBlPn3+yg/CWEqVr2hAxSwbl1GiEYLi5n6GU/osWt89QvX7Y+w6ruAuf3j6jsWS/tYRLJvyhtCq+2BvUhl+TxWfux+Ga1dFz2fugF6Pf1rbuqCCnaLaELu6KFbCRmEKlQdD9yAaGTchewWPOEeY/Ds0JGDCZl+7Z4FGsY9v6B5TIdy8IgsR1n91D2iqckRDp9OfucfdQBa4jvOQyEAAAAJcEhZcwAADsQAAA7EAZUrDhsAAAA8dEVYdFNvZnR3YXJlAENyZWF0ZWQgd2l0aCB0aGUgV29sZnJhbSBMYW5ndWFnZSA6IHd3dy53b2xmcmFtLmNvbVyipoUAAAAhdEVYdENyZWF0aW9uIFRpbWUAMjAyNDoxMjowNSAxNzowOTo0NL1QifwAAAFdSURBVEiJ7ZfBbYQwEEXtKGVw2nEZcDYtUMJQANRgFwBXblACcOBi2sCiE3JwZCF2WQxhE6HsO9mDZvyZ+TKCTtNELsXHXwvYzVvx67mmYsYYfYTW+pQzbP1zsqYZiAgA09lwzg/nIuIick1XbNL3/dwti7jW2k4wjmOXgnEcU0qllDayw4eLEdy7Qik1Hyvn3G6VUqZIWZZ2q5RycQUiEkKGYbBrR1fs9rEQwlY3Eo3c73KECCFcFJs4AJRl+fA91xR/Og4xz/O1p57nuRS5p65rSmkURUII3/cds7Z9bOSa8dken4J17TiO7lnbitu2RcTb7XZM1hMAABGVUnmeV1XlmLXtCsZY27ZmLaVM0/S4xhlhGAJAlmWEECFEFEWe57l4Y7vHdV0Pw2Bun67r7P3wExhjTdMURWG2SZIAQBAEfd9vJz+/GU7hv3/zfqPHAHDgrLUsOr3/ml7NF8qTbgBtSiSAAAAAAElFTkSuQmCC\"></div><div class=\"grid-item\"><img alt=\"Output\" src=\"data:image/png;base64,iVBORw0KGgoAAAANSUhEUgAAAEkAAAAtCAIAAABtdNHHAAAA0HpUWHRSYXcgcHJvZmlsZSB0eXBlIGV4aWYAAHjabU9tbsUgDPvPKXaEfOHAcegrT9oNdvwlBW1imiVixzhpKfPr810+EsJUrHpDByhg3bqMEI0WFjP1p9LK7Ds+/SL39kdY9fcCc/vX6TsWS/uziGQJzS+EVtsDe5HK8nms/tp5Ga2diy46APr59X97UxdUsFtUE3JHD91KyCBUoep44wVEkHEL2St4wj3G4JnQkYMJmX6mZ4GGcecTNI/pUA4e0eUoqz+6RzU1ucLhx8nnfAN8GlrqrWO5WgAAAAlwSFlzAAAOxAAADsQBlSsOGwAAADx0RVh0U29mdHdhcmUAQ3JlYXRlZCB3aXRoIHRoZSBXb2xmcmFtIExhbmd1YWdlIDogd3d3LndvbGZyYW0uY29tXKKmhQAAACF0RVh0Q3JlYXRpb24gVGltZQAyMDI0OjEyOjA1IDE3OjA5OjQ0vVCJ/AAAAndJREFUaIHtmb3SqjAQhjdnTm/vWBFqr0DqeCXO4J3AWGtrh5dgZRPGgiuwgVFbLyKnWM9OvvDzKYY4MDwVJOTnJbtLsjClFAyUP9+eQIf0W5vv+4wxxliapuXaHmuL43i1WimlpJRBEJQfYAPwt6IoOOdlIT1eNyLLMiFERYX6CeecqqSUyirUucVWeZ4DQJ7n5aofDQBACEG3QojKNq3RO3+XMAzLhSisbg3+0iodDgcA2G63VHI8Hm2bj03QzaSUi8Wi8gHT37Isq+srTVP2H9/3yyNR7XK5fHF+6/WaMRbHMZVgD0VR/Np2s9kAQBAE2ETv5Im+iGjZlZYjpQTNrIUQGJqQJEkAIEkSuqVrncqewzCknvH6dZtsxuwoiiKSrTubECKKIro1DJ1z/srYdf6GbwpfUJ3zWNCG4NT1pai0CpxHs0MbGmrnAQAA+uszaKGt+vvmeZ5SinO+3++psDxwnRO/C3nX9Xq10iHS9O3WAwbn/HQ6VT7meR4AnM/n1pNAk5ZS7nY7DNd20Bddt6tyeIB6m0EvpeZSytdjiR6WjH50PvU3Y+difLhRnv6y62obYoZRgpFZF1MusaOta6zvS5oZwl65ltYvsgVd7JUbGML5rY4h2+SorZ88z2/3+/12u313KlaYz+eTyQSvn9oej8flcvnelKzh+z5pG+NkPxm19ZNRWz8ZtX2GnrpkjDkYEelcG2V/6cBSztt2xbuHog9pTkLaxbW/zWYzZ2O51oapvul06mIwB7ZBYAb6k4zQWzjdK2OQdDaiO5vE8Eh/GlzgxjwwV2X3L+yvuNCG6Wo3cV+nc234U9LAyLd3xJDP3f8ACTc9ilaACz8AAAAASUVORK5CYII=\"></div><div class=\"grid-item\"><img alt=\"Output\" src=\"data:image/png;base64,iVBORw0KGgoAAAANSUhEUgAAAMAAAAAVCAIAAACfTXbMAAAAz3pUWHRSYXcgcHJvZmlsZSB0eXBlIGV4aWYAAHjabU9bbgQhDPvnFD1CXjhwHGaWlXqDHr/JgLSiqiVix3kAZf58v8tXQpiKVW/oAAWsW5cRotHCYqb+xAf3LkV++IXr9kdY9VPA3P51+o7F0v4sIllC84bQantgL1JZPo+VX7tfRmvnoosO4PP0f3NTF1SwW0QTckcP3UrIIFSh6njjBqKR8RKyO3jCPcbg2aEjBxMy/eyeBRrGK7+geUyHcvCILEdZ/dE9oqnJFQ4/Tn7nF3I+WuDOBY++AAAACXBIWXMAAA7EAAAOxAGVKw4bAAAAPHRFWHRTb2Z0d2FyZQBDcmVhdGVkIHdpdGggdGhlIFdvbGZyYW0gTGFuZ3VhZ2UgOiB3d3cud29sZnJhbS5jb21coqaFAAAAIXRFWHRDcmVhdGlvbiBUaW1lADIwMjQ6MTI6MDUgMTc6MDk6NDS9UIn8AAADgklEQVRoge1aPU7sMBC23zEQQijOKVBoaLwHoAjdVkjkAHsCGnMA0lKxKThAKpqk4gxra4W4h18xj8jrP7y2d/cJ5SsQsSfj+cbjmXEASynRjBmx+HNqA34PxnHEGD89PZ3akKNiDqBsuL6+ppSe2opjYw6gPGiaZr1eF0VxakOOjTmAMmAcRyFEXdfpejDGi8Uii1XHwX4BVJYlxrjrOnWw6zq8i6ZpXBqEEKpkpNVe8zS10yDGuCzL7PoRQsvl8vn5eS8NGONxHLXZr6+v7Lblou/Sj2QYGGMIofV6DT/VKRgMUWK+TikNNCAEP2qjlBJCEld5eHhQH4dh0FzqWgIhpFpIKeWcJxqjaguRSaSvcZdSBmWgruve39+llOfn59EhLIS4u7tjjKmpvu/7aIURWC6XnHMhREadVVWp/mWMbTYbUwzStpqo+r4/cs90CPpBAVTXdfpOv729IYRub29dAmopNJPtYrHIVYms29Y0jXYJh7Xyuvvj48M6Dt2PtQGAKSHEVEQ8HUIITPpJ3PfKYJCurSVsAmPMlf08+RNK5JTS4T48zVJKA1O0X8BjHlg42QC/u8R+tMQKQgjarWJWGVeJBLfD4zAM2osh/vHvThz3DAFkClhd7C/AGjfOubqQ6VYrXE6EnUPu7kQzEo6EuUmA6ACS3+cEYG2AXAGk+twaB54ACqQfx/1fCVMLRMoVqaoqxljbtnu9BfeRq6uraaQoCkLI5+cnPD4+PrZtG128NpsNsL2/v7defyb0fc85h16tqqqItfxYrVby+3gQQrT7rAcp3Wcg/Tjuf6aXzXCLthghZJbPm5sbcFwE6rqGs8g5T+mBVqsVIeT19dUlMJm93W7jlghBURSQGF5eXg63igk//Tju+T8kbrdbQojZqUGCsZ65s7MztPsVRAjBOb+4uFDF4L7DOeech59dE5eXl64pqCDDMLRtm7JECBKvAtFw0Y/k7imKJn7sgaDGeyoocnwHUps4OJ2ugu3qImVAI+lpD+Vul+YhEtcDwd5Mj9YvatLdA6nvoj17INUGF/1o7kEBZC092nraoAvalU2dUvVohmpLuwLUdKJmuWfvodNUNZsjgOgmWvtTq9pEw9ZqAIGUAAqkn8J9vwz0nyPvd20XUm5hh8OpuM9/TJ2RBCx/0X8klmUJSftApA6tPwWn4v6rAmjG8TGXsBlJ+AtuaJjCQ1pk4QAAAABJRU5ErkJggg==\"></div><div class=\"grid-item\"><img alt=\"Output\" src=\"data:image/png;base64,iVBORw0KGgoAAAANSUhEUgAAAEMAAAAVCAIAAACSf8TOAAAAz3pUWHRSYXcgcHJvZmlsZSB0eXBlIGV4aWYAAHjabU9ZbkQhDPvnFHOEbDhwHN4MI/UGPf4kD9SKqpaIHWcByvz+epdHQpiKVW/oAAWsW5cRotHCYqZ+xxumu8anX7huf4RVfwuY279O37FY2p9FJEto3hBabQ/sRSrL57Hya/fLaO1cdNEB0M/T/81NXVDBbhFNyB09dCshg1CFquONJxCNjJeQPYMn3GMMnh06cjAh08/uWaBhvPILmsd0KAePyHKU1W/dI5qaXOHw7eR3PjFDWrT72fx+AAAACXBIWXMAAA7EAAAOxAGVKw4bAAAAPHRFWHRTb2Z0d2FyZQBDcmVhdGVkIHdpdGggdGhlIFdvbGZyYW0gTGFuZ3VhZ2UgOiB3d3cud29sZnJhbS5jb21coqaFAAAAIXRFWHRDcmVhdGlvbiBUaW1lADIwMjQ6MTI6MDUgMTc6MDk6NDS9UIn8AAAB1ElEQVRYhe1XMa7CMAx1OQZiwr0GK+EIvUKYOQJLEDtHaI9Aly6tGDgD6cBF8gcLf38nVFQgfYR4A0JJbL9nvwSRhRDgIzD5bwIvw1fJ++FDleR5nmVZVVWjUqzX6+yGrut4veu6TGC326nA1WrFu33fKxoKMlyu/waGEEIIzjkAKMuSPsPDMMYgokzStm18zHsPAM45XkFEa60M9N4nS7RtK9NKhsYYlgAhhLIsjTEc87gSOi8ZSH6xZqpCFZkBB0qdKpCblSRAhCcAUBTF8Xgc5SjC6XRCxPl8znby3h8Oh3vn+eT1ekVEubVcLpumiUP6vq/rervdJhNOp1P+/tSNb5omz3P6XlXVYrGgZkvT825d15vNhlfIbxKXyyUusd/vEbEoiiSB8/kMALPZDODviMe6iw3jnCMDkBL2GyUkSPOoa0PHYgvFt0tBRr1ASXwBkncXESVXKdIYY63lJAxrreq1SihrPaWEKskrzsOJoZ4gBWOM6v3wQOjVktmeUhJPgLo7oCQ5LiKttgae5ljGCCWUNzaA9Mzwz4KaHoPaEff+3nkyQkwSwq0lCsokFJ90DnWIINdJGEO1UL7C9+jGTUlSpQxZ+P4/eTd8lbwfPkfJD96yEDTBYjSiAAAAAElFTkSuQmCC\"></div><div class=\"grid-item\"><img alt=\"Output\" src=\"data:image/png;base64,iVBORw0KGgoAAAANSUhEUgAAAE0AAAAVCAIAAACMtvR9AAAAz3pUWHRSYXcgcHJvZmlsZSB0eXBlIGV4aWYAAHjabU9ZbgUhDPvnFD1CNhw4DvOGJ/UGPX6TAbWiqiVix1mAMr8+3+UjIUzFqjd0gALWrcsI0WhhMVN/4gO7d41Pv3Dd/gir/hYwt3+dvmOxtD+LSJbQvCG02h7Yi1SWz2Pl1+6X0dq56KIDoJ+n/5ubuqCC3SKakDt66FZCBqEKVccbLyAaGbeQvYIn3GMMnh06cjAh08/uWaBh3PkFzWM6lINHZDnK6o/uEU1NrnD4cfI733lsWuUlznivAAAACXBIWXMAAA7EAAAOxAGVKw4bAAAAPHRFWHRTb2Z0d2FyZQBDcmVhdGVkIHdpdGggdGhlIFdvbGZyYW0gTGFuZ3VhZ2UgOiB3d3cud29sZnJhbS5jb21coqaFAAAAIXRFWHRDcmVhdGlvbiBUaW1lADIwMjQ6MTI6MDUgMTc6MDk6NDS9UIn8AAACwElEQVRYhe1XMW7qQBB95BgoipDXp4gwBQXrA1DABSLZdYSblDTmAKSlwj4CblxglCJn8LqIuMf+YpLJ/LU/Ck2+BLwq3tmZeW92dpb0rLW4Atz9bwK/hJvOy8L16YzjuPeFw+HwQ3/f99nL9/3OPU3TdIYNw5B9m6ZxvE6HXa1WJ9gyq29fa621VmutlKK/0zQFUFWVPRMyiLNOuWRMpVQURTKjMYY+jTEA0jTlnU5YAFrrTg5ZlgHIssxZh7W2qiqZxiHxc1AOGYeDk4l10qfcppRiYVEUSRkUgX0dq6unS6QlnWmayoJRXIfHT9Bmb79K5nB1MjrspWYyAeC6n+i1LMs6G8paewegLEvu4zzPgyAgxu07cxrz+Zw6UN4iY8x6vW5vpuaUqOuakhpjHh4eaDEMQ+pSIkNX8Xg88uWkDYT9fu/7vhw0eZ6T6a95u1qtXl5e7Jm/kPjSK6UWi4U0JUlCJXMwnU4pHX0eDofX19fOyOPxWJbpeDwC2Gw2fFBFUcRxTNamaYqiGI1GfLzz+ZxK860zDMOyLKmoZ6Gua4r79PQkp18cx0qp2WzWdvE8r6qqJEmoQMvlMooiOVc/Pj5o3SkcQSpP01TWSGvNGWezmVJqu91+6vQ8rygKz/N2ux2nUUp5nneW4MViwXHpiDabzb82D4dDPpPdbtc0zXg8JjIAkiSpqooZ13VN1vv7eycOdzj7SnDt7gCMRiMAz8/PbC7LcjKZnCWSMRgMALy9vQEIgoBOLAgC/mxfe+o3amYAWmut9XA4ZKsx5vHxEUC/3wfw/v7OvnQknLooChm5rmviAx5xzvvpPA+0eGKg82DsNDnz1hmSEK8lb5bvp8wrs9Awkw8JxGQmzp/rvINf806uFN2Z2s7MPPHktnXyIXSmk5HbYYkMoV07Nkm2PXv7//OScNN5WbgWnX8AwvxXUUEIRjkAAAAASUVORK5CYII=\"></div><div class=\"grid-item\"><img alt=\"Output\" src=\"data:image/png;base64,iVBORw0KGgoAAAANSUhEUgAAAFYAAAAVCAIAAABT+I5iAAAA0npUWHRSYXcgcHJvZmlsZSB0eXBlIGV4aWYAAHjaXY/rbQQhDIT/U0VK8IsxlMPecdJ1kPJjLyQRN9La4w/bC2V+v1/lKyVMxao3dIBC1q3LCNNoaWWmfsdbFfuMT164bj4C1f8DzM2vk/teJO1jEckymn8Ir7YH9iKVxXms+tr9Mlo7F1106Pfmfzf7qE1dUMFuEU3IHT18K2EjoQpVxwsPIBoZTyF7RJ5wjzF4dujIwZRMP7tngQZ45hM0P9OhHHlElaOsfvse0dTkCsI3yef8ADcoWriS+Va7AAAACXBIWXMAAA7EAAAOxAGVKw4bAAAAPHRFWHRTb2Z0d2FyZQBDcmVhdGVkIHdpdGggdGhlIFdvbGZyYW0gTGFuZ3VhZ2UgOiB3d3cud29sZnJhbS5jb21coqaFAAAAIXRFWHRDcmVhdGlvbiBUaW1lADIwMjQ6MTI6MDUgMTc6MDk6NDS9UIn8AAACWklEQVRYhe1YMbaqMBAdXIeFx7AMbSwMC7DQDXhOWIA0ljZwqGUJuAS1oIHKNQhbyS/m/PnzJoB5lcXnVjGTO3O5JBOOgbUW/m/Mvi3g+5gsmCyYLABuQRzHwV80TeOfYogYhmHgIMsyWsDnu64TaZumwZBbMYqiESKv6yXVWmut1VorpXCcpikA1HVtPeBPrOuaRwGgLEtKQkoQSimttTFGzGPIGMMrtm1LUQCgqEirtdZa47gsSxIDJI4n4mVG8CsiN6s3D3cEx64FKJ3PKKXSNMVxmqa8RNu2lNaVihZbtEAwcbVrvwt/IlfjH3UtEBVxDb1beipaDAAYdb2jVDMAqKoqDENUf7vd1us1EtxjJuBPzPNcKbXf73vzvF4vAJjP5+PlEOgXx/v9xsHj8VgsFjiO47iqKmMMRV1hmOrHjZBl2fl8tr//Xhwndl1XFMXxeByiHw4HpdRqtfpYaLfbYTn82TRNURTusiiKAOB+v9MMup/nOUlKkgTHM06rqop75omPRCx8Op16o7iPns+nT63lclnXdZIk2NUvl4sxhnYiIgiCzWZzvV4Ft23boiiQuN1u8SAAANCRE6doqHW5Z3WciJuNOpYANu2hS6T3RnAzUHJ8JN5TRHcQyf+1QzzAvd1yHD5E997ii0ee33pYgP5ScmOMeAEw3IOBX4rWWqWUuN6FaN5dOT4SxTYRjzekj68ZiuIL4PsLHeHfBb17GW8uWvbjy4GOzZCa3owjRGS5W8Dt6pyOVgqI3T6k07KWLF4Y18klBXb6v+DbAr6PyYLJgskCAPgDJX3FgDNf5D4AAAAASUVORK5CYII=\"></div></div></div>"
      ],
      "text/plain": [
       "-15\n",
       "\n",
       "12\n",
       "\n",
       "-3\n",
       "      2\n",
       "Sec[x]\n",
       "1\n",
       "-\n",
       "u\n",
       "-2 Cos[x] Sin[x]\n",
       "Tan[x]\n",
       "      2\n",
       "Sec[x]\n",
       "-------\n",
       "   2\n",
       "            4\n",
       "-15 Cos[3 x]  Sin[3 x]\n",
       "1.03972\n",
       "0.349066\n",
       "0.0721909"
      ]
     },
     "execution_count": 173,
     "metadata": {
      "text/html": [],
      "text/plain": []
     },
     "output_type": "execute_result"
    }
   ],
   "source": [
    "(* Ass. 1 Calc (con.) *)\n",
    "mat1={{1, 2, 4}, {2, 4, 5}, {0, 1, 2}};\n",
    "mat2={{-3}, {3}, {6}};\n",
    "Inverse[mat1].mat2//MatrixForm\n",
    "D[Tan[x],x]\n",
    "D[Log[u],u]\n",
    "D[Cos[x]^2,x]\n",
    "Integrate[Sec[x]^2,x]\n",
    "Integrate[Sec[x]^2Tan[x],x]\n",
    "D[Cos[3x]^5,x]\n",
    "(Log[16]-Log[2])/2//N\n",
    "Pi/9//N\n",
    "(ArcTan[2]-ArcTan[2/Sqrt[3]])/(2Sqrt[3])//N"
   ]
  },
  {
   "cell_type": "code",
   "execution_count": 36,
   "metadata": {},
   "outputs": [
    {
     "data": {
      "text/html": [
       "<style>\n",
       "\t\t\t\t\t\t\t\t\t\t\t\t\t.grid-container {\n",
       "\t\t\t\t\t\t\t\t\t\t\t\t\t\tdisplay: inline-grid;\n",
       "\t\t\t\t\t\t\t\t\t\t\t\t\t\tgrid-template-columns: auto;\n",
       "\t\t\t\t\t\t\t\t\t\t\t\t\t}\n",
       "\t\t\t\t\t\t\t\t\t\t\t\t</style>\n",
       "\n",
       "\t\t\t\t\t\t\t\t\t\t\t\t<div><div class=\"grid-container\"><div class=\"grid-item\"><img alt=\"Output\" src=\"data:image/png;base64,iVBORw0KGgoAAAANSUhEUgAAAB8AAAAVCAIAAAAxV6IIAAAAz3pUWHRSYXcgcHJvZmlsZSB0eXBlIGV4aWYAAHjabU9ZbgUhDPvnFD1CFnDgOMx7jNQb9Pg1A2pFVUvEjrMAaXx93uljwlRSLlHRACFyy806RZWFxSrtiSu5d01PP2nZfqdVfgsY279OP7DY6p9FYkv4vIHa8x7Yi9yWr33l1+63Xuu56JIDkJ+n/5tnD0OBRmbMJhFo1DVRklBMSuDGC2Cj4m2SX+SBCI4hZof3OThhI87ukeA03vMLPk/27kruzHgfNajL49C3i1Gf6vzON3c6WtsJ0eySAAAACXBIWXMAAA7EAAAOxAGVKw4bAAAAPHRFWHRTb2Z0d2FyZQBDcmVhdGVkIHdpdGggdGhlIFdvbGZyYW0gTGFuZ3VhZ2UgOiB3d3cud29sZnJhbS5jb21coqaFAAAAIXRFWHRDcmVhdGlvbiBUaW1lADIwMjQ6MTI6MDQgMTY6NTI6MTJ/ELB3AAABB0lEQVQ4je1UsY2EMBDcfV0ZRDY1EEG8lEAN1EADroCUCFwCEYnbwI7oYz/Y0z660598+rvkdRNY2h1rbI/HRmaGt+HrfdIf9Zepl2WJiN77m773Hk/4ITgPzjkAWJZFxjMlzRijlESksll7995v28bMRVHcs9M0EZExRsphGAAgpZTrTNd167r+xhpj9n3X8jgOaT7hjCCEcO9MjFF01SXnnFCXnL0/hjGGmdu2lfsMIdR1LdTVGeFukKmeUkJEWcM51zRN3/egx/mjM9ZaItJSzAkh5GbmMWKMGhgAkFzJ3b5AnYjGcZQIAsA8zwBQVRVAnjOaijOstTpBXpBC+8if//3/qX8DoIVf10NaZsEAAAAASUVORK5CYII=\"></div><div class=\"grid-item\"><img alt=\"Output\" src=\"data:image/png;base64,iVBORw0KGgoAAAANSUhEUgAAABQAAAAVCAIAAADJt1n/AAAAz3pUWHRSYXcgcHJvZmlsZSB0eXBlIGV4aWYAAHjabU/tbUQhDPvPFDdCPsCBcXh3nNQNOv6ZB2pFVUvEjhMSSOP7650eE6aScomKBgiRW27WKaosLFZpd1xJ3jU9/aRl+51W+S1gbP86/cBiq38GiS3hcwO1742xB7ktX/vKr91vvdZz0CUHID9P/zfPHoYCjcyYTSLQqGuiJKGYlMAbT4CNipdJfpIHIngNMTu8z4sTNuLsHglO4zW/4PNk767kzoz7qEFdboe+XYx6V+d3Pi2YWqln/tEgAAAACXBIWXMAAA7EAAAOxAGVKw4bAAAAPHRFWHRTb2Z0d2FyZQBDcmVhdGVkIHdpdGggdGhlIFdvbGZyYW0gTGFuZ3VhZ2UgOiB3d3cud29sZnJhbS5jb21coqaFAAAAIXRFWHRDcmVhdGlvbiBUaW1lADIwMjQ6MTI6MDQgMTY6NTI6MTJ/ELB3AAAAzklEQVQ4je1TwXHEMAhcpw4/PIZeqAUX4B5oROrCH9UhtcI9dCGOrctM7peZ7AvBLsMiaXJ3vIuPt5V/XszM0yeY+c5rrQVh27Zn1m8QESI6Z1QVQK31whyIc85naillqHT3l57Xde1BSklV4/gN934AzCyORGRmRBSSmAJnUq9dDF8E3f9Lz2YGoJQyHKTWCiDnPPa87zsRpZRikOEu8MMjWZalB8x8HEfkW2sA5nkeL+zsKq6qz+nuIiIiX567jYCqXtp1/b06+f9//hUe7WJJo5XuG1EAAAAASUVORK5CYII=\"></div><div class=\"grid-item\"><img alt=\"Output\" src=\"data:image/png;base64,iVBORw0KGgoAAAANSUhEUgAAABQAAAAVCAIAAADJt1n/AAAAz3pUWHRSYXcgcHJvZmlsZSB0eXBlIGV4aWYAAHjabU/tbUQhDPvPFDdCPsCBcXh3nNQNOv6ZB2pFVUvEjhMSSOP7650eE6aScomKBgiRW27WKaosLFZpd1xJ3jU9/aRl+51W+S1gbP86/cBiq38GiS3hcwO1742xB7ktX/vKr91vvdZz0CUHID9P/zfPHoYCjcyYTSLQqGuiJKGYlMAbT4CNipdJfpIHIngNMTu8z4sTNuLsHglO4zW/4PNk767kzoz7qEFdboe+XYx6V+d3Pi2YWqln/tEgAAAACXBIWXMAAA7EAAAOxAGVKw4bAAAAPHRFWHRTb2Z0d2FyZQBDcmVhdGVkIHdpdGggdGhlIFdvbGZyYW0gTGFuZ3VhZ2UgOiB3d3cud29sZnJhbS5jb21coqaFAAAAIXRFWHRDcmVhdGlvbiBUaW1lADIwMjQ6MTI6MDQgMTY6NTI6MTJ/ELB3AAAArElEQVQ4je2Tyw0DMQhE2bSCy/CdWlwKXfhGIdThWsgBBa2/UvYWKXNaIT/YGezLzOCpXo/J34XBzJh5riOifVRKiTozRx1sJUQspQRJRP4tIgAgIlvYT6jqrm/0WniutRJRznlpM6XUeb5LVQ9j/UaFoxEmontUgzy5aN3BPjbyGORL2aZ9GOspxg+PcGttaHwmO9j9zKR7ifUsYD+xHEtE88I8l8v+7/krvQFn/M81OESUvwAAAABJRU5ErkJggg==\"></div><div class=\"grid-item\"><img alt=\"Output\" src=\"data:image/png;base64,iVBORw0KGgoAAAANSUhEUgAAACcAAAAVCAIAAABKc2DEAAAA0HpUWHRSYXcgcHJvZmlsZSB0eXBlIGV4aWYAAHjabU/tbUQhDPvPFDdCSIID4/DuOKkbdPwzD9SKqpZIHOeLpPH99U6PCc2SvERFA4Tw5k07SZWF5bO0297Q2Ll86imXrXdK5TeBsfXr1AN7YP0zSHQRmxvIzXfDHmS69NxXfO167bWegy45APn5+r+xWygKcjitq0SgkddESoeiUgJvPAEWZrxU/Ek/EME2xKywPhsndMRZPRKMwmueYPO5dcv0nRH3kYO83Ap1vWjznZ3nfAAzfVqtTbyYqQAAAAlwSFlzAAAOxAAADsQBlSsOGwAAADx0RVh0U29mdHdhcmUAQ3JlYXRlZCB3aXRoIHRoZSBXb2xmcmFtIExhbmd1YWdlIDogd3d3LndvbGZyYW0uY29tXKKmhQAAACF0RVh0Q3JlYXRpb24gVGltZQAyMDI0OjEyOjA0IDE2OjUyOjEyfxCwdwAAAT5JREFUSIntlcGNhDAMRe3VVoG4OVXQQFqgAqSUEkQf0ALXIFEFRHSSPXiVydgMGq1WnOafwNj/OU4iMKUEt+vrfuSHeh81xoiFdN40TYhojNGfjDGnhWU8q+/7X2qMkYiWZUkppZSISLgjYgjBWquRiNh1HRc650rwtm2p0LIsANA0DQBAUhrHEQDKJvjZWktEZab3XkQAYBxH7SnKv3X7dV2Xr9u26RzWcRxiKtbaEELbtiIzxjjPM68HTk/Tuq4AUFXVK9h1TzFGnTYMAxE9uhFz2PedW74eUblVeaS8FF3Lnt77x0aIjNNWXlEzieWcs9Y650SOc054Pr0QEQDs+/4+VYiIxGnSC32iXiPfofLARdB7r20hO0JxW/5AZXd9bXjyMph7FMoA3hWh7K7zS3Gtnh+mz//1Q/0v/QBwULpdMMfsbwAAAABJRU5ErkJggg==\"></div><div class=\"grid-item\"><img alt=\"Output\" src=\"data:image/png;base64,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\"></div><div class=\"grid-item\"><img alt=\"Output\" src=\"data:image/png;base64,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\"></div><div class=\"grid-item\"><img alt=\"Output\" src=\"data:image/png;base64,iVBORw0KGgoAAAANSUhEUgAAAFYAAAAVCAIAAABT+I5iAAAA0HpUWHRSYXcgcHJvZmlsZSB0eXBlIGV4aWYAAHjaXU9ZckMhDPvnFD2CF5DhOLyEzOQGPX7Fg7ZDNIMtyytpfL9f6WvCVFIuUdEAIXLLzTpJlYXlVdptbxTsnJ560rL1Tqn8JzC2fp167EFWPwaJLeJzA7nn3bAHuS1d+4qvXW+91nPQJQd+L/+77CPOHoYCjUybTSLQyGsipUMxKYEXHgALFU+T/KAfiGAbYlZ4n40TNuKsHglO4Tm/4PNl7670nRH3kYO83Iq620Wrd3Z+5wc2glqwp2QbgAAAAAlwSFlzAAAOxAAADsQBlSsOGwAAADx0RVh0U29mdHdhcmUAQ3JlYXRlZCB3aXRoIHRoZSBXb2xmcmFtIExhbmd1YWdlIDogd3d3LndvbGZyYW0uY29tXKKmhQAAACF0RVh0Q3JlYXRpb24gVGltZQAyMDI0OjEyOjA0IDE2OjUyOjEzCBeA4QAAAehJREFUWIXtmDGSgjAUhl92PIaFQzhGtLDBIxArKmfMAbTxAnAAjqA5gjYW4jEMV8kWmcmoJG+D4Do7y1dY8L+8PB/hT4BoreF/8/XpAj7P0IKhBUMLoNmCuq4JIXEcO6MRNY5jQoiU8v6ilJLc8aS2wuQ3OAsQQhBCrterczim6kfW67X241TzPAeAw+Fgfn1jq6rCA8JJkoRS6pPwgc2LjlWA3IqmKqU8n89a6/F4jAwEAMYYpfRyueBhIWRZppRylhpFETLQqXb1gjRNj8djePxkMuk4owX/t+H8nh0WRaGU2mw23VNxzs3T1wtvb4F1xO12a/ziZawjUkp7aaXhoQVSyvl87gvFVR9pmlrj4ZwvFotXygQAgNvtZvKsViufvS+Xy6IofBncqq3POHZVVU4vxVUdZvhmFSilkJhAKKW+zQsA8jz3DWyqI9sLxpjWWgjBGGv2D1db0ZeNOZ1VCKH9L35OteumGE5d104bM4+370jjRAjRl7NCdzs050VCyHQ6BQDO+f3pzZzJrIc5606SBAD2+33ILAYAQG51W0Y/h6BEUYRUU5ZlWZZ4hizLTqcTfl7AZ+nI8yp44XTVkd1uBwA9bnJteW7BbDZDXpNwtS3mMYGeVrXN1lYl71tgf4XhewF8A6AWhMZcTT5YAAAAAElFTkSuQmCC\"></div><div class=\"grid-item\"><img alt=\"Output\" src=\"data:image/png;base64,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\"></div></div></div>"
      ],
      "text/plain": [
       "-18\n",
       "36\n",
       "72\n",
       "2197\n",
       "169   0     0\n",
       "\n",
       "0     169   0\n",
       "\n",
       "0     0     169\n",
       "12    3     -4\n",
       "\n",
       "3     4     12\n",
       "\n",
       "4     -12   3\n",
       "{{13, 3}}\n",
       "  12    3    4      3    4     12         4    12    3\n",
       "{{---, ---, ---}, {---, ---, -(---)}, {-(---), ---, ---}}\n",
       "  169  169  169    169  169    169       169   169  169"
      ]
     },
     "execution_count": 36,
     "metadata": {
      "text/html": [],
      "text/plain": []
     },
     "output_type": "execute_result"
    }
   ],
   "source": [
    "(* Assessment 1 Calculation *)\n",
    "4-18+6-10\n",
    "20-12-8+36\n",
    "72-16-24+40\n",
    "mat1={{12, 3, -4}, {3, 4, 12}, {4, -12, 3}};\n",
    "Det[mat1]\n",
    "MatrixForm[Transpose[mat1].mat1]\n",
    "MatrixForm[mat1]\n",
    "FactorInteger[2197]\n",
    "Inverse[mat1]"
   ]
  },
  {
   "cell_type": "code",
   "execution_count": 45,
   "metadata": {},
   "outputs": [
    {
     "data": {
      "text/html": [
       "<style>\n",
       "\t\t\t\t\t\t\t\t\t\t\t\t\t.grid-container {\n",
       "\t\t\t\t\t\t\t\t\t\t\t\t\t\tdisplay: inline-grid;\n",
       "\t\t\t\t\t\t\t\t\t\t\t\t\t\tgrid-template-columns: auto;\n",
       "\t\t\t\t\t\t\t\t\t\t\t\t\t}\n",
       "\t\t\t\t\t\t\t\t\t\t\t\t</style>\n",
       "\n",
       "\t\t\t\t\t\t\t\t\t\t\t\t<div><div class=\"grid-container\"><div class=\"grid-item\"><img alt=\"Output\" src=\"data:image/png;base64,iVBORw0KGgoAAAANSUhEUgAAAFYAAAAVCAIAAABT+I5iAAAA0HpUWHRSYXcgcHJvZmlsZSB0eXBlIGV4aWYAAHjaXU9ZckMhDPvnFD2CF5DhOLyEzOQGPX7Fg7ZDNIMtyytpfL9f6WvCVFIuUdEAIXLLzTpJlYXlVdptbxTsnJ560rL1Tqn8JzC2fp167EFWPwaJLeJzA7nn3bAHuS1d+4qvXW+91nPQJQd+L/+77CPOHoYCjUybTSLQyGsipUMxKYEXHgALFU+T/KAfiGAbYlZ4n40TNuKsHglO4Tm/4PNl7670nRH3kYO83Iq620Wrd3Z+5wc2glqwp2QbgAAAAAlwSFlzAAAOxAAADsQBlSsOGwAAADx0RVh0U29mdHdhcmUAQ3JlYXRlZCB3aXRoIHRoZSBXb2xmcmFtIExhbmd1YWdlIDogd3d3LndvbGZyYW0uY29tXKKmhQAAACF0RVh0Q3JlYXRpb24gVGltZQAyMDI0OjEyOjA0IDE2OjUyOjEzCBeA4QAAAnFJREFUWIXtVz2OszAQneQgUYQ5QypIa46QXAAJ6og0KdMYUQcpFV04QmhoQClyBrAiLuItZtef12DCfs0WyysQ9viNZ55/BhZCCPjbWP52AL+PWYJZglkCUCUIw3Dxhbqup7swEW3bXvQQx7HK9Tyv31nX9QhFm9fzPLWTcy6JmkmNE5HnOQCAEEIIQSklhOA7YwwAqqoSEzCdWFWVar3dbgCAT8aYyX/btoMD0BsAUEpNUxBCVGsQBGpTAiSzbVvZSwgJgsCc+LcpJxJVsaqqwndThhqxHzqlFFNSTdhpCs8kwRIAHo8HIcSyLLkP27ZN0/TtEZhO5JwXRXE+n7HpOE7TNG/9S8gpEHmeF0VxOBy0YU3TrNdr2XQcBwCez+e48yUAlGVp27b07rou7k/O+Th5OjFJEkLIbrcbd9jHYLb7/Z4xpumCeL1eWk/XdfK9KIr+tfWtIsRxfDqdxM+/F8eJnPM0TX3fn+5Q3oj9bOM4JoREUdRn+b6fpqlcgDAMVevlcpGbnzHmui5eh/8k8DyvLMsf7c+JxCRJAGAwaBMcx5HhXq9Xudc458fjUR4oDVEUBUFACEH5ttstAKxWq8GRlNIsywAlsCyrKArLsu73O47ouk495CZMIeIWwGLxf8iyrG1b3LdhGFJKRw6UutSbzQYA8DmIz2UTX/VJvdi1q9WEKURMXh2jYkpFUC92UzKD0TLGBksAQhYvkG2tvGtBY2ff41uiKT7EFAlGPAzWS2kakR6tn/61XkSfEwQBAMhs++4GicgajGNwMdGknZqRjzRNAvm9NKiaGqdqXZii+TuYf5NmCWYJYJYAAD4AB1yx/N6JXPMAAAAASUVORK5CYII=\"></div><div class=\"grid-item\"><img alt=\"Output\" src=\"data:image/png;base64,iVBORw0KGgoAAAANSUhEUgAAAEMAAAAVCAIAAACSf8TOAAAAz3pUWHRSYXcgcHJvZmlsZSB0eXBlIGV4aWYAAHjabU/bDQMhDPtnio6QFw6Mw/Wo1A06fsOBWlHVErHjPIDUX89Hug0IU7LsBRWggFWr0kIUmpjMVK94wXTVePcT5+W3sPK3gL78Y/cdk6X8LCKZQscNodXWwFqkMn1uMz9Wv7RS9kUHbQB9nv43N3VBBrtFNCF31NAlhQxCFsqOB+5ANDJOIbsHd7jHGHx0aBuDA9J97+4JGsY5vqDjmDbl4BZZ3BcaofPlsKocEfmqju+8ATCdWqzXEHmXAAAACXBIWXMAAA7EAAAOxAGVKw4bAAAAPHRFWHRTb2Z0d2FyZQBDcmVhdGVkIHdpdGggdGhlIFdvbGZyYW0gTGFuZ3VhZ2UgOiB3d3cud29sZnJhbS5jb21coqaFAAAAIXRFWHRDcmVhdGlvbiBUaW1lADIwMjQ6MTI6MDQgMTY6NTI6MTMIF4DhAAABgElEQVRYhe1Xy42EMAx1tgzECdNLaCXUwSU0Qg2coQ3SivdgbSbrfCYzO9IixLuB4897eWY0iojgEvj67wE+hpvJ+XA5Js45FaA+v+979RvOuVxIKTXPM0eHYRChfd992Xme/ftxHEXTZDsgouM4AGDbNiIiIkRERKoDIlpra05u2xZ20VobY5InrbV+AM4KWwDAsiy+CFMgIogLLcsStvwUE611KFCBSTkxBPNkYok9adu23l2VcM6t6zpN0xu5XdflQk3TPB5iotZaADiOo0YwRAxL544ZY4SubAyPQjtE1FonQ6F9ZG/emVxmGTxcPBPXLJjQGAMZP7OsfjEEAMALJJmUpX2K5MQ8aDkREeO1Yclz68R28MJBIfYG4sZPL8S3Fkbgbc65g+8/vMYHk7/T4KGFEyq3TrB9lQZ5JslYPFB5f5IHCvbwEL9grEjuy8tejTcH6EcAAVGI8+PqYUpcnbOSFxJ+9IT3OEuAzzDJGESk6P5/cjbcTM6H6zD5BrNvqmcGrxS0AAAAAElFTkSuQmCC\"></div><div class=\"grid-item\"><img alt=\"Output\" src=\"data:image/png;base64,iVBORw0KGgoAAAANSUhEUgAAAJsAAAAVCAIAAADeuQtzAAAA0XpUWHRSYXcgcHJvZmlsZSB0eXBlIGV4aWYAAHjabU/bjQMhEPuniithHuCBctiESNfBlX9mIYk2iiXGHs8DSOPv95F+Jkwl5RIVDRAit9ysU1RZWKzSzniiHbumVz9p2X6nVd4FjO0fVz+w2OrHIrElfN5A7XkP7EVuy9e+8mP3W6/1uuj51A3I6+lf8+xhKNDIjNkkAo26JkoSikkJPHAD2Ki4m+QbeSCCY4jZ4X0OTtiIa/dIcBr3+QWfJ3t3JXdmvI8a1OV01N0ORj2r8zv/fTZa4AZpb9oAAAAJcEhZcwAADsQAAA7EAZUrDhsAAAA8dEVYdFNvZnR3YXJlAENyZWF0ZWQgd2l0aCB0aGUgV29sZnJhbSBMYW5ndWFnZSA6IHd3dy53b2xmcmFtLmNvbVyipoUAAAAhdEVYdENyZWF0aW9uIFRpbWUAMjAyNDoxMjowNCAxNjo1MjoxMwgXgOEAAAMASURBVGiB7VlNbuowEB73GBWqUMwpEGzYhAOwaC4QKRyAE7AJ6hq2rIBFD9B9WHGG2kKIe/gtRrXc+KdmCC8V5VsRZ8ae8Yy/GQemlIIH7ghPbRvQPnq9HmOMMbbf79u2pQH89YguFos8z5VSVVUNh8O2zWkA7MG6CCkl5/wOduOvn1GNw+GQpilZfb/fM8bG43GDJtEQG1FdbBhjvV4vLCylZAauNtJtSYMqUsosy5bLZcwkzop7Pp/j7bnUvMu01OVI0xQJyontdgsA2+3WlCesElidplgUhXNcCAEAVVUFdAHAXDdNUyEEzQwb1+yP7RQlohgzp0u4O2VZUqyLQ7MRjQlnwN9G0GxE6XU0SRJ78P39HQAmk4lPa7fbBdh7PB7Hc7vGdDpljC0WCz2CM0gpf9R9e3sDgOFwiCrmJDUcDgfnOFZQxHQ6tV9JKTVD1gRu4RHljIL/FBZFESDksizBSHbsRPTbNE1jstUpUxSFnhl/O2V+nNwHzjl8J16nTG2Jqqpwk7EG4aPNB2SP1JWsi14BQCBm4RJbSwVkPF1x7R3xLRFYGhnSyaLXRFR9pSPCycC+iJothfMwkD1SAdY16c7Xo35+fqJOnueELywo3+/39UiSJJzz0+mEj/P5fLVaXcS3Jj4+PoQQWZaVZTkYDAgzhDGbzdRXFnLOd7tdpGKn06GtSPPoSSvb8ffpzGYzzvlms7FfjUYj9JmA19dXzGshBCGuusYcj0eaATFIkgSP43q9vt0qCJpH9M6o2+3ag3gEnfn7/PwM3+9tUkohxMvLiyk2GAzwKAgh4s8BACDpVVW1Wq0uUiSAxiKXguiRk53DCBRq/dZ5HzWrPWa6r+j6mgjlqTpm/caCZ+uS6yhuq360L9wIXx01dSG6jsZ4pMidUY1If9wa9NmZNGZ/UZunlmq+XsD2H1s2U94eUdd1RrUPhGZnhGlaAwqQIxrpkdMpyhltF41/M2odv+ULwwO/FNelVwvQ1+KbqvxP0MzzaT3+H703PFj33vAPKguNeu23acEAAAAASUVORK5CYII=\"></div></div></div>"
      ],
      "text/plain": [
       "0.0713495\n",
       "2.57522\n",
       "         2\n",
       "-3 Cos[x]  Sin[x]"
      ]
     },
     "execution_count": 45,
     "metadata": {
      "text/html": [],
      "text/plain": []
     },
     "output_type": "execute_result"
    }
   ],
   "source": [
    "N[(Pi-2)/16]\n",
    "N[12-3Pi]\n",
    "D[Cos[x]^3,x]"
   ]
  },
  {
   "cell_type": "code",
   "execution_count": 48,
   "metadata": {},
   "outputs": [
    {
     "ename": "SetDelayed::write",
     "evalue": "Tag Real in 9.8[x_] is Protected.",
     "output_type": "error",
     "traceback": [
      "\u001b[0;31mSetDelayed::write: Tag Real in 9.8[x_] is Protected.\u001b[0m"
     ]
    },
    {
     "data": {
      "text/html": [
       "<style>\n",
       "\t\t\t\t\t\t\t\t\t\t\t\t\t.grid-container {\n",
       "\t\t\t\t\t\t\t\t\t\t\t\t\t\tdisplay: inline-grid;\n",
       "\t\t\t\t\t\t\t\t\t\t\t\t\t\tgrid-template-columns: auto;\n",
       "\t\t\t\t\t\t\t\t\t\t\t\t\t}\n",
       "\t\t\t\t\t\t\t\t\t\t\t\t</style>\n",
       "\n",
       "\t\t\t\t\t\t\t\t\t\t\t\t<div><div class=\"grid-container\"><div class=\"grid-item\"><img alt=\"Output\" src=\"data:image/png;base64,iVBORw0KGgoAAAANSUhEUgAAACcAAAAVCAIAAABKc2DEAAAA0HpUWHRSYXcgcHJvZmlsZSB0eXBlIGV4aWYAAHjabU9ZbkQhDPvnFHOELODAcXgzjNQb9PhjHqgVVS2ROM5G0vj+eqfHhKmkXKKiAULklpt1kioLy6u0296w2Dk99aRl651S+U1gbP069cAeWP8MElvE5wZyz7thD3JbuvYVX7veeq3noEsOQH6+/m+cPQwFGpk2m0SgkddESodiUgJvPAEWKl4m+Uk/EME2xKzwPhsnbMRZPRKcwmue4PNl7670nRH3kYO83Iq620Wrd3ae8wEzjVquXQSCuwAAAAlwSFlzAAAOxAAADsQBlSsOGwAAADx0RVh0U29mdHdhcmUAQ3JlYXRlZCB3aXRoIHRoZSBXb2xmcmFtIExhbmd1YWdlIDogd3d3LndvbGZyYW0uY29tXKKmhQAAACF0RVh0Q3JlYXRpb24gVGltZQAyMDI0OjEyOjA0IDE2OjUyOjEzCBeA4QAAAQFJREFUSIntlc+NhSAQxr/ZbBUehRo8UYAlePSKNViB8SwdKDVwhdgFtMIeSAh5+zbr5j3NHvxOTGaGXzJ/gGKMuFwf1yNv6kVUzjk9UwjhLGwsJKVkjMXz9V/7qrUmIgBt26bKD8OQXM45InLO5WAimqYpmyGEsmV/oObr+r6PMVprlVIl6SeFEBhj1trcvgw+St22res6AEIIAPu+/5oyz7OUMsUDWJYFgNYawOdBatM0+XzwETXGeO+VUt9d506TlPJhelPBXqJWVVWaD/vNOTfGPE18iVrXNYB1XZPJGCu94zh67/PAv40KII10WgxrbQkWQpTecnno/l9v6tv0BeNH3zcjZVZmAAAAAElFTkSuQmCC\"></div><div class=\"grid-item\"><img alt=\"Output\" src=\"data:image/png;base64,iVBORw0KGgoAAAANSUhEUgAAADoAAAAVCAIAAACYI2qcAAAAz3pUWHRSYXcgcHJvZmlsZSB0eXBlIGV4aWYAAHjabU/ZrQMhEPunipQwB3igHDYh0uvglR+zixIRxRJj47kgjf+/Z7pNmErKJSoaIERuuVmnqHLhYpV2xhPeV053P2lZfqdVPgmM5R+7H7jY6tcgsbVpbqD2vBrWILfL1/WSY9Vbr3UfdMgGyPvpP+/Zw1CgkRmzSQQadU2UJBSTEnjiDrBQ8TDJd/JABNsQs8L7bJywEXv1SHAaj/kFnyd7dyV33riPGtTldJTOwahndn7nBXLxWtrdWLacAAAACXBIWXMAAA7EAAAOxAGVKw4bAAAAPHRFWHRTb2Z0d2FyZQBDcmVhdGVkIHdpdGggdGhlIFdvbGZyYW0gTGFuZ3VhZ2UgOiB3d3cud29sZnJhbS5jb21coqaFAAAAIXRFWHRDcmVhdGlvbiBUaW1lADIwMjQ6MTI6MDQgMTY6NTI6MTSWcxVCAAACCklEQVRIie1WMZLqMAxV9iAMY+UYpEnjHAGO4ByANJRpnAOQGS4QCg4ATQpCxRmSFFzEv9B+rdYGli2YHWZ4BWNLlvwkSwqRcw5eBx9/TeB3eNN9Jl6Wbp7n0X+cTqdfeZG24zhKFcvjOL5jm2VZqGLbL61zzjmntUZEWltrAaDrOvcAhmEAAGPMLZW1lraIyFcwuq4jGlprKb/FAdhmGAaWIuJVBiG01rdOGmMkCbrFY0DmWmt5kuK8mi+gUGTcHPGPXMmvjFMCETm1xN57h6ZpyNyja631ks34AIC2bbmwttttkiTkyKvCEOfzmX65yPI8J9U4jsMwTCYT2lLxaa2lz8ViYa1VSnlu27ZVSmVZFvbSt8lQVdVqtXIPf+culwsAHI9HTnZd11VVecfiOE7TdL1ee3ch4nK5DN32fV/XNTGhZCdJQnF+0c2yrG3bvu8f5MpgHkopY8xms5HxRFFUlqVHaxzHoijKsrzl0xgzm81oTba73e6TrlLqcDgopfb7PV+DiOEzeeC3ZkynU6YOAEVRdF03n89J2Pd9mqYAkOe51prlHsKRh4ifK1nyXNF3+l0ibHY5De70+52kkhNv5AFA0zSOJoP7PhRp5nn9TsKwYeXA9tjTVs7dW/1+NTA2lOxB2nCUoUcaQ+Gc9wy9IOlimblH6HqGUhW59//d5+FN95l4Mbr/AMiJkPJAklNsAAAAAElFTkSuQmCC\"></div><div class=\"grid-item\"><img alt=\"Output\" src=\"data:image/png;base64,iVBORw0KGgoAAAANSUhEUgAAAEMAAAAVCAIAAACSf8TOAAAA0HpUWHRSYXcgcHJvZmlsZSB0eXBlIGV4aWYAAHjabU/ZbUQhEPunii2BOfBAObxdVkoHKX/NAyUiiiXGHs8BpPH99U6PCZWcvERFAzLhzZt2ipoXFktud7zhtmty+knK9jut8lvA2P51+oHFWv8syrqEzRuozffAXmS6fOkrv3a/9lrPRVc+gPzz9H9zt1AUSDija45Ao66JkoSiuQTeeAJsFLw0+5M8EMExxOywPgcndMTZPRKMxmt+weZx6ybkzoz3UYO63I7QuRjlrs7vfAAwrVqtleIl8wAAAAlwSFlzAAAOxAAADsQBlSsOGwAAADx0RVh0U29mdHdhcmUAQ3JlYXRlZCB3aXRoIHRoZSBXb2xmcmFtIExhbmd1YWdlIDogd3d3LndvbGZyYW0uY29tXKKmhQAAACF0RVh0Q3JlYXRpb24gVGltZQAyMDI0OjEyOjA0IDE2OjUyOjE0lnMVQgAAAkpJREFUWIXtVz2u4kAMdjgGQhSZnIEqUFAwOQJ0tEmNRJMLJAcgElUqkiMkTZpEFJyBoYhyj9nC4OeX8PP2LdIixFegGY/t8ed4bGForeEt0PvfATwNHyavh3dk4nmecUFVVX/lxbIswzDSNG3Jq6oin57ndQ3DMOxeyq0MwwjDkJs4jmN8x9lQa621llIKIXAdBAEAlGWpfwBUTpIEf/kRCpVSuAUA13W5AgBIKe/7V0oBQBAEJJFStvycvWmty7LkV2qthRBXtVtIkgRDQQ8tJkIIHgESo63rug9pUOhc8xaTHgDs93shhGma9HGVUlEUPSyq+XyeZdmtU6XUcDik7Wg0Que4jaLI9/2HVyAotjvoAUBRFJZl4T5N0/F4jPk7nU4/vOkW6rpuSZqmgQufpmmo1h3HueohTdM8z1erFRdGUUSGFOS33hWGoe/7+klT33Xd9XpNW/7ikU8cx1QbeZ5zBXr0i8UiCAL+TbIs4yUqhMC8fDFxHKcoiuPx+BQaALDZbKSUlLzlcgkAg8GAK9A6CAJez7ZtU7jb7ZZKpnuFEGK3252ZmKaZ57lpmlT0dV3zl/Nr8PwhB9u2W3wQ/EW1EMexUurOYMAC6wHAZDIBAF6LRVHMZrN/ItHBbrdzXRfX/X4fAA6HA51i7u6Yo0kXSqnpdApwaYtCiNY84U2ZhLf65tUuzIFRcgmywjUOjVvm0BlE3C2F/eVdSklEuzZ4MZnxCFogHWyACD5YWj4RfBBj1q4eUVK6bg39+X/yavgweT28D5M/QTAaPba8Bl0AAAAASUVORK5CYII=\"></div><div class=\"grid-item\"><img alt=\"Output\" src=\"data:image/png;base64,iVBORw0KGgoAAAANSUhEUgAAAG0AAAAVCAIAAADD6/etAAAAz3pUWHRSYXcgcHJvZmlsZSB0eXBlIGV4aWYAAHjabU9ZbgUhDPvnFD1CFnDgOMwbntQb9Pg1A6pKVUvEjrMAaXx9vtPHhKmkXKKiAULklpt1iioLi1XaEx/g3jU9/aRl+51W+TUwtn+dfmCx1T+LxJbweQO15z2wF7ktX/vKr91vvdZz0SUHID9P/zfPHoYCjcyYTSLQqGuiJKGYlMAbL4CNitskv8gDERxDzA7vc3DCRpzdI8Fp3PMLPk/27kruzHgfNajL4yidi1Gf6vzON3vKWuCJqXsnAAAACXBIWXMAAA7EAAAOxAGVKw4bAAAAPHRFWHRTb2Z0d2FyZQBDcmVhdGVkIHdpdGggdGhlIFdvbGZyYW0gTGFuZ3VhZ2UgOiB3d3cud29sZnJhbS5jb21coqaFAAAAIXRFWHRDcmVhdGlvbiBUaW1lADIwMjQ6MTI6MDQgMTY6NTI6MTSWcxVCAAACpklEQVRYhe2ZMa7iMBBAx6s9BUIUcU6BUhMOQEGoaJMDkAvQmAMkLRW44ADQ0CSi4AxxhBDiGt5idq0o8QYngf3sLq9KPB7PaDyTGQGRUsKHznz7agf+ET5xfA6fOD6H941jmqaEkPF4/NWOGPEzjkEQ2Lb9Ihu2bRNCCCG/WyeEpGlakt5ut1cY7aJVI/0T+WjbtpSyNBgQQtS6lHK5XOZ5XtwwnU6llPv9/olGH5JlmZTS9/2m0u9tfOwM5xwAoihSK63j9SYY5SPnXBVgtfxJhWqRajmfz9p1/DIiQRBURXmeqxIrbaghCAJCyGq1KnleqoOWYPL7vk8plToYYwAghMBX13WVFlaN7/vanQrXdavHUkoBQCsq7lGHI0mSoNvb7Va9JklS1dWejCWJHuKz1m7JqIn0cT6GYcgYsywLX7EYsTDxJmezGYomkwkA3O93k/vLsowxdjgcWiTFdrudTqcA4DgOAJxOJ0PFKIpc1x2NRpzzOI7VrXTnQRyxQofDoVqxLItSer1e8RkANpsNina7HQD0ej1D24vFQkophAAASinejQn9ft9wZ5X9fi+E8DyPMYbX8BS69mtKaRzHmFNhGAohVOYaYlkWlvB6ve7ojAkq8S+XyxOPfRBHTK7iKJfnuRBiMBgAAOe89DVsGkTF66bXEvjNTZIkjmPzCnjIgzhaluX7vud56hpHoxGlFD9PWF+G3blIEARFLc754XCYz+dNz2nKeDymlEZR5DgOY8zzvBbO6yk2siLFfoeNGCl1q6oiY8ykdWLfVxTzWjvo4oZqg9Za1BrFCaGoW11RDlQPrJfqG78h1dFBO/rUDzcvoovRl8w9jTgej/Crj/9ftL40pFSe2mEey6e7rUa0M1qvVSMl8vO/wjN4398f/y5+AKgHEnhWRAiNAAAAAElFTkSuQmCC\"></div><div class=\"grid-item\"><img alt=\"Output\" src=\"data:image/png;base64,iVBORw0KGgoAAAANSUhEUgAAAE8AAAAVCAIAAACIQyRAAAAA0HpUWHRSYXcgcHJvZmlsZSB0eXBlIGV4aWYAAHjabU/tbQUhDPvPFB0hCcGBcbj3OKkbdPyaA7WiqiVix/kA0vj6vNPHhKkkL1HRACG8ebNOUWVhsUp74gO/d01PP2nZfqdVfgsY279OP7DY6p9FYkvkeQN19j2wF2VbvvaVX7vfeq3noksOQH6e/m/uOQwFGs7oJhFo1DVRklBMSuDGC2Cj4m3iL/JABMcQsyP3OThhI87ukZBpvOcX8jyee1ZyZ8b7qEFdHkfpXIz6VOd3vgF7yFrgmUFByAAAAAlwSFlzAAAOxAAADsQBlSsOGwAAADx0RVh0U29mdHdhcmUAQ3JlYXRlZCB3aXRoIHRoZSBXb2xmcmFtIExhbmd1YWdlIDogd3d3LndvbGZyYW0uY29tXKKmhQAAACF0RVh0Q3JlYXRpb24gVGltZQAyMDI0OjEyOjA0IDE2OjUyOjE0lnMVQgAAAcBJREFUWIXlV8uRwjAMlbcV00YuXEwBXGiAGdNJMvRhDhTA3TlRA/HQifcgMFr/EJDMzoR3CjKS9WQ9JRbee/ga/Px3AlNhsVgIIYQQfd8H4zzZdl233W6999bapmmCXcy7k51zUsrAcZ5nG3A+n5VSj9+ejWEYaCC+IwdSyjfC1r0w4WEYgoUb3RgDAMaYYFFKvZRZHZ9E01qnRqRqraVGFlv0bNv27YSeYly2Waree5Zuj8cjAKzX69If+r4XBIfDga4658LSarXi7AgAu91OCNF1XbBgBOfcU9/9fg8ATdOgyyMIs3g42bKw1kKukIhIAsYYKoeA7NlqreEuPHwupfeUAoLFVilVYYt86DCgkFJysil1Mm6NW5QK+jLbP2Ma4mOvs/VkNkbnVtJPiopuMXJlavDZ3nR7Op1K2wDAcrmMXj8RLpcLZrzZbFLdfoKg0uv1OkI4TklQmVm9ZStNGwF4w7x0tgCgta4nMLJu/X1IcN63Sim61LYtkGa21vKnFFVQFCfKjcnihW8XHBVpU2AeAWne1LFSo8iCs4DSSy2ISdhOitG/pbKY+a0gxtsVHRdT3ApSzPx+G+G7OvkXcdhMTUWR8QIAAAAASUVORK5CYII=\"></div><div class=\"grid-item\"><img alt=\"Output\" src=\"data:image/png;base64,iVBORw0KGgoAAAANSUhEUgAAAEMAAAAVCAIAAACSf8TOAAAA0HpUWHRSYXcgcHJvZmlsZSB0eXBlIGV4aWYAAHjabU/ZbUQhEPunii2BOfBAObxdVkoHKX/NAyUiiiXGHs8BpPH99U6PCZWcvERFAzLhzZt2ipoXFktud7zhtmty+knK9jut8lvA2P51+oHFWv8syrqEzRuozffAXmS6fOkrv3a/9lrPRVc+gPzz9H9zt1AUSDija45Ao66JkoSiuQTeeAJsFLw0+5M8EMExxOywPgcndMTZPRKMxmt+weZx6ybkzoz3UYO63I7QuRjlrs7vfAAwrVqtleIl8wAAAAlwSFlzAAAOxAAADsQBlSsOGwAAADx0RVh0U29mdHdhcmUAQ3JlYXRlZCB3aXRoIHRoZSBXb2xmcmFtIExhbmd1YWdlIDogd3d3LndvbGZyYW0uY29tXKKmhQAAACF0RVh0Q3JlYXRpb24gVGltZQAyMDI0OjEyOjA0IDE2OjUyOjE0lnMVQgAAAg1JREFUWIXtl0tugzAQQMdRj4GiCHMM9uYIOUEkvI5gwwVAWRMpFyCLXAC2sMoZsFdWruEupjjm07QkVZtWfSvs8Xhm7JkBiNYa/gSLn3bgy/iP5PkYRsI555x/oQEpJSHE87yxIdLRNM3d+3uehw4PI5FSrlYre+Z4PJI+Y7ducLlcJufzPNda13U9z/H3eTFPhBB8KMsyjmMhhOu6RjoYfh7f97+nPS6gS4A0TYUQACCE0Frf5/cPsgCA0+kEAFEUYSbMjSEIApN4WZaZeTwgJAiCWXvauiZZDFmWGRGe/lsky+USxUopSuncMJIk0Vpj0sdxbMrXdV2cZ4zNDYNSWtc1qodhaAfDOT8cDrrj6jCO0zTFIaVU9ymKYmApDEP9DgCQpulgkjHGGJtcjxVvnDauD0wAQFEUk+sppbj4rXdFUYRbCCEmLxSLB8nz3D6/G2lwH1VV7ff7yW2VUgDg+/5Yq9eFpZR4ogDwmczGNLDP79EgOsbXvl6vb6v0ImnbFmuGMda27Yf2zuczAGy32wd8nsDzvKqqJkWO4wCAlBKHUspexRuEEI7jNE1TluVms/nQJO6L8YD1RnqQJEmEEJOfGphXu90Ouoy4yrA8Bgp2SWHF23ViY1oFajHGTMXbovHOY5HdFcbvfiMyl4BemfYAtvK4cf0irtmllJr1QfVsEP3/z/hs/J1IXgFSi6e0UHI63gAAAABJRU5ErkJggg==\"></div><div class=\"grid-item\"><img alt=\"Output\" src=\"data:image/png;base64,iVBORw0KGgoAAAANSUhEUgAAADsAAAAVCAIAAAB34QGiAAAA0XpUWHRSYXcgcHJvZmlsZSB0eXBlIGV4aWYAAHjabU9bjgMhDPvnFHuEJAQHjsO0VNob7PHXDLTVVLVE4jhP0vj7faSfCVNJXqKiAUJ482adpMrC8irttCfysXN61ZOWrXdK5Z3A2Ppx1QPLW/0YJLY3zQ3k2XfDHpRt6dpXfOx667VeBz1P3YC8Tv8aew5DgYbTukkEGnlNpHQoJiXwwA1goeJu4jf6gQi2IWZF7rNxwkZcq0dCpnCfX8jzee5Z6Tsj7iMHeTkVpXLQ6pmd3/kHdGpa2yhbsbgAAAAJcEhZcwAADsQAAA7EAZUrDhsAAAA8dEVYdFNvZnR3YXJlAENyZWF0ZWQgd2l0aCB0aGUgV29sZnJhbSBMYW5ndWFnZSA6IHd3dy53b2xmcmFtLmNvbVyipoUAAAAhdEVYdENyZWF0aW9uIFRpbWUAMjAyNDoxMjowNCAxNjo1MjoxNJZzFUIAAAGWSURBVEiJ7ZdNrsIgEMcHj+HKFI7RrrlCuYAJHsA74EU4Q7dtj1GMMd4DFxMJobRM8555z8TfqgIDf+arlXnv4aPY/bWAzXwVv59PViyEYC82bREbXi6XlQVLVkIIohUAgPce24UxBp+11mG8COdca43PwzDE+wSklOubSCk559mpsHkAvPfGmMQAAKy1RbkocRiG+Oz5GUXF1loAcM5RFO8A4Ha7JXGRUvZ9X8yH/X4PAI/HI4xM03Q4HIqGWaqqoizbhZOSiev1SjlDa62UwvQVQjjnzufzRqmglDLGUFeH4IY0wBgVQ5nkxorJ0jjnHA2XkngxK+q6ttYqpbA2+76XUhJjdDqdmqbBFOy6jjFGCQ4yTROKOB6PjLFxHKk+zt6eUnkYjbjyOOdzj1LCFfecmLyPE8ZxdM61bVu87f1+h1f9IUKIeUkQoZZscgOsgLmDcTzxFmZwcINzLv5J9/HKGyDfj330wbnSybOzoeyQ+esjqxjvFsjmQ0HxW6G3nTmkPP7v/Mx9JELf/RUr5r//mt7NE2RFAvMnC7cuAAAAAElFTkSuQmCC\"></div></div></div>"
      ],
      "text/plain": [
       "True\n",
       "0.6046\n",
       "0.19635\n",
       "Log[Sin[x]]\n",
       "       2\n",
       "-Csc[x]\n",
       "$Failed\n",
       "9.8[3]"
      ]
     },
     "execution_count": 48,
     "metadata": {
      "text/html": [],
      "text/plain": []
     },
     "output_type": "execute_result"
    }
   ],
   "source": [
    "1/(2Sqrt[1-3^2])==1/Sqrt[4-4*(3^2)]\n",
    "N[Pi/(3Sqrt[3])]\n",
    "f[x_]:=ArcTan[(3/4)x]/4\n",
    "N[f[4/3]-f[0]]\n",
    "Integrate[Cot[x],x]\n",
    "D[Cot[x],x]\n",
    "g[x_]:=(-Csc[x/2-1]^2)/2\n",
    "g[3]"
   ]
  },
  {
   "cell_type": "code",
   "execution_count": 56,
   "metadata": {},
   "outputs": [
    {
     "data": {
      "text/html": [
       "<style>\n",
       "\t\t\t\t\t\t\t\t\t\t\t\t\t.grid-container {\n",
       "\t\t\t\t\t\t\t\t\t\t\t\t\t\tdisplay: inline-grid;\n",
       "\t\t\t\t\t\t\t\t\t\t\t\t\t\tgrid-template-columns: auto;\n",
       "\t\t\t\t\t\t\t\t\t\t\t\t\t}\n",
       "\t\t\t\t\t\t\t\t\t\t\t\t</style>\n",
       "\n",
       "\t\t\t\t\t\t\t\t\t\t\t\t<div><div class=\"grid-container\"><div class=\"grid-item\"><img alt=\"Output\" src=\"data:image/png;base64,iVBORw0KGgoAAAANSUhEUgAAAE8AAAAVCAIAAACIQyRAAAAAz3pUWHRSYXcgcHJvZmlsZSB0eXBlIGV4aWYAAHjabU/bDQMhDPtnio6QFw6Mw7Wc1A06fsOBWlHVErHjPIDUX88z3QaEKVn2ggpQwKpVaSEKTUxmqle8YOeq8e4nzstvYeVvAX35x+47Jkv5WUQyhY4bQqutgbVIZfrcZn6sfmml7IsO2gD6PP1vbuqCDHaLaELuqKFLChmELJQdJ+5ANDIeQnYP7nCPMfjo0DYGB6T73t0TNIzH+IKOY9qUg1tkcV9ohM6Xw5rliMhXdXznDXvYWuFu3e7jAAAACXBIWXMAAA7EAAAOxAGVKw4bAAAAPHRFWHRTb2Z0d2FyZQBDcmVhdGVkIHdpdGggdGhlIFdvbGZyYW0gTGFuZ3VhZ2UgOiB3d3cud29sZnJhbS5jb21coqaFAAAAIXRFWHRDcmVhdGlvbiBUaW1lADIwMjQ6MTI6MDQgMTY6NTI6MTXhdCXUAAABwElEQVRYheVXy5HCMAyVtxXTRi5cTAFcaIAZ00ky9GEOFMDdOVED8dCJ9yAwWv8QkMzOhHcKMpL1ZD0lFt57+Br8/HcCU2GxWAghhBB93wfjPNl2Xbfdbr331tqmaYJdzLuTnXNSysBxnmcbcD6flVKP356NYRhoIL4jB1LKN8LWvTDhYRiChRvdGAMAxphgUUq9lFkdn0TTWqdGpGqtpUYWW/Rs2/bthJ5iXLZZqt57lm6PxyMArNfr0h/6vhcEh8OBrjrnwtJqteLsCAC73U4I0XVdsGAE59xT3/1+DwBN06DLIwizeDjZsrDWQq6QiEgCxhgqh4Ds2Wqt4S48fC6l95QCgsVWKVVhi3zoMKCQUnKyKXUybo1blAr6Mts/YxriY6+z9WQ2RudW0k+Kim4xcmVq8NnedHs6nUrbAMByuYxePxEulwtmvNlsUt1+gqDS6/U6QjhOSVCZWb1lK00bAXjDvHS2AKC1ricwsm79fUhw3rdKKbrUti2QZrbW8qcUVVAUJ8qNyeKFbxccFWlTYB4Bad7UsVKjyIKzgNJLLYhJ2E6K0b+lspj5rSDG2xUdF1PcClLM/H4b4bs6+Rdx2ExNRZHxAgAAAABJRU5ErkJggg==\"></div><div class=\"grid-item\"><img alt=\"Output\" src=\"data:image/png;base64,iVBORw0KGgoAAAANSUhEUgAAAFEAAAAxCAIAAAAtGdI7AAAA0HpUWHRSYXcgcHJvZmlsZSB0eXBlIGV4aWYAAHjabU/ZbUQhEPunii1hDvBAObxdVkoHKX/NAyUiiiXGHs8BpPH99U6PCVNJuURFA4TILTfrFFUWFqu0O94om5kffvIttNMqvwWM7V+nH1hs9c8isSV83kDteQ/sRW7L177ya/dbr/VcdMkByM/T/82zh6FAIzNmkwg06pooSSgmJfDGE2Cj4mWSn+SBCI4hZof3OThhI87ukeA0XvMLPk/27kruzHgfNajL7agXuxj1rs7vfAAsh1qrzYvMHwAAAAlwSFlzAAAOxAAADsQBlSsOGwAAADx0RVh0U29mdHdhcmUAQ3JlYXRlZCB3aXRoIHRoZSBXb2xmcmFtIExhbmd1YWdlIDogd3d3LndvbGZyYW0uY29tXKKmhQAAACF0RVh0Q3JlYXRpb24gVGltZQAyMDI0OjEyOjA0IDE2OjUyOjE14XQl1AAAAvVJREFUaIHtmbFr+kAUx+9+dXAo2FHEoXiCDm4uDhbddLTgoJuLgjq4FbcugiRToaCU/gEVOrhaAjqcgwgiouCiQRBnHS1a7jccvyDRxjZekh8kn0HP5/Ndvt7dy8sdJIQAk/HH6AswgP9Fs9frhRA2Gg0d+jJeM8/zEMJKpaJbjwZrbjQa7XabEOJ2u3Xr1GDNqVSq1Wrp3Knxc1t/LM3mwNJsDsyoGRpbb4uiiBCSGRFCs9lMu04N1mwIZpzblmZzYGk2B5Zmc2Cjb/F4/OPjQ/ad7NZdrVan06lO18WabDZ7d3dH21ZNYg4szebApkXQxWKxWCy0iKwCv9/vdDoPLZpofnl58fl8WkRWwfEusiaat9ttJpPRIjIT2K/n7XZrt9uZh2UIe82TySQYDDIPyxD2mrvdbigUYh72J9CDPghht9tVcGOvebVa6Xn4JMHzfC6XI4RgjKUy8yTsc5jNpklePMvDwwNtuFwuZU/G47zZbBwOh8yo59kyAKDf78diMSUPwhRBEARBkD5yHAcAeHt7o69s+zrJfD4HAMzncwUfxuPc6/WkBKb/2TLdLccYezweBTfGmj8/P6+vr2lbi7PlQqEAIeR5XrLQRC2KoiQ4HA6fiaJ6FgmC8Pr6KjOWy+VjT4wxYDe38/k8+Dd7afvQLsFx3HcR1Gje7XbJZLJarSYSifV6LdmXy+Xz8/OxP1vNhJBYLIYQomkCY/zbn6scZyq10+k8Pj5KxmazORwOj53Paj6ZZs9c97nBVEDler65uQEARKPR0Wi02WyocTAYBAIBFdFardZ3qk4iiiJtqHtivTSHlUqlp6cn2r66utKnIEEI5fN5jHG9Xldx279U8+FQf319XRjtJ8TjcYRQrVYLh8Mcx6XTaeXq+gQq1oMMuqrH4/H7+/uhnZYHMhBCl/RFD6sP89ax5Sxs9nrv7+8jkUgikbi9vb08muZc8q9LdDodr9fLJJQOsKnDotFosVhkEkoHmJ1j7Pd7o54if8tfMFbmS0ta/hkAAAAASUVORK5CYII=\"></div><div class=\"grid-item\"><img alt=\"Output\" src=\"data:image/png;base64,iVBORw0KGgoAAAANSUhEUgAAADsAAAAVCAIAAAB34QGiAAAA0XpUWHRSYXcgcHJvZmlsZSB0eXBlIGV4aWYAAHjabU9bjgMhDPvnFHuEPMCB4zAtlfYGe/w1A201VS2ROM6TNP5+H+lnwlRSLlHRACFyy806SZWF5VXaaU/4sXN61ZOWrXdK5Z3A2Ppx1QPLW/0YJLY3zQ3knnfDHuS2dO0rPna99Vqvg56nbkBep3+Ns4ehQCPTZpMINPKaSOlQTErggRvAQsXdJN/oByLYhpgV3mfjhI24Vo8Ep3CfX/D5sndX+s6I+8hBXk5FvdhBq2d2fucfdHpa3K1RiksAAAAJcEhZcwAADsQAAA7EAZUrDhsAAAA8dEVYdFNvZnR3YXJlAENyZWF0ZWQgd2l0aCB0aGUgV29sZnJhbSBMYW5ndWFnZSA6IHd3dy53b2xmcmFtLmNvbVyipoUAAAAhdEVYdENyZWF0aW9uIFRpbWUAMjAyNDoxMjowNCAxNjo1MjoxNeF0JdQAAAFdSURBVEiJ7ZfBbYQwEEXtKGVw2nEZcDYtUMJQANRgFwBXblACcOBi2sCiE3JwZCF2WQxhE6HsO9mDZvyZ+TKCTtNELsXHXwvYzVvx67mmYsYYfYTW+pQzbP1zsqYZiAgA09lwzg/nIuIick1XbNL3/dwti7jW2k4wjmOXgnEcU0qllDayw4eLEdy7Qik1Hyvn3G6VUqZIWZZ2q5RycQUiEkKGYbBrR1fs9rEQwlY3Eo3c73KECCFcFJs4AJRl+fA91xR/Og4xz/O1p57nuRS5p65rSmkURUII3/cds7Z9bOSa8dken4J17TiO7lnbitu2RcTb7XZM1hMAABGVUnmeV1XlmLXtCsZY27ZmLaVM0/S4xhlhGAJAlmWEECFEFEWe57l4Y7vHdV0Pw2Bun67r7P3wExhjTdMURWG2SZIAQBAEfd9vJz+/GU7hv3/zfqPHAHDgrLUsOr3/ml7NF8qTbgBtSiSAAAAAAElFTkSuQmCC\"></div><div class=\"grid-item\"><img alt=\"Output\" src=\"data:image/png;base64,iVBORw0KGgoAAAANSUhEUgAAAJAAAAAVCAIAAAAmWfCEAAAAz3pUWHRSYXcgcHJvZmlsZSB0eXBlIGV4aWYAAHjabU/tjUMhDPvPFB0hJMGBcXgtlW6DG7/mgVRxOkvEjvMBpPH7806PCc2SvERFA4Tw5k07RZWFxVnaHW+0XWJ++CmX7Xda5VvA2P51+oHFWv8sEl3C5g3U5ntgLzJdfu4rv3a/9lrPRZccwPfp/+ZuoSjI4YyuEoFGXRMlCUWlBN54AmzMeKn4kzwQwTHE7LA+Byd0xNk9EozGa37B5nHrlsmdGe+jBnW5HWq9GPNdnd/5ADPEWrEb9zF8AAAACXBIWXMAAA7EAAAOxAGVKw4bAAAAPHRFWHRTb2Z0d2FyZQBDcmVhdGVkIHdpdGggdGhlIFdvbGZyYW0gTGFuZ3VhZ2UgOiB3d3cud29sZnJhbS5jb21coqaFAAAAIXRFWHRDcmVhdGlvbiBUaW1lADIwMjQ6MTI6MDQgMTY6NTI6MTZ4fXRuAAAC+klEQVRoge2ZMXLCMBBFVxyDYVJYnIIhTYqIA1BAR2sOQEWZxj6A3aYzBQegNxVnQBomk+EaTrGJWGzJ2IpNwoxfhWRp9e1d7cqGZVkGHY9D768FdJjZbDbsh81mo/tZt8P+OUqp19fX4/GIzW6H/XfO5/NwONTNzmEX9vs9Y2wymfy1kG+WyyVj7Pn5OYoi3Zl32GQyYYwtl0ubFaUUIzQrcTgcOpitPkuPZIzt9/vc1c/Pz1rrOsuoOCuKoizLpJScc6XUd29GSJIEO33fz0zggCRJdI8QwjjSjd9Ys2nWAAC1L4SQUjovV6Q98UKINE3x95XDOOdBEHDOjfOllAAQBIGzrJu0d88Yas16KEdL4vGx6+YlJYZhKKVcrVa2zbvdbgFgOp3aBtCTKK2TCCZb21UbmMfDMNQ9aOGSIupwOByM/Vi9kFw5wEtKKZ27SupFg+LDMMTBnPOMnuSpGzHX2XaY7/s42UgQBEBCWAgBJC6EEFUC0DjG931tGX8b595MiZxzuM6KxjE5O2ma4oPCh4NNnaDuJl4DeoJez+YwIUSJw+A6W9IIKLFZXMLWzznHtGZ8WFm1e8aoQozp0eYwWrbBUhfaFo/0cNfHcbxeryvu9CJ44hqNRrrH8zzO+cfHBzbf3t7iOK6VDCm73U5KOZ/PgyAYj8fOOlerVfYTTJxz+gWhnMFg4LxoU+KRHgAsFgvf92/aenl5wVt1YDabYbRKKR3cppP+6XRyE0DxPA830/v7+++t3aRZ8T2llJQSwx/RTVot4WcDGaOy3+/D9XsMmn16eqLDxuMxBriUsnp0AwBmqjRN4ziuNbEEt73uQMPiq+RxmmrB8h5GqysasRW8unWb1k4sQsa55WUAH5luFl8otWxjDaNzoU4Na0Q8pZ7DMvJyXfQ3Lek5C7kosdXe4j3j0Y6OL/YgN+8ZD64aeujAaMuBA37jsAbFX1avOO4+tPqlo23uI777+PtoOAdFG2DGqKvKbVbj3Ed89wfmg9GlxAfjCzg3ggUIk4MdAAAAAElFTkSuQmCC\"></div><div class=\"grid-item\"><img alt=\"Output\" src=\"data:image/png;base64,iVBORw0KGgoAAAANSUhEUgAAAC8AAAArCAIAAABn1EbtAAAA0XpUWHRSYXcgcHJvZmlsZSB0eXBlIGV4aWYAAHjabU9bbgQhDPvnFHuEkAQHjsPsMlJv0OOvGWirqdYSieM8SeP760yPCc2SvERFA4Tw5k07SZWF5bO0y17Qc+fyXU96bL1TKn8JjK0fdz2wB9Z/g0QXsbmB3Hw37EGmS899xceu117rfdC+6AeQ39M/xm6hKMjhtK4SgUZeEykdikoJnHgCLMx4qfiTfiCCbYhZYX02TuiIe/VIMAqv+QWbz61bpu+MuI8c5OVSyPWgzVd2fucNuDVbDhb16+0AAAAJcEhZcwAADsQAAA7EAZUrDhsAAAA8dEVYdFNvZnR3YXJlAENyZWF0ZWQgd2l0aCB0aGUgV29sZnJhbSBMYW5ndWFnZSA6IHd3dy53b2xmcmFtLmNvbVyipoUAAAAhdEVYdENyZWF0aW9uIFRpbWUAMjAyNDoxMjowNCAxNjo1MjoxNnh9dG4AAAILSURBVFiF7Zg/i8IwGMbj4eAHcOwgJlA3B8HJQVxcXNyqk2ud3BwdpfgBHBQcM/oVCtVFhLhIK2hRFz+Ag4uQGwq9Xrn0T2Lv5OizNK2+T395EkrfZiil4G30wV1p23aGoX6/z2lKhdVsNp0BxhhjLGLFn42bULFYdMbX67VarYq4idJsNptut+uMz+ezS8apVy2Tb8wnoWxWq1Wj0XBPRYMRzAZC6D3FGBuGIWLISWMYxo8z8fHFVYb+j6dfEkpp2Epp2Epp2Mo6B9M0Lcv6K4h2u+0M3iub9FnMVkrDVjY56/l8vl6vA/6Qz+cnk8kv0ez3+8ViEaskqZV6Pp/ZbOypJkWz3W4rlUrcqqRodF2v1Wpxq77RIITc7hUhJEJzuVwkSYpr+43meDy6L8wIIRGgXC7HYctcqV6vdzqdbNvmQNntduVymcM2ZN/wNWy6rtfrdR5bVmsDANA0Lbj9eTwe4/F4NBr5rg8GAz5bPw2E0KEM7dPu93ur1Voul4qi3G63YJqItsxsNE0DAETpZAkh3tsTQmazGZ9tUOcLIVRVNZSGUuqNZzqdmqbJZxuyiwuFQpRtOxwOnUkDAA6HQ6lU4rRlzUBV1YBfA+IJ2MKhtl/Z+L4qOjVRgvHGY1mWLMve67FsX/le3Ol0ZFlWFCV0pZiKvhahIoRIkiTi8EoaSqngF9r36mA+AY6OJ7FBYoxpAAAAAElFTkSuQmCC\"></div><div class=\"grid-item\"><img alt=\"Output\" src=\"data:image/png;base64,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\"></div><div class=\"grid-item\"><img alt=\"Output\" src=\"data:image/png;base64,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\"></div></div></div>"
      ],
      "text/plain": [
       "       2\n",
       "-Csc[x]\n",
       "       1\n",
       "-(------------)\n",
       "            2\n",
       "  Sqrt[1 - x ]\n",
       "Tan[x]\n",
       "               3\n",
       "4 Cos[x] Sin[x]\n",
       "   Pi\n",
       "---------\n",
       "3 Sqrt[3]\n",
       "    Sqrt[3]\n",
       "----------------\n",
       "              2\n",
       "           3 x\n",
       "4 Sqrt[1 - ----]\n",
       "            4\n",
       "      3\n",
       "-------------\n",
       "           2\n",
       "        9 x\n",
       "16 (1 + ----)\n",
       "         16"
      ]
     },
     "execution_count": 56,
     "metadata": {
      "text/html": [],
      "text/plain": []
     },
     "output_type": "execute_result"
    }
   ],
   "source": [
    "D[Cot[x],x]\n",
    "D[ArcCos[x],x]\n",
    "Integrate[Sec[x]^2,x]\n",
    "D[Sin[x]^4,x]\n",
    "Integrate[1/Sqrt[4-3x^2],{x,0,1}]\n",
    "D[ArcSin[Sqrt[3/4]x]/2,x]\n",
    "D[ArcTan[(3/4)x]/4,x]"
   ]
  },
  {
   "cell_type": "code",
   "execution_count": 63,
   "metadata": {},
   "outputs": [
    {
     "data": {
      "text/html": [
       "<style>\n",
       "\t\t\t\t\t\t\t\t\t\t\t\t\t.grid-container {\n",
       "\t\t\t\t\t\t\t\t\t\t\t\t\t\tdisplay: inline-grid;\n",
       "\t\t\t\t\t\t\t\t\t\t\t\t\t\tgrid-template-columns: auto;\n",
       "\t\t\t\t\t\t\t\t\t\t\t\t\t}\n",
       "\t\t\t\t\t\t\t\t\t\t\t\t</style>\n",
       "\n",
       "\t\t\t\t\t\t\t\t\t\t\t\t<div><div class=\"grid-container\"><div class=\"grid-item\"><img alt=\"Output\" src=\"data:image/png;base64,iVBORw0KGgoAAAANSUhEUgAAAFAAAAA1CAIAAABZSvsTAAAAz3pUWHRSYXcgcHJvZmlsZSB0eXBlIGV4aWYAAHjabU/tjUMhDPvPFB0hJMGBcXgtlW6DG7/mgVRxOkvEjvMBpPH7806PCc2SvERFA4Tw5k07RZWFxVnaHW+UXWJ++Ml2JXda5VvA2P51+oHFWv8sEl3C5g3U5ntgLzJdfu4rv3a/9lrPRZccwPfp/+ZuoSjI4YyuEoFGXRMlCUWlBN54AmzMeKn4kzwQwTHE7LA+Byd0xNk9EozGa37B5nHrlsmdGe+jBnW5HWq9GPNdnd/5ADCeWq+XtkivAAAACXBIWXMAAA7EAAAOxAGVKw4bAAAAPHRFWHRTb2Z0d2FyZQBDcmVhdGVkIHdpdGggdGhlIFdvbGZyYW0gTGFuZ3VhZ2UgOiB3d3cud29sZnJhbS5jb21coqaFAAAAIXRFWHRDcmVhdGlvbiBUaW1lADIwMjQ6MTI6MDQgMTY6NTI6MTZ4fXRuAAADRUlEQVRoge2aP077MBTH7Z/YWWBhYOjzzAFQuzCQHIAhvUClcoByAZbkAOkJUDP0AsyJGOAKeVFUIS6AkNj8G94PK7+0cXEbNy70MyV+ifO+fv4X21xKyX4Tf7p2YNc4J1gIwTnnnGdZtmyNoohzfnt72/Q6/6LpgaN23GwPIUSe5ytNpDMMw7Ism16nFqopEecirCGO4ziOt8xknwS3wkHwNyiKgldo3SerGAtOkgQAZrOZ/ML3fRue2UKagIiMsTAMjd4ywvO8JlMYhlXPq4VeYzweN5nMIjyfzxljNzc3TQ8kSaKquhCiZvV9X2Ndy2QyqboeBIFpDsy0SpdlCQC9Xm+lNYqi4XCIiOQQTSGUlWq+crdpsLWN2cSjKAqN9e7uLgxDVRxxHANAkiQUijzPr6+vN3b05eXl8/OzlnhxcXF8fGyUT2szLZoJXl5eqpRerwcAi8WCbu/v74fD4XQ6BYANwouI7+/vtUQhhF3BV1dXj4+PRq8ogiAIgiDLssFgwDk3lb1Zi13GrA1TAJMkWTadnZ0xxl5fX1VKURSIeH5+Xn2s3+9LKREREVfmY53vDxiqx2f/DwlqICGT6rQAAABWZpKmKWMsTdNlk2ZYMnKyyWQsWEo5m82aiqw6VNa+WivolWqlm4KtYlvw4efhp3MQ7DBCCLV2I4SIomiDTJxb09KQ57kQIsuyp6en0Wg0mUw2yWX7LrFdAIAcWzlu0f+ppidfq8u5COvnm29vb/o5qVy3r8DXPuEUnHNEnM/nZVluuILZRjXcEayy2AIAmtmFhj2L8Pbs07DUCr9O8L9e2vf95T/7Wm1/eHhQyxf7Rb/fHwwGdG3QhheLxcfHhzWvLHJ6enpyckLXh07rp3MQ/NNxTrD+yMP2uCU4iqLRaCSlTNNUDSTt4mgvXRQFLfG2nrNbEVY8Pz97nmcjZxcjTOFFxKZtym1wLsKkNk1TG2oZc+x/mFZwmjYlWqEDwbQFVT03QUWPiGRS2Dhb0U2Eq9tudL2zT3dWpT3Po9NAtutwjS7bsL16q6GzXlodF9GcFLXCLku3CmNsPB7TzrjmxFX7393Zl6pQA6Zr2kPfWTPuQDBtplQVLqfYw8WppVX+AkdVSoVeFsWHAAAAAElFTkSuQmCC\"></div><div class=\"grid-item\"><img alt=\"Output\" src=\"data:image/png;base64,iVBORw0KGgoAAAANSUhEUgAAABAAAAAqCAIAAAA1cEz9AAAAznpUWHRSYXcgcHJvZmlsZSB0eXBlIGV4aWYAAHjabU/tbUQhDPvPFB0hJMGBcXh3nHQbdPyaB9WJqpaIHZMPSOP7/UpfE5oleYmKBgjhzZt2iioLi7O0O+5EfsXhp7tx5p1W+VxgbP86/cBirX8GiS5hcwO1+W7Yg0yXn/fCa9drr/UcdMkBfJ7+b+4WioIczugqEWjUNVGSUFRK4IUHwMKMp4o/yAMRbEPMCuuzcUJHnNUjwWg85xdsHrdumdyZcR81qMvtUOvFmO/b+Z0fZdVa1n2LE8MAAAAJcEhZcwAADsQAAA7EAZUrDhsAAAA8dEVYdFNvZnR3YXJlAENyZWF0ZWQgd2l0aCB0aGUgV29sZnJhbSBMYW5ndWFnZSA6IHd3dy53b2xmcmFtLmNvbVyipoUAAAAhdEVYdENyZWF0aW9uIFRpbWUAMjAyNDoxMjowNCAxNjo1MjoxNnh9dG4AAADbSURBVEiJ7ZSxEYMwDEX1cxmDTqxBzQosQGHmoLEXsTu3VDSewxybKAUXkmASSJMU8BvrJD1bOsuGiNA3unyVvQ7keQ7AObcNGGMAtG276wTnXN/3IpJl2S6gqqqu6z6krpS0R4cESO6KMaZRZpZX4R/DdwKJrtPivffev0uq67ooisk+L+54QNM0AIwxswcAgGEYXojnB66UIqIY42xLoqWrLEtmttYSUQhhG5hnUWudhkRk2fRc8TiO612n2yulQghEZK3dKGlqYLK11qttPABmXmSkHvnFV3kDrgQsijpIiXsAAAAASUVORK5CYII=\"></div><div class=\"grid-item\"><img alt=\"Output\" src=\"data:image/png;base64,iVBORw0KGgoAAAANSUhEUgAAAIYAAAAVCAIAAAAM6QErAAAAz3pUWHRSYXcgcHJvZmlsZSB0eXBlIGV4aWYAAHjaXU9ZckMhDPvnFD2CF5DhOLyEzOQGPX7Fg7ZDNIMtyytpfL9f6WvCVFIuUdEAIXLLzTpJlYXlVdptl4Sd01NPWrbeKZX/BMbWr1OPPcjqxyCxRXxuIPe8G/Ygt6VrX/G1663Xeg665MDv5X+XfcTZw1CgkWmzSQQaeU2kdCgmJfDCA2Ch4mmSH/QDEWxDzArvs3HCRpzVI8EpPOcXfL7s3ZW+M+I+cpCXWyG3i1bv7PzODzsgWrYjeaIbAAAACXBIWXMAAA7EAAAOxAGVKw4bAAAAPHRFWHRTb2Z0d2FyZQBDcmVhdGVkIHdpdGggdGhlIFdvbGZyYW0gTGFuZ3VhZ2UgOiB3d3cud29sZnJhbS5jb21coqaFAAAAIXRFWHRDcmVhdGlvbiBUaW1lADIwMjQ6MTI6MDQgMTY6NTI6MTZ4fXRuAAACaklEQVRoge1ZS7KqMBBt7zIcOKBZheXISViAA3AHYQ1uADfAEmDgAnAcylUYyrLcR96g303l8QkB8V1uFWckSbr7JCc5QV0ppWDBnPD10wQW1LFIMjsskswOiySzwwBJqqpaGXAPjOM4CAL7GN/3h6YdFDWa/LQ0XKJcJcnzHBGzLFPf6F3lofwo7aCo+/2ulOKc24f9LvJOklRVFUVRkiRhGOrGoigGMfgp/DryTpJcLhcAOBwOXQPyPNee4Pu+bqeWNE2v16secD6fXYrGcVwbTOFVVbmEu5Mvy9L0tDzPzV7T8dzP1lvklQM454jY1ZskCQBIKemRMVZLyzlnjNlLtA6gQ02Z6XMXvdHkhRAAIIRo7c2yDAC042VZZrrfh8g7ScIYs8wKAJIk0Y9SSnMa6g1JdGlamq6Fs0tiJ0+Z9X6qARHtyXUJS+mh5P8aVxAEqwZcTmhZlgCw3W51i+d5iPh8Pl3Ce1EUhZSSLoPdbjdJThNhGCIiIrZalpTyeDyOTj6O/JcObgqoB+33e9r7/x/afB+Px7gMveTpzYcxFkVRU5h3MI680/VOh6CV63q9BoDX62XykFJuNht3EhaQdQgh0jQdt1gW8iZoU3LOT6cTtXieBwC3221EUcJI8r1GqS0P/r0htIGa95hSinzAjKX7v8tMa9lqjTqVJUmv3VvINyuaXbWiQgj36300eVdJ1PdN2KollSS0LpD5hch8FzAnUGtBxNo0mi1ds3InbzIHgCYNM9Ai5ITkB0jyUfS+klngIslHMS355WfH+eG9/TEZ6FwP5TMuanJMS36llj96Z4bFuGaHP2KN/M8w2qzUAAAAAElFTkSuQmCC\"></div><div class=\"grid-item\"><img alt=\"Output\" src=\"data:image/png;base64,iVBORw0KGgoAAAANSUhEUgAAADMAAAArCAIAAABaRieLAAAA0HpUWHRSYXcgcHJvZmlsZSB0eXBlIGV4aWYAAHjabU9bjgMhDPvnFHuEkAQHjsO0VNob7PHXDLTVVLVE4jhP0vj7faSfCc2SvERFA4Tw5k07SZWF5bO0054w27l81ZMeW++UyjuBsfXjqgeW1/oxSHRvmhvIzXfDHmS69NxXfOx67bVeB+2LnoC8Tv8au4WiIIfTukoEGnlNpHQoKiXwwA1gYcZdxW/0AxFsQ8wK67NxQkdcq0eCUbjPL9h8bt0yfWfEfeQgL6dCrgdtPrPzO/9ulFrcna9wVAAAAAlwSFlzAAAOxAAADsQBlSsOGwAAADx0RVh0U29mdHdhcmUAQ3JlYXRlZCB3aXRoIHRoZSBXb2xmcmFtIExhbmd1YWdlIDogd3d3LndvbGZyYW0uY29tXKKmhQAAACF0RVh0Q3JlYXRpb24gVGltZQAyMDI0OjEyOjA0IDE2OjUyOjE2eH10bgAAAaFJREFUWIXtmDGSgjAUQP/f8RhUxoY7aKscQS7gTI5ATxMOAEeQjpbKJlbegYw3+RaZZVkEl5gwMrN5jUw+83nmhyQEiQgWydenBUZxZrbZbBCxLEtXCR2YZVmGiGma2qfqYmtWluXlciGiIAicCLXYmh2Px7qunaj0+AdvgHO8mTne7A3IjqZpnnMyxizTEhH6Fd0Yb2aONzPHm5mz0j9VVVVV9VkVAAjDMEkSfe1nWnO8mTnebAT9/YyI1+u1F/qkWZZlp9OJiKSUu92uF13ErKGU0pvNbuMixtntdjscDv3W520uYwwAzuez/Y55Cnq/3jRNr/1Xn810dvICXUcp5Xq97oV+zOY7O/lTa7vdDoSfu1dKCY6qyTkHACFE26Ifqmunoy3d24jI1oxzPkWuqzIlLRGt5i0YQJ7nSqn9fp+maVEU+m9PYXYzAKjrGhHjOBZCDA+pId6cz6Io0qtKURT4zdjNSil9cb/fDZ4x9zgjIgDgnJu+WLNXM4oixlie5wAghIjjOAiCSTVtHd87O3ndZ3o5kVK+aBljESv6IA+IdX7/hhfvLQAAAABJRU5ErkJggg==\"></div><div class=\"grid-item\"><img alt=\"Output\" src=\"data:image/png;base64,iVBORw0KGgoAAAANSUhEUgAAAHsAAAAVCAIAAADpWwYCAAAA0XpUWHRSYXcgcHJvZmlsZSB0eXBlIGV4aWYAAHjabU9bjgMhDPvnFHuEJAQHjsO0VNob7PHXDLTVVLVE7DgPII2/30f6mTCV5CUqGiCEN2/WKaosLFZpZzwRx67p1U9att9plXcBY/vH1Q8stvqxSGyJPG+gzr4H9qJsy9e+8mP3W6/1uuj51A3I6+lfc89hKNBwRjeJQKOuiZKEYlICD9wANiruJn4jD0RwDDE7cp+DEzbi2j0SMo37/EKex3PPSu7MeB81qMvpUNvBqGd1fucfenJa4T4wyW4AAAAJcEhZcwAADsQAAA7EAZUrDhsAAAA8dEVYdFNvZnR3YXJlAENyZWF0ZWQgd2l0aCB0aGUgV29sZnJhbSBMYW5ndWFnZSA6IHd3dy53b2xmcmFtLmNvbVyipoUAAAAhdEVYdENyZWF0aW9uIFRpbWUAMjAyNDoxMjowNCAxNjo1MjoxNnh9dG4AAAJHSURBVFiF7VkxlsIgEJ3s25MEjmGPV0nOYRMPYFq7eASfhQ15Fp7B8LwJW8w6zguQoMFssflVgGHm82EG3M2stbBgRnz9NYF/h0XxubEoPjcWxefGU3EpZfZA27YJY5DnT8zitDmMMRMov0wjftav4lmWSSntA5vNJhVjDI9uX5p1u92stUVRxJihpRCClpDn+QTKTyQn/w0Ah8MBAHa7HfUej8dpPBcE8awq1+s1ZNS2LWWrlLI3aoyh0fV6HRO1LMssy7bbLfWkLQUcnDxPc+w3xlAFKMsy0uck/pgyQggAUEpZB1prAOi6DptKKZ68TdMAQNM01KRvgtctZhy6xW/XBoe8/V5LTozI8+hKKWriuog8NrXWMeQj+XvJP+2qqqJtIH0xZFVV1Oy6jjMTQoyKEiKNm4d75i51gHTI0lW8B1wjfqPE/HwAAF/pMHkbwX9EcQQKyql4MwMD9NQfYBYaQm/uOodJhyy9irvXF/a7h/pVxUf5e8n33+N5nltrhRD7/Z46XY+r1Wq8YI2Bqt79fp/uzYuyLOu6ppTleTwd7/H3/wLi16MQ4nw+e83wBXa5XOLjcWBF0lrXdY3vpeQ4nU5FUaR6KfbwJn88/Dy53MsQwomDp4ama60jb05+A/ecjCamF96q4kaBRFUlhv9QHVdK8W3gN6d9iM73NjQaErfXg08jTtHtGSDtRaiOc26oMvZPUTySf9TN+QkMXz7DiFf8Q0hOfvlL1uyYsP2xwIx7NdZ7s5IjOfnMLv91mxdLVZkbP3ATA4BzzUc1AAAAAElFTkSuQmCC\"></div></div></div>"
      ],
      "text/plain": [
       "      1\n",
       "  Cos[-]\n",
       "      x\n",
       "-(------)\n",
       "     2\n",
       "    x\n",
       "1\n",
       "-\n",
       "x\n",
       "-(Cot[x] Csc[x])\n",
       "  1\n",
       "------\n",
       "     2\n",
       "1 + x\n",
       "Sec[x] Tan[x]"
      ]
     },
     "execution_count": 63,
     "metadata": {
      "text/html": [],
      "text/plain": []
     },
     "output_type": "execute_result"
    }
   ],
   "source": [
    "D[Sin[1/x],x]\n",
    "D[Log[2x],x]\n",
    "D[Csc[x],x]\n",
    "D[ArcTan[x],x]\n",
    "D[Sec[x],x]"
   ]
  },
  {
   "cell_type": "markdown",
   "metadata": {
    "jp-MarkdownHeadingCollapsed": true
   },
   "source": [
    "### Module 2 - Mathematical Induction"
   ]
  },
  {
   "cell_type": "markdown",
   "metadata": {},
   "source": [
    "For mathematical induction if $n=k$ then $n=k+1$ so if for $n=1$ the claim is true then for $\\Z_+$.\n",
    "\n",
    "For series use formula to check if $n=k+1$ will be true.\n",
    "\n",
    "For divisibility check if $u_{k+1}-u_k$ is divisible by $n$."
   ]
  },
  {
   "cell_type": "code",
   "execution_count": 68,
   "metadata": {},
   "outputs": [
    {
     "data": {
      "text/html": [
       "<style>\n",
       "\t\t\t\t\t\t\t\t\t\t\t\t\t.grid-container {\n",
       "\t\t\t\t\t\t\t\t\t\t\t\t\t\tdisplay: inline-grid;\n",
       "\t\t\t\t\t\t\t\t\t\t\t\t\t\tgrid-template-columns: auto;\n",
       "\t\t\t\t\t\t\t\t\t\t\t\t\t}\n",
       "\t\t\t\t\t\t\t\t\t\t\t\t</style>\n",
       "\n",
       "\t\t\t\t\t\t\t\t\t\t\t\t<div><div class=\"grid-container\"><div class=\"grid-item\"><pre style=\"&#102;&#111;&#110;&#116;&#45;&#102;&#97;&#109;&#105;&#108;&#121;&#58;&#32;&#34;&#67;&#111;&#117;&#114;&#105;&#101;&#114;&#32;&#78;&#101;&#119;&#34;&#44;&#67;&#111;&#117;&#114;&#105;&#101;&#114;&#44;&#109;&#111;&#110;&#111;&#115;&#112;&#97;&#99;&#101;&#59;\">&#49;</pre></div><div class=\"grid-item\"><pre style=\"&#102;&#111;&#110;&#116;&#45;&#102;&#97;&#109;&#105;&#108;&#121;&#58;&#32;&#34;&#67;&#111;&#117;&#114;&#105;&#101;&#114;&#32;&#78;&#101;&#119;&#34;&#44;&#67;&#111;&#117;&#114;&#105;&#101;&#114;&#44;&#109;&#111;&#110;&#111;&#115;&#112;&#97;&#99;&#101;&#59;\">&#55;</pre></div><div class=\"grid-item\"><pre style=\"&#102;&#111;&#110;&#116;&#45;&#102;&#97;&#109;&#105;&#108;&#121;&#58;&#32;&#34;&#67;&#111;&#117;&#114;&#105;&#101;&#114;&#32;&#78;&#101;&#119;&#34;&#44;&#67;&#111;&#117;&#114;&#105;&#101;&#114;&#44;&#109;&#111;&#110;&#111;&#115;&#112;&#97;&#99;&#101;&#59;\">&#50;&#53;</pre></div><div class=\"grid-item\"><pre style=\"&#102;&#111;&#110;&#116;&#45;&#102;&#97;&#109;&#105;&#108;&#121;&#58;&#32;&#34;&#67;&#111;&#117;&#114;&#105;&#101;&#114;&#32;&#78;&#101;&#119;&#34;&#44;&#67;&#111;&#117;&#114;&#105;&#101;&#114;&#44;&#109;&#111;&#110;&#111;&#115;&#112;&#97;&#99;&#101;&#59;\">&#55;&#57;</pre></div><div class=\"grid-item\"><pre style=\"&#102;&#111;&#110;&#116;&#45;&#102;&#97;&#109;&#105;&#108;&#121;&#58;&#32;&#34;&#67;&#111;&#117;&#114;&#105;&#101;&#114;&#32;&#78;&#101;&#119;&#34;&#44;&#67;&#111;&#117;&#114;&#105;&#101;&#114;&#44;&#109;&#111;&#110;&#111;&#115;&#112;&#97;&#99;&#101;&#59;\">&#49;</pre></div><div class=\"grid-item\"><pre style=\"&#102;&#111;&#110;&#116;&#45;&#102;&#97;&#109;&#105;&#108;&#121;&#58;&#32;&#34;&#67;&#111;&#117;&#114;&#105;&#101;&#114;&#32;&#78;&#101;&#119;&#34;&#44;&#67;&#111;&#117;&#114;&#105;&#101;&#114;&#44;&#109;&#111;&#110;&#111;&#115;&#112;&#97;&#99;&#101;&#59;\">&#55;</pre></div><div class=\"grid-item\"><pre style=\"&#102;&#111;&#110;&#116;&#45;&#102;&#97;&#109;&#105;&#108;&#121;&#58;&#32;&#34;&#67;&#111;&#117;&#114;&#105;&#101;&#114;&#32;&#78;&#101;&#119;&#34;&#44;&#67;&#111;&#117;&#114;&#105;&#101;&#114;&#44;&#109;&#111;&#110;&#111;&#115;&#112;&#97;&#99;&#101;&#59;\">&#50;&#53;</pre></div><div class=\"grid-item\"><pre style=\"&#102;&#111;&#110;&#116;&#45;&#102;&#97;&#109;&#105;&#108;&#121;&#58;&#32;&#34;&#67;&#111;&#117;&#114;&#105;&#101;&#114;&#32;&#78;&#101;&#119;&#34;&#44;&#67;&#111;&#117;&#114;&#105;&#101;&#114;&#44;&#109;&#111;&#110;&#111;&#115;&#112;&#97;&#99;&#101;&#59;\">&#55;&#57;</pre></div></div></div>"
      ],
      "text/plain": [
       "1\n",
       "7\n",
       "25\n",
       "79\n",
       "1\n",
       "7\n",
       "25\n",
       "79"
      ]
     },
     "execution_count": 68,
     "metadata": {
      "text/html": [],
      "text/plain": []
     },
     "output_type": "execute_result"
    }
   ],
   "source": [
    "n=1\n",
    "n=3n+4\n",
    "n=3n+4\n",
    "n=3n+4\n",
    "f[x_]:=3^x-2\n",
    "f[1]\n",
    "f[2]\n",
    "f[3]\n",
    "f[4]"
   ]
  },
  {
   "cell_type": "markdown",
   "metadata": {
    "jp-MarkdownHeadingCollapsed": true
   },
   "source": [
    "### Module 1 - Determinant and Inverse of 3 by 3 Matrix"
   ]
  },
  {
   "cell_type": "code",
   "execution_count": 77,
   "metadata": {},
   "outputs": [
    {
     "data": {
      "text/html": [
       "<div><img alt=\"Output\" src=\"data:image/png;base64,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\"></div>"
      ],
      "text/plain": [
       "1    0    0\n",
       "\n",
       "0    0    1\n",
       "\n",
       "0    -1   0"
      ]
     },
     "execution_count": 77,
     "metadata": {
      "text/html": [],
      "text/plain": []
     },
     "output_type": "execute_result"
    }
   ],
   "source": [
    "mat1={{1, 0, 0}, {0, 0, 1}, {0, -1, 0}}//MatrixForm"
   ]
  },
  {
   "cell_type": "code",
   "execution_count": 78,
   "metadata": {},
   "outputs": [
    {
     "data": {
      "text/html": [
       "<style>\n",
       "\t\t\t\t\t\t\t\t\t\t\t\t\t.grid-container {\n",
       "\t\t\t\t\t\t\t\t\t\t\t\t\t\tdisplay: inline-grid;\n",
       "\t\t\t\t\t\t\t\t\t\t\t\t\t\tgrid-template-columns: auto;\n",
       "\t\t\t\t\t\t\t\t\t\t\t\t\t}\n",
       "\t\t\t\t\t\t\t\t\t\t\t\t</style>\n",
       "\n",
       "\t\t\t\t\t\t\t\t\t\t\t\t<div><div class=\"grid-container\"><div class=\"grid-item\"><img alt=\"Output\" src=\"data:image/png;base64,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\"></div><div class=\"grid-item\"><img alt=\"Output\" src=\"data:image/png;base64,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\"></div><div class=\"grid-item\"><img alt=\"Output\" src=\"data:image/png;base64,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\"></div><div class=\"grid-item\"><img alt=\"Output\" src=\"data:image/png;base64,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\"></div><div class=\"grid-item\"><img alt=\"Output\" src=\"data:image/png;base64,iVBORw0KGgoAAAANSUhEUgAAAFIAAAA/CAIAAAD8JAhIAAAA0HpUWHRSYXcgcHJvZmlsZSB0eXBlIGV4aWYAAHjabU9ZbgUhDPvnFD0CWXDgOMx7jNQb9Pg1A2pFVUskjrORNL4+7/QxoZKTl6hoQCa8edNOUvPC8pLbYx8U3Tk59WT31jul8pvA2Pp16oHltf4ZlPcGmxvIzXfDHmS6dOkrvna99lrPQVc+gPzz9X9jt1AUSDita45AI6+JlA48vQRuvAAWCt6a/UU/EME2xKywPhsndMRZPRKMwnueYPO5dRP6zoj7yEFeHkX4mYtWnuw85xt3AFrjj8LU2QAAAAlwSFlzAAAOxAAADsQBlSsOGwAAADx0RVh0U29mdHdhcmUAQ3JlYXRlZCB3aXRoIHRoZSBXb2xmcmFtIExhbmd1YWdlIDogd3d3LndvbGZyYW0uY29tXKKmhQAAACF0RVh0Q3JlYXRpb24gVGltZQAyMDI0OjEyOjA0IDE2OjUyOjE3D3pE+AAAA/xJREFUaIHtW79L61AUTh4dOjgUdHAQhNyMDoJzxckEXNy0m4OLguAQnIQOCpIujh0zCDar6GA7RKHBtX9Ak/prUCFghAxChLwhGPJubtvknqT6SL6htCc9554v91fuxwnreR6TP/z56QR+BgXtf2EYxgg3nudZllVVla7V3d1d9hu6rmfkblmW4zjkax4JrutKkkS8JMsywzCtVsv/JP5nNARBQAiFo3W73Szc39/f6/U68RKZtqIovV4vam+1WoIgeJ7X7XbpaPuOpmkGFoTQzs5ORu4nJycvLy9RO4G267r7+/txmqegLcty0FdBnGGDDu4+rMMJc/v29nZpaSnpfIsJTdN4nve/q6parVb9+TIYDLJwr1QqHx8fn5+fmJ1A++LiYn19PR4LejQajcPDQ4/2qSG++9ra2vX1NWYsRf/nOM7U1BRdNjEhiiIzbrNIy31lZWVvbw/rSLy3LcuqVCp02cQBx3HtdpvjuKAHnp6eEEIcx2XkXiqVotsYTtswjPn5+bgkkmN5eZlhGEmSAoumaaurq5m6f3194SZsiTs7O7u8vBy7olKv5J7nIYSwjTe8IWXhLknS8/Nz2ILTrtfrNzc3w/xN04zey/COEhOCIAy771m4R0kRlrQR4DjOS+PEFl1aJ+nOEDewubk5YNDfhtnZWcyC0358fCyVkg2B349yufzw8BC2FAfPPKGgnScUtPOEgnaeQEMbqHv6gGiv8AQS0xZFsdPp+A/0sixXq9WkDTcaDZZlj4+PkzadVgJMUtq6rrfb7U6n4/88ODhACJ2fn8ePoKqqpmme59E9+cMT8JGM9t3dXVjK0HXdNM1msxk/wubmJuT8BE/ARzLaQN0TjrQSoFzJgbonHMAEaM6YQN0TDngCyXobqHvCkVYCyWgDdU84UksAU9u2trbu7+9HyHFA3TMAtfZKkYCiKIqihC2J57ZhGKIosiwb3LVE7oPBACEU/KzVarVaDSEUf6ICE/BBs6RBNt5UtNdMlNM8oKCdJxS084SCdp5Q0M4TCtp5Ak47TmkWXK+FR0iqN2O8cNrT09O2bY/wh+u1wAgUerNt2zMzM2ELYZCPoA3Xa4ER6PTmKKNkgxyu1wIjUOvNYwY5z/Ovr6/DnOF67Y9Izm9vb0GjPgi0seoWIuCC8SQlZ8dxsIpSXF3heZ5YcxcGXK/9cckZ7+1yuUyo0PwGXK+dvORsWdb4ujSGYRBCw8Y5XK+dvOR8dXW1sbGBW6Pyar/fPz09TVGvTT2Cl0RvJr7rQy5V3d7edl13WCBgoSwkQtJa336/32w2o3Zyq71eD9PT/1McHR0R+498FFlcXBz64tj/A9u2FxYWiCW0rFe82pof/AVZXps2W3AoWwAAAABJRU5ErkJggg==\"></div><div class=\"grid-item\"><img alt=\"Output\" src=\"data:image/png;base64,iVBORw0KGgoAAAANSUhEUgAAADMAAAA/CAIAAADCAWcGAAAA0HpUWHRSYXcgcHJvZmlsZSB0eXBlIGV4aWYAAHjabU9ZbgUhDPvnFD1CFnDgOMx7jNQb9Pg1A2pFVUskjrOSxtfnnT4mTCXlEhUNECK33KyTVFlYXqU99oH7zumpJ7+33imV3wTG1q9TDyxv9c8gsb1pbiD3vBv2ILela1/xteut13oOuuQA5Of0f+PsYSjQyLTZJAKNvCZSOhSTErjxAlioeJvkF/1ABNsQs8L7bJywEWf1SHAK7/kFny97d6XvjLiPHOTlUZTHXLT6ZOd3vgF1hVri8QaUMwAAAAlwSFlzAAAOxAAADsQBlSsOGwAAADx0RVh0U29mdHdhcmUAQ3JlYXRlZCB3aXRoIHRoZSBXb2xmcmFtIExhbmd1YWdlIDogd3d3LndvbGZyYW0uY29tXKKmhQAAACF0RVh0Q3JlYXRpb24gVGltZQAyMDI0OjEyOjA0IDE2OjUyOjE3D3pE+AAAAxpJREFUaIHtmj9r8kAYwC8vHTJkEOwgRVC8Gxw6+AHsrKMfwUEciqPoFyiIk3Pp4FBou3VVMkZco6AgNBfsIDo4BOoQMJB3CC0vufOSS65vX1/y23zufPzlLn/uySm5rgv+SX79tMBJztDMMIzISRFC0icIIUbP1WrFZ+Y4zv39fWQzwzDcTxBCDLmXlxfLsuhtLo3hcKjrOrWJl+fnZwAAxpjaut1ue70etYkyZo7jzOfzUqkUecxICoUCNZ7JZGzbpg8bKauq6uPjo5ABc10XANDv9xkddF1/eHigfJEMtVqtj4+PmEIQQu/IIYSBnev1OhmkzObhcFAU5dS8VKtViYDs9nURNJtNSZImkwljrhVFORwOvqDfbL/fp1IpRpbRaEQeH6N/p9OBED49PTH6QAjJ24ffzDCMXC7HyBKNfD7Pbl0sFr4gxYx9b+Tl9vYWY9zpdBh9EELL5TLYjHGShcE0Td8pyJ5uAICiKPv93he8iCNBpVAoBKqEgXJtZrPZ+Hm5yGQyu93OF/Sbvb+/X1yIH0g2sizbtu0LnuEq6MdJzPhJzPhJzPgRYEY+KIUQ18w0TQihpmlfS1lRS5W4Zt7zu1wuex/v7u4wxuwVbEgEn2cCVwOCzabTKQDg6uoqfiqRZqZpdrvdSqVyqrrkQqSZV8mNRiMh2YSZeZckxlhUQjFmCCGMMcZYyDx6CDCrVqsYY03TBGqB+GaTyWQ8HgMAbm5uQr4zC0ncJX+5XBZSKZH810/0byIx4ycx4ycx4ycx4+d8zCK8Cv1LVV06nT65RXVCK35VZ1nW5eVlgJnXL3xSIVWdZVnkXAmYzT/5xqoOIUS+zA1PtKput9uR2yMUs/V6HU0rclW3Xq+vr6+DzSLXP5GrOsMwisVigJksy47jRNCKU9VtNptgMwAAhJB3QuNUdbZty7JM2YQgtwTf3t4Gg0Hw5uonlUoFAPB1S+NFVVVVVck4fYe/0Wgcj8cweTVNo456eLN2u039LbqZruvD4TB89shomvb6+kptoj/RS6USuX38Hcxms1qtRm2S3OQfS7z8BglIclApStOKAAAAAElFTkSuQmCC\"></div><div class=\"grid-item\"><img alt=\"Output\" src=\"data:image/png;base64,iVBORw0KGgoAAAANSUhEUgAAAB8AAAAVCAIAAAAxV6IIAAAA0HpUWHRSYXcgcHJvZmlsZSB0eXBlIGV4aWYAAHjabU9ZbgUhDPvnFD1CFnDgOMx7jNQb9Pg1A2pFVUvEjrMAaXx93uljwlRSLlHRACFyy806RZWFxSrtiSu5d01PP2nZfqdVfgsY279OP7DY6p9FYkv4vIHa8x7Yi9yWr33l1+63Xuu56JIDkJ+n/5tnD0OBRmbMJhFo1DVRklBMSuDGC2Cj4m2SX+SBCI4hZof3OThhI87ukeA03vMLPk/27kruzHgfNajL4ygfczHqU53f+QZ3ilrgbXd6mQAAAAlwSFlzAAAOxAAADsQBlSsOGwAAADx0RVh0U29mdHdhcmUAQ3JlYXRlZCB3aXRoIHRoZSBXb2xmcmFtIExhbmd1YWdlIDogd3d3LndvbGZyYW0uY29tXKKmhQAAACF0RVh0Q3JlYXRpb24gVGltZQAyMDI0OjEyOjA0IDE2OjUyOjE3D3pE+AAAAP5JREFUOI3tVLutwzAMPGUMwx09hws31AhewaN4C3dqPIBdy/AWMryJXsFEYezgQQlemodcJX5wJI+ETIwRH8Plc9Rf9j9g37bNKPwStdbeAzEDIQQA3nsxiYiIUtR7D8A5JyYAZr6+c9gPcM7pYszcdd0hGkKIMb6je1mW2pznua7rZA7DAGAcR7y31XVdARRFAWBZFl2vqqqmaYho33cgT/fzDpKyIrqohJv6RCRaXXu31poTnjZORACmaTpMY4zx3rdt+5D9UuNCLRvToxycaYgX2M/Uya9vRrSStFx2Zoa6Qg05QX3vqVgWu7RzXsDThL7vk9/E7//+/9h/AKkwLP4RiMDkAAAAAElFTkSuQmCC\"></div></div></div>"
      ],
      "text/plain": [
       "1    0    0\n",
       "\n",
       "0    0    1\n",
       "\n",
       "0    -1   0\n",
       "1    0    0  . {{0, -1, 0}, {1, 0, 0}, {0, 0, 1}}\n",
       "\n",
       "0    0    1\n",
       "\n",
       "0    -1   0\n",
       "{{0, -1, 0}, {1, 0, 0}, {0, 0, 1}} . 1    0    0\n",
       "\n",
       "                                     0    0    1\n",
       "\n",
       "                                     0    -1   0\n",
       "Det[1    0    0  . {{0, -1, 0}, {1, 0, 0}, {0, 0, 1}}] - Det[1    0    0 ]\n",
       "\n",
       "    0    0    1                                              0    0    1\n",
       "\n",
       "    0    -1   0                                              0    -1   0\n",
       "1   0   0\n",
       "\n",
       "0   1   0\n",
       "\n",
       "0   0   1\n",
       "-3\n",
       "\n",
       "2\n",
       "\n",
       "2\n",
       "-20"
      ]
     },
     "execution_count": 78,
     "metadata": {
      "text/html": [],
      "text/plain": []
     },
     "output_type": "execute_result"
    }
   ],
   "source": [
    "mat1={{1, 0, 0}, {0, 0, 1}, {0, -1, 0}}//MatrixForm\n",
    "mat2={{0, -1, 0}, {1, 0, 0}, {0, 0, 1}};\n",
    "mat3=mat1.mat2;\n",
    "mat4={{-1, 0, 0}, {0, -1, 0}, {0, 0, 1}};\n",
    "mat5={{13, 53, 10}, {4, -7, -2}, {2, -8, -1}}/9;\n",
    "mat6={{3}, {-2}, {4}};\n",
    "mat7={{1, 1, -1}, {0, 6, 2}, {-3, 1, 1}};\n",
    "MatrixForm[mat3]\n",
    "MatrixForm[mat2.mat1]\n",
    "Det[mat3]-Det[mat1]Det[mat2]\n",
    "MatrixForm[mat4.mat4]\n",
    "MatrixForm[mat5.mat6]\n",
    "Det[mat7]"
   ]
  },
  {
   "cell_type": "code",
   "execution_count": 92,
   "metadata": {},
   "outputs": [
    {
     "data": {
      "text/html": [
       "<div><pre style=\"&#102;&#111;&#110;&#116;&#45;&#102;&#97;&#109;&#105;&#108;&#121;&#58;&#32;&#34;&#67;&#111;&#117;&#114;&#105;&#101;&#114;&#32;&#78;&#101;&#119;&#34;&#44;&#67;&#111;&#117;&#114;&#105;&#101;&#114;&#44;&#109;&#111;&#110;&#111;&#115;&#112;&#97;&#99;&#101;&#59;\">&#48;&#46;&#48;&#56;&#55;&#53;&#48;&#53;&#50;</pre></div>"
      ],
      "text/plain": [
       "0.0875052"
      ]
     },
     "execution_count": 92,
     "metadata": {
      "text/html": [],
      "text/plain": []
     },
     "output_type": "execute_result"
    }
   ],
   "source": [
    "dist=BinomialDistribution[40,0.2];\n",
    "ans=1-CDF[dist,11]"
   ]
  },
  {
   "cell_type": "code",
   "execution_count": 94,
   "metadata": {},
   "outputs": [
    {
     "data": {
      "text/html": [
       "<div><pre style=\"&#102;&#111;&#110;&#116;&#45;&#102;&#97;&#109;&#105;&#108;&#121;&#58;&#32;&#34;&#67;&#111;&#117;&#114;&#105;&#101;&#114;&#32;&#78;&#101;&#119;&#34;&#44;&#67;&#111;&#117;&#114;&#105;&#101;&#114;&#44;&#109;&#111;&#110;&#111;&#115;&#112;&#97;&#99;&#101;&#59;\">&#32;&#32;&#32;&#32;&#32;&#32;&#32;&#32;&#32;&#32;&#45;&#52;&#51;&#10;&#52;&#46;&#49;&#54;&#57;&#49;&#55;&#32;&#49;&#48;</pre></div>"
      ],
      "text/plain": [
       "          -43\n",
       "4.16917 10"
      ]
     },
     "execution_count": 94,
     "metadata": {
      "text/html": [],
      "text/plain": []
     },
     "output_type": "execute_result"
    }
   ],
   "source": [
    "dist=NormalDistribution[12,3.5/40];\n",
    "ans=CDF[dist,10.8]"
   ]
  },
  {
   "cell_type": "code",
   "execution_count": 96,
   "metadata": {},
   "outputs": [
    {
     "data": {
      "text/html": [
       "<div><pre style=\"&#102;&#111;&#110;&#116;&#45;&#102;&#97;&#109;&#105;&#108;&#121;&#58;&#32;&#34;&#67;&#111;&#117;&#114;&#105;&#101;&#114;&#32;&#78;&#101;&#119;&#34;&#44;&#67;&#111;&#117;&#114;&#105;&#101;&#114;&#44;&#109;&#111;&#110;&#111;&#115;&#112;&#97;&#99;&#101;&#59;\">&#48;&#46;&#53;&#50;&#48;&#52;&#54;&#50;</pre></div>"
      ],
      "text/plain": [
       "0.520462"
      ]
     },
     "execution_count": 96,
     "metadata": {
      "text/html": [],
      "text/plain": []
     },
     "output_type": "execute_result"
    }
   ],
   "source": [
    "dist=NormalDistribution[12,3.5];\n",
    "N[CDF[dist,15]-CDF[dist,10]]"
   ]
  },
  {
   "cell_type": "code",
   "execution_count": 98,
   "metadata": {},
   "outputs": [
    {
     "data": {
      "text/html": [
       "<style>\n",
       "\t\t\t\t\t\t\t\t\t\t\t\t\t.grid-container {\n",
       "\t\t\t\t\t\t\t\t\t\t\t\t\t\tdisplay: inline-grid;\n",
       "\t\t\t\t\t\t\t\t\t\t\t\t\t\tgrid-template-columns: auto;\n",
       "\t\t\t\t\t\t\t\t\t\t\t\t\t}\n",
       "\t\t\t\t\t\t\t\t\t\t\t\t</style>\n",
       "\n",
       "\t\t\t\t\t\t\t\t\t\t\t\t<div><div class=\"grid-container\"><div class=\"grid-item\"><pre style=\"&#102;&#111;&#110;&#116;&#45;&#102;&#97;&#109;&#105;&#108;&#121;&#58;&#32;&#34;&#67;&#111;&#117;&#114;&#105;&#101;&#114;&#32;&#78;&#101;&#119;&#34;&#44;&#67;&#111;&#117;&#114;&#105;&#101;&#114;&#44;&#109;&#111;&#110;&#111;&#115;&#112;&#97;&#99;&#101;&#59;\">&#45;&#49;&#46;&#54;&#52;&#52;&#56;&#53;</pre></div><div class=\"grid-item\"><pre style=\"&#102;&#111;&#110;&#116;&#45;&#102;&#97;&#109;&#105;&#108;&#121;&#58;&#32;&#34;&#67;&#111;&#117;&#114;&#105;&#101;&#114;&#32;&#78;&#101;&#119;&#34;&#44;&#67;&#111;&#117;&#114;&#105;&#101;&#114;&#44;&#109;&#111;&#110;&#111;&#115;&#112;&#97;&#99;&#101;&#59;\">&#48;&#46;&#54;&#55;&#52;&#52;&#57;</pre></div></div></div>"
      ],
      "text/plain": [
       "-1.64485\n",
       "0.67449"
      ]
     },
     "execution_count": 98,
     "metadata": {
      "text/html": [],
      "text/plain": []
     },
     "output_type": "execute_result"
    }
   ],
   "source": [
    "dist=NormalDistribution[];\n",
    "quan1=Quantile[dist,0.05]\n",
    "quan2=Quantile[dist,0.75]"
   ]
  },
  {
   "cell_type": "code",
   "execution_count": 102,
   "metadata": {},
   "outputs": [
    {
     "data": {
      "text/html": [
       "<style>\n",
       "\t\t\t\t\t\t\t\t\t\t\t\t\t.grid-container {\n",
       "\t\t\t\t\t\t\t\t\t\t\t\t\t\tdisplay: inline-grid;\n",
       "\t\t\t\t\t\t\t\t\t\t\t\t\t\tgrid-template-columns: auto;\n",
       "\t\t\t\t\t\t\t\t\t\t\t\t\t}\n",
       "\t\t\t\t\t\t\t\t\t\t\t\t</style>\n",
       "\n",
       "\t\t\t\t\t\t\t\t\t\t\t\t<div><div class=\"grid-container\"><div class=\"grid-item\"><img alt=\"Output\" src=\"data:image/png;base64,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\"></div><div class=\"grid-item\"><img alt=\"Output\" src=\"data:image/png;base64,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\"></div><div class=\"grid-item\"><img alt=\"Output\" src=\"data:image/png;base64,iVBORw0KGgoAAAANSUhEUgAAABQAAAAVCAIAAADJt1n/AAAA0HpUWHRSYXcgcHJvZmlsZSB0eXBlIGV4aWYAAHjabU/tbUQhDPvPFDdCPsCBcXh3nNQNOv6ZB2pFVUvEjhMSSOP7650eE6aScomKBgiRW27WKaosLFZpd1xJ3jU9/aRl+51W+S1gbP86/cBiq38GiS3hcwO1742xB7ktX/vKr91vvdZz0CUHID9P/zfPHoYCjcyYTSLQqGuiJKGYlMAbT4CNipdJfpIHIngNMTu8z4sTNuLsHglO4zW/4PNk767kzoz7qEFdbke92sWod3V+5wMt+FqvzBEo5wAAAAlwSFlzAAAOxAAADsQBlSsOGwAAADx0RVh0U29mdHdhcmUAQ3JlYXRlZCB3aXRoIHRoZSBXb2xmcmFtIExhbmd1YWdlIDogd3d3LndvbGZyYW0uY29tXKKmhQAAACF0RVh0Q3JlYXRpb24gVGltZQAyMDI0OjEyOjA0IDE2OjUyOjE4n8VZaQAAANNJREFUOI3tk7ENhDAMReMTkxCPQY0ZgZKWDAANCwRRwwh4hbSEMTCrcMUhHeIAiStP96rox092FBmWZVHf8vja/B05SRIAMMbscmYGAEQ8lZnZOffZAQCGYSCiq85VVVlrtdbbEBG9923bXo1d17WIFEWxq5imKYqiT/Mtz/NclmXf94dFZ6xy0zRElKbpLTlQSo3j2HWd9/6WuXbOsizP87OHXSEiZ1fW2mUDEWmtt0kQhuFusRAxjuPDvzkY+xpjDAAAgHNORF5nZlZKwX+f7/EEzlxhUeRoJZ4AAAAASUVORK5CYII=\"></div><div class=\"grid-item\"><img alt=\"Output\" src=\"data:image/png;base64,iVBORw0KGgoAAAANSUhEUgAAAB8AAAAVCAIAAAAxV6IIAAAA0HpUWHRSYXcgcHJvZmlsZSB0eXBlIGV4aWYAAHjabU9ZbgUhDPvnFD1CFnDgOMx7jNQb9Pg1A2pFVUvEjrMAaXx93uljwlRSLlHRACFyy806RZWFxSrtiSu5d01PP2nZfqdVfgsY279OP7DY6p9FYkv4vIHa8x7Yi9yWr33l1+63Xuu56JIDkJ+n/5tnD0OBRmbMJhFo1DVRklBMSuDGC2Cj4m2SX+SBCI4hZof3OThhI87ukeA03vMLPk/27kruzHgfNajL46hXuxj1qc7vfAN3mlrh6fiT6gAAAAlwSFlzAAAOxAAADsQBlSsOGwAAADx0RVh0U29mdHdhcmUAQ3JlYXRlZCB3aXRoIHRoZSBXb2xmcmFtIExhbmd1YWdlIDogd3d3LndvbGZyYW0uY29tXKKmhQAAACF0RVh0Q3JlYXRpb24gVGltZQAyMDI0OjEyOjA0IDE2OjUyOjE4n8VZaQAAAOtJREFUOI3tlL0NgzAQhX0Rk2CPQc0xAiUtHgAaL2BEDSNwI+AWGINjFVIgRcj5JUqaKK+x9fTus2WfDtZ1FV/T6XvoP/2T9CRJAEBr7flEBABKqffpROScu/YBYBgGRPT8Y3RjjLVWSrk3lVLjODZNc50/QK+qipmLovD8eZ6jKLpZ8ip9WZayLLuue/02B+h1XSNimqbv0LdO8HQJTdPUtq0x5hBaCBFsS9/3D0JZluV5fu9xH2l9Jma+V2ut3ScRUUq5d4Knx4dh6M1RpVQcxzdb0NMHJoHWevsn5xwzb3siEkLAf77/IP0M1JeEbXoUyNAAAAAASUVORK5CYII=\"></div></div></div>"
      ],
      "text/plain": [
       "Det[            ]\n",
       "    1    1    1\n",
       "\n",
       "\n",
       "    x    y    z\n",
       "\n",
       "     2    2    2\n",
       "    x    y    z\n",
       "                   2                           2       2\n",
       "q qr r (-q + r) + p  (-(pq q) + pr r) + p (pq q  - pr r )\n",
       "41\n",
       "-41"
      ]
     },
     "execution_count": 102,
     "metadata": {
      "text/html": [],
      "text/plain": []
     },
     "output_type": "execute_result"
    }
   ],
   "source": [
    "mat1={{1, 1, 1}, {x, y, z}, {x^2, y^2, z^2}}//MatrixForm;\n",
    "mat2={{p, q, r}, {p^2, q^2, r^2}, {qr, pr, pq}};\n",
    "Det[mat1]\n",
    "Simplify[Det[mat2]]\n",
    "12*2-53*4-3*5*10+3*53-2*10+4*12*5\n",
    "3*4-3*3-2*5*4-2*2"
   ]
  },
  {
   "cell_type": "markdown",
   "metadata": {
    "jp-MarkdownHeadingCollapsed": true
   },
   "source": [
    "## Further Y12-1"
   ]
  },
  {
   "cell_type": "markdown",
   "metadata": {},
   "source": [
    "### Module 7 - Vectors 1"
   ]
  },
  {
   "cell_type": "code",
   "execution_count": 16,
   "metadata": {},
   "outputs": [
    {
     "ename": "NameError",
     "evalue": "name 'ArcCos' is not defined",
     "output_type": "error",
     "traceback": [
      "\u001b[0;31m---------------------------------------------------------------------------\u001b[0m",
      "\u001b[0;31mNameError\u001b[0m                                 Traceback (most recent call last)",
      "Cell \u001b[0;32mIn[16], line 1\u001b[0m\n\u001b[0;32m----> 1\u001b[0m \u001b[43mArcCos\u001b[49m[RealNumber(\u001b[38;5;124m'\u001b[39m\u001b[38;5;124m0.44141\u001b[39m\u001b[38;5;124m'\u001b[39m)]\u001b[38;5;241m*\u001b[39mInteger(\u001b[38;5;241m180\u001b[39m)\u001b[38;5;241m/\u001b[39mPi\n",
      "\u001b[0;31mNameError\u001b[0m: name 'ArcCos' is not defined"
     ]
    }
   ],
   "source": [
    "ArcCos[0.44141]*180/Pi"
   ]
  },
  {
   "cell_type": "code",
   "execution_count": 17,
   "metadata": {},
   "outputs": [
    {
     "data": {
      "text/plain": [
       "66"
      ]
     },
     "execution_count": 17,
     "metadata": {},
     "output_type": "execute_result"
    }
   ],
   "source": [
    "44+29\n",
    "29*4-30\n",
    "3*29-21"
   ]
  },
  {
   "cell_type": "code",
   "execution_count": 18,
   "metadata": {},
   "outputs": [
    {
     "ename": "NameError",
     "evalue": "name 'Sqrt' is not defined",
     "output_type": "error",
     "traceback": [
      "\u001b[0;31m---------------------------------------------------------------------------\u001b[0m",
      "\u001b[0;31mNameError\u001b[0m                                 Traceback (most recent call last)",
      "Cell \u001b[0;32mIn[18], line 1\u001b[0m\n\u001b[0;32m----> 1\u001b[0m N[\u001b[43mSqrt\u001b[49m[(Integer(\u001b[38;5;241m73\u001b[39m)\u001b[38;5;241m/\u001b[39mInteger(\u001b[38;5;241m29\u001b[39m))\u001b[38;5;241m*\u001b[39m\u001b[38;5;241m*\u001b[39mInteger(\u001b[38;5;241m2\u001b[39m)\u001b[38;5;241m+\u001b[39m(Integer(\u001b[38;5;241m86\u001b[39m)\u001b[38;5;241m/\u001b[39mInteger(\u001b[38;5;241m29\u001b[39m))\u001b[38;5;241m*\u001b[39m\u001b[38;5;241m*\u001b[39mInteger(\u001b[38;5;241m2\u001b[39m)\u001b[38;5;241m+\u001b[39m(Integer(\u001b[38;5;241m66\u001b[39m)\u001b[38;5;241m/\u001b[39mInteger(\u001b[38;5;241m29\u001b[39m))\u001b[38;5;241m*\u001b[39m\u001b[38;5;241m*\u001b[39mInteger(\u001b[38;5;241m2\u001b[39m)]]\n",
      "\u001b[0;31mNameError\u001b[0m: name 'Sqrt' is not defined"
     ]
    }
   ],
   "source": [
    "N[Sqrt[(73/29)^2+(86/29)^2+(66/29)^2]]"
   ]
  },
  {
   "cell_type": "code",
   "execution_count": 19,
   "metadata": {},
   "outputs": [
    {
     "ename": "NameError",
     "evalue": "name 'Sqrt' is not defined",
     "output_type": "error",
     "traceback": [
      "\u001b[0;31m---------------------------------------------------------------------------\u001b[0m",
      "\u001b[0;31mNameError\u001b[0m                                 Traceback (most recent call last)",
      "Cell \u001b[0;32mIn[19], line 1\u001b[0m\n\u001b[0;32m----> 1\u001b[0m N[\u001b[43mSqrt\u001b[49m[(Integer(\u001b[38;5;241m27\u001b[39m)\u001b[38;5;241m/\u001b[39mInteger(\u001b[38;5;241m10\u001b[39m))\u001b[38;5;241m*\u001b[39m\u001b[38;5;241m*\u001b[39mInteger(\u001b[38;5;241m2\u001b[39m)\u001b[38;5;241m+\u001b[39m(Integer(\u001b[38;5;241m9\u001b[39m)\u001b[38;5;241m/\u001b[39mInteger(\u001b[38;5;241m10\u001b[39m))\u001b[38;5;241m*\u001b[39m\u001b[38;5;241m*\u001b[39mInteger(\u001b[38;5;241m2\u001b[39m)]]\n",
      "\u001b[0;31mNameError\u001b[0m: name 'Sqrt' is not defined"
     ]
    }
   ],
   "source": [
    "N[Sqrt[(27/10)^2+(9/10)^2]]"
   ]
  },
  {
   "cell_type": "code",
   "execution_count": null,
   "metadata": {},
   "outputs": [],
   "source": [
    "Sqrt[75]\n",
    "N[7*5Sqrt[3]/14]"
   ]
  },
  {
   "cell_type": "code",
   "execution_count": 20,
   "metadata": {},
   "outputs": [
    {
     "ename": "NameError",
     "evalue": "name 'ArcCos' is not defined",
     "output_type": "error",
     "traceback": [
      "\u001b[0;31m---------------------------------------------------------------------------\u001b[0m",
      "\u001b[0;31mNameError\u001b[0m                                 Traceback (most recent call last)",
      "Cell \u001b[0;32mIn[20], line 1\u001b[0m\n\u001b[0;32m----> 1\u001b[0m N[\u001b[43mArcCos\u001b[49m[Integer(\u001b[38;5;241m11\u001b[39m)\u001b[38;5;241m/\u001b[39mInteger(\u001b[38;5;241m14\u001b[39m)]\u001b[38;5;241m*\u001b[39mInteger(\u001b[38;5;241m180\u001b[39m)\u001b[38;5;241m/\u001b[39mPi]\n",
      "\u001b[0;31mNameError\u001b[0m: name 'ArcCos' is not defined"
     ]
    }
   ],
   "source": [
    "N[ArcCos[11/14]*180/Pi]"
   ]
  },
  {
   "cell_type": "code",
   "execution_count": 21,
   "metadata": {},
   "outputs": [
    {
     "ename": "TypeError",
     "evalue": "unhashable type: 'set'",
     "output_type": "error",
     "traceback": [
      "\u001b[0;31m---------------------------------------------------------------------------\u001b[0m",
      "\u001b[0;31mTypeError\u001b[0m                                 Traceback (most recent call last)",
      "Cell \u001b[0;32mIn[21], line 1\u001b[0m\n\u001b[0;32m----> 1\u001b[0m vec1\u001b[38;5;241m=\u001b[39m{{Integer(\u001b[38;5;241m2\u001b[39m)}, {Integer(\u001b[38;5;241m3\u001b[39m)}, {Integer(\u001b[38;5;241m2\u001b[39m)}};\n\u001b[1;32m      2\u001b[0m vec2\u001b[38;5;241m=\u001b[39m{{Integer(\u001b[38;5;241m6\u001b[39m)}, {\u001b[38;5;241m-\u001b[39mInteger(\u001b[38;5;241m2\u001b[39m)}, {Integer(\u001b[38;5;241m1\u001b[39m)}};\n\u001b[1;32m      3\u001b[0m vec1\u001b[38;5;241m-\u001b[39mvec2\u001b[38;5;241m*\u001b[39mInteger(\u001b[38;5;241m3\u001b[39m)\u001b[38;5;241m/\u001b[39mInteger(\u001b[38;5;241m2\u001b[39m) \n",
      "\u001b[0;31mTypeError\u001b[0m: unhashable type: 'set'"
     ]
    }
   ],
   "source": [
    "vec1={{2}, {3}, {2}};\n",
    "vec2={{6}, {-2}, {1}};\n",
    "vec1-vec2*3/2 "
   ]
  },
  {
   "cell_type": "code",
   "execution_count": 22,
   "metadata": {},
   "outputs": [
    {
     "data": {
      "text/plain": [
       "8"
      ]
     },
     "execution_count": 22,
     "metadata": {},
     "output_type": "execute_result"
    }
   ],
   "source": [
    "(-2/7)^2+(8/7)^2+(18/7)^2"
   ]
  },
  {
   "cell_type": "markdown",
   "metadata": {},
   "source": [
    "Angle between 2 vectors\n",
    "\n",
    "$\\cos{\\theta}=\\large\\frac{a_1b_1+a_2b_2}{|\\mathbf{a}||\\mathbf{b}|}$\n",
    "\n",
    "Scalar Product/Dot Product\n",
    "\n",
    "$\\mathbf{a}\\mathbf{b}=ab\\cos{\\theta}$\n",
    "\n",
    "$\\mathbf{a}\\mathbf{b}=a_1b_1+a_2b_2$"
   ]
  },
  {
   "cell_type": "markdown",
   "metadata": {},
   "source": [
    "### Module 3 and 6 - Further Algebra and Functions 1 and 2"
   ]
  },
  {
   "cell_type": "code",
   "execution_count": 23,
   "metadata": {},
   "outputs": [
    {
     "ename": "SyntaxError",
     "evalue": "invalid decimal literal (838420785.py, line 6)",
     "output_type": "error",
     "traceback": [
      "\u001b[0;36m  Cell \u001b[0;32mIn[23], line 6\u001b[0;36m\u001b[0m\n\u001b[0;31m    g[x_]:=x(x+Integer(1))(2x+Integer(1))/Integer(6)\u001b[0m\n\u001b[0m                           ^\u001b[0m\n\u001b[0;31mSyntaxError\u001b[0m\u001b[0;31m:\u001b[0m invalid decimal literal\n"
     ]
    }
   ],
   "source": [
    "mat1={{1, -1, 2}, {2, 1, 1}, {2, -2, 1}};\n",
    "mat2=Inverse[mat1];\n",
    "mat3={{9}, {0}, {3}};\n",
    "mat4=mat2.mat3;\n",
    "f[x_]:=x(x+1)/2\n",
    "g[x_]:=x(x+1)(2x+1)/6\n",
    "h[x_]:=2g[x]+3f[x]\n",
    "j[x_]:=x^2-17x+22\n",
    "k[x_]:=x(x+1)^2\n",
    "MatrixForm[mat2]\n",
    "MatrixForm[mat4]\n",
    "36*7\n",
    "f[50]-f[20]\n",
    "g[100]-g[90]\n",
    "f[50]-f[15]+5*35\n",
    "h[50]-h[25]\n",
    "j[1]\n",
    "j[3]\n",
    "j[-2]\n",
    "k[30]-k[20]"
   ]
  },
  {
   "cell_type": "code",
   "execution_count": 24,
   "metadata": {},
   "outputs": [
    {
     "ename": "SyntaxError",
     "evalue": "invalid decimal literal (1743662449.py, line 1)",
     "output_type": "error",
     "traceback": [
      "\u001b[0;36m  Cell \u001b[0;32mIn[24], line 1\u001b[0;36m\u001b[0m\n\u001b[0;31m    f[x_]:=2x(x+Integer(1))\u001b[0m\n\u001b[0m           ^\u001b[0m\n\u001b[0;31mSyntaxError\u001b[0m\u001b[0;31m:\u001b[0m invalid decimal literal\n"
     ]
    }
   ],
   "source": [
    "f[x_]:=2x(x+1)\n",
    "g[x_]:=x(x+1)(2x+1)+2x\n",
    "h[x_]:=x(x+1)(x+2)(x+3)\n",
    "i[x_]:=x(x-1)(x+1)(x+2)\n",
    "f[20]-f[9]\n",
    "g[10]-g[4]\n",
    "h[1]\n",
    "h[2]\n",
    "h[3]\n",
    "i[1]\n",
    "i[2]\n",
    "i[3]\n",
    "16*4*9"
   ]
  },
  {
   "cell_type": "code",
   "execution_count": 25,
   "metadata": {},
   "outputs": [
    {
     "data": {
      "text/plain": [
       "8.52600000000000"
      ]
     },
     "execution_count": 25,
     "metadata": {},
     "output_type": "execute_result"
    }
   ],
   "source": [
    "35*4.2\n",
    "35*0.42*0.58"
   ]
  },
  {
   "cell_type": "code",
   "execution_count": 26,
   "metadata": {},
   "outputs": [
    {
     "ename": "NameError",
     "evalue": "name 'BinomialDistribution' is not defined",
     "output_type": "error",
     "traceback": [
      "\u001b[0;31m---------------------------------------------------------------------------\u001b[0m",
      "\u001b[0;31mNameError\u001b[0m                                 Traceback (most recent call last)",
      "Cell \u001b[0;32mIn[26], line 1\u001b[0m\n\u001b[0;32m----> 1\u001b[0m dist\u001b[38;5;241m=\u001b[39m\u001b[43mBinomialDistribution\u001b[49m[Integer(\u001b[38;5;241m35\u001b[39m),RealNumber(\u001b[38;5;124m'\u001b[39m\u001b[38;5;124m0.42\u001b[39m\u001b[38;5;124m'\u001b[39m)];\n\u001b[1;32m      2\u001b[0m Integer(\u001b[38;5;241m1\u001b[39m)\u001b[38;5;241m-\u001b[39mCDF[dist,Integer(\u001b[38;5;241m17\u001b[39m)]\n",
      "\u001b[0;31mNameError\u001b[0m: name 'BinomialDistribution' is not defined"
     ]
    }
   ],
   "source": [
    "dist=BinomialDistribution[35,0.42];\n",
    "1-CDF[dist,17]"
   ]
  },
  {
   "cell_type": "code",
   "execution_count": 27,
   "metadata": {},
   "outputs": [
    {
     "ename": "NameError",
     "evalue": "name 'NormalDistribution' is not defined",
     "output_type": "error",
     "traceback": [
      "\u001b[0;31m---------------------------------------------------------------------------\u001b[0m",
      "\u001b[0;31mNameError\u001b[0m                                 Traceback (most recent call last)",
      "Cell \u001b[0;32mIn[27], line 1\u001b[0m\n\u001b[0;32m----> 1\u001b[0m dist\u001b[38;5;241m=\u001b[39m\u001b[43mNormalDistribution\u001b[49m[Integer(\u001b[38;5;241m34\u001b[39m),RealNumber(\u001b[38;5;124m'\u001b[39m\u001b[38;5;124m4.5\u001b[39m\u001b[38;5;124m'\u001b[39m)];\n\u001b[1;32m      2\u001b[0m ans\u001b[38;5;241m=\u001b[39mInteger(\u001b[38;5;241m1\u001b[39m)\u001b[38;5;241m-\u001b[39mCDF[dist,RealNumber(\u001b[38;5;124m'\u001b[39m\u001b[38;5;124m36.2\u001b[39m\u001b[38;5;124m'\u001b[39m)]\n",
      "\u001b[0;31mNameError\u001b[0m: name 'NormalDistribution' is not defined"
     ]
    }
   ],
   "source": [
    "dist=NormalDistribution[34,4.5];\n",
    "ans=1-CDF[dist,36.2]"
   ]
  },
  {
   "cell_type": "code",
   "execution_count": 28,
   "metadata": {},
   "outputs": [
    {
     "ename": "SyntaxError",
     "evalue": "invalid decimal literal (3419119126.py, line 2)",
     "output_type": "error",
     "traceback": [
      "\u001b[0;36m  Cell \u001b[0;32mIn[28], line 2\u001b[0;36m\u001b[0m\n\u001b[0;31m    ans=RealNumber('1.')5Quantile[dist,RealNumber('0.95')]\u001b[0m\n\u001b[0m                        ^\u001b[0m\n\u001b[0;31mSyntaxError\u001b[0m\u001b[0;31m:\u001b[0m invalid decimal literal\n"
     ]
    }
   ],
   "source": [
    "dist=NormalDistribution[];\n",
    "ans=1.5Quantile[dist,0.95]\n",
    "10-ans"
   ]
  },
  {
   "cell_type": "code",
   "execution_count": 29,
   "metadata": {},
   "outputs": [
    {
     "ename": "NameError",
     "evalue": "name 'NormalDistribution' is not defined",
     "output_type": "error",
     "traceback": [
      "\u001b[0;31m---------------------------------------------------------------------------\u001b[0m",
      "\u001b[0;31mNameError\u001b[0m                                 Traceback (most recent call last)",
      "Cell \u001b[0;32mIn[29], line 1\u001b[0m\n\u001b[0;32m----> 1\u001b[0m dist\u001b[38;5;241m=\u001b[39m\u001b[43mNormalDistribution\u001b[49m[RealNumber(\u001b[38;5;124m'\u001b[39m\u001b[38;5;124m1.78\u001b[39m\u001b[38;5;124m'\u001b[39m),RealNumber(\u001b[38;5;124m'\u001b[39m\u001b[38;5;124m.23\u001b[39m\u001b[38;5;124m'\u001b[39m)];\n\u001b[1;32m      2\u001b[0m N[CDF[dist,RealNumber(\u001b[38;5;124m'\u001b[39m\u001b[38;5;124m1.82\u001b[39m\u001b[38;5;124m'\u001b[39m)]\u001b[38;5;241m-\u001b[39mCDF[dist,RealNumber(\u001b[38;5;124m'\u001b[39m\u001b[38;5;124m1.82\u001b[39m\u001b[38;5;124m'\u001b[39m)]]\n\u001b[1;32m      3\u001b[0m N[CDF[dist,RealNumber(\u001b[38;5;124m'\u001b[39m\u001b[38;5;124m1.9\u001b[39m\u001b[38;5;124m'\u001b[39m)]\u001b[38;5;241m-\u001b[39mCDF[dist,RealNumber(\u001b[38;5;124m'\u001b[39m\u001b[38;5;124m1.7\u001b[39m\u001b[38;5;124m'\u001b[39m)]]\u001b[38;5;241m*\u001b[39m\u001b[38;5;241m*\u001b[39mInteger(\u001b[38;5;241m2\u001b[39m)\n",
      "\u001b[0;31mNameError\u001b[0m: name 'NormalDistribution' is not defined"
     ]
    }
   ],
   "source": [
    "dist=NormalDistribution[1.78,.23];\n",
    "N[CDF[dist,1.82]-CDF[dist,1.82]]\n",
    "N[CDF[dist,1.9]-CDF[dist,1.7]]^2"
   ]
  },
  {
   "cell_type": "code",
   "execution_count": 30,
   "metadata": {},
   "outputs": [
    {
     "ename": "TypeError",
     "evalue": "'function' object is not subscriptable",
     "output_type": "error",
     "traceback": [
      "\u001b[0;31m---------------------------------------------------------------------------\u001b[0m",
      "\u001b[0;31mTypeError\u001b[0m                                 Traceback (most recent call last)",
      "Cell \u001b[0;32mIn[30], line 3\u001b[0m\n\u001b[1;32m      1\u001b[0m Integer(\u001b[38;5;241m45\u001b[39m)\u001b[38;5;241m-\u001b[39mInteger(\u001b[38;5;241m17\u001b[39m)\u001b[38;5;241m-\u001b[39mInteger(\u001b[38;5;241m15\u001b[39m)\u001b[38;5;241m-\u001b[39mInteger(\u001b[38;5;241m4\u001b[39m)\n\u001b[1;32m      2\u001b[0m Integer(\u001b[38;5;241m70\u001b[39m)\u001b[38;5;241m-\u001b[39mInteger(\u001b[38;5;241m31\u001b[39m)\u001b[38;5;241m-\u001b[39mInteger(\u001b[38;5;241m17\u001b[39m)\u001b[38;5;241m-\u001b[39mInteger(\u001b[38;5;241m15\u001b[39m)\n\u001b[0;32m----> 3\u001b[0m \u001b[43mN\u001b[49m\u001b[43m[\u001b[49m\u001b[43mInteger\u001b[49m\u001b[43m(\u001b[49m\u001b[38;5;241;43m101\u001b[39;49m\u001b[43m)\u001b[49m\u001b[38;5;241;43m/\u001b[39;49m\u001b[43mInteger\u001b[49m\u001b[43m(\u001b[49m\u001b[38;5;241;43m240\u001b[39;49m\u001b[43m)\u001b[49m\u001b[43m]\u001b[49m\n\u001b[1;32m      4\u001b[0m Integer(\u001b[38;5;241m240\u001b[39m)\u001b[38;5;241m-\u001b[39mInteger(\u001b[38;5;241m101\u001b[39m)\u001b[38;5;241m-\u001b[39mInteger(\u001b[38;5;241m7\u001b[39m)\u001b[38;5;241m-\u001b[39mInteger(\u001b[38;5;241m9\u001b[39m)\n\u001b[1;32m      5\u001b[0m Integer(\u001b[38;5;241m123\u001b[39m)\u001b[38;5;241m/\u001b[39mInteger(\u001b[38;5;241m3\u001b[39m)\n",
      "\u001b[0;31mTypeError\u001b[0m: 'function' object is not subscriptable"
     ]
    }
   ],
   "source": [
    "45-17-15-4\n",
    "70-31-17-15\n",
    "N[101/240]\n",
    "240-101-7-9\n",
    "123/3\n",
    "N[41/80]\n",
    "240-101-31-17-7-15-4-9\n",
    "101+31+7\n",
    "N[139/195]\n",
    "69.2/40\n",
    "Sqrt[2.81/40]\n",
    "1.78-0.23*2"
   ]
  },
  {
   "cell_type": "code",
   "execution_count": 31,
   "metadata": {},
   "outputs": [
    {
     "ename": "NameError",
     "evalue": "name 'BinomialDistribution' is not defined",
     "output_type": "error",
     "traceback": [
      "\u001b[0;31m---------------------------------------------------------------------------\u001b[0m",
      "\u001b[0;31mNameError\u001b[0m                                 Traceback (most recent call last)",
      "Cell \u001b[0;32mIn[31], line 1\u001b[0m\n\u001b[0;32m----> 1\u001b[0m dist\u001b[38;5;241m=\u001b[39m\u001b[43mBinomialDistribution\u001b[49m[Integer(\u001b[38;5;241m20\u001b[39m),RealNumber(\u001b[38;5;124m'\u001b[39m\u001b[38;5;124m0.3\u001b[39m\u001b[38;5;124m'\u001b[39m)];\n\u001b[1;32m      2\u001b[0m N[PDF[dist,Integer(\u001b[38;5;241m1\u001b[39m)]]\n\u001b[1;32m      3\u001b[0m N[CDF[dist,Integer(\u001b[38;5;241m3\u001b[39m)]]\n",
      "\u001b[0;31mNameError\u001b[0m: name 'BinomialDistribution' is not defined"
     ]
    }
   ],
   "source": [
    "dist=BinomialDistribution[20,0.3];\n",
    "N[PDF[dist,1]]\n",
    "N[CDF[dist,3]]\n",
    "1-N[CDF[dist,9]]"
   ]
  },
  {
   "cell_type": "code",
   "execution_count": 32,
   "metadata": {},
   "outputs": [
    {
     "ename": "SyntaxError",
     "evalue": "invalid decimal literal (2234183503.py, line 1)",
     "output_type": "error",
     "traceback": [
      "\u001b[0;36m  Cell \u001b[0;32mIn[32], line 1\u001b[0;36m\u001b[0m\n\u001b[0;31m    f[x_]:=x**Integer(3)+4x**Integer(2)-x+Integer(2)\u001b[0m\n\u001b[0m                         ^\u001b[0m\n\u001b[0;31mSyntaxError\u001b[0m\u001b[0;31m:\u001b[0m invalid decimal literal\n"
     ]
    }
   ],
   "source": [
    "f[x_]:=x^3+4x^2-x+2\n",
    "g[x_]:=5x^2-9x+22\n",
    "h[x_]:=x^2+2x+9\n",
    "f[2]\n",
    "g[4]\n",
    "h[4]"
   ]
  },
  {
   "cell_type": "code",
   "execution_count": 33,
   "metadata": {},
   "outputs": [
    {
     "ename": "SyntaxError",
     "evalue": "invalid decimal literal (1693013388.py, line 1)",
     "output_type": "error",
     "traceback": [
      "\u001b[0;36m  Cell \u001b[0;32mIn[33], line 1\u001b[0;36m\u001b[0m\n\u001b[0;31m    f[x_]:=4x(4x+Integer(1))(8x**Integer(2)-Integer(1))\u001b[0m\n\u001b[0m           ^\u001b[0m\n\u001b[0;31mSyntaxError\u001b[0m\u001b[0;31m:\u001b[0m invalid decimal literal\n"
     ]
    }
   ],
   "source": [
    "f[x_]:=4x(4x+1)(8x^2-1)\n",
    "g[x_]:=2(x-1)(2x-1)(8(x-1)^2-1)\n",
    "Expand[f[x]-g[x]]"
   ]
  },
  {
   "cell_type": "code",
   "execution_count": 34,
   "metadata": {},
   "outputs": [
    {
     "ename": "SyntaxError",
     "evalue": "invalid decimal literal (439274272.py, line 3)",
     "output_type": "error",
     "traceback": [
      "\u001b[0;36m  Cell \u001b[0;32mIn[34], line 3\u001b[0;36m\u001b[0m\n\u001b[0;31m    g[x_]:=x(x+Integer(1))(2x+Integer(1))/Integer(6)\u001b[0m\n\u001b[0m                           ^\u001b[0m\n\u001b[0;31mSyntaxError\u001b[0m\u001b[0;31m:\u001b[0m invalid decimal literal\n"
     ]
    }
   ],
   "source": [
    "n=4;\n",
    "f[x_]:=x(x+1)/2\n",
    "g[x_]:=x(x+1)(2x+1)/6\n",
    "h[x_]:=x^2(x+1)^2/4\n",
    "n(n+1)(8n-5)/6\n",
    "Simplify[Expand[2h[4x]-6g[4x]]]"
   ]
  },
  {
   "cell_type": "code",
   "execution_count": 35,
   "metadata": {},
   "outputs": [
    {
     "ename": "SyntaxError",
     "evalue": "invalid decimal literal (3571437719.py, line 7)",
     "output_type": "error",
     "traceback": [
      "\u001b[0;36m  Cell \u001b[0;32mIn[35], line 7\u001b[0;36m\u001b[0m\n\u001b[0;31m    n(n+Integer(1))(2n+Integer(1))/Integer(6)\u001b[0m\n\u001b[0m                    ^\u001b[0m\n\u001b[0;31mSyntaxError\u001b[0m\u001b[0;31m:\u001b[0m invalid decimal literal\n"
     ]
    }
   ],
   "source": [
    "n=20;\n",
    "n1=15;\n",
    "n2=4;\n",
    "a=40;\n",
    "b=19;\n",
    "25*51\n",
    "n(n+1)(2n+1)/6\n",
    "15*31+60-5*9-18\n",
    "(n1(n1+1)(2n1+1)-n2(n2+1)(2n2+1))/6\n",
    "2(25*51-1.5*50+9*1.5-5*9)\n",
    "(a(a+1)(2a+1)-b(b+1)(2b+1))*5/6-84\n",
    "Expand[(x+1)(x+2)(x-3)]\n",
    "4*5*9"
   ]
  },
  {
   "cell_type": "code",
   "execution_count": 36,
   "metadata": {},
   "outputs": [
    {
     "ename": "SyntaxError",
     "evalue": "invalid decimal literal (1543311905.py, line 2)",
     "output_type": "error",
     "traceback": [
      "\u001b[0;36m  Cell \u001b[0;32mIn[36], line 2\u001b[0;36m\u001b[0m\n\u001b[0;31m    f[x_]:=Sin[2x]-x\u001b[0m\n\u001b[0m               ^\u001b[0m\n\u001b[0;31mSyntaxError\u001b[0m\u001b[0;31m:\u001b[0m invalid decimal literal\n"
     ]
    }
   ],
   "source": [
    "n=Pi/6;\n",
    "f[x_]:=Sin[2x]-x\n",
    "g[x_]:=f'[x]\n",
    "g[x]\n",
    "n=N[n-f[n]/g[n]]"
   ]
  },
  {
   "cell_type": "code",
   "execution_count": 37,
   "metadata": {},
   "outputs": [
    {
     "ename": "NameError",
     "evalue": "name 'BinomialDistribution' is not defined",
     "output_type": "error",
     "traceback": [
      "\u001b[0;31m---------------------------------------------------------------------------\u001b[0m",
      "\u001b[0;31mNameError\u001b[0m                                 Traceback (most recent call last)",
      "Cell \u001b[0;32mIn[37], line 1\u001b[0m\n\u001b[0;32m----> 1\u001b[0m dist\u001b[38;5;241m=\u001b[39m\u001b[43mBinomialDistribution\u001b[49m[Integer(\u001b[38;5;241m25\u001b[39m),RealNumber(\u001b[38;5;124m'\u001b[39m\u001b[38;5;124m0.7\u001b[39m\u001b[38;5;124m'\u001b[39m)];\n\u001b[1;32m      2\u001b[0m N[Integer(\u001b[38;5;241m1\u001b[39m)\u001b[38;5;241m-\u001b[39mCDF[dist,Integer(\u001b[38;5;241m20\u001b[39m)]]\n",
      "\u001b[0;31mNameError\u001b[0m: name 'BinomialDistribution' is not defined"
     ]
    }
   ],
   "source": [
    "dist=BinomialDistribution[25,0.7];\n",
    "N[1-CDF[dist,20]]"
   ]
  },
  {
   "cell_type": "code",
   "execution_count": 38,
   "metadata": {},
   "outputs": [
    {
     "ename": "SyntaxError",
     "evalue": "invalid syntax. Perhaps you forgot a comma? (1528683230.py, line 1)",
     "output_type": "error",
     "traceback": [
      "\u001b[0;36m  Cell \u001b[0;32mIn[38], line 1\u001b[0;36m\u001b[0m\n\u001b[0;31m    lower=N[Quantile[NormalDistribution[],RealNumber('0.6')]]\u001b[0m\n\u001b[0m                     ^\u001b[0m\n\u001b[0;31mSyntaxError\u001b[0m\u001b[0;31m:\u001b[0m invalid syntax. Perhaps you forgot a comma?\n"
     ]
    }
   ],
   "source": [
    "lower=N[Quantile[NormalDistribution[],0.6]]\n",
    "upper=N[Quantile[NormalDistribution[],0.8]]\n",
    "sd=0.2/(upper-lower)\n",
    "5.9-lower*sd"
   ]
  },
  {
   "cell_type": "code",
   "execution_count": 39,
   "metadata": {},
   "outputs": [
    {
     "ename": "NameError",
     "evalue": "name 'NormalDistribution' is not defined",
     "output_type": "error",
     "traceback": [
      "\u001b[0;31m---------------------------------------------------------------------------\u001b[0m",
      "\u001b[0;31mNameError\u001b[0m                                 Traceback (most recent call last)",
      "Cell \u001b[0;32mIn[39], line 1\u001b[0m\n\u001b[0;32m----> 1\u001b[0m dist\u001b[38;5;241m=\u001b[39m\u001b[43mNormalDistribution\u001b[49m[Integer(\u001b[38;5;241m24500\u001b[39m),Integer(\u001b[38;5;241m5200\u001b[39m)];\n\u001b[1;32m      2\u001b[0m ans\u001b[38;5;241m=\u001b[39mInteger(\u001b[38;5;241m1\u001b[39m)\u001b[38;5;241m-\u001b[39mN[CDF[dist, Integer(\u001b[38;5;241m26730\u001b[39m)]]\n",
      "\u001b[0;31mNameError\u001b[0m: name 'NormalDistribution' is not defined"
     ]
    }
   ],
   "source": [
    "dist=NormalDistribution[24500,5200];\n",
    "ans=1-N[CDF[dist, 26730]]"
   ]
  },
  {
   "cell_type": "code",
   "execution_count": 40,
   "metadata": {},
   "outputs": [
    {
     "ename": "SyntaxError",
     "evalue": "invalid decimal literal (81837552.py, line 1)",
     "output_type": "error",
     "traceback": [
      "\u001b[0;36m  Cell \u001b[0;32mIn[40], line 1\u001b[0;36m\u001b[0m\n\u001b[0;31m    Expand[(2a-Integer(1))(2b-Integer(1))+(2a-Integer(1))(2c-Integer(1))+(2b-Integer(1))(2c-Integer(1))]\u001b[0m\n\u001b[0m            ^\u001b[0m\n\u001b[0;31mSyntaxError\u001b[0m\u001b[0;31m:\u001b[0m invalid decimal literal\n"
     ]
    }
   ],
   "source": [
    "Expand[(2a-1)(2b-1)+(2a-1)(2c-1)+(2b-1)(2c-1)]"
   ]
  },
  {
   "cell_type": "code",
   "execution_count": 41,
   "metadata": {},
   "outputs": [
    {
     "ename": "NameError",
     "evalue": "name 'Simplify' is not defined",
     "output_type": "error",
     "traceback": [
      "\u001b[0;31m---------------------------------------------------------------------------\u001b[0m",
      "\u001b[0;31mNameError\u001b[0m                                 Traceback (most recent call last)",
      "Cell \u001b[0;32mIn[41], line 1\u001b[0m\n\u001b[0;32m----> 1\u001b[0m \u001b[43mSimplify\u001b[49m[Divide[f[z],z\u001b[38;5;241m-\u001b[39mInteger(\u001b[38;5;241m3\u001b[39m)]]\n",
      "\u001b[0;31mNameError\u001b[0m: name 'Simplify' is not defined"
     ]
    }
   ],
   "source": [
    "Simplify[Divide[f[z],z-3]]"
   ]
  },
  {
   "cell_type": "code",
   "execution_count": 42,
   "metadata": {},
   "outputs": [
    {
     "ename": "SyntaxError",
     "evalue": "invalid decimal literal (3787876046.py, line 1)",
     "output_type": "error",
     "traceback": [
      "\u001b[0;36m  Cell \u001b[0;32mIn[42], line 1\u001b[0;36m\u001b[0m\n\u001b[0;31m    f[z_]:=z**Integer(3)-z**Integer(2)+11z-Integer(51);\u001b[0m\n\u001b[0m                                        ^\u001b[0m\n\u001b[0;31mSyntaxError\u001b[0m\u001b[0;31m:\u001b[0m invalid decimal literal\n"
     ]
    }
   ],
   "source": [
    "f[z_]:=z^3-z^2+11z-51;\n",
    "Plot[f[z],{z,1,5}]"
   ]
  },
  {
   "cell_type": "markdown",
   "metadata": {},
   "source": [
    "Suppose $ax^2+bx+c=0$ has roots $x=\\alpha$ and $x=\\beta$\n",
    "\n",
    "Then $\\alpha+\\beta=-\\large\\frac{b}{a}$ and $\\alpha\\beta=\\large\\frac{c}{a}$\n",
    "\n",
    "Suppose $ax^3+bx^2+cx+d=0$ has roots $x=\\alpha$, $x=\\beta$ and $x=\\gamma$\n",
    "\n",
    "Then $\\alpha+\\beta+\\gamma=\\large\\frac{-b}{a}$, $\\alpha\\beta+\\alpha\\gamma+\\beta\\gamma=\\large\\frac{c}{a}$, $\\alpha\\beta\\gamma=-\\large\\frac{d}{a}$, $\\alpha^2+\\beta^2+\\gamma^2=(\\alpha+\\beta+\\gamma)^2-2(\\alpha\\beta+\\alpha\\gamma+\\beta\\gamma)$ and $\\large\\frac{1}{\\alpha}+\\large\\frac{1}{\\beta}+\\large\\frac{1}{\\gamma}=\\large \\frac{\\alpha\\beta+\\alpha\\gamma+\\beta\\gamma}{\\alpha\\beta\\gamma}$\n",
    "\n",
    "Suppose $ax^4+bx^3+cx^2+dx+e$ has roots $x=\\alpha$, $x=\\beta$, $x=\\gamma$ and $x=\\delta$\n",
    "\n",
    "Then $\\Sigma\\alpha=-\\large\\frac{b}{a}$, $\\Sigma\\alpha\\beta=\\large\\frac{c}{a}$, $\\Sigma\\alpha\\beta\\gamma=-\\large\\frac{d}{a}$ and $\\alpha\\beta\\gamma\\delta=\\large \\frac{e}{a}$"
   ]
  },
  {
   "cell_type": "code",
   "execution_count": 43,
   "metadata": {},
   "outputs": [
    {
     "ename": "NameError",
     "evalue": "name 'b' is not defined",
     "output_type": "error",
     "traceback": [
      "\u001b[0;31m---------------------------------------------------------------------------\u001b[0m",
      "\u001b[0;31mNameError\u001b[0m                                 Traceback (most recent call last)",
      "Cell \u001b[0;32mIn[43], line 1\u001b[0m\n\u001b[0;32m----> 1\u001b[0m \u001b[43mb\u001b[49m\u001b[38;5;241m+\u001b[39mc\u001b[38;5;241m+\u001b[39md\n",
      "\u001b[0;31mNameError\u001b[0m: name 'b' is not defined"
     ]
    }
   ],
   "source": [
    "b+c+d"
   ]
  },
  {
   "cell_type": "code",
   "execution_count": 44,
   "metadata": {},
   "outputs": [
    {
     "ename": "SyntaxError",
     "evalue": "invalid decimal literal (3838336122.py, line 2)",
     "output_type": "error",
     "traceback": [
      "\u001b[0;36m  Cell \u001b[0;32mIn[44], line 2\u001b[0;36m\u001b[0m\n\u001b[0;31m    b=2a;\u001b[0m\n\u001b[0m      ^\u001b[0m\n\u001b[0;31mSyntaxError\u001b[0m\u001b[0;31m:\u001b[0m invalid decimal literal\n"
     ]
    }
   ],
   "source": [
    "a=3;\n",
    "b=2a;\n",
    "c=a-2;\n",
    "d=1/a;\n",
    "N[b*c+c*d+b*d]"
   ]
  },
  {
   "cell_type": "code",
   "execution_count": 45,
   "metadata": {},
   "outputs": [
    {
     "data": {
      "text/plain": [
       "-50"
      ]
     },
     "execution_count": 45,
     "metadata": {},
     "output_type": "execute_result"
    }
   ],
   "source": [
    "1+12+18-81"
   ]
  },
  {
   "cell_type": "code",
   "execution_count": 46,
   "metadata": {},
   "outputs": [
    {
     "ename": "SyntaxError",
     "evalue": "invalid decimal literal (2528408890.py, line 1)",
     "output_type": "error",
     "traceback": [
      "\u001b[0;36m  Cell \u001b[0;32mIn[46], line 1\u001b[0;36m\u001b[0m\n\u001b[0;31m    Expand[(3a+Integer(1))(3b+Integer(1))(3c+Integer(1))]\u001b[0m\n\u001b[0m            ^\u001b[0m\n\u001b[0;31mSyntaxError\u001b[0m\u001b[0;31m:\u001b[0m invalid decimal literal\n"
     ]
    }
   ],
   "source": [
    "Expand[(3a+1)(3b+1)(3c+1)]"
   ]
  },
  {
   "cell_type": "code",
   "execution_count": 47,
   "metadata": {},
   "outputs": [
    {
     "ename": "SyntaxError",
     "evalue": "invalid decimal literal (4287554400.py, line 1)",
     "output_type": "error",
     "traceback": [
      "\u001b[0;36m  Cell \u001b[0;32mIn[47], line 1\u001b[0;36m\u001b[0m\n\u001b[0;31m    Expand[(3a+Integer(1))(3b+Integer(1))+(3a+Integer(1))(3c+Integer(1))+(3b+Integer(1))(3c+Integer(1))]\u001b[0m\n\u001b[0m            ^\u001b[0m\n\u001b[0;31mSyntaxError\u001b[0m\u001b[0;31m:\u001b[0m invalid decimal literal\n"
     ]
    }
   ],
   "source": [
    "Expand[(3a+1)(3b+1)+(3a+1)(3c+1)+(3b+1)(3c+1)]"
   ]
  },
  {
   "cell_type": "code",
   "execution_count": 48,
   "metadata": {},
   "outputs": [
    {
     "data": {
      "text/plain": [
       "37/4"
      ]
     },
     "execution_count": 48,
     "metadata": {},
     "output_type": "execute_result"
    }
   ],
   "source": [
    "-3/4-6+16"
   ]
  },
  {
   "cell_type": "code",
   "execution_count": 49,
   "metadata": {},
   "outputs": [
    {
     "data": {
      "text/plain": [
       "-7.12500000000000"
      ]
     },
     "execution_count": 49,
     "metadata": {},
     "output_type": "execute_result"
    }
   ],
   "source": [
    "1.5^3-3*3*1.5+3*1"
   ]
  },
  {
   "cell_type": "code",
   "execution_count": 50,
   "metadata": {},
   "outputs": [
    {
     "ename": "NameError",
     "evalue": "name 'Expand' is not defined",
     "output_type": "error",
     "traceback": [
      "\u001b[0;31m---------------------------------------------------------------------------\u001b[0m",
      "\u001b[0;31mNameError\u001b[0m                                 Traceback (most recent call last)",
      "Cell \u001b[0;32mIn[50], line 1\u001b[0m\n\u001b[0;32m----> 1\u001b[0m \u001b[43mExpand\u001b[49m[(a\u001b[38;5;241m+\u001b[39mb\u001b[38;5;241m+\u001b[39mc)\u001b[38;5;241m*\u001b[39m\u001b[38;5;241m*\u001b[39mInteger(\u001b[38;5;241m3\u001b[39m)]\n",
      "\u001b[0;31mNameError\u001b[0m: name 'Expand' is not defined"
     ]
    }
   ],
   "source": [
    "Expand[(a+b+c)^3]"
   ]
  },
  {
   "cell_type": "code",
   "execution_count": 51,
   "metadata": {},
   "outputs": [
    {
     "data": {
      "text/plain": [
       "3/2"
      ]
     },
     "execution_count": 51,
     "metadata": {},
     "output_type": "execute_result"
    }
   ],
   "source": [
    "1-3/2+6/2-2/2"
   ]
  },
  {
   "cell_type": "code",
   "execution_count": 52,
   "metadata": {},
   "outputs": [
    {
     "ename": "SyntaxError",
     "evalue": "cannot assign to expression here. Maybe you meant '==' instead of '='? (3676790452.py, line 1)",
     "output_type": "error",
     "traceback": [
      "\u001b[0;36m  Cell \u001b[0;32mIn[52], line 1\u001b[0;36m\u001b[0m\n\u001b[0;31m    Integer(1)-(a+b+c)+(ab+ac+bc)-abc=Integer(1)+RealNumber('1.5')+Integer(3)+Integer(1)\u001b[0m\n\u001b[0m    ^\u001b[0m\n\u001b[0;31mSyntaxError\u001b[0m\u001b[0;31m:\u001b[0m cannot assign to expression here. Maybe you meant '==' instead of '='?\n"
     ]
    }
   ],
   "source": [
    "1-(a+b+c)+(ab+ac+bc)-abc=1+1.5+3+1"
   ]
  },
  {
   "cell_type": "code",
   "execution_count": 53,
   "metadata": {},
   "outputs": [
    {
     "ename": "NameError",
     "evalue": "name 'Expand' is not defined",
     "output_type": "error",
     "traceback": [
      "\u001b[0;31m---------------------------------------------------------------------------\u001b[0m",
      "\u001b[0;31mNameError\u001b[0m                                 Traceback (most recent call last)",
      "Cell \u001b[0;32mIn[53], line 1\u001b[0m\n\u001b[0;32m----> 1\u001b[0m \u001b[43mExpand\u001b[49m[(Integer(\u001b[38;5;241m1\u001b[39m)\u001b[38;5;241m-\u001b[39ma)(Integer(\u001b[38;5;241m1\u001b[39m)\u001b[38;5;241m-\u001b[39mb)(Integer(\u001b[38;5;241m1\u001b[39m)\u001b[38;5;241m-\u001b[39mc)]\n",
      "\u001b[0;31mNameError\u001b[0m: name 'Expand' is not defined"
     ]
    }
   ],
   "source": [
    "Expand[(1-a)(1-b)(1-c)]"
   ]
  },
  {
   "cell_type": "markdown",
   "metadata": {},
   "source": [
    "### Modules 2 and 5 - Matrices 1 and 2"
   ]
  },
  {
   "cell_type": "markdown",
   "metadata": {},
   "source": [
    "Matrices for transformations:\n",
    "\n",
    "Reflection in the x axis:\n",
    "\n",
    "$$\\begin{pmatrix}1&&0\\\\0&&-1\\end{pmatrix}$$\n",
    "\n",
    "Reflection in the y axis:\n",
    "\n",
    "$$\\begin{pmatrix}1&&0\\\\0&&1\\end{pmatrix}$$\n",
    "\n",
    "Reflection in the line y=x axis:\n",
    "\n",
    "$$\\begin{pmatrix} 0 && 1 \\\\ 1 && 0 \\end{pmatrix}$$\n",
    "\n",
    "Anticlockwise rotation of theta about the origin:\n",
    "\n",
    "$$\\begin{pmatrix}\\cos{\\theta}&&-\\sin{\\theta}\\\\ \\sin{\\theta}&&\\cos{\\theta}\\end{pmatrix}"
   ]
  },
  {
   "cell_type": "code",
   "execution_count": 54,
   "metadata": {},
   "outputs": [
    {
     "ename": "SyntaxError",
     "evalue": "invalid decimal literal (343797551.py, line 3)",
     "output_type": "error",
     "traceback": [
      "\u001b[0;36m  Cell \u001b[0;32mIn[54], line 3\u001b[0;36m\u001b[0m\n\u001b[0;31m    mat2={{k+Integer(1), Integer(8), -Integer(4)}, {-Integer(3), k-Integer(4), Integer(7)}, {Integer(3), -Integer(11), 2k+Integer(3)}};\u001b[0m\n\u001b[0m                                                                                                                       ^\u001b[0m\n\u001b[0;31mSyntaxError\u001b[0m\u001b[0;31m:\u001b[0m invalid decimal literal\n"
     ]
    }
   ],
   "source": [
    "k=5;\n",
    "mat1={{3,1,2},{1, -2, 1}, {-1, 4, 1}};\n",
    "mat2={{k+1, 8, -4}, {-3, k-4, 7}, {3, -11, 2k+3}};\n",
    "mat3={{3, -2, 2}, {2, 3, -1}, {1, 3, 1}};\n",
    "mat4={{2, 3, -4}, {1, -1, -2}, {5, 2, 3}};\n",
    "mat5={{2, 3, -1}, {1, -2, -3}, {1, 5, 2}};\n",
    "mat6=Inverse[mat4];\n",
    "mat7={{11},{8},{7}};\n",
    "mat8=mat6.mat7;\n",
    "Det[mat1]\n",
    "Det[mat3]\n",
    "MatrixForm[mat2]\n",
    "MatrixForm[mat6]\n",
    "Det[mat5]\n",
    "MatrixForm[mat8]"
   ]
  },
  {
   "cell_type": "code",
   "execution_count": 55,
   "metadata": {},
   "outputs": [
    {
     "data": {
      "text/plain": [
       "-86"
      ]
     },
     "execution_count": 55,
     "metadata": {},
     "output_type": "execute_result"
    }
   ],
   "source": [
    "4*27-7*33\n",
    "3*27+5*33\n",
    "6*3-7*1+5*1\n",
    "6*1+7*2-5*4\n",
    "6*2-7*1-5*1\n",
    "2*3-5*1-1\n",
    "6*16-7*13+5*15\n",
    "2*16-5*13-15\n",
    "13^2-15*7-16*2\n",
    "6*3-2*8-4*22"
   ]
  },
  {
   "cell_type": "code",
   "execution_count": 56,
   "metadata": {},
   "outputs": [
    {
     "ename": "SyntaxError",
     "evalue": "invalid decimal literal (4164959938.py, line 1)",
     "output_type": "error",
     "traceback": [
      "\u001b[0;36m  Cell \u001b[0;32mIn[56], line 1\u001b[0;36m\u001b[0m\n\u001b[0;31m    f[x_]:=x**Integer(3)-2x**Integer(2)-5x+Integer(6);\u001b[0m\n\u001b[0m                         ^\u001b[0m\n\u001b[0;31mSyntaxError\u001b[0m\u001b[0;31m:\u001b[0m invalid decimal literal\n"
     ]
    }
   ],
   "source": [
    "f[x_]:=x^3-2x^2-5x+6;\n",
    "g[x_]:=x-1\n",
    "Simplify[f[x]/g[x]]"
   ]
  },
  {
   "cell_type": "code",
   "execution_count": 57,
   "metadata": {},
   "outputs": [
    {
     "ename": "TypeError",
     "evalue": "unhashable type: 'set'",
     "output_type": "error",
     "traceback": [
      "\u001b[0;31m---------------------------------------------------------------------------\u001b[0m",
      "\u001b[0;31mTypeError\u001b[0m                                 Traceback (most recent call last)",
      "Cell \u001b[0;32mIn[57], line 1\u001b[0m\n\u001b[0;32m----> 1\u001b[0m p\u001b[38;5;241m=\u001b[39m{{Integer(\u001b[38;5;241m1\u001b[39m),\u001b[38;5;241m-\u001b[39mInteger(\u001b[38;5;241m2\u001b[39m)},{Integer(\u001b[38;5;241m3\u001b[39m),\u001b[38;5;241m-\u001b[39mInteger(\u001b[38;5;241m2\u001b[39m)}};\n\u001b[1;32m      2\u001b[0m q\u001b[38;5;241m=\u001b[39m{{\u001b[38;5;241m-\u001b[39mInteger(\u001b[38;5;241m2\u001b[39m),Integer(\u001b[38;5;241m1\u001b[39m)},{Integer(\u001b[38;5;241m1\u001b[39m), \u001b[38;5;241m-\u001b[39mInteger(\u001b[38;5;241m2\u001b[39m)}};\n\u001b[1;32m      3\u001b[0m r\u001b[38;5;241m=\u001b[39m{{\u001b[38;5;241m-\u001b[39mInteger(\u001b[38;5;241m1\u001b[39m), \u001b[38;5;241m-\u001b[39mInteger(\u001b[38;5;241m2\u001b[39m)}, {\u001b[38;5;241m-\u001b[39mInteger(\u001b[38;5;241m3\u001b[39m), Integer(\u001b[38;5;241m4\u001b[39m)}};\n",
      "\u001b[0;31mTypeError\u001b[0m: unhashable type: 'set'"
     ]
    }
   ],
   "source": [
    "p={{1,-2},{3,-2}};\n",
    "q={{-2,1},{1, -2}};\n",
    "r={{-1, -2}, {-3, 4}};\n",
    "MatrixForm[p.q]\n",
    "MatrixForm[r.q]\n",
    "MatrixForm[p.r]"
   ]
  },
  {
   "cell_type": "code",
   "execution_count": 58,
   "metadata": {},
   "outputs": [
    {
     "ename": "NameError",
     "evalue": "name 'Det' is not defined",
     "output_type": "error",
     "traceback": [
      "\u001b[0;31m---------------------------------------------------------------------------\u001b[0m",
      "\u001b[0;31mNameError\u001b[0m                                 Traceback (most recent call last)",
      "Cell \u001b[0;32mIn[58], line 1\u001b[0m\n\u001b[0;32m----> 1\u001b[0m \u001b[43mDet\u001b[49m[mat1]\n",
      "\u001b[0;31mNameError\u001b[0m: name 'Det' is not defined"
     ]
    }
   ],
   "source": [
    "Det[mat1]"
   ]
  },
  {
   "cell_type": "code",
   "execution_count": 59,
   "metadata": {},
   "outputs": [
    {
     "ename": "TypeError",
     "evalue": "unhashable type: 'set'",
     "output_type": "error",
     "traceback": [
      "\u001b[0;31m---------------------------------------------------------------------------\u001b[0m",
      "\u001b[0;31mTypeError\u001b[0m                                 Traceback (most recent call last)",
      "Cell \u001b[0;32mIn[59], line 1\u001b[0m\n\u001b[0;32m----> 1\u001b[0m mat1\u001b[38;5;241m=\u001b[39m{{Integer(\u001b[38;5;241m3\u001b[39m),\u001b[38;5;241m-\u001b[39mInteger(\u001b[38;5;241m8\u001b[39m)}, {\u001b[38;5;241m-\u001b[39mInteger(\u001b[38;5;241m5\u001b[39m), Integer(\u001b[38;5;241m7\u001b[39m)}};\n\u001b[1;32m      2\u001b[0m MatrixForm[mat1\u001b[38;5;241m.\u001b[39munitsquare]\n",
      "\u001b[0;31mTypeError\u001b[0m: unhashable type: 'set'"
     ]
    }
   ],
   "source": [
    "mat1={{3,-8}, {-5, 7}};\n",
    "MatrixForm[mat1.unitsquare]"
   ]
  },
  {
   "cell_type": "code",
   "execution_count": 60,
   "metadata": {},
   "outputs": [
    {
     "ename": "TypeError",
     "evalue": "unhashable type: 'set'",
     "output_type": "error",
     "traceback": [
      "\u001b[0;31m---------------------------------------------------------------------------\u001b[0m",
      "\u001b[0;31mTypeError\u001b[0m                                 Traceback (most recent call last)",
      "Cell \u001b[0;32mIn[60], line 1\u001b[0m\n\u001b[0;32m----> 1\u001b[0m mat1\u001b[38;5;241m=\u001b[39m{{\u001b[38;5;241m-\u001b[39mInteger(\u001b[38;5;241m7\u001b[39m),\u001b[38;5;241m-\u001b[39mInteger(\u001b[38;5;241m2\u001b[39m)}, {Integer(\u001b[38;5;241m4\u001b[39m), \u001b[38;5;241m-\u001b[39mInteger(\u001b[38;5;241m2\u001b[39m)}};\n\u001b[1;32m      2\u001b[0m MatrixForm[mat1\u001b[38;5;241m.\u001b[39munitsquare]\n",
      "\u001b[0;31mTypeError\u001b[0m: unhashable type: 'set'"
     ]
    }
   ],
   "source": [
    "mat1={{-7,-2}, {4, -2}};\n",
    "MatrixForm[mat1.unitsquare]"
   ]
  },
  {
   "cell_type": "code",
   "execution_count": 61,
   "metadata": {},
   "outputs": [
    {
     "ename": "TypeError",
     "evalue": "unhashable type: 'set'",
     "output_type": "error",
     "traceback": [
      "\u001b[0;31m---------------------------------------------------------------------------\u001b[0m",
      "\u001b[0;31mTypeError\u001b[0m                                 Traceback (most recent call last)",
      "Cell \u001b[0;32mIn[61], line 1\u001b[0m\n\u001b[0;32m----> 1\u001b[0m mat1\u001b[38;5;241m=\u001b[39m{{Integer(\u001b[38;5;241m5\u001b[39m),\u001b[38;5;241m-\u001b[39mInteger(\u001b[38;5;241m1\u001b[39m)},{\u001b[38;5;241m-\u001b[39mInteger(\u001b[38;5;241m3\u001b[39m),Integer(\u001b[38;5;241m1\u001b[39m)}};\n\u001b[1;32m      2\u001b[0m MatrixForm[mat1\u001b[38;5;241m.\u001b[39munitsquare]\n",
      "\u001b[0;31mTypeError\u001b[0m: unhashable type: 'set'"
     ]
    }
   ],
   "source": [
    "mat1={{5,-1},{-3,1}};\n",
    "MatrixForm[mat1.unitsquare]"
   ]
  },
  {
   "cell_type": "code",
   "execution_count": 62,
   "metadata": {},
   "outputs": [
    {
     "ename": "TypeError",
     "evalue": "unhashable type: 'set'",
     "output_type": "error",
     "traceback": [
      "\u001b[0;31m---------------------------------------------------------------------------\u001b[0m",
      "\u001b[0;31mTypeError\u001b[0m                                 Traceback (most recent call last)",
      "Cell \u001b[0;32mIn[62], line 1\u001b[0m\n\u001b[0;32m----> 1\u001b[0m unitsquare\u001b[38;5;241m=\u001b[39m{{Integer(\u001b[38;5;241m0\u001b[39m),Integer(\u001b[38;5;241m0\u001b[39m),Integer(\u001b[38;5;241m1\u001b[39m),Integer(\u001b[38;5;241m1\u001b[39m)},{Integer(\u001b[38;5;241m0\u001b[39m),Integer(\u001b[38;5;241m1\u001b[39m),Integer(\u001b[38;5;241m1\u001b[39m),Integer(\u001b[38;5;241m0\u001b[39m)}};\n\u001b[1;32m      2\u001b[0m mat1\u001b[38;5;241m=\u001b[39m{{Integer(\u001b[38;5;241m2\u001b[39m),Integer(\u001b[38;5;241m2\u001b[39m)},{\u001b[38;5;241m-\u001b[39mInteger(\u001b[38;5;241m1\u001b[39m),Integer(\u001b[38;5;241m4\u001b[39m)}};\n\u001b[1;32m      3\u001b[0m MatrixForm[mat1\u001b[38;5;241m.\u001b[39munitsquare]\n",
      "\u001b[0;31mTypeError\u001b[0m: unhashable type: 'set'"
     ]
    }
   ],
   "source": [
    "unitsquare={{0,0,1,1},{0,1,1,0}};\n",
    "mat1={{2,2},{-1,4}};\n",
    "MatrixForm[mat1.unitsquare]"
   ]
  },
  {
   "cell_type": "code",
   "execution_count": 63,
   "metadata": {},
   "outputs": [
    {
     "ename": "TypeError",
     "evalue": "unhashable type: 'set'",
     "output_type": "error",
     "traceback": [
      "\u001b[0;31m---------------------------------------------------------------------------\u001b[0m",
      "\u001b[0;31mTypeError\u001b[0m                                 Traceback (most recent call last)",
      "Cell \u001b[0;32mIn[63], line 1\u001b[0m\n\u001b[0;32m----> 1\u001b[0m mat1\u001b[38;5;241m=\u001b[39m{{Integer(\u001b[38;5;241m4\u001b[39m),Integer(\u001b[38;5;241m2\u001b[39m)},{Integer(\u001b[38;5;241m3\u001b[39m),Integer(\u001b[38;5;241m6\u001b[39m)}}\n\u001b[1;32m      2\u001b[0m Det[mat1]\n",
      "\u001b[0;31mTypeError\u001b[0m: unhashable type: 'set'"
     ]
    }
   ],
   "source": [
    "mat1={{4,2},{3,6}}\n",
    "Det[mat1]"
   ]
  },
  {
   "cell_type": "markdown",
   "metadata": {},
   "source": [
    "Identity matrices have 1's on the lead diagonal that stretches from the top-left corner to the bottom-right corner.\n",
    "\n",
    "For example, below is 3 by 3 identity matrix:\n",
    "\n",
    "$$\\mathbf{I} = \\begin{pmatrix} 1 && 0&&0 \\\\ 0 && 1&&0\\\\0&&0&&1 \\end{pmatrix}$$"
   ]
  },
  {
   "cell_type": "code",
   "execution_count": 64,
   "metadata": {},
   "outputs": [
    {
     "ename": "SyntaxError",
     "evalue": "invalid decimal literal (4162436016.py, line 3)",
     "output_type": "error",
     "traceback": [
      "\u001b[0;36m  Cell \u001b[0;32mIn[64], line 3\u001b[0;36m\u001b[0m\n\u001b[0;31m    mat2={{x},{2x+Integer(1)}};\u001b[0m\n\u001b[0m               ^\u001b[0m\n\u001b[0;31mSyntaxError\u001b[0m\u001b[0;31m:\u001b[0m invalid decimal literal\n"
     ]
    }
   ],
   "source": [
    "(* Ex 05 q 7 *)\n",
    "mat1={{-3,2},{-8,5}};\n",
    "mat2={{x},{2x+1}};\n",
    "MatrixForm[mat1.mat2]"
   ]
  },
  {
   "cell_type": "code",
   "execution_count": 65,
   "metadata": {},
   "outputs": [
    {
     "ename": "TypeError",
     "evalue": "unhashable type: 'set'",
     "output_type": "error",
     "traceback": [
      "\u001b[0;31m---------------------------------------------------------------------------\u001b[0m",
      "\u001b[0;31mTypeError\u001b[0m                                 Traceback (most recent call last)",
      "Cell \u001b[0;32mIn[65], line 1\u001b[0m\n\u001b[0;32m----> 1\u001b[0m mat1\u001b[38;5;241m=\u001b[39m{{Integer(\u001b[38;5;241m3\u001b[39m),Integer(\u001b[38;5;241m7\u001b[39m)},{Integer(\u001b[38;5;241m2\u001b[39m),Integer(\u001b[38;5;241m4\u001b[39m)}};\n\u001b[1;32m      2\u001b[0m mat2\u001b[38;5;241m=\u001b[39m{{Integer(\u001b[38;5;241m2\u001b[39m),Integer(\u001b[38;5;241m3\u001b[39m)},{\u001b[38;5;241m-\u001b[39mInteger(\u001b[38;5;241m1\u001b[39m),Integer(\u001b[38;5;241m2\u001b[39m)}};\n\u001b[1;32m      3\u001b[0m mat5\u001b[38;5;241m=\u001b[39m{{Integer(\u001b[38;5;241m3\u001b[39m),Integer(\u001b[38;5;241m6\u001b[39m),Integer(\u001b[38;5;241m1\u001b[39m)},{\u001b[38;5;241m-\u001b[39mInteger(\u001b[38;5;241m4\u001b[39m),\u001b[38;5;241m-\u001b[39mInteger(\u001b[38;5;241m2\u001b[39m),Integer(\u001b[38;5;241m5\u001b[39m)}};\n",
      "\u001b[0;31mTypeError\u001b[0m: unhashable type: 'set'"
     ]
    }
   ],
   "source": [
    "mat1={{3,7},{2,4}};\n",
    "mat2={{2,3},{-1,2}};\n",
    "mat5={{3,6,1},{-4,-2,5}};\n",
    "mat7=IdentityMatrix[3];\n",
    "mat6=mat1.mat5;\n",
    "mat3=mat1*mat2;\n",
    "mat4=mat1.mat2;\n",
    "MatrixForm[mat3]\n",
    "MatrixForm[Transpose[mat1]]\n",
    "MatrixForm[mat6]\n",
    "MatrixForm[mat7]"
   ]
  },
  {
   "cell_type": "code",
   "execution_count": 66,
   "metadata": {},
   "outputs": [
    {
     "ename": "TypeError",
     "evalue": "unhashable type: 'set'",
     "output_type": "error",
     "traceback": [
      "\u001b[0;31m---------------------------------------------------------------------------\u001b[0m",
      "\u001b[0;31mTypeError\u001b[0m                                 Traceback (most recent call last)",
      "Cell \u001b[0;32mIn[66], line 1\u001b[0m\n\u001b[0;32m----> 1\u001b[0m mat1\u001b[38;5;241m=\u001b[39m{{Integer(\u001b[38;5;241m1\u001b[39m),Integer(\u001b[38;5;241m0\u001b[39m)},{Integer(\u001b[38;5;241m0\u001b[39m),Integer(\u001b[38;5;241m1\u001b[39m)}};\n\u001b[1;32m      2\u001b[0m mat2\u001b[38;5;241m=\u001b[39m{{\u001b[38;5;241m-\u001b[39mInteger(\u001b[38;5;241m1\u001b[39m),Integer(\u001b[38;5;241m0\u001b[39m)},{\u001b[38;5;241m-\u001b[39mInteger(\u001b[38;5;241m1\u001b[39m),Integer(\u001b[38;5;241m0\u001b[39m)}};\n\u001b[1;32m      3\u001b[0m MatrixForm[mat1\u001b[38;5;241m.\u001b[39mmat2]\n",
      "\u001b[0;31mTypeError\u001b[0m: unhashable type: 'set'"
     ]
    }
   ],
   "source": [
    "mat1={{1,0},{0,1}};\n",
    "mat2={{-1,0},{-1,0}};\n",
    "MatrixForm[mat1.mat2]"
   ]
  },
  {
   "cell_type": "markdown",
   "metadata": {},
   "source": [
    "### Module 1 and 4 - Complex Numbers 1 (Introduction) Complex Numbers 2 (Complex Plane)"
   ]
  },
  {
   "cell_type": "code",
   "execution_count": 67,
   "metadata": {},
   "outputs": [
    {
     "ename": "NameError",
     "evalue": "name 'ArcTan' is not defined",
     "output_type": "error",
     "traceback": [
      "\u001b[0;31m---------------------------------------------------------------------------\u001b[0m",
      "\u001b[0;31mNameError\u001b[0m                                 Traceback (most recent call last)",
      "Cell \u001b[0;32mIn[67], line 1\u001b[0m\n\u001b[0;32m----> 1\u001b[0m \u001b[43mArcTan\u001b[49m[RealNumber(\u001b[38;5;124m'\u001b[39m\u001b[38;5;124m0.5\u001b[39m\u001b[38;5;124m'\u001b[39m)]\n\u001b[1;32m      2\u001b[0m N[ArcTan[Integer(\u001b[38;5;241m2\u001b[39m)]]\n",
      "\u001b[0;31mNameError\u001b[0m: name 'ArcTan' is not defined"
     ]
    }
   ],
   "source": [
    "ArcTan[0.5]\n",
    "N[ArcTan[2]]"
   ]
  },
  {
   "cell_type": "code",
   "execution_count": 68,
   "metadata": {},
   "outputs": [
    {
     "ename": "SyntaxError",
     "evalue": "invalid decimal literal (3366597066.py, line 1)",
     "output_type": "error",
     "traceback": [
      "\u001b[0;36m  Cell \u001b[0;32mIn[68], line 1\u001b[0;36m\u001b[0m\n\u001b[0;31m    N[3E**(3I)]\u001b[0m\n\u001b[0m      ^\u001b[0m\n\u001b[0;31mSyntaxError\u001b[0m\u001b[0;31m:\u001b[0m invalid decimal literal\n"
     ]
    }
   ],
   "source": [
    "N[3E^(3I)]"
   ]
  },
  {
   "cell_type": "code",
   "execution_count": 69,
   "metadata": {},
   "outputs": [
    {
     "ename": "NameError",
     "evalue": "name 'Expand' is not defined",
     "output_type": "error",
     "traceback": [
      "\u001b[0;31m---------------------------------------------------------------------------\u001b[0m",
      "\u001b[0;31mNameError\u001b[0m                                 Traceback (most recent call last)",
      "Cell \u001b[0;32mIn[69], line 1\u001b[0m\n\u001b[0;32m----> 1\u001b[0m \u001b[43mExpand\u001b[49m[(a\u001b[38;5;241m+\u001b[39mb\u001b[38;5;241m*\u001b[39mI)\u001b[38;5;241m*\u001b[39m\u001b[38;5;241m*\u001b[39mInteger(\u001b[38;5;241m3\u001b[39m)]\n",
      "\u001b[0;31mNameError\u001b[0m: name 'Expand' is not defined"
     ]
    }
   ],
   "source": [
    "Expand[(a+b*I)^3]"
   ]
  },
  {
   "cell_type": "code",
   "execution_count": 70,
   "metadata": {},
   "outputs": [
    {
     "ename": "SyntaxError",
     "evalue": "invalid decimal literal (4004917171.py, line 1)",
     "output_type": "error",
     "traceback": [
      "\u001b[0;36m  Cell \u001b[0;32mIn[70], line 1\u001b[0;36m\u001b[0m\n\u001b[0;31m    N[2E**I]\u001b[0m\n\u001b[0m      ^\u001b[0m\n\u001b[0;31mSyntaxError\u001b[0m\u001b[0;31m:\u001b[0m invalid decimal literal\n"
     ]
    }
   ],
   "source": [
    "N[2E^I]"
   ]
  },
  {
   "cell_type": "code",
   "execution_count": 71,
   "metadata": {},
   "outputs": [
    {
     "data": {
      "text/plain": [
       "-4.54073390000000"
      ]
     },
     "execution_count": 71,
     "metadata": {},
     "output_type": "execute_result"
    }
   ],
   "source": [
    "0.1415*-2.4034-1.7954*1.995\n",
    "0.1415*1.7954+1.9950*-2.4034"
   ]
  },
  {
   "cell_type": "code",
   "execution_count": 72,
   "metadata": {},
   "outputs": [
    {
     "ename": "SyntaxError",
     "evalue": "invalid decimal literal (1655597910.py, line 7)",
     "output_type": "error",
     "traceback": [
      "\u001b[0;36m  Cell \u001b[0;32mIn[72], line 7\u001b[0;36m\u001b[0m\n\u001b[0;31m    2Cos[RealNumber('1.5')]\u001b[0m\n\u001b[0m    ^\u001b[0m\n\u001b[0;31mSyntaxError\u001b[0m\u001b[0;31m:\u001b[0m invalid decimal literal\n"
     ]
    }
   ],
   "source": [
    "N[Cos[-1]]\n",
    "N[Sin[-1]]\n",
    "N[Cos[-2]]\n",
    "N[Sin[-2]]\n",
    "N[Cos[2]]\n",
    "N[Sin[2]]\n",
    "2Cos[1.5]\n",
    "2Sin[1.5]\n",
    "3Cos[2.5]\n",
    "3Sin[2.5]"
   ]
  },
  {
   "cell_type": "code",
   "execution_count": 73,
   "metadata": {},
   "outputs": [
    {
     "ename": "TypeError",
     "evalue": "'sage.rings.real_mpfr.RealNumber' object is not callable",
     "output_type": "error",
     "traceback": [
      "\u001b[0;31m---------------------------------------------------------------------------\u001b[0m",
      "\u001b[0;31mTypeError\u001b[0m                                 Traceback (most recent call last)",
      "Cell \u001b[0;32mIn[73], line 1\u001b[0m\n\u001b[0;32m----> 1\u001b[0m \u001b[43m(\u001b[49m\u001b[43mRealNumber\u001b[49m\u001b[43m(\u001b[49m\u001b[38;5;124;43m'\u001b[39;49m\u001b[38;5;124;43m1.081\u001b[39;49m\u001b[38;5;124;43m'\u001b[39;49m\u001b[43m)\u001b[49m\u001b[38;5;241;43m*\u001b[39;49m\u001b[38;5;241;43m*\u001b[39;49m\u001b[43mInteger\u001b[49m\u001b[43m(\u001b[49m\u001b[38;5;241;43m2\u001b[39;49m\u001b[43m)\u001b[49m\u001b[38;5;241;43m+\u001b[39;49m\u001b[43mRealNumber\u001b[49m\u001b[43m(\u001b[49m\u001b[38;5;124;43m'\u001b[39;49m\u001b[38;5;124;43m1.683\u001b[39;49m\u001b[38;5;124;43m'\u001b[39;49m\u001b[43m)\u001b[49m\u001b[38;5;241;43m*\u001b[39;49m\u001b[38;5;241;43m*\u001b[39;49m\u001b[43mInteger\u001b[49m\u001b[43m(\u001b[49m\u001b[38;5;241;43m2\u001b[39;49m\u001b[43m)\u001b[49m\u001b[43m)\u001b[49m\u001b[43m(\u001b[49m\u001b[38;5;241;43m-\u001b[39;49m\u001b[43mRealNumber\u001b[49m\u001b[43m(\u001b[49m\u001b[38;5;124;43m'\u001b[39;49m\u001b[38;5;124;43m0.909\u001b[39;49m\u001b[38;5;124;43m'\u001b[39;49m\u001b[43m)\u001b[49m\u001b[38;5;241;43m*\u001b[39;49m\u001b[38;5;241;43m*\u001b[39;49m\u001b[43mInteger\u001b[49m\u001b[43m(\u001b[49m\u001b[38;5;241;43m2\u001b[39;49m\u001b[43m)\u001b[49m\u001b[38;5;241;43m-\u001b[39;49m\u001b[43mRealNumber\u001b[49m\u001b[43m(\u001b[49m\u001b[38;5;124;43m'\u001b[39;49m\u001b[38;5;124;43m0.416\u001b[39;49m\u001b[38;5;124;43m'\u001b[39;49m\u001b[43m)\u001b[49m\u001b[38;5;241;43m*\u001b[39;49m\u001b[38;5;241;43m*\u001b[39;49m\u001b[43mInteger\u001b[49m\u001b[43m(\u001b[49m\u001b[38;5;241;43m2\u001b[39;49m\u001b[43m)\u001b[49m\u001b[43m)\u001b[49m\n",
      "\u001b[0;31mTypeError\u001b[0m: 'sage.rings.real_mpfr.RealNumber' object is not callable"
     ]
    }
   ],
   "source": [
    "(1.081^2+1.683^2)(-0.909^2-0.416^2)"
   ]
  },
  {
   "cell_type": "code",
   "execution_count": 74,
   "metadata": {},
   "outputs": [
    {
     "ename": "SyntaxError",
     "evalue": "invalid decimal literal (4278169827.py, line 1)",
     "output_type": "error",
     "traceback": [
      "\u001b[0;36m  Cell \u001b[0;32mIn[74], line 1\u001b[0;36m\u001b[0m\n\u001b[0;31m    (Integer(3)+4I)(Integer(3)-4I)\u001b[0m\n\u001b[0m                ^\u001b[0m\n\u001b[0;31mSyntaxError\u001b[0m\u001b[0;31m:\u001b[0m invalid decimal literal\n"
     ]
    }
   ],
   "source": [
    "(3+4I)(3-4I)"
   ]
  },
  {
   "cell_type": "code",
   "execution_count": 75,
   "metadata": {},
   "outputs": [
    {
     "ename": "SyntaxError",
     "evalue": "invalid decimal literal (3539626922.py, line 1)",
     "output_type": "error",
     "traceback": [
      "\u001b[0;36m  Cell \u001b[0;32mIn[75], line 1\u001b[0;36m\u001b[0m\n\u001b[0;31m    f[z_]:=(2z-2I)/(Integer(1)+I)-Integer(3)+I\u001b[0m\n\u001b[0m            ^\u001b[0m\n\u001b[0;31mSyntaxError\u001b[0m\u001b[0;31m:\u001b[0m invalid decimal literal\n"
     ]
    }
   ],
   "source": [
    "f[z_]:=(2z-2I)/(1+I)-3+I\n",
    "NSolve[f[z],z]"
   ]
  },
  {
   "cell_type": "code",
   "execution_count": 76,
   "metadata": {},
   "outputs": [
    {
     "ename": "NameError",
     "evalue": "name 'Pi' is not defined",
     "output_type": "error",
     "traceback": [
      "\u001b[0;31m---------------------------------------------------------------------------\u001b[0m",
      "\u001b[0;31mNameError\u001b[0m                                 Traceback (most recent call last)",
      "Cell \u001b[0;32mIn[76], line 1\u001b[0m\n\u001b[0;32m----> 1\u001b[0m \u001b[43mPi\u001b[49m\u001b[38;5;241m-\u001b[39mArcTan[RealNumber(\u001b[38;5;124m'\u001b[39m\u001b[38;5;124m1.5\u001b[39m\u001b[38;5;124m'\u001b[39m)]\n",
      "\u001b[0;31mNameError\u001b[0m: name 'Pi' is not defined"
     ]
    }
   ],
   "source": [
    "Pi-ArcTan[1.5]"
   ]
  }
 ],
 "metadata": {
  "kernelspec": {
   "display_name": "base",
   "language": "python",
   "name": "python3"
  },
  "language_info": {
   "codemirror_mode": {
    "name": "ipython",
    "version": 3
   },
   "file_extension": ".py",
   "mimetype": "text/x-python",
   "name": "python",
   "nbconvert_exporter": "python",
   "pygments_lexer": "ipython3",
   "version": "3.10.15"
  }
 },
 "nbformat": 4,
 "nbformat_minor": 4
}
