{
 "cells": [
  {
   "cell_type": "markdown",
   "metadata": {},
   "source": [
    "# A-level-further\n",
    "1) Notes go downwards in cells and cells go upwards in sections. 2) Cells with formulas are at top of each section. 3) Used Languages : MMA, Sage, Python(for number calculations)\n"
   ]
  },
  {
   "cell_type": "markdown",
   "metadata": {
    "jp-MarkdownHeadingCollapsed": true
   },
   "source": [
    "## test coding"
   ]
  },
  {
   "cell_type": "code",
   "execution_count": null,
   "metadata": {
    "vscode": {
     "languageId": "wolfram"
    }
   },
   "outputs": [],
   "source": [
    "(*Functions in MMA*)\n",
    "g=9.8;\n",
    "invsin[x_]:=InverseFunction[Sin][x]\n",
    "N[InverseFunction[Sin][1]]\n",
    "InverseFunction[Sin][1]//N  (*Wolfram 后线// *)"
   ]
  },
  {
   "cell_type": "code",
   "execution_count": null,
   "metadata": {
    "vscode": {
     "languageId": "wolfram"
    }
   },
   "outputs": [],
   "source": [
    "(*Vectors in MMA*)\n",
    "xv=Subscript[x,#] & /@ Range[5]\n",
    "yv=Subscript[y,#] & /@ Range[5]\n",
    "xv+yv\n",
    "xv yv\n",
    "xv*yv\n",
    "xv.yv\n",
    "Norm[xv]"
   ]
  },
  {
   "cell_type": "code",
   "execution_count": null,
   "metadata": {},
   "outputs": [],
   "source": [
    "# Physics: Gravitation and Satellites \n",
    "G = 6.77 * 10^(-11)\n",
    "Me = 5.972 * 10^(24)\n",
    "radius_earth = 6378100  \n",
    "force( Mass_sate, rs ) = (G * Me * Mass_sate)/(rs^2)\n",
    "force1(Mass_sate, alt) = force( Mass_sate, rs = alt + radius_earth ) #Partial application, 相关但不是currying\n",
    "force1(1, 0)"
   ]
  },
  {
   "cell_type": "markdown",
   "metadata": {},
   "source": [
    "## ★Further Y13-1"
   ]
  },
  {
   "cell_type": "markdown",
   "metadata": {
    "jp-MarkdownHeadingCollapsed": true
   },
   "source": [
    "### Assessment 3 - Module 7 and 8"
   ]
  },
  {
   "cell_type": "code",
   "execution_count": null,
   "metadata": {},
   "outputs": [],
   "source": [
    "a=vector([9, 7, 7])\n",
    "b=vector([4, 7, 2])\n",
    "show(a.cross_product(b))"
   ]
  },
  {
   "cell_type": "code",
   "execution_count": null,
   "metadata": {},
   "outputs": [],
   "source": [
    "a=vector([3, 3, 4])\n",
    "b=vector([-3, 3, 4])\n",
    "c=vector([0, 6, 8])\n",
    "show(a.cross_product(c))"
   ]
  },
  {
   "cell_type": "code",
   "execution_count": null,
   "metadata": {},
   "outputs": [],
   "source": [
    "a=vector([3, -1, 0])\n",
    "b=vector([7, 36, -23])\n",
    "show(a.cross_product(b))"
   ]
  },
  {
   "cell_type": "code",
   "execution_count": null,
   "metadata": {},
   "outputs": [],
   "source": [
    "a=vector([13, -27, -21])\n",
    "b=vector([1, 1, -3])\n",
    "show(a.cross_product(b))\n",
    "show(n(arcsin(sqrt(102^2+18^2+40^2)/(sqrt(13^2+27^2+21^2)*sqrt(1^2+1^2+3^2)))/pi*180))"
   ]
  },
  {
   "cell_type": "code",
   "execution_count": null,
   "metadata": {},
   "outputs": [],
   "source": [
    "a=vector([6, -2, -7])\n",
    "b=vector([5, 1, -5])\n",
    "show(a.cross_product(b))"
   ]
  },
  {
   "cell_type": "code",
   "execution_count": null,
   "metadata": {},
   "outputs": [],
   "source": [
    "a=vector([1, 0, -2])\n",
    "b=vector([-4, 1, 4])\n",
    "show(a.cross_product(b))"
   ]
  },
  {
   "cell_type": "code",
   "execution_count": null,
   "metadata": {},
   "outputs": [],
   "source": [
    "a=vector([0, -1, 3])\n",
    "b=vector([5, 0, -4])\n",
    "c=vector([3, 3, 6])\n",
    "show(a.cross_product(b))\n",
    "show(n(c.dot_product(a.cross_product(b)/sqrt(266))))"
   ]
  },
  {
   "cell_type": "code",
   "execution_count": null,
   "metadata": {},
   "outputs": [],
   "source": [
    "a=vector([-3, 1, 2])\n",
    "b=vector([1, -1, 1])\n",
    "c=vector([-1, 5, 6])\n",
    "show(a.cross_product(b))\n",
    "show(n(c.dot_product(a.cross_product(b))/sqrt(38)))"
   ]
  },
  {
   "cell_type": "code",
   "execution_count": null,
   "metadata": {},
   "outputs": [],
   "source": [
    "a=vector([3, -4, -8])\n",
    "b=vector([-2, -4, 1])\n",
    "c=vector([1, -2, -5])\n",
    "show(a.dot_product(b.cross_product(c)))"
   ]
  },
  {
   "cell_type": "code",
   "execution_count": null,
   "metadata": {},
   "outputs": [],
   "source": [
    "p=var('p')\n",
    "q=var('q')\n",
    "x=var('x')\n",
    "a=matrix([[-50, 12, 138], [-36, 10, 96], [-17, 4, 47]])\n",
    "b=vector([3, 2, 1])\n",
    "show(a.det())\n",
    "show(a.eigenvalues())\n",
    "show(expand((x-1)*(x-2)*(x-4)))\n",
    "show(a.inverse()*b)"
   ]
  },
  {
   "cell_type": "code",
   "execution_count": null,
   "metadata": {},
   "outputs": [],
   "source": [
    "a=matrix([[3, -4, 2], [-4, -1, 6], [2, 6, -2]])\n",
    "b=matrix([[1, 2, 2], [2, 1, -2], [-2, 2, -1]])\n",
    "c=matrix([[9^4, 0, 0], [0, 3^4, 0], [0, 0, 6^4]])\n",
    "show(a.eigenvalues())\n",
    "show(a.eigenvectors_right())\n",
    "show(b*c*b.inverse())"
   ]
  },
  {
   "cell_type": "code",
   "execution_count": null,
   "metadata": {},
   "outputs": [],
   "source": [
    "a=matrix([[6, 13], [-2, -9]])\n",
    "b=matrix([[1, 13], [-1, -2]])\n",
    "c=matrix([[-7^5, 0], [0, 4^5]])\n",
    "show(a.eigenvalues())\n",
    "show(a.eigenvectors_right())\n",
    "show(b*c*b.inverse())"
   ]
  },
  {
   "cell_type": "code",
   "execution_count": null,
   "metadata": {},
   "outputs": [],
   "source": [
    "a=matrix([[-2, -4, 2], [-2, 1, 2], [4, 2, 5]])\n",
    "b=matrix([[-26, -33, -25], [31, 42, 23], [-11, -15, -4]])\n",
    "show(a.eigenvalues())\n",
    "show(b.eigenvalues())\n",
    "show(a.eigenvectors_right())\n",
    "show(b.eigenvectors_right())"
   ]
  },
  {
   "cell_type": "code",
   "execution_count": null,
   "metadata": {},
   "outputs": [],
   "source": [
    "a=matrix([[1, 2], [2, -2]])\n",
    "b=matrix([[3, 5], [1, -1]])\n",
    "c=matrix([[7, 4], [-2, 1]])\n",
    "d=matrix([[11, -24], [15, -27]])\n",
    "show(a.eigenvalues())\n",
    "show(b.eigenvalues())\n",
    "show(c.eigenvalues())\n",
    "show(d.eigenvalues())\n",
    "show(a.eigenvectors_right())\n",
    "show(b.eigenvectors_right())\n",
    "show(c.eigenvectors_right())\n",
    "show(d.eigenvectors_right())"
   ]
  },
  {
   "cell_type": "code",
   "execution_count": null,
   "metadata": {},
   "outputs": [],
   "source": [
    "a=vector([24, -16, 32])\n",
    "b=vector([-15, -12, 9])\n",
    "show(a.cross_product(b))"
   ]
  },
  {
   "cell_type": "code",
   "execution_count": null,
   "metadata": {},
   "outputs": [],
   "source": [
    "a=vector([-1, 4, -2])\n",
    "b=vector([2, -3, -1])\n",
    "c=vector([1, 2, -2])\n",
    "show(b.dot_product(a.cross_product(c)))\n",
    "show(b.dot_product(c.cross_product(a)))\n",
    "show(c.dot_product(b.cross_product(a)))"
   ]
  },
  {
   "cell_type": "code",
   "execution_count": null,
   "metadata": {},
   "outputs": [],
   "source": [
    "a=vector([4, -1, -2])\n",
    "b=vector([-3, 2, -5])\n",
    "c=vector([2, 2, -6])\n",
    "show(a.cross_product(b))\n",
    "show(a.cross_product(c))\n",
    "show(b.cross_product(c))"
   ]
  },
  {
   "cell_type": "markdown",
   "metadata": {
    "jp-MarkdownHeadingCollapsed": true
   },
   "source": [
    "### Module 8 - Eigenvalues and Eigenvectors"
   ]
  },
  {
   "cell_type": "markdown",
   "metadata": {},
   "source": [
    "If the corresponding eigenvalue is $\\lambda$ then for a transformation matrix $\\begin{pmatrix}a&b\\\\c&d\\end{pmatrix}$\n",
    "$$\\begin{pmatrix}a&b\\\\c&d\\end{pmatrix} \\begin{pmatrix}x\\\\mx\\end{pmatrix} = \\lambda\\begin{pmatrix}x\\\\mx\\end{pmatrix}$$\n",
    "The calculations below are used to calculate eigenvalues and eigenvectors and it also reveals properties about the eigenvalues of the square, cube or inverse of a matrix. \n",
    "\n",
    "The methods used are algebra and the characteristic equation."
   ]
  },
  {
   "cell_type": "markdown",
   "metadata": {},
   "source": [
    "Some notation for eigenvalues and eigenvectors are below.\n",
    "\n",
    "The notation is used in diagonalisation.\n",
    "\n",
    "$\\mathbf{s}_n$ stands for the $n$th eigenvector.\n",
    "\n",
    "$\\mathbf{S}$ stands for $\\begin{pmatrix}\\mathbf{s}_1&\\cdots&\\mathbf{s}_n\\end{pmatrix}$ (the matrix of the eigenvectors of $\\mathrm{M}$).\n",
    "\n",
    "$\\Lambda$ stands for $\\begin{pmatrix}\\lambda_1&0\\\\0&\\lambda_2\\end{pmatrix}$ (the diagonal matrix of the eigenvalues of $\\mathrm{M}$ in the order of the eigenvectors used for $\\mathrm{S}$) where $\\lambda_n$ is the $nth$ eigenvalue.\n",
    "\n",
    "$\\mathrm{M}$ is the matrix we want to find the powers of.\n",
    "$$\\mathbf{MS}=\\mathbf{S\\Lambda}$$\n",
    "$$\\mathbf{S^{-1}MS}=\\mathbf{S^{-1}S\\Lambda}$$\n",
    "$$\\mathbf{S^{-1}MS}=\\mathbf{\\Lambda}$$\n",
    "When we do this we say the matrix $\\mathrm{M}$ has been reduced to diagonal form or has been diagonalised.\n",
    "\n",
    "The matrix $\\Lambda$ is the diagonalised form of $\\mathrm{M}$"
   ]
  },
  {
   "cell_type": "markdown",
   "metadata": {},
   "source": [
    "$$\\mathbf{MS}=\\mathbf{S\\Lambda}$$\n",
    "$$\\mathbf{MSS^{-1}}=\\mathbf{S\\Lambda S^{-1}}$$\n",
    "$$\\mathbf{M}=\\mathbf{S\\Lambda S^{-1}}$$\n",
    "$$\\mathbf{M}^n=\\mathbf{S\\Lambda}^n\\mathbf{S^{-1}}$$\n",
    "If $\\mathbf{D}$ is a diagonal matrix, \n",
    "$$\\mathbf{D}^n=\\begin{pmatrix}a^n&0\\\\0&b^n\\end{pmatrix}$$\n",
    "The Cayley-Hamilton theorem states that\n",
    "$$d_0+d_1\\mathbf{M}+d_2\\mathrm{M^2}-\\mathrm{M^3}=0$$"
   ]
  },
  {
   "cell_type": "code",
   "execution_count": null,
   "metadata": {},
   "outputs": [],
   "source": [
    "a=matrix([[1-x, 4, -1], [-1, 6-x, -1], [2, -2, 4-x]])\n",
    "show(expand(a.det()))"
   ]
  },
  {
   "cell_type": "code",
   "execution_count": null,
   "metadata": {},
   "outputs": [],
   "source": [
    "p=var('p')\n",
    "q=var('q')\n",
    "a=matrix([[0, -1, 1], [6, -2, 6], [4, 1, 3]])\n",
    "b=vector([1, 1, -1])\n",
    "show(a.eigenvalues())\n",
    "show(a.inverse()*b)\n",
    "show(a^2)"
   ]
  },
  {
   "cell_type": "code",
   "execution_count": null,
   "metadata": {},
   "outputs": [],
   "source": [
    "k=var('k')\n",
    "a=matrix([[0, 0, 2], [1, -1, 2], [1, 0, 1]])\n",
    "show(a.eigenvectors_right())\n",
    "b=matrix([[1, 0, -1/2], [0, 1, 0], [1, 1, 1]])\n",
    "show(b.det())"
   ]
  },
  {
   "cell_type": "code",
   "execution_count": null,
   "metadata": {},
   "outputs": [],
   "source": [
    "m=matrix([[0, -1, 1], [6, -2, 6], [4, 1, 3]])\n",
    "s=matrix([[1, 1, 0], [1, 0, 1], [-1, -1, 1]])\n",
    "l=matrix([[16, 0, 0], [0, 1, 0], [0, 0, 256]])\n",
    "show(m.eigenvalues())\n",
    "show(m.eigenvectors_right())\n",
    "show(s*l*s.inverse())"
   ]
  },
  {
   "cell_type": "code",
   "execution_count": null,
   "metadata": {},
   "outputs": [],
   "source": [
    "m=matrix([[9, 2], [-1, 6]])\n",
    "show(m.eigenvalues())\n",
    "show(m.eigenvectors_right())\n",
    "m1=matrix([[1, 2], [-1, -1]])\n",
    "m2=matrix([[7^5, 0], [0, 8^5]])\n",
    "show(m1.inverse())\n",
    "a=7^5\n",
    "b=8^5\n",
    "show(2*b-a)\n",
    "show(2*b+2*a)\n",
    "show(a-b)\n",
    "show(-2*b-a)\n",
    "m1*m2*m1.inverse()"
   ]
  },
  {
   "cell_type": "markdown",
   "metadata": {},
   "source": [
    "The calculations below are used to calculate eigenvalues and eigenvectors and it also reveals properties about the eigenvalues of the square, cube or inverse of a matrix. \n",
    "\n",
    "The methods used are algebra and the characteristic equation."
   ]
  },
  {
   "cell_type": "code",
   "execution_count": null,
   "metadata": {},
   "outputs": [],
   "source": [
    "mt=matrix([[-1, 7, 9], [0, 1, 4], [0, 0, 3]])\n",
    "show(mt.eigenvalues())\n",
    "show((mt^2).eigenvalues())\n",
    "show((mt^3).eigenvalues())\n",
    "show(mt.inverse().eigenvalues())\n",
    "mt2=matrix([[-2, -4, 2], [-2, 1, 2], [4, 2, 5]])\n",
    "show(mt2.det())\n",
    "show(mt2.trace())\n",
    "show(mt2.eigenvalues())"
   ]
  },
  {
   "cell_type": "markdown",
   "metadata": {},
   "source": [
    "The eigenvalues of a matrix is equal to the eigenvalues of the transpose of the matrix"
   ]
  },
  {
   "cell_type": "code",
   "execution_count": null,
   "metadata": {},
   "outputs": [],
   "source": [
    "show(expand(-((x+2)*(x-2)-1)*(x-1)+7*x+5))\n",
    "f(x)=x^3-x^2-12*x\n",
    "show(plot(f(x), (x, -4, 5), figsize=3))\n",
    "show(f(-3))\n",
    "show(f(0))\n",
    "show(f(4))\n",
    "mt=matrix([[1, -3, -3], [-8, 6, -3], [8, -2, 7]])\n",
    "show(mt.eigenvalues())\n",
    "show(mt.eigenvectors_right())\n",
    "mt2=matrix([[1, -1, 0], [1, 2, 1], [-2, 1, -1]])\n",
    "show(mt2.eigenvalues())\n",
    "show(mt2.transpose().eigenvalues())\n",
    "mt3=matrix([[-7, 4], [-5, 5]])\n",
    "show(mt3.eigenvalues())\n",
    "show((mt3^2).eigenvalues())\n",
    "show((mt3^3).eigenvalues())\n",
    "show(mt3.inverse().eigenvalues())"
   ]
  },
  {
   "cell_type": "code",
   "execution_count": null,
   "metadata": {},
   "outputs": [],
   "source": [
    "# Ex. 15\n",
    "mt=matrix(2, 2, [[-5, 3], [6, -2]])\n",
    "show(mt.eigenvalues())\n",
    "mt2=matrix(3, 3, [[2, 0, 1], [-1, 2, 3], [1, 0, 2]])\n",
    "show(mt2.eigenvalues())\n",
    "f(x)=x^3-x^2-11*x+15\n",
    "show(plot(f(x), (x, -5, 5),figsize=3))\n",
    "show(n(sqrt(6)-1))\n",
    "show(n(-sqrt(6)-1))\n",
    "show(solve(f(x), x))"
   ]
  },
  {
   "cell_type": "markdown",
   "metadata": {
    "jp-MarkdownHeadingCollapsed": true
   },
   "source": [
    "### Module 7 - The Vector Product"
   ]
  },
  {
   "cell_type": "markdown",
   "metadata": {},
   "source": [
    "For calculating cross product, \n",
    "$$\\mathbf{i}\\times\\mathbf{i}=\\mathbf{j}\\times\\mathbf{j}=\\mathbf{k}\\times\\mathbf{k}=0$$\n",
    "$$i\\times j=k$$\n",
    "$$j\\times i=-k$$\n",
    "$$j\\times k=i$$\n",
    "$$k\\times j=-i$$\n",
    "$$k\\times i=j$$\n",
    "$$i\\times k=-j$$"
   ]
  },
  {
   "cell_type": "markdown",
   "metadata": {},
   "source": [
    "The below is working out for a formula for the cross product.\n",
    "$$(a_1\\mathbf{i}+a_2\\mathbf{j}+a_3\\mathbf{k}) \\times (b_1\\mathbf{i}+b_2\\mathbf{j}+b_3\\mathbf{k})$$\n",
    "$$=a_1b_2\\mathbf{k}-a_1b_3\\mathbf{j}-a_2b_1\\mathbf{k}+a_2b_3\\mathbf{i}+a_3b_1\\mathbf{j}-a_3b_2\\mathbf{i}$$\n",
    "$$=(a_2b_3-a_3b_2)\\mathbf{i}+(a_3b_1-a_1b_3)\\mathbf{j}+(a_1b_2-a_2b_1)\\mathbf{k}$$"
   ]
  },
  {
   "cell_type": "markdown",
   "metadata": {},
   "source": [
    "Properties\n",
    "1. \n",
    "$$\\mathbf{a}\\times\\mathbf{b}=-(\\mathbf{b}\\times\\mathbf{a})$$\n",
    "This means that the cross product is anticommutative.\n",
    "\n",
    "2. \n",
    "$$\\mathbf{a}\\times\\mathbf{a}=0$$\n",
    "\n",
    "3. \n",
    "$$\\mathbf{a}\\times0=0\\times\\mathbf{a}=0$$\n",
    "\n",
    "4. \n",
    "$$(m\\mathbf{a})\\times(n\\mathbf{b})=mn(\\mathbf{a}\\times\\mathbf{b})$$"
   ]
  },
  {
   "cell_type": "markdown",
   "metadata": {},
   "source": [
    "For a parrallelepiped, the formulae for volume is below, \n",
    "\n",
    "$$V=|a| |b\\times c| \\cos{\\alpha}$$\n",
    "$$V=|a| \\cdot |b\\times c|$$\n",
    "$$V=|a\\cdot(b\\times c)|$$\n",
    "For a tetrahedron(triangular pyramid), formula for volume is below, \n",
    "$$V=\\frac{1}{6}|a\\cdot(b\\times c)|$$\n",
    "Volumes can be calculated by scalar triple product"
   ]
  },
  {
   "cell_type": "markdown",
   "metadata": {},
   "source": [
    "To find angle between planes, \n",
    "$$\\sin{\\theta}=\\frac{|n_1\\times n_2|}{|n_1|*|n_2|}$$"
   ]
  },
  {
   "cell_type": "code",
   "execution_count": null,
   "metadata": {},
   "outputs": [],
   "source": [
    "a=vector([-3, -3, 4])\n",
    "b=vector([1, 2, 2])\n",
    "c=vector([-6, 2, 5])\n",
    "show(n(a.dot_product(b.cross_product(c))/sqrt(521)))\n",
    "show(b.cross_product(c))"
   ]
  },
  {
   "cell_type": "code",
   "execution_count": null,
   "metadata": {},
   "outputs": [],
   "source": [
    "a=vector([1, -3, 2])\n",
    "b=vector([1, -1, -2])\n",
    "c=vector([7, -5, -7])\n",
    "print('k='+str(a.dot_product(b.cross_product(c))))\n",
    "d=vector([-4, 0, 5])\n",
    "show(d.dot_product(b.cross_product(c)))\n",
    "show(a.dot_product(d.cross_product(c)))"
   ]
  },
  {
   "cell_type": "code",
   "execution_count": null,
   "metadata": {},
   "outputs": [],
   "source": [
    "f(x, y)=-5*x+y+8\n",
    "g(x, y)=-x-3*y-4\n",
    "show(plot3d(f(x, y), (-4, 4), (-4, 4))+\n",
    "plot3d(g(x, y), (-4, 4), (-4, 4)))"
   ]
  },
  {
   "cell_type": "markdown",
   "metadata": {},
   "source": [
    "Calculation for calculating normal vectors and their cross product to find line of intersection"
   ]
  },
  {
   "cell_type": "code",
   "execution_count": null,
   "metadata": {},
   "outputs": [],
   "source": [
    "a=vector([2, 3, 2])\n",
    "b=vector([4, -3, 4])\n",
    "show(a.cross_product(b))"
   ]
  },
  {
   "cell_type": "code",
   "execution_count": null,
   "metadata": {},
   "outputs": [],
   "source": [
    "a=vector([4, -1, 3])\n",
    "b=vector([3, -1, 2])\n",
    "show(a.cross_product(b))\n",
    "show(n(arcsin(sqrt(3)/sqrt(26*14))*180/pi))\n",
    "c=vector([2, 3, 2])\n",
    "d=vector([4, -3, 1])\n",
    "show(c.cross_product(d))"
   ]
  },
  {
   "cell_type": "code",
   "execution_count": null,
   "metadata": {},
   "outputs": [],
   "source": [
    "a=vector([2, 4, -1])\n",
    "b=vector([1, 1, 2])\n",
    "c=vector([4, 0, 1])\n",
    "a.dot_product(b.cross_product(c))"
   ]
  },
  {
   "cell_type": "code",
   "execution_count": null,
   "metadata": {},
   "outputs": [],
   "source": [
    "# Calc for Ex. 13\n",
    "a=vector([1, -2, 3])\n",
    "b=vector([2, -3, 1])\n",
    "c=vector([-2, 2, -1])\n",
    "show(a.cross_product(b))\n",
    "show(a.cross_product(c))\n",
    "d=vector([3, -4, 5])\n",
    "f=vector([-5, 12, 13])\n",
    "show(d.cross_product(f))"
   ]
  },
  {
   "cell_type": "markdown",
   "metadata": {
    "jp-MarkdownHeadingCollapsed": true
   },
   "source": [
    "### Assessment 2 - Module 4, 5 and 6"
   ]
  },
  {
   "cell_type": "code",
   "execution_count": null,
   "metadata": {},
   "outputs": [],
   "source": [
    "show(n(-3*((-3)^2)^(1/3)))\n",
    "show(n(log(9/10)+1/4))\n",
    "show(n((5*log(3)-2*log(4)+2*log(2)-3/2*log(5)+arctan(2))/5))"
   ]
  },
  {
   "cell_type": "markdown",
   "metadata": {
    "jp-MarkdownHeadingCollapsed": true
   },
   "source": [
    "### Module 6 - 2nd Order ODE"
   ]
  },
  {
   "cell_type": "markdown",
   "metadata": {},
   "source": [
    "$$\\frac{\\mathrm{d}y}{\\mathrm{d}x}+ay=0$$\n",
    "$$y=Ae^{\\lambda x}$$\n",
    "$$y'=\\lambda Ae^{\\lambda x}$$"
   ]
  },
  {
   "cell_type": "markdown",
   "metadata": {},
   "source": [
    "Use desolve() in SageMath to do ODE\n",
    "$$2\\dfrac{\\mathrm{d}^2y}{\\mathrm{d}x^2} = 5\\dfrac{\\mathrm{d}y}{\\mathrm{d}x}− y$$"
   ]
  },
  {
   "cell_type": "code",
   "execution_count": null,
   "metadata": {},
   "outputs": [],
   "source": [
    "x = var('x'); y = function('y')(x)\n",
    "show(desolve(2*diff(y, x, 2) == 5*diff(y, x) - y, y) )"
   ]
  },
  {
   "cell_type": "code",
   "execution_count": null,
   "metadata": {},
   "outputs": [],
   "source": [
    "x = var('x'); y = function('y')(x)\n",
    "show(desolve(17*diff(y, x) == 10*diff(y, x, 2) + 3*y , y) )"
   ]
  },
  {
   "cell_type": "markdown",
   "metadata": {},
   "source": [
    "### Module 5 - Further Applications of Integration"
   ]
  },
  {
   "cell_type": "markdown",
   "metadata": {},
   "source": [
    "To find the area bounded by a parametric curve, convert $y$ and $\\mathrm{d}x$ into terms of $t$\n",
    "$$\\int^{x_2}_{x_1}y\\hspace{1px}\\mathrm{d}x$$\n",
    "For polar equations, \n",
    "$$A=\\int^{\\theta_2}_{\\theta_1}\\frac{1}{2}r^2\\mathrm{d}\\theta$$\n",
    "Arc Length\n",
    "$$s=\\int^{b}_{a}\\sqrt{1+\\begin{pmatrix}\\large\\frac{\\mathrm{d}y}{\\mathrm{d}x}\\end{pmatrix}^2}\\mathrm{d}x$$\n",
    "Arc Length (parametric curve)\n",
    "$$s=\\int^{t_2}_{t_1}\\sqrt{\\large\\begin{pmatrix}\\frac{\\mathrm{d}x}{\\mathrm{d}t}\\end{pmatrix}^2+\\begin{pmatrix}\\frac{ \\mathrm{d}y}{\\mathrm{d}t}\\end{pmatrix}^2}\\mathrm{d}x$$\n",
    "Arc Length (polar curve)\n",
    "$$s=\\int^{\\theta_2}_{\\theta_1}\\sqrt{r^2+\\large\\begin{pmatrix}\\frac{\\mathrm{d}r}{\\mathrm{d}\\theta}\\end{pmatrix}^2 }\\mathrm{d}\\theta$$"
   ]
  },
  {
   "cell_type": "code",
   "execution_count": 23,
   "metadata": {},
   "outputs": [
    {
     "data": {
      "image/png": "[encoded data removed]",
      "text/plain": [
       "Graphics object consisting of 2 graphics primitives"
      ]
     },
     "metadata": {},
     "output_type": "display_data"
    },
    {
     "data": {
      "image/png": "[encoded data removed]",
      "text/plain": [
       "Graphics object consisting of 2 graphics primitives"
      ]
     },
     "metadata": {},
     "output_type": "display_data"
    }
   ],
   "source": [
    "s=var('s')\n",
    "t=var('t')\n",
    "a=parametric_plot((-2*t^2, -4*t), (t, -2, 2), figsize=5)\n",
    "b=plot(-2*(x+4), (x, -8, 1), figsize=5)\n",
    "show(a+b)\n",
    "c=parametric_plot((2*cosh(s), 2*sinh(s)), (s, -2, 2), figsize=4)\n",
    "d=parametric_plot((4*cosh(t), 8*sinh(t)), (t, -1.5, 1.5), figsize=5)\n",
    "show(c+d)"
   ]
  },
  {
   "cell_type": "code",
   "execution_count": 17,
   "metadata": {},
   "outputs": [
    {
     "data": {
      "image/png": "[encoded data removed]",
      "text/plain": [
       "Graphics object consisting of 1 graphics primitive"
      ]
     },
     "metadata": {},
     "output_type": "display_data"
    },
    {
     "data": {
      "image/png": "[encoded data removed]",
      "text/plain": [
       "Graphics object consisting of 1 graphics primitive"
      ]
     },
     "metadata": {},
     "output_type": "display_data"
    },
    {
     "data": {
      "image/png": "[encoded data removed]",
      "text/plain": [
       "Graphics object consisting of 1 graphics primitive"
      ]
     },
     "metadata": {},
     "output_type": "display_data"
    },
    {
     "data": {
      "image/png": "[encoded data removed]",
      "text/plain": [
       "Graphics object consisting of 1 graphics primitive"
      ]
     },
     "metadata": {},
     "output_type": "display_data"
    },
    {
     "data": {
      "image/png": "[encoded data removed]",
      "text/plain": [
       "Graphics object consisting of 2 graphics primitives"
      ]
     },
     "metadata": {},
     "output_type": "display_data"
    },
    {
     "data": {
      "image/png": "[encoded data removed]",
      "text/plain": [
       "Graphics object consisting of 2 graphics primitives"
      ]
     },
     "metadata": {},
     "output_type": "display_data"
    },
    {
     "data": {
      "text/html": [
       "<html>\\(\\displaystyle 5.53517315819482\\)</html>"
      ],
      "text/latex": [
       "$\\displaystyle 5.53517315819482$"
      ],
      "text/plain": [
       "5.53517315819482"
      ]
     },
     "metadata": {},
     "output_type": "display_data"
    },
    {
     "data": {
      "text/html": [
       "<html>\\(\\displaystyle -1.97272011544158\\)</html>"
      ],
      "text/latex": [
       "$\\displaystyle -1.97272011544158$"
      ],
      "text/plain": [
       "-1.97272011544158"
      ]
     },
     "metadata": {},
     "output_type": "display_data"
    },
    {
     "data": {
      "text/html": [
       "<html>\\(\\displaystyle 42.4115008234622\\)</html>"
      ],
      "text/latex": [
       "$\\displaystyle 42.4115008234622$"
      ],
      "text/plain": [
       "42.4115008234622"
      ]
     },
     "metadata": {},
     "output_type": "display_data"
    },
    {
     "data": {
      "text/html": [
       "<html>\\(\\displaystyle 1383.65509685838\\)</html>"
      ],
      "text/latex": [
       "$\\displaystyle 1383.65509685838$"
      ],
      "text/plain": [
       "1383.65509685838"
      ]
     },
     "metadata": {},
     "output_type": "display_data"
    }
   ],
   "source": [
    "t=var('t')\n",
    "f(x)=x^3/6\n",
    "show(parametric_plot((2*t^3, t^2), (t, 1, 2)))  # Plots\n",
    "show(parametric_plot((4*cos(t), 3*sin(t)), (t, -pi/2, pi/2), figsize=3))\n",
    "show(polar_plot(3*(1+cos(x)), (x, 0, 2*pi), figsize=4))\n",
    "show(parametric_plot((4*cosh(t), 2*sinh(t)), (t, -2, 2), figsize=3))\n",
    "show(n((e^pi-1)/4))  # Calc\n",
    "show(n((3*(sqrt(3)-2)-pi)/2))\n",
    "show(n(27*pi/2))\n",
    "show(n(f(9*pi)-f(33*pi/4)+f(25*pi/4)-f(11*pi/2)+f(7*pi/2)-f(11*pi/4)+f(3*pi/4)))"
   ]
  },
  {
   "cell_type": "markdown",
   "metadata": {
    "jp-MarkdownHeadingCollapsed": true
   },
   "source": [
    "### Module 4 - Further Integration Methods"
   ]
  },
  {
   "cell_type": "markdown",
   "metadata": {},
   "source": [
    "The below is calculations for the definite integrals."
   ]
  },
  {
   "cell_type": "code",
   "execution_count": null,
   "metadata": {},
   "outputs": [],
   "source": [
    "show(1/6*(sqrt(2)*arctan(sqrt(2)/2*x)+1/2*ln(x**2+2)+5*ln(x-2)))\n",
    "show(n(integral((x^2+1)/((x^2+2)*(x-2)), (x, 3, 5))))"
   ]
  },
  {
   "cell_type": "code",
   "execution_count": null,
   "metadata": {
    "editable": true,
    "scrolled": true,
    "slideshow": {
     "slide_type": ""
    },
    "tags": []
   },
   "outputs": [],
   "source": [
    "# Ex. 07 Improper Integrals and Partial Fractions\n",
    "show(n((ln(6)-ln(2))/4))\n",
    "show(plot( 1/(x^2)^1/3, (x, -2, 2), figsize=4, ymin=0, ymax=10))\n",
    "show(n( 6*2^(1/3) ))\n",
    "show(n(ln(3)-ln(sqrt(5))))\n",
    "show(n( ( ln(3)-ln(8)+ln(6) )/5 ))\n",
    "show(n( 3*ln(4)-3*ln(5)+ln(2) ))\n",
    "show(n( 2*ln(3)-ln(5)/2-2/15 ))"
   ]
  },
  {
   "cell_type": "markdown",
   "metadata": {
    "jp-MarkdownHeadingCollapsed": true
   },
   "source": [
    "### Module 3 - Properties of Curves"
   ]
  },
  {
   "cell_type": "markdown",
   "metadata": {},
   "source": [
    "The cartesian and parametric equations, eccentricity, foci and directrices for various curves are below.\n",
    "\n",
    "Parabola\n",
    "- Cartesian Equation : $y^2=4ax$\n",
    "- Parametric Equation : $x=at^2, y=2at$\n",
    "- Eccentricity : $1$\n",
    "- Foci : $(a, 0)$\n",
    "- Directrices : $x=-a$\n",
    "\n",
    "Ellipse\n",
    "- Cartesian Equation : $\\large\\frac{x^2}{a^2}+\\frac{y^2}{b^2}=1, a\\gt b$\n",
    "- Parametric Equation : $x=a\\cos{t}, y=b\\sin{t}$\n",
    "- Eccentricity : $b^2=a^2(1-e^2)$\n",
    "- Foci : $(\\pm ae, 0)$\n",
    "- Directrices : $x=\\large\\pm\\frac{a}{e}$\n",
    "\n",
    "Hyperbola\n",
    "- Cartesian Equation : $\\large\\frac{x^2}{a^2}-\\frac{y^2}{b^2}=1$\n",
    "- Parametric Equations : $x=a\\sec{t}, y=b\\tan{t}$ or $x=a\\cosh{t}, y=b\\sinh{t}$\n",
    "- Eccentricity : $b^2=a^2(e^2-1)$\n",
    "- Foci : $(\\pm ae, 0)$\n",
    "- Directrices : $x=\\large\\pm\\frac{a}{e}$"
   ]
  },
  {
   "cell_type": "code",
   "execution_count": null,
   "metadata": {},
   "outputs": [],
   "source": [
    "show(plot(x/(x^2-4), (x, -5, 5), figsize=4, ymin=-10, ymax=10))\n",
    "show(plot((1-x^2)/(1+x^2), (x, -7, 7), figsize=4))\n",
    "show(n(sqrt(4/27)))"
   ]
  },
  {
   "cell_type": "markdown",
   "metadata": {},
   "source": [
    "Below is plots and calculations for exercise 5."
   ]
  },
  {
   "cell_type": "code",
   "execution_count": null,
   "metadata": {},
   "outputs": [],
   "source": [
    "t=var('t')\n",
    "show(n(sqrt(1/2)))\n",
    "show(n(sqrt(4/3)))\n",
    "show(n(sqrt(9/7)))\n",
    "show((216+36)/6)\n",
    "show(84-36)\n",
    "show(plot(9/x, (x, -10, 10), figsize=3, ymin=-10, ymax=10))\n",
    "show(parametric_plot((cos(t)^3, sin(t)^3), (t, 0, 2*pi), figsize=3))\n",
    "show(n(8*sqrt(3)))\n",
    "show(n(2*sqrt(3)))\n",
    "show(diff(sin(x)^3))"
   ]
  },
  {
   "cell_type": "markdown",
   "metadata": {
    "jp-MarkdownHeadingCollapsed": true
   },
   "source": [
    "### Module 2 - Further Complex Numbers"
   ]
  },
  {
   "cell_type": "markdown",
   "metadata": {},
   "source": [
    "Why complex numbers?\n",
    "- It bridges between 1D and 2D space.\n",
    "- The 1D space is just the real number line.\n",
    "- The 2D space is the cartesian plane which plots the xy co-ordinates or the argand diagram which used for plotting complex numbers."
   ]
  },
  {
   "cell_type": "markdown",
   "metadata": {},
   "source": [
    "The sum of a geometric series is\n",
    "$$\\frac{a(r^n-1)}{r-1}$$\n",
    "where $a$ is the first number, $r$ is the common ratio and $n$ is the number of terms."
   ]
  },
  {
   "cell_type": "markdown",
   "metadata": {},
   "source": [
    "Some properties of roots of unity.\n",
    "\n",
    "The sum of the roots of unity of the $n$th root add up to 0\n",
    "$$\\frac{1+iz}{1-iz}=\\omega^k$$\n",
    "for $k=0, 1, 2, \\cdots, n-1$"
   ]
  },
  {
   "cell_type": "markdown",
   "metadata": {},
   "source": [
    "The $n$th roots of $re^i\\theta$ are $\\alpha, \\alpha\\omega, \\cdots, \\alpha\\omega^{n-1}$, \n",
    "\n",
    "when $\\large\\omega=e^{\\frac{2\\pi}{n}i}$ and $\\large\\alpha=r^\\frac{1}{n}e^\\frac{i\\theta}{n}$"
   ]
  },
  {
   "cell_type": "markdown",
   "metadata": {},
   "source": [
    "For a triangle with corners $A$, $B$ and $C$, where $a$, $b$ and $c$ represent their complex number vectors, \n",
    "$$\\frac{c-a}{b-a}=ke^{i\\theta}$$\n",
    "$$k=|\\frac{c-a}{b-a}|$$\n",
    "$$\\theta=\\arg{\\frac{c-a}{b-a}}$$"
   ]
  },
  {
   "cell_type": "code",
   "execution_count": null,
   "metadata": {},
   "outputs": [],
   "source": [
    "show(expand((1+x)*(1+x^2))) \n",
    "angle=-arctan(1/2)/3+2*pi/3\n",
    "moduli=5^(1/6)\n",
    "show(n(cos(angle)*moduli))\n",
    "show(n(sin(angle)*moduli))\n",
    "show(144*28)"
   ]
  },
  {
   "cell_type": "markdown",
   "metadata": {
    "jp-MarkdownHeadingCollapsed": true
   },
   "source": [
    "### Module 1 - 1st Order ODE"
   ]
  },
  {
   "cell_type": "markdown",
   "metadata": {},
   "source": [
    "Below are calculations using Euler's method and the improved Euler method"
   ]
  },
  {
   "cell_type": "code",
   "execution_count": null,
   "metadata": {},
   "outputs": [],
   "source": [
    "(1.148721271-1.147447)*100/1.148721271"
   ]
  },
  {
   "cell_type": "code",
   "execution_count": null,
   "metadata": {},
   "outputs": [],
   "source": [
    "show(n(e^0.5-0.5))"
   ]
  },
  {
   "cell_type": "code",
   "execution_count": null,
   "metadata": {},
   "outputs": [],
   "source": [
    "x=1\n",
    "y=0\n",
    "h=.1\n",
    "for i in range(6):\n",
    "    k1=h*(x^2-y/x)\n",
    "    k2=h*((x+h)^2-(y+k1)/(x+h))\n",
    "    y1=y+(k1+k2)/2\n",
    "    show(i+1)\n",
    "    show(n(y1, digits=7))\n",
    "    x+=h\n",
    "    y=y1"
   ]
  },
  {
   "cell_type": "code",
   "execution_count": null,
   "metadata": {},
   "outputs": [],
   "source": [
    "x=1\n",
    "y=0\n",
    "y1=0\n",
    "h=.1\n",
    "y2=0\n",
    "y=h*(x^2-y/x)\n",
    "y1=y2\n",
    "x+=h\n",
    "y2=y\n",
    "for i in range(5):\n",
    "    show(y)\n",
    "    y=y1+2*h*(x^2-y/x)\n",
    "    y1=y2\n",
    "    x+=h\n",
    "    y2=y\n",
    "show(n(y))"
   ]
  },
  {
   "cell_type": "code",
   "execution_count": null,
   "metadata": {},
   "outputs": [],
   "source": [
    "x=1\n",
    "y=0\n",
    "h=.1\n",
    "for i in range(6):\n",
    "    a=x^2-y/x\n",
    "    y+=a*h\n",
    "    x+=h\n",
    "    show(n(y))"
   ]
  },
  {
   "cell_type": "code",
   "execution_count": null,
   "metadata": {},
   "outputs": [],
   "source": [
    "a=1*sqrt(1)/10\n",
    "b=1.1*sqrt(a+1)/10+a\n",
    "c=1.2*sqrt(b+1)/10+b\n",
    "d=1.3*sqrt(c+1)/10+c\n",
    "f=1.4*sqrt(d+1)/10+d\n",
    "g=1.5*sqrt(f+1)/10+f\n",
    "h=1.6*sqrt(g+1)/10+g\n",
    "show(n(a))\n",
    "show(n(b))\n",
    "show(n(c))\n",
    "show(n(d))\n",
    "show(n(f))\n",
    "show(n(g))\n",
    "show(n(h))"
   ]
  },
  {
   "cell_type": "markdown",
   "metadata": {
    "jp-MarkdownHeadingCollapsed": true
   },
   "source": [
    "## ★Further Y12-2"
   ]
  },
  {
   "cell_type": "markdown",
   "metadata": {
    "jp-MarkdownHeadingCollapsed": true
   },
   "source": [
    "### Assessment 3"
   ]
  },
  {
   "cell_type": "code",
   "execution_count": null,
   "metadata": {},
   "outputs": [],
   "source": [
    "x=var('x')\n",
    "f(x)=e^(2*x)*(2*tanh(x)+sech(x)^2)\n",
    "show(f(ln(2)))\n",
    "g(x)=3*(e^x)^6+(e^x)^4-31*(e^x)^2+3\n",
    "show(plot(g(x), (x, -2, 0.6), figsize=4))\n",
    "show(n((126/7+2+1/24+1/896)/4))\n",
    "show(n((6+1/2+1/160)/4))"
   ]
  },
  {
   "cell_type": "code",
   "execution_count": null,
   "metadata": {},
   "outputs": [],
   "source": [
    "f(x)=e^(2*x)*(2*cosh(x)+sinh(x))\n",
    "show(f(ln(2)))\n",
    "g(x)=sech(x)^2\n",
    "show(g(ln(2)))\n",
    "h(x)=e^x*(tanh(x)-sech(x)^2)/tanh(x)^2\n",
    "show(h(ln(2)))"
   ]
  },
  {
   "cell_type": "code",
   "execution_count": null,
   "metadata": {},
   "outputs": [],
   "source": [
    "# Add circular gridlines\n",
    "circular_gridlines = Graphics()\n",
    "for r in [0.5, 1, 1.5, 2, 2.5, 3, 3.5, 4]:  # Adjust radii as needed\n",
    "    circular_gridlines += circle((0, 0), r, linestyle=\"--\", color=\"red\", alpha=0.6)\n",
    "\n",
    "x=var('x')\n",
    "show(n(sqrt(3+9)))\n",
    "show(n(pi/3))\n",
    "show(polar_plot(3+2*cos(4*x), (x, -pi, pi), figsize=4) + circular_gridlines)\n",
    "show(polar_plot(2+2*sin(6*x), (x, 7*pi/12, 11*pi/12), figsize=4))\n",
    "show(polar_plot(6*cos(x), (x, -pi, pi), figsize=4))\n",
    "show(polar_plot(4.5/(1+cos(x)), (x, -pi/2, pi/2), figsize=4))\n",
    "f(x)=(2*x+1)*(sech(x^2+x)^2+1/(1-(2*x+1)^2))\n",
    "show(f(0))"
   ]
  },
  {
   "cell_type": "markdown",
   "metadata": {
    "jp-MarkdownHeadingCollapsed": true
   },
   "source": [
    "### Module 8 - Hyperbolic Functions"
   ]
  },
  {
   "cell_type": "markdown",
   "metadata": {},
   "source": [
    "$$\\sinh{x}=\\frac{e^x-e^{-x}}{2}$$\n",
    "$$\\cosh{x}=\\frac{e^x+e^{-x}}{2}$$\n",
    "$$\\tanh{x}=\\frac{e^x-e^{-x}}{e^x+e^{-x}}$$\n",
    "$$\\mathrm{csch}\\hspace{2px}x=\\frac{2}{e^x-e^{-x}}$$\n",
    "$$\\mathrm{sech}\\hspace{2px}x=\\frac{2}{e^x+e^{-x}}$$\n",
    "$$\\mathrm{coth}\\hspace{2px}x=\\frac{e^x+e^{-x}}{e^x-e^{-x}}$$\n",
    "\n",
    "$$\\mathrm{arcsinh}\\hspace{2px}x=\\ln{(x+\\sqrt{x^2+1})}$$\n",
    "$$\\mathrm{arccosh}\\hspace{2px}x=\\ln{(x+\\sqrt{x^2-1})}$$\n",
    "for $x\\geqslant1$\n",
    "$$\\mathrm{arctanh}\\hspace{2px}x=\\frac{1}{2}\\ln{(\\frac{x+1}{x-1})}$$\n",
    "for $-1\\geqslant x \\geqslant1$\n",
    "\n",
    "$$f(x)=\\sinh{x}$$\n",
    "$$f'(x)=\\cosh{x}$$\n",
    "$$f''(x)=\\sinh{x}$$\n",
    "$$g(x)=\\tanh{x}$$\n",
    "$$g'(x)=\\mathrm{sech}^2{x}$$\n",
    "$$h(x)=\\mathrm{cosech}{x}$$\n",
    "$$h'(x)=-\\mathrm{cosech}{x}\\mathrm{coth}{x}$$\n",
    "$$y=\\mathrm{sech}{x}$$\n",
    "$$y'=-\\mathrm{sech}{x}\\tanh{x}$$\n",
    "$$\\frac{\\mathrm{d}}{\\mathrm{d}x}\\mathrm{coth}{x}=-\\mathrm{cosech}^2{x}$$\n",
    "\n",
    "$$\\int\\frac{1}{\\sqrt{x^2-a^2}}\\mathrm{d}x=\\cosh^{-1}\\frac{x}{a}+c$$\n",
    "$$\\int\\frac{1}{\\sqrt{a^2+x^2}}\\mathrm{d}x=\\sinh^{-1}\\frac{x}{a}+c$$\n",
    "$$\\frac{\\mathrm{d}}{\\mathrm{d}x}\\frac{1}{a}\\tanh^{-1}\\frac{x}{a}=\\frac{1}{a^2-x^2}$$\n",
    "\n",
    "$$\\int\\tanh{x}\\mathrm{d}x=\\ln{(\\cosh{x})}+c$$\n",
    "$$\\int\\mathrm{coth}{x}{d}x=\\ln{(sinh{x})}+c$$"
   ]
  },
  {
   "cell_type": "code",
   "execution_count": null,
   "metadata": {},
   "outputs": [],
   "source": [
    "# Ex. 16 Working with Hyperbolic Functions\n",
    "a=sinh(1)\n",
    "b=cosh(1)\n",
    "f(x)=3*cosh(2*x)*cosh(3*x)-2*sinh(2*x)*sinh(3*x)\n",
    "g(x)=cosh(5*x)+5*cosh(x)\n",
    "show(n(e*(a+b)))\n",
    "show(n((b-a)/e))\n",
    "show(n(e*(a-b)/a^2))\n",
    "show(n( -(a+b)/(e*a^2) ))\n",
    "show(n(f(ln(2))-f(0)/5))\n",
    "show(n(g(ln(2))-g(0)/10))"
   ]
  },
  {
   "cell_type": "code",
   "execution_count": null,
   "metadata": {},
   "outputs": [],
   "source": [
    "# Ex. 15 Hyperbolic Functions\n",
    "x=var('x')\n",
    "f(x)=6*x^4-17*x^3+12*x^2-7*x+6\n",
    "show(arctanh(0.9))\n",
    "show(n(log((3+sqrt(30))/7)))\n",
    "show(n(log(1/sqrt(5))))\n",
    "show(f(2))\n",
    "show(f(3))\n",
    "show(f(5))\n",
    "show(f(1/2))\n",
    "show(f(1/3))\n",
    "show(f(1/5))\n",
    "show(plot(f(x), (x, -3, 3), figsize=3))"
   ]
  },
  {
   "cell_type": "code",
   "execution_count": null,
   "metadata": {},
   "outputs": [],
   "source": [
    "# Hyperbolic plots\n",
    "x=var('x')\n",
    "show(plot(sinh(x), (x, -5, 5), figsize=3))\n",
    "show(plot(cosh(x), (x, -5, 5), figsize=3))\n",
    "show(plot(tanh(x), (x, -5, 5), figsize=3))\n",
    "show(plot(csch(x), (x, -1, -0.1), figsize=3))\n",
    "show(plot(sech(x), (x, -5, 5), figsize=3))\n",
    "show(plot(coth(x), (x, -1, 1), figsize=3))"
   ]
  },
  {
   "cell_type": "markdown",
   "metadata": {
    "jp-MarkdownHeadingCollapsed": true
   },
   "source": [
    "### Module 7 - An Introduction to Polar Coordinates"
   ]
  },
  {
   "cell_type": "code",
   "execution_count": null,
   "metadata": {},
   "outputs": [],
   "source": [
    "x=var('x')\n",
    "show(n(pi/2))\n",
    "show(n(pi/4))\n",
    "show(n(5*pi/3))\n",
    "show(n(pi-arctan(4/3)))\n",
    "show(n(sqrt(3)))\n",
    "show(polar_plot(2*cos(x), (x, 0, 2*pi), figsize=3))\n",
    "show(polar_plot(cos(x)+sqrt(cos(x)^2+4), (x, 0, 2*pi), figsize=3))"
   ]
  },
  {
   "cell_type": "markdown",
   "metadata": {
    "jp-MarkdownHeadingCollapsed": true
   },
   "source": [
    "### Assessment 2"
   ]
  },
  {
   "cell_type": "code",
   "execution_count": null,
   "metadata": {},
   "outputs": [],
   "source": [
    "show(n(ln(5)))\n",
    "f(x)=x+x^3/12+x^5/80\n",
    "show(n(f(4/3)))\n",
    "g(x)=-cos(6*x)+6*cos(4*x)-15*cos(2*x)+10\n",
    "show(n((g(pi/2)-g(pi/4))/32))\n",
    "show(n(integrate(sin(x)^6, (x, pi/4, pi/2))))"
   ]
  },
  {
   "cell_type": "code",
   "execution_count": null,
   "metadata": {},
   "outputs": [],
   "source": [
    "x=var('x')\n",
    "t=var('t')\n",
    "y=var('y')\n",
    "f(x)=x^8/8\n",
    "f(4)-f(2)\n",
    "g(x)=-1/x\n",
    "show(g(7)-g(3))\n",
    "h(x)=sin(x)\n",
    "show(n((sin(pi/2)-sin(0))/(pi/2)))\n",
    "parametric_plot((3*cos(t), 2*sin(t)), (t, 0, 2*pi))\n",
    "j(t)=2*t^3/3+3*t^2/2\n",
    "show(j(12)-j(6))\n",
    "show(diff(x*y*(x-1), x, 2))"
   ]
  },
  {
   "cell_type": "markdown",
   "metadata": {
    "jp-MarkdownHeadingCollapsed": true
   },
   "source": [
    "### Module 6 - Complex Numbers - deMoivre's Theorem"
   ]
  },
  {
   "cell_type": "markdown",
   "metadata": {},
   "source": [
    "deMoivre's Theorem :\n",
    "\n",
    "Let $z=r(\\cos{\\theta}+i\\sin{\\theta})$.\n",
    "\n",
    "For any integer n,\n",
    "$$z^n=r^n(\\cos{n\\theta}+i\\sin{n\\theta})$$\n",
    "$$ $$"
   ]
  },
  {
   "cell_type": "markdown",
   "metadata": {},
   "source": [
    "Let $z=\\cos{\\theta}+i\\sin{\\theta}$.\n",
    "\n",
    "Then using deMoivre's Theorem :\n",
    "$$z^n=\\cos{n\\theta}+i\\sin{n\\theta}$$\n",
    "$$z^{-n}=cos{n\\theta}-i\\sin{n\\theta}$$\n",
    "So, \n",
    "$$z^n+z^{-n}=2\\cos{n\\theta}$$\n",
    "$$z^n-z^{-n}=2i\\sin{n\\theta}$$\n",
    "$$ $$"
   ]
  },
  {
   "cell_type": "markdown",
   "metadata": {},
   "source": [
    "$$\\large 1+e^{i\\theta}=e^{i\\frac{\\theta}{2}}e^{-i\\frac{\\theta}{2}}+e^{i\\frac{\\theta}{2}}e^{i\\frac{\\theta}{2}}$$\n",
    "$$\\large =e^{i\\frac{\\theta}{2}}(e^{-i\\frac{\\theta}{2}}+e^{i\\frac{\\theta}{2}})$$\n",
    "$$\\large =2\\cos{\\frac{\\theta}{2}}e^{i\\frac{\\theta}{2}}$$"
   ]
  },
  {
   "cell_type": "code",
   "execution_count": null,
   "metadata": {},
   "outputs": [],
   "source": [
    "# Ex. 12 Complex Exponents\n",
    "64*4"
   ]
  },
  {
   "cell_type": "code",
   "execution_count": null,
   "metadata": {},
   "outputs": [],
   "source": [
    "# Ex. 11 deMoivre's Theorem\n",
    "show(integrate(sin(x)^5, x))\n",
    "show(integrate(cos(7*x), x))\n",
    "4-12/35\n",
    "show(integrate(cos(7*x)-cos(5*x)-3*cos(3*x)+3*cos(x), x, 0, pi/2))\n",
    "f(x)=-cos(7*x)/7-cos(5*x)/5+cos(3*x)+3*cos(x)\n",
    "show(f(pi/2)-f(0))"
   ]
  },
  {
   "cell_type": "markdown",
   "metadata": {},
   "source": [
    "$$\\cos{\\left( 4 \\theta \\right)} = a_0 \\cos^4{\\theta} + a_1 \\cos^3{\\theta} + a_2 \\cos^2{\\theta} + a_3 \\cos{\\theta} + a_4$$"
   ]
  },
  {
   "cell_type": "markdown",
   "metadata": {
    "jp-MarkdownHeadingCollapsed": true
   },
   "source": [
    "### Module 5 - An Introduction to Maclaurin Series"
   ]
  },
  {
   "cell_type": "markdown",
   "metadata": {},
   "source": [
    "Standard Maclaurin Series Expansions\n",
    "\n",
    "$$\\mathrm{f}(x)=\\mathrm{f}(0)+x\\mathrm{f}'(0)+\\frac{x^2}{2!}\\mathrm{f}''(0)+\\dots+ \\frac{x^r}{r!}\\mathrm{f}(r)(0)+\\dots$$\n",
    "\n",
    "$$e^x=1+x+\\frac{x^2}{2!}+\\dots+\\frac{x^r}{r!}+\\dots$$\n",
    "\n",
    "$$\\ln(1+x)=x-\\frac{x^2}{2}+\\frac{x^3}{3}-\\dots+(-1)^{r+1}\\frac{x^r}{r}+\\dots$$ \n",
    "\n",
    "for $-1\\lt x\\leqslant1$\n",
    "\n",
    "$$\\sin{x}=x-\\frac{x^3}{3!}+\\frac{x^5}{5!}-\\dots+(-1)^r\\frac{x^{2r+1}}{(2r+1)!}+\\dots$$\n",
    "\n",
    "$$\\cos{x}=1-\\frac{x^2}{2!}+\\frac{x^4}{4!}-\\dots+(-1)^r\\frac{x^{2r}}{(2r)!}+\\dots$$"
   ]
  },
  {
   "cell_type": "code",
   "execution_count": null,
   "metadata": {},
   "outputs": [],
   "source": [
    "x=var('x')\n",
    "show(plot(log((1-2*x)/(1+2*x)^2), x, -20, 0.5))"
   ]
  },
  {
   "cell_type": "markdown",
   "metadata": {},
   "source": [
    "$$\\ln{\\sqrt{\\frac{1-x}{1+x}}}$$\n",
    "$$\\downarrow$$\n",
    "$$\\frac{\\ln{\\frac{1-x}{1+x}}}{2}$$"
   ]
  },
  {
   "cell_type": "code",
   "execution_count": null,
   "metadata": {},
   "outputs": [],
   "source": [
    "# Ex. 10\n",
    "x=var('x')\n",
    "f(x)=2*x+2*x^3/3\n",
    "show((e^(3*x)-e^(-x))/e^x)\n",
    "n(f(1/3))\n",
    "show(diff(ln(1+x)*e^x, x))\n",
    "show(diff(e^x/(1+x), x))\n",
    "show(diff(e^x/(1+x)^2, x))\n",
    "show(diff(arcsin(x), x))\n",
    "show(diff(arcsin(x), x, 2))\n",
    "show(diff(arcsin(x), x, 3))"
   ]
  },
  {
   "cell_type": "code",
   "execution_count": null,
   "metadata": {},
   "outputs": [],
   "source": [
    "# Ex. 09 con.\n",
    "x=var('x')\n",
    "y=var('y')\n",
    "show(diff(log(x^2+1), x))\n",
    "show(diff(log(x^2+1), x, 2))\n",
    "show(diff(log(x^2+1), x, 3))\n",
    "show(diff(log(x^2+1), x, 4))\n",
    "show(diff(1-y*x^2, x))\n",
    "show(diff(1-y*x^2, x, 2))\n",
    "show(diff(1-y*x^2, x, 3))"
   ]
  },
  {
   "cell_type": "code",
   "execution_count": null,
   "metadata": {},
   "outputs": [],
   "source": [
    "# (* Ex. 09 con. *)\n",
    "x=var('x')\n",
    "show(diff(cos(x)^2, x))\n",
    "show(diff(-sin(2*x), x))\n",
    "show(diff(arctan(x), x))\n",
    "show(diff(diff(arctan(x), x), x))\n",
    "show(diff(diff(diff(arctan(x), x), x), x))"
   ]
  },
  {
   "cell_type": "code",
   "execution_count": null,
   "metadata": {},
   "outputs": [],
   "source": [
    "Series[Tan[x], {x, 0, 5}]\n",
    "Series[Cos[x]^2, {x, 0, 4}]\n",
    "Series[ArcTan[x], {x, 0, 5}]\n",
    "Series[E^(x^2), {x, 0, 4}]"
   ]
  },
  {
   "cell_type": "markdown",
   "metadata": {},
   "source": [
    "$$\\mathrm{f}(x)=\\tan(x)$$\n",
    "\n",
    "$$\\mathrm{f}^{(4)}(x)=16\\tan(x)+40\\tan^3(x)+24\\tan^5(x)$$\n",
    "\n",
    "$$\\mathrm{f}^{(5)}(x)=16+136\\tan^2(x)+240\\tan^4(x)+120\\tan^6(x)$$"
   ]
  },
  {
   "cell_type": "code",
   "execution_count": null,
   "metadata": {},
   "outputs": [],
   "source": [
    "(* Ex. 09 Maclaurin Series *)\n",
    "Expand[(1-x+x^2/2-x^3/6)(1+x+x^2/2+x^3/6)]\n",
    "D[Tan[x], x]  (* Tan[x]^2+1 *)af\n",
    "D[Tan[x]^2, x]  (* 2Tan[x]+2Tan[x]^3 *)\n",
    "D[Tan[x]^3, x]  (* 3Tan[x]^2+3Tan[x]^4 *)\n",
    "D[Tan[x]^4, x]  (* 4Tan[x]^3+4Tan[x]^5 *)\n",
    "D[Tan[x]^5, x]  (* 5Tan[x]^4+5Tan[x]^6 *)"
   ]
  },
  {
   "cell_type": "markdown",
   "metadata": {
    "jp-MarkdownHeadingCollapsed": true
   },
   "source": [
    "### Module 4 - Applications of Integration"
   ]
  },
  {
   "cell_type": "markdown",
   "metadata": {},
   "source": [
    "Parametric Rewriting for Volume of Revolution\n",
    "\n",
    "For parametric equations, when t is the unit($a \\leqslant t \\leqslant b$) : \n",
    "\n",
    "For rotation about the $x$ axis, \n",
    "\n",
    "$$V_x = \\pi\\int^{x_b}_{x_a} y^2 \\mathrm{d}x = \\pi\\int^{b}_{a} y^2 \\frac{\\mathrm{d}x} {\\mathrm{d}t}\\mathrm{d}t$$\n",
    "\n",
    "For rotation about the $y$ axis, \n",
    "\n",
    "$$V_y=\\pi\\int^{y_b}_{y_a} x^2 \\mathrm{d}y = \\pi\\int^{b}_{a} x^2 \\frac{\\mathrm{d}y}{\\mathrm{d}t}\\mathrm{d}t$$\n",
    "\n",
    "If not parametric equations, then just use first part of formula."
   ]
  },
  {
   "cell_type": "code",
   "execution_count": null,
   "metadata": {},
   "outputs": [],
   "source": [
    "(* Ex. 08 The mean of a Function *)\n",
    "4/(3Pi)//N\n",
    "(Sqrt[Pi]/2)^2"
   ]
  },
  {
   "cell_type": "code",
   "execution_count": null,
   "metadata": {},
   "outputs": [],
   "source": [
    "(* Ex. 08 The mean of a Function *)\n",
    "Expand[(x^2+2)^2]\n",
    "2/Sqrt[3]//N\n",
    "(32/5+32/3+8)/2//N   (* Find mean values by using definite integral to calculate area *)\n",
    "(E^5-27/2)/5//N\n",
    "(Log[4]-Log[6]+Log[3])/2/3//N"
   ]
  },
  {
   "cell_type": "code",
   "execution_count": null,
   "metadata": {},
   "outputs": [],
   "source": [
    "Plot[2ArcCos[x], {x, 0, 1}]"
   ]
  },
  {
   "cell_type": "code",
   "execution_count": null,
   "metadata": {},
   "outputs": [],
   "source": [
    "f[t_]:=-4Sin[t]^3\n",
    "Plot[f[t], {t, -3Pi, 3Pi}]"
   ]
  },
  {
   "cell_type": "code",
   "execution_count": null,
   "metadata": {},
   "outputs": [],
   "source": [
    "(* Ex 07 Volumes of Revolution *)\n",
    "Pi(2^5-1^5)*0.6//N\n",
    "Expand[(x^2+1)^2]\n",
    "348Pi/5//N\n",
    "62Pi/5//N\n",
    "Pi^2/2//N\n",
    "16Pi/3//N\n",
    "Integrate[-4Sin[t]^3, {t, Pi, 0}]\n",
    "Integrate[-4Sin[t]t^2, {t, 0, Pi/2}]//N\n",
    "Pi*Integrate[4-x^2, {x, 0, 2}]//N\n",
    "256Pi/105//N\n",
    "Pi*Integrate[-2x^2/Sqrt[1-x^2], {x, 0, Pi}]//N\n",
    "Pi*Integrate[(2x-x^3/2), {x, 0, 2}]//N\n",
    "128Pi/21//N"
   ]
  },
  {
   "cell_type": "code",
   "execution_count": null,
   "metadata": {},
   "outputs": [],
   "source": [
    "(* Plot revolution *)\n",
    "f[x_] := Sqrt[3 x - 2]  (*MMA 空格 是乘号 *)\n",
    "RevolutionPlot3D[f[x], {x, 0, 5}, RevolutionAxis -> \"x\",  AspectRatio -> 1]"
   ]
  },
  {
   "cell_type": "markdown",
   "metadata": {
    "jp-MarkdownHeadingCollapsed": true
   },
   "source": [
    "### Module 3 - Further Differentiation and Integration"
   ]
  },
  {
   "cell_type": "markdown",
   "metadata": {},
   "source": [
    "Integration methods :\n",
    "\n",
    "$$\\int f'(x)g'(f(x))=g(f(x))+c$$\n",
    "\n",
    "$$\\int \\frac{f'(x)}{f(x)}\\hspace{1px}\\mathrm{d}x=\\ln{f(x)}+c$$\n",
    "\n",
    "\n",
    "Trigonometric identities for integration :\n",
    "\n",
    "$$\\cos^2{x}\\equiv\\frac{1}{2}(1+\\cos{2x})$$\n",
    "\n",
    "$$\\sin^2{x}\\equiv\\frac{1}{2}(1-\\cos{2x})$$"
   ]
  },
  {
   "cell_type": "markdown",
   "metadata": {},
   "source": [
    "$x^2+25=169(yz+144)/(288+144x+16y-9z+xyz)$\n",
    "\n",
    "$y^2+153=169(xz+16)/(288+144x+16y-9z+xyz)$\n",
    "\n",
    "$z^2+160=169(xy-9)/(288+144x+16y-9z+xyz)$"
   ]
  },
  {
   "cell_type": "markdown",
   "metadata": {},
   "source": [
    "$$\\hspace{10px} \\dfrac{\\mathrm{d}y}{\\mathrm{d}x} = - \\mathrm{cosec}^2 \\hspace{2px} \\left(\\frac{x}{a} \\right)$$\n",
    "$$\\hspace{10px} \\dfrac{\\mathrm{d}y}{\\mathrm{d}x} = \\tan{\\left( \\frac{x}{a} \\right)} \\sec{\\left( \\frac{x}{a}\\right)}$$\n",
    "$$\\hspace{10px} \\dfrac{\\mathrm{d}y}{\\mathrm{d}x} = \\dfrac{a^2}{\\sqrt{1 - \\left( ax \\right)^2} }$$\n",
    "$$\\hspace{10px} \\dfrac{\\mathrm{d}y}{\\mathrm{d}x} = -\\cot{\\left( \\frac{x}{a} \\right)} \\hspace{2px} \\mathrm{cosec} \\hspace{2px} \\left( \\frac{x}{a} \\right)$$\n",
    "$$\\hspace{10px} \\dfrac{\\mathrm{d}y}{\\mathrm{d}x} = -\\dfrac{a^2}{\\sqrt{1 - \\left( ax \\right)^2}}$$\n",
    "$$\\hspace{10px} \\dfrac{\\mathrm{d}y}{\\mathrm{d}x} = \\dfrac{a^2}{1 + \\left( ax \\right)^2}$$"
   ]
  },
  {
   "cell_type": "code",
   "execution_count": null,
   "metadata": {},
   "outputs": [],
   "source": [
    "(* Ass. 1 Calc (con.) *)\n",
    "mat1={{1, 2, 4}, {2, 4, 5}, {0, 1, 2}};\n",
    "mat2={{-3}, {3}, {6}};\n",
    "Inverse[mat1].mat2//MatrixForm\n",
    "D[Tan[x],x]\n",
    "D[Log[u],u]\n",
    "D[Cos[x]^2,x]\n",
    "Integrate[Sec[x]^2,x]\n",
    "Integrate[Sec[x]^2Tan[x],x]\n",
    "D[Cos[3x]^5,x]\n",
    "(Log[16]-Log[2])/2//N\n",
    "Pi/9//N\n",
    "(ArcTan[2]-ArcTan[2/Sqrt[3]])/(2Sqrt[3])//N"
   ]
  },
  {
   "cell_type": "code",
   "execution_count": null,
   "metadata": {},
   "outputs": [],
   "source": [
    "(* Assessment 1 Calculation *)\n",
    "4-18+6-10\n",
    "20-12-8+36\n",
    "72-16-24+40\n",
    "mat1={{12, 3, -4}, {3, 4, 12}, {4, -12, 3}};\n",
    "Det[mat1]\n",
    "MatrixForm[Transpose[mat1].mat1]\n",
    "MatrixForm[mat1]\n",
    "FactorInteger[2197]\n",
    "Inverse[mat1]"
   ]
  },
  {
   "cell_type": "code",
   "execution_count": null,
   "metadata": {},
   "outputs": [],
   "source": [
    "N[(Pi-2)/16]\n",
    "N[12-3Pi]\n",
    "D[Cos[x]^3,x]"
   ]
  },
  {
   "cell_type": "code",
   "execution_count": null,
   "metadata": {},
   "outputs": [],
   "source": [
    "1/(2Sqrt[1-3^2])==1/Sqrt[4-4*(3^2)]\n",
    "N[Pi/(3Sqrt[3])]\n",
    "f[x_]:=ArcTan[(3/4)x]/4\n",
    "N[f[4/3]-f[0]]\n",
    "Integrate[Cot[x],x]\n",
    "D[Cot[x],x]\n",
    "g[x_]:=(-Csc[x/2-1]^2)/2\n",
    "g[3]"
   ]
  },
  {
   "cell_type": "code",
   "execution_count": null,
   "metadata": {},
   "outputs": [],
   "source": [
    "D[Cot[x],x]\n",
    "D[ArcCos[x],x]\n",
    "Integrate[Sec[x]^2,x]\n",
    "D[Sin[x]^4,x]\n",
    "Integrate[1/Sqrt[4-3x^2],{x,0,1}]\n",
    "D[ArcSin[Sqrt[3/4]x]/2,x]\n",
    "D[ArcTan[(3/4)x]/4,x]"
   ]
  },
  {
   "cell_type": "code",
   "execution_count": null,
   "metadata": {},
   "outputs": [],
   "source": [
    "D[Sin[1/x],x]\n",
    "D[Log[2x],x]\n",
    "D[Csc[x],x]\n",
    "D[ArcTan[x],x]\n",
    "D[Sec[x],x]"
   ]
  },
  {
   "cell_type": "markdown",
   "metadata": {
    "jp-MarkdownHeadingCollapsed": true
   },
   "source": [
    "### Module 2 - Mathematical Induction"
   ]
  },
  {
   "cell_type": "markdown",
   "metadata": {},
   "source": [
    "For mathematical induction if $n=k$ then $n=k+1$ so if for $n=1$ the claim is true then for $\\Z_+$.\n",
    "\n",
    "For series use formula to check if $n=k+1$ will be true.\n",
    "\n",
    "For divisibility check if $u_{k+1}-u_k$ is divisible by $n$."
   ]
  },
  {
   "cell_type": "code",
   "execution_count": null,
   "metadata": {},
   "outputs": [],
   "source": [
    "n=1\n",
    "n=3n+4\n",
    "n=3n+4\n",
    "n=3n+4\n",
    "f[x_]:=3^x-2\n",
    "f[1]\n",
    "f[2]\n",
    "f[3]\n",
    "f[4]"
   ]
  },
  {
   "cell_type": "markdown",
   "metadata": {
    "jp-MarkdownHeadingCollapsed": true
   },
   "source": [
    "### Module 1 - Determinant and Inverse of 3 by 3 Matrix"
   ]
  },
  {
   "cell_type": "code",
   "execution_count": null,
   "metadata": {},
   "outputs": [],
   "source": [
    "mat1={{1, 0, 0}, {0, 0, 1}, {0, -1, 0}}//MatrixForm"
   ]
  },
  {
   "cell_type": "code",
   "execution_count": null,
   "metadata": {},
   "outputs": [],
   "source": [
    "mat1={{1, 0, 0}, {0, 0, 1}, {0, -1, 0}}//MatrixForm\n",
    "mat2={{0, -1, 0}, {1, 0, 0}, {0, 0, 1}};\n",
    "mat3=mat1.mat2;\n",
    "mat4={{-1, 0, 0}, {0, -1, 0}, {0, 0, 1}};\n",
    "mat5={{13, 53, 10}, {4, -7, -2}, {2, -8, -1}}/9;\n",
    "mat6={{3}, {-2}, {4}};\n",
    "mat7={{1, 1, -1}, {0, 6, 2}, {-3, 1, 1}};\n",
    "MatrixForm[mat3]\n",
    "MatrixForm[mat2.mat1]\n",
    "Det[mat3]-Det[mat1]Det[mat2]\n",
    "MatrixForm[mat4.mat4]\n",
    "MatrixForm[mat5.mat6]\n",
    "Det[mat7]"
   ]
  },
  {
   "cell_type": "code",
   "execution_count": null,
   "metadata": {},
   "outputs": [],
   "source": [
    "dist=BinomialDistribution[40,0.2];\n",
    "ans=1-CDF[dist,11]"
   ]
  },
  {
   "cell_type": "code",
   "execution_count": null,
   "metadata": {},
   "outputs": [],
   "source": [
    "dist=NormalDistribution[12,3.5/40];\n",
    "ans=CDF[dist,10.8]"
   ]
  },
  {
   "cell_type": "code",
   "execution_count": null,
   "metadata": {},
   "outputs": [],
   "source": [
    "dist=NormalDistribution[12,3.5];\n",
    "N[CDF[dist,15]-CDF[dist,10]]"
   ]
  },
  {
   "cell_type": "code",
   "execution_count": null,
   "metadata": {},
   "outputs": [],
   "source": [
    "dist=NormalDistribution[];\n",
    "quan1=Quantile[dist,0.05]\n",
    "quan2=Quantile[dist,0.75]"
   ]
  },
  {
   "cell_type": "code",
   "execution_count": null,
   "metadata": {},
   "outputs": [],
   "source": [
    "mat1={{1, 1, 1}, {x, y, z}, {x^2, y^2, z^2}}//MatrixForm;\n",
    "mat2={{p, q, r}, {p^2, q^2, r^2}, {qr, pr, pq}};\n",
    "Det[mat1]\n",
    "Simplify[Det[mat2]]\n",
    "12*2-53*4-3*5*10+3*53-2*10+4*12*5\n",
    "3*4-3*3-2*5*4-2*2"
   ]
  },
  {
   "cell_type": "markdown",
   "metadata": {
    "jp-MarkdownHeadingCollapsed": true
   },
   "source": [
    "## ★Further Y12-1"
   ]
  },
  {
   "cell_type": "markdown",
   "metadata": {
    "jp-MarkdownHeadingCollapsed": true
   },
   "source": [
    "### Module 7 - Vectors 1"
   ]
  },
  {
   "cell_type": "code",
   "execution_count": null,
   "metadata": {},
   "outputs": [],
   "source": [
    "ArcCos[0.44141]*180/Pi"
   ]
  },
  {
   "cell_type": "code",
   "execution_count": null,
   "metadata": {},
   "outputs": [],
   "source": [
    "44+29\n",
    "29*4-30\n",
    "3*29-21"
   ]
  },
  {
   "cell_type": "code",
   "execution_count": null,
   "metadata": {},
   "outputs": [],
   "source": [
    "N[Sqrt[(73/29)^2+(86/29)^2+(66/29)^2]]"
   ]
  },
  {
   "cell_type": "code",
   "execution_count": null,
   "metadata": {},
   "outputs": [],
   "source": [
    "N[Sqrt[(27/10)^2+(9/10)^2]]"
   ]
  },
  {
   "cell_type": "code",
   "execution_count": null,
   "metadata": {},
   "outputs": [],
   "source": [
    "Sqrt[75]\n",
    "N[7*5Sqrt[3]/14]"
   ]
  },
  {
   "cell_type": "code",
   "execution_count": null,
   "metadata": {},
   "outputs": [],
   "source": [
    "N[ArcCos[11/14]*180/Pi]"
   ]
  },
  {
   "cell_type": "code",
   "execution_count": null,
   "metadata": {},
   "outputs": [],
   "source": [
    "vec1={{2}, {3}, {2}};\n",
    "vec2={{6}, {-2}, {1}};\n",
    "vec1-vec2*3/2 "
   ]
  },
  {
   "cell_type": "code",
   "execution_count": null,
   "metadata": {},
   "outputs": [],
   "source": [
    "(-2/7)^2+(8/7)^2+(18/7)^2"
   ]
  },
  {
   "cell_type": "markdown",
   "metadata": {},
   "source": [
    "Angle between 2 vectors\n",
    "\n",
    "$\\cos{\\theta}=\\large\\frac{a_1b_1+a_2b_2}{|\\mathbf{a}||\\mathbf{b}|}$\n",
    "\n",
    "Scalar Product/Dot Product\n",
    "\n",
    "$\\mathbf{a}\\mathbf{b}=ab\\cos{\\theta}$\n",
    "\n",
    "$\\mathbf{a}\\mathbf{b}=a_1b_1+a_2b_2$"
   ]
  },
  {
   "cell_type": "markdown",
   "metadata": {
    "jp-MarkdownHeadingCollapsed": true
   },
   "source": [
    "### Module 3 and 6 - Further Algebra and Functions 1 and 2"
   ]
  },
  {
   "cell_type": "code",
   "execution_count": null,
   "metadata": {},
   "outputs": [],
   "source": [
    "mat1={{1, -1, 2}, {2, 1, 1}, {2, -2, 1}};\n",
    "mat2=Inverse[mat1];\n",
    "mat3={{9}, {0}, {3}};\n",
    "mat4=mat2.mat3;\n",
    "f[x_]:=x(x+1)/2\n",
    "g[x_]:=x(x+1)(2x+1)/6\n",
    "h[x_]:=2g[x]+3f[x]\n",
    "j[x_]:=x^2-17x+22\n",
    "k[x_]:=x(x+1)^2\n",
    "MatrixForm[mat2]\n",
    "MatrixForm[mat4]\n",
    "36*7\n",
    "f[50]-f[20]\n",
    "g[100]-g[90]\n",
    "f[50]-f[15]+5*35\n",
    "h[50]-h[25]\n",
    "j[1]\n",
    "j[3]\n",
    "j[-2]\n",
    "k[30]-k[20]"
   ]
  },
  {
   "cell_type": "code",
   "execution_count": null,
   "metadata": {},
   "outputs": [],
   "source": [
    "f[x_]:=2x(x+1)\n",
    "g[x_]:=x(x+1)(2x+1)+2x\n",
    "h[x_]:=x(x+1)(x+2)(x+3)\n",
    "i[x_]:=x(x-1)(x+1)(x+2)\n",
    "f[20]-f[9]\n",
    "g[10]-g[4]\n",
    "h[1]\n",
    "h[2]\n",
    "h[3]\n",
    "i[1]\n",
    "i[2]\n",
    "i[3]\n",
    "16*4*9"
   ]
  },
  {
   "cell_type": "code",
   "execution_count": null,
   "metadata": {},
   "outputs": [],
   "source": [
    "35*4.2\n",
    "35*0.42*0.58"
   ]
  },
  {
   "cell_type": "code",
   "execution_count": null,
   "metadata": {},
   "outputs": [],
   "source": [
    "dist=BinomialDistribution[35,0.42];\n",
    "1-CDF[dist,17]"
   ]
  },
  {
   "cell_type": "code",
   "execution_count": null,
   "metadata": {},
   "outputs": [],
   "source": [
    "dist=NormalDistribution[34,4.5];\n",
    "ans=1-CDF[dist,36.2]"
   ]
  },
  {
   "cell_type": "code",
   "execution_count": null,
   "metadata": {},
   "outputs": [],
   "source": [
    "dist=NormalDistribution[];\n",
    "ans=1.5Quantile[dist,0.95]\n",
    "10-ans"
   ]
  },
  {
   "cell_type": "code",
   "execution_count": null,
   "metadata": {},
   "outputs": [],
   "source": [
    "dist=NormalDistribution[1.78,.23];\n",
    "N[CDF[dist,1.82]-CDF[dist,1.82]]\n",
    "N[CDF[dist,1.9]-CDF[dist,1.7]]^2"
   ]
  },
  {
   "cell_type": "code",
   "execution_count": null,
   "metadata": {},
   "outputs": [],
   "source": [
    "45-17-15-4\n",
    "70-31-17-15\n",
    "N[101/240]\n",
    "240-101-7-9\n",
    "123/3\n",
    "N[41/80]\n",
    "240-101-31-17-7-15-4-9\n",
    "101+31+7\n",
    "N[139/195]\n",
    "69.2/40\n",
    "Sqrt[2.81/40]\n",
    "1.78-0.23*2"
   ]
  },
  {
   "cell_type": "code",
   "execution_count": null,
   "metadata": {},
   "outputs": [],
   "source": [
    "dist=BinomialDistribution[20,0.3];\n",
    "N[PDF[dist,1]]\n",
    "N[CDF[dist,3]]\n",
    "1-N[CDF[dist,9]]"
   ]
  },
  {
   "cell_type": "code",
   "execution_count": null,
   "metadata": {},
   "outputs": [],
   "source": [
    "f[x_]:=x^3+4x^2-x+2\n",
    "g[x_]:=5x^2-9x+22\n",
    "h[x_]:=x^2+2x+9\n",
    "f[2]\n",
    "g[4]\n",
    "h[4]"
   ]
  },
  {
   "cell_type": "code",
   "execution_count": null,
   "metadata": {},
   "outputs": [],
   "source": [
    "f[x_]:=4x(4x+1)(8x^2-1)\n",
    "g[x_]:=2(x-1)(2x-1)(8(x-1)^2-1)\n",
    "Expand[f[x]-g[x]]"
   ]
  },
  {
   "cell_type": "code",
   "execution_count": null,
   "metadata": {},
   "outputs": [],
   "source": [
    "n=4;\n",
    "f[x_]:=x(x+1)/2\n",
    "g[x_]:=x(x+1)(2x+1)/6\n",
    "h[x_]:=x^2(x+1)^2/4\n",
    "n(n+1)(8n-5)/6\n",
    "Simplify[Expand[2h[4x]-6g[4x]]]"
   ]
  },
  {
   "cell_type": "code",
   "execution_count": null,
   "metadata": {},
   "outputs": [],
   "source": [
    "n=20;\n",
    "n1=15;\n",
    "n2=4;\n",
    "a=40;\n",
    "b=19;\n",
    "25*51\n",
    "n(n+1)(2n+1)/6\n",
    "15*31+60-5*9-18\n",
    "(n1(n1+1)(2n1+1)-n2(n2+1)(2n2+1))/6\n",
    "2(25*51-1.5*50+9*1.5-5*9)\n",
    "(a(a+1)(2a+1)-b(b+1)(2b+1))*5/6-84\n",
    "Expand[(x+1)(x+2)(x-3)]\n",
    "4*5*9"
   ]
  },
  {
   "cell_type": "code",
   "execution_count": null,
   "metadata": {},
   "outputs": [],
   "source": [
    "n=Pi/6;\n",
    "f[x_]:=Sin[2x]-x\n",
    "g[x_]:=f'[x]\n",
    "g[x]\n",
    "n=N[n-f[n]/g[n]]"
   ]
  },
  {
   "cell_type": "code",
   "execution_count": null,
   "metadata": {},
   "outputs": [],
   "source": [
    "dist=BinomialDistribution[25,0.7];\n",
    "N[1-CDF[dist,20]]"
   ]
  },
  {
   "cell_type": "code",
   "execution_count": null,
   "metadata": {},
   "outputs": [],
   "source": [
    "lower=N[Quantile[NormalDistribution[],0.6]]\n",
    "upper=N[Quantile[NormalDistribution[],0.8]]\n",
    "sd=0.2/(upper-lower)\n",
    "5.9-lower*sd"
   ]
  },
  {
   "cell_type": "code",
   "execution_count": null,
   "metadata": {},
   "outputs": [],
   "source": [
    "dist=NormalDistribution[24500,5200];\n",
    "ans=1-N[CDF[dist, 26730]]"
   ]
  },
  {
   "cell_type": "code",
   "execution_count": null,
   "metadata": {},
   "outputs": [],
   "source": [
    "Expand[(2a-1)(2b-1)+(2a-1)(2c-1)+(2b-1)(2c-1)]"
   ]
  },
  {
   "cell_type": "code",
   "execution_count": null,
   "metadata": {},
   "outputs": [],
   "source": [
    "Simplify[Divide[f[z],z-3]]"
   ]
  },
  {
   "cell_type": "code",
   "execution_count": null,
   "metadata": {},
   "outputs": [],
   "source": [
    "f[z_]:=z^3-z^2+11z-51;\n",
    "Plot[f[z],{z,1,5}]"
   ]
  },
  {
   "cell_type": "markdown",
   "metadata": {},
   "source": [
    "Suppose $ax^2+bx+c=0$ has roots $x=\\alpha$ and $x=\\beta$\n",
    "\n",
    "Then $\\alpha+\\beta=-\\large\\frac{b}{a}$ and $\\alpha\\beta=\\large\\frac{c}{a}$\n",
    "\n",
    "Suppose $ax^3+bx^2+cx+d=0$ has roots $x=\\alpha$, $x=\\beta$ and $x=\\gamma$\n",
    "\n",
    "Then $\\alpha+\\beta+\\gamma=\\large\\frac{-b}{a}$, $\\alpha\\beta+\\alpha\\gamma+\\beta\\gamma=\\large\\frac{c}{a}$, $\\alpha\\beta\\gamma=-\\large\\frac{d}{a}$, $\\alpha^2+\\beta^2+\\gamma^2=(\\alpha+\\beta+\\gamma)^2-2(\\alpha\\beta+\\alpha\\gamma+\\beta\\gamma)$ and $\\large\\frac{1}{\\alpha}+\\large\\frac{1}{\\beta}+\\large\\frac{1}{\\gamma}=\\large \\frac{\\alpha\\beta+\\alpha\\gamma+\\beta\\gamma}{\\alpha\\beta\\gamma}$\n",
    "\n",
    "Suppose $ax^4+bx^3+cx^2+dx+e$ has roots $x=\\alpha$, $x=\\beta$, $x=\\gamma$ and $x=\\delta$\n",
    "\n",
    "Then $\\Sigma\\alpha=-\\large\\frac{b}{a}$, $\\Sigma\\alpha\\beta=\\large\\frac{c}{a}$, $\\Sigma\\alpha\\beta\\gamma=-\\large\\frac{d}{a}$ and $\\alpha\\beta\\gamma\\delta=\\large \\frac{e}{a}$"
   ]
  },
  {
   "cell_type": "code",
   "execution_count": null,
   "metadata": {},
   "outputs": [],
   "source": [
    "b+c+d"
   ]
  },
  {
   "cell_type": "code",
   "execution_count": null,
   "metadata": {},
   "outputs": [],
   "source": [
    "a=3;\n",
    "b=2a;\n",
    "c=a-2;\n",
    "d=1/a;\n",
    "N[b*c+c*d+b*d]"
   ]
  },
  {
   "cell_type": "code",
   "execution_count": null,
   "metadata": {},
   "outputs": [],
   "source": [
    "1+12+18-81"
   ]
  },
  {
   "cell_type": "code",
   "execution_count": null,
   "metadata": {},
   "outputs": [],
   "source": [
    "Expand[(3a+1)(3b+1)(3c+1)]"
   ]
  },
  {
   "cell_type": "code",
   "execution_count": null,
   "metadata": {},
   "outputs": [],
   "source": [
    "Expand[(3a+1)(3b+1)+(3a+1)(3c+1)+(3b+1)(3c+1)]"
   ]
  },
  {
   "cell_type": "code",
   "execution_count": null,
   "metadata": {},
   "outputs": [],
   "source": [
    "-3/4-6+16"
   ]
  },
  {
   "cell_type": "code",
   "execution_count": null,
   "metadata": {},
   "outputs": [],
   "source": [
    "1.5^3-3*3*1.5+3*1"
   ]
  },
  {
   "cell_type": "code",
   "execution_count": null,
   "metadata": {},
   "outputs": [],
   "source": [
    "Expand[(a+b+c)^3]"
   ]
  },
  {
   "cell_type": "code",
   "execution_count": null,
   "metadata": {},
   "outputs": [],
   "source": [
    "1-3/2+6/2-2/2"
   ]
  },
  {
   "cell_type": "code",
   "execution_count": null,
   "metadata": {},
   "outputs": [],
   "source": [
    "1-(a+b+c)+(ab+ac+bc)-abc=1+1.5+3+1"
   ]
  },
  {
   "cell_type": "code",
   "execution_count": null,
   "metadata": {},
   "outputs": [],
   "source": [
    "Expand[(1-a)(1-b)(1-c)]"
   ]
  },
  {
   "cell_type": "markdown",
   "metadata": {
    "jp-MarkdownHeadingCollapsed": true
   },
   "source": [
    "### Modules 2 and 5 - Matrices 1 and 2"
   ]
  },
  {
   "cell_type": "markdown",
   "metadata": {},
   "source": [
    "Matrices for transformations:\n",
    "\n",
    "Reflection in the x axis:\n",
    "\n",
    "$$\\begin{pmatrix}1&&0\\\\0&&-1\\end{pmatrix}$$\n",
    "\n",
    "Reflection in the y axis:\n",
    "\n",
    "$$\\begin{pmatrix}1&&0\\\\0&&1\\end{pmatrix}$$\n",
    "\n",
    "Reflection in the line y=x axis:\n",
    "\n",
    "$$\\begin{pmatrix} 0 && 1 \\\\ 1 && 0 \\end{pmatrix}$$\n",
    "\n",
    "Anticlockwise rotation of theta about the origin:\n",
    "\n",
    "$$\\begin{pmatrix}\\cos{\\theta}&&-\\sin{\\theta}\\\\ \\sin{\\theta}&&\\cos{\\theta}\\end{pmatrix}"
   ]
  },
  {
   "cell_type": "code",
   "execution_count": null,
   "metadata": {},
   "outputs": [],
   "source": [
    "k=5;\n",
    "mat1={{3,1,2},{1, -2, 1}, {-1, 4, 1}};\n",
    "mat2={{k+1, 8, -4}, {-3, k-4, 7}, {3, -11, 2k+3}};\n",
    "mat3={{3, -2, 2}, {2, 3, -1}, {1, 3, 1}};\n",
    "mat4={{2, 3, -4}, {1, -1, -2}, {5, 2, 3}};\n",
    "mat5={{2, 3, -1}, {1, -2, -3}, {1, 5, 2}};\n",
    "mat6=Inverse[mat4];\n",
    "mat7={{11},{8},{7}};\n",
    "mat8=mat6.mat7;\n",
    "Det[mat1]\n",
    "Det[mat3]\n",
    "MatrixForm[mat2]\n",
    "MatrixForm[mat6]\n",
    "Det[mat5]\n",
    "MatrixForm[mat8]"
   ]
  },
  {
   "cell_type": "code",
   "execution_count": null,
   "metadata": {},
   "outputs": [],
   "source": [
    "4*27-7*33\n",
    "3*27+5*33\n",
    "6*3-7*1+5*1\n",
    "6*1+7*2-5*4\n",
    "6*2-7*1-5*1\n",
    "2*3-5*1-1\n",
    "6*16-7*13+5*15\n",
    "2*16-5*13-15\n",
    "13^2-15*7-16*2\n",
    "6*3-2*8-4*22"
   ]
  },
  {
   "cell_type": "code",
   "execution_count": null,
   "metadata": {},
   "outputs": [],
   "source": [
    "f[x_]:=x^3-2x^2-5x+6;\n",
    "g[x_]:=x-1\n",
    "Simplify[f[x]/g[x]]"
   ]
  },
  {
   "cell_type": "code",
   "execution_count": null,
   "metadata": {},
   "outputs": [],
   "source": [
    "p={{1,-2},{3,-2}};\n",
    "q={{-2,1},{1, -2}};\n",
    "r={{-1, -2}, {-3, 4}};\n",
    "MatrixForm[p.q]\n",
    "MatrixForm[r.q]\n",
    "MatrixForm[p.r]"
   ]
  },
  {
   "cell_type": "code",
   "execution_count": null,
   "metadata": {},
   "outputs": [],
   "source": [
    "Det[mat1]"
   ]
  },
  {
   "cell_type": "code",
   "execution_count": null,
   "metadata": {},
   "outputs": [],
   "source": [
    "mat1={{3,-8}, {-5, 7}};\n",
    "MatrixForm[mat1.unitsquare]"
   ]
  },
  {
   "cell_type": "code",
   "execution_count": null,
   "metadata": {},
   "outputs": [],
   "source": [
    "mat1={{-7,-2}, {4, -2}};\n",
    "MatrixForm[mat1.unitsquare]"
   ]
  },
  {
   "cell_type": "code",
   "execution_count": null,
   "metadata": {},
   "outputs": [],
   "source": [
    "mat1={{5,-1},{-3,1}};\n",
    "MatrixForm[mat1.unitsquare]"
   ]
  },
  {
   "cell_type": "code",
   "execution_count": null,
   "metadata": {},
   "outputs": [],
   "source": [
    "unitsquare={{0,0,1,1},{0,1,1,0}};\n",
    "mat1={{2,2},{-1,4}};\n",
    "MatrixForm[mat1.unitsquare]"
   ]
  },
  {
   "cell_type": "code",
   "execution_count": null,
   "metadata": {},
   "outputs": [],
   "source": [
    "mat1={{4,2},{3,6}}\n",
    "Det[mat1]"
   ]
  },
  {
   "cell_type": "markdown",
   "metadata": {},
   "source": [
    "Identity matrices have 1's on the lead diagonal that stretches from the top-left corner to the bottom-right corner.\n",
    "\n",
    "For example, below is 3 by 3 identity matrix:\n",
    "\n",
    "$$\\mathbf{I} = \\begin{pmatrix} 1 && 0&&0 \\\\ 0 && 1&&0\\\\0&&0&&1 \\end{pmatrix}$$"
   ]
  },
  {
   "cell_type": "code",
   "execution_count": null,
   "metadata": {},
   "outputs": [],
   "source": [
    "(* Ex 05 q 7 *)\n",
    "mat1={{-3,2},{-8,5}};\n",
    "mat2={{x},{2x+1}};\n",
    "MatrixForm[mat1.mat2]"
   ]
  },
  {
   "cell_type": "code",
   "execution_count": null,
   "metadata": {},
   "outputs": [],
   "source": [
    "mat1={{3,7},{2,4}};\n",
    "mat2={{2,3},{-1,2}};\n",
    "mat5={{3,6,1},{-4,-2,5}};\n",
    "mat7=IdentityMatrix[3];\n",
    "mat6=mat1.mat5;\n",
    "mat3=mat1*mat2;\n",
    "mat4=mat1.mat2;\n",
    "MatrixForm[mat3]\n",
    "MatrixForm[Transpose[mat1]]\n",
    "MatrixForm[mat6]\n",
    "MatrixForm[mat7]"
   ]
  },
  {
   "cell_type": "code",
   "execution_count": null,
   "metadata": {},
   "outputs": [],
   "source": [
    "mat1={{1,0},{0,1}};\n",
    "mat2={{-1,0},{-1,0}};\n",
    "MatrixForm[mat1.mat2]"
   ]
  },
  {
   "cell_type": "markdown",
   "metadata": {
    "jp-MarkdownHeadingCollapsed": true
   },
   "source": [
    "### Module 1 and 4 - Complex Numbers 1 (Introduction) Complex Numbers 2 (Complex Plane)"
   ]
  },
  {
   "cell_type": "code",
   "execution_count": null,
   "metadata": {},
   "outputs": [],
   "source": [
    "ArcTan[0.5]\n",
    "N[ArcTan[2]]"
   ]
  },
  {
   "cell_type": "code",
   "execution_count": null,
   "metadata": {},
   "outputs": [],
   "source": [
    "N[3E^(3I)]"
   ]
  },
  {
   "cell_type": "code",
   "execution_count": null,
   "metadata": {},
   "outputs": [],
   "source": [
    "Expand[(a+b*I)^3]"
   ]
  },
  {
   "cell_type": "code",
   "execution_count": null,
   "metadata": {},
   "outputs": [],
   "source": [
    "N[2E^I]"
   ]
  },
  {
   "cell_type": "code",
   "execution_count": null,
   "metadata": {},
   "outputs": [],
   "source": [
    "0.1415*-2.4034-1.7954*1.995\n",
    "0.1415*1.7954+1.9950*-2.4034"
   ]
  },
  {
   "cell_type": "code",
   "execution_count": null,
   "metadata": {},
   "outputs": [],
   "source": [
    "N[Cos[-1]]\n",
    "N[Sin[-1]]\n",
    "N[Cos[-2]]\n",
    "N[Sin[-2]]\n",
    "N[Cos[2]]\n",
    "N[Sin[2]]\n",
    "2Cos[1.5]\n",
    "2Sin[1.5]\n",
    "3Cos[2.5]\n",
    "3Sin[2.5]"
   ]
  },
  {
   "cell_type": "code",
   "execution_count": null,
   "metadata": {},
   "outputs": [],
   "source": [
    "(1.081^2+1.683^2)(-0.909^2-0.416^2)"
   ]
  },
  {
   "cell_type": "code",
   "execution_count": null,
   "metadata": {},
   "outputs": [],
   "source": [
    "(3+4I)(3-4I)"
   ]
  },
  {
   "cell_type": "code",
   "execution_count": null,
   "metadata": {},
   "outputs": [],
   "source": [
    "f[z_]:=(2z-2I)/(1+I)-3+I\n",
    "NSolve[f[z],z]"
   ]
  },
  {
   "cell_type": "code",
   "execution_count": null,
   "metadata": {},
   "outputs": [],
   "source": [
    "Pi-ArcTan[1.5]"
   ]
  }
 ],
 "metadata": {
  "kernelspec": {
   "display_name": "SageMath 10.5",
   "language": "sage",
   "name": "sagemath"
  },
  "language_info": {
   "codemirror_mode": {
    "name": "ipython",
    "version": 3
   },
   "file_extension": ".py",
   "mimetype": "text/x-python",
   "name": "python",
   "nbconvert_exporter": "python",
   "pygments_lexer": "ipython3",
   "version": "3.12.5"
  }
 },
 "nbformat": 4,
 "nbformat_minor": 4
}
