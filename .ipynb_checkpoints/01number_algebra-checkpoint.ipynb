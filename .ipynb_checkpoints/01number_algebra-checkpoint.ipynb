{
 "cells": [
  {
   "cell_type": "markdown",
   "metadata": {},
   "source": [
    "# Number & Algebra\n",
    "## Number Theory"
   ]
  },
  {
   "cell_type": "markdown",
   "metadata": {},
   "source": [
    "<img src=\"https://raw.githubusercontent.com/tomctang/NB_img/main/numbersys.png\" alt=\"数系统5层\" width=\"350\">\n",
    "\n",
    "<img src=\"https://raw.githubusercontent.com/tomctang/NB_img/main/自然数整数有理数实数复数.png\" alt=\"自然数-整数-有理数-实数-复数\" width=\"600\">\n",
    "\n",
    "\n",
    "[Pre-calculus by Openstax](https://openstax.org/subjects/math) \n",
    "\n",
    "    Sets\n",
    "    └── Basic Set Concepts, Subsets, Venn Diagrams, Set Operations with Two Sets and Three Sets \n",
    "    Logic & Formulas\n",
    "    ├── Statements and Quantifiers, Compound Statements, Constructing Truth Tables\n",
    "    ├── Truth Tables for Conditional and Biconditional, Equivalent Statements, De Morgan's Laws, Logical Arguments \n",
    "    ├── Propositions from Propositions 命题中的命题, Propositional Logic in Computer Programs 计算机程序中的命题逻辑\n",
    "    └── Equivalence and Validity 等价性和有效性, The Algebra of Propositions 命题的代数, The Sat Problem, Predicate Formulas谓词公式\n",
    "    Proofs\n",
    "    ├── Propositions命题, Predicates谓词, The Axiomatic Method公理化方法, Our Axioms, Proving an Implication证明蕴涵\n",
    "    └── Proving An “If and Only If” 证明“当且仅当, Proof by Cases案例证明, Proof by Contradiction反证法 \n",
    "    Induction 归纳法\n",
    "    └── Ordinary Induction, Strong Induction强归纳法 Vs. Induction Vs. Well Ordering Proofs良序证明, State Machines\n",
    "    Number Systems\n",
    "    ├── Prime and Composite Numbers, Integers, Order of Operations, Rational Numbers, Irrational Numbers\n",
    "    └── Real Numbers, Clock Arithmetic, Exponents, Scientific Notation, Arithmetic Sequences, Geometric Sequences\n",
    "    Number Theory\n",
    "    ├── Divisibility可除性, Greatest Common Divisor最大公约数, Prime, The Fundamental Theorem of Arithmetic 算术基本定理\n",
    "    ├── Alan Turing 阿兰图灵, Modular Arithmetic 模算术, Remainder Arithmetic 余数算术, Turing’S Code (Version 2.0) 图灵密码\n",
    "    └── Multiplicative Inverses and Cancelling乘法逆和抵消, Euler's Theorem, RSA Public Key Encryption 公钥加密\n",
    "    Number Representation and Calculation\n",
    "    ├── Hindu-Arabic Positional System, Early Numeration Systems, Converting with Base Systems\n",
    "    └── Addition and Subtraction in Base Systems, Multiplication and Division in Base Systems\n",
    "    Sequences, Probability and Counting Theory （前面就是组合论了）\n",
    "    ├── Sequences and Their Notations, Arithmetic Sequences, Geometric Sequences, Series and Their Notations\n",
    "    └── Counting Principles, Binomial Theorem, Probability"
   ]
  },
  {
   "cell_type": "markdown",
   "metadata": {},
   "source": [
    "# Algebra"
   ]
  },
  {
   "cell_type": "markdown",
   "metadata": {},
   "source": [
    "[Pre-calculus by Openstax](https://openstax.org/subjects/math) \n",
    "\n",
    "    Algebra\n",
    "    ├── Algebraic Expressions, Linear Equations in One Variable with Applications\n",
    "    ├── Linear Inequalities in One Variable with Applications, Ratios and Proportions, Graphing Linear Equations and Inequalities\n",
    "    ├── Quadratic Equations with Two Variables with Applications, Functions, Graphing Functions\n",
    "    └── Systems of Linear Equations in Two Variables, Systems of Linear Inequalities in Two Variables, Linear Programming\n",
    "    1. Functions\n",
    "    ├── Functions and Function Notation, Domain and Range, Rates of Change and Behavior of Graphs\n",
    "    └── Composition of Functions, Transformation of Functions, Absolute Value Functions, Inverse Functions\n",
    "    2. Linear Functions\n",
    "    └── Linear Functions, Graphs of Linear Functions, Modeling with Linear Functions, Fitting Linear Models to Data\n",
    "    3. Polynomial and Rational Functions\n",
    "    ├── Complex Numbers, Quadratic Functions, Power Functions and Polynomial Functions, Graphs, Dividing Polynomials\n",
    "    └── Zeros of Polynomial Functions, Rational Functions, Inverses and Radical Functions, Modeling Using Variation\n",
    "    4. Exponential and Logarithmic Functions\n",
    "    ├── Exponential Functions, Graphs, Logarithmic Functions, Graphs, Logarithmic Properties\n",
    "    └── Exponential and Logarithmic Equations, Exponential and Logarithmic Models, Fitting Exponential Models to Data \n",
    "    5. Trigonometric Functions\n",
    "    ├── Angles, Unit Circle: Sine and Cosine Functions\n",
    "    └── The Other Trigonometric Functions, Right Triangle Trigonometry\n",
    "    6. Periodic Functions\n",
    "    └── Graphs of the Sine and Cosine Functions, Graphs of the Other Trigonometric Functions, Inverse Trigonometric Functions \n",
    "    7. Trigonometric Identities and Equations\n",
    "    ├── Solving Trigonometric Equations with Identities, Sum and Difference Identities, Double-Angle\n",
    "    ├── Half-Angle, and Reduction Formulas, Sum-to-Product and Product-to-Sum Formulas\n",
    "    └── Solving Trigonometric Equations, Modeling with Trigonometric Functions \n",
    "    8. Applications of Trigonometry\n",
    "    ├── Non-right Triangles: Law of Sines, Law of Cosines, Polar Coordinates, Graphs\n",
    "    └── Polar Form of Complex Numbers, Parametric Equations, Parametric Equations: Graphs, Vectors \n",
    "    9. Systems of Equations and Inequalities\n",
    "    ├── Systems of Linear Equations: Two Variables, Three Variables \n",
    "    ├── Systems of Nonlinear Equations and Inequalities: Two Variables, Partial Fractions, Matrices and Matrix Operations\n",
    "    └── Solving Systems with Gaussian Elimination, Solving Systems with Inverses, Solving Systems with Cramer's Rule\n",
    "    10. Analytic Geometry\n",
    "    └── The Ellipse, The Hyperbola, The Parabola, Rotation of Axes, Conic Sections in Polar Coordinates"
   ]
  },
  {
   "cell_type": "markdown",
   "metadata": {},
   "source": [
    "## Euler’s formula \n",
    "\n",
    "- Euler's formula arises naturally as a solution to differential equations, such as the second-order linear differential equation: $y''+y=0$\n",
    "\n",
    "- Euler’s formula establishes the fundamental relationship btw **exponential** and **trigonometric** functions, and paves the way for much development in the world of complex numbers, complex functions and related theory.\n",
    "- Euler’s formula leave no stone unturned whenever expressions $sin$, $e$, $i$ are involved. It actually complete a ring among these symbols and relationships.\n",
    "\n",
    "<img src=\"https://raw.githubusercontent.com/tomctang/NB_img/main/Euler_formula.png\" alt=\"Euler_formula\" width=\"500\">"
   ]
  },
  {
   "cell_type": "markdown",
   "metadata": {},
   "source": [
    "# Linear Algebra"
   ]
  },
  {
   "cell_type": "markdown",
   "metadata": {},
   "source": [
    "# Abstract Algebra(Group, Ring, Field)\n"
   ]
  },
  {
   "cell_type": "markdown",
   "metadata": {},
   "source": [
    "<img src=\"https://raw.githubusercontent.com/tomctang/NB_img/main/abstract_algebra1.png\" alt=\"abstract_algebra1\" width=\"900\">\n",
    "\n",
    "<img src=\"https://raw.githubusercontent.com/tomctang/NB_img/main/abstract_algebra2.png\" alt=\"abstract_algebra2\" width=\"500\">"
   ]
  }
 ],
 "metadata": {
  "language_info": {
   "name": "python"
  }
 },
 "nbformat": 4,
 "nbformat_minor": 2
}
