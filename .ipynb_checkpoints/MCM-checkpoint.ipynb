{
 "cells": [
  {
   "cell_type": "markdown",
   "id": "22d2a363-c550-49ec-ac59-7ba9e4df8e24",
   "metadata": {},
   "source": [
    "## Mathematical and Computational Methods"
   ]
  },
  {
   "cell_type": "markdown",
   "id": "fbc4617f-1505-448e-b511-17e51c5f7b4a",
   "metadata": {},
   "source": [
    "### Calculus Review"
   ]
  },
  {
   "cell_type": "markdown",
   "id": "8d04b9e1-13a3-488e-a155-06df176745df",
   "metadata": {},
   "source": [
    "Ten Important Identities\n",
    "1. The quadratic equation : $ax^2+bx+c$ has 2 roots $r=\\large\\frac{-b\\pm\\sqrt{b^2-4ac}}{2a}$\n",
    "1. Fundamental trigonometric identity : $\\cos^2{\\theta}+\\sin^2{\\theta}=1$\n",
    "1. Trigonometric Definitions : $\\sec{\\theta}=\\frac{1}{\\cos{\\theta}}\\quad\\tan{\\theta}=\\frac{\\sin{\\theta}}{\\cos{\\theta}}\\quad\\csc{\\theta}=\\frac{1}{\\sin{\\theta}}\\quad\\cot{\\theta}=\\frac{\\cos{\\theta}}{\\sin{\\theta}}$\n",
    "1. Double Angle Formulae : $\\cos{2\\theta}=\\cos^2{\\theta}-\\sin^2{\\theta}\\quad\\sin{2\\theta}=2\\sin{\\theta} \\cos{\\theta}$\n",
    "1. Factorization of the difference of squares : $x^2-a^2=(x+a)(x-a)$\n",
    "\n",
    "1. Geometric Series : $\\Sigma^{\\infty}_{n=0}x^n=\\frac{1}{1-x}$ for $|x|<1$ and $\\Sigma^{N}_{n=0}x^n= \\frac{N!}{n!(N-n)!}x^{N-n}y^n$ for all $x$.\n",
    "1. Binomial Theorem : $(x+y)^N=\\Sigma^{N}_{n=0}\\begin{pmatrix}N\\\\n\\end{pmatrix}x^{Nn}y^n=\\Sigma^{N}_{n=0}\\frac{N!}{n!(N-n)!}x^{N-n}y^n$\n",
    "1. Power series for the exponential : $e^x=\\Sigma^{\\infty}_{n=0}\\frac{1}{n!}x^n$\n",
    "1. Relation for trig functions to exponentials : $\\cos{\\theta}=\\frac{1}{2}(e^{i\\theta}+e^{-i\\theta})$ and $\\sin{\\theta}=\\frac{1}{2i}(e^{i\\theta}-e^{-i\\theta}$\n",
    "n1. Relation of hyp functions to exponentials : $\\cosh{x}=\\frac{1}{2}(e^x+e^{-x})$ and $\\sinh{x}=\\frac{1}{2}(e^x-e^{-x})$"
   ]
  },
  {
   "cell_type": "code",
   "execution_count": null,
   "id": "85513e67-8445-407e-ae0b-ff9a52d26b88",
   "metadata": {
    "scrolled": true
   },
   "outputs": [],
   "source": [
    "m=var('m')\n",
    "f=(sqrt(20*(100-2*sin(m))/49)+sqrt(2000/49))*cot(m)\n",
    "pretty_print(f)\n",
    "for i in [35, 45, 55]:\n",
    "    vy=sqrt(19.6*(100-2*sin(i*pi/180)))\n",
    "    show(n( ( vy*sin(i*pi/180)+sqrt( ((vy*sin(i*pi/180))^2+2*9.8*2 ) ))bb/9.8*vy*cot(i*pi/180) ))"
   ]
  },
  {
   "cell_type": "markdown",
   "id": "a3f6e632-104f-4ad8-9aab-63201d472f24",
   "metadata": {},
   "source": [
    "Correct solution:"
   ]
  },
  {
   "cell_type": "code",
   "execution_count": 44,
   "id": "b015a78f-ea71-4f0f-adf2-7534c0347090",
   "metadata": {},
   "outputs": [
    {
     "data": {
      "text/html": [
       "<html>\\(\\displaystyle \\left\\{\\mathit{vy} : 14 \\, \\sqrt{-\\frac{1}{5} \\, \\sin\\left(\\frac{7}{36} \\, \\pi\\right) + 10}, \\mathit{ty} : \\frac{10}{7} \\, \\sqrt{-\\frac{1}{5} \\, \\sin\\left(\\frac{7}{36} \\, \\pi\\right) + 10}\\right\\}\\)</html>"
      ],
      "text/latex": [
       "$\\displaystyle \\left\\{\\mathit{vy} : 14 \\, \\sqrt{-\\frac{1}{5} \\, \\sin\\left(\\frac{7}{36} \\, \\pi\\right) + 10}, \\mathit{ty} : \\frac{10}{7} \\, \\sqrt{-\\frac{1}{5} \\, \\sin\\left(\\frac{7}{36} \\, \\pi\\right) + 10}\\right\\}$"
      ],
      "text/plain": [
       "{vy: 14*sqrt(-1/5*sin(7/36*pi) + 10), ty: 10/7*sqrt(-1/5*sin(7/36*pi) + 10)}"
      ]
     },
     "metadata": {},
     "output_type": "display_data"
    }
   ],
   "source": [
    "d=pi/180\n",
    "x,y=var('vy,ty')\n",
    "s=solve([vy*ty==(200-4*sin(35*d)), vy==9.8*ty],vy,ty,solution_dict=True)\n",
    "show(s[1])"
   ]
  },
  {
   "cell_type": "code",
   "execution_count": 43,
   "id": "28e60fac-c652-4f37-9baf-46f908adc884",
   "metadata": {},
   "outputs": [
    {
     "data": {
      "text/html": [
       "<html>\\(\\displaystyle 566.339564823947\\)</html>"
      ],
      "text/latex": [
       "$\\displaystyle 566.339564823947$"
      ],
      "text/plain": [
       "566.339564823947"
      ]
     },
     "metadata": {},
     "output_type": "display_data"
    }
   ],
   "source": [
    "vy=14*sqrt(10-sin(7*pi/36)/5)\n",
    "ty=(10/7)*sqrt(10-sin(7*pi/36)/5)\n",
    "D=vy*(cos(35*d)/sin(35*d))*(ty+sqrt(200*ty/vy))\n",
    "show(n(D))"
   ]
  }
 ],
 "metadata": {
  "kernelspec": {
   "display_name": "SageMath 10.5",
   "language": "sage",
   "name": "sagemath"
  },
  "language_info": {
   "codemirror_mode": {
    "name": "ipython",
    "version": 3
   },
   "file_extension": ".py",
   "mimetype": "text/x-python",
   "name": "python",
   "nbconvert_exporter": "python",
   "pygments_lexer": "ipython3",
   "version": "3.12.5"
  }
 },
 "nbformat": 4,
 "nbformat_minor": 5
}
