{
 "cells": [
  {
   "cell_type": "markdown",
   "metadata": {},
   "source": [
    "# [Day 1](https://adventofcode.com/2017/day/1): Inverse Captcha, Part 1\n",
    "\n",
    "Given a sequence of digits, find the sum of those digits which match the following digit. The sequence is presumed circular, so the first digit may match the last digit.\n",
    "\n",
    "This would probably be done the fastest by looping through the sequence."
   ]
  },
  {
   "cell_type": "code",
   "execution_count": 1,
   "metadata": {},
   "outputs": [
    {
     "data": {
      "text/plain": [
       "'1118313623'"
      ]
     },
     "execution_count": 1,
     "metadata": {},
     "output_type": "execute_result"
    }
   ],
   "source": [
    "with open('input.txt', 'r') as f:\n",
    "    seq = f.read()\n",
    "seq = seq.strip()\n",
    "seq[:10]"
   ]
  },
  {
   "cell_type": "code",
   "execution_count": 2,
   "metadata": {
    "collapsed": true
   },
   "outputs": [],
   "source": [
    "def sum_matched_digits(s):\n",
    "    \"Sum of digits which match following digit, and first digit if it matches last digit\"\n",
    "    total = 0\n",
    "    for a,b in zip(s, s[1:]+s[0]):\n",
    "        if a == b:\n",
    "            total += int(a)\n",
    "    return total"
   ]
  },
  {
   "cell_type": "markdown",
   "metadata": {},
   "source": [
    "They provide a few test cases which we use to test our method against."
   ]
  },
  {
   "cell_type": "code",
   "execution_count": 3,
   "metadata": {
    "collapsed": true
   },
   "outputs": [],
   "source": [
    "assert sum_matched_digits('1122') == 3\n",
    "assert sum_matched_digits('1111') == 4\n",
    "assert sum_matched_digits('1234') == 0\n",
    "assert sum_matched_digits('91212129') == 9"
   ]
  },
  {
   "cell_type": "markdown",
   "metadata": {},
   "source": [
    "For fun, this is a oneline version."
   ]
  },
  {
   "cell_type": "code",
   "execution_count": 4,
   "metadata": {
    "collapsed": true
   },
   "outputs": [],
   "source": [
    "def sum_matched_digits_oneliner(s):\n",
    "    return sum(int(a) if a == b else 0 for a,b in zip(s, s[1:]+s[0]))"
   ]
  },
  {
   "cell_type": "code",
   "execution_count": 5,
   "metadata": {},
   "outputs": [],
   "source": [
    "assert sum_matched_digits_oneliner('1122') == 3\n",
    "assert sum_matched_digits_oneliner('1111') == 4\n",
    "assert sum_matched_digits_oneliner('1235') == 0\n",
    "assert sum_matched_digits_oneliner('91212129') == 9"
   ]
  },
  {
   "cell_type": "markdown",
   "metadata": {
    "collapsed": true
   },
   "source": [
    "For more fun, this is a regex version."
   ]
  },
  {
   "cell_type": "code",
   "execution_count": 6,
   "metadata": {
    "collapsed": true
   },
   "outputs": [],
   "source": [
    "import regex\n",
    "\n",
    "def sum_matched_digits_regex(s):\n",
    "    matches = map(int, regex.findall(r'(\\d)\\1', s, overlapped=True))\n",
    "    total = sum(matches)\n",
    "    if s[0] == s[-1]:\n",
    "        total += int(s[0])\n",
    "    return total"
   ]
  },
  {
   "cell_type": "code",
   "execution_count": 7,
   "metadata": {
    "collapsed": true
   },
   "outputs": [],
   "source": [
    "assert sum_matched_digits_regex('1122') == 3\n",
    "assert sum_matched_digits_regex('1111') == 4\n",
    "assert sum_matched_digits_regex('1235') == 0\n",
    "assert sum_matched_digits_regex('91212129') == 9"
   ]
  },
  {
   "cell_type": "markdown",
   "metadata": {},
   "source": [
    "Regardless of which one we use, we find the answer."
   ]
  },
  {
   "cell_type": "code",
   "execution_count": 8,
   "metadata": {},
   "outputs": [
    {
     "name": "stdout",
     "output_type": "stream",
     "text": [
      "1044\n",
      "1044\n",
      "1044\n"
     ]
    }
   ],
   "source": [
    "print(sum_matched_digits(seq))\n",
    "print(sum_matched_digits_oneliner(seq))\n",
    "print(sum_matched_digits_regex(seq))"
   ]
  },
  {
   "cell_type": "markdown",
   "metadata": {},
   "source": [
    "I wonder: is there any sort of time difference between these?"
   ]
  },
  {
   "cell_type": "code",
   "execution_count": 9,
   "metadata": {},
   "outputs": [
    {
     "name": "stdout",
     "output_type": "stream",
     "text": [
      "147 µs ± 9.24 µs per loop (mean ± std. dev. of 7 runs, 10000 loops each)\n"
     ]
    }
   ],
   "source": [
    "%timeit sum_matched_digits(seq)"
   ]
  },
  {
   "cell_type": "code",
   "execution_count": 10,
   "metadata": {},
   "outputs": [
    {
     "name": "stdout",
     "output_type": "stream",
     "text": [
      "229 µs ± 31.5 µs per loop (mean ± std. dev. of 7 runs, 1000 loops each)\n"
     ]
    }
   ],
   "source": [
    "%timeit sum_matched_digits_oneliner(seq)"
   ]
  },
  {
   "cell_type": "code",
   "execution_count": 11,
   "metadata": {},
   "outputs": [
    {
     "name": "stdout",
     "output_type": "stream",
     "text": [
      "230 µs ± 33 µs per loop (mean ± std. dev. of 7 runs, 1000 loops each)\n"
     ]
    }
   ],
   "source": [
    "%timeit sum_matched_digits_regex(seq)"
   ]
  },
  {
   "cell_type": "markdown",
   "metadata": {},
   "source": [
    "I don't know why the oneliner appears to be must slower than the first version. Does this stay true for longer sequences?"
   ]
  },
  {
   "cell_type": "code",
   "execution_count": 12,
   "metadata": {},
   "outputs": [
    {
     "data": {
      "text/plain": [
       "'3443169366'"
      ]
     },
     "execution_count": 12,
     "metadata": {},
     "output_type": "execute_result"
    }
   ],
   "source": [
    "import random\n",
    "randseq = ''\n",
    "for i in range(10**7):\n",
    "    randseq += str(random.randint(0,9))\n",
    "randseq[:10]"
   ]
  },
  {
   "cell_type": "code",
   "execution_count": 13,
   "metadata": {},
   "outputs": [
    {
     "name": "stdout",
     "output_type": "stream",
     "text": [
      "618 ms ± 8.37 ms per loop (mean ± std. dev. of 7 runs, 5 loops each)\n"
     ]
    }
   ],
   "source": [
    "%timeit -n5 sum_matched_digits(randseq)"
   ]
  },
  {
   "cell_type": "code",
   "execution_count": 14,
   "metadata": {},
   "outputs": [
    {
     "name": "stdout",
     "output_type": "stream",
     "text": [
      "1.03 s ± 42.7 ms per loop (mean ± std. dev. of 7 runs, 5 loops each)\n"
     ]
    }
   ],
   "source": [
    "%timeit -n5 sum_matched_digits_oneliner(randseq)"
   ]
  },
  {
   "cell_type": "code",
   "execution_count": 15,
   "metadata": {},
   "outputs": [
    {
     "name": "stdout",
     "output_type": "stream",
     "text": [
      "974 ms ± 27.2 ms per loop (mean ± std. dev. of 7 runs, 5 loops each)\n"
     ]
    }
   ],
   "source": [
    "%timeit -n5 sum_matched_digits_regex(randseq)"
   ]
  },
  {
   "cell_type": "markdown",
   "metadata": {},
   "source": [
    "Yes, the difference in speed is real between the oneline version of the loop and the longform version of the loop. And the regex version and oneline versions appear to converge. I wonder why?"
   ]
  },
  {
   "cell_type": "code",
   "execution_count": 16,
   "metadata": {},
   "outputs": [
    {
     "data": {
      "text/plain": [
       "4500592"
      ]
     },
     "execution_count": 16,
     "metadata": {},
     "output_type": "execute_result"
    }
   ],
   "source": [
    "sum_matched_digits(randseq)"
   ]
  },
  {
   "cell_type": "markdown",
   "metadata": {},
   "source": [
    "## Mathematical Interlude\n",
    "\n",
    "We can compute what we expect the value to be for a random string of digits $d$. Assuming that each digit is randomly selected, we should expect that it has probability $1/10$ of matching the subsequent digit. Thus the expected contribution from each digit is (its value) $\\times \\frac{1}{10}$. The digit itself is $0$ with probability $0.1$, and $1$ with probability $0.1$, and so on. This becomes\n",
    "$$ \\sum_{d = 0}^{10 - 1} \\frac{d}{10} \\times \\frac{1}{10} = \\frac{10(10-1)}{2 \\cdot 10^2} = \\frac{9}{20} = 0.45.$$\n",
    "If there are $n$ (random) digits, then we expect the sum of the digits which match the subsequent digit to be $0.45 n$.\n",
    "\n",
    "In this case, there are $10^7$ digits, and we should expect the sum to be $0.45 \\cdot 10^7 = 4.5 \\cdot 10^6$. How close are we?"
   ]
  },
  {
   "cell_type": "code",
   "execution_count": 17,
   "metadata": {},
   "outputs": [
    {
     "data": {
      "text/plain": [
       "592.0"
      ]
     },
     "execution_count": 17,
     "metadata": {},
     "output_type": "execute_result"
    }
   ],
   "source": [
    "abs(sum_matched_digits(randseq) - 4.5 * 10**6)"
   ]
  },
  {
   "cell_type": "markdown",
   "metadata": {},
   "source": [
    "That's really, really close. How does this apply to the Advent of Code Day 1 problem?"
   ]
  },
  {
   "cell_type": "code",
   "execution_count": 18,
   "metadata": {},
   "outputs": [
    {
     "data": {
      "text/plain": [
       "953.1"
      ]
     },
     "execution_count": 18,
     "metadata": {},
     "output_type": "execute_result"
    }
   ],
   "source": [
    "0.45 * len(seq)"
   ]
  },
  {
   "cell_type": "markdown",
   "metadata": {},
   "source": [
    "Today's problem is about 10 percent more than what we might expect to occur by chance. That's still pretty close, though."
   ]
  },
  {
   "cell_type": "markdown",
   "metadata": {},
   "source": [
    "# Part 2\n",
    "\n",
    "For the second part of the problem, we are tasked with finding the sum of those digits which match the digits half-way away from the string. This only makes sense on even length strings.\n",
    "\n",
    "It's easy enough to modify the loop to do this."
   ]
  },
  {
   "cell_type": "code",
   "execution_count": 19,
   "metadata": {},
   "outputs": [],
   "source": [
    "def sum_matched_digits_with_sep(s, sep):\n",
    "    \"Sum of digits which match the digit sep digits later\"\n",
    "    total = 0\n",
    "    for a,b in zip(s, s[sep:]+s[:sep]):\n",
    "        if a == b:\n",
    "            total += int(a)\n",
    "    return total"
   ]
  },
  {
   "cell_type": "code",
   "execution_count": 20,
   "metadata": {},
   "outputs": [],
   "source": [
    "assert sum_matched_digits_with_sep('1212', 2) == 6\n",
    "assert sum_matched_digits_with_sep('1221', 2) == 0\n",
    "assert sum_matched_digits_with_sep('123425', 3) == 4\n",
    "assert sum_matched_digits_with_sep('123123', 3) == 12\n",
    "assert sum_matched_digits_with_sep('12131415', 4) == 4"
   ]
  },
  {
   "cell_type": "code",
   "execution_count": 21,
   "metadata": {},
   "outputs": [
    {
     "data": {
      "text/plain": [
       "1054"
      ]
     },
     "execution_count": 21,
     "metadata": {},
     "output_type": "execute_result"
    }
   ],
   "source": [
    "sum_matched_digits_with_sep(seq, len(seq)//2)"
   ]
  },
  {
   "cell_type": "markdown",
   "metadata": {},
   "source": [
    "The one-liner can be similarly written. What about the regex?\n",
    "\n",
    "We want to identify a digit, skip `sep - 1` digits, and then check to see if the subsequent digit matches.\n",
    "In principle, we need to worry about wrapping around the string. But we notice that not wrapping around misses exactly half of the matches, so we just double the non-wrapped answer. This leads to the following."
   ]
  },
  {
   "cell_type": "code",
   "execution_count": 22,
   "metadata": {
    "collapsed": true
   },
   "outputs": [],
   "source": [
    "import regex\n",
    "\n",
    "def sum_matched_digits_with_sep_regex(s, sep):\n",
    "    matches = map(int, regex.findall(r'(\\d)\\d{}\\1'.format(\"{\"+str(sep-1)+\"}\"), s, overlapped=True))\n",
    "    total = 2*sum(matches)\n",
    "    return total"
   ]
  },
  {
   "cell_type": "markdown",
   "metadata": {},
   "source": [
    "I don't think I've ever defined a regex \"function\" in this way. I don't particularly like how it interacts with python's string formatting."
   ]
  },
  {
   "cell_type": "code",
   "execution_count": 23,
   "metadata": {},
   "outputs": [],
   "source": [
    "assert sum_matched_digits_with_sep_regex('1212', 2) == 6\n",
    "assert sum_matched_digits_with_sep_regex('1221', 2) == 0\n",
    "assert sum_matched_digits_with_sep_regex('123425', 3) == 4\n",
    "assert sum_matched_digits_with_sep_regex('123123', 3) == 12\n",
    "assert sum_matched_digits_with_sep_regex('12131415', 4) == 4"
   ]
  },
  {
   "cell_type": "code",
   "execution_count": 24,
   "metadata": {},
   "outputs": [
    {
     "data": {
      "text/plain": [
       "1054"
      ]
     },
     "execution_count": 24,
     "metadata": {},
     "output_type": "execute_result"
    }
   ],
   "source": [
    "sum_matched_digits_with_sep_regex(seq, len(seq)//2)"
   ]
  },
  {
   "cell_type": "markdown",
   "metadata": {},
   "source": [
    "## Mathematical Interlude, Part 2\n",
    "\n",
    "It is interesting to note that the expected value is the same as in the consecutive digit case. This is because the probability that two randomly chosen digits agree has nothing to do with the location of the digits. One random digit is as good as another.\n",
    "\n",
    "I will instead note that a similar calculation as above shows that the expected value depends also on the base involved. We arrived at the value $n \\times 9/20 = n \\times (10 - 1)/2 \\cdot 10$ for an $n$ digit number written in base $10$.\n",
    "For an $n$ digit number written in base $b$, the expected value is\n",
    "$$ n \\cdot \\frac{b-1}{2b}.$$\n",
    "This increases as the base increases, and tends towards $n/2$."
   ]
  }
 ],
 "metadata": {
  "kernelspec": {
   "display_name": "Python 3",
   "language": "python",
   "name": "python3"
  },
  "language_info": {
   "codemirror_mode": {
    "name": "ipython",
    "version": 3
   },
   "file_extension": ".py",
   "mimetype": "text/x-python",
   "name": "python",
   "nbconvert_exporter": "python",
   "pygments_lexer": "ipython3",
   "version": "3.6.3"
  }
 },
 "nbformat": 4,
 "nbformat_minor": 2
}
