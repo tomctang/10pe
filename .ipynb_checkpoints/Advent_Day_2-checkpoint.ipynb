{
 "cells": [
  {
   "cell_type": "markdown",
   "metadata": {},
   "source": [
    "# [Day 2](http://adventofcode.com/2017/day/2): Corruption Checksum, part I\n",
    "\n",
    "You are given a table of integers. Find the difference between the maximum and minimum of each row, and add these differences together.\n",
    "\n",
    "There is not a lot to say about this challenge. The plan is to read the file linewise, compute the difference on each line, and sum them up."
   ]
  },
  {
   "cell_type": "code",
   "execution_count": 1,
   "metadata": {
    "collapsed": false
   },
   "outputs": [
    {
     "data": {
      "text/plain": [
       "'5048\\t177\\t5280\\t5058\\t4504\\t3805\\t5735\\t220\\t4362\\t1809\\t1521\\t230\\t772\\t1088\\t178\\t1794\\n'"
      ]
     },
     "execution_count": 1,
     "metadata": {},
     "output_type": "execute_result"
    }
   ],
   "source": [
    "with open(\"input.txt\", \"r\") as f:\n",
    "    lines = f.readlines()\n",
    "lines[0]"
   ]
  },
  {
   "cell_type": "code",
   "execution_count": 2,
   "metadata": {
    "collapsed": false
   },
   "outputs": [
    {
     "data": {
      "text/plain": [
       "['5048',\n",
       " '177',\n",
       " '5280',\n",
       " '5058',\n",
       " '4504',\n",
       " '3805',\n",
       " '5735',\n",
       " '220',\n",
       " '4362',\n",
       " '1809',\n",
       " '1521',\n",
       " '230',\n",
       " '772',\n",
       " '1088',\n",
       " '178',\n",
       " '1794']"
      ]
     },
     "execution_count": 2,
     "metadata": {},
     "output_type": "execute_result"
    }
   ],
   "source": [
    "l = lines[0]\n",
    "l = l.split()\n",
    "l"
   ]
  },
  {
   "cell_type": "code",
   "execution_count": 3,
   "metadata": {
    "collapsed": true
   },
   "outputs": [],
   "source": [
    "def max_minus_min(line):\n",
    "    '''Compute the difference between the largest and smallest integer in a line'''\n",
    "    line = list(map(int, line.split()))\n",
    "    return max(line) - min(line)\n",
    "\n",
    "def sum_differences(lines):\n",
    "    '''Sum the value of `max_minus_min` for each line in `lines`'''\n",
    "    return sum(max_minus_min(line) for line in lines)"
   ]
  },
  {
   "cell_type": "code",
   "execution_count": 4,
   "metadata": {
    "collapsed": false
   },
   "outputs": [],
   "source": [
    "testcase = ['5 1 9 5','7 5 3', '2 4 6 8']\n",
    "assert sum_differences(testcase) == 18"
   ]
  },
  {
   "cell_type": "code",
   "execution_count": 5,
   "metadata": {
    "collapsed": false
   },
   "outputs": [
    {
     "data": {
      "text/plain": [
       "58975"
      ]
     },
     "execution_count": 5,
     "metadata": {},
     "output_type": "execute_result"
    }
   ],
   "source": [
    "sum_differences(lines)"
   ]
  },
  {
   "cell_type": "markdown",
   "metadata": {},
   "source": [
    "## Mathematical Interlude\n",
    "\n",
    "In line with the first day's challenge, I'm inclined to ask what we should \"expect.\" But what we should expect is not well-defined in this case. Let us rephrase the problem in a randomized sense.\n",
    "\n",
    "Suppose we are given a table, $n$ lines long, where each line consists of $m$ elements, that are each uniformly randomly chosen integers from $1$ to $10$. We might ask what is the expected value of this operation, of summing the differences between the maxima and minima of each row, on this table. What should we expect?\n",
    "\n",
    "As each line is independent of the others, we are really asking what is the expected value across a single row. So given $m$ integers uniformly randomly chosen from $1$ to $10$, what is the expected value of the maximum, and what is the expected value of the minimum?\n",
    "\n",
    "\n",
    "### Expected Minimum\n",
    "\n",
    "Let's begin with the minimum. The minimum is $1$ unless all the integers are greater than $2$. This has probability\n",
    "$$ 1 - \\left( \\frac{9}{10} \\right)^m  = \\frac{10^m - 9^m}{10^m}$$\n",
    "of occurring. We rewrite it as the version on the right for reasons that will soon be clear.\n",
    "The minimum is $2$ if all the integers are at least $2$ (which can occur in $9$ different ways for each integer), but not all the integers are at least $3$ (each integer has $8$ different ways of being at least $3$). Thus this has probability\n",
    "$$ \\frac{9^m - 8^m}{10^m}.$$\n",
    "Continuing to do one more for posterity, the minimum is $3$ if all the integers are at least $3$ (each integer has $8$ different ways of being at least $3$), but not all integers are at least $4$ (each integer has $7$ different ways of being at least $4$). Thus this has probability\n",
    "\n",
    "$$ \\frac{8^m - 7^m}{10^m}.$$\n",
    "\n",
    "And so on.\n",
    "\n",
    "Recall that the expected value of a random variable is\n",
    "\n",
    "$$ E[X] = \\sum x_i P(X = x_i),$$\n",
    "\n",
    "so the expected value of the minimum is\n",
    "\n",
    "$$ \\frac{1}{10^m} \\big( 1(10^m - 9^m) + 2(9^m - 8^m) + 3(8^m - 7^m) + \\cdots + 9(2^m - 1^m) + 10(1^m - 0^m)\\big).$$\n",
    "\n",
    "This simplifies nicely to\n",
    "\n",
    "$$ \\sum_ {k = 1}^{10} \\frac{k^m}{10^m}. $$\n",
    "\n",
    "### Expected Maximum\n",
    "\n",
    "The same style of thinking shows that the expected value of the maximum is\n",
    "\n",
    "$$ \\frac{1}{10^m} \\big( 10(10^m - 9^m) + 9(9^m - 8^m) + 8(8^m - 7^m) + \\cdots + 2(2^m - 1^m) + 1(1^m - 0^m)\\big).$$\n",
    "\n",
    "This simplifies to\n",
    "\n",
    "$$ \\frac{1}{10^m} \\big( 10 \\cdot 10^m - 9^m - 8^m - \\cdots - 2^m - 1^m \\big) = 10 - \\sum_ {k = 1}^{9} \\frac{k^m}{10^m}.$$\n",
    "\n",
    "### Expected Difference\n",
    "\n",
    "Subtracting, we find that the expected difference is\n",
    "\n",
    "$$ 9 - 2\\sum_ {k=1}^{9} \\frac{k^m}{10^m}. $$\n",
    "\n",
    "From this we can compute this for each list-length $m$. It is good to note that as $m \\to \\infty$, the expected value is $9$. Does this make sense? Yes, as when there are lots of values we should expect one to be a $10$ and one to be a $1$. It's also pretty straightforward to see how to extend this to values of integers from $1$ to $N$.\n",
    "\n",
    "Looking at the data, it does not appear that the integers were randomly chosen. Instead, there are very many relatively small integers and some relatively large integers. So we shouldn't expect this toy analysis to accurately model this problem --- the distribution is definitely not uniform random.\n",
    "But we can try it out anyway."
   ]
  },
  {
   "cell_type": "code",
   "execution_count": 6,
   "metadata": {
    "collapsed": false
   },
   "outputs": [
    {
     "data": {
      "text/plain": [
       "16"
      ]
     },
     "execution_count": 6,
     "metadata": {},
     "output_type": "execute_result"
    }
   ],
   "source": [
    "# We see the table is 16 lines long\n",
    "len(lines)"
   ]
  },
  {
   "cell_type": "code",
   "execution_count": 7,
   "metadata": {
    "collapsed": false
   },
   "outputs": [
    {
     "data": {
      "text/plain": [
       "16"
      ]
     },
     "execution_count": 7,
     "metadata": {},
     "output_type": "execute_result"
    }
   ],
   "source": [
    "# And a generic line is 16 numbers long\n",
    "len(lines[0].split())"
   ]
  },
  {
   "cell_type": "markdown",
   "metadata": {},
   "source": [
    "The largest integer in the table is a bit less than $7000$, so I'll pretend that the integers are chosen uniformly randomly from $1$ to $7000$. There are $16$ integers per row, and there are $16$ rows. We now compute the expected value of each row."
   ]
  },
  {
   "cell_type": "code",
   "execution_count": 8,
   "metadata": {
    "collapsed": true
   },
   "outputs": [],
   "source": [
    "total = 6999\n",
    "for k in range(7000):\n",
    "    total = total - 2* (k/7000)**16"
   ]
  },
  {
   "cell_type": "code",
   "execution_count": 9,
   "metadata": {
    "collapsed": false
   },
   "outputs": [
    {
     "data": {
      "text/plain": [
       "6176.470207282953"
      ]
     },
     "execution_count": 9,
     "metadata": {},
     "output_type": "execute_result"
    }
   ],
   "source": [
    "total"
   ]
  },
  {
   "cell_type": "markdown",
   "metadata": {},
   "source": [
    "The expected value of the table is $16$ times this."
   ]
  },
  {
   "cell_type": "code",
   "execution_count": 10,
   "metadata": {
    "collapsed": false
   },
   "outputs": [
    {
     "data": {
      "text/plain": [
       "98823.52331652725"
      ]
     },
     "execution_count": 10,
     "metadata": {},
     "output_type": "execute_result"
    }
   ],
   "source": [
    "16 * total"
   ]
  },
  {
   "cell_type": "markdown",
   "metadata": {},
   "source": [
    "That's significantly larger than the actual problem. I attribute much of this difference to the fact that the large integers are much sparser than they would be in the random scenario. For instance, inspection reveals that the fourth row of the given data are all below $1000$."
   ]
  },
  {
   "cell_type": "markdown",
   "metadata": {},
   "source": [
    "# Part 2\n",
    "\n",
    "In the table, each row has exactly one pair of integers that evenly divides each other. Find the sum of the quotients.\n",
    "\n",
    "My plan is straightforward. For each line, go through each element and determine if it is the dividend or divisor in a perfection fraction. Once we've found a pair, we compute the quotient, and add these quotients together."
   ]
  },
  {
   "cell_type": "code",
   "execution_count": 11,
   "metadata": {
    "collapsed": true
   },
   "outputs": [],
   "source": [
    "def find_quotient_in_line(line):\n",
    "    '''\n",
    "    Finds a pair of integers which divides each other in line.\n",
    "    Returns the quotient.\n",
    "    '''\n",
    "    line = list(map(int, line.split()))\n",
    "    for i, elem in enumerate(line):\n",
    "        for num in line[i+1:]:\n",
    "            if elem%num == 0:\n",
    "                return elem/num\n",
    "            if num%elem == 0:\n",
    "                return num/elem\n",
    "    raise KeyError('No divisor relationship found in line.')\n",
    "\n",
    "def sum_quotients(lines):\n",
    "    '''Sum the value of `find_quotient_in_line` for each line in `lines`'''\n",
    "    return sum(find_quotient_in_line(line) for line in lines)"
   ]
  },
  {
   "cell_type": "code",
   "execution_count": 12,
   "metadata": {
    "collapsed": false
   },
   "outputs": [],
   "source": [
    "testcase = ['5 9 2 8', '9 4 7 3', '3 8 6 5']\n",
    "assert find_quotient_in_line(testcase[0]) == 4\n",
    "assert sum_quotients(testcase) == 9"
   ]
  },
  {
   "cell_type": "code",
   "execution_count": 13,
   "metadata": {
    "collapsed": false
   },
   "outputs": [
    {
     "data": {
      "text/plain": [
       "308.0"
      ]
     },
     "execution_count": 13,
     "metadata": {},
     "output_type": "execute_result"
    }
   ],
   "source": [
    "sum_quotients(lines)"
   ]
  }
 ],
 "metadata": {
  "kernelspec": {
   "display_name": "Python 3",
   "language": "python",
   "name": "python3"
  },
  "language_info": {
   "codemirror_mode": {
    "name": "ipython",
    "version": 3
   },
   "file_extension": ".py",
   "mimetype": "text/x-python",
   "name": "python",
   "nbconvert_exporter": "python",
   "pygments_lexer": "ipython3",
   "version": "3.5.2"
  }
 },
 "nbformat": 4,
 "nbformat_minor": 0
}
