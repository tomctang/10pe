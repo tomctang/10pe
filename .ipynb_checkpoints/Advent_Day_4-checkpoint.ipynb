{
 "cells": [
  {
   "cell_type": "markdown",
   "metadata": {},
   "source": [
    "# [Day 4](http://adventofcode.com/2017/day/4): High Entropy Passphrases\n",
    "\n",
    "Given a list of strings, determine how many strings have no duplicate words.\n",
    "\n",
    "This is a classic problem, and it's particularly easy to solve this in python. Some might use `collections.Counter`, but I think it's more straightforward to use sets.\n",
    "\n",
    "The key idea is that the set of words in a sentence will not include duplicates. So if taking the set of a sentence reduces its length, then there was a duplicate word."
   ]
  },
  {
   "cell_type": "code",
   "execution_count": 1,
   "metadata": {},
   "outputs": [
    {
     "data": {
      "text/plain": [
       "455"
      ]
     },
     "execution_count": 1,
     "metadata": {},
     "output_type": "execute_result"
    }
   ],
   "source": [
    "with open(\"input.txt\", \"r\") as f:\n",
    "    lines = f.readlines()\n",
    "    \n",
    "def count_lines_with_unique_words(lines):\n",
    "    num_pass = 0\n",
    "    for line in lines:\n",
    "        s = line.split()\n",
    "        if len(s) == len(set(s)):\n",
    "            num_pass += 1\n",
    "    return num_pass\n",
    "\n",
    "count_lines_with_unique_words(lines)"
   ]
  },
  {
   "cell_type": "markdown",
   "metadata": {},
   "source": [
    "I think this is the first day where I would have had a shot at the leaderboard if I'd been gunning for it.\n",
    "\n",
    "# Part 2\n",
    "\n",
    "Let's add in another constraint. Determine how many strings have no duplicate words, even after anagramming. Thus the string\n",
    "\n",
    "    abc bac\n",
    "    \n",
    "is not valid, since the second word is an anagram of the first. There are many ways to tackle this as well, but I will handle anagrams by sorting the letters in each word first, and then running the bit from part 1 to identify repeated words."
   ]
  },
  {
   "cell_type": "code",
   "execution_count": 2,
   "metadata": {},
   "outputs": [
    {
     "data": {
      "text/plain": [
       "['bddjjow acimrv bcjjm anr flmmos fiosv',\n",
       " 'bcmnoxy dfinyzz dgmp dfgioy hinrrv eeklpuu adgpw kqv']"
      ]
     },
     "execution_count": 2,
     "metadata": {},
     "output_type": "execute_result"
    }
   ],
   "source": [
    "with open(\"input.txt\", \"r\") as f:\n",
    "    lines = f.readlines()\n",
    "    \n",
    "sorted_lines = []\n",
    "for line in lines:\n",
    "    sorted_line = ' '.join([''.join(l) for l in map(sorted, line.split())])\n",
    "    sorted_lines.append(sorted_line)\n",
    "\n",
    "sorted_lines[:2]\n",
    "    "
   ]
  },
  {
   "cell_type": "code",
   "execution_count": 3,
   "metadata": {},
   "outputs": [
    {
     "data": {
      "text/plain": [
       "186"
      ]
     },
     "execution_count": 3,
     "metadata": {},
     "output_type": "execute_result"
    }
   ],
   "source": [
    "count_lines_with_unique_words(sorted_lines)"
   ]
  }
 ],
 "metadata": {
  "kernelspec": {
   "display_name": "Python 3",
   "language": "python",
   "name": "python3"
  },
  "language_info": {
   "codemirror_mode": {
    "name": "ipython",
    "version": 3
   },
   "file_extension": ".py",
   "mimetype": "text/x-python",
   "name": "python",
   "nbconvert_exporter": "python",
   "pygments_lexer": "ipython3",
   "version": "3.6.1"
  }
 },
 "nbformat": 4,
 "nbformat_minor": 2
}
