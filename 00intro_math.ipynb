{
 "cells": [
  {
   "cell_type": "markdown",
   "metadata": {},
   "source": [
    "# Math-FP Combo"
   ]
  },
  {
   "cell_type": "markdown",
   "metadata": {},
   "source": [
    "Objectives: To prepare secondary & tertiary math for my kids\n",
    "\n",
    "Bad ideas: \n",
    "- distinguish math btw high-school(secondary education) and uni(tertiary education)\n",
    "- distinguish math and science(especially physics)\n",
    "- distinguish math and CS(computer science)\n",
    "- distinguish math and natural language\n",
    "\n",
    "Good ideas:\n",
    "- Combo of 2nd and 3rd-level math topics\n",
    "- Combo of math and physics\n",
    "- Combo of 'conventional' and computational math\n",
    "- Combo of natural language, math language and coding language"
   ]
  },
  {
   "cell_type": "markdown",
   "metadata": {},
   "source": [
    "> [Numbers & Algebra](../10pe/01number_algebra.ipynb)\n",
    "1. Number Theory(Arithmetic) \n",
    "1. Algebra\n",
    "1. Linear Algebra\n",
    "1. Abstract Algebra(Group, Ring, Field)\n",
    "\n",
    "> [Discrete & Continuous](../10pe/02discrete_continuous.ipynb#discrete-continuous)\n",
    "1. Difference & Generating Function\n",
    "1. Combinatorics\n",
    "1. Graph & Network Science & Algorithm\n",
    "1. Calculus\n",
    "1. Mechanics\n",
    "1. Analysis\n",
    "1. Differential Equations\n",
    "1. Topology(Graph, Set, Geometry, Analysis)\n",
    "\n",
    "> [Real-world](../10pe/03real_world.ipynb)\n",
    "1. Coding Theory & Information\n",
    "1. Data analysis\n",
    "1. Statistics & Probability Theory\n",
    "1. Game Theory & Decision & Operation\n",
    "1. Quantum Theory"
   ]
  },
  {
   "cell_type": "markdown",
   "metadata": {},
   "source": [
    "## Mind Map of Math"
   ]
  },
  {
   "cell_type": "markdown",
   "metadata": {},
   "source": [
    "1. [Math_Map_Slides](https://docs.google.com/presentation/d/1QxIswHDNSRJiPW7qNTePWw1OhmEVs0VKtPt3meru0f4/edit?usp=sharing) \n",
    "1. how to build a pathway from post-Year 10 math to a freshman mathematician? Y10以后，新州的数学分为四条线，这是非常科学的。但是即使如此，其最难的线（3U4U）还是不足以准备大学预备数学。从初等数学到高等级的数学思维(现代数学)切换有几点需要注意：\n",
    "    1. 离散数学的重要性\n",
    "        - 离散数学包含的数理逻辑(证明语言)，集合论，数论，组合数学，图论等对于理解现代数学的*工具多样性*非常重要\n",
    "        - 通过离散数学来掌握*高等级数学语言*\n",
    "    1. 数学应用或modelling很重要\n",
    "        - 一定要学习物理或真实世界，所以力学和Simulation/modelling of natural processes非常重要\n",
    "        - Python和编程的引入非常重要，Python可以进一步融合物理、数学和真实世界\n",
    "    1. 数学分析('连续数学')虽然重要，但还没必要看数学分析的教材\n",
    "        - 数学分析的内容主要是定理的证明，不要把自己陷在繁复的计算(微积分)和冗长的证明中\n",
    "        - 连续数学中，还是要学线代，[线性代数不是离散数学](https://www.quora.com/Is-linear-algebra-discrete-math)，线代 is a form of continuous，但matrix theory在离散数学里面\n",
    "1. Human-Info World(triangle:natural language - math language - coding language) VS. Real world\n",
    "    - 要理解的不止是数学，而是数学描述的真实世界\n",
    "    - 数学可以讲物理的故事，生物的故事，化学的故事，经济的故事\n",
    "    - 数学更像一个乐高积木，用数学去微分/积分这个世界 "
   ]
  },
  {
   "cell_type": "markdown",
   "metadata": {},
   "source": [
    "## Online courses"
   ]
  },
  {
   "cell_type": "markdown",
   "metadata": {},
   "source": [
    "1. Coursera平台JHU副教授[Joseph Cutrone](https://www.coursera.org/instructor/josephcutrone)的课程应用性强, level适合悉悉\n",
    "    - <[Precalculus: Mathematical Modeling](https://www.coursera.org/learn/precalculus-mathematical-modelling)> \n",
    "    - <[Applied Calculus with Python](https://www.coursera.org/learn/applied-calculus-with-python)>\n",
    "1. Keith Devlin高中水平的数学分析课程 <[Introduction to Mathematical Thinking](https://www.coursera.org/learn/mathematical-thinking#syllabus)>, mathematical thinking is a powerful cognitive process. School math typically focuses on learning procedures to solve highly stereotyped problems. Mathematical thinking is a way to solve real problems, problems that can arise from the everyday world and science\n",
    "    - Prerequisite: High school mathematics. Specific requirements are familiarity with elementary symbolic algebra, number system, some elementary set theory.\n",
    "    - [斯坦福原网页](https://online.stanford.edu/courses/hstar-y0001-introduction-mathematical-thinking)\n",
    "1. MIT [Introduction To Analysis](https://ocw.mit.edu/courses/18-100a-introduction-to-analysis-fall-2012/pages/syllabus/)\n",
    "    - 大学数学系水平\n",
    "    - Prerequisite: [单变量](https://ocw.mit.edu/courses/18-01sc-single-variable-calculus-fall-2010/pages/syllabus/), [多变量](https://ocw.mit.edu/courses/18-02sc-multivariable-calculus-fall-2010/pages/syllabus/), 微分方程\n",
    "1. MIT [LINEAR ALGEBRA](https://ocw.mit.edu/courses/18-06-linear-algebra-spring-2010/)This is a basic subject on matrix theory and linear algebra. Emphasis is given to topics that will be useful in other disciplines, including systems of equations, vector spaces, determinants, eigenvalues, similarity, and positive definite matrices.\n",
    "1. Udemy [Master Number Theory](https://www.udemy.com/course/numbertheory/)\n",
    "    - Udemy有很多意想不到的课程，相比Coursera，这个平台更自由（除了建制课程，还有很多自由topic，比如lottery math），更个人化（coursera基本是大学老师，课程内容制作僵化不够活泼）\n",
    "1. 寻找数学应用课程\n",
    "    - lottery数学，Google搜：\"python lottery analysis\", \"number theory behind lottery\"\n",
    "    - Google/Library genesis搜 'scientific computing python'\n",
    "        - [A Primer on Scientific Programming with Python, Hans Petter, Oslo](https://link.springer.com/book/10.1007/978-3-662-49887-3)兼数学、算法numerical methods、python的经典，16年就出到第五版，因作者去世衍生了近年一系列书\n",
    "            - [本书课件网站](https://hplgit.github.io/scipro-primer/slides/index.html)包含pdf和ipynb多形式slides\n",
    "            - 算法numerical methods常包括：Linear Algebra and Systems of Linear Equations, Eigenvalues and Eigenvectors特征值特征向量, Least Squares Regression, Interpolation插补, Taylor Series, Root Finding, Numerical Differentiation/Integration, Ordinary Differential Equations (ODEs) Initial-Value Problems, Boundary-Value Problems for ODEs, Fourier Transform\n",
    "        - Onlinebook [Mathematical Python](https://github.com/patrickwalls/mathematicalpython)包括数论基础的logic, prime numbers, divisors 到 数值积分和ODEs的内容\n",
    "        - Onlinebook [Calculus with Python -- A Tiny Little Book](https://github.com/ryancheunggit/Calculus-with-Python)\n",
    "    - Google 'number theory python'\n",
    "        - [An Illustrated Theory of Numbers](http://illustratedtheoryofnumbers.com/index.html) 已下pdf书和ipynb笔记，兼有图解数论和python数论\n",
    "1. A-level (edx)\n",
    "    - Year 13 - Course 1: Functions, Sequences Series, Numerical Methods(全部有python实施) \n",
    "    - Year 13 - Course 2: General Motion, Moments Equilibrium, Normal Distribution, Vectors, Differentiation, Integration\n",
    "    - Further Y12 - C1: Complex Numbers, Matrices, Roots of Polynomial Equations and Vectors \n",
    "    - Further Y12 - C2: Matrices, Induction, Calculus Applications, Maclaurin Series, Complex Numbers, Polar Coordinates \n",
    "    - Further Y13 - C1: ODE, Further Integration, Curve Sketching, Complex Numbers, Vector Product Further Matrices \n",
    "    - Further Y13 - C2: ODE, Momentum, Work, Energy & Power, Poisson, Central Limit Theorem, Chi 2 Tests, Type I II Errors \n",
    "1. 最佳物理融合所有数学[Mathematical and Computational Methods](https://www.edx.org/learn/math/georgetown-university-mathematical-and-computational-methods)\n",
    "    - Calculus review\n",
    "        The Greeks and the development of the limit\n",
    "        The logarithm and the revolution of numerical computation from tables\n",
    "        The concept of the derivative and antiderivative\n",
    "        How to integrate\n",
    "        Multivariable integrals\n",
    "        Frullani and Gaussian integrals\n",
    "        Feynman integration\n",
    "    - Vector calculus\n",
    "        Vector fields\n",
    "        The divergence theorem\n",
    "        Stokes theorem\n",
    "        Gradient\n",
    "        Laplace's equation\n",
    "    - Complex analysis\n",
    "        Complex numbers\n",
    "        Analytic functions\n",
    "        Cauchy's theorem\n",
    "        Calculus of residues\n",
    "    - Linear Algebra\n",
    "        Matrix multiplication\n",
    "        The determinant\n",
    "        Matrix inverses\n",
    "        Eigenvalues and eigenvectors\n",
    "        Abstract vector spaces with inner products\n",
    "    - Differential equations\n",
    "        First-order linear differential equations\n",
    "        First-order nonlinear differential equations\n",
    "        Differential equations with constant coefficients\n",
    "        Variation of parameters\n",
    "        Method of undetermined coefficients\n",
    "        Frenet-Serret apparatus\n",
    "    - Fourier series\n",
    "        Dirichlet theorem and Fourier summation formula\n",
    "        Poisson's theorem"
   ]
  },
  {
   "cell_type": "markdown",
   "metadata": {},
   "source": [
    "## 名词解释"
   ]
  },
  {
   "cell_type": "markdown",
   "metadata": {},
   "source": [
    "1. 离散数学 VS. 连续数学（微积分和分析）\n",
    "    - 离散数学是数学几个分支的总称，包含数理逻辑（真值表，证明），集合论，信息论，数论（密码学），组合数学，图论，抽象代数，拓扑学，运筹学，博弈论决策论、效用理论、社会选择理论。\n",
    "    - 在现代，计算机科学的数学就是离散数学，数值分析是离散数学的重要应用。\n",
    "    - 广义的组合数学（Combinatorics）相当于离散数学，狭义的组合数学是组合计数、图论、代数结构、数理逻辑等的总称。组合数学是一门研究可数或离散对象的科学。\n",
    "\t- B站找到“乐乐课堂” 很多好视频\n",
    "1. 分析学和数学分析：\n",
    "\t1. 分析学Analysis，把数学当做一门语言来定义，我们最熟悉函数的解析，实数序列和级数的极限论，幂级数和函数论，度量空间或衍生的拓扑向量空间的知识\n",
    "\t\t- 微积分是分析的衍生学科，也就是分析在几何上的应用部分\n",
    "        - 狭义理解，分析学就是实分析Real analysis（实数的数学分析），[数学分析的基础，从极限到全纯函数](https://zhuanlan.zhihu.com/p/585547644)\n",
    "\t1. 数学分析，则主要是为了把分析和逻辑学，哲学上的分析作区分。即用数学角度建立并使用数学对象，直接分析数学问题并间接分析实际问题，数学分析是20世纪才有的\n",
    "\t\t- 数学分析假设但你知道有理数（不知道实数），教你如何从有理数构建实数，又证明了极限这个概念在R上是自洽的，于是你可以放心大胆的在R上用极限运算。\n",
    "\t\t- 微积分是假设你已知道实数，并且告诉你极限运算可以在R上用，于是你就可以calculate啦\n",
    "1. 微分\n",
    "\t1. 运动是visible（本质是空间位移），一阶导是速度，二阶导是加速度\n",
    "\t1. 多元微积分 or 多变量微积分(Multivariable calculus，multivariate calculus): 偏微分(partial)和全微分(total)\n",
    "\t\t- Wiki上偏导数和偏微分是同一词条\n",
    "\t1. 微分在牛顿发明的时候很简单(“微分”曲型面积来求解)，150年后又用极限limit概念“重新发明”了微分(以柯西数列做基础的微积分-多矩形对面积的逼近&数列到极限）\n",
    "1. [微分方程](https://zh.wikipedia.org/wiki/%E5%BE%AE%E5%88%86%E6%96%B9%E7%A8%8B)\n",
    "\t1. 描述某一类函数与其导数之间的关系。微分方程的解是一个符合方程的函数 y=f(x)，初等代数方程里解是常数值\n",
    "\t1. 只有少数简单的微分方程可以求得解析解analytical expression，二次方程的根就是一个解析解的典型例子（初等代数方程里解析解也被称为公式解）\n",
    "\t1. 用数值分析的方法电脑求近似值（数值解）。大多数偏微分方程，尤其是非线性偏微分方程，都只有数值解。\n",
    "\t1. 常微分方程ordinary differential equation只包含一个变量，相对应偏微分方程[partial differential equation](https://zh.m.wikipedia.org/zh-hans/%E5%A4%9A%E5%85%83%E5%BE%AE%E7%A7%AF%E5%88%86)包含多个变量，求偏导数\n",
    "\t1. 和差分方程的理论有密切的关系, 差分方程(difference equation)的坐标是离散值，差分方程研究递推关系(Recurrence relation）\n",
    "\t1. 经典: population growth model(马尔萨斯模型), logistic模型, Solow模型, 牛顿第二定律\n",
    "1. Category theory 范畴论：以抽象的方法来处理数学概念，将这些概念形式化成一组组的“对象”及“态射”\n",
    "1. Set theory 集合论: 数理逻辑I只涉及一阶逻辑这个完备体系下的问题，尽管关系是用集合的方式表示，但是并不依赖集合论的知识。而数理逻辑II的才会讨论更一般的问题，其第一，也是最主要的部分就是集合论。所以可以把学习路线简化为： 数理逻辑的完备部分 -> 集合论 -> 数理逻辑的不完备部分\n",
    "\t- 集合, 就是把一堆东西放在一起, 之间的互相作用我们称之为操作或者运算\n",
    "\t- **群 = 集合 + 运算**\n",
    "1. Group theory 群论：刻画结构的一种非常基础的工具。应用: 魔方，正交表，高次方程解析解，密码学，拓扑基本群\n",
    "1. Measure theory 测度论：测度论是实分析的基础，就好比实数理论之于数学分析。传统的积分是在区间上进行的，后来人们希望把积分推广到任意集合上，就发展出测度的概念。\n",
    "\t- 实变函数的核心是勒贝格积分，而勒贝格积分是黎曼积分的推广。黎曼积分的核心思想是分割积分区间然后求黎曼和取极限，如极限存在则称函数为黎曼可积的。但是黎曼积分有很大的局限性，他对函数的性态要求很高，要求函数几乎处处连续。\n",
    "\t- 勒贝格积分的思想跟黎曼积分不同，他不分割函数的积分区间，而是分割函数的值域区间，然后乘以对应积分区间的测度求和取极限。测度论是用来度量积分区间的，输入一个积分区间，测度函数给出一个正的实数。对于一维空间来说，测度就是区间的长度，对于二维区间来说，测度表示积分区域的面积，对于三维空间，测度表示积分区间的体积，对更高维的空间来说，测度代表类似体积的东西。可见测度论是实变函数的核心理论。\n",
    "\t- 测度论是*概率论*的理论基础\n",
    "1. Order theory 序理论\n",
    "1. Graph theory 图论：\n",
    "1. Complex analysis 复分析：the branch of mathematical analysis that investigates functions of complex numbers 复变函数\n",
    "\t- 实分析中的泰勒级数和傅里叶级数, 这两者都是关于某个函数的级数展开式, 两者的系数分别是通过求导和积分得出来的, 实数世界里两者毫不相关, 复分析却告诉我们：它们是同一个东西！只是将其在不同的角度“投影”到实数世界里，就产生了不同的“物像”。所以**复数揭示了微分与积分的一种隐藏的联系--即全纯函数微分与积分等价**\n",
    "1. Functional analysis 泛函分析：\n",
    "1. Vector calculus 向量分析，或向量微积分，“向量分析”有时也用作多元微积分的代名词，包括向量分析，偏微分和多重积分等多元实分析"
   ]
  },
  {
   "cell_type": "markdown",
   "metadata": {},
   "source": [
    "\n",
    "<img src=\"https://raw.githubusercontent.com/tomctang/NB_img/main/mapmath.jpg\" alt=\"Map of Math\" width=\"1200\"> "
   ]
  },
  {
   "cell_type": "markdown",
   "metadata": {},
   "source": [
    "## PE-Hidden-Math"
   ]
  },
  {
   "cell_type": "markdown",
   "metadata": {},
   "source": [
    "> **Question ordering**\n",
    "\n",
    "69. Totient Maximum\n",
    "\n",
    "欧拉函数 Euler's Totient Function (or $\\phi$ function) has a general formulas as below, $p_i$ is all of the coprime of x, where x is a positive integer.\n",
    "\n",
    "$$\\phi(x)=x\\prod_{i=1}^n(1-\\frac{1}{p_i})$$"
   ]
  },
  {
   "cell_type": "markdown",
   "metadata": {},
   "source": [
    "99. Largest Exponential\n",
    "\n",
    "In this question, I learned Ordinal theory (VS. Cardinal theory):\n",
    "\n",
    "- Ordinal data only introduces a ordering/ranking (e.g. A>B), but we don't know how large A or B is.\n",
    "- Cardinal further tell 'how many' of each thing, or showing quantity (e.g. 2>1)\n",
    "\n",
    "When comparing huge numbers, I don't need to know 'how many' they are, I just need to where they are (their ranking). So I can use log to shrink their coordinates: \n",
    "\n",
    "$$base^{exponent} =e^{exponent⋅log(base)}$$\n"
   ]
  },
  {
   "cell_type": "markdown",
   "metadata": {},
   "source": [
    "187. Semiprimes\n",
    "\n",
    "[A semiprime-counting formula](https://en.wikipedia.org/wiki/Semiprime):\n",
    "\n",
    "$$\\pi_{2}(n)= $$\n"
   ]
  },
  {
   "cell_type": "markdown",
   "metadata": {},
   "source": [
    "> Number Theory & Algebra"
   ]
  },
  {
   "cell_type": "markdown",
   "metadata": {},
   "source": [
    "- Prime numbers and factorization: 3, 7, 10, 12, 27, 35, 47, 50, 58, 67, 70, 78, 87, 92, 97, 104, 120, 123, 134, 140, 146, 158, 160, 162, 179, 187, 196\n",
    "- Divisibility rules and modular arithmetic: 2, 4, 5, 9, 11, 14, 17, 21, 24, 29, 31, 37, 41, 43, 46, 53, 56, 61, 65, 73, 76, 82, 85, 90, 95, 102, 108, 112, 116, 119, 125, 131, 137, 143, 149, 155, 166, 172, 178, 184, 190, 193, 199\n",
    "- Number sequences and series: 6, 8, 15, 22, 25, 30, 33, 36, 39, 42, 45, 48, 51, 54, 57, 60, 63, 66, 69, 72, 75, 79, 83, 86, 89, 93, 96, 99, 105, 109, 113, 117, 121, 126, 132, 138, 144, 150, 156, 163, 169, 175, 181, 188, 194\n",
    "- Diophantine equations\n",
    "- Continued Fraction \n",
    "- Polynomial equations: 18, 28, 35, 43, 51, 61, 71, 81, 91, 101, 111, 121, 131, 141, 151, 161, 171, 181, 191, 200\n",
    "- Matrix operations: 44, 53, 62, 72, 82, 92, 102, 112, 122, 132, 142, 152, 162, 172, 182, 192\n",
    "- Number bases and conversions\n",
    "- Algebraic identities\n"
   ]
  },
  {
   "cell_type": "markdown",
   "metadata": {},
   "source": [
    "> Algorithms & Data Structures\n",
    "\n",
    "- Sorting and searching algorithms: 4, 17, 26, 35, 44, 53, 62, 72, 82, 92, 102, 112, 122, 132, 142, 152, 162, 172, 182, 192 [path-planning algorithms animations](https://github.com/zhm-real/PathPlanning#papers)\n",
    "- Dynamic programming: 18(Maximum path sum I), 67(Maximum path sum II), 187, 198, 202\n",
    "- Greedy algorithms: 22, 30, 39, 48, 57, 66, 75, 84, 93, 102, 111, 120, 129, 138, 147, 156, 165, 174, 183, 192\n",
    "- Backtracking: 29, 37, 45, 53, 61, 69, 77, 85, 93, 101, 109, 117, 125, 133, 141, 149, 157, 165, 173, 181, 189, 197\n",
    "- Recursion: 13, 21, 29, 37, 45, 53, 61, 69, 77, 85, 93, 101, 109, 117, 125, 133, 141, 149, 157, 165, 173, 181, 189, 197\n",
    "- Data structures (arrays, lists, stacks, queues, trees, graphs): 19, 27, 35, 43, 51, 59, 67, 75, 83, 91, 99, 107, 115, 123, 131, 139, 147, 155, 163, 171, 179, 187, 195"
   ]
  },
  {
   "cell_type": "markdown",
   "metadata": {},
   "source": [
    "> Combinatorics and Probability\n",
    "\n",
    "- Permutations and combinations: 15, 24, 32, 40, 49, 59, 62, 68, 74, 80, 88, 94, 100, 106, 114, 122, 130, 139, 147, 159, 167, 176, 185, 192, 200\n",
    "- Probability theory: 19, 26, 34, 44, 52, 64, 77, 91, 103, 115, 127, 135, 145, 153, 161, 170, 179, 189, 197\n",
    "- Combinatorial games\n",
    "- Graph theory\n",
    "- Lattice paths"
   ]
  },
  {
   "cell_type": "markdown",
   "metadata": {},
   "source": [
    "> Geometry\n",
    "\n",
    "- Geometric sequences and series: 16, 23, 31, 41, 50, 60, 70, 80, 90, 100, 110, 120, 130, 140, 150, 160, 170, 180, 190, 200\n",
    "- Pythagorean triples and triangles: 9, 20, 38, 55, 71, 84, 98, 111, 124, 136, 148, 164, 173, 182, 191\n",
    "- Polygons and their properties\n",
    "- Circle geometry\n",
    "- Solid geometry"
   ]
  },
  {
   "cell_type": "markdown",
   "metadata": {},
   "source": [
    "> Other\n",
    "\n",
    "- Cryptography\n",
    "- Numerical analysis\n",
    "- Calculus\n",
    "- Game theory"
   ]
  }
 ],
 "metadata": {
  "language_info": {
   "name": "python"
  }
 },
 "nbformat": 4,
 "nbformat_minor": 2
}
