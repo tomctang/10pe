{
 "cells": [
  {
   "cell_type": "markdown",
   "metadata": {},
   "source": [
    "# PE Q1-25\n",
    "\n",
    "To solve PE problems here, I include three approaches: \n",
    "- Python OOP\n",
    "- Python FP: 1. [SageMath-FP4Mathematicians](https://doc.sagemath.org/html/en/thematic_tutorials/functional_programming.html#); 2. [adabeat - FP in Python](https://adabeat.com/fp/functional-programming-in-python/?_gl=1*qsc6fw*_up*MQ..*_ga*MjAzMjkwMTE5MC4xNzMwOTQxODgx*_ga_6RQG15HSGT*MTczMDk0MTg4MC4xLjAuMTczMDk0MTg4MC4wLjAuMA..);  3. [adabeat - Ease into](https://adabeat.com/fp/ease-into-functional-programming/?_gl=1*1r4s1nz*_up*MQ..*_ga*NDgxNzc4NDQ0LjE3MzA4MTAwMTg.*_ga_6RQG15HSGT*MTczMDgxMDAxNy4xLjAuMTczMDgxMDAxNy4wLjAuMA..); \n",
    "- MMA\n",
    "\n",
    "Pre-running Python functions: \n",
    "- After I solved many questions using Python, I found some functions were repeated, like Prime-Check, Fibonacci. Then I built this part to store these functions for pre-running. "
   ]
  },
  {
   "cell_type": "code",
   "execution_count": 1,
   "metadata": {},
   "outputs": [],
   "source": [
    "%run PE_pre_running.py"
   ]
  },
  {
   "cell_type": "markdown",
   "metadata": {},
   "source": [
    "## PE 1"
   ]
  },
  {
   "cell_type": "code",
   "execution_count": null,
   "metadata": {},
   "outputs": [],
   "source": [
    "#1 Multiples of 3 or 5\n",
    "sum_num=0\n",
    "list_num=[]\n",
    "for i in range(1, 999//3):\n",
    "    m=i*3\n",
    "    list_num.append(m)\n",
    "for i in range(1, 999//5):\n",
    "    m=i*5\n",
    "    if m not in list_num:\n",
    "        list_num.append(m)\n",
    "    else:\n",
    "        pass\n",
    "for num in list_num:\n",
    "    sum_num+=num\n",
    "sum_num"
   ]
  },
  {
   "cell_type": "markdown",
   "metadata": {},
   "source": [
    "## PE 2"
   ]
  },
  {
   "cell_type": "code",
   "execution_count": null,
   "metadata": {},
   "outputs": [],
   "source": [
    "#2 Even Fibonacci Numbers\n",
    "num=0\n",
    "sum_num=0\n",
    "list_fib=[]\n",
    "for i in range(3000000):\n",
    "    num=fastFib(i)\n",
    "    list_fib.append(num)\n",
    "for num in list_fib:\n",
    "    if num//2==num/2:\n",
    "        sum_num+=num\n",
    "sum_num"
   ]
  },
  {
   "cell_type": "markdown",
   "metadata": {},
   "source": [
    "## PE 4"
   ]
  },
  {
   "cell_type": "code",
   "execution_count": null,
   "metadata": {},
   "outputs": [],
   "source": [
    "#4 Largest Palindrome Product\n",
    "m=999\n",
    "n=999\n",
    "list_palin=[]\n",
    "for i in range(900):\n",
    "    for i in range(900):\n",
    "        print(m*n)\n",
    "        n-=1\n",
    "        if palindrome(m*n):\n",
    "            print('Palindrome')\n",
    "            list_palin.append(m*n)\n",
    "    m-=1\n",
    "    n=999\n",
    "max(list_palin)"
   ]
  },
  {
   "cell_type": "markdown",
   "metadata": {},
   "source": [
    "## PE 5"
   ]
  },
  {
   "cell_type": "code",
   "execution_count": null,
   "metadata": {},
   "outputs": [],
   "source": [
    "#5 Smallest Multiple\n",
    "2520*11*13*17*19*2"
   ]
  },
  {
   "cell_type": "markdown",
   "metadata": {},
   "source": [
    "## PE 6"
   ]
  },
  {
   "cell_type": "code",
   "execution_count": null,
   "metadata": {},
   "outputs": [],
   "source": [
    "# 6 Sum Square Difference\n",
    "nums=[]\n",
    "sums=0\n",
    "n=1\n",
    "for i in range(100):\n",
    "    nums.append(n)\n",
    "    n+=1\n",
    "for num in nums:\n",
    "    sums+=num\n",
    "sums**2"
   ]
  },
  {
   "cell_type": "code",
   "execution_count": null,
   "metadata": {},
   "outputs": [],
   "source": [
    "# 6 Sum Square Difference\n",
    "nums=[]\n",
    "sums=0\n",
    "n=1\n",
    "for i in range(100):\n",
    "    nums.append(n)\n",
    "    n+=1\n",
    "for num in nums:\n",
    "    sums+=num**2\n",
    "sums\n",
    "\n",
    "#6 results\n",
    "25502500-338350"
   ]
  },
  {
   "cell_type": "markdown",
   "metadata": {},
   "source": [
    "## PE 7"
   ]
  },
  {
   "cell_type": "code",
   "execution_count": null,
   "metadata": {},
   "outputs": [],
   "source": [
    "#7 10001st Prime\n",
    "fd_prime(1)"
   ]
  },
  {
   "cell_type": "markdown",
   "metadata": {},
   "source": [
    "## PE 8"
   ]
  },
  {
   "cell_type": "code",
   "execution_count": null,
   "metadata": {},
   "outputs": [],
   "source": [
    "#8 Largest Multiple In a Series\n",
    "num=7316717653133062491922511967442657474235534919493496983520312774506326239578318016984801869478851843858615607891129494954595017379583319528532088055111254069874715852386305071569329096329522744304355766896648950445244523161731856403098711121722383113622298934233803081353362766142828064444866452387493035890729629049156044077239071381051585930796086670172427121883998797908792274921901699720888093776657273330010533678812202354218097512545405947522435258490771167055601360483958644670632441572215539753697817977846174064955149290862569321978468622482839722413756570560574902614079729686524145351004748216637048440319989000889524345065854122758866688116427171479924442928230863465674813919123162824586178664583591245665294765456828489128831426076900422421902267105562632111110937054421750694165896040807198403850962455444362981230987879927244284909188845801561660979191338754992005240636899125607176060588611646710940507754100225698315520005593572972571636269561882670428252483600823257530420752963450\n",
    "output=list(map(int, str(num)))\n",
    "nums=[0, 12]\n",
    "list_num=[]\n",
    "maxval=0\n",
    "val=1\n",
    "while nums[1]<=999:\n",
    "    num0=nums[0]\n",
    "    num1=nums[1]\n",
    "    n=num0\n",
    "    while n<=num1:\n",
    "        list_num.append(output[n])\n",
    "        n+=1\n",
    "    for i in range(13):\n",
    "        val*=list_num[i]\n",
    "    if val>maxval:\n",
    "        maxval=val\n",
    "    val=1\n",
    "    nums[0]+=1\n",
    "    nums[1]+=1\n",
    "    list_num=[]\n",
    "maxval"
   ]
  },
  {
   "cell_type": "markdown",
   "metadata": {},
   "source": [
    "## PE 9"
   ]
  },
  {
   "cell_type": "code",
   "execution_count": null,
   "metadata": {},
   "outputs": [],
   "source": [
    "#9 Special Pythagorean Triplet\n",
    "pythagoreanTriplets(750)"
   ]
  },
  {
   "cell_type": "markdown",
   "metadata": {},
   "source": [
    "## PE 10"
   ]
  },
  {
   "cell_type": "code",
   "execution_count": null,
   "metadata": {},
   "outputs": [],
   "source": [
    "#10 Summation of Primes\n",
    "sum_prime=0\n",
    "for i in range(2,2000000):\n",
    "    if prime(i):\n",
    "        sum_prime+=i\n",
    "print(sum_prime)"
   ]
  },
  {
   "cell_type": "markdown",
   "metadata": {},
   "source": [
    "## PE 11"
   ]
  },
  {
   "cell_type": "code",
   "execution_count": null,
   "metadata": {},
   "outputs": [],
   "source": [
    "#11 Largest Product in a Grid\n",
    "87*97*94*89"
   ]
  },
  {
   "cell_type": "markdown",
   "metadata": {},
   "source": [
    "## PE 12"
   ]
  },
  {
   "cell_type": "code",
   "execution_count": null,
   "metadata": {},
   "outputs": [],
   "source": [
    "#12 Highly Divisible Triangular Number\n",
    "seq=triangular_seq(12375)\n",
    "facs=[]\n",
    "for triangular in seq:\n",
    "    facs.append(num_fac(triangular))\n",
    "    if facs[-1]>=500:\n",
    "        print(len(facs))\n",
    "        break\n",
    "max(facs)\n",
    "print(len(facs))\n",
    "max(seq)"
   ]
  },
  {
   "cell_type": "markdown",
   "metadata": {},
   "source": [
    "## PE 13"
   ]
  },
  {
   "cell_type": "code",
   "execution_count": null,
   "metadata": {},
   "outputs": [],
   "source": [
    "#13 Large Sum\n",
    "import requests\n",
    "from bs4 import BeautifulSoup\n",
    "response = requests.get(\"https://projecteuler.net/problem=13\")  # Send a GET request to the URL\n",
    "soup = BeautifulSoup(response.content, \"html.parser\")   # Parse the HTML content\n",
    "numbers = soup.find(\"div\", class_=\"problem_content\").text.strip()  # Find the content of interest (in this case, the numbers)\n",
    "\n",
    "numbers_list = numbers.split('\\n')  # Split the numbers into a list, assuming each number is separated by a newline character\n",
    "numbers_list = [num for num in numbers_list if num] # Filter out any empty strings or irrelevant text\n",
    "numbers_list = numbers_list[1:101] # Ensure that we only take the first 100 numbers\n",
    "\n",
    "sum_num=0\n",
    "sets = [int(num) for num in numbers_list]  # Convert the numbers from strings to integers and store them in a list\n",
    "for num in sets:\n",
    "    sum_num+=num\n",
    "print(sum_num)"
   ]
  },
  {
   "cell_type": "markdown",
   "metadata": {},
   "source": [
    "## PE 14"
   ]
  },
  {
   "cell_type": "code",
   "execution_count": null,
   "metadata": {},
   "outputs": [],
   "source": [
    "#14 Longest Collatz Sequence\n",
    "n=1\n",
    "max_len=1\n",
    "for i in range(1000000):\n",
    "    culen=collatz_length(n)\n",
    "    if culen==525:\n",
    "        print(n)\n",
    "    if culen>max_len:\n",
    "        max_len=culen\n",
    "    n+=1"
   ]
  },
  {
   "cell_type": "markdown",
   "metadata": {},
   "source": [
    "## PE 15"
   ]
  },
  {
   "cell_type": "code",
   "execution_count": null,
   "metadata": {},
   "outputs": [],
   "source": [
    "#15 Lattice Paths\n",
    "n = 20\n",
    "result = paths(n)\n",
    "print(result)"
   ]
  },
  {
   "cell_type": "markdown",
   "metadata": {},
   "source": [
    "## PE 16"
   ]
  },
  {
   "cell_type": "code",
   "execution_count": null,
   "metadata": {},
   "outputs": [],
   "source": [
    "#16 Power Digit Sum\n",
    "num=[10715086071862673209484250490600018105614048117055336074437503883703510511249361224931983788156958581275946729175531468251871452856923140435984577574698574803934567774824230985421074605062371141877954182153046474983581941267398767559165543946077062914571196477686542167660429831652624386837205668069376]\n",
    "output=list(map(int, str(num[0])))\n",
    "sum_num=0\n",
    "for number in output:\n",
    "    sum_num+=number\n",
    "sum_num"
   ]
  },
  {
   "cell_type": "markdown",
   "metadata": {},
   "source": [
    "## PE 17"
   ]
  },
  {
   "cell_type": "code",
   "execution_count": null,
   "metadata": {},
   "outputs": [],
   "source": [
    "#17 Number Letter Counts\n",
    "solve(1000)"
   ]
  },
  {
   "cell_type": "markdown",
   "metadata": {},
   "source": [
    "## PE 18"
   ]
  },
  {
   "cell_type": "code",
   "execution_count": null,
   "metadata": {},
   "outputs": [],
   "source": [
    "#18 Maximum Path Sum I\n",
    "l1=[75]\n",
    "l2=[95, 64]\n",
    "l3=[17, 47, 82]\n",
    "l4=[18, 35, 87, 10]\n",
    "l5=[20, 4, 82, 47, 65]\n",
    "l6=[19, 1, 23, 75, 3, 34]\n",
    "l7=[88, 2, 77, 73, 7, 63, 67]\n",
    "l8=[99, 65, 4, 28, 6, 16, 70, 92]\n",
    "l9=[41, 41, 26, 56, 83, 40, 80, 70, 33]\n",
    "l10=[41, 48, 72, 33, 47, 32, 37, 16, 94, 29]\n",
    "l11=[53, 71, 44, 65, 25, 43, 91, 52, 97, 51, 14]\n",
    "l12=[70, 11, 33, 28, 77, 73, 17, 78, 39, 68, 17, 57]\n",
    "l13=[91, 71, 52, 38, 17, 14, 91, 43, 58, 50, 27, 29, 48]\n",
    "l14=[63, 66, 4, 68, 89, 53, 67, 30, 73, 16, 69, 87, 40, 31]\n",
    "l15=[4, 62, 98, 27, 23, 9, 70, 98, 73, 93, 38, 53, 60, 4, 23]\n",
    "triangle=[l1, l2, l3, l4, l5, l6, l7, l8, l9, l10, l11, l12, l13, l14, l15]\n",
    "for i in range(len(triangle) - 2, -1, -1):\n",
    "    for j in range(len(triangle[i])):\n",
    "        triangle[i][j] += max(triangle[i + 1][j], triangle[i + 1][j + 1])\n",
    "max_total = triangle[0][0]\n",
    "print(max_total)"
   ]
  },
  {
   "cell_type": "markdown",
   "metadata": {},
   "source": [
    "## PE 19"
   ]
  },
  {
   "cell_type": "code",
   "execution_count": null,
   "metadata": {},
   "outputs": [],
   "source": [
    "#19 Counting Sundays\n",
    "import datetime\n",
    "count=0\n",
    "for year in range(1901, 2001):\n",
    "    for month in range(1, 13):\n",
    "        if datetime.date(year, month, 1).weekday()==6:\n",
    "            count+=1\n",
    "print(count)"
   ]
  },
  {
   "cell_type": "markdown",
   "metadata": {},
   "source": [
    "## PE 20"
   ]
  },
  {
   "cell_type": "code",
   "execution_count": null,
   "metadata": {},
   "outputs": [],
   "source": [
    "#20 Factorial Digit Sum\n",
    "num=fact(100)\n",
    "output=list(map(int, str(num)))\n",
    "sum_num=0\n",
    "for number in output:\n",
    "    sum_num+=number\n",
    "sum_num"
   ]
  },
  {
   "cell_type": "markdown",
   "metadata": {},
   "source": [
    "## PE 21"
   ]
  },
  {
   "cell_type": "code",
   "execution_count": null,
   "metadata": {},
   "outputs": [],
   "source": [
    "# 21 Amicable Numbers\n",
    "amic=[]\n",
    "for i in range(1,10000):\n",
    "    if amicable(i):\n",
    "        amic.append(i)\n",
    "sum(amic)"
   ]
  },
  {
   "cell_type": "markdown",
   "metadata": {},
   "source": [
    "## PE 22"
   ]
  },
  {
   "cell_type": "code",
   "execution_count": null,
   "metadata": {},
   "outputs": [],
   "source": [
    "#22 Names Scores\n",
    "import requests\n",
    "response = requests.get(\"https://projecteuler.net/resources/documents/0022_names.txt\")   # Send a GET request to the URL\n",
    "content = response.text     # Read the content of the response\n",
    "names = [name.strip('\"') for name in content.split(',')]  # Split the content by comma and remove double quotes\n",
    "names.sort()\n",
    "\n",
    "value={'A':1, 'B':2, 'C':3, 'D':4, 'E':5, 'F':6, 'G':7, 'H':8, 'I':9, 'J':10, 'K':11, 'L':12, 'M':13, 'N':14, 'O':15, 'P':16, 'Q':17, 'R':18, 'S':19, 'T':20, 'U':21, 'V':22, 'W':23, 'X':24, 'Y':25, 'Z':26}\n",
    "tot_score=0\n",
    "place=1\n",
    "for name in names:\n",
    "    score=0\n",
    "    for letter in name:\n",
    "        score+=value[letter]\n",
    "    score*=place\n",
    "    tot_score+=score\n",
    "    place+=1\n",
    "tot_score"
   ]
  },
  {
   "cell_type": "code",
   "execution_count": null,
   "metadata": {},
   "outputs": [],
   "source": [
    "def factors(n):\n",
    "    facs = {1}\n",
    "    for i in range(2, int(n**0.5)+1):\n",
    "        if n%i==0:\n",
    "            facs.add(i)\n",
    "            facs.add(n // i)\n",
    "    return facs\n",
    "def abundant(n):\n",
    "    return sum(factors(n)) > n\n",
    "def sum_abundant(n, abundant_numbers):\n",
    "    for ab in abundant_numbers:\n",
    "        if (n - ab) in abundant_numbers:\n",
    "            return True\n",
    "    return False\n",
    "abundant_numbers = {i for i in range(12, 28124) if abundant(i)}\n",
    "non_abundant_sums = [i for i in range(1, 28124) if not sum_abundant(i, abundant_numbers)]\n",
    "result = sum(non_abundant_sums)\n",
    "print(result)\n"
   ]
  },
  {
   "cell_type": "markdown",
   "metadata": {},
   "source": [
    "## PE 23"
   ]
  },
  {
   "cell_type": "code",
   "execution_count": null,
   "metadata": {},
   "outputs": [],
   "source": [
    "# 23 Non-Abundant Sums\n",
    "def factors(n):\n",
    "    facs=[1]\n",
    "    for i in range(2,int(n**0.5)+1):  # 非常耗时，缩小范围\n",
    "        if n%i==0:\n",
    "            facs.append(i)\n",
    "            facs.append(n//i)\n",
    "    return facs\n",
    "\n",
    "def abundant(n):\n",
    "    return sum(factors(n))>n\n",
    "\n",
    "def sum_abundant(n,abundant_numbers):\n",
    "    for ab in abundant_numbers:\n",
    "        if (n - ab) in abundant_numbers:\n",
    "            return True\n",
    "    return False\n",
    "abundant_numbers = {i for i in range(12, 28124) if abundant(i)}\n",
    "non_abundant_sums = [i for i in range(1, 28124) if not sum_abundant(i, abundant_numbers)]\n",
    "\n",
    "sum(non_abundant_sums) # Error: smaller by 258348"
   ]
  },
  {
   "cell_type": "markdown",
   "metadata": {},
   "source": [
    "## PE 24"
   ]
  },
  {
   "cell_type": "code",
   "execution_count": null,
   "metadata": {},
   "outputs": [],
   "source": [
    "#24 Lexicographic Permutations\n",
    "import itertools\n",
    "permutations = list(itertools.permutations(range(10)))\n",
    "millionth_permutation = int(''.join(map(str, permutations[999999])))\n",
    "millionth_permutation"
   ]
  },
  {
   "cell_type": "markdown",
   "metadata": {},
   "source": [
    "## PE 25"
   ]
  },
  {
   "cell_type": "code",
   "execution_count": null,
   "metadata": {},
   "outputs": [],
   "source": [
    "#25 1000 Digit Fibonacci Number\n",
    "fastFib(4781)\n",
    "length(1731403589222002957294429346518895723709506082039860786521776201969997425190002580820509546929820263058457975554718584767897610032505496877507394744099980978096953962557220579370143960032185044755214925165471985133186165562568372954212266775160479690961083330407371040988504455586839093910684051542272860673487922394300583546141201071181523567766482697651998576131907383462584505182933770187893410602855362990044627645611957937480375221691136281665191108770486046208365987457152897898978151032624598781944378501953255407873508942191356136619446735012761729556373994129675990036580541567079157500214451848590106380276929004769735246144938528628285344388350842365138183068393693524442382719001304601982880025898373942014814103022093332575900147730351419594078092359452500825422173232850278854098501036548721303293491571977471641513836658780413653798660841910284032061829208989654332339843602086914702633919395534251088908273898020000096184168171559429402858006596531459999394154832243826895270097988797)"
   ]
  }
 ],
 "metadata": {
  "kernelspec": {
   "display_name": "base",
   "language": "python",
   "name": "python3"
  },
  "language_info": {
   "codemirror_mode": {
    "name": "ipython",
    "version": 3
   },
   "file_extension": ".py",
   "mimetype": "text/x-python",
   "name": "python",
   "nbconvert_exporter": "python",
   "pygments_lexer": "ipython3",
   "version": "3.10.14"
  }
 },
 "nbformat": 4,
 "nbformat_minor": 2
}
