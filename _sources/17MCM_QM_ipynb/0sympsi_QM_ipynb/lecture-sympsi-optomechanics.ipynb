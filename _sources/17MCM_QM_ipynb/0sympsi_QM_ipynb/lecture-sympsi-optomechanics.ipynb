{
 "metadata": {
  "name": "",
  "signature": "sha256:51895f9982b1da68e92b74354f8e4ca0122adc96bdc8df04113fa2e184ed22bb"
 },
 "nbformat": 3,
 "nbformat_minor": 0,
 "worksheets": [
  {
   "cells": [
    {
     "cell_type": "heading",
     "level": 1,
     "metadata": {},
     "source": [
      "Lecture 5 - Symbolic quantum mechanics using SymPsi - Optomechanics"
     ]
    },
    {
     "cell_type": "markdown",
     "metadata": {},
     "source": [
      "<style>\n",
      "p {\n",
      "    font-family: \"Liberation Serif\", serif;\n",
      "    font-size: 12pt;\n",
      "}\n",
      "</style>"
     ]
    },
    {
     "cell_type": "markdown",
     "metadata": {},
     "source": [
      "Author: J. R. Johansson (robert@riken.jp), [http://jrjohansson.github.io](http://jrjohansson.github.io).\n",
      "\n",
      "Status: Preliminary (work in progress)\n",
      "\n",
      "This notebook is part of a series of IPython notebooks on symbolic quantum mechanics computations using \n",
      "[SymPy](http://sympy.org) and [SymPsi](http://www.github.com/jrjohansson/sympsi). SymPsi is an experimental fork and extension of the [`sympy.physics.quantum`](http://docs.sympy.org/dev/modules/physics/quantum/) module in SymPy. The latest version of this notebook is available at [http://github.com/jrjohansson/sympy-quantum-notebooks](http://github.com/jrjohansson/sympy-quantum-notebooks), and the other notebooks in this lecture series are also indexed at [http://jrjohansson.github.io](http://jrjohansson.github.com).\n",
      "\n",
      "Requirements: A recent version of SymPy and the latest development version of SymPsi is required to execute this notebook. Instructions for how to install SymPsi is available [here](http://www.github.com/jrjohansson/sympsi).\n",
      "\n",
      "Disclaimer: The SymPsi module is still under active development and may change in behavior without notice, and the intention is to move some of its features to [`sympy.physics.quantum`](http://docs.sympy.org/dev/modules/physics/quantum/) when they matured and have been tested. However, these notebooks will be kept up-to-date the latest versions of SymPy and SymPsi."
     ]
    },
    {
     "cell_type": "heading",
     "level": 2,
     "metadata": {},
     "source": [
      "Setup modules"
     ]
    },
    {
     "cell_type": "code",
     "collapsed": false,
     "input": [
      "from sympy import *\n",
      "init_printing()"
     ],
     "language": "python",
     "metadata": {},
     "outputs": [],
     "prompt_number": 1
    },
    {
     "cell_type": "code",
     "collapsed": false,
     "input": [
      "from sympsi import *\n",
      "from sympsi.boson import *\n",
      "from sympsi.operatorordering import *"
     ],
     "language": "python",
     "metadata": {},
     "outputs": [],
     "prompt_number": 2
    },
    {
     "cell_type": "heading",
     "level": 2,
     "metadata": {},
     "source": [
      "Optomechanical system"
     ]
    },
    {
     "cell_type": "markdown",
     "metadata": {},
     "source": [
      "Consider the standard Hamiltonian for an optomechanical system, including a classical driving signal on the optical mode:\n",
      "\n",
      "$$\n",
      "H = \\hbar\\omega_a a^\\dagger a + \\hbar \\omega_b b^\\dagger b - \\hbar g a^\\dagger a (b + b^\\dagger) + (A e^{-i\\omega_d t} + A^* e^{i\\omega_d t})(a + a^\\dagger)\n",
      "$$\n",
      "\n"
     ]
    },
    {
     "cell_type": "code",
     "collapsed": false,
     "input": [
      "omega_a, omega_b, g, A, Delta, t = symbols(\"omega_a, omega_b, g, A, Delta, t\", positive=True)\n",
      "Hsym, omega_d = symbols(\"H, omega_d\")"
     ],
     "language": "python",
     "metadata": {},
     "outputs": [],
     "prompt_number": 3
    },
    {
     "cell_type": "code",
     "collapsed": false,
     "input": [
      "a, b = BosonOp(\"a\"), BosonOp(\"b\")"
     ],
     "language": "python",
     "metadata": {},
     "outputs": [],
     "prompt_number": 4
    },
    {
     "cell_type": "code",
     "collapsed": false,
     "input": [
      "H0 = omega_a * Dagger(a) * a + omega_b * Dagger(b) * b - g * Dagger(a) * a * (b + Dagger(b))\n",
      "\n",
      "Hdrive = (A * exp(-I * omega_d * t) + conjugate(A) * exp(I * omega_d * t)) * (a + Dagger(a))\n",
      "\n",
      "H = H0 + Hdrive\n",
      "\n",
      "Eq(Hsym, H)"
     ],
     "language": "python",
     "metadata": {},
     "outputs": [
      {
       "latex": [
        "$$H = - g {{a}^\\dagger} {a} \\left({{b}^\\dagger} + {b}\\right) + \\omega_{a} {{a}^\\dagger} {a} + \\omega_{b} {{b}^\\dagger} {b} + \\left(A e^{i \\omega_{d} t} + A e^{- i \\omega_{d} t}\\right) \\left({{a}^\\dagger} + {a}\\right)$$"
       ],
       "metadata": {},
       "output_type": "pyout",
       "png": "[encoded data removed]",
       "prompt_number": 5,
       "text": [
        "         \u2020   \u239b \u2020    \u239e       \u2020          \u2020     \u239b   \u2148\u22c5\u03c9_d\u22c5t      -\u2148\u22c5\u03c9_d\u22c5t\u239e \u239b \u2020   \n",
        "H = - g\u22c5a \u22c5a\u22c5\u239db  + b\u23a0 + \u03c9\u2090\u22c5a \u22c5a + \u03c9_b\u22c5b \u22c5b + \u239dA\u22c5\u212f        + A\u22c5\u212f        \u23a0\u22c5\u239da  + \n",
        "\n",
        " \u239e\n",
        "a\u23a0"
       ]
      }
     ],
     "prompt_number": 5
    },
    {
     "cell_type": "heading",
     "level": 3,
     "metadata": {},
     "source": [
      "Linearized interaction"
     ]
    },
    {
     "cell_type": "markdown",
     "metadata": {},
     "source": [
      "First we apply the unitary transformation $U = e^{i \\omega_d a^\\dagger a t}$:"
     ]
    },
    {
     "cell_type": "code",
     "collapsed": false,
     "input": [
      "U = exp(I * Dagger(a) * a * omega_d * t)\n",
      "\n",
      "U"
     ],
     "language": "python",
     "metadata": {},
     "outputs": [
      {
       "latex": [
        "$$e^{i \\omega_{d} t {{a}^\\dagger} {a}}$$"
       ],
       "metadata": {},
       "output_type": "pyout",
       "png": "[encoded data removed]",
       "prompt_number": 6,
       "text": [
        "          \u2020  \n",
        " \u2148\u22c5\u03c9_d\u22c5t\u22c5a \u22c5a\n",
        "\u212f            "
       ]
      }
     ],
     "prompt_number": 6
    },
    {
     "cell_type": "code",
     "collapsed": false,
     "input": [
      "H1 = hamiltonian_transformation(U, H, independent=True)\n",
      "\n",
      "H1"
     ],
     "language": "python",
     "metadata": {},
     "outputs": [
      {
       "latex": [
        "$$- g {{a}^\\dagger} {a} \\left({{b}^\\dagger} + {b}\\right) + \\omega_{a} {{a}^\\dagger} {a} + \\omega_{b} {{b}^\\dagger} {b} - \\omega_{d} {{a}^\\dagger} {a} + \\left(A e^{i \\omega_{d} t} + A e^{- i \\omega_{d} t}\\right) \\left(e^{i \\omega_{d} t} {{a}^\\dagger} + e^{- i \\omega_{d} t} {a}\\right)$$"
       ],
       "metadata": {},
       "output_type": "pyout",
       "png": "[encoded data removed]",
       "prompt_number": 7,
       "text": [
        "     \u2020   \u239b \u2020    \u239e       \u2020          \u2020          \u2020     \u239b   \u2148\u22c5\u03c9_d\u22c5t      -\u2148\u22c5\u03c9_d\u22c5t\u239e\n",
        "- g\u22c5a \u22c5a\u22c5\u239db  + b\u23a0 + \u03c9\u2090\u22c5a \u22c5a + \u03c9_b\u22c5b \u22c5b - \u03c9_d\u22c5a \u22c5a + \u239dA\u22c5\u212f        + A\u22c5\u212f        \u23a0\n",
        "\n",
        " \u239b \u2148\u22c5\u03c9_d\u22c5t  \u2020    -\u2148\u22c5\u03c9_d\u22c5t  \u239e\n",
        "\u22c5\u239d\u212f       \u22c5a  + \u212f        \u22c5a\u23a0"
       ]
      }
     ],
     "prompt_number": 7
    },
    {
     "cell_type": "markdown",
     "metadata": {},
     "source": [
      "We can now perform a rotating-wave approximation (RWA) by eliminating all terms that rotate with frequencies $2\\omega_d$:"
     ]
    },
    {
     "cell_type": "code",
     "collapsed": false,
     "input": [
      "H2 = drop_terms_containing(H1.expand(), [exp(-2*I*omega_d*t), exp(2*I*omega_d*t)])\n",
      "\n",
      "Eq(Symbol(\"H_{rwa}\"), H2)"
     ],
     "language": "python",
     "metadata": {},
     "outputs": [
      {
       "latex": [
        "$$H_{{rwa}} = A {{a}^\\dagger} + A {a} - g {{a}^\\dagger} {a} {{b}^\\dagger} - g {{a}^\\dagger} {a} {b} + \\omega_{a} {{a}^\\dagger} {a} + \\omega_{b} {{b}^\\dagger} {b} - \\omega_{d} {{a}^\\dagger} {a}$$"
       ],
       "metadata": {},
       "output_type": "pyout",
       "png": "[encoded data removed]",
       "prompt_number": 8,
       "text": [
        "             \u2020            \u2020    \u2020      \u2020           \u2020          \u2020          \u2020  \n",
        "H_{rwa} = A\u22c5a  + A\u22c5a - g\u22c5a \u22c5a\u22c5b  - g\u22c5a \u22c5a\u22c5b + \u03c9\u2090\u22c5a \u22c5a + \u03c9_b\u22c5b \u22c5b - \u03c9_d\u22c5a \u22c5a"
       ]
      }
     ],
     "prompt_number": 8
    },
    {
     "cell_type": "markdown",
     "metadata": {},
     "source": [
      "Introduce the detuning $\\Delta = \\omega_a - \\omega_d$:"
     ]
    },
    {
     "cell_type": "code",
     "collapsed": false,
     "input": [
      "H3 = H2.subs(omega_a, Delta + omega_d).expand()\n",
      "\n",
      "H3"
     ],
     "language": "python",
     "metadata": {},
     "outputs": [
      {
       "latex": [
        "$$A {{a}^\\dagger} + A {a} + \\Delta {{a}^\\dagger} {a} - g {{a}^\\dagger} {a} {{b}^\\dagger} - g {{a}^\\dagger} {a} {b} + \\omega_{b} {{b}^\\dagger} {b}$$"
       ],
       "metadata": {},
       "output_type": "pyout",
       "png": "[encoded data removed]",
       "prompt_number": 9,
       "text": [
        "   \u2020            \u2020        \u2020    \u2020      \u2020            \u2020  \n",
        "A\u22c5a  + A\u22c5a + \u0394\u22c5a \u22c5a - g\u22c5a \u22c5a\u22c5b  - g\u22c5a \u22c5a\u22c5b + \u03c9_b\u22c5b \u22c5b"
       ]
      }
     ],
     "prompt_number": 9
    },
    {
     "cell_type": "markdown",
     "metadata": {},
     "source": [
      "To eliminate the coherent part of the state of the cavity mode we apply the unitary displacement operator $U = e^{\\alpha a^\\dagger - \\alpha^*a}$:"
     ]
    },
    {
     "cell_type": "code",
     "collapsed": false,
     "input": [
      "alpha = symbols(\"alpha\")"
     ],
     "language": "python",
     "metadata": {},
     "outputs": [],
     "prompt_number": 10
    },
    {
     "cell_type": "code",
     "collapsed": false,
     "input": [
      "UH = Dagger(a) * alpha - conjugate(alpha) * a\n",
      "U = exp(UH)\n",
      "\n",
      "U"
     ],
     "language": "python",
     "metadata": {},
     "outputs": [
      {
       "latex": [
        "$$e^{\\alpha {{a}^\\dagger} - \\overline{\\alpha} {a}}$$"
       ],
       "metadata": {},
       "output_type": "pyout",
       "png": "[encoded data removed]",
       "prompt_number": 11,
       "text": [
        "    \u2020   _  \n",
        " \u03b1\u22c5a  - \u03b1\u22c5a\n",
        "\u212f          "
       ]
      }
     ],
     "prompt_number": 11
    },
    {
     "cell_type": "code",
     "collapsed": false,
     "input": [
      "H4 = hamiltonian_transformation(U, H3, independent=True)\n",
      "\n",
      "H4"
     ],
     "language": "python",
     "metadata": {},
     "outputs": [
      {
       "latex": [
        "$$A \\left(- \\alpha + {a}\\right) + A \\left(- \\overline{\\alpha} + {{a}^\\dagger}\\right) + \\Delta \\left(- \\overline{\\alpha} + {{a}^\\dagger}\\right) \\left(- \\alpha + {a}\\right) - g \\left(- \\overline{\\alpha} + {{a}^\\dagger}\\right) \\left(- \\alpha + {a}\\right) {{b}^\\dagger} - g \\left(- \\overline{\\alpha} + {{a}^\\dagger}\\right) \\left(- \\alpha + {a}\\right) {b} + \\omega_{b} {{b}^\\dagger} {b}$$"
       ],
       "metadata": {},
       "output_type": "pyout",
       "png": "[encoded data removed]",
       "prompt_number": 12,
       "text": [
        "               \u239b  _    \u2020\u239e     \u239b  _    \u2020\u239e              \u239b  _    \u2020\u239e           \u2020  \n",
        "A\u22c5(-\u03b1 + a) + A\u22c5\u239d- \u03b1 + a \u23a0 + \u0394\u22c5\u239d- \u03b1 + a \u23a0\u22c5(-\u03b1 + a) - g\u22c5\u239d- \u03b1 + a \u23a0\u22c5(-\u03b1 + a)\u22c5b  -\n",
        "\n",
        "   \u239b  _    \u2020\u239e                   \u2020  \n",
        " g\u22c5\u239d- \u03b1 + a \u23a0\u22c5(-\u03b1 + a)\u22c5b + \u03c9_b\u22c5b \u22c5b"
       ]
      }
     ],
     "prompt_number": 12
    },
    {
     "cell_type": "markdown",
     "metadata": {},
     "source": [
      "Now want to cancel out the drivng terms so we set $A - \\Delta \\alpha = 0$, i.e. $\\alpha = A/\\Delta$:"
     ]
    },
    {
     "cell_type": "code",
     "collapsed": false,
     "input": [
      "H5 = H4.expand().subs({A: alpha * Delta, conjugate(alpha): alpha}) \n",
      "\n",
      "H5 = collect(H5, [g * Dagger(a) * a, - alpha * g])\n",
      "\n",
      "H5"
     ],
     "language": "python",
     "metadata": {},
     "outputs": [
      {
       "latex": [
        "$$- \\Delta \\alpha^{2} + \\Delta {{a}^\\dagger} {a} + \\alpha^{2} g \\left(- {{b}^\\dagger} - {b}\\right) + \\alpha g \\left({{a}^\\dagger} {{b}^\\dagger} + {{a}^\\dagger} {b} + {a} {{b}^\\dagger} + {a} {b}\\right) + g {{a}^\\dagger} {a} \\left(- {{b}^\\dagger} - {b}\\right) + \\omega_{b} {{b}^\\dagger} {b}$$"
       ],
       "metadata": {},
       "output_type": "pyout",
       "png": "[encoded data removed]",
       "prompt_number": 13,
       "text": [
        "     2      \u2020      2   \u239b   \u2020    \u239e       \u239b \u2020  \u2020    \u2020        \u2020      \u239e      \u2020   \u239b\n",
        "- \u0394\u22c5\u03b1  + \u0394\u22c5a \u22c5a + \u03b1 \u22c5g\u22c5\u239d- b  - b\u23a0 + \u03b1\u22c5g\u22c5\u239da \u22c5b  + a \u22c5b + a\u22c5b  + a\u22c5b\u23a0 + g\u22c5a \u22c5a\u22c5\u239d\n",
        "\n",
        "   \u2020    \u239e        \u2020  \n",
        "- b  - b\u23a0 + \u03c9_b\u22c5b \u22c5b"
       ]
      }
     ],
     "prompt_number": 13
    },
    {
     "cell_type": "markdown",
     "metadata": {},
     "source": [
      "Drop C-numbers from the Hamiltonian:"
     ]
    },
    {
     "cell_type": "code",
     "collapsed": false,
     "input": [
      "H6 = drop_c_number_terms(H5)\n",
      "\n",
      "H6"
     ],
     "language": "python",
     "metadata": {},
     "outputs": [
      {
       "latex": [
        "$$\\Delta {{a}^\\dagger} {a} + \\alpha^{2} g \\left(- {{b}^\\dagger} - {b}\\right) + \\alpha g \\left({{a}^\\dagger} {{b}^\\dagger} + {{a}^\\dagger} {b} + {a} {{b}^\\dagger} + {a} {b}\\right) + g {{a}^\\dagger} {a} \\left(- {{b}^\\dagger} - {b}\\right) + \\omega_{b} {{b}^\\dagger} {b}$$"
       ],
       "metadata": {},
       "output_type": "pyout",
       "png": "[encoded data removed]",
       "prompt_number": 14,
       "text": [
        "   \u2020      2   \u239b   \u2020    \u239e       \u239b \u2020  \u2020    \u2020        \u2020      \u239e      \u2020   \u239b   \u2020    \u239e\n",
        "\u0394\u22c5a \u22c5a + \u03b1 \u22c5g\u22c5\u239d- b  - b\u23a0 + \u03b1\u22c5g\u22c5\u239da \u22c5b  + a \u22c5b + a\u22c5b  + a\u22c5b\u23a0 + g\u22c5a \u22c5a\u22c5\u239d- b  - b\u23a0\n",
        "\n",
        "        \u2020  \n",
        " + \u03c9_b\u22c5b \u22c5b"
       ]
      }
     ],
     "prompt_number": 14
    },
    {
     "cell_type": "markdown",
     "metadata": {},
     "source": [
      "Now, if driving strength is large, so that $\\alpha \\gg 1$, we can drop the nonlinear interaction term, and we have an linear effective coupling:"
     ]
    },
    {
     "cell_type": "code",
     "collapsed": false,
     "input": [
      "H7 = H6.subs(g * Dagger(a) * a, 0)\n",
      "\n",
      "e = (a + Dagger(a)) * (b + Dagger(b))\n",
      "H7 = H7.subs(e.expand(), e)\n",
      "\n",
      "Eq(Hsym, H7)"
     ],
     "language": "python",
     "metadata": {},
     "outputs": [
      {
       "latex": [
        "$$H = \\Delta {{a}^\\dagger} {a} + \\alpha^{2} g \\left(- {{b}^\\dagger} - {b}\\right) + \\alpha g \\left({{a}^\\dagger} + {a}\\right) \\left({{b}^\\dagger} + {b}\\right) + \\omega_{b} {{b}^\\dagger} {b}$$"
       ],
       "metadata": {},
       "output_type": "pyout",
       "png": "[encoded data removed]",
       "prompt_number": 15,
       "text": [
        "       \u2020      2   \u239b   \u2020    \u239e       \u239b \u2020    \u239e \u239b \u2020    \u239e        \u2020  \n",
        "H = \u0394\u22c5a \u22c5a + \u03b1 \u22c5g\u22c5\u239d- b  - b\u23a0 + \u03b1\u22c5g\u22c5\u239da  + a\u23a0\u22c5\u239db  + b\u23a0 + \u03c9_b\u22c5b \u22c5b"
       ]
      }
     ],
     "prompt_number": 15
    },
    {
     "cell_type": "markdown",
     "metadata": {},
     "source": [
      "This linearlized optomechanical Hamiltonian has at least two interesting regimes:"
     ]
    },
    {
     "cell_type": "heading",
     "level": 3,
     "metadata": {},
     "source": [
      "Red sideband"
     ]
    },
    {
     "cell_type": "markdown",
     "metadata": {},
     "source": [
      "The red sideband regime occurs when the detuning is $\\Delta = \\omega_b$. In this case, if we move to a frame rotating with the driving field, we obtain:"
     ]
    },
    {
     "cell_type": "code",
     "collapsed": false,
     "input": [
      "H1 = H7\n",
      "H1"
     ],
     "language": "python",
     "metadata": {},
     "outputs": [
      {
       "latex": [
        "$$\\Delta {{a}^\\dagger} {a} + \\alpha^{2} g \\left(- {{b}^\\dagger} - {b}\\right) + \\alpha g \\left({{a}^\\dagger} + {a}\\right) \\left({{b}^\\dagger} + {b}\\right) + \\omega_{b} {{b}^\\dagger} {b}$$"
       ],
       "metadata": {},
       "output_type": "pyout",
       "png": "[encoded data removed]",
       "prompt_number": 16,
       "text": [
        "   \u2020      2   \u239b   \u2020    \u239e       \u239b \u2020    \u239e \u239b \u2020    \u239e        \u2020  \n",
        "\u0394\u22c5a \u22c5a + \u03b1 \u22c5g\u22c5\u239d- b  - b\u23a0 + \u03b1\u22c5g\u22c5\u239da  + a\u23a0\u22c5\u239db  + b\u23a0 + \u03c9_b\u22c5b \u22c5b"
       ]
      }
     ],
     "prompt_number": 16
    },
    {
     "cell_type": "code",
     "collapsed": false,
     "input": [
      "U = exp(I * Dagger(a) * a * Delta * t)\n",
      "U"
     ],
     "language": "python",
     "metadata": {},
     "outputs": [
      {
       "latex": [
        "$$e^{i \\Delta t {{a}^\\dagger} {a}}$$"
       ],
       "metadata": {},
       "output_type": "pyout",
       "png": "[encoded data removed]",
       "prompt_number": 17,
       "text": [
        "        \u2020  \n",
        " \u2148\u22c5\u0394\u22c5t\u22c5a \u22c5a\n",
        "\u212f          "
       ]
      }
     ],
     "prompt_number": 17
    },
    {
     "cell_type": "code",
     "collapsed": false,
     "input": [
      "H2 = hamiltonian_transformation(U, H1, independent=True)\n",
      "H2"
     ],
     "language": "python",
     "metadata": {},
     "outputs": [
      {
       "latex": [
        "$$\\alpha^{2} g \\left(- {{b}^\\dagger} - {b}\\right) + \\alpha g \\left(e^{i \\Delta t} {{a}^\\dagger} + e^{- i \\Delta t} {a}\\right) \\left({{b}^\\dagger} + {b}\\right) + \\omega_{b} {{b}^\\dagger} {b}$$"
       ],
       "metadata": {},
       "output_type": "pyout",
       "png": "[encoded data removed]",
       "prompt_number": 18,
       "text": [
        " 2   \u239b   \u2020    \u239e       \u239b \u2148\u22c5\u0394\u22c5t  \u2020    -\u2148\u22c5\u0394\u22c5t  \u239e \u239b \u2020    \u239e        \u2020  \n",
        "\u03b1 \u22c5g\u22c5\u239d- b  - b\u23a0 + \u03b1\u22c5g\u22c5\u239d\u212f     \u22c5a  + \u212f      \u22c5a\u23a0\u22c5\u239db  + b\u23a0 + \u03c9_b\u22c5b \u22c5b"
       ]
      }
     ],
     "prompt_number": 18
    },
    {
     "cell_type": "code",
     "collapsed": false,
     "input": [
      "U = exp(I * Dagger(b) * b * omega_b * t)\n",
      "U"
     ],
     "language": "python",
     "metadata": {},
     "outputs": [
      {
       "latex": [
        "$$e^{i \\omega_{b} t {{b}^\\dagger} {b}}$$"
       ],
       "metadata": {},
       "output_type": "pyout",
       "png": "[encoded data removed]",
       "prompt_number": 19,
       "text": [
        "          \u2020  \n",
        " \u2148\u22c5\u03c9_b\u22c5t\u22c5b \u22c5b\n",
        "\u212f            "
       ]
      }
     ],
     "prompt_number": 19
    },
    {
     "cell_type": "code",
     "collapsed": false,
     "input": [
      "H3 = hamiltonian_transformation(U, H2, independent=True)\n",
      "H3"
     ],
     "language": "python",
     "metadata": {},
     "outputs": [
      {
       "latex": [
        "$$\\alpha^{2} g \\left(- e^{i \\omega_{b} t} {{b}^\\dagger} - e^{- i \\omega_{b} t} {b}\\right) + \\alpha g \\left(e^{i \\Delta t} {{a}^\\dagger} + e^{- i \\Delta t} {a}\\right) \\left(e^{i \\omega_{b} t} {{b}^\\dagger} + e^{- i \\omega_{b} t} {b}\\right)$$"
       ],
       "metadata": {},
       "output_type": "pyout",
       "png": "[encoded data removed]",
       "prompt_number": 20,
       "text": [
        " 2   \u239b   \u2148\u22c5\u03c9_b\u22c5t  \u2020    -\u2148\u22c5\u03c9_b\u22c5t  \u239e       \u239b \u2148\u22c5\u0394\u22c5t  \u2020    -\u2148\u22c5\u0394\u22c5t  \u239e \u239b \u2148\u22c5\u03c9_b\u22c5t  \u2020 \n",
        "\u03b1 \u22c5g\u22c5\u239d- \u212f       \u22c5b  - \u212f        \u22c5b\u23a0 + \u03b1\u22c5g\u22c5\u239d\u212f     \u22c5a  + \u212f      \u22c5a\u23a0\u22c5\u239d\u212f       \u22c5b  \n",
        "\n",
        "   -\u2148\u22c5\u03c9_b\u22c5t  \u239e\n",
        "+ \u212f        \u22c5b\u23a0"
       ]
      }
     ],
     "prompt_number": 20
    },
    {
     "cell_type": "markdown",
     "metadata": {},
     "source": [
      "If we substitute $\\Delta = \\omega_b$ we get:"
     ]
    },
    {
     "cell_type": "code",
     "collapsed": false,
     "input": [
      "H4 = H3.expand().subs(Delta, omega_b)\n",
      "H4"
     ],
     "language": "python",
     "metadata": {},
     "outputs": [
      {
       "latex": [
        "$$- \\alpha^{2} g e^{i \\omega_{b} t} {{b}^\\dagger} - \\alpha^{2} g e^{- i \\omega_{b} t} {b} + \\alpha g e^{2 i \\omega_{b} t} {{a}^\\dagger} {{b}^\\dagger} + \\alpha g {{a}^\\dagger} {b} + \\alpha g {a} {{b}^\\dagger} + \\alpha g e^{- 2 i \\omega_{b} t} {a} {b}$$"
       ],
       "metadata": {},
       "output_type": "pyout",
       "png": "[encoded data removed]",
       "prompt_number": 21,
       "text": [
        "   2    \u2148\u22c5\u03c9_b\u22c5t  \u2020    2    -\u2148\u22c5\u03c9_b\u22c5t          2\u22c5\u2148\u22c5\u03c9_b\u22c5t  \u2020  \u2020        \u2020         \n",
        "- \u03b1 \u22c5g\u22c5\u212f       \u22c5b  - \u03b1 \u22c5g\u22c5\u212f        \u22c5b + \u03b1\u22c5g\u22c5\u212f         \u22c5a \u22c5b  + \u03b1\u22c5g\u22c5a \u22c5b + \u03b1\u22c5g\u22c5\n",
        "\n",
        "   \u2020        -2\u22c5\u2148\u22c5\u03c9_b\u22c5t    \n",
        "a\u22c5b  + \u03b1\u22c5g\u22c5\u212f          \u22c5a\u22c5b"
       ]
      }
     ],
     "prompt_number": 21
    },
    {
     "cell_type": "markdown",
     "metadata": {},
     "source": [
      "Now we can do a rotating-wave approximation and get rid of terms rotating at angular frequencies $2\\omega_b$, and then transform back to the original frame:"
     ]
    },
    {
     "cell_type": "code",
     "collapsed": false,
     "input": [
      "H5 = drop_terms_containing(H4, [exp(+2 * I * omega_b * t), exp(-2 * I * omega_b * t)])\n",
      "H5"
     ],
     "language": "python",
     "metadata": {},
     "outputs": [
      {
       "latex": [
        "$$- \\alpha^{2} g e^{i \\omega_{b} t} {{b}^\\dagger} - \\alpha^{2} g e^{- i \\omega_{b} t} {b} + \\alpha g {{a}^\\dagger} {b} + \\alpha g {a} {{b}^\\dagger}$$"
       ],
       "metadata": {},
       "output_type": "pyout",
       "png": "[encoded data removed]",
       "prompt_number": 22,
       "text": [
        "   2    \u2148\u22c5\u03c9_b\u22c5t  \u2020    2    -\u2148\u22c5\u03c9_b\u22c5t          \u2020            \u2020\n",
        "- \u03b1 \u22c5g\u22c5\u212f       \u22c5b  - \u03b1 \u22c5g\u22c5\u212f        \u22c5b + \u03b1\u22c5g\u22c5a \u22c5b + \u03b1\u22c5g\u22c5a\u22c5b "
       ]
      }
     ],
     "prompt_number": 22
    },
    {
     "cell_type": "code",
     "collapsed": false,
     "input": [
      "U = exp(-I * Dagger(a) * a * omega_b * t)  # Delta = omega_b\n",
      "H6 = hamiltonian_transformation(U, H5, independent=True)\n",
      "U = exp(-I * Dagger(b) * b * omega_b * t)\n",
      "H7 = hamiltonian_transformation(U, H6, independent=True)\n",
      "H7 = collect(H7, [alpha**2, g])\n",
      "H7"
     ],
     "language": "python",
     "metadata": {},
     "outputs": [
      {
       "latex": [
        "$$\\alpha^{2} \\left(- g {{b}^\\dagger} - g {b}\\right) + \\alpha \\left(g {{a}^\\dagger} {b} + g {a} {{b}^\\dagger}\\right) + \\omega_{b} {{a}^\\dagger} {a} + \\omega_{b} {{b}^\\dagger} {b}$$"
       ],
       "metadata": {},
       "output_type": "pyout",
       "png": "[encoded data removed]",
       "prompt_number": 23,
       "text": [
        " 2 \u239b     \u2020      \u239e     \u239b   \u2020          \u2020\u239e        \u2020          \u2020  \n",
        "\u03b1 \u22c5\u239d- g\u22c5b  - g\u22c5b\u23a0 + \u03b1\u22c5\u239dg\u22c5a \u22c5b + g\u22c5a\u22c5b \u23a0 + \u03c9_b\u22c5a \u22c5a + \u03c9_b\u22c5b \u22c5b"
       ]
      }
     ],
     "prompt_number": 23
    },
    {
     "cell_type": "markdown",
     "metadata": {},
     "source": [
      "Now the interaction term is $a^\\dagger b + ab^\\dagger$, which is a swapping interaction that can be used for state transfer or energy transfer in for example cooling application (side-band cooling)."
     ]
    },
    {
     "cell_type": "heading",
     "level": 3,
     "metadata": {},
     "source": [
      "Blue sideband"
     ]
    },
    {
     "cell_type": "markdown",
     "metadata": {},
     "source": [
      "If, instead, we choose a driving frequency such that $\\Delta = -\\omega_b$, we obtain:"
     ]
    },
    {
     "cell_type": "code",
     "collapsed": false,
     "input": [
      "H4 = H3.expand().subs(Delta, -omega_b)\n",
      "H4"
     ],
     "language": "python",
     "metadata": {},
     "outputs": [
      {
       "latex": [
        "$$- \\alpha^{2} g e^{i \\omega_{b} t} {{b}^\\dagger} - \\alpha^{2} g e^{- i \\omega_{b} t} {b} + \\alpha g e^{2 i \\omega_{b} t} {a} {{b}^\\dagger} + \\alpha g {{a}^\\dagger} {{b}^\\dagger} + \\alpha g {a} {b} + \\alpha g e^{- 2 i \\omega_{b} t} {{a}^\\dagger} {b}$$"
       ],
       "metadata": {},
       "output_type": "pyout",
       "png": "[encoded data removed]",
       "prompt_number": 24,
       "text": [
        "   2    \u2148\u22c5\u03c9_b\u22c5t  \u2020    2    -\u2148\u22c5\u03c9_b\u22c5t          2\u22c5\u2148\u22c5\u03c9_b\u22c5t    \u2020        \u2020  \u2020       \n",
        "- \u03b1 \u22c5g\u22c5\u212f       \u22c5b  - \u03b1 \u22c5g\u22c5\u212f        \u22c5b + \u03b1\u22c5g\u22c5\u212f         \u22c5a\u22c5b  + \u03b1\u22c5g\u22c5a \u22c5b  + \u03b1\u22c5g\u22c5\n",
        "\n",
        "           -2\u22c5\u2148\u22c5\u03c9_b\u22c5t  \u2020  \n",
        "a\u22c5b + \u03b1\u22c5g\u22c5\u212f          \u22c5a \u22c5b"
       ]
      }
     ],
     "prompt_number": 24
    },
    {
     "cell_type": "markdown",
     "metadata": {},
     "source": [
      "As before, we do a rotating-wave approximation to get rid of fast oscillating terms:"
     ]
    },
    {
     "cell_type": "code",
     "collapsed": false,
     "input": [
      "H5 = drop_terms_containing(H4, [exp(+2 * I * omega_b * t), exp(-2 * I * omega_b * t)])\n",
      "H5"
     ],
     "language": "python",
     "metadata": {},
     "outputs": [
      {
       "latex": [
        "$$- \\alpha^{2} g e^{i \\omega_{b} t} {{b}^\\dagger} - \\alpha^{2} g e^{- i \\omega_{b} t} {b} + \\alpha g {{a}^\\dagger} {{b}^\\dagger} + \\alpha g {a} {b}$$"
       ],
       "metadata": {},
       "output_type": "pyout",
       "png": "[encoded data removed]",
       "prompt_number": 25,
       "text": [
        "   2    \u2148\u22c5\u03c9_b\u22c5t  \u2020    2    -\u2148\u22c5\u03c9_b\u22c5t          \u2020  \u2020          \n",
        "- \u03b1 \u22c5g\u22c5\u212f       \u22c5b  - \u03b1 \u22c5g\u22c5\u212f        \u22c5b + \u03b1\u22c5g\u22c5a \u22c5b  + \u03b1\u22c5g\u22c5a\u22c5b"
       ]
      }
     ],
     "prompt_number": 25
    },
    {
     "cell_type": "markdown",
     "metadata": {},
     "source": [
      "and moving back to the original frame results in:"
     ]
    },
    {
     "cell_type": "code",
     "collapsed": false,
     "input": [
      "U = exp( I * Dagger(a) * a * omega_b * t)  # Delta = -omega_b\n",
      "H6 = hamiltonian_transformation(U, H5, independent=True)\n",
      "U = exp(-I * Dagger(b) * b * omega_b * t)\n",
      "H7 = hamiltonian_transformation(U, H6, independent=True)\n",
      "H7 = collect(H7, [alpha**2, g])\n",
      "H7"
     ],
     "language": "python",
     "metadata": {},
     "outputs": [
      {
       "latex": [
        "$$\\alpha^{2} \\left(- g {{b}^\\dagger} - g {b}\\right) + \\alpha \\left(g {{a}^\\dagger} {{b}^\\dagger} + g {a} {b}\\right) - \\omega_{b} {{a}^\\dagger} {a} + \\omega_{b} {{b}^\\dagger} {b}$$"
       ],
       "metadata": {},
       "output_type": "pyout",
       "png": "[encoded data removed]",
       "prompt_number": 26,
       "text": [
        " 2 \u239b     \u2020      \u239e     \u239b   \u2020  \u2020        \u239e        \u2020          \u2020  \n",
        "\u03b1 \u22c5\u239d- g\u22c5b  - g\u22c5b\u23a0 + \u03b1\u22c5\u239dg\u22c5a \u22c5b  + g\u22c5a\u22c5b\u23a0 - \u03c9_b\u22c5a \u22c5a + \u03c9_b\u22c5b \u22c5b"
       ]
      }
     ],
     "prompt_number": 26
    },
    {
     "cell_type": "markdown",
     "metadata": {},
     "source": [
      "Here, instead of a swap interaction we have obtained an interaction on the form $a^\\dagger b^\\dagger + a b$, which is the parametric amplification Hamiltonian. It can be used to parametrically amplify the states of the optical and mechanical modes, and generated interesting nonclassical states like Schrodinger-cat states."
     ]
    },
    {
     "cell_type": "heading",
     "level": 2,
     "metadata": {},
     "source": [
      "Nonlinear regime: effective Kerr nonlinearity"
     ]
    },
    {
     "cell_type": "markdown",
     "metadata": {},
     "source": [
      "In the regime where $g \\sim \\omega_b$, the effect of the coupling to the mechanical mode $b$ on the optical mode $a$ is an effective Kerr-nonlinearity, i.e., a term on the form $(a^\\dagger a)^2$ in the Hamiltonian. To see this we can perform the so-called polariton defined by the unitary\n",
      "\n",
      "$$\n",
      "U = \\exp\\left(-\\frac{g}{\\omega_b} a^\\dagger a (b^\\dagger - b)\\right)\n",
      "$$"
     ]
    },
    {
     "cell_type": "code",
     "collapsed": false,
     "input": [
      "H0"
     ],
     "language": "python",
     "metadata": {},
     "outputs": [
      {
       "latex": [
        "$$- g {{a}^\\dagger} {a} \\left({{b}^\\dagger} + {b}\\right) + \\omega_{a} {{a}^\\dagger} {a} + \\omega_{b} {{b}^\\dagger} {b}$$"
       ],
       "metadata": {},
       "output_type": "pyout",
       "png": "[encoded data removed]",
       "prompt_number": 27,
       "text": [
        "     \u2020   \u239b \u2020    \u239e       \u2020          \u2020  \n",
        "- g\u22c5a \u22c5a\u22c5\u239db  + b\u23a0 + \u03c9\u2090\u22c5a \u22c5a + \u03c9_b\u22c5b \u22c5b"
       ]
      }
     ],
     "prompt_number": 27
    },
    {
     "cell_type": "code",
     "collapsed": false,
     "input": [
      "x = symbols(\"x\")"
     ],
     "language": "python",
     "metadata": {},
     "outputs": [],
     "prompt_number": 28
    },
    {
     "cell_type": "code",
     "collapsed": false,
     "input": [
      "U = exp(- x * Dagger(a) * a * (Dagger(b) - b))\n",
      "\n",
      "U"
     ],
     "language": "python",
     "metadata": {},
     "outputs": [
      {
       "latex": [
        "$$e^{- x {{a}^\\dagger} {a} \\left({{b}^\\dagger} - {b}\\right)}$$"
       ],
       "metadata": {},
       "output_type": "pyout",
       "png": "[encoded data removed]",
       "prompt_number": 29,
       "text": [
        "     \u2020   \u239b \u2020    \u239e\n",
        " -x\u22c5a \u22c5a\u22c5\u239db  - b\u23a0\n",
        "\u212f                "
       ]
      }
     ],
     "prompt_number": 29
    },
    {
     "cell_type": "code",
     "collapsed": false,
     "input": [
      "H1 = H0.subs(A, 0)\n",
      "\n",
      "H1"
     ],
     "language": "python",
     "metadata": {},
     "outputs": [
      {
       "latex": [
        "$$- g {{a}^\\dagger} {a} \\left({{b}^\\dagger} + {b}\\right) + \\omega_{a} {{a}^\\dagger} {a} + \\omega_{b} {{b}^\\dagger} {b}$$"
       ],
       "metadata": {},
       "output_type": "pyout",
       "png": "[encoded data removed]",
       "prompt_number": 30,
       "text": [
        "     \u2020   \u239b \u2020    \u239e       \u2020          \u2020  \n",
        "- g\u22c5a \u22c5a\u22c5\u239db  + b\u23a0 + \u03c9\u2090\u22c5a \u22c5a + \u03c9_b\u22c5b \u22c5b"
       ]
      }
     ],
     "prompt_number": 30
    },
    {
     "cell_type": "code",
     "collapsed": false,
     "input": [
      "H2 = hamiltonian_transformation(U, H1, independent=True, expansion_search=False, N=2)\n",
      "\n",
      "H3 = normal_ordered_form(H2.expand(), independent=True)\n",
      "\n",
      "H3"
     ],
     "language": "python",
     "metadata": {},
     "outputs": [
      {
       "latex": [
        "$$- 2 g x^{3} {{a}^\\dagger} {a} + 2 g x^{3} {{a}^\\dagger} {a} \\left({b}\\right)^{2} - 4 g x^{3} {{a}^\\dagger} {{b}^\\dagger} {a} {b} + 2 g x^{3} {{a}^\\dagger} \\left({{b}^\\dagger}\\right)^{2} {a} - 2 g x^{3} \\left({{a}^\\dagger}\\right)^{2} \\left({a}\\right)^{2} + 2 g x^{3} \\left({{a}^\\dagger}\\right)^{2} \\left({a}\\right)^{2} \\left({b}\\right)^{2} - 4 g x^{3} \\left({{a}^\\dagger}\\right)^{2} {{b}^\\dagger} \\left({a}\\right)^{2} {b} + 2 g x^{3} \\left({{a}^\\dagger}\\right)^{2} \\left({{b}^\\dagger}\\right)^{2} \\left({a}\\right)^{2} + g x^{2} {{a}^\\dagger} {a} {b} + g x^{2} {{a}^\\dagger} {a} \\left({b}\\right)^{3} - 3 g x^{2} {{a}^\\dagger} {{b}^\\dagger} {a} - g x^{2} {{a}^\\dagger} {{b}^\\dagger} {a} \\left({b}\\right)^{2} - g x^{2} {{a}^\\dagger} \\left({{b}^\\dagger}\\right)^{2} {a} {b} + g x^{2} {{a}^\\dagger} \\left({{b}^\\dagger}\\right)^{3} {a} - 2 g x {{a}^\\dagger} {a} - 2 g x \\left({{a}^\\dagger}\\right)^{2} \\left({a}\\right)^{2} - g {{a}^\\dagger} {a} {b} - g {{a}^\\dagger} {{b}^\\dagger} {a} + \\omega_{a} x^{2} {{a}^\\dagger} {a} - \\omega_{a} x^{2} {{a}^\\dagger} {a} \\left({b}\\right)^{2} + 2 \\omega_{a} x^{2} {{a}^\\dagger} {{b}^\\dagger} {a} {b} - \\omega_{a} x^{2} {{a}^\\dagger} \\left({{b}^\\dagger}\\right)^{2} {a} + \\omega_{a} {{a}^\\dagger} {a} + \\omega_{b} x^{2} {{a}^\\dagger} {a} + \\omega_{b} x^{2} \\left({{a}^\\dagger}\\right)^{2} \\left({a}\\right)^{2} + \\omega_{b} x {{a}^\\dagger} {a} {b} + \\omega_{b} x {{a}^\\dagger} {{b}^\\dagger} {a} + \\omega_{b} {{b}^\\dagger} {b}$$"
       ],
       "metadata": {},
       "output_type": "pyout",
       "png": "[encoded data removed]",
       "prompt_number": 31,
       "text": [
        "                                                                  2           \n",
        "       3  \u2020          3  \u2020    2        3  \u2020  \u2020            3  \u2020 \u239b \u2020\u239e           3\n",
        "- 2\u22c5g\u22c5x \u22c5a \u22c5a + 2\u22c5g\u22c5x \u22c5a \u22c5a\u22c5b  - 4\u22c5g\u22c5x \u22c5a \u22c5b \u22c5a\u22c5b + 2\u22c5g\u22c5x \u22c5a \u22c5\u239db \u23a0 \u22c5a - 2\u22c5g\u22c5x \n",
        "\n",
        "     2                 2                    2                      2     2    \n",
        " \u239b \u2020\u239e   2        3 \u239b \u2020\u239e   2  2        3 \u239b \u2020\u239e   \u2020  2          3 \u239b \u2020\u239e  \u239b \u2020\u239e   2 \n",
        "\u22c5\u239da \u23a0 \u22c5a  + 2\u22c5g\u22c5x \u22c5\u239da \u23a0 \u22c5a \u22c5b  - 4\u22c5g\u22c5x \u22c5\u239da \u23a0 \u22c5b \u22c5a \u22c5b + 2\u22c5g\u22c5x \u22c5\u239da \u23a0 \u22c5\u239db \u23a0 \u22c5a  \n",
        "\n",
        "                                                                              \n",
        "     2  \u2020          2  \u2020    3        2  \u2020  \u2020        2  \u2020  \u2020    2      2  \u2020 \u239b \u2020\u239e\n",
        "+ g\u22c5x \u22c5a \u22c5a\u22c5b + g\u22c5x \u22c5a \u22c5a\u22c5b  - 3\u22c5g\u22c5x \u22c5a \u22c5b \u22c5a - g\u22c5x \u22c5a \u22c5b \u22c5a\u22c5b  - g\u22c5x \u22c5a \u22c5\u239db \u23a0\n",
        "\n",
        "2                   3                            2                            \n",
        "           2  \u2020 \u239b \u2020\u239e             \u2020           \u239b \u2020\u239e   2      \u2020          \u2020  \u2020    \n",
        " \u22c5a\u22c5b + g\u22c5x \u22c5a \u22c5\u239db \u23a0 \u22c5a - 2\u22c5g\u22c5x\u22c5a \u22c5a - 2\u22c5g\u22c5x\u22c5\u239da \u23a0 \u22c5a  - g\u22c5a \u22c5a\u22c5b - g\u22c5a \u22c5b \u22c5a +\n",
        "\n",
        "                                                               2              \n",
        "     2  \u2020         2  \u2020    2         2  \u2020  \u2020           2  \u2020 \u239b \u2020\u239e          \u2020    \n",
        " \u03c9\u2090\u22c5x \u22c5a \u22c5a - \u03c9\u2090\u22c5x \u22c5a \u22c5a\u22c5b  + 2\u22c5\u03c9\u2090\u22c5x \u22c5a \u22c5b \u22c5a\u22c5b - \u03c9\u2090\u22c5x \u22c5a \u22c5\u239db \u23a0 \u22c5a + \u03c9\u2090\u22c5a \u22c5a +\n",
        "\n",
        "                          2                                             \n",
        "      2  \u2020          2 \u239b \u2020\u239e   2          \u2020              \u2020  \u2020          \u2020  \n",
        " \u03c9_b\u22c5x \u22c5a \u22c5a + \u03c9_b\u22c5x \u22c5\u239da \u23a0 \u22c5a  + \u03c9_b\u22c5x\u22c5a \u22c5a\u22c5b + \u03c9_b\u22c5x\u22c5a \u22c5b \u22c5a + \u03c9_b\u22c5b \u22c5b"
       ]
      }
     ],
     "prompt_number": 31
    },
    {
     "cell_type": "code",
     "collapsed": false,
     "input": [
      "H4 = H3.subs({x**2: 0, x**3: 0, x: g/omega_b})  # neglect higher order terms\n",
      "\n",
      "H4 = collect(H4, Dagger(a)*a)\n",
      "\n",
      "H4"
     ],
     "language": "python",
     "metadata": {},
     "outputs": [
      {
       "latex": [
        "$$- \\frac{2 g^{2}}{\\omega_{b}} \\left({{a}^\\dagger}\\right)^{2} \\left({a}\\right)^{2} + \\omega_{b} {{b}^\\dagger} {b} + \\left(- \\frac{2 g^{2}}{\\omega_{b}} + \\omega_{a}\\right) {{a}^\\dagger} {a}$$"
       ],
       "metadata": {},
       "output_type": "pyout",
       "png": "[encoded data removed]",
       "prompt_number": 32,
       "text": [
        "           2                                   \n",
        "     2 \u239b \u2020\u239e   2              \u239b     2     \u239e     \n",
        "  2\u22c5g \u22c5\u239da \u23a0 \u22c5a         \u2020     \u239c  2\u22c5g      \u239f  \u2020  \n",
        "- \u2500\u2500\u2500\u2500\u2500\u2500\u2500\u2500\u2500\u2500\u2500\u2500\u2500 + \u03c9_b\u22c5b \u22c5b + \u239c- \u2500\u2500\u2500\u2500 + \u03c9\u2090\u239f\u22c5a \u22c5a\n",
        "       \u03c9_b                   \u239d  \u03c9_b      \u23a0     "
       ]
      }
     ],
     "prompt_number": 32
    },
    {
     "cell_type": "markdown",
     "metadata": {},
     "source": [
      "In this Hamiltonian, the mechanical and optical mode is effectively decoupled, but the influence of the mechanical mode on the optical mode is described by the induced Kerr nonlinearity for the optical mode."
     ]
    },
    {
     "cell_type": "heading",
     "level": 2,
     "metadata": {},
     "source": [
      "Versions"
     ]
    },
    {
     "cell_type": "code",
     "collapsed": false,
     "input": [
      "%reload_ext version_information\n",
      "\n",
      "%version_information sympy, sympsi"
     ],
     "language": "python",
     "metadata": {},
     "outputs": [
      {
       "html": [
        "<table><tr><th>Software</th><th>Version</th></tr><tr><td>Python</td><td>3.4.1 (default, Sep 20 2014, 19:44:17) [GCC 4.2.1 Compatible Apple LLVM 5.1 (clang-503.0.40)]</td></tr><tr><td>IPython</td><td>2.3.0</td></tr><tr><td>OS</td><td>Darwin 13.4.0 x86_64 i386 64bit</td></tr><tr><td>sympy</td><td>0.7.5-git</td></tr><tr><td>sympsi</td><td>0.1.0.dev-0c6e514</td></tr><tr><td colspan='2'>Thu Oct 09 16:16:53 2014 JST</td></tr></table>"
       ],
       "json": [
        "{\"Software versions\": [{\"version\": \"3.4.1 (default, Sep 20 2014, 19:44:17) [GCC 4.2.1 Compatible Apple LLVM 5.1 (clang-503.0.40)]\", \"module\": \"Python\"}, {\"version\": \"2.3.0\", \"module\": \"IPython\"}, {\"version\": \"Darwin 13.4.0 x86_64 i386 64bit\", \"module\": \"OS\"}, {\"version\": \"0.7.5-git\", \"module\": \"sympy\"}, {\"version\": \"0.1.0.dev-0c6e514\", \"module\": \"sympsi\"}]}"
       ],
       "latex": [
        "\\begin{tabular}{|l|l|}\\hline\n",
        "{\\bf Software} & {\\bf Version} \\\\ \\hline\\hline\n",
        "Python & 3.4.1 (default, Sep 20 2014, 19:44:17) [GCC 4.2.1 Compatible Apple LLVM 5.1 (clang-503.0.40)] \\\\ \\hline\n",
        "IPython & 2.3.0 \\\\ \\hline\n",
        "OS & Darwin 13.4.0 x86\\letterunderscore{}64 i386 64bit \\\\ \\hline\n",
        "sympy & 0.7.5-git \\\\ \\hline\n",
        "sympsi & 0.1.0.dev-0c6e514 \\\\ \\hline\n",
        "\\hline \\multicolumn{2}{|l|}{Thu Oct 09 16:16:53 2014 JST} \\\\ \\hline\n",
        "\\end{tabular}\n"
       ],
       "metadata": {},
       "output_type": "pyout",
       "prompt_number": 33,
       "text": [
        "Software versions\n",
        "Python 3.4.1 (default, Sep 20 2014, 19:44:17) [GCC 4.2.1 Compatible Apple LLVM 5.1 (clang-503.0.40)]\n",
        "IPython 2.3.0\n",
        "OS Darwin 13.4.0 x86_64 i386 64bit\n",
        "sympy 0.7.5-git\n",
        "sympsi 0.1.0.dev-0c6e514\n",
        "Thu Oct 09 16:16:53 2014 JST"
       ]
      }
     ],
     "prompt_number": 33
    }
   ],
   "metadata": {}
  }
 ]
}