{
  "cells": [
    {
      "cell_type": "markdown",
      "metadata": {},
      "source": [
        "# A-Level: Mathematica Functions"
      ]
    },
    {
      "cell_type": "code",
      "metadata": {},
      "source": [
        "g=9.8;",
        "invsin[x_]:=InverseFunction[Sin][x]",
        "N[InverseFunction[Sin][1]]",
        "InverseFunction[Sin][1]//N  (*Wolfram\u559c\u6b22\u7528\u540e\u7f00\u7ebf//*)"
      ],
      "outputs": [],
      "execution_count": null
    },
    {
      "cell_type": "markdown",
      "metadata": {},
      "source": [
        "## Further Y12-2"
      ]
    },
    {
      "cell_type": "markdown",
      "metadata": {},
      "source": [
        "### Elementary functions & Differential Equations",
        "Elementary functions are solutions to some simple Differential Equations. Given $f(x)=y$:",
        "",
        "Exponential function: $\\frac{d}{dx}f(x)=f(x) \\quad\\rightarrow\\quad sol: f(x)=e^x$",
        "",
        "Trigonometry function: $\\frac{d^2}{dx^2}f(x)=-f(x) \\quad\\rightarrow\\quad sol: f(x)=sin(x), cos(x)$",
        "",
        "$e$'s Log function: $\\quad \\frac{d}{dx}f(x)=\\frac{1}{x} \\quad\\rightarrow\\quad sol: f(x)=ln(x)$",
        "",
        "Power function: $\\quad \\frac{d}{dx}f(x)=f(x)\\frac{n}{x} \\quad\\rightarrow\\quad sol: f(x)=x^n$",
        "",
        "Hyperbolic trig: $\\quad \\frac{d^2}{dx^2}f(x)=f(x) \\quad\\rightarrow\\quad sol: f(x)=sinh(x), cosh(x)$"
      ]
    },
    {
      "cell_type": "code",
      "metadata": {},
      "source": [
        "DSolve[f'[x] == f[x], f[x], x]",
        "DSolve[q''[x] == -q[x], q[x], x]",
        "DSolve[f'[x] == 1/x, f[x], x]",
        "DSolve[f'[x] == f[x]*(n/x), f[x], x]"
      ],
      "outputs": [],
      "execution_count": null
    },
    {
      "cell_type": "markdown",
      "metadata": {},
      "source": [
        "### Module 3 - Further Differentiation and Integration"
      ]
    },
    {
      "cell_type": "markdown",
      "metadata": {},
      "source": [
        "$$\\int f'(x)g'(f(x))=g(f(x))+c$$"
      ]
    },
    {
      "cell_type": "code",
      "metadata": {},
      "source": [
        "D[Cot[x],x]",
        "D[ArcCos[x],x]",
        "Integrate[Sec[x]^2,x]",
        "D[Sin[x]^4,x]"
      ],
      "outputs": [
        {
          "output_type": "execute_result",
          "metadata": {
            "cellLabel": "Out[322]= ",
            "isBoxData": false
          },
          "data": {}
        },
        {
          "output_type": "execute_result",
          "metadata": {
            "cellLabel": "Out[323]= ",
            "isBoxData": false
          },
          "data": {}
        },
        {
          "output_type": "execute_result",
          "metadata": {
            "cellLabel": "Out[324]= ",
            "isBoxData": false
          },
          "data": {}
        },
        {
          "output_type": "execute_result",
          "metadata": {
            "cellLabel": "Out[325]= ",
            "isBoxData": false
          },
          "data": {}
        }
      ],
      "execution_count": null
    },
    {
      "cell_type": "code",
      "metadata": {},
      "source": [
        "D[Sin[1/x],x]",
        "D[Log[2x],x]",
        "D[Csc[x],x]",
        "D[ArcTan[x],x]",
        "D[Sec[x],x]"
      ],
      "outputs": [
        {
          "output_type": "execute_result",
          "metadata": {
            "cellLabel": "Out[150]= ",
            "isBoxData": false
          },
          "data": {}
        },
        {
          "output_type": "execute_result",
          "metadata": {
            "cellLabel": "Out[151]= ",
            "isBoxData": false
          },
          "data": {}
        },
        {
          "output_type": "execute_result",
          "metadata": {
            "cellLabel": "Out[152]= ",
            "isBoxData": false
          },
          "data": {}
        },
        {
          "output_type": "execute_result",
          "metadata": {
            "cellLabel": "Out[153]= ",
            "isBoxData": false
          },
          "data": {}
        },
        {
          "output_type": "execute_result",
          "metadata": {
            "cellLabel": "Out[154]= ",
            "isBoxData": false
          },
          "data": {}
        }
      ],
      "execution_count": null
    },
    {
      "cell_type": "markdown",
      "metadata": {},
      "source": [
        "### Module 2 - Mathematical Induction"
      ]
    },
    {
      "cell_type": "markdown",
      "metadata": {},
      "source": [
        "For mathematical induction if $n=k$ then $n=k+1$ so if for $n=1$ the claim is true then for $\\Z_+$.",
        "",
        "For series use formula to check if $n=k+1$ will be true.",
        "",
        "For divisibility check if $u_{k+1}-u_k$ is divisible by $n$."
      ]
    },
    {
      "cell_type": "code",
      "metadata": {},
      "source": [
        "n=1",
        "n=3n+4",
        "n=3n+4",
        "n=3n+4",
        "f[x_]:=3^x-2",
        "f[1]",
        "f[2]",
        "f[3]",
        "f[4]"
      ],
      "outputs": [
        {
          "output_type": "execute_result",
          "metadata": {
            "cellLabel": "Out[32]= ",
            "isBoxData": false
          },
          "data": {}
        },
        {
          "output_type": "execute_result",
          "metadata": {
            "cellLabel": "Out[33]= ",
            "isBoxData": false
          },
          "data": {}
        },
        {
          "output_type": "execute_result",
          "metadata": {
            "cellLabel": "Out[34]= ",
            "isBoxData": false
          },
          "data": {}
        },
        {
          "output_type": "execute_result",
          "metadata": {
            "cellLabel": "Out[35]= ",
            "isBoxData": false
          },
          "data": {}
        },
        {
          "output_type": "execute_result",
          "metadata": {
            "cellLabel": "Out[37]= ",
            "isBoxData": false
          },
          "data": {}
        },
        {
          "output_type": "execute_result",
          "metadata": {
            "cellLabel": "Out[38]= ",
            "isBoxData": false
          },
          "data": {}
        },
        {
          "output_type": "execute_result",
          "metadata": {
            "cellLabel": "Out[39]= ",
            "isBoxData": false
          },
          "data": {}
        },
        {
          "output_type": "execute_result",
          "metadata": {
            "cellLabel": "Out[40]= ",
            "isBoxData": false
          },
          "data": {}
        }
      ],
      "execution_count": null
    },
    {
      "cell_type": "markdown",
      "metadata": {},
      "source": [
        "### Module 1 - Determinant and Inverse of 3 by 3 Matrix"
      ]
    },
    {
      "cell_type": "code",
      "metadata": {},
      "source": [
        "mat1={{1, 0, 0}, {0, 0, 1}, {0, -1, 0}}//MatrixForm"
      ],
      "outputs": [
        {
          "output_type": "execute_result",
          "metadata": {
            "cellLabel": "Out[41]//MatrixForm= ",
            "isBoxData": false
          },
          "data": {}
        }
      ],
      "execution_count": null
    },
    {
      "cell_type": "code",
      "metadata": {},
      "source": [
        "mat1={{1, 0, 0}, {0, 0, 1}, {0, -1, 0}}//MatrixForm",
        "mat2={{0, -1, 0}, {1, 0, 0}, {0, 0, 1}};",
        "mat3=mat1.mat2;",
        "mat4={{-1, 0, 0}, {0, -1, 0}, {0, 0, 1}};",
        "mat5={{13, 53, 10}, {4, -7, -2}, {2, -8, -1}}/9;",
        "mat6={{3}, {-2}, {4}};",
        "mat7={{1, 1, -1}, {0, 6, 2}, {-3, 1, 1}};",
        "MatrixForm[mat3]",
        "MatrixForm[mat2.mat1]",
        "Det[mat3]-Det[mat1]Det[mat2]",
        "MatrixForm[mat4.mat4]",
        "MatrixForm[mat5.mat6]",
        "Det[mat7]"
      ],
      "outputs": [
        {
          "output_type": "execute_result",
          "metadata": {
            "cellLabel": "Out[42]//MatrixForm= ",
            "isBoxData": false
          },
          "data": {}
        },
        {
          "output_type": "execute_result",
          "metadata": {
            "cellLabel": "Out[49]//MatrixForm= ",
            "isBoxData": false
          },
          "data": {}
        },
        {
          "output_type": "execute_result",
          "metadata": {
            "cellLabel": "Out[50]//MatrixForm= ",
            "isBoxData": false
          },
          "data": {}
        },
        {
          "output_type": "execute_result",
          "metadata": {
            "cellLabel": "Out[51]= ",
            "isBoxData": false
          },
          "data": {}
        },
        {
          "output_type": "execute_result",
          "metadata": {
            "cellLabel": "Out[52]//MatrixForm= ",
            "isBoxData": false
          },
          "data": {}
        },
        {
          "output_type": "execute_result",
          "metadata": {
            "cellLabel": "Out[53]//MatrixForm= ",
            "isBoxData": false
          },
          "data": {}
        },
        {
          "output_type": "execute_result",
          "metadata": {
            "cellLabel": "Out[54]= ",
            "isBoxData": false
          },
          "data": {}
        }
      ],
      "execution_count": null
    },
    {
      "cell_type": "code",
      "metadata": {},
      "source": [
        "dist=BinomialDistribution[40,0.2];",
        "ans=1-CDF[dist,11]"
      ],
      "outputs": [
        {
          "output_type": "execute_result",
          "metadata": {
            "cellLabel": "Out[56]= ",
            "isBoxData": false
          },
          "data": {}
        }
      ],
      "execution_count": null
    },
    {
      "cell_type": "code",
      "metadata": {},
      "source": [
        "dist=NormalDistribution[12,3.5/40];",
        "ans=CDF[dist,10.8]"
      ],
      "outputs": [
        {
          "output_type": "execute_result",
          "metadata": {
            "cellLabel": "Out[58]= ",
            "isBoxData": false
          },
          "data": {}
        }
      ],
      "execution_count": null
    },
    {
      "cell_type": "code",
      "metadata": {},
      "source": [
        "dist=NormalDistribution[12,3.5];",
        "N[CDF[dist,15]-CDF[dist,10]]"
      ],
      "outputs": [
        {
          "output_type": "execute_result",
          "metadata": {
            "cellLabel": "Out[60]= ",
            "isBoxData": false
          },
          "data": {}
        }
      ],
      "execution_count": null
    },
    {
      "cell_type": "code",
      "metadata": {},
      "source": [
        "dist=NormalDistribution[];",
        "quan1=Quantile[dist,0.05]",
        "quan2=Quantile[dist,0.75]"
      ],
      "outputs": [
        {
          "output_type": "execute_result",
          "metadata": {
            "cellLabel": "Out[62]= ",
            "isBoxData": false
          },
          "data": {}
        },
        {
          "output_type": "execute_result",
          "metadata": {
            "cellLabel": "Out[63]= ",
            "isBoxData": false
          },
          "data": {}
        }
      ],
      "execution_count": null
    },
    {
      "cell_type": "code",
      "metadata": {},
      "source": [
        "mat1={{1, 1, 1}, {x, y, z}, {x^2, y^2, z^2}}//MatrixForm;",
        "mat2={{p, q, r}, {p^2, q^2, r^2}, {qr, pr, pq}};",
        "Det[mat1]",
        "Simplify[Det[mat2]]",
        "12*2-53*4-3*5*10+3*53-2*10+4*12*5",
        "3*4-3*3-2*5*4-2*2"
      ],
      "outputs": [
        {
          "output_type": "execute_result",
          "metadata": {
            "cellLabel": "Out[66]= ",
            "isBoxData": false
          },
          "data": {}
        },
        {
          "output_type": "execute_result",
          "metadata": {
            "cellLabel": "Out[67]= ",
            "isBoxData": false
          },
          "data": {}
        },
        {
          "output_type": "execute_result",
          "metadata": {
            "cellLabel": "Out[68]= ",
            "isBoxData": false
          },
          "data": {}
        },
        {
          "output_type": "execute_result",
          "metadata": {
            "cellLabel": "Out[69]= ",
            "isBoxData": false
          },
          "data": {}
        }
      ],
      "execution_count": null
    },
    {
      "cell_type": "markdown",
      "metadata": {},
      "source": [
        "## Further Y12-1"
      ]
    },
    {
      "cell_type": "markdown",
      "metadata": {},
      "source": [
        "### Module 7 - Vectors 1"
      ]
    },
    {
      "cell_type": "code",
      "metadata": {},
      "source": [
        "ArcCos[0.44141]*180/Pi"
      ],
      "outputs": [
        {
          "output_type": "execute_result",
          "metadata": {
            "cellLabel": "Out[70]= ",
            "isBoxData": false
          },
          "data": {}
        }
      ],
      "execution_count": null
    },
    {
      "cell_type": "code",
      "metadata": {},
      "source": [
        "44+29",
        "29*4-30",
        "3*29-21"
      ],
      "outputs": [
        {
          "output_type": "execute_result",
          "metadata": {
            "cellLabel": "Out[71]= ",
            "isBoxData": false
          },
          "data": {}
        },
        {
          "output_type": "execute_result",
          "metadata": {
            "cellLabel": "Out[72]= ",
            "isBoxData": false
          },
          "data": {}
        },
        {
          "output_type": "execute_result",
          "metadata": {
            "cellLabel": "Out[73]= ",
            "isBoxData": false
          },
          "data": {}
        }
      ],
      "execution_count": null
    },
    {
      "cell_type": "code",
      "metadata": {},
      "source": [
        "N[Sqrt[(73/29)^2+(86/29)^2+(66/29)^2]]"
      ],
      "outputs": [
        {
          "output_type": "execute_result",
          "metadata": {
            "cellLabel": "Out[74]= ",
            "isBoxData": false
          },
          "data": {}
        }
      ],
      "execution_count": null
    },
    {
      "cell_type": "code",
      "metadata": {},
      "source": [
        "N[Sqrt[(27/10)^2+(9/10)^2]]"
      ],
      "outputs": [
        {
          "output_type": "execute_result",
          "metadata": {
            "cellLabel": "Out[75]= ",
            "isBoxData": false
          },
          "data": {}
        }
      ],
      "execution_count": null
    },
    {
      "cell_type": "code",
      "metadata": {},
      "source": [
        "Sqrt[75]",
        "N[7*5Sqrt[3]/14]"
      ],
      "outputs": [
        {
          "output_type": "execute_result",
          "metadata": {
            "cellLabel": "Out[76]= ",
            "isBoxData": false
          },
          "data": {}
        },
        {
          "output_type": "execute_result",
          "metadata": {
            "cellLabel": "Out[77]= ",
            "isBoxData": false
          },
          "data": {}
        }
      ],
      "execution_count": null
    },
    {
      "cell_type": "code",
      "metadata": {},
      "source": [
        "N[ArcCos[11/14]*180/Pi]"
      ],
      "outputs": [
        {
          "output_type": "execute_result",
          "metadata": {
            "cellLabel": "Out[78]= ",
            "isBoxData": false
          },
          "data": {}
        }
      ],
      "execution_count": null
    },
    {
      "cell_type": "code",
      "metadata": {},
      "source": [
        "vec1={{2}, {3}, {2}};",
        "vec2={{6}, {-2}, {1}};",
        "vec1-vec2*3/2 "
      ],
      "outputs": [
        {
          "output_type": "execute_result",
          "metadata": {
            "cellLabel": "Out[81]= ",
            "isBoxData": false
          },
          "data": {}
        }
      ],
      "execution_count": null
    },
    {
      "cell_type": "code",
      "metadata": {},
      "source": [
        "(-2/7)^2+(8/7)^2+(18/7)^2"
      ],
      "outputs": [
        {
          "output_type": "execute_result",
          "metadata": {
            "cellLabel": "Out[82]= ",
            "isBoxData": false
          },
          "data": {}
        }
      ],
      "execution_count": null
    },
    {
      "cell_type": "markdown",
      "metadata": {},
      "source": [
        "Angle between 2 vectors",
        "",
        "$\\cos{\\theta}=\\large\\frac{a_1b_1+a_2b_2}{|\\mathbf{a}||\\mathbf{b}|}$",
        "",
        "Scalar Product/Dot Product",
        "",
        "$\\mathbf{a}\\mathbf{b}=ab\\cos{\\theta}$",
        "",
        "$\\mathbf{a}\\mathbf{b}=a_1b_1+a_2b_2$"
      ]
    },
    {
      "cell_type": "markdown",
      "metadata": {},
      "source": [
        "### Module 3 and 6 - Further Algebra and Functions 1 and 2"
      ]
    },
    {
      "cell_type": "code",
      "metadata": {},
      "source": [
        "mat1={{1, -1, 2}, {2, 1, 1}, {2, -2, 1}};",
        "mat2=Inverse[mat1];",
        "mat3={{9}, {0}, {3}};",
        "mat4=mat2.mat3;",
        "f[x_]:=x(x+1)/2",
        "g[x_]:=x(x+1)(2x+1)/6",
        "h[x_]:=2g[x]+3f[x]",
        "j[x_]:=x^2-17x+22",
        "k[x_]:=x(x+1)^2",
        "MatrixForm[mat2]",
        "MatrixForm[mat4]",
        "36*7",
        "f[50]-f[20]",
        "g[100]-g[90]",
        "f[50]-f[15]+5*35",
        "h[50]-h[25]",
        "j[1]",
        "j[3]",
        "j[-2]",
        "k[30]-k[20]"
      ],
      "outputs": [
        {
          "output_type": "execute_result",
          "metadata": {
            "cellLabel": "Out[92]//MatrixForm= ",
            "isBoxData": false
          },
          "data": {}
        },
        {
          "output_type": "execute_result",
          "metadata": {
            "cellLabel": "Out[93]//MatrixForm= ",
            "isBoxData": false
          },
          "data": {}
        },
        {
          "output_type": "execute_result",
          "metadata": {
            "cellLabel": "Out[94]= ",
            "isBoxData": false
          },
          "data": {}
        },
        {
          "output_type": "execute_result",
          "metadata": {
            "cellLabel": "Out[95]= ",
            "isBoxData": false
          },
          "data": {}
        },
        {
          "output_type": "execute_result",
          "metadata": {
            "cellLabel": "Out[96]= ",
            "isBoxData": false
          },
          "data": {}
        },
        {
          "output_type": "execute_result",
          "metadata": {
            "cellLabel": "Out[97]= ",
            "isBoxData": false
          },
          "data": {}
        },
        {
          "output_type": "execute_result",
          "metadata": {
            "cellLabel": "Out[98]= ",
            "isBoxData": false
          },
          "data": {}
        },
        {
          "output_type": "execute_result",
          "metadata": {
            "cellLabel": "Out[99]= ",
            "isBoxData": false
          },
          "data": {}
        },
        {
          "output_type": "execute_result",
          "metadata": {
            "cellLabel": "Out[100]= ",
            "isBoxData": false
          },
          "data": {}
        },
        {
          "output_type": "execute_result",
          "metadata": {
            "cellLabel": "Out[101]= ",
            "isBoxData": false
          },
          "data": {}
        },
        {
          "output_type": "execute_result",
          "metadata": {
            "cellLabel": "Out[102]= ",
            "isBoxData": false
          },
          "data": {}
        }
      ],
      "execution_count": null
    },
    {
      "cell_type": "code",
      "metadata": {},
      "source": [
        "f[x_]:=2x(x+1)",
        "g[x_]:=x(x+1)(2x+1)+2x",
        "h[x_]:=x(x+1)(x+2)(x+3)",
        "i[x_]:=x(x-1)(x+1)(x+2)",
        "f[20]-f[9]",
        "g[10]-g[4]",
        "h[1]",
        "h[2]",
        "h[3]",
        "i[1]",
        "i[2]",
        "i[3]",
        "16*4*9"
      ],
      "outputs": [
        {
          "output_type": "execute_result",
          "metadata": {
            "cellLabel": "Out[107]= ",
            "isBoxData": false
          },
          "data": {}
        },
        {
          "output_type": "execute_result",
          "metadata": {
            "cellLabel": "Out[108]= ",
            "isBoxData": false
          },
          "data": {}
        },
        {
          "output_type": "execute_result",
          "metadata": {
            "cellLabel": "Out[109]= ",
            "isBoxData": false
          },
          "data": {}
        },
        {
          "output_type": "execute_result",
          "metadata": {
            "cellLabel": "Out[110]= ",
            "isBoxData": false
          },
          "data": {}
        },
        {
          "output_type": "execute_result",
          "metadata": {
            "cellLabel": "Out[111]= ",
            "isBoxData": false
          },
          "data": {}
        },
        {
          "output_type": "execute_result",
          "metadata": {
            "cellLabel": "Out[112]= ",
            "isBoxData": false
          },
          "data": {}
        },
        {
          "output_type": "execute_result",
          "metadata": {
            "cellLabel": "Out[113]= ",
            "isBoxData": false
          },
          "data": {}
        },
        {
          "output_type": "execute_result",
          "metadata": {
            "cellLabel": "Out[114]= ",
            "isBoxData": false
          },
          "data": {}
        },
        {
          "output_type": "execute_result",
          "metadata": {
            "cellLabel": "Out[115]= ",
            "isBoxData": false
          },
          "data": {}
        }
      ],
      "execution_count": null
    },
    {
      "cell_type": "code",
      "metadata": {},
      "source": [
        "35*4.2",
        "35*0.42*0.58"
      ],
      "outputs": [
        {
          "output_type": "execute_result",
          "metadata": {
            "cellLabel": "Out[116]= ",
            "isBoxData": false
          },
          "data": {}
        },
        {
          "output_type": "execute_result",
          "metadata": {
            "cellLabel": "Out[117]= ",
            "isBoxData": false
          },
          "data": {}
        }
      ],
      "execution_count": null
    },
    {
      "cell_type": "code",
      "metadata": {},
      "source": [
        "dist=BinomialDistribution[35,0.42];",
        "1-CDF[dist,17]"
      ],
      "outputs": [
        {
          "output_type": "execute_result",
          "metadata": {
            "cellLabel": "Out[119]= ",
            "isBoxData": false
          },
          "data": {}
        }
      ],
      "execution_count": null
    },
    {
      "cell_type": "code",
      "metadata": {},
      "source": [
        "dist=NormalDistribution[34,4.5];",
        "ans=1-CDF[dist,36.2]"
      ],
      "outputs": [
        {
          "output_type": "execute_result",
          "metadata": {
            "cellLabel": "Out[121]= ",
            "isBoxData": false
          },
          "data": {}
        }
      ],
      "execution_count": null
    },
    {
      "cell_type": "code",
      "metadata": {},
      "source": [
        "dist=NormalDistribution[];",
        "ans=1.5Quantile[dist,0.95]",
        "10-ans"
      ],
      "outputs": [
        {
          "output_type": "execute_result",
          "metadata": {
            "cellLabel": "Out[123]= ",
            "isBoxData": false
          },
          "data": {}
        },
        {
          "output_type": "execute_result",
          "metadata": {
            "cellLabel": "Out[124]= ",
            "isBoxData": false
          },
          "data": {}
        }
      ],
      "execution_count": null
    },
    {
      "cell_type": "code",
      "metadata": {},
      "source": [
        "dist=NormalDistribution[1.78,.23];",
        "N[CDF[dist,1.82]-CDF[dist,1.82]]",
        "N[CDF[dist,1.9]-CDF[dist,1.7]]^2"
      ],
      "outputs": [
        {
          "output_type": "execute_result",
          "metadata": {
            "cellLabel": "Out[126]= ",
            "isBoxData": false
          },
          "data": {}
        },
        {
          "output_type": "execute_result",
          "metadata": {
            "cellLabel": "Out[127]= ",
            "isBoxData": false
          },
          "data": {}
        }
      ],
      "execution_count": null
    },
    {
      "cell_type": "code",
      "metadata": {},
      "source": [
        "45-17-15-4",
        "70-31-17-15",
        "N[101/240]",
        "240-101-7-9",
        "123/3",
        "N[41/80]",
        "240-101-31-17-7-15-4-9",
        "101+31+7",
        "N[139/195]",
        "69.2/40",
        "Sqrt[2.81/40]",
        "1.78-0.23*2"
      ],
      "outputs": [
        {
          "output_type": "execute_result",
          "metadata": {
            "cellLabel": "Out[128]= ",
            "isBoxData": false
          },
          "data": {}
        },
        {
          "output_type": "execute_result",
          "metadata": {
            "cellLabel": "Out[129]= ",
            "isBoxData": false
          },
          "data": {}
        },
        {
          "output_type": "execute_result",
          "metadata": {
            "cellLabel": "Out[130]= ",
            "isBoxData": false
          },
          "data": {}
        },
        {
          "output_type": "execute_result",
          "metadata": {
            "cellLabel": "Out[131]= ",
            "isBoxData": false
          },
          "data": {}
        },
        {
          "output_type": "execute_result",
          "metadata": {
            "cellLabel": "Out[132]= ",
            "isBoxData": false
          },
          "data": {}
        },
        {
          "output_type": "execute_result",
          "metadata": {
            "cellLabel": "Out[133]= ",
            "isBoxData": false
          },
          "data": {}
        },
        {
          "output_type": "execute_result",
          "metadata": {
            "cellLabel": "Out[134]= ",
            "isBoxData": false
          },
          "data": {}
        },
        {
          "output_type": "execute_result",
          "metadata": {
            "cellLabel": "Out[135]= ",
            "isBoxData": false
          },
          "data": {}
        },
        {
          "output_type": "execute_result",
          "metadata": {
            "cellLabel": "Out[136]= ",
            "isBoxData": false
          },
          "data": {}
        },
        {
          "output_type": "execute_result",
          "metadata": {
            "cellLabel": "Out[137]= ",
            "isBoxData": false
          },
          "data": {}
        },
        {
          "output_type": "execute_result",
          "metadata": {
            "cellLabel": "Out[138]= ",
            "isBoxData": false
          },
          "data": {}
        },
        {
          "output_type": "execute_result",
          "metadata": {
            "cellLabel": "Out[139]= ",
            "isBoxData": false
          },
          "data": {}
        }
      ],
      "execution_count": null
    },
    {
      "cell_type": "code",
      "metadata": {},
      "source": [
        "dist=BinomialDistribution[20,0.3];",
        "N[PDF[dist,1]]",
        "N[CDF[dist,3]]",
        "1-N[CDF[dist,9]]"
      ],
      "outputs": [
        {
          "output_type": "execute_result",
          "metadata": {
            "cellLabel": "Out[141]= ",
            "isBoxData": false
          },
          "data": {}
        },
        {
          "output_type": "execute_result",
          "metadata": {
            "cellLabel": "Out[142]= ",
            "isBoxData": false
          },
          "data": {}
        },
        {
          "output_type": "execute_result",
          "metadata": {
            "cellLabel": "Out[143]= ",
            "isBoxData": false
          },
          "data": {}
        }
      ],
      "execution_count": null
    },
    {
      "cell_type": "code",
      "metadata": {},
      "source": [
        "f[x_]:=x^3+4x^2-x+2",
        "g[x_]:=5x^2-9x+22",
        "h[x_]:=x^2+2x+9",
        "f[2]",
        "g[4]",
        "h[4]"
      ],
      "outputs": [
        {
          "output_type": "execute_result",
          "metadata": {
            "cellLabel": "Out[147]= ",
            "isBoxData": false
          },
          "data": {}
        },
        {
          "output_type": "execute_result",
          "metadata": {
            "cellLabel": "Out[148]= ",
            "isBoxData": false
          },
          "data": {}
        },
        {
          "output_type": "execute_result",
          "metadata": {
            "cellLabel": "Out[149]= ",
            "isBoxData": false
          },
          "data": {}
        }
      ],
      "execution_count": null
    },
    {
      "cell_type": "code",
      "metadata": {},
      "source": [
        "f[x_]:=4x(4x+1)(8x^2-1)",
        "g[x_]:=2(x-1)(2x-1)(8(x-1)^2-1)",
        "Expand[f[x]-g[x]]"
      ],
      "outputs": [],
      "execution_count": null
    },
    {
      "cell_type": "code",
      "metadata": {},
      "source": [
        "n=4;",
        "f[x_]:=x(x+1)/2",
        "g[x_]:=x(x+1)(2x+1)/6",
        "h[x_]:=x^2(x+1)^2/4",
        "n(n+1)(8n-5)/6",
        "Simplify[Expand[2h[4x]-6g[4x]]]"
      ],
      "outputs": [],
      "execution_count": null
    },
    {
      "cell_type": "code",
      "metadata": {},
      "source": [
        "n=20;",
        "n1=15;",
        "n2=4;",
        "a=40;",
        "b=19;",
        "25*51",
        "n(n+1)(2n+1)/6",
        "15*31+60-5*9-18",
        "(n1(n1+1)(2n1+1)-n2(n2+1)(2n2+1))/6",
        "2(25*51-1.5*50+9*1.5-5*9)",
        "(a(a+1)(2a+1)-b(b+1)(2b+1))*5/6-84",
        "Expand[(x+1)(x+2)(x-3)]",
        "4*5*9"
      ],
      "outputs": [],
      "execution_count": null
    },
    {
      "cell_type": "code",
      "metadata": {},
      "source": [
        "n=Pi/6;",
        "f[x_]:=Sin[2x]-x",
        "g[x_]:=f'[x]",
        "g[x]",
        "n=N[n-f[n]/g[n]]"
      ],
      "outputs": [],
      "execution_count": null
    },
    {
      "cell_type": "code",
      "metadata": {},
      "source": [
        "dist=BinomialDistribution[25,0.7];",
        "N[1-CDF[dist,20]]"
      ],
      "outputs": [],
      "execution_count": null
    },
    {
      "cell_type": "code",
      "metadata": {},
      "source": [
        "lower=N[Quantile[NormalDistribution[],0.6]]",
        "upper=N[Quantile[NormalDistribution[],0.8]]",
        "sd=0.2/(upper-lower)",
        "5.9-lower*sd"
      ],
      "outputs": [],
      "execution_count": null
    },
    {
      "cell_type": "code",
      "metadata": {},
      "source": [
        "dist=NormalDistribution[24500,5200];",
        "ans=1-N[CDF[dist, 26730]]"
      ],
      "outputs": [],
      "execution_count": null
    },
    {
      "cell_type": "code",
      "metadata": {},
      "source": [
        "Expand[(2a-1)(2b-1)+(2a-1)(2c-1)+(2b-1)(2c-1)]"
      ],
      "outputs": [],
      "execution_count": null
    },
    {
      "cell_type": "code",
      "metadata": {},
      "source": [
        "Simplify[Divide[f[z],z-3]]"
      ],
      "outputs": [],
      "execution_count": null
    },
    {
      "cell_type": "code",
      "metadata": {},
      "source": [
        "f[z_]:=z^3-z^2+11z-51;",
        "Plot[f[z],{z,1,5}]"
      ],
      "outputs": [],
      "execution_count": null
    },
    {
      "cell_type": "markdown",
      "metadata": {},
      "source": [
        "Suppose $ax^2+bx+c=0$ has roots $x=\\alpha$ and $x=\\beta$",
        "",
        "Then $\\alpha+\\beta=-\\large\\frac{b}{a}$ and $\\alpha\\beta=\\large\\frac{c}{a}$",
        "",
        "Suppose $ax^3+bx^2+cx+d=0$ has roots $x=\\alpha$, $x=\\beta$ and $x=\\gamma$",
        "",
        "Then $\\alpha+\\beta+\\gamma=\\large\\frac{-b}{a}$, $\\alpha\\beta+\\alpha\\gamma+\\beta\\gamma=\\large\\frac{c}{a}$, $\\alpha\\beta\\gamma=-\\large\\frac{d}{a}$, $\\alpha^2+\\beta^2+\\gamma^2=(\\alpha+\\beta+\\gamma)^2-2(\\alpha\\beta+\\alpha\\gamma+\\beta\\gamma)$ and $\\large\\frac{1}{\\alpha}+\\large\\frac{1}{\\beta}+\\large\\frac{1}{\\gamma}=\\large \\frac{\\alpha\\beta+\\alpha\\gamma+\\beta\\gamma}{\\alpha\\beta\\gamma}$",
        "",
        "Suppose $ax^4+bx^3+cx^2+dx+e$ has roots $x=\\alpha$, $x=\\beta$, $x=\\gamma$ and $x=\\delta$",
        "",
        "Then $\\Sigma\\alpha=-\\large\\frac{b}{a}$, $\\Sigma\\alpha\\beta=\\large\\frac{c}{a}$, $\\Sigma\\alpha\\beta\\gamma=-\\large\\frac{d}{a}$ and $\\alpha\\beta\\gamma\\delta=\\large \\frac{e}{a}$"
      ]
    },
    {
      "cell_type": "code",
      "metadata": {},
      "source": [
        "b+c+d"
      ],
      "outputs": [],
      "execution_count": null
    },
    {
      "cell_type": "code",
      "metadata": {},
      "source": [
        "a=3;",
        "b=2a;",
        "c=a-2;",
        "d=1/a;",
        "N[b*c+c*d+b*d]"
      ],
      "outputs": [],
      "execution_count": null
    },
    {
      "cell_type": "code",
      "metadata": {},
      "source": [
        "1+12+18-81"
      ],
      "outputs": [],
      "execution_count": null
    },
    {
      "cell_type": "code",
      "metadata": {},
      "source": [
        "Expand[(3a+1)(3b+1)(3c+1)]"
      ],
      "outputs": [],
      "execution_count": null
    },
    {
      "cell_type": "code",
      "metadata": {},
      "source": [
        "Expand[(3a+1)(3b+1)+(3a+1)(3c+1)+(3b+1)(3c+1)]"
      ],
      "outputs": [],
      "execution_count": null
    },
    {
      "cell_type": "code",
      "metadata": {},
      "source": [
        "-3/4-6+16"
      ],
      "outputs": [],
      "execution_count": null
    },
    {
      "cell_type": "code",
      "metadata": {},
      "source": [
        "1.5^3-3*3*1.5+3*1"
      ],
      "outputs": [],
      "execution_count": null
    },
    {
      "cell_type": "code",
      "metadata": {},
      "source": [
        "Expand[(a+b+c)^3]"
      ],
      "outputs": [],
      "execution_count": null
    },
    {
      "cell_type": "code",
      "metadata": {},
      "source": [
        "1-3/2+6/2-2/2"
      ],
      "outputs": [],
      "execution_count": null
    },
    {
      "cell_type": "code",
      "metadata": {},
      "source": [
        "1-(a+b+c)+(ab+ac+bc)-abc=1+1.5+3+1"
      ],
      "outputs": [],
      "execution_count": null
    },
    {
      "cell_type": "code",
      "metadata": {},
      "source": [
        "Expand[(1-a)(1-b)(1-c)]"
      ],
      "outputs": [],
      "execution_count": null
    },
    {
      "cell_type": "markdown",
      "metadata": {},
      "source": [
        "### Modules 2 and 5 - Matrices 1 and 2"
      ]
    },
    {
      "cell_type": "markdown",
      "metadata": {},
      "source": [
        "Matrices for transformations:",
        "",
        "Reflection in the x axis:",
        "",
        "$$\\begin{pmatrix}1&&0\\\\0&&-1\\end{pmatrix}$$",
        "",
        "Reflection in the y axis:",
        "",
        "$$\\begin{pmatrix}1&&0\\\\0&&1\\end{pmatrix}$$",
        "",
        "Reflection in the line y=x axis:",
        "",
        "$$\\begin{pmatrix} 0 && 1 \\\\ 1 && 0 \\end{pmatrix}$$",
        "",
        "Anticlockwise rotation of theta about the origin:",
        "",
        "$$\\begin{pmatrix}\\cos{\\theta}&&-\\sin{\\theta}\\\\ \\sin{\\theta}&&\\cos{\\theta}\\end{pmatrix}"
      ]
    },
    {
      "cell_type": "code",
      "metadata": {},
      "source": [
        "k=5;",
        "mat1={{3,1,2},{1, -2, 1}, {-1, 4, 1}};",
        "mat2={{k+1, 8, -4}, {-3, k-4, 7}, {3, -11, 2k+3}};",
        "mat3={{3, -2, 2}, {2, 3, -1}, {1, 3, 1}};",
        "mat4={{2, 3, -4}, {1, -1, -2}, {5, 2, 3}};",
        "mat5={{2, 3, -1}, {1, -2, -3}, {1, 5, 2}};",
        "mat6=Inverse[mat4];",
        "mat7={{11},{8},{7}};",
        "mat8=mat6.mat7;",
        "Det[mat1]",
        "Det[mat3]",
        "MatrixForm[mat2]",
        "MatrixForm[mat6]",
        "Det[mat5]",
        "MatrixForm[mat8]"
      ],
      "outputs": [],
      "execution_count": null
    },
    {
      "cell_type": "code",
      "metadata": {},
      "source": [
        "4*27-7*33",
        "3*27+5*33",
        "6*3-7*1+5*1",
        "6*1+7*2-5*4",
        "6*2-7*1-5*1",
        "2*3-5*1-1",
        "6*16-7*13+5*15",
        "2*16-5*13-15",
        "13^2-15*7-16*2",
        "6*3-2*8-4*22"
      ],
      "outputs": [],
      "execution_count": null
    },
    {
      "cell_type": "code",
      "metadata": {},
      "source": [
        "f[x_]:=x^3-2x^2-5x+6;",
        "g[x_]:=x-1",
        "Simplify[f[x]/g[x]]"
      ],
      "outputs": [],
      "execution_count": null
    },
    {
      "cell_type": "code",
      "metadata": {},
      "source": [
        "p={{1,-2},{3,-2}};",
        "q={{-2,1},{1, -2}};",
        "r={{-1, -2}, {-3, 4}};",
        "MatrixForm[p.q]",
        "MatrixForm[r.q]",
        "MatrixForm[p.r]"
      ],
      "outputs": [],
      "execution_count": null
    },
    {
      "cell_type": "code",
      "metadata": {},
      "source": [
        "Det[mat1]"
      ],
      "outputs": [],
      "execution_count": null
    },
    {
      "cell_type": "code",
      "metadata": {},
      "source": [
        "mat1={{3,-8}, {-5, 7}};",
        "MatrixForm[mat1.unitsquare]"
      ],
      "outputs": [],
      "execution_count": null
    },
    {
      "cell_type": "code",
      "metadata": {},
      "source": [
        "mat1={{-7,-2}, {4, -2}};",
        "MatrixForm[mat1.unitsquare]"
      ],
      "outputs": [],
      "execution_count": null
    },
    {
      "cell_type": "code",
      "metadata": {},
      "source": [
        "mat1={{5,-1},{-3,1}};",
        "MatrixForm[mat1.unitsquare]"
      ],
      "outputs": [],
      "execution_count": null
    },
    {
      "cell_type": "code",
      "metadata": {},
      "source": [
        "unitsquare={{0,0,1,1},{0,1,1,0}};",
        "mat1={{2,2},{-1,4}};",
        "MatrixForm[mat1.unitsquare]"
      ],
      "outputs": [],
      "execution_count": null
    },
    {
      "cell_type": "code",
      "metadata": {},
      "source": [
        "mat1={{4,2},{3,6}}",
        "Det[mat1]"
      ],
      "outputs": [],
      "execution_count": null
    },
    {
      "cell_type": "markdown",
      "metadata": {},
      "source": [
        "Identity matrices have 1's on the lead diagonal that stretches from the top-left corner to the bottom-right corner.",
        "",
        "For example, below is 3 by 3 identity matrix:",
        "",
        "$$\\mathbf{I} = \\begin{pmatrix} 1 && 0&&0 \\\\ 0 && 1&&0\\\\0&&0&&1 \\end{pmatrix}$$"
      ]
    },
    {
      "cell_type": "code",
      "metadata": {},
      "source": [
        "(* Ex 05 q 7 *)",
        "mat1={{-3,2},{-8,5}};",
        "mat2={{x},{2x+1}};",
        "MatrixForm[mat1.mat2]"
      ],
      "outputs": [],
      "execution_count": null
    },
    {
      "cell_type": "code",
      "metadata": {},
      "source": [
        "mat1={{3,7},{2,4}};",
        "mat2={{2,3},{-1,2}};",
        "mat5={{3,6,1},{-4,-2,5}};",
        "mat7=IdentityMatrix[3];",
        "mat6=mat1.mat5;",
        "mat3=mat1*mat2;",
        "mat4=mat1.mat2;",
        "MatrixForm[mat3]",
        "MatrixForm[Transpose[mat1]]",
        "MatrixForm[mat6]",
        "MatrixForm[mat7]"
      ],
      "outputs": [],
      "execution_count": null
    },
    {
      "cell_type": "code",
      "metadata": {},
      "source": [
        "mat1={{1,0},{0,1}};",
        "mat2={{-1,0},{-1,0}};",
        "MatrixForm[mat1.mat2]"
      ],
      "outputs": [],
      "execution_count": null
    },
    {
      "cell_type": "markdown",
      "metadata": {},
      "source": [
        "### Module 1 and 4 - Complex Numbers 1 (Introduction) Complex Numbers 2 (Complex Plane)"
      ]
    },
    {
      "cell_type": "code",
      "metadata": {},
      "source": [
        "ArcTan[0.5]",
        "N[ArcTan[2]]"
      ],
      "outputs": [],
      "execution_count": null
    },
    {
      "cell_type": "code",
      "metadata": {},
      "source": [
        "N[3E^(3I)]"
      ],
      "outputs": [],
      "execution_count": null
    },
    {
      "cell_type": "code",
      "metadata": {},
      "source": [
        "Expand[(a+b*I)^3]"
      ],
      "outputs": [],
      "execution_count": null
    },
    {
      "cell_type": "code",
      "metadata": {},
      "source": [
        "N[2E^I]"
      ],
      "outputs": [],
      "execution_count": null
    },
    {
      "cell_type": "code",
      "metadata": {},
      "source": [
        "0.1415*-2.4034-1.7954*1.995",
        "0.1415*1.7954+1.9950*-2.4034"
      ],
      "outputs": [],
      "execution_count": null
    },
    {
      "cell_type": "code",
      "metadata": {},
      "source": [
        "N[Cos[-1]]",
        "N[Sin[-1]]",
        "N[Cos[-2]]",
        "N[Sin[-2]]",
        "N[Cos[2]]",
        "N[Sin[2]]",
        "2Cos[1.5]",
        "2Sin[1.5]",
        "3Cos[2.5]",
        "3Sin[2.5]"
      ],
      "outputs": [],
      "execution_count": null
    },
    {
      "cell_type": "code",
      "metadata": {},
      "source": [
        "(1.081^2+1.683^2)(-0.909^2-0.416^2)"
      ],
      "outputs": [],
      "execution_count": null
    },
    {
      "cell_type": "code",
      "metadata": {},
      "source": [
        "(3+4I)(3-4I)"
      ],
      "outputs": [],
      "execution_count": null
    },
    {
      "cell_type": "code",
      "metadata": {},
      "source": [
        "f[z_]:=(2z-2I)/(1+I)-3+I",
        "NSolve[f[z],z]"
      ],
      "outputs": [],
      "execution_count": null
    },
    {
      "cell_type": "code",
      "metadata": {},
      "source": [
        "Pi-ArcTan[1.5]"
      ],
      "outputs": [],
      "execution_count": null
    },
    {
      "cell_type": "markdown",
      "metadata": {},
      "source": [
        "## Y13-2"
      ]
    },
    {
      "cell_type": "markdown",
      "metadata": {},
      "source": [
        "### Module 3 - Statistics - The Normal Distribution"
      ]
    },
    {
      "cell_type": "code",
      "metadata": {},
      "source": [
        "dist=NormalDistribution[6.5, 0.73];",
        "N[CDF[dist,8]-CDF[dist,5]]"
      ],
      "outputs": [],
      "execution_count": null
    },
    {
      "cell_type": "code",
      "metadata": {},
      "source": [
        "median=1393;",
        "interquarange=1570-1167;",
        "lowerlimit=median-1.5*interquarange",
        "upperlimit=median+1.5*interquarange"
      ],
      "outputs": [],
      "execution_count": null
    },
    {
      "cell_type": "code",
      "metadata": {},
      "source": [
        "value=641520/24;",
        "N[CDF[dist,value]]"
      ],
      "outputs": [],
      "execution_count": null
    },
    {
      "cell_type": "code",
      "metadata": {},
      "source": [
        "dist=NormalDistribution[24500,5200];",
        "N[1-(CDF[dist,24550]-CDF[dist,24450])]"
      ],
      "outputs": [],
      "execution_count": null
    },
    {
      "cell_type": "code",
      "metadata": {},
      "source": [
        "Mean[dist]"
      ],
      "outputs": [],
      "execution_count": null
    },
    {
      "cell_type": "code",
      "metadata": {},
      "source": [
        "ans=N[1-CDF[dist,12.5]]"
      ],
      "outputs": [],
      "execution_count": null
    },
    {
      "cell_type": "code",
      "metadata": {},
      "source": [
        "ans=N[CDF[dist,16.5]]"
      ],
      "outputs": [],
      "execution_count": null
    },
    {
      "cell_type": "code",
      "metadata": {},
      "source": [
        "dist=BinomialDistribution[32,0.4];",
        "ans=N[CDF[dist,7.5]-CDF[dist,6.5]]"
      ],
      "outputs": [],
      "execution_count": null
    },
    {
      "cell_type": "code",
      "metadata": {},
      "source": [
        "(* Ex. 8 *)",
        "sd=4/30^0.5;",
        "dist=NormalDistribution[96, sd];",
        "quan=Quantile[dist, 0.975]"
      ],
      "outputs": [],
      "execution_count": null
    },
    {
      "cell_type": "code",
      "metadata": {},
      "source": [
        "sd=0.5625^0.5/5^0.5;",
        "dist=NormalDistribution[18, sd];",
        "quan=Quantile[dist, 0.1]"
      ],
      "outputs": [],
      "execution_count": null
    },
    {
      "cell_type": "code",
      "metadata": {},
      "source": [
        "sd=0.01^0.5/3;",
        "dist=NormalDistribution[9, sd]",
        "quan=Quantile[dist, 0.005]"
      ],
      "outputs": [],
      "execution_count": null
    },
    {
      "cell_type": "code",
      "metadata": {},
      "source": [
        "sd=0.015/50^0.5;",
        "dist=NormalDistribution[0.61,sd];",
        "quan=Quantile[dist, 0.025]"
      ],
      "outputs": [],
      "execution_count": null
    },
    {
      "cell_type": "code",
      "metadata": {},
      "source": [
        "sd=1.1/15^0.5;",
        "dist=NormalDistribution[-6, sd];",
        "quan=Quantile[dist, 0.99]"
      ],
      "outputs": [],
      "execution_count": null
    },
    {
      "cell_type": "code",
      "metadata": {},
      "source": [
        "sd=2/70^0.5;",
        "dist=NormalDistribution[2, sd];",
        "quan=Quantile[dist, 0.1]"
      ],
      "outputs": [],
      "execution_count": null
    },
    {
      "cell_type": "code",
      "metadata": {},
      "source": [
        "sd=32^0.5/9;",
        "dist=NormalDistribution[55,sd];",
        "quan=Quantile[dist, 0.975]"
      ],
      "outputs": [],
      "execution_count": null
    },
    {
      "cell_type": "code",
      "metadata": {},
      "source": [
        "(* 4a *)",
        "sd=16.8/200^0.5;",
        "1-N[CDF[NormalDistribution[43.6,sd], 45.7]];",
        "sd^2"
      ],
      "outputs": [],
      "execution_count": null
    },
    {
      "cell_type": "code",
      "metadata": {},
      "source": [
        "(* 4b *)",
        "sd=16.8/80^0.5;",
        "1-N[CDF[NormalDistribution[43.6,sd], 44.5]];",
        "sd^2"
      ],
      "outputs": [],
      "execution_count": null
    },
    {
      "cell_type": "code",
      "metadata": {},
      "source": [
        "sd=0.8/50^0.5;",
        "dist=NormalDistribution[6,sd];",
        "Quantile[dist, 0.025]"
      ],
      "outputs": [],
      "execution_count": null
    },
    {
      "cell_type": "code",
      "metadata": {},
      "source": [
        "sd=2/5;",
        "1-N[CDF[NormalDistribution[10,sd], 10.72]]"
      ],
      "outputs": [],
      "execution_count": null
    },
    {
      "cell_type": "code",
      "metadata": {},
      "source": [
        "(* 7 *)",
        "sd=6.96/10;",
        "N[CDF[NormalDistribution[100,sd], 97.97]]"
      ],
      "outputs": [],
      "execution_count": null
    },
    {
      "cell_type": "code",
      "metadata": {},
      "source": [
        "(* Ass. 1 *)",
        "(* 7 *)",
        "2.1*g+3/10"
      ],
      "outputs": [],
      "execution_count": null
    },
    {
      "cell_type": "code",
      "metadata": {},
      "source": [
        "(* 8 *)",
        "6*g",
        "14*g"
      ],
      "outputs": [],
      "execution_count": null
    },
    {
      "cell_type": "code",
      "metadata": {},
      "source": [
        "(* 9 *)",
        "t=27/4*Cos[20 Degree]/Cos[50 Degree]*g;",
        "n=t*Sin[70 Degree];",
        "y=t*Cos[70 Degree];",
        "y=9*g-y;",
        "Sqrt[n^2+y^2]"
      ],
      "outputs": [],
      "execution_count": null
    },
    {
      "cell_type": "code",
      "metadata": {},
      "source": [
        "(* 10 *)",
        "s=(3.6*60*g+1.8*24*g)*Cos[60 Degree]/3.6/Cos[30 Degree];",
        "mu=s/84/g"
      ],
      "outputs": [],
      "execution_count": null
    },
    {
      "cell_type": "code",
      "metadata": {},
      "source": [
        "(* 12 *)",
        "N[CDF[NormalDistribution[5,0.8],4.5]]^3"
      ],
      "outputs": [],
      "execution_count": null
    },
    {
      "cell_type": "code",
      "metadata": {},
      "source": [
        "(* 13 *)",
        "sd=Sqrt[400*0.25*0.75];",
        "1-N[CDF[NormalDistribution[100,sd],110.5]]"
      ],
      "outputs": [],
      "execution_count": null
    },
    {
      "cell_type": "markdown",
      "metadata": {
        "metadata": {
          "tags": [
            "todo"
          ]
        }
      },
      "source": [
        "Z is the standard normal variable $Z \\sim N(0,1)$, Z-scores corresponding to 95% confidence interval is 1.96, and $$Z=\\frac{X-\\mu}{\\sigma}$$",
        "",
        "expected standard deviation of sample means (standard error, SE)$$SE=\\frac{\\sigma}{\\sqrt{n}}$$"
      ]
    },
    {
      "cell_type": "code",
      "metadata": {},
      "source": [
        "(* 14 *)",
        "a = 5.00; (* a can be either 5kg or 5.1kg *)",
        "NSolve[(a - 5.05)/\u03c3 == 1.96, \u03c3]"
      ],
      "outputs": [],
      "execution_count": null
    },
    {
      "cell_type": "markdown",
      "metadata": {},
      "source": [
        "### Module 4 - Vectors and Vector Algebra"
      ]
    },
    {
      "cell_type": "code",
      "metadata": {},
      "source": [
        "v={1,2,3};",
        "w={1,2,4};",
        "Dot[v,w]"
      ],
      "outputs": [],
      "execution_count": null
    },
    {
      "cell_type": "code",
      "metadata": {},
      "source": [
        "N[7/Sqrt[2]]"
      ],
      "outputs": [],
      "execution_count": null
    },
    {
      "cell_type": "code",
      "metadata": {},
      "source": [
        "(* Ex. 10 Q.3 *)",
        "N[Sin[2Pi/5]]",
        "N[Cos[2Pi/5]]"
      ],
      "outputs": [],
      "execution_count": null
    },
    {
      "cell_type": "markdown",
      "metadata": {},
      "source": [
        "The Ratio Rule",
        "$$\\vec{\\mathrm{OC}} = \\textbf{a}+\\dfrac{\\lambda}{\\lambda + \\mu}\\left( \\textbf{b} - \\textbf{a} \\right)$$",
        "$$\\vec{\\mathrm{OC}} = \\dfrac{\\mu}{\\lambda + \\mu} \\textbf{a}+\\dfrac{\\lambda}{\\lambda + \\mu} \\textbf{b}$$"
      ]
    },
    {
      "cell_type": "markdown",
      "metadata": {},
      "source": [
        "### Module 5 - Differentiation Methods"
      ]
    },
    {
      "cell_type": "code",
      "metadata": {},
      "source": [
        "D[Log[z],z]"
      ],
      "outputs": [],
      "execution_count": null
    },
    {
      "cell_type": "code",
      "metadata": {},
      "source": [
        "0.8/Pi"
      ],
      "outputs": [],
      "execution_count": null
    },
    {
      "cell_type": "code",
      "metadata": {},
      "source": [
        "Plot[Sin[x^2]*x^2, {x, -2 Pi, 2 Pi}]"
      ],
      "outputs": [],
      "execution_count": null
    },
    {
      "cell_type": "code",
      "metadata": {},
      "source": [
        "n=Sqrt[Pi]/2;",
        "N[Cos[n^2]2n^3+Sin[n^2]2n]"
      ],
      "outputs": [],
      "execution_count": null
    },
    {
      "cell_type": "code",
      "metadata": {},
      "source": [
        "D[Log[x^3],x]"
      ],
      "outputs": [],
      "execution_count": null
    },
    {
      "cell_type": "code",
      "metadata": {},
      "source": [
        "D[Log[x-2],x]"
      ],
      "outputs": [],
      "execution_count": null
    },
    {
      "cell_type": "code",
      "metadata": {},
      "source": [
        "N[2E^2]"
      ],
      "outputs": [],
      "execution_count": null
    },
    {
      "cell_type": "code",
      "metadata": {},
      "source": [
        "xa=3Cos[25 Degree];",
        "ya=3Sin[25 Degree];",
        "xb=4Sin[45 Degree];",
        "yb=4Cos[45 Degree];",
        "xab=xb-xa",
        "yab=yb-ya",
        "N[Sqrt[xab^2+yab^2]]"
      ],
      "outputs": [],
      "execution_count": null
    },
    {
      "cell_type": "code",
      "metadata": {},
      "source": [
        "D[Cos[2x+5]^3,x]"
      ],
      "outputs": [],
      "execution_count": null
    },
    {
      "cell_type": "code",
      "metadata": {},
      "source": [
        "D[Sin[x]^3,x]"
      ],
      "outputs": [],
      "execution_count": null
    },
    {
      "cell_type": "code",
      "metadata": {},
      "source": [
        "D[ArcTan[3x],x]"
      ],
      "outputs": [],
      "execution_count": null
    },
    {
      "cell_type": "code",
      "metadata": {},
      "source": [
        "D[ArcSin[3x-2],x]"
      ],
      "outputs": [],
      "execution_count": null
    },
    {
      "cell_type": "markdown",
      "metadata": {},
      "source": [
        "### Module 6 - Integration Methods"
      ]
    },
    {
      "cell_type": "code",
      "metadata": {},
      "source": [
        "(* Ex. 14 1 *)",
        "N[Log[9]-Log[3]]"
      ],
      "outputs": [],
      "execution_count": null
    },
    {
      "cell_type": "code",
      "metadata": {},
      "source": [
        "(* 5 *)",
        "N[Log[E^Pi-1]-Log[2]]"
      ],
      "outputs": [],
      "execution_count": null
    },
    {
      "cell_type": "code",
      "metadata": {},
      "source": [
        "(* 6c *)",
        "N[Sqrt[3]-2]/4"
      ],
      "outputs": [],
      "execution_count": null
    },
    {
      "cell_type": "code",
      "metadata": {},
      "source": [
        "(* Ex. 15 1 *)",
        "N[(11^8-8^8)/24]"
      ],
      "outputs": [],
      "execution_count": null
    },
    {
      "cell_type": "code",
      "metadata": {},
      "source": [
        "(* 2 *)",
        "N[(Sqrt[10]-Sqrt[6])/2]"
      ],
      "outputs": [],
      "execution_count": null
    },
    {
      "cell_type": "code",
      "metadata": {},
      "source": [
        "(* 3 *)",
        "N[(9^(11/4)-3^(11/4))/11]"
      ],
      "outputs": [],
      "execution_count": null
    },
    {
      "cell_type": "code",
      "metadata": {},
      "source": [
        "(* 4 *)",
        "N[(Log[15]-Log[7])/8]"
      ],
      "outputs": [],
      "execution_count": null
    },
    {
      "cell_type": "code",
      "metadata": {},
      "source": [
        "(* 5 *)",
        "(ArcSin[0.8]-ArcSin[0.4])/2"
      ],
      "outputs": [],
      "execution_count": null
    },
    {
      "cell_type": "code",
      "metadata": {},
      "source": [
        "(* 6 *)",
        "N[(15^5-11^5)/20]"
      ],
      "outputs": [],
      "execution_count": null
    },
    {
      "cell_type": "code",
      "metadata": {},
      "source": [
        "(* 7 *)",
        "N[(E^5-E)/4]"
      ],
      "outputs": [],
      "execution_count": null
    },
    {
      "cell_type": "code",
      "metadata": {},
      "source": [
        "(* 8 *)",
        "N[(E^2-E^(-26))/12]"
      ],
      "outputs": [],
      "execution_count": null
    },
    {
      "cell_type": "code",
      "metadata": {},
      "source": [
        "(* 9 *)",
        "Plot[(2x+1)E^(x^2+x),{x,-1,1}]",
        "N[E^2-2]"
      ],
      "outputs": [],
      "execution_count": null
    },
    {
      "cell_type": "code",
      "metadata": {},
      "source": [
        "(* Ex. 16 1 *)",
        "f[x_]:=(5x-17/3)E^(3x+4)",
        "N[f[2]-f[1]]/3"
      ],
      "outputs": [],
      "execution_count": null
    },
    {
      "cell_type": "code",
      "metadata": {},
      "source": [
        "(* 2 *)",
        "N[2Log[2]-Log[3]]"
      ],
      "outputs": [],
      "execution_count": null
    },
    {
      "cell_type": "code",
      "metadata": {},
      "source": [
        "(* 3 *)",
        "f[x_]:=2(Sin[x]x+Cos[x])-Cos[x]x^2",
        "N[f[Pi/3]-f[Pi/4]]"
      ],
      "outputs": [],
      "execution_count": null
    },
    {
      "cell_type": "code",
      "metadata": {},
      "source": [
        "(* 4 *)",
        "N[3+2Log[2]-4Log[3]]"
      ],
      "outputs": [],
      "execution_count": null
    },
    {
      "cell_type": "code",
      "metadata": {},
      "source": [
        "(* 5 *)",
        "f[x_]:=(9x^2*E^(3x)-6x*E^(3x)+2E^(3x))/27",
        "N[f[1]-f[0]]"
      ],
      "outputs": [],
      "execution_count": null
    },
    {
      "cell_type": "code",
      "metadata": {},
      "source": [
        "(* 6 *)",
        "f[x_]:=x^2/2-2x+2Log[Abs[x-3]]-3Log[Abs[x-4]]",
        "N[f[2]-f[1]]"
      ],
      "outputs": [],
      "execution_count": null
    },
    {
      "cell_type": "code",
      "metadata": {},
      "source": [
        "(* 7 *)",
        "f[x_]:=Log[x]^2x-2Log[x]x+2x",
        "N[f[2]-f[1]]"
      ],
      "outputs": [],
      "execution_count": null
    },
    {
      "cell_type": "code",
      "metadata": {},
      "source": [
        "(* 8 *)",
        "f[x_]:=-2/(x-3)+Log[Abs[x-3]]-3Log[Abs[x-4]]",
        "N[f[2]-f[1]]",
        "f[x_]:=2/(x-3)^2",
        "Integrate[f[x],x]"
      ],
      "outputs": [],
      "execution_count": null
    },
    {
      "cell_type": "code",
      "metadata": {},
      "source": [
        "(* 9 *)",
        "f[x_]:=9x+17.5Log[Abs[x-3]]-6.5Log[Abs[x+1]]",
        "N[f[5]-f[4]]"
      ],
      "outputs": [],
      "execution_count": null
    },
    {
      "cell_type": "markdown",
      "metadata": {},
      "source": [
        "### Module 7 - Differential Equations"
      ]
    },
    {
      "cell_type": "code",
      "metadata": {},
      "source": [
        "Integrate[Tan[y]^2,y]"
      ],
      "outputs": [],
      "execution_count": null
    },
    {
      "cell_type": "code",
      "metadata": {},
      "source": [
        "y[x]/.DSolve[{y'[x] == y[x]}, y[x], x]"
      ],
      "outputs": [],
      "execution_count": null
    },
    {
      "cell_type": "code",
      "metadata": {},
      "source": [
        "t=Log[99]/0.4011"
      ],
      "outputs": [],
      "execution_count": null
    },
    {
      "cell_type": "code",
      "metadata": {},
      "source": [
        "k=2;",
        "D[Sin[k*t],t]"
      ],
      "outputs": [],
      "execution_count": null
    },
    {
      "cell_type": "code",
      "metadata": {},
      "source": [
        "N[ArcTan[50]]"
      ],
      "outputs": [],
      "execution_count": null
    },
    {
      "cell_type": "code",
      "metadata": {},
      "source": [
        "Integrate[50-Tan[t],t]"
      ],
      "outputs": [],
      "execution_count": null
    },
    {
      "cell_type": "code",
      "metadata": {},
      "source": [
        "f[t_]:=50t+Log[Cos[t]]",
        "f[1.55]"
      ],
      "outputs": [],
      "execution_count": null
    },
    {
      "cell_type": "markdown",
      "metadata": {},
      "source": [
        "### Calculus Methods"
      ]
    },
    {
      "cell_type": "code",
      "metadata": {},
      "source": [
        "Integrate[Csc[x],x]",
        "Integrate[Sec[x],x]",
        "Integrate[Cot[x],x]"
      ],
      "outputs": [],
      "execution_count": null
    },
    {
      "cell_type": "markdown",
      "metadata": {},
      "source": [
        "Trigonometric Integrals",
        "",
        "$$\\int\\sin{x}=-\\cos{x}$$",
        "",
        "$$\\int\\cos{x}=\\sin{x}$$",
        "",
        "$$\\int\\tan{x}=-\\log(\\cos{x})$$"
      ]
    },
    {
      "cell_type": "markdown",
      "metadata": {},
      "source": [
        "Chain Rule",
        "",
        "$$\\dfrac{\\mathrm d y}{\\mathrm d x}=\\dfrac{\\mathrm d y}{\\mathrm d u} \\times \\dfrac{\\mathrm d u}{\\mathrm d x}$$",
        "",
        "Product Rule",
        "",
        "$$y'=u'v+v'u$$",
        "",
        "Quotient Rule",
        "",
        "$$y'=\\frac{u'v-v'u}{v^2}$$"
      ]
    },
    {
      "cell_type": "markdown",
      "metadata": {},
      "source": [
        "Integration By Parts",
        "",
        "$$\\int u \\hspace{3px} \\dfrac{\\mathrm dv}{\\mathrm dx}\\hspace{2px} \\mathrm dx=uv-\\int v\\hspace{3px}\\dfrac{\\mathrm du}{\\mathrm dx} \\hspace{2px}\\mathrm dx$$",
        "",
        "$$\\int u\\hspace{3px}\\mathrm dv=uv-\\int v\\hspace{3px} \\mathrm du$$"
      ]
    },
    {
      "cell_type": "code",
      "metadata": {},
      "source": [
        "D[ArcCsc[x],x]",
        "D[ArcSec[x],x]",
        "D[ArcCot[x],x]"
      ],
      "outputs": [],
      "execution_count": null
    },
    {
      "cell_type": "markdown",
      "metadata": {},
      "source": [
        "Trigonometric Derivatives",
        "",
        "$$\\frac{d}{dx}\\sin{x}=\\cos{x}$$",
        "",
        "$$\\frac{d}{dx}\\cos{x}=-\\sin{x}$$",
        "",
        "$$\\frac{d}{dx}\\tan{x}=\\sec^2{x}$$",
        "",
        "$$\\frac{d}{dx}\\csc{x}=-\\cot{x}\\csc{x}$$",
        "",
        "$$\\frac{d}{dx}\\sec{x}=\\sec{x}\\tan{x}$$",
        "",
        "$$\\frac{d}{dx}\\cot{x}=-\\csc^2{x}$$",
        "",
        "$$\\frac{d}{dx}\\arcsin{x}=\\frac{1}{\\sqrt{1-x^2}}$$",
        "",
        "$$\\frac{d}{dx}\\arccos{x}=\\frac{-1}{\\sqrt(1-x^2)}$$",
        "",
        "$$\\frac{d}{dx}\\arccos{x}=\\frac{1}{1+x^2}$$",
        "",
        "[<img src=\"image-Trig-Int-Circle.png\" width=\"270\"/>](image-Trig-Int-Circle.png)  [<img src=\"image-Trig-Int-Circle3.png\" width=\"400\"/>](image-Trig-Int-Circle3.png) ",
        "[<img src=\"image-Trig-Int-Circle2.png\" width=\"500\"/>](image-Trig-Int-Circle2.png) "
      ]
    },
    {
      "cell_type": "markdown",
      "metadata": {},
      "source": [
        "Sine Rule",
        "",
        "$$\\frac{\\sin{A}}{a}=\\frac{\\sin{B}}{b}=\\frac{\\sin{C}}{c}$$",
        "",
        "Cosine Rule",
        "",
        "$$c=\\sqrt{a^2+b^2-2ab\\cos{C}}"
      ]
    },
    {
      "cell_type": "markdown",
      "metadata": {},
      "source": [
        "## Y13-1"
      ]
    },
    {
      "cell_type": "markdown",
      "metadata": {},
      "source": [
        "### Module 4 - Trigonometry 1"
      ]
    },
    {
      "cell_type": "code",
      "metadata": {},
      "source": [
        "Sqrt[1.89]"
      ],
      "outputs": [],
      "execution_count": null
    },
    {
      "cell_type": "code",
      "metadata": {},
      "source": [
        "180/8"
      ],
      "outputs": [],
      "execution_count": null
    },
    {
      "cell_type": "code",
      "metadata": {},
      "source": [
        "frac=0.5/2/Pi;",
        "r=3;",
        "arclen=r*2*Pi*frac",
        "sec=Pi*r^2*frac"
      ],
      "outputs": [],
      "execution_count": null
    },
    {
      "cell_type": "code",
      "metadata": {},
      "source": [
        "(* 7 *)",
        "frac=0.5/2/Pi;",
        "r=8;",
        "sec=Pi*r^2*frac;",
        "ab=Sin[0.25]*16;",
        "mo=Cos[0.25]*8;",
        "triarea=0.5*ab*mo;",
        "sec-triarea"
      ],
      "outputs": [],
      "execution_count": null
    },
    {
      "cell_type": "code",
      "metadata": {},
      "source": [
        "(* 8 *)",
        "rad=80/69",
        "(* Easier calculation *)",
        "peri1=23*rad+6;",
        "N[peri1]",
        "(* Harder calculation *)",
        "frac=rad/2/Pi;",
        "r=10;",
        "r1=13;",
        "arclen=r*2*Pi*frac;",
        "arclen1=r1*2*Pi*frac;",
        "peri=6+arclen+arclen1;",
        "N[peri]"
      ],
      "outputs": [],
      "execution_count": null
    },
    {
      "cell_type": "code",
      "metadata": {},
      "source": [
        "f[x_]:=E^x * Log[x];",
        "Plot[f[x], {x, 0.1, 3}]"
      ],
      "outputs": [],
      "execution_count": null
    },
    {
      "cell_type": "code",
      "metadata": {},
      "source": [
        "N[2-Sqrt[3]]"
      ],
      "outputs": [],
      "execution_count": null
    },
    {
      "cell_type": "code",
      "metadata": {},
      "source": [
        "f[x_]:=2+x-x^2;",
        "N[f[Pi/25]]"
      ],
      "outputs": [],
      "execution_count": null
    },
    {
      "cell_type": "markdown",
      "metadata": {},
      "source": [
        "### Module 5 - Trigonometry 2"
      ]
    },
    {
      "cell_type": "code",
      "metadata": {},
      "source": [
        "Pi-ArcSin[0.3]"
      ],
      "outputs": [],
      "execution_count": null
    },
    {
      "cell_type": "code",
      "metadata": {},
      "source": [
        "N[ArcCos[Sqrt[2/3]]]"
      ],
      "outputs": [],
      "execution_count": null
    },
    {
      "cell_type": "code",
      "metadata": {},
      "source": [
        "Sec[2.1];",
        "N[Csc[Pi/5]];",
        "N[Cot[4*Pi/9]];",
        "ArcSin[0.8];",
        "N[ArcTan[4]];",
        "N[ArcTan[4/3]];",
        "N[ArcCos[-2/3]]"
      ],
      "outputs": [],
      "execution_count": null
    },
    {
      "cell_type": "code",
      "metadata": {},
      "source": [
        "f[x_]:=3*Csc[2x]",
        "Plot[f[x],{x,-Pi,Pi}]"
      ],
      "outputs": [],
      "execution_count": null
    },
    {
      "cell_type": "code",
      "metadata": {},
      "source": [
        "N[ArcTan[3,4]]"
      ],
      "outputs": [],
      "execution_count": null
    },
    {
      "cell_type": "code",
      "metadata": {},
      "source": [
        "ArcTan[0.2]-Pi"
      ],
      "outputs": [],
      "execution_count": null
    },
    {
      "cell_type": "code",
      "metadata": {},
      "source": [
        "f[x_]:=Cos[x+Pi/4]",
        "Plot[f[x],{x,-2Pi,2Pi}]"
      ],
      "outputs": [],
      "execution_count": null
    },
    {
      "cell_type": "code",
      "metadata": {},
      "source": [
        "f[x_]:=3Sin[x]",
        "Plot[f[x],{x,-2Pi,2Pi}]"
      ],
      "outputs": [],
      "execution_count": null
    },
    {
      "cell_type": "code",
      "metadata": {},
      "source": [
        "N[ArcTan[1/(3Sqrt[2]+1)]]"
      ],
      "outputs": [],
      "execution_count": null
    },
    {
      "cell_type": "code",
      "metadata": {},
      "source": [
        "N[ArcTan[3]]"
      ],
      "outputs": [],
      "execution_count": null
    },
    {
      "cell_type": "code",
      "metadata": {},
      "source": [
        "ArcSin[Sqrt[5/13]]-ArcTan[-1.75]"
      ],
      "outputs": [],
      "execution_count": null
    },
    {
      "cell_type": "code",
      "metadata": {},
      "source": [
        "N[ArcCot[1-Sqrt[7]]]"
      ],
      "outputs": [],
      "execution_count": null
    },
    {
      "cell_type": "code",
      "metadata": {},
      "source": [
        "(* Ass 2 *)",
        "(* 6 *)",
        "tri=64Sqrt[3]",
        "sec=64Pi/3",
        "N[tri-sec]"
      ],
      "outputs": [],
      "execution_count": null
    },
    {
      "cell_type": "code",
      "metadata": {},
      "source": [
        "(* 10a *)",
        "N[(4Pi/3-ArcTan[2.4])/2]"
      ],
      "outputs": [],
      "execution_count": null
    },
    {
      "cell_type": "code",
      "metadata": {},
      "source": [
        "(* 12b *)",
        "N[ArcTan[2]]"
      ],
      "outputs": [],
      "execution_count": null
    },
    {
      "cell_type": "code",
      "metadata": {},
      "source": [
        "(* 13a *)",
        "N[Pi-(ArcCos[-2/5]/2)]"
      ],
      "outputs": [],
      "execution_count": null
    },
    {
      "cell_type": "code",
      "metadata": {},
      "source": [
        "(* 13b *)",
        "N[2Pi/3]"
      ],
      "outputs": [],
      "execution_count": null
    },
    {
      "cell_type": "markdown",
      "metadata": {},
      "source": [
        "### Module 6 and 7 - Numerical Methods 1 and 2"
      ]
    },
    {
      "cell_type": "markdown",
      "metadata": {},
      "source": [
        "Newton-Raphson's Method",
        "",
        "For solving f(x)=0",
        "",
        "$$x_{n+1}=x_n-\\frac{f(x_n)}{f'(x_n)}$$"
      ]
    },
    {
      "cell_type": "code",
      "metadata": {},
      "source": [
        "f[x_]:=x^3-x^2+3",
        "f[-1.17452]"
      ],
      "outputs": [],
      "execution_count": null
    },
    {
      "cell_type": "code",
      "metadata": {},
      "source": [
        "f[x_]:=x^3+2x^2-4",
        "f[1.13045]"
      ],
      "outputs": [],
      "execution_count": null
    },
    {
      "cell_type": "code",
      "metadata": {},
      "source": [
        "f[x_]:=x^4+2x^3-2x^2-x+1",
        "f[-2.60625]"
      ],
      "outputs": [],
      "execution_count": null
    },
    {
      "cell_type": "code",
      "metadata": {},
      "source": [
        "Mean[{-2.65,-2.60625}]"
      ],
      "outputs": [],
      "execution_count": null
    },
    {
      "cell_type": "code",
      "metadata": {},
      "source": [
        "(* f[x_]:=E^x+x^2-4",
        "g[x_]:=E^x+2x",
        "n=1;",
        "For[i=1,i<=7,i++,n=n-f[n]/g[n]]",
        "a=N[n];",
        "n=-2;",
        "For[i=1,i<=7,i++,n=n-f[n]/g[n]]",
        "b=N[n];",
        "n=(a+b)/2;",
        "For[i=1,i<=7,i++,n=n-f[n]/g[n]]",
        "N[n] *)"
      ],
      "outputs": [],
      "execution_count": null
    },
    {
      "cell_type": "code",
      "metadata": {},
      "source": [
        "NSolve[f[x]]"
      ],
      "outputs": [],
      "execution_count": null
    },
    {
      "cell_type": "code",
      "metadata": {},
      "source": [
        "f[x_]:=1-15/x^2",
        "g[x_]:=30/x^3",
        "n=4;",
        "For[i=1,i<=10,i++,n=n-f[n]/g[n]]",
        "N[n]"
      ],
      "outputs": [],
      "execution_count": null
    },
    {
      "cell_type": "code",
      "metadata": {},
      "source": [
        "(* f[x_]:=x^3-4x^2+12",
        "g[x_]:=3x^2-8x",
        "n=3.01;",
        "For[i=1,i<=13,i++,n=n-f[n]/g[n]]",
        "N[n] *)"
      ],
      "outputs": [],
      "execution_count": null
    },
    {
      "cell_type": "code",
      "metadata": {},
      "source": [
        "(* Ex. 15 2a *)",
        "Plot[2x^2-E^x,{x,-2,3}]"
      ],
      "outputs": [],
      "execution_count": null
    },
    {
      "cell_type": "code",
      "metadata": {},
      "source": [
        "n=-3;",
        "For[i=1,i<=5,i++,n=n-f[n]/g[n]]",
        "N[n]"
      ],
      "outputs": [],
      "execution_count": null
    },
    {
      "cell_type": "code",
      "metadata": {},
      "source": [
        "Plot[2x^3-4x^2+x+1,{x,-1,0}]"
      ],
      "outputs": [],
      "execution_count": null
    },
    {
      "cell_type": "code",
      "metadata": {},
      "source": [
        "f[x_]:=x^3+3x^2-3",
        "g[x_]:=3x^2+6x",
        "n=1;",
        "For[i=1,i<=5,i++,n=n-f[n]/g[n]]",
        "N[n]"
      ],
      "outputs": [],
      "execution_count": null
    },
    {
      "cell_type": "code",
      "metadata": {},
      "source": [
        "Plot[-Sqrt[(2x^3+x+1)/4],{x,-1,1}]"
      ],
      "outputs": [],
      "execution_count": null
    },
    {
      "cell_type": "code",
      "metadata": {},
      "source": [
        "(* ass. 1 2a *)",
        "f[x_]:=x^3-2x^2+3x-5",
        "f[1]",
        "f[2]"
      ],
      "outputs": [],
      "execution_count": null
    },
    {
      "cell_type": "code",
      "metadata": {},
      "source": [
        "(* 2b *)",
        "f[1.5]",
        "f[1.75]",
        "f[1.875]",
        "f[1.8125]",
        "f[1.84375]"
      ],
      "outputs": [],
      "execution_count": null
    },
    {
      "cell_type": "code",
      "metadata": {},
      "source": [
        "Mean[{1.8125,1.875}]"
      ],
      "outputs": [],
      "execution_count": null
    },
    {
      "cell_type": "code",
      "metadata": {},
      "source": [
        "(* 3 *)",
        "f[x_]:=x^4+x^3-2x^2+3x-5",
        "f[1]",
        "f[2]",
        "f[1.2275]",
        "f[1.2285]",
        "f[1.2415]",
        "f[1.2425]",
        "f[1.2475]",
        "f[1.2485]",
        "f[1.2835]",
        "f[1.2845]"
      ],
      "outputs": [],
      "execution_count": null
    },
    {
      "cell_type": "code",
      "metadata": {},
      "source": [
        "(* 4a *)",
        "n=-2.5;",
        "f[x_]:=x^3+2x^2-x+1",
        "g[x_]:=f'[x]",
        "n=n-f[n]/g[n];",
        "n"
      ],
      "outputs": [],
      "execution_count": null
    },
    {
      "cell_type": "markdown",
      "metadata": {},
      "source": [
        "### Trigonometry Formulae"
      ]
    },
    {
      "cell_type": "markdown",
      "metadata": {},
      "source": [
        "Top right corner c means circular measure(radians)."
      ]
    },
    {
      "cell_type": "markdown",
      "metadata": {},
      "source": [
        "Pythagorean Identities",
        "",
        "$$sin^2+cos^2=1$$",
        "",
        "$$csc^2=cot^2+1$$",
        "",
        "$$sec^2=tan^2+1$$"
      ]
    },
    {
      "cell_type": "markdown",
      "metadata": {},
      "source": [
        "Addition Formulae",
        "",
        "$$sin(A+B)=\\sin{A}\\cos{B}+\\cos{A}\\sin{B}$$",
        "",
        "$$cos(A+B)=\\cos{A}\\cos{B}-\\sin{A}\\sin{B}$$",
        "",
        "$$sin(A-B)=\\sin{A}\\cos{B}-\\cos{A}\\sin{B}$$",
        "",
        "$$cos(A-B)=\\cos{A}\\cos{B}+\\sin{A}\\sin{B}$$",
        "",
        "$$tan(A+B)=\\frac{\\tan{A}+\\tan{B}}{1-\\tan{A}\\tan{B}}\\$$",
        "$$\\tan{\\left( A - B \\right)}=\\frac{\\tan{A}-\\tan{B}}{1+\\tan{A}\\tan{B}}$$"
      ]
    },
    {
      "cell_type": "markdown",
      "metadata": {},
      "source": [
        "Double Angle Formulae",
        "",
        "$$sin(2A)=2\\sin{A}\\cos{A}$$",
        "",
        "$$cos(2A)=\\cos^2{A}-\\sin^2{A}=1-2\\sin^2{A}=2\\cos^2{A}-1$$",
        "",
        "$$\\tan{\\left( 2A \\right)}=\\frac{2\\tan{A}}{1-\\tan^2{A}}$$"
      ]
    }
  ],
  "metadata": {},
  "nbformat": 4,
  "nbformat_minor": 5
}