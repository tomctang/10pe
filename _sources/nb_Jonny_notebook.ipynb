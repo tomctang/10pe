{
 "cells": [
  {
   "cell_type": "markdown",
   "metadata": {},
   "source": [
    "# Past courses"
   ]
  },
  {
   "cell_type": "markdown",
   "metadata": {},
   "source": [
    "## Water meter computation"
   ]
  },
  {
   "cell_type": "markdown",
   "metadata": {
    "vscode": {
     "languageId": "wolfram"
    }
   },
   "source": [
    "Current Water Flowed Total 5776.6 m^3"
   ]
  },
  {
   "cell_type": "code",
   "execution_count": null,
   "metadata": {
    "vscode": {
     "languageId": "wolfram"
    }
   },
   "outputs": [
    {
     "data": {
      "text/html": [
       "<div><pre style=\"&#102;&#111;&#110;&#116;&#45;&#102;&#97;&#109;&#105;&#108;&#121;&#58;&#32;&#34;&#67;&#111;&#117;&#114;&#105;&#101;&#114;&#32;&#78;&#101;&#119;&#34;&#44;&#67;&#111;&#117;&#114;&#105;&#101;&#114;&#44;&#109;&#111;&#110;&#111;&#115;&#112;&#97;&#99;&#101;&#59;\">&#123;&#49;&#48;&#44;&#32;&#56;&#46;&#49;&#44;&#32;&#55;&#46;&#50;&#44;&#32;&#57;&#46;&#50;&#44;&#32;&#49;&#55;&#46;&#53;&#125;</pre></div>"
      ],
      "text/plain": [
       "{10, 8.1, 7.2, 9.2, 17.5}"
      ]
     },
     "execution_count": 51,
     "metadata": {
      "text/html": [],
      "text/plain": []
     },
     "output_type": "execute_result"
    }
   ],
   "source": [
    "data={{1, 10} (*Observation 1*), {1, 8.1}, {1, 7.2}, {1, 9.2}, {1.6, 28}, {1.4, 15.8}}; (* Delta-T: day(Unit) ; Delta-V: m^3(Unit)*)\n",
    "f[x_]:=data[[x]][[2]]/data[[x]][[1]]\n",
    "waterFlowRate=f/@Range[Length[data]] (* m^3/day *)"
   ]
  },
  {
   "cell_type": "code",
   "execution_count": null,
   "metadata": {
    "vscode": {
     "languageId": "python"
    }
   },
   "outputs": [],
   "source": [
    "# Python \n",
    "import numpy as np\n",
    "np.sqrt((35*9.8-(np.sqrt(3)*234.273)/2)**2+(234.273)**2/4)\n",
    "35*9.8-(np.sqrt(3)*234.273)/2\n",
    "\n",
    "import math\n",
    "math.degrees(math.atan(140.1/117.1))\n",
    "np.sqrt(120**2 + (17*9.8)**2 + 2*120*(17*9.8)*np.cos(np.radians(125)))"
   ]
  },
  {
   "cell_type": "markdown",
   "metadata": {},
   "source": [
    "## Terms - Learning how to learn\n",
    "\n",
    "- "
   ]
  },
  {
   "cell_type": "markdown",
   "metadata": {},
   "source": [
    "## Terms - Railway\n",
    "\n",
    "- rail\n",
    "- train\n",
    "- engineering\n",
    "- catenary system\n",
    "- track\n",
    "- movement\n",
    "- wheel-rail interface\n",
    "- components\n",
    "- traction systems\n",
    "- system\n",
    "- station\n",
    "- switch\n",
    "- overhead line"
   ]
  },
  {
   "cell_type": "markdown",
   "metadata": {},
   "source": [
    "##### 2. People and the Railway Network\n",
    "\n",
    "- environment\n",
    "- network\n",
    "- scale"
   ]
  },
  {
   "cell_type": "markdown",
   "metadata": {},
   "source": [
    " ##### 3. Real Time Traffic Control\n",
    "\n",
    "- operations\n",
    "- timetable\n",
    "- real time traffic\n",
    "- management\n",
    "- infra capacity"
   ]
  },
  {
   "cell_type": "markdown",
   "metadata": {},
   "source": [
    "##### 4. Complexity of Disruptions\n",
    "\n",
    "- events\n",
    "- causes\n",
    "- disruptions\n",
    "- effects\n",
    "- resolving\n",
    "- prevention\n",
    "- technical problems\n",
    "- seasonal challenges\n",
    "- disturbances"
   ]
  },
  {
   "cell_type": "markdown",
   "metadata": {},
   "source": [
    "### edx discount application\n",
    "\n",
    "-- Learning How to Learn: Powerful mental tools to help you master tough subjects\n",
    "\n",
    "My name is Jingzhe Jonny Tang. I am a third-grade student from Epping, Sydney, Australia. My weekly income is limited to just $10, which I earn by assisting my family with making coffee. Additionally, the current exchange rate between the Australian Dollar (AUD) and the United States Dollar (USD) is significantly unfavorable. As a student, I am doing my Year 3 studying at Epping Primary School. As an enthusiastic fan of mathematics, so far I have finished two courses on the Coursera platform, including \"Introduction to Calculus\" provided by the University of Sydney, and \"Applied Calculus with Python\" provided by the Johns Hopkins University. For sure, all of my online math courses are under my parents' supervision. Recently, my dad recommended this course, \"Learning How to Learn: Powerful mental tools to help you master tough subjects\", to me for the reason that it can help me study hard courses faster. However, it is difficult for me to afford this course. Therefore, I am submitting this application for financial aid. Thank you very much!\n",
    "\n",
    "Despite my current status as a third-grade elementary school student, I have immersed myself in advanced mathematics studies, specifically at the pre-university level. My goal is to prepare myself for a future in which I can pursue higher education in specialized fields such as mathematics or physics immediately after completing my primary education. Here's how the \"Learning How to Learn: Powerful mental tools to help you master tough subjects\" course and the Verified Certificate will help me achieve these objectives: Academic Preparation: The course covers advanced psychology concepts that are crucial for university-level studies. By completing this course, I can build a strong foundation of learning skills, which is essentially important for mathematics and physics programs at the university level. University Admission: When I complete my primary education, having a Verified Certificate in this course will greatly enhance my chances of being admitted to university programs in mathematics or physics. It will demonstrate that I am well-prepared and have a solid grasp of the complex matter, making me a strong candidate for these programs.\n",
    "\n",
    "\n",
    "--”Railway Engineering: An Integral Approach“ \n",
    "\n",
    "My name is Jonny, and I am writing to request a tuition fee discount for the online course \"Railway Engineering: An Integral Approach\" available on edX. I am currently facing financial constraints, which make this request necessary to further my education.\n",
    "\n",
    "I am a third-grade student from Epping, Sydney, Australia. My weekly income is limited to just $10, which I earn by assisting my family with making coffee. Additionally, the current exchange rate between the Australian Dollar (AUD) and the United States Dollar (USD) is significantly unfavorable. This exchange rate situation has made courses priced in USD, such as \"Railway Engineering: An Integral Approach,\" quite expensive for me.\n",
    "\n",
    "Despite my financial challenges, I have a strong passion for learning and have dedicated myself to self-study. I have almost completed the \"Calculus Applied\" course, with only the final two assessments remaining. I believe that expanding my knowledge and skills to fields like railway engineering can open up new opportunities for me in the future.\n",
    "\n",
    "By providing a greater discount for the \"Railway Engineering: An Integral Approach\" course, you would enable me to access the course materials and further my understanding of this field. I am committed to putting in the hard work and dedication required to excel in this course.\n",
    "\n",
    "--Tell us about your current financial situation. Why do you need assistance? \n",
    "\n",
    "This is Johnny Tang, as a third-grade student from Epping Public School, Sydney, faces a challenging financial situation. I earn a weekly income of $10 by making coffee for my family, which is quite limited for my online study, especially for someone my age. My need for financial assistance primarily arises from the following factors:\n",
    "\n",
    "Low Income: My weekly income of $10 is significantly limited, and it may not be sufficient to cover my basic expenses or afford any additional educational resources or courses.\n",
    "\n",
    "Exchange Rate Impact: As I am from Australia, I am affected by the unfavorable exchange rate between the Australian Dollar (AUD) and the United States Dollar (USD). This makes it more expensive for me to purchase courses or resources that are priced in USD, such as the Calculus Applied course I am self-studying.\n",
    "\n",
    "Educational Aspirations: Despite this financial constraints, I am highly motivated to learn and excel in mathematics. I have taken the initiative to self-study and have made significant progress in the Calculus Applied course, completing most of the chapters. My dedication to this online education should be supported to ensure I can continue to pursue this academic interests.\n",
    "\n",
    "In summary, my financial situation is challenging due to my young age and limited income, unfavorable exchange rates, and my strong desire to pursue advanced studies in mathematics. Financial assistance would help me access the educational resources I need to continue self-study and further develop mathematical skills.\n",
    "\n",
    "--Tell us about your learning or professional goals. How will a Verified Certificate in this course help you achieve these goals? \n",
    "\n",
    "I wanted to elaborate further on my learning and professional goals and how obtaining a Verified Certificate in the \"Calculus Applied\" course on edX can significantly contribute to their realization.\n",
    "\n",
    "Despite my current status as a third-grade elementary school student, I have immersed myself in advanced mathematics studies, specifically at the pre-university level. My goal is to prepare myself for a future in which I can pursue higher education in specialized fields such as mathematics or physics immediately after completing my primary education.\n",
    "\n",
    "Here's how the \"Calculus Applied\" course and the Verified Certificate will help me achieve these objectives:\n",
    "\n",
    "Academic Preparation: The \"Calculus Applied\" course on edX covers advanced mathematical concepts that are crucial for university-level studies. By completing this course, I can build a strong foundation in calculus, which is a fundamental subject for mathematics and physics programs at the university level.\n",
    "\n",
    "Demonstrated Proficiency: A Verified Certificate from edX will serve as tangible proof of my commitment to learning and my proficiency in advanced mathematics. It will showcase my dedication to potential educational institutions and future employers, reinforcing my qualifications.\n",
    "\n",
    "University Admission: When I complete my primary education, having a Verified Certificate in calculus will greatly enhance my chances of being admitted to university programs in mathematics or physics. It will demonstrate that I am well-prepared and have a solid grasp of the subject matter, making me a strong candidate for these programs.\n",
    "\n",
    "\n",
    "--Tell us about my plans for this course. What steps will I take to help me complete the course work and receive a certificate? To further describe about my plans for this course. What steps will I take to help me complete the course work and receive a certificate? \n",
    "\n",
    "Let's outline my plans and the steps I have taken to successfully complete the \"Calculus Applied\" course on edX and obtain the certificate:\n",
    "\n",
    "Set Clear Goals: Define specific, achievable goals for the course. Create a Study Schedule: Establish a well-structured study schedule. Gather Resources: Ensure I have access to all the necessary course materials and resources. To engage into study actively, and practice regularly.\n",
    "\n",
    "By following these steps, I can maintain a structured approach to the coursework, enhance my learning experience, and work towards my goal of successfully completing the \"Calculus Applied\" course on edX and receiving my certificate. Anyway, persistence and dedication are key to my success.\n",
    "\n",
    "In summary, obtaining a Verified Certificate in the \"Calculus Applied\" course is not just about acquiring knowledge; it's about laying the groundwork for my future academic and professional success. It will help me bridge the gap between my current elementary school level and the advanced mathematics required at the university level. I am determined to excel academically and professionally, and this course is an essential stepping stone toward my goals.\n",
    "\n",
    "Thank you for considering my application, and I look forward to the opportunity to further my education through this course."
   ]
  },
  {
   "cell_type": "markdown",
   "metadata": {},
   "source": [
    "## Terms - Question Everything_Scientific Thinking in Real Life(finished)\n",
    "\n",
    "- speed\n",
    "- LiDAR\n",
    "- data\n",
    "- estimation\n",
    "- problem\n",
    "- qualitative\n",
    "- quantitative\n",
    "- evidence\n",
    "- radar guns\n",
    "- thinking process\n",
    "- respond\n",
    "- experiment\n",
    "- misconceptions"
   ]
  },
  {
   "cell_type": "markdown",
   "metadata": {},
   "source": [
    "## Terms - English Grammar and Style(finished)\n",
    "\n",
    "- grammar\n",
    "- words\n",
    "- verbs\n",
    "- nouns\n",
    "- pronouns\n",
    "- adjectives\n",
    "- sentences\n",
    "- phrases\n",
    "- form\n",
    "- function\n",
    "- punctuation\n",
    "- adverbs\n",
    "- conjunctions\n",
    "- prepositions\n",
    "- paragraphs"
   ]
  },
  {
   "cell_type": "markdown",
   "metadata": {},
   "source": [
    "## Terms - Calculus Applied(finished)\n",
    "\n",
    "- mathematical model\n",
    "- item response model/curve\n",
    "- parameter\n",
    "- price\n",
    "- demand\n",
    "- elasticity\n",
    "- revenue\n",
    "- x-rays\n",
    "- CT scan: many X-rays \n",
    "- attenuation\n",
    "- middle income\n",
    "- distributions\n",
    "- relative frequency\n",
    "- frequency\n",
    "- histograms\n",
    "- mean/median\n",
    "- PDF: Probability Density Functions\n",
    "- CDF: Cumulative Distribution Function\n"
   ]
  },
  {
   "cell_type": "markdown",
   "metadata": {},
   "source": [
    "##### Bifurcation sections\n",
    "- population (model)\n",
    "- predator-prey model\n",
    "- limitations\n",
    "- implications\n",
    "- bifurcation\n",
    "- critical value\n",
    "- equilibrium\n",
    "- logistic function/curve\n",
    "- outbreak\n",
    "- carrying capacity\n",
    "- stable/unstable/semi-stable equilibrium\n",
    "- tangent\n",
    "- lower/upper bound\n",
    "- reproduction\n",
    "- weak/strong competition\n",
    "- long/short term\n",
    "- phase plane\n",
    "- coexistence\n",
    "- density\n",
    "- nullcline"
   ]
  },
  {
   "cell_type": "markdown",
   "metadata": {},
   "source": [
    "##### Final Assessments\n",
    "- gravity\n",
    "- pendulum weight and length effect\n",
    "- qualitative analysis\n",
    "- albedo\n",
    "- temperature\n",
    "- climate\n",
    "- emissivity\n",
    "- physics\n",
    "- pendulum\n",
    "- period\n",
    "- trajectory"
   ]
  },
  {
   "cell_type": "markdown",
   "metadata": {},
   "source": [
    "## Terms - Causal Diagrams(unfinished)\n",
    "\n",
    "unenrolled after 4 lessons\n",
    "\n",
    "- associated/association/correlation\n",
    "- career/job \n",
    "- cause and effect \n",
    "- correlation\n",
    "- conditional\n",
    "- collider\n",
    "- confounding \n",
    "- DAG: Directed Acyclic Graph\n",
    "- selection bias\n",
    "- chance\n",
    "- D-Separation: Directional Separation\n",
    "- variable\n",
    "- path (way)\n",
    "- descendant\n",
    "- faithfulness"
   ]
  },
  {
   "cell_type": "markdown",
   "metadata": {},
   "source": [
    "##### Confounding\n",
    "\n",
    "<img src=\"https://raw.githubusercontent.com/tomctang/NB_img/main/3bias.png\" alt=\"Causality-confounder\" width=\"500\">\n",
    "\n",
    "- confounder\n",
    "- backdoor\n",
    "- randomization\n",
    "- stratification\n",
    "- standardization (g formula)\n",
    "- inverse probability weighting\n",
    "- matching\n",
    "- G-estimation"
   ]
  },
  {
   "cell_type": "markdown",
   "metadata": {},
   "source": [
    "##### Selection bias\n",
    "\n",
    "- selection\n",
    "- bias\n",
    "- error"
   ]
  }
 ],
 "metadata": {
  "kernelspec": {
   "display_name": "Wolfram Language 14",
   "language": "Wolfram Language",
   "name": "wolframlanguage14"
  },
  "language_info": {
   "codemirror_mode": "mathematica",
   "file_extension": ".m",
   "mimetype": "application/vnd.wolfram.m",
   "name": "Wolfram Language",
   "pygments_lexer": "mathematica",
   "version": "12.0"
  },
  "orig_nbformat": 4
 },
 "nbformat": 4,
 "nbformat_minor": 2
}
