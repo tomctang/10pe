{
 "cells": [
  {
   "cell_type": "markdown",
   "metadata": {},
   "source": [
    "# PE Q26-50"
   ]
  },
  {
   "cell_type": "code",
   "execution_count": 1,
   "metadata": {},
   "outputs": [],
   "source": [
    "%run PE_pre_running.py"
   ]
  },
  {
   "cell_type": "markdown",
   "metadata": {},
   "source": [
    "## PE 26"
   ]
  },
  {
   "cell_type": "code",
   "execution_count": null,
   "metadata": {},
   "outputs": [],
   "source": [
    "def pythagoreanTriplets3(limits) : \n",
    "\ta, b, c, m = 0, 0, 0, 2\n",
    "\ttriplet_sums=[]\n",
    "\twhile a+b+c < limits : \n",
    "\t\tfor n in range(1, m) : \n",
    "\t\t\ta = m * m - n * n \n",
    "\t\t\tb = 2 * m * n \n",
    "\t\t\tc = m * m + n * n\n",
    "\t\t\tif a+b+c > limits : \n",
    "\t\t\t\tbreak\n",
    "\t\t\ttriplet_sums.append(a+b+c)\n",
    "\t\t\t# print(a, b, c)\n",
    "\t\tm = m + 1\n",
    "\tprint(triplet_sums)"
   ]
  },
  {
   "cell_type": "code",
   "execution_count": null,
   "metadata": {},
   "outputs": [],
   "source": [
    "# functions 26-50\n",
    "def pythagoreanTriplets2(limits):\n",
    "\ta, b, c, m = 0, 0, 0, 2\n",
    "\ttriplet_sums=[]\n",
    "\twhile a+b+c < limits:\n",
    "\t\ta=2*m\n",
    "\t\tb=m**2-1 \n",
    "\t\tc=m**2+1 \n",
    "\t\tif a+b+c > limits: \n",
    "\t\t\tbreak\n",
    "\t\ttriplet_sums.append(a+b+c)\n",
    "\t\t# print(a,b,c)\n",
    "\t\tm+=1\n",
    "\tprint(triplet_sums)"
   ]
  },
  {
   "cell_type": "code",
   "execution_count": null,
   "metadata": {},
   "outputs": [],
   "source": [
    "(* 26 *)\n",
    "(* learn 4 functions: \n",
    "    Association[]\n",
    "    Module[]\n",
    "    KeyExistsQ[]\n",
    "    Mod[] *)\n",
    "cycleLength[d_] := Module[{rems = Association[], num = 1, pos = 1},\n",
    "  While[! KeyExistsQ[rems, num] && num != 0,\n",
    "    rems[num] = pos;\n",
    "    num = Mod[10 num, d];\n",
    "    pos++   ];\n",
    "  If[num == 0, 0, pos - rems[num]]];\n",
    "\n",
    "SortBy[Range[888, 999], cycleLength]\n",
    "cycleLength[983]"
   ]
  },
  {
   "cell_type": "markdown",
   "metadata": {},
   "source": [
    "## PE 27"
   ]
  },
  {
   "cell_type": "code",
   "execution_count": null,
   "metadata": {},
   "outputs": [],
   "source": [
    "#27 Quadratic Primes\n",
    "def sieveEratosthenes(num):\n",
    "    isPrime = [True] * (num + 1)\n",
    "    isPrime[0] = False\n",
    "    isPrime[1] = False\n",
    "    primes = []\n",
    "    for i in range(2, (num + 1)):\n",
    "        if isPrime[i]:\n",
    "            primes.append(i)\n",
    "            for j in range(2 * i, (num + 1), i):\n",
    "                isPrime[j] = False\n",
    "    return primes\n",
    "    \n",
    "def isPrime(num):\n",
    "    if num <= 1:\n",
    "        return False\n",
    "    elif num == 2 or num == 3:\n",
    "        return True\n",
    "    if num % 2 == 0 or num % 3 == 0:\n",
    "        return False\n",
    "    if not(num % 6 == 1) and not(num % 6 == 5):\n",
    "        return False\n",
    "    i = 5\n",
    "    while i * i <= num:\n",
    "        if num % i == 0 or num % (i + 2) == 0:\n",
    "            return False\n",
    "        i += 6\n",
    "    \n",
    "    return True\n",
    "\n",
    "def equation(n, a, b):\n",
    "    return n ** 2 + a * n + b\n",
    "\n",
    "b = sieveEratosthenes(1000)\n",
    "del b[0]\n",
    "\n",
    "maxA = 0\n",
    "maxB = 0\n",
    "maxCount = 0\n",
    "\n",
    "for y in b:\n",
    "    for x in range(-y, 1000, 2):\n",
    "        c = 0\n",
    "        while isPrime(equation(c, x, y)):\n",
    "            c += 1\n",
    "        if maxCount < c:\n",
    "            maxA = x\n",
    "            maxB = y\n",
    "            maxCount = c\n",
    "            \n",
    "print(maxA * maxB)"
   ]
  },
  {
   "cell_type": "markdown",
   "metadata": {},
   "source": [
    "## PE 28"
   ]
  },
  {
   "cell_type": "code",
   "execution_count": null,
   "metadata": {},
   "outputs": [],
   "source": [
    "#28 Number Spiral Diagonals\n",
    "s=1\n",
    "n=1\n",
    "# diagonal numbers included in n\n",
    "# 1001-1+2=1002\n",
    "for i in range(2,1002,2):\n",
    "    for j in range(4):\n",
    "        n+=i\n",
    "        s+=n\n",
    "s"
   ]
  },
  {
   "cell_type": "markdown",
   "metadata": {},
   "source": [
    "## PE 29"
   ]
  },
  {
   "cell_type": "code",
   "execution_count": null,
   "metadata": {},
   "outputs": [],
   "source": [
    "#29 Distinct Powers\n",
    "list_num=[]\n",
    "for i in range(99):\n",
    "    n=i+2\n",
    "    for j in range(99):\n",
    "        m=j+2\n",
    "        num=n**m\n",
    "        if num not in list_num:\n",
    "            list_num.append(num)\n",
    "list_num.sort()\n",
    "len(list_num)"
   ]
  },
  {
   "cell_type": "markdown",
   "metadata": {},
   "source": [
    "## PE 30"
   ]
  },
  {
   "cell_type": "code",
   "execution_count": null,
   "metadata": {},
   "outputs": [],
   "source": [
    "#30 Digit Fifth Powers\n",
    "def fifth(num):\n",
    "    n=[num]\n",
    "    output=list(map(int, str(n[0])))\n",
    "    for number in output:\n",
    "        power=number**5\n",
    "        num-=power\n",
    "    if num==0:\n",
    "        return True\n",
    "    else:\n",
    "        return False\n",
    "list_num=[]\n",
    "sum_num=0\n",
    "for i in range(1000000):\n",
    "    n=i+2\n",
    "    if fifth(n):\n",
    "        list_num.append(n)\n",
    "for num in list_num:\n",
    "    sum_num+=num\n",
    "sum_num"
   ]
  },
  {
   "cell_type": "code",
   "execution_count": null,
   "metadata": {},
   "outputs": [],
   "source": [
    "#30 FP way\n",
    "def fifth1(num):\n",
    "    return num == sum(int(digit) ** 5 for digit in str(num))\n",
    "\n",
    "sum_num1 = sum(n for n in range(2, 1000000) if fifth1(n))\n",
    "sum_num1"
   ]
  },
  {
   "cell_type": "markdown",
   "metadata": {},
   "source": [
    "## PE 31"
   ]
  },
  {
   "cell_type": "code",
   "execution_count": null,
   "metadata": {},
   "outputs": [],
   "source": [
    "# 31 Coin Sums: use graph traversal (DFS) with memoization\n",
    "from functools import lru_cache\n",
    "valid_coins = [1, 2, 5, 10, 20, 50, 100, 200] \n",
    "@lru_cache(None)  # memoizes the function to avoid redundant calculations\n",
    "def graph_search_ways(n, max_coin):\n",
    "    if n == 0:\n",
    "        return 1\n",
    "    return sum(\n",
    "        graph_search_ways(n - coin, coin) # Recursive but not loop\n",
    "        if coin <= max_coin and coin <= n else 0\n",
    "        for coin in valid_coins\n",
    "    )\n",
    "\n",
    "graph_search_ways(200,200)"
   ]
  },
  {
   "cell_type": "code",
   "execution_count": null,
   "metadata": {},
   "outputs": [],
   "source": [
    "(* 31 Coin Sums: use graph traversal (DFS) with memoization*)\n",
    "(* learn functions:\n",
    "    ClearAll[] \n",
    "    Memoization(:= ... =): store results to avoid recalculating for the same pair\n",
    "    Table[]: loop over each coin in validCoins *)\n",
    "ClearAll[graphSearchWays];\n",
    "validCoins = {1, 2, 5, 10, 20, 50, 100, 200};\n",
    "graphSearchWays[n_, maxCoin_] := graphSearchWays[n, maxCoin] =\n",
    "  If[n == 0, \n",
    "          1, \n",
    "   Total[Table[If[coin <= maxCoin && coin <= n \n",
    "                  , graphSearchWays[n - coin, coin]\n",
    "                  , 0], {coin, validCoins}] ]];\n",
    "\n",
    "graphSearchWays[200, 200] (*calculate n of total pairs*)\n",
    "TreeForm[ (*see logic structure*)\n",
    "  If[n == 0, 1, \n",
    "  Total[Table[If[coin <= maxCoin && coin <= n, \n",
    "              graphSearchWays[n - coin, coin], \n",
    "              0], {coin, validCoins}]]]]"
   ]
  },
  {
   "cell_type": "markdown",
   "metadata": {},
   "source": [
    "## PE 32\n",
    "\n",
    "Math easy, coding hard. \n",
    "    1) memoization use (:= ... )\n",
    "    2) gen number from digits using string, all possible combinations of digits where each digit be used only once\n",
    "    3) I tried numerically way, but computing time doubled\n",
    "    4) IntegerString[], Characters[]\n",
    "    5) Flatten[], flatten nested lists\n",
    "    6) Apply[] -> @@"
   ]
  },
  {
   "cell_type": "code",
   "execution_count": null,
   "metadata": {},
   "outputs": [],
   "source": [
    "#32 Pandigital Products\n",
    "def checkPandigital(b, n):\n",
    "\tif (len(n) < b):\n",
    "\t\treturn 0\n",
    "\thash = [0] * b\n",
    "\tfor i in range(len(n)):\n",
    "\t\tif (n[i] >= '0' and n[i] <= '9'):\n",
    "\t\t\thash[ord(n[i]) - ord('0')] = 1\n",
    "\t\telse:\n",
    "\t\t\tif (ord(n[i]) - ord('A') <= b - 11):\n",
    "\t\t\t    hash[ord(n[i]) - ord('A') + 10] = 1\n",
    "\tfor i in range(b):\n",
    "\t\tif (hash[i] == 0):\n",
    "\t\t\treturn 0\n",
    "\treturn 1\n",
    "#cal\n",
    "b = 13\n",
    "n = \"1298450376ABC\"\n",
    "if (checkPandigital(b, n)):\n",
    "\tprint(\"Yes\")\n",
    "else:\n",
    "\tprint(\"No\")"
   ]
  },
  {
   "cell_type": "markdown",
   "metadata": {},
   "source": [
    "## PE 32"
   ]
  },
  {
   "cell_type": "code",
   "execution_count": null,
   "metadata": {
    "vscode": {
     "languageId": "wolfram"
    }
   },
   "outputs": [
    {
     "data": {
      "text/html": [
       "<style>\n",
       "\t\t\t\t\t\t\t\t\t\t\t\t\t.grid-container {\n",
       "\t\t\t\t\t\t\t\t\t\t\t\t\t\tdisplay: inline-grid;\n",
       "\t\t\t\t\t\t\t\t\t\t\t\t\t\tgrid-template-columns: auto;\n",
       "\t\t\t\t\t\t\t\t\t\t\t\t\t}\n",
       "\t\t\t\t\t\t\t\t\t\t\t\t</style>\n",
       "\n",
       "\t\t\t\t\t\t\t\t\t\t\t\t<div><div class=\"grid-container\"><div class=\"grid-item\"><pre style=\"&#102;&#111;&#110;&#116;&#45;&#102;&#97;&#109;&#105;&#108;&#121;&#58;&#32;&#34;&#67;&#111;&#117;&#114;&#105;&#101;&#114;&#32;&#78;&#101;&#119;&#34;&#44;&#67;&#111;&#117;&#114;&#105;&#101;&#114;&#44;&#109;&#111;&#110;&#111;&#115;&#112;&#97;&#99;&#101;&#59;\">&#123;&#54;&#57;&#53;&#50;&#44;&#32;&#55;&#56;&#53;&#50;&#44;&#32;&#53;&#55;&#57;&#54;&#44;&#32;&#53;&#51;&#52;&#54;&#44;&#32;&#52;&#51;&#57;&#54;&#44;&#32;&#55;&#50;&#53;&#52;&#44;&#32;&#55;&#54;&#51;&#50;&#125;</pre></div><div class=\"grid-item\"><pre style=\"&#102;&#111;&#110;&#116;&#45;&#102;&#97;&#109;&#105;&#108;&#121;&#58;&#32;&#34;&#67;&#111;&#117;&#114;&#105;&#101;&#114;&#32;&#78;&#101;&#119;&#34;&#44;&#67;&#111;&#117;&#114;&#105;&#101;&#114;&#44;&#109;&#111;&#110;&#111;&#115;&#112;&#97;&#99;&#101;&#59;\">&#52;&#53;&#50;&#50;&#56;</pre></div></div></div>"
      ],
      "text/plain": [
       "{6952, 7852, 5796, 5346, 4396, 7254, 7632}\n",
       "45228"
      ]
     },
     "metadata": {},
     "output_type": "display_data"
    }
   ],
   "source": [
    "(* 32 Pandigital Products *)\n",
    "(* Check if the concatenation of x, y, product forms a 1-9 pandigital number stringly*)\n",
    "pandigitalQ[x_, y_, xy_] := \n",
    "  StringLength[ str=IntegerString[x] <> IntegerString[y] <> IntegerString[xy] ] == 9 && \n",
    "  Sort[Characters[str]] == Characters[\"123456789\"] ; \n",
    "\n",
    "(* List all valid xy then sum *)\n",
    "pandigitalProducts = DeleteDuplicates[\n",
    "    Select[ Flatten[ Table[{x, y, x*y}, {x, 1, 99}, {y, 1, 9999}], 1 ]\n",
    "          , pandigitalQ @@ # & ]\n",
    "          [[All, 3]] ]\n",
    "\n",
    "Total[pandigitalProducts]"
   ]
  },
  {
   "cell_type": "markdown",
   "metadata": {},
   "source": [
    "## PE 33"
   ]
  },
  {
   "cell_type": "code",
   "execution_count": null,
   "metadata": {},
   "outputs": [],
   "source": [
    "# 33 Digit Cancelling Fractions"
   ]
  },
  {
   "cell_type": "markdown",
   "metadata": {},
   "source": [
    "## PE 34"
   ]
  },
  {
   "cell_type": "code",
   "execution_count": null,
   "metadata": {},
   "outputs": [],
   "source": [
    "#34 Digit Factorials\n",
    "def spefact(num):\n",
    "    n=[num]\n",
    "    output=list(map(int, str(n[0])))\n",
    "    for number in output:\n",
    "        fac=factorial(number)\n",
    "        num-=fac\n",
    "    if num==0:\n",
    "        return True\n",
    "    else:\n",
    "        return False\n",
    "list_num=[]\n",
    "sum_num=0\n",
    "for i in range(1850000):\n",
    "    n=i+1\n",
    "    if spefact(n):\n",
    "        list_num.append(n)\n",
    "        print(i)\n",
    "for num in list_num:\n",
    "    sum_num+=num\n",
    "sum_num-=3\n",
    "sum_num"
   ]
  },
  {
   "cell_type": "code",
   "execution_count": null,
   "metadata": {},
   "outputs": [],
   "source": [
    "#34 FP way\n",
    "from math import factorial\n",
    "\n",
    "factorials = {str(d): factorial(d) for d in range(10)} # Precompute factorials for digits 0-9\n",
    "def is_digit_factorial(num):\n",
    "    return num == sum(factorials[digit] for digit in str(num))\n",
    "\n",
    "sum_num = sum(n for n in range(10, 1850000) if is_digit_factorial(n))\n",
    "sum_num"
   ]
  },
  {
   "cell_type": "markdown",
   "metadata": {},
   "source": [
    "## PE 35"
   ]
  },
  {
   "cell_type": "code",
   "execution_count": null,
   "metadata": {},
   "outputs": [],
   "source": [
    "#35 Circular Sums\n",
    "def list_to_int(lst):\n",
    "    n=''\n",
    "    for item in lst:\n",
    "        n=n+str(item)\n",
    "    return int(n)\n",
    "\n",
    "def circular_prime1(n):\n",
    "    if prime(n)==False:\n",
    "        return False\n",
    "    else:\n",
    "        list_prime=[]\n",
    "        while len(list_prime)<length(n):\n",
    "            output = list(map(int, str(n)))\n",
    "            list_prime.append(n)\n",
    "            if prime(n)==False:\n",
    "                return False\n",
    "            else:\n",
    "                first=output[0]\n",
    "                output.remove(first)\n",
    "                output.append(first)\n",
    "                n=list_to_int(output)\n",
    "        for prime1 in list_prime:\n",
    "            if prime(prime1)==False:\n",
    "                return False\n",
    "        return True\n",
    "\n",
    "#cal\n",
    "list_circ=[]\n",
    "for i in range(999998):\n",
    "    if i%100==0:\n",
    "        print(i)\n",
    "    n=i+2\n",
    "    if circular_prime1(n)==True:\n",
    "        list_circ.append(n)\n",
    "list_circ"
   ]
  },
  {
   "cell_type": "code",
   "execution_count": null,
   "metadata": {},
   "outputs": [],
   "source": [
    "#35 FP\n",
    "from sympy import isprime  # how can we use Jonny-defined function here? \n",
    "\n",
    "def rotations(num):  # Function to get all rotations of a number\n",
    "    s = str(num)\n",
    "    return [int(s[i:] + s[:i]) for i in range(len(s))]\n",
    "\n",
    "def is_circular_prime(num):\n",
    "    return all(isprime(rot) for rot in rotations(num))\n",
    "\n",
    "circular_primes = [n for n in range(2, 999999) if is_circular_prime(n)]\n",
    "circular_primes "
   ]
  },
  {
   "cell_type": "code",
   "execution_count": null,
   "metadata": {},
   "outputs": [
    {
     "data": {
      "text/plain": [
       "{2, 3, 5, 7, 11, 13, 17, 31, 37, 71, 73, 79, 97, 113, 131, 197, 199, 311, 337, 373, 719, 733, 919, 971, 991, 1193, 1931, 3119, 3779, 7793, 7937, 9311, 9377, 11939, 19391, 19937, 37199, 39119, 71993, 91193, 93719, 93911, 99371, 193939, 199933, 319993, 331999, 391939, 393919, 919393, 933199, 939193, 939391, 993319, 999331}"
      ],
      "x-application/wolfram-language-html": "<div class=\"wexpr\"><wrow><w></w><wb>{</wb><wrow><w></w><w>2</w><w>,</w><w>3</w><w>,</w><w>5</w><w>,</w><w>7</w><w>,</w><w>11</w><w>,</w><w>13</w><w>,</w><w>17</w><w>,</w><w>31</w><w>,</w><w>37</w><w>,</w><w>71</w><w>,</w><w>73</w><w>,</w><w>79</w><w>,</w><w>97</w><w>,</w><w>113</w><w>,</w><w>131</w><w>,</w><w>197</w><w>,</w><w>199</w><w>,</w><w>311</w><w>,</w><w>337</w><w>,</w><w>373</w><w>,</w><w>719</w><w>,</w><w>733</w><w>,</w><w>919</w><w>,</w><w>971</w><w>,</w><w>991</w><w>,</w><w>1193</w><w>,</w><w>1931</w><w>,</w><w>3119</w><w>,</w><w>3779</w><w>,</w><w>7793</w><w>,</w><w>7937</w><w>,</w><w>9311</w><w>,</w><w>9377</w><w>,</w><w>11939</w><w>,</w><w>19391</w><w>,</w><w>19937</w><w>,</w><w>37199</w><w>,</w><w>39119</w><w>,</w><w>71993</w><w>,</w><w>91193</w><w>,</w><w>93719</w><w>,</w><w>93911</w><w>,</w><w>99371</w><w>,</w><w>193939</w><w>,</w><w>199933</w><w>,</w><w>319993</w><w>,</w><w>331999</w><w>,</w><w>391939</w><w>,</w><w>393919</w><w>,</w><w>919393</w><w>,</w><w>933199</w><w>,</w><w>939193</w><w>,</w><w>939391</w><w>,</w><w>993319</w><w>,</w><w>999331</w></wrow><wb>}</wb></wrow></div>"
     },
     "metadata": {},
     "output_type": "display_data"
    }
   ],
   "source": [
    "(*35 Circular Sums*) \n",
    "rotations[n_Integer] := Module[{digits = IntegerDigits[n]},\n",
    "  FromDigits /@ NestList[RotateLeft, digits, Length[digits] - 1]]\n",
    "\n",
    "isCircularPrime[n_Integer] := AllTrue[rotations[n], PrimeQ] (*if all rotations of a number are prime*)\n",
    "circularPrimes = Select[Range[2, 999999], isCircularPrime]"
   ]
  },
  {
   "cell_type": "markdown",
   "metadata": {},
   "source": [
    "## PE 36"
   ]
  },
  {
   "cell_type": "code",
   "execution_count": null,
   "metadata": {},
   "outputs": [],
   "source": [
    "#36 Double Base Palindromes\n",
    "def binary(num):\n",
    "    return int(bin(num)[2:])\n",
    "list_num=[]\n",
    "for i in range(1000000):\n",
    "    if palin(i) and palin(binary(i)):\n",
    "        list_num.append(i)\n",
    "sum_num=0\n",
    "for number in list_num:\n",
    "    sum_num+=number\n",
    "sum_num"
   ]
  },
  {
   "cell_type": "markdown",
   "metadata": {},
   "source": [
    "## PE 37"
   ]
  },
  {
   "cell_type": "code",
   "execution_count": null,
   "metadata": {},
   "outputs": [],
   "source": [
    "#37 Truncatable Primes\n",
    "def truncatable(num):\n",
    "    input=list(map(int, str(num)))\n",
    "    inp=list_to_int(input)\n",
    "    if prime(num)==True:\n",
    "        while length(num)>1:\n",
    "            if prime(num)==True and num!=1:\n",
    "                output=list(map(int, str(num)))\n",
    "                output.remove(output[0])\n",
    "                num=list_to_int(output)\n",
    "            else:\n",
    "                return False\n",
    "        while length(inp)>1:\n",
    "            if is_prime(inp)==True and num!=1:\n",
    "                output=list(map(int, str(inp)))\n",
    "                output.remove(output[-1])\n",
    "                inp=list_to_int(output)\n",
    "            else:\n",
    "                return False\n",
    "        return True\n",
    "    else:\n",
    "        return False\n",
    "#cal\n",
    "list_trun=[]\n",
    "n=10\n",
    "while len(list_trun)<=10:\n",
    "    if truncatable(n)==True:\n",
    "        list_trun.append(n)\n",
    "    n+=1\n",
    "list_trun"
   ]
  },
  {
   "cell_type": "markdown",
   "metadata": {},
   "source": [
    "## PE 38"
   ]
  },
  {
   "cell_type": "markdown",
   "metadata": {},
   "source": [
    "38. I didn't see the answer? what happened in your mind? take notes in natural language\n",
    "> Methods & Process\n",
    "\n",
    "- already presented (1,2,3) and (1,2,3,4,5)->918273645,(1,2,3,4,5,6,7,8,9)->123456789,calculated 3 options and n>1\n",
    "    left 2 options: (1,2,3,4,5,6,7) (1,2,3,4,5,6,7,8) \n",
    "(* (1,2) *1=****, *2=1****,\n",
    " (1,2,3,4) *1=**, *2=**, *3=**, *4=***,\n",
    "  (1,2,3,4,5,6) *1=*, *2=*, *3=*, *4=**, *5=**, *6=**,\n",
    "   (1,2,3,4,5,6,7) and (1,2,3,4,5,6,7,8) not possible*)\n",
    "9352*2=18704, 935218704 contains 0 is not answer\n",
    "\n",
    "> Conclusion\n",
    "- The biggest number in the lists is 9352, 9352*2=18704, but 935218704 is not 1 to 9 pandigital\n",
    "- The next biggest number in the lists is 9327, 9327*2=18654, 932618654 is 1 to 9 pandigital.\n",
    "Thus the answer should be 932618654."
   ]
  },
  {
   "cell_type": "code",
   "execution_count": null,
   "metadata": {},
   "outputs": [
    {
     "data": {
      "text/html": [
       "<style>\n",
       "\t\t\t\t\t\t\t\t\t\t\t\t\t.grid-container {\n",
       "\t\t\t\t\t\t\t\t\t\t\t\t\t\tdisplay: inline-grid;\n",
       "\t\t\t\t\t\t\t\t\t\t\t\t\t\tgrid-template-columns: auto;\n",
       "\t\t\t\t\t\t\t\t\t\t\t\t\t}\n",
       "\t\t\t\t\t\t\t\t\t\t\t\t</style>\n",
       "\n",
       "\t\t\t\t\t\t\t\t\t\t\t\t<div><div class=\"grid-container\"><div class=\"grid-item\"><pre style=\"&#102;&#111;&#110;&#116;&#45;&#102;&#97;&#109;&#105;&#108;&#121;&#58;&#32;&#34;&#67;&#111;&#117;&#114;&#105;&#101;&#114;&#32;&#78;&#101;&#119;&#34;&#44;&#67;&#111;&#117;&#114;&#105;&#101;&#114;&#44;&#109;&#111;&#110;&#111;&#115;&#112;&#97;&#99;&#101;&#59;\">&#123;&#53;&#50;&#51;&#56;&#44;&#32;&#53;&#50;&#51;&#57;&#44;&#32;&#53;&#51;&#54;&#52;&#44;&#32;&#53;&#51;&#56;&#50;&#44;&#32;&#53;&#51;&#57;&#50;&#44;&#32;&#53;&#52;&#51;&#54;&#44;&#32;&#53;&#52;&#56;&#54;&#44;&#32;&#54;&#51;&#53;&#52;&#44;&#32;&#54;&#52;&#51;&#53;&#44;&#32;&#54;&#52;&#56;&#53;&#44;&#32;&#54;&#55;&#50;&#57;&#44;&#32;&#54;&#55;&#57;&#50;&#44;&#32;&#54;&#56;&#53;&#50;&#44;&#32;&#54;&#57;&#50;&#55;&#44;&#32;&#10;&#32;&#10;&#62;&#32;&#32;&#32;&#55;&#50;&#54;&#57;&#44;&#32;&#55;&#50;&#57;&#51;&#44;&#32;&#55;&#51;&#50;&#57;&#44;&#32;&#55;&#54;&#57;&#50;&#44;&#32;&#55;&#57;&#50;&#51;&#44;&#32;&#55;&#57;&#51;&#50;&#44;&#32;&#56;&#50;&#51;&#53;&#44;&#32;&#56;&#51;&#53;&#50;&#44;&#32;&#56;&#53;&#50;&#51;&#44;&#32;&#56;&#53;&#51;&#50;&#44;&#32;&#56;&#53;&#52;&#54;&#44;&#32;&#56;&#54;&#52;&#53;&#44;&#32;&#56;&#54;&#53;&#50;&#44;&#32;&#57;&#50;&#51;&#53;&#44;&#32;&#10;&#32;&#10;&#62;&#32;&#32;&#32;&#57;&#50;&#54;&#55;&#44;&#32;&#57;&#50;&#55;&#51;&#44;&#32;&#57;&#51;&#50;&#55;&#44;&#32;&#57;&#51;&#53;&#50;&#125;</pre></div><div class=\"grid-item\"><pre style=\"&#102;&#111;&#110;&#116;&#45;&#102;&#97;&#109;&#105;&#108;&#121;&#58;&#32;&#34;&#67;&#111;&#117;&#114;&#105;&#101;&#114;&#32;&#78;&#101;&#119;&#34;&#44;&#67;&#111;&#117;&#114;&#105;&#101;&#114;&#44;&#109;&#111;&#110;&#111;&#115;&#112;&#97;&#99;&#101;&#59;\">&#123;&#125;</pre></div><div class=\"grid-item\"><pre style=\"&#102;&#111;&#110;&#116;&#45;&#102;&#97;&#109;&#105;&#108;&#121;&#58;&#32;&#34;&#67;&#111;&#117;&#114;&#105;&#101;&#114;&#32;&#78;&#101;&#119;&#34;&#44;&#67;&#111;&#117;&#114;&#105;&#101;&#114;&#44;&#109;&#111;&#110;&#111;&#115;&#112;&#97;&#99;&#101;&#59;\">&#123;&#125;</pre></div><div class=\"grid-item\"><pre style=\"&#102;&#111;&#110;&#116;&#45;&#102;&#97;&#109;&#105;&#108;&#121;&#58;&#32;&#34;&#67;&#111;&#117;&#114;&#105;&#101;&#114;&#32;&#78;&#101;&#119;&#34;&#44;&#67;&#111;&#117;&#114;&#105;&#101;&#114;&#44;&#109;&#111;&#110;&#111;&#115;&#112;&#97;&#99;&#101;&#59;\">&#123;&#125;</pre></div></div></div>"
      ],
      "text/plain": [
       "{5238, 5239, 5364, 5382, 5392, 5436, 5486, 6354, 6435, 6485, 6729, 6792, 6852, 6927, \n",
       " \n",
       ">   7269, 7293, 7329, 7692, 7923, 7932, 8235, 8352, 8523, 8532, 8546, 8645, 8652, 9235, \n",
       " \n",
       ">   9267, 9273, 9327, 9352}\n",
       "{}\n",
       "{}\n",
       "{}"
      ]
     },
     "metadata": {},
     "output_type": "display_data"
    }
   ],
   "source": [
    "(* 38 Pandigital Multiples *)\n",
    "\n",
    "Select[Range[5000, 9999], (*Calculate values for pandigital multiples*)\n",
    "  Function[n, \n",
    "    Length[Union[IntegerDigits[n], IntegerDigits[2 n]]] == 9 && \n",
    "    1000 <= 2 n < 100000\n",
    "  ]\n",
    "]\n",
    "Select[Range[10, 99], Function[n, Length[Union[IntegerDigits[n #]] & /@ Range[4]]] == 9]\n",
    "Select[Range[1, 100], (*Calculate values for pandigital multiples(None)*)\n",
    "  Function[n, \n",
    "    Length[Union[IntegerDigits[n], IntegerDigits[6 n]]] == 9 && \n",
    "    1 <= 6 n < 100000\n",
    "  ]\n",
    "]\n",
    "Select[Range[100,1000], (*Calculate values for pandigital multiples(None)*)\n",
    "  Function[n, \n",
    "    Length[Union[IntegerDigits[n], IntegerDigits[3 n]]] == 9 && \n",
    "    1 <= 3 n < 100000\n",
    "  ]\n",
    "]"
   ]
  },
  {
   "cell_type": "markdown",
   "metadata": {},
   "source": [
    "## PE 39"
   ]
  },
  {
   "cell_type": "code",
   "execution_count": null,
   "metadata": {},
   "outputs": [],
   "source": [
    "#39 Integer Right Triangles\n",
    "# Ans:LCM(70,120)=840\n",
    "pythagoreanTriplets2(1000)\n",
    "pythagoreanTriplets3(1000)"
   ]
  },
  {
   "cell_type": "markdown",
   "metadata": {},
   "source": [
    "## PE 40"
   ]
  },
  {
   "cell_type": "code",
   "execution_count": null,
   "metadata": {},
   "outputs": [],
   "source": [
    "# 40 Champernonwne's Constant\n",
    "constant=[]\n",
    "n=1\n",
    "while len(constant)<1000000:\n",
    "    d=list(map(int,str(n)))\n",
    "    for num in d:\n",
    "        constant.append(num)\n",
    "    n+=1\n",
    "ans=constant[0]*constant[9]*constant[99]*constant[999]*constant[9999]*constant[99999]*constant[999999]\n",
    "ans"
   ]
  },
  {
   "cell_type": "markdown",
   "metadata": {},
   "source": [
    "## PE 41"
   ]
  },
  {
   "cell_type": "code",
   "execution_count": null,
   "metadata": {},
   "outputs": [],
   "source": [
    "#41 Pandigital Primes\n",
    "import itertools\n",
    "\n",
    "def isPrime(num):\n",
    "    if num <= 1:\n",
    "        return False\n",
    "    elif num == 2 or num == 3:\n",
    "        return True\n",
    "    if num % 2 == 0 or num % 3 == 0:\n",
    "        return False\n",
    "    if not(num % 6 == 1) and not(num % 6 == 5):\n",
    "        return False\n",
    "    i = 5\n",
    "    while i * i <= num:\n",
    "        if num % i == 0 or num % (i + 2) == 0:\n",
    "            return False\n",
    "        i += 6\n",
    "    return True\n",
    "\n",
    "p = list(map(\"\".join, itertools.permutations('1234567')))\n",
    "\n",
    "max = 0\n",
    "for n in p:\n",
    "    if prime(int(n)) and max < int(n):\n",
    "        max = int(n)\n",
    "\n",
    "print(max)"
   ]
  },
  {
   "cell_type": "markdown",
   "metadata": {},
   "source": [
    "## PE 42"
   ]
  },
  {
   "cell_type": "code",
   "execution_count": null,
   "metadata": {},
   "outputs": [],
   "source": [
    "#42 Coded Triangle Numbers\n",
    "import requests\n",
    "response = requests.get(\"https://projecteuler.net/resources/documents/0042_words.txt\")   # Send a GET request to the URL\n",
    "content = response.text     # Read the content of the response\n",
    "words = [name.strip('\"') for name in content.split(',')]  # Split the content by comma and remove double quotes\n",
    "\n",
    "def triangle(word):\n",
    "    value=0\n",
    "    values={'A':1, 'B':2, 'C':3, 'D':4, 'E':5, 'F':6, 'G':7, 'H':8, 'I':9, 'J':10, 'K':11, 'L':12, 'M':13, 'N':14, 'O':15, 'P':16, 'Q':17, 'R':18, 'S':19, 'T':20, 'U':21, 'V':22, 'W':23, 'X':24, 'Y':25, 'Z':26}\n",
    "    for letter in word:\n",
    "        value+=values[letter]\n",
    "    seq=triangular_seq(40)\n",
    "    if value in seq:\n",
    "        return True\n",
    "    else:\n",
    "        return False\n",
    "tri_words=0\n",
    "for word in words:\n",
    "    if triangle(word):\n",
    "        tri_words+=1\n",
    "tri_words"
   ]
  },
  {
   "cell_type": "markdown",
   "metadata": {},
   "source": [
    "## PE 45"
   ]
  },
  {
   "cell_type": "code",
   "execution_count": null,
   "metadata": {},
   "outputs": [],
   "source": [
    "(* 45 Triangular, Pentagonal, and Hexagonal \n",
    "    what I can learn?\n",
    "    1) defining series \n",
    "    2) finding common items in lists using set theory: Intersection and Union*)\n",
    "n=99999;\n",
    "Tri = #(# + 1)/2 &  /@ Range[n];\n",
    "Pen = #(3# - 1)/2 & /@ Range[n];\n",
    "Hex = #(2# - 1) &   /@ Range[n];\n",
    "Intersection[Tri,Pen,Hex]"
   ]
  },
  {
   "cell_type": "markdown",
   "metadata": {},
   "source": [
    "## PE 46"
   ]
  },
  {
   "cell_type": "code",
   "execution_count": null,
   "metadata": {},
   "outputs": [],
   "source": [
    "#46 Goldbach's Other Conjecture\n",
    "import time\n",
    "start=time.time()\n",
    "# Define a function that tests if an odd composite integer can be represented as the sum of a prime and twice a square\n",
    "def other_conjecture(n):\n",
    "    \"\"\"Assume n is an odd composite integer\"\"\"\n",
    "    for i in range(3, n-1, 2):\n",
    "        num=n-i\n",
    "        number=num/2\n",
    "        sqrt_num=int(number**1/2)+1\n",
    "        if prime(i)==True:\n",
    "            for j in range(1, sqrt_num):\n",
    "                if i+2*(j**2)==n:\n",
    "                    return True\n",
    "    return False\n",
    "# calculation\n",
    "n=9\n",
    "while True:\n",
    "    if prime(n)==True:\n",
    "        n+=2\n",
    "    else:\n",
    "        if other_conjecture(n)==True:\n",
    "            n+=2\n",
    "        else:\n",
    "            break\n",
    "print(n)\n",
    "end=time.time()\n",
    "print(end-start)"
   ]
  },
  {
   "cell_type": "markdown",
   "metadata": {},
   "source": [
    "## PE 47"
   ]
  },
  {
   "cell_type": "code",
   "execution_count": null,
   "metadata": {},
   "outputs": [],
   "source": [
    "(* 47 Distinct Primes Factors*)\n",
    "lst=Table[FactorInteger[n],{n,134040,134050}];\n",
    "lst1=Length/@lst;\n",
    "ans=Select[Range[Length[lst1]],lst1[[#]]==4&];\n",
    "ans1=Select[Range[3,Length[ans]],ans[[#]]==ans[[#-3]]+3&]\n",
    "ans\n",
    "(* learn 5 functions:\n",
    "    Table[]\n",
    "    Length[]\n",
    "    FactorInteger[]\n",
    "    Select[]\n",
    "    Range[]*)"
   ]
  },
  {
   "cell_type": "markdown",
   "metadata": {},
   "source": [
    "## PE 48"
   ]
  },
  {
   "cell_type": "code",
   "execution_count": null,
   "metadata": {},
   "outputs": [],
   "source": [
    "#48 Self Powers\n",
    "n=1\n",
    "sum_num=0\n",
    "for i in range(1000):\n",
    "    power=n**n\n",
    "    sum_num+=power\n",
    "    n+=1\n",
    "sum_num"
   ]
  },
  {
   "cell_type": "code",
   "execution_count": null,
   "metadata": {},
   "outputs": [],
   "source": [
    "def primes():\n",
    "    \"\"\"Generate a list of 4-digit prime numbers excluding the known sequence.\"\"\"\n",
    "    num = []\n",
    "    for i in range(1001, 9998, 2):\n",
    "        if prime(i):\n",
    "            num.append(i)\n",
    "    # Exclude the specific prime sequence\n",
    "    excluded = {1487, 4817, 8147}\n",
    "    num = [n for n in num if n not in excluded]\n",
    "    return num\n",
    "\n",
    "def permutations(lst):\n",
    "    \"\"\"Find primes that have the same digit permutations.\"\"\"\n",
    "    # Sort digits of each number\n",
    "    sorted_lst = [''.join(sorted(str(num))) for num in lst]\n",
    "    \n",
    "    # Dictionary to store primes by their sorted digit permutation\n",
    "    perm_dict = {}\n",
    "    for i, num in enumerate(lst):\n",
    "        perm = sorted_lst[i]\n",
    "        if perm in perm_dict:\n",
    "            perm_dict[perm].append(num)\n",
    "        else:\n",
    "            perm_dict[perm] = [num]\n",
    "    \n",
    "    # Return only those lists with more than one permutation\n",
    "    return {k: v for k, v in perm_dict.items() if len(v) > 1}\n",
    "\n",
    "# Get primes and permutations\n",
    "prime_list = primes()\n",
    "permutations_dict = permutations(prime_list)\n",
    "\n",
    "print(permutations_dict)\n"
   ]
  },
  {
   "cell_type": "markdown",
   "metadata": {},
   "source": [
    "## PE 49"
   ]
  },
  {
   "cell_type": "code",
   "execution_count": null,
   "metadata": {},
   "outputs": [],
   "source": [
    "# 49 Prime Permutations\n",
    "def primes():\n",
    "    num=[]\n",
    "    for i in range(1001,9998,2):\n",
    "        if prime(i)==True:\n",
    "            num.append(i)\n",
    "    num.remove(1487)\n",
    "    num.remove(4817)\n",
    "    num.remove(8147)\n",
    "    return num\n",
    "\n",
    "def permutations(lst):\n",
    "    for i in range(len(lst)):\n",
    "        lst[i]=list(map(int,str(lst[i])))\n",
    "        lst[i].sort()\n",
    "    lst.sort()\n",
    "    for i in range(len(lst)):\n",
    "        print(lst[i])\n",
    "    for i in range(1,len(lst)):\n",
    "        if lst[i]!=lst[i-1]:\n",
    "            lst.remove(lst[i-1])\n",
    "    lst.remove(lst[-1])\n",
    "    return lst\n",
    "\n",
    "print(permutations(primes()))\n",
    "print(primes())"
   ]
  }
 ],
 "metadata": {
  "kernelspec": {
   "display_name": "base",
   "language": "python",
   "name": "python3"
  },
  "language_info": {
   "codemirror_mode": {
    "name": "ipython",
    "version": 3
   },
   "file_extension": ".py",
   "mimetype": "text/x-python",
   "name": "python",
   "nbconvert_exporter": "python",
   "pygments_lexer": "ipython3",
   "version": "3.10.14"
  }
 },
 "nbformat": 4,
 "nbformat_minor": 2
}
