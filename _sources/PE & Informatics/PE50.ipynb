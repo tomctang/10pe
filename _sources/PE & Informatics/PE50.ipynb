{
 "cells": [
  {
   "cell_type": "markdown",
   "metadata": {},
   "source": [
    "# Project Euler Q1-50\n",
    "\n",
    "To solve PE problems so far, I include three approaches: \n",
    "- Python OOP and FP \n",
    "- Sage \n",
    "- MMA (FP primarily)\n",
    "\n",
    "Pre-running Python functions: \n",
    "- After I solved many questions using Python, I found some functions were repeated, like Prime-Check, Fibonacci. Then I built this part to store these functions for pre-running. "
   ]
  },
  {
   "cell_type": "code",
   "execution_count": null,
   "metadata": {
    "vscode": {
     "languageId": "sage"
    }
   },
   "outputs": [],
   "source": [
    "%run PE_pre_running.py"
   ]
  },
  {
   "cell_type": "markdown",
   "metadata": {},
   "source": [
    "## PE 1"
   ]
  },
  {
   "cell_type": "code",
   "execution_count": null,
   "metadata": {
    "vscode": {
     "languageId": "sage"
    }
   },
   "outputs": [],
   "source": [
    "#1 Multiples of 3 or 5\n",
    "sum_num=0\n",
    "list_num=[]\n",
    "for i in range(1, 999//3):\n",
    "    m=i*3\n",
    "    list_num.append(m)\n",
    "for i in range(1, 999//5):\n",
    "    m=i*5\n",
    "    if m not in list_num:\n",
    "        list_num.append(m)\n",
    "    else:\n",
    "        pass\n",
    "for num in list_num:\n",
    "    sum_num+=num\n",
    "sum_num"
   ]
  },
  {
   "cell_type": "markdown",
   "metadata": {},
   "source": [
    "## PE 2"
   ]
  },
  {
   "cell_type": "code",
   "execution_count": null,
   "metadata": {
    "vscode": {
     "languageId": "sage"
    }
   },
   "outputs": [],
   "source": [
    "#2 Even Fibonacci Numbers\n",
    "num=0\n",
    "sum_num=0\n",
    "list_fib=[]\n",
    "for i in range(3000000):\n",
    "    num=fastFib(i)\n",
    "    list_fib.append(num)\n",
    "for num in list_fib:\n",
    "    if num//2==num/2:\n",
    "        sum_num+=num\n",
    "sum_num"
   ]
  },
  {
   "cell_type": "markdown",
   "metadata": {},
   "source": [
    "## PE 4"
   ]
  },
  {
   "cell_type": "code",
   "execution_count": null,
   "metadata": {
    "vscode": {
     "languageId": "sage"
    }
   },
   "outputs": [],
   "source": [
    "#4 Largest Palindrome Product\n",
    "m=999\n",
    "n=999\n",
    "list_palin=[]\n",
    "for i in range(900):\n",
    "    for i in range(900):\n",
    "        print(m*n)\n",
    "        n-=1\n",
    "        if palindrome(m*n):\n",
    "            print('Palindrome')\n",
    "            list_palin.append(m*n)\n",
    "    m-=1\n",
    "    n=999\n",
    "max(list_palin)"
   ]
  },
  {
   "cell_type": "markdown",
   "metadata": {},
   "source": [
    "## PE 5"
   ]
  },
  {
   "cell_type": "code",
   "execution_count": null,
   "metadata": {
    "vscode": {
     "languageId": "sage"
    }
   },
   "outputs": [],
   "source": [
    "#5 Smallest Multiple\n",
    "2520*11*13*17*19*2"
   ]
  },
  {
   "cell_type": "markdown",
   "metadata": {},
   "source": [
    "## PE 6"
   ]
  },
  {
   "cell_type": "code",
   "execution_count": null,
   "metadata": {
    "vscode": {
     "languageId": "sage"
    }
   },
   "outputs": [],
   "source": [
    "# 6 Sum Square Difference\n",
    "nums=[]\n",
    "sums=0\n",
    "n=1\n",
    "for i in range(100):\n",
    "    nums.append(n)\n",
    "    n+=1\n",
    "for num in nums:\n",
    "    sums+=num\n",
    "sums**2"
   ]
  },
  {
   "cell_type": "code",
   "execution_count": null,
   "metadata": {
    "vscode": {
     "languageId": "sage"
    }
   },
   "outputs": [],
   "source": [
    "# 6 Sum Square Difference\n",
    "nums=[]\n",
    "sums=0\n",
    "n=1\n",
    "for i in range(100):\n",
    "    nums.append(n)\n",
    "    n+=1\n",
    "for num in nums:\n",
    "    sums+=num**2\n",
    "sums\n",
    "\n",
    "#6 results\n",
    "25502500-338350"
   ]
  },
  {
   "cell_type": "markdown",
   "metadata": {},
   "source": [
    "## PE 7"
   ]
  },
  {
   "cell_type": "code",
   "execution_count": null,
   "metadata": {
    "vscode": {
     "languageId": "sage"
    }
   },
   "outputs": [],
   "source": [
    "#7 10001st Prime\n",
    "fd_prime(1)"
   ]
  },
  {
   "cell_type": "markdown",
   "metadata": {},
   "source": [
    "## PE 8"
   ]
  },
  {
   "cell_type": "code",
   "execution_count": null,
   "metadata": {
    "vscode": {
     "languageId": "sage"
    }
   },
   "outputs": [],
   "source": [
    "#8 Largest Multiple In a Series\n",
    "num=7316717653133062491922511967442657474235534919493496983520312774506326239578318016984801869478851843858615607891129494954595017379583319528532088055111254069874715852386305071569329096329522744304355766896648950445244523161731856403098711121722383113622298934233803081353362766142828064444866452387493035890729629049156044077239071381051585930796086670172427121883998797908792274921901699720888093776657273330010533678812202354218097512545405947522435258490771167055601360483958644670632441572215539753697817977846174064955149290862569321978468622482839722413756570560574902614079729686524145351004748216637048440319989000889524345065854122758866688116427171479924442928230863465674813919123162824586178664583591245665294765456828489128831426076900422421902267105562632111110937054421750694165896040807198403850962455444362981230987879927244284909188845801561660979191338754992005240636899125607176060588611646710940507754100225698315520005593572972571636269561882670428252483600823257530420752963450\n",
    "output=list(map(int, str(num)))\n",
    "nums=[0, 12]\n",
    "list_num=[]\n",
    "maxval=0\n",
    "val=1\n",
    "while nums[1]<=999:\n",
    "    num0=nums[0]\n",
    "    num1=nums[1]\n",
    "    n=num0\n",
    "    while n<=num1:\n",
    "        list_num.append(output[n])\n",
    "        n+=1\n",
    "    for i in range(13):\n",
    "        val*=list_num[i]\n",
    "    if val>maxval:\n",
    "        maxval=val\n",
    "    val=1\n",
    "    nums[0]+=1\n",
    "    nums[1]+=1\n",
    "    list_num=[]\n",
    "maxval"
   ]
  },
  {
   "cell_type": "markdown",
   "metadata": {},
   "source": [
    "## PE 9"
   ]
  },
  {
   "cell_type": "code",
   "execution_count": null,
   "metadata": {
    "vscode": {
     "languageId": "sage"
    }
   },
   "outputs": [],
   "source": [
    "#9 Special Pythagorean Triplet\n",
    "pythagoreanTriplets(750)"
   ]
  },
  {
   "cell_type": "markdown",
   "metadata": {},
   "source": [
    "## PE 10"
   ]
  },
  {
   "cell_type": "code",
   "execution_count": null,
   "metadata": {
    "vscode": {
     "languageId": "sage"
    }
   },
   "outputs": [],
   "source": [
    "#10 Summation of Primes\n",
    "sum_prime=0\n",
    "for i in range(2,2000000):\n",
    "    if prime(i):\n",
    "        sum_prime+=i\n",
    "print(sum_prime)"
   ]
  },
  {
   "cell_type": "markdown",
   "metadata": {},
   "source": [
    "## PE 11"
   ]
  },
  {
   "cell_type": "code",
   "execution_count": null,
   "metadata": {
    "vscode": {
     "languageId": "sage"
    }
   },
   "outputs": [],
   "source": [
    "#11 Largest Product in a Grid\n",
    "87*97*94*89"
   ]
  },
  {
   "cell_type": "markdown",
   "metadata": {},
   "source": [
    "## PE 12"
   ]
  },
  {
   "cell_type": "code",
   "execution_count": null,
   "metadata": {
    "vscode": {
     "languageId": "sage"
    }
   },
   "outputs": [],
   "source": [
    "#12 Highly Divisible Triangular Number\n",
    "seq=triangular_seq(12375)\n",
    "facs=[]\n",
    "for triangular in seq:\n",
    "    facs.append(num_fac(triangular))\n",
    "    if facs[-1]>=500:\n",
    "        print(len(facs))\n",
    "        break\n",
    "max(facs)\n",
    "print(len(facs))\n",
    "max(seq)"
   ]
  },
  {
   "cell_type": "markdown",
   "metadata": {},
   "source": [
    "## PE 13"
   ]
  },
  {
   "cell_type": "code",
   "execution_count": null,
   "metadata": {
    "vscode": {
     "languageId": "sage"
    }
   },
   "outputs": [],
   "source": [
    "#13 Large Sum\n",
    "import requests\n",
    "from bs4 import BeautifulSoup\n",
    "response = requests.get(\"https://projecteuler.net/problem=13\")  # Send a GET request to the URL\n",
    "soup = BeautifulSoup(response.content, \"html.parser\")   # Parse the HTML content\n",
    "numbers = soup.find(\"div\", class_=\"problem_content\").text.strip()  # Find the content of interest (in this case, the numbers)\n",
    "\n",
    "numbers_list = numbers.split('\\n')  # Split the numbers into a list, assuming each number is separated by a newline character\n",
    "numbers_list = [num for num in numbers_list if num] # Filter out any empty strings or irrelevant text\n",
    "numbers_list = numbers_list[1:101] # Ensure that we only take the first 100 numbers\n",
    "\n",
    "sum_num=0\n",
    "sets = [int(num) for num in numbers_list]  # Convert the numbers from strings to integers and store them in a list\n",
    "for num in sets:\n",
    "    sum_num+=num\n",
    "print(sum_num)"
   ]
  },
  {
   "cell_type": "markdown",
   "metadata": {},
   "source": [
    "## PE 14"
   ]
  },
  {
   "cell_type": "code",
   "execution_count": null,
   "metadata": {
    "vscode": {
     "languageId": "sage"
    }
   },
   "outputs": [],
   "source": [
    "#14 Longest Collatz Sequence\n",
    "n=1\n",
    "max_len=1\n",
    "for i in range(1000000):\n",
    "    culen=collatz_length(n)\n",
    "    if culen==525:\n",
    "        print(n)\n",
    "    if culen>max_len:\n",
    "        max_len=culen\n",
    "    n+=1"
   ]
  },
  {
   "cell_type": "markdown",
   "metadata": {},
   "source": [
    "## PE 15"
   ]
  },
  {
   "cell_type": "code",
   "execution_count": null,
   "metadata": {
    "vscode": {
     "languageId": "sage"
    }
   },
   "outputs": [],
   "source": [
    "#15 Lattice Paths\n",
    "n = 20\n",
    "result = paths(n)\n",
    "print(result)"
   ]
  },
  {
   "cell_type": "markdown",
   "metadata": {},
   "source": [
    "## PE 16"
   ]
  },
  {
   "cell_type": "code",
   "execution_count": null,
   "metadata": {
    "vscode": {
     "languageId": "sage"
    }
   },
   "outputs": [],
   "source": [
    "#16 Power Digit Sum\n",
    "num=[10715086071862673209484250490600018105614048117055336074437503883703510511249361224931983788156958581275946729175531468251871452856923140435984577574698574803934567774824230985421074605062371141877954182153046474983581941267398767559165543946077062914571196477686542167660429831652624386837205668069376]\n",
    "output=list(map(int, str(num[0])))\n",
    "sum_num=0\n",
    "for number in output:\n",
    "    sum_num+=number\n",
    "sum_num"
   ]
  },
  {
   "cell_type": "markdown",
   "metadata": {},
   "source": [
    "## PE 17"
   ]
  },
  {
   "cell_type": "code",
   "execution_count": null,
   "metadata": {
    "vscode": {
     "languageId": "sage"
    }
   },
   "outputs": [],
   "source": [
    "#17 Number Letter Counts\n",
    "solve(1000)"
   ]
  },
  {
   "cell_type": "markdown",
   "metadata": {},
   "source": [
    "## PE 18"
   ]
  },
  {
   "cell_type": "code",
   "execution_count": null,
   "metadata": {
    "vscode": {
     "languageId": "sage"
    }
   },
   "outputs": [],
   "source": [
    "#18 Maximum Path Sum I\n",
    "l1=[75]\n",
    "l2=[95, 64]\n",
    "l3=[17, 47, 82]\n",
    "l4=[18, 35, 87, 10]\n",
    "l5=[20, 4, 82, 47, 65]\n",
    "l6=[19, 1, 23, 75, 3, 34]\n",
    "l7=[88, 2, 77, 73, 7, 63, 67]\n",
    "l8=[99, 65, 4, 28, 6, 16, 70, 92]\n",
    "l9=[41, 41, 26, 56, 83, 40, 80, 70, 33]\n",
    "l10=[41, 48, 72, 33, 47, 32, 37, 16, 94, 29]\n",
    "l11=[53, 71, 44, 65, 25, 43, 91, 52, 97, 51, 14]\n",
    "l12=[70, 11, 33, 28, 77, 73, 17, 78, 39, 68, 17, 57]\n",
    "l13=[91, 71, 52, 38, 17, 14, 91, 43, 58, 50, 27, 29, 48]\n",
    "l14=[63, 66, 4, 68, 89, 53, 67, 30, 73, 16, 69, 87, 40, 31]\n",
    "l15=[4, 62, 98, 27, 23, 9, 70, 98, 73, 93, 38, 53, 60, 4, 23]\n",
    "triangle=[l1, l2, l3, l4, l5, l6, l7, l8, l9, l10, l11, l12, l13, l14, l15]\n",
    "for i in range(len(triangle) - 2, -1, -1):\n",
    "    for j in range(len(triangle[i])):\n",
    "        triangle[i][j] += max(triangle[i + 1][j], triangle[i + 1][j + 1])\n",
    "max_total = triangle[0][0]\n",
    "print(max_total)"
   ]
  },
  {
   "cell_type": "markdown",
   "metadata": {},
   "source": [
    "## PE 19"
   ]
  },
  {
   "cell_type": "code",
   "execution_count": null,
   "metadata": {
    "vscode": {
     "languageId": "sage"
    }
   },
   "outputs": [],
   "source": [
    "#19 Counting Sundays\n",
    "import datetime\n",
    "count=0\n",
    "for year in range(1901, 2001):\n",
    "    for month in range(1, 13):\n",
    "        if datetime.date(year, month, 1).weekday()==6:\n",
    "            count+=1\n",
    "print(count)"
   ]
  },
  {
   "cell_type": "markdown",
   "metadata": {},
   "source": [
    "## PE 20"
   ]
  },
  {
   "cell_type": "code",
   "execution_count": null,
   "metadata": {
    "vscode": {
     "languageId": "sage"
    }
   },
   "outputs": [],
   "source": [
    "#20 Factorial Digit Sum\n",
    "num=fact(100)\n",
    "output=list(map(int, str(num)))\n",
    "sum_num=0\n",
    "for number in output:\n",
    "    sum_num+=number\n",
    "sum_num"
   ]
  },
  {
   "cell_type": "markdown",
   "metadata": {},
   "source": [
    "## PE 21"
   ]
  },
  {
   "cell_type": "code",
   "execution_count": null,
   "metadata": {
    "vscode": {
     "languageId": "sage"
    }
   },
   "outputs": [],
   "source": [
    "# 21 Amicable Numbers\n",
    "amic=[]\n",
    "for i in range(1,10000):\n",
    "    if amicable(i):\n",
    "        amic.append(i)\n",
    "sum(amic)"
   ]
  },
  {
   "cell_type": "markdown",
   "metadata": {},
   "source": [
    "## PE 22"
   ]
  },
  {
   "cell_type": "code",
   "execution_count": null,
   "metadata": {
    "vscode": {
     "languageId": "sage"
    }
   },
   "outputs": [],
   "source": [
    "#22 Names Scores\n",
    "import requests\n",
    "response = requests.get(\"https://projecteuler.net/resources/documents/0022_names.txt\")   # Send a GET request to the URL\n",
    "content = response.text     # Read the content of the response\n",
    "names = [name.strip('\"') for name in content.split(',')]  # Split the content by comma and remove double quotes\n",
    "names.sort()\n",
    "\n",
    "value={'A':1, 'B':2, 'C':3, 'D':4, 'E':5, 'F':6, 'G':7, 'H':8, 'I':9, 'J':10, 'K':11, 'L':12, 'M':13, 'N':14, 'O':15, 'P':16, 'Q':17, 'R':18, 'S':19, 'T':20, 'U':21, 'V':22, 'W':23, 'X':24, 'Y':25, 'Z':26}\n",
    "tot_score=0\n",
    "place=1\n",
    "for name in names:\n",
    "    score=0\n",
    "    for letter in name:\n",
    "        score+=value[letter]\n",
    "    score*=place\n",
    "    tot_score+=score\n",
    "    place+=1\n",
    "tot_score"
   ]
  },
  {
   "cell_type": "code",
   "execution_count": null,
   "metadata": {
    "vscode": {
     "languageId": "sage"
    }
   },
   "outputs": [],
   "source": [
    "def factors(n):\n",
    "    facs = {1}\n",
    "    for i in range(2, int(n**0.5)+1):\n",
    "        if n%i==0:\n",
    "            facs.add(i)\n",
    "            facs.add(n // i)\n",
    "    return facs\n",
    "def abundant(n):\n",
    "    return sum(factors(n)) > n\n",
    "def sum_abundant(n, abundant_numbers):\n",
    "    for ab in abundant_numbers:\n",
    "        if (n - ab) in abundant_numbers:\n",
    "            return True\n",
    "    return False\n",
    "abundant_numbers = {i for i in range(12, 28124) if abundant(i)}\n",
    "non_abundant_sums = [i for i in range(1, 28124) if not sum_abundant(i, abundant_numbers)]\n",
    "result = sum(non_abundant_sums)\n",
    "print(result)\n"
   ]
  },
  {
   "cell_type": "markdown",
   "metadata": {},
   "source": [
    "## PE 23"
   ]
  },
  {
   "cell_type": "code",
   "execution_count": null,
   "metadata": {
    "vscode": {
     "languageId": "sage"
    }
   },
   "outputs": [],
   "source": [
    "# 23 Non-Abundant Sums\n",
    "def factors(n):\n",
    "    facs=[1]\n",
    "    for i in range(2,int(n**0.5)+1):  # 非常耗时，缩小范围\n",
    "        if n%i==0:\n",
    "            facs.append(i)\n",
    "            facs.append(n//i)\n",
    "    return facs\n",
    "\n",
    "def abundant(n):\n",
    "    return sum(factors(n))>n\n",
    "\n",
    "def sum_abundant(n,abundant_numbers):\n",
    "    for ab in abundant_numbers:\n",
    "        if (n - ab) in abundant_numbers:\n",
    "            return True\n",
    "    return False\n",
    "abundant_numbers = {i for i in range(12, 28124) if abundant(i)}\n",
    "non_abundant_sums = [i for i in range(1, 28124) if not sum_abundant(i, abundant_numbers)]\n",
    "\n",
    "sum(non_abundant_sums) # Error: smaller by 258348"
   ]
  },
  {
   "cell_type": "markdown",
   "metadata": {},
   "source": [
    "## PE 24"
   ]
  },
  {
   "cell_type": "code",
   "execution_count": null,
   "metadata": {
    "vscode": {
     "languageId": "sage"
    }
   },
   "outputs": [],
   "source": [
    "#24 Lexicographic Permutations\n",
    "import itertools\n",
    "permutations = list(itertools.permutations(range(10)))\n",
    "millionth_permutation = int(''.join(map(str, permutations[999999])))\n",
    "millionth_permutation"
   ]
  },
  {
   "cell_type": "markdown",
   "metadata": {},
   "source": [
    "## PE 25"
   ]
  },
  {
   "cell_type": "code",
   "execution_count": null,
   "metadata": {
    "vscode": {
     "languageId": "sage"
    }
   },
   "outputs": [],
   "source": [
    "#25 1000 Digit Fibonacci Number\n",
    "fastFib(4781)\n",
    "length(1731403589222002957294429346518895723709506082039860786521776201969997425190002580820509546929820263058457975554718584767897610032505496877507394744099980978096953962557220579370143960032185044755214925165471985133186165562568372954212266775160479690961083330407371040988504455586839093910684051542272860673487922394300583546141201071181523567766482697651998576131907383462584505182933770187893410602855362990044627645611957937480375221691136281665191108770486046208365987457152897898978151032624598781944378501953255407873508942191356136619446735012761729556373994129675990036580541567079157500214451848590106380276929004769735246144938528628285344388350842365138183068393693524442382719001304601982880025898373942014814103022093332575900147730351419594078092359452500825422173232850278854098501036548721303293491571977471641513836658780413653798660841910284032061829208989654332339843602086914702633919395534251088908273898020000096184168171559429402858006596531459999394154832243826895270097988797)"
   ]
  },
  {
   "cell_type": "markdown",
   "metadata": {},
   "source": [
    "## PE 26"
   ]
  },
  {
   "cell_type": "code",
   "execution_count": null,
   "metadata": {
    "vscode": {
     "languageId": "sage"
    }
   },
   "outputs": [],
   "source": [
    "def pythagoreanTriplets3(limits) : \n",
    "\ta, b, c, m = 0, 0, 0, 2\n",
    "\ttriplet_sums=[]\n",
    "\twhile a+b+c < limits : \n",
    "\t\tfor n in range(1, m) : \n",
    "\t\t\ta = m * m - n * n \n",
    "\t\t\tb = 2 * m * n \n",
    "\t\t\tc = m * m + n * n\n",
    "\t\t\tif a+b+c > limits : \n",
    "\t\t\t\tbreak\n",
    "\t\t\ttriplet_sums.append(a+b+c)\n",
    "\t\t\t# print(a, b, c)\n",
    "\t\tm = m + 1\n",
    "\tprint(triplet_sums)"
   ]
  },
  {
   "cell_type": "code",
   "execution_count": null,
   "metadata": {
    "vscode": {
     "languageId": "sage"
    }
   },
   "outputs": [],
   "source": [
    "# functions 26-50\n",
    "def pythagoreanTriplets2(limits):\n",
    "\ta, b, c, m = 0, 0, 0, 2\n",
    "\ttriplet_sums=[]\n",
    "\twhile a+b+c < limits:\n",
    "\t\ta=2*m\n",
    "\t\tb=m**2-1 \n",
    "\t\tc=m**2+1 \n",
    "\t\tif a+b+c > limits: \n",
    "\t\t\tbreak\n",
    "\t\ttriplet_sums.append(a+b+c)\n",
    "\t\t# print(a,b,c)\n",
    "\t\tm+=1\n",
    "\tprint(triplet_sums)"
   ]
  },
  {
   "cell_type": "code",
   "execution_count": null,
   "metadata": {
    "vscode": {
     "languageId": "sage"
    }
   },
   "outputs": [],
   "source": [
    "(* 26 *)\n",
    "(* learn 4 functions: \n",
    "    Association[]\n",
    "    Module[]\n",
    "    KeyExistsQ[]\n",
    "    Mod[] *)\n",
    "cycleLength[d_] := Module[{rems = Association[], num = 1, pos = 1},\n",
    "  While[! KeyExistsQ[rems, num] && num != 0,\n",
    "    rems[num] = pos;\n",
    "    num = Mod[10 num, d];\n",
    "    pos++   ];\n",
    "  If[num == 0, 0, pos - rems[num]]];\n",
    "\n",
    "SortBy[Range[888, 999], cycleLength]\n",
    "cycleLength[983]"
   ]
  },
  {
   "cell_type": "markdown",
   "metadata": {},
   "source": [
    "## PE 27"
   ]
  },
  {
   "cell_type": "code",
   "execution_count": null,
   "metadata": {
    "vscode": {
     "languageId": "sage"
    }
   },
   "outputs": [],
   "source": [
    "#27 Quadratic Primes\n",
    "def sieveEratosthenes(num):\n",
    "    isPrime = [True] * (num + 1)\n",
    "    isPrime[0] = False\n",
    "    isPrime[1] = False\n",
    "    primes = []\n",
    "    for i in range(2, (num + 1)):\n",
    "        if isPrime[i]:\n",
    "            primes.append(i)\n",
    "            for j in range(2 * i, (num + 1), i):\n",
    "                isPrime[j] = False\n",
    "    return primes\n",
    "    \n",
    "def isPrime(num):\n",
    "    if num <= 1:\n",
    "        return False\n",
    "    elif num == 2 or num == 3:\n",
    "        return True\n",
    "    if num % 2 == 0 or num % 3 == 0:\n",
    "        return False\n",
    "    if not(num % 6 == 1) and not(num % 6 == 5):\n",
    "        return False\n",
    "    i = 5\n",
    "    while i * i <= num:\n",
    "        if num % i == 0 or num % (i + 2) == 0:\n",
    "            return False\n",
    "        i += 6\n",
    "    \n",
    "    return True\n",
    "\n",
    "def equation(n, a, b):\n",
    "    return n ** 2 + a * n + b\n",
    "\n",
    "b = sieveEratosthenes(1000)\n",
    "del b[0]\n",
    "\n",
    "maxA = 0\n",
    "maxB = 0\n",
    "maxCount = 0\n",
    "\n",
    "for y in b:\n",
    "    for x in range(-y, 1000, 2):\n",
    "        c = 0\n",
    "        while isPrime(equation(c, x, y)):\n",
    "            c += 1\n",
    "        if maxCount < c:\n",
    "            maxA = x\n",
    "            maxB = y\n",
    "            maxCount = c\n",
    "            \n",
    "print(maxA * maxB)"
   ]
  },
  {
   "cell_type": "markdown",
   "metadata": {},
   "source": [
    "## PE 28"
   ]
  },
  {
   "cell_type": "code",
   "execution_count": null,
   "metadata": {
    "vscode": {
     "languageId": "sage"
    }
   },
   "outputs": [],
   "source": [
    "#28 Number Spiral Diagonals\n",
    "s=1\n",
    "n=1\n",
    "# diagonal numbers included in n\n",
    "# 1001-1+2=1002\n",
    "for i in range(2,1002,2):\n",
    "    for j in range(4):\n",
    "        n+=i\n",
    "        s+=n\n",
    "s"
   ]
  },
  {
   "cell_type": "markdown",
   "metadata": {},
   "source": [
    "## PE 29"
   ]
  },
  {
   "cell_type": "code",
   "execution_count": null,
   "metadata": {
    "vscode": {
     "languageId": "sage"
    }
   },
   "outputs": [],
   "source": [
    "#29 Distinct Powers\n",
    "list_num=[]\n",
    "for i in range(99):\n",
    "    n=i+2\n",
    "    for j in range(99):\n",
    "        m=j+2\n",
    "        num=n**m\n",
    "        if num not in list_num:\n",
    "            list_num.append(num)\n",
    "list_num.sort()\n",
    "len(list_num)"
   ]
  },
  {
   "cell_type": "markdown",
   "metadata": {},
   "source": [
    "## PE 30"
   ]
  },
  {
   "cell_type": "code",
   "execution_count": null,
   "metadata": {
    "vscode": {
     "languageId": "sage"
    }
   },
   "outputs": [],
   "source": [
    "#30 Digit Fifth Powers\n",
    "def fifth(num):\n",
    "    n=[num]\n",
    "    output=list(map(int, str(n[0])))\n",
    "    for number in output:\n",
    "        power=number**5\n",
    "        num-=power\n",
    "    if num==0:\n",
    "        return True\n",
    "    else:\n",
    "        return False\n",
    "list_num=[]\n",
    "sum_num=0\n",
    "for i in range(1000000):\n",
    "    n=i+2\n",
    "    if fifth(n):\n",
    "        list_num.append(n)\n",
    "for num in list_num:\n",
    "    sum_num+=num\n",
    "sum_num"
   ]
  },
  {
   "cell_type": "code",
   "execution_count": null,
   "metadata": {
    "vscode": {
     "languageId": "sage"
    }
   },
   "outputs": [],
   "source": [
    "#30 FP way\n",
    "def fifth1(num):\n",
    "    return num == sum(int(digit) ** 5 for digit in str(num))\n",
    "\n",
    "sum_num1 = sum(n for n in range(2, 1000000) if fifth1(n))\n",
    "sum_num1"
   ]
  },
  {
   "cell_type": "markdown",
   "metadata": {},
   "source": [
    "## PE 31"
   ]
  },
  {
   "cell_type": "code",
   "execution_count": null,
   "metadata": {
    "vscode": {
     "languageId": "sage"
    }
   },
   "outputs": [],
   "source": [
    "# 31 Coin Sums: use graph traversal (DFS) with memoization\n",
    "from functools import lru_cache\n",
    "valid_coins = [1, 2, 5, 10, 20, 50, 100, 200] \n",
    "@lru_cache(None)  # memoizes the function to avoid redundant calculations\n",
    "def graph_search_ways(n, max_coin):\n",
    "    if n == 0:\n",
    "        return 1\n",
    "    return sum(\n",
    "        graph_search_ways(n - coin, coin) # Recursive but not loop\n",
    "        if coin <= max_coin and coin <= n else 0\n",
    "        for coin in valid_coins\n",
    "    )\n",
    "\n",
    "graph_search_ways(200,200)"
   ]
  },
  {
   "cell_type": "code",
   "execution_count": null,
   "metadata": {
    "vscode": {
     "languageId": "sage"
    }
   },
   "outputs": [],
   "source": [
    "(* 31 Coin Sums: use graph traversal (DFS) with memoization*)\n",
    "(* learn functions:\n",
    "    ClearAll[] \n",
    "    Memoization(:= ... =): store results to avoid recalculating for the same pair\n",
    "    Table[]: loop over each coin in validCoins *)\n",
    "ClearAll[graphSearchWays];\n",
    "validCoins = {1, 2, 5, 10, 20, 50, 100, 200};\n",
    "graphSearchWays[n_, maxCoin_] := graphSearchWays[n, maxCoin] =\n",
    "  If[n == 0, \n",
    "          1, \n",
    "   Total[Table[If[coin <= maxCoin && coin <= n \n",
    "                  , graphSearchWays[n - coin, coin]\n",
    "                  , 0], {coin, validCoins}] ]];\n",
    "\n",
    "graphSearchWays[200, 200] (*calculate n of total pairs*)\n",
    "TreeForm[ (*see logic structure*)\n",
    "  If[n == 0, 1, \n",
    "  Total[Table[If[coin <= maxCoin && coin <= n, \n",
    "              graphSearchWays[n - coin, coin], \n",
    "              0], {coin, validCoins}]]]]"
   ]
  },
  {
   "cell_type": "markdown",
   "metadata": {},
   "source": [
    "## PE 32\n",
    "\n",
    "Math easy, coding hard. \n",
    "1. memoization use (:= ... )\n",
    "2. gen number from digits using string, all possible combinations of digits where each digit be used only once\n",
    "3. I tried numerically way, but computing time doubled\n",
    "4. IntegerString[], Characters[]\n",
    "5. Flatten[], flatten nested lists\n",
    "6. Apply[] -> @@"
   ]
  },
  {
   "cell_type": "code",
   "execution_count": null,
   "metadata": {
    "vscode": {
     "languageId": "sage"
    }
   },
   "outputs": [],
   "source": [
    "#32 Pandigital Products\n",
    "def checkPandigital(b, n):\n",
    "\tif (len(n) < b):\n",
    "\t\treturn 0\n",
    "\thash = [0] * b\n",
    "\tfor i in range(len(n)):\n",
    "\t\tif (n[i] >= '0' and n[i] <= '9'):\n",
    "\t\t\thash[ord(n[i]) - ord('0')] = 1\n",
    "\t\telse:\n",
    "\t\t\tif (ord(n[i]) - ord('A') <= b - 11):\n",
    "\t\t\t    hash[ord(n[i]) - ord('A') + 10] = 1\n",
    "\tfor i in range(b):\n",
    "\t\tif (hash[i] == 0):\n",
    "\t\t\treturn 0\n",
    "\treturn 1\n",
    "#cal\n",
    "b = 13\n",
    "n = \"1298450376ABC\"\n",
    "if (checkPandigital(b, n)):\n",
    "\tprint(\"Yes\")\n",
    "else:\n",
    "\tprint(\"No\")"
   ]
  },
  {
   "cell_type": "code",
   "execution_count": null,
   "metadata": {
    "vscode": {
     "languageId": "sage"
    }
   },
   "outputs": [],
   "source": [
    "(* 32 Pandigital Products *)\n",
    "(* Check if the concatenation of x, y, product forms a 1-9 pandigital number stringly*)\n",
    "pandigitalQ[x_, y_, xy_] := \n",
    "  StringLength[ str=IntegerString[x] <> IntegerString[y] <> IntegerString[xy] ] == 9 && \n",
    "  Sort[Characters[str]] == Characters[\"123456789\"] ; \n",
    "\n",
    "(* List all valid xy then sum *)\n",
    "pandigitalProducts = DeleteDuplicates[\n",
    "    Select[ Flatten[ Table[{x, y, x*y}, {x, 1, 99}, {y, 1, 9999}], 1 ]\n",
    "          , pandigitalQ @@ # & ]\n",
    "          [[All, 3]] ]\n",
    "\n",
    "Total[pandigitalProducts]"
   ]
  },
  {
   "cell_type": "markdown",
   "metadata": {},
   "source": [
    "## PE 33\n",
    "\n",
    "> Methods & Process\n",
    "\n",
    "- check for 2 digit numerators and denominators\n",
    "    49/98=4/8, 3 left to go\n",
    "- must have at least one common digit between numerator and denominator"
   ]
  },
  {
   "cell_type": "code",
   "execution_count": null,
   "metadata": {
    "vscode": {
     "languageId": "sage"
    }
   },
   "outputs": [],
   "source": [
    "# 33 Digit Cancelling Fractions\n",
    "for i in range(10,100):\n",
    "    for j in range(i+1,100):\n",
    "        if i%10!=0 or j%10!=0:\n",
    "            numerator=list(map(int,str(i)))\n",
    "            denominator=list(map(int,str(j)))\n",
    "            fraction=i/j\n",
    "            try:\n",
    "                if numerator[0]==denominator[0] and numerator[1]!=denominator[1] and fraction==numerator[1]/denominator[1]:\n",
    "                    print(i,j)\n",
    "                elif numerator[1]==denominator[1] and numerator[0]!=denominator[0] and fraction==numerator[0]/denominator[0]:\n",
    "                    print(i,j)\n",
    "                elif numerator[0]==denominator[1] and numerator[1]!=denominator[0] and fraction==numerator[1]/denominator[0]:\n",
    "                    print(i,j)\n",
    "                elif numerator[1]==denominator[0] and numerator[0]!=denominator[1] and fraction==numerator[0]/denominator[1]:\n",
    "                    print(i,j)\n",
    "            except:\n",
    "                pass"
   ]
  },
  {
   "cell_type": "markdown",
   "metadata": {},
   "source": [
    "## PE 34"
   ]
  },
  {
   "cell_type": "code",
   "execution_count": null,
   "metadata": {
    "vscode": {
     "languageId": "sage"
    }
   },
   "outputs": [],
   "source": [
    "#34 Digit Factorials\n",
    "def spefact(num):\n",
    "    n=[num]\n",
    "    output=list(map(int, str(n[0])))\n",
    "    for number in output:\n",
    "        fac=factorial(number)\n",
    "        num-=fac\n",
    "    if num==0:\n",
    "        return True\n",
    "    else:\n",
    "        return False\n",
    "list_num=[]\n",
    "sum_num=0\n",
    "for i in range(1850000):\n",
    "    n=i+1\n",
    "    if spefact(n):\n",
    "        list_num.append(n)\n",
    "        print(i)\n",
    "for num in list_num:\n",
    "    sum_num+=num\n",
    "sum_num-=3\n",
    "sum_num"
   ]
  },
  {
   "cell_type": "code",
   "execution_count": null,
   "metadata": {
    "vscode": {
     "languageId": "sage"
    }
   },
   "outputs": [],
   "source": [
    "#34 FP way\n",
    "from math import factorial\n",
    "\n",
    "factorials = {str(d): factorial(d) for d in range(10)} # Precompute factorials for digits 0-9\n",
    "def is_digit_factorial(num):\n",
    "    return num == sum(factorials[digit] for digit in str(num))\n",
    "\n",
    "sum_num = sum(n for n in range(10, 1850000) if is_digit_factorial(n))\n",
    "sum_num"
   ]
  },
  {
   "cell_type": "markdown",
   "metadata": {},
   "source": [
    "## PE 35"
   ]
  },
  {
   "cell_type": "code",
   "execution_count": null,
   "metadata": {
    "vscode": {
     "languageId": "sage"
    }
   },
   "outputs": [],
   "source": [
    "#35 Circular Sums\n",
    "def list_to_int(lst):\n",
    "    n=''\n",
    "    for item in lst:\n",
    "        n=n+str(item)\n",
    "    return int(n)\n",
    "\n",
    "def circular_prime1(n):\n",
    "    if prime(n)==False:\n",
    "        return False\n",
    "    else:\n",
    "        list_prime=[]\n",
    "        while len(list_prime)<length(n):\n",
    "            output = list(map(int, str(n)))\n",
    "            list_prime.append(n)\n",
    "            if prime(n)==False:\n",
    "                return False\n",
    "            else:\n",
    "                first=output[0]\n",
    "                output.remove(first)\n",
    "                output.append(first)\n",
    "                n=list_to_int(output)\n",
    "        for prime1 in list_prime:\n",
    "            if prime(prime1)==False:\n",
    "                return False\n",
    "        return True\n",
    "\n",
    "#cal\n",
    "list_circ=[]\n",
    "for i in range(999998):\n",
    "    if i%100==0:\n",
    "        print(i)\n",
    "    n=i+2\n",
    "    if circular_prime1(n)==True:\n",
    "        list_circ.append(n)\n",
    "list_circ"
   ]
  },
  {
   "cell_type": "code",
   "execution_count": null,
   "metadata": {
    "vscode": {
     "languageId": "sage"
    }
   },
   "outputs": [],
   "source": [
    "#35 FP\n",
    "from sympy import isprime  # how can we use Jonny-defined function here? \n",
    "\n",
    "def rotations(num):  # Function to get all rotations of a number\n",
    "    s = str(num)\n",
    "    return [int(s[i:] + s[:i]) for i in range(len(s))]\n",
    "\n",
    "def is_circular_prime(num):\n",
    "    return all(isprime(rot) for rot in rotations(num))\n",
    "\n",
    "circular_primes = [n for n in range(2, 999999) if is_circular_prime(n)]\n",
    "circular_primes "
   ]
  },
  {
   "cell_type": "code",
   "execution_count": null,
   "metadata": {
    "vscode": {
     "languageId": "sage"
    }
   },
   "outputs": [],
   "source": [
    "(*35 Circular Sums*) \n",
    "rotations[n_Integer] := Module[{digits = IntegerDigits[n]},\n",
    "  FromDigits /@ NestList[RotateLeft, digits, Length[digits] - 1]]\n",
    "\n",
    "isCircularPrime[n_Integer] := AllTrue[rotations[n], PrimeQ] (*if all rotations of a number are prime*)\n",
    "circularPrimes = Select[Range[2, 999999], isCircularPrime]"
   ]
  },
  {
   "cell_type": "markdown",
   "metadata": {},
   "source": [
    "## PE 36"
   ]
  },
  {
   "cell_type": "code",
   "execution_count": null,
   "metadata": {
    "vscode": {
     "languageId": "sage"
    }
   },
   "outputs": [],
   "source": [
    "#36 Double Base Palindromes\n",
    "def binary(num):\n",
    "    return int(bin(num)[2:])\n",
    "list_num=[]\n",
    "for i in range(1000000):\n",
    "    if palin(i) and palin(binary(i)):\n",
    "        list_num.append(i)\n",
    "sum_num=0\n",
    "for number in list_num:\n",
    "    sum_num+=number\n",
    "sum_num"
   ]
  },
  {
   "cell_type": "markdown",
   "metadata": {},
   "source": [
    "## PE 37"
   ]
  },
  {
   "cell_type": "code",
   "execution_count": null,
   "metadata": {
    "vscode": {
     "languageId": "sage"
    }
   },
   "outputs": [],
   "source": [
    "#37 Truncatable Primes\n",
    "def truncatable(num):\n",
    "    input=list(map(int, str(num)))\n",
    "    inp=list_to_int(input)\n",
    "    if prime(num)==True:\n",
    "        while length(num)>1:\n",
    "            if prime(num)==True and num!=1:\n",
    "                output=list(map(int, str(num)))\n",
    "                output.remove(output[0])\n",
    "                num=list_to_int(output)\n",
    "            else:\n",
    "                return False\n",
    "        while length(inp)>1:\n",
    "            if is_prime(inp)==True and num!=1:\n",
    "                output=list(map(int, str(inp)))\n",
    "                output.remove(output[-1])\n",
    "                inp=list_to_int(output)\n",
    "            else:\n",
    "                return False\n",
    "        return True\n",
    "    else:\n",
    "        return False\n",
    "#cal\n",
    "list_trun=[]\n",
    "n=10\n",
    "while len(list_trun)<=10:\n",
    "    if truncatable(n)==True:\n",
    "        list_trun.append(n)\n",
    "    n+=1\n",
    "list_trun"
   ]
  },
  {
   "cell_type": "markdown",
   "metadata": {},
   "source": [
    "## PE 38"
   ]
  },
  {
   "cell_type": "markdown",
   "metadata": {},
   "source": [
    "> Methods & Process\n",
    "\n",
    "- Already presented (1,2,3) and (1,2,3,4,5)->918273645, (1,2,3,4,5,6,7,8,9)->123456789, calculated 3 options and n>1\n",
    "    left 2 options: (1,2,3,4,5,6,7) (1,2,3,4,5,6,7,8) \n",
    "- When multiplied by 1 and 2, the numbers will be 4-digit and 5-digit,\n",
    "- when multiplied by 1, 2, 3 and 4, the numbers will be 2-digit for the first 3 and 3-digit for the last number,\n",
    "- when multiplied by 1, 2, 3, 4, 5 and 6, the number will be 1-digit for the first 3 and 2-digit for the last 3 numbers.\n",
    "- (1,2,3,4,5,6,7) and (1,2,3,4,5,6,7,8) not possible because too many numbers to multiply by.\n",
    "9352*2=18704, 935218704 contains 0 is not answer\n",
    "\n",
    "> Conclusion\n",
    "- The biggest number in the lists is 9352, 9352*2=18704, but 935218704 is not 1 to 9 pandigital\n",
    "- The next biggest number in the lists is 9327, 9327*2=18654, 932618654 is 1 to 9 pandigital.\n",
    "Thus the answer should be 932618654."
   ]
  },
  {
   "cell_type": "code",
   "execution_count": null,
   "metadata": {
    "vscode": {
     "languageId": "sage"
    }
   },
   "outputs": [],
   "source": [
    "(* 38 Pandigital Multiples *)\n",
    "\n",
    "lst=Select[Range[5000, 9999], \n",
    "  Function[n, \n",
    "    Length[Union[IntegerDigits[n], IntegerDigits[2 n]]] == 9 && \n",
    "    1000 <= 2 n < 100000\n",
    "  ]\n",
    "];\n",
    "lst[[-2;;]] (*cannot contain 5 in number unless number afterwards is 6 or bigger*)"
   ]
  },
  {
   "cell_type": "markdown",
   "metadata": {},
   "source": [
    "## PE 39"
   ]
  },
  {
   "cell_type": "code",
   "execution_count": null,
   "metadata": {
    "vscode": {
     "languageId": "sage"
    }
   },
   "outputs": [],
   "source": [
    "#39 Integer Right Triangles\n",
    "# Ans:LCM(70,120)=840\n",
    "pythagoreanTriplets2(1000)\n",
    "pythagoreanTriplets3(1000)"
   ]
  },
  {
   "cell_type": "markdown",
   "metadata": {},
   "source": [
    "## PE 40"
   ]
  },
  {
   "cell_type": "code",
   "execution_count": null,
   "metadata": {
    "vscode": {
     "languageId": "sage"
    }
   },
   "outputs": [],
   "source": [
    "# 40 Champernonwne's Constant\n",
    "constant=[]\n",
    "n=1\n",
    "while len(constant)<1000000:\n",
    "    d=list(map(int,str(n)))\n",
    "    for num in d:\n",
    "        constant.append(num)\n",
    "    n+=1\n",
    "ans=constant[0]*constant[9]*constant[99]*constant[999]*constant[9999]*constant[99999]*constant[999999]\n",
    "ans"
   ]
  },
  {
   "cell_type": "markdown",
   "metadata": {},
   "source": [
    "## PE 41"
   ]
  },
  {
   "cell_type": "code",
   "execution_count": null,
   "metadata": {
    "vscode": {
     "languageId": "sage"
    }
   },
   "outputs": [],
   "source": [
    "#41 Pandigital Primes\n",
    "import itertools\n",
    "\n",
    "def isPrime(num):\n",
    "    if num <= 1:\n",
    "        return False\n",
    "    elif num == 2 or num == 3:\n",
    "        return True\n",
    "    if num % 2 == 0 or num % 3 == 0:\n",
    "        return False\n",
    "    if not(num % 6 == 1) and not(num % 6 == 5):\n",
    "        return False\n",
    "    i = 5\n",
    "    while i * i <= num:\n",
    "        if num % i == 0 or num % (i + 2) == 0:\n",
    "            return False\n",
    "        i += 6\n",
    "    return True\n",
    "\n",
    "p = list(map(\"\".join, itertools.permutations('1234567')))\n",
    "\n",
    "max = 0\n",
    "for n in p:\n",
    "    if prime(int(n)) and max < int(n):\n",
    "        max = int(n)\n",
    "\n",
    "print(max)"
   ]
  },
  {
   "cell_type": "markdown",
   "metadata": {},
   "source": [
    "## PE 42"
   ]
  },
  {
   "cell_type": "code",
   "execution_count": null,
   "metadata": {
    "vscode": {
     "languageId": "sage"
    }
   },
   "outputs": [],
   "source": [
    "#42 Coded Triangle Numbers\n",
    "import requests\n",
    "response = requests.get(\"https://projecteuler.net/resources/documents/0042_words.txt\")   # Send a GET request to the URL\n",
    "content = response.text     # Read the content of the response\n",
    "words = [name.strip('\"') for name in content.split(',')]  # Split the content by comma and remove double quotes\n",
    "\n",
    "def triangle(word):\n",
    "    value=0\n",
    "    values={'A':1, 'B':2, 'C':3, 'D':4, 'E':5, 'F':6, 'G':7, 'H':8, 'I':9, 'J':10, 'K':11, 'L':12, 'M':13, 'N':14, 'O':15, 'P':16, 'Q':17, 'R':18, 'S':19, 'T':20, 'U':21, 'V':22, 'W':23, 'X':24, 'Y':25, 'Z':26}\n",
    "    for letter in word:\n",
    "        value+=values[letter]\n",
    "    seq=triangular_seq(40)\n",
    "    if value in seq:\n",
    "        return True\n",
    "    else:\n",
    "        return False\n",
    "tri_words=0\n",
    "for word in words:\n",
    "    if triangle(word):\n",
    "        tri_words+=1\n",
    "tri_words"
   ]
  },
  {
   "cell_type": "markdown",
   "metadata": {},
   "source": [
    "## PE 43"
   ]
  },
  {
   "cell_type": "code",
   "execution_count": 63,
   "metadata": {
    "vscode": {
     "languageId": "sage"
    }
   },
   "outputs": [
    {
     "name": "stdout",
     "output_type": "stream",
     "text": [
      "16695334890\n"
     ]
    }
   ],
   "source": [
    "# 43 Sub-string Divisibility\n",
    "from itertools import permutations\n",
    "def test(tup):\n",
    "    num=''.join(tup)\n",
    "    return int(num[1:4])%2==0 and int(num[2:5])%3==0 and int(num[3:6])%5==0 and int(num[4:7])%7==0 and int(num[5:8])%11==0 and int(num[6:9])%13==0 and int(num[7:])%17==0\n",
    "print(sum([test(tup)*int(''.join(tup)) for tup in list(permutations('0123456789'))]))"
   ]
  },
  {
   "cell_type": "markdown",
   "metadata": {
    "vscode": {
     "languageId": "sage"
    }
   },
   "source": [
    "## PE 44"
   ]
  },
  {
   "cell_type": "code",
   "execution_count": 2,
   "metadata": {
    "vscode": {
     "languageId": "sage"
    }
   },
   "outputs": [
    {
     "data": {
      "text/plain": [
       "5482660"
      ]
     },
     "execution_count": 2,
     "metadata": {},
     "output_type": "execute_result"
    }
   ],
   "source": [
    "# 44 Pentagon Numbers\n",
    "def pentagon_num(n):\n",
    "    return n*(3*n-1)//2\n",
    "def is_pentagonal(x):\n",
    "    if x <= 0:\n",
    "        return False\n",
    "    disc = 1 + 24*x\n",
    "    sqrt_disc = int(math.isqrt(disc))\n",
    "    return sqrt_disc*sqrt_disc == disc and (1+sqrt_disc) % 6 == 0\n",
    "def pentagonal_pair(index=3000):\n",
    "    pentagonal=[pentagon_num(num) for num in range(1,index+1)]\n",
    "    diff=float('inf')\n",
    "    for i in range(index):\n",
    "        for j in range(i+1,index):\n",
    "            num=pentagonal[i]\n",
    "            num1=pentagonal[j]\n",
    "            if is_pentagonal(abs(num-num1)) and is_pentagonal(num+num1):\n",
    "                diff=min(diff,abs(num-num1))\n",
    "    return diff\n",
    "pentagonal_pair()"
   ]
  },
  {
   "cell_type": "markdown",
   "metadata": {},
   "source": [
    "## PE 45"
   ]
  },
  {
   "cell_type": "code",
   "execution_count": null,
   "metadata": {
    "vscode": {
     "languageId": "sage"
    }
   },
   "outputs": [],
   "source": [
    "(* 45 Triangular, Pentagonal, and Hexagonal \n",
    "    what I can learn?\n",
    "    1) defining series \n",
    "    2) finding common items in lists using set theory: Intersection and Union*)\n",
    "n=99999;\n",
    "Tri = #(# + 1)/2 &  /@ Range[n];\n",
    "Pen = #(3# - 1)/2 & /@ Range[n];\n",
    "Hex = #(2# - 1) &   /@ Range[n];\n",
    "Intersection[Tri,Pen,Hex]"
   ]
  },
  {
   "cell_type": "markdown",
   "metadata": {},
   "source": [
    "## PE 46"
   ]
  },
  {
   "cell_type": "code",
   "execution_count": null,
   "metadata": {
    "vscode": {
     "languageId": "sage"
    }
   },
   "outputs": [],
   "source": [
    "#46 Goldbach's Other Conjecture\n",
    "import time\n",
    "start=time.time()\n",
    "# Define a function that tests if an odd composite integer can be represented as the sum of a prime and twice a square\n",
    "def other_conjecture(n):\n",
    "    \"\"\"Assume n is an odd composite integer\"\"\"\n",
    "    for i in range(3, n-1, 2):\n",
    "        num=n-i\n",
    "        number=num/2\n",
    "        sqrt_num=int(number**1/2)+1\n",
    "        if prime(i)==True:\n",
    "            for j in range(1, sqrt_num):\n",
    "                if i+2*(j**2)==n:\n",
    "                    return True\n",
    "    return False\n",
    "# calculation\n",
    "n=9\n",
    "while True:\n",
    "    if prime(n)==True:\n",
    "        n+=2\n",
    "    else:\n",
    "        if other_conjecture(n)==True:\n",
    "            n+=2\n",
    "        else:\n",
    "            break\n",
    "print(n)\n",
    "end=time.time()\n",
    "print(end-start)"
   ]
  },
  {
   "cell_type": "markdown",
   "metadata": {},
   "source": [
    "## PE 47"
   ]
  },
  {
   "cell_type": "code",
   "execution_count": null,
   "metadata": {
    "vscode": {
     "languageId": "sage"
    }
   },
   "outputs": [],
   "source": [
    "(* 47 Distinct Primes Factors*)\n",
    "lst=Table[FactorInteger[n],{n,134040,134050}];\n",
    "lst1=Length/@lst;\n",
    "ans=Select[Range[Length[lst1]],lst1[[#]]==4&];\n",
    "ans1=Select[Range[3,Length[ans]],ans[[#]]==ans[[#-3]]+3&]\n",
    "ans\n",
    "(* learn 5 functions:\n",
    "    Table[]\n",
    "    Length[]\n",
    "    FactorInteger[]\n",
    "    Select[]\n",
    "    Range[]*)"
   ]
  },
  {
   "cell_type": "markdown",
   "metadata": {},
   "source": [
    "## PE 48"
   ]
  },
  {
   "cell_type": "code",
   "execution_count": null,
   "metadata": {
    "vscode": {
     "languageId": "sage"
    }
   },
   "outputs": [],
   "source": [
    "#48 Self Powers\n",
    "n=1\n",
    "sum_num=0\n",
    "for i in range(1000):\n",
    "    power=n**n\n",
    "    sum_num+=power\n",
    "    n+=1\n",
    "sum_num"
   ]
  },
  {
   "cell_type": "code",
   "execution_count": null,
   "metadata": {
    "vscode": {
     "languageId": "sage"
    }
   },
   "outputs": [],
   "source": [
    "def primes():\n",
    "    \"\"\"Generate a list of 4-digit prime numbers excluding the known sequence.\"\"\"\n",
    "    num = []\n",
    "    for i in range(1001, 9998, 2):\n",
    "        if prime(i):\n",
    "            num.append(i)\n",
    "    # Exclude the specific prime sequence\n",
    "    excluded = {1487, 4817, 8147}\n",
    "    num = [n for n in num if n not in excluded]\n",
    "    return num\n",
    "\n",
    "def permutations(lst):\n",
    "    \"\"\"Find primes that have the same digit permutations.\"\"\"\n",
    "    # Sort digits of each number\n",
    "    sorted_lst = [''.join(sorted(str(num))) for num in lst]\n",
    "    \n",
    "    # Dictionary to store primes by their sorted digit permutation\n",
    "    perm_dict = {}\n",
    "    for i, num in enumerate(lst):\n",
    "        perm = sorted_lst[i]\n",
    "        if perm in perm_dict:\n",
    "            perm_dict[perm].append(num)\n",
    "        else:\n",
    "            perm_dict[perm] = [num]\n",
    "    \n",
    "    # Return only those lists with more than one permutation\n",
    "    return {k: v for k, v in perm_dict.items() if len(v) > 1}\n",
    "\n",
    "# Get primes and permutations\n",
    "prime_list = primes()\n",
    "permutations_dict = permutations(prime_list)\n",
    "\n",
    "print(permutations_dict)\n"
   ]
  },
  {
   "cell_type": "markdown",
   "metadata": {},
   "source": [
    "## PE 49"
   ]
  },
  {
   "cell_type": "code",
   "execution_count": null,
   "metadata": {
    "vscode": {
     "languageId": "sage"
    }
   },
   "outputs": [],
   "source": [
    "# 49 Prime Permutations\n",
    "def primes():\n",
    "    num=[]\n",
    "    for i in range(1001,9998,2):\n",
    "        if prime(i)==True:\n",
    "            num.append(i)\n",
    "    return num\n",
    "\n",
    "def permutations(lst):\n",
    "    lst2=[]\n",
    "    for num in lst:\n",
    "        lst3=list(map(int,str(num)))\n",
    "        lst3.sort()\n",
    "        lst2.append(lst3)\n",
    "    lst1=[lst2.count(lst4) for lst4 in lst2]\n",
    "    lst5=[lst[i]*(lst1[i]>=3) for i in range(len(lst1))]\n",
    "    for _ in range(lst5.count(0)):\n",
    "        lst5.remove(0)\n",
    "    return lst5\n",
    "\n",
    "lst=permutations(primes());lst\n",
    "lst1=[list(Permutations(list(str(item)))) for item in lst];lst1\n",
    "lst2=[]\n",
    "for i in range(len(lst1)):\n",
    "    lst3=[]\n",
    "    for j in lst1[i]:\n",
    "        n=int(''.join(j))\n",
    "        if n in lst:\n",
    "            lst3.append(n)\n",
    "    lst2.append(lst3)\n",
    "lst2\n",
    "for i in range(len(lst2)):\n",
    "    for j in range(len(lst2[i])):\n",
    "        lst2[i][j]=abs(lst[i]-lst2[i][j])\n",
    "lst2\n",
    "lst3=[]\n",
    "for lst in lst2:\n",
    "    lst3.append(list(set(lst)))\n",
    "lst3\n",
    "for i in range(len(lst2)):\n",
    "    lst2[i]=sorted(lst2[i])\n",
    "for i in range(len(lst3)):\n",
    "    lst3[i]=sorted(lst3[i])\n",
    "for i in range(len(lst2)):\n",
    "    if lst2[i]==lst3[i]:\n",
    "        print()\n",
    "    else:\n",
    "        print('Search this line in output for other cells')"
   ]
  },
  {
   "cell_type": "markdown",
   "metadata": {},
   "source": [
    "## PE 50"
   ]
  },
  {
   "cell_type": "code",
   "execution_count": null,
   "metadata": {
    "vscode": {
     "languageId": "sage"
    }
   },
   "outputs": [],
   "source": [
    "prime(997661)"
   ]
  },
  {
   "cell_type": "code",
   "execution_count": null,
   "metadata": {
    "vscode": {
     "languageId": "sage"
    }
   },
   "outputs": [],
   "source": [
    "primes=[]\n",
    "for i in range(1,3877):\n",
    "    if prime(i):\n",
    "        primes.append(i)\n",
    "sum(primes)+3877+3881+3889+3907+3911+3917+3919+3923+3929+3931"
   ]
  },
  {
   "cell_type": "code",
   "execution_count": null,
   "metadata": {
    "vscode": {
     "languageId": "sage"
    }
   },
   "outputs": [],
   "source": [
    "prime(1)"
   ]
  },
  {
   "cell_type": "code",
   "execution_count": null,
   "metadata": {
    "vscode": {
     "languageId": "sage"
    }
   },
   "outputs": [],
   "source": [
    "# 50 Consecutive Prime Sum\n",
    "primes=[]\n",
    "for i in range(6,3932):\n",
    "    if prime(i):\n",
    "        primes.append(i)\n",
    "primes=primes[::-1]\n",
    "count=sum(primes)\n",
    "for p in primes:\n",
    "    if prime(count):\n",
    "        print(count)\n",
    "        break\n",
    "    print(p)\n",
    "    count-=p"
   ]
  }
 ],
 "metadata": {
  "kernelspec": {
   "display_name": "SageMath 10.6",
   "language": "sage",
   "name": "sagemath"
  },
  "language_info": {
   "codemirror_mode": {
    "name": "ipython",
    "version": 3
   },
   "file_extension": ".py",
   "mimetype": "text/x-python",
   "name": "python",
   "nbconvert_exporter": "python",
   "pygments_lexer": "ipython3",
   "version": "3.12.10"
  }
 },
 "nbformat": 4,
 "nbformat_minor": 4
}
