{
 "cells": [
  {
   "cell_type": "markdown",
   "metadata": {},
   "source": [
    "# PE-Hidden-Math-Questions"
   ]
  },
  {
   "cell_type": "markdown",
   "metadata": {},
   "source": [
    "## Q1-200"
   ]
  },
  {
   "cell_type": "markdown",
   "metadata": {},
   "source": [
    "69. Totient Maximum\n",
    "\n",
    "欧拉函数 Euler's Totient Function (or $\\phi$ function) has a general formulas as below, $p_i$ is all of the coprime of x, where x is a positive integer.\n",
    "\n",
    "$$\\phi(x)=x\\prod_{i=1}^n(1-\\frac{1}{p_i})$$"
   ]
  },
  {
   "cell_type": "markdown",
   "metadata": {},
   "source": [
    "99. Largest Exponential\n",
    "\n",
    "In this question, I learned Ordinal theory (VS. Cardinal theory):\n",
    "\n",
    "- Ordinal data only introduces a ordering/ranking (e.g. A>B), but we don't know how large A or B is.\n",
    "- Cardinal further tell 'how many' of each thing, or showing quantity (e.g. 2>1)\n",
    "\n",
    "When comparing huge numbers, I don't need to know 'how many' they are, I just need to where they are (their ranking). So I can use log to shrink their coordinates: \n",
    "\n",
    "$$base^{exponent} =e^{exponent⋅log(base)}$$\n"
   ]
  },
  {
   "cell_type": "markdown",
   "metadata": {},
   "source": [
    "187. Semiprimes\n",
    "\n",
    "[A semiprime-counting formula](https://en.wikipedia.org/wiki/Semiprime):\n",
    "\n",
    "$$\\pi_{2}(n)= $$\n"
   ]
  }
 ],
 "metadata": {
  "language_info": {
   "name": "python"
  }
 },
 "nbformat": 4,
 "nbformat_minor": 2
}
