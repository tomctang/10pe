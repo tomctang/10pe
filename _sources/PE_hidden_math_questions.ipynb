{
  "cells": [
    {
      "cell_type": "markdown",
      "metadata": {},
      "source": [
        "# PE-Hidden-Math-Questions"
      ]
    },
    {
      "cell_type": "markdown",
      "metadata": {},
      "source": [
        "## Q1-200"
      ]
    },
    {
      "cell_type": "markdown",
      "metadata": {},
      "source": [
        "69. Totient Maximum",
        "",
        "\u6b27\u62c9\u51fd\u6570 Euler's Totient Function (or $\\phi$ function) has a general formulas as below, $p_i$ is all of the coprime of x, where x is a positive integer.",
        "",
        "$$\\phi(x)=x\\prod_{i=1}^n(1-\\frac{1}{p_i})$$"
      ]
    },
    {
      "cell_type": "markdown",
      "metadata": {},
      "source": [
        "99. Largest Exponential",
        "",
        "In this question, I learned Ordinal theory (VS. Cardinal theory):",
        "",
        "- Ordinal data only introduces a ordering/ranking (e.g. A>B), but we don't know how large A or B is.",
        "- Cardinal further tell 'how many' of each thing, or showing quantity (e.g. 2>1)",
        "",
        "When comparing huge numbers, I don't need to know 'how many' they are, I just need to where they are (their ranking). So I can use log to shrink their coordinates: ",
        "",
        "$$base^{exponent} =e^{exponent\u22c5log(base)}$$"
      ]
    },
    {
      "cell_type": "markdown",
      "metadata": {},
      "source": [
        "187. Semiprimes",
        "",
        "[A semiprime-counting formula](https://en.wikipedia.org/wiki/Semiprime):",
        "",
        "$$\\pi_{2}(n)= $$"
      ]
    }
  ],
  "metadata": {},
  "nbformat": 4,
  "nbformat_minor": 5
}