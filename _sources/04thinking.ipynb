{
 "cells": [
  {
   "cell_type": "markdown",
   "metadata": {},
   "source": [
    "# Thinking Skill"
   ]
  },
  {
   "cell_type": "markdown",
   "metadata": {},
   "source": [
    "Inline: $x^2$\n",
    "\n",
    "(\\displaystyle xxxx \\)"
   ]
  },
  {
   "cell_type": "code",
   "execution_count": 1,
   "metadata": {},
   "outputs": [
    {
     "data": {
      "text/html": [
       "<html>\\(\\displaystyle 4 \\, x^{3} + x^{2}\\)</html>"
      ],
      "text/latex": [
       "$\\displaystyle 4 \\, x^{3} + x^{2}$"
      ],
      "text/plain": [
       "4*x^3 + x^2"
      ]
     },
     "metadata": {},
     "output_type": "display_data"
    }
   ],
   "source": [
    "f=(1+x+x^2+x^3+x^4+x^5)^2*(x^2+x^3+x^4+x^5+x^6)/(1-x)\n",
    "show(taylor(f,x,0,3))"
   ]
  },
  {
   "cell_type": "markdown",
   "metadata": {},
   "source": [
    ">Framework\n",
    "\n",
    "Thinking skill = lower discrete math + real world \n",
    "\n",
    ">Key Features of the Exam Thinking Skills\n",
    "\n",
    "1. **Problem-Solving Approach**: Questions often require multi-step solutions, testing students' ability to deconstruct complex problems.\n",
    "1. **Critical Reasoning**: There is a strong emphasis on evaluating arguments, spotting inconsistencies, and analyzing cause-and-effect relationships.\n",
    "1. **Data Interpretation**: Graphical, tabular, and situational data are presented for interpretation and deduction.\n",
    "1. **Pattern and Sequence Recognition**: Many questions assess students' ability to identify and extend patterns or logical rules.\n",
    "1. **Abstract and Spatial Reasoning**: Visualization and spatial manipulation are essential for solving certain geometry and tiling questions.\n",
    "1. **Verbal and Deductive Logic**: Logical statements require students to evaluate scenarios and draw valid conclusions."
   ]
  },
  {
   "cell_type": "markdown",
   "metadata": {
    "vscode": {
     "languageId": "plaintext"
    }
   },
   "source": [
    ">Topics\n",
    "\n",
    "1. Set Theory and Logical Relations: \n",
    "    - Intersection, union, complement, and Venn diagrams concepts within classification problem scenarios.\n",
    "1. Number Theory and Arithmetic Properties: \n",
    "    - Properties of numbers, divisibility, and problem-solving involving multi-step calculations.\n",
    "1. Mathematical Logic: \n",
    "    - Conditional statements, logical reasoning, and truth-table-like puzzles.\n",
    "1. Pattern Recognition and Recursive Thinking:\n",
    "    - Identifying patterns in sequences or recursive structures for predictions.\n",
    "1. Counting principles (permutations & combinations): \n",
    "    - Arranging elements in permutations or combinations under constraints.\n",
    "    - Enumeration problems related to decision-making scenarios.\n",
    "1. Geometry and Spatial Visualization: \n",
    "    - Shape-fitting puzzles, area analysis, and symmetry-based tasks.\n",
    "1. Probability and Statistical Reasoning: \n",
    "    - Analysis of data sets, prediction models, and counting probabilities.\n",
    "1. Game Theory and Decision Making: \n",
    "    - Strategic problem-solving based on maximizing or minimizing outcomes.\n",
    "1. Graph Theory and Connectivity: \n",
    "    - Relationships between nodes and paths in structured networks, e.g. Pathfinding, connectivity, and Euler circuits.\n",
    "    - Network-based puzzles or relationship mapping.\n",
    "1. Arithmetic Applications and Real-Life Contexts: \n",
    "    - Financial reasoning, scheduling, and cost optimization problems."
   ]
  },
  {
   "cell_type": "code",
   "execution_count": null,
   "metadata": {},
   "outputs": [],
   "source": [
    "Logic and Boolean Algebra:\n",
    "Truth tables, logical operators, implications, and biconditionals.\n",
    "Evaluating conditional reasoning and verifying statements.\n",
    "\n",
    "Recurrence Relations and Sequences:\n",
    "Recursive definitions and pattern identification.\n",
    "Understanding growth models and iterative processes.\n",
    "\n",
    "Number Theory:\n",
    "Modular arithmetic, prime factorization, and divisibility rules.\n",
    "Applications in puzzles involving properties of numbers.\n",
    "\n",
    "Algorithms and Problem-Solving Strategies:\n",
    "Step-by-step solutions mimicking algorithmic approaches.\n",
    "Optimization problems and decision-making strategies.\n",
    "\n",
    "Mathematical Induction and Proof Techniques:\n",
    "Proofs by contradiction and direct reasoning.\n",
    "Strengthening reasoning and argument evaluation skills.\n",
    "\n",
    "Probability and Counting:\n",
    "Basic probability principles and conditional probability.\n",
    "Real-life decision scenarios involving statistical reasoning.\n",
    "\n",
    "Mathematical Modeling and Abstract Problem Solving:\n",
    "Translating real-world problems into abstract mathematical models."
   ]
  }
 ],
 "metadata": {
  "kernelspec": {
   "display_name": "SageMath 10.5",
   "language": "sage",
   "name": "sagemath"
  },
  "language_info": {
   "codemirror_mode": {
    "name": "ipython",
    "version": 3
   },
   "file_extension": ".py",
   "mimetype": "text/x-python",
   "name": "sage",
   "nbconvert_exporter": "python",
   "pygments_lexer": "ipython3",
   "version": "3.12.5"
  }
 },
 "nbformat": 4,
 "nbformat_minor": 2
}
