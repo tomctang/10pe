{
 "cells": [
  {
   "cell_type": "markdown",
   "id": "66345d12",
   "metadata": {},
   "source": [
    "# Quantum Mechanics"
   ]
  },
  {
   "cell_type": "markdown",
   "id": "b0bc9900",
   "metadata": {},
   "source": [
    "##### QC"
   ]
  },
  {
   "cell_type": "code",
   "execution_count": null,
   "id": "44db3c7f",
   "metadata": {},
   "outputs": [],
   "source": [
    "pip install qiskit"
   ]
  },
  {
   "cell_type": "code",
   "execution_count": null,
   "id": "3bd0ca54",
   "metadata": {},
   "outputs": [],
   "source": [
    "from math import sqrt, pi\n",
    "from qiskit import QuantumCircuit, BasicAer, execute\n",
    "from qiskit.visualization import plot_bloch_multivector\n",
    "\n",
    "# change alpha beta as you want\n",
    "alpha = 1/sqrt(2)\n",
    "beta = 1/sqrt(2)\n",
    "\n",
    "# 2D complex vector representing the quantum state\n",
    "vector = [alpha, beta]\n",
    "\n",
    "# create a quantum circuit with only one qubit\n",
    "qc = QuantumCircuit(1)\n",
    "# initialzie the qubit as the vector we defined\n",
    "# arg 0 is the index of the only qubit we created\n",
    "qc.initialize(vector, 0)\n",
    "\n",
    "\n",
    "# simulate the state\n",
    "# note that statevector_simulator is used for calculating statevector (Quantum State)\n",
    "backend = BasicAer.get_backend('statevector_simulator')\n",
    "result = execute(qc, backend).result()\n",
    "state = result.get_statevector(qc)\n",
    "\n",
    "# plot the state on a Bloch sphere\n",
    "plot_bloch_multivector(state)"
   ]
  },
  {
   "cell_type": "code",
   "execution_count": null,
   "id": "0d7c19c9",
   "metadata": {},
   "outputs": [
    {
     "ename": "QiskitError",
     "evalue": "'No statevector for experiment \"<qiskit.circuit.quantumcircuit.QuantumCircuit object at 0x7b48bcda2570>\"'",
     "output_type": "error",
     "traceback": [
      "\u001b[31m---------------------------------------------------------------------------\u001b[39m",
      "\u001b[31mKeyError\u001b[39m                                  Traceback (most recent call last)",
      "\u001b[36mFile \u001b[39m\u001b[32m~/miniconda3/lib/python3.13/site-packages/qiskit/result/result.py:301\u001b[39m, in \u001b[36mResult.get_statevector\u001b[39m\u001b[34m(self, experiment, decimals)\u001b[39m\n\u001b[32m    299\u001b[39m \u001b[38;5;28;01mtry\u001b[39;00m:\n\u001b[32m    300\u001b[39m     \u001b[38;5;28;01mreturn\u001b[39;00m postprocess.format_statevector(\n\u001b[32m--> \u001b[39m\u001b[32m301\u001b[39m         \u001b[38;5;28;43mself\u001b[39;49m\u001b[43m.\u001b[49m\u001b[43mdata\u001b[49m\u001b[43m(\u001b[49m\u001b[43mexperiment\u001b[49m\u001b[43m)\u001b[49m\u001b[43m[\u001b[49m\u001b[33;43m\"\u001b[39;49m\u001b[33;43mstatevector\u001b[39;49m\u001b[33;43m\"\u001b[39;49m\u001b[43m]\u001b[49m, decimals=decimals\n\u001b[32m    302\u001b[39m     )\n\u001b[32m    303\u001b[39m \u001b[38;5;28;01mexcept\u001b[39;00m \u001b[38;5;167;01mKeyError\u001b[39;00m \u001b[38;5;28;01mas\u001b[39;00m ex:\n",
      "\u001b[31mKeyError\u001b[39m: 'statevector'",
      "\nThe above exception was the direct cause of the following exception:\n",
      "\u001b[31mQiskitError\u001b[39m                               Traceback (most recent call last)",
      "\u001b[36mCell\u001b[39m\u001b[36m \u001b[39m\u001b[32mIn[1]\u001b[39m\u001b[32m, line 23\u001b[39m\n\u001b[32m     21\u001b[39m \u001b[38;5;66;03m# Run the circuit and get the final statevector\u001b[39;00m\n\u001b[32m     22\u001b[39m result = sim.run(qc).result()\n\u001b[32m---> \u001b[39m\u001b[32m23\u001b[39m state = \u001b[43mresult\u001b[49m\u001b[43m.\u001b[49m\u001b[43mget_statevector\u001b[49m\u001b[43m(\u001b[49m\u001b[43mqc\u001b[49m\u001b[43m)\u001b[49m\n\u001b[32m     25\u001b[39m \u001b[38;5;66;03m# Plot the state on the Bloch sphere\u001b[39;00m\n\u001b[32m     26\u001b[39m plot_bloch_multivector(state)\n",
      "\u001b[36mFile \u001b[39m\u001b[32m~/miniconda3/lib/python3.13/site-packages/qiskit/result/result.py:304\u001b[39m, in \u001b[36mResult.get_statevector\u001b[39m\u001b[34m(self, experiment, decimals)\u001b[39m\n\u001b[32m    300\u001b[39m     \u001b[38;5;28;01mreturn\u001b[39;00m postprocess.format_statevector(\n\u001b[32m    301\u001b[39m         \u001b[38;5;28mself\u001b[39m.data(experiment)[\u001b[33m\"\u001b[39m\u001b[33mstatevector\u001b[39m\u001b[33m\"\u001b[39m], decimals=decimals\n\u001b[32m    302\u001b[39m     )\n\u001b[32m    303\u001b[39m \u001b[38;5;28;01mexcept\u001b[39;00m \u001b[38;5;167;01mKeyError\u001b[39;00m \u001b[38;5;28;01mas\u001b[39;00m ex:\n\u001b[32m--> \u001b[39m\u001b[32m304\u001b[39m     \u001b[38;5;28;01mraise\u001b[39;00m QiskitError(\u001b[33mf\u001b[39m\u001b[33m'\u001b[39m\u001b[33mNo statevector for experiment \u001b[39m\u001b[33m\"\u001b[39m\u001b[38;5;132;01m{\u001b[39;00m\u001b[38;5;28mrepr\u001b[39m(experiment)\u001b[38;5;132;01m}\u001b[39;00m\u001b[33m\"\u001b[39m\u001b[33m'\u001b[39m) \u001b[38;5;28;01mfrom\u001b[39;00m\u001b[38;5;250m \u001b[39m\u001b[34;01mex\u001b[39;00m\n",
      "\u001b[31mQiskitError\u001b[39m: 'No statevector for experiment \"<qiskit.circuit.quantumcircuit.QuantumCircuit object at 0x7b48bcda2570>\"'"
     ]
    }
   ],
   "source": [
    "from math import sqrt\n",
    "from qiskit import QuantumCircuit\n",
    "from qiskit_aer import AerSimulator\n",
    "from qiskit.visualization import plot_bloch_multivector\n",
    "\n",
    "# Define coefficients (normalized quantum amplitudes)\n",
    "alpha = 1/sqrt(2)\n",
    "beta = 1/sqrt(2)\n",
    "\n",
    "# 2D complex vector representing the qubit state\n",
    "vector = [alpha, beta]\n",
    "\n",
    "# Create a single-qubit quantum circuit\n",
    "qc = QuantumCircuit(1)\n",
    "# Initialize the qubit with the defined statevector\n",
    "qc.initialize(vector, 0)\n",
    "\n",
    "# Use the Aer simulator backend\n",
    "sim = AerSimulator(method='statevector')\n",
    "\n",
    "# Run the circuit and get the final statevector\n",
    "result = sim.run(qc).result()\n",
    "state = result.get_statevector(qc)\n",
    "\n",
    "# Plot the state on the Bloch sphere\n",
    "plot_bloch_multivector(state)\n"
   ]
  },
  {
   "cell_type": "markdown",
   "id": "178388ea",
   "metadata": {},
   "source": [
    "qubit"
   ]
  },
  {
   "cell_type": "code",
   "execution_count": null,
   "id": "f22cc7bd",
   "metadata": {},
   "outputs": [],
   "source": [
    "from qiskit import QuantumCircuit, BasicAer, execute\n",
    "\n",
    "# create a quantum circuit with one qubit and one bit\n",
    "qc = QuantumCircuit(1,1)  \n",
    "# apply not gate to the qubit with index 0\n",
    "qc.x(0)\n",
    "# measue the qubit with index 0 and store the result to bit with index 0\n",
    "qc.measure(0,0)\n",
    "# plot the circuit\n",
    "qc.draw('mpl')\n",
    "# simulation: run the quantum circuit 1000 times and print all results\n",
    "backend = BasicAer.get_backend('qasm_simulator') \n",
    "result = execute(qc, backend, shots=1000).result()\n",
    "counts  = result.get_counts(qc)\n",
    "print(counts)"
   ]
  },
  {
   "cell_type": "markdown",
   "id": "bfd1c11c",
   "metadata": {},
   "source": [
    "hadamard gate"
   ]
  },
  {
   "cell_type": "code",
   "execution_count": null,
   "id": "ae84a48c",
   "metadata": {},
   "outputs": [],
   "source": [
    "# from qiskit import QuantumCircuit, BasicAer, execute\n",
    "from qiskit.visualization import plot_histogram\n",
    "\n",
    "# create a quantum circuit with one qubit and one bit\n",
    "qc = QuantumCircuit(1,1)\n",
    "# apply hadamard gate on qubit 0\n",
    "qc.h(0)\n",
    "# measure qubit 0 to bit 0\n",
    "qc.measure(0,0)\n",
    "# plot the circuit\n",
    "qc.draw('mpl')"
   ]
  },
  {
   "cell_type": "code",
   "execution_count": null,
   "id": "7bc13800",
   "metadata": {},
   "outputs": [],
   "source": [
    "# simulation: run the quantum circuit 1000 times and print all results\n",
    "# note that qasm_simulator is used for measurements\n",
    "backend = BasicAer.get_backend('qasm_simulator') \n",
    "result = execute(qc, backend, shots=1000).result()\n",
    "counts  = result.get_counts(qc)\n",
    "print(counts) "
   ]
  },
  {
   "cell_type": "code",
   "execution_count": null,
   "id": "bfcb8ede",
   "metadata": {},
   "outputs": [],
   "source": [
    "# visualize results\n",
    "plot_histogram(counts)"
   ]
  },
  {
   "cell_type": "markdown",
   "id": "cdd7b1c2",
   "metadata": {},
   "source": [
    "X门，Y门，Z门，P门"
   ]
  },
  {
   "cell_type": "code",
   "execution_count": null,
   "id": "be2183d1",
   "metadata": {},
   "outputs": [],
   "source": [
    "from math import pi\n",
    "from qiskit import QuantumCircuit, BasicAer, execute\n",
    "\n",
    "# create a quantum circuit with one qubit and one bit\n",
    "qc = QuantumCircuit(1)\n",
    "\n",
    "qc.p(pi/2, 0) # try different gates: qc.x(0), qc.y(0), qc.z(0), qc.p(pi/2, 0)\n",
    "\n",
    "# plot the circuit\n",
    "qc.draw('mpl')"
   ]
  },
  {
   "cell_type": "code",
   "execution_count": null,
   "id": "ed4f66bd",
   "metadata": {},
   "outputs": [],
   "source": [
    "# simulation: run the quantum circuit 1000 times and print all results\n",
    "# note that unitary_simulator is used for finding unitary matrices\n",
    "backend = BasicAer.get_backend('unitary_simulator') \n",
    "result = execute(qc, backend, shots=1000).result()\n",
    "result.get_unitary(qc, decimals=3)"
   ]
  },
  {
   "cell_type": "markdown",
   "id": "2114be7a",
   "metadata": {},
   "source": [
    "CNOT Gate"
   ]
  },
  {
   "cell_type": "code",
   "execution_count": null,
   "id": "cfc2ae09",
   "metadata": {},
   "outputs": [],
   "source": [
    "from qiskit import QuantumCircuit, BasicAer, execute\n",
    "\n",
    "# create a quantum circuit with 2 qubits and 2 bits\n",
    "qc = QuantumCircuit(2,2)\n",
    "# apply x gate on qubit 0 and qubit 1\n",
    "qc.x([0,1])\n",
    "# apply cnot gate, qubit 0 is control, qubit 1 is target\n",
    "qc.cx(0, 1) \n",
    "# measure qubits [0, 1] to bits [0, 1]\n",
    "qc.measure([0, 1], [0, 1])\n",
    "# plot the circuit\n",
    "qc.draw('mpl')"
   ]
  },
  {
   "cell_type": "code",
   "execution_count": null,
   "id": "53700568",
   "metadata": {},
   "outputs": [],
   "source": [
    "# simulation: run the quantum circuit 1000 times and print all results\n",
    "backend = BasicAer.get_backend('qasm_simulator') \n",
    "result = execute(qc, backend, shots=1000).result()\n",
    "result.get_counts(qc)"
   ]
  },
  {
   "cell_type": "markdown",
   "id": "9b284ec6",
   "metadata": {},
   "source": [
    "\n",
    "Sage has no [QM-specific module](https://doc.sagemath.org/html/en/reference/algebras/quantum_groups.html), so use [SymPy’s quantum module](https://docs.sympy.org/latest/modules/physics/quantum/index.html), [QuTiP - Quantum Toolbox in Python](https://qutip.org/), [Wolfram Quantum Framework](https://www.wolfram.com/quantum-computation-framework/), [Julia QuantumOptics.jl](https://qojulia.org/), [jrjohansson collection](https://jrjohansson.github.io/computing.html)\n",
    "- The first application of QM is QC - [IBM run on real quantum computers for free](https://quantum.cloud.ibm.com/), download [Qiskit python quantum computing IBM](https://github.com/qiskit-community/qiskit-community-tutorials/tree/master)"
   ]
  },
  {
   "cell_type": "markdown",
   "id": "1e5a5d24",
   "metadata": {},
   "source": [
    "Symbols & Natural Names\n",
    "- $\\langle\\psi|$: Bra\n",
    "- $|\\phi\\rangle$: Ket\n",
    "- $\\langle\\phi|\\psi\\rangle$: Bra-ket\n",
    "- $[\\hat{A}\\hat{B}]$: Commutator\n",
    "- $\\hat{S_z}$: hatsz (spin on z-axis)\n",
    "- $\\hat{S_y}$: hatsy (spin on y-axis)\n",
    "- $\\hat{S_x}$: hatsx (spin on x-axis)\n",
    "- $\\hat{S_+}$: hatsp (raising operator)\n",
    "- $\\hat{S_-}$: hatsm (lowering operator)\n",
    "- $\\hbar$: hbar\n",
    "- $B$: magnetic field"
   ]
  },
  {
   "cell_type": "markdown",
   "id": "edd5b6a8",
   "metadata": {},
   "source": [
    "Maths Notes\n",
    "- Learn Fourier Analysis\n",
    "- Linear Algebra\n",
    "    - Determinant\n",
    "    - Eigenvalues\n",
    "    - Eigenvectors\n",
    "- ODE\n",
    "- Vector Calculus"
   ]
  },
  {
   "cell_type": "markdown",
   "id": "65233940",
   "metadata": {},
   "source": [
    "## QM for Everyone"
   ]
  },
  {
   "cell_type": "markdown",
   "id": "47590241",
   "metadata": {},
   "source": [
    "[QM for Everyone](https://www.edx.org/learn/quantum-physics-mechanics/georgetown-university-quantum-mechanics-for-everyone) is the experimental foundation, play [QM interactive games](https://www.st-andrews.ac.uk/physics/quvis/index.html):\n",
    "\n",
    "- [Stern-Gerlach experiment](https://www.st-andrews.ac.uk/physics/quvis/simulations_html5/sims/spin1/spin1.html)\n",
    "- [Quantum Uncertainty](https://www.st-andrews.ac.uk/physics/quvis/simulations_html5/sims/uncertainty2/uncertainty.html)\n",
    "- [Delayed choice experiment](https://www.st-andrews.ac.uk/physics/quvis/simulations_html5/sims/DelayedChoice/DelayedChoice.html)\n",
    "- [Entanglement(EPR experiment)](https://www.st-andrews.ac.uk/physics/quvis/simulations_html5/sims/entanglement/entanglement.html)\n",
    "- [Entangled atoms and hidden variables](https://www.st-andrews.ac.uk/physics/quvis/simulations_html5/sims/quantum-versus-hv1/quantum-versus-hv1.html)\n",
    "- [Entangled atoms vs hidden variables](https://www.st-andrews.ac.uk/physics/quvis/simulations_html5/sims/quantum-versus-hv2/quantum-versus-hv2.html)\n",
    "- [Interferometer exp. with single photons](https://www.st-andrews.ac.uk/physics/quvis/simulations_html5/sims/SinglePhotonLab/SinglePhotonLab.html)\n",
    "- [Interferometer exp. with photons, particles, waves](https://www.st-andrews.ac.uk/physics/quvis/simulations_html5/sims/photons-particles-waves/photons-particles-waves.html)\n",
    "- [Quantum bomb detection](https://www.st-andrews.ac.uk/physics/quvis/simulations_html5/sims/QuantumBombGame/Quantum_bomb.html)\n",
    "- [Quantum eraser with polarizers](https://www.st-andrews.ac.uk/physics/quvis/simulations_html5/sims/QuantumEraser/QuantumEraser.html)"
   ]
  },
  {
   "cell_type": "markdown",
   "id": "7f9217f6",
   "metadata": {},
   "source": [
    "### Intro & Quantum Probability"
   ]
  },
  {
   "cell_type": "markdown",
   "id": "5453db83",
   "metadata": {},
   "source": [
    "- Fermions: Metals that conduct electricity do so because there is a \"sea of electrons\". This is created from the Pauli exclusion principle, since electrons are fermions, and fermions stay apart, they stay apart.\n",
    "- Alpha Particles: Created by radioactive elements. Since it is slow and heavy, it has low penetration power but can damage biological tissue. Smoke detectors use heavy elements to detect smoke as when there is smoke the current flow between the 2 metal plates that are held at different voltages the current is changed.\n",
    "- Magnetic Fields: These are vector fields that are created by magnets.\n",
    "    - The closer to a magnet you are, the stronger the intensity.\n",
    "    - Normally the arrows indicate where the north pole of a magnet will be attracted to.\n",
    "    - Forces in the magnetic field can cause the magnet to move because of a net force or spin because of forces in opposite directions at different ends.\n",
    "        - The net force can be calculated by finding the axis of increasing intensity and then finding the projection of the magnet onto the axis. When doing this it is useful to keep the south pole of the magnet on the axis.\n",
    "    - Fat Arrows: For some magnetic fields, they can be represented by fat arrows where the width is the intensity of the magnetic field and the direction of the arrows is indicated by the fat arrow's direction.\n",
    "    - Magnetic Needles: These are idealized small magnets like those in compasses.\n",
    "- Precession: A rotation that occurs when there is a magnet and a magnetic field.\n",
    "    - Even when there is precession, the projection remains constant as it rotates perpendicular to the axis of increasing field.\n",
    "- Stern-Gerlach Experiment: Atoms are injected through a region of space where because of a magnetic field, there will be precession. 2 magnets will deflect the atom until it hits the screen where there is a detector.\n",
    "    - This experiment has many variants.\n",
    "    - In the quantum world, since everything is random, the atoms' chance of exiting a specific exit for positive and negative can be calculated using a formula.\n",
    "    - Each Stern-Gerlach analyzer measures the atom's projection on a specific axis. If the atom has no projection on that axis then it chooses a random path to take.\n",
    "- Birthday Problem: The problem asks you that how many people must be in a large room for the chance of at least 2 people having the same birthday to be a specific number.\n",
    "    - There are many variants.\n",
    "- Penney's Game: This is an unfair coin game that seems fair at first. If you pick the sequence of coins first then the other person can always pick a sequence to have a greater chance of winning(unlike the same game but with sequences of 2 coins).\n",
    "    - Rules\n",
    "        1. Each player picks a sequence of 3 coins.\n",
    "        1. Flip a coin, then put it at one end of the coins.\n",
    "        1. Continue until the 3 coins in the middle matches a player's sequence.\n",
    "        1. If the 3 coins in the middle matches your sequence, you win this round.\n",
    "        1. Continue for as many rounds as needed."
   ]
  },
  {
   "cell_type": "code",
   "execution_count": null,
   "id": "2341fcb5",
   "metadata": {},
   "outputs": [],
   "source": [
    "# Birthday Problem\n",
    "result=False\n",
    "count=0\n",
    "for i in range(100000):\n",
    "    result_in=False\n",
    "    people=23\n",
    "    birthdays=[]\n",
    "    for i in range(people):\n",
    "        birthdays.append(randint(1,52))\n",
    "    birthdays.sort()\n",
    "    for i in range(1,53):\n",
    "        if birthdays.count(i)>2:\n",
    "            result=True\n",
    "            result_in=True\n",
    "    if result_in==True:\n",
    "        count+=1\n",
    "count"
   ]
  },
  {
   "cell_type": "code",
   "execution_count": null,
   "id": "9633b627",
   "metadata": {},
   "outputs": [],
   "source": [
    "# Penney's Game\n",
    "me_win=0\n",
    "comp_win=0\n",
    "me_coins=[0,1,0]\n",
    "comp_coins=[0,1,1]\n",
    "for i in range(100000):\n",
    "    coins=[2,2,2]\n",
    "    coins_req=[coins[-3],coins[-2],coins[-1]]\n",
    "    while coins_req!=me_coins and coins_req!=comp_coins:\n",
    "        coins.append(randint(0,1))\n",
    "        coins_req=[coins[-3],coins[-2],coins[-1]]\n",
    "    if me_coins==coins_req:\n",
    "        me_win+=1\n",
    "    else:\n",
    "        comp_win+=1\n",
    "s(me_win,comp_win)"
   ]
  },
  {
   "cell_type": "code",
   "execution_count": null,
   "id": "42d1d959",
   "metadata": {},
   "outputs": [],
   "source": [
    "# ???\n",
    "s(11/12*10/12*9/12*8/12*7/12,1728-385)\n",
    "plot(cos(x/2)^2,(x,0,2*pi), figsize=3)"
   ]
  },
  {
   "cell_type": "code",
   "execution_count": null,
   "id": "ecf8c791",
   "metadata": {},
   "outputs": [],
   "source": [
    "x=1\n",
    "n=0\n",
    "m=364\n",
    "while x>0.5:\n",
    "    x*=m\n",
    "    m-=1\n",
    "    x/=365\n",
    "    n+=1\n",
    "s(n)"
   ]
  },
  {
   "cell_type": "markdown",
   "id": "79204517",
   "metadata": {},
   "source": [
    "### Advanced Quantum Mechanics with Spins"
   ]
  },
  {
   "cell_type": "markdown",
   "id": "af7850a2",
   "metadata": {},
   "source": [
    "Notes\n",
    "- Two-Slit Experiment with Stern-Gerlach Analyzer Loop: There are two results using classical and quantum probability. The quantum probability result is correct where since the path taken is indeterminate(you can also say it takes both paths), the atom's state does not change.\n",
    "    - Detector Variant: If a detector is put in the analyzer loop, the atom's x state becomes known meaning it no longer has a state in the z direction.\n",
    "- Einstein-Podolsky-Rosen(EPR) Experiment: This is an experiment where there is a source which fires two atoms with opposite projections in a specific axis and is measured by two analyzers. One analyzer is slightly closer than the other so that we will know the state of the atom that hasn't entered the analyzer yet because we have measured the other atom's state. But say the analyzers are very far away. Then wouldn't the information have been transfered faster than light?\n",
    "    - The hidden variables theory that Einstein made was disproved by Bell's theorems.\n",
    "\n",
    "<img src=\"https://raw.githubusercontent.com/tomctang/NB_img/main/sge.png\" alt=\"seriesgraph\" width=\"500\">"
   ]
  },
  {
   "cell_type": "markdown",
   "id": "753ba567",
   "metadata": {},
   "source": [
    "### The Quantum Mechanics of Light"
   ]
  },
  {
   "cell_type": "markdown",
   "id": "63645a11",
   "metadata": {},
   "source": [
    "Notes\n",
    "- Light is made of particles.\n",
    "    - This has a long history.\n",
    "    - This can be proved using an experiment as when you shoot photons randomly through a single then you will get an pattern with a denser patch where the slit is. If instead it was a wave then it would be uniformly distributed.\n",
    "- Quantum Mechanics Process\n",
    "    1. Identify all events.\n",
    "    1. Find all alternative events that can occur.\n",
    "    1. Use quantum rules to find the amplitude arrow.\n",
    "        - Arrows rotate at a given speed(see below) based on the colour of the photon(1 revolution for every wavelength travelled).\n",
    "    1. Add all the arrows together to construct the final arrow.\n",
    "    1. Square the length of the final arrow to calculate the probability for that event to occur.\n",
    "    1. Add all the probabilities to calculate the total probability.\n",
    "- Calculation for Amplitude Arrows\n",
    "    - Use a clock that spins starting at 12 o'clock.\n",
    "    - Spinning rate through air\n",
    "        - Red Light: 36000 revolutions per inch(this one is mainly used in experiments)\n",
    "        - Green Light: 54000 revolutions per inch\n",
    "        - Blue Light: 72000 revolutions per inch\n",
    "    - Reflection\n",
    "        - Reflection in air on glass: Multiply length by 0.2 and add 0.5 revolutions(6 hours) to the clock.\n",
    "        - Reflection in glass on glass: Just multiply length by 0.2\n",
    "    - Transmission\n",
    "        - Transmission from air to glass: Multiply length by 0.98\n",
    "        - Transmission from glass to air: Multiply length by 0.98\n",
    "- Info on Experiments\n",
    "    - 1-3: These are experiments where the photons only interact with air and glass.\n",
    "    - 4-?: These experiments mostly have slits that photons have to get through in order to get detected.\n",
    "- Source-Detector Experiments of Light\n",
    "    1. There is only one event so this is boring. Source -> Detector The length is just 1 meaning the final probability is 1.\n",
    "    <img src=\"https://raw.githubusercontent.com/tomctang/NB_img/main/experiment1.png\" alt=\"exp.1\" width=\"200\">\n",
    "    1. The two alternative events are to reflect of the top of the glass or the bottom of the glass. Calculating gives a probability of 3%.\n",
    "    <img src=\"https://raw.githubusercontent.com/tomctang/NB_img/main/experiment2.png\" alt=\"exp.2\" width=\"200\">\n",
    "    1. There is only one event which is where the photon gets transmitted. Using quantum rules gives a probability of 96%.\n",
    "    <img src=\"https://raw.githubusercontent.com/tomctang/NB_img/main/experiment3.png\" alt=\"exp.3\" width=\"150\">\n",
    "        - Even if you change the thickness of the glass, the probability is the same because all of them include one event where there is a transmission.\n",
    "- Two Slit Experiment\n",
    "    - This experiment is strange because out of the two slits, when you calculate the final probability for a photon to reach the detector, it is not the sum of the two probability for single slits like you would expect.\n",
    "    - If you move the detector to where there is a zero probability of the photon reaching the detector and then block a slit, the probability of a photon reaching the detector there increases.\n",
    "    - This is strange as when you add more blockages, more photons reach the detectors. This is related to quantum seeing in the dark."
   ]
  },
  {
   "cell_type": "markdown",
   "id": "f28fc4f1",
   "metadata": {},
   "source": [
    "### Advanced Quantum Mechanics of Light"
   ]
  },
  {
   "cell_type": "markdown",
   "id": "b9b9a72d",
   "metadata": {},
   "source": [
    "Notes\n",
    "- Quantum Seeing in the Dark\n",
    "    - Two Slit Experiment\n",
    "        - In the experiment there is interference patterns where the probability of a photon being detected is virtually zero.\n",
    "        - If the detector is moved there and a path is blocked, then we can see the blockage without looking.\n",
    "- Mach-Zehnder Interferometer\n",
    "    - When this interferometer does not contain any polarizers and both paths have the same length, all the photons will go to one detector as the signal is amplified.\n",
    "    - When an object is added, this changes the probability and the other detector will receive photons. This is also how quantum bomb detection works.\n",
    "- Quantum Zeno Effect(go to paradox and infinity)"
   ]
  },
  {
   "cell_type": "markdown",
   "id": "a515c054",
   "metadata": {},
   "source": [
    "### Final Exam"
   ]
  },
  {
   "cell_type": "markdown",
   "id": "1f89ff26",
   "metadata": {},
   "source": [
    "Notes\n",
    "- P.8: Check part 3\n",
    "- P11: Check part 2"
   ]
  },
  {
   "cell_type": "code",
   "execution_count": null,
   "id": "aed5ebee",
   "metadata": {},
   "outputs": [],
   "source": [
    "0.28^2+0.0036"
   ]
  },
  {
   "cell_type": "code",
   "execution_count": null,
   "id": "0c9f67d7",
   "metadata": {},
   "outputs": [],
   "source": [
    "0.9539^2*0.3^3"
   ]
  },
  {
   "cell_type": "code",
   "execution_count": null,
   "id": "b563ca61",
   "metadata": {},
   "outputs": [],
   "source": [
    "(0.3+0.9539^2*0.3)^2"
   ]
  },
  {
   "cell_type": "code",
   "execution_count": null,
   "id": "4e455f74",
   "metadata": {},
   "outputs": [],
   "source": [
    "x=cos(pi/9)\n",
    "s(n(x),n(x^2),n(x^3))\n",
    "s(n(cos(pi/20)^10))"
   ]
  },
  {
   "cell_type": "code",
   "execution_count": null,
   "id": "d59781fb",
   "metadata": {},
   "outputs": [],
   "source": [
    "n=1\n",
    "m=52\n",
    "for i in range(10):\n",
    "    n*=m-1\n",
    "    n/=365\n",
    "    m-=1\n",
    "print(float(n))"
   ]
  },
  {
   "cell_type": "markdown",
   "id": "b1335f8e",
   "metadata": {},
   "source": [
    "## M1. Intro Quantum World"
   ]
  },
  {
   "cell_type": "markdown",
   "id": "1e344ebf",
   "metadata": {},
   "source": [
    "- Quantum Systems: systems governed by QM laws, which differ from classical physics. Q-systems exhibit phenomena such as superposition, entanglement, and quantum tunneling.\n",
    "- QM Principles: \n",
    "  - Superposition: Objects existing in multiple states simultaneously.\n",
    "  - Entanglement: Intertwined quantum states of multiple particles.\n",
    "  - Quantization: Discrete and specific values of certain properties.\n",
    "\n",
    "<img src=\"https://raw.githubusercontent.com/tomctang/NB_img/main/qmcore.jpg\" alt=\"exp.1\" width=\"650\">\n",
    "\n",
    "|Fields |Key points | | | |\n",
    "-|-|-|-|-\n",
    "**Quantum Computing**| Qubits: Basic unit of quantum information| Superposition: Utilizing Q states for parallel processing | Q Algorithms: Algorithms designed for Q computers\n",
    "**Quantum Communication**| Quantum Key Distribution: Securely distributing cryptographic keys|Teleportation: Instantaneous transfer of Q information. | Q Internet: Q communication network.\n",
    "**Quantum Sensing and Metrology**|Atomic Clocks: Extremely precise timekeeping using Q properties.|MRI: Q-based imaging technology for medical diagnosis | Q Metrology: High-precision measurement in many fields |Q Gyroscopes: Advanced navigation and rotation sensing devices.\n",
    "QM supports Chemistry, so it's founational to Life Sciences| eg. use solutions to Schrödinger Eq to describe how chemical bonds are formed between atoms.\n",
    "\n",
    "<img src=\"https://raw.githubusercontent.com/tomctang/NB_img/main/qminfo.jpg\" alt=\"exp.1\" width=\"500\">\n"
   ]
  },
  {
   "cell_type": "markdown",
   "id": "37304815",
   "metadata": {},
   "source": [
    "- Fermions: Metals that conduct electricity do so because there is a \"sea of electrons\". This is created from the Pauli exclusion principle, since electrons are fermions, and fermions stay apart, they stay apart.\n",
    "- Alpha Particles: Created by radioactive elements. Since it is slow and heavy, it has low penetration power but can damage biological tissue. Smoke detectors use heavy elements to detect smoke as when there is smoke the current flow between the 2 metal plates that are held at different voltages the current is changed.\n",
    "- Magnetic Fields: These are vector fields that are created by magnets.\n",
    "    - The closer to a magnet you are, the stronger the intensity.\n",
    "    - Normally the arrows indicate where the north pole of a magnet will be attracted to.\n",
    "    - Forces in the magnetic field can cause the magnet to move because of a net force or spin because of forces in opposite directions at different ends.\n",
    "        - The net force can be calculated by finding the axis of increasing intensity and then finding the projection of the magnet onto the axis. When doing this it is useful to keep the south pole of the magnet on the axis.\n",
    "    - Fat Arrows: For some magnetic fields, they can be represented by fat arrows where the width is the intensity of the magnetic field and the direction of the arrows is indicated by the fat arrow's direction.\n",
    "    - Magnetic Needles: These are idealized small magnets like those in compasses.\n",
    "    - Magnetic fields are always inhomogeneous vector fields which means there divergence is always zero.\n",
    "- Precession: A rotation that occurs when there is a magnet and a magnetic field.\n",
    "    - Even when there is precession, the projection remains constant as it rotates perpendicular to the axis of increasing field.\n",
    "- Stern-Gerlach Experiment(SGE): Atoms are injected through a region of space where because of a magnetic field, there will be precession. 2 magnets will deflect the atom until it hits the screen where there is a detector.\n",
    "    - This experiment has many variants.\n",
    "    - In the quantum world, since everything is random, the atoms' chance of exiting a specific exit for positive and negative can be calculated using a formula.\n",
    "    - Each Stern-Gerlach analyzer measures the atom's projection on a specific axis. If the atom has no projection on that axis then it chooses a random path to take.\n",
    "    - In the SGE, the inhomogeneous magnetic field's $y$ direction can be neglected because the magnetic field should make the effect cancel out on the sides and since the atom is moving along the $y$ direction, the net force should not change when the position moves along the $y$ axis.\n",
    "    - The force on the classical current loop can be calculated using the formula $\\vec{\\bf F}(t)=\\vec{\\nabla} \\left (\\vec{\\mu}(t)\\cdot\\vec{\\bf B}(x,y,z)\\right )$ where $B$ is the magnetic field(this is the notation) and $mu$ is the effective needle that represents the current loop.\n",
    "- Birthday Problem: The problem asks you that how many people must be in a large room for the chance of at least 2 people having the same birthday to be a specific number.\n",
    "    - There are many variants.\n",
    "- Penney's Game: This is an unfair coin game that seems fair at first. If you pick the sequence of coins first then the other person can always pick a sequence to have a greater chance of winning(unlike the same game but with sequences of 2 coins).\n",
    "    - Rules\n",
    "        1. Each player picks a sequence of 3 coins.\n",
    "        1. Flip a coin, then put it at one end of the coins.\n",
    "        1. Continue until the 3 coins in the middle matches a player's sequence.\n",
    "        1. If the 3 coins in the middle matches your sequence, you win this round.\n",
    "        1. Continue for as many rounds as needed.\n",
    "- Dirac Notation: This notation is a way to represent vectors, matrices, and vector products.\n",
    "    - Bra($\\langle\\phi|$): This is the Hermitian conjugate of a ket(row vector).\n",
    "    - Ket($|\\phi\\rangle$): This represents a column vector.\n",
    "    - Bra-ket($\\langle\\phi|\\psi\\rangle$): This is the inner product(dot product) of the ket and bra(complex number).\n",
    "    - \"Butterfly Diagram\"($|\\psi\\rangle\\langle\\phi|$): This is the outer product and is more complicated then the first three(matrix).\n",
    "        - This is named \"Butterfly Diagram\" because it looks like one and Dirac did not have a name for it.\n",
    "    - Change of basis: [add notes]"
   ]
  },
  {
   "cell_type": "markdown",
   "id": "abe9a62c",
   "metadata": {},
   "source": [
    "QM vs. CM\n",
    "\n",
    "<img src=\"https://raw.githubusercontent.com/tomctang/NB_img/main/qmdiff3.png\" alt=\"exp.1\" width=\"500\">\n",
    "<img src=\"https://raw.githubusercontent.com/tomctang/NB_img/main/qmdiff31.jpg\" alt=\"exp.1\" width=\"500\">\n",
    "\n",
    "<img src=\"https://raw.githubusercontent.com/tomctang/NB_img/main/qmdiff22.png\" alt=\"exp.1\" width=\"500\">\n",
    "\n",
    "<img src=\"https://raw.githubusercontent.com/tomctang/NB_img/main/qmdiff1.png\" alt=\"exp.1\" width=\"600\">\n",
    "<img src=\"https://raw.githubusercontent.com/tomctang/NB_img/main/qmdiff4.png\" alt=\"exp.1\" width=\"800\">\n"
   ]
  },
  {
   "cell_type": "code",
   "execution_count": null,
   "id": "b2c4b239",
   "metadata": {},
   "outputs": [],
   "source": [
    "# Bra–Ket algebra built-in Sage\n",
    "class Ket:\n",
    "    def __init__(self, label, vector=None):\n",
    "        \"\"\"\n",
    "        label: symbolic label for Dirac notation, e.g. 'psi'\n",
    "        vector: optional Sage vector for numerical representation\n",
    "        \"\"\"\n",
    "        self.label = label\n",
    "        self.vector = vector\n",
    "        self.symbol = var(f\"ket_{label}\", latex_name=f\"|{label}\\\\rangle\")\n",
    "\n",
    "    def __str__(self):\n",
    "        return f\"|{self.label}>\"\n",
    "\n",
    "    def _latex_(self):\n",
    "        return f\"|{self.label}\\\\rangle\"\n",
    "\n",
    "    def bra(self):\n",
    "        \"\"\"Return the corresponding Bra\"\"\"\n",
    "        if self.vector is not None:\n",
    "            return Bra(self.label, self.vector.conjugate())\n",
    "        return Bra(self.label)\n",
    "\n",
    "    def __mul__(self, other):\n",
    "        # Inner product <bra|ket>\n",
    "        if isinstance(other, Bra) and self.vector is not None and other.vector is not None:\n",
    "            return self.vector.inner_product(other.vector)\n",
    "        # Fallback symbolic\n",
    "        elif isinstance(other, Bra):\n",
    "            return SR(self.symbol * other.symbol)\n",
    "        return NotImplemented\n",
    "\n",
    "    def outer(self, bra):\n",
    "        \"\"\"Outer product |ket><bra| → a matrix\"\"\"\n",
    "        if self.vector is not None and bra.vector is not None:\n",
    "            return matrix(self.vector).transpose() * matrix(bra.vector)\n",
    "        return SR(self.symbol * bra.symbol)\n",
    "\n",
    "    def tensor(self, other):\n",
    "        \"\"\"Tensor product |ket1>⊗|ket2>\"\"\"\n",
    "        if self.vector is not None and other.vector is not None:\n",
    "            return Ket(self.label + other.label,\n",
    "                       self.vector.tensor_product(other.vector))\n",
    "        return Ket(self.label + other.label)\n",
    "\n",
    "\n",
    "class Bra:\n",
    "    def __init__(self, label, vector=None):\n",
    "        self.label = label\n",
    "        self.vector = vector\n",
    "        self.symbol = var(f\"bra_{label}\", latex_name=f\"\\\\langle{label}|\")\n",
    "\n",
    "    def __str__(self):\n",
    "        return f\"<{self.label}|\"\n",
    "\n",
    "    def _latex_(self):\n",
    "        return f\"\\\\langle{self.label}|\"\n",
    "\n",
    "    def __mul__(self, other):\n",
    "        # Inner product <bra|ket>\n",
    "        if isinstance(other, Ket) and self.vector is not None and other.vector is not None:\n",
    "            return self.vector.inner_product(other.vector)\n",
    "        elif isinstance(other, Ket):\n",
    "            return SR(self.symbol * other.symbol)\n",
    "        return NotImplemented\n",
    "\n",
    "    def tensor(self, other):\n",
    "        if self.vector is not None and other.vector is not None:\n",
    "            return Bra(self.label + other.label,\n",
    "                       self.vector.tensor_product(other.vector))\n",
    "        return Bra(self.label + other.label)\n",
    "\n",
    "# Numeric + symbolic states\n",
    "psi = Ket(\"ψ\", vector([1/sqrt(2), 1/sqrt(2)]))   # |ψ>\n",
    "phi = Ket(\"φ\", vector([1, 0]))                   # |φ>\n",
    "\n",
    "bra_psi = psi.bra()\n",
    "bra_phi = phi.bra()\n",
    "\n",
    "s(psi.symbol, bra_psi.symbol)  # shows |ψ⟩ and ⟨ψ|\n",
    "\n",
    "s(\"<ψ|ψ> =\", bra_psi * psi)       # Inner product = 1 numerically\n",
    "s(\"|ψ><ψ| =\", psi.outer(bra_psi)) # Outer product\n",
    "\n",
    "# Tensor product\n",
    "psi_tensor_phi = psi.tensor(phi)\n",
    "s(\"|ψ>⊗|φ> =\", psi_tensor_phi.symbol) # show symbol\n",
    "s(\"Tensor vector:\", psi_tensor_phi.vector)\n"
   ]
  },
  {
   "cell_type": "code",
   "execution_count": null,
   "id": "d31b5c4b",
   "metadata": {},
   "outputs": [],
   "source": [
    "s(2/sqrt(abs((a-d+sqrt(a^2+4*b*c-2*a*d+d^2))/b)^2+4))\n",
    "s(-(a-d+sqrt(a^2+4*b*c-2*a*d+d^2))/(sqrt(abs((a-d+sqrt(a^2+4*b*c-2*a*d+d^2))/b)^2+4)*b))\n",
    "s(2/sqrt(abs((a-d-sqrt(a^2+4*b*c-2*a*d+d^2))/b)^2+4))\n",
    "s(-(a-d+sqrt(a^2+4*b*c-2*a*d+d^2))/(sqrt(abs((a-d-sqrt(a^2+4*b*c-2*a*d+d^2))/b)^2+4)*b))"
   ]
  },
  {
   "cell_type": "code",
   "execution_count": null,
   "id": "46f6b76f",
   "metadata": {},
   "outputs": [],
   "source": [
    "var('a b c d')\n",
    "A=matrix(2,2,[a,b,c,d])\n",
    "s(A.eigenvalues())\n",
    "s(A.eigenvectors_right()[0][1][0]/A.eigenvectors_right()[0][1][0].norm())\n",
    "s(A.eigenvectors_right()[1][1][0]/A.eigenvectors_right()[1][1][0].norm())"
   ]
  },
  {
   "cell_type": "code",
   "execution_count": null,
   "id": "ae63a002",
   "metadata": {},
   "outputs": [],
   "source": [
    "s(n(cos(3*pi/8)^2))\n",
    "s(n(cos(pi/6)^2))"
   ]
  },
  {
   "cell_type": "code",
   "execution_count": null,
   "id": "ad668be7",
   "metadata": {},
   "outputs": [],
   "source": [
    "A=matrix([[4, -i],\n",
    "          [i, 2]])\n",
    "ps=vector([2, i])/sqrt(5)\n",
    "ph=vector([-i, 2])/sqrt(5)\n",
    "aps=A*ps\n",
    "aph=A*ph\n",
    "s(aps.dot_product(ps.conjugate()),aps.dot_product(ph.conjugate()),aph.dot_product(ps.conjugate()),aph.dot_product(ph.conjugate()))"
   ]
  },
  {
   "cell_type": "code",
   "execution_count": null,
   "id": "39a044f0",
   "metadata": {},
   "outputs": [],
   "source": [
    "A=matrix([[3, 4*i],\n",
    "          [-4*i, -3]])\n",
    "s(A.eigenvectors_right())"
   ]
  },
  {
   "cell_type": "markdown",
   "id": "921b95b7",
   "metadata": {},
   "source": [
    "## M2. Advanced QM with Spins"
   ]
  },
  {
   "cell_type": "markdown",
   "id": "846a0d4f",
   "metadata": {},
   "source": [
    "Notes\n",
    "- Two-Slit Experiment with Stern-Gerlach Analyzer Loop: There are two results using classical and quantum probability. The quantum probability result is correct where since the path taken is indeterminate(you can also say it takes both paths), the atom's state does not change.\n",
    "    - Detector Variant: If a detector is put in the analyzer loop, the atom's x state becomes known meaning it no longer has a state in the z direction.\n",
    "- Einstein-Podolsky-Rosen(EPR) Experiment: This is an experiment where there is a source which fires two atoms with opposite projections in a specific axis and is measured by two analyzers. One analyzer is slightly closer than the other so that we will know the state of the atom that hasn't entered the analyzer yet because we have measured the other atom's state. But say the analyzers are very far away. Then wouldn't the information have been transfered faster than light?\n",
    "    - The hidden variables theory that Einstein made were disproved by Bell's theorems.\n",
    "- Commutation: $[\\hat{A},\\hat{B}]=\\hat{A}\\hat{B}-\\hat{B}\\hat{A}$ [add notes]\n",
    "    - Operator Identity 1: $[\\hat{S}_z,\\hat{S}_\\pm]=\\pm\\hbar\\hat{S}_\\pm$(The $\\pm$ means this works for both $+$ and $-$. Just substitute the same sign for every $\\pm$ to get the right formula.)\n",
    "    - Operator Identity 2: $[\\hat{S}_+,\\hat{S}_-]=2\\hbar\\hat{S}_z$\n",
    "    - Operator Identity 3: $[\\hat{A},\\hat{B}]=-[\\hat{B},\\hat{A}]$\n",
    "    - Operator Identity 4: $[\\hat{A},\\hat{A}]=0$\n",
    "    - Operator Identity 5: $[\\hat{S}_i,\\hat{S}_j]=i\\hbar\\sum_k\\epsilon_{ijk}\\sigma_k\\hat{S}_k$\n",
    "- Spin Operator Rules\n",
    "    - $\\hat{S}_z|\\uparrow\\rangle_z=\\frac{\\hbar}{2}|\\uparrow\\rangle_z$\n",
    "    - $\\hat{S}_z|\\downarrow\\rangle_z=-\\frac{\\hbar}{2}|\\downarrow\\rangle_z$\n",
    "    - $\\hat{S}_+|\\uparrow\\rangle_z=0$\n",
    "    - $\\hat{S}_+|\\downarrow\\rangle_z=\\hbar|\\uparrow\\rangle_z$\n",
    "    - $\\hat{S}_-|\\uparrow\\rangle_z=\\hbar|\\downarrow\\rangle_z$\n",
    "    - $\\hat{S}_-|\\downarrow\\rangle_z=0$\n",
    "\n",
    "<img src=\"https://raw.githubusercontent.com/tomctang/NB_img/main/sge.png\" alt=\"seriesgraph\" width=\"500\">"
   ]
  },
  {
   "cell_type": "markdown",
   "id": "272c8a64",
   "metadata": {},
   "source": [
    "## M3. The QM of Light"
   ]
  },
  {
   "cell_type": "markdown",
   "id": "fefc5420",
   "metadata": {},
   "source": [
    "Notes\n",
    "- Light is made of particles.\n",
    "    - This has a long history.\n",
    "    - This can be proved using an experiment as when you shoot photons randomly through a single then you will get an pattern with a denser patch where the slit is. If instead it was a wave then it would be uniformly distributed.\n",
    "- Quantum Mechanics Process\n",
    "    1. Identify all events.\n",
    "    1. Find all alternative events that can occur.\n",
    "    1. Use quantum rules to find the amplitude arrow.\n",
    "        - Arrows rotate at a given speed(see below) based on the colour of the photon(1 revolution for every wavelength travelled).\n",
    "    1. Add all the arrows together to construct the final arrow.\n",
    "    1. Square the length of the final arrow to calculate the probability for that event to occur.\n",
    "    1. Add all the probabilities to calculate the total probability.\n",
    "- Calculation for Amplitude Arrows\n",
    "    - Use a clock that spins starting at 12 o'clock.\n",
    "    - Spinning rate through air\n",
    "        - Red Light: 36000 revolutions per inch(this one is mainly used in experiments)\n",
    "        - Green Light: 54000 revolutions per inch\n",
    "        - Blue Light: 72000 revolutions per inch\n",
    "    - Reflection\n",
    "        - Reflection in air on glass: Multiply length by 0.2 and add 0.5 revolutions(6 hours) to the clock.\n",
    "        - Reflection in glass on glass: Just multiply length by 0.2\n",
    "    - Transmission\n",
    "        - Transmission from air to glass: Multiply length by 0.98\n",
    "        - Transmission from glass to air: Multiply length by 0.98\n",
    "- Info on Experiments\n",
    "    - 1-3: These are experiments where the photons only interact with air and glass.\n",
    "    - 4-?: These experiments mostly have slits that photons have to get through in order to get detected.\n",
    "- Source-Detector Experiments of Light\n",
    "    1. There is only one event so this is boring. Source -> Detector The length is just 1 meaning the final probability is 1.\n",
    "    <img src=\"https://raw.githubusercontent.com/tomctang/NB_img/main/experiment1.png\" alt=\"exp.1\" width=\"200\">\n",
    "    1. The two alternative events are to reflect of the top of the glass or the bottom of the glass. Calculating gives a probability of 3%.\n",
    "    <img src=\"https://raw.githubusercontent.com/tomctang/NB_img/main/experiment2.png\" alt=\"exp.2\" width=\"200\">\n",
    "    1. There is only one event which is where the photon gets transmitted. Using quantum rules gives a probability of 96%.\n",
    "    <img src=\"https://raw.githubusercontent.com/tomctang/NB_img/main/experiment3.png\" alt=\"exp.3\" width=\"150\">\n",
    "        - Even if you change the thickness of the glass, the probability is the same because all of them include one event where there is a transmission.\n",
    "- Two Slit Experiment\n",
    "    - This experiment is strange because out of the two slits, when you calculate the final probability for a photon to reach the detector, it is not the sum of the two probability for single slits like you would expect.\n",
    "    - If you move the detector to where there is a zero probability of the photon reaching the detector and then block a slit, the probability of a photon reaching the detector there increases.\n",
    "    - This is strange as when you add more blockages, more photons reach the detectors. This is related to quantum seeing in the dark.\n",
    "- Complex numbers describing oscillations and waves\n",
    "    - Oscillations: $x(t)={\\rm Re}\\left (Ae^{-i\\omega t}\\right )$ where $A=\\alpha e^{i\\phi_0}$ is the complex amplitude and phase and $\\omega=\\sqrt{\\frac{k}{m}}$ is the frequency of the oscillator.\n",
    "    - Wave motion: $x(t)={\\rm Re}\\left ( A e^{ikx-i\\omega t}\\right )$(where $A=\\alpha e^{i\\phi_0}$ just like above)\n",
    "- Dirac way for two-slit experiment\n",
    "    - [add notes]"
   ]
  },
  {
   "cell_type": "markdown",
   "id": "3e67b13e",
   "metadata": {},
   "source": [
    "## M4. Advanced Quantum Ideas with Light"
   ]
  },
  {
   "cell_type": "markdown",
   "id": "538ae4c1",
   "metadata": {},
   "source": [
    "Notes\n",
    "- Quantum Seeing in the Dark\n",
    "    - Two Slit Experiment\n",
    "        - In the experiment there is interference patterns where the probability of a photon being detected is virtually zero.\n",
    "        - If the detector is moved there and a path is blocked, then we can see the blockage without looking.\n",
    "- Mach-Zehnder Interferometer\n",
    "    - When this interferometer does not contain any polarizers and both paths have the same length, all the photons will go to one detector as the signal is amplified.\n",
    "    - When an object is added, this changes the probability and the other detector will receive photons. This is also how quantum bomb detection works.\n",
    "- Quantum Zeno Effect(go to paradox and infinity)"
   ]
  },
  {
   "cell_type": "markdown",
   "id": "f9bd0bf8",
   "metadata": {},
   "source": [
    "## M5. Quantum Operators and their Identities"
   ]
  },
  {
   "cell_type": "markdown",
   "id": "b7f35731",
   "metadata": {},
   "source": [
    "Notes\n",
    "- Pauli Matrices\n",
    "    - Pauli $x$ matrix: $\\sigma_x=\\begin{pmatrix}0 &1\\\\1&0\\end{pmatrix}$\n",
    "    - Pauli $y$ matrix: $\\sigma_y=\\begin{pmatrix}0&-i\\\\i&0\\end{pmatrix}$\n",
    "    - Pauli $z$ matrix: $\\sigma_z=\\begin{pmatrix}1&0\\\\0&-1\\end{pmatrix}$\n",
    "    - Pauli $+$ matrix: $\\sigma_+=\\begin{pmatrix}0&2\\\\0&0\\end{pmatrix}$\n",
    "    - Pauli $-$ matrix: $\\sigma_-=\\begin{pmatrix}0&0\\\\2&0\\end{pmatrix}$\n",
    "    - $\\vec{\\sigma}=\\begin{pmatrix}\\sigma_x\\\\\\sigma_y\\\\\\sigma_z\\end{pmatrix}$\n",
    "    - Identities\n",
    "        - Their square is the identity matrix($\\sigma_n^2=\\mathbb{I}$).\n",
    "        - They are Hermitian(equal to their conjugate transpose).\n",
    "        - They are equal to their inverse.\n",
    "        - Their trace is $0$.\n",
    "        - Their determinant is $-1$.\n",
    "        - Their product is $i$ time the identity matrix($i\\mathbb{I}$).\n",
    "        - They all have eigenvalues 1 and -1.\n",
    "        - Exponential of pauli matrices: $e^{i\\vec{v}\\cdot\\vec{\\sigma}}=\\cos\\left (|\\vec{v}|\\right )\\mathbb{I}+i\\sin\\left (|\\vec{v}|\\right )\\frac{\\vec{v}\\cdot\\vec{\\sigma}}{|\\vec{v}|}$\n",
    "            - Another form: $e^{i\\vec{v}\\cdot\\vec{\\sigma}}=\\sum_{n=0}^{\\infty}\\frac{(i\\vec{v}\\cdot\\vec{\\sigma})^n}{n!}$\n",
    "        - Exponentials of raising and lowering matrices: $\\exp(\\alpha\\sigma_+)=\\begin{pmatrix}1&2\\alpha\\\\0&1\\end{pmatrix}\\quad\\exp(\\alpha\\sigma_-)=\\begin{pmatrix}1&0\\\\2\\alpha&1\\end{pmatrix}$\n",
    "        - Product of pauli matrices: $\\sigma_i\\sigma_j=\\delta_{ij}\\mathbb{I}+i\\sum_k\\epsilon_{ijk}\\sigma_k$\n",
    "            - $(\\vec{a}\\cdot\\vec{\\sigma})(\\vec{b}\\cdot\\vec{\\sigma})=\\vec{a}\\cdot\\vec{b}\\mathbb{I}+i(\\vec{a}\\times\\vec{b})\\cdot\\vec{\\sigma}$\n",
    "                - If $\\vec{a}=\\vec{b}$, $(\\vec{a}\\cdot\\vec{\\sigma})^2=|\\vec{a}|^2\\mathbb{I}$\n",
    "        - Commutation relations\n",
    "            - $[\\hat{S}_i,\\hat{S}_j]=i\\hbar\\sum_k\\epsilon_{ijk}\\hat{S}_k$\n",
    "            - $[\\sigma_z,\\sigma_\\pm]=\\pm 2\\sigma_\\pm~~\\text{and}~~[\\sigma_+,\\sigma_-]=4\\sigma_z$\n",
    "            - $[\\sigma_z,\\sigma_\\pm]=\\pm 2\\sigma_\\pm~~\\text{and}~~[\\sigma_+,\\sigma_-]=4\\sigma_z$\n",
    "        - Relation to pauli $\\pm$ matrices: $\\sigma_\\pm=\\sigma_x\\pm i\\sigma_y$"
   ]
  },
  {
   "cell_type": "markdown",
   "id": "5dcbd19b",
   "metadata": {},
   "source": [
    "- Symplectic Matrices: $\\hat{K}_0=\\frac{1}{2}\\begin{pmatrix}-1&0\\\\\\phantom{-}0&1\\end{pmatrix},~~\\hat{K}_+=\\begin{pmatrix}\\phantom{-}0&0\\\\-1&0\\end{pmatrix}~~\\text{and}~~\\hat{K}_-=\\begin{pmatrix}0&1\\\\0&0\\end{pmatrix}$\n",
    "    - Commutation relations: $[\\hat{K}_+,\\hat{K}_-]=-2\\hat{K}_0~~\\text{and}~~[\\hat{K}_0,\\hat{K}_\\pm]=\\pm\\hat{K}_\\pm$\n",
    "    - Exponential disentangling identity: $e^{-\\xi K_++2i\\eta K_0+\\xi^* K_-}=\\cosh\\left (\\sqrt{|\\xi|^2-\\eta^2}\\right )\\mathbb{I}+\\sinh(\\sqrt{|\\xi|^2-\\eta^2} )\\frac{-\\xi K_++2i\\eta K_0+\\xi^* K_-}{\\sqrt{|\\xi|^2-\\eta^2}}$\n",
    "- Leibniz Rule: $[\\hat A\\hat B,\\hat C]=\\hat  A [\\hat{B},\\hat{C}]+[\\hat{A},\\hat{C}]\\hat{B}$\n",
    "    - Another form: $[\\hat A,\\hat B\\hat C]=\\hat B[\\hat{A},\\hat{C}]+[\\hat{A},\\hat{B}]\\hat{C}$\n",
    "    - Another form: $[\\hat{A}^2,\\hat{B}]$\n",
    "- Canonical Commutation Relations between position and momentum\n",
    "    - $[\\hat{x},\\hat{p}^n]=ni\\hbar \\hat{p}^{n-1}$\n",
    "    - $[\\hat{p},\\hat{x}^n]=-ni\\hbar \\hat{x}^{n-1}$\n",
    "    - $[\\hat{r}_i,\\hat{p}_j]=i\\hbar\\delta_{ij}$\n",
    "    - An equation of motion: $\\frac{i\\hbar}{m}\\hat{p}_x=[\\hat{r}_x,\\hat{H}]$\n",
    "- Hadamard Lemma: $e^{\\hat{A}}\\hat{B}e^{-\\hat{A}}=\\sum_{n=0}^\\infty\\frac{1}{n!}[\\hat{A},[\\hat{A},\\dots[\\hat{A},[\\hat{A},\\hat{B}]]\\dots]]_n$\n",
    "    - Expanded form: $\\hat{B}+[\\hat{A},\\hat{B}]+\\frac{1}{2}[\\hat{A},[\\hat{A},\\hat{B}]]+\\cdots$\n",
    "    - For calculating the exponentials, expand them using the Taylor series."
   ]
  },
  {
   "cell_type": "code",
   "execution_count": 2,
   "id": "7fda477f",
   "metadata": {},
   "outputs": [
    {
     "data": {
      "text/plain": [
       "2509"
      ]
     },
     "execution_count": 2,
     "metadata": {},
     "output_type": "execute_result"
    }
   ],
   "source": [
    "count=0\n",
    "for i in range(1,7):\n",
    "    count+=binomial(12,i)\n",
    "count"
   ]
  },
  {
   "cell_type": "code",
   "execution_count": null,
   "id": "a69ca863",
   "metadata": {},
   "outputs": [],
   "source": [
    "# Pauli Matrix Identities\n",
    "paulix=matrix([[0, 1],\n",
    "                 [1, 0]])\n",
    "pauliy=matrix([[0, -i],\n",
    "                 [i, 0]])\n",
    "pauliz=matrix([[1, 0],\n",
    "                 [0, -1]])\n",
    "s(paulix^2,pauliy^2,pauliz^2)\n",
    "s(paulix.conjugate().transpose(),pauliy.conjugate().transpose(),pauliz.conjugate().transpose())\n",
    "s(paulix.inverse(),pauliy.inverse(),pauliz.inverse())\n",
    "s(paulix.trace(),pauliy.trace(),pauliz.trace())\n",
    "s(paulix.determinant(),pauliy.determinant(),pauliz.determinant())\n",
    "s(paulix*pauliy*pauliz)\n",
    "s(paulix.eigenvalues(),pauliy.eigenvalues(),pauliz.eigenvalues())"
   ]
  },
  {
   "cell_type": "code",
   "execution_count": null,
   "id": "6a45933a",
   "metadata": {},
   "outputs": [],
   "source": [
    "import qutip as qt\n",
    "\n",
    "sigma_z = qt.sigmaz()  # pauli z matrix\n",
    "plus_x = (qt.basis(2, 0) + qt.basis(2, 1)).unit()  # |ψ⟩\n",
    "\n",
    "expect_o = qt.expect(sigma_z, plus_x)  # ⟨Ô⟩\n",
    "o_sq = sigma_z * sigma_z  # pauli z matrix squared(identity matrix)\n",
    "expect_o_sq = qt.expect(o_sq, plus_x)  # ⟨Ô²⟩\n",
    "s(expect_o,expect_o_sq)"
   ]
  },
  {
   "cell_type": "code",
   "execution_count": null,
   "id": "5e892dd9",
   "metadata": {},
   "outputs": [],
   "source": [
    "var('a b c d f g h j')\n",
    "m=matrix([[a,b],[c,d]])\n",
    "s(m.eigenvalues(),(m^2).eigenvalues())\n",
    "m=matrix([[a+b*i,c+d*i],[f+g*i,h+j*i]])\n",
    "s(m.conjugate().transpose(),m.determinant())\n",
    "s(identity_matrix(2).eigenvalues())"
   ]
  },
  {
   "cell_type": "code",
   "execution_count": null,
   "id": "0f277c93",
   "metadata": {},
   "outputs": [],
   "source": [
    "var('theta')\n",
    "paulix=matrix([[0, 1],\n",
    "               [1, 0]])\n",
    "pauliy=matrix([[0, -i],\n",
    "               [i, 0]])\n",
    "pauliz=matrix([[1, 0],\n",
    "               [0, -1]])\n",
    "s(expand((cos(theta/2)*identity_matrix(2)-i*sin(theta/2)*pauliz)*paulix*(cos(theta/2)*identity_matrix(2)+i*sin(theta/2)*pauliz)))\n",
    "s(expand((cos(theta/2)*identity_matrix(2)-i*sin(theta/2)*pauliz)*pauliy*(cos(theta/2)*identity_matrix(2)+i*sin(theta/2)*pauliz)))\n",
    "s(expand((cos(theta/2)*identity_matrix(2)-i*sin(theta/2)*pauliz)*pauliz*(cos(theta/2)*identity_matrix(2)+i*sin(theta/2)*pauliz)))\n",
    "s(expand((cos(theta/2)*identity_matrix(2)-i*sin(theta/2)*paulix)*paulix*(cos(theta/2)*identity_matrix(2)+i*sin(theta/2)*paulix)))\n",
    "s(expand((cos(theta/2)*identity_matrix(2)-i*sin(theta/2)*paulix)*pauliy*(cos(theta/2)*identity_matrix(2)+i*sin(theta/2)*paulix)))\n",
    "s(expand((cos(theta/2)*identity_matrix(2)-i*sin(theta/2)*paulix)*pauliz*(cos(theta/2)*identity_matrix(2)+i*sin(theta/2)*paulix)))\n",
    "s(expand((cos(theta/2)*identity_matrix(2)-i*sin(theta/2)*pauliy)*paulix*(cos(theta/2)*identity_matrix(2)+i*sin(theta/2)*pauliy)))\n",
    "s(expand((cos(theta/2)*identity_matrix(2)-i*sin(theta/2)*pauliy)*pauliy*(cos(theta/2)*identity_matrix(2)+i*sin(theta/2)*pauliy)))\n",
    "s(expand((cos(theta/2)*identity_matrix(2)-i*sin(theta/2)*pauliy)*pauliz*(cos(theta/2)*identity_matrix(2)+i*sin(theta/2)*pauliy)))"
   ]
  },
  {
   "cell_type": "code",
   "execution_count": null,
   "id": "a27148ae",
   "metadata": {},
   "outputs": [],
   "source": [
    "var('alpha')\n",
    "s(cos(alpha)*identity_matrix(2)+i*sin(alpha)*pauliy)"
   ]
  },
  {
   "cell_type": "code",
   "execution_count": null,
   "id": "3681f20b",
   "metadata": {},
   "outputs": [],
   "source": [
    "var('sigma_x sigma_y sigma_z')\n",
    "paulix=matrix([[0, 1],\n",
    "               [1, 0]])\n",
    "pauliy=matrix([[0, -i],\n",
    "               [i, 0]])\n",
    "pauliz=matrix([[1, 0],\n",
    "               [0, -1]])\n",
    "sigma=vector([sigma_x,sigma_y,sigma_z])\n",
    "a=vector([1,0,1])/sqrt(2)\n",
    "b=vector([0,1,1])/sqrt(2)\n",
    "c=a+b\n",
    "s(factor(a.dot_product(sigma)),factor(b.dot_product(sigma)),factor(c.dot_product(sigma)))\n",
    "s((paulix*pauliy+paulix*pauliz+pauliz*pauliy+pauliz^2)/2)\n",
    "m1=cos(abs(a))*identity_matrix(2)+i*sin(abs(a))*(paulix+pauliz)/sqrt(2)/abs(a)\n",
    "m2=cos(abs(b))*identity_matrix(2)+i*sin(abs(b))*(pauliy+pauliz)/sqrt(2)/abs(b)\n",
    "m3=cos(abs(c))*identity_matrix(2)+i*sin(abs(c))*(paulix+pauliy+2*pauliz)/sqrt(2)/abs(c)\n",
    "s(m1)\n",
    "s(m2)\n",
    "s(m1*m2)\n",
    "s(m3)"
   ]
  },
  {
   "cell_type": "code",
   "execution_count": null,
   "id": "7af86be3",
   "metadata": {},
   "outputs": [],
   "source": [
    "var('beta gamma delta')\n",
    "m1=matrix([[1,2*i*beta],[0,1]])\n",
    "m2=matrix([[exp(i*gamma),0],[0,exp(-i*gamma)]])\n",
    "m3=matrix([[1,0],[2*i*delta,1]])\n",
    "s(m1*m2*m3)\n",
    "s(m3*m2*m1)"
   ]
  },
  {
   "cell_type": "code",
   "execution_count": null,
   "id": "535a7544",
   "metadata": {},
   "outputs": [],
   "source": [
    "var('a b c')\n",
    "m1=matrix([[1,c],[0,1]])\n",
    "m2=matrix([[e^-b,0],[0,e^b]])\n",
    "m3=matrix([[1,0],[-a,1]])\n",
    "s(m1*m2*m3)"
   ]
  },
  {
   "cell_type": "code",
   "execution_count": null,
   "id": "1b10da4d",
   "metadata": {},
   "outputs": [],
   "source": [
    "k0=matrix([[-1,0],[0,1]])/2\n",
    "kp=matrix([[0,0],[-1,0]])/2\n",
    "km=matrix([[0,1],[0,0]])/2\n",
    "s(kp^2,km^2)"
   ]
  },
  {
   "cell_type": "code",
   "execution_count": null,
   "id": "7839031f",
   "metadata": {},
   "outputs": [],
   "source": [
    "var('alpha beta gamma')\n",
    "m1=matrix([[1,0],[-alpha,1]])\n",
    "m2=matrix([[e^-beta,0],[0,e^beta]])\n",
    "m3=matrix([[1,gamma],[0,1]])\n",
    "s(m1*m2*m3)"
   ]
  }
 ],
 "metadata": {
  "kernelspec": {
   "display_name": "SageMath 10.6",
   "language": "sage",
   "name": "sagemath"
  },
  "language_info": {
   "codemirror_mode": {
    "name": "ipython",
    "version": 3
   },
   "file_extension": ".py",
   "mimetype": "text/x-python",
   "name": "sage",
   "nbconvert_exporter": "python",
   "pygments_lexer": "ipython3",
   "version": "3.12.10"
  }
 },
 "nbformat": 4,
 "nbformat_minor": 5
}
