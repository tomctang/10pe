{
 "cells": [
  {
   "cell_type": "markdown",
   "id": "66345d12",
   "metadata": {},
   "source": [
    "# Quantum Mechanics"
   ]
  },
  {
   "cell_type": "markdown",
   "id": "9b284ec6",
   "metadata": {},
   "source": [
    "[QM for Everyone](https://www.edx.org/learn/quantum-physics-mechanics/georgetown-university-quantum-mechanics-for-everyone) is the experimental foundation. \n",
    "\n",
    "In QM, Sage has no specific [quantum module](https://doc.sagemath.org/html/en/reference/algebras/quantum_groups.html), so use [SymPy’s quantum module](https://docs.sympy.org/latest/modules/physics/quantum/index.html) and [Wolfram Quantum Framework](https://www.wolfram.com/quantum-computation-framework/)\n",
    "- [Quantum Mechanics Visualisation Project](https://www.st-andrews.ac.uk/physics/quvis/index.html): interactive games"
   ]
  },
  {
   "cell_type": "markdown",
   "id": "1ca6b9b9",
   "metadata": {},
   "source": [
    "#### tips"
   ]
  },
  {
   "cell_type": "markdown",
   "id": "6c914145",
   "metadata": {},
   "source": [
    "- QM supports Chemistry, and thus founational to Life Sciences\n",
    "  - eg. use the solutions to the Schrödinger Equation to describe how chemical bonds are formed between atoms.\n"
   ]
  },
  {
   "cell_type": "markdown",
   "id": "5a820a5a",
   "metadata": {},
   "source": [
    "<img src=\"https://raw.githubusercontent.com/tomctang/NB_img/main/Branches-of-Physics.png\" alt=\"Branches-of-Physics\" width=\"500\">\n",
    "\n",
    "| **Categories of Physics**  | low speed           | high-speed/energy             | \n",
    "|------------------|---------------------|------------------------|\n",
    "| **macro** size/scale | Classical Mechanics <br> - motion of cars, planets <br> - engineering like buildings, transportation | Relativistic Mechanics <br> - things near black holes or GPS satellites <br> - Cosmology |   \n",
    "| **micro** size/scale | Quantum Mechanics <br> - atoms, electrons <br> - semiconductors, quantum computing | Quantum Field Theory <br> - atom nucleus or particle collisions in accelerators <br> - Particle Physics, Condensed matter(superconductors) |  \n",
    "\n",
    "- **Parallels between CM and QM**\n",
    "\n",
    "| C Mechanics | QM |\n",
    "|---|---|\n",
    "|Statistics Mechanics|quantum field theory|"
   ]
  },
  {
   "cell_type": "markdown",
   "id": "58801dea",
   "metadata": {},
   "source": [
    "## QM for Everyone"
   ]
  },
  {
   "cell_type": "markdown",
   "id": "5205035e",
   "metadata": {},
   "source": [
    "### The Quantum Mechanics of Light"
   ]
  },
  {
   "cell_type": "markdown",
   "id": "fd77a958",
   "metadata": {},
   "source": [
    "Notes\n",
    "- Light is made of particles.\n",
    "    - This has a long history.\n",
    "    - This can be proved using an experiment as when you shoot photons randomly through a single then you will get an pattern with a denser patch where the slit is. If instead it was a wave then it would be uniformly distributed.\n",
    "- Quantum Mechanics Process\n",
    "    1. Identify all events.\n",
    "    1. Find all alternative events that can occur.\n",
    "    1. Use quantum rules to find the amplitude arrow.\n",
    "        - Arrows rotate at a given speed(see below) based on the colour of the photon(1 revolution for every wavelength travelled).\n",
    "    1. Add all the arrows together to construct the final arrow.\n",
    "    1. Square the length of the final arrow to calculate the probability for that event to occur.\n",
    "    1. Add all the probabilities to calculate the total probability.\n",
    "- Calculation for Amplitude Arrows\n",
    "    - Use a clock that spins starting at 12 o'clock.\n",
    "    - Spinning rate through air\n",
    "        - Red Light : 36000 revolutions per inch(this one is mainly used in experiments)\n",
    "        - Green Light : 54000 revolutions per inch\n",
    "        - Blue Light : 72000 revolutions per inch\n",
    "    - Reflection\n",
    "        - Reflection in air on glass : Multiply length by 0.2 and add 0.5 revolutions(6 hours) to the clock.\n",
    "        - Reflection in glass on glass : Just multiply length by 0.2\n",
    "    - Transmission\n",
    "        - Transmission from air to glass : Multiply length by 0.98\n",
    "        - Transmission from glass to air : Multiply length by 0.98\n",
    "- Info on Experiments\n",
    "    - 1-3 : These are experiments where the photons only interact with air and glass.\n",
    "    - 4-? : These experiments mostly have slits that photons have to get through in order to get detected.\n",
    "- Source-Detector Experiments of Light\n",
    "    1. There is only one event so this is boring. Source -> Detector The length is just 1 meaning the final probability is 1.\n",
    "    <img src=\"https://raw.githubusercontent.com/tomctang/NB_img/main/experiment1.png\" alt=\"exp.1\" width=\"200\">\n",
    "    1. The two alternative events are to reflect of the top of the glass or the bottom of the glass. Calculating gives a probability of 3%.\n",
    "    <img src=\"https://raw.githubusercontent.com/tomctang/NB_img/main/experiment2.png\" alt=\"exp.2\" width=\"200\">\n",
    "    1. There is only one event which is where the photon gets transmitted. Using quantum rules gives a probability of 96%.\n",
    "    <img src=\"https://raw.githubusercontent.com/tomctang/NB_img/main/experiment3.png\" alt=\"exp.3\" width=\"150\">\n",
    "        - Even if you change the thickness of the glass, the probability is the same because all of them include one event where there is a transmission."
   ]
  },
  {
   "cell_type": "markdown",
   "id": "2905e7b7",
   "metadata": {},
   "source": [
    "### Advanced Quantum Mechanics with Spins"
   ]
  },
  {
   "cell_type": "markdown",
   "id": "0d09b41b",
   "metadata": {},
   "source": [
    "Notes\n",
    "- Two-Slit Experiment with Stern-Gerlach Analyzer Loop : There are two results using classical and quantum probability. The quantum probability result is correct where since the path taken is indeterminate(you can also say it takes both paths), the atom's state does not change.\n",
    "    - Detector Variant : If a detector is put in the analyzer loop, the atom's x state becomes known meaning it no longer has a state in the z direction.\n",
    "- Einstein-Podolsky-Rosen(EPR) Experiment : This is an experiment where there is a source which fires two atoms with opposite projections in a specific axis and is measured by two analyzers. One analyzer is slightly closer than the other so that we will know the state of the atom that hasn't entered the analyzer yet because we have measured the other atom's state. But say the analyzers are very far away. Then wouldn't the information have been transfered faster than light?\n",
    "    - The hidden variables theory that Einstein made was disproved by Bell's theorems.\n",
    "\n",
    "<img src=\"https://raw.githubusercontent.com/tomctang/NB_img/main/sge.png\" alt=\"seriesgraph\" width=\"500\">"
   ]
  },
  {
   "cell_type": "markdown",
   "id": "fed0b2ee",
   "metadata": {},
   "source": [
    "### Intro & Quantum Probability"
   ]
  },
  {
   "cell_type": "markdown",
   "id": "9854c737",
   "metadata": {},
   "source": [
    "- Fermions : Metals conduct electricity do so because there is a \"sea of electrons\". This is created from the Pauli exclusion principle, since electrons are fermions, and fermions stay apart, they stay apart.\n",
    "- Alpha Particles : Created by radioactive elements. Since it is slow and heavy, it has low penetration power but can damage biological tissue. Smoke detectors use heavy elements to detect smoke as when there is smoke the current flow between the 2 metal plates that are held at different voltages the current is changed.\n",
    "- Magnetic Fields : These are vector fields that are created by magnets.\n",
    "    - The closer to a magnet you are, the stronger the intensity.\n",
    "    - Normally the arrows indicate where the north pole of a magnet will be attracted to.\n",
    "    - Forces in the magnetic field can cause the magnet to move because of a net force or spin because of forces in opposite directions at different ends.\n",
    "        - The net force can be calculated by finding the axis of increasing intensity and then finding the projection of the magnet onto the axis. When doing this it is useful to keep the south pole of the magnet on the axis.\n",
    "    - Fat Arrows : For some magnetic fields, they can be represented by fat arrows where the width is the intensity of the magnetic field and the direction of the arrows is indicated by the fat arrow's direction.\n",
    "    - Magnetic Needles : These are idealized small magnets like those in compasses.\n",
    "- Precession : A rotation that occurs when there is a magnet and a magnetic field.\n",
    "    - Even when there is precession, the projection remains constant as it rotates perpendicular to the axis of increasing field.\n",
    "- Stern-Gerlach Experiment : Atoms are injected through a region of space where because of a magnetic field, there will be precession. 2 magnets will deflect the atom until it hits the screen where there is a detector.\n",
    "    - This experiment has many variants.\n",
    "    - In the quantum world, since everything is random, the atoms' chance of exiting a specific exit for positive and negative can be calculated using a formula.\n",
    "    - Each Stern-Gerlach analyzer measures the atom's projection on a specific axis. If the atom has no projection on that axis then it chooses a random path to take.\n",
    "- Birthday Problem : The problem asks you that how many people must be in a large room for the chance of at least 2 people having the same birthday to be a specific number.\n",
    "    - There are many variants.\n",
    "- Penney's Game : This is an unfair coin game that seems fair at first. If you pick the sequence of coins first then the other person can always pick a sequence to have a greater chance of winning(unlike the same game but with sequences of 2 coins).\n",
    "    - Rules\n",
    "        1. Each player picks a sequence of 3 coins.\n",
    "        1. Flip a coin, then put it at one end of the coins.\n",
    "        1. Continue until the 3 coins in the middle matches a player's sequence.\n",
    "        1. If the 3 coins in the middle matches your sequence, you win this round.\n",
    "        1. Continue for as many rounds as needed."
   ]
  },
  {
   "cell_type": "code",
   "execution_count": null,
   "id": "f2a8ec2a",
   "metadata": {},
   "outputs": [],
   "source": [
    "# Birthday Problem\n",
    "result=False\n",
    "count=0\n",
    "for i in range(100000):\n",
    "    result_in=False\n",
    "    people=23\n",
    "    birthdays=[13,101,155,165]\n",
    "    for i in range(people-4):\n",
    "        birthdays.append (randint(1,365))\n",
    "    birthdays.sort()\n",
    "    for i in range(1,366):\n",
    "        if birthdays.count(i)>2:\n",
    "            result=True\n",
    "            result_in=True\n",
    "    if result_in==True:\n",
    "        count+=1\n",
    "count"
   ]
  },
  {
   "cell_type": "code",
   "execution_count": null,
   "id": "3b57f329",
   "metadata": {},
   "outputs": [],
   "source": [
    "# Penney's Game\n",
    "me_win=0\n",
    "comp_win=0\n",
    "me_coins=[0,1,0]\n",
    "comp_coins=[0,1,1]\n",
    "for i in range(100000):\n",
    "    coins=[2,2,2]\n",
    "    coins_req=[coins[-3],coins[-2],coins[-1]]\n",
    "    while coins_req!=me_coins and coins_req!=comp_coins:\n",
    "        coins.append(randint(0,1))\n",
    "        coins_req=[coins[-3],coins[-2],coins[-1]]\n",
    "    if me_coins==coins_req:\n",
    "        me_win+=1\n",
    "    else:\n",
    "        comp_win+=1\n",
    "s(me_win,comp_win)"
   ]
  },
  {
   "cell_type": "code",
   "execution_count": null,
   "id": "2eaf5207",
   "metadata": {},
   "outputs": [],
   "source": [
    "# ???\n",
    "s(11/12*10/12*9/12*8/12*7/12,1728-385)\n",
    "plot(cos(x/2)^2,(x,0,2*pi), figsize=3)"
   ]
  },
  {
   "cell_type": "code",
   "execution_count": null,
   "id": "9c9cbb31",
   "metadata": {},
   "outputs": [],
   "source": [
    "x=1\n",
    "n=0\n",
    "m=364\n",
    "while x>0.5:\n",
    "    x*=m\n",
    "    m-=1\n",
    "    x/=365\n",
    "    n+=1\n",
    "s(n)"
   ]
  }
 ],
 "metadata": {
  "kernelspec": {
   "display_name": "SageMath 10.6",
   "language": "sage",
   "name": "sagemath"
  },
  "language_info": {
   "codemirror_mode": {
    "name": "ipython",
    "version": 3
   },
   "file_extension": ".py",
   "mimetype": "text/x-python",
   "name": "sage",
   "nbconvert_exporter": "python",
   "pygments_lexer": "ipython3",
   "version": "3.12.10"
  }
 },
 "nbformat": 4,
 "nbformat_minor": 5
}
