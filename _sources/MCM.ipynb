{
 "cells": [
  {
   "cell_type": "markdown",
   "id": "22d2a363-c550-49ec-ac59-7ba9e4df8e24",
   "metadata": {},
   "source": [
    "# Math Computational Methods\n",
    "Physics is naturally speaking math. Physics is math language in nature\n",
    "\n",
    "Power of output <img src=\"https://raw.githubusercontent.com/tomctang/NB_img/main/outputpower.png\" alt=\"vector_cal\" width=\"450\">"
   ]
  },
  {
   "cell_type": "code",
   "execution_count": 1,
   "id": "4efa1a3f",
   "metadata": {
    "vscode": {
     "languageId": "sage"
    }
   },
   "outputs": [],
   "source": [
    "# new show\n",
    "from IPython.display import display, Math\n",
    "def s(expr):\n",
    "    latex_str = f\"${latex(expr)}$\"  # Explicitly wrap in $...$\n",
    "    display(Math(latex_str))"
   ]
  },
  {
   "cell_type": "markdown",
   "id": "fbc4617f-1505-448e-b511-17e51c5f7b4a",
   "metadata": {},
   "source": [
    "## Calculus "
   ]
  },
  {
   "cell_type": "markdown",
   "id": "2d986704",
   "metadata": {},
   "source": [
    "### Review"
   ]
  },
  {
   "cell_type": "markdown",
   "id": "d17da9f8",
   "metadata": {},
   "source": [
    "- The essential of Calculus is how God building this world\n",
    "- [Euler Solution to Basel Problem](https://www.tungsteno.io/post/exa-basel_problem_euler_sinus_product) Euler used infinite products that is similar to Taylor expansion\n",
    "\n",
    "<img src=\"https://raw.githubusercontent.com/tomctang/NB_img/main/seriesgraph.png\" alt=\"seriesgraph\" width=\"550\">\n",
    "\n",
    "<img src=\"https://raw.githubusercontent.com/tomctang/NB_img/main/wks-of-fetal.png\" alt=\"fetalwks\" width=\"550\">\n",
    "\n",
    "\n",
    "<img src=\"https://raw.githubusercontent.com/tomctang/NB_img/main/EngMath_Sequence_01\n",
    ".png\" alt=\"fetalwks\" width=\"650\">\n",
    "<img src=\"https://raw.githubusercontent.com/tomctang/NB_img/main/EngMath_Series_01.png\" alt=\"fetalwks\" width=\"650\">\n",
    "<img src=\"https://raw.githubusercontent.com/tomctang/NB_img/main/EngMath_Series_02.png\" alt=\"fetalwks\" width=\"550\">\n"
   ]
  },
  {
   "cell_type": "markdown",
   "id": "9cd62716-8f48-46e4-87c5-b90e67cc62e0",
   "metadata": {},
   "source": [
    "The difference between Taylor series and MacLaurin series: \n",
    "- Taylor series can be expanded at any $x$ and are more generalized\n",
    "- Maclaurin series are always expanded at $x= 0$"
   ]
  },
  {
   "cell_type": "markdown",
   "id": "8d04b9e1-13a3-488e-a155-06df176745df",
   "metadata": {},
   "source": [
    "Ten Important Identities\n",
    "1. The quadratic equation : $ax^2+bx+c$ has 2 roots $r=\\large\\frac{-b\\pm\\sqrt{b^2-4ac}}{2a}$\n",
    "1. Fundamental trigonometric identity : $\\cos^2{\\theta}+\\sin^2{\\theta}=1$\n",
    "1. Trigonometric Definitions : $\\sec{\\theta}=\\frac{1}{\\cos{\\theta}}\\quad\\tan{\\theta}=\\frac{\\sin{\\theta}}{\\cos{\\theta}}\\quad\\csc{\\theta}=\\frac{1}{\\sin{\\theta}}\\quad\\cot{\\theta}=\\frac{\\cos{\\theta}}{\\sin{\\theta}}$\n",
    "1. Double Angle Formulae : $\\cos{2\\theta}=\\cos^2{\\theta}-\\sin^2{\\theta}\\quad\\sin{2\\theta}=2\\sin{\\theta} \\cos{\\theta}$\n",
    "1. Factorization of the difference of squares : $x^2-a^2=(x+a)(x-a)$\n",
    "\n",
    "1. Geometric Series : $\\large\\sum^{\\infty}_{n=0}x^n=\\frac{1}{1-x}$(very useful) for $|x|<1$ and $\\Sigma^{N}_{n=0}x^n= \\frac{N!}{n!(N-n)!}x^{N-n}y^n$ for all $x$.\n",
    "1. Binomial Theorem : $(x+y)^N=\\sum^{N}_{n=0}\\begin{pmatrix}N\\\\n\\end{pmatrix}x^{Nn}y^n=\\Sigma^{N}_{n=0}\\frac{N!}{n!(N-n)!}x^{N-n}y^n$\n",
    "    - see [Binomial Pyramid](../10pe/02discrete_continuous.ipynb#combinatorics)\n",
    "1. Power series for the exponential : $e^x=\\Sigma^{\\infty}_{n=0}\\frac{1}{n!}x^n$\n",
    "1. Relation for trig functions to exponentials : $\\cos{\\theta}=\\frac{1}{2}(e^{i\\theta}+e^{-i\\theta})$ and $\\sin{\\theta}=\\frac{1}{2i}(e^{i\\theta}-e^{-i\\theta})$\n",
    "1. Relation of hyp functions to exponentials : $\\cosh{x}=\\frac{1}{2}(e^x+e^{-x})$ and $\\sinh{x}=\\frac{1}{2}(e^x-e^{-x})$\n",
    "\n",
    "See coding translation:"
   ]
  },
  {
   "cell_type": "code",
   "execution_count": null,
   "id": "19d5796c",
   "metadata": {
    "vscode": {
     "languageId": "sage"
    }
   },
   "outputs": [
    {
     "data": {
      "text/latex": [
       "$\\displaystyle {\\sum_{n=0}^{+\\infty} x^{n}}$"
      ],
      "text/plain": [
       "<IPython.core.display.Math object>"
      ]
     },
     "metadata": {},
     "output_type": "display_data"
    },
    {
     "data": {
      "text/latex": [
       "$\\displaystyle {\\sum_{x=0}^{n} \\binom{n}{x}} = 2^{n}$"
      ],
      "text/plain": [
       "<IPython.core.display.Math object>"
      ]
     },
     "metadata": {},
     "output_type": "display_data"
    },
    {
     "data": {
      "text/latex": [
       "$\\displaystyle {\\sum_{n=0}^{+\\infty} \\frac{x^{n}}{n!}} = e^{x}$"
      ],
      "text/plain": [
       "<IPython.core.display.Math object>"
      ]
     },
     "metadata": {},
     "output_type": "display_data"
    },
    {
     "data": {
      "text/latex": [
       "$\\displaystyle \\sqrt{{\\sum_{n=1}^{+\\infty} \\frac{6}{n^{2}}}} = 3.14159265358979$"
      ],
      "text/plain": [
       "<IPython.core.display.Math object>"
      ]
     },
     "metadata": {},
     "output_type": "display_data"
    }
   ],
   "source": [
    "# 6 Geometric\n",
    "x,n = var('x,n')\n",
    "f = x^n\n",
    "geo = sum(f,n,0,oo, hold=True)  # oo Infinity\n",
    "s(geo)\n",
    "\n",
    "# 7 Binomial \n",
    "sum1 = sum(binomial(n,x),x,0,n, hold=True) # hold=True: before evaluating\n",
    "s(sum1 == sum1.unhold())\n",
    "\n",
    "# 8 Power Series of e\n",
    "epow = sum(x^n/factorial(n),n,0,oo, hold=True)\n",
    "s(epow == epow.unhold())\n",
    "\n",
    "# converged limit of pi\n",
    "ff = sqrt(sum(6/n^2 ,n,1,oo, hold=True))\n",
    "s(ff == ff.unhold().n())  "
   ]
  },
  {
   "cell_type": "markdown",
   "id": "164090c3-8d44-4200-b2fa-b6f07f26e9ed",
   "metadata": {},
   "source": [
    "Formulae\n",
    "- T Formulae\n",
    "  - $\\large t=\\tan{\\frac{x}{2}}$\n",
    "  - $\\large\\sin{x}=\\frac{2t}{1+t^2}$\n",
    "  - $\\large\\cos{x}=\\frac{1-t^2}{1+t^2}$\n",
    "  - $\\large\\tan{x}=\\frac{2t}{1-t^2}$\n",
    "  - $\\large dx=\\frac{2}{1+t^2}dt$"
   ]
  },
  {
   "cell_type": "markdown",
   "id": "6b8e96c9-61bb-4f94-a585-7fab3fc164a0",
   "metadata": {},
   "source": [
    "Video notes\n",
    "- The much less known inverse pythagoras theorem is $\\large\\frac{1}{a^2}+\\frac{1}{b^2}=\\frac{1}{h^2}$.\n",
    "- The sum of the series $\\sum_{j=1}^nj=\\large\\frac{n(n+1)}{2}$\n",
    "- The sum of the series $\\sum_{j=1}^nj^2=\\large\\frac{n(n+1)(2n+1)}{6}$\n",
    "- From the sum of the 2 previous series $\\sum_{j=1}^nj^3=\\large\\frac{n^2(n+1)^2}{4}$\n",
    "- For trigonometric substitution, both $x=\\sin{\\theta}$ and $x=\\cos{\\theta}$ can be used but use second option.\n",
    "- Gaussian Integral : $\\large\\int_{-\\infty}^{\\infty}dx\\ e^{-x^2}=\\sqrt{\\pi}$\n",
    "- Frullani Integral(useful) : $\\large\\int_0^{\\infty}\\mathrm{d}x\\frac{f(ax)-f(bx)}{x}=(f(0)-f(\\infty))\\ln{\\frac{b}{a}}$\n",
    "- All Pythagorean triplets can be found by using the formula $z$ -> $z^2$ where $z$ is a complex number. The method also requires multiplying by $\\frac{1}{2}$ or integers."
   ]
  },
  {
   "cell_type": "markdown",
   "id": "4d79a315-01cb-43ef-ba7c-be1d5953d604",
   "metadata": {},
   "source": [
    "To find the area bounded by a parametric curve, go to [A-level-further-Module-5](../10pe/Alevel_math_further.ipynb#module-5-further-applications-of-integration)"
   ]
  },
  {
   "cell_type": "markdown",
   "id": "d445c244-5d4a-46d9-9919-5476bf0f680d",
   "metadata": {},
   "source": [
    "- Mass for sphere : $M=\\int_0^Rdr r^2\\rho_0\\int_{-1}^1d\\cos{\\theta}\\int_0^{2\\pi}d\\phi$ where $\\rho_0$ is a constant in $\\rho(r)$.\n",
    "- Feynman Method : Insert a parameter (e.g. $\\alpha$) and evaluate if at a constant (e.g. $\\alpha=1$) then you have to add a $\\large\\frac{d^m}{d\\alpha^m}$ when you integrate the terms with $m$.\n",
    "- Formula for the moment of inertia : $$I=\\int d^3r\\rho(\\bf r)r^2_ \\perp(\\bf r)$$ where $\\rho(\\bf r)$ the mass density at the position $ \\bf r$ and $r_\\perp(\\bf r)$ is the perependicular distance of the position vector at $\\bf r$ to the rotation axis for the moment of inertia.\n",
    "- For sphere of d dimensions : \n",
    "    - D-dimensional vector is $x=(x_1,x_2,\\ldots,x_{d-1},x_d)$\n",
    "    - Spherical Coordinates : ${r(\\text{radius?}),\\theta_1,\\theta_2,\\ldots,\\theta_{d-1}}$\n",
    "    - Which satisfies : $x_1=r\\cos{\\theta_1}, x_2=r\\sin{\\theta_1}\\cos{theta_2}, x_3=r\\sin{\\theta_1}\\sin{\\theta_2}\\cos{\\theta_3},\\ldots,x_{d-1}=r\\sin{\\theta_1}\\sin{\\theta}_2\\ldots\\cos{\\theta_{d- 1}}$\n",
    "    - And also $x_d$ is the same as $x_{d-1}$ except the $\\cos$ is a $\\sin$\n",
    "    - Volume of d-sphere : $V_d=\\int_0^Rdrr^{d-1}\\int_0^\\pi d\\theta_1\\sin^d_2{\\theta_1}$ where sequence has $\\theta_n$ increasing to $\\theta_{n+1}$ and $\\sin$ power decreasing each time by 1 down to 1. Last integral in product : $\\int_0^{2\\pi}d\\theta{d-1}=2\\pi$\n",
    "    - Work out integrals of form $\\int_0^pi d\\theta\\sin^\\alpha\\theta=I(\\alpha)$\n",
    "    - $\\alpha I(\\alpha)=(\\alpha-1)I(\\alpha-2)+2\\delta_{\\alpha=1}$"
   ]
  },
  {
   "cell_type": "markdown",
   "id": "6fd16616",
   "metadata": {},
   "source": [
    "### Problem Set 4"
   ]
  },
  {
   "cell_type": "code",
   "execution_count": 4,
   "id": "e1253698",
   "metadata": {
    "vscode": {
     "languageId": "sage"
    }
   },
   "outputs": [
    {
     "data": {
      "text/latex": [
       "$\\displaystyle {\\sum_{n=0}^{+\\infty} \\left(-1\\right)^{n} {\\left(n + 1\\right)} z^{2 \\, n}} = \\frac{1}{z^{4} + 2 \\, z^{2} + 1}$"
      ],
      "text/plain": [
       "<IPython.core.display.Math object>"
      ]
     },
     "metadata": {},
     "output_type": "display_data"
    }
   ],
   "source": [
    "var('n z')\n",
    "f=(-1)^n*(n+1)*z^(2*n)\n",
    "sum1=sum(f,n,0,oo,hold=True)\n",
    "s(sum1==sum1.unhold())"
   ]
  },
  {
   "cell_type": "code",
   "execution_count": null,
   "id": "8216f1bc",
   "metadata": {
    "vscode": {
     "languageId": "sage"
    }
   },
   "outputs": [
    {
     "data": {
      "text/plain": [
       "-x^3 + 10170*x^2 - 34476300*x + 38958219000"
      ]
     },
     "execution_count": 7,
     "metadata": {},
     "output_type": "execute_result"
    }
   ],
   "source": [
    "expand((3390-x)^3)"
   ]
  },
  {
   "cell_type": "markdown",
   "id": "cf7cd5a1",
   "metadata": {},
   "source": [
    "- how to derive? and present math formula"
   ]
  },
  {
   "cell_type": "code",
   "execution_count": 4,
   "id": "b88a5ce7",
   "metadata": {
    "vscode": {
     "languageId": "sage"
    }
   },
   "outputs": [
    {
     "name": "stdout",
     "output_type": "stream",
     "text": [
      "10\n",
      "90\n",
      "480\n",
      "1680\n",
      "4032\n",
      "6720\n",
      "7680\n",
      "5760\n",
      "2560\n",
      "512\n"
     ]
    }
   ],
   "source": [
    "f(x)=2^(x-1)*binomial(10,x)\n",
    "for i in range(1,11):\n",
    "    print(f(i))"
   ]
  },
  {
   "cell_type": "markdown",
   "id": "8ddc5cef-efc8-4f74-b4fe-f6bfff75115f",
   "metadata": {
    "jp-MarkdownHeadingCollapsed": true
   },
   "source": [
    "### Week 4"
   ]
  },
  {
   "cell_type": "markdown",
   "id": "f1114d79",
   "metadata": {
    "vscode": {
     "languageId": "plaintext"
    }
   },
   "source": [
    "$I_{cylinder} = 2\\pi \\rho \\int_0^h dz \\int_ 0^R dr\\, r^3 = \\frac{1}{2}\\rho \\pi R^4h$"
   ]
  },
  {
   "cell_type": "markdown",
   "id": "ff37078c",
   "metadata": {},
   "source": [
    "For center of mass, integrate over the density formula times the dimension(e.g. for x-coordinates, multiply by x). Center of mass can then be used for moment of inertia."
   ]
  },
  {
   "cell_type": "markdown",
   "id": "c6c2363d",
   "metadata": {},
   "source": [
    "n,r,R,M -- those are commonly occupied by PC, so use full-word, like \"Mass\" et.al"
   ]
  },
  {
   "cell_type": "code",
   "execution_count": 4,
   "id": "4e9f3f7c-7e26-48cd-bc98-54fa93316ed2",
   "metadata": {
    "vscode": {
     "languageId": "sage"
    }
   },
   "outputs": [
    {
     "data": {
      "text/latex": [
       "$\\displaystyle \\int_{0}^{R} \\int_{0}^{\\pi} \\int_{0}^{2 \\, \\pi} r^{2} \\rho_{0} \\sin\\left(\\theta\\right)\\,{d \\phi}\\,{d \\theta}\\,{d r} = \\frac{4}{3} \\, \\pi R^{3} \\rho_{0}$"
      ],
      "text/plain": [
       "<IPython.core.display.Math object>"
      ]
     },
     "metadata": {},
     "output_type": "display_data"
    },
    {
     "data": {
      "text/latex": [
       "$\\displaystyle 0.443113462726379$"
      ],
      "text/plain": [
       "<IPython.core.display.Math object>"
      ]
     },
     "metadata": {},
     "output_type": "display_data"
    },
    {
     "data": {
      "text/latex": [
       "$\\displaystyle 281.322939760601$"
      ],
      "text/plain": [
       "<IPython.core.display.Math object>"
      ]
     },
     "metadata": {},
     "output_type": "display_data"
    },
    {
     "data": {
      "text/latex": [
       "$\\displaystyle \\frac{M r^{4}}{2 \\, R^{2}}$"
      ],
      "text/plain": [
       "<IPython.core.display.Math object>"
      ]
     },
     "metadata": {},
     "output_type": "display_data"
    },
    {
     "data": {
      "text/latex": [
       "$\\displaystyle 0.0416666666666667$"
      ],
      "text/plain": [
       "<IPython.core.display.Math object>"
      ]
     },
     "metadata": {},
     "output_type": "display_data"
    }
   ],
   "source": [
    "# 3D integral\n",
    "var('r theta phi R rho_0')\n",
    "M = integral(integral(integral(rho_0*r^2*sin(theta), phi, 0, 2*pi, hold=True), \n",
    "                                theta, 0, pi, hold=True), \n",
    "                                r, 0, R, hold=True)\n",
    "s(M == M.unhold())\n",
    "\n",
    "r,R,M=var('r,R,M')\n",
    "s(n(sqrt(pi)/4))\n",
    "s(n(sqrt(3)*3*5*7*9*11/2^6))\n",
    "s(integral(2*pi*M/(pi*R^2)*r^3, r))\n",
    "s(n(1/24))"
   ]
  },
  {
   "cell_type": "markdown",
   "id": "42fc548b-a992-455d-981d-1b15734f3b25",
   "metadata": {
    "jp-MarkdownHeadingCollapsed": true
   },
   "source": [
    "### Week 3"
   ]
  },
  {
   "cell_type": "code",
   "execution_count": 5,
   "id": "cc23870a",
   "metadata": {
    "vscode": {
     "languageId": "sage"
    }
   },
   "outputs": [
    {
     "data": {
      "text/latex": [
       "$\\displaystyle \\frac{1}{16} \\, \\pi$"
      ],
      "text/plain": [
       "<IPython.core.display.Math object>"
      ]
     },
     "metadata": {},
     "output_type": "display_data"
    }
   ],
   "source": [
    "a=4\n",
    "s(integral(1/(a^2+x^2), x, 0, a))"
   ]
  },
  {
   "cell_type": "code",
   "execution_count": 6,
   "id": "deeef8e9-e420-48a6-bbf1-5a673c2204ef",
   "metadata": {
    "vscode": {
     "languageId": "sage"
    }
   },
   "outputs": [
    {
     "data": {
      "text/latex": [
       "$\\displaystyle -\\frac{x}{\\sqrt{-x^{2} + 1}}$"
      ],
      "text/plain": [
       "<IPython.core.display.Math object>"
      ]
     },
     "metadata": {},
     "output_type": "display_data"
    },
    {
     "data": {
      "text/latex": [
       "$\\displaystyle 1.57079632679490$"
      ],
      "text/plain": [
       "<IPython.core.display.Math object>"
      ]
     },
     "metadata": {},
     "output_type": "display_data"
    },
    {
     "data": {
      "text/latex": [
       "$\\displaystyle -\\frac{\\sin\\left(x\\right)}{2 \\, {\\left(\\sin\\left(x\\right)^{2} - 1\\right)}} + \\frac{1}{4} \\, \\log\\left(\\sin\\left(x\\right) + 1\\right) - \\frac{1}{4} \\, \\log\\left(\\sin\\left(x\\right) - 1\\right)$"
      ],
      "text/plain": [
       "<IPython.core.display.Math object>"
      ]
     },
     "metadata": {},
     "output_type": "display_data"
    },
    {
     "data": {
      "text/latex": [
       "$\\displaystyle 1.14779357469632$"
      ],
      "text/plain": [
       "<IPython.core.display.Math object>"
      ]
     },
     "metadata": {},
     "output_type": "display_data"
    },
    {
     "data": {
      "text/latex": [
       "$\\displaystyle 0.448798950512828$"
      ],
      "text/plain": [
       "<IPython.core.display.Math object>"
      ]
     },
     "metadata": {},
     "output_type": "display_data"
    },
    {
     "data": {
      "text/latex": [
       "$\\displaystyle 375.476377015253$"
      ],
      "text/plain": [
       "<IPython.core.display.Math object>"
      ]
     },
     "metadata": {},
     "output_type": "display_data"
    }
   ],
   "source": [
    "s(diff(sqrt(1-x^2), x))\n",
    "s(n(pi/2))\n",
    "s(integral(sec(x)^3, x))\n",
    "s(n((ln(1+1/sqrt(2))-ln(1-1/sqrt(2))+4/sqrt(2))/4))\n",
    "s(n(pi/7))\n",
    "f(x)=x*sinh(x)-cosh(x) \n",
    "a=(e^2+e^(-2))/2\n",
    "s(n(2*pi*(f(a)-f(1))))"
   ]
  },
  {
   "cell_type": "code",
   "execution_count": 7,
   "id": "04f87b03-8333-4899-924e-78aa12c427e4",
   "metadata": {
    "vscode": {
     "languageId": "sage"
    }
   },
   "outputs": [
    {
     "data": {
      "text/latex": [
       "$\\displaystyle 375.476377015253$"
      ],
      "text/plain": [
       "<IPython.core.display.Math object>"
      ]
     },
     "metadata": {},
     "output_type": "display_data"
    },
    {
     "data": {
      "text/latex": [
       "$\\displaystyle 3.56312185201375$"
      ],
      "text/plain": [
       "<IPython.core.display.Math object>"
      ]
     },
     "metadata": {},
     "output_type": "display_data"
    },
    {
     "data": {
      "text/latex": [
       "$\\displaystyle 4.44288293815837$"
      ],
      "text/plain": [
       "<IPython.core.display.Math object>"
      ]
     },
     "metadata": {},
     "output_type": "display_data"
    },
    {
     "data": {
      "text/latex": [
       "$\\displaystyle 5.33041350026897$"
      ],
      "text/plain": [
       "<IPython.core.display.Math object>"
      ]
     },
     "metadata": {},
     "output_type": "display_data"
    }
   ],
   "source": [
    "s(n(integral(x*cosh(x), x, 1, cosh(2))*2*pi))\n",
    "s(n(integral(x*sqrt(1+(1/(3*x^(2/3)))^2), x, 0, 1)*2*pi))\n",
    "s(n(sqrt(2)*pi))\n",
    "s(n(integral(x*sqrt(1+4*x^2), x, 0, 1)*2*pi))"
   ]
  },
  {
   "cell_type": "code",
   "execution_count": 8,
   "id": "a4a7d286-d980-4dce-afbd-e3d0ff171e86",
   "metadata": {
    "vscode": {
     "languageId": "sage"
    }
   },
   "outputs": [
    {
     "data": {
      "text/latex": [
       "$\\displaystyle \\frac{1}{2 \\, {\\left(x^{2} + 4\\right)}} - \\frac{1}{8 \\, {\\left(x + 2\\right)}} + \\frac{1}{8 \\, {\\left(x - 2\\right)}}$"
      ],
      "text/plain": [
       "<IPython.core.display.Math object>"
      ]
     },
     "metadata": {},
     "output_type": "display_data"
    },
    {
     "data": {
      "text/latex": [
       "$\\displaystyle 2 \\, \\arctan\\left(\\frac{1}{2} \\, x\\right)$"
      ],
      "text/plain": [
       "<IPython.core.display.Math object>"
      ]
     },
     "metadata": {},
     "output_type": "display_data"
    },
    {
     "data": {
      "text/latex": [
       "$\\displaystyle \\frac{1}{2 \\, {\\left(x^{2} + 4\\right)}} - \\frac{1}{8 \\, {\\left(x + 2\\right)}} + \\frac{1}{8 \\, {\\left(x - 2\\right)}}$"
      ],
      "text/plain": [
       "<IPython.core.display.Math object>"
      ]
     },
     "metadata": {},
     "output_type": "display_data"
    },
    {
     "data": {
      "text/latex": [
       "$\\displaystyle \\frac{x^{2}}{\\sqrt{-x^{2} + 1}} - \\sqrt{-x^{2} + 1} + \\frac{1}{\\sqrt{-x^{2} + 1}}$"
      ],
      "text/plain": [
       "<IPython.core.display.Math object>"
      ]
     },
     "metadata": {},
     "output_type": "display_data"
    },
    {
     "data": {
      "text/latex": [
       "$\\displaystyle \\frac{1}{2} \\, e^{\\left(\\frac{1}{2} \\, x\\right)}$"
      ],
      "text/plain": [
       "<IPython.core.display.Math object>"
      ]
     },
     "metadata": {},
     "output_type": "display_data"
    },
    {
     "data": {
      "text/latex": [
       "$\\displaystyle 2$"
      ],
      "text/plain": [
       "<IPython.core.display.Math object>"
      ]
     },
     "metadata": {},
     "output_type": "display_data"
    }
   ],
   "source": [
    "s((x^2/(x^4-16)).partial_fraction())\n",
    "s(integral(4/(x^2+4), x))\n",
    "s(diff((2*arctan(x/2)-ln(x+2)+ln(x-2))/8, x))\n",
    "s(simplify(diff(arcsin(x)-x*sqrt(1-x^2), x)))\n",
    "s(diff(sqrt(e^x), x))\n",
    "s(diff(2*ln(e^(x)), x))"
   ]
  },
  {
   "cell_type": "markdown",
   "id": "faa824ed-084a-4df5-aa13-b330e7c77a81",
   "metadata": {
    "jp-MarkdownHeadingCollapsed": true
   },
   "source": [
    "### Week 2"
   ]
  },
  {
   "cell_type": "code",
   "execution_count": 10,
   "id": "0058789f-4e5d-460d-810d-7b2a068aee5a",
   "metadata": {
    "vscode": {
     "languageId": "sage"
    }
   },
   "outputs": [
    {
     "data": {
      "image/png": "[encoded data removed]",
      "text/plain": [
       "Graphics object consisting of 1 graphics primitive"
      ]
     },
     "execution_count": 10,
     "metadata": {},
     "output_type": "execute_result"
    }
   ],
   "source": [
    "plot(1-cos(x), (x, -pi, pi), figsize=4)"
   ]
  },
  {
   "cell_type": "code",
   "execution_count": 11,
   "id": "f9885dae-fd5e-484b-aca0-36d396ab2c5d",
   "metadata": {
    "vscode": {
     "languageId": "sage"
    }
   },
   "outputs": [
    {
     "data": {
      "image/png": "[encoded data removed]",
      "text/plain": [
       "Graphics object consisting of 1 graphics primitive"
      ]
     },
     "execution_count": 11,
     "metadata": {},
     "output_type": "execute_result"
    }
   ],
   "source": [
    "plot(ln(e^x+1), (x, -3, 5), figsize=3)"
   ]
  },
  {
   "cell_type": "code",
   "execution_count": null,
   "id": "d756216b-0004-48ca-8a5e-b9803059fa00",
   "metadata": {
    "vscode": {
     "languageId": "sage"
    }
   },
   "outputs": [],
   "source": [
    "var('a,n')\n",
    "f=((-1)^n*x*(a*x)^(2*n+1))/factorial(2*n+2)\n",
    "sum1=sum(f,n,0,oo,hold=True)\n",
    "show(sum1 == sum1.unhold())"
   ]
  },
  {
   "cell_type": "code",
   "execution_count": 2,
   "id": "2da7b279-b918-44cc-8ab3-b908f17ba5f8",
   "metadata": {
    "vscode": {
     "languageId": "sage"
    }
   },
   "outputs": [
    {
     "data": {
      "text/latex": [
       "$\\displaystyle {\\sum_{n=0}^{+\\infty} \\frac{\\left(-1\\right)^{n} \\left(a x\\right)^{2 \\, n + 1}}{\\left(2 \\, n + 1\\right)!}} = \\sin\\left(a x\\right)$"
      ],
      "text/plain": [
       "<IPython.core.display.Math object>"
      ]
     },
     "metadata": {},
     "output_type": "display_data"
    }
   ],
   "source": [
    "var('n,a')\n",
    "f=((-1)^n*(a*x)^(2*n+1))/factorial(2*n+1)\n",
    "sum1 = sum(f,n,0,oo, hold=True) # hold = before evaluating\n",
    "s(sum1 == sum1.unhold())"
   ]
  },
  {
   "cell_type": "code",
   "execution_count": 15,
   "id": "9a3ab788-4559-40b1-852d-6ac18699a8a5",
   "metadata": {
    "vscode": {
     "languageId": "sage"
    }
   },
   "outputs": [
    {
     "data": {
      "text/latex": [
       "$\\displaystyle {\\sum_{n=0}^{+\\infty} \\frac{\\left(-a\\right)^{n} x^{n + 1}}{\\left(n + 1\\right)!}} = \\frac{2 \\, e^{\\left(-\\frac{1}{2} \\, a x\\right)} \\sinh\\left(\\frac{1}{2} \\, a x\\right)}{a}$"
      ],
      "text/plain": [
       "<IPython.core.display.Math object>"
      ]
     },
     "metadata": {},
     "output_type": "display_data"
    },
    {
     "data": {
      "image/png": "[encoded data removed]",
      "text/plain": [
       "Graphics object consisting of 1 graphics primitive"
      ]
     },
     "execution_count": 15,
     "metadata": {},
     "output_type": "execute_result"
    }
   ],
   "source": [
    "a,n,x = var('a,n,x')\n",
    "f=((-a)^n*x^(n+1))/factorial(n+1)\n",
    "sum1 = sum(f,n,0,oo,hold=True)\n",
    "s(sum1 == sum1.unhold())\n",
    "# Every point on the curve can expand to a Taylor series\n",
    "plot(1-e^-x, (x, -3, 3), figsize=3)"
   ]
  },
  {
   "cell_type": "code",
   "execution_count": null,
   "id": "893b1e1e-824e-4684-974d-7b65653090ae",
   "metadata": {
    "vscode": {
     "languageId": "sage"
    }
   },
   "outputs": [],
   "source": [
    "x1=5.99580197536\n",
    "x2=6.05575999511\n",
    "x3=3.83164672531\n",
    "x4=3.86996319256\n",
    "a=6.02-x1\n",
    "b=x2-x1\n",
    "c=a/b\n",
    "d=180+c\n",
    "f=d*0.75\n",
    "g=f-135\n",
    "h=x4-x3\n",
    "j=x3+g*h\n",
    "s(a)\n",
    "s(b)\n",
    "s(c)\n",
    "s(d)\n",
    "s(f)\n",
    "s(g)\n",
    "s(h)\n",
    "s(j)"
   ]
  },
  {
   "cell_type": "code",
   "execution_count": 1,
   "id": "120dbc43-7ba7-4145-bb67-6a9406f23049",
   "metadata": {
    "vscode": {
     "languageId": "sage"
    }
   },
   "outputs": [
    {
     "name": "stdout",
     "output_type": "stream",
     "text": [
      "2.28333333333333\n",
      "2.92896825396825\n",
      "3.31822899322899\n",
      "3.59773965714368\n"
     ]
    }
   ],
   "source": [
    "def sum_recp(n):\n",
    "    ans=0\n",
    "    for i in range(1, n+1):\n",
    "        ans+=1/i\n",
    "    return ans\n",
    "for j in [5, 10, 15, 20]:\n",
    "    print(n(sum_recp(j)))"
   ]
  },
  {
   "cell_type": "markdown",
   "id": "c3ff7681-d3ad-4117-bfbd-815b7adb5f57",
   "metadata": {
    "jp-MarkdownHeadingCollapsed": true
   },
   "source": [
    "### Week 1"
   ]
  },
  {
   "cell_type": "code",
   "execution_count": 1,
   "id": "2fcf6c89-6063-4169-8739-c1aeee194784",
   "metadata": {
    "vscode": {
     "languageId": "sage"
    }
   },
   "outputs": [
    {
     "name": "stdout",
     "output_type": "stream",
     "text": [
      "5.31626930304160\n"
     ]
    }
   ],
   "source": [
    "g=9.81\n",
    "v=3.64/sqrt(3/g)\n",
    "theta=23*pi/180\n",
    "vx=v*cos(theta)\n",
    "vy=v*sin(theta)\n",
    "t1=vy/g\n",
    "s1=g/2*t1^2\n",
    "s2=s1+1.5+0.05*sin(theta)\n",
    "t2=sqrt(2*s2/g)\n",
    "t=t1+t2\n",
    "d=vx*t\n",
    "print(n(d))"
   ]
  },
  {
   "cell_type": "code",
   "execution_count": 3,
   "id": "c954fcb5-e147-456e-bc86-52b278f6b939",
   "metadata": {
    "vscode": {
     "languageId": "sage"
    }
   },
   "outputs": [
    {
     "data": {
      "text/latex": [
       "$\\displaystyle -\\frac{1}{1881169920000} \\, x^{25} + \\frac{11}{156764160000} \\, x^{23} - \\frac{1}{223948800} \\, x^{21} + \\frac{17}{96768000} \\, x^{19} - \\frac{4061}{870912000} \\, x^{17} + \\frac{467}{5443200} \\, x^{15} - \\frac{983}{907200} \\, x^{13} + \\frac{1343}{151200} \\, x^{11} - \\frac{307}{7560} \\, x^{9} + \\frac{17}{315} \\, x^{7} + \\frac{2}{15} \\, x^{5} + \\frac{1}{3} \\, x^{3} + x$"
      ],
      "text/plain": [
       "<IPython.core.display.Math object>"
      ]
     },
     "metadata": {},
     "output_type": "display_data"
    }
   ],
   "source": [
    "s(expand((1+(x^2/2-x^4/24+x^6/720)+(x^2/2-x^4/24+x^6/720)^2+(x^2/2-x^4/24+x^6/720)^3)*(x-x^3/6+x^5/120-x^7/5040)))"
   ]
  },
  {
   "cell_type": "code",
   "execution_count": 4,
   "id": "22c06250-5572-47e7-8f84-f471ef46aa5d",
   "metadata": {
    "vscode": {
     "languageId": "sage"
    }
   },
   "outputs": [
    {
     "data": {
      "text/latex": [
       "$\\displaystyle 0.707106781186548$"
      ],
      "text/plain": [
       "<IPython.core.display.Math object>"
      ]
     },
     "metadata": {},
     "output_type": "display_data"
    },
    {
     "data": {
      "text/latex": [
       "$\\displaystyle 0.000000000000000$"
      ],
      "text/plain": [
       "<IPython.core.display.Math object>"
      ]
     },
     "metadata": {},
     "output_type": "display_data"
    },
    {
     "data": {
      "text/latex": [
       "$\\displaystyle 0.707106782936867$"
      ],
      "text/plain": [
       "<IPython.core.display.Math object>"
      ]
     },
     "metadata": {},
     "output_type": "display_data"
    },
    {
     "data": {
      "text/latex": [
       "$\\displaystyle 1.00000354258429$"
      ],
      "text/plain": [
       "<IPython.core.display.Math object>"
      ]
     },
     "metadata": {},
     "output_type": "display_data"
    }
   ],
   "source": [
    "s(n(sin(pi/4)))\n",
    "f(x)=x-x^3/factorial(3)+x^5/factorial(5)-x^7/factorial(7)+x^9/factorial(9)\n",
    "s(n(f(0)))\n",
    "s(n(f(pi/4)))\n",
    "s(n(f(pi/2)))"
   ]
  },
  {
   "cell_type": "markdown",
   "id": "a3f6e632-104f-4ad8-9aab-63201d472f24",
   "metadata": {},
   "source": [
    "Projectile problem - Correct solution:"
   ]
  },
  {
   "cell_type": "code",
   "execution_count": 6,
   "id": "34a48dc3-3b83-4115-a47c-526da8db2b56",
   "metadata": {
    "vscode": {
     "languageId": "sage"
    }
   },
   "outputs": [
    {
     "name": "stdout",
     "output_type": "stream",
     "text": [
      "566.339564823947\n"
     ]
    }
   ],
   "source": [
    "d=pi/180\n",
    "x,y=var('vy,ty')\n",
    "s=solve([ vy*ty==(200-4*sin(35*d)), vy==9.8*ty ],vy,ty,solution_dict=True)\n",
    "vy=s[1][vy]\n",
    "ty=s[1][ty]\n",
    "D=vy*(cos(35*d)/sin(35*d))*(ty+sqrt(200*ty/vy))\n",
    "print(D.n())"
   ]
  },
  {
   "cell_type": "code",
   "execution_count": 7,
   "id": "4136a98e-b341-410b-8a06-0deda3e3fbd8",
   "metadata": {
    "vscode": {
     "languageId": "sage"
    }
   },
   "outputs": [
    {
     "data": {
      "image/png": "[encoded data removed]",
      "text/plain": [
       "Graphics object consisting of 1 graphics primitive"
      ]
     },
     "execution_count": 7,
     "metadata": {},
     "output_type": "execute_result"
    }
   ],
   "source": [
    "plot(x/sin(x), (x, -pi, pi), figsize=4, ymin=0, ymax=7)"
   ]
  },
  {
   "cell_type": "code",
   "execution_count": 9,
   "id": "f970e6a2-3a11-4838-a0de-93e8bff56132",
   "metadata": {
    "scrolled": true,
    "vscode": {
     "languageId": "sage"
    }
   },
   "outputs": [
    {
     "data": {
      "image/png": "[encoded data removed]",
      "text/plain": [
       "Graphics object consisting of 1 graphics primitive"
      ]
     },
     "metadata": {},
     "output_type": "display_data"
    },
    {
     "data": {
      "image/png": "[encoded data removed]",
      "text/plain": [
       "Graphics object consisting of 1 graphics primitive"
      ]
     },
     "metadata": {},
     "output_type": "display_data"
    },
    {
     "data": {
      "image/png": "[encoded data removed]",
      "text/plain": [
       "Graphics object consisting of 1 graphics primitive"
      ]
     },
     "metadata": {},
     "output_type": "display_data"
    },
    {
     "data": {
      "image/png": "[encoded data removed]",
      "text/plain": [
       "Graphics object consisting of 1 graphics primitive"
      ]
     },
     "metadata": {},
     "output_type": "display_data"
    },
    {
     "data": {
      "image/png": "[encoded data removed]",
      "text/plain": [
       "Graphics object consisting of 1 graphics primitive"
      ]
     },
     "metadata": {},
     "output_type": "display_data"
    },
    {
     "data": {
      "image/png": "[encoded data removed]",
      "text/plain": [
       "Graphics object consisting of 1 graphics primitive"
      ]
     },
     "metadata": {},
     "output_type": "display_data"
    },
    {
     "data": {
      "image/png": "[encoded data removed]",
      "text/plain": [
       "Graphics object consisting of 1 graphics primitive"
      ]
     },
     "metadata": {},
     "output_type": "display_data"
    }
   ],
   "source": [
    "f(x)=1/(1+e^x)\n",
    "show(plot(f(x), (x, -5, 5), figsize=3))\n",
    "show(plot(f(x)+f(-x), (x, -5, 5), figsize=3))\n",
    "show(plot(f(x)-f(-x), (x, -5, 5), figsize=3))\n",
    "show(plot(diff(f(x)), (x, -5, 5), figsize=3))\n",
    "show(plot(f(x)*(1-f(x)), (x, -5, 5), figsize=3))\n",
    "show(plot(f(x)*f(-x), (x, -5, 5), figsize=3))\n",
    "show(plot(x/sin(x), (x, -5, 5), figsize=3, ymin=-5, ymax=5))"
   ]
  },
  {
   "cell_type": "code",
   "execution_count": 8,
   "id": "904106ab-4020-43a4-862c-ddedc54a2203",
   "metadata": {
    "vscode": {
     "languageId": "sage"
    }
   },
   "outputs": [
    {
     "name": "stdout",
     "output_type": "stream",
     "text": [
      "2.75000000000000\n",
      "2.64772727272727\n",
      "2.64575204838080\n",
      "2.64575131106469\n",
      "2.64575131106459\n",
      "2.64575131106459\n"
     ]
    }
   ],
   "source": [
    "s=7\n",
    "x=2\n",
    "for i in range(5):\n",
    "    x=(x+s/x)/2\n",
    "    print(n(x))\n",
    "print(n(sqrt(s)))"
   ]
  },
  {
   "cell_type": "markdown",
   "id": "b3a5a4ff",
   "metadata": {},
   "source": [
    "## Midterm 1-3"
   ]
  },
  {
   "cell_type": "code",
   "execution_count": null,
   "id": "0f685298",
   "metadata": {
    "vscode": {
     "languageId": "sage"
    }
   },
   "outputs": [
    {
     "data": {
      "text/latex": [
       "$\\displaystyle 3^{x} \\log\\left(3\\right)$"
      ],
      "text/plain": [
       "<IPython.core.display.Math object>"
      ]
     },
     "metadata": {},
     "output_type": "display_data"
    },
    {
     "data": {
      "text/latex": [
       "$\\displaystyle 1.07061470371541$"
      ],
      "text/plain": [
       "<IPython.core.display.Math object>"
      ]
     },
     "metadata": {},
     "output_type": "display_data"
    },
    {
     "data": {
      "image/png": "[encoded data removed]",
      "text/plain": [
       "Graphics object consisting of 1 graphics primitive"
      ]
     },
     "metadata": {},
     "output_type": "display_data"
    }
   ],
   "source": [
    "var('a')\n",
    "s(diff(3^x,x))\n",
    "s(n((24*ln(2)-7)/9))\n",
    "plot((x^5-1)/ln(x),(x,0,1))"
   ]
  },
  {
   "cell_type": "markdown",
   "id": "4aa13a88-8e71-46f1-9694-febb06bfb491",
   "metadata": {},
   "source": [
    "## Vector Calculus"
   ]
  },
  {
   "cell_type": "markdown",
   "id": "d28971cb",
   "metadata": {},
   "source": [
    "### Review"
   ]
  },
  {
   "cell_type": "markdown",
   "id": "8386a63c",
   "metadata": {},
   "source": [
    "<img src=\"https://raw.githubusercontent.com/tomctang/NB_img/main/Maxwell_eq1.jpg\" alt=\"vector_cal\" width=\"450\">\n",
    "\n",
    "Maxwell eq:\n",
    "\n",
    "1. Gauss's law for **static** electric fields ($E$)\n",
    "1. Gauss's law for **static** magnetic fields ($B$)\n",
    "1. Faraday's law which says a **changing magnetic field** (over time) produces an electric field\n",
    "1. Ampere-Maxwell's law says a **changing electric field** (over time) produces a magnetic field\n",
    "\n",
    "<img src=\"https://raw.githubusercontent.com/tomctang/NB_img/main/Maxwell_eq2.png\" alt=\"vector_cal\" width=\"800\">"
   ]
  },
  {
   "cell_type": "markdown",
   "id": "86a14692",
   "metadata": {},
   "source": [
    "> Field Theory\n",
    "\n",
    "Scalar field -> Vector field -> Tensor field\n",
    "\n",
    "- a scalar field has 1 value at a given point of a mathematical space (e.g. Euclidean space or manifold), \n",
    "- a vector field has 2 (direction and magnitude), vector field is a special case of a tensor field, or a tensor field of rank 1.\n",
    "- a tensor field has 2+ (e.g. represented by an ellipse at each point with semi-major axis length, semi-minor axis length, and direction)\n",
    "\n",
    "<img src=\"https://upload.wikimedia.org/wikipedia/commons/7/72/Tensor_field.png\" alt=\"vector_cal\" width=\"650\">\n",
    "<img src=\"https://raw.githubusercontent.com/tomctang/NB_img/main/Scalar-vec-mat-tensor.png\" alt=\"vector_cal\" width=\"650\">\n",
    "\n",
    "<img src=\"https://raw.githubusercontent.com/tomctang/NB_img/main/grad_div_curl.png\" alt=\"vector_cal\" width=\"450\">\n",
    "\n",
    "Vector field has two-forms of modelling (use separately or combined): \n",
    "1. connecting to a point, converge or diverge - divergence (e.g. electric charge); \n",
    "    - physical meaning? \n",
    "2. rotating a point - curl (e.g. cyclone, solar, galaxy)\n",
    "\n",
    "<img src=\"https://raw.githubusercontent.com/tomctang/NB_img/main/vectorfield.png\" alt=\"vector_cal\" width=\"800\">\n",
    "\n",
    "Math modelling of vector field: Grad, Div, Curl\n",
    "\n",
    "<img src=\"https://raw.githubusercontent.com/tomctang/NB_img/main/graddivcurl.png\" alt=\"vector_cal\" width=\"650\">\n",
    "\n",
    "<img src=\"https://raw.githubusercontent.com/tomctang/NB_img/main/graddivcurl2.png\" alt=\"vector_cal\" width=\"650\">\n",
    "\n",
    "Comparison of single-var, multi-var, vector calculus\n",
    "\n",
    "<img src=\"https://raw.githubusercontent.com/tomctang/NB_img/main/singlemultivector.png\" alt=\"vector_cal\" width=\"750\">"
   ]
  },
  {
   "cell_type": "markdown",
   "id": "adae4386",
   "metadata": {},
   "source": [
    "The universe try to tell us that when you integrate the \"derivative\" of a function within a region\n",
    "- where the type of integration/derivative/region/function involved might be multidimensional, but what you get just depends on the value on boundary function of that region\n",
    "- this is one of the most beautiful things in the universe.\n",
    "\n",
    "| Formula | Sol: dimensional reduction |\n",
    "| - | - |\n",
    "| Newton-Leibniz formula | 1D -> dot |\n",
    "| Green theorem  | 2D -> 1D |\n",
    "| Gauss'law (Gauss' flux theorem) | 3D -> 2D |\n",
    "| Divergence theorem | nD -> 3D |"
   ]
  },
  {
   "cell_type": "markdown",
   "id": "6a314fba",
   "metadata": {},
   "source": [
    "Notes\n",
    "\n",
    "Div & Curl omitted\n",
    "- Line integral : Related to arc length so formula is $I=\\large\\int_a^bds\\vec{F}\\cdot\\hat{t}=\\int_{x_a}^{x_b}dx\\sqrt{1+(\\frac{df}{dx})^2}\\vec{F}(x)\\cdot\\hat{t}$\n",
    "    - $\\hat{t}$ is the tangent vector to path.\n",
    "    - $\\vec{F}$ is the vector field.\n",
    "    - Then use arc length formula or second section for the line integral.\n",
    "- Stokes' Theorem : $\\oint_Sds\\vec{F}\\cdot\\hat{t}=\\int_SdS(\\nabla\\times\\vec{F})\\cdot\\hat{n}$ or that the line integral around the path and the surface integral over the area bounded by the path is related 1:1.\n",
    "- Gradient($\\nabla f$): \n",
    "    - Cartesian Coordinates : $\\nabla f=\\frac{\\partial f}{\\partial x}\\hat{i}+\\frac{\\partial f}{\\partial y}\\hat{j}+\\frac{\\partial f}{\\partial z}\\hat{k}$\n",
    "    - Polar/Cylindrical Coordinates : $\\nabla f=\\frac{df}{dr}\\hat{r}+\\frac{1}{r}\\frac{df}{d\\theta}\\hat{\\theta}+\\frac{df}{dz}\\hat{z}$\n",
    "    - Spherical Coordinates : $\\nabla f=\\frac{df}{dr}\\hat{r}+\\frac{1}{r}\\frac{df}{d\\theta}\\hat{\\theta}+\\frac{1}{r\\sin{\\theta}}\\frac{df}{d\\phi}\\hat{\\phi}$"
   ]
  },
  {
   "cell_type": "markdown",
   "id": "060010a9",
   "metadata": {},
   "source": [
    "[Generalized Stokes' theorem or Fundamental Theorem of Multivariate Calculus](https://en.wikipedia.org/wiki/Generalized_Stokes_theorem)\n",
    "- In case you are curious, this deeper theorem captures all above theorems (and more) in one formula,\n",
    "- by analysing differential forms on manifolds, which simplifies several theorems from vector calculus "
   ]
  },
  {
   "cell_type": "markdown",
   "id": "ce673853",
   "metadata": {},
   "source": [
    "### Coding review"
   ]
  },
  {
   "cell_type": "markdown",
   "id": "47f6cf3a",
   "metadata": {},
   "source": [
    "[SageManifolds](https://sagemanifolds.obspm.fr/documentation.html) solve differential geometry and tensor calculus of any dimension"
   ]
  },
  {
   "cell_type": "code",
   "execution_count": 2,
   "id": "1ed3f561",
   "metadata": {
    "vscode": {
     "languageId": "sage"
    }
   },
   "outputs": [
    {
     "data": {
      "text/latex": [
       "$\\displaystyle v = \\left( x^{2} - y^{2} \\right) e_{ x } -2 \\, x y e_{ y }$"
      ],
      "text/plain": [
       "<IPython.core.display.Math object>"
      ]
     },
     "metadata": {},
     "output_type": "display_data"
    },
    {
     "data": {
      "text/latex": [
       "$\\displaystyle \\begin{array}{llcl} sca:& \\mathbb{E}^{3} & \\longrightarrow & \\mathbb{R} \\\\ & \\left(x, y, z\\right) & \\longmapsto & x^{2} + y^{2} - z^{2} \\end{array}$"
      ],
      "text/plain": [
       "<IPython.core.display.Math object>"
      ]
     },
     "metadata": {},
     "output_type": "display_data"
    },
    {
     "data": {
      "text/latex": [
       "$\\displaystyle \\begin{array}{llcl} \\mathrm{div}\\left(v\\right):& \\mathbb{E}^{3} & \\longrightarrow & \\mathbb{R} \\\\ & \\left(x, y, z\\right) & \\longmapsto & 0 \\end{array}$"
      ],
      "text/plain": [
       "<IPython.core.display.Math object>"
      ]
     },
     "metadata": {},
     "output_type": "display_data"
    },
    {
     "data": {
      "text/latex": [
       "$\\displaystyle \\mathrm{curl}\\left(v\\right) = 0$"
      ],
      "text/plain": [
       "<IPython.core.display.Math object>"
      ]
     },
     "metadata": {},
     "output_type": "display_data"
    },
    {
     "data": {
      "text/latex": [
       "$\\displaystyle \\mathrm{grad}\\left(sca\\right) = 2 \\, x e_{ x } + 2 \\, y e_{ y } -2 \\, z e_{ z }$"
      ],
      "text/plain": [
       "<IPython.core.display.Math object>"
      ]
     },
     "metadata": {},
     "output_type": "display_data"
    },
    {
     "data": {
      "text/latex": [
       "$\\displaystyle \\begin{array}{llcl} \\Delta\\left(sca\\right):& \\mathbb{E}^{3} & \\longrightarrow & \\mathbb{R} \\\\ & \\left(x, y, z\\right) & \\longmapsto & 2 \\end{array}$"
      ],
      "text/plain": [
       "<IPython.core.display.Math object>"
      ]
     },
     "metadata": {},
     "output_type": "display_data"
    }
   ],
   "source": [
    "# vector field - div, curl\n",
    "E.<x,y,z> = EuclideanSpace()  # set up coordinates in ()\n",
    "v = E.vector_field(x^2-y^2, -2*x*y, 0, name='v')\n",
    "sca = E.scalar_field(x^2+y^2-z^2, name='sca')\n",
    "s(v.display()) # original func\n",
    "s(sca.display())\n",
    "\n",
    "s(v.div().display())\n",
    "s(v.curl().display())\n",
    "from sage.manifolds.operators import grad, laplacian\n",
    "s(grad(sca).display()) \n",
    "s(laplacian(sca).display()) "
   ]
  },
  {
   "cell_type": "code",
   "execution_count": 3,
   "id": "64c0952d",
   "metadata": {
    "vscode": {
     "languageId": "sage"
    }
   },
   "outputs": [
    {
     "data": {
      "text/latex": [
       "$\\displaystyle 0$"
      ],
      "text/plain": [
       "<IPython.core.display.Math object>"
      ]
     },
     "metadata": {},
     "output_type": "display_data"
    },
    {
     "data": {
      "text/latex": [
       "$\\displaystyle \\left(-2 \\, y,\\,2 \\, z,\\,2 \\, x\\right)$"
      ],
      "text/plain": [
       "<IPython.core.display.Math object>"
      ]
     },
     "metadata": {},
     "output_type": "display_data"
    },
    {
     "data": {
      "text/latex": [
       "$\\displaystyle \\mathrm{curl}\\left(v\\right) = -2 \\, y e_{ x } + 2 \\, z e_{ y } + 2 \\, x e_{ z }$"
      ],
      "text/plain": [
       "<IPython.core.display.Math object>"
      ]
     },
     "metadata": {},
     "output_type": "display_data"
    },
    {
     "data": {
      "text/latex": [
       "$\\displaystyle \\left(\\mathbb{E}^{3},(x, y, z)\\right)$"
      ],
      "text/plain": [
       "<IPython.core.display.Math object>"
      ]
     },
     "metadata": {},
     "output_type": "display_data"
    },
    {
     "data": {
      "text/latex": [
       "$\\displaystyle \\left(\\mathbb{E}^{3},({\\rho}, {\\phi}, z)\\right)$"
      ],
      "text/plain": [
       "<IPython.core.display.Math object>"
      ]
     },
     "metadata": {},
     "output_type": "display_data"
    },
    {
     "data": {
      "text/latex": [
       "$\\displaystyle \\left(\\mathbb{E}^{3},(r, {\\theta}, {\\phi})\\right)$"
      ],
      "text/plain": [
       "<IPython.core.display.Math object>"
      ]
     },
     "metadata": {},
     "output_type": "display_data"
    }
   ],
   "source": [
    "# divergence algo (manually)\n",
    "var('x y z') ; Fx=z^2 ; Fy=x^2 ; Fz=-y^2 \n",
    "div = diff(Fx,x) + diff(Fy,y) + diff(Fz,z)  \n",
    "s(div)\n",
    "\n",
    "# curl Approach 1: self-made algorithm\n",
    "curlx = diff(Fz,y) - diff(Fy,z)     \n",
    "curly = diff(Fx,z) - diff(Fz,x)\n",
    "curlz = diff(Fy,x) - diff(Fx,y)\n",
    "s(vector([curlx, curly, curlz]))\n",
    "\n",
    "# curl Approach 2: built-in function\n",
    "E.<x,y,z> = EuclideanSpace()  \n",
    "v = E.vector_field(z^2, x^2, -y^2, name='v')\n",
    "s(v.curl().display())\n",
    "\n",
    "E = EuclideanSpace(3)  # btw: set up \n",
    "s(E.cartesian_coordinates())\n",
    "s(E.cylindrical_coordinates())\n",
    "s(E.spherical_coordinates())"
   ]
  },
  {
   "cell_type": "code",
   "execution_count": 4,
   "id": "e192d44b",
   "metadata": {
    "vscode": {
     "languageId": "sage"
    }
   },
   "outputs": [
    {
     "data": {
      "text/latex": [
       "$\\displaystyle 17.9100000000000$"
      ],
      "text/plain": [
       "<IPython.core.display.Math object>"
      ]
     },
     "metadata": {},
     "output_type": "display_data"
    },
    {
     "data": {
      "text/latex": [
       "$\\displaystyle \\left(28.7800000000000,\\,1.58000000000000,\\,-8.71000000000000\\right)$"
      ],
      "text/plain": [
       "<IPython.core.display.Math object>"
      ]
     },
     "metadata": {},
     "output_type": "display_data"
    },
    {
     "data": {
      "text/latex": [
       "$\\displaystyle \\left(2 \\, t - 4,\\,t^{2},\\,\\frac{1}{4} \\, t^{3}\\right)$"
      ],
      "text/plain": [
       "<IPython.core.display.Math object>"
      ]
     },
     "metadata": {},
     "output_type": "display_data"
    },
    {
     "data": {
      "text/latex": [
       "$\\displaystyle \\left(6,\\,25,\\,\\frac{125}{4}\\right)$"
      ],
      "text/plain": [
       "<IPython.core.display.Math object>"
      ]
     },
     "metadata": {},
     "output_type": "display_data"
    },
    {
     "data": {
      "text/latex": [
       "$\\displaystyle \\left(2,\\,2 \\, t,\\,\\frac{3}{4} \\, t^{2}\\right)$"
      ],
      "text/plain": [
       "<IPython.core.display.Math object>"
      ]
     },
     "metadata": {},
     "output_type": "display_data"
    },
    {
     "data": {
      "text/latex": [
       "$\\displaystyle \\left(2,\\,2,\\,\\frac{3}{4}\\right)$"
      ],
      "text/plain": [
       "<IPython.core.display.Math object>"
      ]
     },
     "metadata": {},
     "output_type": "display_data"
    },
    {
     "data": {
      "text/latex": [
       "$\\displaystyle \\left(0.683486126173409,\\,0.683486126173409,\\,0.256307297315028\\right)$"
      ],
      "text/plain": [
       "<IPython.core.display.Math object>"
      ]
     },
     "metadata": {},
     "output_type": "display_data"
    },
    {
     "data": {
      "text/latex": [
       "$\\displaystyle \\left(2.3169847271197814, 2.572369791753217 \\times 10^{-14}\\right)$"
      ],
      "text/plain": [
       "<IPython.core.display.Math object>"
      ]
     },
     "metadata": {},
     "output_type": "display_data"
    },
    {
     "data": {
      "text/html": [
       "\n",
       "<iframe srcdoc=\"&lt;!DOCTYPE html&gt;\n",
       "&lt;html&gt;\n",
       "&lt;head&gt;\n",
       "&lt;title&gt;&lt;/title&gt;\n",
       "&lt;meta charset=&quot;utf-8&quot;&gt;\n",
       "&lt;meta name=viewport content=&quot;width=device-width, user-scalable=no, minimum-scale=1.0, maximum-scale=1.0&quot;&gt;\n",
       "&lt;style&gt;\n",
       "\n",
       "    body { margin: 0px; overflow: hidden; }\n",
       "\n",
       "    #menu-container { position: absolute; bottom: 30px; right: 40px; cursor: default; }\n",
       "\n",
       "    #menu-message { position: absolute; bottom: 0px; right: 0px; white-space: nowrap;\n",
       "                    display: none; background-color: #F5F5F5; padding: 10px; }\n",
       "\n",
       "    #menu-content { position: absolute; bottom: 0px; right: 0px;\n",
       "                    display: none; background-color: #F5F5F5; border-bottom: 1px solid black;\n",
       "                    border-right: 1px solid black; border-left: 1px solid black; }\n",
       "\n",
       "    #menu-content div { border-top: 1px solid black; padding: 10px; white-space: nowrap; }\n",
       "\n",
       "    #menu-content div:hover { background-color: #FEFEFE; }\n",
       "\n",
       "    .dark-theme #menu-container { color: white; }\n",
       "\n",
       "    .dark-theme #menu-message { background-color: #181818; }\n",
       "\n",
       "    .dark-theme #menu-content { background-color: #181818; border-color: white; }\n",
       "\n",
       "    .dark-theme #menu-content div { border-color: white; }\n",
       "\n",
       "    .dark-theme #menu-content div:hover { background-color: #303030; }\n",
       "\n",
       "&lt;/style&gt;\n",
       "\n",
       "&lt;/head&gt;\n",
       "\n",
       "&lt;body&gt;\n",
       "\n",
       "&lt;script src=&quot;/nbextensions/threejs-sage/r122/three.min.js&quot;&gt;&lt;/script&gt;\n",
       "&lt;script&gt;\n",
       "  if ( !window.THREE ) document.write(&#x27; \\\n",
       "&lt;script src=&quot;https://cdn.jsdelivr.net/gh/sagemath/threejs-sage@r122/build/three.min.js&quot;&gt;&lt;\\/script&gt; \\\n",
       "            &#x27;);\n",
       "&lt;/script&gt;\n",
       "        \n",
       "&lt;script&gt;\n",
       "\n",
       "    var options = {&quot;animate&quot;: false, &quot;animationControls&quot;: true, &quot;aspectRatio&quot;: [1.0, 1.0, 1.0], &quot;autoScaling&quot;: [false, false, false], &quot;autoPlay&quot;: true, &quot;axes&quot;: false, &quot;axesLabels&quot;: [&quot;x&quot;, &quot;y&quot;, &quot;z&quot;], &quot;axesLabelsStyle&quot;: null, &quot;decimals&quot;: 2, &quot;delay&quot;: 20, &quot;frame&quot;: true, &quot;loop&quot;: true, &quot;projection&quot;: &quot;perspective&quot;, &quot;theme&quot;: &quot;light&quot;, &quot;viewpoint&quot;: false};\n",
       "    var animate = options.animate;\n",
       "\n",
       "    if ( options.theme === &#x27;dark&#x27; )\n",
       "        document.body.className = &#x27;dark-theme&#x27;;\n",
       "\n",
       "    var scene = new THREE.Scene();\n",
       "\n",
       "    var renderer = new THREE.WebGLRenderer( { antialias: true, preserveDrawingBuffer: true } );\n",
       "    renderer.setPixelRatio( window.devicePixelRatio );\n",
       "    renderer.setSize( window.innerWidth, window.innerHeight );\n",
       "    renderer.setClearColor( options.theme === &#x27;dark&#x27; ? 0 : 0xffffff, 1 );\n",
       "    document.body.appendChild( renderer.domElement );\n",
       "\n",
       "    var b = [{&quot;x&quot;:0.0, &quot;y&quot;:0.0, &quot;z&quot;:0.0}, {&quot;x&quot;:3.8486994347763406, &quot;y&quot;:3.8486994347763406, &quot;z&quot;:3.141592653589793}]; // bounds\n",
       "\n",
       "    if ( b[0].x === b[1].x ) {\n",
       "        b[0].x -= 1;\n",
       "        b[1].x += 1;\n",
       "    }\n",
       "    if ( b[0].y === b[1].y ) {\n",
       "        b[0].y -= 1;\n",
       "        b[1].y += 1;\n",
       "    }\n",
       "    if ( b[0].z === b[1].z ) {\n",
       "        b[0].z -= 1;\n",
       "        b[1].z += 1;\n",
       "    }\n",
       "\n",
       "    var rxRange = Math.sqrt( Math.pow( b[1].z - b[0].z, 2 )\n",
       "                            + Math.pow( b[1].y - b[0].y, 2 ) );\n",
       "    var ryRange = Math.sqrt( Math.pow( b[1].x - b[0].x, 2 )\n",
       "                            + Math.pow( b[1].z - b[0].z, 2 ) );\n",
       "    var rzRange = Math.sqrt( Math.pow( b[1].x - b[0].x, 2 )\n",
       "                            + Math.pow( b[1].y - b[0].y, 2 ) );\n",
       "    var xRange = b[1].x - b[0].x;\n",
       "    var yRange = b[1].y - b[0].y;\n",
       "    var zRange = b[1].z - b[0].z;\n",
       "\n",
       "    var ar = options.aspectRatio;\n",
       "    var a = [ ar[0], ar[1], ar[2] ]; // aspect multipliers\n",
       "\n",
       "    var autoScaling = options.autoScaling;\n",
       "    var autoAspect = 2.5;\n",
       "    if ( xRange &gt; autoAspect * rxRange &amp;&amp; autoScaling[0] ) a[0] = autoAspect * rxRange / xRange;\n",
       "    if ( yRange &gt; autoAspect * ryRange &amp;&amp; autoScaling[1] ) a[1] = autoAspect * ryRange / yRange;\n",
       "    if ( zRange &gt; autoAspect * rzRange &amp;&amp; autoScaling[2] ) a[2] = autoAspect * rzRange / zRange;\n",
       "\n",
       "    // Distance from (xMid,yMid,zMid) to any corner of the bounding box, after applying aspectRatio\n",
       "    var midToCorner = Math.sqrt( a[0]*a[0]*xRange*xRange + a[1]*a[1]*yRange*yRange + a[2]*a[2]*zRange*zRange ) / 2;\n",
       "\n",
       "    var xMid = ( b[0].x + b[1].x ) / 2;\n",
       "    var yMid = ( b[0].y + b[1].y ) / 2;\n",
       "    var zMid = ( b[0].z + b[1].z ) / 2;\n",
       "\n",
       "    var box = new THREE.Geometry();\n",
       "    box.vertices.push( new THREE.Vector3( a[0]*b[0].x, a[1]*b[0].y, a[2]*b[0].z ) );\n",
       "    box.vertices.push( new THREE.Vector3( a[0]*b[1].x, a[1]*b[1].y, a[2]*b[1].z ) );\n",
       "    var boxMesh = new THREE.Line( box );\n",
       "    var boxColor = options.theme === &#x27;dark&#x27; ? &#x27;white&#x27; : &#x27;black&#x27;;\n",
       "    if ( options.frame ) scene.add( new THREE.BoxHelper( boxMesh, boxColor ) );\n",
       "\n",
       "    if ( options.axesLabels ) {\n",
       "\n",
       "        var d = options.decimals; // decimals\n",
       "        var offsetRatio = 0.1;\n",
       "        var al = options.axesLabels;\n",
       "        var als = options.axesLabelsStyle || [{}, {}, {}];\n",
       "\n",
       "        var offset = offsetRatio * a[1]*( b[1].y - b[0].y );\n",
       "        var xm = xMid.toFixed(d);\n",
       "        if ( /^-0.?0*$/.test(xm) ) xm = xm.substr(1);\n",
       "        addLabel( al[0] + &#x27;=&#x27; + xm, a[0]*xMid, a[1]*b[1].y+offset, a[2]*b[0].z, als[0] );\n",
       "        addLabel( ( b[0].x ).toFixed(d), a[0]*b[0].x, a[1]*b[1].y+offset, a[2]*b[0].z, als[0] );\n",
       "        addLabel( ( b[1].x ).toFixed(d), a[0]*b[1].x, a[1]*b[1].y+offset, a[2]*b[0].z, als[0] );\n",
       "\n",
       "        var offset = offsetRatio * a[0]*( b[1].x - b[0].x );\n",
       "        var ym = yMid.toFixed(d);\n",
       "        if ( /^-0.?0*$/.test(ym) ) ym = ym.substr(1);\n",
       "        addLabel( al[1] + &#x27;=&#x27; + ym, a[0]*b[1].x+offset, a[1]*yMid, a[2]*b[0].z, als[1] );\n",
       "        addLabel( ( b[0].y ).toFixed(d), a[0]*b[1].x+offset, a[1]*b[0].y, a[2]*b[0].z, als[1] );\n",
       "        addLabel( ( b[1].y ).toFixed(d), a[0]*b[1].x+offset, a[1]*b[1].y, a[2]*b[0].z, als[1] );\n",
       "\n",
       "        var offset = offsetRatio * a[1]*( b[1].y - b[0].y );\n",
       "        var zm = zMid.toFixed(d);\n",
       "        if ( /^-0.?0*$/.test(zm) ) zm = zm.substr(1);\n",
       "        addLabel( al[2] + &#x27;=&#x27; + zm, a[0]*b[1].x, a[1]*b[0].y-offset, a[2]*zMid, als[2] );\n",
       "        addLabel( ( b[0].z ).toFixed(d), a[0]*b[1].x, a[1]*b[0].y-offset, a[2]*b[0].z, als[2] );\n",
       "        addLabel( ( b[1].z ).toFixed(d), a[0]*b[1].x, a[1]*b[0].y-offset, a[2]*b[1].z, als[2] );\n",
       "\n",
       "    }\n",
       "\n",
       "    function addLabel( text, x, y, z, style ) {\n",
       "\n",
       "        var color = style.color || &#x27;black&#x27;;\n",
       "        var fontSize = style.fontSize || 14;\n",
       "        var fontFamily = style.fontFamily || &#x27;monospace&#x27;;\n",
       "        var fontStyle = style.fontStyle || &#x27;normal&#x27;;\n",
       "        var fontWeight = style.fontWeight || &#x27;normal&#x27;;\n",
       "        var opacity = style.opacity || 1;\n",
       "\n",
       "        if ( options.theme === &#x27;dark&#x27; )\n",
       "            if ( color === &#x27;black&#x27; || color === &#x27;#000000&#x27; )\n",
       "                color = &#x27;white&#x27;;\n",
       "\n",
       "        if ( Array.isArray( fontStyle ) ) {\n",
       "            fontFamily = fontFamily.map( function( f ) {\n",
       "                // Need to put quotes around fonts that have whitespace in their names.\n",
       "                return /\\s/.test( f ) ? &#x27;&quot;&#x27; + f + &#x27;&quot;&#x27; : f;\n",
       "            }).join(&#x27;, &#x27;);\n",
       "        }\n",
       "\n",
       "        var canvas = document.createElement( &#x27;canvas&#x27; );\n",
       "        var context = canvas.getContext( &#x27;2d&#x27; );\n",
       "        var pixelRatio = Math.round( window.devicePixelRatio );\n",
       "\n",
       "        // For example: italic bold 20px &quot;Times New Roman&quot;, Georgia, serif\n",
       "        var font = [fontStyle, fontWeight, fontSize + &#x27;px&#x27;, fontFamily].join(&#x27; &#x27;);\n",
       "\n",
       "        context.font = font;\n",
       "        var width = context.measureText( text ).width;\n",
       "        var height = fontSize;\n",
       "\n",
       "        // The dimensions of the canvas&#x27;s underlying image data need to be powers\n",
       "        // of two in order for the resulting texture to support mipmapping.\n",
       "        canvas.width = THREE.MathUtils.ceilPowerOfTwo( width * pixelRatio );\n",
       "        canvas.height = THREE.MathUtils.ceilPowerOfTwo( height * pixelRatio );\n",
       "\n",
       "        // Re-compute the unscaled dimensions after the power of two conversion.\n",
       "        width = canvas.width / pixelRatio;\n",
       "        height = canvas.height / pixelRatio;\n",
       "\n",
       "        canvas.style.width = width + &#x27;px&#x27;;\n",
       "        canvas.style.height = height + &#x27;px&#x27;;\n",
       "\n",
       "        context.scale( pixelRatio, pixelRatio );\n",
       "        context.fillStyle = color;\n",
       "        context.font = font; // Must be set again after measureText.\n",
       "        context.textAlign = &#x27;center&#x27;;\n",
       "        context.textBaseline = &#x27;middle&#x27;;\n",
       "        context.fillText( text, width/2, height/2 );\n",
       "\n",
       "        var texture = new THREE.Texture( canvas );\n",
       "        texture.needsUpdate = true;\n",
       "\n",
       "        var materialOptions = { map: texture, sizeAttenuation: false, depthWrite: false };\n",
       "        if ( opacity &lt; 1 ) {\n",
       "            // Setting opacity=1 would cause the texture&#x27;s alpha component to be\n",
       "            // discarded, giving the text a black background instead of the\n",
       "            // background being transparent.\n",
       "            materialOptions.opacity = opacity;\n",
       "        }\n",
       "        var sprite = new THREE.Sprite( new THREE.SpriteMaterial( materialOptions ) );\n",
       "        sprite.position.set( x, y, z );\n",
       "\n",
       "        // Scaling factor, chosen somewhat arbitrarily so that the size of the text\n",
       "        // is consistent with previously generated plots.\n",
       "        var scale = 1/625;\n",
       "        if ( options.projection === &#x27;orthographic&#x27; ) {\n",
       "            scale = midToCorner/256; // Needs to scale along with the plot itself.\n",
       "        }\n",
       "        sprite.scale.set( scale * width, scale * height, 1 );\n",
       "\n",
       "        scene.add( sprite );\n",
       "\n",
       "        return sprite;\n",
       "\n",
       "    }\n",
       "\n",
       "    if ( options.axes ) scene.add( new THREE.AxesHelper( Math.min( a[0]*b[1].x, a[1]*b[1].y, a[2]*b[1].z ) ) );\n",
       "\n",
       "    var camera = createCamera();\n",
       "    camera.up.set( 0, 0, 1 );\n",
       "    camera.position.set( a[0]*xMid, a[1]*yMid, a[2]*zMid );\n",
       "\n",
       "    // camera is positioned so that the line from the camera to the center\n",
       "    // of the bounding sphere of the objects makes an angle of 60 degrees with x-axis\n",
       "    // and an angle of 30 degrees with z-axis and the field of view of the camera looking\n",
       "    // at the center has an angle of 45 degrees.\n",
       "    const sin8 = Math.sin(Math.PI / 8);\n",
       "    const sin5 = Math.sin(Math.PI / 5);\n",
       "    const cos5 = Math.cos(Math.PI / 5);\n",
       "    const sin3 = Math.sin(Math.PI / 3);\n",
       "    const cos3 = Math.cos(Math.PI / 3);\n",
       "    var r = midToCorner / sin8;\n",
       "    var offset = new THREE.Vector3( r * sin3 * cos5, r * sin3 * sin5, r * cos3 );\n",
       "\n",
       "    if ( options.viewpoint ) {\n",
       "\n",
       "        var aa = options.viewpoint;\n",
       "        var axis = new THREE.Vector3( aa[0][0], aa[0][1], aa[0][2] ).normalize();\n",
       "        var angle = aa[1] * Math.PI / 180;\n",
       "        var q = new THREE.Quaternion().setFromAxisAngle( axis, angle ).inverse();\n",
       "\n",
       "        offset.set( 0, 0, offset.length() );\n",
       "        offset.applyQuaternion( q );\n",
       "\n",
       "    }\n",
       "\n",
       "    camera.position.add( offset );\n",
       "\n",
       "    function createCamera() {\n",
       "\n",
       "        var aspect = window.innerWidth / window.innerHeight;\n",
       "\n",
       "        // Scale the near and far clipping planes along with the overall plot size.\n",
       "        var nearClip = 0.01 * midToCorner;\n",
       "        var farClip = 100 * midToCorner;\n",
       "\n",
       "        if ( options.projection === &#x27;orthographic&#x27; ) {\n",
       "            var camera = new THREE.OrthographicCamera( -1, 1, 1, -1, -farClip, farClip );\n",
       "            updateCameraAspect( camera, aspect );\n",
       "            return camera;\n",
       "        }\n",
       "\n",
       "        return new THREE.PerspectiveCamera( 45, aspect, nearClip, farClip );\n",
       "\n",
       "    }\n",
       "\n",
       "    function updateCameraAspect( camera, aspect ) {\n",
       "\n",
       "        if ( camera.isPerspectiveCamera ) {\n",
       "            camera.aspect = aspect;\n",
       "        } else if ( camera.isOrthographicCamera ) {\n",
       "            // Fit the camera frustum to the bounding box&#x27;s diagonal so that the entire plot fits\n",
       "            // within at the default zoom level and camera position.\n",
       "            if ( aspect &gt; 1 ) { // Wide window\n",
       "                camera.top = midToCorner;\n",
       "                camera.right = midToCorner * aspect;\n",
       "            } else { // Tall or square window\n",
       "                camera.top = midToCorner / aspect;\n",
       "                camera.right = midToCorner;\n",
       "            }\n",
       "            camera.bottom = -camera.top;\n",
       "            camera.left = -camera.right;\n",
       "        }\n",
       "\n",
       "        camera.updateProjectionMatrix();\n",
       "\n",
       "    }\n",
       "\n",
       "    var lights = [{&quot;x&quot;:-5, &quot;y&quot;:3, &quot;z&quot;:0, &quot;color&quot;:&quot;#7f7f7f&quot;, &quot;parent&quot;:&quot;camera&quot;}];\n",
       "    for ( var i=0 ; i &lt; lights.length ; i++ ) {\n",
       "        var light = new THREE.DirectionalLight( lights[i].color, 1 );\n",
       "        light.position.set( a[0]*lights[i].x, a[1]*lights[i].y, a[2]*lights[i].z );\n",
       "        if ( lights[i].parent === &#x27;camera&#x27; ) {\n",
       "            light.target.position.set( a[0]*xMid, a[1]*yMid, a[2]*zMid );\n",
       "            scene.add( light.target );\n",
       "            camera.add( light );\n",
       "        } else scene.add( light );\n",
       "    }\n",
       "    scene.add( camera );\n",
       "\n",
       "    var ambient = {&quot;color&quot;:&quot;#7f7f7f&quot;};\n",
       "    scene.add( new THREE.AmbientLight( ambient.color, 1 ) );\n",
       "\n",
       "    var controls = new THREE.OrbitControls( camera, renderer.domElement );\n",
       "    controls.target.set( a[0]*xMid, a[1]*yMid, a[2]*zMid );\n",
       "    controls.addEventListener( &#x27;change&#x27;, function() { if ( !animate ) render(); } );\n",
       "\n",
       "    window.addEventListener( &#x27;resize&#x27;, function() {\n",
       "\n",
       "        renderer.setSize( window.innerWidth, window.innerHeight );\n",
       "        updateCameraAspect( camera, window.innerWidth / window.innerHeight );\n",
       "        if ( window.rescaleFatLines ) rescaleFatLines();\n",
       "        if ( !animate ) render();\n",
       "\n",
       "    } );\n",
       "\n",
       "    var texts = [];\n",
       "    for ( var i=0 ; i &lt; texts.length ; i++ ) addText( texts[i] );\n",
       "\n",
       "    function addText( json ) {\n",
       "        var sprite = addLabel( json.text, a[0]*json.x, a[1]*json.y, a[2]*json.z, json );\n",
       "        sprite.userData = json;\n",
       "    }\n",
       "\n",
       "    var points = [];\n",
       "    for ( var i=0 ; i &lt; points.length ; i++ ) addPoint( points[i] );\n",
       "\n",
       "    function addPoint( json ) {\n",
       "\n",
       "        var geometry = new THREE.Geometry();\n",
       "        var v = json.point;\n",
       "        geometry.vertices.push( new THREE.Vector3( a[0]*v[0], a[1]*v[1], a[2]*v[2] ) );\n",
       "\n",
       "        var canvas = document.createElement( &#x27;canvas&#x27; );\n",
       "        canvas.width = 128;\n",
       "        canvas.height = 128;\n",
       "\n",
       "        var context = canvas.getContext( &#x27;2d&#x27; );\n",
       "        context.arc( 64, 64, 64, 0, 2 * Math.PI );\n",
       "        context.fillStyle = json.color;\n",
       "        context.fill();\n",
       "\n",
       "        var texture = new THREE.Texture( canvas );\n",
       "        texture.needsUpdate = true;\n",
       "\n",
       "        var transparent = json.opacity &lt; 1 ? true : false;\n",
       "        var size = camera.isOrthographicCamera ? json.size : json.size/100;\n",
       "        var material = new THREE.PointsMaterial( { size: size, map: texture,\n",
       "                                                   transparent: transparent, opacity: json.opacity,\n",
       "                                                   alphaTest: .1 } );\n",
       "\n",
       "        var c = new THREE.Vector3();\n",
       "        geometry.computeBoundingBox();\n",
       "        geometry.boundingBox.getCenter( c );\n",
       "        geometry.translate( -c.x, -c.y, -c.z );\n",
       "\n",
       "        var mesh = new THREE.Points( geometry, material );\n",
       "        mesh.position.set( c.x, c.y, c.z );\n",
       "        mesh.userData = json;\n",
       "        scene.add( mesh );\n",
       "\n",
       "    }\n",
       "\n",
       "    var lines = [];\n",
       "    for ( var i=0 ; i &lt; lines.length ; i++ ) addLine( lines[i] );\n",
       "\n",
       "    function addLine( json ) {\n",
       "\n",
       "        var geometry = new THREE.Geometry();\n",
       "        for ( var i=0 ; i &lt; json.points.length ; i++ ) {\n",
       "            var v = json.points[i];\n",
       "            geometry.vertices.push( new THREE.Vector3( a[0]*v[0], a[1]*v[1], a[2]*v[2] ) );\n",
       "        }\n",
       "\n",
       "        var c = new THREE.Vector3();\n",
       "        geometry.computeBoundingBox();\n",
       "        geometry.boundingBox.getCenter( c );\n",
       "        geometry.translate( -c.x, -c.y, -c.z );\n",
       "\n",
       "        var transparent = json.opacity &lt; 1 ? true : false;\n",
       "        var materialOptions = { color: json.color, linewidth: json.linewidth,\n",
       "                                transparent: transparent, opacity: json.opacity };\n",
       "\n",
       "        var mesh;\n",
       "        if ( json.linewidth &gt; 1 &amp;&amp; window.createFatLineStrip ) {\n",
       "            mesh = createFatLineStrip( geometry, materialOptions );\n",
       "        } else {\n",
       "            var material = new THREE.LineBasicMaterial( materialOptions );\n",
       "            mesh = new THREE.Line( geometry, material );\n",
       "        }\n",
       "\n",
       "        mesh.position.set( c.x, c.y, c.z );\n",
       "        mesh.userData = json;\n",
       "        scene.add( mesh );\n",
       "\n",
       "    }\n",
       "\n",
       "    var surfaces = [{&quot;vertices&quot;: [{&quot;x&quot;: 0.0, &quot;y&quot;: 0.0, &quot;z&quot;: 0.0}], &quot;faces&quot;: [], &quot;color&quot;: &quot;#ff0000&quot;, &quot;opacity&quot;: 1.0}, {&quot;vertices&quot;: [{&quot;x&quot;: 0.0, &quot;y&quot;: 0.0, &quot;z&quot;: 0.8545531064893436}, {&quot;x&quot;: 0.009510565162951536, &quot;y&quot;: 0.0030901699437494747, &quot;z&quot;: 0.8545531064893436}, {&quot;x&quot;: 0.0, &quot;y&quot;: 0.01, &quot;z&quot;: 0.8545531064893436}, {&quot;x&quot;: 0.005877852522924732, &quot;y&quot;: -0.008090169943749474, &quot;z&quot;: 0.8545531064893436}, {&quot;x&quot;: -0.005877852522924731, &quot;y&quot;: -0.008090169943749476, &quot;z&quot;: 0.8545531064893436}, {&quot;x&quot;: -0.009510565162951536, &quot;y&quot;: 0.0030901699437494725, &quot;z&quot;: 0.8545531064893436}, {&quot;x&quot;: 0.009510565162951536, &quot;y&quot;: 0.0030901699437494747, &quot;z&quot;: 0.7853981633974483}, {&quot;x&quot;: 0.0, &quot;y&quot;: 0.01, &quot;z&quot;: 0.7853981633974483}, {&quot;x&quot;: 0.005877852522924732, &quot;y&quot;: -0.008090169943749474, &quot;z&quot;: 0.7853981633974483}, {&quot;x&quot;: -0.005877852522924731, &quot;y&quot;: -0.008090169943749476, &quot;z&quot;: 0.7853981633974483}, {&quot;x&quot;: -0.009510565162951536, &quot;y&quot;: 0.0030901699437494725, &quot;z&quot;: 0.7853981633974483}, {&quot;x&quot;: 0.0, &quot;y&quot;: 0.0, &quot;z&quot;: 0.7853981633974483}], &quot;faces&quot;: [[0, 1, 2], [0, 3, 1], [0, 4, 3], [0, 5, 4], [0, 2, 5], [2, 1, 6, 7], [1, 3, 8, 6], [3, 4, 9, 8], [4, 5, 10, 9], [5, 2, 7, 10], [7, 6, 11], [6, 8, 11], [8, 9, 11], [9, 10, 11], [10, 7, 11]], &quot;color&quot;: &quot;#af2800&quot;, &quot;opacity&quot;: 1.0}, {&quot;vertices&quot;: [{&quot;x&quot;: 0.0, &quot;y&quot;: 0.0, &quot;z&quot;: 0.9445531064893435}, {&quot;x&quot;: 0.028531695488854605, &quot;y&quot;: 0.009270509831248424, &quot;z&quot;: 0.8545531064893436}, {&quot;x&quot;: 0.0, &quot;y&quot;: 0.03, &quot;z&quot;: 0.8545531064893436}, {&quot;x&quot;: 0.017633557568774196, &quot;y&quot;: -0.02427050983124842, &quot;z&quot;: 0.8545531064893436}, {&quot;x&quot;: -0.01763355756877419, &quot;y&quot;: -0.024270509831248427, &quot;z&quot;: 0.8545531064893436}, {&quot;x&quot;: -0.02853169548885461, &quot;y&quot;: 0.009270509831248417, &quot;z&quot;: 0.8545531064893436}, {&quot;x&quot;: 0.0, &quot;y&quot;: 0.0, &quot;z&quot;: 0.8545531064893436}], &quot;faces&quot;: [[0, 1, 2], [0, 3, 1], [0, 4, 3], [0, 5, 4], [0, 2, 5], [2, 1, 6], [1, 3, 6], [3, 4, 6], [4, 5, 6], [5, 2, 6]], &quot;color&quot;: &quot;#af2800&quot;, &quot;opacity&quot;: 1.0}, {&quot;vertices&quot;: [{&quot;x&quot;: 0.0, &quot;y&quot;: 0.0, &quot;z&quot;: 1.7058754058341732}, {&quot;x&quot;: 0.009510565162951536, &quot;y&quot;: 0.0030901699437494747, &quot;z&quot;: 1.7058754058341732}, {&quot;x&quot;: 0.0, &quot;y&quot;: 0.01, &quot;z&quot;: 1.7058754058341732}, {&quot;x&quot;: 0.005877852522924732, &quot;y&quot;: -0.008090169943749474, &quot;z&quot;: 1.7058754058341732}, {&quot;x&quot;: -0.005877852522924731, &quot;y&quot;: -0.008090169943749476, &quot;z&quot;: 1.7058754058341732}, {&quot;x&quot;: -0.009510565162951536, &quot;y&quot;: 0.0030901699437494725, &quot;z&quot;: 1.7058754058341732}, {&quot;x&quot;: 0.009510565162951536, &quot;y&quot;: 0.0030901699437494747, &quot;z&quot;: 1.5707963267948966}, {&quot;x&quot;: 0.0, &quot;y&quot;: 0.01, &quot;z&quot;: 1.5707963267948966}, {&quot;x&quot;: 0.005877852522924732, &quot;y&quot;: -0.008090169943749474, &quot;z&quot;: 1.5707963267948966}, {&quot;x&quot;: -0.005877852522924731, &quot;y&quot;: -0.008090169943749476, &quot;z&quot;: 1.5707963267948966}, {&quot;x&quot;: -0.009510565162951536, &quot;y&quot;: 0.0030901699437494725, &quot;z&quot;: 1.5707963267948966}, {&quot;x&quot;: 0.0, &quot;y&quot;: 0.0, &quot;z&quot;: 1.5707963267948966}], &quot;faces&quot;: [[0, 1, 2], [0, 3, 1], [0, 4, 3], [0, 5, 4], [0, 2, 5], [2, 1, 6, 7], [1, 3, 8, 6], [3, 4, 9, 8], [4, 5, 10, 9], [5, 2, 7, 10], [7, 6, 11], [6, 8, 11], [8, 9, 11], [9, 10, 11], [10, 7, 11]], &quot;color&quot;: &quot;#8d3900&quot;, &quot;opacity&quot;: 1.0}, {&quot;vertices&quot;: [{&quot;x&quot;: 0.0, &quot;y&quot;: 0.0, &quot;z&quot;: 1.7958754058341733}, {&quot;x&quot;: 0.028531695488854605, &quot;y&quot;: 0.009270509831248424, &quot;z&quot;: 1.7058754058341732}, {&quot;x&quot;: 0.0, &quot;y&quot;: 0.03, &quot;z&quot;: 1.7058754058341732}, {&quot;x&quot;: 0.017633557568774196, &quot;y&quot;: -0.02427050983124842, &quot;z&quot;: 1.7058754058341732}, {&quot;x&quot;: -0.01763355756877419, &quot;y&quot;: -0.024270509831248427, &quot;z&quot;: 1.7058754058341732}, {&quot;x&quot;: -0.02853169548885461, &quot;y&quot;: 0.009270509831248417, &quot;z&quot;: 1.7058754058341732}, {&quot;x&quot;: 0.0, &quot;y&quot;: 0.0, &quot;z&quot;: 1.7058754058341732}], &quot;faces&quot;: [[0, 1, 2], [0, 3, 1], [0, 4, 3], [0, 5, 4], [0, 2, 5], [2, 1, 6], [1, 3, 6], [3, 4, 6], [4, 5, 6], [5, 2, 6]], &quot;color&quot;: &quot;#8d3900&quot;, &quot;opacity&quot;: 1.0}, {&quot;vertices&quot;: [{&quot;x&quot;: 0.0, &quot;y&quot;: 0.0, &quot;z&quot;: 2.4253494332842402}, {&quot;x&quot;: 0.009510565162951536, &quot;y&quot;: 0.0030901699437494747, &quot;z&quot;: 2.4253494332842402}, {&quot;x&quot;: 0.0, &quot;y&quot;: 0.01, &quot;z&quot;: 2.4253494332842402}, {&quot;x&quot;: 0.005877852522924732, &quot;y&quot;: -0.008090169943749474, &quot;z&quot;: 2.4253494332842402}, {&quot;x&quot;: -0.005877852522924731, &quot;y&quot;: -0.008090169943749476, &quot;z&quot;: 2.4253494332842402}, {&quot;x&quot;: -0.009510565162951536, &quot;y&quot;: 0.0030901699437494725, &quot;z&quot;: 2.4253494332842402}, {&quot;x&quot;: 0.009510565162951536, &quot;y&quot;: 0.0030901699437494747, &quot;z&quot;: 2.356194490192345}, {&quot;x&quot;: 0.0, &quot;y&quot;: 0.01, &quot;z&quot;: 2.356194490192345}, {&quot;x&quot;: 0.005877852522924732, &quot;y&quot;: -0.008090169943749474, &quot;z&quot;: 2.356194490192345}, {&quot;x&quot;: -0.005877852522924731, &quot;y&quot;: -0.008090169943749476, &quot;z&quot;: 2.356194490192345}, {&quot;x&quot;: -0.009510565162951536, &quot;y&quot;: 0.0030901699437494725, &quot;z&quot;: 2.356194490192345}, {&quot;x&quot;: 0.0, &quot;y&quot;: 0.0, &quot;z&quot;: 2.356194490192345}], &quot;faces&quot;: [[0, 1, 2], [0, 3, 1], [0, 4, 3], [0, 5, 4], [0, 2, 5], [2, 1, 6, 7], [1, 3, 8, 6], [3, 4, 9, 8], [4, 5, 10, 9], [5, 2, 7, 10], [7, 6, 11], [6, 8, 11], [8, 9, 11], [9, 10, 11], [10, 7, 11]], &quot;color&quot;: &quot;#af2800&quot;, &quot;opacity&quot;: 1.0}, {&quot;vertices&quot;: [{&quot;x&quot;: 0.0, &quot;y&quot;: 0.0, &quot;z&quot;: 2.51534943328424}, {&quot;x&quot;: 0.028531695488854605, &quot;y&quot;: 0.009270509831248424, &quot;z&quot;: 2.4253494332842402}, {&quot;x&quot;: 0.0, &quot;y&quot;: 0.03, &quot;z&quot;: 2.4253494332842402}, {&quot;x&quot;: 0.017633557568774196, &quot;y&quot;: -0.02427050983124842, &quot;z&quot;: 2.4253494332842402}, {&quot;x&quot;: -0.01763355756877419, &quot;y&quot;: -0.024270509831248427, &quot;z&quot;: 2.4253494332842402}, {&quot;x&quot;: -0.02853169548885461, &quot;y&quot;: 0.009270509831248417, &quot;z&quot;: 2.4253494332842402}, {&quot;x&quot;: 0.0, &quot;y&quot;: 0.0, &quot;z&quot;: 2.4253494332842402}], &quot;faces&quot;: [[0, 1, 2], [0, 3, 1], [0, 4, 3], [0, 5, 4], [0, 2, 5], [2, 1, 6], [1, 3, 6], [3, 4, 6], [4, 5, 6], [5, 2, 6]], &quot;color&quot;: &quot;#af2800&quot;, &quot;opacity&quot;: 1.0}, {&quot;vertices&quot;: [{&quot;x&quot;: 0.0, &quot;y&quot;: 0.0, &quot;z&quot;: 3.141592653589793}, {&quot;x&quot;: 8.738382522496975e-18, &quot;y&quot;: 2.8392725947766553e-18, &quot;z&quot;: 3.141592653589793}, {&quot;x&quot;: 0.0, &quot;y&quot;: 9.18807912334947e-18, &quot;z&quot;: 3.141592653589793}, {&quot;x&quot;: 5.400617405601175e-18, &quot;y&quot;: -7.43331215645139e-18, &quot;z&quot;: 3.141592653589793}, {&quot;x&quot;: -5.400617405601173e-18, &quot;y&quot;: -7.433312156451391e-18, &quot;z&quot;: 3.141592653589793}, {&quot;x&quot;: -8.738382522496977e-18, &quot;y&quot;: 2.8392725947766534e-18, &quot;z&quot;: 3.141592653589793}, {&quot;x&quot;: 0.0, &quot;y&quot;: 0.0, &quot;z&quot;: 3.141592653589793}], &quot;faces&quot;: [[0, 1, 2], [0, 3, 1], [0, 4, 3], [0, 5, 4], [0, 2, 5], [2, 1, 6], [1, 3, 6], [3, 4, 6], [4, 5, 6], [5, 2, 6]], &quot;color&quot;: &quot;#ff0000&quot;, &quot;opacity&quot;: 1.0}, {&quot;vertices&quot;: [{&quot;x&quot;: 0.0, &quot;y&quot;: 0.6986214681008114, &quot;z&quot;: 5.313540106780576e-18}, {&quot;x&quot;: 0.009510565162951536, &quot;y&quot;: 0.6986214681008114, &quot;z&quot;: 0.00309016994374948}, {&quot;x&quot;: 0.0, &quot;y&quot;: 0.6986214681008114, &quot;z&quot;: 0.010000000000000005}, {&quot;x&quot;: 0.005877852522924732, &quot;y&quot;: 0.6986214681008114, &quot;z&quot;: -0.008090169943749469}, {&quot;x&quot;: -0.005877852522924731, &quot;y&quot;: 0.6986214681008114, &quot;z&quot;: -0.00809016994374947}, {&quot;x&quot;: -0.009510565162951536, &quot;y&quot;: 0.6986214681008114, &quot;z&quot;: 0.0030901699437494777}, {&quot;x&quot;: 0.009510565162951536, &quot;y&quot;: 0.7853981633974483, &quot;z&quot;: 0.0030901699437494747}, {&quot;x&quot;: 0.0, &quot;y&quot;: 0.7853981633974483, &quot;z&quot;: 0.01}, {&quot;x&quot;: 0.005877852522924732, &quot;y&quot;: 0.7853981633974483, &quot;z&quot;: -0.008090169943749474}, {&quot;x&quot;: -0.005877852522924731, &quot;y&quot;: 0.7853981633974483, &quot;z&quot;: -0.008090169943749476}, {&quot;x&quot;: -0.009510565162951536, &quot;y&quot;: 0.7853981633974483, &quot;z&quot;: 0.0030901699437494725}, {&quot;x&quot;: 0.0, &quot;y&quot;: 0.7853981633974483, &quot;z&quot;: 0.0}], &quot;faces&quot;: [[0, 1, 2], [0, 3, 1], [0, 4, 3], [0, 5, 4], [0, 2, 5], [2, 1, 6, 7], [1, 3, 8, 6], [3, 4, 9, 8], [4, 5, 10, 9], [5, 2, 7, 10], [7, 6, 11], [6, 8, 11], [8, 9, 11], [9, 10, 11], [10, 7, 11]], &quot;color&quot;: &quot;#a52d00&quot;, &quot;opacity&quot;: 1.0}, {&quot;vertices&quot;: [{&quot;x&quot;: 0.0, &quot;y&quot;: 0.6086214681008114, &quot;z&quot;: 1.0824450702943666e-17}, {&quot;x&quot;: 0.028531695488854605, &quot;y&quot;: 0.6986214681008114, &quot;z&quot;: 0.00927050983124843}, {&quot;x&quot;: 0.0, &quot;y&quot;: 0.6986214681008114, &quot;z&quot;: 0.030000000000000006}, {&quot;x&quot;: 0.017633557568774196, &quot;y&quot;: 0.6986214681008114, &quot;z&quot;: -0.024270509831248413}, {&quot;x&quot;: -0.01763355756877419, &quot;y&quot;: 0.6986214681008114, &quot;z&quot;: -0.02427050983124842}, {&quot;x&quot;: -0.02853169548885461, &quot;y&quot;: 0.6986214681008114, &quot;z&quot;: 0.009270509831248422}, {&quot;x&quot;: 0.0, &quot;y&quot;: 0.6986214681008114, &quot;z&quot;: 5.313540106780576e-18}], &quot;faces&quot;: [[0, 1, 2], [0, 3, 1], [0, 4, 3], [0, 5, 4], [0, 2, 5], [2, 1, 6], [1, 3, 6], [3, 4, 6], [4, 5, 6], [5, 2, 6]], &quot;color&quot;: &quot;#a52d00&quot;, &quot;opacity&quot;: 1.0}, {&quot;vertices&quot;: [{&quot;x&quot;: 0.0, &quot;y&quot;: 0.7159882676329453, &quot;z&quot;: 0.8737735874807591}, {&quot;x&quot;: 0.009510565162951536, &quot;y&quot;: 0.7184184981026495, &quot;z&quot;: 0.8756822860282972}, {&quot;x&quot;: 0.0, &quot;y&quot;: 0.7238526586338991, &quot;z&quot;: 0.8799502657291477}, {&quot;x&quot;: 0.005877852522924732, &quot;y&quot;: 0.7096258416627643, &quot;z&quot;: 0.8687765498090267}, {&quot;x&quot;: -0.005877852522924731, &quot;y&quot;: 0.7096258416627643, &quot;z&quot;: 0.8687765498090267}, {&quot;x&quot;: -0.009510565162951536, &quot;y&quot;: 0.7184184981026495, &quot;z&quot;: 0.8756822860282972}, {&quot;x&quot;: 0.009510565162951536, &quot;y&quot;: 0.7878283938671524, &quot;z&quot;: 0.7873068619449864}, {&quot;x&quot;: 0.0, &quot;y&quot;: 0.7932625543984021, &quot;z&quot;: 0.7915748416458368}, {&quot;x&quot;: 0.005877852522924732, &quot;y&quot;: 0.7790357374272672, &quot;z&quot;: 0.7804011257257158}, {&quot;x&quot;: -0.005877852522924731, &quot;y&quot;: 0.7790357374272672, &quot;z&quot;: 0.7804011257257158}, {&quot;x&quot;: -0.009510565162951536, &quot;y&quot;: 0.7878283938671524, &quot;z&quot;: 0.7873068619449864}, {&quot;x&quot;: 0.0, &quot;y&quot;: 0.7853981633974483, &quot;z&quot;: 0.7853981633974483}], &quot;faces&quot;: [[0, 1, 2], [0, 3, 1], [0, 4, 3], [0, 5, 4], [0, 2, 5], [2, 1, 6, 7], [1, 3, 8, 6], [3, 4, 9, 8], [4, 5, 10, 9], [5, 2, 7, 10], [7, 6, 11], [6, 8, 11], [8, 9, 11], [9, 10, 11], [10, 7, 11]], &quot;color&quot;: &quot;#993300&quot;, &quot;opacity&quot;: 1.0}, {&quot;vertices&quot;: [{&quot;x&quot;: 0.0, &quot;y&quot;: 0.6603981633974483, &quot;z&quot;: 0.9445531064893435}, {&quot;x&quot;: 0.028531695488854605, &quot;y&quot;: 0.7232789590420577, &quot;z&quot;: 0.8794996831233735}, {&quot;x&quot;: 0.0, &quot;y&quot;: 0.7395814406358068, &quot;z&quot;: 0.8923036222259247}, {&quot;x&quot;: 0.017633557568774196, &quot;y&quot;: 0.6969009897224021, &quot;z&quot;: 0.8587824744655618}, {&quot;x&quot;: -0.01763355756877419, &quot;y&quot;: 0.6969009897224021, &quot;z&quot;: 0.8587824744655618}, {&quot;x&quot;: -0.02853169548885461, &quot;y&quot;: 0.7232789590420577, &quot;z&quot;: 0.8794996831233735}, {&quot;x&quot;: 0.0, &quot;y&quot;: 0.7159882676329453, &quot;z&quot;: 0.8737735874807591}], &quot;faces&quot;: [[0, 1, 2], [0, 3, 1], [0, 4, 3], [0, 5, 4], [0, 2, 5], [2, 1, 6], [1, 3, 6], [3, 4, 6], [4, 5, 6], [5, 2, 6]], &quot;color&quot;: &quot;#993300&quot;, &quot;opacity&quot;: 1.0}, {&quot;vertices&quot;: [{&quot;x&quot;: 0.0, &quot;y&quot;: 0.7853981633974483, &quot;z&quot;: 1.7058754058341732}, {&quot;x&quot;: 0.009510565162951536, &quot;y&quot;: 0.7884883333411977, &quot;z&quot;: 1.7058754058341732}, {&quot;x&quot;: 0.0, &quot;y&quot;: 0.7953981633974483, &quot;z&quot;: 1.7058754058341732}, {&quot;x&quot;: 0.005877852522924732, &quot;y&quot;: 0.7773079934536988, &quot;z&quot;: 1.7058754058341732}, {&quot;x&quot;: -0.005877852522924731, &quot;y&quot;: 0.7773079934536988, &quot;z&quot;: 1.7058754058341732}, {&quot;x&quot;: -0.009510565162951536, &quot;y&quot;: 0.7884883333411977, &quot;z&quot;: 1.7058754058341732}, {&quot;x&quot;: 0.009510565162951536, &quot;y&quot;: 0.7884883333411977, &quot;z&quot;: 1.5707963267948966}, {&quot;x&quot;: 0.0, &quot;y&quot;: 0.7953981633974483, &quot;z&quot;: 1.5707963267948966}, {&quot;x&quot;: 0.005877852522924732, &quot;y&quot;: 0.7773079934536988, &quot;z&quot;: 1.5707963267948966}, {&quot;x&quot;: -0.005877852522924731, &quot;y&quot;: 0.7773079934536988, &quot;z&quot;: 1.5707963267948966}, {&quot;x&quot;: -0.009510565162951536, &quot;y&quot;: 0.7884883333411977, &quot;z&quot;: 1.5707963267948966}, {&quot;x&quot;: 0.0, &quot;y&quot;: 0.7853981633974483, &quot;z&quot;: 1.5707963267948966}], &quot;faces&quot;: [[0, 1, 2], [0, 3, 1], [0, 4, 3], [0, 5, 4], [0, 2, 5], [2, 1, 6, 7], [1, 3, 8, 6], [3, 4, 9, 8], [4, 5, 10, 9], [5, 2, 7, 10], [7, 6, 11], [6, 8, 11], [8, 9, 11], [9, 10, 11], [10, 7, 11]], &quot;color&quot;: &quot;#8d3900&quot;, &quot;opacity&quot;: 1.0}, {&quot;vertices&quot;: [{&quot;x&quot;: 0.0, &quot;y&quot;: 0.7853981633974483, &quot;z&quot;: 1.7958754058341733}, {&quot;x&quot;: 0.028531695488854605, &quot;y&quot;: 0.7946686732286967, &quot;z&quot;: 1.7058754058341732}, {&quot;x&quot;: 0.0, &quot;y&quot;: 0.8153981633974483, &quot;z&quot;: 1.7058754058341732}, {&quot;x&quot;: 0.017633557568774196, &quot;y&quot;: 0.7611276535661998, &quot;z&quot;: 1.7058754058341732}, {&quot;x&quot;: -0.01763355756877419, &quot;y&quot;: 0.7611276535661998, &quot;z&quot;: 1.7058754058341732}, {&quot;x&quot;: -0.02853169548885461, &quot;y&quot;: 0.7946686732286967, &quot;z&quot;: 1.7058754058341732}, {&quot;x&quot;: 0.0, &quot;y&quot;: 0.7853981633974483, &quot;z&quot;: 1.7058754058341732}], &quot;faces&quot;: [[0, 1, 2], [0, 3, 1], [0, 4, 3], [0, 5, 4], [0, 2, 5], [2, 1, 6], [1, 3, 6], [3, 4, 6], [4, 5, 6], [5, 2, 6]], &quot;color&quot;: &quot;#8d3900&quot;, &quot;opacity&quot;: 1.0}, {&quot;vertices&quot;: [{&quot;x&quot;: 0.0, &quot;y&quot;: 0.8548080591619512, &quot;z&quot;: 2.4445699142756556}, {&quot;x&quot;: 0.009510565162951536, &quot;y&quot;: 0.8572382896316554, &quot;z&quot;: 2.4426612157281173}, {&quot;x&quot;: 0.0, &quot;y&quot;: 0.8626724501629051, &quot;z&quot;: 2.438393236027267}, {&quot;x&quot;: 0.005877852522924732, &quot;y&quot;: 0.8484456331917701, &quot;z&quot;: 2.449566951947388}, {&quot;x&quot;: -0.005877852522924731, &quot;y&quot;: 0.8484456331917701, &quot;z&quot;: 2.449566951947388}, {&quot;x&quot;: -0.009510565162951536, &quot;y&quot;: 0.8572382896316554, &quot;z&quot;: 2.4426612157281173}, {&quot;x&quot;: 0.009510565162951536, &quot;y&quot;: 0.7878283938671524, &quot;z&quot;: 2.3542857916448066}, {&quot;x&quot;: 0.0, &quot;y&quot;: 0.7932625543984021, &quot;z&quot;: 2.3500178119439563}, {&quot;x&quot;: 0.005877852522924732, &quot;y&quot;: 0.7790357374272672, &quot;z&quot;: 2.361191527864077}, {&quot;x&quot;: -0.005877852522924731, &quot;y&quot;: 0.7790357374272672, &quot;z&quot;: 2.361191527864077}, {&quot;x&quot;: -0.009510565162951536, &quot;y&quot;: 0.7878283938671524, &quot;z&quot;: 2.3542857916448066}, {&quot;x&quot;: 0.0, &quot;y&quot;: 0.7853981633974483, &quot;z&quot;: 2.356194490192345}], &quot;faces&quot;: [[0, 1, 2], [0, 3, 1], [0, 4, 3], [0, 5, 4], [0, 2, 5], [2, 1, 6, 7], [1, 3, 8, 6], [3, 4, 9, 8], [4, 5, 10, 9], [5, 2, 7, 10], [7, 6, 11], [6, 8, 11], [8, 9, 11], [9, 10, 11], [10, 7, 11]], &quot;color&quot;: &quot;#993300&quot;, &quot;opacity&quot;: 1.0}, {&quot;vertices&quot;: [{&quot;x&quot;: 0.0, &quot;y&quot;: 0.9103981633974483, &quot;z&quot;: 2.51534943328424}, {&quot;x&quot;: 0.028531695488854605, &quot;y&quot;: 0.8620987505710637, &quot;z&quot;: 2.4388438186330412}, {&quot;x&quot;: 0.0, &quot;y&quot;: 0.8784012321648127, &quot;z&quot;: 2.42603987953049}, {&quot;x&quot;: 0.017633557568774196, &quot;y&quot;: 0.835720781251408, &quot;z&quot;: 2.459561027290853}, {&quot;x&quot;: -0.01763355756877419, &quot;y&quot;: 0.835720781251408, &quot;z&quot;: 2.459561027290853}, {&quot;x&quot;: -0.02853169548885461, &quot;y&quot;: 0.8620987505710637, &quot;z&quot;: 2.4388438186330412}, {&quot;x&quot;: 0.0, &quot;y&quot;: 0.8548080591619512, &quot;z&quot;: 2.4445699142756556}], &quot;faces&quot;: [[0, 1, 2], [0, 3, 1], [0, 4, 3], [0, 5, 4], [0, 2, 5], [2, 1, 6], [1, 3, 6], [3, 4, 6], [4, 5, 6], [5, 2, 6]], &quot;color&quot;: &quot;#993300&quot;, &quot;opacity&quot;: 1.0}, {&quot;vertices&quot;: [{&quot;x&quot;: 0.0, &quot;y&quot;: 0.8721748586940852, &quot;z&quot;: 3.141592653589793}, {&quot;x&quot;: 0.009510565162951536, &quot;y&quot;: 0.8721748586940852, &quot;z&quot;: 3.1385024836460436}, {&quot;x&quot;: 0.0, &quot;y&quot;: 0.8721748586940852, &quot;z&quot;: 3.1315926535897933}, {&quot;x&quot;: 0.005877852522924732, &quot;y&quot;: 0.8721748586940852, &quot;z&quot;: 3.1496828235335426}, {&quot;x&quot;: -0.005877852522924731, &quot;y&quot;: 0.8721748586940852, &quot;z&quot;: 3.1496828235335426}, {&quot;x&quot;: -0.009510565162951536, &quot;y&quot;: 0.8721748586940852, &quot;z&quot;: 3.1385024836460436}, {&quot;x&quot;: 0.009510565162951536, &quot;y&quot;: 0.7853981633974483, &quot;z&quot;: 3.1385024836460436}, {&quot;x&quot;: 0.0, &quot;y&quot;: 0.7853981633974483, &quot;z&quot;: 3.1315926535897933}, {&quot;x&quot;: 0.005877852522924732, &quot;y&quot;: 0.7853981633974483, &quot;z&quot;: 3.1496828235335426}, {&quot;x&quot;: -0.005877852522924731, &quot;y&quot;: 0.7853981633974483, &quot;z&quot;: 3.1496828235335426}, {&quot;x&quot;: -0.009510565162951536, &quot;y&quot;: 0.7853981633974483, &quot;z&quot;: 3.1385024836460436}, {&quot;x&quot;: 0.0, &quot;y&quot;: 0.7853981633974483, &quot;z&quot;: 3.141592653589793}], &quot;faces&quot;: [[0, 1, 2], [0, 3, 1], [0, 4, 3], [0, 5, 4], [0, 2, 5], [2, 1, 6, 7], [1, 3, 8, 6], [3, 4, 9, 8], [4, 5, 10, 9], [5, 2, 7, 10], [7, 6, 11], [6, 8, 11], [8, 9, 11], [9, 10, 11], [10, 7, 11]], &quot;color&quot;: &quot;#a52d00&quot;, &quot;opacity&quot;: 1.0}, {&quot;vertices&quot;: [{&quot;x&quot;: 0.0, &quot;y&quot;: 0.9621748586940851, &quot;z&quot;: 3.141592653589793}, {&quot;x&quot;: 0.028531695488854605, &quot;y&quot;: 0.8721748586940852, &quot;z&quot;: 3.132322143758545}, {&quot;x&quot;: 0.0, &quot;y&quot;: 0.8721748586940852, &quot;z&quot;: 3.1115926535897933}, {&quot;x&quot;: 0.017633557568774196, &quot;y&quot;: 0.8721748586940852, &quot;z&quot;: 3.1658631634210415}, {&quot;x&quot;: -0.01763355756877419, &quot;y&quot;: 0.8721748586940852, &quot;z&quot;: 3.1658631634210415}, {&quot;x&quot;: -0.02853169548885461, &quot;y&quot;: 0.8721748586940852, &quot;z&quot;: 3.132322143758545}, {&quot;x&quot;: 0.0, &quot;y&quot;: 0.8721748586940852, &quot;z&quot;: 3.141592653589793}], &quot;faces&quot;: [[0, 1, 2], [0, 3, 1], [0, 4, 3], [0, 5, 4], [0, 2, 5], [2, 1, 6], [1, 3, 6], [3, 4, 6], [4, 5, 6], [5, 2, 6]], &quot;color&quot;: &quot;#a52d00&quot;, &quot;opacity&quot;: 1.0}, {&quot;vertices&quot;: [{&quot;x&quot;: 0.0, &quot;y&quot;: 1.307242936201623, &quot;z&quot;: 1.6137990809724243e-17}, {&quot;x&quot;: 0.009510565162951536, &quot;y&quot;: 1.307242936201623, &quot;z&quot;: 0.0030901699437494907}, {&quot;x&quot;: 0.0, &quot;y&quot;: 1.307242936201623, &quot;z&quot;: 0.010000000000000016}, {&quot;x&quot;: 0.005877852522924732, &quot;y&quot;: 1.307242936201623, &quot;z&quot;: -0.008090169943749458}, {&quot;x&quot;: -0.005877852522924731, &quot;y&quot;: 1.307242936201623, &quot;z&quot;: -0.00809016994374946}, {&quot;x&quot;: -0.009510565162951536, &quot;y&quot;: 1.307242936201623, &quot;z&quot;: 0.0030901699437494885}, {&quot;x&quot;: 0.009510565162951536, &quot;y&quot;: 1.5707963267948966, &quot;z&quot;: 0.0030901699437494747}, {&quot;x&quot;: 0.0, &quot;y&quot;: 1.5707963267948966, &quot;z&quot;: 0.01}, {&quot;x&quot;: 0.005877852522924732, &quot;y&quot;: 1.5707963267948966, &quot;z&quot;: -0.008090169943749474}, {&quot;x&quot;: -0.005877852522924731, &quot;y&quot;: 1.5707963267948966, &quot;z&quot;: -0.008090169943749476}, {&quot;x&quot;: -0.009510565162951536, &quot;y&quot;: 1.5707963267948966, &quot;z&quot;: 0.0030901699437494725}, {&quot;x&quot;: 0.0, &quot;y&quot;: 1.5707963267948966, &quot;z&quot;: 0.0}], &quot;faces&quot;: [[0, 1, 2], [0, 3, 1], [0, 4, 3], [0, 5, 4], [0, 2, 5], [2, 1, 6, 7], [1, 3, 8, 6], [3, 4, 9, 8], [4, 5, 10, 9], [5, 2, 7, 10], [7, 6, 11], [6, 8, 11], [8, 9, 11], [9, 10, 11], [10, 7, 11]], &quot;color&quot;: &quot;#4b5a00&quot;, &quot;opacity&quot;: 1.0}, {&quot;vertices&quot;: [{&quot;x&quot;: 0.0, &quot;y&quot;: 1.2172429362016228, &quot;z&quot;: 2.1648901405887332e-17}, {&quot;x&quot;: 0.028531695488854605, &quot;y&quot;: 1.307242936201623, &quot;z&quot;: 0.00927050983124844}, {&quot;x&quot;: 0.0, &quot;y&quot;: 1.307242936201623, &quot;z&quot;: 0.030000000000000016}, {&quot;x&quot;: 0.017633557568774196, &quot;y&quot;: 1.307242936201623, &quot;z&quot;: -0.024270509831248403}, {&quot;x&quot;: -0.01763355756877419, &quot;y&quot;: 1.307242936201623, &quot;z&quot;: -0.02427050983124841}, {&quot;x&quot;: -0.02853169548885461, &quot;y&quot;: 1.307242936201623, &quot;z&quot;: 0.009270509831248433}, {&quot;x&quot;: 0.0, &quot;y&quot;: 1.307242936201623, &quot;z&quot;: 1.6137990809724243e-17}], &quot;faces&quot;: [[0, 1, 2], [0, 3, 1], [0, 4, 3], [0, 5, 4], [0, 2, 5], [2, 1, 6], [1, 3, 6], [3, 4, 6], [4, 5, 6], [5, 2, 6]], &quot;color&quot;: &quot;#4b5a00&quot;, &quot;opacity&quot;: 1.0}, {&quot;vertices&quot;: [{&quot;x&quot;: 0.0, &quot;y&quot;: 1.3967170515210858, &quot;z&quot;: 0.8962204719961753}, {&quot;x&quot;: 0.009510565162951536, &quot;y&quot;: 1.398376563236786, &quot;z&quot;: 0.8988272269034702}, {&quot;x&quot;: 0.0, &quot;y&quot;: 1.4020873442425488, &quot;z&quot;: 0.9046561080768629}, {&quot;x&quot;: 0.005877852522924732, &quot;y&quot;: 1.392372393444654, &quot;z&quot;: 0.8893958990485364}, {&quot;x&quot;: -0.005877852522924731, &quot;y&quot;: 1.392372393444654, &quot;z&quot;: 0.8893958990485364}, {&quot;x&quot;: -0.009510565162951536, &quot;y&quot;: 1.398376563236786, &quot;z&quot;: 0.8988272269034702}, {&quot;x&quot;: 0.009510565162951536, &quot;y&quot;: 1.5724558385105967, &quot;z&quot;: 0.7880049183047433}, {&quot;x&quot;: 0.0, &quot;y&quot;: 1.5761666195163597, &quot;z&quot;: 0.7938337994781359}, {&quot;x&quot;: 0.005877852522924732, &quot;y&quot;: 1.5664516687184649, &quot;z&quot;: 0.7785735904498094}, {&quot;x&quot;: -0.005877852522924731, &quot;y&quot;: 1.5664516687184649, &quot;z&quot;: 0.7785735904498094}, {&quot;x&quot;: -0.009510565162951536, &quot;y&quot;: 1.5724558385105967, &quot;z&quot;: 0.7880049183047433}, {&quot;x&quot;: 0.0, &quot;y&quot;: 1.5707963267948966, &quot;z&quot;: 0.7853981633974483}], &quot;faces&quot;: [[0, 1, 2], [0, 3, 1], [0, 4, 3], [0, 5, 4], [0, 2, 5], [2, 1, 6, 7], [1, 3, 8, 6], [3, 4, 9, 8], [4, 5, 10, 9], [5, 2, 7, 10], [7, 6, 11], [6, 8, 11], [8, 9, 11], [9, 10, 11], [10, 7, 11]], &quot;color&quot;: &quot;#694b00&quot;, &quot;opacity&quot;: 1.0}, {&quot;vertices&quot;: [{&quot;x&quot;: 0.0, &quot;y&quot;: 1.3207963267948966, &quot;z&quot;: 0.9445531064893437}, {&quot;x&quot;: 0.028531695488854605, &quot;y&quot;: 1.4016955866681864, &quot;z&quot;: 0.9040407367180602}, {&quot;x&quot;: 0.0, &quot;y&quot;: 1.4128279296854753, &quot;z&quot;: 0.9215273802382383}, {&quot;x&quot;: 0.017633557568774196, &quot;y&quot;: 1.3836830772917905, &quot;z&quot;: 0.8757467531532588}, {&quot;x&quot;: -0.01763355756877419, &quot;y&quot;: 1.3836830772917905, &quot;z&quot;: 0.8757467531532588}, {&quot;x&quot;: -0.02853169548885461, &quot;y&quot;: 1.4016955866681864, &quot;z&quot;: 0.9040407367180602}, {&quot;x&quot;: 0.0, &quot;y&quot;: 1.3967170515210858, &quot;z&quot;: 0.8962204719961753}], &quot;faces&quot;: [[0, 1, 2], [0, 3, 1], [0, 4, 3], [0, 5, 4], [0, 2, 5], [2, 1, 6], [1, 3, 6], [3, 4, 6], [4, 5, 6], [5, 2, 6]], &quot;color&quot;: &quot;#694b00&quot;, &quot;opacity&quot;: 1.0}, {&quot;vertices&quot;: [{&quot;x&quot;: 0.0, &quot;y&quot;: 1.5707963267948966, &quot;z&quot;: 1.7058754058341732}, {&quot;x&quot;: 0.009510565162951536, &quot;y&quot;: 1.5738864967386461, &quot;z&quot;: 1.7058754058341732}, {&quot;x&quot;: 0.0, &quot;y&quot;: 1.5807963267948966, &quot;z&quot;: 1.7058754058341732}, {&quot;x&quot;: 0.005877852522924732, &quot;y&quot;: 1.562706156851147, &quot;z&quot;: 1.7058754058341732}, {&quot;x&quot;: -0.005877852522924731, &quot;y&quot;: 1.562706156851147, &quot;z&quot;: 1.7058754058341732}, {&quot;x&quot;: -0.009510565162951536, &quot;y&quot;: 1.5738864967386461, &quot;z&quot;: 1.7058754058341732}, {&quot;x&quot;: 0.009510565162951536, &quot;y&quot;: 1.5738864967386461, &quot;z&quot;: 1.5707963267948966}, {&quot;x&quot;: 0.0, &quot;y&quot;: 1.5807963267948966, &quot;z&quot;: 1.5707963267948966}, {&quot;x&quot;: 0.005877852522924732, &quot;y&quot;: 1.562706156851147, &quot;z&quot;: 1.5707963267948966}, {&quot;x&quot;: -0.005877852522924731, &quot;y&quot;: 1.562706156851147, &quot;z&quot;: 1.5707963267948966}, {&quot;x&quot;: -0.009510565162951536, &quot;y&quot;: 1.5738864967386461, &quot;z&quot;: 1.5707963267948966}, {&quot;x&quot;: 0.0, &quot;y&quot;: 1.5707963267948966, &quot;z&quot;: 1.5707963267948966}], &quot;faces&quot;: [[0, 1, 2], [0, 3, 1], [0, 4, 3], [0, 5, 4], [0, 2, 5], [2, 1, 6, 7], [1, 3, 8, 6], [3, 4, 9, 8], [4, 5, 10, 9], [5, 2, 7, 10], [7, 6, 11], [6, 8, 11], [8, 9, 11], [9, 10, 11], [10, 7, 11]], &quot;color&quot;: &quot;#8d3900&quot;, &quot;opacity&quot;: 1.0}, {&quot;vertices&quot;: [{&quot;x&quot;: 0.0, &quot;y&quot;: 1.5707963267948966, &quot;z&quot;: 1.7958754058341733}, {&quot;x&quot;: 0.028531695488854605, &quot;y&quot;: 1.580066836626145, &quot;z&quot;: 1.7058754058341732}, {&quot;x&quot;: 0.0, &quot;y&quot;: 1.6007963267948966, &quot;z&quot;: 1.7058754058341732}, {&quot;x&quot;: 0.017633557568774196, &quot;y&quot;: 1.5465258169636482, &quot;z&quot;: 1.7058754058341732}, {&quot;x&quot;: -0.01763355756877419, &quot;y&quot;: 1.5465258169636482, &quot;z&quot;: 1.7058754058341732}, {&quot;x&quot;: -0.02853169548885461, &quot;y&quot;: 1.580066836626145, &quot;z&quot;: 1.7058754058341732}, {&quot;x&quot;: 0.0, &quot;y&quot;: 1.5707963267948966, &quot;z&quot;: 1.7058754058341732}], &quot;faces&quot;: [[0, 1, 2], [0, 3, 1], [0, 4, 3], [0, 5, 4], [0, 2, 5], [2, 1, 6], [1, 3, 6], [3, 4, 6], [4, 5, 6], [5, 2, 6]], &quot;color&quot;: &quot;#8d3900&quot;, &quot;opacity&quot;: 1.0}, {&quot;vertices&quot;: [{&quot;x&quot;: 0.0, &quot;y&quot;: 1.7448756020687073, &quot;z&quot;: 2.4670167987910716}, {&quot;x&quot;: 0.009510565162951536, &quot;y&quot;: 1.7465351137844076, &quot;z&quot;: 2.464410043883777}, {&quot;x&quot;: 0.0, &quot;y&quot;: 1.7502458947901705, &quot;z&quot;: 2.458581162710384}, {&quot;x&quot;: 0.005877852522924732, &quot;y&quot;: 1.7405309439922756, &quot;z&quot;: 2.4738413717387107}, {&quot;x&quot;: -0.005877852522924731, &quot;y&quot;: 1.7405309439922756, &quot;z&quot;: 2.4738413717387107}, {&quot;x&quot;: -0.009510565162951536, &quot;y&quot;: 1.7465351137844076, &quot;z&quot;: 2.464410043883777}, {&quot;x&quot;: 0.009510565162951536, &quot;y&quot;: 1.5724558385105967, &quot;z&quot;: 2.35358773528505}, {&quot;x&quot;: 0.0, &quot;y&quot;: 1.5761666195163597, &quot;z&quot;: 2.347758854111657}, {&quot;x&quot;: 0.005877852522924732, &quot;y&quot;: 1.5664516687184649, &quot;z&quot;: 2.3630190631399834}, {&quot;x&quot;: -0.005877852522924731, &quot;y&quot;: 1.5664516687184649, &quot;z&quot;: 2.3630190631399834}, {&quot;x&quot;: -0.009510565162951536, &quot;y&quot;: 1.5724558385105967, &quot;z&quot;: 2.35358773528505}, {&quot;x&quot;: 0.0, &quot;y&quot;: 1.5707963267948966, &quot;z&quot;: 2.356194490192345}], &quot;faces&quot;: [[0, 1, 2], [0, 3, 1], [0, 4, 3], [0, 5, 4], [0, 2, 5], [2, 1, 6, 7], [1, 3, 8, 6], [3, 4, 9, 8], [4, 5, 10, 9], [5, 2, 7, 10], [7, 6, 11], [6, 8, 11], [8, 9, 11], [9, 10, 11], [10, 7, 11]], &quot;color&quot;: &quot;#694b00&quot;, &quot;opacity&quot;: 1.0}, {&quot;vertices&quot;: [{&quot;x&quot;: 0.0, &quot;y&quot;: 1.8207963267948966, &quot;z&quot;: 2.51534943328424}, {&quot;x&quot;: 0.028531695488854605, &quot;y&quot;: 1.7498541372158078, &quot;z&quot;: 2.4591965340691866}, {&quot;x&quot;: 0.0, &quot;y&quot;: 1.7609864802330968, &quot;z&quot;: 2.4417098905490087}, {&quot;x&quot;: 0.017633557568774196, &quot;y&quot;: 1.731841627839412, &quot;z&quot;: 2.487490517633988}, {&quot;x&quot;: -0.01763355756877419, &quot;y&quot;: 1.731841627839412, &quot;z&quot;: 2.487490517633988}, {&quot;x&quot;: -0.02853169548885461, &quot;y&quot;: 1.7498541372158078, &quot;z&quot;: 2.4591965340691866}, {&quot;x&quot;: 0.0, &quot;y&quot;: 1.7448756020687073, &quot;z&quot;: 2.4670167987910716}], &quot;faces&quot;: [[0, 1, 2], [0, 3, 1], [0, 4, 3], [0, 5, 4], [0, 2, 5], [2, 1, 6], [1, 3, 6], [3, 4, 6], [4, 5, 6], [5, 2, 6]], &quot;color&quot;: &quot;#694b00&quot;, &quot;opacity&quot;: 1.0}, {&quot;vertices&quot;: [{&quot;x&quot;: 0.0, &quot;y&quot;: 1.8343497173881702, &quot;z&quot;: 3.141592653589793}, {&quot;x&quot;: 0.009510565162951536, &quot;y&quot;: 1.8343497173881702, &quot;z&quot;: 3.1385024836460436}, {&quot;x&quot;: 0.0, &quot;y&quot;: 1.8343497173881702, &quot;z&quot;: 3.1315926535897933}, {&quot;x&quot;: 0.005877852522924732, &quot;y&quot;: 1.8343497173881702, &quot;z&quot;: 3.1496828235335426}, {&quot;x&quot;: -0.005877852522924731, &quot;y&quot;: 1.8343497173881702, &quot;z&quot;: 3.1496828235335426}, {&quot;x&quot;: -0.009510565162951536, &quot;y&quot;: 1.8343497173881702, &quot;z&quot;: 3.1385024836460436}, {&quot;x&quot;: 0.009510565162951536, &quot;y&quot;: 1.5707963267948966, &quot;z&quot;: 3.1385024836460436}, {&quot;x&quot;: 0.0, &quot;y&quot;: 1.5707963267948966, &quot;z&quot;: 3.1315926535897933}, {&quot;x&quot;: 0.005877852522924732, &quot;y&quot;: 1.5707963267948966, &quot;z&quot;: 3.1496828235335426}, {&quot;x&quot;: -0.005877852522924731, &quot;y&quot;: 1.5707963267948966, &quot;z&quot;: 3.1496828235335426}, {&quot;x&quot;: -0.009510565162951536, &quot;y&quot;: 1.5707963267948966, &quot;z&quot;: 3.1385024836460436}, {&quot;x&quot;: 0.0, &quot;y&quot;: 1.5707963267948966, &quot;z&quot;: 3.141592653589793}], &quot;faces&quot;: [[0, 1, 2], [0, 3, 1], [0, 4, 3], [0, 5, 4], [0, 2, 5], [2, 1, 6, 7], [1, 3, 8, 6], [3, 4, 9, 8], [4, 5, 10, 9], [5, 2, 7, 10], [7, 6, 11], [6, 8, 11], [8, 9, 11], [9, 10, 11], [10, 7, 11]], &quot;color&quot;: &quot;#4b5a00&quot;, &quot;opacity&quot;: 1.0}, {&quot;vertices&quot;: [{&quot;x&quot;: 0.0, &quot;y&quot;: 1.9243497173881703, &quot;z&quot;: 3.141592653589793}, {&quot;x&quot;: 0.028531695488854605, &quot;y&quot;: 1.8343497173881702, &quot;z&quot;: 3.132322143758545}, {&quot;x&quot;: 0.0, &quot;y&quot;: 1.8343497173881702, &quot;z&quot;: 3.1115926535897933}, {&quot;x&quot;: 0.017633557568774196, &quot;y&quot;: 1.8343497173881702, &quot;z&quot;: 3.1658631634210415}, {&quot;x&quot;: -0.01763355756877419, &quot;y&quot;: 1.8343497173881702, &quot;z&quot;: 3.1658631634210415}, {&quot;x&quot;: -0.02853169548885461, &quot;y&quot;: 1.8343497173881702, &quot;z&quot;: 3.132322143758545}, {&quot;x&quot;: 0.0, &quot;y&quot;: 1.8343497173881702, &quot;z&quot;: 3.141592653589793}], &quot;faces&quot;: [[0, 1, 2], [0, 3, 1], [0, 4, 3], [0, 5, 4], [0, 2, 5], [2, 1, 6], [1, 3, 6], [3, 4, 6], [4, 5, 6], [5, 2, 6]], &quot;color&quot;: &quot;#4b5a00&quot;, &quot;opacity&quot;: 1.0}, {&quot;vertices&quot;: [{&quot;x&quot;: 0.0, &quot;y&quot;: 1.9158644043024342, &quot;z&quot;: 2.696244151266791e-17}, {&quot;x&quot;: 0.009510565162951536, &quot;y&quot;: 1.9158644043024342, &quot;z&quot;: 0.0030901699437495015}, {&quot;x&quot;: 0.0, &quot;y&quot;: 1.9158644043024342, &quot;z&quot;: 0.010000000000000028}, {&quot;x&quot;: 0.005877852522924732, &quot;y&quot;: 1.9158644043024342, &quot;z&quot;: -0.008090169943749446}, {&quot;x&quot;: -0.005877852522924731, &quot;y&quot;: 1.9158644043024342, &quot;z&quot;: -0.008090169943749448}, {&quot;x&quot;: -0.009510565162951536, &quot;y&quot;: 1.9158644043024342, &quot;z&quot;: 0.0030901699437494994}, {&quot;x&quot;: 0.009510565162951536, &quot;y&quot;: 2.356194490192345, &quot;z&quot;: 0.0030901699437494747}, {&quot;x&quot;: 0.0, &quot;y&quot;: 2.356194490192345, &quot;z&quot;: 0.01}, {&quot;x&quot;: 0.005877852522924732, &quot;y&quot;: 2.356194490192345, &quot;z&quot;: -0.008090169943749474}, {&quot;x&quot;: -0.005877852522924731, &quot;y&quot;: 2.356194490192345, &quot;z&quot;: -0.008090169943749476}, {&quot;x&quot;: -0.009510565162951536, &quot;y&quot;: 2.356194490192345, &quot;z&quot;: 0.0030901699437494725}, {&quot;x&quot;: 0.0, &quot;y&quot;: 2.356194490192345, &quot;z&quot;: 0.0}], &quot;faces&quot;: [[0, 1, 2], [0, 3, 1], [0, 4, 3], [0, 5, 4], [0, 2, 5], [2, 1, 6, 7], [1, 3, 8, 6], [3, 4, 9, 8], [4, 5, 10, 9], [5, 2, 7, 10], [7, 6, 11], [6, 8, 11], [8, 9, 11], [9, 10, 11], [10, 7, 11]], &quot;color&quot;: &quot;#00780f&quot;, &quot;opacity&quot;: 1.0}, {&quot;vertices&quot;: [{&quot;x&quot;: 0.0, &quot;y&quot;: 1.8258644043024341, &quot;z&quot;: 3.2473352108830995e-17}, {&quot;x&quot;: 0.028531695488854605, &quot;y&quot;: 1.9158644043024342, &quot;z&quot;: 0.009270509831248452}, {&quot;x&quot;: 0.0, &quot;y&quot;: 1.9158644043024342, &quot;z&quot;: 0.030000000000000027}, {&quot;x&quot;: 0.017633557568774196, &quot;y&quot;: 1.9158644043024342, &quot;z&quot;: -0.024270509831248392}, {&quot;x&quot;: -0.01763355756877419, &quot;y&quot;: 1.9158644043024342, &quot;z&quot;: -0.0242705098312484}, {&quot;x&quot;: -0.02853169548885461, &quot;y&quot;: 1.9158644043024342, &quot;z&quot;: 0.009270509831248445}, {&quot;x&quot;: 0.0, &quot;y&quot;: 1.9158644043024342, &quot;z&quot;: 2.696244151266791e-17}], &quot;faces&quot;: [[0, 1, 2], [0, 3, 1], [0, 4, 3], [0, 5, 4], [0, 2, 5], [2, 1, 6], [1, 3, 6], [3, 4, 6], [4, 5, 6], [5, 2, 6]], &quot;color&quot;: &quot;#00780f&quot;, &quot;opacity&quot;: 1.0}, {&quot;vertices&quot;: [{&quot;x&quot;: 0.0, &quot;y&quot;: 2.0640417634585146, &quot;z&quot;: 0.9093916316573544}, {&quot;x&quot;: 0.009510565162951536, &quot;y&quot;: 2.0652490404885557, &quot;z&quot;: 0.9122362111436735}, {&quot;x&quot;: 0.0, &quot;y&quot;: 2.067948593995402, &quot;z&quot;: 0.9185968842424843}, {&quot;x&quot;: 0.005877852522924732, &quot;y&quot;: 2.060881071160029, &quot;z&quot;: 0.9019444258784703}, {&quot;x&quot;: -0.005877852522924731, &quot;y&quot;: 2.060881071160029, &quot;z&quot;: 0.9019444258784703}, {&quot;x&quot;: -0.009510565162951536, &quot;y&quot;: 2.0652490404885557, &quot;z&quot;: 0.9122362111436735}, {&quot;x&quot;: 0.009510565162951536, &quot;y&quot;: 2.357401767222386, &quot;z&quot;: 0.7882427428837674}, {&quot;x&quot;: 0.0, &quot;y&quot;: 2.3601013207292327, &quot;z&quot;: 0.7946034159825782}, {&quot;x&quot;: 0.005877852522924732, &quot;y&quot;: 2.35303379789386, &quot;z&quot;: 0.7779509576185643}, {&quot;x&quot;: -0.005877852522924731, &quot;y&quot;: 2.35303379789386, &quot;z&quot;: 0.7779509576185643}, {&quot;x&quot;: -0.009510565162951536, &quot;y&quot;: 2.357401767222386, &quot;z&quot;: 0.7882427428837674}, {&quot;x&quot;: 0.0, &quot;y&quot;: 2.356194490192345, &quot;z&quot;: 0.7853981633974483}], &quot;faces&quot;: [[0, 1, 2], [0, 3, 1], [0, 4, 3], [0, 5, 4], [0, 2, 5], [2, 1, 6, 7], [1, 3, 8, 6], [3, 4, 9, 8], [4, 5, 10, 9], [5, 2, 7, 10], [7, 6, 11], [6, 8, 11], [8, 9, 11], [9, 10, 11], [10, 7, 11]], &quot;color&quot;: &quot;#2f6800&quot;, &quot;opacity&quot;: 1.0}, {&quot;vertices&quot;: [{&quot;x&quot;: 0.0, &quot;y&quot;: 1.981194490192345, &quot;z&quot;: 0.9445531064893435}, {&quot;x&quot;: 0.028531695488854605, &quot;y&quot;: 2.0676635945486384, &quot;z&quot;: 0.9179253701163116}, {&quot;x&quot;: 0.0, &quot;y&quot;: 2.075762255069178, &quot;z&quot;: 0.9370073894127443}, {&quot;x&quot;: 0.017633557568774196, &quot;y&quot;: 2.054559686563059, &quot;z&quot;: 0.8870500143207022}, {&quot;x&quot;: -0.01763355756877419, &quot;y&quot;: 2.054559686563059, &quot;z&quot;: 0.8870500143207022}, {&quot;x&quot;: -0.02853169548885461, &quot;y&quot;: 2.0676635945486384, &quot;z&quot;: 0.9179253701163116}, {&quot;x&quot;: 0.0, &quot;y&quot;: 2.0640417634585146, &quot;z&quot;: 0.9093916316573544}], &quot;faces&quot;: [[0, 1, 2], [0, 3, 1], [0, 4, 3], [0, 5, 4], [0, 2, 5], [2, 1, 6], [1, 3, 6], [3, 4, 6], [4, 5, 6], [5, 2, 6]], &quot;color&quot;: &quot;#2f6800&quot;, &quot;opacity&quot;: 1.0}, {&quot;vertices&quot;: [{&quot;x&quot;: 0.0, &quot;y&quot;: 2.356194490192345, &quot;z&quot;: 1.7058754058341732}, {&quot;x&quot;: 0.009510565162951536, &quot;y&quot;: 2.3592846601360944, &quot;z&quot;: 1.7058754058341732}, {&quot;x&quot;: 0.0, &quot;y&quot;: 2.3661944901923446, &quot;z&quot;: 1.7058754058341732}, {&quot;x&quot;: 0.005877852522924732, &quot;y&quot;: 2.3481043202485954, &quot;z&quot;: 1.7058754058341732}, {&quot;x&quot;: -0.005877852522924731, &quot;y&quot;: 2.3481043202485954, &quot;z&quot;: 1.7058754058341732}, {&quot;x&quot;: -0.009510565162951536, &quot;y&quot;: 2.3592846601360944, &quot;z&quot;: 1.7058754058341732}, {&quot;x&quot;: 0.009510565162951536, &quot;y&quot;: 2.3592846601360944, &quot;z&quot;: 1.5707963267948966}, {&quot;x&quot;: 0.0, &quot;y&quot;: 2.3661944901923446, &quot;z&quot;: 1.5707963267948966}, {&quot;x&quot;: 0.005877852522924732, &quot;y&quot;: 2.3481043202485954, &quot;z&quot;: 1.5707963267948966}, {&quot;x&quot;: -0.005877852522924731, &quot;y&quot;: 2.3481043202485954, &quot;z&quot;: 1.5707963267948966}, {&quot;x&quot;: -0.009510565162951536, &quot;y&quot;: 2.3592846601360944, &quot;z&quot;: 1.5707963267948966}, {&quot;x&quot;: 0.0, &quot;y&quot;: 2.356194490192345, &quot;z&quot;: 1.5707963267948966}], &quot;faces&quot;: [[0, 1, 2], [0, 3, 1], [0, 4, 3], [0, 5, 4], [0, 2, 5], [2, 1, 6, 7], [1, 3, 8, 6], [3, 4, 9, 8], [4, 5, 10, 9], [5, 2, 7, 10], [7, 6, 11], [6, 8, 11], [8, 9, 11], [9, 10, 11], [10, 7, 11]], &quot;color&quot;: &quot;#8d3900&quot;, &quot;opacity&quot;: 1.0}, {&quot;vertices&quot;: [{&quot;x&quot;: 0.0, &quot;y&quot;: 2.356194490192345, &quot;z&quot;: 1.7958754058341733}, {&quot;x&quot;: 0.028531695488854605, &quot;y&quot;: 2.365465000023593, &quot;z&quot;: 1.7058754058341732}, {&quot;x&quot;: 0.0, &quot;y&quot;: 2.3861944901923446, &quot;z&quot;: 1.7058754058341732}, {&quot;x&quot;: 0.017633557568774196, &quot;y&quot;: 2.3319239803610965, &quot;z&quot;: 1.7058754058341732}, {&quot;x&quot;: -0.01763355756877419, &quot;y&quot;: 2.3319239803610965, &quot;z&quot;: 1.7058754058341732}, {&quot;x&quot;: -0.02853169548885461, &quot;y&quot;: 2.365465000023593, &quot;z&quot;: 1.7058754058341732}, {&quot;x&quot;: 0.0, &quot;y&quot;: 2.356194490192345, &quot;z&quot;: 1.7058754058341732}], &quot;faces&quot;: [[0, 1, 2], [0, 3, 1], [0, 4, 3], [0, 5, 4], [0, 2, 5], [2, 1, 6], [1, 3, 6], [3, 4, 6], [4, 5, 6], [5, 2, 6]], &quot;color&quot;: &quot;#8d3900&quot;, &quot;opacity&quot;: 1.0}, {&quot;vertices&quot;: [{&quot;x&quot;: 0.0, &quot;y&quot;: 2.648347216926175, &quot;z&quot;: 2.480187958452251}, {&quot;x&quot;: 0.009510565162951536, &quot;y&quot;: 2.6495544939562166, &quot;z&quot;: 2.477343378965932}, {&quot;x&quot;: 0.0, &quot;y&quot;: 2.652254047463063, &quot;z&quot;: 2.470982705867121}, {&quot;x&quot;: 0.005877852522924732, &quot;y&quot;: 2.64518652462769, &quot;z&quot;: 2.487635164231135}, {&quot;x&quot;: -0.005877852522924731, &quot;y&quot;: 2.64518652462769, &quot;z&quot;: 2.487635164231135}, {&quot;x&quot;: -0.009510565162951536, &quot;y&quot;: 2.6495544939562166, &quot;z&quot;: 2.477343378965932}, {&quot;x&quot;: 0.009510565162951536, &quot;y&quot;: 2.357401767222386, &quot;z&quot;: 2.353349910706026}, {&quot;x&quot;: 0.0, &quot;y&quot;: 2.3601013207292327, &quot;z&quot;: 2.346989237607215}, {&quot;x&quot;: 0.005877852522924732, &quot;y&quot;: 2.35303379789386, &quot;z&quot;: 2.363641695971229}, {&quot;x&quot;: -0.005877852522924731, &quot;y&quot;: 2.35303379789386, &quot;z&quot;: 2.363641695971229}, {&quot;x&quot;: -0.009510565162951536, &quot;y&quot;: 2.357401767222386, &quot;z&quot;: 2.353349910706026}, {&quot;x&quot;: 0.0, &quot;y&quot;: 2.356194490192345, &quot;z&quot;: 2.356194490192345}], &quot;faces&quot;: [[0, 1, 2], [0, 3, 1], [0, 4, 3], [0, 5, 4], [0, 2, 5], [2, 1, 6, 7], [1, 3, 8, 6], [3, 4, 9, 8], [4, 5, 10, 9], [5, 2, 7, 10], [7, 6, 11], [6, 8, 11], [8, 9, 11], [9, 10, 11], [10, 7, 11]], &quot;color&quot;: &quot;#2f6800&quot;, &quot;opacity&quot;: 1.0}, {&quot;vertices&quot;: [{&quot;x&quot;: 0.0, &quot;y&quot;: 2.731194490192345, &quot;z&quot;: 2.51534943328424}, {&quot;x&quot;: 0.028531695488854605, &quot;y&quot;: 2.6519690480162987, &quot;z&quot;: 2.4716542199932934}, {&quot;x&quot;: 0.0, &quot;y&quot;: 2.6600677085368383, &quot;z&quot;: 2.452572200696861}, {&quot;x&quot;: 0.017633557568774196, &quot;y&quot;: 2.6388651400307195, &quot;z&quot;: 2.502529575788903}, {&quot;x&quot;: -0.01763355756877419, &quot;y&quot;: 2.6388651400307195, &quot;z&quot;: 2.502529575788903}, {&quot;x&quot;: -0.02853169548885461, &quot;y&quot;: 2.6519690480162987, &quot;z&quot;: 2.4716542199932934}, {&quot;x&quot;: 0.0, &quot;y&quot;: 2.648347216926175, &quot;z&quot;: 2.480187958452251}], &quot;faces&quot;: [[0, 1, 2], [0, 3, 1], [0, 4, 3], [0, 5, 4], [0, 2, 5], [2, 1, 6], [1, 3, 6], [3, 4, 6], [4, 5, 6], [5, 2, 6]], &quot;color&quot;: &quot;#2f6800&quot;, &quot;opacity&quot;: 1.0}, {&quot;vertices&quot;: [{&quot;x&quot;: 0.0, &quot;y&quot;: 2.7965245760822555, &quot;z&quot;: 3.141592653589793}, {&quot;x&quot;: 0.009510565162951536, &quot;y&quot;: 2.7965245760822555, &quot;z&quot;: 3.1385024836460436}, {&quot;x&quot;: 0.0, &quot;y&quot;: 2.7965245760822555, &quot;z&quot;: 3.1315926535897933}, {&quot;x&quot;: 0.005877852522924732, &quot;y&quot;: 2.7965245760822555, &quot;z&quot;: 3.1496828235335426}, {&quot;x&quot;: -0.005877852522924731, &quot;y&quot;: 2.7965245760822555, &quot;z&quot;: 3.1496828235335426}, {&quot;x&quot;: -0.009510565162951536, &quot;y&quot;: 2.7965245760822555, &quot;z&quot;: 3.1385024836460436}, {&quot;x&quot;: 0.009510565162951536, &quot;y&quot;: 2.356194490192345, &quot;z&quot;: 3.1385024836460436}, {&quot;x&quot;: 0.0, &quot;y&quot;: 2.356194490192345, &quot;z&quot;: 3.1315926535897933}, {&quot;x&quot;: 0.005877852522924732, &quot;y&quot;: 2.356194490192345, &quot;z&quot;: 3.1496828235335426}, {&quot;x&quot;: -0.005877852522924731, &quot;y&quot;: 2.356194490192345, &quot;z&quot;: 3.1496828235335426}, {&quot;x&quot;: -0.009510565162951536, &quot;y&quot;: 2.356194490192345, &quot;z&quot;: 3.1385024836460436}, {&quot;x&quot;: 0.0, &quot;y&quot;: 2.356194490192345, &quot;z&quot;: 3.141592653589793}], &quot;faces&quot;: [[0, 1, 2], [0, 3, 1], [0, 4, 3], [0, 5, 4], [0, 2, 5], [2, 1, 6, 7], [1, 3, 8, 6], [3, 4, 9, 8], [4, 5, 10, 9], [5, 2, 7, 10], [7, 6, 11], [6, 8, 11], [8, 9, 11], [9, 10, 11], [10, 7, 11]], &quot;color&quot;: &quot;#00780f&quot;, &quot;opacity&quot;: 1.0}, {&quot;vertices&quot;: [{&quot;x&quot;: 0.0, &quot;y&quot;: 2.8865245760822553, &quot;z&quot;: 3.141592653589793}, {&quot;x&quot;: 0.028531695488854605, &quot;y&quot;: 2.7965245760822555, &quot;z&quot;: 3.132322143758545}, {&quot;x&quot;: 0.0, &quot;y&quot;: 2.7965245760822555, &quot;z&quot;: 3.1115926535897933}, {&quot;x&quot;: 0.017633557568774196, &quot;y&quot;: 2.7965245760822555, &quot;z&quot;: 3.1658631634210415}, {&quot;x&quot;: -0.01763355756877419, &quot;y&quot;: 2.7965245760822555, &quot;z&quot;: 3.1658631634210415}, {&quot;x&quot;: -0.02853169548885461, &quot;y&quot;: 2.7965245760822555, &quot;z&quot;: 3.132322143758545}, {&quot;x&quot;: 0.0, &quot;y&quot;: 2.7965245760822555, &quot;z&quot;: 3.141592653589793}], &quot;faces&quot;: [[0, 1, 2], [0, 3, 1], [0, 4, 3], [0, 5, 4], [0, 2, 5], [2, 1, 6], [1, 3, 6], [3, 4, 6], [4, 5, 6], [5, 2, 6]], &quot;color&quot;: &quot;#00780f&quot;, &quot;opacity&quot;: 1.0}, {&quot;vertices&quot;: [{&quot;x&quot;: 0.0, &quot;y&quot;: 2.5244858724032455, &quot;z&quot;: 3.7786892215611575e-17}, {&quot;x&quot;: 0.009510565162951536, &quot;y&quot;: 2.5244858724032455, &quot;z&quot;: 0.0030901699437495124}, {&quot;x&quot;: 0.0, &quot;y&quot;: 2.5244858724032455, &quot;z&quot;: 0.010000000000000038}, {&quot;x&quot;: 0.005877852522924732, &quot;y&quot;: 2.5244858724032455, &quot;z&quot;: -0.008090169943749436}, {&quot;x&quot;: -0.005877852522924731, &quot;y&quot;: 2.5244858724032455, &quot;z&quot;: -0.008090169943749437}, {&quot;x&quot;: -0.009510565162951536, &quot;y&quot;: 2.5244858724032455, &quot;z&quot;: 0.00309016994374951}, {&quot;x&quot;: 0.009510565162951536, &quot;y&quot;: 3.141592653589793, &quot;z&quot;: 0.0030901699437494747}, {&quot;x&quot;: 0.0, &quot;y&quot;: 3.141592653589793, &quot;z&quot;: 0.01}, {&quot;x&quot;: 0.005877852522924732, &quot;y&quot;: 3.141592653589793, &quot;z&quot;: -0.008090169943749474}, {&quot;x&quot;: -0.005877852522924731, &quot;y&quot;: 3.141592653589793, &quot;z&quot;: -0.008090169943749476}, {&quot;x&quot;: -0.009510565162951536, &quot;y&quot;: 3.141592653589793, &quot;z&quot;: 0.0030901699437494725}, {&quot;x&quot;: 0.0, &quot;y&quot;: 3.141592653589793, &quot;z&quot;: 0.0}], &quot;faces&quot;: [[0, 1, 2], [0, 3, 1], [0, 4, 3], [0, 5, 4], [0, 2, 5], [2, 1, 6, 7], [1, 3, 8, 6], [3, 4, 9, 8], [4, 5, 10, 9], [5, 2, 7, 10], [7, 6, 11], [6, 8, 11], [8, 9, 11], [9, 10, 11], [10, 7, 11]], &quot;color&quot;: &quot;#004a6b&quot;, &quot;opacity&quot;: 1.0}, {&quot;vertices&quot;: [{&quot;x&quot;: 0.0, &quot;y&quot;: 2.4344858724032457, &quot;z&quot;: 4.3297802811774664e-17}, {&quot;x&quot;: 0.028531695488854605, &quot;y&quot;: 2.5244858724032455, &quot;z&quot;: 0.009270509831248462}, {&quot;x&quot;: 0.0, &quot;y&quot;: 2.5244858724032455, &quot;z&quot;: 0.030000000000000037}, {&quot;x&quot;: 0.017633557568774196, &quot;y&quot;: 2.5244858724032455, &quot;z&quot;: -0.024270509831248382}, {&quot;x&quot;: -0.01763355756877419, &quot;y&quot;: 2.5244858724032455, &quot;z&quot;: -0.02427050983124839}, {&quot;x&quot;: -0.02853169548885461, &quot;y&quot;: 2.5244858724032455, &quot;z&quot;: 0.009270509831248455}, {&quot;x&quot;: 0.0, &quot;y&quot;: 2.5244858724032455, &quot;z&quot;: 3.7786892215611575e-17}], &quot;faces&quot;: [[0, 1, 2], [0, 3, 1], [0, 4, 3], [0, 5, 4], [0, 2, 5], [2, 1, 6], [1, 3, 6], [3, 4, 6], [4, 5, 6], [5, 2, 6]], &quot;color&quot;: &quot;#004a6b&quot;, &quot;opacity&quot;: 1.0}, {&quot;vertices&quot;: [{&quot;x&quot;: 0.0, &quot;y&quot;: 2.727352799848775, &quot;z&quot;: 0.9172548040945419}, {&quot;x&quot;: 0.009510565162951536, &quot;y&quot;: 2.7282900931107283, &quot;z&quot;: 0.9201993977205537}, {&quot;x&quot;: 0.0, &quot;y&quot;: 2.730385944559308, &quot;z&quot;: 0.9267837092344288}, {&quot;x&quot;: 0.005877852522924732, &quot;y&quot;: 2.724898934231555, &quot;z&quot;: 0.9095457578985866}, {&quot;x&quot;: -0.005877852522924731, &quot;y&quot;: 2.724898934231555, &quot;z&quot;: 0.9095457578985866}, {&quot;x&quot;: -0.009510565162951536, &quot;y&quot;: 2.7282900931107283, &quot;z&quot;: 0.9201993977205537}, {&quot;x&quot;: 0.009510565162951536, &quot;y&quot;: 3.1425299468517465, &quot;z&quot;: 0.7883427570234601}, {&quot;x&quot;: 0.0, &quot;y&quot;: 3.1446257983003267, &quot;z&quot;: 0.7949270685373352}, {&quot;x&quot;: 0.005877852522924732, &quot;y&quot;: 3.139138787972573, &quot;z&quot;: 0.777689117201493}, {&quot;x&quot;: -0.005877852522924731, &quot;y&quot;: 3.139138787972573, &quot;z&quot;: 0.777689117201493}, {&quot;x&quot;: -0.009510565162951536, &quot;y&quot;: 3.1425299468517465, &quot;z&quot;: 0.7883427570234601}, {&quot;x&quot;: 0.0, &quot;y&quot;: 3.141592653589793, &quot;z&quot;: 0.7853981633974483}], &quot;faces&quot;: [[0, 1, 2], [0, 3, 1], [0, 4, 3], [0, 5, 4], [0, 2, 5], [2, 1, 6, 7], [1, 3, 8, 6], [3, 4, 9, 8], [4, 5, 10, 9], [5, 2, 7, 10], [7, 6, 11], [6, 8, 11], [8, 9, 11], [9, 10, 11], [10, 7, 11]], &quot;color&quot;: &quot;#00790d&quot;, &quot;opacity&quot;: 1.0}, {&quot;vertices&quot;: [{&quot;x&quot;: 0.0, &quot;y&quot;: 2.641592653589793, &quot;z&quot;: 0.9445531064893437}, {&quot;x&quot;: 0.028531695488854605, &quot;y&quot;: 2.730164679634635, &quot;z&quot;: 0.9260885849725773}, {&quot;x&quot;: 0.0, &quot;y&quot;: 2.7364522339803754, &quot;z&quot;: 0.9458415195142025}, {&quot;x&quot;: 0.017633557568774196, &quot;y&quot;: 2.7199912029971145, &quot;z&quot;: 0.8941276655066761}, {&quot;x&quot;: -0.01763355756877419, &quot;y&quot;: 2.7199912029971145, &quot;z&quot;: 0.8941276655066761}, {&quot;x&quot;: -0.02853169548885461, &quot;y&quot;: 2.730164679634635, &quot;z&quot;: 0.9260885849725773}, {&quot;x&quot;: 0.0, &quot;y&quot;: 2.727352799848775, &quot;z&quot;: 0.9172548040945419}], &quot;faces&quot;: [[0, 1, 2], [0, 3, 1], [0, 4, 3], [0, 5, 4], [0, 2, 5], [2, 1, 6], [1, 3, 6], [3, 4, 6], [4, 5, 6], [5, 2, 6]], &quot;color&quot;: &quot;#00790d&quot;, &quot;opacity&quot;: 1.0}, {&quot;vertices&quot;: [{&quot;x&quot;: 0.0, &quot;y&quot;: 3.141592653589793, &quot;z&quot;: 1.7058754058341732}, {&quot;x&quot;: 0.009510565162951536, &quot;y&quot;: 3.1446828235335427, &quot;z&quot;: 1.7058754058341732}, {&quot;x&quot;: 0.0, &quot;y&quot;: 3.151592653589793, &quot;z&quot;: 1.7058754058341732}, {&quot;x&quot;: 0.005877852522924732, &quot;y&quot;: 3.1335024836460437, &quot;z&quot;: 1.7058754058341732}, {&quot;x&quot;: -0.005877852522924731, &quot;y&quot;: 3.1335024836460437, &quot;z&quot;: 1.7058754058341732}, {&quot;x&quot;: -0.009510565162951536, &quot;y&quot;: 3.1446828235335427, &quot;z&quot;: 1.7058754058341732}, {&quot;x&quot;: 0.009510565162951536, &quot;y&quot;: 3.1446828235335427, &quot;z&quot;: 1.5707963267948966}, {&quot;x&quot;: 0.0, &quot;y&quot;: 3.151592653589793, &quot;z&quot;: 1.5707963267948966}, {&quot;x&quot;: 0.005877852522924732, &quot;y&quot;: 3.1335024836460437, &quot;z&quot;: 1.5707963267948966}, {&quot;x&quot;: -0.005877852522924731, &quot;y&quot;: 3.1335024836460437, &quot;z&quot;: 1.5707963267948966}, {&quot;x&quot;: -0.009510565162951536, &quot;y&quot;: 3.1446828235335427, &quot;z&quot;: 1.5707963267948966}, {&quot;x&quot;: 0.0, &quot;y&quot;: 3.141592653589793, &quot;z&quot;: 1.5707963267948966}], &quot;faces&quot;: [[0, 1, 2], [0, 3, 1], [0, 4, 3], [0, 5, 4], [0, 2, 5], [2, 1, 6, 7], [1, 3, 8, 6], [3, 4, 9, 8], [4, 5, 10, 9], [5, 2, 7, 10], [7, 6, 11], [6, 8, 11], [8, 9, 11], [9, 10, 11], [10, 7, 11]], &quot;color&quot;: &quot;#8d3900&quot;, &quot;opacity&quot;: 1.0}, {&quot;vertices&quot;: [{&quot;x&quot;: 0.0, &quot;y&quot;: 3.141592653589793, &quot;z&quot;: 1.7958754058341733}, {&quot;x&quot;: 0.028531695488854605, &quot;y&quot;: 3.1508631634210413, &quot;z&quot;: 1.7058754058341732}, {&quot;x&quot;: 0.0, &quot;y&quot;: 3.171592653589793, &quot;z&quot;: 1.7058754058341732}, {&quot;x&quot;: 0.017633557568774196, &quot;y&quot;: 3.1173221437585448, &quot;z&quot;: 1.7058754058341732}, {&quot;x&quot;: -0.01763355756877419, &quot;y&quot;: 3.1173221437585448, &quot;z&quot;: 1.7058754058341732}, {&quot;x&quot;: -0.02853169548885461, &quot;y&quot;: 3.1508631634210413, &quot;z&quot;: 1.7058754058341732}, {&quot;x&quot;: 0.0, &quot;y&quot;: 3.141592653589793, &quot;z&quot;: 1.7058754058341732}], &quot;faces&quot;: [[0, 1, 2], [0, 3, 1], [0, 4, 3], [0, 5, 4], [0, 2, 5], [2, 1, 6], [1, 3, 6], [3, 4, 6], [4, 5, 6], [5, 2, 6]], &quot;color&quot;: &quot;#8d3900&quot;, &quot;opacity&quot;: 1.0}, {&quot;vertices&quot;: [{&quot;x&quot;: 0.0, &quot;y&quot;: 3.5558325073308112, &quot;z&quot;: 2.4880511308894384}, {&quot;x&quot;: 0.009510565162951536, &quot;y&quot;: 3.5567698005927646, &quot;z&quot;: 2.4851065372634267}, {&quot;x&quot;: 0.0, &quot;y&quot;: 3.558865652041345, &quot;z&quot;: 2.4785222257495514}, {&quot;x&quot;: 0.005877852522924732, &quot;y&quot;: 3.553378641713591, &quot;z&quot;: 2.4957601770853937}, {&quot;x&quot;: -0.005877852522924731, &quot;y&quot;: 3.553378641713591, &quot;z&quot;: 2.4957601770853937}, {&quot;x&quot;: -0.009510565162951536, &quot;y&quot;: 3.5567698005927646, &quot;z&quot;: 2.4851065372634267}, {&quot;x&quot;: 0.009510565162951536, &quot;y&quot;: 3.1425299468517465, &quot;z&quot;: 2.353249896566333}, {&quot;x&quot;: 0.0, &quot;y&quot;: 3.1446257983003267, &quot;z&quot;: 2.346665585052458}, {&quot;x&quot;: 0.005877852522924732, &quot;y&quot;: 3.139138787972573, &quot;z&quot;: 2.3639035363883}, {&quot;x&quot;: -0.005877852522924731, &quot;y&quot;: 3.139138787972573, &quot;z&quot;: 2.3639035363883}, {&quot;x&quot;: -0.009510565162951536, &quot;y&quot;: 3.1425299468517465, &quot;z&quot;: 2.353249896566333}, {&quot;x&quot;: 0.0, &quot;y&quot;: 3.141592653589793, &quot;z&quot;: 2.356194490192345}], &quot;faces&quot;: [[0, 1, 2], [0, 3, 1], [0, 4, 3], [0, 5, 4], [0, 2, 5], [2, 1, 6, 7], [1, 3, 8, 6], [3, 4, 9, 8], [4, 5, 10, 9], [5, 2, 7, 10], [7, 6, 11], [6, 8, 11], [8, 9, 11], [9, 10, 11], [10, 7, 11]], &quot;color&quot;: &quot;#00790d&quot;, &quot;opacity&quot;: 1.0}, {&quot;vertices&quot;: [{&quot;x&quot;: 0.0, &quot;y&quot;: 3.641592653589793, &quot;z&quot;: 2.51534943328424}, {&quot;x&quot;: 0.028531695488854605, &quot;y&quot;: 3.5586443871166713, &quot;z&quot;: 2.4792173500114028}, {&quot;x&quot;: 0.0, &quot;y&quot;: 3.5649319414624117, &quot;z&quot;: 2.459464415469778}, {&quot;x&quot;: 0.017633557568774196, &quot;y&quot;: 3.5484709104791508, &quot;z&quot;: 2.511178269477304}, {&quot;x&quot;: -0.01763355756877419, &quot;y&quot;: 3.5484709104791508, &quot;z&quot;: 2.511178269477304}, {&quot;x&quot;: -0.02853169548885461, &quot;y&quot;: 3.5586443871166713, &quot;z&quot;: 2.4792173500114028}, {&quot;x&quot;: 0.0, &quot;y&quot;: 3.5558325073308112, &quot;z&quot;: 2.4880511308894384}], &quot;faces&quot;: [[0, 1, 2], [0, 3, 1], [0, 4, 3], [0, 5, 4], [0, 2, 5], [2, 1, 6], [1, 3, 6], [3, 4, 6], [4, 5, 6], [5, 2, 6]], &quot;color&quot;: &quot;#00790d&quot;, &quot;opacity&quot;: 1.0}, {&quot;vertices&quot;: [{&quot;x&quot;: 0.0, &quot;y&quot;: 3.7586994347763407, &quot;z&quot;: 3.141592653589793}, {&quot;x&quot;: 0.009510565162951536, &quot;y&quot;: 3.7586994347763407, &quot;z&quot;: 3.1385024836460436}, {&quot;x&quot;: 0.0, &quot;y&quot;: 3.7586994347763407, &quot;z&quot;: 3.1315926535897933}, {&quot;x&quot;: 0.005877852522924732, &quot;y&quot;: 3.7586994347763407, &quot;z&quot;: 3.1496828235335426}, {&quot;x&quot;: -0.005877852522924731, &quot;y&quot;: 3.7586994347763407, &quot;z&quot;: 3.1496828235335426}, {&quot;x&quot;: -0.009510565162951536, &quot;y&quot;: 3.7586994347763407, &quot;z&quot;: 3.1385024836460436}, {&quot;x&quot;: 0.009510565162951536, &quot;y&quot;: 3.141592653589793, &quot;z&quot;: 3.1385024836460436}, {&quot;x&quot;: 0.0, &quot;y&quot;: 3.141592653589793, &quot;z&quot;: 3.1315926535897933}, {&quot;x&quot;: 0.005877852522924732, &quot;y&quot;: 3.141592653589793, &quot;z&quot;: 3.1496828235335426}, {&quot;x&quot;: -0.005877852522924731, &quot;y&quot;: 3.141592653589793, &quot;z&quot;: 3.1496828235335426}, {&quot;x&quot;: -0.009510565162951536, &quot;y&quot;: 3.141592653589793, &quot;z&quot;: 3.1385024836460436}, {&quot;x&quot;: 0.0, &quot;y&quot;: 3.141592653589793, &quot;z&quot;: 3.141592653589793}], &quot;faces&quot;: [[0, 1, 2], [0, 3, 1], [0, 4, 3], [0, 5, 4], [0, 2, 5], [2, 1, 6, 7], [1, 3, 8, 6], [3, 4, 9, 8], [4, 5, 10, 9], [5, 2, 7, 10], [7, 6, 11], [6, 8, 11], [8, 9, 11], [9, 10, 11], [10, 7, 11]], &quot;color&quot;: &quot;#004a6b&quot;, &quot;opacity&quot;: 1.0}, {&quot;vertices&quot;: [{&quot;x&quot;: 0.0, &quot;y&quot;: 3.8486994347763406, &quot;z&quot;: 3.141592653589793}, {&quot;x&quot;: 0.028531695488854605, &quot;y&quot;: 3.7586994347763407, &quot;z&quot;: 3.132322143758545}, {&quot;x&quot;: 0.0, &quot;y&quot;: 3.7586994347763407, &quot;z&quot;: 3.1115926535897933}, {&quot;x&quot;: 0.017633557568774196, &quot;y&quot;: 3.7586994347763407, &quot;z&quot;: 3.1658631634210415}, {&quot;x&quot;: -0.01763355756877419, &quot;y&quot;: 3.7586994347763407, &quot;z&quot;: 3.1658631634210415}, {&quot;x&quot;: -0.02853169548885461, &quot;y&quot;: 3.7586994347763407, &quot;z&quot;: 3.132322143758545}, {&quot;x&quot;: 0.0, &quot;y&quot;: 3.7586994347763407, &quot;z&quot;: 3.141592653589793}], &quot;faces&quot;: [[0, 1, 2], [0, 3, 1], [0, 4, 3], [0, 5, 4], [0, 2, 5], [2, 1, 6], [1, 3, 6], [3, 4, 6], [4, 5, 6], [5, 2, 6]], &quot;color&quot;: &quot;#004a6b&quot;, &quot;opacity&quot;: 1.0}, {&quot;vertices&quot;: [{&quot;x&quot;: 0.8721748586940852, &quot;y&quot;: 0.0, &quot;z&quot;: 5.313540106780576e-18}, {&quot;x&quot;: 0.8721748586940852, &quot;y&quot;: 0.0030901699437494747, &quot;z&quot;: -0.009510565162951531}, {&quot;x&quot;: 0.8721748586940852, &quot;y&quot;: 0.01, &quot;z&quot;: 5.313540106780576e-18}, {&quot;x&quot;: 0.8721748586940852, &quot;y&quot;: -0.008090169943749474, &quot;z&quot;: -0.005877852522924727}, {&quot;x&quot;: 0.8721748586940852, &quot;y&quot;: -0.008090169943749476, &quot;z&quot;: 0.005877852522924736}, {&quot;x&quot;: 0.8721748586940852, &quot;y&quot;: 0.0030901699437494725, &quot;z&quot;: 0.009510565162951541}, {&quot;x&quot;: 0.7853981633974483, &quot;y&quot;: 0.0030901699437494747, &quot;z&quot;: -0.009510565162951536}, {&quot;x&quot;: 0.7853981633974483, &quot;y&quot;: 0.01, &quot;z&quot;: 0.0}, {&quot;x&quot;: 0.7853981633974483, &quot;y&quot;: -0.008090169943749474, &quot;z&quot;: -0.005877852522924732}, {&quot;x&quot;: 0.7853981633974483, &quot;y&quot;: -0.008090169943749476, &quot;z&quot;: 0.005877852522924731}, {&quot;x&quot;: 0.7853981633974483, &quot;y&quot;: 0.0030901699437494725, &quot;z&quot;: 0.009510565162951536}, {&quot;x&quot;: 0.7853981633974483, &quot;y&quot;: 0.0, &quot;z&quot;: 0.0}], &quot;faces&quot;: [[0, 1, 2], [0, 3, 1], [0, 4, 3], [0, 5, 4], [0, 2, 5], [2, 1, 6, 7], [1, 3, 8, 6], [3, 4, 9, 8], [4, 5, 10, 9], [5, 2, 7, 10], [7, 6, 11], [6, 8, 11], [8, 9, 11], [9, 10, 11], [10, 7, 11]], &quot;color&quot;: &quot;#a52d00&quot;, &quot;opacity&quot;: 1.0}, {&quot;vertices&quot;: [{&quot;x&quot;: 0.9621748586940851, &quot;y&quot;: 0.0, &quot;z&quot;: 1.0824450702943666e-17}, {&quot;x&quot;: 0.8721748586940852, &quot;y&quot;: 0.009270509831248424, &quot;z&quot;: -0.0285316954888546}, {&quot;x&quot;: 0.8721748586940852, &quot;y&quot;: 0.03, &quot;z&quot;: 5.313540106780576e-18}, {&quot;x&quot;: 0.8721748586940852, &quot;y&quot;: -0.02427050983124842, &quot;z&quot;: -0.01763355756877419}, {&quot;x&quot;: 0.8721748586940852, &quot;y&quot;: -0.024270509831248427, &quot;z&quot;: 0.017633557568774196}, {&quot;x&quot;: 0.8721748586940852, &quot;y&quot;: 0.009270509831248417, &quot;z&quot;: 0.028531695488854616}, {&quot;x&quot;: 0.8721748586940852, &quot;y&quot;: 0.0, &quot;z&quot;: 5.313540106780576e-18}], &quot;faces&quot;: [[0, 1, 2], [0, 3, 1], [0, 4, 3], [0, 5, 4], [0, 2, 5], [2, 1, 6], [1, 3, 6], [3, 4, 6], [4, 5, 6], [5, 2, 6]], &quot;color&quot;: &quot;#a52d00&quot;, &quot;opacity&quot;: 1.0}, {&quot;vertices&quot;: [{&quot;x&quot;: 0.8548080591619512, &quot;y&quot;: 0.0, &quot;z&quot;: 0.8737735874807591}, {&quot;x&quot;: 0.8622875394701014, &quot;y&quot;: 0.0030901699437494747, &quot;z&quot;: 0.8678992173835707}, {&quot;x&quot;: 0.8548080591619512, &quot;y&quot;: 0.01, &quot;z&quot;: 0.8737735874807591}, {&quot;x&quot;: 0.8594306322105736, &quot;y&quot;: -0.008090169943749474, &quot;z&quot;: 0.8701430270982006}, {&quot;x&quot;: 0.8501854861133289, &quot;y&quot;: -0.008090169943749476, &quot;z&quot;: 0.8774041478633177}, {&quot;x&quot;: 0.8473285788538011, &quot;y&quot;: 0.0030901699437494725, &quot;z&quot;: 0.8796479575779476}, {&quot;x&quot;: 0.7928776437055984, &quot;y&quot;: 0.0030901699437494747, &quot;z&quot;: 0.7795237933002598}, {&quot;x&quot;: 0.7853981633974483, &quot;y&quot;: 0.01, &quot;z&quot;: 0.7853981633974483}, {&quot;x&quot;: 0.7900207364460706, &quot;y&quot;: -0.008090169943749474, &quot;z&quot;: 0.7817676030148898}, {&quot;x&quot;: 0.7807755903488259, &quot;y&quot;: -0.008090169943749476, &quot;z&quot;: 0.7890287237800068}, {&quot;x&quot;: 0.7779186830892981, &quot;y&quot;: 0.0030901699437494725, &quot;z&quot;: 0.7912725334946368}, {&quot;x&quot;: 0.7853981633974483, &quot;y&quot;: 0.0, &quot;z&quot;: 0.7853981633974483}], &quot;faces&quot;: [[0, 1, 2], [0, 3, 1], [0, 4, 3], [0, 5, 4], [0, 2, 5], [2, 1, 6, 7], [1, 3, 8, 6], [3, 4, 9, 8], [4, 5, 10, 9], [5, 2, 7, 10], [7, 6, 11], [6, 8, 11], [8, 9, 11], [9, 10, 11], [10, 7, 11]], &quot;color&quot;: &quot;#993300&quot;, &quot;opacity&quot;: 1.0}, {&quot;vertices&quot;: [{&quot;x&quot;: 0.9103981633974483, &quot;y&quot;: 0.0, &quot;z&quot;: 0.9445531064893435}, {&quot;x&quot;: 0.8772465000864016, &quot;y&quot;: 0.009270509831248424, &quot;z&quot;: 0.8561504771891937}, {&quot;x&quot;: 0.8548080591619512, &quot;y&quot;: 0.03, &quot;z&quot;: 0.8737735874807591}, {&quot;x&quot;: 0.8686757783078182, &quot;y&quot;: -0.02427050983124842, &quot;z&quot;: 0.8628819063330836}, {&quot;x&quot;: 0.8409403400160843, &quot;y&quot;: -0.024270509831248427, &quot;z&quot;: 0.8846652686284345}, {&quot;x&quot;: 0.8323696182375009, &quot;y&quot;: 0.009270509831248417, &quot;z&quot;: 0.8913966977723244}, {&quot;x&quot;: 0.8548080591619512, &quot;y&quot;: 0.0, &quot;z&quot;: 0.8737735874807591}], &quot;faces&quot;: [[0, 1, 2], [0, 3, 1], [0, 4, 3], [0, 5, 4], [0, 2, 5], [2, 1, 6], [1, 3, 6], [3, 4, 6], [4, 5, 6], [5, 2, 6]], &quot;color&quot;: &quot;#993300&quot;, &quot;opacity&quot;: 1.0}, {&quot;vertices&quot;: [{&quot;x&quot;: 0.7853981633974483, &quot;y&quot;: 0.0, &quot;z&quot;: 1.7058754058341732}, {&quot;x&quot;: 0.7949087285603998, &quot;y&quot;: 0.0030901699437494747, &quot;z&quot;: 1.7058754058341732}, {&quot;x&quot;: 0.7853981633974483, &quot;y&quot;: 0.01, &quot;z&quot;: 1.7058754058341732}, {&quot;x&quot;: 0.791276015920373, &quot;y&quot;: -0.008090169943749474, &quot;z&quot;: 1.7058754058341732}, {&quot;x&quot;: 0.7795203108745236, &quot;y&quot;: -0.008090169943749476, &quot;z&quot;: 1.7058754058341732}, {&quot;x&quot;: 0.7758875982344967, &quot;y&quot;: 0.0030901699437494725, &quot;z&quot;: 1.7058754058341732}, {&quot;x&quot;: 0.7949087285603998, &quot;y&quot;: 0.0030901699437494747, &quot;z&quot;: 1.5707963267948966}, {&quot;x&quot;: 0.7853981633974483, &quot;y&quot;: 0.01, &quot;z&quot;: 1.5707963267948966}, {&quot;x&quot;: 0.791276015920373, &quot;y&quot;: -0.008090169943749474, &quot;z&quot;: 1.5707963267948966}, {&quot;x&quot;: 0.7795203108745236, &quot;y&quot;: -0.008090169943749476, &quot;z&quot;: 1.5707963267948966}, {&quot;x&quot;: 0.7758875982344967, &quot;y&quot;: 0.0030901699437494725, &quot;z&quot;: 1.5707963267948966}, {&quot;x&quot;: 0.7853981633974483, &quot;y&quot;: 0.0, &quot;z&quot;: 1.5707963267948966}], &quot;faces&quot;: [[0, 1, 2], [0, 3, 1], [0, 4, 3], [0, 5, 4], [0, 2, 5], [2, 1, 6, 7], [1, 3, 8, 6], [3, 4, 9, 8], [4, 5, 10, 9], [5, 2, 7, 10], [7, 6, 11], [6, 8, 11], [8, 9, 11], [9, 10, 11], [10, 7, 11]], &quot;color&quot;: &quot;#8d3900&quot;, &quot;opacity&quot;: 1.0}, {&quot;vertices&quot;: [{&quot;x&quot;: 0.7853981633974483, &quot;y&quot;: 0.0, &quot;z&quot;: 1.7958754058341733}, {&quot;x&quot;: 0.8139298588863029, &quot;y&quot;: 0.009270509831248424, &quot;z&quot;: 1.7058754058341732}, {&quot;x&quot;: 0.7853981633974483, &quot;y&quot;: 0.03, &quot;z&quot;: 1.7058754058341732}, {&quot;x&quot;: 0.8030317209662224, &quot;y&quot;: -0.02427050983124842, &quot;z&quot;: 1.7058754058341732}, {&quot;x&quot;: 0.7677646058286741, &quot;y&quot;: -0.024270509831248427, &quot;z&quot;: 1.7058754058341732}, {&quot;x&quot;: 0.7568664679085937, &quot;y&quot;: 0.009270509831248417, &quot;z&quot;: 1.7058754058341732}, {&quot;x&quot;: 0.7853981633974483, &quot;y&quot;: 0.0, &quot;z&quot;: 1.7058754058341732}], &quot;faces&quot;: [[0, 1, 2], [0, 3, 1], [0, 4, 3], [0, 5, 4], [0, 2, 5], [2, 1, 6], [1, 3, 6], [3, 4, 6], [4, 5, 6], [5, 2, 6]], &quot;color&quot;: &quot;#8d3900&quot;, &quot;opacity&quot;: 1.0}, {&quot;vertices&quot;: [{&quot;x&quot;: 0.7159882676329453, &quot;y&quot;: 0.0, &quot;z&quot;: 2.4445699142756556}, {&quot;x&quot;: 0.7234677479410955, &quot;y&quot;: 0.0030901699437494747, &quot;z&quot;: 2.450444284372844}, {&quot;x&quot;: 0.7159882676329453, &quot;y&quot;: 0.01, &quot;z&quot;: 2.4445699142756556}, {&quot;x&quot;: 0.7206108406815677, &quot;y&quot;: -0.008090169943749474, &quot;z&quot;: 2.448200474658214}, {&quot;x&quot;: 0.711365694584323, &quot;y&quot;: -0.008090169943749476, &quot;z&quot;: 2.4409393538930972}, {&quot;x&quot;: 0.7085087873247953, &quot;y&quot;: 0.0030901699437494725, &quot;z&quot;: 2.4386955441784672}, {&quot;x&quot;: 0.7928776437055984, &quot;y&quot;: 0.0030901699437494747, &quot;z&quot;: 2.3620688602895332}, {&quot;x&quot;: 0.7853981633974483, &quot;y&quot;: 0.01, &quot;z&quot;: 2.356194490192345}, {&quot;x&quot;: 0.7900207364460706, &quot;y&quot;: -0.008090169943749474, &quot;z&quot;: 2.359825050574903}, {&quot;x&quot;: 0.7807755903488259, &quot;y&quot;: -0.008090169943749476, &quot;z&quot;: 2.3525639298097865}, {&quot;x&quot;: 0.7779186830892981, &quot;y&quot;: 0.0030901699437494725, &quot;z&quot;: 2.3503201200951565}, {&quot;x&quot;: 0.7853981633974483, &quot;y&quot;: 0.0, &quot;z&quot;: 2.356194490192345}], &quot;faces&quot;: [[0, 1, 2], [0, 3, 1], [0, 4, 3], [0, 5, 4], [0, 2, 5], [2, 1, 6, 7], [1, 3, 8, 6], [3, 4, 9, 8], [4, 5, 10, 9], [5, 2, 7, 10], [7, 6, 11], [6, 8, 11], [8, 9, 11], [9, 10, 11], [10, 7, 11]], &quot;color&quot;: &quot;#993300&quot;, &quot;opacity&quot;: 1.0}, {&quot;vertices&quot;: [{&quot;x&quot;: 0.6603981633974483, &quot;y&quot;: 0.0, &quot;z&quot;: 2.51534943328424}, {&quot;x&quot;: 0.7384267085573957, &quot;y&quot;: 0.009270509831248424, &quot;z&quot;: 2.4621930245672212}, {&quot;x&quot;: 0.7159882676329453, &quot;y&quot;: 0.03, &quot;z&quot;: 2.4445699142756556}, {&quot;x&quot;: 0.7298559867788122, &quot;y&quot;: -0.02427050983124842, &quot;z&quot;: 2.455461595423331}, {&quot;x&quot;: 0.7021205484870784, &quot;y&quot;: -0.024270509831248427, &quot;z&quot;: 2.43367823312798}, {&quot;x&quot;: 0.693549826708495, &quot;y&quot;: 0.009270509831248417, &quot;z&quot;: 2.42694680398409}, {&quot;x&quot;: 0.7159882676329453, &quot;y&quot;: 0.0, &quot;z&quot;: 2.4445699142756556}], &quot;faces&quot;: [[0, 1, 2], [0, 3, 1], [0, 4, 3], [0, 5, 4], [0, 2, 5], [2, 1, 6], [1, 3, 6], [3, 4, 6], [4, 5, 6], [5, 2, 6]], &quot;color&quot;: &quot;#993300&quot;, &quot;opacity&quot;: 1.0}, {&quot;vertices&quot;: [{&quot;x&quot;: 0.6986214681008114, &quot;y&quot;: 0.0, &quot;z&quot;: 3.141592653589793}, {&quot;x&quot;: 0.6986214681008114, &quot;y&quot;: 0.0030901699437494747, &quot;z&quot;: 3.151103218752745}, {&quot;x&quot;: 0.6986214681008114, &quot;y&quot;: 0.01, &quot;z&quot;: 3.141592653589793}, {&quot;x&quot;: 0.6986214681008114, &quot;y&quot;: -0.008090169943749474, &quot;z&quot;: 3.1474705061127177}, {&quot;x&quot;: 0.6986214681008114, &quot;y&quot;: -0.008090169943749476, &quot;z&quot;: 3.1357148010668685}, {&quot;x&quot;: 0.6986214681008114, &quot;y&quot;: 0.0030901699437494725, &quot;z&quot;: 3.1320820884268414}, {&quot;x&quot;: 0.7853981633974483, &quot;y&quot;: 0.0030901699437494747, &quot;z&quot;: 3.151103218752745}, {&quot;x&quot;: 0.7853981633974483, &quot;y&quot;: 0.01, &quot;z&quot;: 3.141592653589793}, {&quot;x&quot;: 0.7853981633974483, &quot;y&quot;: -0.008090169943749474, &quot;z&quot;: 3.1474705061127177}, {&quot;x&quot;: 0.7853981633974483, &quot;y&quot;: -0.008090169943749476, &quot;z&quot;: 3.1357148010668685}, {&quot;x&quot;: 0.7853981633974483, &quot;y&quot;: 0.0030901699437494725, &quot;z&quot;: 3.1320820884268414}, {&quot;x&quot;: 0.7853981633974483, &quot;y&quot;: 0.0, &quot;z&quot;: 3.141592653589793}], &quot;faces&quot;: [[0, 1, 2], [0, 3, 1], [0, 4, 3], [0, 5, 4], [0, 2, 5], [2, 1, 6, 7], [1, 3, 8, 6], [3, 4, 9, 8], [4, 5, 10, 9], [5, 2, 7, 10], [7, 6, 11], [6, 8, 11], [8, 9, 11], [9, 10, 11], [10, 7, 11]], &quot;color&quot;: &quot;#a52d00&quot;, &quot;opacity&quot;: 1.0}, {&quot;vertices&quot;: [{&quot;x&quot;: 0.6086214681008114, &quot;y&quot;: 0.0, &quot;z&quot;: 3.141592653589793}, {&quot;x&quot;: 0.6986214681008114, &quot;y&quot;: 0.009270509831248424, &quot;z&quot;: 3.1701243490786477}, {&quot;x&quot;: 0.6986214681008114, &quot;y&quot;: 0.03, &quot;z&quot;: 3.141592653589793}, {&quot;x&quot;: 0.6986214681008114, &quot;y&quot;: -0.02427050983124842, &quot;z&quot;: 3.1592262111585674}, {&quot;x&quot;: 0.6986214681008114, &quot;y&quot;: -0.024270509831248427, &quot;z&quot;: 3.123959096021019}, {&quot;x&quot;: 0.6986214681008114, &quot;y&quot;: 0.009270509831248417, &quot;z&quot;: 3.1130609581009385}, {&quot;x&quot;: 0.6986214681008114, &quot;y&quot;: 0.0, &quot;z&quot;: 3.141592653589793}], &quot;faces&quot;: [[0, 1, 2], [0, 3, 1], [0, 4, 3], [0, 5, 4], [0, 2, 5], [2, 1, 6], [1, 3, 6], [3, 4, 6], [4, 5, 6], [5, 2, 6]], &quot;color&quot;: &quot;#a52d00&quot;, &quot;opacity&quot;: 1.0}, {&quot;vertices&quot;: [{&quot;x&quot;: 0.8985352483872959, &quot;y&quot;: 0.6722610784076006, &quot;z&quot;: 9.797174393178824e-18}, {&quot;x&quot;: 0.9048356159406463, &quot;y&quot;: 0.6785614459609512, &quot;z&quot;: -0.00453990499739546}, {&quot;x&quot;: 0.9035352483872958, &quot;y&quot;: 0.6772610784076007, &quot;z&quot;: 0.007071067811865486}, {&quot;x&quot;: 0.8974290896768835, &quot;y&quot;: 0.6711549196971883, &quot;z&quot;: -0.00987688340595137}, {&quot;x&quot;: 0.8915512371539588, &quot;y&quot;: 0.6652770671742636, &quot;z&quot;: -0.0015643446504023}, {&quot;x&quot;: 0.8953250507776949, &quot;y&quot;: 0.6690508807979997, &quot;z&quot;: 0.008910065241883688}, {&quot;x&quot;: 0.7916985309507988, &quot;y&quot;: 0.7916985309507988, &quot;z&quot;: -0.004539904997395469}, {&quot;x&quot;: 0.7903981633974483, &quot;y&quot;: 0.7903981633974483, &quot;z&quot;: 0.007071067811865476}, {&quot;x&quot;: 0.7842920046870359, &quot;y&quot;: 0.7842920046870359, &quot;z&quot;: -0.00987688340595138}, {&quot;x&quot;: 0.7784141521641111, &quot;y&quot;: 0.7784141521641111, &quot;z&quot;: -0.0015643446504023098}, {&quot;x&quot;: 0.7821879657878472, &quot;y&quot;: 0.7821879657878472, &quot;z&quot;: 0.008910065241883678}, {&quot;x&quot;: 0.7853981633974483, &quot;y&quot;: 0.7853981633974483, &quot;z&quot;: 0.0}], &quot;faces&quot;: [[0, 1, 2], [0, 3, 1], [0, 4, 3], [0, 5, 4], [0, 2, 5], [2, 1, 6, 7], [1, 3, 8, 6], [3, 4, 9, 8], [4, 5, 10, 9], [5, 2, 7, 10], [7, 6, 11], [6, 8, 11], [8, 9, 11], [9, 10, 11], [10, 7, 11]], &quot;color&quot;: &quot;#813f00&quot;, &quot;opacity&quot;: 1.0}, {&quot;vertices&quot;: [{&quot;x&quot;: 0.9621748586940853, &quot;y&quot;: 0.6086214681008113, &quot;z&quot;: 1.5308084989341912e-17}, {&quot;x&quot;: 0.9174363510473474, &quot;y&quot;: 0.6911621810676521, &quot;z&quot;: -0.01361971499218639}, {&quot;x&quot;: 0.9135352483872959, &quot;y&quot;: 0.6872610784076006, &quot;z&quot;: 0.021213203435596437}, {&quot;x&quot;: 0.8952167722560588, &quot;y&quot;: 0.6689426022763635, &quot;z&quot;: -0.02963065021785412}, {&quot;x&quot;: 0.8775832146872846, &quot;y&quot;: 0.6513090447075893, &quot;z&quot;: -0.004693033951206922}, {&quot;x&quot;: 0.8889046555584929, &quot;y&quot;: 0.6626304855787976, &quot;z&quot;: 0.026730195725651044}, {&quot;x&quot;: 0.8985352483872959, &quot;y&quot;: 0.6722610784076006, &quot;z&quot;: 9.797174393178824e-18}], &quot;faces&quot;: [[0, 1, 2], [0, 3, 1], [0, 4, 3], [0, 5, 4], [0, 2, 5], [2, 1, 6], [1, 3, 6], [3, 4, 6], [4, 5, 6], [5, 2, 6]], &quot;color&quot;: &quot;#813f00&quot;, &quot;opacity&quot;: 1.0}, {&quot;vertices&quot;: [{&quot;x&quot;: 0.8631026531492128, &quot;y&quot;: 0.7076936736456838, &quot;z&quot;: 0.8843345925528631}, {&quot;x&quot;: 0.8715509465858146, &quot;y&quot;: 0.711846115315783, &quot;z&quot;: 0.8809606384652242}, {&quot;x&quot;: 0.8647571801527416, &quot;y&quot;: 0.716039146642155, &quot;z&quot;: 0.8895896492471114}, {&quot;x&quot;: 0.8666694586364365, &quot;y&quot;: 0.7019145507376353, &quot;z&quot;: 0.8769943175559722}, {&quot;x&quot;: 0.8568587667349749, &quot;y&quot;: 0.6999695375932475, &quot;z&quot;: 0.8831720072056523}, {&quot;x&quot;: 0.8556769136360963, &quot;y&quot;: 0.7086990179395981, &quot;z&quot;: 0.890956350290355}, {&quot;x&quot;: 0.7938464568340501, &quot;y&quot;: 0.7895506050675475, &quot;z&quot;: 0.7820242093098094}, {&quot;x&quot;: 0.7870526904009771, &quot;y&quot;: 0.7937436363939194, &quot;z&quot;: 0.7906532200916967}, {&quot;x&quot;: 0.7889649688846719, &quot;y&quot;: 0.7796190404893998, &quot;z&quot;: 0.7780578884005575}, {&quot;x&quot;: 0.7791542769832104, &quot;y&quot;: 0.777674027345012, &quot;z&quot;: 0.7842355780502376}, {&quot;x&quot;: 0.7779724238843319, &quot;y&quot;: 0.7864035076913627, &quot;z&quot;: 0.7920199211349402}, {&quot;x&quot;: 0.7853981633974483, &quot;y&quot;: 0.7853981633974483, &quot;z&quot;: 0.7853981633974483}], &quot;faces&quot;: [[0, 1, 2], [0, 3, 1], [0, 4, 3], [0, 5, 4], [0, 2, 5], [2, 1, 6, 7], [1, 3, 8, 6], [3, 4, 9, 8], [4, 5, 10, 9], [5, 2, 7, 10], [7, 6, 11], [6, 8, 11], [8, 9, 11], [9, 10, 11], [10, 7, 11]], &quot;color&quot;: &quot;#873c00&quot;, &quot;opacity&quot;: 1.0}, {&quot;vertices&quot;: [{&quot;x&quot;: 0.9103981633974483, &quot;y&quot;: 0.6603981633974483, &quot;z&quot;: 0.9445531064893437}, {&quot;x&quot;: 0.8884475334590182, &quot;y&quot;: 0.7201509986559814, &quot;z&quot;: 0.8742127302899466}, {&quot;x&quot;: 0.8680662341597993, &quot;y&quot;: 0.7327300926350973, &quot;z&quot;: 0.9000997626356082}, {&quot;x&quot;: 0.8738030696108838, &quot;y&quot;: 0.6903563049215384, &quot;z&quot;: 0.8623137675621906}, {&quot;x&quot;: 0.8443709939064991, &quot;y&quot;: 0.6845212654883749, &quot;z&quot;: 0.8808468365112309}, {&quot;x&quot;: 0.8408254346098634, &quot;y&quot;: 0.7107097065274269, &quot;z&quot;: 0.904199865765339}, {&quot;x&quot;: 0.8631026531492128, &quot;y&quot;: 0.7076936736456838, &quot;z&quot;: 0.8843345925528631}], &quot;faces&quot;: [[0, 1, 2], [0, 3, 1], [0, 4, 3], [0, 5, 4], [0, 2, 5], [2, 1, 6], [1, 3, 6], [3, 4, 6], [4, 5, 6], [5, 2, 6]], &quot;color&quot;: &quot;#873c00&quot;, &quot;opacity&quot;: 1.0}, {&quot;vertices&quot;: [{&quot;x&quot;: 0.7853981633974483, &quot;y&quot;: 0.7853981633974483, &quot;z&quot;: 1.7058754058341732}, {&quot;x&quot;: 0.7949087285603998, &quot;y&quot;: 0.7884883333411977, &quot;z&quot;: 1.7058754058341732}, {&quot;x&quot;: 0.7853981633974483, &quot;y&quot;: 0.7953981633974483, &quot;z&quot;: 1.7058754058341732}, {&quot;x&quot;: 0.791276015920373, &quot;y&quot;: 0.7773079934536988, &quot;z&quot;: 1.7058754058341732}, {&quot;x&quot;: 0.7795203108745236, &quot;y&quot;: 0.7773079934536988, &quot;z&quot;: 1.7058754058341732}, {&quot;x&quot;: 0.7758875982344967, &quot;y&quot;: 0.7884883333411977, &quot;z&quot;: 1.7058754058341732}, {&quot;x&quot;: 0.7949087285603998, &quot;y&quot;: 0.7884883333411977, &quot;z&quot;: 1.5707963267948966}, {&quot;x&quot;: 0.7853981633974483, &quot;y&quot;: 0.7953981633974483, &quot;z&quot;: 1.5707963267948966}, {&quot;x&quot;: 0.791276015920373, &quot;y&quot;: 0.7773079934536988, &quot;z&quot;: 1.5707963267948966}, {&quot;x&quot;: 0.7795203108745236, &quot;y&quot;: 0.7773079934536988, &quot;z&quot;: 1.5707963267948966}, {&quot;x&quot;: 0.7758875982344967, &quot;y&quot;: 0.7884883333411977, &quot;z&quot;: 1.5707963267948966}, {&quot;x&quot;: 0.7853981633974483, &quot;y&quot;: 0.7853981633974483, &quot;z&quot;: 1.5707963267948966}], &quot;faces&quot;: [[0, 1, 2], [0, 3, 1], [0, 4, 3], [0, 5, 4], [0, 2, 5], [2, 1, 6, 7], [1, 3, 8, 6], [3, 4, 9, 8], [4, 5, 10, 9], [5, 2, 7, 10], [7, 6, 11], [6, 8, 11], [8, 9, 11], [9, 10, 11], [10, 7, 11]], &quot;color&quot;: &quot;#8d3900&quot;, &quot;opacity&quot;: 1.0}, {&quot;vertices&quot;: [{&quot;x&quot;: 0.7853981633974483, &quot;y&quot;: 0.7853981633974483, &quot;z&quot;: 1.7958754058341733}, {&quot;x&quot;: 0.8139298588863029, &quot;y&quot;: 0.7946686732286967, &quot;z&quot;: 1.7058754058341732}, {&quot;x&quot;: 0.7853981633974483, &quot;y&quot;: 0.8153981633974483, &quot;z&quot;: 1.7058754058341732}, {&quot;x&quot;: 0.8030317209662224, &quot;y&quot;: 0.7611276535661998, &quot;z&quot;: 1.7058754058341732}, {&quot;x&quot;: 0.7677646058286741, &quot;y&quot;: 0.7611276535661998, &quot;z&quot;: 1.7058754058341732}, {&quot;x&quot;: 0.7568664679085937, &quot;y&quot;: 0.7946686732286967, &quot;z&quot;: 1.7058754058341732}, {&quot;x&quot;: 0.7853981633974483, &quot;y&quot;: 0.7853981633974483, &quot;z&quot;: 1.7058754058341732}], &quot;faces&quot;: [[0, 1, 2], [0, 3, 1], [0, 4, 3], [0, 5, 4], [0, 2, 5], [2, 1, 6], [1, 3, 6], [3, 4, 6], [4, 5, 6], [5, 2, 6]], &quot;color&quot;: &quot;#8d3900&quot;, &quot;opacity&quot;: 1.0}, {&quot;vertices&quot;: [{&quot;x&quot;: 0.7076936736456838, &quot;y&quot;: 0.8631026531492128, &quot;z&quot;: 2.4551309193477597}, {&quot;x&quot;: 0.7161419670822855, &quot;y&quot;: 0.8672550948193121, &quot;z&quot;: 2.4585048734353983}, {&quot;x&quot;: 0.7093482006492127, &quot;y&quot;: 0.8714481261456839, &quot;z&quot;: 2.4498758626535113}, {&quot;x&quot;: 0.7112604791329075, &quot;y&quot;: 0.8573235302411644, &quot;z&quot;: 2.4624711943446504}, {&quot;x&quot;: 0.7014497872314458, &quot;y&quot;: 0.8553785170967765, &quot;z&quot;: 2.4562935046949703}, {&quot;x&quot;: 0.7002679341325673, &quot;y&quot;: 0.8641079974431272, &quot;z&quot;: 2.4485091616102674}, {&quot;x&quot;: 0.7938464568340501, &quot;y&quot;: 0.7895506050675475, &quot;z&quot;: 2.359568444279984}, {&quot;x&quot;: 0.7870526904009771, &quot;y&quot;: 0.7937436363939194, &quot;z&quot;: 2.3509394334980964}, {&quot;x&quot;: 0.7889649688846719, &quot;y&quot;: 0.7796190404893998, &quot;z&quot;: 2.3635347651892356}, {&quot;x&quot;: 0.7791542769832104, &quot;y&quot;: 0.777674027345012, &quot;z&quot;: 2.3573570755395554}, {&quot;x&quot;: 0.7779724238843319, &quot;y&quot;: 0.7864035076913627, &quot;z&quot;: 2.349572732454853}, {&quot;x&quot;: 0.7853981633974483, &quot;y&quot;: 0.7853981633974483, &quot;z&quot;: 2.356194490192345}], &quot;faces&quot;: [[0, 1, 2], [0, 3, 1], [0, 4, 3], [0, 5, 4], [0, 2, 5], [2, 1, 6, 7], [1, 3, 8, 6], [3, 4, 9, 8], [4, 5, 10, 9], [5, 2, 7, 10], [7, 6, 11], [6, 8, 11], [8, 9, 11], [9, 10, 11], [10, 7, 11]], &quot;color&quot;: &quot;#873c00&quot;, &quot;opacity&quot;: 1.0}, {&quot;vertices&quot;: [{&quot;x&quot;: 0.6603981633974483, &quot;y&quot;: 0.9103981633974483, &quot;z&quot;: 2.51534943328424}, {&quot;x&quot;: 0.7330385539554892, &quot;y&quot;: 0.8755599781595104, &quot;z&quot;: 2.465252781610676}, {&quot;x&quot;: 0.7126572546562704, &quot;y&quot;: 0.8881390721386262, &quot;z&quot;: 2.4393657492650145}, {&quot;x&quot;: 0.7183940901073549, &quot;y&quot;: 0.8457652844250674, &quot;z&quot;: 2.4771517443384323}, {&quot;x&quot;: 0.6889620144029701, &quot;y&quot;: 0.8399302449919039, &quot;z&quot;: 2.458618675389392}, {&quot;x&quot;: 0.6854164551063344, &quot;y&quot;: 0.8661186860309559, &quot;z&quot;: 2.4352656461352837}, {&quot;x&quot;: 0.7076936736456838, &quot;y&quot;: 0.8631026531492128, &quot;z&quot;: 2.4551309193477597}], &quot;faces&quot;: [[0, 1, 2], [0, 3, 1], [0, 4, 3], [0, 5, 4], [0, 2, 5], [2, 1, 6], [1, 3, 6], [3, 4, 6], [4, 5, 6], [5, 2, 6]], &quot;color&quot;: &quot;#873c00&quot;, &quot;opacity&quot;: 1.0}, {&quot;vertices&quot;: [{&quot;x&quot;: 0.6722610784076006, &quot;y&quot;: 0.8985352483872959, &quot;z&quot;: 3.141592653589793}, {&quot;x&quot;: 0.6785614459609512, &quot;y&quot;: 0.9048356159406463, &quot;z&quot;: 3.1461325585871887}, {&quot;x&quot;: 0.6772610784076007, &quot;y&quot;: 0.9035352483872958, &quot;z&quot;: 3.134521585777928}, {&quot;x&quot;: 0.6711549196971883, &quot;y&quot;: 0.8974290896768835, &quot;z&quot;: 3.1514695369957444}, {&quot;x&quot;: 0.6652770671742636, &quot;y&quot;: 0.8915512371539588, &quot;z&quot;: 3.1431569982401952}, {&quot;x&quot;: 0.6690508807979997, &quot;y&quot;: 0.8953250507776949, &quot;z&quot;: 3.1326825883479095}, {&quot;x&quot;: 0.7916985309507988, &quot;y&quot;: 0.7916985309507988, &quot;z&quot;: 3.1461325585871887}, {&quot;x&quot;: 0.7903981633974483, &quot;y&quot;: 0.7903981633974483, &quot;z&quot;: 3.134521585777928}, {&quot;x&quot;: 0.7842920046870359, &quot;y&quot;: 0.7842920046870359, &quot;z&quot;: 3.1514695369957444}, {&quot;x&quot;: 0.7784141521641111, &quot;y&quot;: 0.7784141521641111, &quot;z&quot;: 3.1431569982401952}, {&quot;x&quot;: 0.7821879657878472, &quot;y&quot;: 0.7821879657878472, &quot;z&quot;: 3.1326825883479095}, {&quot;x&quot;: 0.7853981633974483, &quot;y&quot;: 0.7853981633974483, &quot;z&quot;: 3.141592653589793}], &quot;faces&quot;: [[0, 1, 2], [0, 3, 1], [0, 4, 3], [0, 5, 4], [0, 2, 5], [2, 1, 6, 7], [1, 3, 8, 6], [3, 4, 9, 8], [4, 5, 10, 9], [5, 2, 7, 10], [7, 6, 11], [6, 8, 11], [8, 9, 11], [9, 10, 11], [10, 7, 11]], &quot;color&quot;: &quot;#813f00&quot;, &quot;opacity&quot;: 1.0}, {&quot;vertices&quot;: [{&quot;x&quot;: 0.6086214681008113, &quot;y&quot;: 0.9621748586940853, &quot;z&quot;: 3.141592653589793}, {&quot;x&quot;: 0.6911621810676521, &quot;y&quot;: 0.9174363510473474, &quot;z&quot;: 3.1552123685819797}, {&quot;x&quot;: 0.6872610784076006, &quot;y&quot;: 0.9135352483872959, &quot;z&quot;: 3.120379450154197}, {&quot;x&quot;: 0.6689426022763635, &quot;y&quot;: 0.8952167722560588, &quot;z&quot;: 3.1712233038076474}, {&quot;x&quot;: 0.6513090447075893, &quot;y&quot;: 0.8775832146872846, &quot;z&quot;: 3.146285687541}, {&quot;x&quot;: 0.6626304855787976, &quot;y&quot;: 0.8889046555584929, &quot;z&quot;: 3.114862457864142}, {&quot;x&quot;: 0.6722610784076006, &quot;y&quot;: 0.8985352483872959, &quot;z&quot;: 3.141592653589793}], &quot;faces&quot;: [[0, 1, 2], [0, 3, 1], [0, 4, 3], [0, 5, 4], [0, 2, 5], [2, 1, 6], [1, 3, 6], [3, 4, 6], [4, 5, 6], [5, 2, 6]], &quot;color&quot;: &quot;#813f00&quot;, &quot;opacity&quot;: 1.0}, {&quot;vertices&quot;: [{&quot;x&quot;: 0.921925635099089, &quot;y&quot;: 1.2977413833916152, &quot;z&quot;: 1.8693296994714332e-17}, {&quot;x&quot;: 0.93077015520695, &quot;y&quot;: 1.3021636434455457, &quot;z&quot;: -0.0014893220192599707}, {&quot;x&quot;: 0.925925635099089, &quot;y&quot;: 1.2997413833916152, &quot;z&quot;: 0.008944271909999179}, {&quot;x&quot;: 0.9233918491399289, &quot;y&quot;: 1.298474490412035, &quot;z&quot;: -0.009864723538095439}, {&quot;x&quot;: 0.9139872851032493, &quot;y&quot;: 1.2937722083936953, &quot;z&quot;: -0.004607412416904104}, {&quot;x&quot;: 0.9155532509462275, &quot;y&quot;: 1.2945551913151845, &quot;z&quot;: 0.007017186064260428}, {&quot;x&quot;: 0.7942426835053092, &quot;y&quot;: 1.575218586848827, &quot;z&quot;: -0.0014893220192599894}, {&quot;x&quot;: 0.7893981633974483, &quot;y&quot;: 1.5727963267948966, &quot;z&quot;: 0.00894427190999916}, {&quot;x&quot;: 0.7868643774382883, &quot;y&quot;: 1.5715294338153165, &quot;z&quot;: -0.009864723538095458}, {&quot;x&quot;: 0.7774598134016087, &quot;y&quot;: 1.5668271517969767, &quot;z&quot;: -0.004607412416904123}, {&quot;x&quot;: 0.7790257792445868, &quot;y&quot;: 1.5676101347184659, &quot;z&quot;: 0.0070171860642604085}, {&quot;x&quot;: 0.7853981633974483, &quot;y&quot;: 1.5707963267948966, &quot;z&quot;: 0.0}], &quot;faces&quot;: [[0, 1, 2], [0, 3, 1], [0, 4, 3], [0, 5, 4], [0, 2, 5], [2, 1, 6, 7], [1, 3, 8, 6], [3, 4, 9, 8], [4, 5, 10, 9], [5, 2, 7, 10], [7, 6, 11], [6, 8, 11], [8, 9, 11], [9, 10, 11], [10, 7, 11]], &quot;color&quot;: &quot;#356500&quot;, &quot;opacity&quot;: 1.0}, {&quot;vertices&quot;: [{&quot;x&quot;: 0.9621748586940851, &quot;y&quot;: 1.2172429362016228, &quot;z&quot;: 2.420420759087742e-17}, {&quot;x&quot;: 0.948459195422672, &quot;y&quot;: 1.3110081635534068, &quot;z&quot;: -0.004467966057779946}, {&quot;x&quot;: 0.933925635099089, &quot;y&quot;: 1.3037413833916152, &quot;z&quot;: 0.026832815729997492}, {&quot;x&quot;: 0.9263242772216089, &quot;y&quot;: 1.2999407044528752, &quot;z&quot;: -0.02959417061428635}, {&quot;x&quot;: 0.8981105851115703, &quot;y&quot;: 1.2858338583978557, &quot;z&quot;: -0.013822237250712351}, {&quot;x&quot;: 0.9028084826405046, &quot;y&quot;: 1.288182807162323, &quot;z&quot;: 0.021051558192781244}, {&quot;x&quot;: 0.921925635099089, &quot;y&quot;: 1.2977413833916152, &quot;z&quot;: 1.8693296994714332e-17}], &quot;faces&quot;: [[0, 1, 2], [0, 3, 1], [0, 4, 3], [0, 5, 4], [0, 2, 5], [2, 1, 6], [1, 3, 6], [3, 4, 6], [4, 5, 6], [5, 2, 6]], &quot;color&quot;: &quot;#356500&quot;, &quot;opacity&quot;: 1.0}, {&quot;vertices&quot;: [{&quot;x&quot;: 0.8754216786885602, &quot;y&quot;: 1.3907492962126726, &quot;z&quot;: 0.9000196630221626}, {&quot;x&quot;: 0.8845957685720598, &quot;y&quot;: 1.394512416715326, &quot;z&quot;: 0.8987254455396735}, {&quot;x&quot;: 0.8774424145344633, &quot;y&quot;: 1.3967078245208666, &quot;z&quot;: 0.9077922151796933}, {&quot;x&quot;: 0.8790708422065064, &quot;y&quot;: 1.3871165042788802, &quot;z&quot;: 0.8914472404716194}, {&quot;x&quot;: 0.8685028958896576, &quot;y&quot;: 1.384740986820879, &quot;z&quot;: 0.8960158320024899}, {&quot;x&quot;: 0.8674964722401141, &quot;y&quot;: 1.3906687487274114, &quot;z&quot;: 0.906117581917337}, {&quot;x&quot;: 0.7945722532809478, &quot;y&quot;: 1.57455944729755, &quot;z&quot;: 0.7841039459149591}, {&quot;x&quot;: 0.7874188992433514, &quot;y&quot;: 1.5767548551030903, &quot;z&quot;: 0.793170715554979}, {&quot;x&quot;: 0.7890473269153945, &quot;y&quot;: 1.5671635348611042, &quot;z&quot;: 0.776825740846905}, {&quot;x&quot;: 0.7784793805985456, &quot;y&quot;: 1.564788017403103, &quot;z&quot;: 0.7813943323777756}, {&quot;x&quot;: 0.7774729569490021, &quot;y&quot;: 1.5707157793096354, &quot;z&quot;: 0.7914960822926227}, {&quot;x&quot;: 0.7853981633974483, &quot;y&quot;: 1.5707963267948966, &quot;z&quot;: 0.7853981633974483}], &quot;faces&quot;: [[0, 1, 2], [0, 3, 1], [0, 4, 3], [0, 5, 4], [0, 2, 5], [2, 1, 6, 7], [1, 3, 8, 6], [3, 4, 9, 8], [4, 5, 10, 9], [5, 2, 7, 10], [7, 6, 11], [6, 8, 11], [8, 9, 11], [9, 10, 11], [10, 7, 11]], &quot;color&quot;: &quot;#5b5200&quot;, &quot;opacity&quot;: 1.0}, {&quot;vertices&quot;: [{&quot;x&quot;: 0.9103981633974483, &quot;y&quot;: 1.3207963267948966, &quot;z&quot;: 0.9445531064893437}, {&quot;x&quot;: 0.9029439483390589, &quot;y&quot;: 1.402038657720633, &quot;z&quot;: 0.8961370105746953}, {&quot;x&quot;: 0.8814838862262695, &quot;y&quot;: 1.4086248811372541, &quot;z&quot;: 0.9233373194947546}, {&quot;x&quot;: 0.886369169242399, &quot;y&quot;: 1.3798509204112952, &quot;z&quot;: 0.8743023953705328}, {&quot;x&quot;: 0.8546653302918523, &quot;y&quot;: 1.3727243680372918, &quot;z&quot;: 0.8880081699631446}, {&quot;x&quot;: 0.8516460593432217, &quot;y&quot;: 1.390507653756889, &quot;z&quot;: 0.9183134197076858}, {&quot;x&quot;: 0.8754216786885602, &quot;y&quot;: 1.3907492962126726, &quot;z&quot;: 0.9000196630221626}], &quot;faces&quot;: [[0, 1, 2], [0, 3, 1], [0, 4, 3], [0, 5, 4], [0, 2, 5], [2, 1, 6], [1, 3, 6], [3, 4, 6], [4, 5, 6], [5, 2, 6]], &quot;color&quot;: &quot;#5b5200&quot;, &quot;opacity&quot;: 1.0}, {&quot;vertices&quot;: [{&quot;x&quot;: 0.7853981633974483, &quot;y&quot;: 1.5707963267948966, &quot;z&quot;: 1.7058754058341732}, {&quot;x&quot;: 0.7949087285603998, &quot;y&quot;: 1.5738864967386461, &quot;z&quot;: 1.7058754058341732}, {&quot;x&quot;: 0.7853981633974483, &quot;y&quot;: 1.5807963267948966, &quot;z&quot;: 1.7058754058341732}, {&quot;x&quot;: 0.791276015920373, &quot;y&quot;: 1.562706156851147, &quot;z&quot;: 1.7058754058341732}, {&quot;x&quot;: 0.7795203108745236, &quot;y&quot;: 1.562706156851147, &quot;z&quot;: 1.7058754058341732}, {&quot;x&quot;: 0.7758875982344967, &quot;y&quot;: 1.5738864967386461, &quot;z&quot;: 1.7058754058341732}, {&quot;x&quot;: 0.7949087285603998, &quot;y&quot;: 1.5738864967386461, &quot;z&quot;: 1.5707963267948966}, {&quot;x&quot;: 0.7853981633974483, &quot;y&quot;: 1.5807963267948966, &quot;z&quot;: 1.5707963267948966}, {&quot;x&quot;: 0.791276015920373, &quot;y&quot;: 1.562706156851147, &quot;z&quot;: 1.5707963267948966}, {&quot;x&quot;: 0.7795203108745236, &quot;y&quot;: 1.562706156851147, &quot;z&quot;: 1.5707963267948966}, {&quot;x&quot;: 0.7758875982344967, &quot;y&quot;: 1.5738864967386461, &quot;z&quot;: 1.5707963267948966}, {&quot;x&quot;: 0.7853981633974483, &quot;y&quot;: 1.5707963267948966, &quot;z&quot;: 1.5707963267948966}], &quot;faces&quot;: [[0, 1, 2], [0, 3, 1], [0, 4, 3], [0, 5, 4], [0, 2, 5], [2, 1, 6, 7], [1, 3, 8, 6], [3, 4, 9, 8], [4, 5, 10, 9], [5, 2, 7, 10], [7, 6, 11], [6, 8, 11], [8, 9, 11], [9, 10, 11], [10, 7, 11]], &quot;color&quot;: &quot;#8d3900&quot;, &quot;opacity&quot;: 1.0}, {&quot;vertices&quot;: [{&quot;x&quot;: 0.7853981633974483, &quot;y&quot;: 1.5707963267948966, &quot;z&quot;: 1.7958754058341733}, {&quot;x&quot;: 0.8139298588863029, &quot;y&quot;: 1.580066836626145, &quot;z&quot;: 1.7058754058341732}, {&quot;x&quot;: 0.7853981633974483, &quot;y&quot;: 1.6007963267948966, &quot;z&quot;: 1.7058754058341732}, {&quot;x&quot;: 0.8030317209662224, &quot;y&quot;: 1.5465258169636482, &quot;z&quot;: 1.7058754058341732}, {&quot;x&quot;: 0.7677646058286741, &quot;y&quot;: 1.5465258169636482, &quot;z&quot;: 1.7058754058341732}, {&quot;x&quot;: 0.7568664679085937, &quot;y&quot;: 1.580066836626145, &quot;z&quot;: 1.7058754058341732}, {&quot;x&quot;: 0.7853981633974483, &quot;y&quot;: 1.5707963267948966, &quot;z&quot;: 1.7058754058341732}], &quot;faces&quot;: [[0, 1, 2], [0, 3, 1], [0, 4, 3], [0, 5, 4], [0, 2, 5], [2, 1, 6], [1, 3, 6], [3, 4, 6], [4, 5, 6], [5, 2, 6]], &quot;color&quot;: &quot;#8d3900&quot;, &quot;opacity&quot;: 1.0}, {&quot;vertices&quot;: [{&quot;x&quot;: 0.6953746481063363, &quot;y&quot;: 1.7508433573771205, &quot;z&quot;: 2.470815989817059}, {&quot;x&quot;: 0.7045487379898359, &quot;y&quot;: 1.7546064778797739, &quot;z&quot;: 2.4721102072995484}, {&quot;x&quot;: 0.6973953839522394, &quot;y&quot;: 1.7568018856853143, &quot;z&quot;: 2.4630434376595285}, {&quot;x&quot;: 0.6990238116242825, &quot;y&quot;: 1.747210565443328, &quot;z&quot;: 2.4793884123676024}, {&quot;x&quot;: 0.6884558653074336, &quot;y&quot;: 1.744835047985327, &quot;z&quot;: 2.474819820836732}, {&quot;x&quot;: 0.6874494416578901, &quot;y&quot;: 1.7507628098918593, &quot;z&quot;: 2.4647180709218848}, {&quot;x&quot;: 0.7945722532809478, &quot;y&quot;: 1.57455944729755, &quot;z&quot;: 2.357488707674834}, {&quot;x&quot;: 0.7874188992433514, &quot;y&quot;: 1.5767548551030903, &quot;z&quot;: 2.3484219380348144}, {&quot;x&quot;: 0.7890473269153945, &quot;y&quot;: 1.5671635348611042, &quot;z&quot;: 2.3647669127428883}, {&quot;x&quot;: 0.7784793805985456, &quot;y&quot;: 1.564788017403103, &quot;z&quot;: 2.3601983212120174}, {&quot;x&quot;: 0.7774729569490021, &quot;y&quot;: 1.5707157793096354, &quot;z&quot;: 2.3500965712971706}, {&quot;x&quot;: 0.7853981633974483, &quot;y&quot;: 1.5707963267948966, &quot;z&quot;: 2.356194490192345}], &quot;faces&quot;: [[0, 1, 2], [0, 3, 1], [0, 4, 3], [0, 5, 4], [0, 2, 5], [2, 1, 6, 7], [1, 3, 8, 6], [3, 4, 9, 8], [4, 5, 10, 9], [5, 2, 7, 10], [7, 6, 11], [6, 8, 11], [8, 9, 11], [9, 10, 11], [10, 7, 11]], &quot;color&quot;: &quot;#5b5200&quot;, &quot;opacity&quot;: 1.0}, {&quot;vertices&quot;: [{&quot;x&quot;: 0.6603981633974483, &quot;y&quot;: 1.8207963267948966, &quot;z&quot;: 2.51534943328424}, {&quot;x&quot;: 0.722896917756835, &quot;y&quot;: 1.7621327188850808, &quot;z&quot;: 2.4746986422645265}, {&quot;x&quot;: 0.7014368556440456, &quot;y&quot;: 1.768718942301702, &quot;z&quot;: 2.447498333344467}, {&quot;x&quot;: 0.706322138660175, &quot;y&quot;: 1.739944981575743, &quot;z&quot;: 2.496533257468689}, {&quot;x&quot;: 0.6746182997096284, &quot;y&quot;: 1.7328184292017397, &quot;z&quot;: 2.4828274828760772}, {&quot;x&quot;: 0.6715990287609978, &quot;y&quot;: 1.7506017149213369, &quot;z&quot;: 2.452522233131536}, {&quot;x&quot;: 0.6953746481063363, &quot;y&quot;: 1.7508433573771205, &quot;z&quot;: 2.470815989817059}], &quot;faces&quot;: [[0, 1, 2], [0, 3, 1], [0, 4, 3], [0, 5, 4], [0, 2, 5], [2, 1, 6], [1, 3, 6], [3, 4, 6], [4, 5, 6], [5, 2, 6]], &quot;color&quot;: &quot;#5b5200&quot;, &quot;opacity&quot;: 1.0}, {&quot;vertices&quot;: [{&quot;x&quot;: 0.6488706916958076, &quot;y&quot;: 1.843851270198178, &quot;z&quot;: 3.141592653589793}, {&quot;x&quot;: 0.6577152118036687, &quot;y&quot;: 1.8482735302521083, &quot;z&quot;: 3.143081975609053}, {&quot;x&quot;: 0.6528706916958076, &quot;y&quot;: 1.845851270198178, &quot;z&quot;: 3.132648381679794}, {&quot;x&quot;: 0.6503369057366476, &quot;y&quot;: 1.844584377218598, &quot;z&quot;: 3.1514573771278886}, {&quot;x&quot;: 0.640932341699968, &quot;y&quot;: 1.8398820952002581, &quot;z&quot;: 3.1462000660066973}, {&quot;x&quot;: 0.6424983075429462, &quot;y&quot;: 1.8406650781217473, &quot;z&quot;: 3.134575467525533}, {&quot;x&quot;: 0.7942426835053092, &quot;y&quot;: 1.575218586848827, &quot;z&quot;: 3.143081975609053}, {&quot;x&quot;: 0.7893981633974483, &quot;y&quot;: 1.5727963267948966, &quot;z&quot;: 3.132648381679794}, {&quot;x&quot;: 0.7868643774382883, &quot;y&quot;: 1.5715294338153165, &quot;z&quot;: 3.1514573771278886}, {&quot;x&quot;: 0.7774598134016087, &quot;y&quot;: 1.5668271517969767, &quot;z&quot;: 3.1462000660066973}, {&quot;x&quot;: 0.7790257792445868, &quot;y&quot;: 1.5676101347184659, &quot;z&quot;: 3.134575467525533}, {&quot;x&quot;: 0.7853981633974483, &quot;y&quot;: 1.5707963267948966, &quot;z&quot;: 3.141592653589793}], &quot;faces&quot;: [[0, 1, 2], [0, 3, 1], [0, 4, 3], [0, 5, 4], [0, 2, 5], [2, 1, 6, 7], [1, 3, 8, 6], [3, 4, 9, 8], [4, 5, 10, 9], [5, 2, 7, 10], [7, 6, 11], [6, 8, 11], [8, 9, 11], [9, 10, 11], [10, 7, 11]], &quot;color&quot;: &quot;#356500&quot;, &quot;opacity&quot;: 1.0}, {&quot;vertices&quot;: [{&quot;x&quot;: 0.6086214681008114, &quot;y&quot;: 1.9243497173881703, &quot;z&quot;: 3.141592653589793}, {&quot;x&quot;: 0.6754042520193906, &quot;y&quot;: 1.8571180503599696, &quot;z&quot;: 3.146060619647573}, {&quot;x&quot;: 0.6608706916958076, &quot;y&quot;: 1.849851270198178, &quot;z&quot;: 3.1147598378597956}, {&quot;x&quot;: 0.6532693338183275, &quot;y&quot;: 1.846050591259438, &quot;z&quot;: 3.1711868242040793}, {&quot;x&quot;: 0.6250556417082889, &quot;y&quot;: 1.8319437452044185, &quot;z&quot;: 3.1554148908405053}, {&quot;x&quot;: 0.6297535392372232, &quot;y&quot;: 1.8342926939688857, &quot;z&quot;: 3.120541095397012}, {&quot;x&quot;: 0.6488706916958076, &quot;y&quot;: 1.843851270198178, &quot;z&quot;: 3.141592653589793}], &quot;faces&quot;: [[0, 1, 2], [0, 3, 1], [0, 4, 3], [0, 5, 4], [0, 2, 5], [2, 1, 6], [1, 3, 6], [3, 4, 6], [4, 5, 6], [5, 2, 6]], &quot;color&quot;: &quot;#356500&quot;, &quot;opacity&quot;: 1.0}, {&quot;vertices&quot;: [{&quot;x&quot;: 0.9337143597525697, &quot;y&quot;: 1.9112459011269805, &quot;z&quot;: 2.871900804534957e-17}, {&quot;x&quot;: 0.943200919382351, &quot;y&quot;: 1.9144080876702407, &quot;z&quot;: -7.591216126487725e-05}, {&quot;x&quot;: 0.9367143597525698, &quot;y&quot;: 1.9122459011269806, &quot;z&quot;: 0.009486832980505169}, {&quot;x&quot;: 0.9365773760400772, &quot;y&quot;: 1.9122002398894828, &quot;z&quot;: -0.009533749276326284}, {&quot;x&quot;: 0.9259972414988127, &quot;y&quot;: 1.9086735283757281, &quot;z&quot;: -0.005816268931724442}, {&quot;x&quot;: 0.9260819020890382, &quot;y&quot;: 1.90870174857247, &quot;z&quot;: 0.0059390973888105774}, {&quot;x&quot;: 0.7948847230272295, &quot;y&quot;: 2.3593566767356053, &quot;z&quot;: -7.591216126490597e-05}, {&quot;x&quot;: 0.7883981633974483, &quot;y&quot;: 2.3571944901923447, &quot;z&quot;: 0.00948683298050514}, {&quot;x&quot;: 0.7882611796849557, &quot;y&quot;: 2.3571488289548475, &quot;z&quot;: -0.009533749276326314}, {&quot;x&quot;: 0.7776810451436912, &quot;y&quot;: 2.3536221174410925, &quot;z&quot;: -0.0058162689317244705}, {&quot;x&quot;: 0.7777657057339168, &quot;y&quot;: 2.353650337637834, &quot;z&quot;: 0.005939097388810549}, {&quot;x&quot;: 0.7853981633974483, &quot;y&quot;: 2.356194490192345, &quot;z&quot;: 0.0}], &quot;faces&quot;: [[0, 1, 2], [0, 3, 1], [0, 4, 3], [0, 5, 4], [0, 2, 5], [2, 1, 6, 7], [1, 3, 8, 6], [3, 4, 9, 8], [4, 5, 10, 9], [5, 2, 7, 10], [7, 6, 11], [6, 8, 11], [8, 9, 11], [9, 10, 11], [10, 7, 11]], &quot;color&quot;: &quot;#00701f&quot;, &quot;opacity&quot;: 1.0}, {&quot;vertices&quot;: [{&quot;x&quot;: 0.962174858694085, &quot;y&quot;: 1.8258644043024341, &quot;z&quot;: 3.422991864151266e-17}, {&quot;x&quot;: 0.9621740386419133, &quot;y&quot;: 1.9207324607567617, &quot;z&quot;: -0.00022773648379468831}, {&quot;x&quot;: 0.9427143597525697, &quot;y&quot;: 1.9142459011269803, &quot;z&quot;: 0.028460498941515443}, {&quot;x&quot;: 0.9423034086150919, &quot;y&quot;: 1.9141089174144879, &quot;z&quot;: -0.02860124782897891}, {&quot;x&quot;: 0.9105630049912984, &quot;y&quot;: 1.9035287828732232, &quot;z&quot;: -0.017448806795173383}, {&quot;x&quot;: 0.9108169867619751, &quot;y&quot;: 1.9036134434634489, &quot;z&quot;: 0.017817292166431672}, {&quot;x&quot;: 0.9337143597525697, &quot;y&quot;: 1.9112459011269805, &quot;z&quot;: 2.871900804534957e-17}], &quot;faces&quot;: [[0, 1, 2], [0, 3, 1], [0, 4, 3], [0, 5, 4], [0, 2, 5], [2, 1, 6], [1, 3, 6], [3, 4, 6], [4, 5, 6], [5, 2, 6]], &quot;color&quot;: &quot;#00701f&quot;, &quot;opacity&quot;: 1.0}, {&quot;vertices&quot;: [{&quot;x&quot;: 0.8839972980124758, &quot;y&quot;: 2.0603970863472623, &quot;z&quot;: 0.9109384806659669}, {&quot;x&quot;: 0.8934928236090928, &quot;y&quot;: 2.0635323749900154, &quot;z&quot;: 0.9108680621271087}, {&quot;x&quot;: 0.88587681048503, &quot;y&quot;: 2.0647585489296, &quot;z&quot;: 0.9197387691276244}, {&quot;x&quot;: 0.8879863430996756, &quot;y&quot;: 2.0579733387106875, &quot;z&quot;: 0.9020946711538569}, {&quot;x&quot;: 0.8769671378624042, &quot;y&quot;: 2.0557638392849533, &quot;z&quot;: 0.9055431243363116}, {&quot;x&quot;: 0.8756633750061767, &quot;y&quot;: 2.0599573298210543, &quot;z&quot;: 0.916447776584933}, {&quot;x&quot;: 0.7948936889940652, &quot;y&quot;: 2.3593297788350984, &quot;z&quot;: 0.78532774485859}, {&quot;x&quot;: 0.7872776758700024, &quot;y&quot;: 2.3605559527746824, &quot;z&quot;: 0.7941984518591058}, {&quot;x&quot;: 0.789387208484648, &quot;y&quot;: 2.35377074255577, &quot;z&quot;: 0.7765543538853383}, {&quot;x&quot;: 0.7783680032473766, &quot;y&quot;: 2.3515612431300363, &quot;z&quot;: 0.7800028070677929}, {&quot;x&quot;: 0.7770642403911492, &quot;y&quot;: 2.355754733666137, &quot;z&quot;: 0.7909074593164144}, {&quot;x&quot;: 0.7853981633974483, &quot;y&quot;: 2.356194490192345, &quot;z&quot;: 0.7853981633974483}], &quot;faces&quot;: [[0, 1, 2], [0, 3, 1], [0, 4, 3], [0, 5, 4], [0, 2, 5], [2, 1, 6, 7], [1, 3, 8, 6], [3, 4, 9, 8], [4, 5, 10, 9], [5, 2, 7, 10], [7, 6, 11], [6, 8, 11], [8, 9, 11], [9, 10, 11], [10, 7, 11]], &quot;color&quot;: &quot;#256d00&quot;, &quot;opacity&quot;: 1.0}, {&quot;vertices&quot;: [{&quot;x&quot;: 0.9103981633974483, &quot;y&quot;: 1.9811944901923448, &quot;z&quot;: 0.9445531064893437}, {&quot;x&quot;: 0.9124838748023265, &quot;y&quot;: 2.0698029522755226, &quot;z&quot;: 0.9107272250493923}, {&quot;x&quot;: 0.8896358354301381, &quot;y&quot;: 2.073481474094275, &quot;z&quot;: 0.9373393460509394}, {&quot;x&quot;: 0.8959644332740752, &quot;y&quot;: 2.0531258434375386, &quot;z&quot;: 0.884407052129637}, {&quot;x&quot;: 0.8629068175622608, &quot;y&quot;: 2.0464973451603363, &quot;z&quot;: 0.8947524116770008}, {&quot;x&quot;: 0.8589955289935786, &quot;y&quot;: 2.0590778167686388, &quot;z&quot;: 0.9274663684228651}, {&quot;x&quot;: 0.8839972980124758, &quot;y&quot;: 2.0603970863472623, &quot;z&quot;: 0.9109384806659669}], &quot;faces&quot;: [[0, 1, 2], [0, 3, 1], [0, 4, 3], [0, 5, 4], [0, 2, 5], [2, 1, 6], [1, 3, 6], [3, 4, 6], [4, 5, 6], [5, 2, 6]], &quot;color&quot;: &quot;#256d00&quot;, &quot;opacity&quot;: 1.0}, {&quot;vertices&quot;: [{&quot;x&quot;: 0.7853981633974483, &quot;y&quot;: 2.356194490192345, &quot;z&quot;: 1.7058754058341732}, {&quot;x&quot;: 0.7949087285603998, &quot;y&quot;: 2.3592846601360944, &quot;z&quot;: 1.7058754058341732}, {&quot;x&quot;: 0.7853981633974483, &quot;y&quot;: 2.3661944901923446, &quot;z&quot;: 1.7058754058341732}, {&quot;x&quot;: 0.791276015920373, &quot;y&quot;: 2.3481043202485954, &quot;z&quot;: 1.7058754058341732}, {&quot;x&quot;: 0.7795203108745236, &quot;y&quot;: 2.3481043202485954, &quot;z&quot;: 1.7058754058341732}, {&quot;x&quot;: 0.7758875982344967, &quot;y&quot;: 2.3592846601360944, &quot;z&quot;: 1.7058754058341732}, {&quot;x&quot;: 0.7949087285603998, &quot;y&quot;: 2.3592846601360944, &quot;z&quot;: 1.5707963267948966}, {&quot;x&quot;: 0.7853981633974483, &quot;y&quot;: 2.3661944901923446, &quot;z&quot;: 1.5707963267948966}, {&quot;x&quot;: 0.791276015920373, &quot;y&quot;: 2.3481043202485954, &quot;z&quot;: 1.5707963267948966}, {&quot;x&quot;: 0.7795203108745236, &quot;y&quot;: 2.3481043202485954, &quot;z&quot;: 1.5707963267948966}, {&quot;x&quot;: 0.7758875982344967, &quot;y&quot;: 2.3592846601360944, &quot;z&quot;: 1.5707963267948966}, {&quot;x&quot;: 0.7853981633974483, &quot;y&quot;: 2.356194490192345, &quot;z&quot;: 1.5707963267948966}], &quot;faces&quot;: [[0, 1, 2], [0, 3, 1], [0, 4, 3], [0, 5, 4], [0, 2, 5], [2, 1, 6, 7], [1, 3, 8, 6], [3, 4, 9, 8], [4, 5, 10, 9], [5, 2, 7, 10], [7, 6, 11], [6, 8, 11], [8, 9, 11], [9, 10, 11], [10, 7, 11]], &quot;color&quot;: &quot;#8d3900&quot;, &quot;opacity&quot;: 1.0}, {&quot;vertices&quot;: [{&quot;x&quot;: 0.7853981633974483, &quot;y&quot;: 2.356194490192345, &quot;z&quot;: 1.7958754058341733}, {&quot;x&quot;: 0.8139298588863029, &quot;y&quot;: 2.365465000023593, &quot;z&quot;: 1.7058754058341732}, {&quot;x&quot;: 0.7853981633974483, &quot;y&quot;: 2.3861944901923446, &quot;z&quot;: 1.7058754058341732}, {&quot;x&quot;: 0.8030317209662224, &quot;y&quot;: 2.3319239803610965, &quot;z&quot;: 1.7058754058341732}, {&quot;x&quot;: 0.7677646058286741, &quot;y&quot;: 2.3319239803610965, &quot;z&quot;: 1.7058754058341732}, {&quot;x&quot;: 0.7568664679085937, &quot;y&quot;: 2.365465000023593, &quot;z&quot;: 1.7058754058341732}, {&quot;x&quot;: 0.7853981633974483, &quot;y&quot;: 2.356194490192345, &quot;z&quot;: 1.7058754058341732}], &quot;faces&quot;: [[0, 1, 2], [0, 3, 1], [0, 4, 3], [0, 5, 4], [0, 2, 5], [2, 1, 6], [1, 3, 6], [3, 4, 6], [4, 5, 6], [5, 2, 6]], &quot;color&quot;: &quot;#8d3900&quot;, &quot;opacity&quot;: 1.0}, {&quot;vertices&quot;: [{&quot;x&quot;: 0.6867990287824208, &quot;y&quot;: 2.6519918940374274, &quot;z&quot;: 2.4817348074608634}, {&quot;x&quot;: 0.6962945543790376, &quot;y&quot;: 2.6551271826801806, &quot;z&quot;: 2.4818052259997216}, {&quot;x&quot;: 0.6886785412549749, &quot;y&quot;: 2.656353356619765, &quot;z&quot;: 2.472934518999206}, {&quot;x&quot;: 0.6907880738696206, &quot;y&quot;: 2.6495681464008527, &quot;z&quot;: 2.4905786169729733}, {&quot;x&quot;: 0.6797688686323491, &quot;y&quot;: 2.6473586469751185, &quot;z&quot;: 2.487130163790519}, {&quot;x&quot;: 0.6784651057761217, &quot;y&quot;: 2.6515521375112194, &quot;z&quot;: 2.4762255115418976}, {&quot;x&quot;: 0.7948936889940652, &quot;y&quot;: 2.3593297788350984, &quot;z&quot;: 2.356264908731203}, {&quot;x&quot;: 0.7872776758700024, &quot;y&quot;: 2.3605559527746824, &quot;z&quot;: 2.3473942017306872}, {&quot;x&quot;: 0.789387208484648, &quot;y&quot;: 2.35377074255577, &quot;z&quot;: 2.365038299704455}, {&quot;x&quot;: 0.7783680032473766, &quot;y&quot;: 2.3515612431300363, &quot;z&quot;: 2.3615898465220004}, {&quot;x&quot;: 0.7770642403911492, &quot;y&quot;: 2.355754733666137, &quot;z&quot;: 2.3506851942733786}, {&quot;x&quot;: 0.7853981633974483, &quot;y&quot;: 2.356194490192345, &quot;z&quot;: 2.356194490192345}], &quot;faces&quot;: [[0, 1, 2], [0, 3, 1], [0, 4, 3], [0, 5, 4], [0, 2, 5], [2, 1, 6, 7], [1, 3, 8, 6], [3, 4, 9, 8], [4, 5, 10, 9], [5, 2, 7, 10], [7, 6, 11], [6, 8, 11], [8, 9, 11], [9, 10, 11], [10, 7, 11]], &quot;color&quot;: &quot;#256d00&quot;, &quot;opacity&quot;: 1.0}, {&quot;vertices&quot;: [{&quot;x&quot;: 0.6603981633974484, &quot;y&quot;: 2.731194490192345, &quot;z&quot;: 2.51534943328424}, {&quot;x&quot;: 0.7152856055722715, &quot;y&quot;: 2.6613977599656877, &quot;z&quot;: 2.481946063077438}, {&quot;x&quot;: 0.6924375662000831, &quot;y&quot;: 2.6650762817844402, &quot;z&quot;: 2.455333942075891}, {&quot;x&quot;: 0.6987661640440201, &quot;y&quot;: 2.6447206511277037, &quot;z&quot;: 2.5082662359971932}, {&quot;x&quot;: 0.6657085483322058, &quot;y&quot;: 2.6380921528505015, &quot;z&quot;: 2.4979208764498297}, {&quot;x&quot;: 0.6617972597635235, &quot;y&quot;: 2.650672624458804, &quot;z&quot;: 2.465206919703965}, {&quot;x&quot;: 0.6867990287824208, &quot;y&quot;: 2.6519918940374274, &quot;z&quot;: 2.4817348074608634}], &quot;faces&quot;: [[0, 1, 2], [0, 3, 1], [0, 4, 3], [0, 5, 4], [0, 2, 5], [2, 1, 6], [1, 3, 6], [3, 4, 6], [4, 5, 6], [5, 2, 6]], &quot;color&quot;: &quot;#256d00&quot;, &quot;opacity&quot;: 1.0}, {&quot;vertices&quot;: [{&quot;x&quot;: 0.6370819670423269, &quot;y&quot;: 2.8011430792577094, &quot;z&quot;: 3.141592653589793}, {&quot;x&quot;: 0.6465685266721081, &quot;y&quot;: 2.8043052658009695, &quot;z&quot;: 3.141668565751058}, {&quot;x&quot;: 0.6400819670423268, &quot;y&quot;: 2.8021430792577093, &quot;z&quot;: 3.132105820609288}, {&quot;x&quot;: 0.6399449833298343, &quot;y&quot;: 2.8020974180202116, &quot;z&quot;: 3.1511264028661197}, {&quot;x&quot;: 0.6293648487885697, &quot;y&quot;: 2.7985707065064567, &quot;z&quot;: 3.147408922521518}, {&quot;x&quot;: 0.6294495093787953, &quot;y&quot;: 2.7985989267031988, &quot;z&quot;: 3.1356535562009826}, {&quot;x&quot;: 0.7948847230272295, &quot;y&quot;: 2.3593566767356053, &quot;z&quot;: 3.141668565751058}, {&quot;x&quot;: 0.7883981633974483, &quot;y&quot;: 2.3571944901923447, &quot;z&quot;: 3.1321058206092878}, {&quot;x&quot;: 0.7882611796849557, &quot;y&quot;: 2.3571488289548475, &quot;z&quot;: 3.1511264028661192}, {&quot;x&quot;: 0.7776810451436912, &quot;y&quot;: 2.3536221174410925, &quot;z&quot;: 3.1474089225215174}, {&quot;x&quot;: 0.7777657057339168, &quot;y&quot;: 2.353650337637834, &quot;z&quot;: 3.1356535562009826}, {&quot;x&quot;: 0.7853981633974483, &quot;y&quot;: 2.356194490192345, &quot;z&quot;: 3.141592653589793}], &quot;faces&quot;: [[0, 1, 2], [0, 3, 1], [0, 4, 3], [0, 5, 4], [0, 2, 5], [2, 1, 6, 7], [1, 3, 8, 6], [3, 4, 9, 8], [4, 5, 10, 9], [5, 2, 7, 10], [7, 6, 11], [6, 8, 11], [8, 9, 11], [9, 10, 11], [10, 7, 11]], &quot;color&quot;: &quot;#00701f&quot;, &quot;opacity&quot;: 1.0}, {&quot;vertices&quot;: [{&quot;x&quot;: 0.6086214681008115, &quot;y&quot;: 2.8865245760822558, &quot;z&quot;: 3.141592653589793}, {&quot;x&quot;: 0.6655416459316705, &quot;y&quot;: 2.8106296388874905, &quot;z&quot;: 3.1418203900735877}, {&quot;x&quot;: 0.6460819670423269, &quot;y&quot;: 2.8041430792577096, &quot;z&quot;: 3.1131321546482775}, {&quot;x&quot;: 0.6456710159048491, &quot;y&quot;: 2.804006095545217, &quot;z&quot;: 3.170193901418772}, {&quot;x&quot;: 0.6139306122810556, &quot;y&quot;: 2.7934259610039525, &quot;z&quot;: 3.1590414603849664}, {&quot;x&quot;: 0.6141845940517323, &quot;y&quot;: 2.793510621594178, &quot;z&quot;: 3.1237753614233617}, {&quot;x&quot;: 0.6370819670423269, &quot;y&quot;: 2.8011430792577094, &quot;z&quot;: 3.141592653589793}], &quot;faces&quot;: [[0, 1, 2], [0, 3, 1], [0, 4, 3], [0, 5, 4], [0, 2, 5], [2, 1, 6], [1, 3, 6], [3, 4, 6], [4, 5, 6], [5, 2, 6]], &quot;color&quot;: &quot;#00701f&quot;, &quot;opacity&quot;: 1.0}, {&quot;vertices&quot;: [{&quot;x&quot;: 0.9403466524408152, &quot;y&quot;: 2.5217986974163256, &quot;z&quot;: 3.911944299136498e-17}, {&quot;x&quot;: 0.9500248714044753, &quot;y&quot;: 2.5242182521572407, &quot;z&quot;: 0.0006912543288578895}, {&quot;x&quot;: 0.9426995936172857, &quot;y&quot;: 2.522386932710443, &quot;z&quot;: 0.00970142500145336}, {&quot;x&quot;: 0.9439751795344503, &quot;y&quot;: 2.5227058291897344, &quot;z&quot;: -0.00927420633134863}, {&quot;x&quot;: 0.9329109865501214, &quot;y&quot;: 2.519939780943652, &quot;z&quot;: -0.006423029060310759}, {&quot;x&quot;: 0.9321226310977431, &quot;y&quot;: 2.5197426920805577, &quot;z&quot;: 0.005304556061348337}, {&quot;x&quot;: 0.7950763823611084, &quot;y&quot;: 3.1440122083307083, &quot;z&quot;: 0.0006912543288578503}, {&quot;x&quot;: 0.7877511045739188, &quot;y&quot;: 3.1421808888839107, &quot;z&quot;: 0.00970142500145332}, {&quot;x&quot;: 0.7890266904910834, &quot;y&quot;: 3.142499785363202, &quot;z&quot;: -0.009274206331348669}, {&quot;x&quot;: 0.7779624975067545, &quot;y&quot;: 3.13973373711712, &quot;z&quot;: -0.006423029060310798}, {&quot;x&quot;: 0.7771741420543761, &quot;y&quot;: 3.1395366482540252, &quot;z&quot;: 0.005304556061348298}, {&quot;x&quot;: 0.7853981633974483, &quot;y&quot;: 3.141592653589793, &quot;z&quot;: 0.0}], &quot;faces&quot;: [[0, 1, 2], [0, 3, 1], [0, 4, 3], [0, 5, 4], [0, 2, 5], [2, 1, 6, 7], [1, 3, 8, 6], [3, 4, 9, 8], [4, 5, 10, 9], [5, 2, 7, 10], [7, 6, 11], [6, 8, 11], [8, 9, 11], [9, 10, 11], [10, 7, 11]], &quot;color&quot;: &quot;#004575&quot;, &quot;opacity&quot;: 1.0}, {&quot;vertices&quot;: [{&quot;x&quot;: 0.9621748586940851, &quot;y&quot;: 2.4344858724032457, &quot;z&quot;: 4.463035358752807e-17}, {&quot;x&quot;: 0.9693813093317956, &quot;y&quot;: 2.5290573616390706, &quot;z&quot;: 0.00207376298657359}, {&quot;x&quot;: 0.947405475970227, &quot;y&quot;: 2.5235634032986787, &quot;z&quot;: 0.029104275004359994}, {&quot;x&quot;: 0.9512322337217206, &quot;y&quot;: 2.524520092736552, &quot;z&quot;: -0.02782261899404597}, {&quot;x&quot;: 0.918039654768734, &quot;y&quot;: 2.5162219479983055, &quot;z&quot;: -0.01926908718093236}, {&quot;x&quot;: 0.9156745884115987, &quot;y&quot;: 2.5156306814090215, &quot;z&quot;: 0.01591366818404493}, {&quot;x&quot;: 0.9403466524408152, &quot;y&quot;: 2.5217986974163256, &quot;z&quot;: 3.911944299136498e-17}], &quot;faces&quot;: [[0, 1, 2], [0, 3, 1], [0, 4, 3], [0, 5, 4], [0, 2, 5], [2, 1, 6], [1, 3, 6], [3, 4, 6], [4, 5, 6], [5, 2, 6]], &quot;color&quot;: &quot;#004575&quot;, &quot;opacity&quot;: 1.0}, {&quot;vertices&quot;: [{&quot;x&quot;: 0.889541761394689, &quot;y&quot;: 2.7250182616008303, &quot;z&quot;: 0.9179979106985369}, {&quot;x&quot;: 0.8991705128083171, &quot;y&quot;: 2.727635686541874, &quot;z&quot;: 0.9186583899885677}, {&quot;x&quot;: 0.8912004490864326, &quot;y&quot;: 2.7283835108338557, &quot;z&quot;: 0.9272674226997633}, {&quot;x&quot;: 0.8938339693457911, &quot;y&quot;: 2.7232706699443714, &quot;z&quot;: 0.909136597347415}, {&quot;x&quot;: 0.8825657403816246, &quot;y&quot;: 2.7213207656176395, &quot;z&quot;: 0.9118608385725495}, {&quot;x&quot;: 0.8809381353512796, &quot;y&quot;: 2.724480675066411, &quot;z&quot;: 0.923066304884389}, {&quot;x&quot;: 0.7950269148110763, &quot;y&quot;: 3.1442100785308367, &quot;z&quot;: 0.7860586426874792}, {&quot;x&quot;: 0.7870568510891919, &quot;y&quot;: 3.1449579028228185, &quot;z&quot;: 0.7946676753986747}, {&quot;x&quot;: 0.7896903713485504, &quot;y&quot;: 3.1398450619333342, &quot;z&quot;: 0.7765368500463264}, {&quot;x&quot;: 0.7784221423843839, &quot;y&quot;: 3.1378951576066023, &quot;z&quot;: 0.7792610912714608}, {&quot;x&quot;: 0.7767945373540389, &quot;y&quot;: 3.141055067055374, &quot;z&quot;: 0.7904665575833003}, {&quot;x&quot;: 0.7853981633974483, &quot;y&quot;: 3.141592653589793, &quot;z&quot;: 0.7853981633974483}], &quot;faces&quot;: [[0, 1, 2], [0, 3, 1], [0, 4, 3], [0, 5, 4], [0, 2, 5], [2, 1, 6, 7], [1, 3, 8, 6], [3, 4, 9, 8], [4, 5, 10, 9], [5, 2, 7, 10], [7, 6, 11], [6, 8, 11], [8, 9, 11], [9, 10, 11], [10, 7, 11]], &quot;color&quot;: &quot;#007515&quot;, &quot;opacity&quot;: 1.0}, {&quot;vertices&quot;: [{&quot;x&quot;: 0.9103981633974483, &quot;y&quot;: 2.641592653589793, &quot;z&quot;: 0.9445531064893437}, {&quot;x&quot;: 0.9184280156355731, &quot;y&quot;: 2.7328705364239605, &quot;z&quot;: 0.9199793485686294}, {&quot;x&quot;: 0.8945178244699198, &quot;y&quot;: 2.735114009299907, &quot;z&quot;: 0.9458064467022159}, {&quot;x&quot;: 0.9024183852479953, &quot;y&quot;: 2.719775486631453, &quot;z&quot;: 0.8914139706451712}, {&quot;x&quot;: 0.8686136983554958, &quot;y&quot;: 2.713925773651258, &quot;z&quot;: 0.8995866943205746}, {&quot;x&quot;: 0.8637308832644609, &quot;y&quot;: 2.723405501997573, &quot;z&quot;: 0.9332030932560931}, {&quot;x&quot;: 0.889541761394689, &quot;y&quot;: 2.7250182616008303, &quot;z&quot;: 0.9179979106985369}], &quot;faces&quot;: [[0, 1, 2], [0, 3, 1], [0, 4, 3], [0, 5, 4], [0, 2, 5], [2, 1, 6], [1, 3, 6], [3, 4, 6], [4, 5, 6], [5, 2, 6]], &quot;color&quot;: &quot;#007515&quot;, &quot;opacity&quot;: 1.0}, {&quot;vertices&quot;: [{&quot;x&quot;: 0.7853981633974483, &quot;y&quot;: 3.141592653589793, &quot;z&quot;: 1.7058754058341732}, {&quot;x&quot;: 0.7949087285603998, &quot;y&quot;: 3.1446828235335427, &quot;z&quot;: 1.7058754058341732}, {&quot;x&quot;: 0.7853981633974483, &quot;y&quot;: 3.151592653589793, &quot;z&quot;: 1.7058754058341732}, {&quot;x&quot;: 0.791276015920373, &quot;y&quot;: 3.1335024836460437, &quot;z&quot;: 1.7058754058341732}, {&quot;x&quot;: 0.7795203108745236, &quot;y&quot;: 3.1335024836460437, &quot;z&quot;: 1.7058754058341732}, {&quot;x&quot;: 0.7758875982344967, &quot;y&quot;: 3.1446828235335427, &quot;z&quot;: 1.7058754058341732}, {&quot;x&quot;: 0.7949087285603998, &quot;y&quot;: 3.1446828235335427, &quot;z&quot;: 1.5707963267948966}, {&quot;x&quot;: 0.7853981633974483, &quot;y&quot;: 3.151592653589793, &quot;z&quot;: 1.5707963267948966}, {&quot;x&quot;: 0.791276015920373, &quot;y&quot;: 3.1335024836460437, &quot;z&quot;: 1.5707963267948966}, {&quot;x&quot;: 0.7795203108745236, &quot;y&quot;: 3.1335024836460437, &quot;z&quot;: 1.5707963267948966}, {&quot;x&quot;: 0.7758875982344967, &quot;y&quot;: 3.1446828235335427, &quot;z&quot;: 1.5707963267948966}, {&quot;x&quot;: 0.7853981633974483, &quot;y&quot;: 3.141592653589793, &quot;z&quot;: 1.5707963267948966}], &quot;faces&quot;: [[0, 1, 2], [0, 3, 1], [0, 4, 3], [0, 5, 4], [0, 2, 5], [2, 1, 6, 7], [1, 3, 8, 6], [3, 4, 9, 8], [4, 5, 10, 9], [5, 2, 7, 10], [7, 6, 11], [6, 8, 11], [8, 9, 11], [9, 10, 11], [10, 7, 11]], &quot;color&quot;: &quot;#8d3900&quot;, &quot;opacity&quot;: 1.0}, {&quot;vertices&quot;: [{&quot;x&quot;: 0.7853981633974483, &quot;y&quot;: 3.141592653589793, &quot;z&quot;: 1.7958754058341733}, {&quot;x&quot;: 0.8139298588863029, &quot;y&quot;: 3.1508631634210413, &quot;z&quot;: 1.7058754058341732}, {&quot;x&quot;: 0.7853981633974483, &quot;y&quot;: 3.171592653589793, &quot;z&quot;: 1.7058754058341732}, {&quot;x&quot;: 0.8030317209662224, &quot;y&quot;: 3.1173221437585448, &quot;z&quot;: 1.7058754058341732}, {&quot;x&quot;: 0.7677646058286741, &quot;y&quot;: 3.1173221437585448, &quot;z&quot;: 1.7058754058341732}, {&quot;x&quot;: 0.7568664679085937, &quot;y&quot;: 3.1508631634210413, &quot;z&quot;: 1.7058754058341732}, {&quot;x&quot;: 0.7853981633974483, &quot;y&quot;: 3.141592653589793, &quot;z&quot;: 1.7058754058341732}], &quot;faces&quot;: [[0, 1, 2], [0, 3, 1], [0, 4, 3], [0, 5, 4], [0, 2, 5], [2, 1, 6], [1, 3, 6], [3, 4, 6], [4, 5, 6], [5, 2, 6]], &quot;color&quot;: &quot;#8d3900&quot;, &quot;opacity&quot;: 1.0}, {&quot;vertices&quot;: [{&quot;x&quot;: 0.6812545654002076, &quot;y&quot;: 3.558167045578756, &quot;z&quot;: 2.4887942374934333}, {&quot;x&quot;: 0.6908833168138356, &quot;y&quot;: 3.5607844705197995, &quot;z&quot;: 2.4881337582034027}, {&quot;x&quot;: 0.6829132530919512, &quot;y&quot;: 3.561532294811782, &quot;z&quot;: 2.4795247254922073}, {&quot;x&quot;: 0.6855467733513096, &quot;y&quot;: 3.556419453922297, &quot;z&quot;: 2.4976555508445553}, {&quot;x&quot;: 0.6742785443871432, &quot;y&quot;: 3.554469549595565, &quot;z&quot;: 2.494931309619421}, {&quot;x&quot;: 0.6726509393567982, &quot;y&quot;: 3.5576294590443367, &quot;z&quot;: 2.4837258433075813}, {&quot;x&quot;: 0.7950269148110763, &quot;y&quot;: 3.1442100785308367, &quot;z&quot;: 2.355534010902314}, {&quot;x&quot;: 0.7870568510891919, &quot;y&quot;: 3.1449579028228185, &quot;z&quot;: 2.3469249781911183}, {&quot;x&quot;: 0.7896903713485504, &quot;y&quot;: 3.1398450619333342, &quot;z&quot;: 2.365055803543467}, {&quot;x&quot;: 0.7784221423843839, &quot;y&quot;: 3.1378951576066023, &quot;z&quot;: 2.362331562318332}, {&quot;x&quot;: 0.7767945373540389, &quot;y&quot;: 3.141055067055374, &quot;z&quot;: 2.351126096006493}, {&quot;x&quot;: 0.7853981633974483, &quot;y&quot;: 3.141592653589793, &quot;z&quot;: 2.356194490192345}], &quot;faces&quot;: [[0, 1, 2], [0, 3, 1], [0, 4, 3], [0, 5, 4], [0, 2, 5], [2, 1, 6, 7], [1, 3, 8, 6], [3, 4, 9, 8], [4, 5, 10, 9], [5, 2, 7, 10], [7, 6, 11], [6, 8, 11], [8, 9, 11], [9, 10, 11], [10, 7, 11]], &quot;color&quot;: &quot;#007515&quot;, &quot;opacity&quot;: 1.0}, {&quot;vertices&quot;: [{&quot;x&quot;: 0.6603981633974483, &quot;y&quot;: 3.641592653589793, &quot;z&quot;: 2.51534943328424}, {&quot;x&quot;: 0.7101408196410917, &quot;y&quot;: 3.566019320401886, &quot;z&quot;: 2.486812799623341}, {&quot;x&quot;: 0.6862306284754384, &quot;y&quot;: 3.5682627932778326, &quot;z&quot;: 2.4609857014897543}, {&quot;x&quot;: 0.6941311892535139, &quot;y&quot;: 3.552924270609379, &quot;z&quot;: 2.515378177546799}, {&quot;x&quot;: 0.6603265023610144, &quot;y&quot;: 3.5470745576291836, &quot;z&quot;: 2.5072054538713955}, {&quot;x&quot;: 0.6554436872699795, &quot;y&quot;: 3.5565542859754986, &quot;z&quot;: 2.473589054935877}, {&quot;x&quot;: 0.6812545654002076, &quot;y&quot;: 3.558167045578756, &quot;z&quot;: 2.4887942374934333}], &quot;faces&quot;: [[0, 1, 2], [0, 3, 1], [0, 4, 3], [0, 5, 4], [0, 2, 5], [2, 1, 6], [1, 3, 6], [3, 4, 6], [4, 5, 6], [5, 2, 6]], &quot;color&quot;: &quot;#007515&quot;, &quot;opacity&quot;: 1.0}, {&quot;vertices&quot;: [{&quot;x&quot;: 0.6304496743540814, &quot;y&quot;: 3.7613866097632607, &quot;z&quot;: 3.141592653589793}, {&quot;x&quot;: 0.6401278933177416, &quot;y&quot;: 3.763806164504176, &quot;z&quot;: 3.1409013992609354}, {&quot;x&quot;: 0.632802615530552, &quot;y&quot;: 3.7619748450573782, &quot;z&quot;: 3.13189122858834}, {&quot;x&quot;: 0.6340782014477165, &quot;y&quot;: 3.7622937415366695, &quot;z&quot;: 3.150866859921142}, {&quot;x&quot;: 0.6230140084633876, &quot;y&quot;: 3.759527693290587, &quot;z&quot;: 3.148015682650104}, {&quot;x&quot;: 0.6222256530110093, &quot;y&quot;: 3.759330604427493, &quot;z&quot;: 3.136288097528445}, {&quot;x&quot;: 0.7950763823611084, &quot;y&quot;: 3.1440122083307083, &quot;z&quot;: 3.1409013992609354}, {&quot;x&quot;: 0.7877511045739188, &quot;y&quot;: 3.1421808888839107, &quot;z&quot;: 3.13189122858834}, {&quot;x&quot;: 0.7890266904910834, &quot;y&quot;: 3.142499785363202, &quot;z&quot;: 3.1508668599211416}, {&quot;x&quot;: 0.7779624975067545, &quot;y&quot;: 3.13973373711712, &quot;z&quot;: 3.148015682650104}, {&quot;x&quot;: 0.7771741420543761, &quot;y&quot;: 3.1395366482540252, &quot;z&quot;: 3.136288097528445}, {&quot;x&quot;: 0.7853981633974483, &quot;y&quot;: 3.141592653589793, &quot;z&quot;: 3.141592653589793}], &quot;faces&quot;: [[0, 1, 2], [0, 3, 1], [0, 4, 3], [0, 5, 4], [0, 2, 5], [2, 1, 6, 7], [1, 3, 8, 6], [3, 4, 9, 8], [4, 5, 10, 9], [5, 2, 7, 10], [7, 6, 11], [6, 8, 11], [8, 9, 11], [9, 10, 11], [10, 7, 11]], &quot;color&quot;: &quot;#004575&quot;, &quot;opacity&quot;: 1.0}, {&quot;vertices&quot;: [{&quot;x&quot;: 0.6086214681008114, &quot;y&quot;: 3.8486994347763406, &quot;z&quot;: 3.141592653589793}, {&quot;x&quot;: 0.6594843312450618, &quot;y&quot;: 3.7686452739860057, &quot;z&quot;: 3.1395188906032194}, {&quot;x&quot;: 0.6375084978834932, &quot;y&quot;: 3.763151315645614, &quot;z&quot;: 3.112488378585433}, {&quot;x&quot;: 0.6413352556349868, &quot;y&quot;: 3.764108005083487, &quot;z&quot;: 3.169415272583839}, {&quot;x&quot;: 0.6081426766820002, &quot;y&quot;: 3.7558098603452406, &quot;z&quot;: 3.1608617407707253}, {&quot;x&quot;: 0.6057776103248649, &quot;y&quot;: 3.7552185937559566, &quot;z&quot;: 3.1256789854057483}, {&quot;x&quot;: 0.6304496743540814, &quot;y&quot;: 3.7613866097632607, &quot;z&quot;: 3.141592653589793}], &quot;faces&quot;: [[0, 1, 2], [0, 3, 1], [0, 4, 3], [0, 5, 4], [0, 2, 5], [2, 1, 6], [1, 3, 6], [3, 4, 6], [4, 5, 6], [5, 2, 6]], &quot;color&quot;: &quot;#004575&quot;, &quot;opacity&quot;: 1.0}, {&quot;vertices&quot;: [{&quot;x&quot;: 1.8343497173881702, &quot;y&quot;: 0.0, &quot;z&quot;: 1.6137990809724243e-17}, {&quot;x&quot;: 1.8343497173881702, &quot;y&quot;: 0.0030901699437494747, &quot;z&quot;: -0.00951056516295152}, {&quot;x&quot;: 1.8343497173881702, &quot;y&quot;: 0.01, &quot;z&quot;: 1.6137990809724243e-17}, {&quot;x&quot;: 1.8343497173881702, &quot;y&quot;: -0.008090169943749474, &quot;z&quot;: -0.005877852522924716}, {&quot;x&quot;: 1.8343497173881702, &quot;y&quot;: -0.008090169943749476, &quot;z&quot;: 0.005877852522924747}, {&quot;x&quot;: 1.8343497173881702, &quot;y&quot;: 0.0030901699437494725, &quot;z&quot;: 0.009510565162951552}, {&quot;x&quot;: 1.5707963267948966, &quot;y&quot;: 0.0030901699437494747, &quot;z&quot;: -0.009510565162951536}, {&quot;x&quot;: 1.5707963267948966, &quot;y&quot;: 0.01, &quot;z&quot;: 0.0}, {&quot;x&quot;: 1.5707963267948966, &quot;y&quot;: -0.008090169943749474, &quot;z&quot;: -0.005877852522924732}, {&quot;x&quot;: 1.5707963267948966, &quot;y&quot;: -0.008090169943749476, &quot;z&quot;: 0.005877852522924731}, {&quot;x&quot;: 1.5707963267948966, &quot;y&quot;: 0.0030901699437494725, &quot;z&quot;: 0.009510565162951536}, {&quot;x&quot;: 1.5707963267948966, &quot;y&quot;: 0.0, &quot;z&quot;: 0.0}], &quot;faces&quot;: [[0, 1, 2], [0, 3, 1], [0, 4, 3], [0, 5, 4], [0, 2, 5], [2, 1, 6, 7], [1, 3, 8, 6], [3, 4, 9, 8], [4, 5, 10, 9], [5, 2, 7, 10], [7, 6, 11], [6, 8, 11], [8, 9, 11], [9, 10, 11], [10, 7, 11]], &quot;color&quot;: &quot;#4b5a00&quot;, &quot;opacity&quot;: 1.0}, {&quot;vertices&quot;: [{&quot;x&quot;: 1.9243497173881703, &quot;y&quot;: 0.0, &quot;z&quot;: 2.1648901405887332e-17}, {&quot;x&quot;: 1.8343497173881702, &quot;y&quot;: 0.009270509831248424, &quot;z&quot;: -0.028531695488854588}, {&quot;x&quot;: 1.8343497173881702, &quot;y&quot;: 0.03, &quot;z&quot;: 1.6137990809724243e-17}, {&quot;x&quot;: 1.8343497173881702, &quot;y&quot;: -0.02427050983124842, &quot;z&quot;: -0.017633557568774178}, {&quot;x&quot;: 1.8343497173881702, &quot;y&quot;: -0.024270509831248427, &quot;z&quot;: 0.017633557568774206}, {&quot;x&quot;: 1.8343497173881702, &quot;y&quot;: 0.009270509831248417, &quot;z&quot;: 0.028531695488854626}, {&quot;x&quot;: 1.8343497173881702, &quot;y&quot;: 0.0, &quot;z&quot;: 1.6137990809724243e-17}], &quot;faces&quot;: [[0, 1, 2], [0, 3, 1], [0, 4, 3], [0, 5, 4], [0, 2, 5], [2, 1, 6], [1, 3, 6], [3, 4, 6], [4, 5, 6], [5, 2, 6]], &quot;color&quot;: &quot;#4b5a00&quot;, &quot;opacity&quot;: 1.0}, {&quot;vertices&quot;: [{&quot;x&quot;: 1.7448756020687073, &quot;y&quot;: 0.0, &quot;z&quot;: 0.8962204719961753}, {&quot;x&quot;: 1.7499830539558674, &quot;y&quot;: 0.0030901699437494747, &quot;z&quot;: 0.8881977053325427}, {&quot;x&quot;: 1.7448756020687073, &quot;y&quot;: 0.01, &quot;z&quot;: 0.8962204719961753}, {&quot;x&quot;: 1.748032180930877, &quot;y&quot;: -0.008090169943749474, &quot;z&quot;: 0.8912621295142407}, {&quot;x&quot;: 1.7417190232065378, &quot;y&quot;: -0.008090169943749476, &quot;z&quot;: 0.9011788144781097}, {&quot;x&quot;: 1.7397681501815474, &quot;y&quot;: 0.0030901699437494725, &quot;z&quot;: 0.9042432386598077}, {&quot;x&quot;: 1.5759037786820564, &quot;y&quot;: 0.0030901699437494747, &quot;z&quot;: 0.7773753967338157}, {&quot;x&quot;: 1.5707963267948966, &quot;y&quot;: 0.01, &quot;z&quot;: 0.7853981633974483}, {&quot;x&quot;: 1.5739529056570662, &quot;y&quot;: -0.008090169943749474, &quot;z&quot;: 0.7804398209155138}, {&quot;x&quot;: 1.5676397479327269, &quot;y&quot;: -0.008090169943749476, &quot;z&quot;: 0.7903565058793828}, {&quot;x&quot;: 1.5656888749077367, &quot;y&quot;: 0.0030901699437494725, &quot;z&quot;: 0.7934209300610808}, {&quot;x&quot;: 1.5707963267948966, &quot;y&quot;: 0.0, &quot;z&quot;: 0.7853981633974483}], &quot;faces&quot;: [[0, 1, 2], [0, 3, 1], [0, 4, 3], [0, 5, 4], [0, 2, 5], [2, 1, 6, 7], [1, 3, 8, 6], [3, 4, 9, 8], [4, 5, 10, 9], [5, 2, 7, 10], [7, 6, 11], [6, 8, 11], [8, 9, 11], [9, 10, 11], [10, 7, 11]], &quot;color&quot;: &quot;#694b00&quot;, &quot;opacity&quot;: 1.0}, {&quot;vertices&quot;: [{&quot;x&quot;: 1.8207963267948966, &quot;y&quot;: 0.0, &quot;z&quot;: 0.9445531064893437}, {&quot;x&quot;: 1.7601979577301872, &quot;y&quot;: 0.009270509831248424, &quot;z&quot;: 0.8721521720052776}, {&quot;x&quot;: 1.7448756020687073, &quot;y&quot;: 0.03, &quot;z&quot;: 0.8962204719961753}, {&quot;x&quot;: 1.7543453386552161, &quot;y&quot;: -0.02427050983124842, &quot;z&quot;: 0.8813454445503718}, {&quot;x&quot;: 1.7354058654821984, &quot;y&quot;: -0.024270509831248427, &quot;z&quot;: 0.9110954994419788}, {&quot;x&quot;: 1.7295532464072274, &quot;y&quot;: 0.009270509831248417, &quot;z&quot;: 0.9202887719870729}, {&quot;x&quot;: 1.7448756020687073, &quot;y&quot;: 0.0, &quot;z&quot;: 0.8962204719961753}], &quot;faces&quot;: [[0, 1, 2], [0, 3, 1], [0, 4, 3], [0, 5, 4], [0, 2, 5], [2, 1, 6], [1, 3, 6], [3, 4, 6], [4, 5, 6], [5, 2, 6]], &quot;color&quot;: &quot;#694b00&quot;, &quot;opacity&quot;: 1.0}, {&quot;vertices&quot;: [{&quot;x&quot;: 1.5707963267948966, &quot;y&quot;: 0.0, &quot;z&quot;: 1.7058754058341732}, {&quot;x&quot;: 1.580306891957848, &quot;y&quot;: 0.0030901699437494747, &quot;z&quot;: 1.7058754058341732}, {&quot;x&quot;: 1.5707963267948966, &quot;y&quot;: 0.01, &quot;z&quot;: 1.7058754058341732}, {&quot;x&quot;: 1.5766741793178214, &quot;y&quot;: -0.008090169943749474, &quot;z&quot;: 1.7058754058341732}, {&quot;x&quot;: 1.5649184742719717, &quot;y&quot;: -0.008090169943749476, &quot;z&quot;: 1.7058754058341732}, {&quot;x&quot;: 1.561285761631945, &quot;y&quot;: 0.0030901699437494725, &quot;z&quot;: 1.7058754058341732}, {&quot;x&quot;: 1.580306891957848, &quot;y&quot;: 0.0030901699437494747, &quot;z&quot;: 1.5707963267948966}, {&quot;x&quot;: 1.5707963267948966, &quot;y&quot;: 0.01, &quot;z&quot;: 1.5707963267948966}, {&quot;x&quot;: 1.5766741793178214, &quot;y&quot;: -0.008090169943749474, &quot;z&quot;: 1.5707963267948966}, {&quot;x&quot;: 1.5649184742719717, &quot;y&quot;: -0.008090169943749476, &quot;z&quot;: 1.5707963267948966}, {&quot;x&quot;: 1.561285761631945, &quot;y&quot;: 0.0030901699437494725, &quot;z&quot;: 1.5707963267948966}, {&quot;x&quot;: 1.5707963267948966, &quot;y&quot;: 0.0, &quot;z&quot;: 1.5707963267948966}], &quot;faces&quot;: [[0, 1, 2], [0, 3, 1], [0, 4, 3], [0, 5, 4], [0, 2, 5], [2, 1, 6, 7], [1, 3, 8, 6], [3, 4, 9, 8], [4, 5, 10, 9], [5, 2, 7, 10], [7, 6, 11], [6, 8, 11], [8, 9, 11], [9, 10, 11], [10, 7, 11]], &quot;color&quot;: &quot;#8d3900&quot;, &quot;opacity&quot;: 1.0}, {&quot;vertices&quot;: [{&quot;x&quot;: 1.5707963267948966, &quot;y&quot;: 0.0, &quot;z&quot;: 1.7958754058341733}, {&quot;x&quot;: 1.5993280222837511, &quot;y&quot;: 0.009270509831248424, &quot;z&quot;: 1.7058754058341732}, {&quot;x&quot;: 1.5707963267948966, &quot;y&quot;: 0.03, &quot;z&quot;: 1.7058754058341732}, {&quot;x&quot;: 1.5884298843636708, &quot;y&quot;: -0.02427050983124842, &quot;z&quot;: 1.7058754058341732}, {&quot;x&quot;: 1.5531627692261223, &quot;y&quot;: -0.024270509831248427, &quot;z&quot;: 1.7058754058341732}, {&quot;x&quot;: 1.542264631306042, &quot;y&quot;: 0.009270509831248417, &quot;z&quot;: 1.7058754058341732}, {&quot;x&quot;: 1.5707963267948966, &quot;y&quot;: 0.0, &quot;z&quot;: 1.7058754058341732}], &quot;faces&quot;: [[0, 1, 2], [0, 3, 1], [0, 4, 3], [0, 5, 4], [0, 2, 5], [2, 1, 6], [1, 3, 6], [3, 4, 6], [4, 5, 6], [5, 2, 6]], &quot;color&quot;: &quot;#8d3900&quot;, &quot;opacity&quot;: 1.0}, {&quot;vertices&quot;: [{&quot;x&quot;: 1.3967170515210858, &quot;y&quot;: 0.0, &quot;z&quot;: 2.4670167987910716}, {&quot;x&quot;: 1.4018245034082457, &quot;y&quot;: 0.0030901699437494747, &quot;z&quot;: 2.475039565454704}, {&quot;x&quot;: 1.3967170515210858, &quot;y&quot;: 0.01, &quot;z&quot;: 2.4670167987910716}, {&quot;x&quot;: 1.3998736303832553, &quot;y&quot;: -0.008090169943749474, &quot;z&quot;: 2.471975141273006}, {&quot;x&quot;: 1.3935604726589161, &quot;y&quot;: -0.008090169943749476, &quot;z&quot;: 2.4620584563091374}, {&quot;x&quot;: 1.3916095996339257, &quot;y&quot;: 0.0030901699437494725, &quot;z&quot;: 2.4589940321274395}, {&quot;x&quot;: 1.5759037786820564, &quot;y&quot;: 0.0030901699437494747, &quot;z&quot;: 2.3642172568559774}, {&quot;x&quot;: 1.5707963267948966, &quot;y&quot;: 0.01, &quot;z&quot;: 2.356194490192345}, {&quot;x&quot;: 1.5739529056570662, &quot;y&quot;: -0.008090169943749474, &quot;z&quot;: 2.3611528326742794}, {&quot;x&quot;: 1.5676397479327269, &quot;y&quot;: -0.008090169943749476, &quot;z&quot;: 2.3512361477104102}, {&quot;x&quot;: 1.5656888749077367, &quot;y&quot;: 0.0030901699437494725, &quot;z&quot;: 2.3481717235287123}, {&quot;x&quot;: 1.5707963267948966, &quot;y&quot;: 0.0, &quot;z&quot;: 2.356194490192345}], &quot;faces&quot;: [[0, 1, 2], [0, 3, 1], [0, 4, 3], [0, 5, 4], [0, 2, 5], [2, 1, 6, 7], [1, 3, 8, 6], [3, 4, 9, 8], [4, 5, 10, 9], [5, 2, 7, 10], [7, 6, 11], [6, 8, 11], [8, 9, 11], [9, 10, 11], [10, 7, 11]], &quot;color&quot;: &quot;#694b00&quot;, &quot;opacity&quot;: 1.0}, {&quot;vertices&quot;: [{&quot;x&quot;: 1.3207963267948966, &quot;y&quot;: 0.0, &quot;z&quot;: 2.51534943328424}, {&quot;x&quot;: 1.4120394071825657, &quot;y&quot;: 0.009270509831248424, &quot;z&quot;: 2.4910850987819693}, {&quot;x&quot;: 1.3967170515210858, &quot;y&quot;: 0.03, &quot;z&quot;: 2.4670167987910716}, {&quot;x&quot;: 1.4061867881075947, &quot;y&quot;: -0.02427050983124842, &quot;z&quot;: 2.481891826236875}, {&quot;x&quot;: 1.387247314934577, &quot;y&quot;: -0.024270509831248427, &quot;z&quot;: 2.4521417713452682}, {&quot;x&quot;: 1.381394695859606, &quot;y&quot;: 0.009270509831248417, &quot;z&quot;: 2.442948498800174}, {&quot;x&quot;: 1.3967170515210858, &quot;y&quot;: 0.0, &quot;z&quot;: 2.4670167987910716}], &quot;faces&quot;: [[0, 1, 2], [0, 3, 1], [0, 4, 3], [0, 5, 4], [0, 2, 5], [2, 1, 6], [1, 3, 6], [3, 4, 6], [4, 5, 6], [5, 2, 6]], &quot;color&quot;: &quot;#694b00&quot;, &quot;opacity&quot;: 1.0}, {&quot;vertices&quot;: [{&quot;x&quot;: 1.307242936201623, &quot;y&quot;: 0.0, &quot;z&quot;: 3.141592653589793}, {&quot;x&quot;: 1.307242936201623, &quot;y&quot;: 0.0030901699437494747, &quot;z&quot;: 3.151103218752745}, {&quot;x&quot;: 1.307242936201623, &quot;y&quot;: 0.01, &quot;z&quot;: 3.141592653589793}, {&quot;x&quot;: 1.307242936201623, &quot;y&quot;: -0.008090169943749474, &quot;z&quot;: 3.1474705061127177}, {&quot;x&quot;: 1.307242936201623, &quot;y&quot;: -0.008090169943749476, &quot;z&quot;: 3.1357148010668685}, {&quot;x&quot;: 1.307242936201623, &quot;y&quot;: 0.0030901699437494725, &quot;z&quot;: 3.1320820884268414}, {&quot;x&quot;: 1.5707963267948966, &quot;y&quot;: 0.0030901699437494747, &quot;z&quot;: 3.151103218752745}, {&quot;x&quot;: 1.5707963267948966, &quot;y&quot;: 0.01, &quot;z&quot;: 3.141592653589793}, {&quot;x&quot;: 1.5707963267948966, &quot;y&quot;: -0.008090169943749474, &quot;z&quot;: 3.1474705061127177}, {&quot;x&quot;: 1.5707963267948966, &quot;y&quot;: -0.008090169943749476, &quot;z&quot;: 3.1357148010668685}, {&quot;x&quot;: 1.5707963267948966, &quot;y&quot;: 0.0030901699437494725, &quot;z&quot;: 3.1320820884268414}, {&quot;x&quot;: 1.5707963267948966, &quot;y&quot;: 0.0, &quot;z&quot;: 3.141592653589793}], &quot;faces&quot;: [[0, 1, 2], [0, 3, 1], [0, 4, 3], [0, 5, 4], [0, 2, 5], [2, 1, 6, 7], [1, 3, 8, 6], [3, 4, 9, 8], [4, 5, 10, 9], [5, 2, 7, 10], [7, 6, 11], [6, 8, 11], [8, 9, 11], [9, 10, 11], [10, 7, 11]], &quot;color&quot;: &quot;#4b5a00&quot;, &quot;opacity&quot;: 1.0}, {&quot;vertices&quot;: [{&quot;x&quot;: 1.2172429362016228, &quot;y&quot;: 0.0, &quot;z&quot;: 3.141592653589793}, {&quot;x&quot;: 1.307242936201623, &quot;y&quot;: 0.009270509831248424, &quot;z&quot;: 3.1701243490786477}, {&quot;x&quot;: 1.307242936201623, &quot;y&quot;: 0.03, &quot;z&quot;: 3.141592653589793}, {&quot;x&quot;: 1.307242936201623, &quot;y&quot;: -0.02427050983124842, &quot;z&quot;: 3.1592262111585674}, {&quot;x&quot;: 1.307242936201623, &quot;y&quot;: -0.024270509831248427, &quot;z&quot;: 3.123959096021019}, {&quot;x&quot;: 1.307242936201623, &quot;y&quot;: 0.009270509831248417, &quot;z&quot;: 3.1130609581009385}, {&quot;x&quot;: 1.307242936201623, &quot;y&quot;: 0.0, &quot;z&quot;: 3.141592653589793}], &quot;faces&quot;: [[0, 1, 2], [0, 3, 1], [0, 4, 3], [0, 5, 4], [0, 2, 5], [2, 1, 6], [1, 3, 6], [3, 4, 6], [4, 5, 6], [5, 2, 6]], &quot;color&quot;: &quot;#4b5a00&quot;, &quot;opacity&quot;: 1.0}, {&quot;vertices&quot;: [{&quot;x&quot;: 1.843851270198178, &quot;y&quot;: 0.6488706916958076, &quot;z&quot;: 1.8693296994714332e-17}, {&quot;x&quot;: 1.846989451208268, &quot;y&quot;: 0.6551470537159878, &quot;z&quot;: -0.007124542072270276}, {&quot;x&quot;: 1.847851270198178, &quot;y&quot;: 0.6568706916958076, &quot;z&quot;: 0.004472135954999599}, {&quot;x&quot;: 1.841790772725263, &quot;y&quot;: 0.644749696749978, &quot;z&quot;: -0.008875345109941212}, {&quot;x&quot;: 1.8394396317160933, &quot;y&quot;: 0.6400474147316382, &quot;z&quot;: 0.0016392771324414586}, {&quot;x&quot;: 1.8431852251430874, &quot;y&quot;: 0.6475386015856266, &quot;z&quot;: 0.009888474094770524}, {&quot;x&quot;: 1.5739345078049867, &quot;y&quot;: 0.7916745254176285, &quot;z&quot;: -0.007124542072270295}, {&quot;x&quot;: 1.5747963267948966, &quot;y&quot;: 0.7933981633974483, &quot;z&quot;: 0.00447213595499958}, {&quot;x&quot;: 1.5687358293219817, &quot;y&quot;: 0.7812771684516185, &quot;z&quot;: -0.008875345109941231}, {&quot;x&quot;: 1.5663846883128119, &quot;y&quot;: 0.7765748864332788, &quot;z&quot;: 0.00163927713244144}, {&quot;x&quot;: 1.570130281739806, &quot;y&quot;: 0.7840660732872673, &quot;z&quot;: 0.009888474094770505}, {&quot;x&quot;: 1.5707963267948966, &quot;y&quot;: 0.7853981633974483, &quot;z&quot;: 0.0}], &quot;faces&quot;: [[0, 1, 2], [0, 3, 1], [0, 4, 3], [0, 5, 4], [0, 2, 5], [2, 1, 6, 7], [1, 3, 8, 6], [3, 4, 9, 8], [4, 5, 10, 9], [5, 2, 7, 10], [7, 6, 11], [6, 8, 11], [8, 9, 11], [9, 10, 11], [10, 7, 11]], &quot;color&quot;: &quot;#356500&quot;, &quot;opacity&quot;: 1.0}, {&quot;vertices&quot;: [{&quot;x&quot;: 1.9243497173881703, &quot;y&quot;: 0.6086214681008114, &quot;z&quot;: 2.420420759087742e-17}, {&quot;x&quot;: 1.8532658132284483, &quot;y&quot;: 0.6676997777563481, &quot;z&quot;: -0.02137362621681086}, {&quot;x&quot;: 1.855851270198178, &quot;y&quot;: 0.6728706916958076, &quot;z&quot;: 0.013416407864998757}, {&quot;x&quot;: 1.8376697777794335, &quot;y&quot;: 0.6365077068583185, &quot;z&quot;: -0.026626035329823675}, {&quot;x&quot;: 1.8306163547519239, &quot;y&quot;: 0.6224008608032991, &quot;z&quot;: 0.004917831397324336}, {&quot;x&quot;: 1.8418531350329064, &quot;y&quot;: 0.6448744213652645, &quot;z&quot;: 0.02966542228431153}, {&quot;x&quot;: 1.843851270198178, &quot;y&quot;: 0.6488706916958076, &quot;z&quot;: 1.8693296994714332e-17}], &quot;faces&quot;: [[0, 1, 2], [0, 3, 1], [0, 4, 3], [0, 5, 4], [0, 2, 5], [2, 1, 6], [1, 3, 6], [3, 4, 6], [4, 5, 6], [5, 2, 6]], &quot;color&quot;: &quot;#356500&quot;, &quot;opacity&quot;: 1.0}, {&quot;vertices&quot;: [{&quot;x&quot;: 1.7508433573771205, &quot;y&quot;: 0.6953746481063363, &quot;z&quot;: 0.9000196630221626}, {&quot;x&quot;: 1.757134696269684, &quot;y&quot;: 0.7000744311852798, &quot;z&quot;: 0.8938284519976705}, {&quot;x&quot;: 1.7528640932230235, &quot;y&quot;: 0.7043642801833848, &quot;z&quot;: 0.903905939100928}, {&quot;x&quot;: 1.7527108828015658, &quot;y&quot;: 0.6892896417118265, &quot;z&quot;: 0.8923070080987381}, {&quot;x&quot;: 1.7457062126717187, &quot;y&quot;: 0.6869141242538254, &quot;z&quot;: 0.9014441911604792}, {&quot;x&quot;: 1.7458009019196101, &quot;y&quot;: 0.6962307631973651, &quot;z&quot;: 0.9086127247529975}, {&quot;x&quot;: 1.5770876656874602, &quot;y&quot;: 0.7900979464763918, &quot;z&quot;: 0.7792069523729561}, {&quot;x&quot;: 1.5728170626407996, &quot;y&quot;: 0.7943877954744968, &quot;z&quot;: 0.7892844394762136}, {&quot;x&quot;: 1.572663852219342, &quot;y&quot;: 0.7793131570029385, &quot;z&quot;: 0.7776855084740237}, {&quot;x&quot;: 1.5656591820894947, &quot;y&quot;: 0.7769376395449373, &quot;z&quot;: 0.7868226915357649}, {&quot;x&quot;: 1.5657538713373864, &quot;y&quot;: 0.7862542784884771, &quot;z&quot;: 0.7939912251282831}, {&quot;x&quot;: 1.5707963267948966, &quot;y&quot;: 0.7853981633974483, &quot;z&quot;: 0.7853981633974483}], &quot;faces&quot;: [[0, 1, 2], [0, 3, 1], [0, 4, 3], [0, 5, 4], [0, 2, 5], [2, 1, 6, 7], [1, 3, 8, 6], [3, 4, 9, 8], [4, 5, 10, 9], [5, 2, 7, 10], [7, 6, 11], [6, 8, 11], [8, 9, 11], [9, 10, 11], [10, 7, 11]], &quot;color&quot;: &quot;#5b5200&quot;, &quot;opacity&quot;: 1.0}, {&quot;vertices&quot;: [{&quot;x&quot;: 1.8207963267948966, &quot;y&quot;: 0.6603981633974483, &quot;z&quot;: 0.9445531064893437}, {&quot;x&quot;: 1.7697173740548113, &quot;y&quot;: 0.7094739973431666, &quot;z&quot;: 0.881446029948686}, {&quot;x&quot;: 1.7569055649148297, &quot;y&quot;: 0.7223435443374817, &quot;z&quot;: 0.9116784912584587}, {&quot;x&quot;: 1.7564459336504565, &quot;y&quot;: 0.677119628922807, &quot;z&quot;: 0.8768816982518889}, {&quot;x&quot;: 1.7354319232609152, &quot;y&quot;: 0.6699930765488035, &quot;z&quot;: 0.9042932474371124}, {&quot;x&quot;: 1.7357159910045898, &quot;y&quot;: 0.6979429933794228, &quot;z&quot;: 0.9257988482146671}, {&quot;x&quot;: 1.7508433573771205, &quot;y&quot;: 0.6953746481063363, &quot;z&quot;: 0.9000196630221626}], &quot;faces&quot;: [[0, 1, 2], [0, 3, 1], [0, 4, 3], [0, 5, 4], [0, 2, 5], [2, 1, 6], [1, 3, 6], [3, 4, 6], [4, 5, 6], [5, 2, 6]], &quot;color&quot;: &quot;#5b5200&quot;, &quot;opacity&quot;: 1.0}, {&quot;vertices&quot;: [{&quot;x&quot;: 1.5707963267948966, &quot;y&quot;: 0.7853981633974483, &quot;z&quot;: 1.7058754058341732}, {&quot;x&quot;: 1.580306891957848, &quot;y&quot;: 0.7884883333411977, &quot;z&quot;: 1.7058754058341732}, {&quot;x&quot;: 1.5707963267948966, &quot;y&quot;: 0.7953981633974483, &quot;z&quot;: 1.7058754058341732}, {&quot;x&quot;: 1.5766741793178214, &quot;y&quot;: 0.7773079934536988, &quot;z&quot;: 1.7058754058341732}, {&quot;x&quot;: 1.5649184742719717, &quot;y&quot;: 0.7773079934536988, &quot;z&quot;: 1.7058754058341732}, {&quot;x&quot;: 1.561285761631945, &quot;y&quot;: 0.7884883333411977, &quot;z&quot;: 1.7058754058341732}, {&quot;x&quot;: 1.580306891957848, &quot;y&quot;: 0.7884883333411977, &quot;z&quot;: 1.5707963267948966}, {&quot;x&quot;: 1.5707963267948966, &quot;y&quot;: 0.7953981633974483, &quot;z&quot;: 1.5707963267948966}, {&quot;x&quot;: 1.5766741793178214, &quot;y&quot;: 0.7773079934536988, &quot;z&quot;: 1.5707963267948966}, {&quot;x&quot;: 1.5649184742719717, &quot;y&quot;: 0.7773079934536988, &quot;z&quot;: 1.5707963267948966}, {&quot;x&quot;: 1.561285761631945, &quot;y&quot;: 0.7884883333411977, &quot;z&quot;: 1.5707963267948966}, {&quot;x&quot;: 1.5707963267948966, &quot;y&quot;: 0.7853981633974483, &quot;z&quot;: 1.5707963267948966}], &quot;faces&quot;: [[0, 1, 2], [0, 3, 1], [0, 4, 3], [0, 5, 4], [0, 2, 5], [2, 1, 6, 7], [1, 3, 8, 6], [3, 4, 9, 8], [4, 5, 10, 9], [5, 2, 7, 10], [7, 6, 11], [6, 8, 11], [8, 9, 11], [9, 10, 11], [10, 7, 11]], &quot;color&quot;: &quot;#8d3900&quot;, &quot;opacity&quot;: 1.0}, {&quot;vertices&quot;: [{&quot;x&quot;: 1.5707963267948966, &quot;y&quot;: 0.7853981633974483, &quot;z&quot;: 1.7958754058341733}, {&quot;x&quot;: 1.5993280222837511, &quot;y&quot;: 0.7946686732286967, &quot;z&quot;: 1.7058754058341732}, {&quot;x&quot;: 1.5707963267948966, &quot;y&quot;: 0.8153981633974483, &quot;z&quot;: 1.7058754058341732}, {&quot;x&quot;: 1.5884298843636708, &quot;y&quot;: 0.7611276535661998, &quot;z&quot;: 1.7058754058341732}, {&quot;x&quot;: 1.5531627692261223, &quot;y&quot;: 0.7611276535661998, &quot;z&quot;: 1.7058754058341732}, {&quot;x&quot;: 1.542264631306042, &quot;y&quot;: 0.7946686732286967, &quot;z&quot;: 1.7058754058341732}, {&quot;x&quot;: 1.5707963267948966, &quot;y&quot;: 0.7853981633974483, &quot;z&quot;: 1.7058754058341732}], &quot;faces&quot;: [[0, 1, 2], [0, 3, 1], [0, 4, 3], [0, 5, 4], [0, 2, 5], [2, 1, 6], [1, 3, 6], [3, 4, 6], [4, 5, 6], [5, 2, 6]], &quot;color&quot;: &quot;#8d3900&quot;, &quot;opacity&quot;: 1.0}, {&quot;vertices&quot;: [{&quot;x&quot;: 1.3907492962126726, &quot;y&quot;: 0.8754216786885602, &quot;z&quot;: 2.470815989817059}, {&quot;x&quot;: 1.3970406351052362, &quot;y&quot;: 0.8801214617675037, &quot;z&quot;: 2.4770072008415513}, {&quot;x&quot;: 1.3927700320585756, &quot;y&quot;: 0.8844113107656086, &quot;z&quot;: 2.4669297137382937}, {&quot;x&quot;: 1.392616821637118, &quot;y&quot;: 0.8693366722940504, &quot;z&quot;: 2.478528644740484}, {&quot;x&quot;: 1.3856121515072708, &quot;y&quot;: 0.8669611548360493, &quot;z&quot;: 2.4693914616787427}, {&quot;x&quot;: 1.3857068407551625, &quot;y&quot;: 0.876277793779589, &quot;z&quot;: 2.4622229280862244}, {&quot;x&quot;: 1.5770876656874602, &quot;y&quot;: 0.7900979464763918, &quot;z&quot;: 2.362385701216837}, {&quot;x&quot;: 1.5728170626407996, &quot;y&quot;: 0.7943877954744968, &quot;z&quot;: 2.3523082141135796}, {&quot;x&quot;: 1.572663852219342, &quot;y&quot;: 0.7793131570029385, &quot;z&quot;: 2.3639071451157694}, {&quot;x&quot;: 1.5656591820894947, &quot;y&quot;: 0.7769376395449373, &quot;z&quot;: 2.354769962054028}, {&quot;x&quot;: 1.5657538713373864, &quot;y&quot;: 0.7862542784884771, &quot;z&quot;: 2.34760142846151}, {&quot;x&quot;: 1.5707963267948966, &quot;y&quot;: 0.7853981633974483, &quot;z&quot;: 2.356194490192345}], &quot;faces&quot;: [[0, 1, 2], [0, 3, 1], [0, 4, 3], [0, 5, 4], [0, 2, 5], [2, 1, 6, 7], [1, 3, 8, 6], [3, 4, 9, 8], [4, 5, 10, 9], [5, 2, 7, 10], [7, 6, 11], [6, 8, 11], [8, 9, 11], [9, 10, 11], [10, 7, 11]], &quot;color&quot;: &quot;#5b5200&quot;, &quot;opacity&quot;: 1.0}, {&quot;vertices&quot;: [{&quot;x&quot;: 1.3207963267948966, &quot;y&quot;: 0.9103981633974483, &quot;z&quot;: 2.51534943328424}, {&quot;x&quot;: 1.4096233128903635, &quot;y&quot;: 0.8895210279253906, &quot;z&quot;: 2.4893896228905357}, {&quot;x&quot;: 1.3968115037503819, &quot;y&quot;: 0.9023905749197056, &quot;z&quot;: 2.459157161580763}, {&quot;x&quot;: 1.3963518724860087, &quot;y&quot;: 0.8571666595050309, &quot;z&quot;: 2.4939539545873326}, {&quot;x&quot;: 1.3753378620964674, &quot;y&quot;: 0.8500401071310274, &quot;z&quot;: 2.4665424054021092}, {&quot;x&quot;: 1.375621929840142, &quot;y&quot;: 0.8779900239616467, &quot;z&quot;: 2.4450368046245545}, {&quot;x&quot;: 1.3907492962126726, &quot;y&quot;: 0.8754216786885602, &quot;z&quot;: 2.470815989817059}], &quot;faces&quot;: [[0, 1, 2], [0, 3, 1], [0, 4, 3], [0, 5, 4], [0, 2, 5], [2, 1, 6], [1, 3, 6], [3, 4, 6], [4, 5, 6], [5, 2, 6]], &quot;color&quot;: &quot;#5b5200&quot;, &quot;opacity&quot;: 1.0}, {&quot;vertices&quot;: [{&quot;x&quot;: 1.2977413833916152, &quot;y&quot;: 0.921925635099089, &quot;z&quot;: 3.141592653589793}, {&quot;x&quot;: 1.3008795644017053, &quot;y&quot;: 0.9282019971192692, &quot;z&quot;: 3.1487171956620634}, {&quot;x&quot;: 1.3017413833916152, &quot;y&quot;: 0.929925635099089, &quot;z&quot;: 3.1371205176347936}, {&quot;x&quot;: 1.2956808859187003, &quot;y&quot;: 0.9178046401532592, &quot;z&quot;: 3.1504679986997344}, {&quot;x&quot;: 1.2933297449095305, &quot;y&quot;: 0.9131023581349195, &quot;z&quot;: 3.1399533764573517}, {&quot;x&quot;: 1.2970753383365248, &quot;y&quot;: 0.9205935449889079, &quot;z&quot;: 3.1317041794950224}, {&quot;x&quot;: 1.5739345078049867, &quot;y&quot;: 0.7916745254176285, &quot;z&quot;: 3.1487171956620634}, {&quot;x&quot;: 1.5747963267948966, &quot;y&quot;: 0.7933981633974483, &quot;z&quot;: 3.1371205176347936}, {&quot;x&quot;: 1.5687358293219817, &quot;y&quot;: 0.7812771684516185, &quot;z&quot;: 3.1504679986997344}, {&quot;x&quot;: 1.5663846883128119, &quot;y&quot;: 0.7765748864332788, &quot;z&quot;: 3.1399533764573517}, {&quot;x&quot;: 1.570130281739806, &quot;y&quot;: 0.7840660732872673, &quot;z&quot;: 3.1317041794950224}, {&quot;x&quot;: 1.5707963267948966, &quot;y&quot;: 0.7853981633974483, &quot;z&quot;: 3.141592653589793}], &quot;faces&quot;: [[0, 1, 2], [0, 3, 1], [0, 4, 3], [0, 5, 4], [0, 2, 5], [2, 1, 6, 7], [1, 3, 8, 6], [3, 4, 9, 8], [4, 5, 10, 9], [5, 2, 7, 10], [7, 6, 11], [6, 8, 11], [8, 9, 11], [9, 10, 11], [10, 7, 11]], &quot;color&quot;: &quot;#356500&quot;, &quot;opacity&quot;: 1.0}, {&quot;vertices&quot;: [{&quot;x&quot;: 1.2172429362016228, &quot;y&quot;: 0.9621748586940851, &quot;z&quot;: 3.141592653589793}, {&quot;x&quot;: 1.3071559264218855, &quot;y&quot;: 0.9407547211596295, &quot;z&quot;: 3.162966279806604}, {&quot;x&quot;: 1.3097413833916152, &quot;y&quot;: 0.945925635099089, &quot;z&quot;: 3.1281762457247946}, {&quot;x&quot;: 1.2915598909728707, &quot;y&quot;: 0.9095626502615999, &quot;z&quot;: 3.168218688919617}, {&quot;x&quot;: 1.284506467945361, &quot;y&quot;: 0.8954558042065806, &quot;z&quot;: 3.136674822192469}, {&quot;x&quot;: 1.2957432482263436, &quot;y&quot;: 0.9179293647685459, &quot;z&quot;: 3.1119272313054815}, {&quot;x&quot;: 1.2977413833916152, &quot;y&quot;: 0.921925635099089, &quot;z&quot;: 3.141592653589793}], &quot;faces&quot;: [[0, 1, 2], [0, 3, 1], [0, 4, 3], [0, 5, 4], [0, 2, 5], [2, 1, 6], [1, 3, 6], [3, 4, 6], [4, 5, 6], [5, 2, 6]], &quot;color&quot;: &quot;#356500&quot;, &quot;opacity&quot;: 1.0}, {&quot;vertices&quot;: [{&quot;x&quot;: 1.860710107081381, &quot;y&quot;: 1.2808825465084122, &quot;z&quot;: 2.5105259382520734e-17}, {&quot;x&quot;: 1.8670104746347316, &quot;y&quot;: 1.2871829140617626, &quot;z&quot;: -0.004539904997395444}, {&quot;x&quot;: 1.865710107081381, &quot;y&quot;: 1.285882546508412, &quot;z&quot;: 0.007071067811865501}, {&quot;x&quot;: 1.8596039483709688, &quot;y&quot;: 1.2797763877979997, &quot;z&quot;: -0.009876883405951355}, {&quot;x&quot;: 1.853726095848044, &quot;y&quot;: 1.273898535275075, &quot;z&quot;: -0.0015643446504022846}, {&quot;x&quot;: 1.85749990947178, &quot;y&quot;: 1.277672348898811, &quot;z&quot;: 0.008910065241883702}, {&quot;x&quot;: 1.5770966943482472, &quot;y&quot;: 1.577096694348247, &quot;z&quot;: -0.004539904997395469}, {&quot;x&quot;: 1.5757963267948965, &quot;y&quot;: 1.5757963267948965, &quot;z&quot;: 0.007071067811865476}, {&quot;x&quot;: 1.5696901680844841, &quot;y&quot;: 1.5696901680844841, &quot;z&quot;: -0.00987688340595138}, {&quot;x&quot;: 1.5638123155615595, &quot;y&quot;: 1.5638123155615595, &quot;z&quot;: -0.0015643446504023098}, {&quot;x&quot;: 1.5675861291852955, &quot;y&quot;: 1.5675861291852955, &quot;z&quot;: 0.008910065241883678}, {&quot;x&quot;: 1.5707963267948966, &quot;y&quot;: 1.5707963267948966, &quot;z&quot;: 0.0}], &quot;faces&quot;: [[0, 1, 2], [0, 3, 1], [0, 4, 3], [0, 5, 4], [0, 2, 5], [2, 1, 6, 7], [1, 3, 8, 6], [3, 4, 9, 8], [4, 5, 10, 9], [5, 2, 7, 10], [7, 6, 11], [6, 8, 11], [8, 9, 11], [9, 10, 11], [10, 7, 11]], &quot;color&quot;: &quot;#007f00&quot;, &quot;opacity&quot;: 1.0}, {&quot;vertices&quot;: [{&quot;x&quot;: 1.9243497173881703, &quot;y&quot;: 1.2172429362016228, &quot;z&quot;: 3.0616169978683824e-17}, {&quot;x&quot;: 1.8796112097414324, &quot;y&quot;: 1.2997836491684636, &quot;z&quot;: -0.013619714992186376}, {&quot;x&quot;: 1.8757101070813809, &quot;y&quot;: 1.295882546508412, &quot;z&quot;: 0.02121320343559645}, {&quot;x&quot;: 1.857391630950144, &quot;y&quot;: 1.2775640703771751, &quot;z&quot;: -0.029630650217854108}, {&quot;x&quot;: 1.8397580733813697, &quot;y&quot;: 1.2599305128084008, &quot;z&quot;: -0.004693033951206907}, {&quot;x&quot;: 1.8510795142525778, &quot;y&quot;: 1.271251953679609, &quot;z&quot;: 0.02673019572565106}, {&quot;x&quot;: 1.860710107081381, &quot;y&quot;: 1.2808825465084122, &quot;z&quot;: 2.5105259382520734e-17}], &quot;faces&quot;: [[0, 1, 2], [0, 3, 1], [0, 4, 3], [0, 5, 4], [0, 2, 5], [2, 1, 6], [1, 3, 6], [3, 4, 6], [4, 5, 6], [5, 2, 6]], &quot;color&quot;: &quot;#007f00&quot;, &quot;opacity&quot;: 1.0}, {&quot;vertices&quot;: [{&quot;x&quot;: 1.7627654326921383, &quot;y&quot;: 1.3788272208976549, &quot;z&quot;: 0.9076094918953584}, {&quot;x&quot;: 1.7703835369483736, &quot;y&quot;: 1.3838098517481205, &quot;z&quot;: 0.9034696999502099}, {&quot;x&quot;: 1.7657130096591391, &quot;y&quot;: 1.385879643930654, &quot;z&quot;: 0.9140573690178871}, {&quot;x&quot;: 1.7645261030853312, &quot;y&quot;: 1.3748542330836373, &quot;z&quot;: 0.8986030826443748}, {&quot;x&quot;: 1.7562354825818818, &quot;y&quot;: 1.371389148541237, &quot;z&quot;: 0.9061830168068077}, {&quot;x&quot;: 1.7569690311859658, &quot;y&quot;: 1.3782032271846252, &quot;z&quot;: 0.9157342910575126}, {&quot;x&quot;: 1.5784144310511319, &quot;y&quot;: 1.5757789576453622, &quot;z&quot;: 0.7812583714522997}, {&quot;x&quot;: 1.5737439037618974, &quot;y&quot;: 1.5778487498278957, &quot;z&quot;: 0.791846040519977}, {&quot;x&quot;: 1.5725569971880895, &quot;y&quot;: 1.566823338980879, &quot;z&quot;: 0.7763917541464648}, {&quot;x&quot;: 1.56426637668464, &quot;y&quot;: 1.5633582544384788, &quot;z&quot;: 0.7839716883088975}, {&quot;x&quot;: 1.5649999252887241, &quot;y&quot;: 1.5701723330818669, &quot;z&quot;: 0.7935229625596024}, {&quot;x&quot;: 1.5707963267948966, &quot;y&quot;: 1.5707963267948966, &quot;z&quot;: 0.7853981633974483}], &quot;faces&quot;: [[0, 1, 2], [0, 3, 1], [0, 4, 3], [0, 5, 4], [0, 2, 5], [2, 1, 6, 7], [1, 3, 8, 6], [3, 4, 9, 8], [4, 5, 10, 9], [5, 2, 7, 10], [7, 6, 11], [6, 8, 11], [8, 9, 11], [9, 10, 11], [10, 7, 11]], &quot;color&quot;: &quot;#386300&quot;, &quot;opacity&quot;: 1.0}, {&quot;vertices&quot;: [{&quot;x&quot;: 1.8207963267948966, &quot;y&quot;: 1.3207963267948966, &quot;z&quot;: 0.9445531064893437}, {&quot;x&quot;: 1.7856197454608442, &quot;y&quot;: 1.393775113449052, &quot;z&quot;: 0.8951901160599127}, {&quot;x&quot;: 1.7716081635931407, &quot;y&quot;: 1.3999844899966525, &quot;z&quot;: 0.9269531232629445}, {&quot;x&quot;: 1.7680474438717169, &quot;y&quot;: 1.3669082574556022, &quot;z&quot;: 0.8805902641424078}, {&quot;x&quot;: 1.7431755823613688, &quot;y&quot;: 1.3565130038284017, &quot;z&quot;: 0.9033300666297062}, {&quot;x&quot;: 1.745376228173621, &quot;y&quot;: 1.376955239758566, &quot;z&quot;: 0.931983889381821}, {&quot;x&quot;: 1.7627654326921383, &quot;y&quot;: 1.3788272208976549, &quot;z&quot;: 0.9076094918953584}], &quot;faces&quot;: [[0, 1, 2], [0, 3, 1], [0, 4, 3], [0, 5, 4], [0, 2, 5], [2, 1, 6], [1, 3, 6], [3, 4, 6], [4, 5, 6], [5, 2, 6]], &quot;color&quot;: &quot;#386300&quot;, &quot;opacity&quot;: 1.0}, {&quot;vertices&quot;: [{&quot;x&quot;: 1.5707963267948966, &quot;y&quot;: 1.5707963267948966, &quot;z&quot;: 1.7058754058341732}, {&quot;x&quot;: 1.580306891957848, &quot;y&quot;: 1.5738864967386461, &quot;z&quot;: 1.7058754058341732}, {&quot;x&quot;: 1.5707963267948966, &quot;y&quot;: 1.5807963267948966, &quot;z&quot;: 1.7058754058341732}, {&quot;x&quot;: 1.5766741793178214, &quot;y&quot;: 1.562706156851147, &quot;z&quot;: 1.7058754058341732}, {&quot;x&quot;: 1.5649184742719717, &quot;y&quot;: 1.562706156851147, &quot;z&quot;: 1.7058754058341732}, {&quot;x&quot;: 1.561285761631945, &quot;y&quot;: 1.5738864967386461, &quot;z&quot;: 1.7058754058341732}, {&quot;x&quot;: 1.580306891957848, &quot;y&quot;: 1.5738864967386461, &quot;z&quot;: 1.5707963267948966}, {&quot;x&quot;: 1.5707963267948966, &quot;y&quot;: 1.5807963267948966, &quot;z&quot;: 1.5707963267948966}, {&quot;x&quot;: 1.5766741793178214, &quot;y&quot;: 1.562706156851147, &quot;z&quot;: 1.5707963267948966}, {&quot;x&quot;: 1.5649184742719717, &quot;y&quot;: 1.562706156851147, &quot;z&quot;: 1.5707963267948966}, {&quot;x&quot;: 1.561285761631945, &quot;y&quot;: 1.5738864967386461, &quot;z&quot;: 1.5707963267948966}, {&quot;x&quot;: 1.5707963267948966, &quot;y&quot;: 1.5707963267948966, &quot;z&quot;: 1.5707963267948966}], &quot;faces&quot;: [[0, 1, 2], [0, 3, 1], [0, 4, 3], [0, 5, 4], [0, 2, 5], [2, 1, 6, 7], [1, 3, 8, 6], [3, 4, 9, 8], [4, 5, 10, 9], [5, 2, 7, 10], [7, 6, 11], [6, 8, 11], [8, 9, 11], [9, 10, 11], [10, 7, 11]], &quot;color&quot;: &quot;#8d3900&quot;, &quot;opacity&quot;: 1.0}, {&quot;vertices&quot;: [{&quot;x&quot;: 1.5707963267948966, &quot;y&quot;: 1.5707963267948966, &quot;z&quot;: 1.7958754058341733}, {&quot;x&quot;: 1.5993280222837511, &quot;y&quot;: 1.580066836626145, &quot;z&quot;: 1.7058754058341732}, {&quot;x&quot;: 1.5707963267948966, &quot;y&quot;: 1.6007963267948966, &quot;z&quot;: 1.7058754058341732}, {&quot;x&quot;: 1.5884298843636708, &quot;y&quot;: 1.5465258169636482, &quot;z&quot;: 1.7058754058341732}, {&quot;x&quot;: 1.5531627692261223, &quot;y&quot;: 1.5465258169636482, &quot;z&quot;: 1.7058754058341732}, {&quot;x&quot;: 1.542264631306042, &quot;y&quot;: 1.580066836626145, &quot;z&quot;: 1.7058754058341732}, {&quot;x&quot;: 1.5707963267948966, &quot;y&quot;: 1.5707963267948966, &quot;z&quot;: 1.7058754058341732}], &quot;faces&quot;: [[0, 1, 2], [0, 3, 1], [0, 4, 3], [0, 5, 4], [0, 2, 5], [2, 1, 6], [1, 3, 6], [3, 4, 6], [4, 5, 6], [5, 2, 6]], &quot;color&quot;: &quot;#8d3900&quot;, &quot;opacity&quot;: 1.0}, {&quot;vertices&quot;: [{&quot;x&quot;: 1.3788272208976549, &quot;y&quot;: 1.7627654326921383, &quot;z&quot;: 2.478405818690255}, {&quot;x&quot;: 1.3864453251538902, &quot;y&quot;: 1.767748063542604, &quot;z&quot;: 2.4825456106354036}, {&quot;x&quot;: 1.3817747978646555, &quot;y&quot;: 1.7698178557251376, &quot;z&quot;: 2.471957941567726}, {&quot;x&quot;: 1.3805878912908476, &quot;y&quot;: 1.7587924448781207, &quot;z&quot;: 2.4874122279412387}, {&quot;x&quot;: 1.3722972707873984, &quot;y&quot;: 1.7553273603357207, &quot;z&quot;: 2.4798322937788058}, {&quot;x&quot;: 1.3730308193914822, &quot;y&quot;: 1.7621414389791088, &quot;z&quot;: 2.470281019528101}, {&quot;x&quot;: 1.5784144310511319, &quot;y&quot;: 1.5757789576453622, &quot;z&quot;: 2.3603342821374933}, {&quot;x&quot;: 1.5737439037618974, &quot;y&quot;: 1.5778487498278957, &quot;z&quot;: 2.3497466130698164}, {&quot;x&quot;: 1.5725569971880895, &quot;y&quot;: 1.566823338980879, &quot;z&quot;: 2.3652008994433285}, {&quot;x&quot;: 1.56426637668464, &quot;y&quot;: 1.5633582544384788, &quot;z&quot;: 2.3576209652808955}, {&quot;x&quot;: 1.5649999252887241, &quot;y&quot;: 1.5701723330818669, &quot;z&quot;: 2.3480696910301906}, {&quot;x&quot;: 1.5707963267948966, &quot;y&quot;: 1.5707963267948966, &quot;z&quot;: 2.356194490192345}], &quot;faces&quot;: [[0, 1, 2], [0, 3, 1], [0, 4, 3], [0, 5, 4], [0, 2, 5], [2, 1, 6, 7], [1, 3, 8, 6], [3, 4, 9, 8], [4, 5, 10, 9], [5, 2, 7, 10], [7, 6, 11], [6, 8, 11], [8, 9, 11], [9, 10, 11], [10, 7, 11]], &quot;color&quot;: &quot;#386300&quot;, &quot;opacity&quot;: 1.0}, {&quot;vertices&quot;: [{&quot;x&quot;: 1.3207963267948966, &quot;y&quot;: 1.8207963267948966, &quot;z&quot;: 2.51534943328424}, {&quot;x&quot;: 1.4016815336663608, &quot;y&quot;: 1.7777133252435353, &quot;z&quot;: 2.490825194525701}, {&quot;x&quot;: 1.3876699517986573, &quot;y&quot;: 1.7839227017911359, &quot;z&quot;: 2.4590621873226692}, {&quot;x&quot;: 1.3841092320772335, &quot;y&quot;: 1.7508464692500856, &quot;z&quot;: 2.505425046443206}, {&quot;x&quot;: 1.3592373705668854, &quot;y&quot;: 1.740451215622885, &quot;z&quot;: 2.4826852439559075}, {&quot;x&quot;: 1.3614380163791373, &quot;y&quot;: 1.7608934515530494, &quot;z&quot;: 2.454031421203793}, {&quot;x&quot;: 1.3788272208976549, &quot;y&quot;: 1.7627654326921383, &quot;z&quot;: 2.478405818690255}], &quot;faces&quot;: [[0, 1, 2], [0, 3, 1], [0, 4, 3], [0, 5, 4], [0, 2, 5], [2, 1, 6], [1, 3, 6], [3, 4, 6], [4, 5, 6], [5, 2, 6]], &quot;color&quot;: &quot;#386300&quot;, &quot;opacity&quot;: 1.0}, {&quot;vertices&quot;: [{&quot;x&quot;: 1.2808825465084122, &quot;y&quot;: 1.860710107081381, &quot;z&quot;: 3.141592653589793}, {&quot;x&quot;: 1.2871829140617626, &quot;y&quot;: 1.8670104746347316, &quot;z&quot;: 3.1461325585871887}, {&quot;x&quot;: 1.285882546508412, &quot;y&quot;: 1.865710107081381, &quot;z&quot;: 3.134521585777928}, {&quot;x&quot;: 1.2797763877979997, &quot;y&quot;: 1.8596039483709688, &quot;z&quot;: 3.1514695369957444}, {&quot;x&quot;: 1.273898535275075, &quot;y&quot;: 1.853726095848044, &quot;z&quot;: 3.1431569982401952}, {&quot;x&quot;: 1.277672348898811, &quot;y&quot;: 1.85749990947178, &quot;z&quot;: 3.1326825883479095}, {&quot;x&quot;: 1.5770966943482472, &quot;y&quot;: 1.577096694348247, &quot;z&quot;: 3.1461325585871887}, {&quot;x&quot;: 1.5757963267948965, &quot;y&quot;: 1.5757963267948965, &quot;z&quot;: 3.134521585777928}, {&quot;x&quot;: 1.5696901680844841, &quot;y&quot;: 1.5696901680844841, &quot;z&quot;: 3.1514695369957444}, {&quot;x&quot;: 1.5638123155615595, &quot;y&quot;: 1.5638123155615595, &quot;z&quot;: 3.1431569982401952}, {&quot;x&quot;: 1.5675861291852955, &quot;y&quot;: 1.5675861291852955, &quot;z&quot;: 3.1326825883479095}, {&quot;x&quot;: 1.5707963267948966, &quot;y&quot;: 1.5707963267948966, &quot;z&quot;: 3.141592653589793}], &quot;faces&quot;: [[0, 1, 2], [0, 3, 1], [0, 4, 3], [0, 5, 4], [0, 2, 5], [2, 1, 6, 7], [1, 3, 8, 6], [3, 4, 9, 8], [4, 5, 10, 9], [5, 2, 7, 10], [7, 6, 11], [6, 8, 11], [8, 9, 11], [9, 10, 11], [10, 7, 11]], &quot;color&quot;: &quot;#007f00&quot;, &quot;opacity&quot;: 1.0}, {&quot;vertices&quot;: [{&quot;x&quot;: 1.2172429362016228, &quot;y&quot;: 1.9243497173881703, &quot;z&quot;: 3.141592653589793}, {&quot;x&quot;: 1.2997836491684636, &quot;y&quot;: 1.8796112097414324, &quot;z&quot;: 3.1552123685819797}, {&quot;x&quot;: 1.295882546508412, &quot;y&quot;: 1.8757101070813809, &quot;z&quot;: 3.120379450154197}, {&quot;x&quot;: 1.2775640703771751, &quot;y&quot;: 1.857391630950144, &quot;z&quot;: 3.1712233038076474}, {&quot;x&quot;: 1.2599305128084008, &quot;y&quot;: 1.8397580733813697, &quot;z&quot;: 3.146285687541}, {&quot;x&quot;: 1.271251953679609, &quot;y&quot;: 1.8510795142525778, &quot;z&quot;: 3.114862457864142}, {&quot;x&quot;: 1.2808825465084122, &quot;y&quot;: 1.860710107081381, &quot;z&quot;: 3.141592653589793}], &quot;faces&quot;: [[0, 1, 2], [0, 3, 1], [0, 4, 3], [0, 5, 4], [0, 2, 5], [2, 1, 6], [1, 3, 6], [3, 4, 6], [4, 5, 6], [5, 2, 6]], &quot;color&quot;: &quot;#007f00&quot;, &quot;opacity&quot;: 1.0}, {&quot;vertices&quot;: [{&quot;x&quot;: 1.8744266997278998, &quot;y&quot;: 1.9007489307928402, &quot;z&quot;: 3.351720144203252e-17}, {&quot;x&quot;: 1.8824371694301352, &quot;y&quot;: 1.9060892439276638, &quot;z&quot;: -0.0027043355508513042}, {&quot;x&quot;: 1.8790420843432845, &quot;y&quot;: 1.9038258538697632, &quot;z&quot;: 0.00832050294337847}, {&quot;x&quot;: 1.8747620576543478, &quot;y&quot;: 1.9009725027438056, &quot;z&quot;: -0.0099918742307892}, {&quot;x&quot;: 1.866623492622606, &quot;y&quot;: 1.8955467927226444, &quot;z&quot;: -0.0034709823350905873}, {&quot;x&quot;: 1.8692686945891253, &quot;y&quot;: 1.897310260700324, &quot;z&quot;: 0.007846689173352786}, {&quot;x&quot;: 1.578806796497132, &quot;y&quot;: 2.3615348033271686, &quot;z&quot;: -0.0027043355508513376}, {&quot;x&quot;: 1.5754117114102812, &quot;y&quot;: 2.359271413269268, &quot;z&quot;: 0.008320502943378437}, {&quot;x&quot;: 1.5711316847213448, &quot;y&quot;: 2.35641806214331, &quot;z&quot;: -0.009991874230789233}, {&quot;x&quot;: 1.5629931196896028, &quot;y&quot;: 2.350992352122149, &quot;z&quot;: -0.0034709823350906207}, {&quot;x&quot;: 1.5656383216561223, &quot;y&quot;: 2.3527558200998286, &quot;z&quot;: 0.007846689173352753}, {&quot;x&quot;: 1.5707963267948966, &quot;y&quot;: 2.356194490192345, &quot;z&quot;: 0.0}], &quot;faces&quot;: [[0, 1, 2], [0, 3, 1], [0, 4, 3], [0, 5, 4], [0, 2, 5], [2, 1, 6, 7], [1, 3, 8, 6], [3, 4, 9, 8], [4, 5, 10, 9], [5, 2, 7, 10], [7, 6, 11], [6, 8, 11], [8, 9, 11], [9, 10, 11], [10, 7, 11]], &quot;color&quot;: &quot;#005c47&quot;, &quot;opacity&quot;: 1.0}, {&quot;vertices&quot;: [{&quot;x&quot;: 1.9243497173881703, &quot;y&quot;: 1.8258644043024344, &quot;z&quot;: 3.902811203819561e-17}, {&quot;x&quot;: 1.898458108834606, &quot;y&quot;: 1.916769870197311, &quot;z&quot;: -0.008113006652553977}, {&quot;x&quot;: 1.8882728535740536, &quot;y&quot;: 1.9099797000236094, &quot;z&quot;: 0.024961508830135343}, {&quot;x&quot;: 1.8754327735072442, &quot;y&quot;: 1.9014196466457365, &quot;z&quot;: -0.02997562269236766}, {&quot;x&quot;: 1.8510170784120183, &quot;y&quot;: 1.8851425165822526, &quot;z&quot;: -0.010412947005271832}, {&quot;x&quot;: 1.8589526843115767, &quot;y&quot;: 1.8904329205152914, &quot;z&quot;: 0.02354006752005829}, {&quot;x&quot;: 1.8744266997278998, &quot;y&quot;: 1.9007489307928402, &quot;z&quot;: 3.351720144203252e-17}], &quot;faces&quot;: [[0, 1, 2], [0, 3, 1], [0, 4, 3], [0, 5, 4], [0, 2, 5], [2, 1, 6], [1, 3, 6], [3, 4, 6], [4, 5, 6], [5, 2, 6]], &quot;color&quot;: &quot;#005c47&quot;, &quot;opacity&quot;: 1.0}, {&quot;vertices&quot;: [{&quot;x&quot;: 1.773722240072774, &quot;y&quot;: 2.051805620275529, &quot;z&quot;: 0.9145848121158942}, {&quot;x&quot;: 1.7822322131345094, &quot;y&quot;: 2.0563966783711023, &quot;z&quot;: 0.9120348034783392}, {&quot;x&quot;: 1.7768007890792636, &quot;y&quot;: 2.057187796765794, &quot;z&quot;: 0.9224304932362479}, {&quot;x&quot;: 1.7759031436617827, &quot;y&quot;: 2.049260873732653, &quot;z&quot;: 0.9051631389859256}, {&quot;x&quot;: 1.7665601395552324, &quot;y&quot;: 2.0456418223237045, &quot;z&quot;: 0.9113119065282369}, {&quot;x&quot;: 1.7671149149330811, &quot;y&quot;: 2.05054093018439, &quot;z&quot;: 0.921983718350721}, {&quot;x&quot;: 1.579306299856632, &quot;y&quot;: 2.360785548287918, &quot;z&quot;: 0.7828481547598934}, {&quot;x&quot;: 1.5738748758013863, &quot;y&quot;: 2.3615766666826103, &quot;z&quot;: 0.793243844517802}, {&quot;x&quot;: 1.5729772303839054, &quot;y&quot;: 2.353649743649469, &quot;z&quot;: 0.7759764902674797}, {&quot;x&quot;: 1.563634226277355, &quot;y&quot;: 2.3500306922405207, &quot;z&quot;: 0.782125257809791}, {&quot;x&quot;: 1.5641890016552038, &quot;y&quot;: 2.354929800101206, &quot;z&quot;: 0.7927970696322751}, {&quot;x&quot;: 1.5707963267948966, &quot;y&quot;: 2.356194490192345, &quot;z&quot;: 0.7853981633974483}], &quot;faces&quot;: [[0, 1, 2], [0, 3, 1], [0, 4, 3], [0, 5, 4], [0, 2, 5], [2, 1, 6, 7], [1, 3, 8, 6], [3, 4, 9, 8], [4, 5, 10, 9], [5, 2, 7, 10], [7, 6, 11], [6, 8, 11], [8, 9, 11], [9, 10, 11], [10, 7, 11]], &quot;color&quot;: &quot;#0b7a00&quot;, &quot;opacity&quot;: 1.0}, {&quot;vertices&quot;: [{&quot;x&quot;: 1.8207963267948966, &quot;y&quot;: 1.981194490192345, &quot;z&quot;: 0.9445531064893437}, {&quot;x&quot;: 1.7992521592579807, &quot;y&quot;: 2.0655787945622492, &quot;z&quot;: 0.9069347862032295}, {&quot;x&quot;: 1.7829578870922431, &quot;y&quot;: 2.067952149746325, &quot;z&quot;: 0.9381218554769555}, {&quot;x&quot;: 1.7802649508398005, &quot;y&quot;: 2.044171380646902, &quot;z&quot;: 0.8863197927259886}, {&quot;x&quot;: 1.7522359385201494, &quot;y&quot;: 2.0333142264200563, &quot;z&quot;: 0.9047660953529224}, {&quot;x&quot;: 1.7539002646536959, &quot;y&quot;: 2.0480115500021125, &quot;z&quot;: 0.9367815308203749}, {&quot;x&quot;: 1.773722240072774, &quot;y&quot;: 2.051805620275529, &quot;z&quot;: 0.9145848121158942}], &quot;faces&quot;: [[0, 1, 2], [0, 3, 1], [0, 4, 3], [0, 5, 4], [0, 2, 5], [2, 1, 6], [1, 3, 6], [3, 4, 6], [4, 5, 6], [5, 2, 6]], &quot;color&quot;: &quot;#0b7a00&quot;, &quot;opacity&quot;: 1.0}, {&quot;vertices&quot;: [{&quot;x&quot;: 1.5707963267948966, &quot;y&quot;: 2.356194490192345, &quot;z&quot;: 1.7058754058341732}, {&quot;x&quot;: 1.580306891957848, &quot;y&quot;: 2.3592846601360944, &quot;z&quot;: 1.7058754058341732}, {&quot;x&quot;: 1.5707963267948966, &quot;y&quot;: 2.3661944901923446, &quot;z&quot;: 1.7058754058341732}, {&quot;x&quot;: 1.5766741793178214, &quot;y&quot;: 2.3481043202485954, &quot;z&quot;: 1.7058754058341732}, {&quot;x&quot;: 1.5649184742719717, &quot;y&quot;: 2.3481043202485954, &quot;z&quot;: 1.7058754058341732}, {&quot;x&quot;: 1.561285761631945, &quot;y&quot;: 2.3592846601360944, &quot;z&quot;: 1.7058754058341732}, {&quot;x&quot;: 1.580306891957848, &quot;y&quot;: 2.3592846601360944, &quot;z&quot;: 1.5707963267948966}, {&quot;x&quot;: 1.5707963267948966, &quot;y&quot;: 2.3661944901923446, &quot;z&quot;: 1.5707963267948966}, {&quot;x&quot;: 1.5766741793178214, &quot;y&quot;: 2.3481043202485954, &quot;z&quot;: 1.5707963267948966}, {&quot;x&quot;: 1.5649184742719717, &quot;y&quot;: 2.3481043202485954, &quot;z&quot;: 1.5707963267948966}, {&quot;x&quot;: 1.561285761631945, &quot;y&quot;: 2.3592846601360944, &quot;z&quot;: 1.5707963267948966}, {&quot;x&quot;: 1.5707963267948966, &quot;y&quot;: 2.356194490192345, &quot;z&quot;: 1.5707963267948966}], &quot;faces&quot;: [[0, 1, 2], [0, 3, 1], [0, 4, 3], [0, 5, 4], [0, 2, 5], [2, 1, 6, 7], [1, 3, 8, 6], [3, 4, 9, 8], [4, 5, 10, 9], [5, 2, 7, 10], [7, 6, 11], [6, 8, 11], [8, 9, 11], [9, 10, 11], [10, 7, 11]], &quot;color&quot;: &quot;#8d3900&quot;, &quot;opacity&quot;: 1.0}, {&quot;vertices&quot;: [{&quot;x&quot;: 1.5707963267948966, &quot;y&quot;: 2.356194490192345, &quot;z&quot;: 1.7958754058341733}, {&quot;x&quot;: 1.5993280222837511, &quot;y&quot;: 2.365465000023593, &quot;z&quot;: 1.7058754058341732}, {&quot;x&quot;: 1.5707963267948966, &quot;y&quot;: 2.3861944901923446, &quot;z&quot;: 1.7058754058341732}, {&quot;x&quot;: 1.5884298843636708, &quot;y&quot;: 2.3319239803610965, &quot;z&quot;: 1.7058754058341732}, {&quot;x&quot;: 1.5531627692261223, &quot;y&quot;: 2.3319239803610965, &quot;z&quot;: 1.7058754058341732}, {&quot;x&quot;: 1.542264631306042, &quot;y&quot;: 2.365465000023593, &quot;z&quot;: 1.7058754058341732}, {&quot;x&quot;: 1.5707963267948966, &quot;y&quot;: 2.356194490192345, &quot;z&quot;: 1.7058754058341732}], &quot;faces&quot;: [[0, 1, 2], [0, 3, 1], [0, 4, 3], [0, 5, 4], [0, 2, 5], [2, 1, 6], [1, 3, 6], [3, 4, 6], [4, 5, 6], [5, 2, 6]], &quot;color&quot;: &quot;#8d3900&quot;, &quot;opacity&quot;: 1.0}, {&quot;vertices&quot;: [{&quot;x&quot;: 1.3678704135170192, &quot;y&quot;: 2.6605833601091606, &quot;z&quot;: 2.4853811389107907}, {&quot;x&quot;: 1.376380386578755, &quot;y&quot;: 2.6651744182047343, &quot;z&quot;: 2.4879311475483457}, {&quot;x&quot;: 1.370948962523509, &quot;y&quot;: 2.665965536599426, &quot;z&quot;: 2.4775354577904367}, {&quot;x&quot;: 1.3700513171060282, &quot;y&quot;: 2.6580386135662852, &quot;z&quot;: 2.494802812040759}, {&quot;x&quot;: 1.3607083129994777, &quot;y&quot;: 2.6544195621573365, &quot;z&quot;: 2.488654044498448}, {&quot;x&quot;: 1.3612630883773265, &quot;y&quot;: 2.659318670018022, &quot;z&quot;: 2.4779822326759637}, {&quot;x&quot;: 1.579306299856632, &quot;y&quot;: 2.360785548287918, &quot;z&quot;: 2.3587444988299}, {&quot;x&quot;: 1.5738748758013863, &quot;y&quot;: 2.3615766666826103, &quot;z&quot;: 2.348348809071991}, {&quot;x&quot;: 1.5729772303839054, &quot;y&quot;: 2.353649743649469, &quot;z&quot;: 2.365616163322313}, {&quot;x&quot;: 1.563634226277355, &quot;y&quot;: 2.3500306922405207, &quot;z&quot;: 2.359467395780002}, {&quot;x&quot;: 1.5641890016552038, &quot;y&quot;: 2.354929800101206, &quot;z&quot;: 2.348795583957518}, {&quot;x&quot;: 1.5707963267948966, &quot;y&quot;: 2.356194490192345, &quot;z&quot;: 2.356194490192345}], &quot;faces&quot;: [[0, 1, 2], [0, 3, 1], [0, 4, 3], [0, 5, 4], [0, 2, 5], [2, 1, 6, 7], [1, 3, 8, 6], [3, 4, 9, 8], [4, 5, 10, 9], [5, 2, 7, 10], [7, 6, 11], [6, 8, 11], [8, 9, 11], [9, 10, 11], [10, 7, 11]], &quot;color&quot;: &quot;#0b7a00&quot;, &quot;opacity&quot;: 1.0}, {&quot;vertices&quot;: [{&quot;x&quot;: 1.3207963267948966, &quot;y&quot;: 2.731194490192345, &quot;z&quot;: 2.51534943328424}, {&quot;x&quot;: 1.393400332702226, &quot;y&quot;: 2.674356534395881, &quot;z&quot;: 2.4930311648234555}, {&quot;x&quot;: 1.3771060605364884, &quot;y&quot;: 2.6767298895799567, &quot;z&quot;: 2.461844095549729}, {&quot;x&quot;: 1.3744131242840458, &quot;y&quot;: 2.6529491204805336, &quot;z&quot;: 2.513646158300696}, {&quot;x&quot;: 1.3463841119643947, &quot;y&quot;: 2.642091966253688, &quot;z&quot;: 2.4951998556737625}, {&quot;x&quot;: 1.3480484380979412, &quot;y&quot;: 2.656789289835744, &quot;z&quot;: 2.4631844202063102}, {&quot;x&quot;: 1.3678704135170192, &quot;y&quot;: 2.6605833601091606, &quot;z&quot;: 2.4853811389107907}], &quot;faces&quot;: [[0, 1, 2], [0, 3, 1], [0, 4, 3], [0, 5, 4], [0, 2, 5], [2, 1, 6], [1, 3, 6], [3, 4, 6], [4, 5, 6], [5, 2, 6]], &quot;color&quot;: &quot;#0b7a00&quot;, &quot;opacity&quot;: 1.0}, {&quot;vertices&quot;: [{&quot;x&quot;: 1.2671659538618933, &quot;y&quot;: 2.8116400495918494, &quot;z&quot;: 3.141592653589793}, {&quot;x&quot;: 1.2751764235641287, &quot;y&quot;: 2.816980362726673, &quot;z&quot;: 3.1442969891406447}, {&quot;x&quot;: 1.271781338477278, &quot;y&quot;: 2.8147169726687724, &quot;z&quot;: 3.1332721506464147}, {&quot;x&quot;: 1.2675013117883416, &quot;y&quot;: 2.8118636215428148, &quot;z&quot;: 3.1515845278205825}, {&quot;x&quot;: 1.2593627467565995, &quot;y&quot;: 2.8064379115216536, &quot;z&quot;: 3.145063635924884}, {&quot;x&quot;: 1.262007948723119, &quot;y&quot;: 2.8082013794993332, &quot;z&quot;: 3.1337459644164403}, {&quot;x&quot;: 1.578806796497132, &quot;y&quot;: 2.3615348033271686, &quot;z&quot;: 3.1442969891406443}, {&quot;x&quot;: 1.5754117114102812, &quot;y&quot;: 2.359271413269268, &quot;z&quot;: 3.1332721506464147}, {&quot;x&quot;: 1.5711316847213448, &quot;y&quot;: 2.35641806214331, &quot;z&quot;: 3.1515845278205825}, {&quot;x&quot;: 1.5629931196896028, &quot;y&quot;: 2.350992352122149, &quot;z&quot;: 3.145063635924884}, {&quot;x&quot;: 1.5656383216561223, &quot;y&quot;: 2.3527558200998286, &quot;z&quot;: 3.1337459644164403}, {&quot;x&quot;: 1.5707963267948966, &quot;y&quot;: 2.356194490192345, &quot;z&quot;: 3.141592653589793}], &quot;faces&quot;: [[0, 1, 2], [0, 3, 1], [0, 4, 3], [0, 5, 4], [0, 2, 5], [2, 1, 6, 7], [1, 3, 8, 6], [3, 4, 9, 8], [4, 5, 10, 9], [5, 2, 7, 10], [7, 6, 11], [6, 8, 11], [8, 9, 11], [9, 10, 11], [10, 7, 11]], &quot;color&quot;: &quot;#005c47&quot;, &quot;opacity&quot;: 1.0}, {&quot;vertices&quot;: [{&quot;x&quot;: 1.2172429362016228, &quot;y&quot;: 2.8865245760822553, &quot;z&quot;: 3.141592653589793}, {&quot;x&quot;: 1.2911973629685995, &quot;y&quot;: 2.8276609889963202, &quot;z&quot;: 3.149705660242347}, {&quot;x&quot;: 1.2810121077080472, &quot;y&quot;: 2.820870818822619, &quot;z&quot;: 3.116631144759658}, {&quot;x&quot;: 1.2681720276412378, &quot;y&quot;: 2.812310765444746, &quot;z&quot;: 3.171568276282161}, {&quot;x&quot;: 1.243756332546012, &quot;y&quot;: 2.796033635381262, &quot;z&quot;: 3.152005600595065}, {&quot;x&quot;: 1.2516919384455703, &quot;y&quot;: 2.801324039314301, &quot;z&quot;: 3.118052586069735}, {&quot;x&quot;: 1.2671659538618933, &quot;y&quot;: 2.8116400495918494, &quot;z&quot;: 3.141592653589793}], &quot;faces&quot;: [[0, 1, 2], [0, 3, 1], [0, 4, 3], [0, 5, 4], [0, 2, 5], [2, 1, 6], [1, 3, 6], [3, 4, 6], [4, 5, 6], [5, 2, 6]], &quot;color&quot;: &quot;#005c47&quot;, &quot;opacity&quot;: 1.0}, {&quot;vertices&quot;: [{&quot;x&quot;: 1.884100493793174, &quot;y&quot;: 2.514984319593238, &quot;z&quot;: 4.289750458559175e-17}, {&quot;x&quot;: 1.892945013901035, &quot;y&quot;: 2.5194065796471685, &quot;z&quot;: -0.0014893220192599465}, {&quot;x&quot;: 1.888100493793174, &quot;y&quot;: 2.516984319593238, &quot;z&quot;: 0.008944271909999203}, {&quot;x&quot;: 1.8855667078340141, &quot;y&quot;: 2.515717426613658, &quot;z&quot;: -0.009864723538095414}, {&quot;x&quot;: 1.8761621437973344, &quot;y&quot;: 2.5110151445953184, &quot;z&quot;: -0.004607412416904081}, {&quot;x&quot;: 1.8777281096403127, &quot;y&quot;: 2.5117981275168075, &quot;z&quot;: 0.007017186064260451}, {&quot;x&quot;: 1.5796408469027576, &quot;y&quot;: 3.1460149136437234, &quot;z&quot;: -0.0014893220192599894}, {&quot;x&quot;: 1.5747963267948966, &quot;y&quot;: 3.143592653589793, &quot;z&quot;: 0.00894427190999916}, {&quot;x&quot;: 1.5722625408357365, &quot;y&quot;: 3.142325760610213, &quot;z&quot;: -0.009864723538095458}, {&quot;x&quot;: 1.562857976799057, &quot;y&quot;: 3.1376234785918733, &quot;z&quot;: -0.004607412416904123}, {&quot;x&quot;: 1.5644239426420352, &quot;y&quot;: 3.1384064615133624, &quot;z&quot;: 0.0070171860642604085}, {&quot;x&quot;: 1.5707963267948966, &quot;y&quot;: 3.141592653589793, &quot;z&quot;: 0.0}], &quot;faces&quot;: [[0, 1, 2], [0, 3, 1], [0, 4, 3], [0, 5, 4], [0, 2, 5], [2, 1, 6, 7], [1, 3, 8, 6], [3, 4, 9, 8], [4, 5, 10, 9], [5, 2, 7, 10], [7, 6, 11], [6, 8, 11], [8, 9, 11], [9, 10, 11], [10, 7, 11]], &quot;color&quot;: &quot;#003595&quot;, &quot;opacity&quot;: 1.0}, {&quot;vertices&quot;: [{&quot;x&quot;: 1.9243497173881703, &quot;y&quot;: 2.4344858724032457, &quot;z&quot;: 4.8408415181754837e-17}, {&quot;x&quot;: 1.910634054116757, &quot;y&quot;: 2.5282510997550296, &quot;z&quot;: -0.004467966057779923}, {&quot;x&quot;: 1.896100493793174, &quot;y&quot;: 2.520984319593238, &quot;z&quot;: 0.026832815729997517}, {&quot;x&quot;: 1.888499135915694, &quot;y&quot;: 2.517183640654498, &quot;z&quot;: -0.029594170614286326}, {&quot;x&quot;: 1.8602854438056553, &quot;y&quot;: 2.5030767945994787, &quot;z&quot;: -0.013822237250712327}, {&quot;x&quot;: 1.8649833413345898, &quot;y&quot;: 2.505425743363946, &quot;z&quot;: 0.021051558192781268}, {&quot;x&quot;: 1.884100493793174, &quot;y&quot;: 2.514984319593238, &quot;z&quot;: 4.289750458559175e-17}], &quot;faces&quot;: [[0, 1, 2], [0, 3, 1], [0, 4, 3], [0, 5, 4], [0, 2, 5], [2, 1, 6], [1, 3, 6], [3, 4, 6], [4, 5, 6], [5, 2, 6]], &quot;color&quot;: &quot;#003595&quot;, &quot;opacity&quot;: 1.0}, {&quot;vertices&quot;: [{&quot;x&quot;: 1.7820854309977485, &quot;y&quot;: 2.719014445184089, &quot;z&quot;: 0.9199089848188179}, {&quot;x&quot;: 1.7911123299431173, &quot;y&quot;: 2.723071947563004, &quot;z&quot;: 0.9184765847786059}, {&quot;x&quot;: 1.7849901367012806, &quot;y&quot;: 2.723205033777025, &quot;z&quot;: 0.9285114061070731}, {&quot;x&quot;: 1.7847596556554648, &quot;y&quot;: 2.717331530970757, &quot;z&quot;: 0.910421291620225}, {&quot;x&quot;: 1.7747112937844014, &quot;y&quot;: 2.7139168446211848, &quot;z&quot;: 0.9154776679874683}, {&quot;x&quot;: 1.774853738904478, &quot;y&quot;: 2.7175468689884763, &quot;z&quot;: 0.9266579736007172}, {&quot;x&quot;: 1.5798232257402653, &quot;y&quot;: 3.145650155968708, &quot;z&quot;: 0.7839657633572363}, {&quot;x&quot;: 1.5737010324984289, &quot;y&quot;: 3.1457832421827288, &quot;z&quot;: 0.7940005846857034}, {&quot;x&quot;: 1.5734705514526128, &quot;y&quot;: 3.1399097393764603, &quot;z&quot;: 0.7759104701988554}, {&quot;x&quot;: 1.5634221895815494, &quot;y&quot;: 3.1364950530268882, &quot;z&quot;: 0.7809668465660986}, {&quot;x&quot;: 1.5635646347016263, &quot;y&quot;: 3.1401250773941802, &quot;z&quot;: 0.7921471521793475}, {&quot;x&quot;: 1.5707963267948966, &quot;y&quot;: 3.141592653589793, &quot;z&quot;: 0.7853981633974483}], &quot;faces&quot;: [[0, 1, 2], [0, 3, 1], [0, 4, 3], [0, 5, 4], [0, 2, 5], [2, 1, 6, 7], [1, 3, 8, 6], [3, 4, 9, 8], [4, 5, 10, 9], [5, 2, 7, 10], [7, 6, 11], [6, 8, 11], [8, 9, 11], [9, 10, 11], [10, 7, 11]], &quot;color&quot;: &quot;#006b28&quot;, &quot;opacity&quot;: 1.0}, {&quot;vertices&quot;: [{&quot;x&quot;: 1.8207963267948968, &quot;y&quot;: 2.6415926535897927, &quot;z&quot;: 0.9445531064893435}, {&quot;x&quot;: 1.8091661278338549, &quot;y&quot;: 2.731186952320834, &quot;z&quot;: 0.915611784698182}, {&quot;x&quot;: 1.7907995481083452, &quot;y&quot;: 2.731586210962896, &quot;z&quot;: 0.9457162486835834}, {&quot;x&quot;: 1.7901081049708976, &quot;y&quot;: 2.7139657025440913, &quot;z&quot;: 0.8914459052230393}, {&quot;x&quot;: 1.7599630193577072, &quot;y&quot;: 2.703721643495375, &quot;z&quot;: 0.906615034324769}, {&quot;x&quot;: 1.7603903547179378, &quot;y&quot;: 2.71461171659725, &quot;z&quot;: 0.9401559511645157}, {&quot;x&quot;: 1.7820854309977485, &quot;y&quot;: 2.719014445184089, &quot;z&quot;: 0.9199089848188179}], &quot;faces&quot;: [[0, 1, 2], [0, 3, 1], [0, 4, 3], [0, 5, 4], [0, 2, 5], [2, 1, 6], [1, 3, 6], [3, 4, 6], [4, 5, 6], [5, 2, 6]], &quot;color&quot;: &quot;#006b28&quot;, &quot;opacity&quot;: 1.0}, {&quot;vertices&quot;: [{&quot;x&quot;: 1.5707963267948966, &quot;y&quot;: 3.141592653589793, &quot;z&quot;: 1.7058754058341732}, {&quot;x&quot;: 1.580306891957848, &quot;y&quot;: 3.1446828235335427, &quot;z&quot;: 1.7058754058341732}, {&quot;x&quot;: 1.5707963267948966, &quot;y&quot;: 3.151592653589793, &quot;z&quot;: 1.7058754058341732}, {&quot;x&quot;: 1.5766741793178214, &quot;y&quot;: 3.1335024836460437, &quot;z&quot;: 1.7058754058341732}, {&quot;x&quot;: 1.5649184742719717, &quot;y&quot;: 3.1335024836460437, &quot;z&quot;: 1.7058754058341732}, {&quot;x&quot;: 1.561285761631945, &quot;y&quot;: 3.1446828235335427, &quot;z&quot;: 1.7058754058341732}, {&quot;x&quot;: 1.580306891957848, &quot;y&quot;: 3.1446828235335427, &quot;z&quot;: 1.5707963267948966}, {&quot;x&quot;: 1.5707963267948966, &quot;y&quot;: 3.151592653589793, &quot;z&quot;: 1.5707963267948966}, {&quot;x&quot;: 1.5766741793178214, &quot;y&quot;: 3.1335024836460437, &quot;z&quot;: 1.5707963267948966}, {&quot;x&quot;: 1.5649184742719717, &quot;y&quot;: 3.1335024836460437, &quot;z&quot;: 1.5707963267948966}, {&quot;x&quot;: 1.561285761631945, &quot;y&quot;: 3.1446828235335427, &quot;z&quot;: 1.5707963267948966}, {&quot;x&quot;: 1.5707963267948966, &quot;y&quot;: 3.141592653589793, &quot;z&quot;: 1.5707963267948966}], &quot;faces&quot;: [[0, 1, 2], [0, 3, 1], [0, 4, 3], [0, 5, 4], [0, 2, 5], [2, 1, 6, 7], [1, 3, 8, 6], [3, 4, 9, 8], [4, 5, 10, 9], [5, 2, 7, 10], [7, 6, 11], [6, 8, 11], [8, 9, 11], [9, 10, 11], [10, 7, 11]], &quot;color&quot;: &quot;#8d3900&quot;, &quot;opacity&quot;: 1.0}, {&quot;vertices&quot;: [{&quot;x&quot;: 1.5707963267948966, &quot;y&quot;: 3.141592653589793, &quot;z&quot;: 1.7958754058341733}, {&quot;x&quot;: 1.5993280222837511, &quot;y&quot;: 3.1508631634210413, &quot;z&quot;: 1.7058754058341732}, {&quot;x&quot;: 1.5707963267948966, &quot;y&quot;: 3.171592653589793, &quot;z&quot;: 1.7058754058341732}, {&quot;x&quot;: 1.5884298843636708, &quot;y&quot;: 3.1173221437585448, &quot;z&quot;: 1.7058754058341732}, {&quot;x&quot;: 1.5531627692261223, &quot;y&quot;: 3.1173221437585448, &quot;z&quot;: 1.7058754058341732}, {&quot;x&quot;: 1.542264631306042, &quot;y&quot;: 3.1508631634210413, &quot;z&quot;: 1.7058754058341732}, {&quot;x&quot;: 1.5707963267948966, &quot;y&quot;: 3.141592653589793, &quot;z&quot;: 1.7058754058341732}], &quot;faces&quot;: [[0, 1, 2], [0, 3, 1], [0, 4, 3], [0, 5, 4], [0, 2, 5], [2, 1, 6], [1, 3, 6], [3, 4, 6], [4, 5, 6], [5, 2, 6]], &quot;color&quot;: &quot;#8d3900&quot;, &quot;opacity&quot;: 1.0}, {&quot;vertices&quot;: [{&quot;x&quot;: 1.3595072225920446, &quot;y&quot;: 3.564170861995497, &quot;z&quot;: 2.4907053116137146}, {&quot;x&quot;: 1.3685341215374136, &quot;y&quot;: 3.568228364374412, &quot;z&quot;: 2.4921377116539265}, {&quot;x&quot;: 1.362411928295577, &quot;y&quot;: 3.5683614505884322, &quot;z&quot;: 2.4821028903254594}, {&quot;x&quot;: 1.362181447249761, &quot;y&quot;: 3.5624879477821643, &quot;z&quot;: 2.5001930048123073}, {&quot;x&quot;: 1.3521330853786977, &quot;y&quot;: 3.559073261432592, &quot;z&quot;: 2.495136628445064}, {&quot;x&quot;: 1.3522755304987744, &quot;y&quot;: 3.5627032857998837, &quot;z&quot;: 2.483956322831815}, {&quot;x&quot;: 1.5798232257402653, &quot;y&quot;: 3.145650155968708, &quot;z&quot;: 2.357626890232557}, {&quot;x&quot;: 1.5737010324984289, &quot;y&quot;: 3.1457832421827288, &quot;z&quot;: 2.3475920689040897}, {&quot;x&quot;: 1.5734705514526128, &quot;y&quot;: 3.1399097393764603, &quot;z&quot;: 2.3656821833909376}, {&quot;x&quot;: 1.5634221895815494, &quot;y&quot;: 3.1364950530268882, &quot;z&quot;: 2.3606258070236943}, {&quot;x&quot;: 1.5635646347016263, &quot;y&quot;: 3.1401250773941802, &quot;z&quot;: 2.3494455014104454}, {&quot;x&quot;: 1.5707963267948966, &quot;y&quot;: 3.141592653589793, &quot;z&quot;: 2.356194490192345}], &quot;faces&quot;: [[0, 1, 2], [0, 3, 1], [0, 4, 3], [0, 5, 4], [0, 2, 5], [2, 1, 6, 7], [1, 3, 8, 6], [3, 4, 9, 8], [4, 5, 10, 9], [5, 2, 7, 10], [7, 6, 11], [6, 8, 11], [8, 9, 11], [9, 10, 11], [10, 7, 11]], &quot;color&quot;: &quot;#006b28&quot;, &quot;opacity&quot;: 1.0}, {&quot;vertices&quot;: [{&quot;x&quot;: 1.3207963267948963, &quot;y&quot;: 3.6415926535897936, &quot;z&quot;: 2.51534943328424}, {&quot;x&quot;: 1.386587919428151, &quot;y&quot;: 3.5763433691322417, &quot;z&quot;: 2.4950025117343504}, {&quot;x&quot;: 1.3682213397026413, &quot;y&quot;: 3.576742627774304, &quot;z&quot;: 2.464898047748949}, {&quot;x&quot;: 1.3675298965651936, &quot;y&quot;: 3.559122119355499, &quot;z&quot;: 2.519168391209493}, {&quot;x&quot;: 1.3373848109520032, &quot;y&quot;: 3.548878060306783, &quot;z&quot;: 2.5039992621077634}, {&quot;x&quot;: 1.3378121463122339, &quot;y&quot;: 3.559768133408658, &quot;z&quot;: 2.4704583452680167}, {&quot;x&quot;: 1.3595072225920446, &quot;y&quot;: 3.564170861995497, &quot;z&quot;: 2.4907053116137146}], &quot;faces&quot;: [[0, 1, 2], [0, 3, 1], [0, 4, 3], [0, 5, 4], [0, 2, 5], [2, 1, 6], [1, 3, 6], [3, 4, 6], [4, 5, 6], [5, 2, 6]], &quot;color&quot;: &quot;#006b28&quot;, &quot;opacity&quot;: 1.0}, {&quot;vertices&quot;: [{&quot;x&quot;: 1.257492159796619, &quot;y&quot;: 3.768200987586348, &quot;z&quot;: 3.141592653589793}, {&quot;x&quot;: 1.2663366799044802, &quot;y&quot;: 3.772623247640279, &quot;z&quot;: 3.143081975609053}, {&quot;x&quot;: 1.261492159796619, &quot;y&quot;: 3.7702009875863483, &quot;z&quot;: 3.132648381679794}, {&quot;x&quot;: 1.258958373837459, &quot;y&quot;: 3.768934094606768, &quot;z&quot;: 3.1514573771278886}, {&quot;x&quot;: 1.2495538098007795, &quot;y&quot;: 3.764231812588428, &quot;z&quot;: 3.1462000660066973}, {&quot;x&quot;: 1.2511197756437575, &quot;y&quot;: 3.7650147955099174, &quot;z&quot;: 3.134575467525533}, {&quot;x&quot;: 1.5796408469027576, &quot;y&quot;: 3.1460149136437234, &quot;z&quot;: 3.143081975609053}, {&quot;x&quot;: 1.5747963267948966, &quot;y&quot;: 3.143592653589793, &quot;z&quot;: 3.132648381679794}, {&quot;x&quot;: 1.5722625408357365, &quot;y&quot;: 3.142325760610213, &quot;z&quot;: 3.1514573771278886}, {&quot;x&quot;: 1.562857976799057, &quot;y&quot;: 3.1376234785918733, &quot;z&quot;: 3.1462000660066973}, {&quot;x&quot;: 1.5644239426420352, &quot;y&quot;: 3.1384064615133624, &quot;z&quot;: 3.134575467525533}, {&quot;x&quot;: 1.5707963267948966, &quot;y&quot;: 3.141592653589793, &quot;z&quot;: 3.141592653589793}], &quot;faces&quot;: [[0, 1, 2], [0, 3, 1], [0, 4, 3], [0, 5, 4], [0, 2, 5], [2, 1, 6, 7], [1, 3, 8, 6], [3, 4, 9, 8], [4, 5, 10, 9], [5, 2, 7, 10], [7, 6, 11], [6, 8, 11], [8, 9, 11], [9, 10, 11], [10, 7, 11]], &quot;color&quot;: &quot;#003595&quot;, &quot;opacity&quot;: 1.0}, {&quot;vertices&quot;: [{&quot;x&quot;: 1.2172429362016228, &quot;y&quot;: 3.8486994347763406, &quot;z&quot;: 3.141592653589793}, {&quot;x&quot;: 1.284025720120202, &quot;y&quot;: 3.7814677677481394, &quot;z&quot;: 3.146060619647573}, {&quot;x&quot;: 1.2694921597966191, &quot;y&quot;: 3.774200987586348, &quot;z&quot;: 3.1147598378597956}, {&quot;x&quot;: 1.261890801919139, &quot;y&quot;: 3.770400308647608, &quot;z&quot;: 3.1711868242040793}, {&quot;x&quot;: 1.2336771098091004, &quot;y&quot;: 3.7562934625925886, &quot;z&quot;: 3.1554148908405053}, {&quot;x&quot;: 1.2383750073380348, &quot;y&quot;: 3.758642411357056, &quot;z&quot;: 3.120541095397012}, {&quot;x&quot;: 1.257492159796619, &quot;y&quot;: 3.768200987586348, &quot;z&quot;: 3.141592653589793}], &quot;faces&quot;: [[0, 1, 2], [0, 3, 1], [0, 4, 3], [0, 5, 4], [0, 2, 5], [2, 1, 6], [1, 3, 6], [3, 4, 6], [4, 5, 6], [5, 2, 6]], &quot;color&quot;: &quot;#003595&quot;, &quot;opacity&quot;: 1.0}, {&quot;vertices&quot;: [{&quot;x&quot;: 2.7965245760822555, &quot;y&quot;: 0.0, &quot;z&quot;: 2.696244151266791e-17}, {&quot;x&quot;: 2.7965245760822555, &quot;y&quot;: 0.0030901699437494747, &quot;z&quot;: -0.009510565162951509}, {&quot;x&quot;: 2.7965245760822555, &quot;y&quot;: 0.01, &quot;z&quot;: 2.696244151266791e-17}, {&quot;x&quot;: 2.7965245760822555, &quot;y&quot;: -0.008090169943749474, &quot;z&quot;: -0.0058778525229247055}, {&quot;x&quot;: 2.7965245760822555, &quot;y&quot;: -0.008090169943749476, &quot;z&quot;: 0.0058778525229247576}, {&quot;x&quot;: 2.7965245760822555, &quot;y&quot;: 0.0030901699437494725, &quot;z&quot;: 0.009510565162951564}, {&quot;x&quot;: 2.356194490192345, &quot;y&quot;: 0.0030901699437494747, &quot;z&quot;: -0.009510565162951536}, {&quot;x&quot;: 2.356194490192345, &quot;y&quot;: 0.01, &quot;z&quot;: 0.0}, {&quot;x&quot;: 2.356194490192345, &quot;y&quot;: -0.008090169943749474, &quot;z&quot;: -0.005877852522924732}, {&quot;x&quot;: 2.356194490192345, &quot;y&quot;: -0.008090169943749476, &quot;z&quot;: 0.005877852522924731}, {&quot;x&quot;: 2.356194490192345, &quot;y&quot;: 0.0030901699437494725, &quot;z&quot;: 0.009510565162951536}, {&quot;x&quot;: 2.356194490192345, &quot;y&quot;: 0.0, &quot;z&quot;: 0.0}], &quot;faces&quot;: [[0, 1, 2], [0, 3, 1], [0, 4, 3], [0, 5, 4], [0, 2, 5], [2, 1, 6, 7], [1, 3, 8, 6], [3, 4, 9, 8], [4, 5, 10, 9], [5, 2, 7, 10], [7, 6, 11], [6, 8, 11], [8, 9, 11], [9, 10, 11], [10, 7, 11]], &quot;color&quot;: &quot;#00780f&quot;, &quot;opacity&quot;: 1.0}, {&quot;vertices&quot;: [{&quot;x&quot;: 2.8865245760822553, &quot;y&quot;: 0.0, &quot;z&quot;: 3.2473352108830995e-17}, {&quot;x&quot;: 2.7965245760822555, &quot;y&quot;: 0.009270509831248424, &quot;z&quot;: -0.028531695488854578}, {&quot;x&quot;: 2.7965245760822555, &quot;y&quot;: 0.03, &quot;z&quot;: 2.696244151266791e-17}, {&quot;x&quot;: 2.7965245760822555, &quot;y&quot;: -0.02427050983124842, &quot;z&quot;: -0.017633557568774168}, {&quot;x&quot;: 2.7965245760822555, &quot;y&quot;: -0.024270509831248427, &quot;z&quot;: 0.017633557568774216}, {&quot;x&quot;: 2.7965245760822555, &quot;y&quot;: 0.009270509831248417, &quot;z&quot;: 0.028531695488854637}, {&quot;x&quot;: 2.7965245760822555, &quot;y&quot;: 0.0, &quot;z&quot;: 2.696244151266791e-17}], &quot;faces&quot;: [[0, 1, 2], [0, 3, 1], [0, 4, 3], [0, 5, 4], [0, 2, 5], [2, 1, 6], [1, 3, 6], [3, 4, 6], [4, 5, 6], [5, 2, 6]], &quot;color&quot;: &quot;#00780f&quot;, &quot;opacity&quot;: 1.0}, {&quot;vertices&quot;: [{&quot;x&quot;: 2.648347216926175, &quot;y&quot;: 0.0, &quot;z&quot;: 0.9093916316573544}, {&quot;x&quot;: 2.652062833566343, &quot;y&quot;: 0.0030901699437494747, &quot;z&quot;: 0.9006369162021237}, {&quot;x&quot;: 2.648347216926175, &quot;y&quot;: 0.01, &quot;z&quot;: 0.9093916316573544}, {&quot;x&quot;: 2.6506435942989635, &quot;y&quot;: -0.008090169943749474, &quot;z&quot;: 0.9039809199441878}, {&quot;x&quot;: 2.6460508395533866, &quot;y&quot;: -0.008090169943749476, &quot;z&quot;: 0.914802343370521}, {&quot;x&quot;: 2.644631600286007, &quot;y&quot;: 0.0030901699437494725, &quot;z&quot;: 0.918146347112585}, {&quot;x&quot;: 2.359910106832513, &quot;y&quot;: 0.0030901699437494747, &quot;z&quot;: 0.7766434479422176}, {&quot;x&quot;: 2.356194490192345, &quot;y&quot;: 0.01, &quot;z&quot;: 0.7853981633974483}, {&quot;x&quot;: 2.3584908675651333, &quot;y&quot;: -0.008090169943749474, &quot;z&quot;: 0.7799874516842817}, {&quot;x&quot;: 2.3538981128195564, &quot;y&quot;: -0.008090169943749476, &quot;z&quot;: 0.7908088751106148}, {&quot;x&quot;: 2.352478873552177, &quot;y&quot;: 0.0030901699437494725, &quot;z&quot;: 0.7941528788526789}, {&quot;x&quot;: 2.356194490192345, &quot;y&quot;: 0.0, &quot;z&quot;: 0.7853981633974483}], &quot;faces&quot;: [[0, 1, 2], [0, 3, 1], [0, 4, 3], [0, 5, 4], [0, 2, 5], [2, 1, 6, 7], [1, 3, 8, 6], [3, 4, 9, 8], [4, 5, 10, 9], [5, 2, 7, 10], [7, 6, 11], [6, 8, 11], [8, 9, 11], [9, 10, 11], [10, 7, 11]], &quot;color&quot;: &quot;#2f6800&quot;, &quot;opacity&quot;: 1.0}, {&quot;vertices&quot;: [{&quot;x&quot;: 2.731194490192345, &quot;y&quot;: 0.0, &quot;z&quot;: 0.9445531064893435}, {&quot;x&quot;: 2.659494066846679, &quot;y&quot;: 0.009270509831248424, &quot;z&quot;: 0.8831274852916624}, {&quot;x&quot;: 2.648347216926175, &quot;y&quot;: 0.03, &quot;z&quot;: 0.9093916316573544}, {&quot;x&quot;: 2.6552363490445403, &quot;y&quot;: -0.02427050983124842, &quot;z&quot;: 0.8931594965178546}, {&quot;x&quot;: 2.6414580848078097, &quot;y&quot;: -0.024270509831248427, &quot;z&quot;: 0.925623766796854}, {&quot;x&quot;: 2.637200367005671, &quot;y&quot;: 0.009270509831248417, &quot;z&quot;: 0.9356557780230463}, {&quot;x&quot;: 2.648347216926175, &quot;y&quot;: 0.0, &quot;z&quot;: 0.9093916316573544}], &quot;faces&quot;: [[0, 1, 2], [0, 3, 1], [0, 4, 3], [0, 5, 4], [0, 2, 5], [2, 1, 6], [1, 3, 6], [3, 4, 6], [4, 5, 6], [5, 2, 6]], &quot;color&quot;: &quot;#2f6800&quot;, &quot;opacity&quot;: 1.0}, {&quot;vertices&quot;: [{&quot;x&quot;: 2.356194490192345, &quot;y&quot;: 0.0, &quot;z&quot;: 1.7058754058341732}, {&quot;x&quot;: 2.3657050553552965, &quot;y&quot;: 0.0030901699437494747, &quot;z&quot;: 1.7058754058341732}, {&quot;x&quot;: 2.356194490192345, &quot;y&quot;: 0.01, &quot;z&quot;: 1.7058754058341732}, {&quot;x&quot;: 2.3620723427152694, &quot;y&quot;: -0.008090169943749474, &quot;z&quot;: 1.7058754058341732}, {&quot;x&quot;: 2.3503166376694202, &quot;y&quot;: -0.008090169943749476, &quot;z&quot;: 1.7058754058341732}, {&quot;x&quot;: 2.346683925029393, &quot;y&quot;: 0.0030901699437494725, &quot;z&quot;: 1.7058754058341732}, {&quot;x&quot;: 2.3657050553552965, &quot;y&quot;: 0.0030901699437494747, &quot;z&quot;: 1.5707963267948966}, {&quot;x&quot;: 2.356194490192345, &quot;y&quot;: 0.01, &quot;z&quot;: 1.5707963267948966}, {&quot;x&quot;: 2.3620723427152694, &quot;y&quot;: -0.008090169943749474, &quot;z&quot;: 1.5707963267948966}, {&quot;x&quot;: 2.3503166376694202, &quot;y&quot;: -0.008090169943749476, &quot;z&quot;: 1.5707963267948966}, {&quot;x&quot;: 2.346683925029393, &quot;y&quot;: 0.0030901699437494725, &quot;z&quot;: 1.5707963267948966}, {&quot;x&quot;: 2.356194490192345, &quot;y&quot;: 0.0, &quot;z&quot;: 1.5707963267948966}], &quot;faces&quot;: [[0, 1, 2], [0, 3, 1], [0, 4, 3], [0, 5, 4], [0, 2, 5], [2, 1, 6, 7], [1, 3, 8, 6], [3, 4, 9, 8], [4, 5, 10, 9], [5, 2, 7, 10], [7, 6, 11], [6, 8, 11], [8, 9, 11], [9, 10, 11], [10, 7, 11]], &quot;color&quot;: &quot;#8d3900&quot;, &quot;opacity&quot;: 1.0}, {&quot;vertices&quot;: [{&quot;x&quot;: 2.356194490192345, &quot;y&quot;: 0.0, &quot;z&quot;: 1.7958754058341733}, {&quot;x&quot;: 2.3847261856811994, &quot;y&quot;: 0.009270509831248424, &quot;z&quot;: 1.7058754058341732}, {&quot;x&quot;: 2.356194490192345, &quot;y&quot;: 0.03, &quot;z&quot;: 1.7058754058341732}, {&quot;x&quot;: 2.373828047761119, &quot;y&quot;: -0.02427050983124842, &quot;z&quot;: 1.7058754058341732}, {&quot;x&quot;: 2.3385609326235706, &quot;y&quot;: -0.024270509831248427, &quot;z&quot;: 1.7058754058341732}, {&quot;x&quot;: 2.3276627947034902, &quot;y&quot;: 0.009270509831248417, &quot;z&quot;: 1.7058754058341732}, {&quot;x&quot;: 2.356194490192345, &quot;y&quot;: 0.0, &quot;z&quot;: 1.7058754058341732}], &quot;faces&quot;: [[0, 1, 2], [0, 3, 1], [0, 4, 3], [0, 5, 4], [0, 2, 5], [2, 1, 6], [1, 3, 6], [3, 4, 6], [4, 5, 6], [5, 2, 6]], &quot;color&quot;: &quot;#8d3900&quot;, &quot;opacity&quot;: 1.0}, {&quot;vertices&quot;: [{&quot;x&quot;: 2.0640417634585146, &quot;y&quot;: 0.0, &quot;z&quot;: 2.480187958452251}, {&quot;x&quot;: 2.0677573800986826, &quot;y&quot;: 0.0030901699437494747, &quot;z&quot;: 2.4889426739074816}, {&quot;x&quot;: 2.0640417634585146, &quot;y&quot;: 0.01, &quot;z&quot;: 2.480187958452251}, {&quot;x&quot;: 2.066338140831303, &quot;y&quot;: -0.008090169943749474, &quot;z&quot;: 2.4855986701654174}, {&quot;x&quot;: 2.061745386085726, &quot;y&quot;: -0.008090169943749476, &quot;z&quot;: 2.4747772467390843}, {&quot;x&quot;: 2.0603261468183467, &quot;y&quot;: 0.0030901699437494725, &quot;z&quot;: 2.4714332429970205}, {&quot;x&quot;: 2.359910106832513, &quot;y&quot;: 0.0030901699437494747, &quot;z&quot;: 2.3649492056475756}, {&quot;x&quot;: 2.356194490192345, &quot;y&quot;: 0.01, &quot;z&quot;: 2.356194490192345}, {&quot;x&quot;: 2.3584908675651333, &quot;y&quot;: -0.008090169943749474, &quot;z&quot;: 2.3616052019055114}, {&quot;x&quot;: 2.3538981128195564, &quot;y&quot;: -0.008090169943749476, &quot;z&quot;: 2.3507837784791783}, {&quot;x&quot;: 2.352478873552177, &quot;y&quot;: 0.0030901699437494725, &quot;z&quot;: 2.347439774737114}, {&quot;x&quot;: 2.356194490192345, &quot;y&quot;: 0.0, &quot;z&quot;: 2.356194490192345}], &quot;faces&quot;: [[0, 1, 2], [0, 3, 1], [0, 4, 3], [0, 5, 4], [0, 2, 5], [2, 1, 6, 7], [1, 3, 8, 6], [3, 4, 9, 8], [4, 5, 10, 9], [5, 2, 7, 10], [7, 6, 11], [6, 8, 11], [8, 9, 11], [9, 10, 11], [10, 7, 11]], &quot;color&quot;: &quot;#2f6800&quot;, &quot;opacity&quot;: 1.0}, {&quot;vertices&quot;: [{&quot;x&quot;: 1.981194490192345, &quot;y&quot;: 0.0, &quot;z&quot;: 2.51534943328424}, {&quot;x&quot;: 2.0751886133790185, &quot;y&quot;: 0.009270509831248424, &quot;z&quot;: 2.5064521048179427}, {&quot;x&quot;: 2.0640417634585146, &quot;y&quot;: 0.03, &quot;z&quot;: 2.480187958452251}, {&quot;x&quot;: 2.07093089557688, &quot;y&quot;: -0.02427050983124842, &quot;z&quot;: 2.4964200935917504}, {&quot;x&quot;: 2.0571526313401494, &quot;y&quot;: -0.024270509831248427, &quot;z&quot;: 2.463955823312751}, {&quot;x&quot;: 2.052894913538011, &quot;y&quot;: 0.009270509831248417, &quot;z&quot;: 2.453923812086559}, {&quot;x&quot;: 2.0640417634585146, &quot;y&quot;: 0.0, &quot;z&quot;: 2.480187958452251}], &quot;faces&quot;: [[0, 1, 2], [0, 3, 1], [0, 4, 3], [0, 5, 4], [0, 2, 5], [2, 1, 6], [1, 3, 6], [3, 4, 6], [4, 5, 6], [5, 2, 6]], &quot;color&quot;: &quot;#2f6800&quot;, &quot;opacity&quot;: 1.0}, {&quot;vertices&quot;: [{&quot;x&quot;: 1.9158644043024342, &quot;y&quot;: 0.0, &quot;z&quot;: 3.141592653589793}, {&quot;x&quot;: 1.9158644043024342, &quot;y&quot;: 0.0030901699437494747, &quot;z&quot;: 3.151103218752745}, {&quot;x&quot;: 1.9158644043024342, &quot;y&quot;: 0.01, &quot;z&quot;: 3.141592653589793}, {&quot;x&quot;: 1.9158644043024342, &quot;y&quot;: -0.008090169943749474, &quot;z&quot;: 3.1474705061127177}, {&quot;x&quot;: 1.9158644043024342, &quot;y&quot;: -0.008090169943749476, &quot;z&quot;: 3.1357148010668685}, {&quot;x&quot;: 1.9158644043024342, &quot;y&quot;: 0.0030901699437494725, &quot;z&quot;: 3.1320820884268414}, {&quot;x&quot;: 2.356194490192345, &quot;y&quot;: 0.0030901699437494747, &quot;z&quot;: 3.151103218752745}, {&quot;x&quot;: 2.356194490192345, &quot;y&quot;: 0.01, &quot;z&quot;: 3.141592653589793}, {&quot;x&quot;: 2.356194490192345, &quot;y&quot;: -0.008090169943749474, &quot;z&quot;: 3.1474705061127177}, {&quot;x&quot;: 2.356194490192345, &quot;y&quot;: -0.008090169943749476, &quot;z&quot;: 3.1357148010668685}, {&quot;x&quot;: 2.356194490192345, &quot;y&quot;: 0.0030901699437494725, &quot;z&quot;: 3.1320820884268414}, {&quot;x&quot;: 2.356194490192345, &quot;y&quot;: 0.0, &quot;z&quot;: 3.141592653589793}], &quot;faces&quot;: [[0, 1, 2], [0, 3, 1], [0, 4, 3], [0, 5, 4], [0, 2, 5], [2, 1, 6, 7], [1, 3, 8, 6], [3, 4, 9, 8], [4, 5, 10, 9], [5, 2, 7, 10], [7, 6, 11], [6, 8, 11], [8, 9, 11], [9, 10, 11], [10, 7, 11]], &quot;color&quot;: &quot;#00780f&quot;, &quot;opacity&quot;: 1.0}, {&quot;vertices&quot;: [{&quot;x&quot;: 1.8258644043024341, &quot;y&quot;: 0.0, &quot;z&quot;: 3.141592653589793}, {&quot;x&quot;: 1.9158644043024342, &quot;y&quot;: 0.009270509831248424, &quot;z&quot;: 3.1701243490786477}, {&quot;x&quot;: 1.9158644043024342, &quot;y&quot;: 0.03, &quot;z&quot;: 3.141592653589793}, {&quot;x&quot;: 1.9158644043024342, &quot;y&quot;: -0.02427050983124842, &quot;z&quot;: 3.1592262111585674}, {&quot;x&quot;: 1.9158644043024342, &quot;y&quot;: -0.024270509831248427, &quot;z&quot;: 3.123959096021019}, {&quot;x&quot;: 1.9158644043024342, &quot;y&quot;: 0.009270509831248417, &quot;z&quot;: 3.1130609581009385}, {&quot;x&quot;: 1.9158644043024342, &quot;y&quot;: 0.0, &quot;z&quot;: 3.141592653589793}], &quot;faces&quot;: [[0, 1, 2], [0, 3, 1], [0, 4, 3], [0, 5, 4], [0, 2, 5], [2, 1, 6], [1, 3, 6], [3, 4, 6], [4, 5, 6], [5, 2, 6]], &quot;color&quot;: &quot;#00780f&quot;, &quot;opacity&quot;: 1.0}, {&quot;vertices&quot;: [{&quot;x&quot;: 2.8011430792577094, &quot;y&quot;: 0.6370819670423269, &quot;z&quot;: 2.871900804534957e-17}, {&quot;x&quot;: 2.803021186757129, &quot;y&quot;: 0.6427162895405868, &quot;z&quot;: -0.008045316787188884}, {&quot;x&quot;: 2.804143079257709, &quot;y&quot;: 0.6460819670423268, &quot;z&quot;: 0.003162277660168408}, {&quot;x&quot;: 2.799303813526877, &quot;y&quot;: 0.6315641698498298, &quot;z&quot;: -0.008134556884911203}, {&quot;x&quot;: 2.798128243022292, &quot;y&quot;: 0.6280374583360748, &quot;z&quot;: 0.0030178841488943315}, {&quot;x&quot;: 2.801119073724539, &quot;y&quot;: 0.6370099504428159, &quot;z&quot;: 0.00999971186303749}, {&quot;x&quot;: 2.358072597691765, &quot;y&quot;: 0.7910324858957083, &quot;z&quot;: -0.008045316787188913}, {&quot;x&quot;: 2.359194490192345, &quot;y&quot;: 0.7943981633974483, &quot;z&quot;: 0.0031622776601683794}, {&quot;x&quot;: 2.3543552244615125, &quot;y&quot;: 0.7798803662049512, &quot;z&quot;: -0.008134556884911232}, {&quot;x&quot;: 2.3531796539569276, &quot;y&quot;: 0.7763536546911963, &quot;z&quot;: 0.003017884148894303}, {&quot;x&quot;: 2.3561704846591747, &quot;y&quot;: 0.7853261467979373, &quot;z&quot;: 0.00999971186303746}, {&quot;x&quot;: 2.356194490192345, &quot;y&quot;: 0.7853981633974483, &quot;z&quot;: 0.0}], &quot;faces&quot;: [[0, 1, 2], [0, 3, 1], [0, 4, 3], [0, 5, 4], [0, 2, 5], [2, 1, 6, 7], [1, 3, 8, 6], [3, 4, 9, 8], [4, 5, 10, 9], [5, 2, 7, 10], [7, 6, 11], [6, 8, 11], [8, 9, 11], [9, 10, 11], [10, 7, 11]], &quot;color&quot;: &quot;#00701f&quot;, &quot;opacity&quot;: 1.0}, {&quot;vertices&quot;: [{&quot;x&quot;: 2.8865245760822558, &quot;y&quot;: 0.6086214681008115, &quot;z&quot;: 3.422991864151266e-17}, {&quot;x&quot;: 2.8067774017559692, &quot;y&quot;: 0.6539849345371068, &quot;z&quot;: -0.024135950361566707}, {&quot;x&quot;: 2.8101430792577093, &quot;y&quot;: 0.6640819670423269, &quot;z&quot;: 0.009486832980505167}, {&quot;x&quot;: 2.7956252820652123, &quot;y&quot;: 0.6205285754648355, &quot;z&quot;: -0.024403670654733665}, {&quot;x&quot;: 2.7920985705514574, &quot;y&quot;: 0.609948440923571, &quot;z&quot;: 0.009053652446682934}, {&quot;x&quot;: 2.8010710626581985, &quot;y&quot;: 0.636865917243794, &quot;z&quot;: 0.029999135589112408}, {&quot;x&quot;: 2.8011430792577094, &quot;y&quot;: 0.6370819670423269, &quot;z&quot;: 2.871900804534957e-17}], &quot;faces&quot;: [[0, 1, 2], [0, 3, 1], [0, 4, 3], [0, 5, 4], [0, 2, 5], [2, 1, 6], [1, 3, 6], [3, 4, 6], [4, 5, 6], [5, 2, 6]], &quot;color&quot;: &quot;#00701f&quot;, &quot;opacity&quot;: 1.0}, {&quot;vertices&quot;: [{&quot;x&quot;: 2.6519918940374274, &quot;y&quot;: 0.6867990287824207, &quot;z&quot;: 0.9109384806659669}, {&quot;x&quot;: 2.656720692742096, &quot;y&quot;: 0.6914831208789312, &quot;z&quot;: 0.9034753885425818}, {&quot;x&quot;: 2.6538714065099818, &quot;y&quot;: 0.6961725246249026, &quot;z&quot;: 0.913871910153186}, {&quot;x&quot;: 2.653034939890315, &quot;y&quot;: 0.6803204610620169, &quot;z&quot;: 0.9033926065853242}, {&quot;x&quot;: 2.647907733121668, &quot;y&quot;: 0.6781109616362828, &quot;z&quot;: 0.9137379661326879}, {&quot;x&quot;: 2.6484246979230766, &quot;y&quot;: 0.6879080757099699, &quot;z&quot;: 0.9202145319160546}, {&quot;x&quot;: 2.3609232888970135, &quot;y&quot;: 0.7900822554939587, &quot;z&quot;: 0.7779350712740631}, {&quot;x&quot;: 2.3580740026648987, &quot;y&quot;: 0.7947716592399302, &quot;z&quot;: 0.7883315928846675}, {&quot;x&quot;: 2.3572375360452322, &quot;y&quot;: 0.7789195956770445, &quot;z&quot;: 0.7778522893168055}, {&quot;x&quot;: 2.3521103292765853, &quot;y&quot;: 0.7767100962513104, &quot;z&quot;: 0.7881976488641693}, {&quot;x&quot;: 2.352627294077994, &quot;y&quot;: 0.7865072103249975, &quot;z&quot;: 0.794674214647536}, {&quot;x&quot;: 2.356194490192345, &quot;y&quot;: 0.7853981633974483, &quot;z&quot;: 0.7853981633974483}], &quot;faces&quot;: [[0, 1, 2], [0, 3, 1], [0, 4, 3], [0, 5, 4], [0, 2, 5], [2, 1, 6, 7], [1, 3, 8, 6], [3, 4, 9, 8], [4, 5, 10, 9], [5, 2, 7, 10], [7, 6, 11], [6, 8, 11], [8, 9, 11], [9, 10, 11], [10, 7, 11]], &quot;color&quot;: &quot;#256d00&quot;, &quot;opacity&quot;: 1.0}, {&quot;vertices&quot;: [{&quot;x&quot;: 2.731194490192345, &quot;y&quot;: 0.6603981633974483, &quot;z&quot;: 0.9445531064893437}, {&quot;x&quot;: 2.6661782901514335, &quot;y&quot;: 0.700851305071952, &quot;z&quot;: 0.8885492042958116}, {&quot;x&quot;: 2.6576304314550896, &quot;y&quot;: 0.7149195163098666, &quot;z&quot;: 0.9197387691276244}, {&quot;x&quot;: 2.65512103159609, &quot;y&quot;: 0.6673633256212095, &quot;z&quot;: 0.8883008584240386}, {&quot;x&quot;: 2.639739411290149, &quot;y&quot;: 0.660734827344007, &quot;z&quot;: 0.91933693706613}, {&quot;x&quot;: 2.641290305694375, &quot;y&quot;: 0.6901261695650684, &quot;z&quot;: 0.9387666344162301}, {&quot;x&quot;: 2.6519918940374274, &quot;y&quot;: 0.6867990287824207, &quot;z&quot;: 0.9109384806659669}], &quot;faces&quot;: [[0, 1, 2], [0, 3, 1], [0, 4, 3], [0, 5, 4], [0, 2, 5], [2, 1, 6], [1, 3, 6], [3, 4, 6], [4, 5, 6], [5, 2, 6]], &quot;color&quot;: &quot;#256d00&quot;, &quot;opacity&quot;: 1.0}, {&quot;vertices&quot;: [{&quot;x&quot;: 2.356194490192345, &quot;y&quot;: 0.7853981633974483, &quot;z&quot;: 1.7058754058341732}, {&quot;x&quot;: 2.3657050553552965, &quot;y&quot;: 0.7884883333411977, &quot;z&quot;: 1.7058754058341732}, {&quot;x&quot;: 2.356194490192345, &quot;y&quot;: 0.7953981633974483, &quot;z&quot;: 1.7058754058341732}, {&quot;x&quot;: 2.3620723427152694, &quot;y&quot;: 0.7773079934536988, &quot;z&quot;: 1.7058754058341732}, {&quot;x&quot;: 2.3503166376694202, &quot;y&quot;: 0.7773079934536988, &quot;z&quot;: 1.7058754058341732}, {&quot;x&quot;: 2.346683925029393, &quot;y&quot;: 0.7884883333411977, &quot;z&quot;: 1.7058754058341732}, {&quot;x&quot;: 2.3657050553552965, &quot;y&quot;: 0.7884883333411977, &quot;z&quot;: 1.5707963267948966}, {&quot;x&quot;: 2.356194490192345, &quot;y&quot;: 0.7953981633974483, &quot;z&quot;: 1.5707963267948966}, {&quot;x&quot;: 2.3620723427152694, &quot;y&quot;: 0.7773079934536988, &quot;z&quot;: 1.5707963267948966}, {&quot;x&quot;: 2.3503166376694202, &quot;y&quot;: 0.7773079934536988, &quot;z&quot;: 1.5707963267948966}, {&quot;x&quot;: 2.346683925029393, &quot;y&quot;: 0.7884883333411977, &quot;z&quot;: 1.5707963267948966}, {&quot;x&quot;: 2.356194490192345, &quot;y&quot;: 0.7853981633974483, &quot;z&quot;: 1.5707963267948966}], &quot;faces&quot;: [[0, 1, 2], [0, 3, 1], [0, 4, 3], [0, 5, 4], [0, 2, 5], [2, 1, 6, 7], [1, 3, 8, 6], [3, 4, 9, 8], [4, 5, 10, 9], [5, 2, 7, 10], [7, 6, 11], [6, 8, 11], [8, 9, 11], [9, 10, 11], [10, 7, 11]], &quot;color&quot;: &quot;#8d3900&quot;, &quot;opacity&quot;: 1.0}, {&quot;vertices&quot;: [{&quot;x&quot;: 2.356194490192345, &quot;y&quot;: 0.7853981633974483, &quot;z&quot;: 1.7958754058341733}, {&quot;x&quot;: 2.3847261856811994, &quot;y&quot;: 0.7946686732286967, &quot;z&quot;: 1.7058754058341732}, {&quot;x&quot;: 2.356194490192345, &quot;y&quot;: 0.8153981633974483, &quot;z&quot;: 1.7058754058341732}, {&quot;x&quot;: 2.373828047761119, &quot;y&quot;: 0.7611276535661998, &quot;z&quot;: 1.7058754058341732}, {&quot;x&quot;: 2.3385609326235706, &quot;y&quot;: 0.7611276535661998, &quot;z&quot;: 1.7058754058341732}, {&quot;x&quot;: 2.3276627947034902, &quot;y&quot;: 0.7946686732286967, &quot;z&quot;: 1.7058754058341732}, {&quot;x&quot;: 2.356194490192345, &quot;y&quot;: 0.7853981633974483, &quot;z&quot;: 1.7058754058341732}], &quot;faces&quot;: [[0, 1, 2], [0, 3, 1], [0, 4, 3], [0, 5, 4], [0, 2, 5], [2, 1, 6], [1, 3, 6], [3, 4, 6], [4, 5, 6], [5, 2, 6]], &quot;color&quot;: &quot;#8d3900&quot;, &quot;opacity&quot;: 1.0}, {&quot;vertices&quot;: [{&quot;x&quot;: 2.0603970863472623, &quot;y&quot;: 0.8839972980124757, &quot;z&quot;: 2.4817348074608634}, {&quot;x&quot;: 2.065125885051931, &quot;y&quot;: 0.8886813901089862, &quot;z&quot;: 2.4891978995842488}, {&quot;x&quot;: 2.0622765988198166, &quot;y&quot;: 0.8933707938549578, &quot;z&quot;: 2.478801377973644}, {&quot;x&quot;: 2.06144013220015, &quot;y&quot;: 0.8775187302920721, &quot;z&quot;: 2.4892806815415063}, {&quot;x&quot;: 2.056312925431503, &quot;y&quot;: 0.8753092308663379, &quot;z&quot;: 2.4789353219941423}, {&quot;x&quot;: 2.0568298902329114, &quot;y&quot;: 0.885106344940025, &quot;z&quot;: 2.472458756210776}, {&quot;x&quot;: 2.3609232888970135, &quot;y&quot;: 0.7900822554939587, &quot;z&quot;: 2.3636575823157298}, {&quot;x&quot;: 2.3580740026648987, &quot;y&quot;: 0.7947716592399302, &quot;z&quot;: 2.3532610607051256}, {&quot;x&quot;: 2.3572375360452322, &quot;y&quot;: 0.7789195956770445, &quot;z&quot;: 2.3637403642729877}, {&quot;x&quot;: 2.3521103292765853, &quot;y&quot;: 0.7767100962513104, &quot;z&quot;: 2.353395004725624}, {&quot;x&quot;: 2.352627294077994, &quot;y&quot;: 0.7865072103249975, &quot;z&quot;: 2.3469184389422573}, {&quot;x&quot;: 2.356194490192345, &quot;y&quot;: 0.7853981633974483, &quot;z&quot;: 2.356194490192345}], &quot;faces&quot;: [[0, 1, 2], [0, 3, 1], [0, 4, 3], [0, 5, 4], [0, 2, 5], [2, 1, 6, 7], [1, 3, 8, 6], [3, 4, 9, 8], [4, 5, 10, 9], [5, 2, 7, 10], [7, 6, 11], [6, 8, 11], [8, 9, 11], [9, 10, 11], [10, 7, 11]], &quot;color&quot;: &quot;#256d00&quot;, &quot;opacity&quot;: 1.0}, {&quot;vertices&quot;: [{&quot;x&quot;: 1.9811944901923448, &quot;y&quot;: 0.9103981633974482, &quot;z&quot;: 2.51534943328424}, {&quot;x&quot;: 2.0745834824612683, &quot;y&quot;: 0.898049574302007, &quot;z&quot;: 2.5041240838310186}, {&quot;x&quot;: 2.0660356237649244, &quot;y&quot;: 0.9121177855399216, &quot;z&quot;: 2.472934518999206}, {&quot;x&quot;: 2.063526223905925, &quot;y&quot;: 0.8645615948512645, &quot;z&quot;: 2.5043724297027916}, {&quot;x&quot;: 2.048144603599984, &quot;y&quot;: 0.857933096574062, &quot;z&quot;: 2.4733363510607003}, {&quot;x&quot;: 2.0496954980042097, &quot;y&quot;: 0.8873244387951235, &quot;z&quot;: 2.4539066537106002}, {&quot;x&quot;: 2.0603970863472623, &quot;y&quot;: 0.8839972980124757, &quot;z&quot;: 2.4817348074608634}], &quot;faces&quot;: [[0, 1, 2], [0, 3, 1], [0, 4, 3], [0, 5, 4], [0, 2, 5], [2, 1, 6], [1, 3, 6], [3, 4, 6], [4, 5, 6], [5, 2, 6]], &quot;color&quot;: &quot;#256d00&quot;, &quot;opacity&quot;: 1.0}, {&quot;vertices&quot;: [{&quot;x&quot;: 1.9112459011269805, &quot;y&quot;: 0.9337143597525697, &quot;z&quot;: 3.141592653589793}, {&quot;x&quot;: 1.9131240086264005, &quot;y&quot;: 0.9393486822508297, &quot;z&quot;: 3.149637970376982}, {&quot;x&quot;: 1.9142459011269803, &quot;y&quot;: 0.9427143597525698, &quot;z&quot;: 3.138430375929625}, {&quot;x&quot;: 1.909406635396148, &quot;y&quot;: 0.9281965625600725, &quot;z&quot;: 3.1497272104747043}, {&quot;x&quot;: 1.908231064891563, &quot;y&quot;: 0.9246698510463178, &quot;z&quot;: 3.1385747694408987}, {&quot;x&quot;: 1.91122189559381, &quot;y&quot;: 0.9336423431530587, &quot;z&quot;: 3.1315929417267556}, {&quot;x&quot;: 2.358072597691765, &quot;y&quot;: 0.7910324858957083, &quot;z&quot;: 3.149637970376982}, {&quot;x&quot;: 2.359194490192345, &quot;y&quot;: 0.7943981633974483, &quot;z&quot;: 3.138430375929625}, {&quot;x&quot;: 2.3543552244615125, &quot;y&quot;: 0.7798803662049512, &quot;z&quot;: 3.1497272104747043}, {&quot;x&quot;: 2.3531796539569276, &quot;y&quot;: 0.7763536546911963, &quot;z&quot;: 3.1385747694408987}, {&quot;x&quot;: 2.3561704846591747, &quot;y&quot;: 0.7853261467979373, &quot;z&quot;: 3.1315929417267556}, {&quot;x&quot;: 2.356194490192345, &quot;y&quot;: 0.7853981633974483, &quot;z&quot;: 3.141592653589793}], &quot;faces&quot;: [[0, 1, 2], [0, 3, 1], [0, 4, 3], [0, 5, 4], [0, 2, 5], [2, 1, 6, 7], [1, 3, 8, 6], [3, 4, 9, 8], [4, 5, 10, 9], [5, 2, 7, 10], [7, 6, 11], [6, 8, 11], [8, 9, 11], [9, 10, 11], [10, 7, 11]], &quot;color&quot;: &quot;#00701f&quot;, &quot;opacity&quot;: 1.0}, {&quot;vertices&quot;: [{&quot;x&quot;: 1.8258644043024341, &quot;y&quot;: 0.962174858694085, &quot;z&quot;: 3.141592653589793}, {&quot;x&quot;: 1.9168802236252405, &quot;y&quot;: 0.9506173272473496, &quot;z&quot;: 3.1657286039513597}, {&quot;x&quot;: 1.9202459011269803, &quot;y&quot;: 0.9607143597525697, &quot;z&quot;: 3.1321058206092878}, {&quot;x&quot;: 1.9057281039344833, &quot;y&quot;: 0.9171609681750783, &quot;z&quot;: 3.1659963242445266}, {&quot;x&quot;: 1.9022013924207286, &quot;y&quot;: 0.9065808336338138, &quot;z&quot;: 3.13253900114311}, {&quot;x&quot;: 1.9111738845274695, &quot;y&quot;: 0.9334983099540368, &quot;z&quot;: 3.1115935180006806}, {&quot;x&quot;: 1.9112459011269805, &quot;y&quot;: 0.9337143597525697, &quot;z&quot;: 3.141592653589793}], &quot;faces&quot;: [[0, 1, 2], [0, 3, 1], [0, 4, 3], [0, 5, 4], [0, 2, 5], [2, 1, 6], [1, 3, 6], [3, 4, 6], [4, 5, 6], [5, 2, 6]], &quot;color&quot;: &quot;#00701f&quot;, &quot;opacity&quot;: 1.0}, {&quot;vertices&quot;: [{&quot;x&quot;: 2.8116400495918494, &quot;y&quot;: 1.2671659538618933, &quot;z&quot;: 3.351720144203252e-17}, {&quot;x&quot;: 2.8159926096160266, &quot;y&quot;: 1.273694793898159, &quot;z&quot;: -0.006199150668985894}, {&quot;x&quot;: 2.816255434207234, &quot;y&quot;: 1.2740890307849704, &quot;z&quot;: 0.005547001962252326}, {&quot;x&quot;: 2.8097146950094802, &quot;y&quot;: 1.2642779219883398, &quot;z&quot;: -0.009378287777067212}, {&quot;x&quot;: 2.806097554995373, &quot;y&quot;: 1.2588522119671786, &quot;z&quot;: 0.0004030500664807072}, {&quot;x&quot;: 2.8101399541311336, &quot;y&quot;: 1.2649158106708192, &quot;z&quot;: 0.009627386417320237}, {&quot;x&quot;: 2.360547050216522, &quot;y&quot;: 1.5773251668311623, &quot;z&quot;: -0.006199150668985928}, {&quot;x&quot;: 2.3608098748077295, &quot;y&quot;: 1.5777194037179736, &quot;z&quot;: 0.005547001962252292}, {&quot;x&quot;: 2.3542691356099756, &quot;y&quot;: 1.567908294921343, &quot;z&quot;: -0.009378287777067245}, {&quot;x&quot;: 2.3506519955958685, &quot;y&quot;: 1.5624825849001818, &quot;z&quot;: 0.0004030500664806737}, {&quot;x&quot;: 2.3546943947316286, &quot;y&quot;: 1.5685461836038224, &quot;z&quot;: 0.009627386417320204}, {&quot;x&quot;: 2.356194490192345, &quot;y&quot;: 1.5707963267948966, &quot;z&quot;: 0.0}], &quot;faces&quot;: [[0, 1, 2], [0, 3, 1], [0, 4, 3], [0, 5, 4], [0, 2, 5], [2, 1, 6, 7], [1, 3, 8, 6], [3, 4, 9, 8], [4, 5, 10, 9], [5, 2, 7, 10], [7, 6, 11], [6, 8, 11], [8, 9, 11], [9, 10, 11], [10, 7, 11]], &quot;color&quot;: &quot;#005c47&quot;, &quot;opacity&quot;: 1.0}, {&quot;vertices&quot;: [{&quot;x&quot;: 2.8865245760822553, &quot;y&quot;: 1.2172429362016228, &quot;z&quot;: 3.902811203819561e-17}, {&quot;x&quot;: 2.824697729664381, &quot;y&quot;: 1.2867524739706906, &quot;z&quot;: -0.018597452006957747}, {&quot;x&quot;: 2.8254862034380035, &quot;y&quot;: 1.2879351846311242, &quot;z&quot;: 0.016641005886756908}, {&quot;x&quot;: 2.8058639858447423, &quot;y&quot;: 1.2585018582412326, &quot;z&quot;: -0.028134863331201698}, {&quot;x&quot;: 2.79501256580242, &quot;y&quot;: 1.2422247281777488, &quot;z&quot;: 0.0012091501994420512}, {&quot;x&quot;: 2.807139763209701, &quot;y&quot;: 1.260415524288671, &quot;z&quot;: 0.02888215925196065}, {&quot;x&quot;: 2.8116400495918494, &quot;y&quot;: 1.2671659538618933, &quot;z&quot;: 3.351720144203252e-17}], &quot;faces&quot;: [[0, 1, 2], [0, 3, 1], [0, 4, 3], [0, 5, 4], [0, 2, 5], [2, 1, 6], [1, 3, 6], [3, 4, 6], [4, 5, 6], [5, 2, 6]], &quot;color&quot;: &quot;#005c47&quot;, &quot;opacity&quot;: 1.0}, {&quot;vertices&quot;: [{&quot;x&quot;: 2.6605833601091606, &quot;y&quot;: 1.3678704135170192, &quot;z&quot;: 0.9145848121158942}, {&quot;x&quot;: 2.6666534380930997, &quot;y&quot;: 1.3732542415801106, &quot;z&quot;: 0.9087394251606984}, {&quot;x&quot;: 2.6636619091156506, &quot;y&quot;: 1.3758180475126927, &quot;z&quot;: 0.91981526619613}, {&quot;x&quot;: 2.6612563256111077, &quot;y&quot;: 1.3632501682539218, &quot;z&quot;: 0.9057417102199521}, {&quot;x&quot;: 2.654929197678681, &quot;y&quot;: 1.359631116844973, &quot;z&quot;: 0.9149648615334189}, {&quot;x&quot;: 2.656415930047265, &quot;y&quot;: 1.3673984933933985, &quot;z&quot;: 0.923662797469271}, {&quot;x&quot;: 2.362264568176284, &quot;y&quot;: 1.576180154857988, &quot;z&quot;: 0.7795527764422526}, {&quot;x&quot;: 2.359273039198835, &quot;y&quot;: 1.57874396079057, &quot;z&quot;: 0.7906286174776841}, {&quot;x&quot;: 2.356867455694292, &quot;y&quot;: 1.5661760815317989, &quot;z&quot;: 0.7765550615015062}, {&quot;x&quot;: 2.3505403277618653, &quot;y&quot;: 1.5625570301228504, &quot;z&quot;: 0.7857782128149732}, {&quot;x&quot;: 2.3520270601304487, &quot;y&quot;: 1.5703244066712756, &quot;z&quot;: 0.7944761487508253}, {&quot;x&quot;: 2.356194490192345, &quot;y&quot;: 1.5707963267948966, &quot;z&quot;: 0.7853981633974483}], &quot;faces&quot;: [[0, 1, 2], [0, 3, 1], [0, 4, 3], [0, 5, 4], [0, 2, 5], [2, 1, 6, 7], [1, 3, 8, 6], [3, 4, 9, 8], [4, 5, 10, 9], [5, 2, 7, 10], [7, 6, 11], [6, 8, 11], [8, 9, 11], [9, 10, 11], [10, 7, 11]], &quot;color&quot;: &quot;#0b7a00&quot;, &quot;opacity&quot;: 1.0}, {&quot;vertices&quot;: [{&quot;x&quot;: 2.731194490192345, &quot;y&quot;: 1.3207963267948966, &quot;z&quot;: 0.9445531064893437}, {&quot;x&quot;: 2.6787935940609775, &quot;y&quot;: 1.384021897706293, &quot;z&quot;: 0.8970486512503072}, {&quot;x&quot;: 2.66981900712863, &quot;y&quot;: 1.3917133155040398, &quot;z&quot;: 0.9302761743566017}, {&quot;x&quot;: 2.6626022566150014, &quot;y&quot;: 1.3540096777277264, &quot;z&quot;: 0.8880555064280681}, {&quot;x&quot;: 2.643620872817722, &quot;y&quot;: 1.3431525235008805, &quot;z&quot;: 0.9157249603684687}, {&quot;x&quot;: 2.6480810699234727, &quot;y&quot;: 1.3664546531461566, &quot;z&quot;: 0.9418187681760252}, {&quot;x&quot;: 2.6605833601091606, &quot;y&quot;: 1.3678704135170192, &quot;z&quot;: 0.9145848121158942}], &quot;faces&quot;: [[0, 1, 2], [0, 3, 1], [0, 4, 3], [0, 5, 4], [0, 2, 5], [2, 1, 6], [1, 3, 6], [3, 4, 6], [4, 5, 6], [5, 2, 6]], &quot;color&quot;: &quot;#0b7a00&quot;, &quot;opacity&quot;: 1.0}, {&quot;vertices&quot;: [{&quot;x&quot;: 2.356194490192345, &quot;y&quot;: 1.5707963267948966, &quot;z&quot;: 1.7058754058341732}, {&quot;x&quot;: 2.3657050553552965, &quot;y&quot;: 1.5738864967386461, &quot;z&quot;: 1.7058754058341732}, {&quot;x&quot;: 2.356194490192345, &quot;y&quot;: 1.5807963267948966, &quot;z&quot;: 1.7058754058341732}, {&quot;x&quot;: 2.3620723427152694, &quot;y&quot;: 1.562706156851147, &quot;z&quot;: 1.7058754058341732}, {&quot;x&quot;: 2.3503166376694202, &quot;y&quot;: 1.562706156851147, &quot;z&quot;: 1.7058754058341732}, {&quot;x&quot;: 2.346683925029393, &quot;y&quot;: 1.5738864967386461, &quot;z&quot;: 1.7058754058341732}, {&quot;x&quot;: 2.3657050553552965, &quot;y&quot;: 1.5738864967386461, &quot;z&quot;: 1.5707963267948966}, {&quot;x&quot;: 2.356194490192345, &quot;y&quot;: 1.5807963267948966, &quot;z&quot;: 1.5707963267948966}, {&quot;x&quot;: 2.3620723427152694, &quot;y&quot;: 1.562706156851147, &quot;z&quot;: 1.5707963267948966}, {&quot;x&quot;: 2.3503166376694202, &quot;y&quot;: 1.562706156851147, &quot;z&quot;: 1.5707963267948966}, {&quot;x&quot;: 2.346683925029393, &quot;y&quot;: 1.5738864967386461, &quot;z&quot;: 1.5707963267948966}, {&quot;x&quot;: 2.356194490192345, &quot;y&quot;: 1.5707963267948966, &quot;z&quot;: 1.5707963267948966}], &quot;faces&quot;: [[0, 1, 2], [0, 3, 1], [0, 4, 3], [0, 5, 4], [0, 2, 5], [2, 1, 6, 7], [1, 3, 8, 6], [3, 4, 9, 8], [4, 5, 10, 9], [5, 2, 7, 10], [7, 6, 11], [6, 8, 11], [8, 9, 11], [9, 10, 11], [10, 7, 11]], &quot;color&quot;: &quot;#8d3900&quot;, &quot;opacity&quot;: 1.0}, {&quot;vertices&quot;: [{&quot;x&quot;: 2.356194490192345, &quot;y&quot;: 1.5707963267948966, &quot;z&quot;: 1.7958754058341733}, {&quot;x&quot;: 2.3847261856811994, &quot;y&quot;: 1.580066836626145, &quot;z&quot;: 1.7058754058341732}, {&quot;x&quot;: 2.356194490192345, &quot;y&quot;: 1.6007963267948966, &quot;z&quot;: 1.7058754058341732}, {&quot;x&quot;: 2.373828047761119, &quot;y&quot;: 1.5465258169636482, &quot;z&quot;: 1.7058754058341732}, {&quot;x&quot;: 2.3385609326235706, &quot;y&quot;: 1.5465258169636482, &quot;z&quot;: 1.7058754058341732}, {&quot;x&quot;: 2.3276627947034902, &quot;y&quot;: 1.580066836626145, &quot;z&quot;: 1.7058754058341732}, {&quot;x&quot;: 2.356194490192345, &quot;y&quot;: 1.5707963267948966, &quot;z&quot;: 1.7058754058341732}], &quot;faces&quot;: [[0, 1, 2], [0, 3, 1], [0, 4, 3], [0, 5, 4], [0, 2, 5], [2, 1, 6], [1, 3, 6], [3, 4, 6], [4, 5, 6], [5, 2, 6]], &quot;color&quot;: &quot;#8d3900&quot;, &quot;opacity&quot;: 1.0}, {&quot;vertices&quot;: [{&quot;x&quot;: 2.051805620275529, &quot;y&quot;: 1.773722240072774, &quot;z&quot;: 2.4853811389107907}, {&quot;x&quot;: 2.0578756982594677, &quot;y&quot;: 1.779106068135865, &quot;z&quot;: 2.4912265258659865}, {&quot;x&quot;: 2.0548841692820186, &quot;y&quot;: 1.7816698740684473, &quot;z&quot;: 2.480150684830555}, {&quot;x&quot;: 2.0524785857774757, &quot;y&quot;: 1.7691019948096762, &quot;z&quot;: 2.4942242408067328}, {&quot;x&quot;: 2.0461514578450495, &quot;y&quot;: 1.7654829434007275, &quot;z&quot;: 2.4850010894932657}, {&quot;x&quot;: 2.047638190213633, &quot;y&quot;: 1.773250319949153, &quot;z&quot;: 2.4763031535574136}, {&quot;x&quot;: 2.362264568176284, &quot;y&quot;: 1.576180154857988, &quot;z&quot;: 2.3620398771475406}, {&quot;x&quot;: 2.359273039198835, &quot;y&quot;: 1.57874396079057, &quot;z&quot;: 2.350964036112109}, {&quot;x&quot;: 2.356867455694292, &quot;y&quot;: 1.5661760815317989, &quot;z&quot;: 2.365037592088287}, {&quot;x&quot;: 2.3505403277618653, &quot;y&quot;: 1.5625570301228504, &quot;z&quot;: 2.35581444077482}, {&quot;x&quot;: 2.3520270601304487, &quot;y&quot;: 1.5703244066712756, &quot;z&quot;: 2.3471165048389677}, {&quot;x&quot;: 2.356194490192345, &quot;y&quot;: 1.5707963267948966, &quot;z&quot;: 2.356194490192345}], &quot;faces&quot;: [[0, 1, 2], [0, 3, 1], [0, 4, 3], [0, 5, 4], [0, 2, 5], [2, 1, 6, 7], [1, 3, 8, 6], [3, 4, 9, 8], [4, 5, 10, 9], [5, 2, 7, 10], [7, 6, 11], [6, 8, 11], [8, 9, 11], [9, 10, 11], [10, 7, 11]], &quot;color&quot;: &quot;#0b7a00&quot;, &quot;opacity&quot;: 1.0}, {&quot;vertices&quot;: [{&quot;x&quot;: 1.981194490192345, &quot;y&quot;: 1.8207963267948966, &quot;z&quot;: 2.51534943328424}, {&quot;x&quot;: 2.070015854227346, &quot;y&quot;: 1.7898737242620477, &quot;z&quot;: 2.5029172997763776}, {&quot;x&quot;: 2.0610412672949985, &quot;y&quot;: 1.7975651420597945, &quot;z&quot;: 2.469689776670083}, {&quot;x&quot;: 2.05382451678137, &quot;y&quot;: 1.759861504283481, &quot;z&quot;: 2.511910444598617}, {&quot;x&quot;: 2.0348431329840904, &quot;y&quot;: 1.7490043500566352, &quot;z&quot;: 2.484240990658216}, {&quot;x&quot;: 2.039303330089841, &quot;y&quot;: 1.7723064797019112, &quot;z&quot;: 2.45814718285066}, {&quot;x&quot;: 2.051805620275529, &quot;y&quot;: 1.773722240072774, &quot;z&quot;: 2.4853811389107907}], &quot;faces&quot;: [[0, 1, 2], [0, 3, 1], [0, 4, 3], [0, 5, 4], [0, 2, 5], [2, 1, 6], [1, 3, 6], [3, 4, 6], [4, 5, 6], [5, 2, 6]], &quot;color&quot;: &quot;#0b7a00&quot;, &quot;opacity&quot;: 1.0}, {&quot;vertices&quot;: [{&quot;x&quot;: 1.9007489307928402, &quot;y&quot;: 1.8744266997278998, &quot;z&quot;: 3.141592653589793}, {&quot;x&quot;: 1.9051014908170174, &quot;y&quot;: 1.8809555397641655, &quot;z&quot;: 3.147791804258779}, {&quot;x&quot;: 1.905364315408225, &quot;y&quot;: 1.8813497766509766, &quot;z&quot;: 3.136045651627541}, {&quot;x&quot;: 1.898823576210471, &quot;y&quot;: 1.8715386678543462, &quot;z&quot;: 3.1509709413668605}, {&quot;x&quot;: 1.8952064361963636, &quot;y&quot;: 1.8661129578331848, &quot;z&quot;: 3.1411896035233124}, {&quot;x&quot;: 1.899248835332124, &quot;y&quot;: 1.8721765565368256, &quot;z&quot;: 3.131965267172473}, {&quot;x&quot;: 2.360547050216522, &quot;y&quot;: 1.5773251668311623, &quot;z&quot;: 3.147791804258779}, {&quot;x&quot;: 2.3608098748077295, &quot;y&quot;: 1.5777194037179736, &quot;z&quot;: 3.136045651627541}, {&quot;x&quot;: 2.3542691356099756, &quot;y&quot;: 1.567908294921343, &quot;z&quot;: 3.1509709413668605}, {&quot;x&quot;: 2.3506519955958685, &quot;y&quot;: 1.5624825849001818, &quot;z&quot;: 3.1411896035233124}, {&quot;x&quot;: 2.3546943947316286, &quot;y&quot;: 1.5685461836038224, &quot;z&quot;: 3.1319652671724727}, {&quot;x&quot;: 2.356194490192345, &quot;y&quot;: 1.5707963267948966, &quot;z&quot;: 3.141592653589793}], &quot;faces&quot;: [[0, 1, 2], [0, 3, 1], [0, 4, 3], [0, 5, 4], [0, 2, 5], [2, 1, 6, 7], [1, 3, 8, 6], [3, 4, 9, 8], [4, 5, 10, 9], [5, 2, 7, 10], [7, 6, 11], [6, 8, 11], [8, 9, 11], [9, 10, 11], [10, 7, 11]], &quot;color&quot;: &quot;#005c47&quot;, &quot;opacity&quot;: 1.0}, {&quot;vertices&quot;: [{&quot;x&quot;: 1.8258644043024344, &quot;y&quot;: 1.9243497173881703, &quot;z&quot;: 3.141592653589793}, {&quot;x&quot;: 1.9138066108653717, &quot;y&quot;: 1.894013219836697, &quot;z&quot;: 3.160190105596751}, {&quot;x&quot;: 1.914595084638994, &quot;y&quot;: 1.8951959304971306, &quot;z&quot;: 3.1249516477030364}, {&quot;x&quot;: 1.894972867045733, &quot;y&quot;: 1.865762604107239, &quot;z&quot;: 3.169727516920995}, {&quot;x&quot;: 1.8841214470034104, &quot;y&quot;: 1.8494854740437552, &quot;z&quot;: 3.140383503390351}, {&quot;x&quot;: 1.8962486444106919, &quot;y&quot;: 1.8676762701546774, &quot;z&quot;: 3.1127104943378323}, {&quot;x&quot;: 1.9007489307928402, &quot;y&quot;: 1.8744266997278998, &quot;z&quot;: 3.141592653589793}], &quot;faces&quot;: [[0, 1, 2], [0, 3, 1], [0, 4, 3], [0, 5, 4], [0, 2, 5], [2, 1, 6], [1, 3, 6], [3, 4, 6], [4, 5, 6], [5, 2, 6]], &quot;color&quot;: &quot;#005c47&quot;, &quot;opacity&quot;: 1.0}, {&quot;vertices&quot;: [{&quot;x&quot;: 2.822884965775466, &quot;y&quot;: 1.8895040146092235, &quot;z&quot;: 4.041334437186265e-17}, {&quot;x&quot;: 2.829185333328817, &quot;y&quot;: 1.895804382162574, &quot;z&quot;: -0.004539904997395428}, {&quot;x&quot;: 2.8278849657754663, &quot;y&quot;: 1.8945040146092236, &quot;z&quot;: 0.007071067811865517}, {&quot;x&quot;: 2.821778807065054, &quot;y&quot;: 1.8883978558988113, &quot;z&quot;: -0.00987688340595134}, {&quot;x&quot;: 2.815900954542129, &quot;y&quot;: 1.8825200033758864, &quot;z&quot;: -0.0015643446504022694}, {&quot;x&quot;: 2.819674768165865, &quot;y&quot;: 1.8862938169996224, &quot;z&quot;: 0.008910065241883718}, {&quot;x&quot;: 2.3624948577456952, &quot;y&quot;: 2.3624948577456952, &quot;z&quot;: -0.004539904997395469}, {&quot;x&quot;: 2.3611944901923447, &quot;y&quot;: 2.3611944901923447, &quot;z&quot;: 0.007071067811865476}, {&quot;x&quot;: 2.3550883314819324, &quot;y&quot;: 2.3550883314819324, &quot;z&quot;: -0.00987688340595138}, {&quot;x&quot;: 2.349210478959008, &quot;y&quot;: 2.349210478959008, &quot;z&quot;: -0.0015643446504023098}, {&quot;x&quot;: 2.352984292582744, &quot;y&quot;: 2.352984292582744, &quot;z&quot;: 0.008910065241883678}, {&quot;x&quot;: 2.356194490192345, &quot;y&quot;: 2.356194490192345, &quot;z&quot;: 0.0}], &quot;faces&quot;: [[0, 1, 2], [0, 3, 1], [0, 4, 3], [0, 5, 4], [0, 2, 5], [2, 1, 6, 7], [1, 3, 8, 6], [3, 4, 9, 8], [4, 5, 10, 9], [5, 2, 7, 10], [7, 6, 11], [6, 8, 11], [8, 9, 11], [9, 10, 11], [10, 7, 11]], &quot;color&quot;: &quot;#00407f&quot;, &quot;opacity&quot;: 1.0}, {&quot;vertices&quot;: [{&quot;x&quot;: 2.8865245760822553, &quot;y&quot;: 1.8258644043024341, &quot;z&quot;: 4.592425496802574e-17}, {&quot;x&quot;: 2.8417860684355176, &quot;y&quot;: 1.9084051172692749, &quot;z&quot;: -0.01361971499218636}, {&quot;x&quot;: 2.837884965775466, &quot;y&quot;: 1.9045040146092234, &quot;z&quot;: 0.02121320343559647}, {&quot;x&quot;: 2.8195664896442287, &quot;y&quot;: 1.8861855384779864, &quot;z&quot;: -0.02963065021785409}, {&quot;x&quot;: 2.801932932075455, &quot;y&quot;: 1.8685519809092122, &quot;z&quot;: -0.004693033951206891}, {&quot;x&quot;: 2.813254372946663, &quot;y&quot;: 1.8798734217804203, &quot;z&quot;: 0.026730195725651076}, {&quot;x&quot;: 2.822884965775466, &quot;y&quot;: 1.8895040146092235, &quot;z&quot;: 4.041334437186265e-17}], &quot;faces&quot;: [[0, 1, 2], [0, 3, 1], [0, 4, 3], [0, 5, 4], [0, 2, 5], [2, 1, 6], [1, 3, 6], [3, 4, 6], [4, 5, 6], [5, 2, 6]], &quot;color&quot;: &quot;#00407f&quot;, &quot;opacity&quot;: 1.0}, {&quot;vertices&quot;: [{&quot;x&quot;: 2.6702405678169647, &quot;y&quot;: 2.042148412567725, &quot;z&quot;: 0.9186834583643264}, {&quot;x&quot;: 2.6774636762877835, &quot;y&quot;: 2.0475260392036074, &quot;z&quot;: 0.9143351442330985}, {&quot;x&quot;: 2.6738033651433524, &quot;y&quot;: 2.048585615241337, &quot;z&quot;: 0.9254561164060353}, {&quot;x&quot;: 2.67114189702997, &quot;y&quot;: 2.039034765933895, &quot;z&quot;: 0.9092233943957572}, {&quot;x&quot;: 2.6635745114348364, &quot;y&quot;: 2.0348464464831792, &quot;z&quot;: 0.9171851314272302}, {&quot;x&quot;: 2.6652193891888807, &quot;y&quot;: 2.040749195976607, &quot;z&quot;: 0.9272175053595106}, {&quot;x&quot;: 2.3634175986631636, &quot;y&quot;: 2.361572116828227, &quot;z&quot;: 0.7810498492662205}, {&quot;x&quot;: 2.359757287518733, &quot;y&quot;: 2.362631692865957, &quot;z&quot;: 0.7921708214391572}, {&quot;x&quot;: 2.3570958194053504, &quot;y&quot;: 2.353080843558515, &quot;z&quot;: 0.775938099428879}, {&quot;x&quot;: 2.3495284338102165, &quot;y&quot;: 2.348892524107799, &quot;z&quot;: 0.7838998364603521}, {&quot;x&quot;: 2.351173311564261, &quot;y&quot;: 2.3547952736012268, &quot;z&quot;: 0.7939322103926325}, {&quot;x&quot;: 2.356194490192345, &quot;y&quot;: 2.356194490192345, &quot;z&quot;: 0.7853981633974483}], &quot;faces&quot;: [[0, 1, 2], [0, 3, 1], [0, 4, 3], [0, 5, 4], [0, 2, 5], [2, 1, 6, 7], [1, 3, 8, 6], [3, 4, 9, 8], [4, 5, 10, 9], [5, 2, 7, 10], [7, 6, 11], [6, 8, 11], [8, 9, 11], [9, 10, 11], [10, 7, 11]], &quot;color&quot;: &quot;#00721b&quot;, &quot;opacity&quot;: 1.0}, {&quot;vertices&quot;: [{&quot;x&quot;: 2.7311944901923453, &quot;y&quot;: 1.9811944901923446, &quot;z&quot;: 0.9445531064893437}, {&quot;x&quot;: 2.6919098932294214, &quot;y&quot;: 2.0582812924753715, &quot;z&quot;: 0.9056385159706429}, {&quot;x&quot;: 2.6809289597961286, &quot;y&quot;: 2.0614600205885614, &quot;z&quot;: 0.9390014324894532}, {&quot;x&quot;: 2.672944555455981, &quot;y&quot;: 2.0328074726662346, &quot;z&quot;: 0.8903032664586188}, {&quot;x&quot;: 2.6502423986705796, &quot;y&quot;: 2.0202425143140874, &quot;z&quot;: 0.914188477553038}, {&quot;x&quot;: 2.655177031932713, &quot;y&quot;: 2.0379507627943703, &quot;z&quot;: 0.9442855993498792}, {&quot;x&quot;: 2.6702405678169647, &quot;y&quot;: 2.042148412567725, &quot;z&quot;: 0.9186834583643264}], &quot;faces&quot;: [[0, 1, 2], [0, 3, 1], [0, 4, 3], [0, 5, 4], [0, 2, 5], [2, 1, 6], [1, 3, 6], [3, 4, 6], [4, 5, 6], [5, 2, 6]], &quot;color&quot;: &quot;#00721b&quot;, &quot;opacity&quot;: 1.0}, {&quot;vertices&quot;: [{&quot;x&quot;: 2.356194490192345, &quot;y&quot;: 2.356194490192345, &quot;z&quot;: 1.7058754058341732}, {&quot;x&quot;: 2.3657050553552965, &quot;y&quot;: 2.3592846601360944, &quot;z&quot;: 1.7058754058341732}, {&quot;x&quot;: 2.356194490192345, &quot;y&quot;: 2.3661944901923446, &quot;z&quot;: 1.7058754058341732}, {&quot;x&quot;: 2.3620723427152694, &quot;y&quot;: 2.3481043202485954, &quot;z&quot;: 1.7058754058341732}, {&quot;x&quot;: 2.3503166376694202, &quot;y&quot;: 2.3481043202485954, &quot;z&quot;: 1.7058754058341732}, {&quot;x&quot;: 2.346683925029393, &quot;y&quot;: 2.3592846601360944, &quot;z&quot;: 1.7058754058341732}, {&quot;x&quot;: 2.3657050553552965, &quot;y&quot;: 2.3592846601360944, &quot;z&quot;: 1.5707963267948966}, {&quot;x&quot;: 2.356194490192345, &quot;y&quot;: 2.3661944901923446, &quot;z&quot;: 1.5707963267948966}, {&quot;x&quot;: 2.3620723427152694, &quot;y&quot;: 2.3481043202485954, &quot;z&quot;: 1.5707963267948966}, {&quot;x&quot;: 2.3503166376694202, &quot;y&quot;: 2.3481043202485954, &quot;z&quot;: 1.5707963267948966}, {&quot;x&quot;: 2.346683925029393, &quot;y&quot;: 2.3592846601360944, &quot;z&quot;: 1.5707963267948966}, {&quot;x&quot;: 2.356194490192345, &quot;y&quot;: 2.356194490192345, &quot;z&quot;: 1.5707963267948966}], &quot;faces&quot;: [[0, 1, 2], [0, 3, 1], [0, 4, 3], [0, 5, 4], [0, 2, 5], [2, 1, 6, 7], [1, 3, 8, 6], [3, 4, 9, 8], [4, 5, 10, 9], [5, 2, 7, 10], [7, 6, 11], [6, 8, 11], [8, 9, 11], [9, 10, 11], [10, 7, 11]], &quot;color&quot;: &quot;#8d3900&quot;, &quot;opacity&quot;: 1.0}, {&quot;vertices&quot;: [{&quot;x&quot;: 2.356194490192345, &quot;y&quot;: 2.356194490192345, &quot;z&quot;: 1.7958754058341733}, {&quot;x&quot;: 2.3847261856811994, &quot;y&quot;: 2.365465000023593, &quot;z&quot;: 1.7058754058341732}, {&quot;x&quot;: 2.356194490192345, &quot;y&quot;: 2.3861944901923446, &quot;z&quot;: 1.7058754058341732}, {&quot;x&quot;: 2.373828047761119, &quot;y&quot;: 2.3319239803610965, &quot;z&quot;: 1.7058754058341732}, {&quot;x&quot;: 2.3385609326235706, &quot;y&quot;: 2.3319239803610965, &quot;z&quot;: 1.7058754058341732}, {&quot;x&quot;: 2.3276627947034902, &quot;y&quot;: 2.365465000023593, &quot;z&quot;: 1.7058754058341732}, {&quot;x&quot;: 2.356194490192345, &quot;y&quot;: 2.356194490192345, &quot;z&quot;: 1.7058754058341732}], &quot;faces&quot;: [[0, 1, 2], [0, 3, 1], [0, 4, 3], [0, 5, 4], [0, 2, 5], [2, 1, 6], [1, 3, 6], [3, 4, 6], [4, 5, 6], [5, 2, 6]], &quot;color&quot;: &quot;#8d3900&quot;, &quot;opacity&quot;: 1.0}, {&quot;vertices&quot;: [{&quot;x&quot;: 2.0421484125677254, &quot;y&quot;: 2.6702405678169643, &quot;z&quot;: 2.4894797851592227}, {&quot;x&quot;: 2.049371521038544, &quot;y&quot;: 2.6756181944528468, &quot;z&quot;: 2.4938280992904507}, {&quot;x&quot;: 2.045711209894113, &quot;y&quot;: 2.6766777704905764, &quot;z&quot;: 2.482707127117514}, {&quot;x&quot;: 2.0430497417807305, &quot;y&quot;: 2.6671269211831343, &quot;z&quot;: 2.498939849127792}, {&quot;x&quot;: 2.035482356185597, &quot;y&quot;: 2.6629386017324186, &quot;z&quot;: 2.490978112096319}, {&quot;x&quot;: 2.0371272339396413, &quot;y&quot;: 2.668841351225846, &quot;z&quot;: 2.4809457381640385}, {&quot;x&quot;: 2.3634175986631636, &quot;y&quot;: 2.361572116828227, &quot;z&quot;: 2.3605428043235728}, {&quot;x&quot;: 2.359757287518733, &quot;y&quot;: 2.362631692865957, &quot;z&quot;: 2.349421832150636}, {&quot;x&quot;: 2.3570958194053504, &quot;y&quot;: 2.353080843558515, &quot;z&quot;: 2.365654554160914}, {&quot;x&quot;: 2.3495284338102165, &quot;y&quot;: 2.348892524107799, &quot;z&quot;: 2.357692817129441}, {&quot;x&quot;: 2.351173311564261, &quot;y&quot;: 2.3547952736012268, &quot;z&quot;: 2.3476604431971606}, {&quot;x&quot;: 2.356194490192345, &quot;y&quot;: 2.356194490192345, &quot;z&quot;: 2.356194490192345}], &quot;faces&quot;: [[0, 1, 2], [0, 3, 1], [0, 4, 3], [0, 5, 4], [0, 2, 5], [2, 1, 6, 7], [1, 3, 8, 6], [3, 4, 9, 8], [4, 5, 10, 9], [5, 2, 7, 10], [7, 6, 11], [6, 8, 11], [8, 9, 11], [9, 10, 11], [10, 7, 11]], &quot;color&quot;: &quot;#00721b&quot;, &quot;opacity&quot;: 1.0}, {&quot;vertices&quot;: [{&quot;x&quot;: 1.981194490192345, &quot;y&quot;: 2.731194490192345, &quot;z&quot;: 2.51534943328424}, {&quot;x&quot;: 2.063817737980182, &quot;y&quot;: 2.686373447724611, &quot;z&quot;: 2.502524727552906}, {&quot;x&quot;: 2.052836804546889, &quot;y&quot;: 2.6895521758378003, &quot;z&quot;: 2.469161811034096}, {&quot;x&quot;: 2.0448524002067416, &quot;y&quot;: 2.660899627915474, &quot;z&quot;: 2.5178599770649304}, {&quot;x&quot;: 2.0221502434213403, &quot;y&quot;: 2.6483346695633267, &quot;z&quot;: 2.493974765970511}, {&quot;x&quot;: 2.0270848766834737, &quot;y&quot;: 2.6660429180436096, &quot;z&quot;: 2.46387764417367}, {&quot;x&quot;: 2.0421484125677254, &quot;y&quot;: 2.6702405678169643, &quot;z&quot;: 2.4894797851592227}], &quot;faces&quot;: [[0, 1, 2], [0, 3, 1], [0, 4, 3], [0, 5, 4], [0, 2, 5], [2, 1, 6], [1, 3, 6], [3, 4, 6], [4, 5, 6], [5, 2, 6]], &quot;color&quot;: &quot;#00721b&quot;, &quot;opacity&quot;: 1.0}, {&quot;vertices&quot;: [{&quot;x&quot;: 1.8895040146092235, &quot;y&quot;: 2.822884965775466, &quot;z&quot;: 3.141592653589793}, {&quot;x&quot;: 1.895804382162574, &quot;y&quot;: 2.829185333328817, &quot;z&quot;: 3.1461325585871887}, {&quot;x&quot;: 1.8945040146092236, &quot;y&quot;: 2.8278849657754663, &quot;z&quot;: 3.134521585777928}, {&quot;x&quot;: 1.8883978558988113, &quot;y&quot;: 2.821778807065054, &quot;z&quot;: 3.1514695369957444}, {&quot;x&quot;: 1.8825200033758864, &quot;y&quot;: 2.815900954542129, &quot;z&quot;: 3.1431569982401957}, {&quot;x&quot;: 1.8862938169996224, &quot;y&quot;: 2.819674768165865, &quot;z&quot;: 3.1326825883479095}, {&quot;x&quot;: 2.3624948577456952, &quot;y&quot;: 2.3624948577456952, &quot;z&quot;: 3.1461325585871887}, {&quot;x&quot;: 2.3611944901923447, &quot;y&quot;: 2.3611944901923447, &quot;z&quot;: 3.134521585777928}, {&quot;x&quot;: 2.3550883314819324, &quot;y&quot;: 2.3550883314819324, &quot;z&quot;: 3.1514695369957444}, {&quot;x&quot;: 2.349210478959008, &quot;y&quot;: 2.349210478959008, &quot;z&quot;: 3.1431569982401952}, {&quot;x&quot;: 2.352984292582744, &quot;y&quot;: 2.352984292582744, &quot;z&quot;: 3.1326825883479095}, {&quot;x&quot;: 2.356194490192345, &quot;y&quot;: 2.356194490192345, &quot;z&quot;: 3.141592653589793}], &quot;faces&quot;: [[0, 1, 2], [0, 3, 1], [0, 4, 3], [0, 5, 4], [0, 2, 5], [2, 1, 6, 7], [1, 3, 8, 6], [3, 4, 9, 8], [4, 5, 10, 9], [5, 2, 7, 10], [7, 6, 11], [6, 8, 11], [8, 9, 11], [9, 10, 11], [10, 7, 11]], &quot;color&quot;: &quot;#00407f&quot;, &quot;opacity&quot;: 1.0}, {&quot;vertices&quot;: [{&quot;x&quot;: 1.8258644043024341, &quot;y&quot;: 2.8865245760822553, &quot;z&quot;: 3.141592653589793}, {&quot;x&quot;: 1.9084051172692749, &quot;y&quot;: 2.8417860684355176, &quot;z&quot;: 3.1552123685819797}, {&quot;x&quot;: 1.9045040146092234, &quot;y&quot;: 2.837884965775466, &quot;z&quot;: 3.120379450154197}, {&quot;x&quot;: 1.8861855384779864, &quot;y&quot;: 2.8195664896442287, &quot;z&quot;: 3.1712233038076474}, {&quot;x&quot;: 1.8685519809092122, &quot;y&quot;: 2.8019329320754545, &quot;z&quot;: 3.146285687541}, {&quot;x&quot;: 1.8798734217804203, &quot;y&quot;: 2.813254372946663, &quot;z&quot;: 3.114862457864142}, {&quot;x&quot;: 1.8895040146092235, &quot;y&quot;: 2.822884965775466, &quot;z&quot;: 3.141592653589793}], &quot;faces&quot;: [[0, 1, 2], [0, 3, 1], [0, 4, 3], [0, 5, 4], [0, 2, 5], [2, 1, 6], [1, 3, 6], [3, 4, 6], [4, 5, 6], [5, 2, 6]], &quot;color&quot;: &quot;#00407f&quot;, &quot;opacity&quot;: 1.0}, {&quot;vertices&quot;: [{&quot;x&quot;: 2.8325245760822555, &quot;y&quot;: 2.5064858724032457, &quot;z&quot;: 4.861134291855524e-17}, {&quot;x&quot;: 2.840094619359544, &quot;y&quot;: 2.5121634048612123, &quot;z&quot;: -0.0032342031427712937}, {&quot;x&quot;: 2.8373245760822554, &quot;y&quot;: 2.5100858724032458, &quot;z&quot;: 0.008000000000000049}, {&quot;x&quot;: 2.8324031201239275, &quot;y&quot;: 2.5063947804344995, &quot;z&quot;: -0.00999884746875437}, {&quot;x&quot;: 2.8248794688945837, &quot;y&quot;: 2.500752042012492, &quot;z&quot;: -0.002945424441244694}, {&quot;x&quot;: 2.827921095950966, &quot;y&quot;: 2.5030332623047786, &quot;z&quot;: 0.00817847505277055}, {&quot;x&quot;: 2.3637645334696336, &quot;y&quot;: 3.1472701860477597, &quot;z&quot;: -0.0032342031427713422}, {&quot;x&quot;: 2.3609944901923448, &quot;y&quot;: 3.145192653589793, &quot;z&quot;: 0.008}, {&quot;x&quot;: 2.356073034234017, &quot;y&quot;: 3.1415015616210473, &quot;z&quot;: -0.009998847468754419}, {&quot;x&quot;: 2.348549383004673, &quot;y&quot;: 3.1358588231990394, &quot;z&quot;: -0.0029454244412447424}, {&quot;x&quot;: 2.3515910100610555, &quot;y&quot;: 3.138140043491326, &quot;z&quot;: 0.0081784750527705}, {&quot;x&quot;: 2.356194490192345, &quot;y&quot;: 3.141592653589793, &quot;z&quot;: 0.0}], &quot;faces&quot;: [[0, 1, 2], [0, 3, 1], [0, 4, 3], [0, 5, 4], [0, 2, 5], [2, 1, 6, 7], [1, 3, 8, 6], [3, 4, 9, 8], [4, 5, 10, 9], [5, 2, 7, 10], [7, 6, 11], [6, 8, 11], [8, 9, 11], [9, 10, 11], [10, 7, 11]], &quot;color&quot;: &quot;#001dc5&quot;, &quot;opacity&quot;: 1.0}, {&quot;vertices&quot;: [{&quot;x&quot;: 2.8865245760822553, &quot;y&quot;: 2.4344858724032457, &quot;z&quot;: 5.412225351471833e-17}, {&quot;x&quot;: 2.8552347059141217, &quot;y&quot;: 2.5235184697771453, &quot;z&quot;: -0.009702609428313975}, {&quot;x&quot;: 2.8469245760822557, &quot;y&quot;: 2.517285872403246, &quot;z&quot;: 0.02400000000000005}, {&quot;x&quot;: 2.832160208207272, &quot;y&quot;: 2.506212596497008, &quot;z&quot;: -0.029996542406263205}, {&quot;x&quot;: 2.8095892545192407, &quot;y&quot;: 2.4892843812309846, &quot;z&quot;: -0.008836273323734182}, {&quot;x&quot;: 2.8187141356883876, &quot;y&quot;: 2.496128042107845, &quot;z&quot;: 0.024535425158311544}, {&quot;x&quot;: 2.8325245760822555, &quot;y&quot;: 2.5064858724032457, &quot;z&quot;: 4.861134291855524e-17}], &quot;faces&quot;: [[0, 1, 2], [0, 3, 1], [0, 4, 3], [0, 5, 4], [0, 2, 5], [2, 1, 6], [1, 3, 6], [3, 4, 6], [4, 5, 6], [5, 2, 6]], &quot;color&quot;: &quot;#001dc5&quot;, &quot;opacity&quot;: 1.0}, {&quot;vertices&quot;: [{&quot;x&quot;: 2.6788645247270577, &quot;y&quot;: 2.7113659408768425, &quot;z&quot;: 0.922343579354334}, {&quot;x&quot;: 2.68691343548741, &quot;y&quot;: 2.7164049833573913, &quot;z&quot;: 0.9192093990067609}, {&quot;x&quot;: 2.682480016613191, &quot;y&quot;: 2.7165452850286655, &quot;z&quot;: 0.9300961668306729}, {&quot;x&quot;: 2.6802235332632374, &quot;y&quot;: 2.7093008962487533, &quot;z&quot;: 0.9126539618963231}, {&quot;x&quot;: 2.671655527433066, &quot;y&quot;: 2.7050506306278495, &quot;z&quot;: 0.919489246774872}, {&quot;x&quot;: 2.673050110838385, &quot;y&quot;: 2.7095279091215536, &quot;z&quot;: 0.9302691222630413}, {&quot;x&quot;: 2.364243400952697, &quot;y&quot;: 3.146631696070342, &quot;z&quot;: 0.7822639830498752}, {&quot;x&quot;: 2.3598099820784775, &quot;y&quot;: 3.146771997741616, &quot;z&quot;: 0.7931507508737871}, {&quot;x&quot;: 2.3575534987285245, &quot;y&quot;: 3.139527608961704, &quot;z&quot;: 0.7757085459394373}, {&quot;x&quot;: 2.3489854928983527, &quot;y&quot;: 3.1352773433408, &quot;z&quot;: 0.7825438308179863}, {&quot;x&quot;: 2.350380076303672, &quot;y&quot;: 3.139754621834504, &quot;z&quot;: 0.7933237063061556}, {&quot;x&quot;: 2.356194490192345, &quot;y&quot;: 3.141592653589793, &quot;z&quot;: 0.7853981633974483}], &quot;faces&quot;: [[0, 1, 2], [0, 3, 1], [0, 4, 3], [0, 5, 4], [0, 2, 5], [2, 1, 6, 7], [1, 3, 8, 6], [3, 4, 9, 8], [4, 5, 10, 9], [5, 2, 7, 10], [7, 6, 11], [6, 8, 11], [8, 9, 11], [9, 10, 11], [10, 7, 11]], &quot;color&quot;: &quot;#005a4b&quot;, &quot;opacity&quot;: 1.0}, {&quot;vertices&quot;: [{&quot;x&quot;: 2.731194490192345, &quot;y&quot;: 2.641592653589793, &quot;z&quot;: 0.9445531064893437}, {&quot;x&quot;: 2.7030112570081144, &quot;y&quot;: 2.7264830683184886, &quot;z&quot;: 0.9129410383116147}, {&quot;x&quot;: 2.689711000385456, &quot;y&quot;: 2.7269039733323113, &quot;z&quot;: 0.9456013417833504}, {&quot;x&quot;: 2.6829415503355962, &quot;y&quot;: 2.705170806992575, &quot;z&quot;: 0.8932747269803011}, {&quot;x&quot;: 2.6572375328450817, &quot;y&quot;: 2.692420010129863, &quot;z&quot;: 0.9137805816159479}, {&quot;x&quot;: 2.6614212830610398, &quot;y&quot;: 2.705851845610975, &quot;z&quot;: 0.9461202080804557}, {&quot;x&quot;: 2.6788645247270577, &quot;y&quot;: 2.7113659408768425, &quot;z&quot;: 0.922343579354334}], &quot;faces&quot;: [[0, 1, 2], [0, 3, 1], [0, 4, 3], [0, 5, 4], [0, 2, 5], [2, 1, 6], [1, 3, 6], [3, 4, 6], [4, 5, 6], [5, 2, 6]], &quot;color&quot;: &quot;#005a4b&quot;, &quot;opacity&quot;: 1.0}, {&quot;vertices&quot;: [{&quot;x&quot;: 2.356194490192345, &quot;y&quot;: 3.141592653589793, &quot;z&quot;: 1.7058754058341732}, {&quot;x&quot;: 2.3657050553552965, &quot;y&quot;: 3.1446828235335427, &quot;z&quot;: 1.7058754058341732}, {&quot;x&quot;: 2.356194490192345, &quot;y&quot;: 3.151592653589793, &quot;z&quot;: 1.7058754058341732}, {&quot;x&quot;: 2.3620723427152694, &quot;y&quot;: 3.1335024836460437, &quot;z&quot;: 1.7058754058341732}, {&quot;x&quot;: 2.3503166376694202, &quot;y&quot;: 3.1335024836460437, &quot;z&quot;: 1.7058754058341732}, {&quot;x&quot;: 2.346683925029393, &quot;y&quot;: 3.1446828235335427, &quot;z&quot;: 1.7058754058341732}, {&quot;x&quot;: 2.3657050553552965, &quot;y&quot;: 3.1446828235335427, &quot;z&quot;: 1.5707963267948966}, {&quot;x&quot;: 2.356194490192345, &quot;y&quot;: 3.151592653589793, &quot;z&quot;: 1.5707963267948966}, {&quot;x&quot;: 2.3620723427152694, &quot;y&quot;: 3.1335024836460437, &quot;z&quot;: 1.5707963267948966}, {&quot;x&quot;: 2.3503166376694202, &quot;y&quot;: 3.1335024836460437, &quot;z&quot;: 1.5707963267948966}, {&quot;x&quot;: 2.346683925029393, &quot;y&quot;: 3.1446828235335427, &quot;z&quot;: 1.5707963267948966}, {&quot;x&quot;: 2.356194490192345, &quot;y&quot;: 3.141592653589793, &quot;z&quot;: 1.5707963267948966}], &quot;faces&quot;: [[0, 1, 2], [0, 3, 1], [0, 4, 3], [0, 5, 4], [0, 2, 5], [2, 1, 6, 7], [1, 3, 8, 6], [3, 4, 9, 8], [4, 5, 10, 9], [5, 2, 7, 10], [7, 6, 11], [6, 8, 11], [8, 9, 11], [9, 10, 11], [10, 7, 11]], &quot;color&quot;: &quot;#8d3900&quot;, &quot;opacity&quot;: 1.0}, {&quot;vertices&quot;: [{&quot;x&quot;: 2.356194490192345, &quot;y&quot;: 3.141592653589793, &quot;z&quot;: 1.7958754058341733}, {&quot;x&quot;: 2.3847261856811994, &quot;y&quot;: 3.1508631634210413, &quot;z&quot;: 1.7058754058341732}, {&quot;x&quot;: 2.356194490192345, &quot;y&quot;: 3.171592653589793, &quot;z&quot;: 1.7058754058341732}, {&quot;x&quot;: 2.373828047761119, &quot;y&quot;: 3.1173221437585448, &quot;z&quot;: 1.7058754058341732}, {&quot;x&quot;: 2.3385609326235706, &quot;y&quot;: 3.1173221437585448, &quot;z&quot;: 1.7058754058341732}, {&quot;x&quot;: 2.3276627947034902, &quot;y&quot;: 3.1508631634210413, &quot;z&quot;: 1.7058754058341732}, {&quot;x&quot;: 2.356194490192345, &quot;y&quot;: 3.141592653589793, &quot;z&quot;: 1.7058754058341732}], &quot;faces&quot;: [[0, 1, 2], [0, 3, 1], [0, 4, 3], [0, 5, 4], [0, 2, 5], [2, 1, 6], [1, 3, 6], [3, 4, 6], [4, 5, 6], [5, 2, 6]], &quot;color&quot;: &quot;#8d3900&quot;, &quot;opacity&quot;: 1.0}, {&quot;vertices&quot;: [{&quot;x&quot;: 2.033524455657632, &quot;y&quot;: 3.5718193663027438, &quot;z&quot;: 2.4931399061492305}, {&quot;x&quot;: 2.041573366417984, &quot;y&quot;: 3.576858408783292, &quot;z&quot;: 2.4962740864968036}, {&quot;x&quot;: 2.0371399475437646, &quot;y&quot;: 3.576998710454567, &quot;z&quot;: 2.485387318672892}, {&quot;x&quot;: 2.0348834641938116, &quot;y&quot;: 3.5697543216746546, &quot;z&quot;: 2.5028295236072413}, {&quot;x&quot;: 2.02631545836364, &quot;y&quot;: 3.5655040560537508, &quot;z&quot;: 2.4959942387286924}, {&quot;x&quot;: 2.0277100417689593, &quot;y&quot;: 3.5699813345474545, &quot;z&quot;: 2.4852143632405235}, {&quot;x&quot;: 2.364243400952697, &quot;y&quot;: 3.146631696070342, &quot;z&quot;: 2.359328670539918}, {&quot;x&quot;: 2.3598099820784775, &quot;y&quot;: 3.146771997741616, &quot;z&quot;: 2.348441902716006}, {&quot;x&quot;: 2.3575534987285245, &quot;y&quot;: 3.139527608961704, &quot;z&quot;: 2.3658841076503556}, {&quot;x&quot;: 2.3489854928983527, &quot;y&quot;: 3.1352773433408, &quot;z&quot;: 2.3590488227718067}, {&quot;x&quot;: 2.350380076303672, &quot;y&quot;: 3.139754621834504, &quot;z&quot;: 2.3482689472836378}, {&quot;x&quot;: 2.356194490192345, &quot;y&quot;: 3.141592653589793, &quot;z&quot;: 2.356194490192345}], &quot;faces&quot;: [[0, 1, 2], [0, 3, 1], [0, 4, 3], [0, 5, 4], [0, 2, 5], [2, 1, 6, 7], [1, 3, 8, 6], [3, 4, 9, 8], [4, 5, 10, 9], [5, 2, 7, 10], [7, 6, 11], [6, 8, 11], [8, 9, 11], [9, 10, 11], [10, 7, 11]], &quot;color&quot;: &quot;#005a4b&quot;, &quot;opacity&quot;: 1.0}, {&quot;vertices&quot;: [{&quot;x&quot;: 1.9811944901923448, &quot;y&quot;: 3.641592653589793, &quot;z&quot;: 2.51534943328424}, {&quot;x&quot;: 2.0576711879386886, &quot;y&quot;: 3.5869364937443895, &quot;z&quot;: 2.5025424471919497}, {&quot;x&quot;: 2.0443709313160303, &quot;y&quot;: 3.5873573987582126, &quot;z&quot;: 2.469882143720214}, {&quot;x&quot;: 2.0376014812661705, &quot;y&quot;: 3.565624232418476, &quot;z&quot;: 2.5222087585232633}, {&quot;x&quot;: 2.011897463775656, &quot;y&quot;: 3.5528734355557643, &quot;z&quot;: 2.5017029038876166}, {&quot;x&quot;: 2.016081213991614, &quot;y&quot;: 3.5663052710368763, &quot;z&quot;: 2.469363277423109}, {&quot;x&quot;: 2.033524455657632, &quot;y&quot;: 3.5718193663027438, &quot;z&quot;: 2.4931399061492305}], &quot;faces&quot;: [[0, 1, 2], [0, 3, 1], [0, 4, 3], [0, 5, 4], [0, 2, 5], [2, 1, 6], [1, 3, 6], [3, 4, 6], [4, 5, 6], [5, 2, 6]], &quot;color&quot;: &quot;#005a4b&quot;, &quot;opacity&quot;: 1.0}, {&quot;vertices&quot;: [{&quot;x&quot;: 1.8798644043024342, &quot;y&quot;: 3.7766994347763405, &quot;z&quot;: 3.141592653589793}, {&quot;x&quot;: 1.887434447579723, &quot;y&quot;: 3.782376967234307, &quot;z&quot;: 3.1448268567325646}, {&quot;x&quot;: 1.8846644043024343, &quot;y&quot;: 3.7802994347763406, &quot;z&quot;: 3.133592653589793}, {&quot;x&quot;: 1.8797429483441064, &quot;y&quot;: 3.7766083428075947, &quot;z&quot;: 3.151591501058548}, {&quot;x&quot;: 1.8722192971147626, &quot;y&quot;: 3.770965604385587, &quot;z&quot;: 3.144538078031038}, {&quot;x&quot;: 1.8752609241711449, &quot;y&quot;: 3.773246824677874, &quot;z&quot;: 3.1334141785370226}, {&quot;x&quot;: 2.3637645334696336, &quot;y&quot;: 3.1472701860477597, &quot;z&quot;: 3.1448268567325646}, {&quot;x&quot;: 2.3609944901923448, &quot;y&quot;: 3.145192653589793, &quot;z&quot;: 3.133592653589793}, {&quot;x&quot;: 2.356073034234017, &quot;y&quot;: 3.1415015616210473, &quot;z&quot;: 3.1515915010585474}, {&quot;x&quot;: 2.348549383004673, &quot;y&quot;: 3.1358588231990394, &quot;z&quot;: 3.144538078031038}, {&quot;x&quot;: 2.3515910100610555, &quot;y&quot;: 3.138140043491326, &quot;z&quot;: 3.1334141785370226}, {&quot;x&quot;: 2.356194490192345, &quot;y&quot;: 3.141592653589793, &quot;z&quot;: 3.141592653589793}], &quot;faces&quot;: [[0, 1, 2], [0, 3, 1], [0, 4, 3], [0, 5, 4], [0, 2, 5], [2, 1, 6, 7], [1, 3, 8, 6], [3, 4, 9, 8], [4, 5, 10, 9], [5, 2, 7, 10], [7, 6, 11], [6, 8, 11], [8, 9, 11], [9, 10, 11], [10, 7, 11]], &quot;color&quot;: &quot;#001dc5&quot;, &quot;opacity&quot;: 1.0}, {&quot;vertices&quot;: [{&quot;x&quot;: 1.8258644043024341, &quot;y&quot;: 3.8486994347763406, &quot;z&quot;: 3.141592653589793}, {&quot;x&quot;: 1.9025745341343003, &quot;y&quot;: 3.79373203215024, &quot;z&quot;: 3.151295263018107}, {&quot;x&quot;: 1.8942644043024341, &quot;y&quot;: 3.7874994347763407, &quot;z&quot;: 3.117592653589793}, {&quot;x&quot;: 1.8795000364274503, &quot;y&quot;: 3.7764261588701027, &quot;z&quot;: 3.1715891959960563}, {&quot;x&quot;: 1.8569290827394194, &quot;y&quot;: 3.7594979436040794, &quot;z&quot;: 3.1504289269135275}, {&quot;x&quot;: 1.8660539639085665, &quot;y&quot;: 3.7663416044809397, &quot;z&quot;: 3.1170572284314817}, {&quot;x&quot;: 1.8798644043024342, &quot;y&quot;: 3.7766994347763405, &quot;z&quot;: 3.141592653589793}], &quot;faces&quot;: [[0, 1, 2], [0, 3, 1], [0, 4, 3], [0, 5, 4], [0, 2, 5], [2, 1, 6], [1, 3, 6], [3, 4, 6], [4, 5, 6], [5, 2, 6]], &quot;color&quot;: &quot;#001dc5&quot;, &quot;opacity&quot;: 1.0}, {&quot;vertices&quot;: [{&quot;x&quot;: 3.7586994347763407, &quot;y&quot;: 0.0, &quot;z&quot;: 3.7786892215611575e-17}, {&quot;x&quot;: 3.7586994347763407, &quot;y&quot;: 0.0030901699437494747, &quot;z&quot;: -0.009510565162951498}, {&quot;x&quot;: 3.7586994347763407, &quot;y&quot;: 0.01, &quot;z&quot;: 3.7786892215611575e-17}, {&quot;x&quot;: 3.7586994347763407, &quot;y&quot;: -0.008090169943749474, &quot;z&quot;: -0.005877852522924694}, {&quot;x&quot;: 3.7586994347763407, &quot;y&quot;: -0.008090169943749476, &quot;z&quot;: 0.005877852522924769}, {&quot;x&quot;: 3.7586994347763407, &quot;y&quot;: 0.0030901699437494725, &quot;z&quot;: 0.009510565162951574}, {&quot;x&quot;: 3.141592653589793, &quot;y&quot;: 0.0030901699437494747, &quot;z&quot;: -0.009510565162951536}, {&quot;x&quot;: 3.141592653589793, &quot;y&quot;: 0.01, &quot;z&quot;: 0.0}, {&quot;x&quot;: 3.141592653589793, &quot;y&quot;: -0.008090169943749474, &quot;z&quot;: -0.005877852522924732}, {&quot;x&quot;: 3.141592653589793, &quot;y&quot;: -0.008090169943749476, &quot;z&quot;: 0.005877852522924731}, {&quot;x&quot;: 3.141592653589793, &quot;y&quot;: 0.0030901699437494725, &quot;z&quot;: 0.009510565162951536}, {&quot;x&quot;: 3.141592653589793, &quot;y&quot;: 0.0, &quot;z&quot;: 0.0}], &quot;faces&quot;: [[0, 1, 2], [0, 3, 1], [0, 4, 3], [0, 5, 4], [0, 2, 5], [2, 1, 6, 7], [1, 3, 8, 6], [3, 4, 9, 8], [4, 5, 10, 9], [5, 2, 7, 10], [7, 6, 11], [6, 8, 11], [8, 9, 11], [9, 10, 11], [10, 7, 11]], &quot;color&quot;: &quot;#004a6b&quot;, &quot;opacity&quot;: 1.0}, {&quot;vertices&quot;: [{&quot;x&quot;: 3.8486994347763406, &quot;y&quot;: 0.0, &quot;z&quot;: 4.3297802811774664e-17}, {&quot;x&quot;: 3.7586994347763407, &quot;y&quot;: 0.009270509831248424, &quot;z&quot;: -0.028531695488854567}, {&quot;x&quot;: 3.7586994347763407, &quot;y&quot;: 0.03, &quot;z&quot;: 3.7786892215611575e-17}, {&quot;x&quot;: 3.7586994347763407, &quot;y&quot;: -0.02427050983124842, &quot;z&quot;: -0.017633557568774157}, {&quot;x&quot;: 3.7586994347763407, &quot;y&quot;: -0.024270509831248427, &quot;z&quot;: 0.017633557568774227}, {&quot;x&quot;: 3.7586994347763407, &quot;y&quot;: 0.009270509831248417, &quot;z&quot;: 0.028531695488854647}, {&quot;x&quot;: 3.7586994347763407, &quot;y&quot;: 0.0, &quot;z&quot;: 3.7786892215611575e-17}], &quot;faces&quot;: [[0, 1, 2], [0, 3, 1], [0, 4, 3], [0, 5, 4], [0, 2, 5], [2, 1, 6], [1, 3, 6], [3, 4, 6], [4, 5, 6], [5, 2, 6]], &quot;color&quot;: &quot;#004a6b&quot;, &quot;opacity&quot;: 1.0}, {&quot;vertices&quot;: [{&quot;x&quot;: 3.5558325073308112, &quot;y&quot;: 0.0, &quot;z&quot;: 0.9172548040945419}, {&quot;x&quot;: 3.5587171993726305, &quot;y&quot;: 0.0030901699437494747, &quot;z&quot;: 0.9081922767680941}, {&quot;x&quot;: 3.5558325073308112, &quot;y&quot;: 0.01, &quot;z&quot;: 0.9172548040945419}, {&quot;x&quot;: 3.557615345059732, &quot;y&quot;: -0.008090169943749474, &quot;z&quot;: 0.9116538541828224}, {&quot;x&quot;: 3.554049669601891, &quot;y&quot;: -0.008090169943749476, &quot;z&quot;: 0.9228557540062613}, {&quot;x&quot;: 3.5529478152889924, &quot;y&quot;: 0.0030901699437494725, &quot;z&quot;: 0.9263173314209896}, {&quot;x&quot;: 3.1444773456316124, &quot;y&quot;: 0.0030901699437494747, &quot;z&quot;: 0.7763356360710005}, {&quot;x&quot;: 3.141592653589793, &quot;y&quot;: 0.01, &quot;z&quot;: 0.7853981633974483}, {&quot;x&quot;: 3.1433754913187135, &quot;y&quot;: -0.008090169943749474, &quot;z&quot;: 0.7797972134857288}, {&quot;x&quot;: 3.1398098158608727, &quot;y&quot;: -0.008090169943749476, &quot;z&quot;: 0.7909991133091677}, {&quot;x&quot;: 3.138707961547974, &quot;y&quot;: 0.0030901699437494725, &quot;z&quot;: 0.794460690723896}, {&quot;x&quot;: 3.141592653589793, &quot;y&quot;: 0.0, &quot;z&quot;: 0.7853981633974483}], &quot;faces&quot;: [[0, 1, 2], [0, 3, 1], [0, 4, 3], [0, 5, 4], [0, 2, 5], [2, 1, 6, 7], [1, 3, 8, 6], [3, 4, 9, 8], [4, 5, 10, 9], [5, 2, 7, 10], [7, 6, 11], [6, 8, 11], [8, 9, 11], [9, 10, 11], [10, 7, 11]], &quot;color&quot;: &quot;#00790d&quot;, &quot;opacity&quot;: 1.0}, {&quot;vertices&quot;: [{&quot;x&quot;: 3.641592653589793, &quot;y&quot;: 0.0, &quot;z&quot;: 0.9445531064893437}, {&quot;x&quot;: 3.5644865834562687, &quot;y&quot;: 0.009270509831248424, &quot;z&quot;: 0.8900672221151985}, {&quot;x&quot;: 3.5558325073308112, &quot;y&quot;: 0.03, &quot;z&quot;: 0.9172548040945419}, {&quot;x&quot;: 3.561181020517573, &quot;y&quot;: -0.02427050983124842, &quot;z&quot;: 0.9004519543593835}, {&quot;x&quot;: 3.5504839941440496, &quot;y&quot;: -0.024270509831248427, &quot;z&quot;: 0.9340576538297002}, {&quot;x&quot;: 3.547178431205354, &quot;y&quot;: 0.009270509831248417, &quot;z&quot;: 0.9444423860738852}, {&quot;x&quot;: 3.5558325073308112, &quot;y&quot;: 0.0, &quot;z&quot;: 0.9172548040945419}], &quot;faces&quot;: [[0, 1, 2], [0, 3, 1], [0, 4, 3], [0, 5, 4], [0, 2, 5], [2, 1, 6], [1, 3, 6], [3, 4, 6], [4, 5, 6], [5, 2, 6]], &quot;color&quot;: &quot;#00790d&quot;, &quot;opacity&quot;: 1.0}, {&quot;vertices&quot;: [{&quot;x&quot;: 3.141592653589793, &quot;y&quot;: 0.0, &quot;z&quot;: 1.7058754058341732}, {&quot;x&quot;: 3.151103218752745, &quot;y&quot;: 0.0030901699437494747, &quot;z&quot;: 1.7058754058341732}, {&quot;x&quot;: 3.141592653589793, &quot;y&quot;: 0.01, &quot;z&quot;: 1.7058754058341732}, {&quot;x&quot;: 3.1474705061127177, &quot;y&quot;: -0.008090169943749474, &quot;z&quot;: 1.7058754058341732}, {&quot;x&quot;: 3.1357148010668685, &quot;y&quot;: -0.008090169943749476, &quot;z&quot;: 1.7058754058341732}, {&quot;x&quot;: 3.1320820884268414, &quot;y&quot;: 0.0030901699437494725, &quot;z&quot;: 1.7058754058341732}, {&quot;x&quot;: 3.151103218752745, &quot;y&quot;: 0.0030901699437494747, &quot;z&quot;: 1.5707963267948966}, {&quot;x&quot;: 3.141592653589793, &quot;y&quot;: 0.01, &quot;z&quot;: 1.5707963267948966}, {&quot;x&quot;: 3.1474705061127177, &quot;y&quot;: -0.008090169943749474, &quot;z&quot;: 1.5707963267948966}, {&quot;x&quot;: 3.1357148010668685, &quot;y&quot;: -0.008090169943749476, &quot;z&quot;: 1.5707963267948966}, {&quot;x&quot;: 3.1320820884268414, &quot;y&quot;: 0.0030901699437494725, &quot;z&quot;: 1.5707963267948966}, {&quot;x&quot;: 3.141592653589793, &quot;y&quot;: 0.0, &quot;z&quot;: 1.5707963267948966}], &quot;faces&quot;: [[0, 1, 2], [0, 3, 1], [0, 4, 3], [0, 5, 4], [0, 2, 5], [2, 1, 6, 7], [1, 3, 8, 6], [3, 4, 9, 8], [4, 5, 10, 9], [5, 2, 7, 10], [7, 6, 11], [6, 8, 11], [8, 9, 11], [9, 10, 11], [10, 7, 11]], &quot;color&quot;: &quot;#8d3900&quot;, &quot;opacity&quot;: 1.0}, {&quot;vertices&quot;: [{&quot;x&quot;: 3.141592653589793, &quot;y&quot;: 0.0, &quot;z&quot;: 1.7958754058341733}, {&quot;x&quot;: 3.1701243490786477, &quot;y&quot;: 0.009270509831248424, &quot;z&quot;: 1.7058754058341732}, {&quot;x&quot;: 3.141592653589793, &quot;y&quot;: 0.03, &quot;z&quot;: 1.7058754058341732}, {&quot;x&quot;: 3.1592262111585674, &quot;y&quot;: -0.02427050983124842, &quot;z&quot;: 1.7058754058341732}, {&quot;x&quot;: 3.123959096021019, &quot;y&quot;: -0.024270509831248427, &quot;z&quot;: 1.7058754058341732}, {&quot;x&quot;: 3.1130609581009385, &quot;y&quot;: 0.009270509831248417, &quot;z&quot;: 1.7058754058341732}, {&quot;x&quot;: 3.141592653589793, &quot;y&quot;: 0.0, &quot;z&quot;: 1.7058754058341732}], &quot;faces&quot;: [[0, 1, 2], [0, 3, 1], [0, 4, 3], [0, 5, 4], [0, 2, 5], [2, 1, 6], [1, 3, 6], [3, 4, 6], [4, 5, 6], [5, 2, 6]], &quot;color&quot;: &quot;#8d3900&quot;, &quot;opacity&quot;: 1.0}, {&quot;vertices&quot;: [{&quot;x&quot;: 2.727352799848775, &quot;y&quot;: 0.0, &quot;z&quot;: 2.4880511308894384}, {&quot;x&quot;: 2.730237491890594, &quot;y&quot;: 0.0030901699437494747, &quot;z&quot;: 2.4971136582158864}, {&quot;x&quot;: 2.727352799848775, &quot;y&quot;: 0.01, &quot;z&quot;: 2.4880511308894384}, {&quot;x&quot;: 2.7291356375776954, &quot;y&quot;: -0.008090169943749474, &quot;z&quot;: 2.4936520808011577}, {&quot;x&quot;: 2.725569962119854, &quot;y&quot;: -0.008090169943749476, &quot;z&quot;: 2.482450180977719}, {&quot;x&quot;: 2.7244681078069557, &quot;y&quot;: 0.0030901699437494725, &quot;z&quot;: 2.4789886035629904}, {&quot;x&quot;: 3.1444773456316124, &quot;y&quot;: 0.0030901699437494747, &quot;z&quot;: 2.365257017518793}, {&quot;x&quot;: 3.141592653589793, &quot;y&quot;: 0.01, &quot;z&quot;: 2.356194490192345}, {&quot;x&quot;: 3.1433754913187135, &quot;y&quot;: -0.008090169943749474, &quot;z&quot;: 2.361795440104064}, {&quot;x&quot;: 3.1398098158608727, &quot;y&quot;: -0.008090169943749476, &quot;z&quot;: 2.3505935402806255}, {&quot;x&quot;: 3.138707961547974, &quot;y&quot;: 0.0030901699437494725, &quot;z&quot;: 2.347131962865897}, {&quot;x&quot;: 3.141592653589793, &quot;y&quot;: 0.0, &quot;z&quot;: 2.356194490192345}], &quot;faces&quot;: [[0, 1, 2], [0, 3, 1], [0, 4, 3], [0, 5, 4], [0, 2, 5], [2, 1, 6, 7], [1, 3, 8, 6], [3, 4, 9, 8], [4, 5, 10, 9], [5, 2, 7, 10], [7, 6, 11], [6, 8, 11], [8, 9, 11], [9, 10, 11], [10, 7, 11]], &quot;color&quot;: &quot;#00790d&quot;, &quot;opacity&quot;: 1.0}, {&quot;vertices&quot;: [{&quot;x&quot;: 2.641592653589793, &quot;y&quot;: 0.0, &quot;z&quot;: 2.51534943328424}, {&quot;x&quot;: 2.7360068759742324, &quot;y&quot;: 0.009270509831248424, &quot;z&quot;: 2.515238712868782}, {&quot;x&quot;: 2.727352799848775, &quot;y&quot;: 0.03, &quot;z&quot;: 2.4880511308894384}, {&quot;x&quot;: 2.7327013130355366, &quot;y&quot;: -0.02427050983124842, &quot;z&quot;: 2.504853980624597}, {&quot;x&quot;: 2.7220042866620133, &quot;y&quot;: -0.024270509831248427, &quot;z&quot;: 2.47124828115428}, {&quot;x&quot;: 2.7186987237233176, &quot;y&quot;: 0.009270509831248417, &quot;z&quot;: 2.460863548910095}, {&quot;x&quot;: 2.727352799848775, &quot;y&quot;: 0.0, &quot;z&quot;: 2.4880511308894384}], &quot;faces&quot;: [[0, 1, 2], [0, 3, 1], [0, 4, 3], [0, 5, 4], [0, 2, 5], [2, 1, 6], [1, 3, 6], [3, 4, 6], [4, 5, 6], [5, 2, 6]], &quot;color&quot;: &quot;#00790d&quot;, &quot;opacity&quot;: 1.0}, {&quot;vertices&quot;: [{&quot;x&quot;: 2.5244858724032455, &quot;y&quot;: 0.0, &quot;z&quot;: 3.141592653589793}, {&quot;x&quot;: 2.5244858724032455, &quot;y&quot;: 0.0030901699437494747, &quot;z&quot;: 3.151103218752745}, {&quot;x&quot;: 2.5244858724032455, &quot;y&quot;: 0.01, &quot;z&quot;: 3.141592653589793}, {&quot;x&quot;: 2.5244858724032455, &quot;y&quot;: -0.008090169943749474, &quot;z&quot;: 3.1474705061127177}, {&quot;x&quot;: 2.5244858724032455, &quot;y&quot;: -0.008090169943749476, &quot;z&quot;: 3.1357148010668685}, {&quot;x&quot;: 2.5244858724032455, &quot;y&quot;: 0.0030901699437494725, &quot;z&quot;: 3.1320820884268414}, {&quot;x&quot;: 3.141592653589793, &quot;y&quot;: 0.0030901699437494747, &quot;z&quot;: 3.151103218752745}, {&quot;x&quot;: 3.141592653589793, &quot;y&quot;: 0.01, &quot;z&quot;: 3.141592653589793}, {&quot;x&quot;: 3.141592653589793, &quot;y&quot;: -0.008090169943749474, &quot;z&quot;: 3.1474705061127177}, {&quot;x&quot;: 3.141592653589793, &quot;y&quot;: -0.008090169943749476, &quot;z&quot;: 3.1357148010668685}, {&quot;x&quot;: 3.141592653589793, &quot;y&quot;: 0.0030901699437494725, &quot;z&quot;: 3.1320820884268414}, {&quot;x&quot;: 3.141592653589793, &quot;y&quot;: 0.0, &quot;z&quot;: 3.141592653589793}], &quot;faces&quot;: [[0, 1, 2], [0, 3, 1], [0, 4, 3], [0, 5, 4], [0, 2, 5], [2, 1, 6, 7], [1, 3, 8, 6], [3, 4, 9, 8], [4, 5, 10, 9], [5, 2, 7, 10], [7, 6, 11], [6, 8, 11], [8, 9, 11], [9, 10, 11], [10, 7, 11]], &quot;color&quot;: &quot;#004a6b&quot;, &quot;opacity&quot;: 1.0}, {&quot;vertices&quot;: [{&quot;x&quot;: 2.4344858724032457, &quot;y&quot;: 0.0, &quot;z&quot;: 3.141592653589793}, {&quot;x&quot;: 2.5244858724032455, &quot;y&quot;: 0.009270509831248424, &quot;z&quot;: 3.1701243490786477}, {&quot;x&quot;: 2.5244858724032455, &quot;y&quot;: 0.03, &quot;z&quot;: 3.141592653589793}, {&quot;x&quot;: 2.5244858724032455, &quot;y&quot;: -0.02427050983124842, &quot;z&quot;: 3.1592262111585674}, {&quot;x&quot;: 2.5244858724032455, &quot;y&quot;: -0.024270509831248427, &quot;z&quot;: 3.123959096021019}, {&quot;x&quot;: 2.5244858724032455, &quot;y&quot;: 0.009270509831248417, &quot;z&quot;: 3.1130609581009385}, {&quot;x&quot;: 2.5244858724032455, &quot;y&quot;: 0.0, &quot;z&quot;: 3.141592653589793}], &quot;faces&quot;: [[0, 1, 2], [0, 3, 1], [0, 4, 3], [0, 5, 4], [0, 2, 5], [2, 1, 6], [1, 3, 6], [3, 4, 6], [4, 5, 6], [5, 2, 6]], &quot;color&quot;: &quot;#004a6b&quot;, &quot;opacity&quot;: 1.0}, {&quot;vertices&quot;: [{&quot;x&quot;: 3.7613866097632607, &quot;y&quot;: 0.6304496743540814, &quot;z&quot;: 3.911944299136498e-17}, {&quot;x&quot;: 3.76267315358314, &quot;y&quot;: 0.6355958496335989, &quot;z&quot;: -0.00847712716620509}, {&quot;x&quot;: 3.7637395509397313, &quot;y&quot;: 0.6398614390599637, &quot;z&quot;: 0.002425356250363369}, {&quot;x&quot;: 3.7598287963954915, &quot;y&quot;: 0.6242184208830054, &quot;z&quot;: -0.007664508966033141}, {&quot;x&quot;: 3.759137284333971, &quot;y&quot;: 0.6214523726369231, &quot;z&quot;: 0.0037402001181183506}, {&quot;x&quot;: 3.761554263563969, &quot;y&quot;: 0.6311202895569158, &quot;z&quot;: 0.009976079763756708}, {&quot;x&quot;: 3.1428791974096724, &quot;y&quot;: 0.7905443386769658, &quot;z&quot;: -0.00847712716620513}, {&quot;x&quot;: 3.143945594766264, &quot;y&quot;: 0.7948099281033306, &quot;z&quot;: 0.00242535625036333}, {&quot;x&quot;: 3.140034840222024, &quot;y&quot;: 0.7791669099263723, &quot;z&quot;: -0.00766450896603318}, {&quot;x&quot;: 3.1393433281605034, &quot;y&quot;: 0.77640086168029, &quot;z&quot;: 0.0037402001181183115}, {&quot;x&quot;: 3.1417603073905016, &quot;y&quot;: 0.7860687786002827, &quot;z&quot;: 0.009976079763756668}, {&quot;x&quot;: 3.141592653589793, &quot;y&quot;: 0.7853981633974483, &quot;z&quot;: 0.0}], &quot;faces&quot;: [[0, 1, 2], [0, 3, 1], [0, 4, 3], [0, 5, 4], [0, 2, 5], [2, 1, 6, 7], [1, 3, 8, 6], [3, 4, 9, 8], [4, 5, 10, 9], [5, 2, 7, 10], [7, 6, 11], [6, 8, 11], [8, 9, 11], [9, 10, 11], [10, 7, 11]], &quot;color&quot;: &quot;#004575&quot;, &quot;opacity&quot;: 1.0}, {&quot;vertices&quot;: [{&quot;x&quot;: 3.8486994347763406, &quot;y&quot;: 0.6086214681008114, &quot;z&quot;: 4.463035358752807e-17}, {&quot;x&quot;: 3.765246241222899, &quot;y&quot;: 0.6458882001926339, &quot;z&quot;: -0.02543138149861535}, {&quot;x&quot;: 3.7684454332926722, &quot;y&quot;: 0.6586849684717284, &quot;z&quot;: 0.007276068751090028}, {&quot;x&quot;: 3.7567131696599536, &quot;y&quot;: 0.6117559139408533, &quot;z&quot;: -0.0229935268980995}, {&quot;x&quot;: 3.754638633475392, &quot;y&quot;: 0.6034577692026066, &quot;z&quot;: 0.011220600354354971}, {&quot;x&quot;: 3.7618895711653866, &quot;y&quot;: 0.6324615199625847, &quot;z&quot;: 0.029928239291270038}, {&quot;x&quot;: 3.7613866097632607, &quot;y&quot;: 0.6304496743540814, &quot;z&quot;: 3.911944299136498e-17}], &quot;faces&quot;: [[0, 1, 2], [0, 3, 1], [0, 4, 3], [0, 5, 4], [0, 2, 5], [2, 1, 6], [1, 3, 6], [3, 4, 6], [4, 5, 6], [5, 2, 6]], &quot;color&quot;: &quot;#004575&quot;, &quot;opacity&quot;: 1.0}, {&quot;vertices&quot;: [{&quot;x&quot;: 3.558167045578756, &quot;y&quot;: 0.6812545654002076, &quot;z&quot;: 0.9179979106985369}, {&quot;x&quot;: 3.5618801504758917, &quot;y&quot;: 0.685794100410411, &quot;z&quot;: 0.9098981900913798}, {&quot;x&quot;: 3.5598257332704994, &quot;y&quot;: 0.6908398934772717, &quot;z&quot;: 0.9203152886988435}, {&quot;x&quot;: 3.5588031829172357, &quot;y&quot;: 0.6744748242525693, &quot;z&quot;: 0.9106746300636293}, {&quot;x&quot;: 3.5548470951783138, &quot;y&quot;: 0.6725249199258374, &quot;z&quot;: 0.9215715949641672}, {&quot;x&quot;: 3.555479066051839, &quot;y&quot;: 0.6826390889349484, &quot;z&quot;: 0.9275298496746647}, {&quot;x&quot;: 3.145305758486929, &quot;y&quot;: 0.7899376984076517, &quot;z&quot;: 0.7772984427902913}, {&quot;x&quot;: 3.1432513412815366, &quot;y&quot;: 0.7949834914745124, &quot;z&quot;: 0.7877155413977549}, {&quot;x&quot;: 3.142228790928273, &quot;y&quot;: 0.77861842224981, &quot;z&quot;: 0.7780748827625407}, {&quot;x&quot;: 3.138272703189351, &quot;y&quot;: 0.7766685179230781, &quot;z&quot;: 0.7889718476630786}, {&quot;x&quot;: 3.1389046740628763, &quot;y&quot;: 0.7867826869321891, &quot;z&quot;: 0.7949301023735761}, {&quot;x&quot;: 3.141592653589793, &quot;y&quot;: 0.7853981633974483, &quot;z&quot;: 0.7853981633974483}], &quot;faces&quot;: [[0, 1, 2], [0, 3, 1], [0, 4, 3], [0, 5, 4], [0, 2, 5], [2, 1, 6, 7], [1, 3, 8, 6], [3, 4, 9, 8], [4, 5, 10, 9], [5, 2, 7, 10], [7, 6, 11], [6, 8, 11], [8, 9, 11], [9, 10, 11], [10, 7, 11]], &quot;color&quot;: &quot;#007515&quot;, &quot;opacity&quot;: 1.0}, {&quot;vertices&quot;: [{&quot;x&quot;: 3.641592653589793, &quot;y&quot;: 0.6603981633974483, &quot;z&quot;: 0.9445531064893437}, {&quot;x&quot;: 3.5693063602701627, &quot;y&quot;: 0.694873170430818, &quot;z&quot;: 0.8936987488770657}, {&quot;x&quot;: 3.563143108653987, &quot;y&quot;: 0.7100105496313999, &quot;z&quot;: 0.9249500446994566}, {&quot;x&quot;: 3.5600754575941953, &quot;y&quot;: 0.6609153419572928, &quot;z&quot;: 0.8960280687938141}, {&quot;x&quot;: 3.54820719437743, &quot;y&quot;: 0.6550656289770972, &quot;z&quot;: 0.9287189634954277}, {&quot;x&quot;: 3.550103106998005, &quot;y&quot;: 0.68540813600443, &quot;z&quot;: 0.9465937276269203}, {&quot;x&quot;: 3.558167045578756, &quot;y&quot;: 0.6812545654002076, &quot;z&quot;: 0.9179979106985369}], &quot;faces&quot;: [[0, 1, 2], [0, 3, 1], [0, 4, 3], [0, 5, 4], [0, 2, 5], [2, 1, 6], [1, 3, 6], [3, 4, 6], [4, 5, 6], [5, 2, 6]], &quot;color&quot;: &quot;#007515&quot;, &quot;opacity&quot;: 1.0}, {&quot;vertices&quot;: [{&quot;x&quot;: 3.141592653589793, &quot;y&quot;: 0.7853981633974483, &quot;z&quot;: 1.7058754058341732}, {&quot;x&quot;: 3.151103218752745, &quot;y&quot;: 0.7884883333411977, &quot;z&quot;: 1.7058754058341732}, {&quot;x&quot;: 3.141592653589793, &quot;y&quot;: 0.7953981633974483, &quot;z&quot;: 1.7058754058341732}, {&quot;x&quot;: 3.1474705061127177, &quot;y&quot;: 0.7773079934536988, &quot;z&quot;: 1.7058754058341732}, {&quot;x&quot;: 3.1357148010668685, &quot;y&quot;: 0.7773079934536988, &quot;z&quot;: 1.7058754058341732}, {&quot;x&quot;: 3.1320820884268414, &quot;y&quot;: 0.7884883333411977, &quot;z&quot;: 1.7058754058341732}, {&quot;x&quot;: 3.151103218752745, &quot;y&quot;: 0.7884883333411977, &quot;z&quot;: 1.5707963267948966}, {&quot;x&quot;: 3.141592653589793, &quot;y&quot;: 0.7953981633974483, &quot;z&quot;: 1.5707963267948966}, {&quot;x&quot;: 3.1474705061127177, &quot;y&quot;: 0.7773079934536988, &quot;z&quot;: 1.5707963267948966}, {&quot;x&quot;: 3.1357148010668685, &quot;y&quot;: 0.7773079934536988, &quot;z&quot;: 1.5707963267948966}, {&quot;x&quot;: 3.1320820884268414, &quot;y&quot;: 0.7884883333411977, &quot;z&quot;: 1.5707963267948966}, {&quot;x&quot;: 3.141592653589793, &quot;y&quot;: 0.7853981633974483, &quot;z&quot;: 1.5707963267948966}], &quot;faces&quot;: [[0, 1, 2], [0, 3, 1], [0, 4, 3], [0, 5, 4], [0, 2, 5], [2, 1, 6, 7], [1, 3, 8, 6], [3, 4, 9, 8], [4, 5, 10, 9], [5, 2, 7, 10], [7, 6, 11], [6, 8, 11], [8, 9, 11], [9, 10, 11], [10, 7, 11]], &quot;color&quot;: &quot;#8d3900&quot;, &quot;opacity&quot;: 1.0}, {&quot;vertices&quot;: [{&quot;x&quot;: 3.141592653589793, &quot;y&quot;: 0.7853981633974483, &quot;z&quot;: 1.7958754058341733}, {&quot;x&quot;: 3.1701243490786477, &quot;y&quot;: 0.7946686732286967, &quot;z&quot;: 1.7058754058341732}, {&quot;x&quot;: 3.141592653589793, &quot;y&quot;: 0.8153981633974483, &quot;z&quot;: 1.7058754058341732}, {&quot;x&quot;: 3.1592262111585674, &quot;y&quot;: 0.7611276535661998, &quot;z&quot;: 1.7058754058341732}, {&quot;x&quot;: 3.123959096021019, &quot;y&quot;: 0.7611276535661998, &quot;z&quot;: 1.7058754058341732}, {&quot;x&quot;: 3.1130609581009385, &quot;y&quot;: 0.7946686732286967, &quot;z&quot;: 1.7058754058341732}, {&quot;x&quot;: 3.141592653589793, &quot;y&quot;: 0.7853981633974483, &quot;z&quot;: 1.7058754058341732}], &quot;faces&quot;: [[0, 1, 2], [0, 3, 1], [0, 4, 3], [0, 5, 4], [0, 2, 5], [2, 1, 6], [1, 3, 6], [3, 4, 6], [4, 5, 6], [5, 2, 6]], &quot;color&quot;: &quot;#8d3900&quot;, &quot;opacity&quot;: 1.0}, {&quot;vertices&quot;: [{&quot;x&quot;: 2.7250182616008303, &quot;y&quot;: 0.889541761394689, &quot;z&quot;: 2.4887942374934333}, {&quot;x&quot;: 2.728731366497966, &quot;y&quot;: 0.8940812964048925, &quot;z&quot;: 2.4968939581005904}, {&quot;x&quot;: 2.7266769492925738, &quot;y&quot;: 0.8991270894717531, &quot;z&quot;: 2.486476859493127}, {&quot;x&quot;: 2.72565439893931, &quot;y&quot;: 0.8827620202470507, &quot;z&quot;: 2.496117518128341}, {&quot;x&quot;: 2.721698311200388, &quot;y&quot;: 0.8808121159203188, &quot;z&quot;: 2.485220553227803}, {&quot;x&quot;: 2.7223302820739135, &quot;y&quot;: 0.8909262849294298, &quot;z&quot;: 2.4792622985173054}, {&quot;x&quot;: 3.145305758486929, &quot;y&quot;: 0.7899376984076517, &quot;z&quot;: 2.364294210799502}, {&quot;x&quot;: 3.1432513412815366, &quot;y&quot;: 0.7949834914745124, &quot;z&quot;: 2.353877112192038}, {&quot;x&quot;: 3.142228790928273, &quot;y&quot;: 0.77861842224981, &quot;z&quot;: 2.3635177708272526}, {&quot;x&quot;: 3.138272703189351, &quot;y&quot;: 0.7766685179230781, &quot;z&quot;: 2.3526208059267146}, {&quot;x&quot;: 3.1389046740628763, &quot;y&quot;: 0.7867826869321891, &quot;z&quot;: 2.346662551216217}, {&quot;x&quot;: 3.141592653589793, &quot;y&quot;: 0.7853981633974483, &quot;z&quot;: 2.356194490192345}], &quot;faces&quot;: [[0, 1, 2], [0, 3, 1], [0, 4, 3], [0, 5, 4], [0, 2, 5], [2, 1, 6, 7], [1, 3, 8, 6], [3, 4, 9, 8], [4, 5, 10, 9], [5, 2, 7, 10], [7, 6, 11], [6, 8, 11], [8, 9, 11], [9, 10, 11], [10, 7, 11]], &quot;color&quot;: &quot;#007515&quot;, &quot;opacity&quot;: 1.0}, {&quot;vertices&quot;: [{&quot;x&quot;: 2.641592653589793, &quot;y&quot;: 0.9103981633974483, &quot;z&quot;: 2.51534943328424}, {&quot;x&quot;: 2.736157576292237, &quot;y&quot;: 0.9031603664252994, &quot;z&quot;: 2.5130933993149047}, {&quot;x&quot;: 2.729994324676061, &quot;y&quot;: 0.9182977456258813, &quot;z&quot;: 2.4818421034925136}, {&quot;x&quot;: 2.7269266736162696, &quot;y&quot;: 0.8692025379517743, &quot;z&quot;: 2.510764079398156}, {&quot;x&quot;: 2.715058410399504, &quot;y&quot;: 0.8633528249715786, &quot;z&quot;: 2.4780731846965427}, {&quot;x&quot;: 2.7169543230200794, &quot;y&quot;: 0.8936953319989114, &quot;z&quot;: 2.46019842056505}, {&quot;x&quot;: 2.7250182616008303, &quot;y&quot;: 0.889541761394689, &quot;z&quot;: 2.4887942374934333}], &quot;faces&quot;: [[0, 1, 2], [0, 3, 1], [0, 4, 3], [0, 5, 4], [0, 2, 5], [2, 1, 6], [1, 3, 6], [3, 4, 6], [4, 5, 6], [5, 2, 6]], &quot;color&quot;: &quot;#007515&quot;, &quot;opacity&quot;: 1.0}, {&quot;vertices&quot;: [{&quot;x&quot;: 2.5217986974163256, &quot;y&quot;: 0.9403466524408152, &quot;z&quot;: 3.141592653589793}, {&quot;x&quot;: 2.523085241236205, &quot;y&quot;: 0.9454928277203327, &quot;z&quot;: 3.1500697807559983}, {&quot;x&quot;: 2.5241516385927962, &quot;y&quot;: 0.9497584171466975, &quot;z&quot;: 3.13916729733943}, {&quot;x&quot;: 2.5202408840485564, &quot;y&quot;: 0.9341153989697392, &quot;z&quot;: 3.1492571625558266}, {&quot;x&quot;: 2.519549371987036, &quot;y&quot;: 0.9313493507236569, &quot;z&quot;: 3.137852453471675}, {&quot;x&quot;: 2.521966351217034, &quot;y&quot;: 0.9410172676436496, &quot;z&quot;: 3.1316165738260366}, {&quot;x&quot;: 3.1428791974096724, &quot;y&quot;: 0.7905443386769658, &quot;z&quot;: 3.1500697807559983}, {&quot;x&quot;: 3.143945594766264, &quot;y&quot;: 0.7948099281033306, &quot;z&quot;: 3.13916729733943}, {&quot;x&quot;: 3.140034840222024, &quot;y&quot;: 0.7791669099263723, &quot;z&quot;: 3.149257162555826}, {&quot;x&quot;: 3.1393433281605034, &quot;y&quot;: 0.77640086168029, &quot;z&quot;: 3.137852453471675}, {&quot;x&quot;: 3.1417603073905016, &quot;y&quot;: 0.7860687786002827, &quot;z&quot;: 3.1316165738260366}, {&quot;x&quot;: 3.141592653589793, &quot;y&quot;: 0.7853981633974483, &quot;z&quot;: 3.141592653589793}], &quot;faces&quot;: [[0, 1, 2], [0, 3, 1], [0, 4, 3], [0, 5, 4], [0, 2, 5], [2, 1, 6, 7], [1, 3, 8, 6], [3, 4, 9, 8], [4, 5, 10, 9], [5, 2, 7, 10], [7, 6, 11], [6, 8, 11], [8, 9, 11], [9, 10, 11], [10, 7, 11]], &quot;color&quot;: &quot;#004575&quot;, &quot;opacity&quot;: 1.0}, {&quot;vertices&quot;: [{&quot;x&quot;: 2.4344858724032457, &quot;y&quot;: 0.9621748586940851, &quot;z&quot;: 3.141592653589793}, {&quot;x&quot;: 2.5256583288759638, &quot;y&quot;: 0.9557851782793677, &quot;z&quot;: 3.1670240350884087}, {&quot;x&quot;: 2.528857520945737, &quot;y&quot;: 0.9685819465584622, &quot;z&quot;: 3.1343165848387033}, {&quot;x&quot;: 2.5171252573130185, &quot;y&quot;: 0.921652892027587, &quot;z&quot;: 3.1645861804878925}, {&quot;x&quot;: 2.515050721128457, &quot;y&quot;: 0.9133547472893404, &quot;z&quot;: 3.130372053235438}, {&quot;x&quot;: 2.5223016588184515, &quot;y&quot;: 0.9423584980493185, &quot;z&quot;: 3.1116644142985233}, {&quot;x&quot;: 2.5217986974163256, &quot;y&quot;: 0.9403466524408152, &quot;z&quot;: 3.141592653589793}], &quot;faces&quot;: [[0, 1, 2], [0, 3, 1], [0, 4, 3], [0, 5, 4], [0, 2, 5], [2, 1, 6], [1, 3, 6], [3, 4, 6], [4, 5, 6], [5, 2, 6]], &quot;color&quot;: &quot;#004575&quot;, &quot;opacity&quot;: 1.0}, {&quot;vertices&quot;: [{&quot;x&quot;: 3.768200987586348, &quot;y&quot;: 1.257492159796619, &quot;z&quot;: 4.289750458559175e-17}, {&quot;x&quot;: 3.7713391685964384, &quot;y&quot;: 1.2637685218167993, &quot;z&quot;: -0.0071245420722702525}, {&quot;x&quot;: 3.772200987586348, &quot;y&quot;: 1.265492159796619, &quot;z&quot;: 0.004472135954999622}, {&quot;x&quot;: 3.7661404901134334, &quot;y&quot;: 1.2533711648507895, &quot;z&quot;: -0.008875345109941188}, {&quot;x&quot;: 3.7637893491042633, &quot;y&quot;: 1.2486688828324497, &quot;z&quot;: 0.0016392771324414829}, {&quot;x&quot;: 3.767534942531258, &quot;y&quot;: 1.256160069686438, &quot;z&quot;: 0.009888474094770549}, {&quot;x&quot;: 3.144730834599883, &quot;y&quot;: 1.5770726888150768, &quot;z&quot;: -0.007124542072270295}, {&quot;x&quot;: 3.145592653589793, &quot;y&quot;: 1.5787963267948966, &quot;z&quot;: 0.00447213595499958}, {&quot;x&quot;: 3.139532156116878, &quot;y&quot;: 1.566675331849067, &quot;z&quot;: -0.008875345109941231}, {&quot;x&quot;: 3.1371810151077084, &quot;y&quot;: 1.5619730498307272, &quot;z&quot;: 0.00163927713244144}, {&quot;x&quot;: 3.1409266085347025, &quot;y&quot;: 1.5694642366847156, &quot;z&quot;: 0.009888474094770505}, {&quot;x&quot;: 3.141592653589793, &quot;y&quot;: 1.5707963267948966, &quot;z&quot;: 0.0}], &quot;faces&quot;: [[0, 1, 2], [0, 3, 1], [0, 4, 3], [0, 5, 4], [0, 2, 5], [2, 1, 6, 7], [1, 3, 8, 6], [3, 4, 9, 8], [4, 5, 10, 9], [5, 2, 7, 10], [7, 6, 11], [6, 8, 11], [8, 9, 11], [9, 10, 11], [10, 7, 11]], &quot;color&quot;: &quot;#003595&quot;, &quot;opacity&quot;: 1.0}, {&quot;vertices&quot;: [{&quot;x&quot;: 3.8486994347763406, &quot;y&quot;: 1.2172429362016228, &quot;z&quot;: 4.8408415181754837e-17}, {&quot;x&quot;: 3.777615530616618, &quot;y&quot;: 1.2763212458571598, &quot;z&quot;: -0.021373626216810836}, {&quot;x&quot;: 3.780200987586348, &quot;y&quot;: 1.2814921597966191, &quot;z&quot;: 0.013416407864998781}, {&quot;x&quot;: 3.7620194951676034, &quot;y&quot;: 1.24512917495913, &quot;z&quot;: -0.02662603532982365}, {&quot;x&quot;: 3.754966072140094, &quot;y&quot;: 1.2310223289041107, &quot;z&quot;: 0.004917831397324359}, {&quot;x&quot;: 3.7662028524210767, &quot;y&quot;: 1.253495889466076, &quot;z&quot;: 0.029665422284311554}, {&quot;x&quot;: 3.768200987586348, &quot;y&quot;: 1.257492159796619, &quot;z&quot;: 4.289750458559175e-17}], &quot;faces&quot;: [[0, 1, 2], [0, 3, 1], [0, 4, 3], [0, 5, 4], [0, 2, 5], [2, 1, 6], [1, 3, 6], [3, 4, 6], [4, 5, 6], [5, 2, 6]], &quot;color&quot;: &quot;#003595&quot;, &quot;opacity&quot;: 1.0}, {&quot;vertices&quot;: [{&quot;x&quot;: 3.564170861995497, &quot;y&quot;: 1.3595072225920446, &quot;z&quot;: 0.9199089848188179}, {&quot;x&quot;: 3.5690539520099698, &quot;y&quot;: 1.3649111301100336, &quot;z&quot;: 0.9130567431821286}, {&quot;x&quot;: 3.567075567699029, &quot;y&quot;: 1.3680548697402786, &quot;z&quot;: 0.9242101954629455}, {&quot;x&quot;: 3.5642840718910342, &quot;y&quot;: 1.354299373961989, &quot;z&quot;: 0.9113728559440891}, {&quot;x&quot;: 3.5593577395443288, &quot;y&quot;: 1.350884687612417, &quot;z&quot;: 0.9214856086785754}, {&quot;x&quot;: 3.5610829788331224, &quot;y&quot;: 1.3593860515355056, &quot;z&quot;: 0.9294195208263509}, {&quot;x&quot;: 3.146475743604266, &quot;y&quot;: 1.5762002343128854, &quot;z&quot;: 0.7785459217607589}, {&quot;x&quot;: 3.144497359293325, &quot;y&quot;: 1.5793439739431305, &quot;z&quot;: 0.7896993740415759}, {&quot;x&quot;: 3.1417058634853303, &quot;y&quot;: 1.5655884781648408, &quot;z&quot;: 0.7768620345227194}, {&quot;x&quot;: 3.1367795311386253, &quot;y&quot;: 1.5621737918152687, &quot;z&quot;: 0.7869747872572058}, {&quot;x&quot;: 3.138504770427419, &quot;y&quot;: 1.5706751557383574, &quot;z&quot;: 0.7949086994049813}, {&quot;x&quot;: 3.141592653589793, &quot;y&quot;: 1.5707963267948966, &quot;z&quot;: 0.7853981633974483}], &quot;faces&quot;: [[0, 1, 2], [0, 3, 1], [0, 4, 3], [0, 5, 4], [0, 2, 5], [2, 1, 6, 7], [1, 3, 8, 6], [3, 4, 9, 8], [4, 5, 10, 9], [5, 2, 7, 10], [7, 6, 11], [6, 8, 11], [8, 9, 11], [9, 10, 11], [10, 7, 11]], &quot;color&quot;: &quot;#006b28&quot;, &quot;opacity&quot;: 1.0}, {&quot;vertices&quot;: [{&quot;x&quot;: 3.6415926535897936, &quot;y&quot;: 1.3207963267948963, &quot;z&quot;: 0.9445531064893435}, {&quot;x&quot;: 3.5788201320389157, &quot;y&quot;: 1.375718945146011, &quot;z&quot;: 0.8993522599087498}, {&quot;x&quot;: 3.5728849791060937, &quot;y&quot;: 1.3851501640367463, &quot;z&quot;: 0.9328126167512006}, {&quot;x&quot;: 3.5645104916821087, &quot;y&quot;: 1.3438836767018774, &quot;z&quot;: 0.8943005981946315}, {&quot;x&quot;: 3.549731494641993, &quot;y&quot;: 1.333639617653161, &quot;z&quot;: 0.9246388563980906}, {&quot;x&quot;: 3.554907212508374, &quot;y&quot;: 1.359143709422427, &quot;z&quot;: 0.948440592841417}, {&quot;x&quot;: 3.564170861995497, &quot;y&quot;: 1.3595072225920446, &quot;z&quot;: 0.9199089848188179}], &quot;faces&quot;: [[0, 1, 2], [0, 3, 1], [0, 4, 3], [0, 5, 4], [0, 2, 5], [2, 1, 6], [1, 3, 6], [3, 4, 6], [4, 5, 6], [5, 2, 6]], &quot;color&quot;: &quot;#006b28&quot;, &quot;opacity&quot;: 1.0}, {&quot;vertices&quot;: [{&quot;x&quot;: 3.141592653589793, &quot;y&quot;: 1.5707963267948966, &quot;z&quot;: 1.7058754058341732}, {&quot;x&quot;: 3.151103218752745, &quot;y&quot;: 1.5738864967386461, &quot;z&quot;: 1.7058754058341732}, {&quot;x&quot;: 3.141592653589793, &quot;y&quot;: 1.5807963267948966, &quot;z&quot;: 1.7058754058341732}, {&quot;x&quot;: 3.1474705061127177, &quot;y&quot;: 1.562706156851147, &quot;z&quot;: 1.7058754058341732}, {&quot;x&quot;: 3.1357148010668685, &quot;y&quot;: 1.562706156851147, &quot;z&quot;: 1.7058754058341732}, {&quot;x&quot;: 3.1320820884268414, &quot;y&quot;: 1.5738864967386461, &quot;z&quot;: 1.7058754058341732}, {&quot;x&quot;: 3.151103218752745, &quot;y&quot;: 1.5738864967386461, &quot;z&quot;: 1.5707963267948966}, {&quot;x&quot;: 3.141592653589793, &quot;y&quot;: 1.5807963267948966, &quot;z&quot;: 1.5707963267948966}, {&quot;x&quot;: 3.1474705061127177, &quot;y&quot;: 1.562706156851147, &quot;z&quot;: 1.5707963267948966}, {&quot;x&quot;: 3.1357148010668685, &quot;y&quot;: 1.562706156851147, &quot;z&quot;: 1.5707963267948966}, {&quot;x&quot;: 3.1320820884268414, &quot;y&quot;: 1.5738864967386461, &quot;z&quot;: 1.5707963267948966}, {&quot;x&quot;: 3.141592653589793, &quot;y&quot;: 1.5707963267948966, &quot;z&quot;: 1.5707963267948966}], &quot;faces&quot;: [[0, 1, 2], [0, 3, 1], [0, 4, 3], [0, 5, 4], [0, 2, 5], [2, 1, 6, 7], [1, 3, 8, 6], [3, 4, 9, 8], [4, 5, 10, 9], [5, 2, 7, 10], [7, 6, 11], [6, 8, 11], [8, 9, 11], [9, 10, 11], [10, 7, 11]], &quot;color&quot;: &quot;#8d3900&quot;, &quot;opacity&quot;: 1.0}, {&quot;vertices&quot;: [{&quot;x&quot;: 3.141592653589793, &quot;y&quot;: 1.5707963267948966, &quot;z&quot;: 1.7958754058341733}, {&quot;x&quot;: 3.1701243490786477, &quot;y&quot;: 1.580066836626145, &quot;z&quot;: 1.7058754058341732}, {&quot;x&quot;: 3.141592653589793, &quot;y&quot;: 1.6007963267948966, &quot;z&quot;: 1.7058754058341732}, {&quot;x&quot;: 3.1592262111585674, &quot;y&quot;: 1.5465258169636482, &quot;z&quot;: 1.7058754058341732}, {&quot;x&quot;: 3.123959096021019, &quot;y&quot;: 1.5465258169636482, &quot;z&quot;: 1.7058754058341732}, {&quot;x&quot;: 3.1130609581009385, &quot;y&quot;: 1.580066836626145, &quot;z&quot;: 1.7058754058341732}, {&quot;x&quot;: 3.141592653589793, &quot;y&quot;: 1.5707963267948966, &quot;z&quot;: 1.7058754058341732}], &quot;faces&quot;: [[0, 1, 2], [0, 3, 1], [0, 4, 3], [0, 5, 4], [0, 2, 5], [2, 1, 6], [1, 3, 6], [3, 4, 6], [4, 5, 6], [5, 2, 6]], &quot;color&quot;: &quot;#8d3900&quot;, &quot;opacity&quot;: 1.0}, {&quot;vertices&quot;: [{&quot;x&quot;: 2.719014445184089, &quot;y&quot;: 1.7820854309977485, &quot;z&quot;: 2.4907053116137146}, {&quot;x&quot;: 2.7238975351985624, &quot;y&quot;: 1.7874893385157373, &quot;z&quot;: 2.4975575532504037}, {&quot;x&quot;: 2.7219191508876217, &quot;y&quot;: 1.7906330781459823, &quot;z&quot;: 2.4864041009695868}, {&quot;x&quot;: 2.719127655079627, &quot;y&quot;: 1.7768775823676928, &quot;z&quot;: 2.499241440488443}, {&quot;x&quot;: 2.7142013227329214, &quot;y&quot;: 1.7734628960181205, &quot;z&quot;: 2.489128687753957}, {&quot;x&quot;: 2.715926562021715, &quot;y&quot;: 1.7819642599412093, &quot;z&quot;: 2.4811947756061814}, {&quot;x&quot;: 3.146475743604266, &quot;y&quot;: 1.5762002343128854, &quot;z&quot;: 2.363046731829034}, {&quot;x&quot;: 3.144497359293325, &quot;y&quot;: 1.5793439739431305, &quot;z&quot;: 2.3518932795482175}, {&quot;x&quot;: 3.1417058634853303, &quot;y&quot;: 1.5655884781648408, &quot;z&quot;: 2.364730619067074}, {&quot;x&quot;: 3.1367795311386253, &quot;y&quot;: 1.5621737918152687, &quot;z&quot;: 2.354617866332587}, {&quot;x&quot;: 3.138504770427419, &quot;y&quot;: 1.5706751557383574, &quot;z&quot;: 2.3466839541848117}, {&quot;x&quot;: 3.141592653589793, &quot;y&quot;: 1.5707963267948966, &quot;z&quot;: 2.356194490192345}], &quot;faces&quot;: [[0, 1, 2], [0, 3, 1], [0, 4, 3], [0, 5, 4], [0, 2, 5], [2, 1, 6, 7], [1, 3, 8, 6], [3, 4, 9, 8], [4, 5, 10, 9], [5, 2, 7, 10], [7, 6, 11], [6, 8, 11], [8, 9, 11], [9, 10, 11], [10, 7, 11]], &quot;color&quot;: &quot;#006b28&quot;, &quot;opacity&quot;: 1.0}, {&quot;vertices&quot;: [{&quot;x&quot;: 2.6415926535897927, &quot;y&quot;: 1.8207963267948968, &quot;z&quot;: 2.51534943328424}, {&quot;x&quot;: 2.733663715227508, &quot;y&quot;: 1.798297153551715, &quot;z&quot;: 2.5112620365237825}, {&quot;x&quot;: 2.727728562294686, &quot;y&quot;: 1.8077283724424502, &quot;z&quot;: 2.477801679681332}, {&quot;x&quot;: 2.719354074870701, &quot;y&quot;: 1.7664618851075813, &quot;z&quot;: 2.516313698237901}, {&quot;x&quot;: 2.7045750778305853, &quot;y&quot;: 1.756217826058865, &quot;z&quot;: 2.485975440034442}, {&quot;x&quot;: 2.709750795696966, &quot;y&quot;: 1.781721917828131, &quot;z&quot;: 2.4621737035911155}, {&quot;x&quot;: 2.719014445184089, &quot;y&quot;: 1.7820854309977485, &quot;z&quot;: 2.4907053116137146}], &quot;faces&quot;: [[0, 1, 2], [0, 3, 1], [0, 4, 3], [0, 5, 4], [0, 2, 5], [2, 1, 6], [1, 3, 6], [3, 4, 6], [4, 5, 6], [5, 2, 6]], &quot;color&quot;: &quot;#006b28&quot;, &quot;opacity&quot;: 1.0}, {&quot;vertices&quot;: [{&quot;x&quot;: 2.514984319593238, &quot;y&quot;: 1.884100493793174, &quot;z&quot;: 3.141592653589793}, {&quot;x&quot;: 2.518122500603328, &quot;y&quot;: 1.8903768558133542, &quot;z&quot;: 3.1487171956620634}, {&quot;x&quot;: 2.518984319593238, &quot;y&quot;: 1.892100493793174, &quot;z&quot;: 3.1371205176347936}, {&quot;x&quot;: 2.512923822120323, &quot;y&quot;: 1.8799794988473444, &quot;z&quot;: 3.1504679986997344}, {&quot;x&quot;: 2.5105726811111535, &quot;y&quot;: 1.8752772168290046, &quot;z&quot;: 3.1399533764573517}, {&quot;x&quot;: 2.5143182745381476, &quot;y&quot;: 1.882768403682993, &quot;z&quot;: 3.1317041794950224}, {&quot;x&quot;: 3.144730834599883, &quot;y&quot;: 1.5770726888150768, &quot;z&quot;: 3.1487171956620634}, {&quot;x&quot;: 3.145592653589793, &quot;y&quot;: 1.5787963267948966, &quot;z&quot;: 3.1371205176347936}, {&quot;x&quot;: 3.139532156116878, &quot;y&quot;: 1.566675331849067, &quot;z&quot;: 3.1504679986997344}, {&quot;x&quot;: 3.1371810151077084, &quot;y&quot;: 1.5619730498307272, &quot;z&quot;: 3.1399533764573517}, {&quot;x&quot;: 3.1409266085347025, &quot;y&quot;: 1.5694642366847156, &quot;z&quot;: 3.1317041794950224}, {&quot;x&quot;: 3.141592653589793, &quot;y&quot;: 1.5707963267948966, &quot;z&quot;: 3.141592653589793}], &quot;faces&quot;: [[0, 1, 2], [0, 3, 1], [0, 4, 3], [0, 5, 4], [0, 2, 5], [2, 1, 6, 7], [1, 3, 8, 6], [3, 4, 9, 8], [4, 5, 10, 9], [5, 2, 7, 10], [7, 6, 11], [6, 8, 11], [8, 9, 11], [9, 10, 11], [10, 7, 11]], &quot;color&quot;: &quot;#003595&quot;, &quot;opacity&quot;: 1.0}, {&quot;vertices&quot;: [{&quot;x&quot;: 2.4344858724032457, &quot;y&quot;: 1.9243497173881703, &quot;z&quot;: 3.141592653589793}, {&quot;x&quot;: 2.5243988626235083, &quot;y&quot;: 1.9029295798537147, &quot;z&quot;: 3.162966279806604}, {&quot;x&quot;: 2.526984319593238, &quot;y&quot;: 1.908100493793174, &quot;z&quot;: 3.1281762457247946}, {&quot;x&quot;: 2.5088028271744935, &quot;y&quot;: 1.871737508955685, &quot;z&quot;: 3.168218688919617}, {&quot;x&quot;: 2.501749404146984, &quot;y&quot;: 1.8576306629006656, &quot;z&quot;: 3.136674822192469}, {&quot;x&quot;: 2.512986184427967, &quot;y&quot;: 1.8801042234626308, &quot;z&quot;: 3.1119272313054815}, {&quot;x&quot;: 2.514984319593238, &quot;y&quot;: 1.884100493793174, &quot;z&quot;: 3.141592653589793}], &quot;faces&quot;: [[0, 1, 2], [0, 3, 1], [0, 4, 3], [0, 5, 4], [0, 2, 5], [2, 1, 6], [1, 3, 6], [3, 4, 6], [4, 5, 6], [5, 2, 6]], &quot;color&quot;: &quot;#003595&quot;, &quot;opacity&quot;: 1.0}, {&quot;vertices&quot;: [{&quot;x&quot;: 3.7766994347763405, &quot;y&quot;: 1.8798644043024342, &quot;z&quot;: 4.861134291855524e-17}, {&quot;x&quot;: 3.781606519808003, &quot;y&quot;: 1.8864071843446506, &quot;z&quot;: -0.005754350164111496}, {&quot;x&quot;: 3.7814994347763404, &quot;y&quot;: 1.8862644043024344, &quot;z&quot;: 0.006000000000000049}, {&quot;x&quot;: 3.774932180111594, &quot;y&quot;: 1.8775080647494384, &quot;z&quot;: -0.009556383984589422}, {&quot;x&quot;: 3.770700126295088, &quot;y&quot;: 1.8718653263274307, &quot;z&quot;: -0.00015181994790985137}, {&quot;x&quot;: 3.774758912890678, &quot;y&quot;: 1.8772770417882172, &quot;z&quot;: 0.009462554096610962}, {&quot;x&quot;: 3.1464997386214555, &quot;y&quot;: 2.362737270234561, &quot;z&quot;: -0.005754350164111545}, {&quot;x&quot;: 3.146392653589793, &quot;y&quot;: 2.362594490192345, &quot;z&quot;: 0.006}, {&quot;x&quot;: 3.1398253989250464, &quot;y&quot;: 2.353838150639349, &quot;z&quot;: -0.00955638398458947}, {&quot;x&quot;: 3.1355933451085405, &quot;y&quot;: 2.348195412217341, &quot;z&quot;: -0.00015181994790989996}, {&quot;x&quot;: 3.13965213170413, &quot;y&quot;: 2.353607127678128, &quot;z&quot;: 0.009462554096610913}, {&quot;x&quot;: 3.141592653589793, &quot;y&quot;: 2.356194490192345, &quot;z&quot;: 0.0}], &quot;faces&quot;: [[0, 1, 2], [0, 3, 1], [0, 4, 3], [0, 5, 4], [0, 2, 5], [2, 1, 6, 7], [1, 3, 8, 6], [3, 4, 9, 8], [4, 5, 10, 9], [5, 2, 7, 10], [7, 6, 11], [6, 8, 11], [8, 9, 11], [9, 10, 11], [10, 7, 11]], &quot;color&quot;: &quot;#001dc5&quot;, &quot;opacity&quot;: 1.0}, {&quot;vertices&quot;: [{&quot;x&quot;: 3.8486994347763406, &quot;y&quot;: 1.8258644043024341, &quot;z&quot;: 5.412225351471833e-17}, {&quot;x&quot;: 3.7914206898713276, &quot;y&quot;: 1.8994927444290834, &quot;z&quot;: -0.01726305049233458}, {&quot;x&quot;: 3.7910994347763407, &quot;y&quot;: 1.8990644043024343, &quot;z&quot;: 0.018000000000000047}, {&quot;x&quot;: 3.7713976707821, &quot;y&quot;: 1.8727953856434467, &quot;z&quot;: -0.02866915195376836}, {&quot;x&quot;: 3.7587015093325826, &quot;y&quot;: 1.8558671703774237, &quot;z&quot;: -0.0004554598437296556}, {&quot;x&quot;: 3.770877869119352, &quot;y&quot;: 1.872102316759783, &quot;z&quot;: 0.028387662289832787}, {&quot;x&quot;: 3.7766994347763405, &quot;y&quot;: 1.8798644043024342, &quot;z&quot;: 4.861134291855524e-17}], &quot;faces&quot;: [[0, 1, 2], [0, 3, 1], [0, 4, 3], [0, 5, 4], [0, 2, 5], [2, 1, 6], [1, 3, 6], [3, 4, 6], [4, 5, 6], [5, 2, 6]], &quot;color&quot;: &quot;#001dc5&quot;, &quot;opacity&quot;: 1.0}, {&quot;vertices&quot;: [{&quot;x&quot;: 3.5718193663027438, &quot;y&quot;: 2.033524455657632, &quot;z&quot;: 0.922343579354334}, {&quot;x&quot;: 3.5778624637443097, &quot;y&quot;: 2.0392152263924204, &quot;z&quot;: 0.9167671914772391}, {&quot;x&quot;: 3.5754348581888764, &quot;y&quot;: 2.040812836743032, &quot;z&quot;: 0.9281580199615882}, {&quot;x&quot;: 3.5719387140328265, &quot;y&quot;: 2.029753164308514, &quot;z&quot;: 0.9130827415045824}, {&quot;x&quot;: 3.5658500298148486, &quot;y&quot;: 2.02550289868761, &quot;z&quot;: 0.9221964546759809}, {&quot;x&quot;: 3.5680107657328572, &quot;y&quot;: 2.0323381521565826, &quot;z&quot;: 0.9315134891522796}, {&quot;x&quot;: 3.147635751031359, &quot;y&quot;: 2.3618852609271332, &quot;z&quot;: 0.7798217755203534}, {&quot;x&quot;: 3.1452081454759258, &quot;y&quot;: 2.3634828712777454, &quot;z&quot;: 0.7912126040047024}, {&quot;x&quot;: 3.141712001319876, &quot;y&quot;: 2.352423198843227, &quot;z&quot;: 0.7761373255476967}, {&quot;x&quot;: 3.1356233171018983, &quot;y&quot;: 2.348172933222323, &quot;z&quot;: 0.7852510387190952}, {&quot;x&quot;: 3.1377840530199066, &quot;y&quot;: 2.3550081866912955, &quot;z&quot;: 0.7945680731953938}, {&quot;x&quot;: 3.141592653589793, &quot;y&quot;: 2.356194490192345, &quot;z&quot;: 0.7853981633974483}], &quot;faces&quot;: [[0, 1, 2], [0, 3, 1], [0, 4, 3], [0, 5, 4], [0, 2, 5], [2, 1, 6, 7], [1, 3, 8, 6], [3, 4, 9, 8], [4, 5, 10, 9], [5, 2, 7, 10], [7, 6, 11], [6, 8, 11], [8, 9, 11], [9, 10, 11], [10, 7, 11]], &quot;color&quot;: &quot;#005a4b&quot;, &quot;opacity&quot;: 1.0}, {&quot;vertices&quot;: [{&quot;x&quot;: 3.641592653589793, &quot;y&quot;: 1.9811944901923448, &quot;z&quot;: 0.9445531064893437}, {&quot;x&quot;: 3.589948658627442, &quot;y&quot;: 2.0505967678619976, &quot;z&quot;: 0.9056144157230492}, {&quot;x&quot;: 3.582665841961142, &quot;y&quot;: 2.055389598913833, &quot;z&quot;: 0.9397869011760963}, {&quot;x&quot;: 3.5721774094929915, &quot;y&quot;: 2.0222105816102784, &quot;z&quot;: 0.894561065805079}, {&quot;x&quot;: 3.553911356839059, &quot;y&quot;: 2.0094597847475666, &quot;z&quot;: 0.9219022053192747}, {&quot;x&quot;: 3.5603935645930838, &quot;y&quot;: 2.0299655451544845, &quot;z&quot;: 0.9498533087481706}, {&quot;x&quot;: 3.5718193663027438, &quot;y&quot;: 2.033524455657632, &quot;z&quot;: 0.922343579354334}], &quot;faces&quot;: [[0, 1, 2], [0, 3, 1], [0, 4, 3], [0, 5, 4], [0, 2, 5], [2, 1, 6], [1, 3, 6], [3, 4, 6], [4, 5, 6], [5, 2, 6]], &quot;color&quot;: &quot;#005a4b&quot;, &quot;opacity&quot;: 1.0}, {&quot;vertices&quot;: [{&quot;x&quot;: 3.141592653589793, &quot;y&quot;: 2.356194490192345, &quot;z&quot;: 1.7058754058341732}, {&quot;x&quot;: 3.151103218752745, &quot;y&quot;: 2.3592846601360944, &quot;z&quot;: 1.7058754058341732}, {&quot;x&quot;: 3.141592653589793, &quot;y&quot;: 2.3661944901923446, &quot;z&quot;: 1.7058754058341732}, {&quot;x&quot;: 3.1474705061127177, &quot;y&quot;: 2.3481043202485954, &quot;z&quot;: 1.7058754058341732}, {&quot;x&quot;: 3.1357148010668685, &quot;y&quot;: 2.3481043202485954, &quot;z&quot;: 1.7058754058341732}, {&quot;x&quot;: 3.1320820884268414, &quot;y&quot;: 2.3592846601360944, &quot;z&quot;: 1.7058754058341732}, {&quot;x&quot;: 3.151103218752745, &quot;y&quot;: 2.3592846601360944, &quot;z&quot;: 1.5707963267948966}, {&quot;x&quot;: 3.141592653589793, &quot;y&quot;: 2.3661944901923446, &quot;z&quot;: 1.5707963267948966}, {&quot;x&quot;: 3.1474705061127177, &quot;y&quot;: 2.3481043202485954, &quot;z&quot;: 1.5707963267948966}, {&quot;x&quot;: 3.1357148010668685, &quot;y&quot;: 2.3481043202485954, &quot;z&quot;: 1.5707963267948966}, {&quot;x&quot;: 3.1320820884268414, &quot;y&quot;: 2.3592846601360944, &quot;z&quot;: 1.5707963267948966}, {&quot;x&quot;: 3.141592653589793, &quot;y&quot;: 2.356194490192345, &quot;z&quot;: 1.5707963267948966}], &quot;faces&quot;: [[0, 1, 2], [0, 3, 1], [0, 4, 3], [0, 5, 4], [0, 2, 5], [2, 1, 6, 7], [1, 3, 8, 6], [3, 4, 9, 8], [4, 5, 10, 9], [5, 2, 7, 10], [7, 6, 11], [6, 8, 11], [8, 9, 11], [9, 10, 11], [10, 7, 11]], &quot;color&quot;: &quot;#8d3900&quot;, &quot;opacity&quot;: 1.0}, {&quot;vertices&quot;: [{&quot;x&quot;: 3.141592653589793, &quot;y&quot;: 2.356194490192345, &quot;z&quot;: 1.7958754058341733}, {&quot;x&quot;: 3.1701243490786477, &quot;y&quot;: 2.365465000023593, &quot;z&quot;: 1.7058754058341732}, {&quot;x&quot;: 3.141592653589793, &quot;y&quot;: 2.3861944901923446, &quot;z&quot;: 1.7058754058341732}, {&quot;x&quot;: 3.1592262111585674, &quot;y&quot;: 2.3319239803610965, &quot;z&quot;: 1.7058754058341732}, {&quot;x&quot;: 3.123959096021019, &quot;y&quot;: 2.3319239803610965, &quot;z&quot;: 1.7058754058341732}, {&quot;x&quot;: 3.1130609581009385, &quot;y&quot;: 2.365465000023593, &quot;z&quot;: 1.7058754058341732}, {&quot;x&quot;: 3.141592653589793, &quot;y&quot;: 2.356194490192345, &quot;z&quot;: 1.7058754058341732}], &quot;faces&quot;: [[0, 1, 2], [0, 3, 1], [0, 4, 3], [0, 5, 4], [0, 2, 5], [2, 1, 6], [1, 3, 6], [3, 4, 6], [4, 5, 6], [5, 2, 6]], &quot;color&quot;: &quot;#8d3900&quot;, &quot;opacity&quot;: 1.0}, {&quot;vertices&quot;: [{&quot;x&quot;: 2.7113659408768425, &quot;y&quot;: 2.6788645247270577, &quot;z&quot;: 2.4931399061492305}, {&quot;x&quot;: 2.717409038318409, &quot;y&quot;: 2.684555295461846, &quot;z&quot;: 2.4987162940263254}, {&quot;x&quot;: 2.7149814327629755, &quot;y&quot;: 2.6861529058124582, &quot;z&quot;: 2.4873254655419763}, {&quot;x&quot;: 2.711485288606925, &quot;y&quot;: 2.67509323337794, &quot;z&quot;: 2.502400743998982}, {&quot;x&quot;: 2.7053966043889477, &quot;y&quot;: 2.670842967757036, &quot;z&quot;: 2.4932870308275836}, {&quot;x&quot;: 2.707557340306956, &quot;y&quot;: 2.6776782212260084, &quot;z&quot;: 2.483969996351285}, {&quot;x&quot;: 3.147635751031359, &quot;y&quot;: 2.3618852609271332, &quot;z&quot;: 2.3617708780694397}, {&quot;x&quot;: 3.1452081454759258, &quot;y&quot;: 2.3634828712777454, &quot;z&quot;: 2.3503800495850906}, {&quot;x&quot;: 3.141712001319876, &quot;y&quot;: 2.352423198843227, &quot;z&quot;: 2.3654553280420965}, {&quot;x&quot;: 3.1356233171018983, &quot;y&quot;: 2.348172933222323, &quot;z&quot;: 2.356341614870698}, {&quot;x&quot;: 3.1377840530199066, &quot;y&quot;: 2.3550081866912955, &quot;z&quot;: 2.3470245803943994}, {&quot;x&quot;: 3.141592653589793, &quot;y&quot;: 2.356194490192345, &quot;z&quot;: 2.356194490192345}], &quot;faces&quot;: [[0, 1, 2], [0, 3, 1], [0, 4, 3], [0, 5, 4], [0, 2, 5], [2, 1, 6, 7], [1, 3, 8, 6], [3, 4, 9, 8], [4, 5, 10, 9], [5, 2, 7, 10], [7, 6, 11], [6, 8, 11], [8, 9, 11], [9, 10, 11], [10, 7, 11]], &quot;color&quot;: &quot;#005a4b&quot;, &quot;opacity&quot;: 1.0}, {&quot;vertices&quot;: [{&quot;x&quot;: 2.641592653589793, &quot;y&quot;: 2.731194490192345, &quot;z&quot;: 2.51534943328424}, {&quot;x&quot;: 2.7294952332015407, &quot;y&quot;: 2.6959368369314234, &quot;z&quot;: 2.5098690697805153}, {&quot;x&quot;: 2.722212416535241, &quot;y&quot;: 2.700729667983259, &quot;z&quot;: 2.4756965843274683}, {&quot;x&quot;: 2.71172398406709, &quot;y&quot;: 2.667550650679704, &quot;z&quot;: 2.5209224196984854}, {&quot;x&quot;: 2.6934579314131577, &quot;y&quot;: 2.6547998538169923, &quot;z&quot;: 2.49358128018429}, {&quot;x&quot;: 2.6999401391671825, &quot;y&quot;: 2.6753056142239102, &quot;z&quot;: 2.465630176755394}, {&quot;x&quot;: 2.7113659408768425, &quot;y&quot;: 2.6788645247270577, &quot;z&quot;: 2.4931399061492305}], &quot;faces&quot;: [[0, 1, 2], [0, 3, 1], [0, 4, 3], [0, 5, 4], [0, 2, 5], [2, 1, 6], [1, 3, 6], [3, 4, 6], [4, 5, 6], [5, 2, 6]], &quot;color&quot;: &quot;#005a4b&quot;, &quot;opacity&quot;: 1.0}, {&quot;vertices&quot;: [{&quot;x&quot;: 2.5064858724032457, &quot;y&quot;: 2.8325245760822555, &quot;z&quot;: 3.141592653589793}, {&quot;x&quot;: 2.511392957434908, &quot;y&quot;: 2.8390673561244717, &quot;z&quot;: 3.1473470037539046}, {&quot;x&quot;: 2.5112858724032456, &quot;y&quot;: 2.8389245760822552, &quot;z&quot;: 3.1355926535897933}, {&quot;x&quot;: 2.504718617738499, &quot;y&quot;: 2.8301682365292598, &quot;z&quot;: 3.1511490375743825}, {&quot;x&quot;: 2.500486563921993, &quot;y&quot;: 2.824525498107252, &quot;z&quot;: 3.141744473537703}, {&quot;x&quot;: 2.5045453505175828, &quot;y&quot;: 2.8299372135680385, &quot;z&quot;: 3.132130099493182}, {&quot;x&quot;: 3.1464997386214555, &quot;y&quot;: 2.362737270234561, &quot;z&quot;: 3.1473470037539046}, {&quot;x&quot;: 3.146392653589793, &quot;y&quot;: 2.362594490192345, &quot;z&quot;: 3.1355926535897933}, {&quot;x&quot;: 3.1398253989250464, &quot;y&quot;: 2.353838150639349, &quot;z&quot;: 3.1511490375743825}, {&quot;x&quot;: 3.1355933451085405, &quot;y&quot;: 2.348195412217341, &quot;z&quot;: 3.141744473537703}, {&quot;x&quot;: 3.13965213170413, &quot;y&quot;: 2.353607127678128, &quot;z&quot;: 3.132130099493182}, {&quot;x&quot;: 3.141592653589793, &quot;y&quot;: 2.356194490192345, &quot;z&quot;: 3.141592653589793}], &quot;faces&quot;: [[0, 1, 2], [0, 3, 1], [0, 4, 3], [0, 5, 4], [0, 2, 5], [2, 1, 6, 7], [1, 3, 8, 6], [3, 4, 9, 8], [4, 5, 10, 9], [5, 2, 7, 10], [7, 6, 11], [6, 8, 11], [8, 9, 11], [9, 10, 11], [10, 7, 11]], &quot;color&quot;: &quot;#001dc5&quot;, &quot;opacity&quot;: 1.0}, {&quot;vertices&quot;: [{&quot;x&quot;: 2.4344858724032457, &quot;y&quot;: 2.8865245760822553, &quot;z&quot;: 3.141592653589793}, {&quot;x&quot;: 2.521207127498233, &quot;y&quot;: 2.8521529162089045, &quot;z&quot;: 3.1588557040821277}, {&quot;x&quot;: 2.520885872403246, &quot;y&quot;: 2.8517245760822556, &quot;z&quot;: 3.1235926535897933}, {&quot;x&quot;: 2.501184108409005, &quot;y&quot;: 2.8254555574232683, &quot;z&quot;: 3.1702618055435616}, {&quot;x&quot;: 2.488487946959488, &quot;y&quot;: 2.808527342157245, &quot;z&quot;: 3.142048113433523}, {&quot;x&quot;: 2.5006643067462573, &quot;y&quot;: 2.824762488539604, &quot;z&quot;: 3.1132049912999604}, {&quot;x&quot;: 2.5064858724032457, &quot;y&quot;: 2.8325245760822555, &quot;z&quot;: 3.141592653589793}], &quot;faces&quot;: [[0, 1, 2], [0, 3, 1], [0, 4, 3], [0, 5, 4], [0, 2, 5], [2, 1, 6], [1, 3, 6], [3, 4, 6], [4, 5, 6], [5, 2, 6]], &quot;color&quot;: &quot;#001dc5&quot;, &quot;opacity&quot;: 1.0}, {&quot;vertices&quot;: [{&quot;x&quot;: 3.7850598244695512, &quot;y&quot;: 2.498125482710035, &quot;z&quot;: 5.572142936120457e-17}, {&quot;x&quot;: 3.7913601920229016, &quot;y&quot;: 2.5044258502633854, &quot;z&quot;: -0.004539904997395414}, {&quot;x&quot;: 3.7900598244695516, &quot;y&quot;: 2.503125482710035, &quot;z&quot;: 0.007071067811865532}, {&quot;x&quot;: 3.783953665759139, &quot;y&quot;: 2.4970193239996226, &quot;z&quot;: -0.009876883405951324}, {&quot;x&quot;: 3.778075813236214, &quot;y&quot;: 2.4911414714766975, &quot;z&quot;: -0.001564344650402254}, {&quot;x&quot;: 3.7818496268599504, &quot;y&quot;: 2.4949152851004337, &quot;z&quot;: 0.008910065241883734}, {&quot;x&quot;: 3.1478930211431435, &quot;y&quot;: 3.1478930211431435, &quot;z&quot;: -0.004539904997395469}, {&quot;x&quot;: 3.146592653589793, &quot;y&quot;: 3.146592653589793, &quot;z&quot;: 0.007071067811865476}, {&quot;x&quot;: 3.1404864948793807, &quot;y&quot;: 3.1404864948793807, &quot;z&quot;: -0.00987688340595138}, {&quot;x&quot;: 3.134608642356456, &quot;y&quot;: 3.134608642356456, &quot;z&quot;: -0.0015643446504023098}, {&quot;x&quot;: 3.1383824559801923, &quot;y&quot;: 3.1383824559801923, &quot;z&quot;: 0.008910065241883678}, {&quot;x&quot;: 3.141592653589793, &quot;y&quot;: 3.141592653589793, &quot;z&quot;: 0.0}], &quot;faces&quot;: [[0, 1, 2], [0, 3, 1], [0, 4, 3], [0, 5, 4], [0, 2, 5], [2, 1, 6, 7], [1, 3, 8, 6], [3, 4, 9, 8], [4, 5, 10, 9], [5, 2, 7, 10], [7, 6, 11], [6, 8, 11], [8, 9, 11], [9, 10, 11], [10, 7, 11]], &quot;color&quot;: &quot;#0000ff&quot;, &quot;opacity&quot;: 1.0}, {&quot;vertices&quot;: [{&quot;x&quot;: 3.8486994347763406, &quot;y&quot;: 2.4344858724032457, &quot;z&quot;: 6.123233995736766e-17}, {&quot;x&quot;: 3.803960927129603, &quot;y&quot;: 2.5170265853700866, &quot;z&quot;: -0.013619714992186345}, {&quot;x&quot;: 3.8000598244695514, &quot;y&quot;: 2.513125482710035, &quot;z&quot;: 0.021213203435596482}, {&quot;x&quot;: 3.781741348338314, &quot;y&quot;: 2.4948070065787977, &quot;z&quot;: -0.029630650217854076}, {&quot;x&quot;: 3.7641077907695397, &quot;y&quot;: 2.4771734490100235, &quot;z&quot;: -0.004693033951206876}, {&quot;x&quot;: 3.7754292316407483, &quot;y&quot;: 2.488494889881232, &quot;z&quot;: 0.02673019572565109}, {&quot;x&quot;: 3.7850598244695512, &quot;y&quot;: 2.498125482710035, &quot;z&quot;: 5.572142936120457e-17}], &quot;faces&quot;: [[0, 1, 2], [0, 3, 1], [0, 4, 3], [0, 5, 4], [0, 2, 5], [2, 1, 6], [1, 3, 6], [3, 4, 6], [4, 5, 6], [5, 2, 6]], &quot;color&quot;: &quot;#0000ff&quot;, &quot;opacity&quot;: 1.0}, {&quot;vertices&quot;: [{&quot;x&quot;: 3.5795062805353988, &quot;y&quot;: 2.7036790266441875, &quot;z&quot;: 0.9247904001488351}, {&quot;x&quot;: 3.5865115613404557, &quot;y&quot;: 2.709274480945832, &quot;z&quot;: 0.9203612995628792}, {&quot;x&quot;: 3.5834083524053706, &quot;y&quot;: 2.7097769547742154, &quot;z&quot;: 0.9316888860437678}, {&quot;x&quot;: 3.5799337103036892, &quot;y&quot;: 2.701039279455072, &quot;z&quot;: 0.9151545795521896}, {&quot;x&quot;: 3.5727651658549493, &quot;y&quot;: 2.696452118857963, &quot;z&quot;: 0.9232642360965677}, {&quot;x&quot;: 3.57491261277253, &quot;y&quot;: 2.7018522991878546, &quot;z&quot;: 0.9334829994887711}, {&quot;x&quot;: 3.1485979343948496, &quot;y&quot;: 3.1471881078914374, &quot;z&quot;: 0.7809690628114924}, {&quot;x&quot;: 3.145494725459765, &quot;y&quot;: 3.1476905817198215, &quot;z&quot;: 0.792296649292381}, {&quot;x&quot;: 3.1420200833580836, &quot;y&quot;: 3.138952906400678, &quot;z&quot;: 0.7757623428008028}, {&quot;x&quot;: 3.1348515389093436, &quot;y&quot;: 3.1343657458035685, &quot;z&quot;: 0.7838719993451809}, {&quot;x&quot;: 3.136998985826924, &quot;y&quot;: 3.1397659261334603, &quot;z&quot;: 0.7940907627373843}, {&quot;x&quot;: 3.141592653589793, &quot;y&quot;: 3.141592653589793, &quot;z&quot;: 0.7853981633974483}], &quot;faces&quot;: [[0, 1, 2], [0, 3, 1], [0, 4, 3], [0, 5, 4], [0, 2, 5], [2, 1, 6, 7], [1, 3, 8, 6], [3, 4, 9, 8], [4, 5, 10, 9], [5, 2, 7, 10], [7, 6, 11], [6, 8, 11], [8, 9, 11], [9, 10, 11], [10, 7, 11]], &quot;color&quot;: &quot;#004673&quot;, &quot;opacity&quot;: 1.0}, {&quot;vertices&quot;: [{&quot;x&quot;: 3.641592653589793, &quot;y&quot;: 2.641592653589793, &quot;z&quot;: 0.9445531064893437}, {&quot;x&quot;: 3.6005221229505686, &quot;y&quot;: 2.720465389549121, &quot;z&quot;: 0.9115030983909674}, {&quot;x&quot;: 3.591212496145314, &quot;y&quot;: 2.7219728110342722, &quot;z&quot;: 0.9454858578336331}, {&quot;x&quot;: 3.58078856984027, &quot;y&quot;: 2.695759785076842, &quot;z&quot;: 0.8958829383588985}, {&quot;x&quot;: 3.55928293649405, &quot;y&quot;: 2.6819983032855137, &quot;z&quot;: 0.920211907992033}, {&quot;x&quot;: 3.5657252772467913, &quot;y&quot;: 2.698198844275189, &quot;z&quot;: 0.9508681981686431}, {&quot;x&quot;: 3.5795062805353988, &quot;y&quot;: 2.7036790266441875, &quot;z&quot;: 0.9247904001488351}], &quot;faces&quot;: [[0, 1, 2], [0, 3, 1], [0, 4, 3], [0, 5, 4], [0, 2, 5], [2, 1, 6], [1, 3, 6], [3, 4, 6], [4, 5, 6], [5, 2, 6]], &quot;color&quot;: &quot;#004673&quot;, &quot;opacity&quot;: 1.0}, {&quot;vertices&quot;: [{&quot;x&quot;: 3.141592653589793, &quot;y&quot;: 3.141592653589793, &quot;z&quot;: 1.7058754058341732}, {&quot;x&quot;: 3.151103218752745, &quot;y&quot;: 3.1446828235335427, &quot;z&quot;: 1.7058754058341732}, {&quot;x&quot;: 3.141592653589793, &quot;y&quot;: 3.151592653589793, &quot;z&quot;: 1.7058754058341732}, {&quot;x&quot;: 3.1474705061127177, &quot;y&quot;: 3.1335024836460437, &quot;z&quot;: 1.7058754058341732}, {&quot;x&quot;: 3.1357148010668685, &quot;y&quot;: 3.1335024836460437, &quot;z&quot;: 1.7058754058341732}, {&quot;x&quot;: 3.1320820884268414, &quot;y&quot;: 3.1446828235335427, &quot;z&quot;: 1.7058754058341732}, {&quot;x&quot;: 3.151103218752745, &quot;y&quot;: 3.1446828235335427, &quot;z&quot;: 1.5707963267948966}, {&quot;x&quot;: 3.141592653589793, &quot;y&quot;: 3.151592653589793, &quot;z&quot;: 1.5707963267948966}, {&quot;x&quot;: 3.1474705061127177, &quot;y&quot;: 3.1335024836460437, &quot;z&quot;: 1.5707963267948966}, {&quot;x&quot;: 3.1357148010668685, &quot;y&quot;: 3.1335024836460437, &quot;z&quot;: 1.5707963267948966}, {&quot;x&quot;: 3.1320820884268414, &quot;y&quot;: 3.1446828235335427, &quot;z&quot;: 1.5707963267948966}, {&quot;x&quot;: 3.141592653589793, &quot;y&quot;: 3.141592653589793, &quot;z&quot;: 1.5707963267948966}], &quot;faces&quot;: [[0, 1, 2], [0, 3, 1], [0, 4, 3], [0, 5, 4], [0, 2, 5], [2, 1, 6, 7], [1, 3, 8, 6], [3, 4, 9, 8], [4, 5, 10, 9], [5, 2, 7, 10], [7, 6, 11], [6, 8, 11], [8, 9, 11], [9, 10, 11], [10, 7, 11]], &quot;color&quot;: &quot;#8d3900&quot;, &quot;opacity&quot;: 1.0}, {&quot;vertices&quot;: [{&quot;x&quot;: 3.141592653589793, &quot;y&quot;: 3.141592653589793, &quot;z&quot;: 1.7958754058341733}, {&quot;x&quot;: 3.1701243490786477, &quot;y&quot;: 3.1508631634210413, &quot;z&quot;: 1.7058754058341732}, {&quot;x&quot;: 3.141592653589793, &quot;y&quot;: 3.171592653589793, &quot;z&quot;: 1.7058754058341732}, {&quot;x&quot;: 3.1592262111585674, &quot;y&quot;: 3.1173221437585448, &quot;z&quot;: 1.7058754058341732}, {&quot;x&quot;: 3.123959096021019, &quot;y&quot;: 3.1173221437585448, &quot;z&quot;: 1.7058754058341732}, {&quot;x&quot;: 3.1130609581009385, &quot;y&quot;: 3.1508631634210413, &quot;z&quot;: 1.7058754058341732}, {&quot;x&quot;: 3.141592653589793, &quot;y&quot;: 3.141592653589793, &quot;z&quot;: 1.7058754058341732}], &quot;faces&quot;: [[0, 1, 2], [0, 3, 1], [0, 4, 3], [0, 5, 4], [0, 2, 5], [2, 1, 6], [1, 3, 6], [3, 4, 6], [4, 5, 6], [5, 2, 6]], &quot;color&quot;: &quot;#8d3900&quot;, &quot;opacity&quot;: 1.0}, {&quot;vertices&quot;: [{&quot;x&quot;: 2.7036790266441875, &quot;y&quot;: 3.5795062805353988, &quot;z&quot;: 2.4955867269437317}, {&quot;x&quot;: 2.710684307449244, &quot;y&quot;: 3.5851017348370435, &quot;z&quot;: 2.5000158275296873}, {&quot;x&quot;: 2.7075810985141593, &quot;y&quot;: 3.585604208665427, &quot;z&quot;: 2.488688241048799}, {&quot;x&quot;: 2.704106456412478, &quot;y&quot;: 3.5768665333462835, &quot;z&quot;: 2.5052225475403773}, {&quot;x&quot;: 2.6969379119637376, &quot;y&quot;: 3.572279372749174, &quot;z&quot;: 2.4971128909959988}, {&quot;x&quot;: 2.699085358881318, &quot;y&quot;: 3.577679553079066, &quot;z&quot;: 2.4868941276037955}, {&quot;x&quot;: 3.1485979343948496, &quot;y&quot;: 3.1471881078914374, &quot;z&quot;: 2.360623590778301}, {&quot;x&quot;: 3.145494725459765, &quot;y&quot;: 3.1476905817198215, &quot;z&quot;: 2.349296004297412}, {&quot;x&quot;: 3.1420200833580836, &quot;y&quot;: 3.138952906400678, &quot;z&quot;: 2.3658303107889904}, {&quot;x&quot;: 3.1348515389093436, &quot;y&quot;: 3.1343657458035685, &quot;z&quot;: 2.3577206542446123}, {&quot;x&quot;: 3.136998985826924, &quot;y&quot;: 3.1397659261334603, &quot;z&quot;: 2.347501890852409}, {&quot;x&quot;: 3.141592653589793, &quot;y&quot;: 3.141592653589793, &quot;z&quot;: 2.356194490192345}], &quot;faces&quot;: [[0, 1, 2], [0, 3, 1], [0, 4, 3], [0, 5, 4], [0, 2, 5], [2, 1, 6, 7], [1, 3, 8, 6], [3, 4, 9, 8], [4, 5, 10, 9], [5, 2, 7, 10], [7, 6, 11], [6, 8, 11], [8, 9, 11], [9, 10, 11], [10, 7, 11]], &quot;color&quot;: &quot;#004673&quot;, &quot;opacity&quot;: 1.0}, {&quot;vertices&quot;: [{&quot;x&quot;: 2.641592653589793, &quot;y&quot;: 3.641592653589793, &quot;z&quot;: 2.5153494332842405}, {&quot;x&quot;: 2.7246948690593573, &quot;y&quot;: 3.596292643440332, &quot;z&quot;: 2.5088740287015994}, {&quot;x&quot;: 2.7153852422541025, &quot;y&quot;: 3.5978000649254835, &quot;z&quot;: 2.4748912692589338}, {&quot;x&quot;: 2.704961315949059, &quot;y&quot;: 3.5715870389680533, &quot;z&quot;: 2.524494188733668}, {&quot;x&quot;: 2.6834556826028386, &quot;y&quot;: 3.557825557176725, &quot;z&quot;: 2.5001652191005337}, {&quot;x&quot;: 2.68989802335558, &quot;y&quot;: 3.5740260981664003, &quot;z&quot;: 2.469508928923924}, {&quot;x&quot;: 2.7036790266441875, &quot;y&quot;: 3.5795062805353988, &quot;z&quot;: 2.4955867269437317}], &quot;faces&quot;: [[0, 1, 2], [0, 3, 1], [0, 4, 3], [0, 5, 4], [0, 2, 5], [2, 1, 6], [1, 3, 6], [3, 4, 6], [4, 5, 6], [5, 2, 6]], &quot;color&quot;: &quot;#004673&quot;, &quot;opacity&quot;: 1.0}, {&quot;vertices&quot;: [{&quot;x&quot;: 2.498125482710035, &quot;y&quot;: 3.7850598244695512, &quot;z&quot;: 3.141592653589793}, {&quot;x&quot;: 2.5044258502633854, &quot;y&quot;: 3.7913601920229016, &quot;z&quot;: 3.1461325585871887}, {&quot;x&quot;: 2.503125482710035, &quot;y&quot;: 3.7900598244695516, &quot;z&quot;: 3.134521585777928}, {&quot;x&quot;: 2.4970193239996226, &quot;y&quot;: 3.783953665759139, &quot;z&quot;: 3.1514695369957444}, {&quot;x&quot;: 2.4911414714766975, &quot;y&quot;: 3.778075813236214, &quot;z&quot;: 3.1431569982401957}, {&quot;x&quot;: 2.4949152851004337, &quot;y&quot;: 3.7818496268599504, &quot;z&quot;: 3.1326825883479095}, {&quot;x&quot;: 3.1478930211431435, &quot;y&quot;: 3.1478930211431435, &quot;z&quot;: 3.1461325585871887}, {&quot;x&quot;: 3.146592653589793, &quot;y&quot;: 3.146592653589793, &quot;z&quot;: 3.134521585777928}, {&quot;x&quot;: 3.1404864948793807, &quot;y&quot;: 3.1404864948793807, &quot;z&quot;: 3.1514695369957444}, {&quot;x&quot;: 3.134608642356456, &quot;y&quot;: 3.134608642356456, &quot;z&quot;: 3.1431569982401952}, {&quot;x&quot;: 3.1383824559801923, &quot;y&quot;: 3.1383824559801923, &quot;z&quot;: 3.1326825883479095}, {&quot;x&quot;: 3.141592653589793, &quot;y&quot;: 3.141592653589793, &quot;z&quot;: 3.141592653589793}], &quot;faces&quot;: [[0, 1, 2], [0, 3, 1], [0, 4, 3], [0, 5, 4], [0, 2, 5], [2, 1, 6, 7], [1, 3, 8, 6], [3, 4, 9, 8], [4, 5, 10, 9], [5, 2, 7, 10], [7, 6, 11], [6, 8, 11], [8, 9, 11], [9, 10, 11], [10, 7, 11]], &quot;color&quot;: &quot;#0000ff&quot;, &quot;opacity&quot;: 1.0}, {&quot;vertices&quot;: [{&quot;x&quot;: 2.4344858724032457, &quot;y&quot;: 3.8486994347763406, &quot;z&quot;: 3.141592653589793}, {&quot;x&quot;: 2.5170265853700866, &quot;y&quot;: 3.803960927129603, &quot;z&quot;: 3.1552123685819797}, {&quot;x&quot;: 2.513125482710035, &quot;y&quot;: 3.8000598244695514, &quot;z&quot;: 3.120379450154197}, {&quot;x&quot;: 2.4948070065787977, &quot;y&quot;: 3.781741348338314, &quot;z&quot;: 3.1712233038076474}, {&quot;x&quot;: 2.4771734490100235, &quot;y&quot;: 3.7641077907695397, &quot;z&quot;: 3.146285687541}, {&quot;x&quot;: 2.488494889881232, &quot;y&quot;: 3.7754292316407483, &quot;z&quot;: 3.114862457864142}, {&quot;x&quot;: 2.498125482710035, &quot;y&quot;: 3.7850598244695512, &quot;z&quot;: 3.141592653589793}], &quot;faces&quot;: [[0, 1, 2], [0, 3, 1], [0, 4, 3], [0, 5, 4], [0, 2, 5], [2, 1, 6], [1, 3, 6], [3, 4, 6], [4, 5, 6], [5, 2, 6]], &quot;color&quot;: &quot;#0000ff&quot;, &quot;opacity&quot;: 1.0}];\n",
       "    for ( var i=0 ; i &lt; surfaces.length ; i++ ) addSurface( surfaces[i] );\n",
       "\n",
       "    function addSurface( json ) {\n",
       "\n",
       "        var useFaceColors = &#x27;faceColors&#x27; in json ? true : false;\n",
       "\n",
       "        var geometry = new THREE.Geometry();\n",
       "        for ( var i=0 ; i &lt; json.vertices.length ; i++ ) {\n",
       "            var v = json.vertices[i];\n",
       "            geometry.vertices.push( new THREE.Vector3( a[0]*v.x, a[1]*v.y, a[2]*v.z ) );\n",
       "        }\n",
       "        for ( var i=0 ; i &lt; json.faces.length ; i++ ) {\n",
       "            var f = json.faces[i];\n",
       "            for ( var j=0 ; j &lt; f.length - 2 ; j++ ) {\n",
       "                var face = new THREE.Face3( f[0], f[j+1], f[j+2] );\n",
       "                if ( useFaceColors ) face.color.set( json.faceColors[i] );\n",
       "                geometry.faces.push( face );\n",
       "            }\n",
       "        }\n",
       "        geometry.computeVertexNormals();\n",
       "\n",
       "        var side = json.singleSide ? THREE.FrontSide : THREE.DoubleSide;\n",
       "        var transparent = json.opacity &lt; 1 ? true : false;\n",
       "        var depthWrite = &#x27;depthWrite&#x27; in json ? json.depthWrite : !transparent;\n",
       "        var flatShading = json.useFlatShading ? json.useFlatShading : false;\n",
       "\n",
       "        var material = new THREE.MeshPhongMaterial( { side: side,\n",
       "                                     color: useFaceColors ? &#x27;white&#x27; : json.color,\n",
       "                                     vertexColors: useFaceColors ? THREE.FaceColors : THREE.NoColors,\n",
       "                                     transparent: transparent, opacity: json.opacity,\n",
       "                                     shininess: 20, flatShading: flatShading,\n",
       "                                     depthWrite: depthWrite } );\n",
       "\n",
       "        var c = new THREE.Vector3();\n",
       "        geometry.computeBoundingBox();\n",
       "        geometry.boundingBox.getCenter( c );\n",
       "        geometry.translate( -c.x, -c.y, -c.z );\n",
       "\n",
       "        var mesh = new THREE.Mesh( geometry, material );\n",
       "        mesh.position.set( c.x, c.y, c.z );\n",
       "        if ( transparent &amp;&amp; json.renderOrder ) mesh.renderOrder = json.renderOrder;\n",
       "        mesh.userData = json;\n",
       "        scene.add( mesh );\n",
       "\n",
       "        if ( json.showMeshGrid ) addSurfaceMeshGrid( json );\n",
       "\n",
       "    }\n",
       "\n",
       "    function addSurfaceMeshGrid( json ) {\n",
       "\n",
       "        var geometry = new THREE.Geometry();\n",
       "\n",
       "        for ( var i=0 ; i &lt; json.faces.length ; i++ ) {\n",
       "            var f = json.faces[i];\n",
       "            for ( var j=0 ; j &lt; f.length ; j++ ) {\n",
       "                var k = j === f.length-1 ? 0 : j+1;\n",
       "                var v1 = json.vertices[f[j]];\n",
       "                var v2 = json.vertices[f[k]];\n",
       "                // vertices in opposite directions on neighboring faces\n",
       "                var nudge = f[j] &lt; f[k] ? .0005*zRange : -.0005*zRange;\n",
       "                geometry.vertices.push( new THREE.Vector3( a[0]*v1.x, a[1]*v1.y, a[2]*(v1.z+nudge) ) );\n",
       "                geometry.vertices.push( new THREE.Vector3( a[0]*v2.x, a[1]*v2.y, a[2]*(v2.z+nudge) ) );\n",
       "            }\n",
       "        }\n",
       "\n",
       "        var c = new THREE.Vector3();\n",
       "        geometry.computeBoundingBox();\n",
       "        geometry.boundingBox.getCenter( c );\n",
       "        geometry.translate( -c.x, -c.y, -c.z );\n",
       "\n",
       "        var gridColor = options.theme === &#x27;dark&#x27; ? &#x27;white&#x27; : &#x27;black&#x27;;\n",
       "        var linewidth = json.linewidth || 1;\n",
       "        var materialOptions = { color: gridColor, linewidth: linewidth };\n",
       "\n",
       "        var mesh;\n",
       "        if ( linewidth &gt; 1 &amp;&amp; window.createFatLineSegments ) {\n",
       "            mesh = createFatLineSegments( geometry, materialOptions );\n",
       "        } else {\n",
       "            var material = new THREE.LineBasicMaterial( materialOptions );\n",
       "            mesh = new THREE.LineSegments( geometry, material );\n",
       "        }\n",
       "\n",
       "        mesh.position.set( c.x, c.y, c.z );\n",
       "        mesh.userData = json;\n",
       "        scene.add( mesh );\n",
       "\n",
       "    }\n",
       "\n",
       "    function render() {\n",
       "\n",
       "        if ( window.updateAnimation ) animate = updateAnimation();\n",
       "        if ( animate ) requestAnimationFrame( render );\n",
       "\n",
       "        renderer.render( scene, camera );\n",
       "\n",
       "    }\n",
       "\n",
       "    render();\n",
       "    controls.update();\n",
       "    if ( !animate ) render();\n",
       "\n",
       "\n",
       "    // menu functions\n",
       "\n",
       "    function toggleMenu() {\n",
       "\n",
       "        var m = document.getElementById( &#x27;menu-content&#x27; );\n",
       "        if ( m.style.display === &#x27;block&#x27; ) m.style.display = &#x27;none&#x27;\n",
       "        else m.style.display = &#x27;block&#x27;;\n",
       "\n",
       "    }\n",
       "\n",
       "\n",
       "    function saveAsPNG() {\n",
       "\n",
       "        var a = document.body.appendChild( document.createElement( &#x27;a&#x27; ) );\n",
       "        a.href = renderer.domElement.toDataURL( &#x27;image/png&#x27; );\n",
       "        a.download = &#x27;screenshot&#x27;;\n",
       "        a.click();\n",
       "\n",
       "    }\n",
       "\n",
       "    function saveAsHTML() {\n",
       "\n",
       "        toggleMenu(); // otherwise visible in output\n",
       "        event.stopPropagation();\n",
       "\n",
       "        var blob = new Blob( [ &#x27;&lt;!DOCTYPE html&gt;\\n&#x27; + document.documentElement.outerHTML ] );\n",
       "        var a = document.body.appendChild( document.createElement( &#x27;a&#x27; ) );\n",
       "        a.href = window.URL.createObjectURL( blob );\n",
       "        a.download = suggestFilename();\n",
       "        a.click();\n",
       "\n",
       "        function suggestFilename() {\n",
       "            if ( !document.title ) {\n",
       "                return &#x27;graphic.html&#x27;;\n",
       "            } else if ( /\\.html?$/i.test( document.title ) ) {\n",
       "                return document.title; // already ends in .htm or .html\n",
       "            } else {\n",
       "                return document.title + &#x27;.html&#x27;;\n",
       "            }\n",
       "        }\n",
       "\n",
       "    }\n",
       "\n",
       "    function getViewpoint() {\n",
       "\n",
       "        function roundTo( x, n ) { return +x.toFixed(n); }\n",
       "\n",
       "        var v = camera.quaternion.inverse();\n",
       "        var r = Math.sqrt( v.x*v.x + v.y*v.y + v.z*v.z );\n",
       "        var axis = [ roundTo( v.x / r, 4 ), roundTo( v.y / r, 4 ), roundTo( v.z / r, 4 ) ];\n",
       "        var angle = roundTo( 2 * Math.atan2( r, v.w ) * 180 / Math.PI, 2 );\n",
       "\n",
       "        var textArea = document.createElement( &#x27;textarea&#x27; );\n",
       "        textArea.textContent = JSON.stringify( axis ) + &#x27;,&#x27; + angle;\n",
       "        textArea.style.csstext = &#x27;position: absolute; top: -100%&#x27;;\n",
       "        document.body.append( textArea );\n",
       "        textArea.select();\n",
       "        document.execCommand( &#x27;copy&#x27; );\n",
       "\n",
       "        var m = document.getElementById( &#x27;menu-message&#x27; );\n",
       "        m.innerHTML = &#x27;Viewpoint copied to clipboard&#x27;;\n",
       "        m.style.display = &#x27;block&#x27;;\n",
       "        setTimeout( function() { m.style.display = &#x27;none&#x27;; }, 2000 );\n",
       "\n",
       "    }\n",
       "\n",
       "    function getCamera() {\n",
       "\n",
       "        function roundTo( x, n ) { return +x.toFixed(n); }\n",
       "\n",
       "        var pos = camera.position;\n",
       "        var pos_r = [ roundTo( pos.x, 4 ), roundTo( pos.y, 4 ), roundTo( pos.z, 4 ) ];\n",
       "   //     var up = camera.up; // up is always (0,0,1)\n",
       "        var textArea = document.createElement(&#x27;textarea&#x27;);\n",
       "        var cam_position = JSON.stringify(pos_r);\n",
       "        textArea.textContent = &#x27;,camera_position=&#x27; + cam_position;\n",
       "        textArea.style.csstext = &#x27;position: absolute; top: -100%&#x27;;\n",
       "        document.body.append( textArea );\n",
       "        textArea.select();\n",
       "        document.execCommand( &#x27;copy&#x27; );\n",
       "\n",
       "        var m = document.getElementById( &#x27;menu-message&#x27; );\n",
       "        m.innerHTML = &#x27;Camera position &#x27;+ cam_position+&#x27; copied to clipboard&#x27;;\n",
       "        m.style.display = &#x27;block&#x27;;\n",
       "        setTimeout( function() { m.style.display = &#x27;none&#x27;; }, 2000 );\n",
       "\n",
       "    }\n",
       "\n",
       "&lt;/script&gt;\n",
       "\n",
       "&lt;div id=&quot;menu-container&quot; onclick=&quot;toggleMenu()&quot;&gt;&amp;#x24d8;\n",
       "&lt;div id=&quot;menu-message&quot;&gt;&lt;/div&gt;\n",
       "&lt;div id=&quot;menu-content&quot;&gt;\n",
       "&lt;div onclick=&quot;saveAsPNG()&quot;&gt;Save as PNG&lt;/div&gt;\n",
       "&lt;div onclick=&quot;saveAsHTML()&quot;&gt;Save as HTML&lt;/div&gt;\n",
       "&lt;div onclick=&quot;getCamera()&quot;&gt;Get camera&lt;/div&gt;\n",
       "&lt;div onclick=&quot;getViewpoint()&quot;&gt;Get viewpoint&lt;/div&gt;\n",
       "&lt;div&gt;Close Menu&lt;/div&gt;\n",
       "&lt;/div&gt;&lt;/div&gt;\n",
       "\n",
       "\n",
       "&lt;/body&gt;\n",
       "&lt;/html&gt;\n",
       "\"\n",
       "        width=\"100%\"\n",
       "        height=\"400\"\n",
       "        style=\"border: 0;\">\n",
       "</iframe>\n"
      ],
      "text/plain": [
       "Graphics3d Object"
      ]
     },
     "execution_count": 4,
     "metadata": {},
     "output_type": "execute_result"
    }
   ],
   "source": [
    "# From vector to calculus\n",
    "v = vector(RR, [1.2, 3.5, 4.6])\n",
    "w = vector(RR, [1.7,-2.3,5.2])\n",
    "s(v*w)\n",
    "s(v.cross_product(w))\n",
    "\n",
    "# Vector Calculus\n",
    "var('t')\n",
    "r=vector((2*t-4, t^2, (1/4)*t^3)) # start from displacement formula\n",
    "s(r)\n",
    "s(r(t=5))\n",
    "\n",
    "velocity = r.diff(t) # now velocity formula\n",
    "s(velocity)       # this expression does not function as a function\n",
    "s(velocity(t=1))  # so we substitute explicitly\n",
    "T=velocity/velocity.norm() # calculate the unit vector\n",
    "s(T(t=1).n())\n",
    "arc_length = numerical_integral(velocity.norm(), 0,1)\n",
    "s(arc_length)\n",
    "x,y,z=var('x y z')\n",
    "plot_vector_field3d((x*cos(z),-y*cos(z),sin(z)), (x,0,pi), (y,0,pi), (z,0,pi),colors=['red','green','blue'])"
   ]
  },
  {
   "cell_type": "markdown",
   "id": "1a44f114",
   "metadata": {},
   "source": [
    "### Week 6"
   ]
  },
  {
   "cell_type": "code",
   "execution_count": 5,
   "id": "dec95c62",
   "metadata": {
    "vscode": {
     "languageId": "sage"
    }
   },
   "outputs": [
    {
     "data": {
      "text/latex": [
       "$\\displaystyle \\frac{y}{x^{2} + y^{2}}$"
      ],
      "text/plain": [
       "<IPython.core.display.Math object>"
      ]
     },
     "metadata": {},
     "output_type": "display_data"
    },
    {
     "data": {
      "text/latex": [
       "$\\displaystyle -\\frac{y}{x^{2} {\\left(\\frac{y^{2}}{x^{2}} + 1\\right)}}$"
      ],
      "text/plain": [
       "<IPython.core.display.Math object>"
      ]
     },
     "metadata": {},
     "output_type": "display_data"
    },
    {
     "data": {
      "text/latex": [
       "$\\displaystyle 78.0675372919750$"
      ],
      "text/plain": [
       "<IPython.core.display.Math object>"
      ]
     },
     "metadata": {},
     "output_type": "display_data"
    },
    {
     "data": {
      "text/latex": [
       "$\\displaystyle 4.83655919486294$"
      ],
      "text/plain": [
       "<IPython.core.display.Math object>"
      ]
     },
     "metadata": {},
     "output_type": "display_data"
    }
   ],
   "source": [
    "var('y')\n",
    "s(diff((ln(x^2+y^2))/2,y))\n",
    "s(diff(arctan(y/x),x))\n",
    "s(n(arctan(3+sqrt(3))*180/pi))\n",
    "s(n(sqrt(13+6*sqrt(3))))"
   ]
  },
  {
   "cell_type": "markdown",
   "id": "7c722b85",
   "metadata": {},
   "source": [
    "### Week 5"
   ]
  },
  {
   "cell_type": "code",
   "execution_count": 6,
   "id": "c8b71baf",
   "metadata": {
    "vscode": {
     "languageId": "sage"
    }
   },
   "outputs": [
    {
     "data": {
      "text/latex": [
       "$\\displaystyle {\\left({\\left(e^{a} - 1\\right)} e^{\\left(-2 \\, a\\right)} - {\\left(e^{a} - 1\\right)} e^{\\left(-3 \\, a\\right)}\\right)} a$"
      ],
      "text/plain": [
       "<IPython.core.display.Math object>"
      ]
     },
     "metadata": {},
     "output_type": "display_data"
    },
    {
     "data": {
      "text/latex": [
       "$\\displaystyle \\frac{2 \\, x^{2} y}{{\\left(x^{2} + y^{2}\\right)}^{2}} - \\frac{y}{x^{2} + y^{2}}$"
      ],
      "text/plain": [
       "<IPython.core.display.Math object>"
      ]
     },
     "metadata": {},
     "output_type": "display_data"
    },
    {
     "data": {
      "text/latex": [
       "$\\displaystyle -\\frac{2 \\, x^{2} y}{{\\left(x^{2} + y^{2}\\right)}^{2}}$"
      ],
      "text/plain": [
       "<IPython.core.display.Math object>"
      ]
     },
     "metadata": {},
     "output_type": "display_data"
    },
    {
     "data": {
      "text/latex": [
       "$\\displaystyle -\\frac{3 \\, x}{{\\left(x^{2} + 1\\right)}^{\\frac{5}{2}}}$"
      ],
      "text/plain": [
       "<IPython.core.display.Math object>"
      ]
     },
     "metadata": {},
     "output_type": "display_data"
    },
    {
     "data": {
      "text/latex": [
       "$\\displaystyle -\\frac{3}{2} \\, a^{2} n + 3 \\, a n y$"
      ],
      "text/plain": [
       "<IPython.core.display.Math object>"
      ]
     },
     "metadata": {},
     "output_type": "display_data"
    }
   ],
   "source": [
    "var('y a n')\n",
    "f=a*e^(-x-y-a)\n",
    "s(integral(integral(f,x,0,a),y,0,a))\n",
    "s(diff(-x*y/(x^2+y^2),x))\n",
    "s(diff(x^2/(x^2+y^2),y))\n",
    "s(diff(1/(x^2+1)^(3/2),x))\n",
    "s(expand(integral(3*x*(y-(a/2)),x,n-(a/2),n+(a/2))))"
   ]
  },
  {
   "cell_type": "markdown",
   "id": "78e62221-2aa8-4482-a86a-968cedb27c79",
   "metadata": {},
   "source": [
    "### Week 4"
   ]
  },
  {
   "cell_type": "code",
   "execution_count": 7,
   "id": "545ee0dd-c7ff-47b0-ae8f-d21c4a5eec76",
   "metadata": {
    "vscode": {
     "languageId": "sage"
    }
   },
   "outputs": [
    {
     "data": {
      "text/latex": [
       "$\\displaystyle -\\frac{x y}{{\\left(x^{2} + y^{2}\\right)}^{\\frac{3}{2}}}$"
      ],
      "text/plain": [
       "<IPython.core.display.Math object>"
      ]
     },
     "metadata": {},
     "output_type": "display_data"
    },
    {
     "data": {
      "text/latex": [
       "$\\displaystyle -\\frac{x y}{{\\left(x^{2} + y^{2}\\right)}^{\\frac{3}{2}}}$"
      ],
      "text/plain": [
       "<IPython.core.display.Math object>"
      ]
     },
     "metadata": {},
     "output_type": "display_data"
    },
    {
     "data": {
      "text/latex": [
       "$\\displaystyle \\frac{x^{2}}{{\\left(x^{2} + y^{2}\\right)}^{\\frac{3}{2}}} - \\frac{1}{\\sqrt{x^{2} + y^{2}}}$"
      ],
      "text/plain": [
       "<IPython.core.display.Math object>"
      ]
     },
     "metadata": {},
     "output_type": "display_data"
    },
    {
     "data": {
      "text/latex": [
       "$\\displaystyle \\frac{y^{2}}{{\\left(x^{2} + y^{2}\\right)}^{\\frac{3}{2}}} - \\frac{1}{\\sqrt{x^{2} + y^{2}}}$"
      ],
      "text/plain": [
       "<IPython.core.display.Math object>"
      ]
     },
     "metadata": {},
     "output_type": "display_data"
    }
   ],
   "source": [
    "var('x y')\n",
    "s(diff(x/sqrt(x^2+y^2), y))\n",
    "s(diff(y/sqrt(x^2+y^2), x))\n",
    "s(diff(-x/sqrt(x^2+y^2), x))\n",
    "s(diff(-y/sqrt(x^2+y^2), y))"
   ]
  },
  {
   "cell_type": "markdown",
   "id": "a703a45b",
   "metadata": {},
   "source": [
    "## Complex Analysis"
   ]
  },
  {
   "cell_type": "markdown",
   "id": "9d825376",
   "metadata": {},
   "source": [
    "Notes:\n",
    "- Cauchy-Riemann Equations($z=x+iv$): $\\frac{du}{dx}=\\frac{dv}{dy}\\quad\\frac{du}{dy}=-\\frac{dv}{dx}$\n",
    "    - Rewritten Form: $\\frac{du}{dx}-\\frac{dv}{dy}=0\\quad\\frac{du}{dy}+\\frac{dv}{dx}=0$\n",
    "    - Any function that satisfies these equations are analytic."
   ]
  },
  {
   "cell_type": "code",
   "execution_count": 2,
   "id": "db6a49ac",
   "metadata": {
    "vscode": {
     "languageId": "sage"
    }
   },
   "outputs": [
    {
     "name": "stdout",
     "output_type": "stream",
     "text": [
      "True\n",
      "True\n",
      "True\n"
     ]
    }
   ],
   "source": [
    "var('x y')\n",
    "z=x+i*y\n",
    "print(bool(1/z==(x-i*y)/(x^2+y^2)))\n",
    "print(bool(z^2==x^2-y^2+2*i*x*y))\n",
    "print(bool(z^3==x*(x^2-3*y^2)+i*y*(3*x^2-y^2)))"
   ]
  },
  {
   "cell_type": "code",
   "execution_count": 2,
   "id": "43a7a246",
   "metadata": {
    "vscode": {
     "languageId": "sage"
    }
   },
   "outputs": [
    {
     "name": "stdout",
     "output_type": "stream",
     "text": [
      "0.374334083621998 - 0.224726365278291*I\n",
      "0.740707869608976 + 0.267178513616855*I\n",
      "0.704832764699133 + 0.494518077358574*I\n",
      "0.180125282069893 - 0.0369702256971377*I\n"
     ]
    }
   ],
   "source": [
    "var('x')\n",
    "print(n(integral( (x+2-i) / (x-3*i/2) ,x,-1,1)/2/pi/i))\n",
    "print(n(integral(i*(1+i*x+2)/(1+i*x-i/2),x,-1,1)/2/pi/i))\n",
    "print(n(integral((x-i-2)/(-x+i-i/2),x,-1,1)/2/pi/i))\n",
    "print(n(integral(i*(1-i*x)/(i*x+1+i/2),x,-1,1)/2/pi/i))"
   ]
  }
 ],
 "metadata": {
  "kernelspec": {
   "display_name": "SageMath 10.5",
   "language": "sage",
   "name": "sagemath"
  },
  "language_info": {
   "codemirror_mode": {
    "name": "ipython",
    "version": 3
   },
   "file_extension": ".py",
   "mimetype": "text/x-python",
   "name": "python",
   "nbconvert_exporter": "python",
   "pygments_lexer": "ipython3",
   "version": "3.12.5"
  }
 },
 "nbformat": 4,
 "nbformat_minor": 5
}
