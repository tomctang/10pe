{
 "cells": [
  {
   "cell_type": "markdown",
   "id": "22d2a363-c550-49ec-ac59-7ba9e4df8e24",
   "metadata": {},
   "source": [
    "# Math Computational Methods\n",
    "This is a [Mathematical Physics](https://www.edx.org/learn/math/georgetown-university-mathematical-and-computational-methods) course. Physics is naturally speaking math.\n",
    "\n",
    "Power of output <img src=\"https://raw.githubusercontent.com/tomctang/NB_img/main/outputpower.png\" alt=\"vector_cal\" width=\"300\">"
   ]
  },
  {
   "cell_type": "code",
   "execution_count": 1,
   "id": "4efa1a3f",
   "metadata": {},
   "outputs": [],
   "source": [
    "# new show\n",
    "from IPython.display import display, Math\n",
    "def s(*args):\n",
    "    latex_output = \"\"\n",
    "    for arg in args:\n",
    "        latex_output += f\"{latex(arg)} \\\\qquad   \"  # Add spacing btw expressions\n",
    "    display(Math(latex_output))"
   ]
  },
  {
   "cell_type": "markdown",
   "id": "fbc4617f-1505-448e-b511-17e51c5f7b4a",
   "metadata": {},
   "source": [
    "## Calculus "
   ]
  },
  {
   "cell_type": "markdown",
   "id": "2d986704",
   "metadata": {},
   "source": [
    "### Review"
   ]
  },
  {
   "cell_type": "markdown",
   "id": "d17da9f8",
   "metadata": {},
   "source": [
    "- The essential of Calculus is how God building this world\n",
    "- [Euler Solution to Basel Problem](https://www.tungsteno.io/post/exa-basel_problem_euler_sinus_product) Euler used infinite products that is similar to Taylor expansion\n",
    "\n",
    "<img src=\"https://raw.githubusercontent.com/tomctang/NB_img/main/seriesgraph.png\" alt=\"seriesgraph\" width=\"550\">\n",
    "\n",
    "<img src=\"https://raw.githubusercontent.com/tomctang/NB_img/main/wks-of-fetal.png\" alt=\"fetalwks\" width=\"550\">\n",
    "\n",
    "\n",
    "<img src=\"https://raw.githubusercontent.com/tomctang/NB_img/main/EngMath_Sequence_01\n",
    ".png\" alt=\"fetalwks\" width=\"650\">\n",
    "<img src=\"https://raw.githubusercontent.com/tomctang/NB_img/main/EngMath_Series_01.png\" alt=\"fetalwks\" width=\"650\">\n",
    "<img src=\"https://raw.githubusercontent.com/tomctang/NB_img/main/EngMath_Series_02.png\" alt=\"fetalwks\" width=\"550\">\n"
   ]
  },
  {
   "cell_type": "markdown",
   "id": "9cd62716-8f48-46e4-87c5-b90e67cc62e0",
   "metadata": {},
   "source": [
    "The difference between Taylor series and MacLaurin series: \n",
    "- Taylor series can be expanded at any $x$ and are more generalized\n",
    "- Maclaurin series are always expanded at $x= 0$"
   ]
  },
  {
   "cell_type": "markdown",
   "id": "8d04b9e1-13a3-488e-a155-06df176745df",
   "metadata": {},
   "source": [
    "Ten Important Identities\n",
    "1. The quadratic equation : $ax^2+bx+c$ has 2 roots $r=\\large\\frac{-b\\pm\\sqrt{b^2-4ac}}{2a}$\n",
    "1. Fundamental trigonometric identity : $\\cos^2{\\theta}+\\sin^2{\\theta}=1$\n",
    "1. Trigonometric Definitions : $\\sec{\\theta}=\\frac{1}{\\cos{\\theta}}\\quad\\tan{\\theta}=\\frac{\\sin{\\theta}}{\\cos{\\theta}}\\quad\\csc{\\theta}=\\frac{1}{\\sin{\\theta}}\\quad\\cot{\\theta}=\\frac{\\cos{\\theta}}{\\sin{\\theta}}$\n",
    "1. Double Angle Formulae : $\\cos{2\\theta}=\\cos^2{\\theta}-\\sin^2{\\theta}\\quad\\sin{2\\theta}=2\\sin{\\theta} \\cos{\\theta}$\n",
    "1. Factorization of the difference of squares : $x^2-a^2=(x+a)(x-a)$\n",
    "\n",
    "1. Geometric Series : $\\large\\sum^{\\infty}_{n=0}x^n=\\frac{1}{1-x}$(very useful) for $|x|<1$ and $\\Sigma^{N}_{n=0}x^n= \\frac{N!}{n!(N-n)!}x^{N-n}y^n$ for all $x$.\n",
    "1. Binomial Theorem : $(x+y)^N=\\sum^{N}_{n=0}\\begin{pmatrix}N\\\\n\\end{pmatrix}x^{Nn}y^n=\\Sigma^{N}_{n=0}\\frac{N!}{n!(N-n)!}x^{N-n}y^n$\n",
    "    - see [Binomial Pyramid](../10pe/02discrete_continuous.ipynb#combinatorics)\n",
    "1. Power series for the exponential : $e^x=\\Sigma^{\\infty}_{n=0}\\frac{1}{n!}x^n$\n",
    "1. Relation for trig functions to exponentials : $\\cos{\\theta}=\\frac{1}{2}(e^{i\\theta}+e^{-i\\theta})$ and $\\sin{\\theta}=\\frac{1}{2i}(e^{i\\theta}-e^{-i\\theta})$\n",
    "1. Relation of hyp functions to exponentials : $\\cosh{x}=\\frac{1}{2}(e^x+e^{-x})$ and $\\sinh{x}=\\frac{1}{2}(e^x-e^{-x})$\n",
    "\n",
    "See coding translation:"
   ]
  },
  {
   "cell_type": "code",
   "execution_count": null,
   "id": "19d5796c",
   "metadata": {},
   "outputs": [],
   "source": [
    "# 6 Geometric\n",
    "var('x,n')\n",
    "f = x^n\n",
    "geo = sum(f,n,0,oo, hold=True)  # oo Infinity\n",
    "s(geo)\n",
    "\n",
    "# 7 Binomial \n",
    "sum1 = sum(binomial(n,x),x,0,n, hold=True) # hold=True: before evaluating\n",
    "s(sum1 == sum1.unhold())\n",
    "\n",
    "# 8 Power Series of e\n",
    "epow = sum(x^n/factorial(n),n,0,oo, hold=True)\n",
    "s(epow == epow.unhold())\n",
    "\n",
    "# converged limit of pi\n",
    "ff = sqrt(sum(6/n^2 ,n,1,oo, hold=True))\n",
    "s(ff == ff.unhold().n())  "
   ]
  },
  {
   "cell_type": "markdown",
   "id": "164090c3-8d44-4200-b2fa-b6f07f26e9ed",
   "metadata": {},
   "source": [
    "Formulae\n",
    "- T Formulae\n",
    "  - $\\large t=\\tan{\\frac{x}{2}}$\n",
    "  - $\\large\\sin{x}=\\frac{2t}{1+t^2}$\n",
    "  - $\\large\\cos{x}=\\frac{1-t^2}{1+t^2}$\n",
    "  - $\\large\\tan{x}=\\frac{2t}{1-t^2}$\n",
    "  - $\\large dx=\\frac{2}{1+t^2}dt$"
   ]
  },
  {
   "cell_type": "markdown",
   "id": "6b8e96c9-61bb-4f94-a585-7fab3fc164a0",
   "metadata": {},
   "source": [
    "Video notes\n",
    "- The much less known inverse pythagoras theorem is $\\large\\frac{1}{a^2}+\\frac{1}{b^2}=\\frac{1}{h^2}$.\n",
    "- The sum of the series $\\sum_{j=1}^nj=\\large\\frac{n(n+1)}{2}$\n",
    "- The sum of the series $\\sum_{j=1}^nj^2=\\large\\frac{n(n+1)(2n+1)}{6}$\n",
    "- From the sum of the 2 previous series $\\sum_{j=1}^nj^3=\\large\\frac{n^2(n+1)^2}{4}$\n",
    "- For trigonometric substitution, both $x=\\sin{\\theta}$ and $x=\\cos{\\theta}$ can be used but use second option.\n",
    "- Gaussian Integral : $\\large\\int_{-\\infty}^{\\infty}dx\\ e^{-x^2}=\\sqrt{\\pi}$\n",
    "- Frullani Integral(useful) : $\\large\\int_0^{\\infty}\\mathrm{d}x\\frac{f(ax)-f(bx)}{x}=(f(0)-f(\\infty))\\ln{\\frac{b}{a}}$\n",
    "- All Pythagorean triplets can be found by using the formula $z$ -> $z^2$ where $z$ is a complex number. The method also requires multiplying by $\\frac{1}{2}$ or integers."
   ]
  },
  {
   "cell_type": "markdown",
   "id": "4d79a315-01cb-43ef-ba7c-be1d5953d604",
   "metadata": {},
   "source": [
    "To find the area bounded by a parametric curve, go to [A-level-further-Module-5](../10pe/Alevel_math_further.ipynb#module-5-further-applications-of-integration)"
   ]
  },
  {
   "cell_type": "markdown",
   "id": "d445c244-5d4a-46d9-9919-5476bf0f680d",
   "metadata": {},
   "source": [
    "- Mass for sphere : $M=\\int_0^Rdr r^2\\rho_0\\int_{-1}^1d\\cos{\\theta}\\int_0^{2\\pi}d\\phi$ where $\\rho_0$ is a constant in $\\rho(r)$.\n",
    "- Feynman Method : Insert a parameter (e.g. $\\alpha$) and evaluate if at a constant (e.g. $\\alpha=1$) then you have to add a $\\large\\frac{d^m}{d\\alpha^m}$ when you integrate the terms with $m$.\n",
    "- Formula for the moment of inertia : $$I=\\int d^3r\\rho(\\bf r)r^2_ \\perp(\\bf r)$$ where $\\rho(\\bf r)$ the mass density at the position $ \\bf r$ and $r_\\perp(\\bf r)$ is the perependicular distance of the position vector at $\\bf r$ to the rotation axis for the moment of inertia.\n",
    "- For sphere of d dimensions : \n",
    "    - D-dimensional vector is $x=(x_1,x_2,\\ldots,x_{d-1},x_d)$\n",
    "    - Spherical Coordinates : ${r(\\text{radius?}),\\theta_1,\\theta_2,\\ldots,\\theta_{d-1}}$\n",
    "    - Which satisfies : $x_1=r\\cos{\\theta_1}, x_2=r\\sin{\\theta_1}\\cos{theta_2}, x_3=r\\sin{\\theta_1}\\sin{\\theta_2}\\cos{\\theta_3},\\ldots,x_{d-1}=r\\sin{\\theta_1}\\sin{\\theta}_2\\ldots\\cos{\\theta_{d- 1}}$\n",
    "    - And also $x_d$ is the same as $x_{d-1}$ except the $\\cos$ is a $\\sin$\n",
    "    - Volume of d-sphere : $V_d=\\int_0^Rdrr^{d-1}\\int_0^\\pi d\\theta_1\\sin^d_2{\\theta_1}$ where sequence has $\\theta_n$ increasing to $\\theta_{n+1}$ and $\\sin$ power decreasing each time by 1 down to 1. Last integral in product : $\\int_0^{2\\pi}d\\theta{d-1}=2\\pi$\n",
    "    - Work out integrals of form $\\int_0^pi d\\theta\\sin^\\alpha\\theta=I(\\alpha)$\n",
    "    - $\\alpha I(\\alpha)=(\\alpha-1)I(\\alpha-2)+2\\delta_{\\alpha=1}$"
   ]
  },
  {
   "cell_type": "markdown",
   "id": "6fd16616",
   "metadata": {},
   "source": [
    "### Problem Set 4"
   ]
  },
  {
   "cell_type": "code",
   "execution_count": null,
   "id": "e1253698",
   "metadata": {},
   "outputs": [],
   "source": [
    "var('n z')\n",
    "f=(-1)^n*(n+1)*z^(2*n)\n",
    "sum1=sum(f,n,0,oo,hold=True)\n",
    "s(sum1==sum1.unhold())"
   ]
  },
  {
   "cell_type": "code",
   "execution_count": null,
   "id": "8216f1bc",
   "metadata": {},
   "outputs": [],
   "source": [
    "expand((3390-x)^3)"
   ]
  },
  {
   "cell_type": "markdown",
   "id": "cf7cd5a1",
   "metadata": {},
   "source": [
    "- how to derive? and present math formula"
   ]
  },
  {
   "cell_type": "code",
   "execution_count": null,
   "id": "b88a5ce7",
   "metadata": {},
   "outputs": [],
   "source": [
    "f(x)=2^(x-1)*binomial(10,x)\n",
    "for i in range(1,11):\n",
    "    print(f(i))"
   ]
  },
  {
   "cell_type": "markdown",
   "id": "8ddc5cef-efc8-4f74-b4fe-f6bfff75115f",
   "metadata": {
    "jp-MarkdownHeadingCollapsed": true
   },
   "source": [
    "### Week 4"
   ]
  },
  {
   "cell_type": "markdown",
   "id": "f1114d79",
   "metadata": {
    "vscode": {
     "languageId": "plaintext"
    }
   },
   "source": [
    "$I_{cylinder} = 2\\pi \\rho \\int_0^h dz \\int_ 0^R dr\\, r^3 = \\frac{1}{2}\\rho \\pi R^4h$"
   ]
  },
  {
   "cell_type": "markdown",
   "id": "ff37078c",
   "metadata": {},
   "source": [
    "For center of mass, integrate over the density formula times the dimension(e.g. for x-coordinates, multiply by x). Center of mass can then be used for moment of inertia."
   ]
  },
  {
   "cell_type": "markdown",
   "id": "c6c2363d",
   "metadata": {},
   "source": [
    "n,r,R,M -- those are commonly occupied by PC, so use full-word, like \"Mass\" et.al"
   ]
  },
  {
   "cell_type": "code",
   "execution_count": null,
   "id": "4e9f3f7c-7e26-48cd-bc98-54fa93316ed2",
   "metadata": {},
   "outputs": [],
   "source": [
    "# 3D integral\n",
    "var('r theta phi R rho_0')\n",
    "M = integral(integral(integral(rho_0*r^2*sin(theta), phi, 0, 2*pi, hold=True), \n",
    "                                theta, 0, pi, hold=True), \n",
    "                                r, 0, R, hold=True)\n",
    "s(M == M.unhold())\n",
    "\n",
    "r,R,M=var('r,R,M')\n",
    "s(n(sqrt(pi)/4))\n",
    "s(n(sqrt(3)*3*5*7*9*11/2^6))\n",
    "s(integral(2*pi*M/(pi*R^2)*r^3, r))\n",
    "s(n(1/24))"
   ]
  },
  {
   "cell_type": "markdown",
   "id": "42fc548b-a992-455d-981d-1b15734f3b25",
   "metadata": {
    "jp-MarkdownHeadingCollapsed": true
   },
   "source": [
    "### Week 3"
   ]
  },
  {
   "cell_type": "code",
   "execution_count": null,
   "id": "cc23870a",
   "metadata": {},
   "outputs": [],
   "source": [
    "a=4\n",
    "s(integral(1/(a^2+x^2), x, 0, a))"
   ]
  },
  {
   "cell_type": "code",
   "execution_count": null,
   "id": "deeef8e9-e420-48a6-bbf1-5a673c2204ef",
   "metadata": {},
   "outputs": [],
   "source": [
    "s(diff(sqrt(1-x^2), x))\n",
    "s(n(pi/2))\n",
    "s(integral(sec(x)^3, x))\n",
    "s(n((ln(1+1/sqrt(2))-ln(1-1/sqrt(2))+4/sqrt(2))/4))\n",
    "s(n(pi/7))\n",
    "f(x)=x*sinh(x)-cosh(x) \n",
    "a=(e^2+e^(-2))/2\n",
    "s(n(2*pi*(f(a)-f(1))))"
   ]
  },
  {
   "cell_type": "code",
   "execution_count": null,
   "id": "04f87b03-8333-4899-924e-78aa12c427e4",
   "metadata": {},
   "outputs": [],
   "source": [
    "s(n(integral(x*cosh(x), x, 1, cosh(2))*2*pi))\n",
    "s(n(integral(x*sqrt(1+(1/(3*x^(2/3)))^2), x, 0, 1)*2*pi))\n",
    "s(n(sqrt(2)*pi))\n",
    "s(n(integral(x*sqrt(1+4*x^2), x, 0, 1)*2*pi))"
   ]
  },
  {
   "cell_type": "code",
   "execution_count": null,
   "id": "a4a7d286-d980-4dce-afbd-e3d0ff171e86",
   "metadata": {},
   "outputs": [],
   "source": [
    "s((x^2/(x^4-16)).partial_fraction())\n",
    "s(integral(4/(x^2+4), x))\n",
    "s(diff((2*arctan(x/2)-ln(x+2)+ln(x-2))/8, x))\n",
    "s(simplify(diff(arcsin(x)-x*sqrt(1-x^2), x)))\n",
    "s(diff(sqrt(e^x), x))\n",
    "s(diff(2*ln(e^(x)), x))"
   ]
  },
  {
   "cell_type": "markdown",
   "id": "faa824ed-084a-4df5-aa13-b330e7c77a81",
   "metadata": {
    "jp-MarkdownHeadingCollapsed": true
   },
   "source": [
    "### Week 2"
   ]
  },
  {
   "cell_type": "code",
   "execution_count": null,
   "id": "0058789f-4e5d-460d-810d-7b2a068aee5a",
   "metadata": {},
   "outputs": [],
   "source": [
    "plot(1-cos(x), (x, -pi, pi), figsize=4)"
   ]
  },
  {
   "cell_type": "code",
   "execution_count": null,
   "id": "f9885dae-fd5e-484b-aca0-36d396ab2c5d",
   "metadata": {},
   "outputs": [],
   "source": [
    "plot(ln(e^x+1), (x, -3, 5), figsize=3)"
   ]
  },
  {
   "cell_type": "code",
   "execution_count": null,
   "id": "d756216b-0004-48ca-8a5e-b9803059fa00",
   "metadata": {},
   "outputs": [],
   "source": [
    "var('a,n')\n",
    "f=((-1)^n*x*(a*x)^(2*n+1))/factorial(2*n+2)\n",
    "sum1=sum(f,n,0,oo,hold=True)\n",
    "show(sum1 == sum1.unhold())"
   ]
  },
  {
   "cell_type": "code",
   "execution_count": null,
   "id": "2da7b279-b918-44cc-8ab3-b908f17ba5f8",
   "metadata": {},
   "outputs": [],
   "source": [
    "var('n,a')\n",
    "f=((-1)^n*(a*x)^(2*n+1))/factorial(2*n+1)\n",
    "sum1 = sum(f,n,0,oo, hold=True) # hold = before evaluating\n",
    "s(sum1 == sum1.unhold())"
   ]
  },
  {
   "cell_type": "code",
   "execution_count": null,
   "id": "9a3ab788-4559-40b1-852d-6ac18699a8a5",
   "metadata": {},
   "outputs": [],
   "source": [
    "a,n,x = var('a,n,x')\n",
    "f=((-a)^n*x^(n+1))/factorial(n+1)\n",
    "sum1 = sum(f,n,0,oo,hold=True)\n",
    "s(sum1 == sum1.unhold())\n",
    "# Every point on the curve can expand to a Taylor series\n",
    "plot(1-e^-x, (x, -3, 3), figsize=3)"
   ]
  },
  {
   "cell_type": "code",
   "execution_count": null,
   "id": "893b1e1e-824e-4684-974d-7b65653090ae",
   "metadata": {},
   "outputs": [],
   "source": [
    "x1=5.99580197536\n",
    "x2=6.05575999511\n",
    "x3=3.83164672531\n",
    "x4=3.86996319256\n",
    "a=6.02-x1\n",
    "b=x2-x1\n",
    "c=a/b\n",
    "d=180+c\n",
    "f=d*0.75\n",
    "g=f-135\n",
    "h=x4-x3\n",
    "j=x3+g*h\n",
    "s(a)\n",
    "s(b)\n",
    "s(c)\n",
    "s(d)\n",
    "s(f)\n",
    "s(g)\n",
    "s(h)\n",
    "s(j)"
   ]
  },
  {
   "cell_type": "code",
   "execution_count": null,
   "id": "120dbc43-7ba7-4145-bb67-6a9406f23049",
   "metadata": {},
   "outputs": [],
   "source": [
    "def sum_recp(n):\n",
    "    ans=0\n",
    "    for i in range(1, n+1):\n",
    "        ans+=1/i\n",
    "    return ans\n",
    "for j in [5, 10, 15, 20]:\n",
    "    print(n(sum_recp(j)))"
   ]
  },
  {
   "cell_type": "markdown",
   "id": "c3ff7681-d3ad-4117-bfbd-815b7adb5f57",
   "metadata": {
    "jp-MarkdownHeadingCollapsed": true
   },
   "source": [
    "### Week 1"
   ]
  },
  {
   "cell_type": "code",
   "execution_count": null,
   "id": "2fcf6c89-6063-4169-8739-c1aeee194784",
   "metadata": {},
   "outputs": [],
   "source": [
    "g=9.81\n",
    "v=3.64/sqrt(3/g)\n",
    "theta=23*pi/180\n",
    "vx=v*cos(theta)\n",
    "vy=v*sin(theta)\n",
    "t1=vy/g\n",
    "s1=g/2*t1^2\n",
    "s2=s1+1.5+0.05*sin(theta)\n",
    "t2=sqrt(2*s2/g)\n",
    "t=t1+t2\n",
    "d=vx*t\n",
    "print(n(d))"
   ]
  },
  {
   "cell_type": "code",
   "execution_count": null,
   "id": "c954fcb5-e147-456e-bc86-52b278f6b939",
   "metadata": {},
   "outputs": [],
   "source": [
    "s(expand((1+(x^2/2-x^4/24+x^6/720)+(x^2/2-x^4/24+x^6/720)^2+(x^2/2-x^4/24+x^6/720)^3)*(x-x^3/6+x^5/120-x^7/5040)))"
   ]
  },
  {
   "cell_type": "code",
   "execution_count": null,
   "id": "22c06250-5572-47e7-8f84-f471ef46aa5d",
   "metadata": {},
   "outputs": [],
   "source": [
    "s(n(sin(pi/4)))\n",
    "f(x)=x-x^3/factorial(3)+x^5/factorial(5)-x^7/factorial(7)+x^9/factorial(9)\n",
    "s(n(f(0)))\n",
    "s(n(f(pi/4)))\n",
    "s(n(f(pi/2)))"
   ]
  },
  {
   "cell_type": "markdown",
   "id": "a3f6e632-104f-4ad8-9aab-63201d472f24",
   "metadata": {},
   "source": [
    "Projectile problem - Correct solution:"
   ]
  },
  {
   "cell_type": "code",
   "execution_count": null,
   "id": "34a48dc3-3b83-4115-a47c-526da8db2b56",
   "metadata": {},
   "outputs": [],
   "source": [
    "d=pi/180\n",
    "x,y=var('vy,ty')\n",
    "s=solve([ vy*ty==(200-4*sin(35*d)), vy==9.8*ty ],vy,ty,solution_dict=True)\n",
    "vy=s[1][vy]\n",
    "ty=s[1][ty]\n",
    "D=vy*(cos(35*d)/sin(35*d))*(ty+sqrt(200*ty/vy))\n",
    "print(D.n())"
   ]
  },
  {
   "cell_type": "code",
   "execution_count": null,
   "id": "4136a98e-b341-410b-8a06-0deda3e3fbd8",
   "metadata": {},
   "outputs": [],
   "source": [
    "plot(x/sin(x), (x, -pi, pi), figsize=4, ymin=0, ymax=7)"
   ]
  },
  {
   "cell_type": "code",
   "execution_count": null,
   "id": "f970e6a2-3a11-4838-a0de-93e8bff56132",
   "metadata": {
    "scrolled": true
   },
   "outputs": [],
   "source": [
    "f(x)=1/(1+e^x)\n",
    "show(plot(f(x), (x, -5, 5), figsize=3))\n",
    "show(plot(f(x)+f(-x), (x, -5, 5), figsize=3))\n",
    "show(plot(f(x)-f(-x), (x, -5, 5), figsize=3))\n",
    "show(plot(diff(f(x)), (x, -5, 5), figsize=3))\n",
    "show(plot(f(x)*(1-f(x)), (x, -5, 5), figsize=3))\n",
    "show(plot(f(x)*f(-x), (x, -5, 5), figsize=3))\n",
    "show(plot(x/sin(x), (x, -5, 5), figsize=3, ymin=-5, ymax=5))"
   ]
  },
  {
   "cell_type": "code",
   "execution_count": null,
   "id": "904106ab-4020-43a4-862c-ddedc54a2203",
   "metadata": {},
   "outputs": [],
   "source": [
    "s=7\n",
    "x=2\n",
    "for i in range(5):\n",
    "    x=(x+s/x)/2\n",
    "    print(n(x))\n",
    "print(n(sqrt(s)))"
   ]
  },
  {
   "cell_type": "markdown",
   "id": "b3a5a4ff",
   "metadata": {},
   "source": [
    "## Midterm 1-3"
   ]
  },
  {
   "cell_type": "code",
   "execution_count": 3,
   "id": "059219ff",
   "metadata": {},
   "outputs": [
    {
     "data": {
      "text/latex": [
       "$\\displaystyle -i \\, t {\\left(x - z\\right)} e^{\\left(i \\, t z\\right)} + e^{\\left(i \\, t z\\right)} \\qquad   $"
      ],
      "text/plain": [
       "<IPython.core.display.Math object>"
      ]
     },
     "metadata": {},
     "output_type": "display_data"
    }
   ],
   "source": [
    "var('t z')\n",
    "s(diff((z-x)*e^(i*t*z),z))"
   ]
  },
  {
   "cell_type": "code",
   "execution_count": null,
   "id": "050ec03e",
   "metadata": {},
   "outputs": [
    {
     "data": {
      "text/latex": [
       "$\\displaystyle -\\frac{2 \\, y^{2}}{{\\left(x^{2} + y^{2}\\right)}^{2}} + \\frac{1}{x^{2} + y^{2}} \\qquad   $"
      ],
      "text/plain": [
       "<IPython.core.display.Math object>"
      ]
     },
     "metadata": {},
     "output_type": "display_data"
    }
   ],
   "source": [
    "var('x y')\n",
    "s(diff(y/(x^2+y^2),y))"
   ]
  },
  {
   "cell_type": "code",
   "execution_count": null,
   "id": "0f685298",
   "metadata": {},
   "outputs": [
    {
     "data": {
      "text/latex": [
       "$\\displaystyle 3^{x} \\log\\left(3\\right) \\qquad   $"
      ],
      "text/plain": [
       "<IPython.core.display.Math object>"
      ]
     },
     "metadata": {},
     "output_type": "display_data"
    },
    {
     "data": {
      "text/latex": [
       "$\\displaystyle 1.07061470371541 \\qquad   $"
      ],
      "text/plain": [
       "<IPython.core.display.Math object>"
      ]
     },
     "metadata": {},
     "output_type": "display_data"
    },
    {
     "data": {
      "image/png": "[encoded data removed]",
      "text/plain": [
       "Graphics object consisting of 1 graphics primitive"
      ]
     },
     "execution_count": 48,
     "metadata": {},
     "output_type": "execute_result"
    }
   ],
   "source": [
    "var('a')\n",
    "s(diff(3^x,x))\n",
    "s(n((24*ln(2)-7)/9))\n",
    "plot((x^5-1)/ln(x),(x,0,1),figsize=3)"
   ]
  },
  {
   "cell_type": "markdown",
   "id": "4aa13a88-8e71-46f1-9694-febb06bfb491",
   "metadata": {},
   "source": [
    "## Vector Calculus"
   ]
  },
  {
   "cell_type": "markdown",
   "id": "d28971cb",
   "metadata": {},
   "source": [
    "### Review"
   ]
  },
  {
   "cell_type": "markdown",
   "id": "8386a63c",
   "metadata": {},
   "source": [
    "<img src=\"https://raw.githubusercontent.com/tomctang/NB_img/main/Maxwell_eq1.jpg\" alt=\"vector_cal\" width=\"450\">\n",
    "\n",
    "Maxwell eq:\n",
    "\n",
    "1. Gauss's law for **static** electric fields ($E$)\n",
    "1. Gauss's law for **static** magnetic fields ($B$)\n",
    "1. Faraday's law which says a **changing magnetic field** (over time) produces an electric field\n",
    "1. Ampere-Maxwell's law says a **changing electric field** (over time) produces a magnetic field\n",
    "\n",
    "<img src=\"https://raw.githubusercontent.com/tomctang/NB_img/main/Maxwell_eq2.png\" alt=\"vector_cal\" width=\"800\">"
   ]
  },
  {
   "cell_type": "markdown",
   "id": "86a14692",
   "metadata": {},
   "source": [
    "> Field Theory\n",
    "\n",
    "Scalar field -> Vector field -> Tensor field\n",
    "\n",
    "- a scalar field has 1 value at a given point of a mathematical space (e.g. Euclidean space or manifold), \n",
    "- a vector field has 2 (direction and magnitude), vector field is a special case of a tensor field, or a tensor field of rank 1.\n",
    "- a tensor field has 2+ (e.g. represented by an ellipse at each point with semi-major axis length, semi-minor axis length, and direction)\n",
    "\n",
    "<img src=\"https://upload.wikimedia.org/wikipedia/commons/7/72/Tensor_field.png\" alt=\"vector_cal\" width=\"650\">\n",
    "<img src=\"https://raw.githubusercontent.com/tomctang/NB_img/main/Scalar-vec-mat-tensor.png\" alt=\"vector_cal\" width=\"650\">\n",
    "\n",
    "<img src=\"https://raw.githubusercontent.com/tomctang/NB_img/main/grad_div_curl.png\" alt=\"vector_cal\" width=\"450\">\n",
    "\n",
    "Scalar field has math modelling - **Grad**\n",
    "\n",
    "Vector field has two-forms of math modelling (use separately or combined): \n",
    "1. connecting to a point, converge or diverge - **divergence** (e.g. electric charge); \n",
    "    - physical meaning? \n",
    "2. rotating a point - **curl** (e.g. cyclone, solar, galaxy)\n",
    "\n",
    "<img src=\"https://raw.githubusercontent.com/tomctang/NB_img/main/vectorfield.png\" alt=\"vector_cal\" width=\"800\">\n",
    "\n",
    "<img src=\"https://raw.githubusercontent.com/tomctang/NB_img/main/graddivcurl.png\" alt=\"vector_cal\" width=\"650\">\n",
    "\n",
    "<img src=\"https://raw.githubusercontent.com/tomctang/NB_img/main/graddivcurl2.png\" alt=\"vector_cal\" width=\"650\">\n",
    "\n",
    "Comparison of single-var, multi-var, vector calculus\n",
    "- vector calculus is usually treated as 3D multi-var calculus\n",
    "\n",
    "<img src=\"https://raw.githubusercontent.com/tomctang/NB_img/main/singlemultivector.png\" alt=\"vector_cal\" width=\"750\">"
   ]
  },
  {
   "cell_type": "markdown",
   "id": "adae4386",
   "metadata": {},
   "source": [
    "The universe try to tell us that when you integrate the \"derivative\" of a function within a region\n",
    "- where the type of integration/derivative/region/function involved might be multidimensional, but what you get just depends on the value on boundary function of that region\n",
    "- this is one of the most beautiful things in the universe.\n",
    "\n",
    "| Formula | Solution | dimensional reduction |\n",
    "| - | - | - | \n",
    "| Newton-Leibniz formula | 1D -> dot | $\\int_a^b f(x)dx=F(b)-F(a)   $|\n",
    "| Green theorem  | 2D -> 1D | $\\iint_D (-\\frac{\\partial P}{\\partial y} + \\frac{\\partial Q}{\\partial x})dxdy = \\oint_{\\partial D} Pdx + Q dy$ |\n",
    "| Gauss (Gauss' flux theorem) | 3D -> 2D | $\\iiint_D (\\frac{\\partial P}{\\partial x} + \\frac{\\partial Q}{\\partial y} + \\frac{\\partial R}{\\partial z})dxdydz = \\oint_{\\partial D} Pdydz + Q dzdx + R dxdy$ |\n",
    "| Divergence theorem | nD -> 3D |\n",
    "| Generalized Stokes formula | manifolds | $\\int_M d\\omega = \\int_{\\partial M} \\omega  $ |\n",
    "\n",
    "<img src=\"https://raw.githubusercontent.com/tomctang/NB_img/main/stokes.png\" alt=\"generalstokes.png\" width=\"580\">\n",
    "<img src=\"https://raw.githubusercontent.com/tomctang/NB_img/main/divergence.png\" alt=\"generalstokes.png\" width=\"580\">\n",
    "\n"
   ]
  },
  {
   "cell_type": "markdown",
   "id": "6a314fba",
   "metadata": {},
   "source": [
    "Notes\n",
    "\n",
    "Div & Curl omitted\n",
    "- Line integral : Related to arc length so formula is $I=\\large\\int_a^bds\\vec{F}\\cdot\\hat{t}=\\int_{x_a}^{x_b}dx\\sqrt{1+(\\frac{df}{dx})^2}\\vec{F}(x)\\cdot\\hat{t}$\n",
    "    - $\\hat{t}$ is the tangent vector to path.\n",
    "    - $\\vec{F}$ is the vector field.\n",
    "    - Then use arc length formula or second section for the line integral.\n",
    "- Stokes' Theorem : $\\oint_Sds\\vec{F}\\cdot\\hat{t}=\\int_SdS(\\nabla\\times\\vec{F})\\cdot\\hat{n}$ or that the line integral around the path and the surface integral over the area bounded by the path is related 1:1.\n",
    "- Gradient($\\nabla f$): \n",
    "    - Cartesian Coordinates : $\\nabla f=\\frac{\\partial f}{\\partial x}\\hat{i}+\\frac{\\partial f}{\\partial y}\\hat{j}+\\frac{\\partial f}{\\partial z}\\hat{k}$\n",
    "    - Polar/Cylindrical Coordinates : $\\nabla f=\\frac{df}{dr}\\hat{r}+\\frac{1}{r}\\frac{df}{d\\theta}\\hat{\\theta}+\\frac{df}{dz}\\hat{z}$\n",
    "    - Spherical Coordinates : $\\nabla f=\\frac{df}{dr}\\hat{r}+\\frac{1}{r}\\frac{df}{d\\theta}\\hat{\\theta}+\\frac{1}{r\\sin{\\theta}}\\frac{df}{d\\phi}\\hat{\\phi}$\n",
    "\n",
    "<img src=\"https://raw.githubusercontent.com/tomctang/NB_img/main/Types_curves.jpg\" alt=\"curve_types.jpg\" width=\"520\">\n"
   ]
  },
  {
   "cell_type": "markdown",
   "id": "060010a9",
   "metadata": {},
   "source": [
    "[Generalized Stokes' theorem or Fundamental Theorem of Multivariate Calculus](https://en.wikipedia.org/wiki/Generalized_Stokes_theorem)\n",
    "- In case you are curious, this deeper theorem captures all above theorems (and more) in one formula,\n",
    "- by analysing differential forms on manifolds, which simplifies several theorems from vector calculus "
   ]
  },
  {
   "cell_type": "markdown",
   "id": "ce673853",
   "metadata": {},
   "source": [
    "### Coding review"
   ]
  },
  {
   "cell_type": "code",
   "execution_count": null,
   "id": "c1dd8757",
   "metadata": {},
   "outputs": [],
   "source": [
    "var('r')\n",
    "f=cos(y)*(x-r^3/x^2)\n",
    "s(diff(f,x))\n",
    "s(diff(f,y)/x)"
   ]
  },
  {
   "cell_type": "code",
   "execution_count": null,
   "id": "a1a456ac",
   "metadata": {},
   "outputs": [],
   "source": [
    "var('r E v')\n",
    "f=cos(y)*(x*E+(r^2*(v-E*r))/x^2)\n",
    "s(diff(f,x))\n",
    "s(diff(f,y)/x)\n",
    "s(diff(f,z)/(r*sin(y)))"
   ]
  },
  {
   "cell_type": "markdown",
   "id": "47f6cf3a",
   "metadata": {},
   "source": [
    "[SageManifolds](https://sagemanifolds.obspm.fr/documentation.html) solve differential geometry and tensor calculus of any dimension"
   ]
  },
  {
   "cell_type": "code",
   "execution_count": null,
   "id": "1ed3f561",
   "metadata": {},
   "outputs": [],
   "source": [
    "# vector field - div, curl\n",
    "E.<x,y,z> = EuclideanSpace()  # set up coordinates in ()\n",
    "v = E.vector_field(x^2-y^2, -2*x*y, 0, name='v')\n",
    "sca = E.scalar_field(x^2+y^2-z^2, name='sca')\n",
    "s(v.display()) # original func\n",
    "s(sca.display())\n",
    "\n",
    "s(v.div().display())\n",
    "s(v.curl().display())\n",
    "from sage.manifolds.operators import grad, laplacian\n",
    "s(grad(sca).display()) \n",
    "s(laplacian(sca).display()) "
   ]
  },
  {
   "cell_type": "code",
   "execution_count": null,
   "id": "64c0952d",
   "metadata": {},
   "outputs": [],
   "source": [
    "# divergence algo (manually)\n",
    "var('x y z') ; Fx=z^2 ; Fy=x^2 ; Fz=-y^2 \n",
    "div = diff(Fx,x) + diff(Fy,y) + diff(Fz,z)  \n",
    "s(div)\n",
    "\n",
    "# curl Approach 1: self-made algorithm\n",
    "curlx = diff(Fz,y) - diff(Fy,z)     \n",
    "curly = diff(Fx,z) - diff(Fz,x)\n",
    "curlz = diff(Fy,x) - diff(Fx,y)\n",
    "s(vector([curlx, curly, curlz]))\n",
    "\n",
    "# curl Approach 2: built-in function\n",
    "E.<x,y,z> = EuclideanSpace()  \n",
    "v = E.vector_field(z^2, x^2, -y^2, name='v')\n",
    "s(v.curl().display())\n",
    "\n",
    "E = EuclideanSpace(3)  # btw: set up \n",
    "s(E.cartesian_coordinates())\n",
    "s(E.cylindrical_coordinates())\n",
    "s(E.spherical_coordinates())"
   ]
  },
  {
   "cell_type": "code",
   "execution_count": null,
   "id": "e192d44b",
   "metadata": {},
   "outputs": [],
   "source": [
    "# From vector to calculus\n",
    "v = vector(RR, [1.2, 3.5, 4.6])\n",
    "w = vector(RR, [1.7,-2.3,5.2])\n",
    "s(v*w)\n",
    "s(v.cross_product(w))\n",
    "\n",
    "# Vector Calculus\n",
    "var('t')\n",
    "r=vector((2*t-4, t^2, (1/4)*t^3)) # start from displacement formula\n",
    "s(r)\n",
    "s(r(t=5))\n",
    "\n",
    "velocity = r.diff(t) # now velocity formula\n",
    "s(velocity)       # this expression does not function as a function\n",
    "s(velocity(t=1))  # so we substitute explicitly\n",
    "T=velocity/velocity.norm() # calculate the unit vector\n",
    "s(T(t=1).n())\n",
    "arc_length = numerical_integral(velocity.norm(), 0,1)\n",
    "s(arc_length)\n",
    "x,y,z=var('x y z')\n",
    "plot_vector_field3d((x*cos(z),-y*cos(z),sin(z)), (x,0,pi), (y,0,pi), (z,0,pi),colors=['red','green','blue'])"
   ]
  },
  {
   "cell_type": "markdown",
   "id": "1a44f114",
   "metadata": {},
   "source": [
    "### Week 6"
   ]
  },
  {
   "cell_type": "code",
   "execution_count": null,
   "id": "dec95c62",
   "metadata": {},
   "outputs": [],
   "source": [
    "var('y')\n",
    "s(diff((ln(x^2+y^2))/2,y))\n",
    "s(diff(arctan(y/x),x))\n",
    "s(n(arctan(3+sqrt(3))*180/pi))\n",
    "s(n(sqrt(13+6*sqrt(3))))"
   ]
  },
  {
   "cell_type": "markdown",
   "id": "7c722b85",
   "metadata": {},
   "source": [
    "### Week 5"
   ]
  },
  {
   "cell_type": "code",
   "execution_count": null,
   "id": "c8b71baf",
   "metadata": {},
   "outputs": [],
   "source": [
    "var('y a n')\n",
    "f=a*e^(-x-y-a)\n",
    "s(integral(integral(f,x,0,a),y,0,a))\n",
    "s(diff(-x*y/(x^2+y^2),x))\n",
    "s(diff(x^2/(x^2+y^2),y))\n",
    "s(diff(1/(x^2+1)^(3/2),x))\n",
    "s(expand(integral(3*x*(y-(a/2)),x,n-(a/2),n+(a/2))))"
   ]
  },
  {
   "cell_type": "markdown",
   "id": "78e62221-2aa8-4482-a86a-968cedb27c79",
   "metadata": {},
   "source": [
    "### Week 4"
   ]
  },
  {
   "cell_type": "code",
   "execution_count": null,
   "id": "545ee0dd-c7ff-47b0-ae8f-d21c4a5eec76",
   "metadata": {},
   "outputs": [],
   "source": [
    "var('x y')\n",
    "s(diff(x/sqrt(x^2+y^2), y))\n",
    "s(diff(y/sqrt(x^2+y^2), x))\n",
    "s(diff(-x/sqrt(x^2+y^2), x))\n",
    "s(diff(-y/sqrt(x^2+y^2), y))"
   ]
  },
  {
   "cell_type": "markdown",
   "id": "a703a45b",
   "metadata": {},
   "source": [
    "## Complex Analysis"
   ]
  },
  {
   "cell_type": "markdown",
   "id": "9d825376",
   "metadata": {},
   "source": [
    "Notes:\n",
    "- Cauchy-Riemann Equations($z=x+iv$): $\\frac{du}{dx}=\\frac{dv}{dy}\\quad\\frac{du}{dy}=-\\frac{dv}{dx}$\n",
    "    - Rewritten Form: $\\frac{du}{dx}-\\frac{dv}{dy}=0\\quad\\frac{du}{dy}+\\frac{dv}{dx}=0$\n",
    "    - Any function that satisfies these equations are analytic.\n",
    "- (Cauchy's) Residue Theorem: $\\int_\\gamma dzg(z)=2\\pi i\\sum_{\\text{poles of g inside }\\gamma}(\\text{residue of each pole of }g)$\n",
    "- Residue: The residue of $g(z)=\\frac{f(z)}{(z-z_0)}$ is $f(z_0)$. It can $\\lim_{z\\rightarrow z_n}(z-z_n)(\\text{integrand of contour integral})$"
   ]
  },
  {
   "cell_type": "markdown",
   "id": "7da35d7b",
   "metadata": {},
   "source": [
    "### Coding review"
   ]
  },
  {
   "cell_type": "code",
   "execution_count": null,
   "id": "8e654429",
   "metadata": {},
   "outputs": [],
   "source": [
    "show(complex_plot(sin(x), (-5, 5), (-5, 5), figsize=3))\n",
    "f(z)=z^5 + z - 1 + 1/z\n",
    "complex_plot(f, (-3, 3), (-3, 3), plot_points=300,figsize=4,contoured=True)"
   ]
  },
  {
   "cell_type": "markdown",
   "id": "13fe8d67",
   "metadata": {},
   "source": [
    "### Week 8"
   ]
  },
  {
   "cell_type": "code",
   "execution_count": null,
   "id": "a4657ea7",
   "metadata": {},
   "outputs": [],
   "source": [
    "limit(pi*cot(pi*z)/z^2,z=0)"
   ]
  },
  {
   "cell_type": "code",
   "execution_count": null,
   "id": "1f3a9ca1",
   "metadata": {},
   "outputs": [],
   "source": [
    "var('a b')\n",
    "assume(a>0)\n",
    "assume(b>0)\n",
    "bool(integral(cos(b*x)/(x^2+a^2),x,-oo,oo)==pi*(e^(-a*b))/a)"
   ]
  },
  {
   "cell_type": "code",
   "execution_count": null,
   "id": "bacf1e5e",
   "metadata": {},
   "outputs": [],
   "source": [
    "var('u b')\n",
    "s(diff((x-u)*e^(i*b*x),x))"
   ]
  },
  {
   "cell_type": "code",
   "execution_count": null,
   "id": "b2771dfa",
   "metadata": {},
   "outputs": [],
   "source": [
    "bool(integral(1/(2-sin(x)),x,0,2*pi)==2*pi/sqrt(3))"
   ]
  },
  {
   "cell_type": "code",
   "execution_count": null,
   "id": "93bfbecd",
   "metadata": {},
   "outputs": [],
   "source": [
    "var('a')\n",
    "assume(a>0)\n",
    "assume(a<1)\n",
    "integral(1/(1+a^2-2*a*cos(x)),x,0,2*pi)"
   ]
  },
  {
   "cell_type": "code",
   "execution_count": null,
   "id": "f6fec986",
   "metadata": {},
   "outputs": [],
   "source": [
    "s(diff((x-u)*e^(i*m*x),x))\n",
    "assume(m>0)\n",
    "s(integral(cos(m*x)/(1+x^4),x,0,oo))"
   ]
  },
  {
   "cell_type": "code",
   "execution_count": null,
   "id": "82e353c4",
   "metadata": {},
   "outputs": [],
   "source": [
    "var('u')\n",
    "s((1-u/2+u^2/24)/(1-u/6+u^2/120))\n",
    "s(diff(tan(pi*x),x))\n",
    "s(diff((x-u)*cos(pi*x),x))"
   ]
  },
  {
   "cell_type": "code",
   "execution_count": null,
   "id": "0b954772",
   "metadata": {},
   "outputs": [],
   "source": [
    "s(diff(cot(pi*x),x))\n",
    "s(diff(sin(pi*x)^2))\n",
    "plot(pi/(x^2*tan(pi*x)),x,-3,3,ymin=-10,ymax=10)"
   ]
  },
  {
   "cell_type": "code",
   "execution_count": null,
   "id": "450398f0",
   "metadata": {},
   "outputs": [],
   "source": [
    "var('c y z')\n",
    "f=x^y*cos(z)\n",
    "s(diff(x^2*diff(f,x),x)+diff(sin(z)*diff(f,z),z)/sin(z))"
   ]
  },
  {
   "cell_type": "code",
   "execution_count": null,
   "id": "a3d7c26c",
   "metadata": {},
   "outputs": [],
   "source": [
    "s(integral(1/(x^2-2*x+4),x,-oo,oo))\n",
    "s(diff(x^2*tan(pi*x),x))\n",
    "s(diff(pi*cot(pi*x),x))\n",
    "s(diff(x^2/(pi*cot(pi*x)),x))"
   ]
  },
  {
   "cell_type": "code",
   "execution_count": null,
   "id": "db6a49ac",
   "metadata": {},
   "outputs": [],
   "source": [
    "var('x y')\n",
    "z=x+i*y\n",
    "print(bool(1/z==(x-i*y)/(x^2+y^2)))\n",
    "print(bool(z^2==x^2-y^2+2*i*x*y))\n",
    "print(bool(z^3==x*(x^2-3*y^2)+i*y*(3*x^2-y^2)))"
   ]
  },
  {
   "cell_type": "code",
   "execution_count": null,
   "id": "43a7a246",
   "metadata": {},
   "outputs": [],
   "source": [
    "var('x')\n",
    "print(n(integral( (x+2-i) / (x-3*i/2) ,x,-1,1)/2/pi/i))\n",
    "print(n(integral(i*(1+i*x+2)/(1+i*x-i/2),x,-1,1)/2/pi/i))\n",
    "print(n(integral((x-i-2)/(-x+i-i/2),x,-1,1)/2/pi/i))\n",
    "print(n(integral(i*(1-i*x)/(i*x+1+i/2),x,-1,1)/2/pi/i))"
   ]
  },
  {
   "cell_type": "markdown",
   "id": "85453ab4",
   "metadata": {},
   "source": [
    "## Linear Algebra"
   ]
  },
  {
   "cell_type": "markdown",
   "id": "cd43a2ff",
   "metadata": {},
   "source": [
    "### Review\n",
    "\n",
    " | Algebra | Linear Algebra | Concept consistency |\n",
    "| --- | --- | --- | \n",
    "| Solves scalar equations, e.g., polynomials like $ax^2+bx+c=0$. Methods: factoring, quadratic formula. | Solves systems of linear equations, e.g., $Ax=b$. Methods: Gaussian elimination, matrix inversion. | **Solving Equations:** Both seek solutions to equations; algebra focuses on scalar polynomials, linear algebra on vector/matrix systems. |\n",
    "| Finds roots of polynomials, e.g., $x^2 - 3x + 2 = 0$ gives $x=1,2$. | Finds eigenvalues via characteristic polynomial $\\det(A - \\lambda I) = 0$ . | **Roots and Eigenvalues:** Both involve root-finding of polynomials; eigenvalues are roots of matrix-derived polynomials. |\n",
    "| Operations on numbers, polynomials, or abstract structures (groups, rings). E.g., polynomial multiplication. | Operations on vectors/matrices (addition, multiplication). Vector spaces define structure. | **Operations and Structures:** Both study structured sets with operations; algebra emphasizes general algebraic structures, linear algebra focuses on vector spaces. |\n",
    "| Studies functions, e.g., $f(x) = x^2 + 3$, or homomorphisms in abstract algebra. | Studies linear transformations, e.g., $T(v) = Av$, represented by matrices. | **Functions and Transformations:** Both analyze mappings; algebra includes nonlinear functions, linear algebra restricts to linear transformations. |\n",
    "| Factors polynomials, e.g., $x^2 - 1 = (x-1)(x+1)$, or integers into primes. | Decomposes matrices, e.g., eigendecomposition $A = PDP^{-1}$ or LU decomposition. | **Factorization and Decomposition:** Both break complex objects into simpler parts; algebra factors scalars, linear algebra decomposes matrices. |\n",
    "| Studies groups, rings, fields. E.g., integers form a ring, polynomials a ring. | Studies vector spaces, matrix rings. E.g., $n \\times n$ matrices form a ring. | **Abstract Structures:** Both explore abstract systems with operations; vector spaces are modules, and matrix rings align with algebraic rings. |\n",
    "\n",
    " <img src=\"https://raw.githubusercontent.com/tomctang/NB_img/main/eigen_polynomi.jpg\" alt=\"eigen\" width=\"650\">\n"
   ]
  },
  {
   "cell_type": "markdown",
   "id": "ea6c6078",
   "metadata": {},
   "source": [
    "Notes\n",
    "- Row Reduction : Method where make lower-left triangle of 0s using augmentation. Uses shown below.\n",
    "    - Linear Equations(Homogeneous : all RHS's=0) : Solve for variables one by one.\n",
    "    - Determinant : Product of the lead diagonal as all other products will be 0.\n",
    "    - Inverse : Use augmentation to find inverse.\n",
    "- Inverse($AA^{-1}=I$) : Use cofactors and adjoint(or row reduction) then divide by determinant(can also calculate using row reduction).\n",
    "- Determinant : Measures the factor by which an area or volume is multiplied by. Calculate using formula or row reduction.\n",
    "- Gram-Schmidt Orthogonalization :\n",
    "    - Formula:\n",
    "        - $\\large\\hat{e_1}=\\frac{v_1}{\\sqrt{v_1\\cdot v_1}}$\n",
    "        - $\\large\\hat{e_2}=\\frac{v_2-(v_2\\cdot\\hat{e_1})\\hat{e_1}}{|\\vec{e_2}|}$\n",
    "        - $\\large\\hat{e_3}=\\frac{v_3-(v_3\\cdot\\hat{e_1})\\hat{e_1}-(v_3\\cdot\\hat{e_2})\\hat{e_2}}{|\\vec{e_3}|}$\n",
    "        - For orthogonalization, determine coefficients by using the fact that $(e_i\\cdot e_j)=0$ where $\\cdot$ can mean dot product of $(f\\cdot g)=\\int_0^1dxf(x)g(x)$\n",
    "    - Applications : Includes linear algebra, numerical analysis, quantum mechanics, machine learning etc.\n",
    "- Eigenvalues & Eigenvectors\n",
    "    - Use determinant formula : Determinant of matrix minus $\\lambda I=0$\n",
    "    - Quick Method : \n",
    "        1. The mean of the eigenvalues is the mean of the numbers on the lead diagonal.\n",
    "        1. The determinant of the matrix is the product of the eigenvalues.\n",
    "        1. $d^2=m^2-p$ Eigenvalues $= m\\pm d$\n",
    "\n",
    " <img src=\"https://raw.githubusercontent.com/tomctang/NB_img/main/eigen_val_vec.jpeg\" alt=\"eigen\" width=\"850\">\n"
   ]
  },
  {
   "cell_type": "markdown",
   "id": "3cd836da",
   "metadata": {},
   "source": [
    "Lab Notes\n",
    "- When in series(circuit), the current is always the same.\n",
    "- Kirchhoff's Laws(can be used to solve for current or voltage)\n",
    "    - Current Law : The current entering a node is the same as the current exiting the same node as electrons can be created out of nothing and can't just disappear.\n",
    "    - Voltage Law : The voltage drop is 0 (one of the capacitors or resistors will probably be a voltage gain.)\n",
    "- Types of Circuits : \n",
    "    - Series\n",
    "    - Parallel\n",
    "    - RC(R:resistor, C:capacitor) : Circuit that comprises of only resistors and capacitors(and stuff connecting them). This has a constant current as it is only affected using arithmetic operations by the resistors and capacitors.\n",
    "    - RL/RLC(L:Inductor) : Circuit that also has an inductor which causes a non-constant current($V_L=L\\frac{dI}{dt}$).\n",
    "        - RLC circuits can make microwaves oscillating at its resonant frequency. Then using formulae you can get the right wavelength using the formula to make microwaves.\n",
    "\n",
    "**diff btw C and L??**"
   ]
  },
  {
   "cell_type": "markdown",
   "id": "59c9f3e7",
   "metadata": {},
   "source": [
    "### Problem Set 11"
   ]
  },
  {
   "cell_type": "code",
   "execution_count": null,
   "id": "a8bb33e2",
   "metadata": {},
   "outputs": [],
   "source": [
    "f(x) = 20*x^4-85*x^3-8037/16*x^2+5231/16*x+33789/128\n",
    "f(5/4)"
   ]
  },
  {
   "cell_type": "code",
   "execution_count": null,
   "id": "9b5cfeb0",
   "metadata": {},
   "outputs": [],
   "source": [
    "# Define the polynomials\n",
    "R.<x> = QQ[] # Polynomial ring for rational field\n",
    "f = 20*x^4-85*x^3-8037/16*x^2+5231/16*x+33789/128\n",
    "g = 2*x - 5\n",
    "\n",
    "# Perform long division using quo_rem()\n",
    "q, r = f.quo_rem(g)  # q is the quotient, r is the remainder\n",
    "\n",
    "# Print the results\n",
    "print(f\"Quotient: {q}\")\n",
    "print(f\"Remainder: {r}\")"
   ]
  },
  {
   "cell_type": "code",
   "execution_count": null,
   "id": "77172441",
   "metadata": {},
   "outputs": [],
   "source": [
    "a=8*x^4-90*x^3-5089/16*x^2+61009/128\n",
    "b=4*x^3+71/2*x^2-104*x+3211/32\n",
    "c=x^2-13/2*x+185/16\n",
    "s(expand(a+b*(2*x-5)+c*(2*x-5)^2))"
   ]
  },
  {
   "cell_type": "code",
   "execution_count": null,
   "id": "64b8907b",
   "metadata": {},
   "outputs": [],
   "source": [
    "a=y*(13/4-x)-(8*x^2*y-45*x*y+247/4*y)/(20-8*x)\n",
    "b=(8*x^2*y-45*x*y+247/4*y)/(20-8*x)\n",
    "s(expand(a^2+y^2+b^2)) # x=lambda"
   ]
  },
  {
   "cell_type": "code",
   "execution_count": null,
   "id": "5e55e7be",
   "metadata": {},
   "outputs": [],
   "source": [
    "var('x y z')\n",
    "s(expand((19-8*x)*(y*(13/4-x)-z)))"
   ]
  },
  {
   "cell_type": "code",
   "execution_count": null,
   "id": "a5114ba6",
   "metadata": {},
   "outputs": [],
   "source": [
    "var('a b d')\n",
    "A=matrix(2,2,[a,b,b,d])\n",
    "m=A.trace()/2\n",
    "p=A.det()\n",
    "l=m-sqrt(m^2-p)\n",
    "s(a-l,d-l)"
   ]
  },
  {
   "cell_type": "markdown",
   "id": "d864d792",
   "metadata": {},
   "source": [
    "### Week 10"
   ]
  },
  {
   "cell_type": "code",
   "execution_count": null,
   "id": "7613357a",
   "metadata": {},
   "outputs": [],
   "source": [
    "var('k l m1 m2 w')\n",
    "A=matrix(2,2,[w^2-(k+l)/m1,l/m1,l/m2,w^2-(k+l)/m2])\n",
    "s(A.eigenvalues())"
   ]
  },
  {
   "cell_type": "code",
   "execution_count": null,
   "id": "763d9c45",
   "metadata": {},
   "outputs": [],
   "source": [
    "var('a b c')\n",
    "s(expand((2*x-1)*(a+b*x+c*x^2)))\n",
    "s(integral((a+b*x+c*x^2)^2,x,0,1))\n",
    "s(integral(a*x^2+b*x+c,x,-1,1))\n",
    "s(integral(x*(a*x^2+b*x+c),x,-1,1))\n",
    "s(integral((a*x^2+c)^2,x,-1,1))"
   ]
  },
  {
   "cell_type": "code",
   "execution_count": null,
   "id": "55f6056d",
   "metadata": {},
   "outputs": [],
   "source": [
    "A=matrix([[2,1,-sqrt(2)]\n",
    "        ,[1,1,sqrt(2)]\n",
    "        ,[-sqrt(2),sqrt(2),1]])\n",
    "s(expand(A.det()))\n",
    "s(A.eigenvectors_right())"
   ]
  },
  {
   "cell_type": "code",
   "execution_count": null,
   "id": "53f00667",
   "metadata": {},
   "outputs": [],
   "source": [
    "M=[[1,0,0,6,2],[7,5,3,3,5],[3,1,4,3,4],[8,0,0,0,2],[5,8,3,5,7]]\n",
    "for i in [1,2,3,4]:\n",
    "    for j in [1,2,3,4]:\n",
    "        M[i][j]-=M[0][j]*M[i][0]/M[0][0]\n",
    "    M[i][0]=0\n",
    "for i in [2,3,4]:\n",
    "    for j in [2,3,4]:\n",
    "        M[i][j]-=M[1][j]*M[i][1]/M[1][1]\n",
    "    M[i][1]=0\n",
    "for i in [3,4]:\n",
    "    for j in [3,4]:\n",
    "        M[i][j]-=M[2][j]*M[i][2]/M[2][2]\n",
    "    M[i][2]=0\n",
    "M[4][4]-=M[3][4]*M[4][3]/M[3][3]\n",
    "M[4][3]=0\n",
    "s(matrix(5,5,M))"
   ]
  },
  {
   "cell_type": "code",
   "execution_count": null,
   "id": "d691b308",
   "metadata": {},
   "outputs": [],
   "source": [
    "s(factor(10062))\n",
    "s(factor(75335))\n",
    "s(factor(31434))\n",
    "s(factor(80002))\n",
    "s(factor(58357))\n",
    "s(factor(408))"
   ]
  },
  {
   "cell_type": "markdown",
   "id": "ce80dc3c",
   "metadata": {},
   "source": [
    "### Week 9"
   ]
  },
  {
   "cell_type": "code",
   "execution_count": null,
   "id": "63d95cea",
   "metadata": {},
   "outputs": [],
   "source": [
    "var('t')\n",
    "assume(t>0)\n",
    "bool(integral(e^(i*t*x)/(x-3-i),x,-oo,oo)==2*pi*i*e^(-t+3*i*t))"
   ]
  },
  {
   "cell_type": "code",
   "execution_count": null,
   "id": "feae0cd1",
   "metadata": {},
   "outputs": [],
   "source": [
    "A=matrix(4,4,[1,3,-1,2,2,1,3,1,-1,2,-4,1,-2,1,2,-3])\n",
    "A.det()"
   ]
  },
  {
   "cell_type": "code",
   "execution_count": null,
   "id": "771a5daa",
   "metadata": {},
   "outputs": [],
   "source": [
    "var('x')\n",
    "A=matrix(3,3,[1,2-x^2,2,2,3,1,2,3,1])\n",
    "A.det()\n",
    "expand(-3*(2-x^2)*(9-x^2)+3*(9-x^2)+15*(2-x^2)-15)"
   ]
  },
  {
   "cell_type": "markdown",
   "id": "0b5f4bcf",
   "metadata": {},
   "source": [
    "## Differential Equations"
   ]
  },
  {
   "cell_type": "markdown",
   "id": "8fffc51b",
   "metadata": {},
   "source": [
    "### Review"
   ]
  },
  {
   "cell_type": "markdown",
   "id": "6021cb36",
   "metadata": {},
   "source": [
    "Notes: \n",
    "\n",
    "- For a first-order DE, $\\frac{dy(t)}{dt}+q(t)y(t)=r(t)\\text{ has a solution }y(t)=y(t_0)e^{-\\int_{t_0}^t q(t')dt'}+e^{-\\int_{t_0}^t q(t''')dt'''}\\int_{t_0}^t dt'\\,r(t') e^{\\int_{t_0}^{t'}dt'' q(t'')}$\n",
    "\n",
    "- $y(t)$ Function Prototype, $t$ Dependent Variable\n",
    "- $y$ Function Name = Independent Variable\n",
    "\n",
    "<img src=\"https://raw.githubusercontent.com/tomctang/NB_img/main/de1.png\" alt=\"de1.png\" width=\"650\">\n",
    "\n",
    "<img src=\"https://raw.githubusercontent.com/tomctang/NB_img/main/de2.png\" alt=\"de2.png\" width=\"650\">\n",
    "\n",
    "notations: \n",
    "<img src=\"https://raw.githubusercontent.com/tomctang/NB_img/main/de3.png\" alt=\"de3.png\" width=\"500\">\n",
    "\n",
    "Four categories: order, linear, homo, PDE\n",
    "\n",
    "<img src=\"https://raw.githubusercontent.com/tomctang/NB_img/main/de4.png\" alt=\"de4.png\" width=\"490\">\n",
    "\n",
    "n-order <img src=\"https://raw.githubusercontent.com/tomctang/NB_img/main/de5.png\" alt=\"de5.png\" width=\"390\">\n",
    "\n",
    "Homo VS. Non-Homo <img src=\"https://raw.githubusercontent.com/tomctang/NB_img/main/de6.png\" alt=\"de6.png\" width=\"490\">\n",
    " \n",
    "PDE <img src=\"https://raw.githubusercontent.com/tomctang/NB_img/main/de7.png\" alt=\"de7.png\" width=\"490\">\n",
    "\n",
    "DE is governing equation\n",
    "\n",
    "<img src=\"https://raw.githubusercontent.com/tomctang/NB_img/main/de8.png\" alt=\"de8.png\" width=\"500\">\n",
    "\n",
    "Converting High Order Differential Equation into First Order Simultaneous Differential Equation\n",
    "\n",
    "<img src=\"https://raw.githubusercontent.com/tomctang/NB_img/main/de9.png\" alt=\"de8.png\" width=\"350\">\n",
    "\n",
    "<img src=\"https://raw.githubusercontent.com/tomctang/NB_img/main/de10.png\" alt=\"de8.png\" width=\"450\">\n",
    "\n",
    "e.g. <img src=\"https://raw.githubusercontent.com/tomctang/NB_img/main/de11.png\" alt=\"de8.png\" width=\"580\">\n"
   ]
  },
  {
   "cell_type": "markdown",
   "id": "196ad484",
   "metadata": {},
   "source": [
    "Five Easy Pieces(Non-linear ODE)\n",
    "\n",
    "For non-linear ODE of the form $N(t,y)dy+M(t,y)dt=0$ use five easy pieces.\n",
    "\n",
    "1. If it is of the form $\\frac{dy}{dt}+q(t)y=r(t)y^n$ then substitute $w=y^{1-n}$\n",
    "2. Is it of the form $N(y)\\text{ and }M(t)$? Then directly integrate\n",
    "3. Are both $M$ and $N$ homogeneous of the same degree(This means that $M(\\lambda t,\\lambda y)=\\lambda^kM(t,y)$ and $N(\\lambda t,\\lambda y)=\\lambda^k N(t,y)$.)? Reduce equation to 2nd form.\n",
    "4. Is it an exact differential : Check $\\frac{\\partial M}{\\partial y}=\\frac{\\partial N}{\\partial t}$. If yes, find a function $F$ such that it is an exact differential when integrating $M$ and $N$ to $t$ and $y$ respectively. Add the appropriate $+C$ to make the form work.\n",
    "5. Is it reducible to exact? Check by $\\frac{1}{N}\\left ( \\frac{\\partial M}{\\partial y}-\\frac{\\partial N}{\\partial t}\\right )$ and $\\frac{1}{M}\\left ( \\frac{\\partial M}{\\partial y}-\\frac{\\partial N}{\\partial t}\\right )$. $Q = \\exp \\left[ {\\int} \\frac{1}{M} \\left( \\frac{\\partial N}{\\partial t}-\\frac{\\partial M}{\\partial y} \\right) dy \\right]$"
   ]
  },
  {
   "cell_type": "markdown",
   "id": "6d9e0965",
   "metadata": {
    "vscode": {
     "languageId": "sage"
    }
   },
   "source": [
    "Common Types of DE\n",
    "- Separable differential equations\n",
    "- First-order linear differential equations\n",
    "- Simple Harmonic Motion\n",
    "- Homogeneous linear differential equations with constant coefficients\n",
    "- Bernoulli's equation\n",
    "- Logistic differential equations\n",
    "- Systmes of linear differential equations"
   ]
  },
  {
   "cell_type": "markdown",
   "id": "b478fec7",
   "metadata": {
    "vscode": {
     "languageId": "sage"
    }
   },
   "source": [
    "### Week 12"
   ]
  },
  {
   "cell_type": "code",
   "execution_count": null,
   "id": "362da1aa",
   "metadata": {},
   "outputs": [],
   "source": [
    "y = function('y')(x)  # Define y as a symbolic function of x\n",
    "desolve(diff(y,x)==x,y,show_method=True)"
   ]
  },
  {
   "cell_type": "code",
   "execution_count": 40,
   "id": "88a653e0",
   "metadata": {},
   "outputs": [
    {
     "data": {
      "text/latex": [
       "$\\displaystyle 0.925888965385744 \\qquad   $"
      ],
      "text/plain": [
       "<IPython.core.display.Math object>"
      ]
     },
     "metadata": {},
     "output_type": "display_data"
    }
   ],
   "source": [
    "var('t u x')\n",
    "assume(t>0)\n",
    "def bernoulli_0_1(p,q,t_0,y_0,n):\n",
    "    \"\"\" This is a function for solving Bernoulli equations. Sometimes there are errors \n",
    "    because the assume command has to be used. \"\"\"\n",
    "    if n==0:\n",
    "        y=e^-integral(p,x,t_0,t)*(y_0+integral(q*e^integral(p,x,t_0,u),u,t_0,t))\n",
    "        return y\n",
    "    elif n==1:\n",
    "        y=y_0*e^-integral(p-q,x,t_0,t)\n",
    "        return y\n",
    "    else:\n",
    "        raise Exception('Choose n that is 0 or 1.')\n",
    "def bernoulli_2(p,q,t_0,w_0,n):\n",
    "    y=e^-integral(p,x,t_0,t)*(w_0+integral(q*e^((1-n)*integral(p,x,t_0,u)),u,t_0,t))^(1/(1-n))\n",
    "    return y\n",
    "y(t)=bernoulli_2(-3*x,2,0,1,3)\n",
    "s(n(y(0.1)))"
   ]
  },
  {
   "cell_type": "code",
   "execution_count": null,
   "id": "076e0adb",
   "metadata": {},
   "outputs": [],
   "source": [
    "var('k')\n",
    "s(integral((k^2*sin(2*x))/sqrt(1/sin(x)^2-1),x))"
   ]
  },
  {
   "cell_type": "markdown",
   "id": "100d8284",
   "metadata": {},
   "source": [
    "### Week 11"
   ]
  },
  {
   "cell_type": "code",
   "execution_count": null,
   "id": "bf85ec17",
   "metadata": {},
   "outputs": [],
   "source": [
    "var('t a')\n",
    "assume(t>1)\n",
    "assume(a>0)\n",
    "s(integral(sin(x)/x,x,1,t))\n",
    "s(integral(tan(x),x,0,a))\n",
    "s(integral(x*sin(2*x)*cos(x),x,0,a))"
   ]
  }
 ],
 "metadata": {
  "kernelspec": {
   "display_name": "SageMath 10.5",
   "language": "sage",
   "name": "sagemath"
  },
  "language_info": {
   "codemirror_mode": {
    "name": "ipython",
    "version": 3
   },
   "file_extension": ".py",
   "mimetype": "text/x-python",
   "name": "sage",
   "nbconvert_exporter": "python",
   "pygments_lexer": "ipython3",
   "version": "3.12.5"
  }
 },
 "nbformat": 4,
 "nbformat_minor": 5
}
