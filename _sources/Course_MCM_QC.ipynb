{
 "cells": [
  {
   "cell_type": "markdown",
   "id": "9b284ec6",
   "metadata": {},
   "source": [
    "# Quantum Mechanics\n",
    "\n",
    "[Quantum Mechanics for Everyone](https://www.edx.org/learn/quantum-physics-mechanics/georgetown-university-quantum-mechanics-for-everyone) is the experimental foundation. \n",
    "\n",
    "In formal QM, use [**SymPy’s quantum module**](https://docs.sympy.org/latest/modules/physics/quantum/index.html): operators, commutators, wavefunctions, and quantum states (e.g., harmonic oscillator, spin systems). And [**Wolfram Quantum Framework**](https://www.wolfram.com/quantum-computation-framework/)"
   ]
  },
  {
   "cell_type": "markdown",
   "id": "58801dea",
   "metadata": {},
   "source": [
    "## QM for Everyone"
   ]
  }
 ],
 "metadata": {
  "language_info": {
   "name": "python"
  }
 },
 "nbformat": 4,
 "nbformat_minor": 5
}
