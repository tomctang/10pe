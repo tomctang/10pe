{
  "cells": [
    {
      "cell_type": "markdown",
      "metadata": {},
      "source": [
        "# Mathematica",
        "## Problems 1-50"
      ]
    },
    {
      "cell_type": "code",
      "metadata": {},
      "source": [
        "(* 26 *)",
        "(* learn 4 functions: ",
        "    Association[]",
        "    Module[]",
        "    KeyExistsQ[]",
        "    Mod[] *)",
        "cycleLength[d_] := Module[{rems = Association[], num = 1, pos = 1},",
        "  While[! KeyExistsQ[rems, num] && num != 0,",
        "    rems[num] = pos;",
        "    num = Mod[10 num, d];",
        "    pos++   ];",
        "  If[num == 0, 0, pos - rems[num]]];",
        "",
        "SortBy[Range[888, 999], cycleLength]",
        "cycleLength[983]"
      ],
      "outputs": [],
      "execution_count": null
    },
    {
      "cell_type": "code",
      "metadata": {},
      "source": [
        "(* 31 Coin Sums: use graph traversal (DFS) with memoization*)",
        "(* learn functions:",
        "    ClearAll[] ",
        "    Memoization(:= ... =): store results to avoid recalculating for the same pair",
        "    Table[]: loop over each coin in validCoins *)",
        "ClearAll[graphSearchWays];",
        "validCoins = {1, 2, 5, 10, 20, 50, 100, 200};",
        "graphSearchWays[n_, maxCoin_] := graphSearchWays[n, maxCoin] =",
        "  If[n == 0, ",
        "          1, ",
        "   Total[Table[If[coin <= maxCoin && coin <= n, ",
        "                graphSearchWays[n - coin, coin], ",
        "                  0], {coin, validCoins}]]];",
        "",
        "graphSearchWays[200, 200] (*calculate n of total pairs*)",
        "TreeForm[ (*see logic structure*)",
        "  If[n == 0, 1, ",
        "  Total[Table[If[coin <= maxCoin && coin <= n, ",
        "              graphSearchWays[n - coin, coin], ",
        "              0], {coin, validCoins}]]]]"
      ],
      "outputs": [],
      "execution_count": null
    },
    {
      "cell_type": "code",
      "metadata": {},
      "source": [
        "(* 32 Pandigital Products",
        "    1) memoization ",
        "    2) form number from digits",
        "    *)",
        "num = {1, 2, 3, 4, 5, 6, 7, 8, 9};",
        "",
        "numSearch[] := numSearch[] =",
        "    Total[Table[If[multiplicand*multiplier == product, ",
        "",
        "        Fold[10#1 + #2 &,  ]",
        "                numSearch[num - dig, dig], 0],  {dig, num}",
        "]]",
        "numSearch[]"
      ],
      "outputs": [],
      "execution_count": null
    },
    {
      "cell_type": "code",
      "metadata": {},
      "source": [
        "(*35 Circular Sums*) ",
        "rotations[n_Integer] := Module[{digits = IntegerDigits[n]},",
        "  FromDigits /@ NestList[RotateLeft, digits, Length[digits] - 1]]",
        "",
        "isCircularPrime[n_Integer] := AllTrue[rotations[n], PrimeQ] (*if all rotations of a number are prime*)",
        "circularPrimes = Select[Range[2, 999999], isCircularPrime]"
      ],
      "outputs": [],
      "execution_count": null
    },
    {
      "cell_type": "code",
      "metadata": {},
      "source": [
        "(* 38 Pandigital Multiples",
        "    already presented (1,2,3) and (1,2,3,4,5)->918273645,(1,2,3,4,5,6,7,8,9)->123456789,calculated 3 options and n>1",
        "    left 2 options: (1,2,3,4,5,6,7) (1,2,3,4,5,6,7,8) *)",
        "(* (1,2) *1=****, *2=1****,",
        " (1,2,3,4) *1=**, *2=**, *3=**, *4=***,",
        "  (1,2,3,4,5,6) *1=*, *2=*, *3=*, *4=**, *5=**, *6=**,",
        "   (1,2,3,4,5,6,7) and (1,2,3,4,5,6,7,8) not possible*)",
        "Select[Range[5000, 9999], ",
        "  Function[n, ",
        "    Length[Union[IntegerDigits[n], IntegerDigits[2 n]]] == 9 && ",
        "    1000 <= 2 n < 100000",
        "  ]",
        "]",
        "Select[Range[10, 99], Function[n, Length[Union[IntegerDigits[n #]] & /@ Range[4]]] == 9]",
        "Select[Range[1, 100], ",
        "  Function[n, ",
        "    Length[Union[IntegerDigits[n], IntegerDigits[6 n]]] == 9 && ",
        "    1 <= 6 n < 100000",
        "  ]",
        "]",
        "Select[Range[100,1000], ",
        "  Function[n, ",
        "    Length[Union[IntegerDigits[n], IntegerDigits[3 n]]] == 9 && ",
        "    1 <= 3 n < 100000",
        "  ]",
        "]"
      ],
      "outputs": [],
      "execution_count": null
    },
    {
      "cell_type": "code",
      "metadata": {},
      "source": [
        "(* 45 Triangular, Pentagonal, and Hexagonal ",
        "    what I can learn?",
        "    1) defining series ",
        "    2) finding common items in lists ",
        "    Faster Method???*)",
        "",
        "isTriangular[n_Integer] := Module[{k},",
        "  k = (-1 + Sqrt[1 + 8 n]) / 2;",
        "  IntegerQ[k]",
        "]",
        "",
        "isPentagonal[n_Integer] := Module[{k},",
        "  k = (1 + Sqrt[1 + 24 n]) / 6;",
        "  IntegerQ[k]",
        "]",
        "",
        "isHexagonal[n_Integer] := Module[{k},",
        "  k = (1 + Sqrt[1 + 8 n]) / 4;",
        "  IntegerQ[k]",
        "]",
        "",
        "(* Example usage *)",
        "isTriangularPentagonalHexagonal[n_]:=isTriangular[n]&&isPentagonal[n]&&isHexagonal[n]",
        "lst=Table[isTriangularPentagonalHexagonal[n],{n,50000000,60000000}];",
        "Count[lst,True]"
      ],
      "outputs": [],
      "execution_count": null
    },
    {
      "cell_type": "code",
      "metadata": {},
      "source": [
        "(* 47 Distinct Primes Factors*)",
        "lst=Table[FactorInteger[n],{n,134040,134050}];",
        "lst1=Length/@lst;",
        "ans=Select[Range[Length[lst1]],lst1[[#]]==4&];",
        "ans1=Select[Range[3,Length[ans]],ans[[#]]==ans[[#-3]]+3&]",
        "ans",
        "(* learn 5 functions:",
        "    Table[]",
        "    Length[]",
        "    FactorInteger[]",
        "    Select[]",
        "    Range[]*)"
      ],
      "outputs": [],
      "execution_count": null
    },
    {
      "cell_type": "code",
      "metadata": {},
      "source": [
        "matrix = {",
        "  {7, 53, 183, 439, 863, 497, 383, 563, 79, 973, 287, 63, 343, 169, 583},",
        "  {627, 343, 773, 959, 943, 767, 473, 103, 699, 303, 957, 703, 583, 639, 913},",
        "  {447, 283, 463, 29, 23, 487, 463, 993, 119, 883, 327, 493, 423, 159, 743},",
        "  {217, 623, 3, 399, 853, 407, 103, 983, 89, 463, 290, 516, 212, 462, 350},",
        "  {960, 376, 682, 962, 300, 780, 486, 502, 912, 800, 250, 346, 172, 812, 350},",
        "  {870, 456, 192, 162, 593, 473, 915, 45, 989, 873, 823, 965, 425, 329, 803},",
        "  {973, 965, 905, 919, 133, 673, 665, 235, 509, 613, 673, 815, 165, 992, 326},",
        "  {322, 148, 972, 962, 286, 255, 941, 541, 265, 323, 925, 281, 601, 95, 973},",
        "  {445, 721, 11, 525, 473, 65, 511, 164, 138, 672, 18, 428, 154, 448, 848},",
        "  {414, 456, 310, 312, 798, 104, 566, 520, 302, 248, 694, 976, 430, 392, 198},",
        "  {184, 829, 373, 181, 631, 101, 969, 613, 840, 740, 778, 458, 284, 760, 390},",
        "  {821, 461, 843, 513, 17, 901, 711, 993, 293, 157, 274, 94, 192, 156, 574},",
        "  {34, 124, 4, 878, 450, 476, 712, 914, 838, 669, 875, 299, 823, 329, 699},",
        "  {815, 559, 813, 459, 522, 788, 168, 586, 966, 232, 308, 833, 251, 631, 107},",
        "  {813, 883, 451, 509, 615, 77, 281, 613, 459, 205, 380, 274, 302, 35, 805}",
        "};",
        "maxRowTotal = Max[Total /@ matrix]",
        "maxColumnTotal=Max[Total /@ Transpose[matrix]]"
      ],
      "outputs": [],
      "execution_count": null
    },
    {
      "cell_type": "markdown",
      "metadata": {},
      "source": [
        "## Problems 51-100"
      ]
    },
    {
      "cell_type": "code",
      "metadata": {},
      "source": [
        "(* 65 Convergents of e *)",
        ""
      ],
      "outputs": [],
      "execution_count": null
    },
    {
      "cell_type": "code",
      "metadata": {},
      "source": [
        "(* 69 Totient Maximum, also called \\phi function*)",
        "(* seq = Table[ n/Length[Select[Range[n], CoprimeQ[#, n] == True &]]",
        "             , {n, 10}] ;   pretty slow  *)",
        "seq = Table[ n/EulerPhi[n] , {n, 1000000} ];",
        "Position[seq, Max[seq]]",
        "Max[seq]"
      ],
      "outputs": [],
      "execution_count": null
    },
    {
      "cell_type": "markdown",
      "metadata": {},
      "source": [
        "\u6b27\u62c9\u51fd\u6570 Euler's Totient Function has a general formulas as below, $p_i$ is all of the coprime of x, where x is a positive integer.",
        "$$\\phi(x)=x\\prod_{i=1}^n(1-\\frac{1}{p_i})$$"
      ]
    },
    {
      "cell_type": "code",
      "metadata": {},
      "source": [
        "(* 71 Ordered Fractions ",
        "    Table[] gen [{numerator}, {denominator}]",
        "    Floor[] gen greatest integer <= d*target",
        "    Select[] and MaximalBy[] \u7ed3\u6784\u90fd\u662f list + function",
        "    [[2]] the 2nd item, #[[2]] the 2nd input of the function ",
        "    *)",
        "target = 3/7;",
        "MaximalBy[Select[  Table[ {Floor[d*target], d}, {d, 2, 1000000} ], ",
        "                          #[[1]]/#[[2]] < target & ], ",
        "         #[[1]]/#[[2]] & ]"
      ],
      "outputs": [],
      "execution_count": null
    },
    {
      "cell_type": "code",
      "metadata": {},
      "source": [
        "(* 80 Square Root Digital Expansion*)",
        "numberDigits = RealDigits[Sqrt[2], 10, 100][[1]]",
        "lst=Complement[Range[1, 99], Table[n^2, {n, 1, Floor[Sqrt[99]]}]];",
        "totalNumberDigits=Table[RealDigits[Sqrt[i], 10, 100][[1]],{i,lst}];",
        "lst1={{1,2,3,4,5},{6,7,8,9,10}};",
        "Total[Total[lst1]]",
        "Total[Total[totalNumberDigits]]",
        "(* learn 3 functions:",
        "    RealDigits[] give a list of len digit",
        "    Complement[] after excluding the subsequent lists, the complement from the first list ",
        "    Total[] *)"
      ],
      "outputs": [],
      "execution_count": null
    },
    {
      "cell_type": "code",
      "metadata": {},
      "source": [
        "(* 99 ",
        "   base^exponent =e^[exponent\u22c5log(base)]",
        "   [[2]] denotes the 2nd item in {{1,2},{1,2}} ",
        "    *)",
        "data = Import[\"https://projecteuler.net/resources/documents/0099_base_exp.txt\", \"CSV\"];",
        "new = Map[#[[2]] * Log[#[[1]]] &, data];",
        "Position[new, Max[new]]"
      ],
      "outputs": [],
      "execution_count": null
    },
    {
      "cell_type": "markdown",
      "metadata": {},
      "source": [
        "## Problems 101-200"
      ]
    },
    {
      "cell_type": "code",
      "metadata": {},
      "source": [
        "(* 125 Palindromic Sums *)",
        "(* add Boole[] to count number of times when <10^8 *)",
        "(* learnt functions:",
        "    Accumulate[]",
        "    AnyTrue[{},test] true if any input passes the test",
        "    MemberQ[{},___] true if any element in list is ___",
        "    Module[]??? *)",
        "isSumOfConsecutiveSquares[n_Integer] := ",
        " Module[{maxK, sumsOfSquares},",
        "  maxK = Floor[Sqrt[n]];",
        "",
        "  (* Generate cumulative sums of consecutive squares starting from each k *)",
        "  sumsOfSquares = Table[",
        "    Accumulate[Table[(k + i)^2, {i, 0, maxK - k}]],",
        "    {k, 1, maxK}",
        "  ];",
        "",
        "  (* Check if any sum sequence contains n with more than one term *)",
        "  AnyTrue[sumsOfSquares, MemberQ[#, n] && Length[#] > 1 &]",
        "]",
        "",
        "isSumSquaresPalindromic[n_Integer]:=isSumOfConsecutiveSquares[n]&&PalindromeQ[n]",
        "lst=Table[isSumSquaresPalindromic[n],{n,2,9999}];",
        "Count[lst,True]"
      ],
      "outputs": [],
      "execution_count": null
    },
    {
      "cell_type": "code",
      "metadata": {},
      "source": [
        "(* 162 Hexadecimal Numbers *)",
        "lst=Table[(n-1)*Factorial[n-1]/Factorial[n-3]*(14^(n-3)),{n,3,16}];",
        "lst1=Table[(n-1)*Factorial[n-1]/Factorial[n-3]*(16^(n-3)),{n,3,16}];",
        "n=(Total[lst1]-Total[lst])/2;",
        "n=",
        "BaseForm[Total[lst]+n,16]"
      ],
      "outputs": [],
      "execution_count": null
    },
    {
      "cell_type": "code",
      "metadata": {},
      "source": [
        "14*Factorial[14]/Factorial[12]",
        "15*Factorial[15]/Factorial[13]",
        "2*Factorial[2]/Factorial[0]*16^0"
      ],
      "outputs": [],
      "execution_count": null
    },
    {
      "cell_type": "code",
      "metadata": {},
      "source": [
        "0123456789ABCDEF",
        "[1,A,0,0,0,0,0,0,0,0,0,0,0,0,0,0]"
      ],
      "outputs": [],
      "execution_count": null
    },
    {
      "cell_type": "code",
      "metadata": {},
      "source": [
        "(* 187 Semiprimes ",
        "    Q: the code takes 11min, faster??? *)",
        "Total[Table[ ",
        "            Boole[ Total[FactorInteger[n]][[2]] == 2 ]",
        "            , {n,3,99999999} ] ",
        "    ]"
      ],
      "outputs": [],
      "execution_count": null
    },
    {
      "cell_type": "code",
      "metadata": {},
      "source": [
        "(* speed up but wrong answer ?? - add {{_,2}} *)",
        "(* takes >11 min??? *)",
        "Count[ FactorInteger /@ Range[3, 10^8-1] ",
        "      ,{{_, 1},{_, 1}} | {{_,2}}",
        "      ]"
      ],
      "outputs": [],
      "execution_count": null
    },
    {
      "cell_type": "code",
      "metadata": {},
      "source": [
        "lst=Table[ ",
        "    Boole[ Length[ FactorInteger[n] ]==2 ],",
        "    {n,3,30}]"
      ],
      "outputs": [],
      "execution_count": null
    },
    {
      "cell_type": "code",
      "metadata": {},
      "source": [
        "lst={{2,5},{3,1}};",
        "Total[lst][[2]]"
      ],
      "outputs": [],
      "execution_count": null
    }
  ],
  "metadata": {},
  "nbformat": 4,
  "nbformat_minor": 5
}