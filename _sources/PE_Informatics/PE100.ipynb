{
 "cells": [
  {
   "cell_type": "markdown",
   "metadata": {},
   "source": [
    "# Project Euler Q51-"
   ]
  },
  {
   "cell_type": "code",
   "execution_count": null,
   "metadata": {},
   "outputs": [],
   "source": [
    "%run PE_pre_running.py"
   ]
  },
  {
   "cell_type": "markdown",
   "metadata": {},
   "source": [
    "## PE 51"
   ]
  },
  {
   "cell_type": "code",
   "execution_count": null,
   "metadata": {},
   "outputs": [],
   "source": [
    "# 51 Prime Digit Replacements\n",
    "def prime_replacements(num:int,changed:list):\n",
    "    lst=list(map(int,str(num)))\n",
    "    n=[]\n",
    "    if 0 in changed:\n",
    "        limits=range(1,10)\n",
    "    else:\n",
    "        limits=range(10)\n",
    "    for i in limits:\n",
    "        n.append(int(''.join([str(i) if j in changed else str(lst[j]) for j in range(len(lst))])))\n",
    "    n=list(filter(lambda x:prime(x),n))\n",
    "    return n\n",
    "def valid(n):\n",
    "    s=list(str(n))\n",
    "    for i in set(s):\n",
    "        if s.count(i)%3==0:\n",
    "            return i\n",
    "    return False\n",
    "lst=prime_range(10^6)\n",
    "lst=list(filter(lambda x:valid(x)!=False,lst))\n",
    "for i in lst:\n",
    "    v=valid(i)\n",
    "    changed=[j for j in range(len(str(i))) if str(i)[j]==v]\n",
    "    if len(prime_replacements(i,changed))==8:\n",
    "        # print(prime_replacements(i,changed)) undo commenting to reveal answer\n",
    "        break"
   ]
  },
  {
   "cell_type": "markdown",
   "metadata": {},
   "source": [
    "## PE 52"
   ]
  },
  {
   "cell_type": "code",
   "execution_count": null,
   "metadata": {},
   "outputs": [],
   "source": [
    "#52 Permuted Multiples\n",
    "def permuted(n):\n",
    "    listnum=list(map(int, str(n)))\n",
    "    listnum1=listnum[:]\n",
    "    listnum1.sort()\n",
    "    m=1\n",
    "    old=list_to_int(listnum)\n",
    "    while True:\n",
    "        n=old*(m+1)\n",
    "        test=list(map(int, str(n)))\n",
    "        test.sort()\n",
    "        if test!=listnum1:\n",
    "            break\n",
    "        m+=1\n",
    "    return m\n",
    "def solve(m):\n",
    "    n=1000\n",
    "    while True:\n",
    "        num=permuted(n)\n",
    "        if num>=m:\n",
    "            break\n",
    "        n+=1\n",
    "    return n\n",
    "print(solve(6))"
   ]
  },
  {
   "cell_type": "markdown",
   "metadata": {},
   "source": [
    "## PE 53"
   ]
  },
  {
   "cell_type": "code",
   "execution_count": null,
   "metadata": {},
   "outputs": [],
   "source": [
    "# 53 Combinatoric Selections\n",
    "def ncr(n, r):\n",
    "    return factorial(n)/(factorial(r)*factorial(n-r))\n",
    "\n",
    "over_million=0\n",
    "for n in range(22,101):\n",
    "    for r in range(3,n-1):\n",
    "        if ncr(n,r)>1000000:\n",
    "            over_million+=1\n",
    "over_million"
   ]
  },
  {
   "cell_type": "markdown",
   "metadata": {},
   "source": [
    "## PE 54"
   ]
  },
  {
   "cell_type": "code",
   "execution_count": null,
   "metadata": {},
   "outputs": [],
   "source": [
    "import requests\n",
    "response = requests.get(\"https://projecteuler.net/resources/documents/0054_poker.txt\")   # request.get the URL\n",
    "content = response.text     # Read the content of the response\n",
    "hands=content.split('\\n')\n",
    "hands=[hand.split() for hand in hands]\n",
    "hands=hands[:-1]\n",
    "hands\n",
    "# This had to be changed and debugged\n",
    "# Updated Function below\n",
    "stt=[['2', '3', '4', '5', '6'],\n",
    " ['3', '4', '5', '6', '7'],\n",
    " ['4', '5', '6', '7', '8'],\n",
    " ['5', '6', '7', '8', '9'],\n",
    " ['6', '7', '8', '9', 'T'],\n",
    " ['7', '8', '9', 'J', 'T'],\n",
    " ['8', '9', 'J', 'Q', 'T'],\n",
    " ['9', 'J', 'K', 'Q', 'T'],\n",
    " ['A', 'J', 'K', 'Q', 'T']]\n",
    "def test(lst:list):\n",
    "    hand1=lst[:5]\n",
    "    hand2=lst[5:]\n",
    "    hand1.sort()\n",
    "    hand2.sort()\n",
    "    flush1=hand1[0][1]==hand1[1][1]==hand1[2][1]==hand1[3][1]==hand1[4][1]\n",
    "    flush2=hand2[0][1]==hand2[1][1]==hand2[2][1]==hand2[3][1]==hand2[4][1]\n",
    "    value1=[hand1[i][0] for i in range(5)]\n",
    "    value2=[hand2[i][0] for i in range(5)]\n",
    "    four1=value1.count(value1[2])>=4\n",
    "    four2=value2.count(value2[2])>=4\n",
    "    three1=value1.count(value1[2])==3\n",
    "    three2=value2.count(value2[2])==3\n",
    "    two1=value1.count(value1[1])==2 or value1.count(value1[3])==2\n",
    "    two2=value2.count(value2[1])==2 or value2.count(value2[3])==2\n",
    "    fh1=three1 and two1\n",
    "    fh2=three2 and two2\n",
    "    stt1=value1 in stt\n",
    "    stt2=value2 in stt\n",
    "    fs1=flush1 and stt1\n",
    "    fs2=flush2 and stt2\n",
    "    if fs1 and not fs2:\n",
    "        return 1\n",
    "    if fs2 and not fs1:\n",
    "        return 0\n",
    "    if fs1 and fs2:\n",
    "        rank1=stt.index(value1)\n",
    "        rank2=stt.index(value2)\n",
    "        if rank1>rank2:\n",
    "            return 1\n",
    "        return 0\n",
    "    if four1 and not four2:\n",
    "        return 1\n",
    "    if four2 and not four1:\n",
    "        return 0\n",
    "    if four1 and four2:\n",
    "        rank1=value1[2]\n",
    "        rank2=value2[2]\n",
    "        if rank1>rank2:\n",
    "            return 1\n",
    "        if rank1<rank2:\n",
    "            return 0\n",
    "        if value1[0]!=value1[2]:\n",
    "            s1=value1[0]\n",
    "        else:\n",
    "            s1=value1[4]\n",
    "        if value2[0]!=value2[2]:\n",
    "            s2=value2[0]\n",
    "        else:\n",
    "            s2=value2[4]\n",
    "        if s1>s2:\n",
    "            return 1\n",
    "        return 0\n",
    "    if fh1 and not fh2:\n",
    "        return 1\n",
    "    if fh2 and not fh1:\n",
    "        return 0\n",
    "    if fh1 and fh2:\n",
    "    print(value1)\n",
    "    print(value2)\n",
    "    print(hand1)\n",
    "    print(hand2)\n",
    "for hand in hands:\n",
    "    test(hand)"
   ]
  },
  {
   "cell_type": "code",
   "execution_count": null,
   "metadata": {},
   "outputs": [],
   "source": [
    "# Updated Function\n",
    "RANKS={**{str(i):i for i in range(2,10)},'T':10,'J':11,'Q':12,'K':13,'A':14}\n",
    "def hand_rank(hand:list):\n",
    "    ranks=[RANKS[card[0]] for card in hand]\n",
    "    suits=[card[1] for card in hand]\n",
    "    ranks.sort()\n",
    "    counter=dict(Counter(ranks))\n",
    "    flush=len(set(suits))==1\n",
    "    stt=max(ranks)-min(ranks)==4 and len(set(ranks))==5\n",
    "    four=counter[ranks[2]]==4\n",
    "    three=counter[ranks[2]]==3\n",
    "    two=counter[ranks[1]]==2 or counter[ranks[3]]==2\n",
    "    full_house=three and two\n",
    "    two_pairs=counter[ranks[1]]==2 and counter[ranks[3]]==2\n",
    "    if flush and stt:\n",
    "        return (8,[max(ranks)])\n",
    "    if four:\n",
    "        return (7,[ranks[2]])\n",
    "    if full_house:\n",
    "        return (6,[ranks[2]])\n",
    "    if flush:\n",
    "        return (5,ranks[::-1])\n",
    "    if stt:\n",
    "        return (4,[ranks[0]])\n",
    "    if three:\n",
    "        return (3,[ranks[2]])\n",
    "    if two_pairs:\n",
    "        if counter[ranks[0]]==1:\n",
    "            kicker=0\n",
    "        elif counter[ranks[2]]==1:\n",
    "            kicker=2\n",
    "        else:\n",
    "            kicker=4\n",
    "        return (2,[ranks[3],ranks[1],ranks[kicker]])\n",
    "    if two:\n",
    "        if counter[ranks[1]]==2:\n",
    "            pos=1\n",
    "        else:\n",
    "            pos=3\n",
    "        singles=[(counter[n]==1)*n for n in ranks]\n",
    "        singles.sort()\n",
    "        for _ in range(2):\n",
    "            singles.remove(0)\n",
    "        return (1,[ranks[pos]]+singles[::-1]) # determine pair position\n",
    "    return (0,ranks[::-1])\n",
    "def test(hands:list):\n",
    "    hand1=hands[:5]\n",
    "    hand2=hands[5:]\n",
    "    if hand_rank(hand1)>hand_rank(hand2):\n",
    "        return 1\n",
    "    return 0\n",
    "results=[test(hand) for hand in hands]\n",
    "print(sum(results))"
   ]
  },
  {
   "cell_type": "markdown",
   "metadata": {},
   "source": [
    "## PE 55"
   ]
  },
  {
   "cell_type": "code",
   "execution_count": null,
   "metadata": {},
   "outputs": [],
   "source": [
    "#55 Lychrel Numbers\n",
    "MAX_ITERATIONS = 50\n",
    "def isPalindrome(number): \n",
    "\treturn number == reverse(number)\n",
    "def reverse(number): \n",
    "\treverse = 0; \n",
    "\twhile (number > 0): \n",
    "\t\tremainder = number % 10\n",
    "\t\treverse = (reverse * 10) + remainder\n",
    "\t\tnumber = int(number / 10)\n",
    "\treturn reverse\n",
    "def isLychrel(number):\n",
    "\tfor i in range(MAX_ITERATIONS): \n",
    "\t\tnumber+=reverse(number)\n",
    "\t\tif (isPalindrome(number)): \n",
    "\t\t\treturn False\n",
    "\treturn True\n",
    "num_lyc=0\n",
    "for i in range(1, 10000):\n",
    "\tif isLychrel(i)==True:\n",
    "\t\tnum_lyc+=1\n",
    "num_lyc"
   ]
  },
  {
   "cell_type": "markdown",
   "metadata": {},
   "source": [
    "## PE 56"
   ]
  },
  {
   "cell_type": "code",
   "execution_count": null,
   "metadata": {},
   "outputs": [],
   "source": [
    "#56 Powerful Digit Sum\n",
    "sum_num=0\n",
    "for i in range(1, 100):\n",
    "    for j in range(1, 100):\n",
    "        current_sum=0\n",
    "        power=i**j\n",
    "        list_power=list(map(int, str(power)))\n",
    "        for digit in list_power:\n",
    "            current_sum+=digit\n",
    "        if current_sum>sum_num:\n",
    "            sum_num=current_sum\n",
    "sum_num"
   ]
  },
  {
   "cell_type": "markdown",
   "metadata": {},
   "source": [
    "## PE 57"
   ]
  },
  {
   "cell_type": "code",
   "execution_count": null,
   "metadata": {},
   "outputs": [],
   "source": [
    "# 57 Square Root Convergents\n",
    "def convergent_square_root2(term):\n",
    "    numerator=3\n",
    "    denominator=2\n",
    "    for _ in range(term-1):\n",
    "        denominator1=numerator+denominator\n",
    "        numerator=denominator+denominator1\n",
    "        denominator=denominator1\n",
    "    return [numerator,denominator]\n",
    "\n",
    "def solve():\n",
    "    ans=0\n",
    "    for i in range(1,1001):\n",
    "        fraction=convergent_square_root2(i)\n",
    "        n=list(map(int,str(fraction[0])))\n",
    "        d=list(map(int,str(fraction[1]))) #separates number's digits into list\n",
    "        if len(n)>len(d):\n",
    "            ans+=1\n",
    "    return ans\n",
    "\n",
    "solve()"
   ]
  },
  {
   "cell_type": "markdown",
   "metadata": {},
   "source": [
    "## PE 58"
   ]
  },
  {
   "cell_type": "markdown",
   "metadata": {},
   "source": [
    "The corner_num function:\n",
    "1. Number 1 is the centre of the square.\n",
    "2. Create a list containing the number 1.\n",
    "2. Iterate for the number of times you need to add a number to the list\n",
    "    - Add the next number\n",
    "    - Change n to the last number of the list\n",
    "3. Return the list"
   ]
  },
  {
   "cell_type": "code",
   "execution_count": null,
   "metadata": {},
   "outputs": [],
   "source": [
    "# 58 Spiral Primes\n",
    "''' 37 36 35 34 33 32 31\n",
    "    38 17 16 15 14 13 30\n",
    "    39 18  5  4  3 12 29\n",
    "    40 19  6  1  2 11 28\n",
    "    41 20  7  8  9 10 27\n",
    "    42 21 22 23 24 25 26\n",
    "    43 44 45 46 47 48 49\n",
    "'''\n",
    "def corner_num(side_length):\n",
    "    lst=[1]\n",
    "    n=1\n",
    "    for i in range(4,side_length*2+2):\n",
    "        lst.append(n+i//4*2)\n",
    "        n+=i//4*2\n",
    "    return lst\n",
    "def prime_percentage(lst):\n",
    "    p=list(filter(lambda x:is_prime(x),lst))\n",
    "    return float(len(p)/len(lst)*100)\n",
    "\n",
    "for i in range(26200,26300):\n",
    "    if prime_percentage(corner_num(i))<=10:\n",
    "        print(i)\n",
    "        break"
   ]
  },
  {
   "cell_type": "markdown",
   "metadata": {
    "vscode": {
     "languageId": "sage"
    }
   },
   "source": [
    "## PE 59"
   ]
  },
  {
   "cell_type": "code",
   "execution_count": null,
   "metadata": {},
   "outputs": [],
   "source": [
    "# 59 XOR Decryption\n",
    "# python instead of sage was used to use the xor function(a^b means a xor b in python)\n",
    "import requests\n",
    "response = requests.get(\"https://projecteuler.net/resources/documents/0059_cipher.txt\")   # Send a GET request to the URL\n",
    "content = response.text     # Read the content of the response\n",
    "content=content.split(',')\n",
    "ascii_num=[int(x) for x in content]\n",
    "def xor_decrypt(txt,cipher):\n",
    "    lst=[]\n",
    "    for i in range(len(txt)):\n",
    "        lst.append(chr(txt[i]^cipher[i%3]))\n",
    "    return ''.join(lst)\n",
    "for i in range(97,123):\n",
    "    for j in range(97,123):\n",
    "        for k in range(97,123):\n",
    "            plain = xor_decrypt(ascii_num, [i, j, k])\n",
    "            if all(32 <= ord(ch) <= 126 or ch in \"\\n\\r\\t\" for ch in plain[:200]):\n",
    "                print(chr(i), chr(j), chr(k), \"=>\", plain[:80])\n",
    "                print(str(plain.count(' the '))+'11111') # search for 3211111 in output\n",
    "sum(ord(char) for char in list(xor_decrypt(ascii_num,[101,120,112])))"
   ]
  },
  {
   "cell_type": "markdown",
   "metadata": {
    "vscode": {
     "languageId": "sage"
    }
   },
   "source": [
    "## PE 61"
   ]
  },
  {
   "cell_type": "code",
   "execution_count": null,
   "metadata": {},
   "outputs": [],
   "source": [
    "def cyclical(chain,unused):\n",
    "    t=list(unused)\n",
    "    lst=chain[-1]\n",
    "    if len(unused)==1:\n",
    "        for n in figurate[t[0]]:\n",
    "            if lst[1]==n[0] and chain[0][0]==n[1]:\n",
    "                print(chain)\n",
    "                return True\n",
    "        return False\n",
    "    for s in t:\n",
    "        for i in figurate[s]:\n",
    "            if lst[1]==i[0]:\n",
    "                if cyclical(chain+[i],unused-{s}):\n",
    "                    print(chain)\n",
    "                    return True\n",
    "    return False"
   ]
  },
  {
   "cell_type": "code",
   "execution_count": null,
   "metadata": {},
   "outputs": [],
   "source": [
    "# 61 Cyclical Figurate Numbers\n",
    "triangle=[n*(n+1)//2 for n in range(45,141)]\n",
    "square=[n^2 for n in range(32,100)]\n",
    "pentagonal=[n*(3*n-1)//2 for n in range(26,82)]\n",
    "hexagonal=[n*(2*n-1) for n in range(23,71)]\n",
    "heptagonal=[n*(5*n-3)//2 for n in range(21,64)]\n",
    "octagonal=[n*(3*n-2) for n in range(19,59)]\n",
    "figurate=[triangle,square,pentagonal,hexagonal,heptagonal,octagonal]\n",
    "for i in range(len(figurate)):\n",
    "    figurate[i]=list(map(lambda x:[int(''.join([str(x)[0],str(x)[1]])),int(''.join([str(x)[2],str(x)[3]]))],figurate[i]))\n",
    "    figurate[i]=list(filter(lambda x:x[1]>=10,figurate[i]))\n",
    "triangle=figurate[0]\n",
    "square=figurate[1]\n",
    "pentagonal=figurate[2]\n",
    "hexagonal=figurate[3]\n",
    "heptagonal=figurate[4]\n",
    "octagonal=figurate[5]\n",
    "for n in octagonal:\n",
    "    if cyclical([n],{0,1,2,3,4}):\n",
    "        print(n)\n",
    "        break"
   ]
  },
  {
   "cell_type": "markdown",
   "metadata": {},
   "source": [
    "## PE 62"
   ]
  },
  {
   "cell_type": "code",
   "execution_count": null,
   "metadata": {},
   "outputs": [],
   "source": [
    "#62 \n",
    "import time\n",
    "start = time.time()\n",
    "cubes = []\n",
    "i = 0\n",
    "while True:\n",
    "    cube = sorted(list(str(i**3)))\n",
    "    cubes.append(cube)\n",
    "    if cubes.count(cube) == 5:\n",
    "        print((cubes.index(cube))**3)\n",
    "        break\n",
    "    i += 1\n",
    "end = time.time()\n",
    "print(end - start)"
   ]
  },
  {
   "cell_type": "markdown",
   "metadata": {},
   "source": [
    "## PE 63"
   ]
  },
  {
   "cell_type": "code",
   "execution_count": null,
   "metadata": {},
   "outputs": [],
   "source": [
    "# 63 Powerful Digit Counts\n",
    "num=0\n",
    "for i in range(1,10):\n",
    "    for j in range(1,22):\n",
    "        if length(i**j)==j:\n",
    "            num+=1\n",
    "num"
   ]
  },
  {
   "cell_type": "markdown",
   "metadata": {
    "vscode": {
     "languageId": "sage"
    }
   },
   "source": [
    "## PE 64"
   ]
  },
  {
   "cell_type": "markdown",
   "metadata": {},
   "source": [
    "The period function uses the continued_fraction function in sage and a recurrence function. The continued_fraction function generates the values for the sequence where you have to check for repeating numbers."
   ]
  },
  {
   "cell_type": "code",
   "execution_count": null,
   "metadata": {},
   "outputs": [
    {
     "data": {
      "text/plain": [
       "1322"
      ]
     },
     "execution_count": 69,
     "metadata": {},
     "output_type": "execute_result"
    }
   ],
   "source": [
    "# 64 Odd Period Square Roots\n",
    "def period(n,limit=1000):\n",
    "    fr=continued_fraction(sqrt(n))\n",
    "    a0=fr[0]\n",
    "    fr=fr[1:]\n",
    "    a=a0\n",
    "    m=0\n",
    "    d=1\n",
    "    for i in range(1,limit):\n",
    "        m=d*a-m\n",
    "        d=(n-m*m)//d\n",
    "        a=(a0+m)//d\n",
    "        if a==2*a0:\n",
    "            return i\n",
    "\n",
    "count=0\n",
    "for i in range(2,10000):\n",
    "    if not is_square(i) and is_odd(period(i)):\n",
    "        count+=1\n",
    "count"
   ]
  },
  {
   "cell_type": "markdown",
   "metadata": {},
   "source": [
    "## PE 65"
   ]
  },
  {
   "cell_type": "code",
   "execution_count": null,
   "metadata": {},
   "outputs": [],
   "source": [
    "#65 Convergents of e\n",
    "def solve(N):\n",
    "    n=2\n",
    "    prev_n=1\n",
    "    fract=1\n",
    "    for k in range(2, N+1):\n",
    "        temp=prev_n\n",
    "        if (k % 3 == 0):\n",
    "            fract=2*int(k/3)\n",
    "        else:\n",
    "            fract=1\n",
    "        prev_n=n\n",
    "        n=fract * prev_n + temp\n",
    "    sum = digit_sum(n)\n",
    "    return sum\n",
    "def digit_sum(num):\n",
    "    sum = 0\n",
    "    while num > 0:\n",
    "        sum = sum + (num % 10)\n",
    "        num = num // 10\n",
    "    return sum\n",
    "#cal\n",
    "solve(100)"
   ]
  },
  {
   "cell_type": "code",
   "execution_count": null,
   "metadata": {},
   "outputs": [],
   "source": [
    "(* 65 Convergents of e *)"
   ]
  },
  {
   "cell_type": "markdown",
   "metadata": {},
   "source": [
    "## PE 66"
   ]
  },
  {
   "cell_type": "markdown",
   "metadata": {},
   "source": [
    "see https://en.wikipedia.org/wiki/Pell%27s_equation"
   ]
  },
  {
   "cell_type": "code",
   "execution_count": null,
   "metadata": {},
   "outputs": [],
   "source": [
    "#66 Diophantine Equation, "
   ]
  },
  {
   "cell_type": "markdown",
   "metadata": {},
   "source": [
    "## PE 69"
   ]
  },
  {
   "cell_type": "markdown",
   "metadata": {},
   "source": [
    "\n",
    "Euler's Totient Function (or just Euler $\\phi$ function) has a general formulas as below, $p_i$ is all of the coprime of x, where x is a positive integer.\n",
    "\n",
    "$$\\phi(x)=x\\prod_{i=1}^n(1-\\frac{1}{p_i})$$"
   ]
  },
  {
   "cell_type": "code",
   "execution_count": null,
   "metadata": {},
   "outputs": [],
   "source": [
    "#69 Totient Maximum\n",
    "def factors(n):\n",
    "    intnum=int(n**1/2)+1\n",
    "    num=[]\n",
    "    for i in range(1, intnum):\n",
    "        if n%i==0:\n",
    "            num.append(i)\n",
    "    for number in num:\n",
    "        if n/number not in num:\n",
    "            num.append(n/number)\n",
    "    return num\n",
    "def prime1(n):\n",
    "    if len(factors(n))==2:\n",
    "        return True\n",
    "    return False\n",
    "def smaller(mt, n):\n",
    "    if m<n:\n",
    "        return m\n",
    "    elif m>n:\n",
    "        return n\n",
    "    else:\n",
    "        return 'same'\n",
    "def bcf(m, n):\n",
    "    fac=factors(m)\n",
    "    fac1=factors(n)\n",
    "    facs=fac+fac1\n",
    "    facs.sort()\n",
    "    facs.reverse()\n",
    "    for factor in facs:\n",
    "        if factor in fac and factor in fac1:\n",
    "            return factor\n",
    "def coprime(m, n):\n",
    "    if m==1 or n==1:\n",
    "        return False\n",
    "    if prime(m)==True or prime(n)==True:\n",
    "        return True\n",
    "    if bcf(m, n)==1:\n",
    "        return True\n",
    "    else:\n",
    "        return False\n",
    "def phi(n):\n",
    "    num=1\n",
    "    for i in range(2, n):\n",
    "        if coprime(i, n)==True:\n",
    "            num+=1\n",
    "    return num\n",
    "def totient(n):\n",
    "    big=0\n",
    "    for i in range(2, n):\n",
    "        num=i/phi(i)\n",
    "        print(i)\n",
    "        if num>big:\n",
    "            big=num\n",
    "    return big\n",
    "totient(50)"
   ]
  },
  {
   "cell_type": "code",
   "execution_count": null,
   "metadata": {},
   "outputs": [],
   "source": [
    "#69 FP way - Euler's Totient Function (or just Euler Function)\n",
    "from sympy import totient  # use  euler_phi(n) in Sage\n",
    "\n",
    "seq = [n / euler_phi(n) for n in range(1, 10^6)] # Generate the sequence using the totient function\n",
    "max_value    = max(seq)\n",
    "print(seq.index(max_value))\n",
    "max_position = [i + 1 for i, value in enumerate(seq) if value == max_value]\n",
    "max_position"
   ]
  },
  {
   "cell_type": "code",
   "execution_count": null,
   "metadata": {},
   "outputs": [],
   "source": [
    "(* 69 Totient Maximum, also called \\phi function*)\n",
    "(* seq = Table[ n/Length[Select[Range[n], CoprimeQ[#, n] == True &]]\n",
    "             , {n, 10}] ;   pretty slow  *)\n",
    "seq = Table[ n/EulerPhi[n] , {n, 1000000} ];\n",
    "Position[seq, Max[seq]]\n",
    "Max[seq]"
   ]
  },
  {
   "cell_type": "markdown",
   "metadata": {},
   "source": [
    "## PE 70"
   ]
  },
  {
   "cell_type": "code",
   "execution_count": null,
   "metadata": {},
   "outputs": [],
   "source": [
    "# 70 Totient Permutation\n",
    "lst=[euler_phi(n) for n in range(4,10^7)]\n",
    "def is_perm(a,b):\n",
    "    return sorted(list(str(a)))==sorted(list(str(b)))\n",
    "new_lst=list(filter(lambda x:is_perm(lst[x-4],x),range(4,10^7)))\n",
    "for i in range(8319800,8319900):\n",
    "    if is_perm(euler_phi(i),i):\n",
    "        print(i)\n",
    "        break\n",
    "n=min(new_lst,key=lambda x:x/euler_phi(x))\n",
    "# n uncomment to show answer"
   ]
  },
  {
   "cell_type": "markdown",
   "metadata": {},
   "source": [
    "## PE 71"
   ]
  },
  {
   "cell_type": "code",
   "execution_count": null,
   "metadata": {},
   "outputs": [],
   "source": [
    "#71 Ordered Fractions \n",
    "target = 3/7\n",
    "\n",
    "pairs = [( floor(deno*target) , deno ) for deno in range(2, 1000000)]\n",
    "\n",
    "fracs = [( n, deno ) for n, deno in pairs if (n/deno)<target]  # Filter fractions < target\n",
    "\n",
    "maxFrac = max(fracs, key=lambda frac: frac[0]/frac[1] ) ; maxFrac"
   ]
  },
  {
   "cell_type": "code",
   "execution_count": null,
   "metadata": {},
   "outputs": [],
   "source": [
    "(* 71 Ordered Fractions \n",
    "    Table[] gen [{numerator}, {denominator}]\n",
    "    Floor[] gen greatest integer <= d*target\n",
    "    Select[] and MaximalBy[], both are [list + function]\n",
    "    [[2]] the 2nd item, #[[2]] the 2nd input of the function \n",
    "    *)\n",
    "target = 3/7;\n",
    "MaximalBy[Select[  Table[ {Floor[d*target], d}, {d, 2, 1000000} ], \n",
    "                          #[[1]]/#[[2]] < target & ], \n",
    "         #[[1]]/#[[2]] & ]"
   ]
  },
  {
   "cell_type": "markdown",
   "metadata": {
    "vscode": {
     "languageId": "sage"
    }
   },
   "source": [
    "## PE 72"
   ]
  },
  {
   "cell_type": "markdown",
   "metadata": {},
   "source": [
    "A fraction is a proper fraction if the highest common divisor of its numerator and denominator is $1$, or in other words, the numerator and denominator are coprime. The euler_phi function(totient function) is defined by how many integers a number is coprime with up to the number itself. This means that the euler_phi function can determine how many times that number will appear as the denominator in the fractions. Summing all of that up gives the total amount of fractions."
   ]
  },
  {
   "cell_type": "code",
   "execution_count": null,
   "metadata": {},
   "outputs": [],
   "source": [
    "# 72 Counting Fractions\n",
    "def num_fractions(num):\n",
    "    return sum([euler_phi(n) for n in range(2,num+1)])\n",
    "\n",
    "# print(num_fractions(1000000)) uncomment to show answer"
   ]
  },
  {
   "cell_type": "markdown",
   "metadata": {
    "vscode": {
     "languageId": "sage"
    }
   },
   "source": [
    "## PE 73"
   ]
  },
  {
   "cell_type": "code",
   "execution_count": null,
   "metadata": {},
   "outputs": [],
   "source": [
    "# 73 Counting Fractions in a Range\n",
    "def fractions(num):\n",
    "    return [QQ((p,q)) for q in range(2,num+1) for p in range(q//3+1,ceil(q/2)) if gcd(p,q)==1]\n",
    "\n",
    "print(len(fractions(12000)))"
   ]
  },
  {
   "cell_type": "markdown",
   "metadata": {},
   "source": [
    "## PE 74"
   ]
  },
  {
   "cell_type": "code",
   "execution_count": null,
   "metadata": {},
   "outputs": [],
   "source": [
    "#74 Factorial Chains\n",
    "def fact(n):\n",
    "    if n==0 or n==1:\n",
    "        return 1\n",
    "    elif n<0:\n",
    "        raise ValueError\n",
    "    else:\n",
    "        return n*fact(n-1)\n",
    "    \n",
    "factorials={i:fact(i) for i in range(10)}\n",
    "\n",
    "num=0\n",
    "for i in range(1,1000000):\n",
    "    n=i\n",
    "    lst=[]\n",
    "    while n not in lst:\n",
    "        lst.append(n)\n",
    "        n=list(map(int,str(n)))\n",
    "        n1=0\n",
    "        for j in n:\n",
    "            n1+=factorials[j]\n",
    "        n=n1\n",
    "    if len(lst)==60:\n",
    "        num+=1\n",
    "print(num)"
   ]
  },
  {
   "cell_type": "markdown",
   "metadata": {},
   "source": [
    "## PE 75"
   ]
  },
  {
   "cell_type": "code",
   "execution_count": null,
   "metadata": {},
   "outputs": [],
   "source": [
    "#75 Singular Integer Right Triangles\n",
    "def sumPythagoreanTriplets(limits): \n",
    "\ta, b, c, m = 0, 0, 0, 2\n",
    "\tnum=[]\n",
    "\tnums=[]\n",
    "\tfor i in range(1,1000):\n",
    "\t\tnum.append(i)\n",
    "\td=a+b+c\n",
    "\twhile d<limits : \n",
    "\t\tfor n in range(1, m):\n",
    "\t\t\ta=m*m-n*n \n",
    "\t\t\tb=2*m*n \n",
    "\t\t\tc=m*m+n*n\n",
    "\t\t\td=a+b+c\n",
    "\t\t\tif d>limits: \n",
    "\t\t\t\tbreak\n",
    "\t\t\tprint('Sum of triplet :', d)\n",
    "\t\t\tnums.append(d)\n",
    "\t\t\tif d==1000:\n",
    "\t\t\t\tprint('Special')\n",
    "\t\tm+=1\n",
    "\treturn nums\n",
    "sumPythagoreanTriplets(150)"
   ]
  },
  {
   "cell_type": "markdown",
   "metadata": {},
   "source": [
    "## PE 79"
   ]
  },
  {
   "cell_type": "code",
   "execution_count": null,
   "metadata": {},
   "outputs": [],
   "source": [
    "#79 Passcode Derivation\n",
    "73162890"
   ]
  },
  {
   "cell_type": "markdown",
   "metadata": {},
   "source": [
    "## PE 80"
   ]
  },
  {
   "cell_type": "code",
   "execution_count": 2,
   "metadata": {},
   "outputs": [
    {
     "name": "stdout",
     "output_type": "stream",
     "text": [
      "[[1, 7, 3, 2, 0, 5, 0, 8, 0, 7, 5, 6, 8, 8, 7, 7, 2], [2, 4, 4, 9, 4, 8, 9, 7, 4, 2, 7, 8, 3, 1, 7, 8], [2, 8, 2, 8, 4, 2, 7, 1, 2, 4, 7, 4, 6, 1, 9, 0, 3], [3, 3, 1, 6, 6, 2, 4, 7, 9, 0, 3, 5, 5, 4], [3, 6, 0, 5, 5, 5, 1, 2, 7, 5, 4, 6, 3, 9, 8, 9], [3, 8, 7, 2, 9, 8, 3, 3, 4, 6, 2, 0, 7, 4, 1, 7], [4, 2, 4, 2, 6, 4, 0, 6, 8, 7, 1, 1, 9, 2, 8, 5], [4, 4, 7, 2, 1, 3, 5, 9, 5, 4, 9, 9, 9, 5, 8], [4, 6, 9, 0, 4, 1, 5, 7, 5, 9, 8, 2, 3, 4, 3], [4, 8, 9, 8, 9, 7, 9, 4, 8, 5, 5, 6, 6, 3, 5, 6], [5, 1, 9, 6, 1, 5, 2, 4, 2, 2, 7, 0, 6, 6, 3, 2], [5, 3, 8, 5, 1, 6, 4, 8, 0, 7, 1, 3, 4, 5, 0, 4], [5, 5, 6, 7, 7, 6, 4, 3, 6, 2, 8, 3, 0, 0, 2, 1, 5], [5, 7, 4, 4, 5, 6, 2, 6, 4, 6, 5, 3, 8, 0, 2, 9], [5, 9, 1, 6, 0, 7, 9, 7, 8, 3, 0, 9, 9, 6, 1, 6], [6, 1, 6, 4, 4, 1, 4, 0, 0, 2, 9, 6, 8, 9, 7, 6], [6, 3, 2, 4, 5, 5, 5, 3, 2, 0, 3, 3, 6, 7, 5, 9], [6, 4, 8, 0, 7, 4, 0, 6, 9, 8, 4, 0, 7, 8, 6], [6, 6, 3, 3, 2, 4, 9, 5, 8, 0, 7, 1, 0, 8], [6, 7, 8, 2, 3, 2, 9, 9, 8, 3, 1, 2, 5, 2, 6, 8], [6, 9, 2, 8, 2, 0, 3, 2, 3, 0, 2, 7, 5, 5, 0, 9], [7, 1, 4, 1, 4, 2, 8, 4, 2, 8, 5, 4, 2, 8, 5], [7, 2, 8, 0, 1, 0, 9, 8, 8, 9, 2, 8, 0, 5, 1, 8], [7, 4, 1, 6, 1, 9, 8, 4, 8, 7, 0, 9, 5, 6, 6, 3], [7, 5, 4, 9, 8, 3, 4, 4, 3, 5, 2, 7, 0, 7, 5], [7, 6, 8, 1, 1, 4, 5, 7, 4, 7, 8, 6, 8, 6, 0, 8], [7, 8, 1, 0, 2, 4, 9, 6, 7, 5, 9, 0, 6, 6, 5, 4], [7, 9, 3, 7, 2, 5, 3, 9, 3, 3, 1, 9, 3, 7, 7, 2], [8, 1, 2, 4, 0, 3, 8, 4, 0, 4, 6, 3, 5, 9, 6], [8, 2, 4, 6, 2, 1, 1, 2, 5, 1, 2, 3, 5, 3, 2, 1], [8, 3, 6, 6, 6, 0, 0, 2, 6, 5, 3, 4, 0, 7, 5, 6], [8, 4, 8, 5, 2, 8, 1, 3, 7, 4, 2, 3, 8, 5, 7], [8, 6, 0, 2, 3, 2, 5, 2, 6, 7, 0, 4, 2, 6, 2, 7], [8, 7, 1, 7, 7, 9, 7, 8, 8, 7, 0, 8, 1, 3, 4, 8], [8, 8, 3, 1, 7, 6, 0, 8, 6, 6, 3, 2, 7, 8, 4, 8], [8, 9, 4, 4, 2, 7, 1, 9, 0, 9, 9, 9, 9, 1, 6], [9, 1, 1, 0, 4, 3, 3, 5, 7, 9, 1, 4, 4, 3], [9, 2, 1, 9, 5, 4, 4, 4, 5, 7, 2, 9, 2, 8, 8, 7], [9, 3, 2, 7, 3, 7, 9, 0, 5, 3, 0, 8, 8, 8, 1, 6], [9, 4, 3, 3, 9, 8, 1, 1, 3, 2, 0, 5, 6, 6, 0, 3], [9, 5, 3, 9, 3, 9, 2, 0, 1, 4, 1, 6, 9, 4, 5, 6], [9, 6, 4, 3, 6, 5, 0, 7, 6, 0, 9, 9, 2, 9, 5, 5], [9, 7, 4, 6, 7, 9, 4, 3, 4, 4, 8, 0, 8, 9, 6, 3], [9, 8, 4, 8, 8, 5, 7, 8, 0, 1, 7, 9, 6, 1, 0, 4], [9, 9, 4, 9, 8, 7, 4, 3, 7, 1, 0, 6, 6, 2], [2, 2, 3, 6, 0, 6, 7, 9, 7, 7, 4, 9, 9, 7, 8, 9, 5, 6, 5, 4, 6, 3, 6, 8, 7, 8, 3, 8, 8, 7, 8, 1, 6, 3, 6, 5, 0, 8, 4, 1, 1, 0, 7, 3, 7, 3, 7, 1, 8, 7, 6, 8, 2, 4, 9, 0, 5, 2, 2, 2, 8, 9, 0, 8, 5, 1, 2, 3, 4, 2, 9, 0, 4, 9, 2, 2, 5, 9, 3, 1, 1, 9, 4, 3, 4, 4, 7, 7, 0, 1, 0, 0, 2, 9, 6, 4, 1, 7, 2, 8], [3, 1, 6, 2, 2, 7, 7, 6, 6, 0, 1, 6, 8, 3, 7, 9, 5, 3, 7, 8, 4, 3, 0, 7, 1, 6, 7, 1, 3, 8, 1, 0, 8, 2, 1, 9, 0, 5, 8, 8, 5, 6, 0, 1, 5, 1, 7, 7, 6, 1, 4, 0, 9, 2, 4, 9, 2, 4, 6, 9, 1, 2, 1, 7, 0, 8, 5, 7, 9, 9, 6, 1, 1, 0, 3, 3, 0, 2, 5, 3, 5, 1, 0, 8, 3, 4, 6, 0, 4, 7, 2, 4, 8, 5, 1, 8, 3, 4, 8, 8], [3, 7, 4, 1, 6, 5, 7, 3, 8, 6, 7, 7, 3, 9, 4, 1, 0, 8, 1, 4, 4, 3, 1, 5, 3, 8, 0, 0, 6, 7, 8, 6, 8, 7, 6, 1, 0, 7, 8, 7, 0, 0, 8, 7, 0, 1, 3, 4, 1, 2, 4, 3, 0, 3, 2, 8, 7, 0, 3, 8, 9, 6, 7, 3, 3, 6, 1, 4, 3, 5, 4, 6, 0, 0, 7, 3, 0, 7, 2, 0, 0, 9, 9, 2, 4, 0, 1, 1, 0, 1, 7, 5, 8, 1, 3, 6, 3, 2, 0, 0], [4, 3, 5, 8, 8, 9, 8, 9, 4, 3, 5, 4, 0, 6, 7, 4, 0, 5, 1, 3, 4, 5, 2, 5, 3, 7, 7, 9, 6, 5, 8, 0, 5, 9, 6, 7, 5, 7, 2, 7, 3, 5, 6, 9, 5, 9, 3, 1, 8, 3, 6, 3, 5, 9, 1, 7, 9, 9, 9, 4, 3, 6, 9, 6, 2, 2, 3, 9, 3, 4, 5, 4, 4, 4, 2, 8, 0, 5, 9, 5, 1, 0, 7, 2, 1, 8, 3, 3, 1, 4, 8, 3, 7, 3, 5, 3, 2, 6, 7, 2], [4, 7, 9, 5, 8, 3, 1, 5, 2, 3, 3, 1, 2, 7, 1, 9, 0, 1, 0, 0, 8, 1, 0, 4, 7, 8, 0, 4, 7, 2, 9, 1, 6, 2, 9, 4, 6, 2, 9, 2, 6, 3, 1, 3, 1, 4, 8, 7, 2, 9, 0, 3, 7, 9, 0, 4, 6, 2, 8, 9, 4, 9, 0, 5, 5, 9, 1, 1, 3, 7, 2, 2, 1, 0, 3, 7, 4, 0, 3, 2, 4, 0, 7, 6, 9, 4, 7, 9, 0, 8, 5, 7, 3, 5, 8, 0, 4, 9, 2, 8], [5, 2, 9, 1, 5, 0, 2, 6, 2, 2, 1, 2, 9, 1, 8, 1, 7, 2, 9, 9, 6, 3, 8, 2, 7, 7, 8, 8, 5, 4, 6, 8, 9, 7, 6, 7, 2, 9, 2, 6, 0, 7, 1, 6, 1, 2, 5, 2, 7, 4, 9, 2, 9, 9, 6, 2, 9, 2, 6, 5, 9, 0, 3, 0, 4, 6, 2, 6, 1, 3, 9, 4, 2, 8, 7, 2, 5, 0, 1, 4, 1, 1, 8, 2, 7, 2, 0, 4, 8, 7, 8, 2, 2, 9, 3, 0, 7, 3, 9, 2], [5, 6, 5, 6, 8, 5, 4, 2, 4, 9, 4, 9, 2, 3, 8, 0, 6, 9, 1, 3, 7, 0, 3, 1, 7, 9, 2, 0, 8, 4, 6, 1, 5, 6, 0, 6, 9, 2, 3, 5, 2, 3, 1, 5, 7, 4, 2, 2, 3, 6, 2, 2, 1, 8, 5, 4, 3, 3, 6, 5, 3, 2, 7, 1, 0, 8, 2, 3, 7, 9, 1, 1, 2, 6, 3, 0, 3, 4, 0, 1, 3, 3, 7, 6, 2, 5, 6, 9, 5, 7, 8, 9, 6, 1, 9, 6, 0, 9, 6, 0], [6, 0, 8, 2, 7, 6, 2, 5, 3, 0, 2, 9, 8, 2, 1, 9, 3, 0, 8, 3, 0, 4, 3, 4, 6, 4, 1, 7, 9, 7, 0, 7, 9, 2, 7, 9, 5, 7, 6, 2, 6, 2, 8, 2, 1, 1, 6, 3, 1, 8, 4, 0, 3, 4, 1, 1, 5, 8, 7, 6, 4, 8, 5, 0, 7, 6, 0, 4, 1, 6, 4, 4, 9, 2, 1, 8, 0, 8, 2, 6, 1, 0, 3, 6, 9, 4, 5, 1, 1, 7, 9, 0, 7, 2, 5, 5, 2, 9, 6, 0], [6, 4, 0, 3, 1, 2, 4, 2, 3, 7, 4, 3, 2, 8, 4, 8, 6, 0, 0, 3, 1, 6, 0, 6, 7, 4, 3, 8, 5, 8, 7, 2, 7, 3, 5, 0, 6, 3, 9, 9, 0, 4, 0, 9, 8, 9, 3, 5, 5, 2, 6, 3, 4, 6, 8, 2, 7, 6, 3, 2, 6, 3, 3, 6, 0, 1, 5, 5, 2, 0, 6, 2, 3, 7, 0, 7, 0, 4, 8, 9, 0, 9, 8, 3, 9, 0, 2, 5, 3, 3, 4, 4, 4, 1, 2, 1, 3, 9, 5, 2], [6, 7, 0, 8, 2, 0, 3, 9, 3, 2, 4, 9, 9, 3, 6, 9, 1, 8, 2, 0, 5, 8, 2, 8, 6, 5, 7, 3, 0, 6, 6, 7, 5, 8, 6, 8, 2, 3, 8, 8, 7, 9, 8, 8, 2, 7, 0, 3, 6, 0, 3, 1, 4, 0, 7, 7, 5, 8, 3, 9, 6, 4, 8, 8, 5, 7, 1, 9, 0, 9, 0, 2, 7, 7, 2, 0, 8, 8, 1, 7, 9, 3, 0, 2, 9, 5, 0, 2, 3, 3, 1, 3, 9, 1, 0, 4, 9, 7, 2, 8], [7, 0, 7, 1, 0, 6, 7, 8, 1, 1, 8, 6, 5, 4, 7, 5, 1, 3, 5, 7, 1, 2, 0, 6, 2, 8, 1, 6, 4, 0, 9, 2, 9, 3, 4, 9, 1, 7, 4, 5, 8, 2, 4, 4, 0, 8, 9, 5, 9, 9, 3, 7, 7, 4, 0, 8, 8, 9, 5, 0, 1, 9, 4, 4, 3, 0, 0, 6, 5, 3, 4, 2, 1, 3, 5, 8, 2, 7, 1, 5, 1, 5, 1, 1, 4, 1, 0, 5, 0, 2, 1, 7, 4, 9, 2, 6, 4, 3, 8, 4], [7, 3, 4, 8, 4, 6, 9, 2, 2, 8, 3, 4, 9, 5, 3, 4, 2, 3, 5, 2, 1, 1, 4, 8, 4, 2, 5, 4, 6, 7, 7, 8, 5, 8, 3, 8, 2, 3, 6, 6, 5, 0, 1, 7, 5, 1, 9, 1, 5, 5, 3, 8, 6, 3, 9, 9, 5, 8, 6, 1, 7, 7, 7, 6, 0, 5, 6, 9, 9, 8, 8, 7, 0, 8, 0, 9, 5, 7, 7, 2, 1, 8, 7, 1, 9, 6, 4, 5, 4, 3, 1, 2, 3, 8, 7, 5, 4, 3, 0, 4], [7, 6, 1, 5, 7, 7, 3, 1, 0, 5, 8, 6, 3, 9, 0, 8, 5, 6, 8, 4, 0, 0, 2, 4, 1, 2, 0, 2, 5, 7, 6, 6, 0, 3, 3, 2, 8, 9, 3, 5, 7, 9, 9, 5, 4, 6, 4, 3, 2, 6, 9, 4, 1, 5, 5, 2, 0, 3, 8, 3, 9, 3, 8, 3, 7, 1, 2, 0, 2, 2, 9, 5, 4, 0, 6, 5, 3, 2, 4, 0, 6, 5, 9, 4, 8, 5, 6, 4, 3, 6, 9, 9, 2, 7, 3, 0, 7, 2, 6, 4], [7, 8, 7, 4, 0, 0, 7, 8, 7, 4, 0, 1, 1, 8, 1, 0, 6, 1, 6, 2, 5, 0, 0, 4, 0, 2, 5, 7, 6, 9, 0, 1, 4, 9, 8, 5, 0, 8, 0, 0, 9, 2, 8, 1, 0, 5, 6, 5, 5, 1, 1, 8, 7, 3, 5, 4, 3, 5, 5, 7, 3, 8, 6, 4, 5, 6, 9, 5, 8, 4, 0, 2, 0, 7, 2, 8, 3, 9, 9, 5, 8, 5, 7, 0, 3, 8, 3, 8, 5, 5, 8, 2, 0, 6, 2, 9, 6, 0, 6, 4], [8, 1, 8, 5, 3, 5, 2, 7, 7, 1, 8, 7, 2, 4, 5, 0, 4, 7, 7, 9, 1, 0, 4, 9, 8, 5, 3, 7, 7, 0, 3, 8, 3, 4, 4, 3, 6, 7, 2, 3, 7, 8, 9, 4, 7, 4, 7, 5, 9, 3, 1, 2, 8, 1, 9, 8, 3, 9, 4, 0, 6, 3, 5, 2, 4, 7, 4, 2, 3, 8, 9, 5, 0, 5, 1, 0, 5, 1, 0, 9, 6, 4, 1, 0, 5, 2, 5, 2, 4, 8, 9, 9, 4, 1, 4, 8, 3, 5, 2, 0], [8, 4, 2, 6, 1, 4, 9, 7, 7, 3, 1, 7, 6, 3, 5, 8, 5, 7, 8, 7, 7, 9, 8, 5, 3, 9, 6, 6, 6, 2, 5, 1, 0, 5, 2, 3, 2, 0, 5, 8, 1, 4, 3, 6, 3, 5, 2, 4, 7, 5, 5, 4, 8, 9, 6, 8, 3, 7, 0, 4, 8, 4, 9, 4, 6, 4, 9, 7, 3, 6, 6, 3, 0, 7, 3, 6, 1, 7, 8, 7, 3, 9, 7, 4, 1, 8, 5, 3, 7, 3, 7, 4, 3, 4, 4, 8, 0, 6, 4, 0], [8, 6, 6, 0, 2, 5, 4, 0, 3, 7, 8, 4, 4, 3, 8, 6, 6, 4, 4, 2, 8, 8, 8, 2, 7, 8, 9, 6, 2, 2, 4, 3, 1, 9, 6, 2, 7, 5, 5, 2, 2, 8, 7, 5, 5, 8, 8, 4, 8, 3, 9, 7, 4, 6, 2, 2, 0, 2, 0, 9, 5, 1, 1, 2, 9, 3, 7, 6, 6, 6, 5, 0, 7, 9, 2, 5, 1, 1, 6, 8, 8, 0, 5, 8, 9, 7, 6, 7, 0, 6, 3, 5, 4, 3, 7, 4, 2, 4, 6, 4], [8, 8, 8, 8, 1, 9, 4, 4, 1, 7, 3, 1, 5, 5, 8, 7, 9, 9, 3, 2, 5, 0, 7, 3, 6, 7, 9, 2, 1, 8, 6, 3, 0, 5, 6, 0, 5, 3, 1, 6, 6, 5, 8, 9, 0, 4, 8, 1, 6, 5, 7, 1, 5, 6, 7, 8, 5, 6, 4, 8, 4, 0, 1, 5, 1, 2, 1, 5, 5, 6, 3, 9, 7, 5, 1, 8, 2, 1, 8, 8, 3, 5, 2, 4, 5, 5, 0, 5, 3, 5, 0, 9, 6, 2, 5, 1, 1, 8, 7, 2], [9, 1, 6, 5, 1, 5, 1, 3, 8, 9, 9, 1, 1, 6, 7, 9, 5, 5, 0, 5, 9, 4, 7, 1, 2, 6, 9, 5, 4, 1, 2, 8, 6, 3, 5, 7, 8, 7, 0, 0, 8, 3, 0, 4, 2, 6, 3, 4, 3, 7, 0, 1, 3, 0, 6, 6, 1, 1, 7, 3, 6, 0, 4, 1, 1, 8, 3, 9, 3, 4, 6, 0, 1, 2, 8, 7, 8, 3, 4, 6, 1, 9, 3, 0, 5, 2, 9, 6, 1, 5, 0, 9, 5, 4, 7, 7, 0, 4, 3, 2], [9, 3, 8, 0, 8, 3, 1, 5, 1, 9, 6, 4, 6, 8, 5, 8, 5, 9, 7, 3, 1, 4, 4, 5, 1, 1, 6, 2, 3, 2, 0, 5, 9, 7, 3, 5, 7, 3, 4, 6, 7, 2, 2, 9, 6, 2, 2, 5, 8, 8, 3, 8, 3, 2, 8, 7, 5, 8, 7, 3, 9, 8, 6, 2, 1, 1, 7, 7, 5, 5, 0, 6, 3, 9, 5, 8, 6, 1, 1, 9, 5, 8, 0, 3, 8, 6, 8, 8, 9, 5, 7, 6, 5, 7, 5, 1, 3, 9, 8, 4], [9, 5, 9, 1, 6, 6, 3, 0, 4, 6, 6, 2, 5, 4, 3, 8, 0, 2, 0, 1, 6, 2, 0, 9, 5, 6, 0, 9, 4, 5, 8, 3, 2, 5, 8, 9, 2, 5, 8, 5, 2, 6, 2, 6, 2, 9, 7, 4, 5, 8, 0, 7, 5, 8, 0, 9, 2, 5, 7, 8, 9, 8, 1, 1, 1, 8, 2, 2, 7, 4, 4, 4, 2, 0, 7, 4, 8, 0, 6, 4, 8, 1, 5, 3, 8, 9, 5, 8, 1, 7, 1, 4, 7, 1, 6, 0, 9, 8, 5, 6], [9, 7, 9, 7, 9, 5, 8, 9, 7, 1, 1, 3, 2, 7, 1, 1, 6, 6, 6, 0, 5, 9, 0, 1, 4, 9, 3, 0, 9, 9, 4, 1, 2, 0, 8, 7, 0, 0, 0, 1, 3, 6, 6, 7, 2, 8, 0, 4, 7, 7, 4, 9, 3, 0, 5, 8, 0, 9, 2, 1, 0, 6, 8, 4, 0, 2, 9, 4, 9, 1, 4, 1, 0, 4, 7, 5, 2, 9, 9, 7, 1, 1, 9, 9, 1, 4, 3, 2, 1, 7, 3, 2, 4, 8, 8, 3, 9, 6, 8, 0], [1, 4, 1, 4, 2, 1, 3, 5, 6, 2, 3, 7, 3, 0, 9, 5, 1, 7, 2, 8, 4, 2, 5, 7, 9, 4, 8, 0, 2, 1, 1, 5, 3, 9, 0, 1, 7, 3, 0, 8, 8, 0, 7, 8, 9, 3, 5, 5, 5, 9, 0, 5, 5, 4, 6, 3, 5, 8, 4, 1, 3, 3, 1, 7, 7, 7, 0, 5, 9, 4, 7, 7, 8, 1, 5, 7, 5, 8, 5, 0, 3, 3, 4, 4, 0, 6, 4, 2, 3, 9, 4, 7, 4, 0, 4, 9, 0, 2, 4, 0, 0, 0, 0, 0, 0, 0, 0, 0, 0, 0, 0, 0, 0, 0, 0, 0, 0, 0, 0, 0, 0, 0, 0, 0, 0, 0, 0, 0, 0, 0, 0, 0, 0, 0, 0, 0, 0, 0, 0, 0, 0, 0, 0, 0, 0, 0, 0, 0, 0, 0, 0, 0, 0, 0, 0, 0, 0, 0, 0, 0, 0, 0, 0, 0, 0, 0, 0, 0, 0, 0, 0, 0, 0, 0, 0, 0, 0, 0, 0, 0, 0, 0, 0, 0, 0, 0, 0, 0, 0, 0, 0, 0, 0, 0, 0, 0, 0, 0, 0], [3, 4, 6, 4, 1, 0, 1, 6, 1, 5, 1, 3, 7, 7, 5, 4, 4, 6, 3, 4, 4, 8, 6, 4, 1, 9, 3, 5, 9, 1, 6, 8, 2, 0, 7, 5, 9, 0, 7, 4, 7, 2, 4, 3, 4, 1, 1, 8, 7, 4, 6, 8, 3, 2, 0, 6, 4, 0, 1, 5, 4, 1, 3, 9, 9, 6, 1, 1, 1, 4, 4, 7, 7, 9, 8, 8, 8, 0, 5, 7, 7, 8, 3, 4, 5, 4, 7, 8, 3, 0, 4, 8, 9, 6, 6, 4, 7, 1, 6, 8, 0, 0, 0, 0, 0, 0, 0, 0, 0, 0, 0, 0, 0, 0, 0, 0, 0, 0, 0, 0, 0, 0, 0, 0, 0, 0, 0, 0, 0, 0, 0, 0, 0, 0, 0, 0, 0, 0, 0, 0, 0, 0, 0, 0, 0, 0, 0, 0, 0, 0, 0, 0, 0, 0, 0, 0, 0, 0, 0, 0, 0, 0, 0, 0, 0, 0, 0, 0, 0, 0, 0, 0, 0, 0, 0, 0, 0, 0, 0, 0, 0, 0, 0, 0, 0, 0, 0, 0, 0, 0, 0, 0, 0, 0, 0, 0, 0, 0, 0], [4, 5, 8, 2, 5, 7, 5, 6, 9, 4, 9, 5, 5, 8, 3, 9, 7, 7, 5, 2, 9, 7, 3, 5, 6, 3, 4, 7, 7, 0, 6, 4, 3, 1, 7, 8, 9, 3, 5, 0, 4, 1, 5, 2, 1, 3, 1, 7, 1, 8, 5, 0, 6, 5, 3, 3, 0, 5, 8, 6, 8, 0, 2, 0, 5, 9, 1, 9, 6, 7, 3, 0, 0, 6, 4, 3, 9, 1, 7, 3, 0, 9, 6, 5, 2, 6, 4, 8, 0, 7, 5, 4, 7, 7, 3, 8, 5, 2, 1, 6, 0, 0, 0, 0, 0, 0, 0, 0, 0, 0, 0, 0, 0, 0, 0, 0, 0, 0, 0, 0, 0, 0, 0, 0, 0, 0, 0, 0, 0, 0, 0, 0, 0, 0, 0, 0, 0, 0, 0, 0, 0, 0, 0, 0, 0, 0, 0, 0, 0, 0, 0, 0, 0, 0, 0, 0, 0, 0, 0, 0, 0, 0, 0, 0, 0, 0, 0, 0, 0, 0, 0, 0, 0, 0, 0, 0, 0, 0, 0, 0, 0, 0, 0, 0, 0, 0, 0, 0, 0, 0, 0, 0, 0, 0, 0, 0, 0, 0, 0], [5, 4, 7, 7, 2, 2, 5, 5, 7, 5, 0, 5, 1, 6, 6, 0, 6, 8, 7, 6, 3, 8, 3, 1, 5, 8, 1, 4, 0, 9, 3, 0, 4, 2, 3, 5, 9, 9, 4, 8, 2, 6, 6, 6, 0, 9, 7, 4, 7, 4, 8, 5, 6, 0, 6, 4, 0, 2, 4, 0, 7, 6, 1, 6, 1, 3, 0, 0, 7, 9, 9, 4, 9, 9, 5, 8, 0, 7, 5, 0, 5, 2, 8, 3, 8, 2, 3, 8, 1, 3, 0, 6, 8, 7, 4, 4, 2, 9, 4, 4, 0, 0, 0, 0, 0, 0, 0, 0, 0, 0, 0, 0, 0, 0, 0, 0, 0, 0, 0, 0, 0, 0, 0, 0, 0, 0, 0, 0, 0, 0, 0, 0, 0, 0, 0, 0, 0, 0, 0, 0, 0, 0, 0, 0, 0, 0, 0, 0, 0, 0, 0, 0, 0, 0, 0, 0, 0, 0, 0, 0, 0, 0, 0, 0, 0, 0, 0, 0, 0, 0, 0, 0, 0, 0, 0, 0, 0, 0, 0, 0, 0, 0, 0, 0, 0, 0, 0, 0, 0, 0, 0, 0, 0, 0, 0, 0, 0, 0, 0], [6, 2, 4, 4, 9, 9, 7, 9, 9, 8, 3, 9, 8, 3, 9, 8, 3, 6, 3, 8, 0, 1, 1, 2, 7, 3, 2, 2, 4, 9, 2, 8, 6, 2, 2, 3, 0, 8, 7, 6, 0, 8, 8, 9, 9, 0, 5, 4, 1, 0, 6, 8, 2, 7, 9, 0, 3, 8, 9, 5, 1, 6, 0, 4, 8, 1, 1, 4, 9, 7, 9, 2, 7, 0, 5, 3, 3, 1, 8, 4, 3, 1, 9, 9, 3, 2, 1, 7, 7, 6, 6, 9, 3, 7, 0, 6, 7, 5, 2, 0, 0, 0, 0, 0, 0, 0, 0, 0, 0, 0, 0, 0, 0, 0, 0, 0, 0, 0, 0, 0, 0, 0, 0, 0, 0, 0, 0, 0, 0, 0, 0, 0, 0, 0, 0, 0, 0, 0, 0, 0, 0, 0, 0, 0, 0, 0, 0, 0, 0, 0, 0, 0, 0, 0, 0, 0, 0, 0, 0, 0, 0, 0, 0, 0, 0, 0, 0, 0, 0, 0, 0, 0, 0, 0, 0, 0, 0, 0, 0, 0, 0, 0, 0, 0, 0, 0, 0, 0, 0, 0, 0, 0, 0, 0, 0, 0, 0, 0, 0], [6, 8, 5, 5, 6, 5, 4, 6, 0, 0, 4, 0, 1, 0, 4, 3, 7, 8, 7, 9, 6, 1, 0, 0, 3, 2, 2, 8, 0, 4, 0, 4, 4, 3, 3, 7, 2, 2, 1, 7, 3, 0, 3, 1, 1, 0, 8, 0, 1, 0, 5, 7, 4, 7, 4, 5, 9, 9, 4, 6, 9, 9, 4, 6, 3, 2, 7, 0, 4, 7, 7, 9, 2, 0, 4, 2, 9, 0, 8, 6, 2, 0, 0, 0, 6, 9, 9, 5, 3, 8, 1, 0, 1, 2, 3, 9, 8, 0, 8, 0, 0, 0, 0, 0, 0, 0, 0, 0, 0, 0, 0, 0, 0, 0, 0, 0, 0, 0, 0, 0, 0, 0, 0, 0, 0, 0, 0, 0, 0, 0, 0, 0, 0, 0, 0, 0, 0, 0, 0, 0, 0, 0, 0, 0, 0, 0, 0, 0, 0, 0, 0, 0, 0, 0, 0, 0, 0, 0, 0, 0, 0, 0, 0, 0, 0, 0, 0, 0, 0, 0, 0, 0, 0, 0, 0, 0, 0, 0, 0, 0, 0, 0, 0, 0, 0, 0, 0, 0, 0, 0, 0, 0, 0, 0, 0, 0, 0, 0, 0], [7, 4, 8, 3, 3, 1, 4, 7, 7, 3, 5, 4, 7, 8, 8, 2, 1, 6, 2, 8, 8, 6, 3, 0, 7, 6, 0, 1, 3, 5, 7, 3, 7, 5, 2, 2, 1, 5, 7, 4, 0, 1, 7, 4, 0, 2, 6, 8, 2, 4, 8, 6, 0, 6, 5, 7, 4, 0, 7, 7, 9, 3, 4, 6, 7, 2, 2, 8, 7, 0, 9, 2, 0, 1, 4, 6, 1, 4, 4, 0, 1, 9, 8, 4, 8, 0, 2, 2, 0, 3, 5, 1, 6, 2, 7, 2, 6, 4, 0, 0, 0, 0, 0, 0, 0, 0, 0, 0, 0, 0, 0, 0, 0, 0, 0, 0, 0, 0, 0, 0, 0, 0, 0, 0, 0, 0, 0, 0, 0, 0, 0, 0, 0, 0, 0, 0, 0, 0, 0, 0, 0, 0, 0, 0, 0, 0, 0, 0, 0, 0, 0, 0, 0, 0, 0, 0, 0, 0, 0, 0, 0, 0, 0, 0, 0, 0, 0, 0, 0, 0, 0, 0, 0, 0, 0, 0, 0, 0, 0, 0, 0, 0, 0, 0, 0, 0, 0, 0, 0, 0, 0, 0, 0, 0, 0, 0, 0, 0, 0], [8, 0, 6, 2, 2, 5, 7, 7, 4, 8, 2, 9, 8, 5, 4, 8, 5, 1, 1, 5, 4, 8, 5, 6, 0, 3, 0, 9, 2, 5, 9, 7, 8, 0, 1, 7, 3, 3, 1, 5, 8, 9, 1, 4, 9, 4, 8, 3, 6, 4, 9, 8, 4, 1, 8, 4, 2, 4, 1, 6, 1, 6, 9, 4, 1, 6, 4, 1, 5, 1, 5, 9, 1, 6, 6, 7, 2, 5, 4, 2, 3, 3, 4, 7, 9, 4, 0, 1, 3, 2, 8, 7, 3, 7, 2, 5, 5, 4, 2, 4, 0, 0, 0, 0, 0, 0, 0, 0, 0, 0, 0, 0, 0, 0, 0, 0, 0, 0, 0, 0, 0, 0, 0, 0, 0, 0, 0, 0, 0, 0, 0, 0, 0, 0, 0, 0, 0, 0, 0, 0, 0, 0, 0, 0, 0, 0, 0, 0, 0, 0, 0, 0, 0, 0, 0, 0, 0, 0, 0, 0, 0, 0, 0, 0, 0, 0, 0, 0, 0, 0, 0, 0, 0, 0, 0, 0, 0, 0, 0, 0, 0, 0, 0, 0, 0, 0, 0, 0, 0, 0, 0, 0, 0, 0, 0, 0, 0, 0, 0], [8, 5, 4, 4, 0, 0, 3, 7, 4, 5, 3, 1, 7, 5, 2, 9, 8, 8, 4, 2, 6, 9, 1, 3, 5, 6, 6, 8, 9, 6, 8, 7, 5, 9, 4, 5, 6, 6, 9, 5, 9, 4, 9, 6, 5, 1, 3, 9, 1, 4, 4, 0, 3, 4, 1, 3, 8, 6, 0, 3, 4, 2, 0, 7, 5, 4, 8, 1, 7, 5, 9, 1, 0, 0, 6, 5, 0, 1, 2, 4, 1, 1, 2, 3, 0, 5, 6, 3, 1, 7, 1, 0, 0, 3, 5, 3, 1, 2, 6, 4, 0, 0, 0, 0, 0, 0, 0, 0, 0, 0, 0, 0, 0, 0, 0, 0, 0, 0, 0, 0, 0, 0, 0, 0, 0, 0, 0, 0, 0, 0, 0, 0, 0, 0, 0, 0, 0, 0, 0, 0, 0, 0, 0, 0, 0, 0, 0, 0, 0, 0, 0, 0, 0, 0, 0, 0, 0, 0, 0, 0, 0, 0, 0, 0, 0, 0, 0, 0, 0, 0, 0, 0, 0, 0, 0, 0, 0, 0, 0, 0, 0, 0, 0, 0, 0, 0, 0, 0, 0, 0, 0, 0, 0, 0, 0, 0, 0, 0, 0], [9, 0, 5, 5, 3, 8, 5, 1, 3, 8, 1, 3, 7, 4, 1, 7, 7, 1, 6, 3, 1, 2, 2, 1, 6, 3, 5, 7, 4, 7, 9, 3, 8, 3, 5, 6, 6, 2, 6, 6, 5, 0, 9, 5, 1, 8, 7, 5, 4, 3, 9, 1, 0, 7, 9, 5, 4, 2, 2, 6, 8, 6, 9, 1, 9, 2, 8, 7, 5, 4, 8, 2, 8, 5, 3, 2, 5, 9, 0, 1, 3, 5, 7, 8, 9, 7, 5, 7, 2, 5, 5, 7, 7, 9, 3, 5, 2, 5, 7, 6, 0, 0, 0, 0, 0, 0, 0, 0, 0, 0, 0, 0, 0, 0, 0, 0, 0, 0, 0, 0, 0, 0, 0, 0, 0, 0, 0, 0, 0, 0, 0, 0, 0, 0, 0, 0, 0, 0, 0, 0, 0, 0, 0, 0, 0, 0, 0, 0, 0, 0, 0, 0, 0, 0, 0, 0, 0, 0, 0, 0, 0, 0, 0, 0, 0, 0, 0, 0, 0, 0, 0, 0, 0, 0, 0, 0, 0, 0, 0, 0, 0, 0, 0, 0, 0, 0, 0, 0, 0, 0, 0, 0, 0, 0, 0, 0, 0, 0, 0], [9, 4, 8, 6, 8, 3, 2, 9, 8, 0, 5, 0, 5, 1, 3, 7, 1, 5, 6, 5, 2, 7, 5, 4, 5, 8, 4, 4, 8, 4, 6, 4, 4, 3, 3, 8, 2, 1, 6, 9, 2, 5, 0, 3, 3, 7, 6, 8, 9, 2, 4, 2, 7, 9, 2, 9, 6, 8, 9, 4, 4, 3, 6, 2, 1, 5, 2, 7, 5, 7, 8, 9, 4, 2, 3, 9, 7, 6, 8, 7, 4, 9, 0, 7, 2, 1, 6, 7, 5, 1, 3, 5, 4, 9, 1, 7, 6, 8, 3, 2, 0, 0, 0, 0, 0, 0, 0, 0, 0, 0, 0, 0, 0, 0, 0, 0, 0, 0, 0, 0, 0, 0, 0, 0, 0, 0, 0, 0, 0, 0, 0, 0, 0, 0, 0, 0, 0, 0, 0, 0, 0, 0, 0, 0, 0, 0, 0, 0, 0, 0, 0, 0, 0, 0, 0, 0, 0, 0, 0, 0, 0, 0, 0, 0, 0, 0, 0, 0, 0, 0, 0, 0, 0, 0, 0, 0, 0, 0, 0, 0, 0, 0, 0, 0, 0, 0, 0, 0, 0, 0, 0, 0, 0, 0, 0, 0, 0, 0, 0], [9, 8, 9, 9, 4, 9, 4, 9, 3, 6, 6, 1, 1, 6, 6, 4, 9, 9, 5, 7, 2, 9, 9, 9, 8, 7, 2, 0, 4, 0, 0, 1, 0, 3, 7, 9, 6, 4, 9, 7, 9, 6, 3, 4, 9, 0, 1, 9, 2, 0, 2, 2, 1, 7, 3, 0, 0, 4, 6, 1, 8, 8, 1, 6, 8, 0, 6, 9, 6, 2, 6, 6, 4, 7, 2, 0, 3, 3, 9, 1, 4, 7, 2, 6, 9, 3, 1, 8, 5, 0, 9, 9, 2, 8, 1, 2, 0, 3, 2, 0, 0, 0, 0, 0, 0, 0, 0, 0, 0, 0, 0, 0, 0, 0, 0, 0, 0, 0, 0, 0, 0, 0, 0, 0, 0, 0, 0, 0, 0, 0, 0, 0, 0, 0, 0, 0, 0, 0, 0, 0, 0, 0, 0, 0, 0, 0, 0, 0, 0, 0, 0, 0, 0, 0, 0, 0, 0, 0, 0, 0, 0, 0, 0, 0, 0, 0, 0, 0, 0, 0, 0, 0, 0, 0, 0, 0, 0, 0, 0, 0, 0, 0, 0, 0, 0, 0, 0, 0, 0, 0, 0, 0, 0, 0, 0, 0, 0, 0, 0], [4, 1, 2, 3, 1, 0, 5, 6, 2, 5, 6, 1, 7, 6, 6, 0, 2, 5, 0, 4, 5, 8, 1, 5, 9, 3, 5, 2, 7, 3, 7, 1, 6, 7, 9, 6, 3, 8, 8, 7, 9, 2, 2, 9, 3, 5, 4, 4, 9, 7, 5, 6, 0, 6, 2, 6, 4, 9, 2, 7, 2, 8, 3, 2, 0, 1, 1, 2, 8, 1, 5, 4, 3, 1, 9, 8, 2, 5, 6, 5, 1, 5, 9, 0, 6, 7, 6, 9, 6, 3, 9, 3, 0, 4, 0, 6, 9, 1, 2, 0, 0, 0, 0, 0, 0, 0, 0, 0, 0, 0, 0, 0, 0, 0, 0, 0, 0, 0, 0, 0, 0, 0, 0, 0, 0, 0, 0, 0, 0, 0, 0, 0, 0, 0, 0, 0, 0, 0, 0, 0, 0, 0, 0, 0, 0, 0, 0, 0, 0, 0, 0, 0, 0, 0, 0, 0, 0, 0, 0, 0, 0, 0, 0, 0, 0, 0, 0, 0, 0, 0, 0, 0, 0, 0, 0, 0, 0, 0, 0, 0, 0, 0, 0, 0, 0, 0, 0, 0, 0, 0, 0, 0, 0, 0, 0, 0, 0, 0, 0, 0, 0, 0, 0, 0, 0, 0, 0, 0, 0, 0, 0, 0, 0, 0, 0, 0, 0, 0, 0, 0, 0, 0, 0, 0, 0, 0, 0, 0, 0, 0, 0, 0, 0, 0, 0, 0, 0, 0, 0, 0, 0, 0, 0, 0, 0, 0, 0, 0, 0, 0, 0, 0, 0, 0, 0, 0, 0, 0, 0, 0, 0, 0, 0, 0, 0, 0, 0, 0, 0, 0, 0, 0, 0, 0, 0, 0, 0, 0, 0, 0, 0, 0, 0, 0, 0, 0, 0, 0, 0, 0, 0, 0, 0, 0, 0, 0, 0, 0], [5, 8, 3, 0, 9, 5, 1, 8, 9, 4, 8, 4, 5, 3, 0, 0, 3, 6, 8, 5, 1, 5, 2, 7, 1, 1, 8, 5, 2, 3, 3, 3, 9, 3, 3, 5, 2, 9, 8, 3, 2, 4, 9, 7, 9, 9, 2, 8, 6, 9, 3, 5, 1, 3, 2, 7, 9, 6, 8, 8, 9, 6, 2, 2, 2, 8, 2, 2, 0, 3, 9, 1, 6, 7, 3, 6, 3, 0, 1, 6, 5, 1, 8, 4, 8, 5, 9, 5, 6, 3, 8, 9, 6, 7, 0, 7, 4, 8, 1, 6, 0, 0, 0, 0, 0, 0, 0, 0, 0, 0, 0, 0, 0, 0, 0, 0, 0, 0, 0, 0, 0, 0, 0, 0, 0, 0, 0, 0, 0, 0, 0, 0, 0, 0, 0, 0, 0, 0, 0, 0, 0, 0, 0, 0, 0, 0, 0, 0, 0, 0, 0, 0, 0, 0, 0, 0, 0, 0, 0, 0, 0, 0, 0, 0, 0, 0, 0, 0, 0, 0, 0, 0, 0, 0, 0, 0, 0, 0, 0, 0, 0, 0, 0, 0, 0, 0, 0, 0, 0, 0, 0, 0, 0, 0, 0, 0, 0, 0, 0, 0, 0, 0, 0, 0, 0, 0, 0, 0, 0, 0, 0, 0, 0, 0, 0, 0, 0, 0, 0, 0, 0, 0, 0, 0, 0, 0, 0, 0, 0, 0, 0, 0, 0, 0, 0, 0, 0, 0, 0, 0, 0, 0, 0, 0, 0, 0, 0, 0, 0, 0, 0, 0, 0, 0, 0, 0, 0, 0, 0, 0, 0, 0, 0, 0, 0, 0, 0, 0, 0, 0, 0, 0, 0, 0, 0, 0, 0, 0, 0, 0, 0, 0, 0, 0, 0, 0, 0, 0, 0, 0, 0, 0, 0, 0, 0, 0, 0, 0], [7, 2, 1, 1, 1, 0, 2, 5, 5, 0, 9, 2, 7, 9, 7, 7, 6, 7, 5, 2, 1, 9, 7, 7, 7, 0, 0, 0, 1, 7, 9, 1, 9, 1, 0, 3, 4, 4, 3, 0, 0, 3, 7, 2, 1, 6, 8, 5, 3, 2, 0, 4, 1, 4, 1, 5, 5, 3, 1, 6, 6, 5, 5, 2, 1, 8, 3, 5, 1, 3, 6, 0, 2, 3, 1, 1, 0, 9, 5, 5, 3, 0, 8, 2, 9, 8, 4, 5, 0, 3, 4, 1, 4, 0, 9, 5, 8, 7, 2, 0, 0, 0, 0, 0, 0, 0, 0, 0, 0, 0, 0, 0, 0, 0, 0, 0, 0, 0, 0, 0, 0, 0, 0, 0, 0, 0, 0, 0, 0, 0, 0, 0, 0, 0, 0, 0, 0, 0, 0, 0, 0, 0, 0, 0, 0, 0, 0, 0, 0, 0, 0, 0, 0, 0, 0, 0, 0, 0, 0, 0, 0, 0, 0, 0, 0, 0, 0, 0, 0, 0, 0, 0, 0, 0, 0, 0, 0, 0, 0, 0, 0, 0, 0, 0, 0, 0, 0, 0, 0, 0, 0, 0, 0, 0, 0, 0, 0, 0, 0, 0, 0, 0, 0, 0, 0, 0, 0, 0, 0, 0, 0, 0, 0, 0, 0, 0, 0, 0, 0, 0, 0, 0, 0, 0, 0, 0, 0, 0, 0, 0, 0, 0, 0, 0, 0, 0, 0, 0, 0, 0, 0, 0, 0, 0, 0, 0, 0, 0, 0, 0, 0, 0, 0, 0, 0, 0, 0, 0, 0, 0, 0, 0, 0, 0, 0, 0, 0, 0, 0, 0, 0, 0, 0, 0, 0, 0, 0, 0, 0, 0, 0, 0, 0, 0, 0, 0, 0, 0, 0, 0, 0, 0, 0, 0, 0, 0, 0, 0], [8, 3, 0, 6, 6, 2, 3, 8, 6, 2, 9, 1, 8, 0, 7, 4, 4, 4, 9, 9, 3, 9, 1, 4, 5, 6, 6, 4, 3, 2, 7, 8, 5, 0, 4, 3, 3, 0, 2, 3, 6, 5, 2, 8, 8, 0, 9, 2, 5, 4, 7, 4, 2, 7, 4, 3, 1, 2, 9, 8, 2, 5, 0, 1, 7, 9, 6, 9, 2, 5, 4, 3, 9, 9, 2, 7, 9, 5, 4, 3, 3, 9, 5, 6, 1, 4, 1, 9, 4, 1, 8, 7, 2, 8, 6, 6, 0, 9, 9, 2, 0, 0, 0, 0, 0, 0, 0, 0, 0, 0, 0, 0, 0, 0, 0, 0, 0, 0, 0, 0, 0, 0, 0, 0, 0, 0, 0, 0, 0, 0, 0, 0, 0, 0, 0, 0, 0, 0, 0, 0, 0, 0, 0, 0, 0, 0, 0, 0, 0, 0, 0, 0, 0, 0, 0, 0, 0, 0, 0, 0, 0, 0, 0, 0, 0, 0, 0, 0, 0, 0, 0, 0, 0, 0, 0, 0, 0, 0, 0, 0, 0, 0, 0, 0, 0, 0, 0, 0, 0, 0, 0, 0, 0, 0, 0, 0, 0, 0, 0, 0, 0, 0, 0, 0, 0, 0, 0, 0, 0, 0, 0, 0, 0, 0, 0, 0, 0, 0, 0, 0, 0, 0, 0, 0, 0, 0, 0, 0, 0, 0, 0, 0, 0, 0, 0, 0, 0, 0, 0, 0, 0, 0, 0, 0, 0, 0, 0, 0, 0, 0, 0, 0, 0, 0, 0, 0, 0, 0, 0, 0, 0, 0, 0, 0, 0, 0, 0, 0, 0, 0, 0, 0, 0, 0, 0, 0, 0, 0, 0, 0, 0, 0, 0, 0, 0, 0, 0, 0, 0, 0, 0, 0, 0, 0, 0, 0, 0, 0], [9, 2, 7, 3, 6, 1, 8, 4, 9, 5, 4, 9, 5, 7, 0, 3, 0, 1, 4, 3, 3, 2, 9, 5, 3, 1, 5, 7, 4, 9, 7, 1, 6, 1, 7, 5, 7, 8, 4, 1, 9, 1, 7, 9, 2, 3, 1, 4, 1, 1, 4, 0, 9, 1, 0, 4, 5, 4, 6, 0, 1, 0, 1, 4, 1, 2, 0, 6, 1, 5, 1, 5, 9, 0, 1, 5, 2, 8, 5, 7, 8, 1, 2, 2, 6, 9, 8, 4, 3, 5, 3, 8, 4, 9, 9, 3, 3, 8, 2, 4, 0, 0, 0, 0, 0, 0, 0, 0, 0, 0, 0, 0, 0, 0, 0, 0, 0, 0, 0, 0, 0, 0, 0, 0, 0, 0, 0, 0, 0, 0, 0, 0, 0, 0, 0, 0, 0, 0, 0, 0, 0, 0, 0, 0, 0, 0, 0, 0, 0, 0, 0, 0, 0, 0, 0, 0, 0, 0, 0, 0, 0, 0, 0, 0, 0, 0, 0, 0, 0, 0, 0, 0, 0, 0, 0, 0, 0, 0, 0, 0, 0, 0, 0, 0, 0, 0, 0, 0, 0, 0, 0, 0, 0, 0, 0, 0, 0, 0, 0, 0, 0, 0, 0, 0, 0, 0, 0, 0, 0, 0, 0, 0, 0, 0, 0, 0, 0, 0, 0, 0, 0, 0, 0, 0, 0, 0, 0, 0, 0, 0, 0, 0, 0, 0, 0, 0, 0, 0, 0, 0, 0, 0, 0, 0, 0, 0, 0, 0, 0, 0, 0, 0, 0, 0, 0, 0, 0, 0, 0, 0, 0, 0, 0, 0, 0, 0, 0, 0, 0, 0, 0, 0, 0, 0, 0, 0, 0, 0, 0, 0, 0, 0, 0, 0, 0, 0, 0, 0, 0, 0, 0, 0, 0, 0, 0, 0, 0, 0], [2, 6, 4, 5, 7, 5, 1, 3, 1, 1, 0, 6, 4, 5, 9, 0, 8, 6, 4, 9, 8, 1, 9, 1, 3, 8, 9, 4, 2, 7, 3, 4, 4, 8, 8, 3, 6, 4, 6, 3, 0, 3, 5, 8, 0, 6, 2, 6, 3, 7, 4, 6, 4, 9, 8, 1, 4, 6, 3, 2, 9, 5, 1, 5, 2, 3, 1, 3, 0, 6, 9, 7, 1, 4, 3, 6, 2, 5, 0, 7, 0, 5, 9, 1, 3, 6, 0, 2, 4, 3, 9, 1, 1, 4, 6, 5, 3, 6, 9, 6, 0, 0, 0, 0, 0, 0, 0, 0, 0, 0, 0, 0, 0, 0, 0, 0, 0, 0, 0, 0, 0, 0, 0, 0, 0, 0, 0, 0, 0, 0, 0, 0, 0, 0, 0, 0, 0, 0, 0, 0, 0, 0, 0, 0, 0, 0, 0, 0, 0, 0, 0, 0, 0, 0, 0, 0, 0, 0, 0, 0, 0, 0, 0, 0, 0, 0, 0, 0, 0, 0, 0, 0, 0, 0, 0, 0, 0, 0, 0, 0, 0, 0, 0, 0, 0, 0, 0, 0, 0, 0, 0, 0, 0, 0, 0, 0, 0, 0, 0, 0, 0, 0, 0, 0, 0, 0, 0, 0, 0, 0, 0, 0, 0, 0, 0, 0, 0, 0, 0, 0, 0, 0, 0, 0, 0, 0, 0, 0, 0, 0, 0, 0, 0, 0, 0, 0, 0, 0, 0, 0, 0, 0, 0, 0, 0, 0, 0, 0, 0, 0, 0, 0, 0, 0, 0, 0, 0, 0, 0, 0, 0, 0, 0, 0, 0, 0, 0, 0, 0, 0, 0, 0, 0, 0, 0, 0, 0, 0, 0, 0, 0, 0, 0, 0, 0, 0, 0, 0, 0, 0, 0, 0, 0, 0, 0, 0, 0, 0, 0, 0, 0, 0, 0, 0, 0, 0, 0, 0, 0, 0, 0, 0, 0, 0, 0, 0, 0, 0, 0, 0, 0, 0, 0, 0, 0, 0, 0, 0, 0, 0, 0, 0, 0, 0, 0, 0, 0, 0, 0, 0, 0, 0, 0, 0, 0, 0, 0, 0, 0, 0, 0, 0, 0, 0, 0, 0, 0, 0, 0, 0, 0, 0, 0, 0, 0, 0, 0, 0, 0, 0, 0, 0, 0, 0, 0, 0, 0, 0, 0, 0, 0, 0, 0, 0, 0, 0, 0, 0, 0, 0, 0, 0, 0, 0, 0, 0, 0], [6, 5, 5, 7, 4, 3, 8, 5, 2, 4, 3, 0, 2, 0, 0, 0, 6, 0, 4, 9, 1, 4, 1, 1, 5, 8, 2, 6, 5, 7, 0, 4, 9, 3, 7, 9, 5, 4, 4, 5, 4, 3, 0, 6, 1, 0, 9, 2, 9, 3, 6, 3, 4, 7, 4, 9, 7, 4, 1, 8, 7, 5, 3, 6, 4, 3, 2, 8, 2, 1, 6, 1, 3, 8, 5, 4, 8, 1, 6, 7, 9, 7, 5, 8, 2, 6, 6, 1, 2, 2, 6, 4, 2, 8, 6, 2, 8, 9, 9, 2, 0, 0, 0, 0, 0, 0, 0, 0, 0, 0, 0, 0, 0, 0, 0, 0, 0, 0, 0, 0, 0, 0, 0, 0, 0, 0, 0, 0, 0, 0, 0, 0, 0, 0, 0, 0, 0, 0, 0, 0, 0, 0, 0, 0, 0, 0, 0, 0, 0, 0, 0, 0, 0, 0, 0, 0, 0, 0, 0, 0, 0, 0, 0, 0, 0, 0, 0, 0, 0, 0, 0, 0, 0, 0, 0, 0, 0, 0, 0, 0, 0, 0, 0, 0, 0, 0, 0, 0, 0, 0, 0, 0, 0, 0, 0, 0, 0, 0, 0, 0, 0, 0, 0, 0, 0, 0, 0, 0, 0, 0, 0, 0, 0, 0, 0, 0, 0, 0, 0, 0, 0, 0, 0, 0, 0, 0, 0, 0, 0, 0, 0, 0, 0, 0, 0, 0, 0, 0, 0, 0, 0, 0, 0, 0, 0, 0, 0, 0, 0, 0, 0, 0, 0, 0, 0, 0, 0, 0, 0, 0, 0, 0, 0, 0, 0, 0, 0, 0, 0, 0, 0, 0, 0, 0, 0, 0, 0, 0, 0, 0, 0, 0, 0, 0, 0, 0, 0, 0, 0, 0, 0, 0, 0, 0, 0, 0, 0, 0, 0, 0, 0, 0, 0, 0, 0, 0, 0, 0, 0, 0, 0, 0, 0, 0, 0, 0, 0, 0, 0, 0, 0, 0, 0, 0, 0, 0, 0, 0, 0, 0, 0, 0, 0, 0, 0, 0, 0, 0, 0, 0, 0, 0, 0, 0, 0, 0, 0, 0, 0, 0, 0, 0, 0, 0, 0, 0, 0, 0, 0, 0, 0, 0, 0, 0, 0, 0, 0, 0, 0, 0, 0, 0, 0, 0, 0, 0, 0, 0, 0, 0, 0, 0, 0, 0, 0, 0, 0, 0, 0, 0, 0, 0, 0, 0, 0, 0, 0], [8, 7, 7, 4, 9, 6, 4, 3, 8, 7, 3, 9, 2, 1, 2, 1, 8, 8, 1, 7, 2, 0, 0, 5, 5, 4, 8, 4, 0, 0, 8, 6, 1, 9, 1, 0, 4, 5, 2, 5, 2, 5, 8, 3, 1, 2, 6, 7, 2, 4, 2, 0, 1, 6, 4, 8, 6, 7, 3, 9, 5, 6, 7, 8, 2, 8, 0, 9, 0, 3, 9, 8, 0, 0, 4, 6, 2, 1, 3, 9, 7, 4, 9, 0, 6, 1, 7, 2, 2, 8, 3, 7, 8, 6, 6, 2, 5, 0, 2, 4, 0, 0, 0, 0, 0, 0, 0, 0, 0, 0, 0, 0, 0, 0, 0, 0, 0, 0, 0, 0, 0, 0, 0, 0, 0, 0, 0, 0, 0, 0, 0, 0, 0, 0, 0, 0, 0, 0, 0, 0, 0, 0, 0, 0, 0, 0, 0, 0, 0, 0, 0, 0, 0, 0, 0, 0, 0, 0, 0, 0, 0, 0, 0, 0, 0, 0, 0, 0, 0, 0, 0, 0, 0, 0, 0, 0, 0, 0, 0, 0, 0, 0, 0, 0, 0, 0, 0, 0, 0, 0, 0, 0, 0, 0, 0, 0, 0, 0, 0, 0, 0, 0, 0, 0, 0, 0, 0, 0, 0, 0, 0, 0, 0, 0, 0, 0, 0, 0, 0, 0, 0, 0, 0, 0, 0, 0, 0, 0, 0, 0, 0, 0, 0, 0, 0, 0, 0, 0, 0, 0, 0, 0, 0, 0, 0, 0, 0, 0, 0, 0, 0, 0, 0, 0, 0, 0, 0, 0, 0, 0, 0, 0, 0, 0, 0, 0, 0, 0, 0, 0, 0, 0, 0, 0, 0, 0, 0, 0, 0, 0, 0, 0, 0, 0, 0, 0, 0, 0, 0, 0, 0, 0, 0, 0, 0, 0, 0, 0, 0, 0, 0, 0, 0, 0, 0, 0, 0, 0, 0, 0, 0, 0, 0, 0, 0, 0, 0, 0, 0, 0, 0, 0, 0, 0, 0, 0, 0, 0, 0, 0, 0, 0, 0, 0, 0, 0, 0, 0, 0, 0, 0, 0, 0, 0, 0, 0, 0, 0, 0, 0, 0, 0, 0, 0, 0, 0, 0, 0, 0, 0, 0, 0, 0, 0, 0, 0, 0, 0, 0, 0, 0, 0, 0, 0, 0, 0, 0, 0, 0, 0, 0, 0, 0, 0, 0, 0, 0, 0, 0, 0, 0, 0, 0, 0, 0, 0, 0], [5, 0, 9, 9, 0, 1, 9, 5, 1, 3, 5, 9, 2, 7, 8, 4, 4, 8, 1, 5, 1, 8, 8, 4, 5, 4, 1, 1, 1, 1, 8, 1, 9, 1, 5, 8, 8, 9, 2, 3, 0, 4, 4, 0, 7, 5, 8, 2, 0, 8, 1, 1, 2, 1, 0, 0, 9, 2, 2, 5, 9, 2, 4, 6, 0, 3, 4, 7, 4, 6, 3, 9, 2, 9, 5, 1, 0, 1, 9, 9, 3, 6, 2, 7, 4, 5, 8, 3, 9, 1, 4, 7, 8, 0, 0, 3, 3, 0, 2, 4, 0, 0, 0, 0, 0, 0, 0, 0, 0, 0, 0, 0, 0, 0, 0, 0, 0, 0, 0, 0, 0, 0, 0, 0, 0, 0, 0, 0, 0, 0, 0, 0, 0, 0, 0, 0, 0, 0, 0, 0, 0, 0, 0, 0, 0, 0, 0, 0, 0, 0, 0, 0, 0, 0, 0, 0, 0, 0, 0, 0, 0, 0, 0, 0, 0, 0, 0, 0, 0, 0, 0, 0, 0, 0, 0, 0, 0, 0, 0, 0, 0, 0, 0, 0, 0, 0, 0, 0, 0, 0, 0, 0, 0, 0, 0, 0, 0, 0, 0, 0, 0, 0, 0, 0, 0, 0, 0, 0, 0, 0, 0, 0, 0, 0, 0, 0, 0, 0, 0, 0, 0, 0, 0, 0, 0, 0, 0, 0, 0, 0, 0, 0, 0, 0, 0, 0, 0, 0, 0, 0, 0, 0, 0, 0, 0, 0, 0, 0, 0, 0, 0, 0, 0, 0, 0, 0, 0, 0, 0, 0, 0, 0, 0, 0, 0, 0, 0, 0, 0, 0, 0, 0, 0, 0, 0, 0, 0, 0, 0, 0, 0, 0, 0, 0, 0, 0, 0, 0, 0, 0, 0, 0, 0, 0, 0, 0, 0, 0, 0, 0, 0, 0, 0, 0, 0, 0, 0, 0, 0, 0, 0, 0, 0, 0, 0, 0, 0, 0, 0, 0, 0, 0, 0, 0, 0, 0, 0, 0, 0, 0, 0, 0, 0, 0, 0, 0, 0, 0, 0, 0, 0, 0, 0, 0, 0, 0, 0, 0, 0, 0, 0, 0, 0, 0, 0, 0, 0, 0, 0, 0, 0, 0, 0, 0, 0, 0, 0, 0, 0, 0, 0, 0, 0, 0, 0, 0, 0, 0, 0, 0, 0, 0, 0, 0, 0, 0, 0, 0, 0, 0, 0, 0, 0, 0, 0, 0, 0, 0, 0, 0, 0, 0, 0, 0, 0, 0, 0, 0, 0, 0, 0, 0, 0, 0, 0, 0, 0, 0, 0, 0, 0, 0, 0, 0, 0, 0, 0, 0, 0, 0, 0, 0, 0, 0, 0, 0, 0, 0, 0, 0, 0, 0, 0, 0, 0, 0, 0, 0, 0, 0, 0, 0, 0, 0, 0, 0, 0, 0, 0, 0, 0, 0, 0, 0, 0, 0, 0, 0, 0, 0, 0, 0, 0, 0, 0, 0, 0, 0, 0, 0, 0, 0, 0, 0, 0, 0, 0, 0, 0, 0, 0, 0, 0, 0, 0, 0], [9, 6, 9, 5, 3, 5, 9, 7, 1, 4, 8, 3, 2, 6, 5, 9, 3, 0, 7, 1, 7, 4, 7, 5, 4, 6, 8, 1, 2, 0, 1, 9, 7, 7, 9, 7, 4, 2, 8, 9, 4, 1, 9, 1, 4, 6, 7, 0, 2, 9, 6, 9, 2, 6, 2, 1, 0, 2, 0, 5, 6, 9, 3, 0, 3, 0, 0, 6, 8, 7, 3, 2, 6, 9, 4, 6, 1, 7, 3, 0, 8, 4, 1, 4, 6, 2, 3, 4, 1, 5, 0, 9, 7, 7, 7, 9, 8, 1, 4, 4, 0, 0, 0, 0, 0, 0, 0, 0, 0, 0, 0, 0, 0, 0, 0, 0, 0, 0, 0, 0, 0, 0, 0, 0, 0, 0, 0, 0, 0, 0, 0, 0, 0, 0, 0, 0, 0, 0, 0, 0, 0, 0, 0, 0, 0, 0, 0, 0, 0, 0, 0, 0, 0, 0, 0, 0, 0, 0, 0, 0, 0, 0, 0, 0, 0, 0, 0, 0, 0, 0, 0, 0, 0, 0, 0, 0, 0, 0, 0, 0, 0, 0, 0, 0, 0, 0, 0, 0, 0, 0, 0, 0, 0, 0, 0, 0, 0, 0, 0, 0, 0, 0, 0, 0, 0, 0, 0, 0, 0, 0, 0, 0, 0, 0, 0, 0, 0, 0, 0, 0, 0, 0, 0, 0, 0, 0, 0, 0, 0, 0, 0, 0, 0, 0, 0, 0, 0, 0, 0, 0, 0, 0, 0, 0, 0, 0, 0, 0, 0, 0, 0, 0, 0, 0, 0, 0, 0, 0, 0, 0, 0, 0, 0, 0, 0, 0, 0, 0, 0, 0, 0, 0, 0, 0, 0, 0, 0, 0, 0, 0, 0, 0, 0, 0, 0, 0, 0, 0, 0, 0, 0, 0, 0, 0, 0, 0, 0, 0, 0, 0, 0, 0, 0, 0, 0, 0, 0, 0, 0, 0, 0, 0, 0, 0, 0, 0, 0, 0, 0, 0, 0, 0, 0, 0, 0, 0, 0, 0, 0, 0, 0, 0, 0, 0, 0, 0, 0, 0, 0, 0, 0, 0, 0, 0, 0, 0, 0, 0, 0, 0, 0, 0, 0, 0, 0, 0, 0, 0, 0, 0, 0, 0, 0, 0, 0, 0, 0, 0, 0, 0, 0, 0, 0, 0, 0, 0, 0, 0, 0, 0, 0, 0, 0, 0, 0, 0, 0, 0, 0, 0, 0, 0, 0, 0, 0, 0, 0, 0, 0, 0, 0, 0, 0, 0, 0, 0, 0, 0, 0, 0, 0, 0, 0, 0, 0, 0, 0, 0, 0, 0, 0, 0, 0, 0, 0, 0, 0, 0, 0, 0, 0, 0, 0, 0, 0, 0, 0, 0, 0, 0, 0, 0, 0, 0, 0, 0, 0, 0, 0, 0, 0, 0, 0, 0, 0, 0, 0, 0, 0, 0, 0, 0, 0, 0, 0, 0, 0, 0, 0, 0, 0, 0, 0, 0, 0, 0, 0, 0, 0, 0, 0, 0, 0, 0, 0, 0, 0, 0, 0, 0, 0, 0, 0, 0, 0, 0], [7, 7, 4, 5, 9, 6, 6, 6, 9, 2, 4, 1, 4, 8, 3, 4, 2, 1, 2, 9, 4, 2, 4, 4, 5, 5, 1, 4, 5, 4, 5, 3, 2, 8, 3, 3, 5, 5, 6, 0, 3, 2, 4, 0, 5, 1, 4, 9, 8, 4, 7, 3, 9, 5, 7, 4, 8, 1, 0, 7, 9, 1, 2, 2, 1, 7, 9, 2, 0, 8, 7, 4, 5, 2, 6, 1, 6, 4, 3, 7, 7, 7, 2, 3, 6, 4, 1, 2, 3, 3, 6, 4, 8, 3, 3, 3, 6, 1, 9, 2, 0, 0, 0, 0, 0, 0, 0, 0, 0, 0, 0, 0, 0, 0, 0, 0, 0, 0, 0, 0, 0, 0, 0, 0, 0, 0, 0, 0, 0, 0, 0, 0, 0, 0, 0, 0, 0, 0, 0, 0, 0, 0, 0, 0, 0, 0, 0, 0, 0, 0, 0, 0, 0, 0, 0, 0, 0, 0, 0, 0, 0, 0, 0, 0, 0, 0, 0, 0, 0, 0, 0, 0, 0, 0, 0, 0, 0, 0, 0, 0, 0, 0, 0, 0, 0, 0, 0, 0, 0, 0, 0, 0, 0, 0, 0, 0, 0, 0, 0, 0, 0, 0, 0, 0, 0, 0, 0, 0, 0, 0, 0, 0, 0, 0, 0, 0, 0, 0, 0, 0, 0, 0, 0, 0, 0, 0, 0, 0, 0, 0, 0, 0, 0, 0, 0, 0, 0, 0, 0, 0, 0, 0, 0, 0, 0, 0, 0, 0, 0, 0, 0, 0, 0, 0, 0, 0, 0, 0, 0, 0, 0, 0, 0, 0, 0, 0, 0, 0, 0, 0, 0, 0, 0, 0, 0, 0, 0, 0, 0, 0, 0, 0, 0, 0, 0, 0, 0, 0, 0, 0, 0, 0, 0, 0, 0, 0, 0, 0, 0, 0, 0, 0, 0, 0, 0, 0, 0, 0, 0, 0, 0, 0, 0, 0, 0, 0, 0, 0, 0, 0, 0, 0, 0, 0, 0, 0, 0, 0, 0, 0, 0, 0, 0, 0, 0, 0, 0, 0, 0, 0, 0, 0, 0, 0, 0, 0, 0, 0, 0, 0, 0, 0, 0, 0, 0, 0, 0, 0, 0, 0, 0, 0, 0, 0, 0, 0, 0, 0, 0, 0, 0, 0, 0, 0, 0, 0, 0, 0, 0, 0, 0, 0, 0, 0, 0, 0, 0, 0, 0, 0, 0, 0, 0, 0, 0, 0, 0, 0, 0, 0, 0, 0, 0, 0, 0, 0, 0, 0, 0, 0, 0, 0, 0, 0, 0, 0, 0, 0, 0, 0, 0, 0, 0, 0, 0, 0, 0, 0, 0, 0, 0, 0, 0, 0, 0, 0, 0, 0, 0, 0, 0, 0, 0, 0, 0, 0, 0, 0, 0, 0, 0, 0, 0, 0, 0, 0, 0, 0, 0, 0, 0, 0, 0, 0, 0, 0, 0, 0, 0, 0, 0, 0, 0, 0, 0, 0, 0, 0, 0, 0, 0, 0, 0, 0, 0, 0, 0, 0, 0, 0, 0, 0, 0, 0, 0, 0, 0, 0, 0, 0, 0, 0, 0, 0, 0, 0, 0, 0, 0, 0, 0, 0, 0, 0, 0, 0, 0, 0, 0, 0, 0, 0, 0, 0, 0, 0, 0, 0, 0, 0, 0, 0, 0, 0, 0, 0, 0, 0, 0, 0, 0, 0, 0, 0, 0, 0, 0, 0, 0, 0, 0, 0, 0, 0, 0, 0, 0, 0, 0, 0, 0, 0, 0, 0, 0, 0, 0, 0, 0, 0, 0, 0, 0, 0, 0, 0, 0, 0, 0, 0, 0, 0, 0, 0, 0, 0, 0, 0, 0, 0, 0, 0, 0, 0, 0, 0, 0, 0, 0, 0, 0, 0, 0, 0, 0, 0, 0, 0, 0, 0, 0, 0, 0, 0, 0, 0, 0, 0, 0, 0, 0, 0, 0, 0, 0, 0, 0, 0, 0, 0, 0, 0, 0, 0, 0, 0, 0, 0, 0, 0, 0, 0, 0, 0, 0, 0, 0, 0, 0, 0, 0, 0, 0, 0, 0, 0, 0, 0, 0, 0, 0, 0, 0, 0, 0, 0, 0, 0, 0, 0, 0, 0, 0, 0, 0, 0, 0, 0, 0, 0, 0, 0, 0, 0, 0, 0, 0, 0, 0, 0, 0, 0, 0, 0]]\n",
      "23543\n"
     ]
    },
    {
     "name": "stderr",
     "output_type": "stream",
     "text": [
      "<>:22: SyntaxWarning: invalid escape sequence '\\d'\n",
      "<>:22: SyntaxWarning: invalid escape sequence '\\d'\n",
      "/tmp/ipykernel_52011/3985542737.py:22: SyntaxWarning: invalid escape sequence '\\d'\n",
      "  dec = list(map(int, findall('\\d', str(number1))))\n"
     ]
    }
   ],
   "source": [
    "#80 Square Root Digital Expansion\n",
    "from re import findall\n",
    "from math import sqrt\n",
    "num=list(range(2,100))\n",
    "num1=[]\n",
    "num.remove(4)\n",
    "num.remove(9)\n",
    "num.remove(16)\n",
    "num.remove(25)\n",
    "num.remove(36)\n",
    "num.remove(49)\n",
    "num.remove(64)\n",
    "num.remove(81)\n",
    "for i in range(len(num)):\n",
    "    num[i]=sqrt(num[i])\n",
    "for j in range(len(num)):\n",
    "    num2=num[j]*(10**99)\n",
    "    num.remove(num[j])\n",
    "    num2=int(num2)\n",
    "    num.append(num2)\n",
    "for number1 in num:\n",
    "    dec = list(map(int, findall('\\d', str(number1))))\n",
    "    num1.append(dec)\n",
    "sum_digit=0\n",
    "for list_num in num1:\n",
    "    for number2 in list_num:\n",
    "        sum_digit+=number2\n",
    "print(num1)\n",
    "print(sum_digit)"
   ]
  },
  {
   "cell_type": "code",
   "execution_count": null,
   "metadata": {},
   "outputs": [],
   "source": [
    "(* 80 Square Root Digital Expansion*)\n",
    "numberDigits = RealDigits[Sqrt[2], 10, 100][[1]]\n",
    "lst=Complement[Range[1, 99], Table[n^2, {n, 1, Floor[Sqrt[99]]}]];\n",
    "totalNumberDigits=Table[RealDigits[Sqrt[i], 10, 100][[1]],{i,lst}];\n",
    "lst1={{1,2,3,4,5},{6,7,8,9,10}};\n",
    "Total[Total[lst1]]\n",
    "Total[Total[totalNumberDigits]]\n",
    "(* learn 3 functions:\n",
    "    RealDigits[] give a list of len digit\n",
    "    Complement[] after excluding the subsequent lists, the complement from the first list \n",
    "    Total[] *)"
   ]
  },
  {
   "cell_type": "markdown",
   "metadata": {
    "vscode": {
     "languageId": "sage"
    }
   },
   "source": [
    "## PE 82"
   ]
  },
  {
   "cell_type": "markdown",
   "metadata": {},
   "source": [
    "The path_sum function uses dynamic programming. The values are check for each column, starting from the left. After the values have been determined by moving to the right, sweeping up and down is included through the double loop. Once we reach the last column we find the minimum value."
   ]
  },
  {
   "cell_type": "code",
   "execution_count": null,
   "metadata": {},
   "outputs": [
    {
     "data": {
      "text/plain": [
       "260324"
      ]
     },
     "execution_count": 63,
     "metadata": {},
     "output_type": "execute_result"
    }
   ],
   "source": [
    "# 82 Path sum: three ways\n",
    "def path_sum(matrix):\n",
    "    dp=[row[0] for row in matrix]\n",
    "    for j in range(1,n):\n",
    "        dp=[dp[i]+matrix[i][j] for i in range(n)]\n",
    "        for i in range(1,n):\n",
    "            dp[i]=min(dp[i],dp[i-1]+matrix[i][j])\n",
    "        for i in range(n-2,-1,-1):\n",
    "            dp[i]=min(dp[i],dp[i+1]+matrix[i][j])\n",
    "    return min(dp)\n",
    "\n",
    "import requests\n",
    "response = requests.get(\"https://projecteuler.net/resources/documents/0082_matrix.txt\")   # Send a GET request to the URL\n",
    "content = response.text     # Read the content of the response\n",
    "matrix=content.split('\\n')\n",
    "matrix=matrix[:-1]\n",
    "matrix=[list(map(int,row.split(','))) for row in matrix]\n",
    "n=len(matrix)\n",
    "path_sum(matrix)"
   ]
  },
  {
   "cell_type": "markdown",
   "metadata": {},
   "source": [
    "## PE 85"
   ]
  },
  {
   "cell_type": "code",
   "execution_count": null,
   "metadata": {},
   "outputs": [],
   "source": [
    "# 85 Counting Rectangles\n",
    "def count_rec(length,width):\n",
    "    lst=[]\n",
    "    for i in range(1,length+1):\n",
    "        for j in range(1,width+1):\n",
    "            lst.append((length-i+1)*(width-j+1))\n",
    "    return sum(lst)\n",
    "\n",
    "lst=[]\n",
    "for i in range(1,100):\n",
    "    for j in range(i,100):\n",
    "        lst.append(count_rec(i,j))\n",
    "        if 1998000<count_rec(i,j)<2000000:\n",
    "            print('Dimensions of grid: '+str(i)+', '+str(j))\n",
    "lst=list(set(lst))\n",
    "lst=list(filter(lambda x:1998000<x<2000000,lst))\n",
    "lst=lst[0]\n",
    "lst"
   ]
  },
  {
   "cell_type": "markdown",
   "metadata": {},
   "source": [
    "## PE 92"
   ]
  },
  {
   "cell_type": "code",
   "execution_count": null,
   "metadata": {},
   "outputs": [],
   "source": [
    "#92 Square Digit Chains\n",
    "def chain(n):\n",
    "    while n!=1 and n!=89:\n",
    "        num=list(map(int, str(n)))\n",
    "        squared=0\n",
    "        for digit in num:\n",
    "            squared+=digit**2\n",
    "        n=squared\n",
    "    return n\n",
    "num_89=0\n",
    "for i in range(1, 10000000):\n",
    "    if chain(i)==89:\n",
    "        num_89+=1\n",
    "    if i%50000==0:\n",
    "        print(i)\n",
    "num_89"
   ]
  },
  {
   "cell_type": "markdown",
   "metadata": {},
   "source": [
    "## PE 99"
   ]
  },
  {
   "cell_type": "markdown",
   "metadata": {},
   "source": [
    "In this question, I learned Ordinal theory (VS. Cardinal theory):\n",
    "\n",
    "- Ordinal data only introduces a ordering/ranking (e.g. A>B), but we don't know how large A or B is.\n",
    "- Cardinal further tell 'how many' of each thing, or showing quantity (e.g. 2>1)\n",
    "\n",
    "When comparing huge numbers, I don't need to know 'how many' they are, I just need to where they are (their ranking). So I can use log to shrink their coordinates: \n",
    "\n",
    "$$base^{exponent} =e^{exponent⋅log(base)}$$\n"
   ]
  },
  {
   "cell_type": "code",
   "execution_count": null,
   "metadata": {},
   "outputs": [],
   "source": [
    "# 99 Largest Exponential\n",
    "import sys\n",
    "import requests\n",
    "# sys.set_int_max_str_digits(4000000)\n",
    "response = requests.get(\"https://projecteuler.net/resources/documents/0099_base_exp.txt\")\n",
    "content = response.text     # Read the content of the response\n",
    "# Split the data into lines\n",
    "lines = content.strip().split(\"\\n\")\n",
    "\n",
    "column1 = []\n",
    "column2 = []\n",
    "\n",
    "for line in lines:\n",
    "    # Split the line by the comma and convert to integers\n",
    "    num1, num2 = map(int, line.split(\",\"))\n",
    "    # Append the numbers to the respective lists\n",
    "    column1.append(num1)\n",
    "    column2.append(num2)\n",
    "\n",
    "record=[1,1,0]\n",
    "\n",
    "for i in range(1000):\n",
    "    if np.log(record[0])*record[1]<np.log(column1[i])*column2[i]:\n",
    "        record[0]=column1[i]\n",
    "        record[1]=column2[i]\n",
    "        record[2]=i+1\n",
    "record[2]"
   ]
  },
  {
   "cell_type": "code",
   "execution_count": null,
   "metadata": {},
   "outputs": [],
   "source": [
    "(* 99 Largest Exponential\n",
    "   [[2]] denotes the 2nd item in {{1,2},{1,2}} *)\n",
    "data = Import[\"https://projecteuler.net/resources/documents/0099_base_exp.txt\", \"CSV\"];\n",
    "new = Map[#[[2]] * Log[#[[1]]] &, data];\n",
    "Position[new, Max[new]]"
   ]
  },
  {
   "cell_type": "code",
   "execution_count": null,
   "metadata": {},
   "outputs": [],
   "source": [
    "881418**505504>960290**502358"
   ]
  },
  {
   "cell_type": "markdown",
   "metadata": {},
   "source": [
    "## PE 104"
   ]
  },
  {
   "cell_type": "code",
   "execution_count": null,
   "metadata": {},
   "outputs": [],
   "source": [
    "# 104 Pandigital Fibonacci Ends\n",
    "# find quicker solution\n",
    "import sys\n",
    "sys.set_int_max_str_digits(1000000)\n",
    "def fib_pandigital_front(n):\n",
    "    fib=list(map(int,str(fastFib(n))))\n",
    "    fib=fib[:9]\n",
    "    fib.sort()\n",
    "    if fib==[1,2,3,4,5,6,7,8,9]:\n",
    "        return True\n",
    "    return False\n",
    "\n",
    "def fib_pandigital_back(n):\n",
    "    fib=list(map(int,str(fastFib(n))))\n",
    "    fib=fib[-9:]\n",
    "    fib.sort()\n",
    "    if fib==[1,2,3,4,5,6,7,8,9]:\n",
    "        return True\n",
    "    return False\n",
    "\n",
    "n=89000\n",
    "while True:\n",
    "    print(n)\n",
    "    if fib_pandigital_back(n) and fib_pandigital_front(n):\n",
    "        print(n)\n",
    "        KeyboardInterrupt()\n",
    "    n+=1"
   ]
  },
  {
   "cell_type": "markdown",
   "metadata": {},
   "source": [
    "## PE 112"
   ]
  },
  {
   "cell_type": "code",
   "execution_count": null,
   "metadata": {},
   "outputs": [],
   "source": [
    "#112 Bouncy Numbers\n",
    "from time import time\n",
    "start=time()\n",
    "def listint(num):\n",
    "    integer=''\n",
    "    for number in num:\n",
    "        integer=integer+str(number)\n",
    "    return int(integer)\n",
    "def bouncy(n):\n",
    "    input=list(map(int, str(n)))\n",
    "    output=input[:]\n",
    "    output.sort()\n",
    "    if input==output:\n",
    "        return False\n",
    "    output.reverse()\n",
    "    if input==output:\n",
    "        return False\n",
    "    return True\n",
    "def bouncy_percentage(n):\n",
    "    sum_bouncy=0\n",
    "    for i in range(1, n+1):\n",
    "        if bouncy(i)==True:\n",
    "            sum_bouncy+=1\n",
    "    ratio=sum_bouncy/n\n",
    "    return ratio*100\n",
    "print(bouncy_percentage(1587000))\n",
    "end=time()\n",
    "print(end-start)\n",
    "# ans - 1587000"
   ]
  },
  {
   "cell_type": "markdown",
   "metadata": {},
   "source": [
    "## PE 121"
   ]
  },
  {
   "cell_type": "code",
   "execution_count": null,
   "metadata": {},
   "outputs": [],
   "source": [
    "(* 121 Disc Game Prize Fund \n",
    "    Person will have to pull out blue >=8 times*)\n",
    "ncr[n_,r_]:=n!/(r!*(n-r)!) (*n choose r combinatorics function*)\n",
    "blueChance[blues_]:=\n",
    "lst=Table[blueChance[n]*ncr[15,n],{n,8,15}]\n",
    "n=Floor[1/(Total[lst]/2^15)]"
   ]
  },
  {
   "cell_type": "markdown",
   "metadata": {},
   "source": [
    "## PE 124"
   ]
  },
  {
   "cell_type": "code",
   "execution_count": null,
   "metadata": {},
   "outputs": [],
   "source": [
    "# 124 Ordered Radicals\n",
    "# find quicker solution\n",
    "def prime_factors(n):\n",
    "    factors=[]\n",
    "    for i in range(2,n):\n",
    "        if prime(i) and n%i==0:\n",
    "            factors.append(i)\n",
    "    return factors\n",
    "\n",
    "def rad(n):\n",
    "    if n==1 or prime(n):\n",
    "        return n\n",
    "    fac=prime_factors(n)\n",
    "    ans=fac[0]\n",
    "    for i in range(1,len(fac)):\n",
    "        ans*=fac[i]\n",
    "    return ans\n",
    "\n",
    "for i in range(2,3000):\n",
    "    rad(i)"
   ]
  },
  {
   "cell_type": "markdown",
   "metadata": {},
   "source": [
    "## PE 125"
   ]
  },
  {
   "cell_type": "code",
   "execution_count": null,
   "metadata": {},
   "outputs": [],
   "source": [
    "(* 125 Palindromic Sums *)\n",
    "(* add Boole[] to count number of times when <10^8 *)\n",
    "(* learnt functions:\n",
    "    Accumulate[]\n",
    "    AnyTrue[{},test] true if any input passes the test\n",
    "    MemberQ[{},___] true if any element in list is ___\n",
    "    Module[]??? *)\n",
    "isSumOfConsecutiveSquares[n_Integer] := \n",
    " Module[{maxK, sumsOfSquares},\n",
    "  maxK = Floor[Sqrt[n]];\n",
    "\n",
    "  (* Generate cumulative sums of consecutive squares starting from each k *)\n",
    "  sumsOfSquares = Table[\n",
    "    Accumulate[Table[(k + i)^2, {i, 0, maxK - k}]],\n",
    "    {k, 1, maxK}\n",
    "  ];\n",
    "\n",
    "  (* Check if any sum sequence contains n with more than one term *)\n",
    "  AnyTrue[sumsOfSquares, MemberQ[#, n] && Length[#] > 1 &]\n",
    "]\n",
    "\n",
    "isSumSquaresPalindromic[n_Integer]:=isSumOfConsecutiveSquares[n]&&PalindromeQ[n]\n",
    "lst=Table[isSumSquaresPalindromic[n],{n,2,9999}];\n",
    "Count[lst,True]"
   ]
  },
  {
   "cell_type": "markdown",
   "metadata": {},
   "source": [
    "## PE 162"
   ]
  },
  {
   "cell_type": "code",
   "execution_count": null,
   "metadata": {},
   "outputs": [],
   "source": [
    "(* 162 Hexadecimal Numbers *)\n",
    "lst=Table[(n-1)*Factorial[n-1]/Factorial[n-3]*(14^(n-3)),{n,3,16}];\n",
    "lst1=Table[(n-1)*Factorial[n-1]/Factorial[n-3]*(16^(n-3)),{n,3,16}];\n",
    "n=(Total[lst1]-Total[lst])/2;\n",
    "n=\n",
    "BaseForm[Total[lst]+n,16]"
   ]
  },
  {
   "cell_type": "markdown",
   "metadata": {},
   "source": [
    "## PE 179"
   ]
  },
  {
   "cell_type": "code",
   "execution_count": null,
   "metadata": {},
   "outputs": [],
   "source": [
    "# 179\n",
    "def len_factors(n):\n",
    "    return len(factors(n))\n",
    "num=1\n",
    "for i in range(3, 10000000):\n",
    "    if prime(i)==True or prime(i+1)==True:\n",
    "        pass\n",
    "    else:\n",
    "        if len_factors(i)==len_factors(i+1):\n",
    "            num+=1\n",
    "        if i%10000==0:\n",
    "            print(i)\n",
    "num"
   ]
  },
  {
   "cell_type": "markdown",
   "metadata": {},
   "source": [
    "## PE 187"
   ]
  },
  {
   "cell_type": "markdown",
   "metadata": {},
   "source": [
    "[A semiprime-counting formula](https://en.wikipedia.org/wiki/Semiprime): $\\pi_{2}(n)= $"
   ]
  },
  {
   "cell_type": "code",
   "execution_count": null,
   "metadata": {},
   "outputs": [],
   "source": [
    "#187 FP way\n",
    "# python way - use sympy library\n",
    "# increasing limit to 10^8 makes it too slow\n",
    "from sympy import factorint\n",
    "limit = 10^6\n",
    "count_two_prime_factors = sum(1 for n in range(3, limit ) if len(factorint(n)) == 2)\n",
    "count_two_prime_factors"
   ]
  },
  {
   "cell_type": "code",
   "execution_count": null,
   "metadata": {},
   "outputs": [],
   "source": [
    "#187 FP way\n",
    "# sage way\n",
    "limit = 10^6\n",
    "count_two_prime_factors = sum(1 for n in range(3, limit ) if str(factor(n)).count('*') == 1)\n",
    "count_two_prime_factors"
   ]
  },
  {
   "cell_type": "code",
   "execution_count": null,
   "metadata": {},
   "outputs": [],
   "source": [
    "(* 187 Semiprimes \n",
    "    Q: the code takes 11min, faster??? *)\n",
    "Total[Table[ \n",
    "            Boole[ Total[FactorInteger[n]][[2]] == 2 ]\n",
    "            , {n,3,99999999} ] \n",
    "    ]"
   ]
  },
  {
   "cell_type": "code",
   "execution_count": null,
   "metadata": {},
   "outputs": [],
   "source": [
    "(* speed up but wrong answer ?? - add {{_,2}} *)\n",
    "(* takes >11 min??? *)\n",
    "Count[ FactorInteger /@ Range[3, 10^8-1] \n",
    "      ,{{_, 1},{_, 1}} | {{_,2}}\n",
    "      ]"
   ]
  },
  {
   "cell_type": "code",
   "execution_count": null,
   "metadata": {},
   "outputs": [],
   "source": [
    "lst=Table[ \n",
    "    Boole[ Length[ FactorInteger[n] ]==2 ],\n",
    "    {n,3,30}]"
   ]
  },
  {
   "cell_type": "code",
   "execution_count": null,
   "metadata": {},
   "outputs": [],
   "source": [
    "lst={{2,5},{3,1}};\n",
    "Total[lst][[2]]"
   ]
  },
  {
   "cell_type": "markdown",
   "metadata": {},
   "source": [
    "## PE 188"
   ]
  },
  {
   "cell_type": "code",
   "execution_count": null,
   "metadata": {},
   "outputs": [],
   "source": [
    "7**7"
   ]
  },
  {
   "cell_type": "code",
   "execution_count": null,
   "metadata": {},
   "outputs": [],
   "source": [
    "n=7\n",
    "n=7**n % 1000000000\n",
    "print(n)"
   ]
  },
  {
   "cell_type": "code",
   "execution_count": null,
   "metadata": {},
   "outputs": [],
   "source": [
    "m=8123674\n",
    "n=1798\n",
    "math.floor(m/n)\n"
   ]
  },
  {
   "cell_type": "code",
   "execution_count": null,
   "metadata": {},
   "outputs": [],
   "source": [
    "n=1777;\n",
    "For[i=0,i<1856,i++,n=Mod[1777^n,10000000]]\n",
    "n"
   ]
  },
  {
   "cell_type": "code",
   "execution_count": null,
   "metadata": {},
   "outputs": [],
   "source": [
    "62097"
   ]
  },
  {
   "cell_type": "code",
   "execution_count": null,
   "metadata": {},
   "outputs": [],
   "source": [
    "Mod[1777^1777,100000000]"
   ]
  },
  {
   "cell_type": "code",
   "execution_count": null,
   "metadata": {},
   "outputs": [],
   "source": [
    "00001777,87955697,70132343,33172343,65172343,5172343"
   ]
  },
  {
   "cell_type": "code",
   "execution_count": null,
   "metadata": {},
   "outputs": [],
   "source": [
    "1777^2"
   ]
  },
  {
   "cell_type": "markdown",
   "metadata": {},
   "source": [
    "## PE 205"
   ]
  },
  {
   "cell_type": "code",
   "execution_count": null,
   "metadata": {},
   "outputs": [],
   "source": [
    "# 205 Dice Game\n",
    "def peter_prob():\n",
    "    prob=dict()\n",
    "    for i in range(9,37):\n",
    "        prob.update({i:0})\n",
    "    for i in range(1,5):\n",
    "        for j in range(1,5):\n",
    "            for k in range(1,5):\n",
    "                for l in range(1,5):\n",
    "                    for m in range(1,5):\n",
    "                        for n in range(1,5):\n",
    "                            for o in range(1,5):\n",
    "                                for p in range(1,5):\n",
    "                                    for q in range(1,5):\n",
    "                                        s=sum([i,j,k,l,m,n,o,p,q])\n",
    "                                        prob.update({s:prob[s]+1})\n",
    "    for i in range(9,37):\n",
    "        prob.update({i:prob[i]/4^9})\n",
    "    return prob\n",
    "def colin_prob():\n",
    "    prob=dict()\n",
    "    for i in range(6,37):\n",
    "        prob.update({i:0})\n",
    "    for i in range(1,7):\n",
    "        for j in range(1,7):\n",
    "            for k in range(1,7):\n",
    "                for l in range(1,7):\n",
    "                    for m in range(1,7):\n",
    "                        for n in range(1,7):\n",
    "                            s=sum([i,j,k,l,m,n])\n",
    "                            prob.update({s:prob[s]+1})\n",
    "    for i in range(6,37):\n",
    "        prob.update({i:prob[i]/6^6})\n",
    "    return prob\n",
    "\n",
    "peter=peter_prob()\n",
    "colin=colin_prob()\n",
    "prob=colin[6]+colin[7]+colin[8]\n",
    "peter_lst=[]\n",
    "colin_lst=[]\n",
    "for num in peter:\n",
    "    peter_lst.append(peter[num])\n",
    "for num in colin:\n",
    "    colin_lst.append(colin[num])\n",
    "colin_lst=colin_lst[3:]\n",
    "for i in range(1,len(peter_lst)):\n",
    "    prob+=peter_lst[i]*sum(colin_lst[:i])\n",
    "# print probability"
   ]
  },
  {
   "cell_type": "markdown",
   "metadata": {},
   "source": [
    "## PE 243"
   ]
  },
  {
   "cell_type": "markdown",
   "metadata": {
    "vscode": {
     "languageId": "sage"
    }
   },
   "source": [
    "The resilience of n is defined by the number of proper fractions when \n",
    "- the numerators are $1$ to $n-1$ and \n",
    "- the denominator is $n$ divided by the total amount of fractions. \n",
    "- A fraction is proper when the numerator and denominator are coprime. This means that it can be defined as the totient function of $n$ divided by $n-1$"
   ]
  },
  {
   "cell_type": "code",
   "execution_count": null,
   "metadata": {},
   "outputs": [],
   "source": [
    "def resilience(d):\n",
    "    return euler_phi(d)/(d-1)\n",
    "\n",
    "def solve(limit):\n",
    "    for d in range(2*3*5*7*11,limit,2*3*5*7*11):\n",
    "        if resilience(d) < 15499/94744:\n",
    "            return d\n",
    "    return False\n",
    "# solve(1000000000) uncomment to show answer"
   ]
  },
  {
   "cell_type": "markdown",
   "metadata": {},
   "source": [
    "## PE 345"
   ]
  },
  {
   "cell_type": "code",
   "execution_count": null,
   "metadata": {},
   "outputs": [],
   "source": [
    "(* 345 *)\n",
    "matrix = {\n",
    "  {7, 53, 183, 439, 863, 497, 383, 563, 79, 973, 287, 63, 343, 169, 583},\n",
    "  {627, 343, 773, 959, 943, 767, 473, 103, 699, 303, 957, 703, 583, 639, 913},\n",
    "  {447, 283, 463, 29, 23, 487, 463, 993, 119, 883, 327, 493, 423, 159, 743},\n",
    "  {217, 623, 3, 399, 853, 407, 103, 983, 89, 463, 290, 516, 212, 462, 350},\n",
    "  {960, 376, 682, 962, 300, 780, 486, 502, 912, 800, 250, 346, 172, 812, 350},\n",
    "  {870, 456, 192, 162, 593, 473, 915, 45, 989, 873, 823, 965, 425, 329, 803},\n",
    "  {973, 965, 905, 919, 133, 673, 665, 235, 509, 613, 673, 815, 165, 992, 326},\n",
    "  {322, 148, 972, 962, 286, 255, 941, 541, 265, 323, 925, 281, 601, 95, 973},\n",
    "  {445, 721, 11, 525, 473, 65, 511, 164, 138, 672, 18, 428, 154, 448, 848},\n",
    "  {414, 456, 310, 312, 798, 104, 566, 520, 302, 248, 694, 976, 430, 392, 198},\n",
    "  {184, 829, 373, 181, 631, 101, 969, 613, 840, 740, 778, 458, 284, 760, 390},\n",
    "  {821, 461, 843, 513, 17, 901, 711, 993, 293, 157, 274, 94, 192, 156, 574},\n",
    "  {34, 124, 4, 878, 450, 476, 712, 914, 838, 669, 875, 299, 823, 329, 699},\n",
    "  {815, 559, 813, 459, 522, 788, 168, 586, 966, 232, 308, 833, 251, 631, 107},\n",
    "  {813, 883, 451, 509, 615, 77, 281, 613, 459, 205, 380, 274, 302, 35, 805}\n",
    "};\n",
    "maxRowTotal = Max[Total /@ matrix]\n",
    "maxColumnTotal=Max[Total /@ Transpose[matrix]]"
   ]
  },
  {
   "cell_type": "markdown",
   "metadata": {
    "vscode": {
     "languageId": "sage"
    }
   },
   "source": [
    "## PE 700"
   ]
  },
  {
   "cell_type": "code",
   "execution_count": null,
   "metadata": {},
   "outputs": [
    {
     "data": {
      "text/plain": [
       "[1504170715041707,\n",
       " 8912517754604,\n",
       " 2044785486369,\n",
       " 1311409677241,\n",
       " 578033868113,\n",
       " 422691927098,\n",
       " 267349986083,\n",
       " 112008045068,\n",
       " 68674149121,\n",
       " 25340253174,\n",
       " 7346610401,\n",
       " 4046188430,\n",
       " 745766459,\n",
       " 428410324]"
      ]
     },
     "execution_count": 34,
     "metadata": {},
     "output_type": "execute_result"
    }
   ],
   "source": [
    "# 700 Eulercoin\n",
    "seq=[1504170715041707]\n",
    "for n in range(2,10000000):\n",
    "    l=(1504170715041707*n) % 4503599627370517\n",
    "    if l<seq[-1]:\n",
    "        seq.append(l)\n",
    "seq"
   ]
  }
 ],
 "metadata": {
  "kernelspec": {
   "display_name": "SageMath 10.6",
   "language": "sage",
   "name": "sagemath"
  },
  "language_info": {
   "codemirror_mode": {
    "name": "ipython",
    "version": 3
   },
   "file_extension": ".py",
   "mimetype": "text/x-python",
   "name": "sage",
   "nbconvert_exporter": "python",
   "pygments_lexer": "ipython3",
   "version": "3.12.10"
  }
 },
 "nbformat": 4,
 "nbformat_minor": 2
}
