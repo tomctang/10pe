{
 "cells": [
  {
   "cell_type": "markdown",
   "metadata": {},
   "source": [
    "# Project Euler Q1-100\n",
    "\n",
    "To solve PE problems so far, I include three approaches: \n",
    "- Python: OOP & FP \n",
    "- Sage \n",
    "- MMA (FP primarily)"
   ]
  },
  {
   "cell_type": "code",
   "execution_count": 73,
   "metadata": {
    "vscode": {
     "languageId": "sage"
    }
   },
   "outputs": [],
   "source": [
    "# After I solved many questions, I found some functions repeated, eg.Prime-Check, Fibonacci. \n",
    "%run PE_pre_running.py"
   ]
  },
  {
   "cell_type": "markdown",
   "metadata": {},
   "source": [
    "#### PE 1"
   ]
  },
  {
   "cell_type": "code",
   "execution_count": null,
   "metadata": {
    "vscode": {
     "languageId": "sage"
    }
   },
   "outputs": [],
   "source": [
    "#1 Multiples of 3 or 5\n",
    "sum_num=0\n",
    "list_num=[]\n",
    "for i in range(1, 999//3):\n",
    "    m=i*3\n",
    "    list_num.append(m)\n",
    "for i in range(1, 999//5):\n",
    "    m=i*5\n",
    "    if m not in list_num:\n",
    "        list_num.append(m)\n",
    "    else:\n",
    "        pass\n",
    "for num in list_num:\n",
    "    sum_num+=num\n",
    "sum_num"
   ]
  },
  {
   "cell_type": "markdown",
   "metadata": {},
   "source": [
    "#### PE 2"
   ]
  },
  {
   "cell_type": "code",
   "execution_count": null,
   "metadata": {
    "vscode": {
     "languageId": "sage"
    }
   },
   "outputs": [],
   "source": [
    "#2 Even Fibonacci Numbers\n",
    "num=0\n",
    "sum_num=0\n",
    "list_fib=[]\n",
    "for i in range(3000000):\n",
    "    num=fastFib(i)\n",
    "    list_fib.append(num)\n",
    "for num in list_fib:\n",
    "    if num//2==num/2:\n",
    "        sum_num+=num\n",
    "sum_num"
   ]
  },
  {
   "cell_type": "markdown",
   "metadata": {},
   "source": [
    "#### PE 3"
   ]
  },
  {
   "cell_type": "code",
   "execution_count": null,
   "metadata": {
    "vscode": {
     "languageId": "sage"
    }
   },
   "outputs": [],
   "source": [
    "factor(600851475143)"
   ]
  },
  {
   "cell_type": "markdown",
   "metadata": {},
   "source": [
    "#### PE 4"
   ]
  },
  {
   "cell_type": "code",
   "execution_count": null,
   "metadata": {
    "vscode": {
     "languageId": "sage"
    }
   },
   "outputs": [],
   "source": [
    "#4 Largest Palindrome Product\n",
    "m=999\n",
    "n=999\n",
    "list_palin=[]\n",
    "for i in range(900):\n",
    "    for i in range(900):\n",
    "        print(m*n)\n",
    "        n-=1\n",
    "        if palindrome(m*n):\n",
    "            print('Palindrome')\n",
    "            list_palin.append(m*n)\n",
    "    m-=1\n",
    "    n=999\n",
    "max(list_palin)"
   ]
  },
  {
   "cell_type": "markdown",
   "metadata": {},
   "source": [
    "#### PE 5"
   ]
  },
  {
   "cell_type": "code",
   "execution_count": null,
   "metadata": {
    "vscode": {
     "languageId": "sage"
    }
   },
   "outputs": [],
   "source": [
    "#5 Smallest Multiple\n",
    "2520*11*13*17*19*2"
   ]
  },
  {
   "cell_type": "markdown",
   "metadata": {},
   "source": [
    "#### PE 6"
   ]
  },
  {
   "cell_type": "code",
   "execution_count": null,
   "metadata": {
    "vscode": {
     "languageId": "sage"
    }
   },
   "outputs": [],
   "source": [
    "# 6 Sum Square Difference\n",
    "nums=[]\n",
    "sums=0\n",
    "n=1\n",
    "for i in range(100):\n",
    "    nums.append(n)\n",
    "    n+=1\n",
    "for num in nums:\n",
    "    sums+=num\n",
    "sums**2"
   ]
  },
  {
   "cell_type": "code",
   "execution_count": null,
   "metadata": {
    "vscode": {
     "languageId": "sage"
    }
   },
   "outputs": [],
   "source": [
    "# 6 Sum Square Difference\n",
    "nums=[]\n",
    "sums=0\n",
    "n=1\n",
    "for i in range(100):\n",
    "    nums.append(n)\n",
    "    n+=1\n",
    "for num in nums:\n",
    "    sums+=num**2\n",
    "sums\n",
    "\n",
    "#6 results\n",
    "25502500-338350"
   ]
  },
  {
   "cell_type": "markdown",
   "metadata": {},
   "source": [
    "#### PE 7"
   ]
  },
  {
   "cell_type": "code",
   "execution_count": null,
   "metadata": {
    "vscode": {
     "languageId": "sage"
    }
   },
   "outputs": [],
   "source": [
    "#7 10001st Prime\n",
    "fd_prime(1)"
   ]
  },
  {
   "cell_type": "markdown",
   "metadata": {},
   "source": [
    "#### PE 8"
   ]
  },
  {
   "cell_type": "code",
   "execution_count": null,
   "metadata": {
    "vscode": {
     "languageId": "sage"
    }
   },
   "outputs": [],
   "source": [
    "#8 Largest Multiple In a Series\n",
    "num=7316717653133062491922511967442657474235534919493496983520312774506326239578318016984801869478851843858615607891129494954595017379583319528532088055111254069874715852386305071569329096329522744304355766896648950445244523161731856403098711121722383113622298934233803081353362766142828064444866452387493035890729629049156044077239071381051585930796086670172427121883998797908792274921901699720888093776657273330010533678812202354218097512545405947522435258490771167055601360483958644670632441572215539753697817977846174064955149290862569321978468622482839722413756570560574902614079729686524145351004748216637048440319989000889524345065854122758866688116427171479924442928230863465674813919123162824586178664583591245665294765456828489128831426076900422421902267105562632111110937054421750694165896040807198403850962455444362981230987879927244284909188845801561660979191338754992005240636899125607176060588611646710940507754100225698315520005593572972571636269561882670428252483600823257530420752963450\n",
    "output=list(map(int, str(num)))\n",
    "nums=[0, 12]\n",
    "list_num=[]\n",
    "maxval=0\n",
    "val=1\n",
    "while nums[1]<=999:\n",
    "    num0=nums[0]\n",
    "    num1=nums[1]\n",
    "    n=num0\n",
    "    while n<=num1:\n",
    "        list_num.append(output[n])\n",
    "        n+=1\n",
    "    for i in range(13):\n",
    "        val*=list_num[i]\n",
    "    if val>maxval:\n",
    "        maxval=val\n",
    "    val=1\n",
    "    nums[0]+=1\n",
    "    nums[1]+=1\n",
    "    list_num=[]\n",
    "maxval"
   ]
  },
  {
   "cell_type": "markdown",
   "metadata": {},
   "source": [
    "#### PE 9"
   ]
  },
  {
   "cell_type": "code",
   "execution_count": null,
   "metadata": {
    "vscode": {
     "languageId": "sage"
    }
   },
   "outputs": [],
   "source": [
    "#9 Special Pythagorean Triplet\n",
    "def sumPythagoreanTriplets(limits): \n",
    "\ta, b, c, m = 0, 0, 0, 2\n",
    "\tnum=[]\n",
    "\tnums=[]\n",
    "\tfor i in range(1,1000):\n",
    "\t\tnum.append(i)\n",
    "\td=a+b+c\n",
    "\twhile d<limits : \n",
    "\t\tfor n in range(1, m):\n",
    "\t\t\ta=m*m-n*n \n",
    "\t\t\tb=2*m*n \n",
    "\t\t\tc=m*m+n*n\n",
    "\t\t\td=a+b+c\n",
    "\t\t\tif d>limits: \n",
    "\t\t\t\tbreak\n",
    "\t\t\tprint('Sum of triplet :', d)\n",
    "\t\t\tnums.append(d)\n",
    "\t\t\tif d==1000:\n",
    "\t\t\t\tprint('Special')\n",
    "\t\tm+=1\n",
    "\treturn nums\n",
    "sumPythagoreanTriplets(150)\n",
    "pythagoreanTriplets(750)"
   ]
  },
  {
   "cell_type": "markdown",
   "metadata": {},
   "source": [
    "#### PE 10"
   ]
  },
  {
   "cell_type": "code",
   "execution_count": null,
   "metadata": {
    "vscode": {
     "languageId": "sage"
    }
   },
   "outputs": [],
   "source": [
    "#10 Summation of Primes\n",
    "sum_prime=0\n",
    "for i in range(2,2000000):\n",
    "    if prime(i):\n",
    "        sum_prime+=i\n",
    "print(sum_prime)"
   ]
  },
  {
   "cell_type": "markdown",
   "metadata": {},
   "source": [
    "#### PE 11"
   ]
  },
  {
   "cell_type": "code",
   "execution_count": null,
   "metadata": {
    "vscode": {
     "languageId": "sage"
    }
   },
   "outputs": [],
   "source": [
    "#11 Largest Product in a Grid\n",
    "87*97*94*89"
   ]
  },
  {
   "cell_type": "markdown",
   "metadata": {},
   "source": [
    "#### PE 12"
   ]
  },
  {
   "cell_type": "code",
   "execution_count": null,
   "metadata": {
    "vscode": {
     "languageId": "sage"
    }
   },
   "outputs": [],
   "source": [
    "#12 Highly Divisible Triangular Number\n",
    "seq=triangular_seq(12375)\n",
    "facs=[]\n",
    "for triangular in seq:\n",
    "    facs.append(num_fac(triangular))\n",
    "    if facs[-1]>=500:\n",
    "        print(len(facs))\n",
    "        break\n",
    "max(facs)\n",
    "print(len(facs))\n",
    "max(seq)"
   ]
  },
  {
   "cell_type": "markdown",
   "metadata": {},
   "source": [
    "#### PE 13"
   ]
  },
  {
   "cell_type": "code",
   "execution_count": null,
   "metadata": {
    "vscode": {
     "languageId": "sage"
    }
   },
   "outputs": [],
   "source": [
    "#13 Large Sum\n",
    "import requests\n",
    "from bs4 import BeautifulSoup\n",
    "response = requests.get(\"https://projecteuler.net/problem=13\")  # Send a GET request to the URL\n",
    "soup = BeautifulSoup(response.content, \"html.parser\")   # Parse the HTML content\n",
    "numbers = soup.find(\"div\", class_=\"problem_content\").text.strip()  # Find the content of interest (in this case, the numbers)\n",
    "\n",
    "numbers_list = numbers.split('\\n')  # Split the numbers into a list, assuming each number is separated by a newline character\n",
    "numbers_list = [num for num in numbers_list if num] # Filter out any empty strings or irrelevant text\n",
    "numbers_list = numbers_list[1:101] # Ensure that we only take the first 100 numbers\n",
    "\n",
    "sum_num=0\n",
    "sets = [int(num) for num in numbers_list]  # Convert the numbers from strings to integers and store them in a list\n",
    "for num in sets:\n",
    "    sum_num+=num\n",
    "print(sum_num)"
   ]
  },
  {
   "cell_type": "markdown",
   "metadata": {},
   "source": [
    "#### PE 14"
   ]
  },
  {
   "cell_type": "code",
   "execution_count": null,
   "metadata": {
    "vscode": {
     "languageId": "sage"
    }
   },
   "outputs": [],
   "source": [
    "#14 Longest Collatz Sequence\n",
    "n=1\n",
    "max_len=1\n",
    "for i in range(1000000):\n",
    "    culen=collatz_length(n)\n",
    "    if culen==525:\n",
    "        print(n)\n",
    "    if culen>max_len:\n",
    "        max_len=culen\n",
    "    n+=1"
   ]
  },
  {
   "cell_type": "markdown",
   "metadata": {},
   "source": [
    "#### PE 15"
   ]
  },
  {
   "cell_type": "code",
   "execution_count": null,
   "metadata": {
    "vscode": {
     "languageId": "sage"
    }
   },
   "outputs": [],
   "source": [
    "#15 Lattice Paths\n",
    "n = 20\n",
    "result = paths(n)\n",
    "print(result)"
   ]
  },
  {
   "cell_type": "markdown",
   "metadata": {},
   "source": [
    "#### PE 16"
   ]
  },
  {
   "cell_type": "code",
   "execution_count": null,
   "metadata": {
    "vscode": {
     "languageId": "sage"
    }
   },
   "outputs": [],
   "source": [
    "#16 Power Digit Sum\n",
    "num=[10715086071862673209484250490600018105614048117055336074437503883703510511249361224931983788156958581275946729175531468251871452856923140435984577574698574803934567774824230985421074605062371141877954182153046474983581941267398767559165543946077062914571196477686542167660429831652624386837205668069376]\n",
    "output=list(map(int, str(num[0])))\n",
    "sum_num=0\n",
    "for number in output:\n",
    "    sum_num+=number\n",
    "sum_num"
   ]
  },
  {
   "cell_type": "markdown",
   "metadata": {},
   "source": [
    "#### PE 17"
   ]
  },
  {
   "cell_type": "code",
   "execution_count": null,
   "metadata": {
    "vscode": {
     "languageId": "sage"
    }
   },
   "outputs": [],
   "source": [
    "#17 Number Letter Counts\n",
    "solve(1000)"
   ]
  },
  {
   "cell_type": "markdown",
   "metadata": {},
   "source": [
    "#### PE 18"
   ]
  },
  {
   "cell_type": "code",
   "execution_count": null,
   "metadata": {
    "vscode": {
     "languageId": "sage"
    }
   },
   "outputs": [],
   "source": [
    "#18 Maximum Path Sum I\n",
    "l1=[75]\n",
    "l2=[95, 64]\n",
    "l3=[17, 47, 82]\n",
    "l4=[18, 35, 87, 10]\n",
    "l5=[20, 4, 82, 47, 65]\n",
    "l6=[19, 1, 23, 75, 3, 34]\n",
    "l7=[88, 2, 77, 73, 7, 63, 67]\n",
    "l8=[99, 65, 4, 28, 6, 16, 70, 92]\n",
    "l9=[41, 41, 26, 56, 83, 40, 80, 70, 33]\n",
    "l10=[41, 48, 72, 33, 47, 32, 37, 16, 94, 29]\n",
    "l11=[53, 71, 44, 65, 25, 43, 91, 52, 97, 51, 14]\n",
    "l12=[70, 11, 33, 28, 77, 73, 17, 78, 39, 68, 17, 57]\n",
    "l13=[91, 71, 52, 38, 17, 14, 91, 43, 58, 50, 27, 29, 48]\n",
    "l14=[63, 66, 4, 68, 89, 53, 67, 30, 73, 16, 69, 87, 40, 31]\n",
    "l15=[4, 62, 98, 27, 23, 9, 70, 98, 73, 93, 38, 53, 60, 4, 23]\n",
    "triangle=[l1, l2, l3, l4, l5, l6, l7, l8, l9, l10, l11, l12, l13, l14, l15]\n",
    "for i in range(len(triangle) - 2, -1, -1):\n",
    "    for j in range(len(triangle[i])):\n",
    "        triangle[i][j] += max(triangle[i + 1][j], triangle[i + 1][j + 1])\n",
    "max_total = triangle[0][0]\n",
    "print(max_total)"
   ]
  },
  {
   "cell_type": "markdown",
   "metadata": {},
   "source": [
    "#### PE 19"
   ]
  },
  {
   "cell_type": "code",
   "execution_count": null,
   "metadata": {
    "vscode": {
     "languageId": "sage"
    }
   },
   "outputs": [],
   "source": [
    "#19 Counting Sundays\n",
    "import datetime\n",
    "count=0\n",
    "for year in range(1901, 2001):\n",
    "    for month in range(1, 13):\n",
    "        if datetime.date(year, month, 1).weekday()==6:\n",
    "            count+=1\n",
    "print(count)"
   ]
  },
  {
   "cell_type": "markdown",
   "metadata": {},
   "source": [
    "#### PE 20"
   ]
  },
  {
   "cell_type": "code",
   "execution_count": null,
   "metadata": {
    "vscode": {
     "languageId": "sage"
    }
   },
   "outputs": [],
   "source": [
    "#20 Factorial Digit Sum\n",
    "num=fact(100)\n",
    "output=list(map(int, str(num)))\n",
    "sum_num=0\n",
    "for number in output:\n",
    "    sum_num+=number\n",
    "sum_num"
   ]
  },
  {
   "cell_type": "markdown",
   "metadata": {},
   "source": [
    "#### PE 21"
   ]
  },
  {
   "cell_type": "code",
   "execution_count": null,
   "metadata": {
    "vscode": {
     "languageId": "sage"
    }
   },
   "outputs": [],
   "source": [
    "# 21 Amicable Numbers\n",
    "def ami(n):\n",
    "    return sigma(n)-n\n",
    "def amicable(n):\n",
    "    return n==ami(ami(n))\n",
    "amic=[]\n",
    "for i in range(2,10000):\n",
    "    if amicable(i):\n",
    "        amic.append(i)\n",
    "sum(amic)"
   ]
  },
  {
   "cell_type": "markdown",
   "metadata": {},
   "source": [
    "#### PE 22"
   ]
  },
  {
   "cell_type": "code",
   "execution_count": null,
   "metadata": {
    "vscode": {
     "languageId": "sage"
    }
   },
   "outputs": [],
   "source": [
    "#22 Names Scores\n",
    "import requests\n",
    "response = requests.get(\"https://projecteuler.net/resources/documents/0022_names.txt\")   # Send a GET request to the URL\n",
    "content = response.text     # Read the content of the response\n",
    "names = [name.strip('\"') for name in content.split(',')]  # Split the content by comma and remove double quotes\n",
    "names.sort()\n",
    "\n",
    "value={'A':1, 'B':2, 'C':3, 'D':4, 'E':5, 'F':6, 'G':7, 'H':8, 'I':9, 'J':10, 'K':11, 'L':12, 'M':13, 'N':14, 'O':15, 'P':16, 'Q':17, 'R':18, 'S':19, 'T':20, 'U':21, 'V':22, 'W':23, 'X':24, 'Y':25, 'Z':26}\n",
    "tot_score=0\n",
    "place=1\n",
    "for name in names:\n",
    "    score=0\n",
    "    for letter in name:\n",
    "        score+=value[letter]\n",
    "    score*=place\n",
    "    tot_score+=score\n",
    "    place+=1\n",
    "tot_score"
   ]
  },
  {
   "cell_type": "markdown",
   "metadata": {},
   "source": [
    "#### PE 23"
   ]
  },
  {
   "cell_type": "code",
   "execution_count": null,
   "metadata": {
    "vscode": {
     "languageId": "sage"
    }
   },
   "outputs": [],
   "source": [
    "def factors(n):\n",
    "    facs = {1}\n",
    "    for i in range(2, int(n**0.5)+1):\n",
    "        if n%i==0:\n",
    "            facs.add(i)\n",
    "            facs.add(n // i)\n",
    "    return facs\n",
    "def abundant(n):\n",
    "    return sum(factors(n)) > n\n",
    "def sum_abundant(n, abundant_numbers):\n",
    "    for ab in abundant_numbers:\n",
    "        if (n - ab) in abundant_numbers:\n",
    "            return True\n",
    "    return False\n",
    "abundant_numbers = {i for i in range(12, 28124) if abundant(i)}\n",
    "non_abundant_sums = [i for i in range(1, 28124) if not sum_abundant(i, abundant_numbers)]\n",
    "result = sum(non_abundant_sums)\n",
    "print(result)\n"
   ]
  },
  {
   "cell_type": "code",
   "execution_count": null,
   "metadata": {
    "vscode": {
     "languageId": "sage"
    }
   },
   "outputs": [],
   "source": [
    "# 23 Non-Abundant Sums\n",
    "def factors(n):\n",
    "    facs=[1]\n",
    "    for i in range(2,int(n**0.5)+1):  # 非常耗时，缩小范围\n",
    "        if n%i==0:\n",
    "            facs.append(i)\n",
    "            facs.append(n//i)\n",
    "    return facs\n",
    "\n",
    "def abundant(n):\n",
    "    return sum(factors(n))>n\n",
    "\n",
    "def sum_abundant(n,abundant_numbers):\n",
    "    for ab in abundant_numbers:\n",
    "        if (n - ab) in abundant_numbers:\n",
    "            return True\n",
    "    return False\n",
    "abundant_numbers = {i for i in range(12, 28124) if abundant(i)}\n",
    "non_abundant_sums = [i for i in range(1, 28124) if not sum_abundant(i, abundant_numbers)]\n",
    "\n",
    "sum(non_abundant_sums) # Error: smaller by 258348"
   ]
  },
  {
   "cell_type": "markdown",
   "metadata": {},
   "source": [
    "#### PE 24"
   ]
  },
  {
   "cell_type": "code",
   "execution_count": null,
   "metadata": {
    "vscode": {
     "languageId": "sage"
    }
   },
   "outputs": [],
   "source": [
    "#24 Lexicographic Permutations\n",
    "import itertools\n",
    "permutations = list(itertools.permutations(range(10)))\n",
    "millionth_permutation = int(''.join(map(str, permutations[999999])))\n",
    "millionth_permutation"
   ]
  },
  {
   "cell_type": "markdown",
   "metadata": {},
   "source": [
    "#### PE 25"
   ]
  },
  {
   "cell_type": "code",
   "execution_count": 75,
   "metadata": {
    "vscode": {
     "languageId": "sage"
    }
   },
   "outputs": [
    {
     "data": {
      "text/plain": [
       "1000"
      ]
     },
     "execution_count": 75,
     "metadata": {},
     "output_type": "execute_result"
    }
   ],
   "source": [
    "#25 1000 Digit Fibonacci Number\n",
    "# fastFib(4781)\n",
    "len(str(1731403589222002957294429346518895723709506082039860786521776201969997425190002580820509546929820263058457975554718584767897610032505496877507394744099980978096953962557220579370143960032185044755214925165471985133186165562568372954212266775160479690961083330407371040988504455586839093910684051542272860673487922394300583546141201071181523567766482697651998576131907383462584505182933770187893410602855362990044627645611957937480375221691136281665191108770486046208365987457152897898978151032624598781944378501953255407873508942191356136619446735012761729556373994129675990036580541567079157500214451848590106380276929004769735246144938528628285344388350842365138183068393693524442382719001304601982880025898373942014814103022093332575900147730351419594078092359452500825422173232850278854098501036548721303293491571977471641513836658780413653798660841910284032061829208989654332339843602086914702633919395534251088908273898020000096184168171559429402858006596531459999394154832243826895270097988797))"
   ]
  },
  {
   "cell_type": "code",
   "execution_count": null,
   "metadata": {
    "vscode": {
     "languageId": "sage"
    }
   },
   "outputs": [],
   "source": [
    "m=matrix(2,2,[1,1,1,0])\n",
    "v=vector([1,0])\n",
    "s,l=m.eigenmatrix_right()\n",
    "result = ((s * (l^n) * s.inverse()) * v)[1].simplify()\n",
    "result"
   ]
  },
  {
   "cell_type": "code",
   "execution_count": null,
   "metadata": {
    "vscode": {
     "languageId": "sage"
    }
   },
   "outputs": [
    {
     "data": {
      "text/plain": [
       "1.618033988749895?"
      ]
     },
     "execution_count": 40,
     "metadata": {},
     "output_type": "execute_result"
    }
   ],
   "source": [
    "def matrixFib(n):\n",
    "    if n==1 or n==2:\n",
    "        return 1\n",
    "    m=matrix([[1,1],[1,0]])\n",
    "    v=vector([1,1])\n",
    "    for _ in range(n-2):\n",
    "        v=m*v\n",
    "    return v[0]\n",
    "def eigenFib(n):\n",
    "    m=matrix([[1,1],[1,0]])\n",
    "    v=vector([1,0])\n",
    "    s,l=m.eigenmatrix_right()\n",
    "    return ((s*(l^n)*s.inverse())*v)[1]\n",
    "eigenFib(3)\n",
    "num=matrixFib(10^4)"
   ]
  },
  {
   "cell_type": "markdown",
   "metadata": {},
   "source": [
    "#### PE 26"
   ]
  },
  {
   "cell_type": "code",
   "execution_count": null,
   "metadata": {
    "vscode": {
     "languageId": "sage"
    }
   },
   "outputs": [],
   "source": [
    "(* 26 *)\n",
    "(* learn 4 functions: \n",
    "    Association[]\n",
    "    Module[]\n",
    "    KeyExistsQ[]\n",
    "    Mod[] *)\n",
    "cycleLength[d_] := Module[{rems = Association[], num = 1, pos = 1},\n",
    "  While[! KeyExistsQ[rems, num] && num != 0,\n",
    "    rems[num] = pos;\n",
    "    num = Mod[10 num, d];\n",
    "    pos++   ];\n",
    "  If[num == 0, 0, pos - rems[num]]];\n",
    "\n",
    "SortBy[Range[888, 999], cycleLength]\n",
    "cycleLength[983]"
   ]
  },
  {
   "cell_type": "markdown",
   "metadata": {},
   "source": [
    "#### PE 27"
   ]
  },
  {
   "cell_type": "code",
   "execution_count": null,
   "metadata": {
    "vscode": {
     "languageId": "sage"
    }
   },
   "outputs": [],
   "source": [
    "#27 Quadratic Primes\n",
    "def sieveEratosthenes(num):\n",
    "    isPrime = [True] * (num + 1)\n",
    "    isPrime[0] = False\n",
    "    isPrime[1] = False\n",
    "    primes = []\n",
    "    for i in range(2, (num + 1)):\n",
    "        if isPrime[i]:\n",
    "            primes.append(i)\n",
    "            for j in range(2 * i, (num + 1), i):\n",
    "                isPrime[j] = False\n",
    "    return primes\n",
    "    \n",
    "def isPrime(num):\n",
    "    if num <= 1:\n",
    "        return False\n",
    "    elif num == 2 or num == 3:\n",
    "        return True\n",
    "    if num % 2 == 0 or num % 3 == 0:\n",
    "        return False\n",
    "    if not(num % 6 == 1) and not(num % 6 == 5):\n",
    "        return False\n",
    "    i = 5\n",
    "    while i * i <= num:\n",
    "        if num % i == 0 or num % (i + 2) == 0:\n",
    "            return False\n",
    "        i += 6\n",
    "    \n",
    "    return True\n",
    "\n",
    "def equation(n, a, b):\n",
    "    return n ** 2 + a * n + b\n",
    "\n",
    "b = sieveEratosthenes(1000)\n",
    "del b[0]\n",
    "\n",
    "maxA = 0\n",
    "maxB = 0\n",
    "maxCount = 0\n",
    "\n",
    "for y in b:\n",
    "    for x in range(-y, 1000, 2):\n",
    "        c = 0\n",
    "        while isPrime(equation(c, x, y)):\n",
    "            c += 1\n",
    "        if maxCount < c:\n",
    "            maxA = x\n",
    "            maxB = y\n",
    "            maxCount = c\n",
    "            \n",
    "print(maxA * maxB)"
   ]
  },
  {
   "cell_type": "markdown",
   "metadata": {},
   "source": [
    "#### PE 28"
   ]
  },
  {
   "cell_type": "code",
   "execution_count": null,
   "metadata": {
    "vscode": {
     "languageId": "sage"
    }
   },
   "outputs": [],
   "source": [
    "#28 Number Spiral Diagonals\n",
    "s=1\n",
    "n=1\n",
    "# diagonal numbers included in n\n",
    "# 1001-1+2=1002\n",
    "for i in range(2,1002,2):\n",
    "    for j in range(4):\n",
    "        n+=i\n",
    "        s+=n\n",
    "s"
   ]
  },
  {
   "cell_type": "markdown",
   "metadata": {},
   "source": [
    "#### PE 29"
   ]
  },
  {
   "cell_type": "code",
   "execution_count": null,
   "metadata": {
    "vscode": {
     "languageId": "sage"
    }
   },
   "outputs": [],
   "source": [
    "#29 Distinct Powers\n",
    "list_num=[]\n",
    "for i in range(99):\n",
    "    n=i+2\n",
    "    for j in range(99):\n",
    "        m=j+2\n",
    "        num=n**m\n",
    "        if num not in list_num:\n",
    "            list_num.append(num)\n",
    "list_num.sort()\n",
    "len(list_num)"
   ]
  },
  {
   "cell_type": "markdown",
   "metadata": {},
   "source": [
    "#### PE 30"
   ]
  },
  {
   "cell_type": "code",
   "execution_count": null,
   "metadata": {
    "vscode": {
     "languageId": "sage"
    }
   },
   "outputs": [],
   "source": [
    "#30 Digit Fifth Powers\n",
    "def fifth(num):\n",
    "    n=[num]\n",
    "    output=list(map(int, str(n[0])))\n",
    "    for number in output:\n",
    "        power=number**5\n",
    "        num-=power\n",
    "    if num==0:\n",
    "        return True\n",
    "    else:\n",
    "        return False\n",
    "list_num=[]\n",
    "sum_num=0\n",
    "for i in range(1000000):\n",
    "    n=i+2\n",
    "    if fifth(n):\n",
    "        list_num.append(n)\n",
    "for num in list_num:\n",
    "    sum_num+=num\n",
    "sum_num"
   ]
  },
  {
   "cell_type": "code",
   "execution_count": null,
   "metadata": {
    "vscode": {
     "languageId": "sage"
    }
   },
   "outputs": [],
   "source": [
    "#30 FP way\n",
    "def fifth1(num):\n",
    "    return num == sum(int(digit) ** 5 for digit in str(num))\n",
    "\n",
    "sum_num1 = sum(n for n in range(2, 1000000) if fifth1(n))\n",
    "sum_num1"
   ]
  },
  {
   "cell_type": "markdown",
   "metadata": {},
   "source": [
    "#### PE 31"
   ]
  },
  {
   "cell_type": "code",
   "execution_count": 38,
   "metadata": {
    "vscode": {
     "languageId": "sage"
    }
   },
   "outputs": [
    {
     "data": {
      "text/plain": [
       "73682"
      ]
     },
     "execution_count": 38,
     "metadata": {},
     "output_type": "execute_result"
    }
   ],
   "source": [
    "# 31 Coin Sums: use graph traversal (DFS) with memoization\n",
    "from functools import lru_cache\n",
    "valid_coins = [1, 2, 5, 10, 20, 50, 100, 200] \n",
    "@lru_cache(None)  # memoizes the function to avoid redundant calculations\n",
    "def graph_search_ways(n, max_coin):\n",
    "    if n == 0:\n",
    "        return 1\n",
    "    return sum(\n",
    "        graph_search_ways(n - coin, coin) # Recursive but not loop\n",
    "        if coin <= max_coin and coin <= n else 0\n",
    "        for coin in valid_coins\n",
    "    )\n",
    "\n",
    "graph_search_ways(200,200)"
   ]
  },
  {
   "cell_type": "code",
   "execution_count": null,
   "metadata": {
    "vscode": {
     "languageId": "sage"
    }
   },
   "outputs": [],
   "source": [
    "(* 31 Coin Sums: use graph traversal (DFS) with memoization*)\n",
    "(* learn functions:\n",
    "    ClearAll[] \n",
    "    Memoization(:= ... =): store results to avoid recalculating for the same pair\n",
    "    Table[]: loop over each coin in validCoins *)\n",
    "ClearAll[graphSearchWays];\n",
    "validCoins = {1, 2, 5, 10, 20, 50, 100, 200};\n",
    "graphSearchWays[n_, maxCoin_] := graphSearchWays[n, maxCoin] =\n",
    "  If[n == 0, \n",
    "          1, \n",
    "   Total[Table[If[coin <= maxCoin && coin <= n \n",
    "                  , graphSearchWays[n - coin, coin]\n",
    "                  , 0], {coin, validCoins}] ]];\n",
    "\n",
    "graphSearchWays[200, 200] (*calculate n of total pairs*)\n",
    "TreeForm[ (*see logic structure*)\n",
    "  If[n == 0, 1, \n",
    "  Total[Table[If[coin <= maxCoin && coin <= n, \n",
    "              graphSearchWays[n - coin, coin], \n",
    "              0], {coin, validCoins}]]]]"
   ]
  },
  {
   "cell_type": "markdown",
   "metadata": {},
   "source": [
    "#### PE 32\n",
    "\n",
    "Math easy, coding hard. \n",
    "1. memoization use (:= ... )\n",
    "2. gen number from digits using string, all possible combinations of digits where each digit be used only once\n",
    "3. I tried numerically way, but computing time doubled\n",
    "4. IntegerString[], Characters[]\n",
    "5. Flatten[], flatten nested lists\n",
    "6. Apply[] -> @@"
   ]
  },
  {
   "cell_type": "code",
   "execution_count": null,
   "metadata": {
    "vscode": {
     "languageId": "sage"
    }
   },
   "outputs": [],
   "source": [
    "#32 Pandigital Products\n",
    "def checkPandigital(b, n):\n",
    "\tif (len(n) < b):\n",
    "\t\treturn 0\n",
    "\thash = [0] * b\n",
    "\tfor i in range(len(n)):\n",
    "\t\tif (n[i] >= '0' and n[i] <= '9'):\n",
    "\t\t\thash[ord(n[i]) - ord('0')] = 1\n",
    "\t\telse:\n",
    "\t\t\tif (ord(n[i]) - ord('A') <= b - 11):\n",
    "\t\t\t    hash[ord(n[i]) - ord('A') + 10] = 1\n",
    "\tfor i in range(b):\n",
    "\t\tif (hash[i] == 0):\n",
    "\t\t\treturn 0\n",
    "\treturn 1\n",
    "#cal\n",
    "b = 13\n",
    "n = \"1298450376ABC\"\n",
    "if (checkPandigital(b, n)):\n",
    "\tprint(\"Yes\")\n",
    "else:\n",
    "\tprint(\"No\")"
   ]
  },
  {
   "cell_type": "code",
   "execution_count": null,
   "metadata": {
    "vscode": {
     "languageId": "sage"
    }
   },
   "outputs": [],
   "source": [
    "(* 32 Pandigital Products *)\n",
    "(* Check if the concatenation of x, y, product forms a 1-9 pandigital number stringly*)\n",
    "pandigitalQ[x_, y_, xy_] := \n",
    "  StringLength[ str=IntegerString[x] <> IntegerString[y] <> IntegerString[xy] ] == 9 && \n",
    "  Sort[Characters[str]] == Characters[\"123456789\"] ; \n",
    "\n",
    "(* List all valid xy then sum *)\n",
    "pandigitalProducts = DeleteDuplicates[\n",
    "    Select[ Flatten[ Table[{x, y, x*y}, {x, 1, 99}, {y, 1, 9999}], 1 ]\n",
    "          , pandigitalQ @@ # & ]\n",
    "          [[All, 3]] ]\n",
    "\n",
    "Total[pandigitalProducts]"
   ]
  },
  {
   "cell_type": "markdown",
   "metadata": {},
   "source": [
    "#### PE 33\n",
    "\n",
    "Methods & Process\n",
    "\n",
    "- check for 2 digit numerators and denominators\n",
    "    49/98=4/8, 3 left to go\n",
    "- must have at least one common digit between numerator and denominator"
   ]
  },
  {
   "cell_type": "code",
   "execution_count": null,
   "metadata": {
    "vscode": {
     "languageId": "sage"
    }
   },
   "outputs": [],
   "source": [
    "# 33 Digit Cancelling Fractions\n",
    "for i in range(10,100):\n",
    "    for j in range(i+1,100):\n",
    "        if i%10!=0 or j%10!=0:\n",
    "            numerator=list(map(int,str(i)))\n",
    "            denominator=list(map(int,str(j)))\n",
    "            fraction=i/j\n",
    "            try:\n",
    "                if numerator[0]==denominator[0] and numerator[1]!=denominator[1] and fraction==numerator[1]/denominator[1]:\n",
    "                    print(i,j)\n",
    "                elif numerator[1]==denominator[1] and numerator[0]!=denominator[0] and fraction==numerator[0]/denominator[0]:\n",
    "                    print(i,j)\n",
    "                elif numerator[0]==denominator[1] and numerator[1]!=denominator[0] and fraction==numerator[1]/denominator[0]:\n",
    "                    print(i,j)\n",
    "                elif numerator[1]==denominator[0] and numerator[0]!=denominator[1] and fraction==numerator[0]/denominator[1]:\n",
    "                    print(i,j)\n",
    "            except:\n",
    "                pass"
   ]
  },
  {
   "cell_type": "markdown",
   "metadata": {},
   "source": [
    "#### PE 34"
   ]
  },
  {
   "cell_type": "code",
   "execution_count": null,
   "metadata": {
    "vscode": {
     "languageId": "sage"
    }
   },
   "outputs": [],
   "source": [
    "#34 Digit Factorials\n",
    "def spefact(num):\n",
    "    n=[num]\n",
    "    output=list(map(int, str(n[0])))\n",
    "    for number in output:\n",
    "        fac=factorial(number)\n",
    "        num-=fac\n",
    "    if num==0:\n",
    "        return True\n",
    "    else:\n",
    "        return False\n",
    "list_num=[]\n",
    "sum_num=0\n",
    "for i in range(1850000):\n",
    "    n=i+1\n",
    "    if spefact(n):\n",
    "        list_num.append(n)\n",
    "        print(i)\n",
    "for num in list_num:\n",
    "    sum_num+=num\n",
    "sum_num-=3\n",
    "sum_num"
   ]
  },
  {
   "cell_type": "code",
   "execution_count": null,
   "metadata": {
    "vscode": {
     "languageId": "sage"
    }
   },
   "outputs": [],
   "source": [
    "#34 FP way\n",
    "from math import factorial\n",
    "\n",
    "factorials = {str(d): factorial(d) for d in range(10)} # Precompute factorials for digits 0-9\n",
    "def is_digit_factorial(num):\n",
    "    return num == sum(factorials[digit] for digit in str(num))\n",
    "\n",
    "sum_num = sum(n for n in range(10, 1850000) if is_digit_factorial(n))\n",
    "sum_num"
   ]
  },
  {
   "cell_type": "markdown",
   "metadata": {},
   "source": [
    "#### PE 35"
   ]
  },
  {
   "cell_type": "code",
   "execution_count": null,
   "metadata": {
    "vscode": {
     "languageId": "sage"
    }
   },
   "outputs": [],
   "source": [
    "#35 Circular Sums\n",
    "def list_to_int(lst):\n",
    "    n=''\n",
    "    for item in lst:\n",
    "        n=n+str(item)\n",
    "    return int(n)\n",
    "\n",
    "def circular_prime1(n):\n",
    "    if prime(n)==False:\n",
    "        return False\n",
    "    else:\n",
    "        list_prime=[]\n",
    "        while len(list_prime)<length(n):\n",
    "            output = list(map(int, str(n)))\n",
    "            list_prime.append(n)\n",
    "            if prime(n)==False:\n",
    "                return False\n",
    "            else:\n",
    "                first=output[0]\n",
    "                output.remove(first)\n",
    "                output.append(first)\n",
    "                n=list_to_int(output)\n",
    "        for prime1 in list_prime:\n",
    "            if prime(prime1)==False:\n",
    "                return False\n",
    "        return True\n",
    "\n",
    "#cal\n",
    "list_circ=[]\n",
    "for i in range(999998):\n",
    "    if i%100==0:\n",
    "        print(i)\n",
    "    n=i+2\n",
    "    if circular_prime1(n)==True:\n",
    "        list_circ.append(n)\n",
    "list_circ"
   ]
  },
  {
   "cell_type": "code",
   "execution_count": null,
   "metadata": {
    "vscode": {
     "languageId": "sage"
    }
   },
   "outputs": [],
   "source": [
    "#35 FP\n",
    "from sympy import isprime  # how can we use Jonny-defined function here? \n",
    "\n",
    "def rotations(num):  # Function to get all rotations of a number\n",
    "    s = str(num)\n",
    "    return [int(s[i:] + s[:i]) for i in range(len(s))]\n",
    "\n",
    "def is_circular_prime(num):\n",
    "    return all(isprime(rot) for rot in rotations(num))\n",
    "\n",
    "circular_primes = [n for n in range(2, 999999) if is_circular_prime(n)]\n",
    "circular_primes "
   ]
  },
  {
   "cell_type": "code",
   "execution_count": null,
   "metadata": {
    "vscode": {
     "languageId": "sage"
    }
   },
   "outputs": [],
   "source": [
    "(*35 Circular Sums*) \n",
    "rotations[n_Integer] := Module[{digits = IntegerDigits[n]},\n",
    "  FromDigits /@ NestList[RotateLeft, digits, Length[digits] - 1]]\n",
    "\n",
    "isCircularPrime[n_Integer] := AllTrue[rotations[n], PrimeQ] (*if all rotations of a number are prime*)\n",
    "circularPrimes = Select[Range[2, 999999], isCircularPrime]"
   ]
  },
  {
   "cell_type": "markdown",
   "metadata": {},
   "source": [
    "#### PE 36"
   ]
  },
  {
   "cell_type": "code",
   "execution_count": null,
   "metadata": {
    "vscode": {
     "languageId": "sage"
    }
   },
   "outputs": [],
   "source": [
    "#36 Double Base Palindromes\n",
    "def binary(num):\n",
    "    return int(bin(num)[2:])\n",
    "list_num=[]\n",
    "for i in range(1000000):\n",
    "    if palin(i) and palin(binary(i)):\n",
    "        list_num.append(i)\n",
    "sum_num=0\n",
    "for number in list_num:\n",
    "    sum_num+=number\n",
    "sum_num"
   ]
  },
  {
   "cell_type": "markdown",
   "metadata": {},
   "source": [
    "#### PE 37"
   ]
  },
  {
   "cell_type": "code",
   "execution_count": null,
   "metadata": {
    "vscode": {
     "languageId": "sage"
    }
   },
   "outputs": [],
   "source": [
    "#37 Truncatable Primes\n",
    "def truncatable(num):\n",
    "    input=list(map(int, str(num)))\n",
    "    inp=list_to_int(input)\n",
    "    if prime(num)==True:\n",
    "        while length(num)>1:\n",
    "            if prime(num)==True and num!=1:\n",
    "                output=list(map(int, str(num)))\n",
    "                output.remove(output[0])\n",
    "                num=list_to_int(output)\n",
    "            else:\n",
    "                return False\n",
    "        while length(inp)>1:\n",
    "            if is_prime(inp)==True and num!=1:\n",
    "                output=list(map(int, str(inp)))\n",
    "                output.remove(output[-1])\n",
    "                inp=list_to_int(output)\n",
    "            else:\n",
    "                return False\n",
    "        return True\n",
    "    else:\n",
    "        return False\n",
    "#cal\n",
    "list_trun=[]\n",
    "n=10\n",
    "while len(list_trun)<=10:\n",
    "    if truncatable(n)==True:\n",
    "        list_trun.append(n)\n",
    "    n+=1\n",
    "list_trun"
   ]
  },
  {
   "cell_type": "markdown",
   "metadata": {},
   "source": [
    "#### PE 38\n",
    "> Methods & Process\n",
    "\n",
    "- Already presented (1,2,3) and (1,2,3,4,5)->918273645, (1,2,3,4,5,6,7,8,9)->123456789, calculated 3 options and n>1\n",
    "    left 2 options: (1,2,3,4,5,6,7) (1,2,3,4,5,6,7,8) \n",
    "- When multiplied by 1 and 2, the numbers will be 4-digit and 5-digit,\n",
    "- when multiplied by 1, 2, 3 and 4, the numbers will be 2-digit for the first 3 and 3-digit for the last number,\n",
    "- when multiplied by 1, 2, 3, 4, 5 and 6, the number will be 1-digit for the first 3 and 2-digit for the last 3 numbers.\n",
    "- (1,2,3,4,5,6,7) and (1,2,3,4,5,6,7,8) not possible because too many numbers to multiply by.\n",
    "9352*2=18704, 935218704 contains 0 is not answer\n",
    "\n",
    "> Conclusion\n",
    "- The biggest number in the lists is 9352, 9352*2=18704, but 935218704 is not 1 to 9 pandigital\n",
    "- The next biggest number in the lists is 9327, 9327*2=18654, 932618654 is 1 to 9 pandigital.\n",
    "Thus the answer should be 932618654."
   ]
  },
  {
   "cell_type": "code",
   "execution_count": null,
   "metadata": {
    "vscode": {
     "languageId": "sage"
    }
   },
   "outputs": [],
   "source": [
    "(* 38 Pandigital Multiples *)\n",
    "\n",
    "lst=Select[Range[5000, 9999], \n",
    "  Function[n, \n",
    "    Length[Union[IntegerDigits[n], IntegerDigits[2 n]]] == 9 && \n",
    "    1000 <= 2 n < 100000\n",
    "  ]\n",
    "];\n",
    "lst[[-2;;]] (*cannot contain 5 in number unless number afterwards is 6 or bigger*)"
   ]
  },
  {
   "cell_type": "markdown",
   "metadata": {},
   "source": [
    "#### PE 39"
   ]
  },
  {
   "cell_type": "code",
   "execution_count": null,
   "metadata": {
    "vscode": {
     "languageId": "sage"
    }
   },
   "outputs": [],
   "source": [
    "def pythagoreanTriplets3(limits) : \n",
    "\ta, b, c, m = 0, 0, 0, 2\n",
    "\ttriplet_sums=[]\n",
    "\twhile a+b+c < limits : \n",
    "\t\tfor n in range(1, m) : \n",
    "\t\t\ta = m * m - n * n \n",
    "\t\t\tb = 2 * m * n \n",
    "\t\t\tc = m * m + n * n\n",
    "\t\t\tif a+b+c > limits : \n",
    "\t\t\t\tbreak\n",
    "\t\t\ttriplet_sums.append(a+b+c)\n",
    "\t\t\t# print(a, b, c)\n",
    "\t\tm = m + 1\n",
    "\tprint(triplet_sums)\n",
    "def pythagoreanTriplets2(limits):\n",
    "\ta, b, c, m = 0, 0, 0, 2\n",
    "\ttriplet_sums=[]\n",
    "\twhile a+b+c < limits:\n",
    "\t\ta=2*m\n",
    "\t\tb=m**2-1 \n",
    "\t\tc=m**2+1 \n",
    "\t\tif a+b+c > limits: \n",
    "\t\t\tbreak\n",
    "\t\ttriplet_sums.append(a+b+c)\n",
    "\t\t# print(a,b,c)\n",
    "\t\tm+=1\n",
    "\tprint(triplet_sums)"
   ]
  },
  {
   "cell_type": "code",
   "execution_count": null,
   "metadata": {
    "vscode": {
     "languageId": "sage"
    }
   },
   "outputs": [],
   "source": [
    "#39 Integer Right Triangles\n",
    "# Ans:LCM(70,120)=840\n",
    "pythagoreanTriplets2(1000)\n",
    "pythagoreanTriplets3(1000)"
   ]
  },
  {
   "cell_type": "markdown",
   "metadata": {},
   "source": [
    "#### PE 40"
   ]
  },
  {
   "cell_type": "code",
   "execution_count": null,
   "metadata": {
    "vscode": {
     "languageId": "sage"
    }
   },
   "outputs": [],
   "source": [
    "# 40 Champernonwne's Constant\n",
    "constant=[]\n",
    "n=1\n",
    "while len(constant)<1000000:\n",
    "    d=list(map(int,str(n)))\n",
    "    for num in d:\n",
    "        constant.append(num)\n",
    "    n+=1\n",
    "ans=constant[0]*constant[9]*constant[99]*constant[999]*constant[9999]*constant[99999]*constant[999999]\n",
    "ans"
   ]
  },
  {
   "cell_type": "markdown",
   "metadata": {},
   "source": [
    "#### PE 41"
   ]
  },
  {
   "cell_type": "code",
   "execution_count": null,
   "metadata": {
    "vscode": {
     "languageId": "sage"
    }
   },
   "outputs": [],
   "source": [
    "#41 Pandigital Primes\n",
    "import itertools\n",
    "\n",
    "def isPrime(num):\n",
    "    if num <= 1:\n",
    "        return False\n",
    "    elif num == 2 or num == 3:\n",
    "        return True\n",
    "    if num % 2 == 0 or num % 3 == 0:\n",
    "        return False\n",
    "    if not(num % 6 == 1) and not(num % 6 == 5):\n",
    "        return False\n",
    "    i = 5\n",
    "    while i * i <= num:\n",
    "        if num % i == 0 or num % (i + 2) == 0:\n",
    "            return False\n",
    "        i += 6\n",
    "    return True\n",
    "\n",
    "p = list(map(\"\".join, itertools.permutations('1234567')))\n",
    "\n",
    "max = 0\n",
    "for n in p:\n",
    "    if prime(int(n)) and max < int(n):\n",
    "        max = int(n)\n",
    "\n",
    "print(max)"
   ]
  },
  {
   "cell_type": "markdown",
   "metadata": {},
   "source": [
    "#### PE 42"
   ]
  },
  {
   "cell_type": "code",
   "execution_count": null,
   "metadata": {
    "vscode": {
     "languageId": "sage"
    }
   },
   "outputs": [],
   "source": [
    "#42 Coded Triangle Numbers\n",
    "import requests\n",
    "response = requests.get(\"https://projecteuler.net/resources/documents/0042_words.txt\")   # Send a GET request to the URL\n",
    "content = response.text     # Read the content of the response\n",
    "words = [name.strip('\"') for name in content.split(',')]  # Split the content by comma and remove double quotes\n",
    "\n",
    "def triangle(word):\n",
    "    value=0\n",
    "    values={'A':1, 'B':2, 'C':3, 'D':4, 'E':5, 'F':6, 'G':7, 'H':8, 'I':9, 'J':10, 'K':11, 'L':12, 'M':13, 'N':14, 'O':15, 'P':16, 'Q':17, 'R':18, 'S':19, 'T':20, 'U':21, 'V':22, 'W':23, 'X':24, 'Y':25, 'Z':26}\n",
    "    for letter in word:\n",
    "        value+=values[letter]\n",
    "    seq=triangular_seq(40)\n",
    "    if value in seq:\n",
    "        return True\n",
    "    else:\n",
    "        return False\n",
    "tri_words=0\n",
    "for word in words:\n",
    "    if triangle(word):\n",
    "        tri_words+=1\n",
    "tri_words"
   ]
  },
  {
   "cell_type": "markdown",
   "metadata": {},
   "source": [
    "#### PE 43"
   ]
  },
  {
   "cell_type": "code",
   "execution_count": null,
   "metadata": {
    "vscode": {
     "languageId": "sage"
    }
   },
   "outputs": [],
   "source": [
    "# 43 Sub-string Divisibility\n",
    "from itertools import permutations\n",
    "def test(tup):\n",
    "    num=''.join(tup)\n",
    "    return int(num[1:4])%2==0 and int(num[2:5])%3==0 and int(num[3:6])%5==0 and int(num[4:7])%7==0 and int(num[5:8])%11==0 and int(num[6:9])%13==0 and int(num[7:])%17==0\n",
    "print(sum([test(tup)*int(''.join(tup)) for tup in list(permutations('0123456789'))]))"
   ]
  },
  {
   "cell_type": "markdown",
   "metadata": {},
   "source": [
    "#### PE 44"
   ]
  },
  {
   "cell_type": "code",
   "execution_count": null,
   "metadata": {
    "vscode": {
     "languageId": "sage"
    }
   },
   "outputs": [],
   "source": [
    "# 44 Pentagon Numbers\n",
    "def pentagon_num(n):\n",
    "    return n*(3*n-1)//2\n",
    "def is_pentagonal(x):\n",
    "    if x <= 0:\n",
    "        return False\n",
    "    disc = 1 + 24*x\n",
    "    sqrt_disc = int(math.isqrt(disc))\n",
    "    return sqrt_disc*sqrt_disc == disc and (1+sqrt_disc) % 6 == 0\n",
    "def pentagonal_pair(index=3000):\n",
    "    pentagonal=[pentagon_num(num) for num in range(1,index+1)]\n",
    "    diff=float('inf')\n",
    "    for i in range(index):\n",
    "        for j in range(i+1,index):\n",
    "            num=pentagonal[i]\n",
    "            num1=pentagonal[j]\n",
    "            if is_pentagonal(abs(num-num1)) and is_pentagonal(num+num1):\n",
    "                diff=min(diff,abs(num-num1))\n",
    "    return diff\n",
    "pentagonal_pair()"
   ]
  },
  {
   "cell_type": "markdown",
   "metadata": {},
   "source": [
    "#### PE 45"
   ]
  },
  {
   "cell_type": "code",
   "execution_count": null,
   "metadata": {
    "vscode": {
     "languageId": "sage"
    }
   },
   "outputs": [],
   "source": [
    "(* 45 Triangular, Pentagonal, and Hexagonal \n",
    "    what I can learn?\n",
    "    1) defining series \n",
    "    2) finding common items in lists using set theory: Intersection and Union*)\n",
    "n=99999;\n",
    "Tri = #(# + 1)/2 &  /@ Range[n];\n",
    "Pen = #(3# - 1)/2 & /@ Range[n];\n",
    "Hex = #(2# - 1) &   /@ Range[n];\n",
    "Intersection[Tri,Pen,Hex]"
   ]
  },
  {
   "cell_type": "markdown",
   "metadata": {},
   "source": [
    "#### PE 46"
   ]
  },
  {
   "cell_type": "code",
   "execution_count": null,
   "metadata": {
    "vscode": {
     "languageId": "sage"
    }
   },
   "outputs": [],
   "source": [
    "#46 Goldbach's Other Conjecture\n",
    "import time\n",
    "start=time.time()\n",
    "# Define a function that tests if an odd composite integer can be represented as the sum of a prime and twice a square\n",
    "def other_conjecture(n):\n",
    "    \"\"\"Assume n is an odd composite integer\"\"\"\n",
    "    for i in range(3, n-1, 2):\n",
    "        num=n-i\n",
    "        number=num/2\n",
    "        sqrt_num=int(number**1/2)+1\n",
    "        if prime(i)==True:\n",
    "            for j in range(1, sqrt_num):\n",
    "                if i+2*(j**2)==n:\n",
    "                    return True\n",
    "    return False\n",
    "# calculation\n",
    "n=9\n",
    "while True:\n",
    "    if prime(n)==True:\n",
    "        n+=2\n",
    "    else:\n",
    "        if other_conjecture(n)==True:\n",
    "            n+=2\n",
    "        else:\n",
    "            break\n",
    "print(n)\n",
    "end=time.time()\n",
    "print(end-start)"
   ]
  },
  {
   "cell_type": "markdown",
   "metadata": {},
   "source": [
    "#### PE 47"
   ]
  },
  {
   "cell_type": "code",
   "execution_count": null,
   "metadata": {
    "vscode": {
     "languageId": "sage"
    }
   },
   "outputs": [],
   "source": [
    "(* 47 Distinct Primes Factors*)\n",
    "lst=Table[FactorInteger[n],{n,134040,134050}];\n",
    "lst1=Length/@lst;\n",
    "ans=Select[Range[Length[lst1]],lst1[[#]]==4&];\n",
    "ans1=Select[Range[3,Length[ans]],ans[[#]]==ans[[#-3]]+3&]\n",
    "ans\n",
    "(* learn 5 functions:\n",
    "    Table[]\n",
    "    Length[]\n",
    "    FactorInteger[]\n",
    "    Select[]\n",
    "    Range[]*)"
   ]
  },
  {
   "cell_type": "markdown",
   "metadata": {},
   "source": [
    "#### PE 48"
   ]
  },
  {
   "cell_type": "code",
   "execution_count": null,
   "metadata": {
    "vscode": {
     "languageId": "sage"
    }
   },
   "outputs": [],
   "source": [
    "#48 Self Powers\n",
    "n=1\n",
    "sum_num=0\n",
    "for i in range(1000):\n",
    "    power=n**n\n",
    "    sum_num+=power\n",
    "    n+=1\n",
    "sum_num"
   ]
  },
  {
   "cell_type": "markdown",
   "metadata": {},
   "source": [
    "#### PE 49"
   ]
  },
  {
   "cell_type": "code",
   "execution_count": null,
   "metadata": {
    "vscode": {
     "languageId": "sage"
    }
   },
   "outputs": [],
   "source": [
    "def primes():\n",
    "    \"\"\"Generate a list of 4-digit prime numbers excluding the known sequence.\"\"\"\n",
    "    num = []\n",
    "    for i in range(1001, 9998, 2):\n",
    "        if prime(i):\n",
    "            num.append(i)\n",
    "    # Exclude the specific prime sequence\n",
    "    excluded = {1487, 4817, 8147}\n",
    "    num = [n for n in num if n not in excluded]\n",
    "    return num\n",
    "\n",
    "def permutations(lst):\n",
    "    \"\"\"Find primes that have the same digit permutations.\"\"\"\n",
    "    # Sort digits of each number\n",
    "    sorted_lst = [''.join(sorted(str(num))) for num in lst]\n",
    "    \n",
    "    # Dictionary to store primes by their sorted digit permutation\n",
    "    perm_dict = {}\n",
    "    for i, num in enumerate(lst):\n",
    "        perm = sorted_lst[i]\n",
    "        if perm in perm_dict:\n",
    "            perm_dict[perm].append(num)\n",
    "        else:\n",
    "            perm_dict[perm] = [num]\n",
    "    \n",
    "    # Return only those lists with more than one permutation\n",
    "    return {k: v for k, v in perm_dict.items() if len(v) > 1}\n",
    "\n",
    "# Get primes and permutations\n",
    "prime_list = primes()\n",
    "permutations_dict = permutations(prime_list)\n",
    "\n",
    "print(permutations_dict)\n"
   ]
  },
  {
   "cell_type": "code",
   "execution_count": null,
   "metadata": {
    "vscode": {
     "languageId": "sage"
    }
   },
   "outputs": [],
   "source": [
    "# 49 Prime Permutations\n",
    "def primes():\n",
    "    num=[]\n",
    "    for i in range(1001,9998,2):\n",
    "        if prime(i)==True:\n",
    "            num.append(i)\n",
    "    return num\n",
    "\n",
    "def permutations(lst):\n",
    "    lst2=[]\n",
    "    for num in lst:\n",
    "        lst3=list(map(int,str(num)))\n",
    "        lst3.sort()\n",
    "        lst2.append(lst3)\n",
    "    lst1=[lst2.count(lst4) for lst4 in lst2]\n",
    "    lst5=[lst[i]*(lst1[i]>=3) for i in range(len(lst1))]\n",
    "    for _ in range(lst5.count(0)):\n",
    "        lst5.remove(0)\n",
    "    return lst5\n",
    "\n",
    "lst=permutations(primes());lst\n",
    "lst1=[list(Permutations(list(str(item)))) for item in lst];lst1\n",
    "lst2=[]\n",
    "for i in range(len(lst1)):\n",
    "    lst3=[]\n",
    "    for j in lst1[i]:\n",
    "        n=int(''.join(j))\n",
    "        if n in lst:\n",
    "            lst3.append(n)\n",
    "    lst2.append(lst3)\n",
    "lst2\n",
    "for i in range(len(lst2)):\n",
    "    for j in range(len(lst2[i])):\n",
    "        lst2[i][j]=abs(lst[i]-lst2[i][j])\n",
    "lst2\n",
    "lst3=[]\n",
    "for lst in lst2:\n",
    "    lst3.append(list(set(lst)))\n",
    "lst3\n",
    "for i in range(len(lst2)):\n",
    "    lst2[i]=sorted(lst2[i])\n",
    "for i in range(len(lst3)):\n",
    "    lst3[i]=sorted(lst3[i])\n",
    "for i in range(len(lst2)):\n",
    "    if lst2[i]==lst3[i]:\n",
    "        print()\n",
    "    else:\n",
    "        print('Search this line in output for other cells')"
   ]
  },
  {
   "cell_type": "markdown",
   "metadata": {},
   "source": [
    "#### PE 50"
   ]
  },
  {
   "cell_type": "code",
   "execution_count": null,
   "metadata": {
    "vscode": {
     "languageId": "sage"
    }
   },
   "outputs": [],
   "source": [
    "prime(997661)"
   ]
  },
  {
   "cell_type": "code",
   "execution_count": null,
   "metadata": {
    "vscode": {
     "languageId": "sage"
    }
   },
   "outputs": [],
   "source": [
    "primes=[]\n",
    "for i in range(1,3877):\n",
    "    if prime(i):\n",
    "        primes.append(i)\n",
    "sum(primes)+3877+3881+3889+3907+3911+3917+3919+3923+3929+3931"
   ]
  },
  {
   "cell_type": "code",
   "execution_count": null,
   "metadata": {
    "vscode": {
     "languageId": "sage"
    }
   },
   "outputs": [],
   "source": [
    "prime(1)"
   ]
  },
  {
   "cell_type": "code",
   "execution_count": null,
   "metadata": {
    "vscode": {
     "languageId": "sage"
    }
   },
   "outputs": [],
   "source": [
    "# 50 Consecutive Prime Sum\n",
    "primes=[]\n",
    "for i in range(6,3932):\n",
    "    if prime(i):\n",
    "        primes.append(i)\n",
    "primes=primes[::-1]\n",
    "count=sum(primes)\n",
    "for p in primes:\n",
    "    if prime(count):\n",
    "        print(count)\n",
    "        break\n",
    "    print(p)\n",
    "    count-=p"
   ]
  },
  {
   "cell_type": "markdown",
   "metadata": {},
   "source": [
    "#### PE 51"
   ]
  },
  {
   "cell_type": "code",
   "execution_count": null,
   "metadata": {
    "vscode": {
     "languageId": "sage"
    }
   },
   "outputs": [],
   "source": [
    "# 51 Prime Digit Replacements\n",
    "def prime_replacements(num:int,changed:list):\n",
    "    lst=list(map(int,str(num)))\n",
    "    n=[]\n",
    "    if 0 in changed:\n",
    "        limits=range(1,10)\n",
    "    else:\n",
    "        limits=range(10)\n",
    "    for i in limits:\n",
    "        n.append(int(''.join([str(i) if j in changed else str(lst[j]) for j in range(len(lst))])))\n",
    "    n=list(filter(lambda x:prime(x),n))\n",
    "    return n\n",
    "def valid(n):\n",
    "    s=list(str(n))\n",
    "    for i in set(s):\n",
    "        if s.count(i)%3==0:\n",
    "            return i\n",
    "    return False\n",
    "lst=prime_range(10^6)\n",
    "lst=list(filter(lambda x:valid(x)!=False,lst))\n",
    "for i in lst:\n",
    "    v=valid(i)\n",
    "    changed=[j for j in range(len(str(i))) if str(i)[j]==v]\n",
    "    if len(prime_replacements(i,changed))==8:\n",
    "        # print(prime_replacements(i,changed)) undo commenting to reveal answer\n",
    "        break"
   ]
  },
  {
   "cell_type": "markdown",
   "metadata": {},
   "source": [
    "#### PE 52"
   ]
  },
  {
   "cell_type": "code",
   "execution_count": null,
   "metadata": {
    "vscode": {
     "languageId": "sage"
    }
   },
   "outputs": [],
   "source": [
    "#52 Permuted Multiples\n",
    "def permuted(n):\n",
    "    listnum=list(map(int, str(n)))\n",
    "    listnum1=listnum[:]\n",
    "    listnum1.sort()\n",
    "    m=1\n",
    "    old=list_to_int(listnum)\n",
    "    while True:\n",
    "        n=old*(m+1)\n",
    "        test=list(map(int, str(n)))\n",
    "        test.sort()\n",
    "        if test!=listnum1:\n",
    "            break\n",
    "        m+=1\n",
    "    return m\n",
    "def solve(m):\n",
    "    n=1000\n",
    "    while True:\n",
    "        num=permuted(n)\n",
    "        if num>=m:\n",
    "            break\n",
    "        n+=1\n",
    "    return n\n",
    "print(solve(6))"
   ]
  },
  {
   "cell_type": "markdown",
   "metadata": {},
   "source": [
    "#### PE 53"
   ]
  },
  {
   "cell_type": "code",
   "execution_count": null,
   "metadata": {
    "vscode": {
     "languageId": "sage"
    }
   },
   "outputs": [],
   "source": [
    "# 53 Combinatoric Selections\n",
    "def ncr(n, r):\n",
    "    return factorial(n)/(factorial(r)*factorial(n-r))\n",
    "\n",
    "over_million=0\n",
    "for n in range(22,101):\n",
    "    for r in range(3,n-1):\n",
    "        if ncr(n,r)>1000000:\n",
    "            over_million+=1\n",
    "over_million"
   ]
  },
  {
   "cell_type": "markdown",
   "metadata": {},
   "source": [
    "#### PE 54"
   ]
  },
  {
   "cell_type": "code",
   "execution_count": null,
   "metadata": {
    "vscode": {
     "languageId": "sage"
    }
   },
   "outputs": [],
   "source": [
    "import requests\n",
    "response = requests.get(\"https://projecteuler.net/resources/documents/0054_poker.txt\")   # request.get the URL\n",
    "content = response.text     # Read the content of the response\n",
    "hands=content.split('\\n')\n",
    "hands=[hand.split() for hand in hands]\n",
    "hands=hands[:-1]\n",
    "hands\n",
    "# This had to be changed and debugged\n",
    "# Updated Function below\n",
    "stt=[['2', '3', '4', '5', '6'],\n",
    " ['3', '4', '5', '6', '7'],\n",
    " ['4', '5', '6', '7', '8'],\n",
    " ['5', '6', '7', '8', '9'],\n",
    " ['6', '7', '8', '9', 'T'],\n",
    " ['7', '8', '9', 'J', 'T'],\n",
    " ['8', '9', 'J', 'Q', 'T'],\n",
    " ['9', 'J', 'K', 'Q', 'T'],\n",
    " ['A', 'J', 'K', 'Q', 'T']]\n",
    "def test(lst:list):\n",
    "    hand1=lst[:5]\n",
    "    hand2=lst[5:]\n",
    "    hand1.sort()\n",
    "    hand2.sort()\n",
    "    flush1=hand1[0][1]==hand1[1][1]==hand1[2][1]==hand1[3][1]==hand1[4][1]\n",
    "    flush2=hand2[0][1]==hand2[1][1]==hand2[2][1]==hand2[3][1]==hand2[4][1]\n",
    "    value1=[hand1[i][0] for i in range(5)]\n",
    "    value2=[hand2[i][0] for i in range(5)]\n",
    "    four1=value1.count(value1[2])>=4\n",
    "    four2=value2.count(value2[2])>=4\n",
    "    three1=value1.count(value1[2])==3\n",
    "    three2=value2.count(value2[2])==3\n",
    "    two1=value1.count(value1[1])==2 or value1.count(value1[3])==2\n",
    "    two2=value2.count(value2[1])==2 or value2.count(value2[3])==2\n",
    "    fh1=three1 and two1\n",
    "    fh2=three2 and two2\n",
    "    stt1=value1 in stt\n",
    "    stt2=value2 in stt\n",
    "    fs1=flush1 and stt1\n",
    "    fs2=flush2 and stt2\n",
    "    if fs1 and not fs2:\n",
    "        return 1\n",
    "    if fs2 and not fs1:\n",
    "        return 0\n",
    "    if fs1 and fs2:\n",
    "        rank1=stt.index(value1)\n",
    "        rank2=stt.index(value2)\n",
    "        if rank1>rank2:\n",
    "            return 1\n",
    "        return 0\n",
    "    if four1 and not four2:\n",
    "        return 1\n",
    "    if four2 and not four1:\n",
    "        return 0\n",
    "    if four1 and four2:\n",
    "        rank1=value1[2]\n",
    "        rank2=value2[2]\n",
    "        if rank1>rank2:\n",
    "            return 1\n",
    "        if rank1<rank2:\n",
    "            return 0\n",
    "        if value1[0]!=value1[2]:\n",
    "            s1=value1[0]\n",
    "        else:\n",
    "            s1=value1[4]\n",
    "        if value2[0]!=value2[2]:\n",
    "            s2=value2[0]\n",
    "        else:\n",
    "            s2=value2[4]\n",
    "        if s1>s2:\n",
    "            return 1\n",
    "        return 0\n",
    "    if fh1 and not fh2:\n",
    "        return 1\n",
    "    if fh2 and not fh1:\n",
    "        return 0\n",
    "    if fh1 and fh2:\n",
    "    print(value1)\n",
    "    print(value2)\n",
    "    print(hand1)\n",
    "    print(hand2)\n",
    "for hand in hands:\n",
    "    test(hand)"
   ]
  },
  {
   "cell_type": "code",
   "execution_count": null,
   "metadata": {
    "vscode": {
     "languageId": "sage"
    }
   },
   "outputs": [],
   "source": [
    "# Updated Function\n",
    "RANKS={**{str(i):i for i in range(2,10)},'T':10,'J':11,'Q':12,'K':13,'A':14}\n",
    "def hand_rank(hand:list):\n",
    "    ranks=[RANKS[card[0]] for card in hand]\n",
    "    suits=[card[1] for card in hand]\n",
    "    ranks.sort()\n",
    "    counter=dict(Counter(ranks))\n",
    "    flush=len(set(suits))==1\n",
    "    stt=max(ranks)-min(ranks)==4 and len(set(ranks))==5\n",
    "    four=counter[ranks[2]]==4\n",
    "    three=counter[ranks[2]]==3\n",
    "    two=counter[ranks[1]]==2 or counter[ranks[3]]==2\n",
    "    full_house=three and two\n",
    "    two_pairs=counter[ranks[1]]==2 and counter[ranks[3]]==2\n",
    "    if flush and stt:\n",
    "        return (8,[max(ranks)])\n",
    "    if four:\n",
    "        return (7,[ranks[2]])\n",
    "    if full_house:\n",
    "        return (6,[ranks[2]])\n",
    "    if flush:\n",
    "        return (5,ranks[::-1])\n",
    "    if stt:\n",
    "        return (4,[ranks[0]])\n",
    "    if three:\n",
    "        return (3,[ranks[2]])\n",
    "    if two_pairs:\n",
    "        if counter[ranks[0]]==1:\n",
    "            kicker=0\n",
    "        elif counter[ranks[2]]==1:\n",
    "            kicker=2\n",
    "        else:\n",
    "            kicker=4\n",
    "        return (2,[ranks[3],ranks[1],ranks[kicker]])\n",
    "    if two:\n",
    "        if counter[ranks[1]]==2:\n",
    "            pos=1\n",
    "        else:\n",
    "            pos=3\n",
    "        singles=[(counter[n]==1)*n for n in ranks]\n",
    "        singles.sort()\n",
    "        for _ in range(2):\n",
    "            singles.remove(0)\n",
    "        return (1,[ranks[pos]]+singles[::-1]) # determine pair position\n",
    "    return (0,ranks[::-1])\n",
    "def test(hands:list):\n",
    "    hand1=hands[:5]\n",
    "    hand2=hands[5:]\n",
    "    if hand_rank(hand1)>hand_rank(hand2):\n",
    "        return 1\n",
    "    return 0\n",
    "results=[test(hand) for hand in hands]\n",
    "print(sum(results))"
   ]
  },
  {
   "cell_type": "markdown",
   "metadata": {},
   "source": [
    "#### PE 55"
   ]
  },
  {
   "cell_type": "code",
   "execution_count": null,
   "metadata": {
    "vscode": {
     "languageId": "sage"
    }
   },
   "outputs": [],
   "source": [
    "#55 Lychrel Numbers\n",
    "MAX_ITERATIONS = 50\n",
    "def isPalindrome(number): \n",
    "\treturn number == reverse(number)\n",
    "def reverse(number): \n",
    "\treverse = 0; \n",
    "\twhile (number > 0): \n",
    "\t\tremainder = number % 10\n",
    "\t\treverse = (reverse * 10) + remainder\n",
    "\t\tnumber = int(number / 10)\n",
    "\treturn reverse\n",
    "def isLychrel(number):\n",
    "\tfor i in range(MAX_ITERATIONS): \n",
    "\t\tnumber+=reverse(number)\n",
    "\t\tif (isPalindrome(number)): \n",
    "\t\t\treturn False\n",
    "\treturn True\n",
    "num_lyc=0\n",
    "for i in range(1, 10000):\n",
    "\tif isLychrel(i)==True:\n",
    "\t\tnum_lyc+=1\n",
    "num_lyc"
   ]
  },
  {
   "cell_type": "markdown",
   "metadata": {},
   "source": [
    "#### PE 56"
   ]
  },
  {
   "cell_type": "code",
   "execution_count": null,
   "metadata": {
    "vscode": {
     "languageId": "sage"
    }
   },
   "outputs": [],
   "source": [
    "#56 Powerful Digit Sum\n",
    "sum_num=0\n",
    "for i in range(1, 100):\n",
    "    for j in range(1, 100):\n",
    "        current_sum=0\n",
    "        power=i**j\n",
    "        list_power=list(map(int, str(power)))\n",
    "        for digit in list_power:\n",
    "            current_sum+=digit\n",
    "        if current_sum>sum_num:\n",
    "            sum_num=current_sum\n",
    "sum_num"
   ]
  },
  {
   "cell_type": "markdown",
   "metadata": {},
   "source": [
    "#### PE 57"
   ]
  },
  {
   "cell_type": "code",
   "execution_count": null,
   "metadata": {
    "vscode": {
     "languageId": "sage"
    }
   },
   "outputs": [],
   "source": [
    "# 57 Square Root Convergents\n",
    "def convergent_square_root2(term):\n",
    "    numerator=3\n",
    "    denominator=2\n",
    "    for _ in range(term-1):\n",
    "        denominator1=numerator+denominator\n",
    "        numerator=denominator+denominator1\n",
    "        denominator=denominator1\n",
    "    return [numerator,denominator]\n",
    "\n",
    "def solve():\n",
    "    ans=0\n",
    "    for i in range(1,1001):\n",
    "        fraction=convergent_square_root2(i)\n",
    "        n=list(map(int,str(fraction[0])))\n",
    "        d=list(map(int,str(fraction[1]))) #separates number's digits into list\n",
    "        if len(n)>len(d):\n",
    "            ans+=1\n",
    "    return ans\n",
    "\n",
    "solve()"
   ]
  },
  {
   "cell_type": "markdown",
   "metadata": {},
   "source": [
    "#### PE 58\n",
    "The corner_num function:\n",
    "1. Number 1 is the centre of the square.\n",
    "2. Create a list containing the number 1.\n",
    "2. Iterate for the number of times you need to add a number to the list\n",
    "    - Add the next number\n",
    "    - Change n to the last number of the list\n",
    "3. Return the list"
   ]
  },
  {
   "cell_type": "code",
   "execution_count": null,
   "metadata": {
    "vscode": {
     "languageId": "sage"
    }
   },
   "outputs": [],
   "source": [
    "# 58 Spiral Primes\n",
    "''' 37 36 35 34 33 32 31\n",
    "    38 17 16 15 14 13 30\n",
    "    39 18  5  4  3 12 29\n",
    "    40 19  6  1  2 11 28\n",
    "    41 20  7  8  9 10 27\n",
    "    42 21 22 23 24 25 26\n",
    "    43 44 45 46 47 48 49\n",
    "'''\n",
    "def corner_num(side_length):\n",
    "    lst=[1]\n",
    "    n=1\n",
    "    for i in range(4,side_length*2+2):\n",
    "        lst.append(n+i//4*2)\n",
    "        n+=i//4*2\n",
    "    return lst\n",
    "def prime_percentage(lst):\n",
    "    p=list(filter(lambda x:is_prime(x),lst))\n",
    "    return float(len(p)/len(lst)*100)\n",
    "\n",
    "for i in range(26200,26300):\n",
    "    if prime_percentage(corner_num(i))<=10:\n",
    "        print(i)\n",
    "        break"
   ]
  },
  {
   "cell_type": "markdown",
   "metadata": {
    "vscode": {
     "languageId": "sage"
    }
   },
   "source": [
    "#### PE 59"
   ]
  },
  {
   "cell_type": "code",
   "execution_count": null,
   "metadata": {
    "vscode": {
     "languageId": "sage"
    }
   },
   "outputs": [],
   "source": [
    "# 59 XOR Decryption\n",
    "# python instead of sage was used to use the xor function(a^b means a xor b in python)\n",
    "import requests\n",
    "response = requests.get(\"https://projecteuler.net/resources/documents/0059_cipher.txt\")   # Send a GET request to the URL\n",
    "content = response.text     # Read the content of the response\n",
    "content=content.split(',')\n",
    "ascii_num=[int(x) for x in content]\n",
    "def xor_decrypt(txt,cipher):\n",
    "    lst=[]\n",
    "    for i in range(len(txt)):\n",
    "        lst.append(chr(txt[i]^cipher[i%3]))\n",
    "    return ''.join(lst)\n",
    "for i in range(97,123):\n",
    "    for j in range(97,123):\n",
    "        for k in range(97,123):\n",
    "            plain = xor_decrypt(ascii_num, [i, j, k])\n",
    "            if all(32 <= ord(ch) <= 126 or ch in \"\\n\\r\\t\" for ch in plain[:200]):\n",
    "                print(chr(i), chr(j), chr(k), \"=>\", plain[:80])\n",
    "                print(str(plain.count(' the '))+'11111') # search for 3211111 in output\n",
    "sum(ord(char) for char in list(xor_decrypt(ascii_num,[101,120,112])))"
   ]
  },
  {
   "cell_type": "markdown",
   "metadata": {
    "vscode": {
     "languageId": "sage"
    }
   },
   "source": [
    "#### PE 61"
   ]
  },
  {
   "cell_type": "code",
   "execution_count": null,
   "metadata": {
    "vscode": {
     "languageId": "sage"
    }
   },
   "outputs": [],
   "source": [
    "def cyclical(chain,unused):\n",
    "    t=list(unused)\n",
    "    lst=chain[-1]\n",
    "    if len(unused)==1:\n",
    "        for n in figurate[t[0]]:\n",
    "            if lst[1]==n[0] and chain[0][0]==n[1]:\n",
    "                print(chain)\n",
    "                return True\n",
    "        return False\n",
    "    for s in t:\n",
    "        for i in figurate[s]:\n",
    "            if lst[1]==i[0]:\n",
    "                if cyclical(chain+[i],unused-{s}):\n",
    "                    print(chain)\n",
    "                    return True\n",
    "    return False"
   ]
  },
  {
   "cell_type": "code",
   "execution_count": null,
   "metadata": {
    "vscode": {
     "languageId": "sage"
    }
   },
   "outputs": [],
   "source": [
    "# 61 Cyclical Figurate Numbers\n",
    "triangle=[n*(n+1)//2 for n in range(45,141)]\n",
    "square=[n^2 for n in range(32,100)]\n",
    "pentagonal=[n*(3*n-1)//2 for n in range(26,82)]\n",
    "hexagonal=[n*(2*n-1) for n in range(23,71)]\n",
    "heptagonal=[n*(5*n-3)//2 for n in range(21,64)]\n",
    "octagonal=[n*(3*n-2) for n in range(19,59)]\n",
    "figurate=[triangle,square,pentagonal,hexagonal,heptagonal,octagonal]\n",
    "for i in range(len(figurate)):\n",
    "    figurate[i]=list(map(lambda x:[int(''.join([str(x)[0],str(x)[1]])),int(''.join([str(x)[2],str(x)[3]]))],figurate[i]))\n",
    "    figurate[i]=list(filter(lambda x:x[1]>=10,figurate[i]))\n",
    "triangle=figurate[0]\n",
    "square=figurate[1]\n",
    "pentagonal=figurate[2]\n",
    "hexagonal=figurate[3]\n",
    "heptagonal=figurate[4]\n",
    "octagonal=figurate[5]\n",
    "for n in octagonal:\n",
    "    if cyclical([n],{0,1,2,3,4}):\n",
    "        print(n)\n",
    "        break"
   ]
  },
  {
   "cell_type": "markdown",
   "metadata": {},
   "source": [
    "#### PE 62"
   ]
  },
  {
   "cell_type": "code",
   "execution_count": null,
   "metadata": {
    "vscode": {
     "languageId": "sage"
    }
   },
   "outputs": [],
   "source": [
    "#62 \n",
    "import time\n",
    "start = time.time()\n",
    "cubes = []\n",
    "i = 0\n",
    "while True:\n",
    "    cube = sorted(list(str(i**3)))\n",
    "    cubes.append(cube)\n",
    "    if cubes.count(cube) == 5:\n",
    "        print((cubes.index(cube))**3)\n",
    "        break\n",
    "    i += 1\n",
    "end = time.time()\n",
    "print(end - start)"
   ]
  },
  {
   "cell_type": "markdown",
   "metadata": {},
   "source": [
    "#### PE 63"
   ]
  },
  {
   "cell_type": "code",
   "execution_count": null,
   "metadata": {
    "vscode": {
     "languageId": "sage"
    }
   },
   "outputs": [],
   "source": [
    "# 63 Powerful Digit Counts\n",
    "num=0\n",
    "for i in range(1,10):\n",
    "    for j in range(1,22):\n",
    "        if length(i**j)==j:\n",
    "            num+=1\n",
    "num"
   ]
  },
  {
   "cell_type": "markdown",
   "metadata": {
    "vscode": {
     "languageId": "sage"
    }
   },
   "source": [
    "#### PE 64\n",
    "The period function uses the continued_fraction function in sage and a recurrence function. The continued_fraction function generates the values for the sequence where you have to check for repeating numbers."
   ]
  },
  {
   "cell_type": "code",
   "execution_count": null,
   "metadata": {
    "vscode": {
     "languageId": "sage"
    }
   },
   "outputs": [],
   "source": [
    "# 64 Odd Period Square Roots\n",
    "def period(n,limit=1000):\n",
    "    fr=continued_fraction(sqrt(n))\n",
    "    a0=fr[0]\n",
    "    fr=fr[1:]\n",
    "    a=a0\n",
    "    m=0\n",
    "    d=1\n",
    "    for i in range(1,limit):\n",
    "        m=d*a-m\n",
    "        d=(n-m*m)//d\n",
    "        a=(a0+m)//d\n",
    "        if a==2*a0:\n",
    "            return i\n",
    "\n",
    "count=0\n",
    "for i in range(2,10000):\n",
    "    if not is_square(i) and is_odd(period(i)):\n",
    "        count+=1\n",
    "count"
   ]
  },
  {
   "cell_type": "markdown",
   "metadata": {},
   "source": [
    "#### PE 65"
   ]
  },
  {
   "cell_type": "code",
   "execution_count": null,
   "metadata": {
    "vscode": {
     "languageId": "sage"
    }
   },
   "outputs": [],
   "source": [
    "#65 Convergents of e\n",
    "def solve(N):\n",
    "    n=2\n",
    "    prev_n=1\n",
    "    fract=1\n",
    "    for k in range(2, N+1):\n",
    "        temp=prev_n\n",
    "        if (k % 3 == 0):\n",
    "            fract=2*int(k/3)\n",
    "        else:\n",
    "            fract=1\n",
    "        prev_n=n\n",
    "        n=fract * prev_n + temp\n",
    "    sum = digit_sum(n)\n",
    "    return sum\n",
    "def digit_sum(num):\n",
    "    sum = 0\n",
    "    while num > 0:\n",
    "        sum = sum + (num % 10)\n",
    "        num = num // 10\n",
    "    return sum\n",
    "#cal\n",
    "solve(100)"
   ]
  },
  {
   "cell_type": "code",
   "execution_count": null,
   "metadata": {
    "vscode": {
     "languageId": "sage"
    }
   },
   "outputs": [],
   "source": [
    "(* 65 Convergents of e *)"
   ]
  },
  {
   "cell_type": "markdown",
   "metadata": {},
   "source": [
    "#### PE 66\n",
    "see https://en.wikipedia.org/wiki/Pell%27s_equation"
   ]
  },
  {
   "cell_type": "code",
   "execution_count": null,
   "metadata": {
    "vscode": {
     "languageId": "sage"
    }
   },
   "outputs": [],
   "source": [
    "#66 Diophantine Equation\n",
    "def test(s,num):\n",
    "    if '/' in s:\n",
    "        s=s.split('/')\n",
    "        s1=int(s[0])\n",
    "        s2=int(s[1])\n",
    "    else:\n",
    "        s1=int(s)\n",
    "        s2=1\n",
    "    if s1^2-s2^2*num==1:\n",
    "        return s1\n",
    "l=[]\n",
    "for i in range(1,1001):\n",
    "    cf=continued_fraction(sqrt(i))\n",
    "    lst=list(map(str,continued_fraction(cf[:130]).convergents()))\n",
    "    for item in lst:\n",
    "        if test(item,i):\n",
    "            l.append((test(item,i),i))\n",
    "            break\n",
    "max(l)"
   ]
  },
  {
   "cell_type": "markdown",
   "metadata": {},
   "source": [
    "#### PE 69\n",
    "\n",
    "Euler's Totient Function (or just Euler $\\phi$ function) has a general formulas as below, $p_i$ is all of the coprime of x, where x is a positive integer.\n",
    "\n",
    "$$\\phi(x)=x\\prod_{i=1}^n(1-\\frac{1}{p_i})$$"
   ]
  },
  {
   "cell_type": "code",
   "execution_count": null,
   "metadata": {
    "vscode": {
     "languageId": "sage"
    }
   },
   "outputs": [],
   "source": [
    "#69 Totient Maximum\n",
    "def factors(n):\n",
    "    intnum=int(n**1/2)+1\n",
    "    num=[]\n",
    "    for i in range(1, intnum):\n",
    "        if n%i==0:\n",
    "            num.append(i)\n",
    "    for number in num:\n",
    "        if n/number not in num:\n",
    "            num.append(n/number)\n",
    "    return num\n",
    "def prime1(n):\n",
    "    if len(factors(n))==2:\n",
    "        return True\n",
    "    return False\n",
    "def smaller(mt, n):\n",
    "    if m<n:\n",
    "        return m\n",
    "    elif m>n:\n",
    "        return n\n",
    "    else:\n",
    "        return 'same'\n",
    "def bcf(m, n):\n",
    "    fac=factors(m)\n",
    "    fac1=factors(n)\n",
    "    facs=fac+fac1\n",
    "    facs.sort()\n",
    "    facs.reverse()\n",
    "    for factor in facs:\n",
    "        if factor in fac and factor in fac1:\n",
    "            return factor\n",
    "def coprime(m, n):\n",
    "    if m==1 or n==1:\n",
    "        return False\n",
    "    if prime(m)==True or prime(n)==True:\n",
    "        return True\n",
    "    if bcf(m, n)==1:\n",
    "        return True\n",
    "    else:\n",
    "        return False\n",
    "def phi(n):\n",
    "    num=1\n",
    "    for i in range(2, n):\n",
    "        if coprime(i, n)==True:\n",
    "            num+=1\n",
    "    return num\n",
    "def totient(n):\n",
    "    big=0\n",
    "    for i in range(2, n):\n",
    "        num=i/phi(i)\n",
    "        print(i)\n",
    "        if num>big:\n",
    "            big=num\n",
    "    return big\n",
    "totient(50)"
   ]
  },
  {
   "cell_type": "code",
   "execution_count": null,
   "metadata": {
    "vscode": {
     "languageId": "sage"
    }
   },
   "outputs": [],
   "source": [
    "#69 FP way - Euler's Totient Function (or just Euler Function)\n",
    "from sympy import totient  # use  euler_phi(n) in Sage\n",
    "\n",
    "seq = [n / euler_phi(n) for n in range(1, 10^6)] # Generate the sequence using the totient function\n",
    "max_value    = max(seq)\n",
    "print(seq.index(max_value))\n",
    "max_position = [i + 1 for i, value in enumerate(seq) if value == max_value]\n",
    "max_position"
   ]
  },
  {
   "cell_type": "code",
   "execution_count": null,
   "metadata": {
    "vscode": {
     "languageId": "sage"
    }
   },
   "outputs": [],
   "source": [
    "(* 69 Totient Maximum, also called \\phi function*)\n",
    "(* seq = Table[ n/Length[Select[Range[n], CoprimeQ[#, n] == True &]]\n",
    "             , {n, 10}] ;   pretty slow  *)\n",
    "seq = Table[ n/EulerPhi[n] , {n, 1000000} ];\n",
    "Position[seq, Max[seq]]\n",
    "Max[seq]"
   ]
  },
  {
   "cell_type": "markdown",
   "metadata": {},
   "source": [
    "#### PE 70"
   ]
  },
  {
   "cell_type": "code",
   "execution_count": null,
   "metadata": {
    "vscode": {
     "languageId": "sage"
    }
   },
   "outputs": [],
   "source": [
    "# 70 Totient Permutation\n",
    "lst=[euler_phi(n) for n in range(4,10^7)]\n",
    "def is_perm(a,b):\n",
    "    return sorted(list(str(a)))==sorted(list(str(b)))\n",
    "new_lst=list(filter(lambda x:is_perm(lst[x-4],x),range(4,10^7)))\n",
    "for i in range(8319800,8319900):\n",
    "    if is_perm(euler_phi(i),i):\n",
    "        print(i)\n",
    "        break\n",
    "n=min(new_lst,key=lambda x:x/euler_phi(x))\n",
    "# n uncomment to show answer"
   ]
  },
  {
   "cell_type": "markdown",
   "metadata": {},
   "source": [
    "#### PE 71"
   ]
  },
  {
   "cell_type": "code",
   "execution_count": null,
   "metadata": {
    "vscode": {
     "languageId": "sage"
    }
   },
   "outputs": [],
   "source": [
    "#71 Ordered Fractions \n",
    "target = 3/7\n",
    "\n",
    "pairs = [( floor(deno*target) , deno ) for deno in range(2, 1000000)]\n",
    "\n",
    "fracs = [( n, deno ) for n, deno in pairs if (n/deno)<target]  # Filter fractions < target\n",
    "\n",
    "maxFrac = max(fracs, key=lambda frac: frac[0]/frac[1] ) ; maxFrac"
   ]
  },
  {
   "cell_type": "code",
   "execution_count": null,
   "metadata": {
    "vscode": {
     "languageId": "sage"
    }
   },
   "outputs": [],
   "source": [
    "(* 71 Ordered Fractions \n",
    "    Table[] gen [{numerator}, {denominator}]\n",
    "    Floor[] gen greatest integer <= d*target\n",
    "    Select[] and MaximalBy[], both are [list + function]\n",
    "    [[2]] the 2nd item, #[[2]] the 2nd input of the function \n",
    "    *)\n",
    "target = 3/7;\n",
    "MaximalBy[Select[  Table[ {Floor[d*target], d}, {d, 2, 1000000} ], \n",
    "                          #[[1]]/#[[2]] < target & ], \n",
    "         #[[1]]/#[[2]] & ]"
   ]
  },
  {
   "cell_type": "markdown",
   "metadata": {
    "vscode": {
     "languageId": "sage"
    }
   },
   "source": [
    "#### PE 72\n",
    "A fraction is a proper fraction if the highest common divisor of its numerator and denominator is $1$, or in other words, the numerator and denominator are coprime. The euler_phi function(totient function) is defined by how many integers a number is coprime with up to the number itself. This means that the euler_phi function can determine how many times that number will appear as the denominator in the fractions. Summing all of that up gives the total amount of fractions."
   ]
  },
  {
   "cell_type": "code",
   "execution_count": null,
   "metadata": {
    "vscode": {
     "languageId": "sage"
    }
   },
   "outputs": [],
   "source": [
    "# 72 Counting Fractions\n",
    "def num_fractions(num):\n",
    "    return sum([euler_phi(n) for n in range(2,num+1)])\n",
    "\n",
    "# print(num_fractions(1000000)) uncomment to show answer"
   ]
  },
  {
   "cell_type": "markdown",
   "metadata": {
    "vscode": {
     "languageId": "sage"
    }
   },
   "source": [
    "#### PE 73"
   ]
  },
  {
   "cell_type": "code",
   "execution_count": null,
   "metadata": {
    "vscode": {
     "languageId": "sage"
    }
   },
   "outputs": [],
   "source": [
    "# 73 Counting Fractions in a Range\n",
    "def fractions(num):\n",
    "    return [QQ((p,q)) for q in range(2,num+1) for p in range(q//3+1,ceil(q/2)) if gcd(p,q)==1]\n",
    "\n",
    "print(len(fractions(12000)))"
   ]
  },
  {
   "cell_type": "markdown",
   "metadata": {},
   "source": [
    "#### PE 74"
   ]
  },
  {
   "cell_type": "code",
   "execution_count": null,
   "metadata": {
    "vscode": {
     "languageId": "sage"
    }
   },
   "outputs": [],
   "source": [
    "#74 Factorial Chains\n",
    "def fact(n):\n",
    "    if n==0 or n==1:\n",
    "        return 1\n",
    "    elif n<0:\n",
    "        raise ValueError\n",
    "    else:\n",
    "        return n*fact(n-1)\n",
    "    \n",
    "factorials={i:fact(i) for i in range(10)}\n",
    "\n",
    "num=0\n",
    "for i in range(1,1000000):\n",
    "    n=i\n",
    "    lst=[]\n",
    "    while n not in lst:\n",
    "        lst.append(n)\n",
    "        n=list(map(int,str(n)))\n",
    "        n1=0\n",
    "        for j in n:\n",
    "            n1+=factorials[j]\n",
    "        n=n1\n",
    "    if len(lst)==60:\n",
    "        num+=1\n",
    "print(num)"
   ]
  },
  {
   "cell_type": "markdown",
   "metadata": {},
   "source": [
    "#### PE 75\n",
    "\n",
    "Given Euclid's formula and non-primitive triples, use Counting function:\n",
    "$$f(p)=\\# \\{(m,n,k)\\in\\N^3:m>n,\\quad \\gcd(m, n)=1, \\quad m-n\\enspace\\text{odd}, \\quad p=k\\cdot 2m(m+n)\\}$$"
   ]
  },
  {
   "cell_type": "code",
   "execution_count": null,
   "metadata": {
    "vscode": {
     "languageId": "sage"
    }
   },
   "outputs": [],
   "source": [
    "# FP\n",
    "from collections import Counter\n",
    "from functools import reduce\n",
    "\n",
    "def all_counts(limit=1500000):\n",
    "    primitive = [(2*m*(m+n))\n",
    "                 for m in range(2, int((limit//2)**0.5)+1)\n",
    "                 for n in range(1,m)\n",
    "                 if (m-n) % 2 == 1 and gcd(m,n) == 1]\n",
    "\n",
    "    multiples = (k*P0\n",
    "                 for P0 in primitive\n",
    "                 for k in range(1, limit//P0+1))\n",
    "\n",
    "    return reduce(lambda c,x: c.update([x]) or c,\n",
    "                  multiples,\n",
    "                  Counter())"
   ]
  },
  {
   "cell_type": "code",
   "execution_count": null,
   "metadata": {
    "vscode": {
     "languageId": "sage"
    }
   },
   "outputs": [],
   "source": [
    "# OOP\n",
    "from collections import Counter\n",
    "def all_pythagorean_sums(limit=1000):\n",
    "    # Step 1: generate primitive perimeters\n",
    "    primitive = [2*m*(m+n) \n",
    "                 for m in range(1, isqrt(limit)) \n",
    "                 for n in range(1,m) \n",
    "                 if is_odd(m-n) and gcd(m,n)==1]\n",
    "\n",
    "    # Step 2: generate all multiples <= limit\n",
    "    all_sums = []\n",
    "    for P0 in primitive:\n",
    "        k = 1\n",
    "        while k*P0 <= limit:\n",
    "            all_sums.append(k*P0)\n",
    "            k += 1\n",
    "\n",
    "    return sorted(all_sums)\n",
    "\n",
    "lst=all_pythagorean_sums(1500000)\n",
    "d=dict(Counter(lst))\n",
    "sum(d[num]==1 for num in d)"
   ]
  },
  {
   "cell_type": "markdown",
   "metadata": {
    "vscode": {
     "languageId": "sage"
    }
   },
   "source": [
    "#### PE 77"
   ]
  },
  {
   "cell_type": "code",
   "execution_count": null,
   "metadata": {
    "vscode": {
     "languageId": "sage"
    }
   },
   "outputs": [],
   "source": [
    "def prime_partitions(num, max_prime=None):\n",
    "    if num==0:\n",
    "        return 1\n",
    "    if num<0:\n",
    "        return 0\n",
    "    if max_prime is None:\n",
    "        max_prime=num\n",
    "    total=0\n",
    "    for p in prime_range(2,max_prime+1):\n",
    "        total+=prime_partitions(num-p,p)\n",
    "    return total\n",
    "\n",
    "limit=100\n",
    "for i in range(2,limit):\n",
    "    if prime_partitions(i)>=5000:\n",
    "        print(i)\n",
    "        break"
   ]
  },
  {
   "cell_type": "code",
   "execution_count": null,
   "metadata": {
    "vscode": {
     "languageId": "sage"
    }
   },
   "outputs": [],
   "source": [
    "def prime_partitions(num):\n",
    "    if num==2 or num==3:\n",
    "        return 1\n",
    "    lst=prime_range(2,num//2+1)\n",
    "    count=0\n",
    "    for n in lst:\n",
    "        count+=prime_partitions(num-n)\n",
    "    return count"
   ]
  },
  {
   "cell_type": "markdown",
   "metadata": {
    "vscode": {
     "languageId": "sage"
    }
   },
   "source": [
    "#### PE 78"
   ]
  },
  {
   "cell_type": "code",
   "execution_count": null,
   "metadata": {
    "vscode": {
     "languageId": "sage"
    }
   },
   "outputs": [],
   "source": [
    "# Pentagonal Recurrence \n",
    "def partition_mod(limit,mod=1000000):\n",
    "    p=[1]\n",
    "    for n in range(1,limit+1):\n",
    "        total=0\n",
    "        k=1\n",
    "        while True:\n",
    "            g1=k*(3*k-1)//2\n",
    "            g2=k*(3*k+1)//2\n",
    "            if g1>n:\n",
    "                break\n",
    "            sign=-1 if k%2==0 else 1\n",
    "            total+=sign*p[n-g1]\n",
    "            if g2<=n:\n",
    "                total+=sign*p[n-g2]\n",
    "            k+=1\n",
    "        p.append(total%mod)\n",
    "    return p\n",
    "\n",
    "partition_mod(60000).index(0)"
   ]
  },
  {
   "cell_type": "code",
   "execution_count": null,
   "metadata": {
    "vscode": {
     "languageId": "sage"
    }
   },
   "outputs": [],
   "source": [
    "# Recursion\n",
    "def partition_mod(limit,mod=1000000):\n",
    "    p=[0]*(limit+1)\n",
    "    p[0]=1\n",
    "    for k in range(1,limit+1):\n",
    "        for n in range(k,limit+1):\n",
    "            p[n]=(p[n]+p[n-k])%mod\n",
    "    return p\n",
    "\n",
    "lst=sorted(partition_mod(10000))\n",
    "lst"
   ]
  },
  {
   "cell_type": "markdown",
   "metadata": {},
   "source": [
    "#### PE 79"
   ]
  },
  {
   "cell_type": "code",
   "execution_count": null,
   "metadata": {
    "vscode": {
     "languageId": "sage"
    }
   },
   "outputs": [],
   "source": [
    "#79 Passcode Derivation\n",
    "73162890"
   ]
  },
  {
   "cell_type": "markdown",
   "metadata": {},
   "source": [
    "#### PE 80"
   ]
  },
  {
   "cell_type": "code",
   "execution_count": null,
   "metadata": {
    "vscode": {
     "languageId": "sage"
    }
   },
   "outputs": [],
   "source": [
    "#80 Square Root Digital Expansion\n",
    "from re import findall\n",
    "from math import sqrt\n",
    "num=list(range(2,100))\n",
    "num1=[]\n",
    "num.remove(4)\n",
    "num.remove(9)\n",
    "num.remove(16)\n",
    "num.remove(25)\n",
    "num.remove(36)\n",
    "num.remove(49)\n",
    "num.remove(64)\n",
    "num.remove(81)\n",
    "for i in range(len(num)):\n",
    "    num[i]=sqrt(num[i])\n",
    "for j in range(len(num)):\n",
    "    num2=num[j]*(10**99)\n",
    "    num.remove(num[j])\n",
    "    num2=int(num2)\n",
    "    num.append(num2)\n",
    "for number1 in num:\n",
    "    dec = list(map(int, findall('\\d', str(number1))))\n",
    "    num1.append(dec)\n",
    "sum_digit=0\n",
    "for list_num in num1:\n",
    "    for number2 in list_num:\n",
    "        sum_digit+=number2\n",
    "print(num1)\n",
    "print(sum_digit)"
   ]
  },
  {
   "cell_type": "code",
   "execution_count": null,
   "metadata": {
    "vscode": {
     "languageId": "sage"
    }
   },
   "outputs": [],
   "source": [
    "(* 80 Square Root Digital Expansion*)\n",
    "numberDigits = RealDigits[Sqrt[2], 10, 100][[1]]\n",
    "lst=Complement[Range[1, 99], Table[n^2, {n, 1, Floor[Sqrt[99]]}]];\n",
    "totalNumberDigits=Table[RealDigits[Sqrt[i], 10, 100][[1]],{i,lst}];\n",
    "lst1={{1,2,3,4,5},{6,7,8,9,10}};\n",
    "Total[Total[lst1]]\n",
    "Total[Total[totalNumberDigits]]\n",
    "(* learn 3 functions:\n",
    "    RealDigits[] give a list of len digit\n",
    "    Complement[] after excluding the subsequent lists, the complement from the first list \n",
    "    Total[] *)"
   ]
  },
  {
   "cell_type": "markdown",
   "metadata": {
    "vscode": {
     "languageId": "sage"
    }
   },
   "source": [
    "#### PE 82\n",
    "\n",
    "The path_sum function uses dynamic programming. The values are check for each column, starting from the left. After the values have been determined by moving to the right, sweeping up and down is included through the double loop. Once we reach the last column we find the minimum value."
   ]
  },
  {
   "cell_type": "code",
   "execution_count": null,
   "metadata": {
    "vscode": {
     "languageId": "sage"
    }
   },
   "outputs": [],
   "source": [
    "# 82 Path sum: three ways\n",
    "def path_sum(matrix):\n",
    "    dp=[row[0] for row in matrix]\n",
    "    for j in range(1,n):\n",
    "        dp=[dp[i]+matrix[i][j] for i in range(n)]\n",
    "        for i in range(1,n):\n",
    "            dp[i]=min(dp[i],dp[i-1]+matrix[i][j])\n",
    "        for i in range(n-2,-1,-1):\n",
    "            dp[i]=min(dp[i],dp[i+1]+matrix[i][j])\n",
    "    return min(dp)\n",
    "\n",
    "import requests\n",
    "response = requests.get(\"https://projecteuler.net/resources/documents/0082_matrix.txt\")   # Send a GET request to the URL\n",
    "content = response.text     # Read the content of the response\n",
    "matrix=content.split('\\n')\n",
    "matrix=matrix[:-1]\n",
    "matrix=[list(map(int,row.split(','))) for row in matrix]\n",
    "n=len(matrix)\n",
    "path_sum(matrix)"
   ]
  },
  {
   "cell_type": "markdown",
   "metadata": {
    "vscode": {
     "languageId": "sage"
    }
   },
   "source": [
    "#### PE 83"
   ]
  },
  {
   "cell_type": "code",
   "execution_count": null,
   "metadata": {
    "vscode": {
     "languageId": "sage"
    }
   },
   "outputs": [],
   "source": [
    "import requests\n",
    "response = requests.get(\"https://projecteuler.net/resources/documents/0083_matrix.txt\")   # Send a GET request to the URL\n",
    "content = response.text     # Read the content of the response\n",
    "matrix=content.split('\\n')\n",
    "matrix=matrix[:-1]\n",
    "matrix=[list(map(int,row.split(','))) for row in matrix]"
   ]
  },
  {
   "cell_type": "code",
   "execution_count": null,
   "metadata": {
    "vscode": {
     "languageId": "sage"
    }
   },
   "outputs": [],
   "source": [
    "# Example 5x5 matrix (replace with PE83 input matrix)\n",
    "matrix = [\n",
    "    [131, 673, 234, 103, 18],\n",
    "    [201, 96, 342, 965, 150],\n",
    "    [630, 803, 746, 422, 111],\n",
    "    [537, 699, 497, 121, 956],\n",
    "    [805, 732, 524, 37, 331]\n",
    "]"
   ]
  },
  {
   "cell_type": "code",
   "execution_count": null,
   "metadata": {
    "vscode": {
     "languageId": "sage"
    }
   },
   "outputs": [],
   "source": [
    "def dijkstra(matrix):\n",
    "    n = len(matrix) - 1\n",
    "    values = [[float('inf') for _ in range(n+1)] for _ in range(n+1)]\n",
    "    values[0][0] = matrix[0][0]\n",
    "\n",
    "    current_pos = [0, 0]\n",
    "    nodes_visited = set()\n",
    "    nodes_visited.add(tuple(current_pos))\n",
    "\n",
    "    # this is the global frontier\n",
    "    frontier = []\n",
    "\n",
    "    while values[-1][-1] == float('inf'):\n",
    "        x, y = current_pos\n",
    "        lst = []\n",
    "\n",
    "        if x != 0 and (x-1, y) not in nodes_visited:\n",
    "            values[x-1][y] = min(values[x-1][y], values[x][y] + matrix[x-1][y])\n",
    "            lst.append([values[x-1][y], [x-1, y]])\n",
    "\n",
    "        if y != 0 and (x, y-1) not in nodes_visited:\n",
    "            values[x][y-1] = min(values[x][y-1], values[x][y-1], values[x][y] + matrix[x][y-1])\n",
    "            lst.append([values[x][y-1], [x, y-1]])\n",
    "\n",
    "        if x != n and (x+1, y) not in nodes_visited:\n",
    "            values[x+1][y] = min(values[x+1][y], values[x][y] + matrix[x+1][y])\n",
    "            lst.append([values[x+1][y], [x+1, y]])\n",
    "\n",
    "        if y != n and (x, y+1) not in nodes_visited:\n",
    "            values[x][y+1] = min(values[x][y+1], values[x][y] + matrix[x][y+1])\n",
    "            lst.append([values[x][y+1], [x, y+1]])\n",
    "\n",
    "        # add all candidates to global frontier\n",
    "        frontier.extend(lst)\n",
    "\n",
    "        # pick best among ALL candidates so far\n",
    "        frontier.sort()\n",
    "        while frontier and tuple(frontier[0][1]) in nodes_visited:\n",
    "            frontier.pop(0)\n",
    "\n",
    "        if not frontier:\n",
    "            break  # no path left\n",
    "\n",
    "        current_pos = frontier.pop(0)[1]\n",
    "        nodes_visited.add(tuple(current_pos))\n",
    "\n",
    "    return values[-1][-1]\n"
   ]
  },
  {
   "cell_type": "code",
   "execution_count": null,
   "metadata": {
    "vscode": {
     "languageId": "sage"
    }
   },
   "outputs": [],
   "source": [
    "# FP\n",
    "from heapq import heappush,heappop\n",
    "def dijkstra(matrix):\n",
    "    n=len(matrix)\n",
    "    target=(n-1,n-1)\n",
    "    heap=[(matrix[0][0],(0,0))]\n",
    "    dist={(0,0):matrix[0][0]}\n",
    "    neighbors=lambda i,j: filter(lambda x:0<=x[0]<n and 0<=x[1]<n,\n",
    "    [(i-1, j), (i+1, j), (i, j-1), (i, j+1)])\n",
    "    while heap:\n",
    "        d,(i,j)=heappop(heap)\n",
    "        if(i,j)==target:\n",
    "            return d\n",
    "        for ni,nj in neighbors(i,j):\n",
    "            new_d=d+matrix[ni][nj]\n",
    "            if new_d<dist.get((ni,nj),float('inf')):\n",
    "                dist={**dist,(ni,nj): new_d}\n",
    "                heappush(heap,(new_d,(ni,nj)))"
   ]
  },
  {
   "cell_type": "code",
   "execution_count": null,
   "metadata": {
    "vscode": {
     "languageId": "sage"
    }
   },
   "outputs": [],
   "source": [
    "# OOP\n",
    "def dijkstra(matrix):\n",
    "    n=len(matrix)-1\n",
    "    values=[[float('inf') for _ in range(n+1)] for _ in range(n+1)]\n",
    "    values[0][0]=matrix[0][0]\n",
    "    current_pos=[0,0]\n",
    "    nodes_visited=[current_pos]\n",
    "    while values[-1][-1]==float('inf'):\n",
    "        previous_pos=current_pos\n",
    "        lst=[]\n",
    "        if current_pos[0]!=0 and [current_pos[0]-1,current_pos[1]] not in nodes_visited:\n",
    "            values[current_pos[0]-1][current_pos[1]]=min(values[current_pos[0]-1][current_pos[1]],values[current_pos[0]][current_pos[1]]+matrix[current_pos[0]-1][current_pos[1]])\n",
    "            lst.append([values[current_pos[0]-1][current_pos[1]],[current_pos[0]-1,current_pos[1]]])\n",
    "        if current_pos[1]!=0 and [current_pos[0],current_pos[1]-1] not in nodes_visited:\n",
    "            values[current_pos[0]][current_pos[1]-1]=min(values[current_pos[0]][current_pos[1]-1],values[current_pos[0]][current_pos[1]]+matrix[current_pos[0]][current_pos[1]-1])\n",
    "            lst.append([values[current_pos[0]][current_pos[1]-1],[current_pos[0],current_pos[1]-1]])\n",
    "        if current_pos[0]!=n and [current_pos[0]+1,current_pos[1]] not in nodes_visited:\n",
    "            values[current_pos[0]+1][current_pos[1]]=min(values[current_pos[0]+1][current_pos[1]],values[current_pos[0]][current_pos[1]]+matrix[current_pos[0]+1][current_pos[1]])\n",
    "            lst.append([values[current_pos[0]+1][current_pos[1]],[current_pos[0]+1,current_pos[1]]])\n",
    "        if current_pos[1]!=n and [current_pos[0],current_pos[1]+1] not in nodes_visited:\n",
    "            values[current_pos[0]][current_pos[1]+1]=min(values[current_pos[0]][current_pos[1]+1],values[current_pos[0]][current_pos[1]]+matrix[current_pos[0]][current_pos[1]+1])\n",
    "            lst.append([values[current_pos[0]][current_pos[1]+1],[current_pos[0],current_pos[1]+1]])\n",
    "        print(lst)\n",
    "        current_pos=min(lst)[1]\n",
    "        nodes_visited.append(current_pos)\n",
    "    return values[-1][-1]"
   ]
  },
  {
   "cell_type": "code",
   "execution_count": null,
   "metadata": {
    "vscode": {
     "languageId": "sage"
    }
   },
   "outputs": [],
   "source": [
    "dijkstra(matrix)"
   ]
  },
  {
   "cell_type": "markdown",
   "metadata": {},
   "source": [
    "#### PE 84\n",
    "Two ways: Markov chain and Monte Carlo simulation."
   ]
  },
  {
   "cell_type": "code",
   "execution_count": null,
   "metadata": {
    "vscode": {
     "languageId": "sage"
    }
   },
   "outputs": [],
   "source": [
    "# Define the 40x40 transition matrix for the Monopoly board\n",
    "M = Matrix(QQ, 40, 40, sparse=True)\n",
    "\n",
    "dice_probs = {2: 1/36, 3: 2/36, 4: 3/36, 5: 4/36, 6: 5/36, 7: 6/36,\n",
    "              8: 5/36, 9: 4/36, 10: 3/36, 11: 2/36, 12: 1/36}\n",
    "\n",
    "chance_squares = [7, 22, 36]\n",
    "community_chest_squares = [2, 17, 33]\n",
    "go_to_jail = 30\n",
    "jail = 10\n",
    "\n",
    "chance_moves = {\n",
    "    0: 1/16,   # Go to Go (square 0)\n",
    "    10: 1/16,  # Go to Jail (square 10)\n",
    "    11: 1/16,  # Go to C1 (square 11)\n",
    "    24: 1/16,  # Go to E3 (square 24)\n",
    "    39: 1/16,  # Go to H2 (square 39)\n",
    "    5: 1/16,   # Go to R1 (square 5)\n",
    "    # Next railway (R2, R3, R4 depend on current square)\n",
    "    # Next utility (U1, U2 depend on current square)\n",
    "    # Back 3 spaces (depends on current square)\n",
    "    # 7 non-movement cards: stay put or handle via dice roll\n",
    "}\n",
    "\n",
    "cc_moves = {\n",
    "    0: 1/16,   # Go to Go (square 0)\n",
    "    10: 1/16,  # Go to Jail (square 10)\n",
    "    # 14 non-movement cards: stay put or handle via dice roll\n",
    "}\n",
    "\n",
    "def next_railway(square):\n",
    "    railways = [5, 15, 25, 35]\n",
    "    for r in railways:\n",
    "        if r > square:\n",
    "            return r\n",
    "    return railways[0]  # Wrap around to R1\n",
    "\n",
    "def next_utility(square):\n",
    "    utilities = [12, 28]\n",
    "    for u in utilities:\n",
    "        if u > square:\n",
    "            return u\n",
    "    return utilities[0]  # Wrap around to U1\n",
    "\n",
    "# Populate transition matrix\n",
    "for i in range(40):\n",
    "    if i == go_to_jail:\n",
    "        M[i, jail] = 1\n",
    "    elif i in chance_squares:\n",
    "        # Chance squares: handle card transitions\n",
    "        for dest, prob in chance_moves.items():\n",
    "            M[i, dest] = prob\n",
    "        M[i, next_railway(i)] = 1/16\n",
    "        M[i, next_utility(i)] = 1/16\n",
    "        M[i, (i - 3) % 40] = 1/16\n",
    "        for k, prob in dice_probs.items():\n",
    "            M[i, (i + k) % 40] += (7/16) * prob\n",
    "    elif i in community_chest_squares:\n",
    "        # Community Chest: handle card transitions\n",
    "        for dest, prob in cc_moves.items():\n",
    "            M[i, dest] = prob\n",
    "        for k, prob in dice_probs.items():\n",
    "            M[i, (i + k) % 40] += (14/16) * prob\n",
    "    else:\n",
    "        # Regular squares (including Jail): follow dice rolls\n",
    "        for k, prob in dice_probs.items():\n",
    "            M[i, (i + k) % 40] = prob\n",
    "\n",
    "# Verify stochastic matrix (rows sum to 1)\n",
    "for i in range(40):\n",
    "    row_sum = sum(M[i,j] for j in range(40))\n",
    "    if abs(row_sum - 1) > 1e-10:\n",
    "        print(f\"Warning: Row {i} sums to {row_sum}\")\n",
    "\n",
    "# Compute steady-state distribution\n",
    "eigen = M.eigenvectors_left()\n",
    "stationary = None\n",
    "for val, vecs, mult in eigen:\n",
    "    if abs(val - 1) < 1e-10:\n",
    "        stationary = vecs[0]\n",
    "        stationary = [x / sum(stationary) for x in stationary]  # Normalize\n",
    "        break\n",
    "\n",
    "if stationary is None:\n",
    "    print(\"Error: No stationary distribution found\")\n",
    "else:\n",
    "    # Sort squares by probability\n",
    "    square_probs = [(prob, i) for i, prob in enumerate(stationary)]\n",
    "    square_probs.sort(reverse=True)\n",
    "    # Print top squares (example output, adjust as needed)\n",
    "    print(\"Top squares by probability:\")\n",
    "    for prob, square in square_probs[:5]:\n",
    "        print(f\"Square {square}: {prob:.6f}\")"
   ]
  },
  {
   "cell_type": "code",
   "execution_count": null,
   "metadata": {
    "vscode": {
     "languageId": "sage"
    }
   },
   "outputs": [],
   "source": [
    "# 84 Monopoly Odds\n",
    "def simulate(turns):\n",
    "    pos=0\n",
    "    d={i:0 for i in range(40)}\n",
    "    cc=(2,17,33)\n",
    "    ch=(7,22,36)\n",
    "    cc_cards=[0,10]+['']*14\n",
    "    ch_cards=[0,10,11,24,39,5,'R','R','U','-3']+['']*6\n",
    "    shuffle(cc_cards)\n",
    "    shuffle(ch_cards)\n",
    "    double=0\n",
    "    for i in range(turns):\n",
    "        dice1=randint(1,4)\n",
    "        dice2=randint(1,4)\n",
    "        if dice1==dice2:\n",
    "            double+=1\n",
    "        else:\n",
    "            double=0\n",
    "        pos+=dice1+dice2\n",
    "        pos%=40\n",
    "        if pos==30:\n",
    "            pos=10\n",
    "        minus3=False\n",
    "        if pos in ch:\n",
    "            action=ch_cards[0]\n",
    "            ch_cards.append(ch_cards[0])\n",
    "            ch_cards.remove(ch_cards[0])\n",
    "            if type(action)==str:\n",
    "                if action=='R':\n",
    "                    pos%=35\n",
    "                    pos+=5\n",
    "                    pos//=10\n",
    "                    pos+=1\n",
    "                    pos*=10\n",
    "                    pos-=5\n",
    "                elif action=='U':\n",
    "                    if 13<=pos<=27:\n",
    "                        pos=28\n",
    "                    else:\n",
    "                        pos=12\n",
    "                elif action=='-3':\n",
    "                    pos-=3\n",
    "                    minus3=True\n",
    "            else:\n",
    "                pos=action\n",
    "        if pos in cc:\n",
    "            action=cc_cards[0]\n",
    "            cc_cards.append(cc_cards[0])\n",
    "            cc_cards.remove(cc_cards[0])\n",
    "            if action in [0,10]:\n",
    "                pos=action\n",
    "        if pos==10:\n",
    "            double=0\n",
    "        d.update({pos:d[pos]+1})\n",
    "    return d\n",
    "\n",
    "simulate(10^7)"
   ]
  },
  {
   "cell_type": "markdown",
   "metadata": {},
   "source": [
    "#### PE 85"
   ]
  },
  {
   "cell_type": "code",
   "execution_count": null,
   "metadata": {
    "vscode": {
     "languageId": "sage"
    }
   },
   "outputs": [],
   "source": [
    "# 85 Counting Rectangles\n",
    "def count_rec(length,width):\n",
    "    lst=[]\n",
    "    for i in range(1,length+1):\n",
    "        for j in range(1,width+1):\n",
    "            lst.append((length-i+1)*(width-j+1))\n",
    "    return sum(lst)\n",
    "\n",
    "lst=[]\n",
    "for i in range(1,100):\n",
    "    for j in range(i,100):\n",
    "        lst.append(count_rec(i,j))\n",
    "        if 1998000<count_rec(i,j)<2000000:\n",
    "            print('Dimensions of grid: '+str(i)+', '+str(j))\n",
    "lst=list(set(lst))\n",
    "lst=list(filter(lambda x:1998000<x<2000000,lst))\n",
    "lst[0]"
   ]
  },
  {
   "cell_type": "markdown",
   "metadata": {},
   "source": [
    "#### PE 86"
   ]
  },
  {
   "cell_type": "code",
   "execution_count": null,
   "metadata": {
    "vscode": {
     "languageId": "sage"
    }
   },
   "outputs": [],
   "source": [
    "def shortest_path(l,w,h):\n",
    "    return min((l+w)^2+h^2,(l+h)^2+w^2,(w+h)^2+l^2)\n",
    "def int_paths(m):\n",
    "    count=0\n",
    "    for i in range(1,m+1):\n",
    "        for j in range(i,m+1):\n",
    "            for k in range(j,m+1):\n",
    "                if is_square(shortest_path(i,j,k)):\n",
    "                    count+=1\n",
    "    return count\n",
    "int_paths(20)"
   ]
  },
  {
   "cell_type": "code",
   "execution_count": null,
   "metadata": {
    "vscode": {
     "languageId": "sage"
    }
   },
   "outputs": [],
   "source": [
    "def int_paths(m):\n",
    "    count=0\n",
    "    primitive=[sorted([i^2-j^2,2*i*j]) for i in range(1,2*isqrt(m)) for j in range(1,i) if gcd(i,j)==1 and is_odd(i-j)]\n",
    "    primitive=list(filter(lambda lst:min(lst)<=m and max(lst)<=2*m,primitive))\n",
    "    triples=[[i*triple[0],i*triple[1]] for triple in primitive for i in range(1,min(m//triple[0],2*m//triple[1])+1)]\n",
    "    for triple in triples:\n",
    "        count+=max(triple[0]-ceil(triple[1]/2)+1,0)\n",
    "        if triple[1]<=m:\n",
    "            count+=triple[0]//2\n",
    "    return count\n",
    "limit=2000\n",
    "for i in range(1,limit+1):\n",
    "    print(int_paths(i))"
   ]
  },
  {
   "cell_type": "markdown",
   "metadata": {
    "vscode": {
     "languageId": "sage"
    }
   },
   "source": [
    "#### PE 87"
   ]
  },
  {
   "cell_type": "code",
   "execution_count": null,
   "metadata": {
    "vscode": {
     "languageId": "sage"
    }
   },
   "outputs": [],
   "source": [
    "squares=[i^2 for i in prime_range(sqrt(5*10^7))]\n",
    "cubes=[i^3 for i in prime_range((5*10^7)^(1/3))]\n",
    "fourths=[i^4 for i in prime_range((5*10^7)^(1/4))]\n",
    "lst=[]\n",
    "for i in squares:\n",
    "    for j in cubes:\n",
    "        for k in fourths:\n",
    "            if i+j+k<5*10^7:\n",
    "                lst.append(i+j+k)\n",
    "            else:\n",
    "                break\n",
    "len(set(lst))"
   ]
  },
  {
   "cell_type": "code",
   "execution_count": null,
   "metadata": {
    "vscode": {
     "languageId": "sage"
    }
   },
   "outputs": [],
   "source": [
    "import itertools\n",
    "\n",
    "limit = 5*10^7\n",
    "\n",
    "results = set(\n",
    "    s for (i,j,k) in itertools.product(squares, cubes, fourths)\n",
    "    if (s := i+j+k) < limit\n",
    ")\n",
    "\n",
    "len(results)\n"
   ]
  },
  {
   "cell_type": "markdown",
   "metadata": {
    "vscode": {
     "languageId": "sage"
    }
   },
   "source": [
    "#### PE 89"
   ]
  },
  {
   "cell_type": "code",
   "execution_count": null,
   "metadata": {
    "vscode": {
     "languageId": "sage"
    }
   },
   "outputs": [],
   "source": [
    "import requests\n",
    "response = requests.get(\"https://projecteuler.net/resources/documents/0089_roman.txt\")   # Send a GET request to the URL\n",
    "content = response.text     # Read the content of the response\n",
    "content=content.split('\\n')"
   ]
  },
  {
   "cell_type": "code",
   "execution_count": null,
   "metadata": {
    "vscode": {
     "languageId": "sage"
    }
   },
   "outputs": [],
   "source": [
    "def roman_to_int(s):\n",
    "    lst=list(s)\n",
    "    num=0\n",
    "    count=0\n",
    "    for letter in lst:\n",
    "        if letter=='M':\n",
    "            num+=1000\n",
    "            count+=1\n",
    "        else:\n",
    "            break\n",
    "    lst=lst[count:]\n",
    "    if  lst!=[] and lst[0]=='C' and ('D' in lst or 'M' in lst):\n",
    "        if lst[1]=='D':\n",
    "            num+=400\n",
    "            lst=lst[2:]\n",
    "        elif lst[1]=='M':\n",
    "            num+=900\n",
    "            lst=lst[2:]\n",
    "    if 'D' in lst:\n",
    "        num+=500\n",
    "        lst=lst[1:]\n",
    "    count=0\n",
    "    for letter in lst:\n",
    "        if letter=='C':\n",
    "            num+=100\n",
    "            count+=1\n",
    "        else:\n",
    "            break\n",
    "    lst=lst[count:]\n",
    "    if  lst!=[] and lst[0]=='X' and ('L' in lst or 'C' in lst):\n",
    "        if lst[1]=='L':\n",
    "            num+=40\n",
    "            lst=lst[2:]\n",
    "        elif lst[1]=='C':\n",
    "            num+=90\n",
    "            lst=lst[2:]\n",
    "    if 'L' in lst:\n",
    "        num+=50\n",
    "        lst=lst[1:]\n",
    "    count=0\n",
    "    for letter in lst:\n",
    "        if letter=='X':\n",
    "            num+=10\n",
    "            count+=1\n",
    "        else:\n",
    "            break\n",
    "    lst=lst[count:]\n",
    "    if lst!=[] and lst[0]=='I' and ('V' in lst or 'X' in lst):\n",
    "        if lst[1]=='V':\n",
    "            num+=4\n",
    "            lst=lst[2:]\n",
    "        elif lst[1]=='X':\n",
    "            num+=9\n",
    "            lst=lst[2:]\n",
    "    if 'V' in lst:\n",
    "        num+=5\n",
    "        lst=lst[1:]\n",
    "    return num+len(lst)\n",
    "\n",
    "def int_to_roman(num):\n",
    "    lst=[]\n",
    "    for _ in range(num//1000):\n",
    "        lst.append('M')\n",
    "    num%=1000\n",
    "    if num>=900:\n",
    "        lst.append('CM')\n",
    "        num-=900\n",
    "    if num>=500:\n",
    "        lst.append('D')\n",
    "        num-=500\n",
    "    if num>=400:\n",
    "        lst.append('CD')\n",
    "        num-=400\n",
    "    for _ in range(num//100):\n",
    "        lst.append('C')\n",
    "    num%=100\n",
    "    if num>=90:\n",
    "        lst.append('XC')\n",
    "        num-=90\n",
    "    if num>=50:\n",
    "        lst.append('L')\n",
    "        num-=50\n",
    "    if num>=40:\n",
    "        lst.append('XL')\n",
    "        num-=40\n",
    "    for _ in range(num//10):\n",
    "        lst.append('X')\n",
    "    num%=10\n",
    "    if num==9:\n",
    "        return ''.join(lst)+'IX'\n",
    "    if num>=5:\n",
    "        lst.append('V')\n",
    "        num-=5\n",
    "    if num==4:\n",
    "        return ''.join(lst)+'IV'\n",
    "    for _ in range(num):\n",
    "        lst.append('I')\n",
    "    return ''.join(lst)"
   ]
  },
  {
   "cell_type": "code",
   "execution_count": null,
   "metadata": {
    "vscode": {
     "languageId": "sage"
    }
   },
   "outputs": [],
   "source": [
    "from functools import reduce\n",
    "\n",
    "# Mapping of roman symbols\n",
    "ROMAN_MAP = {\n",
    "    'I': 1, 'V': 5, 'X': 10, 'L': 50,\n",
    "    'C': 100, 'D': 500, 'M': 1000\n",
    "}\n",
    "\n",
    "# --- FP roman_to_int ---\n",
    "def roman_to_int(s: str) -> int:\n",
    "    vals = [ROMAN_MAP[ch] for ch in s]\n",
    "    # fold: if smaller before larger => subtract, else add\n",
    "    return reduce(\n",
    "        lambda acc, pair: acc + (-pair[0] if pair[0] < pair[1] else pair[0]),\n",
    "        zip(vals, vals[1:] + [0]),\n",
    "        0\n",
    "    )\n",
    "\n",
    "# --- FP int_to_roman ---\n",
    "def int_to_roman(n: int) -> str:\n",
    "    # descending ordered numeral list\n",
    "    table = [\n",
    "        (1000, \"M\"), (900, \"CM\"), (500, \"D\"), (400, \"CD\"),\n",
    "        (100, \"C\"), (90, \"XC\"), (50, \"L\"), (40, \"XL\"),\n",
    "        (10, \"X\"), (9, \"IX\"), (5, \"V\"), (4, \"IV\"), (1, \"I\")\n",
    "    ]\n",
    "    # expand by comprehension & join\n",
    "    return \"\".join(\n",
    "        numeral * (n // value) for value, numeral in table\n",
    "        if (n := n % value) is not None\n",
    "    )\n"
   ]
  },
  {
   "cell_type": "code",
   "execution_count": null,
   "metadata": {
    "vscode": {
     "languageId": "sage"
    }
   },
   "outputs": [],
   "source": [
    "count=0\n",
    "for roman in content:\n",
    "    num=roman_to_int(roman)\n",
    "    shortest=int_to_roman(num)\n",
    "    count+=len(roman)-len(shortest)\n",
    "count"
   ]
  },
  {
   "cell_type": "markdown",
   "metadata": {},
   "source": [
    "#### PE 90"
   ]
  },
  {
   "cell_type": "code",
   "execution_count": 111,
   "metadata": {
    "vscode": {
     "languageId": "sage"
    }
   },
   "outputs": [
    {
     "data": {
      "text/plain": [
       "1217"
      ]
     },
     "execution_count": 111,
     "metadata": {},
     "output_type": "execute_result"
    }
   ],
   "source": [
    "def numbers():\n",
    "    lst=[]\n",
    "    for i in range(10):\n",
    "        for j in range(i+1,10):\n",
    "            for k in range(j+1,10):\n",
    "                for l in range(k+1,10):\n",
    "                    for m in range(l+1,10):\n",
    "                        for n in range(m+1,10):\n",
    "                            lst.append([i,j,k,l,m,n])\n",
    "    return lst\n",
    "def valid(lst1,lst2):\n",
    "    if 9 in lst1:\n",
    "        lst1[-1]=6\n",
    "    if 9 in lst2:\n",
    "        lst2[-1]=6\n",
    "    lst10=0 in lst1\n",
    "    lst20=0 in lst2\n",
    "    if not lst10 and not lst20:\n",
    "        return False\n",
    "    lst1149=1 in lst1 and 4 in lst1 and 6 in lst1\n",
    "    lst2149=1 in lst2 and 4 in lst2 and 6 in lst2\n",
    "    if not lst10 and not lst1149:\n",
    "        return False\n",
    "    if not lst20 and not lst2149:\n",
    "        return False\n",
    "    if not lst1149 and not lst2149:\n",
    "        if not lst10 or not lst20:\n",
    "            return False\n",
    "        if 1 not in lst1 and 1 not in lst2:\n",
    "            return False\n",
    "        if 4 not in lst1 and 4 not in lst2:\n",
    "            return False\n",
    "        if 6 not in lst1 and 6 not in lst2:\n",
    "            return False\n",
    "    lst11=1 in lst1\n",
    "    lst21=1 in lst2\n",
    "    lst169=6 in lst1\n",
    "    lst269=6 in lst2\n",
    "    if not lst169 and not lst269:\n",
    "        return False\n",
    "    if not lst11 and not lst169:\n",
    "        return False\n",
    "    if not lst21 and not lst269:\n",
    "        return False\n",
    "    lst12=2 in lst1\n",
    "    lst22=2 in lst2\n",
    "    lst15=5 in lst1\n",
    "    lst25=5 in lst2\n",
    "    if not lst12 and not lst22:\n",
    "        return False\n",
    "    if not lst15 and not lst25:\n",
    "        return False\n",
    "    if not lst12 and not lst15:\n",
    "        return False\n",
    "    if not lst22 and not lst25:\n",
    "        return False\n",
    "    lst13=3 in lst1\n",
    "    lst23=3 in lst2\n",
    "    if not lst13 and not lst23:\n",
    "        return False\n",
    "    if not lst13 and not lst169:\n",
    "        return False\n",
    "    if not lst23 and not lst269:\n",
    "        return False\n",
    "    lst14=4 in lst1\n",
    "    lst24=4 in lst2\n",
    "    if not lst14 and not lst24:\n",
    "        return False\n",
    "    if not lst14 and not lst169:\n",
    "        return False\n",
    "    if not lst24 and not lst269:\n",
    "        return False\n",
    "    lst18=8 in lst1\n",
    "    lst28=8 in lst2\n",
    "    if not lst18 and not lst28:\n",
    "        return False\n",
    "    if not lst18 and not lst11:\n",
    "        return False\n",
    "    if not lst28 and not lst21:\n",
    "        return False\n",
    "    return True\n",
    "\n",
    "count=0\n",
    "lst1=numbers()\n",
    "lst2=numbers()\n",
    "for l1 in numbers():\n",
    "    for l2 in numbers():\n",
    "        if valid(l1,l2):\n",
    "            count+=1\n",
    "count//2"
   ]
  },
  {
   "cell_type": "markdown",
   "metadata": {
    "vscode": {
     "languageId": "sage"
    }
   },
   "source": [
    "#### PE 91"
   ]
  },
  {
   "cell_type": "code",
   "execution_count": null,
   "metadata": {
    "vscode": {
     "languageId": "sage"
    }
   },
   "outputs": [],
   "source": [
    "# 91 Right Triangles with Integer Coordinates\n",
    "def solve(n):\n",
    "    return 3*n^2+2*sum([min((i*gcd(i,j))//j,(gcd(i,j)*(n-j))//i) for j in range(1,n+1) for i in range(1,n+1)])\n",
    "solve(50)"
   ]
  },
  {
   "cell_type": "markdown",
   "metadata": {},
   "source": [
    "#### PE 92"
   ]
  },
  {
   "cell_type": "code",
   "execution_count": null,
   "metadata": {
    "vscode": {
     "languageId": "sage"
    }
   },
   "outputs": [],
   "source": [
    "#92 Square Digit Chains\n",
    "def chain(n):\n",
    "    while n!=1 and n!=89:\n",
    "        num=list(map(int, str(n)))\n",
    "        squared=0\n",
    "        for digit in num:\n",
    "            squared+=digit**2\n",
    "        n=squared\n",
    "    return n\n",
    "num_89=0\n",
    "for i in range(1, 10000000):\n",
    "    if chain(i)==89:\n",
    "        num_89+=1\n",
    "    if i%50000==0:\n",
    "        print(i)\n",
    "num_89"
   ]
  },
  {
   "cell_type": "markdown",
   "metadata": {
    "vscode": {
     "languageId": "sage"
    }
   },
   "source": [
    "#### PE 93"
   ]
  },
  {
   "cell_type": "code",
   "execution_count": null,
   "metadata": {
    "vscode": {
     "languageId": "sage"
    }
   },
   "outputs": [],
   "source": [
    "# 93 Arithmetic Expressions\n",
    "def operation(num1,op,num2):\n",
    "    if op=='+': return num1+num2\n",
    "    if op=='-': return num1-num2\n",
    "    if op=='*' or op=='x': return num1*num2\n",
    "    if op=='/':\n",
    "        if num2==0:\n",
    "            return None\n",
    "        return num1/num2\n",
    "    raise ValueError('Invalid operation')\n",
    "def evaluate_pattern1(a,op1,b,op2,c,op3,d):\n",
    "    return operation(operation(operation(a,op1,b),op2,c),op3,d)\n",
    "def evaluate_pattern2(a,op1,b,op2,c,op3,d):\n",
    "    return operation(operation(a,op1,operation(b,op2,c)),op3,d)\n",
    "def evaluate_pattern3(a,op1,b,op2,c,op3,d):\n",
    "    return operation(operation(a,op1,b),op2,operation(c,op3,d))\n",
    "def evaluate_pattern4(a,op1,b,op2,c,op3,d):\n",
    "    return operation(a,op1,operation(operation(b,op2,c),op3,d))\n",
    "def evaluate_pattern5(a,op1,b,op2,c,op3,d):\n",
    "    return operation(a,op1,operation(b,op2,operation(c,op3,d)))\n",
    "def find_values(a,b,c,d):\n",
    "    op=['+','-','x','/']\n",
    "    val=[]\n",
    "    for a,b,c,d in Permutations([a,b,c,d]):\n",
    "        for i in op:\n",
    "            for j in op:\n",
    "                for k in op:\n",
    "                    val.append(evaluate_pattern1(a,i,b,j,c,k,d))\n",
    "                    val.append(evaluate_pattern2(a,i,b,j,c,k,d))\n",
    "                    val.append(evaluate_pattern3(a,i,b,j,c,k,d))\n",
    "                    val.append(evaluate_pattern4(a,i,b,j,c,k,d))\n",
    "                    val.append(evaluate_pattern5(a,i,b,j,c,k,d))\n",
    "    val=list(set(val))\n",
    "    val=list(filter(lambda x:x>0 and x==floor(x),val))\n",
    "    return sorted(list(map(int,val)))\n",
    "\n",
    "record=0\n",
    "vals=[]\n",
    "for i in range(1,10):\n",
    "    for j in range(i+1,10):\n",
    "        for k in range(j+1,10):\n",
    "            for l in range(k+1,10):\n",
    "                current_value=0\n",
    "                lst=find_values(i,j,k,l)\n",
    "                for m in range(len(lst)):\n",
    "                    if lst[m]==m+1:\n",
    "                        current_value+=1\n",
    "                    else:\n",
    "                        break\n",
    "                vals.append((current_value,(i,j,k,l)))\n",
    "                record=max(record,current_value)\n",
    "for tup in vals:\n",
    "    if tup[0]==record:\n",
    "        print(''.join(map(str,tup[1])))"
   ]
  },
  {
   "cell_type": "markdown",
   "metadata": {
    "vscode": {
     "languageId": "sage"
    }
   },
   "source": [
    "#### PE 94\n",
    "- Use Heron's formula and optimisation.\n",
    "- Set the sum of the perimeters to 0.\n",
    "- Start from the smallest example(i=5)\n",
    "    - Check for the triangle with sides i,i,i+1 and the triangle with sides i,i,i-1\n",
    "    - Using a pattern you can manually check, jump to a point because there cannot be a triangle that meets these conditions in between\n",
    "- Display the answer"
   ]
  },
  {
   "cell_type": "code",
   "execution_count": null,
   "metadata": {
    "vscode": {
     "languageId": "sage"
    }
   },
   "outputs": [],
   "source": [
    "# 94 Almost Equilateral Triangles\n",
    "def area_squared(a,b,c):\n",
    "    s=(a+b+c)/2\n",
    "    return s*(s-a)*(s-b)*(s-c)\n",
    "i=5\n",
    "count=0\n",
    "while i<10^9//3:\n",
    "    if is_square(area_squared(i,i,i+1)):\n",
    "        print(i,i,i+1,sqrt(area_squared(i,i,i+1)))\n",
    "        count+=3*i+1\n",
    "        i*=3.73\n",
    "        i=floor(i)\n",
    "        if i%4<0:\n",
    "            i-=4\n",
    "        i-=i%4\n",
    "        i+=1\n",
    "    if is_square(area_squared(i,i,i-1)):\n",
    "        print(i,i,i-1,sqrt(area_squared(i,i,i-1)))\n",
    "        count+=3*i-1\n",
    "        i*=3.73\n",
    "        i=floor(i)\n",
    "        if i%4<0:\n",
    "            i-=4\n",
    "        i-=i%4\n",
    "        i+=1\n",
    "    i+=4\n",
    "count"
   ]
  },
  {
   "cell_type": "markdown",
   "metadata": {
    "vscode": {
     "languageId": "sage"
    }
   },
   "source": [
    "#### PE 95"
   ]
  },
  {
   "cell_type": "code",
   "execution_count": null,
   "metadata": {
    "vscode": {
     "languageId": "sage"
    }
   },
   "outputs": [],
   "source": [
    "# 95 Amicable Chains\n",
    "def ami(n):\n",
    "    return sigma(n)-n\n",
    "def amicable_chain(n,limit=10^6):\n",
    "    chain=[n,ami(n)]\n",
    "    if chain[-1]>limit:\n",
    "        return (0,0)\n",
    "    while chain[-1] not in chain[:-1]:\n",
    "        if 1 in chain:\n",
    "            return (0,0)\n",
    "        num=ami(chain[-1])\n",
    "        if num>limit:\n",
    "            return (0,0)\n",
    "        chain.append(num)\n",
    "    return (len(chain)-1,min(chain)) if chain[-1]==chain[0] else (0,0)\n",
    "l=10^5\n",
    "record=(0,0)\n",
    "for i in range(,l+1):\n",
    "    record=max(record,amicable_chain(i))\n",
    "record"
   ]
  },
  {
   "cell_type": "markdown",
   "metadata": {
    "vscode": {
     "languageId": "sage"
    }
   },
   "source": [
    "#### PE 96"
   ]
  },
  {
   "cell_type": "code",
   "execution_count": null,
   "metadata": {
    "vscode": {
     "languageId": "sage"
    }
   },
   "outputs": [],
   "source": [
    "d={0:[[0,0],[0,1],[0,2],\n",
    "      [1,0],[1,1],[1,2],\n",
    "      [2,0],[2,1],[2,2]],\n",
    "   1:[[0,3],[0,4],[0,5],\n",
    "      [1,3],[1,4],[1,5],\n",
    "      [2,3],[2,4],[2,5]],\n",
    "   2:[[0,6],[0,7],[0,8],\n",
    "      [1,6],[1,7],[1,8],\n",
    "      [2,6],[2,7],[2,8]],\n",
    "   3:[[3,0],[3,1],[3,2],\n",
    "      [4,0],[4,1],[4,2],\n",
    "      [5,0],[5,1],[5,2]],\n",
    "   4:[[3,3],[3,4],[3,5],\n",
    "      [4,3],[4,4],[4,5],\n",
    "      [5,3],[5,4],[5,5]],\n",
    "   5:[[3,6],[3,7],[3,8],\n",
    "      [4,6],[4,7],[4,8],\n",
    "      [5,6],[5,7],[5,8]],\n",
    "   6:[[6,0],[6,1],[6,2],\n",
    "      [7,0],[7,1],[7,2],\n",
    "      [8,0],[8,1],[8,2]],\n",
    "   7:[[6,3],[6,4],[6,5],\n",
    "      [7,3],[7,4],[7,5],\n",
    "      [8,3],[8,4],[8,5]],\n",
    "   8:[[6,6],[6,7],[6,8],\n",
    "      [7,6],[7,7],[7,8],\n",
    "      [8,6],[8,7],[8,8]]}\n",
    "def get_box(grid, box):\n",
    "    br, bc = divmod(box, 3)   # box -> (box-row, box-col)\n",
    "    r0, c0 = 3*br, 3*bc\n",
    "    return [grid[r][c] for r in range(r0, r0+3) for c in range(c0, c0+3)]\n",
    "def box_grid(i,j):\n",
    "    return i//3*3+j//3\n",
    "def get_box_coords(box):\n",
    "    return d[box]\n",
    "def sudoku_solve(sudoku):\n",
    "    grid=[]\n",
    "    for line in sudoku:\n",
    "        grid.append(list(map(int,line)))\n",
    "    columns=list(map(list,matrix(grid).transpose()))\n",
    "    boxes=[get_box(sudoku,i) for i in range(9)]\n",
    "    removal=[]*9\n",
    "    box=[]\n",
    "    for column in columns:\n",
    "        lst=list(set(column))\n",
    "        removal.append(lst)\n",
    "    for b in boxes:\n",
    "        lst=list(set(b))\n",
    "        box.append(lst)\n",
    "    for i in range(9):\n",
    "        lst=list(set(grid[i]))\n",
    "        lst.remove(0)\n",
    "        for j in range(9):\n",
    "            if grid[i][j]==0:\n",
    "                grid[i][j]=[1,2,3,4,5,6,7,8,9]\n",
    "                for num in lst:\n",
    "                    grid[i][j].remove(num)\n",
    "    for i in range(9):\n",
    "        for j in range(9):\n",
    "            if type(grid[i][j])==list:\n",
    "                for num in removal[j]:\n",
    "                    try:\n",
    "                        grid[i][j].remove(num)\n",
    "                    except:\n",
    "                        pass\n",
    "    for i in range(9):\n",
    "        for j in range(9):\n",
    "            if type(grid[i][j])==list:\n",
    "                for num in box[box_grid(i,j)]:\n",
    "                    try:\n",
    "                        grid[i][j].remove(num)\n",
    "                    except:\n",
    "                        pass\n",
    "    while True:\n",
    "        lst=[]\n",
    "        for i in range(9):\n",
    "            for j in range(9):\n",
    "                if type(grid[i][j])==list and len(grid[i][j])==1:\n",
    "                    lst.append([i,j,grid[i][j][0],box_grid(i,j)])\n",
    "                    grid[i][j]=grid[i][j][0]\n",
    "        if not lst:\n",
    "            return grid\n",
    "        for val in lst:\n",
    "            i=val[0]\n",
    "            j=val[1]\n",
    "            num=val[2]\n",
    "            num1=val[3]\n",
    "            for k in range(9):\n",
    "                if type(grid[i][k])==list and num in grid[i][k]:\n",
    "                    grid[i][k].remove(num)\n",
    "            for k in range(9):\n",
    "                if type(grid[k][j])==list and num in grid[k][j]:\n",
    "                    grid[k][j].remove(num)\n",
    "            for k,l in get_box_coords(num1):\n",
    "                if type(grid[k][l])==list and num in grid[k][l]:\n",
    "                    grid[k][l].remove(num)"
   ]
  },
  {
   "cell_type": "code",
   "execution_count": null,
   "metadata": {
    "vscode": {
     "languageId": "sage"
    }
   },
   "outputs": [],
   "source": [
    "from copy import deepcopy\n",
    "\n",
    "def box_id(i, j):\n",
    "    return (i // 3) * 3 + (j // 3)\n",
    "\n",
    "def box_coords_from_id(b):\n",
    "    br, bc = divmod(b, 3)\n",
    "    r0, c0 = 3*br, 3*bc\n",
    "    return [(r0 + dr, c0 + dc) for dr in range(3) for dc in range(3)]\n",
    "\n",
    "def parse_grid(sudoku):\n",
    "    \"\"\"Accepts sudoku as list of 9 strings or iterables of digits (chars or ints).\"\"\"\n",
    "    grid = []\n",
    "    for line in sudoku:\n",
    "        grid.append([int(ch) for ch in line])\n",
    "    return grid\n",
    "\n",
    "def initial_candidates(grid):\n",
    "    \"\"\"Return grid where filled cells are ints and empty cells are sets of candidates.\"\"\"\n",
    "    cand = [[None]*9 for _ in range(9)]\n",
    "    for i in range(9):\n",
    "        for j in range(9):\n",
    "            if grid[i][j] != 0:\n",
    "                cand[i][j] = grid[i][j]\n",
    "            else:\n",
    "                used = set(grid[i][k] for k in range(9) if grid[i][k] != 0)\n",
    "                used |= set(grid[k][j] for k in range(9) if grid[k][j] != 0)\n",
    "                b = box_id(i, j)\n",
    "                used |= set(grid[r][c] for r,c in box_coords_from_id(b) if grid[r][c] != 0)\n",
    "                cand[i][j] = set(range(1,10)) - used\n",
    "    return cand\n",
    "\n",
    "def assign(cand, i, j, val):\n",
    "    \"\"\"Assign a definite value to cand[i][j], propagate removal from peers.\n",
    "       Return False on contradiction, True if assignment done/ok.\n",
    "    \"\"\"\n",
    "    cur = cand[i][j]\n",
    "    if isinstance(cur, int):\n",
    "        return cur == val\n",
    "    if val not in cur:\n",
    "        return False\n",
    "    # set it\n",
    "    cand[i][j] = val\n",
    "    # remove from peers\n",
    "    for k in range(9):\n",
    "        if isinstance(cand[i][k], set) and val in cand[i][k]:\n",
    "            cand[i][k].remove(val)\n",
    "        if isinstance(cand[k][j], set) and val in cand[k][j]:\n",
    "            cand[k][j].remove(val)\n",
    "    for r,c in box_coords_from_id(box_id(i,j)):\n",
    "        if isinstance(cand[r][c], set) and val in cand[r][c]:\n",
    "            cand[r][c].remove(val)\n",
    "    return True\n",
    "\n",
    "def propagate(cand):\n",
    "    \"\"\"Iteratively apply naked singles and hidden singles until no change.\n",
    "       Returns False if contradiction found (empty candidate set), else cand.\n",
    "    \"\"\"\n",
    "    while True:\n",
    "        changed = False\n",
    "\n",
    "        # 1) naked singles: assign any cell with single candidate\n",
    "        for i in range(9):\n",
    "            for j in range(9):\n",
    "                if isinstance(cand[i][j], set):\n",
    "                    if len(cand[i][j]) == 0:\n",
    "                        return False\n",
    "                    if len(cand[i][j]) == 1:\n",
    "                        val = next(iter(cand[i][j]))\n",
    "                        ok = assign(cand, i, j, val)\n",
    "                        if not ok:\n",
    "                            return False\n",
    "                        changed = True\n",
    "\n",
    "        # 2) hidden singles in rows\n",
    "        for i in range(9):\n",
    "            counts = {n: [] for n in range(1,10)}\n",
    "            for j in range(9):\n",
    "                if isinstance(cand[i][j], set):\n",
    "                    for n in cand[i][j]:\n",
    "                        counts[n].append((i,j))\n",
    "            for n, cells in counts.items():\n",
    "                if len(cells) == 1:\n",
    "                    r,c = cells[0]\n",
    "                    if isinstance(cand[r][c], set):\n",
    "                        ok = assign(cand, r, c, n)\n",
    "                        if not ok:\n",
    "                            return False\n",
    "                        changed = True\n",
    "\n",
    "        # 3) hidden singles in columns\n",
    "        for j in range(9):\n",
    "            counts = {n: [] for n in range(1,10)}\n",
    "            for i in range(9):\n",
    "                if isinstance(cand[i][j], set):\n",
    "                    for n in cand[i][j]:\n",
    "                        counts[n].append((i,j))\n",
    "            for n, cells in counts.items():\n",
    "                if len(cells) == 1:\n",
    "                    r,c = cells[0]\n",
    "                    if isinstance(cand[r][c], set):\n",
    "                        ok = assign(cand, r, c, n)\n",
    "                        if not ok:\n",
    "                            return False\n",
    "                        changed = True\n",
    "\n",
    "        # 4) hidden singles in boxes\n",
    "        for b in range(9):\n",
    "            counts = {n: [] for n in range(1,10)}\n",
    "            for r,c in box_coords_from_id(b):\n",
    "                if isinstance(cand[r][c], set):\n",
    "                    for n in cand[r][c]:\n",
    "                        counts[n].append((r,c))\n",
    "            for n, cells in counts.items():\n",
    "                if len(cells) == 1:\n",
    "                    r,c = cells[0]\n",
    "                    if isinstance(cand[r][c], set):\n",
    "                        ok = assign(cand, r, c, n)\n",
    "                        if not ok:\n",
    "                            return False\n",
    "                        changed = True\n",
    "\n",
    "        if not changed:\n",
    "            break\n",
    "    return cand\n",
    "\n",
    "def is_solved(cand):\n",
    "    return all(isinstance(cand[i][j], int) for i in range(9) for j in range(9))\n",
    "\n",
    "def deep_solve(cand):\n",
    "    \"\"\"Backtracking search using propagation. Return solved grid or None.\"\"\"\n",
    "    cand = propagate(cand)\n",
    "    if cand is False:\n",
    "        return None\n",
    "    if is_solved(cand):\n",
    "        return cand\n",
    "    # pick unfilled cell with fewest candidates\n",
    "    best = None\n",
    "    best_len = 10\n",
    "    for i in range(9):\n",
    "        for j in range(9):\n",
    "            if isinstance(cand[i][j], set):\n",
    "                l = len(cand[i][j])\n",
    "                if l < best_len:\n",
    "                    best_len = l\n",
    "                    best = (i,j)\n",
    "    if best is None:\n",
    "        return None\n",
    "    i,j = best\n",
    "    for val in sorted(cand[i][j]):\n",
    "        cand_copy = deepcopy(cand)\n",
    "        ok = assign(cand_copy, i, j, val)\n",
    "        if not ok:\n",
    "            continue\n",
    "        result = deep_solve(cand_copy)\n",
    "        if result is not None:\n",
    "            return result\n",
    "    return None\n",
    "\n",
    "def sudoku_solve(sudoku, do_backtrack=True):\n",
    "    grid = parse_grid(sudoku)\n",
    "    cand = initial_candidates(grid)\n",
    "    solved = propagate(cand)\n",
    "    if solved is False:\n",
    "        return None\n",
    "    if is_solved(solved):\n",
    "        return solved\n",
    "    if do_backtrack:\n",
    "        return deep_solve(solved)\n",
    "    return solved  # partial grid with candidate sets\n"
   ]
  },
  {
   "cell_type": "code",
   "execution_count": null,
   "metadata": {
    "vscode": {
     "languageId": "sage"
    }
   },
   "outputs": [],
   "source": [
    "import requests\n",
    "response = requests.get(\"https://projecteuler.net/resources/documents/0096_sudoku.txt\")   # Send a GET request to the URL\n",
    "content = response.text     # Read the content of the response\n",
    "content=content.split('\\n')\n",
    "count=0\n",
    "content=content[1:]\n",
    "for _ in range(50):\n",
    "    lst=[list(map(int,row)) for row in content[:9]]\n",
    "    content=content[10:]\n",
    "    solved=sudoku(matrix(lst))\n",
    "    count+=int(str(solved[0][0])+str(solved[0][1])+str(solved[0][2]))\n",
    "count"
   ]
  },
  {
   "cell_type": "code",
   "execution_count": null,
   "metadata": {
    "vscode": {
     "languageId": "sage"
    }
   },
   "outputs": [],
   "source": [
    "import requests\n",
    "response = requests.get(\"https://projecteuler.net/resources/documents/0096_sudoku.txt\")   # Send a GET request to the URL\n",
    "content = response.text     # Read the content of the response\n",
    "content=content.split('\\n')\n",
    "count=0\n",
    "content=content[1:]\n",
    "for _ in range(50):\n",
    "    sudoku=sudoku_solve(content[:9])\n",
    "    count+=int(str(sudoku[0][0])+str(sudoku[0][1])+str(sudoku[0][2]))\n",
    "    content=content[10:]\n",
    "count"
   ]
  },
  {
   "cell_type": "markdown",
   "metadata": {
    "vscode": {
     "languageId": "sage"
    }
   },
   "source": [
    "#### PE 98\n",
    "Take notes"
   ]
  },
  {
   "cell_type": "code",
   "execution_count": null,
   "metadata": {
    "vscode": {
     "languageId": "sage"
    }
   },
   "outputs": [],
   "source": [
    "# 98 Anagramic Squares\n",
    "# import requests\n",
    "# response = requests.get(\"https://projecteuler.net/resources/documents/0098_words.txt\")   # Send a GET request to the URL\n",
    "# content = response.text     # Read the content of the response\n",
    "lst=content.split(',')\n",
    "lst=[word[1:-1] for word in lst]\n",
    "letter_list=[sorted(list(word)) for word in lst]\n",
    "new_lst=[]\n",
    "for i in range(len(lst)):\n",
    "    if letter_list.count(letter_list[i])>1:\n",
    "        new_lst.append(lst[i])\n",
    "# squares=[i^2 for i in range(4,31623)]\n",
    "# number_squares=[sorted(list(str(num))) for num in squares]\n",
    "# new_squares=[]\n",
    "# for i in range(len(squares)):\n",
    "#     print(i)\n",
    "#     if number_squares.count(number_squares[i])>1:\n",
    "#         new_squares.append(squares[i])\n",
    "# new_squares\n",
    "new_lst.sort(key=len)\n",
    "new_lst=new_lst[14:] # delete NO and ON because two digit square anagrams don't exist\n",
    "new_lst.reverse()\n",
    "new_lst"
   ]
  },
  {
   "cell_type": "code",
   "execution_count": null,
   "metadata": {
    "vscode": {
     "languageId": "sage"
    }
   },
   "outputs": [],
   "source": [
    "pairing={}\n",
    "for word1 in new_lst:\n",
    "    for word2 in new_lst:\n",
    "        if sorted(word1)==sorted(word2):\n",
    "            pairing.update({word1:word2})\n",
    "            break\n",
    "new_pairing={}\n",
    "for word in pairing:\n",
    "    if pairing[word]!=word:\n",
    "        new_pairing.update({word:pairing[word]})\n",
    "new_pairing"
   ]
  },
  {
   "cell_type": "code",
   "execution_count": 53,
   "metadata": {
    "vscode": {
     "languageId": "sage"
    }
   },
   "outputs": [
    {
     "data": {
      "text/plain": [
       "[1, 2, 3, 0, 4, 5, 6, 7]"
      ]
     },
     "execution_count": 53,
     "metadata": {},
     "output_type": "execute_result"
    }
   ],
   "source": [
    "pattern('CREATION')"
   ]
  },
  {
   "cell_type": "code",
   "execution_count": 50,
   "metadata": {
    "vscode": {
     "languageId": "sage"
    }
   },
   "outputs": [],
   "source": [
    "def pattern(word):\n",
    "    lst1=list(word)\n",
    "    lst2=list(new_pairing[word])\n",
    "    ans=[]\n",
    "    for letter in lst2:\n",
    "        ans.append(lst1.index(letter))\n",
    "    return ans"
   ]
  },
  {
   "cell_type": "code",
   "execution_count": 57,
   "metadata": {
    "vscode": {
     "languageId": "sage"
    }
   },
   "outputs": [
    {
     "data": {
      "text/plain": [
       "[2, 1, 0, 3]"
      ]
     },
     "execution_count": 57,
     "metadata": {},
     "output_type": "execute_result"
    }
   ],
   "source": [
    "pattern('CARE')"
   ]
  },
  {
   "cell_type": "code",
   "execution_count": 71,
   "metadata": {
    "vscode": {
     "languageId": "sage"
    }
   },
   "outputs": [
    {
     "name": "stdout",
     "output_type": "stream",
     "text": [
      "CREATION\n",
      "REACTION\n",
      "5184729\n",
      "80514729\n",
      "BOARD\n",
      "BROAD\n",
      "18769\n",
      "17689\n",
      "SHUT\n",
      "THUS\n",
      "1764\n",
      "4761\n",
      "SHUT\n",
      "THUS\n",
      "4761\n",
      "1764\n",
      "RATE\n",
      "TEAR\n",
      "9604\n",
      "4096\n",
      "RATE\n",
      "TEAR\n",
      "2401\n",
      "1024\n",
      "POST\n",
      "STOP\n",
      "9604\n",
      "4096\n",
      "POST\n",
      "STOP\n",
      "2401\n",
      "1024\n",
      "NOTE\n",
      "TONE\n",
      "1296\n",
      "9216\n",
      "NOTE\n",
      "TONE\n",
      "9216\n",
      "1296\n",
      "MEAN\n",
      "NAME\n",
      "4096\n",
      "9604\n",
      "MEAN\n",
      "NAME\n",
      "1024\n",
      "2401\n",
      "MALE\n",
      "MEAL\n",
      "1936\n",
      "1369\n",
      "HATE\n",
      "HEAT\n",
      "1936\n",
      "1369\n",
      "FILE\n",
      "LIFE\n",
      "1296\n",
      "9216\n",
      "FILE\n",
      "LIFE\n",
      "9216\n",
      "1296\n",
      "EAST\n",
      "SEAT\n",
      "1296\n",
      "2916\n",
      "DEAL\n",
      "LEAD\n",
      "1764\n",
      "4761\n",
      "DEAL\n",
      "LEAD\n",
      "4761\n",
      "1764\n",
      "CARE\n",
      "RACE\n",
      "1296\n",
      "9216\n",
      "CARE\n",
      "RACE\n",
      "9216\n",
      "1296\n"
     ]
    }
   ],
   "source": [
    "for word in new_pairing:\n",
    "    for num in new_squares:\n",
    "        sn=str(num)\n",
    "        if len(sn)==len(word):\n",
    "            new_s=''\n",
    "            pat=pattern(word)\n",
    "            for idx in pat:\n",
    "                new_s+=sn[idx]\n",
    "            new_sn=int(new_s)\n",
    "            if is_square(new_sn) and sorted(list(sn))==sorted(list(set(sn))):\n",
    "                print(word)\n",
    "                print(new_pairing[word])\n",
    "                print(new_sn)\n",
    "                print(int(sn))"
   ]
  },
  {
   "cell_type": "markdown",
   "metadata": {},
   "source": [
    "#### PE 99\n",
    "In this question, I learned Ordinal theory (VS. Cardinal theory):\n",
    "\n",
    "- Ordinal data only introduces a ordering/ranking (e.g. A>B), but we don't know how large A or B is.\n",
    "- Cardinal further tell 'how many' of each thing, or showing quantity (e.g. 2>1)\n",
    "\n",
    "When comparing huge numbers, I don't need to know 'how many' they are, I just need to where they are (their ranking). So I can use log to shrink their coordinates: \n",
    "\n",
    "$$base^{exponent} =e^{exponent⋅log(base)}$$\n"
   ]
  },
  {
   "cell_type": "code",
   "execution_count": null,
   "metadata": {
    "vscode": {
     "languageId": "sage"
    }
   },
   "outputs": [],
   "source": [
    "# 99 Largest Exponential\n",
    "import sys\n",
    "import requests\n",
    "# sys.set_int_max_str_digits(4000000)\n",
    "response = requests.get(\"https://projecteuler.net/resources/documents/0099_base_exp.txt\")\n",
    "content = response.text     # Read the content of the response\n",
    "# Split the data into lines\n",
    "lines = content.strip().split(\"\\n\")\n",
    "\n",
    "column1 = []\n",
    "column2 = []\n",
    "\n",
    "for line in lines:\n",
    "    # Split the line by the comma and convert to integers\n",
    "    num1, num2 = map(int, line.split(\",\"))\n",
    "    # Append the numbers to the respective lists\n",
    "    column1.append(num1)\n",
    "    column2.append(num2)\n",
    "\n",
    "record=[1,1,0]\n",
    "\n",
    "for i in range(1000):\n",
    "    if np.log(record[0])*record[1]<np.log(column1[i])*column2[i]:\n",
    "        record[0]=column1[i]\n",
    "        record[1]=column2[i]\n",
    "        record[2]=i+1\n",
    "record[2]"
   ]
  },
  {
   "cell_type": "code",
   "execution_count": null,
   "metadata": {
    "vscode": {
     "languageId": "sage"
    }
   },
   "outputs": [],
   "source": [
    "(* 99 Largest Exponential\n",
    "   [[2]] denotes the 2nd item in {{1,2},{1,2}} *)\n",
    "data = Import[\"https://projecteuler.net/resources/documents/0099_base_exp.txt\", \"CSV\"];\n",
    "new = Map[#[[2]] * Log[#[[1]]] &, data];\n",
    "Position[new, Max[new]]"
   ]
  },
  {
   "cell_type": "code",
   "execution_count": null,
   "metadata": {
    "vscode": {
     "languageId": "sage"
    }
   },
   "outputs": [],
   "source": [
    "881418**505504>960290**502358"
   ]
  },
  {
   "cell_type": "markdown",
   "metadata": {
    "vscode": {
     "languageId": "sage"
    }
   },
   "source": [
    "#### PE 100"
   ]
  },
  {
   "cell_type": "code",
   "execution_count": null,
   "metadata": {
    "vscode": {
     "languageId": "sage"
    }
   },
   "outputs": [],
   "source": [
    "def blue(k):\n",
    "    return 1 if k==1 else 3*blue(k-1)+2*total(k-1)-2\n",
    "def total(k):\n",
    "    return 1 if k==1 else 4*blue(k-1)+3*total(k-1)-3\n",
    "for i in range(1,21):\n",
    "    if total(i)>10^12:\n",
    "        print(blue(i))\n",
    "        break"
   ]
  }
 ],
 "metadata": {
  "kernelspec": {
   "display_name": "SageMath 10.6",
   "language": "sage",
   "name": "sagemath"
  },
  "language_info": {
   "codemirror_mode": {
    "name": "ipython",
    "version": 3
   },
   "file_extension": ".py",
   "mimetype": "text/x-python",
   "name": "python",
   "nbconvert_exporter": "python",
   "pygments_lexer": "ipython3",
   "version": "3.12.10"
  }
 },
 "nbformat": 4,
 "nbformat_minor": 2
}
