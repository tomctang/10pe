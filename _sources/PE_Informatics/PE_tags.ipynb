{
 "cells": [
  {
   "cell_type": "markdown",
   "id": "86450867",
   "metadata": {},
   "source": [
    "# Project Euler Tags"
   ]
  },
  {
   "cell_type": "code",
   "execution_count": null,
   "id": "b0462c3d",
   "metadata": {},
   "outputs": [],
   "source": [
    "aa=['analytic-geometry', 'area', 'arithmetic-operator', 'arithmetic-progression', 'asymptotics', 'binary-equation', 'binary-operator', 'binomial-coefficient', 'bisection', 'calendar', 'cards', 'chess', 'chinese-remainder-theorem', 'circle', 'circumcircle', 'collatz-sequence', 'colouring', 'combinatorics', 'complex-number', 'connectivity', 'continued-fraction', 'convexity', 'coordinate-system', 'coprime-numbers', 'cryptography', 'cube-number', 'cube-root', 'cycle', 'decimal-representation', 'digit-manipulation', 'digit-sum', 'diophantine-equation', 'dirichlet-convolution', 'divisibility', 'divisor-count', 'divisor-sum', 'ellipse', 'euclidean-algorithm', 'expectation', 'exponentiation-by-squaring', 'factorial', 'factorisation', 'fibonacci-number', 'figurate-number', 'fraction', 'game', 'gaussian-integer', 'gcd', 'geometric-progression', 'geometry', 'golden-ratio', 'graph', 'grid-pattern', 'harmonic-number', 'herons-formula', 'hexagon', 'hexagonal-lattice', 'huffman-code', 'incircle', 'interpolation', 'iterated-polynomial', 'iterative-method', 'lambda-calculus', 'large-numbers', 'lattice', 'lattice-point-counting', 'lcm', 'lexicographic-ordering', 'linear-recurrence', 'longest-path', 'lucas-number', 'markov-chain', 'matrix', 'mobius-function', 'modular-arithmetic', 'modular-inverse', 'modular-root', 'multiplicative-function', 'multiplicative-order', 'multiset', 'nim', 'non-discrete', 'number-base', 'optimisation', 'p-adic-number', 'p-adic-valuation', 'packing', 'palindrome', 'pandigital', 'parametrisation', 'partisan-game', 'partition', 'path-finding', 'pattern-matching', 'pells-equation', 'periodicity', 'permutation', 'physics', 'polygon', 'polynomial', 'popcount', 'power', 'prime-counting', 'prime-number', 'probability', 'pythagorean-theorem', 'pythagorean-triple', 'quadratic-equation', 'random-walk', 'recurring-decimal', 'recursion', 'roman-numeral', 'sequence', 'sequence-generator', 'sequence-summation', 'shortest-path', 'smooth-number', 'sorting', 'spanning-tree', 'sphere', 'square', 'square-number', 'square-root', 'squarefree-number', 'state-machine', 'stern-brocot-tree', 'sublinear-number-theoretic-summation', 'subset', 'substring', 'sum-of-powers', 'sum-of-squares', 'tangency', 'thue-morse-sequence', 'tiling', 'totient-function', 'travelling-salesman', 'tree', 'triangle', 'triangle-number', 'trigonometry', 'volume', 'word-problem', 'xor', 'young-tableau', 'zeckendorf-representation']"
   ]
  },
  {
   "cell_type": "markdown",
   "id": "9a842dd2",
   "metadata": {},
   "source": [
    "## Number Theory\n"
   ]
  },
  {
   "cell_type": "markdown",
   "id": "63ccb2f7",
   "metadata": {},
   "source": [
    "| 1.Divisibility & Modular Arithmetic    | PE   |\n",
    "|:-------------------------------------|:--------|\n",
    "| divisibility                         |47        |\n",
    "| divisor-count                        |179         |\n",
    "| divisor-sum                          |         |\n",
    "| euclidean-algorithm                  |         |\n",
    "| factorisation                        |187         |\n",
    "| fraction                             |71         |\n",
    "| gcd                                  |         |\n",
    "| lcm                                  |         |\n",
    "| modular-arithmetic                   |48        |\n",
    "| modular-inverse                      |         |\n",
    "| modular-root                         |         |\n",
    "| **2.Multiplicative & Additive Functions**  |    |\n",
    "| dirichlet-convolution                |         |\n",
    "| mobius-function                      |         |\n",
    "| multiplicative-function              |         |\n",
    "| multiplicative-order                 |         |\n",
    "| totient-function                     |         |\n",
    "| sublinear-number-theoretic-summation |         |\n",
    "| **3.Special Number Systems & Representations**  |    |\n",
    "| chinese-remainder-theorem            |         |\n",
    "| p-adic-number                        |         |\n",
    "| p-adic-valuation                     |         |\n",
    "| zeckendorf-representation            |         |\n",
    "| roman-numeral                        |         |\n",
    "| number-base                          |         |\n",
    "| decimal-representation               |         |\n",
    "| recurring-decimal                    |         |\n",
    "| **4.Prime & Smooth Numbers**  |    |\n",
    "| prime-counting                       |         |\n",
    "| prime-number                         |50,60,97         |\n",
    "| coprime-number                       |69         |\n",
    "| smooth-number                        |         |\n",
    "| squarefree-number                    |         |\n",
    "| **5.Diophantine & Classical Equations**  |    |\n",
    "| diophantine-equation                 |         |\n",
    "| pells-equation                       |         |\n",
    "| quadratic-equation                   |         |"
   ]
  },
  {
   "cell_type": "markdown",
   "id": "cdb6985f",
   "metadata": {},
   "source": [
    "## Algebra, Arithmetic & Sequences"
   ]
  },
  {
   "cell_type": "markdown",
   "id": "5b70e44e",
   "metadata": {},
   "source": [
    "| 1.Basic Arithmetic & Operators    | PE   |\n",
    "|:-------------------------------------|:--------|\n",
    "| arithmetic-operator                  |         |\n",
    "| binary-operator                      |         |\n",
    "| power                                |63,99         |\n",
    "| factorial                            |74         |\n",
    "| exponentiation-by-squaring           |         |\n",
    "| **2.Progressions & Series** ||\n",
    "| arithmetic-progression               |         |\n",
    "| geometric-progression                |         |\n",
    "| harmonic-number                      |         |\n",
    "| asymptotics                          |         |\n",
    "|**3.Polynomial & Algebraic Structures** ||\n",
    "| binary-equation                      |         |\n",
    "| binomial-coefficient                 |         |\n",
    "| polynomial                           |         |\n",
    "| interpolation                        |         |\n",
    "| parametrisation                      |         |\n",
    "| gaussian-integer                     |         |\n",
    "| complex-number                       |         |\n",
    "| linear-recurrence                    |         |\n",
    "| matrix                               |         |\n",
    "|**4.Special Numbers** ||\n",
    "| cube-number                          |62         |\n",
    "| cube-root                            |         |\n",
    "| square-number                        |46,         |\n",
    "| square-root                          |80         |\n",
    "| figurate-number                      |42(triangle-number),44(pentagon-number),45        |\n",
    "| fibonacci-number                     |         |\n",
    "| lucas-number                         |         |\n",
    "|**5.Sequences & Recurrence** ||\n",
    "| collatz-sequence                     |         |\n",
    "| continued-fraction                   |57,65         |\n",
    "| iterated-polynomial                  |         |\n",
    "| recursion                            |         |\n",
    "| sequence                             |         |\n",
    "| sequence-generator                   |         |\n",
    "| sequence-summation                   |         |\n",
    "| sum-of-powers                        |         |\n",
    "| sum-of-squares                       |         |\n",
    "| thue-morse-sequence                  |         |\n",
    "| stern-brocot-tree                    |         |\n",
    "| young-tableau                        |         |\n",
    "|**6.Number Manipulations & Properties**||\n",
    "| digit-manipulation                   |52,112,145         |\n",
    "| digit-sum                            |92         |\n",
    "| palindrome                           |55         |\n",
    "| pandigital                           |41,43        |\n",
    "| popcount                             |         |\n",
    "| lexicographic-ordering               |         |"
   ]
  },
  {
   "cell_type": "markdown",
   "id": "41abbf49",
   "metadata": {},
   "source": [
    "## Geometry & Trigonometry\n"
   ]
  },
  {
   "cell_type": "markdown",
   "id": "453ea319",
   "metadata": {},
   "source": [
    "| 1.Euclidean Geometry    | PE   |\n",
    "|:-------------------------------------|:--------|\n",
    "| analytic-geometry                    |102         |\n",
    "| geometry                             |85         |\n",
    "| circle                               |         |\n",
    "| ellipse                              |         |\n",
    "| polygon                              |         |\n",
    "| sphere                               |         |\n",
    "| square                               |         |\n",
    "| triangle                             |         |\n",
    "| volume                               |         |\n",
    "| area                                 |         |\n",
    "| **2.Special Constructions & Properties**    |    |\n",
    "| circumcircle                         |         |\n",
    "| incircle                             |         |\n",
    "| tangency                             |         |\n",
    "| herons-formula                       |         |\n",
    "| golden-ratio                         |         |\n",
    "| **3.Lattice & Discrete Geometry**    |    |\n",
    "| convexity                            |         |\n",
    "| coordinate-system                    |         |\n",
    "| lattice                              |         |\n",
    "| lattice-point-counting               |         |\n",
    "| packing                              |         |\n",
    "| hexagonal-lattice                    |         |\n",
    "| hexagon                              |         |\n",
    "| grid-pattern                         |58         |\n",
    "| **4.Trigonometry**    |    |\n",
    "| trigonometry                         |         |\n",
    "| pythagorean-theorem                  |         |\n",
    "| pythagorean-triple                   |         |"
   ]
  },
  {
   "cell_type": "markdown",
   "id": "67d79485",
   "metadata": {},
   "source": [
    "## Combinatorics & Probability"
   ]
  },
  {
   "cell_type": "markdown",
   "id": "c9a0a0b8",
   "metadata": {},
   "source": [
    "| 1.Counting & Structures    | PE   |\n",
    "|:-------------------------------------|:--------|\n",
    "| combinatorics                        |53,67         |\n",
    "| subset                               |         |\n",
    "| partition                            |76         |\n",
    "| permutation                          |49,79         |\n",
    "| multiset                             |         |\n",
    "|**2.Probability & Randomness**||\n",
    "| probability                          |         |\n",
    "| expectation                          |         |\n",
    "| random-walk                          |         |\n",
    "| markov-chain                         |         |\n",
    "|**3.Coding & Information Theory**||\n",
    "| huffman-code                         |         |\n",
    "| pattern-matching                     |         |\n",
    "|**4.Games & Strategies**||\n",
    "| game                                 |54,205         |\n",
    "| partisan-game                        |         |\n",
    "| nim                                  |         |\n",
    "| colouring                            |         |\n",
    "| cards                                |         |\n",
    "| chess                                |         |"
   ]
  },
  {
   "cell_type": "markdown",
   "id": "c6b0cf22",
   "metadata": {},
   "source": [
    "## Graph Theory & Algorithms"
   ]
  },
  {
   "cell_type": "markdown",
   "id": "5c5477cd",
   "metadata": {},
   "source": [
    "| 1.Graphs & Networks   | PE   |\n",
    "|:-------------------------------------|:--------|\n",
    "| graph                                |         |\n",
    "| connectivity                         |         |\n",
    "| spanning-tree                        |         |\n",
    "| tree                                 |         |\n",
    "|**2.Path Problems**||\n",
    "| path-finding                         |81         |\n",
    "| shortest-path                        |         |\n",
    "| longest-path                         |         |\n",
    "| travelling-salesman                  |         |\n",
    "|**3.Automata & State Models**||\n",
    "| state-machine                        |         |"
   ]
  },
  {
   "cell_type": "markdown",
   "id": "e5c2a7e7",
   "metadata": {},
   "source": [
    "## Computational Methods & Algorithms"
   ]
  },
  {
   "cell_type": "markdown",
   "id": "c1b07f77",
   "metadata": {},
   "source": [
    "\n",
    "| 1.Iterative & Approximation Methods   | PE   |\n",
    "|:-------------------------------------|:--------|\n",
    "| bisection                            |         |\n",
    "| iterative-method                     |         |\n",
    "| optimisation                         |         |\n",
    "|**2.Data Structures & Ordering**||\n",
    "| sorting                              |         |\n",
    "| substring                            |         |\n",
    "| word-problem                         |         |\n",
    "| lexicographic-ordering (cross-listed) |         |\n",
    "|**3.Large-Scale Computation**||\n",
    "| large-numbers                        |48,56         |\n",
    "| non-discrete                         |         |\n",
    "|**4.Logic & Formal Systems**||\n",
    "| lambda-calculus                      |         |\n",
    "| complex-number (also algebra)          |         |\n",
    "\n"
   ]
  },
  {
   "cell_type": "markdown",
   "id": "a959e8f5",
   "metadata": {},
   "source": [
    "## Applied / Miscellaneous\n"
   ]
  },
  {
   "cell_type": "markdown",
   "id": "8ce4dcd1",
   "metadata": {},
   "source": [
    "|    | PE   |\n",
    "|:-------------------------------------|:--------|\n",
    "| physics                              |         |\n",
    "| calendar                             |         |\n",
    "| colouring (also games)                |         |\n",
    "| xor                                  |        |\n",
    "| cryptography                         |59        |"
   ]
  }
 ],
 "metadata": {
  "kernelspec": {
   "display_name": "base",
   "language": "python",
   "name": "python3"
  },
  "language_info": {
   "codemirror_mode": {
    "name": "ipython",
    "version": 3
   },
   "file_extension": ".py",
   "mimetype": "text/x-python",
   "name": "python",
   "nbconvert_exporter": "python",
   "pygments_lexer": "ipython3",
   "version": "3.13.2"
  }
 },
 "nbformat": 4,
 "nbformat_minor": 5
}
