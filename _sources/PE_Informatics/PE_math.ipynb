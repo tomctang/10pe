{
 "cells": [
  {
   "cell_type": "markdown",
   "id": "53b270dd",
   "metadata": {},
   "source": [
    "# Project Euler Math"
   ]
  },
  {
   "cell_type": "markdown",
   "id": "54494d1a",
   "metadata": {},
   "source": [
    "## Number Theory\n"
   ]
  },
  {
   "cell_type": "markdown",
   "id": "8b34f9ef",
   "metadata": {},
   "source": [
    "1.Divisibility & Modular Arithmetic\n",
    "\n",
    "**2.Multiplicative & Additive Functions**  \n",
    "\n",
    "\n",
    "\n",
    "**3.Special Number Systems & Representations**  \n",
    "\n",
    "\n",
    "**4.Prime & Smooth Numbers**  \n",
    "\n",
    "**5.Diophantine & Classical Equations**  \n",
    "\n"
   ]
  },
  {
   "cell_type": "markdown",
   "id": "d294e52e",
   "metadata": {},
   "source": [
    "## Algebra, Arithmetic & Sequences"
   ]
  },
  {
   "cell_type": "markdown",
   "id": "ee94fe62",
   "metadata": {},
   "source": [
    "1.Basic Arithmetic & Operators   \n",
    "\n",
    "**2.Progressions & Series** \n",
    "\n",
    "**3.Polynomial & Algebraic Structures** \n",
    "\n",
    "**4.Special Numbers** \n",
    "\n",
    "**5.Sequences & Recurrence**\n",
    "\n",
    "**6.Number Manipulations & Properties**\n"
   ]
  },
  {
   "cell_type": "markdown",
   "id": "479af694",
   "metadata": {},
   "source": [
    "## Geometry & Trigonometry\n"
   ]
  },
  {
   "cell_type": "markdown",
   "id": "5270f0c6",
   "metadata": {},
   "source": [
    "1.Euclidean Geometry  \n",
    "\n",
    "**2.Special Constructions & Properties**   \n",
    "\n",
    "**3.Lattice & Discrete Geometry**    \n",
    "\n",
    "**4.Trigonometry**    "
   ]
  },
  {
   "cell_type": "markdown",
   "id": "d7ebf513",
   "metadata": {},
   "source": [
    "## Combinatorics & Probability"
   ]
  },
  {
   "cell_type": "markdown",
   "id": "dc3e1646",
   "metadata": {},
   "source": [
    "1.Counting & Structures  \n",
    "\n",
    "**2.Probability & Randomness**\n",
    "\n",
    "**3.Coding & Information Theory**\n",
    "\n",
    "**4.Games & Strategies**"
   ]
  },
  {
   "cell_type": "markdown",
   "id": "7a5df484",
   "metadata": {},
   "source": [
    "## Graph Theory & Algorithms"
   ]
  },
  {
   "cell_type": "markdown",
   "id": "284d319f",
   "metadata": {},
   "source": [
    "1.Graphs & Networks  \n",
    "\n",
    "**2.Path Problems**\n",
    "\n",
    "**3.Automata & State Models**\n"
   ]
  },
  {
   "cell_type": "markdown",
   "id": "42269f89",
   "metadata": {},
   "source": [
    "## Computational Methods & Algorithms"
   ]
  },
  {
   "cell_type": "markdown",
   "id": "f20bd5d5",
   "metadata": {},
   "source": [
    "1.Iterative & Approximation Methods   \n",
    "\n",
    "**2.Data Structures & Ordering**\n",
    "\n",
    "**3.Large-Scale Computation**\n",
    "\n",
    "**4.Logic & Formal Systems**\n",
    "\n"
   ]
  },
  {
   "cell_type": "markdown",
   "id": "b0c9ae76",
   "metadata": {},
   "source": [
    "## Applied / Miscellaneous\n"
   ]
  },
  {
   "cell_type": "markdown",
   "id": "c77bb931",
   "metadata": {},
   "source": [
    "physics                             \n",
    "calendar                            \n",
    "colouring (also games)            \n",
    "xor                            \n",
    "cryptography                  "
   ]
  }
 ],
 "metadata": {
  "language_info": {
   "name": "python"
  }
 },
 "nbformat": 4,
 "nbformat_minor": 5
}
