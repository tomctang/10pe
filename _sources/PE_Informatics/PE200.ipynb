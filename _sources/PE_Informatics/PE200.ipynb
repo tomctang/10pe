{
 "cells": [
  {
   "cell_type": "markdown",
   "metadata": {},
   "source": [
    "# Project Euler Q101-"
   ]
  },
  {
   "cell_type": "code",
   "execution_count": null,
   "metadata": {},
   "outputs": [],
   "source": [
    "%run PE_pre_running.py"
   ]
  },
  {
   "cell_type": "markdown",
   "metadata": {},
   "source": [
    "<img src=\"https://raw.githubusercontent.com/tomctang/NB_img/main/PEprogress.png\" alt=\"PE\" width=\"700\">"
   ]
  },
  {
   "cell_type": "markdown",
   "metadata": {},
   "source": [
    "#### PE 101"
   ]
  },
  {
   "cell_type": "code",
   "execution_count": null,
   "metadata": {},
   "outputs": [],
   "source": [
    "# 101 Optimum Polynomial\n",
    "def pronumeral(terms):\n",
    "    lst=terms\n",
    "    for _ in range(len(terms)-1):\n",
    "        lst=[lst[i+1]-lst[i] for i in range(len(lst)-1)]\n",
    "    return lst[0]\n",
    "def calculate(terms,i,polynomial):\n",
    "    terms1=[polynomial(i) for i in range(1,i+2)]\n",
    "    fterm=pronumeral(terms)\n",
    "    gterm=pronumeral(terms1)\n",
    "    return (fterm-gterm)/factorial(i)\n",
    "def op(terms):\n",
    "    polynomial(x)=0\n",
    "    for i in range(len(terms))[::-1]:\n",
    "        polynomial+=calculate(terms[:i+1],i,polynomial)*x^i\n",
    "    return polynomial\n",
    "\n",
    "f(x)=1-x+x^2-x^3+x^4-x^5+x^6-x^7+x^8-x^9+x^10\n",
    "lst=[f(i) for i in range(1,11)]     # up to 10 terms for interpolation(any higher number of terms doesn't generate BOP)\n",
    "count=0\n",
    "for i in range(len(lst)):\n",
    "    count+=op(lst[:i+1])(i+2)\n",
    "count"
   ]
  },
  {
   "cell_type": "markdown",
   "metadata": {},
   "source": [
    "#### PE 104"
   ]
  },
  {
   "cell_type": "code",
   "execution_count": null,
   "metadata": {},
   "outputs": [],
   "source": [
    "# 104 Pandigital Fibonacci Ends\n",
    "log_phi=log(golden_ratio,10)\n",
    "log_sqrt5=log(sqrt(5),10)\n",
    "s=set('123456789')\n",
    "def first9(num):\n",
    "    x=num*log_phi-log_sqrt5\n",
    "    fracpart=x-floor(x)\n",
    "    return int(10^(fracpart+8))\n",
    "def is_pandigital(num):\n",
    "    return set(str(num))==s\n",
    "def solve(limit):\n",
    "    a,b=1,1\n",
    "    for i in range(3,limit):\n",
    "        a,b=b,(a+b)%10^9\n",
    "        if is_pandigital(b) and is_pandigital(first9(i)):\n",
    "            return i\n",
    "solve(10^6)"
   ]
  },
  {
   "cell_type": "code",
   "execution_count": null,
   "metadata": {},
   "outputs": [],
   "source": [
    "# 104 Pandigital Fibonacci Ends\n",
    "def is_pandigital(num):\n",
    "    return sorted(list(map(int,str(num))))==list(range(10))\n",
    "limit=10^4\n",
    "for i in range(1,limit):\n",
    "    num=fibonacci(i)\n",
    "    end=num%(num^9)\n",
    "    start=floor(10^(n(frac(log(num,10)))+8))\n",
    "    if is_pandigital(start) and is_pandigital(end):\n",
    "        print(i)\n",
    "        break\n",
    "print('done!')"
   ]
  },
  {
   "cell_type": "code",
   "execution_count": null,
   "metadata": {},
   "outputs": [],
   "source": [
    "# 104 Pandigital Fibonacci Ends\n",
    "def fib_pandigital_front(n):\n",
    "    return sorted(list(map(int,str(n)))[:9])==list(range(1,10))\n",
    "def fib_pandigital_back(n):\n",
    "    return sorted(list(map(int,str(n%10^9))))==list(range(1,10))\n",
    "limit=30000\n",
    "lst=list(fibonacci_sequence(limit))\n",
    "for num in lst:\n",
    "    if fib_pandigital_front(num) and fib_pandigital_back(num):\n",
    "        print(lst.index(num))\n",
    "        break\n",
    "print('done!')"
   ]
  },
  {
   "cell_type": "code",
   "execution_count": null,
   "metadata": {},
   "outputs": [],
   "source": [
    "# 104 Pandigital Fibonacci Ends\n",
    "# find quicker solution\n",
    "import sys\n",
    "sys.set_int_max_str_digits(1000000)\n",
    "def fib_pandigital_front(n):\n",
    "    fib=list(map(int,str(fastFib(n))))\n",
    "    fib=fib[:9]\n",
    "    fib.sort()\n",
    "    if fib==[1,2,3,4,5,6,7,8,9]:\n",
    "        return True\n",
    "    return False\n",
    "\n",
    "def fib_pandigital_back(n):\n",
    "    fib=list(map(int,str(fastFib(n))))\n",
    "    fib=fib[-9:]\n",
    "    fib.sort()\n",
    "    if fib==[1,2,3,4,5,6,7,8,9]:\n",
    "        return True\n",
    "    return False\n",
    "\n",
    "n=89000\n",
    "while True:\n",
    "    print(n)\n",
    "    if fib_pandigital_back(n) and fib_pandigital_front(n):\n",
    "        print(n)\n",
    "        break\n",
    "    n+=1"
   ]
  },
  {
   "cell_type": "markdown",
   "metadata": {
    "vscode": {
     "languageId": "sage"
    }
   },
   "source": [
    "#### PE 107"
   ]
  },
  {
   "cell_type": "code",
   "execution_count": null,
   "metadata": {},
   "outputs": [],
   "source": [
    "len([27,34,28,20,5,25,7,9,29,3,13,39,37,2,10,33,6,19,21,36,23,12,38,30,22,4,35,1,11,17])"
   ]
  },
  {
   "cell_type": "code",
   "execution_count": null,
   "metadata": {},
   "outputs": [],
   "source": [
    "lst=[1,2,3,4,5,6,7,8,9,10,11,12,13,14,15,16,17,18,19,20,21,22,23,24,25,26\n",
    ",27,28,29,31,33,34,35,36,37,39,41,49,51]\n",
    "original_sum-sum([get_third(network[num-1]) for num in lst])"
   ]
  },
  {
   "cell_type": "code",
   "execution_count": null,
   "metadata": {},
   "outputs": [],
   "source": [
    "27,34,28,20,5,25,7,9,29,3,13,39,37,2,10,33,6,19,21,36,23,12,38,30,22,4,35,1,11,17,14,26,32,16,18\n",
    "8,15,24,0,31"
   ]
  },
  {
   "cell_type": "code",
   "execution_count": null,
   "metadata": {},
   "outputs": [],
   "source": [
    "import requests\n",
    "request=requests.get('https://projecteuler.net/resources/documents/0107_network.txt')\n",
    "content=request.text\n",
    "lst=content.split('\\n')\n",
    "lst=[row.split(',') for row in lst]\n",
    "lst=lst[:-1]\n",
    "network=[]\n",
    "for i in range(len(lst)):\n",
    "    for j in range(i+1,len(lst)):\n",
    "        if lst[i][j]!='-':\n",
    "            network.append([i,j,int(lst[i][j])])\n",
    "network.sort(key=lambda x:x[2])\n",
    "original_sum=sum([get_third(lst) for lst in network])\n",
    "print(original_sum);network"
   ]
  },
  {
   "cell_type": "markdown",
   "metadata": {
    "vscode": {
     "languageId": "sage"
    }
   },
   "source": [
    "#### PE 108"
   ]
  },
  {
   "cell_type": "code",
   "execution_count": null,
   "metadata": {},
   "outputs": [],
   "source": [
    "def solution_count(n):\n",
    "    count=0\n",
    "    for i in range(n+1,2*n+1):\n",
    "        if 1/(1/n-1/i)==floor(1/(1/n-1/i)):\n",
    "            count+=1\n",
    "    return count\n",
    "\n",
    "solution_count(2^2*3^2*5*7*11*13)"
   ]
  },
  {
   "cell_type": "markdown",
   "metadata": {},
   "source": [
    "#### PE 112"
   ]
  },
  {
   "cell_type": "code",
   "execution_count": null,
   "metadata": {},
   "outputs": [],
   "source": [
    "# rgba(19, 19, 40, 1) Bouncy Numbers\n",
    "from time import time\n",
    "start=time()\n",
    "def listint(num):\n",
    "    integer=''\n",
    "    for number in num:\n",
    "        integer=integer+str(number)\n",
    "    return int(integer)\n",
    "def bouncy(n):\n",
    "    input=list(map(int, str(n)))\n",
    "    return input!=sorted(input) and input!=sorted(input).reverse()\n",
    "def bouncy_percentage(n):\n",
    "    sum_bouncy=0\n",
    "    for i in range(1, n+1):\n",
    "        if bouncy(i)==True:\n",
    "            sum_bouncy+=1\n",
    "    ratio=sum_bouncy/n\n",
    "    return ratio*100\n",
    "print(bouncy_percentage(1587000))\n",
    "end=time()\n",
    "print(end-start)\n",
    "# ans - 1587000"
   ]
  },
  {
   "cell_type": "markdown",
   "metadata": {},
   "source": [
    "#### PE 113\n",
    "Use binomial coefficient."
   ]
  },
  {
   "cell_type": "code",
   "execution_count": null,
   "metadata": {},
   "outputs": [],
   "source": [
    "# 113 Non-bouncy Numbers\n",
    "def increasing_count(max_digits):\n",
    "    count=0\n",
    "    for i in range(1,max_digits+1):\n",
    "        for j in range(1,9):\n",
    "            count+=binomial(i+8-j,9-j)\n",
    "    return count\n",
    "def decreasing_count(max_digits):\n",
    "    count=0\n",
    "    for i in range(1,max_digits+1):\n",
    "        count+=binomial(i+9,9)\n",
    "    count-=max_digits\n",
    "    return count\n",
    "def non_bouncy_count(max_digits=100):\n",
    "    return increasing_count(max_digits)+decreasing_count(max_digits)-8*max_digits\n",
    "\n",
    "non_bouncy_count()"
   ]
  },
  {
   "cell_type": "markdown",
   "metadata": {
    "vscode": {
     "languageId": "sage"
    }
   },
   "source": [
    "#### PE 114 & 115"
   ]
  },
  {
   "cell_type": "code",
   "execution_count": null,
   "metadata": {},
   "outputs": [],
   "source": [
    "# 114  a(n) = 2a(n-1) - a(n-2) + a(n-4) , and a(0)=1, a(1)=1, a(2)=1, a(3)=2\n",
    "def count_combinations_eigen(n):\n",
    "    r = var('r')\n",
    "    char_poly = r^4 - 2*r^3 + r^2 - 1  # eigenpolynomial r^4 - 2r^3 + r^2 - 1 =0  <=> recursion a(n) - 2a(n-1) + a(n-2) - a(n-4) =0\n",
    "    eigenvalues = char_poly.roots(ring=CC, multiplicities=False) # finding root\n",
    "    \n",
    "    r1, r2, r3, r4 = eigenvalues     #general solution a(n) = A*r1^n + B*r2^n + C*r3^n + D*r4^n\n",
    "    \n",
    "    A_matrix = matrix(CC, [\n",
    "        [r1^0, r2^0, r3^0, r4^0],\n",
    "        [r1^1, r2^1, r3^1, r4^1],\n",
    "        [r1^2, r2^2, r3^2, r4^2],\n",
    "        [r1^3, r2^3, r3^3, r4^3]\n",
    "    ])\n",
    "    \n",
    "    b_vector = vector(CC, [1, 1, 1, 2])\n",
    "    \n",
    "    coefficients = A_matrix.solve_right(b_vector)\n",
    "    A, B, C, D = coefficients\n",
    "    result = A*r1^n + B*r2^n + C*r3^n + D*r4^n\n",
    "\n",
    "    return int(round(result.real_part()))\n",
    "\n",
    "matrix_result = count_combinations_eigen(5*10^1)\n",
    "matrix_result"
   ]
  },
  {
   "cell_type": "code",
   "execution_count": null,
   "metadata": {},
   "outputs": [],
   "source": [
    "# 114 & 115 Counting Block Combinations I & II\n",
    "memo={0:1}\n",
    "def fill(m,n):\n",
    "    if n in memo:\n",
    "        return memo[n]\n",
    "    count = 0\n",
    "    if n>=1: count+=calculate_tiles(n-1) # Put blank tile\n",
    "    for i in range(m,n+1):\n",
    "        if n>=i:\n",
    "            count+=calculate_tiles(n-i-1)\n",
    "        else:\n",
    "            break\n",
    "    memo[n]=count\n",
    "    return count\n",
    "def calculate_tiles(length):\n",
    "    return fill(3,length)\n",
    "\n",
    "print(calculate_tiles(51)) # 114 solution not 50 but 51 because for the one block gap rule at the end it doesn't apply\n",
    "\n",
    "# limit=10^3\n",
    "# for i in range(1,limit):\n",
    "#     if fill(50,i)>10^6:\n",
    "#         print(i-1)\n",
    "#         break"
   ]
  },
  {
   "cell_type": "markdown",
   "metadata": {},
   "source": [
    "#### PE 116"
   ]
  },
  {
   "cell_type": "code",
   "execution_count": null,
   "metadata": {},
   "outputs": [],
   "source": [
    "memo=[{},{},{}]\n",
    "def tiling_count(length):\n",
    "    return sum([calculate(length,i) for i in range(2,5)])-3\n",
    "def calculate(tiles,block):\n",
    "    if tiles in memo[block-2]:\n",
    "        return memo[block-2][tiles]\n",
    "    if tiles<=0:\n",
    "        return 0\n",
    "    if 1<=tiles<=block-1:\n",
    "        return 1\n",
    "    if tiles==block:\n",
    "        return 2\n",
    "    ans=calculate(tiles-1,block)+calculate(tiles-block,block)\n",
    "    memo[block-2].update({tiles:ans})\n",
    "    return ans\n",
    "\n",
    "tiling_count(50)"
   ]
  },
  {
   "cell_type": "code",
   "execution_count": null,
   "metadata": {},
   "outputs": [],
   "source": [
    "tiling_count(5)        # Test"
   ]
  },
  {
   "cell_type": "markdown",
   "metadata": {
    "vscode": {
     "languageId": "sage"
    }
   },
   "source": [
    "#### PE 117\n",
    "$a_n=a_{n-1}+a_{n-2}+a_{n-3}+a_{n-4}$\n",
    "\n",
    "$a_0=1$\n",
    "\n",
    "If n in negative, $a_n=0$\n",
    "\n",
    "$\\begin{pmatrix}0&1&0&0\\\\0&0&1&0\\\\0&0&0&1\\\\1&1&1&1\\end{pmatrix}$"
   ]
  },
  {
   "cell_type": "code",
   "execution_count": null,
   "metadata": {},
   "outputs": [],
   "source": [
    "# 117 Red, Green and Blue Tiles - eigen way\n",
    "def eigen_tiles(n):\n",
    "    var('r')\n",
    "    eigen_poly =r^4-r^3-r^2-r-1\n",
    "    r1,r2,r3,r4=eigen_poly.roots(ring=CC, multiplicities=False)\n",
    "    \n",
    "    b_vector=vector(CC,[1,1,2,4])\n",
    "    A_matrix = matrix(CC, [ [r1^0, r2^0, r3^0, r4^0],\n",
    "                            [r1^1, r2^1, r3^1, r4^1],\n",
    "                            [r1^2, r2^2, r3^2, r4^2],\n",
    "                            [r1^3, r2^3, r3^3, r4^3] ])\n",
    "\n",
    "    A,B,C,D=A_matrix.solve_right(b_vector)\n",
    "    result=A*r1^n+B*r2^n+C*r3^n+D*r4^n\n",
    "    return int(round(result.real_part()))\n",
    "\n",
    "eigen_tiles(50)"
   ]
  },
  {
   "cell_type": "code",
   "execution_count": null,
   "metadata": {},
   "outputs": [],
   "source": [
    "# 117 Red, Green and Blue Tiles\n",
    "memo={0:1,1:1,2:2,3:4,4:8}\n",
    "def calculate_tiles(length):\n",
    "    if length in memo:\n",
    "        return memo[length]\n",
    "    count=0\n",
    "    for i in range(1,5):\n",
    "        count+=calculate_tiles(length-i)\n",
    "    memo[length]=count\n",
    "    return count\n",
    "\n",
    "calculate_tiles(50)"
   ]
  },
  {
   "cell_type": "markdown",
   "metadata": {
    "vscode": {
     "languageId": "sage"
    }
   },
   "source": [
    "#### PE 119"
   ]
  },
  {
   "cell_type": "code",
   "execution_count": null,
   "metadata": {},
   "outputs": [],
   "source": [
    "# 119 Digit Power Sum\n",
    "def digit_power(n):\n",
    "    return type(log(n,sum(map(int,str(n)))))==int\n",
    "\n",
    "lst=[]\n",
    "limit=10^20\n",
    "for s in range(2,log(limit,10)*9+1):\n",
    "    for i in range(2,ceil(log(limit,2))):\n",
    "        if digit_power(s^i):\n",
    "            lst.append(s^i)\n",
    "lst=list(filter(lambda x:10<=x<=limit,lst))\n",
    "lst=list(set(lst))\n",
    "sorted(lst)[29]"
   ]
  },
  {
   "cell_type": "markdown",
   "metadata": {
    "vscode": {
     "languageId": "sage"
    }
   },
   "source": [
    "#### PE 120\n",
    "- Set total to 0.\n",
    "- Iterate through $3\\leq a\\leq1000$\n",
    "    - Set maximum remainder to 0\n",
    "    - Iterate through $1<=k<=2a$(the remainders will have a pattern)\n",
    "        - Find remainder\n",
    "        - Change maximum remainder if needed\n",
    "    - Increment the total by the maximum remainder\n",
    "- Display the total"
   ]
  },
  {
   "cell_type": "code",
   "execution_count": null,
   "metadata": {},
   "outputs": [],
   "source": [
    "# 120 Square Remainders\n",
    "total=0\n",
    "for a in range(3,1001):\n",
    "    max_r=0\n",
    "    for k in range(1,2*a+1):\n",
    "        r=((a-1)^k+(a+1)^k)%a^2\n",
    "        max_r=max(max_r,r)\n",
    "    total+=max_r\n",
    "total"
   ]
  },
  {
   "cell_type": "markdown",
   "metadata": {},
   "source": [
    "#### PE 121"
   ]
  },
  {
   "cell_type": "code",
   "execution_count": null,
   "metadata": {},
   "outputs": [],
   "source": [
    "(* 121 Disc Game Prize Fund \n",
    "    Person will have to pull out blue >=8 times*)\n",
    "ncr[n_,r_]:=n!/(r!*(n-r)!) (*n choose r combinatorics function*)\n",
    "blueChance[blues_]:=\n",
    "lst=Table[blueChance[n]*ncr[15,n],{n,8,15}]\n",
    "n=Floor[1/(Total[lst]/2^15)]"
   ]
  },
  {
   "cell_type": "code",
   "execution_count": null,
   "metadata": {},
   "outputs": [],
   "source": [
    "# 121 Disc Game Prize Fund\n",
    "def disc_game(turns=15):\n",
    "    discs=2\n",
    "    count=0\n",
    "    for _ in range(turns):\n",
    "        count+=random()<(1/discs)\n",
    "        discs+=1\n",
    "    return count>turns/2\n",
    "def simulate(games=100000):\n",
    "    count=0\n",
    "    for _ in range(games):\n",
    "        count+=disc_game()\n",
    "    return count\n",
    "\n",
    "simulate()"
   ]
  },
  {
   "cell_type": "code",
   "execution_count": null,
   "metadata": {},
   "outputs": [],
   "source": [
    "# 121 Disc Game Prize Fund\n",
    "def disc_game_prob(turns,blue):\n",
    "    if blue>turns:\n",
    "        raise ValueError('Invalid input')\n",
    "    if blue==15:\n",
    "        prob=1\n",
    "        for i in range(15):\n",
    "            prob*=1/(i+2)\n",
    "        return prob\n",
    "    if blue==14:\n",
    "        prob=0\n",
    "        for i in range(15):\n",
    "            count=1\n",
    "            for j in range(15):\n",
    "                if i==j:\n",
    "                    count*=(j+1)/(j+2)\n",
    "                else:\n",
    "                    count*=1/(j+2)\n",
    "            prob+=count\n",
    "        return prob\n",
    "    if blue==13:\n",
    "        prob=0\n",
    "        for i in range(15):\n",
    "            for j in range(i+1,15):\n",
    "                count=1\n",
    "                for k in range(15):\n",
    "                    if k==i or k==j:\n",
    "                        count*=(k+1)/(k+2)\n",
    "                    else:\n",
    "                        count*=1/(k+2)\n",
    "                prob+=count\n",
    "        return prob\n",
    "    if blue==12:\n",
    "        prob=0\n",
    "        for i in range(15):\n",
    "            for j in range(i+1,15):\n",
    "                for k in range(j+1,15):\n",
    "                    count=1\n",
    "                    for l in range(15):\n",
    "                        if l==i or l==j or l==k:\n",
    "                            count*=(l+1)/(l+2)\n",
    "                        else:\n",
    "                            count*=1/(l+2)\n",
    "                    prob+=count\n",
    "        return prob\n",
    "    if blue==11:\n",
    "        prob=0\n",
    "        for i in range(15):\n",
    "            for j in range(i+1,15):\n",
    "                for k in range(j+1,15):\n",
    "                    for l in range(k+1,15):\n",
    "                        count=1\n",
    "                        for m in range(15):\n",
    "                            if m==i or m==j or m==k or m==l:\n",
    "                                count*=(m+1)/(m+2)\n",
    "                            else:\n",
    "                                count*=1/(m+2)\n",
    "                        prob+=count\n",
    "        return prob\n",
    "    if blue==10:\n",
    "        prob=0\n",
    "        for i in range(15):\n",
    "            for j in range(i+1,15):\n",
    "                for k in range(j+1,15):\n",
    "                    for l in range(k+1,15):\n",
    "                        for m in range(l+1,15):\n",
    "                            count=1\n",
    "                            for n in range(15):\n",
    "                                if n==i or n==j or n==k or n==l or n==m:\n",
    "                                    count*=(n+1)/(n+2)\n",
    "                                else:\n",
    "                                    count*=1/(n+2)\n",
    "                            prob+=count\n",
    "        return prob\n",
    "    if blue==9:\n",
    "        prob=0\n",
    "        for i in range(15):\n",
    "            for j in range(i+1,15):\n",
    "                for k in range(j+1,15):\n",
    "                    for l in range(k+1,15):\n",
    "                        for m in range(l+1,15):\n",
    "                            for n in range(m+1,15):\n",
    "                                count=1\n",
    "                                for o in range(15):\n",
    "                                    if o==i or o==j or o==k or o==l or o==m or o==n:\n",
    "                                        count*=(o+1)/(o+2)\n",
    "                                    else:\n",
    "                                        count*=1/(o+2)\n",
    "                                prob+=count\n",
    "        return prob\n",
    "    if blue==8:\n",
    "        prob=0\n",
    "        for i in range(15):\n",
    "            for j in range(i+1,15):\n",
    "                for k in range(j+1,15):\n",
    "                    for l in range(k+1,15):\n",
    "                        for m in range(l+1,15):\n",
    "                            for n in range(m+1,15):\n",
    "                                for o in range(n+1,15):\n",
    "                                    count=1\n",
    "                                    for p in range(15):\n",
    "                                        if p==i or p==j or p==k or p==l or p==m or p==n or p==o:\n",
    "                                            count*=(p+1)/(p+2)\n",
    "                                        else:\n",
    "                                            count*=1/(p+2)\n",
    "                                    prob+=count\n",
    "        return prob\n",
    "\n",
    "\n",
    "prob=0\n",
    "for i in range(8,16):\n",
    "    prob+=disc_game_prob(15,i)\n",
    "n(1/prob)"
   ]
  },
  {
   "cell_type": "code",
   "execution_count": null,
   "metadata": {},
   "outputs": [],
   "source": [
    "count=0\n",
    "for i in range(10,16):\n",
    "    count+=binomial(15,i)\n",
    "count"
   ]
  },
  {
   "cell_type": "markdown",
   "metadata": {},
   "source": [
    "#### PE 122"
   ]
  },
  {
   "cell_type": "code",
   "execution_count": null,
   "metadata": {},
   "outputs": [],
   "source": [
    "# 122 Efficient Exponentiation\n",
    "# debug\n",
    "limit=200\n",
    "primes=prime_range(limit//2)\n",
    "def tree(k,limit):\n",
    "    values=[[1]]\n",
    "    full_values=[1]\n",
    "    for _ in range(k):\n",
    "        new=[]\n",
    "        for num in values[-1]:\n",
    "            for num1 in full_values:\n",
    "                new.append(num+num1)\n",
    "        new=sorted(list(set(new)))\n",
    "        values.append([])\n",
    "        for num in new:\n",
    "            full_values.append(num)\n",
    "            values[-1].append(num)\n",
    "        full_values=sorted(list(set(full_values)))\n",
    "    return values\n",
    "\n",
    "tree(11,200)"
   ]
  },
  {
   "cell_type": "code",
   "execution_count": null,
   "metadata": {},
   "outputs": [],
   "source": [
    "# 122 Efficient Exponentiation\n",
    "import requests\n",
    "request=requests.get('https://oeis.org/A003313/b003313.txt')\n",
    "content=request.text\n",
    "lst=content.split('\\n')\n",
    "lst=lst[:200]\n",
    "lst=[line.split() for line in lst]\n",
    "count=0\n",
    "for num in lst:\n",
    "    count+=int(num[1])\n",
    "count"
   ]
  },
  {
   "cell_type": "markdown",
   "metadata": {},
   "source": [
    "#### PE 123"
   ]
  },
  {
   "cell_type": "code",
   "execution_count": null,
   "metadata": {},
   "outputs": [],
   "source": [
    "# 123 Prime Square Remainders\n",
    "def remainder(prime,index):\n",
    "    return ((prime-1)^index+(prime+1)^index)%prime^2\n",
    "\n",
    "primes=prime_range(400000)\n",
    "for i in range(len(primes)):\n",
    "    if remainder(primes[i],i+1)>10^10:\n",
    "        print(i+1)\n",
    "        break"
   ]
  },
  {
   "cell_type": "markdown",
   "metadata": {},
   "source": [
    "#### PE 124\n",
    "The sage radical function calculates the product of the distinct prime factors of a number: $\\text{rad}(n)=\\Pi_{p|n}p$ where p is prime."
   ]
  },
  {
   "cell_type": "code",
   "execution_count": null,
   "metadata": {},
   "outputs": [],
   "source": [
    "lst=[radical(i) for i in range(1,100001)]\n",
    "sorted_lst=sorted(lst)\n",
    "for i in range(9990,10002):\n",
    "    # print(i)\n",
    "    # print(sorted_lst[i])\n",
    "    pass"
   ]
  },
  {
   "cell_type": "code",
   "execution_count": null,
   "metadata": {},
   "outputs": [],
   "source": [
    "lst=[radical(i) for i in range(1,100000)]\n",
    "for i in range(3):\n",
    "    lst.remove(1947)\n",
    "# lst.index(1947)+4"
   ]
  },
  {
   "cell_type": "markdown",
   "metadata": {},
   "source": [
    "#### PE 125"
   ]
  },
  {
   "cell_type": "code",
   "execution_count": null,
   "metadata": {},
   "outputs": [],
   "source": [
    "def is_palindrome(n):\n",
    "    if n < 0:\n",
    "        return False\n",
    "    reversed_n = 0\n",
    "    temp = n\n",
    "    while temp > 0:\n",
    "        reversed_n = reversed_n * 10 + temp % 10\n",
    "        temp //= 10\n",
    "    return n==reversed_n\n",
    "\n",
    "limit = 10**8\n",
    "max_k = isqrt(limit // 2)  # Approx 7071\n",
    "squares = [k^2 for k in range(1, max_k + 1)]\n",
    "palindromic_sums = set()\n",
    "for i in range(len(squares)):\n",
    "    s = squares[i]\n",
    "    for j in range(i + 1, len(squares)):\n",
    "        s += squares[j]\n",
    "        if s >= limit:\n",
    "            break\n",
    "        if is_palindrome(s):\n",
    "            palindromic_sums.add(s)\n",
    "total = sum(palindromic_sums);total"
   ]
  },
  {
   "cell_type": "code",
   "execution_count": null,
   "metadata": {},
   "outputs": [],
   "source": [
    "# 125 Palindromic Sums\n",
    "limit=10^7\n",
    "lst=list(map(lambda x:x^2,range(1,isqrt(limit//2)+10)))\n",
    "print(len(lst))\n",
    "total=0\n",
    "for i in range(len(lst)-1):\n",
    "    for j in range(i+1,len(lst)):\n",
    "        if is_palindrome(sum(lst[i:j+1])) and sum(lst[i:j+1])<limit:\n",
    "            total+=sum(lst[i:j+1])\n",
    "total"
   ]
  },
  {
   "cell_type": "code",
   "execution_count": null,
   "metadata": {},
   "outputs": [],
   "source": [
    "(* 125 Palindromic Sums *)\n",
    "(* add Boole[] to count number of times when <10^8 *)\n",
    "(* learnt functions:\n",
    "    Accumulate[]\n",
    "    AnyTrue[{},test] true if any input passes the test\n",
    "    MemberQ[{},___] true if any element in list is ___\n",
    "    Module[]??? *)\n",
    "isSumOfConsecutiveSquares[n_Integer] := \n",
    " Module[{maxK, sumsOfSquares},\n",
    "  maxK = Floor[Sqrt[n]];\n",
    "\n",
    "  (* Generate cumulative sums of consecutive squares starting from each k *)\n",
    "  sumsOfSquares = Table[\n",
    "    Accumulate[Table[(k + i)^2, {i, 0, maxK - k}]],\n",
    "    {k, 1, maxK}\n",
    "  ];\n",
    "\n",
    "  (* Check if any sum sequence contains n with more than one term *)\n",
    "  AnyTrue[sumsOfSquares, MemberQ[#, n] && Length[#] > 1 &]\n",
    "]\n",
    "\n",
    "isSumSquaresPalindromic[n_Integer]:=isSumOfConsecutiveSquares[n]&&PalindromeQ[n]\n",
    "lst=Table[isSumSquaresPalindromic[n],{n,2,9999}];\n",
    "Count[lst,True]"
   ]
  },
  {
   "cell_type": "markdown",
   "metadata": {
    "vscode": {
     "languageId": "sage"
    }
   },
   "source": [
    "#### PE 151"
   ]
  },
  {
   "cell_type": "markdown",
   "metadata": {},
   "source": [
    "- Case 1($s=2$): $\\text{E}(\\text{a,b,c,d})=\\text{if s=1 }1\\text{, else }0$\n",
    "- Case 2:$\\text{E}(\\text{a,b,c,d})=\\frac{a}{s}\\text{E}(\\text{a-1,b+1,c+1,d+1})+\\frac{b}{s}\\text{E}(\\text{a,b-1,c+1,d+1})+\\frac{c}{s}\\text{E}(\\text{a,b,c-1,d+1})+\\frac{d}{s}\\text{E}(\\text{a,b,c,d-1})$ \n",
    "- $\\text{E}$ is the expectation function.\n",
    "- $s=a+b+c+d$, where $a,b,c,d$ represent the number of A2, A3, A4, A5 paper left."
   ]
  },
  {
   "cell_type": "code",
   "execution_count": null,
   "metadata": {},
   "outputs": [],
   "source": [
    "# 151 A Preference for A5\n",
    "memo={}\n",
    "def expectation(sheets):\n",
    "    if sheets in memo:\n",
    "        return memo[sheets]\n",
    "    sheet=list(map(int,sheets))\n",
    "    total_sheets=sheet[0]+sheet[1]+sheet[2]+sheet[3]\n",
    "    a5_sheets=8*sheet[0]+4*sheet[1]+2*sheet[2]+sheet[3]\n",
    "    prob=[sheet[i]/total_sheets for i in range(4)]\n",
    "    count=int(sum(sheet)==1)\n",
    "    if a5_sheets==2:\n",
    "        memo.update({sheets:count})\n",
    "        return count\n",
    "    if prob[0]!=0: count+=prob[0]*expectation(str(sheet[0]-1)+str(sheet[1]+1)+str(sheet[2]+1)+str(sheet[3]+1))\n",
    "    if prob[1]!=0: count+=prob[1]*expectation(str(sheet[0])+str(sheet[1]-1)+str(sheet[2]+1)+str(sheet[3]+1))\n",
    "    if prob[2]!=0: count+=prob[2]*expectation(str(sheet[0])+str(sheet[1])+str(sheet[2]-1)+str(sheet[3]+1))\n",
    "    if prob[3]!=0: count+=prob[3]*expectation(str(sheet[0])+str(sheet[1])+str(sheet[2])+str(sheet[3]-1))\n",
    "    memo.update({sheets:count})\n",
    "    return count\n",
    "\n",
    "ini_sheets=input('Input the initial number of sheets as a string abcd: ') # Input 1111\n",
    "n(expectation(ini_sheets),digits=6)"
   ]
  },
  {
   "cell_type": "markdown",
   "metadata": {},
   "source": [
    "#### PE 162"
   ]
  },
  {
   "cell_type": "code",
   "execution_count": null,
   "metadata": {},
   "outputs": [],
   "source": [
    "(* 162 Hexadecimal Numbers *)\n",
    "lst=Table[(n-1)*Factorial[n-1]/Factorial[n-3]*(14^(n-3)),{n,3,16}];\n",
    "lst1=Table[(n-1)*Factorial[n-1]/Factorial[n-3]*(16^(n-3)),{n,3,16}];\n",
    "n=(Total[lst1]-Total[lst])/2;\n",
    "n=\n",
    "BaseForm[Total[lst]+n,16]"
   ]
  },
  {
   "cell_type": "markdown",
   "metadata": {
    "vscode": {
     "languageId": "sage"
    }
   },
   "source": [
    "#### PE 173"
   ]
  },
  {
   "cell_type": "code",
   "execution_count": null,
   "metadata": {},
   "outputs": [],
   "source": [
    "# 173 Hollow Square Laminae I\n",
    "def laminae_count(max_tiles):\n",
    "    count=0\n",
    "    limit=isqrt(max_tiles/4)\n",
    "    for i in range(1,limit+1):\n",
    "        num=max_tiles\n",
    "        num-=4*i^2\n",
    "        num//=4*i\n",
    "        count+=num\n",
    "    return count\n",
    "\n",
    "laminae_count(10^6)"
   ]
  },
  {
   "cell_type": "markdown",
   "metadata": {
    "vscode": {
     "languageId": "sage"
    }
   },
   "source": [
    "#### PE 174"
   ]
  },
  {
   "cell_type": "code",
   "execution_count": null,
   "metadata": {},
   "outputs": [],
   "source": [
    "# 174 Hollow Square Laminae II\n",
    "def laminae_list(max_tiles):\n",
    "    lst=[]\n",
    "    limit=isqrt(max_tiles/4)\n",
    "    for i in range(1,limit+1):\n",
    "        num=max_tiles\n",
    "        num-=4*i^2\n",
    "        num//=4*i\n",
    "        for j in range(1,num+1):\n",
    "            lst.append(4*i^2+4*i*j)\n",
    "    return sorted(lst)\n",
    "\n",
    "lst=laminae_list(1000000)\n",
    "val=0\n",
    "count=0\n",
    "for num in sorted(list(set(lst))):\n",
    "    old_val=val\n",
    "    val=lst[old_val:old_val+100].index(num)+old_val\n",
    "    if 1<=val-old_val<=10:\n",
    "        count+=1\n",
    "count"
   ]
  },
  {
   "cell_type": "markdown",
   "metadata": {},
   "source": [
    "#### PE 179"
   ]
  },
  {
   "cell_type": "code",
   "execution_count": null,
   "metadata": {},
   "outputs": [],
   "source": [
    "# 179\n",
    "def len_factors(n):\n",
    "    return len(factors(n))\n",
    "num=1\n",
    "for i in range(3, 10000000):\n",
    "    if is_prime(i)==True or is_prime(i+1)==True:\n",
    "        pass\n",
    "    else:\n",
    "        if len_factors(i)==len_factors(i+1):\n",
    "            num+=1\n",
    "        if i%10000==0:\n",
    "            print(i)\n",
    "num"
   ]
  },
  {
   "cell_type": "markdown",
   "metadata": {},
   "source": [
    "#### PE 187\n",
    "[A semiprime-counting formula](https://en.wikipedia.org/wiki/Semiprime): $\\pi_{2}(n)= $"
   ]
  },
  {
   "cell_type": "code",
   "execution_count": null,
   "metadata": {},
   "outputs": [],
   "source": [
    "#187 FP way\n",
    "# python way - use sympy library\n",
    "# increasing limit to 10^8 makes it too slow\n",
    "from sympy import factorint\n",
    "limit = 10^6\n",
    "count_two_prime_factors = sum(1 for n in range(3, limit ) if len(factorint(n)) == 2)\n",
    "count_two_prime_factors"
   ]
  },
  {
   "cell_type": "code",
   "execution_count": null,
   "metadata": {},
   "outputs": [],
   "source": [
    "#187 FP way\n",
    "# sage way\n",
    "limit = 10^6\n",
    "count_two_prime_factors = sum(1 for n in range(3, limit ) if str(factor(n)).count('*') == 1)\n",
    "count_two_prime_factors"
   ]
  },
  {
   "cell_type": "code",
   "execution_count": null,
   "metadata": {},
   "outputs": [],
   "source": [
    "(* 187 Semiprimes \n",
    "    Q: the code takes 11min, faster??? *)\n",
    "Total[Table[ \n",
    "            Boole[ Total[FactorInteger[n]][[2]] == 2 ]\n",
    "            , {n,3,99999999} ] \n",
    "    ]"
   ]
  },
  {
   "cell_type": "code",
   "execution_count": null,
   "metadata": {},
   "outputs": [],
   "source": [
    "(* speed up but wrong answer ?? - add {{_,2}} *)\n",
    "(* takes >11 min??? *)\n",
    "Count[ FactorInteger /@ Range[3, 10^8-1] \n",
    "      ,{{_, 1},{_, 1}} | {{_,2}}\n",
    "      ]"
   ]
  },
  {
   "cell_type": "code",
   "execution_count": null,
   "metadata": {},
   "outputs": [],
   "source": [
    "lst=Table[ \n",
    "    Boole[ Length[ FactorInteger[n] ]==2 ],\n",
    "    {n,3,30}]"
   ]
  },
  {
   "cell_type": "code",
   "execution_count": null,
   "metadata": {},
   "outputs": [],
   "source": [
    "lst={{2,5},{3,1}};\n",
    "Total[lst][[2]]"
   ]
  },
  {
   "cell_type": "markdown",
   "metadata": {},
   "source": [
    "#### PE 188"
   ]
  },
  {
   "cell_type": "code",
   "execution_count": null,
   "metadata": {},
   "outputs": [],
   "source": [
    "7**7"
   ]
  },
  {
   "cell_type": "code",
   "execution_count": null,
   "metadata": {},
   "outputs": [],
   "source": [
    "n=7\n",
    "n=7**n % 1000000000\n",
    "print(n)"
   ]
  },
  {
   "cell_type": "code",
   "execution_count": null,
   "metadata": {},
   "outputs": [],
   "source": [
    "m=8123674\n",
    "n=1798\n",
    "math.floor(m/n)\n"
   ]
  },
  {
   "cell_type": "code",
   "execution_count": null,
   "metadata": {},
   "outputs": [],
   "source": [
    "n=1777;\n",
    "For[i=0,i<1856,i++,n=Mod[1777^n,10000000]]\n",
    "n"
   ]
  },
  {
   "cell_type": "code",
   "execution_count": null,
   "metadata": {},
   "outputs": [],
   "source": [
    "62097"
   ]
  },
  {
   "cell_type": "code",
   "execution_count": null,
   "metadata": {},
   "outputs": [],
   "source": [
    "Mod[1777^1777,100000000]"
   ]
  },
  {
   "cell_type": "code",
   "execution_count": null,
   "metadata": {},
   "outputs": [],
   "source": [
    "00001777,87955697,70132343,33172343,65172343,5172343"
   ]
  },
  {
   "cell_type": "code",
   "execution_count": null,
   "metadata": {},
   "outputs": [],
   "source": [
    "1777^2"
   ]
  },
  {
   "cell_type": "markdown",
   "metadata": {},
   "source": [
    "#### PE 193"
   ]
  },
  {
   "cell_type": "code",
   "execution_count": null,
   "metadata": {},
   "outputs": [],
   "source": [
    "def func(num):\n",
    "    for i in l:\n",
    "        if num%i==0:\n",
    "            return False\n",
    "    return True\n",
    "limit=10^6\n",
    "l=prime_range(sqrt(limit))\n",
    "lst=l+list(filter(func,range(2,limit+1)))\n",
    "lst"
   ]
  },
  {
   "cell_type": "code",
   "execution_count": null,
   "metadata": {},
   "outputs": [],
   "source": [
    "def sieve(limit):\n",
    "    lst=list(range())\n",
    "    primes=prime_range(isqrt(limit))"
   ]
  },
  {
   "cell_type": "code",
   "execution_count": null,
   "metadata": {},
   "outputs": [],
   "source": [
    "lst=prime_range(10^7)\n",
    "lst"
   ]
  },
  {
   "cell_type": "markdown",
   "metadata": {
    "vscode": {
     "languageId": "sage"
    }
   },
   "source": [
    "#### PE 197"
   ]
  },
  {
   "cell_type": "code",
   "execution_count": null,
   "metadata": {},
   "outputs": [],
   "source": [
    "# 197 A Recursively Defined Sequence\n",
    "f=lambda x:floor(2^(30.403243784-x^2))*10^-9\n",
    "memo={0:-1}\n",
    "def u(num):\n",
    "    if num in memo:\n",
    "        return memo[num]\n",
    "    return n(f(u(num-1)),1000)\n",
    "print(n(u(1999)+u(2000),digits=10))"
   ]
  },
  {
   "cell_type": "markdown",
   "metadata": {},
   "source": [
    "#### PE 203"
   ]
  },
  {
   "cell_type": "code",
   "execution_count": null,
   "metadata": {},
   "outputs": [],
   "source": [
    "import time\n",
    "start=time.time()\n",
    "n=[]\n",
    "for i in range(1,51):\n",
    "    for j in range(1,i+1):\n",
    "        n.append(binomial(i,j))\n",
    "n=list(set(n))\n",
    "n.sort()\n",
    "n=list(filter(lambda x:is_squarefree(x),n))\n",
    "sum(n)\n",
    "(time.time()-start)*1000\n",
    "# comment last line to show answer"
   ]
  },
  {
   "cell_type": "markdown",
   "metadata": {},
   "source": [
    "#### PE 205"
   ]
  },
  {
   "cell_type": "code",
   "execution_count": null,
   "metadata": {},
   "outputs": [],
   "source": [
    "# 205 Dice Game\n",
    "def peter_prob():\n",
    "    prob=dict()\n",
    "    for i in range(9,37):\n",
    "        prob.update({i:0})\n",
    "    for i in range(1,5):\n",
    "        for j in range(1,5):\n",
    "            for k in range(1,5):\n",
    "                for l in range(1,5):\n",
    "                    for m in range(1,5):\n",
    "                        for n in range(1,5):\n",
    "                            for o in range(1,5):\n",
    "                                for p in range(1,5):\n",
    "                                    for q in range(1,5):\n",
    "                                        s=sum([i,j,k,l,m,n,o,p,q])\n",
    "                                        prob.update({s:prob[s]+1})\n",
    "    for i in range(9,37):\n",
    "        prob.update({i:prob[i]/4^9})\n",
    "    return prob\n",
    "def colin_prob():\n",
    "    prob=dict()\n",
    "    for i in range(6,37):\n",
    "        prob.update({i:0})\n",
    "    for i in range(1,7):\n",
    "        for j in range(1,7):\n",
    "            for k in range(1,7):\n",
    "                for l in range(1,7):\n",
    "                    for m in range(1,7):\n",
    "                        for n in range(1,7):\n",
    "                            s=sum([i,j,k,l,m,n])\n",
    "                            prob.update({s:prob[s]+1})\n",
    "    for i in range(6,37):\n",
    "        prob.update({i:prob[i]/6^6})\n",
    "    return prob\n",
    "\n",
    "peter=peter_prob()\n",
    "colin=colin_prob()\n",
    "prob=colin[6]+colin[7]+colin[8]\n",
    "peter_lst=[]\n",
    "colin_lst=[]\n",
    "for num in peter:\n",
    "    peter_lst.append(peter[num])\n",
    "for num in colin:\n",
    "    colin_lst.append(colin[num])\n",
    "colin_lst=colin_lst[3:]\n",
    "for i in range(1,len(peter_lst)):\n",
    "    prob+=peter_lst[i]*sum(colin_lst[:i])\n",
    "# print probability"
   ]
  },
  {
   "cell_type": "markdown",
   "metadata": {},
   "source": [
    "#### PE 220"
   ]
  },
  {
   "cell_type": "code",
   "execution_count": null,
   "metadata": {},
   "outputs": [],
   "source": [
    "def d(num):\n",
    "    s='Fa'\n",
    "    for _ in range(num):\n",
    "        new_s=''\n",
    "        for letter in s:\n",
    "            if letter=='a':\n",
    "                new_s=new_s+'aRbFR'\n",
    "            elif letter=='b':\n",
    "                new_s=new_s+'LFaLb'\n",
    "            else:\n",
    "                new_s=new_s+letter\n",
    "        s=new_s\n",
    "    return s\n",
    "\n",
    "steps=250000\n",
    "lst=d(20)[:steps*4]\n",
    "lst1=['a','b']\n",
    "lst=list(filter(lambda x:x not in lst1,lst))\n",
    "cursor=[0,0]\n",
    "direction=0\n",
    "for instruction in lst:\n",
    "    if instruction=='F':\n",
    "        if direction==0:\n",
    "            cursor[1]+=1\n",
    "        elif direction==1:\n",
    "            cursor[0]+=1\n",
    "        elif direction==2:\n",
    "            cursor[1]-=1\n",
    "        else:\n",
    "            cursor[0]-=1\n",
    "    elif instruction=='R':\n",
    "        direction+=1\n",
    "        direction%=4\n",
    "    else:\n",
    "        direction-=1\n",
    "        direction%=4\n",
    "    print(cursor)\n",
    "cursor"
   ]
  },
  {
   "cell_type": "markdown",
   "metadata": {},
   "source": [
    "#### PE 235"
   ]
  },
  {
   "cell_type": "code",
   "execution_count": null,
   "metadata": {},
   "outputs": [],
   "source": [
    "var('r')\n",
    "def u(k):\n",
    "    return (900-3*k)*r^(k-1)\n",
    "def s(num):\n",
    "    count=0\n",
    "    for i in range(1,num+1):\n",
    "        count+=u(i)\n",
    "    return count\n",
    "\n",
    "polynomial(r)=s(5000)+6*10^11\n",
    "def binary_search_decreasing(limits,poly,bits=48):\n",
    "    val=sum(limits)/2\n",
    "    lower_limit=limits[0]\n",
    "    upper_limit=limits[1]\n",
    "    for i in range(bits):\n",
    "        if poly(val)>0:\n",
    "            lower_limit=val\n",
    "            val=n((upper_limit+val)/2)\n",
    "        else:\n",
    "            upper_limit=val\n",
    "            val=n((lower_limit+val)/2)\n",
    "    return val\n",
    "print(n(polynomial(1)),n(polynomial(2)))\n",
    "val=binary_search_decreasing([1,2],polynomial)\n",
    "print(val,polynomial(val))"
   ]
  },
  {
   "cell_type": "markdown",
   "metadata": {},
   "source": [
    "#### PE 238"
   ]
  },
  {
   "cell_type": "code",
   "execution_count": null,
   "metadata": {},
   "outputs": [],
   "source": [
    "# 238 Infinite String Tour\n",
    "def blum_blum_shub(terms,initial=14025256,modulo=20300713):\n",
    "    ans=[initial]\n",
    "    for _ in range(terms-1):\n",
    "        ans.append(ans[-1]^2%modulo)\n",
    "    return ans\n",
    "\n",
    "lst=blum_blum_shub(2550000)\n",
    "lst[1:].index(lst[0])+1"
   ]
  },
  {
   "cell_type": "markdown",
   "metadata": {},
   "source": [
    "#### PE 243\n",
    "The resilience of n is defined by the number of proper fractions when \n",
    "- the numerators are $1$ to $n-1$ and \n",
    "- the denominator is $n$ divided by the total amount of fractions. \n",
    "- A fraction is proper when the numerator and denominator are coprime. This means that it can be defined as the totient function of $n$ divided by $n-1$"
   ]
  },
  {
   "cell_type": "code",
   "execution_count": null,
   "metadata": {},
   "outputs": [],
   "source": [
    "def resilience(d):\n",
    "    return euler_phi(d)/(d-1)\n",
    "\n",
    "def solve(limit):\n",
    "    for d in range(2*3*5*7*11*13*17*19,limit,2*3*5*7*11*13*17*19):\n",
    "        if resilience(d) < 15499/94744:\n",
    "            return d\n",
    "    return False\n",
    "solve(10^9)"
   ]
  },
  {
   "cell_type": "markdown",
   "metadata": {},
   "source": [
    "#### PE 345"
   ]
  },
  {
   "cell_type": "code",
   "execution_count": null,
   "metadata": {},
   "outputs": [],
   "source": [
    "(* 345 *)\n",
    "matrix = {\n",
    "  {7, 53, 183, 439, 863, 497, 383, 563, 79, 973, 287, 63, 343, 169, 583},\n",
    "  {627, 343, 773, 959, 943, 767, 473, 103, 699, 303, 957, 703, 583, 639, 913},\n",
    "  {447, 283, 463, 29, 23, 487, 463, 993, 119, 883, 327, 493, 423, 159, 743},\n",
    "  {217, 623, 3, 399, 853, 407, 103, 983, 89, 463, 290, 516, 212, 462, 350},\n",
    "  {960, 376, 682, 962, 300, 780, 486, 502, 912, 800, 250, 346, 172, 812, 350},\n",
    "  {870, 456, 192, 162, 593, 473, 915, 45, 989, 873, 823, 965, 425, 329, 803},\n",
    "  {973, 965, 905, 919, 133, 673, 665, 235, 509, 613, 673, 815, 165, 992, 326},\n",
    "  {322, 148, 972, 962, 286, 255, 941, 541, 265, 323, 925, 281, 601, 95, 973},\n",
    "  {445, 721, 11, 525, 473, 65, 511, 164, 138, 672, 18, 428, 154, 448, 848},\n",
    "  {414, 456, 310, 312, 798, 104, 566, 520, 302, 248, 694, 976, 430, 392, 198},\n",
    "  {184, 829, 373, 181, 631, 101, 969, 613, 840, 740, 778, 458, 284, 760, 390},\n",
    "  {821, 461, 843, 513, 17, 901, 711, 993, 293, 157, 274, 94, 192, 156, 574},\n",
    "  {34, 124, 4, 878, 450, 476, 712, 914, 838, 669, 875, 299, 823, 329, 699},\n",
    "  {815, 559, 813, 459, 522, 788, 168, 586, 966, 232, 308, 833, 251, 631, 107},\n",
    "  {813, 883, 451, 509, 615, 77, 281, 613, 459, 205, 380, 274, 302, 35, 805}\n",
    "};\n",
    "maxRowTotal = Max[Total /@ matrix]\n",
    "maxColumnTotal=Max[Total /@ Transpose[matrix]]"
   ]
  },
  {
   "cell_type": "markdown",
   "metadata": {
    "vscode": {
     "languageId": "sage"
    }
   },
   "source": [
    "#### PE 349"
   ]
  },
  {
   "cell_type": "code",
   "execution_count": null,
   "metadata": {},
   "outputs": [],
   "source": [
    "# 349 Langton's Ant\n",
    "squares=[]\n",
    "coords=(0,0)\n",
    "direction=0\n",
    "last_val=0\n",
    "for i in range(1,11065):\n",
    "    if coords in squares:\n",
    "        direction-=1\n",
    "        direction%=4\n",
    "        squares.remove(coords)\n",
    "    else:\n",
    "        direction+=1\n",
    "        direction%=4\n",
    "        squares.append(coords)\n",
    "    if direction==0:\n",
    "        coords=(coords[0],coords[1]+1)\n",
    "    elif direction==1:\n",
    "        coords=(coords[0]+1,coords[1])\n",
    "    elif direction==2:\n",
    "        coords=(coords[0],coords[1]-1)\n",
    "    else:\n",
    "        coords=(coords[0]-1,coords[1])\n",
    "len(squares)+(10^18-11064)//104*12    # after around 10k moves, highway forms"
   ]
  },
  {
   "cell_type": "code",
   "execution_count": null,
   "metadata": {},
   "outputs": [],
   "source": [
    "115384615384614952"
   ]
  },
  {
   "cell_type": "markdown",
   "metadata": {},
   "source": [
    "#### PE 357"
   ]
  },
  {
   "cell_type": "code",
   "execution_count": null,
   "metadata": {},
   "outputs": [],
   "source": [
    "test(1)"
   ]
  },
  {
   "cell_type": "code",
   "execution_count": null,
   "metadata": {},
   "outputs": [],
   "source": [
    "def test(i):\n",
    "    for j in range(2,isqrt(i)+1):\n",
    "        if i%j==0 and not is_prime(j+i//j):\n",
    "            return False\n",
    "    return True\n",
    "limit=10^8\n",
    "lst=list(map(lambda x:x-1,prime_range(limit)))\n",
    "count=0\n",
    "for i in lst:\n",
    "    count+=test(i)*i\n",
    "count"
   ]
  },
  {
   "cell_type": "markdown",
   "metadata": {},
   "source": [
    "#### PE 401"
   ]
  },
  {
   "cell_type": "code",
   "execution_count": null,
   "metadata": {},
   "outputs": [],
   "source": [
    "# 401 Sum of Squares of Divisors\n",
    "# use sublinear number-theoretic summation\n",
    "# up to 10^15\n",
    "# += 10^15//num*num^2"
   ]
  },
  {
   "cell_type": "markdown",
   "metadata": {},
   "source": [
    "#### PE 493\n",
    "Simple Formula: Number of colours(7) times the probability that colour will appear $\\begin{pmatrix}1-\\frac{\\begin{pmatrix}60\\\\20\\end{pmatrix}}{\\begin{pmatrix}70\\\\20\\end{pmatrix}}\\end{pmatrix}$"
   ]
  },
  {
   "cell_type": "code",
   "execution_count": null,
   "metadata": {},
   "outputs": [],
   "source": [
    "def compute(i,j):\n",
    "    ans=binomial(7,j)\n",
    "    tot=10*j\n",
    "    for k in range(i):\n",
    "        ans*=(tot-k)/(70-k)\n",
    "    return ans"
   ]
  },
  {
   "cell_type": "code",
   "execution_count": null,
   "metadata": {},
   "outputs": [],
   "source": [
    "# 493 Under the Rainbow\n",
    "p2=compute(20,2)\n",
    "p3=compute(20,3)\n",
    "p4=compute(20,4)\n",
    "p5=compute(20,5)\n",
    "p6=compute(20,6)\n",
    "p7=1-p6\n",
    "p6-=p5\n",
    "p5-=p4\n",
    "p4-=p3\n",
    "p3-=p2\n",
    "n(2*p2+3*p3+4*p4+5*p5+6*p6+7*p7)"
   ]
  },
  {
   "cell_type": "code",
   "execution_count": null,
   "metadata": {},
   "outputs": [],
   "source": [
    "n(7*(1-binomial(60,20)/binomial(70,20)))"
   ]
  },
  {
   "cell_type": "markdown",
   "metadata": {},
   "source": [
    "#### PE 700"
   ]
  },
  {
   "cell_type": "code",
   "execution_count": null,
   "metadata": {},
   "outputs": [],
   "source": [
    "# 700 Eulercoin\n",
    "seq=[1504170715041707]\n",
    "for n in range(2,10000000):\n",
    "    l=(1504170715041707*n) % 4503599627370517\n",
    "    if l<seq[-1]:\n",
    "        seq.append(l)\n",
    "seq"
   ]
  },
  {
   "cell_type": "markdown",
   "metadata": {
    "vscode": {
     "languageId": "sage"
    }
   },
   "source": [
    "#### PE -1"
   ]
  },
  {
   "cell_type": "code",
   "execution_count": null,
   "metadata": {},
   "outputs": [],
   "source": [
    "# Use ramanujan summation formula\n",
    "s=-12\n"
   ]
  },
  {
   "cell_type": "markdown",
   "metadata": {},
   "source": [
    "#### PE $\\sqrt{13}$"
   ]
  },
  {
   "cell_type": "code",
   "execution_count": null,
   "metadata": {},
   "outputs": [],
   "source": [
    "def root13_digit_sum(digits=1000):\n",
    "    return sum(\n",
    "        map(int,\n",
    "            str(n(sqrt(13), digits=digits+5))  # +5 to be safe\n",
    "            .replace('.', '')[1:digits+1]      # skip the integer part '3'\n",
    "        )\n",
    "    )\n",
    "# root13_digit_sum(1000)"
   ]
  },
  {
   "cell_type": "code",
   "execution_count": null,
   "metadata": {},
   "outputs": [],
   "source": [
    "# Bonus Problem\n",
    "num=n(sqrt(13),digits=2000)\n",
    "lst=list(str(num))\n",
    "lst=lst[2:1002]\n",
    "# sum(map(int,lst))"
   ]
  },
  {
   "cell_type": "code",
   "execution_count": null,
   "metadata": {},
   "outputs": [],
   "source": [
    "list(continued_fraction(sqrt(13))[1:1003])"
   ]
  },
  {
   "cell_type": "code",
   "execution_count": null,
   "metadata": {},
   "outputs": [],
   "source": [
    "bronze_ratio=1.5\n",
    "for i in range(1,1000):\n",
    "    bronze_ratio=3+1/bronze_ratio\n",
    "bronze_ratio"
   ]
  },
  {
   "cell_type": "markdown",
   "metadata": {
    "vscode": {
     "languageId": "sage"
    }
   },
   "source": [
    "#### PE Heegner"
   ]
  },
  {
   "cell_type": "code",
   "execution_count": null,
   "metadata": {},
   "outputs": [],
   "source": [
    "def compute(j):\n",
    "    ans=n(cosh(pi*sqrt(j)),10000)\n",
    "    return (ans-floor(ans))*10^6\n",
    "\n",
    "for i in range(2,1001):\n",
    "    if not is_square(i):\n",
    "        if n(compute(i))>999999.999999 or n(compute(i))<0.000001:\n",
    "            print(n(compute(i)),i)"
   ]
  }
 ],
 "metadata": {
  "kernelspec": {
   "display_name": "SageMath 10.6",
   "language": "sage",
   "name": "sagemath"
  },
  "language_info": {
   "codemirror_mode": {
    "name": "ipython",
    "version": 3
   },
   "file_extension": ".py",
   "mimetype": "text/x-python",
   "name": "sage",
   "nbconvert_exporter": "python",
   "pygments_lexer": "ipython3",
   "version": "3.12.10"
  }
 },
 "nbformat": 4,
 "nbformat_minor": 4
}
