{
 "cells": [
  {
   "cell_type": "markdown",
   "metadata": {},
   "source": [
    "# Vector calculus with SageMath\n",
    "\n",
    "## Part 4: Changing coordinates\n",
    "\n",
    "This notebook illustrates some vector calculus capabilities of SageMath within the 3-dimensional Euclidean space. The corresponding tools have been developed within\n",
    "the [SageManifolds](https://sagemanifolds.obspm.fr) project.\n",
    "\n",
    "Click [here](https://raw.githubusercontent.com/sagemanifolds/SageManifolds/master/Notebooks/SM_vector_calc_change.ipynb) to download the notebook file (ipynb format). To run it, you must start SageMath with the Jupyter interface, via the command `sage -n jupyter`"
   ]
  },
  {
   "cell_type": "markdown",
   "metadata": {},
   "source": [
    "First we set up the notebook to display math formulas using LaTeX formatting:"
   ]
  },
  {
   "cell_type": "code",
   "execution_count": null,
   "metadata": {
    "vscode": {
     "languageId": "sage"
    }
   },
   "outputs": [],
   "source": [
    "%display latex"
   ]
  },
  {
   "cell_type": "markdown",
   "metadata": {},
   "source": [
    "## Cartesian coordinates"
   ]
  },
  {
   "cell_type": "markdown",
   "metadata": {},
   "source": [
    "We start by declaring the 3-dimensional Euclidean space $\\mathbb{E}^3$, with $(x,y,z)$ as Cartesian coordinates:"
   ]
  },
  {
   "cell_type": "code",
   "execution_count": null,
   "metadata": {
    "vscode": {
     "languageId": "sage"
    }
   },
   "outputs": [
    {
     "name": "stdout",
     "output_type": "stream",
     "text": [
      "Euclidean space E^3\n"
     ]
    },
    {
     "data": {
      "text/plain": [
       "Euclidean space E^3"
      ]
     },
     "metadata": {},
     "output_type": "display_data"
    }
   ],
   "source": [
    "E.<x,y,z> = EuclideanSpace()\n",
    "print(E)\n",
    "E"
   ]
  },
  {
   "cell_type": "markdown",
   "metadata": {},
   "source": [
    "$\\mathbb{E}^3$ is endowed with the chart of Cartesian coordinates:"
   ]
  },
  {
   "cell_type": "code",
   "execution_count": null,
   "metadata": {
    "vscode": {
     "languageId": "sage"
    }
   },
   "outputs": [
    {
     "data": {
      "text/plain": [
       "[Chart (E^3, (x, y, z))]"
      ]
     },
     "metadata": {},
     "output_type": "display_data"
    }
   ],
   "source": [
    "E.atlas()"
   ]
  },
  {
   "cell_type": "markdown",
   "metadata": {},
   "source": [
    "Let us denote by `cartesian` the chart of Cartesian coordinates:"
   ]
  },
  {
   "cell_type": "code",
   "execution_count": null,
   "metadata": {
    "vscode": {
     "languageId": "sage"
    }
   },
   "outputs": [],
   "source": [
    "cartesian = E.cartesian_coordinates()\n",
    "cartesian"
   ]
  },
  {
   "cell_type": "markdown",
   "metadata": {},
   "source": [
    "The access to the individual coordinates is performed via the square bracket operator:"
   ]
  },
  {
   "cell_type": "code",
   "execution_count": null,
   "metadata": {
    "vscode": {
     "languageId": "sage"
    }
   },
   "outputs": [],
   "source": [
    "cartesian[1]"
   ]
  },
  {
   "cell_type": "code",
   "execution_count": null,
   "metadata": {
    "vscode": {
     "languageId": "sage"
    }
   },
   "outputs": [],
   "source": [
    "cartesian[:]"
   ]
  },
  {
   "cell_type": "markdown",
   "metadata": {},
   "source": [
    "Thanks to use of `<x,y,z>` when declaring `E`, the Python variables `x`, `y` and `z` have been created (i.e. there is no need to declare them by something like `y = var('y')`); they represent the coordinates $(x,y,z)$ as symbolic expressions:"
   ]
  },
  {
   "cell_type": "code",
   "execution_count": null,
   "metadata": {
    "vscode": {
     "languageId": "sage"
    }
   },
   "outputs": [],
   "source": [
    "y is cartesian[2]"
   ]
  },
  {
   "cell_type": "code",
   "execution_count": null,
   "metadata": {
    "vscode": {
     "languageId": "sage"
    }
   },
   "outputs": [],
   "source": [
    "type(y)"
   ]
  },
  {
   "cell_type": "markdown",
   "metadata": {},
   "source": [
    "Each of the Cartesian coordinates spans the entire real line:"
   ]
  },
  {
   "cell_type": "code",
   "execution_count": null,
   "metadata": {
    "vscode": {
     "languageId": "sage"
    }
   },
   "outputs": [],
   "source": [
    "cartesian.coord_range()"
   ]
  },
  {
   "cell_type": "markdown",
   "metadata": {},
   "source": [
    "Being the only coordinate chart created so far, `cartesian` is the default chart on `E`:"
   ]
  },
  {
   "cell_type": "code",
   "execution_count": null,
   "metadata": {
    "vscode": {
     "languageId": "sage"
    }
   },
   "outputs": [],
   "source": [
    "cartesian is E.default_chart()"
   ]
  },
  {
   "cell_type": "markdown",
   "metadata": {},
   "source": [
    "$\\mathbb{E}^3$ is endowed with the orthonormal vector frame $(e_x, e_y, e_z)$ associated with Cartesian coordinates: "
   ]
  },
  {
   "cell_type": "code",
   "execution_count": null,
   "metadata": {
    "vscode": {
     "languageId": "sage"
    }
   },
   "outputs": [],
   "source": [
    "E.frames()"
   ]
  },
  {
   "cell_type": "markdown",
   "metadata": {},
   "source": [
    "Let us denote it by `cartesian_frame`:"
   ]
  },
  {
   "cell_type": "code",
   "execution_count": null,
   "metadata": {
    "vscode": {
     "languageId": "sage"
    }
   },
   "outputs": [],
   "source": [
    "cartesian_frame = E.cartesian_frame()\n",
    "cartesian_frame"
   ]
  },
  {
   "cell_type": "code",
   "execution_count": null,
   "metadata": {
    "vscode": {
     "languageId": "sage"
    }
   },
   "outputs": [],
   "source": [
    "cartesian_frame is E.default_frame()"
   ]
  },
  {
   "cell_type": "markdown",
   "metadata": {},
   "source": [
    "Each element of this frame is a unit vector field; for instance, we have $e_x\\cdot e_x = 1$:"
   ]
  },
  {
   "cell_type": "code",
   "execution_count": null,
   "metadata": {
    "vscode": {
     "languageId": "sage"
    }
   },
   "outputs": [],
   "source": [
    "e_x = cartesian_frame[1]\n",
    "e_x"
   ]
  },
  {
   "cell_type": "code",
   "execution_count": null,
   "metadata": {
    "vscode": {
     "languageId": "sage"
    }
   },
   "outputs": [],
   "source": [
    "e_x.dot(e_x).expr()"
   ]
  },
  {
   "cell_type": "markdown",
   "metadata": {},
   "source": [
    "as well as $e_x\\cdot e_y = 0$:"
   ]
  },
  {
   "cell_type": "code",
   "execution_count": null,
   "metadata": {
    "vscode": {
     "languageId": "sage"
    }
   },
   "outputs": [],
   "source": [
    "e_y = cartesian_frame[2]\n",
    "e_x.dot(e_y).expr()"
   ]
  },
  {
   "cell_type": "markdown",
   "metadata": {},
   "source": [
    "## Spherical coordinates\n",
    "\n",
    "Spherical coordinates are introduced by"
   ]
  },
  {
   "cell_type": "code",
   "execution_count": null,
   "metadata": {
    "vscode": {
     "languageId": "sage"
    }
   },
   "outputs": [],
   "source": [
    "spherical.<r,th,ph> = E.spherical_coordinates()\n",
    "spherical"
   ]
  },
  {
   "cell_type": "markdown",
   "metadata": {},
   "source": [
    "We have"
   ]
  },
  {
   "cell_type": "code",
   "execution_count": null,
   "metadata": {
    "vscode": {
     "languageId": "sage"
    }
   },
   "outputs": [],
   "source": [
    "spherical[:]"
   ]
  },
  {
   "cell_type": "code",
   "execution_count": null,
   "metadata": {
    "vscode": {
     "languageId": "sage"
    }
   },
   "outputs": [],
   "source": [
    "spherical.coord_range()"
   ]
  },
  {
   "cell_type": "markdown",
   "metadata": {},
   "source": [
    "$\\mathbb{E}^3$ is now endowed with two coordinate charts:"
   ]
  },
  {
   "cell_type": "code",
   "execution_count": null,
   "metadata": {
    "vscode": {
     "languageId": "sage"
    }
   },
   "outputs": [],
   "source": [
    "E.atlas()"
   ]
  },
  {
   "cell_type": "markdown",
   "metadata": {},
   "source": [
    "The change-of-coordinate formulas have been automatically implemented during the above call `E.spherical_coordinates()`:"
   ]
  },
  {
   "cell_type": "code",
   "execution_count": null,
   "metadata": {
    "vscode": {
     "languageId": "sage"
    }
   },
   "outputs": [],
   "source": [
    "E.coord_change(spherical, cartesian).display()"
   ]
  },
  {
   "cell_type": "code",
   "execution_count": null,
   "metadata": {
    "vscode": {
     "languageId": "sage"
    }
   },
   "outputs": [],
   "source": [
    "E.coord_change(cartesian, spherical).display()"
   ]
  },
  {
   "cell_type": "markdown",
   "metadata": {},
   "source": [
    "$\\mathbb{E}^3$ is also now endowed with three vector frames:"
   ]
  },
  {
   "cell_type": "code",
   "execution_count": null,
   "metadata": {
    "vscode": {
     "languageId": "sage"
    }
   },
   "outputs": [],
   "source": [
    "E.frames()"
   ]
  },
  {
   "cell_type": "markdown",
   "metadata": {},
   "source": [
    "The second one is the coordinate frame of spherical coordinates, while the third one is the standard orthonormal frame associated with spherical coordinates. For Cartesian coordinates, the coordinate frame and the orthonormal frame coincide: it is $(e_x,e_y,e_z)$. For spherical coordinates, the orthonormal frame is denoted $(e_r,e_\\theta,e_\\phi)$ and is returned by the method `spherical_frame()`:"
   ]
  },
  {
   "cell_type": "code",
   "execution_count": null,
   "metadata": {
    "vscode": {
     "languageId": "sage"
    }
   },
   "outputs": [],
   "source": [
    "spherical_frame = E.spherical_frame()\n",
    "spherical_frame"
   ]
  },
  {
   "cell_type": "markdown",
   "metadata": {},
   "source": [
    "We may check that it is an orthonormal frame:"
   ]
  },
  {
   "cell_type": "code",
   "execution_count": null,
   "metadata": {
    "vscode": {
     "languageId": "sage"
    }
   },
   "outputs": [],
   "source": [
    "es = spherical_frame\n",
    "[[es[i].dot(es[j]).expr() for j in E.irange()] for i in E.irange()]"
   ]
  },
  {
   "cell_type": "markdown",
   "metadata": {},
   "source": [
    "The orthonormal spherical frame expressed in terms of the Cartesian one: "
   ]
  },
  {
   "cell_type": "code",
   "execution_count": null,
   "metadata": {
    "vscode": {
     "languageId": "sage"
    }
   },
   "outputs": [],
   "source": [
    "for vec in spherical_frame:\n",
    "    show(vec.display(cartesian_frame, spherical))"
   ]
  },
  {
   "cell_type": "markdown",
   "metadata": {},
   "source": [
    "The reverse transformation:"
   ]
  },
  {
   "cell_type": "code",
   "execution_count": null,
   "metadata": {
    "vscode": {
     "languageId": "sage"
    }
   },
   "outputs": [],
   "source": [
    "for vec in cartesian_frame:\n",
    "    show(vec.display(spherical_frame, spherical))"
   ]
  },
  {
   "cell_type": "markdown",
   "metadata": {},
   "source": [
    "The orthonormal frame $(e_r,e_\\theta,e_\\phi)$ expressed in terms on the coordinate frame $\\left(\\frac{\\partial}{\\partial r}, \\frac{\\partial}{\\partial\\theta}, \\frac{\\partial}{\\partial \\phi}\\right)$ (the latter being returned by the method `frame()` acting on the chart `spherical`):"
   ]
  },
  {
   "cell_type": "code",
   "execution_count": null,
   "metadata": {
    "vscode": {
     "languageId": "sage"
    }
   },
   "outputs": [],
   "source": [
    "for vec in spherical_frame:\n",
    "    show(vec.display(spherical.frame(), spherical))"
   ]
  },
  {
   "cell_type": "markdown",
   "metadata": {},
   "source": [
    "## Cylindrical coordinates\n",
    "\n",
    "Cylindrical coordinates are introduced by"
   ]
  },
  {
   "cell_type": "code",
   "execution_count": null,
   "metadata": {
    "vscode": {
     "languageId": "sage"
    }
   },
   "outputs": [],
   "source": [
    "cylindrical.<rh,ph,z> = E.cylindrical_coordinates()\n",
    "cylindrical"
   ]
  },
  {
   "cell_type": "markdown",
   "metadata": {},
   "source": [
    "We have"
   ]
  },
  {
   "cell_type": "code",
   "execution_count": null,
   "metadata": {
    "vscode": {
     "languageId": "sage"
    }
   },
   "outputs": [],
   "source": [
    "cylindrical[:]"
   ]
  },
  {
   "cell_type": "code",
   "execution_count": null,
   "metadata": {
    "vscode": {
     "languageId": "sage"
    }
   },
   "outputs": [],
   "source": [
    "rh is cylindrical[1]"
   ]
  },
  {
   "cell_type": "code",
   "execution_count": null,
   "metadata": {
    "vscode": {
     "languageId": "sage"
    }
   },
   "outputs": [],
   "source": [
    "cylindrical.coord_range()"
   ]
  },
  {
   "cell_type": "markdown",
   "metadata": {},
   "source": [
    "$\\mathbb{E}^3$ is now endowed with three coordinate charts:"
   ]
  },
  {
   "cell_type": "code",
   "execution_count": null,
   "metadata": {
    "vscode": {
     "languageId": "sage"
    }
   },
   "outputs": [],
   "source": [
    "E.atlas()"
   ]
  },
  {
   "cell_type": "markdown",
   "metadata": {},
   "source": [
    "The transformations linking the cylindrical coordinates to the Cartesian ones are"
   ]
  },
  {
   "cell_type": "code",
   "execution_count": null,
   "metadata": {
    "vscode": {
     "languageId": "sage"
    }
   },
   "outputs": [],
   "source": [
    "E.coord_change(cylindrical, cartesian).display()"
   ]
  },
  {
   "cell_type": "code",
   "execution_count": null,
   "metadata": {
    "vscode": {
     "languageId": "sage"
    }
   },
   "outputs": [],
   "source": [
    "E.coord_change(cartesian, cylindrical).display()"
   ]
  },
  {
   "cell_type": "markdown",
   "metadata": {},
   "source": [
    "$\\mathbb{E}^3$ is also now endowed with five vector frames:"
   ]
  },
  {
   "cell_type": "code",
   "execution_count": null,
   "metadata": {
    "vscode": {
     "languageId": "sage"
    }
   },
   "outputs": [],
   "source": [
    "E.frames()"
   ]
  },
  {
   "cell_type": "markdown",
   "metadata": {},
   "source": [
    "The orthonormal frame associated with cylindrical coordinates is $(e_\\rho, e_\\phi, e_z)$:"
   ]
  },
  {
   "cell_type": "code",
   "execution_count": null,
   "metadata": {
    "vscode": {
     "languageId": "sage"
    }
   },
   "outputs": [],
   "source": [
    "cylindrical_frame = E.cylindrical_frame()\n",
    "cylindrical_frame"
   ]
  },
  {
   "cell_type": "markdown",
   "metadata": {},
   "source": [
    "We may check that it is an orthonormal frame:"
   ]
  },
  {
   "cell_type": "code",
   "execution_count": null,
   "metadata": {
    "vscode": {
     "languageId": "sage"
    }
   },
   "outputs": [],
   "source": [
    "ec = cylindrical_frame\n",
    "[[ec[i].dot(ec[j]).expr() for j in E.irange()] for i in E.irange()]"
   ]
  },
  {
   "cell_type": "markdown",
   "metadata": {},
   "source": [
    "The orthonormal cylindrical frame expressed in terms of the Cartesian one: "
   ]
  },
  {
   "cell_type": "code",
   "execution_count": null,
   "metadata": {
    "vscode": {
     "languageId": "sage"
    }
   },
   "outputs": [],
   "source": [
    "for vec in cylindrical_frame:\n",
    "    show(vec.display(cartesian_frame, cylindrical))"
   ]
  },
  {
   "cell_type": "markdown",
   "metadata": {},
   "source": [
    "The reverse transformation:"
   ]
  },
  {
   "cell_type": "code",
   "execution_count": null,
   "metadata": {
    "vscode": {
     "languageId": "sage"
    }
   },
   "outputs": [],
   "source": [
    "for vec in cartesian_frame:\n",
    "    show(vec.display(cylindrical_frame, cylindrical))"
   ]
  },
  {
   "cell_type": "markdown",
   "metadata": {},
   "source": [
    "The orthonormal cylindrical frame expressed in terms of the spherical one: "
   ]
  },
  {
   "cell_type": "code",
   "execution_count": null,
   "metadata": {
    "vscode": {
     "languageId": "sage"
    }
   },
   "outputs": [],
   "source": [
    "for vec in cylindrical_frame:\n",
    "    show(vec.display(spherical_frame, spherical))"
   ]
  },
  {
   "cell_type": "markdown",
   "metadata": {},
   "source": [
    "The reverse transformation:"
   ]
  },
  {
   "cell_type": "code",
   "execution_count": null,
   "metadata": {
    "vscode": {
     "languageId": "sage"
    }
   },
   "outputs": [],
   "source": [
    "for vec in spherical_frame:\n",
    "    show(vec.display(cylindrical_frame, spherical))"
   ]
  },
  {
   "cell_type": "markdown",
   "metadata": {},
   "source": [
    "The orthonormal frame $(e_\\rho,e_\\phi,e_z)$ expressed in terms on the coordinate frame $\\left(\\frac{\\partial}{\\partial\\rho}, \\frac{\\partial}{\\partial\\phi}, \\frac{\\partial}{\\partial z}\\right)$ (the latter being returned by the method `frame()` acting on the chart `cylindrical`):"
   ]
  },
  {
   "cell_type": "code",
   "execution_count": null,
   "metadata": {
    "vscode": {
     "languageId": "sage"
    }
   },
   "outputs": [],
   "source": [
    "for vec in cylindrical_frame:\n",
    "    show(vec.display(cylindrical.frame(), cylindrical))"
   ]
  },
  {
   "cell_type": "markdown",
   "metadata": {},
   "source": [
    "## Coordinates of a point\n",
    "\n",
    "We introduce a point $p\\in \\mathbb{E}^3$ via the generic SageMath syntax for creating an element from its parent (here $\\mathbb{E}^3$), i.e. the call operator `()`, with the coordinates of the point as the first argument:"
   ]
  },
  {
   "cell_type": "code",
   "execution_count": null,
   "metadata": {
    "vscode": {
     "languageId": "sage"
    }
   },
   "outputs": [],
   "source": [
    "p = E((-1, 1,0), chart=cartesian, name='p')\n",
    "print(p)"
   ]
  },
  {
   "cell_type": "markdown",
   "metadata": {},
   "source": [
    "Actually, since the Cartesian coordinates are the default ones, the above writting is equivalent to"
   ]
  },
  {
   "cell_type": "code",
   "execution_count": null,
   "metadata": {
    "vscode": {
     "languageId": "sage"
    }
   },
   "outputs": [],
   "source": [
    "p = E((-1, 1,0), name='p')\n",
    "print(p)"
   ]
  },
  {
   "cell_type": "markdown",
   "metadata": {},
   "source": [
    "The coordinates of $p$ in a given coordinate chart are obtained by letting the corresponding chart act on $p$:"
   ]
  },
  {
   "cell_type": "code",
   "execution_count": null,
   "metadata": {
    "vscode": {
     "languageId": "sage"
    }
   },
   "outputs": [],
   "source": [
    "cartesian(p)"
   ]
  },
  {
   "cell_type": "code",
   "execution_count": null,
   "metadata": {
    "vscode": {
     "languageId": "sage"
    }
   },
   "outputs": [],
   "source": [
    "spherical(p)"
   ]
  },
  {
   "cell_type": "code",
   "execution_count": null,
   "metadata": {
    "vscode": {
     "languageId": "sage"
    }
   },
   "outputs": [],
   "source": [
    "cylindrical(p)"
   ]
  },
  {
   "cell_type": "markdown",
   "metadata": {},
   "source": [
    "A point defined from its spherical coordinates:"
   ]
  },
  {
   "cell_type": "code",
   "execution_count": null,
   "metadata": {
    "vscode": {
     "languageId": "sage"
    }
   },
   "outputs": [],
   "source": [
    "q = E((4,pi/3,pi), chart=spherical, name='q')\n",
    "print(q)"
   ]
  },
  {
   "cell_type": "code",
   "execution_count": null,
   "metadata": {
    "vscode": {
     "languageId": "sage"
    }
   },
   "outputs": [],
   "source": [
    "spherical(q)"
   ]
  },
  {
   "cell_type": "code",
   "execution_count": null,
   "metadata": {
    "vscode": {
     "languageId": "sage"
    }
   },
   "outputs": [],
   "source": [
    "cartesian(q)"
   ]
  },
  {
   "cell_type": "code",
   "execution_count": null,
   "metadata": {
    "vscode": {
     "languageId": "sage"
    }
   },
   "outputs": [],
   "source": [
    "cylindrical(q)"
   ]
  },
  {
   "cell_type": "markdown",
   "metadata": {},
   "source": [
    "## Expressions of a scalar field in various coordinate systems"
   ]
  },
  {
   "cell_type": "markdown",
   "metadata": {},
   "source": [
    "Let us define a scalar field on $\\mathbb{E}^3$ from its expression in Cartesian coordinates:"
   ]
  },
  {
   "cell_type": "code",
   "execution_count": null,
   "metadata": {
    "vscode": {
     "languageId": "sage"
    }
   },
   "outputs": [],
   "source": [
    "f = E.scalar_field(x^2+y^2 - z^2, name='f')"
   ]
  },
  {
   "cell_type": "markdown",
   "metadata": {},
   "source": [
    "Note that since the Cartesian coordinates are the default ones, we did not specify them in the above definition. Thanks to the known coordinate transformations, the expression of $f$ in terms of other coordinates is automatically computed:"
   ]
  },
  {
   "cell_type": "code",
   "execution_count": null,
   "metadata": {
    "vscode": {
     "languageId": "sage"
    }
   },
   "outputs": [],
   "source": [
    "f.display()"
   ]
  },
  {
   "cell_type": "markdown",
   "metadata": {},
   "source": [
    "We can limit the output to a single coordinate system:"
   ]
  },
  {
   "cell_type": "code",
   "execution_count": null,
   "metadata": {
    "vscode": {
     "languageId": "sage"
    }
   },
   "outputs": [],
   "source": [
    "f.display(cartesian)"
   ]
  },
  {
   "cell_type": "code",
   "execution_count": null,
   "metadata": {
    "vscode": {
     "languageId": "sage"
    }
   },
   "outputs": [],
   "source": [
    "f.display(cylindrical)"
   ]
  },
  {
   "cell_type": "markdown",
   "metadata": {},
   "source": [
    "The coordinate expression in a given coordinate system is obtained via the method `expr()`"
   ]
  },
  {
   "cell_type": "code",
   "execution_count": null,
   "metadata": {
    "vscode": {
     "languageId": "sage"
    }
   },
   "outputs": [],
   "source": [
    "f.expr()  # expression in the default chart (Cartesian coordinates)"
   ]
  },
  {
   "cell_type": "code",
   "execution_count": null,
   "metadata": {
    "vscode": {
     "languageId": "sage"
    }
   },
   "outputs": [],
   "source": [
    "f.expr(spherical)"
   ]
  },
  {
   "cell_type": "code",
   "execution_count": null,
   "metadata": {
    "vscode": {
     "languageId": "sage"
    }
   },
   "outputs": [],
   "source": [
    "f.expr(cylindrical)"
   ]
  },
  {
   "cell_type": "markdown",
   "metadata": {},
   "source": [
    "The value of $f$ at points $p$ and $q$:"
   ]
  },
  {
   "cell_type": "code",
   "execution_count": null,
   "metadata": {
    "vscode": {
     "languageId": "sage"
    }
   },
   "outputs": [],
   "source": [
    "f(p)"
   ]
  },
  {
   "cell_type": "code",
   "execution_count": null,
   "metadata": {
    "vscode": {
     "languageId": "sage"
    }
   },
   "outputs": [],
   "source": [
    "f(q)"
   ]
  },
  {
   "cell_type": "markdown",
   "metadata": {},
   "source": [
    "Of course, we may define a scalar field from its coordinate expression in a chart that is not the default one:"
   ]
  },
  {
   "cell_type": "code",
   "execution_count": null,
   "metadata": {
    "vscode": {
     "languageId": "sage"
    }
   },
   "outputs": [],
   "source": [
    "g = E.scalar_field(r^2, chart=spherical, name='g')"
   ]
  },
  {
   "cell_type": "markdown",
   "metadata": {},
   "source": [
    "Instead of using the keyword argument `chart`, one can pass a dictionary as the first argument, with the chart as key:"
   ]
  },
  {
   "cell_type": "code",
   "execution_count": null,
   "metadata": {
    "vscode": {
     "languageId": "sage"
    }
   },
   "outputs": [],
   "source": [
    "g = E.scalar_field({spherical: r^2}, name='g')"
   ]
  },
  {
   "cell_type": "code",
   "execution_count": null,
   "metadata": {
    "vscode": {
     "languageId": "sage"
    }
   },
   "outputs": [],
   "source": [
    "g.display()"
   ]
  },
  {
   "cell_type": "markdown",
   "metadata": {},
   "source": [
    "## Expression of a vector field in various frames\n",
    "\n",
    "Let us introduce a vector field on $\\mathbb{E}^3$ by its components in the Cartesian frame. Since the latter is the default vector frame on $\\mathbb{E}^3$, it suffices to write:"
   ]
  },
  {
   "cell_type": "code",
   "execution_count": null,
   "metadata": {
    "vscode": {
     "languageId": "sage"
    }
   },
   "outputs": [],
   "source": [
    "v = E.vector_field(-y, x, z^2, name='v')\n",
    "v.display()"
   ]
  },
  {
   "cell_type": "markdown",
   "metadata": {},
   "source": [
    "Equivalently, a vector field can be defined directly from its expansion on the Cartesian frame: "
   ]
  },
  {
   "cell_type": "code",
   "execution_count": null,
   "metadata": {
    "vscode": {
     "languageId": "sage"
    }
   },
   "outputs": [],
   "source": [
    "ex, ey, ez = cartesian_frame[:]\n",
    "v = -y*ex + x*ey + z^2*ez\n",
    "v.display()"
   ]
  },
  {
   "cell_type": "markdown",
   "metadata": {},
   "source": [
    "Let us provide `v` with some name, as above:"
   ]
  },
  {
   "cell_type": "code",
   "execution_count": null,
   "metadata": {
    "vscode": {
     "languageId": "sage"
    }
   },
   "outputs": [],
   "source": [
    "v.set_name('v')\n",
    "v.display()"
   ]
  },
  {
   "cell_type": "markdown",
   "metadata": {},
   "source": [
    "The components of $v$ are returned by the square bracket operator:"
   ]
  },
  {
   "cell_type": "code",
   "execution_count": null,
   "metadata": {
    "vscode": {
     "languageId": "sage"
    }
   },
   "outputs": [],
   "source": [
    "v[1]"
   ]
  },
  {
   "cell_type": "code",
   "execution_count": null,
   "metadata": {
    "vscode": {
     "languageId": "sage"
    }
   },
   "outputs": [],
   "source": [
    "v[:]"
   ]
  },
  {
   "cell_type": "markdown",
   "metadata": {},
   "source": [
    "The expression of $v$ in terms of the orthonormal spherical frame is obtained by"
   ]
  },
  {
   "cell_type": "code",
   "execution_count": null,
   "metadata": {
    "vscode": {
     "languageId": "sage"
    }
   },
   "outputs": [],
   "source": [
    "v.display(spherical_frame)"
   ]
  },
  {
   "cell_type": "markdown",
   "metadata": {},
   "source": [
    "We note that the components are still expressed in the default chart (Cartesian coordinates). To have them expressed in the spherical chart, it suffices to pass the latter as a second argument to `display()`:"
   ]
  },
  {
   "cell_type": "code",
   "execution_count": null,
   "metadata": {
    "vscode": {
     "languageId": "sage"
    }
   },
   "outputs": [],
   "source": [
    "v.display(spherical_frame, spherical)"
   ]
  },
  {
   "cell_type": "markdown",
   "metadata": {},
   "source": [
    "Again, the components of $v$ are obtained by means of the square bracket operator, by specify the vector frame as first argument, and the coordinate chart as the last one:"
   ]
  },
  {
   "cell_type": "code",
   "execution_count": null,
   "metadata": {
    "vscode": {
     "languageId": "sage"
    }
   },
   "outputs": [],
   "source": [
    "v[spherical_frame, 1]"
   ]
  },
  {
   "cell_type": "code",
   "execution_count": null,
   "metadata": {
    "vscode": {
     "languageId": "sage"
    }
   },
   "outputs": [],
   "source": [
    "v[spherical_frame, 1, spherical]"
   ]
  },
  {
   "cell_type": "code",
   "execution_count": null,
   "metadata": {
    "vscode": {
     "languageId": "sage"
    }
   },
   "outputs": [],
   "source": [
    "v[spherical_frame, :, spherical]"
   ]
  },
  {
   "cell_type": "markdown",
   "metadata": {},
   "source": [
    "Similarly, the expression of $v$ in terms of the cylindrical frame is"
   ]
  },
  {
   "cell_type": "code",
   "execution_count": null,
   "metadata": {
    "vscode": {
     "languageId": "sage"
    }
   },
   "outputs": [],
   "source": [
    "v.display(cylindrical_frame, cylindrical)"
   ]
  },
  {
   "cell_type": "code",
   "execution_count": null,
   "metadata": {
    "vscode": {
     "languageId": "sage"
    }
   },
   "outputs": [],
   "source": [
    "v[cylindrical_frame,:,cylindrical]"
   ]
  },
  {
   "cell_type": "markdown",
   "metadata": {},
   "source": [
    "The value of the vector field $v$ at point $p$:"
   ]
  },
  {
   "cell_type": "code",
   "execution_count": null,
   "metadata": {
    "vscode": {
     "languageId": "sage"
    }
   },
   "outputs": [],
   "source": [
    "vp = v.at(p)\n",
    "print(vp)"
   ]
  },
  {
   "cell_type": "code",
   "execution_count": null,
   "metadata": {
    "vscode": {
     "languageId": "sage"
    }
   },
   "outputs": [],
   "source": [
    "vp.display()"
   ]
  },
  {
   "cell_type": "code",
   "execution_count": null,
   "metadata": {
    "vscode": {
     "languageId": "sage"
    }
   },
   "outputs": [],
   "source": [
    "vp.display(spherical_frame.at(p))"
   ]
  },
  {
   "cell_type": "code",
   "execution_count": null,
   "metadata": {
    "vscode": {
     "languageId": "sage"
    }
   },
   "outputs": [],
   "source": [
    "vp.display(cylindrical_frame.at(p))"
   ]
  },
  {
   "cell_type": "markdown",
   "metadata": {},
   "source": [
    "The value of the vector field $v$ at point $q$:"
   ]
  },
  {
   "cell_type": "code",
   "execution_count": null,
   "metadata": {
    "vscode": {
     "languageId": "sage"
    }
   },
   "outputs": [],
   "source": [
    "vq = v.at(q)\n",
    "print(vq)"
   ]
  },
  {
   "cell_type": "code",
   "execution_count": null,
   "metadata": {
    "vscode": {
     "languageId": "sage"
    }
   },
   "outputs": [],
   "source": [
    "vq.display()"
   ]
  },
  {
   "cell_type": "code",
   "execution_count": null,
   "metadata": {
    "vscode": {
     "languageId": "sage"
    }
   },
   "outputs": [],
   "source": [
    "vq.display(spherical_frame.at(q))"
   ]
  },
  {
   "cell_type": "code",
   "execution_count": null,
   "metadata": {
    "vscode": {
     "languageId": "sage"
    }
   },
   "outputs": [],
   "source": [
    "vq.display(cylindrical_frame.at(q))"
   ]
  },
  {
   "cell_type": "markdown",
   "metadata": {},
   "source": [
    "## Changing the default coordinates and default vector frame\n",
    "\n",
    "At any time, one may change the default coordinates by the method `set_default_chart`:"
   ]
  },
  {
   "cell_type": "code",
   "execution_count": null,
   "metadata": {
    "vscode": {
     "languageId": "sage"
    }
   },
   "outputs": [],
   "source": [
    "E.set_default_chart(spherical)"
   ]
  },
  {
   "cell_type": "markdown",
   "metadata": {},
   "source": [
    "Then"
   ]
  },
  {
   "cell_type": "code",
   "execution_count": null,
   "metadata": {
    "vscode": {
     "languageId": "sage"
    }
   },
   "outputs": [],
   "source": [
    "f.expr()"
   ]
  },
  {
   "cell_type": "code",
   "execution_count": null,
   "metadata": {
    "vscode": {
     "languageId": "sage"
    }
   },
   "outputs": [],
   "source": [
    "v.display()"
   ]
  },
  {
   "cell_type": "markdown",
   "metadata": {},
   "source": [
    "Note that the default vector frame is still the Cartesian one; to change to the orthonormal spherical frame, we use"
   ]
  },
  {
   "cell_type": "code",
   "execution_count": null,
   "metadata": {
    "vscode": {
     "languageId": "sage"
    }
   },
   "outputs": [],
   "source": [
    "E.set_default_frame(spherical_frame)"
   ]
  },
  {
   "cell_type": "markdown",
   "metadata": {},
   "source": [
    "Then"
   ]
  },
  {
   "cell_type": "code",
   "execution_count": null,
   "metadata": {
    "vscode": {
     "languageId": "sage"
    }
   },
   "outputs": [],
   "source": [
    "v.display()"
   ]
  },
  {
   "cell_type": "code",
   "execution_count": null,
   "metadata": {
    "vscode": {
     "languageId": "sage"
    }
   },
   "outputs": [],
   "source": [
    "v.display(cartesian_frame, cartesian)"
   ]
  },
  {
   "cell_type": "markdown",
   "metadata": {},
   "source": [
    "# Sage\n",
    "## Lightning Preview\n",
    "\n",
    "Let's first get a small feel for sage by seeing some standard operations and what typical use looks like through a series of trivial, mostly unconnected examples."
   ]
  },
  {
   "cell_type": "code",
   "execution_count": null,
   "metadata": {
    "collapsed": false,
    "deletable": true,
    "editable": true,
    "jupyter": {
     "outputs_hidden": false
    }
   },
   "outputs": [],
   "source": [
    "2+3"
   ]
  },
  {
   "cell_type": "markdown",
   "metadata": {
    "deletable": true,
    "editable": true
   },
   "source": [
    "You can also subtract, multiply, divide, exponentiate...\n",
    "\n",
    "    >>> 3-2\n",
    "    1\n",
    "    >>> 2*3\n",
    "    6\n",
    "    >>> 2^3\n",
    "    8\n",
    "    >>> 2**3 # (also exponentiation)\n",
    "    8\n",
    "    \n",
    "There is an order of operations, but these things work pretty much as you want them to work. You might try out several different operations."
   ]
  },
  {
   "cell_type": "markdown",
   "metadata": {
    "deletable": true,
    "editable": true
   },
   "source": [
    "Sage includes a lot of functionality, too. For instance,"
   ]
  },
  {
   "cell_type": "code",
   "execution_count": null,
   "metadata": {
    "collapsed": false,
    "deletable": true,
    "editable": true,
    "jupyter": {
     "outputs_hidden": false
    }
   },
   "outputs": [],
   "source": [
    "factor(-1008)"
   ]
  },
  {
   "cell_type": "code",
   "execution_count": null,
   "metadata": {
    "collapsed": false,
    "deletable": true,
    "editable": true,
    "jupyter": {
     "outputs_hidden": false
    }
   },
   "outputs": [],
   "source": [
    "list(factor(1008))"
   ]
  },
  {
   "cell_type": "markdown",
   "metadata": {},
   "source": [
    "In the background, Sage is actually calling on pari/GP to do this factorization. Sage bundles lots of free and open source math software within it (which is why it's so large), and provides a common access point. The great thing here is that you can often use sage without needing to know much pari/GP (or other software)."
   ]
  },
  {
   "cell_type": "markdown",
   "metadata": {},
   "source": [
    "Sage knows many functions and constants, and these are accessible."
   ]
  },
  {
   "cell_type": "code",
   "execution_count": 1,
   "metadata": {
    "collapsed": false,
    "jupyter": {
     "outputs_hidden": false
    }
   },
   "outputs": [
    {
     "ename": "NameError",
     "evalue": "name 'sin' is not defined",
     "output_type": "error",
     "traceback": [
      "\u001b[1;31m---------------------------------------------------------------------------\u001b[0m",
      "\u001b[1;31mNameError\u001b[0m                                 Traceback (most recent call last)",
      "Cell \u001b[1;32mIn[1], line 1\u001b[0m\n\u001b[1;32m----> 1\u001b[0m \u001b[43msin\u001b[49m(pi)\n",
      "\u001b[1;31mNameError\u001b[0m: name 'sin' is not defined"
     ]
    }
   ],
   "source": [
    "sin(pi)"
   ]
  },
  {
   "cell_type": "code",
   "execution_count": null,
   "metadata": {
    "collapsed": false,
    "jupyter": {
     "outputs_hidden": false
    }
   },
   "outputs": [],
   "source": [
    "exp(2)"
   ]
  },
  {
   "cell_type": "markdown",
   "metadata": {},
   "source": [
    "Sage tries to internally keep expressions in exact form. To present approximations, use `N()`."
   ]
  },
  {
   "cell_type": "code",
   "execution_count": null,
   "metadata": {
    "collapsed": false,
    "jupyter": {
     "outputs_hidden": false
    }
   },
   "outputs": [],
   "source": [
    "N(exp(2))"
   ]
  },
  {
   "cell_type": "code",
   "execution_count": null,
   "metadata": {
    "collapsed": false,
    "jupyter": {
     "outputs_hidden": false
    }
   },
   "outputs": [],
   "source": [
    "pi"
   ]
  },
  {
   "cell_type": "code",
   "execution_count": null,
   "metadata": {
    "collapsed": false,
    "jupyter": {
     "outputs_hidden": false
    }
   },
   "outputs": [],
   "source": [
    "N(pi)"
   ]
  },
  {
   "cell_type": "markdown",
   "metadata": {},
   "source": [
    "You can ask for a number of digits in the approximation by giving a `digits` keyword to `N()`."
   ]
  },
  {
   "cell_type": "code",
   "execution_count": null,
   "metadata": {
    "collapsed": false,
    "jupyter": {
     "outputs_hidden": false
    }
   },
   "outputs": [],
   "source": [
    "N(pi, digits=60)"
   ]
  },
  {
   "cell_type": "markdown",
   "metadata": {},
   "source": [
    "There are some benefits to having smart representations. In many computer algebra systems, computing (sqrt(2))^2 doesn't give you back 2, due to finite floating point arithmetic. But in sage, this problem is sometimes avoided."
   ]
  },
  {
   "cell_type": "code",
   "execution_count": null,
   "metadata": {
    "collapsed": false,
    "jupyter": {
     "outputs_hidden": false
    }
   },
   "outputs": [],
   "source": [
    "sqrt(2)"
   ]
  },
  {
   "cell_type": "code",
   "execution_count": null,
   "metadata": {
    "collapsed": false,
    "jupyter": {
     "outputs_hidden": false
    }
   },
   "outputs": [],
   "source": [
    "sqrt(2)**2"
   ]
  },
  {
   "cell_type": "markdown",
   "metadata": {},
   "source": [
    "Of course, there are examples where floating point arithmetic gets in the way.\n",
    "\n",
    "In sage/python, integers have unlimited digit length. Real precision arithmetic is a bit more complicated, which is why sage tries to keep exact representations internally. We don't go into tracking digits of precision in sage, but it is usually possible to prescribe levels of precision."
   ]
  },
  {
   "cell_type": "markdown",
   "metadata": {},
   "source": [
    "Sage is written in python. You can use python functions in sage. [You can also import python libraries in sage, which extends sage's reach significantly]. The `range` function in python counts up to a given number, starting at 0."
   ]
  },
  {
   "cell_type": "code",
   "execution_count": null,
   "metadata": {
    "collapsed": false,
    "deletable": true,
    "editable": true,
    "jupyter": {
     "outputs_hidden": false
    }
   },
   "outputs": [],
   "source": [
    "range(16)"
   ]
  },
  {
   "cell_type": "code",
   "execution_count": 3,
   "metadata": {
    "collapsed": false,
    "deletable": true,
    "editable": true,
    "jupyter": {
     "outputs_hidden": false
    }
   },
   "outputs": [
    {
     "data": {
      "text/plain": [
       "[ 0  1  2  3]\n",
       "[ 4  5  6  7]\n",
       "[ 8  9 10 11]\n",
       "[12 13 14 15]"
      ]
     },
     "execution_count": 3,
     "metadata": {},
     "output_type": "execute_result"
    }
   ],
   "source": [
    "A = matrix(4,4, range(16))\n",
    "A"
   ]
  },
  {
   "cell_type": "code",
   "execution_count": 9,
   "metadata": {
    "collapsed": false,
    "deletable": true,
    "editable": true,
    "jupyter": {
     "outputs_hidden": false
    }
   },
   "outputs": [
    {
     "data": {
      "text/plain": [
       "[-5 -4 -3 -2]\n",
       "[-1  0  1  2]\n",
       "[ 3  4  5  6]\n",
       "[ 7  8  9 10]"
      ]
     },
     "execution_count": 9,
     "metadata": {},
     "output_type": "execute_result"
    }
   ],
   "source": [
    "B = matrix(4,4, range(-5, 11))\n",
    "B"
   ]
  },
  {
   "cell_type": "markdown",
   "metadata": {},
   "source": [
    "Sage can be smart about using the same operators in different contexts. (i.e. sage is very polymorphic). Multiplying, adding, subtracting, and dividing matrices works as expected."
   ]
  },
  {
   "cell_type": "code",
   "execution_count": 10,
   "metadata": {
    "collapsed": false,
    "deletable": true,
    "editable": true,
    "jupyter": {
     "outputs_hidden": false
    }
   },
   "outputs": [
    {
     "data": {
      "text/plain": [
       "[ 26  32  38  44]\n",
       "[ 42  64  86 108]\n",
       "[ 58  96 134 172]\n",
       "[ 74 128 182 236]"
      ]
     },
     "execution_count": 10,
     "metadata": {},
     "output_type": "execute_result"
    }
   ],
   "source": [
    "A*B"
   ]
  },
  {
   "cell_type": "markdown",
   "metadata": {},
   "source": [
    "There are two sorts of ways that functions are called in sage. For some functions, you create the object (in this case, the matrix A), type a dot `.`, and then call the function."
   ]
  },
  {
   "cell_type": "code",
   "execution_count": 6,
   "metadata": {
    "collapsed": false,
    "deletable": true,
    "editable": true,
    "jupyter": {
     "outputs_hidden": false
    }
   },
   "outputs": [
    {
     "data": {
      "text/plain": [
       "x^4 - 30*x^3 - 80*x^2"
      ]
     },
     "execution_count": 6,
     "metadata": {},
     "output_type": "execute_result"
    }
   ],
   "source": [
    "A.charpoly()"
   ]
  },
  {
   "cell_type": "markdown",
   "metadata": {},
   "source": [
    "There are some top-level functions as well."
   ]
  },
  {
   "cell_type": "code",
   "execution_count": 7,
   "metadata": {
    "collapsed": false,
    "deletable": true,
    "editable": true,
    "jupyter": {
     "outputs_hidden": false
    }
   },
   "outputs": [
    {
     "data": {
      "text/plain": [
       "x^2 * (x^2 - 30*x - 80)"
      ]
     },
     "execution_count": 7,
     "metadata": {},
     "output_type": "execute_result"
    }
   ],
   "source": [
    "factor(A.charpoly())"
   ]
  },
  {
   "cell_type": "markdown",
   "metadata": {
    "deletable": true,
    "editable": true
   },
   "source": [
    "Sometimes you start with an object, such as a matrix, and you wonder what you can do with it. Sage has very good tab-completion and introspection in its notebook interface.\n",
    "\n",
    "Try typing \n",
    "\n",
    "    A.\n",
    "    \n",
    "and hit `<Tab>`. Sage should display a list of things it thinks it can do to the matrix A.\n",
    "\n",
    "### Warning\n",
    "\n",
    "Note that on CoCalc or external servers, tab completion sometimes has a small delay."
   ]
  },
  {
   "cell_type": "code",
   "execution_count": 5,
   "metadata": {
    "collapsed": false,
    "deletable": true,
    "editable": true,
    "jupyter": {
     "outputs_hidden": false
    },
    "scrolled": true
   },
   "outputs": [
    {
     "data": {
      "text/plain": [
       "\u001b[0;31mDocstring:\u001b[0m     \n",
       "   Return a sequence of the eigenvalues of a matrix, with\n",
       "   multiplicity. If the eigenvalues are roots of polynomials in \"QQ\",\n",
       "   then \"QQbar\" elements are returned that represent each separate\n",
       "   root.\n",
       "\n",
       "   If the option \"extend\" is set to \"False\", only eigenvalues in the\n",
       "   base ring are considered.\n",
       "\n",
       "   EXAMPLES:\n",
       "\n",
       "      sage: a = matrix(ZZ, 4, range(16)); a\n",
       "      [ 0  1  2  3]\n",
       "      [ 4  5  6  7]\n",
       "      [ 8  9 10 11]\n",
       "      [12 13 14 15]\n",
       "      sage: sorted(a.eigenvalues(), reverse=True)\n",
       "      [32.46424919657298?, 0, 0, -2.464249196572981?]\n",
       "\n",
       "      sage: a = matrix([(1, 9, -1, -1),\n",
       "      ....:             (-2, 0, -10, 2),\n",
       "      ....:             (-1, 0, 15, -2),\n",
       "      ....:             (0, 1, 0, -1)])\n",
       "      sage: a.eigenvalues()\n",
       "      [-0.9386318578049146?,\n",
       "       15.50655435353258?,\n",
       "       0.2160387521361705? - 4.713151979747493?*I,\n",
       "       0.2160387521361705? + 4.713151979747493?*I]\n",
       "\n",
       "   A symmetric matrix \"a + a.transpose()\" should have real eigenvalues\n",
       "\n",
       "      sage: b = a + a.transpose()\n",
       "      sage: ev = b.eigenvalues(); ev\n",
       "      [-8.35066086057957?, -1.107247901349379?,\n",
       "       5.718651326708515?, 33.73925743522043?]\n",
       "\n",
       "   The eigenvalues are elements of \"QQbar\", so they really represent\n",
       "   exact roots of polynomials, not just approximations.\n",
       "\n",
       "      sage: e = ev[0]; e\n",
       "      -8.35066086057957?\n",
       "      sage: p = e.minpoly(); p\n",
       "      x^4 - 30*x^3 - 171*x^2 + 1460*x + 1784\n",
       "      sage: p(e) == 0\n",
       "      True\n",
       "\n",
       "   To perform computations on the eigenvalue as an element of a number\n",
       "   field, you can always convert back to a number field element.\n",
       "\n",
       "      sage: e.as_number_field_element()\n",
       "      (Number Field in a\n",
       "        with defining polynomial y^4 - 2*y^3 - 507*y^2 - 3972*y - 4264,\n",
       "       a + 7,\n",
       "       Ring morphism:\n",
       "         From: Number Field in a with defining polynomial y^4 - 2*y^3 - 507*y^2 - 3972*y - 4264\n",
       "         To:   Algebraic Real Field\n",
       "         Defn: a |--> -15.35066086057957?)\n",
       "\n",
       "   Notice the effect of the \"extend\" option.\n",
       "\n",
       "      sage: M = matrix(QQ, [[0,-1,0], [1,0,0], [0,0,2]])\n",
       "      sage: M.eigenvalues()\n",
       "      [2, -1*I, 1*I]\n",
       "      sage: M.eigenvalues(extend=False)\n",
       "      [2]\n",
       "\n",
       "   The method also works for matrices over finite fields:\n",
       "\n",
       "      sage: M = matrix(GF(3), [[0,1,1], [1,2,0], [2,0,1]])\n",
       "      sage: ev = sorted(M.eigenvalues()); ev\n",
       "      [2*z3, 2*z3 + 1, 2*z3 + 2]\n",
       "\n",
       "   Similarly as in the case of \"QQbar\", the eigenvalues belong to some\n",
       "   algebraic closure but they can be converted to elements of a finite\n",
       "   field:\n",
       "\n",
       "      sage: e = ev[0]\n",
       "      sage: e.parent()\n",
       "      Algebraic closure of Finite Field of size 3\n",
       "      sage: e.as_finite_field_element()\n",
       "      (Finite Field in z3 of size 3^3,\n",
       "       2*z3,\n",
       "       Ring morphism:\n",
       "         From: Finite Field in z3 of size 3^3\n",
       "         To:   Algebraic closure of Finite Field of size 3\n",
       "         Defn: z3 |--> z3)\n",
       "\u001b[0;31mInit docstring:\u001b[0m Initialize self.  See help(type(self)) for accurate signature.\n",
       "\u001b[0;31mFile:\u001b[0m           ~/sage/local/var/lib/sage/venv-python3.12.5/lib/python3.12/site-packages/sage/matrix/matrix2.pyx\n",
       "\u001b[0;31mType:\u001b[0m           builtin_function_or_method"
      ]
     },
     "metadata": {},
     "output_type": "display_data"
    }
   ],
   "source": [
    "A.eigenvalues?"
   ]
  },
  {
   "cell_type": "markdown",
   "metadata": {
    "deletable": true,
    "editable": true
   },
   "source": [
    "Some of these are more meaningful than others, but you have a list of options. If you want to find out what an option does, like `A.eigenvalues()`, then type \n",
    "\n",
    "    A.eigenvalues?\n",
    "    \n",
    "and hit enter."
   ]
  },
  {
   "cell_type": "code",
   "execution_count": 5,
   "metadata": {
    "collapsed": false,
    "deletable": true,
    "editable": true,
    "jupyter": {
     "outputs_hidden": false
    },
    "scrolled": true
   },
   "outputs": [
    {
     "data": {
      "text/plain": [
       "\u001b[0;31mDocstring:\u001b[0m\n",
       "   Return the adjugate matrix of \"self\" (that is, the transpose of the\n",
       "   matrix of cofactors).\n",
       "\n",
       "   Let M be an n x n-matrix. The adjugate matrix of M is the n\n",
       "   x n-matrix N whose (i, j)-th entry is (-1)^{i + j} \\det(M_{j,\n",
       "   i}), where M_{j,i} is the matrix M with its j-th row and i-th\n",
       "   column removed. It is known to satisfy NM = MN = \\det(M)I.\n",
       "\n",
       "   EXAMPLES:\n",
       "\n",
       "      sage: M = Matrix(ZZ,2,2,[5,2,3,4]); M\n",
       "      [5 2]\n",
       "      [3 4]\n",
       "      sage: N = M.adjugate(); N\n",
       "      [ 4 -2]\n",
       "      [-3  5]\n",
       "      sage: M * N\n",
       "      [14  0]\n",
       "      [ 0 14]\n",
       "      sage: N * M\n",
       "      [14  0]\n",
       "      [ 0 14]\n",
       "      sage: M = Matrix(QQ, 2, 2, [5/3,2/56, 33/13,41/10]); M\n",
       "      [  5/3  1/28]\n",
       "      [33/13 41/10]\n",
       "      sage: N = M.adjugate(); N\n",
       "      [ 41/10  -1/28]\n",
       "      [-33/13    5/3]\n",
       "      sage: M * N\n",
       "      [7363/1092         0]\n",
       "      [        0 7363/1092]\n",
       "\n",
       "   An alias is \"adjoint_classical()\", which replaces the deprecated\n",
       "   \"adjoint()\" method:\n",
       "\n",
       "      sage: M.adjoint()\n",
       "      ...: DeprecationWarning: adjoint is deprecated. Please use adjugate instead.\n",
       "      See https://github.com/sagemath/sage/issues/10501 for details.\n",
       "      [ 41/10  -1/28]\n",
       "      [-33/13    5/3]\n",
       "      sage: M.adjoint_classical()\n",
       "      [ 41/10  -1/28]\n",
       "      [-33/13    5/3]\n",
       "\n",
       "   ALGORITHM:\n",
       "\n",
       "   Use PARI whenever the method \"self._adjugate\" is included to do so\n",
       "   in an inheriting class. Otherwise, use a generic division-free\n",
       "   algorithm that computes the adjugate matrix from the characteristic\n",
       "   polynomial.\n",
       "\n",
       "   The result is cached.\n",
       "\u001b[0;31mSource:\u001b[0m   \n",
       "    \u001b[0;32mdef\u001b[0m \u001b[0madjugate\u001b[0m\u001b[0;34m(\u001b[0m\u001b[0mself\u001b[0m\u001b[0;34m)\u001b[0m\u001b[0;34m:\u001b[0m\u001b[0;34m\u001b[0m\n",
       "\u001b[0;34m\u001b[0m        \u001b[0;34mr\"\"\"\u001b[0m\n",
       "\u001b[0;34m        Return the adjugate matrix of ``self`` (that is, the transpose of the\u001b[0m\n",
       "\u001b[0;34m        matrix of cofactors).\u001b[0m\n",
       "\u001b[0;34m\u001b[0m\n",
       "\u001b[0;34m        Let `M` be an `n \\times n`-matrix. The adjugate matrix of `M` is the `n\u001b[0m\n",
       "\u001b[0;34m        \\times n`-matrix `N` whose `(i, j)`-th entry is `(-1)^{i + j}\u001b[0m\n",
       "\u001b[0;34m        \\det(M_{j, i})`, where `M_{j,i}` is the matrix `M` with its `j`-th row\u001b[0m\n",
       "\u001b[0;34m        and `i`-th column removed. It is known to satisfy `NM = MN = \\det(M)I`.\u001b[0m\n",
       "\u001b[0;34m\u001b[0m\n",
       "\u001b[0;34m        EXAMPLES::\u001b[0m\n",
       "\u001b[0;34m\u001b[0m\n",
       "\u001b[0;34m            sage: M = Matrix(ZZ,2,2,[5,2,3,4]); M\u001b[0m\n",
       "\u001b[0;34m            [5 2]\u001b[0m\n",
       "\u001b[0;34m            [3 4]\u001b[0m\n",
       "\u001b[0;34m            sage: N = M.adjugate(); N\u001b[0m\n",
       "\u001b[0;34m            [ 4 -2]\u001b[0m\n",
       "\u001b[0;34m            [-3  5]\u001b[0m\n",
       "\u001b[0;34m            sage: M * N\u001b[0m\n",
       "\u001b[0;34m            [14  0]\u001b[0m\n",
       "\u001b[0;34m            [ 0 14]\u001b[0m\n",
       "\u001b[0;34m            sage: N * M\u001b[0m\n",
       "\u001b[0;34m            [14  0]\u001b[0m\n",
       "\u001b[0;34m            [ 0 14]\u001b[0m\n",
       "\u001b[0;34m            sage: M = Matrix(QQ, 2, 2, [5/3,2/56, 33/13,41/10]); M\u001b[0m\n",
       "\u001b[0;34m            [  5/3  1/28]\u001b[0m\n",
       "\u001b[0;34m            [33/13 41/10]\u001b[0m\n",
       "\u001b[0;34m            sage: N = M.adjugate(); N                                                   # needs sage.libs.pari\u001b[0m\n",
       "\u001b[0;34m            [ 41/10  -1/28]\u001b[0m\n",
       "\u001b[0;34m            [-33/13    5/3]\u001b[0m\n",
       "\u001b[0;34m            sage: M * N                                                                 # needs sage.libs.pari\u001b[0m\n",
       "\u001b[0;34m            [7363/1092         0]\u001b[0m\n",
       "\u001b[0;34m            [        0 7363/1092]\u001b[0m\n",
       "\u001b[0;34m\u001b[0m\n",
       "\u001b[0;34m        An alias is :meth:`adjoint_classical`, which replaces the deprecated\u001b[0m\n",
       "\u001b[0;34m        :meth:`adjoint` method::\u001b[0m\n",
       "\u001b[0;34m\u001b[0m\n",
       "\u001b[0;34m            sage: M.adjoint()                                                           # needs sage.libs.pari\u001b[0m\n",
       "\u001b[0;34m            ...: DeprecationWarning: adjoint is deprecated. Please use adjugate instead.\u001b[0m\n",
       "\u001b[0;34m            See https://github.com/sagemath/sage/issues/10501 for details.\u001b[0m\n",
       "\u001b[0;34m            [ 41/10  -1/28]\u001b[0m\n",
       "\u001b[0;34m            [-33/13    5/3]\u001b[0m\n",
       "\u001b[0;34m            sage: M.adjoint_classical()                                                 # needs sage.libs.pari\u001b[0m\n",
       "\u001b[0;34m            [ 41/10  -1/28]\u001b[0m\n",
       "\u001b[0;34m            [-33/13    5/3]\u001b[0m\n",
       "\u001b[0;34m\u001b[0m\n",
       "\u001b[0;34m        ALGORITHM:\u001b[0m\n",
       "\u001b[0;34m\u001b[0m\n",
       "\u001b[0;34m        Use PARI whenever the method ``self._adjugate`` is included to do so in\u001b[0m\n",
       "\u001b[0;34m        an inheriting class. Otherwise, use a generic division-free algorithm\u001b[0m\n",
       "\u001b[0;34m        that computes the adjugate matrix from the characteristic polynomial.\u001b[0m\n",
       "\u001b[0;34m\u001b[0m\n",
       "\u001b[0;34m        The result is cached.\u001b[0m\n",
       "\u001b[0;34m        \"\"\"\u001b[0m\u001b[0;34m\u001b[0m\n",
       "\u001b[0;34m\u001b[0m        \u001b[0;32mif\u001b[0m \u001b[0mself\u001b[0m\u001b[0;34m.\u001b[0m\u001b[0m_nrows\u001b[0m \u001b[0;34m!=\u001b[0m \u001b[0mself\u001b[0m\u001b[0;34m.\u001b[0m\u001b[0m_ncols\u001b[0m\u001b[0;34m:\u001b[0m\u001b[0;34m\u001b[0m\n",
       "\u001b[0;34m\u001b[0m            \u001b[0;32mraise\u001b[0m \u001b[0mValueError\u001b[0m\u001b[0;34m(\u001b[0m\u001b[0;34m\"must be a square matrix\"\u001b[0m\u001b[0;34m)\u001b[0m\u001b[0;34m\u001b[0m\n",
       "\u001b[0;34m\u001b[0m\u001b[0;34m\u001b[0m\n",
       "\u001b[0;34m\u001b[0m        \u001b[0mX\u001b[0m \u001b[0;34m=\u001b[0m \u001b[0mself\u001b[0m\u001b[0;34m.\u001b[0m\u001b[0mfetch\u001b[0m\u001b[0;34m(\u001b[0m\u001b[0;34m'adjugate'\u001b[0m\u001b[0;34m)\u001b[0m\u001b[0;34m\u001b[0m\n",
       "\u001b[0;34m\u001b[0m        \u001b[0;32mif\u001b[0m \u001b[0mX\u001b[0m \u001b[0;32mis\u001b[0m \u001b[0;32mnot\u001b[0m \u001b[0;32mNone\u001b[0m\u001b[0;34m:\u001b[0m\u001b[0;34m\u001b[0m\n",
       "\u001b[0;34m\u001b[0m            \u001b[0;32mreturn\u001b[0m \u001b[0mX\u001b[0m\u001b[0;34m\u001b[0m\n",
       "\u001b[0;34m\u001b[0m\u001b[0;34m\u001b[0m\n",
       "\u001b[0;34m\u001b[0m        \u001b[0mX\u001b[0m \u001b[0;34m=\u001b[0m \u001b[0mself\u001b[0m\u001b[0;34m.\u001b[0m\u001b[0m_adjugate\u001b[0m\u001b[0;34m(\u001b[0m\u001b[0;34m)\u001b[0m\u001b[0;34m\u001b[0m\n",
       "\u001b[0;34m\u001b[0m        \u001b[0mself\u001b[0m\u001b[0;34m.\u001b[0m\u001b[0mcache\u001b[0m\u001b[0;34m(\u001b[0m\u001b[0;34m'adjugate'\u001b[0m\u001b[0;34m,\u001b[0m \u001b[0mX\u001b[0m\u001b[0;34m)\u001b[0m\u001b[0;34m\u001b[0m\n",
       "\u001b[0;34m\u001b[0m        \u001b[0;32mreturn\u001b[0m \u001b[0mX\u001b[0m\u001b[0;34m\u001b[0m\u001b[0;34m\u001b[0m\u001b[0m\n",
       "\u001b[0;31mFile:\u001b[0m      ~/sage/local/var/lib/sage/venv-python3.12.5/lib/python3.12/site-packages/sage/matrix/matrix2.pyx\n",
       "\u001b[0;31mType:\u001b[0m      builtin_function_or_method"
      ]
     },
     "metadata": {},
     "output_type": "display_data"
    }
   ],
   "source": [
    "A.adjugate??"
   ]
  },
  {
   "cell_type": "code",
   "execution_count": 4,
   "metadata": {
    "collapsed": false,
    "deletable": true,
    "editable": true,
    "jupyter": {
     "outputs_hidden": false
    }
   },
   "outputs": [
    {
     "data": {
      "text/plain": [
       "[0, 0, -2.464249196572981?, 32.46424919657298?]"
      ]
     },
     "execution_count": 4,
     "metadata": {},
     "output_type": "execute_result"
    }
   ],
   "source": [
    "A.eigenvalues()"
   ]
  },
  {
   "cell_type": "markdown",
   "metadata": {
    "deletable": true,
    "editable": true
   },
   "source": [
    "If you're really curious about what's going on, you can type\n",
    "\n",
    "    A.eigenvalues??\n",
    "    \n",
    "which will also show you the implementation of that functionality. (You usually don't need this)."
   ]
  },
  {
   "cell_type": "markdown",
   "metadata": {
    "deletable": true,
    "editable": true
   },
   "source": [
    "There is a lot of domain-specific functionality within sage as well. We won't dwell too much on any particular functionality in this tutorial, but for example sage knows about elliptic curves."
   ]
  },
  {
   "cell_type": "code",
   "execution_count": null,
   "metadata": {
    "collapsed": false,
    "deletable": true,
    "editable": true,
    "jupyter": {
     "outputs_hidden": false
    }
   },
   "outputs": [],
   "source": [
    "E = EllipticCurve([1,2,3,4,5])\n",
    "E"
   ]
  },
  {
   "cell_type": "code",
   "execution_count": null,
   "metadata": {
    "collapsed": false,
    "deletable": true,
    "editable": true,
    "jupyter": {
     "outputs_hidden": false
    }
   },
   "outputs": [],
   "source": [
    "# Tab complete me to see what's available\n",
    "E."
   ]
  },
  {
   "cell_type": "code",
   "execution_count": null,
   "metadata": {
    "collapsed": false,
    "deletable": true,
    "editable": true,
    "jupyter": {
     "outputs_hidden": false
    }
   },
   "outputs": [],
   "source": [
    "E.conductor()"
   ]
  },
  {
   "cell_type": "code",
   "execution_count": null,
   "metadata": {
    "collapsed": false,
    "deletable": true,
    "editable": true,
    "jupyter": {
     "outputs_hidden": false
    }
   },
   "outputs": [],
   "source": [
    "E.rank()"
   ]
  },
  {
   "cell_type": "markdown",
   "metadata": {
    "deletable": true,
    "editable": true
   },
   "source": [
    "Sage knows about complex numbers as well. Use `i` or `I` to mean a $\\sqrt{-1}$."
   ]
  },
  {
   "cell_type": "code",
   "execution_count": null,
   "metadata": {
    "collapsed": false,
    "deletable": true,
    "editable": true,
    "jupyter": {
     "outputs_hidden": false
    }
   },
   "outputs": [],
   "source": [
    "(1+2*I) * (pi - sqrt(5)*I)"
   ]
  },
  {
   "cell_type": "code",
   "execution_count": null,
   "metadata": {
    "collapsed": true,
    "deletable": true,
    "editable": true,
    "jupyter": {
     "outputs_hidden": true
    }
   },
   "outputs": [],
   "source": [
    "c = 1/(sqrt(3)*I + 3/4 + sqrt(29)*2/3)"
   ]
  },
  {
   "cell_type": "markdown",
   "metadata": {
    "deletable": true,
    "editable": true
   },
   "source": [
    "Sage tries to keep computations in exact form. So `c` is stored with perfect representations of square roots."
   ]
  },
  {
   "cell_type": "code",
   "execution_count": null,
   "metadata": {
    "collapsed": false,
    "deletable": true,
    "editable": true,
    "jupyter": {
     "outputs_hidden": false
    }
   },
   "outputs": [],
   "source": [
    "c"
   ]
  },
  {
   "cell_type": "markdown",
   "metadata": {
    "deletable": true,
    "editable": true
   },
   "source": [
    "But we can have sage give numerical estimates of objects by calling `N()` on them."
   ]
  },
  {
   "cell_type": "code",
   "execution_count": null,
   "metadata": {
    "collapsed": false,
    "deletable": true,
    "editable": true,
    "jupyter": {
     "outputs_hidden": false
    }
   },
   "outputs": [],
   "source": [
    "N(c)"
   ]
  },
  {
   "cell_type": "code",
   "execution_count": null,
   "metadata": {
    "collapsed": false,
    "deletable": true,
    "editable": true,
    "jupyter": {
     "outputs_hidden": false
    }
   },
   "outputs": [],
   "source": [
    "N(c, 20) # Keep 20 \"bits\" of information"
   ]
  },
  {
   "cell_type": "markdown",
   "metadata": {
    "deletable": true,
    "editable": true
   },
   "source": [
    "As one more general topic before we jump into a few deeper examples, sage is also very good at representing objects in latex. Use `latex(<object>)` to give a latex representation."
   ]
  },
  {
   "cell_type": "code",
   "execution_count": null,
   "metadata": {
    "collapsed": false,
    "deletable": true,
    "editable": true,
    "jupyter": {
     "outputs_hidden": false
    }
   },
   "outputs": [],
   "source": [
    "latex(c)"
   ]
  },
  {
   "cell_type": "code",
   "execution_count": null,
   "metadata": {
    "collapsed": false,
    "deletable": true,
    "editable": true,
    "jupyter": {
     "outputs_hidden": false
    }
   },
   "outputs": [],
   "source": [
    "latex(E)"
   ]
  },
  {
   "cell_type": "code",
   "execution_count": null,
   "metadata": {
    "collapsed": false,
    "deletable": true,
    "editable": true,
    "jupyter": {
     "outputs_hidden": false
    }
   },
   "outputs": [],
   "source": [
    "latex(A)"
   ]
  },
  {
   "cell_type": "markdown",
   "metadata": {},
   "source": [
    "You can have sage print the LaTeX version in the notebook by using `pretty_print`"
   ]
  },
  {
   "cell_type": "code",
   "execution_count": null,
   "metadata": {
    "collapsed": false,
    "jupyter": {
     "outputs_hidden": false
    }
   },
   "outputs": [],
   "source": [
    "pretty_print(A)"
   ]
  },
  {
   "cell_type": "markdown",
   "metadata": {
    "deletable": true,
    "editable": true
   },
   "source": [
    "## Basic Algebra"
   ]
  },
  {
   "cell_type": "code",
   "execution_count": null,
   "metadata": {
    "collapsed": false,
    "deletable": true,
    "editable": true,
    "jupyter": {
     "outputs_hidden": false
    }
   },
   "outputs": [],
   "source": [
    "H = DihedralGroup(6)\n",
    "H.list()"
   ]
  },
  {
   "cell_type": "code",
   "execution_count": null,
   "metadata": {
    "collapsed": false,
    "jupyter": {
     "outputs_hidden": false
    }
   },
   "outputs": [],
   "source": [
    "a = H[1]\n",
    "a"
   ]
  },
  {
   "cell_type": "code",
   "execution_count": null,
   "metadata": {
    "collapsed": false,
    "jupyter": {
     "outputs_hidden": false
    }
   },
   "outputs": [],
   "source": [
    "a.order()"
   ]
  },
  {
   "cell_type": "code",
   "execution_count": null,
   "metadata": {
    "collapsed": false,
    "jupyter": {
     "outputs_hidden": false
    }
   },
   "outputs": [],
   "source": [
    "b = H[2]\n",
    "b"
   ]
  },
  {
   "cell_type": "code",
   "execution_count": null,
   "metadata": {
    "collapsed": false,
    "jupyter": {
     "outputs_hidden": false
    }
   },
   "outputs": [],
   "source": [
    "a*b"
   ]
  },
  {
   "cell_type": "code",
   "execution_count": null,
   "metadata": {
    "collapsed": false,
    "jupyter": {
     "outputs_hidden": false
    }
   },
   "outputs": [],
   "source": [
    "for elem in H:\n",
    "    if elem.order() == 2:\n",
    "        print elem"
   ]
  },
  {
   "cell_type": "code",
   "execution_count": null,
   "metadata": {
    "collapsed": false,
    "jupyter": {
     "outputs_hidden": false
    }
   },
   "outputs": [],
   "source": [
    "# Or, in the \"pythonic\" way\n",
    "elements_of_order_2 = [elem for elem in H if elem.order() == 2]\n",
    "elements_of_order_2"
   ]
  },
  {
   "cell_type": "code",
   "execution_count": null,
   "metadata": {
    "collapsed": false,
    "jupyter": {
     "outputs_hidden": false
    }
   },
   "outputs": [],
   "source": [
    "rand_elem = H.random_element()\n",
    "rand_elem"
   ]
  },
  {
   "cell_type": "code",
   "execution_count": null,
   "metadata": {
    "collapsed": false,
    "jupyter": {
     "outputs_hidden": false
    }
   },
   "outputs": [],
   "source": [
    "G_sub = H.subgroup([rand_elem])\n",
    "G_sub"
   ]
  },
  {
   "cell_type": "code",
   "execution_count": null,
   "metadata": {
    "collapsed": false,
    "jupyter": {
     "outputs_hidden": false
    }
   },
   "outputs": [],
   "source": [
    "# Explicitly using elements of a group\n",
    "H(\"(1,2,3,4,5,6)\") * H(\"(1,5)(2,4)\")"
   ]
  },
  {
   "cell_type": "markdown",
   "metadata": {},
   "source": [
    "### Exercises\n",
    "\n",
    "The real purpose of these exercises are to show you that it's often possible to use tab-completion to quickly find out what is and isn't possible to do within sage.\n",
    "\n",
    "1. What things does sage know about this subgroup? Can you find the cardinality of the subgroup? (Note that the subgroup is generated by a random element, and your subgroup might be different than your neighbor's). Can you list all subgroups of the dihedral group in sage?\n",
    "\n",
    "2. Sage knows other groups as well. Create a symmetric group on 5 elements. What does sage know about that? Can you verify that S5 isn't simple? Create some cyclic groups?"
   ]
  },
  {
   "cell_type": "markdown",
   "metadata": {},
   "source": [
    "## Changing the Field\n",
    "\n",
    "It's pretty easy to work over different fields in sage as well. I show a few examples of this"
   ]
  },
  {
   "cell_type": "code",
   "execution_count": null,
   "metadata": {
    "collapsed": false,
    "jupyter": {
     "outputs_hidden": false
    }
   },
   "outputs": [],
   "source": [
    "# It may be necessary to use `reset('x')` if x has otherwise been defined\n",
    "K.<alpha> = NumberField(x**3 - 5)"
   ]
  },
  {
   "cell_type": "code",
   "execution_count": null,
   "metadata": {
    "collapsed": false,
    "jupyter": {
     "outputs_hidden": false
    }
   },
   "outputs": [],
   "source": [
    "K"
   ]
  },
  {
   "cell_type": "code",
   "execution_count": null,
   "metadata": {
    "collapsed": false,
    "jupyter": {
     "outputs_hidden": false
    }
   },
   "outputs": [],
   "source": [
    "alpha"
   ]
  },
  {
   "cell_type": "code",
   "execution_count": null,
   "metadata": {
    "collapsed": false,
    "jupyter": {
     "outputs_hidden": false
    }
   },
   "outputs": [],
   "source": [
    "alpha**3"
   ]
  },
  {
   "cell_type": "code",
   "execution_count": null,
   "metadata": {
    "collapsed": false,
    "jupyter": {
     "outputs_hidden": false
    }
   },
   "outputs": [],
   "source": [
    "(alpha+1)**3"
   ]
  },
  {
   "cell_type": "code",
   "execution_count": null,
   "metadata": {
    "collapsed": true,
    "jupyter": {
     "outputs_hidden": true
    }
   },
   "outputs": [],
   "source": [
    "GF?"
   ]
  },
  {
   "cell_type": "code",
   "execution_count": null,
   "metadata": {
    "collapsed": true,
    "jupyter": {
     "outputs_hidden": true
    }
   },
   "outputs": [],
   "source": [
    "F7 = GF(7)"
   ]
  },
  {
   "cell_type": "code",
   "execution_count": null,
   "metadata": {
    "collapsed": false,
    "jupyter": {
     "outputs_hidden": false
    }
   },
   "outputs": [],
   "source": [
    "a = 2/5\n",
    "a"
   ]
  },
  {
   "cell_type": "code",
   "execution_count": null,
   "metadata": {
    "collapsed": false,
    "jupyter": {
     "outputs_hidden": false
    }
   },
   "outputs": [],
   "source": [
    "F7(a)"
   ]
  },
  {
   "cell_type": "code",
   "execution_count": null,
   "metadata": {
    "collapsed": false,
    "jupyter": {
     "outputs_hidden": false
    }
   },
   "outputs": [],
   "source": [
    "var('x')"
   ]
  },
  {
   "cell_type": "code",
   "execution_count": null,
   "metadata": {
    "collapsed": true,
    "jupyter": {
     "outputs_hidden": true
    }
   },
   "outputs": [],
   "source": [
    "eqn = x**3 + sqrt(2)*x + 5 == 0\n",
    "a = solve(eqn, x)[0].rhs()"
   ]
  },
  {
   "cell_type": "code",
   "execution_count": null,
   "metadata": {
    "collapsed": false,
    "jupyter": {
     "outputs_hidden": false
    }
   },
   "outputs": [],
   "source": [
    "a"
   ]
  },
  {
   "cell_type": "code",
   "execution_count": null,
   "metadata": {
    "collapsed": false,
    "jupyter": {
     "outputs_hidden": false
    }
   },
   "outputs": [],
   "source": [
    "latex(a)"
   ]
  },
  {
   "cell_type": "code",
   "execution_count": null,
   "metadata": {
    "collapsed": false,
    "jupyter": {
     "outputs_hidden": false
    }
   },
   "outputs": [],
   "source": [
    "pretty_print(a)"
   ]
  },
  {
   "cell_type": "code",
   "execution_count": null,
   "metadata": {
    "collapsed": false,
    "jupyter": {
     "outputs_hidden": false
    }
   },
   "outputs": [],
   "source": [
    "# Also RR, CC\n",
    "QQ"
   ]
  },
  {
   "cell_type": "code",
   "execution_count": null,
   "metadata": {
    "collapsed": false,
    "jupyter": {
     "outputs_hidden": false
    }
   },
   "outputs": [],
   "source": [
    "K.<b> = QQ[a]"
   ]
  },
  {
   "cell_type": "code",
   "execution_count": null,
   "metadata": {
    "collapsed": false,
    "jupyter": {
     "outputs_hidden": false
    }
   },
   "outputs": [],
   "source": [
    "K"
   ]
  },
  {
   "cell_type": "code",
   "execution_count": null,
   "metadata": {
    "collapsed": false,
    "jupyter": {
     "outputs_hidden": false
    }
   },
   "outputs": [],
   "source": [
    "a.minpoly()"
   ]
  },
  {
   "cell_type": "code",
   "execution_count": null,
   "metadata": {
    "collapsed": false,
    "jupyter": {
     "outputs_hidden": false
    }
   },
   "outputs": [],
   "source": [
    "K.class_number()"
   ]
  },
  {
   "cell_type": "markdown",
   "metadata": {},
   "source": [
    "### Exercise\n",
    "\n",
    "Sage tries to keep the same syntax even across different applications. Above, we factored a few integers. But we may also try to factor over a number field. You can factor 2 over the Gaussian integers by:\n",
    "\n",
    "1. Create the Gaussian integers. The constructor CC[I] works.\n",
    "2. Get the Gaussian integer 2 (which is programmatically different than the typical integer 2), by something like `CC[I](2)`.\n",
    "3. `factor` that 2.\n",
    "\n"
   ]
  },
  {
   "cell_type": "markdown",
   "metadata": {},
   "source": [
    "## Some Calculus And Symbolic Manipulation"
   ]
  },
  {
   "cell_type": "code",
   "execution_count": null,
   "metadata": {
    "collapsed": false,
    "jupyter": {
     "outputs_hidden": false
    }
   },
   "outputs": [],
   "source": [
    "# Let's declare that we want x and y to mean symbolic variables\n",
    "x = 1\n",
    "y = 2\n",
    "print(x+y)\n",
    "\n",
    "reset('x')\n",
    "reset('y')\n",
    "var('x')\n",
    "var('y')\n",
    "\n",
    "print(x+y)"
   ]
  },
  {
   "cell_type": "code",
   "execution_count": null,
   "metadata": {
    "collapsed": false,
    "jupyter": {
     "outputs_hidden": false
    }
   },
   "outputs": [],
   "source": [
    "solve(x^2 + 3*x + 2, x)"
   ]
  },
  {
   "cell_type": "code",
   "execution_count": null,
   "metadata": {
    "collapsed": false,
    "jupyter": {
     "outputs_hidden": false
    }
   },
   "outputs": [],
   "source": [
    "solve(x^2 + y*x + 2 == 0, x)"
   ]
  },
  {
   "cell_type": "code",
   "execution_count": null,
   "metadata": {
    "collapsed": false,
    "jupyter": {
     "outputs_hidden": false
    }
   },
   "outputs": [],
   "source": [
    "# Nonlinear systems with complicated solutions can be solved as well\n",
    "var('p,q')\n",
    "eq1 = p+1==9\n",
    "eq2 = q*y+p*x==-6\n",
    "eq3 = q*y**2+p*x**2==24\n",
    "s = solve([eq1, eq2, eq3, y==1], p,q,x,y)\n",
    "s"
   ]
  },
  {
   "cell_type": "code",
   "execution_count": null,
   "metadata": {
    "collapsed": false,
    "jupyter": {
     "outputs_hidden": false
    }
   },
   "outputs": [],
   "source": [
    "s[0]"
   ]
  },
  {
   "cell_type": "code",
   "execution_count": null,
   "metadata": {
    "collapsed": false,
    "jupyter": {
     "outputs_hidden": false
    }
   },
   "outputs": [],
   "source": [
    "latex(s[0])"
   ]
  },
  {
   "cell_type": "markdown",
   "metadata": {},
   "source": [
    "$$\\left[p = 8, q = \\left(-26\\right), x = \\left(\\frac{5}{2}\\right), y = 1\\right]$$"
   ]
  },
  {
   "cell_type": "code",
   "execution_count": null,
   "metadata": {
    "collapsed": false,
    "jupyter": {
     "outputs_hidden": false
    }
   },
   "outputs": [],
   "source": [
    "# We can also do some symbolic calculus\n",
    "f = x**2 + 2*x + 1\n",
    "f"
   ]
  },
  {
   "cell_type": "code",
   "execution_count": null,
   "metadata": {
    "collapsed": false,
    "jupyter": {
     "outputs_hidden": false
    }
   },
   "outputs": [],
   "source": [
    "diff(f, x)"
   ]
  },
  {
   "cell_type": "code",
   "execution_count": null,
   "metadata": {
    "collapsed": false,
    "jupyter": {
     "outputs_hidden": false
    }
   },
   "outputs": [],
   "source": [
    "integral(f, x)"
   ]
  },
  {
   "cell_type": "code",
   "execution_count": null,
   "metadata": {
    "collapsed": false,
    "jupyter": {
     "outputs_hidden": false
    }
   },
   "outputs": [],
   "source": [
    "F = integral(f, x)\n",
    "F(x=1)"
   ]
  },
  {
   "cell_type": "code",
   "execution_count": null,
   "metadata": {
    "collapsed": false,
    "jupyter": {
     "outputs_hidden": false
    }
   },
   "outputs": [],
   "source": [
    "diff(sin(x**3), x)"
   ]
  },
  {
   "cell_type": "code",
   "execution_count": null,
   "metadata": {
    "collapsed": false,
    "jupyter": {
     "outputs_hidden": false
    }
   },
   "outputs": [],
   "source": [
    "# Compute the 4th derivative\n",
    "diff(sin(x**3), x, 4)"
   ]
  },
  {
   "cell_type": "code",
   "execution_count": null,
   "metadata": {
    "collapsed": false,
    "jupyter": {
     "outputs_hidden": false
    }
   },
   "outputs": [],
   "source": [
    "# We can try to foil sage by giving it a hard integral\n",
    "integral(sin(x)/x, x)"
   ]
  },
  {
   "cell_type": "code",
   "execution_count": null,
   "metadata": {
    "collapsed": false,
    "jupyter": {
     "outputs_hidden": false
    }
   },
   "outputs": [],
   "source": [
    "f = sin(x**2)\n",
    "f"
   ]
  },
  {
   "cell_type": "code",
   "execution_count": null,
   "metadata": {
    "collapsed": false,
    "jupyter": {
     "outputs_hidden": false
    }
   },
   "outputs": [],
   "source": [
    "# And sage can give Taylor expansions\n",
    "f.taylor(x, 0, 20)"
   ]
  },
  {
   "cell_type": "code",
   "execution_count": null,
   "metadata": {
    "collapsed": false,
    "jupyter": {
     "outputs_hidden": false
    }
   },
   "outputs": [],
   "source": [
    "f(x,y)=y^2+1-x^3-x\n",
    "contour_plot(f, (x,-pi,pi), (y,-pi,pi))"
   ]
  },
  {
   "cell_type": "code",
   "execution_count": null,
   "metadata": {
    "collapsed": false,
    "jupyter": {
     "outputs_hidden": false
    }
   },
   "outputs": [],
   "source": [
    "contour_plot(f, (x,-pi,pi), (y,-pi,pi), colorbar=True, labels=True)"
   ]
  },
  {
   "cell_type": "code",
   "execution_count": null,
   "metadata": {
    "collapsed": false,
    "jupyter": {
     "outputs_hidden": false
    }
   },
   "outputs": [],
   "source": [
    "# Implicit plots\n",
    "f(x,y) = -x**3 + y**2 - y + x + 1\n",
    "implicit_plot(f(x,y)==0,(x,0,2*pi),(y,-pi,pi))"
   ]
  },
  {
   "cell_type": "markdown",
   "metadata": {},
   "source": [
    "### Exercises\n",
    "\n",
    "1. Experiment with the above examples by trying out different functions and plots.\n",
    "\n",
    "2. Sage can do partial fractions for you as well. To do this, you first define your function you want to split up. Suppose you call it `f`. Then you use `f`.partial_fraction(x). Try this out\n",
    "\n",
    "3. Sage can also create 3d plots. Create one. Start by looking at the documentation for `plot3d`."
   ]
  },
  {
   "cell_type": "markdown",
   "metadata": {},
   "source": [
    "Of the various math software, sage+python provides my preferred plotting environment. I have used sage to create plots for notes, lectures, classes, experimentation, and publications. You can quickly create good-looking plots. For example, I used sage/python extensively in creating [this note for my students](http://davidlowryduda.com/an-intuitive-overview-of-taylor-series/) on Taylor Series (which is a classic \"hard topic\" that students have lots of questions about, at least in the US universities I'm familiar with. To this day, about 1/6 of the traffic to my website is to see that page).\n",
    "\n",
    "As a non-trivial example, I present the following interactive plot. "
   ]
  },
  {
   "cell_type": "code",
   "execution_count": null,
   "metadata": {
    "collapsed": false,
    "jupyter": {
     "outputs_hidden": false
    }
   },
   "outputs": [],
   "source": [
    "@interact\n",
    "def g(f=sin(x), c=0, n=(1..30),\n",
    "      xinterval=range_slider(-10, 10, 1, default=(-8,8), label=\"x-interval\"),\n",
    "      yinterval=range_slider(-50, 50, 1, default=(-3,3), label=\"y-interval\")):\n",
    "    x0 = c\n",
    "    degree = n\n",
    "    xmin,xmax = xinterval\n",
    "    ymin,ymax = yinterval\n",
    "    p   = plot(f, xmin, xmax, thickness=4)\n",
    "    dot = point((x0,f(x=x0)),pointsize=80,rgbcolor=(1,0,0))\n",
    "    ft = f.taylor(x,x0,degree)\n",
    "    pt = plot(ft, xmin, xmax, color='red', thickness=2, fill=f)\n",
    "    show(dot + p + pt, ymin=ymin, ymax=ymax, xmin=xmin, xmax=xmax)\n",
    "    html('$f(x)\\;=\\;%s$'%latex(f))\n",
    "    html('$P_{%s}(x)\\;=\\;%s+R_{%s}(x)$'%(degree,latex(ft),degree))"
   ]
  },
  {
   "cell_type": "markdown",
   "metadata": {},
   "source": [
    "## Tutorial"
   ]
  },
  {
   "cell_type": "code",
   "execution_count": null,
   "metadata": {},
   "outputs": [],
   "source": [
    "%display latex\n",
    "integrate(exp(-x**2), x, 0, infinity)"
   ]
  },
  {
   "cell_type": "code",
   "execution_count": null,
   "metadata": {},
   "outputs": [],
   "source": [
    "f(x) = sqrt(3*x-2)\n",
    "integral(2*pi*f(x)*sqrt(1+diff(f,x)**2), x, 0, 5)\n",
    "show(revolution_plot3d(f, (x,0,5), parallel_axis='x', \\\n",
    "        show_curve=True, opacity=0.7), aspect_ratio=1)"
   ]
  },
  {
   "cell_type": "markdown",
   "metadata": {},
   "source": [
    "## Integers, Rationals, etc.\n",
    "Several rings are defined by default in Sagemath.\n",
    "See e.g., [https://doc.sagemath.org/html/en/reference/rings_standard/index.html]."
   ]
  },
  {
   "cell_type": "code",
   "execution_count": null,
   "metadata": {},
   "outputs": [],
   "source": [
    "a = 1/2\n",
    "print(a)"
   ]
  },
  {
   "cell_type": "code",
   "execution_count": null,
   "metadata": {},
   "outputs": [],
   "source": [
    "type(a)"
   ]
  },
  {
   "cell_type": "code",
   "execution_count": null,
   "metadata": {},
   "outputs": [],
   "source": [
    "print(1/2 + 3/4 + 5/6)"
   ]
  },
  {
   "cell_type": "markdown",
   "metadata": {},
   "source": [
    "You can check in which ring a number belongs"
   ]
  },
  {
   "cell_type": "code",
   "execution_count": null,
   "metadata": {},
   "outputs": [],
   "source": [
    "3/4 in QQ"
   ]
  },
  {
   "cell_type": "code",
   "execution_count": null,
   "metadata": {},
   "outputs": [],
   "source": [
    "3/4 in ZZ"
   ]
  },
  {
   "cell_type": "code",
   "execution_count": null,
   "metadata": {},
   "outputs": [],
   "source": [
    "f = 1.2\n",
    "type(f)"
   ]
  },
  {
   "cell_type": "code",
   "execution_count": null,
   "metadata": {},
   "outputs": [],
   "source": [
    "print(f in RR, f in QQ)"
   ]
  },
  {
   "cell_type": "markdown",
   "metadata": {},
   "source": [
    "and convert a number if it belongs to the ring"
   ]
  },
  {
   "cell_type": "code",
   "execution_count": null,
   "metadata": {},
   "outputs": [],
   "source": [
    "QQ(f)"
   ]
  },
  {
   "cell_type": "markdown",
   "metadata": {},
   "source": [
    "try f.<TAB> to discover methods associated with numbers in a ring.\n",
    "    \n",
    "You can also use complex numbers"
   ]
  },
  {
   "cell_type": "code",
   "execution_count": null,
   "metadata": {},
   "outputs": [],
   "source": [
    "c = 1/2 + 3/4*i\n",
    "print(c)\n",
    "print(type(c))"
   ]
  },
  {
   "cell_type": "code",
   "execution_count": null,
   "metadata": {},
   "outputs": [],
   "source": [
    "c + 1.5"
   ]
  },
  {
   "cell_type": "code",
   "execution_count": null,
   "metadata": {},
   "outputs": [],
   "source": [
    "c^2"
   ]
  },
  {
   "cell_type": "markdown",
   "metadata": {},
   "source": [
    "By default, symbol `i` is used for complex numbers. If you have already used it elsewhere, you can restore its default value using `reset(i)`."
   ]
  },
  {
   "cell_type": "code",
   "execution_count": null,
   "metadata": {},
   "outputs": [],
   "source": [
    "i = 4\n",
    "print(i)\n",
    "reset('i')\n",
    "print(i)"
   ]
  },
  {
   "cell_type": "markdown",
   "metadata": {},
   "source": [
    "Sagemath can manipulate very large numbers."
   ]
  },
  {
   "cell_type": "code",
   "execution_count": null,
   "metadata": {},
   "outputs": [],
   "source": [
    "a = 100\n",
    "print(a)\n",
    "print(factor(a))\n",
    "print(factorial(100))\n",
    "print(factor(factorial(100)))"
   ]
  },
  {
   "cell_type": "markdown",
   "metadata": {},
   "source": [
    "## Symbolic math"
   ]
  },
  {
   "cell_type": "code",
   "execution_count": null,
   "metadata": {},
   "outputs": [],
   "source": [
    "x = var('x')\n",
    "f(x) = 1 - sin(x)^2\n",
    "print(f)\n",
    "show(f)\n",
    "print(latex(f))\n",
    "plot(f)"
   ]
  },
  {
   "cell_type": "code",
   "execution_count": null,
   "metadata": {},
   "outputs": [],
   "source": [
    "print(f(pi/2))\n",
    "print(f(pi/4))"
   ]
  },
  {
   "cell_type": "code",
   "execution_count": null,
   "metadata": {},
   "outputs": [],
   "source": [
    "show(f.differentiate())\n",
    "show(f.differentiate(2))\n",
    "show(f.simplify_trig())"
   ]
  },
  {
   "cell_type": "code",
   "execution_count": null,
   "metadata": {},
   "outputs": [],
   "source": [
    "g = (f^2).integrate(x)\n",
    "show(g)\n",
    "plot(g)"
   ]
  },
  {
   "cell_type": "markdown",
   "metadata": {},
   "source": [
    "Symbolic functions on multiple variables."
   ]
  },
  {
   "cell_type": "code",
   "execution_count": null,
   "metadata": {},
   "outputs": [],
   "source": [
    "x, y, z = var('x y z')\n",
    "f(x, y, z) = x + 2*y + 3*z^2\n",
    "show(f)"
   ]
  },
  {
   "cell_type": "code",
   "execution_count": null,
   "metadata": {},
   "outputs": [],
   "source": [
    "show(f(1))\n",
    "show(f(1, 2))\n",
    "show(f(1, 2, 3))"
   ]
  },
  {
   "cell_type": "code",
   "execution_count": null,
   "metadata": {},
   "outputs": [],
   "source": [
    "g = f + 2*x^3\n",
    "show(g)"
   ]
  },
  {
   "cell_type": "markdown",
   "metadata": {},
   "source": [
    "Solve an equation."
   ]
  },
  {
   "cell_type": "code",
   "execution_count": null,
   "metadata": {},
   "outputs": [],
   "source": [
    "x = var('x')\n",
    "f(x) = x^2 + 3*x + 2\n",
    "solve(f, x)"
   ]
  },
  {
   "cell_type": "code",
   "execution_count": null,
   "metadata": {},
   "outputs": [],
   "source": [
    "solve([f(x) == 1], x)"
   ]
  },
  {
   "cell_type": "code",
   "execution_count": null,
   "metadata": {},
   "outputs": [],
   "source": [
    "x, y = var('x y')\n",
    "solve([2*x^2 + 3*y == 1], x)"
   ]
  },
  {
   "cell_type": "markdown",
   "metadata": {},
   "source": [
    "## Linear algebra\n",
    "[https://doc.sagemath.org/html/en/reference/matrices/index.html]\n"
   ]
  },
  {
   "cell_type": "code",
   "execution_count": null,
   "metadata": {},
   "outputs": [],
   "source": [
    "A = Matrix([[1,2,3],[3,2,1],[1,1,1]])\n",
    "print(A)\n",
    "print(latex(A))\n",
    "show(A)"
   ]
  },
  {
   "cell_type": "code",
   "execution_count": null,
   "metadata": {},
   "outputs": [],
   "source": [
    "show(A.kernel())"
   ]
  },
  {
   "cell_type": "code",
   "execution_count": null,
   "metadata": {},
   "outputs": [],
   "source": [
    "A.eigenvalues()"
   ]
  },
  {
   "cell_type": "code",
   "execution_count": null,
   "metadata": {},
   "outputs": [],
   "source": [
    "show(A^2 + A.transpose())"
   ]
  },
  {
   "cell_type": "code",
   "execution_count": null,
   "metadata": {},
   "outputs": [],
   "source": [
    "A = Matrix([[1,2,3],[3,2,1],[1,1,1/2]])\n",
    "show(A)"
   ]
  },
  {
   "cell_type": "code",
   "execution_count": null,
   "metadata": {},
   "outputs": [],
   "source": [
    "show(A^2)"
   ]
  },
  {
   "cell_type": "markdown",
   "metadata": {},
   "source": [
    "## Combinatorics\n",
    "[https://doc.sagemath.org/html/en/reference/combinat/index.html]"
   ]
  },
  {
   "cell_type": "code",
   "execution_count": null,
   "metadata": {},
   "outputs": [],
   "source": [
    "P5 = Partitions(5)\n",
    "P5"
   ]
  },
  {
   "cell_type": "code",
   "execution_count": null,
   "metadata": {},
   "outputs": [],
   "source": [
    "list(P5)"
   ]
  },
  {
   "cell_type": "markdown",
   "metadata": {},
   "source": [
    "## Graph Theory\n",
    "[https://doc.sagemath.org/html/en/reference/graphs/index.html]"
   ]
  },
  {
   "cell_type": "code",
   "execution_count": null,
   "metadata": {},
   "outputs": [],
   "source": [
    "G = graphs.PetersenGraph()\n",
    "print(\"diameter =\", G.diameter())\n",
    "print(\"treewidth =\", G.treewidth())\n",
    "show(G)"
   ]
  },
  {
   "cell_type": "code",
   "execution_count": null,
   "metadata": {},
   "outputs": [],
   "source": [
    "C = G.coloring()\n",
    "print(C)\n",
    "G.plot(partition=C)"
   ]
  },
  {
   "cell_type": "markdown",
   "metadata": {},
   "source": [
    "You can list the induced connected subgraphs on 4 vertices"
   ]
  },
  {
   "cell_type": "code",
   "execution_count": null,
   "metadata": {},
   "outputs": [],
   "source": [
    "len(list(G.connected_subgraph_iterator(4)))"
   ]
  },
  {
   "cell_type": "markdown",
   "metadata": {},
   "source": [
    "List the simple paths from 0 to 3"
   ]
  },
  {
   "cell_type": "code",
   "execution_count": null,
   "metadata": {},
   "outputs": [],
   "source": [
    "for P in G.shortest_simple_paths(0, 3):\n",
    "    print(P)"
   ]
  },
  {
   "cell_type": "markdown",
   "metadata": {},
   "source": [
    "Compute a Hamiltonian cycle"
   ]
  },
  {
   "cell_type": "code",
   "execution_count": null,
   "metadata": {},
   "outputs": [],
   "source": [
    "G = graphs.DodecahedralGraph()\n",
    "H = G.hamiltonian_cycle()\n",
    "G.plot(edge_colors={'red': H.edges()})"
   ]
  },
  {
   "cell_type": "markdown",
   "metadata": {},
   "source": [
    "Check isomorphisms between graphs"
   ]
  },
  {
   "cell_type": "code",
   "execution_count": null,
   "metadata": {},
   "outputs": [],
   "source": [
    "G = graphs.Grid2dGraph(3, 4)\n",
    "H = G.relabel(inplace=False)  # relabel the vertices 0..n-1\n",
    "G.is_isomorphic(H)"
   ]
  },
  {
   "cell_type": "markdown",
   "metadata": {},
   "source": [
    "Search for a subgraph isomorphic to a given graph"
   ]
  },
  {
   "cell_type": "code",
   "execution_count": null,
   "metadata": {},
   "outputs": [],
   "source": [
    "G = graphs.EuropeMap()\n",
    "B = graphs.BullGraph()\n",
    "G.subgraph_search(B).show()"
   ]
  },
  {
   "cell_type": "markdown",
   "metadata": {},
   "source": [
    "Display all graphs or order 5 (may require optional package `nauty`, which gives more options)"
   ]
  },
  {
   "cell_type": "code",
   "execution_count": null,
   "metadata": {},
   "outputs": [],
   "source": [
    "glist= [g for g in graphs(5)]\n",
    "graphs_list.show_graphs(glist)"
   ]
  },
  {
   "cell_type": "markdown",
   "metadata": {},
   "source": [
    "## Linear programming\n",
    "[https://doc.sagemath.org/html/en/thematic_tutorials/linear_programming.html]\n",
    "[https://doc.sagemath.org/html/en/reference/numerical/sage/numerical/mip.html]\n",
    "\n",
    "Simple interface for `glpk`, `PPL`, `cbc`, `cplex`, `gurobi`."
   ]
  },
  {
   "cell_type": "code",
   "execution_count": null,
   "metadata": {},
   "outputs": [],
   "source": [
    "def dominating_set(G):\n",
    "    \"\"\"\n",
    "    Return a minimum dominating set of ``G``\n",
    "    \"\"\"\n",
    "    from sage.numerical.mip import MixedIntegerLinearProgram\n",
    "    p = MixedIntegerLinearProgram(maximization=False)\n",
    "    b = p.new_variable(binary=True, name='b')\n",
    "    for u in G:\n",
    "        # Either u in D or a neighbor of u is in D\n",
    "        p.add_constraint(b[u] + p.sum(b[v] for v in G.neighbors(u)) >= 1)\n",
    "    # We want to maximize the size of the dominating set\n",
    "    p.set_objective(p.sum(b[u] for u in G))\n",
    "    p.solve()\n",
    "    b_val = p.get_values(b)\n",
    "    return [v for v in G if b_val[v]]\n",
    "\n",
    "G = graphs.RandomUnitDiskGraph(100, radius=.2, seed=0)\n",
    "dom = dominating_set(G)\n",
    "print(dom)\n",
    "G.plot(vertex_colors={'red':dom})"
   ]
  },
  {
   "cell_type": "markdown",
   "metadata": {},
   "source": [
    "To display a graph, we can also use the `d3.js` interface. It will display the graph in a new window of your web browser."
   ]
  },
  {
   "cell_type": "code",
   "execution_count": null,
   "metadata": {},
   "outputs": [],
   "source": [
    "G = graphs.RandomTree(100)\n",
    "G.show(method='js')"
   ]
  },
  {
   "cell_type": "markdown",
   "metadata": {},
   "source": [
    "## Use Cython\n",
    "\n",
    "Static compiler for Python and the extended Cython programming language. With Cython, you can\n",
    "* Code functions using both Python and C/C++\n",
    "* Make interface with C/C++ code\n",
    "* Get better performances for critical functions\n",
    "* Used to interface external code (cliquer, bliss, nauty, gmp, etc.) \n",
    "\n",
    "Sagemath uses extensively Cython ([https://cython.org]) to make interfaces with various C/C++ libraries and get better performances for various functions."
   ]
  },
  {
   "cell_type": "code",
   "execution_count": null,
   "metadata": {},
   "outputs": [],
   "source": [
    "def sum_py(n):\n",
    "    s = 0\n",
    "    for i in range(n):\n",
    "        s += i\n",
    "    return s"
   ]
  },
  {
   "cell_type": "code",
   "execution_count": null,
   "metadata": {},
   "outputs": [],
   "source": [
    "%%cython\n",
    "def sum_cy(n):\n",
    "    s = 0\n",
    "    for i in range(n):\n",
    "        s += i\n",
    "    return s"
   ]
  },
  {
   "cell_type": "code",
   "execution_count": null,
   "metadata": {},
   "outputs": [],
   "source": [
    "%%cython\n",
    "def sum_cy2(int n):\n",
    "    cdef long s = 0\n",
    "    cdef int i\n",
    "    for i in range(n):\n",
    "        s += i\n",
    "    return s"
   ]
  },
  {
   "cell_type": "code",
   "execution_count": null,
   "metadata": {},
   "outputs": [],
   "source": [
    "n = 10**7\n",
    "print(timeit(\"sum_py(10**5)\"))\n",
    "print(timeit(\"sum_cy(10**5)\"))\n",
    "print(timeit(\"sum_cy2(10**5)\"))"
   ]
  },
  {
   "cell_type": "markdown",
   "metadata": {},
   "source": [
    "and you can do much more with Cython outside of jupyter..."
   ]
  }
 ],
 "metadata": {
  "kernelspec": {
   "display_name": "SageMath 10.5",
   "language": "sage",
   "name": "sagemath"
  },
  "language_info": {
   "codemirror_mode": {
    "name": "ipython",
    "version": 3
   },
   "file_extension": ".py",
   "mimetype": "text/x-python",
   "name": "python",
   "nbconvert_exporter": "python",
   "pygments_lexer": "ipython3",
   "version": "3.12.5"
  },
  "widgets": {
   "application/vnd.jupyter.widget-state+json": {
    "state": {
     "0277efc0e73649b19a7d1bd842ddb1c5": {
      "model_module": "jupyter-js-widgets",
      "model_module_version": "~2.1.4",
      "model_name": "LayoutModel",
      "state": {
       "_model_module_version": "~2.1.4",
       "_view_module_version": "~2.1.4",
       "max_width": "5em"
      }
     },
     "02c98cb94da44c4a81a72ca83aec5e84": {
      "model_module": "jupyter-js-widgets",
      "model_module_version": "~2.1.4",
      "model_name": "LayoutModel",
      "state": {
       "_model_module_version": "~2.1.4",
       "_view_module_version": "~2.1.4"
      }
     },
     "02f61d5baf3d4cca94c42ce8c643f85d": {
      "model_module": "jupyter-js-widgets",
      "model_module_version": "~2.1.4",
      "model_name": "IntSliderModel",
      "state": {
       "_model_module_version": "~2.1.4",
       "_view_module_version": "~2.1.4",
       "description": "size of graphic",
       "layout": "IPY_MODEL_6ffdb2a5285b452f8a98f4f7a2a5d458",
       "max": 11,
       "min": 1,
       "style": "IPY_MODEL_c499c1a942754b3ea5b4c62e252e9a54",
       "value": 6
      }
     },
     "055f92a7565c42338a2b70541fd46de8": {
      "model_module": "jupyter-js-widgets",
      "model_module_version": "~2.1.4",
      "model_name": "LayoutModel",
      "state": {
       "_model_module_version": "~2.1.4",
       "_view_module_version": "~2.1.4"
      }
     },
     "08abed9ec37143ce8f14c7e6ffa1ab0e": {
      "model_module": "jupyter-js-widgets",
      "model_module_version": "~2.1.4",
      "model_name": "LayoutModel",
      "state": {
       "_model_module_version": "~2.1.4",
       "_view_module_version": "~2.1.4",
       "max_width": "81em"
      }
     },
     "09ad705276a149f794ca5bf082de061b": {
      "model_module": "jupyter-js-widgets",
      "model_module_version": "~2.1.4",
      "model_name": "VBoxModel",
      "state": {
       "_model_module_version": "~2.1.4",
       "_view_module_version": "~2.1.4",
       "children": [
        "IPY_MODEL_286e2caea7a04f4d847781a5fd2ba570"
       ],
       "layout": "IPY_MODEL_1494c9b8d5314d9fadfd46b9269d87bd"
      }
     },
     "0a1e8a8140a642a4960c378f456fdcb0": {
      "model_module": "jupyter-js-widgets",
      "model_module_version": "~2.1.4",
      "model_name": "LayoutModel",
      "state": {
       "_model_module_version": "~2.1.4",
       "_view_module_version": "~2.1.4"
      }
     },
     "0a27a1c99f0a413fa26c2cc0b636a830": {
      "model_module": "jupyter-js-widgets",
      "model_module_version": "~2.1.4",
      "model_name": "SliderStyleModel",
      "state": {
       "_model_module_version": "~2.1.4",
       "_view_module_version": "~2.1.4"
      }
     },
     "0a47694bf9314e629d1f9d2e88bc5e19": {
      "model_module": "jupyter-js-widgets",
      "model_module_version": "~2.1.4",
      "model_name": "LayoutModel",
      "state": {
       "_model_module_version": "~2.1.4",
       "_view_module_version": "~2.1.4"
      }
     },
     "0afb2c716c504bb09bca8f44d32f269e": {
      "model_module": "jupyter-js-widgets",
      "model_module_version": "~2.1.4",
      "model_name": "LayoutModel",
      "state": {
       "_model_module_version": "~2.1.4",
       "_view_module_version": "~2.1.4"
      }
     },
     "0b9c7f4913ad4076af633e3088972b57": {
      "model_module": "jupyter-js-widgets",
      "model_module_version": "~2.1.4",
      "model_name": "LayoutModel",
      "state": {
       "_model_module_version": "~2.1.4",
       "_view_module_version": "~2.1.4"
      }
     },
     "0c8c753fe44644f2bfd47a3bbbcd04e7": {
      "model_module": "jupyter-js-widgets",
      "model_module_version": "~2.1.4",
      "model_name": "TextModel",
      "state": {
       "_model_module_version": "~2.1.4",
       "_view_module_version": "~2.1.4",
       "layout": "IPY_MODEL_8bbe0aae708c403c97a3b2355589d028",
       "value": "10"
      }
     },
     "0d114f3804304bb99dbb09756b7ad454": {
      "model_module": "jupyter-js-widgets",
      "model_module_version": "~2.1.4",
      "model_name": "SliderStyleModel",
      "state": {
       "_model_module_version": "~2.1.4",
       "_view_module_version": "~2.1.4"
      }
     },
     "0e639499d13b4329b2fe068a6c0155c8": {
      "model_module": "jupyter-js-widgets",
      "model_module_version": "~2.1.4",
      "model_name": "SelectionSliderModel",
      "state": {
       "_model_module_version": "~2.1.4",
       "_view_module_version": "~2.1.4",
       "description": "n",
       "layout": "IPY_MODEL_caf0848849eb48ab8e2616b96e6bf497"
      }
     },
     "0e9802e33a9a4cf59c96a42421c47086": {
      "model_module": "jupyter-js-widgets",
      "model_module_version": "~2.1.4",
      "model_name": "SliderStyleModel",
      "state": {
       "_model_module_version": "~2.1.4",
       "_view_module_version": "~2.1.4"
      }
     },
     "0ea89673b211400d9f9f7aaab3256fff": {
      "model_module": "jupyter-js-widgets",
      "model_module_version": "~2.1.4",
      "model_name": "LayoutModel",
      "state": {
       "_model_module_version": "~2.1.4",
       "_view_module_version": "~2.1.4",
       "max_width": "81em"
      }
     },
     "0f4f6231e99744c2a8c4a43fafeed4b9": {
      "model_module": "jupyter-js-widgets",
      "model_module_version": "~2.1.4",
      "model_name": "LayoutModel",
      "state": {
       "_model_module_version": "~2.1.4",
       "_view_module_version": "~2.1.4"
      }
     },
     "0f9a3e5ff22e4d92a036afe6a7c66a94": {
      "model_module": "jupyter-js-widgets",
      "model_module_version": "~2.1.4",
      "model_name": "LayoutModel",
      "state": {
       "_model_module_version": "~2.1.4",
       "_view_module_version": "~2.1.4"
      }
     },
     "0fe31dc049704c7ead0f886f44042392": {
      "model_module": "jupyter-js-widgets",
      "model_module_version": "~2.1.4",
      "model_name": "LabelModel",
      "state": {
       "_model_module_version": "~2.1.4",
       "_view_module_version": "~2.1.4",
       "layout": "IPY_MODEL_f211ccc50070466bb1abee072cba9cf8",
       "value": "keyboard: "
      }
     },
     "11f0db71b36747629dc95bb6a5db3a9e": {
      "model_module": "jupyter-js-widgets",
      "model_module_version": "~2.1.4",
      "model_name": "LayoutModel",
      "state": {
       "_model_module_version": "~2.1.4",
       "_view_module_version": "~2.1.4",
       "max_width": "5em"
      }
     },
     "12c89741708a44d5ac653ce900104600": {
      "model_module": "jupyter-js-widgets",
      "model_module_version": "~2.1.4",
      "model_name": "VBoxModel",
      "state": {
       "_dom_classes": [
        "widget-interact"
       ],
       "_model_module_version": "~2.1.4",
       "_view_module_version": "~2.1.4",
       "children": [
        "IPY_MODEL_5595440455de4f3ab4edc3710ad2611b",
        "IPY_MODEL_7d5060c8bbc24f4298177c9b4157e314",
        "IPY_MODEL_72946449ef9b46319ac66c9fcc23d24a",
        "IPY_MODEL_8f3906455c8a44b48c79f67491663661",
        "IPY_MODEL_5167edf79fc542a69acedc3549c7ebee",
        "IPY_MODEL_3bd64bedcd1b4819864cfb0c7cb3ef65"
       ],
       "layout": "IPY_MODEL_35438bb1fa93467aa2d05d09cb7f7fb8"
      }
     },
     "130dd6895a7f404f85084da388b6bfa4": {
      "model_module": "jupyter-js-widgets",
      "model_module_version": "~2.1.4",
      "model_name": "LayoutModel",
      "state": {
       "_model_module_version": "~2.1.4",
       "_view_module_version": "~2.1.4"
      }
     },
     "1372c642ced4496892357e3273a8730c": {
      "model_module": "jupyter-js-widgets",
      "model_module_version": "~2.1.4",
      "model_name": "SelectionSliderModel",
      "state": {
       "_model_module_version": "~2.1.4",
       "_options_labels": [
        "1",
        "2",
        "3",
        "4",
        "5",
        "6",
        "7",
        "8",
        "9",
        "10",
        "11",
        "12",
        "13",
        "14",
        "15",
        "16",
        "17",
        "18",
        "19",
        "20",
        "21",
        "22",
        "23",
        "24",
        "25",
        "26",
        "27",
        "28",
        "29",
        "30"
       ],
       "_view_module_version": "~2.1.4",
       "description": "n",
       "layout": "IPY_MODEL_cb5c15dd252b4f39bbcf0ad1724204c7",
       "value": "12"
      }
     },
     "13fbc91d15f04e8ea79e90fbe5ac4236": {
      "model_module": "jupyter-js-widgets",
      "model_module_version": "~2.1.4",
      "model_name": "SliderStyleModel",
      "state": {
       "_model_module_version": "~2.1.4",
       "_view_module_version": "~2.1.4"
      }
     },
     "1494c9b8d5314d9fadfd46b9269d87bd": {
      "model_module": "jupyter-js-widgets",
      "model_module_version": "~2.1.4",
      "model_name": "LayoutModel",
      "state": {
       "_model_module_version": "~2.1.4",
       "_view_module_version": "~2.1.4"
      }
     },
     "14d88f46493146bbad391eb543a4edb5": {
      "model_module": "jupyter-js-widgets",
      "model_module_version": "~2.1.4",
      "model_name": "TextModel",
      "state": {
       "_model_module_version": "~2.1.4",
       "_view_module_version": "~2.1.4",
       "description": "f(x)",
       "layout": "IPY_MODEL_0ea89673b211400d9f9f7aaab3256fff",
       "value": "x^2-2"
      }
     },
     "1590d4d05edb4d54bb103929bfd88bf8": {
      "model_module": "jupyter-js-widgets",
      "model_module_version": "~2.1.4",
      "model_name": "LayoutModel",
      "state": {
       "_model_module_version": "~2.1.4",
       "_view_module_version": "~2.1.4"
      }
     },
     "159c35413a2741bf8c6d88a7832fc70d": {
      "model_module": "jupyter-js-widgets",
      "model_module_version": "~2.1.4",
      "model_name": "SliderStyleModel",
      "state": {
       "_model_module_version": "~2.1.4",
       "_view_module_version": "~2.1.4"
      }
     },
     "160977afa1a8432babf371e866990186": {
      "model_module": "jupyter-js-widgets",
      "model_module_version": "~2.1.4",
      "model_name": "IntSliderModel",
      "state": {
       "_model_module_version": "~2.1.4",
       "_view_module_version": "~2.1.4",
       "description": "c",
       "layout": "IPY_MODEL_cccefc8541e04239aa25208f451d97f7",
       "max": 1,
       "style": "IPY_MODEL_961cceceef074c0bbc48602f331c1bfd"
      }
     },
     "164810c53d9e4868955bc47a9741f2be": {
      "model_module": "jupyter-js-widgets",
      "model_module_version": "~2.1.4",
      "model_name": "LayoutModel",
      "state": {
       "_model_module_version": "~2.1.4",
       "_view_module_version": "~2.1.4"
      }
     },
     "1672f1b4a1794999887897595c48005f": {
      "model_module": "jupyter-js-widgets",
      "model_module_version": "~2.1.4",
      "model_name": "VBoxModel",
      "state": {
       "_model_module_version": "~2.1.4",
       "_view_module_version": "~2.1.4",
       "children": [
        "IPY_MODEL_0c8c753fe44644f2bfd47a3bbbcd04e7"
       ],
       "layout": "IPY_MODEL_a14a0b674b2f480e9b41a0e67de71371"
      }
     },
     "167b04b47c2c44e2a3a27f31ac595994": {
      "model_module": "jupyter-js-widgets",
      "model_module_version": "~2.1.4",
      "model_name": "LayoutModel",
      "state": {
       "_model_module_version": "~2.1.4",
       "_view_module_version": "~2.1.4"
      }
     },
     "16ff880ad9b04ed49231724d6736bc5a": {
      "model_module": "jupyter-js-widgets",
      "model_module_version": "~2.1.4",
      "model_name": "LayoutModel",
      "state": {
       "_model_module_version": "~2.1.4",
       "_view_module_version": "~2.1.4",
       "max_width": "81em"
      }
     },
     "17e285afd1b84e89b7132b886342a462": {
      "model_module": "jupyter-js-widgets",
      "model_module_version": "~2.1.4",
      "model_name": "IntSliderModel",
      "state": {
       "_model_module_version": "~2.1.4",
       "_range": true,
       "_view_module_version": "~2.1.4",
       "description": "range",
       "layout": "IPY_MODEL_d88e8c460e0f44ffb14e5981ca4b9223",
       "max": 4000,
       "min": 1,
       "slider_color": null,
       "step": 10,
       "value": [
        1,
        1000
       ]
      }
     },
     "182973fd51ab4ae5a151b3937ab8edd1": {
      "model_module": "jupyter-js-widgets",
      "model_module_version": "~2.1.4",
      "model_name": "OutputModel",
      "state": {
       "_dom_classes": [],
       "_model_module": "jupyter-js-widgets",
       "_model_module_version": "~2.1.4",
       "_view_module": "jupyter-js-widgets",
       "_view_module_version": "~2.1.4",
       "layout": "IPY_MODEL_d472b568079b47f3a99b0a2c4cf80102",
       "msg_throttle": 1
      }
     },
     "18a2062748c1479aaeb641d044be7feb": {
      "model_module": "jupyter-js-widgets",
      "model_module_version": "~2.1.4",
      "model_name": "HTMLModel",
      "state": {
       "_model_module_version": "~2.1.4",
       "_view_module_version": "~2.1.4",
       "layout": "IPY_MODEL_49557a2c0dd3435fa2572bc14d2e1925",
       "value": "<h2>Derivative grapher</h2>"
      }
     },
     "1b4c79840e544e138deb09682268c8e8": {
      "model_module": "jupyter-js-widgets",
      "model_module_version": "~2.1.4",
      "model_name": "IntSliderModel",
      "state": {
       "_model_module_version": "~2.1.4",
       "_view_module_version": "~2.1.4",
       "description": "C",
       "layout": "IPY_MODEL_6cfb38b636464d1eba0572c7dbaa39e9",
       "max": 360,
       "style": "IPY_MODEL_e4ca2915dfff42c5984f9e37ddbc3a62",
       "value": 300
      }
     },
     "1b65ecc999cb4c63867a3105c47578a1": {
      "model_module": "jupyter-js-widgets",
      "model_module_version": "~2.1.4",
      "model_name": "LayoutModel",
      "state": {
       "_model_module_version": "~2.1.4",
       "_view_module_version": "~2.1.4"
      }
     },
     "1b85fff593e84c089c79a4a8a8e3836f": {
      "model_module": "jupyter-js-widgets",
      "model_module_version": "~2.1.4",
      "model_name": "SelectionSliderModel",
      "state": {
       "_model_module_version": "~2.1.4",
       "_options_labels": [
        "1",
        "2",
        "3",
        "4",
        "5",
        "6",
        "7",
        "8",
        "9",
        "10",
        "11",
        "12",
        "13",
        "14",
        "15",
        "16",
        "17",
        "18",
        "19",
        "20",
        "21",
        "22",
        "23",
        "24",
        "25",
        "26",
        "27",
        "28",
        "29",
        "30"
       ],
       "_view_module_version": "~2.1.4",
       "description": "n",
       "layout": "IPY_MODEL_b51a4d9c416341a6915996c26e64dc09",
       "value": "8"
      }
     },
     "1bb52966daac427a8ee3d9e73f100180": {
      "model_module": "jupyter-js-widgets",
      "model_module_version": "~2.1.4",
      "model_name": "TextModel",
      "state": {
       "_model_module_version": "~2.1.4",
       "_view_module_version": "~2.1.4",
       "layout": "IPY_MODEL_58f06258d3494e5fa3f6ddda0b971021",
       "value": "0"
      }
     },
     "1c26dca71e2242f68af9588fcf47f5a6": {
      "model_module": "jupyter-js-widgets",
      "model_module_version": "~2.1.4",
      "model_name": "LayoutModel",
      "state": {
       "_model_module_version": "~2.1.4",
       "_view_module_version": "~2.1.4"
      }
     },
     "1c417e08620747089554e442ebd10bc0": {
      "model_module": "jupyter-js-widgets",
      "model_module_version": "~2.1.4",
      "model_name": "FloatSliderModel",
      "state": {
       "_model_module_version": "~2.1.4",
       "_range": true,
       "_view_module_version": "~2.1.4",
       "description": "Range (y)",
       "layout": "IPY_MODEL_1590d4d05edb4d54bb103929bfd88bf8",
       "max": 15,
       "min": -15,
       "step": 0.1,
       "value": [
        -8,
        6
       ]
      }
     },
     "1c80cf03cb7f4eaa809a6c1baeb6975a": {
      "model_module": "jupyter-js-widgets",
      "model_module_version": "~2.1.4",
      "model_name": "IntSliderModel",
      "state": {
       "_model_module_version": "~2.1.4",
       "_view_module_version": "~2.1.4",
       "description": "number $n$",
       "layout": "IPY_MODEL_aa5e966c78764346943a43787a4b949a",
       "max": 200,
       "min": 1,
       "style": "IPY_MODEL_0a27a1c99f0a413fa26c2cc0b636a830",
       "value": 89
      }
     },
     "1d9b7b0ab771422aa3275e80e23f7eda": {
      "model_module": "jupyter-js-widgets",
      "model_module_version": "~2.1.4",
      "model_name": "VBoxModel",
      "state": {
       "_dom_classes": [
        "widget-interact"
       ],
       "_model_module_version": "~2.1.4",
       "_view_module_version": "~2.1.4",
       "children": [
        "IPY_MODEL_9576f75052aa4a608f5d58e45a573d19",
        "IPY_MODEL_160977afa1a8432babf371e866990186",
        "IPY_MODEL_1372c642ced4496892357e3273a8730c",
        "IPY_MODEL_1dca37580a334772bf4a26f28c093ecb",
        "IPY_MODEL_a8c15dbb0c3a4b92ad69a943157aa021",
        "IPY_MODEL_5d9dc48c9a9e46be95a4c3c3a396a4e8"
       ],
       "layout": "IPY_MODEL_6a53f9e87b1d4ff987602bf492649915"
      }
     },
     "1dca37580a334772bf4a26f28c093ecb": {
      "model_module": "jupyter-js-widgets",
      "model_module_version": "~2.1.4",
      "model_name": "IntSliderModel",
      "state": {
       "_model_module_version": "~2.1.4",
       "_range": true,
       "_view_module_version": "~2.1.4",
       "description": "x-interval",
       "layout": "IPY_MODEL_609a212f4ac14ed08177e5de370756ed",
       "max": 10,
       "min": -10,
       "slider_color": null,
       "value": [
        -8,
        7
       ]
      }
     },
     "1e7c1d3b26ee4773ab4b4efacb8eb40f": {
      "model_module": "jupyter-js-widgets",
      "model_module_version": "~2.1.4",
      "model_name": "LayoutModel",
      "state": {
       "_model_module_version": "~2.1.4",
       "_view_module_version": "~2.1.4"
      }
     },
     "2089e38b6de44a9dab58d4e77df21136": {
      "model_module": "jupyter-js-widgets",
      "model_module_version": "~2.1.4",
      "model_name": "IntSliderModel",
      "state": {
       "_model_module_version": "~2.1.4",
       "_range": true,
       "_view_module_version": "~2.1.4",
       "description": "range",
       "layout": "IPY_MODEL_44acaf65711e40019fd58ae5c7907d56",
       "max": 5,
       "min": -5,
       "slider_color": null,
       "value": [
        0,
        4
       ]
      }
     },
     "208a1b8115854c2f9d1510de440e69ad": {
      "model_module": "jupyter-js-widgets",
      "model_module_version": "~2.1.4",
      "model_name": "LayoutModel",
      "state": {
       "_model_module_version": "~2.1.4",
       "_view_module_version": "~2.1.4"
      }
     },
     "2232fc803d3b4f6f8c0ea6b695e9c49e": {
      "model_module": "jupyter-js-widgets",
      "model_module_version": "~2.1.4",
      "model_name": "IntSliderModel",
      "state": {
       "_model_module_version": "~2.1.4",
       "_view_module_version": "~2.1.4",
       "description": "# divisions",
       "layout": "IPY_MODEL_e34a79ffbbb748fc95ba4f70bc0863fa",
       "max": 30,
       "min": 1,
       "style": "IPY_MODEL_cd688bdf842d46e58446fa9551055f42",
       "value": 5
      }
     },
     "22e75754313c4af7afa4a949ecb6531f": {
      "model_module": "jupyter-js-widgets",
      "model_module_version": "~2.1.4",
      "model_name": "LayoutModel",
      "state": {
       "_model_module_version": "~2.1.4",
       "_view_module_version": "~2.1.4"
      }
     },
     "23129babc4aa4c9b9ca70a2763a36d76": {
      "model_module": "jupyter-js-widgets",
      "model_module_version": "~2.1.4",
      "model_name": "SliderStyleModel",
      "state": {
       "_model_module_version": "~2.1.4",
       "_view_module_version": "~2.1.4"
      }
     },
     "231fc26b6f744d6582e32fc81b26ad97": {
      "model_module": "jupyter-js-widgets",
      "model_module_version": "~2.1.4",
      "model_name": "VBoxModel",
      "state": {
       "_dom_classes": [
        "widget-interact"
       ],
       "_model_module_version": "~2.1.4",
       "_view_module_version": "~2.1.4",
       "children": [
        "IPY_MODEL_2d74dd565edc4109ac8a7e7226313c20",
        "IPY_MODEL_a8bdaf26d8cc4294a89377a8c938b45d",
        "IPY_MODEL_feae3f98fb3944a296c7b9c63c2b5c72",
        "IPY_MODEL_8f3906455c8a44b48c79f67491663661",
        "IPY_MODEL_5167edf79fc542a69acedc3549c7ebee",
        "IPY_MODEL_50232881d366491488a215b8f6ab9039"
       ],
       "layout": "IPY_MODEL_653bacb3f18a48de89a979be537ac441"
      }
     },
     "25375b9465924ef19dcdb8b07f9e4093": {
      "model_module": "jupyter-js-widgets",
      "model_module_version": "~2.1.4",
      "model_name": "SliderStyleModel",
      "state": {
       "_model_module_version": "~2.1.4",
       "_view_module_version": "~2.1.4"
      }
     },
     "2539c69a31c145638442a0a78e7b7b8a": {
      "model_module": "jupyter-js-widgets",
      "model_module_version": "~2.1.4",
      "model_name": "IntSliderModel",
      "state": {
       "_model_module_version": "~2.1.4",
       "_range": true,
       "_view_module_version": "~2.1.4",
       "description": "slider: ",
       "layout": "IPY_MODEL_91272ad42dee4bc9a43a347e3b58fdef",
       "max": 10,
       "min": -10,
       "slider_color": null,
       "value": [
        0,
        8
       ]
      }
     },
     "2548dae1de1944189f8a7e701dc48759": {
      "model_module": "jupyter-js-widgets",
      "model_module_version": "~2.1.4",
      "model_name": "LayoutModel",
      "state": {
       "_model_module_version": "~2.1.4",
       "_view_module_version": "~2.1.4",
       "max_width": "81em"
      }
     },
     "25ff84e90ddf4b06af31cd49595fff5f": {
      "model_module": "jupyter-js-widgets",
      "model_module_version": "~2.1.4",
      "model_name": "LayoutModel",
      "state": {
       "_model_module_version": "~2.1.4",
       "_view_module_version": "~2.1.4"
      }
     },
     "2728b459384644daabdfddf6baaf1dc9": {
      "model_module": "jupyter-js-widgets",
      "model_module_version": "~2.1.4",
      "model_name": "CheckboxModel",
      "state": {
       "_model_module_version": "~2.1.4",
       "_view_module_version": "~2.1.4",
       "description": "Incircle",
       "disabled": false,
       "layout": "IPY_MODEL_428b8035c50d4770aedd90aba1018465",
       "value": false
      }
     },
     "278f2f56a5af481fbcedd42bf13a973c": {
      "model_module": "jupyter-js-widgets",
      "model_module_version": "~2.1.4",
      "model_name": "LabelModel",
      "state": {
       "_model_module_version": "~2.1.4",
       "_view_module_version": "~2.1.4",
       "layout": "IPY_MODEL_969db690dfa0431aaffce4a75311f331",
       "value": "keyboard: "
      }
     },
     "280bd0d983f2435abc10e3cb33baf01e": {
      "model_module": "jupyter-js-widgets",
      "model_module_version": "~2.1.4",
      "model_name": "LayoutModel",
      "state": {
       "_model_module_version": "~2.1.4",
       "_view_module_version": "~2.1.4"
      }
     },
     "286e2caea7a04f4d847781a5fd2ba570": {
      "model_module": "jupyter-js-widgets",
      "model_module_version": "~2.1.4",
      "model_name": "TextModel",
      "state": {
       "_model_module_version": "~2.1.4",
       "_view_module_version": "~2.1.4",
       "layout": "IPY_MODEL_11f0db71b36747629dc95bb6a5db3a9e",
       "value": "8"
      }
     },
     "290f2eead9294f45a787bd7d5c1e400c": {
      "model_module": "jupyter-js-widgets",
      "model_module_version": "~2.1.4",
      "model_name": "VBoxModel",
      "state": {
       "_dom_classes": [
        "widget-interact"
       ],
       "_model_module_version": "~2.1.4",
       "_view_module_version": "~2.1.4",
       "children": [
        "IPY_MODEL_79a3b555e67b40878558741f5d1a3f09",
        "IPY_MODEL_7d7659f64c7c42f69ffc8cdd7ea79927",
        "IPY_MODEL_0e639499d13b4329b2fe068a6c0155c8",
        "IPY_MODEL_8f3906455c8a44b48c79f67491663661",
        "IPY_MODEL_5167edf79fc542a69acedc3549c7ebee",
        "IPY_MODEL_182973fd51ab4ae5a151b3937ab8edd1"
       ],
       "layout": "IPY_MODEL_891efa603eff45d68fb74840fac0a1d3"
      }
     },
     "29731ec18fae4f2481f93d29330515ef": {
      "model_module": "jupyter-js-widgets",
      "model_module_version": "~2.1.4",
      "model_name": "LayoutModel",
      "state": {
       "_model_module_version": "~2.1.4",
       "_view_module_version": "~2.1.4"
      }
     },
     "2bd0f590040741b0bdc7fb5526ea89a5": {
      "model_module": "jupyter-js-widgets",
      "model_module_version": "~2.1.4",
      "model_name": "SliderStyleModel",
      "state": {
       "_model_module_version": "~2.1.4",
       "_view_module_version": "~2.1.4"
      }
     },
     "2bf1c25bf60b462bbe17ca62ff655dff": {
      "model_module": "jupyter-js-widgets",
      "model_module_version": "~2.1.4",
      "model_name": "LayoutModel",
      "state": {
       "_model_module_version": "~2.1.4",
       "_view_module_version": "~2.1.4"
      }
     },
     "2d74dd565edc4109ac8a7e7226313c20": {
      "model_module": "jupyter-js-widgets",
      "model_module_version": "~2.1.4",
      "model_name": "TextModel",
      "state": {
       "_model_module_version": "~2.1.4",
       "_view_module_version": "~2.1.4",
       "description": "f",
       "layout": "IPY_MODEL_0f4f6231e99744c2a8c4a43fafeed4b9",
       "value": "sin(x)"
      }
     },
     "2dc0e70b7d7240249b5f49c4f2e767ed": {
      "model_module": "jupyter-js-widgets",
      "model_module_version": "~2.1.4",
      "model_name": "FloatSliderModel",
      "state": {
       "_model_module_version": "~2.1.4",
       "_range": true,
       "_view_module_version": "~2.1.4",
       "description": "Zoom Y",
       "layout": "IPY_MODEL_4960abfd8c4b449db2827caa5ab45a9b",
       "max": 2,
       "min": -2,
       "step": 0.01,
       "value": [
        -1.5,
        1.5
       ]
      }
     },
     "2dc5395ef5af419e94b5317515c5fd2a": {
      "model_module": "jupyter-js-widgets",
      "model_module_version": "~2.1.4",
      "model_name": "SliderStyleModel",
      "state": {
       "_model_module_version": "~2.1.4",
       "_view_module_version": "~2.1.4"
      }
     },
     "2defbc785b5d40378144ae61e85dd1a2": {
      "model_module": "jupyter-js-widgets",
      "model_module_version": "~2.1.4",
      "model_name": "LayoutModel",
      "state": {
       "_model_module_version": "~2.1.4",
       "_view_module_version": "~2.1.4"
      }
     },
     "2e4f7b932250402ebfc3794338325e03": {
      "model_module": "jupyter-js-widgets",
      "model_module_version": "~2.1.4",
      "model_name": "LayoutModel",
      "state": {
       "_model_module_version": "~2.1.4",
       "_view_module_version": "~2.1.4"
      }
     },
     "2e60e68a3e4d4b8e857362de802cf403": {
      "model_module": "jupyter-js-widgets",
      "model_module_version": "~2.1.4",
      "model_name": "IntSliderModel",
      "state": {
       "_model_module_version": "~2.1.4",
       "_view_module_version": "~2.1.4",
       "description": "10^-d precision",
       "layout": "IPY_MODEL_e07dc7f302a9494f930f1208302ea025",
       "max": 16,
       "min": 1,
       "style": "IPY_MODEL_9ed00afb7dc049a39ce210cdb2188920",
       "value": 3
      }
     },
     "2e7afaed38a54d628b71ad0807e1c793": {
      "model_module": "jupyter-js-widgets",
      "model_module_version": "~2.1.4",
      "model_name": "IntSliderModel",
      "state": {
       "_model_module_version": "~2.1.4",
       "_view_module_version": "~2.1.4",
       "description": "# divisions",
       "layout": "IPY_MODEL_7b16a454a6c34ffc8e93fe44f59ad0e5",
       "min": 2,
       "step": 2,
       "style": "IPY_MODEL_90d88888f6934d6a9d3f518759d3796c",
       "value": 6
      }
     },
     "2f281e4b1cad47d5ae5819932da0a83e": {
      "model_module": "jupyter-js-widgets",
      "model_module_version": "~2.1.4",
      "model_name": "VBoxModel",
      "state": {
       "_dom_classes": [
        "widget-interact"
       ],
       "_model_module_version": "~2.1.4",
       "_view_module_version": "~2.1.4",
       "children": [
        "IPY_MODEL_80bf6b1cc0e74aa7ad293350101b06ec",
        "IPY_MODEL_f3bd5e7600b242b5aaf8c5482134c2eb",
        "IPY_MODEL_381f39bf39db4c4391874149cf8e0447",
        "IPY_MODEL_6b5fb3aadca94c91bb5a5466e845cce4",
        "IPY_MODEL_525150364d54485e88a837a9fd0c6c93",
        "IPY_MODEL_76becdbdff93436885abf937b4c360f2"
       ],
       "layout": "IPY_MODEL_3b37d73b7b884d828b30481f4e7517b2"
      }
     },
     "3041d9db153a414181da4d3bcefcd18d": {
      "model_module": "jupyter-js-widgets",
      "model_module_version": "~2.1.4",
      "model_name": "TextModel",
      "state": {
       "_model_module_version": "~2.1.4",
       "_view_module_version": "~2.1.4",
       "description": "$f(x)=$",
       "layout": "IPY_MODEL_9e3f9e71f4e54deeb604784d57673270",
       "value": "3*x"
      }
     },
     "312c88f55fe64cd1b85ef31e310cec2f": {
      "model_module": "jupyter-js-widgets",
      "model_module_version": "~2.1.4",
      "model_name": "LayoutModel",
      "state": {
       "_model_module_version": "~2.1.4",
       "_view_module_version": "~2.1.4"
      }
     },
     "32c037b30d794afabdccdf4bdf8fa799": {
      "model_module": "jupyter-js-widgets",
      "model_module_version": "~2.1.4",
      "model_name": "IntSliderModel",
      "state": {
       "_model_module_version": "~2.1.4",
       "_view_module_version": "~2.1.4",
       "description": "max iterations",
       "layout": "IPY_MODEL_5bc5a69287794a2cbb6978ed60a82ace",
       "max": 50,
       "style": "IPY_MODEL_bc7dcbd19df14e68bea6a488d402c172",
       "value": 10
      }
     },
     "33abbd6977334f678d9ca3151649f9d6": {
      "model_module": "jupyter-js-widgets",
      "model_module_version": "~2.1.4",
      "model_name": "LayoutModel",
      "state": {
       "_model_module_version": "~2.1.4",
       "_view_module_version": "~2.1.4"
      }
     },
     "33b65c7232b644abaae2afc034881a87": {
      "model_module": "jupyter-js-widgets",
      "model_module_version": "~2.1.4",
      "model_name": "LayoutModel",
      "state": {
       "_model_module_version": "~2.1.4",
       "_view_module_version": "~2.1.4"
      }
     },
     "33f4d083acc540cd879e38368882d41d": {
      "model_module": "jupyter-js-widgets",
      "model_module_version": "~2.1.4",
      "model_name": "LayoutModel",
      "state": {
       "_model_module_version": "~2.1.4",
       "_view_module_version": "~2.1.4"
      }
     },
     "34bb7b7d31f54c1c8b5ff1601aa61c6c": {
      "model_module": "jupyter-js-widgets",
      "model_module_version": "~2.1.4",
      "model_name": "LayoutModel",
      "state": {
       "_model_module_version": "~2.1.4",
       "_view_module_version": "~2.1.4"
      }
     },
     "350d21a50b254ff2bff709b1c9e1e1a7": {
      "model_module": "jupyter-js-widgets",
      "model_module_version": "~2.1.4",
      "model_name": "IntSliderModel",
      "state": {
       "_model_module_version": "~2.1.4",
       "_view_module_version": "~2.1.4",
       "description": "max iterations",
       "layout": "IPY_MODEL_957b1d95c39c449c801a8507f7c3afe9",
       "max": 15,
       "style": "IPY_MODEL_babed8366d234d91b9e8f1c51b4fb62a",
       "value": 10
      }
     },
     "35438bb1fa93467aa2d05d09cb7f7fb8": {
      "model_module": "jupyter-js-widgets",
      "model_module_version": "~2.1.4",
      "model_name": "LayoutModel",
      "state": {
       "_model_module_version": "~2.1.4",
       "_view_module_version": "~2.1.4"
      }
     },
     "35dbbb1935f54e96ae9f757c245e0e46": {
      "model_module": "jupyter-js-widgets",
      "model_module_version": "~2.1.4",
      "model_name": "LayoutModel",
      "state": {
       "_model_module_version": "~2.1.4",
       "_view_module_version": "~2.1.4"
      }
     },
     "3778cc4915e746cd8e6f5a1885e53824": {
      "model_module": "jupyter-js-widgets",
      "model_module_version": "~2.1.4",
      "model_name": "IntSliderModel",
      "state": {
       "_model_module_version": "~2.1.4",
       "_view_module_version": "~2.1.4",
       "description": "# iterations",
       "layout": "IPY_MODEL_bb705e94a47e45d4b70dc3dc99f94122",
       "min": 1,
       "style": "IPY_MODEL_df0e1c49daa94f88b6e673973acd515c",
       "value": 20
      }
     },
     "37c03992f2c84883997c3ad14d1f3c4f": {
      "model_module": "jupyter-js-widgets",
      "model_module_version": "~2.1.4",
      "model_name": "FloatSliderModel",
      "state": {
       "_model_module_version": "~2.1.4",
       "_view_module_version": "~2.1.4",
       "layout": "IPY_MODEL_59117bc97348474c9885c39e6f1631b8",
       "max": 10,
       "min": -10,
       "step": 0.1,
       "value": 2
      }
     },
     "381f39bf39db4c4391874149cf8e0447": {
      "model_module": "jupyter-js-widgets",
      "model_module_version": "~2.1.4",
      "model_name": "SelectionSliderModel",
      "state": {
       "_model_module_version": "~2.1.4",
       "_options_labels": [
        "1",
        "2",
        "3",
        "4",
        "5",
        "6",
        "7",
        "8",
        "9",
        "10",
        "11",
        "12",
        "13",
        "14",
        "15",
        "16",
        "17",
        "18",
        "19",
        "20",
        "21",
        "22",
        "23",
        "24",
        "25",
        "26",
        "27",
        "28",
        "29",
        "30"
       ],
       "_view_module_version": "~2.1.4",
       "description": "n",
       "layout": "IPY_MODEL_4773523d8e8f44068c88ed84a37ac985",
       "value": "7"
      }
     },
     "3b37d73b7b884d828b30481f4e7517b2": {
      "model_module": "jupyter-js-widgets",
      "model_module_version": "~2.1.4",
      "model_name": "LayoutModel",
      "state": {
       "_model_module_version": "~2.1.4",
       "_view_module_version": "~2.1.4"
      }
     },
     "3b482f9119e64833ab536a4e616b3e60": {
      "model_module": "jupyter-js-widgets",
      "model_module_version": "~2.1.4",
      "model_name": "LayoutModel",
      "state": {
       "_model_module_version": "~2.1.4",
       "_view_module_version": "~2.1.4"
      }
     },
     "3b908fd49a5f403d98c8b0fbf6d74a87": {
      "model_module": "jupyter-js-widgets",
      "model_module_version": "~2.1.4",
      "model_name": "LayoutModel",
      "state": {
       "_model_module_version": "~2.1.4",
       "_view_module_version": "~2.1.4"
      }
     },
     "3bd64bedcd1b4819864cfb0c7cb3ef65": {
      "model_module": "jupyter-js-widgets",
      "model_module_version": "~2.1.4",
      "model_name": "OutputModel",
      "state": {
       "_dom_classes": [],
       "_model_module": "jupyter-js-widgets",
       "_model_module_version": "~2.1.4",
       "_view_module": "jupyter-js-widgets",
       "_view_module_version": "~2.1.4",
       "layout": "IPY_MODEL_40451b132b6840baacea4fefa6e77155",
       "msg_throttle": 1
      }
     },
     "3bde0e725f6a4ee88b44e568083bfb64": {
      "model_module": "jupyter-js-widgets",
      "model_module_version": "~2.1.4",
      "model_name": "HTMLModel",
      "state": {
       "_model_module_version": "~2.1.4",
       "_view_module_version": "~2.1.4",
       "layout": "IPY_MODEL_408d839ba0b44f289f54d75eeb29a936",
       "value": "<hr>"
      }
     },
     "3c2b7400d78045bdaff4c541369be411": {
      "model_module": "jupyter-js-widgets",
      "model_module_version": "~2.1.4",
      "model_name": "IntSliderModel",
      "state": {
       "_model_module_version": "~2.1.4",
       "_view_module_version": "~2.1.4",
       "description": "$a$",
       "layout": "IPY_MODEL_ca4a2c42f5f947c394ea49ae080c31b8",
       "max": 10,
       "style": "IPY_MODEL_976f38cb723c40c3ad1ad5d68a4d316b",
       "value": 5
      }
     },
     "3eb71e8a048a46cebacab38d540d881e": {
      "model_module": "jupyter-js-widgets",
      "model_module_version": "~2.1.4",
      "model_name": "LayoutModel",
      "state": {
       "_model_module_version": "~2.1.4",
       "_view_module_version": "~2.1.4",
       "max_width": "81em"
      }
     },
     "40451b132b6840baacea4fefa6e77155": {
      "model_module": "jupyter-js-widgets",
      "model_module_version": "~2.1.4",
      "model_name": "LayoutModel",
      "state": {
       "_model_module_version": "~2.1.4",
       "_view_module_version": "~2.1.4"
      }
     },
     "408d839ba0b44f289f54d75eeb29a936": {
      "model_module": "jupyter-js-widgets",
      "model_module_version": "~2.1.4",
      "model_name": "LayoutModel",
      "state": {
       "_model_module_version": "~2.1.4",
       "_view_module_version": "~2.1.4"
      }
     },
     "40c0c0384d2e449bb17d8e69c910ed8c": {
      "model_module": "jupyter-js-widgets",
      "model_module_version": "~2.1.4",
      "model_name": "DropdownModel",
      "state": {
       "_model_module_version": "~2.1.4",
       "_options_labels": [
        "f",
        "g",
        "f and g",
        "f - g"
       ],
       "_view_module_version": "~2.1.4",
       "description": "Select",
       "layout": "IPY_MODEL_208a1b8115854c2f9d1510de440e69ad",
       "value": "f and g"
      }
     },
     "412b5285cc814a398784aea7e64221d3": {
      "model_module": "jupyter-js-widgets",
      "model_module_version": "~2.1.4",
      "model_name": "IntSliderModel",
      "state": {
       "_model_module_version": "~2.1.4",
       "_range": true,
       "_view_module_version": "~2.1.4",
       "description": "slider: ",
       "layout": "IPY_MODEL_33f4d083acc540cd879e38368882d41d",
       "max": 10,
       "min": -10,
       "slider_color": null,
       "value": [
        0,
        10
       ]
      }
     },
     "41c6c65ea97042b0b9d0956ac3765abd": {
      "model_module": "jupyter-js-widgets",
      "model_module_version": "~2.1.4",
      "model_name": "TextModel",
      "state": {
       "_model_module_version": "~2.1.4",
       "_view_module_version": "~2.1.4",
       "description": "$f(x)=$",
       "layout": "IPY_MODEL_faeddd869e0a44dc864d47dfe973d285",
       "value": "x^2+1"
      }
     },
     "4224031651c3473dae155c83da753179": {
      "model_module": "jupyter-js-widgets",
      "model_module_version": "~2.1.4",
      "model_name": "LayoutModel",
      "state": {
       "_model_module_version": "~2.1.4",
       "_view_module_version": "~2.1.4",
       "max_width": "5em"
      }
     },
     "428b8035c50d4770aedd90aba1018465": {
      "model_module": "jupyter-js-widgets",
      "model_module_version": "~2.1.4",
      "model_name": "LayoutModel",
      "state": {
       "_model_module_version": "~2.1.4",
       "_view_module_version": "~2.1.4"
      }
     },
     "42952cf435284f19be223029edc0e979": {
      "model_module": "jupyter-js-widgets",
      "model_module_version": "~2.1.4",
      "model_name": "TextModel",
      "state": {
       "_model_module_version": "~2.1.4",
       "_view_module_version": "~2.1.4",
       "description": "f",
       "layout": "IPY_MODEL_de4cfdb548074d31a7b54f12e62c8b0f",
       "value": "sin(x)"
      }
     },
     "431818e242f84427a962fabd01429db5": {
      "model_module": "jupyter-js-widgets",
      "model_module_version": "~2.1.4",
      "model_name": "IntSliderModel",
      "state": {
       "_model_module_version": "~2.1.4",
       "_view_module_version": "~2.1.4",
       "description": "C",
       "layout": "IPY_MODEL_d2ad9abc2b5e4890a8e7bf36ba6cb0f9",
       "max": 360,
       "style": "IPY_MODEL_159c35413a2741bf8c6d88a7832fc70d",
       "value": 300
      }
     },
     "43ca14afce8544d696fb05a409e4de65": {
      "model_module": "jupyter-js-widgets",
      "model_module_version": "~2.1.4",
      "model_name": "SliderStyleModel",
      "state": {
       "_model_module_version": "~2.1.4",
       "_view_module_version": "~2.1.4"
      }
     },
     "44acaf65711e40019fd58ae5c7907d56": {
      "model_module": "jupyter-js-widgets",
      "model_module_version": "~2.1.4",
      "model_name": "LayoutModel",
      "state": {
       "_model_module_version": "~2.1.4",
       "_view_module_version": "~2.1.4"
      }
     },
     "45bcaff9a1e04277a599a775fda944ec": {
      "model_module": "jupyter-js-widgets",
      "model_module_version": "~2.1.4",
      "model_name": "CheckboxModel",
      "state": {
       "_model_module_version": "~2.1.4",
       "_view_module_version": "~2.1.4",
       "description": "Perpendicular Bisectors",
       "disabled": false,
       "layout": "IPY_MODEL_974baac134fd4d998df29d792d5db354",
       "value": false
      }
     },
     "46afca4c7e2e4e7ba383faee97989f41": {
      "model_module": "jupyter-js-widgets",
      "model_module_version": "~2.1.4",
      "model_name": "LayoutModel",
      "state": {
       "_model_module_version": "~2.1.4",
       "_view_module_version": "~2.1.4"
      }
     },
     "4773523d8e8f44068c88ed84a37ac985": {
      "model_module": "jupyter-js-widgets",
      "model_module_version": "~2.1.4",
      "model_name": "LayoutModel",
      "state": {
       "_model_module_version": "~2.1.4",
       "_view_module_version": "~2.1.4"
      }
     },
     "483bdbe29c5d429f80e8d333bfccdcca": {
      "model_module": "jupyter-js-widgets",
      "model_module_version": "~2.1.4",
      "model_name": "FloatSliderModel",
      "state": {
       "_model_module_version": "~2.1.4",
       "_range": true,
       "_view_module_version": "~2.1.4",
       "description": "Zoom Y",
       "layout": "IPY_MODEL_2bf1c25bf60b462bbe17ca62ff655dff",
       "max": 2,
       "min": -2,
       "step": 0.01,
       "value": [
        -1.5,
        1.5
       ]
      }
     },
     "486c9a0d587b4aa590a389de75ad8f65": {
      "model_module": "jupyter-js-widgets",
      "model_module_version": "~2.1.4",
      "model_name": "IntSliderModel",
      "state": {
       "_model_module_version": "~2.1.4",
       "_range": true,
       "_view_module_version": "~2.1.4",
       "description": "Interval",
       "layout": "IPY_MODEL_e109de624af147dda600ef5674c29436",
       "max": 10,
       "min": -10,
       "slider_color": null,
       "value": [
        0,
        6
       ]
      }
     },
     "48a8d791e98544eab57be4168437632e": {
      "model_module": "jupyter-js-widgets",
      "model_module_version": "~2.1.4",
      "model_name": "LayoutModel",
      "state": {
       "_model_module_version": "~2.1.4",
       "_view_module_version": "~2.1.4"
      }
     },
     "49557a2c0dd3435fa2572bc14d2e1925": {
      "model_module": "jupyter-js-widgets",
      "model_module_version": "~2.1.4",
      "model_name": "LayoutModel",
      "state": {
       "_model_module_version": "~2.1.4",
       "_view_module_version": "~2.1.4"
      }
     },
     "4960abfd8c4b449db2827caa5ab45a9b": {
      "model_module": "jupyter-js-widgets",
      "model_module_version": "~2.1.4",
      "model_name": "LayoutModel",
      "state": {
       "_model_module_version": "~2.1.4",
       "_view_module_version": "~2.1.4"
      }
     },
     "4c0e2672b38d412ba133fc6a1daa0e06": {
      "model_module": "jupyter-js-widgets",
      "model_module_version": "~2.1.4",
      "model_name": "LayoutModel",
      "state": {
       "_model_module_version": "~2.1.4",
       "_view_module_version": "~2.1.4",
       "max_width": "81em"
      }
     },
     "4cc7b797ff6a41c09d3a40038623c59b": {
      "model_module": "jupyter-js-widgets",
      "model_module_version": "~2.1.4",
      "model_name": "IntSliderModel",
      "state": {
       "_model_module_version": "~2.1.4",
       "_view_module_version": "~2.1.4",
       "description": "# divisions",
       "layout": "IPY_MODEL_d9c972b2be4548b19381229a5a34068a",
       "min": 1,
       "style": "IPY_MODEL_fa3a789c94c24db5802f28b46dcfd410",
       "value": 5
      }
     },
     "4fb8729c87b2443fbd2917910ec00689": {
      "model_module": "jupyter-js-widgets",
      "model_module_version": "~2.1.4",
      "model_name": "LayoutModel",
      "state": {
       "_model_module_version": "~2.1.4",
       "_view_module_version": "~2.1.4"
      }
     },
     "50232881d366491488a215b8f6ab9039": {
      "model_module": "jupyter-js-widgets",
      "model_module_version": "~2.1.4",
      "model_name": "OutputModel",
      "state": {
       "_dom_classes": [],
       "_model_module": "jupyter-js-widgets",
       "_model_module_version": "~2.1.4",
       "_view_module": "jupyter-js-widgets",
       "_view_module_version": "~2.1.4",
       "layout": "IPY_MODEL_8680d6f58617402697d70fcb336e1b1c",
       "msg_throttle": 1
      }
     },
     "504c1291af48432ea29d0a217a28f544": {
      "model_module": "jupyter-js-widgets",
      "model_module_version": "~2.1.4",
      "model_name": "LayoutModel",
      "state": {
       "_model_module_version": "~2.1.4",
       "_view_module_version": "~2.1.4"
      }
     },
     "5083652fe7574af8b746ab64285723ff": {
      "model_module": "jupyter-js-widgets",
      "model_module_version": "~2.1.4",
      "model_name": "LayoutModel",
      "state": {
       "_model_module_version": "~2.1.4",
       "_view_module_version": "~2.1.4"
      }
     },
     "51286935d97941918223064453b47cf9": {
      "model_module": "jupyter-js-widgets",
      "model_module_version": "~2.1.4",
      "model_name": "LayoutModel",
      "state": {
       "_model_module_version": "~2.1.4",
       "_view_module_version": "~2.1.4"
      }
     },
     "5167edf79fc542a69acedc3549c7ebee": {
      "model_module": "jupyter-js-widgets",
      "model_module_version": "~2.1.4",
      "model_name": "IntSliderModel",
      "state": {
       "_model_module_version": "~2.1.4",
       "_range": true,
       "_view_module_version": "~2.1.4",
       "description": "y-interval",
       "layout": "IPY_MODEL_dd93edc71222495dae00a3d3cac8277a",
       "max": 50,
       "min": -50,
       "slider_color": null,
       "value": [
        -3,
        3
       ]
      }
     },
     "525150364d54485e88a837a9fd0c6c93": {
      "model_module": "jupyter-js-widgets",
      "model_module_version": "~2.1.4",
      "model_name": "IntSliderModel",
      "state": {
       "_model_module_version": "~2.1.4",
       "_range": true,
       "_view_module_version": "~2.1.4",
       "description": "y-interval",
       "layout": "IPY_MODEL_7a1d95ccad8f430488226dee7b44f694",
       "max": 50,
       "min": -50,
       "slider_color": null,
       "value": [
        -3,
        3
       ]
      }
     },
     "53e7f013b21f432c9b2ad3a57ba65bae": {
      "model_module": "jupyter-js-widgets",
      "model_module_version": "~2.1.4",
      "model_name": "LayoutModel",
      "state": {
       "_model_module_version": "~2.1.4",
       "_view_module_version": "~2.1.4",
       "max_width": "81em"
      }
     },
     "5422aa56b8954dc097fd8f9c9c970506": {
      "model_module": "jupyter-js-widgets",
      "model_module_version": "~2.1.4",
      "model_name": "LayoutModel",
      "state": {
       "_model_module_version": "~2.1.4",
       "_view_module_version": "~2.1.4"
      }
     },
     "546d470babf64b41971c5d8b372e675f": {
      "model_module": "jupyter-js-widgets",
      "model_module_version": "~2.1.4",
      "model_name": "LayoutModel",
      "state": {
       "_model_module_version": "~2.1.4",
       "_view_module_version": "~2.1.4"
      }
     },
     "54cff88354194a4eafc6b38499e3d4ce": {
      "model_module": "jupyter-js-widgets",
      "model_module_version": "~2.1.4",
      "model_name": "LayoutModel",
      "state": {
       "_model_module_version": "~2.1.4",
       "_view_module_version": "~2.1.4"
      }
     },
     "54efc68f10a543c3a8769cba77eda587": {
      "model_module": "jupyter-js-widgets",
      "model_module_version": "~2.1.4",
      "model_name": "IntSliderModel",
      "state": {
       "_model_module_version": "~2.1.4",
       "_range": true,
       "_view_module_version": "~2.1.4",
       "description": "y-interval",
       "layout": "IPY_MODEL_cc0f8fe6f7284cf3bb9147e35a28a9c1",
       "max": 50,
       "min": -50,
       "slider_color": null,
       "value": [
        -3,
        3
       ]
      }
     },
     "5595440455de4f3ab4edc3710ad2611b": {
      "model_module": "jupyter-js-widgets",
      "model_module_version": "~2.1.4",
      "model_name": "TextModel",
      "state": {
       "_model_module_version": "~2.1.4",
       "_view_module_version": "~2.1.4",
       "description": "f",
       "layout": "IPY_MODEL_66023f91af98403f84a1245e32ac4d26",
       "value": "sin(x)"
      }
     },
     "565eee1ed30a40b7ab25712345528c1f": {
      "model_module": "jupyter-js-widgets",
      "model_module_version": "~2.1.4",
      "model_name": "IntSliderModel",
      "state": {
       "_model_module_version": "~2.1.4",
       "_view_module_version": "~2.1.4",
       "description": "Rule number",
       "layout": "IPY_MODEL_164810c53d9e4868955bc47a9741f2be",
       "max": 255,
       "style": "IPY_MODEL_fb3a51d9cc60421fac1428199f34f903",
       "value": 110
      }
     },
     "574ce2ad31504bf49c9bc7609e236016": {
      "model_module": "jupyter-js-widgets",
      "model_module_version": "~2.1.4",
      "model_name": "IntSliderModel",
      "state": {
       "_model_module_version": "~2.1.4",
       "_view_module_version": "~2.1.4",
       "description": "$10^{-d}$ precision",
       "layout": "IPY_MODEL_167b04b47c2c44e2a3a27f31ac595994",
       "max": 8,
       "min": 1,
       "style": "IPY_MODEL_b0830a0e5a8c4a058e0fa7207ced484e",
       "value": 3
      }
     },
     "57bc39a3457141a0a04825a78b54837b": {
      "model_module": "jupyter-js-widgets",
      "model_module_version": "~2.1.4",
      "model_name": "LayoutModel",
      "state": {
       "_model_module_version": "~2.1.4",
       "_view_module_version": "~2.1.4"
      }
     },
     "584ceae8163f4c1fbad8a7ebeca9e83b": {
      "model_module": "jupyter-js-widgets",
      "model_module_version": "~2.1.4",
      "model_name": "IntSliderModel",
      "state": {
       "_model_module_version": "~2.1.4",
       "_view_module_version": "~2.1.4",
       "description": "A",
       "layout": "IPY_MODEL_33abbd6977334f678d9ca3151649f9d6",
       "max": 360,
       "style": "IPY_MODEL_dc27ee661f8143089e9ee3ea44586712",
       "value": 30
      }
     },
     "58f06258d3494e5fa3f6ddda0b971021": {
      "model_module": "jupyter-js-widgets",
      "model_module_version": "~2.1.4",
      "model_name": "LayoutModel",
      "state": {
       "_model_module_version": "~2.1.4",
       "_view_module_version": "~2.1.4",
       "max_width": "5em"
      }
     },
     "58fe1f5c3f5a423b911d3c9a2f2eaae2": {
      "model_module": "jupyter-js-widgets",
      "model_module_version": "~2.1.4",
      "model_name": "VBoxModel",
      "state": {
       "_dom_classes": [
        "widget-interact"
       ],
       "_model_module_version": "~2.1.4",
       "_view_module_version": "~2.1.4",
       "children": [
        "IPY_MODEL_42952cf435284f19be223029edc0e979",
        "IPY_MODEL_f2c21bd41b0a4c7d943a4727d5c36212",
        "IPY_MODEL_bdb939147add4fde97cf6071273c9f2f",
        "IPY_MODEL_8f3906455c8a44b48c79f67491663661",
        "IPY_MODEL_5167edf79fc542a69acedc3549c7ebee",
        "IPY_MODEL_ad6c3f101fab478fbd5514ae079c35d9"
       ],
       "layout": "IPY_MODEL_280bd0d983f2435abc10e3cb33baf01e"
      }
     },
     "59117bc97348474c9885c39e6f1631b8": {
      "model_module": "jupyter-js-widgets",
      "model_module_version": "~2.1.4",
      "model_name": "LayoutModel",
      "state": {
       "_model_module_version": "~2.1.4",
       "_view_module_version": "~2.1.4"
      }
     },
     "5a3cad14e1ff4f55a545695ed3b4a589": {
      "model_module": "jupyter-js-widgets",
      "model_module_version": "~2.1.4",
      "model_name": "FloatSliderModel",
      "state": {
       "_model_module_version": "~2.1.4",
       "_view_module_version": "~2.1.4",
       "layout": "IPY_MODEL_a73f0c781e42464c908e540a6671314c",
       "max": 10,
       "min": -10,
       "step": 0.1,
       "value": 2
      }
     },
     "5a59432decaf459fb7476849a7f6b144": {
      "model_module": "jupyter-js-widgets",
      "model_module_version": "~2.1.4",
      "model_name": "LayoutModel",
      "state": {
       "_model_module_version": "~2.1.4",
       "_view_module_version": "~2.1.4",
       "max_width": "81em"
      }
     },
     "5bc5a69287794a2cbb6978ed60a82ace": {
      "model_module": "jupyter-js-widgets",
      "model_module_version": "~2.1.4",
      "model_name": "LayoutModel",
      "state": {
       "_model_module_version": "~2.1.4",
       "_view_module_version": "~2.1.4"
      }
     },
     "5c41640537c74129b35829ed8c5b0fc9": {
      "model_module": "jupyter-js-widgets",
      "model_module_version": "~2.1.4",
      "model_name": "SelectionSliderModel",
      "state": {
       "_model_module_version": "~2.1.4",
       "_options_labels": [
        "1",
        "2",
        "3",
        "4",
        "5",
        "6",
        "7",
        "8",
        "9",
        "10",
        "11",
        "12"
       ],
       "_view_module_version": "~2.1.4",
       "layout": "IPY_MODEL_2e4f7b932250402ebfc3794338325e03",
       "value": "1"
      }
     },
     "5cc34d15e1f1447384057b04b1d72a97": {
      "model_module": "jupyter-js-widgets",
      "model_module_version": "~2.1.4",
      "model_name": "LayoutModel",
      "state": {
       "_model_module_version": "~2.1.4",
       "_view_module_version": "~2.1.4",
       "max_width": "5em"
      }
     },
     "5d66b27a21a94518b568e363028fc726": {
      "model_module": "jupyter-js-widgets",
      "model_module_version": "~2.1.4",
      "model_name": "IntSliderModel",
      "state": {
       "_model_module_version": "~2.1.4",
       "_view_module_version": "~2.1.4",
       "description": "B",
       "layout": "IPY_MODEL_b3dcfdc7c5ce4f408d01cdf821c41f0b",
       "max": 360,
       "style": "IPY_MODEL_f0372fd6d55c4ad1aea4dfeae405623e",
       "value": 180
      }
     },
     "5d9dc48c9a9e46be95a4c3c3a396a4e8": {
      "model_module": "jupyter-js-widgets",
      "model_module_version": "~2.1.4",
      "model_name": "OutputModel",
      "state": {
       "_dom_classes": [],
       "_model_module": "jupyter-js-widgets",
       "_model_module_version": "~2.1.4",
       "_view_module": "jupyter-js-widgets",
       "_view_module_version": "~2.1.4",
       "layout": "IPY_MODEL_0a1e8a8140a642a4960c378f456fdcb0",
       "msg_throttle": 1
      }
     },
     "5fa2b27d414042a8a04fcd72cf0f83fc": {
      "model_module": "jupyter-js-widgets",
      "model_module_version": "~2.1.4",
      "model_name": "LayoutModel",
      "state": {
       "_model_module_version": "~2.1.4",
       "_view_module_version": "~2.1.4"
      }
     },
     "5facc960dcb74dfcb33b26df994379c6": {
      "model_module": "jupyter-js-widgets",
      "model_module_version": "~2.1.4",
      "model_name": "IntSliderModel",
      "state": {
       "_model_module_version": "~2.1.4",
       "_range": true,
       "_view_module_version": "~2.1.4",
       "description": "Plotting range (y)",
       "layout": "IPY_MODEL_a00a80601659460189b552d1cfc16505",
       "max": 1,
       "slider_color": null,
       "value": [
        0,
        0
       ]
      }
     },
     "609a212f4ac14ed08177e5de370756ed": {
      "model_module": "jupyter-js-widgets",
      "model_module_version": "~2.1.4",
      "model_name": "LayoutModel",
      "state": {
       "_model_module_version": "~2.1.4",
       "_view_module_version": "~2.1.4"
      }
     },
     "616e264fbc5c4babb72e2a81dc729a0d": {
      "model_module": "jupyter-js-widgets",
      "model_module_version": "~2.1.4",
      "model_name": "FloatSliderModel",
      "state": {
       "_model_module_version": "~2.1.4",
       "_range": true,
       "_view_module_version": "~2.1.4",
       "description": "Zoom X",
       "layout": "IPY_MODEL_797dbf4e5ac44b83a69fd2f4e0b53b9c",
       "max": 2,
       "min": -2,
       "step": 0.01,
       "value": [
        -2,
        1
       ]
      }
     },
     "635f914cd7924df9a9150f0bc1c61d79": {
      "model_module": "jupyter-js-widgets",
      "model_module_version": "~2.1.4",
      "model_name": "VBoxModel",
      "state": {
       "_dom_classes": [
        "widget-interact"
       ],
       "_model_module_version": "~2.1.4",
       "_view_module_version": "~2.1.4",
       "children": [
        "IPY_MODEL_cbbc2319ee344df99f2c7aa7444a8372",
        "IPY_MODEL_7732e50c67fc43cd87f14c4af0bbcc1a",
        "IPY_MODEL_1b85fff593e84c089c79a4a8a8e3836f",
        "IPY_MODEL_d2af5f824a88475ba760df00a6938ecd",
        "IPY_MODEL_54efc68f10a543c3a8769cba77eda587",
        "IPY_MODEL_675487b715a0423aa7beb55ee129e6cb"
       ],
       "layout": "IPY_MODEL_fd67230c035c4c8a8ff327423216a1b5"
      }
     },
     "63dcff7fe635477dac0dc78b8316448d": {
      "model_module": "jupyter-js-widgets",
      "model_module_version": "~2.1.4",
      "model_name": "IntSliderModel",
      "state": {
       "_model_module_version": "~2.1.4",
       "_range": true,
       "_view_module_version": "~2.1.4",
       "description": "Interval",
       "layout": "IPY_MODEL_93389652865641f8b8b68406956fa150",
       "max": 10,
       "min": -10,
       "slider_color": null,
       "value": [
        0,
        3
       ]
      }
     },
     "640312e0fc4140f0bdcf01601db496ac": {
      "model_module": "jupyter-js-widgets",
      "model_module_version": "~2.1.4",
      "model_name": "LayoutModel",
      "state": {
       "_model_module_version": "~2.1.4",
       "_view_module_version": "~2.1.4"
      }
     },
     "64642508dd3f46c286bf7a71d80a2389": {
      "model_module": "jupyter-js-widgets",
      "model_module_version": "~2.1.4",
      "model_name": "LayoutModel",
      "state": {
       "_model_module_version": "~2.1.4",
       "_view_module_version": "~2.1.4"
      }
     },
     "64d8f0c54d224e05bb492b06b522cff0": {
      "model_module": "jupyter-js-widgets",
      "model_module_version": "~2.1.4",
      "model_name": "LayoutModel",
      "state": {
       "_model_module_version": "~2.1.4",
       "_view_module_version": "~2.1.4"
      }
     },
     "653bacb3f18a48de89a979be537ac441": {
      "model_module": "jupyter-js-widgets",
      "model_module_version": "~2.1.4",
      "model_name": "LayoutModel",
      "state": {
       "_model_module_version": "~2.1.4",
       "_view_module_version": "~2.1.4"
      }
     },
     "656ead539d13413fa3f6c3538e075f61": {
      "model_module": "jupyter-js-widgets",
      "model_module_version": "~2.1.4",
      "model_name": "OutputModel",
      "state": {
       "_dom_classes": [],
       "_model_module": "jupyter-js-widgets",
       "_model_module_version": "~2.1.4",
       "_view_module": "jupyter-js-widgets",
       "_view_module_version": "~2.1.4",
       "layout": "IPY_MODEL_25ff84e90ddf4b06af31cd49595fff5f",
       "msg_throttle": 1
      }
     },
     "66023f91af98403f84a1245e32ac4d26": {
      "model_module": "jupyter-js-widgets",
      "model_module_version": "~2.1.4",
      "model_name": "LayoutModel",
      "state": {
       "_model_module_version": "~2.1.4",
       "_view_module_version": "~2.1.4"
      }
     },
     "660f957d96654413808159bb14af702a": {
      "model_module": "jupyter-js-widgets",
      "model_module_version": "~2.1.4",
      "model_name": "FloatSliderModel",
      "state": {
       "_model_module_version": "~2.1.4",
       "_range": true,
       "_view_module_version": "~2.1.4",
       "description": "Zoom X",
       "layout": "IPY_MODEL_ea9489151d794b5b9f9412ce372cd5b3",
       "max": 2,
       "min": -2,
       "step": 0.01,
       "value": [
        -1.5,
        1.5
       ]
      }
     },
     "6615ac9b597c4e25b4fec69745745905": {
      "model_module": "jupyter-js-widgets",
      "model_module_version": "~2.1.4",
      "model_name": "LayoutModel",
      "state": {
       "_model_module_version": "~2.1.4",
       "_view_module_version": "~2.1.4"
      }
     },
     "675487b715a0423aa7beb55ee129e6cb": {
      "model_module": "jupyter-js-widgets",
      "model_module_version": "~2.1.4",
      "model_name": "OutputModel",
      "state": {
       "_dom_classes": [],
       "_model_module": "jupyter-js-widgets",
       "_model_module_version": "~2.1.4",
       "_view_module": "jupyter-js-widgets",
       "_view_module_version": "~2.1.4",
       "layout": "IPY_MODEL_0f9a3e5ff22e4d92a036afe6a7c66a94",
       "msg_throttle": 1
      }
     },
     "680f2efb9bff425ab64aaa94625111e6": {
      "model_module": "jupyter-js-widgets",
      "model_module_version": "~2.1.4",
      "model_name": "TextModel",
      "state": {
       "_model_module_version": "~2.1.4",
       "_view_module_version": "~2.1.4",
       "description": "$f(x)=$",
       "layout": "IPY_MODEL_4c0e2672b38d412ba133fc6a1daa0e06",
       "value": "x^2-5*x + 10"
      }
     },
     "690c882f95c54fe6b1c24b52045971d7": {
      "model_module": "jupyter-js-widgets",
      "model_module_version": "~2.1.4",
      "model_name": "HTMLModel",
      "state": {
       "_model_module_version": "~2.1.4",
       "_view_module_version": "~2.1.4",
       "layout": "IPY_MODEL_86aca3f990414e859fa5c1d8d9d8a07d",
       "value": "<h2>Secant method for numerical root finding</h2>"
      }
     },
     "6a53f9e87b1d4ff987602bf492649915": {
      "model_module": "jupyter-js-widgets",
      "model_module_version": "~2.1.4",
      "model_name": "LayoutModel",
      "state": {
       "_model_module_version": "~2.1.4",
       "_view_module_version": "~2.1.4"
      }
     },
     "6aae75c0dc2542d582e52e3f4f7f20ef": {
      "model_module": "jupyter-js-widgets",
      "model_module_version": "~2.1.4",
      "model_name": "CheckboxModel",
      "state": {
       "_model_module_version": "~2.1.4",
       "_view_module_version": "~2.1.4",
       "description": "List steps",
       "disabled": false,
       "layout": "IPY_MODEL_1b65ecc999cb4c63867a3105c47578a1",
       "value": false
      }
     },
     "6b5fb3aadca94c91bb5a5466e845cce4": {
      "model_module": "jupyter-js-widgets",
      "model_module_version": "~2.1.4",
      "model_name": "IntSliderModel",
      "state": {
       "_model_module_version": "~2.1.4",
       "_range": true,
       "_view_module_version": "~2.1.4",
       "description": "x-intervalxyf",
       "layout": "IPY_MODEL_c2d6b5695cbc4d799aa325e3d856f57c",
       "max": 10,
       "min": -10,
       "slider_color": null,
       "value": [
        -8,
        8
       ]
      }
     },
     "6b813f8271694929b290f18820600913": {
      "model_module": "jupyter-js-widgets",
      "model_module_version": "~2.1.4",
      "model_name": "TextModel",
      "state": {
       "_model_module_version": "~2.1.4",
       "_view_module_version": "~2.1.4",
       "description": "$f(x)=$",
       "layout": "IPY_MODEL_3eb71e8a048a46cebacab38d540d881e",
       "value": "x*sin(x)+x+1"
      }
     },
     "6cfb38b636464d1eba0572c7dbaa39e9": {
      "model_module": "jupyter-js-widgets",
      "model_module_version": "~2.1.4",
      "model_name": "LayoutModel",
      "state": {
       "_model_module_version": "~2.1.4",
       "_view_module_version": "~2.1.4"
      }
     },
     "6d909f4b5ee3427b8a3d4eedc14f5ccf": {
      "model_module": "jupyter-js-widgets",
      "model_module_version": "~2.1.4",
      "model_name": "IntSliderModel",
      "state": {
       "_model_module_version": "~2.1.4",
       "_view_module_version": "~2.1.4",
       "description": "# iterations",
       "layout": "IPY_MODEL_82107b27c0a648d48535a024bde58246",
       "min": 1,
       "style": "IPY_MODEL_43ca14afce8544d696fb05a409e4de65",
       "value": 20
      }
     },
     "6df96543ac834208bd0087a293bf32fa": {
      "model_module": "jupyter-js-widgets",
      "model_module_version": "~2.1.4",
      "model_name": "LayoutModel",
      "state": {
       "_model_module_version": "~2.1.4",
       "_view_module_version": "~2.1.4"
      }
     },
     "6e6a05dc0dcd428c9da4df6d9a91ff72": {
      "model_module": "jupyter-js-widgets",
      "model_module_version": "~2.1.4",
      "model_name": "LayoutModel",
      "state": {
       "_model_module_version": "~2.1.4",
       "_view_module_version": "~2.1.4"
      }
     },
     "6ec5b3d02c0242f192b68001bc2b1bb0": {
      "model_module": "jupyter-js-widgets",
      "model_module_version": "~2.1.4",
      "model_name": "VBoxModel",
      "state": {
       "_model_module_version": "~2.1.4",
       "_view_module_version": "~2.1.4",
       "children": [
        "IPY_MODEL_86251b6e03664651b5a36e47a8ebe198"
       ],
       "layout": "IPY_MODEL_983763754c8c475895e1ea8b3315182c"
      }
     },
     "6ffdb2a5285b452f8a98f4f7a2a5d458": {
      "model_module": "jupyter-js-widgets",
      "model_module_version": "~2.1.4",
      "model_name": "LayoutModel",
      "state": {
       "_model_module_version": "~2.1.4",
       "_view_module_version": "~2.1.4"
      }
     },
     "703bcc9719d24f468f76b5d2d65bc220": {
      "model_module": "jupyter-js-widgets",
      "model_module_version": "~2.1.4",
      "model_name": "ToggleButtonsModel",
      "state": {
       "_model_module_version": "~2.1.4",
       "_options_labels": [
        "traditional",
        "table",
        "none"
       ],
       "_view_module_version": "~2.1.4",
       "button_style": "",
       "description": "Computations form",
       "icons": [],
       "layout": "IPY_MODEL_a17a0f633380472abe54e9886dcaad9d",
       "tooltips": [],
       "value": "traditional"
      }
     },
     "7137e1d1813649689b77bf5c087fd0ba": {
      "model_module": "jupyter-js-widgets",
      "model_module_version": "~2.1.4",
      "model_name": "LayoutModel",
      "state": {
       "_model_module_version": "~2.1.4",
       "_view_module_version": "~2.1.4"
      }
     },
     "71a349bfe1f846f7bdd03841d0d41449": {
      "model_module": "jupyter-js-widgets",
      "model_module_version": "~2.1.4",
      "model_name": "VBoxModel",
      "state": {
       "_model_module_version": "~2.1.4",
       "_view_module_version": "~2.1.4",
       "children": [
        "IPY_MODEL_1bb52966daac427a8ee3d9e73f100180"
       ],
       "layout": "IPY_MODEL_bdb71b4875d349b7939814758dee7eb6"
      }
     },
     "71c18af722e54c5983454a72843df4f7": {
      "model_module": "jupyter-js-widgets",
      "model_module_version": "~2.1.4",
      "model_name": "HBoxModel",
      "state": {
       "_model_module_version": "~2.1.4",
       "_view_module_version": "~2.1.4",
       "children": [
        "IPY_MODEL_0fe31dc049704c7ead0f886f44042392",
        "IPY_MODEL_71a349bfe1f846f7bdd03841d0d41449",
        "IPY_MODEL_09ad705276a149f794ca5bf082de061b"
       ],
       "layout": "IPY_MODEL_86a9897c88d94d23a26a3840c05f2629"
      }
     },
     "7260113bdcba411c9f8ecade0c23cd7e": {
      "model_module": "jupyter-js-widgets",
      "model_module_version": "~2.1.4",
      "model_name": "IntSliderModel",
      "state": {
       "_model_module_version": "~2.1.4",
       "_view_module_version": "~2.1.4",
       "description": "A",
       "layout": "IPY_MODEL_33b65c7232b644abaae2afc034881a87",
       "max": 360,
       "style": "IPY_MODEL_25375b9465924ef19dcdb8b07f9e4093",
       "value": 30
      }
     },
     "72946449ef9b46319ac66c9fcc23d24a": {
      "model_module": "jupyter-js-widgets",
      "model_module_version": "~2.1.4",
      "model_name": "SelectionSliderModel",
      "state": {
       "_model_module_version": "~2.1.4",
       "_options_labels": [
        "1",
        "2",
        "3",
        "4",
        "5",
        "6",
        "7",
        "8",
        "9",
        "10",
        "11",
        "12",
        "13",
        "14",
        "15",
        "16",
        "17",
        "18",
        "19",
        "20",
        "21",
        "22",
        "23",
        "24",
        "25",
        "26",
        "27",
        "28",
        "29",
        "30"
       ],
       "_view_module_version": "~2.1.4",
       "description": "n",
       "layout": "IPY_MODEL_57bc39a3457141a0a04825a78b54837b",
       "value": "1"
      }
     },
     "73a198f312ac4887a4b71d4a3624366f": {
      "model_module": "jupyter-js-widgets",
      "model_module_version": "~2.1.4",
      "model_name": "CheckboxModel",
      "state": {
       "_model_module_version": "~2.1.4",
       "_view_module_version": "~2.1.4",
       "description": "Euler's Line",
       "disabled": false,
       "layout": "IPY_MODEL_6df96543ac834208bd0087a293bf32fa",
       "value": false
      }
     },
     "742981bf36fb470e9b47c3b785b06959": {
      "model_module": "jupyter-js-widgets",
      "model_module_version": "~2.1.4",
      "model_name": "SliderStyleModel",
      "state": {
       "_model_module_version": "~2.1.4",
       "_view_module_version": "~2.1.4"
      }
     },
     "74a8d277e34e40018b5a967df0696243": {
      "model_module": "jupyter-js-widgets",
      "model_module_version": "~2.1.4",
      "model_name": "HBoxModel",
      "state": {
       "_model_module_version": "~2.1.4",
       "_view_module_version": "~2.1.4",
       "children": [
        "IPY_MODEL_8683bd9bc9614313ab500c5c00de4753",
        "IPY_MODEL_bed4faa8295e442c97be6de04af5f329",
        "IPY_MODEL_1672f1b4a1794999887897595c48005f"
       ],
       "layout": "IPY_MODEL_46afca4c7e2e4e7ba383faee97989f41"
      }
     },
     "76becdbdff93436885abf937b4c360f2": {
      "model_module": "jupyter-js-widgets",
      "model_module_version": "~2.1.4",
      "model_name": "OutputModel",
      "state": {
       "_dom_classes": [],
       "_model_module": "jupyter-js-widgets",
       "_model_module_version": "~2.1.4",
       "_view_module": "jupyter-js-widgets",
       "_view_module_version": "~2.1.4",
       "layout": "IPY_MODEL_54cff88354194a4eafc6b38499e3d4ce",
       "msg_throttle": 1
      }
     },
     "76e092e452ee4c1db59e587eb426b944": {
      "model_module": "jupyter-js-widgets",
      "model_module_version": "~2.1.4",
      "model_name": "LayoutModel",
      "state": {
       "_model_module_version": "~2.1.4",
       "_view_module_version": "~2.1.4"
      }
     },
     "7732e50c67fc43cd87f14c4af0bbcc1a": {
      "model_module": "jupyter-js-widgets",
      "model_module_version": "~2.1.4",
      "model_name": "IntSliderModel",
      "state": {
       "_model_module_version": "~2.1.4",
       "_view_module_version": "~2.1.4",
       "description": "c",
       "layout": "IPY_MODEL_1e7c1d3b26ee4773ab4b4efacb8eb40f",
       "max": 1,
       "style": "IPY_MODEL_13fbc91d15f04e8ea79e90fbe5ac4236",
       "value": 1
      }
     },
     "781d289c6d7e4ea989083f78fc01a0b4": {
      "model_module": "jupyter-js-widgets",
      "model_module_version": "~2.1.4",
      "model_name": "LayoutModel",
      "state": {
       "_model_module_version": "~2.1.4",
       "_view_module_version": "~2.1.4"
      }
     },
     "797dbf4e5ac44b83a69fd2f4e0b53b9c": {
      "model_module": "jupyter-js-widgets",
      "model_module_version": "~2.1.4",
      "model_name": "LayoutModel",
      "state": {
       "_model_module_version": "~2.1.4",
       "_view_module_version": "~2.1.4"
      }
     },
     "79a3b555e67b40878558741f5d1a3f09": {
      "model_module": "jupyter-js-widgets",
      "model_module_version": "~2.1.4",
      "model_name": "TextModel",
      "state": {
       "_model_module_version": "~2.1.4",
       "_view_module_version": "~2.1.4",
       "description": "f",
       "layout": "IPY_MODEL_9312361c601a47459f796b549f9935e5",
       "value": "sin(x)"
      }
     },
     "7a1d95ccad8f430488226dee7b44f694": {
      "model_module": "jupyter-js-widgets",
      "model_module_version": "~2.1.4",
      "model_name": "LayoutModel",
      "state": {
       "_model_module_version": "~2.1.4",
       "_view_module_version": "~2.1.4"
      }
     },
     "7b16a454a6c34ffc8e93fe44f59ad0e5": {
      "model_module": "jupyter-js-widgets",
      "model_module_version": "~2.1.4",
      "model_name": "LayoutModel",
      "state": {
       "_model_module_version": "~2.1.4",
       "_view_module_version": "~2.1.4"
      }
     },
     "7ba13a618bc940099c4fe710f8cea995": {
      "model_module": "jupyter-js-widgets",
      "model_module_version": "~2.1.4",
      "model_name": "LayoutModel",
      "state": {
       "_model_module_version": "~2.1.4",
       "_view_module_version": "~2.1.4"
      }
     },
     "7cc667eabb6c4d389c8ad57368f7f355": {
      "model_module": "jupyter-js-widgets",
      "model_module_version": "~2.1.4",
      "model_name": "HTMLModel",
      "state": {
       "_model_module_version": "~2.1.4",
       "_view_module_version": "~2.1.4",
       "layout": "IPY_MODEL_ca47a078e06c4718a05da8bd60f5e4a2",
       "value": "<h2>Definite integral</h2>"
      }
     },
     "7d5060c8bbc24f4298177c9b4157e314": {
      "model_module": "jupyter-js-widgets",
      "model_module_version": "~2.1.4",
      "model_name": "IntSliderModel",
      "state": {
       "_model_module_version": "~2.1.4",
       "_view_module_version": "~2.1.4",
       "description": "c",
       "layout": "IPY_MODEL_0a47694bf9314e629d1f9d2e88bc5e19",
       "max": 1,
       "style": "IPY_MODEL_88d673e551a740928f1887c44557afaa"
      }
     },
     "7d7659f64c7c42f69ffc8cdd7ea79927": {
      "model_module": "jupyter-js-widgets",
      "model_module_version": "~2.1.4",
      "model_name": "IntSliderModel",
      "state": {
       "_model_module_version": "~2.1.4",
       "_view_module_version": "~2.1.4",
       "description": "c",
       "layout": "IPY_MODEL_76e092e452ee4c1db59e587eb426b944",
       "max": 1,
       "style": "IPY_MODEL_a91199fe25c94b2faf7c298e35870adb"
      }
     },
     "7f6f54a438b2433e951e25db4cce0391": {
      "model_module": "jupyter-js-widgets",
      "model_module_version": "~2.1.4",
      "model_name": "LayoutModel",
      "state": {
       "_model_module_version": "~2.1.4",
       "_view_module_version": "~2.1.4"
      }
     },
     "7f806ef728234eef957141c909fdf3e2": {
      "model_module": "jupyter-js-widgets",
      "model_module_version": "~2.1.4",
      "model_name": "VBoxModel",
      "state": {
       "_model_module_version": "~2.1.4",
       "_view_module_version": "~2.1.4",
       "children": [
        "IPY_MODEL_90153680d0454108b7af28f07bf85570"
       ],
       "layout": "IPY_MODEL_82ca2e0402774c6589f23089044e963f"
      }
     },
     "80575d07c6934e67acd5a0d15f9b9b45": {
      "model_module": "jupyter-js-widgets",
      "model_module_version": "~2.1.4",
      "model_name": "TextModel",
      "state": {
       "_model_module_version": "~2.1.4",
       "_view_module_version": "~2.1.4",
       "description": "f(x)",
       "layout": "IPY_MODEL_08abed9ec37143ce8f14c7e6ffa1ab0e",
       "value": "x^2-2"
      }
     },
     "80bf6b1cc0e74aa7ad293350101b06ec": {
      "model_module": "jupyter-js-widgets",
      "model_module_version": "~2.1.4",
      "model_name": "TextModel",
      "state": {
       "_model_module_version": "~2.1.4",
       "_view_module_version": "~2.1.4",
       "description": "f",
       "layout": "IPY_MODEL_2defbc785b5d40378144ae61e85dd1a2",
       "value": "sin(x)"
      }
     },
     "813ba18f9505493a9a63fd38fafab385": {
      "model_module": "jupyter-js-widgets",
      "model_module_version": "~2.1.4",
      "model_name": "SelectionSliderModel",
      "state": {
       "_model_module_version": "~2.1.4",
       "_options_labels": [
        "0",
        "1",
        "2",
        "3",
        "4",
        "5",
        "6",
        "7",
        "8",
        "9"
       ],
       "_view_module_version": "~2.1.4",
       "layout": "IPY_MODEL_c5e4b383ff5c4ae0b3f51838baa08a0f",
       "value": "0"
      }
     },
     "82107b27c0a648d48535a024bde58246": {
      "model_module": "jupyter-js-widgets",
      "model_module_version": "~2.1.4",
      "model_name": "LayoutModel",
      "state": {
       "_model_module_version": "~2.1.4",
       "_view_module_version": "~2.1.4"
      }
     },
     "82680dfdeaca45d48c0cd2ed4f9f39bc": {
      "model_module": "jupyter-js-widgets",
      "model_module_version": "~2.1.4",
      "model_name": "LayoutModel",
      "state": {
       "_model_module_version": "~2.1.4",
       "_view_module_version": "~2.1.4"
      }
     },
     "82ca2e0402774c6589f23089044e963f": {
      "model_module": "jupyter-js-widgets",
      "model_module_version": "~2.1.4",
      "model_name": "LayoutModel",
      "state": {
       "_model_module_version": "~2.1.4",
       "_view_module_version": "~2.1.4"
      }
     },
     "8491f1e5355c4477951bd42b415feb9c": {
      "model_module": "jupyter-js-widgets",
      "model_module_version": "~2.1.4",
      "model_name": "OutputModel",
      "state": {
       "_dom_classes": [],
       "_model_module": "jupyter-js-widgets",
       "_model_module_version": "~2.1.4",
       "_view_module": "jupyter-js-widgets",
       "_view_module_version": "~2.1.4",
       "layout": "IPY_MODEL_055f92a7565c42338a2b70541fd46de8",
       "msg_throttle": 1
      }
     },
     "86251b6e03664651b5a36e47a8ebe198": {
      "model_module": "jupyter-js-widgets",
      "model_module_version": "~2.1.4",
      "model_name": "TextModel",
      "state": {
       "_model_module_version": "~2.1.4",
       "_view_module_version": "~2.1.4",
       "layout": "IPY_MODEL_0277efc0e73649b19a7d1bd842ddb1c5",
       "value": "2"
      }
     },
     "8680d6f58617402697d70fcb336e1b1c": {
      "model_module": "jupyter-js-widgets",
      "model_module_version": "~2.1.4",
      "model_name": "LayoutModel",
      "state": {
       "_model_module_version": "~2.1.4",
       "_view_module_version": "~2.1.4"
      }
     },
     "8683bd9bc9614313ab500c5c00de4753": {
      "model_module": "jupyter-js-widgets",
      "model_module_version": "~2.1.4",
      "model_name": "LabelModel",
      "state": {
       "_model_module_version": "~2.1.4",
       "_view_module_version": "~2.1.4",
       "layout": "IPY_MODEL_acd95247d5c74187becdd348369fcb6a",
       "value": "keyboard: "
      }
     },
     "86a9897c88d94d23a26a3840c05f2629": {
      "model_module": "jupyter-js-widgets",
      "model_module_version": "~2.1.4",
      "model_name": "LayoutModel",
      "state": {
       "_model_module_version": "~2.1.4",
       "_view_module_version": "~2.1.4"
      }
     },
     "86aca3f990414e859fa5c1d8d9d8a07d": {
      "model_module": "jupyter-js-widgets",
      "model_module_version": "~2.1.4",
      "model_name": "LayoutModel",
      "state": {
       "_model_module_version": "~2.1.4",
       "_view_module_version": "~2.1.4"
      }
     },
     "884695cc036d40c6bd51c7604b7aa08b": {
      "model_module": "jupyter-js-widgets",
      "model_module_version": "~2.1.4",
      "model_name": "IntSliderModel",
      "state": {
       "_model_module_version": "~2.1.4",
       "_view_module_version": "~2.1.4",
       "description": "$x_0$ (start point)",
       "layout": "IPY_MODEL_f4bbe335acd54ca7ba5b135338831372",
       "max": 10,
       "style": "IPY_MODEL_c314964c3c9a499bba4689150c6ad9b2",
       "value": 2
      }
     },
     "88d673e551a740928f1887c44557afaa": {
      "model_module": "jupyter-js-widgets",
      "model_module_version": "~2.1.4",
      "model_name": "SliderStyleModel",
      "state": {
       "_model_module_version": "~2.1.4",
       "_view_module_version": "~2.1.4"
      }
     },
     "891efa603eff45d68fb74840fac0a1d3": {
      "model_module": "jupyter-js-widgets",
      "model_module_version": "~2.1.4",
      "model_name": "LayoutModel",
      "state": {
       "_model_module_version": "~2.1.4",
       "_view_module_version": "~2.1.4"
      }
     },
     "8a1fc18671a546f99eef64d844462cce": {
      "model_module": "jupyter-js-widgets",
      "model_module_version": "~2.1.4",
      "model_name": "SliderStyleModel",
      "state": {
       "_model_module_version": "~2.1.4",
       "_view_module_version": "~2.1.4"
      }
     },
     "8b73e60c1bc0403eb706a079c2293545": {
      "model_module": "jupyter-js-widgets",
      "model_module_version": "~2.1.4",
      "model_name": "SliderStyleModel",
      "state": {
       "_model_module_version": "~2.1.4",
       "_view_module_version": "~2.1.4"
      }
     },
     "8b8808121b4a4a42afa5bb008a71d4fe": {
      "model_module": "jupyter-js-widgets",
      "model_module_version": "~2.1.4",
      "model_name": "TextModel",
      "state": {
       "_model_module_version": "~2.1.4",
       "_view_module_version": "~2.1.4",
       "description": "Function:",
       "layout": "IPY_MODEL_5a59432decaf459fb7476849a7f6b144",
       "value": "x^5-3*x^3+1"
      }
     },
     "8bbe0aae708c403c97a3b2355589d028": {
      "model_module": "jupyter-js-widgets",
      "model_module_version": "~2.1.4",
      "model_name": "LayoutModel",
      "state": {
       "_model_module_version": "~2.1.4",
       "_view_module_version": "~2.1.4",
       "max_width": "5em"
      }
     },
     "8c2e5b27446349c38f075002053a6707": {
      "model_module": "jupyter-js-widgets",
      "model_module_version": "~2.1.4",
      "model_name": "LayoutModel",
      "state": {
       "_model_module_version": "~2.1.4",
       "_view_module_version": "~2.1.4"
      }
     },
     "8c71abd92ef34f959e4ecf30c814ffc1": {
      "model_module": "jupyter-js-widgets",
      "model_module_version": "~2.1.4",
      "model_name": "LayoutModel",
      "state": {
       "_model_module_version": "~2.1.4",
       "_view_module_version": "~2.1.4"
      }
     },
     "8d4ee2a80ef346349879f081976f3b73": {
      "model_module": "jupyter-js-widgets",
      "model_module_version": "~2.1.4",
      "model_name": "LayoutModel",
      "state": {
       "_model_module_version": "~2.1.4",
       "_view_module_version": "~2.1.4"
      }
     },
     "8d7ae28c4dd94fceaf800bc83f75859f": {
      "model_module": "jupyter-js-widgets",
      "model_module_version": "~2.1.4",
      "model_name": "HTMLModel",
      "state": {
       "_model_module_version": "~2.1.4",
       "_view_module_version": "~2.1.4",
       "layout": "IPY_MODEL_a75e4081215649dba04941c574203576",
       "value": "<h2>Riemann integral with random sampling</h2>"
      }
     },
     "8e227d81861643749e6e24b89dfe1708": {
      "model_module": "jupyter-js-widgets",
      "model_module_version": "~2.1.4",
      "model_name": "LayoutModel",
      "state": {
       "_model_module_version": "~2.1.4",
       "_view_module_version": "~2.1.4"
      }
     },
     "8e542dc32348403bb2b78f08613fd189": {
      "model_module": "jupyter-js-widgets",
      "model_module_version": "~2.1.4",
      "model_name": "LayoutModel",
      "state": {
       "_model_module_version": "~2.1.4",
       "_view_module_version": "~2.1.4"
      }
     },
     "8e9c758ebbae49be98688e39dc377287": {
      "model_module": "jupyter-js-widgets",
      "model_module_version": "~2.1.4",
      "model_name": "CheckboxModel",
      "state": {
       "_model_module_version": "~2.1.4",
       "_view_module_version": "~2.1.4",
       "description": "Altitudes",
       "disabled": false,
       "layout": "IPY_MODEL_9c9b8b407175430990bd1ecb9898b9cb",
       "value": false
      }
     },
     "8f3906455c8a44b48c79f67491663661": {
      "model_module": "jupyter-js-widgets",
      "model_module_version": "~2.1.4",
      "model_name": "IntSliderModel",
      "state": {
       "_model_module_version": "~2.1.4",
       "_range": true,
       "_view_module_version": "~2.1.4",
       "description": "x-interval",
       "layout": "IPY_MODEL_34bb7b7d31f54c1c8b5ff1601aa61c6c",
       "max": 10,
       "min": -10,
       "slider_color": null,
       "value": [
        -8,
        8
       ]
      }
     },
     "8f769c13f8984b57b3d5c775a9225969": {
      "model_module": "jupyter-js-widgets",
      "model_module_version": "~2.1.4",
      "model_name": "IntSliderModel",
      "state": {
       "_model_module_version": "~2.1.4",
       "_view_module_version": "~2.1.4",
       "description": "Start ($x$)",
       "layout": "IPY_MODEL_9ebb200a8abe4b54b482e93c67405b0c",
       "max": 10,
       "min": -10,
       "style": "IPY_MODEL_fcbcd05fa8d648d1adba0840d303d926",
       "value": 6
      }
     },
     "90027105f97f480386456f21b1716959": {
      "model_module": "jupyter-js-widgets",
      "model_module_version": "~2.1.4",
      "model_name": "SelectionSliderModel",
      "state": {
       "_model_module_version": "~2.1.4",
       "_options_labels": [
        "0",
        "1",
        "2",
        "3",
        "4",
        "5",
        "6",
        "7",
        "8",
        "9"
       ],
       "_view_module_version": "~2.1.4",
       "layout": "IPY_MODEL_ce1289d5667249498b0a8305cdfe2c7f",
       "value": "0"
      }
     },
     "900cdeee6feb43659c8376aa99dbe7ab": {
      "model_module": "jupyter-js-widgets",
      "model_module_version": "~2.1.4",
      "model_name": "ToggleButtonsModel",
      "state": {
       "_model_module_version": "~2.1.4",
       "_options_labels": [
        "f",
        "df/dx",
        "int f",
        "num f",
        "den f",
        "1/f",
        "finv",
        "f+a",
        "f-a",
        "f*a",
        "f/a",
        "f^a",
        "f(x+a)",
        "f(x*a)",
        "f+g",
        "f-g",
        "f*g",
        "f/g",
        "f(g)"
       ],
       "_view_module_version": "~2.1.4",
       "button_style": "",
       "description": "h = ",
       "icons": [],
       "layout": "IPY_MODEL_7137e1d1813649689b77bf5c087fd0ba",
       "tooltips": [],
       "value": "f"
      }
     },
     "90153680d0454108b7af28f07bf85570": {
      "model_module": "jupyter-js-widgets",
      "model_module_version": "~2.1.4",
      "model_name": "TextModel",
      "state": {
       "_model_module_version": "~2.1.4",
       "_view_module_version": "~2.1.4",
       "layout": "IPY_MODEL_4224031651c3473dae155c83da753179",
       "value": "0"
      }
     },
     "902c3fbc93fc489982f581f8c669019b": {
      "model_module": "jupyter-js-widgets",
      "model_module_version": "~2.1.4",
      "model_name": "LayoutModel",
      "state": {
       "_model_module_version": "~2.1.4",
       "_view_module_version": "~2.1.4"
      }
     },
     "90af107bf01d447b9878850c2ad2e20d": {
      "model_module": "jupyter-js-widgets",
      "model_module_version": "~2.1.4",
      "model_name": "SliderStyleModel",
      "state": {
       "_model_module_version": "~2.1.4",
       "_view_module_version": "~2.1.4"
      }
     },
     "90d88888f6934d6a9d3f518759d3796c": {
      "model_module": "jupyter-js-widgets",
      "model_module_version": "~2.1.4",
      "model_name": "SliderStyleModel",
      "state": {
       "_model_module_version": "~2.1.4",
       "_view_module_version": "~2.1.4"
      }
     },
     "911db422661e48af887abe3f9a296af3": {
      "model_module": "jupyter-js-widgets",
      "model_module_version": "~2.1.4",
      "model_name": "SliderStyleModel",
      "state": {
       "_model_module_version": "~2.1.4",
       "_view_module_version": "~2.1.4"
      }
     },
     "91272ad42dee4bc9a43a347e3b58fdef": {
      "model_module": "jupyter-js-widgets",
      "model_module_version": "~2.1.4",
      "model_name": "LayoutModel",
      "state": {
       "_model_module_version": "~2.1.4",
       "_view_module_version": "~2.1.4"
      }
     },
     "9312361c601a47459f796b549f9935e5": {
      "model_module": "jupyter-js-widgets",
      "model_module_version": "~2.1.4",
      "model_name": "LayoutModel",
      "state": {
       "_model_module_version": "~2.1.4",
       "_view_module_version": "~2.1.4"
      }
     },
     "93389652865641f8b8b68406956fa150": {
      "model_module": "jupyter-js-widgets",
      "model_module_version": "~2.1.4",
      "model_name": "LayoutModel",
      "state": {
       "_model_module_version": "~2.1.4",
       "_view_module_version": "~2.1.4"
      }
     },
     "93fec206f1b64db9bfb017d0370e8660": {
      "model_module": "jupyter-js-widgets",
      "model_module_version": "~2.1.4",
      "model_name": "LayoutModel",
      "state": {
       "_model_module_version": "~2.1.4",
       "_view_module_version": "~2.1.4"
      }
     },
     "9576f75052aa4a608f5d58e45a573d19": {
      "model_module": "jupyter-js-widgets",
      "model_module_version": "~2.1.4",
      "model_name": "TextModel",
      "state": {
       "_model_module_version": "~2.1.4",
       "_view_module_version": "~2.1.4",
       "description": "f",
       "layout": "IPY_MODEL_8e542dc32348403bb2b78f08613fd189",
       "value": "sin(x)"
      }
     },
     "957b1d95c39c449c801a8507f7c3afe9": {
      "model_module": "jupyter-js-widgets",
      "model_module_version": "~2.1.4",
      "model_name": "LayoutModel",
      "state": {
       "_model_module_version": "~2.1.4",
       "_view_module_version": "~2.1.4"
      }
     },
     "961cceceef074c0bbc48602f331c1bfd": {
      "model_module": "jupyter-js-widgets",
      "model_module_version": "~2.1.4",
      "model_name": "SliderStyleModel",
      "state": {
       "_model_module_version": "~2.1.4",
       "_view_module_version": "~2.1.4"
      }
     },
     "961f349399ff4eea87a6c086b7d20aca": {
      "model_module": "jupyter-js-widgets",
      "model_module_version": "~2.1.4",
      "model_name": "IntSliderModel",
      "state": {
       "_model_module_version": "~2.1.4",
       "_view_module_version": "~2.1.4",
       "layout": "IPY_MODEL_64d8f0c54d224e05bb492b06b522cff0",
       "max": 7,
       "min": -7,
       "style": "IPY_MODEL_f05e2b42e7e94377b122f77fb16d0df9",
       "value": 1
      }
     },
     "9625686bb5264c5185cbbb89bcb28db9": {
      "model_module": "jupyter-js-widgets",
      "model_module_version": "~2.1.4",
      "model_name": "FloatSliderModel",
      "state": {
       "_model_module_version": "~2.1.4",
       "_view_module_version": "~2.1.4",
       "layout": "IPY_MODEL_7ba13a618bc940099c4fe710f8cea995",
       "max": 6.283185307179586,
       "step": 0.015707963267948967
      }
     },
     "969db690dfa0431aaffce4a75311f331": {
      "model_module": "jupyter-js-widgets",
      "model_module_version": "~2.1.4",
      "model_name": "LayoutModel",
      "state": {
       "_model_module_version": "~2.1.4",
       "_view_module_version": "~2.1.4"
      }
     },
     "974baac134fd4d998df29d792d5db354": {
      "model_module": "jupyter-js-widgets",
      "model_module_version": "~2.1.4",
      "model_name": "LayoutModel",
      "state": {
       "_model_module_version": "~2.1.4",
       "_view_module_version": "~2.1.4"
      }
     },
     "976f38cb723c40c3ad1ad5d68a4d316b": {
      "model_module": "jupyter-js-widgets",
      "model_module_version": "~2.1.4",
      "model_name": "SliderStyleModel",
      "state": {
       "_model_module_version": "~2.1.4",
       "_view_module_version": "~2.1.4"
      }
     },
     "983763754c8c475895e1ea8b3315182c": {
      "model_module": "jupyter-js-widgets",
      "model_module_version": "~2.1.4",
      "model_name": "LayoutModel",
      "state": {
       "_model_module_version": "~2.1.4",
       "_view_module_version": "~2.1.4"
      }
     },
     "984105ed78fd41898677160c87fa46ce": {
      "model_module": "jupyter-js-widgets",
      "model_module_version": "~2.1.4",
      "model_name": "IntSliderModel",
      "state": {
       "_model_module_version": "~2.1.4",
       "_view_module_version": "~2.1.4",
       "description": "plot points",
       "layout": "IPY_MODEL_6e6a05dc0dcd428c9da4df6d9a91ff72",
       "max": 400,
       "min": 20,
       "step": 20,
       "style": "IPY_MODEL_742981bf36fb470e9b47c3b785b06959",
       "value": 150
      }
     },
     "984bbbfe3bf343f191ca98a845c1cbab": {
      "model_module": "jupyter-js-widgets",
      "model_module_version": "~2.1.4",
      "model_name": "LayoutModel",
      "state": {
       "_model_module_version": "~2.1.4",
       "_view_module_version": "~2.1.4",
       "max_width": "81em"
      }
     },
     "9852a62f237c4384b347871aeee15e7f": {
      "model_module": "jupyter-js-widgets",
      "model_module_version": "~2.1.4",
      "model_name": "FloatSliderModel",
      "state": {
       "_model_module_version": "~2.1.4",
       "_view_module_version": "~2.1.4",
       "description": "real part const.",
       "layout": "IPY_MODEL_af07ea1d18ea40d6bda6c7c6d038b69b",
       "max": 2,
       "min": -2,
       "step": 0.01,
       "value": 0.5
      }
     },
     "99aed513481b4d1d8c2f4ce9ec0bd3b5": {
      "model_module": "jupyter-js-widgets",
      "model_module_version": "~2.1.4",
      "model_name": "IntSliderModel",
      "state": {
       "_model_module_version": "~2.1.4",
       "_view_module_version": "~2.1.4",
       "description": "plot points",
       "layout": "IPY_MODEL_504c1291af48432ea29d0a217a28f544",
       "max": 400,
       "min": 20,
       "step": 20,
       "style": "IPY_MODEL_d872a165bb0f4020a7a5b3006e8da569",
       "value": 150
      }
     },
     "9c95e436a20442d2b6547b7fa0cab4c3": {
      "model_module": "jupyter-js-widgets",
      "model_module_version": "~2.1.4",
      "model_name": "IntSliderModel",
      "state": {
       "_model_module_version": "~2.1.4",
       "_view_module_version": "~2.1.4",
       "description": "Number of Tosses",
       "layout": "IPY_MODEL_5083652fe7574af8b746ab64285723ff",
       "max": 10000,
       "min": 2,
       "step": 100,
       "style": "IPY_MODEL_8a1fc18671a546f99eef64d844462cce",
       "value": 1000
      }
     },
     "9c9b8b407175430990bd1ecb9898b9cb": {
      "model_module": "jupyter-js-widgets",
      "model_module_version": "~2.1.4",
      "model_name": "LayoutModel",
      "state": {
       "_model_module_version": "~2.1.4",
       "_view_module_version": "~2.1.4"
      }
     },
     "9e3f9e71f4e54deeb604784d57673270": {
      "model_module": "jupyter-js-widgets",
      "model_module_version": "~2.1.4",
      "model_name": "LayoutModel",
      "state": {
       "_model_module_version": "~2.1.4",
       "_view_module_version": "~2.1.4",
       "max_width": "81em"
      }
     },
     "9e9fea82200543b19c037c774dc600db": {
      "model_module": "jupyter-js-widgets",
      "model_module_version": "~2.1.4",
      "model_name": "TextModel",
      "state": {
       "_model_module_version": "~2.1.4",
       "_view_module_version": "~2.1.4",
       "description": "$f(x)=$",
       "layout": "IPY_MODEL_53e7f013b21f432c9b2ad3a57ba65bae",
       "value": "e^(-x)*sin(x)"
      }
     },
     "9ebb200a8abe4b54b482e93c67405b0c": {
      "model_module": "jupyter-js-widgets",
      "model_module_version": "~2.1.4",
      "model_name": "LayoutModel",
      "state": {
       "_model_module_version": "~2.1.4",
       "_view_module_version": "~2.1.4"
      }
     },
     "9ed00afb7dc049a39ce210cdb2188920": {
      "model_module": "jupyter-js-widgets",
      "model_module_version": "~2.1.4",
      "model_name": "SliderStyleModel",
      "state": {
       "_model_module_version": "~2.1.4",
       "_view_module_version": "~2.1.4"
      }
     },
     "a00a80601659460189b552d1cfc16505": {
      "model_module": "jupyter-js-widgets",
      "model_module_version": "~2.1.4",
      "model_name": "LayoutModel",
      "state": {
       "_model_module_version": "~2.1.4",
       "_view_module_version": "~2.1.4"
      }
     },
     "a0f7f80b60da483594998e32425632cb": {
      "model_module": "jupyter-js-widgets",
      "model_module_version": "~2.1.4",
      "model_name": "IntSliderModel",
      "state": {
       "_model_module_version": "~2.1.4",
       "_view_module_version": "~2.1.4",
       "description": "Number of iterations",
       "layout": "IPY_MODEL_22e75754313c4af7afa4a949ecb6531f",
       "max": 500,
       "min": 1,
       "style": "IPY_MODEL_2dc5395ef5af419e94b5317515c5fd2a",
       "value": 100
      }
     },
     "a14a0b674b2f480e9b41a0e67de71371": {
      "model_module": "jupyter-js-widgets",
      "model_module_version": "~2.1.4",
      "model_name": "LayoutModel",
      "state": {
       "_model_module_version": "~2.1.4",
       "_view_module_version": "~2.1.4"
      }
     },
     "a17a0f633380472abe54e9886dcaad9d": {
      "model_module": "jupyter-js-widgets",
      "model_module_version": "~2.1.4",
      "model_name": "LayoutModel",
      "state": {
       "_model_module_version": "~2.1.4",
       "_view_module_version": "~2.1.4"
      }
     },
     "a20385d677aa46afaa480fb00d3246e2": {
      "model_module": "jupyter-js-widgets",
      "model_module_version": "~2.1.4",
      "model_name": "SliderStyleModel",
      "state": {
       "_model_module_version": "~2.1.4",
       "_view_module_version": "~2.1.4"
      }
     },
     "a3365aeb1f4c4c8e90b41bc598732ae7": {
      "model_module": "jupyter-js-widgets",
      "model_module_version": "~2.1.4",
      "model_name": "HTMLModel",
      "state": {
       "_model_module_version": "~2.1.4",
       "_view_module_version": "~2.1.4",
       "layout": "IPY_MODEL_ab8b81ba46864d879883b2eb475987b5",
       "value": "<h2>Taylor polynomial</h2>"
      }
     },
     "a621ab41ad514c52ba66a77eea9537f3": {
      "model_module": "jupyter-js-widgets",
      "model_module_version": "~2.1.4",
      "model_name": "VBoxModel",
      "state": {
       "_dom_classes": [
        "widget-interact"
       ],
       "_model_module_version": "~2.1.4",
       "_view_module_version": "~2.1.4",
       "children": [
        "IPY_MODEL_c6b132a506584cd69cdee6a9e08f7262",
        "IPY_MODEL_14d88f46493146bbad391eb543a4edb5",
        "IPY_MODEL_ff2842ce0b254315bd1980250f4457d9",
        "IPY_MODEL_574ce2ad31504bf49c9bc7609e236016",
        "IPY_MODEL_32c037b30d794afabdccdf4bdf8fa799",
        "IPY_MODEL_8491f1e5355c4477951bd42b415feb9c"
       ],
       "layout": "IPY_MODEL_130dd6895a7f404f85084da388b6bfa4"
      }
     },
     "a73f0c781e42464c908e540a6671314c": {
      "model_module": "jupyter-js-widgets",
      "model_module_version": "~2.1.4",
      "model_name": "LayoutModel",
      "state": {
       "_model_module_version": "~2.1.4",
       "_view_module_version": "~2.1.4"
      }
     },
     "a75e4081215649dba04941c574203576": {
      "model_module": "jupyter-js-widgets",
      "model_module_version": "~2.1.4",
      "model_name": "LayoutModel",
      "state": {
       "_model_module_version": "~2.1.4",
       "_view_module_version": "~2.1.4"
      }
     },
     "a7932dd78f194a3aa6c22dba7b2a95a1": {
      "model_module": "jupyter-js-widgets",
      "model_module_version": "~2.1.4",
      "model_name": "IntSliderModel",
      "state": {
       "_model_module_version": "~2.1.4",
       "_view_module_version": "~2.1.4",
       "description": "dpi",
       "layout": "IPY_MODEL_82680dfdeaca45d48c0cd2ed4f9f39bc",
       "max": 200,
       "min": 20,
       "step": 10,
       "style": "IPY_MODEL_90af107bf01d447b9878850c2ad2e20d",
       "value": 80
      }
     },
     "a8bdaf26d8cc4294a89377a8c938b45d": {
      "model_module": "jupyter-js-widgets",
      "model_module_version": "~2.1.4",
      "model_name": "IntSliderModel",
      "state": {
       "_model_module_version": "~2.1.4",
       "_view_module_version": "~2.1.4",
       "description": "c",
       "layout": "IPY_MODEL_64642508dd3f46c286bf7a71d80a2389",
       "max": 1,
       "style": "IPY_MODEL_d4cf4a34f2de4d348bce1ae1e12b743a"
      }
     },
     "a8c15dbb0c3a4b92ad69a943157aa021": {
      "model_module": "jupyter-js-widgets",
      "model_module_version": "~2.1.4",
      "model_name": "IntSliderModel",
      "state": {
       "_model_module_version": "~2.1.4",
       "_range": true,
       "_view_module_version": "~2.1.4",
       "description": "y-interval",
       "layout": "IPY_MODEL_c11009f960c244b9999548ffa41b1c75",
       "max": 50,
       "min": -50,
       "slider_color": null,
       "value": [
        -3,
        3
       ]
      }
     },
     "a91199fe25c94b2faf7c298e35870adb": {
      "model_module": "jupyter-js-widgets",
      "model_module_version": "~2.1.4",
      "model_name": "SliderStyleModel",
      "state": {
       "_model_module_version": "~2.1.4",
       "_view_module_version": "~2.1.4"
      }
     },
     "aa5e966c78764346943a43787a4b949a": {
      "model_module": "jupyter-js-widgets",
      "model_module_version": "~2.1.4",
      "model_name": "LayoutModel",
      "state": {
       "_model_module_version": "~2.1.4",
       "_view_module_version": "~2.1.4"
      }
     },
     "ab59d3e64669411ab1ff046d1cbbbb24": {
      "model_module": "jupyter-js-widgets",
      "model_module_version": "~2.1.4",
      "model_name": "DropdownModel",
      "state": {
       "_model_module_version": "~2.1.4",
       "_options_labels": [
        "sin(x)",
        "cos(x)",
        "tan(x)"
       ],
       "_view_module_version": "~2.1.4",
       "layout": "IPY_MODEL_1c26dca71e2242f68af9588fcf47f5a6",
       "value": "sin(x)"
      }
     },
     "ab8b81ba46864d879883b2eb475987b5": {
      "model_module": "jupyter-js-widgets",
      "model_module_version": "~2.1.4",
      "model_name": "LayoutModel",
      "state": {
       "_model_module_version": "~2.1.4",
       "_view_module_version": "~2.1.4"
      }
     },
     "ac01bb076b3e42a5a2e7af0f63dace23": {
      "model_module": "jupyter-js-widgets",
      "model_module_version": "~2.1.4",
      "model_name": "SliderStyleModel",
      "state": {
       "_model_module_version": "~2.1.4",
       "_view_module_version": "~2.1.4"
      }
     },
     "acd95247d5c74187becdd348369fcb6a": {
      "model_module": "jupyter-js-widgets",
      "model_module_version": "~2.1.4",
      "model_name": "LayoutModel",
      "state": {
       "_model_module_version": "~2.1.4",
       "_view_module_version": "~2.1.4"
      }
     },
     "ad6c3f101fab478fbd5514ae079c35d9": {
      "model_module": "jupyter-js-widgets",
      "model_module_version": "~2.1.4",
      "model_name": "OutputModel",
      "state": {
       "_dom_classes": [],
       "_model_module": "jupyter-js-widgets",
       "_model_module_version": "~2.1.4",
       "_view_module": "jupyter-js-widgets",
       "_view_module_version": "~2.1.4",
       "layout": "IPY_MODEL_93fec206f1b64db9bfb017d0370e8660",
       "msg_throttle": 1
      }
     },
     "af07ea1d18ea40d6bda6c7c6d038b69b": {
      "model_module": "jupyter-js-widgets",
      "model_module_version": "~2.1.4",
      "model_name": "LayoutModel",
      "state": {
       "_model_module_version": "~2.1.4",
       "_view_module_version": "~2.1.4"
      }
     },
     "afbd5fd340de4c058cf1717c72ceb591": {
      "model_module": "jupyter-js-widgets",
      "model_module_version": "~2.1.4",
      "model_name": "IntSliderModel",
      "state": {
       "_model_module_version": "~2.1.4",
       "_range": true,
       "_view_module_version": "~2.1.4",
       "description": "x-range",
       "layout": "IPY_MODEL_dca1a36c34ea477da272c36539c21bd2",
       "max": 3,
       "min": -3,
       "slider_color": null,
       "value": [
        0,
        1
       ]
      }
     },
     "b00aa6fdaf504b899b4bd191612e0674": {
      "model_module": "jupyter-js-widgets",
      "model_module_version": "~2.1.4",
      "model_name": "SliderStyleModel",
      "state": {
       "_model_module_version": "~2.1.4",
       "_view_module_version": "~2.1.4"
      }
     },
     "b0830a0e5a8c4a058e0fa7207ced484e": {
      "model_module": "jupyter-js-widgets",
      "model_module_version": "~2.1.4",
      "model_name": "SliderStyleModel",
      "state": {
       "_model_module_version": "~2.1.4",
       "_view_module_version": "~2.1.4"
      }
     },
     "b2af5bc440ab456a99aac83f8b1daa67": {
      "model_module": "jupyter-js-widgets",
      "model_module_version": "~2.1.4",
      "model_name": "LayoutModel",
      "state": {
       "_model_module_version": "~2.1.4",
       "_view_module_version": "~2.1.4"
      }
     },
     "b2af89463c43439e9898defe04df70f1": {
      "model_module": "jupyter-js-widgets",
      "model_module_version": "~2.1.4",
      "model_name": "HTMLModel",
      "state": {
       "_model_module_version": "~2.1.4",
       "_view_module_version": "~2.1.4",
       "layout": "IPY_MODEL_3b482f9119e64833ab536a4e616b3e60",
       "value": "<h2>Special points in triangle</h2>"
      }
     },
     "b2ed3d9fe499490fba1677e8c625003c": {
      "model_module": "jupyter-js-widgets",
      "model_module_version": "~2.1.4",
      "model_name": "ToggleButtonsModel",
      "state": {
       "_model_module_version": "~2.1.4",
       "_options_labels": [
        "from slider",
        "from keyboard"
       ],
       "_view_module_version": "~2.1.4",
       "button_style": "",
       "description": "Integration interval",
       "icons": [],
       "layout": "IPY_MODEL_d02a52387ba84806a302cfdb8c7c4d3e",
       "tooltips": [],
       "value": "from slider"
      }
     },
     "b3dcfdc7c5ce4f408d01cdf821c41f0b": {
      "model_module": "jupyter-js-widgets",
      "model_module_version": "~2.1.4",
      "model_name": "LayoutModel",
      "state": {
       "_model_module_version": "~2.1.4",
       "_view_module_version": "~2.1.4"
      }
     },
     "b4e768b6fe0f4a60ad258f9748bcdff3": {
      "model_module": "jupyter-js-widgets",
      "model_module_version": "~2.1.4",
      "model_name": "LayoutModel",
      "state": {
       "_model_module_version": "~2.1.4",
       "_view_module_version": "~2.1.4"
      }
     },
     "b51a4d9c416341a6915996c26e64dc09": {
      "model_module": "jupyter-js-widgets",
      "model_module_version": "~2.1.4",
      "model_name": "LayoutModel",
      "state": {
       "_model_module_version": "~2.1.4",
       "_view_module_version": "~2.1.4"
      }
     },
     "b5b44de512a34eb0a5ec1215ebaee39c": {
      "model_module": "jupyter-js-widgets",
      "model_module_version": "~2.1.4",
      "model_name": "TextModel",
      "state": {
       "_model_module_version": "~2.1.4",
       "_view_module_version": "~2.1.4",
       "description": "$g(x)=$",
       "layout": "IPY_MODEL_2548dae1de1944189f8a7e701dc48759",
       "value": "x^2"
      }
     },
     "b8020d7c8b304b13b4bd48bf08aaafe4": {
      "model_module": "jupyter-js-widgets",
      "model_module_version": "~2.1.4",
      "model_name": "LayoutModel",
      "state": {
       "_model_module_version": "~2.1.4",
       "_view_module_version": "~2.1.4"
      }
     },
     "b99e1229cf694c7e99b85c223b88686a": {
      "model_module": "jupyter-js-widgets",
      "model_module_version": "~2.1.4",
      "model_name": "LayoutModel",
      "state": {
       "_model_module_version": "~2.1.4",
       "_view_module_version": "~2.1.4"
      }
     },
     "b9a5712f2f3d48bfbfac6e2823fdff35": {
      "model_module": "jupyter-js-widgets",
      "model_module_version": "~2.1.4",
      "model_name": "HTMLModel",
      "state": {
       "_model_module_version": "~2.1.4",
       "_view_module_version": "~2.1.4",
       "layout": "IPY_MODEL_8c71abd92ef34f959e4ecf30c814ffc1",
       "value": "<h2>Newton method</h2>"
      }
     },
     "babed8366d234d91b9e8f1c51b4fb62a": {
      "model_module": "jupyter-js-widgets",
      "model_module_version": "~2.1.4",
      "model_name": "SliderStyleModel",
      "state": {
       "_model_module_version": "~2.1.4",
       "_view_module_version": "~2.1.4"
      }
     },
     "bb705e94a47e45d4b70dc3dc99f94122": {
      "model_module": "jupyter-js-widgets",
      "model_module_version": "~2.1.4",
      "model_name": "LayoutModel",
      "state": {
       "_model_module_version": "~2.1.4",
       "_view_module_version": "~2.1.4"
      }
     },
     "bc7dcbd19df14e68bea6a488d402c172": {
      "model_module": "jupyter-js-widgets",
      "model_module_version": "~2.1.4",
      "model_name": "SliderStyleModel",
      "state": {
       "_model_module_version": "~2.1.4",
       "_view_module_version": "~2.1.4"
      }
     },
     "bd8897d27e894ccfbc8b81d16c2bc96a": {
      "model_module": "jupyter-js-widgets",
      "model_module_version": "~2.1.4",
      "model_name": "TextModel",
      "state": {
       "_model_module_version": "~2.1.4",
       "_view_module_version": "~2.1.4",
       "layout": "IPY_MODEL_5cc34d15e1f1447384057b04b1d72a97",
       "value": "0"
      }
     },
     "bdb71b4875d349b7939814758dee7eb6": {
      "model_module": "jupyter-js-widgets",
      "model_module_version": "~2.1.4",
      "model_name": "LayoutModel",
      "state": {
       "_model_module_version": "~2.1.4",
       "_view_module_version": "~2.1.4"
      }
     },
     "bdb939147add4fde97cf6071273c9f2f": {
      "model_module": "jupyter-js-widgets",
      "model_module_version": "~2.1.4",
      "model_name": "SelectionSliderModel",
      "state": {
       "_model_module_version": "~2.1.4",
       "_view_module_version": "~2.1.4",
       "description": "n",
       "layout": "IPY_MODEL_b2af5bc440ab456a99aac83f8b1daa67"
      }
     },
     "bed4faa8295e442c97be6de04af5f329": {
      "model_module": "jupyter-js-widgets",
      "model_module_version": "~2.1.4",
      "model_name": "VBoxModel",
      "state": {
       "_model_module_version": "~2.1.4",
       "_view_module_version": "~2.1.4",
       "children": [
        "IPY_MODEL_bd8897d27e894ccfbc8b81d16c2bc96a"
       ],
       "layout": "IPY_MODEL_5fa2b27d414042a8a04fcd72cf0f83fc"
      }
     },
     "bef5b5b94e164068a0edf2576a7ce785": {
      "model_module": "jupyter-js-widgets",
      "model_module_version": "~2.1.4",
      "model_name": "LayoutModel",
      "state": {
       "_model_module_version": "~2.1.4",
       "_view_module_version": "~2.1.4"
      }
     },
     "c11009f960c244b9999548ffa41b1c75": {
      "model_module": "jupyter-js-widgets",
      "model_module_version": "~2.1.4",
      "model_name": "LayoutModel",
      "state": {
       "_model_module_version": "~2.1.4",
       "_view_module_version": "~2.1.4"
      }
     },
     "c2d6b5695cbc4d799aa325e3d856f57c": {
      "model_module": "jupyter-js-widgets",
      "model_module_version": "~2.1.4",
      "model_name": "LayoutModel",
      "state": {
       "_model_module_version": "~2.1.4",
       "_view_module_version": "~2.1.4"
      }
     },
     "c314964c3c9a499bba4689150c6ad9b2": {
      "model_module": "jupyter-js-widgets",
      "model_module_version": "~2.1.4",
      "model_name": "SliderStyleModel",
      "state": {
       "_model_module_version": "~2.1.4",
       "_view_module_version": "~2.1.4"
      }
     },
     "c499c1a942754b3ea5b4c62e252e9a54": {
      "model_module": "jupyter-js-widgets",
      "model_module_version": "~2.1.4",
      "model_name": "SliderStyleModel",
      "state": {
       "_model_module_version": "~2.1.4",
       "_view_module_version": "~2.1.4"
      }
     },
     "c5e4b383ff5c4ae0b3f51838baa08a0f": {
      "model_module": "jupyter-js-widgets",
      "model_module_version": "~2.1.4",
      "model_name": "LayoutModel",
      "state": {
       "_model_module_version": "~2.1.4",
       "_view_module_version": "~2.1.4"
      }
     },
     "c6b132a506584cd69cdee6a9e08f7262": {
      "model_module": "jupyter-js-widgets",
      "model_module_version": "~2.1.4",
      "model_name": "HTMLModel",
      "state": {
       "_model_module_version": "~2.1.4",
       "_view_module_version": "~2.1.4",
       "layout": "IPY_MODEL_b99e1229cf694c7e99b85c223b88686a",
       "value": "<h2>Bisection method</h2>"
      }
     },
     "c83dab47400540c8a3cd16e31d944b80": {
      "model_module": "jupyter-js-widgets",
      "model_module_version": "~2.1.4",
      "model_name": "IntSliderModel",
      "state": {
       "_model_module_version": "~2.1.4",
       "_view_module_version": "~2.1.4",
       "description": "B",
       "layout": "IPY_MODEL_35dbbb1935f54e96ae9f757c245e0e46",
       "max": 360,
       "style": "IPY_MODEL_0d114f3804304bb99dbb09756b7ad454",
       "value": 180
      }
     },
     "c86c3ff99bdb4ba08399121343673748": {
      "model_module": "jupyter-js-widgets",
      "model_module_version": "~2.1.4",
      "model_name": "VBoxModel",
      "state": {
       "_dom_classes": [
        "widget-interact"
       ],
       "_model_module_version": "~2.1.4",
       "_view_module_version": "~2.1.4",
       "children": [
        "IPY_MODEL_c6b132a506584cd69cdee6a9e08f7262",
        "IPY_MODEL_14d88f46493146bbad391eb543a4edb5",
        "IPY_MODEL_ff2842ce0b254315bd1980250f4457d9",
        "IPY_MODEL_574ce2ad31504bf49c9bc7609e236016",
        "IPY_MODEL_32c037b30d794afabdccdf4bdf8fa799",
        "IPY_MODEL_656ead539d13413fa3f6c3538e075f61"
       ],
       "layout": "IPY_MODEL_312c88f55fe64cd1b85ef31e310cec2f"
      }
     },
     "c90bef36d59246b199a1ecc207fcaad4": {
      "model_module": "jupyter-js-widgets",
      "model_module_version": "~2.1.4",
      "model_name": "CheckboxModel",
      "state": {
       "_model_module_version": "~2.1.4",
       "_view_module_version": "~2.1.4",
       "description": "Medians",
       "disabled": false,
       "layout": "IPY_MODEL_b8020d7c8b304b13b4bd48bf08aaafe4",
       "value": false
      }
     },
     "c94bf0fb26c34616860908ce115a8938": {
      "model_module": "jupyter-js-widgets",
      "model_module_version": "~2.1.4",
      "model_name": "IntSliderModel",
      "state": {
       "_model_module_version": "~2.1.4",
       "_view_module_version": "~2.1.4",
       "layout": "IPY_MODEL_6615ac9b597c4e25b4fec69745745905",
       "max": 7,
       "min": -7,
       "style": "IPY_MODEL_ac01bb076b3e42a5a2e7af0f63dace23",
       "value": 1
      }
     },
     "c95cbff65f1349a5b7224fa0179874a3": {
      "model_module": "jupyter-js-widgets",
      "model_module_version": "~2.1.4",
      "model_name": "ToggleButtonsModel",
      "state": {
       "_model_module_version": "~2.1.4",
       "_options_labels": [
        "from slider",
        "from keyboard"
       ],
       "_view_module_version": "~2.1.4",
       "button_style": "",
       "description": "Integration interval",
       "icons": [],
       "layout": "IPY_MODEL_3b908fd49a5f403d98c8b0fbf6d74a87",
       "tooltips": [],
       "value": "from slider"
      }
     },
     "ca47a078e06c4718a05da8bd60f5e4a2": {
      "model_module": "jupyter-js-widgets",
      "model_module_version": "~2.1.4",
      "model_name": "LayoutModel",
      "state": {
       "_model_module_version": "~2.1.4",
       "_view_module_version": "~2.1.4"
      }
     },
     "ca4a2c42f5f947c394ea49ae080c31b8": {
      "model_module": "jupyter-js-widgets",
      "model_module_version": "~2.1.4",
      "model_name": "LayoutModel",
      "state": {
       "_model_module_version": "~2.1.4",
       "_view_module_version": "~2.1.4"
      }
     },
     "ca5e8ff12ae9493cb5b6d6c75c5be22f": {
      "model_module": "jupyter-js-widgets",
      "model_module_version": "~2.1.4",
      "model_name": "LayoutModel",
      "state": {
       "_model_module_version": "~2.1.4",
       "_view_module_version": "~2.1.4"
      }
     },
     "caf0848849eb48ab8e2616b96e6bf497": {
      "model_module": "jupyter-js-widgets",
      "model_module_version": "~2.1.4",
      "model_name": "LayoutModel",
      "state": {
       "_model_module_version": "~2.1.4",
       "_view_module_version": "~2.1.4"
      }
     },
     "cb5c15dd252b4f39bbcf0ad1724204c7": {
      "model_module": "jupyter-js-widgets",
      "model_module_version": "~2.1.4",
      "model_name": "LayoutModel",
      "state": {
       "_model_module_version": "~2.1.4",
       "_view_module_version": "~2.1.4"
      }
     },
     "cbbc2319ee344df99f2c7aa7444a8372": {
      "model_module": "jupyter-js-widgets",
      "model_module_version": "~2.1.4",
      "model_name": "TextModel",
      "state": {
       "_model_module_version": "~2.1.4",
       "_view_module_version": "~2.1.4",
       "description": "f",
       "layout": "IPY_MODEL_8c2e5b27446349c38f075002053a6707",
       "value": "sin(x)"
      }
     },
     "cc0f8fe6f7284cf3bb9147e35a28a9c1": {
      "model_module": "jupyter-js-widgets",
      "model_module_version": "~2.1.4",
      "model_name": "LayoutModel",
      "state": {
       "_model_module_version": "~2.1.4",
       "_view_module_version": "~2.1.4"
      }
     },
     "cc8d2cdc67f74735825d29bd83c7486d": {
      "model_module": "jupyter-js-widgets",
      "model_module_version": "~2.1.4",
      "model_name": "IntSliderModel",
      "state": {
       "_model_module_version": "~2.1.4",
       "_view_module_version": "~2.1.4",
       "description": "dpi",
       "layout": "IPY_MODEL_b4e768b6fe0f4a60ad258f9748bcdff3",
       "max": 300,
       "min": 10,
       "step": 10,
       "style": "IPY_MODEL_b00aa6fdaf504b899b4bd191612e0674",
       "value": 100
      }
     },
     "cccefc8541e04239aa25208f451d97f7": {
      "model_module": "jupyter-js-widgets",
      "model_module_version": "~2.1.4",
      "model_name": "LayoutModel",
      "state": {
       "_model_module_version": "~2.1.4",
       "_view_module_version": "~2.1.4"
      }
     },
     "cd168fc68525415685abb2f5d7697d3a": {
      "model_module": "jupyter-js-widgets",
      "model_module_version": "~2.1.4",
      "model_name": "CheckboxModel",
      "state": {
       "_model_module_version": "~2.1.4",
       "_view_module_version": "~2.1.4",
       "description": "List table",
       "disabled": false,
       "layout": "IPY_MODEL_8d4ee2a80ef346349879f081976f3b73",
       "value": false
      }
     },
     "cd3483323abd435692465d1ba1ba4628": {
      "model_module": "jupyter-js-widgets",
      "model_module_version": "~2.1.4",
      "model_name": "HTMLModel",
      "state": {
       "_model_module_version": "~2.1.4",
       "_view_module_version": "~2.1.4",
       "layout": "IPY_MODEL_546d470babf64b41971c5d8b372e675f",
       "value": "<h2>Trapezoid integration</h2>"
      }
     },
     "cd688bdf842d46e58446fa9551055f42": {
      "model_module": "jupyter-js-widgets",
      "model_module_version": "~2.1.4",
      "model_name": "SliderStyleModel",
      "state": {
       "_model_module_version": "~2.1.4",
       "_view_module_version": "~2.1.4"
      }
     },
     "ce1289d5667249498b0a8305cdfe2c7f": {
      "model_module": "jupyter-js-widgets",
      "model_module_version": "~2.1.4",
      "model_name": "LayoutModel",
      "state": {
       "_model_module_version": "~2.1.4",
       "_view_module_version": "~2.1.4"
      }
     },
     "cef7d58b8e064ceca24c7769fe8a1e62": {
      "model_module": "jupyter-js-widgets",
      "model_module_version": "~2.1.4",
      "model_name": "LayoutModel",
      "state": {
       "_model_module_version": "~2.1.4",
       "_view_module_version": "~2.1.4"
      }
     },
     "cf59b7f843404f91927b14da4b0bb782": {
      "model_module": "jupyter-js-widgets",
      "model_module_version": "~2.1.4",
      "model_name": "HTMLModel",
      "state": {
       "_model_module_version": "~2.1.4",
       "_view_module_version": "~2.1.4",
       "layout": "IPY_MODEL_640312e0fc4140f0bdcf01601db496ac",
       "value": "<h2>Difference quotient</h2>"
      }
     },
     "d02a52387ba84806a302cfdb8c7c4d3e": {
      "model_module": "jupyter-js-widgets",
      "model_module_version": "~2.1.4",
      "model_name": "LayoutModel",
      "state": {
       "_model_module_version": "~2.1.4",
       "_view_module_version": "~2.1.4"
      }
     },
     "d02c87951526475a8aa7226503643293": {
      "model_module": "jupyter-js-widgets",
      "model_module_version": "~2.1.4",
      "model_name": "FloatSliderModel",
      "state": {
       "_model_module_version": "~2.1.4",
       "_view_module_version": "~2.1.4",
       "description": "imag part const.",
       "layout": "IPY_MODEL_ca5e8ff12ae9493cb5b6d6c75c5be22f",
       "max": 2,
       "min": -2,
       "step": 0.01,
       "value": 0.5
      }
     },
     "d1d0f6f1aca44a8a865c9c29a0401e04": {
      "model_module": "jupyter-js-widgets",
      "model_module_version": "~2.1.4",
      "model_name": "IntSliderModel",
      "state": {
       "_model_module_version": "~2.1.4",
       "_view_module_version": "~2.1.4",
       "description": "dpi",
       "layout": "IPY_MODEL_e5df38b034e545df8d904a8814165c20",
       "max": 200,
       "min": 20,
       "step": 10,
       "style": "IPY_MODEL_0e9802e33a9a4cf59c96a42421c47086",
       "value": 80
      }
     },
     "d2ad9abc2b5e4890a8e7bf36ba6cb0f9": {
      "model_module": "jupyter-js-widgets",
      "model_module_version": "~2.1.4",
      "model_name": "LayoutModel",
      "state": {
       "_model_module_version": "~2.1.4",
       "_view_module_version": "~2.1.4"
      }
     },
     "d2af5f824a88475ba760df00a6938ecd": {
      "model_module": "jupyter-js-widgets",
      "model_module_version": "~2.1.4",
      "model_name": "IntSliderModel",
      "state": {
       "_model_module_version": "~2.1.4",
       "_range": true,
       "_view_module_version": "~2.1.4",
       "description": "x-intervalxyf",
       "layout": "IPY_MODEL_0b9c7f4913ad4076af633e3088972b57",
       "max": 10,
       "min": -10,
       "slider_color": null,
       "value": [
        -8,
        8
       ]
      }
     },
     "d472b568079b47f3a99b0a2c4cf80102": {
      "model_module": "jupyter-js-widgets",
      "model_module_version": "~2.1.4",
      "model_name": "LayoutModel",
      "state": {
       "_model_module_version": "~2.1.4",
       "_view_module_version": "~2.1.4"
      }
     },
     "d4cf4a34f2de4d348bce1ae1e12b743a": {
      "model_module": "jupyter-js-widgets",
      "model_module_version": "~2.1.4",
      "model_name": "SliderStyleModel",
      "state": {
       "_model_module_version": "~2.1.4",
       "_view_module_version": "~2.1.4"
      }
     },
     "d505ec7853c34079ae44764e0cc18b79": {
      "model_module": "jupyter-js-widgets",
      "model_module_version": "~2.1.4",
      "model_name": "TextModel",
      "state": {
       "_model_module_version": "~2.1.4",
       "_view_module_version": "~2.1.4",
       "layout": "IPY_MODEL_16ff880ad9b04ed49231724d6736bc5a",
       "value": "x^2 - 2"
      }
     },
     "d6cd4d6c7aa34dae886c2418f205c76d": {
      "model_module": "jupyter-js-widgets",
      "model_module_version": "~2.1.4",
      "model_name": "LayoutModel",
      "state": {
       "_model_module_version": "~2.1.4",
       "_view_module_version": "~2.1.4"
      }
     },
     "d7c486ee0f444a89abf88ee82844e381": {
      "model_module": "jupyter-js-widgets",
      "model_module_version": "~2.1.4",
      "model_name": "IntSliderModel",
      "state": {
       "_model_module_version": "~2.1.4",
       "_view_module_version": "~2.1.4",
       "description": "max iterations",
       "layout": "IPY_MODEL_f8d6eeb34dd0447992c6b5ee3aa84681",
       "max": 15,
       "style": "IPY_MODEL_911db422661e48af887abe3f9a296af3",
       "value": 10
      }
     },
     "d872a165bb0f4020a7a5b3006e8da569": {
      "model_module": "jupyter-js-widgets",
      "model_module_version": "~2.1.4",
      "model_name": "SliderStyleModel",
      "state": {
       "_model_module_version": "~2.1.4",
       "_view_module_version": "~2.1.4"
      }
     },
     "d88e8c460e0f44ffb14e5981ca4b9223": {
      "model_module": "jupyter-js-widgets",
      "model_module_version": "~2.1.4",
      "model_name": "LayoutModel",
      "state": {
       "_model_module_version": "~2.1.4",
       "_view_module_version": "~2.1.4"
      }
     },
     "d9c972b2be4548b19381229a5a34068a": {
      "model_module": "jupyter-js-widgets",
      "model_module_version": "~2.1.4",
      "model_name": "LayoutModel",
      "state": {
       "_model_module_version": "~2.1.4",
       "_view_module_version": "~2.1.4"
      }
     },
     "d9eec3754fc446db8c73eb103a1d183a": {
      "model_module": "jupyter-js-widgets",
      "model_module_version": "~2.1.4",
      "model_name": "LayoutModel",
      "state": {
       "_model_module_version": "~2.1.4",
       "_view_module_version": "~2.1.4"
      }
     },
     "db15328b1de84e6a9b26d095a7e2b4b0": {
      "model_module": "jupyter-js-widgets",
      "model_module_version": "~2.1.4",
      "model_name": "CheckboxModel",
      "state": {
       "_model_module_version": "~2.1.4",
       "_view_module_version": "~2.1.4",
       "description": "Angle Bisectors",
       "disabled": false,
       "layout": "IPY_MODEL_902c3fbc93fc489982f581f8c669019b",
       "value": false
      }
     },
     "dc27ee661f8143089e9ee3ea44586712": {
      "model_module": "jupyter-js-widgets",
      "model_module_version": "~2.1.4",
      "model_name": "SliderStyleModel",
      "state": {
       "_model_module_version": "~2.1.4",
       "_view_module_version": "~2.1.4"
      }
     },
     "dca1a36c34ea477da272c36539c21bd2": {
      "model_module": "jupyter-js-widgets",
      "model_module_version": "~2.1.4",
      "model_name": "LayoutModel",
      "state": {
       "_model_module_version": "~2.1.4",
       "_view_module_version": "~2.1.4"
      }
     },
     "dd93edc71222495dae00a3d3cac8277a": {
      "model_module": "jupyter-js-widgets",
      "model_module_version": "~2.1.4",
      "model_name": "LayoutModel",
      "state": {
       "_model_module_version": "~2.1.4",
       "_view_module_version": "~2.1.4"
      }
     },
     "de4cfdb548074d31a7b54f12e62c8b0f": {
      "model_module": "jupyter-js-widgets",
      "model_module_version": "~2.1.4",
      "model_name": "LayoutModel",
      "state": {
       "_model_module_version": "~2.1.4",
       "_view_module_version": "~2.1.4"
      }
     },
     "df0e1c49daa94f88b6e673973acd515c": {
      "model_module": "jupyter-js-widgets",
      "model_module_version": "~2.1.4",
      "model_name": "SliderStyleModel",
      "state": {
       "_model_module_version": "~2.1.4",
       "_view_module_version": "~2.1.4"
      }
     },
     "e07dc7f302a9494f930f1208302ea025": {
      "model_module": "jupyter-js-widgets",
      "model_module_version": "~2.1.4",
      "model_name": "LayoutModel",
      "state": {
       "_model_module_version": "~2.1.4",
       "_view_module_version": "~2.1.4"
      }
     },
     "e0b8fea2acdc4d5894ec9b5d715f068a": {
      "model_module": "jupyter-js-widgets",
      "model_module_version": "~2.1.4",
      "model_name": "FloatSliderModel",
      "state": {
       "_model_module_version": "~2.1.4",
       "_range": true,
       "_view_module_version": "~2.1.4",
       "description": "Range (x)",
       "layout": "IPY_MODEL_0afb2c716c504bb09bca8f44d32f269e",
       "max": 15,
       "min": -15,
       "step": 0.1,
       "value": [
        -2,
        2
       ]
      }
     },
     "e109de624af147dda600ef5674c29436": {
      "model_module": "jupyter-js-widgets",
      "model_module_version": "~2.1.4",
      "model_name": "LayoutModel",
      "state": {
       "_model_module_version": "~2.1.4",
       "_view_module_version": "~2.1.4"
      }
     },
     "e29b1267c73e4a73bc939db09c61c14e": {
      "model_module": "jupyter-js-widgets",
      "model_module_version": "~2.1.4",
      "model_name": "HTMLModel",
      "state": {
       "_model_module_version": "~2.1.4",
       "_view_module_version": "~2.1.4",
       "layout": "IPY_MODEL_29731ec18fae4f2481f93d29330515ef",
       "value": "<hr>"
      }
     },
     "e34a79ffbbb748fc95ba4f70bc0863fa": {
      "model_module": "jupyter-js-widgets",
      "model_module_version": "~2.1.4",
      "model_name": "LayoutModel",
      "state": {
       "_model_module_version": "~2.1.4",
       "_view_module_version": "~2.1.4"
      }
     },
     "e4ca2915dfff42c5984f9e37ddbc3a62": {
      "model_module": "jupyter-js-widgets",
      "model_module_version": "~2.1.4",
      "model_name": "SliderStyleModel",
      "state": {
       "_model_module_version": "~2.1.4",
       "_view_module_version": "~2.1.4"
      }
     },
     "e5c908dd04df4680a637e46f82033e02": {
      "model_module": "jupyter-js-widgets",
      "model_module_version": "~2.1.4",
      "model_name": "LayoutModel",
      "state": {
       "_model_module_version": "~2.1.4",
       "_view_module_version": "~2.1.4"
      }
     },
     "e5df38b034e545df8d904a8814165c20": {
      "model_module": "jupyter-js-widgets",
      "model_module_version": "~2.1.4",
      "model_name": "LayoutModel",
      "state": {
       "_model_module_version": "~2.1.4",
       "_view_module_version": "~2.1.4"
      }
     },
     "e9ec9019426e4dd98888826b3730251c": {
      "model_module": "jupyter-js-widgets",
      "model_module_version": "~2.1.4",
      "model_name": "IntSliderModel",
      "state": {
       "_model_module_version": "~2.1.4",
       "_view_module_version": "~2.1.4",
       "layout": "IPY_MODEL_781d289c6d7e4ea989083f78fc01a0b4",
       "max": 7,
       "min": -7,
       "style": "IPY_MODEL_23129babc4aa4c9b9ca70a2763a36d76",
       "value": -2
      }
     },
     "ea9489151d794b5b9f9412ce372cd5b3": {
      "model_module": "jupyter-js-widgets",
      "model_module_version": "~2.1.4",
      "model_name": "LayoutModel",
      "state": {
       "_model_module_version": "~2.1.4",
       "_view_module_version": "~2.1.4"
      }
     },
     "edae22c05e9a4910bdf48e6722d186e8": {
      "model_module": "jupyter-js-widgets",
      "model_module_version": "~2.1.4",
      "model_name": "TextModel",
      "state": {
       "_model_module_version": "~2.1.4",
       "_view_module_version": "~2.1.4",
       "description": "f(x)",
       "layout": "IPY_MODEL_984bbbfe3bf343f191ca98a845c1cbab",
       "value": "sin(x)"
      }
     },
     "edae65bd8500446faad7db7fefd70f74": {
      "model_module": "jupyter-js-widgets",
      "model_module_version": "~2.1.4",
      "model_name": "IntSliderModel",
      "state": {
       "_model_module_version": "~2.1.4",
       "_range": true,
       "_view_module_version": "~2.1.4",
       "description": "plot range (x)",
       "layout": "IPY_MODEL_48a8d791e98544eab57be4168437632e",
       "max": 10,
       "min": -10,
       "slider_color": null,
       "value": [
        0,
        3
       ]
      }
     },
     "f00376975d024d768727563272fd88a5": {
      "model_module": "jupyter-js-widgets",
      "model_module_version": "~2.1.4",
      "model_name": "IntSliderModel",
      "state": {
       "_model_module_version": "~2.1.4",
       "_view_module_version": "~2.1.4",
       "description": "$10^{-d}$ precision",
       "layout": "IPY_MODEL_4fb8729c87b2443fbd2917910ec00689",
       "max": 16,
       "min": 1,
       "style": "IPY_MODEL_2bd0f590040741b0bdc7fb5526ea89a5",
       "value": 3
      }
     },
     "f0372fd6d55c4ad1aea4dfeae405623e": {
      "model_module": "jupyter-js-widgets",
      "model_module_version": "~2.1.4",
      "model_name": "SliderStyleModel",
      "state": {
       "_model_module_version": "~2.1.4",
       "_view_module_version": "~2.1.4"
      }
     },
     "f05e2b42e7e94377b122f77fb16d0df9": {
      "model_module": "jupyter-js-widgets",
      "model_module_version": "~2.1.4",
      "model_name": "SliderStyleModel",
      "state": {
       "_model_module_version": "~2.1.4",
       "_view_module_version": "~2.1.4"
      }
     },
     "f211ccc50070466bb1abee072cba9cf8": {
      "model_module": "jupyter-js-widgets",
      "model_module_version": "~2.1.4",
      "model_name": "LayoutModel",
      "state": {
       "_model_module_version": "~2.1.4",
       "_view_module_version": "~2.1.4"
      }
     },
     "f2c21bd41b0a4c7d943a4727d5c36212": {
      "model_module": "jupyter-js-widgets",
      "model_module_version": "~2.1.4",
      "model_name": "IntSliderModel",
      "state": {
       "_model_module_version": "~2.1.4",
       "_view_module_version": "~2.1.4",
       "description": "c",
       "layout": "IPY_MODEL_51286935d97941918223064453b47cf9",
       "max": 1,
       "style": "IPY_MODEL_a20385d677aa46afaa480fb00d3246e2"
      }
     },
     "f3bd5e7600b242b5aaf8c5482134c2eb": {
      "model_module": "jupyter-js-widgets",
      "model_module_version": "~2.1.4",
      "model_name": "IntSliderModel",
      "state": {
       "_model_module_version": "~2.1.4",
       "_view_module_version": "~2.1.4",
       "description": "c",
       "layout": "IPY_MODEL_7f6f54a438b2433e951e25db4cce0391",
       "max": 1,
       "style": "IPY_MODEL_8b73e60c1bc0403eb706a079c2293545",
       "value": 1
      }
     },
     "f4bbe335acd54ca7ba5b135338831372": {
      "model_module": "jupyter-js-widgets",
      "model_module_version": "~2.1.4",
      "model_name": "LayoutModel",
      "state": {
       "_model_module_version": "~2.1.4",
       "_view_module_version": "~2.1.4"
      }
     },
     "f66cad67d40d4fb6b7ed04c039b30314": {
      "model_module": "jupyter-js-widgets",
      "model_module_version": "~2.1.4",
      "model_name": "ToggleButtonsModel",
      "state": {
       "_model_module_version": "~2.1.4",
       "_options_labels": [
        "traditional",
        "table",
        "none"
       ],
       "_view_module_version": "~2.1.4",
       "button_style": "",
       "description": "Computations form",
       "icons": [],
       "layout": "IPY_MODEL_8e227d81861643749e6e24b89dfe1708",
       "tooltips": [],
       "value": "traditional"
      }
     },
     "f8d6eeb34dd0447992c6b5ee3aa84681": {
      "model_module": "jupyter-js-widgets",
      "model_module_version": "~2.1.4",
      "model_name": "LayoutModel",
      "state": {
       "_model_module_version": "~2.1.4",
       "_view_module_version": "~2.1.4"
      }
     },
     "f9ac138f492246dca99f090cd0c0fefc": {
      "model_module": "jupyter-js-widgets",
      "model_module_version": "~2.1.4",
      "model_name": "IntSliderModel",
      "state": {
       "_model_module_version": "~2.1.4",
       "_range": true,
       "_view_module_version": "~2.1.4",
       "description": "slider: ",
       "layout": "IPY_MODEL_d6cd4d6c7aa34dae886c2418f205c76d",
       "max": 10,
       "min": -5,
       "slider_color": null,
       "value": [
        0,
        2
       ]
      }
     },
     "fa3a789c94c24db5802f28b46dcfd410": {
      "model_module": "jupyter-js-widgets",
      "model_module_version": "~2.1.4",
      "model_name": "SliderStyleModel",
      "state": {
       "_model_module_version": "~2.1.4",
       "_view_module_version": "~2.1.4"
      }
     },
     "faeddd869e0a44dc864d47dfe973d285": {
      "model_module": "jupyter-js-widgets",
      "model_module_version": "~2.1.4",
      "model_name": "LayoutModel",
      "state": {
       "_model_module_version": "~2.1.4",
       "_view_module_version": "~2.1.4",
       "max_width": "41em"
      }
     },
     "fb3a51d9cc60421fac1428199f34f903": {
      "model_module": "jupyter-js-widgets",
      "model_module_version": "~2.1.4",
      "model_name": "SliderStyleModel",
      "state": {
       "_model_module_version": "~2.1.4",
       "_view_module_version": "~2.1.4"
      }
     },
     "fc6d533b916a4233b8e7dee4659357c4": {
      "model_module": "jupyter-js-widgets",
      "model_module_version": "~2.1.4",
      "model_name": "ToggleButtonsModel",
      "state": {
       "_model_module_version": "~2.1.4",
       "_options_labels": [
        "from slider",
        "from keyboard"
       ],
       "_view_module_version": "~2.1.4",
       "button_style": "",
       "description": "Integration interval",
       "icons": [],
       "layout": "IPY_MODEL_5422aa56b8954dc097fd8f9c9c970506",
       "tooltips": [],
       "value": "from slider"
      }
     },
     "fca4b0ec8c8a4d569212c633671d1f81": {
      "model_module": "jupyter-js-widgets",
      "model_module_version": "~2.1.4",
      "model_name": "HTMLModel",
      "state": {
       "_model_module_version": "~2.1.4",
       "_view_module_version": "~2.1.4",
       "layout": "IPY_MODEL_bef5b5b94e164068a0edf2576a7ce785",
       "value": "<h2>Simpson integration</h2>"
      }
     },
     "fcbcd05fa8d648d1adba0840d303d926": {
      "model_module": "jupyter-js-widgets",
      "model_module_version": "~2.1.4",
      "model_name": "SliderStyleModel",
      "state": {
       "_model_module_version": "~2.1.4",
       "_view_module_version": "~2.1.4"
      }
     },
     "fd4838961c834cf0b34d498f55d5c418": {
      "model_module": "jupyter-js-widgets",
      "model_module_version": "~2.1.4",
      "model_name": "HBoxModel",
      "state": {
       "_model_module_version": "~2.1.4",
       "_view_module_version": "~2.1.4",
       "children": [
        "IPY_MODEL_278f2f56a5af481fbcedd42bf13a973c",
        "IPY_MODEL_7f806ef728234eef957141c909fdf3e2",
        "IPY_MODEL_6ec5b3d02c0242f192b68001bc2b1bb0"
       ],
       "layout": "IPY_MODEL_02c98cb94da44c4a81a72ca83aec5e84"
      }
     },
     "fd67230c035c4c8a8ff327423216a1b5": {
      "model_module": "jupyter-js-widgets",
      "model_module_version": "~2.1.4",
      "model_name": "LayoutModel",
      "state": {
       "_model_module_version": "~2.1.4",
       "_view_module_version": "~2.1.4"
      }
     },
     "fd6ffb5c4a434f9db7842018549ac3f5": {
      "model_module": "jupyter-js-widgets",
      "model_module_version": "~2.1.4",
      "model_name": "FloatSliderModel",
      "state": {
       "_model_module_version": "~2.1.4",
       "_range": true,
       "_view_module_version": "~2.1.4",
       "description": "Range",
       "layout": "IPY_MODEL_e5c908dd04df4680a637e46f82033e02",
       "max": 10,
       "step": 0.1,
       "value": [
        0,
        10
       ]
      }
     },
     "feae3f98fb3944a296c7b9c63c2b5c72": {
      "model_module": "jupyter-js-widgets",
      "model_module_version": "~2.1.4",
      "model_name": "SelectionSliderModel",
      "state": {
       "_model_module_version": "~2.1.4",
       "_view_module_version": "~2.1.4",
       "description": "n",
       "layout": "IPY_MODEL_cef7d58b8e064ceca24c7769fe8a1e62"
      }
     },
     "ff2842ce0b254315bd1980250f4457d9": {
      "model_module": "jupyter-js-widgets",
      "model_module_version": "~2.1.4",
      "model_name": "IntSliderModel",
      "state": {
       "_model_module_version": "~2.1.4",
       "_range": true,
       "_view_module_version": "~2.1.4",
       "description": "range",
       "layout": "IPY_MODEL_d9eec3754fc446db8c73eb103a1d183a",
       "max": 5,
       "min": -5,
       "slider_color": null,
       "value": [
        0,
        4
       ]
      }
     }
    },
    "version_major": 1,
    "version_minor": 0
   }
  }
 },
 "nbformat": 4,
 "nbformat_minor": 4
}
