{
 "cells": [
  {
   "cell_type": "markdown",
   "id": "14ddda9f",
   "metadata": {},
   "source": [
    "# Lectures - Symbolic QM with SymPsi"
   ]
  },
  {
   "cell_type": "markdown",
   "id": "4d49d291",
   "metadata": {},
   "source": [
    "Author: J. R. Johansson (robert@riken.jp), [http://jrjohansson.github.io](http://jrjohansson.github.io).\n",
    "\n",
    "This notebook is part of a series of IPython notebooks on symbolic quantum mechanics computations using \n",
    "[SymPy](http://sympy.org) and [SymPsi](http://www.github.com/jrjohansson/sympsi). \n",
    "- SymPsi is an experimental fork and extension of the [`sympy.physics.quantum`](http://docs.sympy.org/dev/modules/physics/quantum/) module in SymPy. \n",
    "  - Disclaimer: The SymPsi module is still under active development and may change in behavior without notice, and the intention is to move some of its features to [`sympy.physics.quantum`](http://docs.sympy.org/dev/modules/physics/quantum/) when they matured and have been tested. However, these notebooks will be kept up-to-date the latest versions of SymPy and SymPsi.\n",
    "- The latest version of this notebook is available at [http://github.com/jrjohansson/sympy-quantum-notebooks](http://github.com/jrjohansson/sympy-quantum-notebooks).\n",
    "\n",
    "These notebooks are to demonstrate how analytical calculations that are often necessary when working with these quantum mechanical systems can be carried out symbolically. "
   ]
  },
  {
   "cell_type": "markdown",
   "id": "fc9015db",
   "metadata": {},
   "source": [
    " * [Two-level systems](lecture-sympsi-two-level-system.ipynb)\n",
    "   * Eigenbasis\n",
    " * [Resonators and cavities](lecture-sympsi-resonator.ipynb)\n",
    "   * Classical driving fields\n",
    "   * Rotating frames and the rotating-wave approximation\n",
    "   * Optical parametric oscillator\n",
    " * [Atom and cavity](lecture-sympsi-atom-cavity.ipynb)\n",
    "   * The Jaynes-Cumming model\n",
    "   * Dispersive regime\n",
    " * [Optomechanics](lecture-sympsi-optomechanics.ipynb)\n",
    "   * Linear regime\n",
    "     * Red sideband\n",
    "     * Blue sideband\n",
    "   * Kerr effect and photon blockade\n",
    " * Input/Output theory\n",
    "   * Quantum Langevin equation\n",
    "   * One-sided cavity\n",
    " * Master equations\n",
    "   * Adjoint master equation\n",
    " * [Semiclassical equations of motion](lecture-sympsi-semiclassical-eqm.ipynb)\n",
    " * Composite systems"
   ]
  },
  {
   "cell_type": "markdown",
   "id": "7949e171",
   "metadata": {},
   "source": [
    "# Lecture 2 - Symbolic quantum mechanics using SymPsi - Two-level systems"
   ]
  },
  {
   "cell_type": "markdown",
   "id": "71448ffd",
   "metadata": {},
   "source": [
    "## Setup modules"
   ]
  },
  {
   "cell_type": "code",
   "execution_count": null,
   "id": "0040a4b4",
   "metadata": {},
   "outputs": [],
   "source": [
    "from sympy import *\n",
    "init_printing()"
   ]
  },
  {
   "cell_type": "code",
   "execution_count": null,
   "id": "56ebd079",
   "metadata": {},
   "outputs": [],
   "source": [
    "from sympsi import *\n",
    "from sympsi.pauli import *"
   ]
  },
  {
   "cell_type": "markdown",
   "id": "08fb4d78",
   "metadata": {},
   "source": [
    "## Introduction: Hamiltonian and Pauli matrices"
   ]
  },
  {
   "cell_type": "markdown",
   "id": "357b9ac1",
   "metadata": {},
   "source": [
    "One of the simplest possible quantum system is the two-level system, such as a spin-$1/2$, or an atom or artificial-atom (nano-device) with (effectively) only two quantum states. \n",
    "\n",
    "The Hamiltonian for a two-level quantum system is conveniently written in terms of the [Pauli matrices](http://en.wikipedia.org/wiki/Pauli_matrices) $\\sigma_x$, $\\sigma_y$ and $\\sigma_z$, and their annihilation and creation operators $\\sigma_-$ and $\\sigma_+$. In terms of these operators we can write the Hamiltonian on the form:\n",
    "\n",
    "$$\n",
    "H = -\\frac{1}{2}\\Delta\\sigma_x - \\frac{1}{2}\\epsilon\\sigma_z \n",
    "$$\n",
    "\n",
    "where $\\epsilon$ is the bare energy splitting and $\\Delta$ is the tunneling rate between the two states of the two-level system.\n",
    "\n",
    "In SymPy we can represent this Hamiltonian as:"
   ]
  },
  {
   "cell_type": "code",
   "execution_count": null,
   "id": "cb3e1eaf",
   "metadata": {},
   "outputs": [],
   "source": [
    "theta, t = symbols(\"theta, t\")\n",
    "eps, Delta, Omega = symbols(\"epsilon, Delta, Omega\", positive=True)\n",
    "Hsym = symbols(\"H\")"
   ]
  },
  {
   "cell_type": "code",
   "execution_count": null,
   "id": "185020b8",
   "metadata": {},
   "outputs": [],
   "source": [
    "sx, sy, sz = SigmaX(), SigmaY(), SigmaZ()"
   ]
  },
  {
   "cell_type": "code",
   "execution_count": null,
   "id": "f9e8c2a2",
   "metadata": {},
   "outputs": [
    {
     "data": {
      "image/png": "[encoded data removed]",
      "text/latex": [
       "$$H = - \\frac{\\Delta {\\sigma_x}}{2} - \\frac{\\epsilon {\\sigma_z}}{2}$$"
      ],
      "text/plain": [
       "      Δ⋅False   ε⋅False\n",
       "H = - ─────── - ───────\n",
       "         2         2   "
      ]
     },
     "metadata": {},
     "output_type": "display_data"
    }
   ],
   "source": [
    "H = -eps/2 * sz - Delta/2 * sx\n",
    "\n",
    "Eq(Hsym, H)"
   ]
  },
  {
   "cell_type": "markdown",
   "id": "d68cd17b",
   "metadata": {},
   "source": [
    "## Instantaneous eigenbasis"
   ]
  },
  {
   "cell_type": "markdown",
   "id": "3fddb871",
   "metadata": {},
   "source": [
    "Is often convenient to perform basis transformation that simplifies the Hamiltonian. For example, we can transform the Hamiltonian to the eigenbasis (where the Hamiltonian is diagonal, that is only containing a $\\sigma_z$ term) by applying the unitary tranformation:"
   ]
  },
  {
   "cell_type": "code",
   "execution_count": null,
   "id": "a3e24bb0",
   "metadata": {},
   "outputs": [
    {
     "data": {
      "image/png": "[encoded data removed]",
      "text/latex": [
       "$$e^{\\frac{i \\theta}{2} {\\sigma_y}}$$"
      ],
      "text/plain": [
       " ⅈ⋅θ⋅False\n",
       " ─────────\n",
       "     2    \n",
       "ℯ         "
      ]
     },
     "metadata": {},
     "output_type": "display_data"
    }
   ],
   "source": [
    "U = exp(I * theta/2 * sy); U"
   ]
  },
  {
   "cell_type": "markdown",
   "id": "143191d2",
   "metadata": {},
   "source": [
    "This unitary tranformation transforms the operators in the Hamiltonian according to these well-known relations:"
   ]
  },
  {
   "cell_type": "code",
   "execution_count": null,
   "id": "8fa79957",
   "metadata": {},
   "outputs": [
    {
     "data": {
      "image/png": "[encoded data removed]",
      "text/latex": [
       "$$\\sin{\\left (\\theta \\right )} {\\sigma_z} + \\cos{\\left (\\theta \\right )} {\\sigma_x}$$"
      ],
      "text/plain": [
       "sin(θ)⋅False + cos(θ)⋅False"
      ]
     },
     "metadata": {},
     "output_type": "display_data"
    }
   ],
   "source": [
    "hamiltonian_transformation(U, sx)"
   ]
  },
  {
   "cell_type": "code",
   "execution_count": null,
   "id": "e880b4f7",
   "metadata": {},
   "outputs": [
    {
     "data": {
      "image/png": "[encoded data removed]",
      "text/latex": [
       "$$- \\sin{\\left (\\theta \\right )} {\\sigma_x} + \\cos{\\left (\\theta \\right )} {\\sigma_z}$$"
      ],
      "text/plain": [
       "-sin(θ)⋅False + cos(θ)⋅False"
      ]
     },
     "metadata": {},
     "output_type": "display_data"
    }
   ],
   "source": [
    "hamiltonian_transformation(U, sz)"
   ]
  },
  {
   "cell_type": "markdown",
   "id": "fdca42b1",
   "metadata": {},
   "source": [
    "so the Hamiltonian after this transformation takes the form "
   ]
  },
  {
   "cell_type": "code",
   "execution_count": null,
   "id": "71312a34",
   "metadata": {},
   "outputs": [
    {
     "data": {
      "image/png": "[encoded data removed]",
      "text/latex": [
       "$$- \\frac{\\Delta}{2} \\left(\\sin{\\left (\\theta \\right )} {\\sigma_z} + \\cos{\\left (\\theta \\right )} {\\sigma_x}\\right) - \\frac{\\epsilon}{2} \\left(- \\sin{\\left (\\theta \\right )} {\\sigma_x} + \\cos{\\left (\\theta \\right )} {\\sigma_z}\\right)$$"
      ],
      "text/plain": [
       "  Δ⋅(sin(θ)⋅False + cos(θ)⋅False)   ε⋅(-sin(θ)⋅False + cos(θ)⋅False)\n",
       "- ─────────────────────────────── - ────────────────────────────────\n",
       "                 2                                 2                "
      ]
     },
     "metadata": {},
     "output_type": "display_data"
    }
   ],
   "source": [
    "H1 = hamiltonian_transformation(U, H)\n",
    "\n",
    "H1"
   ]
  },
  {
   "cell_type": "code",
   "execution_count": null,
   "id": "823cfefa",
   "metadata": {},
   "outputs": [
    {
     "data": {
      "image/png": "[encoded data removed]",
      "text/latex": [
       "$$\\left(- \\frac{\\Delta}{2} \\sin{\\left (\\theta \\right )} - \\frac{\\epsilon}{2} \\cos{\\left (\\theta \\right )}\\right) {\\sigma_z} + \\left(- \\frac{\\Delta}{2} \\cos{\\left (\\theta \\right )} + \\frac{\\epsilon}{2} \\sin{\\left (\\theta \\right )}\\right) {\\sigma_x}$$"
      ],
      "text/plain": [
       "⎛  Δ⋅sin(θ)   ε⋅cos(θ)⎞         ⎛  Δ⋅cos(θ)   ε⋅sin(θ)⎞      \n",
       "⎜- ──────── - ────────⎟⋅False + ⎜- ──────── + ────────⎟⋅False\n",
       "⎝     2          2    ⎠         ⎝     2          2    ⎠      "
      ]
     },
     "metadata": {},
     "output_type": "display_data"
    }
   ],
   "source": [
    "H2 = collect(H1.expand(), (sx, sz))\n",
    "\n",
    "H2"
   ]
  },
  {
   "cell_type": "markdown",
   "id": "45388698",
   "metadata": {},
   "source": [
    "In the eigenbasis we require the coefficient of $\\sigma_x$ to be zero, so we have the condition:"
   ]
  },
  {
   "cell_type": "code",
   "execution_count": null,
   "id": "4df92a33",
   "metadata": {},
   "outputs": [
    {
     "data": {
      "image/png": "[encoded data removed]",
      "text/latex": [
       "$$- \\frac{\\Delta}{2} \\cos{\\left (\\theta \\right )} + \\frac{\\epsilon}{2} \\sin{\\left (\\theta \\right )} = 0$$"
      ],
      "text/plain": [
       "  Δ⋅cos(θ)   ε⋅sin(θ)    \n",
       "- ──────── + ──────── = 0\n",
       "     2          2        "
      ]
     },
     "metadata": {},
     "output_type": "display_data"
    }
   ],
   "source": [
    "c, o = split_coeff_operator(H2.args[0])\n",
    "\n",
    "Eq(c, 0)"
   ]
  },
  {
   "cell_type": "markdown",
   "id": "26eb1b46",
   "metadata": {},
   "source": [
    "with the solution"
   ]
  },
  {
   "cell_type": "code",
   "execution_count": null,
   "id": "a3762004",
   "metadata": {},
   "outputs": [
    {
     "data": {
      "image/png": "[encoded data removed]",
      "text/latex": [
       "$$\\tan{\\left (\\theta \\right )} = \\frac{\\Delta}{\\epsilon}$$"
      ],
      "text/plain": [
       "         Δ\n",
       "tan(θ) = ─\n",
       "         ε"
      ]
     },
     "metadata": {},
     "output_type": "display_data"
    }
   ],
   "source": [
    "Eq(tan(theta), Delta/eps)"
   ]
  },
  {
   "cell_type": "markdown",
   "id": "0fcb7324",
   "metadata": {},
   "source": [
    "Substituting this into the Hamiltonian results in "
   ]
  },
  {
   "cell_type": "code",
   "execution_count": null,
   "id": "d1442a10",
   "metadata": {},
   "outputs": [
    {
     "data": {
      "image/png": "[encoded data removed]",
      "text/latex": [
       "$$- \\frac{{\\sigma_z}}{2} \\sqrt{\\Delta^{2} + \\epsilon^{2}}$$"
      ],
      "text/plain": [
       "    _________       \n",
       "   ╱  2    2        \n",
       "-╲╱  Δ  + ε  ⋅False \n",
       "────────────────────\n",
       "         2          "
      ]
     },
     "metadata": {},
     "output_type": "display_data"
    }
   ],
   "source": [
    "H3 = simplify(H2.subs(theta, atan(Delta/eps)))\n",
    "\n",
    "H3"
   ]
  },
  {
   "cell_type": "markdown",
   "id": "0e59b653",
   "metadata": {},
   "source": [
    "Now introduce $\\Omega = \\sqrt{\\Delta^2 + \\epsilon^2}$, which is the eigenenergies of the two-level system:"
   ]
  },
  {
   "cell_type": "code",
   "execution_count": null,
   "id": "14afa672",
   "metadata": {},
   "outputs": [
    {
     "data": {
      "image/png": "[encoded data removed]",
      "text/latex": [
       "$$- \\frac{\\Omega {\\sigma_z}}{2}$$"
      ],
      "text/plain": [
       "-Ω⋅False \n",
       "─────────\n",
       "    2    "
      ]
     },
     "metadata": {},
     "output_type": "display_data"
    }
   ],
   "source": [
    "H3.subs(Delta, sqrt(Omega ** 2 - eps ** 2))"
   ]
  },
  {
   "cell_type": "markdown",
   "id": "d61a88b1",
   "metadata": {},
   "source": [
    "In summary, to reach this basis, we have transformed $\\sigma_x$ and $\\sigma_z$ as:"
   ]
  },
  {
   "cell_type": "code",
   "execution_count": null,
   "id": "56b1c31e",
   "metadata": {},
   "outputs": [
    {
     "data": {
      "image/png": "[encoded data removed]",
      "text/latex": [
       "$$\\sin{\\left (\\theta \\right )} {\\sigma_z} + \\cos{\\left (\\theta \\right )} {\\sigma_x}$$"
      ],
      "text/plain": [
       "sin(θ)⋅False + cos(θ)⋅False"
      ]
     },
     "metadata": {},
     "output_type": "display_data"
    }
   ],
   "source": [
    "hamiltonian_transformation(U, sx)"
   ]
  },
  {
   "cell_type": "code",
   "execution_count": null,
   "id": "9701c128",
   "metadata": {},
   "outputs": [
    {
     "data": {
      "image/png": "[encoded data removed]",
      "text/latex": [
       "$$- \\sin{\\left (\\theta \\right )} {\\sigma_x} + \\cos{\\left (\\theta \\right )} {\\sigma_z}$$"
      ],
      "text/plain": [
       "-sin(θ)⋅False + cos(θ)⋅False"
      ]
     },
     "metadata": {},
     "output_type": "display_data"
    }
   ],
   "source": [
    "hamiltonian_transformation(U, sz)"
   ]
  },
  {
   "cell_type": "markdown",
   "id": "c8c8e684",
   "metadata": {},
   "source": [
    "and chosen $\\theta = \\arctan(\\Delta/\\epsilon)$."
   ]
  },
  {
   "cell_type": "markdown",
   "id": "eac4d72a",
   "metadata": {},
   "source": [
    "## Versions"
   ]
  },
  {
   "cell_type": "code",
   "execution_count": null,
   "id": "1035a282",
   "metadata": {},
   "outputs": [
    {
     "data": {
      "application/json": {
       "Software versions": [
        {
         "module": "Python",
         "version": "3.4.1 (default, Sep 20 2014, 19:44:17) [GCC 4.2.1 Compatible Apple LLVM 5.1 (clang-503.0.40)]"
        },
        {
         "module": "IPython",
         "version": "2.3.0"
        },
        {
         "module": "OS",
         "version": "Darwin 13.4.0 x86_64 i386 64bit"
        },
        {
         "module": "sympy",
         "version": "0.7.5-git"
        },
        {
         "module": "sympsi",
         "version": "0.1.0.dev-0c6e514"
        }
       ]
      },
      "text/html": [
       "<table><tr><th>Software</th><th>Version</th></tr><tr><td>Python</td><td>3.4.1 (default, Sep 20 2014, 19:44:17) [GCC 4.2.1 Compatible Apple LLVM 5.1 (clang-503.0.40)]</td></tr><tr><td>IPython</td><td>2.3.0</td></tr><tr><td>OS</td><td>Darwin 13.4.0 x86_64 i386 64bit</td></tr><tr><td>sympy</td><td>0.7.5-git</td></tr><tr><td>sympsi</td><td>0.1.0.dev-0c6e514</td></tr><tr><td colspan='2'>Thu Oct 09 15:23:41 2014 JST</td></tr></table>"
      ],
      "text/latex": [
       "\\begin{tabular}{|l|l|}\\hline\n",
       "{\\bf Software} & {\\bf Version} \\\\ \\hline\\hline\n",
       "Python & 3.4.1 (default, Sep 20 2014, 19:44:17) [GCC 4.2.1 Compatible Apple LLVM 5.1 (clang-503.0.40)] \\\\ \\hline\n",
       "IPython & 2.3.0 \\\\ \\hline\n",
       "OS & Darwin 13.4.0 x86\\letterunderscore{}64 i386 64bit \\\\ \\hline\n",
       "sympy & 0.7.5-git \\\\ \\hline\n",
       "sympsi & 0.1.0.dev-0c6e514 \\\\ \\hline\n",
       "\\hline \\multicolumn{2}{|l|}{Thu Oct 09 15:23:41 2014 JST} \\\\ \\hline\n",
       "\\end{tabular}\n"
      ],
      "text/plain": [
       "Software versions\n",
       "Python 3.4.1 (default, Sep 20 2014, 19:44:17) [GCC 4.2.1 Compatible Apple LLVM 5.1 (clang-503.0.40)]\n",
       "IPython 2.3.0\n",
       "OS Darwin 13.4.0 x86_64 i386 64bit\n",
       "sympy 0.7.5-git\n",
       "sympsi 0.1.0.dev-0c6e514\n",
       "Thu Oct 09 15:23:41 2014 JST"
      ]
     },
     "metadata": {},
     "output_type": "display_data"
    }
   ],
   "source": [
    "%reload_ext version_information\n",
    "\n",
    "%version_information sympy, sympsi"
   ]
  },
  {
   "cell_type": "markdown",
   "id": "ab0bb19e",
   "metadata": {},
   "source": [
    "# Lecture 3 - Symbolic quantum mechanics using SymPsi - Resonators and cavities"
   ]
  },
  {
   "cell_type": "markdown",
   "id": "020bb9c5",
   "metadata": {},
   "source": [
    "## Setup modules"
   ]
  },
  {
   "cell_type": "code",
   "execution_count": null,
   "id": "c8d0d2a9",
   "metadata": {},
   "outputs": [],
   "source": [
    "from sympy import *\n",
    "init_printing()"
   ]
  },
  {
   "cell_type": "code",
   "execution_count": null,
   "id": "f2e9f7f6",
   "metadata": {},
   "outputs": [],
   "source": [
    "from sympsi import *\n",
    "from sympsi.boson import *\n",
    "from sympsi.operatorordering import *"
   ]
  },
  {
   "cell_type": "markdown",
   "id": "816cd9f6",
   "metadata": {},
   "source": [
    "## Introduction"
   ]
  },
  {
   "cell_type": "markdown",
   "id": "a49dccfc",
   "metadata": {},
   "source": [
    "In this notebook we will work with cavities and resonators. A single mode of a resonator can be modelled with a quantum harmonic oscillator. Here we look at the effect of classical driving fields, transformation to different rotating frames, and various types of coupling between different modes in a resonator."
   ]
  },
  {
   "cell_type": "markdown",
   "id": "e786ad24",
   "metadata": {},
   "source": [
    "## Quantum Harmonic Oscillator"
   ]
  },
  {
   "cell_type": "markdown",
   "id": "b98460bc",
   "metadata": {},
   "source": [
    "First we consider the Hamiltonian for a single harmonic oscillator, which describes a single mode of for example a cavity or a waveguide resonator:\n",
    "\n",
    "$$\n",
    "H = \\hbar \\omega_r a^\\dagger a\n",
    "$$\n",
    "\n",
    "To represent this Hamiltonian in sympy we create a symbol `omega_r` and an instance of the class `BosonOp`:"
   ]
  },
  {
   "cell_type": "code",
   "execution_count": null,
   "id": "bbac9f28",
   "metadata": {},
   "outputs": [],
   "source": [
    "omega_r = symbols(\"omega_r\", positive=True)\n",
    "Hsym = symbols(\"H\")\n",
    "a = BosonOp(\"a\")"
   ]
  },
  {
   "cell_type": "code",
   "execution_count": null,
   "id": "b19aebac",
   "metadata": {},
   "outputs": [
    {
     "data": {
      "image/png": "[encoded data removed]",
      "text/latex": [
       "$$H = \\omega_{r} {{a}^\\dagger} {a}$$"
      ],
      "text/plain": [
       "        †  \n",
       "H = ωᵣ⋅a ⋅a"
      ]
     },
     "metadata": {},
     "output_type": "display_data"
    }
   ],
   "source": [
    "H0 = omega_r * Dagger(a) * a\n",
    "\n",
    "Eq(Hsym, H0)"
   ]
  },
  {
   "cell_type": "markdown",
   "id": "c5a9ac7b",
   "metadata": {},
   "source": [
    "### Classical drive signal"
   ]
  },
  {
   "cell_type": "markdown",
   "id": "53368088",
   "metadata": {},
   "source": [
    "A classical driving field of frequency $\\omega_d$ and amplitude $A$ and phase $\\phi_0$ can be modelled by including an additional term in the Hamiltonian:\n",
    "\n",
    "$$\n",
    "H = \\hbar \\omega_r a^\\dagger a + A \\cos(\\omega_dt  + \\phi_0) (a + a^\\dagger)\n",
    "$$\n",
    "\n",
    "where we have assumed that the driving field couples to the quadrature of the resonator $a + a^\\dagger$, which is the canonical case. It is convenient to rewrite the $\\cos$ factor\n",
    "\n",
    "$$\n",
    "H = \\hbar \\omega_r a^\\dagger a + (Ae^{-i\\omega_dt}+ A^*e^{i\\omega_dt})(a + a^\\dagger)\n",
    "$$\n",
    "\n",
    "where we have redefined $A \\rightarrow Ae^{-i\\phi_0}$. In Sympy we can represent this Hamiltonian as:"
   ]
  },
  {
   "cell_type": "code",
   "execution_count": null,
   "id": "937fd325",
   "metadata": {},
   "outputs": [],
   "source": [
    "omega_d, t = symbols(\"omega_d, t\")\n",
    "A = symbols(\"A\")"
   ]
  },
  {
   "cell_type": "code",
   "execution_count": null,
   "id": "b5ca4c77",
   "metadata": {},
   "outputs": [
    {
     "data": {
      "image/png": "[encoded data removed]",
      "text/latex": [
       "$$\\left(A e^{- i \\omega_{d} t} + e^{i \\omega_{d} t} \\overline{A}\\right) \\left({{a}^\\dagger} + {a}\\right)$$"
      ],
      "text/plain": [
       "⎛   -ⅈ⋅ω_d⋅t    ⅈ⋅ω_d⋅t _⎞ ⎛ †    ⎞\n",
       "⎝A⋅ℯ         + ℯ       ⋅A⎠⋅⎝a  + a⎠"
      ]
     },
     "metadata": {},
     "output_type": "display_data"
    }
   ],
   "source": [
    "Hdrive = (A * exp(-I * omega_d * t) + conjugate(A) * exp(I * omega_d * t)) * (a + Dagger(a))\n",
    "\n",
    "Hdrive"
   ]
  },
  {
   "cell_type": "code",
   "execution_count": null,
   "id": "1db1c236",
   "metadata": {},
   "outputs": [
    {
     "data": {
      "image/png": "[encoded data removed]",
      "text/latex": [
       "$$H = \\omega_{r} {{a}^\\dagger} {a} + \\left(A e^{- i \\omega_{d} t} + e^{i \\omega_{d} t} \\overline{A}\\right) \\left({{a}^\\dagger} + {a}\\right)$$"
      ],
      "text/plain": [
       "        †     ⎛   -ⅈ⋅ω_d⋅t    ⅈ⋅ω_d⋅t _⎞ ⎛ †    ⎞\n",
       "H = ωᵣ⋅a ⋅a + ⎝A⋅ℯ         + ℯ       ⋅A⎠⋅⎝a  + a⎠"
      ]
     },
     "metadata": {},
     "output_type": "display_data"
    }
   ],
   "source": [
    "H = H0 + Hdrive\n",
    "\n",
    "Eq(Hsym, H)"
   ]
  },
  {
   "cell_type": "markdown",
   "id": "dd044366",
   "metadata": {},
   "source": [
    "When working with Hamiltonians like this one, one common operation is to move to different rotating frames (by performing unitary transformations) where the Hamiltonian takes a simplier form.\n",
    "\n",
    "Here we want to transform this Hamiltonian to a rotating frame in which the drive term (and all other terms) are no longer explicitly depening on time `t`. We can accomplish this by performing the unitary transformation \n",
    "\n",
    "$$\n",
    "U = \\exp(i\\omega_d a^\\dagger a t)\n",
    "$$"
   ]
  },
  {
   "cell_type": "code",
   "execution_count": null,
   "id": "e89a7d85",
   "metadata": {},
   "outputs": [
    {
     "data": {
      "image/png": "[encoded data removed]",
      "text/latex": [
       "$$e^{i \\omega_{d} t {{a}^\\dagger} {a}}$$"
      ],
      "text/plain": [
       "          †  \n",
       " ⅈ⋅ω_d⋅t⋅a ⋅a\n",
       "ℯ            "
      ]
     },
     "metadata": {},
     "output_type": "display_data"
    }
   ],
   "source": [
    "U = exp(I * omega_d * t * Dagger(a) * a)\n",
    "\n",
    "U"
   ]
  },
  {
   "cell_type": "markdown",
   "id": "26803c6d",
   "metadata": {},
   "source": [
    "When doing a unitary basis transformation, the Hamiltonian is transformed as\n",
    "\n",
    "$$\n",
    "H \\rightarrow UHU^\\dagger -i U \\frac{d}{dt}U^\\dagger\n",
    "$$\n",
    "\n",
    "and we can carry out this transformation using the function `hamiltonian_transformation`:"
   ]
  },
  {
   "cell_type": "code",
   "execution_count": null,
   "id": "48d62920",
   "metadata": {},
   "outputs": [
    {
     "data": {
      "image/png": "[encoded data removed]",
      "text/latex": [
       "$$A {{a}^\\dagger} + A e^{- 2 i \\omega_{d} t} {a} - \\omega_{d} {{a}^\\dagger} {a} + \\omega_{r} {{a}^\\dagger} {a} + e^{2 i \\omega_{d} t} \\overline{A} {{a}^\\dagger} + \\overline{A} {a}$$"
      ],
      "text/plain": [
       "   †      -2⋅ⅈ⋅ω_d⋅t          †         †      2⋅ⅈ⋅ω_d⋅t _  †   _  \n",
       "A⋅a  + A⋅ℯ          ⋅a - ω_d⋅a ⋅a + ωᵣ⋅a ⋅a + ℯ         ⋅A⋅a  + A⋅a"
      ]
     },
     "metadata": {},
     "output_type": "display_data"
    }
   ],
   "source": [
    "H2 = hamiltonian_transformation(U, H.expand())\n",
    "\n",
    "H2"
   ]
  },
  {
   "cell_type": "markdown",
   "id": "b5352232",
   "metadata": {},
   "source": [
    "Now let's introduce the detuning $\\Delta = \\omega_r - \\omega_d$:"
   ]
  },
  {
   "cell_type": "code",
   "execution_count": null,
   "id": "b9c02609",
   "metadata": {},
   "outputs": [],
   "source": [
    "Delta = symbols(\"Delta\", positive=True)"
   ]
  },
  {
   "cell_type": "code",
   "execution_count": null,
   "id": "f1672f07",
   "metadata": {},
   "outputs": [
    {
     "data": {
      "image/png": "[encoded data removed]",
      "text/latex": [
       "$$A {{a}^\\dagger} + A e^{- 2 i \\omega_{d} t} {a} + \\Delta {{a}^\\dagger} {a} + e^{2 i \\omega_{d} t} \\overline{A} {{a}^\\dagger} + \\overline{A} {a}$$"
      ],
      "text/plain": [
       "   †      -2⋅ⅈ⋅ω_d⋅t        †      2⋅ⅈ⋅ω_d⋅t _  †   _  \n",
       "A⋅a  + A⋅ℯ          ⋅a + Δ⋅a ⋅a + ℯ         ⋅A⋅a  + A⋅a"
      ]
     },
     "metadata": {},
     "output_type": "display_data"
    }
   ],
   "source": [
    "H3 = collect(H2, Dagger(a) * a).subs(omega_r - omega_d, Delta)\n",
    "\n",
    "H3"
   ]
  },
  {
   "cell_type": "markdown",
   "id": "ca5bbcc2",
   "metadata": {},
   "source": [
    "### Rotating-wave approximation (RWA)"
   ]
  },
  {
   "cell_type": "markdown",
   "id": "4a43997d",
   "metadata": {},
   "source": [
    "Now we invoke the rotating-wave approximation, under which we assume that $\\omega_d$ is much larger than $\\Delta$, so that the we can neglect the two fast rotating terms which contains factors $\\exp(\\pm 2i \\omega_d t)$:"
   ]
  },
  {
   "cell_type": "code",
   "execution_count": null,
   "id": "e6630b01",
   "metadata": {},
   "outputs": [
    {
     "data": {
      "image/png": "[encoded data removed]",
      "text/latex": [
       "$$H = A {{a}^\\dagger} + \\Delta {{a}^\\dagger} {a} + \\overline{A} {a}$$"
      ],
      "text/plain": [
       "       †      †     _  \n",
       "H = A⋅a  + Δ⋅a ⋅a + A⋅a"
      ]
     },
     "metadata": {},
     "output_type": "display_data"
    }
   ],
   "source": [
    "H3 = drop_terms_containing(H3, [exp( 2 * I * omega_d * t),\n",
    "                                exp(-2 * I * omega_d * t)])\n",
    "\n",
    "Eq(Hsym, H3)"
   ]
  },
  {
   "cell_type": "markdown",
   "id": "36f9da3b",
   "metadata": {},
   "source": [
    "This is a time-independent hamiltonian describing the resonator in a rotating frame, where fast rotating terms have been dropped. We can no apply a displacement transformation by applying the unitary transformation:"
   ]
  },
  {
   "cell_type": "code",
   "execution_count": null,
   "id": "a3aa3728",
   "metadata": {},
   "outputs": [
    {
     "data": {
      "image/png": "[encoded data removed]",
      "text/latex": [
       "$$e^{\\alpha {{a}^\\dagger} - \\overline{\\alpha} {a}}$$"
      ],
      "text/plain": [
       "    †   _  \n",
       " α⋅a  - α⋅a\n",
       "ℯ          "
      ]
     },
     "metadata": {},
     "output_type": "display_data"
    }
   ],
   "source": [
    "alpha = symbols(\"alpha\")\n",
    "H = Dagger(a) * alpha - conjugate(alpha) * a\n",
    "U = exp(H)\n",
    "\n",
    "U"
   ]
  },
  {
   "cell_type": "code",
   "execution_count": null,
   "id": "2fe9ee1e",
   "metadata": {},
   "outputs": [
    {
     "data": {
      "image/png": "[encoded data removed]",
      "text/latex": [
       "$$- A \\overline{\\alpha} + \\Delta \\alpha \\overline{\\alpha} + \\Delta {{a}^\\dagger} {a} - \\alpha \\overline{A} + \\left(A - \\Delta \\alpha\\right) {{a}^\\dagger} + \\left(- \\Delta \\overline{\\alpha} + \\overline{A}\\right) {a}$$"
      ],
      "text/plain": [
       "    _       _      †       _              †   ⎛    _   _⎞  \n",
       "- A⋅α + Δ⋅α⋅α + Δ⋅a ⋅a - α⋅A + (A - Δ⋅α)⋅a  + ⎝- Δ⋅α + A⎠⋅a"
      ]
     },
     "metadata": {},
     "output_type": "display_data"
    }
   ],
   "source": [
    "H4 = hamiltonian_transformation(U, H3)\n",
    "\n",
    "H4 = collect(H4.expand(), [Dagger(a)*a, a, Dagger(a)])\n",
    "\n",
    "H4"
   ]
  },
  {
   "cell_type": "markdown",
   "id": "eae8d0eb",
   "metadata": {},
   "source": [
    "If we choose $\\alpha = A/\\Delta$ and drop c-numbers from the hamiltonian, we obtain a particularly simple form:"
   ]
  },
  {
   "cell_type": "code",
   "execution_count": null,
   "id": "34fee500",
   "metadata": {},
   "outputs": [
    {
     "data": {
      "image/png": "[encoded data removed]",
      "text/latex": [
       "$$\\Delta {{a}^\\dagger} {a}$$"
      ],
      "text/plain": [
       "   †  \n",
       "Δ⋅a ⋅a"
      ]
     },
     "metadata": {},
     "output_type": "display_data"
    }
   ],
   "source": [
    "H5 = H4.subs(alpha, A/Delta)\n",
    "\n",
    "H5 = drop_c_number_terms(H5)\n",
    "\n",
    "H5"
   ]
  },
  {
   "cell_type": "markdown",
   "id": "7862fc62",
   "metadata": {},
   "source": [
    "So a driven harmonic oscillator can be described by the hamiltonian of an undriven harmonic oscillator in a displaced frame."
   ]
  },
  {
   "cell_type": "markdown",
   "id": "eb4678bb",
   "metadata": {},
   "source": [
    "## Optical parametric oscillator"
   ]
  },
  {
   "cell_type": "markdown",
   "id": "0b88e8a4",
   "metadata": {},
   "source": [
    "An optical parametric oscillator (OPO) is a two-mode system with a particular nonlinear interaction. The Hamiltonian of the OPO is\n",
    "\n",
    "$$\n",
    "H = \\omega_r a^\\dagger a + \\omega_p b^\\dagger b + (\\kappa {a^\\dagger}^2 b + \\kappa^* a^2 b^\\dagger) + (A e^{i\\omega_pt} + A^* e^{-i\\omega_pt})(b + b^\\dagger)\n",
    "$$\n",
    "\n",
    "where the operators of the two modes are$a$ and $b$, and the nonlinear interaction strength is $\\kappa$, and where we have also included a classical drive field applied to mode $b$.\n",
    "\n",
    "To model this system in SymPy we create two instances of `BosonOp`, one for each mode, and construct the Hamiltonian:"
   ]
  },
  {
   "cell_type": "code",
   "execution_count": null,
   "id": "371681ca",
   "metadata": {},
   "outputs": [],
   "source": [
    "a, b = BosonOp(\"a\"), BosonOp(\"b\")"
   ]
  },
  {
   "cell_type": "code",
   "execution_count": null,
   "id": "8d1730e9",
   "metadata": {},
   "outputs": [],
   "source": [
    "kappa, omega_p, omega_a, omega_b, t = symbols(\"kappa, omega_p, omega_a, omega_b, t\")\n",
    "Delta_a, Delta_b = symbols(\"Delta_a, Delta_b\", positive=True)"
   ]
  },
  {
   "cell_type": "code",
   "execution_count": null,
   "id": "4a52a04c",
   "metadata": {},
   "outputs": [
    {
     "data": {
      "image/png": "[encoded data removed]",
      "text/latex": [
       "$$H = \\kappa \\left(\\left({{a}^\\dagger}\\right)^{2} {b} + \\left({a}\\right)^{2} {{b}^\\dagger}\\right) + \\omega_{a} {{a}^\\dagger} {a} + \\omega_{b} {{b}^\\dagger} {b} + \\left(A e^{- i \\omega_{p} t} + e^{i \\omega_{p} t} \\overline{A}\\right) \\left({{b}^\\dagger} + {b}\\right)$$"
      ],
      "text/plain": [
       "      ⎛    2          ⎞                                                       \n",
       "      ⎜⎛ †⎞       2  †⎟       †          †     ⎛   -ⅈ⋅ω_p⋅t    ⅈ⋅ω_p⋅t _⎞ ⎛ † \n",
       "H = κ⋅⎝⎝a ⎠ ⋅b + a ⋅b ⎠ + ωₐ⋅a ⋅a + ω_b⋅b ⋅b + ⎝A⋅ℯ         + ℯ       ⋅A⎠⋅⎝b  \n",
       "\n",
       "    \n",
       "   ⎞\n",
       "+ b⎠"
      ]
     },
     "metadata": {},
     "output_type": "display_data"
    }
   ],
   "source": [
    "Hdrive = (A * exp(-I * omega_p * t) + conjugate(A) * exp(I * omega_p * t)) * (b + Dagger(b))\n",
    "H1 = omega_a * Dagger(a) * a + omega_b * Dagger(b) * b  + kappa * (a ** 2 * Dagger(b) + Dagger(a) ** 2 * b) + Hdrive\n",
    "\n",
    "Eq(Hsym, H1)"
   ]
  },
  {
   "cell_type": "markdown",
   "id": "50b9ff41",
   "metadata": {},
   "source": [
    "We first move to a frame rotating with frequency $\\omega_p$ with respect to mode $b$:"
   ]
  },
  {
   "cell_type": "code",
   "execution_count": null,
   "id": "88e663a0",
   "metadata": {},
   "outputs": [
    {
     "data": {
      "image/png": "[encoded data removed]",
      "text/latex": [
       "$$e^{i \\omega_{p} t {{b}^\\dagger} {b}}$$"
      ],
      "text/plain": [
       "          †  \n",
       " ⅈ⋅ω_p⋅t⋅b ⋅b\n",
       "ℯ            "
      ]
     },
     "metadata": {},
     "output_type": "display_data"
    }
   ],
   "source": [
    "U = exp(I * omega_p * t * Dagger(b) * b)\n",
    "\n",
    "U"
   ]
  },
  {
   "cell_type": "code",
   "execution_count": null,
   "id": "d902ae3a",
   "metadata": {},
   "outputs": [
    {
     "data": {
      "image/png": "[encoded data removed]",
      "text/latex": [
       "$$A {{b}^\\dagger} + A e^{- 2 i \\omega_{p} t} {b} + \\kappa e^{i \\omega_{p} t} \\left({a}\\right)^{2} {{b}^\\dagger} + \\kappa e^{- i \\omega_{p} t} \\left({{a}^\\dagger}\\right)^{2} {b} + \\omega_{a} {{a}^\\dagger} {a} + \\omega_{b} {{b}^\\dagger} {b} - \\omega_{p} {{b}^\\dagger} {b} + e^{2 i \\omega_{p} t} \\overline{A} {{b}^\\dagger} + \\overline{A} {b}$$"
      ],
      "text/plain": [
       "                                                            2                 \n",
       "   †      -2⋅ⅈ⋅ω_p⋅t        ⅈ⋅ω_p⋅t  2  †      -ⅈ⋅ω_p⋅t ⎛ †⎞          †       \n",
       "A⋅b  + A⋅ℯ          ⋅b + κ⋅ℯ       ⋅a ⋅b  + κ⋅ℯ        ⋅⎝a ⎠ ⋅b + ωₐ⋅a ⋅a + ω_\n",
       "\n",
       "                                         \n",
       "   †          †      2⋅ⅈ⋅ω_p⋅t _  †   _  \n",
       "b⋅b ⋅b - ω_p⋅b ⋅b + ℯ         ⋅A⋅b  + A⋅b"
      ]
     },
     "metadata": {},
     "output_type": "display_data"
    }
   ],
   "source": [
    "H2 = hamiltonian_transformation(U, H1.expand(), independent=True)\n",
    "\n",
    "H2"
   ]
  },
  {
   "cell_type": "markdown",
   "id": "7f43f02f",
   "metadata": {},
   "source": [
    "and we can perform the rotating wave approximation and drop the fast rotating terms $\\exp{\\left(\\pm i \\omega_p t\\right)}$:"
   ]
  },
  {
   "cell_type": "code",
   "execution_count": null,
   "id": "fb097852",
   "metadata": {},
   "outputs": [
    {
     "data": {
      "image/png": "[encoded data removed]",
      "text/latex": [
       "$$A {{b}^\\dagger} + \\kappa \\left(e^{i \\omega_{p} t} \\left({a}\\right)^{2} {{b}^\\dagger} + e^{- i \\omega_{p} t} \\left({{a}^\\dagger}\\right)^{2} {b}\\right) + \\omega_{a} {{a}^\\dagger} {a} + \\omega_{b} {{b}^\\dagger} {b} - \\omega_{p} {{b}^\\dagger} {b} + \\overline{A} {b}$$"
      ],
      "text/plain": [
       "         ⎛                               2  ⎞                                 \n",
       "   †     ⎜ ⅈ⋅ω_p⋅t  2  †    -ⅈ⋅ω_p⋅t ⎛ †⎞   ⎟       †          †          †   \n",
       "A⋅b  + κ⋅⎝ℯ       ⋅a ⋅b  + ℯ        ⋅⎝a ⎠ ⋅b⎠ + ωₐ⋅a ⋅a + ω_b⋅b ⋅b - ω_p⋅b ⋅b \n",
       "\n",
       "     \n",
       "  _  \n",
       "+ A⋅b"
      ]
     },
     "metadata": {},
     "output_type": "display_data"
    }
   ],
   "source": [
    "H3 = drop_terms_containing(H2, [exp(2 * I * omega_p * t),\n",
    "                                exp(-2 * I * omega_p * t)])\n",
    "\n",
    "H3 = collect(H3, kappa)\n",
    "\n",
    "H3"
   ]
  },
  {
   "cell_type": "markdown",
   "id": "a2c2c1f5",
   "metadata": {},
   "source": [
    "Introduce a new variable for the detuning $\\Delta_b = \\omega_b - \\omega_p$:"
   ]
  },
  {
   "cell_type": "code",
   "execution_count": null,
   "id": "2189e22b",
   "metadata": {},
   "outputs": [
    {
     "data": {
      "image/png": "[encoded data removed]",
      "text/latex": [
       "$$A {{b}^\\dagger} + \\Delta_{b} {{b}^\\dagger} {b} + \\kappa e^{i \\omega_{p} t} \\left({a}\\right)^{2} {{b}^\\dagger} + \\kappa e^{- i \\omega_{p} t} \\left({{a}^\\dagger}\\right)^{2} {b} + \\omega_{a} {{a}^\\dagger} {a} + \\overline{A} {b}$$"
      ],
      "text/plain": [
       "                                                     2                  \n",
       "   †        †        ⅈ⋅ω_p⋅t  2  †      -ⅈ⋅ω_p⋅t ⎛ †⎞          †     _  \n",
       "A⋅b  + Δ_b⋅b ⋅b + κ⋅ℯ       ⋅a ⋅b  + κ⋅ℯ        ⋅⎝a ⎠ ⋅b + ωₐ⋅a ⋅a + A⋅b"
      ]
     },
     "metadata": {},
     "output_type": "display_data"
    }
   ],
   "source": [
    "H4 = H3.subs(omega_b, Delta_b + omega_p).expand()\n",
    "\n",
    "H4"
   ]
  },
  {
   "cell_type": "markdown",
   "id": "7259618b",
   "metadata": {},
   "source": [
    "Next we want to displace the mode $b$ so that the drive terms are eliminated:"
   ]
  },
  {
   "cell_type": "code",
   "execution_count": null,
   "id": "1a3fc12a",
   "metadata": {},
   "outputs": [
    {
     "data": {
      "image/png": "[encoded data removed]",
      "text/latex": [
       "$$e^{\\beta {{b}^\\dagger} - \\overline{\\beta} {b}}$$"
      ],
      "text/plain": [
       "    †   _  \n",
       " β⋅b  - β⋅b\n",
       "ℯ          "
      ]
     },
     "metadata": {},
     "output_type": "display_data"
    }
   ],
   "source": [
    "beta = symbols(\"beta\")\n",
    "H = Dagger(b) * beta - conjugate(beta) * b\n",
    "U = exp(H)\n",
    "\n",
    "U"
   ]
  },
  {
   "cell_type": "code",
   "execution_count": null,
   "id": "4e1c76cf",
   "metadata": {},
   "outputs": [
    {
     "data": {
      "image/png": "[encoded data removed]",
      "text/latex": [
       "$$A \\left(- \\overline{\\beta} + {{b}^\\dagger}\\right) + \\Delta_{b} \\left(- \\overline{\\beta} + {{b}^\\dagger}\\right) \\left(- \\beta + {b}\\right) + \\kappa e^{i \\omega_{p} t} \\left({a}\\right)^{2} \\left(- \\overline{\\beta} + {{b}^\\dagger}\\right) + \\kappa e^{- i \\omega_{p} t} \\left({{a}^\\dagger}\\right)^{2} \\left(- \\beta + {b}\\right) + \\omega_{a} {{a}^\\dagger} {a} + \\overline{A} \\left(- \\beta + {b}\\right)$$"
      ],
      "text/plain": [
       "                                                                              \n",
       "  ⎛  _    †⎞       ⎛  _    †⎞               ⅈ⋅ω_p⋅t  2 ⎛  _    †⎞      -ⅈ⋅ω_p⋅\n",
       "A⋅⎝- β + b ⎠ + Δ_b⋅⎝- β + b ⎠⋅(-β + b) + κ⋅ℯ       ⋅a ⋅⎝- β + b ⎠ + κ⋅ℯ       \n",
       "\n",
       "      2                                \n",
       "t ⎛ †⎞                 †     _         \n",
       " ⋅⎝a ⎠ ⋅(-β + b) + ωₐ⋅a ⋅a + A⋅(-β + b)"
      ]
     },
     "metadata": {},
     "output_type": "display_data"
    }
   ],
   "source": [
    "H5 = hamiltonian_transformation(U, H4.expand(), independent=True)\n",
    "\n",
    "H5"
   ]
  },
  {
   "cell_type": "code",
   "execution_count": null,
   "id": "7338ed83",
   "metadata": {},
   "outputs": [
    {
     "data": {
      "image/png": "[encoded data removed]",
      "text/latex": [
       "$$- A \\overline{\\beta} + \\Delta_{b} \\beta \\overline{\\beta} + \\Delta_{b} {{b}^\\dagger} {b} - \\beta \\kappa e^{- i \\omega_{p} t} \\left({{a}^\\dagger}\\right)^{2} - \\beta \\overline{A} - \\kappa e^{i \\omega_{p} t} \\overline{\\beta} \\left({a}\\right)^{2} + \\kappa e^{i \\omega_{p} t} \\left({a}\\right)^{2} {{b}^\\dagger} + \\kappa e^{- i \\omega_{p} t} \\left({{a}^\\dagger}\\right)^{2} {b} + \\omega_{a} {{a}^\\dagger} {a} + \\left(A - \\Delta_{b} \\beta\\right) {{b}^\\dagger} + \\left(- \\Delta_{b} \\overline{\\beta} + \\overline{A}\\right) {b}$$"
      ],
      "text/plain": [
       "                                               2                              \n",
       "    _         _        †          -ⅈ⋅ω_p⋅t ⎛ †⎞      _      ⅈ⋅ω_p⋅t _  2      \n",
       "- A⋅β + Δ_b⋅β⋅β + Δ_b⋅b ⋅b - β⋅κ⋅ℯ        ⋅⎝a ⎠  - β⋅A - κ⋅ℯ       ⋅β⋅a  + κ⋅ℯ\n",
       "\n",
       "                                2                                             \n",
       "ⅈ⋅ω_p⋅t  2  †      -ⅈ⋅ω_p⋅t ⎛ †⎞          †                  †   ⎛      _   _⎞\n",
       "       ⋅a ⋅b  + κ⋅ℯ        ⋅⎝a ⎠ ⋅b + ωₐ⋅a ⋅a + (A - Δ_b⋅β)⋅b  + ⎝- Δ_b⋅β + A⎠\n",
       "\n",
       "  \n",
       "  \n",
       "⋅b"
      ]
     },
     "metadata": {},
     "output_type": "display_data"
    }
   ],
   "source": [
    "H5 = collect(H5.expand(), [Dagger(a) * a, Dagger(b) * b, Dagger(a) ** 2 * b, a ** 2 * Dagger(b), b, Dagger(b)])\n",
    "\n",
    "H5"
   ]
  },
  {
   "cell_type": "markdown",
   "id": "b11ad4d9",
   "metadata": {},
   "source": [
    "The choice $\\beta = A/\\Delta_b$ eliminates the drive terms. After dropping c numbers we have:"
   ]
  },
  {
   "cell_type": "code",
   "execution_count": null,
   "id": "14aa158b",
   "metadata": {},
   "outputs": [
    {
     "data": {
      "image/png": "[encoded data removed]",
      "text/latex": [
       "$$\\Delta_{b} {{b}^\\dagger} {b} + \\kappa e^{i \\omega_{p} t} \\left({a}\\right)^{2} \\left({{b}^\\dagger} - \\frac{\\overline{A}}{\\Delta_{b}}\\right) + \\kappa e^{- i \\omega_{p} t} \\left({{a}^\\dagger}\\right)^{2} \\left(- \\frac{A}{\\Delta_{b}} + {b}\\right) + \\omega_{a} {{a}^\\dagger} {a}$$"
      ],
      "text/plain": [
       "                         ⎛      _ ⎞                   2                      \n",
       "     †        ⅈ⋅ω_p⋅t  2 ⎜ †    A ⎟      -ⅈ⋅ω_p⋅t ⎛ †⎞  ⎛   A     ⎞       †  \n",
       "Δ_b⋅b ⋅b + κ⋅ℯ       ⋅a ⋅⎜b  - ───⎟ + κ⋅ℯ        ⋅⎝a ⎠ ⋅⎜- ─── + b⎟ + ωₐ⋅a ⋅a\n",
       "                         ⎝     Δ_b⎠                     ⎝  Δ_b    ⎠          "
      ]
     },
     "metadata": {},
     "output_type": "display_data"
    }
   ],
   "source": [
    "H6 = H5.subs(beta, A/Delta_b)\n",
    "\n",
    "H6 = drop_c_number_terms(H6)\n",
    "\n",
    "H6 = collect(H6, [exp( I * omega_p * t) * kappa * a ** 2,\n",
    "                  exp(-I * omega_p * t) * kappa * Dagger(a) ** 2])\n",
    "\n",
    "H6"
   ]
  },
  {
   "cell_type": "markdown",
   "id": "06702e71",
   "metadata": {},
   "source": [
    "If we now assume that the dynamics of the mode $b$ is dominated by the classical drive field, we can neglect the $b$ operators in the hamiltonian (in this displaced frame, which describes deviations from the dynamics induced by the classical driving field):"
   ]
  },
  {
   "cell_type": "code",
   "execution_count": null,
   "id": "79870ece",
   "metadata": {},
   "outputs": [
    {
     "data": {
      "image/png": "[encoded data removed]",
      "text/latex": [
       "$$\\omega_{a} {{a}^\\dagger} {a} + \\frac{\\kappa}{\\Delta_{b}} \\left(- A e^{- i \\omega_{p} t} \\left({{a}^\\dagger}\\right)^{2} - e^{i \\omega_{p} t} \\overline{A} \\left({a}\\right)^{2}\\right)$$"
      ],
      "text/plain": [
       "            ⎛                  2                ⎞\n",
       "            ⎜     -ⅈ⋅ω_p⋅t ⎛ †⎞     ⅈ⋅ω_p⋅t _  2⎟\n",
       "    †     κ⋅⎝- A⋅ℯ        ⋅⎝a ⎠  - ℯ       ⋅A⋅a ⎠\n",
       "ωₐ⋅a ⋅a + ───────────────────────────────────────\n",
       "                            Δ_b                  "
      ]
     },
     "metadata": {},
     "output_type": "display_data"
    }
   ],
   "source": [
    "H7 = drop_terms_containing(H6.expand(), [b, Dagger(b)])\n",
    "\n",
    "H7 = collect(H7, kappa / Delta_b)\n",
    "\n",
    "H7"
   ]
  },
  {
   "cell_type": "markdown",
   "id": "3080fa7a",
   "metadata": {},
   "source": [
    "To simpify the notation we redefine $- \\kappa A / \\Delta_b \\rightarrow \\kappa$, and assume that $A$ is real:"
   ]
  },
  {
   "cell_type": "code",
   "execution_count": null,
   "id": "5ab34279",
   "metadata": {},
   "outputs": [
    {
     "data": {
      "image/png": "[encoded data removed]",
      "text/latex": [
       "$$H = \\kappa \\left(e^{i \\omega_{p} t} \\left({a}\\right)^{2} + e^{- i \\omega_{p} t} \\left({{a}^\\dagger}\\right)^{2}\\right) + \\omega_{a} {{a}^\\dagger} {a}$$"
      ],
      "text/plain": [
       "      ⎛                            2⎞          \n",
       "      ⎜ ⅈ⋅ω_p⋅t  2    -ⅈ⋅ω_p⋅t ⎛ †⎞ ⎟       †  \n",
       "H = κ⋅⎝ℯ       ⋅a  + ℯ        ⋅⎝a ⎠ ⎠ + ωₐ⋅a ⋅a"
      ]
     },
     "metadata": {},
     "output_type": "display_data"
    }
   ],
   "source": [
    "H = omega_a * Dagger(a) * a  + kappa * (a ** 2 * exp(I * omega_p * t) + Dagger(a) ** 2 * exp(-I * omega_p * t))\n",
    "\n",
    "Eq(Hsym, H)"
   ]
  },
  {
   "cell_type": "markdown",
   "id": "244a89ef",
   "metadata": {},
   "source": [
    "To eliminate the time-dependence in the interaction term we move to a rotating frame using the unitary transformation:"
   ]
  },
  {
   "cell_type": "code",
   "execution_count": null,
   "id": "fe8c17be",
   "metadata": {},
   "outputs": [
    {
     "data": {
      "image/png": "[encoded data removed]",
      "text/latex": [
       "$$e^{i \\omega_{d} t {{a}^\\dagger} {a}}$$"
      ],
      "text/plain": [
       "          †  \n",
       " ⅈ⋅ω_d⋅t⋅a ⋅a\n",
       "ℯ            "
      ]
     },
     "metadata": {},
     "output_type": "display_data"
    }
   ],
   "source": [
    "U = exp(I * omega_d * t * Dagger(a) * a)\n",
    "\n",
    "U"
   ]
  },
  {
   "cell_type": "code",
   "execution_count": null,
   "id": "78665624",
   "metadata": {},
   "outputs": [
    {
     "data": {
      "image/png": "[encoded data removed]",
      "text/latex": [
       "$$\\kappa \\left(e^{2 i \\omega_{d} t} e^{- i \\omega_{p} t} \\left({{a}^\\dagger}\\right)^{2} + e^{- 2 i \\omega_{d} t} e^{i \\omega_{p} t} \\left({a}\\right)^{2}\\right) + \\omega_{a} {{a}^\\dagger} {a} - \\omega_{d} {{a}^\\dagger} {a}$$"
      ],
      "text/plain": [
       "  ⎛                         2                          ⎞                     \n",
       "  ⎜ 2⋅ⅈ⋅ω_d⋅t  -ⅈ⋅ω_p⋅t ⎛ †⎞     -2⋅ⅈ⋅ω_d⋅t  ⅈ⋅ω_p⋅t  2⎟       †          †  \n",
       "κ⋅⎝ℯ         ⋅ℯ        ⋅⎝a ⎠  + ℯ          ⋅ℯ       ⋅a ⎠ + ωₐ⋅a ⋅a - ω_d⋅a ⋅a"
      ]
     },
     "metadata": {},
     "output_type": "display_data"
    }
   ],
   "source": [
    "H2 = hamiltonian_transformation(U, H)\n",
    "\n",
    "H2"
   ]
  },
  {
   "cell_type": "markdown",
   "id": "90e29a13",
   "metadata": {},
   "source": [
    "Now consider the case $\\omega_p = 2 \\omega_d$:"
   ]
  },
  {
   "cell_type": "code",
   "execution_count": null,
   "id": "4486798f",
   "metadata": {},
   "outputs": [
    {
     "data": {
      "image/png": "[encoded data removed]",
      "text/latex": [
       "$$\\kappa \\left(\\left({{a}^\\dagger}\\right)^{2} + \\left({a}\\right)^{2}\\right) + \\left(\\omega_{a} - \\frac{\\omega_{p}}{2}\\right) {{a}^\\dagger} {a}$$"
      ],
      "text/plain": [
       "  ⎛    2     ⎞                  \n",
       "  ⎜⎛ †⎞     2⎟   ⎛     ω_p⎞  †  \n",
       "κ⋅⎝⎝a ⎠  + a ⎠ + ⎜ωₐ - ───⎟⋅a ⋅a\n",
       "                 ⎝      2 ⎠     "
      ]
     },
     "metadata": {},
     "output_type": "display_data"
    }
   ],
   "source": [
    "H3 = H2.subs(omega_d, omega_p/2)\n",
    "\n",
    "H3 = collect(H3, Dagger(a) * a)\n",
    "\n",
    "H3"
   ]
  },
  {
   "cell_type": "markdown",
   "id": "6224d11f",
   "metadata": {},
   "source": [
    "Introduce $\\Delta_a = \\omega_a - \\omega_p / 2$:"
   ]
  },
  {
   "cell_type": "code",
   "execution_count": null,
   "id": "f84d78c2",
   "metadata": {},
   "outputs": [
    {
     "data": {
      "image/png": "[encoded data removed]",
      "text/latex": [
       "$$\\Delta_{a} {{a}^\\dagger} {a} + \\kappa \\left(\\left({{a}^\\dagger}\\right)^{2} + \\left({a}\\right)^{2}\\right)$$"
      ],
      "text/plain": [
       "            ⎛    2     ⎞\n",
       "    †       ⎜⎛ †⎞     2⎟\n",
       "Δₐ⋅a ⋅a + κ⋅⎝⎝a ⎠  + a ⎠"
      ]
     },
     "metadata": {},
     "output_type": "display_data"
    }
   ],
   "source": [
    "H4 = H3.subs(omega_a, Delta_a + omega_p/2)\n",
    "\n",
    "H4"
   ]
  },
  {
   "cell_type": "markdown",
   "id": "13343498",
   "metadata": {},
   "source": [
    "We can diagonalize this Hamiltonian by introducing the squeezing transformation:"
   ]
  },
  {
   "cell_type": "code",
   "execution_count": null,
   "id": "00466d49",
   "metadata": {},
   "outputs": [],
   "source": [
    "chi = symbols(\"chi\")"
   ]
  },
  {
   "cell_type": "code",
   "execution_count": null,
   "id": "dff94703",
   "metadata": {},
   "outputs": [
    {
     "data": {
      "image/png": "[encoded data removed]",
      "text/latex": [
       "$$e^{- \\frac{\\chi \\left({{a}^\\dagger}\\right)^{2}}{2} + \\frac{\\chi \\left({a}\\right)^{2}}{2}}$$"
      ],
      "text/plain": [
       "         2       \n",
       "     ⎛ †⎞       2\n",
       "   χ⋅⎝a ⎠    χ⋅a \n",
       " - ─────── + ────\n",
       "      2       2  \n",
       "ℯ                "
      ]
     },
     "metadata": {},
     "output_type": "display_data"
    }
   ],
   "source": [
    "U = exp(chi/2 * a **2 - chi/2 * Dagger(a) ** 2)\n",
    "\n",
    "U"
   ]
  },
  {
   "cell_type": "markdown",
   "id": "7d85d354",
   "metadata": {},
   "source": [
    "which tranforms the operators $a$ and $a^\\dagger$ according to the well-known relations:"
   ]
  },
  {
   "cell_type": "code",
   "execution_count": null,
   "id": "565318e3",
   "metadata": {},
   "outputs": [
    {
     "data": {
      "image/png": "[encoded data removed]",
      "text/latex": [
       "$$\\sinh{\\left (\\chi \\right )} {{a}^\\dagger} + \\cosh{\\left (\\chi \\right )} {a}$$"
      ],
      "text/plain": [
       "         †            \n",
       "sinh(χ)⋅a  + cosh(χ)⋅a"
      ]
     },
     "metadata": {},
     "output_type": "display_data"
    }
   ],
   "source": [
    "hamiltonian_transformation(U, a)"
   ]
  },
  {
   "cell_type": "code",
   "execution_count": null,
   "id": "a66a24d2",
   "metadata": {},
   "outputs": [
    {
     "data": {
      "image/png": "[encoded data removed]",
      "text/latex": [
       "$$\\sinh{\\left (\\chi \\right )} {a} + \\cosh{\\left (\\chi \\right )} {{a}^\\dagger}$$"
      ],
      "text/plain": [
       "                     †\n",
       "sinh(χ)⋅a + cosh(χ)⋅a "
      ]
     },
     "metadata": {},
     "output_type": "display_data"
    }
   ],
   "source": [
    "hamiltonian_transformation(U, Dagger(a))"
   ]
  },
  {
   "cell_type": "markdown",
   "id": "e8de46d6",
   "metadata": {},
   "source": [
    "and in this frame the Hamiltonian takes the form:"
   ]
  },
  {
   "cell_type": "code",
   "execution_count": null,
   "id": "0dbda393",
   "metadata": {},
   "outputs": [
    {
     "data": {
      "image/png": "[encoded data removed]",
      "text/latex": [
       "$$\\Delta_{a} \\left(\\sinh{\\left (\\chi \\right )} {a} + \\cosh{\\left (\\chi \\right )} {{a}^\\dagger}\\right) \\left(\\sinh{\\left (\\chi \\right )} {{a}^\\dagger} + \\cosh{\\left (\\chi \\right )} {a}\\right) + \\kappa \\left(\\left(\\sinh{\\left (\\chi \\right )} {{a}^\\dagger} + \\cosh{\\left (\\chi \\right )} {a}\\right)^{2} + \\left(\\sinh{\\left (\\chi \\right )} {a} + \\cosh{\\left (\\chi \\right )} {{a}^\\dagger}\\right)^{2}\\right)$$"
      ],
      "text/plain": [
       "                                                         ⎛                    \n",
       "   ⎛                     †⎞ ⎛         †            ⎞     ⎜⎛         †         \n",
       "Δₐ⋅⎝sinh(χ)⋅a + cosh(χ)⋅a ⎠⋅⎝sinh(χ)⋅a  + cosh(χ)⋅a⎠ + κ⋅⎝⎝sinh(χ)⋅a  + cosh(χ\n",
       "\n",
       "    2                           2⎞\n",
       "   ⎞    ⎛                     †⎞ ⎟\n",
       ")⋅a⎠  + ⎝sinh(χ)⋅a + cosh(χ)⋅a ⎠ ⎠"
      ]
     },
     "metadata": {},
     "output_type": "display_data"
    }
   ],
   "source": [
    "H5 = hamiltonian_transformation(U, H4)\n",
    "\n",
    "H5"
   ]
  },
  {
   "cell_type": "code",
   "execution_count": null,
   "id": "b3382838",
   "metadata": {},
   "outputs": [
    {
     "data": {
      "image/png": "[encoded data removed]",
      "text/latex": [
       "$$\\left(\\Delta_{a} \\sinh^{2}{\\left (\\chi \\right )} + \\Delta_{a} \\cosh^{2}{\\left (\\chi \\right )} + 4 \\kappa \\sinh{\\left (\\chi \\right )} \\cosh{\\left (\\chi \\right )}\\right) {{a}^\\dagger} {a} + \\left(\\Delta_{a} \\sinh{\\left (\\chi \\right )} \\cosh{\\left (\\chi \\right )} + \\kappa \\sinh^{2}{\\left (\\chi \\right )} + \\kappa \\cosh^{2}{\\left (\\chi \\right )}\\right) \\left({{a}^\\dagger}\\right)^{2} + \\left(\\Delta_{a} \\sinh{\\left (\\chi \\right )} \\cosh{\\left (\\chi \\right )} + \\kappa \\sinh^{2}{\\left (\\chi \\right )} + \\kappa \\cosh^{2}{\\left (\\chi \\right )}\\right) \\left({a}\\right)^{2}$$"
      ],
      "text/plain": [
       "                                                                              \n",
       "⎛       2             2                         ⎞  †     ⎛                    \n",
       "⎝Δₐ⋅sinh (χ) + Δₐ⋅cosh (χ) + 4⋅κ⋅sinh(χ)⋅cosh(χ)⎠⋅a ⋅a + ⎝Δₐ⋅sinh(χ)⋅cosh(χ) +\n",
       "\n",
       "                              2                                               \n",
       "       2            2   ⎞ ⎛ †⎞    ⎛                           2            2  \n",
       " κ⋅sinh (χ) + κ⋅cosh (χ)⎠⋅⎝a ⎠  + ⎝Δₐ⋅sinh(χ)⋅cosh(χ) + κ⋅sinh (χ) + κ⋅cosh (χ\n",
       "\n",
       "     \n",
       " ⎞  2\n",
       ")⎠⋅a "
      ]
     },
     "metadata": {},
     "output_type": "display_data"
    }
   ],
   "source": [
    "H6 = normal_ordered_form(H5.expand(), independent=True)\n",
    "\n",
    "H6 = drop_c_number_terms(H6)\n",
    "\n",
    "H6 = collect(H6, [Dagger(a) * a, Dagger(a)**2, a**2])\n",
    "\n",
    "H6"
   ]
  },
  {
   "cell_type": "code",
   "execution_count": null,
   "id": "c95904b3",
   "metadata": {},
   "outputs": [
    {
     "data": {
      "image/png": "[encoded data removed]",
      "text/latex": [
       "$$\\left(\\Delta_{a} \\sinh^{2}{\\left (\\chi \\right )} + \\Delta_{a} \\cosh^{2}{\\left (\\chi \\right )} + 4 \\kappa \\sinh{\\left (\\chi \\right )} \\cosh{\\left (\\chi \\right )}\\right) {{a}^\\dagger} {a} + \\left(\\Delta_{a} \\sinh{\\left (\\chi \\right )} \\cosh{\\left (\\chi \\right )} + \\kappa \\sinh^{2}{\\left (\\chi \\right )} + \\kappa \\cosh^{2}{\\left (\\chi \\right )}\\right) \\left(\\left({{a}^\\dagger}\\right)^{2} + \\left({a}\\right)^{2}\\right)$$"
      ],
      "text/plain": [
       "                                                                              \n",
       "⎛       2             2                         ⎞  †     ⎛                    \n",
       "⎝Δₐ⋅sinh (χ) + Δₐ⋅cosh (χ) + 4⋅κ⋅sinh(χ)⋅cosh(χ)⎠⋅a ⋅a + ⎝Δₐ⋅sinh(χ)⋅cosh(χ) +\n",
       "\n",
       "                          ⎛    2     ⎞\n",
       "       2            2   ⎞ ⎜⎛ †⎞     2⎟\n",
       " κ⋅sinh (χ) + κ⋅cosh (χ)⎠⋅⎝⎝a ⎠  + a ⎠"
      ]
     },
     "metadata": {},
     "output_type": "display_data"
    }
   ],
   "source": [
    "H7 = collect(H6, H6.args[1].args[0])\n",
    "\n",
    "H7"
   ]
  },
  {
   "cell_type": "code",
   "execution_count": null,
   "id": "18ef0ce8",
   "metadata": {},
   "outputs": [
    {
     "data": {
      "image/png": "[encoded data removed]",
      "text/latex": [
       "$$\\left(\\frac{\\Delta_{a}}{2} \\sinh{\\left (2 \\chi \\right )} + \\kappa \\cosh{\\left (2 \\chi \\right )}\\right) \\left(\\left({{a}^\\dagger}\\right)^{2} + \\left({a}\\right)^{2}\\right) + \\left(\\Delta_{a} \\cosh{\\left (2 \\chi \\right )} + 2 \\kappa \\sinh{\\left (2 \\chi \\right )}\\right) {{a}^\\dagger} {a}$$"
      ],
      "text/plain": [
       "                             ⎛    2     ⎞                                     \n",
       "⎛Δₐ⋅sinh(2⋅χ)              ⎞ ⎜⎛ †⎞     2⎟                                   † \n",
       "⎜──────────── + κ⋅cosh(2⋅χ)⎟⋅⎝⎝a ⎠  + a ⎠ + (Δₐ⋅cosh(2⋅χ) + 2⋅κ⋅sinh(2⋅χ))⋅a ⋅\n",
       "⎝     2                    ⎠                                                  \n",
       "\n",
       " \n",
       " \n",
       "a\n",
       " "
      ]
     },
     "metadata": {},
     "output_type": "display_data"
    }
   ],
   "source": [
    "# Trick to simplify the coefficients for the quantum operators\n",
    "H8 = Add(*(simplify(arg.args[0]) * Mul(*(arg.args[1:])) for arg in H7.args))\n",
    "\n",
    "H8"
   ]
  },
  {
   "cell_type": "markdown",
   "id": "ff88431a",
   "metadata": {},
   "source": [
    "Now if we choose $\\chi$ such that the coefficient of $a^2 + {a^\\dagger}^2$ is zero:"
   ]
  },
  {
   "cell_type": "code",
   "execution_count": null,
   "id": "601089eb",
   "metadata": {},
   "outputs": [],
   "source": [
    "chi_eq = H8.args[0].args[0]"
   ]
  },
  {
   "cell_type": "code",
   "execution_count": null,
   "id": "87f357fe",
   "metadata": {},
   "outputs": [
    {
     "data": {
      "image/png": "[encoded data removed]",
      "text/latex": [
       "$$\\frac{\\Delta_{a}}{2} \\sinh{\\left (2 \\chi \\right )} + \\kappa \\cosh{\\left (2 \\chi \\right )} = 0$$"
      ],
      "text/plain": [
       "Δₐ⋅sinh(2⋅χ)                  \n",
       "──────────── + κ⋅cosh(2⋅χ) = 0\n",
       "     2                        "
      ]
     },
     "metadata": {},
     "output_type": "display_data"
    }
   ],
   "source": [
    "Eq(chi_eq, 0)"
   ]
  },
  {
   "cell_type": "code",
   "execution_count": null,
   "id": "653ae879",
   "metadata": {},
   "outputs": [
    {
     "data": {
      "image/png": "[encoded data removed]",
      "text/latex": [
       "$$\\chi = \\log{\\left (\\sqrt[4]{\\frac{\\Delta_{a} - 2 \\kappa}{\\Delta_{a} + 2 \\kappa}} \\right )}$$"
      ],
      "text/plain": [
       "       ⎛    __________⎞\n",
       "       ⎜   ╱ Δₐ - 2⋅κ ⎟\n",
       "χ = log⎜4 ╱  ──────── ⎟\n",
       "       ⎝╲╱   Δₐ + 2⋅κ ⎠"
      ]
     },
     "metadata": {},
     "output_type": "display_data"
    }
   ],
   "source": [
    "chi_sol = simplify(solve(chi_eq, chi)[3])\n",
    "\n",
    "Eq(chi, chi_sol)"
   ]
  },
  {
   "cell_type": "markdown",
   "id": "3301afb6",
   "metadata": {},
   "source": [
    "we obtain a diagonal Hamiltonian:"
   ]
  },
  {
   "cell_type": "code",
   "execution_count": null,
   "id": "4d9ce41a",
   "metadata": {},
   "outputs": [
    {
     "data": {
      "image/png": "[encoded data removed]",
      "text/latex": [
       "$$\\left(\\Delta_{a} \\cosh{\\left (2 \\chi \\right )} + 2 \\kappa \\sinh{\\left (2 \\chi \\right )}\\right) {{a}^\\dagger} {a}$$"
      ],
      "text/plain": [
       "                                †  \n",
       "(Δₐ⋅cosh(2⋅χ) + 2⋅κ⋅sinh(2⋅χ))⋅a ⋅a"
      ]
     },
     "metadata": {},
     "output_type": "display_data"
    }
   ],
   "source": [
    "H9 = H8.subs(chi_eq.args[0], -chi_eq.args[1])\n",
    "\n",
    "H9"
   ]
  },
  {
   "cell_type": "markdown",
   "id": "53caa9d1",
   "metadata": {},
   "source": [
    "with frequency:"
   ]
  },
  {
   "cell_type": "code",
   "execution_count": null,
   "id": "c25cc8c9",
   "metadata": {},
   "outputs": [
    {
     "data": {
      "image/png": "[encoded data removed]",
      "text/latex": [
       "$$\\omega = \\Delta_{a} \\cosh{\\left (2 \\chi \\right )} + 2 \\kappa \\sinh{\\left (2 \\chi \\right )}$$"
      ],
      "text/plain": [
       "ω = Δₐ⋅cosh(2⋅χ) + 2⋅κ⋅sinh(2⋅χ)"
      ]
     },
     "metadata": {},
     "output_type": "display_data"
    }
   ],
   "source": [
    "Eq(Symbol(\"omega\"), H9.args[0])"
   ]
  },
  {
   "cell_type": "markdown",
   "id": "8f6274a2",
   "metadata": {},
   "source": [
    "### Versions"
   ]
  },
  {
   "cell_type": "code",
   "execution_count": null,
   "id": "d44392cc",
   "metadata": {},
   "outputs": [
    {
     "data": {
      "application/json": {
       "Software versions": [
        {
         "module": "Python",
         "version": "3.4.1 (default, Sep 20 2014, 19:44:17) [GCC 4.2.1 Compatible Apple LLVM 5.1 (clang-503.0.40)]"
        },
        {
         "module": "IPython",
         "version": "2.3.0"
        },
        {
         "module": "OS",
         "version": "Darwin 13.4.0 x86_64 i386 64bit"
        },
        {
         "module": "sympy",
         "version": "0.7.5-git"
        },
        {
         "module": "sympsi",
         "version": "0.1.0.dev-0c6e514"
        }
       ]
      },
      "text/html": [
       "<table><tr><th>Software</th><th>Version</th></tr><tr><td>Python</td><td>3.4.1 (default, Sep 20 2014, 19:44:17) [GCC 4.2.1 Compatible Apple LLVM 5.1 (clang-503.0.40)]</td></tr><tr><td>IPython</td><td>2.3.0</td></tr><tr><td>OS</td><td>Darwin 13.4.0 x86_64 i386 64bit</td></tr><tr><td>sympy</td><td>0.7.5-git</td></tr><tr><td>sympsi</td><td>0.1.0.dev-0c6e514</td></tr><tr><td colspan='2'>Thu Oct 09 16:01:18 2014 JST</td></tr></table>"
      ],
      "text/latex": [
       "\\begin{tabular}{|l|l|}\\hline\n",
       "{\\bf Software} & {\\bf Version} \\\\ \\hline\\hline\n",
       "Python & 3.4.1 (default, Sep 20 2014, 19:44:17) [GCC 4.2.1 Compatible Apple LLVM 5.1 (clang-503.0.40)] \\\\ \\hline\n",
       "IPython & 2.3.0 \\\\ \\hline\n",
       "OS & Darwin 13.4.0 x86\\letterunderscore{}64 i386 64bit \\\\ \\hline\n",
       "sympy & 0.7.5-git \\\\ \\hline\n",
       "sympsi & 0.1.0.dev-0c6e514 \\\\ \\hline\n",
       "\\hline \\multicolumn{2}{|l|}{Thu Oct 09 16:01:18 2014 JST} \\\\ \\hline\n",
       "\\end{tabular}\n"
      ],
      "text/plain": [
       "Software versions\n",
       "Python 3.4.1 (default, Sep 20 2014, 19:44:17) [GCC 4.2.1 Compatible Apple LLVM 5.1 (clang-503.0.40)]\n",
       "IPython 2.3.0\n",
       "OS Darwin 13.4.0 x86_64 i386 64bit\n",
       "sympy 0.7.5-git\n",
       "sympsi 0.1.0.dev-0c6e514\n",
       "Thu Oct 09 16:01:18 2014 JST"
      ]
     },
     "metadata": {},
     "output_type": "display_data"
    }
   ],
   "source": [
    "%reload_ext version_information\n",
    "\n",
    "%version_information sympy, sympsi"
   ]
  },
  {
   "cell_type": "markdown",
   "id": "2beacf9e",
   "metadata": {},
   "source": [
    "# Lecture 4 - Symbolic quantum mechanics using SymPsi - Atom and cavity"
   ]
  },
  {
   "cell_type": "markdown",
   "id": "8f8ad307",
   "metadata": {},
   "source": [
    "<style>\n",
    "p {\n",
    "    font-family: \"Liberation Serif\", serif;\n",
    "    font-size: 12pt;\n",
    "}\n",
    "</style>"
   ]
  },
  {
   "cell_type": "markdown",
   "id": "454df45d",
   "metadata": {},
   "source": [
    "## Setup modules"
   ]
  },
  {
   "cell_type": "code",
   "execution_count": null,
   "id": "28523e85",
   "metadata": {},
   "outputs": [],
   "source": [
    "from sympy import *\n",
    "init_printing()"
   ]
  },
  {
   "cell_type": "code",
   "execution_count": null,
   "id": "2151db99",
   "metadata": {},
   "outputs": [],
   "source": [
    "from sympsi import *\n",
    "from sympsi.boson import *\n",
    "from sympsi.pauli import *"
   ]
  },
  {
   "cell_type": "markdown",
   "id": "b53e1000",
   "metadata": {},
   "source": [
    "## The Jaynes-Cummings model"
   ]
  },
  {
   "cell_type": "markdown",
   "id": "a9f49f40",
   "metadata": {},
   "source": [
    "The [Jaynes-Cummings model](http://en.wikipedia.org/wiki/Jaynes%E2%80%93Cummings_model) is one of the most elementary quantum mechanical models light-matter interaction. It describes a single two-level atom that interacts with a single harmonic-oscillator mode of a electromagnetic cavity.\n",
    "\n",
    "The Hamiltonian for a two-level system in its eigenbasis (see [Two-level systems](lecture-sympy-quantum-two-level-system.ipynb)) can be written as\n",
    "\n",
    "$$\n",
    "H = \\frac{1}{2}\\Omega \\sigma_z\n",
    "$$\n",
    "\n",
    "and the Hamiltonian of a quantum harmonic oscillator (see [Resonators and cavities](lecture-sympy-quantum-resonators.ipynb)) is\n",
    "\n",
    "$$\n",
    "H = \\hbar\\omega_r (a^\\dagger a + 1/2)\n",
    "$$\n",
    "\n",
    "The atom interacts with the electromagnetic field produced by the cavity mode $a + a^\\dagger$ through its dipole moment. The dipole-transition operators is $\\sigma_x$ (which cause a transition from the two dipole states of the atom). The combined atom-cavity Hamiltonian can therefore be written in the form\n",
    "\n",
    "$$\n",
    "H = \n",
    "\\hbar\\omega_r (a^\\dagger a + 1/2)\n",
    "+ \\frac{1}{2}\\hbar\\Omega\\sigma_z \n",
    "+\n",
    "\\hbar\n",
    "g\\sigma_x(a + a^\\dagger)\n",
    "$$\n"
   ]
  },
  {
   "cell_type": "markdown",
   "id": "694bd32b",
   "metadata": {},
   "source": [
    "To obtain the Jaynes-Cumming Hamiltonian \n",
    "\n",
    "$$\n",
    "H = \n",
    "\\hbar\\omega_r (a^\\dagger a + 1/2)\n",
    "%-\\frac{1}{2}\\Delta\\sigma_x \n",
    "+ \\frac{1}{2}\\hbar\\Omega\\sigma_z \n",
    "+\n",
    "\\hbar\n",
    "g(\\sigma_+ a + \\sigma_- a^\\dagger)\n",
    "$$\n",
    "\n",
    "we also need to perform a rotating-wave approximation which simplifies the interaction part of the Hamiltonian. In the following we will begin with looking at how these two Hamiltonians are related.\n",
    "\n",
    "To represent the atom-cavity Hamiltonian in SymPy we creates an instances of the operator classes `BosonOp` and `SigmaX`, `SigmaY`, and `SigmaZ`, and use these to construct the Hamiltonian (we work in units where $\\hbar = 1$)."
   ]
  },
  {
   "cell_type": "code",
   "execution_count": null,
   "id": "9e84164e",
   "metadata": {},
   "outputs": [],
   "source": [
    "omega_r, Omega, g, Delta, t, x, Hsym = symbols(\"omega_r, Omega, g, Delta, t, x, H\")"
   ]
  },
  {
   "cell_type": "code",
   "execution_count": null,
   "id": "19722b74",
   "metadata": {},
   "outputs": [],
   "source": [
    "sx, sy, sz, sm, sp = SigmaX(), SigmaY(), SigmaZ(), SigmaMinus(), SigmaPlus()\n",
    "a = BosonOp(\"a\")"
   ]
  },
  {
   "cell_type": "code",
   "execution_count": null,
   "id": "eba8d142",
   "metadata": {},
   "outputs": [
    {
     "data": {
      "image/png": "[encoded data removed]",
      "text/latex": [
       "$$H = \\frac{\\Omega {\\sigma_z}}{2} + g {\\sigma_x} \\left({{a}^\\dagger} + {a}\\right) + \\omega_{r} {{a}^\\dagger} {a}$$"
      ],
      "text/plain": [
       "    Ω⋅False           ⎛ †    ⎞       †  \n",
       "H = ─────── + g⋅False⋅⎝a  + a⎠ + ωᵣ⋅a ⋅a\n",
       "       2                                "
      ]
     },
     "metadata": {},
     "output_type": "display_data"
    }
   ],
   "source": [
    "H = omega_r * Dagger(a) * a + Omega/2 * sz + g * sx * (a + Dagger(a))\n",
    "\n",
    "Eq(Hsym, H)"
   ]
  },
  {
   "cell_type": "markdown",
   "id": "4c73d91e",
   "metadata": {},
   "source": [
    "To simplify the interaction term we carry out two unitary transformations that corresponds to moving to the interaction picture:"
   ]
  },
  {
   "cell_type": "code",
   "execution_count": null,
   "id": "ba5bf912",
   "metadata": {},
   "outputs": [
    {
     "data": {
      "image/png": "[encoded data removed]",
      "text/latex": [
       "$$e^{i \\omega_{r} t {{a}^\\dagger} {a}}$$"
      ],
      "text/plain": [
       "         †  \n",
       " ⅈ⋅ωᵣ⋅t⋅a ⋅a\n",
       "ℯ           "
      ]
     },
     "metadata": {},
     "output_type": "display_data"
    }
   ],
   "source": [
    "U = exp(I * omega_r * t * Dagger(a) * a)\n",
    "\n",
    "U"
   ]
  },
  {
   "cell_type": "code",
   "execution_count": null,
   "id": "fc228797",
   "metadata": {},
   "outputs": [
    {
     "data": {
      "image/png": "[encoded data removed]",
      "text/latex": [
       "$$\\frac{\\Omega {\\sigma_z}}{2} + g e^{i \\omega_{r} t} {\\sigma_x} {{a}^\\dagger} + g e^{- i \\omega_{r} t} {\\sigma_x} {a}$$"
      ],
      "text/plain": [
       "Ω⋅False      ⅈ⋅ωᵣ⋅t        †      -ⅈ⋅ωᵣ⋅t        \n",
       "─────── + g⋅ℯ      ⋅False⋅a  + g⋅ℯ       ⋅False⋅a\n",
       "   2                                             "
      ]
     },
     "metadata": {},
     "output_type": "display_data"
    }
   ],
   "source": [
    "H2 = hamiltonian_transformation(U, H.expand())\n",
    "\n",
    "H2"
   ]
  },
  {
   "cell_type": "code",
   "execution_count": null,
   "id": "2713b9cb",
   "metadata": {},
   "outputs": [
    {
     "data": {
      "image/png": "[encoded data removed]",
      "text/latex": [
       "$$e^{i \\Omega t {\\sigma_+} {\\sigma_-}}$$"
      ],
      "text/plain": [
       " ⅈ⋅Ω⋅t⋅False⋅False\n",
       "ℯ                 "
      ]
     },
     "metadata": {},
     "output_type": "display_data"
    }
   ],
   "source": [
    "U = exp(I * Omega * t * sp * sm)\n",
    "\n",
    "U"
   ]
  },
  {
   "cell_type": "code",
   "execution_count": null,
   "id": "0d634e77",
   "metadata": {},
   "outputs": [
    {
     "data": {
      "image/png": "[encoded data removed]",
      "text/latex": [
       "$$- \\frac{\\Omega}{2} \\left(1 + {\\sigma_z}\\right) + \\frac{\\Omega {\\sigma_z}}{2} + g e^{- i \\Omega t - i \\omega_{r} t} {\\sigma_-} {a} + g e^{- i \\Omega t + i \\omega_{r} t} {\\sigma_-} {{a}^\\dagger} + g e^{i \\Omega t - i \\omega_{r} t} {\\sigma_+} {a} + g e^{i \\Omega t + i \\omega_{r} t} {\\sigma_+} {{a}^\\dagger}$$"
      ],
      "text/plain": [
       "  Ω⋅(1 + False)   Ω⋅False      -ⅈ⋅Ω⋅t - ⅈ⋅ωᵣ⋅t              -ⅈ⋅Ω⋅t + ⅈ⋅ωᵣ⋅t   \n",
       "- ───────────── + ─────── + g⋅ℯ               ⋅False⋅a + g⋅ℯ               ⋅Fa\n",
       "        2            2                                                        \n",
       "\n",
       "     †      ⅈ⋅Ω⋅t - ⅈ⋅ωᵣ⋅t              ⅈ⋅Ω⋅t + ⅈ⋅ωᵣ⋅t        †\n",
       "lse⋅a  + g⋅ℯ              ⋅False⋅a + g⋅ℯ              ⋅False⋅a \n",
       "                                                               "
      ]
     },
     "metadata": {},
     "output_type": "display_data"
    }
   ],
   "source": [
    "H3 = hamiltonian_transformation(U, H2.expand())\n",
    "\n",
    "H3 = H3.subs(sx, sm + sp).expand()\n",
    "\n",
    "H3 = powsimp(H3)\n",
    "\n",
    "H3"
   ]
  },
  {
   "cell_type": "markdown",
   "id": "5db34014",
   "metadata": {},
   "source": [
    "We introduce the detuning parameter $\\Delta = \\Omega - \\omega_r$ and substitute into this expression"
   ]
  },
  {
   "cell_type": "code",
   "execution_count": null,
   "id": "b4c14e55",
   "metadata": {},
   "outputs": [],
   "source": [
    "# trick to simplify exponents\n",
    "def simplify_exp(e):\n",
    "    if isinstance(e, exp):\n",
    "        return exp(simplify(e.exp.expand()))\n",
    "\n",
    "    if isinstance(e, (Add, Mul)):\n",
    "        return type(e)(*(simplify_exp(arg) for arg in e.args)) \n",
    "\n",
    "    return e"
   ]
  },
  {
   "cell_type": "code",
   "execution_count": null,
   "id": "4c5d9fb5",
   "metadata": {},
   "outputs": [
    {
     "data": {
      "image/png": "[encoded data removed]",
      "text/latex": [
       "$$- \\frac{\\Omega}{2} \\left(1 + {\\sigma_z}\\right) + \\frac{\\Omega {\\sigma_z}}{2} + g e^{i \\Delta t} {\\sigma_+} {a} + g e^{i t \\left(\\Omega + \\omega_{r}\\right)} {\\sigma_+} {{a}^\\dagger} + g e^{- i t \\left(\\Omega + \\omega_{r}\\right)} {\\sigma_-} {a} + g e^{- i \\Delta t} {\\sigma_-} {{a}^\\dagger}$$"
      ],
      "text/plain": [
       "  Ω⋅(1 + False)   Ω⋅False      ⅈ⋅Δ⋅t              ⅈ⋅t⋅(Ω + ωᵣ)        †      -\n",
       "- ───────────── + ─────── + g⋅ℯ     ⋅False⋅a + g⋅ℯ            ⋅False⋅a  + g⋅ℯ \n",
       "        2            2                                                        \n",
       "\n",
       "ⅈ⋅t⋅(Ω + ωᵣ)              -ⅈ⋅Δ⋅t        †\n",
       "            ⋅False⋅a + g⋅ℯ      ⋅False⋅a \n",
       "                                         "
      ]
     },
     "metadata": {},
     "output_type": "display_data"
    }
   ],
   "source": [
    "H4 = simplify_exp(H3).subs(-omega_r + Omega, Delta)\n",
    "\n",
    "H4"
   ]
  },
  {
   "cell_type": "markdown",
   "id": "18c08f61",
   "metadata": {},
   "source": [
    "Now, in the rotating-wave approximation we can drop the fast oscillating terms containing the factors $e^{\\pm i(\\Omega + \\omega_r)t}$"
   ]
  },
  {
   "cell_type": "code",
   "execution_count": null,
   "id": "04dd93e2",
   "metadata": {},
   "outputs": [
    {
     "data": {
      "image/png": "[encoded data removed]",
      "text/latex": [
       "$$H = g e^{i \\Delta t} {\\sigma_+} {a} + g e^{- i \\Delta t} {\\sigma_-} {{a}^\\dagger}$$"
      ],
      "text/plain": [
       "       ⅈ⋅Δ⋅t              -ⅈ⋅Δ⋅t        †\n",
       "H = g⋅ℯ     ⋅False⋅a + g⋅ℯ      ⋅False⋅a "
      ]
     },
     "metadata": {},
     "output_type": "display_data"
    }
   ],
   "source": [
    "H5 = drop_terms_containing(H4, [exp( I * (Omega + omega_r) * t),\n",
    "                                exp(-I * (Omega + omega_r) * t)])\n",
    "\n",
    "H5 = drop_c_number_terms(H5.expand())\n",
    "\n",
    "Eq(Hsym, H5)"
   ]
  },
  {
   "cell_type": "markdown",
   "id": "dfd37031",
   "metadata": {},
   "source": [
    "This is the interaction term of in the Jaynes-Cumming model in the interaction picture. If we transform back to the Schrödinger picture we have:"
   ]
  },
  {
   "cell_type": "code",
   "execution_count": null,
   "id": "5d9ee2c6",
   "metadata": {},
   "outputs": [],
   "source": [
    "U = exp(-I * omega_r * t * Dagger(a) * a)\n",
    "H6 = hamiltonian_transformation(U, H5.expand())"
   ]
  },
  {
   "cell_type": "code",
   "execution_count": null,
   "id": "6154195d",
   "metadata": {},
   "outputs": [],
   "source": [
    "U = exp(-I * Omega * t * sp * sm)\n",
    "H7 = hamiltonian_transformation(U, H6.expand())"
   ]
  },
  {
   "cell_type": "code",
   "execution_count": null,
   "id": "bdf3331d",
   "metadata": {},
   "outputs": [
    {
     "data": {
      "image/png": "[encoded data removed]",
      "text/latex": [
       "$$H = \\frac{\\Omega {\\sigma_z}}{2} + g \\left({\\sigma_-} {{a}^\\dagger} + {\\sigma_+} {a}\\right) + \\omega_{r} {{a}^\\dagger} {a}$$"
      ],
      "text/plain": [
       "    Ω⋅False     ⎛       †          ⎞       †  \n",
       "H = ─────── + g⋅⎝False⋅a  + False⋅a⎠ + ωᵣ⋅a ⋅a\n",
       "       2                                      "
      ]
     },
     "metadata": {},
     "output_type": "display_data"
    }
   ],
   "source": [
    "H8 = simplify_exp(H7).subs(Delta, Omega - omega_r)\n",
    "\n",
    "H8 = simplify_exp(powsimp(H8)).expand()\n",
    "\n",
    "H8 = drop_c_number_terms(H8)\n",
    "\n",
    "H = collect(H8, g)\n",
    "\n",
    "Eq(Hsym, H)"
   ]
  },
  {
   "cell_type": "markdown",
   "id": "10ea34f2",
   "metadata": {},
   "source": [
    "This is the Jaynes-Cumming model give above, and we have now seen that it is obtained to the dipole interaction Hamiltonian through the rotating wave approximation."
   ]
  },
  {
   "cell_type": "markdown",
   "id": "e00630d2",
   "metadata": {},
   "source": [
    "## Dispersive regime"
   ]
  },
  {
   "cell_type": "markdown",
   "id": "f6b23c49",
   "metadata": {},
   "source": [
    "In the dispersive regime, where the two-level system is detuned from the cavity by much more than the interaction strength, $\\Delta \\gg g$, an effective Hamiltonian can be dervied which describes the Stark shift of the two-level system (which depends on the number of photons in the cavity) and the frequency shift of the cavity (which depend on the state of the two-level system).\n",
    "\n",
    "This effective Hamiltonian, which is correct up to second order in the small paramter $g/\\Delta$, is obtained by performing the unitary transformation\n",
    "\n",
    "$$\n",
    "U = e^{\\frac{g}{\\Delta}(a \\sigma_- - a^\\dagger \\sigma_+)}\n",
    "$$"
   ]
  },
  {
   "cell_type": "code",
   "execution_count": null,
   "id": "174875b4",
   "metadata": {},
   "outputs": [
    {
     "data": {
      "image/png": "[encoded data removed]",
      "text/latex": [
       "$$e^{- x {{a}^\\dagger} {\\sigma_-} + x {a} {\\sigma_+}}$$"
      ],
      "text/plain": [
       "      †                  \n",
       " - x⋅a ⋅False + x⋅a⋅False\n",
       "ℯ                        "
      ]
     },
     "metadata": {},
     "output_type": "display_data"
    }
   ],
   "source": [
    "U = exp((x * (a * sp - Dagger(a) * sm)).expand())\n",
    "\n",
    "U"
   ]
  },
  {
   "cell_type": "code",
   "execution_count": null,
   "id": "11400f97",
   "metadata": {},
   "outputs": [],
   "source": [
    "#H1 = unitary_transformation(U, H, allinone=True, expansion_search=False, N=3).expand()\n",
    "#H1 = qsimplify(H1)\n",
    "#H1"
   ]
  },
  {
   "cell_type": "code",
   "execution_count": null,
   "id": "a26c1bc9",
   "metadata": {},
   "outputs": [
    {
     "data": {
      "image/png": "[encoded data removed]",
      "text/latex": [
       "$$- \\frac{\\Omega x^{2}}{2} - \\Omega x^{2} {{a}^\\dagger} {a} {\\sigma_z} - \\frac{\\Omega x^{2}}{2} {\\sigma_z} - \\Omega x {{a}^\\dagger} {\\sigma_-} - \\Omega x {a} {\\sigma_+} + \\frac{\\Omega {\\sigma_z}}{2} + g x^{4} {{a}^\\dagger} \\left({a}\\right)^{2} {\\sigma_+} - \\frac{3 g}{4} x^{4} {{a}^\\dagger} {\\sigma_-} - g x^{4} \\left({{a}^\\dagger}\\right)^{2} {a} {\\sigma_-} + \\frac{5 g}{4} x^{4} {a} {\\sigma_+} - 2 g x^{2} {{a}^\\dagger} \\left({a}\\right)^{2} {\\sigma_+} - 2 g x^{2} {{a}^\\dagger} {\\sigma_-} - 2 g x^{2} \\left({{a}^\\dagger}\\right)^{2} {a} {\\sigma_-} - 2 g x^{2} {a} {\\sigma_+} + g x + 2 g x {{a}^\\dagger} {a} {\\sigma_z} + g x {\\sigma_z} + g {{a}^\\dagger} {\\sigma_-} + g {a} {\\sigma_+} + \\frac{\\omega_{r} x^{4}}{4} {{a}^\\dagger} {a} - \\frac{\\omega_{r} x^{3}}{2} {{a}^\\dagger} {\\sigma_-} - \\frac{\\omega_{r} x^{3}}{2} {a} {\\sigma_+} + \\frac{\\omega_{r} x^{2}}{2} + \\omega_{r} x^{2} {{a}^\\dagger} {a} {\\sigma_z} + \\frac{\\omega_{r} x^{2}}{2} {\\sigma_z} + \\omega_{r} x {{a}^\\dagger} {\\sigma_-} + \\omega_{r} x {a} {\\sigma_+} + \\omega_{r} {{a}^\\dagger} {a}$$"
      ],
      "text/plain": [
       "     2                        2                                               \n",
       "  Ω⋅x       2  †           Ω⋅x ⋅False        †                       Ω⋅False  \n",
       "- ──── - Ω⋅x ⋅a ⋅a⋅False - ────────── - Ω⋅x⋅a ⋅False - Ω⋅x⋅a⋅False + ─────── +\n",
       "   2                           2                                        2     \n",
       "\n",
       "                         4  †                  2                4             \n",
       "    4  †  2         3⋅g⋅x ⋅a ⋅False      4 ⎛ †⎞            5⋅g⋅x ⋅a⋅False     \n",
       " g⋅x ⋅a ⋅a ⋅False - ─────────────── - g⋅x ⋅⎝a ⎠ ⋅a⋅False + ────────────── - 2⋅\n",
       "                           4                                     4            \n",
       "\n",
       "                                                2                             \n",
       "   2  †  2              2  †              2 ⎛ †⎞                 2            \n",
       "g⋅x ⋅a ⋅a ⋅False - 2⋅g⋅x ⋅a ⋅False - 2⋅g⋅x ⋅⎝a ⎠ ⋅a⋅False - 2⋅g⋅x ⋅a⋅False + g\n",
       "                                                                              \n",
       "\n",
       "                                                                 4  †         \n",
       "            †                          †                     ωᵣ⋅x ⋅a ⋅a   ωᵣ⋅x\n",
       "⋅x + 2⋅g⋅x⋅a ⋅a⋅False + g⋅x⋅False + g⋅a ⋅False + g⋅a⋅False + ────────── - ────\n",
       "                                                                 4            \n",
       "\n",
       "3  †             3               2                          2                 \n",
       " ⋅a ⋅False   ωᵣ⋅x ⋅a⋅False   ωᵣ⋅x        2  †           ωᵣ⋅x ⋅False         † \n",
       "────────── - ───────────── + ───── + ωᵣ⋅x ⋅a ⋅a⋅False + ─────────── + ωᵣ⋅x⋅a ⋅\n",
       "  2                2           2                             2                \n",
       "\n",
       "                              \n",
       "                           †  \n",
       "False + ωᵣ⋅x⋅a⋅False + ωᵣ⋅a ⋅a\n",
       "                              "
      ]
     },
     "metadata": {},
     "output_type": "display_data"
    }
   ],
   "source": [
    "H1 = hamiltonian_transformation(U, H, expansion_search=False, N=3).expand()\n",
    "\n",
    "H1 = qsimplify(H1)\n",
    "\n",
    "H1"
   ]
  },
  {
   "cell_type": "code",
   "execution_count": null,
   "id": "9d04851d",
   "metadata": {},
   "outputs": [
    {
     "data": {
      "image/png": "[encoded data removed]",
      "text/latex": [
       "$$- \\frac{\\Omega x^{2}}{2} - \\Omega x^{2} {{a}^\\dagger} {a} {\\sigma_z} - \\frac{\\Omega x^{2}}{2} {\\sigma_z} - \\Omega x {{a}^\\dagger} {\\sigma_-} - \\Omega x {a} {\\sigma_+} + \\frac{\\Omega {\\sigma_z}}{2} - 2 g x^{2} {{a}^\\dagger} \\left({a}\\right)^{2} {\\sigma_+} - 2 g x^{2} {{a}^\\dagger} {\\sigma_-} - 2 g x^{2} \\left({{a}^\\dagger}\\right)^{2} {a} {\\sigma_-} - 2 g x^{2} {a} {\\sigma_+} + g x + 2 g x {{a}^\\dagger} {a} {\\sigma_z} + g x {\\sigma_z} + g {{a}^\\dagger} {\\sigma_-} + g {a} {\\sigma_+} + \\frac{\\omega_{r} x^{2}}{2} + \\omega_{r} x^{2} {{a}^\\dagger} {a} {\\sigma_z} + \\frac{\\omega_{r} x^{2}}{2} {\\sigma_z} + \\omega_{r} x {{a}^\\dagger} {\\sigma_-} + \\omega_{r} x {a} {\\sigma_+} + \\omega_{r} {{a}^\\dagger} {a}$$"
      ],
      "text/plain": [
       "     2                        2                                               \n",
       "  Ω⋅x       2  †           Ω⋅x ⋅False        †                       Ω⋅False  \n",
       "- ──── - Ω⋅x ⋅a ⋅a⋅False - ────────── - Ω⋅x⋅a ⋅False - Ω⋅x⋅a⋅False + ─────── -\n",
       "   2                           2                                        2     \n",
       "\n",
       "                                                   2                          \n",
       "      2  †  2              2  †              2 ⎛ †⎞                 2         \n",
       " 2⋅g⋅x ⋅a ⋅a ⋅False - 2⋅g⋅x ⋅a ⋅False - 2⋅g⋅x ⋅⎝a ⎠ ⋅a⋅False - 2⋅g⋅x ⋅a⋅False \n",
       "                                                                              \n",
       "\n",
       "                                                                    2         \n",
       "               †                          †                     ωᵣ⋅x        2 \n",
       "+ g⋅x + 2⋅g⋅x⋅a ⋅a⋅False + g⋅x⋅False + g⋅a ⋅False + g⋅a⋅False + ───── + ωᵣ⋅x ⋅\n",
       "                                                                  2           \n",
       "\n",
       "                 2                                               \n",
       " †           ωᵣ⋅x ⋅False         †                            †  \n",
       "a ⋅a⋅False + ─────────── + ωᵣ⋅x⋅a ⋅False + ωᵣ⋅x⋅a⋅False + ωᵣ⋅a ⋅a\n",
       "                  2                                              "
      ]
     },
     "metadata": {},
     "output_type": "display_data"
    }
   ],
   "source": [
    "H2 = drop_terms_containing(H1.expand(), [x**3, x**4])\n",
    "\n",
    "H2"
   ]
  },
  {
   "cell_type": "code",
   "execution_count": null,
   "id": "83d3519a",
   "metadata": {},
   "outputs": [
    {
     "data": {
      "image/png": "[encoded data removed]",
      "text/latex": [
       "$$\\frac{\\Omega {\\sigma_z}}{2} + g {{a}^\\dagger} {\\sigma_-} + g {a} {\\sigma_+} + \\omega_{r} {{a}^\\dagger} {a} - \\frac{\\Omega g}{\\Delta} {{a}^\\dagger} {\\sigma_-} - \\frac{\\Omega g}{\\Delta} {a} {\\sigma_+} + \\frac{g^{2}}{\\Delta} + \\frac{2 g^{2}}{\\Delta} {{a}^\\dagger} {a} {\\sigma_z} + \\frac{g^{2} {\\sigma_z}}{\\Delta} + \\frac{g \\omega_{r}}{\\Delta} {{a}^\\dagger} {\\sigma_-} + \\frac{g \\omega_{r}}{\\Delta} {a} {\\sigma_+} - \\frac{\\Omega g^{2}}{2 \\Delta^{2}} - \\frac{\\Omega g^{2}}{\\Delta^{2}} {{a}^\\dagger} {a} {\\sigma_z} - \\frac{\\Omega g^{2} {\\sigma_z}}{2 \\Delta^{2}} - \\frac{2 g^{3}}{\\Delta^{2}} {{a}^\\dagger} \\left({a}\\right)^{2} {\\sigma_+} - \\frac{2 g^{3}}{\\Delta^{2}} {{a}^\\dagger} {\\sigma_-} - \\frac{2 g^{3}}{\\Delta^{2}} \\left({{a}^\\dagger}\\right)^{2} {a} {\\sigma_-} - \\frac{2 g^{3}}{\\Delta^{2}} {a} {\\sigma_+} + \\frac{g^{2} \\omega_{r}}{2 \\Delta^{2}} + \\frac{g^{2} \\omega_{r}}{\\Delta^{2}} {{a}^\\dagger} {a} {\\sigma_z} + \\frac{g^{2} \\omega_{r} {\\sigma_z}}{2 \\Delta^{2}}$$"
      ],
      "text/plain": [
       "                                                                              \n",
       "                                                  †                        2  \n",
       "Ω⋅False      †                         †     Ω⋅g⋅a ⋅False   Ω⋅g⋅a⋅False   g   \n",
       "─────── + g⋅a ⋅False + g⋅a⋅False + ωᵣ⋅a ⋅a - ──────────── - ─────────── + ── +\n",
       "   2                                              Δ              Δ        Δ   \n",
       "                                                                              \n",
       "\n",
       "                                                                              \n",
       "    2  †            2               †                           2      2  †   \n",
       " 2⋅g ⋅a ⋅a⋅False   g ⋅False   g⋅ωᵣ⋅a ⋅False   g⋅ωᵣ⋅a⋅False   Ω⋅g    Ω⋅g ⋅a ⋅a⋅\n",
       " ─────────────── + ──────── + ───────────── + ──────────── - ──── - ──────────\n",
       "        Δ             Δ             Δ              Δ            2           2 \n",
       "                                                             2⋅Δ           Δ  \n",
       "\n",
       "                                                                 2            \n",
       "           2            3  †  2            3  †            3 ⎛ †⎞             \n",
       "False   Ω⋅g ⋅False   2⋅g ⋅a ⋅a ⋅False   2⋅g ⋅a ⋅False   2⋅g ⋅⎝a ⎠ ⋅a⋅False   2\n",
       "───── - ────────── - ──────────────── - ───────────── - ────────────────── - ─\n",
       "              2              2                 2                 2            \n",
       "           2⋅Δ              Δ                 Δ                 Δ             \n",
       "\n",
       "                                                    \n",
       "  3            2       2     †            2         \n",
       "⋅g ⋅a⋅False   g ⋅ωᵣ   g ⋅ωᵣ⋅a ⋅a⋅False   g ⋅ωᵣ⋅False\n",
       "─────────── + ───── + ──────────────── + ───────────\n",
       "     2            2           2                 2   \n",
       "    Δ          2⋅Δ           Δ               2⋅Δ    "
      ]
     },
     "metadata": {},
     "output_type": "display_data"
    }
   ],
   "source": [
    "H3 = H2.subs(x, g/Delta)\n",
    "\n",
    "H3"
   ]
  },
  {
   "cell_type": "code",
   "execution_count": null,
   "id": "418c2a04",
   "metadata": {},
   "outputs": [
    {
     "data": {
      "image/png": "[encoded data removed]",
      "text/latex": [
       "$$\\frac{\\Omega {\\sigma_z}}{2} + g {{a}^\\dagger} {\\sigma_-} + g {a} {\\sigma_+} + \\omega_{r} {{a}^\\dagger} {a} - \\frac{\\Omega g}{\\Delta} {{a}^\\dagger} {\\sigma_-} - \\frac{\\Omega g}{\\Delta} {a} {\\sigma_+} + \\frac{2 g^{2}}{\\Delta} {{a}^\\dagger} {a} {\\sigma_z} + \\frac{g^{2} {\\sigma_z}}{\\Delta} + \\frac{g \\omega_{r}}{\\Delta} {{a}^\\dagger} {\\sigma_-} + \\frac{g \\omega_{r}}{\\Delta} {a} {\\sigma_+} - \\frac{\\Omega g^{2}}{\\Delta^{2}} {{a}^\\dagger} {a} {\\sigma_z} - \\frac{\\Omega g^{2} {\\sigma_z}}{2 \\Delta^{2}} - \\frac{2 g^{3}}{\\Delta^{2}} {{a}^\\dagger} \\left({a}\\right)^{2} {\\sigma_+} - \\frac{2 g^{3}}{\\Delta^{2}} {{a}^\\dagger} {\\sigma_-} - \\frac{2 g^{3}}{\\Delta^{2}} \\left({{a}^\\dagger}\\right)^{2} {a} {\\sigma_-} - \\frac{2 g^{3}}{\\Delta^{2}} {a} {\\sigma_+} + \\frac{g^{2} \\omega_{r}}{\\Delta^{2}} {{a}^\\dagger} {a} {\\sigma_z} + \\frac{g^{2} \\omega_{r} {\\sigma_z}}{2 \\Delta^{2}}$$"
      ],
      "text/plain": [
       "                                                                              \n",
       "                                                  †                          2\n",
       "Ω⋅False      †                         †     Ω⋅g⋅a ⋅False   Ω⋅g⋅a⋅False   2⋅g \n",
       "─────── + g⋅a ⋅False + g⋅a⋅False + ωᵣ⋅a ⋅a - ──────────── - ─────────── + ────\n",
       "   2                                              Δ              Δ            \n",
       "                                                                              \n",
       "\n",
       "                                                                              \n",
       "  †            2               †                           2  †              2\n",
       "⋅a ⋅a⋅False   g ⋅False   g⋅ωᵣ⋅a ⋅False   g⋅ωᵣ⋅a⋅False   Ω⋅g ⋅a ⋅a⋅False   Ω⋅g \n",
       "─────────── + ──────── + ───────────── + ──────────── - ─────────────── - ────\n",
       "   Δ             Δ             Δ              Δ                 2             \n",
       "                                                               Δ             2\n",
       "\n",
       "                                                     2                        \n",
       "            3  †  2            3  †            3 ⎛ †⎞               3         \n",
       "⋅False   2⋅g ⋅a ⋅a ⋅False   2⋅g ⋅a ⋅False   2⋅g ⋅⎝a ⎠ ⋅a⋅False   2⋅g ⋅a⋅False \n",
       "────── - ──────────────── - ───────────── - ────────────────── - ──────────── \n",
       "  2              2                 2                 2                 2      \n",
       "⋅Δ              Δ                 Δ                 Δ                 Δ       \n",
       "\n",
       "                                \n",
       "   2     †            2         \n",
       "  g ⋅ωᵣ⋅a ⋅a⋅False   g ⋅ωᵣ⋅False\n",
       "+ ──────────────── + ───────────\n",
       "          2                 2   \n",
       "         Δ               2⋅Δ    "
      ]
     },
     "metadata": {},
     "output_type": "display_data"
    }
   ],
   "source": [
    "H4 = drop_c_number_terms(H3)\n",
    "\n",
    "H4"
   ]
  },
  {
   "cell_type": "code",
   "execution_count": null,
   "id": "206d8a7c",
   "metadata": {},
   "outputs": [
    {
     "data": {
      "image/png": "[encoded data removed]",
      "text/latex": [
       "$$g {{a}^\\dagger} {\\sigma_-} + g {a} {\\sigma_+} + \\left(\\frac{\\Omega}{2} + \\frac{g^{2}}{\\Delta} - \\frac{\\Omega g^{2}}{2 \\Delta^{2}} + \\frac{g^{2} \\omega_{r}}{2 \\Delta^{2}}\\right) {\\sigma_z} + {{a}^\\dagger} {a} \\left(\\omega_{r} + \\frac{2 g^{2}}{\\Delta} {\\sigma_z} - \\frac{\\Omega g^{2}}{\\Delta^{2}} {\\sigma_z} + \\frac{g^{2} \\omega_{r}}{\\Delta^{2}} {\\sigma_z}\\right) - \\frac{\\Omega g}{\\Delta} {{a}^\\dagger} {\\sigma_-} - \\frac{\\Omega g}{\\Delta} {a} {\\sigma_+} + \\frac{g \\omega_{r}}{\\Delta} {{a}^\\dagger} {\\sigma_-} + \\frac{g \\omega_{r}}{\\Delta} {a} {\\sigma_+} - \\frac{2 g^{3}}{\\Delta^{2}} {{a}^\\dagger} \\left({a}\\right)^{2} {\\sigma_+} - \\frac{2 g^{3}}{\\Delta^{2}} {{a}^\\dagger} {\\sigma_-} - \\frac{2 g^{3}}{\\Delta^{2}} \\left({{a}^\\dagger}\\right)^{2} {a} {\\sigma_-} - \\frac{2 g^{3}}{\\Delta^{2}} {a} {\\sigma_+}$$"
      ],
      "text/plain": [
       "                                                                              \n",
       "                         ⎛     2      2    2   ⎞              ⎛        2      \n",
       "   †                     ⎜Ω   g    Ω⋅g    g ⋅ωᵣ⎟          †   ⎜     2⋅g ⋅False\n",
       "g⋅a ⋅False + g⋅a⋅False + ⎜─ + ── - ──── + ─────⎟⋅False + a ⋅a⋅⎜ωᵣ + ──────────\n",
       "                         ⎜2   Δ       2       2⎟              ⎜         Δ     \n",
       "                         ⎝         2⋅Δ     2⋅Δ ⎠              ⎝               \n",
       "\n",
       "                                                                              \n",
       "      2          2         ⎞        †                             †           \n",
       "   Ω⋅g ⋅False   g ⋅ωᵣ⋅False⎟   Ω⋅g⋅a ⋅False   Ω⋅g⋅a⋅False   g⋅ωᵣ⋅a ⋅False   g⋅\n",
       " - ────────── + ───────────⎟ - ──────────── - ─────────── + ───────────── + ──\n",
       "        2             2    ⎟        Δ              Δ              Δ           \n",
       "       Δ             Δ     ⎠                                                  \n",
       "\n",
       "                                                         2                    \n",
       "                3  †  2            3  †            3 ⎛ †⎞               3     \n",
       "ωᵣ⋅a⋅False   2⋅g ⋅a ⋅a ⋅False   2⋅g ⋅a ⋅False   2⋅g ⋅⎝a ⎠ ⋅a⋅False   2⋅g ⋅a⋅Fa\n",
       "────────── - ──────────────── - ───────────── - ────────────────── - ─────────\n",
       "   Δ                 2                 2                 2                 2  \n",
       "                    Δ                 Δ                 Δ                 Δ   \n",
       "\n",
       "   \n",
       "   \n",
       "lse\n",
       "───\n",
       "   \n",
       "   "
      ]
     },
     "metadata": {},
     "output_type": "display_data"
    }
   ],
   "source": [
    "H5 = collect(H4, [Dagger(a) * a, sz])\n",
    "\n",
    "H5"
   ]
  },
  {
   "cell_type": "markdown",
   "id": "b4fe4e31",
   "metadata": {},
   "source": [
    "Now move to a frame co-rotating with the qubit and oscillator frequencies: "
   ]
  },
  {
   "cell_type": "code",
   "execution_count": null,
   "id": "c9f8e24d",
   "metadata": {},
   "outputs": [
    {
     "data": {
      "image/png": "[encoded data removed]",
      "text/latex": [
       "$$\\frac{\\Omega {\\sigma_z}}{2} + g {{a}^\\dagger} {\\sigma_-} + g {a} {\\sigma_+} + \\omega_{r} {{a}^\\dagger} {a} - \\frac{\\Omega g}{\\Delta} {{a}^\\dagger} {\\sigma_-} - \\frac{\\Omega g}{\\Delta} {a} {\\sigma_+} + \\frac{2 g^{2}}{\\Delta} {{a}^\\dagger} {a} {\\sigma_z} + \\frac{g^{2} {\\sigma_z}}{\\Delta} + \\frac{g \\omega_{r}}{\\Delta} {{a}^\\dagger} {\\sigma_-} + \\frac{g \\omega_{r}}{\\Delta} {a} {\\sigma_+} - \\frac{\\Omega g^{2}}{\\Delta^{2}} {{a}^\\dagger} {a} {\\sigma_z} - \\frac{\\Omega g^{2} {\\sigma_z}}{2 \\Delta^{2}} - \\frac{2 g^{3}}{\\Delta^{2}} {{a}^\\dagger} \\left({a}\\right)^{2} {\\sigma_+} - \\frac{2 g^{3}}{\\Delta^{2}} {{a}^\\dagger} {\\sigma_-} - \\frac{2 g^{3}}{\\Delta^{2}} \\left({{a}^\\dagger}\\right)^{2} {a} {\\sigma_-} - \\frac{2 g^{3}}{\\Delta^{2}} {a} {\\sigma_+} + \\frac{g^{2} \\omega_{r}}{\\Delta^{2}} {{a}^\\dagger} {a} {\\sigma_z} + \\frac{g^{2} \\omega_{r} {\\sigma_z}}{2 \\Delta^{2}}$$"
      ],
      "text/plain": [
       "                                                                              \n",
       "                                                  †                          2\n",
       "Ω⋅False      †                         †     Ω⋅g⋅a ⋅False   Ω⋅g⋅a⋅False   2⋅g \n",
       "─────── + g⋅a ⋅False + g⋅a⋅False + ωᵣ⋅a ⋅a - ──────────── - ─────────── + ────\n",
       "   2                                              Δ              Δ            \n",
       "                                                                              \n",
       "\n",
       "                                                                              \n",
       "  †            2               †                           2  †              2\n",
       "⋅a ⋅a⋅False   g ⋅False   g⋅ωᵣ⋅a ⋅False   g⋅ωᵣ⋅a⋅False   Ω⋅g ⋅a ⋅a⋅False   Ω⋅g \n",
       "─────────── + ──────── + ───────────── + ──────────── - ─────────────── - ────\n",
       "   Δ             Δ             Δ              Δ                 2             \n",
       "                                                               Δ             2\n",
       "\n",
       "                                                     2                        \n",
       "            3  †  2            3  †            3 ⎛ †⎞               3         \n",
       "⋅False   2⋅g ⋅a ⋅a ⋅False   2⋅g ⋅a ⋅False   2⋅g ⋅⎝a ⎠ ⋅a⋅False   2⋅g ⋅a⋅False \n",
       "────── - ──────────────── - ───────────── - ────────────────── - ──────────── \n",
       "  2              2                 2                 2                 2      \n",
       "⋅Δ              Δ                 Δ                 Δ                 Δ       \n",
       "\n",
       "                                \n",
       "   2     †            2         \n",
       "  g ⋅ωᵣ⋅a ⋅a⋅False   g ⋅ωᵣ⋅False\n",
       "+ ──────────────── + ───────────\n",
       "          2                 2   \n",
       "         Δ               2⋅Δ    "
      ]
     },
     "metadata": {},
     "output_type": "display_data"
    }
   ],
   "source": [
    "H5.expand()"
   ]
  },
  {
   "cell_type": "code",
   "execution_count": null,
   "id": "9463bdeb",
   "metadata": {},
   "outputs": [],
   "source": [
    "U = exp(I * omega_r * t * Dagger(a) * a)"
   ]
  },
  {
   "cell_type": "code",
   "execution_count": null,
   "id": "00523ccc",
   "metadata": {},
   "outputs": [
    {
     "data": {
      "image/png": "[encoded data removed]",
      "text/latex": [
       "$$\\frac{\\Omega {\\sigma_z}}{2} + g e^{i \\omega_{r} t} {{a}^\\dagger} {\\sigma_-} + g e^{- i \\omega_{r} t} {a} {\\sigma_+} - \\frac{\\Omega g}{\\Delta} e^{i \\omega_{r} t} {{a}^\\dagger} {\\sigma_-} - \\frac{\\Omega g}{\\Delta} e^{- i \\omega_{r} t} {a} {\\sigma_+} + \\frac{2 g^{2}}{\\Delta} {{a}^\\dagger} {a} {\\sigma_z} + \\frac{g^{2} {\\sigma_z}}{\\Delta} + \\frac{g \\omega_{r}}{\\Delta} e^{i \\omega_{r} t} {{a}^\\dagger} {\\sigma_-} + \\frac{g \\omega_{r}}{\\Delta} e^{- i \\omega_{r} t} {a} {\\sigma_+} - \\frac{\\Omega g^{2}}{\\Delta^{2}} {{a}^\\dagger} {a} {\\sigma_z} - \\frac{\\Omega g^{2} {\\sigma_z}}{2 \\Delta^{2}} - \\frac{2 g^{3}}{\\Delta^{2}} e^{i \\omega_{r} t} {{a}^\\dagger} {\\sigma_-} - \\frac{2 g^{3}}{\\Delta^{2}} e^{i \\omega_{r} t} \\left({{a}^\\dagger}\\right)^{2} {a} {\\sigma_-} - \\frac{2 g^{3}}{\\Delta^{2}} e^{- i \\omega_{r} t} {{a}^\\dagger} \\left({a}\\right)^{2} {\\sigma_+} - \\frac{2 g^{3}}{\\Delta^{2}} e^{- i \\omega_{r} t} {a} {\\sigma_+} + \\frac{g^{2} \\omega_{r}}{\\Delta^{2}} {{a}^\\dagger} {a} {\\sigma_z} + \\frac{g^{2} \\omega_{r} {\\sigma_z}}{2 \\Delta^{2}}$$"
      ],
      "text/plain": [
       "                                                                              \n",
       "                                                         ⅈ⋅ωᵣ⋅t  †            \n",
       "Ω⋅False      ⅈ⋅ωᵣ⋅t  †            -ⅈ⋅ωᵣ⋅t           Ω⋅g⋅ℯ      ⋅a ⋅False   Ω⋅g\n",
       "─────── + g⋅ℯ      ⋅a ⋅False + g⋅ℯ       ⋅a⋅False - ──────────────────── - ───\n",
       "   2                                                         Δ                \n",
       "                                                                              \n",
       "\n",
       "                                                                              \n",
       "  -ⅈ⋅ωᵣ⋅t              2  †            2               ⅈ⋅ωᵣ⋅t  †              \n",
       "⋅ℯ       ⋅a⋅False   2⋅g ⋅a ⋅a⋅False   g ⋅False   g⋅ωᵣ⋅ℯ      ⋅a ⋅False   g⋅ωᵣ⋅\n",
       "───────────────── + ─────────────── + ──────── + ───────────────────── + ─────\n",
       "      Δ                    Δ             Δ                 Δ                  \n",
       "                                                                              \n",
       "\n",
       "                                                                              \n",
       " -ⅈ⋅ωᵣ⋅t              2  †              2            3  ⅈ⋅ωᵣ⋅t  †            3\n",
       "ℯ       ⋅a⋅False   Ω⋅g ⋅a ⋅a⋅False   Ω⋅g ⋅False   2⋅g ⋅ℯ      ⋅a ⋅False   2⋅g \n",
       "──────────────── - ─────────────── - ────────── - ───────────────────── - ────\n",
       "     Δ                     2               2                 2                \n",
       "                          Δ             2⋅Δ                 Δ                 \n",
       "\n",
       "             2                                                                \n",
       "  ⅈ⋅ωᵣ⋅t ⎛ †⎞               3  -ⅈ⋅ωᵣ⋅t  †  2            3  -ⅈ⋅ωᵣ⋅t            \n",
       "⋅ℯ      ⋅⎝a ⎠ ⋅a⋅False   2⋅g ⋅ℯ       ⋅a ⋅a ⋅False   2⋅g ⋅ℯ       ⋅a⋅False   g\n",
       "────────────────────── - ───────────────────────── - ───────────────────── + ─\n",
       "         2                            2                         2             \n",
       "        Δ                            Δ                         Δ              \n",
       "\n",
       "                             \n",
       "2     †            2         \n",
       " ⋅ωᵣ⋅a ⋅a⋅False   g ⋅ωᵣ⋅False\n",
       "─────────────── + ───────────\n",
       "       2                 2   \n",
       "      Δ               2⋅Δ    "
      ]
     },
     "metadata": {},
     "output_type": "display_data"
    }
   ],
   "source": [
    "H6 = hamiltonian_transformation(U, H5.expand()); H6"
   ]
  },
  {
   "cell_type": "code",
   "execution_count": null,
   "id": "8bf345c6",
   "metadata": {},
   "outputs": [],
   "source": [
    "U = exp(I * Omega * t * Dagger(sm) * sm)"
   ]
  },
  {
   "cell_type": "code",
   "execution_count": null,
   "id": "bef49d23",
   "metadata": {},
   "outputs": [
    {
     "data": {
      "image/png": "[encoded data removed]",
      "text/latex": [
       "$$- \\Omega {\\sigma_+} {\\sigma_-} + \\frac{\\Omega {\\sigma_z}}{2} + g e^{i \\Omega t} e^{- i \\omega_{r} t} {a} {\\sigma_+} + g e^{- i \\Omega t} e^{i \\omega_{r} t} {{a}^\\dagger} {\\sigma_-} - \\frac{\\Omega g}{\\Delta} e^{i \\Omega t} e^{- i \\omega_{r} t} {a} {\\sigma_+} - \\frac{\\Omega g}{\\Delta} e^{- i \\Omega t} e^{i \\omega_{r} t} {{a}^\\dagger} {\\sigma_-} + \\frac{2 g^{2}}{\\Delta} {{a}^\\dagger} {a} {\\sigma_z} + \\frac{g^{2} {\\sigma_z}}{\\Delta} + \\frac{g \\omega_{r}}{\\Delta} e^{i \\Omega t} e^{- i \\omega_{r} t} {a} {\\sigma_+} + \\frac{g \\omega_{r}}{\\Delta} e^{- i \\Omega t} e^{i \\omega_{r} t} {{a}^\\dagger} {\\sigma_-} - \\frac{\\Omega g^{2}}{\\Delta^{2}} {{a}^\\dagger} {a} {\\sigma_z} - \\frac{\\Omega g^{2} {\\sigma_z}}{2 \\Delta^{2}} - \\frac{2 g^{3}}{\\Delta^{2}} e^{i \\Omega t} e^{- i \\omega_{r} t} {{a}^\\dagger} \\left({a}\\right)^{2} {\\sigma_+} - \\frac{2 g^{3}}{\\Delta^{2}} e^{i \\Omega t} e^{- i \\omega_{r} t} {a} {\\sigma_+} - \\frac{2 g^{3}}{\\Delta^{2}} e^{- i \\Omega t} e^{i \\omega_{r} t} {{a}^\\dagger} {\\sigma_-} - \\frac{2 g^{3}}{\\Delta^{2}} e^{- i \\Omega t} e^{i \\omega_{r} t} \\left({{a}^\\dagger}\\right)^{2} {a} {\\sigma_-} + \\frac{g^{2} \\omega_{r}}{\\Delta^{2}} {{a}^\\dagger} {a} {\\sigma_z} + \\frac{g^{2} \\omega_{r} {\\sigma_z}}{2 \\Delta^{2}}$$"
      ],
      "text/plain": [
       "                                                                              \n",
       "                                                                              \n",
       "                 Ω⋅False      ⅈ⋅Ω⋅t  -ⅈ⋅ωᵣ⋅t              -ⅈ⋅Ω⋅t  ⅈ⋅ωᵣ⋅t  †   \n",
       "-Ω⋅False⋅False + ─────── + g⋅ℯ     ⋅ℯ       ⋅a⋅False + g⋅ℯ      ⋅ℯ      ⋅a ⋅Fa\n",
       "                    2                                                         \n",
       "                                                                              \n",
       "\n",
       "                                                                              \n",
       "           ⅈ⋅Ω⋅t  -ⅈ⋅ωᵣ⋅t                -ⅈ⋅Ω⋅t  ⅈ⋅ωᵣ⋅t  †            2  †    \n",
       "      Ω⋅g⋅ℯ     ⋅ℯ       ⋅a⋅False   Ω⋅g⋅ℯ      ⋅ℯ      ⋅a ⋅False   2⋅g ⋅a ⋅a⋅F\n",
       "lse - ─────────────────────────── - ──────────────────────────── + ───────────\n",
       "                   Δ                             Δ                        Δ   \n",
       "                                                                              \n",
       "\n",
       "                                                                              \n",
       "        2               ⅈ⋅Ω⋅t  -ⅈ⋅ωᵣ⋅t                 -ⅈ⋅Ω⋅t  ⅈ⋅ωᵣ⋅t  †      \n",
       "alse   g ⋅False   g⋅ωᵣ⋅ℯ     ⋅ℯ       ⋅a⋅False   g⋅ωᵣ⋅ℯ      ⋅ℯ      ⋅a ⋅False\n",
       "──── + ──────── + ──────────────────────────── + ─────────────────────────────\n",
       "          Δ                    Δ                               Δ              \n",
       "                                                                              \n",
       "\n",
       "                                                                              \n",
       "      2  †              2            3  ⅈ⋅Ω⋅t  -ⅈ⋅ωᵣ⋅t  †  2            3  ⅈ⋅Ω\n",
       "   Ω⋅g ⋅a ⋅a⋅False   Ω⋅g ⋅False   2⋅g ⋅ℯ     ⋅ℯ       ⋅a ⋅a ⋅False   2⋅g ⋅ℯ   \n",
       " - ─────────────── - ────────── - ──────────────────────────────── - ─────────\n",
       "           2               2                      2                           \n",
       "          Δ             2⋅Δ                      Δ                            \n",
       "\n",
       "                                                                              \n",
       "⋅t  -ⅈ⋅ωᵣ⋅t              3  -ⅈ⋅Ω⋅t  ⅈ⋅ωᵣ⋅t  †            3  -ⅈ⋅Ω⋅t  ⅈ⋅ωᵣ⋅t ⎛ †\n",
       "  ⋅ℯ       ⋅a⋅False   2⋅g ⋅ℯ      ⋅ℯ      ⋅a ⋅False   2⋅g ⋅ℯ      ⋅ℯ      ⋅⎝a \n",
       "─────────────────── - ───────────────────────────── - ────────────────────────\n",
       "     2                               2                                 2      \n",
       "    Δ                               Δ                                 Δ       \n",
       "\n",
       " 2                                         \n",
       "⎞             2     †            2         \n",
       "⎠ ⋅a⋅False   g ⋅ωᵣ⋅a ⋅a⋅False   g ⋅ωᵣ⋅False\n",
       "────────── + ──────────────── + ───────────\n",
       "                     2                 2   \n",
       "                    Δ               2⋅Δ    "
      ]
     },
     "metadata": {},
     "output_type": "display_data"
    }
   ],
   "source": [
    "H7 = hamiltonian_transformation(U, H6.expand()); H7"
   ]
  },
  {
   "cell_type": "markdown",
   "id": "8c70973d",
   "metadata": {},
   "source": [
    "Now, since we are in the dispersive regime $|\\Omega-\\omega_r| \\gg g$, we can do a rotating-wave approximation and drop all the fast rotating terms in the Hamiltonian above:"
   ]
  },
  {
   "cell_type": "code",
   "execution_count": null,
   "id": "fe54014c",
   "metadata": {},
   "outputs": [
    {
     "data": {
      "image/png": "[encoded data removed]",
      "text/latex": [
       "$$- \\Omega {\\sigma_+} {\\sigma_-} + \\frac{\\Omega {\\sigma_z}}{2} + \\frac{2 g^{2}}{\\Delta} {{a}^\\dagger} {a} {\\sigma_z} + \\frac{g^{2} {\\sigma_z}}{\\Delta} - \\frac{\\Omega g^{2}}{\\Delta^{2}} {{a}^\\dagger} {a} {\\sigma_z} - \\frac{\\Omega g^{2} {\\sigma_z}}{2 \\Delta^{2}} + \\frac{g^{2} \\omega_{r}}{\\Delta^{2}} {{a}^\\dagger} {a} {\\sigma_z} + \\frac{g^{2} \\omega_{r} {\\sigma_z}}{2 \\Delta^{2}}$$"
      ],
      "text/plain": [
       "                              2  †            2            2  †              2\n",
       "                 Ω⋅False   2⋅g ⋅a ⋅a⋅False   g ⋅False   Ω⋅g ⋅a ⋅a⋅False   Ω⋅g \n",
       "-Ω⋅False⋅False + ─────── + ─────────────── + ──────── - ─────────────── - ────\n",
       "                    2             Δ             Δ               2             \n",
       "                                                               Δ             2\n",
       "\n",
       "          2     †            2         \n",
       "⋅False   g ⋅ωᵣ⋅a ⋅a⋅False   g ⋅ωᵣ⋅False\n",
       "────── + ──────────────── + ───────────\n",
       "  2              2                 2   \n",
       "⋅Δ              Δ               2⋅Δ    "
      ]
     },
     "metadata": {},
     "output_type": "display_data"
    }
   ],
   "source": [
    "H8 = drop_terms_containing(H7, [exp(I * omega_r * t), exp(-I * omega_r * t),\n",
    "                                exp(I * Omega * t), exp(-I * Omega * t)])\n",
    "\n",
    "H8"
   ]
  },
  {
   "cell_type": "code",
   "execution_count": null,
   "id": "34c86b91",
   "metadata": {},
   "outputs": [
    {
     "data": {
      "image/png": "[encoded data removed]",
      "text/latex": [
       "$$- \\frac{\\Omega}{2} + \\left(\\frac{g^{2}}{\\Delta} - \\frac{\\Omega g^{2}}{2 \\Delta^{2}} + \\frac{g^{2} \\omega_{r}}{2 \\Delta^{2}}\\right) {\\sigma_z} + {{a}^\\dagger} {a} \\left(\\frac{2 g^{2}}{\\Delta} {\\sigma_z} - \\frac{\\Omega g^{2}}{\\Delta^{2}} {\\sigma_z} + \\frac{g^{2} \\omega_{r}}{\\Delta^{2}} {\\sigma_z}\\right)$$"
      ],
      "text/plain": [
       "      ⎛ 2      2    2   ⎞              ⎛   2            2          2         ⎞\n",
       "  Ω   ⎜g    Ω⋅g    g ⋅ωᵣ⎟          †   ⎜2⋅g ⋅False   Ω⋅g ⋅False   g ⋅ωᵣ⋅False⎟\n",
       "- ─ + ⎜── - ──── + ─────⎟⋅False + a ⋅a⋅⎜────────── - ────────── + ───────────⎟\n",
       "  2   ⎜Δ       2       2⎟              ⎜    Δ             2             2    ⎟\n",
       "      ⎝     2⋅Δ     2⋅Δ ⎠              ⎝                 Δ             Δ     ⎠"
      ]
     },
     "metadata": {},
     "output_type": "display_data"
    }
   ],
   "source": [
    "H9 = qsimplify(H8)\n",
    "\n",
    "H9 = collect(H9, [Dagger(a) * a, sz])\n",
    "\n",
    "H9"
   ]
  },
  {
   "cell_type": "markdown",
   "id": "4383e276",
   "metadata": {},
   "source": [
    "Now move back to the lab frame:"
   ]
  },
  {
   "cell_type": "code",
   "execution_count": null,
   "id": "d2c3fd37",
   "metadata": {},
   "outputs": [],
   "source": [
    "U = exp(-I * omega_r * t * Dagger(a) * a)"
   ]
  },
  {
   "cell_type": "code",
   "execution_count": null,
   "id": "202c257b",
   "metadata": {},
   "outputs": [
    {
     "data": {
      "image/png": "[encoded data removed]",
      "text/latex": [
       "$$- \\frac{\\Omega}{2} + \\omega_{r} {{a}^\\dagger} {a} + \\frac{2 g^{2}}{\\Delta} {{a}^\\dagger} {a} {\\sigma_z} + \\frac{g^{2} {\\sigma_z}}{\\Delta} - \\frac{\\Omega g^{2}}{\\Delta^{2}} {{a}^\\dagger} {a} {\\sigma_z} - \\frac{\\Omega g^{2} {\\sigma_z}}{2 \\Delta^{2}} + \\frac{g^{2} \\omega_{r}}{\\Delta^{2}} {{a}^\\dagger} {a} {\\sigma_z} + \\frac{g^{2} \\omega_{r} {\\sigma_z}}{2 \\Delta^{2}}$$"
      ],
      "text/plain": [
       "                   2  †            2            2  †              2          2\n",
       "  Ω       †     2⋅g ⋅a ⋅a⋅False   g ⋅False   Ω⋅g ⋅a ⋅a⋅False   Ω⋅g ⋅False   g \n",
       "- ─ + ωᵣ⋅a ⋅a + ─────────────── + ──────── - ─────────────── - ────────── + ──\n",
       "  2                    Δ             Δ               2               2        \n",
       "                                                    Δ             2⋅Δ         \n",
       "\n",
       "     †            2         \n",
       "⋅ωᵣ⋅a ⋅a⋅False   g ⋅ωᵣ⋅False\n",
       "────────────── + ───────────\n",
       "      2                 2   \n",
       "     Δ               2⋅Δ    "
      ]
     },
     "metadata": {},
     "output_type": "display_data"
    }
   ],
   "source": [
    "H10 = hamiltonian_transformation(U, H9.expand()); H10"
   ]
  },
  {
   "cell_type": "code",
   "execution_count": null,
   "id": "ea97aaa3",
   "metadata": {},
   "outputs": [],
   "source": [
    "U = exp(-I * Omega * t * Dagger(sm) * sm)"
   ]
  },
  {
   "cell_type": "code",
   "execution_count": null,
   "id": "e09d118d",
   "metadata": {},
   "outputs": [
    {
     "data": {
      "image/png": "[encoded data removed]",
      "text/latex": [
       "$$- \\frac{\\Omega}{2} + \\Omega {\\sigma_+} {\\sigma_-} + \\omega_{r} {{a}^\\dagger} {a} + \\frac{2 g^{2}}{\\Delta} {{a}^\\dagger} {a} {\\sigma_z} + \\frac{g^{2} {\\sigma_z}}{\\Delta} - \\frac{\\Omega g^{2}}{\\Delta^{2}} {{a}^\\dagger} {a} {\\sigma_z} - \\frac{\\Omega g^{2} {\\sigma_z}}{2 \\Delta^{2}} + \\frac{g^{2} \\omega_{r}}{\\Delta^{2}} {{a}^\\dagger} {a} {\\sigma_z} + \\frac{g^{2} \\omega_{r} {\\sigma_z}}{2 \\Delta^{2}}$$"
      ],
      "text/plain": [
       "                                   2  †            2            2  †          \n",
       "  Ω                       †     2⋅g ⋅a ⋅a⋅False   g ⋅False   Ω⋅g ⋅a ⋅a⋅False  \n",
       "- ─ + Ω⋅False⋅False + ωᵣ⋅a ⋅a + ─────────────── + ──────── - ─────────────── -\n",
       "  2                                    Δ             Δ               2        \n",
       "                                                                    Δ         \n",
       "\n",
       "    2          2     †            2         \n",
       " Ω⋅g ⋅False   g ⋅ωᵣ⋅a ⋅a⋅False   g ⋅ωᵣ⋅False\n",
       " ────────── + ──────────────── + ───────────\n",
       "       2              2                 2   \n",
       "    2⋅Δ              Δ               2⋅Δ    "
      ]
     },
     "metadata": {},
     "output_type": "display_data"
    }
   ],
   "source": [
    "H11 = hamiltonian_transformation(U, H10.expand()); H11"
   ]
  },
  {
   "cell_type": "code",
   "execution_count": null,
   "id": "819a5706",
   "metadata": {},
   "outputs": [
    {
     "data": {
      "image/png": "[encoded data removed]",
      "text/latex": [
       "$$H = \\left(\\frac{\\Omega}{2} + \\frac{g^{2}}{2 \\Delta}\\right) {\\sigma_z} + {{a}^\\dagger} {a} \\left(\\omega_{r} + \\frac{g^{2} {\\sigma_z}}{\\Delta}\\right)$$"
      ],
      "text/plain": [
       "    ⎛      2⎞              ⎛      2      ⎞\n",
       "    ⎜Ω    g ⎟          †   ⎜     g ⋅False⎟\n",
       "H = ⎜─ + ───⎟⋅False + a ⋅a⋅⎜ωᵣ + ────────⎟\n",
       "    ⎝2   2⋅Δ⎠              ⎝        Δ    ⎠"
      ]
     },
     "metadata": {},
     "output_type": "display_data"
    }
   ],
   "source": [
    "H12 = qsimplify(H11)\n",
    "\n",
    "H12 = collect(H12, [Dagger(a) * a, sz])\n",
    "\n",
    "H12 = H12.subs(omega_r, Omega-Delta).expand().collect([Dagger(a)*a, sz]).subs(Omega-Delta,omega_r)\n",
    "\n",
    "Eq(Hsym, H12)"
   ]
  },
  {
   "cell_type": "markdown",
   "id": "f885a687",
   "metadata": {},
   "source": [
    "This is the Hamiltonian of the Jaynes-Cummings model in the the dispersive regime. It can be interpreted as the resonator having a qubit-state-dependent frequency shift, or alternatively that the qubit is feeling a resonator-photon-number dependent Stark-shift."
   ]
  },
  {
   "cell_type": "markdown",
   "id": "a3194ac0",
   "metadata": {},
   "source": [
    "## Versions"
   ]
  },
  {
   "cell_type": "code",
   "execution_count": null,
   "id": "28c3f986",
   "metadata": {},
   "outputs": [
    {
     "data": {
      "application/json": {
       "Software versions": [
        {
         "module": "Python",
         "version": "3.4.1 (default, Sep 20 2014, 19:44:17) [GCC 4.2.1 Compatible Apple LLVM 5.1 (clang-503.0.40)]"
        },
        {
         "module": "IPython",
         "version": "2.1.0"
        },
        {
         "module": "OS",
         "version": "Darwin 13.4.0 x86_64 i386 64bit"
        },
        {
         "module": "sympy",
         "version": "0.7.5-git"
        },
        {
         "module": "sympsi",
         "version": "0.1.0.dev-9060485"
        }
       ]
      },
      "text/html": [
       "<table><tr><th>Software</th><th>Version</th></tr><tr><td>Python</td><td>3.4.1 (default, Sep 20 2014, 19:44:17) [GCC 4.2.1 Compatible Apple LLVM 5.1 (clang-503.0.40)]</td></tr><tr><td>IPython</td><td>2.1.0</td></tr><tr><td>OS</td><td>Darwin 13.4.0 x86_64 i386 64bit</td></tr><tr><td>sympy</td><td>0.7.5-git</td></tr><tr><td>sympsi</td><td>0.1.0.dev-9060485</td></tr><tr><td colspan='2'>Thu Oct 09 16:25:51 2014 JST</td></tr></table>"
      ],
      "text/latex": [
       "\\begin{tabular}{|l|l|}\\hline\n",
       "{\\bf Software} & {\\bf Version} \\\\ \\hline\\hline\n",
       "Python & 3.4.1 (default, Sep 20 2014, 19:44:17) [GCC 4.2.1 Compatible Apple LLVM 5.1 (clang-503.0.40)] \\\\ \\hline\n",
       "IPython & 2.1.0 \\\\ \\hline\n",
       "OS & Darwin 13.4.0 x86\\letterunderscore{}64 i386 64bit \\\\ \\hline\n",
       "sympy & 0.7.5-git \\\\ \\hline\n",
       "sympsi & 0.1.0.dev-9060485 \\\\ \\hline\n",
       "\\hline \\multicolumn{2}{|l|}{Thu Oct 09 16:25:51 2014 JST} \\\\ \\hline\n",
       "\\end{tabular}\n"
      ],
      "text/plain": [
       "Software versions\n",
       "Python 3.4.1 (default, Sep 20 2014, 19:44:17) [GCC 4.2.1 Compatible Apple LLVM 5.1 (clang-503.0.40)]\n",
       "IPython 2.1.0\n",
       "OS Darwin 13.4.0 x86_64 i386 64bit\n",
       "sympy 0.7.5-git\n",
       "sympsi 0.1.0.dev-9060485\n",
       "Thu Oct 09 16:25:51 2014 JST"
      ]
     },
     "metadata": {},
     "output_type": "display_data"
    }
   ],
   "source": [
    "%reload_ext version_information\n",
    "\n",
    "%version_information sympy, sympsi"
   ]
  },
  {
   "cell_type": "markdown",
   "id": "552a235e",
   "metadata": {},
   "source": [
    "# Lecture 5 - Symbolic quantum mechanics using SymPsi - Optomechanics"
   ]
  },
  {
   "cell_type": "markdown",
   "id": "3861576a",
   "metadata": {},
   "source": [
    "<style>\n",
    "p {\n",
    "    font-family: \"Liberation Serif\", serif;\n",
    "    font-size: 12pt;\n",
    "}\n",
    "</style>"
   ]
  },
  {
   "cell_type": "markdown",
   "id": "dd76d154",
   "metadata": {},
   "source": [
    "## Setup modules"
   ]
  },
  {
   "cell_type": "code",
   "execution_count": null,
   "id": "a09e3727",
   "metadata": {},
   "outputs": [],
   "source": [
    "from sympy import *\n",
    "init_printing()"
   ]
  },
  {
   "cell_type": "code",
   "execution_count": null,
   "id": "e172f566",
   "metadata": {},
   "outputs": [],
   "source": [
    "from sympsi import *\n",
    "from sympsi.boson import *\n",
    "from sympsi.operatorordering import *"
   ]
  },
  {
   "cell_type": "markdown",
   "id": "58699796",
   "metadata": {},
   "source": [
    "## Optomechanical system"
   ]
  },
  {
   "cell_type": "markdown",
   "id": "2099ac9b",
   "metadata": {},
   "source": [
    "Consider the standard Hamiltonian for an optomechanical system, including a classical driving signal on the optical mode:\n",
    "\n",
    "$$\n",
    "H = \\hbar\\omega_a a^\\dagger a + \\hbar \\omega_b b^\\dagger b - \\hbar g a^\\dagger a (b + b^\\dagger) + (A e^{-i\\omega_d t} + A^* e^{i\\omega_d t})(a + a^\\dagger)\n",
    "$$\n",
    "\n"
   ]
  },
  {
   "cell_type": "code",
   "execution_count": null,
   "id": "ee12d350",
   "metadata": {},
   "outputs": [],
   "source": [
    "omega_a, omega_b, g, A, Delta, t = symbols(\"omega_a, omega_b, g, A, Delta, t\", positive=True)\n",
    "Hsym, omega_d = symbols(\"H, omega_d\")"
   ]
  },
  {
   "cell_type": "code",
   "execution_count": null,
   "id": "6044b692",
   "metadata": {},
   "outputs": [],
   "source": [
    "a, b = BosonOp(\"a\"), BosonOp(\"b\")"
   ]
  },
  {
   "cell_type": "code",
   "execution_count": null,
   "id": "26e80dd8",
   "metadata": {},
   "outputs": [
    {
     "data": {
      "image/png": "[encoded data removed]",
      "text/latex": [
       "$$H = - g {{a}^\\dagger} {a} \\left({{b}^\\dagger} + {b}\\right) + \\omega_{a} {{a}^\\dagger} {a} + \\omega_{b} {{b}^\\dagger} {b} + \\left(A e^{i \\omega_{d} t} + A e^{- i \\omega_{d} t}\\right) \\left({{a}^\\dagger} + {a}\\right)$$"
      ],
      "text/plain": [
       "         †   ⎛ †    ⎞       †          †     ⎛   ⅈ⋅ω_d⋅t      -ⅈ⋅ω_d⋅t⎞ ⎛ †   \n",
       "H = - g⋅a ⋅a⋅⎝b  + b⎠ + ωₐ⋅a ⋅a + ω_b⋅b ⋅b + ⎝A⋅ℯ        + A⋅ℯ        ⎠⋅⎝a  + \n",
       "\n",
       " ⎞\n",
       "a⎠"
      ]
     },
     "metadata": {},
     "output_type": "display_data"
    }
   ],
   "source": [
    "H0 = omega_a * Dagger(a) * a + omega_b * Dagger(b) * b - g * Dagger(a) * a * (b + Dagger(b))\n",
    "\n",
    "Hdrive = (A * exp(-I * omega_d * t) + conjugate(A) * exp(I * omega_d * t)) * (a + Dagger(a))\n",
    "\n",
    "H = H0 + Hdrive\n",
    "\n",
    "Eq(Hsym, H)"
   ]
  },
  {
   "cell_type": "markdown",
   "id": "6b2b93fa",
   "metadata": {},
   "source": [
    "### Linearized interaction"
   ]
  },
  {
   "cell_type": "markdown",
   "id": "fc4154d0",
   "metadata": {},
   "source": [
    "First we apply the unitary transformation $U = e^{i \\omega_d a^\\dagger a t}$:"
   ]
  },
  {
   "cell_type": "code",
   "execution_count": null,
   "id": "3c3040c4",
   "metadata": {},
   "outputs": [
    {
     "data": {
      "image/png": "[encoded data removed]",
      "text/latex": [
       "$$e^{i \\omega_{d} t {{a}^\\dagger} {a}}$$"
      ],
      "text/plain": [
       "          †  \n",
       " ⅈ⋅ω_d⋅t⋅a ⋅a\n",
       "ℯ            "
      ]
     },
     "metadata": {},
     "output_type": "display_data"
    }
   ],
   "source": [
    "U = exp(I * Dagger(a) * a * omega_d * t)\n",
    "\n",
    "U"
   ]
  },
  {
   "cell_type": "code",
   "execution_count": null,
   "id": "02d2aadd",
   "metadata": {},
   "outputs": [
    {
     "data": {
      "image/png": "[encoded data removed]",
      "text/latex": [
       "$$- g {{a}^\\dagger} {a} \\left({{b}^\\dagger} + {b}\\right) + \\omega_{a} {{a}^\\dagger} {a} + \\omega_{b} {{b}^\\dagger} {b} - \\omega_{d} {{a}^\\dagger} {a} + \\left(A e^{i \\omega_{d} t} + A e^{- i \\omega_{d} t}\\right) \\left(e^{i \\omega_{d} t} {{a}^\\dagger} + e^{- i \\omega_{d} t} {a}\\right)$$"
      ],
      "text/plain": [
       "     †   ⎛ †    ⎞       †          †          †     ⎛   ⅈ⋅ω_d⋅t      -ⅈ⋅ω_d⋅t⎞\n",
       "- g⋅a ⋅a⋅⎝b  + b⎠ + ωₐ⋅a ⋅a + ω_b⋅b ⋅b - ω_d⋅a ⋅a + ⎝A⋅ℯ        + A⋅ℯ        ⎠\n",
       "\n",
       " ⎛ ⅈ⋅ω_d⋅t  †    -ⅈ⋅ω_d⋅t  ⎞\n",
       "⋅⎝ℯ       ⋅a  + ℯ        ⋅a⎠"
      ]
     },
     "metadata": {},
     "output_type": "display_data"
    }
   ],
   "source": [
    "H1 = hamiltonian_transformation(U, H, independent=True)\n",
    "\n",
    "H1"
   ]
  },
  {
   "cell_type": "markdown",
   "id": "455d4855",
   "metadata": {},
   "source": [
    "We can now perform a rotating-wave approximation (RWA) by eliminating all terms that rotate with frequencies $2\\omega_d$:"
   ]
  },
  {
   "cell_type": "code",
   "execution_count": null,
   "id": "c50cd34a",
   "metadata": {},
   "outputs": [
    {
     "data": {
      "image/png": "[encoded data removed]",
      "text/latex": [
       "$$H_{{rwa}} = A {{a}^\\dagger} + A {a} - g {{a}^\\dagger} {a} {{b}^\\dagger} - g {{a}^\\dagger} {a} {b} + \\omega_{a} {{a}^\\dagger} {a} + \\omega_{b} {{b}^\\dagger} {b} - \\omega_{d} {{a}^\\dagger} {a}$$"
      ],
      "text/plain": [
       "             †            †    †      †           †          †          †  \n",
       "H_{rwa} = A⋅a  + A⋅a - g⋅a ⋅a⋅b  - g⋅a ⋅a⋅b + ωₐ⋅a ⋅a + ω_b⋅b ⋅b - ω_d⋅a ⋅a"
      ]
     },
     "metadata": {},
     "output_type": "display_data"
    }
   ],
   "source": [
    "H2 = drop_terms_containing(H1.expand(), [exp(-2*I*omega_d*t), exp(2*I*omega_d*t)])\n",
    "\n",
    "Eq(Symbol(\"H_{rwa}\"), H2)"
   ]
  },
  {
   "cell_type": "markdown",
   "id": "e6dea923",
   "metadata": {},
   "source": [
    "Introduce the detuning $\\Delta = \\omega_a - \\omega_d$:"
   ]
  },
  {
   "cell_type": "code",
   "execution_count": null,
   "id": "9280697a",
   "metadata": {},
   "outputs": [
    {
     "data": {
      "image/png": "[encoded data removed]",
      "text/latex": [
       "$$A {{a}^\\dagger} + A {a} + \\Delta {{a}^\\dagger} {a} - g {{a}^\\dagger} {a} {{b}^\\dagger} - g {{a}^\\dagger} {a} {b} + \\omega_{b} {{b}^\\dagger} {b}$$"
      ],
      "text/plain": [
       "   †            †        †    †      †            †  \n",
       "A⋅a  + A⋅a + Δ⋅a ⋅a - g⋅a ⋅a⋅b  - g⋅a ⋅a⋅b + ω_b⋅b ⋅b"
      ]
     },
     "metadata": {},
     "output_type": "display_data"
    }
   ],
   "source": [
    "H3 = H2.subs(omega_a, Delta + omega_d).expand()\n",
    "\n",
    "H3"
   ]
  },
  {
   "cell_type": "markdown",
   "id": "c28cae3d",
   "metadata": {},
   "source": [
    "To eliminate the coherent part of the state of the cavity mode we apply the unitary displacement operator $U = e^{\\alpha a^\\dagger - \\alpha^*a}$:"
   ]
  },
  {
   "cell_type": "code",
   "execution_count": null,
   "id": "c11414e9",
   "metadata": {},
   "outputs": [],
   "source": [
    "alpha = symbols(\"alpha\")"
   ]
  },
  {
   "cell_type": "code",
   "execution_count": null,
   "id": "c89a244a",
   "metadata": {},
   "outputs": [
    {
     "data": {
      "image/png": "[encoded data removed]",
      "text/latex": [
       "$$e^{\\alpha {{a}^\\dagger} - \\overline{\\alpha} {a}}$$"
      ],
      "text/plain": [
       "    †   _  \n",
       " α⋅a  - α⋅a\n",
       "ℯ          "
      ]
     },
     "metadata": {},
     "output_type": "display_data"
    }
   ],
   "source": [
    "UH = Dagger(a) * alpha - conjugate(alpha) * a\n",
    "U = exp(UH)\n",
    "\n",
    "U"
   ]
  },
  {
   "cell_type": "code",
   "execution_count": null,
   "id": "4563fbfb",
   "metadata": {},
   "outputs": [
    {
     "data": {
      "image/png": "[encoded data removed]",
      "text/latex": [
       "$$A \\left(- \\alpha + {a}\\right) + A \\left(- \\overline{\\alpha} + {{a}^\\dagger}\\right) + \\Delta \\left(- \\overline{\\alpha} + {{a}^\\dagger}\\right) \\left(- \\alpha + {a}\\right) - g \\left(- \\overline{\\alpha} + {{a}^\\dagger}\\right) \\left(- \\alpha + {a}\\right) {{b}^\\dagger} - g \\left(- \\overline{\\alpha} + {{a}^\\dagger}\\right) \\left(- \\alpha + {a}\\right) {b} + \\omega_{b} {{b}^\\dagger} {b}$$"
      ],
      "text/plain": [
       "               ⎛  _    †⎞     ⎛  _    †⎞              ⎛  _    †⎞           †  \n",
       "A⋅(-α + a) + A⋅⎝- α + a ⎠ + Δ⋅⎝- α + a ⎠⋅(-α + a) - g⋅⎝- α + a ⎠⋅(-α + a)⋅b  -\n",
       "\n",
       "   ⎛  _    †⎞                   †  \n",
       " g⋅⎝- α + a ⎠⋅(-α + a)⋅b + ω_b⋅b ⋅b"
      ]
     },
     "metadata": {},
     "output_type": "display_data"
    }
   ],
   "source": [
    "H4 = hamiltonian_transformation(U, H3, independent=True)\n",
    "\n",
    "H4"
   ]
  },
  {
   "cell_type": "markdown",
   "id": "ed7ca06a",
   "metadata": {},
   "source": [
    "Now want to cancel out the drivng terms so we set $A - \\Delta \\alpha = 0$, i.e. $\\alpha = A/\\Delta$:"
   ]
  },
  {
   "cell_type": "code",
   "execution_count": null,
   "id": "27a51adf",
   "metadata": {},
   "outputs": [
    {
     "data": {
      "image/png": "[encoded data removed]",
      "text/latex": [
       "$$- \\Delta \\alpha^{2} + \\Delta {{a}^\\dagger} {a} + \\alpha^{2} g \\left(- {{b}^\\dagger} - {b}\\right) + \\alpha g \\left({{a}^\\dagger} {{b}^\\dagger} + {{a}^\\dagger} {b} + {a} {{b}^\\dagger} + {a} {b}\\right) + g {{a}^\\dagger} {a} \\left(- {{b}^\\dagger} - {b}\\right) + \\omega_{b} {{b}^\\dagger} {b}$$"
      ],
      "text/plain": [
       "     2      †      2   ⎛   †    ⎞       ⎛ †  †    †        †      ⎞      †   ⎛\n",
       "- Δ⋅α  + Δ⋅a ⋅a + α ⋅g⋅⎝- b  - b⎠ + α⋅g⋅⎝a ⋅b  + a ⋅b + a⋅b  + a⋅b⎠ + g⋅a ⋅a⋅⎝\n",
       "\n",
       "   †    ⎞        †  \n",
       "- b  - b⎠ + ω_b⋅b ⋅b"
      ]
     },
     "metadata": {},
     "output_type": "display_data"
    }
   ],
   "source": [
    "H5 = H4.expand().subs({A: alpha * Delta, conjugate(alpha): alpha}) \n",
    "\n",
    "H5 = collect(H5, [g * Dagger(a) * a, - alpha * g])\n",
    "\n",
    "H5"
   ]
  },
  {
   "cell_type": "markdown",
   "id": "df1d972e",
   "metadata": {},
   "source": [
    "Drop C-numbers from the Hamiltonian:"
   ]
  },
  {
   "cell_type": "code",
   "execution_count": null,
   "id": "3a928978",
   "metadata": {},
   "outputs": [
    {
     "data": {
      "image/png": "[encoded data removed]",
      "text/latex": [
       "$$\\Delta {{a}^\\dagger} {a} + \\alpha^{2} g \\left(- {{b}^\\dagger} - {b}\\right) + \\alpha g \\left({{a}^\\dagger} {{b}^\\dagger} + {{a}^\\dagger} {b} + {a} {{b}^\\dagger} + {a} {b}\\right) + g {{a}^\\dagger} {a} \\left(- {{b}^\\dagger} - {b}\\right) + \\omega_{b} {{b}^\\dagger} {b}$$"
      ],
      "text/plain": [
       "   †      2   ⎛   †    ⎞       ⎛ †  †    †        †      ⎞      †   ⎛   †    ⎞\n",
       "Δ⋅a ⋅a + α ⋅g⋅⎝- b  - b⎠ + α⋅g⋅⎝a ⋅b  + a ⋅b + a⋅b  + a⋅b⎠ + g⋅a ⋅a⋅⎝- b  - b⎠\n",
       "\n",
       "        †  \n",
       " + ω_b⋅b ⋅b"
      ]
     },
     "metadata": {},
     "output_type": "display_data"
    }
   ],
   "source": [
    "H6 = drop_c_number_terms(H5)\n",
    "\n",
    "H6"
   ]
  },
  {
   "cell_type": "markdown",
   "id": "0bd7ad85",
   "metadata": {},
   "source": [
    "Now, if driving strength is large, so that $\\alpha \\gg 1$, we can drop the nonlinear interaction term, and we have an linear effective coupling:"
   ]
  },
  {
   "cell_type": "code",
   "execution_count": null,
   "id": "2f10960b",
   "metadata": {},
   "outputs": [
    {
     "data": {
      "image/png": "[encoded data removed]",
      "text/latex": [
       "$$H = \\Delta {{a}^\\dagger} {a} + \\alpha^{2} g \\left(- {{b}^\\dagger} - {b}\\right) + \\alpha g \\left({{a}^\\dagger} + {a}\\right) \\left({{b}^\\dagger} + {b}\\right) + \\omega_{b} {{b}^\\dagger} {b}$$"
      ],
      "text/plain": [
       "       †      2   ⎛   †    ⎞       ⎛ †    ⎞ ⎛ †    ⎞        †  \n",
       "H = Δ⋅a ⋅a + α ⋅g⋅⎝- b  - b⎠ + α⋅g⋅⎝a  + a⎠⋅⎝b  + b⎠ + ω_b⋅b ⋅b"
      ]
     },
     "metadata": {},
     "output_type": "display_data"
    }
   ],
   "source": [
    "H7 = H6.subs(g * Dagger(a) * a, 0)\n",
    "\n",
    "e = (a + Dagger(a)) * (b + Dagger(b))\n",
    "H7 = H7.subs(e.expand(), e)\n",
    "\n",
    "Eq(Hsym, H7)"
   ]
  },
  {
   "cell_type": "markdown",
   "id": "b3fef1ba",
   "metadata": {},
   "source": [
    "This linearlized optomechanical Hamiltonian has at least two interesting regimes:"
   ]
  },
  {
   "cell_type": "markdown",
   "id": "8a033f2b",
   "metadata": {},
   "source": [
    "### Red sideband"
   ]
  },
  {
   "cell_type": "markdown",
   "id": "ff5018b4",
   "metadata": {},
   "source": [
    "The red sideband regime occurs when the detuning is $\\Delta = \\omega_b$. In this case, if we move to a frame rotating with the driving field, we obtain:"
   ]
  },
  {
   "cell_type": "code",
   "execution_count": null,
   "id": "5eb13e09",
   "metadata": {},
   "outputs": [
    {
     "data": {
      "image/png": "[encoded data removed]",
      "text/latex": [
       "$$\\Delta {{a}^\\dagger} {a} + \\alpha^{2} g \\left(- {{b}^\\dagger} - {b}\\right) + \\alpha g \\left({{a}^\\dagger} + {a}\\right) \\left({{b}^\\dagger} + {b}\\right) + \\omega_{b} {{b}^\\dagger} {b}$$"
      ],
      "text/plain": [
       "   †      2   ⎛   †    ⎞       ⎛ †    ⎞ ⎛ †    ⎞        †  \n",
       "Δ⋅a ⋅a + α ⋅g⋅⎝- b  - b⎠ + α⋅g⋅⎝a  + a⎠⋅⎝b  + b⎠ + ω_b⋅b ⋅b"
      ]
     },
     "metadata": {},
     "output_type": "display_data"
    }
   ],
   "source": [
    "H1 = H7\n",
    "H1"
   ]
  },
  {
   "cell_type": "code",
   "execution_count": null,
   "id": "459daa3a",
   "metadata": {},
   "outputs": [
    {
     "data": {
      "image/png": "[encoded data removed]",
      "text/latex": [
       "$$e^{i \\Delta t {{a}^\\dagger} {a}}$$"
      ],
      "text/plain": [
       "        †  \n",
       " ⅈ⋅Δ⋅t⋅a ⋅a\n",
       "ℯ          "
      ]
     },
     "metadata": {},
     "output_type": "display_data"
    }
   ],
   "source": [
    "U = exp(I * Dagger(a) * a * Delta * t)\n",
    "U"
   ]
  },
  {
   "cell_type": "code",
   "execution_count": null,
   "id": "b6a84b30",
   "metadata": {},
   "outputs": [
    {
     "data": {
      "image/png": "[encoded data removed]",
      "text/latex": [
       "$$\\alpha^{2} g \\left(- {{b}^\\dagger} - {b}\\right) + \\alpha g \\left(e^{i \\Delta t} {{a}^\\dagger} + e^{- i \\Delta t} {a}\\right) \\left({{b}^\\dagger} + {b}\\right) + \\omega_{b} {{b}^\\dagger} {b}$$"
      ],
      "text/plain": [
       " 2   ⎛   †    ⎞       ⎛ ⅈ⋅Δ⋅t  †    -ⅈ⋅Δ⋅t  ⎞ ⎛ †    ⎞        †  \n",
       "α ⋅g⋅⎝- b  - b⎠ + α⋅g⋅⎝ℯ     ⋅a  + ℯ      ⋅a⎠⋅⎝b  + b⎠ + ω_b⋅b ⋅b"
      ]
     },
     "metadata": {},
     "output_type": "display_data"
    }
   ],
   "source": [
    "H2 = hamiltonian_transformation(U, H1, independent=True)\n",
    "H2"
   ]
  },
  {
   "cell_type": "code",
   "execution_count": null,
   "id": "90846d09",
   "metadata": {},
   "outputs": [
    {
     "data": {
      "image/png": "[encoded data removed]",
      "text/latex": [
       "$$e^{i \\omega_{b} t {{b}^\\dagger} {b}}$$"
      ],
      "text/plain": [
       "          †  \n",
       " ⅈ⋅ω_b⋅t⋅b ⋅b\n",
       "ℯ            "
      ]
     },
     "metadata": {},
     "output_type": "display_data"
    }
   ],
   "source": [
    "U = exp(I * Dagger(b) * b * omega_b * t)\n",
    "U"
   ]
  },
  {
   "cell_type": "code",
   "execution_count": null,
   "id": "32b3b84f",
   "metadata": {},
   "outputs": [
    {
     "data": {
      "image/png": "[encoded data removed]",
      "text/latex": [
       "$$\\alpha^{2} g \\left(- e^{i \\omega_{b} t} {{b}^\\dagger} - e^{- i \\omega_{b} t} {b}\\right) + \\alpha g \\left(e^{i \\Delta t} {{a}^\\dagger} + e^{- i \\Delta t} {a}\\right) \\left(e^{i \\omega_{b} t} {{b}^\\dagger} + e^{- i \\omega_{b} t} {b}\\right)$$"
      ],
      "text/plain": [
       " 2   ⎛   ⅈ⋅ω_b⋅t  †    -ⅈ⋅ω_b⋅t  ⎞       ⎛ ⅈ⋅Δ⋅t  †    -ⅈ⋅Δ⋅t  ⎞ ⎛ ⅈ⋅ω_b⋅t  † \n",
       "α ⋅g⋅⎝- ℯ       ⋅b  - ℯ        ⋅b⎠ + α⋅g⋅⎝ℯ     ⋅a  + ℯ      ⋅a⎠⋅⎝ℯ       ⋅b  \n",
       "\n",
       "   -ⅈ⋅ω_b⋅t  ⎞\n",
       "+ ℯ        ⋅b⎠"
      ]
     },
     "metadata": {},
     "output_type": "display_data"
    }
   ],
   "source": [
    "H3 = hamiltonian_transformation(U, H2, independent=True)\n",
    "H3"
   ]
  },
  {
   "cell_type": "markdown",
   "id": "26fbc485",
   "metadata": {},
   "source": [
    "If we substitute $\\Delta = \\omega_b$ we get:"
   ]
  },
  {
   "cell_type": "code",
   "execution_count": null,
   "id": "57493955",
   "metadata": {},
   "outputs": [
    {
     "data": {
      "image/png": "[encoded data removed]",
      "text/latex": [
       "$$- \\alpha^{2} g e^{i \\omega_{b} t} {{b}^\\dagger} - \\alpha^{2} g e^{- i \\omega_{b} t} {b} + \\alpha g e^{2 i \\omega_{b} t} {{a}^\\dagger} {{b}^\\dagger} + \\alpha g {{a}^\\dagger} {b} + \\alpha g {a} {{b}^\\dagger} + \\alpha g e^{- 2 i \\omega_{b} t} {a} {b}$$"
      ],
      "text/plain": [
       "   2    ⅈ⋅ω_b⋅t  †    2    -ⅈ⋅ω_b⋅t          2⋅ⅈ⋅ω_b⋅t  †  †        †         \n",
       "- α ⋅g⋅ℯ       ⋅b  - α ⋅g⋅ℯ        ⋅b + α⋅g⋅ℯ         ⋅a ⋅b  + α⋅g⋅a ⋅b + α⋅g⋅\n",
       "\n",
       "   †        -2⋅ⅈ⋅ω_b⋅t    \n",
       "a⋅b  + α⋅g⋅ℯ          ⋅a⋅b"
      ]
     },
     "metadata": {},
     "output_type": "display_data"
    }
   ],
   "source": [
    "H4 = H3.expand().subs(Delta, omega_b)\n",
    "H4"
   ]
  },
  {
   "cell_type": "markdown",
   "id": "21fc3ab9",
   "metadata": {},
   "source": [
    "Now we can do a rotating-wave approximation and get rid of terms rotating at angular frequencies $2\\omega_b$, and then transform back to the original frame:"
   ]
  },
  {
   "cell_type": "code",
   "execution_count": null,
   "id": "f7df0191",
   "metadata": {},
   "outputs": [
    {
     "data": {
      "image/png": "[encoded data removed]",
      "text/latex": [
       "$$- \\alpha^{2} g e^{i \\omega_{b} t} {{b}^\\dagger} - \\alpha^{2} g e^{- i \\omega_{b} t} {b} + \\alpha g {{a}^\\dagger} {b} + \\alpha g {a} {{b}^\\dagger}$$"
      ],
      "text/plain": [
       "   2    ⅈ⋅ω_b⋅t  †    2    -ⅈ⋅ω_b⋅t          †            †\n",
       "- α ⋅g⋅ℯ       ⋅b  - α ⋅g⋅ℯ        ⋅b + α⋅g⋅a ⋅b + α⋅g⋅a⋅b "
      ]
     },
     "metadata": {},
     "output_type": "display_data"
    }
   ],
   "source": [
    "H5 = drop_terms_containing(H4, [exp(+2 * I * omega_b * t), exp(-2 * I * omega_b * t)])\n",
    "H5"
   ]
  },
  {
   "cell_type": "code",
   "execution_count": null,
   "id": "e1ecfab7",
   "metadata": {},
   "outputs": [
    {
     "data": {
      "image/png": "[encoded data removed]",
      "text/latex": [
       "$$\\alpha^{2} \\left(- g {{b}^\\dagger} - g {b}\\right) + \\alpha \\left(g {{a}^\\dagger} {b} + g {a} {{b}^\\dagger}\\right) + \\omega_{b} {{a}^\\dagger} {a} + \\omega_{b} {{b}^\\dagger} {b}$$"
      ],
      "text/plain": [
       " 2 ⎛     †      ⎞     ⎛   †          †⎞        †          †  \n",
       "α ⋅⎝- g⋅b  - g⋅b⎠ + α⋅⎝g⋅a ⋅b + g⋅a⋅b ⎠ + ω_b⋅a ⋅a + ω_b⋅b ⋅b"
      ]
     },
     "metadata": {},
     "output_type": "display_data"
    }
   ],
   "source": [
    "U = exp(-I * Dagger(a) * a * omega_b * t)  # Delta = omega_b\n",
    "H6 = hamiltonian_transformation(U, H5, independent=True)\n",
    "U = exp(-I * Dagger(b) * b * omega_b * t)\n",
    "H7 = hamiltonian_transformation(U, H6, independent=True)\n",
    "H7 = collect(H7, [alpha**2, g])\n",
    "H7"
   ]
  },
  {
   "cell_type": "markdown",
   "id": "e2e619ff",
   "metadata": {},
   "source": [
    "Now the interaction term is $a^\\dagger b + ab^\\dagger$, which is a swapping interaction that can be used for state transfer or energy transfer in for example cooling application (side-band cooling)."
   ]
  },
  {
   "cell_type": "markdown",
   "id": "76d641da",
   "metadata": {},
   "source": [
    "### Blue sideband"
   ]
  },
  {
   "cell_type": "markdown",
   "id": "d08ea507",
   "metadata": {},
   "source": [
    "If, instead, we choose a driving frequency such that $\\Delta = -\\omega_b$, we obtain:"
   ]
  },
  {
   "cell_type": "code",
   "execution_count": null,
   "id": "1d27215a",
   "metadata": {},
   "outputs": [
    {
     "data": {
      "image/png": "[encoded data removed]",
      "text/latex": [
       "$$- \\alpha^{2} g e^{i \\omega_{b} t} {{b}^\\dagger} - \\alpha^{2} g e^{- i \\omega_{b} t} {b} + \\alpha g e^{2 i \\omega_{b} t} {a} {{b}^\\dagger} + \\alpha g {{a}^\\dagger} {{b}^\\dagger} + \\alpha g {a} {b} + \\alpha g e^{- 2 i \\omega_{b} t} {{a}^\\dagger} {b}$$"
      ],
      "text/plain": [
       "   2    ⅈ⋅ω_b⋅t  †    2    -ⅈ⋅ω_b⋅t          2⋅ⅈ⋅ω_b⋅t    †        †  †       \n",
       "- α ⋅g⋅ℯ       ⋅b  - α ⋅g⋅ℯ        ⋅b + α⋅g⋅ℯ         ⋅a⋅b  + α⋅g⋅a ⋅b  + α⋅g⋅\n",
       "\n",
       "           -2⋅ⅈ⋅ω_b⋅t  †  \n",
       "a⋅b + α⋅g⋅ℯ          ⋅a ⋅b"
      ]
     },
     "metadata": {},
     "output_type": "display_data"
    }
   ],
   "source": [
    "H4 = H3.expand().subs(Delta, -omega_b)\n",
    "H4"
   ]
  },
  {
   "cell_type": "markdown",
   "id": "392c653d",
   "metadata": {},
   "source": [
    "As before, we do a rotating-wave approximation to get rid of fast oscillating terms:"
   ]
  },
  {
   "cell_type": "code",
   "execution_count": null,
   "id": "40c075f3",
   "metadata": {},
   "outputs": [
    {
     "data": {
      "image/png": "[encoded data removed]",
      "text/latex": [
       "$$- \\alpha^{2} g e^{i \\omega_{b} t} {{b}^\\dagger} - \\alpha^{2} g e^{- i \\omega_{b} t} {b} + \\alpha g {{a}^\\dagger} {{b}^\\dagger} + \\alpha g {a} {b}$$"
      ],
      "text/plain": [
       "   2    ⅈ⋅ω_b⋅t  †    2    -ⅈ⋅ω_b⋅t          †  †          \n",
       "- α ⋅g⋅ℯ       ⋅b  - α ⋅g⋅ℯ        ⋅b + α⋅g⋅a ⋅b  + α⋅g⋅a⋅b"
      ]
     },
     "metadata": {},
     "output_type": "display_data"
    }
   ],
   "source": [
    "H5 = drop_terms_containing(H4, [exp(+2 * I * omega_b * t), exp(-2 * I * omega_b * t)])\n",
    "H5"
   ]
  },
  {
   "cell_type": "markdown",
   "id": "9dbeb0c8",
   "metadata": {},
   "source": [
    "and moving back to the original frame results in:"
   ]
  },
  {
   "cell_type": "code",
   "execution_count": null,
   "id": "1bd18e26",
   "metadata": {},
   "outputs": [
    {
     "data": {
      "image/png": "[encoded data removed]",
      "text/latex": [
       "$$\\alpha^{2} \\left(- g {{b}^\\dagger} - g {b}\\right) + \\alpha \\left(g {{a}^\\dagger} {{b}^\\dagger} + g {a} {b}\\right) - \\omega_{b} {{a}^\\dagger} {a} + \\omega_{b} {{b}^\\dagger} {b}$$"
      ],
      "text/plain": [
       " 2 ⎛     †      ⎞     ⎛   †  †        ⎞        †          †  \n",
       "α ⋅⎝- g⋅b  - g⋅b⎠ + α⋅⎝g⋅a ⋅b  + g⋅a⋅b⎠ - ω_b⋅a ⋅a + ω_b⋅b ⋅b"
      ]
     },
     "metadata": {},
     "output_type": "display_data"
    }
   ],
   "source": [
    "U = exp( I * Dagger(a) * a * omega_b * t)  # Delta = -omega_b\n",
    "H6 = hamiltonian_transformation(U, H5, independent=True)\n",
    "U = exp(-I * Dagger(b) * b * omega_b * t)\n",
    "H7 = hamiltonian_transformation(U, H6, independent=True)\n",
    "H7 = collect(H7, [alpha**2, g])\n",
    "H7"
   ]
  },
  {
   "cell_type": "markdown",
   "id": "5d0fdfab",
   "metadata": {},
   "source": [
    "Here, instead of a swap interaction we have obtained an interaction on the form $a^\\dagger b^\\dagger + a b$, which is the parametric amplification Hamiltonian. It can be used to parametrically amplify the states of the optical and mechanical modes, and generated interesting nonclassical states like Schrodinger-cat states."
   ]
  },
  {
   "cell_type": "markdown",
   "id": "36b191dc",
   "metadata": {},
   "source": [
    "## Nonlinear regime: effective Kerr nonlinearity"
   ]
  },
  {
   "cell_type": "markdown",
   "id": "720742d4",
   "metadata": {},
   "source": [
    "In the regime where $g \\sim \\omega_b$, the effect of the coupling to the mechanical mode $b$ on the optical mode $a$ is an effective Kerr-nonlinearity, i.e., a term on the form $(a^\\dagger a)^2$ in the Hamiltonian. To see this we can perform the so-called polariton defined by the unitary\n",
    "\n",
    "$$\n",
    "U = \\exp\\left(-\\frac{g}{\\omega_b} a^\\dagger a (b^\\dagger - b)\\right)\n",
    "$$"
   ]
  },
  {
   "cell_type": "code",
   "execution_count": null,
   "id": "706f670e",
   "metadata": {},
   "outputs": [
    {
     "data": {
      "image/png": "[encoded data removed]",
      "text/latex": [
       "$$- g {{a}^\\dagger} {a} \\left({{b}^\\dagger} + {b}\\right) + \\omega_{a} {{a}^\\dagger} {a} + \\omega_{b} {{b}^\\dagger} {b}$$"
      ],
      "text/plain": [
       "     †   ⎛ †    ⎞       †          †  \n",
       "- g⋅a ⋅a⋅⎝b  + b⎠ + ωₐ⋅a ⋅a + ω_b⋅b ⋅b"
      ]
     },
     "metadata": {},
     "output_type": "display_data"
    }
   ],
   "source": [
    "H0"
   ]
  },
  {
   "cell_type": "code",
   "execution_count": null,
   "id": "4401991a",
   "metadata": {},
   "outputs": [],
   "source": [
    "x = symbols(\"x\")"
   ]
  },
  {
   "cell_type": "code",
   "execution_count": null,
   "id": "66f7042e",
   "metadata": {},
   "outputs": [
    {
     "data": {
      "image/png": "[encoded data removed]",
      "text/latex": [
       "$$e^{- x {{a}^\\dagger} {a} \\left({{b}^\\dagger} - {b}\\right)}$$"
      ],
      "text/plain": [
       "     †   ⎛ †    ⎞\n",
       " -x⋅a ⋅a⋅⎝b  - b⎠\n",
       "ℯ                "
      ]
     },
     "metadata": {},
     "output_type": "display_data"
    }
   ],
   "source": [
    "U = exp(- x * Dagger(a) * a * (Dagger(b) - b))\n",
    "\n",
    "U"
   ]
  },
  {
   "cell_type": "code",
   "execution_count": null,
   "id": "5b4d20c5",
   "metadata": {},
   "outputs": [
    {
     "data": {
      "image/png": "[encoded data removed]",
      "text/latex": [
       "$$- g {{a}^\\dagger} {a} \\left({{b}^\\dagger} + {b}\\right) + \\omega_{a} {{a}^\\dagger} {a} + \\omega_{b} {{b}^\\dagger} {b}$$"
      ],
      "text/plain": [
       "     †   ⎛ †    ⎞       †          †  \n",
       "- g⋅a ⋅a⋅⎝b  + b⎠ + ωₐ⋅a ⋅a + ω_b⋅b ⋅b"
      ]
     },
     "metadata": {},
     "output_type": "display_data"
    }
   ],
   "source": [
    "H1 = H0.subs(A, 0)\n",
    "\n",
    "H1"
   ]
  },
  {
   "cell_type": "code",
   "execution_count": null,
   "id": "6a3a7efe",
   "metadata": {},
   "outputs": [
    {
     "data": {
      "image/png": "[encoded data removed]",
      "text/latex": [
       "$$- 2 g x^{3} {{a}^\\dagger} {a} + 2 g x^{3} {{a}^\\dagger} {a} \\left({b}\\right)^{2} - 4 g x^{3} {{a}^\\dagger} {{b}^\\dagger} {a} {b} + 2 g x^{3} {{a}^\\dagger} \\left({{b}^\\dagger}\\right)^{2} {a} - 2 g x^{3} \\left({{a}^\\dagger}\\right)^{2} \\left({a}\\right)^{2} + 2 g x^{3} \\left({{a}^\\dagger}\\right)^{2} \\left({a}\\right)^{2} \\left({b}\\right)^{2} - 4 g x^{3} \\left({{a}^\\dagger}\\right)^{2} {{b}^\\dagger} \\left({a}\\right)^{2} {b} + 2 g x^{3} \\left({{a}^\\dagger}\\right)^{2} \\left({{b}^\\dagger}\\right)^{2} \\left({a}\\right)^{2} + g x^{2} {{a}^\\dagger} {a} {b} + g x^{2} {{a}^\\dagger} {a} \\left({b}\\right)^{3} - 3 g x^{2} {{a}^\\dagger} {{b}^\\dagger} {a} - g x^{2} {{a}^\\dagger} {{b}^\\dagger} {a} \\left({b}\\right)^{2} - g x^{2} {{a}^\\dagger} \\left({{b}^\\dagger}\\right)^{2} {a} {b} + g x^{2} {{a}^\\dagger} \\left({{b}^\\dagger}\\right)^{3} {a} - 2 g x {{a}^\\dagger} {a} - 2 g x \\left({{a}^\\dagger}\\right)^{2} \\left({a}\\right)^{2} - g {{a}^\\dagger} {a} {b} - g {{a}^\\dagger} {{b}^\\dagger} {a} + \\omega_{a} x^{2} {{a}^\\dagger} {a} - \\omega_{a} x^{2} {{a}^\\dagger} {a} \\left({b}\\right)^{2} + 2 \\omega_{a} x^{2} {{a}^\\dagger} {{b}^\\dagger} {a} {b} - \\omega_{a} x^{2} {{a}^\\dagger} \\left({{b}^\\dagger}\\right)^{2} {a} + \\omega_{a} {{a}^\\dagger} {a} + \\omega_{b} x^{2} {{a}^\\dagger} {a} + \\omega_{b} x^{2} \\left({{a}^\\dagger}\\right)^{2} \\left({a}\\right)^{2} + \\omega_{b} x {{a}^\\dagger} {a} {b} + \\omega_{b} x {{a}^\\dagger} {{b}^\\dagger} {a} + \\omega_{b} {{b}^\\dagger} {b}$$"
      ],
      "text/plain": [
       "                                                                  2           \n",
       "       3  †          3  †    2        3  †  †            3  † ⎛ †⎞           3\n",
       "- 2⋅g⋅x ⋅a ⋅a + 2⋅g⋅x ⋅a ⋅a⋅b  - 4⋅g⋅x ⋅a ⋅b ⋅a⋅b + 2⋅g⋅x ⋅a ⋅⎝b ⎠ ⋅a - 2⋅g⋅x \n",
       "\n",
       "     2                 2                    2                      2     2    \n",
       " ⎛ †⎞   2        3 ⎛ †⎞   2  2        3 ⎛ †⎞   †  2          3 ⎛ †⎞  ⎛ †⎞   2 \n",
       "⋅⎝a ⎠ ⋅a  + 2⋅g⋅x ⋅⎝a ⎠ ⋅a ⋅b  - 4⋅g⋅x ⋅⎝a ⎠ ⋅b ⋅a ⋅b + 2⋅g⋅x ⋅⎝a ⎠ ⋅⎝b ⎠ ⋅a  \n",
       "\n",
       "                                                                              \n",
       "     2  †          2  †    3        2  †  †        2  †  †    2      2  † ⎛ †⎞\n",
       "+ g⋅x ⋅a ⋅a⋅b + g⋅x ⋅a ⋅a⋅b  - 3⋅g⋅x ⋅a ⋅b ⋅a - g⋅x ⋅a ⋅b ⋅a⋅b  - g⋅x ⋅a ⋅⎝b ⎠\n",
       "\n",
       "2                   3                            2                            \n",
       "           2  † ⎛ †⎞             †           ⎛ †⎞   2      †          †  †    \n",
       " ⋅a⋅b + g⋅x ⋅a ⋅⎝b ⎠ ⋅a - 2⋅g⋅x⋅a ⋅a - 2⋅g⋅x⋅⎝a ⎠ ⋅a  - g⋅a ⋅a⋅b - g⋅a ⋅b ⋅a +\n",
       "\n",
       "                                                               2              \n",
       "     2  †         2  †    2         2  †  †           2  † ⎛ †⎞          †    \n",
       " ωₐ⋅x ⋅a ⋅a - ωₐ⋅x ⋅a ⋅a⋅b  + 2⋅ωₐ⋅x ⋅a ⋅b ⋅a⋅b - ωₐ⋅x ⋅a ⋅⎝b ⎠ ⋅a + ωₐ⋅a ⋅a +\n",
       "\n",
       "                          2                                             \n",
       "      2  †          2 ⎛ †⎞   2          †              †  †          †  \n",
       " ω_b⋅x ⋅a ⋅a + ω_b⋅x ⋅⎝a ⎠ ⋅a  + ω_b⋅x⋅a ⋅a⋅b + ω_b⋅x⋅a ⋅b ⋅a + ω_b⋅b ⋅b"
      ]
     },
     "metadata": {},
     "output_type": "display_data"
    }
   ],
   "source": [
    "H2 = hamiltonian_transformation(U, H1, independent=True, expansion_search=False, N=2)\n",
    "\n",
    "H3 = normal_ordered_form(H2.expand(), independent=True)\n",
    "\n",
    "H3"
   ]
  },
  {
   "cell_type": "code",
   "execution_count": null,
   "id": "fea41cf1",
   "metadata": {},
   "outputs": [
    {
     "data": {
      "image/png": "[encoded data removed]",
      "text/latex": [
       "$$- \\frac{2 g^{2}}{\\omega_{b}} \\left({{a}^\\dagger}\\right)^{2} \\left({a}\\right)^{2} + \\omega_{b} {{b}^\\dagger} {b} + \\left(- \\frac{2 g^{2}}{\\omega_{b}} + \\omega_{a}\\right) {{a}^\\dagger} {a}$$"
      ],
      "text/plain": [
       "           2                                   \n",
       "     2 ⎛ †⎞   2              ⎛     2     ⎞     \n",
       "  2⋅g ⋅⎝a ⎠ ⋅a         †     ⎜  2⋅g      ⎟  †  \n",
       "- ───────────── + ω_b⋅b ⋅b + ⎜- ──── + ωₐ⎟⋅a ⋅a\n",
       "       ω_b                   ⎝  ω_b      ⎠     "
      ]
     },
     "metadata": {},
     "output_type": "display_data"
    }
   ],
   "source": [
    "H4 = H3.subs({x**2: 0, x**3: 0, x: g/omega_b})  # neglect higher order terms\n",
    "\n",
    "H4 = collect(H4, Dagger(a)*a)\n",
    "\n",
    "H4"
   ]
  },
  {
   "cell_type": "markdown",
   "id": "72954d59",
   "metadata": {},
   "source": [
    "In this Hamiltonian, the mechanical and optical mode is effectively decoupled, but the influence of the mechanical mode on the optical mode is described by the induced Kerr nonlinearity for the optical mode."
   ]
  },
  {
   "cell_type": "markdown",
   "id": "8e5cdfac",
   "metadata": {},
   "source": [
    "## Versions"
   ]
  },
  {
   "cell_type": "code",
   "execution_count": null,
   "id": "042bee0f",
   "metadata": {},
   "outputs": [
    {
     "data": {
      "application/json": {
       "Software versions": [
        {
         "module": "Python",
         "version": "3.4.1 (default, Sep 20 2014, 19:44:17) [GCC 4.2.1 Compatible Apple LLVM 5.1 (clang-503.0.40)]"
        },
        {
         "module": "IPython",
         "version": "2.3.0"
        },
        {
         "module": "OS",
         "version": "Darwin 13.4.0 x86_64 i386 64bit"
        },
        {
         "module": "sympy",
         "version": "0.7.5-git"
        },
        {
         "module": "sympsi",
         "version": "0.1.0.dev-0c6e514"
        }
       ]
      },
      "text/html": [
       "<table><tr><th>Software</th><th>Version</th></tr><tr><td>Python</td><td>3.4.1 (default, Sep 20 2014, 19:44:17) [GCC 4.2.1 Compatible Apple LLVM 5.1 (clang-503.0.40)]</td></tr><tr><td>IPython</td><td>2.3.0</td></tr><tr><td>OS</td><td>Darwin 13.4.0 x86_64 i386 64bit</td></tr><tr><td>sympy</td><td>0.7.5-git</td></tr><tr><td>sympsi</td><td>0.1.0.dev-0c6e514</td></tr><tr><td colspan='2'>Thu Oct 09 16:16:53 2014 JST</td></tr></table>"
      ],
      "text/latex": [
       "\\begin{tabular}{|l|l|}\\hline\n",
       "{\\bf Software} & {\\bf Version} \\\\ \\hline\\hline\n",
       "Python & 3.4.1 (default, Sep 20 2014, 19:44:17) [GCC 4.2.1 Compatible Apple LLVM 5.1 (clang-503.0.40)] \\\\ \\hline\n",
       "IPython & 2.3.0 \\\\ \\hline\n",
       "OS & Darwin 13.4.0 x86\\letterunderscore{}64 i386 64bit \\\\ \\hline\n",
       "sympy & 0.7.5-git \\\\ \\hline\n",
       "sympsi & 0.1.0.dev-0c6e514 \\\\ \\hline\n",
       "\\hline \\multicolumn{2}{|l|}{Thu Oct 09 16:16:53 2014 JST} \\\\ \\hline\n",
       "\\end{tabular}\n"
      ],
      "text/plain": [
       "Software versions\n",
       "Python 3.4.1 (default, Sep 20 2014, 19:44:17) [GCC 4.2.1 Compatible Apple LLVM 5.1 (clang-503.0.40)]\n",
       "IPython 2.3.0\n",
       "OS Darwin 13.4.0 x86_64 i386 64bit\n",
       "sympy 0.7.5-git\n",
       "sympsi 0.1.0.dev-0c6e514\n",
       "Thu Oct 09 16:16:53 2014 JST"
      ]
     },
     "metadata": {},
     "output_type": "display_data"
    }
   ],
   "source": [
    "%reload_ext version_information\n",
    "\n",
    "%version_information sympy, sympsi"
   ]
  },
  {
   "cell_type": "markdown",
   "id": "bf6cf848",
   "metadata": {},
   "source": [
    "# Lecture 7 - Symbolic quantum mechanics using SymPsi - Semiclassical equations of motion"
   ]
  },
  {
   "cell_type": "markdown",
   "id": "1337e64c",
   "metadata": {},
   "source": [
    "## Setup modules"
   ]
  },
  {
   "cell_type": "code",
   "execution_count": null,
   "id": "bfaa202b",
   "metadata": {},
   "outputs": [],
   "source": [
    "%matplotlib inline\n",
    "import matplotlib.pyplot as plt"
   ]
  },
  {
   "cell_type": "code",
   "execution_count": null,
   "id": "08f2f0fd",
   "metadata": {},
   "outputs": [],
   "source": [
    "import numpy as np"
   ]
  },
  {
   "cell_type": "code",
   "execution_count": null,
   "id": "d2f44e66",
   "metadata": {},
   "outputs": [],
   "source": [
    "from sympy import *\n",
    "init_printing()"
   ]
  },
  {
   "cell_type": "code",
   "execution_count": null,
   "id": "2125eaf2",
   "metadata": {},
   "outputs": [],
   "source": [
    "from sympsi import *\n",
    "from sympsi.boson import *\n",
    "from sympsi.pauli import *\n",
    "from sympsi.operatorordering import *\n",
    "from sympsi.expectation import *\n",
    "from sympsi.operator import OperatorFunction"
   ]
  },
  {
   "cell_type": "markdown",
   "id": "b4dfbdc4",
   "metadata": {},
   "source": [
    "## Semiclassical equations of motion"
   ]
  },
  {
   "cell_type": "markdown",
   "id": "5d19a070",
   "metadata": {},
   "source": [
    "The dynamics of an open quantum system with a given Hamiltonian, $H$, and some interaction with an environment that acts on the system through the sytem operator $a$, and with rate $\\kappa$, can often be described with a Lindblad master equation for the dynamics of the system density matrix $\\rho$:\n",
    "\n",
    "$$\n",
    "\\frac{d}{dt}\\rho = -i[H, \\rho] + \\kappa \\mathcal{D}[a]\\rho,\n",
    "$$\n",
    "\n",
    "where the Lindblad superoperator $\\mathcal{D}$ is\n",
    "\n",
    "$$\n",
    "\\mathcal{D}[a]\\rho = a \\rho a^\\dagger -\\frac{1}{2}\\rho a^\\dagger a - \\frac{1}{2}a^\\dagger a \\rho.\n",
    "$$\n",
    "\n",
    "One common approach to solve for the dynamics of this system is to represent the system operators and the density operator as matrices, possibly in a truncated state space, and solve the matrix-valued ODE problem numerically.\n",
    "\n",
    "Another approach is to use the adjoint master equation for the system operators $X$:\n",
    "\n",
    "$$\n",
    "\\frac{d}{dt} X =  i [H, X] + \\kappa \\mathcal{D}[a^\\dagger]X\n",
    "$$\n",
    "\n",
    "and then solve for dynamics of the expectation values of the relevant system operators. The advantage of this method is that the ODEs are no longer matrix-valued, unlike the ODE for the density matrix. However, from the density matrix we can calculate any same-time expectation values, but with explicit ODEs for expectation values we need to select in advance which operator's expectation values we want to generate equations for. \n",
    "\n",
    "We can easily generate an equation for the expectation value of a specific operator by multiplying the master equation for $\\rho$ from the left with an operator $X$, and then take the trace over the entire equation. Doing this we obtain:\n",
    "\n",
    "$$\n",
    "X\\frac{d}{dt}\\rho = -iX[H, \\rho] + \\kappa X\\mathcal{D}[a]\\rho\n",
    "$$\n",
    "\n",
    "and taking the trace:\n",
    "\n",
    "$$\n",
    "{\\rm Tr}\\left(X\\frac{d}{dt}\\rho\\right) = -i{\\rm Tr}\\left(X[H, \\rho]\\right) + \\kappa {\\rm Tr}\\left(X\\mathcal{D}[a]\\rho\\right)\n",
    "$$\n",
    "\n",
    "using the cyclic permutation properties of traces:\n",
    "\n",
    "$$\n",
    "\\frac{d}{dt}{\\rm Tr}\\left(X\\rho\\right) = -i{\\rm Tr}\\left([X, H]\\rho\\right) + \\kappa {\\rm Tr}\\left((\\mathcal{D}[a]X) \\rho\\right)\n",
    "$$\n",
    "\n",
    "we end up with an equation for the expectation value of the operator $X$:\n",
    "\n",
    "$$\n",
    "\\frac{d}{dt}\\langle X\\rangle \n",
    "= \n",
    "i\\langle [H, X] \\rangle + \\kappa \\langle \\mathcal{D}[a]X \\rangle\n",
    "$$\n",
    "\n",
    "Note that this is a C-number equation, and therefore not as complicated to solve as the master equation for the density matrix. However, the problem with this C-number equation is that the expressions $[H, X]$\n",
    " and $\\mathcal{D}[a]X$ in general will introduce dependencies on other system operators, so we obtain a system of coupled C-number equations. If this system of equations closes when a finite number of operators are included, then we can use this method to solve the dynamics of these expectation values exactly. If the system of equations do not close, which is often the case for coupled systems, then we can still use this method if we introduce some rule for truncating high-order operator expectation values (for example, by discarding high-order terms or by factoring them in expectation values of lower order). However, in this case the results are no longer exact, and is called a semi-classical equation of motion.\n",
    "\n",
    "With SymPsi we can automatically generate semiclassical equations of motion for operators in a system described by a given Hamiltonian and a set of collapse operators that describe its coupling to an environment."
   ]
  },
  {
   "cell_type": "markdown",
   "id": "8e740605",
   "metadata": {},
   "source": [
    "## Driven harmonic oscillator"
   ]
  },
  {
   "cell_type": "markdown",
   "id": "076bc88b",
   "metadata": {},
   "source": [
    "Consider a driven harmonic oscillator, which interaction with an bath at some temperature that corresponds to $N_{\\rm th}$ average photons. We begin by setting up symbolic variables for the problem parameters and the system operators in SymPsi: "
   ]
  },
  {
   "cell_type": "code",
   "execution_count": null,
   "id": "9da2b846",
   "metadata": {},
   "outputs": [],
   "source": [
    "w, t, Nth, Ad, kappa = symbols(r\"\\omega, t, n_{th}, A_d, kappa\", positive=True)"
   ]
  },
  {
   "cell_type": "code",
   "execution_count": null,
   "id": "5b4079be",
   "metadata": {},
   "outputs": [],
   "source": [
    "a = BosonOp(\"a\")\n",
    "rho = Operator(r\"\\rho\")\n",
    "rho_t = OperatorFunction(rho, t)"
   ]
  },
  {
   "cell_type": "code",
   "execution_count": null,
   "id": "1834234c",
   "metadata": {},
   "outputs": [
    {
     "data": {
      "image/png": "[encoded data removed]",
      "text/latex": [
       "$$H = A_{d} \\left({{a}^\\dagger} + {a}\\right) + \\omega {{a}^\\dagger} {a}$$"
      ],
      "text/plain": [
       "        ⎛ †    ⎞           †  \n",
       "H = A_d⋅⎝a  + a⎠ + \\omega⋅a ⋅a"
      ]
     },
     "metadata": {},
     "output_type": "display_data"
    }
   ],
   "source": [
    "H = w * Dagger(a) * a + Ad * (a + Dagger(a))\n",
    "\n",
    "Eq(Symbol(\"H\"), H)"
   ]
  },
  {
   "cell_type": "markdown",
   "id": "562ab0c6",
   "metadata": {},
   "source": [
    "The master equation for this system can be generated using the `master_equation` function:"
   ]
  },
  {
   "cell_type": "code",
   "execution_count": null,
   "id": "1b8597c2",
   "metadata": {},
   "outputs": [],
   "source": [
    "c_ops = [sqrt(kappa * (Nth + 1)) * a, sqrt(kappa * Nth) * Dagger(a)]"
   ]
  },
  {
   "cell_type": "code",
   "execution_count": null,
   "id": "13212ba5",
   "metadata": {},
   "outputs": [
    {
     "data": {
      "image/png": "[encoded data removed]",
      "text/latex": [
       "$$\\frac{\\partial}{\\partial t} {{\\rho}(t)} = \\kappa n_{{th}} {{a}^\\dagger} {{\\rho}(t)} {a} - \\frac{\\kappa n_{{th}}}{2} {a} {{a}^\\dagger} {{\\rho}(t)} - \\frac{\\kappa n_{{th}}}{2} {{\\rho}(t)} {a} {{a}^\\dagger} - \\frac{\\kappa {{a}^\\dagger}}{2} \\left(n_{{th}} + 1\\right) {a} {{\\rho}(t)} + \\kappa \\left(n_{{th}} + 1\\right) {a} {{\\rho}(t)} {{a}^\\dagger} - \\frac{\\kappa {{\\rho}(t)}}{2} \\left(n_{{th}} + 1\\right) {{a}^\\dagger} {a} - i \\left[A_{d} \\left({{a}^\\dagger} + {a}\\right) + \\omega {{a}^\\dagger} {a},{{\\rho}(t)}\\right]$$"
      ],
      "text/plain": [
       "                                                                              \n",
       "∂                                        †                              κ⋅n_{t\n",
       "──(OperatorFunction(\\rho,t)) = κ⋅n_{th}⋅a ⋅OperatorFunction(\\rho,t)⋅a - ──────\n",
       "∂t                                                                            \n",
       "\n",
       "      †                                                                 †     \n",
       "h}⋅a⋅a ⋅OperatorFunction(\\rho,t)   κ⋅n_{th}⋅OperatorFunction(\\rho,t)⋅a⋅a    κ⋅\n",
       "──────────────────────────────── - ────────────────────────────────────── - ──\n",
       "            2                                        2                        \n",
       "\n",
       "              †                                                               \n",
       "(n_{th} + 1)⋅a ⋅a⋅OperatorFunction(\\rho,t)                                    \n",
       "────────────────────────────────────────── + κ⋅(n_{th} + 1)⋅a⋅OperatorFunction\n",
       "                   2                                                          \n",
       "\n",
       "                                                       †                      \n",
       "          †   κ⋅(n_{th} + 1)⋅OperatorFunction(\\rho,t)⋅a ⋅a     ⎡    ⎛ †    ⎞  \n",
       "(\\rho,t)⋅a  - ──────────────────────────────────────────── - ⅈ⋅⎣A_d⋅⎝a  + a⎠ +\n",
       "                                   2                                          \n",
       "\n",
       "                                      \n",
       "         †                           ⎤\n",
       " \\omega⋅a ⋅a,OperatorFunction(\\rho,t)⎦\n",
       "                                      "
      ]
     },
     "metadata": {},
     "output_type": "display_data"
    }
   ],
   "source": [
    "me = master_equation(rho_t, t, H, c_ops)\n",
    "\n",
    "me"
   ]
  },
  {
   "cell_type": "markdown",
   "id": "fefe2d3f",
   "metadata": {},
   "source": [
    "Equation for the system operators can be generated using the function `operator_master_equation`, and for the specific case of the cavity operator $a$ we obtain:"
   ]
  },
  {
   "cell_type": "code",
   "execution_count": null,
   "id": "eeab8b01",
   "metadata": {},
   "outputs": [],
   "source": [
    "# first setup time-dependent operators\n",
    "a_t = OperatorFunction(a, t)\n",
    "a_to_a_t = {a: a_t, Dagger(a): Dagger(a_t)}\n",
    "H_t = H.subs(a_to_a_t)\n",
    "c_ops_t = [c.subs(a_to_a_t) for c in c_ops]"
   ]
  },
  {
   "cell_type": "code",
   "execution_count": null,
   "id": "46166b85",
   "metadata": {},
   "outputs": [
    {
     "data": {
      "image/png": "[encoded data removed]",
      "text/latex": [
       "$$\\frac{d}{d t} {{{a}}(t)} = - i A_{d} - i \\omega {{{a}}(t)} - \\frac{\\kappa {{{a}}(t)}}{2}$$"
      ],
      "text/plain": [
       "d                                                                     κ⋅Operat\n",
       "──(OperatorFunction(a,t)) = -ⅈ⋅A_d - ⅈ⋅\\omega⋅OperatorFunction(a,t) - ────────\n",
       "dt                                                                            \n",
       "\n",
       "orFunction(a,t)\n",
       "───────────────\n",
       "   2           "
      ]
     },
     "metadata": {},
     "output_type": "display_data"
    }
   ],
   "source": [
    "# operator master equation for a\n",
    "ome_a = operator_master_equation(a_t, t, H_t, c_ops_t)\n",
    "\n",
    "Eq(ome_a.lhs, normal_ordered_form(ome_a.rhs.doit().expand()))"
   ]
  },
  {
   "cell_type": "code",
   "execution_count": null,
   "id": "02ec83de",
   "metadata": {},
   "outputs": [
    {
     "data": {
      "image/png": "[encoded data removed]",
      "text/latex": [
       "$$\\frac{d}{d t} {{{{a}^\\dagger}}(t)} {{{a}}(t)} + {{{{a}^\\dagger}}(t)} \\frac{d}{d t} {{{a}}(t)} = - i A_{d} {{{{a}^\\dagger}}(t)} + i A_{d} {{{a}}(t)} + \\kappa n_{{th}} - \\kappa {{{{a}^\\dagger}}(t)} {{{a}}(t)}$$"
      ],
      "text/plain": [
       "d ⎛                ⎛ †  ⎞⎞                                         ⎛ †  ⎞ d   \n",
       "──⎝OperatorFunction⎝a ,t⎠⎠⋅OperatorFunction(a,t) + OperatorFunction⎝a ,t⎠⋅──(O\n",
       "dt                                                                        dt  \n",
       "\n",
       "                                                ⎛ †  ⎞                        \n",
       "peratorFunction(a,t)) = - ⅈ⋅A_d⋅OperatorFunction⎝a ,t⎠ + ⅈ⋅A_d⋅OperatorFunctio\n",
       "                                                                              \n",
       "\n",
       "                                      ⎛ †  ⎞                      \n",
       "n(a,t) + κ⋅n_{th} - κ⋅OperatorFunction⎝a ,t⎠⋅OperatorFunction(a,t)\n",
       "                                                                  "
      ]
     },
     "metadata": {},
     "output_type": "display_data"
    }
   ],
   "source": [
    "# operator master equation for n = Dagger(a) * a\n",
    "ome_n = operator_master_equation(Dagger(a_t) * a_t, t, H_t, c_ops_t)\n",
    "\n",
    "Eq(ome_n.lhs, normal_ordered_form(ome_n.rhs.doit().expand()))"
   ]
  },
  {
   "cell_type": "markdown",
   "id": "b880f220",
   "metadata": {},
   "source": [
    "From these operator equations we see that the equation for $a$ depends only on the operator $a$, while the equation for $n$ depends on $n$, $a$, $a^\\dagger$. So to solve the latter equation we therefore also have to generate an equation for $a^\\dagger$."
   ]
  },
  {
   "cell_type": "markdown",
   "id": "eeb3da91",
   "metadata": {},
   "source": [
    "### System of semiclassical equations"
   ]
  },
  {
   "cell_type": "code",
   "execution_count": null,
   "id": "3f0ae77f",
   "metadata": {},
   "outputs": [],
   "source": [
    "ops, op_eqm, sc_eqm, sc_ode, ofm, oim = semi_classical_eqm(H, c_ops)"
   ]
  },
  {
   "cell_type": "code",
   "execution_count": null,
   "id": "76513c18",
   "metadata": {},
   "outputs": [
    {
     "data": {
      "text/html": [
       "<table>\n",
       "<tr><td>$\\left\\langle {{a}^\\dagger} \\right\\rangle = \\operatorname{A_{0}}{\\left (t \\right )}$</td><td>$\\frac{d}{d t} \\operatorname{A_{0}}{\\left (t \\right )} = i A_{d} + i \\omega \\operatorname{A_{0}}{\\left (t \\right )} - \\frac{\\kappa}{2} \\operatorname{A_{0}}{\\left (t \\right )}$</td></tr><tr><td>$\\left\\langle {a} \\right\\rangle = \\operatorname{A_{1}}{\\left (t \\right )}$</td><td>$\\frac{d}{d t} \\operatorname{A_{1}}{\\left (t \\right )} = - i A_{d} - i \\omega \\operatorname{A_{1}}{\\left (t \\right )} - \\frac{\\kappa}{2} \\operatorname{A_{1}}{\\left (t \\right )}$</td></tr><tr><td>$\\left\\langle {{a}^\\dagger} {a} \\right\\rangle = \\operatorname{A_{2}}{\\left (t \\right )}$</td><td>$\\frac{d}{d t} \\operatorname{A_{2}}{\\left (t \\right )} = - i A_{d} \\operatorname{A_{0}}{\\left (t \\right )} + i A_{d} \\operatorname{A_{1}}{\\left (t \\right )} + \\kappa n_{{th}} - \\kappa \\operatorname{A_{2}}{\\left (t \\right )}$</td></tr>\n",
       "</table>"
      ],
      "text/plain": [
       "<IPython.core.display.HTML at 0x1087ab278>"
      ]
     },
     "metadata": {},
     "output_type": "display_data"
    }
   ],
   "source": [
    "html_table([[Eq(Expectation(key), ofm[key]), sc_ode[key]] for key in operator_sort_by_order(sc_ode)])"
   ]
  },
  {
   "cell_type": "markdown",
   "id": "fa6609f3",
   "metadata": {},
   "source": [
    "Since this is a system of linear ODEs, we can write it on matrix form:"
   ]
  },
  {
   "cell_type": "code",
   "execution_count": null,
   "id": "182e8a19",
   "metadata": {},
   "outputs": [
    {
     "data": {
      "image/png": "[encoded data removed]",
      "text/latex": [
       "$$- \\frac{d}{d t} \\left[\\begin{matrix}\\operatorname{A_{0}}{\\left (t \\right )}\\\\\\operatorname{A_{1}}{\\left (t \\right )}\\\\\\operatorname{A_{2}}{\\left (t \\right )}\\end{matrix}\\right] = \\left[\\begin{matrix}i A_{d}\\\\- i A_{d}\\\\\\kappa n_{{th}}\\end{matrix}\\right] + \\left[\\begin{matrix}i \\omega - \\frac{\\kappa}{2} & 0 & 0\\\\0 & - i \\omega - \\frac{\\kappa}{2} & 0\\\\- i A_{d} & i A_{d} & - \\kappa\\end{matrix}\\right] \\left[\\begin{matrix}\\operatorname{A_{0}}{\\left (t \\right )}\\\\\\operatorname{A_{1}}{\\left (t \\right )}\\\\\\operatorname{A_{2}}{\\left (t \\right )}\\end{matrix}\\right]$$"
      ],
      "text/plain": [
       " d                          ⎡           κ                   ⎤        \n",
       "-──⎛⎡A₀(t)⎤⎞ = ⎡ ⅈ⋅A_d  ⎤ + ⎢ⅈ⋅\\omega - ─        0        0 ⎥⋅⎡A₀(t)⎤\n",
       " dt⎜⎢     ⎥⎟   ⎢        ⎥   ⎢           2                   ⎥ ⎢     ⎥\n",
       "   ⎜⎢A₁(t)⎥⎟   ⎢ -ⅈ⋅A_d ⎥   ⎢                               ⎥ ⎢A₁(t)⎥\n",
       "   ⎜⎢     ⎥⎟   ⎢        ⎥   ⎢                          κ    ⎥ ⎢     ⎥\n",
       "   ⎝⎣A₂(t)⎦⎠   ⎣κ⋅n_{th}⎦   ⎢     0        -ⅈ⋅\\omega - ─  0 ⎥ ⎣A₂(t)⎦\n",
       "                            ⎢                          2    ⎥        \n",
       "                            ⎢                               ⎥        \n",
       "                            ⎣   -ⅈ⋅A_d         ⅈ⋅A_d      -κ⎦        "
      ]
     },
     "metadata": {},
     "output_type": "display_data"
    }
   ],
   "source": [
    "A_eq, A, M, b = semi_classical_eqm_matrix_form(sc_ode, t, ofm)\n",
    "\n",
    "A_eq"
   ]
  },
  {
   "cell_type": "markdown",
   "id": "9bab3d2e",
   "metadata": {},
   "source": [
    "### Steadystate"
   ]
  },
  {
   "cell_type": "markdown",
   "id": "a116e00d",
   "metadata": {},
   "source": [
    "We can solve for the steadystate by setting the left-hand-side of the ODE to zero, and solve the linear system of equations:"
   ]
  },
  {
   "cell_type": "code",
   "execution_count": null,
   "id": "d5ca7fbf",
   "metadata": {},
   "outputs": [],
   "source": [
    "A_sol = M.LUsolve(-b)"
   ]
  },
  {
   "cell_type": "markdown",
   "id": "cc236cf1",
   "metadata": {},
   "source": [
    "The solution for the three system operators are:"
   ]
  },
  {
   "cell_type": "code",
   "execution_count": null,
   "id": "bc601268",
   "metadata": {},
   "outputs": [
    {
     "data": {
      "image/png": "[encoded data removed]",
      "text/latex": [
       "$$- \\frac{1}{\\kappa} \\left(\\frac{A_{d}^{2}}{i \\omega - \\frac{\\kappa}{2}} + \\frac{A_{d}^{2}}{- i \\omega - \\frac{\\kappa}{2}} - \\kappa n_{{th}}\\right)$$"
      ],
      "text/plain": [
       " ⎛       2               2               ⎞ \n",
       " ⎜    A_d             A_d                ⎟ \n",
       "-⎜──────────── + ───────────── - κ⋅n_{th}⎟ \n",
       " ⎜           κ               κ           ⎟ \n",
       " ⎜ⅈ⋅\\omega - ─   -ⅈ⋅\\omega - ─           ⎟ \n",
       " ⎝           2               2           ⎠ \n",
       "───────────────────────────────────────────\n",
       "                     κ                     "
      ]
     },
     "metadata": {},
     "output_type": "display_data"
    }
   ],
   "source": [
    "A_sol[ops.index(Dagger(a)*a)]"
   ]
  },
  {
   "cell_type": "code",
   "execution_count": null,
   "id": "813b4f89",
   "metadata": {},
   "outputs": [
    {
     "data": {
      "image/png": "[encoded data removed]",
      "text/latex": [
       "$$\\frac{i A_{d}}{- i \\omega - \\frac{\\kappa}{2}}$$"
      ],
      "text/plain": [
       "    ⅈ⋅A_d    \n",
       "─────────────\n",
       "            κ\n",
       "-ⅈ⋅\\omega - ─\n",
       "            2"
      ]
     },
     "metadata": {},
     "output_type": "display_data"
    }
   ],
   "source": [
    "A_sol[ops.index(a)]"
   ]
  },
  {
   "cell_type": "code",
   "execution_count": null,
   "id": "f92c9d82",
   "metadata": {},
   "outputs": [
    {
     "data": {
      "image/png": "[encoded data removed]",
      "text/latex": [
       "$$- \\frac{i A_{d}}{i \\omega - \\frac{\\kappa}{2}}$$"
      ],
      "text/plain": [
       "  -ⅈ⋅A_d    \n",
       "────────────\n",
       "           κ\n",
       "ⅈ⋅\\omega - ─\n",
       "           2"
      ]
     },
     "metadata": {},
     "output_type": "display_data"
    }
   ],
   "source": [
    "A_sol[ops.index(Dagger(a))]"
   ]
  },
  {
   "cell_type": "markdown",
   "id": "9ef51c0d",
   "metadata": {},
   "source": [
    "We can also solve for the steadystate directly from the ODE by settings its right-hand-side to zero, and using the SymPy `solve` function: "
   ]
  },
  {
   "cell_type": "code",
   "execution_count": null,
   "id": "50e83470",
   "metadata": {},
   "outputs": [
    {
     "data": {
      "image/png": "[encoded data removed]",
      "text/latex": [
       "$$\\left \\{ \\operatorname{A_{0}}{\\left (t \\right )} : - \\frac{2 i A_{d}}{2 i \\omega - \\kappa}, \\quad \\operatorname{A_{1}}{\\left (t \\right )} : - \\frac{2 i A_{d}}{2 i \\omega + \\kappa}, \\quad \\operatorname{A_{2}}{\\left (t \\right )} : \\frac{1}{4 \\omega^{2} + \\kappa^{2}} \\left(4 A_{d}^{2} + 4 \\omega^{2} n_{{th}} + \\kappa^{2} n_{{th}}\\right)\\right \\}$$"
      ],
      "text/plain": [
       "⎧                                                          2           2      \n",
       "⎪         -2⋅ⅈ⋅A_d               -2⋅ⅈ⋅A_d             4⋅A_d  + 4⋅\\omega ⋅n_{th\n",
       "⎨A₀(t): ──────────────, A₁(t): ──────────────, A₂(t): ────────────────────────\n",
       "⎪       2⋅ⅈ⋅\\omega - κ         2⋅ⅈ⋅\\omega + κ                             2   \n",
       "⎩                                                                 4⋅\\omega  + \n",
       "\n",
       "     2       ⎫\n",
       "} + κ ⋅n_{th}⎪\n",
       "─────────────⎬\n",
       " 2           ⎪\n",
       "κ            ⎭"
      ]
     },
     "metadata": {},
     "output_type": "display_data"
    }
   ],
   "source": [
    "solve([eq.rhs for eq in sc_ode.values()], list(ofm.values()))"
   ]
  },
  {
   "cell_type": "markdown",
   "id": "27d9dba5",
   "metadata": {},
   "source": [
    "### Solve in the ODEs"
   ]
  },
  {
   "cell_type": "markdown",
   "id": "180c32a9",
   "metadata": {},
   "source": [
    "For systems with a small number of dependent operators we can solve the resulting system of ODEs directly:"
   ]
  },
  {
   "cell_type": "code",
   "execution_count": null,
   "id": "4288d3f1",
   "metadata": {},
   "outputs": [
    {
     "data": {
      "image/png": "[encoded data removed]",
      "text/latex": [
       "$$\\left [ \\operatorname{A_{0}}{\\left (t \\right )} = C_{1} e^{t \\left(i \\omega - \\frac{\\kappa}{2}\\right)}, \\quad \\operatorname{A_{1}}{\\left (t \\right )} = C_{2} e^{t \\left(- i \\omega - \\frac{\\kappa}{2}\\right)}, \\quad \\operatorname{A_{2}}{\\left (t \\right )} = - \\frac{i A_{d} C_{1} e^{t \\left(i \\omega - \\frac{\\kappa}{2}\\right)}}{i \\omega + \\frac{\\kappa}{2}} + \\frac{i A_{d} C_{2} e^{t \\left(- i \\omega - \\frac{\\kappa}{2}\\right)}}{- i \\omega + \\frac{\\kappa}{2}} + \\frac{C_{3}}{e^{\\kappa t}}\\right ]$$"
      ],
      "text/plain": [
       "⎡                                                                             \n",
       "⎢              ⎛           κ⎞                ⎛            κ⎞                  \n",
       "⎢            t⋅⎜ⅈ⋅\\omega - ─⎟              t⋅⎜-ⅈ⋅\\omega - ─⎟                  \n",
       "⎢              ⎝           2⎠                ⎝            2⎠            ⅈ⋅A_d⋅\n",
       "⎢A₀(t) = C₁⋅ℯ                , A₁(t) = C₂⋅ℯ                 , A₂(t) = - ──────\n",
       "⎢                                                                             \n",
       "⎢                                                                             \n",
       "⎣                                                                             \n",
       "\n",
       "      ⎛           κ⎞               ⎛            κ⎞           ⎤\n",
       "    t⋅⎜ⅈ⋅\\omega - ─⎟             t⋅⎜-ⅈ⋅\\omega - ─⎟           ⎥\n",
       "      ⎝           2⎠               ⎝            2⎠           ⎥\n",
       "C₁⋅ℯ                   ⅈ⋅A_d⋅C₂⋅ℯ                        -κ⋅t⎥\n",
       "──────────────────── + ─────────────────────────── + C₃⋅ℯ    ⎥\n",
       "            κ                             κ                  ⎥\n",
       " ⅈ⋅\\omega + ─                 -ⅈ⋅\\omega + ─                  ⎥\n",
       "            2                             2                  ⎦"
      ]
     },
     "metadata": {},
     "output_type": "display_data"
    }
   ],
   "source": [
    "sols = dsolve(list(sc_ode.values())); sols"
   ]
  },
  {
   "cell_type": "code",
   "execution_count": null,
   "id": "720081aa",
   "metadata": {},
   "outputs": [],
   "source": [
    "# hack\n",
    "tt = [s for s in sols[0].rhs.free_symbols if s.name == 't'][0]"
   ]
  },
  {
   "cell_type": "markdown",
   "id": "6b209f31",
   "metadata": {},
   "source": [
    "We also need o specify the initial conditions: Here the initial conditions are $\\langle a(0) \\rangle = \\langle a^\\dagger(0) \\rangle = 2$ and $\\langle a^\\dagger(0)a(0) \\rangle = 4$."
   ]
  },
  {
   "cell_type": "code",
   "execution_count": null,
   "id": "6466f842",
   "metadata": {},
   "outputs": [
    {
     "data": {
      "image/png": "[encoded data removed]",
      "text/latex": [
       "$$\\left \\{ \\operatorname{A_{0}}{\\left (0 \\right )} : 2, \\quad \\operatorname{A_{1}}{\\left (0 \\right )} : 2, \\quad \\operatorname{A_{2}}{\\left (0 \\right )} : 4\\right \\}$$"
      ],
      "text/plain": [
       "{A₀(0): 2, A₁(0): 2, A₂(0): 4}"
      ]
     },
     "metadata": {},
     "output_type": "display_data"
    }
   ],
   "source": [
    "ics = {ofm[Dagger(a)].subs(tt, 0): 2, \n",
    "       ofm[a].subs(tt, 0): 2,\n",
    "       ofm[Dagger(a)*a].subs(tt, 0): 4}; ics"
   ]
  },
  {
   "cell_type": "code",
   "execution_count": null,
   "id": "e4b4a4ff",
   "metadata": {},
   "outputs": [
    {
     "data": {
      "image/png": "[encoded data removed]",
      "text/latex": [
       "$$\\left\\{C_{1}, C_{2}, C_{3}\\right\\}$$"
      ],
      "text/plain": [
       "set([C₁, C₂, C₃])"
      ]
     },
     "metadata": {},
     "output_type": "display_data"
    }
   ],
   "source": [
    "constants = set(sum([[s for s in sol.free_symbols if (str(s)[0] == 'C')] for sol in sols], [])); constants"
   ]
  },
  {
   "cell_type": "code",
   "execution_count": null,
   "id": "0d51b60c",
   "metadata": {},
   "outputs": [
    {
     "data": {
      "image/png": "[encoded data removed]",
      "text/latex": [
       "$$\\left \\{ C_{1} : 2, \\quad C_{2} : 2, \\quad C_{3} : \\frac{1}{4 \\omega^{2} + \\kappa^{2}} \\left(16 A_{d} \\omega + 16 \\omega^{2} + 4 \\kappa^{2}\\right)\\right \\}$$"
      ],
      "text/plain": [
       "⎧                    ⎛                       2    2⎞⎫\n",
       "⎪                  4⋅⎝4⋅A_d⋅\\omega + 4⋅\\omega  + κ ⎠⎪\n",
       "⎨C₁: 2, C₂: 2, C₃: ─────────────────────────────────⎬\n",
       "⎪                                    2    2         ⎪\n",
       "⎩                            4⋅\\omega  + κ          ⎭"
      ]
     },
     "metadata": {},
     "output_type": "display_data"
    }
   ],
   "source": [
    "C_sols = solve([sol.subs(tt, 0).subs(ics) for sol in sols], constants); C_sols"
   ]
  },
  {
   "cell_type": "code",
   "execution_count": null,
   "id": "2cc2cc61",
   "metadata": {},
   "outputs": [
    {
     "data": {
      "image/png": "[encoded data removed]",
      "text/latex": [
       "$$\\left [ \\operatorname{A_{0}}{\\left (t \\right )} = 2 e^{t \\left(i \\omega - \\frac{\\kappa}{2}\\right)}, \\quad \\operatorname{A_{1}}{\\left (t \\right )} = 2 e^{t \\left(- i \\omega - \\frac{\\kappa}{2}\\right)}, \\quad \\operatorname{A_{2}}{\\left (t \\right )} = - \\frac{2 i A_{d} e^{t \\left(i \\omega - \\frac{\\kappa}{2}\\right)}}{i \\omega + \\frac{\\kappa}{2}} + \\frac{2 i A_{d} e^{t \\left(- i \\omega - \\frac{\\kappa}{2}\\right)}}{- i \\omega + \\frac{\\kappa}{2}} + \\frac{16 A_{d} \\omega + 16 \\omega^{2} + 4 \\kappa^{2}}{\\left(4 \\omega^{2} + \\kappa^{2}\\right) e^{\\kappa t}}\\right ]$$"
      ],
      "text/plain": [
       "⎡                                                                             \n",
       "⎢             ⎛           κ⎞               ⎛            κ⎞                    \n",
       "⎢           t⋅⎜ⅈ⋅\\omega - ─⎟             t⋅⎜-ⅈ⋅\\omega - ─⎟                    \n",
       "⎢             ⎝           2⎠               ⎝            2⎠            2⋅ⅈ⋅A_d⋅\n",
       "⎢A₀(t) = 2⋅ℯ                , A₁(t) = 2⋅ℯ                 , A₂(t) = - ────────\n",
       "⎢                                                                             \n",
       "⎢                                                                            ⅈ\n",
       "⎣                                                                             \n",
       "\n",
       "   ⎛           κ⎞              ⎛            κ⎞                                \n",
       " t⋅⎜ⅈ⋅\\omega - ─⎟            t⋅⎜-ⅈ⋅\\omega - ─⎟                                \n",
       "   ⎝           2⎠              ⎝            2⎠     ⎛                       2  \n",
       "ℯ                   2⋅ⅈ⋅A_d⋅ℯ                    4⋅⎝4⋅A_d⋅\\omega + 4⋅\\omega  +\n",
       "───────────────── + ────────────────────────── + ─────────────────────────────\n",
       "          κ                           κ                               2    2  \n",
       "⋅\\omega + ─               -ⅈ⋅\\omega + ─                       4⋅\\omega  + κ   \n",
       "          2                           2                                       \n",
       "\n",
       "          ⎤\n",
       "          ⎥\n",
       "  2⎞  -κ⋅t⎥\n",
       " κ ⎠⋅ℯ    ⎥\n",
       "──────────⎥\n",
       "          ⎥\n",
       "          ⎥\n",
       "          ⎦"
      ]
     },
     "metadata": {},
     "output_type": "display_data"
    }
   ],
   "source": [
    "sols_with_ics = [sol.subs(C_sols) for sol in sols]; sols_with_ics"
   ]
  },
  {
   "cell_type": "markdown",
   "id": "a9df7038",
   "metadata": {},
   "source": [
    "Now let's insert numerical values for the system parameters so we can plot the solution:"
   ]
  },
  {
   "cell_type": "code",
   "execution_count": null,
   "id": "fadc4764",
   "metadata": {},
   "outputs": [],
   "source": [
    "values = {w: 1.0, Ad: 0.0, kappa: 0.1, Nth: 0.0}"
   ]
  },
  {
   "cell_type": "code",
   "execution_count": null,
   "id": "be28affa",
   "metadata": {},
   "outputs": [
    {
     "data": {
      "image/png": "[encoded data removed]",
      "text/latex": [
       "$$\\left [ 2 e^{t \\left(-0.05 + 1.0 i\\right)}, \\quad 2 e^{t \\left(-0.05 - 1.0 i\\right)}, \\quad \\frac{4}{e^{0.1 t}}\\right ]$$"
      ],
      "text/plain": [
       "⎡   t⋅(-0.05 + 1.0⋅ⅈ)     t⋅(-0.05 - 1.0⋅ⅈ)     -0.1⋅t⎤\n",
       "⎣2⋅ℯ                 , 2⋅ℯ                 , 4⋅ℯ      ⎦"
      ]
     },
     "metadata": {},
     "output_type": "display_data"
    }
   ],
   "source": [
    "sols_funcs = [sol.rhs.subs(values) for sol in sols_with_ics]; sols_funcs"
   ]
  },
  {
   "cell_type": "code",
   "execution_count": null,
   "id": "29a2f03c",
   "metadata": {},
   "outputs": [
    {
     "data": {
      "image/png": "[encoded data removed]",
      "text/plain": [
       "<matplotlib.figure.Figure at 0x1087cb748>"
      ]
     },
     "metadata": {},
     "output_type": "display_data"
    }
   ],
   "source": [
    "times = np.linspace(0, 50, 500)\n",
    "\n",
    "y_funcs = [lambdify([tt], sol_func, 'numpy') for sol_func in sols_funcs]\n",
    "\n",
    "fig, axes = plt.subplots(len(y_funcs), 1, figsize=(12, 6))\n",
    "\n",
    "for n, y_func in enumerate(y_funcs):\n",
    "    axes[n].plot(times, np.real(y_func(times)), 'r')\n",
    "    \n",
    "axes[2].set_ylim(0, 5);"
   ]
  },
  {
   "cell_type": "markdown",
   "id": "36b9f211",
   "metadata": {},
   "source": [
    "## Driven dissipative two-level system"
   ]
  },
  {
   "cell_type": "code",
   "execution_count": null,
   "id": "9a8f367c",
   "metadata": {},
   "outputs": [],
   "source": [
    "sx, sy, sz, sm, sp = SigmaX(), SigmaY(), SigmaZ(), SigmaMinus(), SigmaPlus()"
   ]
  },
  {
   "cell_type": "code",
   "execution_count": null,
   "id": "0a23f6f2",
   "metadata": {},
   "outputs": [],
   "source": [
    "Omega, gamma_0, N, t = symbols(\"\\Omega, \\gamma_0, N, t\", positive=True)\n",
    "\n",
    "values = {Omega: 1.0, gamma_0: 0.5, N: 1.75}"
   ]
  },
  {
   "cell_type": "code",
   "execution_count": null,
   "id": "b8df86a4",
   "metadata": {},
   "outputs": [
    {
     "data": {
      "image/png": "[encoded data removed]",
      "text/latex": [
       "$$- \\frac{\\Omega {\\sigma_x}}{2}$$"
      ],
      "text/plain": [
       "-\\Omega⋅False \n",
       "──────────────\n",
       "      2       "
      ]
     },
     "metadata": {},
     "output_type": "display_data"
    }
   ],
   "source": [
    "H = -Omega/2 * sx\n",
    "H"
   ]
  },
  {
   "cell_type": "code",
   "execution_count": null,
   "id": "754ffb3b",
   "metadata": {},
   "outputs": [],
   "source": [
    "c_ops = [sqrt(gamma_0 * (N + 1)) * pauli_represent_x_y(sm), \n",
    "         sqrt(gamma_0 * N) * pauli_represent_x_y(sp)]"
   ]
  },
  {
   "cell_type": "code",
   "execution_count": null,
   "id": "8538552b",
   "metadata": {},
   "outputs": [],
   "source": [
    "ops, op_eqm, sc_eqm, sc_ode, ofm, oim = semi_classical_eqm(H, c_ops)"
   ]
  },
  {
   "cell_type": "code",
   "execution_count": null,
   "id": "9351d506",
   "metadata": {},
   "outputs": [
    {
     "data": {
      "text/html": [
       "<table>\n",
       "<tr><td>$\\left\\langle {\\sigma_x} \\right\\rangle = \\operatorname{A_{0}}{\\left (t \\right )}$</td><td>$\\frac{d}{d t} \\operatorname{A_{0}}{\\left (t \\right )} = - N \\gamma_{0} \\operatorname{A_{0}}{\\left (t \\right )} - \\frac{\\gamma_{0}}{2} \\operatorname{A_{0}}{\\left (t \\right )}$</td></tr><tr><td>$\\left\\langle {\\sigma_y} \\right\\rangle = \\operatorname{A_{1}}{\\left (t \\right )}$</td><td>$\\frac{d}{d t} \\operatorname{A_{1}}{\\left (t \\right )} = - N \\gamma_{0} \\operatorname{A_{1}}{\\left (t \\right )} + \\Omega \\operatorname{A_{2}}{\\left (t \\right )} - \\frac{\\gamma_{0}}{2} \\operatorname{A_{1}}{\\left (t \\right )}$</td></tr><tr><td>$\\left\\langle {\\sigma_z} \\right\\rangle = \\operatorname{A_{2}}{\\left (t \\right )}$</td><td>$\\frac{d}{d t} \\operatorname{A_{2}}{\\left (t \\right )} = - 2 N \\gamma_{0} \\operatorname{A_{2}}{\\left (t \\right )} - \\Omega \\operatorname{A_{1}}{\\left (t \\right )} - \\gamma_{0} \\operatorname{A_{2}}{\\left (t \\right )} - \\gamma_{0}$</td></tr>\n",
       "</table>"
      ],
      "text/plain": [
       "<IPython.core.display.HTML at 0x108acd9e8>"
      ]
     },
     "metadata": {},
     "output_type": "display_data"
    }
   ],
   "source": [
    "html_table([[Eq(Expectation(key), ofm[key]), sc_ode[key]] for key in operator_sort_by_order(sc_ode)])"
   ]
  },
  {
   "cell_type": "code",
   "execution_count": null,
   "id": "bbe291ac",
   "metadata": {},
   "outputs": [
    {
     "data": {
      "image/png": "[encoded data removed]",
      "text/latex": [
       "$$- \\frac{d}{d t} \\left[\\begin{matrix}\\operatorname{A_{0}}{\\left (t \\right )}\\\\\\operatorname{A_{1}}{\\left (t \\right )}\\\\\\operatorname{A_{2}}{\\left (t \\right )}\\end{matrix}\\right] = \\left[\\begin{matrix}0\\\\0\\\\- \\gamma_{0}\\end{matrix}\\right] + \\left[\\begin{matrix}- N \\gamma_{0} - \\frac{\\gamma_{0}}{2} & 0 & 0\\\\0 & - N \\gamma_{0} - \\frac{\\gamma_{0}}{2} & \\Omega\\\\0 & - \\Omega & - 2 N \\gamma_{0} - \\gamma_{0}\\end{matrix}\\right] \\left[\\begin{matrix}\\operatorname{A_{0}}{\\left (t \\right )}\\\\\\operatorname{A_{1}}{\\left (t \\right )}\\\\\\operatorname{A_{2}}{\\left (t \\right )}\\end{matrix}\\right]$$"
      ],
      "text/plain": [
       " d                          ⎡             \\gamma₀                             \n",
       "-──⎛⎡A₀(t)⎤⎞ = ⎡   0    ⎤ + ⎢-N⋅\\gamma₀ - ───────           0                 \n",
       " dt⎜⎢     ⎥⎟   ⎢        ⎥   ⎢                2                                \n",
       "   ⎜⎢A₁(t)⎥⎟   ⎢   0    ⎥   ⎢                                                 \n",
       "   ⎜⎢     ⎥⎟   ⎢        ⎥   ⎢                                   \\gamma₀       \n",
       "   ⎝⎣A₂(t)⎦⎠   ⎣-\\gamma₀⎦   ⎢         0            -N⋅\\gamma₀ - ───────       \n",
       "                            ⎢                                      2          \n",
       "                            ⎢                                                 \n",
       "                            ⎣         0                  -\\Omega         -2⋅N⋅\n",
       "\n",
       "                 ⎤        \n",
       "     0           ⎥⋅⎡A₀(t)⎤\n",
       "                 ⎥ ⎢     ⎥\n",
       "                 ⎥ ⎢A₁(t)⎥\n",
       "                 ⎥ ⎢     ⎥\n",
       "   \\Omega        ⎥ ⎣A₂(t)⎦\n",
       "                 ⎥        \n",
       "                 ⎥        \n",
       "\\gamma₀ - \\gamma₀⎦        "
      ]
     },
     "metadata": {},
     "output_type": "display_data"
    }
   ],
   "source": [
    "A_eq, A, M, b = semi_classical_eqm_matrix_form(sc_ode, t, ofm)\n",
    "\n",
    "A_eq"
   ]
  },
  {
   "cell_type": "markdown",
   "id": "5c53956c",
   "metadata": {},
   "source": [
    "### Steadystate"
   ]
  },
  {
   "cell_type": "code",
   "execution_count": null,
   "id": "632516bd",
   "metadata": {},
   "outputs": [],
   "source": [
    "A_sol = M.LUsolve(-b)"
   ]
  },
  {
   "cell_type": "markdown",
   "id": "d536aedd",
   "metadata": {},
   "source": [
    "The steadystate expectation value of $\\sigma_x$:"
   ]
  },
  {
   "cell_type": "code",
   "execution_count": null,
   "id": "2f942a65",
   "metadata": {},
   "outputs": [
    {
     "data": {
      "image/png": "[encoded data removed]",
      "text/latex": [
       "$$0$$"
      ],
      "text/plain": [
       "0"
      ]
     },
     "metadata": {},
     "output_type": "display_data"
    }
   ],
   "source": [
    "A_sol[ops.index(sx)]"
   ]
  },
  {
   "cell_type": "markdown",
   "id": "ac2e1e97",
   "metadata": {},
   "source": [
    "The steadystate expectation value of $\\sigma_y$:"
   ]
  },
  {
   "cell_type": "code",
   "execution_count": null,
   "id": "7beaa792",
   "metadata": {},
   "outputs": [
    {
     "data": {
      "image/png": "[encoded data removed]",
      "text/latex": [
       "$$- \\frac{\\Omega \\gamma_{0}}{\\left(- N \\gamma_{0} - \\frac{\\gamma_{0}}{2}\\right) \\left(- 2 N \\gamma_{0} + \\frac{\\Omega^{2}}{- N \\gamma_{0} - \\frac{\\gamma_{0}}{2}} - \\gamma_{0}\\right)}$$"
      ],
      "text/plain": [
       "                           -\\Omega⋅\\gamma₀                            \n",
       "──────────────────────────────────────────────────────────────────────\n",
       "                       ⎛                           2                 ⎞\n",
       "⎛             \\gamma₀⎞ ⎜                     \\Omega                  ⎟\n",
       "⎜-N⋅\\gamma₀ - ───────⎟⋅⎜-2⋅N⋅\\gamma₀ + ──────────────────── - \\gamma₀⎟\n",
       "⎝                2   ⎠ ⎜                            \\gamma₀          ⎟\n",
       "                       ⎜               -N⋅\\gamma₀ - ───────          ⎟\n",
       "                       ⎝                               2             ⎠"
      ]
     },
     "metadata": {},
     "output_type": "display_data"
    }
   ],
   "source": [
    "A_sol[ops.index(sy)]"
   ]
  },
  {
   "cell_type": "markdown",
   "id": "3b610b2f",
   "metadata": {},
   "source": [
    "The steadystate expectation value of $\\sigma_z$:"
   ]
  },
  {
   "cell_type": "code",
   "execution_count": null,
   "id": "193daa62",
   "metadata": {},
   "outputs": [
    {
     "data": {
      "image/png": "[encoded data removed]",
      "text/latex": [
       "$$\\frac{\\gamma_{0}}{- 2 N \\gamma_{0} + \\frac{\\Omega^{2}}{- N \\gamma_{0} - \\frac{\\gamma_{0}}{2}} - \\gamma_{0}}$$"
      ],
      "text/plain": [
       "                   \\gamma₀                   \n",
       "─────────────────────────────────────────────\n",
       "                           2                 \n",
       "                     \\Omega                  \n",
       "-2⋅N⋅\\gamma₀ + ──────────────────── - \\gamma₀\n",
       "                            \\gamma₀          \n",
       "               -N⋅\\gamma₀ - ───────          \n",
       "                               2             "
      ]
     },
     "metadata": {},
     "output_type": "display_data"
    }
   ],
   "source": [
    "A_sol[ops.index(sz)]"
   ]
  },
  {
   "cell_type": "markdown",
   "id": "c9f114dd",
   "metadata": {},
   "source": [
    "Steadystate of $\\sigma_+$:"
   ]
  },
  {
   "cell_type": "code",
   "execution_count": null,
   "id": "05f7fb2c",
   "metadata": {},
   "outputs": [
    {
     "data": {
      "image/png": "[encoded data removed]",
      "text/latex": [
       "$$- \\frac{i \\Omega \\gamma_{0}}{2 \\left(- N \\gamma_{0} - \\frac{\\gamma_{0}}{2}\\right) \\left(- 2 N \\gamma_{0} + \\frac{\\Omega^{2}}{- N \\gamma_{0} - \\frac{\\gamma_{0}}{2}} - \\gamma_{0}\\right)}$$"
      ],
      "text/plain": [
       "                           -ⅈ⋅\\Omega⋅\\gamma₀                            \n",
       "────────────────────────────────────────────────────────────────────────\n",
       "                         ⎛                           2                 ⎞\n",
       "  ⎛             \\gamma₀⎞ ⎜                     \\Omega                  ⎟\n",
       "2⋅⎜-N⋅\\gamma₀ - ───────⎟⋅⎜-2⋅N⋅\\gamma₀ + ──────────────────── - \\gamma₀⎟\n",
       "  ⎝                2   ⎠ ⎜                            \\gamma₀          ⎟\n",
       "                         ⎜               -N⋅\\gamma₀ - ───────          ⎟\n",
       "                         ⎝                               2             ⎠"
      ]
     },
     "metadata": {},
     "output_type": "display_data"
    }
   ],
   "source": [
    "pauli_represent_x_y(sp).subs({sx: A_sol[ops.index(sx)], sy: A_sol[ops.index(sy)]})"
   ]
  },
  {
   "cell_type": "markdown",
   "id": "db751e35",
   "metadata": {},
   "source": [
    "Steadystate of $\\sigma_-$:"
   ]
  },
  {
   "cell_type": "code",
   "execution_count": null,
   "id": "e72c1e2d",
   "metadata": {},
   "outputs": [
    {
     "data": {
      "image/png": "[encoded data removed]",
      "text/latex": [
       "$$\\frac{i \\Omega \\gamma_{0}}{2 \\left(- N \\gamma_{0} - \\frac{\\gamma_{0}}{2}\\right) \\left(- 2 N \\gamma_{0} + \\frac{\\Omega^{2}}{- N \\gamma_{0} - \\frac{\\gamma_{0}}{2}} - \\gamma_{0}\\right)}$$"
      ],
      "text/plain": [
       "                            ⅈ⋅\\Omega⋅\\gamma₀                            \n",
       "────────────────────────────────────────────────────────────────────────\n",
       "                         ⎛                           2                 ⎞\n",
       "  ⎛             \\gamma₀⎞ ⎜                     \\Omega                  ⎟\n",
       "2⋅⎜-N⋅\\gamma₀ - ───────⎟⋅⎜-2⋅N⋅\\gamma₀ + ──────────────────── - \\gamma₀⎟\n",
       "  ⎝                2   ⎠ ⎜                            \\gamma₀          ⎟\n",
       "                         ⎜               -N⋅\\gamma₀ - ───────          ⎟\n",
       "                         ⎝                               2             ⎠"
      ]
     },
     "metadata": {},
     "output_type": "display_data"
    }
   ],
   "source": [
    "pauli_represent_x_y(sm).subs({sx: A_sol[ops.index(sx)], sy: A_sol[ops.index(sy)]})"
   ]
  },
  {
   "cell_type": "markdown",
   "id": "e8dd3d27",
   "metadata": {},
   "source": [
    "Alternatively we can also use the SymPy `solve` function to find the steadystate solutions:"
   ]
  },
  {
   "cell_type": "code",
   "execution_count": null,
   "id": "69ec444a",
   "metadata": {},
   "outputs": [
    {
     "data": {
      "image/png": "[encoded data removed]",
      "text/latex": [
       "$$\\left \\{ \\operatorname{A_{0}}{\\left (t \\right )} : 0, \\quad \\operatorname{A_{1}}{\\left (t \\right )} : - \\frac{2 \\Omega \\gamma_{0}}{2 \\Omega^{2} + \\gamma_{0}^{2} \\left(2 N + 1\\right)^{2}}, \\quad \\operatorname{A_{2}}{\\left (t \\right )} : - \\frac{\\gamma_{0}^{2} \\left(2 N + 1\\right)}{2 \\Omega^{2} + \\gamma_{0}^{2} \\left(2 N + 1\\right)^{2}}\\right \\}$$"
      ],
      "text/plain": [
       "⎧                                                                       2     \n",
       "⎪                        -2⋅\\Omega⋅\\gamma₀                      -\\gamma₀ ⋅(2⋅N\n",
       "⎨A₀(t): 0, A₁(t): ───────────────────────────────, A₂(t): ────────────────────\n",
       "⎪                         2          2          2                 2          2\n",
       "⎩                 2⋅\\Omega  + \\gamma₀ ⋅(2⋅N + 1)          2⋅\\Omega  + \\gamma₀ \n",
       "\n",
       "           ⎫\n",
       " + 1)      ⎪\n",
       "───────────⎬\n",
       "          2⎪\n",
       "⋅(2⋅N + 1) ⎭"
      ]
     },
     "metadata": {},
     "output_type": "display_data"
    }
   ],
   "source": [
    "solve([eq.rhs for eq in sc_ode.values()], list(ofm.values()))"
   ]
  },
  {
   "cell_type": "markdown",
   "id": "1f8453f4",
   "metadata": {},
   "source": [
    "At zero temperature:"
   ]
  },
  {
   "cell_type": "code",
   "execution_count": null,
   "id": "ff311a88",
   "metadata": {},
   "outputs": [
    {
     "data": {
      "image/png": "[encoded data removed]",
      "text/latex": [
       "$$\\left \\{ \\operatorname{A_{0}}{\\left (t \\right )} : 0, \\quad \\operatorname{A_{1}}{\\left (t \\right )} : - \\frac{2 \\Omega \\gamma_{0}}{2 \\Omega^{2} + \\gamma_{0}^{2}}, \\quad \\operatorname{A_{2}}{\\left (t \\right )} : - \\frac{\\gamma_{0}^{2}}{2 \\Omega^{2} + \\gamma_{0}^{2}}\\right \\}$$"
      ],
      "text/plain": [
       "⎧                                                           2      ⎫\n",
       "⎪                  -2⋅\\Omega⋅\\gamma₀                -\\gamma₀       ⎪\n",
       "⎨A₀(t): 0, A₁(t): ────────────────────, A₂(t): ────────────────────⎬\n",
       "⎪                         2          2                 2          2⎪\n",
       "⎩                 2⋅\\Omega  + \\gamma₀          2⋅\\Omega  + \\gamma₀ ⎭"
      ]
     },
     "metadata": {},
     "output_type": "display_data"
    }
   ],
   "source": [
    "solve([eq.subs(N, 0).rhs for eq in sc_ode.values()], list(ofm.values()))"
   ]
  },
  {
   "cell_type": "markdown",
   "id": "b685dd3c",
   "metadata": {},
   "source": [
    "## Versions"
   ]
  },
  {
   "cell_type": "code",
   "execution_count": null,
   "id": "4cef50ec",
   "metadata": {},
   "outputs": [
    {
     "data": {
      "application/json": {
       "Software versions": [
        {
         "module": "Python",
         "version": "3.4.1 (default, Sep 20 2014, 19:44:17) [GCC 4.2.1 Compatible Apple LLVM 5.1 (clang-503.0.40)]"
        },
        {
         "module": "IPython",
         "version": "2.3.0"
        },
        {
         "module": "OS",
         "version": "Darwin 13.4.0 x86_64 i386 64bit"
        },
        {
         "module": "sympy",
         "version": "0.7.5-git"
        },
        {
         "module": "sympsi",
         "version": "0.1.0.dev-0c6e514"
        }
       ]
      },
      "text/html": [
       "<table><tr><th>Software</th><th>Version</th></tr><tr><td>Python</td><td>3.4.1 (default, Sep 20 2014, 19:44:17) [GCC 4.2.1 Compatible Apple LLVM 5.1 (clang-503.0.40)]</td></tr><tr><td>IPython</td><td>2.3.0</td></tr><tr><td>OS</td><td>Darwin 13.4.0 x86_64 i386 64bit</td></tr><tr><td>sympy</td><td>0.7.5-git</td></tr><tr><td>sympsi</td><td>0.1.0.dev-0c6e514</td></tr><tr><td colspan='2'>Sun Oct 12 21:42:08 2014 JST</td></tr></table>"
      ],
      "text/latex": [
       "\\begin{tabular}{|l|l|}\\hline\n",
       "{\\bf Software} & {\\bf Version} \\\\ \\hline\\hline\n",
       "Python & 3.4.1 (default, Sep 20 2014, 19:44:17) [GCC 4.2.1 Compatible Apple LLVM 5.1 (clang-503.0.40)] \\\\ \\hline\n",
       "IPython & 2.3.0 \\\\ \\hline\n",
       "OS & Darwin 13.4.0 x86\\letterunderscore{}64 i386 64bit \\\\ \\hline\n",
       "sympy & 0.7.5-git \\\\ \\hline\n",
       "sympsi & 0.1.0.dev-0c6e514 \\\\ \\hline\n",
       "\\hline \\multicolumn{2}{|l|}{Sun Oct 12 21:42:08 2014 JST} \\\\ \\hline\n",
       "\\end{tabular}\n"
      ],
      "text/plain": [
       "Software versions\n",
       "Python 3.4.1 (default, Sep 20 2014, 19:44:17) [GCC 4.2.1 Compatible Apple LLVM 5.1 (clang-503.0.40)]\n",
       "IPython 2.3.0\n",
       "OS Darwin 13.4.0 x86_64 i386 64bit\n",
       "sympy 0.7.5-git\n",
       "sympsi 0.1.0.dev-0c6e514\n",
       "Sun Oct 12 21:42:08 2014 JST"
      ]
     },
     "metadata": {},
     "output_type": "display_data"
    }
   ],
   "source": [
    "%reload_ext version_information\n",
    "\n",
    "%version_information sympy, sympsi"
   ]
  }
 ],
 "metadata": {
  "language_info": {
   "name": "python"
  }
 },
 "nbformat": 4,
 "nbformat_minor": 5
}
