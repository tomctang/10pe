{
 "cells": [
  {
   "cell_type": "markdown",
   "id": "928c0f9f",
   "metadata": {},
   "source": [
    "Regarding applications of QM - \n",
    "\n",
    "Quantum Computing Notebooks: contains SageMath and Python notebooks covering various topics of quantum computing.\n",
    "* [Bell states ](https://nbviewer.org/github/msqc-goethe/quantum-computing-notebooks/blob/main/sagemath/bell-states.ipynb)\n",
    "* [boolean functions ](https://nbviewer.org/github/msqc-goethe/quantum-computing-notebooks/blob/main/sagemath/boolean_functions_qc.ipynb)\n",
    "* [measurements ](https://nbviewer.org/github/msqc-goethe/quantum-computing-notebooks/blob/main/sagemath/measurements.ipynb)\n",
    "* [super dense coding](https://nbviewer.org/github/msqc-goethe/quantum-computing-notebooks/blob/main/sagemath/super_dense_coding.ipynb)\n",
    "* [bloch-sphere ](https://nbviewer.org/github/msqc-goethe/quantum-computing-notebooks/blob/main/qiskit/bloch-sphere_examples.ipynb)"
   ]
  },
  {
   "cell_type": "markdown",
   "id": "5a4b1c07",
   "metadata": {},
   "source": [
    "# 1. Bell States"
   ]
  },
  {
   "cell_type": "markdown",
   "id": "82b2579d",
   "metadata": {},
   "source": [
    "Let's write down $\\lvert0\\rangle$ and $\\lvert1\\rangle$ in vector form."
   ]
  },
  {
   "cell_type": "code",
   "execution_count": 2,
   "id": "db33b007",
   "metadata": {},
   "outputs": [
    {
     "data": {
      "text/latex": [
       "$\\displaystyle \\left(\\begin{array}{r}\n",
       "1 \\\\\n",
       "0\n",
       "\\end{array}\\right) \\qquad   \\left(\\begin{array}{r}\n",
       "0 \\\\\n",
       "1\n",
       "\\end{array}\\right) \\qquad   $"
      ],
      "text/plain": [
       "<IPython.core.display.Math object>"
      ]
     },
     "metadata": {},
     "output_type": "display_data"
    }
   ],
   "source": [
    "z_0 = matrix([1, 0]).transpose()\n",
    "z_1 = matrix([0, 1]).transpose()\n",
    "s(z_0, z_1)"
   ]
  },
  {
   "cell_type": "markdown",
   "id": "a54728cf",
   "metadata": {},
   "source": [
    "We can create multiple qubit states with the tensor product."
   ]
  },
  {
   "cell_type": "code",
   "execution_count": 3,
   "id": "a63fe05c",
   "metadata": {},
   "outputs": [
    {
     "data": {
      "text/latex": [
       "$\\displaystyle \\left(\\begin{array}{r}\n",
       "1 \\\\\n",
       "0 \\\\\n",
       "\\hline\n",
       " 0 \\\\\n",
       "0\n",
       "\\end{array}\\right) \\qquad   \\left(\\begin{array}{r}\n",
       "0 \\\\\n",
       "1 \\\\\n",
       "\\hline\n",
       " 0 \\\\\n",
       "0\n",
       "\\end{array}\\right) \\qquad   \\left(\\begin{array}{r}\n",
       "0 \\\\\n",
       "0 \\\\\n",
       "\\hline\n",
       " 1 \\\\\n",
       "0\n",
       "\\end{array}\\right) \\qquad   \\left(\\begin{array}{r}\n",
       "0 \\\\\n",
       "0 \\\\\n",
       "\\hline\n",
       " 0 \\\\\n",
       "1\n",
       "\\end{array}\\right) \\qquad   $"
      ],
      "text/plain": [
       "<IPython.core.display.Math object>"
      ]
     },
     "metadata": {},
     "output_type": "display_data"
    }
   ],
   "source": [
    "z_00 = z_0.tensor_product(z_0)\n",
    "z_01 = z_0.tensor_product(z_1)\n",
    "z_10 = z_1.tensor_product(z_0)\n",
    "z_11 = z_1.tensor_product(z_1)\n",
    "s(z_00, z_01, z_10, z_11)"
   ]
  },
  {
   "cell_type": "markdown",
   "id": "bbe7cb4a",
   "metadata": {},
   "source": [
    "Parallel gates can be expressed as tensor product as well."
   ]
  },
  {
   "cell_type": "code",
   "execution_count": 4,
   "id": "7cba1eb9",
   "metadata": {},
   "outputs": [
    {
     "data": {
      "text/latex": [
       "$\\displaystyle \\left(\\begin{array}{rr}\n",
       "\\frac{1}{2} \\, \\sqrt{2} & \\frac{1}{2} \\, \\sqrt{2} \\\\\n",
       "\\frac{1}{2} \\, \\sqrt{2} & -\\frac{1}{2} \\, \\sqrt{2}\n",
       "\\end{array}\\right) \\qquad   $"
      ],
      "text/plain": [
       "<IPython.core.display.Math object>"
      ]
     },
     "metadata": {},
     "output_type": "display_data"
    }
   ],
   "source": [
    "H = (1 / sqrt(2)) * matrix([[1, 1], [1, -1]])\n",
    "s(H)"
   ]
  },
  {
   "cell_type": "code",
   "execution_count": null,
   "id": "90239da5",
   "metadata": {},
   "outputs": [],
   "source": [
    "H_p_I = H.tensor_product(identity_matrix(2))\n",
    "s(H_p_I)"
   ]
  },
  {
   "cell_type": "markdown",
   "id": "0b00ce86",
   "metadata": {},
   "source": [
    "We also need a CNOT gate."
   ]
  },
  {
   "cell_type": "code",
   "execution_count": null,
   "id": "0eb96602",
   "metadata": {},
   "outputs": [],
   "source": [
    "CNOT = matrix([[1, 0, 0, 0],\n",
    "               [0, 1, 0, 0],\n",
    "               [0, 0, 0, 1],\n",
    "               [0, 0, 1, 0]])\n",
    "s(CNOT)"
   ]
  },
  {
   "cell_type": "markdown",
   "id": "13cf7909",
   "metadata": {},
   "source": [
    "Now let's see if we can get the Bell states."
   ]
  },
  {
   "cell_type": "code",
   "execution_count": null,
   "id": "e0c82ac9",
   "metadata": {},
   "outputs": [],
   "source": [
    "b_00 = CNOT * H_p_I * z_00\n",
    "b_01 = CNOT * H_p_I * z_01\n",
    "b_10 = CNOT * H_p_I * z_10\n",
    "b_11 = CNOT * H_p_I * z_11\n",
    "s(b_00, b_01, b_10, b_11)"
   ]
  },
  {
   "cell_type": "markdown",
   "id": "2ad7dd69",
   "metadata": {},
   "source": [
    "We can show that the bell states form an orthonormal basis:\n",
    "- All base vectors have the norm 1: $\\langle b_i \\rvert b_i \\rangle=1$ for all $i \\in {1,\\ldots,n}$\n",
    "- The base vectors are pairwise orthogonal: $\\langle b_i \\rvert b_j \\rangle=0$ for all $i,j \\in {1,\\ldots,n}$ with $i\\neq j$"
   ]
  },
  {
   "cell_type": "code",
   "execution_count": null,
   "id": "ddab3131",
   "metadata": {},
   "outputs": [],
   "source": [
    "for b_i in [b_00, b_01, b_10, b_11]:\n",
    "    show(sqrt(b_i.conjugate_transpose()*b_i))"
   ]
  },
  {
   "cell_type": "code",
   "execution_count": null,
   "id": "fd96d8bd",
   "metadata": {},
   "outputs": [],
   "source": [
    "for b_i in [b_00, b_01, b_10, b_11]:\n",
    "    for b_j in [b_00, b_01, b_10, b_11]:\n",
    "        if b_i != b_j:\n",
    "            s(b_i.conjugate_transpose() * b_j)"
   ]
  },
  {
   "cell_type": "markdown",
   "id": "6dfe38a3",
   "metadata": {},
   "source": [
    "# 2. Boolean Functions on QC Hardware"
   ]
  },
  {
   "cell_type": "markdown",
   "id": "e4425fca",
   "metadata": {},
   "source": [
    "We can express boolean functions as matrices, but often they are irreversible. The following operations always produce the same result, independent of the input. This is clearly not reversible."
   ]
  },
  {
   "cell_type": "code",
   "execution_count": null,
   "id": "73e65c31",
   "metadata": {},
   "outputs": [],
   "source": [
    "f_0 = matrix([[0, 0], [1, 1]])\n",
    "f_1 = matrix([[1, 1], [0, 0]])\n",
    "s(f_0, f_1)"
   ]
  },
  {
   "cell_type": "markdown",
   "id": "d67de37c",
   "metadata": {},
   "source": [
    "Let's apply the operations to the z base kets."
   ]
  },
  {
   "cell_type": "code",
   "execution_count": null,
   "id": "02f4ae66",
   "metadata": {},
   "outputs": [],
   "source": [
    "z_0 = matrix([1, 0]).transpose()\n",
    "z_1 = matrix([0, 1]).transpose()\n",
    "s(f_0 * z_0, f_0 * z_1)\n",
    "s(f_1 * z_0, f_1 * z_1)"
   ]
  },
  {
   "cell_type": "markdown",
   "id": "a9a8b305",
   "metadata": {},
   "source": [
    "We can show easily that these operations are not unitary. Multiplying a unitary matrix with its conjugate transposed results in the unit matrix."
   ]
  },
  {
   "cell_type": "code",
   "execution_count": null,
   "id": "afbc76df",
   "metadata": {},
   "outputs": [],
   "source": [
    "s(f_0 * f_0.conjugate_transpose())\n",
    "s(f_1 * f_1.conjugate_transpose())"
   ]
  },
  {
   "cell_type": "markdown",
   "id": "d301d124",
   "metadata": {},
   "source": [
    "We have a unary (unary: one bit in, one bit out $\\neq$ unitary) function $f(x)$. We can create a quantum circuit which calculates $f$ and preserves the output. Therefore it is reversible and a valid operation. The $\\oplus$ sign represents the binary xor operation.\n",
    "![circuit.png](attachment:circuit.png)"
   ]
  },
  {
   "cell_type": "markdown",
   "id": "59df5441",
   "metadata": {},
   "source": [
    "How to construct the matrix $U_f$? In general, we can construct the matrix of a unitary operation $U$ by concatenating the column vectors that arise when we apply $U$ to the base states:\n",
    "\n",
    "$U_f = (U_f\\lvert00\\rangle, U_f\\lvert01\\rangle, U_f\\lvert10\\rangle, U_f\\lvert11\\rangle)$\n",
    "\n",
    "For our $U_f$, $x$ remains the same and $y$ becomes $y\\oplus f(x)$, therefore\n",
    "\n",
    "$U_f=(\\lvert0\\rangle\\lvert0\\oplus f(0)\\rangle, \\lvert0\\rangle\\lvert1\\oplus f(0)\\rangle, \\lvert1\\rangle\\lvert0\\oplus f(1)\\rangle, \\lvert1\\rangle\\lvert1\\oplus f(1)\\rangle)$\n",
    "\n",
    "If we apply the xor operation (also called addition modulo 2) with the value $0$ to any bit, it remains the same. With $1$ it gets inverted, therefore\n",
    "\n",
    "$U_f=(\\lvert0\\rangle\\lvert f(0)\\rangle, \\lvert0\\rangle \\lvert\\overline{f(0)}\\rangle,  \\lvert1\\rangle\\lvert f(1)\\rangle, \\lvert1\\rangle \\lvert\\overline{f(1)}\\rangle$,\n",
    "which can be seen as a manual to construct the matrix $U_f$ for arbitrary functions $f(x)$."
   ]
  },
  {
   "cell_type": "markdown",
   "id": "39706b2e",
   "metadata": {},
   "source": [
    "Matrices for the four unary operations $f(x)=0$, $f(x)=1$, $f(x)=x$ and $f(x)=\\bar{x}$:"
   ]
  },
  {
   "cell_type": "code",
   "execution_count": null,
   "id": "3e46d6ae",
   "metadata": {},
   "outputs": [],
   "source": [
    "zero_rev = matrix([[1, 0, 0, 0], \n",
    "                   [0, 1, 0, 0], \n",
    "                   [0, 0, 1, 0], \n",
    "                   [0, 0, 0, 1]])\n",
    "one_rev = matrix([[0, 1, 0, 0],\n",
    "                  [1, 0, 0, 0],\n",
    "                  [0, 0, 0, 1],\n",
    "                  [0, 0, 1, 0]])\n",
    "id_rev = matrix([[1, 0, 0, 0],\n",
    "                 [0, 1, 0, 0],\n",
    "                 [0, 0, 0, 1],\n",
    "                 [0, 0, 1, 0]])\n",
    "not_rev = matrix([[0, 1, 0, 0],\n",
    "                  [1, 0, 0, 0],\n",
    "                  [0, 0, 1, 0],\n",
    "                  [0, 0, 0, 1]])\n",
    "s(zero_rev, one_rev, id_rev, not_rev)"
   ]
  },
  {
   "cell_type": "markdown",
   "id": "07b8ab7a",
   "metadata": {},
   "source": [
    "Let us test the operations. We always set $y = 0$, since $0 \\oplus f(x) = f(x)$:"
   ]
  },
  {
   "cell_type": "code",
   "execution_count": null,
   "id": "64c7c705",
   "metadata": {},
   "outputs": [],
   "source": [
    "z_0 = matrix([1, 0]).transpose()\n",
    "z_1 = matrix([0, 1]).transpose()\n",
    "for op in [zero_rev, one_rev, id_rev, not_rev]:\n",
    "    for ket in [z_0, z_1]:\n",
    "        s(op, '*', ket.tensor_product(z_0), '=', op * ket.tensor_product(z_0))"
   ]
  },
  {
   "cell_type": "markdown",
   "id": "e0f06a42",
   "metadata": {},
   "source": [
    "Are the operations reversible?"
   ]
  },
  {
   "cell_type": "code",
   "execution_count": null,
   "id": "b1539597",
   "metadata": {},
   "outputs": [],
   "source": [
    "for op in [zero_rev, one_rev, id_rev, not_rev]:\n",
    "    s(zero_rev * zero_rev.conjugate_transpose())"
   ]
  },
  {
   "cell_type": "markdown",
   "id": "b48754c0",
   "metadata": {},
   "source": [
    "We can proof for all $U_f$ constructed in this way, that they are their own inverse. If $U_f$ is it's own inverse, we can apply it two times to a ket $\\lvert xy\\rangle$ and receive the initial state. With some transformations, we can show that this works for all $U_f$ constructed like shown above. Note that $f(x)\\oplus f(x) = 0$ for all $f(x)$ and $x$ and that $y\\oplus 0=y$.\n",
    "\n",
    "$(U_f U_f)\\lvert xy\\rangle = U_f(U_f\\lvert xy\\rangle) = U_f(\\lvert x\\rangle \\lvert y\\oplus f(x)\\rangle) = \\lvert x\\rangle\\lvert(y\\oplus f(x))\\oplus f(x)\\rangle = \\lvert x\\rangle\\lvert y\\oplus (f(x)\\oplus f(x))\\rangle = \\lvert xy\\rangle$\n"
   ]
  },
  {
   "cell_type": "markdown",
   "id": "ae1abfaf",
   "metadata": {},
   "source": [
    "Construction of the matrix is straightforward, we can write a function that converts a lookup table of a boolean function to the corresponding matrix. The input of the function \"lookup_table\" is a list which contains all values of $f(x)$, e.g. $[0,0,0,1]$ for the and-gate. "
   ]
  },
  {
   "cell_type": "code",
   "execution_count": null,
   "id": "0942921b",
   "metadata": {},
   "outputs": [],
   "source": [
    "def get_ket(bit_str):\n",
    "    # create a state vector in z-base from binary string\n",
    "    z_0 = matrix([1, 0]).transpose()\n",
    "    z_1 = matrix([0, 1]).transpose()\n",
    "    v = matrix([1])\n",
    "    for b in bit_str:\n",
    "        if b == '0':\n",
    "            v = v.tensor_product(z_0)\n",
    "        else:\n",
    "            v = v.tensor_product(z_1)\n",
    "    return v\n",
    "\n",
    "def flip_bit(bit):\n",
    "    # flip a bit in string form\n",
    "    if bit == '0':\n",
    "        return '1'\n",
    "    if bit == '1':\n",
    "        return '0'\n",
    "\n",
    "def construct_rev_operation(lookup_table):\n",
    "    # construct the matrix for the reversible operation of an arbitrary boolean function,\n",
    "    # the lookup_table contains results of the function for all possible ordered inputs\n",
    "    num_input = log(len(lookup_table), 2)\n",
    "    m = []\n",
    "    for i in range(2**num_input):\n",
    "        m.append(get_ket(format(i, '0' + str(num_input) + 'b') + str(lookup_table[i])).list())\n",
    "        m.append(get_ket(format(i, '0' + str(num_input) + 'b') + flip_bit(str(lookup_table[i]))).list())\n",
    "    return matrix(m).transpose()"
   ]
  },
  {
   "cell_type": "markdown",
   "id": "2ba346cd",
   "metadata": {},
   "source": [
    "Let us test the function for the manually created matrices and some additional ones."
   ]
  },
  {
   "cell_type": "code",
   "execution_count": null,
   "id": "7cfe4394",
   "metadata": {},
   "outputs": [],
   "source": [
    "s('Always zero:', construct_rev_operation([0, 0]))\n",
    "s('Always one:', construct_rev_operation([1, 1]))\n",
    "s('Identity:', construct_rev_operation([0, 1]))\n",
    "s('Not:', construct_rev_operation([1, 0]))\n",
    "s('And:', construct_rev_operation([0, 0, 0, 1]))\n",
    "s('Or:', construct_rev_operation([0, 1, 1, 1]))\n",
    "s('Xor:', construct_rev_operation([0, 1, 1, 0]))\n",
    "s('2-Bit always zero:', construct_rev_operation([0, 0, 0, 0]))\n",
    "s('3-Bit and:', construct_rev_operation([0, 0, 0, 0, 0, 0, 0, 1]))"
   ]
  },
  {
   "cell_type": "markdown",
   "id": "5f6b9c21",
   "metadata": {},
   "source": [
    "Observation: The matrix has $\\begin{pmatrix}1&0\\\\0&1\\end{pmatrix}$ along the diagonal if there is a zero in the result vector and $\\begin{pmatrix}0&1\\\\1&0\\end{pmatrix}$ if there is a one. With this knowledge we can simplify the construction of the matrix."
   ]
  },
  {
   "cell_type": "code",
   "execution_count": null,
   "id": "45c18f6c",
   "metadata": {},
   "outputs": [],
   "source": [
    "def simple_construct_rev_operation(lookup_table):\n",
    "    m = identity_matrix(len(lookup_table)*2)\n",
    "    for i, b in enumerate(lookup_table):\n",
    "        if b == 1:\n",
    "            m.swap_rows(i*2, i*2+1)\n",
    "    return m"
   ]
  },
  {
   "cell_type": "code",
   "execution_count": null,
   "id": "bda9952c",
   "metadata": {},
   "outputs": [],
   "source": [
    "s('Always zero:', simple_construct_rev_operation([0, 0]))\n",
    "s('Always one:', simple_construct_rev_operation([1, 1]))\n",
    "s('Identity:', simple_construct_rev_operation([0, 1]))\n",
    "s('Not:', simple_construct_rev_operation([1, 0]))\n",
    "s('And:', simple_construct_rev_operation([0, 0, 0, 1]))\n",
    "s('Or:', simple_construct_rev_operation([0, 1, 1, 1]))\n",
    "s('Xor:', simple_construct_rev_operation([0, 1, 1, 0]))\n",
    "s('2-Bit always zero:', simple_construct_rev_operation([0, 0, 0, 0]))\n",
    "s('3-Bit and:', simple_construct_rev_operation([0, 0, 0, 0, 0, 0, 0, 1]))"
   ]
  },
  {
   "cell_type": "markdown",
   "id": "70ceb066",
   "metadata": {},
   "source": [
    "# 3. Probability a state $\\lvert \\alpha \\rangle$ jumps to Eigenstate $\\lvert a^{(i)}\\rangle$"
   ]
  },
  {
   "cell_type": "markdown",
   "id": "fa64d58a",
   "metadata": {},
   "source": [
    "The probability a system jumps in $\\lvert a^{(i)}\\rangle$ is postulated as $P_{\\lvert\\alpha\\rangle\\stackrel{\\mathsf{A}}{\\Rightarrow} \\lvert a^{(i)}\\rangle} := |\\langle a^{(i)} \\lvert \\alpha \\rangle|^2$. ``x_0``, ``x_1``, ``y_0``, ``y_1``, ``z_0`` and ``z_1`` are the kets $\\lvert 0\\rangle$, $\\lvert 1\\rangle$, $\\lvert +\\rangle$, $\\lvert -\\rangle$, $\\lvert +i\\rangle$ and $\\lvert -i\\rangle$. The capital ``I`` denotes the imaginary unit in Sagemath. The ``transpose`` is required to get a column vector."
   ]
  },
  {
   "cell_type": "code",
   "execution_count": null,
   "id": "4a3c5aae",
   "metadata": {},
   "outputs": [],
   "source": [
    "x_0 = 1/sqrt(2) * matrix((1, 1)).transpose()\n",
    "x_1 = 1/sqrt(2) * matrix((1, -1)).transpose()\n",
    "y_0 = 1/sqrt(2) * matrix((1, I)).transpose()\n",
    "y_1 = 1/sqrt(2) * matrix((1, -I)).transpose()\n",
    "z_0 = matrix((1, 0)).transpose()\n",
    "z_1 = matrix((0, 1)).transpose()\n",
    "s(x_0, x_1, y_0, y_1, z_0, z_1)"
   ]
  },
  {
   "cell_type": "markdown",
   "id": "038fc685",
   "metadata": {},
   "source": [
    "We calculate the probability that different systems jump in $\\lvert 0 \\rangle$. The ``conjugate_transpose`` function is used to create a bra from a ket."
   ]
  },
  {
   "cell_type": "code",
   "execution_count": null,
   "id": "21fa1d9f",
   "metadata": {},
   "outputs": [],
   "source": [
    "s(abs((z_0.conjugate_transpose() * z_0)[0])^2)\n",
    "s(abs((z_0.conjugate_transpose() * z_1)[0])^2)\n",
    "s(abs((z_0.conjugate_transpose() * x_0)[0])^2)\n",
    "s(abs((z_0.conjugate_transpose() * x_1)[0])^2)\n",
    "s(abs((z_0.conjugate_transpose() * y_0)[0])^2)\n",
    "s(abs((z_0.conjugate_transpose() * x_1)[0])^2)"
   ]
  },
  {
   "cell_type": "markdown",
   "id": "000a5039",
   "metadata": {},
   "source": [
    "## Constructing Measurement Operators"
   ]
  },
  {
   "cell_type": "markdown",
   "id": "4923bc03",
   "metadata": {},
   "source": [
    "We can construct $S_x$, $S_y$ and $S_z$ with $\\mathsf{A} = \\sum_{i=1}^na_i\\lvert a^{(i)}\\rangle\\langle a^{(i)}\\lvert$. In the following code, the elements of the sum are written down explicitely, since there are only two elements. Note that we dropped the constant $\\hbar / 2$ for simplicity."
   ]
  },
  {
   "cell_type": "code",
   "execution_count": null,
   "id": "2febbb1f",
   "metadata": {},
   "outputs": [],
   "source": [
    "Sx = x_0 * x_0.conjugate_transpose() - x_1 * x_1.conjugate_transpose()\n",
    "Sy = y_0 * y_0.conjugate_transpose() - y_1 * y_1.conjugate_transpose()\n",
    "Sz = z_0 * z_0.conjugate_transpose() - z_1 * z_1.conjugate_transpose()\n",
    "s(Sx, Sy, Sz)"
   ]
  },
  {
   "cell_type": "markdown",
   "id": "baee6fa4",
   "metadata": {},
   "source": [
    "## Expectation Values"
   ]
  },
  {
   "cell_type": "markdown",
   "id": "298b479e",
   "metadata": {},
   "source": [
    "The expectation value when \"measuring\" a state $\\lvert\\alpha\\rangle$ by an operator $A$ can be calculated as $\\langle\\alpha\\rvert A \\lvert\\alpha\\rangle$. Note that since we dropped the constant $\\hbar / 2$ when we constructed the measurement operators, we need to multiply all expectation values with this constant."
   ]
  },
  {
   "cell_type": "code",
   "execution_count": null,
   "id": "8ac4499a",
   "metadata": {},
   "outputs": [],
   "source": [
    "s(x_0.conjugate_transpose() * Sx * x_0, x_1.conjugate_transpose() * Sx * x_1)\n",
    "s(y_0.conjugate_transpose() * Sx * y_0, y_1.conjugate_transpose() * Sx * y_1)\n",
    "s(z_0.conjugate_transpose() * Sx * z_0, z_1.conjugate_transpose() * Sx * z_1)"
   ]
  },
  {
   "cell_type": "code",
   "execution_count": null,
   "id": "491ba614",
   "metadata": {},
   "outputs": [],
   "source": [
    "s(x_0.conjugate_transpose() * Sy * x_0, x_1.conjugate_transpose() * Sy * x_1)\n",
    "s(y_0.conjugate_transpose() * Sy * y_0, y_1.conjugate_transpose() * Sy * y_1)\n",
    "s(z_0.conjugate_transpose() * Sy * z_0, z_1.conjugate_transpose() * Sy * z_1)"
   ]
  },
  {
   "cell_type": "code",
   "execution_count": null,
   "id": "ab9f709f",
   "metadata": {},
   "outputs": [],
   "source": [
    "s(x_0.conjugate_transpose() * Sz * x_0, x_1.conjugate_transpose() * Sz * x_1)\n",
    "s(y_0.conjugate_transpose() * Sz * y_0, y_1.conjugate_transpose() * Sz * y_1)\n",
    "s(z_0.conjugate_transpose() * Sz * z_0, z_1.conjugate_transpose() * Sz * z_1)"
   ]
  },
  {
   "cell_type": "markdown",
   "id": "14ac1507",
   "metadata": {},
   "source": [
    "# 4. Superdense Coding"
   ]
  },
  {
   "cell_type": "markdown",
   "id": "ced110a7",
   "metadata": {},
   "source": [
    "Parts of this notebook are inspired by Michael Loceffs script \"A Course in Quantum Computing\", which is a very well written introductions to quantum computing.\n",
    "\n",
    "Claim: We can send two bits of information with only one qubit. Careful: It may seem like a qubit contains an infinite amount of information, since we describe the state with two complex numbers, however the state collapses during measurement.\n",
    "For the algorithm we'll make use of the four Bell states:\n",
    "* $\\lvert\\beta_{00}\\rangle = \\frac{\\lvert{00}\\rangle + \\lvert{11}\\rangle}{\\sqrt{2}}$\n",
    "* $\\lvert\\beta_{01}\\rangle = \\frac{\\lvert{01}\\rangle + \\lvert{10}\\rangle}{\\sqrt{2}}$\n",
    "* $\\lvert\\beta_{10}\\rangle = \\frac{\\lvert{00}\\rangle - \\lvert{11}\\rangle}{\\sqrt{2}}$\n",
    "* $\\lvert\\beta_{11}\\rangle = \\frac{\\lvert{01}\\rangle - \\lvert{10}\\rangle}{\\sqrt{2}}$\n",
    "\n",
    "First we need to prepare the state $\\lvert\\beta_{00}\\rangle$, which can be done with the following circuit:\n",
    "![circuit_beta_00-2.png](attachment:circuit_beta_00-2.png)"
   ]
  },
  {
   "cell_type": "code",
   "execution_count": null,
   "id": "d0983888",
   "metadata": {},
   "outputs": [],
   "source": [
    "psi_0 = matrix([1, 0]).transpose()\n",
    "# states of multiple qubits can be derived with the tensor product of single qubit states\n",
    "psi_00 = psi_0.tensor_product(psi_0)\n",
    "s(psi_00)"
   ]
  },
  {
   "cell_type": "code",
   "execution_count": null,
   "id": "759434c7",
   "metadata": {},
   "outputs": [],
   "source": [
    "# parallel gates are the tensor product of the individual gates\n",
    "# \"no gate\" is equivalent to the identity matrix\n",
    "H = 1 / sqrt(2) * matrix([[1, 1], [1, -1]])\n",
    "H_2 = H.tensor_product(identity_matrix(2))\n",
    "CNOT = matrix([[1, 0, 0, 0], [0, 1, 0, 0], [0, 0, 0, 1], [0, 0, 1, 0]])\n",
    "s(H_2, CNOT)"
   ]
  },
  {
   "cell_type": "code",
   "execution_count": null,
   "id": "e81ad43f",
   "metadata": {},
   "outputs": [],
   "source": [
    "# lets prepare the bell state\n",
    "# careful: multiplication is done in reverse order compared to the circuit diagram, \n",
    "# since gates are applied from the left\n",
    "bell_00 = CNOT * H_2 * psi_00\n",
    "s(bell_00)"
   ]
  },
  {
   "cell_type": "markdown",
   "id": "f605cda9",
   "metadata": {},
   "source": [
    "Qubits in the bell state are entangled, we can see from the ket that either both collapse to 0 or both collapse to 1. In a preparation step, Alice and Bob both take one of the qubits. This can be done any time before the communication takes place and the qubits can be spatially seperated (we \"only\" need to asure, that the qubits are not disturbed and lose their entaglement).\n",
    "The qubits are spatially seperated, but still represent an inseperable common state!\n",
    "\n",
    "To encode her message, Alice applies one of the following gates:\n",
    "\n",
    "| Alice wants to send | Alice applies | Equivalent binary gate         | New state                 |\n",
    "|:-------------------:|:-------------:|:------------------------------:|:-------------------------:|\n",
    "|               $$00$$|        nothing|$$\\mathbb{1}\\otimes \\mathbb{1}$$|$$\\lvert\\beta_{00}\\rangle$$|\n",
    "|               $$01$$|          $$X$$|         $$X\\otimes \\mathbb{1}$$|$$\\lvert\\beta_{01}\\rangle$$|\n",
    "|               $$10$$|          $$Z$$|         $$Z\\otimes \\mathbb{1}$$|$$\\lvert\\beta_{10}\\rangle$$|\n",
    "|               $$11$$|         $$iY$$|        $$iY\\otimes \\mathbb{1}$$|$$\\lvert\\beta_{11}\\rangle$$|\n",
    "\n",
    "The gates manipulate the whole state and therefore also the qubit of Bob, which is indicated by the the tensor product with the identity matrix. But this also means that Bob does not need to do anything with his qubit for the operation! Application of one of the gates transforms the state to one of the other Bell states."
   ]
  },
  {
   "cell_type": "code",
   "execution_count": null,
   "id": "a5843b41",
   "metadata": {},
   "outputs": [],
   "source": [
    "X = matrix([[0, 1], [1, 0]])\n",
    "Z = matrix([[1, 0], [0, -1]])\n",
    "iY = matrix([[0, 1], [-1, 0]])\n",
    "s(X, Z, iY)"
   ]
  },
  {
   "cell_type": "code",
   "execution_count": null,
   "id": "ca487e28",
   "metadata": {},
   "outputs": [],
   "source": [
    "X_2 = X.tensor_product(identity_matrix(2))\n",
    "Z_2 = Z.tensor_product(identity_matrix(2))\n",
    "iY_2 = iY.tensor_product(identity_matrix(2))\n",
    "s(X_2, Z_2, iY_2)"
   ]
  },
  {
   "cell_type": "code",
   "execution_count": null,
   "id": "34505da3",
   "metadata": {},
   "outputs": [],
   "source": [
    "bell_00 = identity_matrix(4) * bell_00\n",
    "bell_01 = X_2 * bell_00\n",
    "bell_10 = Z_2 * bell_00\n",
    "bell_11 = iY_2 * bell_00\n",
    "s(bell_00, bell_01, bell_10, bell_11)"
   ]
  },
  {
   "cell_type": "markdown",
   "id": "57ee1f5c",
   "metadata": {},
   "source": [
    "Now Alice only needs to send one qubit to Bob for him to have two qubits in one of the four Bell states. All Bob has to do to decode the message is to measure along the Bell basis. This can be done by transforming the state to the z-basis. A Hadamard and CNOT gate transform from the z- to the Bell-basis, we can do the reverse operation to get back to the z-basis."
   ]
  },
  {
   "cell_type": "code",
   "execution_count": null,
   "id": "6912d40d",
   "metadata": {},
   "outputs": [],
   "source": [
    "H_2 = H.tensor_product(identity_matrix(2))\n",
    "BELL_adj = H_2 * CNOT\n",
    "s(BELL_adj)"
   ]
  },
  {
   "cell_type": "code",
   "execution_count": null,
   "id": "e15f1a01",
   "metadata": {},
   "outputs": [],
   "source": [
    "s(BELL_adj*bell_00, BELL_adj*bell_01, BELL_adj*bell_10, BELL_adj*bell_11)"
   ]
  },
  {
   "cell_type": "markdown",
   "id": "ec825bf9",
   "metadata": {},
   "source": [
    "What is the magic?\n",
    "* Alice sent two bits of classical information with only one qubit. The initial preparation can be done any time beforehand. Bob could fill a whole bag with prepared qubits, fly to the other end of the world end enjoy half the communication cost to communicate with Alice.\n",
    "* This is possible because both bits represent a common state and by physically manupilating only one bit, Alice can change the common state of both bits.\n",
    "* However she needs to send her bit to Bob for him to make use of it, so there is no violation of Einsteins theory of relativity.\n",
    "* The example is simple and easy to follow, but shows that we can do things in the quantum world, which are impossible in the classical world."
   ]
  },
  {
   "cell_type": "markdown",
   "id": "273592d1",
   "metadata": {},
   "source": [
    "# 5. Bloch Sphere Examples"
   ]
  },
  {
   "cell_type": "markdown",
   "id": "3c85d55e",
   "metadata": {},
   "source": [
    "To run these examples you need to install [qiskit](https://qiskit.org/documentation/getting_started.html). The function ``hopf_map`` converts the state vector of a 1-qubit state to a vector in the 3D-Bloch Sphere. Remember that the Bloch Sphere is only a visualization, the vector in the sphere is **not** the state vector. "
   ]
  },
  {
   "cell_type": "code",
   "execution_count": null,
   "id": "0cfdc1fb",
   "metadata": {},
   "outputs": [],
   "source": [
    "import math\n",
    "from qiskit.visualization import plot_bloch_vector\n",
    "%matplotlib inline"
   ]
  },
  {
   "cell_type": "code",
   "execution_count": null,
   "id": "06de876a",
   "metadata": {},
   "outputs": [],
   "source": [
    "def hopf_map(state):\n",
    "    x_0 = state[0].real\n",
    "    x_1 = state[0].imag\n",
    "    x_2 = state[1].real\n",
    "    x_3 = state[1].imag\n",
    "    x = 2 * (x_0 * x_2 + x_1 * x_3)\n",
    "    y = 2 * (x_3 * x_0 + x_1 * x_2)\n",
    "    z = x_0 ** 2 + x_1 ** 2 - x_2 ** 2 - x_3 ** 2\n",
    "    return (x, y, z)"
   ]
  },
  {
   "cell_type": "code",
   "execution_count": null,
   "id": "8659f42b",
   "metadata": {},
   "outputs": [],
   "source": [
    "# plot |0>\n",
    "plot_bloch_vector(hopf_map((1, 0)))"
   ]
  },
  {
   "cell_type": "code",
   "execution_count": null,
   "id": "0d140f0c",
   "metadata": {},
   "outputs": [],
   "source": [
    "# plot |1>\n",
    "plot_bloch_vector(hopf_map((0, 1)))"
   ]
  },
  {
   "cell_type": "code",
   "execution_count": null,
   "id": "43e836ef",
   "metadata": {},
   "outputs": [],
   "source": [
    "# plot |+>\n",
    "plot_bloch_vector(hopf_map((1 / math.sqrt(2), 1 / math.sqrt(2))))"
   ]
  },
  {
   "cell_type": "code",
   "execution_count": null,
   "id": "9c706acb",
   "metadata": {},
   "outputs": [],
   "source": [
    "# plot |->\n",
    "plot_bloch_vector(hopf_map((1 / math.sqrt(2), -1 / math.sqrt(2))))"
   ]
  },
  {
   "cell_type": "code",
   "execution_count": null,
   "id": "0b05f572",
   "metadata": {},
   "outputs": [],
   "source": [
    "# plot |+i>\n",
    "plot_bloch_vector(hopf_map((1 / math.sqrt(2), 1.j / math.sqrt(2))))"
   ]
  },
  {
   "cell_type": "code",
   "execution_count": null,
   "id": "432d4fe2",
   "metadata": {},
   "outputs": [],
   "source": [
    "# plot |-i>\n",
    "plot_bloch_vector(hopf_map((1 / math.sqrt(2), -1.j / math.sqrt(2))))"
   ]
  }
 ],
 "metadata": {
  "kernelspec": {
   "display_name": "SageMath 10.6",
   "language": "sage",
   "name": "sagemath"
  },
  "language_info": {
   "codemirror_mode": {
    "name": "ipython",
    "version": 3
   },
   "file_extension": ".py",
   "mimetype": "text/x-python",
   "name": "sage",
   "nbconvert_exporter": "python",
   "pygments_lexer": "ipython3",
   "version": "3.12.10"
  }
 },
 "nbformat": 4,
 "nbformat_minor": 5
}
