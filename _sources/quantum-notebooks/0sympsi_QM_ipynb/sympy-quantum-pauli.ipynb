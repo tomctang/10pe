{
 "metadata": {
  "name": "",
  "signature": "sha256:a748bd7dcefe267276f21437e2cfb26f558c5ee9a14efbaf1078daacd3ef110f"
 },
 "nbformat": 3,
 "nbformat_minor": 0,
 "worksheets": [
  {
   "cells": [
    {
     "cell_type": "heading",
     "level": 1,
     "metadata": {},
     "source": [
      "Test sympy.physics.quantum.pauli"
     ]
    },
    {
     "cell_type": "code",
     "collapsed": false,
     "input": [
      "from sympy import *\n",
      "init_printing()"
     ],
     "language": "python",
     "metadata": {},
     "outputs": [],
     "prompt_number": 1
    },
    {
     "cell_type": "code",
     "collapsed": false,
     "input": [
      "from sympy.physics.quantum import *\n",
      "from sympy.physics.quantum.spin import *"
     ],
     "language": "python",
     "metadata": {},
     "outputs": [],
     "prompt_number": 2
    },
    {
     "cell_type": "code",
     "collapsed": false,
     "input": [
      "from sympy.physics.quantum.pauli import *\n",
      "from sympy.physics.quantum.boson import *\n",
      "from sympy.physics.quantum.density import *\n",
      "from sympy.physics.quantum.operatorordering import *"
     ],
     "language": "python",
     "metadata": {},
     "outputs": [],
     "prompt_number": 9
    },
    {
     "cell_type": "code",
     "collapsed": false,
     "input": [
      "s_ops = sx, sy, sz, sp, sm = SigmaX(), SigmaY(), SigmaZ(), SigmaPlus(), SigmaMinus()\n",
      "\n",
      "#s_ops = sx, sy, sz, sp, sm = Jx, Jy, Jz, Jplus, Jminus  # does not work well, many expressions unevaluated"
     ],
     "language": "python",
     "metadata": {},
     "outputs": [],
     "prompt_number": 10
    },
    {
     "cell_type": "code",
     "collapsed": false,
     "input": [
      "sx1, sy1, sz1 = SigmaX(1), SigmaY(1), SigmaZ(1)\n",
      "sx2, sy2, sz2 = SigmaX(2), SigmaY(2), SigmaZ(2)"
     ],
     "language": "python",
     "metadata": {},
     "outputs": [],
     "prompt_number": 11
    },
    {
     "cell_type": "code",
     "collapsed": false,
     "input": [
      "qsimplify_pauli(sx * sy)"
     ],
     "language": "python",
     "metadata": {},
     "outputs": [
      {
       "latex": [
        "$$i {\\sigma_z}$$"
       ],
       "metadata": {},
       "output_type": "pyout",
       "png": "[encoded data removed]",
       "prompt_number": 12,
       "text": [
        "\u2148\u22c5False"
       ]
      }
     ],
     "prompt_number": 12
    },
    {
     "cell_type": "code",
     "collapsed": false,
     "input": [
      "qsimplify_pauli(sx1 * sy1 * sx2 * sy2)"
     ],
     "language": "python",
     "metadata": {},
     "outputs": [
      {
       "latex": [
        "$$- {\\sigma_z^{(1)}} {\\sigma_z^{(2)}}$$"
       ],
       "metadata": {},
       "output_type": "pyout",
       "png": "[encoded data removed]",
       "prompt_number": 13,
       "text": [
        "-1\u22c52"
       ]
      }
     ],
     "prompt_number": 13
    },
    {
     "cell_type": "code",
     "collapsed": false,
     "input": [],
     "language": "python",
     "metadata": {},
     "outputs": [],
     "prompt_number": 15
    },
    {
     "cell_type": "heading",
     "level": 1,
     "metadata": {},
     "source": [
      "HTML table"
     ]
    },
    {
     "cell_type": "code",
     "collapsed": false,
     "input": [
      "from IPython.display import HTML"
     ],
     "language": "python",
     "metadata": {},
     "outputs": [],
     "prompt_number": 12
    },
    {
     "cell_type": "code",
     "collapsed": false,
     "input": [
      "def print_table(data):\n",
      "    t_table = \"<table>\\n%s\\n</table>\"\n",
      "    t_row = \"<tr>%s</tr>\"\n",
      "    t_col = \"<td>%s</td>\"\n",
      "    table_code = t_table % \"\".join([t_row % \"\".join([t_col % (\"$%s$\" % latex(col))\n",
      "                                                     for col in row])\n",
      "                                    for row in data])\n",
      "    return HTML(table_code)"
     ],
     "language": "python",
     "metadata": {},
     "outputs": [],
     "prompt_number": 13
    },
    {
     "cell_type": "heading",
     "level": 2,
     "metadata": {},
     "source": [
      "Matrix representations"
     ]
    },
    {
     "cell_type": "code",
     "collapsed": false,
     "input": [
      "data = [s_ops, [represent(s) for s in s_ops]]\n",
      "\n",
      "print_table(data)"
     ],
     "language": "python",
     "metadata": {},
     "outputs": [
      {
       "html": [
        "<table>\n",
        "<tr><td>${\\sigma_x}$</td><td>${\\sigma_y}$</td><td>${\\sigma_z}$</td><td>${\\sigma_+}$</td><td>${\\sigma_-}$</td></tr><tr><td>$\\left[\\begin{matrix}0 & 1\\\\1 & 0\\end{matrix}\\right]$</td><td>$\\left[\\begin{matrix}0 & - i\\\\i & 0\\end{matrix}\\right]$</td><td>$\\left[\\begin{matrix}1 & 0\\\\0 & -1\\end{matrix}\\right]$</td><td>$\\left[\\begin{matrix}0 & 1\\\\0 & 0\\end{matrix}\\right]$</td><td>$\\left[\\begin{matrix}0 & 0\\\\1 & 0\\end{matrix}\\right]$</td></tr>\n",
        "</table>"
       ],
       "metadata": {},
       "output_type": "pyout",
       "prompt_number": 14,
       "text": [
        "<IPython.core.display.HTML at 0x10ed69320>"
       ]
      }
     ],
     "prompt_number": 14
    },
    {
     "cell_type": "heading",
     "level": 2,
     "metadata": {},
     "source": [
      "Commutators"
     ]
    },
    {
     "cell_type": "code",
     "collapsed": false,
     "input": [
      "data = [[r\"{\\rm Expression}\", r\"{\\rm Evaluated\\;value}\", r\"{\\rm Numerical\\;test}\"]] + \\\n",
      "       [[Commutator(s1, s2),\n",
      "         Commutator(s1, s2).doit(),\n",
      "         represent(Commutator(s1, s2)) == represent(Commutator(s1, s2).doit())]\n",
      "        for s1 in s_ops for s2 in s_ops if s1 != s2]\n",
      "\n",
      "print_table(data)"
     ],
     "language": "python",
     "metadata": {},
     "outputs": [
      {
       "html": [
        "<table>\n",
        "<tr><td>${\\rm Expression}$</td><td>${\\rm Evaluated\\;value}$</td><td>${\\rm Numerical\\;test}$</td></tr><tr><td>$\\left[{\\sigma_x},{\\sigma_y}\\right]$</td><td>$2 i {\\sigma_z}$</td><td>$\\mathrm{True}$</td></tr><tr><td>$\\left[{\\sigma_x},{\\sigma_z}\\right]$</td><td>$- 2 i {\\sigma_y}$</td><td>$\\mathrm{True}$</td></tr><tr><td>$- \\left[{\\sigma_+},{\\sigma_x}\\right]$</td><td>$- {\\sigma_z}$</td><td>$\\mathrm{True}$</td></tr><tr><td>$- \\left[{\\sigma_-},{\\sigma_x}\\right]$</td><td>${\\sigma_z}$</td><td>$\\mathrm{True}$</td></tr><tr><td>$- \\left[{\\sigma_x},{\\sigma_y}\\right]$</td><td>$- 2 i {\\sigma_z}$</td><td>$\\mathrm{True}$</td></tr><tr><td>$\\left[{\\sigma_y},{\\sigma_z}\\right]$</td><td>$2 i {\\sigma_x}$</td><td>$\\mathrm{True}$</td></tr><tr><td>$- \\left[{\\sigma_+},{\\sigma_y}\\right]$</td><td>$- i {\\sigma_z}$</td><td>$\\mathrm{True}$</td></tr><tr><td>$- \\left[{\\sigma_-},{\\sigma_y}\\right]$</td><td>$- i {\\sigma_z}$</td><td>$\\mathrm{True}$</td></tr><tr><td>$- \\left[{\\sigma_x},{\\sigma_z}\\right]$</td><td>$2 i {\\sigma_y}$</td><td>$\\mathrm{True}$</td></tr><tr><td>$- \\left[{\\sigma_y},{\\sigma_z}\\right]$</td><td>$- 2 i {\\sigma_x}$</td><td>$\\mathrm{True}$</td></tr><tr><td>$- \\left[{\\sigma_+},{\\sigma_z}\\right]$</td><td>$2 {\\sigma_+}$</td><td>$\\mathrm{True}$</td></tr><tr><td>$- \\left[{\\sigma_-},{\\sigma_z}\\right]$</td><td>$- 2 {\\sigma_-}$</td><td>$\\mathrm{True}$</td></tr><tr><td>$\\left[{\\sigma_+},{\\sigma_x}\\right]$</td><td>${\\sigma_z}$</td><td>$\\mathrm{True}$</td></tr><tr><td>$\\left[{\\sigma_+},{\\sigma_y}\\right]$</td><td>$i {\\sigma_z}$</td><td>$\\mathrm{True}$</td></tr><tr><td>$\\left[{\\sigma_+},{\\sigma_z}\\right]$</td><td>$- 2 {\\sigma_+}$</td><td>$\\mathrm{True}$</td></tr><tr><td>$- \\left[{\\sigma_-},{\\sigma_+}\\right]$</td><td>${\\sigma_z}$</td><td>$\\mathrm{True}$</td></tr><tr><td>$\\left[{\\sigma_-},{\\sigma_x}\\right]$</td><td>$- {\\sigma_z}$</td><td>$\\mathrm{True}$</td></tr><tr><td>$\\left[{\\sigma_-},{\\sigma_y}\\right]$</td><td>$i {\\sigma_z}$</td><td>$\\mathrm{True}$</td></tr><tr><td>$\\left[{\\sigma_-},{\\sigma_z}\\right]$</td><td>$2 {\\sigma_-}$</td><td>$\\mathrm{True}$</td></tr><tr><td>$\\left[{\\sigma_-},{\\sigma_+}\\right]$</td><td>$- {\\sigma_z}$</td><td>$\\mathrm{True}$</td></tr>\n",
        "</table>"
       ],
       "metadata": {},
       "output_type": "pyout",
       "prompt_number": 15,
       "text": [
        "<IPython.core.display.HTML at 0x112b563c8>"
       ]
      }
     ],
     "prompt_number": 15
    },
    {
     "cell_type": "heading",
     "level": 2,
     "metadata": {},
     "source": [
      "Anticommutators"
     ]
    },
    {
     "cell_type": "code",
     "collapsed": false,
     "input": [
      "def elim_zero_matrix(e):\n",
      "    return 0 if e == Matrix([[0, 0], [0, 0]]) else e"
     ],
     "language": "python",
     "metadata": {},
     "outputs": [],
     "prompt_number": 16
    },
    {
     "cell_type": "code",
     "collapsed": false,
     "input": [
      "I_op = IdentityOperator(2)\n",
      "\n",
      "data = [[r\"{\\rm Expression}\", r\"{\\rm Evaluated\\;value}\", r\"{\\rm Numerical\\;test}\"]] + \\\n",
      "       [[AntiCommutator(s1, s2),\n",
      "         AntiCommutator(s1, s2).doit(),\n",
      "         elim_zero_matrix(represent(AntiCommutator(s1, s2))) == represent(I_op * AntiCommutator(s1, s2).doit())]\n",
      "        for s1 in s_ops for s2 in s_ops if s1 != s2]\n",
      "\n",
      "print_table(data)"
     ],
     "language": "python",
     "metadata": {},
     "outputs": [
      {
       "html": [
        "<table>\n",
        "<tr><td>${\\rm Expression}$</td><td>${\\rm Evaluated\\;value}$</td><td>${\\rm Numerical\\;test}$</td></tr><tr><td>$\\left\\{{\\sigma_x},{\\sigma_y}\\right\\}$</td><td>$0$</td><td>$\\mathrm{True}$</td></tr><tr><td>$\\left\\{{\\sigma_x},{\\sigma_z}\\right\\}$</td><td>$0$</td><td>$\\mathrm{True}$</td></tr><tr><td>$\\left\\{{\\sigma_+},{\\sigma_x}\\right\\}$</td><td>$1$</td><td>$\\mathrm{True}$</td></tr><tr><td>$\\left\\{{\\sigma_-},{\\sigma_x}\\right\\}$</td><td>$1$</td><td>$\\mathrm{True}$</td></tr><tr><td>$\\left\\{{\\sigma_x},{\\sigma_y}\\right\\}$</td><td>$0$</td><td>$\\mathrm{True}$</td></tr><tr><td>$\\left\\{{\\sigma_y},{\\sigma_z}\\right\\}$</td><td>$0$</td><td>$\\mathrm{True}$</td></tr><tr><td>$\\left\\{{\\sigma_+},{\\sigma_y}\\right\\}$</td><td>$i$</td><td>$\\mathrm{True}$</td></tr><tr><td>$\\left\\{{\\sigma_-},{\\sigma_y}\\right\\}$</td><td>$- i$</td><td>$\\mathrm{True}$</td></tr><tr><td>$\\left\\{{\\sigma_x},{\\sigma_z}\\right\\}$</td><td>$0$</td><td>$\\mathrm{True}$</td></tr><tr><td>$\\left\\{{\\sigma_y},{\\sigma_z}\\right\\}$</td><td>$0$</td><td>$\\mathrm{True}$</td></tr><tr><td>$\\left\\{{\\sigma_+},{\\sigma_z}\\right\\}$</td><td>$0$</td><td>$\\mathrm{True}$</td></tr><tr><td>$\\left\\{{\\sigma_-},{\\sigma_z}\\right\\}$</td><td>$0$</td><td>$\\mathrm{True}$</td></tr><tr><td>$\\left\\{{\\sigma_+},{\\sigma_x}\\right\\}$</td><td>$1$</td><td>$\\mathrm{True}$</td></tr><tr><td>$\\left\\{{\\sigma_+},{\\sigma_y}\\right\\}$</td><td>$i$</td><td>$\\mathrm{True}$</td></tr><tr><td>$\\left\\{{\\sigma_+},{\\sigma_z}\\right\\}$</td><td>$0$</td><td>$\\mathrm{True}$</td></tr><tr><td>$\\left\\{{\\sigma_-},{\\sigma_+}\\right\\}$</td><td>$1$</td><td>$\\mathrm{True}$</td></tr><tr><td>$\\left\\{{\\sigma_-},{\\sigma_x}\\right\\}$</td><td>$1$</td><td>$\\mathrm{True}$</td></tr><tr><td>$\\left\\{{\\sigma_-},{\\sigma_y}\\right\\}$</td><td>$- i$</td><td>$\\mathrm{True}$</td></tr><tr><td>$\\left\\{{\\sigma_-},{\\sigma_z}\\right\\}$</td><td>$0$</td><td>$\\mathrm{True}$</td></tr><tr><td>$\\left\\{{\\sigma_-},{\\sigma_+}\\right\\}$</td><td>$1$</td><td>$\\mathrm{True}$</td></tr>\n",
        "</table>"
       ],
       "metadata": {},
       "output_type": "pyout",
       "prompt_number": 17,
       "text": [
        "<IPython.core.display.HTML at 0x112b69438>"
       ]
      }
     ],
     "prompt_number": 17
    },
    {
     "cell_type": "heading",
     "level": 2,
     "metadata": {},
     "source": [
      "Adjoint"
     ]
    },
    {
     "cell_type": "code",
     "collapsed": false,
     "input": [
      "Dagger(sx), Dagger(sy), Dagger(sz)"
     ],
     "language": "python",
     "metadata": {},
     "outputs": [
      {
       "latex": [
        "$$\\begin{pmatrix}{\\sigma_x}, & {\\sigma_y}, & {\\sigma_z}\\end{pmatrix}$$"
       ],
       "metadata": {},
       "output_type": "pyout",
       "png": "[encoded data removed]",
       "prompt_number": 18,
       "text": [
        "(False, False, False)"
       ]
      }
     ],
     "prompt_number": 18
    },
    {
     "cell_type": "code",
     "collapsed": false,
     "input": [
      "Dagger(sm), Dagger(sp)"
     ],
     "language": "python",
     "metadata": {},
     "outputs": [
      {
       "latex": [
        "$$\\begin{pmatrix}{\\sigma_+}, & {\\sigma_-}\\end{pmatrix}$$"
       ],
       "metadata": {},
       "output_type": "pyout",
       "png": "[encoded data removed]",
       "prompt_number": 19,
       "text": [
        "(False, False)"
       ]
      }
     ],
     "prompt_number": 19
    },
    {
     "cell_type": "code",
     "collapsed": false,
     "input": [
      "sm, sp"
     ],
     "language": "python",
     "metadata": {},
     "outputs": [
      {
       "latex": [
        "$$\\begin{pmatrix}{\\sigma_-}, & {\\sigma_+}\\end{pmatrix}$$"
       ],
       "metadata": {},
       "output_type": "pyout",
       "png": "[encoded data removed]",
       "prompt_number": 20,
       "text": [
        "(False, False)"
       ]
      }
     ],
     "prompt_number": 20
    },
    {
     "cell_type": "heading",
     "level": 1,
     "metadata": {},
     "source": [
      "Operator products"
     ]
    },
    {
     "cell_type": "code",
     "collapsed": false,
     "input": [
      "s = [sx, sy, sz, sm, sp]\n",
      "\n",
      "data = [[s2] + [(qsimplify_pauli(s1 * s2), represent((qsimplify_pauli(s1 * s2) * I_op).expand()) == represent(s1) * represent(s2))\n",
      "         for s1 in s] for s2 in s]\n",
      "\n",
      "print_table(data)"
     ],
     "language": "python",
     "metadata": {},
     "outputs": [
      {
       "html": [
        "<table>\n",
        "<tr><td>${\\sigma_x}$</td><td>$\\begin{pmatrix}1, & \\mathrm{True}\\end{pmatrix}$</td><td>$\\begin{pmatrix}- i {\\sigma_z}, & \\mathrm{True}\\end{pmatrix}$</td><td>$\\begin{pmatrix}i {\\sigma_y}, & \\mathrm{True}\\end{pmatrix}$</td><td>$\\begin{pmatrix}\\frac{1}{2} \\left(1 - {\\sigma_z}\\right), & \\mathrm{True}\\end{pmatrix}$</td><td>$\\begin{pmatrix}\\frac{1}{2} \\left(1 + {\\sigma_z}\\right), & \\mathrm{True}\\end{pmatrix}$</td></tr><tr><td>${\\sigma_y}$</td><td>$\\begin{pmatrix}i {\\sigma_z}, & \\mathrm{True}\\end{pmatrix}$</td><td>$\\begin{pmatrix}1, & \\mathrm{True}\\end{pmatrix}$</td><td>$\\begin{pmatrix}- i {\\sigma_x}, & \\mathrm{True}\\end{pmatrix}$</td><td>$\\begin{pmatrix}- \\frac{i}{2} \\left(1 - {\\sigma_z}\\right), & \\mathrm{True}\\end{pmatrix}$</td><td>$\\begin{pmatrix}\\frac{i}{2} \\left(1 + {\\sigma_z}\\right), & \\mathrm{True}\\end{pmatrix}$</td></tr><tr><td>${\\sigma_z}$</td><td>$\\begin{pmatrix}- i {\\sigma_y}, & \\mathrm{True}\\end{pmatrix}$</td><td>$\\begin{pmatrix}i {\\sigma_x}, & \\mathrm{True}\\end{pmatrix}$</td><td>$\\begin{pmatrix}1, & \\mathrm{True}\\end{pmatrix}$</td><td>$\\begin{pmatrix}{\\sigma_-}, & \\mathrm{True}\\end{pmatrix}$</td><td>$\\begin{pmatrix}- {\\sigma_+}, & \\mathrm{True}\\end{pmatrix}$</td></tr><tr><td>${\\sigma_-}$</td><td>$\\begin{pmatrix}\\frac{1}{2} + \\frac{{\\sigma_z}}{2}, & \\mathrm{True}\\end{pmatrix}$</td><td>$\\begin{pmatrix}- \\frac{i}{2} \\left(1 + {\\sigma_z}\\right), & \\mathrm{True}\\end{pmatrix}$</td><td>$\\begin{pmatrix}- {\\sigma_-}, & \\mathrm{True}\\end{pmatrix}$</td><td>$\\begin{pmatrix}0, & \\mathrm{False}\\end{pmatrix}$</td><td>$\\begin{pmatrix}\\frac{1}{2} \\left(1 + {\\sigma_z}\\right), & \\mathrm{True}\\end{pmatrix}$</td></tr><tr><td>${\\sigma_+}$</td><td>$\\begin{pmatrix}\\frac{1}{2} - \\frac{{\\sigma_z}}{2}, & \\mathrm{True}\\end{pmatrix}$</td><td>$\\begin{pmatrix}\\frac{i}{2} \\left(1 - {\\sigma_z}\\right), & \\mathrm{True}\\end{pmatrix}$</td><td>$\\begin{pmatrix}{\\sigma_+}, & \\mathrm{True}\\end{pmatrix}$</td><td>$\\begin{pmatrix}\\frac{1}{2} - \\frac{{\\sigma_z}}{2}, & \\mathrm{True}\\end{pmatrix}$</td><td>$\\begin{pmatrix}0, & \\mathrm{False}\\end{pmatrix}$</td></tr>\n",
        "</table>"
       ],
       "metadata": {},
       "output_type": "pyout",
       "prompt_number": 26,
       "text": [
        "<IPython.core.display.HTML at 0x112dfd0f0>"
       ]
      }
     ],
     "prompt_number": 26
    },
    {
     "cell_type": "code",
     "collapsed": false,
     "input": [
      "represent(sm) * represent(sm)"
     ],
     "language": "python",
     "metadata": {},
     "outputs": [
      {
       "latex": [
        "$$\\left[\\begin{matrix}0 & 0\\\\0 & 0\\end{matrix}\\right]$$"
       ],
       "metadata": {},
       "output_type": "pyout",
       "png": "[encoded data removed]",
       "prompt_number": 27,
       "text": [
        "\u23a10  0\u23a4\n",
        "\u23a2    \u23a5\n",
        "\u23a30  0\u23a6"
       ]
      }
     ],
     "prompt_number": 27
    },
    {
     "cell_type": "heading",
     "level": 2,
     "metadata": {},
     "source": [
      "Powers"
     ]
    },
    {
     "cell_type": "code",
     "collapsed": false,
     "input": [
      "[sx ** n for n in range(10)]"
     ],
     "language": "python",
     "metadata": {},
     "outputs": [
      {
       "latex": [
        "$$\\begin{bmatrix}1, & {\\sigma_x}, & 1, & {\\sigma_x}, & 1, & {\\sigma_x}, & 1, & {\\sigma_x}, & 1, & {\\sigma_x}\\end{bmatrix}$$"
       ],
       "metadata": {},
       "output_type": "pyout",
       "png": "[encoded data removed]",
       "prompt_number": 28,
       "text": [
        "[1, False, 1, False, 1, False, 1, False, 1, False]"
       ]
      }
     ],
     "prompt_number": 28
    },
    {
     "cell_type": "code",
     "collapsed": false,
     "input": [
      "[sy ** n for n in range(10)]"
     ],
     "language": "python",
     "metadata": {},
     "outputs": [
      {
       "latex": [
        "$$\\begin{bmatrix}1, & {\\sigma_y}, & 1, & {\\sigma_y}, & 1, & {\\sigma_y}, & 1, & {\\sigma_y}, & 1, & {\\sigma_y}\\end{bmatrix}$$"
       ],
       "metadata": {},
       "output_type": "pyout",
       "png": "[encoded data removed]",
       "prompt_number": 29,
       "text": [
        "[1, False, 1, False, 1, False, 1, False, 1, False]"
       ]
      }
     ],
     "prompt_number": 29
    },
    {
     "cell_type": "code",
     "collapsed": false,
     "input": [
      "[sz ** n for n in range(10)]"
     ],
     "language": "python",
     "metadata": {},
     "outputs": [
      {
       "latex": [
        "$$\\begin{bmatrix}1, & {\\sigma_z}, & 1, & {\\sigma_z}, & 1, & {\\sigma_z}, & 1, & {\\sigma_z}, & 1, & {\\sigma_z}\\end{bmatrix}$$"
       ],
       "metadata": {},
       "output_type": "pyout",
       "png": "[encoded data removed]",
       "prompt_number": 30,
       "text": [
        "[1, False, 1, False, 1, False, 1, False, 1, False]"
       ]
      }
     ],
     "prompt_number": 30
    },
    {
     "cell_type": "code",
     "collapsed": false,
     "input": [
      "[sm ** n for n in range(10)]"
     ],
     "language": "python",
     "metadata": {},
     "outputs": [
      {
       "latex": [
        "$$\\begin{bmatrix}1, & {\\sigma_-}, & 0, & 0, & 0, & 0, & 0, & 0, & 0, & 0\\end{bmatrix}$$"
       ],
       "metadata": {},
       "output_type": "pyout",
       "png": "[encoded data removed]",
       "prompt_number": 31,
       "text": [
        "[1, False, 0, 0, 0, 0, 0, 0, 0, 0]"
       ]
      }
     ],
     "prompt_number": 31
    },
    {
     "cell_type": "code",
     "collapsed": false,
     "input": [
      "[sp ** n for n in range(10)]"
     ],
     "language": "python",
     "metadata": {},
     "outputs": [
      {
       "latex": [
        "$$\\begin{bmatrix}1, & {\\sigma_+}, & 0, & 0, & 0, & 0, & 0, & 0, & 0, & 0\\end{bmatrix}$$"
       ],
       "metadata": {},
       "output_type": "pyout",
       "png": "[encoded data removed]",
       "prompt_number": 32,
       "text": [
        "[1, False, 0, 0, 0, 0, 0, 0, 0, 0]"
       ]
      }
     ],
     "prompt_number": 32
    },
    {
     "cell_type": "heading",
     "level": 1,
     "metadata": {},
     "source": [
      "States"
     ]
    },
    {
     "cell_type": "code",
     "collapsed": false,
     "input": [
      "up = SigmaZKet(0)\n",
      "down = SigmaZKet(1)\n",
      "\n",
      "ket = (up + down)/sqrt(2)"
     ],
     "language": "python",
     "metadata": {},
     "outputs": [],
     "prompt_number": 33
    },
    {
     "cell_type": "code",
     "collapsed": false,
     "input": [
      "ket, qapply(sx * ket), qapply(sy * ket), qapply(sz * ket)"
     ],
     "language": "python",
     "metadata": {},
     "outputs": [
      {
       "latex": [
        "$$\\begin{pmatrix}\\frac{\\sqrt{2}}{2} \\left({\\left|0\\right\\rangle } + {\\left|1\\right\\rangle }\\right), & \\frac{\\sqrt{2}}{2} {\\left|0\\right\\rangle } + \\frac{\\sqrt{2}}{2} {\\left|1\\right\\rangle }, & - \\frac{\\sqrt{2} i}{2} {\\left|0\\right\\rangle } + \\frac{\\sqrt{2} i}{2} {\\left|1\\right\\rangle }, & \\frac{\\sqrt{2}}{2} {\\left|0\\right\\rangle } - \\frac{\\sqrt{2}}{2} {\\left|1\\right\\rangle }\\end{pmatrix}$$"
       ],
       "metadata": {},
       "output_type": "pyout",
       "png": "[encoded data removed]",
       "prompt_number": 34,
       "text": [
        "\u239b  ___                ___         ___          ___           ___          ___ \n",
        "\u239c\u2572\u2571 2 \u22c5(\u27580\u27e9 + \u27581\u27e9)  \u2572\u2571 2 \u22c5\u27580\u27e9   \u2572\u2571 2 \u22c5\u27581\u27e9    \u2572\u2571 2 \u22c5\u2148\u22c5\u27580\u27e9   \u2572\u2571 2 \u22c5\u2148\u22c5\u27581\u27e9  \u2572\u2571 2 \u22c5\n",
        "\u239c\u2500\u2500\u2500\u2500\u2500\u2500\u2500\u2500\u2500\u2500\u2500\u2500\u2500\u2500\u2500\u2500\u2500, \u2500\u2500\u2500\u2500\u2500\u2500\u2500\u2500\u2500 + \u2500\u2500\u2500\u2500\u2500\u2500\u2500\u2500\u2500, - \u2500\u2500\u2500\u2500\u2500\u2500\u2500\u2500\u2500\u2500\u2500 + \u2500\u2500\u2500\u2500\u2500\u2500\u2500\u2500\u2500\u2500\u2500, \u2500\u2500\u2500\u2500\u2500\u2500\n",
        "\u239d        2              2           2             2             2           2 \n",
        "\n",
        "        ___    \u239e\n",
        "\u27580\u27e9   \u2572\u2571 2 \u22c5\u27581\u27e9\u239f\n",
        "\u2500\u2500\u2500 - \u2500\u2500\u2500\u2500\u2500\u2500\u2500\u2500\u2500\u239f\n",
        "          2    \u23a0"
       ]
      }
     ],
     "prompt_number": 34
    },
    {
     "cell_type": "code",
     "collapsed": false,
     "input": [
      "ket, qapply(sm * ket), qapply(sp * ket)"
     ],
     "language": "python",
     "metadata": {},
     "outputs": [
      {
       "latex": [
        "$$\\begin{pmatrix}\\frac{\\sqrt{2}}{2} \\left({\\left|0\\right\\rangle } + {\\left|1\\right\\rangle }\\right), & \\frac{\\sqrt{2}}{2} {\\left|1\\right\\rangle }, & \\frac{\\sqrt{2}}{2} {\\left|0\\right\\rangle }\\end{pmatrix}$$"
       ],
       "metadata": {},
       "output_type": "pyout",
       "png": "[encoded data removed]",
       "prompt_number": 35,
       "text": [
        "\u239b  ___                ___        ___    \u239e\n",
        "\u239c\u2572\u2571 2 \u22c5(\u27580\u27e9 + \u27581\u27e9)  \u2572\u2571 2 \u22c5\u27581\u27e9  \u2572\u2571 2 \u22c5\u27580\u27e9\u239f\n",
        "\u239c\u2500\u2500\u2500\u2500\u2500\u2500\u2500\u2500\u2500\u2500\u2500\u2500\u2500\u2500\u2500\u2500\u2500, \u2500\u2500\u2500\u2500\u2500\u2500\u2500\u2500\u2500, \u2500\u2500\u2500\u2500\u2500\u2500\u2500\u2500\u2500\u239f\n",
        "\u239d        2              2          2    \u23a0"
       ]
      }
     ],
     "prompt_number": 35
    },
    {
     "cell_type": "code",
     "collapsed": false,
     "input": [
      "represent(qapply(sx * ket)) == represent(sx) * represent(ket)"
     ],
     "language": "python",
     "metadata": {},
     "outputs": [
      {
       "metadata": {},
       "output_type": "pyout",
       "prompt_number": 36,
       "text": [
        "True"
       ]
      }
     ],
     "prompt_number": 36
    },
    {
     "cell_type": "code",
     "collapsed": false,
     "input": [
      "represent(qapply(sy * ket)) == represent(sy) * represent(ket)"
     ],
     "language": "python",
     "metadata": {},
     "outputs": [
      {
       "metadata": {},
       "output_type": "pyout",
       "prompt_number": 37,
       "text": [
        "True"
       ]
      }
     ],
     "prompt_number": 37
    },
    {
     "cell_type": "code",
     "collapsed": false,
     "input": [
      "represent(qapply(sz * ket)) == represent(sz) * represent(ket)"
     ],
     "language": "python",
     "metadata": {},
     "outputs": [
      {
       "metadata": {},
       "output_type": "pyout",
       "prompt_number": 38,
       "text": [
        "True"
       ]
      }
     ],
     "prompt_number": 38
    },
    {
     "cell_type": "code",
     "collapsed": false,
     "input": [
      "represent(qapply(sm * ket)) == represent(sm) * represent(ket)"
     ],
     "language": "python",
     "metadata": {},
     "outputs": [
      {
       "metadata": {},
       "output_type": "pyout",
       "prompt_number": 39,
       "text": [
        "True"
       ]
      }
     ],
     "prompt_number": 39
    },
    {
     "cell_type": "code",
     "collapsed": false,
     "input": [
      "represent(qapply(sp * ket)) == represent(sp) * represent(ket)"
     ],
     "language": "python",
     "metadata": {},
     "outputs": [
      {
       "metadata": {},
       "output_type": "pyout",
       "prompt_number": 40,
       "text": [
        "True"
       ]
      }
     ],
     "prompt_number": 40
    },
    {
     "cell_type": "heading",
     "level": 1,
     "metadata": {},
     "source": [
      "Applications"
     ]
    },
    {
     "cell_type": "heading",
     "level": 2,
     "metadata": {},
     "source": [
      "Baker\u2013Campbell\u2013Hausdorff formula"
     ]
    },
    {
     "cell_type": "code",
     "collapsed": false,
     "input": [
      "from sympy_quantum_extra import *"
     ],
     "language": "python",
     "metadata": {},
     "outputs": [
      {
       "ename": "ImportError",
       "evalue": "No module named 'sympy.physics.quantum.expectation'",
       "output_type": "pyerr",
       "traceback": [
        "\u001b[0;31m---------------------------------------------------------------------------\u001b[0m\n\u001b[0;31mImportError\u001b[0m                               Traceback (most recent call last)",
        "\u001b[0;32m<ipython-input-41-b89e5cd86f97>\u001b[0m in \u001b[0;36m<module>\u001b[0;34m()\u001b[0m\n\u001b[0;32m----> 1\u001b[0;31m \u001b[0;32mfrom\u001b[0m \u001b[0msympy_quantum_extra\u001b[0m \u001b[0;32mimport\u001b[0m \u001b[0;34m*\u001b[0m\u001b[0;34m\u001b[0m\u001b[0m\n\u001b[0m",
        "\u001b[0;32m/Users/rob/Dropbox/projects/sympy-quantum-notebooks/sympy_quantum_extra.py\u001b[0m in \u001b[0;36m<module>\u001b[0;34m()\u001b[0m\n\u001b[1;32m      8\u001b[0m \u001b[0;32mfrom\u001b[0m \u001b[0msympy\u001b[0m\u001b[0;34m.\u001b[0m\u001b[0mphysics\u001b[0m\u001b[0;34m.\u001b[0m\u001b[0mquantum\u001b[0m\u001b[0;34m.\u001b[0m\u001b[0mfermion\u001b[0m \u001b[0;32mimport\u001b[0m \u001b[0;34m*\u001b[0m\u001b[0;34m\u001b[0m\u001b[0m\n\u001b[1;32m      9\u001b[0m \u001b[0;32mfrom\u001b[0m \u001b[0msympy\u001b[0m\u001b[0;34m.\u001b[0m\u001b[0mphysics\u001b[0m\u001b[0;34m.\u001b[0m\u001b[0mquantum\u001b[0m\u001b[0;34m.\u001b[0m\u001b[0moperatorordering\u001b[0m \u001b[0;32mimport\u001b[0m \u001b[0;34m*\u001b[0m\u001b[0;34m\u001b[0m\u001b[0m\n\u001b[0;32m---> 10\u001b[0;31m \u001b[0;32mfrom\u001b[0m \u001b[0msympy\u001b[0m\u001b[0;34m.\u001b[0m\u001b[0mphysics\u001b[0m\u001b[0;34m.\u001b[0m\u001b[0mquantum\u001b[0m\u001b[0;34m.\u001b[0m\u001b[0mexpectation\u001b[0m \u001b[0;32mimport\u001b[0m \u001b[0mExpectation\u001b[0m\u001b[0;34m\u001b[0m\u001b[0m\n\u001b[0m\u001b[1;32m     11\u001b[0m \u001b[0;34m\u001b[0m\u001b[0m\n\u001b[1;32m     12\u001b[0m from sympy.physics.quantum.pauli import (SigmaX, SigmaY, SigmaZ, SigmaMinus,\n",
        "\u001b[0;31mImportError\u001b[0m: No module named 'sympy.physics.quantum.expectation'"
       ]
      }
     ],
     "prompt_number": 41
    },
    {
     "cell_type": "code",
     "collapsed": false,
     "input": [
      "rc = recursive_commutator(sy, sz, 5).doit().expand()\n",
      "\n",
      "rc"
     ],
     "language": "python",
     "metadata": {},
     "outputs": [
      {
       "ename": "NameError",
       "evalue": "name 'recursive_commutator' is not defined",
       "output_type": "pyerr",
       "traceback": [
        "\u001b[0;31m---------------------------------------------------------------------------\u001b[0m\n\u001b[0;31mNameError\u001b[0m                                 Traceback (most recent call last)",
        "\u001b[0;32m<ipython-input-42-3ba084e7083e>\u001b[0m in \u001b[0;36m<module>\u001b[0;34m()\u001b[0m\n\u001b[0;32m----> 1\u001b[0;31m \u001b[0mrc\u001b[0m \u001b[0;34m=\u001b[0m \u001b[0mrecursive_commutator\u001b[0m\u001b[0;34m(\u001b[0m\u001b[0msy\u001b[0m\u001b[0;34m,\u001b[0m \u001b[0msz\u001b[0m\u001b[0;34m,\u001b[0m \u001b[0;36m5\u001b[0m\u001b[0;34m)\u001b[0m\u001b[0;34m.\u001b[0m\u001b[0mdoit\u001b[0m\u001b[0;34m(\u001b[0m\u001b[0;34m)\u001b[0m\u001b[0;34m.\u001b[0m\u001b[0mexpand\u001b[0m\u001b[0;34m(\u001b[0m\u001b[0;34m)\u001b[0m\u001b[0;34m\u001b[0m\u001b[0m\n\u001b[0m\u001b[1;32m      2\u001b[0m \u001b[0;34m\u001b[0m\u001b[0m\n\u001b[1;32m      3\u001b[0m \u001b[0mrc\u001b[0m\u001b[0;34m\u001b[0m\u001b[0m\n",
        "\u001b[0;31mNameError\u001b[0m: name 'recursive_commutator' is not defined"
       ]
      }
     ],
     "prompt_number": 42
    },
    {
     "cell_type": "code",
     "collapsed": false,
     "input": [
      "A, B = Operator(\"A\"), Operator(\"B\")\n",
      "\n",
      "Commutator(A, B).doit().doit()\n",
      "# Add.doit() - > Mul.doit() -> ..."
     ],
     "language": "python",
     "metadata": {},
     "outputs": [
      {
       "latex": [
        "$$A B - B A$$"
       ],
       "metadata": {},
       "output_type": "pyout",
       "png": "[encoded data removed]",
       "prompt_number": 31,
       "text": [
        "A\u22c5B - B\u22c5A"
       ]
      }
     ],
     "prompt_number": 31
    },
    {
     "cell_type": "code",
     "collapsed": false,
     "input": [
      "Commutator(sx, sy).doit()\n",
      "# sx * sy - sy * sx"
     ],
     "language": "python",
     "metadata": {},
     "outputs": [
      {
       "latex": [
        "$$2 i {\\sigma_z}$$"
       ],
       "metadata": {},
       "output_type": "pyout",
       "png": "[encoded data removed]",
       "prompt_number": 32,
       "text": [
        "2\u22c5\u2148\u22c5False"
       ]
      }
     ],
     "prompt_number": 32
    },
    {
     "cell_type": "code",
     "collapsed": false,
     "input": [
      "A = Matrix([[1, 2], [3, 4]])\n",
      "B = Matrix([[1, 2], [3, 4]])\n",
      "A * B, MatMul(A, B)"
     ],
     "language": "python",
     "metadata": {},
     "outputs": [
      {
       "latex": [
        "$$\\left ( \\left[\\begin{matrix}7 & 10\\\\15 & 22\\end{matrix}\\right], \\quad \\left[\\begin{matrix}1 & 2\\\\3 & 4\\end{matrix}\\right] \\left[\\begin{matrix}1 & 2\\\\3 & 4\\end{matrix}\\right]\\right )$$"
       ],
       "metadata": {},
       "output_type": "pyout",
       "png": "[encoded data removed]",
       "prompt_number": 33,
       "text": [
        "\u239b\u23a17   10\u23a4, \u23a11  2\u23a4\u22c5\u23a11  2\u23a4\u239e\n",
        "\u239c\u23a2      \u23a5  \u23a2    \u23a5 \u23a2    \u23a5\u239f\n",
        "\u239d\u23a315  22\u23a6  \u23a33  4\u23a6 \u23a33  4\u23a6\u23a0"
       ]
      }
     ],
     "prompt_number": 33
    },
    {
     "cell_type": "code",
     "collapsed": false,
     "input": [
      "1 * 3"
     ],
     "language": "python",
     "metadata": {},
     "outputs": [
      {
       "latex": [
        "$$3$$"
       ],
       "metadata": {},
       "output_type": "pyout",
       "png": "[encoded data removed]",
       "prompt_number": 34,
       "text": [
        "3"
       ]
      }
     ],
     "prompt_number": 34
    },
    {
     "cell_type": "code",
     "collapsed": false,
     "input": [
      "IdentityOperator(2).is_commutative"
     ],
     "language": "python",
     "metadata": {},
     "outputs": [
      {
       "metadata": {},
       "output_type": "pyout",
       "prompt_number": 35,
       "text": [
        "False"
       ]
      }
     ],
     "prompt_number": 35
    },
    {
     "cell_type": "code",
     "collapsed": false,
     "input": [
      "qsimplify(qsimplify(rc))"
     ],
     "language": "python",
     "metadata": {},
     "outputs": [
      {
       "latex": [
        "$$32 i {\\sigma_x}$$"
       ],
       "metadata": {},
       "output_type": "pyout",
       "png": "[encoded data removed]",
       "prompt_number": 36,
       "text": [
        "32\u22c5\u2148\u22c5False"
       ]
      }
     ],
     "prompt_number": 36
    },
    {
     "cell_type": "code",
     "collapsed": false,
     "input": [
      "represent(sx * sx)"
     ],
     "language": "python",
     "metadata": {},
     "outputs": [
      {
       "latex": [
        "$$1$$"
       ],
       "metadata": {},
       "output_type": "pyout",
       "png": "[encoded data removed]",
       "prompt_number": 37,
       "text": [
        "1"
       ]
      }
     ],
     "prompt_number": 37
    },
    {
     "cell_type": "code",
     "collapsed": false,
     "input": [
      "represent(sx) ** 2 == Integer(1) * represent(IdentityOperator(2))"
     ],
     "language": "python",
     "metadata": {},
     "outputs": [
      {
       "metadata": {},
       "output_type": "pyout",
       "prompt_number": 38,
       "text": [
        "True"
       ]
      }
     ],
     "prompt_number": 38
    },
    {
     "cell_type": "code",
     "collapsed": false,
     "input": [],
     "language": "python",
     "metadata": {},
     "outputs": [],
     "prompt_number": 38
    },
    {
     "cell_type": "heading",
     "level": 2,
     "metadata": {},
     "source": [
      "Test: $e^{i\\theta/2 \\sigma_y}\\sigma_xe^{-i\\theta/2 \\sigma_y} = \\cos(\\theta)\\sigma_x + \\sin(\\theta)\\sigma_z$"
     ]
    },
    {
     "cell_type": "code",
     "collapsed": false,
     "input": [
      "theta = symbols(\"theta\")"
     ],
     "language": "python",
     "metadata": {},
     "outputs": [],
     "prompt_number": 39
    },
    {
     "cell_type": "code",
     "collapsed": false,
     "input": [
      "U = exp((I * theta / 2)* sy)"
     ],
     "language": "python",
     "metadata": {},
     "outputs": [],
     "prompt_number": 40
    },
    {
     "cell_type": "code",
     "collapsed": false,
     "input": [
      "unitary_transformation(U, sx)"
     ],
     "language": "python",
     "metadata": {},
     "outputs": [
      {
       "latex": [
        "$$\\sin{\\left (\\theta \\right )} {\\sigma_z} + \\cos{\\left (\\theta \\right )} {\\sigma_x}$$"
       ],
       "metadata": {},
       "output_type": "pyout",
       "png": "[encoded data removed]",
       "prompt_number": 41,
       "text": [
        "sin(\u03b8)\u22c5False + cos(\u03b8)\u22c5False"
       ]
      }
     ],
     "prompt_number": 41
    },
    {
     "cell_type": "heading",
     "level": 2,
     "metadata": {},
     "source": [
      "Test: $e^{i\\theta/2 \\sigma_y}\\sigma_ze^{-i\\theta/2 \\sigma_y} = \\cos(\\theta)\\sigma_z - \\sin(\\theta)\\sigma_x$"
     ]
    },
    {
     "cell_type": "code",
     "collapsed": false,
     "input": [
      "unitary_transformation(U, sz)"
     ],
     "language": "python",
     "metadata": {},
     "outputs": [
      {
       "latex": [
        "$$- \\sin{\\left (\\theta \\right )} {\\sigma_x} + \\cos{\\left (\\theta \\right )} {\\sigma_z}$$"
       ],
       "metadata": {},
       "output_type": "pyout",
       "png": "[encoded data removed]",
       "prompt_number": 42,
       "text": [
        "-sin(\u03b8)\u22c5False + cos(\u03b8)\u22c5False"
       ]
      }
     ],
     "prompt_number": 42
    },
    {
     "cell_type": "heading",
     "level": 2,
     "metadata": {},
     "source": [
      "Calculate $e^{i\\theta/2 \\sigma_y}\\sigma_-e^{-i\\theta/2 \\sigma_y}$"
     ]
    },
    {
     "cell_type": "code",
     "collapsed": false,
     "input": [
      "unitary_transformation(U, sm)"
     ],
     "language": "python",
     "metadata": {},
     "outputs": [
      {
       "latex": [
        "$$\\left(\\frac{1}{2} \\cos{\\left (\\theta \\right )} - \\frac{1}{2}\\right) {\\sigma_x} + \\frac{{\\sigma_z}}{2} \\sin{\\left (\\theta \\right )} + {\\sigma_-}$$"
       ],
       "metadata": {},
       "output_type": "pyout",
       "png": "[encoded data removed]",
       "prompt_number": 43,
       "text": [
        "\u239bcos(\u03b8)   1\u239e         sin(\u03b8)\u22c5False        \n",
        "\u239c\u2500\u2500\u2500\u2500\u2500\u2500 - \u2500\u239f\u22c5False + \u2500\u2500\u2500\u2500\u2500\u2500\u2500\u2500\u2500\u2500\u2500\u2500 + False\n",
        "\u239d  2      2\u23a0              2              "
       ]
      }
     ],
     "prompt_number": 43
    },
    {
     "cell_type": "heading",
     "level": 2,
     "metadata": {},
     "source": [
      "Calculate $e^{i\\theta/2 \\sigma_y}\\sigma_+e^{-i\\theta/2 \\sigma_y}$"
     ]
    },
    {
     "cell_type": "code",
     "collapsed": false,
     "input": [
      "unitary_transformation(U, sp)"
     ],
     "language": "python",
     "metadata": {},
     "outputs": [
      {
       "latex": [
        "$$\\left(\\frac{1}{2} \\cos{\\left (\\theta \\right )} - \\frac{1}{2}\\right) {\\sigma_x} + \\frac{{\\sigma_z}}{2} \\sin{\\left (\\theta \\right )} + {\\sigma_+}$$"
       ],
       "metadata": {},
       "output_type": "pyout",
       "png": "[encoded data removed]",
       "prompt_number": 44,
       "text": [
        "\u239bcos(\u03b8)   1\u239e         sin(\u03b8)\u22c5False        \n",
        "\u239c\u2500\u2500\u2500\u2500\u2500\u2500 - \u2500\u239f\u22c5False + \u2500\u2500\u2500\u2500\u2500\u2500\u2500\u2500\u2500\u2500\u2500\u2500 + False\n",
        "\u239d  2      2\u23a0              2              "
       ]
      }
     ],
     "prompt_number": 44
    },
    {
     "cell_type": "heading",
     "level": 2,
     "metadata": {},
     "source": [
      "Versions"
     ]
    },
    {
     "cell_type": "code",
     "collapsed": false,
     "input": [
      "%reload_ext version_information\n",
      "\n",
      "%version_information sympy"
     ],
     "language": "python",
     "metadata": {},
     "outputs": [
      {
       "html": [
        "<table><tr><th>Software</th><th>Version</th></tr><tr><td>Python</td><td>3.4.1 (default, Sep 20 2014, 19:44:17) [GCC 4.2.1 Compatible Apple LLVM 5.1 (clang-503.0.40)]</td></tr><tr><td>IPython</td><td>2.3.0</td></tr><tr><td>OS</td><td>Darwin 13.4.0 x86_64 i386 64bit</td></tr><tr><td>sympy</td><td>0.7.5-git</td></tr><tr><td colspan='2'>Thu Oct 09 13:14:39 2014 JST</td></tr></table>"
       ],
       "json": [
        "{\"Software versions\": [{\"module\": \"Python\", \"version\": \"3.4.1 (default, Sep 20 2014, 19:44:17) [GCC 4.2.1 Compatible Apple LLVM 5.1 (clang-503.0.40)]\"}, {\"module\": \"IPython\", \"version\": \"2.3.0\"}, {\"module\": \"OS\", \"version\": \"Darwin 13.4.0 x86_64 i386 64bit\"}, {\"module\": \"sympy\", \"version\": \"0.7.5-git\"}]}"
       ],
       "latex": [
        "\\begin{tabular}{|l|l|}\\hline\n",
        "{\\bf Software} & {\\bf Version} \\\\ \\hline\\hline\n",
        "Python & 3.4.1 (default, Sep 20 2014, 19:44:17) [GCC 4.2.1 Compatible Apple LLVM 5.1 (clang-503.0.40)] \\\\ \\hline\n",
        "IPython & 2.3.0 \\\\ \\hline\n",
        "OS & Darwin 13.4.0 x86\\letterunderscore{}64 i386 64bit \\\\ \\hline\n",
        "sympy & 0.7.5-git \\\\ \\hline\n",
        "\\hline \\multicolumn{2}{|l|}{Thu Oct 09 13:14:39 2014 JST} \\\\ \\hline\n",
        "\\end{tabular}\n"
       ],
       "metadata": {},
       "output_type": "pyout",
       "prompt_number": 7,
       "text": [
        "Software versions\n",
        "Python 3.4.1 (default, Sep 20 2014, 19:44:17) [GCC 4.2.1 Compatible Apple LLVM 5.1 (clang-503.0.40)]\n",
        "IPython 2.3.0\n",
        "OS Darwin 13.4.0 x86_64 i386 64bit\n",
        "sympy 0.7.5-git\n",
        "Thu Oct 09 13:14:39 2014 JST"
       ]
      }
     ],
     "prompt_number": 7
    },
    {
     "cell_type": "code",
     "collapsed": false,
     "input": [],
     "language": "python",
     "metadata": {},
     "outputs": []
    }
   ],
   "metadata": {}
  }
 ]
}