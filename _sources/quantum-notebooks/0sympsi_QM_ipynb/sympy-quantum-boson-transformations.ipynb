{
 "metadata": {
  "name": "",
  "signature": "sha256:89c1adba9e46aad7308d3f9caeb52ecdbcccdf64bfbcee1284e61a66d1abfb61"
 },
 "nbformat": 3,
 "nbformat_minor": 0,
 "worksheets": [
  {
   "cells": [
    {
     "cell_type": "heading",
     "level": 1,
     "metadata": {},
     "source": [
      "Unitary transformations of boson operators"
     ]
    },
    {
     "cell_type": "code",
     "collapsed": false,
     "input": [
      "from sympy import *\n",
      "init_printing()\n",
      "\n",
      "from sympy.physics.quantum import *\n",
      "from sympy.physics.quantum.boson import *\n",
      "from sympy.physics.quantum.fermion import *\n",
      "from sympy.physics.quantum.operatorordering import *"
     ],
     "language": "python",
     "metadata": {},
     "outputs": [],
     "prompt_number": 1
    },
    {
     "cell_type": "code",
     "collapsed": false,
     "input": [
      "from sympy_quantum_utils import *"
     ],
     "language": "python",
     "metadata": {},
     "outputs": [],
     "prompt_number": 2
    },
    {
     "cell_type": "code",
     "collapsed": false,
     "input": [
      "omega_0, t, alpha = symbols(\"omega_0, t, alpha\")\n",
      "n = 8"
     ],
     "language": "python",
     "metadata": {},
     "outputs": [],
     "prompt_number": 3
    },
    {
     "cell_type": "code",
     "collapsed": false,
     "input": [
      "a = BosonOp(\"a\")"
     ],
     "language": "python",
     "metadata": {},
     "outputs": [],
     "prompt_number": 4
    },
    {
     "cell_type": "heading",
     "level": 2,
     "metadata": {},
     "source": [
      "Transformations with $U = \\exp(i \\omega_0 a^\\dagger a t)$"
     ]
    },
    {
     "cell_type": "code",
     "collapsed": false,
     "input": [
      "A = I * omega_0 * Dagger(a) * a * t\n",
      "U = exp(A)\n",
      "\n",
      "U"
     ],
     "language": "python",
     "metadata": {},
     "outputs": [
      {
       "latex": [
        "$$e^{i \\omega_{0} t {{a}^\\dagger} {a}}$$"
       ],
       "metadata": {},
       "output_type": "pyout",
       "png": "[encoded data removed]",
       "prompt_number": 5,
       "text": [
        "         \u2020  \n",
        " \u2148\u22c5\u03c9\u2080\u22c5t\u22c5a \u22c5a\n",
        "\u212f           "
       ]
      }
     ],
     "prompt_number": 5
    },
    {
     "cell_type": "heading",
     "level": 3,
     "metadata": {},
     "source": [
      "$U a^\\dagger a U^\\dagger = e^{i \\omega_0 a^\\dagger a t} a^\\dagger a e^{-i \\omega_0 a^\\dagger a t} = a^\\dagger a$"
     ]
    },
    {
     "cell_type": "code",
     "collapsed": false,
     "input": [
      "e = bch_expansion(A, Dagger(a) * a, n).doit()\n",
      "\n",
      "normal_ordered_form(e)"
     ],
     "language": "python",
     "metadata": {},
     "outputs": [
      {
       "latex": [
        "$${{a}^\\dagger} {a}$$"
       ],
       "metadata": {},
       "output_type": "pyout",
       "png": "[encoded data removed]",
       "prompt_number": 6,
       "text": [
        " \u2020  \n",
        "a \u22c5a"
       ]
      }
     ],
     "prompt_number": 6
    },
    {
     "cell_type": "code",
     "collapsed": false,
     "input": [
      "unitary_transformation_auto(U, Dagger(a) * a)"
     ],
     "language": "python",
     "metadata": {},
     "outputs": [
      {
       "latex": [
        "$${{a}^\\dagger} {a}$$"
       ],
       "metadata": {},
       "output_type": "pyout",
       "png": "[encoded data removed]",
       "prompt_number": 7,
       "text": [
        " \u2020  \n",
        "a \u22c5a"
       ]
      }
     ],
     "prompt_number": 7
    },
    {
     "cell_type": "heading",
     "level": 3,
     "metadata": {},
     "source": [
      "$U a U^\\dagger = a e^{-i\\omega_0t}$"
     ]
    },
    {
     "cell_type": "code",
     "collapsed": false,
     "input": [
      "unitary_transformation_auto(U, a)"
     ],
     "language": "python",
     "metadata": {},
     "outputs": [
      {
       "latex": [
        "$$e^{- i \\omega_{0} t} {a}$$"
       ],
       "metadata": {},
       "output_type": "pyout",
       "png": "[encoded data removed]",
       "prompt_number": 8,
       "text": [
        " -\u2148\u22c5\u03c9\u2080\u22c5t  \n",
        "\u212f       \u22c5a"
       ]
      }
     ],
     "prompt_number": 8
    },
    {
     "cell_type": "code",
     "collapsed": false,
     "input": [
      "e = bch_expansion(A, a, n).doit()\n",
      "\n",
      "e = normal_ordered_form(expand(e))\n",
      "\n",
      "e = collect(e, a)\n",
      "\n",
      "e"
     ],
     "language": "python",
     "metadata": {},
     "outputs": [
      {
       "latex": [
        "$$\\left(\\frac{i \\omega_{0}^{7}}{5040} t^{7} - \\frac{\\omega_{0}^{6} t^{6}}{720} - \\frac{i \\omega_{0}^{5}}{120} t^{5} + \\frac{\\omega_{0}^{4} t^{4}}{24} + \\frac{i \\omega_{0}^{3}}{6} t^{3} - \\frac{\\omega_{0}^{2} t^{2}}{2} - i \\omega_{0} t + 1\\right) {a}$$"
       ],
       "metadata": {},
       "output_type": "pyout",
       "png": "[encoded data removed]",
       "prompt_number": 9,
       "text": [
        "\u239b    7  7     6  6       5  5     4  4       3  3     2  2             \u239e  \n",
        "\u239c\u2148\u22c5\u03c9\u2080 \u22c5t    \u03c9\u2080 \u22c5t    \u2148\u22c5\u03c9\u2080 \u22c5t    \u03c9\u2080 \u22c5t    \u2148\u22c5\u03c9\u2080 \u22c5t    \u03c9\u2080 \u22c5t              \u239f  \n",
        "\u239c\u2500\u2500\u2500\u2500\u2500\u2500\u2500\u2500 - \u2500\u2500\u2500\u2500\u2500\u2500 - \u2500\u2500\u2500\u2500\u2500\u2500\u2500\u2500 + \u2500\u2500\u2500\u2500\u2500\u2500 + \u2500\u2500\u2500\u2500\u2500\u2500\u2500\u2500 - \u2500\u2500\u2500\u2500\u2500\u2500 - \u2148\u22c5\u03c9\u2080\u22c5t + 1\u239f\u22c5a\n",
        "\u239d  5040      720       120        24        6         2                \u23a0  "
       ]
      }
     ],
     "prompt_number": 9
    },
    {
     "cell_type": "code",
     "collapsed": false,
     "input": [
      "e == (exp(-I * omega_0 * t).series(t, 0, n=n).removeO()) * a"
     ],
     "language": "python",
     "metadata": {},
     "outputs": [
      {
       "metadata": {},
       "output_type": "pyout",
       "prompt_number": 10,
       "text": [
        "True"
       ]
      }
     ],
     "prompt_number": 10
    },
    {
     "cell_type": "heading",
     "level": 3,
     "metadata": {},
     "source": [
      "$U a^\\dagger U^\\dagger = a^\\dagger e^{i\\omega_0t}$"
     ]
    },
    {
     "cell_type": "code",
     "collapsed": false,
     "input": [
      "unitary_transformation_auto(U, Dagger(a))"
     ],
     "language": "python",
     "metadata": {},
     "outputs": [
      {
       "latex": [
        "$$e^{i \\omega_{0} t} {{a}^\\dagger}$$"
       ],
       "metadata": {},
       "output_type": "pyout",
       "png": "[encoded data removed]",
       "prompt_number": 11,
       "text": [
        " \u2148\u22c5\u03c9\u2080\u22c5t  \u2020\n",
        "\u212f      \u22c5a "
       ]
      }
     ],
     "prompt_number": 11
    },
    {
     "cell_type": "code",
     "collapsed": false,
     "input": [
      "e = bch_expansion(A, Dagger(a), n).doit()\n",
      "\n",
      "e = normal_ordered_form(expand(e))\n",
      "\n",
      "e = collect(e, Dagger(a))\n",
      "\n",
      "e"
     ],
     "language": "python",
     "metadata": {},
     "outputs": [
      {
       "latex": [
        "$$\\left(- \\frac{i \\omega_{0}^{7}}{5040} t^{7} - \\frac{\\omega_{0}^{6} t^{6}}{720} + \\frac{i \\omega_{0}^{5}}{120} t^{5} + \\frac{\\omega_{0}^{4} t^{4}}{24} - \\frac{i \\omega_{0}^{3}}{6} t^{3} - \\frac{\\omega_{0}^{2} t^{2}}{2} + i \\omega_{0} t + 1\\right) {{a}^\\dagger}$$"
       ],
       "metadata": {},
       "output_type": "pyout",
       "png": "[encoded data removed]",
       "prompt_number": 12,
       "text": [
        "\u239b      7  7     6  6       5  5     4  4       3  3     2  2             \u239e   \n",
        "\u239c  \u2148\u22c5\u03c9\u2080 \u22c5t    \u03c9\u2080 \u22c5t    \u2148\u22c5\u03c9\u2080 \u22c5t    \u03c9\u2080 \u22c5t    \u2148\u22c5\u03c9\u2080 \u22c5t    \u03c9\u2080 \u22c5t              \u239f  \u2020\n",
        "\u239c- \u2500\u2500\u2500\u2500\u2500\u2500\u2500\u2500 - \u2500\u2500\u2500\u2500\u2500\u2500 + \u2500\u2500\u2500\u2500\u2500\u2500\u2500\u2500 + \u2500\u2500\u2500\u2500\u2500\u2500 - \u2500\u2500\u2500\u2500\u2500\u2500\u2500\u2500 - \u2500\u2500\u2500\u2500\u2500\u2500 + \u2148\u22c5\u03c9\u2080\u22c5t + 1\u239f\u22c5a \n",
        "\u239d    5040      720       120        24        6         2                \u23a0   "
       ]
      }
     ],
     "prompt_number": 12
    },
    {
     "cell_type": "code",
     "collapsed": false,
     "input": [
      "e == (exp(I * omega_0 * t).series(t, 0, n=n).removeO()) * Dagger(a)"
     ],
     "language": "python",
     "metadata": {},
     "outputs": [
      {
       "metadata": {},
       "output_type": "pyout",
       "prompt_number": 13,
       "text": [
        "True"
       ]
      }
     ],
     "prompt_number": 13
    },
    {
     "cell_type": "heading",
     "level": 2,
     "metadata": {},
     "source": [
      "Transformations with $U = D(\\alpha) = e^{\\alpha a^\\dagger - \\alpha^* a}$:"
     ]
    },
    {
     "cell_type": "code",
     "collapsed": false,
     "input": [
      "H = Dagger(a) * alpha - conjugate(alpha) * a\n",
      "U = exp(H)\n",
      "\n",
      "U"
     ],
     "language": "python",
     "metadata": {},
     "outputs": [
      {
       "latex": [
        "$$e^{\\alpha {{a}^\\dagger} - \\overline{\\alpha} {a}}$$"
       ],
       "metadata": {},
       "output_type": "pyout",
       "png": "[encoded data removed]",
       "prompt_number": 14,
       "text": [
        "    \u2020   _  \n",
        " \u03b1\u22c5a  - \u03b1\u22c5a\n",
        "\u212f          "
       ]
      }
     ],
     "prompt_number": 14
    },
    {
     "cell_type": "heading",
     "level": 3,
     "metadata": {},
     "source": [
      "$U a U^\\dagger = a - \\alpha$"
     ]
    },
    {
     "cell_type": "code",
     "collapsed": false,
     "input": [
      "unitary_transformation_auto(U, a)"
     ],
     "language": "python",
     "metadata": {},
     "outputs": [
      {
       "latex": [
        "$$- \\alpha + {a}$$"
       ],
       "metadata": {},
       "output_type": "pyout",
       "png": "[encoded data removed]",
       "prompt_number": 15,
       "text": [
        "-\u03b1 + a"
       ]
      }
     ],
     "prompt_number": 15
    },
    {
     "cell_type": "heading",
     "level": 3,
     "metadata": {},
     "source": [
      "$U a^\\dagger U^\\dagger = a^\\dagger - \\alpha^*$"
     ]
    },
    {
     "cell_type": "code",
     "collapsed": false,
     "input": [
      "unitary_transformation_auto(U, Dagger(a))"
     ],
     "language": "python",
     "metadata": {},
     "outputs": [
      {
       "latex": [
        "$$- \\overline{\\alpha} + {{a}^\\dagger}$$"
       ],
       "metadata": {},
       "output_type": "pyout",
       "png": "[encoded data removed]",
       "prompt_number": 16,
       "text": [
        "  _    \u2020\n",
        "- \u03b1 + a "
       ]
      }
     ],
     "prompt_number": 16
    },
    {
     "cell_type": "heading",
     "level": 3,
     "metadata": {},
     "source": [
      "$U a^\\dagger a U^\\dagger = a^\\dagger a - \\alpha a^\\dagger - \\alpha^* a + |\\alpha|^2$"
     ]
    },
    {
     "cell_type": "code",
     "collapsed": false,
     "input": [
      "unitary_transformation_auto(U, Dagger(a) * a)"
     ],
     "language": "python",
     "metadata": {},
     "outputs": [
      {
       "latex": [
        "$$\\left(- \\overline{\\alpha} + {{a}^\\dagger}\\right) \\left(- \\alpha + {a}\\right)$$"
       ],
       "metadata": {},
       "output_type": "pyout",
       "png": "[encoded data removed]",
       "prompt_number": 17,
       "text": [
        "\u239b  _    \u2020\u239e         \n",
        "\u239d- \u03b1 + a \u23a0\u22c5(-\u03b1 + a)"
       ]
      }
     ],
     "prompt_number": 17
    },
    {
     "cell_type": "heading",
     "level": 2,
     "metadata": {},
     "source": [
      "Optomechanical system"
     ]
    },
    {
     "cell_type": "markdown",
     "metadata": {},
     "source": [
      "Consider the standard Hamiltonian for an optomechanical syste, including a classical driving signal on the optical mode:\n",
      "\n",
      "$$\n",
      "H = \\hbar\\omega_a a^\\dagger a + \\hbar \\omega_b b^\\dagger b + \\hbar g a^\\dagger a (b + b^\\dagger) + (A e^{-i\\omega_d t} + A^* e^{i\\omega_d t})(a + a^\\dagger)\n",
      "$$\n",
      "\n"
     ]
    },
    {
     "cell_type": "code",
     "collapsed": false,
     "input": [
      "n = 6\n",
      "omega_a, omega_b, g, A, Delta = symbols(\"omega_a, omega_b, g, A, Delta\", positive=True)\n",
      "Hsym, omega_d = symbols(\"H, omega_d\")"
     ],
     "language": "python",
     "metadata": {},
     "outputs": [],
     "prompt_number": 33
    },
    {
     "cell_type": "code",
     "collapsed": false,
     "input": [
      "a, b = BosonOp(\"a\"), BosonOp(\"b\")"
     ],
     "language": "python",
     "metadata": {},
     "outputs": [],
     "prompt_number": 34
    },
    {
     "cell_type": "code",
     "collapsed": false,
     "input": [
      "H = omega_a * Dagger(a) * a + omega_b * Dagger(b) * b + g * Dagger(a) * a * (b + Dagger(b)) \\\n",
      "    + (A * exp(-I * omega_d * t) + conjugate(A) * exp(I * omega_d * t)) * (a + Dagger(a))\n",
      "\n",
      "Eq(Hsym, H)"
     ],
     "language": "python",
     "metadata": {},
     "outputs": [
      {
       "latex": [
        "$$H = g {{a}^\\dagger} {a} \\left({{b}^\\dagger} + {b}\\right) + \\omega_{a} {{a}^\\dagger} {a} + \\omega_{b} {{b}^\\dagger} {b} + \\left(A e^{i \\omega_{d} t} + A e^{- i \\omega_{d} t}\\right) \\left({{a}^\\dagger} + {a}\\right)$$"
       ],
       "metadata": {},
       "output_type": "pyout",
       "png": "[encoded data removed]",
       "prompt_number": 35,
       "text": [
        "       \u2020   \u239b \u2020    \u239e       \u2020          \u2020     \u239b   \u2148\u22c5\u03c9_d\u22c5t      -\u2148\u22c5\u03c9_d\u22c5t\u239e \u239b \u2020    \u239e\n",
        "H = g\u22c5a \u22c5a\u22c5\u239db  + b\u23a0 + \u03c9\u2090\u22c5a \u22c5a + \u03c9_b\u22c5b \u22c5b + \u239dA\u22c5\u212f        + A\u22c5\u212f        \u23a0\u22c5\u239da  + a\u23a0"
       ]
      }
     ],
     "prompt_number": 35
    },
    {
     "cell_type": "heading",
     "level": 3,
     "metadata": {},
     "source": [
      "Linearized interaction"
     ]
    },
    {
     "cell_type": "markdown",
     "metadata": {},
     "source": [
      "First we apply the unitary transformation $U = e^{i \\omega_d a^\\dagger a t}$:"
     ]
    },
    {
     "cell_type": "code",
     "collapsed": false,
     "input": [
      "U = exp(I * Dagger(a) * a * omega_d * t)\n",
      "\n",
      "U"
     ],
     "language": "python",
     "metadata": {},
     "outputs": [
      {
       "latex": [
        "$$e^{i \\omega_{d} t {{a}^\\dagger} {a}}$$"
       ],
       "metadata": {},
       "output_type": "pyout",
       "png": "[encoded data removed]",
       "prompt_number": 36,
       "text": [
        "          \u2020  \n",
        " \u2148\u22c5\u03c9_d\u22c5t\u22c5a \u22c5a\n",
        "\u212f            "
       ]
      }
     ],
     "prompt_number": 36
    },
    {
     "cell_type": "code",
     "collapsed": false,
     "input": [
      "unitary_transformation_auto(U, H, independent=True)"
     ],
     "language": "python",
     "metadata": {},
     "outputs": [
      {
       "latex": [
        "$$g {{a}^\\dagger} {a} \\left({{b}^\\dagger} + {b}\\right) + \\omega_{a} {{a}^\\dagger} {a} + \\omega_{b} {{b}^\\dagger} {b} + \\left(A e^{i \\omega_{d} t} + A e^{- i \\omega_{d} t}\\right) \\left(e^{i \\omega_{d} t} {{a}^\\dagger} + e^{- i \\omega_{d} t} {a}\\right)$$"
       ],
       "metadata": {},
       "output_type": "pyout",
       "png": "[encoded data removed]",
       "prompt_number": 37,
       "text": [
        "   \u2020   \u239b \u2020    \u239e       \u2020          \u2020     \u239b   \u2148\u22c5\u03c9_d\u22c5t      -\u2148\u22c5\u03c9_d\u22c5t\u239e \u239b \u2148\u22c5\u03c9_d\u22c5t  \u2020\n",
        "g\u22c5a \u22c5a\u22c5\u239db  + b\u23a0 + \u03c9\u2090\u22c5a \u22c5a + \u03c9_b\u22c5b \u22c5b + \u239dA\u22c5\u212f        + A\u22c5\u212f        \u23a0\u22c5\u239d\u212f       \u22c5a \n",
        "\n",
        "    -\u2148\u22c5\u03c9_d\u22c5t  \u239e\n",
        " + \u212f        \u22c5a\u23a0"
       ]
      }
     ],
     "prompt_number": 37
    },
    {
     "cell_type": "code",
     "collapsed": false,
     "input": [
      "H1 = hamiltonian_transformation_auto(U, H, independent=True)\n",
      "\n",
      "H1"
     ],
     "language": "python",
     "metadata": {},
     "outputs": [
      {
       "latex": [
        "$$g {{a}^\\dagger} {a} \\left({{b}^\\dagger} + {b}\\right) + \\omega_{a} {{a}^\\dagger} {a} + \\omega_{b} {{b}^\\dagger} {b} - \\omega_{d} {{a}^\\dagger} {a} + \\left(A e^{i \\omega_{d} t} + A e^{- i \\omega_{d} t}\\right) \\left(e^{i \\omega_{d} t} {{a}^\\dagger} + e^{- i \\omega_{d} t} {a}\\right)$$"
       ],
       "metadata": {},
       "output_type": "pyout",
       "png": "[encoded data removed]",
       "prompt_number": 38,
       "text": [
        "   \u2020   \u239b \u2020    \u239e       \u2020          \u2020          \u2020     \u239b   \u2148\u22c5\u03c9_d\u22c5t      -\u2148\u22c5\u03c9_d\u22c5t\u239e \u239b\n",
        "g\u22c5a \u22c5a\u22c5\u239db  + b\u23a0 + \u03c9\u2090\u22c5a \u22c5a + \u03c9_b\u22c5b \u22c5b - \u03c9_d\u22c5a \u22c5a + \u239dA\u22c5\u212f        + A\u22c5\u212f        \u23a0\u22c5\u239d\n",
        "\n",
        " \u2148\u22c5\u03c9_d\u22c5t  \u2020    -\u2148\u22c5\u03c9_d\u22c5t  \u239e\n",
        "\u212f       \u22c5a  + \u212f        \u22c5a\u23a0"
       ]
      }
     ],
     "prompt_number": 38
    },
    {
     "cell_type": "markdown",
     "metadata": {},
     "source": [
      "We can now perform a rotating-wave approximation (RWA) by eliminating all terms that rotate with frequencies $2\\omega_d$:"
     ]
    },
    {
     "cell_type": "code",
     "collapsed": false,
     "input": [
      "H2 = drop_terms_containing(H1.expand(), [exp(-2*I*omega_d*t), exp(2*I*omega_d*t)])\n",
      "\n",
      "Eq(Symbol(\"H_{rwa}\"), H2)"
     ],
     "language": "python",
     "metadata": {},
     "outputs": [
      {
       "latex": [
        "$$H_{{rwa}} = A {{a}^\\dagger} + A {a} + g {{a}^\\dagger} {a} {{b}^\\dagger} + g {{a}^\\dagger} {a} {b} + \\omega_{a} {{a}^\\dagger} {a} + \\omega_{b} {{b}^\\dagger} {b} - \\omega_{d} {{a}^\\dagger} {a}$$"
       ],
       "metadata": {},
       "output_type": "pyout",
       "png": "[encoded data removed]",
       "prompt_number": 39,
       "text": [
        "             \u2020            \u2020    \u2020      \u2020           \u2020          \u2020          \u2020  \n",
        "H_{rwa} = A\u22c5a  + A\u22c5a + g\u22c5a \u22c5a\u22c5b  + g\u22c5a \u22c5a\u22c5b + \u03c9\u2090\u22c5a \u22c5a + \u03c9_b\u22c5b \u22c5b - \u03c9_d\u22c5a \u22c5a"
       ]
      }
     ],
     "prompt_number": 39
    },
    {
     "cell_type": "markdown",
     "metadata": {},
     "source": [
      "Now we introduce the detuning $\\Delta = \\omega_a - \\omega_d$:"
     ]
    },
    {
     "cell_type": "code",
     "collapsed": false,
     "input": [
      "H3 = H2.subs(omega_a, Delta + omega_d).expand()\n",
      "\n",
      "H3"
     ],
     "language": "python",
     "metadata": {},
     "outputs": [
      {
       "latex": [
        "$$A {{a}^\\dagger} + A {a} + \\Delta {{a}^\\dagger} {a} + g {{a}^\\dagger} {a} {{b}^\\dagger} + g {{a}^\\dagger} {a} {b} + \\omega_{b} {{b}^\\dagger} {b}$$"
       ],
       "metadata": {},
       "output_type": "pyout",
       "png": "[encoded data removed]",
       "prompt_number": 40,
       "text": [
        "   \u2020            \u2020        \u2020    \u2020      \u2020            \u2020  \n",
        "A\u22c5a  + A\u22c5a + \u0394\u22c5a \u22c5a + g\u22c5a \u22c5a\u22c5b  + g\u22c5a \u22c5a\u22c5b + \u03c9_b\u22c5b \u22c5b"
       ]
      }
     ],
     "prompt_number": 40
    },
    {
     "cell_type": "markdown",
     "metadata": {},
     "source": [
      "To eliminate the coherent part of the state of the cavity mode we apply the unitary displacement operator $U = e^{\\alpha a^\\dagger - \\alpha^*a}$:"
     ]
    },
    {
     "cell_type": "code",
     "collapsed": false,
     "input": [
      "alpha = symbols(\"alpha\")"
     ],
     "language": "python",
     "metadata": {},
     "outputs": [],
     "prompt_number": 41
    },
    {
     "cell_type": "code",
     "collapsed": false,
     "input": [
      "H = Dagger(a) * alpha - conjugate(alpha) * a\n",
      "U = exp(H)\n",
      "\n",
      "U"
     ],
     "language": "python",
     "metadata": {},
     "outputs": [
      {
       "latex": [
        "$$e^{\\alpha {{a}^\\dagger} - \\overline{\\alpha} {a}}$$"
       ],
       "metadata": {},
       "output_type": "pyout",
       "png": "[encoded data removed]",
       "prompt_number": 42,
       "text": [
        "    \u2020   _  \n",
        " \u03b1\u22c5a  - \u03b1\u22c5a\n",
        "\u212f          "
       ]
      }
     ],
     "prompt_number": 42
    },
    {
     "cell_type": "code",
     "collapsed": false,
     "input": [
      "H4 = hamiltonian_transformation_auto(U, H3, independent=True)\n",
      "\n",
      "H4"
     ],
     "language": "python",
     "metadata": {},
     "outputs": [
      {
       "latex": [
        "$$A \\left(- \\alpha + {a}\\right) + A \\left(- \\overline{\\alpha} + {{a}^\\dagger}\\right) + \\Delta \\left(- \\overline{\\alpha} + {{a}^\\dagger}\\right) \\left(- \\alpha + {a}\\right) + g \\left(- \\overline{\\alpha} + {{a}^\\dagger}\\right) \\left(- \\alpha + {a}\\right) {{b}^\\dagger} + g \\left(- \\overline{\\alpha} + {{a}^\\dagger}\\right) \\left(- \\alpha + {a}\\right) {b} + \\omega_{b} {{b}^\\dagger} {b}$$"
       ],
       "metadata": {},
       "output_type": "pyout",
       "png": "[encoded data removed]",
       "prompt_number": 43,
       "text": [
        "               \u239b  _    \u2020\u239e     \u239b  _    \u2020\u239e              \u239b  _    \u2020\u239e           \u2020  \n",
        "A\u22c5(-\u03b1 + a) + A\u22c5\u239d- \u03b1 + a \u23a0 + \u0394\u22c5\u239d- \u03b1 + a \u23a0\u22c5(-\u03b1 + a) + g\u22c5\u239d- \u03b1 + a \u23a0\u22c5(-\u03b1 + a)\u22c5b  +\n",
        "\n",
        "   \u239b  _    \u2020\u239e                   \u2020  \n",
        " g\u22c5\u239d- \u03b1 + a \u23a0\u22c5(-\u03b1 + a)\u22c5b + \u03c9_b\u22c5b \u22c5b"
       ]
      }
     ],
     "prompt_number": 43
    },
    {
     "cell_type": "markdown",
     "metadata": {},
     "source": [
      "Now want to cancel out the drivng terms so we set $A - \\Delta \\alpha = 0$, i.e. $\\alpha = A/\\Delta$:"
     ]
    },
    {
     "cell_type": "code",
     "collapsed": false,
     "input": [
      "H5 = H4.expand().subs({A: alpha * Delta, conjugate(alpha): alpha}) \n",
      "\n",
      "H5 = collect(H5, [g * Dagger(a) * a, - alpha * g])\n",
      "\n",
      "H5"
     ],
     "language": "python",
     "metadata": {},
     "outputs": [
      {
       "latex": [
        "$$- \\Delta \\alpha^{2} + \\Delta {{a}^\\dagger} {a} + \\alpha^{2} g \\left({{b}^\\dagger} + {b}\\right) + \\alpha g \\left(- {{a}^\\dagger} {{b}^\\dagger} - {{a}^\\dagger} {b} - {a} {{b}^\\dagger} - {a} {b}\\right) + g {{a}^\\dagger} {a} \\left({{b}^\\dagger} + {b}\\right) + \\omega_{b} {{b}^\\dagger} {b}$$"
       ],
       "metadata": {},
       "output_type": "pyout",
       "png": "[encoded data removed]",
       "prompt_number": 44,
       "text": [
        "     2      \u2020      2   \u239b \u2020    \u239e       \u239b   \u2020  \u2020    \u2020        \u2020      \u239e      \u2020   \u239b\n",
        "- \u0394\u22c5\u03b1  + \u0394\u22c5a \u22c5a + \u03b1 \u22c5g\u22c5\u239db  + b\u23a0 + \u03b1\u22c5g\u22c5\u239d- a \u22c5b  - a \u22c5b - a\u22c5b  - a\u22c5b\u23a0 + g\u22c5a \u22c5a\u22c5\u239d\n",
        "\n",
        " \u2020    \u239e        \u2020  \n",
        "b  + b\u23a0 + \u03c9_b\u22c5b \u22c5b"
       ]
      }
     ],
     "prompt_number": 44
    },
    {
     "cell_type": "markdown",
     "metadata": {},
     "source": [
      "Drop C-numbers from the hamiltonian:"
     ]
    },
    {
     "cell_type": "code",
     "collapsed": false,
     "input": [
      "H6 = drop_c_number_terms(H5)\n",
      "\n",
      "H6"
     ],
     "language": "python",
     "metadata": {},
     "outputs": [
      {
       "latex": [
        "$$\\Delta {{a}^\\dagger} {a} + \\alpha^{2} g \\left({{b}^\\dagger} + {b}\\right) + \\alpha g \\left(- {{a}^\\dagger} {{b}^\\dagger} - {{a}^\\dagger} {b} - {a} {{b}^\\dagger} - {a} {b}\\right) + g {{a}^\\dagger} {a} \\left({{b}^\\dagger} + {b}\\right) + \\omega_{b} {{b}^\\dagger} {b}$$"
       ],
       "metadata": {},
       "output_type": "pyout",
       "png": "[encoded data removed]",
       "prompt_number": 45,
       "text": [
        "   \u2020      2   \u239b \u2020    \u239e       \u239b   \u2020  \u2020    \u2020        \u2020      \u239e      \u2020   \u239b \u2020    \u239e  \n",
        "\u0394\u22c5a \u22c5a + \u03b1 \u22c5g\u22c5\u239db  + b\u23a0 + \u03b1\u22c5g\u22c5\u239d- a \u22c5b  - a \u22c5b - a\u22c5b  - a\u22c5b\u23a0 + g\u22c5a \u22c5a\u22c5\u239db  + b\u23a0 +\n",
        "\n",
        "      \u2020  \n",
        " \u03c9_b\u22c5b \u22c5b"
       ]
      }
     ],
     "prompt_number": 45
    },
    {
     "cell_type": "markdown",
     "metadata": {},
     "source": [
      "Now, if driving strength is large, so that $\\alpha \\gg 1$, we can drop the nonlinear interaction term, and we have an linear effective coupling:"
     ]
    },
    {
     "cell_type": "code",
     "collapsed": false,
     "input": [
      "H7 = drop_terms_containing(H6, [g * Dagger(a) * a])  # XXX not working\n",
      "\n",
      "Eq(Hsym, H7)"
     ],
     "language": "python",
     "metadata": {},
     "outputs": [
      {
       "latex": [
        "$$H = \\Delta {{a}^\\dagger} {a} + \\alpha^{2} g \\left({{b}^\\dagger} + {b}\\right) + \\alpha g \\left(- {{a}^\\dagger} {{b}^\\dagger} - {{a}^\\dagger} {b} - {a} {{b}^\\dagger} - {a} {b}\\right) + g {{a}^\\dagger} {a} \\left({{b}^\\dagger} + {b}\\right) + \\omega_{b} {{b}^\\dagger} {b}$$"
       ],
       "metadata": {},
       "output_type": "pyout",
       "png": "[encoded data removed]",
       "prompt_number": 46,
       "text": [
        "       \u2020      2   \u239b \u2020    \u239e       \u239b   \u2020  \u2020    \u2020        \u2020      \u239e      \u2020   \u239b \u2020   \n",
        "H = \u0394\u22c5a \u22c5a + \u03b1 \u22c5g\u22c5\u239db  + b\u23a0 + \u03b1\u22c5g\u22c5\u239d- a \u22c5b  - a \u22c5b - a\u22c5b  - a\u22c5b\u23a0 + g\u22c5a \u22c5a\u22c5\u239db  + \n",
        "\n",
        " \u239e        \u2020  \n",
        "b\u23a0 + \u03c9_b\u22c5b \u22c5b"
       ]
      }
     ],
     "prompt_number": 46
    },
    {
     "cell_type": "heading",
     "level": 2,
     "metadata": {},
     "source": [
      "Versions"
     ]
    },
    {
     "cell_type": "code",
     "collapsed": false,
     "input": [
      "%reload_ext version_information\n",
      "\n",
      "%version_information sympy"
     ],
     "language": "python",
     "metadata": {},
     "outputs": [
      {
       "html": [
        "<table><tr><th>Software</th><th>Version</th></tr><tr><td>Python</td><td>3.4.0 (default, Apr 11 2014, 13:05:11) [GCC 4.8.2]</td></tr><tr><td>IPython</td><td>3.0.0-dev</td></tr><tr><td>OS</td><td>posix [linux]</td></tr><tr><td>sympy</td><td>0.7.5-git</td></tr><tr><td colspan='2'>Tue Jun 10 17:25:19 2014 JST</td></tr></table>"
       ],
       "json": [
        "{\"Software versions\": [{\"version\": \"3.4.0 (default, Apr 11 2014, 13:05:11) [GCC 4.8.2]\", \"module\": \"Python\"}, {\"version\": \"3.0.0-dev\", \"module\": \"IPython\"}, {\"version\": \"posix [linux]\", \"module\": \"OS\"}, {\"version\": \"0.7.5-git\", \"module\": \"sympy\"}]}"
       ],
       "latex": [
        "\\begin{tabular}{|l|l|}\\hline\n",
        "{\\bf Software} & {\\bf Version} \\\\ \\hline\\hline\n",
        "Python & 3.4.0 (default, Apr 11 2014, 13:05:11) [GCC 4.8.2] \\\\ \\hline\n",
        "IPython & 3.0.0-dev \\\\ \\hline\n",
        "OS & posix [linux] \\\\ \\hline\n",
        "sympy & 0.7.5-git \\\\ \\hline\n",
        "\\hline \\multicolumn{2}{|l|}{Tue Jun 10 17:25:19 2014 JST} \\\\ \\hline\n",
        "\\end{tabular}\n"
       ],
       "metadata": {},
       "output_type": "pyout",
       "prompt_number": 47,
       "text": [
        "Software versions\n",
        "Python 3.4.0 (default, Apr 11 2014, 13:05:11) [GCC 4.8.2]\n",
        "IPython 3.0.0-dev\n",
        "OS posix [linux]\n",
        "sympy 0.7.5-git\n",
        "\n",
        "Tue Jun 10 17:25:19 2014 JST"
       ]
      }
     ],
     "prompt_number": 47
    },
    {
     "cell_type": "code",
     "collapsed": false,
     "input": [],
     "language": "python",
     "metadata": {},
     "outputs": [],
     "prompt_number": 47
    },
    {
     "cell_type": "code",
     "collapsed": false,
     "input": [],
     "language": "python",
     "metadata": {},
     "outputs": []
    }
   ],
   "metadata": {}
  }
 ]
}