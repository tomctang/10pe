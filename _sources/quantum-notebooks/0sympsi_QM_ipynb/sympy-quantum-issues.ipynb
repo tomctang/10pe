{
 "metadata": {
  "name": "",
  "signature": "sha256:550db1d45033e35a32fa4759048c9cbd5b59d9ce889ceb53707ab7f53c297107"
 },
 "nbformat": 3,
 "nbformat_minor": 0,
 "worksheets": [
  {
   "cells": [
    {
     "cell_type": "heading",
     "level": 1,
     "metadata": {},
     "source": [
      "A lists of some issues with sympy.physics.quantum that needs fixing..."
     ]
    },
    {
     "cell_type": "markdown",
     "metadata": {},
     "source": [
      "Robert Johansson"
     ]
    },
    {
     "cell_type": "code",
     "collapsed": false,
     "input": [
      "from sympy import *\n",
      "init_printing()\n",
      "\n",
      "from sympy.physics.quantum import *"
     ],
     "language": "python",
     "metadata": {},
     "outputs": [],
     "prompt_number": 1
    },
    {
     "cell_type": "heading",
     "level": 2,
     "metadata": {},
     "source": [
      "Innerproducts of tensor products are not evaluated"
     ]
    },
    {
     "cell_type": "code",
     "collapsed": false,
     "input": [
      "ket1 = FermionFockKet(0)\n",
      "ket2 = FermionFockKet(1)\n",
      "\n",
      "tp = TensorProduct(ket1, ket2)"
     ],
     "language": "python",
     "metadata": {},
     "outputs": [],
     "prompt_number": 2
    },
    {
     "cell_type": "code",
     "collapsed": false,
     "input": [
      "p = Dagger(tp) * tp\n",
      "\n",
      "p, p.doit()  # Does not evaluate"
     ],
     "language": "python",
     "metadata": {},
     "outputs": [
      {
       "latex": [
        "$$\\begin{pmatrix}{{\\left\\langle 0\\right|}}\\otimes {{\\left\\langle 1\\right|}} {{\\left|0\\right\\rangle }}\\otimes {{\\left|1\\right\\rangle }}, & {{\\left\\langle 0\\right|}}\\otimes {{\\left\\langle 1\\right|}} {{\\left|0\\right\\rangle }}\\otimes {{\\left|1\\right\\rangle }}\\end{pmatrix}$$"
       ],
       "metadata": {},
       "output_type": "pyout",
       "png": "[encoded data removed]",
       "prompt_number": 3,
       "text": [
        "(\u27e80\u2758\u2a02 \u27e81\u2758\u22c5\u27580\u27e9\u2a02 \u27581\u27e9, \u27e80\u2758\u2a02 \u27e81\u2758\u22c5\u27580\u27e9\u2a02 \u27581\u27e9)"
       ]
      }
     ],
     "prompt_number": 3
    },
    {
     "cell_type": "heading",
     "level": 2,
     "metadata": {},
     "source": [
      "Qubits does not work with TensorProduct"
     ]
    },
    {
     "cell_type": "markdown",
     "metadata": {},
     "source": [
      "The Qubit class has its own way of managing composite quantum systems (tensorproducts)..."
     ]
    },
    {
     "cell_type": "code",
     "collapsed": false,
     "input": [
      "from sympy.physics.quantum.qubit import *"
     ],
     "language": "python",
     "metadata": {},
     "outputs": [],
     "prompt_number": 4
    },
    {
     "cell_type": "code",
     "collapsed": false,
     "input": [
      "q1 = Qubit(\"0\")\n",
      "q2 = Qubit(\"1\")"
     ],
     "language": "python",
     "metadata": {},
     "outputs": [],
     "prompt_number": 5
    },
    {
     "cell_type": "code",
     "collapsed": false,
     "input": [
      "p = Dagger(q1) * q2\n",
      "\n",
      "p, p.doit()  # OK"
     ],
     "language": "python",
     "metadata": {},
     "outputs": [
      {
       "latex": [
        "$$\\begin{pmatrix}\\left\\langle 0 \\right. {\\left|1\\right\\rangle }, & 0\\end{pmatrix}$$"
       ],
       "metadata": {},
       "output_type": "pyout",
       "png": "[encoded data removed]",
       "prompt_number": 6,
       "text": [
        "(\u27e80\u27581\u27e9, 0)"
       ]
      }
     ],
     "prompt_number": 6
    },
    {
     "cell_type": "code",
     "collapsed": false,
     "input": [
      "tp = TensorProduct(Qubit(\"0\"), Qubit(\"1\")); tp"
     ],
     "language": "python",
     "metadata": {},
     "outputs": [
      {
       "latex": [
        "$${{\\left|0\\right\\rangle }}\\otimes {{\\left|1\\right\\rangle }}$$"
       ],
       "metadata": {},
       "output_type": "pyout",
       "png": "[encoded data removed]",
       "prompt_number": 7,
       "text": [
        "\u27580\u27e9\u2a02 \u27581\u27e9"
       ]
      }
     ],
     "prompt_number": 7
    },
    {
     "cell_type": "code",
     "collapsed": false,
     "input": [
      "p = Dagger(tp) * tp\n",
      "\n",
      "p, p.doit()  # Does not work. "
     ],
     "language": "python",
     "metadata": {},
     "outputs": [
      {
       "latex": [
        "$$\\begin{pmatrix}{{\\left\\langle 0\\right|}}\\otimes {{\\left\\langle 1\\right|}} {{\\left|0\\right\\rangle }}\\otimes {{\\left|1\\right\\rangle }}, & {{\\left\\langle 0\\right|}}\\otimes {{\\left\\langle 1\\right|}} {{\\left|0\\right\\rangle }}\\otimes {{\\left|1\\right\\rangle }}\\end{pmatrix}$$"
       ],
       "metadata": {},
       "output_type": "pyout",
       "png": "[encoded data removed]",
       "prompt_number": 8,
       "text": [
        "(\u27e80\u2758\u2a02 \u27e81\u2758\u22c5\u27580\u27e9\u2a02 \u27581\u27e9, \u27e80\u2758\u2a02 \u27e81\u2758\u22c5\u27580\u27e9\u2a02 \u27581\u27e9)"
       ]
      }
     ],
     "prompt_number": 8
    },
    {
     "cell_type": "code",
     "collapsed": false,
     "input": [
      "TensorProduct(Qubit(\"10\"), Qubit(\"10\"))  # not working properly either"
     ],
     "language": "python",
     "metadata": {},
     "outputs": [
      {
       "latex": [
        "$${{\\left|10\\right\\rangle }}\\otimes {{\\left|10\\right\\rangle }}$$"
       ],
       "metadata": {},
       "output_type": "pyout",
       "png": "[encoded data removed]",
       "prompt_number": 9,
       "text": [
        "\u275810\u27e9\u2a02 \u275810\u27e9"
       ]
      }
     ],
     "prompt_number": 9
    },
    {
     "cell_type": "heading",
     "level": 2,
     "metadata": {},
     "source": [
      "TensorProducts of bra's and ket's is printed with double vertical bars"
     ]
    },
    {
     "cell_type": "code",
     "collapsed": false,
     "input": [
      "bra = Bra(\"psi\")\n",
      "ket = Ket(\"phi\")"
     ],
     "language": "python",
     "metadata": {},
     "outputs": [],
     "prompt_number": 10
    },
    {
     "cell_type": "code",
     "collapsed": false,
     "input": [
      "bra * ket  # OK"
     ],
     "language": "python",
     "metadata": {},
     "outputs": [
      {
       "latex": [
        "$$\\left\\langle \\psi \\right. {\\left|\\phi\\right\\rangle }$$"
       ],
       "metadata": {},
       "output_type": "pyout",
       "png": "[encoded data removed]",
       "prompt_number": 11,
       "text": [
        "\u27e8\u03c8\u2758\u03c6\u27e9"
       ]
      }
     ],
     "prompt_number": 11
    },
    {
     "cell_type": "code",
     "collapsed": false,
     "input": [
      "TensorProduct(bra, bra) * TensorProduct(ket, ket)  # Double vertical bars"
     ],
     "language": "python",
     "metadata": {},
     "outputs": [
      {
       "latex": [
        "$${{\\left\\langle \\psi\\right|}}\\otimes {{\\left\\langle \\psi\\right|}} {{\\left|\\phi\\right\\rangle }}\\otimes {{\\left|\\phi\\right\\rangle }}$$"
       ],
       "metadata": {},
       "output_type": "pyout",
       "png": "[encoded data removed]",
       "prompt_number": 12,
       "text": [
        "\u27e8\u03c8\u2758\u2a02 \u27e8\u03c8\u2758\u22c5\u2758\u03c6\u27e9\u2a02 \u2758\u03c6\u27e9"
       ]
      }
     ],
     "prompt_number": 12
    },
    {
     "cell_type": "code",
     "collapsed": false,
     "input": [
      "type(bra * ket)"
     ],
     "language": "python",
     "metadata": {},
     "outputs": [
      {
       "metadata": {},
       "output_type": "pyout",
       "prompt_number": 13,
       "text": [
        "sympy.physics.quantum.innerproduct.InnerProduct"
       ]
      }
     ],
     "prompt_number": 13
    },
    {
     "cell_type": "code",
     "collapsed": false,
     "input": [
      "type(TensorProduct(bra, bra) * TensorProduct(ket, ket))  # not recognized as an InnerProduct"
     ],
     "language": "python",
     "metadata": {},
     "outputs": [
      {
       "metadata": {},
       "output_type": "pyout",
       "prompt_number": 14,
       "text": [
        "sympy.core.mul.Mul"
       ]
      }
     ],
     "prompt_number": 14
    },
    {
     "cell_type": "heading",
     "level": 1,
     "metadata": {},
     "source": [
      "Nonsense tensorproducts"
     ]
    },
    {
     "cell_type": "code",
     "collapsed": false,
     "input": [
      "bra = Bra(\"psi\")\n",
      "ket = Ket(\"phi\")"
     ],
     "language": "python",
     "metadata": {},
     "outputs": [],
     "prompt_number": 15
    },
    {
     "cell_type": "code",
     "collapsed": false,
     "input": [
      "TensorProduct(bra, ket)"
     ],
     "language": "python",
     "metadata": {},
     "outputs": [
      {
       "latex": [
        "$${{\\left\\langle \\psi\\right|}}\\otimes {{\\left|\\phi\\right\\rangle }}$$"
       ],
       "metadata": {},
       "output_type": "pyout",
       "png": "[encoded data removed]",
       "prompt_number": 16,
       "text": [
        "\u27e8\u03c8\u2758\u2a02 \u2758\u03c6\u27e9"
       ]
      }
     ],
     "prompt_number": 16
    },
    {
     "cell_type": "code",
     "collapsed": false,
     "input": [],
     "language": "python",
     "metadata": {},
     "outputs": [],
     "prompt_number": 16
    },
    {
     "cell_type": "code",
     "collapsed": false,
     "input": [],
     "language": "python",
     "metadata": {},
     "outputs": []
    }
   ],
   "metadata": {}
  }
 ]
}