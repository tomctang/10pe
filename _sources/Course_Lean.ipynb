{
 "cells": [
  {
   "cell_type": "markdown",
   "id": "1fa51270",
   "metadata": {
    "vscode": {
     "languageId": "sage"
    }
   },
   "source": [
    "# Lean"
   ]
  },
  {
   "cell_type": "markdown",
   "id": "fe88cdda",
   "metadata": {},
   "source": [
    "Tactics\n",
    "- intro : This tactic introduces a hypothesis based on the goal if possible.\n",
    "\n",
    "- rfl(reflexitivity) : This tactic proves all goals of the form $X=X$\n",
    "- rw(rewrite) : This rewrites the goal.\n",
    "    - Square brackets must be included.\n",
    "    - Type the theorem in the square brackets."
   ]
  },
  {
   "cell_type": "code",
   "execution_count": null,
   "id": "322650ff",
   "metadata": {
    "vscode": {
     "languageId": "plaintext"
    }
   },
   "outputs": [],
   "source": [
    "(Unfinished proof for le_total)\n",
    "induction y with d hd\n",
    "right\n",
    "apply zero_le\n",
    "cases hd with h1 h2\n",
    "left\n",
    "apply le_trans\n",
    "exact h1\n",
    "exact le_succ_self d\n",
    "cases h2 with e he\n",
    "cases e with a\n",
    "rw[add_zero] at he\n",
    "rw[he]\n",
    "left\n",
    "apply le_succ_self\n",
    "right\n",
    "rw[he]\n",
    "rw[add_succ]"
   ]
  }
 ],
 "metadata": {
  "language_info": {
   "name": "python"
  }
 },
 "nbformat": 4,
 "nbformat_minor": 5
}
