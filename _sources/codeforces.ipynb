{
 "cells": [
  {
   "cell_type": "markdown",
   "id": "6097cd5a",
   "metadata": {},
   "source": [
    "### Codeforces Testing"
   ]
  },
  {
   "cell_type": "code",
   "execution_count": null,
   "id": "c55deeeb",
   "metadata": {},
   "outputs": [
    {
     "name": "stdout",
     "output_type": "stream",
     "text": [
      "11\n"
     ]
    }
   ],
   "source": [
    "n=int(input())\n",
    "d=list(map(int,input().split()))\n",
    "a,b=map(int,input().split())\n",
    "print(sum(d[a-1:b-1]))"
   ]
  }
 ],
 "metadata": {
  "kernelspec": {
   "display_name": "sage",
   "language": "python",
   "name": "python3"
  },
  "language_info": {
   "codemirror_mode": {
    "name": "ipython",
    "version": 3
   },
   "file_extension": ".py",
   "mimetype": "text/x-python",
   "name": "python",
   "nbconvert_exporter": "python",
   "pygments_lexer": "ipython3",
   "version": "3.12.10"
  }
 },
 "nbformat": 4,
 "nbformat_minor": 5
}
