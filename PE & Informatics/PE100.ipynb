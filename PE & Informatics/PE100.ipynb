{
 "cells": [
  {
   "cell_type": "markdown",
   "metadata": {},
   "source": [
    "# Project Euler Q51-"
   ]
  },
  {
   "cell_type": "code",
   "execution_count": 1,
   "metadata": {
    "vscode": {
     "languageId": "sage"
    }
   },
   "outputs": [],
   "source": [
    "%run PE_pre_running.py"
   ]
  },
  {
   "cell_type": "markdown",
   "metadata": {},
   "source": [
    "## PE 51"
   ]
  },
  {
   "cell_type": "markdown",
   "metadata": {},
   "source": [
    "## PE 52"
   ]
  },
  {
   "cell_type": "code",
   "execution_count": null,
   "metadata": {
    "vscode": {
     "languageId": "sage"
    }
   },
   "outputs": [],
   "source": [
    "#52 Permuted Multiples\n",
    "def permuted(n):\n",
    "    listnum=list(map(int, str(n)))\n",
    "    listnum1=listnum[:]\n",
    "    listnum1.sort()\n",
    "    m=1\n",
    "    old=list_to_int(listnum)\n",
    "    while True:\n",
    "        n=old*(m+1)\n",
    "        test=list(map(int, str(n)))\n",
    "        test.sort()\n",
    "        if test!=listnum1:\n",
    "            break\n",
    "        m+=1\n",
    "    return m\n",
    "def solve(m):\n",
    "    n=1000\n",
    "    while True:\n",
    "        num=permuted(n)\n",
    "        if num>=m:\n",
    "            break\n",
    "        n+=1\n",
    "    return n\n",
    "print(solve(6))"
   ]
  },
  {
   "cell_type": "markdown",
   "metadata": {},
   "source": [
    "## PE 53"
   ]
  },
  {
   "cell_type": "code",
   "execution_count": null,
   "metadata": {
    "vscode": {
     "languageId": "sage"
    }
   },
   "outputs": [],
   "source": [
    "# 53 Combinatoric Selections\n",
    "def ncr(n, r):\n",
    "    return factorial(n)/(factorial(r)*factorial(n-r))\n",
    "\n",
    "over_million=0\n",
    "for n in range(22,101):\n",
    "    for r in range(3,n-1):\n",
    "        if ncr(n,r)>1000000:\n",
    "            over_million+=1\n",
    "over_million"
   ]
  },
  {
   "cell_type": "markdown",
   "metadata": {},
   "source": [
    "## PE 54"
   ]
  },
  {
   "cell_type": "code",
   "execution_count": null,
   "metadata": {
    "vscode": {
     "languageId": "sage"
    }
   },
   "outputs": [],
   "source": [
    "import requests\n",
    "response = requests.get(\"https://projecteuler.net/resources/documents/0054_poker.txt\")   # Send a GET request to the URL\n",
    "content = response.text     # Read the content of the response\n",
    "hands=content.split('\\n')"
   ]
  },
  {
   "cell_type": "code",
   "execution_count": null,
   "metadata": {
    "vscode": {
     "languageId": "sage"
    }
   },
   "outputs": [],
   "source": [
    "hands=[hand.split() for hand in hands]\n",
    "hands=hands[:-1]\n",
    "hands"
   ]
  },
  {
   "cell_type": "code",
   "execution_count": null,
   "metadata": {
    "vscode": {
     "languageId": "sage"
    }
   },
   "outputs": [],
   "source": [
    "stt=[['2', '3', '4', '5', '6'],\n",
    " ['3', '4', '5', '6', '7'],\n",
    " ['4', '5', '6', '7', '8'],\n",
    " ['5', '6', '7', '8', '9'],\n",
    " ['6', '7', '8', '9', 'T'],\n",
    " ['7', '8', '9', 'J', 'T'],\n",
    " ['8', '9', 'J', 'Q', 'T'],\n",
    " ['9', 'J', 'K', 'Q', 'T'],\n",
    " ['A', 'J', 'K', 'Q', 'T']]"
   ]
  },
  {
   "cell_type": "code",
   "execution_count": null,
   "metadata": {
    "vscode": {
     "languageId": "sage"
    }
   },
   "outputs": [],
   "source": [
    "def test(lst:list):\n",
    "    hand1=lst[:5]\n",
    "    hand2=lst[5:]\n",
    "    hand1.sort()\n",
    "    hand2.sort()\n",
    "    flush1=hand1[0][1]==hand1[1][1]==hand1[2][1]==hand1[3][1]==hand1[4][1]\n",
    "    flush2=hand2[0][1]==hand2[1][1]==hand2[2][1]==hand2[3][1]==hand2[4][1]\n",
    "    value1=[hand1[i][0] for i in range(5)]\n",
    "    value2=[hand2[i][0] for i in range(5)]\n",
    "    four1=value1.count(value1[2])>=4\n",
    "    four2=value2.count(value2[2])>=4\n",
    "    three1=value1.count(value1[2])==3\n",
    "    three2=value2.count(value2[2])==3\n",
    "    two1=value1.count(value1[1])==2 or value1.count(value1[3])==2\n",
    "    two2=value2.count(value2[1])==2 or value2.count(value2[3])==2\n",
    "    fh1=three1 and two1\n",
    "    fh2=three2 and two2\n",
    "    stt1=value1 in stt\n",
    "    stt2=value2 in stt\n",
    "    fs1=flush1 and stt1\n",
    "    fs2=flush2 and stt2\n",
    "    if fs1 and not fs2:\n",
    "        return 1\n",
    "    if fs2 and not fs1:\n",
    "        return 0\n",
    "    if fs1 and fs2:\n",
    "        rank1=stt.index(value1)\n",
    "        rank2=stt.index(value2)\n",
    "        if rank1>rank2:\n",
    "            return 1\n",
    "        return 0\n",
    "    if four1 and not four2:\n",
    "        return 1\n",
    "    if four2 and not four1:\n",
    "        return 0\n",
    "    if four1 and four2:\n",
    "        rank1=value1[2]\n",
    "        rank2=value2[2]\n",
    "        if rank1>rank2:\n",
    "            return 1\n",
    "        if rank1<rank2:\n",
    "            return 0\n",
    "        if value1[0]!=value1[2]:\n",
    "            s1=value1[0]\n",
    "        else:\n",
    "            s1=value1[4]\n",
    "        if value2[0]!=value2[2]:\n",
    "            s2=value2[0]\n",
    "        else:\n",
    "            s2=value2[4]\n",
    "        if s1>s2:\n",
    "            return 1\n",
    "        return 0\n",
    "    if fh1 and not fh2:\n",
    "        return 1\n",
    "    if fh2 and not fh1:\n",
    "        return 0\n",
    "    if fh1 and fh2:\n",
    "    print(value1)\n",
    "    print(value2)\n",
    "    print(hand1)\n",
    "    print(hand2)\n",
    "for hand in hands:\n",
    "    test(hand)"
   ]
  },
  {
   "cell_type": "code",
   "execution_count": null,
   "metadata": {
    "vscode": {
     "languageId": "sage"
    }
   },
   "outputs": [],
   "source": [
    "from collections import Counter\n",
    "\n",
    "RANKS = {**{str(i): i for i in range(2, 10)},\n",
    "         'T': 10, 'J': 11, 'Q': 12, 'K': 13, 'A': 14}\n",
    "\n",
    "def hand_rank(hand):\n",
    "    ranks = sorted((RANKS[c[0]] for c in hand), reverse=True)\n",
    "    suits = [c[1] for c in hand]\n",
    "    counter = Counter(ranks)\n",
    "\n",
    "    is_flush = len(set(suits)) == 1\n",
    "    is_straight = max(ranks) - min(ranks) == 4 and len(counter) == 5\n",
    "    # Ace-low straight special case\n",
    "    if set(ranks) == {14, 5, 4, 3, 2}:\n",
    "        is_straight = True\n",
    "        ranks = [5, 4, 3, 2, 1]   # treat as 5-high straight\n",
    "\n",
    "    # groups sorted by (count, rank) — useful for pair/trips/quads\n",
    "    groups = sorted(counter.items(), key=lambda x: (x[1], x[0]), reverse=True)\n",
    "    ordered_ranks = [r for r, c in groups for _ in range(c)]\n",
    "\n",
    "    # Hand categories\n",
    "    if is_straight and is_flush:\n",
    "        return (8, [max(ranks)])               # straight flush\n",
    "    if groups[0][1] == 4:\n",
    "        return (7, [groups[0][0], groups[1][0]])  # four of a kind\n",
    "    if groups[0][1] == 3 and groups[1][1] == 2:\n",
    "        return (6, [groups[0][0], groups[1][0]])  # full house\n",
    "    if is_flush:\n",
    "        return (5, ranks)                      # flush: compare all ranks\n",
    "    if is_straight:\n",
    "        return (4, [max(ranks)])               # straight\n",
    "    if groups[0][1] == 3:\n",
    "        return (3, [groups[0][0]] + ordered_ranks)  # three of a kind\n",
    "    if groups[0][1] == 2 and groups[1][1] == 2:\n",
    "        return (2, [groups[0][0], groups[1][0], groups[2][0]]) # two pair\n",
    "    if groups[0][1] == 2:\n",
    "        return (1, [groups[0][0]] + ordered_ranks)  # one pair\n",
    "    return (0, ranks)                          # high card\n",
    "def test(hands:list):\n",
    "    hand1=hands[:5]\n",
    "    hand2=hands[5:]\n",
    "    if hand_rank(hand1)>hand_rank(hand2):\n",
    "        return 1\n",
    "    return 0\n",
    "results=[test(hand) for hand in hands]\n",
    "print(sum(results))"
   ]
  },
  {
   "cell_type": "code",
   "execution_count": 24,
   "metadata": {
    "vscode": {
     "languageId": "sage"
    }
   },
   "outputs": [
    {
     "name": "stdout",
     "output_type": "stream",
     "text": [
      "376\n"
     ]
    }
   ],
   "source": [
    "RANKS={**{str(i):i for i in range(2,10)},'T':10,'J':11,'Q':12,'K':13,'A':14}\n",
    "def hand_rank(hand:list):\n",
    "    ranks=[RANKS[card[0]] for card in hand]\n",
    "    suits=[card[1] for card in hand]\n",
    "    ranks.sort()\n",
    "    counter=dict(Counter(ranks))\n",
    "    flush=len(set(suits))==1\n",
    "    stt=max(ranks)-min(ranks)==4 and len(set(ranks))==5\n",
    "    four=counter[ranks[2]]==4\n",
    "    three=counter[ranks[2]]==3\n",
    "    two=counter[ranks[1]]==2 or counter[ranks[3]]==2\n",
    "    full_house=three and two\n",
    "    two_pairs=counter[ranks[1]]==2 and counter[ranks[3]]==2\n",
    "    if flush and stt:\n",
    "        return (8,[max(ranks)])\n",
    "    if four:\n",
    "        return (7,[ranks[2]])\n",
    "    if full_house:\n",
    "        return (6,[ranks[2]])\n",
    "    if flush:\n",
    "        return (5,ranks[::-1])\n",
    "    if stt:\n",
    "        return (4,[ranks[0]])\n",
    "    if three:\n",
    "        return (3,[ranks[2]])\n",
    "    if two_pairs:\n",
    "        if counter[ranks[0]]==1:\n",
    "            kicker=0\n",
    "        elif counter[ranks[2]]==1:\n",
    "            kicker=2\n",
    "        else:\n",
    "            kicker=4\n",
    "        return (2,[ranks[3],ranks[1],ranks[kicker]])\n",
    "    if two:\n",
    "        if counter[ranks[1]]==2:\n",
    "            pos=1\n",
    "        else:\n",
    "            pos=3\n",
    "        singles=[(counter[n]==1)*n for n in ranks]\n",
    "        singles.sort()\n",
    "        for _ in range(2):\n",
    "            singles.remove(0)\n",
    "        return (1,[ranks[pos]]+singles[::-1]) # determine pair position\n",
    "    return (0,ranks[::-1])\n",
    "def test(hands:list):\n",
    "    hand1=hands[:5]\n",
    "    hand2=hands[5:]\n",
    "    if hand_rank(hand1)>hand_rank(hand2):\n",
    "        return 1\n",
    "    return 0\n",
    "results=[test(hand) for hand in hands]\n",
    "print(sum(results))"
   ]
  },
  {
   "cell_type": "markdown",
   "metadata": {},
   "source": [
    "## PE 55"
   ]
  },
  {
   "cell_type": "code",
   "execution_count": null,
   "metadata": {
    "vscode": {
     "languageId": "sage"
    }
   },
   "outputs": [],
   "source": [
    "#55 Lychrel Numbers\n",
    "MAX_ITERATIONS = 50\n",
    "def isPalindrome(number): \n",
    "\treturn number == reverse(number)\n",
    "def reverse(number): \n",
    "\treverse = 0; \n",
    "\twhile (number > 0): \n",
    "\t\tremainder = number % 10\n",
    "\t\treverse = (reverse * 10) + remainder\n",
    "\t\tnumber = int(number / 10)\n",
    "\treturn reverse\n",
    "def isLychrel(number):\n",
    "\tfor i in range(MAX_ITERATIONS): \n",
    "\t\tnumber+=reverse(number)\n",
    "\t\tif (isPalindrome(number)): \n",
    "\t\t\treturn False\n",
    "\treturn True\n",
    "num_lyc=0\n",
    "for i in range(1, 10000):\n",
    "\tif isLychrel(i)==True:\n",
    "\t\tnum_lyc+=1\n",
    "num_lyc"
   ]
  },
  {
   "cell_type": "markdown",
   "metadata": {},
   "source": [
    "## PE 56"
   ]
  },
  {
   "cell_type": "code",
   "execution_count": null,
   "metadata": {
    "vscode": {
     "languageId": "sage"
    }
   },
   "outputs": [],
   "source": [
    "#56 Powerful Digit Sum\n",
    "sum_num=0\n",
    "for i in range(1, 100):\n",
    "    for j in range(1, 100):\n",
    "        current_sum=0\n",
    "        power=i**j\n",
    "        list_power=list(map(int, str(power)))\n",
    "        for digit in list_power:\n",
    "            current_sum+=digit\n",
    "        if current_sum>sum_num:\n",
    "            sum_num=current_sum\n",
    "sum_num"
   ]
  },
  {
   "cell_type": "markdown",
   "metadata": {},
   "source": [
    "## PE 57"
   ]
  },
  {
   "cell_type": "code",
   "execution_count": null,
   "metadata": {
    "vscode": {
     "languageId": "sage"
    }
   },
   "outputs": [],
   "source": [
    "# 57 Square Root Convergents\n",
    "def convergent_square_root2(term):\n",
    "    numerator=3\n",
    "    denominator=2\n",
    "    for _ in range(term-1):\n",
    "        denominator1=numerator+denominator\n",
    "        numerator=denominator+denominator1\n",
    "        denominator=denominator1\n",
    "    return [numerator,denominator]\n",
    "\n",
    "def solve():\n",
    "    ans=0\n",
    "    for i in range(1,1001):\n",
    "        fraction=convergent_square_root2(i)\n",
    "        n=list(map(int,str(fraction[0])))\n",
    "        d=list(map(int,str(fraction[1]))) #separates number's digits into list\n",
    "        if len(n)>len(d):\n",
    "            ans+=1\n",
    "    return ans\n",
    "\n",
    "solve()"
   ]
  },
  {
   "cell_type": "markdown",
   "metadata": {},
   "source": [
    "## PE 58"
   ]
  },
  {
   "cell_type": "code",
   "execution_count": null,
   "metadata": {
    "vscode": {
     "languageId": "sage"
    }
   },
   "outputs": [],
   "source": [
    "# 58 Spiral Primes\n",
    "# find quicker solution\n",
    "from gmpy2 import is_prime\n",
    "diagonal=[1]\n",
    "n=1\n",
    "x=2\n",
    "spiral_percentage=100\n",
    "for i in range(5000000):\n",
    "    print(spiral_percentage)\n",
    "    for i in range(4):\n",
    "        n+=x\n",
    "        diagonal.append(n)\n",
    "while spiral_percentage>=10:\n",
    "    print(spiral_percentage)\n",
    "    for i in range(4):\n",
    "        n+=x\n",
    "        diagonal.append(n)\n",
    "    primes=0\n",
    "    for num in diagonal:\n",
    "        if is_prime(num):\n",
    "            primes+=1\n",
    "    spiral_percentage=100*primes/len(diagonal)\n",
    "n"
   ]
  },
  {
   "cell_type": "markdown",
   "metadata": {},
   "source": [
    "## PE 62"
   ]
  },
  {
   "cell_type": "code",
   "execution_count": null,
   "metadata": {
    "vscode": {
     "languageId": "sage"
    }
   },
   "outputs": [],
   "source": [
    "#62 \n",
    "import time\n",
    "start = time.time()\n",
    "cubes = []\n",
    "i = 0\n",
    "while True:\n",
    "    cube = sorted(list(str(i**3)))\n",
    "    cubes.append(cube)\n",
    "    if cubes.count(cube) == 5:\n",
    "        print((cubes.index(cube))**3)\n",
    "        break\n",
    "    i += 1\n",
    "end = time.time()\n",
    "print(end - start)"
   ]
  },
  {
   "cell_type": "markdown",
   "metadata": {},
   "source": [
    "## PE 63"
   ]
  },
  {
   "cell_type": "code",
   "execution_count": null,
   "metadata": {
    "vscode": {
     "languageId": "sage"
    }
   },
   "outputs": [],
   "source": [
    "# 63 Powerful Digit Counts\n",
    "num=0\n",
    "for i in range(1,10):\n",
    "    for j in range(1,22):\n",
    "        if length(i**j)==j:\n",
    "            num+=1\n",
    "num"
   ]
  },
  {
   "cell_type": "markdown",
   "metadata": {},
   "source": [
    "## PE 65"
   ]
  },
  {
   "cell_type": "code",
   "execution_count": null,
   "metadata": {
    "vscode": {
     "languageId": "sage"
    }
   },
   "outputs": [],
   "source": [
    "#65 Convergents of e\n",
    "def solve(N):\n",
    "    n=2\n",
    "    prev_n=1\n",
    "    fract=1\n",
    "    for k in range(2, N+1):\n",
    "        temp=prev_n\n",
    "        if (k % 3 == 0):\n",
    "            fract=2*int(k/3)\n",
    "        else:\n",
    "            fract=1\n",
    "        prev_n=n\n",
    "        n=fract * prev_n + temp\n",
    "    sum = digit_sum(n)\n",
    "    return sum\n",
    "def digit_sum(num):\n",
    "    sum = 0\n",
    "    while num > 0:\n",
    "        sum = sum + (num % 10)\n",
    "        num = num // 10\n",
    "    return sum\n",
    "#cal\n",
    "solve(100)"
   ]
  },
  {
   "cell_type": "code",
   "execution_count": null,
   "metadata": {
    "vscode": {
     "languageId": "sage"
    }
   },
   "outputs": [],
   "source": [
    "(* 65 Convergents of e *)"
   ]
  },
  {
   "cell_type": "markdown",
   "metadata": {},
   "source": [
    "## PE 66\n",
    "\n",
    "see https://en.wikipedia.org/wiki/Pell%27s_equation"
   ]
  },
  {
   "cell_type": "code",
   "execution_count": null,
   "metadata": {
    "vscode": {
     "languageId": "sage"
    }
   },
   "outputs": [],
   "source": [
    "#66 Diophantine Equation, "
   ]
  },
  {
   "cell_type": "markdown",
   "metadata": {},
   "source": [
    "## PE 69"
   ]
  },
  {
   "cell_type": "code",
   "execution_count": null,
   "metadata": {
    "vscode": {
     "languageId": "sage"
    }
   },
   "outputs": [],
   "source": [
    "#69 Totient Maximum\n",
    "def factors(n):\n",
    "    intnum=int(n**1/2)+1\n",
    "    num=[]\n",
    "    for i in range(1, intnum):\n",
    "        if n%i==0:\n",
    "            num.append(i)\n",
    "    for number in num:\n",
    "        if n/number not in num:\n",
    "            num.append(n/number)\n",
    "    return num\n",
    "def prime1(n):\n",
    "    if len(factors(n))==2:\n",
    "        return True\n",
    "    return False\n",
    "def smaller(mt, n):\n",
    "    if m<n:\n",
    "        return m\n",
    "    elif m>n:\n",
    "        return n\n",
    "    else:\n",
    "        return 'same'\n",
    "def bcf(m, n):\n",
    "    fac=factors(m)\n",
    "    fac1=factors(n)\n",
    "    facs=fac+fac1\n",
    "    facs.sort()\n",
    "    facs.reverse()\n",
    "    for factor in facs:\n",
    "        if factor in fac and factor in fac1:\n",
    "            return factor\n",
    "def coprime(m, n):\n",
    "    if m==1 or n==1:\n",
    "        return False\n",
    "    if prime(m)==True or prime(n)==True:\n",
    "        return True\n",
    "    if bcf(m, n)==1:\n",
    "        return True\n",
    "    else:\n",
    "        return False\n",
    "def phi(n):\n",
    "    num=1\n",
    "    for i in range(2, n):\n",
    "        if coprime(i, n)==True:\n",
    "            num+=1\n",
    "    return num\n",
    "def totient(n):\n",
    "    big=0\n",
    "    for i in range(2, n):\n",
    "        num=i/phi(i)\n",
    "        print(i)\n",
    "        if num>big:\n",
    "            big=num\n",
    "    return big\n",
    "totient(50)"
   ]
  },
  {
   "cell_type": "code",
   "execution_count": null,
   "metadata": {
    "vscode": {
     "languageId": "sage"
    }
   },
   "outputs": [],
   "source": [
    "#69 FP   欧拉函数Euler's Totient Function\n",
    "from sympy import totient\n",
    "\n",
    "seq = [n / totient(n) for n in range(1, 1000000)] # Generate the sequence using the totient function\n",
    "max_value    = max(seq)\n",
    "max_position = [i + 1 for i, value in enumerate(seq) if value == max_value]\n",
    "max_position"
   ]
  },
  {
   "cell_type": "code",
   "execution_count": null,
   "metadata": {
    "vscode": {
     "languageId": "sage"
    }
   },
   "outputs": [],
   "source": [
    "(* 69 Totient Maximum, also called \\phi function*)\n",
    "(* seq = Table[ n/Length[Select[Range[n], CoprimeQ[#, n] == True &]]\n",
    "             , {n, 10}] ;   pretty slow  *)\n",
    "seq = Table[ n/EulerPhi[n] , {n, 1000000} ];\n",
    "Position[seq, Max[seq]]\n",
    "Max[seq]"
   ]
  },
  {
   "cell_type": "markdown",
   "metadata": {},
   "source": [
    "## PE 71"
   ]
  },
  {
   "cell_type": "code",
   "execution_count": null,
   "metadata": {
    "vscode": {
     "languageId": "sage"
    }
   },
   "outputs": [],
   "source": [
    "#71 Ordered Fractions \n",
    "from math import floor\n",
    "target = 3/7\n",
    "\n",
    "pairs = [( floor(deno*target) , deno ) for deno in range(2, 1000000)]\n",
    "\n",
    "fracs = [( n, deno ) for n, deno in pairs if (n/deno)<target]  # Filter fractions < target\n",
    "\n",
    "maxFrac = max(fracs, key=lambda frac: frac[0]/frac[1] )\n",
    "maxFrac"
   ]
  },
  {
   "cell_type": "code",
   "execution_count": null,
   "metadata": {
    "vscode": {
     "languageId": "sage"
    }
   },
   "outputs": [],
   "source": [
    "(* 71 Ordered Fractions \n",
    "    Table[] gen [{numerator}, {denominator}]\n",
    "    Floor[] gen greatest integer <= d*target\n",
    "    Select[] and MaximalBy[], both are [list + function]\n",
    "    [[2]] the 2nd item, #[[2]] the 2nd input of the function \n",
    "    *)\n",
    "target = 3/7;\n",
    "MaximalBy[Select[  Table[ {Floor[d*target], d}, {d, 2, 1000000} ], \n",
    "                          #[[1]]/#[[2]] < target & ], \n",
    "         #[[1]]/#[[2]] & ]"
   ]
  },
  {
   "cell_type": "markdown",
   "metadata": {},
   "source": [
    "## PE 74"
   ]
  },
  {
   "cell_type": "code",
   "execution_count": null,
   "metadata": {
    "vscode": {
     "languageId": "sage"
    }
   },
   "outputs": [],
   "source": [
    "#74 Factorial Chains\n",
    "def fact(n):\n",
    "    if n==0 or n==1:\n",
    "        return 1\n",
    "    elif n<0:\n",
    "        raise ValueError\n",
    "    else:\n",
    "        return n*fact(n-1)\n",
    "    \n",
    "factorials={i:fact(i) for i in range(10)}\n",
    "\n",
    "num=0\n",
    "for i in range(1,1000000):\n",
    "    n=i\n",
    "    lst=[]\n",
    "    while n not in lst:\n",
    "        lst.append(n)\n",
    "        n=list(map(int,str(n)))\n",
    "        n1=0\n",
    "        for j in n:\n",
    "            n1+=factorials[j]\n",
    "        n=n1\n",
    "    if len(lst)==60:\n",
    "        num+=1\n",
    "print(num)"
   ]
  },
  {
   "cell_type": "markdown",
   "metadata": {},
   "source": [
    "## PE 75"
   ]
  },
  {
   "cell_type": "code",
   "execution_count": null,
   "metadata": {
    "vscode": {
     "languageId": "sage"
    }
   },
   "outputs": [],
   "source": [
    "#75 Singular Integer Right Triangles\n",
    "def sumPythagoreanTriplets(limits): \n",
    "\ta, b, c, m = 0, 0, 0, 2\n",
    "\tnum=[]\n",
    "\tnums=[]\n",
    "\tfor i in range(1,1000):\n",
    "\t\tnum.append(i)\n",
    "\td=a+b+c\n",
    "\twhile d<limits : \n",
    "\t\tfor n in range(1, m):\n",
    "\t\t\ta=m*m-n*n \n",
    "\t\t\tb=2*m*n \n",
    "\t\t\tc=m*m+n*n\n",
    "\t\t\td=a+b+c\n",
    "\t\t\tif d>limits: \n",
    "\t\t\t\tbreak\n",
    "\t\t\tprint('Sum of triplet :', d)\n",
    "\t\t\tnums.append(d)\n",
    "\t\t\tif d==1000:\n",
    "\t\t\t\tprint('Special')\n",
    "\t\tm+=1\n",
    "\treturn nums\n",
    "sumPythagoreanTriplets(150)"
   ]
  },
  {
   "cell_type": "markdown",
   "metadata": {},
   "source": [
    "## PE 79"
   ]
  },
  {
   "cell_type": "code",
   "execution_count": null,
   "metadata": {
    "vscode": {
     "languageId": "sage"
    }
   },
   "outputs": [],
   "source": [
    "#79 Passcode Derivation\n",
    "73162890"
   ]
  },
  {
   "cell_type": "markdown",
   "metadata": {},
   "source": [
    "## PE 80"
   ]
  },
  {
   "cell_type": "code",
   "execution_count": null,
   "metadata": {
    "vscode": {
     "languageId": "sage"
    }
   },
   "outputs": [],
   "source": [
    "#80 Square Root Digital Expansion\n",
    "from re import findall\n",
    "from math import sqrt\n",
    "num=list(range(2,100))\n",
    "num1=[]\n",
    "num.remove(4)\n",
    "num.remove(9)\n",
    "num.remove(16)\n",
    "num.remove(25)\n",
    "num.remove(36)\n",
    "num.remove(49)\n",
    "num.remove(64)\n",
    "num.remove(81)\n",
    "for i in range(len(num)):\n",
    "    num[i]=sqrt(num[i])\n",
    "for j in range(len(num)):\n",
    "    num2=num[j]*(10**99)\n",
    "    num.remove(num[j])\n",
    "    num2=int(num2)\n",
    "    num.append(num2)\n",
    "for number1 in num:\n",
    "    dec = list(map(int, findall('\\d', str(number1))))\n",
    "    num1.append(dec)\n",
    "sum_digit=0\n",
    "for list_num in num1:\n",
    "    for number2 in list_num:\n",
    "        sum_digit+=number2\n",
    "print(num1)\n",
    "print(sum_digit)"
   ]
  },
  {
   "cell_type": "code",
   "execution_count": null,
   "metadata": {
    "vscode": {
     "languageId": "sage"
    }
   },
   "outputs": [],
   "source": [
    "(* 80 Square Root Digital Expansion*)\n",
    "numberDigits = RealDigits[Sqrt[2], 10, 100][[1]]\n",
    "lst=Complement[Range[1, 99], Table[n^2, {n, 1, Floor[Sqrt[99]]}]];\n",
    "totalNumberDigits=Table[RealDigits[Sqrt[i], 10, 100][[1]],{i,lst}];\n",
    "lst1={{1,2,3,4,5},{6,7,8,9,10}};\n",
    "Total[Total[lst1]]\n",
    "Total[Total[totalNumberDigits]]\n",
    "(* learn 3 functions:\n",
    "    RealDigits[] give a list of len digit\n",
    "    Complement[] after excluding the subsequent lists, the complement from the first list \n",
    "    Total[] *)"
   ]
  },
  {
   "cell_type": "markdown",
   "metadata": {},
   "source": [
    "## PE 92"
   ]
  },
  {
   "cell_type": "code",
   "execution_count": null,
   "metadata": {
    "vscode": {
     "languageId": "sage"
    }
   },
   "outputs": [],
   "source": [
    "#92 Square Digit Chains\n",
    "def chain(n):\n",
    "    while n!=1 and n!=89:\n",
    "        num=list(map(int, str(n)))\n",
    "        squared=0\n",
    "        for digit in num:\n",
    "            squared+=digit**2\n",
    "        n=squared\n",
    "    return n\n",
    "num_89=0\n",
    "for i in range(1, 10000000):\n",
    "    if chain(i)==89:\n",
    "        num_89+=1\n",
    "    if i%50000==0:\n",
    "        print(i)\n",
    "num_89"
   ]
  },
  {
   "cell_type": "markdown",
   "metadata": {},
   "source": [
    "## PE 99"
   ]
  },
  {
   "cell_type": "code",
   "execution_count": null,
   "metadata": {
    "vscode": {
     "languageId": "sage"
    }
   },
   "outputs": [],
   "source": [
    "# 99 Largest Exponential\n",
    "import sys\n",
    "import requests\n",
    "# sys.set_int_max_str_digits(4000000)\n",
    "response = requests.get(\"https://projecteuler.net/resources/documents/0099_base_exp.txt\")\n",
    "content = response.text     # Read the content of the response\n",
    "# Split the data into lines\n",
    "lines = content.strip().split(\"\\n\")\n",
    "\n",
    "column1 = []\n",
    "column2 = []\n",
    "\n",
    "for line in lines:\n",
    "    # Split the line by the comma and convert to integers\n",
    "    num1, num2 = map(int, line.split(\",\"))\n",
    "    # Append the numbers to the respective lists\n",
    "    column1.append(num1)\n",
    "    column2.append(num2)\n",
    "\n",
    "record=[1,1,0]\n",
    "\n",
    "for i in range(1000):\n",
    "    if np.log(record[0])*record[1]<np.log(column1[i])*column2[i]:\n",
    "        record[0]=column1[i]\n",
    "        record[1]=column2[i]\n",
    "        record[2]=i+1\n",
    "record[2]"
   ]
  },
  {
   "cell_type": "code",
   "execution_count": null,
   "metadata": {
    "vscode": {
     "languageId": "sage"
    }
   },
   "outputs": [],
   "source": [
    "(* 99 Largest Exponential\n",
    "   [[2]] denotes the 2nd item in {{1,2},{1,2}} *)\n",
    "data = Import[\"https://projecteuler.net/resources/documents/0099_base_exp.txt\", \"CSV\"];\n",
    "new = Map[#[[2]] * Log[#[[1]]] &, data];\n",
    "Position[new, Max[new]]"
   ]
  },
  {
   "cell_type": "code",
   "execution_count": null,
   "metadata": {
    "vscode": {
     "languageId": "sage"
    }
   },
   "outputs": [],
   "source": [
    "881418**505504>960290**502358"
   ]
  },
  {
   "cell_type": "markdown",
   "metadata": {},
   "source": [
    "## PE 104"
   ]
  },
  {
   "cell_type": "code",
   "execution_count": null,
   "metadata": {
    "vscode": {
     "languageId": "sage"
    }
   },
   "outputs": [],
   "source": [
    "# 104 Pandigital Fibonacci Ends\n",
    "# find quicker solution\n",
    "import sys\n",
    "sys.set_int_max_str_digits(1000000)\n",
    "def fib_pandigital_front(n):\n",
    "    fib=list(map(int,str(fastFib(n))))\n",
    "    fib=fib[:9]\n",
    "    fib.sort()\n",
    "    if fib==[1,2,3,4,5,6,7,8,9]:\n",
    "        return True\n",
    "    return False\n",
    "\n",
    "def fib_pandigital_back(n):\n",
    "    fib=list(map(int,str(fastFib(n))))\n",
    "    fib=fib[-9:]\n",
    "    fib.sort()\n",
    "    if fib==[1,2,3,4,5,6,7,8,9]:\n",
    "        return True\n",
    "    return False\n",
    "\n",
    "n=89000\n",
    "while True:\n",
    "    print(n)\n",
    "    if fib_pandigital_back(n) and fib_pandigital_front(n):\n",
    "        print(n)\n",
    "        KeyboardInterrupt()\n",
    "    n+=1"
   ]
  },
  {
   "cell_type": "code",
   "execution_count": null,
   "metadata": {
    "vscode": {
     "languageId": "sage"
    }
   },
   "outputs": [],
   "source": [
    "#112 Bouncy Numbers\n",
    "from time import time\n",
    "start=time()\n",
    "def listint(num):\n",
    "    integer=''\n",
    "    for number in num:\n",
    "        integer=integer+str(number)\n",
    "    return int(integer)\n",
    "def bouncy(n):\n",
    "    input=list(map(int, str(n)))\n",
    "    output=input[:]\n",
    "    output.sort()\n",
    "    if input==output:\n",
    "        return False\n",
    "    output.reverse()\n",
    "    if input==output:\n",
    "        return False\n",
    "    return True\n",
    "def bouncy_percentage(n):\n",
    "    sum_bouncy=0\n",
    "    for i in range(1, n+1):\n",
    "        if bouncy(i)==True:\n",
    "            sum_bouncy+=1\n",
    "    ratio=sum_bouncy/n\n",
    "    return ratio*100\n",
    "print(bouncy_percentage(1587000))\n",
    "end=time()\n",
    "print(end-start)\n",
    "# ans - 1587000"
   ]
  },
  {
   "cell_type": "code",
   "execution_count": null,
   "metadata": {
    "vscode": {
     "languageId": "sage"
    }
   },
   "outputs": [],
   "source": [
    "(* 121 Disc Game Prize Fund \n",
    "    Person will have to pull out blue >=8 times*)\n",
    "ncr[n_,r_]:=n!/(r!*(n-r)!) (*n choose r combinatorics function*)\n",
    "blueChance[blues_]:=\n",
    "lst=Table[blueChance[n]*ncr[15,n],{n,8,15}]\n",
    "n=Floor[1/(Total[lst]/2^15)]"
   ]
  },
  {
   "cell_type": "code",
   "execution_count": null,
   "metadata": {
    "vscode": {
     "languageId": "sage"
    }
   },
   "outputs": [],
   "source": [
    "# 124 Ordered Radicals\n",
    "# find quicker solution\n",
    "def prime_factors(n):\n",
    "    factors=[]\n",
    "    for i in range(2,n):\n",
    "        if prime(i) and n%i==0:\n",
    "            factors.append(i)\n",
    "    return factors\n",
    "\n",
    "def rad(n):\n",
    "    if n==1 or prime(n):\n",
    "        return n\n",
    "    fac=prime_factors(n)\n",
    "    ans=fac[0]\n",
    "    for i in range(1,len(fac)):\n",
    "        ans*=fac[i]\n",
    "    return ans\n",
    "\n",
    "for i in range(2,3000):\n",
    "    rad(i)"
   ]
  },
  {
   "cell_type": "code",
   "execution_count": null,
   "metadata": {
    "vscode": {
     "languageId": "sage"
    }
   },
   "outputs": [],
   "source": [
    "(* 125 Palindromic Sums *)\n",
    "(* add Boole[] to count number of times when <10^8 *)\n",
    "(* learnt functions:\n",
    "    Accumulate[]\n",
    "    AnyTrue[{},test] true if any input passes the test\n",
    "    MemberQ[{},___] true if any element in list is ___\n",
    "    Module[]??? *)\n",
    "isSumOfConsecutiveSquares[n_Integer] := \n",
    " Module[{maxK, sumsOfSquares},\n",
    "  maxK = Floor[Sqrt[n]];\n",
    "\n",
    "  (* Generate cumulative sums of consecutive squares starting from each k *)\n",
    "  sumsOfSquares = Table[\n",
    "    Accumulate[Table[(k + i)^2, {i, 0, maxK - k}]],\n",
    "    {k, 1, maxK}\n",
    "  ];\n",
    "\n",
    "  (* Check if any sum sequence contains n with more than one term *)\n",
    "  AnyTrue[sumsOfSquares, MemberQ[#, n] && Length[#] > 1 &]\n",
    "]\n",
    "\n",
    "isSumSquaresPalindromic[n_Integer]:=isSumOfConsecutiveSquares[n]&&PalindromeQ[n]\n",
    "lst=Table[isSumSquaresPalindromic[n],{n,2,9999}];\n",
    "Count[lst,True]"
   ]
  },
  {
   "cell_type": "code",
   "execution_count": null,
   "metadata": {
    "vscode": {
     "languageId": "sage"
    }
   },
   "outputs": [],
   "source": [
    "(* 162 Hexadecimal Numbers *)\n",
    "lst=Table[(n-1)*Factorial[n-1]/Factorial[n-3]*(14^(n-3)),{n,3,16}];\n",
    "lst1=Table[(n-1)*Factorial[n-1]/Factorial[n-3]*(16^(n-3)),{n,3,16}];\n",
    "n=(Total[lst1]-Total[lst])/2;\n",
    "n=\n",
    "BaseForm[Total[lst]+n,16]"
   ]
  },
  {
   "cell_type": "code",
   "execution_count": null,
   "metadata": {
    "vscode": {
     "languageId": "sage"
    }
   },
   "outputs": [],
   "source": [
    "# 179\n",
    "def len_factors(n):\n",
    "    return len(factors(n))\n",
    "num=1\n",
    "for i in range(3, 10000000):\n",
    "    if prime(i)==True or prime(i+1)==True:\n",
    "        pass\n",
    "    else:\n",
    "        if len_factors(i)==len_factors(i+1):\n",
    "            num+=1\n",
    "        if i%10000==0:\n",
    "            print(i)\n",
    "num"
   ]
  },
  {
   "cell_type": "markdown",
   "metadata": {},
   "source": [
    "## PE 187"
   ]
  },
  {
   "cell_type": "code",
   "execution_count": null,
   "metadata": {
    "vscode": {
     "languageId": "sage"
    }
   },
   "outputs": [],
   "source": [
    "#187 FP way\n",
    "from sympy import factorint\n",
    "limit = 999999\n",
    "count_two_prime_factors = sum(1 for n in range(3, limit ) if len(factorint(n)) == 2)\n",
    "count_two_prime_factors"
   ]
  },
  {
   "cell_type": "code",
   "execution_count": null,
   "metadata": {
    "vscode": {
     "languageId": "sage"
    }
   },
   "outputs": [],
   "source": [
    "(* 187 Semiprimes \n",
    "    Q: the code takes 11min, faster??? *)\n",
    "Total[Table[ \n",
    "            Boole[ Total[FactorInteger[n]][[2]] == 2 ]\n",
    "            , {n,3,99999999} ] \n",
    "    ]"
   ]
  },
  {
   "cell_type": "code",
   "execution_count": null,
   "metadata": {
    "vscode": {
     "languageId": "sage"
    }
   },
   "outputs": [],
   "source": [
    "(* speed up but wrong answer ?? - add {{_,2}} *)\n",
    "(* takes >11 min??? *)\n",
    "Count[ FactorInteger /@ Range[3, 10^8-1] \n",
    "      ,{{_, 1},{_, 1}} | {{_,2}}\n",
    "      ]"
   ]
  },
  {
   "cell_type": "code",
   "execution_count": null,
   "metadata": {
    "vscode": {
     "languageId": "sage"
    }
   },
   "outputs": [],
   "source": [
    "lst=Table[ \n",
    "    Boole[ Length[ FactorInteger[n] ]==2 ],\n",
    "    {n,3,30}]"
   ]
  },
  {
   "cell_type": "code",
   "execution_count": null,
   "metadata": {
    "vscode": {
     "languageId": "sage"
    }
   },
   "outputs": [],
   "source": [
    "lst={{2,5},{3,1}};\n",
    "Total[lst][[2]]"
   ]
  },
  {
   "cell_type": "markdown",
   "metadata": {},
   "source": [
    "## PE 188"
   ]
  },
  {
   "cell_type": "code",
   "execution_count": null,
   "metadata": {
    "vscode": {
     "languageId": "sage"
    }
   },
   "outputs": [],
   "source": [
    "7**7"
   ]
  },
  {
   "cell_type": "code",
   "execution_count": null,
   "metadata": {
    "vscode": {
     "languageId": "sage"
    }
   },
   "outputs": [],
   "source": [
    "n=7\n",
    "n=7**n % 1000000000\n",
    "print(n)"
   ]
  },
  {
   "cell_type": "code",
   "execution_count": null,
   "metadata": {
    "vscode": {
     "languageId": "sage"
    }
   },
   "outputs": [],
   "source": [
    "m=8123674\n",
    "n=1798\n",
    "math.floor(m/n)\n"
   ]
  },
  {
   "cell_type": "code",
   "execution_count": null,
   "metadata": {
    "vscode": {
     "languageId": "sage"
    }
   },
   "outputs": [],
   "source": [
    "n=1777;\n",
    "For[i=0,i<1856,i++,n=Mod[1777^n,10000000]]\n",
    "n"
   ]
  },
  {
   "cell_type": "code",
   "execution_count": null,
   "metadata": {
    "vscode": {
     "languageId": "sage"
    }
   },
   "outputs": [],
   "source": [
    "62097"
   ]
  },
  {
   "cell_type": "code",
   "execution_count": null,
   "metadata": {
    "vscode": {
     "languageId": "sage"
    }
   },
   "outputs": [],
   "source": [
    "Mod[1777^1777,100000000]"
   ]
  },
  {
   "cell_type": "code",
   "execution_count": null,
   "metadata": {
    "vscode": {
     "languageId": "sage"
    }
   },
   "outputs": [],
   "source": [
    "00001777,87955697,70132343,33172343,65172343,5172343"
   ]
  },
  {
   "cell_type": "code",
   "execution_count": null,
   "metadata": {
    "vscode": {
     "languageId": "sage"
    }
   },
   "outputs": [],
   "source": [
    "# 243 Resilience\n",
    "def resilient(n:int):\n",
    "    res=1\n",
    "    for i in range(2,n):\n",
    "        if coprime(i,n):\n",
    "            res+=1\n",
    "    return res/n\n",
    "\n",
    "def solve():\n",
    "    n=24\n",
    "    while resilient(n)>(0.2):\n",
    "        print(n)\n",
    "        n+=1\n",
    "    return n\n",
    "\n",
    "solve()"
   ]
  },
  {
   "cell_type": "code",
   "execution_count": null,
   "metadata": {
    "vscode": {
     "languageId": "sage"
    }
   },
   "outputs": [],
   "source": [
    "(* 345 *)\n",
    "matrix = {\n",
    "  {7, 53, 183, 439, 863, 497, 383, 563, 79, 973, 287, 63, 343, 169, 583},\n",
    "  {627, 343, 773, 959, 943, 767, 473, 103, 699, 303, 957, 703, 583, 639, 913},\n",
    "  {447, 283, 463, 29, 23, 487, 463, 993, 119, 883, 327, 493, 423, 159, 743},\n",
    "  {217, 623, 3, 399, 853, 407, 103, 983, 89, 463, 290, 516, 212, 462, 350},\n",
    "  {960, 376, 682, 962, 300, 780, 486, 502, 912, 800, 250, 346, 172, 812, 350},\n",
    "  {870, 456, 192, 162, 593, 473, 915, 45, 989, 873, 823, 965, 425, 329, 803},\n",
    "  {973, 965, 905, 919, 133, 673, 665, 235, 509, 613, 673, 815, 165, 992, 326},\n",
    "  {322, 148, 972, 962, 286, 255, 941, 541, 265, 323, 925, 281, 601, 95, 973},\n",
    "  {445, 721, 11, 525, 473, 65, 511, 164, 138, 672, 18, 428, 154, 448, 848},\n",
    "  {414, 456, 310, 312, 798, 104, 566, 520, 302, 248, 694, 976, 430, 392, 198},\n",
    "  {184, 829, 373, 181, 631, 101, 969, 613, 840, 740, 778, 458, 284, 760, 390},\n",
    "  {821, 461, 843, 513, 17, 901, 711, 993, 293, 157, 274, 94, 192, 156, 574},\n",
    "  {34, 124, 4, 878, 450, 476, 712, 914, 838, 669, 875, 299, 823, 329, 699},\n",
    "  {815, 559, 813, 459, 522, 788, 168, 586, 966, 232, 308, 833, 251, 631, 107},\n",
    "  {813, 883, 451, 509, 615, 77, 281, 613, 459, 205, 380, 274, 302, 35, 805}\n",
    "};\n",
    "maxRowTotal = Max[Total /@ matrix]\n",
    "maxColumnTotal=Max[Total /@ Transpose[matrix]]"
   ]
  }
 ],
 "metadata": {
  "kernelspec": {
   "display_name": "SageMath 10.6",
   "language": "sage",
   "name": "sagemath"
  },
  "language_info": {
   "codemirror_mode": {
    "name": "ipython",
    "version": 3
   },
   "file_extension": ".py",
   "mimetype": "text/x-python",
   "name": "python",
   "nbconvert_exporter": "python",
   "pygments_lexer": "ipython3",
   "version": "3.12.10"
  }
 },
 "nbformat": 4,
 "nbformat_minor": 2
}
