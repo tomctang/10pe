{
 "cells": [
  {
   "cell_type": "markdown",
   "metadata": {
    "id": "FL4ZU8oOYuX0"
   },
   "source": [
    "# A-level-math\n",
    "\n",
    "Pre-running Python functions:"
   ]
  },
  {
   "cell_type": "code",
   "execution_count": null,
   "metadata": {
    "id": "5o5r9V1iYuX2"
   },
   "outputs": [],
   "source": [
    "%run Alevel_pre_running.py"
   ]
  },
  {
   "cell_type": "markdown",
   "metadata": {
    "id": "Dcnk5leiYuX3"
   },
   "source": [
    "<img src=\"https://raw.githubusercontent.com/tomctang/NB_img/main/image-set-venn.png\" alt=\"Causality-confounder\" width=\"400\">"
   ]
  },
  {
   "cell_type": "markdown",
   "metadata": {
    "id": "aKalibZDYuX4"
   },
   "source": [
    "## C2-Y13-MMA"
   ]
  },
  {
   "cell_type": "markdown",
   "metadata": {
    "id": "izCWSXNFYuX4"
   },
   "source": [
    "### Module 3 - Statistics - The Normal Distribution"
   ]
  },
  {
   "cell_type": "code",
   "execution_count": null,
   "metadata": {
    "id": "uvosIWpJYuX4"
   },
   "outputs": [
    {
     "data": {
      "text/html": [
       "<div><pre style=\"&#102;&#111;&#110;&#116;&#45;&#102;&#97;&#109;&#105;&#108;&#121;&#58;&#32;&#34;&#67;&#111;&#117;&#114;&#105;&#101;&#114;&#32;&#78;&#101;&#119;&#34;&#44;&#67;&#111;&#117;&#114;&#105;&#101;&#114;&#44;&#109;&#111;&#110;&#111;&#115;&#112;&#97;&#99;&#101;&#59;\">&#48;&#46;&#57;&#54;&#48;&#49;&#48;&#49;</pre></div>"
      ],
      "text/plain": [
       "0.960101"
      ]
     },
     "execution_count": 2,
     "metadata": {
      "text/html": [],
      "text/plain": []
     },
     "output_type": "execute_result"
    }
   ],
   "source": [
    "dist=NormalDistribution[6.5, 0.73];\n",
    "N[CDF[dist,8]-CDF[dist,5]]"
   ]
  },
  {
   "cell_type": "code",
   "execution_count": null,
   "metadata": {
    "id": "5zgaKrZTYuX5"
   },
   "outputs": [
    {
     "data": {
      "text/html": [
       "<style>\n",
       "\t\t\t\t\t\t\t\t\t\t\t\t\t.grid-container {\n",
       "\t\t\t\t\t\t\t\t\t\t\t\t\t\tdisplay: inline-grid;\n",
       "\t\t\t\t\t\t\t\t\t\t\t\t\t\tgrid-template-columns: auto;\n",
       "\t\t\t\t\t\t\t\t\t\t\t\t\t}\n",
       "\t\t\t\t\t\t\t\t\t\t\t\t</style>\n",
       "\n",
       "\t\t\t\t\t\t\t\t\t\t\t\t<div><div class=\"grid-container\"><div class=\"grid-item\"><pre style=\"&#102;&#111;&#110;&#116;&#45;&#102;&#97;&#109;&#105;&#108;&#121;&#58;&#32;&#34;&#67;&#111;&#117;&#114;&#105;&#101;&#114;&#32;&#78;&#101;&#119;&#34;&#44;&#67;&#111;&#117;&#114;&#105;&#101;&#114;&#44;&#109;&#111;&#110;&#111;&#115;&#112;&#97;&#99;&#101;&#59;\">&#55;&#56;&#56;&#46;&#53;</pre></div><div class=\"grid-item\"><pre style=\"&#102;&#111;&#110;&#116;&#45;&#102;&#97;&#109;&#105;&#108;&#121;&#58;&#32;&#34;&#67;&#111;&#117;&#114;&#105;&#101;&#114;&#32;&#78;&#101;&#119;&#34;&#44;&#67;&#111;&#117;&#114;&#105;&#101;&#114;&#44;&#109;&#111;&#110;&#111;&#115;&#112;&#97;&#99;&#101;&#59;\">&#49;&#57;&#57;&#55;&#46;&#53;</pre></div></div></div>"
      ],
      "text/plain": [
       "788.5\n",
       "1997.5"
      ]
     },
     "execution_count": 5,
     "metadata": {
      "text/html": [],
      "text/plain": []
     },
     "output_type": "execute_result"
    }
   ],
   "source": [
    "median=1393;\n",
    "interquarange=1570-1167;\n",
    "lowerlimit=median-1.5*interquarange\n",
    "upperlimit=median+1.5*interquarange"
   ]
  },
  {
   "cell_type": "code",
   "execution_count": null,
   "metadata": {
    "id": "DraKw_MnYuX5"
   },
   "outputs": [
    {
     "data": {
      "text/html": [
       "<div><pre style=\"&#102;&#111;&#110;&#116;&#45;&#102;&#97;&#109;&#105;&#108;&#121;&#58;&#32;&#34;&#67;&#111;&#117;&#114;&#105;&#101;&#114;&#32;&#78;&#101;&#119;&#34;&#44;&#67;&#111;&#117;&#114;&#105;&#101;&#114;&#44;&#109;&#111;&#110;&#111;&#115;&#112;&#97;&#99;&#101;&#59;\">&#49;&#46;</pre></div>"
      ],
      "text/plain": [
       "1."
      ]
     },
     "execution_count": 8,
     "metadata": {
      "text/html": [],
      "text/plain": []
     },
     "output_type": "execute_result"
    }
   ],
   "source": [
    "value=641520/24;\n",
    "N[CDF[dist,value]]"
   ]
  },
  {
   "cell_type": "code",
   "execution_count": null,
   "metadata": {
    "id": "8w3YSQJHYuX5"
   },
   "outputs": [
    {
     "data": {
      "text/html": [
       "<div><pre style=\"&#102;&#111;&#110;&#116;&#45;&#102;&#97;&#109;&#105;&#108;&#121;&#58;&#32;&#34;&#67;&#111;&#117;&#114;&#105;&#101;&#114;&#32;&#78;&#101;&#119;&#34;&#44;&#67;&#111;&#117;&#114;&#105;&#101;&#114;&#44;&#109;&#111;&#110;&#111;&#115;&#112;&#97;&#99;&#101;&#59;\">&#48;&#46;&#57;&#57;&#50;&#51;&#50;&#56;</pre></div>"
      ],
      "text/plain": [
       "0.992328"
      ]
     },
     "execution_count": 10,
     "metadata": {
      "text/html": [],
      "text/plain": []
     },
     "output_type": "execute_result"
    }
   ],
   "source": [
    "dist=NormalDistribution[24500,5200];\n",
    "N[1-(CDF[dist,24550]-CDF[dist,24450])]"
   ]
  },
  {
   "cell_type": "code",
   "execution_count": null,
   "metadata": {
    "id": "lZHpi1ulYuX6"
   },
   "outputs": [],
   "source": [
    "Mean[dist]"
   ]
  },
  {
   "cell_type": "code",
   "execution_count": null,
   "metadata": {
    "id": "vKkeT0K1YuX6"
   },
   "outputs": [],
   "source": [
    "ans=N[1-CDF[dist,12.5]]"
   ]
  },
  {
   "cell_type": "code",
   "execution_count": null,
   "metadata": {
    "id": "8mTymrGbYuX7"
   },
   "outputs": [],
   "source": [
    "ans=N[CDF[dist,16.5]]"
   ]
  },
  {
   "cell_type": "code",
   "execution_count": null,
   "metadata": {
    "id": "YnpNmNHxYuX7"
   },
   "outputs": [],
   "source": [
    "dist=BinomialDistribution[32,0.4];\n",
    "ans=N[CDF[dist,7.5]-CDF[dist,6.5]]"
   ]
  },
  {
   "cell_type": "code",
   "execution_count": null,
   "metadata": {
    "id": "GXs6rOOsYuX7"
   },
   "outputs": [],
   "source": [
    "(* Ex. 8 *)\n",
    "sd=4/30^0.5;\n",
    "dist=NormalDistribution[96, sd];\n",
    "quan=Quantile[dist, 0.975]"
   ]
  },
  {
   "cell_type": "code",
   "execution_count": null,
   "metadata": {
    "id": "q5osqNWcYuX7"
   },
   "outputs": [],
   "source": [
    "sd=0.5625^0.5/5^0.5;\n",
    "dist=NormalDistribution[18, sd];\n",
    "quan=Quantile[dist, 0.1]"
   ]
  },
  {
   "cell_type": "code",
   "execution_count": null,
   "metadata": {
    "id": "imRY84SmYuX8"
   },
   "outputs": [],
   "source": [
    "sd=0.01^0.5/3;\n",
    "dist=NormalDistribution[9, sd]\n",
    "quan=Quantile[dist, 0.005]"
   ]
  },
  {
   "cell_type": "code",
   "execution_count": null,
   "metadata": {
    "id": "YySIUZv9YuX8"
   },
   "outputs": [],
   "source": [
    "sd=0.015/50^0.5;\n",
    "dist=NormalDistribution[0.61,sd];\n",
    "quan=Quantile[dist, 0.025]"
   ]
  },
  {
   "cell_type": "code",
   "execution_count": null,
   "metadata": {
    "id": "X4aAYYH3YuX8"
   },
   "outputs": [],
   "source": [
    "sd=1.1/15^0.5;\n",
    "dist=NormalDistribution[-6, sd];\n",
    "quan=Quantile[dist, 0.99]"
   ]
  },
  {
   "cell_type": "code",
   "execution_count": null,
   "metadata": {
    "id": "g3XDNKbMYuX8"
   },
   "outputs": [],
   "source": [
    "sd=2/70^0.5;\n",
    "dist=NormalDistribution[2, sd];\n",
    "quan=Quantile[dist, 0.1]"
   ]
  },
  {
   "cell_type": "code",
   "execution_count": null,
   "metadata": {
    "id": "8_y3uowiYuX9"
   },
   "outputs": [],
   "source": [
    "sd=32^0.5/9;\n",
    "dist=NormalDistribution[55,sd];\n",
    "quan=Quantile[dist, 0.975]"
   ]
  },
  {
   "cell_type": "code",
   "execution_count": null,
   "metadata": {
    "id": "i6tV_ZXFYuX9"
   },
   "outputs": [],
   "source": [
    "(* 4a *)\n",
    "sd=16.8/200^0.5;\n",
    "1-N[CDF[NormalDistribution[43.6,sd], 45.7]];\n",
    "sd^2"
   ]
  },
  {
   "cell_type": "code",
   "execution_count": null,
   "metadata": {
    "id": "pj-UQ6qCYuX9"
   },
   "outputs": [],
   "source": [
    "(* 4b *)\n",
    "sd=16.8/80^0.5;\n",
    "1-N[CDF[NormalDistribution[43.6,sd], 44.5]];\n",
    "sd^2"
   ]
  },
  {
   "cell_type": "code",
   "execution_count": null,
   "metadata": {
    "id": "Fv41kvebYuX9"
   },
   "outputs": [],
   "source": [
    "sd=0.8/50^0.5;\n",
    "dist=NormalDistribution[6,sd];\n",
    "Quantile[dist, 0.025]"
   ]
  },
  {
   "cell_type": "code",
   "execution_count": null,
   "metadata": {
    "id": "RE8Ds26MYuX-"
   },
   "outputs": [],
   "source": [
    "sd=2/5;\n",
    "1-N[CDF[NormalDistribution[10,sd], 10.72]]"
   ]
  },
  {
   "cell_type": "code",
   "execution_count": null,
   "metadata": {
    "id": "kbbbGd8wYuX-"
   },
   "outputs": [],
   "source": [
    "(* 7 *)\n",
    "sd=6.96/10;\n",
    "N[CDF[NormalDistribution[100,sd], 97.97]]"
   ]
  },
  {
   "cell_type": "code",
   "execution_count": null,
   "metadata": {
    "id": "rZt58l8PYuX-"
   },
   "outputs": [],
   "source": [
    "(* Ass. 1 *)\n",
    "(* 7 *)\n",
    "2.1*g+3/10"
   ]
  },
  {
   "cell_type": "code",
   "execution_count": null,
   "metadata": {
    "id": "WaCFTt6DYuX-"
   },
   "outputs": [],
   "source": [
    "(* 8 *)\n",
    "6*g\n",
    "14*g"
   ]
  },
  {
   "cell_type": "code",
   "execution_count": null,
   "metadata": {
    "id": "wGxuFf4xYuX-"
   },
   "outputs": [],
   "source": [
    "(* 9 *)\n",
    "t=27/4*Cos[20 Degree]/Cos[50 Degree]*g;\n",
    "n=t*Sin[70 Degree];\n",
    "y=t*Cos[70 Degree];\n",
    "y=9*g-y;\n",
    "Sqrt[n^2+y^2]"
   ]
  },
  {
   "cell_type": "code",
   "execution_count": null,
   "metadata": {
    "id": "jWE0QqU3YuX_"
   },
   "outputs": [],
   "source": [
    "(* 10 *)\n",
    "s=(3.6*60*g+1.8*24*g)*Cos[60 Degree]/3.6/Cos[30 Degree];\n",
    "mu=s/84/g"
   ]
  },
  {
   "cell_type": "code",
   "execution_count": null,
   "metadata": {
    "id": "mtnyQcTrYuX_"
   },
   "outputs": [],
   "source": [
    "(* 12 *)\n",
    "N[CDF[NormalDistribution[5,0.8],4.5]]^3"
   ]
  },
  {
   "cell_type": "code",
   "execution_count": null,
   "metadata": {
    "id": "KD5KoXH7YuX_"
   },
   "outputs": [],
   "source": [
    "(* 13 *)\n",
    "sd=Sqrt[400*0.25*0.75];\n",
    "1-N[CDF[NormalDistribution[100,sd],110.5]]"
   ]
  },
  {
   "cell_type": "markdown",
   "metadata": {
    "id": "rwXB9l4jYuX_"
   },
   "source": [
    "Z is the standard normal variable $Z \\sim N(0,1)$, Z-scores corresponding to 95% confidence interval is 1.96, and $$Z=\\frac{X-\\mu}{\\sigma}$$\n",
    "\n",
    "expected standard deviation of sample means (standard error, SE)$$SE=\\frac{\\sigma}{\\sqrt{n}}$$"
   ]
  },
  {
   "cell_type": "code",
   "execution_count": null,
   "metadata": {
    "id": "0IeNNYCaYuYA"
   },
   "outputs": [],
   "source": [
    "(* 14 *)\n",
    "a = 5.00; (* a can be either 5kg or 5.1kg *)\n",
    "NSolve[(a - 5.05)/σ == 1.96, σ]"
   ]
  },
  {
   "cell_type": "markdown",
   "metadata": {
    "id": "h2r3giYJYuYA"
   },
   "source": [
    "### Module 4 - Vectors and Vector Algebra"
   ]
  },
  {
   "cell_type": "code",
   "execution_count": null,
   "metadata": {
    "id": "aZajYzWbYuYA"
   },
   "outputs": [],
   "source": [
    "v={1,2,3};\n",
    "w={1,2,4};\n",
    "Dot[v,w]"
   ]
  },
  {
   "cell_type": "code",
   "execution_count": null,
   "metadata": {
    "id": "2fP_ej0JYuYB"
   },
   "outputs": [],
   "source": [
    "N[7/Sqrt[2]]"
   ]
  },
  {
   "cell_type": "code",
   "execution_count": null,
   "metadata": {
    "id": "sJCSVYXCYuYB"
   },
   "outputs": [],
   "source": [
    "(* Ex. 10 Q.3 *)\n",
    "N[Sin[2Pi/5]]\n",
    "N[Cos[2Pi/5]]"
   ]
  },
  {
   "cell_type": "markdown",
   "metadata": {
    "id": "-77VKOowYuYB"
   },
   "source": [
    "The Ratio Rule\n",
    "$$\\vec{\\mathrm{OC}} = \\textbf{a}+\\dfrac{\\lambda}{\\lambda + \\mu}\\left( \\textbf{b} - \\textbf{a} \\right)$$\n",
    "$$\\vec{\\mathrm{OC}} = \\dfrac{\\mu}{\\lambda + \\mu} \\textbf{a}+\\dfrac{\\lambda}{\\lambda + \\mu} \\textbf{b}$$"
   ]
  },
  {
   "cell_type": "markdown",
   "metadata": {
    "id": "pF6ogtokYuYB"
   },
   "source": [
    "### Module 5 - Differentiation Methods"
   ]
  },
  {
   "cell_type": "code",
   "execution_count": null,
   "metadata": {
    "id": "s6lLEMgqYuYH"
   },
   "outputs": [],
   "source": [
    "D[Log[z],z]"
   ]
  },
  {
   "cell_type": "code",
   "execution_count": null,
   "metadata": {
    "id": "XoX_IQ8UYuYH"
   },
   "outputs": [],
   "source": [
    "0.8/Pi"
   ]
  },
  {
   "cell_type": "code",
   "execution_count": null,
   "metadata": {
    "id": "1cxpzQ7cYuYH"
   },
   "outputs": [],
   "source": [
    "Plot[Sin[x^2]*x^2, {x, -2 Pi, 2 Pi}]"
   ]
  },
  {
   "cell_type": "code",
   "execution_count": null,
   "metadata": {
    "id": "RWVYGDRSYuYI"
   },
   "outputs": [],
   "source": [
    "n=Sqrt[Pi]/2;\n",
    "N[Cos[n^2]2n^3+Sin[n^2]2n]"
   ]
  },
  {
   "cell_type": "code",
   "execution_count": null,
   "metadata": {
    "id": "VRB0PAjFYuYI"
   },
   "outputs": [],
   "source": [
    "D[Log[x^3],x]"
   ]
  },
  {
   "cell_type": "code",
   "execution_count": null,
   "metadata": {
    "id": "CvaI5c4XYuYI"
   },
   "outputs": [],
   "source": [
    "D[Log[x-2],x]"
   ]
  },
  {
   "cell_type": "code",
   "execution_count": null,
   "metadata": {
    "id": "UPbu0J9OYuYJ"
   },
   "outputs": [],
   "source": [
    "N[2E^2]"
   ]
  },
  {
   "cell_type": "code",
   "execution_count": null,
   "metadata": {
    "id": "2kDWnc2yYuYJ"
   },
   "outputs": [],
   "source": [
    "xa=3Cos[25 Degree];\n",
    "ya=3Sin[25 Degree];\n",
    "xb=4Sin[45 Degree];\n",
    "yb=4Cos[45 Degree];\n",
    "xab=xb-xa\n",
    "yab=yb-ya\n",
    "N[Sqrt[xab^2+yab^2]]"
   ]
  },
  {
   "cell_type": "code",
   "execution_count": null,
   "metadata": {
    "id": "5yffzd57YuYJ"
   },
   "outputs": [],
   "source": [
    "D[Cos[2x+5]^3,x]"
   ]
  },
  {
   "cell_type": "code",
   "execution_count": null,
   "metadata": {
    "id": "QGPH3FgJYuYK"
   },
   "outputs": [],
   "source": [
    "D[Sin[x]^3,x]"
   ]
  },
  {
   "cell_type": "code",
   "execution_count": null,
   "metadata": {
    "id": "sCEG9S7FYuYK"
   },
   "outputs": [],
   "source": [
    "D[ArcTan[3x],x]"
   ]
  },
  {
   "cell_type": "code",
   "execution_count": null,
   "metadata": {
    "id": "bkqgsjloYuYK"
   },
   "outputs": [],
   "source": [
    "D[ArcSin[3x-2],x]"
   ]
  },
  {
   "cell_type": "markdown",
   "metadata": {
    "id": "rzc9v6FOYuYL"
   },
   "source": [
    "### Module 6 - Integration Methods"
   ]
  },
  {
   "cell_type": "code",
   "execution_count": null,
   "metadata": {
    "id": "AYAZhN_TYuYL"
   },
   "outputs": [],
   "source": [
    "(* Ex. 14 1 *)\n",
    "N[Log[9]-Log[3]]"
   ]
  },
  {
   "cell_type": "code",
   "execution_count": null,
   "metadata": {
    "id": "ijKjdDwDYuYL"
   },
   "outputs": [],
   "source": [
    "(* 5 *)\n",
    "N[Log[E^Pi-1]-Log[2]]"
   ]
  },
  {
   "cell_type": "code",
   "execution_count": null,
   "metadata": {
    "id": "ZJHaz24tYuYL"
   },
   "outputs": [],
   "source": [
    "(* 6c *)\n",
    "N[Sqrt[3]-2]/4"
   ]
  },
  {
   "cell_type": "code",
   "execution_count": null,
   "metadata": {
    "id": "w1dJpDx_YuYL"
   },
   "outputs": [],
   "source": [
    "(* Ex. 15 1 *)\n",
    "N[(11^8-8^8)/24]"
   ]
  },
  {
   "cell_type": "code",
   "execution_count": null,
   "metadata": {
    "id": "vp3fJSO3YuYM"
   },
   "outputs": [],
   "source": [
    "(* 2 *)\n",
    "N[(Sqrt[10]-Sqrt[6])/2]"
   ]
  },
  {
   "cell_type": "code",
   "execution_count": null,
   "metadata": {
    "id": "c5QBAtC8YuYM"
   },
   "outputs": [],
   "source": [
    "(* 3 *)\n",
    "N[(9^(11/4)-3^(11/4))/11]"
   ]
  },
  {
   "cell_type": "code",
   "execution_count": null,
   "metadata": {
    "id": "SbLmcVCGYuYM"
   },
   "outputs": [],
   "source": [
    "(* 4 *)\n",
    "N[(Log[15]-Log[7])/8]"
   ]
  },
  {
   "cell_type": "code",
   "execution_count": null,
   "metadata": {
    "id": "6P9HdLL_YuYN"
   },
   "outputs": [],
   "source": [
    "(* 5 *)\n",
    "(ArcSin[0.8]-ArcSin[0.4])/2"
   ]
  },
  {
   "cell_type": "code",
   "execution_count": null,
   "metadata": {
    "id": "E--xl6lAYuYN"
   },
   "outputs": [],
   "source": [
    "(* 6 *)\n",
    "N[(15^5-11^5)/20]"
   ]
  },
  {
   "cell_type": "code",
   "execution_count": null,
   "metadata": {
    "id": "84HXg6_jYuYN"
   },
   "outputs": [],
   "source": [
    "(* 7 *)\n",
    "N[(E^5-E)/4]"
   ]
  },
  {
   "cell_type": "code",
   "execution_count": null,
   "metadata": {
    "id": "ggRjOdrgYuYO"
   },
   "outputs": [],
   "source": [
    "(* 8 *)\n",
    "N[(E^2-E^(-26))/12]"
   ]
  },
  {
   "cell_type": "code",
   "execution_count": null,
   "metadata": {
    "id": "vX1hTMwUYuYO"
   },
   "outputs": [],
   "source": [
    "(* 9 *)\n",
    "Plot[(2x+1)E^(x^2+x),{x,-1,1}]\n",
    "N[E^2-2]"
   ]
  },
  {
   "cell_type": "code",
   "execution_count": null,
   "metadata": {
    "id": "qeAsk2_JYuYO"
   },
   "outputs": [],
   "source": [
    "(* Ex. 16 1 *)\n",
    "f[x_]:=(5x-17/3)E^(3x+4)\n",
    "N[f[2]-f[1]]/3"
   ]
  },
  {
   "cell_type": "code",
   "execution_count": null,
   "metadata": {
    "id": "13ZRkiRbYuYO"
   },
   "outputs": [],
   "source": [
    "(* 2 *)\n",
    "N[2Log[2]-Log[3]]"
   ]
  },
  {
   "cell_type": "code",
   "execution_count": null,
   "metadata": {
    "id": "ftoQXUzZYuYP"
   },
   "outputs": [],
   "source": [
    "(* 3 *)\n",
    "f[x_]:=2(Sin[x]x+Cos[x])-Cos[x]x^2\n",
    "N[f[Pi/3]-f[Pi/4]]"
   ]
  },
  {
   "cell_type": "code",
   "execution_count": null,
   "metadata": {
    "id": "klLxAUuBYuYP"
   },
   "outputs": [],
   "source": [
    "(* 4 *)\n",
    "N[3+2Log[2]-4Log[3]]"
   ]
  },
  {
   "cell_type": "code",
   "execution_count": null,
   "metadata": {
    "id": "iJwBWvyHYuYP"
   },
   "outputs": [],
   "source": [
    "(* 5 *)\n",
    "f[x_]:=(9x^2*E^(3x)-6x*E^(3x)+2E^(3x))/27\n",
    "N[f[1]-f[0]]"
   ]
  },
  {
   "cell_type": "code",
   "execution_count": null,
   "metadata": {
    "id": "qjW01Xa_YuYQ"
   },
   "outputs": [],
   "source": [
    "(* 6 *)\n",
    "f[x_]:=x^2/2-2x+2Log[Abs[x-3]]-3Log[Abs[x-4]]\n",
    "N[f[2]-f[1]]"
   ]
  },
  {
   "cell_type": "code",
   "execution_count": null,
   "metadata": {
    "id": "8C3b4QONYuYQ"
   },
   "outputs": [],
   "source": [
    "(* 7 *)\n",
    "f[x_]:=Log[x]^2x-2Log[x]x+2x\n",
    "N[f[2]-f[1]]"
   ]
  },
  {
   "cell_type": "code",
   "execution_count": null,
   "metadata": {
    "id": "KTmkrAX-YuYQ"
   },
   "outputs": [],
   "source": [
    "(* 8 *)\n",
    "f[x_]:=-2/(x-3)+Log[Abs[x-3]]-3Log[Abs[x-4]]\n",
    "N[f[2]-f[1]]\n",
    "f[x_]:=2/(x-3)^2\n",
    "Integrate[f[x],x]"
   ]
  },
  {
   "cell_type": "code",
   "execution_count": null,
   "metadata": {
    "id": "o6jP-tZQYuYQ"
   },
   "outputs": [],
   "source": [
    "(* 9 *)\n",
    "f[x_]:=9x+17.5Log[Abs[x-3]]-6.5Log[Abs[x+1]]\n",
    "N[f[5]-f[4]]"
   ]
  },
  {
   "cell_type": "markdown",
   "metadata": {
    "id": "srvCbvuFYuYR"
   },
   "source": [
    "### Module 7 - Differential Equations"
   ]
  },
  {
   "cell_type": "code",
   "execution_count": null,
   "metadata": {
    "id": "-IrCHncqYuYR"
   },
   "outputs": [],
   "source": [
    "Integrate[Tan[y]^2,y]"
   ]
  },
  {
   "cell_type": "code",
   "execution_count": null,
   "metadata": {
    "id": "tq5Che9OYuYR"
   },
   "outputs": [],
   "source": [
    "y[x]/.DSolve[{y'[x] == y[x]}, y[x], x]"
   ]
  },
  {
   "cell_type": "code",
   "execution_count": null,
   "metadata": {
    "id": "-tFYeYfuYuYR"
   },
   "outputs": [],
   "source": [
    "t=Log[99]/0.4011"
   ]
  },
  {
   "cell_type": "code",
   "execution_count": null,
   "metadata": {
    "id": "LPTJLW_hYuYS"
   },
   "outputs": [],
   "source": [
    "k=2;\n",
    "D[Sin[k*t],t]"
   ]
  },
  {
   "cell_type": "code",
   "execution_count": null,
   "metadata": {
    "id": "IXsaG-goYuYS"
   },
   "outputs": [],
   "source": [
    "N[ArcTan[50]]"
   ]
  },
  {
   "cell_type": "code",
   "execution_count": null,
   "metadata": {
    "id": "3CCAUmEeYuYS"
   },
   "outputs": [],
   "source": [
    "Integrate[50-Tan[t],t]"
   ]
  },
  {
   "cell_type": "code",
   "execution_count": null,
   "metadata": {
    "id": "28M4J2aJYuYS"
   },
   "outputs": [],
   "source": [
    "f[t_]:=50t+Log[Cos[t]]\n",
    "f[1.55]"
   ]
  },
  {
   "cell_type": "markdown",
   "metadata": {
    "id": "n9GO45IzYuYT"
   },
   "source": [
    "### Calculus Methods"
   ]
  },
  {
   "cell_type": "code",
   "execution_count": null,
   "metadata": {
    "id": "esPnNyGcYuYT"
   },
   "outputs": [],
   "source": [
    "Integrate[Csc[x],x]\n",
    "Integrate[Sec[x],x]\n",
    "Integrate[Cot[x],x]"
   ]
  },
  {
   "cell_type": "markdown",
   "metadata": {
    "id": "8YSdObOvYuYT"
   },
   "source": [
    "Trigonometric Integrals\n",
    "\n",
    "$$\\int\\sin{x}=-\\cos{x}$$\n",
    "\n",
    "$$\\int\\cos{x}=\\sin{x}$$\n",
    "\n",
    "$$\\int\\tan{x}=-\\log(\\cos{x})$$"
   ]
  },
  {
   "cell_type": "markdown",
   "metadata": {
    "id": "ui8z8PYWYuYT"
   },
   "source": [
    "Chain Rule\n",
    "\n",
    "$$\\dfrac{\\mathrm d y}{\\mathrm d x}=\\dfrac{\\mathrm d y}{\\mathrm d u} \\times \\dfrac{\\mathrm d u}{\\mathrm d x}$$\n",
    "\n",
    "Product Rule\n",
    "\n",
    "$$y'=u'v+v'u$$\n",
    "\n",
    "Quotient Rule\n",
    "\n",
    "$$y'=\\frac{u'v-v'u}{v^2}$$"
   ]
  },
  {
   "cell_type": "markdown",
   "metadata": {
    "id": "lPd-U3j9YuYU"
   },
   "source": [
    "Integration By Parts\n",
    "\n",
    "$$\\int u \\hspace{3px} \\dfrac{\\mathrm dv}{\\mathrm dx}\\hspace{2px} \\mathrm dx=uv-\\int v\\hspace{3px}\\dfrac{\\mathrm du}{\\mathrm dx} \\hspace{2px}\\mathrm dx$$\n",
    "\n",
    "$$\\int u\\hspace{3px}\\mathrm dv=uv-\\int v\\hspace{3px} \\mathrm du$$"
   ]
  },
  {
   "cell_type": "code",
   "execution_count": null,
   "metadata": {
    "id": "WdwYFbjTYuYU"
   },
   "outputs": [],
   "source": [
    "D[ArcCsc[x],x]\n",
    "D[ArcSec[x],x]\n",
    "D[ArcCot[x],x]"
   ]
  },
  {
   "cell_type": "markdown",
   "metadata": {
    "id": "HWmY5mgLYuYU"
   },
   "source": [
    "Trigonometric Derivatives\n",
    "\n",
    "$$\\frac{d}{dx}\\sin{x}=\\cos{x}$$\n",
    "\n",
    "$$\\frac{d}{dx}\\cos{x}=-\\sin{x}$$\n",
    "\n",
    "$$\\frac{d}{dx}\\tan{x}=\\sec^2{x}$$\n",
    "\n",
    "$$\\frac{d}{dx}\\csc{x}=-\\cot{x}\\csc{x}$$\n",
    "\n",
    "$$\\frac{d}{dx}\\sec{x}=\\sec{x}\\tan{x}$$\n",
    "\n",
    "$$\\frac{d}{dx}\\cot{x}=-\\csc^2{x}$$\n",
    "\n",
    "$$\\frac{d}{dx}\\arcsin{x}=\\frac{1}{\\sqrt{1-x^2}}$$\n",
    "\n",
    "$$\\frac{d}{dx}\\arccos{x}=\\frac{-1}{\\sqrt(1-x^2)}$$\n",
    "\n",
    "$$\\frac{d}{dx}\\arccos{x}=\\frac{1}{1+x^2}$$\n",
    "\n",
    "[<img src=\"image-Trig-Int-Circle.png\" width=\"270\"/>](image-Trig-Int-Circle.png)  [<img src=\"image-Trig-Int-Circle3.png\" width=\"400\"/>](image-Trig-Int-Circle3.png)\n",
    "[<img src=\"image-Trig-Int-Circle2.png\" width=\"500\"/>](image-Trig-Int-Circle2.png)"
   ]
  },
  {
   "cell_type": "markdown",
   "metadata": {
    "id": "v443gaPmYuYU"
   },
   "source": [
    "Sine Rule\n",
    "\n",
    "$$\\frac{\\sin{A}}{a}=\\frac{\\sin{B}}{b}=\\frac{\\sin{C}}{c}$$\n",
    "\n",
    "Cosine Rule\n",
    "\n",
    "$$c=\\sqrt{a^2+b^2-2ab\\cos{C}}"
   ]
  },
  {
   "cell_type": "markdown",
   "metadata": {
    "id": "QJUQTiksYuYV"
   },
   "source": [
    "## C1-Y13-MMA"
   ]
  },
  {
   "cell_type": "markdown",
   "metadata": {
    "id": "rBB3fo30YuYV"
   },
   "source": [
    "### Module 4 - Trigonometry 1"
   ]
  },
  {
   "cell_type": "code",
   "execution_count": null,
   "metadata": {
    "id": "rnXz4n2iYuYV"
   },
   "outputs": [],
   "source": [
    "Sqrt[1.89]"
   ]
  },
  {
   "cell_type": "code",
   "execution_count": null,
   "metadata": {
    "id": "YeF8CNMZYuYV"
   },
   "outputs": [],
   "source": [
    "180/8"
   ]
  },
  {
   "cell_type": "code",
   "execution_count": null,
   "metadata": {
    "id": "SiDTtHBCYuYV"
   },
   "outputs": [],
   "source": [
    "frac=0.5/2/Pi;\n",
    "r=3;\n",
    "arclen=r*2*Pi*frac\n",
    "sec=Pi*r^2*frac"
   ]
  },
  {
   "cell_type": "code",
   "execution_count": null,
   "metadata": {
    "id": "MI4D6YYoYuYW"
   },
   "outputs": [],
   "source": [
    "(* 7 *)\n",
    "frac=0.5/2/Pi;\n",
    "r=8;\n",
    "sec=Pi*r^2*frac;\n",
    "ab=Sin[0.25]*16;\n",
    "mo=Cos[0.25]*8;\n",
    "triarea=0.5*ab*mo;\n",
    "sec-triarea"
   ]
  },
  {
   "cell_type": "code",
   "execution_count": null,
   "metadata": {
    "id": "CLVIx7m6YuYW"
   },
   "outputs": [],
   "source": [
    "(* 8 *)\n",
    "rad=80/69\n",
    "(* Easier calculation *)\n",
    "peri1=23*rad+6;\n",
    "N[peri1]\n",
    "(* Harder calculation *)\n",
    "frac=rad/2/Pi;\n",
    "r=10;\n",
    "r1=13;\n",
    "arclen=r*2*Pi*frac;\n",
    "arclen1=r1*2*Pi*frac;\n",
    "peri=6+arclen+arclen1;\n",
    "N[peri]"
   ]
  },
  {
   "cell_type": "code",
   "execution_count": null,
   "metadata": {
    "id": "1tK27k_yYuYW"
   },
   "outputs": [],
   "source": [
    "f[x_]:=E^x * Log[x];\n",
    "Plot[f[x], {x, 0.1, 3}]"
   ]
  },
  {
   "cell_type": "code",
   "execution_count": null,
   "metadata": {
    "id": "mMA_7xmyYuYX"
   },
   "outputs": [],
   "source": [
    "N[2-Sqrt[3]]"
   ]
  },
  {
   "cell_type": "code",
   "execution_count": null,
   "metadata": {
    "id": "0W2ECByJYuYX"
   },
   "outputs": [],
   "source": [
    "f[x_]:=2+x-x^2;\n",
    "N[f[Pi/25]]"
   ]
  },
  {
   "cell_type": "markdown",
   "metadata": {
    "id": "3tO5nneZYuYX"
   },
   "source": [
    "### Module 5 - Trigonometry 2"
   ]
  },
  {
   "cell_type": "code",
   "execution_count": null,
   "metadata": {
    "id": "5ISt2CczYuYX"
   },
   "outputs": [],
   "source": [
    "Pi-ArcSin[0.3]"
   ]
  },
  {
   "cell_type": "code",
   "execution_count": null,
   "metadata": {
    "id": "_g1xAMecYuYX"
   },
   "outputs": [],
   "source": [
    "N[ArcCos[Sqrt[2/3]]]"
   ]
  },
  {
   "cell_type": "code",
   "execution_count": null,
   "metadata": {
    "id": "tZ02G4PhYuYY"
   },
   "outputs": [],
   "source": [
    "Sec[2.1];\n",
    "N[Csc[Pi/5]];\n",
    "N[Cot[4*Pi/9]];\n",
    "ArcSin[0.8];\n",
    "N[ArcTan[4]];\n",
    "N[ArcTan[4/3]];\n",
    "N[ArcCos[-2/3]]"
   ]
  },
  {
   "cell_type": "code",
   "execution_count": null,
   "metadata": {
    "id": "NLKkln3LYuYY"
   },
   "outputs": [],
   "source": [
    "f[x_]:=3*Csc[2x]\n",
    "Plot[f[x],{x,-Pi,Pi}]"
   ]
  },
  {
   "cell_type": "code",
   "execution_count": null,
   "metadata": {
    "id": "kFOcxpZ7YuYY"
   },
   "outputs": [],
   "source": [
    "N[ArcTan[3,4]]"
   ]
  },
  {
   "cell_type": "code",
   "execution_count": null,
   "metadata": {
    "id": "SPOqHHoNYuYZ"
   },
   "outputs": [],
   "source": [
    "ArcTan[0.2]-Pi"
   ]
  },
  {
   "cell_type": "code",
   "execution_count": null,
   "metadata": {
    "id": "GcvdzvK0YuYZ"
   },
   "outputs": [],
   "source": [
    "f[x_]:=Cos[x+Pi/4]\n",
    "Plot[f[x],{x,-2Pi,2Pi}]"
   ]
  },
  {
   "cell_type": "code",
   "execution_count": null,
   "metadata": {
    "id": "0wSHehyGYuYZ"
   },
   "outputs": [],
   "source": [
    "f[x_]:=3Sin[x]\n",
    "Plot[f[x],{x,-2Pi,2Pi}]"
   ]
  },
  {
   "cell_type": "code",
   "execution_count": null,
   "metadata": {
    "id": "prlhn3xwYuYZ"
   },
   "outputs": [],
   "source": [
    "N[ArcTan[1/(3Sqrt[2]+1)]]"
   ]
  },
  {
   "cell_type": "code",
   "execution_count": null,
   "metadata": {
    "id": "TIwd3m1SYuYZ"
   },
   "outputs": [],
   "source": [
    "N[ArcTan[3]]"
   ]
  },
  {
   "cell_type": "code",
   "execution_count": null,
   "metadata": {
    "id": "2l-y1ew-YuYa"
   },
   "outputs": [],
   "source": [
    "ArcSin[Sqrt[5/13]]-ArcTan[-1.75]"
   ]
  },
  {
   "cell_type": "code",
   "execution_count": null,
   "metadata": {
    "id": "4VuL_WsyYuYa"
   },
   "outputs": [],
   "source": [
    "N[ArcCot[1-Sqrt[7]]]"
   ]
  },
  {
   "cell_type": "code",
   "execution_count": null,
   "metadata": {
    "id": "7I8w0gI1YuYa"
   },
   "outputs": [],
   "source": [
    "(* Ass 2 *)\n",
    "(* 6 *)\n",
    "tri=64Sqrt[3]\n",
    "sec=64Pi/3\n",
    "N[tri-sec]"
   ]
  },
  {
   "cell_type": "code",
   "execution_count": null,
   "metadata": {
    "id": "P4f8MOi6YuYa"
   },
   "outputs": [],
   "source": [
    "(* 10a *)\n",
    "N[(4Pi/3-ArcTan[2.4])/2]"
   ]
  },
  {
   "cell_type": "code",
   "execution_count": null,
   "metadata": {
    "id": "F-rAKke2YuYb"
   },
   "outputs": [],
   "source": [
    "(* 12b *)\n",
    "N[ArcTan[2]]"
   ]
  },
  {
   "cell_type": "code",
   "execution_count": null,
   "metadata": {
    "id": "JduBntmRYuYb"
   },
   "outputs": [],
   "source": [
    "(* 13a *)\n",
    "N[Pi-(ArcCos[-2/5]/2)]"
   ]
  },
  {
   "cell_type": "code",
   "execution_count": null,
   "metadata": {
    "id": "OANMr0NiYuYb"
   },
   "outputs": [],
   "source": [
    "(* 13b *)\n",
    "N[2Pi/3]"
   ]
  },
  {
   "cell_type": "markdown",
   "metadata": {
    "id": "zkhu8bbcYuYb"
   },
   "source": [
    "### Module 6 and 7 - Numerical Methods 1 and 2"
   ]
  },
  {
   "cell_type": "markdown",
   "metadata": {
    "id": "3Lk-_q9yYuYc"
   },
   "source": [
    "Newton-Raphson's Method\n",
    "\n",
    "For solving f(x)=0\n",
    "\n",
    "$$x_{n+1}=x_n-\\frac{f(x_n)}{f'(x_n)}$$"
   ]
  },
  {
   "cell_type": "code",
   "execution_count": null,
   "metadata": {
    "id": "zvwF-kcfYuYc"
   },
   "outputs": [],
   "source": [
    "f[x_]:=x^3-x^2+3\n",
    "f[-1.17452]"
   ]
  },
  {
   "cell_type": "code",
   "execution_count": null,
   "metadata": {
    "id": "8E_f8z7tYuYc"
   },
   "outputs": [],
   "source": [
    "f[x_]:=x^3+2x^2-4\n",
    "f[1.13045]"
   ]
  },
  {
   "cell_type": "code",
   "execution_count": null,
   "metadata": {
    "id": "Shr3OySgYuYc"
   },
   "outputs": [],
   "source": [
    "f[x_]:=x^4+2x^3-2x^2-x+1\n",
    "f[-2.60625]"
   ]
  },
  {
   "cell_type": "code",
   "execution_count": null,
   "metadata": {
    "id": "1LMHohdOYuYd"
   },
   "outputs": [],
   "source": [
    "Mean[{-2.65,-2.60625}]"
   ]
  },
  {
   "cell_type": "code",
   "execution_count": null,
   "metadata": {
    "id": "TliQmj3pYuYd"
   },
   "outputs": [],
   "source": [
    "(* f[x_]:=E^x+x^2-4\n",
    "g[x_]:=E^x+2x\n",
    "n=1;\n",
    "For[i=1,i<=7,i++,n=n-f[n]/g[n]]\n",
    "a=N[n];\n",
    "n=-2;\n",
    "For[i=1,i<=7,i++,n=n-f[n]/g[n]]\n",
    "b=N[n];\n",
    "n=(a+b)/2;\n",
    "For[i=1,i<=7,i++,n=n-f[n]/g[n]]\n",
    "N[n] *)"
   ]
  },
  {
   "cell_type": "code",
   "execution_count": null,
   "metadata": {
    "id": "acb5-lNyYuYd"
   },
   "outputs": [],
   "source": [
    "NSolve[f[x]]"
   ]
  },
  {
   "cell_type": "code",
   "execution_count": null,
   "metadata": {
    "id": "iNDj0uBRYuYd"
   },
   "outputs": [],
   "source": [
    "f[x_]:=1-15/x^2\n",
    "g[x_]:=30/x^3\n",
    "n=4;\n",
    "For[i=1,i<=10,i++,n=n-f[n]/g[n]]\n",
    "N[n]"
   ]
  },
  {
   "cell_type": "code",
   "execution_count": null,
   "metadata": {
    "id": "YUpzNOTRYuYd"
   },
   "outputs": [],
   "source": [
    "(* f[x_]:=x^3-4x^2+12\n",
    "g[x_]:=3x^2-8x\n",
    "n=3.01;\n",
    "For[i=1,i<=13,i++,n=n-f[n]/g[n]]\n",
    "N[n] *)"
   ]
  },
  {
   "cell_type": "code",
   "execution_count": null,
   "metadata": {
    "id": "gc6etUmeYuYe"
   },
   "outputs": [],
   "source": [
    "(* Ex. 15 2a *)\n",
    "Plot[2x^2-E^x,{x,-2,3}]"
   ]
  },
  {
   "cell_type": "code",
   "execution_count": null,
   "metadata": {
    "id": "slHxtR0oYuYe"
   },
   "outputs": [],
   "source": [
    "n=-3;\n",
    "For[i=1,i<=5,i++,n=n-f[n]/g[n]]\n",
    "N[n]"
   ]
  },
  {
   "cell_type": "code",
   "execution_count": null,
   "metadata": {
    "id": "huYjiqG6YuYe"
   },
   "outputs": [],
   "source": [
    "Plot[2x^3-4x^2+x+1,{x,-1,0}]"
   ]
  },
  {
   "cell_type": "code",
   "execution_count": null,
   "metadata": {
    "id": "1yGJ7rEdYuYe"
   },
   "outputs": [],
   "source": [
    "f[x_]:=x^3+3x^2-3\n",
    "g[x_]:=3x^2+6x\n",
    "n=1;\n",
    "For[i=1,i<=5,i++,n=n-f[n]/g[n]]\n",
    "N[n]"
   ]
  },
  {
   "cell_type": "code",
   "execution_count": null,
   "metadata": {
    "id": "2v3xMUaUYuYf"
   },
   "outputs": [],
   "source": [
    "Plot[-Sqrt[(2x^3+x+1)/4],{x,-1,1}]"
   ]
  },
  {
   "cell_type": "code",
   "execution_count": null,
   "metadata": {
    "id": "PrMjlXgeYuYf"
   },
   "outputs": [],
   "source": [
    "(* ass. 1 2a *)\n",
    "f[x_]:=x^3-2x^2+3x-5\n",
    "f[1]\n",
    "f[2]"
   ]
  },
  {
   "cell_type": "code",
   "execution_count": null,
   "metadata": {
    "id": "NEq2aUJkYuYf"
   },
   "outputs": [],
   "source": [
    "(* 2b *)\n",
    "f[1.5]\n",
    "f[1.75]\n",
    "f[1.875]\n",
    "f[1.8125]\n",
    "f[1.84375]"
   ]
  },
  {
   "cell_type": "code",
   "execution_count": null,
   "metadata": {
    "id": "18yX0UAsYuYf"
   },
   "outputs": [],
   "source": [
    "Mean[{1.8125,1.875}]"
   ]
  },
  {
   "cell_type": "code",
   "execution_count": null,
   "metadata": {
    "id": "PwfazfeAYuYf"
   },
   "outputs": [],
   "source": [
    "(* 3 *)\n",
    "f[x_]:=x^4+x^3-2x^2+3x-5\n",
    "f[1]\n",
    "f[2]\n",
    "f[1.2275]\n",
    "f[1.2285]\n",
    "f[1.2415]\n",
    "f[1.2425]\n",
    "f[1.2475]\n",
    "f[1.2485]\n",
    "f[1.2835]\n",
    "f[1.2845]"
   ]
  },
  {
   "cell_type": "code",
   "execution_count": null,
   "metadata": {
    "id": "yu6cwooiYuYg"
   },
   "outputs": [],
   "source": [
    "(* 4a *)\n",
    "n=-2.5;\n",
    "f[x_]:=x^3+2x^2-x+1\n",
    "g[x_]:=f'[x]\n",
    "n=n-f[n]/g[n];\n",
    "n"
   ]
  },
  {
   "cell_type": "markdown",
   "metadata": {
    "id": "NGl16B-gYuYg"
   },
   "source": [
    "### Trigonometry Formulae"
   ]
  },
  {
   "cell_type": "markdown",
   "metadata": {
    "id": "2wmQrEo2YuYg"
   },
   "source": [
    "Top right corner c means circular measure(radians)."
   ]
  },
  {
   "cell_type": "markdown",
   "metadata": {
    "id": "9vCFB9R7YuYh"
   },
   "source": [
    "Pythagorean Identities\n",
    "\n",
    "$$sin^2+cos^2=1$$\n",
    "\n",
    "$$csc^2=cot^2+1$$\n",
    "\n",
    "$$sec^2=tan^2+1$$"
   ]
  },
  {
   "cell_type": "markdown",
   "metadata": {
    "id": "3oYIhJoxYuYh"
   },
   "source": [
    "Addition Formulae\n",
    "\n",
    "$$sin(A+B)=\\sin{A}\\cos{B}+\\cos{A}\\sin{B}$$\n",
    "\n",
    "$$cos(A+B)=\\cos{A}\\cos{B}-\\sin{A}\\sin{B}$$\n",
    "\n",
    "$$sin(A-B)=\\sin{A}\\cos{B}-\\cos{A}\\sin{B}$$\n",
    "\n",
    "$$cos(A-B)=\\cos{A}\\cos{B}+\\sin{A}\\sin{B}$$\n",
    "\n",
    "$$tan(A+B)=\\frac{\\tan{A}+\\tan{B}}{1-\\tan{A}\\tan{B}}\\$$\n",
    "$$\\tan{\\left( A - B \\right)}=\\frac{\\tan{A}-\\tan{B}}{1+\\tan{A}\\tan{B}}$$"
   ]
  },
  {
   "cell_type": "markdown",
   "metadata": {
    "id": "xucZpDLHYuYh"
   },
   "source": [
    "Double Angle Formulae\n",
    "\n",
    "$$sin(2A)=2\\sin{A}\\cos{A}$$\n",
    "\n",
    "$$cos(2A)=\\cos^2{A}-\\sin^2{A}=1-2\\sin^2{A}=2\\cos^2{A}-1$$\n",
    "\n",
    "$$\\tan{\\left( 2A \\right)}=\\frac{2\\tan{A}}{1-\\tan^2{A}}$$"
   ]
  },
  {
   "cell_type": "markdown",
   "metadata": {
    "id": "Nfez_XnuYuYh"
   },
   "source": [
    "## C1 Year 12"
   ]
  },
  {
   "cell_type": "markdown",
   "metadata": {
    "id": "D2cFmBSGYuYh"
   },
   "source": [
    "### Module 1 - Indices and surds"
   ]
  },
  {
   "cell_type": "markdown",
   "metadata": {
    "id": "msZL2-LHYuYh"
   },
   "source": [
    "$4y^4*(3y)^2=(2y^2)^2*(3y)^2=(2y^2*3y)^2=(6y^3)^2=36y^6$"
   ]
  },
  {
   "cell_type": "markdown",
   "metadata": {
    "id": "-mWzlAPNYuYh"
   },
   "source": [
    "$2^3*3^3=8*27=216=6^3$"
   ]
  },
  {
   "cell_type": "markdown",
   "metadata": {
    "id": "0ODtZ60_YuYi"
   },
   "source": [
    "$(4mn^2)^3/2m^2n=64m^3n^6/2m^2n=32mn^5$\n",
    "\n",
    "$(6x^2y*3y^2z^3/9xyz)^4=(18x^2y^3z^3/9xyz)^4=(2xy^2z^2)^4=16x^4y^8z^8$"
   ]
  },
  {
   "cell_type": "markdown",
   "metadata": {
    "id": "6ef2uwDCYuYi"
   },
   "source": [
    "#### Module 3 - The Factor Theorem and Algebraic Division"
   ]
  },
  {
   "cell_type": "code",
   "execution_count": null,
   "metadata": {
    "id": "1TQwjwiTYuYi",
    "outputId": "5cecfc00-ffe5-4d1c-c2cd-1f2db27a4c06"
   },
   "outputs": [
    {
     "name": "stdout",
     "output_type": "stream",
     "text": [
      "[-10, -9.833333333333334, -9.666666666666668, -9.500000000000002, -9.333333333333336, -9.16666666666667, -9.000000000000004, -8.833333333333337, -8.666666666666671, -8.500000000000005, -8.33333333333334, -8.166666666666673, -8.000000000000007, -7.83333333333334, -7.666666666666673, -7.500000000000006, -7.333333333333339, -7.166666666666672, -7.000000000000005, -6.833333333333338, -6.666666666666671, -6.500000000000004, -6.3333333333333375, -6.1666666666666705, -6.0000000000000036, -5.833333333333337, -5.66666666666667, -5.500000000000003, -5.333333333333336, -5.166666666666669, -5.000000000000002, -4.833333333333335, -4.666666666666668, -4.500000000000001, -4.333333333333334, -4.166666666666667, -4.0, -3.8333333333333335, -3.666666666666667, -3.5000000000000004, -3.333333333333334, -3.1666666666666674, -3.000000000000001, -2.8333333333333344, -2.666666666666668, -2.5000000000000013, -2.333333333333335, -2.1666666666666683, -2.0000000000000018, -1.833333333333335, -1.6666666666666683, -1.5000000000000016, -1.3333333333333348, -1.166666666666668, -1.0000000000000013, -0.8333333333333347, -0.6666666666666681, -0.5000000000000014, -0.3333333333333348, -0.16666666666666816, -1.4988010832439613e-15, 0.16666666666666516, 0.3333333333333318, 0.49999999999999845, 0.6666666666666651, 0.8333333333333317, 0.9999999999999983, 1.166666666666665, 1.3333333333333317, 1.4999999999999984, 1.6666666666666652, 1.833333333333332, 1.9999999999999987, 2.166666666666665, 2.3333333333333317, 2.4999999999999982, 2.6666666666666647, 2.8333333333333313, 2.999999999999998, 3.1666666666666643, 3.333333333333331, 3.4999999999999973, 3.666666666666664, 3.8333333333333304, 3.999999999999997, 4.166666666666663, 4.33333333333333, 4.499999999999997, 4.666666666666664, 4.833333333333331, 4.999999999999998, 5.166666666666665, 5.333333333333332, 5.499999999999999, 5.666666666666666, 5.833333333333333, 6.0, 6.166666666666667, 6.333333333333334, 6.500000000000001, 6.666666666666668, 6.833333333333335, 7.000000000000002, 7.166666666666669, 7.333333333333336, 7.500000000000003, 7.66666666666667, 7.833333333333337, 8.000000000000004, 8.16666666666667, 8.333333333333336, 8.500000000000002, 8.666666666666668, 8.833333333333334, 9.0, 9.166666666666666, 9.333333333333332, 9.499999999999998, 9.666666666666664, 9.83333333333333, 9.999999999999996, 10.166666666666663, 10.333333333333329, 10.499999999999995, 10.66666666666666, 10.833333333333327, 10.999999999999993, 11.166666666666659, 11.333333333333325, 11.499999999999991, 11.666666666666657, 11.833333333333323, 11.99999999999999, 12.166666666666655, 12.333333333333321, 12.499999999999988, 12.666666666666654, 12.83333333333332, 12.999999999999986, 13.166666666666652, 13.333333333333318, 13.499999999999984, 13.66666666666665, 13.833333333333316, 13.999999999999982, 14.166666666666648, 14.333333333333314, 14.49999999999998, 14.666666666666647, 14.833333333333313, 14.999999999999979, 15.166666666666645, 15.33333333333331, 15.499999999999977, 15.666666666666643, 15.833333333333309, 15.999999999999975, 16.166666666666643, 16.33333333333331, 16.49999999999998, 16.666666666666647, 16.833333333333314, 16.999999999999982, 17.16666666666665, 17.333333333333318, 17.499999999999986, 17.666666666666654, 17.83333333333332, 17.99999999999999, 18.166666666666657, 18.333333333333325, 18.499999999999993, 18.66666666666666, 18.83333333333333, 18.999999999999996, 19.166666666666664, 19.333333333333332, 19.5, 19.666666666666668, 19.833333333333336, 20.000000000000004, 20.16666666666667, 20.33333333333334, 20.500000000000007, 20.666666666666675, 20.833333333333343, 21.00000000000001, 21.16666666666668, 21.333333333333346, 21.500000000000014, 21.666666666666682, 21.83333333333335, 22.000000000000018, 22.166666666666686, 22.333333333333353, 22.50000000000002, 22.66666666666669, 22.833333333333357, 23.000000000000025, 23.166666666666693, 23.33333333333336, 23.50000000000003, 23.666666666666696, 23.833333333333364, 24.000000000000032, 24.1666666666667, 24.333333333333368, 24.500000000000036, 24.666666666666703, 24.83333333333337, 25.00000000000004, 25.166666666666707, 25.333333333333375, 25.500000000000043, 25.66666666666671, 25.83333333333338, 26.000000000000046, 26.166666666666714, 26.333333333333382, 26.50000000000005, 26.666666666666718, 26.833333333333385, 27.000000000000053, 27.16666666666672, 27.33333333333339, 27.500000000000057, 27.666666666666725, 27.833333333333393, 28.00000000000006, 28.16666666666673, 28.333333333333396, 28.500000000000064, 28.666666666666732, 28.8333333333334, 29.000000000000068, 29.166666666666735, 29.333333333333403, 29.50000000000007, 29.66666666666674, 29.833333333333407, 30.000000000000075, 30.166666666666742, 30.33333333333341, 30.500000000000078, 30.666666666666746, 30.833333333333414, 31.00000000000008, 31.16666666666675, 31.333333333333417, 31.500000000000085, 31.666666666666753, 31.83333333333342, 32.000000000000085, 32.16666666666675, 32.333333333333414, 32.50000000000008, 32.66666666666674, 32.83333333333341, 33.00000000000007, 33.166666666666735, 33.3333333333334, 33.500000000000064, 33.66666666666673, 33.83333333333339, 34.00000000000006, 34.16666666666672, 34.333333333333385, 34.50000000000005, 34.666666666666714, 34.83333333333338, 35.00000000000004, 35.16666666666671, 35.33333333333337, 35.500000000000036, 35.6666666666667, 35.833333333333364, 36.00000000000003, 36.16666666666669, 36.33333333333336, 36.50000000000002, 36.666666666666686, 36.83333333333335, 37.000000000000014, 37.16666666666668, 37.33333333333334, 37.50000000000001, 37.66666666666667, 37.833333333333336, 38.0, 38.166666666666664, 38.33333333333333, 38.49999999999999, 38.66666666666666, 38.83333333333332, 38.999999999999986, 39.16666666666665, 39.333333333333314, 39.49999999999998, 39.66666666666664, 39.83333333333331, 39.99999999999997, 40.166666666666636, 40.3333333333333, 40.499999999999964, 40.66666666666663, 40.83333333333329, 40.99999999999996, 41.16666666666662, 41.333333333333286, 41.49999999999995, 41.666666666666615, 41.83333333333328, 41.99999999999994, 42.16666666666661, 42.33333333333327, 42.499999999999936, 42.6666666666666, 42.833333333333265, 42.99999999999993, 43.16666666666659, 43.33333333333326, 43.49999999999992, 43.666666666666586, 43.83333333333325, 43.999999999999915, 44.16666666666658, 44.33333333333324, 44.49999999999991, 44.66666666666657, 44.833333333333236, 44.9999999999999, 45.166666666666565, 45.33333333333323, 45.49999999999989, 45.66666666666656, 45.83333333333322, 45.999999999999886, 46.16666666666655, 46.333333333333215, 46.49999999999988, 46.66666666666654, 46.83333333333321, 46.99999999999987, 47.166666666666536, 47.3333333333332, 47.499999999999865, 47.66666666666653, 47.833333333333194, 47.99999999999986, 48.16666666666652, 48.33333333333319, 48.49999999999985, 48.666666666666515, 48.83333333333318, 48.999999999999844, 49.16666666666651, 49.33333333333317, 49.49999999999984, 49.6666666666665, 49.833333333333165, 49.99999999999983, 50.166666666666494, 50.33333333333316, 50.49999999999982, 50.66666666666649, 50.83333333333315, 50.999999999999815, 51.16666666666648, 51.333333333333144, 51.49999999999981, 51.66666666666647, 51.83333333333314, 51.9999999999998, 52.166666666666465, 52.33333333333313, 52.499999999999794, 52.66666666666646, 52.83333333333312, 52.99999999999979, 53.16666666666645, 53.333333333333115, 53.49999999999978, 53.666666666666444, 53.83333333333311, 53.99999999999977, 54.16666666666644, 54.3333333333331, 54.499999999999766, 54.66666666666643, 54.833333333333094, 54.99999999999976, 55.16666666666642, 55.33333333333309, 55.49999999999975, 55.666666666666416, 55.83333333333308, 55.999999999999744, 56.16666666666641, 56.33333333333307, 56.49999999999974, 56.6666666666664, 56.833333333333066, 56.99999999999973, 57.166666666666394, 57.33333333333306, 57.49999999999972, 57.66666666666639, 57.83333333333305, 57.999999999999716, 58.16666666666638, 58.333333333333044, 58.49999999999971, 58.66666666666637, 58.83333333333304, 58.9999999999997, 59.166666666666366, 59.33333333333303, 59.499999999999694, 59.66666666666636, 59.83333333333302, 59.99999999999969, 60.16666666666635, 60.333333333333016, 60.49999999999968, 60.666666666666345, 60.83333333333301, 60.99999999999967, 61.16666666666634, 61.333333333333, 61.499999999999666, 61.66666666666633, 61.833333333332995, 61.99999999999966, 62.16666666666632, 62.33333333333299, 62.49999999999965, 62.666666666666316, 62.83333333333298, 62.999999999999645, 63.16666666666631, 63.33333333333297, 63.49999999999964, 63.6666666666663, 63.833333333332966, 63.99999999999963, 64.1666666666663, 64.33333333333297, 64.49999999999964, 64.66666666666632, 64.83333333333299, 64.99999999999966, 65.16666666666633, 65.333333333333, 65.49999999999967, 65.66666666666634, 65.83333333333302, 65.99999999999969, 66.16666666666636, 66.33333333333303, 66.4999999999997, 66.66666666666637, 66.83333333333304, 66.99999999999972, 67.16666666666639, 67.33333333333306, 67.49999999999973, 67.6666666666664, 67.83333333333307, 67.99999999999974, 68.16666666666642, 68.33333333333309, 68.49999999999976, 68.66666666666643, 68.8333333333331, 68.99999999999977, 69.16666666666644, 69.33333333333312, 69.49999999999979, 69.66666666666646, 69.83333333333313, 69.9999999999998, 70.16666666666647, 70.33333333333314, 70.49999999999982, 70.66666666666649, 70.83333333333316, 70.99999999999983, 71.1666666666665, 71.33333333333317, 71.49999999999984, 71.66666666666652, 71.83333333333319, 71.99999999999986, 72.16666666666653, 72.3333333333332, 72.49999999999987, 72.66666666666654, 72.83333333333321, 72.99999999999989, 73.16666666666656, 73.33333333333323, 73.4999999999999, 73.66666666666657, 73.83333333333324, 73.99999999999991, 74.16666666666659, 74.33333333333326, 74.49999999999993, 74.6666666666666, 74.83333333333327, 74.99999999999994, 75.16666666666661, 75.33333333333329, 75.49999999999996, 75.66666666666663, 75.8333333333333, 75.99999999999997, 76.16666666666664, 76.33333333333331, 76.49999999999999, 76.66666666666666, 76.83333333333333, 77.0, 77.16666666666667, 77.33333333333334, 77.50000000000001, 77.66666666666669, 77.83333333333336, 78.00000000000003, 78.1666666666667, 78.33333333333337, 78.50000000000004, 78.66666666666671, 78.83333333333339, 79.00000000000006, 79.16666666666673, 79.3333333333334, 79.50000000000007, 79.66666666666674, 79.83333333333341, 80.00000000000009, 80.16666666666676, 80.33333333333343, 80.5000000000001, 80.66666666666677, 80.83333333333344, 81.00000000000011, 81.16666666666679, 81.33333333333346, 81.50000000000013, 81.6666666666668, 81.83333333333347, 82.00000000000014, 82.16666666666681, 82.33333333333348, 82.50000000000016, 82.66666666666683, 82.8333333333335, 83.00000000000017, 83.16666666666684, 83.33333333333351, 83.50000000000018, 83.66666666666686, 83.83333333333353, 84.0000000000002, 84.16666666666687, 84.33333333333354, 84.50000000000021, 84.66666666666688, 84.83333333333356, 85.00000000000023, 85.1666666666669, 85.33333333333357, 85.50000000000024, 85.66666666666691, 85.83333333333358, 86.00000000000026, 86.16666666666693, 86.3333333333336, 86.50000000000027, 86.66666666666694, 86.83333333333361, 87.00000000000028, 87.16666666666696, 87.33333333333363, 87.5000000000003, 87.66666666666697, 87.83333333333364, 88.00000000000031, 88.16666666666698, 88.33333333333366, 88.50000000000033, 88.666666666667, 88.83333333333367, 89.00000000000034, 89.16666666666701, 89.33333333333368, 89.50000000000036, 89.66666666666703, 89.8333333333337, 90.00000000000037, 90.16666666666704, 90.33333333333371, 90.50000000000038, 90.66666666666706, 90.83333333333373, 91.0000000000004, 91.16666666666707, 91.33333333333374, 91.50000000000041, 91.66666666666708, 91.83333333333375, 92.00000000000043, 92.1666666666671, 92.33333333333377, 92.50000000000044, 92.66666666666711, 92.83333333333378, 93.00000000000045, 93.16666666666713, 93.3333333333338, 93.50000000000047, 93.66666666666714, 93.83333333333381, 94.00000000000048, 94.16666666666715, 94.33333333333383, 94.5000000000005, 94.66666666666717, 94.83333333333384, 95.00000000000051, 95.16666666666718, 95.33333333333385, 95.50000000000053, 95.6666666666672, 95.83333333333387, 96.00000000000054, 96.16666666666721, 96.33333333333388, 96.50000000000055, 96.66666666666723, 96.8333333333339, 97.00000000000057, 97.16666666666724, 97.33333333333391, 97.50000000000058, 97.66666666666725, 97.83333333333393, 98.0000000000006, 98.16666666666727, 98.33333333333394, 98.50000000000061, 98.66666666666728, 98.83333333333395, 99.00000000000063, 99.1666666666673, 99.33333333333397, 99.50000000000064, 99.66666666666731, 99.83333333333398, 100.00000000000065, 100.16666666666733, 100.333333333334, 100.50000000000067, 100.66666666666734, 100.83333333333401, 101.00000000000068, 101.16666666666735, 101.33333333333402, 101.5000000000007, 101.66666666666737, 101.83333333333404, 102.00000000000071, 102.16666666666738, 102.33333333333405, 102.50000000000072, 102.6666666666674, 102.83333333333407, 103.00000000000074, 103.16666666666741, 103.33333333333408, 103.50000000000075, 103.66666666666742, 103.8333333333341, 104.00000000000077, 104.16666666666744, 104.33333333333411, 104.50000000000078, 104.66666666666745, 104.83333333333412, 105.0000000000008, 105.16666666666747, 105.33333333333414, 105.50000000000081, 105.66666666666748, 105.83333333333415, 106.00000000000082, 106.1666666666675, 106.33333333333417, 106.50000000000084, 106.66666666666751, 106.83333333333418, 107.00000000000085, 107.16666666666752, 107.3333333333342, 107.50000000000087, 107.66666666666754, 107.83333333333421, 108.00000000000088, 108.16666666666755, 108.33333333333422, 108.5000000000009, 108.66666666666757, 108.83333333333424, 109.00000000000091, 109.16666666666758, 109.33333333333425, 109.50000000000092, 109.6666666666676, 109.83333333333427, 110.00000000000094, 110.16666666666761, 110.33333333333428, 110.50000000000095, 110.66666666666762, 110.8333333333343, 111.00000000000097, 111.16666666666764, 111.33333333333431, 111.50000000000098, 111.66666666666765, 111.83333333333432, 112.000000000001, 112.16666666666767, 112.33333333333434, 112.50000000000101, 112.66666666666768, 112.83333333333435, 113.00000000000102, 113.1666666666677, 113.33333333333437, 113.50000000000104, 113.66666666666771, 113.83333333333438, 114.00000000000105, 114.16666666666772, 114.3333333333344, 114.50000000000107, 114.66666666666774, 114.83333333333441, 115.00000000000108, 115.16666666666775, 115.33333333333442, 115.5000000000011, 115.66666666666777, 115.83333333333444, 116.00000000000111, 116.16666666666778, 116.33333333333445, 116.50000000000112, 116.6666666666678, 116.83333333333447, 117.00000000000114, 117.16666666666781, 117.33333333333448, 117.50000000000115, 117.66666666666782, 117.8333333333345, 118.00000000000117, 118.16666666666784, 118.33333333333451, 118.50000000000118, 118.66666666666785, 118.83333333333452, 119.0000000000012, 119.16666666666787, 119.33333333333454, 119.50000000000121, 119.66666666666788, 119.83333333333455, 120.00000000000122, 120.1666666666679, 120.33333333333456, 120.50000000000124, 120.66666666666791, 120.83333333333458, 121.00000000000125, 121.16666666666792, 121.3333333333346, 121.50000000000126, 121.66666666666794, 121.83333333333461, 122.00000000000128, 122.16666666666795, 122.33333333333462, 122.5000000000013, 122.66666666666796, 122.83333333333464, 123.00000000000131, 123.16666666666798, 123.33333333333465, 123.50000000000132, 123.666666666668, 123.83333333333466, 124.00000000000134, 124.16666666666801, 124.33333333333468, 124.50000000000135, 124.66666666666802, 124.83333333333469, 125.00000000000136, 125.16666666666804, 125.3333333333347, 125.50000000000138, 125.66666666666805, 125.83333333333472, 126.00000000000139, 126.16666666666806, 126.33333333333474, 126.5000000000014, 126.66666666666808, 126.83333333333475, 127.00000000000142, 127.16666666666809, 127.33333333333476, 127.50000000000144, 127.6666666666681, 127.83333333333478, 128.00000000000145, 128.1666666666681, 128.33333333333476, 128.50000000000142, 128.66666666666808, 128.83333333333474, 129.0000000000014, 129.16666666666805, 129.3333333333347, 129.50000000000136, 129.66666666666802, 129.83333333333468, 130.00000000000134, 130.166666666668, 130.33333333333465, 130.5000000000013, 130.66666666666796, 130.83333333333462, 131.00000000000128, 131.16666666666794, 131.3333333333346, 131.50000000000125, 131.6666666666679, 131.83333333333456, 132.00000000000122, 132.16666666666788, 132.33333333333454, 132.5000000000012, 132.66666666666785, 132.8333333333345, 133.00000000000117, 133.16666666666782, 133.33333333333448, 133.50000000000114, 133.6666666666678, 133.83333333333445, 134.0000000000011, 134.16666666666777, 134.33333333333442, 134.50000000000108, 134.66666666666774, 134.8333333333344, 135.00000000000105, 135.1666666666677, 135.33333333333437, 135.50000000000102, 135.66666666666768, 135.83333333333434, 136.000000000001, 136.16666666666765, 136.3333333333343, 136.50000000000097, 136.66666666666762, 136.83333333333428, 137.00000000000094, 137.1666666666676, 137.33333333333425, 137.5000000000009, 137.66666666666757, 137.83333333333422, 138.00000000000088, 138.16666666666754, 138.3333333333342, 138.50000000000085, 138.6666666666675, 138.83333333333417, 139.00000000000082, 139.16666666666748, 139.33333333333414, 139.5000000000008, 139.66666666666745, 139.8333333333341, 140.00000000000077, 140.16666666666742, 140.33333333333408, 140.50000000000074, 140.6666666666674, 140.83333333333405, 141.0000000000007, 141.16666666666737, 141.33333333333402, 141.50000000000068, 141.66666666666734, 141.833333333334, 142.00000000000065, 142.1666666666673, 142.33333333333397, 142.50000000000063, 142.66666666666728, 142.83333333333394, 143.0000000000006, 143.16666666666725, 143.3333333333339, 143.50000000000057, 143.66666666666723, 143.83333333333388, 144.00000000000054, 144.1666666666672, 144.33333333333385, 144.5000000000005, 144.66666666666717, 144.83333333333383, 145.00000000000048, 145.16666666666714, 145.3333333333338, 145.50000000000045, 145.6666666666671, 145.83333333333377, 146.00000000000043, 146.16666666666708, 146.33333333333374, 146.5000000000004, 146.66666666666706, 146.8333333333337, 147.00000000000037, 147.16666666666703, 147.33333333333368, 147.50000000000034, 147.666666666667, 147.83333333333366, 148.0000000000003, 148.16666666666697, 148.33333333333363, 148.50000000000028, 148.66666666666694, 148.8333333333336, 149.00000000000026, 149.1666666666669, 149.33333333333357, 149.50000000000023, 149.66666666666688, 149.83333333333354, 150.0000000000002, 150.16666666666686, 150.3333333333335, 150.50000000000017, 150.66666666666683, 150.83333333333348, 151.00000000000014, 151.1666666666668, 151.33333333333346, 151.5000000000001, 151.66666666666677, 151.83333333333343, 152.00000000000009, 152.16666666666674, 152.3333333333334, 152.50000000000006, 152.6666666666667, 152.83333333333337, 153.00000000000003, 153.16666666666669, 153.33333333333334, 153.5, 153.66666666666666, 153.83333333333331, 153.99999999999997, 154.16666666666663, 154.3333333333333, 154.49999999999994, 154.6666666666666, 154.83333333333326, 154.99999999999991, 155.16666666666657, 155.33333333333323, 155.4999999999999, 155.66666666666654, 155.8333333333332, 155.99999999999986, 156.16666666666652, 156.33333333333317, 156.49999999999983, 156.6666666666665, 156.83333333333314, 156.9999999999998, 157.16666666666646, 157.33333333333312, 157.49999999999977, 157.66666666666643, 157.8333333333331, 157.99999999999974, 158.1666666666664, 158.33333333333306, 158.49999999999972, 158.66666666666637, 158.83333333333303, 158.9999999999997, 159.16666666666634, 159.333333333333, 159.49999999999966, 159.66666666666632, 159.83333333333297, 159.99999999999963, 160.1666666666663, 160.33333333333294, 160.4999999999996, 160.66666666666626, 160.83333333333292, 160.99999999999957, 161.16666666666623, 161.3333333333329, 161.49999999999955, 161.6666666666662, 161.83333333333286, 161.99999999999952, 162.16666666666617, 162.33333333333283, 162.4999999999995, 162.66666666666615, 162.8333333333328, 162.99999999999946, 163.16666666666612, 163.33333333333277, 163.49999999999943, 163.6666666666661, 163.83333333333275, 163.9999999999994, 164.16666666666606, 164.33333333333272, 164.49999999999937, 164.66666666666603, 164.8333333333327, 164.99999999999935, 165.166666666666, 165.33333333333266, 165.49999999999932, 165.66666666666598, 165.83333333333263, 165.9999999999993, 166.16666666666595, 166.3333333333326, 166.49999999999926, 166.66666666666592, 166.83333333333258, 166.99999999999923, 167.1666666666659, 167.33333333333255, 167.4999999999992, 167.66666666666586, 167.83333333333252, 167.99999999999918, 168.16666666666583, 168.3333333333325, 168.49999999999915, 168.6666666666658, 168.83333333333246, 168.99999999999912, 169.16666666666578, 169.33333333333243, 169.4999999999991, 169.66666666666575, 169.8333333333324, 169.99999999999906, 170.16666666666572, 170.33333333333238, 170.49999999999903, 170.6666666666657, 170.83333333333235, 170.999999999999, 171.16666666666566, 171.33333333333232, 171.49999999999898, 171.66666666666563, 171.8333333333323, 171.99999999999895, 172.1666666666656, 172.33333333333226, 172.49999999999892, 172.66666666666558, 172.83333333333223, 172.9999999999989, 173.16666666666555, 173.3333333333322, 173.49999999999886, 173.66666666666552, 173.83333333333218, 173.99999999999883, 174.1666666666655, 174.33333333333215, 174.4999999999988, 174.66666666666546, 174.83333333333212, 174.99999999999878, 175.16666666666544, 175.3333333333321, 175.49999999999875, 175.6666666666654, 175.83333333333206, 175.99999999999872, 176.16666666666538, 176.33333333333204, 176.4999999999987, 176.66666666666535, 176.833333333332, 176.99999999999866, 177.16666666666532, 177.33333333333198, 177.49999999999864, 177.6666666666653, 177.83333333333195, 177.9999999999986, 178.16666666666526, 178.33333333333192, 178.49999999999858, 178.66666666666524, 178.8333333333319, 178.99999999999855, 179.1666666666652, 179.33333333333186, 179.49999999999852, 179.66666666666518, 179.83333333333184, 179.9999999999985, 180.16666666666515, 180.3333333333318, 180.49999999999847, 180.66666666666512, 180.83333333333178, 180.99999999999844, 181.1666666666651, 181.33333333333175, 181.4999999999984, 181.66666666666507, 181.83333333333172, 181.99999999999838, 182.16666666666504, 182.3333333333317, 182.49999999999835, 182.666666666665, 182.83333333333167, 182.99999999999832, 183.16666666666498, 183.33333333333164, 183.4999999999983, 183.66666666666495, 183.8333333333316, 183.99999999999827, 184.16666666666492, 184.33333333333158, 184.49999999999824, 184.6666666666649, 184.83333333333155, 184.9999999999982, 185.16666666666487, 185.33333333333152, 185.49999999999818, 185.66666666666484, 185.8333333333315, 185.99999999999815, 186.1666666666648, 186.33333333333147, 186.49999999999812, 186.66666666666478, 186.83333333333144, 186.9999999999981, 187.16666666666475, 187.3333333333314, 187.49999999999807, 187.66666666666472, 187.83333333333138, 187.99999999999804, 188.1666666666647, 188.33333333333135, 188.499999999998, 188.66666666666467, 188.83333333333132, 188.99999999999798, 189.16666666666464, 189.3333333333313, 189.49999999999795, 189.6666666666646, 189.83333333333127, 189.99999999999793, 190.16666666666458, 190.33333333333124, 190.4999999999979, 190.66666666666455, 190.8333333333312, 190.99999999999787, 191.16666666666453, 191.33333333333118, 191.49999999999784, 191.6666666666645, 191.83333333333115, 191.9999999999978, 192.16666666666447, 192.33333333333113, 192.49999999999778, 192.66666666666444, 192.8333333333311, 192.99999999999775, 193.1666666666644, 193.33333333333107, 193.49999999999773, 193.66666666666438, 193.83333333333104, 193.9999999999977, 194.16666666666436, 194.333333333331, 194.49999999999767, 194.66666666666433, 194.83333333333098, 194.99999999999764, 195.1666666666643, 195.33333333333096, 195.4999999999976, 195.66666666666427, 195.83333333333093, 195.99999999999758, 196.16666666666424, 196.3333333333309, 196.49999999999756, 196.6666666666642, 196.83333333333087, 196.99999999999753, 197.16666666666418, 197.33333333333084, 197.4999999999975, 197.66666666666416, 197.8333333333308, 197.99999999999747, 198.16666666666413, 198.33333333333078, 198.49999999999744, 198.6666666666641, 198.83333333333076, 198.9999999999974, 199.16666666666407, 199.33333333333073, 199.49999999999739, 199.66666666666404, 199.8333333333307, 199.99999999999736, 200.166666666664, 200.33333333333067, 200.49999999999733, 200.66666666666399, 200.83333333333064, 200.9999999999973, 201.16666666666396, 201.33333333333061, 201.49999999999727, 201.66666666666393, 201.8333333333306, 201.99999999999724, 202.1666666666639, 202.33333333333056, 202.49999999999721, 202.66666666666387, 202.83333333333053, 202.9999999999972, 203.16666666666384, 203.3333333333305, 203.49999999999716, 203.66666666666382, 203.83333333333047, 203.99999999999713, 204.1666666666638, 204.33333333333044, 204.4999999999971, 204.66666666666376, 204.83333333333042, 204.99999999999707, 205.16666666666373, 205.3333333333304, 205.49999999999704, 205.6666666666637, 205.83333333333036, 205.99999999999702, 206.16666666666367, 206.33333333333033, 206.499999999997, 206.66666666666364, 206.8333333333303, 206.99999999999696, 207.16666666666362, 207.33333333333027, 207.49999999999693, 207.6666666666636, 207.83333333333024, 207.9999999999969, 208.16666666666356, 208.33333333333022, 208.49999999999687, 208.66666666666353, 208.8333333333302, 208.99999999999685, 209.1666666666635, 209.33333333333016, 209.49999999999682, 209.66666666666347, 209.83333333333013, 209.9999999999968, 210.16666666666345, 210.3333333333301, 210.49999999999676, 210.66666666666342, 210.83333333333007, 210.99999999999673, 211.1666666666634, 211.33333333333005, 211.4999999999967, 211.66666666666336, 211.83333333333002, 211.99999999999667, 212.16666666666333, 212.33333333333, 212.49999999999665, 212.6666666666633, 212.83333333332996, 212.99999999999662, 213.16666666666328, 213.33333333332993, 213.4999999999966, 213.66666666666325, 213.8333333333299, 213.99999999999656, 214.16666666666322, 214.33333333332988, 214.49999999999653, 214.6666666666632, 214.83333333332985, 214.9999999999965, 215.16666666666316, 215.33333333332982, 215.49999999999648, 215.66666666666313, 215.8333333333298, 215.99999999999645, 216.1666666666631, 216.33333333332976, 216.49999999999642, 216.66666666666308, 216.83333333332973, 216.9999999999964, 217.16666666666305, 217.3333333333297, 217.49999999999636, 217.66666666666302, 217.83333333332968, 217.99999999999633, 218.166666666663, 218.33333333332965, 218.4999999999963, 218.66666666666296, 218.83333333332962, 218.99999999999628, 219.16666666666293, 219.3333333333296, 219.49999999999625, 219.6666666666629, 219.83333333332956, 219.99999999999622, 220.16666666666288, 220.33333333332953, 220.4999999999962, 220.66666666666285, 220.8333333333295, 220.99999999999616, 221.16666666666282, 221.33333333332948, 221.49999999999613, 221.6666666666628, 221.83333333332945, 221.9999999999961, 222.16666666666276, 222.33333333332942, 222.49999999999608, 222.66666666666273, 222.8333333333294, 222.99999999999605, 223.1666666666627, 223.33333333332936, 223.49999999999602, 223.66666666666268, 223.83333333332934, 223.999999999996, 224.16666666666265, 224.3333333333293, 224.49999999999596, 224.66666666666262, 224.83333333332928, 224.99999999999594, 225.1666666666626, 225.33333333332925, 225.4999999999959, 225.66666666666256, 225.83333333332922, 225.99999999999588, 226.16666666666254, 226.3333333333292, 226.49999999999585, 226.6666666666625, 226.83333333332916, 226.99999999999582, 227.16666666666248, 227.33333333332914, 227.4999999999958, 227.66666666666245, 227.8333333333291, 227.99999999999577, 228.16666666666242, 228.33333333332908, 228.49999999999574, 228.6666666666624, 228.83333333332905, 228.9999999999957, 229.16666666666237, 229.33333333332902, 229.49999999999568, 229.66666666666234, 229.833333333329, 229.99999999999565, 230.1666666666623, 230.33333333332897, 230.49999999999562, 230.66666666666228, 230.83333333332894, 230.9999999999956, 231.16666666666225, 231.3333333333289, 231.49999999999557, 231.66666666666222, 231.83333333332888, 231.99999999999554, 232.1666666666622, 232.33333333332885, 232.4999999999955, 232.66666666666217, 232.83333333332882, 232.99999999999548, 233.16666666666214, 233.3333333333288, 233.49999999999545, 233.6666666666621, 233.83333333332877, 233.99999999999542, 234.16666666666208, 234.33333333332874, 234.4999999999954, 234.66666666666205, 234.8333333333287, 234.99999999999537, 235.16666666666202, 235.33333333332868, 235.49999999999534, 235.666666666662, 235.83333333332865, 235.9999999999953, 236.16666666666197, 236.33333333332862, 236.49999999999528, 236.66666666666194, 236.8333333333286, 236.99999999999525, 237.1666666666619, 237.33333333332857, 237.49999999999523, 237.66666666666188, 237.83333333332854, 237.9999999999952, 238.16666666666185, 238.3333333333285, 238.49999999999517, 238.66666666666183, 238.83333333332848, 238.99999999999514, 239.1666666666618, 239.33333333332845, 239.4999999999951, 239.66666666666177, 239.83333333332843, 239.99999999999508, 240.16666666666174, 240.3333333333284, 240.49999999999505, 240.6666666666617, 240.83333333332837, 240.99999999999503, 241.16666666666168, 241.33333333332834, 241.499999999995, 241.66666666666165, 241.8333333333283, 241.99999999999497, 242.16666666666163, 242.33333333332828, 242.49999999999494, 242.6666666666616, 242.83333333332826, 242.9999999999949, 243.16666666666157, 243.33333333332823, 243.49999999999488, 243.66666666666154, 243.8333333333282, 243.99999999999486, 244.1666666666615, 244.33333333332817, 244.49999999999483, 244.66666666666148, 244.83333333332814, 244.9999999999948, 245.16666666666146, 245.3333333333281, 245.49999999999477, 245.66666666666143, 245.83333333332808, 245.99999999999474, 246.1666666666614, 246.33333333332806, 246.4999999999947, 246.66666666666137, 246.83333333332803, 246.99999999999469, 247.16666666666134, 247.333333333328, 247.49999999999466, 247.6666666666613, 247.83333333332797, 247.99999999999463, 248.16666666666129, 248.33333333332794, 248.4999999999946, 248.66666666666126, 248.83333333332791, 248.99999999999457, 249.16666666666123, 249.3333333333279, 249.49999999999454, 249.6666666666612, 249.83333333332786, 249.99999999999451, 250.16666666666117, 250.33333333332783, 250.4999999999945, 250.66666666666114, 250.8333333333278, 250.99999999999446, 251.16666666666111, 251.33333333332777, 251.49999999999443, 251.6666666666611, 251.83333333332774, 251.9999999999944, 252.16666666666106, 252.33333333332772, 252.49999999999437, 252.66666666666103, 252.8333333333277, 252.99999999999434, 253.166666666661, 253.33333333332766, 253.49999999999432, 253.66666666666097, 253.83333333332763, 253.9999999999943, 254.16666666666094, 254.3333333333276, 254.49999999999426, 254.66666666666092, 254.83333333332757, 254.99999999999423, 255.1666666666609, 255.33333333332754, 255.4999999999942, 255.66666666666086, 255.83333333332752, 255.99999999999417, 256.16666666666083, 256.3333333333275, 256.4999999999942, 256.6666666666609, 256.8333333333276, 256.99999999999426, 257.16666666666094, 257.33333333332763, 257.4999999999943, 257.666666666661, 257.8333333333277, 257.9999999999944, 258.16666666666106, 258.33333333332774, 258.49999999999443, 258.6666666666611, 258.8333333333278, 258.9999999999945, 259.1666666666612, 259.33333333332786, 259.49999999999454, 259.66666666666123, 259.8333333333279, 259.9999999999946, 260.1666666666613, 260.33333333332797, 260.49999999999466, 260.66666666666134, 260.833333333328, 260.9999999999947, 261.1666666666614, 261.3333333333281, 261.49999999999477, 261.66666666666146, 261.83333333332814, 261.9999999999948, 262.1666666666615, 262.3333333333282, 262.4999999999949, 262.66666666666157, 262.83333333332826, 262.99999999999494, 263.1666666666616, 263.3333333333283, 263.499999999995, 263.6666666666617, 263.83333333332837, 263.99999999999505, 264.16666666666174, 264.3333333333284, 264.4999999999951, 264.6666666666618, 264.8333333333285, 264.99999999999517, 265.16666666666185, 265.33333333332854, 265.4999999999952, 265.6666666666619, 265.8333333333286, 265.9999999999953, 266.16666666666197, 266.33333333332865, 266.49999999999534, 266.666666666662, 266.8333333333287, 266.9999999999954, 267.1666666666621, 267.33333333332877, 267.49999999999545, 267.66666666666214, 267.8333333333288, 267.9999999999955, 268.1666666666622, 268.3333333333289, 268.49999999999557, 268.66666666666225, 268.83333333332894, 268.9999999999956, 269.1666666666623, 269.333333333329, 269.4999999999957, 269.66666666666237, 269.83333333332905, 269.99999999999574, 270.1666666666624, 270.3333333333291, 270.4999999999958, 270.6666666666625, 270.83333333332916, 270.99999999999585, 271.16666666666254, 271.3333333333292, 271.4999999999959, 271.6666666666626, 271.8333333333293, 271.99999999999596, 272.16666666666265, 272.33333333332934, 272.499999999996, 272.6666666666627, 272.8333333333294, 272.9999999999961, 273.16666666666276, 273.33333333332945, 273.49999999999613, 273.6666666666628, 273.8333333333295, 273.9999999999962, 274.1666666666629, 274.33333333332956, 274.49999999999625, 274.66666666666293, 274.8333333333296, 274.9999999999963, 275.166666666663, 275.3333333333297, 275.49999999999636, 275.66666666666305, 275.83333333332973, 275.9999999999964, 276.1666666666631, 276.3333333333298, 276.4999999999965, 276.66666666666316, 276.83333333332985, 276.99999999999653, 277.1666666666632, 277.3333333333299, 277.4999999999966, 277.6666666666633, 277.83333333332996, 277.99999999999665, 278.16666666666333, 278.33333333333, 278.4999999999967, 278.6666666666634, 278.8333333333301, 278.99999999999676, 279.16666666666345, 279.33333333333013, 279.4999999999968, 279.6666666666635, 279.8333333333302, 279.9999999999969, 280.16666666666356, 280.33333333333024, 280.49999999999693, 280.6666666666636, 280.8333333333303, 280.999999999997, 281.1666666666637, 281.33333333333036, 281.49999999999704, 281.66666666666373, 281.8333333333304, 281.9999999999971, 282.1666666666638, 282.3333333333305, 282.49999999999716, 282.66666666666384, 282.83333333333053, 282.9999999999972, 283.1666666666639, 283.3333333333306, 283.49999999999727, 283.66666666666396, 283.83333333333064, 283.9999999999973, 284.166666666664, 284.3333333333307, 284.4999999999974, 284.66666666666407, 284.83333333333076, 284.99999999999744, 285.1666666666641, 285.3333333333308, 285.4999999999975, 285.6666666666642, 285.83333333333087, 285.99999999999756, 286.16666666666424, 286.3333333333309, 286.4999999999976, 286.6666666666643, 286.833333333331, 286.99999999999767, 287.16666666666436, 287.33333333333104, 287.4999999999977, 287.6666666666644, 287.8333333333311, 287.9999999999978, 288.16666666666447, 288.33333333333115, 288.49999999999784, 288.6666666666645, 288.8333333333312, 288.9999999999979, 289.1666666666646, 289.33333333333127, 289.49999999999795, 289.66666666666464, 289.8333333333313, 289.999999999998, 290.1666666666647, 290.3333333333314, 290.49999999999807, 290.66666666666475, 290.83333333333144, 290.9999999999981, 291.1666666666648, 291.3333333333315, 291.4999999999982, 291.66666666666487, 291.83333333333155, 291.99999999999824, 292.1666666666649, 292.3333333333316, 292.4999999999983, 292.666666666665, 292.83333333333167, 292.99999999999835, 293.16666666666504, 293.3333333333317, 293.4999999999984, 293.6666666666651, 293.8333333333318, 293.99999999999847, 294.16666666666515, 294.33333333333184, 294.4999999999985, 294.6666666666652, 294.8333333333319, 294.9999999999986, 295.16666666666526, 295.33333333333195, 295.49999999999864, 295.6666666666653, 295.833333333332, 295.9999999999987, 296.1666666666654, 296.33333333333206, 296.49999999999875, 296.66666666666544, 296.8333333333321, 296.9999999999988, 297.1666666666655, 297.3333333333322, 297.49999999999886, 297.66666666666555, 297.83333333333223, 297.9999999999989, 298.1666666666656, 298.3333333333323, 298.499999999999, 298.66666666666566, 298.83333333333235, 298.99999999999903, 299.1666666666657, 299.3333333333324, 299.4999999999991, 299.6666666666658, 299.83333333333246, 299.99999999999915, 300.16666666666583, 300.3333333333325, 300.4999999999992, 300.6666666666659, 300.8333333333326, 300.99999999999926, 301.16666666666595, 301.33333333333263, 301.4999999999993, 301.666666666666, 301.8333333333327, 301.9999999999994, 302.16666666666606, 302.33333333333275, 302.49999999999943, 302.6666666666661, 302.8333333333328, 302.9999999999995, 303.1666666666662, 303.33333333333286, 303.49999999999955, 303.66666666666623, 303.8333333333329, 303.9999999999996, 304.1666666666663, 304.333333333333, 304.49999999999966, 304.66666666666634, 304.83333333333303, 304.9999999999997, 305.1666666666664, 305.3333333333331, 305.4999999999998, 305.66666666666646, 305.83333333333314, 305.99999999999983, 306.1666666666665, 306.3333333333332, 306.4999999999999, 306.6666666666666, 306.83333333333326, 306.99999999999994, 307.16666666666663, 307.3333333333333, 307.5, 307.6666666666667, 307.83333333333337, 308.00000000000006, 308.16666666666674, 308.3333333333334, 308.5000000000001, 308.6666666666668, 308.8333333333335, 309.00000000000017, 309.16666666666686, 309.33333333333354, 309.5000000000002, 309.6666666666669, 309.8333333333336, 310.0000000000003, 310.16666666666697, 310.33333333333366, 310.50000000000034, 310.666666666667, 310.8333333333337, 311.0000000000004, 311.1666666666671, 311.33333333333377, 311.50000000000045, 311.66666666666714, 311.8333333333338, 312.0000000000005, 312.1666666666672, 312.3333333333339, 312.50000000000057, 312.66666666666725, 312.83333333333394, 313.0000000000006, 313.1666666666673, 313.333333333334, 313.5000000000007, 313.66666666666737, 313.83333333333405, 314.00000000000074, 314.1666666666674, 314.3333333333341, 314.5000000000008, 314.6666666666675, 314.83333333333417, 315.00000000000085, 315.16666666666754, 315.3333333333342, 315.5000000000009, 315.6666666666676, 315.8333333333343, 316.00000000000097, 316.16666666666765, 316.33333333333434, 316.500000000001, 316.6666666666677, 316.8333333333344, 317.0000000000011, 317.16666666666777, 317.33333333333445, 317.50000000000114, 317.6666666666678, 317.8333333333345, 318.0000000000012, 318.1666666666679, 318.33333333333456, 318.50000000000125, 318.66666666666794, 318.8333333333346, 319.0000000000013, 319.166666666668, 319.3333333333347, 319.50000000000136, 319.66666666666805, 319.83333333333474, 320.0000000000014, 320.1666666666681, 320.3333333333348, 320.5000000000015, 320.66666666666816, 320.83333333333485, 321.00000000000153, 321.1666666666682, 321.3333333333349, 321.5000000000016, 321.6666666666683, 321.83333333333496, 322.00000000000165, 322.16666666666833, 322.333333333335, 322.5000000000017, 322.6666666666684, 322.8333333333351, 323.00000000000176, 323.16666666666845, 323.33333333333513, 323.5000000000018, 323.6666666666685, 323.8333333333352, 324.0000000000019, 324.16666666666856, 324.33333333333525, 324.50000000000193, 324.6666666666686, 324.8333333333353, 325.000000000002, 325.1666666666687, 325.33333333333536, 325.50000000000205, 325.66666666666873, 325.8333333333354, 326.0000000000021, 326.1666666666688, 326.3333333333355, 326.50000000000216, 326.66666666666885, 326.83333333333553, 327.0000000000022, 327.1666666666689, 327.3333333333356, 327.5000000000023, 327.66666666666896, 327.83333333333564, 328.00000000000233, 328.166666666669, 328.3333333333357, 328.5000000000024, 328.6666666666691, 328.83333333333576, 329.00000000000244, 329.16666666666913, 329.3333333333358, 329.5000000000025, 329.6666666666692, 329.8333333333359, 330.00000000000256, 330.16666666666924, 330.33333333333593, 330.5000000000026, 330.6666666666693, 330.833333333336, 331.0000000000027, 331.16666666666936, 331.33333333333604, 331.50000000000273, 331.6666666666694, 331.8333333333361, 332.0000000000028, 332.16666666666947, 332.33333333333616, 332.50000000000284, 332.6666666666695, 332.8333333333362, 333.0000000000029, 333.1666666666696, 333.33333333333627, 333.50000000000296, 333.66666666666964, 333.8333333333363, 334.000000000003, 334.1666666666697, 334.3333333333364, 334.50000000000307, 334.66666666666976, 334.83333333333644, 335.0000000000031, 335.1666666666698, 335.3333333333365, 335.5000000000032, 335.66666666666987, 335.83333333333655, 336.00000000000324, 336.1666666666699, 336.3333333333366, 336.5000000000033, 336.66666666667, 336.83333333333667, 337.00000000000335, 337.16666666667004, 337.3333333333367, 337.5000000000034, 337.6666666666701, 337.8333333333368, 338.00000000000347, 338.16666666667015, 338.33333333333684, 338.5000000000035, 338.6666666666702, 338.8333333333369, 339.0000000000036, 339.16666666667027, 339.33333333333695, 339.50000000000364, 339.6666666666703, 339.833333333337, 340.0000000000037, 340.1666666666704, 340.33333333333707, 340.50000000000375, 340.66666666667044, 340.8333333333371, 341.0000000000038, 341.1666666666705, 341.3333333333372, 341.50000000000387, 341.66666666667055, 341.83333333333724, 342.0000000000039, 342.1666666666706, 342.3333333333373, 342.500000000004, 342.66666666667066, 342.83333333333735, 343.00000000000404, 343.1666666666707, 343.3333333333374, 343.5000000000041, 343.6666666666708, 343.83333333333746, 344.00000000000415, 344.16666666667084, 344.3333333333375, 344.5000000000042, 344.6666666666709, 344.8333333333376, 345.00000000000426, 345.16666666667095, 345.33333333333763, 345.5000000000043, 345.666666666671, 345.8333333333377, 346.0000000000044, 346.16666666667106, 346.33333333333775, 346.50000000000443, 346.6666666666711, 346.8333333333378, 347.0000000000045, 347.1666666666712, 347.33333333333786, 347.50000000000455, 347.66666666667123, 347.8333333333379, 348.0000000000046, 348.1666666666713, 348.333333333338, 348.50000000000466, 348.66666666667135, 348.83333333333803, 349.0000000000047, 349.1666666666714, 349.3333333333381, 349.5000000000048, 349.66666666667146, 349.83333333333815, 350.00000000000483, 350.1666666666715, 350.3333333333382, 350.5000000000049, 350.6666666666716, 350.83333333333826, 351.00000000000495, 351.16666666667163, 351.3333333333383, 351.500000000005, 351.6666666666717, 351.8333333333384, 352.00000000000506, 352.16666666667174, 352.33333333333843, 352.5000000000051, 352.6666666666718, 352.8333333333385, 353.0000000000052, 353.16666666667186, 353.33333333333854, 353.50000000000523, 353.6666666666719, 353.8333333333386, 354.0000000000053, 354.166666666672, 354.33333333333866, 354.50000000000534, 354.66666666667203, 354.8333333333387, 355.0000000000054, 355.1666666666721, 355.33333333333877, 355.50000000000546, 355.66666666667214, 355.8333333333388, 356.0000000000055, 356.1666666666722, 356.3333333333389, 356.50000000000557, 356.66666666667226, 356.83333333333894, 357.0000000000056, 357.1666666666723, 357.333333333339, 357.5000000000057, 357.66666666667237, 357.83333333333906, 358.00000000000574, 358.1666666666724, 358.3333333333391, 358.5000000000058, 358.6666666666725, 358.83333333333917, 359.00000000000585, 359.16666666667254, 359.3333333333392, 359.5000000000059, 359.6666666666726, 359.8333333333393, 360.00000000000597, 360.16666666667265, 360.33333333333934, 360.500000000006, 360.6666666666727, 360.8333333333394, 361.0000000000061, 361.16666666667277, 361.33333333333945, 361.50000000000614, 361.6666666666728, 361.8333333333395, 362.0000000000062, 362.1666666666729, 362.33333333333957, 362.50000000000625, 362.66666666667294, 362.8333333333396, 363.0000000000063, 363.166666666673, 363.3333333333397, 363.50000000000637, 363.66666666667305, 363.83333333333974, 364.0000000000064, 364.1666666666731, 364.3333333333398, 364.5000000000065, 364.66666666667317, 364.83333333333985, 365.00000000000654, 365.1666666666732, 365.3333333333399, 365.5000000000066, 365.6666666666733, 365.83333333333997, 366.00000000000665, 366.16666666667334, 366.33333333334, 366.5000000000067, 366.6666666666734, 366.8333333333401, 367.00000000000676, 367.16666666667345, 367.33333333334014, 367.5000000000068, 367.6666666666735, 367.8333333333402, 368.0000000000069, 368.16666666667356, 368.33333333334025, 368.50000000000693, 368.6666666666736, 368.8333333333403, 369.000000000007, 369.1666666666737, 369.33333333334036, 369.50000000000705, 369.66666666667373, 369.8333333333404, 370.0000000000071, 370.1666666666738, 370.3333333333405, 370.50000000000716, 370.66666666667385, 370.83333333334053, 371.0000000000072, 371.1666666666739, 371.3333333333406, 371.5000000000073, 371.66666666667396, 371.83333333334065, 372.00000000000733, 372.166666666674, 372.3333333333407, 372.5000000000074, 372.6666666666741, 372.83333333334076, 373.00000000000745, 373.16666666667413, 373.3333333333408, 373.5000000000075, 373.6666666666742, 373.8333333333409, 374.00000000000756, 374.16666666667425, 374.33333333334093, 374.5000000000076, 374.6666666666743, 374.833333333341, 375.0000000000077, 375.16666666667436, 375.33333333334105, 375.50000000000773, 375.6666666666744, 375.8333333333411, 376.0000000000078, 376.1666666666745, 376.33333333334116, 376.50000000000784, 376.66666666667453, 376.8333333333412, 377.0000000000079, 377.1666666666746, 377.3333333333413, 377.50000000000796, 377.66666666667464, 377.83333333334133, 378.000000000008, 378.1666666666747, 378.3333333333414, 378.5000000000081, 378.66666666667476, 378.83333333334144, 379.00000000000813, 379.1666666666748, 379.3333333333415, 379.5000000000082, 379.66666666667487, 379.83333333334156, 380.00000000000824, 380.1666666666749, 380.3333333333416, 380.5000000000083, 380.666666666675, 380.83333333334167, 381.00000000000836, 381.16666666667504, 381.3333333333417, 381.5000000000084, 381.6666666666751, 381.8333333333418, 382.00000000000847, 382.16666666667516, 382.33333333334184, 382.5000000000085, 382.6666666666752, 382.8333333333419, 383.0000000000086, 383.16666666667527, 383.33333333334195, 383.50000000000864, 383.6666666666753, 383.833333333342, 384.0000000000087, 384.1666666666754, 384.33333333334207, 384.50000000000875, 384.66666666667544, 384.8333333333421, 385.0000000000088, 385.1666666666755, 385.3333333333422, 385.50000000000887, 385.66666666667555, 385.83333333334224, 386.0000000000089, 386.1666666666756, 386.3333333333423, 386.500000000009, 386.66666666667567, 386.83333333334235, 387.00000000000904, 387.1666666666757, 387.3333333333424, 387.5000000000091, 387.6666666666758, 387.83333333334247, 388.00000000000915, 388.16666666667584, 388.3333333333425, 388.5000000000092, 388.6666666666759, 388.8333333333426, 389.00000000000927, 389.16666666667595, 389.33333333334264, 389.5000000000093, 389.666666666676, 389.8333333333427, 390.0000000000094, 390.16666666667606, 390.33333333334275, 390.50000000000944, 390.6666666666761, 390.8333333333428, 391.0000000000095, 391.1666666666762, 391.33333333334286, 391.50000000000955, 391.66666666667624, 391.8333333333429, 392.0000000000096, 392.1666666666763, 392.333333333343, 392.50000000000966, 392.66666666667635, 392.83333333334303, 393.0000000000097, 393.1666666666764, 393.3333333333431, 393.5000000000098, 393.66666666667646, 393.83333333334315, 394.00000000000983, 394.1666666666765, 394.3333333333432, 394.5000000000099, 394.6666666666766, 394.83333333334326, 395.00000000000995, 395.16666666667663, 395.3333333333433, 395.50000000001, 395.6666666666767, 395.8333333333434, 396.00000000001006, 396.16666666667675, 396.33333333334343, 396.5000000000101, 396.6666666666768, 396.8333333333435, 397.0000000000102, 397.16666666667686, 397.33333333334355, 397.50000000001023, 397.6666666666769, 397.8333333333436, 398.0000000000103, 398.166666666677, 398.33333333334366, 398.50000000001035, 398.66666666667703, 398.8333333333437, 399.0000000000104, 399.1666666666771, 399.3333333333438, 399.50000000001046, 399.66666666667714, 399.83333333334383, 400.0000000000105, 400.1666666666772, 400.3333333333439, 400.5000000000106, 400.66666666667726, 400.83333333334394, 401.00000000001063, 401.1666666666773, 401.333333333344, 401.5000000000107, 401.6666666666774, 401.83333333334406, 402.00000000001074, 402.16666666667743, 402.3333333333441, 402.5000000000108, 402.6666666666775, 402.83333333334417, 403.00000000001086, 403.16666666667754, 403.3333333333442, 403.5000000000109, 403.6666666666776, 403.8333333333443, 404.00000000001097, 404.16666666667766, 404.33333333334434, 404.500000000011, 404.6666666666777, 404.8333333333444, 405.0000000000111, 405.16666666667777, 405.33333333334446, 405.50000000001114, 405.6666666666778, 405.8333333333445, 406.0000000000112, 406.1666666666779, 406.33333333334457, 406.50000000001125, 406.66666666667794, 406.8333333333446, 407.0000000000113, 407.166666666678, 407.3333333333447, 407.50000000001137, 407.66666666667805, 407.83333333334474, 408.0000000000114, 408.1666666666781, 408.3333333333448, 408.5000000000115, 408.66666666667817, 408.83333333334485, 409.00000000001154, 409.1666666666782, 409.3333333333449, 409.5000000000116, 409.6666666666783, 409.83333333334497, 410.00000000001165, 410.16666666667834, 410.333333333345, 410.5000000000117, 410.6666666666784, 410.8333333333451, 411.00000000001177, 411.16666666667845, 411.33333333334514, 411.5000000000118, 411.6666666666785, 411.8333333333452, 412.0000000000119, 412.16666666667857, 412.33333333334525, 412.50000000001194, 412.6666666666786, 412.8333333333453, 413.000000000012, 413.1666666666787, 413.33333333334537, 413.50000000001205, 413.66666666667874, 413.8333333333454, 414.0000000000121, 414.1666666666788, 414.3333333333455, 414.50000000001216, 414.66666666667885, 414.83333333334554, 415.0000000000122, 415.1666666666789, 415.3333333333456, 415.5000000000123, 415.66666666667896, 415.83333333334565, 416.00000000001234, 416.166666666679, 416.3333333333457, 416.5000000000124, 416.6666666666791, 416.83333333334576, 417.00000000001245, 417.16666666667913, 417.3333333333458, 417.5000000000125, 417.6666666666792, 417.8333333333459, 418.00000000001256, 418.16666666667925, 418.33333333334593, 418.5000000000126, 418.6666666666793, 418.833333333346, 419.0000000000127, 419.16666666667936, 419.33333333334605, 419.50000000001273, 419.6666666666794, 419.8333333333461, 420.0000000000128, 420.1666666666795, 420.33333333334616, 420.50000000001285, 420.66666666667953, 420.8333333333462, 421.0000000000129, 421.1666666666796, 421.3333333333463, 421.50000000001296, 421.66666666667965, 421.83333333334633, 422.000000000013, 422.1666666666797, 422.3333333333464, 422.5000000000131, 422.66666666667976, 422.83333333334645, 423.00000000001313, 423.1666666666798, 423.3333333333465, 423.5000000000132, 423.6666666666799, 423.83333333334656, 424.00000000001324, 424.16666666667993, 424.3333333333466, 424.5000000000133, 424.66666666668, 424.8333333333467, 425.00000000001336, 425.16666666668004, 425.33333333334673, 425.5000000000134, 425.6666666666801, 425.8333333333468, 426.0000000000135, 426.16666666668016, 426.33333333334684, 426.50000000001353, 426.6666666666802, 426.8333333333469, 427.0000000000136, 427.16666666668027, 427.33333333334696, 427.50000000001364, 427.6666666666803, 427.833333333347, 428.0000000000137, 428.1666666666804, 428.33333333334707, 428.50000000001376, 428.66666666668044, 428.8333333333471, 429.0000000000138, 429.1666666666805, 429.3333333333472, 429.50000000001387, 429.66666666668056, 429.83333333334724, 430.0000000000139, 430.1666666666806, 430.3333333333473, 430.500000000014, 430.66666666668067, 430.83333333334735, 431.00000000001404, 431.1666666666807, 431.3333333333474, 431.5000000000141, 431.6666666666808, 431.83333333334747, 432.00000000001415, 432.16666666668084, 432.3333333333475, 432.5000000000142, 432.6666666666809, 432.8333333333476, 433.00000000001427, 433.16666666668095, 433.33333333334764, 433.5000000000143, 433.666666666681, 433.8333333333477, 434.0000000000144, 434.16666666668107, 434.33333333334775, 434.50000000001444, 434.6666666666811, 434.8333333333478, 435.0000000000145, 435.1666666666812, 435.33333333334787, 435.50000000001455, 435.66666666668124, 435.8333333333479, 436.0000000000146, 436.1666666666813, 436.333333333348, 436.50000000001467, 436.66666666668135, 436.83333333334804, 437.0000000000147, 437.1666666666814, 437.3333333333481, 437.5000000000148, 437.66666666668146, 437.83333333334815, 438.00000000001484, 438.1666666666815, 438.3333333333482, 438.5000000000149, 438.6666666666816, 438.83333333334826, 439.00000000001495, 439.16666666668164, 439.3333333333483, 439.500000000015, 439.6666666666817, 439.8333333333484, 440.00000000001506, 440.16666666668175, 440.33333333334843, 440.5000000000151, 440.6666666666818, 440.8333333333485, 441.0000000000152, 441.16666666668186, 441.33333333334855, 441.50000000001523, 441.6666666666819, 441.8333333333486, 442.0000000000153, 442.166666666682, 442.33333333334866, 442.50000000001535, 442.66666666668203, 442.8333333333487, 443.0000000000154, 443.1666666666821, 443.3333333333488, 443.50000000001546, 443.66666666668215, 443.83333333334883, 444.0000000000155, 444.1666666666822, 444.3333333333489, 444.5000000000156, 444.66666666668226, 444.83333333334895, 445.00000000001563, 445.1666666666823, 445.333333333349, 445.5000000000157, 445.6666666666824, 445.83333333334906, 446.00000000001575, 446.16666666668243, 446.3333333333491, 446.5000000000158, 446.6666666666825, 446.8333333333492, 447.00000000001586, 447.16666666668254, 447.33333333334923, 447.5000000000159, 447.6666666666826, 447.8333333333493, 448.000000000016, 448.16666666668266, 448.33333333334934, 448.50000000001603, 448.6666666666827, 448.8333333333494, 449.0000000000161, 449.1666666666828, 449.33333333334946, 449.50000000001614, 449.66666666668283, 449.8333333333495, 450.0000000000162, 450.1666666666829, 450.3333333333496, 450.50000000001626, 450.66666666668294, 450.83333333334963, 451.0000000000163, 451.166666666683, 451.3333333333497, 451.50000000001637, 451.66666666668306, 451.83333333334974, 452.0000000000164, 452.1666666666831, 452.3333333333498, 452.5000000000165, 452.66666666668317, 452.83333333334986, 453.00000000001654, 453.1666666666832, 453.3333333333499, 453.5000000000166, 453.6666666666833, 453.83333333334997, 454.00000000001666, 454.16666666668334, 454.33333333335, 454.5000000000167, 454.6666666666834, 454.8333333333501, 455.00000000001677, 455.16666666668345, 455.33333333335014, 455.5000000000168, 455.6666666666835, 455.8333333333502, 456.0000000000169, 456.16666666668357, 456.33333333335025, 456.50000000001694, 456.6666666666836, 456.8333333333503, 457.000000000017, 457.1666666666837, 457.33333333335037, 457.50000000001705, 457.66666666668374, 457.8333333333504, 458.0000000000171, 458.1666666666838, 458.3333333333505, 458.50000000001717, 458.66666666668385, 458.83333333335054, 459.0000000000172, 459.1666666666839, 459.3333333333506, 459.5000000000173, 459.66666666668397, 459.83333333335065, 460.00000000001734, 460.166666666684, 460.3333333333507, 460.5000000000174, 460.6666666666841, 460.83333333335077, 461.00000000001745, 461.16666666668414, 461.3333333333508, 461.5000000000175, 461.6666666666842, 461.8333333333509, 462.00000000001756, 462.16666666668425, 462.33333333335094, 462.5000000000176, 462.6666666666843, 462.833333333351, 463.0000000000177, 463.16666666668436, 463.33333333335105, 463.50000000001774, 463.6666666666844, 463.8333333333511, 464.0000000000178, 464.1666666666845, 464.33333333335116, 464.50000000001785, 464.66666666668453, 464.8333333333512, 465.0000000000179, 465.1666666666846, 465.3333333333513, 465.50000000001796, 465.66666666668465, 465.83333333335133, 466.000000000018, 466.1666666666847, 466.3333333333514, 466.5000000000181, 466.66666666668476, 466.83333333335145, 467.00000000001813, 467.1666666666848, 467.3333333333515, 467.5000000000182, 467.6666666666849, 467.83333333335156, 468.00000000001825, 468.16666666668493, 468.3333333333516, 468.5000000000183, 468.666666666685, 468.8333333333517, 469.00000000001836, 469.16666666668505, 469.33333333335173, 469.5000000000184, 469.6666666666851, 469.8333333333518, 470.0000000000185, 470.16666666668516, 470.33333333335185, 470.50000000001853, 470.6666666666852, 470.8333333333519, 471.0000000000186, 471.1666666666853, 471.33333333335196, 471.50000000001864, 471.66666666668533, 471.833333333352, 472.0000000000187, 472.1666666666854, 472.3333333333521, 472.50000000001876, 472.66666666668544, 472.83333333335213, 473.0000000000188, 473.1666666666855, 473.3333333333522, 473.5000000000189, 473.66666666668556, 473.83333333335224, 474.00000000001893, 474.1666666666856, 474.3333333333523, 474.500000000019, 474.66666666668567, 474.83333333335236, 475.00000000001904, 475.1666666666857, 475.3333333333524, 475.5000000000191, 475.6666666666858, 475.83333333335247, 476.00000000001916, 476.16666666668584, 476.3333333333525, 476.5000000000192, 476.6666666666859, 476.8333333333526, 477.00000000001927, 477.16666666668596, 477.33333333335264, 477.5000000000193, 477.666666666686, 477.8333333333527, 478.0000000000194, 478.16666666668607, 478.33333333335275, 478.50000000001944, 478.6666666666861, 478.8333333333528, 479.0000000000195, 479.1666666666862, 479.33333333335287, 479.50000000001955, 479.66666666668624, 479.8333333333529, 480.0000000000196, 480.1666666666863, 480.333333333353, 480.50000000001967, 480.66666666668635, 480.83333333335304, 481.0000000000197, 481.1666666666864, 481.3333333333531, 481.5000000000198, 481.66666666668647, 481.83333333335315, 482.00000000001984, 482.1666666666865, 482.3333333333532, 482.5000000000199, 482.6666666666866, 482.83333333335327, 483.00000000001995, 483.16666666668664, 483.3333333333533, 483.50000000002, 483.6666666666867, 483.8333333333534, 484.00000000002007, 484.16666666668675, 484.33333333335344, 484.5000000000201, 484.6666666666868, 484.8333333333535, 485.0000000000202, 485.16666666668687, 485.33333333335355, 485.50000000002024, 485.6666666666869, 485.8333333333536, 486.0000000000203, 486.166666666687, 486.33333333335366, 486.50000000002035, 486.66666666668704, 486.8333333333537, 487.0000000000204, 487.1666666666871, 487.3333333333538, 487.50000000002046, 487.66666666668715, 487.83333333335383, 488.0000000000205, 488.1666666666872, 488.3333333333539, 488.5000000000206, 488.66666666668726, 488.83333333335395, 489.00000000002063, 489.1666666666873, 489.333333333354, 489.5000000000207, 489.6666666666874, 489.83333333335406, 490.00000000002075, 490.16666666668743, 490.3333333333541, 490.5000000000208, 490.6666666666875, 490.8333333333542, 491.00000000002086, 491.16666666668755, 491.33333333335423, 491.5000000000209, 491.6666666666876, 491.8333333333543, 492.000000000021, 492.16666666668766, 492.33333333335435, 492.50000000002103, 492.6666666666877, 492.8333333333544, 493.0000000000211, 493.1666666666878, 493.33333333335446, 493.50000000002115, 493.66666666668783, 493.8333333333545, 494.0000000000212, 494.1666666666879, 494.3333333333546, 494.50000000002126, 494.66666666668795, 494.83333333335463, 495.0000000000213, 495.166666666688, 495.3333333333547, 495.5000000000214, 495.66666666668806, 495.83333333335474, 496.00000000002143, 496.1666666666881, 496.3333333333548, 496.5000000000215, 496.6666666666882, 496.83333333335486, 497.00000000002154, 497.16666666668823, 497.3333333333549, 497.5000000000216, 497.6666666666883, 497.833333333355, 498.00000000002166, 498.16666666668834, 498.33333333335503, 498.5000000000217, 498.6666666666884, 498.8333333333551, 499.00000000002177, 499.16666666668846, 499.33333333335514, 499.5000000000218, 499.6666666666885, 499.8333333333552, 500.0000000000219, 500.16666666668857, 500.33333333335526, 500.50000000002194, 500.6666666666886, 500.8333333333553, 501.000000000022, 501.1666666666887, 501.33333333335537, 501.50000000002206, 501.66666666668874, 501.8333333333554, 502.0000000000221, 502.1666666666888, 502.3333333333555, 502.50000000002217, 502.66666666668885, 502.83333333335554, 503.0000000000222, 503.1666666666889, 503.3333333333556, 503.5000000000223, 503.66666666668897, 503.83333333335565, 504.00000000002234, 504.166666666689, 504.3333333333557, 504.5000000000224, 504.6666666666891, 504.83333333335577, 505.00000000002245, 505.16666666668914, 505.3333333333558, 505.5000000000225, 505.6666666666892, 505.8333333333559, 506.00000000002257, 506.16666666668925, 506.33333333335594, 506.5000000000226, 506.6666666666893, 506.833333333356, 507.0000000000227, 507.16666666668937, 507.33333333335605, 507.50000000002274, 507.6666666666894, 507.8333333333561, 508.0000000000228, 508.1666666666895, 508.33333333335617, 508.50000000002285, 508.66666666668954, 508.8333333333562, 509.0000000000229, 509.1666666666896, 509.3333333333563, 509.50000000002296, 509.66666666668965, 509.83333333335634, 510.000000000023, 510.1666666666897, 510.3333333333564, 510.5000000000231, 510.66666666668976, 510.83333333335645, 511.00000000002314, 511.1666666666898, 511.3333333333565, 511.5000000000232, 511.6666666666899, 511.83333333335656, 512.0000000000232, 512.1666666666898, 512.3333333333564, 512.5000000000231, 512.6666666666897, 512.8333333333563, 513.000000000023, 513.1666666666896, 513.3333333333562, 513.5000000000229, 513.6666666666895, 513.8333333333561, 514.0000000000227, 514.1666666666894, 514.333333333356, 514.5000000000226, 514.6666666666893, 514.8333333333559, 515.0000000000225, 515.1666666666891, 515.3333333333558, 515.5000000000224, 515.666666666689, 515.8333333333557, 516.0000000000223, 516.1666666666889, 516.3333333333555, 516.5000000000222, 516.6666666666888, 516.8333333333554, 517.000000000022, 517.1666666666887, 517.3333333333553, 517.5000000000219, 517.6666666666886, 517.8333333333552, 518.0000000000218, 518.1666666666885, 518.3333333333551, 518.5000000000217, 518.6666666666883, 518.833333333355, 519.0000000000216, 519.1666666666882, 519.3333333333549, 519.5000000000215, 519.6666666666881, 519.8333333333547, 520.0000000000214, 520.166666666688, 520.3333333333546, 520.5000000000213, 520.6666666666879, 520.8333333333545, 521.0000000000211, 521.1666666666878, 521.3333333333544, 521.500000000021, 521.6666666666877, 521.8333333333543, 522.0000000000209, 522.1666666666875, 522.3333333333542, 522.5000000000208, 522.6666666666874, 522.8333333333541, 523.0000000000207, 523.1666666666873, 523.333333333354, 523.5000000000206, 523.6666666666872, 523.8333333333538, 524.0000000000205, 524.1666666666871, 524.3333333333537, 524.5000000000203, 524.666666666687, 524.8333333333536, 525.0000000000202, 525.1666666666869, 525.3333333333535, 525.5000000000201, 525.6666666666868, 525.8333333333534, 526.00000000002, 526.1666666666866, 526.3333333333533, 526.5000000000199, 526.6666666666865, 526.8333333333532, 527.0000000000198, 527.1666666666864, 527.333333333353, 527.5000000000197, 527.6666666666863, 527.8333333333529, 528.0000000000196, 528.1666666666862, 528.3333333333528, 528.5000000000194, 528.6666666666861, 528.8333333333527, 529.0000000000193, 529.166666666686, 529.3333333333526, 529.5000000000192, 529.6666666666858, 529.8333333333525, 530.0000000000191, 530.1666666666857, 530.3333333333524, 530.500000000019, 530.6666666666856, 530.8333333333522, 531.0000000000189, 531.1666666666855, 531.3333333333521, 531.5000000000188, 531.6666666666854, 531.833333333352, 532.0000000000186, 532.1666666666853, 532.3333333333519, 532.5000000000185, 532.6666666666852, 532.8333333333518, 533.0000000000184, 533.166666666685, 533.3333333333517, 533.5000000000183, 533.6666666666849, 533.8333333333516, 534.0000000000182, 534.1666666666848, 534.3333333333514, 534.5000000000181, 534.6666666666847, 534.8333333333513, 535.000000000018, 535.1666666666846, 535.3333333333512, 535.5000000000178, 535.6666666666845, 535.8333333333511, 536.0000000000177, 536.1666666666844, 536.333333333351, 536.5000000000176, 536.6666666666843, 536.8333333333509, 537.0000000000175, 537.1666666666841, 537.3333333333508, 537.5000000000174, 537.666666666684, 537.8333333333507, 538.0000000000173, 538.1666666666839, 538.3333333333505, 538.5000000000172, 538.6666666666838, 538.8333333333504, 539.000000000017, 539.1666666666837, 539.3333333333503, 539.5000000000169, 539.6666666666836, 539.8333333333502, 540.0000000000168, 540.1666666666835, 540.3333333333501, 540.5000000000167, 540.6666666666833, 540.83333333335, 541.0000000000166, 541.1666666666832, 541.3333333333499, 541.5000000000165, 541.6666666666831, 541.8333333333497, 542.0000000000164, 542.166666666683, 542.3333333333496, 542.5000000000163, 542.6666666666829, 542.8333333333495, 543.0000000000161, 543.1666666666828, 543.3333333333494, 543.500000000016, 543.6666666666827, 543.8333333333493, 544.0000000000159, 544.1666666666825, 544.3333333333492, 544.5000000000158, 544.6666666666824, 544.8333333333491, 545.0000000000157, 545.1666666666823, 545.333333333349, 545.5000000000156, 545.6666666666822, 545.8333333333488, 546.0000000000155, 546.1666666666821, 546.3333333333487, 546.5000000000153, 546.666666666682, 546.8333333333486, 547.0000000000152, 547.1666666666819, 547.3333333333485, 547.5000000000151, 547.6666666666817, 547.8333333333484, 548.000000000015, 548.1666666666816, 548.3333333333483, 548.5000000000149, 548.6666666666815, 548.8333333333482, 549.0000000000148, 549.1666666666814, 549.333333333348, 549.5000000000147, 549.6666666666813, 549.8333333333479, 550.0000000000146, 550.1666666666812, 550.3333333333478, 550.5000000000144, 550.6666666666811, 550.8333333333477, 551.0000000000143, 551.166666666681, 551.3333333333476, 551.5000000000142, 551.6666666666808, 551.8333333333475, 552.0000000000141, 552.1666666666807, 552.3333333333474, 552.500000000014, 552.6666666666806, 552.8333333333472, 553.0000000000139, 553.1666666666805, 553.3333333333471, 553.5000000000138, 553.6666666666804, 553.833333333347, 554.0000000000136, 554.1666666666803, 554.3333333333469, 554.5000000000135, 554.6666666666802, 554.8333333333468, 555.0000000000134, 555.16666666668, 555.3333333333467, 555.5000000000133, 555.6666666666799, 555.8333333333466, 556.0000000000132, 556.1666666666798, 556.3333333333464, 556.5000000000131, 556.6666666666797, 556.8333333333463, 557.000000000013, 557.1666666666796, 557.3333333333462, 557.5000000000128, 557.6666666666795, 557.8333333333461, 558.0000000000127, 558.1666666666794, 558.333333333346, 558.5000000000126, 558.6666666666792, 558.8333333333459, 559.0000000000125, 559.1666666666791, 559.3333333333458, 559.5000000000124, 559.666666666679, 559.8333333333456, 560.0000000000123, 560.1666666666789, 560.3333333333455, 560.5000000000122, 560.6666666666788, 560.8333333333454, 561.000000000012, 561.1666666666787, 561.3333333333453, 561.5000000000119, 561.6666666666786, 561.8333333333452, 562.0000000000118, 562.1666666666785, 562.3333333333451, 562.5000000000117, 562.6666666666783, 562.833333333345, 563.0000000000116, 563.1666666666782, 563.3333333333449, 563.5000000000115, 563.6666666666781, 563.8333333333447, 564.0000000000114, 564.166666666678, 564.3333333333446, 564.5000000000113, 564.6666666666779, 564.8333333333445, 565.0000000000111, 565.1666666666778, 565.3333333333444, 565.500000000011, 565.6666666666777, 565.8333333333443, 566.0000000000109, 566.1666666666775, 566.3333333333442, 566.5000000000108, 566.6666666666774, 566.8333333333441, 567.0000000000107, 567.1666666666773, 567.333333333344, 567.5000000000106, 567.6666666666772, 567.8333333333438, 568.0000000000105, 568.1666666666771, 568.3333333333437, 568.5000000000103, 568.666666666677, 568.8333333333436, 569.0000000000102, 569.1666666666769, 569.3333333333435, 569.5000000000101, 569.6666666666767, 569.8333333333434, 570.00000000001, 570.1666666666766, 570.3333333333433, 570.5000000000099, 570.6666666666765, 570.8333333333431, 571.0000000000098, 571.1666666666764, 571.333333333343, 571.5000000000097, 571.6666666666763, 571.8333333333429, 572.0000000000095, 572.1666666666762, 572.3333333333428, 572.5000000000094, 572.6666666666761, 572.8333333333427, 573.0000000000093, 573.166666666676, 573.3333333333426, 573.5000000000092, 573.6666666666758, 573.8333333333425, 574.0000000000091, 574.1666666666757, 574.3333333333424, 574.500000000009, 574.6666666666756, 574.8333333333422, 575.0000000000089, 575.1666666666755, 575.3333333333421, 575.5000000000088, 575.6666666666754, 575.833333333342, 576.0000000000086, 576.1666666666753, 576.3333333333419, 576.5000000000085, 576.6666666666752, 576.8333333333418, 577.0000000000084, 577.166666666675, 577.3333333333417, 577.5000000000083, 577.6666666666749, 577.8333333333416, 578.0000000000082, 578.1666666666748, 578.3333333333414, 578.5000000000081, 578.6666666666747, 578.8333333333413, 579.000000000008, 579.1666666666746, 579.3333333333412, 579.5000000000078, 579.6666666666745, 579.8333333333411, 580.0000000000077, 580.1666666666744, 580.333333333341, 580.5000000000076, 580.6666666666742, 580.8333333333409, 581.0000000000075, 581.1666666666741, 581.3333333333408, 581.5000000000074, 581.666666666674, 581.8333333333406, 582.0000000000073, 582.1666666666739, 582.3333333333405, 582.5000000000072, 582.6666666666738, 582.8333333333404, 583.000000000007, 583.1666666666737, 583.3333333333403, 583.5000000000069, 583.6666666666736, 583.8333333333402, 584.0000000000068, 584.1666666666734, 584.3333333333401, 584.5000000000067, 584.6666666666733, 584.83333333334, 585.0000000000066, 585.1666666666732, 585.3333333333399, 585.5000000000065, 585.6666666666731, 585.8333333333397, 586.0000000000064, 586.166666666673, 586.3333333333396, 586.5000000000063, 586.6666666666729, 586.8333333333395, 587.0000000000061, 587.1666666666728, 587.3333333333394, 587.500000000006, 587.6666666666727, 587.8333333333393, 588.0000000000059, 588.1666666666725, 588.3333333333392, 588.5000000000058, 588.6666666666724, 588.833333333339, 589.0000000000057, 589.1666666666723, 589.3333333333389, 589.5000000000056, 589.6666666666722, 589.8333333333388, 590.0000000000055, 590.1666666666721, 590.3333333333387, 590.5000000000053, 590.666666666672, 590.8333333333386, 591.0000000000052, 591.1666666666719, 591.3333333333385, 591.5000000000051, 591.6666666666717, 591.8333333333384, 592.000000000005, 592.1666666666716, 592.3333333333383, 592.5000000000049, 592.6666666666715, 592.8333333333381, 593.0000000000048, 593.1666666666714, 593.333333333338, 593.5000000000047, 593.6666666666713, 593.8333333333379, 594.0000000000045, 594.1666666666712, 594.3333333333378, 594.5000000000044, 594.6666666666711, 594.8333333333377, 595.0000000000043, 595.166666666671, 595.3333333333376, 595.5000000000042, 595.6666666666708, 595.8333333333375, 596.0000000000041, 596.1666666666707, 596.3333333333374, 596.500000000004, 596.6666666666706, 596.8333333333372, 597.0000000000039, 597.1666666666705, 597.3333333333371, 597.5000000000038, 597.6666666666704, 597.833333333337, 598.0000000000036, 598.1666666666703, 598.3333333333369, 598.5000000000035, 598.6666666666702, 598.8333333333368, 599.0000000000034, 599.16666666667, 599.3333333333367, 599.5000000000033, 599.6666666666699, 599.8333333333366, 600.0000000000032, 600.1666666666698, 600.3333333333364, 600.5000000000031, 600.6666666666697, 600.8333333333363, 601.000000000003, 601.1666666666696, 601.3333333333362, 601.5000000000028, 601.6666666666695, 601.8333333333361, 602.0000000000027, 602.1666666666694, 602.333333333336, 602.5000000000026, 602.6666666666692, 602.8333333333359, 603.0000000000025, 603.1666666666691, 603.3333333333358, 603.5000000000024, 603.666666666669, 603.8333333333356, 604.0000000000023, 604.1666666666689, 604.3333333333355, 604.5000000000022, 604.6666666666688, 604.8333333333354, 605.000000000002, 605.1666666666687, 605.3333333333353, 605.5000000000019, 605.6666666666686, 605.8333333333352, 606.0000000000018, 606.1666666666684, 606.3333333333351, 606.5000000000017, 606.6666666666683, 606.833333333335, 607.0000000000016, 607.1666666666682, 607.3333333333348, 607.5000000000015, 607.6666666666681, 607.8333333333347, 608.0000000000014, 608.166666666668, 608.3333333333346, 608.5000000000013, 608.6666666666679, 608.8333333333345, 609.0000000000011, 609.1666666666678, 609.3333333333344, 609.500000000001, 609.6666666666677, 609.8333333333343, 610.0000000000009, 610.1666666666675, 610.3333333333342, 610.5000000000008, 610.6666666666674, 610.833333333334, 611.0000000000007, 611.1666666666673, 611.3333333333339, 611.5000000000006, 611.6666666666672, 611.8333333333338, 612.0000000000005, 612.1666666666671, 612.3333333333337, 612.5000000000003, 612.666666666667, 612.8333333333336, 613.0000000000002, 613.1666666666669, 613.3333333333335, 613.5000000000001, 613.6666666666667, 613.8333333333334, 614.0, 614.1666666666666, 614.3333333333333, 614.4999999999999, 614.6666666666665, 614.8333333333331, 614.9999999999998, 615.1666666666664, 615.333333333333, 615.4999999999997, 615.6666666666663, 615.8333333333329, 615.9999999999995, 616.1666666666662, 616.3333333333328, 616.4999999999994, 616.6666666666661, 616.8333333333327, 616.9999999999993, 617.166666666666, 617.3333333333326, 617.4999999999992, 617.6666666666658, 617.8333333333325, 617.9999999999991, 618.1666666666657, 618.3333333333323, 618.499999999999, 618.6666666666656, 618.8333333333322, 618.9999999999989, 619.1666666666655, 619.3333333333321, 619.4999999999987, 619.6666666666654, 619.833333333332, 619.9999999999986, 620.1666666666653, 620.3333333333319, 620.4999999999985, 620.6666666666652, 620.8333333333318, 620.9999999999984, 621.166666666665, 621.3333333333317, 621.4999999999983, 621.6666666666649, 621.8333333333316, 621.9999999999982, 622.1666666666648, 622.3333333333314, 622.4999999999981, 622.6666666666647, 622.8333333333313, 622.999999999998, 623.1666666666646, 623.3333333333312, 623.4999999999978, 623.6666666666645, 623.8333333333311, 623.9999999999977, 624.1666666666644, 624.333333333331, 624.4999999999976, 624.6666666666642, 624.8333333333309, 624.9999999999975, 625.1666666666641, 625.3333333333308, 625.4999999999974, 625.666666666664, 625.8333333333306, 625.9999999999973, 626.1666666666639, 626.3333333333305, 626.4999999999972, 626.6666666666638, 626.8333333333304, 626.999999999997, 627.1666666666637, 627.3333333333303, 627.4999999999969, 627.6666666666636, 627.8333333333302, 627.9999999999968, 628.1666666666634, 628.3333333333301, 628.4999999999967, 628.6666666666633, 628.83333333333, 628.9999999999966, 629.1666666666632, 629.3333333333298, 629.4999999999965, 629.6666666666631, 629.8333333333297, 629.9999999999964, 630.166666666663, 630.3333333333296, 630.4999999999962, 630.6666666666629, 630.8333333333295, 630.9999999999961, 631.1666666666628, 631.3333333333294, 631.499999999996, 631.6666666666626, 631.8333333333293, 631.9999999999959, 632.1666666666625, 632.3333333333292, 632.4999999999958, 632.6666666666624, 632.833333333329, 632.9999999999957, 633.1666666666623, 633.3333333333289, 633.4999999999956, 633.6666666666622, 633.8333333333288, 633.9999999999955, 634.1666666666621, 634.3333333333287, 634.4999999999953, 634.666666666662, 634.8333333333286, 634.9999999999952, 635.1666666666619, 635.3333333333285, 635.4999999999951, 635.6666666666617, 635.8333333333284, 635.999999999995, 636.1666666666616, 636.3333333333283, 636.4999999999949, 636.6666666666615, 636.8333333333281, 636.9999999999948, 637.1666666666614, 637.333333333328, 637.4999999999947, 637.6666666666613, 637.8333333333279, 637.9999999999945, 638.1666666666612, 638.3333333333278, 638.4999999999944, 638.6666666666611, 638.8333333333277, 638.9999999999943, 639.166666666661, 639.3333333333276, 639.4999999999942, 639.6666666666608, 639.8333333333275, 639.9999999999941, 640.1666666666607, 640.3333333333273, 640.499999999994, 640.6666666666606, 640.8333333333272, 640.9999999999939, 641.1666666666605, 641.3333333333271, 641.4999999999937, 641.6666666666604, 641.833333333327, 641.9999999999936, 642.1666666666603, 642.3333333333269, 642.4999999999935, 642.6666666666601, 642.8333333333268, 642.9999999999934, 643.16666666666, 643.3333333333267, 643.4999999999933, 643.6666666666599, 643.8333333333266, 643.9999999999932, 644.1666666666598, 644.3333333333264, 644.4999999999931, 644.6666666666597, 644.8333333333263, 644.999999999993, 645.1666666666596, 645.3333333333262, 645.4999999999928, 645.6666666666595, 645.8333333333261, 645.9999999999927, 646.1666666666594, 646.333333333326, 646.4999999999926, 646.6666666666592, 646.8333333333259, 646.9999999999925, 647.1666666666591, 647.3333333333258, 647.4999999999924, 647.666666666659, 647.8333333333256, 647.9999999999923, 648.1666666666589, 648.3333333333255, 648.4999999999922, 648.6666666666588, 648.8333333333254, 648.999999999992, 649.1666666666587, 649.3333333333253, 649.4999999999919, 649.6666666666586, 649.8333333333252, 649.9999999999918, 650.1666666666584, 650.3333333333251, 650.4999999999917, 650.6666666666583, 650.833333333325, 650.9999999999916, 651.1666666666582, 651.3333333333248, 651.4999999999915, 651.6666666666581, 651.8333333333247, 651.9999999999914, 652.166666666658, 652.3333333333246, 652.4999999999912, 652.6666666666579, 652.8333333333245, 652.9999999999911, 653.1666666666578, 653.3333333333244, 653.499999999991, 653.6666666666576, 653.8333333333243, 653.9999999999909, 654.1666666666575, 654.3333333333242, 654.4999999999908, 654.6666666666574, 654.833333333324, 654.9999999999907, 655.1666666666573, 655.3333333333239, 655.4999999999906, 655.6666666666572, 655.8333333333238, 655.9999999999905, 656.1666666666571, 656.3333333333237, 656.4999999999903, 656.666666666657, 656.8333333333236, 656.9999999999902, 657.1666666666569, 657.3333333333235, 657.4999999999901, 657.6666666666567, 657.8333333333234, 657.99999999999, 658.1666666666566, 658.3333333333233, 658.4999999999899, 658.6666666666565, 658.8333333333231, 658.9999999999898, 659.1666666666564, 659.333333333323, 659.4999999999897, 659.6666666666563, 659.8333333333229, 659.9999999999895, 660.1666666666562, 660.3333333333228, 660.4999999999894, 660.666666666656, 660.8333333333227, 660.9999999999893, 661.1666666666559, 661.3333333333226, 661.4999999999892, 661.6666666666558, 661.8333333333225, 661.9999999999891, 662.1666666666557, 662.3333333333223, 662.499999999989, 662.6666666666556, 662.8333333333222, 662.9999999999889, 663.1666666666555, 663.3333333333221, 663.4999999999887, 663.6666666666554, 663.833333333322, 663.9999999999886, 664.1666666666553, 664.3333333333219, 664.4999999999885, 664.6666666666551, 664.8333333333218, 664.9999999999884, 665.166666666655, 665.3333333333217, 665.4999999999883, 665.6666666666549, 665.8333333333215, 665.9999999999882, 666.1666666666548, 666.3333333333214, 666.4999999999881, 666.6666666666547, 666.8333333333213, 666.999999999988, 667.1666666666546, 667.3333333333212, 667.4999999999878, 667.6666666666545, 667.8333333333211, 667.9999999999877, 668.1666666666544, 668.333333333321, 668.4999999999876, 668.6666666666542, 668.8333333333209, 668.9999999999875, 669.1666666666541, 669.3333333333208, 669.4999999999874, 669.666666666654, 669.8333333333206, 669.9999999999873, 670.1666666666539, 670.3333333333205, 670.4999999999872, 670.6666666666538, 670.8333333333204, 670.999999999987, 671.1666666666537, 671.3333333333203, 671.4999999999869, 671.6666666666536, 671.8333333333202, 671.9999999999868, 672.1666666666534, 672.3333333333201, 672.4999999999867, 672.6666666666533, 672.83333333332, 672.9999999999866, 673.1666666666532, 673.3333333333198, 673.4999999999865, 673.6666666666531, 673.8333333333197, 673.9999999999864, 674.166666666653, 674.3333333333196, 674.4999999999862, 674.6666666666529, 674.8333333333195, 674.9999999999861, 675.1666666666528, 675.3333333333194, 675.499999999986, 675.6666666666526, 675.8333333333193, 675.9999999999859, 676.1666666666525, 676.3333333333192, 676.4999999999858, 676.6666666666524, 676.833333333319, 676.9999999999857, 677.1666666666523, 677.3333333333189, 677.4999999999856, 677.6666666666522, 677.8333333333188, 677.9999999999854, 678.1666666666521, 678.3333333333187, 678.4999999999853, 678.666666666652, 678.8333333333186, 678.9999999999852, 679.1666666666518, 679.3333333333185, 679.4999999999851, 679.6666666666517, 679.8333333333184, 679.999999999985, 680.1666666666516, 680.3333333333183, 680.4999999999849, 680.6666666666515, 680.8333333333181, 680.9999999999848, 681.1666666666514, 681.333333333318, 681.4999999999847, 681.6666666666513, 681.8333333333179, 681.9999999999845, 682.1666666666512, 682.3333333333178, 682.4999999999844, 682.666666666651, 682.8333333333177, 682.9999999999843, 683.1666666666509, 683.3333333333176, 683.4999999999842, 683.6666666666508, 683.8333333333175, 683.9999999999841, 684.1666666666507, 684.3333333333173, 684.499999999984, 684.6666666666506, 684.8333333333172, 684.9999999999839, 685.1666666666505, 685.3333333333171, 685.4999999999837, 685.6666666666504, 685.833333333317, 685.9999999999836, 686.1666666666503, 686.3333333333169, 686.4999999999835, 686.6666666666501, 686.8333333333168, 686.9999999999834, 687.16666666665, 687.3333333333167, 687.4999999999833, 687.6666666666499, 687.8333333333165, 687.9999999999832, 688.1666666666498, 688.3333333333164, 688.4999999999831, 688.6666666666497, 688.8333333333163, 688.999999999983, 689.1666666666496, 689.3333333333162, 689.4999999999828, 689.6666666666495, 689.8333333333161, 689.9999999999827, 690.1666666666493, 690.333333333316, 690.4999999999826, 690.6666666666492, 690.8333333333159, 690.9999999999825, 691.1666666666491, 691.3333333333157, 691.4999999999824, 691.666666666649, 691.8333333333156, 691.9999999999823, 692.1666666666489, 692.3333333333155, 692.4999999999822, 692.6666666666488, 692.8333333333154, 692.999999999982, 693.1666666666487, 693.3333333333153, 693.4999999999819, 693.6666666666486, 693.8333333333152, 693.9999999999818, 694.1666666666484, 694.3333333333151, 694.4999999999817, 694.6666666666483, 694.833333333315, 694.9999999999816, 695.1666666666482, 695.3333333333148, 695.4999999999815, 695.6666666666481, 695.8333333333147, 695.9999999999814, 696.166666666648, 696.3333333333146, 696.4999999999812, 696.6666666666479, 696.8333333333145, 696.9999999999811, 697.1666666666478, 697.3333333333144, 697.499999999981, 697.6666666666476, 697.8333333333143, 697.9999999999809, 698.1666666666475, 698.3333333333142, 698.4999999999808, 698.6666666666474, 698.833333333314, 698.9999999999807, 699.1666666666473, 699.3333333333139, 699.4999999999806, 699.6666666666472, 699.8333333333138, 699.9999999999804, 700.1666666666471, 700.3333333333137, 700.4999999999803, 700.666666666647, 700.8333333333136, 700.9999999999802, 701.1666666666468, 701.3333333333135, 701.4999999999801, 701.6666666666467, 701.8333333333134, 701.99999999998, 702.1666666666466, 702.3333333333132, 702.4999999999799, 702.6666666666465, 702.8333333333131, 702.9999999999798, 703.1666666666464, 703.333333333313, 703.4999999999797, 703.6666666666463, 703.8333333333129, 703.9999999999795, 704.1666666666462, 704.3333333333128, 704.4999999999794, 704.666666666646, 704.8333333333127, 704.9999999999793, 705.1666666666459, 705.3333333333126, 705.4999999999792, 705.6666666666458, 705.8333333333125, 705.9999999999791, 706.1666666666457, 706.3333333333123, 706.499999999979, 706.6666666666456, 706.8333333333122, 706.9999999999789, 707.1666666666455, 707.3333333333121, 707.4999999999787, 707.6666666666454, 707.833333333312, 707.9999999999786, 708.1666666666453, 708.3333333333119, 708.4999999999785, 708.6666666666451, 708.8333333333118, 708.9999999999784, 709.166666666645, 709.3333333333117, 709.4999999999783, 709.6666666666449, 709.8333333333115, 709.9999999999782, 710.1666666666448, 710.3333333333114, 710.4999999999781, 710.6666666666447, 710.8333333333113, 710.999999999978, 711.1666666666446, 711.3333333333112, 711.4999999999778, 711.6666666666445, 711.8333333333111, 711.9999999999777, 712.1666666666443, 712.333333333311, 712.4999999999776, 712.6666666666442, 712.8333333333109, 712.9999999999775, 713.1666666666441, 713.3333333333107, 713.4999999999774, 713.666666666644, 713.8333333333106, 713.9999999999773, 714.1666666666439, 714.3333333333105, 714.4999999999771, 714.6666666666438, 714.8333333333104, 714.999999999977, 715.1666666666437, 715.3333333333103, 715.4999999999769, 715.6666666666436, 715.8333333333102, 715.9999999999768, 716.1666666666434, 716.3333333333101, 716.4999999999767, 716.6666666666433, 716.83333333331, 716.9999999999766, 717.1666666666432, 717.3333333333098, 717.4999999999765, 717.6666666666431, 717.8333333333097, 717.9999999999764, 718.166666666643, 718.3333333333096, 718.4999999999762, 718.6666666666429, 718.8333333333095, 718.9999999999761, 719.1666666666428, 719.3333333333094, 719.499999999976, 719.6666666666426, 719.8333333333093, 719.9999999999759, 720.1666666666425, 720.3333333333092, 720.4999999999758, 720.6666666666424, 720.833333333309, 720.9999999999757, 721.1666666666423, 721.3333333333089, 721.4999999999756, 721.6666666666422, 721.8333333333088, 721.9999999999754, 722.1666666666421, 722.3333333333087, 722.4999999999753, 722.666666666642, 722.8333333333086, 722.9999999999752, 723.1666666666418, 723.3333333333085, 723.4999999999751, 723.6666666666417, 723.8333333333084, 723.999999999975, 724.1666666666416, 724.3333333333082, 724.4999999999749, 724.6666666666415, 724.8333333333081, 724.9999999999748, 725.1666666666414, 725.333333333308, 725.4999999999746, 725.6666666666413, 725.8333333333079, 725.9999999999745, 726.1666666666412, 726.3333333333078, 726.4999999999744, 726.666666666641, 726.8333333333077, 726.9999999999743, 727.1666666666409, 727.3333333333076, 727.4999999999742, 727.6666666666408, 727.8333333333075, 727.9999999999741, 728.1666666666407, 728.3333333333073, 728.499999999974, 728.6666666666406, 728.8333333333072, 728.9999999999739, 729.1666666666405, 729.3333333333071, 729.4999999999737, 729.6666666666404, 729.833333333307, 729.9999999999736, 730.1666666666403, 730.3333333333069, 730.4999999999735, 730.6666666666401, 730.8333333333068, 730.9999999999734, 731.16666666664, 731.3333333333067, 731.4999999999733, 731.6666666666399, 731.8333333333065, 731.9999999999732, 732.1666666666398, 732.3333333333064, 732.499999999973, 732.6666666666397, 732.8333333333063, 732.9999999999729, 733.1666666666396, 733.3333333333062, 733.4999999999728, 733.6666666666395, 733.8333333333061, 733.9999999999727, 734.1666666666393, 734.333333333306, 734.4999999999726, 734.6666666666392, 734.8333333333059, 734.9999999999725, 735.1666666666391, 735.3333333333057, 735.4999999999724, 735.666666666639, 735.8333333333056, 735.9999999999723, 736.1666666666389, 736.3333333333055, 736.4999999999721, 736.6666666666388, 736.8333333333054, 736.999999999972, 737.1666666666387, 737.3333333333053, 737.4999999999719, 737.6666666666385, 737.8333333333052, 737.9999999999718, 738.1666666666384, 738.3333333333051, 738.4999999999717, 738.6666666666383, 738.833333333305, 738.9999999999716, 739.1666666666382, 739.3333333333048, 739.4999999999715, 739.6666666666381, 739.8333333333047, 739.9999999999714, 740.166666666638, 740.3333333333046, 740.4999999999712, 740.6666666666379, 740.8333333333045, 740.9999999999711, 741.1666666666378, 741.3333333333044, 741.499999999971, 741.6666666666376, 741.8333333333043, 741.9999999999709, 742.1666666666375, 742.3333333333042, 742.4999999999708, 742.6666666666374, 742.833333333304, 742.9999999999707, 743.1666666666373, 743.3333333333039, 743.4999999999706, 743.6666666666372, 743.8333333333038, 743.9999999999704, 744.1666666666371, 744.3333333333037, 744.4999999999703, 744.666666666637, 744.8333333333036, 744.9999999999702, 745.1666666666368, 745.3333333333035, 745.4999999999701, 745.6666666666367, 745.8333333333034, 745.99999999997, 746.1666666666366, 746.3333333333032, 746.4999999999699, 746.6666666666365, 746.8333333333031, 746.9999999999698, 747.1666666666364, 747.333333333303, 747.4999999999696, 747.6666666666363, 747.8333333333029, 747.9999999999695, 748.1666666666362, 748.3333333333028, 748.4999999999694, 748.666666666636, 748.8333333333027, 748.9999999999693, 749.1666666666359, 749.3333333333026, 749.4999999999692, 749.6666666666358, 749.8333333333024, 749.9999999999691, 750.1666666666357, 750.3333333333023, 750.499999999969, 750.6666666666356, 750.8333333333022, 750.9999999999688, 751.1666666666355, 751.3333333333021, 751.4999999999687, 751.6666666666354, 751.833333333302, 751.9999999999686, 752.1666666666353, 752.3333333333019, 752.4999999999685, 752.6666666666351, 752.8333333333018, 752.9999999999684, 753.166666666635, 753.3333333333017, 753.4999999999683, 753.6666666666349, 753.8333333333015, 753.9999999999682, 754.1666666666348, 754.3333333333014, 754.499999999968, 754.6666666666347, 754.8333333333013, 754.9999999999679, 755.1666666666346, 755.3333333333012, 755.4999999999678, 755.6666666666345, 755.8333333333011, 755.9999999999677, 756.1666666666343, 756.333333333301, 756.4999999999676, 756.6666666666342, 756.8333333333009, 756.9999999999675, 757.1666666666341, 757.3333333333007, 757.4999999999674, 757.666666666634, 757.8333333333006, 757.9999999999673, 758.1666666666339, 758.3333333333005, 758.4999999999671, 758.6666666666338, 758.8333333333004, 758.999999999967, 759.1666666666337, 759.3333333333003, 759.4999999999669, 759.6666666666335, 759.8333333333002, 759.9999999999668, 760.1666666666334, 760.3333333333001, 760.4999999999667, 760.6666666666333, 760.8333333333, 760.9999999999666, 761.1666666666332, 761.3333333332998, 761.4999999999665, 761.6666666666331, 761.8333333332997, 761.9999999999663, 762.166666666633, 762.3333333332996, 762.4999999999662, 762.6666666666329, 762.8333333332995, 762.9999999999661, 763.1666666666328, 763.3333333332994, 763.499999999966, 763.6666666666326, 763.8333333332993, 763.9999999999659, 764.1666666666325, 764.3333333332992, 764.4999999999658, 764.6666666666324, 764.833333333299, 764.9999999999657, 765.1666666666323, 765.3333333332989, 765.4999999999656, 765.6666666666322, 765.8333333332988, 765.9999999999654, 766.1666666666321, 766.3333333332987, 766.4999999999653, 766.666666666632, 766.8333333332986, 766.9999999999652, 767.1666666666318, 767.3333333332985, 767.4999999999651, 767.6666666666317, 767.8333333332984, 767.999999999965, 768.1666666666316, 768.3333333332982, 768.4999999999649, 768.6666666666315, 768.8333333332981, 768.9999999999648, 769.1666666666314, 769.333333333298, 769.4999999999646, 769.6666666666313, 769.8333333332979, 769.9999999999645, 770.1666666666312, 770.3333333332978, 770.4999999999644, 770.666666666631, 770.8333333332977, 770.9999999999643, 771.1666666666309, 771.3333333332976, 771.4999999999642, 771.6666666666308, 771.8333333332974, 771.9999999999641, 772.1666666666307, 772.3333333332973, 772.499999999964, 772.6666666666306, 772.8333333332972, 772.9999999999638, 773.1666666666305, 773.3333333332971, 773.4999999999637, 773.6666666666304, 773.833333333297, 773.9999999999636, 774.1666666666302, 774.3333333332969, 774.4999999999635, 774.6666666666301, 774.8333333332968, 774.9999999999634, 775.16666666663, 775.3333333332967, 775.4999999999633, 775.6666666666299, 775.8333333332965, 775.9999999999632, 776.1666666666298, 776.3333333332964, 776.499999999963, 776.6666666666297, 776.8333333332963, 776.9999999999629, 777.1666666666296, 777.3333333332962, 777.4999999999628, 777.6666666666295, 777.8333333332961, 777.9999999999627, 778.1666666666293, 778.333333333296, 778.4999999999626, 778.6666666666292, 778.8333333332959, 778.9999999999625, 779.1666666666291, 779.3333333332957, 779.4999999999624, 779.666666666629, 779.8333333332956, 779.9999999999623, 780.1666666666289, 780.3333333332955, 780.4999999999621, 780.6666666666288, 780.8333333332954, 780.999999999962, 781.1666666666287, 781.3333333332953, 781.4999999999619, 781.6666666666285, 781.8333333332952, 781.9999999999618, 782.1666666666284, 782.3333333332951, 782.4999999999617, 782.6666666666283, 782.833333333295, 782.9999999999616, 783.1666666666282, 783.3333333332948, 783.4999999999615, 783.6666666666281, 783.8333333332947, 783.9999999999613, 784.166666666628, 784.3333333332946, 784.4999999999612, 784.6666666666279, 784.8333333332945, 784.9999999999611, 785.1666666666277, 785.3333333332944, 785.499999999961, 785.6666666666276, 785.8333333332943, 785.9999999999609, 786.1666666666275, 786.3333333332941, 786.4999999999608, 786.6666666666274, 786.833333333294, 786.9999999999607, 787.1666666666273, 787.3333333332939, 787.4999999999606, 787.6666666666272, 787.8333333332938, 787.9999999999604, 788.1666666666271, 788.3333333332937, 788.4999999999603, 788.666666666627, 788.8333333332936, 788.9999999999602, 789.1666666666268, 789.3333333332935, 789.4999999999601, 789.6666666666267, 789.8333333332934, 789.99999999996, 790.1666666666266, 790.3333333332932, 790.4999999999599, 790.6666666666265, 790.8333333332931, 790.9999999999598, 791.1666666666264, 791.333333333293, 791.4999999999596, 791.6666666666263, 791.8333333332929, 791.9999999999595, 792.1666666666262, 792.3333333332928, 792.4999999999594, 792.666666666626, 792.8333333332927, 792.9999999999593, 793.1666666666259, 793.3333333332926, 793.4999999999592, 793.6666666666258, 793.8333333332924, 793.9999999999591, 794.1666666666257, 794.3333333332923, 794.499999999959, 794.6666666666256, 794.8333333332922, 794.9999999999588, 795.1666666666255, 795.3333333332921, 795.4999999999587, 795.6666666666254, 795.833333333292, 795.9999999999586, 796.1666666666252, 796.3333333332919, 796.4999999999585, 796.6666666666251, 796.8333333332918, 796.9999999999584, 797.166666666625, 797.3333333332916, 797.4999999999583, 797.6666666666249, 797.8333333332915, 797.9999999999582, 798.1666666666248, 798.3333333332914, 798.499999999958, 798.6666666666247, 798.8333333332913, 798.9999999999579, 799.1666666666246, 799.3333333332912, 799.4999999999578, 799.6666666666245, 799.8333333332911, 799.9999999999577, 800.1666666666243, 800.333333333291, 800.4999999999576, 800.6666666666242, 800.8333333332909, 800.9999999999575, 801.1666666666241, 801.3333333332907, 801.4999999999574, 801.666666666624, 801.8333333332906, 801.9999999999573, 802.1666666666239, 802.3333333332905, 802.4999999999571, 802.6666666666238, 802.8333333332904, 802.999999999957, 803.1666666666237, 803.3333333332903, 803.4999999999569, 803.6666666666235, 803.8333333332902, 803.9999999999568, 804.1666666666234, 804.33333333329, 804.4999999999567, 804.6666666666233, 804.8333333332899, 804.9999999999566, 805.1666666666232, 805.3333333332898, 805.4999999999565, 805.6666666666231, 805.8333333332897, 805.9999999999563, 806.166666666623, 806.3333333332896, 806.4999999999562, 806.6666666666229, 806.8333333332895, 806.9999999999561, 807.1666666666227, 807.3333333332894, 807.499999999956, 807.6666666666226, 807.8333333332893, 807.9999999999559, 808.1666666666225, 808.3333333332891, 808.4999999999558, 808.6666666666224, 808.833333333289, 808.9999999999557, 809.1666666666223, 809.3333333332889, 809.4999999999555, 809.6666666666222, 809.8333333332888, 809.9999999999554, 810.1666666666221, 810.3333333332887, 810.4999999999553, 810.666666666622, 810.8333333332886, 810.9999999999552, 811.1666666666218, 811.3333333332885, 811.4999999999551, 811.6666666666217, 811.8333333332884, 811.999999999955, 812.1666666666216, 812.3333333332882, 812.4999999999549, 812.6666666666215, 812.8333333332881, 812.9999999999548, 813.1666666666214, 813.333333333288, 813.4999999999546, 813.6666666666213, 813.8333333332879, 813.9999999999545, 814.1666666666212, 814.3333333332878, 814.4999999999544, 814.666666666621, 814.8333333332877, 814.9999999999543, 815.1666666666209, 815.3333333332876, 815.4999999999542, 815.6666666666208, 815.8333333332874, 815.9999999999541, 816.1666666666207, 816.3333333332873, 816.499999999954, 816.6666666666206, 816.8333333332872, 816.9999999999538, 817.1666666666205, 817.3333333332871, 817.4999999999537, 817.6666666666204, 817.833333333287, 817.9999999999536, 818.1666666666202, 818.3333333332869, 818.4999999999535, 818.6666666666201, 818.8333333332868, 818.9999999999534, 819.16666666662, 819.3333333332866, 819.4999999999533, 819.6666666666199, 819.8333333332865, 819.9999999999532, 820.1666666666198, 820.3333333332864, 820.499999999953, 820.6666666666197, 820.8333333332863, 820.9999999999529, 821.1666666666196, 821.3333333332862, 821.4999999999528, 821.6666666666194, 821.8333333332861, 821.9999999999527, 822.1666666666193, 822.333333333286, 822.4999999999526, 822.6666666666192, 822.8333333332859, 822.9999999999525, 823.1666666666191, 823.3333333332857, 823.4999999999524, 823.666666666619, 823.8333333332856, 823.9999999999523, 824.1666666666189, 824.3333333332855, 824.4999999999521, 824.6666666666188, 824.8333333332854, 824.999999999952, 825.1666666666187, 825.3333333332853, 825.4999999999519, 825.6666666666185, 825.8333333332852, 825.9999999999518, 826.1666666666184, 826.333333333285, 826.4999999999517, 826.6666666666183, 826.8333333332849, 826.9999999999516, 827.1666666666182, 827.3333333332848, 827.4999999999515, 827.6666666666181, 827.8333333332847, 827.9999999999513, 828.166666666618, 828.3333333332846, 828.4999999999512, 828.6666666666179, 828.8333333332845, 828.9999999999511, 829.1666666666177, 829.3333333332844, 829.499999999951, 829.6666666666176, 829.8333333332843, 829.9999999999509, 830.1666666666175, 830.3333333332841, 830.4999999999508, 830.6666666666174, 830.833333333284, 830.9999999999507, 831.1666666666173, 831.3333333332839, 831.4999999999505, 831.6666666666172, 831.8333333332838, 831.9999999999504, 832.1666666666171, 832.3333333332837, 832.4999999999503, 832.666666666617, 832.8333333332836, 832.9999999999502, 833.1666666666168, 833.3333333332835, 833.4999999999501, 833.6666666666167, 833.8333333332833, 833.99999999995, 834.1666666666166, 834.3333333332832, 834.4999999999499, 834.6666666666165, 834.8333333332831, 834.9999999999498, 835.1666666666164, 835.333333333283, 835.4999999999496, 835.6666666666163, 835.8333333332829, 835.9999999999495, 836.1666666666162, 836.3333333332828, 836.4999999999494, 836.666666666616, 836.8333333332827, 836.9999999999493, 837.1666666666159, 837.3333333332826, 837.4999999999492, 837.6666666666158, 837.8333333332824, 837.9999999999491, 838.1666666666157, 838.3333333332823, 838.499999999949, 838.6666666666156, 838.8333333332822, 838.9999999999488, 839.1666666666155, 839.3333333332821, 839.4999999999487, 839.6666666666154, 839.833333333282, 839.9999999999486, 840.1666666666152, 840.3333333332819, 840.4999999999485, 840.6666666666151, 840.8333333332818, 840.9999999999484, 841.166666666615, 841.3333333332816, 841.4999999999483, 841.6666666666149, 841.8333333332815, 841.9999999999482, 842.1666666666148, 842.3333333332814, 842.499999999948, 842.6666666666147, 842.8333333332813, 842.9999999999479, 843.1666666666146, 843.3333333332812, 843.4999999999478, 843.6666666666144, 843.8333333332811, 843.9999999999477, 844.1666666666143, 844.333333333281, 844.4999999999476, 844.6666666666142, 844.8333333332808, 844.9999999999475, 845.1666666666141, 845.3333333332807, 845.4999999999474, 845.666666666614, 845.8333333332806, 845.9999999999472, 846.1666666666139, 846.3333333332805, 846.4999999999471, 846.6666666666138, 846.8333333332804, 846.999999999947, 847.1666666666137, 847.3333333332803, 847.4999999999469, 847.6666666666135, 847.8333333332802, 847.9999999999468, 848.1666666666134, 848.33333333328, 848.4999999999467, 848.6666666666133, 848.8333333332799, 848.9999999999466, 849.1666666666132, 849.3333333332798, 849.4999999999465, 849.6666666666131, 849.8333333332797, 849.9999999999463, 850.166666666613, 850.3333333332796, 850.4999999999462, 850.6666666666129, 850.8333333332795, 850.9999999999461, 851.1666666666127, 851.3333333332794, 851.499999999946, 851.6666666666126, 851.8333333332793, 851.9999999999459, 852.1666666666125, 852.3333333332791, 852.4999999999458, 852.6666666666124, 852.833333333279, 852.9999999999457, 853.1666666666123, 853.3333333332789, 853.4999999999455, 853.6666666666122, 853.8333333332788, 853.9999999999454, 854.1666666666121, 854.3333333332787, 854.4999999999453, 854.666666666612, 854.8333333332786, 854.9999999999452, 855.1666666666118, 855.3333333332785, 855.4999999999451, 855.6666666666117, 855.8333333332783, 855.999999999945, 856.1666666666116, 856.3333333332782, 856.4999999999449, 856.6666666666115, 856.8333333332781, 856.9999999999447, 857.1666666666114, 857.333333333278, 857.4999999999446, 857.6666666666113, 857.8333333332779, 857.9999999999445, 858.1666666666111, 858.3333333332778, 858.4999999999444, 858.666666666611, 858.8333333332777, 858.9999999999443, 859.1666666666109, 859.3333333332776, 859.4999999999442, 859.6666666666108, 859.8333333332774, 859.9999999999441, 860.1666666666107, 860.3333333332773, 860.499999999944, 860.6666666666106, 860.8333333332772, 860.9999999999438, 861.1666666666105, 861.3333333332771, 861.4999999999437, 861.6666666666104, 861.833333333277, 861.9999999999436, 862.1666666666102, 862.3333333332769, 862.4999999999435, 862.6666666666101, 862.8333333332768, 862.9999999999434, 863.16666666661, 863.3333333332766, 863.4999999999433, 863.6666666666099, 863.8333333332765, 863.9999999999432, 864.1666666666098, 864.3333333332764, 864.499999999943, 864.6666666666097, 864.8333333332763, 864.9999999999429, 865.1666666666096, 865.3333333332762, 865.4999999999428, 865.6666666666094, 865.8333333332761, 865.9999999999427, 866.1666666666093, 866.333333333276, 866.4999999999426, 866.6666666666092, 866.8333333332758, 866.9999999999425, 867.1666666666091, 867.3333333332757, 867.4999999999424, 867.666666666609, 867.8333333332756, 867.9999999999422, 868.1666666666089, 868.3333333332755, 868.4999999999421, 868.6666666666088, 868.8333333332754, 868.999999999942, 869.1666666666086, 869.3333333332753, 869.4999999999419, 869.6666666666085, 869.8333333332752, 869.9999999999418, 870.1666666666084, 870.333333333275, 870.4999999999417, 870.6666666666083, 870.8333333332749, 870.9999999999416, 871.1666666666082, 871.3333333332748, 871.4999999999415, 871.6666666666081, 871.8333333332747, 871.9999999999413, 872.166666666608, 872.3333333332746, 872.4999999999412, 872.6666666666079, 872.8333333332745, 872.9999999999411, 873.1666666666077, 873.3333333332744, 873.499999999941, 873.6666666666076, 873.8333333332743, 873.9999999999409, 874.1666666666075, 874.3333333332741, 874.4999999999408, 874.6666666666074, 874.833333333274, 874.9999999999407, 875.1666666666073, 875.3333333332739, 875.4999999999405, 875.6666666666072, 875.8333333332738, 875.9999999999404, 876.1666666666071, 876.3333333332737, 876.4999999999403, 876.666666666607, 876.8333333332736, 876.9999999999402, 877.1666666666068, 877.3333333332735, 877.4999999999401, 877.6666666666067, 877.8333333332733, 877.99999999994, 878.1666666666066, 878.3333333332732, 878.4999999999399, 878.6666666666065, 878.8333333332731, 878.9999999999397, 879.1666666666064, 879.333333333273, 879.4999999999396, 879.6666666666063, 879.8333333332729, 879.9999999999395, 880.1666666666061, 880.3333333332728, 880.4999999999394, 880.666666666606, 880.8333333332727, 880.9999999999393, 881.1666666666059, 881.3333333332725, 881.4999999999392, 881.6666666666058, 881.8333333332724, 881.9999999999391, 882.1666666666057, 882.3333333332723, 882.499999999939, 882.6666666666056, 882.8333333332722, 882.9999999999388, 883.1666666666055, 883.3333333332721, 883.4999999999387, 883.6666666666054, 883.833333333272, 883.9999999999386, 884.1666666666052, 884.3333333332719, 884.4999999999385, 884.6666666666051, 884.8333333332718, 884.9999999999384, 885.166666666605, 885.3333333332716, 885.4999999999383, 885.6666666666049, 885.8333333332715, 885.9999999999382, 886.1666666666048, 886.3333333332714, 886.499999999938, 886.6666666666047, 886.8333333332713, 886.9999999999379, 887.1666666666046, 887.3333333332712, 887.4999999999378, 887.6666666666044, 887.8333333332711, 887.9999999999377, 888.1666666666043, 888.333333333271, 888.4999999999376, 888.6666666666042, 888.8333333332708, 888.9999999999375, 889.1666666666041, 889.3333333332707, 889.4999999999374, 889.666666666604, 889.8333333332706, 889.9999999999372, 890.1666666666039, 890.3333333332705, 890.4999999999371, 890.6666666666038, 890.8333333332704, 890.999999999937, 891.1666666666036, 891.3333333332703, 891.4999999999369, 891.6666666666035, 891.8333333332702, 891.9999999999368, 892.1666666666034, 892.33333333327, 892.4999999999367, 892.6666666666033, 892.8333333332699, 892.9999999999366, 893.1666666666032, 893.3333333332698, 893.4999999999364, 893.6666666666031, 893.8333333332697, 893.9999999999363, 894.166666666603, 894.3333333332696, 894.4999999999362, 894.6666666666029, 894.8333333332695, 894.9999999999361, 895.1666666666027, 895.3333333332694, 895.499999999936, 895.6666666666026, 895.8333333332693, 895.9999999999359, 896.1666666666025, 896.3333333332691, 896.4999999999358, 896.6666666666024, 896.833333333269, 896.9999999999357, 897.1666666666023, 897.3333333332689, 897.4999999999355, 897.6666666666022, 897.8333333332688, 897.9999999999354, 898.166666666602, 898.3333333332687, 898.4999999999353, 898.6666666666019, 898.8333333332686, 898.9999999999352, 899.1666666666018, 899.3333333332685, 899.4999999999351, 899.6666666666017, 899.8333333332683, 899.999999999935, 900.1666666666016, 900.3333333332682, 900.4999999999349, 900.6666666666015, 900.8333333332681, 900.9999999999347, 901.1666666666014, 901.333333333268, 901.4999999999346, 901.6666666666013, 901.8333333332679, 901.9999999999345, 902.1666666666011, 902.3333333332678, 902.4999999999344, 902.666666666601, 902.8333333332677, 902.9999999999343, 903.1666666666009, 903.3333333332675, 903.4999999999342, 903.6666666666008, 903.8333333332674, 903.9999999999341, 904.1666666666007, 904.3333333332673, 904.499999999934, 904.6666666666006, 904.8333333332672, 904.9999999999338, 905.1666666666005, 905.3333333332671, 905.4999999999337, 905.6666666666003, 905.833333333267, 905.9999999999336, 906.1666666666002, 906.3333333332669, 906.4999999999335, 906.6666666666001, 906.8333333332668, 906.9999999999334, 907.1666666666, 907.3333333332666, 907.4999999999333, 907.6666666665999, 907.8333333332665, 907.9999999999332, 908.1666666665998, 908.3333333332664, 908.499999999933, 908.6666666665997, 908.8333333332663, 908.9999999999329, 909.1666666665996, 909.3333333332662, 909.4999999999328, 909.6666666665994, 909.8333333332661, 909.9999999999327, 910.1666666665993, 910.333333333266, 910.4999999999326, 910.6666666665992, 910.8333333332658, 910.9999999999325, 911.1666666665991, 911.3333333332657, 911.4999999999324, 911.666666666599, 911.8333333332656, 911.9999999999322, 912.1666666665989, 912.3333333332655, 912.4999999999321, 912.6666666665988, 912.8333333332654, 912.999999999932, 913.1666666665986, 913.3333333332653, 913.4999999999319, 913.6666666665985, 913.8333333332652, 913.9999999999318, 914.1666666665984, 914.333333333265, 914.4999999999317, 914.6666666665983, 914.8333333332649, 914.9999999999316, 915.1666666665982, 915.3333333332648, 915.4999999999314, 915.6666666665981, 915.8333333332647, 915.9999999999313, 916.166666666598, 916.3333333332646, 916.4999999999312, 916.6666666665978, 916.8333333332645, 916.9999999999311, 917.1666666665977, 917.3333333332644, 917.499999999931, 917.6666666665976, 917.8333333332642, 917.9999999999309, 918.1666666665975, 918.3333333332641, 918.4999999999308, 918.6666666665974, 918.833333333264, 918.9999999999307, 919.1666666665973, 919.3333333332639, 919.4999999999305, 919.6666666665972, 919.8333333332638, 919.9999999999304, 920.166666666597, 920.3333333332637, 920.4999999999303, 920.6666666665969, 920.8333333332636, 920.9999999999302, 921.1666666665968, 921.3333333332635, 921.4999999999301, 921.6666666665967, 921.8333333332633, 921.99999999993, 922.1666666665966, 922.3333333332632, 922.4999999999299, 922.6666666665965, 922.8333333332631, 922.9999999999297, 923.1666666665964, 923.333333333263, 923.4999999999296, 923.6666666665963, 923.8333333332629, 923.9999999999295, 924.1666666665961, 924.3333333332628, 924.4999999999294, 924.666666666596, 924.8333333332627, 924.9999999999293, 925.1666666665959, 925.3333333332625, 925.4999999999292, 925.6666666665958, 925.8333333332624, 925.9999999999291, 926.1666666665957, 926.3333333332623, 926.499999999929, 926.6666666665956, 926.8333333332622, 926.9999999999288, 927.1666666665955, 927.3333333332621, 927.4999999999287, 927.6666666665953, 927.833333333262, 927.9999999999286, 928.1666666665952, 928.3333333332619, 928.4999999999285, 928.6666666665951, 928.8333333332617, 928.9999999999284, 929.166666666595, 929.3333333332616, 929.4999999999283, 929.6666666665949, 929.8333333332615, 929.9999999999281, 930.1666666665948, 930.3333333332614, 930.499999999928, 930.6666666665947, 930.8333333332613, 930.9999999999279, 931.1666666665946, 931.3333333332612, 931.4999999999278, 931.6666666665944, 931.8333333332611, 931.9999999999277, 932.1666666665943, 932.333333333261, 932.4999999999276, 932.6666666665942, 932.8333333332608, 932.9999999999275, 933.1666666665941, 933.3333333332607, 933.4999999999274, 933.666666666594, 933.8333333332606, 933.9999999999272, 934.1666666665939, 934.3333333332605, 934.4999999999271, 934.6666666665938, 934.8333333332604, 934.999999999927, 935.1666666665936, 935.3333333332603, 935.4999999999269, 935.6666666665935, 935.8333333332602, 935.9999999999268, 936.1666666665934, 936.33333333326, 936.4999999999267, 936.6666666665933, 936.8333333332599, 936.9999999999266, 937.1666666665932, 937.3333333332598, 937.4999999999264, 937.6666666665931, 937.8333333332597, 937.9999999999263, 938.166666666593, 938.3333333332596, 938.4999999999262, 938.6666666665928, 938.8333333332595, 938.9999999999261, 939.1666666665927, 939.3333333332594, 939.499999999926, 939.6666666665926, 939.8333333332592, 939.9999999999259, 940.1666666665925, 940.3333333332591, 940.4999999999258, 940.6666666665924, 940.833333333259, 940.9999999999256, 941.1666666665923, 941.3333333332589, 941.4999999999255, 941.6666666665922, 941.8333333332588, 941.9999999999254, 942.166666666592, 942.3333333332587, 942.4999999999253, 942.6666666665919, 942.8333333332586, 942.9999999999252, 943.1666666665918, 943.3333333332585, 943.4999999999251, 943.6666666665917, 943.8333333332583, 943.999999999925, 944.1666666665916, 944.3333333332582, 944.4999999999249, 944.6666666665915, 944.8333333332581, 944.9999999999247, 945.1666666665914, 945.333333333258, 945.4999999999246, 945.6666666665913, 945.8333333332579, 945.9999999999245, 946.1666666665911, 946.3333333332578, 946.4999999999244, 946.666666666591, 946.8333333332577, 946.9999999999243, 947.1666666665909, 947.3333333332575, 947.4999999999242, 947.6666666665908, 947.8333333332574, 947.9999999999241, 948.1666666665907, 948.3333333332573, 948.499999999924, 948.6666666665906, 948.8333333332572, 948.9999999999238, 949.1666666665905, 949.3333333332571, 949.4999999999237, 949.6666666665903, 949.833333333257, 949.9999999999236, 950.1666666665902, 950.3333333332569, 950.4999999999235, 950.6666666665901, 950.8333333332567, 950.9999999999234, 951.16666666659, 951.3333333332566, 951.4999999999233, 951.6666666665899, 951.8333333332565, 951.9999999999231, 952.1666666665898, 952.3333333332564, 952.499999999923, 952.6666666665897, 952.8333333332563, 952.9999999999229, 953.1666666665895, 953.3333333332562, 953.4999999999228, 953.6666666665894, 953.8333333332561, 953.9999999999227, 954.1666666665893, 954.333333333256, 954.4999999999226, 954.6666666665892, 954.8333333332558, 954.9999999999225, 955.1666666665891, 955.3333333332557, 955.4999999999224, 955.666666666589, 955.8333333332556, 955.9999999999222, 956.1666666665889, 956.3333333332555, 956.4999999999221, 956.6666666665888, 956.8333333332554, 956.999999999922, 957.1666666665886, 957.3333333332553, 957.4999999999219, 957.6666666665885, 957.8333333332552, 957.9999999999218, 958.1666666665884, 958.333333333255, 958.4999999999217, 958.6666666665883, 958.8333333332549, 958.9999999999216, 959.1666666665882, 959.3333333332548, 959.4999999999214, 959.6666666665881, 959.8333333332547, 959.9999999999213, 960.166666666588, 960.3333333332546, 960.4999999999212, 960.6666666665878, 960.8333333332545, 960.9999999999211, 961.1666666665877, 961.3333333332544, 961.499999999921, 961.6666666665876, 961.8333333332542, 961.9999999999209, 962.1666666665875, 962.3333333332541, 962.4999999999208, 962.6666666665874, 962.833333333254, 962.9999999999206, 963.1666666665873, 963.3333333332539, 963.4999999999205, 963.6666666665872, 963.8333333332538, 963.9999999999204, 964.166666666587, 964.3333333332537, 964.4999999999203, 964.6666666665869, 964.8333333332536, 964.9999999999202, 965.1666666665868, 965.3333333332534, 965.4999999999201, 965.6666666665867, 965.8333333332533, 965.99999999992, 966.1666666665866, 966.3333333332532, 966.4999999999199, 966.6666666665865, 966.8333333332531, 966.9999999999197, 967.1666666665864, 967.333333333253, 967.4999999999196, 967.6666666665863, 967.8333333332529, 967.9999999999195, 968.1666666665861, 968.3333333332528, 968.4999999999194, 968.666666666586, 968.8333333332527, 968.9999999999193, 969.1666666665859, 969.3333333332525, 969.4999999999192, 969.6666666665858, 969.8333333332524, 969.999999999919, 970.1666666665857, 970.3333333332523, 970.4999999999189, 970.6666666665856, 970.8333333332522, 970.9999999999188, 971.1666666665855, 971.3333333332521, 971.4999999999187, 971.6666666665853, 971.833333333252, 971.9999999999186, 972.1666666665852, 972.3333333332519, 972.4999999999185, 972.6666666665851, 972.8333333332517, 972.9999999999184, 973.166666666585, 973.3333333332516, 973.4999999999183, 973.6666666665849, 973.8333333332515, 973.9999999999181, 974.1666666665848, 974.3333333332514, 974.499999999918, 974.6666666665847, 974.8333333332513, 974.9999999999179, 975.1666666665845, 975.3333333332512, 975.4999999999178, 975.6666666665844, 975.8333333332511, 975.9999999999177, 976.1666666665843, 976.333333333251, 976.4999999999176, 976.6666666665842, 976.8333333332508, 976.9999999999175, 977.1666666665841, 977.3333333332507, 977.4999999999173, 977.666666666584, 977.8333333332506, 977.9999999999172, 978.1666666665839, 978.3333333332505, 978.4999999999171, 978.6666666665838, 978.8333333332504, 978.999999999917, 979.1666666665836, 979.3333333332503, 979.4999999999169, 979.6666666665835, 979.8333333332502, 979.9999999999168, 980.1666666665834, 980.33333333325, 980.4999999999167, 980.6666666665833, 980.8333333332499, 980.9999999999166, 981.1666666665832, 981.3333333332498, 981.4999999999164, 981.6666666665831, 981.8333333332497, 981.9999999999163, 982.166666666583, 982.3333333332496, 982.4999999999162, 982.6666666665828, 982.8333333332495, 982.9999999999161, 983.1666666665827, 983.3333333332494, 983.499999999916, 983.6666666665826, 983.8333333332492, 983.9999999999159, 984.1666666665825, 984.3333333332491, 984.4999999999158, 984.6666666665824, 984.833333333249, 984.9999999999156, 985.1666666665823, 985.3333333332489, 985.4999999999155, 985.6666666665822, 985.8333333332488, 985.9999999999154, 986.166666666582, 986.3333333332487, 986.4999999999153, 986.6666666665819, 986.8333333332486, 986.9999999999152, 987.1666666665818, 987.3333333332484, 987.4999999999151, 987.6666666665817, 987.8333333332483, 987.999999999915, 988.1666666665816, 988.3333333332482, 988.4999999999148, 988.6666666665815, 988.8333333332481, 988.9999999999147, 989.1666666665814, 989.333333333248, 989.4999999999146, 989.6666666665812, 989.8333333332479, 989.9999999999145, 990.1666666665811, 990.3333333332478, 990.4999999999144, 990.666666666581, 990.8333333332477, 990.9999999999143, 991.1666666665809, 991.3333333332475, 991.4999999999142, 991.6666666665808, 991.8333333332474, 991.999999999914, 992.1666666665807, 992.3333333332473, 992.4999999999139, 992.6666666665806, 992.8333333332472, 992.9999999999138, 993.1666666665805, 993.3333333332471, 993.4999999999137, 993.6666666665803, 993.833333333247, 993.9999999999136, 994.1666666665802, 994.3333333332469, 994.4999999999135, 994.6666666665801, 994.8333333332467, 994.9999999999134, 995.16666666658, 995.3333333332466, 995.4999999999133, 995.6666666665799, 995.8333333332465, 995.9999999999131, 996.1666666665798, 996.3333333332464, 996.499999999913, 996.6666666665797, 996.8333333332463, 996.9999999999129, 997.1666666665795, 997.3333333332462, 997.4999999999128, 997.6666666665794, 997.8333333332461, 997.9999999999127, 998.1666666665793, 998.333333333246, 998.4999999999126, 998.6666666665792, 998.8333333332458, 998.9999999999125, 999.1666666665791, 999.3333333332457, 999.4999999999123, 999.666666666579, 999.8333333332456, 999.9999999999122, 1000.1666666665789, 1000.3333333332455, 1000.4999999999121, 1000.6666666665787, 1000.8333333332454, 1000.999999999912, 1001.1666666665786, 1001.3333333332453, 1001.4999999999119, 1001.6666666665785, 1001.8333333332452, 1001.9999999999118, 1002.1666666665784, 1002.333333333245, 1002.4999999999117, 1002.6666666665783, 1002.8333333332449, 1002.9999999999116, 1003.1666666665782, 1003.3333333332448, 1003.4999999999114, 1003.6666666665781, 1003.8333333332447, 1003.9999999999113, 1004.166666666578, 1004.3333333332446, 1004.4999999999112, 1004.6666666665778, 1004.8333333332445, 1004.9999999999111, 1005.1666666665777, 1005.3333333332444, 1005.499999999911, 1005.6666666665776, 1005.8333333332442, 1005.9999999999109, 1006.1666666665775, 1006.3333333332441, 1006.4999999999108, 1006.6666666665774, 1006.833333333244, 1006.9999999999106, 1007.1666666665773, 1007.3333333332439, 1007.4999999999105, 1007.6666666665772, 1007.8333333332438, 1007.9999999999104, 1008.166666666577, 1008.3333333332437, 1008.4999999999103, 1008.6666666665769, 1008.8333333332436, 1008.9999999999102, 1009.1666666665768, 1009.3333333332434, 1009.4999999999101, 1009.6666666665767, 1009.8333333332433, 1009.99999999991, 1010.1666666665766, 1010.3333333332432, 1010.4999999999098, 1010.6666666665765, 1010.8333333332431, 1010.9999999999097, 1011.1666666665764, 1011.333333333243, 1011.4999999999096, 1011.6666666665762, 1011.8333333332429, 1011.9999999999095, 1012.1666666665761, 1012.3333333332428, 1012.4999999999094, 1012.666666666576, 1012.8333333332426, 1012.9999999999093, 1013.1666666665759, 1013.3333333332425, 1013.4999999999092, 1013.6666666665758, 1013.8333333332424, 1013.999999999909, 1014.1666666665757, 1014.3333333332423, 1014.4999999999089, 1014.6666666665756, 1014.8333333332422, 1014.9999999999088, 1015.1666666665755, 1015.3333333332421, 1015.4999999999087, 1015.6666666665753, 1015.833333333242, 1015.9999999999086, 1016.1666666665752, 1016.3333333332419, 1016.4999999999085, 1016.6666666665751, 1016.8333333332417, 1016.9999999999084, 1017.166666666575, 1017.3333333332416, 1017.4999999999083, 1017.6666666665749, 1017.8333333332415, 1017.9999999999081, 1018.1666666665748, 1018.3333333332414, 1018.499999999908, 1018.6666666665747, 1018.8333333332413, 1018.9999999999079, 1019.1666666665745, 1019.3333333332412, 1019.4999999999078, 1019.6666666665744, 1019.8333333332411, 1019.9999999999077, 1020.1666666665743, 1020.333333333241, 1020.4999999999076, 1020.6666666665742, 1020.8333333332408, 1020.9999999999075, 1021.1666666665741, 1021.3333333332407, 1021.4999999999073, 1021.666666666574, 1021.8333333332406, 1021.9999999999072, 1022.1666666665739, 1022.3333333332405, 1022.4999999999071, 1022.6666666665737, 1022.8333333332404, 1022.999999999907, 1023.1666666665736, 1023.3333333332403, 1023.4999999999069, 1023.6666666665735, 1023.8333333332401, 1023.9999999999068, 1024.1666666665735, 1024.3333333332403, 1024.499999999907, 1024.6666666665737, 1024.8333333332405, 1024.9999999999072, 1025.166666666574, 1025.3333333332407, 1025.4999999999075, 1025.6666666665742, 1025.833333333241, 1025.9999999999077, 1026.1666666665744, 1026.3333333332412, 1026.499999999908, 1026.6666666665747, 1026.8333333332414, 1026.9999999999081, 1027.1666666665749, 1027.3333333332416, 1027.4999999999084, 1027.666666666575, 1027.8333333332419, 1027.9999999999086, 1028.1666666665753, 1028.333333333242, 1028.4999999999088, 1028.6666666665756, 1028.8333333332423, 1028.999999999909, 1029.1666666665758, 1029.3333333332425, 1029.4999999999093, 1029.666666666576, 1029.8333333332428, 1029.9999999999095, 1030.1666666665762, 1030.333333333243, 1030.4999999999097, 1030.6666666665765, 1030.8333333332432, 1030.99999999991, 1031.1666666665767, 1031.3333333332434, 1031.4999999999102, 1031.666666666577, 1031.8333333332437, 1031.9999999999104, 1032.1666666665772, 1032.333333333244, 1032.4999999999106, 1032.6666666665774, 1032.8333333332441, 1032.9999999999109, 1033.1666666665776, 1033.3333333332444, 1033.499999999911, 1033.6666666665778, 1033.8333333332446, 1033.9999999999113, 1034.166666666578, 1034.3333333332448, 1034.4999999999116, 1034.6666666665783, 1034.833333333245, 1034.9999999999118, 1035.1666666665785, 1035.3333333332453, 1035.499999999912, 1035.6666666665787, 1035.8333333332455, 1035.9999999999122, 1036.166666666579, 1036.3333333332457, 1036.4999999999125, 1036.6666666665792, 1036.833333333246, 1036.9999999999127, 1037.1666666665794, 1037.3333333332462, 1037.499999999913, 1037.6666666665797, 1037.8333333332464, 1037.9999999999131, 1038.1666666665799, 1038.3333333332466, 1038.4999999999134, 1038.66666666658, 1038.8333333332469, 1038.9999999999136, 1039.1666666665803, 1039.333333333247, 1039.4999999999138, 1039.6666666665806, 1039.8333333332473, 1039.999999999914, 1040.1666666665808, 1040.3333333332475, 1040.4999999999143, 1040.666666666581, 1040.8333333332478, 1040.9999999999145, 1041.1666666665812, 1041.333333333248, 1041.4999999999147, 1041.6666666665815, 1041.8333333332482, 1041.999999999915, 1042.1666666665817, 1042.3333333332484, 1042.4999999999152, 1042.666666666582, 1042.8333333332487, 1042.9999999999154, 1043.1666666665822, 1043.333333333249, 1043.4999999999156, 1043.6666666665824, 1043.8333333332491, 1043.9999999999159, 1044.1666666665826, 1044.3333333332494, 1044.499999999916, 1044.6666666665828, 1044.8333333332496, 1044.9999999999163, 1045.166666666583, 1045.3333333332498, 1045.4999999999166, 1045.6666666665833, 1045.83333333325, 1045.9999999999168, 1046.1666666665835, 1046.3333333332503, 1046.499999999917, 1046.6666666665838, 1046.8333333332505, 1046.9999999999172, 1047.166666666584, 1047.3333333332507, 1047.4999999999175, 1047.6666666665842, 1047.833333333251, 1047.9999999999177, 1048.1666666665844, 1048.3333333332512, 1048.499999999918, 1048.6666666665847, 1048.8333333332514, 1048.9999999999181, 1049.166666666585, 1049.3333333332516, 1049.4999999999184, 1049.6666666665851, 1049.8333333332519, 1049.9999999999186, 1050.1666666665853, 1050.333333333252, 1050.4999999999188, 1050.6666666665856, 1050.8333333332523, 1050.999999999919, 1051.1666666665858, 1051.3333333332525, 1051.4999999999193, 1051.666666666586, 1051.8333333332528, 1051.9999999999195, 1052.1666666665863, 1052.333333333253, 1052.4999999999197, 1052.6666666665865, 1052.8333333332532, 1052.99999999992, 1053.1666666665867, 1053.3333333332534, 1053.4999999999202, 1053.666666666587, 1053.8333333332537, 1053.9999999999204, 1054.1666666665872, 1054.333333333254, 1054.4999999999206, 1054.6666666665874, 1054.8333333332541, 1054.9999999999209, 1055.1666666665876, 1055.3333333332544, 1055.499999999921, 1055.6666666665878, 1055.8333333332546, 1055.9999999999213, 1056.166666666588, 1056.3333333332548, 1056.4999999999216, 1056.6666666665883, 1056.833333333255, 1056.9999999999218, 1057.1666666665885, 1057.3333333332553, 1057.499999999922, 1057.6666666665888, 1057.8333333332555, 1057.9999999999222, 1058.166666666589, 1058.3333333332557, 1058.4999999999225, 1058.6666666665892, 1058.833333333256, 1058.9999999999227, 1059.1666666665894, 1059.3333333332562, 1059.499999999923, 1059.6666666665897, 1059.8333333332564, 1059.9999999999231, 1060.16666666659, 1060.3333333332566, 1060.4999999999234, 1060.6666666665901, 1060.8333333332569, 1060.9999999999236, 1061.1666666665903, 1061.333333333257, 1061.4999999999238, 1061.6666666665906, 1061.8333333332573, 1061.999999999924, 1062.1666666665908, 1062.3333333332575, 1062.4999999999243, 1062.666666666591, 1062.8333333332578, 1062.9999999999245, 1063.1666666665913, 1063.333333333258, 1063.4999999999247, 1063.6666666665915, 1063.8333333332582, 1063.999999999925, 1064.1666666665917, 1064.3333333332585, 1064.4999999999252, 1064.666666666592, 1064.8333333332587, 1064.9999999999254, 1065.1666666665922, 1065.333333333259, 1065.4999999999256, 1065.6666666665924, 1065.8333333332591, 1065.9999999999259, 1066.1666666665926, 1066.3333333332594, 1066.499999999926, 1066.6666666665928, 1066.8333333332596, 1066.9999999999263, 1067.166666666593, 1067.3333333332598, 1067.4999999999266, 1067.6666666665933, 1067.83333333326, 1067.9999999999268, 1068.1666666665935, 1068.3333333332603, 1068.499999999927, 1068.6666666665938, 1068.8333333332605, 1068.9999999999272, 1069.166666666594, 1069.3333333332607, 1069.4999999999275, 1069.6666666665942, 1069.833333333261, 1069.9999999999277, 1070.1666666665944, 1070.3333333332612, 1070.499999999928, 1070.6666666665947, 1070.8333333332614, 1070.9999999999281, 1071.166666666595, 1071.3333333332616, 1071.4999999999284, 1071.6666666665951, 1071.8333333332619, 1071.9999999999286, 1072.1666666665953, 1072.333333333262, 1072.4999999999288, 1072.6666666665956, 1072.8333333332623, 1072.999999999929, 1073.1666666665958, 1073.3333333332625, 1073.4999999999293, 1073.666666666596, 1073.8333333332628, 1073.9999999999295, 1074.1666666665963, 1074.333333333263, 1074.4999999999297, 1074.6666666665965, 1074.8333333332632, 1074.99999999993, 1075.1666666665967, 1075.3333333332635, 1075.4999999999302, 1075.666666666597, 1075.8333333332637, 1075.9999999999304, 1076.1666666665972, 1076.333333333264, 1076.4999999999307, 1076.6666666665974, 1076.8333333332641, 1076.9999999999309, 1077.1666666665976, 1077.3333333332644, 1077.499999999931, 1077.6666666665978, 1077.8333333332646, 1077.9999999999313, 1078.166666666598, 1078.3333333332648, 1078.4999999999316, 1078.6666666665983, 1078.833333333265, 1078.9999999999318, 1079.1666666665985, 1079.3333333332653, 1079.499999999932, 1079.6666666665988, 1079.8333333332655, 1079.9999999999322, 1080.166666666599, 1080.3333333332657, 1080.4999999999325, 1080.6666666665992, 1080.833333333266, 1080.9999999999327, 1081.1666666665994, 1081.3333333332662, 1081.499999999933, 1081.6666666665997, 1081.8333333332664, 1081.9999999999332, 1082.1666666666, 1082.3333333332666, 1082.4999999999334, 1082.6666666666001, 1082.8333333332669, 1082.9999999999336, 1083.1666666666003, 1083.333333333267, 1083.4999999999338, 1083.6666666666006, 1083.8333333332673, 1083.999999999934, 1084.1666666666008, 1084.3333333332675, 1084.4999999999343, 1084.666666666601, 1084.8333333332678, 1084.9999999999345, 1085.1666666666013, 1085.333333333268, 1085.4999999999347, 1085.6666666666015, 1085.8333333332682, 1085.999999999935, 1086.1666666666017, 1086.3333333332685, 1086.4999999999352, 1086.666666666602, 1086.8333333332687, 1086.9999999999354, 1087.1666666666022, 1087.333333333269, 1087.4999999999357, 1087.6666666666024, 1087.8333333332691, 1087.9999999999359, 1088.1666666666026, 1088.3333333332694, 1088.499999999936, 1088.6666666666029, 1088.8333333332696, 1088.9999999999363, 1089.166666666603, 1089.3333333332698, 1089.4999999999366, 1089.6666666666033, 1089.83333333327, 1089.9999999999368, 1090.1666666666035, 1090.3333333332703, 1090.499999999937, 1090.6666666666038, 1090.8333333332705, 1090.9999999999372, 1091.166666666604, 1091.3333333332707, 1091.4999999999375, 1091.6666666666042, 1091.833333333271, 1091.9999999999377, 1092.1666666666044, 1092.3333333332712, 1092.499999999938, 1092.6666666666047, 1092.8333333332714, 1092.9999999999382, 1093.166666666605, 1093.3333333332716, 1093.4999999999384, 1093.6666666666051, 1093.8333333332719, 1093.9999999999386, 1094.1666666666054, 1094.333333333272, 1094.4999999999388, 1094.6666666666056, 1094.8333333332723, 1094.999999999939, 1095.1666666666058, 1095.3333333332725, 1095.4999999999393, 1095.666666666606, 1095.8333333332728, 1095.9999999999395, 1096.1666666666063, 1096.333333333273, 1096.4999999999397, 1096.6666666666065, 1096.8333333332732, 1096.99999999994, 1097.1666666666067, 1097.3333333332735, 1097.4999999999402, 1097.666666666607, 1097.8333333332737, 1097.9999999999404, 1098.1666666666072, 1098.333333333274, 1098.4999999999407, 1098.6666666666074, 1098.8333333332741, 1098.9999999999409, 1099.1666666666076, 1099.3333333332744, 1099.499999999941, 1099.6666666666079, 1099.8333333332746, 1099.9999999999413, 1100.166666666608, 1100.3333333332748, 1100.4999999999416, 1100.6666666666083, 1100.833333333275, 1100.9999999999418, 1101.1666666666085, 1101.3333333332753, 1101.499999999942, 1101.6666666666088, 1101.8333333332755, 1101.9999999999422, 1102.166666666609, 1102.3333333332757, 1102.4999999999425, 1102.6666666666092, 1102.833333333276, 1102.9999999999427, 1103.1666666666094, 1103.3333333332762, 1103.499999999943, 1103.6666666666097, 1103.8333333332764, 1103.9999999999432, 1104.16666666661, 1104.3333333332766, 1104.4999999999434, 1104.6666666666101, 1104.8333333332769, 1104.9999999999436, 1105.1666666666104, 1105.333333333277, 1105.4999999999438, 1105.6666666666106, 1105.8333333332773, 1105.999999999944, 1106.1666666666108, 1106.3333333332776, 1106.4999999999443, 1106.666666666611, 1106.8333333332778, 1106.9999999999445, 1107.1666666666113, 1107.333333333278, 1107.4999999999447, 1107.6666666666115, 1107.8333333332782, 1107.999999999945, 1108.1666666666117, 1108.3333333332785, 1108.4999999999452, 1108.666666666612, 1108.8333333332787, 1108.9999999999454, 1109.1666666666122, 1109.333333333279, 1109.4999999999457, 1109.6666666666124, 1109.8333333332791, 1109.9999999999459, 1110.1666666666126, 1110.3333333332794, 1110.499999999946, 1110.6666666666129, 1110.8333333332796, 1110.9999999999463, 1111.166666666613, 1111.3333333332798, 1111.4999999999466, 1111.6666666666133, 1111.83333333328, 1111.9999999999468, 1112.1666666666135, 1112.3333333332803, 1112.499999999947, 1112.6666666666138, 1112.8333333332805, 1112.9999999999472, 1113.166666666614, 1113.3333333332807, 1113.4999999999475, 1113.6666666666142, 1113.833333333281, 1113.9999999999477, 1114.1666666666144, 1114.3333333332812, 1114.499999999948, 1114.6666666666147, 1114.8333333332814, 1114.9999999999482, 1115.166666666615, 1115.3333333332816, 1115.4999999999484, 1115.6666666666151, 1115.8333333332819, 1115.9999999999486, 1116.1666666666154, 1116.333333333282, 1116.4999999999488, 1116.6666666666156, 1116.8333333332823, 1116.999999999949, 1117.1666666666158, 1117.3333333332826, 1117.4999999999493, 1117.666666666616, 1117.8333333332828, 1117.9999999999495, 1118.1666666666163, 1118.333333333283, 1118.4999999999498, 1118.6666666666165, 1118.8333333332832, 1118.99999999995, 1119.1666666666167, 1119.3333333332835, 1119.4999999999502, 1119.666666666617, 1119.8333333332837, 1119.9999999999504, 1120.1666666666172, 1120.333333333284, 1120.4999999999507, 1120.6666666666174, 1120.8333333332841, 1120.999999999951, 1121.1666666666176, 1121.3333333332844, 1121.4999999999511, 1121.6666666666179, 1121.8333333332846, 1121.9999999999513, 1122.166666666618, 1122.3333333332848, 1122.4999999999516, 1122.6666666666183, 1122.833333333285, 1122.9999999999518, 1123.1666666666185, 1123.3333333332853, 1123.499999999952, 1123.6666666666188, 1123.8333333332855, 1123.9999999999523, 1124.166666666619, 1124.3333333332857, 1124.4999999999525, 1124.6666666666192, 1124.833333333286, 1124.9999999999527, 1125.1666666666194, 1125.3333333332862, 1125.499999999953, 1125.6666666666197, 1125.8333333332864, 1125.9999999999532, 1126.16666666662, 1126.3333333332866, 1126.4999999999534, 1126.6666666666201, 1126.8333333332869, 1126.9999999999536, 1127.1666666666204, 1127.333333333287, 1127.4999999999538, 1127.6666666666206, 1127.8333333332873, 1127.999999999954, 1128.1666666666208, 1128.3333333332876, 1128.4999999999543, 1128.666666666621, 1128.8333333332878, 1128.9999999999545, 1129.1666666666213, 1129.333333333288, 1129.4999999999548, 1129.6666666666215, 1129.8333333332882, 1129.999999999955, 1130.1666666666217, 1130.3333333332885, 1130.4999999999552, 1130.666666666622, 1130.8333333332887, 1130.9999999999554, 1131.1666666666222, 1131.333333333289, 1131.4999999999557, 1131.6666666666224, 1131.8333333332891, 1131.999999999956, 1132.1666666666226, 1132.3333333332894, 1132.4999999999561, 1132.6666666666229, 1132.8333333332896, 1132.9999999999563, 1133.166666666623, 1133.3333333332898, 1133.4999999999566, 1133.6666666666233, 1133.83333333329, 1133.9999999999568, 1134.1666666666235, 1134.3333333332903, 1134.499999999957, 1134.6666666666238, 1134.8333333332905, 1134.9999999999573, 1135.166666666624, 1135.3333333332907, 1135.4999999999575, 1135.6666666666242, 1135.833333333291, 1135.9999999999577, 1136.1666666666245, 1136.3333333332912, 1136.499999999958, 1136.6666666666247, 1136.8333333332914, 1136.9999999999582, 1137.166666666625, 1137.3333333332916, 1137.4999999999584, 1137.6666666666251, 1137.8333333332919, 1137.9999999999586, 1138.1666666666254, 1138.333333333292, 1138.4999999999588, 1138.6666666666256, 1138.8333333332923, 1138.999999999959, 1139.1666666666258, 1139.3333333332926, 1139.4999999999593, 1139.666666666626, 1139.8333333332928, 1139.9999999999595, 1140.1666666666263, 1140.333333333293, 1140.4999999999598, 1140.6666666666265, 1140.8333333332932, 1140.99999999996, 1141.1666666666267, 1141.3333333332935, 1141.4999999999602, 1141.666666666627, 1141.8333333332937, 1141.9999999999604, 1142.1666666666272, 1142.333333333294, 1142.4999999999607, 1142.6666666666274, 1142.8333333332941, 1142.999999999961, 1143.1666666666276, 1143.3333333332944, 1143.4999999999611, 1143.6666666666279, 1143.8333333332946, 1143.9999999999613, 1144.166666666628, 1144.3333333332948, 1144.4999999999616, 1144.6666666666283, 1144.833333333295, 1144.9999999999618, 1145.1666666666285, 1145.3333333332953, 1145.499999999962, 1145.6666666666288, 1145.8333333332955, 1145.9999999999623, 1146.166666666629, 1146.3333333332957, 1146.4999999999625, 1146.6666666666292, 1146.833333333296, 1146.9999999999627, 1147.1666666666295, 1147.3333333332962, 1147.499999999963, 1147.6666666666297, 1147.8333333332964, 1147.9999999999632, 1148.16666666663, 1148.3333333332967, 1148.4999999999634, 1148.6666666666301, 1148.8333333332969, 1148.9999999999636, 1149.1666666666304, 1149.333333333297, 1149.4999999999638, 1149.6666666666306, 1149.8333333332973, 1149.999999999964, 1150.1666666666308, 1150.3333333332976, 1150.4999999999643, 1150.666666666631, 1150.8333333332978, 1150.9999999999645, 1151.1666666666313, 1151.333333333298, 1151.4999999999648, 1151.6666666666315, 1151.8333333332982, 1151.999999999965, 1152.1666666666317, 1152.3333333332985, 1152.4999999999652, 1152.666666666632, 1152.8333333332987, 1152.9999999999654, 1153.1666666666322, 1153.333333333299, 1153.4999999999657, 1153.6666666666324, 1153.8333333332992, 1153.999999999966, 1154.1666666666326, 1154.3333333332994, 1154.4999999999661, 1154.6666666666329, 1154.8333333332996, 1154.9999999999663, 1155.166666666633, 1155.3333333332998, 1155.4999999999666, 1155.6666666666333, 1155.8333333333, 1155.9999999999668, 1156.1666666666335, 1156.3333333333003, 1156.499999999967, 1156.6666666666338, 1156.8333333333005, 1156.9999999999673, 1157.166666666634, 1157.3333333333007, 1157.4999999999675, 1157.6666666666342, 1157.833333333301, 1157.9999999999677, 1158.1666666666345, 1158.3333333333012, 1158.499999999968, 1158.6666666666347, 1158.8333333333014, 1158.9999999999682, 1159.166666666635, 1159.3333333333017, 1159.4999999999684, 1159.6666666666351, 1159.8333333333019, 1159.9999999999686, 1160.1666666666354, 1160.333333333302, 1160.4999999999688, 1160.6666666666356, 1160.8333333333023, 1160.999999999969, 1161.1666666666358, 1161.3333333333026, 1161.4999999999693, 1161.666666666636, 1161.8333333333028, 1161.9999999999695, 1162.1666666666363, 1162.333333333303, 1162.4999999999698, 1162.6666666666365, 1162.8333333333032, 1162.99999999997, 1163.1666666666367, 1163.3333333333035, 1163.4999999999702, 1163.666666666637, 1163.8333333333037, 1163.9999999999704, 1164.1666666666372, 1164.333333333304, 1164.4999999999707, 1164.6666666666374, 1164.8333333333042, 1164.999999999971, 1165.1666666666376, 1165.3333333333044, 1165.4999999999711, 1165.6666666666379, 1165.8333333333046, 1165.9999999999714, 1166.166666666638, 1166.3333333333048, 1166.4999999999716, 1166.6666666666383, 1166.833333333305, 1166.9999999999718, 1167.1666666666385, 1167.3333333333053, 1167.499999999972, 1167.6666666666388, 1167.8333333333055, 1167.9999999999723, 1168.166666666639, 1168.3333333333057, 1168.4999999999725, 1168.6666666666392, 1168.833333333306, 1168.9999999999727, 1169.1666666666395, 1169.3333333333062, 1169.499999999973, 1169.6666666666397, 1169.8333333333064, 1169.9999999999732, 1170.16666666664, 1170.3333333333067, 1170.4999999999734, 1170.6666666666401, 1170.8333333333069, 1170.9999999999736, 1171.1666666666404, 1171.333333333307, 1171.4999999999739, 1171.6666666666406, 1171.8333333333073, 1171.999999999974, 1172.1666666666408, 1172.3333333333076, 1172.4999999999743, 1172.666666666641, 1172.8333333333078, 1172.9999999999745, 1173.1666666666413, 1173.333333333308, 1173.4999999999748, 1173.6666666666415, 1173.8333333333082, 1173.999999999975, 1174.1666666666417, 1174.3333333333085, 1174.4999999999752, 1174.666666666642, 1174.8333333333087, 1174.9999999999754, 1175.1666666666422, 1175.333333333309, 1175.4999999999757, 1175.6666666666424, 1175.8333333333092, 1175.999999999976, 1176.1666666666426, 1176.3333333333094, 1176.4999999999761, 1176.6666666666429, 1176.8333333333096, 1176.9999999999764, 1177.166666666643, 1177.3333333333098, 1177.4999999999766, 1177.6666666666433, 1177.83333333331, 1177.9999999999768, 1178.1666666666436, 1178.3333333333103, 1178.499999999977, 1178.6666666666438, 1178.8333333333105, 1178.9999999999773, 1179.166666666644, 1179.3333333333107, 1179.4999999999775, 1179.6666666666442, 1179.833333333311, 1179.9999999999777, 1180.1666666666445, 1180.3333333333112, 1180.499999999978, 1180.6666666666447, 1180.8333333333114, 1180.9999999999782, 1181.166666666645, 1181.3333333333117, 1181.4999999999784, 1181.6666666666451, 1181.8333333333119, 1181.9999999999786, 1182.1666666666454, 1182.333333333312, 1182.4999999999789, 1182.6666666666456, 1182.8333333333123, 1182.999999999979, 1183.1666666666458, 1183.3333333333126, 1183.4999999999793, 1183.666666666646, 1183.8333333333128, 1183.9999999999795, 1184.1666666666463, 1184.333333333313, 1184.4999999999798, 1184.6666666666465, 1184.8333333333132, 1184.99999999998, 1185.1666666666467, 1185.3333333333135, 1185.4999999999802, 1185.666666666647, 1185.8333333333137, 1185.9999999999804, 1186.1666666666472, 1186.333333333314, 1186.4999999999807, 1186.6666666666474, 1186.8333333333142, 1186.999999999981, 1187.1666666666476, 1187.3333333333144, 1187.4999999999811, 1187.6666666666479, 1187.8333333333146, 1187.9999999999814, 1188.166666666648, 1188.3333333333148, 1188.4999999999816, 1188.6666666666483, 1188.833333333315, 1188.9999999999818, 1189.1666666666486, 1189.3333333333153, 1189.499999999982, 1189.6666666666488, 1189.8333333333155, 1189.9999999999823, 1190.166666666649, 1190.3333333333157, 1190.4999999999825, 1190.6666666666492, 1190.833333333316, 1190.9999999999827, 1191.1666666666495, 1191.3333333333162, 1191.499999999983, 1191.6666666666497, 1191.8333333333164, 1191.9999999999832, 1192.16666666665, 1192.3333333333167, 1192.4999999999834, 1192.6666666666501, 1192.833333333317, 1192.9999999999836, 1193.1666666666504, 1193.3333333333171, 1193.4999999999839, 1193.6666666666506, 1193.8333333333173, 1193.999999999984, 1194.1666666666508, 1194.3333333333176, 1194.4999999999843, 1194.666666666651, 1194.8333333333178, 1194.9999999999845, 1195.1666666666513, 1195.333333333318, 1195.4999999999848, 1195.6666666666515, 1195.8333333333183, 1195.999999999985, 1196.1666666666517, 1196.3333333333185, 1196.4999999999852, 1196.666666666652, 1196.8333333333187, 1196.9999999999854, 1197.1666666666522, 1197.333333333319, 1197.4999999999857, 1197.6666666666524, 1197.8333333333192, 1197.999999999986, 1198.1666666666526, 1198.3333333333194, 1198.4999999999861, 1198.6666666666529, 1198.8333333333196, 1198.9999999999864, 1199.166666666653, 1199.3333333333198, 1199.4999999999866, 1199.6666666666533, 1199.83333333332, 1199.9999999999868, 1200.1666666666536, 1200.3333333333203, 1200.499999999987, 1200.6666666666538, 1200.8333333333205, 1200.9999999999873, 1201.166666666654, 1201.3333333333208, 1201.4999999999875, 1201.6666666666542, 1201.833333333321, 1201.9999999999877, 1202.1666666666545, 1202.3333333333212, 1202.499999999988, 1202.6666666666547, 1202.8333333333214, 1202.9999999999882, 1203.166666666655, 1203.3333333333217, 1203.4999999999884, 1203.6666666666551, 1203.833333333322, 1203.9999999999886, 1204.1666666666554, 1204.3333333333221, 1204.4999999999889, 1204.6666666666556, 1204.8333333333223, 1204.999999999989, 1205.1666666666558, 1205.3333333333226, 1205.4999999999893, 1205.666666666656, 1205.8333333333228, 1205.9999999999895, 1206.1666666666563, 1206.333333333323, 1206.4999999999898, 1206.6666666666565, 1206.8333333333233, 1206.99999999999, 1207.1666666666567, 1207.3333333333235, 1207.4999999999902, 1207.666666666657, 1207.8333333333237, 1207.9999999999905, 1208.1666666666572, 1208.333333333324, 1208.4999999999907, 1208.6666666666574, 1208.8333333333242, 1208.999999999991, 1209.1666666666576, 1209.3333333333244, 1209.4999999999911, 1209.6666666666579, 1209.8333333333246, 1209.9999999999914, 1210.166666666658, 1210.3333333333248, 1210.4999999999916, 1210.6666666666583, 1210.833333333325, 1210.9999999999918, 1211.1666666666586, 1211.3333333333253, 1211.499999999992, 1211.6666666666588, 1211.8333333333255, 1211.9999999999923, 1212.166666666659, 1212.3333333333258, 1212.4999999999925, 1212.6666666666592, 1212.833333333326, 1212.9999999999927, 1213.1666666666595, 1213.3333333333262, 1213.499999999993, 1213.6666666666597, 1213.8333333333264, 1213.9999999999932, 1214.16666666666, 1214.3333333333267, 1214.4999999999934, 1214.6666666666601, 1214.833333333327, 1214.9999999999936, 1215.1666666666604, 1215.3333333333271, 1215.4999999999939, 1215.6666666666606, 1215.8333333333273, 1215.999999999994, 1216.1666666666608, 1216.3333333333276, 1216.4999999999943, 1216.666666666661, 1216.8333333333278, 1216.9999999999945, 1217.1666666666613, 1217.333333333328, 1217.4999999999948, 1217.6666666666615, 1217.8333333333283, 1217.999999999995, 1218.1666666666617, 1218.3333333333285, 1218.4999999999952, 1218.666666666662, 1218.8333333333287, 1218.9999999999955, 1219.1666666666622, 1219.333333333329, 1219.4999999999957, 1219.6666666666624, 1219.8333333333292, 1219.999999999996, 1220.1666666666626, 1220.3333333333294, 1220.4999999999961, 1220.6666666666629, 1220.8333333333296, 1220.9999999999964, 1221.166666666663, 1221.3333333333298, 1221.4999999999966, 1221.6666666666633, 1221.83333333333, 1221.9999999999968, 1222.1666666666636, 1222.3333333333303, 1222.499999999997, 1222.6666666666638, 1222.8333333333305, 1222.9999999999973, 1223.166666666664, 1223.3333333333308, 1223.4999999999975, 1223.6666666666642, 1223.833333333331, 1223.9999999999977, 1224.1666666666645, 1224.3333333333312, 1224.499999999998, 1224.6666666666647, 1224.8333333333314, 1224.9999999999982, 1225.166666666665, 1225.3333333333317, 1225.4999999999984, 1225.6666666666652, 1225.833333333332, 1225.9999999999986, 1226.1666666666654, 1226.3333333333321, 1226.4999999999989, 1226.6666666666656, 1226.8333333333323, 1226.999999999999, 1227.1666666666658, 1227.3333333333326, 1227.4999999999993, 1227.666666666666, 1227.8333333333328, 1227.9999999999995, 1228.1666666666663, 1228.333333333333, 1228.4999999999998, 1228.6666666666665, 1228.8333333333333, 1229.0, 1229.1666666666667, 1229.3333333333335, 1229.5000000000002, 1229.666666666667, 1229.8333333333337, 1230.0000000000005, 1230.1666666666672, 1230.333333333334, 1230.5000000000007, 1230.6666666666674, 1230.8333333333342, 1231.000000000001, 1231.1666666666677, 1231.3333333333344, 1231.5000000000011, 1231.6666666666679, 1231.8333333333346, 1232.0000000000014, 1232.166666666668, 1232.3333333333348, 1232.5000000000016, 1232.6666666666683, 1232.833333333335, 1233.0000000000018, 1233.1666666666686, 1233.3333333333353, 1233.500000000002, 1233.6666666666688, 1233.8333333333355, 1234.0000000000023, 1234.166666666669, 1234.3333333333358, 1234.5000000000025, 1234.6666666666692, 1234.833333333336, 1235.0000000000027, 1235.1666666666695, 1235.3333333333362, 1235.500000000003, 1235.6666666666697, 1235.8333333333364, 1236.0000000000032, 1236.16666666667, 1236.3333333333367, 1236.5000000000034, 1236.6666666666702, 1236.833333333337, 1237.0000000000036, 1237.1666666666704, 1237.3333333333371, 1237.5000000000039, 1237.6666666666706, 1237.8333333333374, 1238.000000000004, 1238.1666666666708, 1238.3333333333376, 1238.5000000000043, 1238.666666666671, 1238.8333333333378, 1239.0000000000045, 1239.1666666666713, 1239.333333333338, 1239.5000000000048, 1239.6666666666715, 1239.8333333333383, 1240.000000000005, 1240.1666666666717, 1240.3333333333385, 1240.5000000000052, 1240.666666666672, 1240.8333333333387, 1241.0000000000055, 1241.1666666666722, 1241.333333333339, 1241.5000000000057, 1241.6666666666724, 1241.8333333333392, 1242.000000000006, 1242.1666666666727, 1242.3333333333394, 1242.5000000000061, 1242.6666666666729, 1242.8333333333396, 1243.0000000000064, 1243.166666666673, 1243.3333333333399, 1243.5000000000066, 1243.6666666666733, 1243.83333333334, 1244.0000000000068, 1244.1666666666736, 1244.3333333333403, 1244.500000000007, 1244.6666666666738, 1244.8333333333405, 1245.0000000000073, 1245.166666666674, 1245.3333333333408, 1245.5000000000075, 1245.6666666666742, 1245.833333333341, 1246.0000000000077, 1246.1666666666745, 1246.3333333333412, 1246.500000000008, 1246.6666666666747, 1246.8333333333414, 1247.0000000000082, 1247.166666666675, 1247.3333333333417, 1247.5000000000084, 1247.6666666666752, 1247.833333333342, 1248.0000000000086, 1248.1666666666754, 1248.3333333333421, 1248.5000000000089, 1248.6666666666756, 1248.8333333333424, 1249.000000000009, 1249.1666666666758, 1249.3333333333426, 1249.5000000000093, 1249.666666666676, 1249.8333333333428, 1250.0000000000095, 1250.1666666666763, 1250.333333333343, 1250.5000000000098, 1250.6666666666765, 1250.8333333333433, 1251.00000000001, 1251.1666666666767, 1251.3333333333435, 1251.5000000000102, 1251.666666666677, 1251.8333333333437, 1252.0000000000105, 1252.1666666666772, 1252.333333333344, 1252.5000000000107, 1252.6666666666774, 1252.8333333333442, 1253.000000000011, 1253.1666666666777, 1253.3333333333444, 1253.5000000000111, 1253.6666666666779, 1253.8333333333446, 1254.0000000000114, 1254.166666666678, 1254.3333333333449, 1254.5000000000116, 1254.6666666666783, 1254.833333333345, 1255.0000000000118, 1255.1666666666786, 1255.3333333333453, 1255.500000000012, 1255.6666666666788, 1255.8333333333455, 1256.0000000000123, 1256.166666666679, 1256.3333333333458, 1256.5000000000125, 1256.6666666666792, 1256.833333333346, 1257.0000000000127, 1257.1666666666795, 1257.3333333333462, 1257.500000000013, 1257.6666666666797, 1257.8333333333464, 1258.0000000000132, 1258.16666666668, 1258.3333333333467, 1258.5000000000134, 1258.6666666666802, 1258.833333333347, 1259.0000000000136, 1259.1666666666804, 1259.3333333333471, 1259.5000000000139, 1259.6666666666806, 1259.8333333333474, 1260.000000000014, 1260.1666666666808, 1260.3333333333476, 1260.5000000000143, 1260.666666666681, 1260.8333333333478, 1261.0000000000146, 1261.1666666666813, 1261.333333333348, 1261.5000000000148, 1261.6666666666815, 1261.8333333333483, 1262.000000000015, 1262.1666666666817, 1262.3333333333485, 1262.5000000000152, 1262.666666666682, 1262.8333333333487, 1263.0000000000155, 1263.1666666666822, 1263.333333333349, 1263.5000000000157, 1263.6666666666824, 1263.8333333333492, 1264.000000000016, 1264.1666666666827, 1264.3333333333494, 1264.5000000000161, 1264.6666666666829, 1264.8333333333496, 1265.0000000000164, 1265.166666666683, 1265.3333333333499, 1265.5000000000166, 1265.6666666666833, 1265.83333333335, 1266.0000000000168, 1266.1666666666836, 1266.3333333333503, 1266.500000000017, 1266.6666666666838, 1266.8333333333505, 1267.0000000000173, 1267.166666666684, 1267.3333333333508, 1267.5000000000175, 1267.6666666666843, 1267.833333333351, 1268.0000000000177, 1268.1666666666845, 1268.3333333333512, 1268.500000000018, 1268.6666666666847, 1268.8333333333514, 1269.0000000000182, 1269.166666666685, 1269.3333333333517, 1269.5000000000184, 1269.6666666666852, 1269.833333333352, 1270.0000000000186, 1270.1666666666854, 1270.3333333333521, 1270.5000000000189, 1270.6666666666856, 1270.8333333333524, 1271.000000000019, 1271.1666666666858, 1271.3333333333526, 1271.5000000000193, 1271.666666666686, 1271.8333333333528, 1272.0000000000196, 1272.1666666666863, 1272.333333333353, 1272.5000000000198, 1272.6666666666865, 1272.8333333333533, 1273.00000000002, 1273.1666666666868, 1273.3333333333535, 1273.5000000000202, 1273.666666666687, 1273.8333333333537, 1274.0000000000205, 1274.1666666666872, 1274.333333333354, 1274.5000000000207, 1274.6666666666874, 1274.8333333333542, 1275.000000000021, 1275.1666666666877, 1275.3333333333544, 1275.5000000000211, 1275.666666666688, 1275.8333333333546, 1276.0000000000214, 1276.1666666666881, 1276.3333333333549, 1276.5000000000216, 1276.6666666666883, 1276.833333333355, 1277.0000000000218, 1277.1666666666886, 1277.3333333333553, 1277.500000000022, 1277.6666666666888, 1277.8333333333555, 1278.0000000000223, 1278.166666666689, 1278.3333333333558, 1278.5000000000225, 1278.6666666666893, 1278.833333333356, 1279.0000000000227, 1279.1666666666895, 1279.3333333333562, 1279.500000000023, 1279.6666666666897, 1279.8333333333564, 1280.0000000000232, 1280.16666666669, 1280.3333333333567, 1280.5000000000234, 1280.6666666666902, 1280.833333333357, 1281.0000000000236, 1281.1666666666904, 1281.3333333333571, 1281.5000000000239, 1281.6666666666906, 1281.8333333333574, 1282.000000000024, 1282.1666666666908, 1282.3333333333576, 1282.5000000000243, 1282.666666666691, 1282.8333333333578, 1283.0000000000246, 1283.1666666666913, 1283.333333333358, 1283.5000000000248, 1283.6666666666915, 1283.8333333333583, 1284.000000000025, 1284.1666666666918, 1284.3333333333585, 1284.5000000000252, 1284.666666666692, 1284.8333333333587, 1285.0000000000255, 1285.1666666666922, 1285.333333333359, 1285.5000000000257, 1285.6666666666924, 1285.8333333333592, 1286.000000000026, 1286.1666666666927, 1286.3333333333594, 1286.5000000000261, 1286.666666666693, 1286.8333333333596, 1287.0000000000264, 1287.1666666666931, 1287.3333333333599, 1287.5000000000266, 1287.6666666666933, 1287.83333333336, 1288.0000000000268, 1288.1666666666936, 1288.3333333333603, 1288.500000000027, 1288.6666666666938, 1288.8333333333605, 1289.0000000000273, 1289.166666666694, 1289.3333333333608, 1289.5000000000275, 1289.6666666666943, 1289.833333333361, 1290.0000000000277, 1290.1666666666945, 1290.3333333333612, 1290.500000000028, 1290.6666666666947, 1290.8333333333615, 1291.0000000000282, 1291.166666666695, 1291.3333333333617, 1291.5000000000284, 1291.6666666666952, 1291.833333333362, 1292.0000000000286, 1292.1666666666954, 1292.3333333333621, 1292.5000000000289, 1292.6666666666956, 1292.8333333333624, 1293.000000000029, 1293.1666666666958, 1293.3333333333626, 1293.5000000000293, 1293.666666666696, 1293.8333333333628, 1294.0000000000296, 1294.1666666666963, 1294.333333333363, 1294.5000000000298, 1294.6666666666965, 1294.8333333333633, 1295.00000000003, 1295.1666666666968, 1295.3333333333635, 1295.5000000000302, 1295.666666666697, 1295.8333333333637, 1296.0000000000305, 1296.1666666666972, 1296.333333333364, 1296.5000000000307, 1296.6666666666974, 1296.8333333333642, 1297.000000000031, 1297.1666666666977, 1297.3333333333644, 1297.5000000000312, 1297.666666666698, 1297.8333333333646, 1298.0000000000314, 1298.1666666666981, 1298.3333333333649, 1298.5000000000316, 1298.6666666666983, 1298.833333333365, 1299.0000000000318, 1299.1666666666986, 1299.3333333333653, 1299.500000000032, 1299.6666666666988, 1299.8333333333655, 1300.0000000000323, 1300.166666666699, 1300.3333333333658, 1300.5000000000325, 1300.6666666666993, 1300.833333333366, 1301.0000000000327, 1301.1666666666995, 1301.3333333333662, 1301.500000000033, 1301.6666666666997, 1301.8333333333665, 1302.0000000000332, 1302.1666666667, 1302.3333333333667, 1302.5000000000334, 1302.6666666667002, 1302.833333333367, 1303.0000000000337, 1303.1666666667004, 1303.3333333333671, 1303.5000000000339, 1303.6666666667006, 1303.8333333333674, 1304.000000000034, 1304.1666666667008, 1304.3333333333676, 1304.5000000000343, 1304.666666666701, 1304.8333333333678, 1305.0000000000346, 1305.1666666667013, 1305.333333333368, 1305.5000000000348, 1305.6666666667015, 1305.8333333333683, 1306.000000000035, 1306.1666666667018, 1306.3333333333685, 1306.5000000000352, 1306.666666666702, 1306.8333333333687, 1307.0000000000355, 1307.1666666667022, 1307.333333333369, 1307.5000000000357, 1307.6666666667024, 1307.8333333333692, 1308.000000000036, 1308.1666666667027, 1308.3333333333694, 1308.5000000000362, 1308.666666666703, 1308.8333333333696, 1309.0000000000364, 1309.1666666667031, 1309.3333333333699, 1309.5000000000366, 1309.6666666667033, 1309.83333333337, 1310.0000000000368, 1310.1666666667036, 1310.3333333333703, 1310.500000000037, 1310.6666666667038, 1310.8333333333705, 1311.0000000000373, 1311.166666666704, 1311.3333333333708, 1311.5000000000375, 1311.6666666667043, 1311.833333333371, 1312.0000000000377, 1312.1666666667045, 1312.3333333333712, 1312.500000000038, 1312.6666666667047, 1312.8333333333715, 1313.0000000000382, 1313.166666666705, 1313.3333333333717, 1313.5000000000384, 1313.6666666667052, 1313.833333333372, 1314.0000000000387, 1314.1666666667054, 1314.3333333333721, 1314.5000000000389, 1314.6666666667056, 1314.8333333333724, 1315.000000000039, 1315.1666666667059, 1315.3333333333726, 1315.5000000000393, 1315.666666666706, 1315.8333333333728, 1316.0000000000396, 1316.1666666667063, 1316.333333333373, 1316.5000000000398, 1316.6666666667065, 1316.8333333333733, 1317.00000000004, 1317.1666666667068, 1317.3333333333735, 1317.5000000000402, 1317.666666666707, 1317.8333333333737, 1318.0000000000405, 1318.1666666667072, 1318.333333333374, 1318.5000000000407, 1318.6666666667074, 1318.8333333333742, 1319.000000000041, 1319.1666666667077, 1319.3333333333744, 1319.5000000000412, 1319.666666666708, 1319.8333333333746, 1320.0000000000414, 1320.1666666667081, 1320.3333333333749, 1320.5000000000416, 1320.6666666667084, 1320.833333333375, 1321.0000000000418, 1321.1666666667086, 1321.3333333333753, 1321.500000000042, 1321.6666666667088, 1321.8333333333755, 1322.0000000000423, 1322.166666666709, 1322.3333333333758, 1322.5000000000425, 1322.6666666667093, 1322.833333333376, 1323.0000000000427, 1323.1666666667095, 1323.3333333333762, 1323.500000000043, 1323.6666666667097, 1323.8333333333765, 1324.0000000000432, 1324.16666666671, 1324.3333333333767, 1324.5000000000434, 1324.6666666667102, 1324.833333333377, 1325.0000000000437, 1325.1666666667104, 1325.3333333333771, 1325.5000000000439, 1325.6666666667106, 1325.8333333333774, 1326.000000000044, 1326.1666666667109, 1326.3333333333776, 1326.5000000000443, 1326.666666666711, 1326.8333333333778, 1327.0000000000446, 1327.1666666667113, 1327.333333333378, 1327.5000000000448, 1327.6666666667115, 1327.8333333333783, 1328.000000000045, 1328.1666666667118, 1328.3333333333785, 1328.5000000000452, 1328.666666666712, 1328.8333333333787, 1329.0000000000455, 1329.1666666667122, 1329.333333333379, 1329.5000000000457, 1329.6666666667124, 1329.8333333333792, 1330.000000000046, 1330.1666666667127, 1330.3333333333794, 1330.5000000000462, 1330.666666666713, 1330.8333333333796, 1331.0000000000464, 1331.1666666667131, 1331.3333333333799, 1331.5000000000466, 1331.6666666667134, 1331.83333333338, 1332.0000000000468, 1332.1666666667136, 1332.3333333333803, 1332.500000000047, 1332.6666666667138, 1332.8333333333806, 1333.0000000000473, 1333.166666666714, 1333.3333333333808, 1333.5000000000475, 1333.6666666667143, 1333.833333333381, 1334.0000000000477, 1334.1666666667145, 1334.3333333333812, 1334.500000000048, 1334.6666666667147, 1334.8333333333815, 1335.0000000000482, 1335.166666666715, 1335.3333333333817, 1335.5000000000484, 1335.6666666667152, 1335.833333333382, 1336.0000000000487, 1336.1666666667154, 1336.3333333333821, 1336.5000000000489, 1336.6666666667156, 1336.8333333333824, 1337.000000000049, 1337.1666666667159, 1337.3333333333826, 1337.5000000000493, 1337.666666666716, 1337.8333333333828, 1338.0000000000496, 1338.1666666667163, 1338.333333333383, 1338.5000000000498, 1338.6666666667165, 1338.8333333333833, 1339.00000000005, 1339.1666666667168, 1339.3333333333835, 1339.5000000000502, 1339.666666666717, 1339.8333333333837, 1340.0000000000505, 1340.1666666667172, 1340.333333333384, 1340.5000000000507, 1340.6666666667174, 1340.8333333333842, 1341.000000000051, 1341.1666666667177, 1341.3333333333844, 1341.5000000000512, 1341.666666666718, 1341.8333333333846, 1342.0000000000514, 1342.1666666667181, 1342.3333333333849, 1342.5000000000516, 1342.6666666667184, 1342.833333333385, 1343.0000000000518, 1343.1666666667186, 1343.3333333333853, 1343.500000000052, 1343.6666666667188, 1343.8333333333856, 1344.0000000000523, 1344.166666666719, 1344.3333333333858, 1344.5000000000525, 1344.6666666667193, 1344.833333333386, 1345.0000000000528, 1345.1666666667195, 1345.3333333333862, 1345.500000000053, 1345.6666666667197, 1345.8333333333865, 1346.0000000000532, 1346.16666666672, 1346.3333333333867, 1346.5000000000534, 1346.6666666667202, 1346.833333333387, 1347.0000000000537, 1347.1666666667204, 1347.3333333333871, 1347.500000000054, 1347.6666666667206, 1347.8333333333874, 1348.0000000000541, 1348.1666666667209, 1348.3333333333876, 1348.5000000000543, 1348.666666666721, 1348.8333333333878, 1349.0000000000546, 1349.1666666667213, 1349.333333333388, 1349.5000000000548, 1349.6666666667215, 1349.8333333333883, 1350.000000000055, 1350.1666666667218, 1350.3333333333885, 1350.5000000000553, 1350.666666666722, 1350.8333333333887, 1351.0000000000555, 1351.1666666667222, 1351.333333333389, 1351.5000000000557, 1351.6666666667224, 1351.8333333333892, 1352.000000000056, 1352.1666666667227, 1352.3333333333894, 1352.5000000000562, 1352.666666666723, 1352.8333333333896, 1353.0000000000564, 1353.1666666667231, 1353.3333333333899, 1353.5000000000566, 1353.6666666667234, 1353.83333333339, 1354.0000000000568, 1354.1666666667236, 1354.3333333333903, 1354.500000000057, 1354.6666666667238, 1354.8333333333906, 1355.0000000000573, 1355.166666666724, 1355.3333333333908, 1355.5000000000575, 1355.6666666667243, 1355.833333333391, 1356.0000000000578, 1356.1666666667245, 1356.3333333333912, 1356.500000000058, 1356.6666666667247, 1356.8333333333915, 1357.0000000000582, 1357.166666666725, 1357.3333333333917, 1357.5000000000584, 1357.6666666667252, 1357.833333333392, 1358.0000000000587, 1358.1666666667254, 1358.3333333333921, 1358.500000000059, 1358.6666666667256, 1358.8333333333924, 1359.0000000000591, 1359.1666666667259, 1359.3333333333926, 1359.5000000000593, 1359.666666666726, 1359.8333333333928, 1360.0000000000596, 1360.1666666667263, 1360.333333333393, 1360.5000000000598, 1360.6666666667265, 1360.8333333333933, 1361.00000000006, 1361.1666666667268, 1361.3333333333935, 1361.5000000000603, 1361.666666666727, 1361.8333333333937, 1362.0000000000605, 1362.1666666667272, 1362.333333333394, 1362.5000000000607, 1362.6666666667275, 1362.8333333333942, 1363.000000000061, 1363.1666666667277, 1363.3333333333944, 1363.5000000000612, 1363.666666666728, 1363.8333333333946, 1364.0000000000614, 1364.1666666667281, 1364.3333333333949, 1364.5000000000616, 1364.6666666667284, 1364.833333333395, 1365.0000000000618, 1365.1666666667286, 1365.3333333333953, 1365.500000000062, 1365.6666666667288, 1365.8333333333956, 1366.0000000000623, 1366.166666666729, 1366.3333333333958, 1366.5000000000625, 1366.6666666667293, 1366.833333333396, 1367.0000000000628, 1367.1666666667295, 1367.3333333333962, 1367.500000000063, 1367.6666666667297, 1367.8333333333965, 1368.0000000000632, 1368.16666666673, 1368.3333333333967, 1368.5000000000634, 1368.6666666667302, 1368.833333333397, 1369.0000000000637, 1369.1666666667304, 1369.3333333333971, 1369.500000000064, 1369.6666666667306, 1369.8333333333974, 1370.0000000000641, 1370.1666666667309, 1370.3333333333976, 1370.5000000000643, 1370.666666666731, 1370.8333333333978, 1371.0000000000646, 1371.1666666667313, 1371.333333333398, 1371.5000000000648, 1371.6666666667315, 1371.8333333333983, 1372.000000000065, 1372.1666666667318, 1372.3333333333985, 1372.5000000000653, 1372.666666666732, 1372.8333333333987, 1373.0000000000655, 1373.1666666667322, 1373.333333333399, 1373.5000000000657, 1373.6666666667325, 1373.8333333333992, 1374.000000000066, 1374.1666666667327, 1374.3333333333994, 1374.5000000000662, 1374.666666666733, 1374.8333333333997, 1375.0000000000664, 1375.1666666667331, 1375.3333333333999, 1375.5000000000666, 1375.6666666667334, 1375.8333333334, 1376.0000000000668, 1376.1666666667336, 1376.3333333334003, 1376.500000000067, 1376.6666666667338, 1376.8333333334006, 1377.0000000000673, 1377.166666666734, 1377.3333333334008, 1377.5000000000675, 1377.6666666667343, 1377.833333333401, 1378.0000000000678, 1378.1666666667345, 1378.3333333334012, 1378.500000000068, 1378.6666666667347, 1378.8333333334015, 1379.0000000000682, 1379.166666666735, 1379.3333333334017, 1379.5000000000684, 1379.6666666667352, 1379.833333333402, 1380.0000000000687, 1380.1666666667354, 1380.3333333334022, 1380.500000000069, 1380.6666666667356, 1380.8333333334024, 1381.0000000000691, 1381.1666666667359, 1381.3333333334026, 1381.5000000000693, 1381.666666666736, 1381.8333333334028, 1382.0000000000696, 1382.1666666667363, 1382.333333333403, 1382.5000000000698, 1382.6666666667365, 1382.8333333334033, 1383.00000000007, 1383.1666666667368, 1383.3333333334035, 1383.5000000000703, 1383.666666666737, 1383.8333333334037, 1384.0000000000705, 1384.1666666667372, 1384.333333333404, 1384.5000000000707, 1384.6666666667375, 1384.8333333334042, 1385.000000000071, 1385.1666666667377, 1385.3333333334044, 1385.5000000000712, 1385.666666666738, 1385.8333333334047, 1386.0000000000714, 1386.1666666667381, 1386.3333333334049, 1386.5000000000716, 1386.6666666667384, 1386.833333333405, 1387.0000000000719, 1387.1666666667386, 1387.3333333334053, 1387.500000000072, 1387.6666666667388, 1387.8333333334056, 1388.0000000000723, 1388.166666666739, 1388.3333333334058, 1388.5000000000725, 1388.6666666667393, 1388.833333333406, 1389.0000000000728, 1389.1666666667395, 1389.3333333334062, 1389.500000000073, 1389.6666666667397, 1389.8333333334065, 1390.0000000000732, 1390.16666666674, 1390.3333333334067, 1390.5000000000734, 1390.6666666667402, 1390.833333333407, 1391.0000000000737, 1391.1666666667404, 1391.3333333334072, 1391.500000000074, 1391.6666666667406, 1391.8333333334074, 1392.0000000000741, 1392.1666666667409, 1392.3333333334076, 1392.5000000000744, 1392.666666666741, 1392.8333333334078, 1393.0000000000746, 1393.1666666667413, 1393.333333333408, 1393.5000000000748, 1393.6666666667415, 1393.8333333334083, 1394.000000000075, 1394.1666666667418, 1394.3333333334085, 1394.5000000000753, 1394.666666666742, 1394.8333333334087, 1395.0000000000755, 1395.1666666667422, 1395.333333333409, 1395.5000000000757, 1395.6666666667425, 1395.8333333334092, 1396.000000000076, 1396.1666666667427, 1396.3333333334094, 1396.5000000000762, 1396.666666666743, 1396.8333333334097, 1397.0000000000764, 1397.1666666667431, 1397.3333333334099, 1397.5000000000766, 1397.6666666667434, 1397.83333333341, 1398.0000000000769, 1398.1666666667436, 1398.3333333334103, 1398.500000000077, 1398.6666666667438, 1398.8333333334106, 1399.0000000000773, 1399.166666666744, 1399.3333333334108, 1399.5000000000775, 1399.6666666667443, 1399.833333333411, 1400.0000000000778, 1400.1666666667445, 1400.3333333334112, 1400.500000000078, 1400.6666666667447, 1400.8333333334115, 1401.0000000000782, 1401.166666666745, 1401.3333333334117, 1401.5000000000784, 1401.6666666667452, 1401.833333333412, 1402.0000000000787, 1402.1666666667454, 1402.3333333334122, 1402.500000000079, 1402.6666666667456, 1402.8333333334124, 1403.0000000000791, 1403.1666666667459, 1403.3333333334126, 1403.5000000000794, 1403.666666666746, 1403.8333333334128, 1404.0000000000796, 1404.1666666667463, 1404.333333333413, 1404.5000000000798, 1404.6666666667466, 1404.8333333334133, 1405.00000000008, 1405.1666666667468, 1405.3333333334135, 1405.5000000000803, 1405.666666666747, 1405.8333333334137, 1406.0000000000805, 1406.1666666667472, 1406.333333333414, 1406.5000000000807, 1406.6666666667475, 1406.8333333334142, 1407.000000000081, 1407.1666666667477, 1407.3333333334144, 1407.5000000000812, 1407.666666666748, 1407.8333333334147, 1408.0000000000814, 1408.1666666667481, 1408.3333333334149, 1408.5000000000816, 1408.6666666667484, 1408.833333333415, 1409.0000000000819, 1409.1666666667486, 1409.3333333334153, 1409.500000000082, 1409.6666666667488, 1409.8333333334156, 1410.0000000000823, 1410.166666666749, 1410.3333333334158, 1410.5000000000825, 1410.6666666667493, 1410.833333333416, 1411.0000000000828, 1411.1666666667495, 1411.3333333334162, 1411.500000000083, 1411.6666666667497, 1411.8333333334165, 1412.0000000000832, 1412.16666666675, 1412.3333333334167, 1412.5000000000834, 1412.6666666667502, 1412.833333333417, 1413.0000000000837, 1413.1666666667504, 1413.3333333334172, 1413.500000000084, 1413.6666666667506, 1413.8333333334174, 1414.0000000000841, 1414.1666666667509, 1414.3333333334176, 1414.5000000000844, 1414.666666666751, 1414.8333333334178, 1415.0000000000846, 1415.1666666667513, 1415.333333333418, 1415.5000000000848, 1415.6666666667516, 1415.8333333334183, 1416.000000000085, 1416.1666666667518, 1416.3333333334185, 1416.5000000000853, 1416.666666666752, 1416.8333333334188, 1417.0000000000855, 1417.1666666667522, 1417.333333333419, 1417.5000000000857, 1417.6666666667525, 1417.8333333334192, 1418.000000000086, 1418.1666666667527, 1418.3333333334194, 1418.5000000000862, 1418.666666666753, 1418.8333333334197, 1419.0000000000864, 1419.1666666667531, 1419.33333333342, 1419.5000000000866, 1419.6666666667534, 1419.8333333334201, 1420.0000000000869, 1420.1666666667536, 1420.3333333334203, 1420.500000000087, 1420.6666666667538, 1420.8333333334206, 1421.0000000000873, 1421.166666666754, 1421.3333333334208, 1421.5000000000875, 1421.6666666667543, 1421.833333333421, 1422.0000000000878, 1422.1666666667545, 1422.3333333334213, 1422.500000000088, 1422.6666666667547, 1422.8333333334215, 1423.0000000000882, 1423.166666666755, 1423.3333333334217, 1423.5000000000884, 1423.6666666667552, 1423.833333333422, 1424.0000000000887, 1424.1666666667554, 1424.3333333334222, 1424.500000000089, 1424.6666666667556, 1424.8333333334224, 1425.0000000000891, 1425.1666666667559, 1425.3333333334226, 1425.5000000000894, 1425.666666666756, 1425.8333333334228, 1426.0000000000896, 1426.1666666667563, 1426.333333333423, 1426.5000000000898, 1426.6666666667566, 1426.8333333334233, 1427.00000000009, 1427.1666666667568, 1427.3333333334235, 1427.5000000000903, 1427.666666666757, 1427.8333333334238, 1428.0000000000905, 1428.1666666667572, 1428.333333333424, 1428.5000000000907, 1428.6666666667575, 1428.8333333334242, 1429.000000000091, 1429.1666666667577, 1429.3333333334244, 1429.5000000000912, 1429.666666666758, 1429.8333333334247, 1430.0000000000914, 1430.1666666667581, 1430.333333333425, 1430.5000000000916, 1430.6666666667584, 1430.8333333334251, 1431.0000000000919, 1431.1666666667586, 1431.3333333334253, 1431.500000000092, 1431.6666666667588, 1431.8333333334256, 1432.0000000000923, 1432.166666666759, 1432.3333333334258, 1432.5000000000925, 1432.6666666667593, 1432.833333333426, 1433.0000000000928, 1433.1666666667595, 1433.3333333334263, 1433.500000000093, 1433.6666666667597, 1433.8333333334265, 1434.0000000000932, 1434.16666666676, 1434.3333333334267, 1434.5000000000935, 1434.6666666667602, 1434.833333333427, 1435.0000000000937, 1435.1666666667604, 1435.3333333334272, 1435.500000000094, 1435.6666666667606, 1435.8333333334274, 1436.0000000000941, 1436.1666666667609, 1436.3333333334276, 1436.5000000000944, 1436.666666666761, 1436.8333333334278, 1437.0000000000946, 1437.1666666667613, 1437.333333333428, 1437.5000000000948, 1437.6666666667616, 1437.8333333334283, 1438.000000000095, 1438.1666666667618, 1438.3333333334285, 1438.5000000000953, 1438.666666666762, 1438.8333333334288, 1439.0000000000955, 1439.1666666667622, 1439.333333333429, 1439.5000000000957, 1439.6666666667625, 1439.8333333334292, 1440.000000000096, 1440.1666666667627, 1440.3333333334294, 1440.5000000000962, 1440.666666666763, 1440.8333333334297, 1441.0000000000964, 1441.1666666667631, 1441.33333333343, 1441.5000000000966, 1441.6666666667634, 1441.8333333334301, 1442.0000000000969, 1442.1666666667636, 1442.3333333334303, 1442.500000000097, 1442.6666666667638, 1442.8333333334306, 1443.0000000000973, 1443.166666666764, 1443.3333333334308, 1443.5000000000975, 1443.6666666667643, 1443.833333333431, 1444.0000000000978, 1444.1666666667645, 1444.3333333334313, 1444.500000000098, 1444.6666666667647, 1444.8333333334315, 1445.0000000000982, 1445.166666666765, 1445.3333333334317, 1445.5000000000985, 1445.6666666667652, 1445.833333333432, 1446.0000000000987, 1446.1666666667654, 1446.3333333334322, 1446.500000000099, 1446.6666666667657, 1446.8333333334324, 1447.0000000000991, 1447.1666666667659, 1447.3333333334326, 1447.5000000000994, 1447.666666666766, 1447.8333333334328, 1448.0000000000996, 1448.1666666667663, 1448.333333333433, 1448.5000000000998, 1448.6666666667666, 1448.8333333334333, 1449.0000000001, 1449.1666666667668, 1449.3333333334335, 1449.5000000001003, 1449.666666666767, 1449.8333333334338, 1450.0000000001005, 1450.1666666667672, 1450.333333333434, 1450.5000000001007, 1450.6666666667675, 1450.8333333334342, 1451.000000000101, 1451.1666666667677, 1451.3333333334344, 1451.5000000001012, 1451.666666666768, 1451.8333333334347, 1452.0000000001014, 1452.1666666667682, 1452.333333333435, 1452.5000000001016, 1452.6666666667684, 1452.8333333334351, 1453.0000000001019, 1453.1666666667686, 1453.3333333334353, 1453.500000000102, 1453.6666666667688, 1453.8333333334356, 1454.0000000001023, 1454.166666666769, 1454.3333333334358, 1454.5000000001025, 1454.6666666667693, 1454.833333333436, 1455.0000000001028, 1455.1666666667695, 1455.3333333334363, 1455.500000000103, 1455.6666666667697, 1455.8333333334365, 1456.0000000001032, 1456.16666666677, 1456.3333333334367, 1456.5000000001035, 1456.6666666667702, 1456.833333333437, 1457.0000000001037, 1457.1666666667704, 1457.3333333334372, 1457.500000000104, 1457.6666666667707, 1457.8333333334374, 1458.0000000001041, 1458.1666666667709, 1458.3333333334376, 1458.5000000001044, 1458.666666666771, 1458.8333333334378, 1459.0000000001046, 1459.1666666667713, 1459.333333333438, 1459.5000000001048, 1459.6666666667716, 1459.8333333334383, 1460.000000000105, 1460.1666666667718, 1460.3333333334385, 1460.5000000001053, 1460.666666666772, 1460.8333333334388, 1461.0000000001055, 1461.1666666667722, 1461.333333333439, 1461.5000000001057, 1461.6666666667725, 1461.8333333334392, 1462.000000000106, 1462.1666666667727, 1462.3333333334394, 1462.5000000001062, 1462.666666666773, 1462.8333333334397, 1463.0000000001064, 1463.1666666667732, 1463.33333333344, 1463.5000000001066, 1463.6666666667734, 1463.8333333334401, 1464.0000000001069, 1464.1666666667736, 1464.3333333334404, 1464.500000000107, 1464.6666666667738, 1464.8333333334406, 1465.0000000001073, 1465.166666666774, 1465.3333333334408, 1465.5000000001075, 1465.6666666667743, 1465.833333333441, 1466.0000000001078, 1466.1666666667745, 1466.3333333334413, 1466.500000000108, 1466.6666666667747, 1466.8333333334415, 1467.0000000001082, 1467.166666666775, 1467.3333333334417, 1467.5000000001085, 1467.6666666667752, 1467.833333333442, 1468.0000000001087, 1468.1666666667754, 1468.3333333334422, 1468.500000000109, 1468.6666666667757, 1468.8333333334424, 1469.0000000001091, 1469.1666666667759, 1469.3333333334426, 1469.5000000001094, 1469.666666666776, 1469.8333333334429, 1470.0000000001096, 1470.1666666667763, 1470.333333333443, 1470.5000000001098, 1470.6666666667766, 1470.8333333334433, 1471.00000000011, 1471.1666666667768, 1471.3333333334435, 1471.5000000001103, 1471.666666666777, 1471.8333333334438, 1472.0000000001105, 1472.1666666667772, 1472.333333333444, 1472.5000000001107, 1472.6666666667775, 1472.8333333334442, 1473.000000000111, 1473.1666666667777, 1473.3333333334444, 1473.5000000001112, 1473.666666666778, 1473.8333333334447, 1474.0000000001114, 1474.1666666667782, 1474.333333333445, 1474.5000000001116, 1474.6666666667784, 1474.8333333334451, 1475.0000000001119, 1475.1666666667786, 1475.3333333334454, 1475.500000000112, 1475.6666666667788, 1475.8333333334456, 1476.0000000001123, 1476.166666666779, 1476.3333333334458, 1476.5000000001125, 1476.6666666667793, 1476.833333333446, 1477.0000000001128, 1477.1666666667795, 1477.3333333334463, 1477.500000000113, 1477.6666666667797, 1477.8333333334465, 1478.0000000001132, 1478.16666666678, 1478.3333333334467, 1478.5000000001135, 1478.6666666667802, 1478.833333333447, 1479.0000000001137, 1479.1666666667804, 1479.3333333334472, 1479.500000000114, 1479.6666666667807, 1479.8333333334474, 1480.0000000001141, 1480.1666666667809, 1480.3333333334476, 1480.5000000001144, 1480.666666666781, 1480.8333333334479, 1481.0000000001146, 1481.1666666667813, 1481.333333333448, 1481.5000000001148, 1481.6666666667816, 1481.8333333334483, 1482.000000000115, 1482.1666666667818, 1482.3333333334485, 1482.5000000001153, 1482.666666666782, 1482.8333333334488, 1483.0000000001155, 1483.1666666667822, 1483.333333333449, 1483.5000000001157, 1483.6666666667825, 1483.8333333334492, 1484.000000000116, 1484.1666666667827, 1484.3333333334494, 1484.5000000001162, 1484.666666666783, 1484.8333333334497, 1485.0000000001164, 1485.1666666667832, 1485.33333333345, 1485.5000000001166, 1485.6666666667834, 1485.8333333334501, 1486.0000000001169, 1486.1666666667836, 1486.3333333334504, 1486.500000000117, 1486.6666666667838, 1486.8333333334506, 1487.0000000001173, 1487.166666666784, 1487.3333333334508, 1487.5000000001176, 1487.6666666667843, 1487.833333333451, 1488.0000000001178, 1488.1666666667845, 1488.3333333334513, 1488.500000000118, 1488.6666666667847, 1488.8333333334515, 1489.0000000001182, 1489.166666666785, 1489.3333333334517, 1489.5000000001185, 1489.6666666667852, 1489.833333333452, 1490.0000000001187, 1490.1666666667854, 1490.3333333334522, 1490.500000000119, 1490.6666666667857, 1490.8333333334524, 1491.0000000001191, 1491.1666666667859, 1491.3333333334526, 1491.5000000001194, 1491.666666666786, 1491.8333333334529, 1492.0000000001196, 1492.1666666667863, 1492.333333333453, 1492.5000000001198, 1492.6666666667866, 1492.8333333334533, 1493.00000000012, 1493.1666666667868, 1493.3333333334535, 1493.5000000001203, 1493.666666666787, 1493.8333333334538, 1494.0000000001205, 1494.1666666667873, 1494.333333333454, 1494.5000000001207, 1494.6666666667875, 1494.8333333334542, 1495.000000000121, 1495.1666666667877, 1495.3333333334544, 1495.5000000001212, 1495.666666666788, 1495.8333333334547, 1496.0000000001214, 1496.1666666667882, 1496.333333333455, 1496.5000000001216, 1496.6666666667884, 1496.8333333334551, 1497.0000000001219, 1497.1666666667886, 1497.3333333334554, 1497.500000000122, 1497.6666666667888, 1497.8333333334556, 1498.0000000001223, 1498.166666666789, 1498.3333333334558, 1498.5000000001226, 1498.6666666667893, 1498.833333333456, 1499.0000000001228, 1499.1666666667895, 1499.3333333334563, 1499.500000000123, 1499.6666666667898, 1499.8333333334565, 1500.0000000001232, 1500.16666666679, 1500.3333333334567, 1500.5000000001235, 1500.6666666667902, 1500.833333333457, 1501.0000000001237, 1501.1666666667904, 1501.3333333334572, 1501.500000000124, 1501.6666666667907, 1501.8333333334574, 1502.0000000001241, 1502.166666666791, 1502.3333333334576, 1502.5000000001244, 1502.6666666667911, 1502.8333333334579, 1503.0000000001246, 1503.1666666667913, 1503.333333333458, 1503.5000000001248, 1503.6666666667916, 1503.8333333334583, 1504.000000000125, 1504.1666666667918, 1504.3333333334585, 1504.5000000001253, 1504.666666666792, 1504.8333333334588, 1505.0000000001255, 1505.1666666667923, 1505.333333333459, 1505.5000000001257, 1505.6666666667925, 1505.8333333334592, 1506.000000000126, 1506.1666666667927, 1506.3333333334594, 1506.5000000001262, 1506.666666666793, 1506.8333333334597, 1507.0000000001264, 1507.1666666667932, 1507.33333333346, 1507.5000000001266, 1507.6666666667934, 1507.8333333334601, 1508.0000000001269, 1508.1666666667936, 1508.3333333334604, 1508.500000000127, 1508.6666666667938, 1508.8333333334606, 1509.0000000001273, 1509.166666666794, 1509.3333333334608, 1509.5000000001276, 1509.6666666667943, 1509.833333333461, 1510.0000000001278, 1510.1666666667945, 1510.3333333334613, 1510.500000000128, 1510.6666666667948, 1510.8333333334615, 1511.0000000001282, 1511.166666666795, 1511.3333333334617, 1511.5000000001285, 1511.6666666667952, 1511.833333333462, 1512.0000000001287, 1512.1666666667954, 1512.3333333334622, 1512.500000000129, 1512.6666666667957, 1512.8333333334624, 1513.0000000001291, 1513.166666666796, 1513.3333333334626, 1513.5000000001294, 1513.6666666667961, 1513.8333333334629, 1514.0000000001296, 1514.1666666667963, 1514.333333333463, 1514.5000000001298, 1514.6666666667966, 1514.8333333334633, 1515.00000000013, 1515.1666666667968, 1515.3333333334635, 1515.5000000001303, 1515.666666666797, 1515.8333333334638, 1516.0000000001305, 1516.1666666667973, 1516.333333333464, 1516.5000000001307, 1516.6666666667975, 1516.8333333334642, 1517.000000000131, 1517.1666666667977, 1517.3333333334645, 1517.5000000001312, 1517.666666666798, 1517.8333333334647, 1518.0000000001314, 1518.1666666667982, 1518.333333333465, 1518.5000000001316, 1518.6666666667984, 1518.8333333334651, 1519.0000000001319, 1519.1666666667986, 1519.3333333334654, 1519.500000000132, 1519.6666666667988, 1519.8333333334656, 1520.0000000001323, 1520.166666666799, 1520.3333333334658, 1520.5000000001326, 1520.6666666667993, 1520.833333333466, 1521.0000000001328, 1521.1666666667995, 1521.3333333334663, 1521.500000000133, 1521.6666666667998, 1521.8333333334665, 1522.0000000001332, 1522.1666666668, 1522.3333333334667, 1522.5000000001335, 1522.6666666668002, 1522.833333333467, 1523.0000000001337, 1523.1666666668004, 1523.3333333334672, 1523.500000000134, 1523.6666666668007, 1523.8333333334674, 1524.0000000001342, 1524.166666666801, 1524.3333333334676, 1524.5000000001344, 1524.6666666668011, 1524.8333333334679, 1525.0000000001346, 1525.1666666668013, 1525.333333333468, 1525.5000000001348, 1525.6666666668016, 1525.8333333334683, 1526.000000000135, 1526.1666666668018, 1526.3333333334685, 1526.5000000001353, 1526.666666666802, 1526.8333333334688, 1527.0000000001355, 1527.1666666668023, 1527.333333333469, 1527.5000000001357, 1527.6666666668025, 1527.8333333334692, 1528.000000000136, 1528.1666666668027, 1528.3333333334695, 1528.5000000001362, 1528.666666666803, 1528.8333333334697, 1529.0000000001364, 1529.1666666668032, 1529.33333333347, 1529.5000000001367, 1529.6666666668034, 1529.8333333334701, 1530.0000000001369, 1530.1666666668036, 1530.3333333334704, 1530.500000000137, 1530.6666666668038, 1530.8333333334706, 1531.0000000001373, 1531.166666666804, 1531.3333333334708, 1531.5000000001376, 1531.6666666668043, 1531.833333333471, 1532.0000000001378, 1532.1666666668045, 1532.3333333334713, 1532.500000000138, 1532.6666666668048, 1532.8333333334715, 1533.0000000001382, 1533.166666666805, 1533.3333333334717, 1533.5000000001385, 1533.6666666668052, 1533.833333333472, 1534.0000000001387, 1534.1666666668054, 1534.3333333334722, 1534.500000000139, 1534.6666666668057, 1534.8333333334724, 1535.0000000001392, 1535.166666666806, 1535.3333333334726, 1535.5000000001394, 1535.6666666668061, 1535.8333333334729, 1536.0000000001396, 1536.1666666668063, 1536.333333333473, 1536.5000000001398, 1536.6666666668066, 1536.8333333334733, 1537.00000000014, 1537.1666666668068, 1537.3333333334735, 1537.5000000001403, 1537.666666666807, 1537.8333333334738, 1538.0000000001405, 1538.1666666668073, 1538.333333333474, 1538.5000000001407, 1538.6666666668075, 1538.8333333334742, 1539.000000000141, 1539.1666666668077, 1539.3333333334745, 1539.5000000001412, 1539.666666666808, 1539.8333333334747, 1540.0000000001414, 1540.1666666668082, 1540.333333333475, 1540.5000000001417, 1540.6666666668084, 1540.8333333334751, 1541.0000000001419, 1541.1666666668086, 1541.3333333334754, 1541.500000000142, 1541.6666666668089, 1541.8333333334756, 1542.0000000001423, 1542.166666666809, 1542.3333333334758, 1542.5000000001426, 1542.6666666668093, 1542.833333333476, 1543.0000000001428, 1543.1666666668095, 1543.3333333334763, 1543.500000000143, 1543.6666666668098, 1543.8333333334765, 1544.0000000001432, 1544.16666666681, 1544.3333333334767, 1544.5000000001435, 1544.6666666668102, 1544.833333333477, 1545.0000000001437, 1545.1666666668104, 1545.3333333334772, 1545.500000000144, 1545.6666666668107, 1545.8333333334774, 1546.0000000001442, 1546.166666666811, 1546.3333333334776, 1546.5000000001444, 1546.6666666668111, 1546.8333333334779, 1547.0000000001446, 1547.1666666668114, 1547.333333333478, 1547.5000000001448, 1547.6666666668116, 1547.8333333334783, 1548.000000000145, 1548.1666666668118, 1548.3333333334785, 1548.5000000001453, 1548.666666666812, 1548.8333333334788, 1549.0000000001455, 1549.1666666668123, 1549.333333333479, 1549.5000000001457, 1549.6666666668125, 1549.8333333334792, 1550.000000000146, 1550.1666666668127, 1550.3333333334795, 1550.5000000001462, 1550.666666666813, 1550.8333333334797, 1551.0000000001464, 1551.1666666668132, 1551.33333333348, 1551.5000000001467, 1551.6666666668134, 1551.8333333334801, 1552.0000000001469, 1552.1666666668136, 1552.3333333334804, 1552.500000000147, 1552.6666666668139, 1552.8333333334806, 1553.0000000001473, 1553.166666666814, 1553.3333333334808, 1553.5000000001476, 1553.6666666668143, 1553.833333333481, 1554.0000000001478, 1554.1666666668145, 1554.3333333334813, 1554.500000000148, 1554.6666666668148, 1554.8333333334815, 1555.0000000001482, 1555.166666666815, 1555.3333333334817, 1555.5000000001485, 1555.6666666668152, 1555.833333333482, 1556.0000000001487, 1556.1666666668154, 1556.3333333334822, 1556.500000000149, 1556.6666666668157, 1556.8333333334824, 1557.0000000001492, 1557.166666666816, 1557.3333333334826, 1557.5000000001494, 1557.6666666668161, 1557.8333333334829, 1558.0000000001496, 1558.1666666668164, 1558.333333333483, 1558.5000000001498, 1558.6666666668166, 1558.8333333334833, 1559.00000000015, 1559.1666666668168, 1559.3333333334836, 1559.5000000001503, 1559.666666666817, 1559.8333333334838, 1560.0000000001505, 1560.1666666668173, 1560.333333333484, 1560.5000000001507, 1560.6666666668175, 1560.8333333334842, 1561.000000000151, 1561.1666666668177, 1561.3333333334845, 1561.5000000001512, 1561.666666666818, 1561.8333333334847, 1562.0000000001514, 1562.1666666668182, 1562.333333333485, 1562.5000000001517, 1562.6666666668184, 1562.8333333334851, 1563.0000000001519, 1563.1666666668186, 1563.3333333334854, 1563.500000000152, 1563.6666666668189, 1563.8333333334856, 1564.0000000001523, 1564.166666666819, 1564.3333333334858, 1564.5000000001526, 1564.6666666668193, 1564.833333333486, 1565.0000000001528, 1565.1666666668195, 1565.3333333334863, 1565.500000000153, 1565.6666666668198, 1565.8333333334865, 1566.0000000001532, 1566.16666666682, 1566.3333333334867, 1566.5000000001535, 1566.6666666668202, 1566.833333333487, 1567.0000000001537, 1567.1666666668204, 1567.3333333334872, 1567.500000000154, 1567.6666666668207, 1567.8333333334874, 1568.0000000001542, 1568.166666666821, 1568.3333333334876, 1568.5000000001544, 1568.6666666668211, 1568.8333333334879, 1569.0000000001546, 1569.1666666668214, 1569.333333333488, 1569.5000000001548, 1569.6666666668216, 1569.8333333334883, 1570.000000000155, 1570.1666666668218, 1570.3333333334886, 1570.5000000001553, 1570.666666666822, 1570.8333333334888, 1571.0000000001555, 1571.1666666668223, 1571.333333333489, 1571.5000000001558, 1571.6666666668225, 1571.8333333334892, 1572.000000000156, 1572.1666666668227, 1572.3333333334895, 1572.5000000001562, 1572.666666666823, 1572.8333333334897, 1573.0000000001564, 1573.1666666668232, 1573.33333333349, 1573.5000000001567, 1573.6666666668234, 1573.8333333334901, 1574.000000000157, 1574.1666666668236, 1574.3333333334904, 1574.5000000001571, 1574.6666666668239, 1574.8333333334906, 1575.0000000001573, 1575.166666666824, 1575.3333333334908, 1575.5000000001576, 1575.6666666668243, 1575.833333333491, 1576.0000000001578, 1576.1666666668245, 1576.3333333334913, 1576.500000000158, 1576.6666666668248, 1576.8333333334915, 1577.0000000001583, 1577.166666666825, 1577.3333333334917, 1577.5000000001585, 1577.6666666668252, 1577.833333333492, 1578.0000000001587, 1578.1666666668254, 1578.3333333334922, 1578.500000000159, 1578.6666666668257, 1578.8333333334924, 1579.0000000001592, 1579.166666666826, 1579.3333333334926, 1579.5000000001594, 1579.6666666668261, 1579.8333333334929, 1580.0000000001596, 1580.1666666668264, 1580.333333333493, 1580.5000000001598, 1580.6666666668266, 1580.8333333334933, 1581.00000000016, 1581.1666666668268, 1581.3333333334936, 1581.5000000001603, 1581.666666666827, 1581.8333333334938, 1582.0000000001605, 1582.1666666668273, 1582.333333333494, 1582.5000000001608, 1582.6666666668275, 1582.8333333334942, 1583.000000000161, 1583.1666666668277, 1583.3333333334945, 1583.5000000001612, 1583.666666666828, 1583.8333333334947, 1584.0000000001614, 1584.1666666668282, 1584.333333333495, 1584.5000000001617, 1584.6666666668284, 1584.8333333334951, 1585.000000000162, 1585.1666666668286, 1585.3333333334954, 1585.5000000001621, 1585.6666666668289, 1585.8333333334956, 1586.0000000001623, 1586.166666666829, 1586.3333333334958, 1586.5000000001626, 1586.6666666668293, 1586.833333333496, 1587.0000000001628, 1587.1666666668295, 1587.3333333334963, 1587.500000000163, 1587.6666666668298, 1587.8333333334965, 1588.0000000001633, 1588.16666666683, 1588.3333333334967, 1588.5000000001635, 1588.6666666668302, 1588.833333333497, 1589.0000000001637, 1589.1666666668305, 1589.3333333334972, 1589.500000000164, 1589.6666666668307, 1589.8333333334974, 1590.0000000001642, 1590.166666666831, 1590.3333333334976, 1590.5000000001644, 1590.6666666668311, 1590.8333333334979, 1591.0000000001646, 1591.1666666668314, 1591.333333333498, 1591.5000000001648, 1591.6666666668316, 1591.8333333334983, 1592.000000000165, 1592.1666666668318, 1592.3333333334986, 1592.5000000001653, 1592.666666666832, 1592.8333333334988, 1593.0000000001655, 1593.1666666668323, 1593.333333333499, 1593.5000000001658, 1593.6666666668325, 1593.8333333334992, 1594.000000000166, 1594.1666666668327, 1594.3333333334995, 1594.5000000001662, 1594.666666666833, 1594.8333333334997, 1595.0000000001664, 1595.1666666668332, 1595.3333333335, 1595.5000000001667, 1595.6666666668334, 1595.8333333335001, 1596.000000000167, 1596.1666666668336, 1596.3333333335004, 1596.5000000001671, 1596.6666666668339, 1596.8333333335006, 1597.0000000001673, 1597.166666666834, 1597.3333333335008, 1597.5000000001676, 1597.6666666668343, 1597.833333333501, 1598.0000000001678, 1598.1666666668345, 1598.3333333335013, 1598.500000000168, 1598.6666666668348, 1598.8333333335015, 1599.0000000001683, 1599.166666666835, 1599.3333333335017, 1599.5000000001685, 1599.6666666668352, 1599.833333333502, 1600.0000000001687, 1600.1666666668355, 1600.3333333335022, 1600.500000000169, 1600.6666666668357, 1600.8333333335024, 1601.0000000001692, 1601.166666666836, 1601.3333333335027, 1601.5000000001694, 1601.6666666668361, 1601.8333333335029, 1602.0000000001696, 1602.1666666668364, 1602.333333333503, 1602.5000000001698, 1602.6666666668366, 1602.8333333335033, 1603.00000000017, 1603.1666666668368, 1603.3333333335036, 1603.5000000001703, 1603.666666666837, 1603.8333333335038, 1604.0000000001705, 1604.1666666668373, 1604.333333333504, 1604.5000000001708, 1604.6666666668375, 1604.8333333335042, 1605.000000000171, 1605.1666666668377, 1605.3333333335045, 1605.5000000001712, 1605.666666666838, 1605.8333333335047, 1606.0000000001714, 1606.1666666668382, 1606.333333333505, 1606.5000000001717, 1606.6666666668384, 1606.8333333335052, 1607.000000000172, 1607.1666666668386, 1607.3333333335054, 1607.5000000001721, 1607.6666666668389, 1607.8333333335056, 1608.0000000001723, 1608.166666666839, 1608.3333333335058, 1608.5000000001726, 1608.6666666668393, 1608.833333333506, 1609.0000000001728, 1609.1666666668395, 1609.3333333335063, 1609.500000000173, 1609.6666666668398, 1609.8333333335065, 1610.0000000001733, 1610.16666666684, 1610.3333333335067, 1610.5000000001735, 1610.6666666668402, 1610.833333333507, 1611.0000000001737, 1611.1666666668405, 1611.3333333335072, 1611.500000000174, 1611.6666666668407, 1611.8333333335074, 1612.0000000001742, 1612.166666666841, 1612.3333333335077, 1612.5000000001744, 1612.6666666668411, 1612.8333333335079, 1613.0000000001746, 1613.1666666668414, 1613.333333333508, 1613.5000000001749, 1613.6666666668416, 1613.8333333335083, 1614.000000000175, 1614.1666666668418, 1614.3333333335086, 1614.5000000001753, 1614.666666666842, 1614.8333333335088, 1615.0000000001755, 1615.1666666668423, 1615.333333333509, 1615.5000000001758, 1615.6666666668425, 1615.8333333335092, 1616.000000000176, 1616.1666666668427, 1616.3333333335095, 1616.5000000001762, 1616.666666666843, 1616.8333333335097, 1617.0000000001764, 1617.1666666668432, 1617.33333333351, 1617.5000000001767, 1617.6666666668434, 1617.8333333335102, 1618.000000000177, 1618.1666666668436, 1618.3333333335104, 1618.5000000001771, 1618.6666666668439, 1618.8333333335106, 1619.0000000001774, 1619.166666666844, 1619.3333333335108, 1619.5000000001776, 1619.6666666668443, 1619.833333333511, 1620.0000000001778, 1620.1666666668445, 1620.3333333335113, 1620.500000000178, 1620.6666666668448, 1620.8333333335115, 1621.0000000001783, 1621.166666666845, 1621.3333333335117, 1621.5000000001785, 1621.6666666668452, 1621.833333333512, 1622.0000000001787, 1622.1666666668455, 1622.3333333335122, 1622.500000000179, 1622.6666666668457, 1622.8333333335124, 1623.0000000001792, 1623.166666666846, 1623.3333333335127, 1623.5000000001794, 1623.6666666668461, 1623.8333333335129, 1624.0000000001796, 1624.1666666668464, 1624.333333333513, 1624.5000000001799, 1624.6666666668466, 1624.8333333335133, 1625.00000000018, 1625.1666666668468, 1625.3333333335136, 1625.5000000001803, 1625.666666666847, 1625.8333333335138, 1626.0000000001805, 1626.1666666668473, 1626.333333333514, 1626.5000000001808, 1626.6666666668475, 1626.8333333335142, 1627.000000000181, 1627.1666666668477, 1627.3333333335145, 1627.5000000001812, 1627.666666666848, 1627.8333333335147, 1628.0000000001814, 1628.1666666668482, 1628.333333333515, 1628.5000000001817, 1628.6666666668484, 1628.8333333335152, 1629.000000000182, 1629.1666666668486, 1629.3333333335154, 1629.5000000001821, 1629.6666666668489, 1629.8333333335156, 1630.0000000001824, 1630.166666666849, 1630.3333333335158, 1630.5000000001826, 1630.6666666668493, 1630.833333333516, 1631.0000000001828, 1631.1666666668496, 1631.3333333335163, 1631.500000000183, 1631.6666666668498, 1631.8333333335165, 1632.0000000001833, 1632.16666666685, 1632.3333333335167, 1632.5000000001835, 1632.6666666668502, 1632.833333333517, 1633.0000000001837, 1633.1666666668505, 1633.3333333335172, 1633.500000000184, 1633.6666666668507, 1633.8333333335174, 1634.0000000001842, 1634.166666666851, 1634.3333333335177, 1634.5000000001844, 1634.6666666668511, 1634.8333333335179, 1635.0000000001846, 1635.1666666668514, 1635.333333333518, 1635.5000000001849, 1635.6666666668516, 1635.8333333335183, 1636.000000000185, 1636.1666666668518, 1636.3333333335186, 1636.5000000001853, 1636.666666666852, 1636.8333333335188, 1637.0000000001855, 1637.1666666668523, 1637.333333333519, 1637.5000000001858, 1637.6666666668525, 1637.8333333335192, 1638.000000000186, 1638.1666666668527, 1638.3333333335195, 1638.5000000001862, 1638.666666666853, 1638.8333333335197, 1639.0000000001864, 1639.1666666668532, 1639.33333333352, 1639.5000000001867, 1639.6666666668534, 1639.8333333335202, 1640.000000000187, 1640.1666666668536, 1640.3333333335204, 1640.5000000001871, 1640.6666666668539, 1640.8333333335206, 1641.0000000001874, 1641.166666666854, 1641.3333333335208, 1641.5000000001876, 1641.6666666668543, 1641.833333333521, 1642.0000000001878, 1642.1666666668546, 1642.3333333335213, 1642.500000000188, 1642.6666666668548, 1642.8333333335215, 1643.0000000001883, 1643.166666666855, 1643.3333333335218, 1643.5000000001885, 1643.6666666668552, 1643.833333333522, 1644.0000000001887, 1644.1666666668555, 1644.3333333335222, 1644.500000000189, 1644.6666666668557, 1644.8333333335224, 1645.0000000001892, 1645.166666666856, 1645.3333333335227, 1645.5000000001894, 1645.6666666668561, 1645.833333333523, 1646.0000000001896, 1646.1666666668564, 1646.3333333335231, 1646.5000000001899, 1646.6666666668566, 1646.8333333335233, 1647.00000000019, 1647.1666666668568, 1647.3333333335236, 1647.5000000001903, 1647.666666666857, 1647.8333333335238, 1648.0000000001905, 1648.1666666668573, 1648.333333333524, 1648.5000000001908, 1648.6666666668575, 1648.8333333335243, 1649.000000000191, 1649.1666666668577, 1649.3333333335245, 1649.5000000001912, 1649.666666666858, 1649.8333333335247, 1650.0000000001914, 1650.1666666668582, 1650.333333333525, 1650.5000000001917, 1650.6666666668584, 1650.8333333335252, 1651.000000000192, 1651.1666666668586, 1651.3333333335254, 1651.5000000001921, 1651.6666666668589, 1651.8333333335256, 1652.0000000001924, 1652.166666666859, 1652.3333333335258, 1652.5000000001926, 1652.6666666668593, 1652.833333333526, 1653.0000000001928, 1653.1666666668596, 1653.3333333335263, 1653.500000000193, 1653.6666666668598, 1653.8333333335265, 1654.0000000001933, 1654.16666666686, 1654.3333333335268, 1654.5000000001935, 1654.6666666668602, 1654.833333333527, 1655.0000000001937, 1655.1666666668605, 1655.3333333335272, 1655.500000000194, 1655.6666666668607, 1655.8333333335274, 1656.0000000001942, 1656.166666666861, 1656.3333333335277, 1656.5000000001944, 1656.6666666668611, 1656.833333333528, 1657.0000000001946, 1657.1666666668614, 1657.3333333335281, 1657.5000000001949, 1657.6666666668616, 1657.8333333335283, 1658.000000000195, 1658.1666666668618, 1658.3333333335286, 1658.5000000001953, 1658.666666666862, 1658.8333333335288, 1659.0000000001955, 1659.1666666668623, 1659.333333333529, 1659.5000000001958, 1659.6666666668625, 1659.8333333335293, 1660.000000000196, 1660.1666666668627, 1660.3333333335295, 1660.5000000001962, 1660.666666666863, 1660.8333333335297, 1661.0000000001965, 1661.1666666668632, 1661.33333333353, 1661.5000000001967, 1661.6666666668634, 1661.8333333335302, 1662.000000000197, 1662.1666666668636, 1662.3333333335304, 1662.5000000001971, 1662.6666666668639, 1662.8333333335306, 1663.0000000001974, 1663.166666666864, 1663.3333333335308, 1663.5000000001976, 1663.6666666668643, 1663.833333333531, 1664.0000000001978, 1664.1666666668646, 1664.3333333335313, 1664.500000000198, 1664.6666666668648, 1664.8333333335315, 1665.0000000001983, 1665.166666666865, 1665.3333333335318, 1665.5000000001985, 1665.6666666668652, 1665.833333333532, 1666.0000000001987, 1666.1666666668655, 1666.3333333335322, 1666.500000000199, 1666.6666666668657, 1666.8333333335324, 1667.0000000001992, 1667.166666666866, 1667.3333333335327, 1667.5000000001994, 1667.6666666668661, 1667.833333333533, 1668.0000000001996, 1668.1666666668664, 1668.3333333335331, 1668.5000000001999, 1668.6666666668666, 1668.8333333335333, 1669.0000000002, 1669.1666666668668, 1669.3333333335336, 1669.5000000002003, 1669.666666666867, 1669.8333333335338, 1670.0000000002005, 1670.1666666668673, 1670.333333333534, 1670.5000000002008, 1670.6666666668675, 1670.8333333335343, 1671.000000000201, 1671.1666666668677, 1671.3333333335345, 1671.5000000002012, 1671.666666666868, 1671.8333333335347, 1672.0000000002015, 1672.1666666668682, 1672.333333333535, 1672.5000000002017, 1672.6666666668684, 1672.8333333335352, 1673.000000000202, 1673.1666666668687, 1673.3333333335354, 1673.5000000002021, 1673.6666666668689, 1673.8333333335356, 1674.0000000002024, 1674.166666666869, 1674.3333333335358, 1674.5000000002026, 1674.6666666668693, 1674.833333333536, 1675.0000000002028, 1675.1666666668696, 1675.3333333335363, 1675.500000000203, 1675.6666666668698, 1675.8333333335365, 1676.0000000002033, 1676.16666666687, 1676.3333333335368, 1676.5000000002035, 1676.6666666668702, 1676.833333333537, 1677.0000000002037, 1677.1666666668705, 1677.3333333335372, 1677.500000000204, 1677.6666666668707, 1677.8333333335374, 1678.0000000002042, 1678.166666666871, 1678.3333333335377, 1678.5000000002044, 1678.6666666668712, 1678.833333333538, 1679.0000000002046, 1679.1666666668714, 1679.3333333335381, 1679.5000000002049, 1679.6666666668716, 1679.8333333335383, 1680.000000000205, 1680.1666666668718, 1680.3333333335386, 1680.5000000002053, 1680.666666666872, 1680.8333333335388, 1681.0000000002055, 1681.1666666668723, 1681.333333333539, 1681.5000000002058, 1681.6666666668725, 1681.8333333335393, 1682.000000000206, 1682.1666666668727, 1682.3333333335395, 1682.5000000002062, 1682.666666666873, 1682.8333333335397, 1683.0000000002065, 1683.1666666668732, 1683.33333333354, 1683.5000000002067, 1683.6666666668734, 1683.8333333335402, 1684.000000000207, 1684.1666666668737, 1684.3333333335404, 1684.5000000002071, 1684.6666666668739, 1684.8333333335406, 1685.0000000002074, 1685.166666666874, 1685.3333333335408, 1685.5000000002076, 1685.6666666668743, 1685.833333333541, 1686.0000000002078, 1686.1666666668746, 1686.3333333335413, 1686.500000000208, 1686.6666666668748, 1686.8333333335415, 1687.0000000002083, 1687.166666666875, 1687.3333333335418, 1687.5000000002085, 1687.6666666668752, 1687.833333333542, 1688.0000000002087, 1688.1666666668755, 1688.3333333335422, 1688.500000000209, 1688.6666666668757, 1688.8333333335424, 1689.0000000002092, 1689.166666666876, 1689.3333333335427, 1689.5000000002094, 1689.6666666668762, 1689.833333333543, 1690.0000000002096, 1690.1666666668764, 1690.3333333335431, 1690.5000000002099, 1690.6666666668766, 1690.8333333335434, 1691.00000000021, 1691.1666666668768, 1691.3333333335436, 1691.5000000002103, 1691.666666666877, 1691.8333333335438, 1692.0000000002105, 1692.1666666668773, 1692.333333333544, 1692.5000000002108, 1692.6666666668775, 1692.8333333335443, 1693.000000000211, 1693.1666666668777, 1693.3333333335445, 1693.5000000002112, 1693.666666666878, 1693.8333333335447, 1694.0000000002115, 1694.1666666668782, 1694.333333333545, 1694.5000000002117, 1694.6666666668784, 1694.8333333335452, 1695.000000000212, 1695.1666666668787, 1695.3333333335454, 1695.5000000002121, 1695.6666666668789, 1695.8333333335456, 1696.0000000002124, 1696.166666666879, 1696.3333333335459, 1696.5000000002126, 1696.6666666668793, 1696.833333333546, 1697.0000000002128, 1697.1666666668796, 1697.3333333335463, 1697.500000000213, 1697.6666666668798, 1697.8333333335465, 1698.0000000002133, 1698.16666666688, 1698.3333333335468, 1698.5000000002135, 1698.6666666668802, 1698.833333333547, 1699.0000000002137, 1699.1666666668805, 1699.3333333335472, 1699.500000000214, 1699.6666666668807, 1699.8333333335474, 1700.0000000002142, 1700.166666666881, 1700.3333333335477, 1700.5000000002144, 1700.6666666668812, 1700.833333333548, 1701.0000000002146, 1701.1666666668814, 1701.3333333335481, 1701.5000000002149, 1701.6666666668816, 1701.8333333335484, 1702.000000000215, 1702.1666666668818, 1702.3333333335486, 1702.5000000002153, 1702.666666666882, 1702.8333333335488, 1703.0000000002156, 1703.1666666668823, 1703.333333333549, 1703.5000000002158, 1703.6666666668825, 1703.8333333335493, 1704.000000000216, 1704.1666666668827, 1704.3333333335495, 1704.5000000002162, 1704.666666666883, 1704.8333333335497, 1705.0000000002165, 1705.1666666668832, 1705.33333333355, 1705.5000000002167, 1705.6666666668834, 1705.8333333335502, 1706.000000000217, 1706.1666666668837, 1706.3333333335504, 1706.5000000002171, 1706.6666666668839, 1706.8333333335506, 1707.0000000002174, 1707.166666666884, 1707.3333333335509, 1707.5000000002176, 1707.6666666668843, 1707.833333333551, 1708.0000000002178, 1708.1666666668846, 1708.3333333335513, 1708.500000000218, 1708.6666666668848, 1708.8333333335515, 1709.0000000002183, 1709.166666666885, 1709.3333333335518, 1709.5000000002185, 1709.6666666668852, 1709.833333333552, 1710.0000000002187, 1710.1666666668855, 1710.3333333335522, 1710.500000000219, 1710.6666666668857, 1710.8333333335524, 1711.0000000002192, 1711.166666666886, 1711.3333333335527, 1711.5000000002194, 1711.6666666668862, 1711.833333333553, 1712.0000000002196, 1712.1666666668864, 1712.3333333335531, 1712.5000000002199, 1712.6666666668866, 1712.8333333335534, 1713.00000000022, 1713.1666666668868, 1713.3333333335536, 1713.5000000002203, 1713.666666666887, 1713.8333333335538, 1714.0000000002206, 1714.1666666668873, 1714.333333333554, 1714.5000000002208, 1714.6666666668875, 1714.8333333335543, 1715.000000000221, 1715.1666666668877, 1715.3333333335545, 1715.5000000002212, 1715.666666666888, 1715.8333333335547, 1716.0000000002215, 1716.1666666668882, 1716.333333333555, 1716.5000000002217, 1716.6666666668884, 1716.8333333335552, 1717.000000000222, 1717.1666666668887, 1717.3333333335554, 1717.5000000002221, 1717.666666666889, 1717.8333333335556, 1718.0000000002224, 1718.1666666668891, 1718.3333333335559, 1718.5000000002226, 1718.6666666668893, 1718.833333333556, 1719.0000000002228, 1719.1666666668896, 1719.3333333335563, 1719.500000000223, 1719.6666666668898, 1719.8333333335565, 1720.0000000002233, 1720.16666666689, 1720.3333333335568, 1720.5000000002235, 1720.6666666668903, 1720.833333333557, 1721.0000000002237, 1721.1666666668905, 1721.3333333335572, 1721.500000000224, 1721.6666666668907, 1721.8333333335574, 1722.0000000002242, 1722.166666666891, 1722.3333333335577, 1722.5000000002244, 1722.6666666668912, 1722.833333333558, 1723.0000000002246, 1723.1666666668914, 1723.3333333335581, 1723.5000000002249, 1723.6666666668916, 1723.8333333335584, 1724.000000000225, 1724.1666666668918, 1724.3333333335586, 1724.5000000002253, 1724.666666666892, 1724.8333333335588, 1725.0000000002256, 1725.1666666668923, 1725.333333333559, 1725.5000000002258, 1725.6666666668925, 1725.8333333335593, 1726.000000000226, 1726.1666666668928, 1726.3333333335595, 1726.5000000002262, 1726.666666666893, 1726.8333333335597, 1727.0000000002265, 1727.1666666668932, 1727.33333333356, 1727.5000000002267, 1727.6666666668934, 1727.8333333335602, 1728.000000000227, 1728.1666666668937, 1728.3333333335604, 1728.5000000002271, 1728.666666666894, 1728.8333333335606, 1729.0000000002274, 1729.1666666668941, 1729.3333333335609, 1729.5000000002276, 1729.6666666668943, 1729.833333333561, 1730.0000000002278, 1730.1666666668946, 1730.3333333335613, 1730.500000000228, 1730.6666666668948, 1730.8333333335615, 1731.0000000002283, 1731.166666666895, 1731.3333333335618, 1731.5000000002285, 1731.6666666668953, 1731.833333333562, 1732.0000000002287, 1732.1666666668955, 1732.3333333335622, 1732.500000000229, 1732.6666666668957, 1732.8333333335625, 1733.0000000002292, 1733.166666666896, 1733.3333333335627, 1733.5000000002294, 1733.6666666668962, 1733.833333333563, 1734.0000000002296, 1734.1666666668964, 1734.3333333335631, 1734.5000000002299, 1734.6666666668966, 1734.8333333335634, 1735.00000000023, 1735.1666666668968, 1735.3333333335636, 1735.5000000002303, 1735.666666666897, 1735.8333333335638, 1736.0000000002306, 1736.1666666668973, 1736.333333333564, 1736.5000000002308, 1736.6666666668975, 1736.8333333335643, 1737.000000000231, 1737.1666666668978, 1737.3333333335645, 1737.5000000002312, 1737.666666666898, 1737.8333333335647, 1738.0000000002315, 1738.1666666668982, 1738.333333333565, 1738.5000000002317, 1738.6666666668984, 1738.8333333335652, 1739.000000000232, 1739.1666666668987, 1739.3333333335654, 1739.5000000002321, 1739.666666666899, 1739.8333333335656, 1740.0000000002324, 1740.1666666668991, 1740.3333333335659, 1740.5000000002326, 1740.6666666668993, 1740.833333333566, 1741.0000000002328, 1741.1666666668996, 1741.3333333335663, 1741.500000000233, 1741.6666666668998, 1741.8333333335665, 1742.0000000002333, 1742.1666666669, 1742.3333333335668, 1742.5000000002335, 1742.6666666669003, 1742.833333333567, 1743.0000000002337, 1743.1666666669005, 1743.3333333335672, 1743.500000000234, 1743.6666666669007, 1743.8333333335675, 1744.0000000002342, 1744.166666666901, 1744.3333333335677, 1744.5000000002344, 1744.6666666669012, 1744.833333333568, 1745.0000000002346, 1745.1666666669014, 1745.3333333335681, 1745.5000000002349, 1745.6666666669016, 1745.8333333335684, 1746.000000000235, 1746.1666666669018, 1746.3333333335686, 1746.5000000002353, 1746.666666666902, 1746.8333333335688, 1747.0000000002356, 1747.1666666669023, 1747.333333333569, 1747.5000000002358, 1747.6666666669025, 1747.8333333335693, 1748.000000000236, 1748.1666666669028, 1748.3333333335695, 1748.5000000002362, 1748.666666666903, 1748.8333333335697, 1749.0000000002365, 1749.1666666669032, 1749.33333333357, 1749.5000000002367, 1749.6666666669034, 1749.8333333335702, 1750.000000000237, 1750.1666666669037, 1750.3333333335704, 1750.5000000002372, 1750.666666666904, 1750.8333333335706, 1751.0000000002374, 1751.1666666669041, 1751.3333333335709, 1751.5000000002376, 1751.6666666669043, 1751.833333333571, 1752.0000000002378, 1752.1666666669046, 1752.3333333335713, 1752.500000000238, 1752.6666666669048, 1752.8333333335715, 1753.0000000002383, 1753.166666666905, 1753.3333333335718, 1753.5000000002385, 1753.6666666669053, 1753.833333333572, 1754.0000000002387, 1754.1666666669055, 1754.3333333335722, 1754.500000000239, 1754.6666666669057, 1754.8333333335725, 1755.0000000002392, 1755.166666666906, 1755.3333333335727, 1755.5000000002394, 1755.6666666669062, 1755.833333333573, 1756.0000000002397, 1756.1666666669064, 1756.3333333335731, 1756.5000000002399, 1756.6666666669066, 1756.8333333335734, 1757.00000000024, 1757.1666666669068, 1757.3333333335736, 1757.5000000002403, 1757.666666666907, 1757.8333333335738, 1758.0000000002406, 1758.1666666669073, 1758.333333333574, 1758.5000000002408, 1758.6666666669075, 1758.8333333335743, 1759.000000000241, 1759.1666666669078, 1759.3333333335745, 1759.5000000002412, 1759.666666666908, 1759.8333333335747, 1760.0000000002415, 1760.1666666669082, 1760.333333333575, 1760.5000000002417, 1760.6666666669084, 1760.8333333335752, 1761.000000000242, 1761.1666666669087, 1761.3333333335754, 1761.5000000002422, 1761.666666666909, 1761.8333333335756, 1762.0000000002424, 1762.1666666669091, 1762.3333333335759, 1762.5000000002426, 1762.6666666669094, 1762.833333333576, 1763.0000000002428, 1763.1666666669096, 1763.3333333335763, 1763.500000000243, 1763.6666666669098, 1763.8333333335765, 1764.0000000002433, 1764.16666666691, 1764.3333333335768, 1764.5000000002435, 1764.6666666669103, 1764.833333333577, 1765.0000000002437, 1765.1666666669105, 1765.3333333335772, 1765.500000000244, 1765.6666666669107, 1765.8333333335775, 1766.0000000002442, 1766.166666666911, 1766.3333333335777, 1766.5000000002444, 1766.6666666669112, 1766.833333333578, 1767.0000000002447, 1767.1666666669114, 1767.3333333335781, 1767.5000000002449, 1767.6666666669116, 1767.8333333335784, 1768.000000000245, 1768.1666666669119, 1768.3333333335786, 1768.5000000002453, 1768.666666666912, 1768.8333333335788, 1769.0000000002456, 1769.1666666669123, 1769.333333333579, 1769.5000000002458, 1769.6666666669125, 1769.8333333335793, 1770.000000000246, 1770.1666666669128, 1770.3333333335795, 1770.5000000002462, 1770.666666666913, 1770.8333333335797, 1771.0000000002465, 1771.1666666669132, 1771.33333333358, 1771.5000000002467, 1771.6666666669134, 1771.8333333335802, 1772.000000000247, 1772.1666666669137, 1772.3333333335804, 1772.5000000002472, 1772.666666666914, 1772.8333333335806, 1773.0000000002474, 1773.1666666669141, 1773.3333333335809, 1773.5000000002476, 1773.6666666669144, 1773.833333333581, 1774.0000000002478, 1774.1666666669146, 1774.3333333335813, 1774.500000000248, 1774.6666666669148, 1774.8333333335815, 1775.0000000002483, 1775.166666666915, 1775.3333333335818, 1775.5000000002485, 1775.6666666669153, 1775.833333333582, 1776.0000000002487, 1776.1666666669155, 1776.3333333335822, 1776.500000000249, 1776.6666666669157, 1776.8333333335825, 1777.0000000002492, 1777.166666666916, 1777.3333333335827, 1777.5000000002494, 1777.6666666669162, 1777.833333333583, 1778.0000000002497, 1778.1666666669164, 1778.3333333335831, 1778.5000000002499, 1778.6666666669166, 1778.8333333335834, 1779.00000000025, 1779.1666666669169, 1779.3333333335836, 1779.5000000002503, 1779.666666666917, 1779.8333333335838, 1780.0000000002506, 1780.1666666669173, 1780.333333333584, 1780.5000000002508, 1780.6666666669175, 1780.8333333335843, 1781.000000000251, 1781.1666666669178, 1781.3333333335845, 1781.5000000002512, 1781.666666666918, 1781.8333333335847, 1782.0000000002515, 1782.1666666669182, 1782.333333333585, 1782.5000000002517, 1782.6666666669184, 1782.8333333335852, 1783.000000000252, 1783.1666666669187, 1783.3333333335854, 1783.5000000002522, 1783.666666666919, 1783.8333333335856, 1784.0000000002524, 1784.1666666669191, 1784.3333333335859, 1784.5000000002526, 1784.6666666669194, 1784.833333333586, 1785.0000000002528, 1785.1666666669196, 1785.3333333335863, 1785.500000000253, 1785.6666666669198, 1785.8333333335866, 1786.0000000002533, 1786.16666666692, 1786.3333333335868, 1786.5000000002535, 1786.6666666669203, 1786.833333333587, 1787.0000000002537, 1787.1666666669205, 1787.3333333335872, 1787.500000000254, 1787.6666666669207, 1787.8333333335875, 1788.0000000002542, 1788.166666666921, 1788.3333333335877, 1788.5000000002544, 1788.6666666669212, 1788.833333333588, 1789.0000000002547, 1789.1666666669214, 1789.3333333335881, 1789.5000000002549, 1789.6666666669216, 1789.8333333335884, 1790.000000000255, 1790.1666666669219, 1790.3333333335886, 1790.5000000002553, 1790.666666666922, 1790.8333333335888, 1791.0000000002556, 1791.1666666669223, 1791.333333333589, 1791.5000000002558, 1791.6666666669225, 1791.8333333335893, 1792.000000000256, 1792.1666666669228, 1792.3333333335895, 1792.5000000002563, 1792.666666666923, 1792.8333333335897, 1793.0000000002565, 1793.1666666669232, 1793.33333333359, 1793.5000000002567, 1793.6666666669234, 1793.8333333335902, 1794.000000000257, 1794.1666666669237, 1794.3333333335904, 1794.5000000002572, 1794.666666666924, 1794.8333333335906, 1795.0000000002574, 1795.1666666669241, 1795.3333333335909, 1795.5000000002576, 1795.6666666669244, 1795.833333333591, 1796.0000000002578, 1796.1666666669246, 1796.3333333335913, 1796.500000000258, 1796.6666666669248, 1796.8333333335916, 1797.0000000002583, 1797.166666666925, 1797.3333333335918, 1797.5000000002585, 1797.6666666669253, 1797.833333333592, 1798.0000000002588, 1798.1666666669255, 1798.3333333335922, 1798.500000000259, 1798.6666666669257, 1798.8333333335925, 1799.0000000002592, 1799.166666666926, 1799.3333333335927, 1799.5000000002594, 1799.6666666669262, 1799.833333333593, 1800.0000000002597, 1800.1666666669264, 1800.3333333335931, 1800.50000000026, 1800.6666666669266, 1800.8333333335934, 1801.0000000002601, 1801.1666666669269, 1801.3333333335936, 1801.5000000002603, 1801.666666666927, 1801.8333333335938, 1802.0000000002606, 1802.1666666669273, 1802.333333333594, 1802.5000000002608, 1802.6666666669275, 1802.8333333335943, 1803.000000000261, 1803.1666666669278, 1803.3333333335945, 1803.5000000002613, 1803.666666666928, 1803.8333333335947, 1804.0000000002615, 1804.1666666669282, 1804.333333333595, 1804.5000000002617, 1804.6666666669284, 1804.8333333335952, 1805.000000000262, 1805.1666666669287, 1805.3333333335954, 1805.5000000002622, 1805.666666666929, 1805.8333333335956, 1806.0000000002624, 1806.1666666669291, 1806.3333333335959, 1806.5000000002626, 1806.6666666669294, 1806.833333333596, 1807.0000000002628, 1807.1666666669296, 1807.3333333335963, 1807.500000000263, 1807.6666666669298, 1807.8333333335966, 1808.0000000002633, 1808.16666666693, 1808.3333333335968, 1808.5000000002635, 1808.6666666669303, 1808.833333333597, 1809.0000000002638, 1809.1666666669305, 1809.3333333335972, 1809.500000000264, 1809.6666666669307, 1809.8333333335975, 1810.0000000002642, 1810.166666666931, 1810.3333333335977, 1810.5000000002644, 1810.6666666669312, 1810.833333333598, 1811.0000000002647, 1811.1666666669314, 1811.3333333335981, 1811.500000000265, 1811.6666666669316, 1811.8333333335984, 1812.0000000002651, 1812.1666666669319, 1812.3333333335986, 1812.5000000002653, 1812.666666666932, 1812.8333333335988, 1813.0000000002656, 1813.1666666669323, 1813.333333333599, 1813.5000000002658, 1813.6666666669325, 1813.8333333335993, 1814.000000000266, 1814.1666666669328, 1814.3333333335995, 1814.5000000002663, 1814.666666666933, 1814.8333333335997, 1815.0000000002665, 1815.1666666669332, 1815.3333333336, 1815.5000000002667, 1815.6666666669335, 1815.8333333336002, 1816.000000000267, 1816.1666666669337, 1816.3333333336004, 1816.5000000002672, 1816.666666666934, 1816.8333333336006, 1817.0000000002674, 1817.1666666669341, 1817.3333333336009, 1817.5000000002676, 1817.6666666669344, 1817.833333333601, 1818.0000000002678, 1818.1666666669346, 1818.3333333336013, 1818.500000000268, 1818.6666666669348, 1818.8333333336016, 1819.0000000002683, 1819.166666666935, 1819.3333333336018, 1819.5000000002685, 1819.6666666669353, 1819.833333333602, 1820.0000000002688, 1820.1666666669355, 1820.3333333336022, 1820.500000000269, 1820.6666666669357, 1820.8333333336025, 1821.0000000002692, 1821.166666666936, 1821.3333333336027, 1821.5000000002694, 1821.6666666669362, 1821.833333333603, 1822.0000000002697, 1822.1666666669364, 1822.3333333336032, 1822.50000000027, 1822.6666666669366, 1822.8333333336034, 1823.0000000002701, 1823.1666666669369, 1823.3333333336036, 1823.5000000002703, 1823.666666666937, 1823.8333333336038, 1824.0000000002706, 1824.1666666669373, 1824.333333333604, 1824.5000000002708, 1824.6666666669375, 1824.8333333336043, 1825.000000000271, 1825.1666666669378, 1825.3333333336045, 1825.5000000002713, 1825.666666666938, 1825.8333333336047, 1826.0000000002715, 1826.1666666669382, 1826.333333333605, 1826.5000000002717, 1826.6666666669385, 1826.8333333336052, 1827.000000000272, 1827.1666666669387, 1827.3333333336054, 1827.5000000002722, 1827.666666666939, 1827.8333333336057, 1828.0000000002724, 1828.1666666669391, 1828.3333333336059, 1828.5000000002726, 1828.6666666669394, 1828.833333333606, 1829.0000000002728, 1829.1666666669396, 1829.3333333336063, 1829.500000000273, 1829.6666666669398, 1829.8333333336066, 1830.0000000002733, 1830.16666666694, 1830.3333333336068, 1830.5000000002735, 1830.6666666669403, 1830.833333333607, 1831.0000000002738, 1831.1666666669405, 1831.3333333336072, 1831.500000000274, 1831.6666666669407, 1831.8333333336075, 1832.0000000002742, 1832.166666666941, 1832.3333333336077, 1832.5000000002744, 1832.6666666669412, 1832.833333333608, 1833.0000000002747, 1833.1666666669414, 1833.3333333336082, 1833.500000000275, 1833.6666666669416, 1833.8333333336084, 1834.0000000002751, 1834.1666666669419, 1834.3333333336086, 1834.5000000002753, 1834.666666666942, 1834.8333333336088, 1835.0000000002756, 1835.1666666669423, 1835.333333333609, 1835.5000000002758, 1835.6666666669425, 1835.8333333336093, 1836.000000000276, 1836.1666666669428, 1836.3333333336095, 1836.5000000002763, 1836.666666666943, 1836.8333333336097, 1837.0000000002765, 1837.1666666669432, 1837.33333333361, 1837.5000000002767, 1837.6666666669435, 1837.8333333336102, 1838.000000000277, 1838.1666666669437, 1838.3333333336104, 1838.5000000002772, 1838.666666666944, 1838.8333333336107, 1839.0000000002774, 1839.1666666669441, 1839.3333333336109, 1839.5000000002776, 1839.6666666669444, 1839.833333333611, 1840.0000000002779, 1840.1666666669446, 1840.3333333336113, 1840.500000000278, 1840.6666666669448, 1840.8333333336116, 1841.0000000002783, 1841.166666666945, 1841.3333333336118, 1841.5000000002785, 1841.6666666669453, 1841.833333333612, 1842.0000000002788, 1842.1666666669455, 1842.3333333336122, 1842.500000000279, 1842.6666666669457, 1842.8333333336125, 1843.0000000002792, 1843.166666666946, 1843.3333333336127, 1843.5000000002794, 1843.6666666669462, 1843.833333333613, 1844.0000000002797, 1844.1666666669464, 1844.3333333336132, 1844.50000000028, 1844.6666666669466, 1844.8333333336134, 1845.0000000002801, 1845.1666666669469, 1845.3333333336136, 1845.5000000002804, 1845.666666666947, 1845.8333333336138, 1846.0000000002806, 1846.1666666669473, 1846.333333333614, 1846.5000000002808, 1846.6666666669475, 1846.8333333336143, 1847.000000000281, 1847.1666666669478, 1847.3333333336145, 1847.5000000002813, 1847.666666666948, 1847.8333333336147, 1848.0000000002815, 1848.1666666669482, 1848.333333333615, 1848.5000000002817, 1848.6666666669485, 1848.8333333336152, 1849.000000000282, 1849.1666666669487, 1849.3333333336154, 1849.5000000002822, 1849.666666666949, 1849.8333333336157, 1850.0000000002824, 1850.1666666669491, 1850.3333333336159, 1850.5000000002826, 1850.6666666669494, 1850.833333333616, 1851.0000000002829, 1851.1666666669496, 1851.3333333336163, 1851.500000000283, 1851.6666666669498, 1851.8333333336166, 1852.0000000002833, 1852.16666666695, 1852.3333333336168, 1852.5000000002835, 1852.6666666669503, 1852.833333333617, 1853.0000000002838, 1853.1666666669505, 1853.3333333336172, 1853.500000000284, 1853.6666666669507, 1853.8333333336175, 1854.0000000002842, 1854.166666666951, 1854.3333333336177, 1854.5000000002844, 1854.6666666669512, 1854.833333333618, 1855.0000000002847, 1855.1666666669514, 1855.3333333336182, 1855.500000000285, 1855.6666666669516, 1855.8333333336184, 1856.0000000002851, 1856.1666666669519, 1856.3333333336186, 1856.5000000002854, 1856.666666666952, 1856.8333333336188, 1857.0000000002856, 1857.1666666669523, 1857.333333333619, 1857.5000000002858, 1857.6666666669526, 1857.8333333336193, 1858.000000000286, 1858.1666666669528, 1858.3333333336195, 1858.5000000002863, 1858.666666666953, 1858.8333333336197, 1859.0000000002865, 1859.1666666669532, 1859.33333333362, 1859.5000000002867, 1859.6666666669535, 1859.8333333336202, 1860.000000000287, 1860.1666666669537, 1860.3333333336204, 1860.5000000002872, 1860.666666666954, 1860.8333333336207, 1861.0000000002874, 1861.1666666669541, 1861.3333333336209, 1861.5000000002876, 1861.6666666669544, 1861.833333333621, 1862.0000000002879, 1862.1666666669546, 1862.3333333336213, 1862.500000000288, 1862.6666666669548, 1862.8333333336216, 1863.0000000002883, 1863.166666666955, 1863.3333333336218, 1863.5000000002885, 1863.6666666669553, 1863.833333333622, 1864.0000000002888, 1864.1666666669555, 1864.3333333336222, 1864.500000000289, 1864.6666666669557, 1864.8333333336225, 1865.0000000002892, 1865.166666666956, 1865.3333333336227, 1865.5000000002894, 1865.6666666669562, 1865.833333333623, 1866.0000000002897, 1866.1666666669564, 1866.3333333336232, 1866.50000000029, 1866.6666666669566, 1866.8333333336234, 1867.0000000002901, 1867.1666666669569, 1867.3333333336236, 1867.5000000002904, 1867.666666666957, 1867.8333333336238, 1868.0000000002906, 1868.1666666669573, 1868.333333333624, 1868.5000000002908, 1868.6666666669576, 1868.8333333336243, 1869.000000000291, 1869.1666666669578, 1869.3333333336245, 1869.5000000002913, 1869.666666666958, 1869.8333333336248, 1870.0000000002915, 1870.1666666669582, 1870.333333333625, 1870.5000000002917, 1870.6666666669585, 1870.8333333336252, 1871.000000000292, 1871.1666666669587, 1871.3333333336254, 1871.5000000002922, 1871.666666666959, 1871.8333333336257, 1872.0000000002924, 1872.1666666669591, 1872.333333333626, 1872.5000000002926, 1872.6666666669594, 1872.8333333336261, 1873.0000000002929, 1873.1666666669596, 1873.3333333336263, 1873.500000000293, 1873.6666666669598, 1873.8333333336266, 1874.0000000002933, 1874.16666666696, 1874.3333333336268, 1874.5000000002935, 1874.6666666669603, 1874.833333333627, 1875.0000000002938, 1875.1666666669605, 1875.3333333336273, 1875.500000000294, 1875.6666666669607, 1875.8333333336275, 1876.0000000002942, 1876.166666666961, 1876.3333333336277, 1876.5000000002944, 1876.6666666669612, 1876.833333333628, 1877.0000000002947, 1877.1666666669614, 1877.3333333336282, 1877.500000000295, 1877.6666666669616, 1877.8333333336284, 1878.0000000002951, 1878.1666666669619, 1878.3333333336286, 1878.5000000002954, 1878.666666666962, 1878.8333333336288, 1879.0000000002956, 1879.1666666669623, 1879.333333333629, 1879.5000000002958, 1879.6666666669626, 1879.8333333336293, 1880.000000000296, 1880.1666666669628, 1880.3333333336295, 1880.5000000002963, 1880.666666666963, 1880.8333333336298, 1881.0000000002965, 1881.1666666669632, 1881.33333333363, 1881.5000000002967, 1881.6666666669635, 1881.8333333336302, 1882.000000000297, 1882.1666666669637, 1882.3333333336304, 1882.5000000002972, 1882.666666666964, 1882.8333333336307, 1883.0000000002974, 1883.1666666669641, 1883.333333333631, 1883.5000000002976, 1883.6666666669644, 1883.8333333336311, 1884.0000000002979, 1884.1666666669646, 1884.3333333336313, 1884.500000000298, 1884.6666666669648, 1884.8333333336316, 1885.0000000002983, 1885.166666666965, 1885.3333333336318, 1885.5000000002985, 1885.6666666669653, 1885.833333333632, 1886.0000000002988, 1886.1666666669655, 1886.3333333336323, 1886.500000000299, 1886.6666666669657, 1886.8333333336325, 1887.0000000002992, 1887.166666666966, 1887.3333333336327, 1887.5000000002995, 1887.6666666669662, 1887.833333333633, 1888.0000000002997, 1888.1666666669664, 1888.3333333336332, 1888.5000000003, 1888.6666666669666, 1888.8333333336334, 1889.0000000003001, 1889.1666666669669, 1889.3333333336336, 1889.5000000003004, 1889.666666666967, 1889.8333333336338, 1890.0000000003006, 1890.1666666669673, 1890.333333333634, 1890.5000000003008, 1890.6666666669676, 1890.8333333336343, 1891.000000000301, 1891.1666666669678, 1891.3333333336345, 1891.5000000003013, 1891.666666666968, 1891.8333333336348, 1892.0000000003015, 1892.1666666669682, 1892.333333333635, 1892.5000000003017, 1892.6666666669685, 1892.8333333336352, 1893.000000000302, 1893.1666666669687, 1893.3333333336354, 1893.5000000003022, 1893.666666666969, 1893.8333333336357, 1894.0000000003024, 1894.1666666669691, 1894.333333333636, 1894.5000000003026, 1894.6666666669694, 1894.8333333336361, 1895.0000000003029, 1895.1666666669696, 1895.3333333336363, 1895.500000000303, 1895.6666666669698, 1895.8333333336366, 1896.0000000003033, 1896.16666666697, 1896.3333333336368, 1896.5000000003035, 1896.6666666669703, 1896.833333333637, 1897.0000000003038, 1897.1666666669705, 1897.3333333336373, 1897.500000000304, 1897.6666666669707, 1897.8333333336375, 1898.0000000003042, 1898.166666666971, 1898.3333333336377, 1898.5000000003045, 1898.6666666669712, 1898.833333333638, 1899.0000000003047, 1899.1666666669714, 1899.3333333336382, 1899.500000000305, 1899.6666666669717, 1899.8333333336384, 1900.0000000003051, 1900.1666666669719, 1900.3333333336386, 1900.5000000003054, 1900.666666666972, 1900.8333333336388, 1901.0000000003056, 1901.1666666669723, 1901.333333333639, 1901.5000000003058, 1901.6666666669726, 1901.8333333336393, 1902.000000000306, 1902.1666666669728, 1902.3333333336395, 1902.5000000003063, 1902.666666666973, 1902.8333333336398, 1903.0000000003065, 1903.1666666669732, 1903.33333333364, 1903.5000000003067, 1903.6666666669735, 1903.8333333336402, 1904.000000000307, 1904.1666666669737, 1904.3333333336404, 1904.5000000003072, 1904.666666666974, 1904.8333333336407, 1905.0000000003074, 1905.1666666669742, 1905.333333333641, 1905.5000000003076, 1905.6666666669744, 1905.8333333336411, 1906.0000000003079, 1906.1666666669746, 1906.3333333336413, 1906.500000000308, 1906.6666666669748, 1906.8333333336416, 1907.0000000003083, 1907.166666666975, 1907.3333333336418, 1907.5000000003085, 1907.6666666669753, 1907.833333333642, 1908.0000000003088, 1908.1666666669755, 1908.3333333336423, 1908.500000000309, 1908.6666666669757, 1908.8333333336425, 1909.0000000003092, 1909.166666666976, 1909.3333333336427, 1909.5000000003095, 1909.6666666669762, 1909.833333333643, 1910.0000000003097, 1910.1666666669764, 1910.3333333336432, 1910.50000000031, 1910.6666666669767, 1910.8333333336434, 1911.0000000003101, 1911.1666666669769, 1911.3333333336436, 1911.5000000003104, 1911.666666666977, 1911.8333333336438, 1912.0000000003106, 1912.1666666669773, 1912.333333333644, 1912.5000000003108, 1912.6666666669776, 1912.8333333336443, 1913.000000000311, 1913.1666666669778, 1913.3333333336445, 1913.5000000003113, 1913.666666666978, 1913.8333333336448, 1914.0000000003115, 1914.1666666669782, 1914.333333333645, 1914.5000000003117, 1914.6666666669785, 1914.8333333336452, 1915.000000000312, 1915.1666666669787, 1915.3333333336454, 1915.5000000003122, 1915.666666666979, 1915.8333333336457, 1916.0000000003124, 1916.1666666669792, 1916.333333333646, 1916.5000000003126, 1916.6666666669794, 1916.8333333336461, 1917.0000000003129, 1917.1666666669796, 1917.3333333336464, 1917.500000000313, 1917.6666666669798, 1917.8333333336466, 1918.0000000003133, 1918.16666666698, 1918.3333333336468, 1918.5000000003135, 1918.6666666669803, 1918.833333333647, 1919.0000000003138, 1919.1666666669805, 1919.3333333336473, 1919.500000000314, 1919.6666666669807, 1919.8333333336475, 1920.0000000003142, 1920.166666666981, 1920.3333333336477, 1920.5000000003145, 1920.6666666669812, 1920.833333333648, 1921.0000000003147, 1921.1666666669814, 1921.3333333336482, 1921.500000000315, 1921.6666666669817, 1921.8333333336484, 1922.0000000003151, 1922.1666666669819, 1922.3333333336486, 1922.5000000003154, 1922.666666666982, 1922.8333333336489, 1923.0000000003156, 1923.1666666669823, 1923.333333333649, 1923.5000000003158, 1923.6666666669826, 1923.8333333336493, 1924.000000000316, 1924.1666666669828, 1924.3333333336495, 1924.5000000003163, 1924.666666666983, 1924.8333333336498, 1925.0000000003165, 1925.1666666669832, 1925.33333333365, 1925.5000000003167, 1925.6666666669835, 1925.8333333336502, 1926.000000000317, 1926.1666666669837, 1926.3333333336504, 1926.5000000003172, 1926.666666666984, 1926.8333333336507, 1927.0000000003174, 1927.1666666669842, 1927.333333333651, 1927.5000000003176, 1927.6666666669844, 1927.8333333336511, 1928.0000000003179, 1928.1666666669846, 1928.3333333336514, 1928.500000000318, 1928.6666666669848, 1928.8333333336516, 1929.0000000003183, 1929.166666666985, 1929.3333333336518, 1929.5000000003186, 1929.6666666669853, 1929.833333333652, 1930.0000000003188, 1930.1666666669855, 1930.3333333336523, 1930.500000000319, 1930.6666666669857, 1930.8333333336525, 1931.0000000003192, 1931.166666666986, 1931.3333333336527, 1931.5000000003195, 1931.6666666669862, 1931.833333333653, 1932.0000000003197, 1932.1666666669864, 1932.3333333336532, 1932.50000000032, 1932.6666666669867, 1932.8333333336534, 1933.0000000003201, 1933.1666666669869, 1933.3333333336536, 1933.5000000003204, 1933.666666666987, 1933.8333333336539, 1934.0000000003206, 1934.1666666669873, 1934.333333333654, 1934.5000000003208, 1934.6666666669876, 1934.8333333336543, 1935.000000000321, 1935.1666666669878, 1935.3333333336545, 1935.5000000003213, 1935.666666666988, 1935.8333333336548, 1936.0000000003215, 1936.1666666669882, 1936.333333333655, 1936.5000000003217, 1936.6666666669885, 1936.8333333336552, 1937.000000000322, 1937.1666666669887, 1937.3333333336554, 1937.5000000003222, 1937.666666666989, 1937.8333333336557, 1938.0000000003224, 1938.1666666669892, 1938.333333333656, 1938.5000000003226, 1938.6666666669894, 1938.8333333336561, 1939.0000000003229, 1939.1666666669896, 1939.3333333336564, 1939.500000000323, 1939.6666666669898, 1939.8333333336566, 1940.0000000003233, 1940.16666666699, 1940.3333333336568, 1940.5000000003236, 1940.6666666669903, 1940.833333333657, 1941.0000000003238, 1941.1666666669905, 1941.3333333336573, 1941.500000000324, 1941.6666666669907, 1941.8333333336575, 1942.0000000003242, 1942.166666666991, 1942.3333333336577, 1942.5000000003245, 1942.6666666669912, 1942.833333333658, 1943.0000000003247, 1943.1666666669914, 1943.3333333336582, 1943.500000000325, 1943.6666666669917, 1943.8333333336584, 1944.0000000003251, 1944.166666666992, 1944.3333333336586, 1944.5000000003254, 1944.6666666669921, 1944.8333333336589, 1945.0000000003256, 1945.1666666669923, 1945.333333333659, 1945.5000000003258, 1945.6666666669926, 1945.8333333336593, 1946.000000000326, 1946.1666666669928, 1946.3333333336595, 1946.5000000003263, 1946.666666666993, 1946.8333333336598, 1947.0000000003265, 1947.1666666669933, 1947.33333333366, 1947.5000000003267, 1947.6666666669935, 1947.8333333336602, 1948.000000000327, 1948.1666666669937, 1948.3333333336604, 1948.5000000003272, 1948.666666666994, 1948.8333333336607, 1949.0000000003274, 1949.1666666669942, 1949.333333333661, 1949.5000000003276, 1949.6666666669944, 1949.8333333336611, 1950.0000000003279, 1950.1666666669946, 1950.3333333336614, 1950.500000000328, 1950.6666666669948, 1950.8333333336616, 1951.0000000003283, 1951.166666666995, 1951.3333333336618, 1951.5000000003286, 1951.6666666669953, 1951.833333333662, 1952.0000000003288, 1952.1666666669955, 1952.3333333336623, 1952.500000000329, 1952.6666666669958, 1952.8333333336625, 1953.0000000003292, 1953.166666666996, 1953.3333333336627, 1953.5000000003295, 1953.6666666669962, 1953.833333333663, 1954.0000000003297, 1954.1666666669964, 1954.3333333336632, 1954.50000000033, 1954.6666666669967, 1954.8333333336634, 1955.0000000003301, 1955.166666666997, 1955.3333333336636, 1955.5000000003304, 1955.6666666669971, 1955.8333333336639, 1956.0000000003306, 1956.1666666669973, 1956.333333333664, 1956.5000000003308, 1956.6666666669976, 1956.8333333336643, 1957.000000000331, 1957.1666666669978, 1957.3333333336645, 1957.5000000003313, 1957.666666666998, 1957.8333333336648, 1958.0000000003315, 1958.1666666669983, 1958.333333333665, 1958.5000000003317, 1958.6666666669985, 1958.8333333336652, 1959.000000000332, 1959.1666666669987, 1959.3333333336655, 1959.5000000003322, 1959.666666666999, 1959.8333333336657, 1960.0000000003324, 1960.1666666669992, 1960.333333333666, 1960.5000000003326, 1960.6666666669994, 1960.8333333336661, 1961.0000000003329, 1961.1666666669996, 1961.3333333336664, 1961.500000000333, 1961.6666666669998, 1961.8333333336666, 1962.0000000003333, 1962.166666667, 1962.3333333336668, 1962.5000000003336, 1962.6666666670003, 1962.833333333667, 1963.0000000003338, 1963.1666666670005, 1963.3333333336673, 1963.500000000334, 1963.6666666670008, 1963.8333333336675, 1964.0000000003342, 1964.166666667001, 1964.3333333336677, 1964.5000000003345, 1964.6666666670012, 1964.833333333668, 1965.0000000003347, 1965.1666666670014, 1965.3333333336682, 1965.500000000335, 1965.6666666670017, 1965.8333333336684, 1966.0000000003351, 1966.166666667002, 1966.3333333336686, 1966.5000000003354, 1966.6666666670021, 1966.8333333336689, 1967.0000000003356, 1967.1666666670023, 1967.333333333669, 1967.5000000003358, 1967.6666666670026, 1967.8333333336693, 1968.000000000336, 1968.1666666670028, 1968.3333333336695, 1968.5000000003363, 1968.666666667003, 1968.8333333336698, 1969.0000000003365, 1969.1666666670033, 1969.33333333367, 1969.5000000003367, 1969.6666666670035, 1969.8333333336702, 1970.000000000337, 1970.1666666670037, 1970.3333333336705, 1970.5000000003372, 1970.666666667004, 1970.8333333336707, 1971.0000000003374, 1971.1666666670042, 1971.333333333671, 1971.5000000003376, 1971.6666666670044, 1971.8333333336711, 1972.0000000003379, 1972.1666666670046, 1972.3333333336714, 1972.500000000338, 1972.6666666670048, 1972.8333333336716, 1973.0000000003383, 1973.166666667005, 1973.3333333336718, 1973.5000000003386, 1973.6666666670053, 1973.833333333672, 1974.0000000003388, 1974.1666666670055, 1974.3333333336723, 1974.500000000339, 1974.6666666670058, 1974.8333333336725, 1975.0000000003392, 1975.166666667006, 1975.3333333336727, 1975.5000000003395, 1975.6666666670062, 1975.833333333673, 1976.0000000003397, 1976.1666666670064, 1976.3333333336732, 1976.50000000034, 1976.6666666670067, 1976.8333333336734, 1977.0000000003402, 1977.166666667007, 1977.3333333336736, 1977.5000000003404, 1977.6666666670071, 1977.8333333336739, 1978.0000000003406, 1978.1666666670073, 1978.333333333674, 1978.5000000003408, 1978.6666666670076, 1978.8333333336743, 1979.000000000341, 1979.1666666670078, 1979.3333333336745, 1979.5000000003413, 1979.666666667008, 1979.8333333336748, 1980.0000000003415, 1980.1666666670083, 1980.333333333675, 1980.5000000003417, 1980.6666666670085, 1980.8333333336752, 1981.000000000342, 1981.1666666670087, 1981.3333333336755, 1981.5000000003422, 1981.666666667009, 1981.8333333336757, 1982.0000000003424, 1982.1666666670092, 1982.333333333676, 1982.5000000003427, 1982.6666666670094, 1982.8333333336761, 1983.0000000003429, 1983.1666666670096, 1983.3333333336764, 1983.500000000343, 1983.6666666670098, 1983.8333333336766, 1984.0000000003433, 1984.16666666701, 1984.3333333336768, 1984.5000000003436, 1984.6666666670103, 1984.833333333677, 1985.0000000003438, 1985.1666666670105, 1985.3333333336773, 1985.500000000344, 1985.6666666670108, 1985.8333333336775, 1986.0000000003442, 1986.166666667011, 1986.3333333336777, 1986.5000000003445, 1986.6666666670112, 1986.833333333678, 1987.0000000003447, 1987.1666666670114, 1987.3333333336782, 1987.500000000345, 1987.6666666670117, 1987.8333333336784, 1988.0000000003452, 1988.166666667012, 1988.3333333336786, 1988.5000000003454, 1988.6666666670121, 1988.8333333336789, 1989.0000000003456, 1989.1666666670124, 1989.333333333679, 1989.5000000003458, 1989.6666666670126, 1989.8333333336793]\n"
     ]
    }
   ],
   "source": [
    "num=[]\n",
    "k=-10\n",
    "for m in range(12000):\n",
    "    num.append(k)\n",
    "    k+=1/6\n",
    "print(num)\n",
    "for x in num:\n",
    "    func=6*x**3-19*x**2+2*x+3\n",
    "    if func==0:\n",
    "        print(x)"
   ]
  },
  {
   "cell_type": "code",
   "execution_count": null,
   "metadata": {
    "id": "F0xGTsv3YuYj",
    "outputId": "d0e03eca-0fd7-4425-8f7c-d92aed45aba5"
   },
   "outputs": [
    {
     "name": "stdout",
     "output_type": "stream",
     "text": [
      "0\n"
     ]
    }
   ],
   "source": [
    "x=3\n",
    "func=x**3-2*x**2-5*x+6\n",
    "print(func)"
   ]
  },
  {
   "cell_type": "code",
   "execution_count": null,
   "metadata": {
    "id": "raYfIM5OYuYj",
    "outputId": "15fe9a4a-06f7-4956-c8d8-7506c1dbd37a"
   },
   "outputs": [
    {
     "name": "stdout",
     "output_type": "stream",
     "text": [
      "-4.5\n"
     ]
    }
   ],
   "source": [
    "x=3/2\n",
    "func=2*x**3+x**2-13*x+6\n",
    "print(func)"
   ]
  },
  {
   "cell_type": "code",
   "execution_count": null,
   "metadata": {
    "id": "iKJTQUB5YuYj",
    "outputId": "1ffba124-f76e-4a09-996c-dbe73a8668ac"
   },
   "outputs": [
    {
     "name": "stdout",
     "output_type": "stream",
     "text": [
      "0.0\n"
     ]
    }
   ],
   "source": [
    "x=1/3\n",
    "func=6*x**3-5*x**2-2*x+1\n",
    "print(func)"
   ]
  },
  {
   "cell_type": "code",
   "execution_count": null,
   "metadata": {
    "id": "0B7fm8PRYuYj",
    "outputId": "e32ca658-a36f-48f7-d88a-6e8922cd9fef"
   },
   "outputs": [
    {
     "name": "stdout",
     "output_type": "stream",
     "text": [
      "8    False\n",
      "9    True\n",
      "0    False\n",
      "-3.2    False\n",
      "7.2    False\n"
     ]
    }
   ],
   "source": [
    "x=3\n",
    "for a in [8, 9, 0, -3.2, 7.2]:\n",
    "    func=2*x**3-(a-2)*x**2+a\n",
    "    print(a, '  ', func==0)"
   ]
  },
  {
   "cell_type": "code",
   "execution_count": null,
   "metadata": {
    "id": "eP4W42hoYuYj",
    "outputId": "9cbac594-455f-4b1c-ce43-e2dbbc9bab1a"
   },
   "outputs": [
    {
     "name": "stdout",
     "output_type": "stream",
     "text": [
      "False\n",
      "False\n"
     ]
    }
   ],
   "source": [
    "func=2*x**3+7*x**2+(-7)*x-30\n",
    "for x in [2, -3]:\n",
    "    print(func==0)"
   ]
  },
  {
   "cell_type": "code",
   "execution_count": null,
   "metadata": {
    "id": "l29lL3cQYuYk",
    "outputId": "18fa3e57-d6bd-4487-98d9-1daf4e5e2bc7"
   },
   "outputs": [
    {
     "data": {
      "text/plain": [
       "1728"
      ]
     },
     "execution_count": 11,
     "metadata": {},
     "output_type": "execute_result"
    }
   ],
   "source": [
    "12**3"
   ]
  },
  {
   "cell_type": "code",
   "execution_count": null,
   "metadata": {
    "id": "cQVhlNmCYuYk",
    "outputId": "d34f099f-fb9c-4d03-eb19-df5102362bb3"
   },
   "outputs": [
    {
     "name": "stdout",
     "output_type": "stream",
     "text": [
      "-31.236067977499793 / 19.000000000000004\n"
     ]
    }
   ],
   "source": [
    "import numpy as np\n",
    "denominator=(2*np.sqrt(5)-1)*(2*np.sqrt(5)+1)\n",
    "numerator=(1-3*np.sqrt(5))*(2*np.sqrt(5)+1)\n",
    "print(numerator, '/', denominator)"
   ]
  },
  {
   "cell_type": "code",
   "execution_count": null,
   "metadata": {
    "id": "S3LqsruBYuYk",
    "outputId": "15aa890b-85c7-4a0f-b3e7-7e26e08d1818"
   },
   "outputs": [
    {
     "name": "stdout",
     "output_type": "stream",
     "text": [
      "18.0\n"
     ]
    }
   ],
   "source": [
    "import numpy as np\n",
    "print((3*np.sqrt(3)+3)*(3*np.sqrt(3)-3))"
   ]
  },
  {
   "cell_type": "code",
   "execution_count": null,
   "metadata": {
    "id": "r2fx5BcbYuYk",
    "outputId": "9e4264ae-62b7-4a34-8b5d-944dd1895bfc"
   },
   "outputs": [
    {
     "name": "stdout",
     "output_type": "stream",
     "text": [
      "0.5\n"
     ]
    }
   ],
   "source": [
    "for x in [0.2, 0.5]:\n",
    "    if 8*x**3-16*x**2+8*x-1==0:\n",
    "        print(x)"
   ]
  },
  {
   "cell_type": "code",
   "execution_count": null,
   "metadata": {
    "id": "jjzCJat0YuYl",
    "outputId": "93bc81e4-35fd-4d2e-b6ea-e64b5cd5b2d6"
   },
   "outputs": [
    {
     "data": {
      "image/png": "[encoded data removed]",
      "text/plain": [
       "<Figure size 640x480 with 1 Axes>"
      ]
     },
     "metadata": {},
     "output_type": "display_data"
    }
   ],
   "source": [
    "import pylab as plt\n",
    "xvals=[]\n",
    "yvals=[]\n",
    "x=-10\n",
    "while x<=10:\n",
    "    xvals.append(x)\n",
    "    yvals.append(8*x**3-16*x**2+8*x-1)\n",
    "    x+=1/100\n",
    "axisvals=[0]*len(xvals)\n",
    "plt.plot(xvals, yvals)\n",
    "plt.plot(xvals, axisvals)\n",
    "plt.xlabel('p')\n",
    "plt.ylabel('y')\n",
    "plt.xlim(0, 1)\n",
    "plt.ylim(-3, 1)\n",
    "plt.show()"
   ]
  },
  {
   "cell_type": "markdown",
   "metadata": {
    "id": "_bu2xenBYuYl"
   },
   "source": [
    "#### Module 6 - An Introduction to Mechanics"
   ]
  },
  {
   "cell_type": "code",
   "execution_count": null,
   "metadata": {
    "id": "bIjoYQdNYuYl",
    "outputId": "81b1170d-5b2f-46b4-aa33-910357bb5307"
   },
   "outputs": [
    {
     "data": {
      "text/plain": [
       "25.0"
      ]
     },
     "execution_count": 16,
     "metadata": {},
     "output_type": "execute_result"
    }
   ],
   "source": [
    "t=5\n",
    "a=2\n",
    "v=0\n",
    "s=0.5*a*t**2+v*t\n",
    "s"
   ]
  },
  {
   "cell_type": "code",
   "execution_count": null,
   "metadata": {
    "id": "8mvTWDYaYuYl",
    "outputId": "5d819161-6ea3-4e4a-dcb1-f72fa0167caa"
   },
   "outputs": [
    {
     "data": {
      "text/plain": [
       "60.0"
      ]
     },
     "execution_count": 17,
     "metadata": {},
     "output_type": "execute_result"
    }
   ],
   "source": [
    "t=6\n",
    "a=0\n",
    "v=10\n",
    "s=0.5*a*t**2+v*t\n",
    "s"
   ]
  },
  {
   "cell_type": "code",
   "execution_count": null,
   "metadata": {
    "id": "olydr_EEYuYl",
    "outputId": "1261009d-5a3f-4e30-881d-2bab6c54b927"
   },
   "outputs": [
    {
     "data": {
      "text/plain": [
       "5.0"
      ]
     },
     "execution_count": 18,
     "metadata": {},
     "output_type": "execute_result"
    }
   ],
   "source": [
    "t=1\n",
    "a=10\n",
    "v=0\n",
    "s=0.5*a*t**2+v*t\n",
    "s"
   ]
  },
  {
   "cell_type": "code",
   "execution_count": null,
   "metadata": {
    "id": "4R0t3khDYuYl",
    "outputId": "1805a7f7-1c2e-4255-d513-cc91275cfc22"
   },
   "outputs": [
    {
     "data": {
      "text/plain": [
       "-20.0"
      ]
     },
     "execution_count": 19,
     "metadata": {},
     "output_type": "execute_result"
    }
   ],
   "source": [
    "t=2\n",
    "a=-10\n",
    "v=0\n",
    "s=0.5*a*t**2+v*t\n",
    "s"
   ]
  },
  {
   "cell_type": "code",
   "execution_count": null,
   "metadata": {
    "id": "FiflIKmvYuYm",
    "outputId": "110a145e-dab3-4648-d389-f0621bd0bd0c"
   },
   "outputs": [
    {
     "data": {
      "text/plain": [
       "-60.0"
      ]
     },
     "execution_count": 20,
     "metadata": {},
     "output_type": "execute_result"
    }
   ],
   "source": [
    "t=3\n",
    "a=0\n",
    "v=-20\n",
    "s=0.5*a*t**2+v*t\n",
    "s"
   ]
  },
  {
   "cell_type": "code",
   "execution_count": null,
   "metadata": {
    "id": "yZsMNNsNYuYm",
    "outputId": "b0f6a709-c21b-4456-a4ca-3870384fd406"
   },
   "outputs": [
    {
     "data": {
      "text/plain": [
       "-30.0"
      ]
     },
     "execution_count": 21,
     "metadata": {},
     "output_type": "execute_result"
    }
   ],
   "source": [
    "t=3\n",
    "a=-20/3\n",
    "v=0\n",
    "s=0.5*a*t**2+v*t\n",
    "s"
   ]
  },
  {
   "cell_type": "code",
   "execution_count": null,
   "metadata": {
    "id": "_84NzAz_YuYm",
    "outputId": "454ce589-2425-4ebe-d778-e551a6840ccd"
   },
   "outputs": [
    {
     "data": {
      "text/plain": [
       "-20"
      ]
     },
     "execution_count": 22,
     "metadata": {},
     "output_type": "execute_result"
    }
   ],
   "source": [
    "25+60+5-20-60-30"
   ]
  },
  {
   "cell_type": "code",
   "execution_count": null,
   "metadata": {
    "id": "gyt1ukiDYuYm",
    "outputId": "45a63f9e-23f7-4986-ce95-12b640fa10c2"
   },
   "outputs": [
    {
     "data": {
      "text/plain": [
       "200"
      ]
     },
     "execution_count": 23,
     "metadata": {},
     "output_type": "execute_result"
    }
   ],
   "source": [
    "25+60+5+20+60+30"
   ]
  },
  {
   "cell_type": "code",
   "execution_count": null,
   "metadata": {
    "id": "8hwlymTVYuYm",
    "outputId": "e8ce7e5f-133a-4f46-d727-34c0ab5bbcae"
   },
   "outputs": [
    {
     "data": {
      "text/plain": [
       "50.0"
      ]
     },
     "execution_count": 24,
     "metadata": {},
     "output_type": "execute_result"
    }
   ],
   "source": [
    "t=5\n",
    "a=4\n",
    "v=0\n",
    "s=0.5*a*t**2+v*t\n",
    "s"
   ]
  },
  {
   "cell_type": "code",
   "execution_count": null,
   "metadata": {
    "id": "ddEXemxpYuYn",
    "outputId": "9791b30a-0ef4-4e3b-9a05-4876b2c06def"
   },
   "outputs": [
    {
     "data": {
      "text/plain": [
       "250.0"
      ]
     },
     "execution_count": 25,
     "metadata": {},
     "output_type": "execute_result"
    }
   ],
   "source": [
    "t=10\n",
    "a=1\n",
    "v=20\n",
    "s=0.5*a*t**2+v*t\n",
    "s"
   ]
  },
  {
   "cell_type": "code",
   "execution_count": null,
   "metadata": {
    "id": "JRLbN2THYuYn",
    "outputId": "dd65346a-3c8b-4621-edb4-6ee6b80c21d9"
   },
   "outputs": [
    {
     "data": {
      "text/plain": [
       "42.0"
      ]
     },
     "execution_count": 26,
     "metadata": {},
     "output_type": "execute_result"
    }
   ],
   "source": [
    "t=2\n",
    "a=1\n",
    "v=20\n",
    "s=0.5*a*t**2+v*t\n",
    "s"
   ]
  },
  {
   "cell_type": "code",
   "execution_count": null,
   "metadata": {
    "id": "wtfHqoLhYuYn",
    "outputId": "ce7be64b-77f9-43fc-d832-e09ec0c7e4f5"
   },
   "outputs": [
    {
     "data": {
      "text/plain": [
       "75.0"
      ]
     },
     "execution_count": 27,
     "metadata": {},
     "output_type": "execute_result"
    }
   ],
   "source": [
    "t=5\n",
    "a=6\n",
    "v=0\n",
    "s=0.5*a*t**2+v*t\n",
    "s"
   ]
  },
  {
   "cell_type": "code",
   "execution_count": null,
   "metadata": {
    "id": "tblT3oDGYuYn",
    "outputId": "6c7c5ab3-4b8c-46c7-f8f2-6d5c92dbd2ea"
   },
   "outputs": [
    {
     "data": {
      "text/plain": [
       "4225.0"
      ]
     },
     "execution_count": 28,
     "metadata": {},
     "output_type": "execute_result"
    }
   ],
   "source": [
    "81*((26/3.6)**2)"
   ]
  },
  {
   "cell_type": "code",
   "execution_count": null,
   "metadata": {
    "id": "7OQe8XuPYuYn",
    "outputId": "30b978b9-4f6c-4041-dee0-dc7729678643"
   },
   "outputs": [
    {
     "data": {
      "text/plain": [
       "625.0"
      ]
     },
     "execution_count": 29,
     "metadata": {},
     "output_type": "execute_result"
    }
   ],
   "source": [
    "81*((10/3.6)**2)"
   ]
  },
  {
   "cell_type": "code",
   "execution_count": null,
   "metadata": {
    "id": "KoJPtOJeYuYn",
    "outputId": "ae237333-7c19-40b8-e551-6e604b1272e1"
   },
   "outputs": [
    {
     "data": {
      "text/plain": [
       "3600"
      ]
     },
     "execution_count": 30,
     "metadata": {},
     "output_type": "execute_result"
    }
   ],
   "source": [
    "4225-625"
   ]
  },
  {
   "cell_type": "code",
   "execution_count": null,
   "metadata": {
    "id": "0j2ix9UoYuYn",
    "outputId": "212b7aeb-0842-4358-c163-6295e5652d11"
   },
   "outputs": [
    {
     "data": {
      "text/plain": [
       "400.0"
      ]
     },
     "execution_count": 31,
     "metadata": {},
     "output_type": "execute_result"
    }
   ],
   "source": [
    "3600/9"
   ]
  },
  {
   "cell_type": "code",
   "execution_count": null,
   "metadata": {
    "id": "4jTuc9eQYuYo",
    "outputId": "f2975138-73d7-4335-c6b3-d66a8a7fe23c"
   },
   "outputs": [
    {
     "data": {
      "text/plain": [
       "18.0"
      ]
     },
     "execution_count": 32,
     "metadata": {},
     "output_type": "execute_result"
    }
   ],
   "source": [
    "v=108/3.6\n",
    "u=0\n",
    "s=25\n",
    "a=(v**2-u**2)/(2*s)\n",
    "a"
   ]
  },
  {
   "cell_type": "code",
   "execution_count": null,
   "metadata": {
    "id": "kxfVgS7_YuYo",
    "outputId": "bd2fc296-039e-47a1-db3d-91da31ae9af6"
   },
   "outputs": [
    {
     "data": {
      "text/plain": [
       "300.0"
      ]
     },
     "execution_count": 33,
     "metadata": {},
     "output_type": "execute_result"
    }
   ],
   "source": [
    "t=20\n",
    "u=0\n",
    "v=30\n",
    "s=t*(u+v)/2\n",
    "s"
   ]
  },
  {
   "cell_type": "code",
   "execution_count": null,
   "metadata": {
    "id": "Q9tayLjEYuYo",
    "outputId": "ef8cb451-6da7-45ed-bcaa-cf061cadb8d1"
   },
   "outputs": [
    {
     "data": {
      "text/plain": [
       "22.19135802469136"
      ]
     },
     "execution_count": 34,
     "metadata": {},
     "output_type": "execute_result"
    }
   ],
   "source": [
    "v=70/3.6\n",
    "u=0\n",
    "a=5\n",
    "s=(v**2-u**2)/(2*a)\n",
    "60-s"
   ]
  },
  {
   "cell_type": "code",
   "execution_count": null,
   "metadata": {
    "id": "4A0jST3oYuYo",
    "outputId": "ee0297cf-b598-462f-835d-1c46669d0ac3"
   },
   "outputs": [
    {
     "data": {
      "text/plain": [
       "6.666666666666667"
      ]
     },
     "execution_count": 35,
     "metadata": {},
     "output_type": "execute_result"
    }
   ],
   "source": [
    "v=20\n",
    "u=0\n",
    "s=30\n",
    "a=(v**2-u**2)/(2*s)\n",
    "a"
   ]
  },
  {
   "cell_type": "code",
   "execution_count": null,
   "metadata": {
    "id": "IeNf1xCyYuYo",
    "outputId": "88e3ff14-abab-4bae-afe3-ed745de9203e"
   },
   "outputs": [
    {
     "data": {
      "text/plain": [
       "245"
      ]
     },
     "execution_count": 36,
     "metadata": {},
     "output_type": "execute_result"
    }
   ],
   "source": [
    "49*5"
   ]
  },
  {
   "cell_type": "code",
   "execution_count": null,
   "metadata": {
    "id": "lRSJcTgsYuYo",
    "outputId": "b69e8a40-f41c-49f4-cffd-58da1f2f6962"
   },
   "outputs": [
    {
     "data": {
      "text/plain": [
       "56620"
      ]
     },
     "execution_count": 37,
     "metadata": {},
     "output_type": "execute_result"
    }
   ],
   "source": [
    "250**2-4*49*30"
   ]
  },
  {
   "cell_type": "code",
   "execution_count": null,
   "metadata": {
    "id": "93zd62rwYuYp",
    "outputId": "60a3eff4-3611-4cd5-9c09-f9bcba348c5f"
   },
   "outputs": [
    {
     "data": {
      "text/plain": [
       "14155.0"
      ]
     },
     "execution_count": 38,
     "metadata": {},
     "output_type": "execute_result"
    }
   ],
   "source": [
    "56620/4"
   ]
  },
  {
   "cell_type": "code",
   "execution_count": null,
   "metadata": {
    "id": "auZdaeXjYuYp",
    "outputId": "7ab6d27d-9f2a-4127-ccb3-2cab32222583"
   },
   "outputs": [
    {
     "data": {
      "text/plain": [
       "4.856113765103239"
      ]
     },
     "execution_count": 39,
     "metadata": {},
     "output_type": "execute_result"
    }
   ],
   "source": [
    "t1=(125-14155**0.5)/49\n",
    "t2=(125+14155**0.5)/49\n",
    "t2-t1"
   ]
  },
  {
   "cell_type": "code",
   "execution_count": null,
   "metadata": {
    "id": "Gp1eeKEpYuYp",
    "outputId": "eccd5db7-ed77-4677-ade8-7a1075a200d9"
   },
   "outputs": [
    {
     "data": {
      "text/plain": [
       "48.0"
      ]
     },
     "execution_count": 40,
     "metadata": {},
     "output_type": "execute_result"
    }
   ],
   "source": [
    "144/3"
   ]
  },
  {
   "cell_type": "code",
   "execution_count": null,
   "metadata": {
    "id": "xHjJ8ekCYuYp",
    "outputId": "19bd3fc5-9971-464f-cb5d-ee09ec67d0ad"
   },
   "outputs": [
    {
     "data": {
      "text/plain": [
       "24.0"
      ]
     },
     "execution_count": 41,
     "metadata": {},
     "output_type": "execute_result"
    }
   ],
   "source": [
    "144/6"
   ]
  },
  {
   "cell_type": "code",
   "execution_count": null,
   "metadata": {
    "id": "YBNfFDQ7YuYp",
    "outputId": "8fcc0805-56e1-45d8-ecb2-0f101e2e4c52"
   },
   "outputs": [
    {
     "data": {
      "text/plain": [
       "3600.0"
      ]
     },
     "execution_count": 42,
     "metadata": {},
     "output_type": "execute_result"
    }
   ],
   "source": [
    "t=180\n",
    "u=0\n",
    "v=144/3.6\n",
    "s=t*(u+v)/2\n",
    "s"
   ]
  },
  {
   "cell_type": "code",
   "execution_count": null,
   "metadata": {
    "id": "b83LeR9FYuYp",
    "outputId": "70728c09-3ab4-4fbf-cd82-2e3502180767"
   },
   "outputs": [
    {
     "data": {
      "text/plain": [
       "2400.0"
      ]
     },
     "execution_count": 43,
     "metadata": {},
     "output_type": "execute_result"
    }
   ],
   "source": [
    "t=120\n",
    "u=0\n",
    "v=144/3.6\n",
    "s=t*(u+v)/2\n",
    "s"
   ]
  },
  {
   "cell_type": "code",
   "execution_count": null,
   "metadata": {
    "id": "3kzy-kWDYuYp",
    "outputId": "1fc52f1f-3571-49d9-bdb6-ffc32099139e"
   },
   "outputs": [
    {
     "data": {
      "text/plain": [
       "160.0"
      ]
     },
     "execution_count": 44,
     "metadata": {},
     "output_type": "execute_result"
    }
   ],
   "source": [
    "4000/25"
   ]
  },
  {
   "cell_type": "code",
   "execution_count": null,
   "metadata": {
    "id": "LipyVYXEYuYq",
    "outputId": "671100d7-59e5-405d-cfeb-b3b1edc4fb37"
   },
   "outputs": [
    {
     "data": {
      "text/plain": [
       "200.0"
      ]
     },
     "execution_count": 45,
     "metadata": {},
     "output_type": "execute_result"
    }
   ],
   "source": [
    "4000/20"
   ]
  },
  {
   "cell_type": "code",
   "execution_count": null,
   "metadata": {
    "id": "45cLf8sMYuYq",
    "outputId": "6b22659c-61c6-4681-cb8d-25b9c696e179"
   },
   "outputs": [
    {
     "data": {
      "text/plain": [
       "273600"
      ]
     },
     "execution_count": 46,
     "metadata": {},
     "output_type": "execute_result"
    }
   ],
   "source": [
    "360**2+4*9*4000"
   ]
  },
  {
   "cell_type": "code",
   "execution_count": null,
   "metadata": {
    "id": "cMUz2FllYuYq",
    "outputId": "3d08bd8b-a006-4e8f-91d3-ae682ab7fdce"
   },
   "outputs": [
    {
     "data": {
      "text/plain": [
       "7600.0"
      ]
     },
     "execution_count": 47,
     "metadata": {},
     "output_type": "execute_result"
    }
   ],
   "source": [
    "273600/36"
   ]
  },
  {
   "cell_type": "code",
   "execution_count": null,
   "metadata": {
    "id": "p96bgjYoYuYq",
    "outputId": "7da80d23-8169-414b-afd3-fac7c0950d05"
   },
   "outputs": [
    {
     "data": {
      "text/plain": [
       "13.588989435406738"
      ]
     },
     "execution_count": 48,
     "metadata": {},
     "output_type": "execute_result"
    }
   ],
   "source": [
    "(7600**0.5-60)/2"
   ]
  },
  {
   "cell_type": "code",
   "execution_count": null,
   "metadata": {
    "id": "kzxWaQ6rYuYq",
    "outputId": "e222c654-a3f2-4318-d7b4-37a68d84bffe"
   },
   "outputs": [
    {
     "data": {
      "text/plain": [
       "1432000"
      ]
     },
     "execution_count": 49,
     "metadata": {},
     "output_type": "execute_result"
    }
   ],
   "source": [
    "1200**2-4*1*2000"
   ]
  },
  {
   "cell_type": "code",
   "execution_count": null,
   "metadata": {
    "id": "0NZCRsCLYuYq",
    "outputId": "f4f850a1-6a8c-4293-a3c6-78bf9f9a75a1"
   },
   "outputs": [
    {
     "data": {
      "text/plain": [
       "358000.0"
      ]
     },
     "execution_count": 50,
     "metadata": {},
     "output_type": "execute_result"
    }
   ],
   "source": [
    "1432000/4"
   ]
  },
  {
   "cell_type": "code",
   "execution_count": null,
   "metadata": {
    "id": "85Zi7hMCYuYq",
    "outputId": "cdfc611d-e1ad-4205-8d43-34519f2e1ae7"
   },
   "outputs": [
    {
     "data": {
      "text/plain": [
       "1.6689879339363642"
      ]
     },
     "execution_count": 51,
     "metadata": {},
     "output_type": "execute_result"
    }
   ],
   "source": [
    "600-358000**0.5"
   ]
  },
  {
   "cell_type": "code",
   "execution_count": null,
   "metadata": {
    "id": "dZBAxSxpYuYq",
    "outputId": "f0d12e74-1603-4b48-bab0-0fb8977b2024"
   },
   "outputs": [
    {
     "name": "stdout",
     "output_type": "stream",
     "text": [
      "30.4 69.6\n"
     ]
    }
   ],
   "source": [
    "g=9.8\n",
    "print(50-2*g, 50+2*g)"
   ]
  },
  {
   "cell_type": "code",
   "execution_count": null,
   "metadata": {
    "id": "RSUfnM8nYuYr",
    "outputId": "611a1b75-bef1-4b58-a21c-8c2a98c4f79a"
   },
   "outputs": [
    {
     "data": {
      "text/plain": [
       "13500"
      ]
     },
     "execution_count": 53,
     "metadata": {},
     "output_type": "execute_result"
    }
   ],
   "source": [
    "250**2-4*49*250"
   ]
  },
  {
   "cell_type": "code",
   "execution_count": null,
   "metadata": {
    "id": "6HqzOz95YuYr",
    "outputId": "6c5bcfd2-479d-4f62-d91f-119f1e9f4b53"
   },
   "outputs": [
    {
     "data": {
      "text/plain": [
       "3375.0"
      ]
     },
     "execution_count": 54,
     "metadata": {},
     "output_type": "execute_result"
    }
   ],
   "source": [
    "13500/4"
   ]
  },
  {
   "cell_type": "code",
   "execution_count": null,
   "metadata": {
    "id": "fOS8TKucYuYr",
    "outputId": "e375c121-e0f4-4011-a328-18be05de75bb"
   },
   "outputs": [
    {
     "data": {
      "text/plain": [
       "2.3712142935963776"
      ]
     },
     "execution_count": 55,
     "metadata": {},
     "output_type": "execute_result"
    }
   ],
   "source": [
    "(125+3375**0.5)/49-(125-3375**0.5)/49"
   ]
  },
  {
   "cell_type": "code",
   "execution_count": null,
   "metadata": {
    "id": "N4Se5a4LYuYs",
    "outputId": "3d7de471-e412-4eb3-936e-fc72852b25cf"
   },
   "outputs": [
    {
     "data": {
      "text/plain": [
       "0.8333333333333334"
      ]
     },
     "execution_count": 56,
     "metadata": {},
     "output_type": "execute_result"
    }
   ],
   "source": [
    "5/6"
   ]
  },
  {
   "cell_type": "code",
   "execution_count": null,
   "metadata": {
    "id": "gv-YyPdRYuYs",
    "outputId": "db56f392-bee4-4c5f-a946-1863b18f57e0"
   },
   "outputs": [
    {
     "data": {
      "text/plain": [
       "41000"
      ]
     },
     "execution_count": 57,
     "metadata": {},
     "output_type": "execute_result"
    }
   ],
   "source": [
    "90000-4*49*250"
   ]
  },
  {
   "cell_type": "code",
   "execution_count": null,
   "metadata": {
    "id": "S5ROhLzuYuYs",
    "outputId": "8c228a5e-6cc9-4c1c-94d6-01f63aa0ae8a"
   },
   "outputs": [
    {
     "data": {
      "text/plain": [
       "4.132338108431957"
      ]
     },
     "execution_count": 58,
     "metadata": {},
     "output_type": "execute_result"
    }
   ],
   "source": [
    "(150+10250**0.5)/49-(150-10250**0.5)/49"
   ]
  },
  {
   "cell_type": "code",
   "execution_count": null,
   "metadata": {
    "id": "Ho2LC1G0YuYs",
    "outputId": "e9b81cd2-a6ad-43b5-953e-807c30721c97"
   },
   "outputs": [
    {
     "data": {
      "text/plain": [
       "-2.25"
      ]
     },
     "execution_count": 59,
     "metadata": {},
     "output_type": "execute_result"
    }
   ],
   "source": [
    "10-1.25*9.8"
   ]
  },
  {
   "cell_type": "code",
   "execution_count": null,
   "metadata": {
    "id": "N9BgN1fXYuYs",
    "outputId": "4d40f51d-29f8-40af-806d-ea5ff37e9618"
   },
   "outputs": [
    {
     "data": {
      "text/plain": [
       "1.8112244897959182"
      ]
     },
     "execution_count": 60,
     "metadata": {},
     "output_type": "execute_result"
    }
   ],
   "source": [
    "30/9.8-1.25"
   ]
  },
  {
   "cell_type": "markdown",
   "metadata": {
    "id": "Jz5-uXpaYuYt"
   },
   "source": [
    "##### Kinematics Formulae and variables"
   ]
  },
  {
   "cell_type": "markdown",
   "metadata": {
    "id": "v4oZlVV7YuYt"
   },
   "source": [
    "suvat\n",
    "\n",
    "s - displacement\n",
    "\n",
    "u - initial velocity\n",
    "\n",
    "v - final velocity\n",
    "\n",
    "a - acceleration\n",
    "\n",
    "t - time"
   ]
  },
  {
   "cell_type": "markdown",
   "metadata": {
    "id": "LyseX-egYuYt"
   },
   "source": [
    "kinematics formulae\n",
    "\n",
    "$v=u+at$\n",
    "\n",
    "$s=t(u+v)/2$\n",
    "\n",
    "$s=ut+at^2/2$\n",
    "\n",
    "$s=vt-at^2/2$\n",
    "\n",
    "$v^2=u^2+2as$"
   ]
  },
  {
   "cell_type": "markdown",
   "metadata": {
    "id": "AXjfK29WYuYt"
   },
   "source": [
    "#### Module 7 - An Introduction to Statistics"
   ]
  },
  {
   "cell_type": "code",
   "execution_count": null,
   "metadata": {
    "id": "DwQoR0WYYuYt",
    "outputId": "5673d5fe-08a9-4ce0-8f5f-1c8c81b3c98b"
   },
   "outputs": [
    {
     "data": {
      "text/plain": [
       "6.083333333333333"
      ]
     },
     "execution_count": 61,
     "metadata": {},
     "output_type": "execute_result"
    }
   ],
   "source": [
    "73/12"
   ]
  },
  {
   "cell_type": "code",
   "execution_count": null,
   "metadata": {
    "id": "0Z0ZvneOYuYt",
    "outputId": "cdb3394d-4259-4105-a7ce-9bdac87fc7e6"
   },
   "outputs": [
    {
     "data": {
      "text/plain": [
       "3.5833333333333335"
      ]
     },
     "execution_count": 62,
     "metadata": {},
     "output_type": "execute_result"
    }
   ],
   "source": [
    "43/12"
   ]
  },
  {
   "cell_type": "code",
   "execution_count": null,
   "metadata": {
    "id": "KdvtOWQIYuYt",
    "outputId": "e26d8e7e-1d84-49ee-e4c6-9a1bd60e09f1"
   },
   "outputs": [
    {
     "data": {
      "text/plain": [
       "8.5"
      ]
     },
     "execution_count": 63,
     "metadata": {},
     "output_type": "execute_result"
    }
   ],
   "source": [
    "102/12"
   ]
  },
  {
   "cell_type": "code",
   "execution_count": null,
   "metadata": {
    "id": "-qmLmWUcYuYu",
    "outputId": "84cefe43-a22c-49a4-9771-0919e6f3c335"
   },
   "outputs": [
    {
     "data": {
      "text/plain": [
       "30.666666666666668"
      ]
     },
     "execution_count": 64,
     "metadata": {},
     "output_type": "execute_result"
    }
   ],
   "source": [
    "368/12"
   ]
  },
  {
   "cell_type": "code",
   "execution_count": null,
   "metadata": {
    "id": "3PSGu5JUYuYu",
    "outputId": "b3c13ef0-7295-43fc-b965-0acf89652a79"
   },
   "outputs": [
    {
     "data": {
      "text/plain": [
       "23.166666666666668"
      ]
     },
     "execution_count": 65,
     "metadata": {},
     "output_type": "execute_result"
    }
   ],
   "source": [
    "278/12"
   ]
  },
  {
   "cell_type": "code",
   "execution_count": null,
   "metadata": {
    "id": "pGxWZ2aFYuYu",
    "outputId": "4aeb5736-d0ee-44fc-ff71-fb6070c1b723"
   },
   "outputs": [
    {
     "data": {
      "text/plain": [
       "7.25"
      ]
     },
     "execution_count": 66,
     "metadata": {},
     "output_type": "execute_result"
    }
   ],
   "source": [
    "87/12"
   ]
  },
  {
   "cell_type": "code",
   "execution_count": null,
   "metadata": {
    "id": "jbKvTbTbYuYu",
    "outputId": "d2104d67-b2cc-4597-dc63-2a8318a037ed"
   },
   "outputs": [
    {
     "data": {
      "text/plain": [
       "81"
      ]
     },
     "execution_count": 67,
     "metadata": {},
     "output_type": "execute_result"
    }
   ],
   "source": [
    "6+4+9+31+24+7"
   ]
  },
  {
   "cell_type": "code",
   "execution_count": null,
   "metadata": {
    "id": "Vqge0xW3YuYu",
    "outputId": "6148c843-6a70-43f5-a898-b0022735eed2"
   },
   "outputs": [
    {
     "data": {
      "text/plain": [
       "350.0"
      ]
     },
     "execution_count": 68,
     "metadata": {},
     "output_type": "execute_result"
    }
   ],
   "source": [
    "72+45.5+63+58.5+64+27.5+19.5"
   ]
  },
  {
   "cell_type": "code",
   "execution_count": null,
   "metadata": {
    "id": "MlIp1orrYuYu",
    "outputId": "de4b408f-4f28-4395-c778-7bd954416efc"
   },
   "outputs": [
    {
     "data": {
      "text/plain": [
       "55.5"
      ]
     },
     "execution_count": 69,
     "metadata": {},
     "output_type": "execute_result"
    }
   ],
   "source": [
    "37*1.5"
   ]
  },
  {
   "cell_type": "code",
   "execution_count": null,
   "metadata": {
    "id": "GFCSo9_MYuYu",
    "outputId": "a4b9ad83-8a31-4f89-e494-f4ec895bda18"
   },
   "outputs": [
    {
     "data": {
      "text/plain": [
       "95.5"
      ]
     },
     "execution_count": 70,
     "metadata": {},
     "output_type": "execute_result"
    }
   ],
   "source": [
    "151-55.5"
   ]
  },
  {
   "cell_type": "code",
   "execution_count": null,
   "metadata": {
    "id": "2mmZUqjXYuYv",
    "outputId": "c4f9edb4-b04e-4959-e91c-88de5b18cb55"
   },
   "outputs": [
    {
     "data": {
      "text/plain": [
       "243.5"
      ]
     },
     "execution_count": 71,
     "metadata": {},
     "output_type": "execute_result"
    }
   ],
   "source": [
    "188+55.5"
   ]
  },
  {
   "cell_type": "code",
   "execution_count": null,
   "metadata": {
    "id": "YM65uJmIYuYv",
    "outputId": "5a70199c-0fb3-421e-b178-2f12ae37253a"
   },
   "outputs": [
    {
     "data": {
      "text/plain": [
       "33.0"
      ]
     },
     "execution_count": 72,
     "metadata": {},
     "output_type": "execute_result"
    }
   ],
   "source": [
    "22*1.5"
   ]
  },
  {
   "cell_type": "code",
   "execution_count": null,
   "metadata": {
    "id": "V10UNd0sYuYv",
    "outputId": "6e1df3e8-3f72-484d-cd0a-2e0065043016"
   },
   "outputs": [
    {
     "data": {
      "text/plain": [
       "74"
      ]
     },
     "execution_count": 73,
     "metadata": {},
     "output_type": "execute_result"
    }
   ],
   "source": [
    "107-33"
   ]
  },
  {
   "cell_type": "code",
   "execution_count": null,
   "metadata": {
    "id": "DoUW1a3uYuYv",
    "outputId": "fd90e568-a55e-45e2-c85a-59027666e822"
   },
   "outputs": [
    {
     "data": {
      "text/plain": [
       "162"
      ]
     },
     "execution_count": 74,
     "metadata": {},
     "output_type": "execute_result"
    }
   ],
   "source": [
    "129+33"
   ]
  },
  {
   "cell_type": "code",
   "execution_count": null,
   "metadata": {
    "id": "bo7f-bedYuYv",
    "outputId": "0e5a9fbe-b981-47a7-dc81-db1e311536b9"
   },
   "outputs": [
    {
     "data": {
      "text/plain": [
       "6.0"
      ]
     },
     "execution_count": 75,
     "metadata": {},
     "output_type": "execute_result"
    }
   ],
   "source": [
    "120*0.05"
   ]
  },
  {
   "cell_type": "code",
   "execution_count": null,
   "metadata": {
    "id": "-4Cc58pSYuYv",
    "outputId": "7e33c505-88d1-458a-802d-b1ac3ff105ca"
   },
   "outputs": [
    {
     "data": {
      "text/plain": [
       "9.0"
      ]
     },
     "execution_count": 76,
     "metadata": {},
     "output_type": "execute_result"
    }
   ],
   "source": [
    "60*0.15"
   ]
  },
  {
   "cell_type": "code",
   "execution_count": null,
   "metadata": {
    "id": "nJ84bEIKYuYw",
    "outputId": "a3d94765-3962-46fb-fe05-395a902bceb8"
   },
   "outputs": [
    {
     "data": {
      "text/plain": [
       "12.0"
      ]
     },
     "execution_count": 77,
     "metadata": {},
     "output_type": "execute_result"
    }
   ],
   "source": [
    "0.2*60"
   ]
  },
  {
   "cell_type": "code",
   "execution_count": null,
   "metadata": {
    "id": "HeaJ7-TLYuYw",
    "outputId": "e3529660-7e7a-4239-904d-0d0de77d855b"
   },
   "outputs": [
    {
     "data": {
      "text/plain": [
       "6.0"
      ]
     },
     "execution_count": 78,
     "metadata": {},
     "output_type": "execute_result"
    }
   ],
   "source": [
    "240*0.025"
   ]
  },
  {
   "cell_type": "code",
   "execution_count": null,
   "metadata": {
    "id": "k96MmOhVYuYw",
    "outputId": "31876e67-2a29-45e2-c0c9-95932ed0ce19"
   },
   "outputs": [
    {
     "data": {
      "text/plain": [
       "18.0"
      ]
     },
     "execution_count": 79,
     "metadata": {},
     "output_type": "execute_result"
    }
   ],
   "source": [
    "0.3*60"
   ]
  },
  {
   "cell_type": "code",
   "execution_count": null,
   "metadata": {
    "id": "ysXaMKM2YuYw",
    "outputId": "8b212212-d7d7-47d6-d9d7-68cd15c1bc7f"
   },
   "outputs": [
    {
     "data": {
      "text/plain": [
       "15.0"
      ]
     },
     "execution_count": 80,
     "metadata": {},
     "output_type": "execute_result"
    }
   ],
   "source": [
    "0.25*60"
   ]
  },
  {
   "cell_type": "code",
   "execution_count": null,
   "metadata": {
    "id": "e8DTXTnbYuYw",
    "outputId": "ddadb565-3c9a-4595-a5de-59644547d905"
   },
   "outputs": [
    {
     "data": {
      "text/plain": [
       "3150"
      ]
     },
     "execution_count": 81,
     "metadata": {},
     "output_type": "execute_result"
    }
   ],
   "source": [
    "210*15"
   ]
  },
  {
   "cell_type": "code",
   "execution_count": null,
   "metadata": {
    "id": "97vSaCQoYuYw",
    "outputId": "1f5911bb-4c7f-4546-acf4-51097409e82d"
   },
   "outputs": [
    {
     "data": {
      "text/plain": [
       "4860"
      ]
     },
     "execution_count": 82,
     "metadata": {},
     "output_type": "execute_result"
    }
   ],
   "source": [
    "270*18"
   ]
  },
  {
   "cell_type": "code",
   "execution_count": null,
   "metadata": {
    "id": "kyPFxII7YuYw",
    "outputId": "4a9fd062-7f7a-4393-e78c-d11b56336ca9"
   },
   "outputs": [
    {
     "data": {
      "text/plain": [
       "3960"
      ]
     },
     "execution_count": 83,
     "metadata": {},
     "output_type": "execute_result"
    }
   ],
   "source": [
    "330*12"
   ]
  },
  {
   "cell_type": "code",
   "execution_count": null,
   "metadata": {
    "id": "GOZmLBKFYuYx",
    "outputId": "eddeef87-dcbc-4330-8040-54e0793a1a85"
   },
   "outputs": [
    {
     "data": {
      "text/plain": [
       "2880"
      ]
     },
     "execution_count": 84,
     "metadata": {},
     "output_type": "execute_result"
    }
   ],
   "source": [
    "480*6"
   ]
  },
  {
   "cell_type": "code",
   "execution_count": null,
   "metadata": {
    "id": "IhWKQhx0YuYx",
    "outputId": "f27a2de9-74f7-4cb4-9151-2b9ea3bc5a3a"
   },
   "outputs": [
    {
     "data": {
      "text/plain": [
       "16560"
      ]
     },
     "execution_count": 85,
     "metadata": {},
     "output_type": "execute_result"
    }
   ],
   "source": [
    "360+1350+3150+4860+3960+2880"
   ]
  },
  {
   "cell_type": "code",
   "execution_count": null,
   "metadata": {
    "id": "IKlx6LCdYuYx",
    "outputId": "01e87c84-9de8-442d-8da4-85e5d40ca04b"
   },
   "outputs": [
    {
     "data": {
      "text/plain": [
       "250.9090909090909"
      ]
     },
     "execution_count": 86,
     "metadata": {},
     "output_type": "execute_result"
    }
   ],
   "source": [
    "16560/66"
   ]
  },
  {
   "cell_type": "code",
   "execution_count": null,
   "metadata": {
    "id": "yd8cl8myYuYx",
    "outputId": "c3ae2601-5a6d-47d8-d6b8-e93407bd9cc4"
   },
   "outputs": [
    {
     "data": {
      "text/plain": [
       "92.5"
      ]
     },
     "execution_count": 87,
     "metadata": {},
     "output_type": "execute_result"
    }
   ],
   "source": [
    "185/2"
   ]
  },
  {
   "cell_type": "code",
   "execution_count": null,
   "metadata": {
    "id": "gXGYzuXpYuYx",
    "outputId": "da014569-c5b5-4bbf-9470-d0487b083846"
   },
   "outputs": [
    {
     "data": {
      "text/plain": [
       "46.25"
      ]
     },
     "execution_count": 88,
     "metadata": {},
     "output_type": "execute_result"
    }
   ],
   "source": [
    "185/4"
   ]
  },
  {
   "cell_type": "code",
   "execution_count": null,
   "metadata": {
    "id": "arCCE5RYYuYx",
    "outputId": "39d7da58-f6c0-4666-9640-a0ba1a3c4b0e"
   },
   "outputs": [
    {
     "data": {
      "text/plain": [
       "92.5"
      ]
     },
     "execution_count": 89,
     "metadata": {},
     "output_type": "execute_result"
    }
   ],
   "source": [
    "138.75-46.25"
   ]
  },
  {
   "cell_type": "code",
   "execution_count": null,
   "metadata": {
    "id": "XVsHgpmbYuYy",
    "outputId": "68f9cf4e-8ef4-4165-c104-82460b8b0ca0"
   },
   "outputs": [
    {
     "data": {
      "text/plain": [
       "3.0"
      ]
     },
     "execution_count": 90,
     "metadata": {},
     "output_type": "execute_result"
    }
   ],
   "source": [
    "a=1.5\n",
    "t=2\n",
    "s=0.5*a*t**2\n",
    "s"
   ]
  },
  {
   "cell_type": "code",
   "execution_count": null,
   "metadata": {
    "id": "9B_ANympYuYy",
    "outputId": "9d68b33e-98d5-4e72-cc36-d611833dbbe4"
   },
   "outputs": [
    {
     "data": {
      "text/plain": [
       "12.0"
      ]
     },
     "execution_count": 91,
     "metadata": {},
     "output_type": "execute_result"
    }
   ],
   "source": [
    "a=2/3\n",
    "t=3\n",
    "v=3\n",
    "s=0.5*a*t**2+t*v\n",
    "s"
   ]
  },
  {
   "cell_type": "code",
   "execution_count": null,
   "metadata": {
    "id": "jMGspaDdYuYy",
    "outputId": "fe95b51c-c153-4e2b-c045-b9b1df1d4578"
   },
   "outputs": [
    {
     "data": {
      "text/plain": [
       "5"
      ]
     },
     "execution_count": 92,
     "metadata": {},
     "output_type": "execute_result"
    }
   ],
   "source": [
    "1*5"
   ]
  },
  {
   "cell_type": "code",
   "execution_count": null,
   "metadata": {
    "id": "tmDCmnX2YuYy",
    "outputId": "c0834372-a4c8-4e40-aaf7-b77de0173c9e"
   },
   "outputs": [
    {
     "data": {
      "text/plain": [
       "16.0"
      ]
     },
     "execution_count": 93,
     "metadata": {},
     "output_type": "execute_result"
    }
   ],
   "source": [
    "t=4\n",
    "a=2\n",
    "s=0.5*a*t**2\n",
    "s"
   ]
  },
  {
   "cell_type": "code",
   "execution_count": null,
   "metadata": {
    "id": "63XUDIsFYuYy",
    "outputId": "0f86ab4c-7151-4437-ee43-c9d6fc697a52"
   },
   "outputs": [
    {
     "data": {
      "text/plain": [
       "9.0"
      ]
     },
     "execution_count": 94,
     "metadata": {},
     "output_type": "execute_result"
    }
   ],
   "source": [
    "0.5+7+1.5"
   ]
  },
  {
   "cell_type": "code",
   "execution_count": null,
   "metadata": {
    "id": "iemVdfweYuYy",
    "outputId": "71fee821-262c-451e-fca9-13f19c9415c4"
   },
   "outputs": [
    {
     "data": {
      "text/plain": [
       "2.4999999999999996"
      ]
     },
     "execution_count": 95,
     "metadata": {},
     "output_type": "execute_result"
    }
   ],
   "source": [
    "t=7/9.8\n",
    "a=9.8\n",
    "s=0.5*a*t**2\n",
    "s"
   ]
  },
  {
   "cell_type": "code",
   "execution_count": null,
   "metadata": {
    "id": "DL0-FOq0YuYz",
    "outputId": "bb4eed6b-3a26-4f48-c1b6-baef1cfed882"
   },
   "outputs": [
    {
     "data": {
      "text/plain": [
       "8.1"
      ]
     },
     "execution_count": 96,
     "metadata": {},
     "output_type": "execute_result"
    }
   ],
   "source": [
    "5.6+2.5"
   ]
  },
  {
   "cell_type": "code",
   "execution_count": null,
   "metadata": {
    "id": "JRav8FsUYuYz",
    "outputId": "76777eac-2673-4502-9c15-d17248ca18dd"
   },
   "outputs": [
    {
     "data": {
      "text/plain": [
       "1.9999999999999998"
      ]
     },
     "execution_count": 97,
     "metadata": {},
     "output_type": "execute_result"
    }
   ],
   "source": [
    "(16.2/9.8)**0.5+7/9.8"
   ]
  },
  {
   "cell_type": "code",
   "execution_count": null,
   "metadata": {
    "id": "c-YiDo2kYuYz",
    "outputId": "6e740d11-5152-4cf8-d81b-e3c240088b95"
   },
   "outputs": [
    {
     "data": {
      "text/plain": [
       "10.476640682967037"
      ]
     },
     "execution_count": 98,
     "metadata": {},
     "output_type": "execute_result"
    }
   ],
   "source": [
    "(11.2/9.8)**0.5*9.8"
   ]
  },
  {
   "cell_type": "code",
   "execution_count": null,
   "metadata": {
    "id": "6kKAXup5YuYz",
    "outputId": "6d99f655-8cf4-4f16-cb41-da86d8b0357e"
   },
   "outputs": [
    {
     "data": {
      "text/plain": [
       "45"
      ]
     },
     "execution_count": 99,
     "metadata": {},
     "output_type": "execute_result"
    }
   ],
   "source": [
    "25+15+5"
   ]
  },
  {
   "cell_type": "code",
   "execution_count": null,
   "metadata": {
    "id": "e8YemGWPYuYz",
    "outputId": "6fc99c3a-8da4-4ce1-f879-5afbec869878"
   },
   "outputs": [
    {
     "data": {
      "text/plain": [
       "25.5"
      ]
     },
     "execution_count": 100,
     "metadata": {},
     "output_type": "execute_result"
    }
   ],
   "source": [
    "76.5/3"
   ]
  },
  {
   "cell_type": "code",
   "execution_count": null,
   "metadata": {
    "id": "RwPOY4W8YuYz",
    "outputId": "c9716ee6-fdb8-4f9d-8674-233b7905e124"
   },
   "outputs": [
    {
     "data": {
      "text/plain": [
       "153.0"
      ]
     },
     "execution_count": 101,
     "metadata": {},
     "output_type": "execute_result"
    }
   ],
   "source": [
    "25.5*6"
   ]
  },
  {
   "cell_type": "code",
   "execution_count": null,
   "metadata": {
    "id": "0ecxe2--YuY0",
    "outputId": "082ad4be-ecf3-4434-be49-7fa1f27983e3"
   },
   "outputs": [
    {
     "data": {
      "text/plain": [
       "0.37037037037037035"
      ]
     },
     "execution_count": 102,
     "metadata": {},
     "output_type": "execute_result"
    }
   ],
   "source": [
    "10/27"
   ]
  },
  {
   "cell_type": "code",
   "execution_count": null,
   "metadata": {
    "id": "bfLi6zbqYuY0",
    "outputId": "21734611-e811-47a5-99c6-adb2f75978be"
   },
   "outputs": [
    {
     "data": {
      "text/plain": [
       "271.125"
      ]
     },
     "execution_count": 103,
     "metadata": {},
     "output_type": "execute_result"
    }
   ],
   "source": [
    "p=100/1205\n",
    "22.5/p"
   ]
  },
  {
   "cell_type": "code",
   "execution_count": null,
   "metadata": {
    "id": "WWApkArMYuY0",
    "outputId": "e25f1396-1d5b-4a63-d7a7-840c3367e97e"
   },
   "outputs": [
    {
     "data": {
      "text/plain": [
       "22.5"
      ]
     },
     "execution_count": 104,
     "metadata": {},
     "output_type": "execute_result"
    }
   ],
   "source": [
    "15*1.5"
   ]
  },
  {
   "cell_type": "code",
   "execution_count": null,
   "metadata": {
    "id": "zVAMHf7CYuY0",
    "outputId": "c9f7dc71-6855-4e0d-c3bf-f1081359c1d1"
   },
   "outputs": [
    {
     "data": {
      "text/plain": [
       "2.5"
      ]
     },
     "execution_count": 105,
     "metadata": {},
     "output_type": "execute_result"
    }
   ],
   "source": [
    "25-22.5"
   ]
  },
  {
   "cell_type": "code",
   "execution_count": null,
   "metadata": {
    "id": "sDkvNM26YuY0",
    "outputId": "ea65fe91-9117-4cca-a28c-f9c1cff4ba17"
   },
   "outputs": [
    {
     "data": {
      "text/plain": [
       "62.5"
      ]
     },
     "execution_count": 106,
     "metadata": {},
     "output_type": "execute_result"
    }
   ],
   "source": [
    "40+22.5"
   ]
  },
  {
   "cell_type": "code",
   "execution_count": null,
   "metadata": {
    "id": "e0DFLzDiYuY0",
    "outputId": "85cc2693-7d8a-4442-a541-adba9289474e"
   },
   "outputs": [
    {
     "data": {
      "text/plain": [
       "47"
      ]
     },
     "execution_count": 107,
     "metadata": {},
     "output_type": "execute_result"
    }
   ],
   "source": [
    "5*1+8*2+10*2+6*1"
   ]
  },
  {
   "cell_type": "code",
   "execution_count": null,
   "metadata": {
    "id": "M45G7LWCYuY1",
    "outputId": "d3790079-604a-45fa-9540-3ff0fd8b18b3"
   },
   "outputs": [
    {
     "data": {
      "text/plain": [
       "78.99999999999999"
      ]
     },
     "execution_count": 108,
     "metadata": {},
     "output_type": "execute_result"
    }
   ],
   "source": [
    "(13/51+9/68)*12*17"
   ]
  },
  {
   "cell_type": "code",
   "execution_count": null,
   "metadata": {
    "id": "m0DHI9tGYuY1",
    "outputId": "37453108-df3c-4665-c0a4-e692f2ebc696"
   },
   "outputs": [
    {
     "data": {
      "text/plain": [
       "204"
      ]
     },
     "execution_count": 109,
     "metadata": {},
     "output_type": "execute_result"
    }
   ],
   "source": [
    "12*17"
   ]
  },
  {
   "cell_type": "code",
   "execution_count": null,
   "metadata": {
    "id": "iiyIZ2KMYuY1",
    "outputId": "e6a3f94f-3b65-45d6-abe7-44e91e974612"
   },
   "outputs": [
    {
     "data": {
      "text/plain": [
       "6.666666666666667"
      ]
     },
     "execution_count": 110,
     "metadata": {},
     "output_type": "execute_result"
    }
   ],
   "source": [
    "10/1.5"
   ]
  },
  {
   "cell_type": "code",
   "execution_count": null,
   "metadata": {
    "id": "2DkjFsTGYuY1",
    "outputId": "a4811ec3-7263-47b3-ac23-d4c09a147d02"
   },
   "outputs": [
    {
     "data": {
      "text/plain": [
       "55"
      ]
     },
     "execution_count": 111,
     "metadata": {},
     "output_type": "execute_result"
    }
   ],
   "source": [
    "1+4+9+16+25"
   ]
  },
  {
   "cell_type": "code",
   "execution_count": null,
   "metadata": {
    "id": "g0LTo_alYuY1",
    "outputId": "6a90e163-85f1-4d3a-d5bb-e052bc0a2ff5"
   },
   "outputs": [
    {
     "data": {
      "text/plain": [
       "170"
      ]
     },
     "execution_count": 112,
     "metadata": {},
     "output_type": "execute_result"
    }
   ],
   "source": [
    "14+26+36+44+50"
   ]
  },
  {
   "cell_type": "code",
   "execution_count": null,
   "metadata": {
    "id": "a-R0eWXRYuY1",
    "outputId": "3db0d25b-f7dd-49b7-9584-8a57cfc3dcc0"
   },
   "outputs": [
    {
     "data": {
      "text/plain": [
       "34.0"
      ]
     },
     "execution_count": 113,
     "metadata": {},
     "output_type": "execute_result"
    }
   ],
   "source": [
    "170/5"
   ]
  },
  {
   "cell_type": "code",
   "execution_count": null,
   "metadata": {
    "id": "WBfwX2FhYuY1",
    "outputId": "769e7089-fdf2-46b6-dec1-a57a3c021e0f"
   },
   "outputs": [
    {
     "data": {
      "text/plain": [
       "85"
      ]
     },
     "execution_count": 114,
     "metadata": {},
     "output_type": "execute_result"
    }
   ],
   "source": [
    "14+24+27+20"
   ]
  },
  {
   "cell_type": "code",
   "execution_count": null,
   "metadata": {
    "colab": {
     "base_uri": "https://localhost:8080/"
    },
    "executionInfo": {
     "elapsed": 33239,
     "status": "ok",
     "timestamp": 1731918819890,
     "user": {
      "displayName": "Chengxiang Tang",
      "userId": "01563406770738984594"
     },
     "user_tz": -660
    },
    "id": "BhAsm9B9YuY1",
    "outputId": "5f90b9a1-39a3-4807-af3e-76e2e2696efc"
   },
   "outputs": [
    {
     "name": "stdout",
     "output_type": "stream",
     "text": [
      "1.0909821\n"
     ]
    }
   ],
   "source": [
    "from random import choice\n",
    "zero=0\n",
    "one=0\n",
    "two=0\n",
    "three=0\n",
    "times=10000000\n",
    "for i in range(times):\n",
    "    mps=['l', 'l', 'l', 'l', 'c', 'c', 'c', 'c', 'c', 'c', 'c']\n",
    "    ls=0\n",
    "    for i in range(3):\n",
    "        mp=choice(mps)\n",
    "        mps.remove(mp)\n",
    "        if mp=='l':\n",
    "            ls+=1\n",
    "    if ls==0:\n",
    "        zero+=1\n",
    "    elif ls==1:\n",
    "        one+=1\n",
    "    elif ls==2:\n",
    "        two+=1\n",
    "    else:\n",
    "        three+=1\n",
    "print((one+2*two+3*three)/times)"
   ]
  },
  {
   "cell_type": "markdown",
   "metadata": {
    "id": "EeEGaJ3FYuY2"
   },
   "source": [
    "##### Types of Sampling"
   ]
  },
  {
   "cell_type": "markdown",
   "metadata": {
    "id": "_cWcRx6RYuY2"
   },
   "source": [
    "Simple Random Sampling\n",
    "\n",
    "Simple random sampling is when you select random samples from the whole data set."
   ]
  },
  {
   "cell_type": "markdown",
   "metadata": {
    "id": "RTYcwfa9YuY2"
   },
   "source": [
    "Stratified Sampling\n",
    "\n",
    "Stratified sampling is when you select a fraction of each strata in your data set."
   ]
  },
  {
   "cell_type": "markdown",
   "metadata": {
    "id": "J6AGbmGmYuY2"
   },
   "source": [
    "Systematic Sampling\n",
    "\n",
    "Systematic sampling is when you use a rule to select samples(e.g. every fifth person)."
   ]
  },
  {
   "cell_type": "markdown",
   "metadata": {
    "id": "cYv7x1swYuY2"
   },
   "source": [
    "Quota Sampling\n",
    "\n",
    "Quota sampling is when you have many samples(e.g. people) who will choose whether or not to be part of the sample."
   ]
  },
  {
   "cell_type": "markdown",
   "metadata": {
    "id": "jPn36BjtYuY2"
   },
   "source": [
    "Opportunity/Convenience Sampling\n",
    "\n",
    "Opportunity/Convenience sampling is when you use the samples easiest to use for the sample because it is convenient."
   ]
  },
  {
   "cell_type": "markdown",
   "metadata": {
    "id": "CLvnbwUUYuY2"
   },
   "source": [
    "Cluster Sampling\n",
    "\n",
    "Cluster sampling is when you make clusters in you data sets and choose (a) random cluster/s in your data set."
   ]
  },
  {
   "cell_type": "markdown",
   "metadata": {
    "id": "Hc5M7eMEYuY2"
   },
   "source": [
    "## C2 Year 12"
   ]
  },
  {
   "cell_type": "markdown",
   "metadata": {
    "id": "7dPZzLXVYuY2"
   },
   "source": [
    "### Module 2 - Exponentials and logarithms"
   ]
  },
  {
   "cell_type": "code",
   "execution_count": null,
   "metadata": {
    "colab": {
     "base_uri": "https://localhost:8080/"
    },
    "executionInfo": {
     "elapsed": 469,
     "status": "ok",
     "timestamp": 1731918761157,
     "user": {
      "displayName": "Chengxiang Tang",
      "userId": "01563406770738984594"
     },
     "user_tz": -660
    },
    "id": "8Wa88xJDYuY3",
    "outputId": "9ef9fc46-7a33-487f-e485-214e9886df0d"
   },
   "outputs": [
    {
     "name": "stdout",
     "output_type": "stream",
     "text": [
      "-1    -91.875\n",
      "0    -63\n",
      "1    -24\n",
      "2    0\n",
      "3    0\n",
      "4    1152\n",
      "5    18816\n"
     ]
    }
   ],
   "source": [
    "for x in range(-1, 6):\n",
    "    print(x, '  ', (2**(3*x)-2**(2*x+4)+5*(2**(x+4))-128))"
   ]
  },
  {
   "cell_type": "code",
   "execution_count": null,
   "metadata": {
    "id": "o-kF5bh-YuY3",
    "outputId": "9fcfd3f2-bceb-4007-fdac-d4adeb478d7e"
   },
   "outputs": [
    {
     "name": "stdout",
     "output_type": "stream",
     "text": [
      "0\n"
     ]
    }
   ],
   "source": [
    "x=1\n",
    "print((3**(3*x+1))-(3**(2*x))-(3**(x+3))+9)"
   ]
  },
  {
   "cell_type": "code",
   "execution_count": null,
   "metadata": {
    "id": "NdJqp-p2YuY3",
    "outputId": "4e758030-0960-4655-e87a-403b4898b991"
   },
   "outputs": [
    {
     "name": "stdout",
     "output_type": "stream",
     "text": [
      "-2    0.0\n",
      "1    0\n",
      "2    30\n",
      "0.25    -3.0460097855321093\n"
     ]
    }
   ],
   "source": [
    "for x in [-2, 1, 2, 1/4]:\n",
    "    print(x, '  ', (2**(2*x+2))-(9*(2**x))+2)"
   ]
  },
  {
   "cell_type": "code",
   "execution_count": null,
   "metadata": {
    "id": "xyCx2DjrYuY3",
    "outputId": "9dcabc7c-6c3a-471c-852f-9a2ee3892099"
   },
   "outputs": [
    {
     "name": "stdout",
     "output_type": "stream",
     "text": [
      "173.34272\n"
     ]
    }
   ],
   "source": [
    "from numpy import e, log\n",
    "t=60\n",
    "m0=529\n",
    "k=log(5/4)/12\n",
    "pop=m0*e**(-k*t)\n",
    "print(pop)"
   ]
  },
  {
   "cell_type": "code",
   "execution_count": null,
   "metadata": {
    "id": "oyVGctIeYuY3",
    "outputId": "bdbc9d2e-a612-4009-dadc-7459297e1fcc"
   },
   "outputs": [
    {
     "name": "stdout",
     "output_type": "stream",
     "text": [
      "37.27540463406467\n"
     ]
    }
   ],
   "source": [
    "from numpy import log\n",
    "print(12*log(1/2)/log(5/4)/-1)"
   ]
  },
  {
   "cell_type": "code",
   "execution_count": null,
   "metadata": {
    "id": "F---97zcYuY3",
    "outputId": "04b9cc53-790b-4cd6-89dd-dbad3ab34578"
   },
   "outputs": [
    {
     "name": "stdout",
     "output_type": "stream",
     "text": [
      "42.108485969260514\n"
     ]
    }
   ],
   "source": [
    "from numpy import e, log\n",
    "p=-log(14/19)/2\n",
    "print(75*e**(-8*p)+20)"
   ]
  },
  {
   "cell_type": "code",
   "execution_count": null,
   "metadata": {
    "id": "ylX8kO9zYuY4",
    "outputId": "120bc257-4d8f-4be5-d7e5-691f9d24ad67"
   },
   "outputs": [
    {
     "name": "stdout",
     "output_type": "stream",
     "text": [
      "94.44732965739304\n"
     ]
    }
   ],
   "source": [
    "from numpy import e, log\n",
    "p=-log(4/5)\n",
    "t=24\n",
    "value=20000*e**(-p*t)\n",
    "print(value)"
   ]
  },
  {
   "cell_type": "code",
   "execution_count": null,
   "metadata": {
    "id": "-SzlMGO0YuY4",
    "outputId": "fbbcb310-1065-494f-e42d-791c3bb739ec"
   },
   "outputs": [
    {
     "name": "stdout",
     "output_type": "stream",
     "text": [
      "71109852940.42015\n"
     ]
    }
   ],
   "source": [
    "from numpy import e\n",
    "t=404\n",
    "print(120*e**(t/20))"
   ]
  },
  {
   "cell_type": "code",
   "execution_count": null,
   "metadata": {
    "id": "uR0aGmnxYuY4",
    "outputId": "d5fa632f-5eeb-46b9-87b5-76d5dfca3624"
   },
   "outputs": [
    {
     "name": "stdout",
     "output_type": "stream",
     "text": [
      "2000.093224641757\n"
     ]
    }
   ],
   "source": [
    "from numpy import e, log\n",
    "t=367\n",
    "k=-log(28/25)\n",
    "bacteria=1000*e**(-k*t/60)\n",
    "print(bacteria)"
   ]
  },
  {
   "cell_type": "code",
   "execution_count": null,
   "metadata": {
    "id": "K7wxzBXlYuY4",
    "outputId": "aa17101f-93cd-45e2-a38f-a2bab6b24ddc"
   },
   "outputs": [
    {
     "name": "stdout",
     "output_type": "stream",
     "text": [
      "2099999.655244221\n"
     ]
    }
   ],
   "source": [
    "from numpy import e\n",
    "t=1\n",
    "k=0.04879\n",
    "compound=2000000*e**(k*t)\n",
    "simple=2000000*(1+(5*t/100))\n",
    "print(compound)"
   ]
  },
  {
   "cell_type": "code",
   "execution_count": null,
   "metadata": {
    "id": "SJ--4DblYuY4",
    "outputId": "5c61290f-36b4-4b53-96fb-ef83fdc0cfd3"
   },
   "outputs": [
    {
     "name": "stdout",
     "output_type": "stream",
     "text": [
      "19.881419668480728\n"
     ]
    }
   ],
   "source": [
    "from numpy import e\n",
    "t=7.5\n",
    "temp=18+80*e**(-0.5*t)\n",
    "print(temp)"
   ]
  },
  {
   "cell_type": "code",
   "execution_count": null,
   "metadata": {
    "id": "KWzf7qXDYuY4",
    "outputId": "40e99a8d-fd5c-41b9-f02e-b81963d47aeb"
   },
   "outputs": [
    {
     "data": {
      "text/plain": [
       "19"
      ]
     },
     "execution_count": 127,
     "metadata": {},
     "output_type": "execute_result"
    }
   ],
   "source": [
    "1987-1968"
   ]
  },
  {
   "cell_type": "code",
   "execution_count": null,
   "metadata": {
    "id": "yEtRxBDhYuY4",
    "outputId": "15e915e4-b730-4481-ce77-80401c9c3a58"
   },
   "outputs": [
    {
     "name": "stdout",
     "output_type": "stream",
     "text": [
      "984609.1112290361\n"
     ]
    }
   ],
   "source": [
    "import numpy as np\n",
    "v0=np.e**11.9\n",
    "b=np.e**.1\n",
    "x=19\n",
    "v=v0*b**x\n",
    "print(v)"
   ]
  },
  {
   "cell_type": "markdown",
   "metadata": {
    "id": "57PKHrDQYuY5"
   },
   "source": [
    "### Module 3 - Differentiation 2"
   ]
  },
  {
   "cell_type": "code",
   "execution_count": null,
   "metadata": {
    "colab": {
     "base_uri": "https://localhost:8080/",
     "height": 449
    },
    "executionInfo": {
     "elapsed": 505,
     "status": "ok",
     "timestamp": 1731918609604,
     "user": {
      "displayName": "Chengxiang Tang",
      "userId": "01563406770738984594"
     },
     "user_tz": -660
    },
    "id": "zg-zHXLpYuY5",
    "outputId": "34082e8b-f962-447b-8c0c-e2ee36cfe31e"
   },
   "outputs": [
    {
     "data": {
      "image/png": "[encoded data removed]",
      "text/plain": [
       "<Figure size 640x480 with 1 Axes>"
      ]
     },
     "metadata": {},
     "output_type": "display_data"
    }
   ],
   "source": [
    "import pylab as plt\n",
    "xvals=[]\n",
    "yvals=[]\n",
    "x=-10\n",
    "while x<10:\n",
    "    xvals.append(x)\n",
    "    y=(x**3)*(3*x-4)\n",
    "    yvals.append(y)\n",
    "    if y==0:\n",
    "        print(x)\n",
    "    x+=.001\n",
    "axisvals=[0]*len(xvals)\n",
    "plt.plot(xvals, yvals)\n",
    "plt.plot(xvals, axisvals)\n",
    "plt.xlabel('x')\n",
    "plt.ylabel('y')\n",
    "plt.xlim(-3, 3)\n",
    "plt.ylim(-50, 50)\n",
    "plt.show()"
   ]
  },
  {
   "cell_type": "code",
   "execution_count": null,
   "metadata": {
    "id": "6RD04BdFYuY5",
    "outputId": "2a039102-5a01-436a-ccf6-744a024a2993"
   },
   "outputs": [
    {
     "name": "stdout",
     "output_type": "stream",
     "text": [
      "-130.0\n"
     ]
    }
   ],
   "source": [
    "x=-4/3\n",
    "func=x**3+2*x**2-6\n",
    "print(func*27)"
   ]
  },
  {
   "cell_type": "code",
   "execution_count": null,
   "metadata": {
    "id": "Ik62pUDMYuY5",
    "outputId": "46655ea4-c0c3-4d2e-cf11-1cd9ec0fe62f"
   },
   "outputs": [
    {
     "name": "stdout",
     "output_type": "stream",
     "text": [
      "-16875.0\n"
     ]
    }
   ],
   "source": [
    "x=15/4\n",
    "func=(x**3)*(x-5)\n",
    "print(func*256)"
   ]
  },
  {
   "cell_type": "code",
   "execution_count": null,
   "metadata": {
    "id": "o-O_eOtIYuY5",
    "outputId": "17d3de74-0ec0-46af-f589-4b4b2a6d28e8"
   },
   "outputs": [
    {
     "data": {
      "text/plain": [
       "1.0"
      ]
     },
     "execution_count": 132,
     "metadata": {},
     "output_type": "execute_result"
    }
   ],
   "source": [
    "1**-(2/3)"
   ]
  },
  {
   "cell_type": "code",
   "execution_count": null,
   "metadata": {
    "id": "jyoGKeU-YuY5",
    "outputId": "c278bcb8-1679-45d5-bf1d-8e1a80f82458"
   },
   "outputs": [
    {
     "data": {
      "text/plain": [
       "0.25"
      ]
     },
     "execution_count": 133,
     "metadata": {},
     "output_type": "execute_result"
    }
   ],
   "source": [
    "8**(-2/3)"
   ]
  },
  {
   "cell_type": "code",
   "execution_count": null,
   "metadata": {
    "id": "l-6B-TcNYuY6",
    "outputId": "1b17fab1-45b7-4f22-d1f9-a958214a6371"
   },
   "outputs": [
    {
     "name": "stdout",
     "output_type": "stream",
     "text": [
      "8.148435607168299\n"
     ]
    }
   ],
   "source": [
    "import numpy as np\n",
    "k=0.0272\n",
    "t=200\n",
    "c_dash=1.3*k*np.e**(k*t)\n",
    "print(c_dash)"
   ]
  },
  {
   "cell_type": "code",
   "execution_count": null,
   "metadata": {
    "id": "TKlwI8_uYuY6"
   },
   "outputs": [],
   "source": []
  },
  {
   "cell_type": "markdown",
   "metadata": {
    "id": "neKG6wjWYuY6"
   },
   "source": [
    "### Module 5 - Newton's Laws of Motion"
   ]
  },
  {
   "cell_type": "code",
   "execution_count": null,
   "metadata": {
    "colab": {
     "base_uri": "https://localhost:8080/"
    },
    "executionInfo": {
     "elapsed": 467,
     "status": "ok",
     "timestamp": 1731918585533,
     "user": {
      "displayName": "Chengxiang Tang",
      "userId": "01563406770738984594"
     },
     "user_tz": -660
    },
    "id": "fZnVVSwvYuY6",
    "outputId": "2450c19a-548c-40a7-b721-2d69148bb517"
   },
   "outputs": [
    {
     "name": "stdout",
     "output_type": "stream",
     "text": [
      "52920000.00000001\n"
     ]
    }
   ],
   "source": [
    "a=9.8\n",
    "m=5400000\n",
    "F=m*a\n",
    "print(F)"
   ]
  },
  {
   "cell_type": "code",
   "execution_count": null,
   "metadata": {
    "id": "kewCHawrYuY6",
    "outputId": "4e36f4e1-32f9-4855-e720-d9971958d6f0"
   },
   "outputs": [
    {
     "name": "stdout",
     "output_type": "stream",
     "text": [
      "49.99999999999999\n"
     ]
    }
   ],
   "source": [
    "a=9.8\n",
    "F=490\n",
    "m=F/a\n",
    "print(m)"
   ]
  },
  {
   "cell_type": "code",
   "execution_count": null,
   "metadata": {
    "id": "85l8UXGZYuY6",
    "outputId": "ac05dacb-457b-4489-93ea-07849df09787"
   },
   "outputs": [
    {
     "name": "stdout",
     "output_type": "stream",
     "text": [
      "148.57142857142856\n"
     ]
    }
   ],
   "source": [
    "# Moon weight\n",
    "weight=910\n",
    "m=weight/9.8\n",
    "w=m*1.6\n",
    "print(w)"
   ]
  },
  {
   "cell_type": "code",
   "execution_count": null,
   "metadata": {
    "id": "xXPqDC4TYuY7",
    "outputId": "60351710-8725-4220-e7d4-820338ad34b7"
   },
   "outputs": [
    {
     "name": "stdout",
     "output_type": "stream",
     "text": [
      "343.57142857142856\n"
     ]
    }
   ],
   "source": [
    "# Mars weight\n",
    "m=weight/9.8\n",
    "w=m*3.7\n",
    "print(w)"
   ]
  },
  {
   "cell_type": "code",
   "execution_count": null,
   "metadata": {
    "id": "ZGsa2VZwYuY7",
    "outputId": "cea7a039-f60f-4c70-992e-b6cb80587ea4"
   },
   "outputs": [
    {
     "name": "stdout",
     "output_type": "stream",
     "text": [
      "826.4285714285713\n"
     ]
    }
   ],
   "source": [
    "#Venus weight\n",
    "m=weight/9.8\n",
    "w=m*8.9\n",
    "print(w)"
   ]
  },
  {
   "cell_type": "code",
   "execution_count": null,
   "metadata": {
    "id": "hGU-lB8aYuY7",
    "outputId": "34bf9594-dd31-4365-cbc7-1ebd9467120c"
   },
   "outputs": [
    {
     "data": {
      "text/plain": [
       "686.0"
      ]
     },
     "execution_count": 140,
     "metadata": {},
     "output_type": "execute_result"
    }
   ],
   "source": [
    "70*9.8"
   ]
  },
  {
   "cell_type": "code",
   "execution_count": null,
   "metadata": {
    "id": "tivPfUXAYuY7",
    "outputId": "007f8082-01b3-466b-cb1c-df1bbc402534"
   },
   "outputs": [
    {
     "data": {
      "text/plain": [
       "650"
      ]
     },
     "execution_count": 141,
     "metadata": {},
     "output_type": "execute_result"
    }
   ],
   "source": [
    "65*10"
   ]
  },
  {
   "cell_type": "code",
   "execution_count": null,
   "metadata": {
    "id": "9GhkUSn7YuY7",
    "outputId": "97845a42-d33a-4be8-b58c-e33b39ed4fcd"
   },
   "outputs": [
    {
     "data": {
      "text/plain": [
       "736.0"
      ]
     },
     "execution_count": 142,
     "metadata": {},
     "output_type": "execute_result"
    }
   ],
   "source": [
    "80*9.2"
   ]
  },
  {
   "cell_type": "code",
   "execution_count": null,
   "metadata": {
    "id": "txtdYfNXYuY7",
    "outputId": "b10e36fa-280c-4b5a-f65b-2156487d0d23"
   },
   "outputs": [
    {
     "data": {
      "text/plain": [
       "651.0"
      ]
     },
     "execution_count": 143,
     "metadata": {},
     "output_type": "execute_result"
    }
   ],
   "source": [
    "70*9.3"
   ]
  },
  {
   "cell_type": "code",
   "execution_count": null,
   "metadata": {
    "id": "XnHpp04mYuY7",
    "outputId": "a108d7b4-ae2f-4a1c-9431-2f093cca271a"
   },
   "outputs": [
    {
     "data": {
      "text/plain": [
       "686.8"
      ]
     },
     "execution_count": 144,
     "metadata": {},
     "output_type": "execute_result"
    }
   ],
   "source": [
    "68*10.1"
   ]
  },
  {
   "cell_type": "code",
   "execution_count": null,
   "metadata": {
    "id": "FyGh6XQJYuY8",
    "outputId": "921b9e00-0c28-4840-d368-c6e696497807"
   },
   "outputs": [
    {
     "data": {
      "text/plain": [
       "0.225"
      ]
     },
     "execution_count": 145,
     "metadata": {},
     "output_type": "execute_result"
    }
   ],
   "source": [
    "18/80"
   ]
  },
  {
   "cell_type": "code",
   "execution_count": null,
   "metadata": {
    "id": "K9gvQeMTYuY8",
    "outputId": "8b70e089-ef27-4eff-f3f0-5aa606f28f10"
   },
   "outputs": [
    {
     "data": {
      "text/plain": [
       "400.0"
      ]
     },
     "execution_count": 146,
     "metadata": {},
     "output_type": "execute_result"
    }
   ],
   "source": [
    "90/0.225"
   ]
  },
  {
   "cell_type": "code",
   "execution_count": null,
   "metadata": {
    "id": "IoyotYlQYuY8",
    "outputId": "b599b78c-fe77-4b80-a7ce-44ed8ea3e3a1"
   },
   "outputs": [
    {
     "data": {
      "text/plain": [
       "195"
      ]
     },
     "execution_count": 147,
     "metadata": {},
     "output_type": "execute_result"
    }
   ],
   "source": [
    "65*3"
   ]
  },
  {
   "cell_type": "code",
   "execution_count": null,
   "metadata": {
    "id": "K15am7d-YuY8",
    "outputId": "28db7f42-c5f1-4134-fc79-18664ebe80a4"
   },
   "outputs": [
    {
     "data": {
      "text/plain": [
       "11.258333333333331"
      ]
     },
     "execution_count": 148,
     "metadata": {},
     "output_type": "execute_result"
    }
   ],
   "source": [
    "0.0042*9650/3.6"
   ]
  },
  {
   "cell_type": "code",
   "execution_count": null,
   "metadata": {
    "id": "oDkHmFC9YuY8",
    "outputId": "24203b58-7166-47d5-dbb8-1134b35d19af"
   },
   "outputs": [
    {
     "data": {
      "text/plain": [
       "6.86"
      ]
     },
     "execution_count": 149,
     "metadata": {},
     "output_type": "execute_result"
    }
   ],
   "source": [
    "0.7*9.8"
   ]
  },
  {
   "cell_type": "code",
   "execution_count": null,
   "metadata": {
    "id": "bbzoZYN0YuY8",
    "outputId": "8f22905a-8e61-4fca-d94e-13aadb4a2ac6"
   },
   "outputs": [
    {
     "data": {
      "text/plain": [
       "202.86"
      ]
     },
     "execution_count": 150,
     "metadata": {},
     "output_type": "execute_result"
    }
   ],
   "source": [
    "20.7*9.8"
   ]
  },
  {
   "cell_type": "code",
   "execution_count": null,
   "metadata": {
    "id": "O31EoAGyYuY9",
    "outputId": "34a9d1e9-676c-4d87-c650-5cac017055a2"
   },
   "outputs": [
    {
     "data": {
      "text/plain": [
       "850.0"
      ]
     },
     "execution_count": 151,
     "metadata": {},
     "output_type": "execute_result"
    }
   ],
   "source": [
    "700*0.5+500"
   ]
  },
  {
   "cell_type": "code",
   "execution_count": null,
   "metadata": {
    "id": "LVq4JwesYuY9",
    "outputId": "9b47639c-d6be-4ad0-82ae-28c3c6b3d8a0"
   },
   "outputs": [
    {
     "data": {
      "text/plain": [
       "1900.0"
      ]
     },
     "execution_count": 152,
     "metadata": {},
     "output_type": "execute_result"
    }
   ],
   "source": [
    "2000*0.5+900"
   ]
  },
  {
   "cell_type": "code",
   "execution_count": null,
   "metadata": {
    "id": "J1Y4kuSLYuY9",
    "outputId": "07516604-0801-4bf2-810f-e57aac084105"
   },
   "outputs": [
    {
     "data": {
      "text/plain": [
       "637.0"
      ]
     },
     "execution_count": 153,
     "metadata": {},
     "output_type": "execute_result"
    }
   ],
   "source": [
    "65*9.8"
   ]
  },
  {
   "cell_type": "code",
   "execution_count": null,
   "metadata": {
    "id": "CcWfmyKmYuY9",
    "outputId": "1206e9fb-2e9a-4e47-de7c-40b0caecfeda"
   },
   "outputs": [
    {
     "data": {
      "text/plain": [
       "11809.0"
      ]
     },
     "execution_count": 154,
     "metadata": {},
     "output_type": "execute_result"
    }
   ],
   "source": [
    "1205*9.8"
   ]
  },
  {
   "cell_type": "code",
   "execution_count": null,
   "metadata": {
    "id": "k7XEi0zAYuY9",
    "outputId": "163e1d65-2b4f-4825-c401-d60cb1ad3123"
   },
   "outputs": [
    {
     "data": {
      "text/plain": [
       "12532.0"
      ]
     },
     "execution_count": 155,
     "metadata": {},
     "output_type": "execute_result"
    }
   ],
   "source": [
    "1205*10.4"
   ]
  },
  {
   "cell_type": "code",
   "execution_count": null,
   "metadata": {
    "id": "_XEsqgJxYuY9",
    "outputId": "990d3e36-e27c-4c4e-a630-d391ffbfcd89"
   },
   "outputs": [
    {
     "data": {
      "text/plain": [
       "676.0"
      ]
     },
     "execution_count": 156,
     "metadata": {},
     "output_type": "execute_result"
    }
   ],
   "source": [
    "65*10.4"
   ]
  },
  {
   "cell_type": "code",
   "execution_count": null,
   "metadata": {
    "id": "CD9GozQLYuY9",
    "outputId": "93a06667-7ba7-4b6b-8ac5-fbd7cd6c7c74"
   },
   "outputs": [
    {
     "data": {
      "text/plain": [
       "0.8"
      ]
     },
     "execution_count": 157,
     "metadata": {},
     "output_type": "execute_result"
    }
   ],
   "source": [
    "60/75"
   ]
  },
  {
   "cell_type": "code",
   "execution_count": null,
   "metadata": {
    "id": "VmLg1NjvYuY-",
    "outputId": "28eb7366-036c-4837-de85-a5368ea62710"
   },
   "outputs": [
    {
     "data": {
      "text/plain": [
       "0.12"
      ]
     },
     "execution_count": 158,
     "metadata": {},
     "output_type": "execute_result"
    }
   ],
   "source": [
    ".2*.6"
   ]
  },
  {
   "cell_type": "code",
   "execution_count": null,
   "metadata": {
    "id": "8LSyHGlPYuY-",
    "outputId": "89790827-6289-4865-ef30-c452c8cb6f22"
   },
   "outputs": [
    {
     "data": {
      "text/plain": [
       "0.1"
      ]
     },
     "execution_count": 159,
     "metadata": {},
     "output_type": "execute_result"
    }
   ],
   "source": [
    ".2*.5"
   ]
  },
  {
   "cell_type": "code",
   "execution_count": null,
   "metadata": {
    "id": "sI_U1_-vYuY-",
    "outputId": "13525abe-ef91-43a9-e3b0-0afa59939120"
   },
   "outputs": [
    {
     "data": {
      "text/plain": [
       "49.0"
      ]
     },
     "execution_count": 160,
     "metadata": {},
     "output_type": "execute_result"
    }
   ],
   "source": [
    "g=9.8\n",
    "5*g"
   ]
  },
  {
   "cell_type": "code",
   "execution_count": null,
   "metadata": {
    "id": "vlClAoEdYuY-",
    "outputId": "c42091e1-fba5-4a66-f431-f3949401b1a2"
   },
   "outputs": [
    {
     "data": {
      "text/plain": [
       "697"
      ]
     },
     "execution_count": 161,
     "metadata": {},
     "output_type": "execute_result"
    }
   ],
   "source": [
    "17*41"
   ]
  },
  {
   "cell_type": "code",
   "execution_count": null,
   "metadata": {
    "id": "gmx8SHG1YuY-",
    "outputId": "17c58eb2-9dc9-41f8-e00b-7d7f666ef17f"
   },
   "outputs": [
    {
     "data": {
      "text/plain": [
       "316"
      ]
     },
     "execution_count": 162,
     "metadata": {},
     "output_type": "execute_result"
    }
   ],
   "source": [
    "4*79"
   ]
  },
  {
   "cell_type": "code",
   "execution_count": null,
   "metadata": {
    "id": "XegOYfK8YuY-",
    "outputId": "5c7fcc79-f17b-456c-99b0-c6a346e7e33e"
   },
   "outputs": [
    {
     "data": {
      "text/plain": [
       "302.00000000000006"
      ]
     },
     "execution_count": 163,
     "metadata": {},
     "output_type": "execute_result"
    }
   ],
   "source": [
    "((697/316)-(5/4))*316"
   ]
  },
  {
   "cell_type": "code",
   "execution_count": null,
   "metadata": {
    "id": "x0HG-m3dYuY-",
    "outputId": "d4b8d85c-7f9c-4a5b-81ab-bace24b51fdf"
   },
   "outputs": [
    {
     "data": {
      "text/plain": [
       "5.127152317880795"
      ]
     },
     "execution_count": 164,
     "metadata": {},
     "output_type": "execute_result"
    }
   ],
   "source": [
    "g/(151/79)"
   ]
  },
  {
   "cell_type": "code",
   "execution_count": null,
   "metadata": {
    "id": "JrfoB3bxYuY_",
    "outputId": "d127c030-cee6-4982-b5be-8ab895972bac"
   },
   "outputs": [
    {
     "data": {
      "text/plain": [
       "6.398347107438017"
      ]
     },
     "execution_count": 165,
     "metadata": {},
     "output_type": "execute_result"
    }
   ],
   "source": [
    "49/(8-(27/79))"
   ]
  },
  {
   "cell_type": "code",
   "execution_count": null,
   "metadata": {
    "id": "3uNqQhA1YuY_",
    "outputId": "3f1ccd98-618b-44c6-cfe3-3d97f9c19aaf"
   },
   "outputs": [
    {
     "data": {
      "text/plain": [
       "147.0"
      ]
     },
     "execution_count": 166,
     "metadata": {},
     "output_type": "execute_result"
    }
   ],
   "source": [
    "15*g"
   ]
  },
  {
   "cell_type": "code",
   "execution_count": null,
   "metadata": {
    "id": "4pKJHfUXYuY_",
    "outputId": "925ab044-2c88-4b62-d513-59aa959f3408"
   },
   "outputs": [
    {
     "data": {
      "text/plain": [
       "392"
      ]
     },
     "execution_count": 167,
     "metadata": {},
     "output_type": "execute_result"
    }
   ],
   "source": [
    "49*11-147"
   ]
  },
  {
   "cell_type": "code",
   "execution_count": null,
   "metadata": {
    "id": "J7R4eDRnYuY_",
    "outputId": "31217c3d-19b9-4dca-c681-7cc5019d1364"
   },
   "outputs": [
    {
     "data": {
      "text/plain": [
       "2.090909090909091"
      ]
     },
     "execution_count": 168,
     "metadata": {},
     "output_type": "execute_result"
    }
   ],
   "source": [
    "(392/55+147/11)/g"
   ]
  },
  {
   "cell_type": "code",
   "execution_count": null,
   "metadata": {
    "id": "b8GtxTCRYuY_",
    "outputId": "d48fd460-ffd9-4923-fb70-6e3a710e8a0b"
   },
   "outputs": [
    {
     "data": {
      "text/plain": [
       "7.136363636363637"
      ]
     },
     "execution_count": 169,
     "metadata": {},
     "output_type": "execute_result"
    }
   ],
   "source": [
    "392.5/55"
   ]
  },
  {
   "cell_type": "code",
   "execution_count": null,
   "metadata": {
    "id": "YN6CGh8jYuY_",
    "outputId": "8ab84fe0-8068-45f2-aad4-027a956dde07"
   },
   "outputs": [
    {
     "data": {
      "text/plain": [
       "49.5"
      ]
     },
     "execution_count": 170,
     "metadata": {},
     "output_type": "execute_result"
    }
   ],
   "source": [
    "9.9*5"
   ]
  },
  {
   "cell_type": "code",
   "execution_count": null,
   "metadata": {
    "id": "XOWh9MjhYuZA",
    "outputId": "4d99486f-ed3d-4119-a413-f5a41cedd23e"
   },
   "outputs": [
    {
     "data": {
      "text/plain": [
       "6.533333333333334"
      ]
     },
     "execution_count": 171,
     "metadata": {},
     "output_type": "execute_result"
    }
   ],
   "source": [
    "9.8/1.5"
   ]
  },
  {
   "cell_type": "code",
   "execution_count": null,
   "metadata": {
    "id": "Hs_gkO8FYuZA",
    "outputId": "d134a096-9bb2-4449-cc96-659902dde900"
   },
   "outputs": [
    {
     "data": {
      "text/plain": [
       "1.088888888888889"
      ]
     },
     "execution_count": 172,
     "metadata": {},
     "output_type": "execute_result"
    }
   ],
   "source": [
    "g/9"
   ]
  },
  {
   "cell_type": "code",
   "execution_count": null,
   "metadata": {
    "id": "vlBTAaCWYuZA",
    "outputId": "db457d23-b61f-415c-f2bd-87a1f8467069"
   },
   "outputs": [
    {
     "data": {
      "text/plain": [
       "88.2"
      ]
     },
     "execution_count": 173,
     "metadata": {},
     "output_type": "execute_result"
    }
   ],
   "source": [
    "9*g"
   ]
  },
  {
   "cell_type": "code",
   "execution_count": null,
   "metadata": {
    "id": "NujWcfXLYuZA",
    "outputId": "b42af678-365e-4993-b8f9-1c1ba6af1a60"
   },
   "outputs": [
    {
     "data": {
      "text/plain": [
       "43.55555555555556"
      ]
     },
     "execution_count": 174,
     "metadata": {},
     "output_type": "execute_result"
    }
   ],
   "source": [
    "49-49/9"
   ]
  },
  {
   "cell_type": "code",
   "execution_count": null,
   "metadata": {
    "id": "fZfkpfMJYuZA",
    "outputId": "12b00d90-a1ad-49f3-9121-5dfdae3bfe7a"
   },
   "outputs": [
    {
     "data": {
      "text/plain": [
       "3.266666666666667"
      ]
     },
     "execution_count": 175,
     "metadata": {},
     "output_type": "execute_result"
    }
   ],
   "source": [
    "g/3"
   ]
  },
  {
   "cell_type": "code",
   "execution_count": null,
   "metadata": {
    "id": "6uefIZxoYuZB",
    "outputId": "20b85a8b-08cf-4e27-da73-f58374e3276f"
   },
   "outputs": [
    {
     "data": {
      "text/plain": [
       "117.60000000000001"
      ]
     },
     "execution_count": 176,
     "metadata": {},
     "output_type": "execute_result"
    }
   ],
   "source": [
    "12*g"
   ]
  },
  {
   "cell_type": "code",
   "execution_count": null,
   "metadata": {
    "id": "sbCGWyHfYuZB",
    "outputId": "01a1dd5d-5ca5-4be8-c96a-2749af761bc4"
   },
   "outputs": [
    {
     "data": {
      "text/plain": [
       "52.26666666666667"
      ]
     },
     "execution_count": 177,
     "metadata": {},
     "output_type": "execute_result"
    }
   ],
   "source": [
    "4*g+4*g/3"
   ]
  },
  {
   "cell_type": "code",
   "execution_count": null,
   "metadata": {
    "id": "ZfRKfhH0YuZB",
    "outputId": "383917aa-d0ba-4694-d66c-c0529a8a0c73"
   },
   "outputs": [
    {
     "data": {
      "text/plain": [
       "58.800000000000004"
      ]
     },
     "execution_count": 178,
     "metadata": {},
     "output_type": "execute_result"
    }
   ],
   "source": [
    "6*g"
   ]
  },
  {
   "cell_type": "code",
   "execution_count": null,
   "metadata": {
    "id": "9VnwzIJ0YuZB",
    "outputId": "d9babb35-5269-4314-9210-77c89cf319cf"
   },
   "outputs": [
    {
     "data": {
      "text/plain": [
       "26.133333333333336"
      ]
     },
     "execution_count": 179,
     "metadata": {},
     "output_type": "execute_result"
    }
   ],
   "source": [
    "2*g/3+2*g"
   ]
  },
  {
   "cell_type": "code",
   "execution_count": null,
   "metadata": {
    "id": "nKFMrNklYuZB",
    "outputId": "e9ab0726-00da-4aae-b8eb-38f94f6645ec"
   },
   "outputs": [
    {
     "data": {
      "text/plain": [
       "0.35555555555555557"
      ]
     },
     "execution_count": 180,
     "metadata": {},
     "output_type": "execute_result"
    }
   ],
   "source": [
    "16/45"
   ]
  },
  {
   "cell_type": "code",
   "execution_count": null,
   "metadata": {
    "id": "N-_jpUj9YuZB",
    "outputId": "43d3bc37-d39f-496d-878b-2514c17179a4"
   },
   "outputs": [
    {
     "data": {
      "text/plain": [
       "584.4444444444445"
      ]
     },
     "execution_count": 181,
     "metadata": {},
     "output_type": "execute_result"
    }
   ],
   "source": [
    "(16/45)*800+300"
   ]
  },
  {
   "cell_type": "code",
   "execution_count": null,
   "metadata": {
    "id": "BQik8hLcYuZC",
    "outputId": "985d6314-48e9-44af-ccc8-5a68025632aa"
   },
   "outputs": [
    {
     "data": {
      "text/plain": [
       "9.0"
      ]
     },
     "execution_count": 182,
     "metadata": {},
     "output_type": "execute_result"
    }
   ],
   "source": [
    "225/25"
   ]
  },
  {
   "cell_type": "code",
   "execution_count": null,
   "metadata": {
    "id": "pzVde50dYuZC",
    "outputId": "4e6fb91f-70a9-4ab6-bae8-827e85d9aadf"
   },
   "outputs": [
    {
     "data": {
      "text/plain": [
       "45.0"
      ]
     },
     "execution_count": 183,
     "metadata": {},
     "output_type": "execute_result"
    }
   ],
   "source": [
    "1125/25"
   ]
  },
  {
   "cell_type": "code",
   "execution_count": null,
   "metadata": {
    "id": "tE-GcNfQYuZC",
    "outputId": "83d8fa96-20d4-44cb-d248-9ccef8cd05d9"
   },
   "outputs": [
    {
     "data": {
      "text/plain": [
       "4300"
      ]
     },
     "execution_count": 184,
     "metadata": {},
     "output_type": "execute_result"
    }
   ],
   "source": [
    "5*800+300"
   ]
  },
  {
   "cell_type": "code",
   "execution_count": null,
   "metadata": {
    "id": "6oIwDN3DYuZC",
    "outputId": "acfa0dec-cf9a-41a9-fc5b-dcd501ea0a0a"
   },
   "outputs": [
    {
     "data": {
      "text/plain": [
       "6950"
      ]
     },
     "execution_count": 185,
     "metadata": {},
     "output_type": "execute_result"
    }
   ],
   "source": [
    "11250-4300"
   ]
  },
  {
   "cell_type": "code",
   "execution_count": null,
   "metadata": {
    "id": "-dt3OHASYuZC",
    "outputId": "a0257d05-c7fc-4c59-b446-b327d529ec1a"
   },
   "outputs": [
    {
     "data": {
      "text/plain": [
       "19.6"
      ]
     },
     "execution_count": 186,
     "metadata": {},
     "output_type": "execute_result"
    }
   ],
   "source": [
    "g=9.8\n",
    "2*g"
   ]
  },
  {
   "cell_type": "code",
   "execution_count": null,
   "metadata": {
    "id": "NNz8zUpWYuZC",
    "outputId": "59b64944-b66e-47c1-b741-134b77d00f5b"
   },
   "outputs": [
    {
     "data": {
      "text/plain": [
       "3.266666666666667"
      ]
     },
     "execution_count": 187,
     "metadata": {},
     "output_type": "execute_result"
    }
   ],
   "source": [
    "g/3"
   ]
  },
  {
   "cell_type": "code",
   "execution_count": null,
   "metadata": {
    "id": "SQwjXdfUYuZC",
    "outputId": "5bd96f30-a436-4547-d027-d49d079b27f5"
   },
   "outputs": [
    {
     "data": {
      "text/plain": [
       "6.533333333333334"
      ]
     },
     "execution_count": 188,
     "metadata": {},
     "output_type": "execute_result"
    }
   ],
   "source": [
    "a=g/3\n",
    "t=2\n",
    "s=(1/2)*a*t**2\n",
    "s"
   ]
  },
  {
   "cell_type": "code",
   "execution_count": null,
   "metadata": {
    "id": "cLVxSSVAYuZD",
    "outputId": "537feae3-6690-48e5-927e-e1ceab99e197"
   },
   "outputs": [
    {
     "data": {
      "text/plain": [
       "1.7294117647058824"
      ]
     },
     "execution_count": 189,
     "metadata": {},
     "output_type": "execute_result"
    }
   ],
   "source": [
    "3*g/17"
   ]
  },
  {
   "cell_type": "code",
   "execution_count": null,
   "metadata": {
    "id": "apOS7rgKYuZD",
    "outputId": "318a107d-1df3-4c90-fd5c-d8b4b9490941"
   },
   "outputs": [
    {
     "data": {
      "text/plain": [
       "23.058823529411768"
      ]
     },
     "execution_count": 190,
     "metadata": {},
     "output_type": "execute_result"
    }
   ],
   "source": [
    "40/17*g"
   ]
  },
  {
   "cell_type": "code",
   "execution_count": null,
   "metadata": {
    "id": "dgltiWRoYuZD",
    "outputId": "4e8b49cc-93a1-43a9-ab1d-3b5585df058b"
   },
   "outputs": [
    {
     "data": {
      "text/plain": [
       "40.352941176470594"
      ]
     },
     "execution_count": 191,
     "metadata": {},
     "output_type": "execute_result"
    }
   ],
   "source": [
    "(40/17*g)+10*(3*g/17)"
   ]
  },
  {
   "cell_type": "code",
   "execution_count": null,
   "metadata": {
    "id": "a7U1_ItZYuZD",
    "outputId": "002d9c08-1631-4713-d192-031432d382ba"
   },
   "outputs": [
    {
     "data": {
      "text/plain": [
       "7920.000000000001"
      ]
     },
     "execution_count": 192,
     "metadata": {},
     "output_type": "execute_result"
    }
   ],
   "source": [
    "800*g+80"
   ]
  },
  {
   "cell_type": "code",
   "execution_count": null,
   "metadata": {
    "id": "2neLjLmVYuZD",
    "outputId": "a7087ca8-ad2c-4201-a568-f10e7522cb70"
   },
   "outputs": [
    {
     "data": {
      "text/plain": [
       "8450.0"
      ]
     },
     "execution_count": 193,
     "metadata": {},
     "output_type": "execute_result"
    }
   ],
   "source": [
    "800*g+610"
   ]
  },
  {
   "cell_type": "code",
   "execution_count": null,
   "metadata": {
    "id": "dRkc5RjjYuZD",
    "outputId": "9583e436-0fdb-4d80-e934-4df04b3886cf"
   },
   "outputs": [
    {
     "data": {
      "text/plain": [
       "4.775"
      ]
     },
     "execution_count": 194,
     "metadata": {},
     "output_type": "execute_result"
    }
   ],
   "source": [
    "g/2-1/8"
   ]
  },
  {
   "cell_type": "code",
   "execution_count": null,
   "metadata": {
    "id": "7Me9h3z6YuZD",
    "outputId": "7c7dbfe8-8dbe-4b7b-a807-fca728bdf197"
   },
   "outputs": [
    {
     "data": {
      "text/plain": [
       "40.2"
      ]
     },
     "execution_count": 195,
     "metadata": {},
     "output_type": "execute_result"
    }
   ],
   "source": [
    "8*(g/2-1/8)+2"
   ]
  },
  {
   "cell_type": "code",
   "execution_count": null,
   "metadata": {
    "id": "eQZeqRvcYuZE",
    "outputId": "d5ecf733-e62c-46b3-cdc0-66e49d5cd147"
   },
   "outputs": [
    {
     "data": {
      "text/plain": [
       "12700.0"
      ]
     },
     "execution_count": 196,
     "metadata": {},
     "output_type": "execute_result"
    }
   ],
   "source": [
    "55000*0.2+1700"
   ]
  },
  {
   "cell_type": "code",
   "execution_count": null,
   "metadata": {
    "id": "w8RgZhSZYuZE",
    "outputId": "f5566573-a941-4d37-a0ee-31df69474f38"
   },
   "outputs": [
    {
     "data": {
      "text/plain": [
       "1300.0"
      ]
     },
     "execution_count": 197,
     "metadata": {},
     "output_type": "execute_result"
    }
   ],
   "source": [
    "5000*0.2+300"
   ]
  },
  {
   "cell_type": "code",
   "execution_count": null,
   "metadata": {
    "id": "9Vwo-zQwYuZE",
    "outputId": "b5a31b80-ea85-4821-ad06-6515bc397a53"
   },
   "outputs": [
    {
     "data": {
      "text/plain": [
       "3700.0"
      ]
     },
     "execution_count": 198,
     "metadata": {},
     "output_type": "execute_result"
    }
   ],
   "source": [
    "10000*0.2+1700"
   ]
  },
  {
   "cell_type": "code",
   "execution_count": null,
   "metadata": {
    "id": "0OYHYMchYuZE",
    "outputId": "931eb5f1-5b06-4c0e-cb32-6017c96e5fec"
   },
   "outputs": [
    {
     "data": {
      "text/plain": [
       "9000.0"
      ]
     },
     "execution_count": 199,
     "metadata": {},
     "output_type": "execute_result"
    }
   ],
   "source": [
    "40000*0.2+1000"
   ]
  },
  {
   "cell_type": "code",
   "execution_count": null,
   "metadata": {
    "id": "EMmFQRwQYuZE",
    "outputId": "251477ae-48ab-4e79-f9c9-ec248e610cf3"
   },
   "outputs": [
    {
     "data": {
      "text/plain": [
       "48"
      ]
     },
     "execution_count": 200,
     "metadata": {},
     "output_type": "execute_result"
    }
   ],
   "source": [
    "500-160-73*4"
   ]
  },
  {
   "cell_type": "code",
   "execution_count": null,
   "metadata": {
    "id": "o9kkrVgxYuZE",
    "outputId": "ed97120c-d759-4c1d-8434-955fa88b7b6e"
   },
   "outputs": [
    {
     "data": {
      "text/plain": [
       "930"
      ]
     },
     "execution_count": 201,
     "metadata": {},
     "output_type": "execute_result"
    }
   ],
   "source": [
    "330+150*4"
   ]
  },
  {
   "cell_type": "code",
   "execution_count": null,
   "metadata": {
    "id": "nLVGYsM1YuZF",
    "outputId": "fc6c8b4b-2792-4c56-9b30-12ac8daa7124"
   },
   "outputs": [
    {
     "data": {
      "text/plain": [
       "0.05161290322580645"
      ]
     },
     "execution_count": 202,
     "metadata": {},
     "output_type": "execute_result"
    }
   ],
   "source": [
    "48/930"
   ]
  },
  {
   "cell_type": "code",
   "execution_count": null,
   "metadata": {
    "id": "bsMO0vVAYuZF",
    "outputId": "c98544ab-b8f8-4332-c8b2-8d15921c0194"
   },
   "outputs": [
    {
     "data": {
      "text/plain": [
       "80.74193548387098"
      ]
     },
     "execution_count": 203,
     "metadata": {},
     "output_type": "execute_result"
    }
   ],
   "source": [
    "a=48/930\n",
    "r4=150*a+73\n",
    "r4"
   ]
  },
  {
   "cell_type": "code",
   "execution_count": null,
   "metadata": {
    "id": "BuwVp63-YuZF",
    "outputId": "9bfff880-9538-42ad-cbe5-2bca0d5cb623"
   },
   "outputs": [
    {
     "data": {
      "text/plain": [
       "161.48387096774195"
      ]
     },
     "execution_count": 204,
     "metadata": {},
     "output_type": "execute_result"
    }
   ],
   "source": [
    "r3=150*a+73+r4\n",
    "r3"
   ]
  },
  {
   "cell_type": "code",
   "execution_count": null,
   "metadata": {
    "id": "TJiPWbhAYuZF",
    "outputId": "19f6ae5e-0cf3-4a2f-a22c-f1ab26e819c5"
   },
   "outputs": [
    {
     "data": {
      "text/plain": [
       "242.22580645161293"
      ]
     },
     "execution_count": 205,
     "metadata": {},
     "output_type": "execute_result"
    }
   ],
   "source": [
    "r2=150*a+73+r3\n",
    "r2"
   ]
  },
  {
   "cell_type": "code",
   "execution_count": null,
   "metadata": {
    "id": "l5F8Ft-iYuZF",
    "outputId": "47018da6-6039-42e7-a902-435f7936b9d4"
   },
   "outputs": [
    {
     "data": {
      "text/plain": [
       "322.9677419354839"
      ]
     },
     "execution_count": 206,
     "metadata": {},
     "output_type": "execute_result"
    }
   ],
   "source": [
    "r1=150*a+73+r2\n",
    "r1"
   ]
  },
  {
   "cell_type": "code",
   "execution_count": null,
   "metadata": {
    "id": "cmGtgm__YuZF",
    "outputId": "dc679fbe-073c-4b6f-fee0-6f101e8ab3d6"
   },
   "outputs": [
    {
     "data": {
      "text/plain": [
       "431.20000000000005"
      ]
     },
     "execution_count": 207,
     "metadata": {},
     "output_type": "execute_result"
    }
   ],
   "source": [
    "44*9.8"
   ]
  },
  {
   "cell_type": "code",
   "execution_count": null,
   "metadata": {
    "id": "V4mgGLXnYuZF",
    "outputId": "d7f40960-88d1-4cb9-c0c2-533a74ca653c"
   },
   "outputs": [
    {
     "data": {
      "text/plain": [
       "5488.0"
      ]
     },
     "execution_count": 208,
     "metadata": {},
     "output_type": "execute_result"
    }
   ],
   "source": [
    "560*9.8"
   ]
  },
  {
   "cell_type": "code",
   "execution_count": null,
   "metadata": {
    "id": "ERUHUJYOYuZG",
    "outputId": "1e714835-9512-456d-aa5d-6b4cff777f24"
   },
   "outputs": [
    {
     "data": {
      "text/plain": [
       "22.54"
      ]
     },
     "execution_count": 209,
     "metadata": {},
     "output_type": "execute_result"
    }
   ],
   "source": [
    "2.3*9.8"
   ]
  },
  {
   "cell_type": "code",
   "execution_count": null,
   "metadata": {
    "id": "l8TS2VpMYuZG",
    "outputId": "a935c918-24d6-435b-da76-df118d451827"
   },
   "outputs": [
    {
     "data": {
      "text/plain": [
       "322.0"
      ]
     },
     "execution_count": 210,
     "metadata": {},
     "output_type": "execute_result"
    }
   ],
   "source": [
    "35*9.2"
   ]
  },
  {
   "cell_type": "code",
   "execution_count": null,
   "metadata": {
    "id": "OVgS_y1bYuZG",
    "outputId": "20859ed0-c9d2-45d2-9636-b5e2251f5132"
   },
   "outputs": [
    {
     "data": {
      "text/plain": [
       "236"
      ]
     },
     "execution_count": 211,
     "metadata": {},
     "output_type": "execute_result"
    }
   ],
   "source": [
    "363-121+36-108+66"
   ]
  },
  {
   "cell_type": "code",
   "execution_count": null,
   "metadata": {
    "id": "g40xLqTJYuZG",
    "outputId": "9f4727a8-298d-4929-9874-e6345165c860"
   },
   "outputs": [
    {
     "data": {
      "text/plain": [
       "85"
      ]
     },
     "execution_count": 212,
     "metadata": {},
     "output_type": "execute_result"
    }
   ],
   "source": [
    "236*6-1331"
   ]
  },
  {
   "cell_type": "code",
   "execution_count": null,
   "metadata": {
    "id": "4PsWLPYFYuZG",
    "outputId": "9b2b71e8-d285-4e1d-8dcc-076c5663fc2c"
   },
   "outputs": [
    {
     "data": {
      "text/plain": [
       "141"
      ]
     },
     "execution_count": 213,
     "metadata": {},
     "output_type": "execute_result"
    }
   ],
   "source": [
    "85+56"
   ]
  },
  {
   "cell_type": "code",
   "execution_count": null,
   "metadata": {
    "id": "TFUJtPEsYuZG",
    "outputId": "75d5f070-48fd-4016-e1bd-5daaf8085aac"
   },
   "outputs": [
    {
     "data": {
      "text/plain": [
       "23.5"
      ]
     },
     "execution_count": 214,
     "metadata": {},
     "output_type": "execute_result"
    }
   ],
   "source": [
    "141/6"
   ]
  },
  {
   "cell_type": "code",
   "execution_count": null,
   "metadata": {
    "id": "0ZZUdTDIYuZG",
    "outputId": "7be2b1cb-98bb-480b-dbf5-202760aa0daf"
   },
   "outputs": [
    {
     "data": {
      "text/plain": [
       "1573"
      ]
     },
     "execution_count": 215,
     "metadata": {},
     "output_type": "execute_result"
    }
   ],
   "source": [
    "121*13"
   ]
  },
  {
   "cell_type": "code",
   "execution_count": null,
   "metadata": {
    "id": "mVZpotUWYuZH",
    "outputId": "15f72820-3cad-471f-ed5c-abc86fc9558a"
   },
   "outputs": [
    {
     "data": {
      "text/plain": [
       "117"
      ]
     },
     "execution_count": 216,
     "metadata": {},
     "output_type": "execute_result"
    }
   ],
   "source": [
    "13*9"
   ]
  },
  {
   "cell_type": "code",
   "execution_count": null,
   "metadata": {
    "id": "2u3dRgxFYuZH",
    "outputId": "35224bac-97c6-405d-b792-723ab7481f89"
   },
   "outputs": [
    {
     "data": {
      "text/plain": [
       "-136"
      ]
     },
     "execution_count": 217,
     "metadata": {},
     "output_type": "execute_result"
    }
   ],
   "source": [
    "36+66-121-117"
   ]
  },
  {
   "cell_type": "code",
   "execution_count": null,
   "metadata": {
    "id": "Wo1C3gZrYuZH",
    "outputId": "e98c22fd-f658-43e3-f386-c130fbcc92a8"
   },
   "outputs": [
    {
     "data": {
      "text/plain": [
       "2662"
      ]
     },
     "execution_count": 218,
     "metadata": {},
     "output_type": "execute_result"
    }
   ],
   "source": [
    "1331*2"
   ]
  },
  {
   "cell_type": "code",
   "execution_count": null,
   "metadata": {
    "id": "UWc65McjYuZH",
    "outputId": "68b0a9db-0b7b-41d1-b4a6-47c72d60a01d"
   },
   "outputs": [
    {
     "data": {
      "text/plain": [
       "4719"
      ]
     },
     "execution_count": 219,
     "metadata": {},
     "output_type": "execute_result"
    }
   ],
   "source": [
    "1573*3"
   ]
  },
  {
   "cell_type": "code",
   "execution_count": null,
   "metadata": {
    "id": "63su39h3YuZH",
    "outputId": "f4647af0-52c4-42fe-a624-6daf0fbc3777"
   },
   "outputs": [
    {
     "data": {
      "text/plain": [
       "2057"
      ]
     },
     "execution_count": 220,
     "metadata": {},
     "output_type": "execute_result"
    }
   ],
   "source": [
    "4719-2662"
   ]
  },
  {
   "cell_type": "code",
   "execution_count": null,
   "metadata": {
    "id": "i9ShYJ8xYuZH",
    "outputId": "7122ccac-7aa4-4ce8-a47b-ad8f87bc4666"
   },
   "outputs": [
    {
     "data": {
      "text/plain": [
       "425"
      ]
     },
     "execution_count": 221,
     "metadata": {},
     "output_type": "execute_result"
    }
   ],
   "source": [
    "2057-136*12"
   ]
  },
  {
   "cell_type": "code",
   "execution_count": null,
   "metadata": {
    "id": "rGoJk8NoYuZI",
    "outputId": "20e096bc-40a3-4b30-946a-348d18511d75"
   },
   "outputs": [
    {
     "data": {
      "text/plain": [
       "179.0"
      ]
     },
     "execution_count": 222,
     "metadata": {},
     "output_type": "execute_result"
    }
   ],
   "source": [
    "537/3"
   ]
  },
  {
   "cell_type": "code",
   "execution_count": null,
   "metadata": {
    "id": "HZujOAtOYuZI",
    "outputId": "08d15470-739b-472f-cd6a-8d1fcde9f730"
   },
   "outputs": [
    {
     "data": {
      "text/plain": [
       "44.75"
      ]
     },
     "execution_count": 223,
     "metadata": {},
     "output_type": "execute_result"
    }
   ],
   "source": [
    "179/4"
   ]
  },
  {
   "cell_type": "code",
   "execution_count": null,
   "metadata": {
    "id": "DdSMiwuqYuZI",
    "outputId": "dfca00d4-a541-4b04-94c1-e835a89fcf22"
   },
   "outputs": [
    {
     "data": {
      "text/plain": [
       "300.0"
      ]
     },
     "execution_count": 224,
     "metadata": {},
     "output_type": "execute_result"
    }
   ],
   "source": [
    "60*3.5+90"
   ]
  },
  {
   "cell_type": "code",
   "execution_count": null,
   "metadata": {
    "id": "0GO-D9AiYuZI",
    "outputId": "0f07c605-41b1-4ca2-c055-dbe0ed11316a"
   },
   "outputs": [
    {
     "data": {
      "text/plain": [
       "40.0"
      ]
     },
     "execution_count": 225,
     "metadata": {},
     "output_type": "execute_result"
    }
   ],
   "source": [
    "30/.75"
   ]
  },
  {
   "cell_type": "code",
   "execution_count": null,
   "metadata": {
    "id": "c1N_cT3uYuZI",
    "outputId": "db0755cc-de60-4a87-84c8-e60aeeb3ccfc"
   },
   "outputs": [
    {
     "data": {
      "text/plain": [
       "3.769230769230769"
      ]
     },
     "execution_count": 226,
     "metadata": {},
     "output_type": "execute_result"
    }
   ],
   "source": [
    "9.8*2.5/6.5"
   ]
  },
  {
   "cell_type": "code",
   "execution_count": null,
   "metadata": {
    "id": "8XFgdPOZYuZI",
    "outputId": "6ab20a8d-3536-402d-82c2-6e03aea283f5"
   },
   "outputs": [
    {
     "data": {
      "text/plain": [
       "27.13846153846154"
      ]
     },
     "execution_count": 227,
     "metadata": {},
     "output_type": "execute_result"
    }
   ],
   "source": [
    "g=9.8\n",
    "2*g+g/1.3"
   ]
  },
  {
   "cell_type": "code",
   "execution_count": null,
   "metadata": {
    "id": "C7RoQpapYuZJ",
    "outputId": "91085b23-67b9-4da5-8370-66ddb6c0dac8"
   },
   "outputs": [
    {
     "data": {
      "text/plain": [
       "63.7"
      ]
     },
     "execution_count": 228,
     "metadata": {},
     "output_type": "execute_result"
    }
   ],
   "source": [
    "6.5*g"
   ]
  },
  {
   "cell_type": "code",
   "execution_count": null,
   "metadata": {
    "id": "ZdiKj5FVYuZJ",
    "outputId": "f9582272-d667-439b-efaf-5e904dead80f"
   },
   "outputs": [
    {
     "data": {
      "text/plain": [
       "0.9423076923076923"
      ]
     },
     "execution_count": 229,
     "metadata": {},
     "output_type": "execute_result"
    }
   ],
   "source": [
    "g/(2.6*4)"
   ]
  },
  {
   "cell_type": "code",
   "execution_count": null,
   "metadata": {
    "id": "1GZKrsfYYuZJ",
    "outputId": "8a1998ca-e652-4cb1-d797-30e0688f4e15"
   },
   "outputs": [
    {
     "data": {
      "text/plain": [
       "1.3066666666666669"
      ]
     },
     "execution_count": 230,
     "metadata": {},
     "output_type": "execute_result"
    }
   ],
   "source": [
    "2*g/15"
   ]
  },
  {
   "cell_type": "code",
   "execution_count": null,
   "metadata": {
    "id": "sawabHExYuZJ",
    "outputId": "ae6bac7b-54cf-479e-d6e6-a85ca21ad1db"
   },
   "outputs": [
    {
     "data": {
      "text/plain": [
       "33.32"
      ]
     },
     "execution_count": 231,
     "metadata": {},
     "output_type": "execute_result"
    }
   ],
   "source": [
    "3.4*g"
   ]
  },
  {
   "cell_type": "code",
   "execution_count": null,
   "metadata": {
    "id": "NIq3y-LiYuZJ",
    "outputId": "96364378-af2c-431a-b2d3-54852d1e6432"
   },
   "outputs": [
    {
     "data": {
      "text/plain": [
       "42.46666666666667"
      ]
     },
     "execution_count": 232,
     "metadata": {},
     "output_type": "execute_result"
    }
   ],
   "source": [
    "14*g/15+33.32"
   ]
  },
  {
   "cell_type": "code",
   "execution_count": null,
   "metadata": {
    "id": "zjV5b5PhYuZP",
    "outputId": "59d62a60-3b5d-4bc7-c3cf-d45edacbd956"
   },
   "outputs": [
    {
     "data": {
      "text/plain": [
       "4.083333333333334"
      ]
     },
     "execution_count": 233,
     "metadata": {},
     "output_type": "execute_result"
    }
   ],
   "source": [
    "6.25*g/15"
   ]
  },
  {
   "cell_type": "code",
   "execution_count": null,
   "metadata": {
    "id": "yVqQAs5wYuZQ",
    "outputId": "68fec1ca-e2bf-480a-cf53-4484de26aa83"
   },
   "outputs": [
    {
     "data": {
      "text/plain": [
       "1925"
      ]
     },
     "execution_count": 234,
     "metadata": {},
     "output_type": "execute_result"
    }
   ],
   "source": [
    "1250+675"
   ]
  },
  {
   "cell_type": "code",
   "execution_count": null,
   "metadata": {
    "id": "vEtMn82-YuZQ",
    "outputId": "1645ed64-2a75-4476-969b-cf969a717aeb"
   },
   "outputs": [
    {
     "data": {
      "text/plain": [
       "1256.25"
      ]
     },
     "execution_count": 235,
     "metadata": {},
     "output_type": "execute_result"
    }
   ],
   "source": [
    "1925/4+775"
   ]
  },
  {
   "cell_type": "code",
   "execution_count": null,
   "metadata": {
    "id": "DsFJRjU9YuZQ",
    "outputId": "c063dc53-7291-49be-c3c2-560e7046e90f"
   },
   "outputs": [
    {
     "data": {
      "text/plain": [
       "393.75"
      ]
     },
     "execution_count": 236,
     "metadata": {},
     "output_type": "execute_result"
    }
   ],
   "source": [
    "675/4+225"
   ]
  },
  {
   "cell_type": "markdown",
   "metadata": {
    "id": "ZqqjrL_pYuZQ"
   },
   "source": [
    "### Module 6 - An Introduction to Probability"
   ]
  },
  {
   "cell_type": "code",
   "execution_count": null,
   "metadata": {
    "id": "OgSUzJ98YuZR",
    "outputId": "658eeda7-6113-425e-f58d-d7e893f9799f"
   },
   "outputs": [
    {
     "data": {
      "text/plain": [
       "2.88"
      ]
     },
     "execution_count": 237,
     "metadata": {},
     "output_type": "execute_result"
    }
   ],
   "source": [
    "p=1/5\n",
    "p**2+2*p*(p+1)+9*p**2+6*p+4*p"
   ]
  },
  {
   "cell_type": "code",
   "execution_count": null,
   "metadata": {
    "id": "Kh57gm4QYuZR",
    "outputId": "a7ae596a-4958-491d-d203-6f75e9a920e3"
   },
   "outputs": [
    {
     "data": {
      "text/plain": [
       "47.5"
      ]
     },
     "execution_count": 238,
     "metadata": {},
     "output_type": "execute_result"
    }
   ],
   "source": [
    "190/4"
   ]
  },
  {
   "cell_type": "code",
   "execution_count": null,
   "metadata": {
    "id": "DCXrZZDjYuZR",
    "outputId": "19616aad-3ba8-457b-a647-3481cc5c8f93"
   },
   "outputs": [
    {
     "data": {
      "text/plain": [
       "0.0016000000000000005"
      ]
     },
     "execution_count": 239,
     "metadata": {},
     "output_type": "execute_result"
    }
   ],
   "source": [
    "0.2*0.2*0.2*0.2"
   ]
  },
  {
   "cell_type": "code",
   "execution_count": null,
   "metadata": {
    "id": "tYdWVml_YuZR",
    "outputId": "dd520c8c-13d3-4b24-958d-b72298325882"
   },
   "outputs": [
    {
     "data": {
      "text/plain": [
       "0.025600000000000008"
      ]
     },
     "execution_count": 240,
     "metadata": {},
     "output_type": "execute_result"
    }
   ],
   "source": [
    "0.8*0.2*0.2*0.2*4"
   ]
  },
  {
   "cell_type": "code",
   "execution_count": null,
   "metadata": {
    "id": "4Fv-cr1WYuZR",
    "outputId": "48298b21-dcec-4a36-d84b-c402e135db3c"
   },
   "outputs": [
    {
     "data": {
      "text/plain": [
       "0.15360000000000004"
      ]
     },
     "execution_count": 241,
     "metadata": {},
     "output_type": "execute_result"
    }
   ],
   "source": [
    "0.8*0.8*0.2*0.2*6"
   ]
  },
  {
   "cell_type": "code",
   "execution_count": null,
   "metadata": {
    "id": "_HcrY255YuZR",
    "outputId": "24c1b768-b91a-48fb-e80e-87e1057e5106"
   },
   "outputs": [
    {
     "data": {
      "text/plain": [
       "0.40960000000000013"
      ]
     },
     "execution_count": 242,
     "metadata": {},
     "output_type": "execute_result"
    }
   ],
   "source": [
    "0.8**3*0.2*4"
   ]
  },
  {
   "cell_type": "code",
   "execution_count": null,
   "metadata": {
    "id": "q6vUNoA3YuZR",
    "outputId": "4944003b-6317-4436-c6d8-75d4dd63f61f"
   },
   "outputs": [
    {
     "data": {
      "text/plain": [
       "0.4096000000000001"
      ]
     },
     "execution_count": 243,
     "metadata": {},
     "output_type": "execute_result"
    }
   ],
   "source": [
    "0.8**4"
   ]
  },
  {
   "cell_type": "code",
   "execution_count": null,
   "metadata": {
    "id": "_NCjanJsYuZS",
    "outputId": "d0bcc81a-f93b-454d-fa12-75bba8628b09"
   },
   "outputs": [
    {
     "data": {
      "text/plain": [
       "3.2"
      ]
     },
     "execution_count": 244,
     "metadata": {},
     "output_type": "execute_result"
    }
   ],
   "source": [
    "0.0256+0.1536*2+0.4096*7"
   ]
  },
  {
   "cell_type": "code",
   "execution_count": null,
   "metadata": {
    "id": "wCRideqwYuZS",
    "outputId": "832220d7-04fc-425d-aad4-9bfa830ddff6"
   },
   "outputs": [
    {
     "data": {
      "text/plain": [
       "256.0"
      ]
     },
     "execution_count": 245,
     "metadata": {},
     "output_type": "execute_result"
    }
   ],
   "source": [
    "80*3.2"
   ]
  },
  {
   "cell_type": "code",
   "execution_count": null,
   "metadata": {
    "id": "A_d6BwOoYuZS",
    "outputId": "7a8a3e7f-7a2f-4470-9722-d27ee361b489"
   },
   "outputs": [
    {
     "data": {
      "text/plain": [
       "65.536"
      ]
     },
     "execution_count": 246,
     "metadata": {},
     "output_type": "execute_result"
    }
   ],
   "source": [
    "80*0.8192"
   ]
  },
  {
   "cell_type": "code",
   "execution_count": null,
   "metadata": {
    "id": "NGaBEvJRYuZS",
    "outputId": "6741b610-4017-4734-e67c-9453d848ed77"
   },
   "outputs": [
    {
     "data": {
      "text/plain": [
       "0.533935546875"
      ]
     },
     "execution_count": 247,
     "metadata": {},
     "output_type": "execute_result"
    }
   ],
   "source": [
    "0.75**6+6*0.25*0.75**5"
   ]
  },
  {
   "cell_type": "code",
   "execution_count": null,
   "metadata": {
    "id": "jT7z-MZoYuZS",
    "outputId": "abc11e4e-ae4d-4110-f39e-1954f54f2291"
   },
   "outputs": [
    {
     "data": {
      "text/plain": [
       "0.03759765625"
      ]
     },
     "execution_count": 248,
     "metadata": {},
     "output_type": "execute_result"
    }
   ],
   "source": [
    "0.25**4*0.75**2*15+6*0.25**5*0.75+0.25**6"
   ]
  },
  {
   "cell_type": "code",
   "execution_count": null,
   "metadata": {
    "id": "IU2mudi-YuZT",
    "outputId": "8ecb74ec-9619-4767-c836-88322fc2051a"
   },
   "outputs": [
    {
     "data": {
      "text/plain": [
       "0.0011468800000000005"
      ]
     },
     "execution_count": 249,
     "metadata": {},
     "output_type": "execute_result"
    }
   ],
   "source": [
    "0.2**6*0.8**2*ncr(8, 6)"
   ]
  },
  {
   "cell_type": "code",
   "execution_count": null,
   "metadata": {
    "id": "jJQXtfTBYuZT",
    "outputId": "bd4fbd01-03f9-4b6f-8a9f-92acd371215a"
   },
   "outputs": [
    {
     "data": {
      "text/plain": [
       "0.9437184000000004"
      ]
     },
     "execution_count": 250,
     "metadata": {},
     "output_type": "execute_result"
    }
   ],
   "source": [
    "0.8**8+0.8**7*0.2*8+0.8**6*0.2**2*ncr(8,2)+0.8**5*0.2**3*ncr(8,3)"
   ]
  },
  {
   "cell_type": "code",
   "execution_count": null,
   "metadata": {
    "id": "uvhnTM_EYuZT",
    "outputId": "182db847-547f-418a-cc9b-3c11a4b2556e"
   },
   "outputs": [
    {
     "data": {
      "text/plain": [
       "0.21819940194610074"
      ]
     },
     "execution_count": 251,
     "metadata": {},
     "output_type": "execute_result"
    }
   ],
   "source": [
    "0.2**4*0.8**16*ncr(20,4)"
   ]
  },
  {
   "cell_type": "code",
   "execution_count": null,
   "metadata": {
    "id": "03ewNX5IYuZT",
    "outputId": "8f150e7a-35b1-4ca3-9e24-06bb85a9df78"
   },
   "outputs": [
    {
     "data": {
      "text/plain": [
       "1.0"
      ]
     },
     "execution_count": 252,
     "metadata": {},
     "output_type": "execute_result"
    }
   ],
   "source": [
    "1-(0.2**19*0.8*+0.2**20)"
   ]
  },
  {
   "cell_type": "code",
   "execution_count": null,
   "metadata": {
    "id": "eQ-rmK10YuZT",
    "outputId": "142f5dd5-4ac1-4d6a-a298-4d1f3e9b4af4"
   },
   "outputs": [
    {
     "data": {
      "text/plain": [
       "0.11480735083166968"
      ]
     },
     "execution_count": 253,
     "metadata": {},
     "output_type": "execute_result"
    }
   ],
   "source": [
    "x=1/3\n",
    "y=1-x\n",
    "x**7*y**8*ncr(15,7)"
   ]
  },
  {
   "cell_type": "code",
   "execution_count": null,
   "metadata": {
    "id": "_2lZ9dJ_YuZT",
    "outputId": "b38c0f41-9286-41b6-82b4-5ced29d166a2"
   },
   "outputs": [
    {
     "data": {
      "text/plain": [
       "0.98058890478557"
      ]
     },
     "execution_count": 254,
     "metadata": {},
     "output_type": "execute_result"
    }
   ],
   "source": [
    "1-(y**15+x*y**14*ncr(15,1))"
   ]
  },
  {
   "cell_type": "code",
   "execution_count": null,
   "metadata": {
    "id": "eJBRfywmYuZT",
    "outputId": "20dec0e3-319e-4ee6-a579-91fe5f07f64e"
   },
   "outputs": [
    {
     "data": {
      "text/plain": [
       "0.998841875"
      ]
     },
     "execution_count": 255,
     "metadata": {},
     "output_type": "execute_result"
    }
   ],
   "source": [
    "1-(0.05**4*0.95*5+0.05**5+0.05**3*0.95**2*ncr(5,3))"
   ]
  },
  {
   "cell_type": "code",
   "execution_count": null,
   "metadata": {
    "id": "7tZ6XXIXYuZU",
    "outputId": "0b1827ca-f9bc-4844-be49-c46bce7c4ad1"
   },
   "outputs": [
    {
     "data": {
      "text/plain": [
       "0.2503000000000001"
      ]
     },
     "execution_count": 256,
     "metadata": {},
     "output_type": "execute_result"
    }
   ],
   "source": [
    "0.7759-0.5256"
   ]
  },
  {
   "cell_type": "code",
   "execution_count": null,
   "metadata": {
    "id": "2RLURHr6YuZU",
    "outputId": "5ad56e3b-0b4d-463d-edd2-278e13822865"
   },
   "outputs": [
    {
     "data": {
      "text/plain": [
       "0.008037551440329216"
      ]
     },
     "execution_count": 257,
     "metadata": {},
     "output_type": "execute_result"
    }
   ],
   "source": [
    "x=1/6\n",
    "y=1-x\n",
    "x**4*y**2*ncr(6,4)"
   ]
  },
  {
   "cell_type": "code",
   "execution_count": null,
   "metadata": {
    "id": "K6CFwJooYuZU",
    "outputId": "4f71cc49-3198-4b5d-a613-045a3bd0ebe4"
   },
   "outputs": [
    {
     "data": {
      "text/plain": [
       "0.0622856652949243"
      ]
     },
     "execution_count": 258,
     "metadata": {},
     "output_type": "execute_result"
    }
   ],
   "source": [
    "1-(y**6+x*y**5*6+y**4*x**2*ncr(6,2))"
   ]
  },
  {
   "cell_type": "code",
   "execution_count": null,
   "metadata": {
    "id": "21lnZToBYuZU",
    "outputId": "806ef44a-ee16-41b3-c7ae-4b1b6d8a6058"
   },
   "outputs": [
    {
     "data": {
      "text/plain": [
       "0.3617286120587128"
      ]
     },
     "execution_count": 259,
     "metadata": {},
     "output_type": "execute_result"
    }
   ],
   "source": [
    "x=1/7\n",
    "y=1-x\n",
    "y**30+x*y**29*ncr(30,1)+x**2*y**28*ncr(30,2)+x**3*y**27*ncr(30,3)"
   ]
  },
  {
   "cell_type": "code",
   "execution_count": null,
   "metadata": {
    "id": "0ZYrzEFmYuZU",
    "outputId": "343e5efc-a997-4b7a-a024-40ee9860bc9c"
   },
   "outputs": [
    {
     "data": {
      "text/plain": [
       "0.3456"
      ]
     },
     "execution_count": 260,
     "metadata": {},
     "output_type": "execute_result"
    }
   ],
   "source": [
    "0.6**3*0.4**2*ncr(5,3)"
   ]
  },
  {
   "cell_type": "code",
   "execution_count": null,
   "metadata": {
    "id": "e0wCpFjxYuZV",
    "outputId": "065d86f2-1dbc-406e-dfa3-b32ec7f58966"
   },
   "outputs": [
    {
     "data": {
      "text/plain": [
       "0.31743999999999994"
      ]
     },
     "execution_count": 261,
     "metadata": {},
     "output_type": "execute_result"
    }
   ],
   "source": [
    "1-(0.6**4*0.4*ncr(5,4)+0.6**5+0.3456)"
   ]
  },
  {
   "cell_type": "code",
   "execution_count": null,
   "metadata": {
    "id": "7549pXzlYuZV",
    "outputId": "b487f89f-d52d-4831-a86e-94c774267d8a"
   },
   "outputs": [
    {
     "data": {
      "text/plain": [
       "0.91296"
      ]
     },
     "execution_count": 262,
     "metadata": {},
     "output_type": "execute_result"
    }
   ],
   "source": [
    "1-(0.4**5+0.4**4*0.6*ncr(5,1))"
   ]
  },
  {
   "cell_type": "code",
   "execution_count": null,
   "metadata": {
    "id": "Z2UyPHgwYuZV",
    "outputId": "30b9b9ec-4087-43f7-e287-e137a0b439f2"
   },
   "outputs": [
    {
     "data": {
      "text/plain": [
       "0.9222400000000001"
      ]
     },
     "execution_count": 263,
     "metadata": {},
     "output_type": "execute_result"
    }
   ],
   "source": [
    "1-0.6**5"
   ]
  },
  {
   "cell_type": "code",
   "execution_count": null,
   "metadata": {
    "id": "2DaEJvmVYuZV",
    "outputId": "4ddd29d7-59e0-459d-a66c-580e21680f31"
   },
   "outputs": [
    {
     "data": {
      "text/plain": [
       "0.9437184000000004"
      ]
     },
     "execution_count": 264,
     "metadata": {},
     "output_type": "execute_result"
    }
   ],
   "source": [
    "0.2**3*0.8**5*ncr(8,3)+0.8**8+0.2**2*0.8**6*ncr(8,2)+0.2*0.8**7*ncr(8,1)"
   ]
  },
  {
   "cell_type": "code",
   "execution_count": null,
   "metadata": {
    "id": "zyRGuJX5YuZV",
    "outputId": "7bccb515-307c-4210-89fe-122f95455d95"
   },
   "outputs": [
    {
     "data": {
      "text/plain": [
       "0.9637997613572702"
      ]
     },
     "execution_count": 265,
     "metadata": {},
     "output_type": "execute_result"
    }
   ],
   "source": [
    "0.95**15+0.05*0.95**14*ncr(15,1)+0.05**2*0.95**13*ncr(15,2)"
   ]
  },
  {
   "cell_type": "code",
   "execution_count": null,
   "metadata": {
    "id": "DwLk6oV1YuZV",
    "outputId": "aab6f0a5-6337-4dc8-c4b5-222ce9a85203"
   },
   "outputs": [
    {
     "data": {
      "text/plain": [
       "0.10737418240000006"
      ]
     },
     "execution_count": 266,
     "metadata": {},
     "output_type": "execute_result"
    }
   ],
   "source": [
    "0.8**10"
   ]
  },
  {
   "cell_type": "code",
   "execution_count": null,
   "metadata": {
    "id": "JbZpBuQSYuZV",
    "outputId": "b9c1d4ba-a1b8-444f-8d21-fe410697dda4"
   },
   "outputs": [
    {
     "data": {
      "text/plain": [
       "0.0008643584000000004"
      ]
     },
     "execution_count": 267,
     "metadata": {},
     "output_type": "execute_result"
    }
   ],
   "source": [
    "0.8**3*0.2**7*ncr(10,7)+0.8**2*0.2**8*ncr(10,8)+0.8*0.2**9*ncr(10,9)+0.2**10"
   ]
  },
  {
   "cell_type": "code",
   "execution_count": null,
   "metadata": {
    "id": "3jqei-kxYuZW",
    "outputId": "0f26744a-f8b8-4c73-82bc-0d3b22d8fcd6"
   },
   "outputs": [
    {
     "data": {
      "text/plain": [
       "536870912"
      ]
     },
     "execution_count": 268,
     "metadata": {},
     "output_type": "execute_result"
    }
   ],
   "source": [
    "2**29"
   ]
  },
  {
   "cell_type": "markdown",
   "metadata": {
    "id": "cx2l3TPxYuZW"
   },
   "source": [
    "### Module 7 - Hypothesis Testing/Statistical Models"
   ]
  },
  {
   "cell_type": "code",
   "execution_count": null,
   "metadata": {
    "id": "VEJp4UOEYuZW",
    "outputId": "6b610025-13f0-47a4-af3b-aa036aba1971"
   },
   "outputs": [
    {
     "data": {
      "text/plain": [
       "<Axes: ylabel='Density'>"
      ]
     },
     "execution_count": 269,
     "metadata": {},
     "output_type": "execute_result"
    },
    {
     "data": {
      "image/png": "[encoded data removed]",
      "text/plain": [
       "<Figure size 640x480 with 2 Axes>"
      ]
     },
     "metadata": {},
     "output_type": "display_data"
    }
   ],
   "source": [
    "import numpy as np\n",
    "import matplotlib.pyplot as plt\n",
    "import pandas as pd\n",
    "\n",
    "listheads=[]\n",
    "bins=25\n",
    "for i in range(10000):\n",
    "    heads=np.random.binomial(bins,0.5)\n",
    "    listheads.append(heads)\n",
    "data=pd.DataFrame(listheads)\n",
    "\n",
    "fig, ax = plt.subplots()\n",
    "data.plot.hist(ax=ax, alpha=0.5)\n",
    "ax2 = ax.twinx()\n",
    "data.plot.kde(ax=ax2)"
   ]
  },
  {
   "cell_type": "code",
   "execution_count": null,
   "metadata": {
    "id": "r3yf0gz0YuZW",
    "outputId": "73c28d1d-c88c-4237-948d-e351d1f3a0c0"
   },
   "outputs": [
    {
     "data": {
      "text/plain": [
       "14.0"
      ]
     },
     "execution_count": 270,
     "metadata": {},
     "output_type": "execute_result"
    }
   ],
   "source": [
    "126/9"
   ]
  },
  {
   "cell_type": "code",
   "execution_count": null,
   "metadata": {
    "id": "NlyChrM9YuZW",
    "outputId": "c2f47221-937f-4f30-c45c-2ddd28405624"
   },
   "outputs": [
    {
     "data": {
      "text/plain": [
       "72"
      ]
     },
     "execution_count": 271,
     "metadata": {},
     "output_type": "execute_result"
    }
   ],
   "source": [
    "108-36"
   ]
  },
  {
   "cell_type": "code",
   "execution_count": null,
   "metadata": {
    "id": "gptm6fozYuZW",
    "outputId": "329733e4-c81b-48d5-a482-126199cd01ed"
   },
   "outputs": [
    {
     "data": {
      "text/plain": [
       "108"
      ]
     },
     "execution_count": 272,
     "metadata": {},
     "output_type": "execute_result"
    }
   ],
   "source": [
    "144-36"
   ]
  },
  {
   "cell_type": "code",
   "execution_count": null,
   "metadata": {
    "id": "MvXyWFkpYuZW",
    "outputId": "f892217c-094c-419d-e96e-df260664b32f"
   },
   "outputs": [
    {
     "data": {
      "text/plain": [
       "108"
      ]
     },
     "execution_count": 273,
     "metadata": {},
     "output_type": "execute_result"
    }
   ],
   "source": [
    "324-36-72-108"
   ]
  },
  {
   "cell_type": "code",
   "execution_count": null,
   "metadata": {
    "id": "gWxmOBntYuZW",
    "outputId": "876da6c1-6cdf-46de-b049-2bcb71a9e88b"
   },
   "outputs": [
    {
     "data": {
      "text/plain": [
       "162"
      ]
     },
     "execution_count": 274,
     "metadata": {},
     "output_type": "execute_result"
    }
   ],
   "source": [
    "270-36-72"
   ]
  },
  {
   "cell_type": "code",
   "execution_count": null,
   "metadata": {
    "id": "R-_aP8l3YuZX",
    "outputId": "2113cdf7-a83d-49ba-9b80-1622d7377b3d"
   },
   "outputs": [
    {
     "data": {
      "text/plain": [
       "216"
      ]
     },
     "execution_count": 275,
     "metadata": {},
     "output_type": "execute_result"
    }
   ],
   "source": [
    "360-108-36"
   ]
  },
  {
   "cell_type": "code",
   "execution_count": null,
   "metadata": {
    "id": "GVKlHAyXYuZX",
    "outputId": "f8472f63-f6b5-4b2c-a90e-1d2ff6bccfbc"
   },
   "outputs": [
    {
     "data": {
      "text/plain": [
       "306"
      ]
     },
     "execution_count": 276,
     "metadata": {},
     "output_type": "execute_result"
    }
   ],
   "source": [
    "630-324"
   ]
  },
  {
   "cell_type": "code",
   "execution_count": null,
   "metadata": {
    "id": "OZlgVZSQYuZX",
    "outputId": "87cf5a28-bc90-4445-f9cf-ce9927a3b63d"
   },
   "outputs": [
    {
     "data": {
      "text/plain": [
       "72"
      ]
     },
     "execution_count": 277,
     "metadata": {},
     "output_type": "execute_result"
    }
   ],
   "source": [
    "216+162-306"
   ]
  },
  {
   "cell_type": "code",
   "execution_count": null,
   "metadata": {
    "id": "geFmTIIAYuZX",
    "outputId": "0d671ff9-927a-476d-c215-b73aedeab2b7"
   },
   "outputs": [
    {
     "data": {
      "text/plain": [
       "90"
      ]
     },
     "execution_count": 278,
     "metadata": {},
     "output_type": "execute_result"
    }
   ],
   "source": [
    "270-72-36-72"
   ]
  },
  {
   "cell_type": "code",
   "execution_count": null,
   "metadata": {
    "id": "qsGuVAiJYuZX",
    "outputId": "e7617573-bb18-40fd-f652-a80d0094ac89"
   },
   "outputs": [
    {
     "data": {
      "text/plain": [
       "144"
      ]
     },
     "execution_count": 279,
     "metadata": {},
     "output_type": "execute_result"
    }
   ],
   "source": [
    "360-72-36-108"
   ]
  },
  {
   "cell_type": "code",
   "execution_count": null,
   "metadata": {
    "id": "gH1aTUvzYuZY",
    "outputId": "be95938b-7458-4f7d-847b-caf8f02a344b"
   },
   "outputs": [
    {
     "data": {
      "text/plain": [
       "522"
      ]
     },
     "execution_count": 280,
     "metadata": {},
     "output_type": "execute_result"
    }
   ],
   "source": [
    "630-108"
   ]
  },
  {
   "cell_type": "code",
   "execution_count": null,
   "metadata": {
    "id": "SrndJsQEYuZY",
    "outputId": "81577199-dbde-48f6-c7ac-0c9f62674e8f"
   },
   "outputs": [
    {
     "data": {
      "text/plain": [
       "342"
      ]
     },
     "execution_count": 281,
     "metadata": {},
     "output_type": "execute_result"
    }
   ],
   "source": [
    "144+90+108"
   ]
  },
  {
   "cell_type": "code",
   "execution_count": null,
   "metadata": {
    "id": "IjQlckmnYuZY",
    "outputId": "0a429e59-d2d7-4413-90fc-fb00f79188da"
   },
   "outputs": [
    {
     "data": {
      "text/plain": [
       "31.09090909090909"
      ]
     },
     "execution_count": 282,
     "metadata": {},
     "output_type": "execute_result"
    }
   ],
   "source": [
    "342/11"
   ]
  },
  {
   "cell_type": "code",
   "execution_count": null,
   "metadata": {
    "id": "8n_BSWe2YuZY",
    "outputId": "c099ef84-e0fe-44b1-8362-207bf78cea7c"
   },
   "outputs": [
    {
     "data": {
      "text/plain": [
       "22.90909090909091"
      ]
     },
     "execution_count": 283,
     "metadata": {},
     "output_type": "execute_result"
    }
   ],
   "source": [
    "252/11"
   ]
  },
  {
   "cell_type": "code",
   "execution_count": null,
   "metadata": {
    "id": "VwxjDaKSYuZY",
    "outputId": "94012111-e43c-43e9-a34e-7f94aec19c9f"
   },
   "outputs": [
    {
     "data": {
      "text/plain": [
       "252"
      ]
     },
     "execution_count": 284,
     "metadata": {},
     "output_type": "execute_result"
    }
   ],
   "source": [
    "144+108"
   ]
  },
  {
   "cell_type": "code",
   "execution_count": null,
   "metadata": {
    "id": "HrA7jlpvYuZY",
    "outputId": "1a371190-43df-4309-ca5a-28ecec6c0456"
   },
   "outputs": [
    {
     "data": {
      "text/plain": [
       "30"
      ]
     },
     "execution_count": 285,
     "metadata": {},
     "output_type": "execute_result"
    }
   ],
   "source": [
    "1+4+9+16"
   ]
  },
  {
   "cell_type": "code",
   "execution_count": null,
   "metadata": {
    "id": "cFbPYeGaYuZZ",
    "outputId": "6a142d41-44f3-4e4f-f8ea-b699c56ba94e"
   },
   "outputs": [
    {
     "data": {
      "text/plain": [
       "3.333333333333333"
      ]
     },
     "execution_count": 286,
     "metadata": {},
     "output_type": "execute_result"
    }
   ],
   "source": [
    "1/30+4/15+9/10+32/15"
   ]
  },
  {
   "cell_type": "code",
   "execution_count": null,
   "metadata": {
    "id": "-waBMnzHYuZZ",
    "outputId": "e12464c8-9b2d-40f5-b3f5-f6491dab92da"
   },
   "outputs": [
    {
     "data": {
      "text/plain": [
       "225.0"
      ]
     },
     "execution_count": 287,
     "metadata": {},
     "output_type": "execute_result"
    }
   ],
   "source": [
    "1575/7"
   ]
  },
  {
   "cell_type": "code",
   "execution_count": null,
   "metadata": {
    "id": "_oJ_OWlvYuZZ",
    "outputId": "94daf053-943c-468f-de64-8457ae2d29f6"
   },
   "outputs": [
    {
     "data": {
      "text/plain": [
       "26.0"
      ]
     },
     "execution_count": 288,
     "metadata": {},
     "output_type": "execute_result"
    }
   ],
   "source": [
    "225*(1/30*16/30*2+2/15*3/10*2)"
   ]
  },
  {
   "cell_type": "code",
   "execution_count": null,
   "metadata": {
    "id": "oJ1CRjC5YuZZ",
    "outputId": "daea9c6a-0dc6-472c-9456-f2a44a68eb2b"
   },
   "outputs": [
    {
     "data": {
      "text/plain": [
       "1.0"
      ]
     },
     "execution_count": 289,
     "metadata": {},
     "output_type": "execute_result"
    }
   ],
   "source": [
    "182/2/7/13"
   ]
  },
  {
   "cell_type": "code",
   "execution_count": null,
   "metadata": {
    "id": "_ZGKA8ESYuZZ",
    "outputId": "1b925958-4b56-47ba-f00c-946fcd27875f"
   },
   "outputs": [
    {
     "data": {
      "text/plain": [
       "136.0"
      ]
     },
     "execution_count": 290,
     "metadata": {},
     "output_type": "execute_result"
    }
   ],
   "source": [
    "225*(3/10*8/15*2+64/225)"
   ]
  },
  {
   "cell_type": "code",
   "execution_count": null,
   "metadata": {
    "id": "UDK7765VYuZZ",
    "outputId": "a4068ce9-04df-4569-a61d-8ee091da88ab"
   },
   "outputs": [
    {
     "data": {
      "text/plain": [
       "2.6666666666666665"
      ]
     },
     "execution_count": 291,
     "metadata": {},
     "output_type": "execute_result"
    }
   ],
   "source": [
    "1/9+2/3+1+8/9"
   ]
  },
  {
   "cell_type": "code",
   "execution_count": null,
   "metadata": {
    "id": "Zb3CbEu4YuZa",
    "outputId": "080a0ef7-8b45-444f-be2b-338cd06caec9"
   },
   "outputs": [
    {
     "data": {
      "text/plain": [
       "1.3333333333333335"
      ]
     },
     "execution_count": 292,
     "metadata": {},
     "output_type": "execute_result"
    }
   ],
   "source": [
    "4/15+2/5+2/5+4/15"
   ]
  },
  {
   "cell_type": "markdown",
   "metadata": {
    "id": "7s2BtWkhYuZa"
   },
   "source": [
    "#### Hypothesis Testing Function"
   ]
  },
  {
   "cell_type": "code",
   "execution_count": null,
   "metadata": {
    "id": "z9djGMUuYuZa",
    "outputId": "bb5afcda-387d-440e-c094-ae86ced24227"
   },
   "outputs": [
    {
     "data": {
      "text/plain": [
       "0.6777995264000004"
      ]
     },
     "execution_count": 293,
     "metadata": {},
     "output_type": "execute_result"
    }
   ],
   "source": [
    "pvalue(10,2,1/5)"
   ]
  },
  {
   "cell_type": "code",
   "execution_count": null,
   "metadata": {
    "id": "q2pegU9fYuZa",
    "outputId": "dba9c6ce-1418-4319-bf89-3118e900c586"
   },
   "outputs": [
    {
     "data": {
      "text/plain": [
       "0.2013265920000001"
      ]
     },
     "execution_count": 294,
     "metadata": {},
     "output_type": "execute_result"
    }
   ],
   "source": [
    "ncr(10,3)*0.2**3*0.8**7"
   ]
  },
  {
   "cell_type": "code",
   "execution_count": null,
   "metadata": {
    "id": "_hjOf5UaYuZa",
    "outputId": "a9f89e73-bd3b-49c1-e7c9-0aa3d550f97a"
   },
   "outputs": [
    {
     "data": {
      "text/plain": [
       "0.011471271514892578"
      ]
     },
     "execution_count": 295,
     "metadata": {},
     "output_type": "execute_result"
    }
   ],
   "source": [
    "ncr(12,7)*0.25**7*0.75**5"
   ]
  },
  {
   "cell_type": "code",
   "execution_count": null,
   "metadata": {
    "id": "ny9RR2ytYuZa",
    "outputId": "ae1c455b-c8a4-4948-b6d5-05f38096bda1"
   },
   "outputs": [
    {
     "data": {
      "text/plain": [
       "0.0018071759751450145"
      ]
     },
     "execution_count": 296,
     "metadata": {},
     "output_type": "execute_result"
    }
   ],
   "source": [
    "1-pvalue(15,10,1/3)"
   ]
  },
  {
   "cell_type": "code",
   "execution_count": null,
   "metadata": {
    "id": "BJWwS42AYuZa",
    "outputId": "d99c5a96-3b99-4ba3-88db-6350774ea72f"
   },
   "outputs": [
    {
     "data": {
      "text/plain": [
       "0.9999999303082814"
      ]
     },
     "execution_count": 297,
     "metadata": {},
     "output_type": "execute_result"
    }
   ],
   "source": [
    "pvalue(15,14,1/3)"
   ]
  },
  {
   "cell_type": "code",
   "execution_count": null,
   "metadata": {
    "id": "o3s6lEUzYuZb",
    "outputId": "bf6b866a-3570-407c-ac64-fae60aa8ccbd"
   },
   "outputs": [
    {
     "data": {
      "text/plain": [
       "0.9996309519654456"
      ]
     },
     "execution_count": 298,
     "metadata": {},
     "output_type": "execute_result"
    }
   ],
   "source": [
    "pvalue(25,12,0.2)"
   ]
  },
  {
   "cell_type": "code",
   "execution_count": null,
   "metadata": {
    "id": "Tva_jVVpYuZb",
    "outputId": "6ee9e1e2-9620-41a8-dc2c-9c88f9621ddf"
   },
   "outputs": [
    {
     "data": {
      "text/plain": [
       "0.046774242177771486"
      ]
     },
     "execution_count": 299,
     "metadata": {},
     "output_type": "execute_result"
    }
   ],
   "source": [
    "1-pvalue(25,8,0.2)"
   ]
  },
  {
   "cell_type": "code",
   "execution_count": null,
   "metadata": {
    "id": "8cxOEfv5YuZb",
    "outputId": "b032aedd-5259-4af1-99e5-afa87c11e959"
   },
   "outputs": [
    {
     "data": {
      "text/plain": [
       "0.0003916621208190918"
      ]
     },
     "execution_count": 300,
     "metadata": {},
     "output_type": "execute_result"
    }
   ],
   "source": [
    "1-pvalue(12,8,0.25)"
   ]
  },
  {
   "cell_type": "code",
   "execution_count": null,
   "metadata": {
    "id": "c39eTQpKYuZb",
    "outputId": "69b2eeef-b52c-4fab-8e28-a28b9b65c86c"
   },
   "outputs": [
    {
     "data": {
      "text/plain": [
       "0.1841008086633481"
      ]
     },
     "execution_count": 301,
     "metadata": {},
     "output_type": "execute_result"
    }
   ],
   "source": [
    "pvalue(100,45,0.5)"
   ]
  },
  {
   "cell_type": "code",
   "execution_count": null,
   "metadata": {
    "id": "0NJerONLYuZb",
    "outputId": "624f783f-186b-4303-9ae2-bfc42989ba8b"
   },
   "outputs": [
    {
     "data": {
      "text/plain": [
       "0.06067928397124249"
      ]
     },
     "execution_count": 302,
     "metadata": {},
     "output_type": "execute_result"
    }
   ],
   "source": [
    "pvalue(240,169,0.75)"
   ]
  },
  {
   "cell_type": "code",
   "execution_count": null,
   "metadata": {
    "id": "7YTHZ61hYuZb",
    "outputId": "7b16ab42-f90c-4381-a15f-f9342a9a4dd3"
   },
   "outputs": [
    {
     "name": "stdout",
     "output_type": "stream",
     "text": [
      "0.02220620202742407\n"
     ]
    },
    {
     "data": {
      "text/plain": [
       "False"
      ]
     },
     "execution_count": 303,
     "metadata": {},
     "output_type": "execute_result"
    }
   ],
   "source": [
    "critical_right(320,210,0.6,5)"
   ]
  },
  {
   "cell_type": "code",
   "execution_count": null,
   "metadata": {
    "id": "pvCrGGpDYuZb",
    "outputId": "be16e5ba-6f16-42ad-e25a-6238b8133434"
   },
   "outputs": [
    {
     "data": {
      "text/plain": [
       "70"
      ]
     },
     "execution_count": 304,
     "metadata": {},
     "output_type": "execute_result"
    }
   ],
   "source": [
    "250-155-25"
   ]
  },
  {
   "cell_type": "code",
   "execution_count": null,
   "metadata": {
    "id": "CHswAkF9YuZb",
    "outputId": "086fc822-bcb5-4db4-f39a-ec58cb7da3aa"
   },
   "outputs": [
    {
     "data": {
      "text/plain": [
       "29.0"
      ]
     },
     "execution_count": 305,
     "metadata": {},
     "output_type": "execute_result"
    }
   ],
   "source": [
    "145/5"
   ]
  },
  {
   "cell_type": "code",
   "execution_count": null,
   "metadata": {
    "id": "bMRvntTNYuZc",
    "outputId": "ab832178-ac13-4529-f655-d889bc97840a"
   },
   "outputs": [
    {
     "data": {
      "text/plain": [
       "0.10276966953088432"
      ]
     },
     "execution_count": 306,
     "metadata": {},
     "output_type": "execute_result"
    }
   ],
   "source": [
    "0.85**14"
   ]
  },
  {
   "cell_type": "code",
   "execution_count": null,
   "metadata": {
    "id": "VJ0h3bwmYuZc",
    "outputId": "da4c33cc-677b-4226-d4a3-b0f2260ec19c"
   },
   "outputs": [
    {
     "name": "stdout",
     "output_type": "stream",
     "text": [
      "0.031167969935430695\n"
     ]
    },
    {
     "data": {
      "text/plain": [
       "False"
      ]
     },
     "execution_count": 307,
     "metadata": {},
     "output_type": "execute_result"
    }
   ],
   "source": [
    "critical_right(20,6,0.125,5)"
   ]
  },
  {
   "cell_type": "code",
   "execution_count": null,
   "metadata": {
    "id": "yeZU-MFfYuZc",
    "outputId": "26ea6d1f-621b-49ee-b747-85c3a6f24926"
   },
   "outputs": [
    {
     "name": "stdout",
     "output_type": "stream",
     "text": [
      "0.01718302499644701\n"
     ]
    },
    {
     "data": {
      "text/plain": [
       "False"
      ]
     },
     "execution_count": 308,
     "metadata": {},
     "output_type": "execute_result"
    }
   ],
   "source": [
    "critical_left(30,6,0.4,2.5)"
   ]
  },
  {
   "cell_type": "code",
   "execution_count": null,
   "metadata": {
    "id": "IQNgfHLXYuZc",
    "outputId": "2221afd5-d552-4d07-83df-c6d5d2e877aa"
   },
   "outputs": [
    {
     "name": "stdout",
     "output_type": "stream",
     "text": [
      "0.023760946412540146\n"
     ]
    },
    {
     "data": {
      "text/plain": [
       "True"
      ]
     },
     "execution_count": 309,
     "metadata": {},
     "output_type": "execute_result"
    }
   ],
   "source": [
    "critical_left(40,6,0.3,1)"
   ]
  },
  {
   "cell_type": "code",
   "execution_count": null,
   "metadata": {
    "id": "xufIxXSaYuZc",
    "outputId": "d4e060e9-e15d-43d8-dbd2-c216b065d5f3"
   },
   "outputs": [
    {
     "name": "stdout",
     "output_type": "stream",
     "text": [
      "0.04582344845174735\n"
     ]
    },
    {
     "data": {
      "text/plain": [
       "False"
      ]
     },
     "execution_count": 310,
     "metadata": {},
     "output_type": "execute_result"
    }
   ],
   "source": [
    "critical_right(25,22,5/7,5)"
   ]
  },
  {
   "cell_type": "code",
   "execution_count": null,
   "metadata": {
    "id": "HFnrOARUYuZc",
    "outputId": "095830c6-38d6-4d4e-fafa-cfeb249f8627"
   },
   "outputs": [
    {
     "name": "stdout",
     "output_type": "stream",
     "text": [
      "0.053955034878514496\n"
     ]
    },
    {
     "data": {
      "text/plain": [
       "True"
      ]
     },
     "execution_count": 311,
     "metadata": {},
     "output_type": "execute_result"
    }
   ],
   "source": [
    "critical_right(50,36,0.6,2.5)"
   ]
  },
  {
   "cell_type": "code",
   "execution_count": null,
   "metadata": {
    "id": "CFhye3iRYuZd",
    "outputId": "f3fdddc6-8950-44d2-d319-e6dd7a2724fe"
   },
   "outputs": [
    {
     "name": "stdout",
     "output_type": "stream",
     "text": [
      "0.04183857588764026\n"
     ]
    },
    {
     "data": {
      "text/plain": [
       "False"
      ]
     },
     "execution_count": 312,
     "metadata": {},
     "output_type": "execute_result"
    }
   ],
   "source": [
    "critical_left(100,8,1/7,5)"
   ]
  },
  {
   "cell_type": "code",
   "execution_count": null,
   "metadata": {
    "id": "PcUbVf3FYuZd",
    "outputId": "dd13d061-fcfd-4855-faa2-b4317becbff6"
   },
   "outputs": [
    {
     "name": "stdout",
     "output_type": "stream",
     "text": [
      "0.0039707294111497315\n"
     ]
    },
    {
     "data": {
      "text/plain": [
       "False"
      ]
     },
     "execution_count": 313,
     "metadata": {},
     "output_type": "execute_result"
    }
   ],
   "source": [
    "critical_right(200,8,1/80,1)"
   ]
  },
  {
   "cell_type": "code",
   "execution_count": null,
   "metadata": {
    "id": "bWFEOgLIYuZd",
    "outputId": "18a754d4-86e2-44ac-9d57-84b083df13a7"
   },
   "outputs": [
    {
     "name": "stdout",
     "output_type": "stream",
     "text": [
      "0.03744932572380087\n"
     ]
    },
    {
     "data": {
      "text/plain": [
       "False"
      ]
     },
     "execution_count": 314,
     "metadata": {},
     "output_type": "execute_result"
    }
   ],
   "source": [
    "critical_left(30,3,0.25,5)"
   ]
  },
  {
   "cell_type": "code",
   "execution_count": null,
   "metadata": {
    "id": "7tTdZ8rkYuZd",
    "outputId": "4541ef66-29e8-4a9d-dfeb-136495765252"
   },
   "outputs": [
    {
     "name": "stdout",
     "output_type": "stream",
     "text": [
      "0.0376262637011846\n"
     ]
    },
    {
     "data": {
      "text/plain": [
       "True"
      ]
     },
     "execution_count": 315,
     "metadata": {},
     "output_type": "execute_result"
    }
   ],
   "source": [
    "critical_left(100,17,0.25,2.5)"
   ]
  },
  {
   "cell_type": "code",
   "execution_count": null,
   "metadata": {
    "id": "6QY5LAv-YuZd",
    "outputId": "699b5dd4-ce28-4a69-f80d-020c955562dc"
   },
   "outputs": [
    {
     "name": "stdout",
     "output_type": "stream",
     "text": [
      "0.02914886001797068\n"
     ]
    },
    {
     "data": {
      "text/plain": [
       "False"
      ]
     },
     "execution_count": 316,
     "metadata": {},
     "output_type": "execute_result"
    }
   ],
   "source": [
    "critical_right(30,17,0.38,5)"
   ]
  },
  {
   "cell_type": "code",
   "execution_count": null,
   "metadata": {
    "id": "24uUahtVYuZd",
    "outputId": "17374697-877d-4714-ab54-f713b50de5fa"
   },
   "outputs": [
    {
     "name": "stdout",
     "output_type": "stream",
     "text": [
      "0.021642625331878662\n"
     ]
    },
    {
     "data": {
      "text/plain": [
       "False"
      ]
     },
     "execution_count": 317,
     "metadata": {},
     "output_type": "execute_result"
    }
   ],
   "source": [
    "critical_right(25,18,0.5,5)"
   ]
  },
  {
   "cell_type": "code",
   "execution_count": null,
   "metadata": {
    "id": "cPQDDO1yYuZd",
    "outputId": "89cfb193-ca1c-4c78-cbbe-4245db26cd5e"
   },
   "outputs": [
    {
     "name": "stdout",
     "output_type": "stream",
     "text": [
      "0.04262515088112164\n"
     ]
    },
    {
     "data": {
      "text/plain": [
       "False"
      ]
     },
     "execution_count": 318,
     "metadata": {},
     "output_type": "execute_result"
    }
   ],
   "source": [
    "critical_left(500,61,0.15,10)"
   ]
  },
  {
   "cell_type": "markdown",
   "metadata": {
    "id": "zsUhYBt6YuZe"
   },
   "source": [
    "## C1 Year 13"
   ]
  },
  {
   "cell_type": "markdown",
   "metadata": {
    "id": "Gid8Ze1kYuZe"
   },
   "source": [
    "### Module 1 - Algebra and Functions"
   ]
  },
  {
   "cell_type": "code",
   "execution_count": null,
   "metadata": {
    "id": "y3lYf9jrYuZe",
    "outputId": "1a99da94-2ed0-45c1-cdba-90a6d78e9940"
   },
   "outputs": [
    {
     "name": "stdout",
     "output_type": "stream",
     "text": [
      "[]\n"
     ]
    }
   ],
   "source": [
    "# import alfunc\n",
    "inverse((2*x-5)/(3*x-1))"
   ]
  },
  {
   "cell_type": "code",
   "execution_count": null,
   "metadata": {
    "id": "m9ax5FNNYuZe",
    "outputId": "66dc3128-578b-40a8-9477-fa2aab817a80"
   },
   "outputs": [
    {
     "name": "stdout",
     "output_type": "stream",
     "text": [
      "[]\n"
     ]
    }
   ],
   "source": [
    "inverse(7*x-2)"
   ]
  },
  {
   "cell_type": "code",
   "execution_count": null,
   "metadata": {
    "id": "bi7vLsvQYuZe",
    "outputId": "5cbf8c95-a8b0-4c0a-c894-125486c5c788"
   },
   "outputs": [
    {
     "name": "stdout",
     "output_type": "stream",
     "text": [
      "[]\n"
     ]
    }
   ],
   "source": [
    "inverse((3*x+1)/(5-x))"
   ]
  },
  {
   "cell_type": "code",
   "execution_count": null,
   "metadata": {
    "id": "irb0vzRqYuZe",
    "outputId": "82db2768-d505-44ad-9684-e531dc96cad8"
   },
   "outputs": [
    {
     "name": "stdout",
     "output_type": "stream",
     "text": [
      "[]\n"
     ]
    }
   ],
   "source": [
    "inverse(x**2-2*x-9)"
   ]
  },
  {
   "cell_type": "markdown",
   "metadata": {
    "id": "CVUAk8rpYuZe"
   },
   "source": [
    "### Module 2 - Sequences and Series 1"
   ]
  },
  {
   "cell_type": "code",
   "execution_count": null,
   "metadata": {
    "id": "Xp5GQ7mMYuZf",
    "outputId": "28348007-093e-48b7-cf07-b7f3dcd062a5"
   },
   "outputs": [
    {
     "data": {
      "text/plain": [
       "6561"
      ]
     },
     "execution_count": 323,
     "metadata": {},
     "output_type": "execute_result"
    }
   ],
   "source": [
    "2187*3"
   ]
  },
  {
   "cell_type": "code",
   "execution_count": null,
   "metadata": {
    "id": "6FcpHo5qYuZf",
    "outputId": "99970d92-7893-4181-9e83-d8a29b907967"
   },
   "outputs": [
    {
     "data": {
      "text/plain": [
       "362880"
      ]
     },
     "execution_count": 324,
     "metadata": {},
     "output_type": "execute_result"
    }
   ],
   "source": [
    "fact(9)"
   ]
  },
  {
   "cell_type": "code",
   "execution_count": null,
   "metadata": {
    "id": "493IosWBYuZf",
    "outputId": "c8211dd0-7a53-4e97-d8a6-5004b7a04f4e"
   },
   "outputs": [
    {
     "name": "stdout",
     "output_type": "stream",
     "text": [
      "4\n",
      "12\n",
      "24\n",
      "40\n",
      "60\n"
     ]
    }
   ],
   "source": [
    "for n in range(1,6):\n",
    "    print(2*n*(n+1))"
   ]
  },
  {
   "cell_type": "code",
   "execution_count": null,
   "metadata": {
    "id": "mGqOMQb8YuZf",
    "outputId": "efc29785-3370-4713-fbb1-99d03a3d1d7f"
   },
   "outputs": [
    {
     "name": "stdout",
     "output_type": "stream",
     "text": [
      "0.0\n",
      "1.5\n",
      "4.0\n",
      "7.5\n",
      "12.0\n"
     ]
    }
   ],
   "source": [
    "for i in range(1,6):\n",
    "    print(1/2*(i**2-1))"
   ]
  },
  {
   "cell_type": "code",
   "execution_count": null,
   "metadata": {
    "id": "2EDTlFzNYuZf",
    "outputId": "94275998-8d21-4b93-9585-df127a918d0b"
   },
   "outputs": [
    {
     "name": "stdout",
     "output_type": "stream",
     "text": [
      "0\n",
      "3\n",
      "18\n",
      "69\n",
      "228\n"
     ]
    }
   ],
   "source": [
    "for i in range(1,6):\n",
    "    print(3**i-3*i)"
   ]
  },
  {
   "cell_type": "code",
   "execution_count": null,
   "metadata": {
    "id": "SXb_dr6XYuZf",
    "outputId": "89cbf809-451e-49e6-dd5d-73bf8ff7d415"
   },
   "outputs": [
    {
     "name": "stdout",
     "output_type": "stream",
     "text": [
      "1.0\n",
      "1.0\n",
      "2.0\n",
      "3.0000000000000004\n",
      "5.000000000000001\n",
      "8.000000000000002\n",
      "13.000000000000002\n",
      "21.000000000000004\n",
      "34.00000000000001\n",
      "55.000000000000014\n",
      "89.00000000000003\n",
      "144.00000000000006\n",
      "233.00000000000006\n",
      "377.00000000000017\n",
      "610.0000000000003\n",
      "987.0000000000005\n",
      "1597.000000000001\n",
      "2584.000000000002\n",
      "4181.000000000003\n"
     ]
    }
   ],
   "source": [
    "from numpy import sqrt\n",
    "for n in range(1,20):\n",
    "    print(1/sqrt(5)*(((1+sqrt(5))/2)**n-((1-sqrt(5))/2)**n))"
   ]
  },
  {
   "cell_type": "code",
   "execution_count": null,
   "metadata": {
    "id": "yuJvye82YuZf",
    "outputId": "48f333d3-3f65-4678-d4aa-24bf15447799"
   },
   "outputs": [
    {
     "name": "stdout",
     "output_type": "stream",
     "text": [
      "3\n",
      "-1\n",
      "3\n",
      "-1\n",
      "3\n"
     ]
    }
   ],
   "source": [
    "x=3\n",
    "for n in range(1,6):\n",
    "    print(x)\n",
    "    x*=-1\n",
    "    x+=2"
   ]
  },
  {
   "cell_type": "code",
   "execution_count": null,
   "metadata": {
    "id": "wS-_rGwBYuZg",
    "outputId": "d48c5b8a-6a9b-4b64-cea5-a51901511ce1"
   },
   "outputs": [
    {
     "name": "stdout",
     "output_type": "stream",
     "text": [
      "range(0, 300)\n"
     ]
    }
   ],
   "source": [
    "print(range(300))"
   ]
  },
  {
   "cell_type": "code",
   "execution_count": null,
   "metadata": {
    "id": "pHdfc-7jYuZg",
    "outputId": "43d01412-0c8e-4ec5-d2b0-1d97f0052fd3"
   },
   "outputs": [
    {
     "name": "stdout",
     "output_type": "stream",
     "text": [
      "-2\n",
      "-0.5\n",
      "-2.0\n",
      "-0.5\n",
      "-2.0\n"
     ]
    }
   ],
   "source": [
    "x=-2\n",
    "for i in range(5):\n",
    "    print(x)\n",
    "    x=1/x"
   ]
  },
  {
   "cell_type": "code",
   "execution_count": null,
   "metadata": {
    "id": "udDzau7EYuZg",
    "outputId": "0602df71-415e-4513-a01e-29062fe04b5d"
   },
   "outputs": [
    {
     "name": "stdout",
     "output_type": "stream",
     "text": [
      "28\n",
      "21\n",
      "15\n",
      "10\n",
      "6\n",
      "3\n",
      "1\n"
     ]
    }
   ],
   "source": [
    "x=36\n",
    "for i in range(1,8):\n",
    "    n=8-i\n",
    "    x=x-n-1\n",
    "    print(x)"
   ]
  },
  {
   "cell_type": "code",
   "execution_count": null,
   "metadata": {
    "id": "vYoxBbu-YuZg",
    "outputId": "869f1ccb-c94b-4521-b514-861dca003246"
   },
   "outputs": [
    {
     "data": {
      "text/plain": [
       "27.0"
      ]
     },
     "execution_count": 333,
     "metadata": {},
     "output_type": "execute_result"
    }
   ],
   "source": [
    "162/6"
   ]
  },
  {
   "cell_type": "code",
   "execution_count": null,
   "metadata": {
    "id": "BGcdaZFdYuZh",
    "outputId": "9270ac7a-dcb9-4b12-abda-154905c9208c"
   },
   "outputs": [
    {
     "data": {
      "text/plain": [
       "9565938"
      ]
     },
     "execution_count": 334,
     "metadata": {},
     "output_type": "execute_result"
    }
   ],
   "source": [
    "2*3**14"
   ]
  },
  {
   "cell_type": "code",
   "execution_count": null,
   "metadata": {
    "id": "MGXDZ9eeYuZh",
    "outputId": "c5cf2ec2-1c41-4f2a-8908-4f699bd88ec4"
   },
   "outputs": [
    {
     "data": {
      "text/plain": [
       "262144"
      ]
     },
     "execution_count": 335,
     "metadata": {},
     "output_type": "execute_result"
    }
   ],
   "source": [
    "4**9"
   ]
  },
  {
   "cell_type": "code",
   "execution_count": null,
   "metadata": {
    "id": "hhNyM-NdYuZh",
    "outputId": "da6eda10-d34f-4a74-f00e-92f724a6ab73"
   },
   "outputs": [
    {
     "data": {
      "text/plain": [
       "336.0"
      ]
     },
     "execution_count": 336,
     "metadata": {},
     "output_type": "execute_result"
    }
   ],
   "source": [
    "1008/3"
   ]
  },
  {
   "cell_type": "code",
   "execution_count": null,
   "metadata": {
    "id": "5j1jGARtYuZh",
    "outputId": "9c1927db-3f98-43a9-d100-b1f2afb2b532"
   },
   "outputs": [
    {
     "data": {
      "text/plain": [
       "-656"
      ]
     },
     "execution_count": 337,
     "metadata": {},
     "output_type": "execute_result"
    }
   ],
   "source": [
    "16-2*336"
   ]
  },
  {
   "cell_type": "code",
   "execution_count": null,
   "metadata": {
    "id": "yKaroQizYuZh",
    "outputId": "73af5e2b-7ae5-4f74-c2d2-d624af5d13f5"
   },
   "outputs": [
    {
     "data": {
      "text/plain": [
       "2368"
      ]
     },
     "execution_count": 338,
     "metadata": {},
     "output_type": "execute_result"
    }
   ],
   "source": [
    "336*4+1024"
   ]
  },
  {
   "cell_type": "code",
   "execution_count": null,
   "metadata": {
    "id": "FOMx4x2CYuZi",
    "outputId": "84f3fe64-54a6-4e39-defa-9a5d0981b5ee"
   },
   "outputs": [
    {
     "data": {
      "text/plain": [
       "-19"
      ]
     },
     "execution_count": 339,
     "metadata": {},
     "output_type": "execute_result"
    }
   ],
   "source": [
    "3-2*11"
   ]
  },
  {
   "cell_type": "code",
   "execution_count": null,
   "metadata": {
    "id": "cxV77nVrYuZi",
    "outputId": "a1abc776-81dc-4b3c-b7af-877c39764f66"
   },
   "outputs": [
    {
     "data": {
      "text/plain": [
       "-30"
      ]
     },
     "execution_count": 340,
     "metadata": {},
     "output_type": "execute_result"
    }
   ],
   "source": [
    "-3-3*9"
   ]
  },
  {
   "cell_type": "code",
   "execution_count": null,
   "metadata": {
    "id": "0zgBi4i1YuZi",
    "outputId": "75732d43-f930-455d-f4ed-dfc83d6eec8d"
   },
   "outputs": [
    {
     "data": {
      "text/plain": [
       "217"
      ]
     },
     "execution_count": 341,
     "metadata": {},
     "output_type": "execute_result"
    }
   ],
   "source": [
    "312-19*5"
   ]
  },
  {
   "cell_type": "code",
   "execution_count": null,
   "metadata": {
    "id": "RnJsy6MOYuZi",
    "outputId": "a1eb006a-3ffa-4e9b-bf39-d3b5fcefe717"
   },
   "outputs": [
    {
     "data": {
      "text/plain": [
       "-59.0"
      ]
     },
     "execution_count": 342,
     "metadata": {},
     "output_type": "execute_result"
    }
   ],
   "source": [
    "7-1.5*44"
   ]
  },
  {
   "cell_type": "code",
   "execution_count": null,
   "metadata": {
    "id": "ZoAWgkcOYuZi",
    "outputId": "cc39412a-f46c-4486-f242-633a83a6f128"
   },
   "outputs": [
    {
     "data": {
      "text/plain": [
       "32.2"
      ]
     },
     "execution_count": 343,
     "metadata": {},
     "output_type": "execute_result"
    }
   ],
   "source": [
    "0.6*55-0.8"
   ]
  },
  {
   "cell_type": "code",
   "execution_count": null,
   "metadata": {
    "id": "zvUFlMAlYuZi",
    "outputId": "e2fa1e64-d65c-44fb-928b-71c898496fb7"
   },
   "outputs": [
    {
     "data": {
      "text/plain": [
       "-384"
      ]
     },
     "execution_count": 344,
     "metadata": {},
     "output_type": "execute_result"
    }
   ],
   "source": [
    "3*(-2)**7"
   ]
  },
  {
   "cell_type": "code",
   "execution_count": null,
   "metadata": {
    "id": "IsX-z2x5YuZi",
    "outputId": "23270676-825d-4dc9-d7c2-5f3946573947"
   },
   "outputs": [
    {
     "data": {
      "text/plain": [
       "729"
      ]
     },
     "execution_count": 345,
     "metadata": {},
     "output_type": "execute_result"
    }
   ],
   "source": [
    "-3*(-3)**5"
   ]
  },
  {
   "cell_type": "code",
   "execution_count": null,
   "metadata": {
    "id": "cdE4kWlYYuZj",
    "outputId": "fd2acf73-2966-4e33-c2d9-d8bee99d6ce3"
   },
   "outputs": [
    {
     "data": {
      "text/plain": [
       "-6.0"
      ]
     },
     "execution_count": 346,
     "metadata": {},
     "output_type": "execute_result"
    }
   ],
   "source": [
    "3072*(-1/2)**9"
   ]
  },
  {
   "cell_type": "code",
   "execution_count": null,
   "metadata": {
    "id": "EeSfupkcYuZj",
    "outputId": "5ffa7e98-0b9b-41f3-c80f-26d86e321379"
   },
   "outputs": [
    {
     "data": {
      "text/plain": [
       "51.20000000000002"
      ]
     },
     "execution_count": 347,
     "metadata": {},
     "output_type": "execute_result"
    }
   ],
   "source": [
    "12500*0.4**6"
   ]
  },
  {
   "cell_type": "code",
   "execution_count": null,
   "metadata": {
    "id": "gn3tSzL4YuZj",
    "outputId": "6b5a9fce-0c7b-4946-cc95-3ba93193448f"
   },
   "outputs": [
    {
     "name": "stdout",
     "output_type": "stream",
     "text": [
      "4.0\n",
      "2.5\n",
      "1.1666666666666667\n",
      "1.4444444444444446\n",
      "14.66666666666666\n",
      "35.24999999999997\n",
      "2.652439024390243\n",
      "0.10664055545664952\n",
      "0.669701295553102\n",
      "-1.8690139850780738\n",
      "2.630994228491698\n",
      "-1.2655895884010089\n",
      "-0.16283907310120857\n",
      "-0.3695112880041246\n",
      "-0.5421977353361606\n",
      "-0.33428148323700463\n",
      "-0.4316687163451743\n",
      "-0.4259455675544848\n",
      "64.68650544461221\n"
     ]
    }
   ],
   "source": [
    "x1=2\n",
    "x2=3\n",
    "tot=5\n",
    "for i in range(18):\n",
    "    x3=(1+x2)/(x1-1)\n",
    "    x1=x2\n",
    "    x2=x3\n",
    "    print(x2)\n",
    "    tot+=x2\n",
    "print(tot)"
   ]
  },
  {
   "cell_type": "code",
   "execution_count": null,
   "metadata": {
    "id": "lqEZVDFGYuZj",
    "outputId": "5ebebddc-ffc8-42c0-e4b6-0520bbb034ce"
   },
   "outputs": [
    {
     "data": {
      "text/plain": [
       "2500.0"
      ]
     },
     "execution_count": 349,
     "metadata": {},
     "output_type": "execute_result"
    }
   ],
   "source": [
    "arithseqsum(1, 99, 50)"
   ]
  },
  {
   "cell_type": "code",
   "execution_count": null,
   "metadata": {
    "id": "Yv93_SanYuZj",
    "outputId": "cc5ab7bc-7c20-45a3-8e35-06d7108f5d6c"
   },
   "outputs": [
    {
     "data": {
      "text/plain": [
       "3810.0"
      ]
     },
     "execution_count": 350,
     "metadata": {},
     "output_type": "execute_result"
    }
   ],
   "source": [
    "arithseqsum(3, 399, 100)-arithseqsum(3, 359, 90)"
   ]
  },
  {
   "cell_type": "code",
   "execution_count": null,
   "metadata": {
    "id": "rS_kS0C4YuZj",
    "outputId": "007d5b27-b332-4535-8375-ddccee135572"
   },
   "outputs": [
    {
     "data": {
      "text/plain": [
       "1023.0"
      ]
     },
     "execution_count": 351,
     "metadata": {},
     "output_type": "execute_result"
    }
   ],
   "source": [
    "geoseqsum(1, 512, 2)"
   ]
  },
  {
   "cell_type": "code",
   "execution_count": null,
   "metadata": {
    "id": "_P9M8AiqYuZj",
    "outputId": "a72f5ef2-5256-4df4-f06c-f9dea53ae98a"
   },
   "outputs": [
    {
     "data": {
      "text/plain": [
       "121.0"
      ]
     },
     "execution_count": 352,
     "metadata": {},
     "output_type": "execute_result"
    }
   ],
   "source": [
    "geoseqsum(1, 81, 3)"
   ]
  },
  {
   "cell_type": "code",
   "execution_count": null,
   "metadata": {
    "id": "nXjQkIlIYuZk",
    "outputId": "00f9192f-7692-41af-9ce1-33140fffa4d6"
   },
   "outputs": [
    {
     "data": {
      "text/plain": [
       "2.0"
      ]
     },
     "execution_count": 353,
     "metadata": {},
     "output_type": "execute_result"
    }
   ],
   "source": [
    "geoseqsum(1, 1/2**1000, 1/2)"
   ]
  },
  {
   "cell_type": "code",
   "execution_count": null,
   "metadata": {
    "id": "35ThJW_HYuZk",
    "outputId": "25d6fd5e-c495-46a1-c0c6-825035939727"
   },
   "outputs": [
    {
     "data": {
      "text/plain": [
       "36"
      ]
     },
     "execution_count": 354,
     "metadata": {},
     "output_type": "execute_result"
    }
   ],
   "source": [
    "44-8"
   ]
  },
  {
   "cell_type": "code",
   "execution_count": null,
   "metadata": {
    "id": "OSa0qmqzYuZk",
    "outputId": "9ca4ff30-1af6-4d69-d6d7-1dd45e670c2c"
   },
   "outputs": [
    {
     "data": {
      "text/plain": [
       "6.0"
      ]
     },
     "execution_count": 355,
     "metadata": {},
     "output_type": "execute_result"
    }
   ],
   "source": [
    "36/6"
   ]
  },
  {
   "cell_type": "code",
   "execution_count": null,
   "metadata": {
    "id": "RGU2u3U-YuZk",
    "outputId": "1d292032-f8e1-4c07-ca24-53b53f79a861"
   },
   "outputs": [
    {
     "data": {
      "text/plain": [
       "940.0"
      ]
     },
     "execution_count": 356,
     "metadata": {},
     "output_type": "execute_result"
    }
   ],
   "source": [
    "arithseqsum(-10,104,20)"
   ]
  },
  {
   "cell_type": "code",
   "execution_count": null,
   "metadata": {
    "id": "jaJJAR8_YuZk",
    "outputId": "2af32e41-cedd-43c3-8735-a3d90351354e"
   },
   "outputs": [
    {
     "data": {
      "text/plain": [
       "3038.34635959407"
      ]
     },
     "execution_count": 357,
     "metadata": {},
     "output_type": "execute_result"
    }
   ],
   "source": [
    "r=5.5**(1/6)\n",
    "a=8/r**3\n",
    "l=44*r**10\n",
    "geoseqsum(a,l,r)"
   ]
  },
  {
   "cell_type": "code",
   "execution_count": null,
   "metadata": {
    "id": "-suBJSR9YuZk",
    "outputId": "c377a365-3b73-4170-862f-68ddf82fe0fd"
   },
   "outputs": [
    {
     "data": {
      "text/plain": [
       "0.0"
      ]
     },
     "execution_count": 358,
     "metadata": {},
     "output_type": "execute_result"
    }
   ],
   "source": [
    "arithseqsum(5,-5,9)"
   ]
  },
  {
   "cell_type": "code",
   "execution_count": null,
   "metadata": {
    "id": "1o-GL0fRYuZl",
    "outputId": "5ccac954-28b5-42af-e6d7-e212addb6f2d"
   },
   "outputs": [
    {
     "data": {
      "text/plain": [
       "30.0"
      ]
     },
     "execution_count": 359,
     "metadata": {},
     "output_type": "execute_result"
    }
   ],
   "source": [
    "arithseqsum(4,16,3)"
   ]
  },
  {
   "cell_type": "code",
   "execution_count": null,
   "metadata": {
    "id": "hdhUhBybYuZl",
    "outputId": "0d8af2a4-2edb-4140-bd0e-067c77526a3c"
   },
   "outputs": [
    {
     "data": {
      "text/plain": [
       "21.0"
      ]
     },
     "execution_count": 360,
     "metadata": {},
     "output_type": "execute_result"
    }
   ],
   "source": [
    "geoseqsum(3,12,2)"
   ]
  },
  {
   "cell_type": "code",
   "execution_count": null,
   "metadata": {
    "id": "ArsY0ZLEYuZl",
    "outputId": "6836c8cc-4e6e-451a-f36a-ae3d9a9dd22d"
   },
   "outputs": [
    {
     "data": {
      "text/plain": [
       "165"
      ]
     },
     "execution_count": 361,
     "metadata": {},
     "output_type": "execute_result"
    }
   ],
   "source": [
    "func=lambda x:2*x-5\n",
    "sigma(func,1,15)"
   ]
  },
  {
   "cell_type": "code",
   "execution_count": null,
   "metadata": {
    "id": "nRO8KVbIYuZl",
    "outputId": "6b907541-eb79-4489-91b9-8c83da40562d"
   },
   "outputs": [
    {
     "data": {
      "text/plain": [
       "28.31059455871582"
      ]
     },
     "execution_count": 362,
     "metadata": {},
     "output_type": "execute_result"
    }
   ],
   "source": [
    "func=lambda x:10*(3/4)**x\n",
    "sigma(func,1,10)"
   ]
  },
  {
   "cell_type": "code",
   "execution_count": null,
   "metadata": {
    "id": "nYwxr-z-YuZl",
    "outputId": "90e32ee4-cc33-4f9d-f8c6-4ed20833303e"
   },
   "outputs": [
    {
     "data": {
      "text/plain": [
       "256.0"
      ]
     },
     "execution_count": 363,
     "metadata": {},
     "output_type": "execute_result"
    }
   ],
   "source": [
    "func=lambda x:256/2**x\n",
    "sigma(func,1,100000)"
   ]
  },
  {
   "cell_type": "code",
   "execution_count": null,
   "metadata": {
    "id": "LKLuWgrkYuZl",
    "outputId": "638d66a0-989f-4647-dfb1-c92281a2be54"
   },
   "outputs": [
    {
     "data": {
      "text/plain": [
       "19.371024450000007"
      ]
     },
     "execution_count": 364,
     "metadata": {},
     "output_type": "execute_result"
    }
   ],
   "source": [
    "func=lambda x:5*0.9**(x-1)\n",
    "sigma(func,10,100000)"
   ]
  },
  {
   "cell_type": "code",
   "execution_count": null,
   "metadata": {
    "id": "8bgK1iPKYuZm",
    "outputId": "de29faf2-80fc-43b3-8a63-d0e33b73060e"
   },
   "outputs": [
    {
     "data": {
      "text/plain": [
       "0.7236067977499789"
      ]
     },
     "execution_count": 365,
     "metadata": {},
     "output_type": "execute_result"
    }
   ],
   "source": [
    "(5+np.sqrt(5))/10"
   ]
  },
  {
   "cell_type": "markdown",
   "metadata": {
    "id": "xSAyZOxCYuZm"
   },
   "source": [
    "### Module 3 - Sequences and Series 2"
   ]
  },
  {
   "cell_type": "code",
   "execution_count": null,
   "metadata": {
    "id": "jqqk2GV9YuZm",
    "outputId": "16418b0a-f7bd-4fee-c848-71bff9c1c81c"
   },
   "outputs": [
    {
     "data": {
      "text/plain": [
       "16384"
      ]
     },
     "execution_count": 366,
     "metadata": {},
     "output_type": "execute_result"
    }
   ],
   "source": [
    "4**7"
   ]
  },
  {
   "cell_type": "code",
   "execution_count": null,
   "metadata": {
    "id": "fUJMGSq7YuZm",
    "outputId": "5c20b75a-36ff-45a8-ae7e-f9378316c618"
   },
   "outputs": [
    {
     "data": {
      "text/plain": [
       "28672"
      ]
     },
     "execution_count": 367,
     "metadata": {},
     "output_type": "execute_result"
    }
   ],
   "source": [
    "4**6*7"
   ]
  },
  {
   "cell_type": "code",
   "execution_count": null,
   "metadata": {
    "id": "8KMS4NOAYuZm",
    "outputId": "9876bb98-3843-408f-957b-369a556f425b"
   },
   "outputs": [
    {
     "data": {
      "text/plain": [
       "240"
      ]
     },
     "execution_count": 368,
     "metadata": {},
     "output_type": "execute_result"
    }
   ],
   "source": [
    "3*2**4*5"
   ]
  },
  {
   "cell_type": "code",
   "execution_count": null,
   "metadata": {
    "id": "SdVRo5hAYuZm",
    "outputId": "5285e6cf-6f37-4201-f83d-071059dcee3f"
   },
   "outputs": [
    {
     "data": {
      "text/plain": [
       "720"
      ]
     },
     "execution_count": 369,
     "metadata": {},
     "output_type": "execute_result"
    }
   ],
   "source": [
    "3**2*2**3*10"
   ]
  },
  {
   "cell_type": "code",
   "execution_count": null,
   "metadata": {
    "id": "IYoA4y54YuZm",
    "outputId": "f5f8a437-feb2-4293-ed0d-08ab6d659d13"
   },
   "outputs": [
    {
     "data": {
      "text/plain": [
       "2449440.0"
      ]
     },
     "execution_count": 370,
     "metadata": {},
     "output_type": "execute_result"
    }
   ],
   "source": [
    "2**4*(-3)**6*ncr(10,4)"
   ]
  },
  {
   "cell_type": "code",
   "execution_count": null,
   "metadata": {
    "id": "JkJuYpXMYuZn",
    "outputId": "995abf13-0886-406d-92b2-a3a772b9b50b"
   },
   "outputs": [
    {
     "data": {
      "text/plain": [
       "3300"
      ]
     },
     "execution_count": 371,
     "metadata": {},
     "output_type": "execute_result"
    }
   ],
   "source": [
    "a=5\n",
    "b=12\n",
    "func=a**2*(b*(b-1))\n",
    "func"
   ]
  },
  {
   "cell_type": "code",
   "execution_count": null,
   "metadata": {
    "id": "mE-jiNSBYuZn",
    "outputId": "c01fd94a-c5f0-4c49-bb56-97e37e61abba"
   },
   "outputs": [
    {
     "data": {
      "text/plain": [
       "3.333333333333333"
      ]
     },
     "execution_count": 372,
     "metadata": {},
     "output_type": "execute_result"
    }
   ],
   "source": [
    "ncr(10,1)*(1/3)**1"
   ]
  },
  {
   "cell_type": "code",
   "execution_count": null,
   "metadata": {
    "id": "n6QxD4zqYuZn",
    "outputId": "c78b9b78-9cb2-49f9-8caa-308cb5c860c2"
   },
   "outputs": [
    {
     "data": {
      "text/plain": [
       "1.10462"
      ]
     },
     "execution_count": 373,
     "metadata": {},
     "output_type": "execute_result"
    }
   ],
   "source": [
    "x=0.03\n",
    "1+10*x/3+5*x**2+40*x**3/9"
   ]
  },
  {
   "cell_type": "code",
   "execution_count": null,
   "metadata": {
    "id": "1RruivAXYuZn",
    "outputId": "c9f9e77b-fe86-4b95-8367-2645059b79cb"
   },
   "outputs": [
    {
     "data": {
      "text/plain": [
       "1.0392304845413265"
      ]
     },
     "execution_count": 374,
     "metadata": {},
     "output_type": "execute_result"
    }
   ],
   "source": [
    "np.sqrt(1.08)"
   ]
  },
  {
   "cell_type": "code",
   "execution_count": null,
   "metadata": {
    "id": "T2_dSTx-YuZn",
    "outputId": "1d5ba1ed-d07d-4589-fddd-c49556550c1f"
   },
   "outputs": [
    {
     "data": {
      "text/plain": [
       "1.375"
      ]
     },
     "execution_count": 375,
     "metadata": {},
     "output_type": "execute_result"
    }
   ],
   "source": [
    "x=2\n",
    "func=1+x/2-x**2/8+x**3/16-5/8\n",
    "func"
   ]
  },
  {
   "cell_type": "code",
   "execution_count": null,
   "metadata": {
    "id": "XRupUZHuYuZn",
    "outputId": "c65202ba-2748-414e-8342-02ae65f7c6a6"
   },
   "outputs": [
    {
     "data": {
      "text/plain": [
       "1.7320508075688772"
      ]
     },
     "execution_count": 376,
     "metadata": {},
     "output_type": "execute_result"
    }
   ],
   "source": [
    "np.sqrt(3)"
   ]
  },
  {
   "cell_type": "code",
   "execution_count": null,
   "metadata": {
    "id": "frw5BtoBYuZn",
    "outputId": "8a0fab85-a25e-4d80-f735-c1bb33e66768"
   },
   "outputs": [
    {
     "data": {
      "text/plain": [
       "7.000000420056039"
      ]
     },
     "execution_count": 377,
     "metadata": {},
     "output_type": "execute_result"
    }
   ],
   "source": [
    "x=0.005\n",
    "func=1+4*x+8*x**2+32*x**3\n",
    "np.sqrt(51)/func"
   ]
  },
  {
   "cell_type": "code",
   "execution_count": null,
   "metadata": {
    "id": "atQDWyJtYuZn",
    "outputId": "caf2ce14-b86e-497a-bca3-1526d80e304d"
   },
   "outputs": [
    {
     "data": {
      "text/plain": [
       "7.141428000000001"
      ]
     },
     "execution_count": 378,
     "metadata": {},
     "output_type": "execute_result"
    }
   ],
   "source": [
    "1.020204*7"
   ]
  },
  {
   "cell_type": "code",
   "execution_count": null,
   "metadata": {
    "id": "k3HN3iCZYuZo",
    "outputId": "3fc96e82-11a2-4f96-96bd-d5a86cc807e8"
   },
   "outputs": [
    {
     "data": {
      "text/plain": [
       "7.14142842854285"
      ]
     },
     "execution_count": 379,
     "metadata": {},
     "output_type": "execute_result"
    }
   ],
   "source": [
    "np.sqrt(51)"
   ]
  },
  {
   "cell_type": "code",
   "execution_count": null,
   "metadata": {
    "id": "aKqm3SnoYuZo",
    "outputId": "6ef136c6-ec62-4299-d224-f299a2389680"
   },
   "outputs": [
    {
     "data": {
      "text/plain": [
       "0.12579889981557008"
      ]
     },
     "execution_count": 380,
     "metadata": {},
     "output_type": "execute_result"
    }
   ],
   "source": [
    "n=2\n",
    "for i in range(5):\n",
    "    n=(n**2-1)/(4*n)\n",
    "n"
   ]
  },
  {
   "cell_type": "code",
   "execution_count": null,
   "metadata": {
    "id": "6OjRy5KsYuZo",
    "outputId": "44599fc0-41e6-41fd-a3f3-df91c6aaad80"
   },
   "outputs": [
    {
     "data": {
      "text/plain": [
       "168"
      ]
     },
     "execution_count": 381,
     "metadata": {},
     "output_type": "execute_result"
    }
   ],
   "source": [
    "func=lambda x:x*(x+1)\n",
    "sigma(func,1,7)"
   ]
  },
  {
   "cell_type": "code",
   "execution_count": null,
   "metadata": {
    "id": "2oNrV3OtYuZo",
    "outputId": "9e213c61-8608-4089-8af6-f22e62c456b5"
   },
   "outputs": [
    {
     "data": {
      "text/plain": [
       "59.79901874236668"
      ]
     },
     "execution_count": 382,
     "metadata": {},
     "output_type": "execute_result"
    }
   ],
   "source": [
    "r=(15/8)**(1/5)\n",
    "8*r**16"
   ]
  },
  {
   "cell_type": "code",
   "execution_count": null,
   "metadata": {
    "id": "q6PhQQ6iYuZo",
    "outputId": "61e0273d-3750-4b85-e745-42c5c340723d"
   },
   "outputs": [
    {
     "data": {
      "text/plain": [
       "2.0491803275349127"
      ]
     },
     "execution_count": 383,
     "metadata": {},
     "output_type": "execute_result"
    }
   ],
   "source": [
    "r=4/5\n",
    "a=1/2.44\n",
    "geoseqsum(a,a*r**100,r)"
   ]
  },
  {
   "cell_type": "code",
   "execution_count": null,
   "metadata": {
    "id": "ZLLLkkvmYuZo",
    "outputId": "a5ce1d4d-3412-43c6-9530-5a6498ca8bc1"
   },
   "outputs": [
    {
     "data": {
      "text/plain": [
       "1959552.0"
      ]
     },
     "execution_count": 384,
     "metadata": {},
     "output_type": "execute_result"
    }
   ],
   "source": [
    "2**5*3**5*ncr(10,5)"
   ]
  },
  {
   "cell_type": "markdown",
   "metadata": {
    "id": "0yg_Xf8BYuZp"
   },
   "source": [
    "### Module 4 and 5 - Trigonometry 1 and 2"
   ]
  },
  {
   "cell_type": "code",
   "execution_count": null,
   "metadata": {
    "id": "xX1X_mA_YuZp",
    "outputId": "096acab5-3de0-4ce0-dce6-2aa0dc0ca0b5"
   },
   "outputs": [
    {
     "data": {
      "text/plain": [
       "0.08726646259971647"
      ]
     },
     "execution_count": 385,
     "metadata": {},
     "output_type": "execute_result"
    }
   ],
   "source": [
    "np.radians(5)"
   ]
  },
  {
   "cell_type": "code",
   "execution_count": null,
   "metadata": {
    "id": "LrBRpq8rYuZp",
    "outputId": "90257e0e-daa3-4691-bcec-c8ddcb622abe"
   },
   "outputs": [
    {
     "data": {
      "text/plain": [
       "0.9961922822526661"
      ]
     },
     "execution_count": 386,
     "metadata": {},
     "output_type": "execute_result"
    }
   ],
   "source": [
    "1-np.radians(5)**2/2"
   ]
  },
  {
   "cell_type": "markdown",
   "metadata": {
    "id": "g1t1_7lhYuZp"
   },
   "source": [
    "### Module 6 and 7 - Numerical Methods 1 and 2"
   ]
  },
  {
   "cell_type": "code",
   "execution_count": null,
   "metadata": {
    "id": "WWCO1eC-YuZp",
    "outputId": "e3d6e2ae-6fef-4a0f-eec4-4cf91ce51eb8"
   },
   "outputs": [
    {
     "data": {
      "text/plain": [
       "2.076694899003177"
      ]
     },
     "execution_count": 387,
     "metadata": {},
     "output_type": "execute_result"
    }
   ],
   "source": [
    "# Ex. 11\n",
    "# 2\n",
    "def f(x):\n",
    "    return np.e**x*np.log(x)\n",
    "trapezium(6,1,2,f)"
   ]
  },
  {
   "cell_type": "code",
   "execution_count": null,
   "metadata": {
    "id": "fs4wr5KjYuZp",
    "outputId": "fad5c448-7459-4508-d611-71d10bf7991a"
   },
   "outputs": [
    {
     "data": {
      "text/plain": [
       "2.0766948990031775"
      ]
     },
     "execution_count": 388,
     "metadata": {},
     "output_type": "execute_result"
    }
   ],
   "source": [
    "# 2\n",
    "1/6*(np.e**(7/6)*np.log(7/6)+np.e**(8/6)*np.log(8/6)+np.e**(9/6)*np.log(9/6)+np.e**(10/6)*np.log(10/6)+np.e**(11/6)*np.log(11/6))+1/12*np.e**2*np.log(2)"
   ]
  },
  {
   "cell_type": "code",
   "execution_count": null,
   "metadata": {
    "id": "jG2xq0JtYuZq",
    "outputId": "5b41a86f-e2db-4bc3-d1dc-a2b32c785fbb"
   },
   "outputs": [
    {
     "data": {
      "text/plain": [
       "4.372013816665913"
      ]
     },
     "execution_count": 389,
     "metadata": {},
     "output_type": "execute_result"
    }
   ],
   "source": [
    "# 3\n",
    "f=lambda x:5-np.tan(x)\n",
    "trapezium(4,0,1,f)"
   ]
  },
  {
   "cell_type": "code",
   "execution_count": null,
   "metadata": {
    "id": "wTBGXuS9YuZq",
    "outputId": "44c28a06-a819-4555-fafc-944294eb7d0b"
   },
   "outputs": [
    {
     "data": {
      "text/plain": [
       "0.5921607210813992"
      ]
     },
     "execution_count": 390,
     "metadata": {},
     "output_type": "execute_result"
    }
   ],
   "source": [
    "# 4\n",
    "f=lambda x:np.tan(x)**2\n",
    "trapezium(5,0,1,f)"
   ]
  },
  {
   "cell_type": "code",
   "execution_count": null,
   "metadata": {
    "id": "WLEbCCIYYuZq",
    "outputId": "ac0d4421-8036-4bd5-efdf-7b5cc8813cfb"
   },
   "outputs": [
    {
     "data": {
      "text/plain": [
       "0.7751937984496179"
      ]
     },
     "execution_count": 391,
     "metadata": {},
     "output_type": "execute_result"
    }
   ],
   "source": [
    "# 7\n",
    "f=lambda x:x**2+1\n",
    "n=trapezium(4,0,1,f)\n",
    "abs(4/3-n)*100/n"
   ]
  },
  {
   "cell_type": "code",
   "execution_count": null,
   "metadata": {
    "id": "8iAv0tYPYuZq",
    "outputId": "c0112243-15e7-4ec6-a771-55ddd142d1a8"
   },
   "outputs": [
    {
     "data": {
      "text/plain": [
       "4.0"
      ]
     },
     "execution_count": 392,
     "metadata": {},
     "output_type": "execute_result"
    }
   ],
   "source": [
    "# Ex.12 q.1\n",
    "f=lambda x:x**3-x+2\n",
    "trapezium(6,-1,1,f)"
   ]
  },
  {
   "cell_type": "code",
   "execution_count": null,
   "metadata": {
    "id": "4IYrw9zzYuZq",
    "outputId": "62fae690-b094-451b-b631-1baa34e5c4d0"
   },
   "outputs": [
    {
     "data": {
      "text/plain": [
       "5.609375"
      ]
     },
     "execution_count": 393,
     "metadata": {},
     "output_type": "execute_result"
    }
   ],
   "source": [
    "f(1.75)"
   ]
  },
  {
   "cell_type": "code",
   "execution_count": null,
   "metadata": {
    "id": "HY2cpLQXYuZq",
    "outputId": "ab2e296f-4fc0-4ad1-90ac-8f5d5fb3ef28"
   },
   "outputs": [
    {
     "data": {
      "text/plain": [
       "139.0"
      ]
     },
     "execution_count": 394,
     "metadata": {},
     "output_type": "execute_result"
    }
   ],
   "source": [
    "973/7"
   ]
  },
  {
   "cell_type": "code",
   "execution_count": null,
   "metadata": {
    "id": "dAw8wgCwYuZq",
    "outputId": "ca5eeef6-9710-417a-ec59-7a0a7181bfab"
   },
   "outputs": [
    {
     "data": {
      "text/plain": [
       "11.639892578125"
      ]
     },
     "execution_count": 395,
     "metadata": {},
     "output_type": "execute_result"
    }
   ],
   "source": [
    "(3*1.75**3-2*1.75**2-1.75+7)/4*1.75**2"
   ]
  },
  {
   "cell_type": "code",
   "execution_count": null,
   "metadata": {
    "id": "L8hDFsOWYuZr",
    "outputId": "27ae38df-d10a-4a33-f722-2abd92e03221"
   },
   "outputs": [
    {
     "data": {
      "text/plain": [
       "1.3106359200143975"
      ]
     },
     "execution_count": 396,
     "metadata": {},
     "output_type": "execute_result"
    }
   ],
   "source": [
    "# Ex. 15 1a\n",
    "f=lambda x:(3*x**3-2*x**2-x+7)/(4*x**2)\n",
    "fixed_point(16,f,1)"
   ]
  },
  {
   "cell_type": "code",
   "execution_count": null,
   "metadata": {
    "id": "-ZTHw3l0YuZr",
    "outputId": "46fdd154-dbfc-4e39-d6ff-9c6a7d3359bd"
   },
   "outputs": [
    {
     "data": {
      "text/plain": [
       "-0.5398352769028203"
      ]
     },
     "execution_count": 397,
     "metadata": {},
     "output_type": "execute_result"
    }
   ],
   "source": [
    "# 2a\n",
    "f=lambda x:-np.sqrt(e**x/2)\n",
    "fixed_point(25,f,-0.5)"
   ]
  },
  {
   "cell_type": "code",
   "execution_count": null,
   "metadata": {
    "id": "yqz6CCepYuZr",
    "outputId": "9801cea1-3227-4c8c-b0b0-87efbc7d901c"
   },
   "outputs": [
    {
     "data": {
      "text/plain": [
       "1.4880023039291035"
      ]
     },
     "execution_count": 398,
     "metadata": {},
     "output_type": "execute_result"
    }
   ],
   "source": [
    "# 2b\n",
    "f=lambda x:np.sqrt(e**x/2)\n",
    "fixed_point(50,f,2.6)"
   ]
  },
  {
   "cell_type": "code",
   "execution_count": null,
   "metadata": {
    "id": "B_QqXpP0YuZr",
    "outputId": "90cf4362-64da-4a73-dde0-d4a55807d513"
   },
   "outputs": [
    {
     "data": {
      "text/plain": [
       "2.617866587214737"
      ]
     },
     "execution_count": 399,
     "metadata": {},
     "output_type": "execute_result"
    }
   ],
   "source": [
    "# 2d\n",
    "f=lambda x:np.log(2*x**2)\n",
    "fixed_point(50,f,2.6)"
   ]
  },
  {
   "cell_type": "code",
   "execution_count": null,
   "metadata": {
    "id": "m1dN8pNvYuZr",
    "outputId": "8af0450e-d73b-4cc0-fb7f-71914b3ddab4"
   },
   "outputs": [
    {
     "data": {
      "text/plain": [
       "1.3660254037844384"
      ]
     },
     "execution_count": 400,
     "metadata": {},
     "output_type": "execute_result"
    }
   ],
   "source": [
    "# 3c\n",
    "f=lambda x:4*x**2-2*x**3-1\n",
    "fixed_point(50,f,1.5)"
   ]
  },
  {
   "cell_type": "code",
   "execution_count": null,
   "metadata": {
    "id": "U8CME-nFYuZy",
    "outputId": "68f6ec7f-cd2a-473d-e749-863209568c53"
   },
   "outputs": [
    {
     "data": {
      "text/plain": [
       "-0.3660254038192703"
      ]
     },
     "execution_count": 401,
     "metadata": {},
     "output_type": "execute_result"
    }
   ],
   "source": [
    "# 3d\n",
    "f=lambda x:-np.sqrt((2*x**3+x+1)/4)\n",
    "fixed_point(40,f,-0.375)"
   ]
  },
  {
   "cell_type": "code",
   "execution_count": null,
   "metadata": {
    "id": "qcglm3hNYuZy",
    "outputId": "a06b48a1-bba3-4b37-8e47-305e5ee73eee"
   },
   "outputs": [
    {
     "data": {
      "text/plain": [
       "0.7132552481770127"
      ]
     },
     "execution_count": 402,
     "metadata": {},
     "output_type": "execute_result"
    }
   ],
   "source": [
    "# ass. 1 1a\n",
    "f=lambda x:np.sqrt(np.tan(x))\n",
    "trapezium(5,0,1,f)"
   ]
  },
  {
   "cell_type": "code",
   "execution_count": null,
   "metadata": {
    "id": "QynQQC8eYuZz",
    "outputId": "875bd4f9-855e-4420-ecb9-5067aa43c3b8"
   },
   "outputs": [
    {
     "data": {
      "text/plain": [
       "0.8380513909321035"
      ]
     },
     "execution_count": 403,
     "metadata": {},
     "output_type": "execute_result"
    }
   ],
   "source": [
    "# 1b,c\n",
    "(f(1)+f(0.2)+f(0.4)+f(0.6)+f(0.8))/5"
   ]
  },
  {
   "cell_type": "code",
   "execution_count": null,
   "metadata": {
    "id": "RR3SGsQ6YuZz",
    "outputId": "651ecace-e925-44e6-9881-b7b35a7430e5"
   },
   "outputs": [
    {
     "name": "stdout",
     "output_type": "stream",
     "text": [
      "-2.5483870967741935\n",
      "-2.5468199525402313\n",
      "-2.546818276885997\n",
      "-2.5468182768840824\n"
     ]
    }
   ],
   "source": [
    "# 4a\n",
    "x=-2.5\n",
    "f=lambda x:x**3+2*x**2-x+1\n",
    "g=lambda x:3*x**2+4*x-1\n",
    "for i in range(4):\n",
    "    x-=f(x)/g(x)\n",
    "    print(x)"
   ]
  },
  {
   "cell_type": "code",
   "execution_count": null,
   "metadata": {
    "id": "nN0SN37LYuZz",
    "outputId": "b1d6c10e-8dba-4e5c-ad30-40442f20bb8c"
   },
   "outputs": [
    {
     "data": {
      "text/plain": [
       "-2.8019148618382026"
      ]
     },
     "execution_count": 405,
     "metadata": {},
     "output_type": "execute_result"
    }
   ],
   "source": [
    "# 7b\n",
    "f=lambda x:-(4*x**2+3*x-1)**(1/3)\n",
    "fixed_point(50,f,-2.5)"
   ]
  },
  {
   "cell_type": "code",
   "execution_count": null,
   "metadata": {
    "id": "kpLyyCPfYuZz",
    "outputId": "5b71854a-9c7a-4456-cc15-c4447b3fdb64"
   },
   "outputs": [
    {
     "data": {
      "text/plain": [
       "0.2469796039345382"
      ]
     },
     "execution_count": 406,
     "metadata": {},
     "output_type": "execute_result"
    }
   ],
   "source": [
    "# 7e\n",
    "f=lambda x:(1-4*x**2-x**3)/3\n",
    "fixed_point(50,f,0.25)"
   ]
  },
  {
   "cell_type": "markdown",
   "metadata": {
    "id": "i9WCXpYuYuZz"
   },
   "source": [
    "## C2 Year 13"
   ]
  },
  {
   "cell_type": "markdown",
   "metadata": {
    "id": "6FXfk1sYYuZz"
   },
   "source": [
    "### Module 1 - Mechanics - Calculus in Kinematics and Projectile Motion"
   ]
  },
  {
   "cell_type": "code",
   "execution_count": null,
   "metadata": {
    "id": "h0S3AG6hYuZz",
    "outputId": "e8b11ecd-0229-4b40-f47f-57d5fa36bd45"
   },
   "outputs": [
    {
     "data": {
      "text/plain": [
       "6.125"
      ]
     },
     "execution_count": 407,
     "metadata": {},
     "output_type": "execute_result"
    }
   ],
   "source": [
    "t=0.75\n",
    "5+3*t-2*t**2"
   ]
  },
  {
   "cell_type": "code",
   "execution_count": null,
   "metadata": {
    "id": "XVtwOJfqYuZ0",
    "outputId": "e0f075de-425b-4c80-f306-5ca20e93a97e"
   },
   "outputs": [
    {
     "data": {
      "text/plain": [
       "136"
      ]
     },
     "execution_count": 408,
     "metadata": {},
     "output_type": "execute_result"
    }
   ],
   "source": [
    "64+4*6*3"
   ]
  },
  {
   "cell_type": "code",
   "execution_count": null,
   "metadata": {
    "id": "_uwtIOPCYuZ0",
    "outputId": "da296df5-8290-4766-b243-72f1f92958b4"
   },
   "outputs": [
    {
     "data": {
      "text/plain": [
       "34.0"
      ]
     },
     "execution_count": 409,
     "metadata": {},
     "output_type": "execute_result"
    }
   ],
   "source": [
    "136/4"
   ]
  },
  {
   "cell_type": "code",
   "execution_count": null,
   "metadata": {
    "id": "2VLMLTj3YuZ0",
    "outputId": "1c6e4a5a-db56-4de6-9b99-0e6904f1551c"
   },
   "outputs": [
    {
     "data": {
      "text/plain": [
       "-8.85652526712482"
      ]
     },
     "execution_count": 410,
     "metadata": {},
     "output_type": "execute_result"
    }
   ],
   "source": [
    "t=(4+sqrt(34))/6\n",
    "2*t**3-4*t**2-3*t-2"
   ]
  },
  {
   "cell_type": "code",
   "execution_count": null,
   "metadata": {
    "id": "ErG8KKzaYuZ0",
    "outputId": "a9aa4988-c4d3-4bf5-d7aa-99337e3dd3d0"
   },
   "outputs": [
    {
     "data": {
      "text/plain": [
       "52"
      ]
     },
     "execution_count": 411,
     "metadata": {},
     "output_type": "execute_result"
    }
   ],
   "source": [
    "t=5\n",
    "12*t-8"
   ]
  },
  {
   "cell_type": "code",
   "execution_count": null,
   "metadata": {
    "id": "va2RcaOqYuZ0",
    "outputId": "f4fd555a-ac17-4a00-bbcf-1c10a15c3123"
   },
   "outputs": [
    {
     "data": {
      "text/plain": [
       "90.50966799187809"
      ]
     },
     "execution_count": 412,
     "metadata": {},
     "output_type": "execute_result"
    }
   ],
   "source": [
    "t=sqrt(32)\n",
    "24*t-0.25*t**3"
   ]
  },
  {
   "cell_type": "code",
   "execution_count": null,
   "metadata": {
    "id": "nOyKWt2NYuZ0",
    "outputId": "7ce12b4a-bc39-4ab5-a5ac-7770b8973d31"
   },
   "outputs": [
    {
     "data": {
      "text/plain": [
       "-48.366460663429805"
      ]
     },
     "execution_count": 413,
     "metadata": {},
     "output_type": "execute_result"
    }
   ],
   "source": [
    "import numpy as np\n",
    "np.degrees(np.arctan(-6/16*3))"
   ]
  },
  {
   "cell_type": "code",
   "execution_count": null,
   "metadata": {
    "id": "vY6z6AsSYuZ0",
    "outputId": "b91795b2-bdaa-443c-988c-6328b28d8308"
   },
   "outputs": [
    {
     "data": {
      "text/plain": [
       "19.100482832756988"
      ]
     },
     "execution_count": 414,
     "metadata": {},
     "output_type": "execute_result"
    }
   ],
   "source": [
    "x=32*0.11\n",
    "y=512*0.11/3\n",
    "(x**2+y**2)**0.5"
   ]
  },
  {
   "cell_type": "code",
   "execution_count": null,
   "metadata": {
    "id": "vwdMM-0MYuZ1",
    "outputId": "95b9d40a-c09c-4e54-ef94-2d230f414287"
   },
   "outputs": [
    {
     "data": {
      "text/plain": [
       "33.75"
      ]
     },
     "execution_count": 415,
     "metadata": {},
     "output_type": "execute_result"
    }
   ],
   "source": [
    "5/3/4*81"
   ]
  },
  {
   "cell_type": "code",
   "execution_count": null,
   "metadata": {
    "id": "qqPb6FG_YuZ1",
    "outputId": "2085e5b9-fb20-41ed-bcc6-8c4d5814a138"
   },
   "outputs": [
    {
     "data": {
      "text/plain": [
       "26.56505117707799"
      ]
     },
     "execution_count": 416,
     "metadata": {},
     "output_type": "execute_result"
    }
   ],
   "source": [
    "np.degrees(np.arctan(1/2))"
   ]
  },
  {
   "cell_type": "code",
   "execution_count": null,
   "metadata": {
    "id": "5bVPUEsdYuZ1",
    "outputId": "e650a845-44d9-44c5-9b7a-85802b20ac01"
   },
   "outputs": [
    {
     "data": {
      "text/plain": [
       "3.375"
      ]
     },
     "execution_count": 417,
     "metadata": {},
     "output_type": "execute_result"
    }
   ],
   "source": [
    "t=1.5\n",
    "t-1/3*t**3+3"
   ]
  },
  {
   "cell_type": "code",
   "execution_count": null,
   "metadata": {
    "id": "AGQwxwzFYuZ1",
    "outputId": "00c65da4-9d09-466c-91c4-f8f81075bee2"
   },
   "outputs": [
    {
     "name": "stdout",
     "output_type": "stream",
     "text": [
      "5.179587338775165\n"
     ]
    }
   ],
   "source": [
    "a=(3,-1.5)\n",
    "b=(4.75,3.375)\n",
    "print((np.abs(a[0]-b[0])**2+np.abs(a[1]-b[1])**2)**(1/2))"
   ]
  },
  {
   "cell_type": "code",
   "execution_count": null,
   "metadata": {
    "id": "buRH09OOYuZ1",
    "outputId": "9f86511d-8c2b-4fca-e9eb-d285f1d1f9e2"
   },
   "outputs": [
    {
     "data": {
      "text/plain": [
       "24.693877551020403"
      ]
     },
     "execution_count": 419,
     "metadata": {},
     "output_type": "execute_result"
    }
   ],
   "source": [
    "y=22*np.sin(np.radians(15))\n",
    "x=22*np.cos(np.radians(15))\n",
    "g=9.8\n",
    "t=y/g\n",
    "t*2*x"
   ]
  },
  {
   "cell_type": "code",
   "execution_count": null,
   "metadata": {
    "id": "Vn2HTSpMYuZ1",
    "outputId": "310edd01-34c9-4929-d7b0-e39fe77c5703"
   },
   "outputs": [
    {
     "data": {
      "text/plain": [
       "3.1225840612272533"
      ]
     },
     "execution_count": 420,
     "metadata": {},
     "output_type": "execute_result"
    }
   ],
   "source": [
    "s=19\n",
    "x=s*np.cos(np.radians(30))\n",
    "y=s*np.sin(np.radians(30))\n",
    "t=25/x\n",
    "y-=t*g\n",
    "y=s*np.sin(np.radians(30))-np.abs(y)\n",
    "t=y/g\n",
    "y=s*np.sin(np.radians(30))\n",
    "y-=t*g/2\n",
    "y*t"
   ]
  },
  {
   "cell_type": "code",
   "execution_count": null,
   "metadata": {
    "id": "2u9Po0_5YuZ1",
    "outputId": "473b2602-3657-4061-ed6f-4d44405ec85b"
   },
   "outputs": [
    {
     "data": {
      "text/plain": [
       "1.79"
      ]
     },
     "execution_count": 421,
     "metadata": {},
     "output_type": "execute_result"
    }
   ],
   "source": [
    "2.7-0.91"
   ]
  },
  {
   "cell_type": "code",
   "execution_count": null,
   "metadata": {
    "id": "QxCQAT5NYuZ1",
    "outputId": "caaa2a38-a1b3-4d89-e410-fa49c28b9f91"
   },
   "outputs": [
    {
     "data": {
      "text/plain": [
       "25.865292059695236"
      ]
     },
     "execution_count": 422,
     "metadata": {},
     "output_type": "execute_result"
    }
   ],
   "source": [
    "(12.5+6.7)/np.sqrt(2.7/4.9)"
   ]
  },
  {
   "cell_type": "code",
   "execution_count": null,
   "metadata": {
    "id": "_TlhN2YkYuZ1",
    "outputId": "98204207-598f-4c32-f907-72e93db0af16"
   },
   "outputs": [
    {
     "data": {
      "text/plain": [
       "159.50888899603683"
      ]
     },
     "execution_count": 423,
     "metadata": {},
     "output_type": "execute_result"
    }
   ],
   "source": [
    "45*4.093*np.sqrt(3)/2"
   ]
  },
  {
   "cell_type": "code",
   "execution_count": null,
   "metadata": {
    "id": "Bopkdx51YuZ2",
    "outputId": "e32c40ad-facc-49de-dfd9-2685072ab7df"
   },
   "outputs": [
    {
     "data": {
      "text/plain": [
       "88.24167639450262"
      ]
     },
     "execution_count": 424,
     "metadata": {},
     "output_type": "execute_result"
    }
   ],
   "source": [
    "np.degrees(np.arctan((400-4*19.6/25*(19.6/25+1.5))**0.5-20/(-39.2/25)))"
   ]
  },
  {
   "cell_type": "code",
   "execution_count": null,
   "metadata": {
    "id": "XsCR4oKaYuZ2",
    "outputId": "354f3e24-2a61-4151-b468-df6e1102c50f"
   },
   "outputs": [
    {
     "data": {
      "text/plain": [
       "42.0"
      ]
     },
     "execution_count": 425,
     "metadata": {},
     "output_type": "execute_result"
    }
   ],
   "source": [
    "5*g*6/7"
   ]
  },
  {
   "cell_type": "code",
   "execution_count": null,
   "metadata": {
    "id": "-fvQ5dG_YuZ2",
    "outputId": "5835e4fb-34d8-4177-ed6f-2e1e85fdec4d"
   },
   "outputs": [
    {
     "data": {
      "text/plain": [
       "0.18367346938775508"
      ]
     },
     "execution_count": 426,
     "metadata": {},
     "output_type": "execute_result"
    }
   ],
   "source": [
    "27/15/g"
   ]
  },
  {
   "cell_type": "code",
   "execution_count": null,
   "metadata": {
    "id": "MCjefnebYuZ2",
    "outputId": "3a03618f-9ad0-4091-9eb6-573961c2998c"
   },
   "outputs": [
    {
     "data": {
      "text/plain": [
       "48.269999999999996"
      ]
     },
     "execution_count": 427,
     "metadata": {},
     "output_type": "execute_result"
    }
   ],
   "source": [
    "30*1.609"
   ]
  },
  {
   "cell_type": "markdown",
   "metadata": {
    "id": "WLLvvcXUYuZ2"
   },
   "source": [
    "### Module 2 - Friction, Moments and Equilibrium of Rigid Bodies"
   ]
  },
  {
   "cell_type": "code",
   "execution_count": null,
   "metadata": {
    "id": "QleXJG1TYuZ2",
    "outputId": "2c214b61-5d3a-4fd6-bfa4-61dff20334d1"
   },
   "outputs": [
    {
     "data": {
      "text/plain": [
       "0.11940298507462686"
      ]
     },
     "execution_count": 428,
     "metadata": {},
     "output_type": "execute_result"
    }
   ],
   "source": [
    "8/67"
   ]
  },
  {
   "cell_type": "code",
   "execution_count": null,
   "metadata": {
    "id": "-_MTKNVAYuZ3",
    "outputId": "854bd8e8-6114-4447-e88d-d8159b717900"
   },
   "outputs": [
    {
     "data": {
      "text/plain": [
       "1.0478531180530268"
      ]
     },
     "execution_count": 429,
     "metadata": {},
     "output_type": "execute_result"
    }
   ],
   "source": [
    "np.sqrt(2/1.8215)"
   ]
  },
  {
   "cell_type": "code",
   "execution_count": null,
   "metadata": {
    "id": "PAoEFx2bYuZ3",
    "outputId": "dbd2e3bd-58e6-4ff8-adcd-03ce3a3f0439"
   },
   "outputs": [
    {
     "data": {
      "text/plain": [
       "66.64000000000001"
      ]
     },
     "execution_count": 430,
     "metadata": {},
     "output_type": "execute_result"
    }
   ],
   "source": [
    "17*0.4*g"
   ]
  },
  {
   "cell_type": "code",
   "execution_count": null,
   "metadata": {
    "id": "ALXUgkDCYuZ3",
    "outputId": "eb0cbc92-4e12-4903-c15f-83419797a6d0"
   },
   "outputs": [
    {
     "data": {
      "text/plain": [
       "14.500754993423897"
      ]
     },
     "execution_count": 431,
     "metadata": {},
     "output_type": "execute_result"
    }
   ],
   "source": [
    "64*np.sin(np.radians(30))+25*np.sin(np.radians(45))-36*np.sin(np.radians(120))-4"
   ]
  },
  {
   "cell_type": "code",
   "execution_count": null,
   "metadata": {
    "id": "EjFR3uMSYuZ3",
    "outputId": "6384fc13-bf78-4413-9d9e-023a354d922b"
   },
   "outputs": [
    {
     "data": {
      "text/plain": [
       "686"
      ]
     },
     "execution_count": 432,
     "metadata": {},
     "output_type": "execute_result"
    }
   ],
   "source": [
    "98*7"
   ]
  },
  {
   "cell_type": "code",
   "execution_count": null,
   "metadata": {
    "id": "4njDltaxYuZ3",
    "outputId": "d5629e32-8532-46f2-bd36-27336eb9e9b1"
   },
   "outputs": [
    {
     "data": {
      "text/plain": [
       "3.9200000000000004"
      ]
     },
     "execution_count": 433,
     "metadata": {},
     "output_type": "execute_result"
    }
   ],
   "source": [
    "0.4*g"
   ]
  },
  {
   "cell_type": "code",
   "execution_count": null,
   "metadata": {
    "id": "y36BEU5uYuZ3",
    "outputId": "d9fe4826-055a-4b0a-b9bc-e990afe2d96d"
   },
   "outputs": [
    {
     "data": {
      "text/plain": [
       "11.76"
      ]
     },
     "execution_count": 434,
     "metadata": {},
     "output_type": "execute_result"
    }
   ],
   "source": [
    "1.2*g"
   ]
  },
  {
   "cell_type": "code",
   "execution_count": null,
   "metadata": {
    "id": "keAiS8CvYuZ3",
    "outputId": "903b4f1c-5a0b-4932-adaa-a277b4ae87bd"
   },
   "outputs": [
    {
     "data": {
      "text/plain": [
       "343.0"
      ]
     },
     "execution_count": 435,
     "metadata": {},
     "output_type": "execute_result"
    }
   ],
   "source": [
    "35*g"
   ]
  },
  {
   "cell_type": "code",
   "execution_count": null,
   "metadata": {
    "id": "3ytEPaWUYuZ4",
    "outputId": "e29c9084-dd68-4503-c7f0-ec532d21e285"
   },
   "outputs": [
    {
     "data": {
      "text/plain": [
       "8.833333333333334"
      ]
     },
     "execution_count": 436,
     "metadata": {},
     "output_type": "execute_result"
    }
   ],
   "source": [
    "53/6"
   ]
  },
  {
   "cell_type": "code",
   "execution_count": null,
   "metadata": {
    "id": "Glmpo3ICYuZ4",
    "outputId": "b9d57385-3688-429d-cec0-97cabe015604"
   },
   "outputs": [
    {
     "data": {
      "text/plain": [
       "4.571428571428571"
      ]
     },
     "execution_count": 437,
     "metadata": {},
     "output_type": "execute_result"
    }
   ],
   "source": [
    "32/7"
   ]
  },
  {
   "cell_type": "code",
   "execution_count": null,
   "metadata": {
    "id": "7eLrwVivYuZ4",
    "outputId": "91dfd007-1c46-4482-c29e-0021e1023c9d"
   },
   "outputs": [
    {
     "data": {
      "text/plain": [
       "5389.185421335442"
      ]
     },
     "execution_count": 438,
     "metadata": {},
     "output_type": "execute_result"
    }
   ],
   "source": [
    "2000*np.sqrt(3)/np.cos(np.radians(50))"
   ]
  },
  {
   "cell_type": "code",
   "execution_count": null,
   "metadata": {
    "id": "hLkP3GG7YuZ4"
   },
   "outputs": [],
   "source": [
    "t=35*g*np.cos(np.radians(15))/np.sqrt(2)"
   ]
  },
  {
   "cell_type": "code",
   "execution_count": null,
   "metadata": {
    "id": "NgXuypn1YuZ4",
    "outputId": "19bd4879-ea2a-4a4a-aebb-a1ec85ae4492"
   },
   "outputs": [
    {
     "data": {
      "text/plain": [
       "1.131370849898476"
      ]
     },
     "execution_count": 440,
     "metadata": {},
     "output_type": "execute_result"
    }
   ],
   "source": [
    "np.sqrt(1.28)"
   ]
  },
  {
   "cell_type": "code",
   "execution_count": null,
   "metadata": {
    "id": "pGWBr_COYuZ4",
    "outputId": "f4a833ae-9d9b-43d9-fe20-11654d3fc0af"
   },
   "outputs": [
    {
     "data": {
      "text/plain": [
       "50.1039093610171"
      ]
     },
     "execution_count": 441,
     "metadata": {},
     "output_type": "execute_result"
    }
   ],
   "source": [
    "s=t/2\n",
    "r=35*g-np.sqrt(3)/2*t\n",
    "np.degrees(np.arctan(r/s))"
   ]
  },
  {
   "cell_type": "code",
   "execution_count": null,
   "metadata": {
    "id": "q5a74ZKNYuZ4",
    "outputId": "e5c401e9-dffb-47f0-e3f7-e64ae1cc3bd0"
   },
   "outputs": [
    {
     "data": {
      "text/plain": [
       "73.5"
      ]
     },
     "execution_count": 442,
     "metadata": {},
     "output_type": "execute_result"
    }
   ],
   "source": [
    "15*g*1/2"
   ]
  },
  {
   "cell_type": "code",
   "execution_count": null,
   "metadata": {
    "id": "RtYIQW_iYuZ5",
    "outputId": "7a9d246d-a18a-4da0-a81d-a83eedc09802"
   },
   "outputs": [
    {
     "data": {
      "text/plain": [
       "54.347056305155675"
      ]
     },
     "execution_count": 443,
     "metadata": {},
     "output_type": "execute_result"
    }
   ],
   "source": [
    "t=15*g*np.sqrt(1/2)*np.sqrt(0.32)/np.sqrt(1.28)/np.cos(np.radians(17))\n",
    "t"
   ]
  },
  {
   "cell_type": "code",
   "execution_count": null,
   "metadata": {
    "id": "Pmudi4EqYuZ5",
    "outputId": "4d5a8d5b-f825-4840-ed17-129d9c7212de"
   },
   "outputs": [
    {
     "data": {
      "text/plain": [
       "(121.48560254360576, 47.98560254360577)"
      ]
     },
     "execution_count": 444,
     "metadata": {},
     "output_type": "execute_result"
    }
   ],
   "source": [
    "s=15*g-np.cos(np.radians(62))*t\n",
    "r=np.cos(np.radians(28))*t\n",
    "s,r"
   ]
  },
  {
   "cell_type": "code",
   "execution_count": null,
   "metadata": {
    "id": "rlOxGfBVYuZ5"
   },
   "outputs": [],
   "source": [
    "t=17*g*0.85/2.05/np.sin(np.radians(35))"
   ]
  },
  {
   "cell_type": "code",
   "execution_count": null,
   "metadata": {
    "id": "SQHQQleSYuZ5",
    "outputId": "8f8fd671-6001-4075-8c49-b92948471659"
   },
   "outputs": [
    {
     "data": {
      "text/plain": [
       "138.71942577937685"
      ]
     },
     "execution_count": 446,
     "metadata": {},
     "output_type": "execute_result"
    }
   ],
   "source": [
    "s=t*np.sin(np.radians(35))-17*g\n",
    "r=-t*np.cos(np.radians(35))\n",
    "np.sqrt(s**2+r**2)"
   ]
  },
  {
   "cell_type": "code",
   "execution_count": null,
   "metadata": {
    "id": "scOvRyctYuZ5",
    "outputId": "c31c2793-5bfc-4c6d-f815-c4fb553b9747"
   },
   "outputs": [
    {
     "data": {
      "text/plain": [
       "109.80000000000001"
      ]
     },
     "execution_count": 447,
     "metadata": {},
     "output_type": "execute_result"
    }
   ],
   "source": [
    "28*1.35+80*0.9"
   ]
  },
  {
   "cell_type": "code",
   "execution_count": null,
   "metadata": {
    "id": "pkZcIGjTYuZ5",
    "outputId": "ed576c1e-4db1-4d28-9ab5-070ff1ca2163"
   },
   "outputs": [
    {
     "data": {
      "text/plain": [
       "12.2"
      ]
     },
     "execution_count": 448,
     "metadata": {},
     "output_type": "execute_result"
    }
   ],
   "source": [
    "109.8/9"
   ]
  },
  {
   "cell_type": "code",
   "execution_count": null,
   "metadata": {
    "id": "daK6M3LSYuZ5",
    "outputId": "9cb60fe3-2740-475c-c666-6e8b5693300f"
   },
   "outputs": [
    {
     "data": {
      "text/plain": [
       "0.05394116688590463"
      ]
     },
     "execution_count": 449,
     "metadata": {},
     "output_type": "execute_result"
    }
   ],
   "source": [
    "122/3/np.cos(np.radians(20))/28/g*np.cos(np.radians(70))"
   ]
  },
  {
   "cell_type": "code",
   "execution_count": null,
   "metadata": {
    "id": "jGS8Kjh3YuZ6",
    "outputId": "8f295299-b2e3-44de-9081-d77bc3861af1"
   },
   "outputs": [
    {
     "data": {
      "text/plain": [
       "0.13705052031011322"
      ]
     },
     "execution_count": 450,
     "metadata": {},
     "output_type": "execute_result"
    }
   ],
   "source": [
    "109.8*g*np.cos(np.radians(70))/np.cos(np.radians(20))/2.7/108/g"
   ]
  },
  {
   "cell_type": "code",
   "execution_count": null,
   "metadata": {
    "id": "2kb1spsoYuZ6",
    "outputId": "bdfb10f6-5ce9-4808-ec82-42e3bf1e810e"
   },
   "outputs": [
    {
     "data": {
      "text/plain": [
       "6.800000000000001"
      ]
     },
     "execution_count": 451,
     "metadata": {},
     "output_type": "execute_result"
    }
   ],
   "source": [
    "17*0.4"
   ]
  },
  {
   "cell_type": "code",
   "execution_count": null,
   "metadata": {
    "id": "FMBwwbDJYuZ6",
    "outputId": "3e14390f-4f8b-4a71-e128-bcf3d1d6f665"
   },
   "outputs": [
    {
     "data": {
      "text/plain": [
       "9.076908362284207"
      ]
     },
     "execution_count": 452,
     "metadata": {},
     "output_type": "execute_result"
    }
   ],
   "source": [
    "(6.8*g-17*g*np.sin(np.radians(20)))*np.cos(np.radians(20))"
   ]
  },
  {
   "cell_type": "code",
   "execution_count": null,
   "metadata": {
    "id": "bDqRkPHvYuZ6",
    "outputId": "55f61af9-b48b-46cb-c023-f89ff8d4f6c0"
   },
   "outputs": [
    {
     "data": {
      "text/plain": [
       "70.9168067577948"
      ]
     },
     "execution_count": 453,
     "metadata": {},
     "output_type": "execute_result"
    }
   ],
   "source": [
    "0.4*17*g/np.cos(np.radians(20))"
   ]
  },
  {
   "cell_type": "code",
   "execution_count": null,
   "metadata": {
    "id": "N3oNyijSYuZ6",
    "outputId": "5d438b0b-263a-428a-c358-6d07aa441ea4"
   },
   "outputs": [
    {
     "data": {
      "text/plain": [
       "0.7589511705150667"
      ]
     },
     "execution_count": 454,
     "metadata": {},
     "output_type": "execute_result"
    }
   ],
   "source": [
    "pvalue(100, 3, 0.025)"
   ]
  },
  {
   "cell_type": "markdown",
   "metadata": {
    "id": "fGxr7dG4YuZ6"
   },
   "source": [
    "### Module 3 - Normal Distribution"
   ]
  },
  {
   "cell_type": "code",
   "execution_count": null,
   "metadata": {
    "id": "-GQAUxP7YuZ6",
    "outputId": "4cc9b949-9476-4436-a9f8-061aaf187534"
   },
   "outputs": [
    {
     "data": {
      "text/plain": [
       "2.178918998475129"
      ]
     },
     "execution_count": 455,
     "metadata": {},
     "output_type": "execute_result"
    }
   ],
   "source": [
    "# Assessment 1\n",
    "(30/2.9)**(1/3)"
   ]
  },
  {
   "cell_type": "code",
   "execution_count": null,
   "metadata": {
    "id": "6TK7wX1UYuZ7",
    "outputId": "e49dd88d-ced7-4550-8a62-c7f7b2724606"
   },
   "outputs": [
    {
     "data": {
      "text/plain": [
       "2.6875920793800074"
      ]
     },
     "execution_count": 456,
     "metadata": {},
     "output_type": "execute_result"
    }
   ],
   "source": [
    "(30/2.3*4)**(1/4)"
   ]
  },
  {
   "cell_type": "code",
   "execution_count": null,
   "metadata": {
    "id": "V_FwVw4uYuZ7",
    "outputId": "38da66d8-d988-4128-b00c-c53f23200df7"
   },
   "outputs": [
    {
     "data": {
      "text/plain": [
       "3.4270109994416518"
      ]
     },
     "execution_count": 457,
     "metadata": {},
     "output_type": "execute_result"
    }
   ],
   "source": [
    "(400/2.9)**(1/4)"
   ]
  },
  {
   "cell_type": "code",
   "execution_count": null,
   "metadata": {
    "id": "laO2eEH4YuZ7",
    "outputId": "6d3807ba-b63b-4152-b9a3-02d941c10595"
   },
   "outputs": [
    {
     "data": {
      "text/plain": [
       "3.871332129502342"
      ]
     },
     "execution_count": 458,
     "metadata": {},
     "output_type": "execute_result"
    }
   ],
   "source": [
    "(2000/2.3)**(1/5)"
   ]
  },
  {
   "cell_type": "code",
   "execution_count": null,
   "metadata": {
    "id": "w4g1o10fYuZ7",
    "outputId": "e8fe3fd5-7bf2-44df-a777-38af3bc6c0f2"
   },
   "outputs": [
    {
     "data": {
      "text/plain": [
       "0.8144271909999159"
      ]
     },
     "execution_count": 459,
     "metadata": {},
     "output_type": "execute_result"
    }
   ],
   "source": [
    "(np.sqrt(500)-2)/25"
   ]
  },
  {
   "cell_type": "code",
   "execution_count": null,
   "metadata": {
    "id": "HesrttCEYuZ7",
    "outputId": "a5aac47d-f64d-4444-e358-ee8dbe596d80"
   },
   "outputs": [
    {
     "data": {
      "text/plain": [
       "649.0"
      ]
     },
     "execution_count": 460,
     "metadata": {},
     "output_type": "execute_result"
    }
   ],
   "source": [
    "2596/4"
   ]
  },
  {
   "cell_type": "code",
   "execution_count": null,
   "metadata": {
    "id": "V-_D7wYgYuZ7",
    "outputId": "13fba48e-abcc-4257-98d3-43d3fbea4fd9"
   },
   "outputs": [
    {
     "data": {
      "text/plain": [
       "2.165031893714266"
      ]
     },
     "execution_count": 461,
     "metadata": {},
     "output_type": "execute_result"
    }
   ],
   "source": [
    "(np.sqrt(649)+7)/15"
   ]
  },
  {
   "cell_type": "code",
   "execution_count": null,
   "metadata": {
    "id": "Na4w-RPwYuZ8",
    "outputId": "8d7f02ef-1621-4869-cd41-0e140ec13d78"
   },
   "outputs": [
    {
     "data": {
      "text/plain": [
       "169.0"
      ]
     },
     "execution_count": 462,
     "metadata": {},
     "output_type": "execute_result"
    }
   ],
   "source": [
    "507/3"
   ]
  },
  {
   "cell_type": "code",
   "execution_count": null,
   "metadata": {
    "id": "qBjm0uSpYuZ8",
    "outputId": "3f6ff4cd-dcca-4dbe-b437-951e963570c8"
   },
   "outputs": [
    {
     "data": {
      "text/plain": [
       "34.058772731852805"
      ]
     },
     "execution_count": 463,
     "metadata": {},
     "output_type": "execute_result"
    }
   ],
   "source": [
    "t=5\n",
    "f=6*t+4\n",
    "g=2\n",
    "np.sqrt(f**2+g**2)"
   ]
  },
  {
   "cell_type": "code",
   "execution_count": null,
   "metadata": {
    "id": "g-zjMvHGYuZ8",
    "outputId": "3f844a93-ee0c-4a2e-8382-373e1a146e75"
   },
   "outputs": [
    {
     "data": {
      "text/plain": [
       "7301"
      ]
     },
     "execution_count": 464,
     "metadata": {},
     "output_type": "execute_result"
    }
   ],
   "source": [
    "49**2+49*25*4"
   ]
  },
  {
   "cell_type": "code",
   "execution_count": null,
   "metadata": {
    "id": "jRLqc6JAYuZ8",
    "outputId": "fdf784eb-36a9-4a24-e4c3-abfb7af2ddf5"
   },
   "outputs": [
    {
     "data": {
      "text/plain": [
       "149.0"
      ]
     },
     "execution_count": 465,
     "metadata": {},
     "output_type": "execute_result"
    }
   ],
   "source": [
    "7301/49"
   ]
  },
  {
   "cell_type": "code",
   "execution_count": null,
   "metadata": {
    "id": "Fda7OCc9YuZ8",
    "outputId": "483db770-3f24-4b19-a465-cc623bf7ef77"
   },
   "outputs": [
    {
     "data": {
      "text/plain": [
       "10.171896829695264"
      ]
     },
     "execution_count": 466,
     "metadata": {},
     "output_type": "execute_result"
    }
   ],
   "source": [
    "(np.sqrt(149)-7)/14+projtime(19.6,30)"
   ]
  },
  {
   "cell_type": "code",
   "execution_count": null,
   "metadata": {
    "id": "i91NhlBOYuZ8",
    "outputId": "96c91c77-8dda-4ea3-d6e6-57f6733c5cab"
   },
   "outputs": [
    {
     "data": {
      "text/plain": [
       "-16.28011658294076"
      ]
     },
     "execution_count": 467,
     "metadata": {},
     "output_type": "execute_result"
    }
   ],
   "source": [
    "t=2.42141\n",
    "y=g*t-9.8\n",
    "x=19.6*np.cos(np.radians(30))\n",
    "np.degrees(np.arctan(y/x))"
   ]
  },
  {
   "cell_type": "code",
   "execution_count": null,
   "metadata": {
    "id": "VGc3hgS-YuZ8",
    "outputId": "f0663962-83d2-42cb-90cc-3444f86f4011"
   },
   "outputs": [
    {
     "data": {
      "text/plain": [
       "11.499778169998917"
      ]
     },
     "execution_count": 468,
     "metadata": {},
     "output_type": "execute_result"
    }
   ],
   "source": [
    "np.sqrt(4/9.8)*18"
   ]
  },
  {
   "cell_type": "code",
   "execution_count": null,
   "metadata": {
    "id": "0eECg7S1YuZ8",
    "outputId": "dd382874-2ef3-4e5c-ab9a-72e69e3aba5d"
   },
   "outputs": [
    {
     "data": {
      "text/plain": [
       "183.34649444186346"
      ]
     },
     "execution_count": 469,
     "metadata": {},
     "output_type": "execute_result"
    }
   ],
   "source": [
    "np.degrees(3.2)"
   ]
  },
  {
   "cell_type": "markdown",
   "metadata": {
    "id": "rvdMtbZOYuZ9"
   },
   "source": [
    "### Module 4 - Vectors and Vector Algebra"
   ]
  },
  {
   "cell_type": "code",
   "execution_count": null,
   "metadata": {
    "id": "IonFHYYQYuZ9",
    "outputId": "d70dda9c-8360-4520-a626-fd937e299b3f"
   },
   "outputs": [
    {
     "data": {
      "text/plain": [
       "-0.3417430630867044"
      ]
     },
     "execution_count": 470,
     "metadata": {},
     "output_type": "execute_result"
    }
   ],
   "source": [
    "-4/pythagorean(4,11)"
   ]
  },
  {
   "cell_type": "code",
   "execution_count": null,
   "metadata": {
    "id": "ql9f88-OYuZ9",
    "outputId": "6dd130c7-bf50-4f1f-c539-962fcb7cfda0"
   },
   "outputs": [
    {
     "data": {
      "text/plain": [
       "0.1684303842133038"
      ]
     },
     "execution_count": 471,
     "metadata": {},
     "output_type": "execute_result"
    }
   ],
   "source": [
    "2/pythagorean3(4,11,2)"
   ]
  },
  {
   "cell_type": "code",
   "execution_count": null,
   "metadata": {
    "id": "IHhMLEtGYuZ9",
    "outputId": "2c8944e8-14da-4fda-8135-05f0ef5bc243"
   },
   "outputs": [
    {
     "data": {
      "text/plain": [
       "-0.39391929857916763"
      ]
     },
     "execution_count": 472,
     "metadata": {},
     "output_type": "execute_result"
    }
   ],
   "source": [
    "-3/pythagorean(7,3)"
   ]
  },
  {
   "cell_type": "code",
   "execution_count": null,
   "metadata": {
    "id": "EqhZJXt_YuZ9",
    "outputId": "592ac508-37d4-4a04-f90f-81c0fd46253c"
   },
   "outputs": [
    {
     "data": {
      "text/plain": [
       "71.56505117707799"
      ]
     },
     "execution_count": 473,
     "metadata": {},
     "output_type": "execute_result"
    }
   ],
   "source": [
    "360-np.degrees(np.arctan(3/7))\n",
    "np.degrees(np.arctan(3))"
   ]
  },
  {
   "cell_type": "code",
   "execution_count": null,
   "metadata": {
    "id": "AGZWIAznYuZ9",
    "outputId": "d0da28ac-bccc-44f3-d3e0-58b21fcc8665"
   },
   "outputs": [
    {
     "data": {
      "text/plain": [
       "413.99999999999994"
      ]
     },
     "execution_count": 474,
     "metadata": {},
     "output_type": "execute_result"
    }
   ],
   "source": [
    "pythagorean3(14,7,13)**2"
   ]
  },
  {
   "cell_type": "code",
   "execution_count": null,
   "metadata": {
    "id": "mdSzzpYpYuZ9",
    "outputId": "8e22359a-4935-45f6-95af-f779152f50c6"
   },
   "outputs": [
    {
     "data": {
      "text/plain": [
       "3.1622776601683795"
      ]
     },
     "execution_count": 475,
     "metadata": {},
     "output_type": "execute_result"
    }
   ],
   "source": [
    "pythagorean(1,3)"
   ]
  },
  {
   "cell_type": "code",
   "execution_count": null,
   "metadata": {
    "id": "FuciNYmyYuZ9",
    "outputId": "4257aa54-26b9-4b88-e3e0-3d3d17d01301"
   },
   "outputs": [
    {
     "data": {
      "text/plain": [
       "3.2152776247287935"
      ]
     },
     "execution_count": 476,
     "metadata": {},
     "output_type": "execute_result"
    }
   ],
   "source": [
    "# ex.10 q.4\n",
    "p=[2,4.25]\n",
    "q=[-3/7,15/7]\n",
    "pythagorean(p[0]-q[0],p[1]-q[1])"
   ]
  },
  {
   "cell_type": "code",
   "execution_count": null,
   "metadata": {
    "id": "Hg9NGaghYuZ-",
    "outputId": "8741e9b4-0044-4aaa-d433-e727e0582d83"
   },
   "outputs": [
    {
     "data": {
      "text/plain": [
       "0.45141622964513645"
      ]
     },
     "execution_count": 477,
     "metadata": {},
     "output_type": "execute_result"
    }
   ],
   "source": [
    "t=np.arcsin(0.75)/2\n",
    "np.sin(2*t)/(np.cos(2*t)+1)"
   ]
  },
  {
   "cell_type": "code",
   "execution_count": null,
   "metadata": {
    "id": "O_KMSfvsYuZ-",
    "outputId": "6654c994-4d71-4384-f11a-5d0e1715b558"
   },
   "outputs": [
    {
     "data": {
      "text/plain": [
       "1.8477590650225735"
      ]
     },
     "execution_count": 478,
     "metadata": {},
     "output_type": "execute_result"
    }
   ],
   "source": [
    "# ass.2 q.3\n",
    "c=[1+1/np.sqrt(2),1+1/np.sqrt(2)]\n",
    "e=[0,1+np.sqrt(2)]\n",
    "pythagorean(abs(c[0]-e[0]),abs(c[1]-e[1]))"
   ]
  },
  {
   "cell_type": "code",
   "execution_count": null,
   "metadata": {
    "id": "2_EjrKBTYuZ-",
    "outputId": "1cf36716-169c-4764-cc7d-65addcb3fc69"
   },
   "outputs": [
    {
     "data": {
      "text/plain": [
       "37.69615364994153"
      ]
     },
     "execution_count": 479,
     "metadata": {},
     "output_type": "execute_result"
    }
   ],
   "source": [
    "# q.4\n",
    "c=[1,2]\n",
    "d=[30,-6]\n",
    "e=[36,-12]\n",
    "cd=pythagorean(abs(c[0]-d[0]),abs(c[1]-d[1]))\n",
    "de=pythagorean(abs(d[0]-e[0]),abs(d[1]-e[1]))\n",
    "ce=pythagorean(abs(c[0]-e[0]),abs(c[1]-e[1]))\n",
    "ce"
   ]
  },
  {
   "cell_type": "markdown",
   "metadata": {
    "id": "rEeF0cxzYuZ-"
   },
   "source": [
    "### Module 6 - Integration Methods"
   ]
  },
  {
   "cell_type": "code",
   "execution_count": null,
   "metadata": {
    "id": "AWMVlK5IYuZ-",
    "outputId": "42252b03-9312-47db-fcea-d4737bc65333"
   },
   "outputs": [
    {
     "data": {
      "text/plain": [
       "152.40959258449737"
      ]
     },
     "execution_count": 480,
     "metadata": {},
     "output_type": "execute_result"
    }
   ],
   "source": [
    "n=0\n",
    "for i in range(2,52):\n",
    "    n+=np.log(i)\n",
    "n"
   ]
  }
 ],
 "metadata": {
  "colab": {
   "provenance": []
  },
  "kernelspec": {
   "display_name": "Python 3",
   "language": "python",
   "name": "python3"
  },
  "language_info": {
   "codemirror_mode": "mathematica",
   "file_extension": ".m",
   "mimetype": "application/vnd.wolfram.m",
   "name": "python",
   "pygments_lexer": "mathematica",
   "version": "3.12.3"
  }
 },
 "nbformat": 4,
 "nbformat_minor": 1
}
