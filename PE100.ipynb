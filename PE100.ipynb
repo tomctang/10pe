{
 "cells": [
  {
   "cell_type": "markdown",
   "metadata": {},
   "source": [
    "# PE Q76-100"
   ]
  },
  {
   "cell_type": "code",
   "execution_count": null,
   "metadata": {},
   "outputs": [],
   "source": [
    "%run PE_pre_running.py"
   ]
  },
  {
   "cell_type": "markdown",
   "metadata": {},
   "source": [
    "## PE 79"
   ]
  },
  {
   "cell_type": "code",
   "execution_count": null,
   "metadata": {},
   "outputs": [],
   "source": [
    "#79 Passcode Derivation\n",
    "73162890"
   ]
  },
  {
   "cell_type": "markdown",
   "metadata": {},
   "source": [
    "## PE 80"
   ]
  },
  {
   "cell_type": "code",
   "execution_count": null,
   "metadata": {},
   "outputs": [],
   "source": [
    "#80 Square Root Digital Expansion\n",
    "from re import findall\n",
    "from math import sqrt\n",
    "num=list(range(2,100))\n",
    "num1=[]\n",
    "num.remove(4)\n",
    "num.remove(9)\n",
    "num.remove(16)\n",
    "num.remove(25)\n",
    "num.remove(36)\n",
    "num.remove(49)\n",
    "num.remove(64)\n",
    "num.remove(81)\n",
    "for i in range(len(num)):\n",
    "    num[i]=sqrt(num[i])\n",
    "for j in range(len(num)):\n",
    "    num2=num[j]*(10**99)\n",
    "    num.remove(num[j])\n",
    "    num2=int(num2)\n",
    "    num.append(num2)\n",
    "for number1 in num:\n",
    "    dec = list(map(int, findall('\\d', str(number1))))\n",
    "    num1.append(dec)\n",
    "sum_digit=0\n",
    "for list_num in num1:\n",
    "    for number2 in list_num:\n",
    "        sum_digit+=number2\n",
    "print(num1)\n",
    "print(sum_digit)"
   ]
  },
  {
   "cell_type": "code",
   "execution_count": null,
   "metadata": {},
   "outputs": [],
   "source": [
    "(* 80 Square Root Digital Expansion*)\n",
    "numberDigits = RealDigits[Sqrt[2], 10, 100][[1]]\n",
    "lst=Complement[Range[1, 99], Table[n^2, {n, 1, Floor[Sqrt[99]]}]];\n",
    "totalNumberDigits=Table[RealDigits[Sqrt[i], 10, 100][[1]],{i,lst}];\n",
    "lst1={{1,2,3,4,5},{6,7,8,9,10}};\n",
    "Total[Total[lst1]]\n",
    "Total[Total[totalNumberDigits]]\n",
    "(* learn 3 functions:\n",
    "    RealDigits[] give a list of len digit\n",
    "    Complement[] after excluding the subsequent lists, the complement from the first list \n",
    "    Total[] *)"
   ]
  },
  {
   "cell_type": "markdown",
   "metadata": {},
   "source": [
    "## PE 92"
   ]
  },
  {
   "cell_type": "code",
   "execution_count": null,
   "metadata": {},
   "outputs": [],
   "source": [
    "#92 Square Digit Chains\n",
    "def chain(n):\n",
    "    while n!=1 and n!=89:\n",
    "        num=list(map(int, str(n)))\n",
    "        squared=0\n",
    "        for digit in num:\n",
    "            squared+=digit**2\n",
    "        n=squared\n",
    "    return n\n",
    "num_89=0\n",
    "for i in range(1, 10000000):\n",
    "    if chain(i)==89:\n",
    "        num_89+=1\n",
    "    if i%50000==0:\n",
    "        print(i)\n",
    "num_89"
   ]
  },
  {
   "cell_type": "markdown",
   "metadata": {},
   "source": [
    "## PE 99"
   ]
  },
  {
   "cell_type": "code",
   "execution_count": null,
   "metadata": {},
   "outputs": [],
   "source": [
    "# 99 Largest Exponential\n",
    "import sys\n",
    "import requests\n",
    "# sys.set_int_max_str_digits(4000000)\n",
    "response = requests.get(\"https://projecteuler.net/resources/documents/0099_base_exp.txt\")\n",
    "content = response.text     # Read the content of the response\n",
    "# Split the data into lines\n",
    "lines = content.strip().split(\"\\n\")\n",
    "\n",
    "column1 = []\n",
    "column2 = []\n",
    "\n",
    "for line in lines:\n",
    "    # Split the line by the comma and convert to integers\n",
    "    num1, num2 = map(int, line.split(\",\"))\n",
    "    # Append the numbers to the respective lists\n",
    "    column1.append(num1)\n",
    "    column2.append(num2)\n",
    "\n",
    "record=[1,1,0]\n",
    "\n",
    "for i in range(1000):\n",
    "    if np.log(record[0])*record[1]<np.log(column1[i])*column2[i]:\n",
    "        record[0]=column1[i]\n",
    "        record[1]=column2[i]\n",
    "        record[2]=i+1\n",
    "record[2]"
   ]
  },
  {
   "cell_type": "code",
   "execution_count": null,
   "metadata": {},
   "outputs": [],
   "source": [
    "(* 99 Largest Exponential\n",
    "   [[2]] denotes the 2nd item in {{1,2},{1,2}} *)\n",
    "data = Import[\"https://projecteuler.net/resources/documents/0099_base_exp.txt\", \"CSV\"];\n",
    "new = Map[#[[2]] * Log[#[[1]]] &, data];\n",
    "Position[new, Max[new]]"
   ]
  },
  {
   "cell_type": "code",
   "execution_count": null,
   "metadata": {},
   "outputs": [],
   "source": [
    "881418**505504>960290**502358"
   ]
  }
 ],
 "metadata": {
  "language_info": {
   "name": "python"
  }
 },
 "nbformat": 4,
 "nbformat_minor": 2
}
