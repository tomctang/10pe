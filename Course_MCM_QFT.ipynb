{
 "cells": [
  {
   "cell_type": "markdown",
   "id": "f8082b92",
   "metadata": {},
   "source": [
    "# QFT"
   ]
  },
  {
   "cell_type": "markdown",
   "id": "8596e044",
   "metadata": {},
   "source": [
    "[Particle Physics Playground](https://sites.google.com/siena.edu/particle-physics-playground/home?authuser=0)\n"
   ]
  },
  {
   "cell_type": "markdown",
   "id": "9ac274f3",
   "metadata": {},
   "source": [
    "<img src=\"https://raw.githubusercontent.com/tomctang/NB_img/main/Branches-of-Physics.png\" alt=\"Branches-of-Physics\" width=\"500\">\n",
    "\n",
    "| **Categories of Physics**  | low speed           | high-speed/energy             | \n",
    "|------------------|---------------------|------------------------|\n",
    "| **macro** size/scale | Classical Mechanics(Galilean transformation) <br> - motion of cars, planets <br> - engineering like buildings, transportation | Relativistic Mechanics(Lorentz transformation) <br> - things near black holes or GPS satellites <br> - Cosmology |   \n",
    "| **micro** size/scale | Quantum Mechanics <br> - atoms, electrons <br> - semiconductors, quantum computing | Quantum Field Theory <br> - atom nucleus or particle collisions in accelerators <br> - Particle Physics, Condensed matter(superconductors) |  \n",
    "\n",
    "Galilean transformation vs Lorentz transformation\n",
    "\n",
    "A Lorentz transformation looks like a Galilean transformation when you stretch the time axis (x-axis here). The red lines show the light cone from the origin and the blue points are spacetime events that undergo a continuously increasing Lorentz transformation.\n",
    "\n",
    "<img src=\"https://upload.wikimedia.org/wikipedia/commons/5/5f/GalileanLorentzVisualized.gif\" alt=\"Branches-of-Physics\" width=\"500\">\n",
    "\n",
    "<img src=\"https://raw.githubusercontent.com/tomctang/NB_img/main/CM-RM-4steps.jpg\" alt=\"Branches-of-Physics\" width=\"500\">\n",
    "\n"
   ]
  },
  {
   "cell_type": "markdown",
   "id": "4fc8c11e",
   "metadata": {},
   "source": [
    "**History of physics after 1900**\n",
    "\n",
    "- 1930s, scientist realised gravity and electromagnetic force couldn't explain atom nucleus, further there are two new forces: strong force and weak force\n",
    "-  \n",
    "  - 古典场只是一个时空函数，但QFT将它「量化」了：基本粒子只是充满时空之动力场（dynamic field）的激态而已；因此每种基本粒子都有其自己的量子场。这些场的相互作用之「运动方程式」形式则受制于（需符合）「局部规范对称」（local gauge symmetry）群SU(3)×SU(2)×U(1) \n",
    "\n",
    "| Theories | Experiments |\n",
    "|-|-|\n",
    "1900, Quantum Theory (Planck): Introduced the concept of energy quanta - the foundation of QM.|\t1905, Photoelectric Effect (Einstein): Experiments confirmed light quanta (photons)\n",
    "1905, Special Relativity (Einstein): Unified space and time, introducing E=mc².\t|1971, Hafele-Keating Experiment: Atomic clocks on airplanes confirmed time dilation predicted by relativity.\n",
    "1915, General Relativity (Einstein): Described gravity as spacetime curvature.\t|1919, Eddington’s Solar Eclipse Observation: Confirmed gravitational lensing, supporting general relativity.\n",
    "1920s, QM (Heisenberg, Schrödinger, Dirac): Developed wave-particle duality and probabilistic nature of particles.\t|1927, Davisson-Germer Experiment: Demonstrated electron diffraction, confirming wave-like behavior of particles.\n",
    "1930s, Quantum Electrodynamics (QED) (Feynman, Schwinger, Tomonaga): Described electromagnetic interactions via quantum fields.\t|1950s-60s, Lamb Shift and Anomalous Magnetic Moment: Precision measurements of electron properties validated QED predictions.\n",
    "1960s, 弱力Electroweak Theory (Weinberg, Salam, Glashow): Unified electromagnetic and weak nuclear forces.|\t1983, W and Z Bosons Discovery (CERN): UA1 and UA2 experiments confirmed electroweak theory by detecting these particles.\n",
    "1970s, 强力Quantum Chromodynamics (QCD) (Gross, Politzer, Wilczek): Explained strong nuclear force via quark-gluon interactions.\t|1979, Gluon Discovery (DESY): PETRA collider experiments observed gluon jets\n",
    "1970s, Standard Model of Particle Physics (QFT-derived): framework for elementary particles and 3 forces (excluding gravity).\t|2012, Higgs Boson Detection (CERN): ATLAS and CMS experiments confirmed the Higgs boson, completing the Standard Model.\n",
    "1980s, String Theory (Green, Schwarz, Witten): Proposed fundamental particles as vibrating strings, aiming to unify QM and gravity.\t|No direct experimental confirmation yet; indirect tests ongoing (e.g., via cosmology or particle accelerators).\n",
    "1990s, Dark Energy and Accelerating Universe (Perlmutter, Riess, Schmidt): Proposed to explain cosmic acceleration.\t|1998, Supernova Observations: Type Ia supernova data confirmed the universe’s accelerated expansion, supporting dark energy.\n",
    "\n",
    "Main players:\n",
    "- Richard Feynman 费曼\n",
    "- Edward Witten 威滕\n",
    "- Juan Maldacena 马达西纳, [AdS/CFT对偶（也叫全息原理）](https://zh.m.wikipedia.org/wiki/AdS/CFT%E5%AF%B9%E5%81%B6):一个明确的时空涌现模型\n",
    "  - any theory of quantum gravity 量子引力理论 should be holographic\n",
    "  - use von Neumann algebra or W*-algebra is a *-algebra of bounded operators\n",
    "\n",
    "弱力只作用于左旋spin粒子\n",
    "- 相互作用力是由不连续的能量包（量子）交换而产生。如电磁力由光子交换产生，弱作用力由W及Z玻色子交换产生，强核力由胶子交换产生\n",
    "\n",
    "觉得他们还没来得及理解量子场论的真正精髓，还没来得及理解我们在70年代学到的东西，还没来得及理解量子场论与数学拓扑学的联系，量子场之间相互作用的强弱，以至于你连费曼图都用不了。所以像量子色动力学（QCD）中夸克被困在质子里，你无法把它们释放出来。它们已经在那里被困了135亿年了。这种力太强了，你根本无法释放出一个夸克。从某种意义上说，这是另一个千禧年大奖难题，但两者密切相关。\n",
    "\n",
    "海拔和高度，对应电压和电压差，前者一点不重要，但又不可缺少。你不得不引入一些非物理的东西。这就是规范原理。我们把它提升到一个奇特的名字，称之为规范对称性。这是一个糟糕的名字。它被称为规范冗余。这是我们对物理定律描述中的冗余\n",
    "物理定律有两个关键特征，你可以看到其中一个，或者看到另一个，但不知何故，很难同时看到两者。正是这种冗余性让你能够同时看到两者。所以这是一个非常深奥的原理。我们所有的物理定律都基于此。我认为我们并不真正理解为什么会这样。\n",
    "simulate quantum field theory on computers\n",
    "Fermat's last theorem is underlying the consistency of the standard model. This is amazing.\n",
    "\n"
   ]
  },
  {
   "cell_type": "markdown",
   "id": "8aed48fb",
   "metadata": {},
   "source": [
    "Q: After quantum mechanics at undergraduate level, what do I study to forward to QFT? And does the same course teach both QFT and standard model\n",
    "\n",
    "Uni QM (including some intro to spin, perturbation theory, and scattering), you’re already partway there, but QFT is a leap — both mathematically and conceptually.\n",
    "\n",
    "|Steps|Goals|milestone problems/extra|\n",
    "|-|-|-|\n",
    "Mathematical Methods|tensor notation, Lie groups/algebras, representation theory basics, Fourier transforms in d dimensions, and contour integration|\n",
    "Special Relativity & Classical Field Theory| 4-vectors, Lorentz transformations, Minkowski space notation, and Lagrangian/Hamiltonian mechanics generalized to fields\n",
    "|Advanced or Relativistic Quantum Mechanics | Klein–Gordon & Dirac equations, Lorentz invariance, spinor algebra, creation/annihilation operators, and quantizing simple fields, second quantization, and classical field Lagrangians| Derive Lorentz invariance of scalar and Dirac Lagrangians yourself|\n",
    "|QFT I|Canonical quantization of scalar, spinor, and vector fields; Path integral formulation; Propagators, Wick’s theorem, Feynman rules;Basic perturbation theory, Tree-level scattering calculations| Derive scalar & Dirac propagators from scratch; Calculate 𝑒+𝑒− → 𝜇+𝜇− cross section; Show LSZ reduction connects fields to particle scattering amplitudes\n",
    "|QFT II (Renormalization & Gauge Theory)|Loop diagrams, divergences, dimensional regularization; Renormalization & running couplings; Non-Abelian gauge fields (Yang–Mills); Spontaneous symmetry breaking & Higgs mechanism, Goldstone bosons\n",
    "|Standard Model|Quantum Electrodynamics (QED); Quantum Chromodynamics (QCD); Electroweak theory and Higgs; Phenomenology (cross sections, decays, collider physics); CKM matrix, neutrino mixing; Collider phenomenology basics| Supersymmetry & Beyond SM; Effective Field Theories"
   ]
  }
 ],
 "metadata": {
  "language_info": {
   "name": "python"
  }
 },
 "nbformat": 4,
 "nbformat_minor": 5
}
