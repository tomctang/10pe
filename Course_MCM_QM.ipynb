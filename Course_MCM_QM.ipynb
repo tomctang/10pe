{
 "cells": [
  {
   "cell_type": "markdown",
   "id": "66345d12",
   "metadata": {},
   "source": [
    "# Quantum Mechanics"
   ]
  },
  {
   "cell_type": "markdown",
   "id": "9b284ec6",
   "metadata": {},
   "source": [
    "[QM for Everyone](https://www.edx.org/learn/quantum-physics-mechanics/georgetown-university-quantum-mechanics-for-everyone) is the experimental foundation, use [Quantum Mechanics interactive games](https://www.st-andrews.ac.uk/physics/quvis/index.html)\n",
    "\n",
    "Sage has no [QM-specific module](https://doc.sagemath.org/html/en/reference/algebras/quantum_groups.html), so use [SymPy’s quantum module](https://docs.sympy.org/latest/modules/physics/quantum/index.html), [QuTiP - Quantum Toolbox in Python](https://qutip.org/), [Wolfram Quantum Framework](https://www.wolfram.com/quantum-computation-framework/), [Qiskit python quantum computing by IBM](https://github.com/qiskit-community/qiskit-community-tutorials/tree/master), [Julia QuantumOptics.jl](https://qojulia.org/), [jrjohansson collection](https://jrjohansson.github.io/computing.html)\n",
    "\n",
    "OZ groups: [UMel Theoretical Particle Physics](https://particletheory.science.unimelb.edu.au/), [USyd](https://www.sydney.edu.au/science/our-research/research-areas/physics/particle-physics-group.html), [UNSW areas](https://www.unsw.edu.au/science/our-schools/physics/our-research/research-areas)\n",
    "\n",
    "QM terms:\n",
    "- QM supports Chemistry, so it's founational to Life Sciences, eg. use solutions to Schrödinger Eq to describe how chemical bonds are formed between atoms.\n",
    "- Quantum Systems: systems governed by QM laws, which differ from classical physics. Q-systems exhibit phenomena such as superposition, entanglement, and quantum tunneling.\n",
    "- Principles of QM: \n",
    "  - Superposition: Objects existing in multiple states simultaneously.\n",
    "  - Entanglement: Intertwined quantum states of multiple particles.\n",
    "  - Quantization: Discrete and specific values of certain properties.\n",
    "\n",
    "|Fields |Key points | | | |\n",
    "-|-|-|-|-\n",
    "**Quantum Computing**| Qubits: Basic unit of quantum information| Superposition: Utilizing quantum states for parallel processing | Quantum Algorithms: Algorithms designed for quantum computers\n",
    "**Quantum Communication**| Quantum Key Distribution: Securely distributing cryptographic keys|Teleportation: Instantaneous transfer of quantum information. | Quantum Internet: Global quantum communication network.\n",
    "**Quantum Sensing and Metrology**|Atomic Clocks: Extremely precise timekeeping using quantum properties.|Magnetic Resonance Imaging: Quantum-based imaging technology for medical diagnosis | Quantum Metrology: High-precision measurement in various scientific fields |Quantum Gyroscopes: Advanced navigation and rotation sensing devices."
   ]
  },
  {
   "cell_type": "markdown",
   "id": "583888aa",
   "metadata": {},
   "source": [
    "### QM vs. CM\n",
    "\n",
    "<img src=\"https://raw.githubusercontent.com/tomctang/NB_img/main/qmcore.jpg\" alt=\"exp.1\" width=\"650\">\n",
    "\n",
    "<img src=\"https://raw.githubusercontent.com/tomctang/NB_img/main/\" alt=\"exp.1\" width=\"500\">\n",
    "\n",
    "\n",
    "\n",
    "<img src=\"https://raw.githubusercontent.com/tomctang/NB_img/main/qmdiff22.png\" alt=\"exp.1\" width=\"500\">\n",
    "\n",
    "\n",
    "<img src=\"https://raw.githubusercontent.com/tomctang/NB_img/main/qmdiff1.png\" alt=\"exp.1\" width=\"600\">\n",
    "<img src=\"https://raw.githubusercontent.com/tomctang/NB_img/main/qmdiff4.png\" alt=\"exp.1\" width=\"800\">\n",
    "\n",
    "<img src=\"https://raw.githubusercontent.com/tomctang/NB_img/main/qmschrodequ0.gif\" alt=\"exp.1\" width=\"600\">\n",
    "<img src=\"https://raw.githubusercontent.com/tomctang/NB_img/main/qmschrodequ1.gif\" alt=\"exp.1\" width=\"660\">\n",
    "<img src=\"https://raw.githubusercontent.com/tomctang/NB_img/main/qmschrodequ1.png\" alt=\"exp.1\" width=\"500\">\n",
    "<img src=\"https://raw.githubusercontent.com/tomctang/NB_img/main/qmschrodequ2.png\" alt=\"exp.1\" width=\"500\">\n",
    "<img src=\"https://raw.githubusercontent.com/tomctang/NB_img/main/qmschrodequ3.png\" alt=\"exp.1\" width=\"600\">\n",
    "\n",
    "<img src=\"https://raw.githubusercontent.com/tomctang/NB_img/main/qminfo.jpg\" alt=\"exp.1\" width=\"500\">\n"
   ]
  },
  {
   "cell_type": "markdown",
   "id": "a871e5f0",
   "metadata": {},
   "source": [
    "## QM"
   ]
  },
  {
   "cell_type": "markdown",
   "id": "c1f2c75b",
   "metadata": {
    "vscode": {
     "languageId": "sage"
    }
   },
   "source": [
    "Note: Learn Fourier Analysis"
   ]
  },
  {
   "cell_type": "markdown",
   "id": "899febdd",
   "metadata": {},
   "source": [
    "Symbols & Natural Names\n",
    "- $\\langle\\psi|$: Bra\n",
    "- $|\\psi\\rangle$: Ket\n",
    "- $\\langle\\psi|\\psi\\rangle$: Bra-ket\n",
    "- $[\\hat{A}\\hat{B}]$: Commutator\n",
    "- $\\hat{S_z}$: hatsz (spin on z-axis)\n",
    "- $\\hat{S_+}$: hatsp (raising operator)\n",
    "- $\\hat{S_-}$: hatsm (lowering operator)\n",
    "- $\\hbar$: hbar\n",
    "- $B$: magnetic field"
   ]
  },
  {
   "cell_type": "markdown",
   "id": "7d3fc2ac",
   "metadata": {},
   "source": [
    "Maths Notes\n",
    "- Linear Algebra\n",
    "    - Determinant\n",
    "    - Eigenvalues\n",
    "    - Eigenvectors\n",
    "- ODE\n",
    "- Vector Calculus"
   ]
  },
  {
   "cell_type": "markdown",
   "id": "921b95b7",
   "metadata": {},
   "source": [
    "### M2. Advanced QM with Spins"
   ]
  },
  {
   "cell_type": "markdown",
   "id": "846a0d4f",
   "metadata": {},
   "source": [
    "Notes\n",
    "- Two-Slit Experiment with Stern-Gerlach Analyzer Loop: There are two results using classical and quantum probability. The quantum probability result is correct where since the path taken is indeterminate(you can also say it takes both paths), the atom's state does not change.\n",
    "    - Detector Variant: If a detector is put in the analyzer loop, the atom's x state becomes known meaning it no longer has a state in the z direction.\n",
    "- Einstein-Podolsky-Rosen(EPR) Experiment: This is an experiment where there is a source which fires two atoms with opposite projections in a specific axis and is measured by two analyzers. One analyzer is slightly closer than the other so that we will know the state of the atom that hasn't entered the analyzer yet because we have measured the other atom's state. But say the analyzers are very far away. Then wouldn't the information have been transfered faster than light?\n",
    "    - The hidden variables theory that Einstein made was disproved by Bell's theorems.\n",
    "- Commutation: $[\\hat{A},\\hat{B}]=\\hat{A}\\hat{B}-\\hat{B}\\hat{A}$ [add notes]\n",
    "    - Operator Identity 1: $[\\hat{S}_z,\\hat{S}_\\pm]=\\pm\\hbar\\hat{S}_\\pm$(The $\\pm$ means this works for both $+$ and $-$. Just substitute the same sign for every $\\pm$ to get the right formula.)\n",
    "    - Operator Identity 2: $[\\hat{S}_+,\\hat{S}_-]=2\\hbar\\hat{S}_z$\n",
    "    - Operator Identity 3: $[\\hat{A},\\hat{B}]=-[\\hat{B}\\hat{A}]$\n",
    "    - Operator Identity 4: $[\\hat{A},\\hat{A}]=0$\n",
    "- Spin Operator Rules\n",
    "    - $\\hat{S}_z|\\uparrow\\rangle_z=\\frac{\\hbar}{2}|\\uparrow\\rangle_z$\n",
    "    - $\\hat{S}_z|\\downarrow\\rangle_z=-\\frac{\\hbar}{2}|\\downarrow\\rangle_z$\n",
    "    - $\\hat{S}_+|\\uparrow\\rangle_z=0$\n",
    "    - $\\hat{S}_+|\\downarrow\\rangle_z=\\hbar|\\uparrow\\rangle_z$\n",
    "    - $\\hat{S}_-|\\uparrow\\rangle_z=\\hbar|\\downarrow\\rangle_z$\n",
    "    - $\\hat{S}_-|\\downarrow\\rangle_z=0$\n",
    "\n",
    "<img src=\"https://raw.githubusercontent.com/tomctang/NB_img/main/sge.png\" alt=\"seriesgraph\" width=\"500\">"
   ]
  },
  {
   "cell_type": "markdown",
   "id": "b1335f8e",
   "metadata": {},
   "source": [
    "### M1. Intro Quantum World"
   ]
  },
  {
   "cell_type": "markdown",
   "id": "37304815",
   "metadata": {},
   "source": [
    "- Fermions: Metals that conduct electricity do so because there is a \"sea of electrons\". This is created from the Pauli exclusion principle, since electrons are fermions, and fermions stay apart, they stay apart.\n",
    "- Alpha Particles: Created by radioactive elements. Since it is slow and heavy, it has low penetration power but can damage biological tissue. Smoke detectors use heavy elements to detect smoke as when there is smoke the current flow between the 2 metal plates that are held at different voltages the current is changed.\n",
    "- Magnetic Fields: These are vector fields that are created by magnets.\n",
    "    - The closer to a magnet you are, the stronger the intensity.\n",
    "    - Normally the arrows indicate where the north pole of a magnet will be attracted to.\n",
    "    - Forces in the magnetic field can cause the magnet to move because of a net force or spin because of forces in opposite directions at different ends.\n",
    "        - The net force can be calculated by finding the axis of increasing intensity and then finding the projection of the magnet onto the axis. When doing this it is useful to keep the south pole of the magnet on the axis.\n",
    "    - Fat Arrows: For some magnetic fields, they can be represented by fat arrows where the width is the intensity of the magnetic field and the direction of the arrows is indicated by the fat arrow's direction.\n",
    "    - Magnetic Needles: These are idealized small magnets like those in compasses.\n",
    "    - Magnetic fields are always inhomogeneous vector fields which means there divergence is always zero.\n",
    "- Precession: A rotation that occurs when there is a magnet and a magnetic field.\n",
    "    - Even when there is precession, the projection remains constant as it rotates perpendicular to the axis of increasing field.\n",
    "- Stern-Gerlach Experiment(SGE): Atoms are injected through a region of space where because of a magnetic field, there will be precession. 2 magnets will deflect the atom until it hits the screen where there is a detector.\n",
    "    - This experiment has many variants.\n",
    "    - In the quantum world, since everything is random, the atoms' chance of exiting a specific exit for positive and negative can be calculated using a formula.\n",
    "    - Each Stern-Gerlach analyzer measures the atom's projection on a specific axis. If the atom has no projection on that axis then it chooses a random path to take.\n",
    "    - In the SGE, the inhomogeneous magnetic field's $y$ direction can be neglected because the magnetic field should make the effect cancel out on the sides and since the atom is moving along the $y$ direction, the net force should not change when the position moves along the $y$ axis.\n",
    "    - The force on the classical current loop can be calculated using the formula $\\vec{\\bf F}(t)=\\vec{\\nabla} \\left (\\vec{\\mu}(t)\\cdot\\vec{\\bf B}(x,y,z)\\right )$ where $B$ is the magnetic field(this is the notation) and $mu$ is the effective needle that represents the current loop.\n",
    "- Birthday Problem: The problem asks you that how many people must be in a large room for the chance of at least 2 people having the same birthday to be a specific number.\n",
    "    - There are many variants.\n",
    "- Penney's Game: This is an unfair coin game that seems fair at first. If you pick the sequence of coins first then the other person can always pick a sequence to have a greater chance of winning(unlike the same game but with sequences of 2 coins).\n",
    "    - Rules\n",
    "        1. Each player picks a sequence of 3 coins.\n",
    "        1. Flip a coin, then put it at one end of the coins.\n",
    "        1. Continue until the 3 coins in the middle matches a player's sequence.\n",
    "        1. If the 3 coins in the middle matches your sequence, you win this round.\n",
    "        1. Continue for as many rounds as needed.\n",
    "- Dirac Notation: This notation is a way to represent vectors, matrices, and vector products.\n",
    "    - Bra($\\langle\\phi|$): This is the Hermitian conjugate of a ket(row vector).\n",
    "    - Ket($|\\phi\\rangle$): This represents a column vector.\n",
    "    - Bra-ket($\\langle\\phi|\\psi\\rangle$): This is the inner product(dot product) of the ket and bra(complex number).\n",
    "    - \"Butterfly Diagram\"($|\\psi\\rangle\\langle\\phi|$): This is the outer product and is more complicated then the first three(matrix).\n",
    "        - This is named \"Butterfly Diagram\" because it looks like one and Dirac did not have a name for it.\n",
    "    - Change of basis: [add notes]"
   ]
  },
  {
   "cell_type": "code",
   "execution_count": 37,
   "id": "b2c4b239",
   "metadata": {
    "vscode": {
     "languageId": "sage"
    }
   },
   "outputs": [
    {
     "data": {
      "text/latex": [
       "$\\displaystyle {|ψ\\rangle} \\qquad   {\\langleψ|} \\qquad   $"
      ],
      "text/plain": [
       "<IPython.core.display.Math object>"
      ]
     },
     "metadata": {},
     "output_type": "display_data"
    },
    {
     "data": {
      "text/latex": [
       "$\\displaystyle \\text{\\texttt{<ψ|ψ>{ }=}} \\qquad   1 \\qquad   $"
      ],
      "text/plain": [
       "<IPython.core.display.Math object>"
      ]
     },
     "metadata": {},
     "output_type": "display_data"
    },
    {
     "data": {
      "text/latex": [
       "$\\displaystyle \\text{\\texttt{|ψ><ψ|{ }=}} \\qquad   \\left(\\begin{array}{rr}\n",
       "\\frac{1}{2} & \\frac{1}{2} \\\\\n",
       "\\frac{1}{2} & \\frac{1}{2}\n",
       "\\end{array}\\right) \\qquad   $"
      ],
      "text/plain": [
       "<IPython.core.display.Math object>"
      ]
     },
     "metadata": {},
     "output_type": "display_data"
    },
    {
     "data": {
      "text/latex": [
       "$\\displaystyle \\text{\\texttt{|ψ>⊗|φ>{ }=}} \\qquad   {|ψφ\\rangle} \\qquad   $"
      ],
      "text/plain": [
       "<IPython.core.display.Math object>"
      ]
     },
     "metadata": {},
     "output_type": "display_data"
    },
    {
     "data": {
      "text/latex": [
       "$\\displaystyle \\text{\\texttt{Tensor{ }vector:}} \\qquad   \\left(\\begin{array}{rr}\n",
       "\\frac{1}{2} \\, \\sqrt{2} & 0 \\\\\n",
       "\\frac{1}{2} \\, \\sqrt{2} & 0\n",
       "\\end{array}\\right) \\qquad   $"
      ],
      "text/plain": [
       "<IPython.core.display.Math object>"
      ]
     },
     "metadata": {},
     "output_type": "display_data"
    }
   ],
   "source": [
    "# Bra–Ket algebra built-in Sage\n",
    "class Ket:\n",
    "    def __init__(self, label, vector=None):\n",
    "        \"\"\"\n",
    "        label: symbolic label for Dirac notation, e.g. 'psi'\n",
    "        vector: optional Sage vector for numerical representation\n",
    "        \"\"\"\n",
    "        self.label = label\n",
    "        self.vector = vector\n",
    "        self.symbol = var(f\"ket_{label}\", latex_name=f\"|{label}\\\\rangle\")\n",
    "\n",
    "    def __str__(self):\n",
    "        return f\"|{self.label}>\"\n",
    "\n",
    "    def _latex_(self):\n",
    "        return f\"|{self.label}\\\\rangle\"\n",
    "\n",
    "    def bra(self):\n",
    "        \"\"\"Return the corresponding Bra\"\"\"\n",
    "        if self.vector is not None:\n",
    "            return Bra(self.label, self.vector.conjugate())\n",
    "        return Bra(self.label)\n",
    "\n",
    "    def __mul__(self, other):\n",
    "        # Inner product <bra|ket>\n",
    "        if isinstance(other, Bra) and self.vector is not None and other.vector is not None:\n",
    "            return self.vector.inner_product(other.vector)\n",
    "        # Fallback symbolic\n",
    "        elif isinstance(other, Bra):\n",
    "            return SR(self.symbol * other.symbol)\n",
    "        return NotImplemented\n",
    "\n",
    "    def outer(self, bra):\n",
    "        \"\"\"Outer product |ket><bra| → a matrix\"\"\"\n",
    "        if self.vector is not None and bra.vector is not None:\n",
    "            return matrix(self.vector).transpose() * matrix(bra.vector)\n",
    "        return SR(self.symbol * bra.symbol)\n",
    "\n",
    "    def tensor(self, other):\n",
    "        \"\"\"Tensor product |ket1>⊗|ket2>\"\"\"\n",
    "        if self.vector is not None and other.vector is not None:\n",
    "            return Ket(self.label + other.label,\n",
    "                       self.vector.tensor_product(other.vector))\n",
    "        return Ket(self.label + other.label)\n",
    "\n",
    "\n",
    "class Bra:\n",
    "    def __init__(self, label, vector=None):\n",
    "        self.label = label\n",
    "        self.vector = vector\n",
    "        self.symbol = var(f\"bra_{label}\", latex_name=f\"\\\\langle{label}|\")\n",
    "\n",
    "    def __str__(self):\n",
    "        return f\"<{self.label}|\"\n",
    "\n",
    "    def _latex_(self):\n",
    "        return f\"\\\\langle{self.label}|\"\n",
    "\n",
    "    def __mul__(self, other):\n",
    "        # Inner product <bra|ket>\n",
    "        if isinstance(other, Ket) and self.vector is not None and other.vector is not None:\n",
    "            return self.vector.inner_product(other.vector)\n",
    "        elif isinstance(other, Ket):\n",
    "            return SR(self.symbol * other.symbol)\n",
    "        return NotImplemented\n",
    "\n",
    "    def tensor(self, other):\n",
    "        if self.vector is not None and other.vector is not None:\n",
    "            return Bra(self.label + other.label,\n",
    "                       self.vector.tensor_product(other.vector))\n",
    "        return Bra(self.label + other.label)\n",
    "\n",
    "# Numeric + symbolic states\n",
    "psi = Ket(\"ψ\", vector([1/sqrt(2), 1/sqrt(2)]))   # |ψ>\n",
    "phi = Ket(\"φ\", vector([1, 0]))                   # |φ>\n",
    "\n",
    "bra_psi = psi.bra()\n",
    "bra_phi = phi.bra()\n",
    "\n",
    "s(psi.symbol, bra_psi.symbol)  # shows |ψ⟩ and ⟨ψ|\n",
    "\n",
    "s(\"<ψ|ψ> =\", bra_psi * psi)       # Inner product = 1 numerically\n",
    "s(\"|ψ><ψ| =\", psi.outer(bra_psi)) # Outer product\n",
    "\n",
    "# Tensor product\n",
    "psi_tensor_phi = psi.tensor(phi)\n",
    "s(\"|ψ>⊗|φ> =\", psi_tensor_phi.symbol) # show symbol\n",
    "s(\"Tensor vector:\", psi_tensor_phi.vector)\n"
   ]
  },
  {
   "cell_type": "code",
   "execution_count": 96,
   "id": "46f6b76f",
   "metadata": {
    "vscode": {
     "languageId": "sage"
    }
   },
   "outputs": [
    {
     "data": {
      "text/latex": [
       "$\\displaystyle \\left[\\frac{1}{2} \\, a + \\frac{1}{2} \\, d - \\frac{1}{2} \\, \\sqrt{a^{2} + 4 \\, b c - 2 \\, a d + d^{2}}, \\frac{1}{2} \\, a + \\frac{1}{2} \\, d + \\frac{1}{2} \\, \\sqrt{a^{2} + 4 \\, b c - 2 \\, a d + d^{2}}\\right] \\qquad   $"
      ],
      "text/plain": [
       "<IPython.core.display.Math object>"
      ]
     },
     "metadata": {},
     "output_type": "display_data"
    },
    {
     "data": {
      "text/latex": [
       "$\\displaystyle \\left(\\frac{2}{\\sqrt{{\\left| \\frac{a - d + \\sqrt{a^{2} + 4 \\, b c - 2 \\, a d + d^{2}}}{b} \\right|}^{2} + 4}},\\,-\\frac{a - d + \\sqrt{a^{2} + 4 \\, b c - 2 \\, a d + d^{2}}}{\\sqrt{{\\left| \\frac{a - d + \\sqrt{a^{2} + 4 \\, b c - 2 \\, a d + d^{2}}}{b} \\right|}^{2} + 4} b}\\right) \\qquad   $"
      ],
      "text/plain": [
       "<IPython.core.display.Math object>"
      ]
     },
     "metadata": {},
     "output_type": "display_data"
    },
    {
     "data": {
      "text/latex": [
       "$\\displaystyle \\left(\\frac{2}{\\sqrt{{\\left| \\frac{a - d - \\sqrt{a^{2} + 4 \\, b c - 2 \\, a d + d^{2}}}{b} \\right|}^{2} + 4}},\\,-\\frac{a - d - \\sqrt{a^{2} + 4 \\, b c - 2 \\, a d + d^{2}}}{\\sqrt{{\\left| \\frac{a - d - \\sqrt{a^{2} + 4 \\, b c - 2 \\, a d + d^{2}}}{b} \\right|}^{2} + 4} b}\\right) \\qquad   $"
      ],
      "text/plain": [
       "<IPython.core.display.Math object>"
      ]
     },
     "metadata": {},
     "output_type": "display_data"
    }
   ],
   "source": [
    "var('a b c d')\n",
    "A=matrix(2,2,[a,b,c,d])\n",
    "s(A.eigenvalues())\n",
    "s(A.eigenvectors_right()[0][1][0]/A.eigenvectors_right()[0][1][0].norm())\n",
    "s(A.eigenvectors_right()[1][1][0]/A.eigenvectors_right()[1][1][0].norm())"
   ]
  },
  {
   "cell_type": "code",
   "execution_count": 17,
   "id": "ae63a002",
   "metadata": {
    "vscode": {
     "languageId": "sage"
    }
   },
   "outputs": [
    {
     "data": {
      "text/latex": [
       "$\\displaystyle 0.146446609406726 \\qquad   $"
      ],
      "text/plain": [
       "<IPython.core.display.Math object>"
      ]
     },
     "metadata": {},
     "output_type": "display_data"
    },
    {
     "data": {
      "text/latex": [
       "$\\displaystyle 0.750000000000000 \\qquad   $"
      ],
      "text/plain": [
       "<IPython.core.display.Math object>"
      ]
     },
     "metadata": {},
     "output_type": "display_data"
    }
   ],
   "source": [
    "s(n(cos(3*pi/8)^2))\n",
    "s(n(cos(pi/6)^2))"
   ]
  },
  {
   "cell_type": "code",
   "execution_count": null,
   "id": "ad668be7",
   "metadata": {
    "vscode": {
     "languageId": "sage"
    }
   },
   "outputs": [
    {
     "data": {
      "text/latex": [
       "$\\displaystyle 1 \\qquad   1 \\qquad   \\frac{4}{5} i \\qquad   $"
      ],
      "text/plain": [
       "<IPython.core.display.Math object>"
      ]
     },
     "metadata": {},
     "output_type": "display_data"
    }
   ],
   "source": [
    "A=matrix([[4, -i],\n",
    "          [i, 2]])\n",
    "ps=vector([2, i])/sqrt(5)\n",
    "ph=vector([-i, 2])/sqrt(5)\n",
    "aps=A*ps\n",
    "aph=A*ph\n",
    "s(aps.dot_product(ps.conjugate()),aps.dot_product(ph.conjugate()),aph.dot_product(ps.conjugate()),aph.dot_product(ph.conjugate()))"
   ]
  },
  {
   "cell_type": "code",
   "execution_count": 7,
   "id": "39a044f0",
   "metadata": {
    "vscode": {
     "languageId": "sage"
    }
   },
   "outputs": [
    {
     "data": {
      "text/latex": [
       "$\\displaystyle \\left[\\left(5, \\left[\\left(1,\\,-\\frac{1}{2} i\\right)\\right], 1\\right), \\left(-5, \\left[\\left(1,\\,2 i\\right)\\right], 1\\right)\\right] \\qquad   $"
      ],
      "text/plain": [
       "<IPython.core.display.Math object>"
      ]
     },
     "metadata": {},
     "output_type": "display_data"
    }
   ],
   "source": [
    "A=matrix([[3, 4*i],\n",
    "          [-4*i, -3]])\n",
    "s(A.eigenvectors_right())"
   ]
  },
  {
   "cell_type": "markdown",
   "id": "58801dea",
   "metadata": {},
   "source": [
    "## QM for Everyone"
   ]
  },
  {
   "cell_type": "markdown",
   "id": "37129b64",
   "metadata": {},
   "source": [
    "Quantum Games\n",
    "- [Stern-Gerlach experiment](https://www.st-andrews.ac.uk/physics/quvis/simulations_html5/sims/spin1/spin1.html)\n",
    "- [Quantum Uncertainty](https://www.st-andrews.ac.uk/physics/quvis/simulations_html5/sims/uncertainty2/uncertainty.html)\n",
    "- [Delayed choice experiment](https://www.st-andrews.ac.uk/physics/quvis/simulations_html5/sims/DelayedChoice/DelayedChoice.html)\n",
    "- [Entanglement(EPR experiment)](https://www.st-andrews.ac.uk/physics/quvis/simulations_html5/sims/entanglement/entanglement.html)\n",
    "- [Entangled atoms and hidden variables](https://www.st-andrews.ac.uk/physics/quvis/simulations_html5/sims/quantum-versus-hv1/quantum-versus-hv1.html)\n",
    "- [Entangled atoms vs hidden variables](https://www.st-andrews.ac.uk/physics/quvis/simulations_html5/sims/quantum-versus-hv2/quantum-versus-hv2.html)\n",
    "- [Interferometer exp. with single photons](https://www.st-andrews.ac.uk/physics/quvis/simulations_html5/sims/SinglePhotonLab/SinglePhotonLab.html)\n",
    "- [Interferometer exp. with photons, particles, waves](https://www.st-andrews.ac.uk/physics/quvis/simulations_html5/sims/photons-particles-waves/photons-particles-waves.html)\n",
    "- [Quantum bomb detection](https://www.st-andrews.ac.uk/physics/quvis/simulations_html5/sims/QuantumBombGame/Quantum_bomb.html)\n",
    "- [Quantum eraser with polarizers](https://www.st-andrews.ac.uk/physics/quvis/simulations_html5/sims/QuantumEraser/QuantumEraser.html)"
   ]
  },
  {
   "cell_type": "markdown",
   "id": "612184a3",
   "metadata": {},
   "source": [
    "### Final Exam"
   ]
  },
  {
   "cell_type": "markdown",
   "id": "74298875",
   "metadata": {},
   "source": [
    "Notes\n",
    "- P.8: Check part 3\n",
    "- P11: Check part 2"
   ]
  },
  {
   "cell_type": "code",
   "execution_count": 3,
   "id": "4793ee7f",
   "metadata": {
    "vscode": {
     "languageId": "sage"
    }
   },
   "outputs": [
    {
     "data": {
      "text/plain": [
       "0.0820000000000000"
      ]
     },
     "execution_count": 3,
     "metadata": {},
     "output_type": "execute_result"
    }
   ],
   "source": [
    "0.28^2+0.0036"
   ]
  },
  {
   "cell_type": "code",
   "execution_count": null,
   "id": "ed41c5f2",
   "metadata": {
    "vscode": {
     "languageId": "sage"
    }
   },
   "outputs": [
    {
     "data": {
      "text/plain": [
       "0.0245679806700000"
      ]
     },
     "execution_count": 2,
     "metadata": {},
     "output_type": "execute_result"
    }
   ],
   "source": [
    "0.9539^2*0.3^3"
   ]
  },
  {
   "cell_type": "code",
   "execution_count": 9,
   "id": "5ec57432",
   "metadata": {
    "vscode": {
     "languageId": "sage"
    }
   },
   "outputs": [
    {
     "data": {
      "text/plain": [
       "0.328303287701419"
      ]
     },
     "execution_count": 9,
     "metadata": {},
     "output_type": "execute_result"
    }
   ],
   "source": [
    "(0.3+0.9539^2*0.3)^2"
   ]
  },
  {
   "cell_type": "code",
   "execution_count": null,
   "id": "cfe50afa",
   "metadata": {
    "vscode": {
     "languageId": "sage"
    }
   },
   "outputs": [
    {
     "data": {
      "text/latex": [
       "$\\displaystyle 0.939692620785908 \\qquad   0.883022221559489 \\qquad   0.829769465589431 \\qquad   $"
      ],
      "text/plain": [
       "<IPython.core.display.Math object>"
      ]
     },
     "metadata": {},
     "output_type": "display_data"
    },
    {
     "data": {
      "text/latex": [
       "$\\displaystyle 0.883485183679467 \\qquad   $"
      ],
      "text/plain": [
       "<IPython.core.display.Math object>"
      ]
     },
     "metadata": {},
     "output_type": "display_data"
    }
   ],
   "source": [
    "x=cos(pi/9)\n",
    "s(n(x),n(x^2),n(x^3))\n",
    "s(n(cos(pi/20)^10))"
   ]
  },
  {
   "cell_type": "code",
   "execution_count": 11,
   "id": "4a494070",
   "metadata": {
    "vscode": {
     "languageId": "sage"
    }
   },
   "outputs": [
    {
     "name": "stdout",
     "output_type": "stream",
     "text": [
      "1.104809701340232e-09\n"
     ]
    }
   ],
   "source": [
    "n=1\n",
    "m=52\n",
    "for i in range(10):\n",
    "    n*=m-1\n",
    "    n/=365\n",
    "    m-=1\n",
    "print(float(n))"
   ]
  },
  {
   "cell_type": "markdown",
   "id": "b3106e95",
   "metadata": {},
   "source": [
    "### Advanced Quantum Mechanics of Light"
   ]
  },
  {
   "cell_type": "markdown",
   "id": "97fd40d7",
   "metadata": {},
   "source": [
    "Notes\n",
    "- Quantum Seeing in the Dark\n",
    "    - Two Slit Experiment\n",
    "        - In the experiment there is interference patterns where the probability of a photon being detected is virtually zero.\n",
    "        - If the detector is moved there and a path is blocked, then we can see the blockage without looking.\n",
    "- Mach-Zehnder Interferometer\n",
    "    - When this interferometer does not contain any polarizers and both paths have the same length, all the photons will go to one detector as the signal is amplified.\n",
    "    - When an object is added, this changes the probability and the other detector will receive photons. This is also how quantum bomb detection works.\n",
    "- Quantum Zeno Effect(go to paradox and infinity)"
   ]
  },
  {
   "cell_type": "markdown",
   "id": "5205035e",
   "metadata": {},
   "source": [
    "### The Quantum Mechanics of Light"
   ]
  },
  {
   "cell_type": "markdown",
   "id": "fd77a958",
   "metadata": {},
   "source": [
    "Notes\n",
    "- Light is made of particles.\n",
    "    - This has a long history.\n",
    "    - This can be proved using an experiment as when you shoot photons randomly through a single then you will get an pattern with a denser patch where the slit is. If instead it was a wave then it would be uniformly distributed.\n",
    "- Quantum Mechanics Process\n",
    "    1. Identify all events.\n",
    "    1. Find all alternative events that can occur.\n",
    "    1. Use quantum rules to find the amplitude arrow.\n",
    "        - Arrows rotate at a given speed(see below) based on the colour of the photon(1 revolution for every wavelength travelled).\n",
    "    1. Add all the arrows together to construct the final arrow.\n",
    "    1. Square the length of the final arrow to calculate the probability for that event to occur.\n",
    "    1. Add all the probabilities to calculate the total probability.\n",
    "- Calculation for Amplitude Arrows\n",
    "    - Use a clock that spins starting at 12 o'clock.\n",
    "    - Spinning rate through air\n",
    "        - Red Light: 36000 revolutions per inch(this one is mainly used in experiments)\n",
    "        - Green Light: 54000 revolutions per inch\n",
    "        - Blue Light: 72000 revolutions per inch\n",
    "    - Reflection\n",
    "        - Reflection in air on glass: Multiply length by 0.2 and add 0.5 revolutions(6 hours) to the clock.\n",
    "        - Reflection in glass on glass: Just multiply length by 0.2\n",
    "    - Transmission\n",
    "        - Transmission from air to glass: Multiply length by 0.98\n",
    "        - Transmission from glass to air: Multiply length by 0.98\n",
    "- Info on Experiments\n",
    "    - 1-3: These are experiments where the photons only interact with air and glass.\n",
    "    - 4-?: These experiments mostly have slits that photons have to get through in order to get detected.\n",
    "- Source-Detector Experiments of Light\n",
    "    1. There is only one event so this is boring. Source -> Detector The length is just 1 meaning the final probability is 1.\n",
    "    <img src=\"https://raw.githubusercontent.com/tomctang/NB_img/main/experiment1.png\" alt=\"exp.1\" width=\"200\">\n",
    "    1. The two alternative events are to reflect of the top of the glass or the bottom of the glass. Calculating gives a probability of 3%.\n",
    "    <img src=\"https://raw.githubusercontent.com/tomctang/NB_img/main/experiment2.png\" alt=\"exp.2\" width=\"200\">\n",
    "    1. There is only one event which is where the photon gets transmitted. Using quantum rules gives a probability of 96%.\n",
    "    <img src=\"https://raw.githubusercontent.com/tomctang/NB_img/main/experiment3.png\" alt=\"exp.3\" width=\"150\">\n",
    "        - Even if you change the thickness of the glass, the probability is the same because all of them include one event where there is a transmission.\n",
    "- Two Slit Experiment\n",
    "    - This experiment is strange because out of the two slits, when you calculate the final probability for a photon to reach the detector, it is not the sum of the two probability for single slits like you would expect.\n",
    "    - If you move the detector to where there is a zero probability of the photon reaching the detector and then block a slit, the probability of a photon reaching the detector there increases.\n",
    "    - This is strange as when you add more blockages, more photons reach the detectors. This is related to quantum seeing in the dark."
   ]
  },
  {
   "cell_type": "markdown",
   "id": "2905e7b7",
   "metadata": {},
   "source": [
    "### Advanced Quantum Mechanics with Spins"
   ]
  },
  {
   "cell_type": "markdown",
   "id": "0d09b41b",
   "metadata": {},
   "source": [
    "Notes\n",
    "- Two-Slit Experiment with Stern-Gerlach Analyzer Loop: There are two results using classical and quantum probability. The quantum probability result is correct where since the path taken is indeterminate(you can also say it takes both paths), the atom's state does not change.\n",
    "    - Detector Variant: If a detector is put in the analyzer loop, the atom's x state becomes known meaning it no longer has a state in the z direction.\n",
    "- Einstein-Podolsky-Rosen(EPR) Experiment: This is an experiment where there is a source which fires two atoms with opposite projections in a specific axis and is measured by two analyzers. One analyzer is slightly closer than the other so that we will know the state of the atom that hasn't entered the analyzer yet because we have measured the other atom's state. But say the analyzers are very far away. Then wouldn't the information have been transfered faster than light?\n",
    "    - The hidden variables theory that Einstein made was disproved by Bell's theorems.\n",
    "\n",
    "<img src=\"https://raw.githubusercontent.com/tomctang/NB_img/main/sge.png\" alt=\"seriesgraph\" width=\"500\">"
   ]
  },
  {
   "cell_type": "markdown",
   "id": "fed0b2ee",
   "metadata": {},
   "source": [
    "### Intro & Quantum Probability"
   ]
  },
  {
   "cell_type": "markdown",
   "id": "4e044c3f",
   "metadata": {},
   "source": [
    "- Fermions: Metals that conduct electricity do so because there is a \"sea of electrons\". This is created from the Pauli exclusion principle, since electrons are fermions, and fermions stay apart, they stay apart.\n",
    "- Alpha Particles: Created by radioactive elements. Since it is slow and heavy, it has low penetration power but can damage biological tissue. Smoke detectors use heavy elements to detect smoke as when there is smoke the current flow between the 2 metal plates that are held at different voltages the current is changed.\n",
    "- Magnetic Fields: These are vector fields that are created by magnets.\n",
    "    - The closer to a magnet you are, the stronger the intensity.\n",
    "    - Normally the arrows indicate where the north pole of a magnet will be attracted to.\n",
    "    - Forces in the magnetic field can cause the magnet to move because of a net force or spin because of forces in opposite directions at different ends.\n",
    "        - The net force can be calculated by finding the axis of increasing intensity and then finding the projection of the magnet onto the axis. When doing this it is useful to keep the south pole of the magnet on the axis.\n",
    "    - Fat Arrows: For some magnetic fields, they can be represented by fat arrows where the width is the intensity of the magnetic field and the direction of the arrows is indicated by the fat arrow's direction.\n",
    "    - Magnetic Needles: These are idealized small magnets like those in compasses.\n",
    "- Precession: A rotation that occurs when there is a magnet and a magnetic field.\n",
    "    - Even when there is precession, the projection remains constant as it rotates perpendicular to the axis of increasing field.\n",
    "- Stern-Gerlach Experiment: Atoms are injected through a region of space where because of a magnetic field, there will be precession. 2 magnets will deflect the atom until it hits the screen where there is a detector.\n",
    "    - This experiment has many variants.\n",
    "    - In the quantum world, since everything is random, the atoms' chance of exiting a specific exit for positive and negative can be calculated using a formula.\n",
    "    - Each Stern-Gerlach analyzer measures the atom's projection on a specific axis. If the atom has no projection on that axis then it chooses a random path to take.\n",
    "- Birthday Problem: The problem asks you that how many people must be in a large room for the chance of at least 2 people having the same birthday to be a specific number.\n",
    "    - There are many variants.\n",
    "- Penney's Game: This is an unfair coin game that seems fair at first. If you pick the sequence of coins first then the other person can always pick a sequence to have a greater chance of winning(unlike the same game but with sequences of 2 coins).\n",
    "    - Rules\n",
    "        1. Each player picks a sequence of 3 coins.\n",
    "        1. Flip a coin, then put it at one end of the coins.\n",
    "        1. Continue until the 3 coins in the middle matches a player's sequence.\n",
    "        1. If the 3 coins in the middle matches your sequence, you win this round.\n",
    "        1. Continue for as many rounds as needed."
   ]
  },
  {
   "cell_type": "code",
   "execution_count": 1,
   "id": "f2a8ec2a",
   "metadata": {
    "vscode": {
     "languageId": "sage"
    }
   },
   "outputs": [
    {
     "data": {
      "text/plain": [
       "41479"
      ]
     },
     "execution_count": 1,
     "metadata": {},
     "output_type": "execute_result"
    }
   ],
   "source": [
    "# Birthday Problem\n",
    "result=False\n",
    "count=0\n",
    "for i in range(100000):\n",
    "    result_in=False\n",
    "    people=23\n",
    "    birthdays=[]\n",
    "    for i in range(people):\n",
    "        birthdays.append(randint(1,52))\n",
    "    birthdays.sort()\n",
    "    for i in range(1,53):\n",
    "        if birthdays.count(i)>2:\n",
    "            result=True\n",
    "            result_in=True\n",
    "    if result_in==True:\n",
    "        count+=1\n",
    "count"
   ]
  },
  {
   "cell_type": "code",
   "execution_count": null,
   "id": "3b57f329",
   "metadata": {
    "vscode": {
     "languageId": "sage"
    }
   },
   "outputs": [],
   "source": [
    "# Penney's Game\n",
    "me_win=0\n",
    "comp_win=0\n",
    "me_coins=[0,1,0]\n",
    "comp_coins=[0,1,1]\n",
    "for i in range(100000):\n",
    "    coins=[2,2,2]\n",
    "    coins_req=[coins[-3],coins[-2],coins[-1]]\n",
    "    while coins_req!=me_coins and coins_req!=comp_coins:\n",
    "        coins.append(randint(0,1))\n",
    "        coins_req=[coins[-3],coins[-2],coins[-1]]\n",
    "    if me_coins==coins_req:\n",
    "        me_win+=1\n",
    "    else:\n",
    "        comp_win+=1\n",
    "s(me_win,comp_win)"
   ]
  },
  {
   "cell_type": "code",
   "execution_count": null,
   "id": "2eaf5207",
   "metadata": {
    "vscode": {
     "languageId": "sage"
    }
   },
   "outputs": [],
   "source": [
    "# ???\n",
    "s(11/12*10/12*9/12*8/12*7/12,1728-385)\n",
    "plot(cos(x/2)^2,(x,0,2*pi), figsize=3)"
   ]
  },
  {
   "cell_type": "code",
   "execution_count": null,
   "id": "9c9cbb31",
   "metadata": {
    "vscode": {
     "languageId": "sage"
    }
   },
   "outputs": [],
   "source": [
    "x=1\n",
    "n=0\n",
    "m=364\n",
    "while x>0.5:\n",
    "    x*=m\n",
    "    m-=1\n",
    "    x/=365\n",
    "    n+=1\n",
    "s(n)"
   ]
  }
 ],
 "metadata": {
  "kernelspec": {
   "display_name": "SageMath 10.6",
   "language": "sage",
   "name": "sagemath"
  },
  "language_info": {
   "codemirror_mode": {
    "name": "ipython",
    "version": 3
   },
   "file_extension": ".py",
   "mimetype": "text/x-python",
   "name": "python",
   "nbconvert_exporter": "python",
   "pygments_lexer": "ipython3",
   "version": "3.12.10"
  }
 },
 "nbformat": 4,
 "nbformat_minor": 5
}
