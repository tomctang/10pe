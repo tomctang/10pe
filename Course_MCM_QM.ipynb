{
 "cells": [
  {
   "cell_type": "markdown",
   "id": "66345d12",
   "metadata": {},
   "source": [
    "# Quantum Mechanics"
   ]
  },
  {
   "cell_type": "markdown",
   "id": "8c563615",
   "metadata": {},
   "source": [
    "## Pre"
   ]
  },
  {
   "cell_type": "markdown",
   "id": "9b284ec6",
   "metadata": {},
   "source": [
    "\n",
    "Sage has no [QM-specific module](https://doc.sagemath.org/html/en/reference/algebras/quantum_groups.html), so use [SymPy’s quantum module](https://docs.sympy.org/latest/modules/physics/quantum/index.html), [QuTiP - Quantum Toolbox in Python](https://qutip.org/), [Wolfram Quantum Framework](https://www.wolfram.com/quantum-computation-framework/), [Julia QuantumOptics.jl](https://qojulia.org/), [jrjohansson collection](https://jrjohansson.github.io/computing.html)\n",
    "- The first application of QM is QC - [IBM run on real quantum computers for free](https://quantum.cloud.ibm.com/), download [Qiskit python quantum computing IBM](https://github.com/qiskit-community/qiskit-community-tutorials/tree/master)"
   ]
  },
  {
   "cell_type": "markdown",
   "id": "1e5a5d24",
   "metadata": {},
   "source": [
    "Symbols & Natural Names\n",
    "- $\\langle\\psi|$: Bra\n",
    "- $|\\phi\\rangle$: Ket\n",
    "- $\\langle\\phi|\\psi\\rangle$: Bra-ket\n",
    "- $[\\hat{A}\\hat{B}]$: Commutator\n",
    "- $\\hat{S_z}$: hatsz (spin on z-axis)\n",
    "- $\\hat{S_y}$: hatsy (spin on y-axis)\n",
    "- $\\hat{S_x}$: hatsx (spin on x-axis)\n",
    "- $\\hat{S_+}$: hatsp (raising operator)\n",
    "- $\\hat{S_-}$: hatsm (lowering operator)\n",
    "- $\\hbar$: hbar\n",
    "- $B$: magnetic field"
   ]
  },
  {
   "cell_type": "markdown",
   "id": "edd5b6a8",
   "metadata": {},
   "source": [
    "Maths Notes\n",
    "- Learn Fourier Analysis\n",
    "- Linear Algebra\n",
    "    - Determinant\n",
    "    - Eigenvalues\n",
    "    - Eigenvectors\n",
    "- ODE\n",
    "- Vector Calculus"
   ]
  },
  {
   "cell_type": "markdown",
   "id": "65233940",
   "metadata": {},
   "source": [
    "## QM for Everyone"
   ]
  },
  {
   "cell_type": "markdown",
   "id": "47590241",
   "metadata": {},
   "source": [
    "[QM for Everyone](https://www.edx.org/learn/quantum-physics-mechanics/georgetown-university-quantum-mechanics-for-everyone) is the experimental foundation, play [QM interactive games](https://www.st-andrews.ac.uk/physics/quvis/index.html):\n",
    "\n",
    "- [Stern-Gerlach experiment](https://www.st-andrews.ac.uk/physics/quvis/simulations_html5/sims/spin1/spin1.html)\n",
    "- [Quantum Uncertainty](https://www.st-andrews.ac.uk/physics/quvis/simulations_html5/sims/uncertainty2/uncertainty.html)\n",
    "- [Delayed choice experiment](https://www.st-andrews.ac.uk/physics/quvis/simulations_html5/sims/DelayedChoice/DelayedChoice.html)\n",
    "- [Entanglement(EPR experiment)](https://www.st-andrews.ac.uk/physics/quvis/simulations_html5/sims/entanglement/entanglement.html)\n",
    "- [Entangled atoms and hidden variables](https://www.st-andrews.ac.uk/physics/quvis/simulations_html5/sims/quantum-versus-hv1/quantum-versus-hv1.html)\n",
    "- [Entangled atoms vs hidden variables](https://www.st-andrews.ac.uk/physics/quvis/simulations_html5/sims/quantum-versus-hv2/quantum-versus-hv2.html)\n",
    "- [Interferometer exp. with single photons](https://www.st-andrews.ac.uk/physics/quvis/simulations_html5/sims/SinglePhotonLab/SinglePhotonLab.html)\n",
    "- [Interferometer exp. with photons, particles, waves](https://www.st-andrews.ac.uk/physics/quvis/simulations_html5/sims/photons-particles-waves/photons-particles-waves.html)\n",
    "- [Quantum bomb detection](https://www.st-andrews.ac.uk/physics/quvis/simulations_html5/sims/QuantumBombGame/Quantum_bomb.html)\n",
    "- [Quantum eraser with polarizers](https://www.st-andrews.ac.uk/physics/quvis/simulations_html5/sims/QuantumEraser/QuantumEraser.html)"
   ]
  },
  {
   "cell_type": "markdown",
   "id": "7f9217f6",
   "metadata": {},
   "source": [
    "### Intro & Quantum Probability"
   ]
  },
  {
   "cell_type": "markdown",
   "id": "5453db83",
   "metadata": {},
   "source": [
    "- Fermions: Metals that conduct electricity do so because there is a \"sea of electrons\". This is created from the Pauli exclusion principle, since electrons are fermions, and fermions stay apart, they stay apart.\n",
    "- Alpha Particles: Created by radioactive elements. Since it is slow and heavy, it has low penetration power but can damage biological tissue. Smoke detectors use heavy elements to detect smoke as when there is smoke the current flow between the 2 metal plates that are held at different voltages the current is changed.\n",
    "- Magnetic Fields: These are vector fields that are created by magnets.\n",
    "    - The closer to a magnet you are, the stronger the intensity.\n",
    "    - Normally the arrows indicate where the north pole of a magnet will be attracted to.\n",
    "    - Forces in the magnetic field can cause the magnet to move because of a net force or spin because of forces in opposite directions at different ends.\n",
    "        - The net force can be calculated by finding the axis of increasing intensity and then finding the projection of the magnet onto the axis. When doing this it is useful to keep the south pole of the magnet on the axis.\n",
    "    - Fat Arrows: For some magnetic fields, they can be represented by fat arrows where the width is the intensity of the magnetic field and the direction of the arrows is indicated by the fat arrow's direction.\n",
    "    - Magnetic Needles: These are idealized small magnets like those in compasses.\n",
    "- Precession: A rotation that occurs when there is a magnet and a magnetic field.\n",
    "    - Even when there is precession, the projection remains constant as it rotates perpendicular to the axis of increasing field.\n",
    "- Stern-Gerlach Experiment: Atoms are injected through a region of space where because of a magnetic field, there will be precession. 2 magnets will deflect the atom until it hits the screen where there is a detector.\n",
    "    - This experiment has many variants.\n",
    "    - In the quantum world, since everything is random, the atoms' chance of exiting a specific exit for positive and negative can be calculated using a formula.\n",
    "    - Each Stern-Gerlach analyzer measures the atom's projection on a specific axis. If the atom has no projection on that axis then it chooses a random path to take.\n",
    "- Birthday Problem: The problem asks you that how many people must be in a large room for the chance of at least 2 people having the same birthday to be a specific number.\n",
    "    - There are many variants.\n",
    "- Penney's Game: This is an unfair coin game that seems fair at first. If you pick the sequence of coins first then the other person can always pick a sequence to have a greater chance of winning(unlike the same game but with sequences of 2 coins).\n",
    "    - Rules\n",
    "        1. Each player picks a sequence of 3 coins.\n",
    "        1. Flip a coin, then put it at one end of the coins.\n",
    "        1. Continue until the 3 coins in the middle matches a player's sequence.\n",
    "        1. If the 3 coins in the middle matches your sequence, you win this round.\n",
    "        1. Continue for as many rounds as needed."
   ]
  },
  {
   "cell_type": "code",
   "execution_count": null,
   "id": "2341fcb5",
   "metadata": {},
   "outputs": [],
   "source": [
    "# Birthday Problem\n",
    "result=False\n",
    "count=0\n",
    "for i in range(100000):\n",
    "    result_in=False\n",
    "    people=23\n",
    "    birthdays=[]\n",
    "    for i in range(people):\n",
    "        birthdays.append(randint(1,52))\n",
    "    birthdays.sort()\n",
    "    for i in range(1,53):\n",
    "        if birthdays.count(i)>2:\n",
    "            result=True\n",
    "            result_in=True\n",
    "    if result_in==True:\n",
    "        count+=1\n",
    "count"
   ]
  },
  {
   "cell_type": "code",
   "execution_count": null,
   "id": "9633b627",
   "metadata": {},
   "outputs": [],
   "source": [
    "# Penney's Game\n",
    "me_win=0\n",
    "comp_win=0\n",
    "me_coins=[0,1,0]\n",
    "comp_coins=[0,1,1]\n",
    "for i in range(100000):\n",
    "    coins=[2,2,2]\n",
    "    coins_req=[coins[-3],coins[-2],coins[-1]]\n",
    "    while coins_req!=me_coins and coins_req!=comp_coins:\n",
    "        coins.append(randint(0,1))\n",
    "        coins_req=[coins[-3],coins[-2],coins[-1]]\n",
    "    if me_coins==coins_req:\n",
    "        me_win+=1\n",
    "    else:\n",
    "        comp_win+=1\n",
    "s(me_win,comp_win)"
   ]
  },
  {
   "cell_type": "code",
   "execution_count": null,
   "id": "42d1d959",
   "metadata": {},
   "outputs": [],
   "source": [
    "# ???\n",
    "s(11/12*10/12*9/12*8/12*7/12,1728-385)\n",
    "plot(cos(x/2)^2,(x,0,2*pi), figsize=3)"
   ]
  },
  {
   "cell_type": "code",
   "execution_count": null,
   "id": "ecf8c791",
   "metadata": {},
   "outputs": [],
   "source": [
    "x=1\n",
    "n=0\n",
    "m=364\n",
    "while x>0.5:\n",
    "    x*=m\n",
    "    m-=1\n",
    "    x/=365\n",
    "    n+=1\n",
    "s(n)"
   ]
  },
  {
   "cell_type": "markdown",
   "id": "79204517",
   "metadata": {},
   "source": [
    "### Advanced Quantum Mechanics with Spins"
   ]
  },
  {
   "cell_type": "markdown",
   "id": "af7850a2",
   "metadata": {},
   "source": [
    "Notes\n",
    "- Two-Slit Experiment with Stern-Gerlach Analyzer Loop: There are two results using classical and quantum probability. The quantum probability result is correct where since the path taken is indeterminate(you can also say it takes both paths), the atom's state does not change.\n",
    "    - Detector Variant: If a detector is put in the analyzer loop, the atom's x state becomes known meaning it no longer has a state in the z direction.\n",
    "- Einstein-Podolsky-Rosen(EPR) Experiment: This is an experiment where there is a source which fires two atoms with opposite projections in a specific axis and is measured by two analyzers. One analyzer is slightly closer than the other so that we will know the state of the atom that hasn't entered the analyzer yet because we have measured the other atom's state. But say the analyzers are very far away. Then wouldn't the information have been transfered faster than light?\n",
    "    - The hidden variables theory that Einstein made was disproved by Bell's theorems.\n",
    "\n",
    "<img src=\"https://raw.githubusercontent.com/tomctang/NB_img/main/sge.png\" alt=\"seriesgraph\" width=\"500\">"
   ]
  },
  {
   "cell_type": "markdown",
   "id": "753ba567",
   "metadata": {},
   "source": [
    "### The Quantum Mechanics of Light"
   ]
  },
  {
   "cell_type": "markdown",
   "id": "63645a11",
   "metadata": {},
   "source": [
    "Notes\n",
    "- Light is made of particles.\n",
    "    - This has a long history.\n",
    "    - This can be proved using an experiment as when you shoot photons randomly through a single then you will get an pattern with a denser patch where the slit is. If instead it was a wave then it would be uniformly distributed.\n",
    "- Quantum Mechanics Process\n",
    "    1. Identify all events.\n",
    "    1. Find all alternative events that can occur.\n",
    "    1. Use quantum rules to find the amplitude arrow.\n",
    "        - Arrows rotate at a given speed(see below) based on the colour of the photon(1 revolution for every wavelength travelled).\n",
    "    1. Add all the arrows together to construct the final arrow.\n",
    "    1. Square the length of the final arrow to calculate the probability for that event to occur.\n",
    "    1. Add all the probabilities to calculate the total probability.\n",
    "- Calculation for Amplitude Arrows\n",
    "    - Use a clock that spins starting at 12 o'clock.\n",
    "    - Spinning rate through air\n",
    "        - Red Light: 36000 revolutions per inch(this one is mainly used in experiments)\n",
    "        - Green Light: 54000 revolutions per inch\n",
    "        - Blue Light: 72000 revolutions per inch\n",
    "    - Reflection\n",
    "        - Reflection in air on glass: Multiply length by 0.2 and add 0.5 revolutions(6 hours) to the clock.\n",
    "        - Reflection in glass on glass: Just multiply length by 0.2\n",
    "    - Transmission\n",
    "        - Transmission from air to glass: Multiply length by 0.98\n",
    "        - Transmission from glass to air: Multiply length by 0.98\n",
    "- Info on Experiments\n",
    "    - 1-3: These are experiments where the photons only interact with air and glass.\n",
    "    - 4-?: These experiments mostly have slits that photons have to get through in order to get detected.\n",
    "- Source-Detector Experiments of Light\n",
    "    1. There is only one event so this is boring. Source -> Detector The length is just 1 meaning the final probability is 1.\n",
    "    <img src=\"https://raw.githubusercontent.com/tomctang/NB_img/main/experiment1.png\" alt=\"exp.1\" width=\"200\">\n",
    "    1. The two alternative events are to reflect of the top of the glass or the bottom of the glass. Calculating gives a probability of 3%.\n",
    "    <img src=\"https://raw.githubusercontent.com/tomctang/NB_img/main/experiment2.png\" alt=\"exp.2\" width=\"200\">\n",
    "    1. There is only one event which is where the photon gets transmitted. Using quantum rules gives a probability of 96%.\n",
    "    <img src=\"https://raw.githubusercontent.com/tomctang/NB_img/main/experiment3.png\" alt=\"exp.3\" width=\"150\">\n",
    "        - Even if you change the thickness of the glass, the probability is the same because all of them include one event where there is a transmission.\n",
    "- Two Slit Experiment\n",
    "    - This experiment is strange because out of the two slits, when you calculate the final probability for a photon to reach the detector, it is not the sum of the two probability for single slits like you would expect.\n",
    "    - If you move the detector to where there is a zero probability of the photon reaching the detector and then block a slit, the probability of a photon reaching the detector there increases.\n",
    "    - This is strange as when you add more blockages, more photons reach the detectors. This is related to quantum seeing in the dark."
   ]
  },
  {
   "cell_type": "markdown",
   "id": "f28fc4f1",
   "metadata": {},
   "source": [
    "### Advanced Quantum Mechanics of Light"
   ]
  },
  {
   "cell_type": "markdown",
   "id": "b9b9a72d",
   "metadata": {},
   "source": [
    "Notes\n",
    "- Quantum Seeing in the Dark\n",
    "    - Two Slit Experiment\n",
    "        - In the experiment there is interference patterns where the probability of a photon being detected is virtually zero.\n",
    "        - If the detector is moved there and a path is blocked, then we can see the blockage without looking.\n",
    "- Mach-Zehnder Interferometer\n",
    "    - When this interferometer does not contain any polarizers and both paths have the same length, all the photons will go to one detector as the signal is amplified.\n",
    "    - When an object is added, this changes the probability and the other detector will receive photons. This is also how quantum bomb detection works.\n",
    "- Quantum Zeno Effect(go to paradox and infinity)"
   ]
  },
  {
   "cell_type": "markdown",
   "id": "a515c054",
   "metadata": {},
   "source": [
    "### Final Exam"
   ]
  },
  {
   "cell_type": "markdown",
   "id": "1f89ff26",
   "metadata": {},
   "source": [
    "Notes\n",
    "- P.8: Check part 3\n",
    "- P11: Check part 2"
   ]
  },
  {
   "cell_type": "code",
   "execution_count": null,
   "id": "aed5ebee",
   "metadata": {},
   "outputs": [],
   "source": [
    "0.28^2+0.0036"
   ]
  },
  {
   "cell_type": "code",
   "execution_count": null,
   "id": "0c9f67d7",
   "metadata": {},
   "outputs": [],
   "source": [
    "0.9539^2*0.3^3"
   ]
  },
  {
   "cell_type": "code",
   "execution_count": null,
   "id": "b563ca61",
   "metadata": {},
   "outputs": [],
   "source": [
    "(0.3+0.9539^2*0.3)^2"
   ]
  },
  {
   "cell_type": "code",
   "execution_count": null,
   "id": "4e455f74",
   "metadata": {},
   "outputs": [],
   "source": [
    "x=cos(pi/9)\n",
    "s(n(x),n(x^2),n(x^3))\n",
    "s(n(cos(pi/20)^10))"
   ]
  },
  {
   "cell_type": "code",
   "execution_count": null,
   "id": "d59781fb",
   "metadata": {},
   "outputs": [],
   "source": [
    "n=1\n",
    "m=52\n",
    "for i in range(10):\n",
    "    n*=m-1\n",
    "    n/=365\n",
    "    m-=1\n",
    "print(float(n))"
   ]
  },
  {
   "cell_type": "markdown",
   "id": "b1335f8e",
   "metadata": {},
   "source": [
    "## M1. Intro Quantum World"
   ]
  },
  {
   "cell_type": "markdown",
   "id": "1e344ebf",
   "metadata": {},
   "source": [
    "- Quantum Systems: systems governed by QM laws, which differ from classical physics. Q-systems exhibit phenomena such as superposition, entanglement, and quantum tunneling.\n",
    "- QM Principles: \n",
    "  - Superposition: Objects existing in multiple states simultaneously.\n",
    "  - Entanglement: Intertwined quantum states of multiple particles.\n",
    "  - Quantization: Discrete and specific values of certain properties.\n",
    "\n",
    "<img src=\"https://raw.githubusercontent.com/tomctang/NB_img/main/qmcore.jpg\" alt=\"exp.1\" width=\"650\">\n",
    "\n",
    "|Fields |Key points | | | |\n",
    "-|-|-|-|-\n",
    "**Quantum Computing**| Qubits: Basic unit of quantum information| Superposition: Utilizing Q states for parallel processing | Q Algorithms: Algorithms designed for Q computers\n",
    "**Quantum Communication**| Quantum Key Distribution: Securely distributing cryptographic keys|Teleportation: Instantaneous transfer of Q information. | Q Internet: Q communication network.\n",
    "**Quantum Sensing and Metrology**|Atomic Clocks: Extremely precise timekeeping using Q properties.|MRI: Q-based imaging technology for medical diagnosis | Q Metrology: High-precision measurement in many fields |Q Gyroscopes: Advanced navigation and rotation sensing devices.\n",
    "QM supports Chemistry, so it's founational to Life Sciences| eg. use solutions to Schrödinger Eq to describe how chemical bonds are formed between atoms.\n",
    "\n",
    "<img src=\"https://raw.githubusercontent.com/tomctang/NB_img/main/qminfo.jpg\" alt=\"exp.1\" width=\"500\">\n"
   ]
  },
  {
   "cell_type": "markdown",
   "id": "37304815",
   "metadata": {},
   "source": [
    "- Fermions: Metals that conduct electricity do so because there is a \"sea of electrons\". This is created from the Pauli exclusion principle, since electrons are fermions, and fermions stay apart, they stay apart.\n",
    "- Alpha Particles: Created by radioactive elements. Since it is slow and heavy, it has low penetration power but can damage biological tissue. Smoke detectors use heavy elements to detect smoke as when there is smoke the current flow between the 2 metal plates that are held at different voltages the current is changed.\n",
    "- Magnetic Fields: These are vector fields that are created by magnets.\n",
    "    - The closer to a magnet you are, the stronger the intensity.\n",
    "    - Normally the arrows indicate where the north pole of a magnet will be attracted to.\n",
    "    - Forces in the magnetic field can cause the magnet to move because of a net force or spin because of forces in opposite directions at different ends.\n",
    "        - The net force can be calculated by finding the axis of increasing intensity and then finding the projection of the magnet onto the axis. When doing this it is useful to keep the south pole of the magnet on the axis.\n",
    "    - Fat Arrows: For some magnetic fields, they can be represented by fat arrows where the width is the intensity of the magnetic field and the direction of the arrows is indicated by the fat arrow's direction.\n",
    "    - Magnetic Needles: These are idealized small magnets like those in compasses.\n",
    "    - Magnetic fields are always inhomogeneous vector fields which means there divergence is always zero.\n",
    "- Precession: A rotation that occurs when there is a magnet and a magnetic field.\n",
    "    - Even when there is precession, the projection remains constant as it rotates perpendicular to the axis of increasing field.\n",
    "- Stern-Gerlach Experiment(SGE): Atoms are injected through a region of space where because of a magnetic field, there will be precession. 2 magnets will deflect the atom until it hits the screen where there is a detector.\n",
    "    - This experiment has many variants.\n",
    "    - In the quantum world, since everything is random, the atoms' chance of exiting a specific exit for positive and negative can be calculated using a formula.\n",
    "    - Each Stern-Gerlach analyzer measures the atom's projection on a specific axis. If the atom has no projection on that axis then it chooses a random path to take.\n",
    "    - In the SGE, the inhomogeneous magnetic field's $y$ direction can be neglected because the magnetic field should make the effect cancel out on the sides and since the atom is moving along the $y$ direction, the net force should not change when the position moves along the $y$ axis.\n",
    "    - The force on the classical current loop can be calculated using the formula $\\vec{\\bf F}(t)=\\vec{\\nabla} \\left (\\vec{\\mu}(t)\\cdot\\vec{\\bf B}(x,y,z)\\right )$ where $B$ is the magnetic field(this is the notation) and $mu$ is the effective needle that represents the current loop.\n",
    "- Birthday Problem: The problem asks you that how many people must be in a large room for the chance of at least 2 people having the same birthday to be a specific number.\n",
    "    - There are many variants.\n",
    "- Penney's Game: This is an unfair coin game that seems fair at first. If you pick the sequence of coins first then the other person can always pick a sequence to have a greater chance of winning(unlike the same game but with sequences of 2 coins).\n",
    "    - Rules\n",
    "        1. Each player picks a sequence of 3 coins.\n",
    "        1. Flip a coin, then put it at one end of the coins.\n",
    "        1. Continue until the 3 coins in the middle matches a player's sequence.\n",
    "        1. If the 3 coins in the middle matches your sequence, you win this round.\n",
    "        1. Continue for as many rounds as needed.\n",
    "- Dirac Notation: This notation is a way to represent vectors, matrices, and vector products.\n",
    "    - Bra($\\langle\\phi|$): This is the Hermitian conjugate of a ket(row vector).\n",
    "    - Ket($|\\phi\\rangle$): This represents a column vector.\n",
    "    - Bra-ket($\\langle\\phi|\\psi\\rangle$): This is the inner product(dot product) of the ket and bra(complex number).\n",
    "    - \"Butterfly Diagram\"($|\\psi\\rangle\\langle\\phi|$): This is the outer product and is more complicated then the first three(matrix).\n",
    "        - This is named \"Butterfly Diagram\" because it looks like one and Dirac did not have a name for it.\n",
    "    - Change of basis: [add notes]"
   ]
  },
  {
   "cell_type": "markdown",
   "id": "abe9a62c",
   "metadata": {},
   "source": [
    "QM vs. CM\n",
    "\n",
    "<img src=\"https://raw.githubusercontent.com/tomctang/NB_img/main/qmdiff3.png\" alt=\"exp.1\" width=\"500\">\n",
    "<img src=\"https://raw.githubusercontent.com/tomctang/NB_img/main/qmdiff31.jpg\" alt=\"exp.1\" width=\"500\">\n",
    "\n",
    "<img src=\"https://raw.githubusercontent.com/tomctang/NB_img/main/qmdiff22.png\" alt=\"exp.1\" width=\"500\">\n",
    "\n",
    "<img src=\"https://raw.githubusercontent.com/tomctang/NB_img/main/qmdiff1.png\" alt=\"exp.1\" width=\"600\">\n",
    "<img src=\"https://raw.githubusercontent.com/tomctang/NB_img/main/qmdiff4.png\" alt=\"exp.1\" width=\"800\">\n"
   ]
  },
  {
   "cell_type": "code",
   "execution_count": null,
   "id": "b2c4b239",
   "metadata": {},
   "outputs": [],
   "source": [
    "# Bra–Ket algebra built-in Sage\n",
    "class Ket:\n",
    "    def __init__(self, label, vector=None):\n",
    "        \"\"\"\n",
    "        label: symbolic label for Dirac notation, e.g. 'psi'\n",
    "        vector: optional Sage vector for numerical representation\n",
    "        \"\"\"\n",
    "        self.label = label\n",
    "        self.vector = vector\n",
    "        self.symbol = var(f\"ket_{label}\", latex_name=f\"|{label}\\\\rangle\")\n",
    "\n",
    "    def __str__(self):\n",
    "        return f\"|{self.label}>\"\n",
    "\n",
    "    def _latex_(self):\n",
    "        return f\"|{self.label}\\\\rangle\"\n",
    "\n",
    "    def bra(self):\n",
    "        \"\"\"Return the corresponding Bra\"\"\"\n",
    "        if self.vector is not None:\n",
    "            return Bra(self.label, self.vector.conjugate())\n",
    "        return Bra(self.label)\n",
    "\n",
    "    def __mul__(self, other):\n",
    "        # Inner product <bra|ket>\n",
    "        if isinstance(other, Bra) and self.vector is not None and other.vector is not None:\n",
    "            return self.vector.inner_product(other.vector)\n",
    "        # Fallback symbolic\n",
    "        elif isinstance(other, Bra):\n",
    "            return SR(self.symbol * other.symbol)\n",
    "        return NotImplemented\n",
    "\n",
    "    def outer(self, bra):\n",
    "        \"\"\"Outer product |ket><bra| → a matrix\"\"\"\n",
    "        if self.vector is not None and bra.vector is not None:\n",
    "            return matrix(self.vector).transpose() * matrix(bra.vector)\n",
    "        return SR(self.symbol * bra.symbol)\n",
    "\n",
    "    def tensor(self, other):\n",
    "        \"\"\"Tensor product |ket1>⊗|ket2>\"\"\"\n",
    "        if self.vector is not None and other.vector is not None:\n",
    "            return Ket(self.label + other.label,\n",
    "                       self.vector.tensor_product(other.vector))\n",
    "        return Ket(self.label + other.label)\n",
    "\n",
    "\n",
    "class Bra:\n",
    "    def __init__(self, label, vector=None):\n",
    "        self.label = label\n",
    "        self.vector = vector\n",
    "        self.symbol = var(f\"bra_{label}\", latex_name=f\"\\\\langle{label}|\")\n",
    "\n",
    "    def __str__(self):\n",
    "        return f\"<{self.label}|\"\n",
    "\n",
    "    def _latex_(self):\n",
    "        return f\"\\\\langle{self.label}|\"\n",
    "\n",
    "    def __mul__(self, other):\n",
    "        # Inner product <bra|ket>\n",
    "        if isinstance(other, Ket) and self.vector is not None and other.vector is not None:\n",
    "            return self.vector.inner_product(other.vector)\n",
    "        elif isinstance(other, Ket):\n",
    "            return SR(self.symbol * other.symbol)\n",
    "        return NotImplemented\n",
    "\n",
    "    def tensor(self, other):\n",
    "        if self.vector is not None and other.vector is not None:\n",
    "            return Bra(self.label + other.label,\n",
    "                       self.vector.tensor_product(other.vector))\n",
    "        return Bra(self.label + other.label)\n",
    "\n",
    "# Numeric + symbolic states\n",
    "psi = Ket(\"ψ\", vector([1/sqrt(2), 1/sqrt(2)]))   # |ψ>\n",
    "phi = Ket(\"φ\", vector([1, 0]))                   # |φ>\n",
    "\n",
    "bra_psi = psi.bra()\n",
    "bra_phi = phi.bra()\n",
    "\n",
    "s(psi.symbol, bra_psi.symbol)  # shows |ψ⟩ and ⟨ψ|\n",
    "\n",
    "s(\"<ψ|ψ> =\", bra_psi * psi)       # Inner product = 1 numerically\n",
    "s(\"|ψ><ψ| =\", psi.outer(bra_psi)) # Outer product\n",
    "\n",
    "# Tensor product\n",
    "psi_tensor_phi = psi.tensor(phi)\n",
    "s(\"|ψ>⊗|φ> =\", psi_tensor_phi.symbol) # show symbol\n",
    "s(\"Tensor vector:\", psi_tensor_phi.vector)\n"
   ]
  },
  {
   "cell_type": "code",
   "execution_count": null,
   "id": "d31b5c4b",
   "metadata": {},
   "outputs": [],
   "source": [
    "s(2/sqrt(abs((a-d+sqrt(a^2+4*b*c-2*a*d+d^2))/b)^2+4))\n",
    "s(-(a-d+sqrt(a^2+4*b*c-2*a*d+d^2))/(sqrt(abs((a-d+sqrt(a^2+4*b*c-2*a*d+d^2))/b)^2+4)*b))\n",
    "s(2/sqrt(abs((a-d-sqrt(a^2+4*b*c-2*a*d+d^2))/b)^2+4))\n",
    "s(-(a-d+sqrt(a^2+4*b*c-2*a*d+d^2))/(sqrt(abs((a-d-sqrt(a^2+4*b*c-2*a*d+d^2))/b)^2+4)*b))"
   ]
  },
  {
   "cell_type": "code",
   "execution_count": null,
   "id": "46f6b76f",
   "metadata": {},
   "outputs": [],
   "source": [
    "var('a b c d')\n",
    "A=matrix(2,2,[a,b,c,d])\n",
    "s(A.eigenvalues())\n",
    "s(A.eigenvectors_right()[0][1][0]/A.eigenvectors_right()[0][1][0].norm())\n",
    "s(A.eigenvectors_right()[1][1][0]/A.eigenvectors_right()[1][1][0].norm())"
   ]
  },
  {
   "cell_type": "code",
   "execution_count": null,
   "id": "ae63a002",
   "metadata": {},
   "outputs": [],
   "source": [
    "s(n(cos(3*pi/8)^2))\n",
    "s(n(cos(pi/6)^2))"
   ]
  },
  {
   "cell_type": "code",
   "execution_count": null,
   "id": "ad668be7",
   "metadata": {},
   "outputs": [],
   "source": [
    "A=matrix([[4, -i],\n",
    "          [i, 2]])\n",
    "ps=vector([2, i])/sqrt(5)\n",
    "ph=vector([-i, 2])/sqrt(5)\n",
    "aps=A*ps\n",
    "aph=A*ph\n",
    "s(aps.dot_product(ps.conjugate()),aps.dot_product(ph.conjugate()),aph.dot_product(ps.conjugate()),aph.dot_product(ph.conjugate()))"
   ]
  },
  {
   "cell_type": "code",
   "execution_count": null,
   "id": "39a044f0",
   "metadata": {},
   "outputs": [],
   "source": [
    "A=matrix([[3, 4*i],\n",
    "          [-4*i, -3]])\n",
    "s(A.eigenvectors_right())"
   ]
  },
  {
   "cell_type": "markdown",
   "id": "921b95b7",
   "metadata": {},
   "source": [
    "## M2. Advanced QM with Spins"
   ]
  },
  {
   "cell_type": "markdown",
   "id": "846a0d4f",
   "metadata": {},
   "source": [
    "Notes\n",
    "- Two-Slit Experiment with Stern-Gerlach Analyzer Loop: There are two results using classical and quantum probability. The quantum probability result is correct where since the path taken is indeterminate(you can also say it takes both paths), the atom's state does not change.\n",
    "    - Detector Variant: If a detector is put in the analyzer loop, the atom's x state becomes known meaning it no longer has a state in the z direction.\n",
    "- Einstein-Podolsky-Rosen(EPR) Experiment: This is an experiment where there is a source which fires two atoms with opposite projections in a specific axis and is measured by two analyzers. One analyzer is slightly closer than the other so that we will know the state of the atom that hasn't entered the analyzer yet because we have measured the other atom's state. But say the analyzers are very far away. Then wouldn't the information have been transfered faster than light?\n",
    "    - The hidden variables theory that Einstein made were disproved by Bell's theorems.\n",
    "- Commutation: $[\\hat{A},\\hat{B}]=\\hat{A}\\hat{B}-\\hat{B}\\hat{A}$ [add notes]\n",
    "    - Operator Identity 1: $[\\hat{S}_z,\\hat{S}_\\pm]=\\pm\\hbar\\hat{S}_\\pm$(The $\\pm$ means this works for both $+$ and $-$. Just substitute the same sign for every $\\pm$ to get the right formula.)\n",
    "    - Operator Identity 2: $[\\hat{S}_+,\\hat{S}_-]=2\\hbar\\hat{S}_z$\n",
    "    - Operator Identity 3: $[\\hat{A},\\hat{B}]=-[\\hat{B},\\hat{A}]$\n",
    "    - Operator Identity 4: $[\\hat{A},\\hat{A}]=0$\n",
    "    - Operator Identity 5: $[\\hat{S}_i,\\hat{S}_j]=i\\hbar\\sum_k\\epsilon_{ijk}\\sigma_k\\hat{S}_k$\n",
    "- Spin Operator Rules\n",
    "    - $\\hat{S}_z|\\uparrow\\rangle_z=\\frac{\\hbar}{2}|\\uparrow\\rangle_z$\n",
    "    - $\\hat{S}_z|\\downarrow\\rangle_z=-\\frac{\\hbar}{2}|\\downarrow\\rangle_z$\n",
    "    - $\\hat{S}_+|\\uparrow\\rangle_z=0$\n",
    "    - $\\hat{S}_+|\\downarrow\\rangle_z=\\hbar|\\uparrow\\rangle_z$\n",
    "    - $\\hat{S}_-|\\uparrow\\rangle_z=\\hbar|\\downarrow\\rangle_z$\n",
    "    - $\\hat{S}_-|\\downarrow\\rangle_z=0$\n",
    "\n",
    "<img src=\"https://raw.githubusercontent.com/tomctang/NB_img/main/sge.png\" alt=\"seriesgraph\" width=\"500\">"
   ]
  },
  {
   "cell_type": "markdown",
   "id": "272c8a64",
   "metadata": {},
   "source": [
    "## M3. The QM of Light"
   ]
  },
  {
   "cell_type": "markdown",
   "id": "fefc5420",
   "metadata": {},
   "source": [
    "Notes\n",
    "- Light is made of particles.\n",
    "    - This has a long history.\n",
    "    - This can be proved using an experiment as when you shoot photons randomly through a single then you will get an pattern with a denser patch where the slit is. If instead it was a wave then it would be uniformly distributed.\n",
    "- Quantum Mechanics Process\n",
    "    1. Identify all events.\n",
    "    1. Find all alternative events that can occur.\n",
    "    1. Use quantum rules to find the amplitude arrow.\n",
    "        - Arrows rotate at a given speed(see below) based on the colour of the photon(1 revolution for every wavelength travelled).\n",
    "    1. Add all the arrows together to construct the final arrow.\n",
    "    1. Square the length of the final arrow to calculate the probability for that event to occur.\n",
    "    1. Add all the probabilities to calculate the total probability.\n",
    "- Calculation for Amplitude Arrows\n",
    "    - Use a clock that spins starting at 12 o'clock.\n",
    "    - Spinning rate through air\n",
    "        - Red Light: 36000 revolutions per inch(this one is mainly used in experiments)\n",
    "        - Green Light: 54000 revolutions per inch\n",
    "        - Blue Light: 72000 revolutions per inch\n",
    "    - Reflection\n",
    "        - Reflection in air on glass: Multiply length by 0.2 and add 0.5 revolutions(6 hours) to the clock.\n",
    "        - Reflection in glass on glass: Just multiply length by 0.2\n",
    "    - Transmission\n",
    "        - Transmission from air to glass: Multiply length by 0.98\n",
    "        - Transmission from glass to air: Multiply length by 0.98\n",
    "- Info on Experiments\n",
    "    - 1-3: These are experiments where the photons only interact with air and glass.\n",
    "    - 4-?: These experiments mostly have slits that photons have to get through in order to get detected.\n",
    "- Source-Detector Experiments of Light\n",
    "    1. There is only one event so this is boring. Source -> Detector The length is just 1 meaning the final probability is 1.\n",
    "    <img src=\"https://raw.githubusercontent.com/tomctang/NB_img/main/experiment1.png\" alt=\"exp.1\" width=\"200\">\n",
    "    1. The two alternative events are to reflect of the top of the glass or the bottom of the glass. Calculating gives a probability of 3%.\n",
    "    <img src=\"https://raw.githubusercontent.com/tomctang/NB_img/main/experiment2.png\" alt=\"exp.2\" width=\"200\">\n",
    "    1. There is only one event which is where the photon gets transmitted. Using quantum rules gives a probability of 96%.\n",
    "    <img src=\"https://raw.githubusercontent.com/tomctang/NB_img/main/experiment3.png\" alt=\"exp.3\" width=\"150\">\n",
    "        - Even if you change the thickness of the glass, the probability is the same because all of them include one event where there is a transmission.\n",
    "- Two Slit Experiment\n",
    "    - This experiment is strange because out of the two slits, when you calculate the final probability for a photon to reach the detector, it is not the sum of the two probability for single slits like you would expect.\n",
    "    - If you move the detector to where there is a zero probability of the photon reaching the detector and then block a slit, the probability of a photon reaching the detector there increases.\n",
    "    - This is strange as when you add more blockages, more photons reach the detectors. This is related to quantum seeing in the dark.\n",
    "- Complex numbers describing oscillations and waves\n",
    "    - Oscillations: $x(t)={\\rm Re}\\left (Ae^{-i\\omega t}\\right )$ where $A=\\alpha e^{i\\phi_0}$ is the complex amplitude and phase and $\\omega=\\sqrt{\\frac{k}{m}}$ is the frequency of the oscillator.\n",
    "    - Wave motion: $x(t)={\\rm Re}\\left ( A e^{ikx-i\\omega t}\\right )$(where $A=\\alpha e^{i\\phi_0}$ just like above)\n",
    "- Dirac way for two-slit experiment\n",
    "    - [add notes]"
   ]
  },
  {
   "cell_type": "markdown",
   "id": "3e67b13e",
   "metadata": {},
   "source": [
    "## M4. Advanced Quantum Ideas with Light"
   ]
  },
  {
   "cell_type": "markdown",
   "id": "538ae4c1",
   "metadata": {},
   "source": [
    "Notes\n",
    "- Quantum Seeing in the Dark\n",
    "    - Two Slit Experiment\n",
    "        - In the experiment there is interference patterns where the probability of a photon being detected is virtually zero.\n",
    "        - If the detector is moved there and a path is blocked, then we can see the blockage without looking.\n",
    "- Mach-Zehnder Interferometer\n",
    "    - When this interferometer does not contain any polarizers and both paths have the same length, all the photons will go to one detector as the signal is amplified.\n",
    "    - When an object is added, this changes the probability and the other detector will receive photons. This is also how quantum bomb detection works.\n",
    "- Quantum Zeno Effect(go to paradox and infinity)"
   ]
  },
  {
   "cell_type": "markdown",
   "id": "f9bd0bf8",
   "metadata": {},
   "source": [
    "## M5. Quantum Operators and their Identities"
   ]
  },
  {
   "cell_type": "markdown",
   "id": "b7f35731",
   "metadata": {},
   "source": [
    "Notes\n",
    "- Pauli Matrices\n",
    "    - Pauli $x$ matrix: $\\sigma_x=\\begin{pmatrix}0 &1\\\\1&0\\end{pmatrix}$\n",
    "    - Pauli $y$ matrix: $\\sigma_y=\\begin{pmatrix}0&-i\\\\i&0\\end{pmatrix}$\n",
    "    - Pauli $z$ matrix: $\\sigma_z=\\begin{pmatrix}1&0\\\\0&-1\\end{pmatrix}$\n",
    "    - Pauli $+$ matrix: $\\sigma_+=\\begin{pmatrix}0&2\\\\0&0\\end{pmatrix}$\n",
    "    - Pauli $-$ matrix: $\\sigma_-=\\begin{pmatrix}0&0\\\\2&0\\end{pmatrix}$\n",
    "    - $\\vec{\\sigma}=\\begin{pmatrix}\\sigma_x\\\\\\sigma_y\\\\\\sigma_z\\end{pmatrix}$\n",
    "    - Identities\n",
    "        - Their square is the identity matrix($\\sigma_n^2=\\mathbb{I}$).\n",
    "        - They are Hermitian(equal to their conjugate transpose).\n",
    "        - They are equal to their inverse.\n",
    "        - Their trace is $0$.\n",
    "        - Their determinant is $-1$.\n",
    "        - Their product is $i$ time the identity matrix($i\\mathbb{I}$).\n",
    "        - They all have eigenvalues 1 and -1.\n",
    "        - Exponential of pauli matrices: $e^{i\\vec{v}\\cdot\\vec{\\sigma}}=\\cos\\left (|\\vec{v}|\\right )\\mathbb{I}+i\\sin\\left (|\\vec{v}|\\right )\\frac{\\vec{v}\\cdot\\vec{\\sigma}}{|\\vec{v}|}$\n",
    "            - Another form: $e^{i\\vec{v}\\cdot\\vec{\\sigma}}=\\sum_{n=0}^{\\infty}\\frac{(i\\vec{v}\\cdot\\vec{\\sigma})^n}{n!}$\n",
    "        - Exponentials of raising and lowering matrices: $\\exp(\\alpha\\sigma_+)=\\begin{pmatrix}1&2\\alpha\\\\0&1\\end{pmatrix}\\quad\\exp(\\alpha\\sigma_-)=\\begin{pmatrix}1&0\\\\2\\alpha&1\\end{pmatrix}$\n",
    "        - Product of pauli matrices: $\\sigma_i\\sigma_j=\\delta_{ij}\\mathbb{I}+i\\sum_k\\epsilon_{ijk}\\sigma_k$\n",
    "            - $(\\vec{a}\\cdot\\vec{\\sigma})(\\vec{b}\\cdot\\vec{\\sigma})=\\vec{a}\\cdot\\vec{b}\\mathbb{I}+i(\\vec{a}\\times\\vec{b})\\cdot\\vec{\\sigma}$\n",
    "                - If $\\vec{a}=\\vec{b}$, $(\\vec{a}\\cdot\\vec{\\sigma})^2=|\\vec{a}|^2\\mathbb{I}$\n",
    "        - Commutation relations\n",
    "            - $[\\hat{S}_i,\\hat{S}_j]=i\\hbar\\sum_k\\epsilon_{ijk}\\hat{S}_k$\n",
    "            - $[\\sigma_z,\\sigma_\\pm]=\\pm 2\\sigma_\\pm~~\\text{and}~~[\\sigma_+,\\sigma_-]=4\\sigma_z$\n",
    "            - $[\\sigma_z,\\sigma_\\pm]=\\pm 2\\sigma_\\pm~~\\text{and}~~[\\sigma_+,\\sigma_-]=4\\sigma_z$\n",
    "        - Relation to pauli $\\pm$ matrices: $\\sigma_\\pm=\\sigma_x\\pm i\\sigma_y$"
   ]
  },
  {
   "cell_type": "markdown",
   "id": "5dcbd19b",
   "metadata": {},
   "source": [
    "- Symplectic Matrices: $\\hat{K}_0=\\frac{1}{2}\\begin{pmatrix}-1&0\\\\\\phantom{-}0&1\\end{pmatrix},~~\\hat{K}_+=\\begin{pmatrix}\\phantom{-}0&0\\\\-1&0\\end{pmatrix}~~\\text{and}~~\\hat{K}_-=\\begin{pmatrix}0&1\\\\0&0\\end{pmatrix}$\n",
    "    - Commutation relations: $[\\hat{K}_+,\\hat{K}_-]=-2\\hat{K}_0~~\\text{and}~~[\\hat{K}_0,\\hat{K}_\\pm]=\\pm\\hat{K}_\\pm$\n",
    "    - Exponential disentangling identity: $e^{-\\xi K_++2i\\eta K_0+\\xi^* K_-}=\\cosh\\left (\\sqrt{|\\xi|^2-\\eta^2}\\right )\\mathbb{I}+\\sinh(\\sqrt{|\\xi|^2-\\eta^2} )\\frac{-\\xi K_++2i\\eta K_0+\\xi^* K_-}{\\sqrt{|\\xi|^2-\\eta^2}}$\n",
    "- Leibniz Rule: $[\\hat A\\hat B,\\hat C]=\\hat  A [\\hat{B},\\hat{C}]+[\\hat{A},\\hat{C}]\\hat{B}$\n",
    "    - Another form: $[\\hat A,\\hat B\\hat C]=\\hat B[\\hat{A},\\hat{C}]+[\\hat{A},\\hat{B}]\\hat{C}$\n",
    "    - Another form: $[\\hat{A}^2,\\hat{B}]$\n",
    "- Canonical Commutation Relations between position and momentum\n",
    "    - $[\\hat{x},\\hat{p}^n]=ni\\hbar \\hat{p}^{n-1}$\n",
    "    - $[\\hat{p},\\hat{x}^n]=-ni\\hbar \\hat{x}^{n-1}$\n",
    "    - $[\\hat{r}_i,\\hat{p}_j]=i\\hbar\\delta_{ij}$\n",
    "    - An equation of motion: $\\frac{i\\hbar}{m}\\hat{p}_x=[\\hat{r}_x,\\hat{H}]$\n",
    "- Hadamard Lemma: $e^{\\hat{A}}\\hat{B}e^{-\\hat{A}}=\\sum_{n=0}^\\infty\\frac{1}{n!}[\\hat{A},[\\hat{A},\\dots[\\hat{A},[\\hat{A},\\hat{B}]]\\dots]]_n$\n",
    "    - Expanded form: $\\hat{B}+[\\hat{A},\\hat{B}]+\\frac{1}{2}[\\hat{A},[\\hat{A},\\hat{B}]]+\\cdots$\n",
    "    - For calculating the exponentials, expand them using the Taylor series.\n",
    "- Relations between position and momentum\n",
    "    - $\\langle x|0_p\\rangle=\\frac{1}{\\sqrt{2\\pi\\hbar}}$\n",
    "    - Wavefunction: $|\\psi\\rangle=\\sum_x|x\\rangle\\,\\langle x|\\psi\\rangle=\\sum_x|x\\rangle\\psi(x)$"
   ]
  },
  {
   "cell_type": "code",
   "execution_count": null,
   "id": "7fda477f",
   "metadata": {},
   "outputs": [],
   "source": [
    "count=0\n",
    "for i in range(1,7):\n",
    "    count+=binomial(12,i)\n",
    "count"
   ]
  },
  {
   "cell_type": "code",
   "execution_count": null,
   "id": "a69ca863",
   "metadata": {},
   "outputs": [],
   "source": [
    "# Pauli Matrix Identities\n",
    "paulix=matrix([[0, 1],\n",
    "                 [1, 0]])\n",
    "pauliy=matrix([[0, -i],\n",
    "                 [i, 0]])\n",
    "pauliz=matrix([[1, 0],\n",
    "                 [0, -1]])\n",
    "s(paulix^2,pauliy^2,pauliz^2)\n",
    "s(paulix.conjugate().transpose(),pauliy.conjugate().transpose(),pauliz.conjugate().transpose())\n",
    "s(paulix.inverse(),pauliy.inverse(),pauliz.inverse())\n",
    "s(paulix.trace(),pauliy.trace(),pauliz.trace())\n",
    "s(paulix.determinant(),pauliy.determinant(),pauliz.determinant())\n",
    "s(paulix*pauliy*pauliz)\n",
    "s(paulix.eigenvalues(),pauliy.eigenvalues(),pauliz.eigenvalues())"
   ]
  },
  {
   "cell_type": "code",
   "execution_count": null,
   "id": "6a45933a",
   "metadata": {},
   "outputs": [],
   "source": [
    "import qutip as qt\n",
    "\n",
    "sigma_z = qt.sigmaz()  # pauli z matrix\n",
    "plus_x = (qt.basis(2, 0) + qt.basis(2, 1)).unit()  # |ψ⟩\n",
    "\n",
    "expect_o = qt.expect(sigma_z, plus_x)  # ⟨Ô⟩\n",
    "o_sq = sigma_z * sigma_z  # pauli z matrix squared(identity matrix)\n",
    "expect_o_sq = qt.expect(o_sq, plus_x)  # ⟨Ô²⟩\n",
    "s(expect_o,expect_o_sq)"
   ]
  },
  {
   "cell_type": "code",
   "execution_count": null,
   "id": "5e892dd9",
   "metadata": {},
   "outputs": [],
   "source": [
    "var('a b c d f g h j')\n",
    "m=matrix([[a,b],[c,d]])\n",
    "s(m.eigenvalues(),(m^2).eigenvalues())\n",
    "m=matrix([[a+b*i,c+d*i],[f+g*i,h+j*i]])\n",
    "s(m.conjugate().transpose(),m.determinant())\n",
    "s(identity_matrix(2).eigenvalues())"
   ]
  },
  {
   "cell_type": "code",
   "execution_count": null,
   "id": "0f277c93",
   "metadata": {},
   "outputs": [],
   "source": [
    "var('theta')\n",
    "paulix=matrix([[0, 1],\n",
    "               [1, 0]])\n",
    "pauliy=matrix([[0, -i],\n",
    "               [i, 0]])\n",
    "pauliz=matrix([[1, 0],\n",
    "               [0, -1]])\n",
    "s(expand((cos(theta/2)*identity_matrix(2)-i*sin(theta/2)*pauliz)*paulix*(cos(theta/2)*identity_matrix(2)+i*sin(theta/2)*pauliz)))\n",
    "s(expand((cos(theta/2)*identity_matrix(2)-i*sin(theta/2)*pauliz)*pauliy*(cos(theta/2)*identity_matrix(2)+i*sin(theta/2)*pauliz)))\n",
    "s(expand((cos(theta/2)*identity_matrix(2)-i*sin(theta/2)*pauliz)*pauliz*(cos(theta/2)*identity_matrix(2)+i*sin(theta/2)*pauliz)))\n",
    "s(expand((cos(theta/2)*identity_matrix(2)-i*sin(theta/2)*paulix)*paulix*(cos(theta/2)*identity_matrix(2)+i*sin(theta/2)*paulix)))\n",
    "s(expand((cos(theta/2)*identity_matrix(2)-i*sin(theta/2)*paulix)*pauliy*(cos(theta/2)*identity_matrix(2)+i*sin(theta/2)*paulix)))\n",
    "s(expand((cos(theta/2)*identity_matrix(2)-i*sin(theta/2)*paulix)*pauliz*(cos(theta/2)*identity_matrix(2)+i*sin(theta/2)*paulix)))\n",
    "s(expand((cos(theta/2)*identity_matrix(2)-i*sin(theta/2)*pauliy)*paulix*(cos(theta/2)*identity_matrix(2)+i*sin(theta/2)*pauliy)))\n",
    "s(expand((cos(theta/2)*identity_matrix(2)-i*sin(theta/2)*pauliy)*pauliy*(cos(theta/2)*identity_matrix(2)+i*sin(theta/2)*pauliy)))\n",
    "s(expand((cos(theta/2)*identity_matrix(2)-i*sin(theta/2)*pauliy)*pauliz*(cos(theta/2)*identity_matrix(2)+i*sin(theta/2)*pauliy)))"
   ]
  },
  {
   "cell_type": "code",
   "execution_count": null,
   "id": "a27148ae",
   "metadata": {},
   "outputs": [],
   "source": [
    "var('alpha')\n",
    "s(cos(alpha)*identity_matrix(2)+i*sin(alpha)*pauliy)"
   ]
  },
  {
   "cell_type": "code",
   "execution_count": null,
   "id": "3681f20b",
   "metadata": {},
   "outputs": [],
   "source": [
    "var('sigma_x sigma_y sigma_z')\n",
    "paulix=matrix([[0, 1],\n",
    "               [1, 0]])\n",
    "pauliy=matrix([[0, -i],\n",
    "               [i, 0]])\n",
    "pauliz=matrix([[1, 0],\n",
    "               [0, -1]])\n",
    "sigma=vector([sigma_x,sigma_y,sigma_z])\n",
    "a=vector([1,0,1])/sqrt(2)\n",
    "b=vector([0,1,1])/sqrt(2)\n",
    "c=a+b\n",
    "s(factor(a.dot_product(sigma)),factor(b.dot_product(sigma)),factor(c.dot_product(sigma)))\n",
    "s((paulix*pauliy+paulix*pauliz+pauliz*pauliy+pauliz^2)/2)\n",
    "m1=cos(abs(a))*identity_matrix(2)+i*sin(abs(a))*(paulix+pauliz)/sqrt(2)/abs(a)\n",
    "m2=cos(abs(b))*identity_matrix(2)+i*sin(abs(b))*(pauliy+pauliz)/sqrt(2)/abs(b)\n",
    "m3=cos(abs(c))*identity_matrix(2)+i*sin(abs(c))*(paulix+pauliy+2*pauliz)/sqrt(2)/abs(c)\n",
    "s(m1)\n",
    "s(m2)\n",
    "s(m1*m2)\n",
    "s(m3)"
   ]
  },
  {
   "cell_type": "code",
   "execution_count": null,
   "id": "7af86be3",
   "metadata": {},
   "outputs": [],
   "source": [
    "var('beta gamma delta')\n",
    "m1=matrix([[1,2*i*beta],[0,1]])\n",
    "m2=matrix([[exp(i*gamma),0],[0,exp(-i*gamma)]])\n",
    "m3=matrix([[1,0],[2*i*delta,1]])\n",
    "s(m1*m2*m3)\n",
    "s(m3*m2*m1)"
   ]
  },
  {
   "cell_type": "code",
   "execution_count": null,
   "id": "535a7544",
   "metadata": {},
   "outputs": [],
   "source": [
    "var('a b c')\n",
    "m1=matrix([[1,c],[0,1]])\n",
    "m2=matrix([[e^-b,0],[0,e^b]])\n",
    "m3=matrix([[1,0],[-a,1]])\n",
    "s(m1*m2*m3)"
   ]
  },
  {
   "cell_type": "code",
   "execution_count": null,
   "id": "1b10da4d",
   "metadata": {},
   "outputs": [],
   "source": [
    "k0=matrix([[-1,0],[0,1]])/2\n",
    "kp=matrix([[0,0],[-1,0]])/2\n",
    "km=matrix([[0,1],[0,0]])/2\n",
    "s(kp^2,km^2)"
   ]
  },
  {
   "cell_type": "code",
   "execution_count": null,
   "id": "7839031f",
   "metadata": {},
   "outputs": [],
   "source": [
    "var('alpha beta gamma')\n",
    "m1=matrix([[1,0],[-alpha,1]])\n",
    "m2=matrix([[e^-beta,0],[0,e^beta]])\n",
    "m3=matrix([[1,gamma],[0,1]])\n",
    "s(m1*m2*m3)"
   ]
  },
  {
   "cell_type": "code",
   "execution_count": null,
   "id": "fdc35844",
   "metadata": {},
   "outputs": [],
   "source": [
    "var('x x_0 sigma_x h p')\n",
    "s(integral(e^(-(x-x_0)^2/(4*sigma_x^2))*e^-(i/h*p*x),x,-infinity,infinity))"
   ]
  },
  {
   "cell_type": "markdown",
   "id": "db766a60",
   "metadata": {},
   "source": [
    "## M6. QM of the Simple Harmonic Oscillator"
   ]
  },
  {
   "cell_type": "markdown",
   "id": "edf010bd",
   "metadata": {
    "vscode": {
     "languageId": "sage"
    }
   },
   "source": [
    "Lecture Notes\n",
    "- Factorisation Method: This is a method that solves quantum mechanics problems using manipulation of operators.\n",
    "    - $\\hat{H}=\\frac{\\hat{p}^2}{2m}$\n",
    "    - Factorized form: $\\hat{H}\\hat{A}_k^\\dagger\\hat{A}_k+E_k$\n",
    "    - Ladder operator: $\\hat{A}_k=\\frac{1}{\\sqrt{2m}}(\\hat{p}-i\\hbar kW(k^\\prime\\hat{x}))$\n",
    "        - $k$ is a wavenumber.\n",
    "        - $W$ is a real-valued function called the superpotential.\n",
    "        - The $i$ in the ladder operator means that the dagger only changes the sign of the $i$ term.\n",
    "    - When you plug the ladder operator form into the factorized form of the Hamiltonian, \n",
    "        - $\\hat{A}_k^\\dagger\\hat{A}_k=\\frac{1}{\\sqrt{2m}}(\\hat{p}+i\\hbar kW(k^\\prime\\hat{x}))\\frac{1}{\\sqrt{2m}}(\\hat{p})-i\\hbar kW(k^\\prime \\hat{x})\\\\\\qquad\\enspace=\\frac{1}{2m}(\\hat{p}^2+i\\hbar kW(k^\\prime\\hat{x})\\hat{p}-i\\hbar k\\hat{p}W(k^\\prime\\hat{x})+\\hbar^2k^2W^2(k^ \\prime\\hat{x}))\\\\\\qquad\\enspace=\\frac{1}{2m}\\hat{p}^2-i\\hbar k[\\hat{p},W(k^\\prime\\hat{x})]+\\hbar^2k^2W^2(k^\\prime\\hat{x})$\n",
    "    - Baby Hadamard lemma: $e^{-ik\\hat{x}}\\hat{p}e^{ik\\hat{x}}=\\hat{p}+\\hbar k$\n",
    "        - Commutator form: $[\\hat{p},e^{ik\\hat{x}}]=\\hbar ke^{ik\\hat{x}}$\n",
    "            - Using Euler's identity: $[\\hat{p},\\cos{k\\hat{x}}+i\\sin{k\\hat{x}}]=\\hbar k(\\cos{k\\hat{x}}+i\\sin{k\\hat{x}})$\n",
    "            - Use the fact that $\\hat{p}$ commutated with a real function makes an imaginary function and when commutated with an imaginary function makes a real function.\n",
    "            - Real commutator: $[\\hat{p},\\cos{k\\hat{x}}]=i\\hbar k\\sin{k\\hat{x}}$\n",
    "            - Imaginary commutator: $i[\\hat{p},\\sin{k\\hat{x}}]=\\hbar k\\cos{k\\hat{x}}$\n",
    "            - Use Leibniz rule for other trigonometric functions.\n",
    "            - Secant function: $[p,\\sec{k\\hat{x}}]=i\\hbar k\\tan{k\\hat{x}}\\sec{k\\hat{x}}$\n",
    "                - $[\\hat{p},\\cos{k\\hat{x}}\\sec{k\\hat{x}}]=[\\hat{p},\\hat{\\mathbb{I}}]=0$\n",
    "                - Use Leibniz formula: $\\cos{k\\hat{x}}[\\hat{p},\\sec{k\\hat{x}}]+[\\hat{p},\\cos{k\\hat{x}}]\\sec{k\\hat{x}}=0$\n",
    "                - Substitute from previous formula and rearrange: $\\cos{k\\hat{x}}[\\hat{p},\\sec{k\\hat{x}}]=-i\\hbar k\\sin{k\\hat{x}}\\sec{k\\hat{x}}$\n",
    "                - Multiply by secant to get the final formula.\n",
    "            - Cosecant function: $[\\hat{p},\\cosec{k\\hat{x}}]=i\\hbar k\\cot{k\\hat{x}}\\cosec{k\\hat{x}}$\n",
    "                - $[\\hat{p},\\sin{k\\hat{x}}\\cosec{k\\hat{x}}]=[\\hat{p},\\hat{\\mathbb{I}}]=0$\n",
    "                - Use Leibniz formula: $\\sin{k\\hat{x}}[\\hat{p},\\cosec{k\\hat{x}}]+[\\hat{p},\\sin{k\\hat{x}}]\\cosec{k\\hat{x}}=0$\n",
    "                - Substitute, rearrange and multiply by cosecant.\n",
    "            - Tangent function: $[\\hat{p},\\tan{k\\hat{x}}]=-i\\hbar k\\sec^2{k\\hat{x}}$\n",
    "                - $[\\hat{p},\\tan{k\\hat{x}}]=[\\hat{p},\\sin{k\\hat{x}}\\sec{k\\hat{x}}]$\n",
    "                - Use Leibniz formula: $[\\hat{p},\\tan{k\\hat{x}}]=\\sin{k\\hat{x}}[\\hat{p},\\sec{k\\hat{x}}]+[\\hat{p},\\sin{k\\hat{x}}]\\sec{k\\hat{x}}$\n",
    "                - Substitute and simplify.\n",
    "            - Cotangent function: $[\\hat{p},\\cot{k\\hat{x}}]=i\\hbar k(\\cosec^2{k\\hat{x}})$\n",
    "                - $[\\hat{p},\\cot{k\\hat{x}}]=[\\hat{p},\\cos{k\\hat{x}}\\cosec{k\\hat{x}}]$\n",
    "                - Use Leibniz formula: $[\\hat{p},\\cot{k\\hat{x}}]=\\cos{k\\hat{x}}[\\hat{p},\\cosec{k\\hat{x}}]+[\\hat{p},\\cos{k\\hat{x}}]\\cosec{k\\hat{x}}$\n",
    "                - Substitute and simplify.\n",
    "            - Pattern: $[\\hat{p},f(\\hat{x})]=-i\\hbar f^\\prime(\\hat{x})$ where $f^\\prime$ is the derivative of $f$.\n",
    "    - Find the Hamiltonian\n",
    "        - Substitute $\\tan{k\\hat{x}}$ for the superpotential $W(k^\\prime\\hat{x})$.\n",
    "        - Evaluate the commutator and simplify: $\\hat{A}^\\dagger_k\\hat{A}_k=\\frac{1}{2m}(\\hat{p}^2-\\hbar^2k^2)$\n",
    "        - Substitute into the Hamiltonian and solve for the energy: $E_k=\\frac{\\hbar^2k^2}{2m}$\n",
    "        - Subsidiary condition: $\\hat{A}_k|\\psi\\rangle=0$\n",
    "        - Substitute into Hamiltonian: $\\hat{H}|\\psi\\rangle=(\\hat{A}^\\dagger_k\\hat{A}_k+E_k)|\\psi\\rangle=\\hat{A}^\\dagger_k\\hat{A}_k|\\psi\\rangle+E_k|\\psi \\rangle=E_k|\\psi\\rangle$\n",
    "    - Boundary condition\n",
    "        - Wavefunction\n",
    "            - $\\psi_k(x)=\\langle x|\\psi\\rangle$\n",
    "            - $\\psi_k(x)=\\langle0_x|e^{\\frac{i}{\\hbar}x\\hat{p}}|\\psi\\rangle$\n",
    "            - $\\psi_k(x)=\\sum_{n=0}^\\infty=\\frac{1}{n!}\\begin{pmatrix}\\frac{ix}{\\hbar}\\end{pmatrix}^n\\langle0_x|\\hat{p}^n|\\psi\\rangle$\n",
    "        - Use eigenvalue relation and subsidiary relation: $\\hat{p}|\\psi\\rangle=i\\hbar k\\tan{k\\hat{x}}|\\psi\\rangle$\n",
    "            - When $n$ is even($2m$), $\\hat{p}^{2m}|\\psi\\rangle=(\\hbar k)^{2m}|\\psi\\rangle$.\n",
    "            - When $n$ is odd($2m+1$), $\\hat{p}^{2m+1}|\\psi\\rangle=i(\\hbar k)^{2m+1}\\tan{k\\hat{x}}|\\psi\\rangle$.\n",
    "                - $\\langle0_x|\\tan{k\\hat{x}}|\\psi\\rangle=0$\n",
    "                - This means all odd powers are $0$.\n",
    "            - Put in summation form and simplify: $\\psi_k(x)=\\cos{k\\hat{x}}\\langle0_x|\\psi\\rangle$\n",
    "            - Take integral for probability since it must be $1$: $\\langle0_x|\\psi\\rangle=\\sqrt{\\frac{2}{L}}$\n",
    "    - Summary\n",
    "        - Hamiltonian: $\\hat{H}=\\hat{A}^\\dagger_n\\hat{A}_n+E_n$\n",
    "            - $\\hat{A}_n=\\frac{1}{\\sqrt{2m}}(\\hat{p}-\\frac{i2\\pi\\hbar n}{L}\\tan{\\frac{2\\pi n}{L}\\hat{x}})$\n",
    "            - $E_n=\\frac{4\\pi^2\\hbar^2n^2}{2mL^2}$ for $n\\in\\{0,1,2,3,\\cdots\\}$\n",
    "        - Eigenstate\n",
    "            - $\\hat{H}|\\psi_n\\rangle=\\frac{4\\pi^2\\hbar^2n^2}{2mL^2}|\\psi_n\\rangle$\n",
    "            - $\\hat{p}|\\psi_n\\rangle=i\\hbar k\\tan{\\frac{2\\pi\\hbar n\\hat{x}}{L}}\\psi_n\\rangle$\n",
    "        - Wavefunction\n",
    "            - Even n: $\\psi_n(x)=\\sqrt{\\frac{2}{L}}\\cos{kx}$\n",
    "            - Odd n: $\\psi_n(x)=\\sqrt{\\frac{2}{L}}\\sin{kx}$\n",
    "    - Probability density: $|\\alpha e^{im\\pi\\frac{x}{L}}+\\beta e^{im^\\prime\\pi\\frac{x}{L}}|^2$"
   ]
  },
  {
   "cell_type": "markdown",
   "id": "a7f32857",
   "metadata": {},
   "source": [
    "- Heisenberg Uncertainty Principle: $\\Delta(x)_\\chi\\Delta(p)_\\chi\\geq\\frac{\\hbar}{2}$\n",
    "    - Measurement of two operators\n",
    "        - When you take the measurement of two incompatible operators(which means they do not commute $[\\hat{A},\\hat{B}]\\ne0$), they cannot have both measurements fluctuation free.\n",
    "            - When you prepare the state in an eigenstate of one operator, that measurement becomes fluctuation free but since the operators are incompatible, the other operator is not in an eigenstate, which causes that measurement to have fluctuations.\n",
    "            - But the question is that how small you can make the fluctuations be.\n",
    "            - This is answered by the Heisenberg uncertatinty principle.\n",
    "    - Classical Oscillator\n",
    "        - $x(t)=A\\cos{\\omega t+\\phi}$\n",
    "        - $p(t)=-\\omega mA\\sin{\\omega t+\\phi}$\n",
    "        - The average position and momentum over time is 0.\n",
    "        - Average fluctuations\n",
    "            - Position: $\\Delta^2(x)=\\frac{1}{T}\\int_0^TA^2\\cos^2{(\\omega t+\\phi)}dt=\\frac{A^2}{2}$\n",
    "            - Momentum: $\\Delta^2(p)=\\frac{1}{T}\\int_0^TxA^2\\omega^2m^2\\sin^2{(\\omega t+\\phi)}dt=\\frac{A^2}{2}\\omega^2m^2$\n",
    "            - Average energy: $E=\\langle p^2\\rangle\\frac{1}{2m}+\\langle x^2\\rangle\\frac{m\\omega^2}{2}=A^2\\frac{m\\omega^2}{2}$\n",
    "            - Rewritten form of fluctuations\n",
    "                - $\\Delta(x)=\\frac{\\sqrt{E}}{\\sqrt{m}\\omega}$\n",
    "                - $\\Delta(p)=\\sqrt{Em}$\n",
    "                - $\\Delta(x)(p)=\\frac{E}{\\omega}$\n",
    "        - Many of these results will be used in quantum measurements, but the way we describe them is different. Instead of looking at averages over time, quantum fluctuations with regards to fluctuations.\n",
    "    - Quantum Fluctuations\n",
    "        - If we prepare a state in $|\\psi\\rangle$, then the average result of measurements for an operator $\\hat{A}$ is $\\langle\\psi|\\hat{A}|\\psi\\rangle$, and similarly for $\\hat{B}$.\n",
    "        - The fluctuations are found by subtracting the average and squaring, so $\\Delta^2(A)_\\psi=\\langle\\psi|\\hat{A}^2|\\psi\\rangle-(\\langle\\psi|\\hat{A}|\\psi\\rangle)^2$\n",
    "            - When $|\\psi\\rangle$ is an eigenvector of $\\hat{A}$ with eigenvalue $a$, $\\langle\\psi|\\hat{A}|\\psi\\rangle=a$\n",
    "                - The fluctuations vanish: $\\Delta^2(A)_\\psi=0$\n",
    "    - Geometry of Fluctuations\n",
    "        - This looks at the other case where $|\\psi\\rangle$ is not an eigenstate of $\\hat{A}$\n",
    "        - Since $\\hat{A}$ is being measured, it must be a Hermitian operator, so $\\Delta^2(A)_\\psi=||(\\hat{A}-\\langle\\hat{A}\\rangle)|\\psi\\rangle||^2$\n",
    "            - $\\|psi\\rangle$ is the state we are working with, which we can think of as a vector\n",
    "            - We operate $\\hat{A}$ on the state to get $\\hat{A}|\\psi\\rangle$. All the operator can do is scale and rotate the vector.\n",
    "            - We project $\\hat{A}|\\psi\\rangle$ onto $|\\psi\\rangle$ to get $\\langle\\hat{A}\\rangle|\\psi\\rangle$.\n",
    "            - We subtract $\\langle\\hat{A}\\rangle|\\psi\\rangle$ from $\\hat{A}|\\psi\\rangle$ to get a vector perpendicular to the original vector for the state $|\\psi\\rangle$ or $(\\hat{A}|\\psi\\rangle)_\\perp$.\n",
    "        - The fluctuation is the norm of the component of $\\hat{A}|\\psi\\rangle$ that is perpendicular to $\\psi\\rangle$. When the perpendicular component vanishes, the operator is just scaling the state, which means it is an eigenvector.\n",
    "    - Virial theorem and SHO(Simple Harmonic Oscillator)\n",
    "        - Virial: $\\hat{x}\\hat{p}$\n",
    "        - Commutators\n",
    "            - Kinetic energy: $[\\frac{\\hat{p}^2}{2m},\\hat{x}\\hat{p}]=-i\\hbar\\frac{\\hat{p}^2}{m}$\n",
    "            - Potential energy: $[\\frac{m\\omega^2}{2}\\hat{x}^2,\\hat{x}\\hat{p}]=i\\hbar m\\omega^2\\hat{x}^2$\n",
    "            - $\\langle\\psi_n|[\\hat{H},\\hat{x}\\hat{p}]|\\psi_n\\rangle=0$\n",
    "            - This means that $\\langle\\psi_n|\\frac{\\hat{p}^2}{m}|\\psi_n\\rangle=\\langle\\psi_n|m\\omega^2\\hat{x}^2|\\psi_n\\rangle$, so the average kinetic energy and potential energy in a SHO is the same(this is the virial theorem).\n",
    "            - The total energy is $E=\\langle\\hat{H}\\rangle$\n",
    "        - Fluctuations\n",
    "            - $\\Delta(p)_{\\psi_n}=\\sqrt{mE}$\n",
    "            - $\\Delta(x)_{\\psi_n}=\\frac{\\sqrt{E}}{\\sqrt{m}\\omega}$\n",
    "            - Product: $\\Delta(p)_{\\psi_n}\\Delta(x)_{\\psi_n}=\\frac{E}{\\omega}$\n",
    "    - Schwartz inequality: $|\\vec{a}\\cdot\\vec{b}|\\leq|a||b|$\n",
    "        - This underlies $\\vec{a}\\cdot\\vec{b}=|a||b|\\cos{\\theta}$.\n",
    "        - Proof of Schwartz inequality\n",
    "            - $||\\phi\\rangle-\\lambda|\\psi\\rangle|^2\\geq0$\n",
    "            - Rearrange: $\\langle\\phi|\\phi\\rangle+|\\lambda|^2\\langle\\psi|\\psi\\rangle\\geq\\lambda\\langle\\phi|\\psi\\rangle+\\lambda^*\\langle\\psi|\\phi\\rangle$\n",
    "            - Pick $\\lambda=\\frac{\\langle\\psi|\\phi\\rangle}{\\langle\\psi|\\psi\\rangle}$\n",
    "            - Substitute and simplify: $\\langle\\phi|\\phi\\rangle\\langle\\psi|\\psi\\rangle\\geq|\\langle\\psi|\\phi\\rangle|^2$\n",
    "                - Other form: $|\\langle\\psi|\\phi\\rangle|\\leq\\sqrt{\\langle\\phi|\\phi\\rangle\\langle\\psi|\\psi\\rangle}$\n",
    "    - Computation of position-momentum fluctuations\n",
    "        - This is the general derivation of the fluctuations with respect to the state $|\\chi\\rangle$\n",
    "        - $\\langle\\chi|\\hat{x}|\\chi\\rangle=\\langle\\hat{x}\\rangle$\n",
    "        - $\\langle\\chi|\\hat{p}|\\chi\\rangle-\\langle\\hat{p}\\rangle$\n",
    "        - Commutator: $[\\hat{x}-\\langle\\hat{x}\\rangle,\\hat{p}-\\langle\\hat{p}\\rangle]=i\\hbar$(you can also sandwich a $\\chi$ outside the coommutator because the state is normalized).\n",
    "        - $|\\phi\\rangle=(\\hat{x}-\\langle\\hat{x}\\rangle)|\\chi\\rangle$\n",
    "        - $|\\psi\\rangle=(\\hat{p}-\\langle\\hat{p}\\rangle)|\\chi\\rangle$\n",
    "        - $\\langle\\phi|\\psi\\rangle-\\langle\\psi|\\phi\\rangle=\\langle\\phi|\\psi\\rangle-\\langle\\phi|\\psi\\rangle^*=i\\hbar$\n",
    "        - $\\hbar=2\\mathbb{Im}\\langle\\phi|\\psi\\rangle\\leq2|\\langle\\phi|\\psi\\rangle|\\leq2\\sqrt{\\langle\\phi|\\phi\\rangle\\langle\\psi|\\psi\\rangle}$\n",
    "        - $\\Delta^2(x)_\\chi=\\langle\\chi|(\\hat{x}-\\langle\\hat{x}\\rangle)^2|\\chi\\rangle=\\langle\\phi|\\phi\\rangle$\n",
    "        - $\\Delta^2(p)_\\chi=\\langle\\chi|(\\hat{p}-\\langle\\hat{p}\\rangle)^2|\\chi\\rangle=\\langle\\psi|\\psi\\rangle$\n",
    "        - Calculate and simplify to get the Heisenberg uncertainty principle.\n",
    "    - Summary\n",
    "        - This principle tells you several things.\n",
    "            - We cannot simultaneously know the position and momentum in any quantum state.\n",
    "            - If we are in a position eigenstate, the momentum fluctuations must go to infinity, and vice versa.\n",
    "            - Note that this is a property of a state. It does not link the position and momentum fluctuations and those two are unrelated."
   ]
  },
  {
   "cell_type": "markdown",
   "id": "e9b14f62",
   "metadata": {
    "vscode": {
     "languageId": "sage"
    }
   },
   "source": [
    "- The Factorisation Method for the Simple Harmonic Oscillator\n",
    "    - Factorisation Method\n",
    "        - The Hamiltonian is $\\hat{H}=\\frac{\\hat{p}^2}{2M}+\\frac{1}{2}M\\omega^2\\hat{x}^2$\n",
    "        - Let $\\hat{A}=\\frac{1}{\\sqrt{2M}}(\\hat{p}-iM\\omega\\hat{x})$\n",
    "        - Identity: $\\hat{H}=\\hat{A}^\\dagger\\hat{A}+\\frac{1}{2}\\hbar\\omega$\n",
    "        - $\\hat{A}^\\dagger\\hat{A}$ are positive semidefinite operators.\n",
    "            - This means that the expectation value but be non-negative.\n",
    "            - Proof: $\\langle\\psi|\\hat{A}^\\dagger\\hat{A}|\\psi\\rangle=|\\hat{A}|\\psi\\rangle|^2\\geq0$\n",
    "        - If the Hamiltonian is in the ground state, then the expectation value is as low as possible, which means in this case the state is $|0\\rangle$, which satsifies $\\hat{A}|0\\rangle=0$. We call this the subsidiary condition because the operator annihilates the state.\n",
    "        - Using the subsidary condition, $\\hat{H}|0\\rangle=\\frac{1}{2}\\hbar\\omega|0\\rangle$, but since this is just scaling the original state, the ground-state energy is $\\frac{1}{2}\\hbar\\omega$.\n",
    "    - Standard Notation\n",
    "        - Scale the raising and lowering operators by $\\hat{a}=\\frac{i}{\\sqrt{\\hbar\\omega}}\\hat{A}=\\sqrt{\\frac{M\\omega}{2\\hbar}}\\hat{x}+i\\frac{1}{\\sqrt{2\\hbar M\\omega}}\\hat{p}$\n",
    "            - $\\hat{p}=(\\hat{a}-\\hat{a}^\\dagger)\\frac{\\sqrt{\\hbar m\\omega}}{i\\sqrt{2}}$\n",
    "            - $\\hat{x}=(\\hat{a}+\\hat{a}^\\dagger)\\frac{\\sqrt{\\hbar }}{\\sqrt{2m\\omega}}$\n",
    "        - We find that $[\\hat{a},\\hat{a}^\\dagger]=1$.\n",
    "        - $\\hat{H}=\\hbar\\omega(\\hat{a}^\\dagger\\hat{a}+\\frac{1}{2})$\n",
    "        - Intertwining relationship for higher energy states: $\\hat{H}\\hat{a}^\\dagger=\\hat{a}^\\dagger(\\hat{H}+\\hbar\\omega)$\n",
    "    - Energy Eigenstates\n",
    "        - Claim: $|n\\rangle=c(\\hat{a}^\\dagger)^n|0\\rangle$\n",
    "            - $c$ is the normalization constant.\n",
    "        - $\\hat{H}|n\\rangle=E_n|n\\rangle$ where $E_n=(n+\\frac{1}{2})\\hbar\\omega|n\\rangle$.\n",
    "        - Normalization constant: $c=\\frac{1}{\\sqrt{n!}}$\n",
    "    - Summary\n",
    "        - $\\hat{a}=\\sqrt{\\frac{M\\omega}{2\\hbar}}\\hat{x}+i\\frac{1}{\\sqrt{2\\hbar M\\omega}}\\hat{p}$\n",
    "        - $[\\hat{a},\\hat{a}^\\dagger]=1$\n",
    "        - $\\hat{H}=\\hbar\\omega(\\hat{a}^\\dagger\\hat{a}+\\frac{1}{2})$\n",
    "        - The energy eigenfunctions satisfy: \n",
    "            - $|n\\rangle=\\frac{1}{\\sqrt{n!}}(\\hat{a}^\\dagger)^n|0\\rangle$\n",
    "            - $\\hat{a}|0\\rangle=0$\n",
    "            - $E_n=(n+\\frac{1}{2})\\hbar\\omega|n\\rangle$"
   ]
  },
  {
   "cell_type": "markdown",
   "id": "71b84d11",
   "metadata": {
    "vscode": {
     "languageId": "sage"
    }
   },
   "source": [
    "- Baker-Campbell-Hausdorff Identity: $e^{\\hat{A}}e^{\\hat{B}}=e^{\\hat{A}+\\hat{B}+\\frac{1}{2}[\\hat{A},\\hat{B}]+\\frac{1}{12}[\\hat{A},[\\hat{A},\\hat{B}]]+\\frac{1}{12}[\\hat{B},[\\hat{B},\\hat{A}]]+\\cdots}$\n",
    "    - This is the last fundamental operator identity.\n",
    "    - It was derived over a period of 45 years from the 1890s to 1940.\n",
    "    - It allows Lie algebra and Lie group theory to be well-defined.\n",
    "    - Derivative of an exponential\n",
    "        - Consider $\\frac{d}{dt}e^{\\hat{A}t}$.\n",
    "        - Calculate using power series: $\\frac{d}{dt}e^{\\hat{A}t}=\\hat{A}e^{\\hat{A}t}=e^{\\hat{A}t}\\hat{A}$\n",
    "            - This is just like normal differentiation with ordinary functions.\n",
    "            - Note that the operator can go on either side.\n",
    "    - Weyl form of the BCH identity: $e^{\\hat{A}}e^{\\hat{B}}=e^{\\hat{A}+\\hat{B}}e^{\\frac{1}{2}[\\hat{A},\\hat{B}]}=e^{\\frac{1}{2}[\\hat{A},\\hat{B}]}e^{\\hat{A}+\\hat{B}}=e^{\\hat{A}+\\hat{B}+\\frac{1}{2}[\\hat{A},\\hat{B}]}$\n",
    "        - This is a simplification of the BCH identity that holds when $[\\hat{A},\\hat{B}]$ commutes with both $\\hat{A}$ and $\\hat{B}$.\n",
    "            - An example of this would be position and momentum, whose commutator is a number.\n",
    "        - Derivative of exponentials over time: $\\frac{d}{dt}(e^{\\hat{A}t}e^{\\hat{B}t}e^{-\\hat{A}t-\\hat{B}t})=[\\hat{A},\\hat{B}]t(e^{\\hat{A}t}e^{\\hat{B}t}e^{-\\hat{A}t-\\hat{B}t})$\n",
    "            - This is a first-order differential equation that is easily solved.\n",
    "        - After solving and changing the form of the solution for the DE: $e^{\\hat{A}t}e^{\\hat{B}t}=e^{\\hat{A}t+\\hat{B}t}e^{\\frac{t^2}{2}[\\hat{A},\\hat{B}]}=e^{\\frac{t^2}{2}[\\hat{A},\\hat{B}]}e^{\\hat{A}t+\\hat{B}t}=e^{\\hat{A}t+\\hat{B}t+\\frac{t^2}{2}[\\hat{A},\\hat{B}]}$\n",
    "        - Substitute $t=1$ for the identity.\n",
    "    - Sneddon's formula: $\\frac{d}{dt}e^{\\hat{A}t}=\\int_0^1e^{(1-y)\\hat{A}(t)}\\frac{d\\hat{A}(t)}{dt}e^{y\\hat{A}(t)}dy$\n",
    "        - The reason this formula is so complicated is because in general, $[\\hat{A}(t),\\frac{d\\hat{A}(t)}{dt}]\\ne0$ (an operator doesn't commute with its derivative).\n",
    "        - To prove it, calculate the derivative: $\\frac{d}{dt}e^{\\hat{A}t}=\\hat{A}^\\prime(t)+\\frac{1}{2}(\\hat{A}^\\prime(t)\\hat{A}(t)+\\hat{A}(t)\\hat{A}^\\prime(t))+\\cdots$\n",
    "    - General BCH Derivation\n",
    "        - Define $e^{\\hat{A}t}e^{\\hat{B}t}=e^{\\hat{G}(t)}=e^{\\hat{G}_1t+\\hat{G}_2t^2+\\hat{G}_3t^3+\\cdots}$\n",
    "        - $e^{-\\hat{G}t}\\frac{d}{dt}(e^{\\hat{G}(t)})=e^{-\\hat{B}t}e^{-\\hat{A}t}\\frac{d}{dt}(e^{\\hat{A}t}e^{\\hat{B}t})$\n",
    "        - $e^{-\\hat{G}t}\\frac{d}{dt}(e^{\\hat{G}(t)})=\\hat{A}+\\hat{B}-t[\\hat{B},\\hat{A}]+\\frac{t^2}{2}[\\hat{B},[\\hat{B},\\hat{A}]]+\\cdots$\n",
    "        - Use Sneddon's formula on the left hand side: $\\hat{G}^\\prime(t)-\\frac{1}{2}[\\hat{G}(t),\\hat{G}^\\prime(t)]+\\frac{1}{6}[\\hat{G}(t),[\\hat{G}(t),\\hat{G}^\\prime(t)]]+\\cdots=\\hat{A}+\\hat{B}-t[\\hat{B},\\hat{A}]+\\frac{t^2}{2}[\\hat{B},[\\hat{B},\\hat{A}]]+\\cdots$\n",
    "        - Compute and plug $\\hat{G}(t)$ in to get the final identity.\n",
    "    - Compare to other identities\n",
    "        - Exponential reordering identity: $e^{\\hat{A}}e^{\\hat{B}}=e^{\\hat{B}+[\\hat{A},\\hat{B}]+\\frac{1}{6}[\\hat{A},[\\hat{A},\\hat{B}]]+\\cdots}e^{\\hat{A}}$\n",
    "            - This two identites are very similar, but they are used for different purposes. So, BCH is 'halfway' to the exponential reordering identity..."
   ]
  },
  {
   "cell_type": "markdown",
   "id": "99d1d07c",
   "metadata": {},
   "source": [
    "- Coherent States\n",
    "    - Intro\n",
    "        - In 1926, Schrodinger discovered the coherent states of the SHO.\n",
    "        - Coherent states can be thought of as the analog of pulling the object to extend the spring in a classical system.\n",
    "    - Translation of position and momentum\n",
    "        - Translation operators\n",
    "            - $e^{-\\frac{i}{\\hbar}x_0\\hat{p}}$ translates the position by $x_0$.\n",
    "            - $e^{\\frac{i}{\\hbar}p_0\\hat{p}}$ translates the momentum by $p_0$.\n",
    "        - When we apply both of these translation operators on the ground state($|0\\rangle$), we use the Weyl form of the BCH to put both operators in the exponent, and we get $e^{\\frac{i}{\\hbar}p_0\\hat{x}-\\frac{i}{\\hbar}x_0\\hat{p}}$.\n",
    "            - The correction term is $e^{i}{2\\hbar}x_0p_0$. This is a complex phase and can be ignored.\n",
    "        - Ladder operator form: $\\exp{\\begin{pmatrix}ip_0\\frac{1}{\\sqrt{2m\\omega\\hbar}}(\\hat{a}+\\hat{a}^\\dagger)-x_0\\sqrt{\\frac{m\\omega}{2\\hbar}}(\\hat{a}-\\hat{a}^\\dagger)\\end{pmatrix}}|0\\rangle$\n",
    "        - Define $\\alpha=x_0\\sqrt{\\frac{m\\omega}{2\\hbar}}+ip_0\\frac{1}{\\sqrt{2m\\omega\\hbar}}$, this means the operator becomes $\\exp{(-\\alpha^*\\hat{a}+\\alpha\\hat{a}^\\dagger)}=\\hat{D}(\\alpha)$\n",
    "        - The operator $\\hat{D}(\\alpha)$ is called the displacement operator.\n",
    "        - $e^{-\\alpha^*\\hat{a}+\\alpha\\hat{a}^\\dagger}|0\\rangle=\\hat{D}(\\alpha)|0\\rangle=|\\alpha\\rangle$\n",
    "            - We call $|\\alpha\\rangle$ the coherent state. The parameter $\\alpha$ for the operator describes the shift in position and momentum.\n",
    "    - A coherent state is an eigenstate of $\\hat{a}$. This can be proven using the Hadamard lemma. However, it is not an eigenstate of $\\hat{a}^\\dagger$.\n",
    "        - The eigenvalue relation comes from the shift of position and momentum.\n",
    "    - Coherent states in terms of $|n\\rangle$\n",
    "        - $|\\alpha\\rangle=e^{\\alpha\\hat{a}^\\dagger}e^{-\\alpha^*\\hat{a}}e^{-\\frac{1}{2}|\\alpha|^2[\\hat{a},\\hat{a}^\\dagger]}|0\\rangle$\n",
    "        - Compute commutator, rearrange and annihilate operator: $|\\alpha\\rangle=e^{-\\frac{1}{2}|\\alpha|^2}e^{\\alpha\\hat{a}^\\dagger}|0\\rangle$\n",
    "        - $|\\alpha\\rangle=e^{-\\frac{1}{2}|\\alpha|^2}\\sum_{n=0}^\\infty\\frac{a^n}{\\sqrt{n!}}|n\\rangle$\n",
    "        - Using the ladder operator relation($\\hat{a}|n\\rangle=\\sqrt{n}|n-1\\rangle$), we show that this is an eigenstate of $\\hat{a}$.\n",
    "            - Operate $\\hat{a}$ on states and use relation: $\\hat{a}|\\alpha\\rangle=e^{-\\frac{1}{2}|\\alpha|^2}\\sum_{n=0}^\\infty\\frac{a^n}{\\sqrt{n!}}\\sqrt{n}|n-1\\rangle$\n",
    "            - Simplify and shift summation: $\\hat{a}|\\alpha\\rangle=\\alpha e^{-\\frac{1}{2}|\\alpha|^2}\\sum_{n=0}^\\infty\\frac{a^n}{\\sqrt{n!}}|n \\rangle$\n",
    "            - Replace RHS with coherent state: $\\hat{a}|\\alpha\\rangle=\\alpha|\\alpha\\rangle$\n",
    "        - Overlap of two coherent states: $\\langle\\beta|\\alpha\\rangle=e^{-\\frac{1}{2}|\\alpha|^2-\\frac{1}{2}|\\beta|^2}\\sum_{n=0}^\\infty\\sum_{m =0}^\\infty\\frac{\\beta^{*m}}{\\sqrt{m!}}\\frac{\\alpha^n}{\\sqrt{n!}}\\langle m|n\\rangle$\n",
    "        - Compute overlap: $\\langle\\beta|\\alpha\\rangle=e^{-\\frac{1}{2}|\\alpha|^2-\\frac{1}{2}|\\beta|^2+\\beta^*\\alpha}$\n",
    "            - If $\\alpha=\\beta$,  the overlap is 1, but if $\\alpha\\ne\\beta$, then the overlap is not 0 but gets smaller the more different they are.\n",
    "    - Uncertainty\n",
    "        - Uncertainty for coherent states: $\\Delta^2(x)_\\alpha=\\langle\\alpha|\\hat{x}^2|\\alpha\\rangle-(\\langle\\alpha|\\hat{x}|\\alpha\\rangle)^2$\n",
    "        - Calculate uncertainty: $\\Delta^2(x)_\\alpha=\\frac{\\hbar}{2m\\omega}$\n",
    "        - Fluctuations in momentum: $\\Delta^2(p)_\\alpha=\\frac{\\hbar m\\omega}{2}$\n",
    "        - Product of fluctuations: $\\Delta(x)\\Delta(p)=\\frac{\\hbar}{2}$\n",
    "            - This is the same as the ground state, because we can set $\\alpha$ to be 0.\n",
    "        - Since we only shifted the position and momentum of the ground state, it makes sense that the uncertainty is unchanged.\n",
    "- Note: Coherent states will be used as an example in time evolution towards the end of the class."
   ]
  },
  {
   "cell_type": "markdown",
   "id": "991b4658",
   "metadata": {},
   "source": [
    "- SHO in 3D\n",
    "    - SHO in 3D\n",
    "        - Hamiltonian: $\\hat{H}=\\frac{\\hat{p}_x^2}{2m}+\\frac{\\hat{p}_y^2}{2m}+\\frac{\\hat{p}_z^2}{2m}+\\frac{1}{2}m\\omega_x^2\\hat{r}_x^2+\\frac{1}{2}m\\omega_y^2\\hat{r}_y^2+\\frac{1}{2}m\\omega_z^2\\hat{r}_z^2$\n",
    "        - Canonical commutation relation: $[\\hat{r}_i,\\hat{p}_j]=i\\hbar\\delta_{ij}$\n",
    "            - Note that operators in different spatial directions commute.\n",
    "        - Ladder operators: $\\hat{a}_j=\\sqrt{\\frac{m\\omega}{2\\hbar}}\\hat{r}_j+i\\sqrt{\\frac{1}{2m\\omega\\hbar}}\\hat{p}_j$\n",
    "        - Commutator of ladder operators: $[\\hat{a}_i,\\hat{a}_j^\\dagger]=\\delta_{ij}$\n",
    "        - Tensor product form of states: $|\\psi_{nx,ny,nz}\\rangle=|n_x\\rangle\\otimes|n_y\\rangle\\otimes|n_z\\rangle$\n",
    "        - A ladder operator does nothing in the wrong subspace, and it acts like a ladder operator in the right subspace.\n",
    "        - Example: $\\hat{\\mathbb{I}}\\otimes\\hat{a_y}\\otimes\\hat{\\mathbb{I}}$\n",
    "            - We drop the tensor product for simplicity.\n",
    "    - Factorisation of Hamiltonian\n",
    "        - We put suppress tensor product into $|n_x,n_y,n_z\\rangle$.\n",
    "        - Energy: $E_{n_x,n_y,n_z}=\\hbar\\omega_x(n_x+\\frac{1}{2})+\\hbar\\omega_y(n_y+\\frac{1}{2})+\\hbar\\omega_z(n_z+\\frac{1}{2})$\n",
    "        - Factorisation of wavefunction: $\\psi_{n_x,n_y,n_z}(r_x,r_y,r_z)=\\langle r_x,r_y,r_z|n_x,n_y,n_z\\rangle=\\langle r_x|n_x\\rangle\\langle r_y|n_y\\rangle\\langle r_z|n_z\\rangle=\\psi_{n_x}(r_x)\\psi_{n_y}(r_y)\\psi_{n_z}(r_z)$\n",
    "        - Energy of ground state: $E_{GS}=\\hbar\\omega_x\\frac{1}{2}+\\hbar\\omega_y\\frac{1}{2}+\\hbar\\omega_z\\frac{1}{2}$\n",
    "        - Wavefunction of ground state: $\\psi_{GS}(r_x,r_y,r_z)=(\\frac{m\\omega_x}{\\pi\\hbar})^\\frac{1}{4}(\\frac{m\\omega_y}{\\pi\\hbar})^\\frac{1}{4}(\\frac{m\\omega_z}{\\pi\\hbar})^\\frac{1}{4}e^{-\\frac{1m}{2\\hbar}(\\omega_xr_x^2+\\omega_yr_y^2+\\omega_zr_z^2)}$\n",
    "    - Isotropic 3D SHO\n",
    "        - In the Isotropic 3D SHO, we choose the frequencies to be the same($\\omega_x=\\omega_y=\\omega_z$).\n",
    "        - Hamiltonian: $\\hat{H}=\\hbar\\omega(\\hat{a}_x^\\dagger\\hat{a}_x+\\hat{a}_y^\\dagger\\hat{a}_y+\\hat{a}_z^\\dagger\\hat{a}_z+\\frac{3}{2})$\n",
    "        - Energy: $E_{n_x,n_y,n_z}=\\hbar\\omega(n_x+n_y+n_z+\\frac{3}{2})$\n",
    "        - When we have different sets of n values that have the same sum, we have degeneracy.\n",
    "    - Isotropic Wavefunctions\n",
    "        - We use wavefunctions with even powers of the Cartesian coordinates: $(4,0,0),(0,4,0),(0,0,4),(2,2,0),(2,0,2),(0,2,2)$\n",
    "        - $\\psi_0(r_x)=(\\frac{m\\omega}{\\pi\\hbar})^\\frac{1}{4}e^{-\\frac{1}{2}\\frac{m\\omega}{\\hbar}\\hat{r}_x^2}$\n",
    "        - $\\psi_2(r_x)=\\frac{1}{\\sqrt{2}}(\\frac{m\\omega}{\\pi\\hbar})^\\frac{1}{4}H_2(\\sqrt{\\frac{m\\omega}{\\hbar}}\\hat{r_x})e^{-\\frac{1}{2}\\frac{m\\omega}{\\hbar}\\hat{r}_x^2}$\n",
    "        - $\\psi_4(r_x)=\\frac{1}{\\sqrt{24}}(\\frac{m\\omega}{\\pi\\hbar})^\\frac{1}{4}H_4(\\sqrt{\\frac{m\\omega}{\\hbar}}\\hat{r_x})e^{-\\frac{1}{2}\\frac{m\\omega}{\\hbar}\\hat{r}_x^2}$\n",
    "        - $\\psi_{400}+\\psi_{040}+\\psi_{004}\\propto\\frac{1}{\\sqrt{24}}(16r^2-48r^2+36-32(r_x^2r_y^2+r_y^2r_z^2+r_z^2r_x^2))$\n",
    "        - $\\psi_{220}+\\psi_{202}+\\psi_{022}\\propto\\frac{1}{2}(16(r_x^2r_y^2+r_y^2r_z^2+r_z^2r_x^2)-16r^2+12)$\n",
    "        - $\\psi_{400}+\\psi_{040}+\\psi_{004}+\\frac{2}{\\sqrt{6}}(\\psi_{220}+\\psi_{202}+\\psi_{022})\\propto\\frac{1}{\\sqrt{6}}(8r^4-40r^2+40)$\n",
    "            - This is a function of $r^2$ only.\n",
    "        - But most wavefunctions are not isotropic. This is a principle when we have symmetry in a Hamilonian.\n",
    "        - Not all wavefunctions have the same symmetry as the Hamiltonian.\n",
    "    - Uncertainty\n",
    "        - Uncertainty adds in quadrature for position: $\\Delta^2(\\vec{r})_{n_x,n_y,n_z}=\\frac{\\hbar}{2m\\omega}(2n_x+1+2n_y+1+2n_z+1)$\n",
    "        - Uncertainty also adds in quadrature for momentum: $\\Delta^2(\\vec{p})_{n_x,n_y,n_z}=\\frac{\\hbar m\\omega}{2}(2n_x+1+2n_y+1+2n_z+1)$\n",
    "        - Product of uncertainty: $\\Delta(r)_{n_x,n_y,n_z}Delta(p)_{n_x,n_y,n_z}=\\frac{\\hbar}{2}(2n_x+2n_y+2n_z+3)$"
   ]
  },
  {
   "cell_type": "markdown",
   "id": "d330b2b7",
   "metadata": {},
   "source": [
    "Problem Notes\n",
    "- To calculate the wave function($\\tilde{\\psi}_n=\\frac{1}{\\sqrt{2\\pi\\hbar}}\\int_{-\\infty}^\\infty ce^{-\\frac{\\alpha^2}{2}x^2}e^{-\\frac{ipx}{\\hbar}}dx$)\n",
    "- Leibniz Rule: $[\\hat A\\hat B,\\hat C]=\\hat  A [\\hat{B},\\hat{C}]+[\\hat{A},\\hat{C}]\\hat{B}$\n",
    "    - Another form: $[\\hat A,\\hat B\\hat C]=\\hat B[\\hat{A},\\hat{C}]+[\\hat{A},\\hat{B}]\\hat{C}$\n",
    "- Wave function: $\\tilde{\\psi}_n(p) \\propto e^{-\\frac{p^2}{2m\\hbar\\omega}}$\n",
    "- Review of SHO eigenstates\n",
    "    - Hamiltonian, position, and momentum in terms of ladder operators: $\\hat{H}=\\hbar\\omega\\left (\\hat{a}^\\dagger\\hat{a}+\\frac{1}{2}\\right );~~~\\hat{x}=\\sqrt{\\frac{\\hbar}{2 m\\omega}}\\left (\\hat{a}+\\hat{a}^\\dagger\\right );~~~\\hat{p}=\\sqrt{\\frac{\\hbar m\\omega}{2}}\\frac{1}{i}\\left (\\hat{a}-\\hat{a}^\\dagger\\right )$\n",
    "    - Commutation Relations between $\\hat{a}$ and $\\hat{a}^\\dagger$\n",
    "        - $\\left [\\hat{a},\\left (\\hat{a}^\\dagger\\right)^n\\right ]=n\\left (\\hat{a}^\\dagger\\right )^{n-1}$\n",
    "        - $\\left [\\hat{a}^\\dagger,\\hat{a}^n\\right ]=-n\\hat{a}^{n-1}$\n",
    "    - Normalized energy eigenstates: $|n\\rangle=\\frac{1}{\\sqrt{n!}}\\left (\\hat{a}^\\dagger\\right )^n|0\\rangle;~~~\\hat{a}|0\\rangle=0;~~\\hat{H}|n\\rangle=E_n|n\\rangle;~~E_n=\\hbar\\omega\\left (n+\\frac{1}{2}\\right )$\n",
    "    - Hadamard Lemma: $e^{\\hat{A}}\\hat{B}e^{-\\hat{A}}=\\hat{B}+[\\hat{A},\\hat{B}]+\\frac{1}{2}[\\hat{A},[\\hat{A},\\hat{B}]]+\\cdots$\n",
    "    - Weyl form of BCH identity: $e^{\\hat{A}}e^{\\hat{B}}=e^{\\hat{A}+\\hat{B}}e^{\\frac{1}{2}[\\hat{A},\\hat{B}]}$\n",
    "- Expansion of coherent state in the number state basis: $|\\alpha\\rangle=e^{-\\frac{1}{2}|\\alpha|^2}\\sum_{m=0}^\\infty\\frac{\\alpha^m}{\\sqrt{m!}}|m\\rangle$"
   ]
  },
  {
   "cell_type": "code",
   "execution_count": null,
   "id": "0ca324ce",
   "metadata": {},
   "outputs": [],
   "source": [
    "# Coherent States\n",
    "var('m n u')\n",
    "assume(n+m+2>0)\n",
    "s(integral(e^(-u)*u^((n+m)/2),u,0,infinity))"
   ]
  },
  {
   "cell_type": "code",
   "execution_count": null,
   "id": "71090783",
   "metadata": {},
   "outputs": [],
   "source": [
    "# Morse Potential\n",
    "var('r_e D_e m a')                                    # Define variables\n",
    "v_morse(r)=D_e*(e^(-2*(r-r_e)/a)-2*e^(-(r-r_e)/a))    # Define Morse Potential\n",
    "s(v_morse(r_e))                                       # Find the Morse Potential at r_e\n",
    "s(derivative(v_morse,r,2)(r_e))                       # Find k_morse by taking the second derivative and evaluating at r_e"
   ]
  },
  {
   "cell_type": "code",
   "execution_count": null,
   "id": "b622213c",
   "metadata": {},
   "outputs": [],
   "source": [
    "# Morse Potential 2\n",
    "D_e=4.75\n",
    "a=19.3\n",
    "r_e=0.074\n",
    "m=938*10^6\n",
    "hbar=1240/(2*pi)\n",
    "E_morse(x)=2*hbar*a*sqrt(D_e/m)*(x+1/2)-hbar^2*a^2/m*(x+1/2)^2-D_e\n",
    "E_approx(x)=2*hbar*a*sqrt(D_e/m)*(x+1/2)-D_e\n",
    "s((E_morse(0)-E_approx(0))/E_morse(0))"
   ]
  },
  {
   "cell_type": "code",
   "execution_count": null,
   "id": "f6fc4077",
   "metadata": {},
   "outputs": [],
   "source": [
    "# Lennard-Jones Potential\n",
    "var('V_0 x_0')\n",
    "v_lj(x)=V_0*((x_0/x)^12-2*(x_0/x)^6)\n",
    "v_lj_approx(x)=-V_0+36*V_0*(1-(x/x_0))^2\n",
    "for val in [0.95,1.05]:\n",
    "    v_lj_val=v_lj(val*x_0)\n",
    "    v_lj_approx_val=v_lj_approx(val*x_0)\n",
    "    print('Percentage error for '+str(round(val,2))+'*x_0: '+str(100*abs((v_lj_val-v_lj_approx_val)/v_lj_val)))"
   ]
  },
  {
   "cell_type": "code",
   "execution_count": null,
   "id": "f8a914ed",
   "metadata": {},
   "outputs": [],
   "source": [
    "# Pauli y matrix eigenvectors\n",
    "sigma_y=matrix(2,2,[0,i,-i,0])\n",
    "matrix(sigma_y).eigenvectors_left()"
   ]
  },
  {
   "cell_type": "code",
   "execution_count": null,
   "id": "74b2fe84",
   "metadata": {},
   "outputs": [],
   "source": [
    "# Normalization Constant\n",
    "var('m omega h')\n",
    "assume(m>0)\n",
    "assume(omega>0)\n",
    "assume(h>0)\n",
    "s(integral(e^(-(m*omega)/h*x^2),x,-infinity,infinity))"
   ]
  },
  {
   "cell_type": "code",
   "execution_count": null,
   "id": "010032d6",
   "metadata": {},
   "outputs": [],
   "source": [
    "# Normalization Constant 2\n",
    "var('m omega h p c')\n",
    "assume(h>0)\n",
    "assume(omega>0)\n",
    "s(integral(abs(c^2*e^(-p^2/(m*omega*h))),p,-infinity,infinity))"
   ]
  },
  {
   "cell_type": "code",
   "execution_count": null,
   "id": "a11c5cf9",
   "metadata": {},
   "outputs": [],
   "source": [
    "# Hermite Polynomials\n",
    "var('z')\n",
    "def h(n):\n",
    "    if n==0:\n",
    "        return 1\n",
    "    elif n==1:\n",
    "        return 2*z\n",
    "    return 2*z*h(n-1)-2*(n-1)*h(n-2)\n",
    "for i in range(6):\n",
    "    s(expand(h(i)))"
   ]
  },
  {
   "cell_type": "code",
   "execution_count": null,
   "id": "3f4946f2",
   "metadata": {},
   "outputs": [],
   "source": [
    "n(3/2*hbar*beta*pi)"
   ]
  },
  {
   "cell_type": "code",
   "execution_count": 37,
   "id": "5ed2df51",
   "metadata": {},
   "outputs": [
    {
     "data": {
      "text/latex": [
       "$\\displaystyle -\\frac{26.5416677684687}{\\pi} - \\frac{19.1000000000000}{{\\left(\\frac{0.926410742354928}{\\pi} + 1\\right)}^{\\frac{3}{2}}} + 19.1000000000000 \\qquad   $"
      ],
      "text/plain": [
       "<IPython.core.display.Math object>"
      ]
     },
     "metadata": {},
     "output_type": "display_data"
    },
    {
     "data": {
      "text/latex": [
       "$\\displaystyle -2.31089903760438 \\qquad   $"
      ],
      "text/plain": [
       "<IPython.core.display.Math object>"
      ]
     },
     "metadata": {},
     "output_type": "display_data"
    }
   ],
   "source": [
    "# Difference in variational energy and SHO approximated energy for the deuteron\n",
    "# c(speed of light) cancels out in the equation so can be ignored\n",
    "hbar=1240/(2*10^6*pi)\n",
    "beta=2*10^5\n",
    "V=19.1\n",
    "m=938\n",
    "s(3/2*hbar*beta*sqrt(V/m)-V/(1+beta*hbar/sqrt(m*V))^(3/2)+V-3*hbar*beta*sqrt(V/m))\n",
    "s(n(3/2*hbar*beta*sqrt(V/m)-V/(1+(beta*hbar)/sqrt(m*V))^(3/2)+V-3*hbar*beta*sqrt(V/m)))"
   ]
  },
  {
   "cell_type": "markdown",
   "id": "a08fbba4",
   "metadata": {
    "vscode": {
     "languageId": "sage"
    }
   },
   "source": [
    "## M7. Quantum Angular Momentum and Hydrogen"
   ]
  },
  {
   "cell_type": "markdown",
   "id": "11df8e60",
   "metadata": {
    "vscode": {
     "languageId": "sage"
    }
   },
   "source": [
    "Lecture Notes\n",
    "- Commutation Relations of Angular Momentum\n",
    "    - Angular momentum in QM\n",
    "        - Angular momentum is hard.\n",
    "        - When we work with operators, commutators and states. They may be abstract, but they are not nonintuitive.\n",
    "            - Because of this, if you can deal with the abstraction, angular momentum in quantum mechanics is actually simpler then it is in classical mechanics.\n",
    "        - We have to do this because the important forces, the Coulomb interaction in atoms, they are central forces. We also need to do this because we need to deal with spin, and spin is an angular momentum.\n",
    "    - Defining angular momentum\n",
    "        - Classical angular momentum: $\\hat{L}=\\hat{r}\\times\\hat{p}$ ($\\times$ represents the cross product)\n",
    "        - We simply calculate the quantum angular momentum by elevating the classical position and momentum to operators. Normally, we run into operator ordering issues, but because the products always occur with terms along different directions, everything commutes.\n",
    "        - Quantum angular momentum: $\\hat{L}=\\hat{r}\\times\\hat{p}$\n",
    "            - $\\hat{L}_x=\\hat{r}_y\\hat{p}_z-\\hat{r}_z\\hat{p}_y$\n",
    "            - $\\hat{L}_y=\\hat{r}_z\\hat{p}_x-\\hat{r}_x\\hat{p}_z$\n",
    "            - $\\hat{L}_z=\\hat{r}_x\\hat{p}_y-\\hat{r}_y\\hat{p}_x$\n",
    "    - Commutators with position and momentum\n",
    "        - Commutator of position with angular momentum: $[\\hat{r}_i,\\hat{L}_j]=[\\hat{r}_i,\\sum_{kl}\\epsilon_{jkl}\\hat{r}_k\\hat{p}_l]$\n",
    "        - $[\\hat{r}_i,\\hat{L}_j]=\\sum_{kl}\\epsilon_{jkl}[\\hat{r}_i,\\hat{r}_k\\hat{p}_l]$\n",
    "        - $[\\hat{r}_i,\\hat{L}_j]=\\sum_{kl}\\epsilon_{jkl}(\\hat{r}_k[\\hat{r}_i,\\hat{p}_l]+[\\hat{r}_i,\\hat{r}_k]\\hat{p}_l)$\n",
    "        - $[\\hat{r}_i,\\hat{L}_j]=\\sum_{kl}\\epsilon_{jkl}\\hat{r}_ki\\hbar\\delta_{il}$\n",
    "        - $[\\hat{r}_i,\\hat{L}_j]=i\\hbar\\sum_k\\epsilon_{ijk}\\hat{r}_k$\n",
    "        - Commutator of momentum with angular momentum: $[\\hat{p}_i,\\hat{L}_j]=[\\hat{p}_i,\\sum_{kl}\\epsilon_{jkl}\\hat{r}_k\\hat{p}_l]$\n",
    "        - $[\\hat{p}_i,\\hat{L}_j]=\\sum_{kl}\\epsilon_{jkl}(\\hat{r}_k[\\hat{p}_i,\\hat{p}_l]+[\\hat{p}_i,\\hat{r}_k]\\hat{p}_l)$\n",
    "        - $[\\hat{p}_i,\\hat{L}_j]=\\sum_{kl}\\epsilon_{jkl}[\\hat{p}_i,\\hat{r}_k]\\hat{p}_l$\n",
    "        - $[\\hat{p}_i,\\hat{L}_j]=\\sum_{kl}\\epsilon_{jkl}(-i\\hbar\\delta{ki})\\hat{p}_l$\n",
    "        - $[\\hat{p}_i,\\hat{L}_j]=i\\hbar\\sum_k\\epsilon_{ijk}\\hat{p}_k$\n",
    "        - You might be able to see that there is a pattern.\n",
    "        - Pattern: The commutator of a operator with $\\hat{L}_j$ has the same formula but just changing the operator at the end.\n",
    "        - This operator is called a vector operator.\n",
    "    - Commutators of angular momentum\n",
    "        - Commutator of angular momentum with itself: $[\\hat{L}_i,\\hat{L}_j]=\\sum_{kl}\\epsilon_{ikl}[\\hat{r}_k\\hat{p}_l,\\hat{L_j}]$\n",
    "        - $[\\hat{L}_i,\\hat{L}_j]=\\sum_{kl}\\epsilon_{ikl}(\\hat{r}_k[\\hat{p}_l,\\hat{L}_j]+[\\hat{r}_k,\\hat{L}_j]\\hat{p}_l)$\n",
    "        - $[\\hat{L}_i,\\hat{L}_j]=i\\hbar\\sum_{klm}\\epsilon_{ikl}(\\epsilon_{ljm}\\hat{r}_k\\hat{p}_m+\\epsilon{kjm}\\hat{r}_m\\hat{p}_l)$\n",
    "        - Identity: $\\sum_k=\\epsilon_{ijk}\\epsilon_{klm}=\\delta_{il}\\delta_{jm}-\\delta_{im}\\delta_{jl}$\n",
    "        - We use this identity to find $[\\hat{L}_i,\\hat{L}_j]=i\\hbar(\\hat{r}_i\\hat{p}_j-\\hat{r}_j\\hat{p}_i)$\n",
    "        - $[\\hat{L}_i,\\hat{L}_j]=i\\hbar\\sum_k\\epsilon_{ijk}\\hat{L}_k$\n",
    "    - Summary\n",
    "        - $[\\hat{L}_i,\\hat{L}_j]=i\\hbar\\sum_k\\epsilon_{ijk}\\hat{L}_k$\n",
    "        - $[\\hat{L}_i,\\hat{L}^2]=[\\hat{L}_i,\\hat{L}\\cdot\\hat{L}]=0$\n",
    "        - $[\\hat{r}_i,\\hat{L}_j]=i\\hbar\\sum_k\\epsilon_{ijk}\\hat{r}_k$\n",
    "        - $[\\hat{p}_i,\\hat{L}_j]=i\\hbar\\sum_k\\epsilon_{ijk}\\hat{p}_k$\n",
    "        - $[\\hat{r}^2,\\hat{L}_j]=0$\n",
    "        - $[\\hat{p}^2,\\hat{L}_j]=0$"
   ]
  },
  {
   "cell_type": "markdown",
   "id": "e959e85e",
   "metadata": {},
   "source": [
    "- Angular Momentum Eigenstates\n",
    "    - Raising and lowering operators\n",
    "        - Raising operator: $\\hat L_+=\\hat L_x+i\\hat L_y$\n",
    "        - Lowering operator: $\\hat L_-=\\hat L_x-i\\hat L_y$\n",
    "        - Commutation relations\n",
    "            - $[\\hat L_z,\\hat L_\\pm]=\\pm\\hbar\\hat L_\\pm$\n",
    "            - $[\\hat L_+,\\hat L_-]=2\\hbar\\hat L_z$\n",
    "    - Eigenstates and quantum numbers\n",
    "        - Since each Cartesian component commutes with the total angular momentum, but they don't commute with each other, the maximum amount of commuting operators is two.\n",
    "            - It is customary to choose $\\hat L_z$ as the Cartesian component.\n",
    "        - $\\hat{\\vec L}^2=\\hbar^2 l(l+1)|l,m\\rangle$\n",
    "        - $\\hat L_z=\\hbar m|l,m\\rangle$\n",
    "    - Raising operator\n",
    "        - Our first step is to show $\\hat L_+|l,m\\rangle\\propto|l,m+1\\rangle$.\n",
    "        - This comes from the canonical commutation relation: $\\hat L_z(\\hat L_+|l,m\\rangle)=\\hat L_z\\hat L_+|l,m\\rangle$\n",
    "        - $\\hat L_z(\\hat L_+|l,m\\rangle)=\\hat L_+\\hat L_z|l,m\\rangle+[\\hat L_z,\\hat L_+]|l,m\\rangle$\n",
    "        - $\\hat L_z(\\hat L_+|l,m\\rangle)=\\hat L_+\\hbar m|l,m\\rangle+\\hbar\\hat L_+|l,m\\rangle$\n",
    "        - $\\hat L_z(\\hat L_+|l,m\\rangle)=\\hbar(m+1)\\hat L_+|l,m\\rangle$\n",
    "        - The raising operator increases the eigenvalue $m$ by 1 each time it is applied to a state. This is why we call it a raising operator.\n",
    "        - You can use the same steps to find $\\hat L_z(\\hat L_-|l,m\\rangle)=\\hbar(m-1)\\hat L_-|l,m\\rangle$\n",
    "        - The fact that the raising and lowering operators raise and lower the eigenvalue is why we call them ladder operators.\n",
    "    - Positivity\n",
    "        - Recall that $\\hat L_x^2+\\hat L_y^2=\\frac{1}{2}(\\hat L_+\\hat L_-+\\hat L_-\\hat L_+)$.\n",
    "        - Hence, $\\langle l,m|\\hat L_x^2+\\hat L_y^2|l,m\\rangle\\geq0$\n",
    "            - This follows from $\\langle l,m|\\hat L_+ \\hat L_-|l,m\\rangle=\\parallel\\hat L_-|l,m\\rangle\\parallel^2\\geq0$ and similarly for $ \\langle l,m|\\hat L_-\\hat L_+|l,m\\rangle=\\parallel\\hat L_+|l,m\\rangle\\parallel^2\\geq=0$.\n",
    "        - But, $\\langle l,m|\\hat L_x^2+\\hat L_y^2|l,m\\rangle=\\langle l,m|(\\hat{\\vec L}^2-\\hat L_z^2)|l,m\\rangle=\\hbar^2[l(l+1)-m^2]$\n",
    "        - So, $m\\leq\\sqrt{l(l+1)}$, implies that there is a maximal m($m_{\\text{max}}$) and a minimal m($m_{\\text{min}}$).\n",
    "        - They satisfy $\\hat L_+|l,m_{\\text{max}}\\rangle=0$ and $\\hat L_-|l,m_{\\text{min}}\\rangle=0$.\n",
    "    - Finding $m_\\text{max}$\n",
    "        - $\\hat L_+|l,m_\\text{max}\\rangle=0\\implies\\hat L_-\\hat L_+|l,m_\\text{max}\\rangle=0$\n",
    "        - But by using the square of the angular momentum and add zero, we have $(\\hat{\\vec L}^2-\\hat L_z^2-\\hat L_z)|l,m_\\text{max}\\rangle=0$.\n",
    "        - $\\hbar^2(l(l+1)-m_\\text{max}^2-m_\\text{max})=0$\n",
    "        - Hence, either $m_\\text{max}=l$ or $m_\\text{max}=-l-1$.\n",
    "        - We will determine which one is right at the end of the next section.\n",
    "    - Finding $m_\\text{min}$\n",
    "        - $(\\hat{\\vec L}^2-\\hat L_z^2+\\frac{1}{2}[\\hat L_+,\\hat L_-])|l,m_\\text{min}\\rangle=0$\n",
    "        - $\\hbar^2(l(l+1)-m_\\text{min}^2+m_\\text{min})=0$\n",
    "        - Hence, either $m_\\text{min}=l+1$ or $m_\\text{min}=-l$\n",
    "        - Since $m_\\text{max}\\geq m_\\text{min}$, $m_\\text{max}=l$ and $m_\\text{min}=-l$.\n",
    "    - Quantum number $l$ is integer or half-odd integer\n",
    "        - $m_\\text{max}-m_\\text{min}=2l$\n",
    "        - This means we can raise $|l,m_\\text{min}\\rangle$ to $|l,m_\\text{max}\\rangle$ using $\\hat L_+$ $2l$ times.\n",
    "            - Thus, $2l$ has to be an integer, meaning $l$ is an integer or a half-odd integer.\n",
    "        - It turns out that for orbital angular momentum, $l$ has to be an integer.\n",
    "            - Note that this is not true for spin.\n",
    "    - Normalisation factors\n",
    "        - We require the angular momentum states to be orthonormal: $\\langle l,m|l^\\prime, m^\\prime\\rangle=\\delta_{ll^\\prime}\\delta_{mm^ \\prime}$\n",
    "        - $\\hat L_+|l,m\\rangle=C_{lm}|l,m+1\\rangle$\n",
    "        - Norm: $\\parallel\\hat L_+|l,m\\rangle\\parallel^2=\\langle l,m|(\\hat L_+)^\\dagger\\hat L_+|l,m\\rangle$\n",
    "        - $\\parallel\\hat L_+|l,m\\rangle\\parallel^2=\\langle l,m|\\hat{\\vec L}^2-\\hat L_z^2+\\frac{1}{2}[\\hat L_-,\\hat L_+]|l,m\\rangle$\n",
    "        - $\\parallel\\hat L_+|l,m\\rangle\\parallel^2=\\langle l,m|\\hat{\\vec L}^2-\\hat L_z^2+\\hat L_z|l,m\\rangle$\n",
    "        - $\\parallel\\hat L_+|l,m\\rangle\\parallel^2=\\hbar^2\\langle l,m|l(l+1)-m^2-m|l,m\\rangle$\n",
    "        - $C_{lm}^2=\\hbar^2(l(l+1)-m(m+1))$\n",
    "        - $C_{lm}=\\hbar\\sqrt{l(l+1)-m(m+1)}$\n",
    "        - $C_{lm}=\\hbar\\sqrt{(l-m)(l+1+m)}$\n",
    "        - For the lowering operator, we follow through the same steps and find $C_{lm}^\\prime=\\hbar(\\sqrt{(l+m)(l+1-m)})$\n",
    "    - Constructing the eigenstates\n",
    "        - Lowest-weight state: $|l,-l+1\\rangle=\\frac{1}{\\sqrt{2l\\cdot1}}\\frac{\\hat L_+}{\\hbar}|l,-l\\rangle$\n",
    "        - $|l,-l+2\\rangle=\\frac{1}{\\sqrt{2l\\cdot1\\cdot(2l-1)\\cdot2}}\\begin{pmatrix}\\frac{\\hat L_+}{\\hbar}\\end{pmatrix}^2|l,-l\\rangle$\n",
    "        - Pattern: $|l,-l+k\\rangle=\\frac{1}{\\sqrt{2l\\cdot(2l-1)\\cdots(2l-k+1)\\cdot k!}}\\begin{pmatrix}\\frac{\\hat L_+}{\\hbar}\\end{pmatrix}^k|l,-l\\rangle$\n",
    "        - Replace $k$ by $l+m$: $|l,m\\rangle=\\sqrt{\\frac{(l-m)!}{(2l)!(l+m)!}}\\begin{pmatrix}\\frac{\\hat L_+}{\\hbar}\\end{pmatrix}^{l+m}|l,-l \\rangle$\n",
    "    - Summary\n",
    "        - For each l, we have $2l+1$ \"$m$\" states $|l,m\\rangle$ with $-l\\leq m\\leq l$\n",
    "        - $\\hat{\\vec L}^2|l,m\\rangle=\\hbar^2l(l+1)|l,m\\rangle$\n",
    "        - $\\hat L_z|l,m\\rangle=\\hbar m|l,m\\rangle$\n",
    "        - $|l,m\\rangle=\\sqrt{\\frac{(l-m)!}{(2l)!(l+m)!}}\\begin{pmatrix}\\frac{\\hat L_+}{\\hbar}\\end{pmatrix}^{l+m}|l,-l \\rangle$\n",
    "        - $\\hat L_+|l,m_\\text{max}\\rangle=0$\n",
    "        - $\\hat L_-|l,m_\\text{min}\\rangle=0$\n",
    "        - Names for $l$ values\n",
    "            - $l=0$: singlet\n",
    "            - $l=\\frac{1}{2}$: doublet\n",
    "            - $l=1$: triplet\n",
    "            - $l=\\frac{3}{2}$: quartet\n",
    "            - $l=2$: quintet"
   ]
  },
  {
   "cell_type": "markdown",
   "id": "55f3e535",
   "metadata": {},
   "source": [
    "- Spherical Harmonics without Derivatives\n",
    "    - Spherical harmonics\n",
    "        - Spherical harmonics are coordinate-space wavefunctions of angular momentum.\n",
    "        - Hence, we use the eigenstates of the square of the angular momentum and $hat L_z$($|l,m\\rangle$) and the angular coordinates in position space($|\\theta,\\phi\\rangle$).\n",
    "        - Spherical harmonics wavefunctions: $Y_{l,m}(\\theta,\\phi)=\\langle\\theta,\\phi|l,m\\rangle$\n",
    "    - Angular coordinate states\n",
    "        - There are no operators corresponding to angles.\n",
    "        - In M6, we found that $\\hat x$ was not a good operator, but $\\cos{\\frac{2\\pi\\hat x}{L}}$ and $\\sin{\\frac{2\\pi\\hat x}{L}}$ were well defined because of the periodic boundary conditions on the circle.\n",
    "        - The same thing happens with angles, except $L=2\\pi$ applies.\n",
    "        - So, we can work with cosines and sines of the angle operators but not just the angle operators.\n",
    "        - If we define the radial coordinate by $\\hat r^2=\\hat r_x^2+\\hat r_y^2+\\hat r_z^2$, then the angle coordinates can be defined entirely in terms of Cartesian position operators.\n",
    "        - Trigonometric functions of states\n",
    "            - $\\cos{\\hat \\theta}=\\frac{\\hat r_z}{\\hat r}$\n",
    "            - $\\sin{\\hat \\theta}=\\frac{\\hat \\rho}{\\hat r}$\n",
    "            - $\\cos{\\hat \\phi}=\\frac{\\hat r_x}{\\hat \\rho}$\n",
    "            - $\\sin{\\hat \\phi}=\\frac{\\hat r_y}{\\hat \\rho}$\n",
    "        - The angular coordinate states are eigenvectors of these operators.\n",
    "            - $\\cos{\\hat \\theta}|\\theta,\\phi\\rangle=\\cos{\\theta}|\\theta,\\phi\\rangle$\n",
    "            - $\\sin{\\hat \\theta}|\\theta,\\phi\\rangle=\\sin{\\theta}|\\theta,\\phi\\rangle$\n",
    "            - $\\cos{\\hat \\phi}|\\theta,\\phi\\rangle=\\cos{\\phi}|\\theta,\\phi\\rangle$\n",
    "            - $\\sin{\\hat \\phi}|\\theta,\\phi\\rangle=\\sin{\\phi}|\\theta,\\phi\\rangle$\n",
    "    - North pole states\n",
    "        - We showed how to determine these states from the north-pole states, which points along the positive z-axis.\n",
    "        - It is denoted by $|0_\\theta,0_\\phi\\rangle$, even though the $\\phi$ value is arbitrary there.\n",
    "            - This ends up streamlining the equations.\n",
    "        - We construct different states from the north-pole states by applying two rotations: $\\theta$ about the y-axis followed by $\\phi$ about the z-axis.\n",
    "        - So, $\\langle\\theta,\\phi|=\\langle0_\\theta,0_\\phi|e^{\\frac{i}{\\hbar}\\theta\\hat L_y}e^{\\frac{i}{\\hbar}\\phi\\hat L_z}$ and $|\\theta,\\phi\\rangle=e^{-\\frac{i}{\\hbar}\\phi\\hat L_z}e^{-\\frac{i}{\\hbar}\\theta\\hat L_y}|0_\\theta,0_\\phi\\rangle$\n",
    "    - Constructing spherical harmonics\n",
    "        - Spherical harmonics: $Y_{lm}(\\theta,\\phi)=\\langle\\theta,\\phi|l,m\\rangle=\\langle0_\\theta,0_\\phi|e^{\\frac{i}{\\hbar}\\theta\\hat L_y}e^{\\frac{i}{\\hbar}\\phi\\hat L_z}|l,m\\rangle$\n",
    "        - Evaluate eigenstate: $Y_{lm}(\\theta,\\phi)=\\langle\\theta,\\phi|l,m\\rangle=e^{im\\phi}\\langle0_\\theta,0_\\phi|e^{\\frac{i}{\\hbar}\\theta \\hat L_y}|l,m\\rangle$\n",
    "        - Introduce complete set of states: $Y_{lm}(\\theta,\\phi)=\\langle\\theta,\\phi|l,m\\rangle=e^{im\\phi}\\langle0_\\theta,0_\\phi|\\sum_{l^ \\prime,m^\\prime}|l^\\prime,m^\\prime\\rangle\\langle l^\\prime,m^\\prime|e^{\\frac{i}{\\hbar}\\theta\\hat L_y}|l,m\\rangle$\n",
    "        - Simplify and pull out summation: $Y_{lm}(\\theta,\\phi)=\\langle\\theta,\\phi|l,m\\rangle=e^{im\\phi}\\sum_{m^\\prime}\\langle0_\\theta,0_ \\phi||l,m^\\prime\\rangle\\langle l,m^\\prime|e^{\\frac{i}{\\hbar}\\theta\\hat L_y}|l,m\\rangle$\n",
    "            - The bra ket on the right is calle the rotation matrix and is equal to $d^(l)_{m^\\prime m}(\\theta)$.\n",
    "        - Because $\\phi$ is arbitrary at the north-pole state, $\\langle0_\\theta,\\phi|l,m\\rangle=e^{im\\phi}\\langle0_\\theta,0_\\phi|l,m\\rangle$.\n",
    "        - $Y_{lm}(\\theta,\\phi)=\\langle\\theta,\\phi|l,m\\rangle=e^{im\\phi}\\langle0_\\theta,0_\\phi||l,0\\rangle\\langle l,0|e^{\\frac{i}{\\hbar}\\theta\\hat L_y}|l,m\\rangle$\n",
    "            - The first term is the normalization constant and the second term is the matrix element.\n",
    "        - Rewrite $\\hat L_y=\\frac{1}{2i}(\\hat L_+-\\hat L_-)$.\n",
    "        - If we use BCH, the commutators go on forever without a pattern, so we use exponential disentangling.\n",
    "    - Exponential disentangling\n",
    "        - Rewrite: $\\langle l,0|e^{\\frac{i}{\\hbar}\\theta\\hat L_y}|l,m\\rangle=\\langle l,0|e^{\\frac{\\theta}{2\\hbar}(\\hat L_+-\\hat L_-)}|l,m\\rangle$\n",
    "        - Exponential disentangling: $\\langle l,0|e^{\\frac{i}{\\hbar}\\theta\\hat L_y}|l,m\\rangle=\\langle l,0|e^{-\\tan{(\\frac{\\theta}{2})}\\frac{\\hat L_-}{\\hbar}}e^{\\ln{(\\cos^2{\\frac{\\theta}{2}})}\\frac{\\hat L_z}{\\hbar}}e^{\\tan{(\\frac{\\theta}{2})}\\frac{\\hat L_+}{\\hbar}}|l,m\\rangle$\n",
    "            - The expansion for the exponential of the raising operator is a finite polynomial because the raising operator of the state $|l,l\\rangle$ is 0.\n",
    "            - We evaluate the exponential of $\\hat L_z$ because all the states are eigenstates of $\\hat L_z$.\n",
    "            - We only care about the value for $|l,0\\rangle$, so we only count one term for the exponential of the lowering operator.\n",
    "        - Use $\\frac{\\hat L_+}{\\hbar}|l,m\\rangle=\\sqrt{(l-m)(l+m+1)}|l,m+1\\rangle$.\n",
    "        - $e^{\\tan{(\\frac{\\theta}{2})}\\frac{\\hat L_+}{\\hbar}}|l,m\\rangle=\\sum_{n=0}^\\infty\\frac{1}{n!}(\\tan{(\\frac{\\theta}{2})})^n(\\frac{\\hat L_+}{\\hbar})^n|l,m\\rangle$\n",
    "        - Assume $m\\geq0$.\n",
    "        - $(\\frac{\\hat L_+}{\\hbar})^n|l,m\\rangle=\\Pi_{r=1}^n\\sqrt{(l-m-r+1)(l+m+r)}|l,m+n\\rangle$\n",
    "        - $e^{\\ln{(\\cos^2{\\frac{\\theta}{2}})}\\frac{\\hat L_z}{\\hbar}}e^{\\tan{(\\frac{\\theta}{2})}\\frac{\\hat L_+}{\\hbar}}|l,m\\rangle=\\sum_{n=0}^{l-m}\\frac{1}{n!}(\\tan{(\\frac{\\theta}{2})})^n\\Pi_{r=1}^n\\sqrt{(l-m-r+1)(l+m+r)}e^{\\ln{(\\cos^2{\\frac{\\theta}{2}})}\\frac{\\hat L_z}{\\hbar}}|l,m\\rangle$\n",
    "        - Evaluate eigenstate: $e^{\\ln{(\\cos^2{\\frac{\\theta}{2}})}\\frac{\\hat L_z}{\\hbar}}e^{\\tan{(\\frac{\\theta}{2})}\\frac{\\hat L_+}{\\hbar}}|l,m\\rangle=\\sum_{n=0}^{l-m}\\frac{1}{n!}(\\tan{(\\frac{\\theta}{2})})^n\\Pi_{r=1}^n\\sqrt{(l-m-r+1)(l+m+r)}e^{\\ln{(\\cos^2{\\frac{\\theta}{2}})}(m+n)}|l,m\\rangle$\n",
    "        - Evaluate bra-ket: $\\langle l,0|e^{-\\tan{(\\frac{\\theta}{2})}\\frac{\\hat L_-}{\\hbar}}e^{\\ln{(\\cos^2{\\frac{\\theta}{2}})}\\frac{\\hat L_z}{\\hbar}}e^{\\tan{(\\frac{\\theta}{2})}\\frac{\\hat L_+}{\\hbar}}|l,m\\rangle=\\sum_{n=0}^{l-m}\\frac{1}{n!}\\tan^n{\\frac{\\theta}{2}}\\cos^{2m+2n}{\\frac{\\theta}{2}}\\Pi_{r=1}^{n}\\sqrt{(l-m-r+1)(l+m+r)}|l,m+n\\rangle$\n",
    "        - Bring in last factor: $\\langle l,0|e^{-\\tan{(\\frac{\\theta}{2})}\\frac{\\hat L_-}{\\hbar}}e^{\\ln{(\\cos^2{\\frac{\\theta}{2}})}\\frac{\\hat L_z}{\\hbar}}e^{\\tan{(\\frac{\\theta}{2})}\\frac{\\hat L_+}{\\hbar}}|l,m\\rangle=\\sum_{n=0}^{l-m}\\frac{1}{n!}\\tan^n{\\frac{\\theta}{2}}\\cos^{2m+2n}{\\frac{\\theta}{2}}\\Pi_{r=1}^n\\sqrt{(l-m-r+1)(l+m+r)}\\langle l,0|e^{-\\tan{(\\frac{\\theta}{2})}\\frac{\\hat L_-}{\\hbar}}|l,m+n\\rangle$\n",
    "        - $\\langle l,0|e^{-\\tan{(\\frac{\\theta}{2})}\\frac{\\hat L_-}{\\hbar}}e^{\\ln{(\\cos^2{\\frac{\\theta}{2}})}\\frac{\\hat L_z}{\\hbar}}e^{\\tan{(\\frac{\\theta}{2})}\\frac{\\hat L_+}{\\hbar}}|l,m\\rangle=\\sum_{n=0}^{l-m}\\frac{1}{n!(m+n)!}\\tan^n{\\frac{\\theta}{2}}\\cos^{2m+2n}{\\frac{\\theta}{2}}(-\\tan{\\frac{\\theta}{2}})^{m+n}\\\\\\Pi_{r=1}^n\\sqrt{(l-m-r+1)(l+m+r)}\\Pi_{s=1}^{m+n}\\sqrt{(l+m+n-s+1)(l-m-n+s)}$\n",
    "        - Simplify: $\\langle l,0|e^{-\\tan{(\\frac{\\theta}{2})}\\frac{\\hat L_-}{\\hbar}}e^{\\ln{(\\cos^2{\\frac{\\theta}{2}})}\\frac{\\hat L_z}{\\hbar}}e^{\\tan{(\\frac{\\theta}{2})}\\frac{\\hat L_+}{\\hbar}}|l,m\\rangle=\\sum_{n=0}^{l-m}\\frac{(-1)^{m+n}}{n!(m+n)!}(\\frac{1}{2})^m\\sin^m{\\theta}(\\sin^2{\\frac{\\theta}{2}})^n\\Pi_{r=1}^n\\sqrt{(l-m-r+1)(l+m+r)}\\Pi_{s=1}^{m+n}\\sqrt{(l+m+n-s+1)(l-m-n+s)}$\n",
    "        - Evaluate products and simplify: $\\langle l,0|e^{-\\tan{(\\frac{\\theta}{2})}\\frac{\\hat L_-}{\\hbar}}e^{\\ln{(\\cos^2{\\frac{\\theta}{2}})}\\frac{\\hat L_z}{\\hbar}}e^{\\tan{(\\frac{\\theta}{2})}\\frac{\\hat L_+}{\\hbar}}|l,m\\rangle=\\sum_{n=0}^{l-m}\\frac{(-\\frac{1}{2})^{m+n}}{n!(m+n)!}\\sin^m{\\theta}(1-\\cos{\\theta})^n\\frac{(l+m+n)!}{(l-m-n)!}\\sqrt{\\frac{(l-m)!}{(l+m)!}}$\n",
    "    - Legendre\n",
    "        - $Y_{lm}(\\theta,\\phi)=\\langle\\theta,\\phi|l,m\\rangle=\\langle0_\\theta,0_\\phi||l,0\\rangle e^{im\\phi}(-\\frac{1}{2})^m\\sin^m{\\theta}\\sqrt{\\frac{(l-m)!}{(l+m)!}}\\sum_{n=0}^{l-m}\\frac{(-\\frac{1}{2})^n}{n!(m+n)!}(1-\\cos{\\theta})^n\\frac{(l+m+n)!}{(l-m-n)!}$\n",
    "        - Associated Legendre polynomials: $P_l^m(\\cos{\\theta})=(\\frac{\\sin{\\theta}}{2})^m\\sum_{n=0}^{l-m}(-1)^n\\frac{(l+m+n)!}{(l-m-n)!(m+n)!n!}(\\frac{1-\\cos{\\theta}}{2})^n$\n",
    "        - $Y_{lm}(\\theta,\\phi)=\\langle0_\\theta,0_\\phi||l,0\\rangle e^{im\\phi}(-1)^m\\sqrt{\\frac{(l-m)!}{(l+m)!}}P_l^m(\\cos{\\theta})$\n",
    "        - For $m\\leq0$, $Y_{l-m}(\\theta,\\phi)=(-1)^m[Y_{lm}(\\theta,\\phi)]^*$.\n",
    "        - Normalisation constant\n",
    "            - $P_l^l(\\cos{\\theta})=\\frac{\\sin^l{\\theta}}{2^l}\\frac{(2l)!}{l!}$\n",
    "            - $Y_ll(\\theta,\\phi)=\\langle0_\\theta,0_\\phi||l,0\\rangle e^{il\\phi}(-1)^m\\frac{\\sin^l{theta}}{2^l}\\frac{\\sqrt{(2l)!}}{l!}$\n",
    "            - $1=\\int_0^\\pi d\\theta\\sin^{2l+1}{\\theta}\\frac{(2l)!}{2^{2l}(l!)^2}\\int_0^{2\\pi}d\\phi|\\langle0_\\theta,0_\\phi||l,0\\rangle|^2$\n",
    "            - $1=\\frac{2\\pi(2l)!}{4^l(l!)^2}|\\langle0_\\theta,0_\\phi||l,0\\rangle|^2\\int_0^\\pi\\sin^{2l+1}{\\theta}$\n",
    "            - Evaluate integral: $1=\\frac{2\\pi(2l)!}{4^l(l!)^2}|\\langle0_\\theta,0_\\phi||l,0\\rangle|^2\\frac{2^{2l+1}(l!)^2}{(2l+1)!}$\n",
    "            - Simplify: $1=\\frac{4\\pi}{2l+1}|\\langle0_\\theta,0_\\phi||l,0\\rangle|^2$\n",
    "            - $\\langle0_\\theta,0_\\phi||l,0\\rangle=\\sqrt{\\frac{2l+1}{4\\pi}}$\n",
    "    - Summary\n",
    "        - $Y_{lm}(\\theta,\\phi)=\\langle\\theta,\\phi|l,m\\rangle=e^{im\\phi}(-1)^m\\sqrt{\\frac{(2l+1)(l-m)!}{4\\pi(l+m)!}}P_l^m(\\cos{\\theta})$\n",
    "        - $Y_{l-m}(\\theta,\\phi)=(-1)^m[Y_{lm}(\\theta,\\phi)]^*$\n",
    "        - $P_l^m(\\cos\\theta)=\\left(\\frac{\\sin\\theta}{2}\\right )^m\\,\\,\\sum_{n=0}^{l-m}(-1)^n\\frac{(l+m+n)!}{(l-m-n)!(m+n)!n!}\\left (\\frac{1-\\cos\\theta}{2}\\right )^n$"
   ]
  },
  {
   "cell_type": "markdown",
   "id": "a7c04fcb",
   "metadata": {},
   "source": [
    "- Schroedinger Factorisation Method\n",
    "    - Intro\n",
    "        - This is an algebraic method developed by Schroedinger in 1940-41 to solve general quantum problems.\n",
    "        - It can solve all known analytically solvable problems.\n",
    "        - There are ten steps for bound states and one for continuum solutions.\n",
    "            - Bound states are states that less energy than maximum of the potential and they tend to be localised in space.\n",
    "    1. Factorisation chain\n",
    "        - We construct a factorisation chain, creating auxiliary Hamiltonians $\\hat H_i$ that we also solve in this process.\n",
    "        - $\\hat H=\\hat H_0=\\hat A_0^\\dagger\\hat A_0+E_0$\n",
    "        - $\\hat H_1=\\hat A_0\\hat A_0^\\dagger+E_0=\\hat A_1^\\dagger\\hat A_1+E_1$\n",
    "        - Repeat\n",
    "            - $\\hat H_2=\\hat A_1\\hat A_1^\\dagger+E_1=\\hat A_2^\\dagger\\hat A_2+E_2$\n",
    "            - $\\hat H_3=\\hat A_2\\hat A_2^\\dagger+E_2=\\hat A_3^\\dagger\\hat A_3+E_3$\n",
    "            - $\\hat H_{i+1}=\\hat A_i\\hat A_i^\\dagger+E_i=\\hat A_{i+1}^\\dagger \\hat A_{i+1}+E_{i+1}$\n",
    "    1. Intertwining relation\n",
    "        - For intertwining, we move an auxiliary Hamiltonian past an auxiliary raising operator: $\\hat H_i\\hat A_i^\\dagger=\\hat A_i^\\dagger\\hat H_{i+1}$\n",
    "        - Proof\n",
    "            - $\\hat H_i\\hat A_i^\\dagger=(\\hat A_i^\\dagger\\hat A_i+E_i)\\hat A_i^\\dagger$\n",
    "            - Move $\\hat A_i^\\dagger$ into the parenthesis: $\\hat H_i\\hat A_i^\\dagger=(\\hat A_i^\\dagger\\hat A_i\\hat A_i^\\dagger+E_i\\hat A_i^\\dagger)$\n",
    "            - Switch order: $\\hat H_i\\hat A_i^\\dagger=(\\hat A_i^\\dagger\\hat A_i\\hat A_i^\\dagger+\\hat A_i^\\dagger E_i)$\n",
    "            - Move $\\hat A_i^\\dagger$ out of the parenthesis: $\\hat H_i\\hat A_i^\\dagger=\\hat A_i^\\dagger(\\hat A_i\\hat A_i^\\dagger+E_i)$\n",
    "            - Substitute Hamiltonian: $\\hat H_i\\hat A_i^\\dagger=\\hat A_i^\\dagger\\hat H_{i+1}$\n",
    "    1. Subsidiary condition\n",
    "        - Auxiliary Hamiltonian: $\\hat H_i=\\hat A_i^\\dagger\\hat A_i+E_i$\n",
    "        - Ground state satisfies subsidiary condition: $\\hat A_i|\\phi_i\\rangle=0$\n",
    "            - This subsidiary condition has auxiliary ground state energy E_i.\n",
    "            - We choose $\\phi$ to be normalised($\\langle\\phi_i|\\phi_i\\rangle=1$).\n",
    "        - Recall that $\\hat A_i^\\dagger\\hat A_i$ is a semidefinite operator, so its smallest expectation value is 0.\n",
    "        - Hence, if we satisfy the subsidiary condition, we have the minimal energy eigenstate, $(\\hat A_i^\\dagger\\hat A_i+E_i)|\\phi_i\\rangle=E_i|\\phi_i\\rangle$.\n",
    "        - Proof: $(\\hat A_i^\\dagger\\hat A_i+E_i)|\\phi_i\\rangle=\\hat A_i^\\dagger\\hat A_i|\\phi_i\\rangle+E_i|\\phi_i\\rangle=\\hat A_i^\\dagger(\\hat A_i|\\phi_i\\rangle)+E_i|\\phi_i\\rangle=\\hat A_i^\\dagger(0)+E_i|\\phi_i\\rangle=E_i|\\phi_i\\rangle$\n",
    "    1. All energy eigenstates\n",
    "        - Claim: $|\\psi_i\\rangle=\\hat A_1^\\dagger\\hat A_2^\\dagger\\hat A_3^\\dagger\\cdots\\hat A_{i-1}^\\dagger|\\phi_i\\rangle$ is the excited state of $\\hat H_0$ with energy $E_i$.\n",
    "        - Proof\n",
    "            - $\\hat H_0|\\psi_i\\rangle=\\hat H_0\\hat A_1^\\dagger\\hat A_2^\\dagger\\hat A_3^\\dagger\\cdots\\hat A_{i-1}^\\dagger|\\phi_i\\rangle$\n",
    "            - Use intertwining: $\\hat H_0|\\psi_i\\rangle=\\hat A_1^\\dagger\\hat A_2^\\dagger\\hat A^3\\dagger\\cdots\\hat A_{i-1}^\\dagger\\hat H_i|\\phi_i\\rangle$\n",
    "            - Evaluate eigenstate: $\\hat H_0|\\psi_i\\rangle=E_i\\hat A_1^\\dagger\\hat A_2^\\dagger\\hat A^3\\dagger\\cdots\\hat A_{i-1}^\\dagger|\\phi_i\\rangle$\n",
    "            - Use initial condition: $\\hat H_0|\\psi_i\\rangle=E_i|\\psi_i\\rangle$\n",
    "    1. Energy eigenvalues are increasing\n",
    "        - "
   ]
  },
  {
   "cell_type": "markdown",
   "id": "44555bd3",
   "metadata": {
    "vscode": {
     "languageId": "sage"
    }
   },
   "source": [
    "Problem Notes\n",
    "- $Y_{lm}(\\theta,\\phi)=\\sqrt{\\frac{(2l+1)(l-m)!}{4\\pi(l+m)!}}(-1)^m P_l^m(\\cos\\theta)e^{im\\phi}~~\\text{for}~~m\\ge 0$\n",
    "- $P_l^m(\\cos\\theta)=\\left(\\frac{\\sin\\theta}{2}\\right )^m\\,\\,\\sum_{n=0}^{l-m}(-1)^n\\frac{(l+m+n)!}{(l-m-n)!(m+n)!n!}\\left (\\frac{1-\\cos\\theta}{2}\\right )^n$\n",
    "- $Y_{l\\,-|m|}(\\theta,\\phi)=(-1)^{|m|}\\left [Y_{l|m|}(\\theta,\\phi)\\right ]^*$\n",
    "- Spin operators: $$\\begin{split}\\hat{S}_z|\\uparrow\\rangle_z&=\\frac{\\hbar}{2}|\\uparrow\\rangle_z\\\\\\hat{S}_z|\\downarrow\\rangle_z&=-\\frac{\\hbar}{2}|\\downarrow\\rangle_z\\\\\\hat{S}_+|\\uparrow\\rangle_z&=0\\\\\\hat{S}_+|\\downarrow\\rangle_z&=\\hbar|\\uparrow\\rangle_z\\\\\\hat{S}_-|\\uparrow\\rangle_z&=\\hbar|\\downarrow\\rangle_z\\\\\\hat{S}_-|\\downarrow_z\\rangle&=0\\\\\\hat{S}_{x} &= \\frac{1}{2}(\\hat{S}_+ + \\hat{S}_-)\\\\\\hat{S}_{y} &= \\frac{1}{2i}(\\hat{S}_+ - \\hat{S}_-)\\\\\\hat{S}_+&=\\hat{S}_x+i\\hat{S}_y\\\\\\hat{S}_-&=\\hat{S}_x-i\\hat{S}_y\\\\\\hat{\\vec{S}}^2&=\\hat{S}_x^2+\\hat{S}_y^2+\\hat{S}_z^2\\\\&=\\frac{1}{2}\\left (\\hat{S}_+\\hat{S}_-+\\hat{S}_-\\hat{S}_+\\right )+\\hat{S}_z\\hat{S}_z\\end{split}$$\n",
    "- Total spin operator: $\\hat{S}_{\\rm tot}=\\hat{\\vec{S}}_{(1)}+\\hat{\\vec{S}}_{(2)}$\n",
    "- Square of total spin operator: $\\hat{\\vec{S}}_{\\rm tot}^2=\\hat{\\vec{S}}_{(1)}^2+\\hat{\\vec{S}}_{(2)}^2+\\hat{S}_+^{(1)}\\hat{S}_-^{(2)}+\\hat{S}_-^{(1)}\\hat{S}_+^{(2)}+2\\hat{S}_z^{(1)}\\hat{S}_z^{(2)}$"
   ]
  },
  {
   "cell_type": "code",
   "execution_count": null,
   "id": "3a62beb1",
   "metadata": {},
   "outputs": [],
   "source": [
    "# Orthogonality\n",
    "var('theta phi')\n",
    "s(sin(theta)*1/4*sqrt(3/pi)*(3*cos(theta)^2-1)*1/sqrt(4*pi))                                                                        # l,m,l',m'=2,0,0,0\n",
    "s(integral(sin(theta)*1/4*sqrt(3/pi)*(3*cos(theta)^2-1)*1/sqrt(4*pi),theta,0,pi))                                                   # integral over theta\n",
    "s(sin(theta)*1/4*sqrt(15/(2*pi))*sin(theta)^2*e^(-2*i*phi)*1/4*sqrt(15/(2*pi))*sin(theta)^2*e^(-2*i*phi))                           # l,l,l',m'=2,2,2,-2\n",
    "s(integral(sin(theta)*1/4*sqrt(15/(2*pi))*sin(theta)^2*e^(-2*i*phi)*1/4*sqrt(15/(2*pi))*sin(theta)^2*e^(-2*i*phi),theta,0,pi))      # integral over theta\n",
    "s(integral(sin(theta)*1/4*sqrt(15/(2*pi))*sin(theta)^2*e^(-2*i*phi)*1/4*sqrt(15/(2*pi))*sin(theta)^2*e^(-2*i*phi),phi,0,2*pi))      # integral over phi"
   ]
  },
  {
   "cell_type": "code",
   "execution_count": null,
   "id": "fd2fd7e8",
   "metadata": {},
   "outputs": [],
   "source": [
    "# Particle on a circle\n",
    "var('k')\n",
    "s(integral(-k*tan(k*x),x))\n",
    "s(integral(k*cot(k*x),x))"
   ]
  },
  {
   "cell_type": "code",
   "execution_count": 19,
   "id": "bcb860b8",
   "metadata": {},
   "outputs": [
    {
     "data": {
      "text/plain": [
       "3.45300000000000e-8"
      ]
     },
     "execution_count": 19,
     "metadata": {},
     "output_type": "execute_result"
    }
   ],
   "source": [
    "34.53/10^9"
   ]
  },
  {
   "cell_type": "code",
   "execution_count": 31,
   "id": "ecd6aa5d",
   "metadata": {},
   "outputs": [
    {
     "data": {
      "text/latex": [
       "$\\displaystyle 3.45228669079009 \\qquad   $"
      ],
      "text/plain": [
       "<IPython.core.display.Math object>"
      ]
     },
     "metadata": {},
     "output_type": "display_data"
    }
   ],
   "source": [
    "s(n(hbar^2/(80*m_c*a^2)*10^7))"
   ]
  },
  {
   "cell_type": "markdown",
   "id": "09604d7b",
   "metadata": {},
   "source": [
    "## QC"
   ]
  },
  {
   "cell_type": "code",
   "execution_count": null,
   "id": "4600ea36",
   "metadata": {},
   "outputs": [],
   "source": [
    "from math import sqrt\n",
    "from qiskit import QuantumCircuit\n",
    "from qiskit_aer import AerSimulator\n",
    "from qiskit.visualization import plot_bloch_multivector\n",
    "\n",
    "# Define coefficients (normalized quantum amplitudes)\n",
    "alpha = 1/sqrt(2)\n",
    "beta = 1/sqrt(2)\n",
    "\n",
    "# 2D complex vector representing the qubit state\n",
    "vector = [alpha, beta]\n",
    "\n",
    "# Create a single-qubit quantum circuit\n",
    "qc = QuantumCircuit(int(1))\n",
    "qc.initialize(vector, int(0)) # Initialize the qubit with defined statevector\n",
    "qc.save_statevector() # Tell the simulator to save the final statevector\n",
    "\n",
    "# Use the Aer simulator backend\n",
    "sim = AerSimulator(method='statevector')\n",
    "\n",
    "# Run the circuit and get the final statevector\n",
    "result = sim.run(qc).result()\n",
    "state = result.get_statevector(qc)\n",
    "\n",
    "# Plot the state on the Bloch sphere\n",
    "plot_bloch_multivector(state)"
   ]
  },
  {
   "cell_type": "code",
   "execution_count": null,
   "id": "f0c053d8",
   "metadata": {},
   "outputs": [],
   "source": [
    "# qubit\n",
    "from qiskit import QuantumCircuit\n",
    "from qiskit_aer import AerSimulator\n",
    "from qiskit.visualization import plot_histogram\n",
    "\n",
    "# Create a quantum circuit with one qubit and one classical bit\n",
    "qc = QuantumCircuit(1, 1)\n",
    "qc.x(0) # Apply NOT (X) gate to the qubit\n",
    "\n",
    "# Measure the qubit and store the result in the classical bit\n",
    "qc.measure(0, 0)\n",
    "qc.draw('mpl') # Draw the circuit"
   ]
  },
  {
   "cell_type": "code",
   "execution_count": null,
   "id": "02311c54",
   "metadata": {},
   "outputs": [],
   "source": [
    "# Use the Aer simulator backend\n",
    "simulator = AerSimulator()\n",
    "\n",
    "# Run the circuit 1000 times (shots)\n",
    "result = simulator.run(qc, shots=int(1000)).result()\n",
    "\n",
    "# Get the measurement counts\n",
    "counts = result.get_counts(qc)\n",
    "print(counts)"
   ]
  },
  {
   "cell_type": "markdown",
   "id": "12892217",
   "metadata": {},
   "source": [
    "hadamard gate"
   ]
  },
  {
   "cell_type": "code",
   "execution_count": null,
   "id": "2a100aa5",
   "metadata": {},
   "outputs": [],
   "source": [
    "# create a quantum circuit with one qubit and one bit\n",
    "qc = QuantumCircuit(1,1)\n",
    "# apply hadamard gate on qubit 0\n",
    "qc.h(0)\n",
    "# measure qubit 0 to bit 0\n",
    "qc.measure(0,0)\n",
    "# plot the circuit\n",
    "qc.draw('mpl')"
   ]
  },
  {
   "cell_type": "code",
   "execution_count": null,
   "id": "b5c4cc85",
   "metadata": {},
   "outputs": [],
   "source": [
    "# simulation: run the quantum circuit 1000 times and print all results\n",
    "# Create a quantum circuit with one qubit and one classical bit\n",
    "qc = QuantumCircuit(1, 1)\n",
    "qc.x(0)\n",
    "qc.measure(0, 0)\n",
    "\n",
    "# Simulation: run the quantum circuit 1000 times using the QASM simulator\n",
    "simulator = AerSimulator()\n",
    "result = simulator.run(qc, shots=int(1000)).result()\n",
    "\n",
    "# Retrieve and print all measurement results\n",
    "counts = result.get_counts(qc)\n",
    "print(counts)"
   ]
  },
  {
   "cell_type": "markdown",
   "id": "7274399f",
   "metadata": {},
   "source": [
    "X，Y，Z，P gates"
   ]
  },
  {
   "cell_type": "code",
   "execution_count": null,
   "id": "6f5c99c4",
   "metadata": {},
   "outputs": [],
   "source": [
    "# create a quantum circuit with one qubit and one bit\n",
    "qc = QuantumCircuit(1)\n",
    "qc.p(pi/2, 0) # try gates: qc.x(0), qc.y(0), qc.z(0), qc.p(pi/2, 0)\n",
    "\n",
    "qc.draw('mpl')"
   ]
  },
  {
   "cell_type": "code",
   "execution_count": null,
   "id": "1bccbafe",
   "metadata": {},
   "outputs": [],
   "source": [
    "# simulation: run the quantum circuit 1000 times and print all results\n",
    "# note that unitary_simulator is used for finding unitary matrices\n",
    "# Create a simple 2-qubit circuit\n",
    "qc = QuantumCircuit(2)\n",
    "qc.x([0, 1])\n",
    "qc.cx(0, 1)\n",
    "\n",
    "qc.draw('mpl')"
   ]
  },
  {
   "cell_type": "code",
   "execution_count": null,
   "id": "35a66186",
   "metadata": {},
   "outputs": [],
   "source": [
    "# --- Simulation: get the unitary matrix ---\n",
    "qc.save_unitary()\n",
    "simulator = AerSimulator(method='unitary')\n",
    "result = simulator.run(qc).result()\n",
    "\n",
    "U = result.data(int(0))[\"unitary\"] # Retrieve the unitary matrix\n",
    "\n",
    "import numpy as np\n",
    "np.set_printoptions(precision=3, suppress=True)\n",
    "print(U) # unitary matrix"
   ]
  },
  {
   "cell_type": "code",
   "execution_count": null,
   "id": "f4b8a445",
   "metadata": {},
   "outputs": [],
   "source": [
    "# CNOT Gate\n",
    "# Create a quantum circuit with 2 qubits and 2 classical bits\n",
    "qc = QuantumCircuit(2, 2)\n",
    "\n",
    "qc.x([0, 1]) # Apply X gate on qubits 0 and 1\n",
    "qc.cx(0, 1) # Apply CNOT gate (qubit 0 = control, qubit 1 = target)\n",
    "\n",
    "# Measure both qubits into their corresponding classical bits\n",
    "qc.measure([0, 1], [0, 1])\n",
    "\n",
    "# simulation: run the quantum circuit 1000 times and print all results\n",
    "simulator = AerSimulator()\n",
    "result = simulator.run(qc, shots=int(1000)).result()\n",
    "\n",
    "print(result.get_counts(qc))\n",
    "qc.draw('mpl')"
   ]
  }
 ],
 "metadata": {
  "kernelspec": {
   "display_name": "SageMath 10.6",
   "language": "sage",
   "name": "sagemath"
  },
  "language_info": {
   "codemirror_mode": {
    "name": "ipython",
    "version": 3
   },
   "file_extension": ".py",
   "mimetype": "text/x-python",
   "name": "sage",
   "nbconvert_exporter": "python",
   "pygments_lexer": "ipython3",
   "version": "3.12.10"
  }
 },
 "nbformat": 4,
 "nbformat_minor": 5
}
