{
 "cells": [
  {
   "cell_type": "markdown",
   "id": "9b284ec6",
   "metadata": {},
   "source": [
    "# Quantum Mechanics\n",
    "\n",
    "[QM for Everyone](https://www.edx.org/learn/quantum-physics-mechanics/georgetown-university-quantum-mechanics-for-everyone) is the experimental foundation. \n",
    "\n",
    "In QM, use [**SymPy’s quantum module**](https://docs.sympy.org/latest/modules/physics/quantum/index.html): operators, commutators, wavefunctions, quantum states (eg, harmonic oscillator, spin systems). And [**Wolfram Quantum Framework**](https://www.wolfram.com/quantum-computation-framework/)"
   ]
  },
  {
   "cell_type": "markdown",
   "id": "58801dea",
   "metadata": {},
   "source": [
    "## QM for Everyone"
   ]
  },
  {
   "cell_type": "markdown",
   "id": "9854c737",
   "metadata": {},
   "source": [
    "- Fermions : Metals conduct electricity do so because there is a \"sea of electrons\". This is created from the Pauli exclusion principle, since electrons are fermions, and fermions stay apart, so they stay apart.\n",
    "- Alpha Particles : Created by radioactive elements. Since it is slow and heavy, it has low penetration power but can damage biological tissue. Smoke detectors use heavy elements to detect smoke as when there is smoke the current flow between the 2 metal plates that are held at different voltages the current is changed."
   ]
  }
 ],
 "metadata": {
  "kernelspec": {
   "display_name": "Wolfram Language 14.2",
   "language": "Wolfram Language",
   "name": "wolframlanguage14.2"
  },
  "language_info": {
   "codemirror_mode": "mathematica",
   "file_extension": ".m",
   "mimetype": "application/vnd.wolfram.m",
   "name": "Wolfram Language",
   "pygments_lexer": "mathematica",
   "version": "12.0"
  }
 },
 "nbformat": 4,
 "nbformat_minor": 5
}
