{
 "cells": [
  {
   "cell_type": "markdown",
   "id": "1449044e",
   "metadata": {},
   "source": [
    "## 6.00.1x"
   ]
  },
  {
   "cell_type": "markdown",
   "id": "b2d98b74",
   "metadata": {},
   "source": [
    "### Python basics"
   ]
  },
  {
   "cell_type": "code",
   "execution_count": null,
   "metadata": {},
   "outputs": [],
   "source": [
    "a=3\n",
    "a+2.0"
   ]
  },
  {
   "cell_type": "code",
   "execution_count": null,
   "metadata": {},
   "outputs": [],
   "source": [
    "import random\n",
    "var_list=['panda', 'Panda', 'PANDA']\n",
    "cute=0\n",
    "regal=0\n",
    "ugly=0\n",
    "for i in range(100):\n",
    "    var=var_list[int(random.random()*3)]\n",
    "    if var==\"panda\":\n",
    "       print(\"Cute!\")\n",
    "       cute+=1\n",
    "    elif var==\"Panda\":\n",
    "        print(\"Regal\")\n",
    "        regal+=1\n",
    "    else:\n",
    "        print(\"Ugly...\")\n",
    "        ugly+=1\n",
    "print('Cute: '+str(cute))\n",
    "print('Regal: '+str(regal))\n",
    "print('Ugly: '+str(ugly))\n",
    "if cute>=45:\n",
    "    print('Very cute!')\n",
    "elif cute>=35:\n",
    "    print('Cute!')\n",
    "if regal>=45:\n",
    "    print('Very regal')\n",
    "elif regal>=35:\n",
    "    print('Regal')\n",
    "if ugly>=45:\n",
    "    print('Very ugly...')\n",
    "elif ugly>=35:\n",
    "    print('Ugly...')"
   ]
  },
  {
   "cell_type": "code",
   "execution_count": null,
   "metadata": {},
   "outputs": [],
   "source": [
    "n=0\n",
    "while(n<5):\n",
    "    print(n)\n",
    "    n=n+1"
   ]
  },
  {
   "cell_type": "code",
   "execution_count": null,
   "metadata": {},
   "outputs": [],
   "source": [
    "a=a+1.0\n",
    "a"
   ]
  },
  {
   "cell_type": "code",
   "execution_count": null,
   "metadata": {},
   "outputs": [],
   "source": [
    "a=3"
   ]
  },
  {
   "cell_type": "code",
   "execution_count": null,
   "metadata": {},
   "outputs": [],
   "source": [
    "3>4"
   ]
  },
  {
   "cell_type": "code",
   "execution_count": null,
   "metadata": {},
   "outputs": [],
   "source": [
    "4>+4"
   ]
  },
  {
   "cell_type": "code",
   "execution_count": null,
   "metadata": {},
   "outputs": [],
   "source": [
    "True or False"
   ]
  },
  {
   "cell_type": "code",
   "execution_count": null,
   "metadata": {},
   "outputs": [],
   "source": [
    "a=3\n",
    "a==5.0"
   ]
  },
  {
   "cell_type": "code",
   "execution_count": null,
   "metadata": {},
   "outputs": [],
   "source": [
    "a=3\n",
    "a==5.0\n",
    "a"
   ]
  },
  {
   "cell_type": "code",
   "execution_count": null,
   "metadata": {},
   "outputs": [],
   "source": [
    "b=10\n",
    "c=b>9\n",
    "c"
   ]
  },
  {
   "cell_type": "code",
   "execution_count": null,
   "metadata": {},
   "outputs": [],
   "source": [
    "3+5.0"
   ]
  },
  {
   "cell_type": "code",
   "execution_count": null,
   "metadata": {},
   "outputs": [],
   "source": [
    "5/2"
   ]
  },
  {
   "cell_type": "code",
   "execution_count": null,
   "metadata": {},
   "outputs": [],
   "source": [
    "round(2.6)"
   ]
  },
  {
   "cell_type": "code",
   "execution_count": null,
   "metadata": {},
   "outputs": [],
   "source": [
    "5*2==5.0*2.0"
   ]
  },
  {
   "cell_type": "code",
   "execution_count": null,
   "metadata": {},
   "outputs": [],
   "source": [
    "'a'+'bc'"
   ]
  },
  {
   "cell_type": "code",
   "execution_count": null,
   "metadata": {},
   "outputs": [],
   "source": [
    "3*'bc'"
   ]
  },
  {
   "cell_type": "code",
   "execution_count": null,
   "metadata": {},
   "outputs": [],
   "source": [
    "'abcd'[2]"
   ]
  },
  {
   "cell_type": "markdown",
   "id": "3e51d82c",
   "metadata": {},
   "source": [
    "### Simple program"
   ]
  },
  {
   "cell_type": "code",
   "execution_count": null,
   "metadata": {},
   "outputs": [],
   "source": [
    "n=0\n",
    "for n in range(5):\n",
    "    print(n)\n",
    "    n=n+1"
   ]
  },
  {
   "cell_type": "code",
   "execution_count": null,
   "metadata": {},
   "outputs": [],
   "source": [
    "mysum=0\n",
    "for i in range(5,11,2):\n",
    "    mysum+=i\n",
    "    if mysum==5:\n",
    "        break\n",
    "print(mysum)"
   ]
  },
  {
   "cell_type": "code",
   "execution_count": null,
   "metadata": {},
   "outputs": [],
   "source": [
    "import random\n",
    "happy=random.random()*5\n",
    "if int(happy)>2:\n",
    "    print('hello world')"
   ]
  },
  {
   "cell_type": "code",
   "execution_count": null,
   "metadata": {},
   "outputs": [],
   "source": [
    "end=6\n",
    "n=1\n",
    "total=0\n",
    "while n<=end:\n",
    "    total+=n\n",
    "    n+=1\n",
    "print(total)"
   ]
  },
  {
   "cell_type": "code",
   "execution_count": null,
   "metadata": {},
   "outputs": [],
   "source": [
    "num = 10\n",
    "for num in range(5):\n",
    "    print(num)\n",
    "print(num)"
   ]
  },
  {
   "cell_type": "code",
   "execution_count": null,
   "metadata": {},
   "outputs": [],
   "source": [
    "count = 0\n",
    "for letter in 'Snow!':\n",
    "    print('Letter # ' + str(count) + ' is ' + str(letter))\n",
    "    count += 1\n",
    "    break\n",
    "print(count)"
   ]
  },
  {
   "cell_type": "code",
   "execution_count": null,
   "metadata": {},
   "outputs": [],
   "source": [
    "num = 10\n",
    "while True:\n",
    "    if num < 7:\n",
    "        print('Breaking out of loop')\n",
    "        break\n",
    "    print(num)\n",
    "    num -= 1\n",
    "print('Outside of loop')"
   ]
  },
  {
   "cell_type": "code",
   "execution_count": null,
   "metadata": {},
   "outputs": [],
   "source": [
    "iteration = 0\n",
    "count = 0\n",
    "while iteration < 5:\n",
    "    for letter in \"hello, world\":\n",
    "        count += 1\n",
    "    print(\"Iteration \" + str(iteration) + \"; count is: \" + str(count))\n",
    "    iteration += 1 "
   ]
  },
  {
   "cell_type": "code",
   "execution_count": null,
   "metadata": {
    "scrolled": false
   },
   "outputs": [],
   "source": [
    "for iteration in range(5):\n",
    "    count = 0\n",
    "    while True:\n",
    "        for letter in \"hello, world\":\n",
    "            count += 1\n",
    "        print(\"Iteration \" + str(iteration) + \"; count is: \" + str(count))\n",
    "        break"
   ]
  },
  {
   "cell_type": "code",
   "execution_count": null,
   "metadata": {},
   "outputs": [],
   "source": [
    "for iteration in range(1):\n",
    "    count = 0\n",
    "    for i in range(1000):\n",
    "        for letter in \"hello, world\":\n",
    "            count += 1\n",
    "        print(\"Iteration \" + str(iteration) + \"; count is: \" + str(count))"
   ]
  },
  {
   "cell_type": "code",
   "execution_count": null,
   "metadata": {},
   "outputs": [],
   "source": [
    "number = 0\n",
    "\n",
    "for x in range(len(s)):\n",
    "    if s[x:x+3] == \"bob\":\n",
    "        number += 1\n",
    "print('Number of times bob occurs is: '+str(number))"
   ]
  },
  {
   "cell_type": "markdown",
   "id": "52e80c8f",
   "metadata": {},
   "source": [
    "### Structured Types"
   ]
  },
  {
   "cell_type": "code",
   "execution_count": 5,
   "metadata": {
    "scrolled": true
   },
   "outputs": [
    {
     "name": "stdout",
     "output_type": "stream",
     "text": [
      "['u', 'o', 'o', 'u', 't', 'm', 'r', 's', 'o', 'p', 's', 'l', 'o', 'v', 'n', 'o', 'o', 'o', 's', 's']\n"
     ]
    }
   ],
   "source": [
    "s='pneumonoultramicroscopicsilicovolcanoconiosis'\n",
    "tmp=s[0]\n",
    "tmp1=[]\n",
    "index=0\n",
    "for index in range(len(s)-1):\n",
    "    if (s[index].lower() <= s[index+1].lower()):\n",
    "        tmp1 += s[index+1]\n",
    "    index +=1\n",
    "if len(tmp)<len(tmp1):\n",
    "    print(tmp1) "
   ]
  },
  {
   "cell_type": "code",
   "execution_count": null,
   "metadata": {},
   "outputs": [],
   "source": [
    "an_letters=\"aeiouAEIOU\"\n",
    "word=input(\"I will cheer for you! Enter a word: \")\n",
    "times=int(input(\"Enthusiasm level (1-10): \"))\n",
    "i=0\n",
    "while i<len(word):\n",
    "    char=word[i]\n",
    "    if char in an_letters:\n",
    "        print(\"Give me an \"+char+\"! \"+char)\n",
    "    else:\n",
    "        print(\"Give me a \"+char+\"! \"+char)\n",
    "    i+=1\n",
    "print(\"What does that spell?\")\n",
    "for i in range(times):\n",
    "    print(word, \"!!!\")"
   ]
  },
  {
   "cell_type": "code",
   "execution_count": 7,
   "metadata": {},
   "outputs": [
    {
     "name": "stdout",
     "output_type": "stream",
     "text": [
      "Iteration 0; count is: 12\n",
      "Iteration 1; count is: 24\n",
      "Iteration 2; count is: 36\n",
      "Iteration 3; count is: 48\n",
      "Iteration 4; count is: 60\n"
     ]
    }
   ],
   "source": [
    "iteration = 0\n",
    "count = 0\n",
    "while iteration < 5:\n",
    "    # the variable 'letter' in the loop stands for every \n",
    "    # character, including spaces and commas!\n",
    "    for letter in \"hello, world\": \n",
    "        count += 1\n",
    "    print(\"Iteration \" + str(iteration) + \"; count is: \" + str(count))\n",
    "    iteration += 1 "
   ]
  },
  {
   "cell_type": "code",
   "execution_count": 8,
   "metadata": {},
   "outputs": [
    {
     "name": "stdout",
     "output_type": "stream",
     "text": [
      "Iteration 0; count is: 12\n",
      "Iteration 1; count is: 12\n",
      "Iteration 2; count is: 12\n",
      "Iteration 3; count is: 12\n",
      "Iteration 4; count is: 12\n"
     ]
    }
   ],
   "source": [
    "iteration = 0\n",
    "while iteration < 5:\n",
    "    count = 0\n",
    "    for letter in \"hello, world\":\n",
    "        count += 1\n",
    "    print(\"Iteration \" + str(iteration) + \"; count is: \" + str(count))\n",
    "    iteration += 1 "
   ]
  },
  {
   "cell_type": "code",
   "execution_count": 6,
   "metadata": {},
   "outputs": [
    {
     "name": "stdout",
     "output_type": "stream",
     "text": [
      "Iteration 0; count is: 1\n",
      "Iteration 1; count is: 12\n",
      "Iteration 2; count is: 1\n",
      "Iteration 3; count is: 12\n",
      "Iteration 4; count is: 1\n"
     ]
    }
   ],
   "source": [
    "iteration = 0\n",
    "while iteration < 5:\n",
    "    count = 0\n",
    "    for letter in \"hello, world\":\n",
    "        count += 1\n",
    "        if iteration % 2 == 0:\n",
    "            break\n",
    "    print(\"Iteration \" + str(iteration) + \"; count is: \" + str(count))\n",
    "    iteration += 1 "
   ]
  },
  {
   "cell_type": "code",
   "execution_count": 13,
   "id": "f905766c",
   "metadata": {},
   "outputs": [],
   "source": [
    "while True: # This will be an infinite loop.\n",
    "    try:\n",
    "        pass\n",
    "    except:\n",
    "        raise KeyError() # This won't be executed."
   ]
  },
  {
   "cell_type": "code",
   "execution_count": null,
   "metadata": {},
   "outputs": [],
   "source": [
    "x = 25\n",
    "epsilon = 0.01\n",
    "step = 0.1\n",
    "guess = 0.0\n",
    "\n",
    "while guess <= x:\n",
    "    if abs(guess**2 -x) < epsilon:\n",
    "        break\n",
    "    else:\n",
    "        guess += step\n",
    "\n",
    "if abs(guess**2 - x) >= epsilon:\n",
    "    print('failed')\n",
    "else:\n",
    "    print('succeeded: ' + str(guess))"
   ]
  },
  {
   "cell_type": "code",
   "execution_count": null,
   "metadata": {},
   "outputs": [],
   "source": [
    "x = 25\n",
    "epsilon = 0.01\n",
    "step = 0.1\n",
    "guess = 0.0\n",
    "\n",
    "while guess <= x:\n",
    "    if abs(guess**2 -x) >= epsilon:\n",
    "        guess += step\n",
    "\n",
    "if abs(guess**2 - x) >= epsilon:\n",
    "    print('failed')\n",
    "else:\n",
    "    print('succeeded: ' + str(guess))"
   ]
  },
  {
   "cell_type": "code",
   "execution_count": null,
   "metadata": {},
   "outputs": [],
   "source": [
    "# Notice how if we have two print statements                \n",
    "print(\"Hi\")\n",
    "print(\"there\")\n",
    "\n",
    "# The output will have each string on a separate line:                \n",
    "\n",
    "print('')\n",
    "# Now try adding the following:\n",
    "print(\"Hi\",end='')\n",
    "print(\"there\")\n",
    "print(\"Hi\",end='*')\n",
    "print(\"there\")   \n",
    "                \n",
    "# The output will place the subsequent string on the same line\n",
    "# and will connect the two prints with the character given by end"
   ]
  },
  {
   "cell_type": "code",
   "execution_count": null,
   "metadata": {},
   "outputs": [],
   "source": [
    "epsilon=0.0025\n",
    "y=int(input('Enter integer'))\n",
    "guess=y/2.0\n",
    "numGuesses=0\n",
    "while abs(guess*guess-y)>=epsilon:\n",
    "    numGuesses+=1\n",
    "    guess=guess-(((guess**2)-y)/(2*guess))\n",
    "print('numGuesses='+str(numGuesses))\n",
    "print('Square root of '+str(y)+' is about '+str(guess))"
   ]
  },
  {
   "cell_type": "code",
   "execution_count": null,
   "id": "e01c43c0",
   "metadata": {},
   "outputs": [],
   "source": [
    "def a(x):\n",
    "   '''\n",
    "   x: int or float.\n",
    "   '''\n",
    "   return x + 1\n",
    "\n",
    "def b(x):\n",
    "   '''\n",
    "   x: int or float.\n",
    "   '''\n",
    "   return x + 1.0\n",
    "  \n",
    "def c(x, y):\n",
    "   '''\n",
    "   x: int or float. \n",
    "   y: int or float.\n",
    "   '''\n",
    "   return x + y\n",
    "\n",
    "def d(x, y):\n",
    "   '''\n",
    "   x: Can be of any type.\n",
    "   y: Can be of any type.\n",
    "   '''\n",
    "   return x > y\n",
    "\n",
    "def e(x, y, z):\n",
    "   '''\n",
    "   x: Can be of any type.\n",
    "   y: Can be of any type.\n",
    "   z: Can be of any type.\n",
    "   '''\n",
    "   return x >= y and x <= z\n",
    "\n",
    "def f(x, y):\n",
    "   '''\n",
    "   x: int or float.\n",
    "   y: int or float\n",
    "   '''\n",
    "   x + y - 2  \n",
    "print(a(5))\n",
    "print(b(5))\n",
    "print(c(5,7))\n",
    "print(d(7,5))\n",
    "print(e(7,5,11))\n",
    "print(f(7,5))"
   ]
  },
  {
   "cell_type": "code",
   "execution_count": null,
   "id": "d6cfa6f7",
   "metadata": {},
   "outputs": [],
   "source": [
    "decrypted_message='What is the decrypted message?'\n",
    "words=decrypted_message.split()\n",
    "print(words)"
   ]
  },
  {
   "cell_type": "code",
   "execution_count": null,
   "id": "7a67af38",
   "metadata": {},
   "outputs": [],
   "source": [
    "words='one two three four five six seven eight nine ten'\n",
    "if 'one' in words:\n",
    "    print('True')\n",
    "else:\n",
    "    print('False')"
   ]
  },
  {
   "cell_type": "code",
   "execution_count": null,
   "id": "0a2cf5fe",
   "metadata": {},
   "outputs": [],
   "source": [
    "word=list('one two three four five six seven eight nine ten')\n",
    "print(word)"
   ]
  },
  {
   "cell_type": "code",
   "execution_count": null,
   "id": "504f4eaf",
   "metadata": {},
   "outputs": [],
   "source": [
    "def a(x, y, z):\n",
    "     if x:\n",
    "         return y\n",
    "     else:\n",
    "         return z\n",
    "\n",
    "def b(q, r):\n",
    "    return a(q>r, q, r)\n",
    "print(a(3>2, a, b))"
   ]
  },
  {
   "cell_type": "code",
   "execution_count": null,
   "id": "db16a642",
   "metadata": {},
   "outputs": [],
   "source": [
    "def fib(x):\n",
    "    #returns fibonacci of x\n",
    "    if x==0 or x==1:\n",
    "        return 1\n",
    "    else:\n",
    "        return fib(x-1)+fib(x-2)"
   ]
  },
  {
   "cell_type": "code",
   "execution_count": null,
   "id": "82807191",
   "metadata": {},
   "outputs": [],
   "source": [
    "fib(1)"
   ]
  },
  {
   "cell_type": "code",
   "execution_count": null,
   "id": "2a92c3b9",
   "metadata": {},
   "outputs": [],
   "source": [
    "fib(2)"
   ]
  },
  {
   "cell_type": "code",
   "execution_count": null,
   "id": "1d82bb3a",
   "metadata": {},
   "outputs": [],
   "source": [
    "fib(0)"
   ]
  },
  {
   "cell_type": "code",
   "execution_count": null,
   "id": "851dffdc",
   "metadata": {},
   "outputs": [],
   "source": [
    "fib(12)"
   ]
  },
  {
   "cell_type": "code",
   "execution_count": null,
   "id": "cb99944a",
   "metadata": {},
   "outputs": [],
   "source": [
    "fib(24)"
   ]
  },
  {
   "cell_type": "code",
   "execution_count": null,
   "id": "d2f97735",
   "metadata": {},
   "outputs": [],
   "source": [
    "fib(36)"
   ]
  },
  {
   "cell_type": "code",
   "execution_count": null,
   "id": "abf0ed85",
   "metadata": {},
   "outputs": [],
   "source": [
    "def fib3(x):\n",
    "    #returns fibonacci of x\n",
    "    if x==36:\n",
    "        return 24157817\n",
    "    elif x==37:\n",
    "        return 39088169\n",
    "    else:\n",
    "        return fib(x-1)+fib(x-2)"
   ]
  },
  {
   "cell_type": "code",
   "execution_count": null,
   "id": "9c317543",
   "metadata": {},
   "outputs": [],
   "source": [
    "fib3(38)"
   ]
  },
  {
   "cell_type": "code",
   "execution_count": null,
   "id": "0c85a4b5",
   "metadata": {},
   "outputs": [],
   "source": [
    "fib(60)"
   ]
  },
  {
   "cell_type": "code",
   "execution_count": null,
   "id": "7a53245c",
   "metadata": {},
   "outputs": [],
   "source": [
    "def gcdIter(a, b):\n",
    "    '''\n",
    "    a, b: positive integers\n",
    "    \n",
    "    returns: a positive integer, the greatest common divisor of a & b.\n",
    "    '''\n",
    "    # Your code here\n",
    "    testValue = min(a, b)\n",
    "\n",
    "    # Keep looping until testValue divides both a & b evenly\n",
    "    while a % testValue != 0 or b % testValue != 0:\n",
    "        testValue -= 1\n",
    "\n",
    "    return testValue"
   ]
  },
  {
   "cell_type": "code",
   "execution_count": null,
   "id": "a900f342",
   "metadata": {},
   "outputs": [],
   "source": [
    "list=['h', 'g', 'd']\n",
    "len(list)"
   ]
  },
  {
   "cell_type": "code",
   "execution_count": null,
   "id": "01f0dc1c",
   "metadata": {},
   "outputs": [],
   "source": [
    "def isWordGuessed(secretWord, lettersGuessed):\n",
    "    '''\n",
    "    secretWord: string, the word the user is guessing\n",
    "    lettersGuessed: list, what letters have been guessed so far\n",
    "    returns: boolean, True if all the letters of secretWord are in lettersGuessed;\n",
    "      False otherwise\n",
    "    '''\n",
    "    # FILL IN YOUR CODE HERE...\n",
    "    for x in range(len(secretWord)):\n",
    "        if secretWord[x] in lettersGuessed == False:\n",
    "            return False\n",
    "        elif x != len(secretWord)-1:\n",
    "            x+=1\n",
    "        else:\n",
    "            break\n",
    "        break\n",
    "    if secretWord[len(secretWord)-1] in lettersGuessed == False:\n",
    "        return False\n",
    "    else:\n",
    "        return True"
   ]
  },
  {
   "cell_type": "code",
   "execution_count": null,
   "id": "7c202a4b",
   "metadata": {},
   "outputs": [],
   "source": [
    "print(isWordGuessed('waeguifgwe', ['g', 'a', 'i', 'k', 'd', 'c']))"
   ]
  },
  {
   "cell_type": "code",
   "execution_count": null,
   "id": "bfbc1d26",
   "metadata": {},
   "outputs": [],
   "source": [
    "alphabet = 'abcdefghijklmnopqrstuvwxyz'\n",
    "def getAvailableLetters(lettersGuessed):\n",
    "    '''\n",
    "    lettersGuessed: list, what letters have been guessed so far\n",
    "    returns: string, comprised of letters that represents what letters have not\n",
    "      yet been guessed.\n",
    "    '''\n",
    "    # FILL IN YOUR CODE HERE...\n",
    "    for n in range(26):\n",
    "        if alphabet[n] in lettersGuessed == True:\n",
    "            alphabet.replace(alphabet[x], '')\n",
    "            break\n",
    "        break\n",
    "    print(alphabet)"
   ]
  },
  {
   "cell_type": "code",
   "execution_count": null,
   "id": "c1e38d3c",
   "metadata": {},
   "outputs": [],
   "source": [
    "lettersGuessed=['a', 'e', 'i', 'o', 'u']\n",
    "getAvailableLetters(lettersGuessed)"
   ]
  },
  {
   "cell_type": "code",
   "execution_count": null,
   "id": "678f2898",
   "metadata": {},
   "outputs": [],
   "source": [
    "alphabet[2]"
   ]
  },
  {
   "cell_type": "code",
   "execution_count": null,
   "id": "ce65fe03",
   "metadata": {},
   "outputs": [],
   "source": [
    "x=684756534523542\n",
    "epsilon=0.01\n",
    "ans=(high+low)/2.0\n",
    "while abs(ans**2-x)>=epsilon:\n",
    "    print('low =', low, 'high =', high, 'ans =', ans)\n",
    "    numGuesses+=1\n",
    "    if ans**2<x:\n",
    "        low=ans\n",
    "    else:\n",
    "        high=ans\n",
    "    ans=(high+low)/2.0\n",
    "print('numGuesses =', numGuesses)\n",
    "print(ans, 'is close to square root of', x)"
   ]
  },
  {
   "cell_type": "code",
   "execution_count": null,
   "id": "8a99c25f",
   "metadata": {},
   "outputs": [],
   "source": [
    "#Newton-Raphson for square root\n",
    "epsilon=0.01\n",
    "k=24.0\n",
    "while abs(guess*guess-k)>=epsilon:\n",
    "    guess=guess-(((guess**2)-k)/(2*guess))\n",
    "    numGuesses+=1\n",
    "print('Number of guesses:', numGuesses)\n",
    "print('Square root of', k, 'is about', guess)"
   ]
  },
  {
   "cell_type": "code",
   "execution_count": null,
   "id": "59233d1e",
   "metadata": {},
   "outputs": [],
   "source": [
    "round(5.5436274587)"
   ]
  },
  {
   "cell_type": "code",
   "execution_count": null,
   "id": "8e214c51",
   "metadata": {},
   "outputs": [],
   "source": [
    "t1=(1, 'two', [3, 'three'])\n",
    "print(t1)"
   ]
  },
  {
   "cell_type": "code",
   "execution_count": null,
   "id": "d396c1a0",
   "metadata": {},
   "outputs": [],
   "source": [
    "type(t1[2])"
   ]
  },
  {
   "cell_type": "code",
   "execution_count": null,
   "id": "8650dd2d",
   "metadata": {},
   "outputs": [],
   "source": [
    "t2=('1', 3, 'one')\n",
    "type(t2)"
   ]
  },
  {
   "cell_type": "code",
   "execution_count": null,
   "id": "210cc3c0",
   "metadata": {},
   "outputs": [],
   "source": [
    "print(t2[1])"
   ]
  },
  {
   "cell_type": "code",
   "execution_count": null,
   "id": "79cf1c20",
   "metadata": {},
   "outputs": [],
   "source": [
    "l1=[1, 3, 'three', 'one']\n",
    "type(l1)"
   ]
  },
  {
   "cell_type": "code",
   "execution_count": null,
   "id": "3aae73d5",
   "metadata": {},
   "outputs": [],
   "source": [
    "print(l1[1])"
   ]
  },
  {
   "cell_type": "code",
   "execution_count": null,
   "id": "6aeeb97b",
   "metadata": {},
   "outputs": [],
   "source": [
    "string=('n48fh38')\n",
    "type(string)"
   ]
  },
  {
   "cell_type": "code",
   "execution_count": null,
   "id": "d945ed9c",
   "metadata": {},
   "outputs": [],
   "source": [
    "print(string[5])"
   ]
  },
  {
   "cell_type": "code",
   "execution_count": null,
   "id": "033ae30a",
   "metadata": {},
   "outputs": [],
   "source": [
    "l2=[(1, 'one', 3, 'three'), 2, 5, 'two', 'four']\n",
    "type(l2)"
   ]
  },
  {
   "cell_type": "code",
   "execution_count": null,
   "id": "9208233d",
   "metadata": {},
   "outputs": [],
   "source": [
    "type(l2[0])"
   ]
  },
  {
   "cell_type": "code",
   "execution_count": null,
   "id": "416ec7be",
   "metadata": {},
   "outputs": [],
   "source": [
    "def Square(x):\n",
    "    return SquareHelper(abs(x), abs(x))\n",
    "\n",
    "def SquareHelper(n, x):\n",
    "    if n == 0:\n",
    "        return 0\n",
    "    return SquareHelper(n-1, x) + x"
   ]
  },
  {
   "cell_type": "code",
   "execution_count": null,
   "id": "256ab154",
   "metadata": {},
   "outputs": [],
   "source": [
    "Square(353)"
   ]
  },
  {
   "cell_type": "code",
   "execution_count": null,
   "id": "5c90d787",
   "metadata": {},
   "outputs": [],
   "source": [
    "def f(x):\n",
    "    a = []\n",
    "    while x > 0:\n",
    "        a.append(x)\n",
    "        f(x-1)\n",
    "type(f(x))"
   ]
  },
  {
   "cell_type": "code",
   "execution_count": null,
   "id": "c2dd70ca",
   "metadata": {},
   "outputs": [],
   "source": [
    "def myLog(x, b):\n",
    "    logarithm=0\n",
    "    while x>=b:\n",
    "        logarithm+=1\n",
    "        x/=b\n",
    "    return logarithm"
   ]
  },
  {
   "cell_type": "code",
   "execution_count": null,
   "id": "5431a2e3",
   "metadata": {},
   "outputs": [],
   "source": [
    "myLog(68, 3)"
   ]
  },
  {
   "cell_type": "code",
   "execution_count": null,
   "id": "f9b05afe",
   "metadata": {},
   "outputs": [],
   "source": [
    "def getSublists(L,n):\n",
    "    if n==len(L):\n",
    "        return L\n",
    "    else:\n",
    "        result = [L[i:i+n] for i in range(len(L) - n + 1)]\n",
    "        return result"
   ]
  },
  {
   "cell_type": "code",
   "execution_count": null,
   "id": "56c6a706",
   "metadata": {},
   "outputs": [],
   "source": [
    "L=[4, 5, 7, 3, 8, 3, 8]\n",
    "n=4\n",
    "getSublists(L, n)"
   ]
  },
  {
   "cell_type": "code",
   "execution_count": null,
   "id": "6335b7f1",
   "metadata": {},
   "outputs": [],
   "source": [
    "def unique_keys(aDict):\n",
    "    value_count = {}\n",
    "    unique_keys_list = []\n",
    "\n",
    "    for key, value in aDict.items():\n",
    "        value_count[value] = value_count.get(value, 0) + 1\n",
    "\n",
    "    for key, value in aDict.items():\n",
    "        if value_count[value] == 1:\n",
    "            unique_keys_list.append(key)\n",
    "\n",
    "    return sorted(unique_keys_list)"
   ]
  },
  {
   "cell_type": "code",
   "execution_count": null,
   "id": "750cf45f",
   "metadata": {},
   "outputs": [],
   "source": [
    "def general_poly(L):\n",
    "    def polynomial_function(x):\n",
    "        result = 0\n",
    "        k = len(L) - 1\n",
    "        for coefficient in L:\n",
    "            result += coefficient * (x ** k)\n",
    "            k -= 1\n",
    "        return result\n",
    "    return polynomial_function"
   ]
  },
  {
   "cell_type": "code",
   "execution_count": null,
   "id": "8eb71dd0",
   "metadata": {},
   "outputs": [],
   "source": [
    "general_poly([1, 0, 0, 1, 0, 1, 0])(2)"
   ]
  },
  {
   "cell_type": "code",
   "execution_count": null,
   "id": "da4f3f78",
   "metadata": {},
   "outputs": [],
   "source": [
    "try:\n",
    "    a=int(input(\"Tell me one number:\"))\n",
    "    b=int(input(\"Tell me another number:\"))\n",
    "    print(a/b)\n",
    "    print(\"Okay\")\n",
    "except:\n",
    "    print(\"Bug in user input\")\n",
    "print(\"Outside\")"
   ]
  },
  {
   "cell_type": "code",
   "execution_count": null,
   "id": "122adecf",
   "metadata": {},
   "outputs": [],
   "source": [
    "try:\n",
    "    a=int(input(\"Tell me one number:\"))\n",
    "    b=int(input(\"Tell me another number\"))\n",
    "    print(\"a/b = \", a/b)\n",
    "    print(\"a+b = \", a+b)\n",
    "except ValueError:\n",
    "    print(\"could not convert to number\")\n",
    "except ZeroDivisionError:\n",
    "    print(\"cannot divide by 0\")\n",
    "except:\n",
    "    print(\"something else went very wrong\")"
   ]
  },
  {
   "cell_type": "code",
   "execution_count": null,
   "id": "4f44b6ac",
   "metadata": {},
   "outputs": [],
   "source": [
    "def fancy_divide(numbers,index):\n",
    "    try:\n",
    "        denom = numbers[index]\n",
    "        for i in range(len(numbers)):\n",
    "            numbers[i] /= denom\n",
    "    except IndexError:\n",
    "        print(\"-1\")\n",
    "    else:\n",
    "        print(\"1\")\n",
    "    finally:\n",
    "        print(\"0\")"
   ]
  },
  {
   "cell_type": "code",
   "execution_count": null,
   "id": "c4f1cbca",
   "metadata": {},
   "outputs": [],
   "source": [
    "fancy_divide([0, 2, 4], 1)"
   ]
  },
  {
   "cell_type": "code",
   "execution_count": null,
   "id": "2999b7fb",
   "metadata": {},
   "outputs": [],
   "source": [
    "import random\n",
    "import string\n",
    "\n",
    "VOWELS = 'aeiou'\n",
    "CONSONANTS = 'bcdfghjklmnpqrstvwxyz'\n",
    "HAND_SIZE = 7\n",
    "\n",
    "SCRABBLE_LETTER_VALUES = {\n",
    "    'a': 1, 'b': 3, 'c': 3, 'd': 2, 'e': 1, 'f': 4, 'g': 2, 'h': 4, 'i': 1, 'j': 8, 'k': 5, 'l': 1, 'm': 3, 'n': 1, 'o': 1, 'p': 3, 'q': 10, 'r': 1, 's': 1, 't': 1, 'u': 1, 'v': 4, 'w': 4, 'x': 8, 'y': 4, 'z': 10\n",
    "}\n",
    "\n",
    "# -----------------------------------\n",
    "# Helper code\n",
    "# (you don't need to understand this helper code)\n",
    "\n",
    "WORDLIST_FILENAME = \"words.txt\"\n",
    "\n",
    "def loadWords():\n",
    "    \"\"\"\n",
    "    Returns a list of valid words. Words are strings of lowercase letters.\n",
    "    \n",
    "    Depending on the size of the word list, this function may\n",
    "    take a while to finish.\n",
    "    \"\"\"\n",
    "    print(\"Loading word list from file...\")\n",
    "    # inFile: file\n",
    "    inFile = open(WORDLIST_FILENAME, 'r')\n",
    "    # wordList: list of strings\n",
    "    wordList = []\n",
    "    for line in inFile:\n",
    "        wordList.append(line.strip().lower())\n",
    "    print(\"  \", len(wordList), \"words loaded.\")\n",
    "    return wordList\n",
    "\n",
    "def getFrequencyDict(sequence):\n",
    "    \"\"\"\n",
    "    Returns a dictionary where the keys are elements of the sequence\n",
    "    and the values are integer counts, for the number of times that\n",
    "    an element is repeated in the sequence.\n",
    "\n",
    "    sequence: string or list\n",
    "    return: dictionary\n",
    "    \"\"\"\n",
    "    # freqs: dictionary (element_type -> int)\n",
    "    freq = {}\n",
    "    for x in sequence:\n",
    "        freq[x] = freq.get(x,0) + 1\n",
    "    return freq\n",
    "\t\n",
    "\n",
    "# (end of helper code)\n",
    "# -----------------------------------\n",
    "\n",
    "#\n",
    "# Problem #1: Scoring a word\n",
    "#\n",
    "def getWordScore(word, n):\n",
    "    \"\"\"\n",
    "    Returns the score for a word. Assumes the word is a valid word.\n",
    "\n",
    "    The score for a word is the sum of the points for letters in the\n",
    "    word, multiplied by the length of the word, PLUS 50 points if all n\n",
    "    letters are used on the first turn.\n",
    "\n",
    "    Letters are scored as in Scrabble; A is worth 1, B is worth 3, C is\n",
    "    worth 3, D is worth 2, E is worth 1, and so on (see SCRABBLE_LETTER_VALUES)\n",
    "\n",
    "    word: string (lowercase letters)\n",
    "    n: integer (HAND_SIZE; i.e., hand size required for additional points)\n",
    "    returns: int >= 0\n",
    "    \"\"\"\n",
    "    score=0\n",
    "    word.lower()\n",
    "    for char in word:\n",
    "        score+=SCRABBLE_LETTER_VALUES[char]\n",
    "    score*=len(word)\n",
    "    if len(word)==n:\n",
    "        score+=50\n",
    "    return score"
   ]
  },
  {
   "cell_type": "code",
   "execution_count": null,
   "id": "2b4f512b",
   "metadata": {},
   "outputs": [],
   "source": [
    "getWordScore('waybill', 7)"
   ]
  },
  {
   "cell_type": "code",
   "execution_count": null,
   "id": "497ca8dc",
   "metadata": {},
   "outputs": [],
   "source": [
    "def displayHand(hand):\n",
    "    \"\"\"\n",
    "    Displays the letters currently in the hand.\n",
    "\n",
    "    For example:\n",
    "    >>> displayHand({'a':1, 'x':2, 'l':3, 'e':1})\n",
    "    Should print out something like:\n",
    "       a x x l l l e\n",
    "    The order of the letters is unimportant.\n",
    "\n",
    "    hand: dictionary (string -> int)\n",
    "    \"\"\"\n",
    "    for letter in hand.keys():\n",
    "        for j in range(hand[letter]):\n",
    "             print(letter,end=\" \")       # print all on the same line\n",
    "    print()"
   ]
  },
  {
   "cell_type": "code",
   "execution_count": null,
   "id": "ec4c4acd",
   "metadata": {},
   "outputs": [],
   "source": [
    "hand={'a': 1, 'e': 2, 's': 1}\n",
    "displayHand(hand)"
   ]
  },
  {
   "cell_type": "code",
   "execution_count": null,
   "id": "a4a6b5e3",
   "metadata": {},
   "outputs": [],
   "source": [
    "# The 6.00 Word Game\n",
    "\n",
    "import random\n",
    "import string\n",
    "\n",
    "VOWELS = 'aeiou'\n",
    "CONSONANTS = 'bcdfghjklmnpqrstvwxyz'\n",
    "HAND_SIZE = 7\n",
    "\n",
    "SCRABBLE_LETTER_VALUES = {\n",
    "    'a': 1, 'b': 3, 'c': 3, 'd': 2, 'e': 1, 'f': 4, 'g': 2, 'h': 4, 'i': 1, 'j': 8, 'k': 5, 'l': 1, 'm': 3, 'n': 1, 'o': 1, 'p': 3, 'q': 10, 'r': 1, 's': 1, 't': 1, 'u': 1, 'v': 4, 'w': 4, 'x': 8, 'y': 4, 'z': 10\n",
    "}\n",
    "\n",
    "# -----------------------------------\n",
    "# Helper code\n",
    "# (you don't need to understand this helper code)\n",
    "\n",
    "WORDLIST_FILENAME = \"words.txt\"\n",
    "\n",
    "def loadWords():\n",
    "    \"\"\"\n",
    "    Returns a list of valid words. Words are strings of lowercase letters.\n",
    "    \n",
    "    Depending on the size of the word list, this function may\n",
    "    take a while to finish.\n",
    "    \"\"\"\n",
    "    print(\"Loading word list from file...\")\n",
    "    # inFile: file\n",
    "    inFile = open(WORDLIST_FILENAME, 'r')\n",
    "    # wordList: list of strings\n",
    "    wordList = []\n",
    "    for line in inFile:\n",
    "        wordList.append(line.strip().lower())\n",
    "    print(\"  \", len(wordList), \"words loaded.\")\n",
    "    return wordList\n",
    "\n",
    "def getFrequencyDict(sequence):\n",
    "    \"\"\"\n",
    "    Returns a dictionary where the keys are elements of the sequence\n",
    "    and the values are integer counts, for the number of times that\n",
    "    an element is repeated in the sequence.\n",
    "\n",
    "    sequence: string or list\n",
    "    return: dictionary\n",
    "    \"\"\"\n",
    "    # freqs: dictionary (element_type -> int)\n",
    "    freq = {}\n",
    "    for x in sequence:\n",
    "        freq[x] = freq.get(x,0) + 1\n",
    "    return freq\n",
    "\t\n",
    "\n",
    "# (end of helper code)\n",
    "# -----------------------------------\n",
    "\n",
    "#\n",
    "# Problem #1: Scoring a word\n",
    "#\n",
    "def getWordScore(word, n):\n",
    "    \"\"\"\n",
    "    Returns the score for a word. Assumes the word is a valid word.\n",
    "\n",
    "    The score for a word is the sum of the points for letters in the\n",
    "    word, multiplied by the length of the word, PLUS 50 points if all n\n",
    "    letters are used on the first turn.\n",
    "\n",
    "    Letters are scored as in Scrabble; A is worth 1, B is worth 3, C is\n",
    "    worth 3, D is worth 2, E is worth 1, and so on (see SCRABBLE_LETTER_VALUES)\n",
    "\n",
    "    word: string (lowercase letters)\n",
    "    n: integer (HAND_SIZE; i.e., hand size required for additional points)\n",
    "    returns: int >= 0\n",
    "    \"\"\"\n",
    "    score=0\n",
    "    if len(word)==n:\n",
    "        score+=50\n",
    "    word.lower()\n",
    "    for char in word:\n",
    "        score+=SCRABBLE_LETTER_VALUES[char]\n",
    "    return score\n",
    "\n",
    "\n",
    "#\n",
    "# Problem #2: Make sure you understand how this function works and what it does!\n",
    "#\n",
    "def displayHand(hand):\n",
    "    \"\"\"\n",
    "    Displays the letters currently in the hand.\n",
    "\n",
    "    For example:\n",
    "    >>> displayHand({'a':1, 'x':2, 'l':3, 'e':1})\n",
    "    Should print out something like:\n",
    "       a x x l l l e\n",
    "    The order of the letters is unimportant.\n",
    "\n",
    "    hand: dictionary (string -> int)\n",
    "    \"\"\"\n",
    "    for letter in hand.keys():\n",
    "        for j in range(hand[letter]):\n",
    "             print(letter,end=\" \")       # print all on the same line\n",
    "    print()                             # print an empty line\n",
    "\n",
    "#\n",
    "# Problem #2: Make sure you understand how this function works and what it does!\n",
    "#\n",
    "def dealHand(n):\n",
    "    \"\"\"\n",
    "    Returns a random hand containing n lowercase letters.\n",
    "    At least n/3 the letters in the hand should be VOWELS.\n",
    "\n",
    "    Hands are represented as dictionaries. The keys are\n",
    "    letters and the values are the number of times the\n",
    "    particular letter is repeated in that hand.\n",
    "\n",
    "    n: int >= 0\n",
    "    returns: dictionary (string -> int)\n",
    "    \"\"\"\n",
    "    hand={}\n",
    "    numVowels = n // 3\n",
    "    \n",
    "    for i in range(numVowels):\n",
    "        x = VOWELS[random.randrange(0,len(VOWELS))]\n",
    "        hand[x] = hand.get(x, 0) + 1\n",
    "        \n",
    "    for i in range(numVowels, n):    \n",
    "        x = CONSONANTS[random.randrange(0,len(CONSONANTS))]\n",
    "        hand[x] = hand.get(x, 0) + 1\n",
    "        \n",
    "    return hand\n",
    "\n",
    "#\n",
    "# Problem #2: Update a hand by removing letters\n",
    "#\n",
    "def updateHand(hand, word):\n",
    "    \"\"\"\n",
    "    Assumes that 'hand' has all the letters in word.\n",
    "    In other words, this assumes that however many times\n",
    "    a letter appears in 'word', 'hand' has at least as\n",
    "    many of that letter in it. \n",
    "\n",
    "    Updates the hand: uses up the letters in the given word\n",
    "    and returns the new hand, without those letters in it.\n",
    "\n",
    "    Has no side effects: does not modify hand.\n",
    "\n",
    "    word: string\n",
    "    hand: dictionary (string -> int)    \n",
    "    returns: dictionary (string -> int)\n",
    "    \"\"\"\n",
    "    for letter in hand:\n",
    "        if letter in word:\n",
    "            updatedHand[letter] -= word.count(letter)\n",
    "            if updatedHand[letter] <= 0:\n",
    "                del updatedHand[letter]\n",
    "    \n",
    "    return updatedHand  # Return the updated hand after processing the word\n",
    "\n",
    "\n",
    "\n",
    "#\n",
    "# Problem #3: Test word validity\n",
    "#\n",
    "def isValidWord(word, hand, wordList):\n",
    "    \"\"\"\n",
    "    Returns True if word is in the wordList and is entirely\n",
    "    composed of letters in the hand. Otherwise, returns False.\n",
    "\n",
    "    Does not mutate hand or wordList.\n",
    "   \n",
    "    word: string\n",
    "    hand: dictionary (string -> int)\n",
    "    wordList: list of lowercase strings\n",
    "    \"\"\"\n",
    "    if word in wordList==False:\n",
    "        return False\n",
    "    for char in word:\n",
    "        if char in hand==False:\n",
    "            return False\n",
    "    return True\n",
    "\n",
    "#\n",
    "# Problem #4: Playing a hand\n",
    "#   \n",
    "\n",
    "def calculateHandlen(hand):\n",
    "    \"\"\" \n",
    "    Returns the length (number of letters) in the current hand.\n",
    "    \n",
    "    hand: dictionary (string-> int)\n",
    "    returns: integer\n",
    "    \"\"\"\n",
    "\n",
    "\n",
    "def playHand(hand, wordList, n):\n",
    "    total_score = 0\n",
    "    \n",
    "    while calculateHandlen(hand) > 0:\n",
    "        print(\"Current Hand:\", end=\" \")\n",
    "        displayHand(hand)\n",
    "        \n",
    "        word = input('Enter word, or a \".\" to indicate that you are finished: ')\n",
    "        \n",
    "        if word == '.':\n",
    "            break\n",
    "        \n",
    "        if not isValidWord(word, hand, wordList):\n",
    "            print(\"Invalid word, please try again.\")\n",
    "            continue\n",
    "        \n",
    "        score = getWordScore(word, n)\n",
    "        total_score += score\n",
    "        print('\"{}\" earned {} points. Total: {} points'.format(word, score, total_score))\n",
    "        \n",
    "        hand = updateHand(hand, word)\n",
    "    \n",
    "    print(\"Total score:\", total_score)"
   ]
  },
  {
   "cell_type": "code",
   "execution_count": null,
   "id": "821e56f6",
   "metadata": {},
   "outputs": [],
   "source": [
    "a='a'\n",
    "b='b'\n",
    "a=b\n",
    "a"
   ]
  },
  {
   "cell_type": "markdown",
   "id": "99272e33",
   "metadata": {},
   "source": [
    "### OOP(Object Oriented Programming)"
   ]
  },
  {
   "cell_type": "markdown",
   "id": "c7f646a9",
   "metadata": {},
   "source": [
    "#### Classes and inheritance"
   ]
  },
  {
   "cell_type": "code",
   "execution_count": null,
   "id": "eed6ac54",
   "metadata": {},
   "outputs": [],
   "source": [
    "class Clock(object):\n",
    "    def __init__(self, time):\n",
    "        self.time = time\n",
    "    def print_time(self):\n",
    "        time = '6:30'\n",
    "        print(self.time)\n",
    "\n",
    "clock = Clock('5:30')\n",
    "clock.print_time()"
   ]
  },
  {
   "cell_type": "code",
   "execution_count": null,
   "id": "b7445412",
   "metadata": {},
   "outputs": [],
   "source": [
    "class Clock(object):\n",
    "    def __init__(self, time):\n",
    "\t    self.time = time\n",
    "    def print_time(self, time):\n",
    "\t    print(time)\n",
    "\n",
    "clock = Clock('5:30')\n",
    "clock.print_time('10:30')"
   ]
  },
  {
   "cell_type": "code",
   "execution_count": null,
   "id": "baec375a",
   "metadata": {},
   "outputs": [],
   "source": [
    "class Weird(object):\n",
    "    def __init__(self, x, y): \n",
    "        self.y = y\n",
    "        self.x = x\n",
    "    def getX(self):\n",
    "        return x \n",
    "    def getY(self):\n",
    "        return y\n",
    "\n",
    "class Wild(object):\n",
    "    def __init__(self, x, y): \n",
    "        self.y = y\n",
    "        self.x = x\n",
    "    def getX(self):\n",
    "        return self.x \n",
    "    def getY(self):\n",
    "        return self.y\n",
    "    \n",
    "X = 7\n",
    "Y = 8"
   ]
  },
  {
   "cell_type": "code",
   "execution_count": null,
   "id": "c001f572",
   "metadata": {},
   "outputs": [],
   "source": [
    "w1 = Weird(X, Y)\n",
    "print(w1.getX())"
   ]
  },
  {
   "cell_type": "code",
   "execution_count": null,
   "id": "41aa8200",
   "metadata": {},
   "outputs": [],
   "source": [
    "print(w1.getY())"
   ]
  },
  {
   "cell_type": "code",
   "execution_count": null,
   "id": "fa7cdc51",
   "metadata": {},
   "outputs": [],
   "source": [
    "w2 = Wild(X, Y)\n",
    "print(w2.getX())"
   ]
  },
  {
   "cell_type": "code",
   "execution_count": null,
   "id": "f235d507",
   "metadata": {},
   "outputs": [],
   "source": [
    "print(w2.getY())"
   ]
  },
  {
   "cell_type": "code",
   "execution_count": null,
   "id": "c8b7b433",
   "metadata": {},
   "outputs": [],
   "source": [
    "w3 = Wild(17, 18)\n",
    "print(w3.getX())"
   ]
  },
  {
   "cell_type": "code",
   "execution_count": null,
   "id": "3217de4a",
   "metadata": {},
   "outputs": [],
   "source": [
    "w4 = Wild(X, 18)\n",
    "print(w4.getX())"
   ]
  },
  {
   "cell_type": "code",
   "execution_count": null,
   "id": "2133d0b1",
   "metadata": {},
   "outputs": [],
   "source": [
    "X = w4.getX() + w3.getX() + w2.getX()\n",
    "print(X)"
   ]
  },
  {
   "cell_type": "code",
   "execution_count": null,
   "id": "84dcdbb7",
   "metadata": {},
   "outputs": [],
   "source": [
    "print(w4.getX())"
   ]
  },
  {
   "cell_type": "code",
   "execution_count": null,
   "id": "453194c7",
   "metadata": {},
   "outputs": [],
   "source": [
    "Y = w4.getY() + w3.getY()\n",
    "Y = Y + w2.getY()\n",
    "print(Y)"
   ]
  },
  {
   "cell_type": "code",
   "execution_count": null,
   "id": "2172fc12",
   "metadata": {},
   "outputs": [],
   "source": [
    "print(w2.getY())"
   ]
  },
  {
   "cell_type": "code",
   "execution_count": null,
   "id": "4b15d237",
   "metadata": {},
   "outputs": [],
   "source": [
    "print(w4.getY())"
   ]
  },
  {
   "cell_type": "markdown",
   "id": "3cce1c0d",
   "metadata": {},
   "source": [
    "#### An extended example"
   ]
  },
  {
   "cell_type": "code",
   "execution_count": null,
   "id": "3fe9b9d4",
   "metadata": {},
   "outputs": [],
   "source": [
    "class Spell(object):\n",
    "    def __init__(self, incantation, name):\n",
    "        self.name = name\n",
    "        self.incantation = incantation\n",
    "\n",
    "    def __str__(self):\n",
    "        return self.name + ' ' + self.incantation + '\\n' + self.getDescription()\n",
    "              \n",
    "    def getDescription(self):\n",
    "        return 'No description'\n",
    "    \n",
    "    def execute(self):\n",
    "        print(self.incantation)\n",
    "\n",
    "\n",
    "class Accio(Spell):\n",
    "    def __init__(self):\n",
    "        Spell.__init__(self, 'Accio', 'Summoning Charm')\n",
    "\n",
    "class Confundo(Spell):\n",
    "    def __init__(self):\n",
    "        Spell.__init__(self, 'Confundo', 'Confundus Charm')\n",
    "\n",
    "    def getDescription(self):\n",
    "        return 'Causes the victim to become confused and befuddled.'\n",
    "\n",
    "def studySpell(spell):\n",
    "    print(spell)\n",
    "\n",
    "spell = Accio()\n",
    "spell.execute()\n",
    "studySpell(spell)\n",
    "studySpell(Confundo())"
   ]
  },
  {
   "cell_type": "code",
   "execution_count": null,
   "id": "7084f2e8",
   "metadata": {},
   "outputs": [],
   "source": [
    "class A(object):\n",
    "    def __init__(self):\n",
    "        self.a = 1\n",
    "    def x(self):\n",
    "        print(\"A.x\")\n",
    "    def y(self):\n",
    "        print(\"A.y\")\n",
    "    def z(self):\n",
    "        print(\"A.z\")\n",
    "\n",
    "class B(A):\n",
    "    def __init__(self):\n",
    "        A.__init__(self)\n",
    "        self.a = 2\n",
    "        self.b = 3\n",
    "    def y(self):\n",
    "        print(\"B.y\")\n",
    "    def z(self):\n",
    "        print(\"B.z\")\n",
    "\n",
    "class C(object):\n",
    "    def __init__(self):\n",
    "        self.a = 4\n",
    "        self.c = 5\n",
    "    def y(self):\n",
    "        print(\"C.y\")\n",
    "    def z(self):\n",
    "        print(\"C.z\")\n",
    "\n",
    "class D(C, B):\n",
    "    def __init__(self):\n",
    "        C.__init__(self)\n",
    "        B.__init__(self)\n",
    "        self.d = 6\n",
    "    def z(self):\n",
    "        print(\"D.z\")"
   ]
  },
  {
   "cell_type": "code",
   "execution_count": null,
   "id": "adc1988e",
   "metadata": {},
   "outputs": [],
   "source": [
    "obj = D()"
   ]
  },
  {
   "cell_type": "code",
   "execution_count": null,
   "id": "cb5a8350",
   "metadata": {},
   "outputs": [],
   "source": [
    "print(obj.c)"
   ]
  },
  {
   "cell_type": "code",
   "execution_count": null,
   "id": "df225d5b",
   "metadata": {},
   "outputs": [],
   "source": [
    "print(obj.d)"
   ]
  },
  {
   "cell_type": "code",
   "execution_count": null,
   "id": "6be6a40b",
   "metadata": {},
   "outputs": [],
   "source": [
    "obj.x()"
   ]
  },
  {
   "cell_type": "code",
   "execution_count": null,
   "id": "b78727ed",
   "metadata": {},
   "outputs": [],
   "source": [
    "print(5)"
   ]
  },
  {
   "cell_type": "code",
   "execution_count": null,
   "id": "8a178867",
   "metadata": {},
   "outputs": [],
   "source": [
    "from random import *\n",
    "\n",
    "rav4_times=0\n",
    "corolla_times=0\n",
    "zst_times=0\n",
    "zs_times=0\n",
    "rav4_most=0\n",
    "corolla_most=0\n",
    "zst_most=0\n",
    "zs_most=0\n",
    "for i in range(20):\n",
    "    for i in range(2500):\n",
    "        types_of_makes=['Toyota', 'MG']\n",
    "        type_of_models=['Corolla', 'Rav4']\n",
    "        types_of_models=['ZST', 'ZS']\n",
    "        typeCar=types_of_makes[int(random()*2)]\n",
    "        if typeCar=='Toyota':\n",
    "            typeModel=type_of_models[int(random()*2)]\n",
    "        else:\n",
    "            typeModel=types_of_models[int(random()*2)]\n",
    "        if typeModel=='Rav4':\n",
    "            rav4_times+=1\n",
    "        elif typeModel=='Corolla':\n",
    "            corolla_times+=1\n",
    "        elif typeModel=='ZST':\n",
    "            zst_times+=1\n",
    "        else:\n",
    "            zs_times+=1\n",
    "        print(typeCar+', '+typeModel+', 2020')\n",
    "    print('Rav4_times: '+str(rav4_times))\n",
    "    print('Corolla_times: '+str(corolla_times))\n",
    "    print('ZST_times: '+str(zst_times))\n",
    "    print('ZS_times: '+str(zs_times))\n",
    "    if rav4_times>=corolla_times and rav4_times>=zs_times and rav4_times>=zst_times:\n",
    "        print('Most Rav4s')\n",
    "        rav4_most+=1\n",
    "    elif corolla_times>=rav4_times and corolla_times>=zs_times and corolla_times>=zst_times:\n",
    "        print('Most Corollas')\n",
    "        corolla_most+=1\n",
    "    elif zst_times>=rav4_times and zst_times>=corolla_times and zst_times>=zs_times:\n",
    "        print('Most ZSTs')\n",
    "        zst_most+=1\n",
    "    else:\n",
    "        print('Most ZSes')\n",
    "        zs_most+=1\n",
    "print('Rav4_times: '+str(rav4_times))\n",
    "print('Corolla_times: '+str(corolla_times))\n",
    "print('ZST_times: '+str(zst_times))\n",
    "print('ZS_times: '+str(zs_times))\n",
    "if rav4_most>=corolla_most and rav4_most>=zs_most and rav4_most>=zst_most:\n",
    "    print('Most Rav4s overall')\n",
    "elif corolla_most>=rav4_most and corolla_most>=zs_most and corolla_most>=zst_most:\n",
    "    print('Most Corollas overall')\n",
    "elif zst_most>=rav4_most and zst_most>=corolla_most and zst_most>=zs_most:\n",
    "    print('Most ZSTs overall')\n",
    "else:\n",
    "    print('Most ZSes overall')"
   ]
  },
  {
   "cell_type": "code",
   "execution_count": null,
   "id": "077de3f0",
   "metadata": {},
   "outputs": [],
   "source": [
    "def generator1():\n",
    "    if True:\n",
    "        yield 1 \n",
    "\n",
    "def generator2():\n",
    "    if False:   \n",
    "        yield 1\n",
    "\n",
    "g1 = generator1()\n",
    "g2 = generator2()\n",
    "\n",
    "print(type(g1))\n",
    "print(type(g2))"
   ]
  },
  {
   "cell_type": "code",
   "execution_count": null,
   "id": "5b03e95b",
   "metadata": {},
   "outputs": [],
   "source": [
    "def genPrimesFn():\n",
    "    '''Function to return 1000000 prime numbers'''\n",
    "    primes = []   # primes generated so far\n",
    "    last = 1      # last number tried\n",
    "    while len(primes) < 1000000:\n",
    "        last += 1\n",
    "        for p in primes:\n",
    "            if last % p == 0:\n",
    "                break\n",
    "        else:\n",
    "            primes.append(last)\n",
    "    return primes\n",
    "\n",
    "def genPrimesFn():\n",
    "    '''Function to print every 10th prime \n",
    "    number, until you've printed 20 of them.'''\n",
    "    primes = []   # primes generated so far\n",
    "    last = 1      # last number tried\n",
    "    counter = 1\n",
    "    while True:\n",
    "        last += 1\n",
    "        for p in primes:\n",
    "            if last % p == 0:\n",
    "                break\n",
    "        else:\n",
    "            primes.append(last)\n",
    "            counter += 1\n",
    "            if counter % 10 == 0:\n",
    "                # Print every 10th prime\n",
    "                print(last)\n",
    "            if counter % (20*10) == 0:\n",
    "                # Quit when we've printed the 10th prime 20 times (ie we've\n",
    "                # printed the 200th prime)\n",
    "                return\n",
    "\n",
    "\n",
    "\n",
    "def genPrimesFn():\n",
    "    '''Function to keep printing the prime number until the user stops the program.\n",
    "    This way uses user input; you can also just run an infinite loop (while True)\n",
    "    that the user can quit out of by hitting control-c'''\n",
    "    primes = []   # primes generated so far\n",
    "    last = 1      # last number tried\n",
    "    uinp = 'y'    # Assume we want to at least print the first prime...\n",
    "    while uinp != 'n':\n",
    "        last += 1\n",
    "        for p in primes:\n",
    "            if last % p == 0:\n",
    "                break\n",
    "        else:\n",
    "            primes.append(last)\n",
    "            print(last)\n",
    "            uinp = input(\"Print the next prime? [y/n] \")\n",
    "            while uinp != 'y' and uinp != 'n':\n",
    "                print(\"Sorry, I did not understand your input. Please enter 'y' for yes, or 'n' for no.\")\n",
    "                uinp = input(\"Print the next prime? [y/n] \")"
   ]
  },
  {
   "cell_type": "code",
   "execution_count": null,
   "id": "97e29d24",
   "metadata": {},
   "outputs": [],
   "source": [
    "import string\n",
    "print(string.ascii_lowercase)\n",
    "print(string.ascii_uppercase)"
   ]
  },
  {
   "cell_type": "code",
   "execution_count": null,
   "id": "4c8279ae",
   "metadata": {},
   "outputs": [],
   "source": [
    "import string\n",
    "\n",
    "alphabet = string.ascii_lowercase\n",
    "shift = 17\n",
    "letter = 'a'\n",
    "\n",
    "position = alphabet.index(letter)\n",
    "shifted_position = (position + shift) % 26\n",
    "shifted_letter = alphabet[shifted_position]\n",
    "\n",
    "print(shifted_letter)"
   ]
  },
  {
   "cell_type": "code",
   "execution_count": null,
   "id": "52b31196",
   "metadata": {},
   "outputs": [],
   "source": [
    "def build_shift_dict(shift):\n",
    "    shift_dict = {}\n",
    "    alphabet = string.ascii_lowercase + string.ascii_uppercase\n",
    "    \n",
    "    for letter in alphabet:\n",
    "        if letter.islower():\n",
    "            base = ord('a')\n",
    "        else:\n",
    "            base = ord('A')\n",
    "        \n",
    "        position = ord(letter) - base\n",
    "        shifted_position = (position + shift) % 26\n",
    "        shifted_letter = chr(base + shifted_position)\n",
    "        \n",
    "        shift_dict[letter] = shifted_letter\n",
    "    \n",
    "    return shift_dict\n",
    "\n",
    "# Test the function\n",
    "shift_amount = 3\n",
    "shifted_dict = build_shift_dict(shift_amount)\n",
    "print(shifted_dict)"
   ]
  },
  {
   "cell_type": "code",
   "execution_count": null,
   "id": "4012ca5e",
   "metadata": {},
   "outputs": [],
   "source": [
    "'pneumonoultramicroscopicsilicovolcanoconiosis'.split('h')"
   ]
  },
  {
   "cell_type": "code",
   "execution_count": null,
   "id": "5e7b932b",
   "metadata": {},
   "outputs": [],
   "source": [
    "import string\n",
    "\n",
    "### DO NOT MODIFY THIS FUNCTION ###\n",
    "def load_words(file_name):\n",
    "    '''\n",
    "    file_name (string): the name of the file containing \n",
    "    the list of words to load    \n",
    "    \n",
    "    Returns: a list of valid words. Words are strings of lowercase letters.\n",
    "    \n",
    "    Depending on the size of the word list, this function may\n",
    "    take a while to finish.\n",
    "    '''\n",
    "    print('Loading word list from file...')\n",
    "    # inFile: file\n",
    "    in_file = open(file_name, 'r')\n",
    "    # line: string\n",
    "    line = in_file.readline()\n",
    "    # word_list: list of strings\n",
    "    word_list = line.split()\n",
    "    print('  ', len(word_list), 'words loaded.')\n",
    "    in_file.close()\n",
    "    return word_list\n",
    "\n",
    "### DO NOT MODIFY THIS FUNCTION ###\n",
    "def is_word(word_list, word):\n",
    "    '''\n",
    "    Determines if word is a valid word, ignoring\n",
    "    capitalization and punctuation\n",
    "\n",
    "    word_list (list): list of words in the dictionary.\n",
    "    word (string): a possible word.\n",
    "    \n",
    "    Returns: True if word is in word_list, False otherwise\n",
    "\n",
    "    Example:\n",
    "    >>> is_word(word_list, 'bat') returns\n",
    "    True\n",
    "    >>> is_word(word_list, 'asdf') returns\n",
    "    False\n",
    "    '''\n",
    "    word = word.lower()\n",
    "    word = word.strip(\" !@#$%^&*()-_+={}[]|\\:;'<>?,./\\\"\")\n",
    "    return word in word_list\n",
    "\n",
    "### DO NOT MODIFY THIS FUNCTION ###\n",
    "def get_story_string():\n",
    "    \"\"\"\n",
    "    Returns: a joke in encrypted text.\n",
    "    \"\"\"\n",
    "    f = open(\"story.txt\", \"r\")\n",
    "    story = str(f.read())\n",
    "    f.close()\n",
    "    return story\n",
    "\n",
    "WORDLIST_FILENAME = 'words.txt' \n",
    "\n",
    "class Message(object):\n",
    "    ### DO NOT MODIFY THIS METHOD ###\n",
    "    def __init__(self, text):\n",
    "        '''\n",
    "        Initializes a Message object\n",
    "                \n",
    "        text (string): the message's text\n",
    "\n",
    "        a Message object has two attributes:\n",
    "            self.message_text (string, determined by input text)\n",
    "            self.valid_words (list, determined using helper function load_words\n",
    "        '''\n",
    "        self.message_text = text\n",
    "        self.valid_words = load_words(WORDLIST_FILENAME)\n",
    "\n",
    "    ### DO NOT MODIFY THIS METHOD ###\n",
    "    def get_message_text(self):\n",
    "        '''\n",
    "        Used to safely access self.message_text outside of the class\n",
    "        \n",
    "        Returns: self.message_text\n",
    "        '''\n",
    "        return self.message_text\n",
    "\n",
    "    ### DO NOT MODIFY THIS METHOD ###\n",
    "    def get_valid_words(self):\n",
    "        '''\n",
    "        Used to safely access a copy of self.valid_words outside of the class\n",
    "        \n",
    "        Returns: a COPY of self.valid_words\n",
    "        '''\n",
    "        return self.valid_words[:]\n",
    "        \n",
    "    def build_shift_dict(self, shift):\n",
    "        '''\n",
    "        Creates a dictionary that can be used to apply a cipher to a letter.\n",
    "        The dictionary maps every uppercase and lowercase letter to a\n",
    "        character shifted down the alphabet by the input shift. The dictionary\n",
    "        should have 52 keys of all the uppercase letters and all the lowercase\n",
    "        letters only.        \n",
    "        \n",
    "        shift (integer): the amount by which to shift every letter of the \n",
    "        alphabet. 0 <= shift < 26\n",
    "\n",
    "        Returns: a dictionary mapping a letter (string) to \n",
    "                 another letter (string). \n",
    "        '''\n",
    "        shift_dict = {}\n",
    "        alphabet = string.ascii_lowercase + string.ascii_uppercase\n",
    "\n",
    "        for letter in alphabet:\n",
    "            if letter.islower():\n",
    "                base = ord('a')\n",
    "            else:\n",
    "                base = ord('A')\n",
    "        \n",
    "            position = ord(letter) - base\n",
    "            shifted_position = (position + shift) % 26\n",
    "            shifted_letter = chr(base + shifted_position)\n",
    "            shift_dict[letter] = shifted_letter\n",
    "        return shift_dict\n",
    "\n",
    "    def apply_shift(self, shift):\n",
    "        '''\n",
    "        Applies the Caesar Cipher to self.message_text with the input shift.\n",
    "        Creates a new string that is self.message_text shifted down the\n",
    "        alphabet by some number of characters determined by the input shift        \n",
    "        \n",
    "        shift (integer): the shift with which to encrypt the message.\n",
    "        0 <= shift < 26\n",
    "\n",
    "        Returns: the message text (string) in which every character is shifted\n",
    "             down the alphabet by the input shift\n",
    "        '''\n",
    "        shifted_text = \"\"\n",
    "        for char in self.message_text:\n",
    "            if char.isalpha():\n",
    "                if char.islower():\n",
    "                    shifted_text += chr((ord(char) - ord('a') + shift) % 26 + ord('a'))\n",
    "                elif char.isupper():\n",
    "                    shifted_text += chr((ord(char) - ord('A') + shift) % 26 + ord('A'))\n",
    "            else:\n",
    "                shifted_text += char\n",
    "        return shifted_text\n",
    "            \n",
    "class PlaintextMessage(Message):\n",
    "    def __init__(self, text, shift):\n",
    "        '''\n",
    "        Initializes a PlaintextMessage object        \n",
    "        \n",
    "        text (string): the message's text\n",
    "        shift (integer): the shift associated with this message\n",
    "\n",
    "        A PlaintextMessage object inherits from Message and has five attributes:\n",
    "            self.message_text (string, determined by input text)\n",
    "            self.valid_words (list, determined using helper function load_words)\n",
    "            self.shift (integer, determined by input shift)\n",
    "            self.encrypting_dict (dictionary, built using shift)\n",
    "            self.message_text_encrypted (string, created using shift)\n",
    "\n",
    "        Hint: consider using the parent class constructor so less \n",
    "        code is repeated\n",
    "        '''\n",
    "        Message.__init__(self, text)  # Call the parent class constructor\n",
    "        self.shift = shift\n",
    "        self.encrypting_dict = self.build_shift_dict(shift)\n",
    "        self.message_text_encrypted = self.apply_shift(shift)\n",
    "\n",
    "    def get_shift(self):\n",
    "        '''\n",
    "        Used to safely access self.shift outside of the class\n",
    "        \n",
    "        Returns: self.shift\n",
    "        '''\n",
    "        \n",
    "\n",
    "    def get_encrypting_dict(self):\n",
    "        '''\n",
    "        Used to safely access a copy self.encrypting_dict outside of the class\n",
    "        \n",
    "        Returns: a COPY of self.encrypting_dict\n",
    "        '''\n",
    "            \n",
    "\n",
    "    def get_message_text_encrypted(self):\n",
    "        '''\n",
    "        Used to safely access self.message_text_encrypted outside of the class\n",
    "        \n",
    "        Returns: self.message_text_encrypted\n",
    "        '''\n",
    "        \n",
    "\n",
    "    def change_shift(self, shift):\n",
    "        '''\n",
    "        Changes self.shift of the PlaintextMessage and updates other \n",
    "        attributes determined by shift (ie. self.encrypting_dict and \n",
    "        message_text_encrypted).\n",
    "        \n",
    "        shift (integer): the new shift that should be associated with this message.\n",
    "        0 <= shift < 26\n",
    "\n",
    "        Returns: nothing\n",
    "        '''\n",
    "        self.shift=shift\n",
    "        self.apply_shift(shift)\n",
    "\n",
    "class CiphertextMessage(Message):\n",
    "    def __init__(self, text):\n",
    "        '''\n",
    "        Initializes a CiphertextMessage object\n",
    "                \n",
    "        text (string): the message's text\n",
    "\n",
    "        a CiphertextMessage object has two attributes:\n",
    "            self.message_text (string, determined by input text)\n",
    "            self.valid_words (list, determined using helper function load_words)\n",
    "        '''\n",
    "        self.message_text = text\n",
    "        self.valid_words = load_words('words.txt')\n",
    "        \n",
    "\n",
    "    def decrypt_message(self):\n",
    "        '''\n",
    "        Decrypt self.message_text by trying every possible shift value\n",
    "        and find the \"best\" one. We will define \"best\" as the shift that\n",
    "        creates the maximum number of real words when we use apply_shift(shift)\n",
    "        on the message text. If s is the original shift value used to encrypt\n",
    "        the message, then we would expect 26 - s to be the best shift value \n",
    "        for decrypting it.\n",
    "\n",
    "        Note: if multiple shifts are equally good such that they all create \n",
    "        the maximum number of you may choose any of those shifts (and their\n",
    "        corresponding decrypted messages) to return\n",
    "\n",
    "        Returns: a tuple of the best shift value used to decrypt the message\n",
    "        and the decrypted message text using that shift value\n",
    "        '''\n",
    "        total=0\n",
    "        max_real_words=0\n",
    "        for shift in range(26):\n",
    "            decrypted_message = self.apply_shift(26 - shift)\n",
    "            words = decrypted_message.split()\n",
    "            for word in words:\n",
    "                if word in self.valid_words:\n",
    "                    total+=1\n",
    "\n",
    "            if total > max_real_words:\n",
    "                max_real_words = total\n",
    "                best_shift = 26 - shift\n",
    "                decrypted_text = decrypted_message\n",
    "\n",
    "        return (best_shift, decrypted_text)\n",
    "\n",
    "#Example test case (PlaintextMessage)\n",
    "plaintext = PlaintextMessage('hello', 2)\n",
    "print('Expected Output: jgnnq')\n",
    "print('Actual Output:', plaintext.get_message_text_encrypted())\n",
    "    \n",
    "#Example test case (CiphertextMessage)\n",
    "ciphertext = CiphertextMessage('jgnnq')\n",
    "print('Expected Output:', (24, 'hello'))\n",
    "print('Actual Output:', ciphertext.decrypt_message())"
   ]
  },
  {
   "cell_type": "code",
   "execution_count": null,
   "id": "b83bf357",
   "metadata": {},
   "outputs": [],
   "source": [
    "plaintext = PlaintextMessage('hello', 2)\n",
    "print('Expected Output: jgnnq')\n",
    "print('Actual Output:', plaintext.get_message_text_encrypted())"
   ]
  },
  {
   "cell_type": "code",
   "execution_count": null,
   "id": "831f6bec",
   "metadata": {},
   "outputs": [],
   "source": [
    "class Animal(object):\n",
    "    def __init__(self, age):\n",
    "        self.age=age\n",
    "        self.name=None\n",
    "    def get_age(self):\n",
    "        return self.age\n",
    "    def get_name(self):\n",
    "        return self.name\n",
    "    def set_age(self, newage):\n",
    "        self.age=newage\n",
    "    def set_name(self, newname=''):\n",
    "        self.name=newname\n",
    "    def __str__(self):\n",
    "        return 'animal:'+str(self.name)+':'+str(self.age)\n",
    "class Rabbit(Animal):\n",
    "    tag=1\n",
    "    def __init__(self, age, parent1=None, parent2=None):\n",
    "        Animal.__init__(self, age)\n",
    "        self.parent1=parent1\n",
    "        self.parent2=parent2\n",
    "        self.rid=Rabbit.tag\n",
    "        Rabbit.tag+=1\n",
    "    def get_rid(self):\n",
    "        return str(self.rid).zfill(3)\n",
    "    def get_parent1(self):\n",
    "        return self.parent1\n",
    "    def get_parent2(self):\n",
    "        return self.parent2"
   ]
  },
  {
   "cell_type": "code",
   "execution_count": null,
   "id": "bcad5141",
   "metadata": {},
   "outputs": [],
   "source": [
    "peter=Rabbit(2)"
   ]
  },
  {
   "cell_type": "code",
   "execution_count": null,
   "id": "ab0d88ff",
   "metadata": {},
   "outputs": [],
   "source": [
    "peter.set_name('Peter')"
   ]
  },
  {
   "cell_type": "code",
   "execution_count": null,
   "id": "8b16a659",
   "metadata": {},
   "outputs": [],
   "source": [
    "print(peter)"
   ]
  },
  {
   "cell_type": "code",
   "execution_count": null,
   "id": "c8e57abe",
   "metadata": {},
   "outputs": [],
   "source": [
    "hopsy=Rabbit(3)"
   ]
  },
  {
   "cell_type": "code",
   "execution_count": null,
   "id": "40179c83",
   "metadata": {},
   "outputs": [],
   "source": [
    "hopsy.set_name('Hopsy')"
   ]
  },
  {
   "cell_type": "code",
   "execution_count": null,
   "id": "519ec927",
   "metadata": {},
   "outputs": [],
   "source": [
    "print(hopsy)"
   ]
  },
  {
   "cell_type": "code",
   "execution_count": null,
   "id": "7a10ecf9",
   "metadata": {},
   "outputs": [],
   "source": [
    "cotton=Rabbit(1, peter, hopsy)"
   ]
  },
  {
   "cell_type": "code",
   "execution_count": null,
   "id": "dd66ad83",
   "metadata": {},
   "outputs": [],
   "source": [
    "cotton.set_name('Cottontail')"
   ]
  },
  {
   "cell_type": "code",
   "execution_count": null,
   "id": "5feb806d",
   "metadata": {},
   "outputs": [],
   "source": [
    "print(cotton)"
   ]
  },
  {
   "cell_type": "markdown",
   "id": "84ca191a",
   "metadata": {},
   "source": [
    "### Algorithmic Complexity"
   ]
  },
  {
   "cell_type": "markdown",
   "id": "d2f39dbb",
   "metadata": {},
   "source": [
    "#### Computational Complexity"
   ]
  },
  {
   "cell_type": "code",
   "execution_count": null,
   "id": "a0bc681c",
   "metadata": {},
   "outputs": [],
   "source": [
    "def search_for_elmt(L, e):\n",
    "    for i in L:\n",
    "        if i==e:\n",
    "            return True\n",
    "    return False\n",
    "# Example case below\n",
    "L=[]\n",
    "n=1\n",
    "for i in range(100000000):\n",
    "    L.append(n)\n",
    "    n+=1\n",
    "e=187376452367454457654574756465745647\n",
    "search_for_elmt(L, e)"
   ]
  },
  {
   "cell_type": "code",
   "execution_count": null,
   "id": "5dabd117",
   "metadata": {},
   "outputs": [],
   "source": [
    "def lenRecur(s):\n",
    "   answer=0\n",
    "   while True:\n",
    "      if s == '':\n",
    "         return answer\n",
    "      while s != '':\n",
    "         answer+=20\n",
    "         s=s[20:]"
   ]
  },
  {
   "cell_type": "code",
   "execution_count": null,
   "id": "3282306c",
   "metadata": {},
   "outputs": [],
   "source": [
    "def fact_iter(n):\n",
    "    # assumes n an int>=0\n",
    "    answer=1\n",
    "    while n>1:\n",
    "        answer*=n\n",
    "        n-=1\n",
    "    return answer"
   ]
  },
  {
   "cell_type": "code",
   "execution_count": null,
   "id": "b43d2c7c",
   "metadata": {},
   "outputs": [],
   "source": [
    "fact_iter(99999)"
   ]
  },
  {
   "cell_type": "code",
   "execution_count": null,
   "id": "e049eb4f",
   "metadata": {},
   "outputs": [],
   "source": [
    "def intToStr(i):\n",
    "    digits='0123456789'\n",
    "    if i ==0:\n",
    "        return '0'\n",
    "    result=''\n",
    "    while i>0:\n",
    "        result=digits[i%10]+result\n",
    "        i=i//10\n",
    "    return result"
   ]
  },
  {
   "cell_type": "code",
   "execution_count": null,
   "id": "74122151",
   "metadata": {},
   "outputs": [],
   "source": [
    "intToStr(9)"
   ]
  },
  {
   "cell_type": "code",
   "execution_count": null,
   "id": "3b2e61b5",
   "metadata": {},
   "outputs": [],
   "source": [
    "def genSubsets(L):\n",
    "    res=[]\n",
    "    if len(L)==0:\n",
    "        return[[]]\n",
    "    smaller=genSubsets(L[:-1])\n",
    "    extra=L[-1:]\n",
    "    new=[]\n",
    "    for small in smaller:\n",
    "        new.append(small+extra)\n",
    "    return smaller+new"
   ]
  },
  {
   "cell_type": "code",
   "execution_count": null,
   "id": "7a96a865",
   "metadata": {},
   "outputs": [],
   "source": [
    "L=[1, 2, 3, 4]\n",
    "genSubsets(L)"
   ]
  },
  {
   "cell_type": "code",
   "execution_count": null,
   "id": "54d61d08",
   "metadata": {},
   "outputs": [],
   "source": [
    "def h(n):\n",
    "    answer=0\n",
    "    s=str(n)\n",
    "    for c in s:\n",
    "        answer+=int(c)\n",
    "    return answer"
   ]
  },
  {
   "cell_type": "code",
   "execution_count": null,
   "id": "8f57ea70",
   "metadata": {},
   "outputs": [],
   "source": [
    "h(1234567890)"
   ]
  },
  {
   "cell_type": "code",
   "execution_count": null,
   "id": "58839f1a",
   "metadata": {},
   "outputs": [],
   "source": [
    "n=0\n",
    "def modten(n):\n",
    "    print(n&10)\n",
    "    return n%10\n",
    "for i in range(25):\n",
    "    n+=1\n",
    "    modten(n)\n"
   ]
  },
  {
   "cell_type": "markdown",
   "id": "25f9dbbf",
   "metadata": {},
   "source": [
    "#### Searching and Sorting Algorithms"
   ]
  },
  {
   "cell_type": "code",
   "execution_count": null,
   "id": "92bf4f89",
   "metadata": {},
   "outputs": [],
   "source": [
    "def foo(L):\n",
    "    val = L[0]\n",
    "    while (True):\n",
    "        val = L[val]\n",
    "a = [1, 2, 3, 4, 0]\n",
    "b = [3, 0, 2, 4, 1]\n",
    "c = [3, 2, 4, 1, 5]\n",
    "foo(a)"
   ]
  },
  {
   "cell_type": "code",
   "execution_count": null,
   "id": "290c0012",
   "metadata": {},
   "outputs": [],
   "source": [
    "num = 5\n",
    "L = [2, 0, 1, 5, 3, 4]\n",
    "val = 0\n",
    "for i in range(0, num):\n",
    "    val = L[L[val]]\n",
    "\n",
    "print(val)"
   ]
  },
  {
   "cell_type": "code",
   "execution_count": null,
   "id": "c9cbdc65",
   "metadata": {},
   "outputs": [],
   "source": [
    "from random import *\n",
    "score=0\n",
    "door_num=[1, 2, 3, 4, 5, 6, 7, 8, 9, 0]\n",
    "brave=True\n",
    "while brave:\n",
    "    ghost_door=door_num[randint(0, 9)]\n",
    "    door=int(input('Enter an integer between 0 and 9'))\n",
    "    if ghost_door==door:\n",
    "        brave=False\n",
    "        break\n",
    "    print('Lucky')\n",
    "    score+=1\n",
    "print('Unlucky')\n",
    "print(score)"
   ]
  },
  {
   "cell_type": "code",
   "execution_count": null,
   "id": "35786951",
   "metadata": {},
   "outputs": [],
   "source": [
    "def search(L, e):\n",
    "    for i in range(len(L)):\n",
    "        if L[i] == e:\n",
    "            return True\n",
    "        if L[i] > e:\n",
    "            return False\n",
    "    return False"
   ]
  },
  {
   "cell_type": "code",
   "execution_count": null,
   "id": "1885821d",
   "metadata": {},
   "outputs": [],
   "source": [
    "def search1(L, e):\n",
    "    for i in L:\n",
    "        if i == e:\n",
    "            return True\n",
    "        if i > e:\n",
    "            return False\n",
    "    return False"
   ]
  },
  {
   "cell_type": "code",
   "execution_count": null,
   "id": "bd5a43b7",
   "metadata": {},
   "outputs": [],
   "source": [
    "def search2(L, e):\n",
    "    for i in L:\n",
    "        if i == e:\n",
    "            return True\n",
    "        elif i > e:\n",
    "            return False\n",
    "    return False"
   ]
  },
  {
   "cell_type": "code",
   "execution_count": null,
   "id": "e9ab1c0a",
   "metadata": {},
   "outputs": [],
   "source": [
    "L=[1, 2, 3, 4, 5]\n",
    "search2(L, 6)"
   ]
  },
  {
   "cell_type": "code",
   "execution_count": null,
   "id": "2d03755a",
   "metadata": {},
   "outputs": [],
   "source": [
    "def play_game():\n",
    "    score=0\n",
    "    health=100\n",
    "    shots=20\n",
    "    damage=5\n",
    "    damages=10\n",
    "    passcodes=[1, 2, 3]\n",
    "    while shots>0 and health>0:\n",
    "        passcode=randint(1, 3)\n",
    "        password=int(input('Enter integer from 1 to 3'))\n",
    "        password1=int(input('Enter a different integer from 1 to 3'))\n",
    "        if passcode==password:\n",
    "            print('Direct shot')\n",
    "            health-=damages\n",
    "        elif password1==passcode:\n",
    "            print('Hit')\n",
    "            health-=damage\n",
    "        else:\n",
    "            print('Missed')\n",
    "        shots-=1\n",
    "        print(health)\n",
    "        print(shots)\n",
    "    if health<=0:\n",
    "        print('You won')\n",
    "    elif shots==0:\n",
    "        print('You died')"
   ]
  },
  {
   "cell_type": "code",
   "execution_count": null,
   "id": "1d183f99",
   "metadata": {},
   "outputs": [],
   "source": [
    "from random import *\n",
    "play_game()"
   ]
  },
  {
   "cell_type": "code",
   "execution_count": null,
   "id": "ffd80d40",
   "metadata": {},
   "outputs": [],
   "source": [
    "def selSort(L):\n",
    "    for i in range(len(L) - 1):\n",
    "        minIndx = i\n",
    "        minVal = L[i]\n",
    "        j = i+1\n",
    "        while j < len(L):\n",
    "            if minVal > L[j]:\n",
    "                minIndx = j\n",
    "                minVal = L[j]\n",
    "            j += 1\n",
    "        if minIndx != i:\n",
    "            temp = L[i]\n",
    "            L[i] = L[minIndx]\n",
    "            L[minIndx] = temp"
   ]
  },
  {
   "cell_type": "code",
   "execution_count": null,
   "id": "8fd03dc3",
   "metadata": {},
   "outputs": [],
   "source": [
    "def newSort(L):\n",
    "    for i in range(len(L) - 1):\n",
    "        j=i+1\n",
    "        while j < len(L):\n",
    "            if L[i] > L[j]:\n",
    "                temp = L[i]\n",
    "                L[i] = L[j]\n",
    "                L[j] = temp\n",
    "            j += 1"
   ]
  },
  {
   "cell_type": "code",
   "execution_count": null,
   "id": "efc484a9",
   "metadata": {},
   "outputs": [],
   "source": [
    "def newSort(L):\n",
    "    for i in range(len(L) - 1):\n",
    "        j=i+1\n",
    "        while j < len(L):\n",
    "            if L[i] > L[j]:\n",
    "                temp = L[i]\n",
    "                L[i] = L[j]\n",
    "                L[j] = temp\n",
    "            j += 1"
   ]
  },
  {
   "cell_type": "code",
   "execution_count": null,
   "id": "55236208",
   "metadata": {},
   "outputs": [],
   "source": [
    "def merge(left, right):\n",
    "    result=[]\n",
    "    i, j=0, 0\n",
    "    while i<len(left) and j<len(right):\n",
    "        if left[i]<right[j]:\n",
    "            result.append(left[i])\n",
    "            i+=1\n",
    "        else:\n",
    "            result.append(right[j])\n",
    "            j+=1\n",
    "    while (i<len(left)):\n",
    "        result.append(left[i])\n",
    "        i+=1\n",
    "    while (j<len(right)):\n",
    "        result.append(right[j])\n",
    "        j+=1\n",
    "    return result"
   ]
  },
  {
   "cell_type": "code",
   "execution_count": 73,
   "id": "6c2d6b67",
   "metadata": {},
   "outputs": [],
   "source": [
    "def bubble_sort(L):\n",
    "    swap = True\n",
    "    while swap:\n",
    "        swap = False\n",
    "        for j in range(1, len(L)):\n",
    "            if L[j - 1] > L[j]:\n",
    "                swap = True\n",
    "                # Swap elements\n",
    "                L[j - 1], L[j] = L[j], L[j - 1]"
   ]
  },
  {
   "cell_type": "code",
   "execution_count": null,
   "id": "2aa669ea",
   "metadata": {},
   "outputs": [],
   "source": [
    "left=[1, 9, 4, 7, 3, 8, 0]\n",
    "right=[6, 2, 9, 4, 3, 0, 1, 8, 5]\n",
    "merge(left, right)"
   ]
  },
  {
   "cell_type": "code",
   "execution_count": null,
   "id": "f8b03601",
   "metadata": {},
   "outputs": [],
   "source": [
    "# The 6.00 Word Game\n",
    "import random\n",
    "import string\n",
    "\n",
    "VOWELS = 'aeiou'\n",
    "CONSONANTS = 'bcdfghjklmnpqrstvwxyz'\n",
    "HAND_SIZE = 7\n",
    "\n",
    "SCRABBLE_LETTER_VALUES = {\n",
    "    'a': 1, 'b': 3, 'c': 3, 'd': 2, 'e': 1, 'f': 4, 'g': 2, 'h': 4, 'i': 1, 'j': 8, 'k': 5, 'l': 1, 'm': 3, 'n': 1, 'o': 1, 'p': 3, 'q': 10, 'r': 1, 's': 1, 't': 1, 'u': 1, 'v': 4, 'w': 4, 'x': 8, 'y': 4, 'z': 10\n",
    "}\n",
    "Letters=['e', 'e', 'e', 'e', 'e', 'e', 'e', 'e', 'e', 'e', 'e', 'e', 'a', 'a', 'a', 'a', 'a', 'a', 'a', 'a', 'a', 'i', 'i', 'i', 'i', 'i', 'i', 'i', 'i', 'i', 'o', 'o', 'o', 'o', 'o', 'o', 'o', 'o', 'n', 'n', 'n', 'n', 'n', 'n', 'r', 'r', 'r', 'r', 'r', 'r', 't', 't', 't', 't', 't', 't', 'l', 'l', 'l', 'l', 's', 's', 's', 's', 'u', 'u', 'u', 'u', 'd', 'd', 'd', 'd', 'g', 'g', 'g', 'b', 'b', 'c', 'c', 'm', 'm', 'p', 'p', 'f', 'f', 'h', 'h', 'v', 'v', 'w', 'w', 'y', 'y', 'k', 'j', 'x', 'q', 'z']\n",
    "# -----------------------------------\n",
    "# Helper code\n",
    "# (you don't need to understand this helper code)\n",
    "WORDLIST_FILENAME = \"words.txt\"\n",
    "\n",
    "def loadWords():\n",
    "    \"\"\"\n",
    "    Returns a list of valid words. Words are strings of lowercase letters.\n",
    "    \n",
    "    Depending on the size of the word list, this function may\n",
    "    take a while to finish.\n",
    "    \"\"\"\n",
    "    print(\"Loading word list from file...\")\n",
    "    # inFile: file\n",
    "    inFile = open('words.txt', 'r')\n",
    "    # wordList: list of strings\n",
    "    wordList = []\n",
    "    for line in inFile:\n",
    "        wordList.append(line.strip().lower())\n",
    "    print(\"  \", len(wordList), \"words loaded.\")\n",
    "    return wordList\n",
    "\n",
    "def getFrequencyDict(sequence):\n",
    "    \"\"\"\n",
    "    Returns a dictionary where the keys are elements of the sequence\n",
    "    and the values are integer counts, for the number of times that\n",
    "    an element is repeated in the sequence.\n",
    "\n",
    "    sequence: string or list\n",
    "    return: dictionary\n",
    "    \"\"\"\n",
    "    # freqs: dictionary (element_type -> int)\n",
    "    freq = {}\n",
    "    for x in sequence:\n",
    "        freq[x] = freq.get(x,0) + 1\n",
    "    return freq\n",
    "# (end of helper code)\n",
    "# -----------------------------------\n",
    "#\n",
    "def getWordScore(word, n):\n",
    "    \"\"\"\n",
    "    Returns the score for a word. Assumes the word is a valid word.\n",
    "\n",
    "    The score for a word is the sum of the points for letters in the\n",
    "    word, multiplied by the length of the word, PLUS 50 points if all n\n",
    "    letters are used on the first turn.\n",
    "\n",
    "    Letters are scored as in Scrabble; A is worth 1, B is worth 3, C is\n",
    "    worth 3, D is worth 2, E is worth 1, and so on (see SCRABBLE_LETTER_VALUES)\n",
    "\n",
    "    word: string (lowercase letters)\n",
    "    n: integer (HAND_SIZE; i.e., hand size required for additional points)\n",
    "    returns: int >= 0\n",
    "    \"\"\"\n",
    "    # TO DO ... <-- Remove this comment when you code this function\n",
    "    score=0\n",
    "    word.lower()\n",
    "    for char in word:\n",
    "        score+=SCRABBLE_LETTER_VALUES[char]\n",
    "    score*=len(word)\n",
    "    if len(word)==n:\n",
    "        score+=50\n",
    "    return score\n",
    "def updateHand(hand, word):\n",
    "    \"\"\"\n",
    "    Assumes that 'hand' has all the letters in word.\n",
    "    In other words, this assumes that however many times\n",
    "    a letter appears in 'word', 'hand' has at least as\n",
    "    many of that letter in it. \n",
    "\n",
    "    Updates the hand: uses up the letters in the given word\n",
    "    and returns the new hand, without those letters in it.\n",
    "\n",
    "    Has no side effects: does not modify hand.\n",
    "\n",
    "    word: string\n",
    "    hand: dictionary (string -> int)    \n",
    "    returns: dictionary (string -> int)\n",
    "    \"\"\"\n",
    "    # TO DO ... <-- Remove this comment when you code this function\n",
    "    newHand = hand.copy()  # Create a copy of the original hand dictionary\n",
    "    \n",
    "    for letter in word:\n",
    "        newHand[letter] = newHand.get(letter, 0) - 1  # Decrement the count of the letter in the new hand\n",
    "    \n",
    "    return newHand\n",
    "\n",
    "def displayHand(hand):\n",
    "    \"\"\"\n",
    "    Displays the letters currently in the hand.\n",
    "\n",
    "    For example:\n",
    "    >>> displayHand({'a':1, 'x':2, 'l':3, 'e':1})\n",
    "    Should print out something like:\n",
    "       a x x l l l e\n",
    "    The order of the letters is unimportant.\n",
    "\n",
    "    hand: dictionary (string -> int)\n",
    "    \"\"\"\n",
    "    for letter in hand.keys():\n",
    "        for j in range(hand[letter]):\n",
    "             print(letter,end=\" \")       # print all on the same line\n",
    "    print()\n",
    "\n",
    "def dealHand(n):\n",
    "    \"\"\"\n",
    "    Returns a random hand containing n lowercase letters.\n",
    "    At least n/3 the letters in the hand should be VOWELS.\n",
    "\n",
    "    Hands are represented as dictionaries. The keys are\n",
    "    letters and the values are the number of times the\n",
    "    particular letter is repeated in that hand.\n",
    "\n",
    "    n: int >= 0\n",
    "    returns: dictionary (string -> int)\n",
    "    \"\"\"\n",
    "    hand={}\n",
    "    \n",
    "    for i in range(n):\n",
    "        x = Letters[random.randint(0,97)]\n",
    "        hand[x] = hand.get(x, 0) + 1\n",
    "    return hand\n",
    "\n",
    "import copy\n",
    "def isValidWord(word, hand, wordList):\n",
    "    \"\"\"\n",
    "    Returns True if word is in the wordList and is entirely\n",
    "    composed of letters in the hand. Otherwise, returns False.\n",
    "    Does not mutate hand or wordList.\n",
    "\n",
    "    word: string\n",
    "    hand: dictionary (string -> int)\n",
    "    wordList: list of lowercase strings\n",
    "    \"\"\"\n",
    "    hand_new = copy.deepcopy(hand)\n",
    "    \n",
    "    if word not in wordList:\n",
    "        return False\n",
    "    \n",
    "    for char in word:\n",
    "        if char not in hand_new or hand_new[char] == 0:\n",
    "            return False\n",
    "        hand_new[char] -= 1\n",
    "    \n",
    "    return True\n",
    "def calculateHandlen(hand):\n",
    "    \"\"\" \n",
    "    Returns the length (number of letters) in the current hand.\n",
    "    \n",
    "    hand: dictionary (string int)\n",
    "    returns: integer\n",
    "    \"\"\"\n",
    "    length = 0\n",
    "    for letter in hand:\n",
    "        length += hand[letter]\n",
    "    return length\n",
    "def playHand(hand, wordList, n):\n",
    "    total_score = 0\n",
    "    \n",
    "    while calculateHandlen(hand) > 0:\n",
    "        print(\"Current Hand:\", end=\" \")\n",
    "        displayHand(hand)\n",
    "        \n",
    "        word = input('Enter word, or a \".\" to indicate that you are finished: ')\n",
    "        \n",
    "        if word == '.':\n",
    "            break\n",
    "        \n",
    "        if not isValidWord(word, hand, wordList):\n",
    "            print(\"Invalid word, please try again.\")\n",
    "            continue\n",
    "        \n",
    "        score = getWordScore(word, n)\n",
    "        total_score += score\n",
    "        print('\"{}\" earned {} points. Total: {} points'.format(word, score, total_score))\n",
    "        \n",
    "        hand = updateHand(hand, word)\n",
    "    \n",
    "    print(\"Total score:\", total_score)"
   ]
  },
  {
   "cell_type": "code",
   "execution_count": null,
   "id": "c4d86d93",
   "metadata": {},
   "outputs": [],
   "source": [
    "hand={'p':2, 'n':4, 'e':1, 'u':2, 'm':2, 'o':9, 'l':3, 't':1, 'r':2, 'a':2, 'i':6, 'c':6, 's':4, 'v':1}\n",
    "wordList = \"words2.txt\" \n",
    "playHand(hand, wordList, 45)"
   ]
  },
  {
   "cell_type": "code",
   "execution_count": null,
   "id": "0070f95c",
   "metadata": {},
   "outputs": [],
   "source": [
    "from random import *\n",
    "def pick_3():\n",
    "    num=[1, 2, 3, 4, 5, 6, 7, 8, 9, 0]\n",
    "    win_num=[]\n",
    "    num1=num[:]\n",
    "    your_num=[]\n",
    "    winnings=0\n",
    "    for i in range(3):\n",
    "        your_num.append(num[int(random()*len(num1))])\n",
    "        num1.remove(your_num[len(your_num)-1])\n",
    "    your_sort=bubble_sort(your_num)\n",
    "    for i in range(1000):\n",
    "        for i in range(3):\n",
    "            win_num.append(num[int(random()*len(num))])\n",
    "            num.remove(win_num[len(win_num)-1])\n",
    "        win_sort=bubble_sort(win_num)\n",
    "        if win_sort==your_sort:\n",
    "            winnings+=50\n",
    "        elif your_sort[0] in win_sort and your_sort[1] in win_sort:\n",
    "            winnings+=5\n",
    "        elif your_sort[0] in win_sort and your_sort[2] in win_sort:\n",
    "            winnings+=5\n",
    "        elif your_sort[1] in win_sort and your_sort[2] in win_sort:\n",
    "            winnings+=5\n",
    "        elif your_sort[0] in win_sort:\n",
    "            winnings+=1\n",
    "        elif your_sort[1] in win_sort:\n",
    "            winnings+=1\n",
    "        elif your_sort[2] in win_sort:\n",
    "            winnings+=1\n",
    "    print(winnings)"
   ]
  },
  {
   "cell_type": "code",
   "execution_count": null,
   "id": "48957040",
   "metadata": {},
   "outputs": [],
   "source": [
    "from random import *\n",
    "pick_3()"
   ]
  },
  {
   "cell_type": "code",
   "execution_count": null,
   "id": "e19d80d5",
   "metadata": {},
   "outputs": [],
   "source": [
    "import copy\n",
    "import random\n",
    "def pick_2():\n",
    "    num=[1, 2, 3, 4, 5]\n",
    "    num1=copy.deepcopy(num)\n",
    "    winnings=0\n",
    "    win_num=0\n",
    "    your_num=0\n",
    "    your_num.append(randint(1, 5))\n",
    "    num.remove(your_num[0])\n",
    "    your_num.append(randint(1, 5))\n",
    "    num.remove(your_num[1])\n",
    "    "
   ]
  },
  {
   "cell_type": "code",
   "execution_count": null,
   "id": "8d3f6b76",
   "metadata": {},
   "outputs": [],
   "source": [
    "def multlist(m, n):\n",
    "    '''\n",
    "    m is the multiplication factor\n",
    "    n is a list.\n",
    "    '''\n",
    "    result = []\n",
    "    for i in range(len(n)):\n",
    "        result.append(m*n[i])\n",
    "    return result   "
   ]
  },
  {
   "cell_type": "code",
   "execution_count": null,
   "id": "ca3ef3e9",
   "metadata": {},
   "outputs": [],
   "source": [
    "m=5\n",
    "n=[1, 8, 3, 0, 9, 4, 7]\n",
    "multlist(m, n)"
   ]
  },
  {
   "cell_type": "code",
   "execution_count": null,
   "id": "4e86df05",
   "metadata": {},
   "outputs": [],
   "source": [
    "def foo(n):\n",
    "    if n <= 1:\n",
    "        return 1\n",
    "    return foo(n/2) + 1"
   ]
  },
  {
   "cell_type": "code",
   "execution_count": null,
   "id": "5e3c3c80",
   "metadata": {},
   "outputs": [],
   "source": [
    "def genPrimes():\n",
    "    # Initialize to have 2\n",
    "    primes = [2]\n",
    "    yield 2\n",
    "    \n",
    "    x = 3  # Start checking from 3\n",
    "    \n",
    "    while True:\n",
    "        is_prime = True\n",
    "        # Check divisibility by primes less than or equal to the square root of x\n",
    "        for p in primes:\n",
    "            if p * p > x:\n",
    "                break\n",
    "            if x % p == 0:\n",
    "                is_prime = False\n",
    "                break\n",
    "                \n",
    "        if is_prime:\n",
    "            yield x\n",
    "            primes.append(x)\n",
    "            \n",
    "        x += 2  # Check only odd numbers to skip even numbers\n",
    "    \n",
    "# Example usage:\n",
    "prime_generator = genPrimes()\n",
    "for _ in range(100000):\n",
    "    print(next(prime_generator))\n"
   ]
  },
  {
   "cell_type": "markdown",
   "id": "9410bb4e",
   "metadata": {},
   "source": [
    "### Plotting"
   ]
  },
  {
   "cell_type": "code",
   "execution_count": null,
   "id": "9756477c",
   "metadata": {},
   "outputs": [],
   "source": [
    "import pylab as plt\n",
    "\n",
    "mySamples = []\n",
    "myLinear = []\n",
    "myQuadratic = []\n",
    "myCubic = []\n",
    "myExponential = []\n",
    "\n",
    "for i in range(0, 30):\n",
    "    mySamples.append(i)\n",
    "    myLinear.append(i)\n",
    "    myQuadratic.append(i**2)\n",
    "    myCubic.append(i**3)\n",
    "    myExponential.append(1.5**i)\n",
    "plt.figure('lin')\n",
    "plt.clf()\n",
    "plt.title('linear')\n",
    "plt.xlabel('sample points')\n",
    "plt.ylabel('linear function')\n",
    "plt.plot(mySamples, myLinear, label='linear')\n",
    "plt.legend()\n",
    "plt.show()\n",
    "plt.figure('quad')\n",
    "plt.clf()\n",
    "plt.title('quadratic')\n",
    "plt.xlabel('sample points')\n",
    "plt.ylabel('quadratic function')\n",
    "plt.plot(mySamples, myQuadratic, label='quadratic')\n",
    "plt.legend()\n",
    "plt.show()\n",
    "plt.figure('cube')\n",
    "plt.clf()\n",
    "plt.title('cubic')\n",
    "plt.xlabel('sample points')\n",
    "plt.ylabel('cubic function')\n",
    "plt.plot(mySamples, myCubic, label='cubic')\n",
    "plt.legend()\n",
    "plt.show()\n",
    "plt.figure('expo')\n",
    "plt.clf()\n",
    "plt.title('exponential')\n",
    "plt.xlabel('sample points')\n",
    "plt.ylabel('exponential function')\n",
    "plt.plot(mySamples, myExponential, label='exponential')\n",
    "plt.legend()\n",
    "plt.show()\n",
    "plt.figure('lin vs quad')\n",
    "plt.title('linear vs quadratic')\n",
    "plt.xlabel('sample points')\n",
    "plt.ylabel('functions')\n",
    "plt.plot(mySamples, myLinear, label='linear')\n",
    "plt.plot(mySamples, myQuadratic, label='quadratic')\n",
    "plt.legend()\n",
    "plt.show()\n",
    "plt.figure('cube vs expo')\n",
    "plt.title('cubic vs exponential')\n",
    "plt.xlabel('sample points')\n",
    "plt.ylabel('functions')\n",
    "plt.plot(mySamples, myCubic, label='cubic')\n",
    "plt.plot(mySamples, myExponential, label='exponential')\n",
    "plt.legend()\n",
    "plt.show()\n",
    "plt.figure('quad vs cube')\n",
    "plt.title('quadratic vs cubic')\n",
    "plt.xlabel('sample points')\n",
    "plt.ylabel('functions')\n",
    "plt.plot(mySamples, myQuadratic, label='quadratic')\n",
    "plt.plot(mySamples, myCubic, label='cubic')\n",
    "plt.legend()\n",
    "plt.show()"
   ]
  },
  {
   "cell_type": "code",
   "execution_count": null,
   "id": "ba1a48e5",
   "metadata": {},
   "outputs": [],
   "source": [
    "def retire(monthly, rate, terms):\n",
    "    savings=[0]\n",
    "    base=[0]\n",
    "    mRate=rate/12\n",
    "    for i in range(terms):\n",
    "        base+=[i]\n",
    "        savings+=[savings[-1]*(1+mRate)+monthly]\n",
    "    return base, savings"
   ]
  },
  {
   "cell_type": "code",
   "execution_count": null,
   "id": "8322fdce",
   "metadata": {},
   "outputs": [],
   "source": [
    "retire(300, 0.055, 120)"
   ]
  },
  {
   "cell_type": "markdown",
   "id": "1edf6eef",
   "metadata": {},
   "source": [
    "### Final Exam"
   ]
  },
  {
   "cell_type": "code",
   "execution_count": 5,
   "id": "98f0aca6",
   "metadata": {},
   "outputs": [
    {
     "data": {
      "text/plain": [
       "list"
      ]
     },
     "execution_count": 5,
     "metadata": {},
     "output_type": "execute_result"
    }
   ],
   "source": [
    "L = [1,2,3]\n",
    "type(L)"
   ]
  },
  {
   "cell_type": "code",
   "execution_count": 5,
   "id": "2522797b",
   "metadata": {},
   "outputs": [],
   "source": [
    "def is_triangular(k):\n",
    "    \"\"\"\n",
    "    k, a positive integer\n",
    "    returns True if k is triangular or False if not\n",
    "    \"\"\"\n",
    "    n=1\n",
    "    while k>0:\n",
    "        k-=n\n",
    "        n+=1\n",
    "    if k==0:\n",
    "        return True\n",
    "    else:\n",
    "        return False"
   ]
  },
  {
   "cell_type": "code",
   "execution_count": 4,
   "id": "eeb5693d",
   "metadata": {},
   "outputs": [
    {
     "data": {
      "text/plain": [
       "False"
      ]
     },
     "execution_count": 4,
     "metadata": {},
     "output_type": "execute_result"
    }
   ],
   "source": [
    "is_triangular(8)"
   ]
  },
  {
   "cell_type": "code",
   "execution_count": 64,
   "id": "e6d45cf5",
   "metadata": {},
   "outputs": [],
   "source": [
    "def longest_run(L):\n",
    "    current_run=[]\n",
    "    long_run=[]\n",
    "    n=0\n",
    "    if len(L)==0:\n",
    "        return 0\n",
    "    elif len(L)==1:\n",
    "        return L[0]\n",
    "    else:\n",
    "        while n<len(L)-1:\n",
    "            try:\n",
    "                while L[n+1]==L[n]:\n",
    "                    n+=1\n",
    "                    current_run.append(L[n])\n",
    "                if L[n+1]>L[n]:\n",
    "                    while L[n+1]>=L[n]:\n",
    "                        current_run.append(L[n])\n",
    "                        n+=1\n",
    "                    current_run.append(L[n+1])\n",
    "                    print(current_run)\n",
    "                    print(long_run)\n",
    "                else:\n",
    "                    while L[n+1]<=L[n]:\n",
    "                        current_run.append(L[n])\n",
    "                        n+=1\n",
    "                    current_run.append(L[n+1])\n",
    "                    print(current_run)\n",
    "                    print(long_run)\n",
    "            except IndexError:\n",
    "                pass\n",
    "            if len(current_run)>len(long_run):\n",
    "                long_run=current_run\n",
    "                current_run=[]\n",
    "            sum_run=sum(long_run)+L[len(L)-1]\n",
    "        return sum_run"
   ]
  },
  {
   "cell_type": "code",
   "execution_count": 66,
   "id": "f1624d97",
   "metadata": {},
   "outputs": [
    {
     "data": {
      "text/plain": [
       "18"
      ]
     },
     "execution_count": 66,
     "metadata": {},
     "output_type": "execute_result"
    }
   ],
   "source": [
    "L=[1, 8, 9]\n",
    "longest_run(L)"
   ]
  },
  {
   "cell_type": "code",
   "execution_count": 67,
   "id": "11e5f2df",
   "metadata": {},
   "outputs": [],
   "source": [
    "def search(L, e):\n",
    "    \"\"\"Assumes L is a list, the elements of which are in\n",
    "    ascending order.\n",
    "    Returns True if e is in L and False otherwise\"\"\"\n",
    "    for i in range(len(L)):\n",
    "        if L[i] == e:\n",
    "            return True\n",
    "        if L[i] > e:\n",
    "            return False\n",
    "    return False"
   ]
  },
  {
   "cell_type": "code",
   "execution_count": 80,
   "id": "b69a9bcb",
   "metadata": {},
   "outputs": [],
   "source": [
    "def f(n):\n",
    "    def g(m):\n",
    "        m = 0\n",
    "        for i in range(m):\n",
    "            print(m)\n",
    "    for i in range(n):\n",
    "        print(g(n))"
   ]
  },
  {
   "cell_type": "code",
   "execution_count": 74,
   "id": "8161e8c2",
   "metadata": {},
   "outputs": [
    {
     "ename": "TypeError",
     "evalue": "object of type 'NoneType' has no len()",
     "output_type": "error",
     "traceback": [
      "\u001b[1;31m---------------------------------------------------------------------------\u001b[0m",
      "\u001b[1;31mTypeError\u001b[0m                                 Traceback (most recent call last)",
      "Cell \u001b[1;32mIn[74], line 4\u001b[0m\n\u001b[0;32m      2\u001b[0m L_s\u001b[38;5;241m=\u001b[39mbubble_sort(L)\n\u001b[0;32m      3\u001b[0m e\u001b[38;5;241m=\u001b[39m\u001b[38;5;241m3\u001b[39m\n\u001b[1;32m----> 4\u001b[0m \u001b[43msearch\u001b[49m\u001b[43m(\u001b[49m\u001b[43mL_s\u001b[49m\u001b[43m,\u001b[49m\u001b[43m \u001b[49m\u001b[43me\u001b[49m\u001b[43m)\u001b[49m\n",
      "Cell \u001b[1;32mIn[67], line 5\u001b[0m, in \u001b[0;36msearch\u001b[1;34m(L, e)\u001b[0m\n\u001b[0;32m      1\u001b[0m \u001b[38;5;28;01mdef\u001b[39;00m \u001b[38;5;21msearch\u001b[39m(L, e):\n\u001b[0;32m      2\u001b[0m     \u001b[38;5;124;03m\"\"\"Assumes L is a list, the elements of which are in\u001b[39;00m\n\u001b[0;32m      3\u001b[0m \u001b[38;5;124;03m    ascending order.\u001b[39;00m\n\u001b[0;32m      4\u001b[0m \u001b[38;5;124;03m    Returns True if e is in L and False otherwise\"\"\"\u001b[39;00m\n\u001b[1;32m----> 5\u001b[0m     \u001b[38;5;28;01mfor\u001b[39;00m i \u001b[38;5;129;01min\u001b[39;00m \u001b[38;5;28mrange\u001b[39m(\u001b[38;5;28;43mlen\u001b[39;49m\u001b[43m(\u001b[49m\u001b[43mL\u001b[49m\u001b[43m)\u001b[49m):\n\u001b[0;32m      6\u001b[0m         \u001b[38;5;28;01mif\u001b[39;00m L[i] \u001b[38;5;241m==\u001b[39m e:\n\u001b[0;32m      7\u001b[0m             \u001b[38;5;28;01mreturn\u001b[39;00m \u001b[38;5;28;01mTrue\u001b[39;00m\n",
      "\u001b[1;31mTypeError\u001b[0m: object of type 'NoneType' has no len()"
     ]
    }
   ],
   "source": [
    "L=[1, 8, 3, 9, 32, 0, 2, 4]\n",
    "L_s=bubble_sort(L)\n",
    "e=3\n",
    "search(L_s, e)"
   ]
  },
  {
   "cell_type": "code",
   "execution_count": 7,
   "id": "35ba1ed7",
   "metadata": {},
   "outputs": [],
   "source": [
    "class Person(object):     \n",
    "    def __init__(self, name):         \n",
    "        self.name = name     \n",
    "    def say(self, stuff):         \n",
    "        return self.name + ' says: ' + stuff     \n",
    "    def __str__(self):         \n",
    "        return self.name  \n",
    "\n",
    "class Lecturer(Person):     \n",
    "    def lecture(self, stuff):         \n",
    "        return 'I believe that ' + Person.say(self, stuff)  \n",
    "\n",
    "class Professor(Lecturer): \n",
    "    def say(self, stuff): \n",
    "        return self.name + ' says: ' + self.lecture(stuff)\n",
    "\n",
    "class ArrogantProfessor(Professor):\n",
    "    def say (self, stuff):\n",
    "        return self.name+' says: It is obvious that '+Person.say(self, stuff)\n",
    "    def lecture(self, stuff):\n",
    "        return 'It is obvious that '+ Person.say(self, stuff)"
   ]
  },
  {
   "cell_type": "code",
   "execution_count": 8,
   "id": "6389569c",
   "metadata": {},
   "outputs": [],
   "source": [
    "j=Person('jonny')\n",
    "lj=Lecturer('jonny')\n",
    "pj=Professor('jonny')\n",
    "aj=ArrogantProfessor('jonny')"
   ]
  },
  {
   "cell_type": "code",
   "execution_count": 9,
   "id": "2ceaebaa",
   "metadata": {},
   "outputs": [
    {
     "data": {
      "text/plain": [
       "'jonny says: the sky is blue'"
      ]
     },
     "execution_count": 9,
     "metadata": {},
     "output_type": "execute_result"
    }
   ],
   "source": [
    "j.say('the sky is blue')"
   ]
  },
  {
   "cell_type": "code",
   "execution_count": 10,
   "id": "bdb2d3fa",
   "metadata": {},
   "outputs": [
    {
     "data": {
      "text/plain": [
       "'jonny'"
      ]
     },
     "execution_count": 10,
     "metadata": {},
     "output_type": "execute_result"
    }
   ],
   "source": [
    "j.name"
   ]
  },
  {
   "cell_type": "code",
   "execution_count": 11,
   "id": "0f840edf",
   "metadata": {},
   "outputs": [
    {
     "data": {
      "text/plain": [
       "'jonny says: the sky is blue'"
      ]
     },
     "execution_count": 11,
     "metadata": {},
     "output_type": "execute_result"
    }
   ],
   "source": [
    "lj.say('the sky is blue')"
   ]
  },
  {
   "cell_type": "code",
   "execution_count": 12,
   "id": "2e544678",
   "metadata": {},
   "outputs": [
    {
     "data": {
      "text/plain": [
       "'I believe that jonny says: the sky is blue'"
      ]
     },
     "execution_count": 12,
     "metadata": {},
     "output_type": "execute_result"
    }
   ],
   "source": [
    "lj.lecture('the sky is blue')"
   ]
  },
  {
   "cell_type": "code",
   "execution_count": 13,
   "id": "ce952d02",
   "metadata": {},
   "outputs": [
    {
     "data": {
      "text/plain": [
       "'jonny says: I believe that jonny says: the sky is blue'"
      ]
     },
     "execution_count": 13,
     "metadata": {},
     "output_type": "execute_result"
    }
   ],
   "source": [
    "pj.say('the sky is blue')"
   ]
  },
  {
   "cell_type": "code",
   "execution_count": 14,
   "id": "599e0a05",
   "metadata": {},
   "outputs": [
    {
     "data": {
      "text/plain": [
       "'I believe that jonny says: the sky is blue'"
      ]
     },
     "execution_count": 14,
     "metadata": {},
     "output_type": "execute_result"
    }
   ],
   "source": [
    "pj.lecture('the sky is blue')"
   ]
  },
  {
   "cell_type": "code",
   "execution_count": 15,
   "id": "9323e5f1",
   "metadata": {},
   "outputs": [
    {
     "data": {
      "text/plain": [
       "'jonny says: It is obvious that jonny says: the sky is blue'"
      ]
     },
     "execution_count": 15,
     "metadata": {},
     "output_type": "execute_result"
    }
   ],
   "source": [
    "aj.say('the sky is blue')"
   ]
  },
  {
   "cell_type": "code",
   "execution_count": 16,
   "id": "0f7afd33",
   "metadata": {},
   "outputs": [
    {
     "data": {
      "text/plain": [
       "'It is obvious that jonny says: the sky is blue'"
      ]
     },
     "execution_count": 16,
     "metadata": {},
     "output_type": "execute_result"
    }
   ],
   "source": [
    "aj.lecture('the sky is blue')"
   ]
  },
  {
   "cell_type": "code",
   "execution_count": 18,
   "id": "7e8b8a02",
   "metadata": {},
   "outputs": [],
   "source": [
    "def cipher(map_from, map_to, code):\n",
    "    key_code = {}  # Step 1: Create an empty dictionary for mapping\n",
    "    decoded = \"\"   # Initialize an empty string for the decoded result\n",
    "\n",
    "    # Step 2: Build the key_code dictionary\n",
    "    for i in range(len(map_from)):\n",
    "        key_code[map_from[i]] = map_to[i]\n",
    "\n",
    "    # Step 3: Decode the input code using the key_code mapping\n",
    "    for letter in code:\n",
    "        decoded += key_code[letter]\n",
    "\n",
    "    return (key_code, decoded)  # Return the tuple of key_code and decoded result"
   ]
  },
  {
   "cell_type": "code",
   "execution_count": 21,
   "id": "2be305bb",
   "metadata": {},
   "outputs": [
    {
     "data": {
      "text/plain": [
       "({'a': 'A',\n",
       "  'b': 'B',\n",
       "  'c': 'C',\n",
       "  'd': 'D',\n",
       "  'e': 'E',\n",
       "  'f': 'F',\n",
       "  'g': 'G',\n",
       "  'h': 'H',\n",
       "  'i': 'I',\n",
       "  'j': 'J',\n",
       "  'k': 'K',\n",
       "  'l': 'L',\n",
       "  'm': 'M',\n",
       "  'n': 'N',\n",
       "  'o': 'O',\n",
       "  'p': 'P',\n",
       "  'q': 'Q',\n",
       "  'r': 'R',\n",
       "  's': 'S',\n",
       "  't': 'T',\n",
       "  'u': 'U',\n",
       "  'v': 'V',\n",
       "  'w': 'W',\n",
       "  'x': 'X',\n",
       "  'y': 'Y',\n",
       "  'z': 'Z'},\n",
       " 'PNEUMONOULTRAMICROSCOPICSILICOVOLCANOCONIOSIS')"
      ]
     },
     "execution_count": 21,
     "metadata": {},
     "output_type": "execute_result"
    }
   ],
   "source": [
    "import string\n",
    "map_from=string.ascii_lowercase\n",
    "map_to=string.ascii_uppercase\n",
    "code='pneumonoultramicroscopicsilicovolcanoconiosis'\n",
    "cipher(map_from, map_to, code)"
   ]
  },
  {
   "cell_type": "code",
   "execution_count": 42,
   "id": "45b1bf16",
   "metadata": {},
   "outputs": [
    {
     "ename": "KeyboardInterrupt",
     "evalue": "",
     "output_type": "error",
     "traceback": [
      "\u001b[1;31m---------------------------------------------------------------------------\u001b[0m",
      "\u001b[1;31mKeyboardInterrupt\u001b[0m                         Traceback (most recent call last)",
      "Cell \u001b[1;32mIn[42], line 8\u001b[0m\n\u001b[0;32m      6\u001b[0m times\u001b[38;5;241m=\u001b[39m\u001b[38;5;241m0\u001b[39m\n\u001b[0;32m      7\u001b[0m \u001b[38;5;28;01mwhile\u001b[39;00m \u001b[38;5;28mlen\u001b[39m(m)\u001b[38;5;241m<\u001b[39m\u001b[38;5;241m6\u001b[39m:\n\u001b[1;32m----> 8\u001b[0m     num\u001b[38;5;241m=\u001b[39m\u001b[43mrandom\u001b[49m\u001b[38;5;241;43m.\u001b[39;49m\u001b[43mrandint\u001b[49m\u001b[43m(\u001b[49m\u001b[38;5;241;43m1\u001b[39;49m\u001b[43m,\u001b[49m\u001b[43m \u001b[49m\u001b[38;5;241;43m45\u001b[39;49m\u001b[43m)\u001b[49m\n\u001b[0;32m      9\u001b[0m     \u001b[38;5;28;01mif\u001b[39;00m num \u001b[38;5;129;01min\u001b[39;00m m:\n\u001b[0;32m     10\u001b[0m         isin\u001b[38;5;241m=\u001b[39m\u001b[38;5;28;01mTrue\u001b[39;00m\n",
      "File \u001b[1;32mc:\\ProgramData\\anaconda3\\lib\\random.py:370\u001b[0m, in \u001b[0;36mRandom.randint\u001b[1;34m(self, a, b)\u001b[0m\n\u001b[0;32m    366\u001b[0m \u001b[38;5;28;01mdef\u001b[39;00m \u001b[38;5;21mrandint\u001b[39m(\u001b[38;5;28mself\u001b[39m, a, b):\n\u001b[0;32m    367\u001b[0m     \u001b[38;5;124;03m\"\"\"Return random integer in range [a, b], including both end points.\u001b[39;00m\n\u001b[0;32m    368\u001b[0m \u001b[38;5;124;03m    \"\"\"\u001b[39;00m\n\u001b[1;32m--> 370\u001b[0m     \u001b[38;5;28;01mreturn\u001b[39;00m \u001b[38;5;28;43mself\u001b[39;49m\u001b[38;5;241;43m.\u001b[39;49m\u001b[43mrandrange\u001b[49m\u001b[43m(\u001b[49m\u001b[43ma\u001b[49m\u001b[43m,\u001b[49m\u001b[43m \u001b[49m\u001b[43mb\u001b[49m\u001b[38;5;241;43m+\u001b[39;49m\u001b[38;5;241;43m1\u001b[39;49m\u001b[43m)\u001b[49m\n",
      "File \u001b[1;32mc:\\ProgramData\\anaconda3\\lib\\random.py:338\u001b[0m, in \u001b[0;36mRandom.randrange\u001b[1;34m(self, start, stop, step)\u001b[0m\n\u001b[0;32m    336\u001b[0m width \u001b[38;5;241m=\u001b[39m istop \u001b[38;5;241m-\u001b[39m istart\n\u001b[0;32m    337\u001b[0m \u001b[38;5;28;01mtry\u001b[39;00m:\n\u001b[1;32m--> 338\u001b[0m     istep \u001b[38;5;241m=\u001b[39m \u001b[43m_index\u001b[49m\u001b[43m(\u001b[49m\u001b[43mstep\u001b[49m\u001b[43m)\u001b[49m\n\u001b[0;32m    339\u001b[0m \u001b[38;5;28;01mexcept\u001b[39;00m \u001b[38;5;167;01mTypeError\u001b[39;00m:\n\u001b[0;32m    340\u001b[0m     istep \u001b[38;5;241m=\u001b[39m \u001b[38;5;28mint\u001b[39m(step)\n",
      "\u001b[1;31mKeyboardInterrupt\u001b[0m: "
     ]
    }
   ],
   "source": [
    "import random\n",
    "m=[]\n",
    "w=[]\n",
    "isin=False\n",
    "won=False\n",
    "times=0\n",
    "while len(m)<6:\n",
    "    num=random.randint(1, 45)\n",
    "    if num in m:\n",
    "        isin=True\n",
    "    if not isin:\n",
    "        m.append(num)\n",
    "isin=False\n",
    "for i in range(10000000):\n",
    "    if won==False:\n",
    "        wins=random.randint(1, 45)\n",
    "        if wins in w:\n",
    "            isin=True\n",
    "        if not isin:\n",
    "            w.append(wins)\n",
    "        if won==False:\n",
    "            times+=1\n",
    "        if m!=w:\n",
    "            pass\n",
    "        else:\n",
    "            won=True\n",
    "    else:\n",
    "        break\n",
    "if won==True:\n",
    "    print('Won')\n",
    "else:\n",
    "    print(\"Didn't win yet\")\n",
    "print(times)"
   ]
  },
  {
   "cell_type": "code",
   "execution_count": 49,
   "id": "decff0b0",
   "metadata": {},
   "outputs": [],
   "source": [
    "def longest_run(L):\n",
    "    longest_length = 1\n",
    "    current_length = 1\n",
    "    longest_sum = L[0]\n",
    "    current_sum = L[0]\n",
    "    start_index = 0\n",
    "    is_increasing = None\n",
    "\n",
    "    for i in range(1, len(L)):\n",
    "        if L[i] >= L[i - 1]:\n",
    "            if is_increasing is None or is_increasing:\n",
    "                current_length += 1\n",
    "                current_sum += L[i]\n",
    "            else:\n",
    "                current_length = 2\n",
    "                current_sum = L[i - 1] + L[i]\n",
    "                start_index = i - 1\n",
    "            is_increasing = True\n",
    "        elif L[i] <= L[i - 1]:\n",
    "            if is_increasing is None or not is_increasing:\n",
    "                current_length += 1\n",
    "                current_sum += L[i]\n",
    "            else:\n",
    "                current_length = 2\n",
    "                current_sum = L[i - 1] + L[i]\n",
    "                start_index = i - 1\n",
    "            is_increasing = False\n",
    "        else:\n",
    "            current_length += 1\n",
    "            current_sum += L[i]\n",
    "\n",
    "        if current_length > longest_length or (current_length == longest_length and start_index < longest_start):\n",
    "            longest_length = current_length\n",
    "            longest_sum = current_sum\n",
    "            longest_start = start_index\n",
    "\n",
    "    return longest_sum"
   ]
  },
  {
   "cell_type": "code",
   "execution_count": 53,
   "id": "709248d4",
   "metadata": {},
   "outputs": [
    {
     "name": "stdout",
     "output_type": "stream",
     "text": [
      "45\n",
      "6\n",
      "6\n",
      "3\n",
      "15\n",
      "55\n",
      "-6500\n"
     ]
    }
   ],
   "source": [
    "def longest_run(L):\n",
    "    longest_length = 1\n",
    "    current_length = 1\n",
    "    longest_sum = L[0]\n",
    "    current_sum = L[0]\n",
    "    start_index = 0\n",
    "    is_increasing = None\n",
    "\n",
    "    for i in range(1, len(L)):\n",
    "        if L[i] > L[i - 1]:\n",
    "            if is_increasing is None or is_increasing:\n",
    "                current_length += 1\n",
    "                current_sum += L[i]\n",
    "            else:\n",
    "                current_length = 2\n",
    "                current_sum = L[i - 1] + L[i]\n",
    "                start_index = i - 1\n",
    "            is_increasing = True\n",
    "        elif L[i] < L[i - 1]:\n",
    "            if is_increasing is None or not is_increasing:\n",
    "                current_length += 1\n",
    "                current_sum += L[i]\n",
    "            else:\n",
    "                if current_length == 1:\n",
    "                    start_index = i\n",
    "                current_length = 2\n",
    "                current_sum = L[i - 1] + L[i]\n",
    "            is_increasing = False\n",
    "        else:\n",
    "            if current_length == 1:\n",
    "                start_index = i\n",
    "            current_length += 1\n",
    "            current_sum += L[i]\n",
    "\n",
    "        if current_length > longest_length or (current_length == longest_length and start_index < longest_start):\n",
    "            longest_length = current_length\n",
    "            longest_sum = current_sum\n",
    "            longest_start = start_index\n",
    "\n",
    "    return longest_sum\n",
    "\n",
    "# Test cases\n",
    "print(longest_run([1, 2, 3, 4, 5, 6, 7, 8, 9]))  # Output: 45\n",
    "print(longest_run([1, 2, 3, 2, 1]))  # Output: 6\n",
    "print(longest_run([3, 2, 1, 2, 3]))  # Output: 6\n",
    "print(longest_run([1, 2, 1, 2, 1, 2, 1, 2, 1]))  # Output: 3\n",
    "print(longest_run([1, 2, 3, 4, 5, 0, 10, 1, 2, 3, 4, 5]))  # Output: 15\n",
    "print(longest_run([1, 2, 3, 10, 10, 9, 8, 7, 6, 5, 4, 3, 2, 1]))  # Output: 65\n",
    "print(longest_run([100, 200, 300, -100, -200, -1500, -5000]))  # Output: -6500"
   ]
  },
  {
   "cell_type": "code",
   "execution_count": 51,
   "id": "c4ed2757",
   "metadata": {},
   "outputs": [
    {
     "data": {
      "text/plain": [
       "55"
      ]
     },
     "execution_count": 51,
     "metadata": {},
     "output_type": "execute_result"
    }
   ],
   "source": [
    "longest_run([1, 2, 3, 10, 10, 9, 8, 7, 6, 5, 4, 3, 2, 1])"
   ]
  }
 ],
 "metadata": {
  "kernelspec": {
   "display_name": "base",
   "language": "python",
   "name": "python3"
  },
  "language_info": {
   "codemirror_mode": {
    "name": "ipython",
    "version": 3
   },
   "file_extension": ".py",
   "mimetype": "text/x-python",
   "name": "python",
   "nbconvert_exporter": "python",
   "pygments_lexer": "ipython3",
   "version": "3.10.9"
  }
 },
 "nbformat": 4,
 "nbformat_minor": 5
}
