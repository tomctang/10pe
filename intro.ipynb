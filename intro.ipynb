{
 "cells": [
  {
   "cell_type": "markdown",
   "metadata": {
    "id": "cW61j1Dw9ABL"
   },
   "source": [
    "# Introduction\n",
    "\n",
    "Any questions, please send me Email: jonny.tang745@education.nsw.gov.au"
   ]
  },
  {
   "cell_type": "markdown",
   "metadata": {
    "id": "vj6j6iPy9ABV"
   },
   "source": [
    "> **Project Euler (PE)**\n",
    "\n",
    "Jonny's workbook of [Project Euler](https://projecteuler.net/). Jonny loves coding and number theory, especially the PE-style (VS. CS-style) when he was 10YO. Therefore, Tom assisted him with guidance and searching hidden info and knowledge.\n",
    "\n",
    "PE problems can be solved using multiple approaches and often involve a combination of techniques.\n",
    "\n",
    "- Sometimes, I face math problems while coding is easy, e.g. 99-Largest Exponential\n",
    "- Sometimes, I face computational (or programming) problems while math is easy, e.g. 187-Semiprimes (very time-consuming)\n",
    "\n",
    "So, I need two streams of knowledge to solve PE:\n",
    "\n",
    "- Math: see **PE-Hidden-Math** where I present math by PE questions and math-topics\n",
    "- [CS or Programming](https://github.com/leduckhai/Awesome-Competitive-Programming?tab=readme-ov-file)\n",
    "\n",
    "> **A-level Math**\n",
    "\n",
    "After Jonny already went through 4U math (HSC in NSW) once, Tom chose A-level math for Jonny's review and progress, with a approach of computational coding for A-level math. In this workbook, Jonny worked on A-level and A-level further which are transitional-math between secondary and tertiary education.\n",
    "\n",
    "> **MIT-CS Courses**\n",
    "\n",
    "I already finished these two courses in 2024, and I present my notes here\n",
    "- [MITx-6.00.1x-Introduction to Computer Science and Programming Using Python](https://learning.edx.org/course/course-v1:MITx+6.00.1x+1T2024/home)\n",
    "- [MITx-6.00.2x-Introduction to Computational Thinking and Data Science](https://learning.edx.org/course/course-v1:MITx+6.00.2x+1T2024/home)\n",
    "\n",
    "> **Others**\n",
    "\n",
    "Geography, Lottery math"
   ]
  },
  {
   "cell_type": "markdown",
   "metadata": {},
   "source": [
    "\n",
    "## Software and files\n",
    "\n",
    "While a qualified coder mastering 6 programming languages (PL), how to choose PLs is really a hard decision.\n",
    "\n",
    "1. We started this workbook using **Python** in VScode:\n",
    "    1. Python (.ipynb): we start from Python, then we found [SageMath tutorial](https://doc.sagemath.org/html/en/thematic_tutorials/index.html) - the second powerful CAS (computer algebra system).\n",
    "    1. SageMath isn't a `pip`-installable package, instead it's large and requires C/Fortran/Python... lots of pre-installed environments\n",
    "        - [CoCalc (.ipynb)](https://cocalc.com/projects) online platform includes all open-source computing environments, so surprising!!\n",
    "        - [Google Colab](https://stackoverflow.com/questions/49685498/how-do-you-import-sagemath-in-google-colaboratory/77440661) can also install SageMath, but [with problems](https://github.com/demining/Install-SageMath-in-Google-Colab)\n",
    "1. We then started **Mathematica (Wolfram languages, MMA or Wolfram** after):\n",
    "    - Now, we are running Wolfram in `ipynb`-file using VScode\n",
    "    - Mathematica (.nb): the best CAS. Shall we convert .nb -> .ipynb ??\n",
    "1. Next, a PL with more FP? Ocaml? F#? Scala? Haskell? Rust? Make a comparison:\n",
    "    1. PL's Coding-look in defining a Fibonacci; 2. Which FP is best for mathematics? Haskell is NO.1, but I really don't like Haskell; 3. Math-related supports for these four languages; 4. Balance between FP and OOP; 5. Number of users in Project Euler for each PL; 6. libgen supports for each PL; 7. When the PL first appeared.\n",
    "    1. Decision: **Rust & Haskell** in the next year.\n",
    "        - Haskell in `ipynb` using [Google Colab]() and [Cocalc-Executables](https://cocalc.com/software) - I spent one day to install Haskell locally and failed:(\n",
    "            - Google endorse [Codeworld - Educational Haskell programming platform](https://code.world/) with [Github Repository](https://github.com/google/codeworld/tree/master)\n",
    "        - Rust using [CoCalc](https://cocalc.com/projects) `ipynb`. **Julia** or GNU **Octave**(Matlab alternative)??\n",
    "\n",
    "### Scientific Computing Environment (SCE)\n",
    "\n",
    "Self-installing is impossible for advanced scientific computation. For personal study, building a Scientific Computing Environment is the first step to learning programming\n",
    "\n",
    "1. Cloud Computing - **Google Colab, Cocalc, [Binder](https://mybinder.org/v2/gh/tomctang/10pe/HEAD)** - are good, but Colab and Binder require further installation (originally Python)\n",
    "1. **Docker**'s images and containers (self-maintained not self-installation) are the best\n",
    "    - I already build SageMath and IHaskell using Docker, both are in `ipynb`\n",
    "\n",
    "Science reproducibility - managing Environment and Container\n",
    "\n",
    "1. Use one environment(or Container) per project! Creating environments to accommodate specific workflows/projects — and to do so early on\n",
    "1. Containers is better, which package tools with underlying operating system, are larger and more complicated than environments, but are more portable\n"
   ]
  },
  {
   "cell_type": "markdown",
   "metadata": {
    "id": "pWioGU5SApZm"
   },
   "source": [
    "## OOP to FP\n",
    "\n",
    "We started workbook using Python in OOP (Object-oriented Programming) way, then we move to FP (Functional Programming) way in both MMA and Python.\n",
    "\n",
    "Even though both Python and Wolfram are not pure FP, they do help us understand the FP way.\n",
    "\n",
    "FP\n",
    "1. [FP books](https://old.reddit.com/r/functionalprogramming/wiki/books)\n",
    "1. [Adabeat - Ease into](https://adabeat.com/fp/ease-into-functional-programming/?_gl=1*1r4s1nz*_up*MQ..*_ga*NDgxNzc4NDQ0LjE3MzA4MTAwMTg.*_ga_6RQG15HSGT*MTczMDgxMDAxNy4xLjAuMTczMDgxMDAxNy4wLjAuMA..)\n",
    "1. [PE solutions in Java, Python, Mathematica, Haskell](https://github.com/nayuki/Project-Euler-solutions): Nayuki use OOP in Python and FP in Haskell.\n",
    "\n",
    "FP - languages\n",
    "1. [FP in Python](https://expression.readthedocs.io/en/latest/intro.html): a web-notebook for beginner.\n",
    "1. [SageMath - FP4Mathematicians](https://doc.sagemath.org/html/en/thematic_tutorials/functional_programming.html#)\n",
    "1. [FP in Wolfram](https://reference.wolfram.com/language/guide/FunctionalProgramming.html): official website.\n",
    "\n",
    "## Image & Within-citations\n",
    "\n",
    "> Image-Hosting\n",
    "\n",
    "All figures are synchronised in Tom's GitHub folder `./NB_img/`. Using codes to insert pic:\n",
    "\n",
    "`<img src=\"https://raw.githubusercontent.com/tomctang/NB_img/main/3bias.png\" alt=\"Causality-confounder\" width=\"500\">`\n",
    "\n",
    "Markdown image center:\n",
    "\n",
    "`<div align=center>![Figure. Various treatments choice for OA](https://raw.githubusercontent.com/ctang83/NB_img/main/EPS_OAtreat.jpg){width=60%}`\n",
    "\n",
    "> Within-citations\n",
    "\n",
    "Add {#mathFP} after titles, then use `[anytext](#mathFP)` in citing"
   ]
  }
 ],
 "metadata": {
  "colab": {
   "provenance": []
  },
  "kernelspec": {
   "display_name": "Wolfram Language 14",
   "language": "Wolfram Language",
   "name": "wolframlanguage14"
  },
  "language_info": {
   "codemirror_mode": "mathematica",
   "file_extension": ".m",
   "mimetype": "application/vnd.wolfram.m",
   "name": "Wolfram Language",
   "pygments_lexer": "mathematica",
   "version": "12.0"
  }
 },
 "nbformat": 4,
 "nbformat_minor": 0
}
