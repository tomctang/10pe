{
  "cells": [
    {
      "cell_type": "markdown",
      "metadata": {},
      "source": [
        "# A-Level: Mathematica Functions"
      ]
    },
    {
      "cell_type": "code",
      "metadata": {},
      "source": [
        "g=9.8;",
        "invsin[x_]:=InverseFunction[Sin][x]",
        "N[InverseFunction[Sin][1]]",
        "InverseFunction[Sin][1]//N  (*Wolfram\u559c\u6b22\u7528\u540e\u7f00\u7ebf//*)"
      ],
      "outputs": [],
      "execution_count": null
    },
    {
      "cell_type": "markdown",
      "metadata": {},
      "source": [
        "## Further Y12-2"
      ]
    },
    {
      "cell_type": "markdown",
      "metadata": {},
      "source": [
        "#### Elementary functions & Differential Equations",
        "Elementary functions are solutions to some simple Differential Equations. Given $f(x)=y$:",
        "",
        "Exponential function: $\\frac{d}{dx}f(x)=f(x) \\quad\\rightarrow\\quad sol: f(x)=e^x$",
        "",
        "Trigonometry function: $\\frac{d^2}{dx^2}f(x)=-f(x) \\quad\\rightarrow\\quad sol: f(x)=sin(x), cos(x)$",
        "",
        "$e$'s Log function: $\\quad \\frac{d}{dx}f(x)=\\frac{1}{x} \\quad\\rightarrow\\quad sol: f(x)=ln(x)$",
        "",
        "Power function: $\\quad \\frac{d}{dx}f(x)=f(x)\\frac{n}{x} \\quad\\rightarrow\\quad sol: f(x)=x^n$",
        "",
        "Hyperbolic trig: $\\quad \\frac{d^2}{dx^2}f(x)=f(x) \\quad\\rightarrow\\quad sol: f(x)=sinh(x), cosh(x)$"
      ]
    },
    {
      "cell_type": "code",
      "metadata": {},
      "source": [
        "DSolve[f'[x] == f[x], f[x], x]",
        "DSolve[q''[x] == -q[x], q[x], x]",
        "DSolve[f'[x] == 1/x, f[x], x]",
        "DSolve[f'[x] == f[x]*(n/x), f[x], x]"
      ],
      "outputs": [],
      "execution_count": null
    },
    {
      "cell_type": "markdown",
      "metadata": {},
      "source": [
        "### Module 3 - Further Differentiation and Integration"
      ]
    },
    {
      "cell_type": "markdown",
      "metadata": {},
      "source": [
        "$$\\int f'(x)g'(f(x))=g(f(x))+c$$"
      ]
    },
    {
      "cell_type": "code",
      "metadata": {},
      "source": [
        "D[Cot[x],x]",
        "D[ArcCos[x],x]",
        "Integrate[Sec[x]^2,x]",
        "D[Sin[x]^4,x]"
      ],
      "outputs": [
        {
          "items": [
            {
              "data": "<div class=\"wexpr\"><wrow><w></w><w>-</w><wsup><w></w><wrow><w></w><w>Csc</w><wrow><w></w><wb>[</wb><w>x</w><wb>]</wb></wrow></wrow><w><w>2</w></w></wsup></wrow></div>",
              "mime": "x-application/wolfram-language-html"
            },
            {
              "data": "-Csc[x]^2",
              "mime": "text/plain"
            }
          ],
          "id": "6cee9dcf-b04f-4cdc-8854-6a459e4d93a2",
          "metadata": {
            "cellLabel": "Out[322]= ",
            "isBoxData": false
          }
        },
        {
          "items": [
            {
              "data": "<div class=\"wexpr\"><wrow><w></w><w>-</w><wfrac><w><w>1</w></w><w><w></w><w><wsqrt><w><w>\\</w></w><w></w><w><wrow><w></w><w>1</w><w>-</w><wsup><w></w><w>x</w><w><w>2</w></w></wsup></wrow></w></wsqrt></w></w></wfrac></wrow></div>",
              "mime": "x-application/wolfram-language-html"
            },
            {
              "data": "-(1/Sqrt[1 - x^2])",
              "mime": "text/plain"
            }
          ],
          "id": "5961a725-5913-4182-89ed-ee0d18aa55f0",
          "metadata": {
            "cellLabel": "Out[323]= ",
            "isBoxData": false
          }
        },
        {
          "items": [
            {
              "data": "<div class=\"wexpr\"><wrow><w></w><w>Tan</w><wrow><w></w><wb>[</wb><w>x</w><wb>]</wb></wrow></wrow></div>",
              "mime": "x-application/wolfram-language-html"
            },
            {
              "data": "Tan[x]",
              "mime": "text/plain"
            }
          ],
          "id": "f48a16e6-a27a-4892-bbd2-ba0f2d92cd3e",
          "metadata": {
            "cellLabel": "Out[324]= ",
            "isBoxData": false
          }
        },
        {
          "items": [
            {
              "data": "<div class=\"wexpr\"><wrow><w></w><w>4</w><w></w><wrow><w></w><w>Cos</w><wrow><w></w><wb>[</wb><w>x</w><wb>]</wb></wrow></wrow><w></w><wsup><w></w><wrow><w></w><w>Sin</w><wrow><w></w><wb>[</wb><w>x</w><wb>]</wb></wrow></wrow><w><w>3</w></w></wsup></wrow></div>",
              "mime": "x-application/wolfram-language-html"
            },
            {
              "data": "4*Cos[x]*Sin[x]^3",
              "mime": "text/plain"
            }
          ],
          "id": "bde0e2b5-69f3-444b-82df-12568a2be2fb",
          "metadata": {
            "cellLabel": "Out[325]= ",
            "isBoxData": false
          }
        }
      ],
      "execution_count": null
    },
    {
      "cell_type": "code",
      "metadata": {},
      "source": [
        "D[Sin[1/x],x]",
        "D[Log[2x],x]",
        "D[Csc[x],x]",
        "D[ArcTan[x],x]",
        "D[Sec[x],x]"
      ],
      "outputs": [
        {
          "items": [
            {
              "data": "<div class=\"wexpr\"><wrow><w></w><w>-</w><wfrac><w><wrow><w></w><w>Cos</w><wrow><w></w><wb>[</wb><wfrac class=\"script\"><w><w>1</w></w><w><w></w><w><w>x</w></w></w></wfrac><wb>]</wb></wrow></wrow></w><w><w></w><w><wsup><w></w><w>x</w><w><w>2</w></w></wsup></w></w></wfrac></wrow></div>",
              "mime": "x-application/wolfram-language-html"
            },
            {
              "data": "-(Cos[x^(-1)]/x^2)",
              "mime": "text/plain"
            }
          ],
          "id": "e0dab716-d0ea-4bfb-b12e-54cdf03951fb",
          "metadata": {
            "cellLabel": "Out[150]= ",
            "isBoxData": false
          }
        },
        {
          "items": [
            {
              "data": "<div class=\"wexpr\"><wfrac><w><w>1</w></w><w><w></w><w><w>x</w></w></w></wfrac></div>",
              "mime": "x-application/wolfram-language-html"
            },
            {
              "data": "x^(-1)",
              "mime": "text/plain"
            }
          ],
          "id": "deb7ba01-c54c-45b1-b63f-94de8c9a0407",
          "metadata": {
            "cellLabel": "Out[151]= ",
            "isBoxData": false
          }
        },
        {
          "items": [
            {
              "data": "<div class=\"wexpr\"><wrow><w></w><wrow><w></w><w>-</w><wrow><w></w><w>Cot</w><wrow><w></w><wb>[</wb><w>x</w><wb>]</wb></wrow></wrow></wrow><w></w><wrow><w></w><w>Csc</w><wrow><w></w><wb>[</wb><w>x</w><wb>]</wb></wrow></wrow></wrow></div>",
              "mime": "x-application/wolfram-language-html"
            },
            {
              "data": "-(Cot[x]*Csc[x])",
              "mime": "text/plain"
            }
          ],
          "id": "7a14719d-fd88-4834-af28-2f511974a3f2",
          "metadata": {
            "cellLabel": "Out[152]= ",
            "isBoxData": false
          }
        },
        {
          "items": [
            {
              "data": "<div class=\"wexpr\"><wfrac><w><w>1</w></w><w><w></w><w><wrow><w></w><w>1</w><w>+</w><wsup><w></w><w>x</w><w><w>2</w></w></wsup></wrow></w></w></wfrac></div>",
              "mime": "x-application/wolfram-language-html"
            },
            {
              "data": "(1 + x^2)^(-1)",
              "mime": "text/plain"
            }
          ],
          "id": "6272d6f6-8dba-4685-9c15-0af9e30a266e",
          "metadata": {
            "cellLabel": "Out[153]= ",
            "isBoxData": false
          }
        },
        {
          "items": [
            {
              "data": "<div class=\"wexpr\"><wrow><w></w><wrow><w></w><w>Sec</w><wrow><w></w><wb>[</wb><w>x</w><wb>]</wb></wrow></wrow><w></w><wrow><w></w><w>Tan</w><wrow><w></w><wb>[</wb><w>x</w><wb>]</wb></wrow></wrow></wrow></div>",
              "mime": "x-application/wolfram-language-html"
            },
            {
              "data": "Sec[x]*Tan[x]",
              "mime": "text/plain"
            }
          ],
          "id": "ff49b577-1789-4f4c-8241-591271b79028",
          "metadata": {
            "cellLabel": "Out[154]= ",
            "isBoxData": false
          }
        }
      ],
      "execution_count": null
    },
    {
      "cell_type": "markdown",
      "metadata": {},
      "source": [
        "### Module 2 - Mathematical Induction"
      ]
    },
    {
      "cell_type": "markdown",
      "metadata": {},
      "source": [
        "For mathematical induction if $n=k$ then $n=k+1$ so if for $n=1$ the claim is true then for $\\Z_+$.",
        "",
        "For series use formula to check if $n=k+1$ will be true.",
        "",
        "For divisibility check if $u_{k+1}-u_k$ is divisible by $n$."
      ]
    },
    {
      "cell_type": "code",
      "metadata": {},
      "source": [
        "n=1",
        "n=3n+4",
        "n=3n+4",
        "n=3n+4",
        "f[x_]:=3^x-2",
        "f[1]",
        "f[2]",
        "f[3]",
        "f[4]"
      ],
      "outputs": [
        {
          "items": [
            {
              "data": "<div class=\"wexpr\"><w>1</w></div>",
              "mime": "x-application/wolfram-language-html"
            },
            {
              "data": "1",
              "mime": "text/plain"
            }
          ],
          "id": "b444501d-eeb7-4a74-8a63-6a24a04b3609",
          "metadata": {
            "cellLabel": "Out[32]= ",
            "isBoxData": false
          }
        },
        {
          "items": [
            {
              "data": "<div class=\"wexpr\"><w>7</w></div>",
              "mime": "x-application/wolfram-language-html"
            },
            {
              "data": "7",
              "mime": "text/plain"
            }
          ],
          "id": "b49dbb97-8bfb-455b-bba3-04961ce3495b",
          "metadata": {
            "cellLabel": "Out[33]= ",
            "isBoxData": false
          }
        },
        {
          "items": [
            {
              "data": "<div class=\"wexpr\"><w>25</w></div>",
              "mime": "x-application/wolfram-language-html"
            },
            {
              "data": "25",
              "mime": "text/plain"
            }
          ],
          "id": "2fa5c396-89fb-43b0-8ac7-783df2911772",
          "metadata": {
            "cellLabel": "Out[34]= ",
            "isBoxData": false
          }
        },
        {
          "items": [
            {
              "data": "<div class=\"wexpr\"><w>79</w></div>",
              "mime": "x-application/wolfram-language-html"
            },
            {
              "data": "79",
              "mime": "text/plain"
            }
          ],
          "id": "f6ea153b-cd35-42f3-bbdf-7ef001b1ce0e",
          "metadata": {
            "cellLabel": "Out[35]= ",
            "isBoxData": false
          }
        },
        {
          "items": [
            {
              "data": "<div class=\"wexpr\"><w>1</w></div>",
              "mime": "x-application/wolfram-language-html"
            },
            {
              "data": "1",
              "mime": "text/plain"
            }
          ],
          "id": "04a9483b-5cd1-475d-b75d-48f52f628afe",
          "metadata": {
            "cellLabel": "Out[37]= ",
            "isBoxData": false
          }
        },
        {
          "items": [
            {
              "data": "<div class=\"wexpr\"><w>7</w></div>",
              "mime": "x-application/wolfram-language-html"
            },
            {
              "data": "7",
              "mime": "text/plain"
            }
          ],
          "id": "be5d2887-cbf6-47ae-903e-4430df56a9e7",
          "metadata": {
            "cellLabel": "Out[38]= ",
            "isBoxData": false
          }
        },
        {
          "items": [
            {
              "data": "<div class=\"wexpr\"><w>25</w></div>",
              "mime": "x-application/wolfram-language-html"
            },
            {
              "data": "25",
              "mime": "text/plain"
            }
          ],
          "id": "2b071c4c-2770-4292-b603-f5ff8a265137",
          "metadata": {
            "cellLabel": "Out[39]= ",
            "isBoxData": false
          }
        },
        {
          "items": [
            {
              "data": "<div class=\"wexpr\"><w>79</w></div>",
              "mime": "x-application/wolfram-language-html"
            },
            {
              "data": "79",
              "mime": "text/plain"
            }
          ],
          "id": "acf8c205-28db-456c-bc2c-3891e63f88a8",
          "metadata": {
            "cellLabel": "Out[40]= ",
            "isBoxData": false
          }
        }
      ],
      "execution_count": null
    },
    {
      "cell_type": "markdown",
      "metadata": {},
      "source": [
        "### Module 1 - Determinant and Inverse of 3 by 3 Matrix"
      ]
    },
    {
      "cell_type": "code",
      "metadata": {},
      "source": [
        "mat1={{1, 0, 0}, {0, 0, 1}, {0, -1, 0}}//MatrixForm"
      ],
      "outputs": [
        {
          "items": [
            {
              "data": "<div class=\"wexpr\"><wrow><w></w><wb>(</wb><w>\u2060</w><wgrid style=\"grid-template-columns:repeat(3,max-content);\"><w><w>1</w></w><w><w>0</w></w><w><w>0</w></w><w><w>0</w></w><w><w>0</w></w><w><w>1</w></w><w><w>0</w></w><w><wrow><w></w><w>-</w><w>1</w></wrow></w><w><w>0</w></w></wgrid><w>\u2060</w><wb>)</wb></wrow></div>",
              "mime": "x-application/wolfram-language-html"
            },
            {
              "data": "MatrixForm[{{1, 0, 0}, {0, 0, 1}, {0, -1, 0}}]",
              "mime": "text/plain"
            }
          ],
          "id": "875c6ced-99a3-4b06-baab-e6a77ced7edc",
          "metadata": {
            "cellLabel": "Out[41]//MatrixForm= ",
            "isBoxData": false
          }
        }
      ],
      "execution_count": null
    },
    {
      "cell_type": "code",
      "metadata": {},
      "source": [
        "mat1={{1, 0, 0}, {0, 0, 1}, {0, -1, 0}}//MatrixForm",
        "mat2={{0, -1, 0}, {1, 0, 0}, {0, 0, 1}};",
        "mat3=mat1.mat2;",
        "mat4={{-1, 0, 0}, {0, -1, 0}, {0, 0, 1}};",
        "mat5={{13, 53, 10}, {4, -7, -2}, {2, -8, -1}}/9;",
        "mat6={{3}, {-2}, {4}};",
        "mat7={{1, 1, -1}, {0, 6, 2}, {-3, 1, 1}};",
        "MatrixForm[mat3]",
        "MatrixForm[mat2.mat1]",
        "Det[mat3]-Det[mat1]Det[mat2]",
        "MatrixForm[mat4.mat4]",
        "MatrixForm[mat5.mat6]",
        "Det[mat7]"
      ],
      "outputs": [
        {
          "items": [
            {
              "data": "<div class=\"wexpr\"><wrow><w></w><wb>(</wb><w>\u2060</w><wgrid style=\"grid-template-columns:repeat(3,max-content);\"><w><w>1</w></w><w><w>0</w></w><w><w>0</w></w><w><w>0</w></w><w><w>0</w></w><w><w>1</w></w><w><w>0</w></w><w><wrow><w></w><w>-</w><w>1</w></wrow></w><w><w>0</w></w></wgrid><w>\u2060</w><wb>)</wb></wrow></div>",
              "mime": "x-application/wolfram-language-html"
            },
            {
              "data": "MatrixForm[{{1, 0, 0}, {0, 0, 1}, {0, -1, 0}}]",
              "mime": "text/plain"
            }
          ],
          "id": "1d7f74c4-2cd8-46f0-826c-00a1b487ed32",
          "metadata": {
            "cellLabel": "Out[42]//MatrixForm= ",
            "isBoxData": false
          }
        },
        {
          "items": [
            {
              "data": "<div class=\"wexpr\"><wrow><w></w><wrow><w></w><wb>(</wb><w>\u2060</w><wgrid style=\"grid-template-columns:repeat(3,max-content);\"><w><w>1</w></w><w><w>0</w></w><w><w>0</w></w><w><w>0</w></w><w><w>0</w></w><w><w>1</w></w><w><w>0</w></w><w><wrow><w></w><w>-</w><w>1</w></wrow></w><w><w>0</w></w></wgrid><w>\u2060</w><wb>)</wb></wrow><w>.</w><wrow><w></w><wb>{</wb><wrow><w></w><wrow><w></w><wb>{</wb><wrow><w></w><w>0</w><w>,</w><wrow><w></w><w>-</w><w>1</w></wrow><w>,</w><w>0</w></wrow><wb>}</wb></wrow><w>,</w><wrow><w></w><wb>{</wb><wrow><w></w><w>1</w><w>,</w><w>0</w><w>,</w><w>0</w></wrow><wb>}</wb></wrow><w>,</w><wrow><w></w><wb>{</wb><wrow><w></w><w>0</w><w>,</w><w>0</w><w>,</w><w>1</w></wrow><wb>}</wb></wrow></wrow><wb>}</wb></wrow></wrow></div>",
              "mime": "x-application/wolfram-language-html"
            },
            {
              "data": "MatrixForm[MatrixForm[{{1, 0, 0}, {0, 0, 1}, {0, -1, 0}}] . {{0, -1, 0}, {1, 0, 0}, {0, 0, 1}}]",
              "mime": "text/plain"
            }
          ],
          "id": "7ccd5fd0-cfa8-49be-8e0e-6a244792955f",
          "metadata": {
            "cellLabel": "Out[49]//MatrixForm= ",
            "isBoxData": false
          }
        },
        {
          "items": [
            {
              "data": "<div class=\"wexpr\"><wrow><w></w><wrow><w></w><wb>{</wb><wrow><w></w><wrow><w></w><wb>{</wb><wrow><w></w><w>0</w><w>,</w><wrow><w></w><w>-</w><w>1</w></wrow><w>,</w><w>0</w></wrow><wb>}</wb></wrow><w>,</w><wrow><w></w><wb>{</wb><wrow><w></w><w>1</w><w>,</w><w>0</w><w>,</w><w>0</w></wrow><wb>}</wb></wrow><w>,</w><wrow><w></w><wb>{</wb><wrow><w></w><w>0</w><w>,</w><w>0</w><w>,</w><w>1</w></wrow><wb>}</wb></wrow></wrow><wb>}</wb></wrow><w>.</w><wrow><w></w><wb>(</wb><w>\u2060</w><wgrid style=\"grid-template-columns:repeat(3,max-content);\"><w><w>1</w></w><w><w>0</w></w><w><w>0</w></w><w><w>0</w></w><w><w>0</w></w><w><w>1</w></w><w><w>0</w></w><w><wrow><w></w><w>-</w><w>1</w></wrow></w><w><w>0</w></w></wgrid><w>\u2060</w><wb>)</wb></wrow></wrow></div>",
              "mime": "x-application/wolfram-language-html"
            },
            {
              "data": "MatrixForm[{{0, -1, 0}, {1, 0, 0}, {0, 0, 1}} . MatrixForm[{{1, 0, 0}, {0, 0, 1}, {0, -1, 0}}]]",
              "mime": "text/plain"
            }
          ],
          "id": "a01b8084-9d76-4d03-9721-cae48dbf908c",
          "metadata": {
            "cellLabel": "Out[50]//MatrixForm= ",
            "isBoxData": false
          }
        },
        {
          "items": [
            {
              "data": "<div class=\"wexpr\"><wrow><w></w><wrow><w></w><w>Det</w><wrow><w></w><wb>[</wb><wrow><w></w><wrow><w></w><wb>(</wb><w>\u2060</w><wgrid style=\"grid-template-columns:repeat(3,max-content);\"><w><w>1</w></w><w><w>0</w></w><w><w>0</w></w><w><w>0</w></w><w><w>0</w></w><w><w>1</w></w><w><w>0</w></w><w><wrow><w></w><w>-</w><w>1</w></wrow></w><w><w>0</w></w></wgrid><w>\u2060</w><wb>)</wb></wrow><w>.</w><wrow><w></w><wb>{</wb><wrow><w></w><wrow><w></w><wb>{</wb><wrow><w></w><w>0</w><w>,</w><wrow><w></w><w>-</w><w>1</w></wrow><w>,</w><w>0</w></wrow><wb>}</wb></wrow><w>,</w><wrow><w></w><wb>{</wb><wrow><w></w><w>1</w><w>,</w><w>0</w><w>,</w><w>0</w></wrow><wb>}</wb></wrow><w>,</w><wrow><w></w><wb>{</wb><wrow><w></w><w>0</w><w>,</w><w>0</w><w>,</w><w>1</w></wrow><wb>}</wb></wrow></wrow><wb>}</wb></wrow></wrow><wb>]</wb></wrow></wrow><w>-</w><wrow><w></w><w>Det</w><wrow><w></w><wb>[</wb><wrow><w></w><wb>(</wb><w>\u2060</w><wgrid style=\"grid-template-columns:repeat(3,max-content);\"><w><w>1</w></w><w><w>0</w></w><w><w>0</w></w><w><w>0</w></w><w><w>0</w></w><w><w>1</w></w><w><w>0</w></w><w><wrow><w></w><w>-</w><w>1</w></wrow></w><w><w>0</w></w></wgrid><w>\u2060</w><wb>)</wb></wrow><wb>]</wb></wrow></wrow></wrow></div>",
              "mime": "x-application/wolfram-language-html"
            },
            {
              "data": "Det[MatrixForm[{{1, 0, 0}, {0, 0, 1}, {0, -1, 0}}] . {{0, -1, 0}, {1, 0, 0}, {0, 0, 1}}] - Det[MatrixForm[{{1, 0, 0}, {0, 0, 1}, {0, -1, 0}}]]",
              "mime": "text/plain"
            }
          ],
          "id": "b0d14fd1-366d-42f4-8bb2-345a8416eb84",
          "metadata": {
            "cellLabel": "Out[51]= ",
            "isBoxData": false
          }
        },
        {
          "items": [
            {
              "data": "<div class=\"wexpr\"><wrow><w></w><wb>(</wb><w>\u2060</w><wgrid style=\"grid-template-columns:repeat(3,max-content);\"><w><w>1</w></w><w><w>0</w></w><w><w>0</w></w><w><w>0</w></w><w><w>1</w></w><w><w>0</w></w><w><w>0</w></w><w><w>0</w></w><w><w>1</w></w></wgrid><w>\u2060</w><wb>)</wb></wrow></div>",
              "mime": "x-application/wolfram-language-html"
            },
            {
              "data": "MatrixForm[{{1, 0, 0}, {0, 1, 0}, {0, 0, 1}}]",
              "mime": "text/plain"
            }
          ],
          "id": "3a3ae7b3-b294-43d4-9718-c6097d20f8e9",
          "metadata": {
            "cellLabel": "Out[52]//MatrixForm= ",
            "isBoxData": false
          }
        },
        {
          "items": [
            {
              "data": "<div class=\"wexpr\"><wrow><w></w><wb>(</wb><w>\u2060</w><wgrid style=\"grid-template-columns:repeat(1,max-content);\"><w><wrow><w></w><w>-</w><w>3</w></wrow></w><w><w>2</w></w><w><w>2</w></w></wgrid><w>\u2060</w><wb>)</wb></wrow></div>",
              "mime": "x-application/wolfram-language-html"
            },
            {
              "data": "MatrixForm[{{-3}, {2}, {2}}]",
              "mime": "text/plain"
            }
          ],
          "id": "10c77e89-2104-480d-95ea-e2a42bd5cc3a",
          "metadata": {
            "cellLabel": "Out[53]//MatrixForm= ",
            "isBoxData": false
          }
        },
        {
          "items": [
            {
              "data": "<div class=\"wexpr\"><wrow><w></w><w>-</w><w>20</w></wrow></div>",
              "mime": "x-application/wolfram-language-html"
            },
            {
              "data": "-20",
              "mime": "text/plain"
            }
          ],
          "id": "3f389614-dc45-4de5-8f2d-412cf825b85f",
          "metadata": {
            "cellLabel": "Out[54]= ",
            "isBoxData": false
          }
        }
      ],
      "execution_count": null
    },
    {
      "cell_type": "code",
      "metadata": {},
      "source": [
        "dist=BinomialDistribution[40,0.2];",
        "ans=1-CDF[dist,11]"
      ],
      "outputs": [
        {
          "items": [
            {
              "data": "<div class=\"wexpr\"><w>0.0875052</w></div>",
              "mime": "x-application/wolfram-language-html"
            },
            {
              "data": "0.0875052359220051",
              "mime": "text/plain"
            }
          ],
          "id": "71aef1e3-658b-4ef5-9224-ef401c95bd3a",
          "metadata": {
            "cellLabel": "Out[56]= ",
            "isBoxData": false
          }
        }
      ],
      "execution_count": null
    },
    {
      "cell_type": "code",
      "metadata": {},
      "source": [
        "dist=NormalDistribution[12,3.5/40];",
        "ans=CDF[dist,10.8]"
      ],
      "outputs": [
        {
          "items": [
            {
              "data": "<div class=\"wexpr\"><wsup><w></w><w>4.16917&#215;10</w><w><w>-43</w></w></wsup></div>",
              "mime": "x-application/wolfram-language-html"
            },
            {
              "data": "4.1691748637730786*^-43",
              "mime": "text/plain"
            }
          ],
          "id": "7675a1cd-afcd-4612-b632-d63e3262b5c9",
          "metadata": {
            "cellLabel": "Out[58]= ",
            "isBoxData": false
          }
        }
      ],
      "execution_count": null
    },
    {
      "cell_type": "code",
      "metadata": {},
      "source": [
        "dist=NormalDistribution[12,3.5];",
        "N[CDF[dist,15]-CDF[dist,10]]"
      ],
      "outputs": [
        {
          "items": [
            {
              "data": "<div class=\"wexpr\"><w>0.520462</w></div>",
              "mime": "x-application/wolfram-language-html"
            },
            {
              "data": "0.5204624477475477",
              "mime": "text/plain"
            }
          ],
          "id": "573823a1-9713-4d6a-9d0d-6ed4e7e32eb9",
          "metadata": {
            "cellLabel": "Out[60]= ",
            "isBoxData": false
          }
        }
      ],
      "execution_count": null
    },
    {
      "cell_type": "code",
      "metadata": {},
      "source": [
        "dist=NormalDistribution[];",
        "quan1=Quantile[dist,0.05]",
        "quan2=Quantile[dist,0.75]"
      ],
      "outputs": [
        {
          "items": [
            {
              "data": "<div class=\"wexpr\"><wrow><w></w><w>-</w><w>1.64485</w></wrow></div>",
              "mime": "x-application/wolfram-language-html"
            },
            {
              "data": "-1.6448536269514729",
              "mime": "text/plain"
            }
          ],
          "id": "5e1cc0e8-0ef9-4f05-b667-fe853babe15a",
          "metadata": {
            "cellLabel": "Out[62]= ",
            "isBoxData": false
          }
        },
        {
          "items": [
            {
              "data": "<div class=\"wexpr\"><w>0.67449</w></div>",
              "mime": "x-application/wolfram-language-html"
            },
            {
              "data": "0.6744897501960818",
              "mime": "text/plain"
            }
          ],
          "id": "ad2a4f7c-f0c1-4872-be30-bc2662ab1c77",
          "metadata": {
            "cellLabel": "Out[63]= ",
            "isBoxData": false
          }
        }
      ],
      "execution_count": null
    },
    {
      "cell_type": "code",
      "metadata": {},
      "source": [
        "mat1={{1, 1, 1}, {x, y, z}, {x^2, y^2, z^2}}//MatrixForm;",
        "mat2={{p, q, r}, {p^2, q^2, r^2}, {qr, pr, pq}};",
        "Det[mat1]",
        "Simplify[Det[mat2]]",
        "12*2-53*4-3*5*10+3*53-2*10+4*12*5",
        "3*4-3*3-2*5*4-2*2"
      ],
      "outputs": [
        {
          "items": [
            {
              "data": "<div class=\"wexpr\"><wrow><w></w><w>Det</w><wrow><w></w><wb>[</wb><wrow><w></w><wb>(</wb><w>\u2060</w><wgrid style=\"grid-template-columns:repeat(3,max-content);\"><w><w>1</w></w><w><w>1</w></w><w><w>1</w></w><w><w>x</w></w><w><w>y</w></w><w><w>z</w></w><w><wsup><w></w><w>x</w><w><w>2</w></w></wsup></w><w><wsup><w></w><w>y</w><w><w>2</w></w></wsup></w><w><wsup><w></w><w>z</w><w><w>2</w></w></wsup></w></wgrid><w>\u2060</w><wb>)</wb></wrow><wb>]</wb></wrow></wrow></div>",
              "mime": "x-application/wolfram-language-html"
            },
            {
              "data": "Det[MatrixForm[{{1, 1, 1}, {x, y, z}, {x^2, y^2, z^2}}]]",
              "mime": "text/plain"
            }
          ],
          "id": "d27248ea-378a-4e5d-82e5-bb408227b846",
          "metadata": {
            "cellLabel": "Out[66]= ",
            "isBoxData": false
          }
        },
        {
          "items": [
            {
              "data": "<div class=\"wexpr\"><wrow><w></w><wrow><w></w><w>q</w><w></w><w>qr</w><w></w><w>r</w><w></w><wrow><w></w><wb>(</wb><wrow><w></w><wrow><w></w><w>-</w><w>q</w></wrow><w>+</w><w>r</w></wrow><wb>)</wb></wrow></wrow><w>+</w><wrow><w></w><wsup><w></w><w>p</w><w><w>2</w></w></wsup><w></w><wrow><w></w><wb>(</wb><wrow><w></w><wrow><w></w><wrow><w></w><w>-</w><w>pq</w></wrow><w></w><w>q</w></wrow><w>+</w><wrow><w></w><w>pr</w><w></w><w>r</w></wrow></wrow><wb>)</wb></wrow></wrow><w>+</w><wrow><w></w><w>p</w><w></w><wrow><w></w><wb>(</wb><wrow><w></w><wrow><w></w><w>pq</w><w></w><wsup><w></w><w>q</w><w><w>2</w></w></wsup></wrow><w>-</w><wrow><w></w><w>pr</w><w></w><wsup><w></w><w>r</w><w><w>2</w></w></wsup></wrow></wrow><wb>)</wb></wrow></wrow></wrow></div>",
              "mime": "x-application/wolfram-language-html"
            },
            {
              "data": "q*qr*r*(-q + r) + p^2*(-(pq*q) + pr*r) + p*(pq*q^2 - pr*r^2)",
              "mime": "text/plain"
            }
          ],
          "id": "03db1085-dd12-4133-ab42-415578b1c3d2",
          "metadata": {
            "cellLabel": "Out[67]= ",
            "isBoxData": false
          }
        },
        {
          "items": [
            {
              "data": "<div class=\"wexpr\"><w>41</w></div>",
              "mime": "x-application/wolfram-language-html"
            },
            {
              "data": "41",
              "mime": "text/plain"
            }
          ],
          "id": "0b856303-a213-46e4-8219-9917c9e3b282",
          "metadata": {
            "cellLabel": "Out[68]= ",
            "isBoxData": false
          }
        },
        {
          "items": [
            {
              "data": "<div class=\"wexpr\"><wrow><w></w><w>-</w><w>41</w></wrow></div>",
              "mime": "x-application/wolfram-language-html"
            },
            {
              "data": "-41",
              "mime": "text/plain"
            }
          ],
          "id": "478a387b-8cf7-4b9b-ad2e-1aa803a072a8",
          "metadata": {
            "cellLabel": "Out[69]= ",
            "isBoxData": false
          }
        }
      ],
      "execution_count": null
    },
    {
      "cell_type": "markdown",
      "metadata": {},
      "source": [
        "## Further Y12-1"
      ]
    },
    {
      "cell_type": "markdown",
      "metadata": {},
      "source": [
        "### Module 7 - Vectors 1"
      ]
    },
    {
      "cell_type": "code",
      "metadata": {},
      "source": [
        "ArcCos[0.44141]*180/Pi"
      ],
      "outputs": [
        {
          "items": [
            {
              "data": "<div class=\"wexpr\"><w>63.8061</w></div>",
              "mime": "x-application/wolfram-language-html"
            },
            {
              "data": "63.80612066298803",
              "mime": "text/plain"
            }
          ],
          "id": "d9415553-4f85-4d18-9d10-13be8a3b7c15",
          "metadata": {
            "cellLabel": "Out[70]= ",
            "isBoxData": false
          }
        }
      ],
      "execution_count": null
    },
    {
      "cell_type": "code",
      "metadata": {},
      "source": [
        "44+29",
        "29*4-30",
        "3*29-21"
      ],
      "outputs": [
        {
          "items": [
            {
              "data": "<div class=\"wexpr\"><w>73</w></div>",
              "mime": "x-application/wolfram-language-html"
            },
            {
              "data": "73",
              "mime": "text/plain"
            }
          ],
          "id": "dd971383-729a-46bd-8a00-58be0e3021ab",
          "metadata": {
            "cellLabel": "Out[71]= ",
            "isBoxData": false
          }
        },
        {
          "items": [
            {
              "data": "<div class=\"wexpr\"><w>86</w></div>",
              "mime": "x-application/wolfram-language-html"
            },
            {
              "data": "86",
              "mime": "text/plain"
            }
          ],
          "id": "08239009-e42b-4864-b572-dd975b7da1d9",
          "metadata": {
            "cellLabel": "Out[72]= ",
            "isBoxData": false
          }
        },
        {
          "items": [
            {
              "data": "<div class=\"wexpr\"><w>66</w></div>",
              "mime": "x-application/wolfram-language-html"
            },
            {
              "data": "66",
              "mime": "text/plain"
            }
          ],
          "id": "a7663e9d-e778-458d-92fc-08bc88559bd5",
          "metadata": {
            "cellLabel": "Out[73]= ",
            "isBoxData": false
          }
        }
      ],
      "execution_count": null
    },
    {
      "cell_type": "code",
      "metadata": {},
      "source": [
        "N[Sqrt[(73/29)^2+(86/29)^2+(66/29)^2]]"
      ],
      "outputs": [
        {
          "items": [
            {
              "data": "<div class=\"wexpr\"><w>4.5067</w></div>",
              "mime": "x-application/wolfram-language-html"
            },
            {
              "data": "4.506699993075444",
              "mime": "text/plain"
            }
          ],
          "id": "e4801001-8416-4f82-af84-b3c13f3922ea",
          "metadata": {
            "cellLabel": "Out[74]= ",
            "isBoxData": false
          }
        }
      ],
      "execution_count": null
    },
    {
      "cell_type": "code",
      "metadata": {},
      "source": [
        "N[Sqrt[(27/10)^2+(9/10)^2]]"
      ],
      "outputs": [
        {
          "items": [
            {
              "data": "<div class=\"wexpr\"><w>2.84605</w></div>",
              "mime": "x-application/wolfram-language-html"
            },
            {
              "data": "2.8460498941515415",
              "mime": "text/plain"
            }
          ],
          "id": "b5817162-b728-4676-8a59-e689b482ab94",
          "metadata": {
            "cellLabel": "Out[75]= ",
            "isBoxData": false
          }
        }
      ],
      "execution_count": null
    },
    {
      "cell_type": "code",
      "metadata": {},
      "source": [
        "Sqrt[75]",
        "N[7*5Sqrt[3]/14]"
      ],
      "outputs": [
        {
          "items": [
            {
              "data": "<div class=\"wexpr\"><wrow><w></w><w>5</w><w></w><wsqrt><w><w>\\</w></w><w></w><w><w>3</w></w></wsqrt></wrow></div>",
              "mime": "x-application/wolfram-language-html"
            },
            {
              "data": "5*Sqrt[3]",
              "mime": "text/plain"
            }
          ],
          "id": "23755ded-2912-4d7f-8926-d0419175975a",
          "metadata": {
            "cellLabel": "Out[76]= ",
            "isBoxData": false
          }
        },
        {
          "items": [
            {
              "data": "<div class=\"wexpr\"><w>4.33013</w></div>",
              "mime": "x-application/wolfram-language-html"
            },
            {
              "data": "4.330127018922193",
              "mime": "text/plain"
            }
          ],
          "id": "d033ad5f-3f82-404c-8c24-aaa4deb61194",
          "metadata": {
            "cellLabel": "Out[77]= ",
            "isBoxData": false
          }
        }
      ],
      "execution_count": null
    },
    {
      "cell_type": "code",
      "metadata": {},
      "source": [
        "N[ArcCos[11/14]*180/Pi]"
      ],
      "outputs": [
        {
          "items": [
            {
              "data": "<div class=\"wexpr\"><w>38.2132</w></div>",
              "mime": "x-application/wolfram-language-html"
            },
            {
              "data": "38.21321070173819",
              "mime": "text/plain"
            }
          ],
          "id": "1cf00be2-2d33-41f1-b444-c2632caf79f2",
          "metadata": {
            "cellLabel": "Out[78]= ",
            "isBoxData": false
          }
        }
      ],
      "execution_count": null
    },
    {
      "cell_type": "code",
      "metadata": {},
      "source": [
        "vec1={{2}, {3}, {2}};",
        "vec2={{6}, {-2}, {1}};",
        "vec1-vec2*3/2 "
      ],
      "outputs": [
        {
          "items": [
            {
              "data": "<div class=\"wexpr\"><wrow><w></w><wb>{</wb><wrow><w></w><wrow><w></w><wb>{</wb><wrow><w></w><w>-</w><w>7</w></wrow><wb>}</wb></wrow><w>,</w><wrow><w></w><wb>{</wb><w>6</w><wb>}</wb></wrow><w>,</w><wrow><w></w><wb>{</wb><wfrac><w><w>1</w></w><w><w></w><w><w>2</w></w></w></wfrac><wb>}</wb></wrow></wrow><wb>}</wb></wrow></div>",
              "mime": "x-application/wolfram-language-html"
            },
            {
              "data": "{{-7}, {6}, {1/2}}",
              "mime": "text/plain"
            }
          ],
          "id": "be86c26c-43d6-4f71-a39e-f2fda9b1f1f5",
          "metadata": {
            "cellLabel": "Out[81]= ",
            "isBoxData": false
          }
        }
      ],
      "execution_count": null
    },
    {
      "cell_type": "code",
      "metadata": {},
      "source": [
        "(-2/7)^2+(8/7)^2+(18/7)^2"
      ],
      "outputs": [
        {
          "items": [
            {
              "data": "<div class=\"wexpr\"><w>8</w></div>",
              "mime": "x-application/wolfram-language-html"
            },
            {
              "data": "8",
              "mime": "text/plain"
            }
          ],
          "id": "78d11c46-19cc-42c8-b4cb-daaac7773a14",
          "metadata": {
            "cellLabel": "Out[82]= ",
            "isBoxData": false
          }
        }
      ],
      "execution_count": null
    },
    {
      "cell_type": "markdown",
      "metadata": {},
      "source": [
        "Angle between 2 vectors",
        "",
        "$\\cos{\\theta}=\\large\\frac{a_1b_1+a_2b_2}{|\\mathbf{a}||\\mathbf{b}|}$",
        "",
        "Scalar Product/Dot Product",
        "",
        "$\\mathbf{a}\\mathbf{b}=ab\\cos{\\theta}$",
        "",
        "$\\mathbf{a}\\mathbf{b}=a_1b_1+a_2b_2$"
      ]
    },
    {
      "cell_type": "markdown",
      "metadata": {},
      "source": [
        "### Module 3 and 6 - Further Algebra and Functions 1 and 2"
      ]
    },
    {
      "cell_type": "code",
      "metadata": {},
      "source": [
        "mat1={{1, -1, 2}, {2, 1, 1}, {2, -2, 1}};",
        "mat2=Inverse[mat1];",
        "mat3={{9}, {0}, {3}};",
        "mat4=mat2.mat3;",
        "f[x_]:=x(x+1)/2",
        "g[x_]:=x(x+1)(2x+1)/6",
        "h[x_]:=2g[x]+3f[x]",
        "j[x_]:=x^2-17x+22",
        "k[x_]:=x(x+1)^2",
        "MatrixForm[mat2]",
        "MatrixForm[mat4]",
        "36*7",
        "f[50]-f[20]",
        "g[100]-g[90]",
        "f[50]-f[15]+5*35",
        "h[50]-h[25]",
        "j[1]",
        "j[3]",
        "j[-2]",
        "k[30]-k[20]"
      ],
      "outputs": [
        {
          "items": [
            {
              "data": "<div class=\"wexpr\"><wrow><w></w><wb>(</wb><w>\u2060</w><wgrid style=\"grid-template-columns:repeat(3,max-content);\"><w><wrow><w></w><w>-</w><wfrac><w><w>1</w></w><w><w></w><w><w>3</w></w></w></wfrac></wrow></w><w><wfrac><w><w>1</w></w><w><w></w><w><w>3</w></w></w></wfrac></w><w><wfrac><w><w>1</w></w><w><w></w><w><w>3</w></w></w></wfrac></w><w><w>0</w></w><w><wfrac><w><w>1</w></w><w><w></w><w><w>3</w></w></w></wfrac></w><w><wrow><w></w><w>-</w><wfrac><w><w>1</w></w><w><w></w><w><w>3</w></w></w></wfrac></wrow></w><w><wfrac><w><w>2</w></w><w><w></w><w><w>3</w></w></w></wfrac></w><w><w>0</w></w><w><wrow><w></w><w>-</w><wfrac><w><w>1</w></w><w><w></w><w><w>3</w></w></w></wfrac></wrow></w></wgrid><w>\u2060</w><wb>)</wb></wrow></div>",
              "mime": "x-application/wolfram-language-html"
            },
            {
              "data": "MatrixForm[{{-1/3, 1/3, 1/3}, {0, 1/3, -1/3}, {2/3, 0, -1/3}}]",
              "mime": "text/plain"
            }
          ],
          "id": "f9d20e8b-9d03-45fe-a5f8-32808332745f",
          "metadata": {
            "cellLabel": "Out[92]//MatrixForm= ",
            "isBoxData": false
          }
        },
        {
          "items": [
            {
              "data": "<div class=\"wexpr\"><wrow><w></w><wb>(</wb><w>\u2060</w><wgrid style=\"grid-template-columns:repeat(1,max-content);\"><w><wrow><w></w><w>-</w><w>2</w></wrow></w><w><wrow><w></w><w>-</w><w>1</w></wrow></w><w><w>5</w></w></wgrid><w>\u2060</w><wb>)</wb></wrow></div>",
              "mime": "x-application/wolfram-language-html"
            },
            {
              "data": "MatrixForm[{{-2}, {-1}, {5}}]",
              "mime": "text/plain"
            }
          ],
          "id": "c0f6be8c-50c4-4581-8360-c8603f7e671f",
          "metadata": {
            "cellLabel": "Out[93]//MatrixForm= ",
            "isBoxData": false
          }
        },
        {
          "items": [
            {
              "data": "<div class=\"wexpr\"><w>252</w></div>",
              "mime": "x-application/wolfram-language-html"
            },
            {
              "data": "252",
              "mime": "text/plain"
            }
          ],
          "id": "276f1122-f942-469d-8467-59ca1bbe8679",
          "metadata": {
            "cellLabel": "Out[94]= ",
            "isBoxData": false
          }
        },
        {
          "items": [
            {
              "data": "<div class=\"wexpr\"><w>1065</w></div>",
              "mime": "x-application/wolfram-language-html"
            },
            {
              "data": "1065",
              "mime": "text/plain"
            }
          ],
          "id": "83f65127-4ce8-4383-9b4f-772d8a47632e",
          "metadata": {
            "cellLabel": "Out[95]= ",
            "isBoxData": false
          }
        },
        {
          "items": [
            {
              "data": "<div class=\"wexpr\"><w>91285</w></div>",
              "mime": "x-application/wolfram-language-html"
            },
            {
              "data": "91285",
              "mime": "text/plain"
            }
          ],
          "id": "19a4aaea-d03e-40be-9348-a4a0e9738213",
          "metadata": {
            "cellLabel": "Out[96]= ",
            "isBoxData": false
          }
        },
        {
          "items": [
            {
              "data": "<div class=\"wexpr\"><w>1330</w></div>",
              "mime": "x-application/wolfram-language-html"
            },
            {
              "data": "1330",
              "mime": "text/plain"
            }
          ],
          "id": "54ea0308-6f2f-43e9-97f5-99286ec154c4",
          "metadata": {
            "cellLabel": "Out[97]= ",
            "isBoxData": false
          }
        },
        {
          "items": [
            {
              "data": "<div class=\"wexpr\"><w>77650</w></div>",
              "mime": "x-application/wolfram-language-html"
            },
            {
              "data": "77650",
              "mime": "text/plain"
            }
          ],
          "id": "dbabf33c-43c6-47db-878f-820ae5f37070",
          "metadata": {
            "cellLabel": "Out[98]= ",
            "isBoxData": false
          }
        },
        {
          "items": [
            {
              "data": "<div class=\"wexpr\"><w>6</w></div>",
              "mime": "x-application/wolfram-language-html"
            },
            {
              "data": "6",
              "mime": "text/plain"
            }
          ],
          "id": "15c1b297-cd24-4f30-bcc8-a8b6069d2476",
          "metadata": {
            "cellLabel": "Out[99]= ",
            "isBoxData": false
          }
        },
        {
          "items": [
            {
              "data": "<div class=\"wexpr\"><wrow><w></w><w>-</w><w>20</w></wrow></div>",
              "mime": "x-application/wolfram-language-html"
            },
            {
              "data": "-20",
              "mime": "text/plain"
            }
          ],
          "id": "ba52c22c-7f3a-4183-9c2f-b926b52ac393",
          "metadata": {
            "cellLabel": "Out[100]= ",
            "isBoxData": false
          }
        },
        {
          "items": [
            {
              "data": "<div class=\"wexpr\"><w>60</w></div>",
              "mime": "x-application/wolfram-language-html"
            },
            {
              "data": "60",
              "mime": "text/plain"
            }
          ],
          "id": "eaa6c69f-ea0d-4790-adcc-d94da6bd834a",
          "metadata": {
            "cellLabel": "Out[101]= ",
            "isBoxData": false
          }
        },
        {
          "items": [
            {
              "data": "<div class=\"wexpr\"><w>20010</w></div>",
              "mime": "x-application/wolfram-language-html"
            },
            {
              "data": "20010",
              "mime": "text/plain"
            }
          ],
          "id": "b8026077-1503-4af7-a62c-e48b19cfb5b4",
          "metadata": {
            "cellLabel": "Out[102]= ",
            "isBoxData": false
          }
        }
      ],
      "execution_count": null
    },
    {
      "cell_type": "code",
      "metadata": {},
      "source": [
        "f[x_]:=2x(x+1)",
        "g[x_]:=x(x+1)(2x+1)+2x",
        "h[x_]:=x(x+1)(x+2)(x+3)",
        "i[x_]:=x(x-1)(x+1)(x+2)",
        "f[20]-f[9]",
        "g[10]-g[4]",
        "h[1]",
        "h[2]",
        "h[3]",
        "i[1]",
        "i[2]",
        "i[3]",
        "16*4*9"
      ],
      "outputs": [
        {
          "items": [
            {
              "data": "<div class=\"wexpr\"><w>660</w></div>",
              "mime": "x-application/wolfram-language-html"
            },
            {
              "data": "660",
              "mime": "text/plain"
            }
          ],
          "id": "ebabe644-5849-4823-8c29-32cb9b43f664",
          "metadata": {
            "cellLabel": "Out[107]= ",
            "isBoxData": false
          }
        },
        {
          "items": [
            {
              "data": "<div class=\"wexpr\"><w>2142</w></div>",
              "mime": "x-application/wolfram-language-html"
            },
            {
              "data": "2142",
              "mime": "text/plain"
            }
          ],
          "id": "7c1fc80f-3f78-42a8-9273-ba16caa8a272",
          "metadata": {
            "cellLabel": "Out[108]= ",
            "isBoxData": false
          }
        },
        {
          "items": [
            {
              "data": "<div class=\"wexpr\"><w>24</w></div>",
              "mime": "x-application/wolfram-language-html"
            },
            {
              "data": "24",
              "mime": "text/plain"
            }
          ],
          "id": "2fc92735-0663-4081-a23d-ddacca6e8e44",
          "metadata": {
            "cellLabel": "Out[109]= ",
            "isBoxData": false
          }
        },
        {
          "items": [
            {
              "data": "<div class=\"wexpr\"><w>120</w></div>",
              "mime": "x-application/wolfram-language-html"
            },
            {
              "data": "120",
              "mime": "text/plain"
            }
          ],
          "id": "9ec7b991-3535-41b1-bcf2-d3be4d4e11e8",
          "metadata": {
            "cellLabel": "Out[110]= ",
            "isBoxData": false
          }
        },
        {
          "items": [
            {
              "data": "<div class=\"wexpr\"><w>360</w></div>",
              "mime": "x-application/wolfram-language-html"
            },
            {
              "data": "360",
              "mime": "text/plain"
            }
          ],
          "id": "524f416a-6972-43c0-95be-b6ac9feeb4bc",
          "metadata": {
            "cellLabel": "Out[111]= ",
            "isBoxData": false
          }
        },
        {
          "items": [
            {
              "data": "<div class=\"wexpr\"><w>0</w></div>",
              "mime": "x-application/wolfram-language-html"
            },
            {
              "data": "0",
              "mime": "text/plain"
            }
          ],
          "id": "5f85503e-3ff1-465d-b1fe-fb0ff88a90ff",
          "metadata": {
            "cellLabel": "Out[112]= ",
            "isBoxData": false
          }
        },
        {
          "items": [
            {
              "data": "<div class=\"wexpr\"><w>24</w></div>",
              "mime": "x-application/wolfram-language-html"
            },
            {
              "data": "24",
              "mime": "text/plain"
            }
          ],
          "id": "4bac1be1-bed9-4e16-8ed9-66664f99d173",
          "metadata": {
            "cellLabel": "Out[113]= ",
            "isBoxData": false
          }
        },
        {
          "items": [
            {
              "data": "<div class=\"wexpr\"><w>120</w></div>",
              "mime": "x-application/wolfram-language-html"
            },
            {
              "data": "120",
              "mime": "text/plain"
            }
          ],
          "id": "cc188033-5178-4f42-87e6-368db98c3c75",
          "metadata": {
            "cellLabel": "Out[114]= ",
            "isBoxData": false
          }
        },
        {
          "items": [
            {
              "data": "<div class=\"wexpr\"><w>576</w></div>",
              "mime": "x-application/wolfram-language-html"
            },
            {
              "data": "576",
              "mime": "text/plain"
            }
          ],
          "id": "ad0b5c6a-0b92-4176-99d7-f9cce87671ec",
          "metadata": {
            "cellLabel": "Out[115]= ",
            "isBoxData": false
          }
        }
      ],
      "execution_count": null
    },
    {
      "cell_type": "code",
      "metadata": {},
      "source": [
        "35*4.2",
        "35*0.42*0.58"
      ],
      "outputs": [
        {
          "items": [
            {
              "data": "<div class=\"wexpr\"><w>147.</w></div>",
              "mime": "x-application/wolfram-language-html"
            },
            {
              "data": "147.",
              "mime": "text/plain"
            }
          ],
          "id": "ca0f86a4-a486-4ec9-84f0-b423c6c41ebd",
          "metadata": {
            "cellLabel": "Out[116]= ",
            "isBoxData": false
          }
        },
        {
          "items": [
            {
              "data": "<div class=\"wexpr\"><w>8.526</w></div>",
              "mime": "x-application/wolfram-language-html"
            },
            {
              "data": "8.526",
              "mime": "text/plain"
            }
          ],
          "id": "6bde8519-8c67-41e3-b8d5-ee593550864c",
          "metadata": {
            "cellLabel": "Out[117]= ",
            "isBoxData": false
          }
        }
      ],
      "execution_count": null
    },
    {
      "cell_type": "code",
      "metadata": {},
      "source": [
        "dist=BinomialDistribution[35,0.42];",
        "1-CDF[dist,17]"
      ],
      "outputs": [
        {
          "items": [
            {
              "data": "<div class=\"wexpr\"><w>0.168638</w></div>",
              "mime": "x-application/wolfram-language-html"
            },
            {
              "data": "0.16863849159804456",
              "mime": "text/plain"
            }
          ],
          "id": "7909fc7c-42b7-47c2-864d-cc3031c5181a",
          "metadata": {
            "cellLabel": "Out[119]= ",
            "isBoxData": false
          }
        }
      ],
      "execution_count": null
    },
    {
      "cell_type": "code",
      "metadata": {},
      "source": [
        "dist=NormalDistribution[34,4.5];",
        "ans=1-CDF[dist,36.2]"
      ],
      "outputs": [
        {
          "items": [
            {
              "data": "<div class=\"wexpr\"><w>0.31246</w></div>",
              "mime": "x-application/wolfram-language-html"
            },
            {
              "data": "0.3124601812293224",
              "mime": "text/plain"
            }
          ],
          "id": "f5115cb2-c96b-4b42-8d9b-fd7723da9fbf",
          "metadata": {
            "cellLabel": "Out[121]= ",
            "isBoxData": false
          }
        }
      ],
      "execution_count": null
    },
    {
      "cell_type": "code",
      "metadata": {},
      "source": [
        "dist=NormalDistribution[];",
        "ans=1.5Quantile[dist,0.95]",
        "10-ans"
      ],
      "outputs": [
        {
          "items": [
            {
              "data": "<div class=\"wexpr\"><w>2.46728</w></div>",
              "mime": "x-application/wolfram-language-html"
            },
            {
              "data": "2.467280440427208",
              "mime": "text/plain"
            }
          ],
          "id": "8bb1213a-a25b-4cc9-9030-af04d4befb8a",
          "metadata": {
            "cellLabel": "Out[123]= ",
            "isBoxData": false
          }
        },
        {
          "items": [
            {
              "data": "<div class=\"wexpr\"><w>7.53272</w></div>",
              "mime": "x-application/wolfram-language-html"
            },
            {
              "data": "7.532719559572792",
              "mime": "text/plain"
            }
          ],
          "id": "5a4d38cb-605a-4476-91c0-e9fe7b968eff",
          "metadata": {
            "cellLabel": "Out[124]= ",
            "isBoxData": false
          }
        }
      ],
      "execution_count": null
    },
    {
      "cell_type": "code",
      "metadata": {},
      "source": [
        "dist=NormalDistribution[1.78,.23];",
        "N[CDF[dist,1.82]-CDF[dist,1.82]]",
        "N[CDF[dist,1.9]-CDF[dist,1.7]]^2"
      ],
      "outputs": [
        {
          "items": [
            {
              "data": "<div class=\"wexpr\"><w>0.</w></div>",
              "mime": "x-application/wolfram-language-html"
            },
            {
              "data": "0.",
              "mime": "text/plain"
            }
          ],
          "id": "63d8592c-5dbd-4ccb-9f37-1aa5b20e9a00",
          "metadata": {
            "cellLabel": "Out[126]= ",
            "isBoxData": false
          }
        },
        {
          "items": [
            {
              "data": "<div class=\"wexpr\"><w>0.112284</w></div>",
              "mime": "x-application/wolfram-language-html"
            },
            {
              "data": "0.1122843789872078",
              "mime": "text/plain"
            }
          ],
          "id": "08f6d04b-6c8a-40fe-bfc5-fed367b26f52",
          "metadata": {
            "cellLabel": "Out[127]= ",
            "isBoxData": false
          }
        }
      ],
      "execution_count": null
    },
    {
      "cell_type": "code",
      "metadata": {},
      "source": [
        "45-17-15-4",
        "70-31-17-15",
        "N[101/240]",
        "240-101-7-9",
        "123/3",
        "N[41/80]",
        "240-101-31-17-7-15-4-9",
        "101+31+7",
        "N[139/195]",
        "69.2/40",
        "Sqrt[2.81/40]",
        "1.78-0.23*2"
      ],
      "outputs": [
        {
          "items": [
            {
              "data": "<div class=\"wexpr\"><w>9</w></div>",
              "mime": "x-application/wolfram-language-html"
            },
            {
              "data": "9",
              "mime": "text/plain"
            }
          ],
          "id": "dacd68e5-9d81-43b6-bfcd-8254644ae282",
          "metadata": {
            "cellLabel": "Out[128]= ",
            "isBoxData": false
          }
        },
        {
          "items": [
            {
              "data": "<div class=\"wexpr\"><w>7</w></div>",
              "mime": "x-application/wolfram-language-html"
            },
            {
              "data": "7",
              "mime": "text/plain"
            }
          ],
          "id": "fa8f96f8-cc4b-495b-b65c-5aca2533c8aa",
          "metadata": {
            "cellLabel": "Out[129]= ",
            "isBoxData": false
          }
        },
        {
          "items": [
            {
              "data": "<div class=\"wexpr\"><w>0.420833</w></div>",
              "mime": "x-application/wolfram-language-html"
            },
            {
              "data": "0.42083333333333334",
              "mime": "text/plain"
            }
          ],
          "id": "993a3733-28bc-4e3c-8b3f-f10d86d107ca",
          "metadata": {
            "cellLabel": "Out[130]= ",
            "isBoxData": false
          }
        },
        {
          "items": [
            {
              "data": "<div class=\"wexpr\"><w>123</w></div>",
              "mime": "x-application/wolfram-language-html"
            },
            {
              "data": "123",
              "mime": "text/plain"
            }
          ],
          "id": "7a9a68fa-1e83-4461-b00d-3c2bc53a0660",
          "metadata": {
            "cellLabel": "Out[131]= ",
            "isBoxData": false
          }
        },
        {
          "items": [
            {
              "data": "<div class=\"wexpr\"><w>41</w></div>",
              "mime": "x-application/wolfram-language-html"
            },
            {
              "data": "41",
              "mime": "text/plain"
            }
          ],
          "id": "c5a8331f-f6d2-4f2c-8bfd-feabc122a910",
          "metadata": {
            "cellLabel": "Out[132]= ",
            "isBoxData": false
          }
        },
        {
          "items": [
            {
              "data": "<div class=\"wexpr\"><w>0.5125</w></div>",
              "mime": "x-application/wolfram-language-html"
            },
            {
              "data": "0.5125",
              "mime": "text/plain"
            }
          ],
          "id": "be6d7295-a4a9-424c-9bbd-7eebcd0f8fd4",
          "metadata": {
            "cellLabel": "Out[133]= ",
            "isBoxData": false
          }
        },
        {
          "items": [
            {
              "data": "<div class=\"wexpr\"><w>56</w></div>",
              "mime": "x-application/wolfram-language-html"
            },
            {
              "data": "56",
              "mime": "text/plain"
            }
          ],
          "id": "b94c41d9-4b3b-4fba-9c77-c12f6af7e215",
          "metadata": {
            "cellLabel": "Out[134]= ",
            "isBoxData": false
          }
        },
        {
          "items": [
            {
              "data": "<div class=\"wexpr\"><w>139</w></div>",
              "mime": "x-application/wolfram-language-html"
            },
            {
              "data": "139",
              "mime": "text/plain"
            }
          ],
          "id": "6c7ae8f9-2083-4a66-b6bf-eb9ba20d306c",
          "metadata": {
            "cellLabel": "Out[135]= ",
            "isBoxData": false
          }
        },
        {
          "items": [
            {
              "data": "<div class=\"wexpr\"><w>0.712821</w></div>",
              "mime": "x-application/wolfram-language-html"
            },
            {
              "data": "0.7128205128205128",
              "mime": "text/plain"
            }
          ],
          "id": "b9a2ca42-39c6-435a-b450-4b00e9c0239d",
          "metadata": {
            "cellLabel": "Out[136]= ",
            "isBoxData": false
          }
        },
        {
          "items": [
            {
              "data": "<div class=\"wexpr\"><w>1.73</w></div>",
              "mime": "x-application/wolfram-language-html"
            },
            {
              "data": "1.7300000000000002",
              "mime": "text/plain"
            }
          ],
          "id": "95924dd5-3e42-4dce-8371-79f370dcffeb",
          "metadata": {
            "cellLabel": "Out[137]= ",
            "isBoxData": false
          }
        },
        {
          "items": [
            {
              "data": "<div class=\"wexpr\"><w>0.265047</w></div>",
              "mime": "x-application/wolfram-language-html"
            },
            {
              "data": "0.26504716561397146",
              "mime": "text/plain"
            }
          ],
          "id": "570b5d73-8704-4b07-bf92-68693f3739c4",
          "metadata": {
            "cellLabel": "Out[138]= ",
            "isBoxData": false
          }
        },
        {
          "items": [
            {
              "data": "<div class=\"wexpr\"><w>1.32</w></div>",
              "mime": "x-application/wolfram-language-html"
            },
            {
              "data": "1.32",
              "mime": "text/plain"
            }
          ],
          "id": "5d491712-6e48-437a-aa9c-32da0f377df4",
          "metadata": {
            "cellLabel": "Out[139]= ",
            "isBoxData": false
          }
        }
      ],
      "execution_count": null
    },
    {
      "cell_type": "code",
      "metadata": {},
      "source": [
        "dist=BinomialDistribution[20,0.3];",
        "N[PDF[dist,1]]",
        "N[CDF[dist,3]]",
        "1-N[CDF[dist,9]]"
      ],
      "outputs": [
        {
          "items": [
            {
              "data": "<div class=\"wexpr\"><w>0.00683934</w></div>",
              "mime": "x-application/wolfram-language-html"
            },
            {
              "data": "0.006839337111223886",
              "mime": "text/plain"
            }
          ],
          "id": "d720a989-e0df-42a2-9e20-c34afd09c5e7",
          "metadata": {
            "cellLabel": "Out[141]= ",
            "isBoxData": false
          }
        },
        {
          "items": [
            {
              "data": "<div class=\"wexpr\"><w>0.107087</w></div>",
              "mime": "x-application/wolfram-language-html"
            },
            {
              "data": "0.1070868045037302",
              "mime": "text/plain"
            }
          ],
          "id": "71d4bd5b-d179-4fe1-b748-cd299e239778",
          "metadata": {
            "cellLabel": "Out[142]= ",
            "isBoxData": false
          }
        },
        {
          "items": [
            {
              "data": "<div class=\"wexpr\"><w>0.0479619</w></div>",
              "mime": "x-application/wolfram-language-html"
            },
            {
              "data": "0.04796189733134315",
              "mime": "text/plain"
            }
          ],
          "id": "b86da530-bff8-4ca8-8a31-ee6cd4260072",
          "metadata": {
            "cellLabel": "Out[143]= ",
            "isBoxData": false
          }
        }
      ],
      "execution_count": null
    },
    {
      "cell_type": "code",
      "metadata": {},
      "source": [
        "f[x_]:=x^3+4x^2-x+2",
        "g[x_]:=5x^2-9x+22",
        "h[x_]:=x^2+2x+9",
        "f[2]",
        "g[4]",
        "h[4]"
      ],
      "outputs": [
        {
          "items": [
            {
              "data": "<div class=\"wexpr\"><w>24</w></div>",
              "mime": "x-application/wolfram-language-html"
            },
            {
              "data": "24",
              "mime": "text/plain"
            }
          ],
          "id": "c9894f3b-18e8-47e2-ba6c-425b7cce52cc",
          "metadata": {
            "cellLabel": "Out[147]= ",
            "isBoxData": false
          }
        },
        {
          "items": [
            {
              "data": "<div class=\"wexpr\"><w>66</w></div>",
              "mime": "x-application/wolfram-language-html"
            },
            {
              "data": "66",
              "mime": "text/plain"
            }
          ],
          "id": "ea06070e-30cc-41a4-87fe-861530ead45d",
          "metadata": {
            "cellLabel": "Out[148]= ",
            "isBoxData": false
          }
        },
        {
          "items": [
            {
              "data": "<div class=\"wexpr\"><w>33</w></div>",
              "mime": "x-application/wolfram-language-html"
            },
            {
              "data": "33",
              "mime": "text/plain"
            }
          ],
          "id": "60d6d2f2-7d8d-4e80-8931-abcd8431244d",
          "metadata": {
            "cellLabel": "Out[149]= ",
            "isBoxData": false
          }
        }
      ],
      "execution_count": null
    },
    {
      "cell_type": "code",
      "metadata": {},
      "source": [
        "f[x_]:=4x(4x+1)(8x^2-1)",
        "g[x_]:=2(x-1)(2x-1)(8(x-1)^2-1)",
        "Expand[f[x]-g[x]]"
      ],
      "outputs": [],
      "execution_count": null
    },
    {
      "cell_type": "code",
      "metadata": {},
      "source": [
        "n=4;",
        "f[x_]:=x(x+1)/2",
        "g[x_]:=x(x+1)(2x+1)/6",
        "h[x_]:=x^2(x+1)^2/4",
        "n(n+1)(8n-5)/6",
        "Simplify[Expand[2h[4x]-6g[4x]]]"
      ],
      "outputs": [],
      "execution_count": null
    },
    {
      "cell_type": "code",
      "metadata": {},
      "source": [
        "n=20;",
        "n1=15;",
        "n2=4;",
        "a=40;",
        "b=19;",
        "25*51",
        "n(n+1)(2n+1)/6",
        "15*31+60-5*9-18",
        "(n1(n1+1)(2n1+1)-n2(n2+1)(2n2+1))/6",
        "2(25*51-1.5*50+9*1.5-5*9)",
        "(a(a+1)(2a+1)-b(b+1)(2b+1))*5/6-84",
        "Expand[(x+1)(x+2)(x-3)]",
        "4*5*9"
      ],
      "outputs": [],
      "execution_count": null
    },
    {
      "cell_type": "code",
      "metadata": {},
      "source": [
        "n=Pi/6;",
        "f[x_]:=Sin[2x]-x",
        "g[x_]:=f'[x]",
        "g[x]",
        "n=N[n-f[n]/g[n]]"
      ],
      "outputs": [],
      "execution_count": null
    },
    {
      "cell_type": "code",
      "metadata": {},
      "source": [
        "dist=BinomialDistribution[25,0.7];",
        "N[1-CDF[dist,20]]"
      ],
      "outputs": [],
      "execution_count": null
    },
    {
      "cell_type": "code",
      "metadata": {},
      "source": [
        "lower=N[Quantile[NormalDistribution[],0.6]]",
        "upper=N[Quantile[NormalDistribution[],0.8]]",
        "sd=0.2/(upper-lower)",
        "5.9-lower*sd"
      ],
      "outputs": [],
      "execution_count": null
    },
    {
      "cell_type": "code",
      "metadata": {},
      "source": [
        "dist=NormalDistribution[24500,5200];",
        "ans=1-N[CDF[dist, 26730]]"
      ],
      "outputs": [],
      "execution_count": null
    },
    {
      "cell_type": "code",
      "metadata": {},
      "source": [
        "Expand[(2a-1)(2b-1)+(2a-1)(2c-1)+(2b-1)(2c-1)]"
      ],
      "outputs": [],
      "execution_count": null
    },
    {
      "cell_type": "code",
      "metadata": {},
      "source": [
        "Simplify[Divide[f[z],z-3]]"
      ],
      "outputs": [],
      "execution_count": null
    },
    {
      "cell_type": "code",
      "metadata": {},
      "source": [
        "f[z_]:=z^3-z^2+11z-51;",
        "Plot[f[z],{z,1,5}]"
      ],
      "outputs": [],
      "execution_count": null
    },
    {
      "cell_type": "markdown",
      "metadata": {},
      "source": [
        "Suppose $ax^2+bx+c=0$ has roots $x=\\alpha$ and $x=\\beta$",
        "",
        "Then $\\alpha+\\beta=-\\large\\frac{b}{a}$ and $\\alpha\\beta=\\large\\frac{c}{a}$",
        "",
        "Suppose $ax^3+bx^2+cx+d=0$ has roots $x=\\alpha$, $x=\\beta$ and $x=\\gamma$",
        "",
        "Then $\\alpha+\\beta+\\gamma=\\large\\frac{-b}{a}$, $\\alpha\\beta+\\alpha\\gamma+\\beta\\gamma=\\large\\frac{c}{a}$, $\\alpha\\beta\\gamma=-\\large\\frac{d}{a}$, $\\alpha^2+\\beta^2+\\gamma^2=(\\alpha+\\beta+\\gamma)^2-2(\\alpha\\beta+\\alpha\\gamma+\\beta\\gamma)$ and $\\large\\frac{1}{\\alpha}+\\large\\frac{1}{\\beta}+\\large\\frac{1}{\\gamma}=\\large \\frac{\\alpha\\beta+\\alpha\\gamma+\\beta\\gamma}{\\alpha\\beta\\gamma}$",
        "",
        "Suppose $ax^4+bx^3+cx^2+dx+e$ has roots $x=\\alpha$, $x=\\beta$, $x=\\gamma$ and $x=\\delta$",
        "",
        "Then $\\Sigma\\alpha=-\\large\\frac{b}{a}$, $\\Sigma\\alpha\\beta=\\large\\frac{c}{a}$, $\\Sigma\\alpha\\beta\\gamma=-\\large\\frac{d}{a}$ and $\\alpha\\beta\\gamma\\delta=\\large \\frac{e}{a}$"
      ]
    },
    {
      "cell_type": "code",
      "metadata": {},
      "source": [
        "b+c+d"
      ],
      "outputs": [],
      "execution_count": null
    },
    {
      "cell_type": "code",
      "metadata": {},
      "source": [
        "a=3;",
        "b=2a;",
        "c=a-2;",
        "d=1/a;",
        "N[b*c+c*d+b*d]"
      ],
      "outputs": [],
      "execution_count": null
    },
    {
      "cell_type": "code",
      "metadata": {},
      "source": [
        "1+12+18-81"
      ],
      "outputs": [],
      "execution_count": null
    },
    {
      "cell_type": "code",
      "metadata": {},
      "source": [
        "Expand[(3a+1)(3b+1)(3c+1)]"
      ],
      "outputs": [],
      "execution_count": null
    },
    {
      "cell_type": "code",
      "metadata": {},
      "source": [
        "Expand[(3a+1)(3b+1)+(3a+1)(3c+1)+(3b+1)(3c+1)]"
      ],
      "outputs": [],
      "execution_count": null
    },
    {
      "cell_type": "code",
      "metadata": {},
      "source": [
        "-3/4-6+16"
      ],
      "outputs": [],
      "execution_count": null
    },
    {
      "cell_type": "code",
      "metadata": {},
      "source": [
        "1.5^3-3*3*1.5+3*1"
      ],
      "outputs": [],
      "execution_count": null
    },
    {
      "cell_type": "code",
      "metadata": {},
      "source": [
        "Expand[(a+b+c)^3]"
      ],
      "outputs": [],
      "execution_count": null
    },
    {
      "cell_type": "code",
      "metadata": {},
      "source": [
        "1-3/2+6/2-2/2"
      ],
      "outputs": [],
      "execution_count": null
    },
    {
      "cell_type": "code",
      "metadata": {},
      "source": [
        "1-(a+b+c)+(ab+ac+bc)-abc=1+1.5+3+1"
      ],
      "outputs": [],
      "execution_count": null
    },
    {
      "cell_type": "code",
      "metadata": {},
      "source": [
        "Expand[(1-a)(1-b)(1-c)]"
      ],
      "outputs": [],
      "execution_count": null
    },
    {
      "cell_type": "markdown",
      "metadata": {},
      "source": [
        "### Modules 2 and 5 - Matrices 1 and 2"
      ]
    },
    {
      "cell_type": "markdown",
      "metadata": {},
      "source": [
        "Matrices for transformations:",
        "",
        "Reflection in the x axis:",
        "",
        "$$\\begin{pmatrix}1&&0\\\\0&&-1\\end{pmatrix}$$",
        "",
        "Reflection in the y axis:",
        "",
        "$$\\begin{pmatrix}1&&0\\\\0&&1\\end{pmatrix}$$",
        "",
        "Reflection in the line y=x axis:",
        "",
        "$$\\begin{pmatrix} 0 && 1 \\\\ 1 && 0 \\end{pmatrix}$$",
        "",
        "Anticlockwise rotation of theta about the origin:",
        "",
        "$$\\begin{pmatrix}\\cos{\\theta}&&-\\sin{\\theta}\\\\ \\sin{\\theta}&&\\cos{\\theta}\\end{pmatrix}"
      ]
    },
    {
      "cell_type": "code",
      "metadata": {},
      "source": [
        "k=5;",
        "mat1={{3,1,2},{1, -2, 1}, {-1, 4, 1}};",
        "mat2={{k+1, 8, -4}, {-3, k-4, 7}, {3, -11, 2k+3}};",
        "mat3={{3, -2, 2}, {2, 3, -1}, {1, 3, 1}};",
        "mat4={{2, 3, -4}, {1, -1, -2}, {5, 2, 3}};",
        "mat5={{2, 3, -1}, {1, -2, -3}, {1, 5, 2}};",
        "mat6=Inverse[mat4];",
        "mat7={{11},{8},{7}};",
        "mat8=mat6.mat7;",
        "Det[mat1]",
        "Det[mat3]",
        "MatrixForm[mat2]",
        "MatrixForm[mat6]",
        "Det[mat5]",
        "MatrixForm[mat8]"
      ],
      "outputs": [],
      "execution_count": null
    },
    {
      "cell_type": "code",
      "metadata": {},
      "source": [
        "4*27-7*33",
        "3*27+5*33",
        "6*3-7*1+5*1",
        "6*1+7*2-5*4",
        "6*2-7*1-5*1",
        "2*3-5*1-1",
        "6*16-7*13+5*15",
        "2*16-5*13-15",
        "13^2-15*7-16*2",
        "6*3-2*8-4*22"
      ],
      "outputs": [],
      "execution_count": null
    },
    {
      "cell_type": "code",
      "metadata": {},
      "source": [
        "f[x_]:=x^3-2x^2-5x+6;",
        "g[x_]:=x-1",
        "Simplify[f[x]/g[x]]"
      ],
      "outputs": [],
      "execution_count": null
    },
    {
      "cell_type": "code",
      "metadata": {},
      "source": [
        "p={{1,-2},{3,-2}};",
        "q={{-2,1},{1, -2}};",
        "r={{-1, -2}, {-3, 4}};",
        "MatrixForm[p.q]",
        "MatrixForm[r.q]",
        "MatrixForm[p.r]"
      ],
      "outputs": [],
      "execution_count": null
    },
    {
      "cell_type": "code",
      "metadata": {},
      "source": [
        "Det[mat1]"
      ],
      "outputs": [],
      "execution_count": null
    },
    {
      "cell_type": "code",
      "metadata": {},
      "source": [
        "mat1={{3,-8}, {-5, 7}};",
        "MatrixForm[mat1.unitsquare]"
      ],
      "outputs": [],
      "execution_count": null
    },
    {
      "cell_type": "code",
      "metadata": {},
      "source": [
        "mat1={{-7,-2}, {4, -2}};",
        "MatrixForm[mat1.unitsquare]"
      ],
      "outputs": [],
      "execution_count": null
    },
    {
      "cell_type": "code",
      "metadata": {},
      "source": [
        "mat1={{5,-1},{-3,1}};",
        "MatrixForm[mat1.unitsquare]"
      ],
      "outputs": [],
      "execution_count": null
    },
    {
      "cell_type": "code",
      "metadata": {},
      "source": [
        "unitsquare={{0,0,1,1},{0,1,1,0}};",
        "mat1={{2,2},{-1,4}};",
        "MatrixForm[mat1.unitsquare]"
      ],
      "outputs": [],
      "execution_count": null
    },
    {
      "cell_type": "code",
      "metadata": {},
      "source": [
        "mat1={{4,2},{3,6}}",
        "Det[mat1]"
      ],
      "outputs": [],
      "execution_count": null
    },
    {
      "cell_type": "markdown",
      "metadata": {},
      "source": [
        "Identity matrices have 1's on the lead diagonal that stretches from the top-left corner to the bottom-right corner.",
        "",
        "For example, below is 3 by 3 identity matrix:",
        "",
        "$$\\mathbf{I} = \\begin{pmatrix} 1 && 0&&0 \\\\ 0 && 1&&0\\\\0&&0&&1 \\end{pmatrix}$$"
      ]
    },
    {
      "cell_type": "code",
      "metadata": {},
      "source": [
        "(* Ex 05 q 7 *)",
        "mat1={{-3,2},{-8,5}};",
        "mat2={{x},{2x+1}};",
        "MatrixForm[mat1.mat2]"
      ],
      "outputs": [],
      "execution_count": null
    },
    {
      "cell_type": "code",
      "metadata": {},
      "source": [
        "mat1={{3,7},{2,4}};",
        "mat2={{2,3},{-1,2}};",
        "mat5={{3,6,1},{-4,-2,5}};",
        "mat7=IdentityMatrix[3];",
        "mat6=mat1.mat5;",
        "mat3=mat1*mat2;",
        "mat4=mat1.mat2;",
        "MatrixForm[mat3]",
        "MatrixForm[Transpose[mat1]]",
        "MatrixForm[mat6]",
        "MatrixForm[mat7]"
      ],
      "outputs": [],
      "execution_count": null
    },
    {
      "cell_type": "code",
      "metadata": {},
      "source": [
        "mat1={{1,0},{0,1}};",
        "mat2={{-1,0},{-1,0}};",
        "MatrixForm[mat1.mat2]"
      ],
      "outputs": [],
      "execution_count": null
    },
    {
      "cell_type": "markdown",
      "metadata": {},
      "source": [
        "### Module 1 and 4 - Complex Numbers 1 (Introduction) Complex Numbers 2 (Complex Plane)"
      ]
    },
    {
      "cell_type": "code",
      "metadata": {},
      "source": [
        "ArcTan[0.5]",
        "N[ArcTan[2]]"
      ],
      "outputs": [],
      "execution_count": null
    },
    {
      "cell_type": "code",
      "metadata": {},
      "source": [
        "N[3E^(3I)]"
      ],
      "outputs": [],
      "execution_count": null
    },
    {
      "cell_type": "code",
      "metadata": {},
      "source": [
        "Expand[(a+b*I)^3]"
      ],
      "outputs": [],
      "execution_count": null
    },
    {
      "cell_type": "code",
      "metadata": {},
      "source": [
        "N[2E^I]"
      ],
      "outputs": [],
      "execution_count": null
    },
    {
      "cell_type": "code",
      "metadata": {},
      "source": [
        "0.1415*-2.4034-1.7954*1.995",
        "0.1415*1.7954+1.9950*-2.4034"
      ],
      "outputs": [],
      "execution_count": null
    },
    {
      "cell_type": "code",
      "metadata": {},
      "source": [
        "N[Cos[-1]]",
        "N[Sin[-1]]",
        "N[Cos[-2]]",
        "N[Sin[-2]]",
        "N[Cos[2]]",
        "N[Sin[2]]",
        "2Cos[1.5]",
        "2Sin[1.5]",
        "3Cos[2.5]",
        "3Sin[2.5]"
      ],
      "outputs": [],
      "execution_count": null
    },
    {
      "cell_type": "code",
      "metadata": {},
      "source": [
        "(1.081^2+1.683^2)(-0.909^2-0.416^2)"
      ],
      "outputs": [],
      "execution_count": null
    },
    {
      "cell_type": "code",
      "metadata": {},
      "source": [
        "(3+4I)(3-4I)"
      ],
      "outputs": [],
      "execution_count": null
    },
    {
      "cell_type": "code",
      "metadata": {},
      "source": [
        "f[z_]:=(2z-2I)/(1+I)-3+I",
        "NSolve[f[z],z]"
      ],
      "outputs": [],
      "execution_count": null
    },
    {
      "cell_type": "code",
      "metadata": {},
      "source": [
        "Pi-ArcTan[1.5]"
      ],
      "outputs": [],
      "execution_count": null
    },
    {
      "cell_type": "markdown",
      "metadata": {},
      "source": [
        "## Y13-2"
      ]
    },
    {
      "cell_type": "markdown",
      "metadata": {},
      "source": [
        "### Module 3 - Statistics - The Normal Distribution"
      ]
    },
    {
      "cell_type": "code",
      "metadata": {},
      "source": [
        "dist=NormalDistribution[6.5, 0.73];",
        "N[CDF[dist,8]-CDF[dist,5]]"
      ],
      "outputs": [],
      "execution_count": null
    },
    {
      "cell_type": "code",
      "metadata": {},
      "source": [
        "median=1393;",
        "interquarange=1570-1167;",
        "lowerlimit=median-1.5*interquarange",
        "upperlimit=median+1.5*interquarange"
      ],
      "outputs": [],
      "execution_count": null
    },
    {
      "cell_type": "code",
      "metadata": {},
      "source": [
        "value=641520/24;",
        "N[CDF[dist,value]]"
      ],
      "outputs": [],
      "execution_count": null
    },
    {
      "cell_type": "code",
      "metadata": {},
      "source": [
        "dist=NormalDistribution[24500,5200];",
        "N[1-(CDF[dist,24550]-CDF[dist,24450])]"
      ],
      "outputs": [],
      "execution_count": null
    },
    {
      "cell_type": "code",
      "metadata": {},
      "source": [
        "Mean[dist]"
      ],
      "outputs": [],
      "execution_count": null
    },
    {
      "cell_type": "code",
      "metadata": {},
      "source": [
        "ans=N[1-CDF[dist,12.5]]"
      ],
      "outputs": [],
      "execution_count": null
    },
    {
      "cell_type": "code",
      "metadata": {},
      "source": [
        "ans=N[CDF[dist,16.5]]"
      ],
      "outputs": [],
      "execution_count": null
    },
    {
      "cell_type": "code",
      "metadata": {},
      "source": [
        "dist=BinomialDistribution[32,0.4];",
        "ans=N[CDF[dist,7.5]-CDF[dist,6.5]]"
      ],
      "outputs": [],
      "execution_count": null
    },
    {
      "cell_type": "code",
      "metadata": {},
      "source": [
        "(* Ex. 8 *)",
        "sd=4/30^0.5;",
        "dist=NormalDistribution[96, sd];",
        "quan=Quantile[dist, 0.975]"
      ],
      "outputs": [],
      "execution_count": null
    },
    {
      "cell_type": "code",
      "metadata": {},
      "source": [
        "sd=0.5625^0.5/5^0.5;",
        "dist=NormalDistribution[18, sd];",
        "quan=Quantile[dist, 0.1]"
      ],
      "outputs": [],
      "execution_count": null
    },
    {
      "cell_type": "code",
      "metadata": {},
      "source": [
        "sd=0.01^0.5/3;",
        "dist=NormalDistribution[9, sd]",
        "quan=Quantile[dist, 0.005]"
      ],
      "outputs": [],
      "execution_count": null
    },
    {
      "cell_type": "code",
      "metadata": {},
      "source": [
        "sd=0.015/50^0.5;",
        "dist=NormalDistribution[0.61,sd];",
        "quan=Quantile[dist, 0.025]"
      ],
      "outputs": [],
      "execution_count": null
    },
    {
      "cell_type": "code",
      "metadata": {},
      "source": [
        "sd=1.1/15^0.5;",
        "dist=NormalDistribution[-6, sd];",
        "quan=Quantile[dist, 0.99]"
      ],
      "outputs": [],
      "execution_count": null
    },
    {
      "cell_type": "code",
      "metadata": {},
      "source": [
        "sd=2/70^0.5;",
        "dist=NormalDistribution[2, sd];",
        "quan=Quantile[dist, 0.1]"
      ],
      "outputs": [],
      "execution_count": null
    },
    {
      "cell_type": "code",
      "metadata": {},
      "source": [
        "sd=32^0.5/9;",
        "dist=NormalDistribution[55,sd];",
        "quan=Quantile[dist, 0.975]"
      ],
      "outputs": [],
      "execution_count": null
    },
    {
      "cell_type": "code",
      "metadata": {},
      "source": [
        "(* 4a *)",
        "sd=16.8/200^0.5;",
        "1-N[CDF[NormalDistribution[43.6,sd], 45.7]];",
        "sd^2"
      ],
      "outputs": [],
      "execution_count": null
    },
    {
      "cell_type": "code",
      "metadata": {},
      "source": [
        "(* 4b *)",
        "sd=16.8/80^0.5;",
        "1-N[CDF[NormalDistribution[43.6,sd], 44.5]];",
        "sd^2"
      ],
      "outputs": [],
      "execution_count": null
    },
    {
      "cell_type": "code",
      "metadata": {},
      "source": [
        "sd=0.8/50^0.5;",
        "dist=NormalDistribution[6,sd];",
        "Quantile[dist, 0.025]"
      ],
      "outputs": [],
      "execution_count": null
    },
    {
      "cell_type": "code",
      "metadata": {},
      "source": [
        "sd=2/5;",
        "1-N[CDF[NormalDistribution[10,sd], 10.72]]"
      ],
      "outputs": [],
      "execution_count": null
    },
    {
      "cell_type": "code",
      "metadata": {},
      "source": [
        "(* 7 *)",
        "sd=6.96/10;",
        "N[CDF[NormalDistribution[100,sd], 97.97]]"
      ],
      "outputs": [],
      "execution_count": null
    },
    {
      "cell_type": "code",
      "metadata": {},
      "source": [
        "(* Ass. 1 *)",
        "(* 7 *)",
        "2.1*g+3/10"
      ],
      "outputs": [],
      "execution_count": null
    },
    {
      "cell_type": "code",
      "metadata": {},
      "source": [
        "(* 8 *)",
        "6*g",
        "14*g"
      ],
      "outputs": [],
      "execution_count": null
    },
    {
      "cell_type": "code",
      "metadata": {},
      "source": [
        "(* 9 *)",
        "t=27/4*Cos[20 Degree]/Cos[50 Degree]*g;",
        "n=t*Sin[70 Degree];",
        "y=t*Cos[70 Degree];",
        "y=9*g-y;",
        "Sqrt[n^2+y^2]"
      ],
      "outputs": [],
      "execution_count": null
    },
    {
      "cell_type": "code",
      "metadata": {},
      "source": [
        "(* 10 *)",
        "s=(3.6*60*g+1.8*24*g)*Cos[60 Degree]/3.6/Cos[30 Degree];",
        "mu=s/84/g"
      ],
      "outputs": [],
      "execution_count": null
    },
    {
      "cell_type": "code",
      "metadata": {},
      "source": [
        "(* 12 *)",
        "N[CDF[NormalDistribution[5,0.8],4.5]]^3"
      ],
      "outputs": [],
      "execution_count": null
    },
    {
      "cell_type": "code",
      "metadata": {},
      "source": [
        "(* 13 *)",
        "sd=Sqrt[400*0.25*0.75];",
        "1-N[CDF[NormalDistribution[100,sd],110.5]]"
      ],
      "outputs": [],
      "execution_count": null
    },
    {
      "cell_type": "markdown",
      "metadata": {
        "metadata": {
          "tags": [
            "todo"
          ]
        }
      },
      "source": [
        "Z is the standard normal variable $Z \\sim N(0,1)$, Z-scores corresponding to 95% confidence interval is 1.96, and $$Z=\\frac{X-\\mu}{\\sigma}$$",
        "",
        "expected standard deviation of sample means (standard error, SE)$$SE=\\frac{\\sigma}{\\sqrt{n}}$$"
      ]
    },
    {
      "cell_type": "code",
      "metadata": {},
      "source": [
        "(* 14 *)",
        "a = 5.00; (* a can be either 5kg or 5.1kg *)",
        "NSolve[(a - 5.05)/\u03c3 == 1.96, \u03c3]"
      ],
      "outputs": [],
      "execution_count": null
    },
    {
      "cell_type": "markdown",
      "metadata": {},
      "source": [
        "### Module 4 - Vectors and Vector Algebra"
      ]
    },
    {
      "cell_type": "code",
      "metadata": {},
      "source": [
        "v={1,2,3};",
        "w={1,2,4};",
        "Dot[v,w]"
      ],
      "outputs": [],
      "execution_count": null
    },
    {
      "cell_type": "code",
      "metadata": {},
      "source": [
        "N[7/Sqrt[2]]"
      ],
      "outputs": [],
      "execution_count": null
    },
    {
      "cell_type": "code",
      "metadata": {},
      "source": [
        "(* Ex. 10 Q.3 *)",
        "N[Sin[2Pi/5]]",
        "N[Cos[2Pi/5]]"
      ],
      "outputs": [],
      "execution_count": null
    },
    {
      "cell_type": "markdown",
      "metadata": {},
      "source": [
        "The Ratio Rule",
        "$$\\vec{\\mathrm{OC}} = \\textbf{a}+\\dfrac{\\lambda}{\\lambda + \\mu}\\left( \\textbf{b} - \\textbf{a} \\right)$$",
        "$$\\vec{\\mathrm{OC}} = \\dfrac{\\mu}{\\lambda + \\mu} \\textbf{a}+\\dfrac{\\lambda}{\\lambda + \\mu} \\textbf{b}$$"
      ]
    },
    {
      "cell_type": "markdown",
      "metadata": {},
      "source": [
        "### Module 5 - Differentiation Methods"
      ]
    },
    {
      "cell_type": "code",
      "metadata": {},
      "source": [
        "D[Log[z],z]"
      ],
      "outputs": [],
      "execution_count": null
    },
    {
      "cell_type": "code",
      "metadata": {},
      "source": [
        "0.8/Pi"
      ],
      "outputs": [],
      "execution_count": null
    },
    {
      "cell_type": "code",
      "metadata": {},
      "source": [
        "Plot[Sin[x^2]*x^2, {x, -2 Pi, 2 Pi}]"
      ],
      "outputs": [],
      "execution_count": null
    },
    {
      "cell_type": "code",
      "metadata": {},
      "source": [
        "n=Sqrt[Pi]/2;",
        "N[Cos[n^2]2n^3+Sin[n^2]2n]"
      ],
      "outputs": [],
      "execution_count": null
    },
    {
      "cell_type": "code",
      "metadata": {},
      "source": [
        "D[Log[x^3],x]"
      ],
      "outputs": [],
      "execution_count": null
    },
    {
      "cell_type": "code",
      "metadata": {},
      "source": [
        "D[Log[x-2],x]"
      ],
      "outputs": [],
      "execution_count": null
    },
    {
      "cell_type": "code",
      "metadata": {},
      "source": [
        "N[2E^2]"
      ],
      "outputs": [],
      "execution_count": null
    },
    {
      "cell_type": "code",
      "metadata": {},
      "source": [
        "xa=3Cos[25 Degree];",
        "ya=3Sin[25 Degree];",
        "xb=4Sin[45 Degree];",
        "yb=4Cos[45 Degree];",
        "xab=xb-xa",
        "yab=yb-ya",
        "N[Sqrt[xab^2+yab^2]]"
      ],
      "outputs": [],
      "execution_count": null
    },
    {
      "cell_type": "code",
      "metadata": {},
      "source": [
        "D[Cos[2x+5]^3,x]"
      ],
      "outputs": [],
      "execution_count": null
    },
    {
      "cell_type": "code",
      "metadata": {},
      "source": [
        "D[Sin[x]^3,x]"
      ],
      "outputs": [],
      "execution_count": null
    },
    {
      "cell_type": "code",
      "metadata": {},
      "source": [
        "D[ArcTan[3x],x]"
      ],
      "outputs": [],
      "execution_count": null
    },
    {
      "cell_type": "code",
      "metadata": {},
      "source": [
        "D[ArcSin[3x-2],x]"
      ],
      "outputs": [],
      "execution_count": null
    },
    {
      "cell_type": "markdown",
      "metadata": {},
      "source": [
        "### Module 6 - Integration Methods"
      ]
    },
    {
      "cell_type": "code",
      "metadata": {},
      "source": [
        "(* Ex. 14 1 *)",
        "N[Log[9]-Log[3]]"
      ],
      "outputs": [],
      "execution_count": null
    },
    {
      "cell_type": "code",
      "metadata": {},
      "source": [
        "(* 5 *)",
        "N[Log[E^Pi-1]-Log[2]]"
      ],
      "outputs": [],
      "execution_count": null
    },
    {
      "cell_type": "code",
      "metadata": {},
      "source": [
        "(* 6c *)",
        "N[Sqrt[3]-2]/4"
      ],
      "outputs": [],
      "execution_count": null
    },
    {
      "cell_type": "code",
      "metadata": {},
      "source": [
        "(* Ex. 15 1 *)",
        "N[(11^8-8^8)/24]"
      ],
      "outputs": [],
      "execution_count": null
    },
    {
      "cell_type": "code",
      "metadata": {},
      "source": [
        "(* 2 *)",
        "N[(Sqrt[10]-Sqrt[6])/2]"
      ],
      "outputs": [],
      "execution_count": null
    },
    {
      "cell_type": "code",
      "metadata": {},
      "source": [
        "(* 3 *)",
        "N[(9^(11/4)-3^(11/4))/11]"
      ],
      "outputs": [],
      "execution_count": null
    },
    {
      "cell_type": "code",
      "metadata": {},
      "source": [
        "(* 4 *)",
        "N[(Log[15]-Log[7])/8]"
      ],
      "outputs": [],
      "execution_count": null
    },
    {
      "cell_type": "code",
      "metadata": {},
      "source": [
        "(* 5 *)",
        "(ArcSin[0.8]-ArcSin[0.4])/2"
      ],
      "outputs": [],
      "execution_count": null
    },
    {
      "cell_type": "code",
      "metadata": {},
      "source": [
        "(* 6 *)",
        "N[(15^5-11^5)/20]"
      ],
      "outputs": [],
      "execution_count": null
    },
    {
      "cell_type": "code",
      "metadata": {},
      "source": [
        "(* 7 *)",
        "N[(E^5-E)/4]"
      ],
      "outputs": [],
      "execution_count": null
    },
    {
      "cell_type": "code",
      "metadata": {},
      "source": [
        "(* 8 *)",
        "N[(E^2-E^(-26))/12]"
      ],
      "outputs": [],
      "execution_count": null
    },
    {
      "cell_type": "code",
      "metadata": {},
      "source": [
        "(* 9 *)",
        "Plot[(2x+1)E^(x^2+x),{x,-1,1}]",
        "N[E^2-2]"
      ],
      "outputs": [],
      "execution_count": null
    },
    {
      "cell_type": "code",
      "metadata": {},
      "source": [
        "(* Ex. 16 1 *)",
        "f[x_]:=(5x-17/3)E^(3x+4)",
        "N[f[2]-f[1]]/3"
      ],
      "outputs": [],
      "execution_count": null
    },
    {
      "cell_type": "code",
      "metadata": {},
      "source": [
        "(* 2 *)",
        "N[2Log[2]-Log[3]]"
      ],
      "outputs": [],
      "execution_count": null
    },
    {
      "cell_type": "code",
      "metadata": {},
      "source": [
        "(* 3 *)",
        "f[x_]:=2(Sin[x]x+Cos[x])-Cos[x]x^2",
        "N[f[Pi/3]-f[Pi/4]]"
      ],
      "outputs": [],
      "execution_count": null
    },
    {
      "cell_type": "code",
      "metadata": {},
      "source": [
        "(* 4 *)",
        "N[3+2Log[2]-4Log[3]]"
      ],
      "outputs": [],
      "execution_count": null
    },
    {
      "cell_type": "code",
      "metadata": {},
      "source": [
        "(* 5 *)",
        "f[x_]:=(9x^2*E^(3x)-6x*E^(3x)+2E^(3x))/27",
        "N[f[1]-f[0]]"
      ],
      "outputs": [],
      "execution_count": null
    },
    {
      "cell_type": "code",
      "metadata": {},
      "source": [
        "(* 6 *)",
        "f[x_]:=x^2/2-2x+2Log[Abs[x-3]]-3Log[Abs[x-4]]",
        "N[f[2]-f[1]]"
      ],
      "outputs": [],
      "execution_count": null
    },
    {
      "cell_type": "code",
      "metadata": {},
      "source": [
        "(* 7 *)",
        "f[x_]:=Log[x]^2x-2Log[x]x+2x",
        "N[f[2]-f[1]]"
      ],
      "outputs": [],
      "execution_count": null
    },
    {
      "cell_type": "code",
      "metadata": {},
      "source": [
        "(* 8 *)",
        "f[x_]:=-2/(x-3)+Log[Abs[x-3]]-3Log[Abs[x-4]]",
        "N[f[2]-f[1]]",
        "f[x_]:=2/(x-3)^2",
        "Integrate[f[x],x]"
      ],
      "outputs": [],
      "execution_count": null
    },
    {
      "cell_type": "code",
      "metadata": {},
      "source": [
        "(* 9 *)",
        "f[x_]:=9x+17.5Log[Abs[x-3]]-6.5Log[Abs[x+1]]",
        "N[f[5]-f[4]]"
      ],
      "outputs": [],
      "execution_count": null
    },
    {
      "cell_type": "markdown",
      "metadata": {},
      "source": [
        "### Module 7 - Differential Equations"
      ]
    },
    {
      "cell_type": "code",
      "metadata": {},
      "source": [
        "Integrate[Tan[y]^2,y]"
      ],
      "outputs": [],
      "execution_count": null
    },
    {
      "cell_type": "code",
      "metadata": {},
      "source": [
        "y[x]/.DSolve[{y'[x] == y[x]}, y[x], x]"
      ],
      "outputs": [],
      "execution_count": null
    },
    {
      "cell_type": "code",
      "metadata": {},
      "source": [
        "t=Log[99]/0.4011"
      ],
      "outputs": [],
      "execution_count": null
    },
    {
      "cell_type": "code",
      "metadata": {},
      "source": [
        "k=2;",
        "D[Sin[k*t],t]"
      ],
      "outputs": [],
      "execution_count": null
    },
    {
      "cell_type": "code",
      "metadata": {},
      "source": [
        "N[ArcTan[50]]"
      ],
      "outputs": [],
      "execution_count": null
    },
    {
      "cell_type": "code",
      "metadata": {},
      "source": [
        "Integrate[50-Tan[t],t]"
      ],
      "outputs": [],
      "execution_count": null
    },
    {
      "cell_type": "code",
      "metadata": {},
      "source": [
        "f[t_]:=50t+Log[Cos[t]]",
        "f[1.55]"
      ],
      "outputs": [],
      "execution_count": null
    },
    {
      "cell_type": "markdown",
      "metadata": {},
      "source": [
        "### Calculus Methods"
      ]
    },
    {
      "cell_type": "code",
      "metadata": {},
      "source": [
        "Integrate[Csc[x],x]",
        "Integrate[Sec[x],x]",
        "Integrate[Cot[x],x]"
      ],
      "outputs": [],
      "execution_count": null
    },
    {
      "cell_type": "markdown",
      "metadata": {},
      "source": [
        "Trigonometric Integrals",
        "",
        "$$\\int\\sin{x}=-\\cos{x}$$",
        "",
        "$$\\int\\cos{x}=\\sin{x}$$",
        "",
        "$$\\int\\tan{x}=-\\log(\\cos{x})$$"
      ]
    },
    {
      "cell_type": "markdown",
      "metadata": {},
      "source": [
        "Chain Rule",
        "",
        "$$\\dfrac{\\mathrm d y}{\\mathrm d x}=\\dfrac{\\mathrm d y}{\\mathrm d u} \\times \\dfrac{\\mathrm d u}{\\mathrm d x}$$",
        "",
        "Product Rule",
        "",
        "$$y'=u'v+v'u$$",
        "",
        "Quotient Rule",
        "",
        "$$y'=\\frac{u'v-v'u}{v^2}$$"
      ]
    },
    {
      "cell_type": "markdown",
      "metadata": {},
      "source": [
        "Integration By Parts",
        "",
        "$$\\int u \\hspace{3px} \\dfrac{\\mathrm dv}{\\mathrm dx}\\hspace{2px} \\mathrm dx=uv-\\int v\\hspace{3px}\\dfrac{\\mathrm du}{\\mathrm dx} \\hspace{2px}\\mathrm dx$$",
        "",
        "$$\\int u\\hspace{3px}\\mathrm dv=uv-\\int v\\hspace{3px} \\mathrm du$$"
      ]
    },
    {
      "cell_type": "code",
      "metadata": {},
      "source": [
        "D[ArcCsc[x],x]",
        "D[ArcSec[x],x]",
        "D[ArcCot[x],x]"
      ],
      "outputs": [],
      "execution_count": null
    },
    {
      "cell_type": "markdown",
      "metadata": {},
      "source": [
        "Trigonometric Derivatives",
        "",
        "$$\\frac{d}{dx}\\sin{x}=\\cos{x}$$",
        "",
        "$$\\frac{d}{dx}\\cos{x}=-\\sin{x}$$",
        "",
        "$$\\frac{d}{dx}\\tan{x}=\\sec^2{x}$$",
        "",
        "$$\\frac{d}{dx}\\csc{x}=-\\cot{x}\\csc{x}$$",
        "",
        "$$\\frac{d}{dx}\\sec{x}=\\sec{x}\\tan{x}$$",
        "",
        "$$\\frac{d}{dx}\\cot{x}=-\\csc^2{x}$$",
        "",
        "$$\\frac{d}{dx}\\arcsin{x}=\\frac{1}{\\sqrt{1-x^2}}$$",
        "",
        "$$\\frac{d}{dx}\\arccos{x}=\\frac{-1}{\\sqrt(1-x^2)}$$",
        "",
        "$$\\frac{d}{dx}\\arccos{x}=\\frac{1}{1+x^2}$$",
        "",
        "[<img src=\"image-Trig-Int-Circle.png\" width=\"270\"/>](image-Trig-Int-Circle.png)  [<img src=\"image-Trig-Int-Circle3.png\" width=\"400\"/>](image-Trig-Int-Circle3.png) ",
        "[<img src=\"image-Trig-Int-Circle2.png\" width=\"500\"/>](image-Trig-Int-Circle2.png) "
      ]
    },
    {
      "cell_type": "markdown",
      "metadata": {},
      "source": [
        "Sine Rule",
        "",
        "$$\\frac{\\sin{A}}{a}=\\frac{\\sin{B}}{b}=\\frac{\\sin{C}}{c}$$",
        "",
        "Cosine Rule",
        "",
        "$$c=\\sqrt{a^2+b^2-2ab\\cos{C}}"
      ]
    },
    {
      "cell_type": "markdown",
      "metadata": {},
      "source": [
        "## Y13-1"
      ]
    },
    {
      "cell_type": "markdown",
      "metadata": {},
      "source": [
        "### Module 4 - Trigonometry 1"
      ]
    },
    {
      "cell_type": "code",
      "metadata": {},
      "source": [
        "Sqrt[1.89]"
      ],
      "outputs": [],
      "execution_count": null
    },
    {
      "cell_type": "code",
      "metadata": {},
      "source": [
        "180/8"
      ],
      "outputs": [],
      "execution_count": null
    },
    {
      "cell_type": "code",
      "metadata": {},
      "source": [
        "frac=0.5/2/Pi;",
        "r=3;",
        "arclen=r*2*Pi*frac",
        "sec=Pi*r^2*frac"
      ],
      "outputs": [],
      "execution_count": null
    },
    {
      "cell_type": "code",
      "metadata": {},
      "source": [
        "(* 7 *)",
        "frac=0.5/2/Pi;",
        "r=8;",
        "sec=Pi*r^2*frac;",
        "ab=Sin[0.25]*16;",
        "mo=Cos[0.25]*8;",
        "triarea=0.5*ab*mo;",
        "sec-triarea"
      ],
      "outputs": [],
      "execution_count": null
    },
    {
      "cell_type": "code",
      "metadata": {},
      "source": [
        "(* 8 *)",
        "rad=80/69",
        "(* Easier calculation *)",
        "peri1=23*rad+6;",
        "N[peri1]",
        "(* Harder calculation *)",
        "frac=rad/2/Pi;",
        "r=10;",
        "r1=13;",
        "arclen=r*2*Pi*frac;",
        "arclen1=r1*2*Pi*frac;",
        "peri=6+arclen+arclen1;",
        "N[peri]"
      ],
      "outputs": [],
      "execution_count": null
    },
    {
      "cell_type": "code",
      "metadata": {},
      "source": [
        "f[x_]:=E^x * Log[x];",
        "Plot[f[x], {x, 0.1, 3}]"
      ],
      "outputs": [],
      "execution_count": null
    },
    {
      "cell_type": "code",
      "metadata": {},
      "source": [
        "N[2-Sqrt[3]]"
      ],
      "outputs": [],
      "execution_count": null
    },
    {
      "cell_type": "code",
      "metadata": {},
      "source": [
        "f[x_]:=2+x-x^2;",
        "N[f[Pi/25]]"
      ],
      "outputs": [],
      "execution_count": null
    },
    {
      "cell_type": "markdown",
      "metadata": {},
      "source": [
        "### Module 5 - Trigonometry 2"
      ]
    },
    {
      "cell_type": "code",
      "metadata": {},
      "source": [
        "Pi-ArcSin[0.3]"
      ],
      "outputs": [],
      "execution_count": null
    },
    {
      "cell_type": "code",
      "metadata": {},
      "source": [
        "N[ArcCos[Sqrt[2/3]]]"
      ],
      "outputs": [],
      "execution_count": null
    },
    {
      "cell_type": "code",
      "metadata": {},
      "source": [
        "Sec[2.1];",
        "N[Csc[Pi/5]];",
        "N[Cot[4*Pi/9]];",
        "ArcSin[0.8];",
        "N[ArcTan[4]];",
        "N[ArcTan[4/3]];",
        "N[ArcCos[-2/3]]"
      ],
      "outputs": [],
      "execution_count": null
    },
    {
      "cell_type": "code",
      "metadata": {},
      "source": [
        "f[x_]:=3*Csc[2x]",
        "Plot[f[x],{x,-Pi,Pi}]"
      ],
      "outputs": [],
      "execution_count": null
    },
    {
      "cell_type": "code",
      "metadata": {},
      "source": [
        "N[ArcTan[3,4]]"
      ],
      "outputs": [],
      "execution_count": null
    },
    {
      "cell_type": "code",
      "metadata": {},
      "source": [
        "ArcTan[0.2]-Pi"
      ],
      "outputs": [],
      "execution_count": null
    },
    {
      "cell_type": "code",
      "metadata": {},
      "source": [
        "f[x_]:=Cos[x+Pi/4]",
        "Plot[f[x],{x,-2Pi,2Pi}]"
      ],
      "outputs": [],
      "execution_count": null
    },
    {
      "cell_type": "code",
      "metadata": {},
      "source": [
        "f[x_]:=3Sin[x]",
        "Plot[f[x],{x,-2Pi,2Pi}]"
      ],
      "outputs": [],
      "execution_count": null
    },
    {
      "cell_type": "code",
      "metadata": {},
      "source": [
        "N[ArcTan[1/(3Sqrt[2]+1)]]"
      ],
      "outputs": [],
      "execution_count": null
    },
    {
      "cell_type": "code",
      "metadata": {},
      "source": [
        "N[ArcTan[3]]"
      ],
      "outputs": [],
      "execution_count": null
    },
    {
      "cell_type": "code",
      "metadata": {},
      "source": [
        "ArcSin[Sqrt[5/13]]-ArcTan[-1.75]"
      ],
      "outputs": [],
      "execution_count": null
    },
    {
      "cell_type": "code",
      "metadata": {},
      "source": [
        "N[ArcCot[1-Sqrt[7]]]"
      ],
      "outputs": [],
      "execution_count": null
    },
    {
      "cell_type": "code",
      "metadata": {},
      "source": [
        "(* Ass 2 *)",
        "(* 6 *)",
        "tri=64Sqrt[3]",
        "sec=64Pi/3",
        "N[tri-sec]"
      ],
      "outputs": [],
      "execution_count": null
    },
    {
      "cell_type": "code",
      "metadata": {},
      "source": [
        "(* 10a *)",
        "N[(4Pi/3-ArcTan[2.4])/2]"
      ],
      "outputs": [],
      "execution_count": null
    },
    {
      "cell_type": "code",
      "metadata": {},
      "source": [
        "(* 12b *)",
        "N[ArcTan[2]]"
      ],
      "outputs": [],
      "execution_count": null
    },
    {
      "cell_type": "code",
      "metadata": {},
      "source": [
        "(* 13a *)",
        "N[Pi-(ArcCos[-2/5]/2)]"
      ],
      "outputs": [],
      "execution_count": null
    },
    {
      "cell_type": "code",
      "metadata": {},
      "source": [
        "(* 13b *)",
        "N[2Pi/3]"
      ],
      "outputs": [],
      "execution_count": null
    },
    {
      "cell_type": "markdown",
      "metadata": {},
      "source": [
        "### Module 6 and 7 - Numerical Methods 1 and 2"
      ]
    },
    {
      "cell_type": "markdown",
      "metadata": {},
      "source": [
        "Newton-Raphson's Method",
        "",
        "For solving f(x)=0",
        "",
        "$$x_{n+1}=x_n-\\frac{f(x_n)}{f'(x_n)}$$"
      ]
    },
    {
      "cell_type": "code",
      "metadata": {},
      "source": [
        "f[x_]:=x^3-x^2+3",
        "f[-1.17452]"
      ],
      "outputs": [],
      "execution_count": null
    },
    {
      "cell_type": "code",
      "metadata": {},
      "source": [
        "f[x_]:=x^3+2x^2-4",
        "f[1.13045]"
      ],
      "outputs": [],
      "execution_count": null
    },
    {
      "cell_type": "code",
      "metadata": {},
      "source": [
        "f[x_]:=x^4+2x^3-2x^2-x+1",
        "f[-2.60625]"
      ],
      "outputs": [],
      "execution_count": null
    },
    {
      "cell_type": "code",
      "metadata": {},
      "source": [
        "Mean[{-2.65,-2.60625}]"
      ],
      "outputs": [],
      "execution_count": null
    },
    {
      "cell_type": "code",
      "metadata": {},
      "source": [
        "(* f[x_]:=E^x+x^2-4",
        "g[x_]:=E^x+2x",
        "n=1;",
        "For[i=1,i<=7,i++,n=n-f[n]/g[n]]",
        "a=N[n];",
        "n=-2;",
        "For[i=1,i<=7,i++,n=n-f[n]/g[n]]",
        "b=N[n];",
        "n=(a+b)/2;",
        "For[i=1,i<=7,i++,n=n-f[n]/g[n]]",
        "N[n] *)"
      ],
      "outputs": [],
      "execution_count": null
    },
    {
      "cell_type": "code",
      "metadata": {},
      "source": [
        "NSolve[f[x]]"
      ],
      "outputs": [],
      "execution_count": null
    },
    {
      "cell_type": "code",
      "metadata": {},
      "source": [
        "f[x_]:=1-15/x^2",
        "g[x_]:=30/x^3",
        "n=4;",
        "For[i=1,i<=10,i++,n=n-f[n]/g[n]]",
        "N[n]"
      ],
      "outputs": [],
      "execution_count": null
    },
    {
      "cell_type": "code",
      "metadata": {},
      "source": [
        "(* f[x_]:=x^3-4x^2+12",
        "g[x_]:=3x^2-8x",
        "n=3.01;",
        "For[i=1,i<=13,i++,n=n-f[n]/g[n]]",
        "N[n] *)"
      ],
      "outputs": [],
      "execution_count": null
    },
    {
      "cell_type": "code",
      "metadata": {},
      "source": [
        "(* Ex. 15 2a *)",
        "Plot[2x^2-E^x,{x,-2,3}]"
      ],
      "outputs": [],
      "execution_count": null
    },
    {
      "cell_type": "code",
      "metadata": {},
      "source": [
        "n=-3;",
        "For[i=1,i<=5,i++,n=n-f[n]/g[n]]",
        "N[n]"
      ],
      "outputs": [],
      "execution_count": null
    },
    {
      "cell_type": "code",
      "metadata": {},
      "source": [
        "Plot[2x^3-4x^2+x+1,{x,-1,0}]"
      ],
      "outputs": [],
      "execution_count": null
    },
    {
      "cell_type": "code",
      "metadata": {},
      "source": [
        "f[x_]:=x^3+3x^2-3",
        "g[x_]:=3x^2+6x",
        "n=1;",
        "For[i=1,i<=5,i++,n=n-f[n]/g[n]]",
        "N[n]"
      ],
      "outputs": [],
      "execution_count": null
    },
    {
      "cell_type": "code",
      "metadata": {},
      "source": [
        "Plot[-Sqrt[(2x^3+x+1)/4],{x,-1,1}]"
      ],
      "outputs": [],
      "execution_count": null
    },
    {
      "cell_type": "code",
      "metadata": {},
      "source": [
        "(* ass. 1 2a *)",
        "f[x_]:=x^3-2x^2+3x-5",
        "f[1]",
        "f[2]"
      ],
      "outputs": [],
      "execution_count": null
    },
    {
      "cell_type": "code",
      "metadata": {},
      "source": [
        "(* 2b *)",
        "f[1.5]",
        "f[1.75]",
        "f[1.875]",
        "f[1.8125]",
        "f[1.84375]"
      ],
      "outputs": [],
      "execution_count": null
    },
    {
      "cell_type": "code",
      "metadata": {},
      "source": [
        "Mean[{1.8125,1.875}]"
      ],
      "outputs": [],
      "execution_count": null
    },
    {
      "cell_type": "code",
      "metadata": {},
      "source": [
        "(* 3 *)",
        "f[x_]:=x^4+x^3-2x^2+3x-5",
        "f[1]",
        "f[2]",
        "f[1.2275]",
        "f[1.2285]",
        "f[1.2415]",
        "f[1.2425]",
        "f[1.2475]",
        "f[1.2485]",
        "f[1.2835]",
        "f[1.2845]"
      ],
      "outputs": [],
      "execution_count": null
    },
    {
      "cell_type": "code",
      "metadata": {},
      "source": [
        "(* 4a *)",
        "n=-2.5;",
        "f[x_]:=x^3+2x^2-x+1",
        "g[x_]:=f'[x]",
        "n=n-f[n]/g[n];",
        "n"
      ],
      "outputs": [],
      "execution_count": null
    },
    {
      "cell_type": "markdown",
      "metadata": {},
      "source": [
        "### Trigonometry Formulae"
      ]
    },
    {
      "cell_type": "markdown",
      "metadata": {},
      "source": [
        "Top right corner c means circular measure(radians)."
      ]
    },
    {
      "cell_type": "markdown",
      "metadata": {},
      "source": [
        "Pythagorean Identities",
        "",
        "$$sin^2+cos^2=1$$",
        "",
        "$$csc^2=cot^2+1$$",
        "",
        "$$sec^2=tan^2+1$$"
      ]
    },
    {
      "cell_type": "markdown",
      "metadata": {},
      "source": [
        "Addition Formulae",
        "",
        "$$sin(A+B)=\\sin{A}\\cos{B}+\\cos{A}\\sin{B}$$",
        "",
        "$$cos(A+B)=\\cos{A}\\cos{B}-\\sin{A}\\sin{B}$$",
        "",
        "$$sin(A-B)=\\sin{A}\\cos{B}-\\cos{A}\\sin{B}$$",
        "",
        "$$cos(A-B)=\\cos{A}\\cos{B}+\\sin{A}\\sin{B}$$",
        "",
        "$$tan(A+B)=\\frac{\\tan{A}+\\tan{B}}{1-\\tan{A}\\tan{B}}\\$$",
        "$$\\tan{\\left( A - B \\right)}=\\frac{\\tan{A}-\\tan{B}}{1+\\tan{A}\\tan{B}}$$"
      ]
    },
    {
      "cell_type": "markdown",
      "metadata": {},
      "source": [
        "Double Angle Formulae",
        "",
        "$$sin(2A)=2\\sin{A}\\cos{A}$$",
        "",
        "$$cos(2A)=\\cos^2{A}-\\sin^2{A}=1-2\\sin^2{A}=2\\cos^2{A}-1$$",
        "",
        "$$\\tan{\\left( 2A \\right)}=\\frac{2\\tan{A}}{1-\\tan^2{A}}$$"
      ]
    }
  ],
  "metadata": {},
  "nbformat": 4,
  "nbformat_minor": 5
}