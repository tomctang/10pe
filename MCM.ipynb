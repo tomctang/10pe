{
 "cells": [
  {
   "cell_type": "markdown",
   "id": "22d2a363-c550-49ec-ac59-7ba9e4df8e24",
   "metadata": {},
   "source": [
    "# Math Computational Methods\n",
    "Physics is naturally speaking math / Physics is math language in nature\n",
    "\n",
    "Power of output <img src=\"https://raw.githubusercontent.com/tomctang/NB_img/main/outputpower.png\" alt=\"vector_cal\" width=\"450\">"
   ]
  },
  {
   "cell_type": "markdown",
   "id": "fbc4617f-1505-448e-b511-17e51c5f7b4a",
   "metadata": {},
   "source": [
    "## Calculus "
   ]
  },
  {
   "cell_type": "markdown",
   "id": "2d986704",
   "metadata": {},
   "source": [
    "### Review"
   ]
  },
  {
   "cell_type": "markdown",
   "id": "d17da9f8",
   "metadata": {},
   "source": [
    "- The essential of Calculus is how God building this world\n",
    "- [Euler Solution to Basel Problem](https://www.tungsteno.io/post/exa-basel_problem_euler_sinus_product) Euler used infinite products that is similar to Taylor expansion\n",
    "\n",
    "<img src=\"https://raw.githubusercontent.com/tomctang/NB_img/main/seriesgraph.png\" alt=\"seriesgraph\" width=\"550\">\n",
    "\n",
    "<img src=\"https://raw.githubusercontent.com/tomctang/NB_img/main/wks-of-fetal.png\" alt=\"fetalwks\" width=\"550\">\n",
    "\n",
    "\n",
    "<img src=\"https://raw.githubusercontent.com/tomctang/NB_img/main/EngMath_Sequence_01\n",
    ".png\" alt=\"fetalwks\" width=\"650\">\n",
    "<img src=\"https://raw.githubusercontent.com/tomctang/NB_img/main/EngMath_Series_01.png\" alt=\"fetalwks\" width=\"650\">\n",
    "<img src=\"https://raw.githubusercontent.com/tomctang/NB_img/main/EngMath_Series_02.png\" alt=\"fetalwks\" width=\"550\">\n"
   ]
  },
  {
   "cell_type": "markdown",
   "id": "9cd62716-8f48-46e4-87c5-b90e67cc62e0",
   "metadata": {},
   "source": [
    "The difference between Taylor series and MacLaurin series: \n",
    "- Taylor series can be expanded at any $x$ and are more generalized\n",
    "- Maclaurin series are always expanded at $x= 0$"
   ]
  },
  {
   "cell_type": "markdown",
   "id": "8d04b9e1-13a3-488e-a155-06df176745df",
   "metadata": {},
   "source": [
    "Ten Important Identities\n",
    "1. The quadratic equation : $ax^2+bx+c$ has 2 roots $r=\\large\\frac{-b\\pm\\sqrt{b^2-4ac}}{2a}$\n",
    "1. Fundamental trigonometric identity : $\\cos^2{\\theta}+\\sin^2{\\theta}=1$\n",
    "1. Trigonometric Definitions : $\\sec{\\theta}=\\frac{1}{\\cos{\\theta}}\\quad\\tan{\\theta}=\\frac{\\sin{\\theta}}{\\cos{\\theta}}\\quad\\csc{\\theta}=\\frac{1}{\\sin{\\theta}}\\quad\\cot{\\theta}=\\frac{\\cos{\\theta}}{\\sin{\\theta}}$\n",
    "1. Double Angle Formulae : $\\cos{2\\theta}=\\cos^2{\\theta}-\\sin^2{\\theta}\\quad\\sin{2\\theta}=2\\sin{\\theta} \\cos{\\theta}$\n",
    "1. Factorization of the difference of squares : $x^2-a^2=(x+a)(x-a)$\n",
    "\n",
    "1. Geometric Series : $\\large\\sum^{\\infty}_{n=0}x^n=\\frac{1}{1-x}$(very useful) for $|x|<1$ and $\\Sigma^{N}_{n=0}x^n= \\frac{N!}{n!(N-n)!}x^{N-n}y^n$ for all $x$.\n",
    "1. Binomial Theorem : $(x+y)^N=\\sum^{N}_{n=0}\\begin{pmatrix}N\\\\n\\end{pmatrix}x^{Nn}y^n=\\Sigma^{N}_{n=0}\\frac{N!}{n!(N-n)!}x^{N-n}y^n$\n",
    "    - see [Binomial Pyramid](../10pe/02discrete_continuous.ipynb#combinatorics)\n",
    "1. Power series for the exponential : $e^x=\\Sigma^{\\infty}_{n=0}\\frac{1}{n!}x^n$\n",
    "1. Relation for trig functions to exponentials : $\\cos{\\theta}=\\frac{1}{2}(e^{i\\theta}+e^{-i\\theta})$ and $\\sin{\\theta}=\\frac{1}{2i}(e^{i\\theta}-e^{-i\\theta})$\n",
    "1. Relation of hyp functions to exponentials : $\\cosh{x}=\\frac{1}{2}(e^x+e^{-x})$ and $\\sinh{x}=\\frac{1}{2}(e^x-e^{-x})$\n",
    "\n",
    "See coding translation:"
   ]
  },
  {
   "cell_type": "code",
   "execution_count": null,
   "id": "19d5796c",
   "metadata": {},
   "outputs": [
    {
     "data": {
      "text/html": [
       "<html>\\(\\displaystyle {\\sum_{n=0}^{+\\infty} x^{n}}\\)</html>"
      ],
      "text/latex": [
       "$\\displaystyle {\\sum_{n=0}^{+\\infty} x^{n}}$"
      ],
      "text/plain": [
       "sum(x^n, n, 0, +Infinity)"
      ]
     },
     "metadata": {},
     "output_type": "display_data"
    },
    {
     "data": {
      "text/html": [
       "<html>\\(\\displaystyle {\\sum_{x=0}^{n} \\binom{n}{x}} = 2^{n}\\)</html>"
      ],
      "text/latex": [
       "$\\displaystyle {\\sum_{x=0}^{n} \\binom{n}{x}} = 2^{n}$"
      ],
      "text/plain": [
       "sum(binomial(n, x), x, 0, n) == 2^n"
      ]
     },
     "metadata": {},
     "output_type": "display_data"
    },
    {
     "data": {
      "text/html": [
       "<html>\\(\\displaystyle {\\sum_{n=0}^{+\\infty} \\frac{x^{n}}{n!}}\\)</html>"
      ],
      "text/latex": [
       "$\\displaystyle {\\sum_{n=0}^{+\\infty} \\frac{x^{n}}{n!}}$"
      ],
      "text/plain": [
       "sum(x^n/factorial(n), n, 0, +Infinity)"
      ]
     },
     "metadata": {},
     "output_type": "display_data"
    },
    {
     "data": {
      "text/html": [
       "<html>\\(\\displaystyle e^{x}\\)</html>"
      ],
      "text/latex": [
       "$\\displaystyle e^{x}$"
      ],
      "text/plain": [
       "e^x"
      ]
     },
     "metadata": {},
     "output_type": "display_data"
    },
    {
     "data": {
      "text/html": [
       "<html>\\(\\displaystyle +\\infty\\)</html>"
      ],
      "text/latex": [
       "$\\displaystyle +\\infty$"
      ],
      "text/plain": [
       "+Infinity"
      ]
     },
     "metadata": {},
     "output_type": "display_data"
    },
    {
     "data": {
      "text/html": [
       "<html>\\(\\displaystyle \\sqrt{{\\sum_{n=1}^{+\\infty} \\frac{6}{n^{2}}}}\\)</html>"
      ],
      "text/latex": [
       "$\\displaystyle \\sqrt{{\\sum_{n=1}^{+\\infty} \\frac{6}{n^{2}}}}$"
      ],
      "text/plain": [
       "sqrt(sum(6/n^2, n, 1, +Infinity))"
      ]
     },
     "metadata": {},
     "output_type": "display_data"
    },
    {
     "data": {
      "text/html": [
       "<html>\\(\\displaystyle 3.14159265358979\\)</html>"
      ],
      "text/latex": [
       "$\\displaystyle 3.14159265358979$"
      ],
      "text/plain": [
       "3.14159265358979"
      ]
     },
     "metadata": {},
     "output_type": "display_data"
    }
   ],
   "source": [
    "# 6 Geometric\n",
    "x,n = var('x,n')\n",
    "f = x^n\n",
    "geo = sum(f,n,0,oo, hold=True)  # oo Infinity\n",
    "show(geo)\n",
    "\n",
    "# 7 Binomial \n",
    "sum1 = sum(binomial(n,x),x,0,n, hold=True) # hold=True == before evaluating\n",
    "show(sum1 == sum1.unhold())\n",
    "\n",
    "# 8 Power Series of e\n",
    "epow = sum(x^n/factorial(n),n,0,oo, hold=True)\n",
    "show(epow)\n",
    "show(epow.unhold())\n",
    "show(oo)\n",
    "\n",
    "# converged limit of pi\n",
    "ff = sqrt(sum(6/n^2 ,n,1,oo, hold=True))\n",
    "show(ff)\n",
    "show(ff.unhold().n())  "
   ]
  },
  {
   "cell_type": "markdown",
   "id": "164090c3-8d44-4200-b2fa-b6f07f26e9ed",
   "metadata": {},
   "source": [
    "Formulae\n",
    "- T Formulae\n",
    "  - $\\large t=\\tan{\\frac{x}{2}}$\n",
    "  - $\\large\\sin{x}=\\frac{2t}{1+t^2}$\n",
    "  - $\\large\\cos{x}=\\frac{1-t^2}{1+t^2}$\n",
    "  - $\\large\\tan{x}=\\frac{2t}{1-t^2}$\n",
    "  - $\\large dx=\\frac{2}{1+t^2}dt$"
   ]
  },
  {
   "cell_type": "markdown",
   "id": "6b8e96c9-61bb-4f94-a585-7fab3fc164a0",
   "metadata": {},
   "source": [
    "Video notes\n",
    "- The much less known inverse pythagoras theorem is $\\large\\frac{1}{a^2}+\\frac{1}{b^2}=\\frac{1}{h^2}$.\n",
    "- The sum of the series $\\sum_{j=1}^nj=\\large\\frac{n(n+1)}{2}$\n",
    "- The sum of the series $\\sum_{j=1}^nj^2=\\large\\frac{n(n+1)(2n+1)}{6}$\n",
    "- From the sum of the 2 previous series $\\sum_{j=1}^nj^3=\\large\\frac{n^2(n+1)^2}{4}$\n",
    "- For trigonometric substitution, both $x=\\sin{\\theta}$ and $x=\\cos{\\theta}$ can be used but use second option.\n",
    "- Gaussian Integral : $\\large\\int_{-\\infty}^{\\infty}dx\\ e^{-x^2}=\\sqrt{\\pi}$\n",
    "- Frullani Integral(useful) : $\\large\\int_0^{\\infty}\\mathrm{d}x\\frac{f(ax)-f(bx)}{x}=(f(0)-f(\\infty))\\ln{\\frac{b}{a}}$\n",
    "- All Pythagorean triplets can be found by using the formula $z$ -> $z^2$ where $z$ is a complex number. The method also requires multiplying by $\\frac{1}{2}$ or integers."
   ]
  },
  {
   "cell_type": "markdown",
   "id": "4d79a315-01cb-43ef-ba7c-be1d5953d604",
   "metadata": {},
   "source": [
    "To find the area bounded by a parametric curve, go to [A-level-further-Module-5](../10pe/Alevel_math_further.ipynb#module-5-further-applications-of-integration)"
   ]
  },
  {
   "cell_type": "markdown",
   "id": "d445c244-5d4a-46d9-9919-5476bf0f680d",
   "metadata": {},
   "source": [
    "- Mass for sphere : $M=\\int_0^Rdr r^2\\rho_0\\int_{-1}^1d\\cos{\\theta}\\int_0^{2\\pi}d\\phi$ where $\\rho_0$ is a constant in $\\rho(r)$.\n",
    "- Feynman Method : Insert a parameter (e.g. $\\alpha$) and evaluate if at a constant (e.g. $\\alpha=1$) then you have to add a $\\large\\frac{d^m}{d\\alpha^m}$ when you integrate the terms with $m$.\n",
    "- Formula for the moment of inertia : $$I=\\int d^3r\\rho(\\bf r)r^2_ \\perp(\\bf r)$$ where $\\rho(\\bf r)$ the mass density at the position $ \\bf r$ and $r_\\perp(\\bf r)$ is the perependicular distance of the position vector at $\\bf r$ to the rotation axis for the moment of inertia.\n",
    "- For sphere of d dimensions : \n",
    "    - D-dimensional vector is $x=(x_1,x_2,\\ldots,x_{d-1},x_d)$\n",
    "    - Spherical Coordinates : ${r(\\text{radius?}),\\theta_1,\\theta_2,\\ldots,\\theta_{d-1}}$\n",
    "    - Which satisfies : $x_1=r\\cos{\\theta_1}, x_2=r\\sin{\\theta_1}\\cos{theta_2}, x_3=r\\sin{\\theta_1}\\sin{\\theta_2}\\cos{\\theta_3},\\ldots,x_{d-1}=r\\sin{\\theta_1}\\sin{\\theta}_2\\ldots\\cos{\\theta_{d- 1}}$\n",
    "    - And also $x_d$ is the same as $x_{d-1}$ except the $\\cos$ is a $\\sin$\n",
    "    - Volume of d-sphere : $V_d=\\int_0^Rdrr^{d-1}\\int_0^\\pi d\\theta_1\\sin^d_2{\\theta_1}$ where sequence has $\\theta_n$ increasing to $\\theta_{n+1}$ and $\\sin$ power decreasing each time by 1 down to 1. Last integral in product : $\\int_0^{2\\pi}d\\theta{d-1}=2\\pi$\n",
    "    - Work out integrals of form $\\int_0^pi d\\theta\\sin^\\alpha\\theta=I(\\alpha)$\n",
    "    - $\\alpha I(\\alpha)=(\\alpha-1)I(\\alpha-2)+2\\delta_{\\alpha=1}$"
   ]
  },
  {
   "cell_type": "markdown",
   "id": "6fd16616",
   "metadata": {},
   "source": [
    "### Problem Set 4"
   ]
  },
  {
   "cell_type": "code",
   "execution_count": 1,
   "id": "e1253698",
   "metadata": {},
   "outputs": [
    {
     "data": {
      "text/html": [
       "<html>\\(\\displaystyle {\\sum_{n=0}^{+\\infty} \\left(-1\\right)^{n} {\\left(n + 1\\right)} z^{2 \\, n}} = \\frac{1}{z^{4} + 2 \\, z^{2} + 1}\\)</html>"
      ],
      "text/latex": [
       "$\\displaystyle {\\sum_{n=0}^{+\\infty} \\left(-1\\right)^{n} {\\left(n + 1\\right)} z^{2 \\, n}} = \\frac{1}{z^{4} + 2 \\, z^{2} + 1}$"
      ],
      "text/plain": [
       "sum((-1)^n*(n + 1)*z^(2*n), n, 0, +Infinity) == (1/(z^4 + 2*z^2 + 1))"
      ]
     },
     "metadata": {},
     "output_type": "display_data"
    }
   ],
   "source": [
    "var('n z')\n",
    "f=(-1)^n*(n+1)*z^(2*n)\n",
    "sum1=sum(f,n,0,oo,hold=True)\n",
    "show(sum1==sum1.unhold())"
   ]
  },
  {
   "cell_type": "code",
   "execution_count": 17,
   "id": "8216f1bc",
   "metadata": {},
   "outputs": [
    {
     "data": {
      "text/plain": [
       "0.748377581120944"
      ]
     },
     "execution_count": 17,
     "metadata": {},
     "output_type": "execute_result"
    }
   ],
   "source": [
    "expand((3390-x)^3)\n",
    "n(2537/3390)"
   ]
  },
  {
   "cell_type": "markdown",
   "id": "cf7cd5a1",
   "metadata": {},
   "source": [
    "- how to derive? and present math formula"
   ]
  },
  {
   "cell_type": "code",
   "execution_count": 4,
   "id": "b88a5ce7",
   "metadata": {},
   "outputs": [
    {
     "name": "stdout",
     "output_type": "stream",
     "text": [
      "10\n",
      "90\n",
      "480\n",
      "1680\n",
      "4032\n",
      "6720\n",
      "7680\n",
      "5760\n",
      "2560\n",
      "512\n"
     ]
    }
   ],
   "source": [
    "f(x)=2^(x-1)*binomial(10,x)\n",
    "for i in range(1,11):\n",
    "    print(f(i))"
   ]
  },
  {
   "cell_type": "markdown",
   "id": "8ddc5cef-efc8-4f74-b4fe-f6bfff75115f",
   "metadata": {
    "jp-MarkdownHeadingCollapsed": true
   },
   "source": [
    "### Week 4"
   ]
  },
  {
   "cell_type": "markdown",
   "id": "f1114d79",
   "metadata": {
    "vscode": {
     "languageId": "plaintext"
    }
   },
   "source": [
    "$I_{cylinder} = 2\\pi \\rho \\int_0^h dz \\int_ 0^R dr\\, r^3 = \\frac{1}{2}\\rho \\pi R^4h$"
   ]
  },
  {
   "cell_type": "markdown",
   "id": "ff37078c",
   "metadata": {},
   "source": [
    "For center of mass, integrate over the density formula times the dimension(e.g. for x-coordinates, multiply by x). Center of mass can then be used for moment of inertia."
   ]
  },
  {
   "cell_type": "markdown",
   "id": "c6c2363d",
   "metadata": {},
   "source": [
    "n,r,R,M -- those are commonly occupied by PC, so use full-word, like \"Mass\" et.al"
   ]
  },
  {
   "cell_type": "code",
   "execution_count": 6,
   "id": "4e9f3f7c-7e26-48cd-bc98-54fa93316ed2",
   "metadata": {},
   "outputs": [
    {
     "data": {
      "text/html": [
       "<html>\\(\\displaystyle \\int_{0}^{R} \\int_{0}^{\\pi} \\int_{0}^{2 \\, \\pi} r^{2} \\rho_{0} \\sin\\left(\\theta\\right)\\,{d \\phi}\\,{d \\theta}\\,{d r} = \\frac{4}{3} \\, \\pi R^{3} \\rho_{0}\\)</html>"
      ],
      "text/latex": [
       "$\\displaystyle \\int_{0}^{R} \\int_{0}^{\\pi} \\int_{0}^{2 \\, \\pi} r^{2} \\rho_{0} \\sin\\left(\\theta\\right)\\,{d \\phi}\\,{d \\theta}\\,{d r} = \\frac{4}{3} \\, \\pi R^{3} \\rho_{0}$"
      ],
      "text/plain": [
       "integrate(integrate(integrate(r^2*rho_0*sin(theta), phi, 0, 2*pi), theta, 0, pi), r, 0, R) == 4/3*pi*R^3*rho_0"
      ]
     },
     "metadata": {},
     "output_type": "display_data"
    },
    {
     "name": "stdout",
     "output_type": "stream",
     "text": [
      "0.443113462726379\n",
      "281.322939760601\n"
     ]
    },
    {
     "data": {
      "text/html": [
       "<html>\\(\\displaystyle \\frac{M r^{4}}{2 \\, R^{2}}\\)</html>"
      ],
      "text/latex": [
       "$\\displaystyle \\frac{M r^{4}}{2 \\, R^{2}}$"
      ],
      "text/plain": [
       "1/2*M*r^4/R^2"
      ]
     },
     "metadata": {},
     "output_type": "display_data"
    },
    {
     "name": "stdout",
     "output_type": "stream",
     "text": [
      "0.0416666666666667\n"
     ]
    }
   ],
   "source": [
    "# 3D integral\n",
    "var('r theta phi R rho_0')\n",
    "M = integral(integral(integral(rho_0*r^2*sin(theta), phi, 0, 2*pi, hold=True), \n",
    "                                theta, 0, pi, hold=True), \n",
    "                                r, 0, R, hold=True)\n",
    "show(M == M.unhold())\n",
    "\n",
    "r,R,M=var('r,R,M')\n",
    "print(n(sqrt(pi)/4))\n",
    "print(n(sqrt(3)*3*5*7*9*11/2^6))\n",
    "integral(2*pi*M/(pi*R^2)*r^3, r).show()\n",
    "print(n(1/24))"
   ]
  },
  {
   "cell_type": "markdown",
   "id": "42fc548b-a992-455d-981d-1b15734f3b25",
   "metadata": {
    "jp-MarkdownHeadingCollapsed": true
   },
   "source": [
    "### Week 3"
   ]
  },
  {
   "cell_type": "code",
   "execution_count": 17,
   "id": "cc23870a",
   "metadata": {},
   "outputs": [
    {
     "data": {
      "text/html": [
       "<html>\\(\\displaystyle \\frac{1}{16} \\, \\pi\\)</html>"
      ],
      "text/latex": [
       "$\\displaystyle \\frac{1}{16} \\, \\pi$"
      ],
      "text/plain": [
       "1/16*pi"
      ]
     },
     "metadata": {},
     "output_type": "display_data"
    }
   ],
   "source": [
    "a=4\n",
    "show(integral(1/(a^2+x^2), x, 0, a))"
   ]
  },
  {
   "cell_type": "code",
   "execution_count": null,
   "id": "deeef8e9-e420-48a6-bbf1-5a673c2204ef",
   "metadata": {},
   "outputs": [
    {
     "data": {
      "text/html": [
       "<html>\\(\\displaystyle -\\frac{x}{\\sqrt{-x^{2} + 1}}\\)</html>"
      ],
      "text/latex": [
       "$\\displaystyle -\\frac{x}{\\sqrt{-x^{2} + 1}}$"
      ],
      "text/plain": [
       "-x/sqrt(-x^2 + 1)"
      ]
     },
     "metadata": {},
     "output_type": "display_data"
    },
    {
     "data": {
      "text/html": [
       "<html>\\(\\displaystyle 1.57079632679490\\)</html>"
      ],
      "text/latex": [
       "$\\displaystyle 1.57079632679490$"
      ],
      "text/plain": [
       "1.57079632679490"
      ]
     },
     "metadata": {},
     "output_type": "display_data"
    },
    {
     "data": {
      "text/html": [
       "<html>\\(\\displaystyle -\\frac{\\sin\\left(x\\right)}{2 \\, {\\left(\\sin\\left(x\\right)^{2} - 1\\right)}} + \\frac{1}{4} \\, \\log\\left(\\sin\\left(x\\right) + 1\\right) - \\frac{1}{4} \\, \\log\\left(\\sin\\left(x\\right) - 1\\right)\\)</html>"
      ],
      "text/latex": [
       "$\\displaystyle -\\frac{\\sin\\left(x\\right)}{2 \\, {\\left(\\sin\\left(x\\right)^{2} - 1\\right)}} + \\frac{1}{4} \\, \\log\\left(\\sin\\left(x\\right) + 1\\right) - \\frac{1}{4} \\, \\log\\left(\\sin\\left(x\\right) - 1\\right)$"
      ],
      "text/plain": [
       "-1/2*sin(x)/(sin(x)^2 - 1) + 1/4*log(sin(x) + 1) - 1/4*log(sin(x) - 1)"
      ]
     },
     "metadata": {},
     "output_type": "display_data"
    },
    {
     "data": {
      "text/html": [
       "<html>\\(\\displaystyle 1.14779357469632\\)</html>"
      ],
      "text/latex": [
       "$\\displaystyle 1.14779357469632$"
      ],
      "text/plain": [
       "1.14779357469632"
      ]
     },
     "metadata": {},
     "output_type": "display_data"
    },
    {
     "data": {
      "text/html": [
       "<html>\\(\\displaystyle 0.448798950512828\\)</html>"
      ],
      "text/latex": [
       "$\\displaystyle 0.448798950512828$"
      ],
      "text/plain": [
       "0.448798950512828"
      ]
     },
     "metadata": {},
     "output_type": "display_data"
    },
    {
     "data": {
      "text/html": [
       "<html>\\(\\displaystyle 375.476377015253\\)</html>"
      ],
      "text/latex": [
       "$\\displaystyle 375.476377015253$"
      ],
      "text/plain": [
       "375.476377015253"
      ]
     },
     "metadata": {},
     "output_type": "display_data"
    }
   ],
   "source": [
    "show(diff(sqrt(1-x^2), x))\n",
    "show(n(pi/2))\n",
    "show(integral(sec(x)^3, x))\n",
    "show(n((ln(1+1/sqrt(2))-ln(1-1/sqrt(2))+4/sqrt(2))/4))\n",
    "show(n(pi/7))\n",
    "f(x)=x*sinh(x)-cosh(x) \n",
    "a=(e^2+e^(-2))/2\n",
    "show(n(2*pi*(f(a)-f(1))))"
   ]
  },
  {
   "cell_type": "code",
   "execution_count": null,
   "id": "04f87b03-8333-4899-924e-78aa12c427e4",
   "metadata": {},
   "outputs": [],
   "source": [
    "show(n(integral(x*cosh(x), x, 1, cosh(2))*2*pi))\n",
    "show(n(integral(x*sqrt(1+(1/(3*x^(2/3)))^2), x, 0, 1)*2*pi))\n",
    "show(n(sqrt(2)*pi))\n",
    "show(n(integral(x*sqrt(1+4*x^2), x, 0, 1)*2*pi))"
   ]
  },
  {
   "cell_type": "code",
   "execution_count": null,
   "id": "a4a7d286-d980-4dce-afbd-e3d0ff171e86",
   "metadata": {},
   "outputs": [
    {
     "data": {
      "text/html": [
       "<html>\\(\\displaystyle \\frac{1}{2 \\, {\\left(x^{2} + 4\\right)}} - \\frac{1}{8 \\, {\\left(x + 2\\right)}} + \\frac{1}{8 \\, {\\left(x - 2\\right)}}\\)</html>"
      ],
      "text/latex": [
       "$\\displaystyle \\frac{1}{2 \\, {\\left(x^{2} + 4\\right)}} - \\frac{1}{8 \\, {\\left(x + 2\\right)}} + \\frac{1}{8 \\, {\\left(x - 2\\right)}}$"
      ],
      "text/plain": [
       "1/2/(x^2 + 4) - 1/8/(x + 2) + 1/8/(x - 2)"
      ]
     },
     "metadata": {},
     "output_type": "display_data"
    },
    {
     "data": {
      "text/html": [
       "<html>\\(\\displaystyle 2 \\, \\arctan\\left(\\frac{1}{2} \\, x\\right)\\)</html>"
      ],
      "text/latex": [
       "$\\displaystyle 2 \\, \\arctan\\left(\\frac{1}{2} \\, x\\right)$"
      ],
      "text/plain": [
       "2*arctan(1/2*x)"
      ]
     },
     "metadata": {},
     "output_type": "display_data"
    },
    {
     "data": {
      "text/html": [
       "<html>\\(\\displaystyle \\frac{1}{2 \\, {\\left(x^{2} + 4\\right)}} - \\frac{1}{8 \\, {\\left(x + 2\\right)}} + \\frac{1}{8 \\, {\\left(x - 2\\right)}}\\)</html>"
      ],
      "text/latex": [
       "$\\displaystyle \\frac{1}{2 \\, {\\left(x^{2} + 4\\right)}} - \\frac{1}{8 \\, {\\left(x + 2\\right)}} + \\frac{1}{8 \\, {\\left(x - 2\\right)}}$"
      ],
      "text/plain": [
       "1/2/(x^2 + 4) - 1/8/(x + 2) + 1/8/(x - 2)"
      ]
     },
     "metadata": {},
     "output_type": "display_data"
    },
    {
     "data": {
      "text/html": [
       "<html>\\(\\displaystyle \\frac{x^{2}}{\\sqrt{-x^{2} + 1}} - \\sqrt{-x^{2} + 1} + \\frac{1}{\\sqrt{-x^{2} + 1}}\\)</html>"
      ],
      "text/latex": [
       "$\\displaystyle \\frac{x^{2}}{\\sqrt{-x^{2} + 1}} - \\sqrt{-x^{2} + 1} + \\frac{1}{\\sqrt{-x^{2} + 1}}$"
      ],
      "text/plain": [
       "x^2/sqrt(-x^2 + 1) - sqrt(-x^2 + 1) + 1/sqrt(-x^2 + 1)"
      ]
     },
     "metadata": {},
     "output_type": "display_data"
    },
    {
     "data": {
      "text/html": [
       "<html>\\(\\displaystyle \\frac{1}{2} \\, e^{\\left(\\frac{1}{2} \\, x\\right)}\\)</html>"
      ],
      "text/latex": [
       "$\\displaystyle \\frac{1}{2} \\, e^{\\left(\\frac{1}{2} \\, x\\right)}$"
      ],
      "text/plain": [
       "1/2*e^(1/2*x)"
      ]
     },
     "metadata": {},
     "output_type": "display_data"
    },
    {
     "data": {
      "text/html": [
       "<html>\\(\\displaystyle 2\\)</html>"
      ],
      "text/latex": [
       "$\\displaystyle 2$"
      ],
      "text/plain": [
       "2"
      ]
     },
     "metadata": {},
     "output_type": "display_data"
    }
   ],
   "source": [
    "show((x^2/(x^4-16)).partial_fraction())\n",
    "show(integral(4/(x^2+4), x))\n",
    "show(diff((2*arctan(x/2)-ln(x+2)+ln(x-2))/8, x))\n",
    "show(simplify(diff(arcsin(x)-x*sqrt(1-x^2), x)))\n",
    "show(diff(sqrt(e^x), x))\n",
    "show(diff(2*ln(e^(x)), x))"
   ]
  },
  {
   "cell_type": "markdown",
   "id": "faa824ed-084a-4df5-aa13-b330e7c77a81",
   "metadata": {
    "jp-MarkdownHeadingCollapsed": true
   },
   "source": [
    "### Week 2"
   ]
  },
  {
   "cell_type": "code",
   "execution_count": null,
   "id": "0058789f-4e5d-460d-810d-7b2a068aee5a",
   "metadata": {},
   "outputs": [],
   "source": [
    "show(plot(1-cos(x), (x, -pi, pi), figsize=4))"
   ]
  },
  {
   "cell_type": "code",
   "execution_count": null,
   "id": "f9885dae-fd5e-484b-aca0-36d396ab2c5d",
   "metadata": {},
   "outputs": [],
   "source": [
    "show(plot(ln(e^x+1), (x, -3, 5), figsize=3))"
   ]
  },
  {
   "cell_type": "code",
   "execution_count": null,
   "id": "d756216b-0004-48ca-8a5e-b9803059fa00",
   "metadata": {},
   "outputs": [],
   "source": [
    "a,n,x=var('a,n,x')\n",
    "f=((-1)^n*x*(a*x)^(2*n+1))/factorial(2*n+2)\n",
    "sum1=sum(f,n,0,oo,hold=True)\n",
    "show(sum1==sum1.unhold())"
   ]
  },
  {
   "cell_type": "code",
   "execution_count": null,
   "id": "2da7b279-b918-44cc-8ab3-b908f17ba5f8",
   "metadata": {},
   "outputs": [],
   "source": [
    "n,a = var('n,a')\n",
    "f=((-1)^n*(a*x)^(2*n+1))/factorial(2*n+1)\n",
    "sum1 = sum(f,n,0,oo, hold=True) # hold = before evaluating\n",
    "show(sum1 == sum1.unhold())"
   ]
  },
  {
   "cell_type": "code",
   "execution_count": null,
   "id": "9a3ab788-4559-40b1-852d-6ac18699a8a5",
   "metadata": {},
   "outputs": [],
   "source": [
    "a,n,x = var('a,n,x')\n",
    "f=((-a)^n*x^(n+1))/factorial(n+1)\n",
    "sum1 = sum(f,n,0,oo,hold=True)\n",
    "show(sum1 == sum1.unhold())\n",
    "# Every point on the curve can expand to a Taylor series\n",
    "show(plot(1-e^-x, (x, -3, 3), figsize=3)) "
   ]
  },
  {
   "cell_type": "code",
   "execution_count": null,
   "id": "893b1e1e-824e-4684-974d-7b65653090ae",
   "metadata": {},
   "outputs": [],
   "source": [
    "x1=5.99580197536\n",
    "x2=6.05575999511\n",
    "x3=3.83164672531\n",
    "x4=3.86996319256\n",
    "a=6.02-x1\n",
    "b=x2-x1\n",
    "c=a/b\n",
    "d=180+c\n",
    "f=d*0.75\n",
    "g=f-135\n",
    "h=x4-x3\n",
    "j=x3+g*h\n",
    "show(a)\n",
    "show(b)\n",
    "show(c)\n",
    "show(d)\n",
    "show(f)\n",
    "show(g)\n",
    "show(h)\n",
    "show(j)"
   ]
  },
  {
   "cell_type": "code",
   "execution_count": null,
   "id": "120dbc43-7ba7-4145-bb67-6a9406f23049",
   "metadata": {},
   "outputs": [],
   "source": [
    "def sum_recp(n):\n",
    "    ans=0\n",
    "    for i in range(1, n+1):\n",
    "        ans+=1/i\n",
    "    return ans\n",
    "for j in [5, 10, 15, 20]:\n",
    "    show(n(sum_recp(j)))"
   ]
  },
  {
   "cell_type": "markdown",
   "id": "c3ff7681-d3ad-4117-bfbd-815b7adb5f57",
   "metadata": {
    "jp-MarkdownHeadingCollapsed": true
   },
   "source": [
    "### Week 1"
   ]
  },
  {
   "cell_type": "code",
   "execution_count": null,
   "id": "2fcf6c89-6063-4169-8739-c1aeee194784",
   "metadata": {},
   "outputs": [],
   "source": [
    "g=9.81\n",
    "v=3.64/sqrt(3/g)\n",
    "theta=23*pi/180\n",
    "vx=v*cos(theta)\n",
    "vy=v*sin(theta)\n",
    "t1=vy/g\n",
    "s1=g/2*t1^2\n",
    "s2=s1+1.5+0.05*sin(theta)\n",
    "t2=sqrt(2*s2/g)\n",
    "t=t1+t2\n",
    "d=vx*t\n",
    "show(n(d))"
   ]
  },
  {
   "cell_type": "code",
   "execution_count": null,
   "id": "c954fcb5-e147-456e-bc86-52b278f6b939",
   "metadata": {},
   "outputs": [],
   "source": [
    "show(expand((1+(x^2/2-x^4/24+x^6/720)+(x^2/2-x^4/24+x^6/720)^2+(x^2/2-x^4/24+x^6/720)^3)*(x-x^3/6+x^5/120-x^7/5040)))"
   ]
  },
  {
   "cell_type": "code",
   "execution_count": null,
   "id": "22c06250-5572-47e7-8f84-f471ef46aa5d",
   "metadata": {},
   "outputs": [],
   "source": [
    "show(n(sin(pi/4)))\n",
    "f(x)=x-x^3/factorial(3)+x^5/factorial(5)-x^7/factorial(7)+x^9/factorial(9)\n",
    "show(n(f(0)))\n",
    "show(n(f(pi/4)))\n",
    "show(n(f(pi/2)))"
   ]
  },
  {
   "cell_type": "markdown",
   "id": "a3f6e632-104f-4ad8-9aab-63201d472f24",
   "metadata": {},
   "source": [
    "Projectile problem - Correct solution:"
   ]
  },
  {
   "cell_type": "code",
   "execution_count": null,
   "id": "34a48dc3-3b83-4115-a47c-526da8db2b56",
   "metadata": {},
   "outputs": [],
   "source": [
    "d=pi/180\n",
    "x,y=var('vy,ty')\n",
    "s=solve([ vy*ty==(200-4*sin(35*d)), vy==9.8*ty ],vy,ty,solution_dict=True)\n",
    "vy=s[1][vy]\n",
    "ty=s[1][ty]\n",
    "D=vy*(cos(35*d)/sin(35*d))*(ty+sqrt(200*ty/vy))\n",
    "show(D.n())"
   ]
  },
  {
   "cell_type": "code",
   "execution_count": null,
   "id": "4136a98e-b341-410b-8a06-0deda3e3fbd8",
   "metadata": {},
   "outputs": [],
   "source": [
    "show(plot(x/sin(x), (x, -pi, pi), figsize=4, ymin=0, ymax=7))"
   ]
  },
  {
   "cell_type": "code",
   "execution_count": null,
   "id": "f970e6a2-3a11-4838-a0de-93e8bff56132",
   "metadata": {
    "scrolled": true
   },
   "outputs": [],
   "source": [
    "f(x)=1/(1+e^x)\n",
    "show(plot(f(x), (x, -5, 5), figsize=3))\n",
    "show(plot(f(x)+f(-x), (x, -5, 5), figsize=3))\n",
    "show(plot(f(x)-f(-x), (x, -5, 5), figsize=3))\n",
    "show(plot(diff(f(x)), (x, -5, 5), figsize=3))\n",
    "show(plot(f(x)*(1-f(x)), (x, -5, 5), figsize=3))\n",
    "show(plot(f(x)*f(-x), (x, -5, 5), figsize=3))\n",
    "show(plot(x/sin(x), (x, -5, 5), figsize=3, ymin=-5, ymax=5))"
   ]
  },
  {
   "cell_type": "code",
   "execution_count": null,
   "id": "904106ab-4020-43a4-862c-ddedc54a2203",
   "metadata": {},
   "outputs": [],
   "source": [
    "s=7\n",
    "x=2\n",
    "for i in range(5):\n",
    "    x=(x+s/x)/2\n",
    "    show(n(x))\n",
    "show(n(sqrt(s)))"
   ]
  },
  {
   "cell_type": "markdown",
   "id": "b3a5a4ff",
   "metadata": {},
   "source": [
    "## Midterm 1-3"
   ]
  },
  {
   "cell_type": "code",
   "execution_count": null,
   "id": "0f685298",
   "metadata": {},
   "outputs": [],
   "source": [
    "var('a')\n",
    "show(diff(3^x,x))\n",
    "show(n((24*ln(2)-7)/9))\n",
    "show(plot((x^5-1)/ln(x),(x,0,1)))\n",
    "show(integral(,x))"
   ]
  },
  {
   "cell_type": "markdown",
   "id": "4aa13a88-8e71-46f1-9694-febb06bfb491",
   "metadata": {},
   "source": [
    "## Vector Calculus"
   ]
  },
  {
   "cell_type": "markdown",
   "id": "d28971cb",
   "metadata": {},
   "source": [
    "### Review"
   ]
  },
  {
   "cell_type": "markdown",
   "id": "8386a63c",
   "metadata": {},
   "source": [
    "<img src=\"https://raw.githubusercontent.com/tomctang/NB_img/main/Maxwell_eq1.jpg\" alt=\"vector_cal\" width=\"450\">\n",
    "\n",
    "Maxwell eq:\n",
    "\n",
    "1. Gauss's law for **static** electric fields ($E$)\n",
    "1. Gauss's law for **static** magnetic fields ($B$)\n",
    "1. Faraday's law which says a **changing magnetic field** (over time) produces an electric field\n",
    "1. Ampere-Maxwell's law says a **changing electric field** (over time) produces a magnetic field\n",
    "\n",
    "<img src=\"https://raw.githubusercontent.com/tomctang/NB_img/main/Maxwell_eq2.png\" alt=\"vector_cal\" width=\"800\">"
   ]
  },
  {
   "cell_type": "markdown",
   "id": "86a14692",
   "metadata": {},
   "source": [
    "> Field Theory\n",
    "\n",
    "Scalar field -> Vector field -> Tensor field\n",
    "\n",
    "- a scalar field has 1 value at a given point of a mathematical space (e.g. Euclidean space or manifold), \n",
    "- a vector field has 2 (direction and magnitude), vector field is a special case of a tensor field, or a tensor field of rank 1.\n",
    "- a tensor field has 2+ (e.g. represented by an ellipse at each point with semi-major axis length, semi-minor axis length, and direction)\n",
    "\n",
    "<img src=\"https://upload.wikimedia.org/wikipedia/commons/7/72/Tensor_field.png\" alt=\"vector_cal\" width=\"650\">\n",
    "<img src=\"https://raw.githubusercontent.com/tomctang/NB_img/main/Scalar-vec-mat-tensor.png\" alt=\"vector_cal\" width=\"650\">\n",
    "\n",
    "<img src=\"https://raw.githubusercontent.com/tomctang/NB_img/main/grad_div_curl.png\" alt=\"vector_cal\" width=\"450\">\n",
    "\n",
    "Vector field has two-forms of modelling (use separately or combined): \n",
    "1. connecting to a point, converge or diverge - divergence (e.g. electric charge); \n",
    "    - physical meaning? \n",
    "2. rotating a point - curl (e.g. cyclone, solar, galaxy)\n",
    "\n",
    "<img src=\"https://raw.githubusercontent.com/tomctang/NB_img/main/vectorfield.png\" alt=\"vector_cal\" width=\"800\">\n",
    "\n",
    "Math modelling of vector field: Grad, Div, Curl\n",
    "\n",
    "<img src=\"https://raw.githubusercontent.com/tomctang/NB_img/main/graddivcurl.png\" alt=\"vector_cal\" width=\"650\">\n",
    "\n",
    "<img src=\"https://raw.githubusercontent.com/tomctang/NB_img/main/graddivcurl2.png\" alt=\"vector_cal\" width=\"650\">\n",
    "\n",
    "Comparison of single-var, multi-var, vector calculus\n",
    "\n",
    "<img src=\"https://raw.githubusercontent.com/tomctang/NB_img/main/singlemultivector.png\" alt=\"vector_cal\" width=\"750\">\n",
    "\n",
    "The universe try to tell us that when you integrate the \"derivative\" of a function within a region\n",
    "> where the type of integration/derivative/region/function involved might be multidimensional, \n",
    "> but what you get just depends on the value on boundary function of that region\n",
    "\n",
    "This is one of the most beautiful things in the universe."
   ]
  },
  {
   "cell_type": "markdown",
   "id": "d2df183e",
   "metadata": {},
   "source": [
    "Video notes :\n",
    "- Remember divergence and curl formula for cartesian coordinates by calculating dot or cross product.\n",
    "- Divergence(Div) $\\nabla\\cdot\\vec{F}$\n",
    "    - Cartesian Coordinates : $\\large\\frac{dF_x}{dx}+\\frac{dF_y}{dy}+\\frac{dF_z}{dz}$\n",
    "    - Cylindrical Coordinates : $\\large\\frac{1}{r}\\frac{\\partial}{\\partial r}(rF_r)+\\frac{1}{r}\\frac{ \\partial F_\\theta}{\\partial\\theta}+\\frac{\\partial F_z}{\\partial z}$\n",
    "    - Spherical Coordinates : $\\large\\frac{1}{r^2}\\frac{\\partial}{\\partial r}(r^2F_r)+\\frac{1}{r \\sin{\\phi}}\\frac{\\partial}{\\partial\\phi}(\\sin{\\phi}F_\\phi)+\\frac{1}{r\\sin{\\phi}}\\frac{\\partial F_\\theta}{\\partial\\theta}$\n",
    "- Curl : \n",
    "    - Cartesian Coordinates : $\\vec{\\nabla} \\times \\vec{\\bf F} = \\hat{i}\\left( \\frac{\\partial F_{z}}{\\partial y} - \\frac{\\partial F_{y}}{\\partial z} \\right) + \\hat{j}\\left( \\frac{\\partial F_{x}}{\\partial z} - \\frac{\\partial F_{z}}{\\partial x} \\right) + \\hat{k}\\left( \\frac{\\partial F_{y}}{\\partial x} - \\frac{\\partial F_{x}}{\\partial y} \\right)$\n",
    "    - Cylindrical Coordinates: $\\nabla\\times \\vec{\\bf F}=\\left ( \\frac{1}{r}\\frac{\\partial F_z}{\\partial\\theta}-\\frac{\\partial F_\\theta}{\\partial z}\\right )\\hat e_r+\\left (\\frac{\\partial F_r}{\\partial z}-\\frac{\\partial F_z}{\\partial r}\\right )\\hat e_\\theta+\\left ( \\frac{1}{r}\\frac{\\partial \\left ( rF_\\theta\\right )}{\\partial r}-\\frac{1}{r}\\frac{\\partial F_r}{\\partial \\theta}\\right )\\hat e_z$\n",
    "    - Spherical Coordinates : $\\nabla\\times \\vec{\\bf F}=\\left ( \\frac{1}{r\\sin\\theta}\\frac{\\partial}{\\partial\\theta}\\left ( \\sin\\theta F_\\phi\\right )-\\frac{1}{r\\sin\\theta}\\frac{\\partial F_\\theta}{\\partial\\phi}\\right )\\hat e_r+\\left ( \\frac{1}{r\\sin\\theta}\\frac{\\partial F_r}{\\partial \\phi}-\\frac{1}{r}\\frac{\\partial}{\\partial r} (rF_\\phi)\\right )\\hat e_\\theta+\\left ( \\frac{1}{r}\\frac{\\partial}{\\partial r}(rF_\\theta)-\\frac{1}{r}\\frac{\\partial F_r}{\\partial\\theta}\\right )\\hat e_\\phi$\n",
    "- Spherical Coordinates : When integrating over the sphere, differentials are $d\\cos{\\theta}\\text{ and }d\\phi$. \n",
    "    - Limits of integration are $0$ and (usually) $2\\pi$ for $d\\phi$ and $d\\cos{\\theta}$ to account for the $\\sin{\\theta}$ in the $dS\\text{ or }dV$. \n",
    "    - $d\\theta$ can also be used.\n",
    "- $\\int dxdy\\sqrt{1+(\\frac{\\partial f}{\\partial x})^2+(\\frac{\\partial f}{\\partial})^2}$\n",
    "- $\\hat{\\bf e}$ means it is a unit vector (.VS. $\\vec{\\bf e}$ for general vector).\n",
    "- In spherical integration, replace $d\\phi$ with $d\\cos{\\theta}$\n",
    "- Divergence Theorem : $\\int_SdS\\vec{F}\\cdot\\hat{n}$=$\\int_VdV\\nabla\\cdot\\vec{F}$\n",
    "    - Calculating volumes with surfaces : $V=\\frac{1}{3}\\int_SdS\\vec{F}\\cdot\\hat{n}$\n",
    "- $\\vec{r}$ : position vector\n",
    "- $\\hat{n}$ : unit normal vector"
   ]
  },
  {
   "cell_type": "markdown",
   "id": "adae4386",
   "metadata": {},
   "source": [
    "| Formula | Sol: dimensional reduction |\n",
    "| - | - |\n",
    "| Newton-Leibniz formula | 1D -> dot |\n",
    "| Green theorem  | 2D -> 1D |\n",
    "| Gauss'law (Gauss' flux theorem) | 3D -> 2D |\n",
    "| Divergence theorem | nD -> 3D |"
   ]
  },
  {
   "cell_type": "markdown",
   "id": "6a314fba",
   "metadata": {},
   "source": [
    "- Line integral : Related to arc length so formula is $I=\\large\\int_a^bds\\vec{F}\\cdot\\hat{t}=\\int_{x_a}^{x_b}dx\\sqrt{1+(\\frac{df}{dx})^2}\\vec{F}(x)\\cdot\\hat{t}$\n",
    "    - $\\hat{t}$ is the tangent vector to path.\n",
    "    - $\\vec{F}$ is the vector field.\n",
    "    - Then use arc length formula or second section for the line integral.\n",
    "- Stokes' Theorem : $\\oint_Sds\\vec{F}\\cdot\\hat{t}=\\int_SdS(\\nabla\\times\\vec{F})\\cdot\\hat{n}$ or that the line integral around the path and the surface integral over the area bounded by the path is related 1:1.\n",
    "- Gradient($\\nabla f$): \n",
    "    - Cartesian Coordinates : $\\nabla f=\\frac{\\partial f}{\\partial x}\\hat{i}+\\frac{\\partial f}{\\partial y}\\hat{j}+\\frac{\\partial f}{\\partial z}\\hat{k}$\n",
    "    - Polar/Cylindrical Coordinates : $\\nabla f=\\frac{df}{dr}\\hat{r}+\\frac{1}{r}\\frac{df}{d\\theta}\\hat{\\theta}+\\frac{df}{dz}\\hat{z}$\n",
    "    - Spherical Coordinates : $\\nabla f=\\frac{df}{dr}\\hat{r}+\\frac{1}{r}\\frac{df}{d\\theta}+\\frac{1}{r\\sin{\\theta}}\\frac{dF_\\theta}{d\\phi}$"
   ]
  },
  {
   "cell_type": "markdown",
   "id": "060010a9",
   "metadata": {},
   "source": [
    "[Generalized Stokes' theorem or Fundamental Theorem of Multivariate Calculus](https://en.wikipedia.org/wiki/Generalized_Stokes_theorem)\n",
    "- In case you are curious, this deeper theorem captures all above theorems (and more) in one formula,\n",
    "- by analysing differential forms on manifolds, which simplifies several theorems from vector calculus "
   ]
  },
  {
   "cell_type": "markdown",
   "id": "ce673853",
   "metadata": {},
   "source": [
    "### Coding review"
   ]
  },
  {
   "cell_type": "markdown",
   "id": "47f6cf3a",
   "metadata": {},
   "source": [
    "[SageManifolds](https://sagemanifolds.obspm.fr/documentation.html) solve differential geometry and tensor calculus of any dimension"
   ]
  },
  {
   "cell_type": "code",
   "execution_count": 2,
   "id": "1ed3f561",
   "metadata": {},
   "outputs": [
    {
     "data": {
      "text/html": [
       "<html>\\(\\displaystyle v = \\left( x^{2} - y^{2} \\right) e_{ x } -2 \\, x y e_{ y }\\)</html>"
      ],
      "text/latex": [
       "$\\displaystyle v = \\left( x^{2} - y^{2} \\right) e_{ x } -2 \\, x y e_{ y }$"
      ],
      "text/plain": [
       "v = (x^2 - y^2) e_x - 2*x*y e_y"
      ]
     },
     "metadata": {},
     "output_type": "display_data"
    },
    {
     "data": {
      "text/html": [
       "<html>\\(\\displaystyle \\begin{array}{llcl} s:& \\mathbb{E}^{3} & \\longrightarrow & \\mathbb{R} \\\\ & \\left(x, y, z\\right) & \\longmapsto & x^{2} + y^{2} - z^{2} \\end{array}\\)</html>"
      ],
      "text/latex": [
       "$\\displaystyle \\begin{array}{llcl} s:& \\mathbb{E}^{3} & \\longrightarrow & \\mathbb{R} \\\\ & \\left(x, y, z\\right) & \\longmapsto & x^{2} + y^{2} - z^{2} \\end{array}$"
      ],
      "text/plain": [
       "s: E^3 → ℝ\n",
       "   (x, y, z) ↦ x^2 + y^2 - z^2"
      ]
     },
     "metadata": {},
     "output_type": "display_data"
    },
    {
     "data": {
      "text/html": [
       "<html>\\(\\displaystyle \\begin{array}{llcl} \\mathrm{div}\\left(v\\right):& \\mathbb{E}^{3} & \\longrightarrow & \\mathbb{R} \\\\ & \\left(x, y, z\\right) & \\longmapsto & 0 \\end{array}\\)</html>"
      ],
      "text/latex": [
       "$\\displaystyle \\begin{array}{llcl} \\mathrm{div}\\left(v\\right):& \\mathbb{E}^{3} & \\longrightarrow & \\mathbb{R} \\\\ & \\left(x, y, z\\right) & \\longmapsto & 0 \\end{array}$"
      ],
      "text/plain": [
       "div(v): E^3 → ℝ\n",
       "   (x, y, z) ↦ 0"
      ]
     },
     "metadata": {},
     "output_type": "display_data"
    },
    {
     "data": {
      "text/html": [
       "<html>\\(\\displaystyle \\mathrm{curl}\\left(v\\right) = 0\\)</html>"
      ],
      "text/latex": [
       "$\\displaystyle \\mathrm{curl}\\left(v\\right) = 0$"
      ],
      "text/plain": [
       "curl(v) = 0"
      ]
     },
     "metadata": {},
     "output_type": "display_data"
    },
    {
     "data": {
      "text/html": [
       "<html>\\(\\displaystyle \\mathrm{grad}\\left(s\\right) = 2 \\, x e_{ x } + 2 \\, y e_{ y } -2 \\, z e_{ z }\\)</html>"
      ],
      "text/latex": [
       "$\\displaystyle \\mathrm{grad}\\left(s\\right) = 2 \\, x e_{ x } + 2 \\, y e_{ y } -2 \\, z e_{ z }$"
      ],
      "text/plain": [
       "grad(s) = 2*x e_x + 2*y e_y - 2*z e_z"
      ]
     },
     "metadata": {},
     "output_type": "display_data"
    },
    {
     "data": {
      "text/html": [
       "<html>\\(\\displaystyle \\begin{array}{llcl} \\Delta\\left(s\\right):& \\mathbb{E}^{3} & \\longrightarrow & \\mathbb{R} \\\\ & \\left(x, y, z\\right) & \\longmapsto & 2 \\end{array}\\)</html>"
      ],
      "text/latex": [
       "$\\displaystyle \\begin{array}{llcl} \\Delta\\left(s\\right):& \\mathbb{E}^{3} & \\longrightarrow & \\mathbb{R} \\\\ & \\left(x, y, z\\right) & \\longmapsto & 2 \\end{array}$"
      ],
      "text/plain": [
       "Delta(s): E^3 → ℝ\n",
       "   (x, y, z) ↦ 2"
      ]
     },
     "metadata": {},
     "output_type": "display_data"
    }
   ],
   "source": [
    "# vector field - div, curl\n",
    "E.<x,y,z> = EuclideanSpace()  # set up coordinates in ()\n",
    "v = E.vector_field(x^2-y^2, -2*x*y, 0, name='v')\n",
    "s = E.scalar_field(x^2+y^2-z^2, name='s')\n",
    "show(v.display()) # original func\n",
    "show(s.display())\n",
    "\n",
    "show(v.div().display())\n",
    "show(v.curl().display())\n",
    "from sage.manifolds.operators import grad, laplacian\n",
    "show(grad(s).display()) \n",
    "show(laplacian(s).display()) "
   ]
  },
  {
   "cell_type": "code",
   "execution_count": null,
   "id": "64c0952d",
   "metadata": {},
   "outputs": [],
   "source": [
    "# divergence algo (manually)\n",
    "var('x y z') ; Fx=z^2 ; Fy=x^2 ; Fz=-y^2 \n",
    "div = diff(Fx,x) + diff(Fy,y) + diff(Fz,z)  \n",
    "show(div)\n",
    "\n",
    "# curl Approach 1: self-made algorithm\n",
    "curlx = diff(Fz,y) - diff(Fy,z)     \n",
    "curly = diff(Fx,z) - diff(Fz,x)\n",
    "curlz = diff(Fy,x) - diff(Fx,y)\n",
    "show(vector([curlx, curly, curlz]))\n",
    "\n",
    "# curl Approach 2: built-in function\n",
    "E.<x,y,z> = EuclideanSpace()  \n",
    "v = E.vector_field(z^2, x^2, -y^2, name='v')\n",
    "show(v.curl().display())\n",
    "\n",
    "E = EuclideanSpace(3)  # btw: set up \n",
    "show(E.cartesian_coordinates())\n",
    "show(E.cylindrical_coordinates())\n",
    "show(E.spherical_coordinates())"
   ]
  },
  {
   "cell_type": "code",
   "execution_count": null,
   "id": "e192d44b",
   "metadata": {},
   "outputs": [],
   "source": [
    "# From vector to calculus\n",
    "v = vector(RR, [1.2, 3.5, 4.6])\n",
    "w = vector(RR, [1.7,-2.3,5.2])\n",
    "show(v*w)\n",
    "show(v.cross_product(w))\n",
    "\n",
    "# Vector Calculus\n",
    "var('t')\n",
    "r=vector((2*t-4, t^2, (1/4)*t^3)) # start from displacement formula\n",
    "show(r)\n",
    "show(r(t=5))\n",
    "\n",
    "velocity = r.diff(t) # now velocity formula\n",
    "show(velocity)       # this expression does not function as a function\n",
    "show(velocity(t=1))  # so we substitute explicitly\n",
    "T=velocity/velocity.norm() # calculate the unit vector\n",
    "show(T(t=1).n())\n",
    "arc_length = numerical_integral(velocity.norm(), 0,1)\n",
    "show(arc_length)\n",
    "x,y,z=var('x y z')\n",
    "plot_vector_field3d((x*cos(z),-y*cos(z),sin(z)), (x,0,pi), (y,0,pi), (z,0,pi),colors=['red','green','blue'])"
   ]
  },
  {
   "cell_type": "markdown",
   "id": "1a44f114",
   "metadata": {},
   "source": [
    "### Week 6"
   ]
  },
  {
   "cell_type": "code",
   "execution_count": 18,
   "id": "dec95c62",
   "metadata": {},
   "outputs": [
    {
     "data": {
      "text/html": [
       "<html>\\(\\displaystyle \\frac{y}{x^{2} + y^{2}}\\)</html>"
      ],
      "text/latex": [
       "$\\displaystyle \\frac{y}{x^{2} + y^{2}}$"
      ],
      "text/plain": [
       "y/(x^2 + y^2)"
      ]
     },
     "metadata": {},
     "output_type": "display_data"
    },
    {
     "data": {
      "text/html": [
       "<html>\\(\\displaystyle -\\frac{y}{x^{2} {\\left(\\frac{y^{2}}{x^{2}} + 1\\right)}}\\)</html>"
      ],
      "text/latex": [
       "$\\displaystyle -\\frac{y}{x^{2} {\\left(\\frac{y^{2}}{x^{2}} + 1\\right)}}$"
      ],
      "text/plain": [
       "-y/(x^2*(y^2/x^2 + 1))"
      ]
     },
     "metadata": {},
     "output_type": "display_data"
    },
    {
     "data": {
      "text/html": [
       "<html>\\(\\displaystyle 78.0675372919750\\)</html>"
      ],
      "text/latex": [
       "$\\displaystyle 78.0675372919750$"
      ],
      "text/plain": [
       "78.0675372919750"
      ]
     },
     "metadata": {},
     "output_type": "display_data"
    },
    {
     "data": {
      "text/html": [
       "<html>\\(\\displaystyle 4.83655919486294\\)</html>"
      ],
      "text/latex": [
       "$\\displaystyle 4.83655919486294$"
      ],
      "text/plain": [
       "4.83655919486294"
      ]
     },
     "metadata": {},
     "output_type": "display_data"
    }
   ],
   "source": [
    "show(diff((ln(x^2+y^2))/2,y))\n",
    "show(diff(arctan(y/x),x))\n",
    "show(n(arctan(3+sqrt(3))*180/pi))\n",
    "show(n(sqrt(13+6*sqrt(3))))"
   ]
  },
  {
   "cell_type": "markdown",
   "id": "7c722b85",
   "metadata": {},
   "source": [
    "### Week 5"
   ]
  },
  {
   "cell_type": "code",
   "execution_count": null,
   "id": "c8b71baf",
   "metadata": {},
   "outputs": [
    {
     "data": {
      "text/latex": [
       "$\\displaystyle ((e^a - 1)*e^(-2*a) - (e^a - 1)*e^(-3*a))*a$"
      ],
      "text/plain": [
       "<IPython.core.display.Math object>"
      ]
     },
     "metadata": {},
     "output_type": "display_data"
    },
    {
     "data": {
      "text/latex": [
       "$\\displaystyle 2*x^2*y/(x^2 + y^2)^2 - y/(x^2 + y^2)$"
      ],
      "text/plain": [
       "<IPython.core.display.Math object>"
      ]
     },
     "metadata": {},
     "output_type": "display_data"
    },
    {
     "data": {
      "text/latex": [
       "$\\displaystyle -2*x^2*y/(x^2 + y^2)^2$"
      ],
      "text/plain": [
       "<IPython.core.display.Math object>"
      ]
     },
     "metadata": {},
     "output_type": "display_data"
    },
    {
     "data": {
      "text/latex": [
       "$\\displaystyle -3*x/(x^2 + 1)^(5/2)$"
      ],
      "text/plain": [
       "<IPython.core.display.Math object>"
      ]
     },
     "metadata": {},
     "output_type": "display_data"
    },
    {
     "data": {
      "text/latex": [
       "$\\displaystyle -3/2*a^2*n + 3*a*n*y$"
      ],
      "text/plain": [
       "<IPython.core.display.Math object>"
      ]
     },
     "metadata": {},
     "output_type": "display_data"
    }
   ],
   "source": [
    "var('y a n')\n",
    "f=a*e^(-x-y-a)\n",
    "show(integral(integral(f,x,0,a),y,0,a))\n",
    "show(diff(-x*y/(x^2+y^2),x))\n",
    "show(diff(x^2/(x^2+y^2),y))\n",
    "show(diff(1/(x^2+1)^(3/2),x))\n",
    "show(expand(integral(3*x*(y-(a/2)),x,n-(a/2),n+(a/2))))"
   ]
  },
  {
   "cell_type": "markdown",
   "id": "78e62221-2aa8-4482-a86a-968cedb27c79",
   "metadata": {},
   "source": [
    "### Week 4"
   ]
  },
  {
   "cell_type": "code",
   "execution_count": null,
   "id": "545ee0dd-c7ff-47b0-ae8f-d21c4a5eec76",
   "metadata": {},
   "outputs": [
    {
     "data": {
      "text/latex": [
       "$\\displaystyle -x*y/(x^2 + y^2)^(3/2)$"
      ],
      "text/plain": [
       "<IPython.core.display.Math object>"
      ]
     },
     "metadata": {},
     "output_type": "display_data"
    },
    {
     "data": {
      "text/latex": [
       "$\\displaystyle -x*y/(x^2 + y^2)^(3/2)$"
      ],
      "text/plain": [
       "<IPython.core.display.Math object>"
      ]
     },
     "metadata": {},
     "output_type": "display_data"
    },
    {
     "data": {
      "text/latex": [
       "$\\displaystyle x^2/(x^2 + y^2)^(3/2) - 1/sqrt(x^2 + y^2)$"
      ],
      "text/plain": [
       "<IPython.core.display.Math object>"
      ]
     },
     "metadata": {},
     "output_type": "display_data"
    },
    {
     "data": {
      "text/latex": [
       "$\\displaystyle y^2/(x^2 + y^2)^(3/2) - 1/sqrt(x^2 + y^2)$"
      ],
      "text/plain": [
       "<IPython.core.display.Math object>"
      ]
     },
     "metadata": {},
     "output_type": "display_data"
    }
   ],
   "source": [
    "var('x y')\n",
    "show(diff(x/sqrt(x^2+y^2), y))\n",
    "show(diff(y/sqrt(x^2+y^2), x))\n",
    "show(diff(-x/sqrt(x^2+y^2), x))\n",
    "show(diff(-y/sqrt(x^2+y^2), y))"
   ]
  }
 ],
 "metadata": {
  "kernelspec": {
   "display_name": "SageMath 10.5",
   "language": "sage",
   "name": "sagemath"
  },
  "language_info": {
   "codemirror_mode": {
    "name": "ipython",
    "version": 3
   },
   "file_extension": ".py",
   "mimetype": "text/x-python",
   "name": "sage",
   "nbconvert_exporter": "python",
   "pygments_lexer": "ipython3",
   "version": "3.12.5"
  }
 },
 "nbformat": 4,
 "nbformat_minor": 5
}
