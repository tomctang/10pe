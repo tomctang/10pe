{
 "cells": [
  {
   "cell_type": "markdown",
   "id": "22d2a363-c550-49ec-ac59-7ba9e4df8e24",
   "metadata": {},
   "source": [
    "# Math Computational Methods"
   ]
  },
  {
   "cell_type": "markdown",
   "id": "fbc4617f-1505-448e-b511-17e51c5f7b4a",
   "metadata": {},
   "source": [
    "Physics is math language in nature\n",
    "\n",
    "## Calculus Review"
   ]
  },
  {
   "cell_type": "markdown",
   "id": "8d04b9e1-13a3-488e-a155-06df176745df",
   "metadata": {},
   "source": [
    "Ten Important Identities\n",
    "1. The quadratic equation : $ax^2+bx+c$ has 2 roots $r=\\large\\frac{-b\\pm\\sqrt{b^2-4ac}}{2a}$\n",
    "1. Fundamental trigonometric identity : $\\cos^2{\\theta}+\\sin^2{\\theta}=1$\n",
    "1. Trigonometric Definitions : $\\sec{\\theta}=\\frac{1}{\\cos{\\theta}}\\quad\\tan{\\theta}=\\frac{\\sin{\\theta}}{\\cos{\\theta}}\\quad\\csc{\\theta}=\\frac{1}{\\sin{\\theta}}\\quad\\cot{\\theta}=\\frac{\\cos{\\theta}}{\\sin{\\theta}}$\n",
    "1. Double Angle Formulae : $\\cos{2\\theta}=\\cos^2{\\theta}-\\sin^2{\\theta}\\quad\\sin{2\\theta}=2\\sin{\\theta} \\cos{\\theta}$\n",
    "1. Factorization of the difference of squares : $x^2-a^2=(x+a)(x-a)$\n",
    "\n",
    "1. Geometric Series : $\\large\\sum^{\\infty}_{n=0}x^n=\\frac{1}{1-x}$(very useful) for $|x|<1$ and $\\Sigma^{N}_{n=0}x^n= \\frac{N!}{n!(N-n)!}x^{N-n}y^n$ for all $x$.\n",
    "1. Binomial Theorem : $(x+y)^N=\\sum^{N}_{n=0}\\begin{pmatrix}N\\\\n\\end{pmatrix}x^{Nn}y^n=\\Sigma^{N}_{n=0}\\frac{N!}{n!(N-n)!}x^{N-n}y^n$\n",
    "1. Power series for the exponential : $e^x=\\Sigma^{\\infty}_{n=0}\\frac{1}{n!}x^n$\n",
    "1. Relation for trig functions to exponentials : $\\cos{\\theta}=\\frac{1}{2}(e^{i\\theta}+e^{-i\\theta})$ and $\\sin{\\theta}=\\frac{1}{2i}(e^{i\\theta}-e^{-i\\theta})$\n",
    "1. Relation of hyp functions to exponentials : $\\cosh{x}=\\frac{1}{2}(e^x+e^{-x})$ and $\\sinh{x}=\\frac{1}{2}(e^x-e^{-x})$"
   ]
  },
  {
   "cell_type": "code",
   "execution_count": 7,
   "id": "a14527d6-8eca-4e83-a3f7-858b0c3723f4",
   "metadata": {},
   "outputs": [
    {
     "data": {
      "text/html": [
       "<html>\\(\\displaystyle {\\sum_{n=0}^{+\\infty} x^{n}}\\)</html>"
      ],
      "text/latex": [
       "$\\displaystyle {\\sum_{n=0}^{+\\infty} x^{n}}$"
      ],
      "text/plain": [
       "sum(x^n, n, 0, +Infinity)"
      ]
     },
     "metadata": {},
     "output_type": "display_data"
    }
   ],
   "source": [
    "# 6 Geometric\n",
    "x,n = var('x,n')\n",
    "f = x^n\n",
    "geo = sum(f,n,0,oo, hold=True)  # oo Infinity\n",
    "show(geo)"
   ]
  },
  {
   "cell_type": "code",
   "execution_count": 8,
   "id": "a91ebc7e-71d0-40c6-8568-3d4778cf9916",
   "metadata": {},
   "outputs": [
    {
     "data": {
      "text/html": [
       "<html>\\(\\displaystyle {\\sum_{k=0}^{n} \\binom{n}{k}} = 2^{n}\\)</html>"
      ],
      "text/latex": [
       "$\\displaystyle {\\sum_{k=0}^{n} \\binom{n}{k}} = 2^{n}$"
      ],
      "text/plain": [
       "sum(binomial(n, k), k, 0, n) == 2^n"
      ]
     },
     "metadata": {},
     "output_type": "display_data"
    }
   ],
   "source": [
    "# 7 Binomial \n",
    "n,k = var('n,k')\n",
    "sum1 = sum(binomial(n,k),k,0,n, hold=True) # hold=True == before evaluating\n",
    "show(sum1 == sum1.unhold())"
   ]
  },
  {
   "cell_type": "code",
   "execution_count": null,
   "id": "6e0baa07-3349-427f-9995-9ac16a5be18a",
   "metadata": {},
   "outputs": [],
   "source": [
    "# 8 Power Series of e\n",
    "x,n = var('x,n')\n",
    "epow = sum(x^n/factorial(n),n,0,oo, hold=True)\n",
    "show(epow)\n",
    "show(epow.unhold())\n",
    "show(oo)"
   ]
  },
  {
   "cell_type": "code",
   "execution_count": null,
   "id": "c9fd22d3-a251-4618-97ef-74ca65a17365",
   "metadata": {},
   "outputs": [],
   "source": [
    "n = var('n')\n",
    "ff = sqrt(sum(6/n^2 ,n,1,oo, hold=True))\n",
    "show(ff)\n",
    "show(ff.unhold().n())  # converged limit"
   ]
  },
  {
   "cell_type": "markdown",
   "id": "d17da9f8",
   "metadata": {},
   "source": [
    "<img src=\"https://raw.githubusercontent.com/tomctang/NB_img/main/seriesgraph.png\" alt=\"seriesgraph\" width=\"550\">\n"
   ]
  },
  {
   "cell_type": "markdown",
   "id": "9cd62716-8f48-46e4-87c5-b90e67cc62e0",
   "metadata": {},
   "source": [
    "The difference between Taylor series and MacLaurin series: \n",
    "- Taylor series can be expanded at any $x$ and are more generalized\n",
    "- Maclaurin series are always expanded at $x= 0$"
   ]
  },
  {
   "cell_type": "code",
   "execution_count": null,
   "id": "bc8ef717-1fff-4562-be75-e5e2687e5fe5",
   "metadata": {},
   "outputs": [],
   "source": [
    "show(taylor(e^x,x,0,10))\n",
    "\n",
    "@interact\n",
    "def _(m=input_box(1,label='Degree of Taylor polynomial',width=20)):\n",
    "    print(\"Approximation =\",N(sum(1/factorial(n),n,0,m),digits=30))\n",
    "    print(\"Actual value  =\",N(e,digits=30))"
   ]
  },
  {
   "cell_type": "markdown",
   "id": "6b8e96c9-61bb-4f94-a585-7fab3fc164a0",
   "metadata": {},
   "source": [
    "Video notes\n",
    "- The much less known inverse pythagoras theorem is $\\large\\frac{1}{a^2}+\\frac{1}{b^2}=\\frac{1}{h^2}$.\n",
    "- The sum of the series $\\sum_{j=1}^nj=\\large\\frac{n(n+1)}{2}$\n",
    "- The sum of the series $\\sum_{j=1}^nj^2=\\large\\frac{n(n+1)(2n+1)}{6}$\n",
    "- From the sum of the 2 previous series $\\sum_{j=1}^nj^3=\\large\\frac{n^2(n+1)^2}{4}$\n",
    "- All Pythagorean triplets can be found by using the formula $z$ -> $z^2$ where $z$ is a complex number. The method also requires multiplying by $\\frac{1}{2}$ or integers."
   ]
  },
  {
   "cell_type": "code",
   "execution_count": 6,
   "id": "f9885dae-fd5e-484b-aca0-36d396ab2c5d",
   "metadata": {},
   "outputs": [
    {
     "data": {
      "image/png": "[encoded data removed]",
      "text/plain": [
       "Graphics object consisting of 1 graphics primitive"
      ]
     },
     "metadata": {},
     "output_type": "display_data"
    }
   ],
   "source": [
    "show(plot(ln(e^x+1), (x, -3, 5), figsize=3))"
   ]
  },
  {
   "cell_type": "code",
   "execution_count": 1390,
   "id": "d756216b-0004-48ca-8a5e-b9803059fa00",
   "metadata": {},
   "outputs": [
    {
     "data": {
      "text/html": [
       "<html>\\(\\displaystyle {\\sum_{n=0}^{+\\infty} \\frac{\\left(-1\\right)^{n} \\left(a x\\right)^{2 \\, n + 1} x}{\\left(2 \\, n + 2\\right)!}} = \\frac{1}{2} \\, a x^{2} \\,_1F_2\\left(\\begin{matrix} 1 \\\\ 2,\\frac{3}{2} \\end{matrix} ; -\\frac{1}{4} \\, a^{2} x^{2} \\right)\\)</html>"
      ],
      "text/latex": [
       "$\\displaystyle {\\sum_{n=0}^{+\\infty} \\frac{\\left(-1\\right)^{n} \\left(a x\\right)^{2 \\, n + 1} x}{\\left(2 \\, n + 2\\right)!}} = \\frac{1}{2} \\, a x^{2} \\,_1F_2\\left(\\begin{matrix} 1 \\\\ 2,\\frac{3}{2} \\end{matrix} ; -\\frac{1}{4} \\, a^{2} x^{2} \\right)$"
      ],
      "text/plain": [
       "sum((-1)^n*(a*x)^(2*n + 1)*x/factorial(2*n + 2), n, 0, +Infinity) == 1/2*a*x^2*hypergeometric((1,), (2, 3/2), -1/4*a^2*x^2)"
      ]
     },
     "metadata": {},
     "output_type": "display_data"
    }
   ],
   "source": [
    "a,n,x=var('a,n,x')\n",
    "f=((-1)^n*x*(a*x)^(2*n+1))/factorial(2*n+2)\n",
    "sum1=sum(f,n,0,oo,hold=True)\n",
    "show(sum1==sum1.unhold())"
   ]
  },
  {
   "cell_type": "code",
   "execution_count": 9,
   "id": "2da7b279-b918-44cc-8ab3-b908f17ba5f8",
   "metadata": {},
   "outputs": [
    {
     "data": {
      "text/html": [
       "<html>\\(\\displaystyle {\\sum_{n=0}^{+\\infty} \\frac{\\left(-1\\right)^{n} \\left(a x\\right)^{2 \\, n + 1}}{\\left(2 \\, n + 1\\right)!}} = \\sin\\left(a x\\right)\\)</html>"
      ],
      "text/latex": [
       "$\\displaystyle {\\sum_{n=0}^{+\\infty} \\frac{\\left(-1\\right)^{n} \\left(a x\\right)^{2 \\, n + 1}}{\\left(2 \\, n + 1\\right)!}} = \\sin\\left(a x\\right)$"
      ],
      "text/plain": [
       "sum((-1)^n*(a*x)^(2*n + 1)/factorial(2*n + 1), n, 0, +Infinity) == sin(a*x)"
      ]
     },
     "metadata": {},
     "output_type": "display_data"
    }
   ],
   "source": [
    "n,a = var('n,a')\n",
    "f=((-1)^n*(a*x)^(2*n+1))/factorial(2*n+1)\n",
    "sum1 = sum(f,n,0,oo, hold=True) # hold = before evaluating\n",
    "show(sum1 == sum1.unhold())"
   ]
  },
  {
   "cell_type": "code",
   "execution_count": 5,
   "id": "9a3ab788-4559-40b1-852d-6ac18699a8a5",
   "metadata": {},
   "outputs": [
    {
     "data": {
      "text/html": [
       "<html>\\(\\displaystyle {\\sum_{n=0}^{+\\infty} \\frac{\\left(-a\\right)^{n} x^{n + 1}}{\\left(n + 1\\right)!}} = \\frac{2 \\, e^{\\left(-\\frac{1}{2} \\, a x\\right)} \\sinh\\left(\\frac{1}{2} \\, a x\\right)}{a}\\)</html>"
      ],
      "text/latex": [
       "$\\displaystyle {\\sum_{n=0}^{+\\infty} \\frac{\\left(-a\\right)^{n} x^{n + 1}}{\\left(n + 1\\right)!}} = \\frac{2 \\, e^{\\left(-\\frac{1}{2} \\, a x\\right)} \\sinh\\left(\\frac{1}{2} \\, a x\\right)}{a}$"
      ],
      "text/plain": [
       "sum((-a)^n*x^(n + 1)/factorial(n + 1), n, 0, +Infinity) == 2*e^(-1/2*a*x)*sinh(1/2*a*x)/a"
      ]
     },
     "metadata": {},
     "output_type": "display_data"
    },
    {
     "data": {
      "image/png": "[encoded data removed]",
      "text/plain": [
       "Graphics object consisting of 1 graphics primitive"
      ]
     },
     "metadata": {},
     "output_type": "display_data"
    }
   ],
   "source": [
    "a,n,x = var('a,n,x')\n",
    "f=((-a)^n*x^(n+1))/factorial(n+1)\n",
    "sum1 = sum(f,n,0,oo,hold=True)\n",
    "show(sum1 == sum1.unhold())\n",
    "# Every point on the curve can expand to a Taylor series\n",
    "show(plot(1-e^-x, (x, -3, 3), figsize=3)) "
   ]
  },
  {
   "cell_type": "code",
   "execution_count": 6,
   "id": "893b1e1e-824e-4684-974d-7b65653090ae",
   "metadata": {},
   "outputs": [
    {
     "data": {
      "text/html": [
       "<html>\\(\\displaystyle 0.0241980246399995\\)</html>"
      ],
      "text/latex": [
       "$\\displaystyle 0.0241980246399995$"
      ],
      "text/plain": [
       "0.0241980246399995"
      ]
     },
     "metadata": {},
     "output_type": "display_data"
    },
    {
     "data": {
      "text/html": [
       "<html>\\(\\displaystyle 0.0599580197499998\\)</html>"
      ],
      "text/latex": [
       "$\\displaystyle 0.0599580197499998$"
      ],
      "text/plain": [
       "0.0599580197499998"
      ]
     },
     "metadata": {},
     "output_type": "display_data"
    },
    {
     "data": {
      "text/html": [
       "<html>\\(\\displaystyle 0.403582785770699\\)</html>"
      ],
      "text/latex": [
       "$\\displaystyle 0.403582785770699$"
      ],
      "text/plain": [
       "0.403582785770699"
      ]
     },
     "metadata": {},
     "output_type": "display_data"
    },
    {
     "data": {
      "text/html": [
       "<html>\\(\\displaystyle 180.403582785771\\)</html>"
      ],
      "text/latex": [
       "$\\displaystyle 180.403582785771$"
      ],
      "text/plain": [
       "180.403582785771"
      ]
     },
     "metadata": {},
     "output_type": "display_data"
    },
    {
     "data": {
      "text/html": [
       "<html>\\(\\displaystyle 135.302687089328\\)</html>"
      ],
      "text/latex": [
       "$\\displaystyle 135.302687089328$"
      ],
      "text/plain": [
       "135.302687089328"
      ]
     },
     "metadata": {},
     "output_type": "display_data"
    },
    {
     "data": {
      "text/html": [
       "<html>\\(\\displaystyle 0.302687089328032\\)</html>"
      ],
      "text/latex": [
       "$\\displaystyle 0.302687089328032$"
      ],
      "text/plain": [
       "0.302687089328032"
      ]
     },
     "metadata": {},
     "output_type": "display_data"
    },
    {
     "data": {
      "text/html": [
       "<html>\\(\\displaystyle 0.0383164672500000\\)</html>"
      ],
      "text/latex": [
       "$\\displaystyle 0.0383164672500000$"
      ],
      "text/plain": [
       "0.0383164672500000"
      ]
     },
     "metadata": {},
     "output_type": "display_data"
    },
    {
     "data": {
      "text/html": [
       "<html>\\(\\displaystyle 3.84324462525524\\)</html>"
      ],
      "text/latex": [
       "$\\displaystyle 3.84324462525524$"
      ],
      "text/plain": [
       "3.84324462525524"
      ]
     },
     "metadata": {},
     "output_type": "display_data"
    }
   ],
   "source": [
    "x1=5.99580197536\n",
    "x2=6.05575999511\n",
    "x3=3.83164672531\n",
    "x4=3.86996319256\n",
    "a=6.02-x1\n",
    "b=x2-x1\n",
    "c=a/b\n",
    "d=180+c\n",
    "f=d*0.75\n",
    "g=f-135\n",
    "h=x4-x3\n",
    "j=x3+g*h\n",
    "show(a)\n",
    "show(b)\n",
    "show(c)\n",
    "show(d)\n",
    "show(f)\n",
    "show(g)\n",
    "show(h)\n",
    "show(j)"
   ]
  },
  {
   "cell_type": "code",
   "execution_count": null,
   "id": "120dbc43-7ba7-4145-bb67-6a9406f23049",
   "metadata": {},
   "outputs": [],
   "source": [
    "def sum_recp(n):\n",
    "    ans=0\n",
    "    for i in range(1, n+1):\n",
    "        ans+=1/i\n",
    "    return ans\n",
    "for j in [5, 10, 15, 20]:\n",
    "    show(n(sum_recp(j)))"
   ]
  },
  {
   "cell_type": "code",
   "execution_count": 1,
   "id": "2fcf6c89-6063-4169-8739-c1aeee194784",
   "metadata": {},
   "outputs": [
    {
     "data": {
      "text/html": [
       "<html>\\(\\displaystyle 5.31626930304160\\)</html>"
      ],
      "text/latex": [
       "$\\displaystyle 5.31626930304160$"
      ],
      "text/plain": [
       "5.31626930304160"
      ]
     },
     "metadata": {},
     "output_type": "display_data"
    }
   ],
   "source": [
    "g=9.81\n",
    "v=3.64/sqrt(3/g)\n",
    "theta=23*pi/180\n",
    "vx=v*cos(theta)\n",
    "vy=v*sin(theta)\n",
    "t1=vy/g\n",
    "s1=g/2*t1^2\n",
    "s2=s1+1.5+0.05*sin(theta)\n",
    "t2=sqrt(2*s2/g)\n",
    "t=t1+t2\n",
    "d=vx*t\n",
    "show(n(d))"
   ]
  },
  {
   "cell_type": "code",
   "execution_count": null,
   "id": "c954fcb5-e147-456e-bc86-52b278f6b939",
   "metadata": {},
   "outputs": [],
   "source": [
    "show(expand((1+(x^2/2-x^4/24+x^6/720)+(x^2/2-x^4/24+x^6/720)^2+(x^2/2-x^4/24+x^6/720)^3)*(x-x^3/6+x^5/120-x^7/5040)))"
   ]
  },
  {
   "cell_type": "code",
   "execution_count": null,
   "id": "22c06250-5572-47e7-8f84-f471ef46aa5d",
   "metadata": {},
   "outputs": [],
   "source": [
    "show(n(sin(pi/4)))\n",
    "f(x)=x-x^3/factorial(3)+x^5/factorial(5)-x^7/factorial(7)+x^9/factorial(9)\n",
    "show(n(f(0)))\n",
    "show(n(f(pi/4)))\n",
    "show(n(f(pi/2)))"
   ]
  },
  {
   "cell_type": "markdown",
   "id": "a3f6e632-104f-4ad8-9aab-63201d472f24",
   "metadata": {},
   "source": [
    "Projectile problem - Correct solution:"
   ]
  },
  {
   "cell_type": "code",
   "execution_count": 3,
   "id": "34a48dc3-3b83-4115-a47c-526da8db2b56",
   "metadata": {},
   "outputs": [
    {
     "data": {
      "text/html": [
       "<html>\\(\\displaystyle 566.339564823947\\)</html>"
      ],
      "text/latex": [
       "$\\displaystyle 566.339564823947$"
      ],
      "text/plain": [
       "566.339564823947"
      ]
     },
     "metadata": {},
     "output_type": "display_data"
    }
   ],
   "source": [
    "d=pi/180\n",
    "x,y=var('vy,ty')\n",
    "s=solve([ vy*ty==(200-4*sin(35*d)), vy==9.8*ty ],vy,ty,solution_dict=True)\n",
    "vy=s[1][vy]\n",
    "ty=s[1][ty]\n",
    "D=vy*(cos(35*d)/sin(35*d))*(ty+sqrt(200*ty/vy))\n",
    "show(D.n())"
   ]
  },
  {
   "cell_type": "code",
   "execution_count": null,
   "id": "4136a98e-b341-410b-8a06-0deda3e3fbd8",
   "metadata": {},
   "outputs": [],
   "source": [
    "show(plot(x/sin(x), (x, -pi, pi), figsize=4, ymin=0, ymax=7))"
   ]
  },
  {
   "cell_type": "code",
   "execution_count": null,
   "id": "f970e6a2-3a11-4838-a0de-93e8bff56132",
   "metadata": {
    "scrolled": true
   },
   "outputs": [],
   "source": [
    "f(x)=1/(1+e^x)\n",
    "show(plot(f(x), (x, -5, 5), figsize=3))\n",
    "show(plot(f(x)+f(-x), (x, -5, 5), figsize=3))\n",
    "show(plot(f(x)-f(-x), (x, -5, 5), figsize=3))\n",
    "show(plot(diff(f(x)), (x, -5, 5), figsize=3))\n",
    "show(plot(f(x)*(1-f(x)), (x, -5, 5), figsize=3))\n",
    "show(plot(f(x)*f(-x), (x, -5, 5), figsize=3))\n",
    "show(plot(x/sin(x), (x, -5, 5), figsize=3, ymin=-5, ymax=5))"
   ]
  },
  {
   "cell_type": "code",
   "execution_count": null,
   "id": "904106ab-4020-43a4-862c-ddedc54a2203",
   "metadata": {},
   "outputs": [],
   "source": [
    "s=7\n",
    "x=2\n",
    "for i in range(5):\n",
    "    x=(x+s/x)/2\n",
    "    show(n(x))\n",
    "show(n(sqrt(s)))"
   ]
  }
 ],
 "metadata": {
  "kernelspec": {
   "display_name": "SageMath 10.5",
   "language": "sage",
   "name": "sagemath"
  },
  "language_info": {
   "codemirror_mode": {
    "name": "ipython",
    "version": 3
   },
   "file_extension": ".py",
   "mimetype": "text/x-python",
   "name": "python",
   "nbconvert_exporter": "python",
   "pygments_lexer": "ipython3",
   "version": "3.12.5"
  }
 },
 "nbformat": 4,
 "nbformat_minor": 5
}
