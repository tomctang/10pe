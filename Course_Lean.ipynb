{
 "cells": [
  {
   "cell_type": "markdown",
   "id": "1fa51270",
   "metadata": {
    "vscode": {
     "languageId": "sage"
    }
   },
   "source": [
    "# Lean"
   ]
  },
  {
   "cell_type": "markdown",
   "id": "fe88cdda",
   "metadata": {},
   "source": [
    "Tactics\n",
    "- apply : This tactic applies theorems and assumptions at assumptions. This tactic is similar to rw.\n",
    "- assumption : This tactic searches for assumptions that are exactly the same as the goal.\n",
    "- contradiction : This tactic proves statements that cannot be proved using other methods.\n",
    "- decide : This tactic tries to solve goals by using algorithms.\n",
    "- exact : This tactic proves goals based on the theorems and assumptions written after it.\n",
    "- have : This tactic introduces an assumption that can be proved based on evidence(providing evidence to prove it is optional when using tactic).\n",
    "- intro : This tactic introduces a hypothesis(assumption) based on the goal if possible.\n",
    "- left : The goal or hypothesis changes from A or B to A(because A is on the left)."
   ]
  },
  {
   "cell_type": "markdown",
   "id": "65e1ee86",
   "metadata": {},
   "source": [
    "- revert : This is the opposite of intro.\n",
    "- right : The goal or hypothesis changes from A or B to B(because B is on the right).\n",
    "- rfl(reflexitivity) : This tactic proves all goals of the form $X=X$\n",
    "- rw(rewrite) : This rewrites the goal.\n",
    "    - Square brackets must be included.\n",
    "    - Type the theorem in the square brackets.\n",
    "    - By typing nth_rw (number), this tactic only rewrites the nth place where you can use the theorem or assumption.\n",
    "- simp : This uses other tactics to try and simplify the goal or hypothesis.\n",
    "- symm : $a=b$ implies $b=a$\n",
    "- tauto : This tactic proves all logic statements.\n",
    "- trivial : This tactic proves goals of the form True."
   ]
  },
  {
   "cell_type": "markdown",
   "id": "50d1aa85",
   "metadata": {},
   "source": [
    "Theorems\n",
    "- add_assoc : $(a+b)+c=a+(b+c)\\quad$(In Lean, $a+b+c$ means $(a+b)+c$.)\n",
    "- add_comm : $a+b=b+a$\n",
    "- add_succ : $a+succ(b)=succ(a+b)$\n",
    "- add_zero : $a+0=a$\n",
    "- mul_zero : $a*0=0$\n",
    "- not_not : $\\neg\\neg A=A$\n",
    "- one_ne_zero : $1\\ne0$\n",
    "- pow_one : $a^1=a$\n",
    "- pow_two : $a^2=a*a$\n",
    "- pow_zero : $a^0=1$\n",
    "- succ_add : $succ(a)+b=succ(a+b)$\n",
    "- succ_eq_add_one : $succ(n)=n+1$\n",
    "- zero_add : $0+a=a$\n",
    "- zero_mul : $0*a=0$\n",
    "- zero_ne_one : $0\\ne1$\n",
    "- zero_pow_succ : $0^n=0\\quad$(Where n is a successor($n\\gt0$).)\n",
    "- zero_pow_zero : $0^0=1\\quad$(In Lean, $0^0$ is not undefined.)"
   ]
  },
  {
   "cell_type": "code",
   "execution_count": null,
   "id": "322650ff",
   "metadata": {
    "vscode": {
     "languageId": "plaintext"
    }
   },
   "outputs": [],
   "source": [
    "(Unfinished proof for le_total)\n",
    "induction y with d hd\n",
    "right\n",
    "apply zero_le\n",
    "cases hd with h1 h2\n",
    "left\n",
    "apply le_trans\n",
    "exact h1\n",
    "exact le_succ_self d\n",
    "cases h2 with e he\n",
    "cases e with a\n",
    "rw[add_zero] at he\n",
    "rw[he]\n",
    "left\n",
    "apply le_succ_self\n",
    "right\n",
    "rw[he]\n",
    "rw[add_succ]"
   ]
  }
 ],
 "metadata": {
  "language_info": {
   "name": "python"
  }
 },
 "nbformat": 4,
 "nbformat_minor": 5
}
