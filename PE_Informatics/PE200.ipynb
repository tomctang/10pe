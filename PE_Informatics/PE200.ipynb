{
 "cells": [
  {
   "cell_type": "markdown",
   "metadata": {},
   "source": [
    "# Project Euler Q101-"
   ]
  },
  {
   "cell_type": "code",
   "execution_count": null,
   "metadata": {
    "vscode": {
     "languageId": "sage"
    }
   },
   "outputs": [],
   "source": [
    "%run PE_pre_running.py"
   ]
  },
  {
   "cell_type": "markdown",
   "metadata": {},
   "source": [
    "#### PE 104"
   ]
  },
  {
   "cell_type": "code",
   "execution_count": 4,
   "metadata": {
    "vscode": {
     "languageId": "sage"
    }
   },
   "outputs": [
    {
     "data": {
      "text/plain": [
       "329468"
      ]
     },
     "execution_count": 4,
     "metadata": {},
     "output_type": "execute_result"
    }
   ],
   "source": [
    "# 104 Pandigital Fibonacci Ends\n",
    "log_phi=log(golden_ratio,10)\n",
    "log_sqrt5=log(sqrt(5),10)\n",
    "s=set('123456789')\n",
    "def first9(num):\n",
    "    x=num*log_phi-log_sqrt5\n",
    "    fracpart=x-floor(x)\n",
    "    return int(10^(fracpart+8))\n",
    "def is_pandigital(num):\n",
    "    return set(str(num))==s\n",
    "def solve(limit):\n",
    "    a,b=1,1\n",
    "    for i in range(3,limit):\n",
    "        a,b=b,(a+b)%10^9\n",
    "        if is_pandigital(b) and is_pandigital(first9(i)):\n",
    "            return i\n",
    "solve(10^6)"
   ]
  },
  {
   "cell_type": "code",
   "execution_count": 6,
   "metadata": {
    "vscode": {
     "languageId": "sage"
    }
   },
   "outputs": [
    {
     "name": "stdout",
     "output_type": "stream",
     "text": [
      "done!\n"
     ]
    }
   ],
   "source": [
    "# 104 Pandigital Fibonacci Ends\n",
    "def is_pandigital(num):\n",
    "    return sorted(list(map(int,str(num))))==list(range(10))\n",
    "limit=10^4\n",
    "for i in range(1,limit):\n",
    "    num=fibonacci(i)\n",
    "    end=num%(num^9)\n",
    "    start=floor(10^(n(frac(log(num,10)))+8))\n",
    "    if is_pandigital(start) and is_pandigital(end):\n",
    "        print(i)\n",
    "        break\n",
    "print('done!')"
   ]
  },
  {
   "cell_type": "code",
   "execution_count": null,
   "metadata": {
    "vscode": {
     "languageId": "sage"
    }
   },
   "outputs": [],
   "source": [
    "# 104 Pandigital Fibonacci Ends\n",
    "def fib_pandigital_front(n):\n",
    "    return sorted(list(map(int,str(n)))[:9])==list(range(1,10))\n",
    "def fib_pandigital_back(n):\n",
    "    return sorted(list(map(int,str(n%10^9))))==list(range(1,10))\n",
    "limit=30000\n",
    "lst=list(fibonacci_sequence(limit))\n",
    "for num in lst:\n",
    "    if fib_pandigital_front(num) and fib_pandigital_back(num):\n",
    "        print(lst.index(num))\n",
    "        break\n",
    "print('done!')"
   ]
  },
  {
   "cell_type": "code",
   "execution_count": null,
   "metadata": {
    "vscode": {
     "languageId": "sage"
    }
   },
   "outputs": [],
   "source": [
    "# 104 Pandigital Fibonacci Ends\n",
    "# find quicker solution\n",
    "import sys\n",
    "sys.set_int_max_str_digits(1000000)\n",
    "def fib_pandigital_front(n):\n",
    "    fib=list(map(int,str(fastFib(n))))\n",
    "    fib=fib[:9]\n",
    "    fib.sort()\n",
    "    if fib==[1,2,3,4,5,6,7,8,9]:\n",
    "        return True\n",
    "    return False\n",
    "\n",
    "def fib_pandigital_back(n):\n",
    "    fib=list(map(int,str(fastFib(n))))\n",
    "    fib=fib[-9:]\n",
    "    fib.sort()\n",
    "    if fib==[1,2,3,4,5,6,7,8,9]:\n",
    "        return True\n",
    "    return False\n",
    "\n",
    "n=89000\n",
    "while True:\n",
    "    print(n)\n",
    "    if fib_pandigital_back(n) and fib_pandigital_front(n):\n",
    "        print(n)\n",
    "        break\n",
    "    n+=1"
   ]
  },
  {
   "cell_type": "markdown",
   "metadata": {},
   "source": [
    "#### PE 112"
   ]
  },
  {
   "cell_type": "code",
   "execution_count": null,
   "metadata": {
    "vscode": {
     "languageId": "sage"
    }
   },
   "outputs": [],
   "source": [
    "# rgba(19, 19, 40, 1) Bouncy Numbers\n",
    "from time import time\n",
    "start=time()\n",
    "def listint(num):\n",
    "    integer=''\n",
    "    for number in num:\n",
    "        integer=integer+str(number)\n",
    "    return int(integer)\n",
    "def bouncy(n):\n",
    "    input=list(map(int, str(n)))\n",
    "    return input!=sorted(input) and input!=sorted(input).reverse()\n",
    "def bouncy_percentage(n):\n",
    "    sum_bouncy=0\n",
    "    for i in range(1, n+1):\n",
    "        if bouncy(i)==True:\n",
    "            sum_bouncy+=1\n",
    "    ratio=sum_bouncy/n\n",
    "    return ratio*100\n",
    "print(bouncy_percentage(1587000))\n",
    "end=time()\n",
    "print(end-start)\n",
    "# ans - 1587000"
   ]
  },
  {
   "cell_type": "markdown",
   "metadata": {},
   "source": [
    "#### PE 113\n",
    "Use binomial coefficient."
   ]
  },
  {
   "cell_type": "markdown",
   "metadata": {
    "vscode": {
     "languageId": "sage"
    }
   },
   "source": [
    "#### PE 120\n",
    "- Set total to 0.\n",
    "- Iterate through $3\\leq a\\leq1000$\n",
    "    - Set maximum remainder to 0\n",
    "    - Iterate through $1<=k<=2a$(the remainders will have a pattern)\n",
    "        - Find remainder\n",
    "        - Change maximum remainder if needed\n",
    "    - Increment the total by the maximum remainder\n",
    "- Display the total"
   ]
  },
  {
   "cell_type": "code",
   "execution_count": 10,
   "metadata": {
    "vscode": {
     "languageId": "sage"
    }
   },
   "outputs": [
    {
     "data": {
      "text/plain": [
       "333082500"
      ]
     },
     "execution_count": 10,
     "metadata": {},
     "output_type": "execute_result"
    }
   ],
   "source": [
    "# 120 Square Remainders\n",
    "total=0\n",
    "for a in range(3,1001):\n",
    "    max_r=0\n",
    "    for k in range(1,2*a+1):\n",
    "        r=((a-1)^k+(a+1)^k)%a^2\n",
    "        max_r=max(max_r,r)\n",
    "    total+=max_r\n",
    "total"
   ]
  },
  {
   "cell_type": "markdown",
   "metadata": {},
   "source": [
    "#### PE 121"
   ]
  },
  {
   "cell_type": "code",
   "execution_count": null,
   "metadata": {
    "vscode": {
     "languageId": "sage"
    }
   },
   "outputs": [],
   "source": [
    "(* 121 Disc Game Prize Fund \n",
    "    Person will have to pull out blue >=8 times*)\n",
    "ncr[n_,r_]:=n!/(r!*(n-r)!) (*n choose r combinatorics function*)\n",
    "blueChance[blues_]:=\n",
    "lst=Table[blueChance[n]*ncr[15,n],{n,8,15}]\n",
    "n=Floor[1/(Total[lst]/2^15)]"
   ]
  },
  {
   "cell_type": "markdown",
   "metadata": {},
   "source": [
    "#### PE 124\n",
    "The sage radical function calculates the product of the distinct prime factors of a number: $\\text{rad}(n)=\\Pi_{p|n}p$ where p is prime."
   ]
  },
  {
   "cell_type": "code",
   "execution_count": null,
   "metadata": {
    "vscode": {
     "languageId": "sage"
    }
   },
   "outputs": [],
   "source": [
    "lst=[radical(i) for i in range(1,100001)]\n",
    "sorted_lst=sorted(lst)\n",
    "for i in range(9990,10002):\n",
    "    # print(i)\n",
    "    # print(sorted_lst[i])\n",
    "    pass"
   ]
  },
  {
   "cell_type": "code",
   "execution_count": null,
   "metadata": {
    "vscode": {
     "languageId": "sage"
    }
   },
   "outputs": [],
   "source": [
    "lst=[radical(i) for i in range(1,100000)]\n",
    "for i in range(3):\n",
    "    lst.remove(1947)\n",
    "# lst.index(1947)+4"
   ]
  },
  {
   "cell_type": "markdown",
   "metadata": {},
   "source": [
    "#### PE 125"
   ]
  },
  {
   "cell_type": "code",
   "execution_count": 64,
   "metadata": {
    "vscode": {
     "languageId": "sage"
    }
   },
   "outputs": [
    {
     "data": {
      "text/plain": [
       "2906969179"
      ]
     },
     "execution_count": 64,
     "metadata": {},
     "output_type": "execute_result"
    }
   ],
   "source": [
    "def is_palindrome(n):\n",
    "    if n < 0:\n",
    "        return False\n",
    "    reversed_n = 0\n",
    "    temp = n\n",
    "    while temp > 0:\n",
    "        reversed_n = reversed_n * 10 + temp % 10\n",
    "        temp //= 10\n",
    "    return n==reversed_n\n",
    "\n",
    "limit = 10**8\n",
    "max_k = isqrt(limit // 2)  # Approx 7071\n",
    "squares = [k^2 for k in range(1, max_k + 1)]\n",
    "palindromic_sums = set()\n",
    "for i in range(len(squares)):\n",
    "    s = squares[i]\n",
    "    for j in range(i + 1, len(squares)):\n",
    "        s += squares[j]\n",
    "        if s >= limit:\n",
    "            break\n",
    "        if is_palindrome(s):\n",
    "            palindromic_sums.add(s)\n",
    "total = sum(palindromic_sums);total"
   ]
  },
  {
   "cell_type": "code",
   "execution_count": 66,
   "metadata": {
    "vscode": {
     "languageId": "sage"
    }
   },
   "outputs": [
    {
     "name": "stdout",
     "output_type": "stream",
     "text": [
      "2245\n"
     ]
    },
    {
     "data": {
      "text/plain": [
       "313698021"
      ]
     },
     "execution_count": 66,
     "metadata": {},
     "output_type": "execute_result"
    }
   ],
   "source": [
    "# 125 Palindromic Sums\n",
    "limit=10^7\n",
    "lst=list(map(lambda x:x^2,range(1,isqrt(limit//2)+10)))\n",
    "print(len(lst))\n",
    "total=0\n",
    "for i in range(len(lst)-1):\n",
    "    for j in range(i+1,len(lst)):\n",
    "        if is_palindrome(sum(lst[i:j+1])) and sum(lst[i:j+1])<limit:\n",
    "            total+=sum(lst[i:j+1])\n",
    "total"
   ]
  },
  {
   "cell_type": "code",
   "execution_count": null,
   "metadata": {
    "vscode": {
     "languageId": "sage"
    }
   },
   "outputs": [],
   "source": [
    "(* 125 Palindromic Sums *)\n",
    "(* add Boole[] to count number of times when <10^8 *)\n",
    "(* learnt functions:\n",
    "    Accumulate[]\n",
    "    AnyTrue[{},test] true if any input passes the test\n",
    "    MemberQ[{},___] true if any element in list is ___\n",
    "    Module[]??? *)\n",
    "isSumOfConsecutiveSquares[n_Integer] := \n",
    " Module[{maxK, sumsOfSquares},\n",
    "  maxK = Floor[Sqrt[n]];\n",
    "\n",
    "  (* Generate cumulative sums of consecutive squares starting from each k *)\n",
    "  sumsOfSquares = Table[\n",
    "    Accumulate[Table[(k + i)^2, {i, 0, maxK - k}]],\n",
    "    {k, 1, maxK}\n",
    "  ];\n",
    "\n",
    "  (* Check if any sum sequence contains n with more than one term *)\n",
    "  AnyTrue[sumsOfSquares, MemberQ[#, n] && Length[#] > 1 &]\n",
    "]\n",
    "\n",
    "isSumSquaresPalindromic[n_Integer]:=isSumOfConsecutiveSquares[n]&&PalindromeQ[n]\n",
    "lst=Table[isSumSquaresPalindromic[n],{n,2,9999}];\n",
    "Count[lst,True]"
   ]
  },
  {
   "cell_type": "markdown",
   "metadata": {},
   "source": [
    "#### PE 162"
   ]
  },
  {
   "cell_type": "code",
   "execution_count": null,
   "metadata": {
    "vscode": {
     "languageId": "sage"
    }
   },
   "outputs": [],
   "source": [
    "(* 162 Hexadecimal Numbers *)\n",
    "lst=Table[(n-1)*Factorial[n-1]/Factorial[n-3]*(14^(n-3)),{n,3,16}];\n",
    "lst1=Table[(n-1)*Factorial[n-1]/Factorial[n-3]*(16^(n-3)),{n,3,16}];\n",
    "n=(Total[lst1]-Total[lst])/2;\n",
    "n=\n",
    "BaseForm[Total[lst]+n,16]"
   ]
  },
  {
   "cell_type": "markdown",
   "metadata": {},
   "source": [
    "#### PE 179"
   ]
  },
  {
   "cell_type": "code",
   "execution_count": null,
   "metadata": {
    "vscode": {
     "languageId": "sage"
    }
   },
   "outputs": [],
   "source": [
    "# 179\n",
    "def len_factors(n):\n",
    "    return len(factors(n))\n",
    "num=1\n",
    "for i in range(3, 10000000):\n",
    "    if prime(i)==True or prime(i+1)==True:\n",
    "        pass\n",
    "    else:\n",
    "        if len_factors(i)==len_factors(i+1):\n",
    "            num+=1\n",
    "        if i%10000==0:\n",
    "            print(i)\n",
    "num"
   ]
  },
  {
   "cell_type": "markdown",
   "metadata": {},
   "source": [
    "#### PE 187\n",
    "[A semiprime-counting formula](https://en.wikipedia.org/wiki/Semiprime): $\\pi_{2}(n)= $"
   ]
  },
  {
   "cell_type": "code",
   "execution_count": null,
   "metadata": {
    "vscode": {
     "languageId": "sage"
    }
   },
   "outputs": [],
   "source": [
    "#187 FP way\n",
    "# python way - use sympy library\n",
    "# increasing limit to 10^8 makes it too slow\n",
    "from sympy import factorint\n",
    "limit = 10^6\n",
    "count_two_prime_factors = sum(1 for n in range(3, limit ) if len(factorint(n)) == 2)\n",
    "count_two_prime_factors"
   ]
  },
  {
   "cell_type": "code",
   "execution_count": null,
   "metadata": {
    "vscode": {
     "languageId": "sage"
    }
   },
   "outputs": [],
   "source": [
    "#187 FP way\n",
    "# sage way\n",
    "limit = 10^6\n",
    "count_two_prime_factors = sum(1 for n in range(3, limit ) if str(factor(n)).count('*') == 1)\n",
    "count_two_prime_factors"
   ]
  },
  {
   "cell_type": "code",
   "execution_count": null,
   "metadata": {
    "vscode": {
     "languageId": "sage"
    }
   },
   "outputs": [],
   "source": [
    "(* 187 Semiprimes \n",
    "    Q: the code takes 11min, faster??? *)\n",
    "Total[Table[ \n",
    "            Boole[ Total[FactorInteger[n]][[2]] == 2 ]\n",
    "            , {n,3,99999999} ] \n",
    "    ]"
   ]
  },
  {
   "cell_type": "code",
   "execution_count": null,
   "metadata": {
    "vscode": {
     "languageId": "sage"
    }
   },
   "outputs": [],
   "source": [
    "(* speed up but wrong answer ?? - add {{_,2}} *)\n",
    "(* takes >11 min??? *)\n",
    "Count[ FactorInteger /@ Range[3, 10^8-1] \n",
    "      ,{{_, 1},{_, 1}} | {{_,2}}\n",
    "      ]"
   ]
  },
  {
   "cell_type": "code",
   "execution_count": null,
   "metadata": {
    "vscode": {
     "languageId": "sage"
    }
   },
   "outputs": [],
   "source": [
    "lst=Table[ \n",
    "    Boole[ Length[ FactorInteger[n] ]==2 ],\n",
    "    {n,3,30}]"
   ]
  },
  {
   "cell_type": "code",
   "execution_count": null,
   "metadata": {
    "vscode": {
     "languageId": "sage"
    }
   },
   "outputs": [],
   "source": [
    "lst={{2,5},{3,1}};\n",
    "Total[lst][[2]]"
   ]
  },
  {
   "cell_type": "markdown",
   "metadata": {},
   "source": [
    "#### PE 188"
   ]
  },
  {
   "cell_type": "code",
   "execution_count": null,
   "metadata": {
    "vscode": {
     "languageId": "sage"
    }
   },
   "outputs": [],
   "source": [
    "7**7"
   ]
  },
  {
   "cell_type": "code",
   "execution_count": null,
   "metadata": {
    "vscode": {
     "languageId": "sage"
    }
   },
   "outputs": [],
   "source": [
    "n=7\n",
    "n=7**n % 1000000000\n",
    "print(n)"
   ]
  },
  {
   "cell_type": "code",
   "execution_count": null,
   "metadata": {
    "vscode": {
     "languageId": "sage"
    }
   },
   "outputs": [],
   "source": [
    "m=8123674\n",
    "n=1798\n",
    "math.floor(m/n)\n"
   ]
  },
  {
   "cell_type": "code",
   "execution_count": null,
   "metadata": {
    "vscode": {
     "languageId": "sage"
    }
   },
   "outputs": [],
   "source": [
    "n=1777;\n",
    "For[i=0,i<1856,i++,n=Mod[1777^n,10000000]]\n",
    "n"
   ]
  },
  {
   "cell_type": "code",
   "execution_count": null,
   "metadata": {
    "vscode": {
     "languageId": "sage"
    }
   },
   "outputs": [],
   "source": [
    "62097"
   ]
  },
  {
   "cell_type": "code",
   "execution_count": null,
   "metadata": {
    "vscode": {
     "languageId": "sage"
    }
   },
   "outputs": [],
   "source": [
    "Mod[1777^1777,100000000]"
   ]
  },
  {
   "cell_type": "code",
   "execution_count": null,
   "metadata": {
    "vscode": {
     "languageId": "sage"
    }
   },
   "outputs": [],
   "source": [
    "00001777,87955697,70132343,33172343,65172343,5172343"
   ]
  },
  {
   "cell_type": "code",
   "execution_count": null,
   "metadata": {
    "vscode": {
     "languageId": "sage"
    }
   },
   "outputs": [],
   "source": [
    "1777^2"
   ]
  },
  {
   "cell_type": "markdown",
   "metadata": {},
   "source": [
    "#### PE 203"
   ]
  },
  {
   "cell_type": "code",
   "execution_count": null,
   "metadata": {
    "vscode": {
     "languageId": "sage"
    }
   },
   "outputs": [],
   "source": [
    "import time\n",
    "start=time.time()\n",
    "n=[]\n",
    "for i in range(1,51):\n",
    "    for j in range(1,i+1):\n",
    "        n.append(binomial(i,j))\n",
    "n=list(set(n))\n",
    "n.sort()\n",
    "n=list(filter(lambda x:is_squarefree(x),n))\n",
    "sum(n)\n",
    "(time.time()-start)*1000\n",
    "# comment last line to show answer"
   ]
  },
  {
   "cell_type": "markdown",
   "metadata": {},
   "source": [
    "#### PE 205"
   ]
  },
  {
   "cell_type": "code",
   "execution_count": null,
   "metadata": {
    "vscode": {
     "languageId": "sage"
    }
   },
   "outputs": [],
   "source": [
    "# 205 Dice Game\n",
    "def peter_prob():\n",
    "    prob=dict()\n",
    "    for i in range(9,37):\n",
    "        prob.update({i:0})\n",
    "    for i in range(1,5):\n",
    "        for j in range(1,5):\n",
    "            for k in range(1,5):\n",
    "                for l in range(1,5):\n",
    "                    for m in range(1,5):\n",
    "                        for n in range(1,5):\n",
    "                            for o in range(1,5):\n",
    "                                for p in range(1,5):\n",
    "                                    for q in range(1,5):\n",
    "                                        s=sum([i,j,k,l,m,n,o,p,q])\n",
    "                                        prob.update({s:prob[s]+1})\n",
    "    for i in range(9,37):\n",
    "        prob.update({i:prob[i]/4^9})\n",
    "    return prob\n",
    "def colin_prob():\n",
    "    prob=dict()\n",
    "    for i in range(6,37):\n",
    "        prob.update({i:0})\n",
    "    for i in range(1,7):\n",
    "        for j in range(1,7):\n",
    "            for k in range(1,7):\n",
    "                for l in range(1,7):\n",
    "                    for m in range(1,7):\n",
    "                        for n in range(1,7):\n",
    "                            s=sum([i,j,k,l,m,n])\n",
    "                            prob.update({s:prob[s]+1})\n",
    "    for i in range(6,37):\n",
    "        prob.update({i:prob[i]/6^6})\n",
    "    return prob\n",
    "\n",
    "peter=peter_prob()\n",
    "colin=colin_prob()\n",
    "prob=colin[6]+colin[7]+colin[8]\n",
    "peter_lst=[]\n",
    "colin_lst=[]\n",
    "for num in peter:\n",
    "    peter_lst.append(peter[num])\n",
    "for num in colin:\n",
    "    colin_lst.append(colin[num])\n",
    "colin_lst=colin_lst[3:]\n",
    "for i in range(1,len(peter_lst)):\n",
    "    prob+=peter_lst[i]*sum(colin_lst[:i])\n",
    "# print probability"
   ]
  },
  {
   "cell_type": "markdown",
   "metadata": {},
   "source": [
    "#### PE 243\n",
    "The resilience of n is defined by the number of proper fractions when \n",
    "- the numerators are $1$ to $n-1$ and \n",
    "- the denominator is $n$ divided by the total amount of fractions. \n",
    "- A fraction is proper when the numerator and denominator are coprime. This means that it can be defined as the totient function of $n$ divided by $n-1$"
   ]
  },
  {
   "cell_type": "code",
   "execution_count": null,
   "metadata": {
    "vscode": {
     "languageId": "sage"
    }
   },
   "outputs": [],
   "source": [
    "def resilience(d):\n",
    "    return euler_phi(d)/(d-1)\n",
    "\n",
    "def solve(limit):\n",
    "    for d in range(2*3*5*7*11,limit,2*3*5*7*11):\n",
    "        if resilience(d) < 15499/94744:\n",
    "            return d\n",
    "    return False\n",
    "# solve(1000000000) uncomment to show answer"
   ]
  },
  {
   "cell_type": "markdown",
   "metadata": {},
   "source": [
    "#### PE 345"
   ]
  },
  {
   "cell_type": "code",
   "execution_count": null,
   "metadata": {
    "vscode": {
     "languageId": "sage"
    }
   },
   "outputs": [],
   "source": [
    "(* 345 *)\n",
    "matrix = {\n",
    "  {7, 53, 183, 439, 863, 497, 383, 563, 79, 973, 287, 63, 343, 169, 583},\n",
    "  {627, 343, 773, 959, 943, 767, 473, 103, 699, 303, 957, 703, 583, 639, 913},\n",
    "  {447, 283, 463, 29, 23, 487, 463, 993, 119, 883, 327, 493, 423, 159, 743},\n",
    "  {217, 623, 3, 399, 853, 407, 103, 983, 89, 463, 290, 516, 212, 462, 350},\n",
    "  {960, 376, 682, 962, 300, 780, 486, 502, 912, 800, 250, 346, 172, 812, 350},\n",
    "  {870, 456, 192, 162, 593, 473, 915, 45, 989, 873, 823, 965, 425, 329, 803},\n",
    "  {973, 965, 905, 919, 133, 673, 665, 235, 509, 613, 673, 815, 165, 992, 326},\n",
    "  {322, 148, 972, 962, 286, 255, 941, 541, 265, 323, 925, 281, 601, 95, 973},\n",
    "  {445, 721, 11, 525, 473, 65, 511, 164, 138, 672, 18, 428, 154, 448, 848},\n",
    "  {414, 456, 310, 312, 798, 104, 566, 520, 302, 248, 694, 976, 430, 392, 198},\n",
    "  {184, 829, 373, 181, 631, 101, 969, 613, 840, 740, 778, 458, 284, 760, 390},\n",
    "  {821, 461, 843, 513, 17, 901, 711, 993, 293, 157, 274, 94, 192, 156, 574},\n",
    "  {34, 124, 4, 878, 450, 476, 712, 914, 838, 669, 875, 299, 823, 329, 699},\n",
    "  {815, 559, 813, 459, 522, 788, 168, 586, 966, 232, 308, 833, 251, 631, 107},\n",
    "  {813, 883, 451, 509, 615, 77, 281, 613, 459, 205, 380, 274, 302, 35, 805}\n",
    "};\n",
    "maxRowTotal = Max[Total /@ matrix]\n",
    "maxColumnTotal=Max[Total /@ Transpose[matrix]]"
   ]
  },
  {
   "cell_type": "markdown",
   "metadata": {},
   "source": [
    "#### PE 493\n",
    "Simple Formula: Number of colours(7) times the probability that colour will appear $\\begin{pmatrix}1-\\frac{\\begin{pmatrix}60\\\\20\\end{pmatrix}}{\\begin{pmatrix}70\\\\20\\end{pmatrix}}\\end{pmatrix}$"
   ]
  },
  {
   "cell_type": "code",
   "execution_count": null,
   "metadata": {
    "vscode": {
     "languageId": "sage"
    }
   },
   "outputs": [],
   "source": [
    "def compute(i,j):\n",
    "    ans=binomial(7,j)\n",
    "    tot=10*j\n",
    "    for k in range(i):\n",
    "        ans*=(tot-k)/(70-k)\n",
    "    return ans"
   ]
  },
  {
   "cell_type": "code",
   "execution_count": null,
   "metadata": {
    "vscode": {
     "languageId": "sage"
    }
   },
   "outputs": [],
   "source": [
    "# 493 Under the Rainbow\n",
    "p2=compute(20,2)\n",
    "p3=compute(20,3)\n",
    "p4=compute(20,4)\n",
    "p5=compute(20,5)\n",
    "p6=compute(20,6)\n",
    "p7=1-p6\n",
    "p6-=p5\n",
    "p5-=p4\n",
    "p4-=p3\n",
    "p3-=p2\n",
    "n(2*p2+3*p3+4*p4+5*p5+6*p6+7*p7)"
   ]
  },
  {
   "cell_type": "code",
   "execution_count": null,
   "metadata": {
    "vscode": {
     "languageId": "sage"
    }
   },
   "outputs": [],
   "source": [
    "n(7*(1-binomial(60,20)/binomial(70,20)))"
   ]
  },
  {
   "cell_type": "markdown",
   "metadata": {},
   "source": [
    "#### PE 700"
   ]
  },
  {
   "cell_type": "code",
   "execution_count": null,
   "metadata": {
    "vscode": {
     "languageId": "sage"
    }
   },
   "outputs": [],
   "source": [
    "# 700 Eulercoin\n",
    "seq=[1504170715041707]\n",
    "for n in range(2,10000000):\n",
    "    l=(1504170715041707*n) % 4503599627370517\n",
    "    if l<seq[-1]:\n",
    "        seq.append(l)\n",
    "seq"
   ]
  },
  {
   "cell_type": "markdown",
   "metadata": {},
   "source": [
    "#### PE $\\sqrt{13}$"
   ]
  },
  {
   "cell_type": "code",
   "execution_count": null,
   "metadata": {
    "vscode": {
     "languageId": "sage"
    }
   },
   "outputs": [],
   "source": [
    "def root13_digit_sum(digits=1000):\n",
    "    return sum(\n",
    "        map(int,\n",
    "            str(n(sqrt(13), digits=digits+5))  # +5 to be safe\n",
    "            .replace('.', '')[1:digits+1]      # skip the integer part '3'\n",
    "        )\n",
    "    )\n",
    "# root13_digit_sum(1000)"
   ]
  },
  {
   "cell_type": "code",
   "execution_count": null,
   "metadata": {
    "vscode": {
     "languageId": "sage"
    }
   },
   "outputs": [],
   "source": [
    "# Bonus Problem\n",
    "num=n(sqrt(13),digits=2000)\n",
    "lst=list(str(num))\n",
    "lst=lst[2:1002]\n",
    "# sum(map(int,lst))"
   ]
  },
  {
   "cell_type": "code",
   "execution_count": null,
   "metadata": {
    "vscode": {
     "languageId": "sage"
    }
   },
   "outputs": [],
   "source": [
    "list(continued_fraction(sqrt(13))[1:1003])"
   ]
  },
  {
   "cell_type": "code",
   "execution_count": null,
   "metadata": {
    "vscode": {
     "languageId": "sage"
    }
   },
   "outputs": [],
   "source": [
    "bronze_ratio=1.5\n",
    "for i in range(1,1000):\n",
    "    bronze_ratio=3+1/bronze_ratio\n",
    "bronze_ratio"
   ]
  }
 ],
 "metadata": {
  "kernelspec": {
   "display_name": "SageMath 10.6",
   "language": "sage",
   "name": "sagemath"
  },
  "language_info": {
   "codemirror_mode": {
    "name": "ipython",
    "version": 3
   },
   "file_extension": ".py",
   "mimetype": "text/x-python",
   "name": "python",
   "nbconvert_exporter": "python",
   "pygments_lexer": "ipython3",
   "version": "3.12.10"
  }
 },
 "nbformat": 4,
 "nbformat_minor": 4
}
