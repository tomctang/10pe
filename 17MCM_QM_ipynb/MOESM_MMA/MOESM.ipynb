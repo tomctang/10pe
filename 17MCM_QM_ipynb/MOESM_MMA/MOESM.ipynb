{
 "cells": [
  {
   "cell_type": "markdown",
   "id": "f516083d",
   "metadata": {},
   "source": [
    "This Mathematica code is *Introduction to Computational Quantum Mechanics*  by Roman Schmied. \n",
    "\n",
    "You can download the associated lecture script at  [http://arxiv.org/abs/1403.7050](http://arxiv.org/abs/1403.7050) \n",
    "\n",
    "# many ways to define the factorial function\n",
    "\n",
    "The following list of definitions of the factorial function is based on the Wolfram demo  [http://www.wolfram.com/training/videos/EDU002/](http://www.wolfram.com/training/videos/EDU002/) . Try to understand as many of these definitions as possible. What this means in practice is that for most problems you can pick the programming paradigm that suits your way of thinking best, instead of being forced into one way or another. The different paradigms have different advantages and disadvantages, which may become clearer to you as you become more familiar with them.\n",
    "\n",
    "### ---UNPARSED---. function identity\n",
    "\n",
    "Define the function  $f$ \n",
    "\n",
    "\n",
    "\n",
    " to be an alias of the built-in function  $\\text{Factorial}$ \n",
    "\n",
    "\n",
    "\n",
    ":  $f[5]$ \n",
    "\n",
    "\n",
    "\n",
    " is now strictly the same thing as calling  $\\text{Factorial}[5]$ \n",
    "\n",
    "\n",
    "\n",
    ", which in turn is the same thing as calling  $5!$ \n",
    "\n",
    "\n",
    "\n",
    "."
   ]
  },
  {
   "cell_type": "code",
   "execution_count": null,
   "id": "5fdf4e4f",
   "metadata": {
    "vscode": {
     "languageId": "wolfram"
    }
   },
   "outputs": [],
   "source": [
    "Clear[f]; \n",
    "f = Factorial; "
   ]
  },
  {
   "cell_type": "markdown",
   "id": "b79334a9",
   "metadata": {},
   "source": [
    "### ---UNPARSED---. function forwarding\n",
    "\n",
    "A call to  $f$ \n",
    "\n",
    "\n",
    "\n",
    " is forwarded to the function “ `!` ”: calling  $f[5]$ \n",
    "\n",
    "\n",
    "\n",
    " triggers the evaluation of  $5!$ \n",
    "\n",
    "\n",
    "\n",
    "."
   ]
  },
  {
   "cell_type": "code",
   "execution_count": null,
   "id": "80e1d337",
   "metadata": {
    "vscode": {
     "languageId": "wolfram"
    }
   },
   "outputs": [],
   "source": [
    "Clear[f]; \n",
    "f[n_] := n!"
   ]
  },
  {
   "cell_type": "markdown",
   "id": "519422c2",
   "metadata": {},
   "source": [
    "### ---UNPARSED---. mathematical equivalence (I)\n",
    "\n",
    "Use the mathematical definition  $n\\text{!=}\\Gamma (n+1)$ \n",
    "\n",
    "\n",
    "\n",
    ":"
   ]
  },
  {
   "cell_type": "code",
   "execution_count": null,
   "id": "0b14c073",
   "metadata": {
    "vscode": {
     "languageId": "wolfram"
    }
   },
   "outputs": [],
   "source": [
    "Clear[f]; \n",
    "f[n_] := Gamma[n + 1]"
   ]
  },
  {
   "cell_type": "markdown",
   "id": "c99b2253",
   "metadata": {},
   "source": [
    "### ---UNPARSED---. mathematical equivalence (II)\n",
    "\n",
    "Use the mathematical definition  $n\\text{!=}\\prod _{i=1}^n$ \n",
    "\n",
    "\n",
    "\n",
    ":"
   ]
  },
  {
   "cell_type": "code",
   "execution_count": null,
   "id": "8180927a",
   "metadata": {
    "vscode": {
     "languageId": "wolfram"
    }
   },
   "outputs": [],
   "source": [
    "Clear[f]; \n",
    "f[n_] := Product[i, {i, n}]"
   ]
  },
  {
   "cell_type": "markdown",
   "id": "fe59859e",
   "metadata": {},
   "source": [
    "### ---UNPARSED---. recursion (I): pattern matching\n",
    "\n",
    "Rule-based recursion, using Mathematica’s built-in pattern-matching capabilities: calling  $f[5]$ \n",
    "\n",
    "\n",
    "\n",
    " leads to a call of  $f[4]$ \n",
    "\n",
    "\n",
    "\n",
    ", which leads to a call of  $f[3]$ \n",
    "\n",
    "\n",
    "\n",
    ", and so on until  $f[1]$ \n",
    "\n",
    "\n",
    "\n",
    " immediately returns the result  $1$ \n",
    "\n",
    "\n",
    "\n",
    ", after which the program unrolls the recursion stack and does the necessary multiplications:"
   ]
  },
  {
   "cell_type": "code",
   "execution_count": null,
   "id": "247c85cb",
   "metadata": {
    "vscode": {
     "languageId": "wolfram"
    }
   },
   "outputs": [],
   "source": [
    "Clear[f]; \n",
    "f[1] = 1; \n",
    "f[n_] := n*f[n - 1]"
   ]
  },
  {
   "cell_type": "markdown",
   "id": "f01708cc",
   "metadata": {},
   "source": [
    "### ---UNPARSED---. recursion (II): If clause\n",
    "\n",
    "The same recursion but without rules (no pattern-matching):"
   ]
  },
  {
   "cell_type": "code",
   "execution_count": null,
   "id": "96c61d15",
   "metadata": {
    "vscode": {
     "languageId": "wolfram"
    }
   },
   "outputs": [],
   "source": [
    "Clear[f]; \n",
    "f[n_] := If[n == 1, 1, n*f[n - 1]]"
   ]
  },
  {
   "cell_type": "markdown",
   "id": "53dbfa5a",
   "metadata": {},
   "source": [
    "### ---UNPARSED---. recursion (III): anonymous function\n",
    "\n",
    "Define the same recursion through functional programming:  $f$ \n",
    "\n",
    "\n",
    "\n",
    " is a function whose name is  $\\#0$ \n",
    "\n",
    "\n",
    "\n",
    " and whose first (and only) argument is  $\\#1$ \n",
    "\n",
    "\n",
    "\n",
    ". The end of the function definition is marked with  $\\&$ \n",
    "\n",
    "\n",
    "\n",
    "."
   ]
  },
  {
   "cell_type": "code",
   "execution_count": null,
   "id": "c319eb9e",
   "metadata": {
    "vscode": {
     "languageId": "wolfram"
    }
   },
   "outputs": [],
   "source": [
    "Clear[f]; \n",
    "f = If[#1 == 1, 1, #1*#0[#1 - 1]] & ; "
   ]
  },
  {
   "cell_type": "markdown",
   "id": "9dffc838",
   "metadata": {},
   "source": [
    "### ---UNPARSED---. procedural programming (I): Do loop\n",
    "\n",
    "procedural programming with a  $\\text{Do}$ \n",
    "\n",
    "\n",
    "\n",
    " loop:"
   ]
  },
  {
   "cell_type": "code",
   "execution_count": null,
   "id": "76bb7b43",
   "metadata": {
    "vscode": {
     "languageId": "wolfram"
    }
   },
   "outputs": [],
   "source": [
    "Clear[f]; \n",
    "f[n_] := Module[{t = 1}, Do[t = t*i, {i, n}]; t]"
   ]
  },
  {
   "cell_type": "markdown",
   "id": "7e1a7055",
   "metadata": {},
   "source": [
    "### ---UNPARSED---. procedural programming (II): For loop\n",
    "\n",
    "procedural programming with a  $\\text{For}$ \n",
    "\n",
    "\n",
    "\n",
    " loop: this is how you would compute factorials in procedural programming languages like C. It is a very precise step-by-step prescription of how exactly the computer is supposed to do the calculation."
   ]
  },
  {
   "cell_type": "code",
   "execution_count": null,
   "id": "a8adf3a8",
   "metadata": {
    "vscode": {
     "languageId": "wolfram"
    }
   },
   "outputs": [],
   "source": [
    "Clear[f]; \n",
    "f[n_] := Module[{t = 1, i}, For[i = 1, i <= n, i++, t *= i]; t]"
   ]
  },
  {
   "cell_type": "markdown",
   "id": "e4602951",
   "metadata": {},
   "source": [
    "### ---UNPARSED---. list processing (I): automatic\n",
    "\n",
    "Make a list of the numbers  $1\\ldots n$ \n",
    "\n",
    "\n",
    "\n",
    " (with  $\\text{Range}[n]$ \n",
    "\n",
    "\n",
    "\n",
    ") and then multiply them together at once, by applying the function  $\\text{Times}$ \n",
    "\n",
    "\n",
    "\n",
    " to this list. This is the most elegant way of multiplying all these numbers together, because both the generation of the list of integers and their multiplication are done with internally optimized methods. The programmer merely specifies  *what*  he would like the computer to do, and not  *how*  it is to be done."
   ]
  },
  {
   "cell_type": "code",
   "execution_count": null,
   "id": "50281d5b",
   "metadata": {
    "vscode": {
     "languageId": "wolfram"
    }
   },
   "outputs": [],
   "source": [
    "Clear[f]; \n",
    "f[n_] := Times @@ Range[n]"
   ]
  },
  {
   "cell_type": "markdown",
   "id": "e4b8ab64",
   "metadata": {},
   "source": [
    "### ---UNPARSED---. list processing (II): manual\n",
    "\n",
    "Make a list of the numbers  $1\\ldots n$ \n",
    "\n",
    "\n",
    "\n",
    " and then multiply them together one after the other."
   ]
  },
  {
   "cell_type": "code",
   "execution_count": null,
   "id": "e961e0a3",
   "metadata": {
    "vscode": {
     "languageId": "wolfram"
    }
   },
   "outputs": [],
   "source": [
    "Clear[f]; \n",
    "f[n_] := Fold[Times, 1, Range[n]]"
   ]
  },
  {
   "cell_type": "markdown",
   "id": "5cd6e1a9",
   "metadata": {},
   "source": [
    "### ---UNPARSED---. functional programming\n",
    "\n",
    "Functional programming: make a list of functions  $\\{t\\to t,t\\to 2t,t\\to 3t,\\ldots ,t\\to n t\\}$ \n",
    "\n",
    "\n",
    "\n",
    ", and then, starting with the number  $1$ \n",
    "\n",
    "\n",
    "\n",
    ", apply each of these functions once."
   ]
  },
  {
   "cell_type": "code",
   "execution_count": null,
   "id": "8062e676",
   "metadata": {
    "vscode": {
     "languageId": "wolfram"
    }
   },
   "outputs": [],
   "source": [
    "Clear[f]; \n",
    "f[n_] := Fold[#2[#1] & , 1, Array[Function[t, #1*t] & , n]]"
   ]
  },
  {
   "cell_type": "markdown",
   "id": "832349b7",
   "metadata": {},
   "source": [
    "### ---UNPARSED---. permutation group size\n",
    "\n",
    "Construct a list whose length we know to be  $n!$ \n",
    "\n",
    "\n",
    "\n",
    ":"
   ]
  },
  {
   "cell_type": "code",
   "execution_count": null,
   "id": "2c7b55ef",
   "metadata": {
    "vscode": {
     "languageId": "wolfram"
    }
   },
   "outputs": [],
   "source": [
    "Clear[f]; \n",
    "f[n_] := Length[Permutations[Range[n]]]"
   ]
  },
  {
   "cell_type": "markdown",
   "id": "ab2c7c4d",
   "metadata": {},
   "source": [
    "### ---UNPARSED---. repeated pattern matching and replacement\n",
    "\n",
    "Use repeated pattern-based replacement ( $\\text{//.}$ \n",
    "\n",
    "\n",
    "\n",
    ") to find the factorial: start with the object  $\\{1,n\\}$ \n",
    "\n",
    "\n",
    "\n",
    " and apply the given rule until the result no longer changes because the pattern no longer matches."
   ]
  },
  {
   "cell_type": "code",
   "execution_count": null,
   "id": "4172dd89",
   "metadata": {
    "vscode": {
     "languageId": "wolfram"
    }
   },
   "outputs": [],
   "source": [
    "Clear[f]; \n",
    "f[n_] := First[{1, n} //. {a_, b_ /; b > 0} :> {b*a, b - 1}]"
   ]
  },
  {
   "cell_type": "markdown",
   "id": "9112f4d4",
   "metadata": {},
   "source": [
    "### ---UNPARSED---. string processing\n",
    "\n",
    "Build a string whose length is  $n!$ \n",
    "\n",
    "\n",
    "\n"
   ]
  },
  {
   "cell_type": "code",
   "execution_count": null,
   "id": "6a7804f8",
   "metadata": {
    "vscode": {
     "languageId": "wolfram"
    }
   },
   "outputs": [],
   "source": [
    "Clear[f]; \n",
    "f[n_] := StringLength[Fold[StringJoin[Table[#1, {#2}]] & , \"A\", Range[n]]]"
   ]
  },
  {
   "cell_type": "markdown",
   "id": "308e47c5",
   "metadata": {},
   "source": [
    "### ---UNPARSED---. nested lists by repeated replacement\n",
    "\n",
    "Starting from the number  $n$ \n",
    "\n",
    "\n",
    "\n",
    ", repeatedly replace each number  $m$ \n",
    "\n",
    "\n",
    "\n",
    " by a list containing  $m$ \n",
    "\n",
    "\n",
    "\n",
    " times the number  $m-1$ \n",
    "\n",
    "\n",
    "\n",
    ". At the end, we have a list of lists of ... of lists that overall contains  $n!$ \n",
    "\n",
    "\n",
    "\n",
    " times the number 1. Flatten it out and count the number of elements."
   ]
  },
  {
   "cell_type": "code",
   "execution_count": null,
   "id": "8100a64a",
   "metadata": {
    "vscode": {
     "languageId": "wolfram"
    }
   },
   "outputs": [],
   "source": [
    "Clear[f]; \n",
    "f[n_] := Length[Flatten[n //. m_ /; m > 1 :> Table[m - 1, {m}]]]"
   ]
  },
  {
   "cell_type": "markdown",
   "id": "76062f13",
   "metadata": {},
   "source": [
    "### ---UNPARSED---. analytic differentiation\n",
    "\n",
    "Use the relationship  $\\frac{d^n}{dx^n}\\left(x^n\\right)=n!$ \n",
    "\n",
    "\n",
    "\n",
    ": compute the  $n^{\\text{th}}$ \n",
    "\n",
    "\n",
    "\n",
    " derivative of  $x^n$ \n",
    "\n",
    "\n",
    "\n",
    "."
   ]
  },
  {
   "cell_type": "code",
   "execution_count": null,
   "id": "cb74172e",
   "metadata": {
    "vscode": {
     "languageId": "wolfram"
    }
   },
   "outputs": [],
   "source": [
    "Clear[f]; \n",
    "f[n_] := D[x^n, {x, n}]"
   ]
  },
  {
   "cell_type": "markdown",
   "id": "cb54ba67",
   "metadata": {},
   "source": [
    "This Mathematica code is part of the lecture script  *Introduction to Computational Quantum Mechanics*  by Roman Schmied. It is licensed under a  [Creative Commons Attribution-ShareAlike 4.0 International License](http://creativecommons.org/licenses/by-sa/4.0/) .\n",
    "\n",
    "<img src=\"data:image/jpg;base64,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\" class=\"img-responsive\"/>\n",
    "\n",
    "You can download the associated lecture script at  [http://arxiv.org/abs/1403.7050](http://arxiv.org/abs/1403.7050) \n",
    "\n",
    "# reduced density matrices\n",
    "\n",
    "We operate in a Hilbert space that is the direct product (tensor product) of three Hilbert subspaces associated with three subsystems A, B, C, which have dimensions  $d_A$ \n",
    "\n",
    "\n",
    "\n",
    ",  $d_B$ \n",
    "\n",
    "\n",
    "\n",
    ",  $d_C$ \n",
    "\n",
    "\n",
    "\n",
    ", respectively. The goal is to calculate the reduced density matrix of the system after tracing out (forgetting, cutting out) subsystem B.\n",
    "\n",
    "### tripartite cases\n",
    "\n",
    "#### starting from a density matrix  $\\rho _{\\text{ABC}}$ \n",
    "\n",
    "\n",
    "\n",
    "\n",
    "\n",
    "Given a density matrix  $\\rho _{\\text{ABC}}$ \n",
    "\n",
    "\n",
    "\n",
    " of size  $d_Ad_Bd_C\\times d_Ad_Bd_C$ \n",
    "\n",
    "\n",
    "\n",
    ", calculate the reduced density matrix  $\\rho _{\\text{AC}}$ \n",
    "\n",
    "\n",
    "\n",
    " of size  $d_Ad_C\\times d_Ad_C$ \n",
    "\n",
    "\n",
    "\n",
    " after tracing out subsystem B:"
   ]
  },
  {
   "cell_type": "code",
   "execution_count": null,
   "id": "57301673",
   "metadata": {
    "vscode": {
     "languageId": "wolfram"
    }
   },
   "outputs": [],
   "source": [
    "rdm[(ρABC_)?MatrixQ, {dA_Integer /; dA >= 1, dB_Integer /; dB >= 1, dC_Integer /; dC >= 1}] /; Dimensions[ρABC] == {dA*dB*dC, dA*dB*dC} := Flatten[TensorContract[ArrayReshape[ρABC, {dA, dB, dC, dA, dB, dC}], {2, 5}], {{1, 2}, {3, 4}}]"
   ]
  },
  {
   "cell_type": "markdown",
   "id": "c167fb01",
   "metadata": {},
   "source": [
    "#### starting from a pure state  $\\psi _{\\text{ABC}}$ \n",
    "\n",
    "\n",
    "\n",
    "\n",
    "\n",
    "Given a pure state  $\\psi _{\\text{ABC}}$ \n",
    "\n",
    "\n",
    "\n",
    " of length  $d_Ad_Bd_C$ \n",
    "\n",
    "\n",
    "\n",
    ", calculate the reduced density matrix  $\\rho _{\\text{AC}}$ \n",
    "\n",
    "\n",
    "\n",
    " of size  $d_Ad_C\\times d_Ad_C$ \n",
    "\n",
    "\n",
    "\n",
    " after tracing out subsystem B:"
   ]
  },
  {
   "cell_type": "code",
   "execution_count": null,
   "id": "a2a1f227",
   "metadata": {
    "vscode": {
     "languageId": "wolfram"
    }
   },
   "outputs": [],
   "source": [
    "rdm[(ψABC_)?VectorQ, {dA_Integer /; dA >= 1, dB_Integer /; dB >= 1, dC_Integer /; dC >= 1}] /; Length[ψABC] == dA*dB*dC := With[{P = ArrayReshape[ψABC, {dA, dB, dC}]}, Flatten[Transpose[P, {1, 3, 2}] . ConjugateTranspose[P], {{1, 2}, {3, 4}}]]"
   ]
  },
  {
   "cell_type": "markdown",
   "id": "fbf5ad5d",
   "metadata": {},
   "source": [
    "### bipartite cases\n",
    "\n",
    " $d>0$ \n",
    "\n",
    "\n",
    "\n",
    ": trace out the first  $d$ \n",
    "\n",
    "\n",
    "\n",
    " dimensions\n",
    "\n",
    " $d<0$ \n",
    "\n",
    "\n",
    "\n",
    ": trace out the last  $d$ \n",
    "\n",
    "\n",
    "\n",
    " dimensions\n",
    "\n",
    "#### starting from a density matrix  $\\rho$ \n",
    "\n",
    "\n",
    "\n",
    "\n",
    "\n",
    "Given a density matrix  $\\rho$ \n",
    "\n",
    "\n",
    "\n",
    " of size  $d d'\\times d d'$ \n",
    "\n",
    "\n",
    "\n",
    ", calculate the reduced density matrix  $\\tilde{\\rho }$ \n",
    "\n",
    "\n",
    "\n",
    " of size  $d'\\times d'$ \n",
    "\n",
    "\n",
    "\n",
    " after tracing out the subsystem of dimension  $d$ \n",
    "\n",
    "\n",
    "\n",
    ":"
   ]
  },
  {
   "cell_type": "code",
   "execution_count": null,
   "id": "46842aed",
   "metadata": {
    "vscode": {
     "languageId": "wolfram"
    }
   },
   "outputs": [],
   "source": [
    "traceout[(ρ_)?MatrixQ, d_Integer /; d >= 1] /; Length[ρ] == Length[Transpose[ρ]] && Divisible[Length[ρ], d] := rdm[ρ, {1, d, Length[ρ]/d}]"
   ]
  },
  {
   "cell_type": "markdown",
   "id": "7ec10491",
   "metadata": {},
   "source": [
    "Given a density matrix  $\\rho$ \n",
    "\n",
    "\n",
    "\n",
    " of size  $d'| d| \\times d'| d|$ \n",
    "\n",
    "\n",
    "\n",
    ", calculate the reduced density matrix  $\\tilde{\\rho }$ \n",
    "\n",
    "\n",
    "\n",
    " of size  $d'\\times d'$ \n",
    "\n",
    "\n",
    "\n",
    " after tracing out the subsystem of dimension  $| d|$ \n",
    "\n",
    "\n",
    "\n",
    ":"
   ]
  },
  {
   "cell_type": "code",
   "execution_count": null,
   "id": "73883a53",
   "metadata": {
    "vscode": {
     "languageId": "wolfram"
    }
   },
   "outputs": [],
   "source": [
    "traceout[(ρ_)?MatrixQ, d_Integer /; d <= -1] /; Length[ρ] == Length[Transpose[ρ]] && Divisible[Length[ρ], -d] := rdm[ρ, {Length[ρ]/(-d), -d, 1}]"
   ]
  },
  {
   "cell_type": "markdown",
   "id": "d2e9c33d",
   "metadata": {},
   "source": [
    "#### starting from a pure state  $\\psi$ \n",
    "\n",
    "\n",
    "\n",
    "\n",
    "\n",
    "Given a pure state  $\\psi$ \n",
    "\n",
    "\n",
    "\n",
    " of length  $d d'$ \n",
    "\n",
    "\n",
    "\n",
    ", calculate the reduced density matrix  $\\tilde{\\rho }$ \n",
    "\n",
    "\n",
    "\n",
    " of size  $d'\\times d'$ \n",
    "\n",
    "\n",
    "\n",
    " after tracing out the subsystem of dimension  $d$ \n",
    "\n",
    "\n",
    "\n",
    ":"
   ]
  },
  {
   "cell_type": "code",
   "execution_count": null,
   "id": "3a13d6c5",
   "metadata": {
    "vscode": {
     "languageId": "wolfram"
    }
   },
   "outputs": [],
   "source": [
    "traceout[(ψ_)?VectorQ, d_Integer /; d >= 1] /; Divisible[Length[ψ], d] := rdm[ψ, {1, d, Length[ψ]/d}]"
   ]
  },
  {
   "cell_type": "markdown",
   "id": "51788bf7",
   "metadata": {},
   "source": [
    "Given a pure state  $\\psi$ \n",
    "\n",
    "\n",
    "\n",
    " of length  $d'd$ \n",
    "\n",
    "\n",
    "\n",
    ", calculate the reduced density matrix  $\\tilde{\\rho }$ \n",
    "\n",
    "\n",
    "\n",
    " of size  $d'\\times d'$ \n",
    "\n",
    "\n",
    "\n",
    " after tracing out the subsystem of dimension  $d$ \n",
    "\n",
    "\n",
    "\n",
    ":"
   ]
  },
  {
   "cell_type": "code",
   "execution_count": null,
   "id": "cfcb5c1a",
   "metadata": {
    "vscode": {
     "languageId": "wolfram"
    }
   },
   "outputs": [],
   "source": [
    "traceout[(ψ_)?VectorQ, d_Integer /; d <= -1] /; Divisible[Length[ψ], -d] := rdm[ψ, {Length[ψ]/(-d), -d, 1}]"
   ]
  },
  {
   "cell_type": "markdown",
   "id": "0318f2cf",
   "metadata": {},
   "source": [
    "This Mathematica code is part of the lecture script  *Introduction to Computational Quantum Mechanics*  by Roman Schmied. It is licensed under a  [Creative Commons Attribution-ShareAlike 4.0 International License](http://creativecommons.org/licenses/by-sa/4.0/) .\n",
    "\n",
    "<img src=\"data:image/jpg;base64,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\" class=\"img-responsive\"/>\n",
    "\n",
    "You can download the associated lecture script at  [http://arxiv.org/abs/1403.7050](http://arxiv.org/abs/1403.7050) \n",
    "\n",
    "# quantum-mechanical spin and angular momentum operators"
   ]
  },
  {
   "cell_type": "code",
   "execution_count": null,
   "id": "7c687927",
   "metadata": {
    "vscode": {
     "languageId": "wolfram"
    }
   },
   "outputs": [],
   "source": [
    "SpinQ[S_] := IntegerQ[2*S] && S >= 0\n",
    "splus[0] = SparseArray[{{0}}]; \n",
    "splus[(S_)?SpinQ] := splus[S] = SparseArray[Band[{1, 2}] -> Table[Sqrt[S*(S + 1) - M*(M + 1)], {M, S - 1, -S, -1}], {2*S + 1, 2*S + 1}]\n",
    "sminus[(S_)?SpinQ] := Transpose[splus[S]]\n",
    "sx[(S_)?SpinQ] := sx[S] = (splus[S] + sminus[S])/2\n",
    "sy[(S_)?SpinQ] := sy[S] = (splus[S] - sminus[S])/(2*I)\n",
    "sz[(S_)?SpinQ] := sz[S] = SparseArray[Band[{1, 1}] -> Range[S, -S, -1], {2*S + 1, 2*S + 1}]\n",
    "id[(S_)?SpinQ] := id[S] = IdentityMatrix[2*S + 1, SparseArray]"
   ]
  },
  {
   "cell_type": "markdown",
   "id": "a50280fc",
   "metadata": {},
   "source": [
    "This Mathematica code is part of the lecture script  *Introduction to Computational Quantum Mechanics*  by Roman Schmied. It is licensed under a  [Creative Commons Attribution-ShareAlike 4.0 International License](http://creativecommons.org/licenses/by-sa/4.0/) .\n",
    "\n",
    "<img src=\"data:image/jpg;base64,/9j/4AAQSkZJRgABAQEASABIAAD/4QDURXhpZgAASUkqAAgAAAAIAAABCQABAAAAWAAAAAEBCQABAAAAHwAAABoBBQABAAAAbgAAABsBBQABAAAAdgAAACgBCQABAAAAAgAAADEBAgA0AAAAfgAAADIBAgAaAAAAsgAAACqICQABAAAACgAAAAAAAABIAAAAAQAAAEgAAAABAAAAQ3JlYXRlZCB3aXRoIHRoZSBXb2xmcmFtIExhbmd1YWdlIDogd3d3LndvbGZyYW0uY29tADIwMjU6MDY6MjkgMTU6MjA6MzErMTA6MDAA/9sAQwAIBgYHBgUIBwcHCQkICgwUDQwLCwwZEhMPFB0aHx4dGhwcICQuJyAiLCMcHCg3KSwwMTQ0NB8nOT04MjwuMzQy/9sAQwEJCQkMCwwYDQ0YMiEcITIyMjIyMjIyMjIyMjIyMjIyMjIyMjIyMjIyMjIyMjIyMjIyMjIyMjIyMjIyMjIyMjIy/8AAEQgAHwBYAwEiAAIRAQMRAf/EAB8AAAEFAQEBAQEBAAAAAAAAAAABAgMEBQYHCAkKC//EALUQAAIBAwMCBAMFBQQEAAABfQECAwAEEQUSITFBBhNRYQcicRQygZGhCCNCscEVUtHwJDNicoIJChYXGBkaJSYnKCkqNDU2Nzg5OkNERUZHSElKU1RVVldYWVpjZGVmZ2hpanN0dXZ3eHl6g4SFhoeIiYqSk5SVlpeYmZqio6Slpqeoqaqys7S1tre4ubrCw8TFxsfIycrS09TV1tfY2drh4uPk5ebn6Onq8fLz9PX29/j5+v/EAB8BAAMBAQEBAQEBAQEAAAAAAAABAgMEBQYHCAkKC//EALURAAIBAgQEAwQHBQQEAAECdwABAgMRBAUhMQYSQVEHYXETIjKBCBRCkaGxwQkjM1LwFWJy0QoWJDThJfEXGBkaJicoKSo1Njc4OTpDREVGR0hJSlNUVVZXWFlaY2RlZmdoaWpzdHV2d3h5eoKDhIWGh4iJipKTlJWWl5iZmqKjpKWmp6ipqrKztLW2t7i5usLDxMXGx8jJytLT1NXW19jZ2uLj5OXm5+jp6vLz9PX29/j5+v/aAAwDAQACEQMRAD8As6fp/hbTvAtlr+v2FlM0trHcXFzdQrNNPLIu9vmbLMzMT3/ICqWnaJr3idBe6D8OPDNlpj8wy6tbKGkXswC4IB+hHPU0aJpqeKPFXgHQb0b9Ms9Ch1OWE9JW27QCO4yq/gT6112j/ErxNq+m3Xie30GwbwrbvPv/ANJK3SxRKWMmD8p6fdHOeOnNAHG3Cx+FrmKLx18PtGsrSdtialYWkckIb0YYJH5546Gutk8JeGmjWSLQ9JaN1DKy2kZBB6EHFaPh3UfEXxB0hF8Q+H9M/wCEa1e1chobgmWEZwoYMOWPUFemM8Hiuc+Gr3I8J3Wm3cnmPpOoTWCv6qmCP/QiPoBSYmLeaB4YsLWa6udF0uOCFC7ubSPgAZPasJNBku7Gw1M6D4X0aw1O5S009NRsGlmuJXzsyI1xGDg9f8K3PHcLS+Er4LCZgnlyvGOrIkis4/75BrQ+Kd7quq6b4Nv/AAl4iksrTUdQSzWS2mZBI02PLZtvVV2PlT69KECMC10XT7bWJdC17wppNnqkcfnIYreN4biPON8Z2569QeRV670HwxY2k11c6NpccEKF3c2kfAAye1bfxCura8+IHhmxt9sl5Yx3NxclTzDE6BVDf7zYOPbNYPjaJpfCN8FhMwTy5XjHVkSRWcf98g0AYsejR3lpDqEmm+DNAs7pS1nHrEI8+Zc/fKrgKp/Grtno+nQ6s+i654W0i01JYhPG0MEbw3MWcb4225xnseRXQ6rd6P8A8JRc6/Ppt/rem6rpax2PkWaTw+6gj5lbOeDjGT7AYEVvPZt4E0S7G7V9Ngu7m7TOWtoZARGje5JXjtt+lAx3iDw/o9n4d1G8s9MtLS7trd7iC4tohFJFIgLKyuuCCGAPBorS8Uf8ilrX/XhP/wCi2ooQkcrp2txaVD4Q8caW32230qyj0zV4Ygd8SbMZwfQljnoTt7GvStA+H/gfVSms6Pd3N3pc0rXC2SXjG0EjLhj5fY4OMH6YxxXzPpWsax4F8Q3USqqTwu9teWkpDxybSVZGwcHnPINdHD4k8DNMbyK18S6FdPzJHo90gjJ9ixBH0AApjPYtVsPCHwhhGqx3uoXN/FFJHpemT3rSBS55CJ2UnqTn8Tiua8P61pXgLw7FZ+JNSW31fUJHv7iHy3dkZ8feCg4OAOuOc+lcAvjHwvochvNA0i/vdWP3L/WpVdoj6hVOCffg1w19fXWp3017ezvPczNukkc5LH/PagD32T4meEGJ/wCJtkf9e0v/AMRWBF4l8IWLy/2P4v1jSIZSWe3sDKkW49SFMZCn6Yrxmu88QeO4bzSNCh0xrtbvT7eCJjPGCibIBFIoDPIGR+cqqxKw4dZCQVVhWO10rxf4F0dZTb6rI887bp7meKaSWZvVmK5NaP8Awsrwif8AmLf+S0v/AMTXiPiHUodT1meSzWSLTY3aOwt3AHkW4YlEwCRnByTkksWYkkknLosFj2aLxL4QsXl/sfxfrGkQyks9vYGVItx6kKYyFP0xVvSvF/gXR1lNvqsjzztunuZ4ppJZm9WYrk1x1l4406xsNEhY314dPilYQFWggScwOsbBFmILLIykSoIXGGY73bK8v4o1a31zXpdStrb7Os0UJkTn/WiJBK2SzFtzh23MSxzljkmmM9a174g+F73w7qdrb6pvnntJY41+zyjczIQBkrjqaK8VsLG41PUbaws4/MurqVIYU3AbnYgKMngZJHWigD//2Q==\" class=\"img-responsive\"/>\n",
    "\n",
    "You can download the associated lecture script at  [http://arxiv.org/abs/1403.7050](http://arxiv.org/abs/1403.7050) \n",
    "\n",
    "# spin-1/2 electron in a dc magnetic field\n",
    "\n",
    "Pauli operators:"
   ]
  },
  {
   "cell_type": "code",
   "execution_count": null,
   "id": "2d0fafe0",
   "metadata": {
    "vscode": {
     "languageId": "wolfram"
    }
   },
   "outputs": [],
   "source": [
    "{Sx, Sy, Sz} = (1/2)*Table[PauliMatrix[i], {i, 1, 3}]; "
   ]
  },
  {
   "cell_type": "markdown",
   "id": "1e08fcf7",
   "metadata": {},
   "source": [
    "units:"
   ]
  },
  {
   "cell_type": "code",
   "execution_count": null,
   "id": "76a0bdb9",
   "metadata": {
    "vscode": {
     "languageId": "wolfram"
    }
   },
   "outputs": [],
   "source": [
    "MagneticFieldUnit = Quantity[\"Gausses\"]; \n",
    "EnergyUnit = UnitConvert[Quantity[\"PlanckConstant\"]*Quantity[\"MHz\"]]; "
   ]
  },
  {
   "cell_type": "markdown",
   "id": "e92fac6e",
   "metadata": {},
   "source": [
    "express the Bohr magneton in these units:  $\\left.\\mu _B\\right/h\\approx 1.4\\text{MHz}/G$ \n",
    "\n",
    "\n",
    "\n"
   ]
  },
  {
   "cell_type": "code",
   "execution_count": null,
   "id": "fc55455d",
   "metadata": {
    "vscode": {
     "languageId": "wolfram"
    }
   },
   "outputs": [],
   "source": [
    "μB = UnitConvert[Quantity[\"BohrMagneton\"]/(EnergyUnit/MagneticFieldUnit)]"
   ]
  },
  {
   "cell_type": "markdown",
   "id": "27175333",
   "metadata": {},
   "source": [
    "electron  $g$ \n",
    "\n",
    "\n",
    "\n",
    " factor:"
   ]
  },
  {
   "cell_type": "code",
   "execution_count": null,
   "id": "c345f860",
   "metadata": {
    "vscode": {
     "languageId": "wolfram"
    }
   },
   "outputs": [],
   "source": [
    "ge = UnitConvert[\"ElectronGFactor\"]"
   ]
  },
  {
   "cell_type": "markdown",
   "id": "3e9eba4f",
   "metadata": {},
   "source": [
    "Hamiltonian:"
   ]
  },
  {
   "cell_type": "code",
   "execution_count": null,
   "id": "4775bec4",
   "metadata": {
    "vscode": {
     "languageId": "wolfram"
    }
   },
   "outputs": [],
   "source": [
    "H[Bx_, By_, Bz_] = (-μB)*ge*(Sx*Bx + Sy*By + Sz*Bz)"
   ]
  },
  {
   "cell_type": "markdown",
   "id": "b1a2dd96",
   "metadata": {},
   "source": [
    "eigenvalues and non-normalized eigenvectors:"
   ]
  },
  {
   "cell_type": "code",
   "execution_count": null,
   "id": "d4a8e379",
   "metadata": {
    "vscode": {
     "languageId": "wolfram"
    }
   },
   "outputs": [],
   "source": [
    "Eigensystem[H[Bx, By, Bz]]"
   ]
  },
  {
   "cell_type": "markdown",
   "id": "9d9838a9",
   "metadata": {},
   "source": [
    "This Mathematica code is part of the lecture script  *Introduction to Computational Quantum Mechanics*  by Roman Schmied. It is licensed under a  [Creative Commons Attribution-ShareAlike 4.0 International License](http://creativecommons.org/licenses/by-sa/4.0/) .\n",
    "\n",
    "<img src=\"data:image/jpg;base64,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\" class=\"img-responsive\"/>\n",
    "\n",
    "You can download the associated lecture script at  [http://arxiv.org/abs/1403.7050](http://arxiv.org/abs/1403.7050) \n",
    "\n",
    "# coupled spin systems:  $\\, ^{87}\\text{Rb}$ \n",
    "\n",
    "\n",
    "\n",
    " hyperfine structure\n",
    "\n",
    "### general spin operators"
   ]
  },
  {
   "cell_type": "code",
   "execution_count": null,
   "id": "80f717df",
   "metadata": {
    "vscode": {
     "languageId": "wolfram"
    }
   },
   "outputs": [],
   "source": [
    "SpinQ[S_] := IntegerQ[2*S] && S >= 0\n",
    "splus[0] = SparseArray[{{0}}]; \n",
    "splus[(S_)?SpinQ] := splus[S] = SparseArray[Band[{1, 2}] -> Table[Sqrt[S*(S + 1) - M*(M + 1)], {M, S - 1, -S, -1}], {2*S + 1, 2*S + 1}]\n",
    "sminus[(S_)?SpinQ] := Transpose[splus[S]]\n",
    "sx[(S_)?SpinQ] := sx[S] = (splus[S] + sminus[S])/2\n",
    "sy[(S_)?SpinQ] := sy[S] = (splus[S] - sminus[S])/(2*I)\n",
    "sz[(S_)?SpinQ] := sz[S] = SparseArray[Band[{1, 1}] -> Range[S, -S, -1], {2*S + 1, 2*S + 1}]\n",
    "id[(S_)?SpinQ] := id[S] = IdentityMatrix[2*S + 1, SparseArray]"
   ]
  },
  {
   "cell_type": "markdown",
   "id": "32719156",
   "metadata": {},
   "source": [
    "### specific spin operators"
   ]
  },
  {
   "cell_type": "code",
   "execution_count": null,
   "id": "812b3ef9",
   "metadata": {
    "vscode": {
     "languageId": "wolfram"
    }
   },
   "outputs": [],
   "source": [
    "Ix = KroneckerProduct[sx[3/2], id[1/2], id[0]]; \n",
    "Iy = KroneckerProduct[sy[3/2], id[1/2], id[0]]; \n",
    "Iz = KroneckerProduct[sz[3/2], id[1/2], id[0]]; \n",
    "Sx = KroneckerProduct[id[3/2], sx[1/2], id[0]]; \n",
    "Sy = KroneckerProduct[id[3/2], sy[1/2], id[0]]; \n",
    "Sz = KroneckerProduct[id[3/2], sz[1/2], id[0]]; \n",
    "Lx = KroneckerProduct[id[3/2], id[1/2], sx[0]]; \n",
    "Ly = KroneckerProduct[id[3/2], id[1/2], sy[0]]; \n",
    "Lz = KroneckerProduct[id[3/2], id[1/2], sz[0]]; "
   ]
  },
  {
   "cell_type": "code",
   "execution_count": null,
   "id": "8b9c0782",
   "metadata": {
    "vscode": {
     "languageId": "wolfram"
    }
   },
   "outputs": [],
   "source": [
    "Jx = Sx + Lx; Jy = Sy + Ly; Jz = Sz + Lz; \n",
    "Fx = Ix + Jx; Fy = Iy + Jy; Fz = Iz + Jz; "
   ]
  },
  {
   "cell_type": "markdown",
   "id": "c4044214",
   "metadata": {},
   "source": [
    "### units"
   ]
  },
  {
   "cell_type": "code",
   "execution_count": null,
   "id": "0a33cfc9",
   "metadata": {
    "vscode": {
     "languageId": "wolfram"
    }
   },
   "outputs": [],
   "source": [
    "MagneticFieldUnit = Quantity[\"Gausses\"]; \n",
    "EnergyUnit = Quantity[\"PlanckConstant\"]*Quantity[\"Megahertz\"]; \n",
    "TimeUnit = Quantity[\"Microseconds\"]; "
   ]
  },
  {
   "cell_type": "markdown",
   "id": "97c1decc",
   "metadata": {},
   "source": [
    "#### physical constants\n",
    "\n",
    "calculate numerical values for physical constants:"
   ]
  },
  {
   "cell_type": "code",
   "execution_count": null,
   "id": "af8f8d03",
   "metadata": {
    "vscode": {
     "languageId": "wolfram"
    }
   },
   "outputs": [],
   "source": [
    "μBn = Quantity[\"BohrMagneton\"]/(EnergyUnit/MagneticFieldUnit)"
   ]
  },
  {
   "cell_type": "code",
   "execution_count": null,
   "id": "d4df7dfe",
   "metadata": {
    "vscode": {
     "languageId": "wolfram"
    }
   },
   "outputs": [],
   "source": [
    "ℏn = Quantity[\"ReducedPlanckConstant\"]/(EnergyUnit*TimeUnit)"
   ]
  },
  {
   "cell_type": "markdown",
   "id": "09e98d08",
   "metadata": {},
   "source": [
    "### hyperfine Hamiltonian"
   ]
  },
  {
   "cell_type": "code",
   "execution_count": null,
   "id": "4b19aa9f",
   "metadata": {
    "vscode": {
     "languageId": "wolfram"
    }
   },
   "outputs": [],
   "source": [
    "Hhf = A*(Ix . Jx + Iy . Jy + Iz . Jz) - μB*Bz*(gI*Iz + gS*Sz + gL*Lz); \n",
    "hfc = {A -> (Quantity[\"PlanckConstant\"]*Quantity[3.417341305452145, \"GHz\"])/EnergyUnit, gS -> -2.0023193043622, gL -> -0.99999369, gI -> Plus[0.0009951414], μB -> μBn, ℏ -> ℏn}; "
   ]
  },
  {
   "cell_type": "markdown",
   "id": "20398fe2",
   "metadata": {},
   "source": [
    "---\n",
    "## static magnetic field\n",
    "\n",
    "### diagonalize the Hamiltonian"
   ]
  },
  {
   "cell_type": "code",
   "execution_count": null,
   "id": "d786fa22",
   "metadata": {
    "vscode": {
     "languageId": "wolfram"
    }
   },
   "outputs": [],
   "source": [
    "{eval, evec} = FullSimplify[Eigensystem[Hhf]]; "
   ]
  },
  {
   "cell_type": "markdown",
   "id": "f445ba5c",
   "metadata": {},
   "source": [
    "### plot the energy levels"
   ]
  },
  {
   "cell_type": "code",
   "execution_count": null,
   "id": "729acf28",
   "metadata": {
    "vscode": {
     "languageId": "wolfram"
    }
   },
   "outputs": [],
   "source": [
    "Plot[Evaluate[eval /. hfc], {Bz, 0, 3000}, Frame -> True, FrameLabel -> {\"Bz / G\", \"E / MHz\"}]"
   ]
  },
  {
   "cell_type": "markdown",
   "id": "08990f5d",
   "metadata": {},
   "source": [
    "### analyze the energy eigenstates"
   ]
  },
  {
   "cell_type": "code",
   "execution_count": null,
   "id": "c8028672",
   "metadata": {
    "vscode": {
     "languageId": "wolfram"
    }
   },
   "outputs": [],
   "source": [
    "nevec = (#1/Sqrt[#1 . #1] & ) /@ evec; "
   ]
  },
  {
   "cell_type": "markdown",
   "id": "3eb66c8f",
   "metadata": {},
   "source": [
    "#### field-free limit"
   ]
  },
  {
   "cell_type": "code",
   "execution_count": null,
   "id": "722f7ebe",
   "metadata": {
    "vscode": {
     "languageId": "wolfram"
    }
   },
   "outputs": [],
   "source": [
    "Assuming[A > 0, FullSimplify[Limit[eval, Bz -> 0]]]"
   ]
  },
  {
   "cell_type": "code",
   "execution_count": null,
   "id": "16f27973",
   "metadata": {
    "vscode": {
     "languageId": "wolfram"
    }
   },
   "outputs": [],
   "source": [
    "nevec0 = Assuming[A > 0, FullSimplify[Limit[nevec, Bz -> 0]]]"
   ]
  },
  {
   "cell_type": "code",
   "execution_count": null,
   "id": "e87141c6",
   "metadata": {
    "vscode": {
     "languageId": "wolfram"
    }
   },
   "outputs": [],
   "source": [
    "MatrixForm[nevec0 . (Fx . Fx + Fy . Fy + Fz . Fz) . Transpose[nevec0]]"
   ]
  },
  {
   "cell_type": "code",
   "execution_count": null,
   "id": "c9142888",
   "metadata": {
    "vscode": {
     "languageId": "wolfram"
    }
   },
   "outputs": [],
   "source": [
    "MatrixForm[nevec0 . Fz . Transpose[nevec0]]"
   ]
  },
  {
   "cell_type": "markdown",
   "id": "6ae87898",
   "metadata": {},
   "source": [
    "#### low-field limit"
   ]
  },
  {
   "cell_type": "code",
   "execution_count": null,
   "id": "62dcad5a",
   "metadata": {
    "vscode": {
     "languageId": "wolfram"
    }
   },
   "outputs": [],
   "source": [
    "Assuming[A > 0, FullSimplify[Series[eval, {Bz, 0, 1}]]]"
   ]
  },
  {
   "cell_type": "markdown",
   "id": "41fc31b2",
   "metadata": {},
   "source": [
    "#### high-field limit"
   ]
  },
  {
   "cell_type": "code",
   "execution_count": null,
   "id": "157e4828",
   "metadata": {
    "vscode": {
     "languageId": "wolfram"
    }
   },
   "outputs": [],
   "source": [
    "Assuming[μB > 0 && gS < -gI < 0, FullSimplify[Series[eval, {Bz, Infinity, 0}]]]"
   ]
  },
  {
   "cell_type": "code",
   "execution_count": null,
   "id": "abd60718",
   "metadata": {
    "vscode": {
     "languageId": "wolfram"
    }
   },
   "outputs": [],
   "source": [
    "nevecinf = Assuming[μB > 0 && gS < -gI < 0, FullSimplify[Limit[nevec, Bz -> Infinity], A > 0]]"
   ]
  },
  {
   "cell_type": "code",
   "execution_count": null,
   "id": "5f24c963",
   "metadata": {
    "vscode": {
     "languageId": "wolfram"
    }
   },
   "outputs": [],
   "source": [
    "MatrixForm[nevecinf . Iz . Transpose[nevecinf]]"
   ]
  },
  {
   "cell_type": "code",
   "execution_count": null,
   "id": "1532fc9a",
   "metadata": {
    "vscode": {
     "languageId": "wolfram"
    }
   },
   "outputs": [],
   "source": [
    "MatrixForm[nevecinf . Jz . Transpose[nevecinf]]"
   ]
  },
  {
   "cell_type": "markdown",
   "id": "992b5a85",
   "metadata": {},
   "source": [
    "### “magic” magnetic field"
   ]
  },
  {
   "cell_type": "code",
   "execution_count": null,
   "id": "bb136ac4",
   "metadata": {
    "vscode": {
     "languageId": "wolfram"
    }
   },
   "outputs": [],
   "source": [
    "Plot[eval[[6]] - eval[[7]] - 2*A /. hfc, {Bz, 0, 6}]"
   ]
  },
  {
   "cell_type": "code",
   "execution_count": null,
   "id": "8745e51b",
   "metadata": {
    "vscode": {
     "languageId": "wolfram"
    }
   },
   "outputs": [],
   "source": [
    "NMinimize[eval[[6]] - eval[[7]] - 2*A /. hfc, Bz]"
   ]
  },
  {
   "cell_type": "markdown",
   "id": "920760a8",
   "metadata": {},
   "source": [
    "good approximation to the magic field:"
   ]
  },
  {
   "cell_type": "code",
   "execution_count": null,
   "id": "c525ef3a",
   "metadata": {
    "vscode": {
     "languageId": "wolfram"
    }
   },
   "outputs": [],
   "source": [
    "(A/μB)*((16*gI)/(3*gS^2)) /. hfc"
   ]
  },
  {
   "cell_type": "markdown",
   "id": "a77fef6b",
   "metadata": {},
   "source": [
    "---\n",
    "## oscillating magnetic field\n",
    "\n",
    "### Hamiltonian"
   ]
  },
  {
   "cell_type": "code",
   "execution_count": null,
   "id": "ba020148",
   "metadata": {
    "vscode": {
     "languageId": "wolfram"
    }
   },
   "outputs": [],
   "source": [
    "H0 = A*(Ix . Jx + Iy . Jy + Iz . Jz) - μB*Bz*(gS*Sz + gL*Lz + gI*Iz); \n",
    "H1 = (-μB)*(gS*(Bacx*Sx + Bacy*Sy + Bacz*Sz) + gI*(Bacx*Ix + Bacy*Iy + Bacz*Iz) + gL*(Bacx*Lx + Bacy*Ly + Bacz*Lz)); \n",
    "H[t_] = H0 + H1*Cos[ω*t]; "
   ]
  },
  {
   "cell_type": "markdown",
   "id": "9abf87f9",
   "metadata": {},
   "source": [
    "### transition matrix elements\n",
    "\n",
    "diagonalize the time-independent Hamiltonian  $H_0$ \n",
    "\n",
    "\n",
    "\n",
    ":"
   ]
  },
  {
   "cell_type": "code",
   "execution_count": null,
   "id": "69e7b07c",
   "metadata": {
    "vscode": {
     "languageId": "wolfram"
    }
   },
   "outputs": [],
   "source": [
    "{eval, evec} = FullSimplify[Eigensystem[H0]]; \n",
    "nevec = (#1/Sqrt[#1 . #1] & ) /@ evec; "
   ]
  },
  {
   "cell_type": "markdown",
   "id": "fcf43fd4",
   "metadata": {},
   "source": [
    "compute the transition matrix elements induced by  $H_1$ \n",
    "\n",
    "\n",
    "\n",
    " between the eigenstates of  $H_0$ \n",
    "\n",
    "\n",
    "\n",
    ":"
   ]
  },
  {
   "cell_type": "code",
   "execution_count": null,
   "id": "20f699ca",
   "metadata": {
    "vscode": {
     "languageId": "wolfram"
    }
   },
   "outputs": [],
   "source": [
    "T = Assuming[A > 0, FullSimplify[nevec . H1 . Transpose[nevec]]]; "
   ]
  },
  {
   "cell_type": "markdown",
   "id": "6c2d8080",
   "metadata": {},
   "source": [
    "### solve time-dependent Schrödinger equation numerically\n",
    "\n",
    "differential equations:"
   ]
  },
  {
   "cell_type": "code",
   "execution_count": null,
   "id": "558de24e",
   "metadata": {
    "vscode": {
     "languageId": "wolfram"
    }
   },
   "outputs": [],
   "source": [
    "deqs = Table[I*ℏ*Derivative[1][Subscript[ψ, i]][t] == Sum[Subscript[ψ, j][t]*Exp[(-I)*(eval[[j]] - eval[[i]])*(t/ℏ)]*Cos[ω*t]*T[[i,j]], {j, 8}], {i, 8}]; "
   ]
  },
  {
   "cell_type": "markdown",
   "id": "8ee2d48f",
   "metadata": {},
   "source": [
    "numerical solution:"
   ]
  },
  {
   "cell_type": "code",
   "execution_count": null,
   "id": "5b9e5626",
   "metadata": {
    "vscode": {
     "languageId": "wolfram"
    }
   },
   "outputs": [],
   "source": [
    "S = NDSolve[Join[deqs /. hfc /. {Bz -> 3.22896, Bacx -> 0.1, Bacy -> 0, Bacz -> 0, ω -> 2*Pi*6827.9}, {Subscript[ψ, 1][0] == 0, Subscript[ψ, 2][0] == 1, Subscript[ψ, 3][0] == 0, Subscript[ψ, 4][0] == 0, Subscript[ψ, 5][0] == 0, Subscript[ψ, 6][0] == 0, Subscript[ψ, 7][0] == 0, Subscript[ψ, 8][0] == 0}], Table[Subscript[ψ, i][t], {i, 8}], {t, 0, 30}, MaxStepSize -> 10^(-5), MaxSteps -> 10^7]"
   ]
  },
  {
   "cell_type": "markdown",
   "id": "a5d72e7f",
   "metadata": {},
   "source": [
    "plot:"
   ]
  },
  {
   "cell_type": "code",
   "execution_count": null,
   "id": "2b7c3da1",
   "metadata": {
    "vscode": {
     "languageId": "wolfram"
    }
   },
   "outputs": [],
   "source": [
    "Plot[Evaluate[Abs[Subscript[ψ, 2][t] /. S[[1]]]^2], {t, 0, 30}]"
   ]
  },
  {
   "cell_type": "code",
   "execution_count": null,
   "id": "fd6192ec",
   "metadata": {
    "vscode": {
     "languageId": "wolfram"
    }
   },
   "outputs": [],
   "source": [
    "Plot[Evaluate[Abs[Subscript[ψ, 7][t] /. S[[1]]]^2], {t, 0, 30}]"
   ]
  },
  {
   "cell_type": "markdown",
   "id": "08b144da",
   "metadata": {},
   "source": [
    "### rotating-wave approximation\n",
    "\n",
    "detuning:"
   ]
  },
  {
   "cell_type": "code",
   "execution_count": null,
   "id": "c51cb2da",
   "metadata": {
    "vscode": {
     "languageId": "wolfram"
    }
   },
   "outputs": [],
   "source": [
    "Δ = ω - (Ei - Ej)/ℏ; "
   ]
  },
  {
   "cell_type": "markdown",
   "id": "71a87aaf",
   "metadata": {},
   "source": [
    "generalized Rabi frequency:"
   ]
  },
  {
   "cell_type": "code",
   "execution_count": null,
   "id": "0c9be8a0",
   "metadata": {
    "vscode": {
     "languageId": "wolfram"
    }
   },
   "outputs": [],
   "source": [
    "Ω = Sqrt[(Tij*Tji)/ℏ^2 + Δ^2]; "
   ]
  },
  {
   "cell_type": "markdown",
   "id": "b560fd5a",
   "metadata": {},
   "source": [
    "solutions:"
   ]
  },
  {
   "cell_type": "code",
   "execution_count": null,
   "id": "2e9a71d2",
   "metadata": {
    "vscode": {
     "languageId": "wolfram"
    }
   },
   "outputs": [],
   "source": [
    "ψi[t_] = (ψi0*Cos[Ω*(t/2)] + I*((Δ/Ω)*ψi0 - (Tij/(ℏ*Ω))*ψj0)*Sin[Ω*(t/2)])/E^(I*Δ*(t/2)); \n",
    "ψj[t_] = E^(I*Δ*(t/2))*(ψj0*Cos[Ω*(t/2)] - I*((Δ/Ω)*ψj0 + (Tji/(ℏ*Ω))*ψi0)*Sin[Ω*(t/2)]); "
   ]
  },
  {
   "cell_type": "markdown",
   "id": "d1531591",
   "metadata": {},
   "source": [
    "check that these satisfy the time-dependent Schrödinger equation in the rotating-wave approximation:"
   ]
  },
  {
   "cell_type": "code",
   "execution_count": null,
   "id": "f003aa5b",
   "metadata": {
    "vscode": {
     "languageId": "wolfram"
    }
   },
   "outputs": [],
   "source": [
    "FullSimplify[I*ℏ*Derivative[1][ψi][t] == ((1/2)*ψj[t]*Tij)/E^(I*Δ*t)]"
   ]
  },
  {
   "cell_type": "code",
   "execution_count": null,
   "id": "3529c088",
   "metadata": {
    "vscode": {
     "languageId": "wolfram"
    }
   },
   "outputs": [],
   "source": [
    "FullSimplify[I*ℏ*Derivative[1][ψj][t] == (1/2)*ψi[t]*E^(I*Δ*t)*Tji]"
   ]
  },
  {
   "cell_type": "markdown",
   "id": "89e37996",
   "metadata": {},
   "source": [
    "check the boundary conditions:"
   ]
  },
  {
   "cell_type": "code",
   "execution_count": null,
   "id": "895b9ea2",
   "metadata": {
    "vscode": {
     "languageId": "wolfram"
    }
   },
   "outputs": [],
   "source": [
    "ψi[0]"
   ]
  },
  {
   "cell_type": "code",
   "execution_count": null,
   "id": "237fdfe8",
   "metadata": {
    "vscode": {
     "languageId": "wolfram"
    }
   },
   "outputs": [],
   "source": [
    "ψj[0]"
   ]
  },
  {
   "cell_type": "markdown",
   "id": "e3912ed5",
   "metadata": {},
   "source": [
    "This Mathematica code is part of the lecture script  *Introduction to Computational Quantum Mechanics*  by Roman Schmied. It is licensed under a  [Creative Commons Attribution-ShareAlike 4.0 International License](http://creativecommons.org/licenses/by-sa/4.0/) .\n",
    "\n",
    "<img src=\"data:image/jpg;base64,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\" class=\"img-responsive\"/>\n",
    "\n",
    "You can download the associated lecture script at  [http://arxiv.org/abs/1403.7050](http://arxiv.org/abs/1403.7050) \n",
    "\n",
    "# transverse Ising model\n",
    "\n",
    "### quantum-mechanical spin and angular momentum operators"
   ]
  },
  {
   "cell_type": "code",
   "execution_count": null,
   "id": "a38012bc",
   "metadata": {
    "vscode": {
     "languageId": "wolfram"
    }
   },
   "outputs": [],
   "source": [
    "SpinQ[S_] := IntegerQ[2*S] && S >= 0\n",
    "splus[0] = SparseArray[{{0}}]; \n",
    "splus[(S_)?SpinQ] := splus[S] = SparseArray[Band[{1, 2}] -> Table[Sqrt[S*(S + 1) - M*(M + 1)], {M, S - 1, -S, -1}], {2*S + 1, 2*S + 1}]\n",
    "sminus[(S_)?SpinQ] := Transpose[splus[S]]\n",
    "sx[(S_)?SpinQ] := sx[S] = (splus[S] + sminus[S])/2\n",
    "sy[(S_)?SpinQ] := sy[S] = (splus[S] - sminus[S])/(2*I)\n",
    "sz[(S_)?SpinQ] := sz[S] = SparseArray[Band[{1, 1}] -> Range[S, -S, -1], {2*S + 1, 2*S + 1}]\n",
    "id[(S_)?SpinQ] := id[S] = IdentityMatrix[2*S + 1, SparseArray]"
   ]
  },
  {
   "cell_type": "markdown",
   "id": "03e634a1",
   "metadata": {},
   "source": [
    "### operators acting on many spins\n",
    "\n",
    "an operator  $a$ \n",
    "\n",
    "\n",
    "\n",
    " acting on spin  $k$ \n",
    "\n",
    "\n",
    "\n",
    " out of a set of  $n$ \n",
    "\n",
    "\n",
    "\n",
    " spins- $S$ \n",
    "\n",
    "\n",
    "\n",
    ":"
   ]
  },
  {
   "cell_type": "code",
   "execution_count": null,
   "id": "86e00230",
   "metadata": {
    "vscode": {
     "languageId": "wolfram"
    }
   },
   "outputs": [],
   "source": [
    "op[(S_)?SpinQ, n_Integer, k_Integer, (a_)?MatrixQ] /; 1 <= k <= n && Dimensions[a] == {2*S + 1, 2*S + 1} := KroneckerProduct[IdentityMatrix[(2*S + 1)^(k - 1), SparseArray], a, IdentityMatrix[(2*S + 1)^(n - k), SparseArray]]"
   ]
  },
  {
   "cell_type": "markdown",
   "id": "c52b8cdc",
   "metadata": {},
   "source": [
    "spin operators acting on spin  $k$ \n",
    "\n",
    "\n",
    "\n",
    " out of a set of  $n$ \n",
    "\n",
    "\n",
    "\n",
    " spins- $S$ \n",
    "\n",
    "\n",
    "\n",
    ":"
   ]
  },
  {
   "cell_type": "code",
   "execution_count": null,
   "id": "63ee6a75",
   "metadata": {
    "vscode": {
     "languageId": "wolfram"
    }
   },
   "outputs": [],
   "source": [
    "sx[(S_)?SpinQ, n_Integer, k_Integer] /; 1 <= k <= n := op[S, n, k, sx[S]]\n",
    "sy[(S_)?SpinQ, n_Integer, k_Integer] /; 1 <= k <= n := op[S, n, k, sy[S]]\n",
    "sz[(S_)?SpinQ, n_Integer, k_Integer] /; 1 <= k <= n := op[S, n, k, sz[S]]"
   ]
  },
  {
   "cell_type": "markdown",
   "id": "2b68ee18",
   "metadata": {},
   "source": [
    "### Hamiltonian\n",
    "\n",
    "transverse Ising model on a ring of  $N$ \n",
    "\n",
    "\n",
    "\n",
    " spins:\n",
    "\n",
    " $$\\hat{H}=-\\frac{b}{2}\\sum _{k=1}^N \\hat{S}_x^{(k)}-\\sum _{k=1}^{N-1} \\hat{S}_z^{(k)}\\hat{S}_z^{(k+1)}$$ \n",
    "\n"
   ]
  },
  {
   "cell_type": "code",
   "execution_count": null,
   "id": "4e042387",
   "metadata": {
    "vscode": {
     "languageId": "wolfram"
    }
   },
   "outputs": [],
   "source": [
    "H[(S_)?SpinQ, n_Integer /; n >= 3, b_] := (-(b/2))*Sum[sx[S, n, k], {k, n}] - Sum[sz[S, n, k] . sz[S, n, Mod[k + 1, n, 1]], {k, n}]"
   ]
  },
  {
   "cell_type": "markdown",
   "id": "600942a4",
   "metadata": {},
   "source": [
    "### asymptotic ground states\n",
    "\n",
    "product state  $|\\theta \\rangle ^{\\otimes N}$ \n",
    "\n",
    "\n",
    "\n",
    ":"
   ]
  },
  {
   "cell_type": "code",
   "execution_count": null,
   "id": "974a2857",
   "metadata": {
    "vscode": {
     "languageId": "wolfram"
    }
   },
   "outputs": [],
   "source": [
    "productstate[(θ_)?VectorQ, 1] = θ; \n",
    "productstate[(θ_)?VectorQ, n_Integer /; n >= 2] := Flatten[KroneckerProduct @@ Table[θ, n]]"
   ]
  },
  {
   "cell_type": "markdown",
   "id": "b75bc72b",
   "metadata": {},
   "source": [
    "parallel-spin states:"
   ]
  },
  {
   "cell_type": "code",
   "execution_count": null,
   "id": "b14ac14f",
   "metadata": {
    "vscode": {
     "languageId": "wolfram"
    }
   },
   "outputs": [],
   "source": [
    "xup[(S_)?SpinQ] := Table[Sqrt[Binomial[2*S, M + S]], {M, S, -S, -1}]/2^S\n",
    "xdn[(S_)?SpinQ] := Table[(-1)^(M + S)*Sqrt[Binomial[2*S, M + S]], {M, S, -S, -1}]/2^S\n",
    "zup[(S_)?SpinQ] := SparseArray[1 -> 1, 2*S + 1]\n",
    "zdn[(S_)?SpinQ] := SparseArray[-1 -> 1, 2*S + 1]"
   ]
  },
  {
   "cell_type": "markdown",
   "id": "6008b93b",
   "metadata": {},
   "source": [
    "product states:"
   ]
  },
  {
   "cell_type": "code",
   "execution_count": null,
   "id": "222a12a9",
   "metadata": {
    "vscode": {
     "languageId": "wolfram"
    }
   },
   "outputs": [],
   "source": [
    "allxup[(S_)?SpinQ, n_Integer /; n >= 1] := productstate[xup[S], n]\n",
    "allxdn[(S_)?SpinQ, n_Integer /; n >= 1] := productstate[xdn[S], n]\n",
    "allzup[(S_)?SpinQ, n_Integer /; n >= 1] := productstate[zup[S], n]\n",
    "allzdn[(S_)?SpinQ, n_Integer /; n >= 1] := productstate[zdn[S], n]"
   ]
  },
  {
   "cell_type": "markdown",
   "id": "50fb4319",
   "metadata": {},
   "source": [
    "### Hamiltonian diagonalization"
   ]
  },
  {
   "cell_type": "code",
   "execution_count": null,
   "id": "8155d697",
   "metadata": {
    "vscode": {
     "languageId": "wolfram"
    }
   },
   "outputs": [],
   "source": [
    "With[{S = 1/2, n = 14}, h[b_] = H[S, n, b]; gs0up = allzup[S, n]; gs0dn = allzdn[S, n]; gsplusinf = allxup[S, n]; gsminusinf = allxdn[S, n]; Clear[gs]; gs[(b_)?NumericQ, m_Integer /; m >= 1] := gs[b, m] = Transpose[Sort[Transpose[-Eigensystem[-h[N[b]], m, Method -> {\"Arnoldi\", \"Criteria\" -> \"RealPart\", MaxIterations -> 10^6}]]]]; Clear[mx, my, mz]; mx[(b_)?NumericQ, m_Integer /; m >= 1, k_Integer] := mx[b, m, k] = With[{g = gs[b, m][[2,1]]}, Re[Conjugate[g] . (sx[S, n, Mod[k, n, 1]] . g)]]; my[(b_)?NumericQ, m_Integer /; m >= 1, k_Integer] := my[b, m, k] = With[{g = gs[b, m][[2,1]]}, Re[Conjugate[g] . (sy[S, n, Mod[k, n, 1]] . g)]]; mz[(b_)?NumericQ, m_Integer /; m >= 1, k_Integer] := mz[b, m, k] = With[{g = gs[b, m][[2,1]]}, Re[Conjugate[g] . (sz[S, n, Mod[k, n, 1]] . g)]]; Clear[Cop]; Cop[k1_Integer, k2_Integer] := Cop[k1, k2] = With[{q1 = Mod[k1, n, 1], q2 = Mod[k2, n, 1]}, sx[S, n, q1] . sx[S, n, q2] + sy[S, n, q1] . sy[S, n, q2] + sz[S, n, q1] . sz[S, n, q2]]; Clear[c]; c[(b_)?NumericQ, m_Integer /; m >= 1, {k1_Integer, k2_Integer}] := c[b, m, {k1, k2}] = With[{g = gs[b, m][[2,1]]}, Re[Conjugate[g] . (Cop[k1, k2] . g)] - (mx[b, m, k1]*mx[b, m, k2] + my[b, m, k1]*my[b, m, k2] + mz[b, m, k1]*mz[b, m, k2])]; ]"
   ]
  },
  {
   "cell_type": "markdown",
   "id": "08f02747",
   "metadata": {},
   "source": [
    "### analysis of the ground state\n",
    "\n",
    "#### energy gap"
   ]
  },
  {
   "cell_type": "code",
   "execution_count": null,
   "id": "de14092d",
   "metadata": {
    "vscode": {
     "languageId": "wolfram"
    }
   },
   "outputs": [],
   "source": [
    "With[{bmax = 3, db = 1/8, m = 2}, ListLinePlot[Table[{b, gs[b, m][[1,2]] - gs[b, m][[1,1]]}, {b, -bmax, bmax, db}]]]"
   ]
  },
  {
   "cell_type": "markdown",
   "id": "87db6a6c",
   "metadata": {},
   "source": [
    "#### overlap with asymptotic wavefunctions"
   ]
  },
  {
   "cell_type": "code",
   "execution_count": null,
   "id": "6368399a",
   "metadata": {
    "vscode": {
     "languageId": "wolfram"
    }
   },
   "outputs": [],
   "source": [
    "With[{bmax = 3, db = 1/8, m = 2}, ListLinePlot[Transpose[Table[{{b, Abs[gsminusinf . gs[b, m][[2,1]]]^2}, {b, Abs[gsplusinf . gs[b, m][[2,1]]]^2}, {b, Abs[((gs0up - gs0dn)/Sqrt[2]) . gs[b, m][[2,1]]]^2}, {b, Abs[((gs0up + gs0dn)/Sqrt[2]) . gs[b, m][[2,1]]]^2}, {b, Abs[((gs0up - gs0dn)/Sqrt[2]) . gs[b, m][[2,1]]]^2 + Abs[((gs0up + gs0dn)/Sqrt[2]) . gs[b, m][[2,1]]]^2}}, {b, -bmax, bmax, db}]]]]"
   ]
  },
  {
   "cell_type": "markdown",
   "id": "1ca25899",
   "metadata": {},
   "source": [
    "#### magnetization"
   ]
  },
  {
   "cell_type": "code",
   "execution_count": null,
   "id": "9d04c874",
   "metadata": {
    "vscode": {
     "languageId": "wolfram"
    }
   },
   "outputs": [],
   "source": [
    "With[{bmax = 3, db = 1/8, m = 2}, ListLinePlot[Transpose[Table[{{b, mx[b, m, 1]}, {b, mz[b, m, 1]}}, {b, -bmax, bmax, db}]]]]"
   ]
  },
  {
   "cell_type": "markdown",
   "id": "7ddf9a76",
   "metadata": {},
   "source": [
    "#### correlations"
   ]
  },
  {
   "cell_type": "code",
   "execution_count": null,
   "id": "11864c28",
   "metadata": {
    "vscode": {
     "languageId": "wolfram"
    }
   },
   "outputs": [],
   "source": [
    "With[{bmax = 3, db = 1/8, m = 2}, ListLinePlot[Table[{b, c[b, m, {1, 1 + δ}]}, {δ, 1, 7}, {b, -bmax, bmax, db}], PlotLegends -> Range[7]]]"
   ]
  },
  {
   "cell_type": "markdown",
   "id": "f7918af6",
   "metadata": {},
   "source": [
    "#### reduced density matrices\n",
    "\n",
    "functions for calculating reduced density matrices: (see ReducedDensityMatrix.nb)"
   ]
  },
  {
   "cell_type": "code",
   "execution_count": null,
   "id": "28d49654",
   "metadata": {
    "vscode": {
     "languageId": "wolfram"
    }
   },
   "outputs": [],
   "source": [
    "rdm[(ψABC_)?VectorQ, {dA_Integer /; dA >= 1, dB_Integer /; dB >= 1, dC_Integer /; dC >= 1}] /; Length[ψABC] == dA*dB*dC := With[{P = ArrayReshape[ψABC, {dA, dB, dC}]}, Flatten[Transpose[P, {1, 3, 2}] . ConjugateTranspose[P], {{1, 2}, {3, 4}}]]\n",
    "traceout[(ψ_)?VectorQ, d_Integer /; d >= 1] /; Divisible[Length[ψ], d] := rdm[ψ, {1, d, Length[ψ]/d}]\n",
    "traceout[(ψ_)?VectorQ, d_Integer /; d <= -1] /; Divisible[Length[ψ], -d] := rdm[ψ, {Length[ψ]/(-d), -d, 1}]"
   ]
  },
  {
   "cell_type": "markdown",
   "id": "c667b453",
   "metadata": {},
   "source": [
    "#### entropy of entanglement"
   ]
  },
  {
   "cell_type": "code",
   "execution_count": null,
   "id": "873e0bf4",
   "metadata": {
    "vscode": {
     "languageId": "wolfram"
    }
   },
   "outputs": [],
   "source": [
    "s[0 | 0.] = 0; \n",
    "s[x_] = (-x)*Log[2, x]; "
   ]
  },
  {
   "cell_type": "code",
   "execution_count": null,
   "id": "cb3249d2",
   "metadata": {
    "vscode": {
     "languageId": "wolfram"
    }
   },
   "outputs": [],
   "source": [
    "EE[(S_)?SpinQ, ψ_] := Total[s /@ Re[Eigenvalues[traceout[ψ, -(Length[ψ]/(2*S + 1))]]]]"
   ]
  },
  {
   "cell_type": "code",
   "execution_count": null,
   "id": "147ee3db",
   "metadata": {
    "vscode": {
     "languageId": "wolfram"
    }
   },
   "outputs": [],
   "source": [
    "With[{bmax = 3, db = 1/8, m = 2}, ListLinePlot[Table[{b, EE[1/2, gs[b, m][[2,1]]]}, {b, -bmax, bmax, db}], PlotRange -> {0, 1}]]"
   ]
  },
  {
   "cell_type": "markdown",
   "id": "6a65f74d",
   "metadata": {},
   "source": [
    "This Mathematica code is part of the lecture script  *Introduction to Computational Quantum Mechanics*  by Roman Schmied. It is licensed under a  [Creative Commons Attribution-ShareAlike 4.0 International License](http://creativecommons.org/licenses/by-sa/4.0/) .\n",
    "\n",
    "<img src=\"data:image/jpg;base64,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\" class=\"img-responsive\"/>\n",
    "\n",
    "You can download the associated lecture script at  [http://arxiv.org/abs/1403.7050](http://arxiv.org/abs/1403.7050) \n",
    "\n",
    "# Quantum Gates and Quantum Computing\n",
    "\n",
    "### definitions of quantum gates\n",
    "\n",
    "single-qubit pseudospin operators:  $\\mathbf{1}$ \n",
    "\n",
    "\n",
    "\n",
    ",  $\\hat{\\sigma }_x$ \n",
    "\n",
    "\n",
    "\n",
    ",  $\\hat{\\sigma }_y$ \n",
    "\n",
    "\n",
    "\n",
    ",  $\\hat{\\sigma }_z$ \n",
    "\n",
    "\n",
    "\n"
   ]
  },
  {
   "cell_type": "code",
   "execution_count": null,
   "id": "d07a79d5",
   "metadata": {
    "vscode": {
     "languageId": "wolfram"
    }
   },
   "outputs": [],
   "source": [
    "{id, σx, σy, σz} = Table[SparseArray[PauliMatrix[i]], {i, 0, 3}]; "
   ]
  },
  {
   "cell_type": "markdown",
   "id": "49d9d2a0",
   "metadata": {},
   "source": [
    "projectors onto 0 and 1 states, respectively:"
   ]
  },
  {
   "cell_type": "code",
   "execution_count": null,
   "id": "e2e45891",
   "metadata": {
    "vscode": {
     "languageId": "wolfram"
    }
   },
   "outputs": [],
   "source": [
    "P0 = SparseArray[(id + σz)/2]; \n",
    "P1 = SparseArray[(id - σz)/2]; "
   ]
  },
  {
   "cell_type": "markdown",
   "id": "7b6d993f",
   "metadata": {},
   "source": [
    "operator  $\\hat{a}$ \n",
    "\n",
    "\n",
    "\n",
    " acting on the  $k^{\\text{th}}$ \n",
    "\n",
    "\n",
    "\n",
    " qubit of a set of  $n$ \n",
    "\n",
    "\n",
    "\n",
    " qubits:  $\\mathbf{1}\\otimes \\mathbf{1}\\otimes \\cdots \\otimes \\mathbf{1}\\otimes \\hat{a}\\otimes 1\\otimes \\cdots \\otimes \\mathbf{1}\\otimes \\mathbf{1}$ \n",
    "\n",
    "\n",
    "\n"
   ]
  },
  {
   "cell_type": "code",
   "execution_count": null,
   "id": "d035eb99",
   "metadata": {
    "vscode": {
     "languageId": "wolfram"
    }
   },
   "outputs": [],
   "source": [
    "op[n_Integer, k_Integer, a_] /; 1 <= k <= n && Dimensions[a] == {2, 2} := KroneckerProduct[IdentityMatrix[2^(k - 1), SparseArray], a, IdentityMatrix[2^(n - k), SparseArray]]"
   ]
  },
  {
   "cell_type": "markdown",
   "id": "b551f890",
   "metadata": {},
   "source": [
    "controlled operator: in a set of  $n$ \n",
    "\n",
    "\n",
    "\n",
    " qubits, only if all of the qubits in the list  $\\lambda$ \n",
    "\n",
    "\n",
    "\n",
    " are in state 1 then the operator  $\\hat{A}$ \n",
    "\n",
    "\n",
    "\n",
    " is applied to the system; otherwise no operation is applied"
   ]
  },
  {
   "cell_type": "code",
   "execution_count": null,
   "id": "bc73f784",
   "metadata": {
    "vscode": {
     "languageId": "wolfram"
    }
   },
   "outputs": [],
   "source": [
    "CTRL[n_Integer, λ_ /; VectorQ[λ, IntegerQ], A_] /; Unequal @@ λ && Min[λ] >= 1 && Max[λ] <= n && Dimensions[A] == {2^n, 2^n} := IdentityMatrix[2^n, SparseArray] + Dot @@ (op[n, #1, P1] & ) /@ λ . (A - IdentityMatrix[2^n, SparseArray])"
   ]
  },
  {
   "cell_type": "markdown",
   "id": "e450d5e0",
   "metadata": {},
   "source": [
    "#### single-qubit gates\n",
    "\n",
    "Pauli gates acting on the  $k^{\\text{th}}$ \n",
    "\n",
    "\n",
    "\n",
    " qubit of a set of  $n$ \n",
    "\n",
    "\n",
    "\n",
    " qubits:"
   ]
  },
  {
   "cell_type": "code",
   "execution_count": null,
   "id": "412046f2",
   "metadata": {
    "vscode": {
     "languageId": "wolfram"
    }
   },
   "outputs": [],
   "source": [
    "X[n_Integer, k_Integer] /; 1 <= k <= n := op[n, k, σx]\n",
    "Y[n_Integer, k_Integer] /; 1 <= k <= n := op[n, k, σy]\n",
    "Z[n_Integer, k_Integer] /; 1 <= k <= n := op[n, k, σz]"
   ]
  },
  {
   "cell_type": "markdown",
   "id": "8cb769d4",
   "metadata": {},
   "source": [
    "Pauli rotations:  $\\hat{R}_x(\\phi )\\propto e^{-i \\phi  \\left.\\hat{\\sigma }_x\\right/2}$ \n",
    "\n",
    "\n",
    "\n",
    " etc."
   ]
  },
  {
   "cell_type": "code",
   "execution_count": null,
   "id": "f3d62e9a",
   "metadata": {
    "vscode": {
     "languageId": "wolfram"
    }
   },
   "outputs": [],
   "source": [
    "RX[n_Integer, k_Integer, ϕ_] /; 1 <= k <= n := op[n, k, ((1 + E^(I*ϕ))/2)*id + ((1 - E^(I*ϕ))/2)*σx]\n",
    "RY[n_Integer, k_Integer, ϕ_] /; 1 <= k <= n := op[n, k, ((1 + E^(I*ϕ))/2)*id + ((1 - E^(I*ϕ))/2)*σy]\n",
    "RZ[n_Integer, k_Integer, ϕ_] /; 1 <= k <= n := op[n, k, ((1 + E^(I*ϕ))/2)*id + ((1 - E^(I*ϕ))/2)*σz]"
   ]
  },
  {
   "cell_type": "markdown",
   "id": "e039d5e4",
   "metadata": {},
   "source": [
    "Hadamard gate:"
   ]
  },
  {
   "cell_type": "code",
   "execution_count": null,
   "id": "d046f9c8",
   "metadata": {
    "vscode": {
     "languageId": "wolfram"
    }
   },
   "outputs": [],
   "source": [
    "H[n_Integer, k_Integer] /; 1 <= k <= n := op[n, k, (σx + σz)/Sqrt[2]]"
   ]
  },
  {
   "cell_type": "markdown",
   "id": "57b6b80c",
   "metadata": {},
   "source": [
    "#### two-qubit gates\n",
    "\n",
    "SWAP gate: exchanges the state of qubits  $j$ \n",
    "\n",
    "\n",
    "\n",
    " and  $k$ \n",
    "\n",
    "\n",
    "\n",
    " in a set of  $n$ \n",
    "\n",
    "\n",
    "\n",
    " qubits"
   ]
  },
  {
   "cell_type": "code",
   "execution_count": null,
   "id": "b12462f7",
   "metadata": {
    "vscode": {
     "languageId": "wolfram"
    }
   },
   "outputs": [],
   "source": [
    "SWAP[n_Integer, {j_Integer, k_Integer}] /; 1 <= j <= n && 1 <= k <= n && j != k := (IdentityMatrix[2^n, SparseArray] + X[n, j] . X[n, k] + Y[n, j] . Y[n, k] + Z[n, j] . Z[n, k])/2"
   ]
  },
  {
   "cell_type": "markdown",
   "id": "2356ea65",
   "metadata": {},
   "source": [
    "square root of the SWAP gate:"
   ]
  },
  {
   "cell_type": "code",
   "execution_count": null,
   "id": "86e8b36e",
   "metadata": {
    "vscode": {
     "languageId": "wolfram"
    }
   },
   "outputs": [],
   "source": [
    "SQRTSWAP[n_Integer, {j_Integer, k_Integer}] /; 1 <= j <= n && 1 <= k <= n && j != k := ((3 + I)/4)*IdentityMatrix[2^n, SparseArray] + ((1 - I)/4)*(X[n, j] . X[n, k] + Y[n, j] . Y[n, k] + Z[n, j] . Z[n, k])"
   ]
  },
  {
   "cell_type": "markdown",
   "id": "dceedcdb",
   "metadata": {},
   "source": [
    "CNOT gate: in a set of  $n$ \n",
    "\n",
    "\n",
    "\n",
    " qubits, if qubit  $j$ \n",
    "\n",
    "\n",
    "\n",
    " is in state 0 then there is no effect on qubit  $k$ \n",
    "\n",
    "\n",
    "\n",
    ", whereas if qubit  $j$ \n",
    "\n",
    "\n",
    "\n",
    " is in state 1 then the NOT operator  $\\hat{\\sigma }_x$ \n",
    "\n",
    "\n",
    "\n",
    " acts on qubit  $k$ \n",
    "\n",
    "\n",
    "\n"
   ]
  },
  {
   "cell_type": "code",
   "execution_count": null,
   "id": "a9b9a4ca",
   "metadata": {
    "vscode": {
     "languageId": "wolfram"
    }
   },
   "outputs": [],
   "source": [
    "CNOT[n_Integer, j_Integer -> k_Integer] /; 1 <= j <= n && 1 <= k <= n && j != k := CTRL[n, {j}, op[n, k, σx]]"
   ]
  },
  {
   "cell_type": "markdown",
   "id": "94ce1dc8",
   "metadata": {},
   "source": [
    "#### three-qubit gates\n",
    "\n",
    "CCNOT (Toffoli) gate: in a set of  $n$ \n",
    "\n",
    "\n",
    "\n",
    " qubits, if both qubits  $i$ \n",
    "\n",
    "\n",
    "\n",
    " and  $j$ \n",
    "\n",
    "\n",
    "\n",
    " are in state 1, then the NOT operator  $\\hat{\\sigma }_x$ \n",
    "\n",
    "\n",
    "\n",
    " acts on qubit  $k$ \n",
    "\n",
    "\n",
    "\n"
   ]
  },
  {
   "cell_type": "code",
   "execution_count": null,
   "id": "e9f21c22",
   "metadata": {
    "vscode": {
     "languageId": "wolfram"
    }
   },
   "outputs": [],
   "source": [
    "CCNOT[n_Integer, {i_Integer, j_Integer} -> k_Integer] /; 1 <= i <= n && 1 <= j <= n && 1 <= k <= n && i != j != k := CTRL[n, {i, j}, op[n, k, σx]]"
   ]
  },
  {
   "cell_type": "markdown",
   "id": "81f4bc33",
   "metadata": {},
   "source": [
    "controlled SWAP (Fredkin) gate: in a set of  $n$ \n",
    "\n",
    "\n",
    "\n",
    " qubits, if qubit  $i$ \n",
    "\n",
    "\n",
    "\n",
    " is in state 0 then there is no effect on qubits  $j$ \n",
    "\n",
    "\n",
    "\n",
    " and  $k$ \n",
    "\n",
    "\n",
    "\n",
    ", whereas if qubit  $i$ \n",
    "\n",
    "\n",
    "\n",
    " is in state 1 then the state of qubits  $j$ \n",
    "\n",
    "\n",
    "\n",
    " and  $k$ \n",
    "\n",
    "\n",
    "\n",
    " is exchanged"
   ]
  },
  {
   "cell_type": "code",
   "execution_count": null,
   "id": "650e3b0a",
   "metadata": {
    "vscode": {
     "languageId": "wolfram"
    }
   },
   "outputs": [],
   "source": [
    "CSWAP[n_Integer, i_Integer -> {j_Integer, k_Integer}] /; 1 <= i <= n && 1 <= j <= n && 1 <= k <= n && i != j != k := CTRL[n, {i}, SWAP[n, {j, k}]]"
   ]
  },
  {
   "cell_type": "markdown",
   "id": "c4f53d64",
   "metadata": {},
   "source": [
    "### a simple circuit\n",
    "\n",
    "the operator for the circuit:"
   ]
  },
  {
   "cell_type": "code",
   "execution_count": null,
   "id": "15baa438",
   "metadata": {
    "vscode": {
     "languageId": "wolfram"
    }
   },
   "outputs": [],
   "source": [
    "S = CNOT[2, 1 -> 2] . H[2, 1]; \n",
    "Normal[S]"
   ]
  },
  {
   "cell_type": "markdown",
   "id": "169eca88",
   "metadata": {},
   "source": [
    "the basis set:"
   ]
  },
  {
   "cell_type": "code",
   "execution_count": null,
   "id": "528283d7",
   "metadata": {
    "vscode": {
     "languageId": "wolfram"
    }
   },
   "outputs": [],
   "source": [
    "B[n_Integer /; n >= 1] := Tuples[{0, 1}, n]\n",
    "B[2]"
   ]
  },
  {
   "cell_type": "markdown",
   "id": "d56b2e09",
   "metadata": {},
   "source": [
    "operate on the  $|00\\rangle$ \n",
    "\n",
    "\n",
    "\n",
    " input state:"
   ]
  },
  {
   "cell_type": "code",
   "execution_count": null,
   "id": "9327cb83",
   "metadata": {
    "vscode": {
     "languageId": "wolfram"
    }
   },
   "outputs": [],
   "source": [
    "ψin = {1, 0, 0, 0}; \n",
    "ψout = S . ψin"
   ]
  },
  {
   "cell_type": "markdown",
   "id": "e008b9c0",
   "metadata": {},
   "source": [
    "### Quantum Fourier Transform\n",
    "\n",
    "The Quantum Fourier Transform (QFT) is assembled following Fig. 5.1 of M. Nielsen and I. Chuang,  *Quantum Computation and Quantum Information* , Cambridge University Press, 2010 (tenth anniversary edition).\n",
    "\n",
    "The quantum circuit for a QFT is assembled from blocks that connect the  $i^{\\text{th}}$ \n",
    "\n",
    "\n",
    "\n",
    " qubit to the qubits  $\\{i+1,i+2,\\ldots ,n\\}$ \n",
    "\n",
    "\n",
    "\n",
    " via controlled phase gates:"
   ]
  },
  {
   "cell_type": "code",
   "execution_count": null,
   "id": "7f32ddeb",
   "metadata": {
    "vscode": {
     "languageId": "wolfram"
    }
   },
   "outputs": [],
   "source": [
    "QFTblock[n_Integer, i_Integer] /; 1 <= i <= n := Dot @@ Table[CTRL[n, {j}, RZ[n, i, 2*(Pi/2^(j + 1 - i))]], {j, n, i + 1, -1}] . H[n, i]"
   ]
  },
  {
   "cell_type": "markdown",
   "id": "4ac10d4f",
   "metadata": {},
   "source": [
    "assemble the quantum Fourier transformation by connecting all qubits:\n",
    "\n",
    "1. connect all qubits through the above QFTblock operation\n",
    "\n",
    "2. swap the order of the qubits"
   ]
  },
  {
   "cell_type": "code",
   "execution_count": null,
   "id": "8c81ce39",
   "metadata": {
    "vscode": {
     "languageId": "wolfram"
    }
   },
   "outputs": [],
   "source": [
    "QFT[n_Integer] /; n >= 1 := Dot @@ Table[SWAP[n, {i, n + 1 - i}], {i, 1, n/2}] . Dot @@ Table[QFTblock[n, i], {i, n, 1, -1}]"
   ]
  },
  {
   "cell_type": "markdown",
   "id": "1ca67f8d",
   "metadata": {},
   "source": [
    "QFT consists of a polynomial number of gates:\n",
    "\n",
    "·  $n$ \n",
    "\n",
    "\n",
    "\n",
    " Hadamard gates\n",
    "\n",
    "·  $\\frac{n(n-1)}{2}$ \n",
    "\n",
    "\n",
    "\n",
    " controlled rotations\n",
    "\n",
    "·  $\\left\\lfloor \\frac{n}{2}\\right\\rfloor$ \n",
    "\n",
    "\n",
    "\n",
    " swap gates\n",
    "\n",
    "simple formula for the resulting matrix representation:"
   ]
  },
  {
   "cell_type": "code",
   "execution_count": null,
   "id": "a4f502a1",
   "metadata": {
    "vscode": {
     "languageId": "wolfram"
    }
   },
   "outputs": [],
   "source": [
    "FullSimplify[Table[QFT[n] == (1/2^(n/2))*Table[E^(2*Pi*I*j*(k/2^n)), {j, 0, 2^n - 1}, {k, 0, 2^n - 1}], {n, 6}]]"
   ]
  },
  {
   "cell_type": "markdown",
   "id": "01280560",
   "metadata": {},
   "source": [
    "### Quantum phase estimation\n",
    "\n",
    "estimate the phase of this:"
   ]
  },
  {
   "cell_type": "code",
   "execution_count": null,
   "id": "b8fc9b22",
   "metadata": {
    "vscode": {
     "languageId": "wolfram"
    }
   },
   "outputs": [],
   "source": [
    "u = {1}; \n",
    "U[ϕ_] = {{E^(2*Pi*I*ϕ)}}; "
   ]
  },
  {
   "cell_type": "markdown",
   "id": "ced5ab74",
   "metadata": {},
   "source": [
    "check that we set up the problem correctly:"
   ]
  },
  {
   "cell_type": "code",
   "execution_count": null,
   "id": "273c6acf",
   "metadata": {
    "vscode": {
     "languageId": "wolfram"
    }
   },
   "outputs": [],
   "source": [
    "{U[ϕ] . u === E^(2*Pi*I*ϕ)*u, Norm[u] == 1}"
   ]
  },
  {
   "cell_type": "markdown",
   "id": "0f9bb239",
   "metadata": {},
   "source": [
    "unit operator in the space of the system  $U$ \n",
    "\n",
    "\n",
    "\n",
    ":"
   ]
  },
  {
   "cell_type": "code",
   "execution_count": null,
   "id": "0bdebdae",
   "metadata": {
    "vscode": {
     "languageId": "wolfram"
    }
   },
   "outputs": [],
   "source": [
    "U0 = IdentityMatrix[Length[u], SparseArray]; "
   ]
  },
  {
   "cell_type": "markdown",
   "id": "5263a9e1",
   "metadata": {},
   "source": [
    " $U$ \n",
    "\n",
    "\n",
    "\n",
    " operator attached to  $n$ \n",
    "\n",
    "\n",
    "\n",
    " qubits, controlled by the  $i^{\\text{th}}$ \n",
    "\n",
    "\n",
    "\n",
    " qubit:"
   ]
  },
  {
   "cell_type": "code",
   "execution_count": null,
   "id": "69cffa86",
   "metadata": {
    "vscode": {
     "languageId": "wolfram"
    }
   },
   "outputs": [],
   "source": [
    "CTRLU[n_Integer, i_Integer, ϕ_] /; 1 <= i <= n := KroneckerProduct[op[n, i, P0], U0] + KroneckerProduct[op[n, i, P1], U[ϕ]]"
   ]
  },
  {
   "cell_type": "markdown",
   "id": "196b49de",
   "metadata": {},
   "source": [
    "estimate to  $t$ \n",
    "\n",
    "\n",
    "\n",
    " digits of precision:"
   ]
  },
  {
   "cell_type": "code",
   "execution_count": null,
   "id": "7a142bc8",
   "metadata": {
    "vscode": {
     "languageId": "wolfram"
    }
   },
   "outputs": [],
   "source": [
    "t = 4; \n",
    "ϵ[ϕ_] = Normal[KroneckerProduct[ConjugateTranspose[QFT[t]], U0] . Dot @@ Table[CTRLU[t, i, 2^(t - i)*ϕ], {i, t, 1, -1}] . KroneckerProduct[Dot @@ Table[H[t, i], {i, t}], U0] . Flatten[KroneckerProduct[SparseArray[1 -> 1, 2^t], u]]]; "
   ]
  },
  {
   "cell_type": "markdown",
   "id": "d6c4c898",
   "metadata": {},
   "source": [
    "probabilities for measuring the different basis states: trace out the SUT and look at the diagonal elements of the reduced density matrix\n",
    "\n",
    "(see ReducedDensityMatrix.nb)"
   ]
  },
  {
   "cell_type": "code",
   "execution_count": null,
   "id": "3c4ff572",
   "metadata": {
    "vscode": {
     "languageId": "wolfram"
    }
   },
   "outputs": [],
   "source": [
    "rdm[(ψABC_)?VectorQ, {dA_Integer /; dA >= 1, dB_Integer /; dB >= 1, dC_Integer /; dC >= 1}] /; Length[ψABC] == dA*dB*dC := With[{P = ArrayReshape[ψABC, {dA, dB, dC}]}, Flatten[Transpose[P, {1, 3, 2}] . ConjugateTranspose[P], {{1, 2}, {3, 4}}]]\n",
    "traceout[(ψ_)?VectorQ, d_Integer /; d >= 1] /; Divisible[Length[ψ], d] := rdm[ψ, {1, d, Length[ψ]/d}]\n",
    "traceout[(ψ_)?VectorQ, d_Integer /; d <= -1] /; Divisible[Length[ψ], -d] := rdm[ψ, {Length[ψ]/(-d), -d, 1}]"
   ]
  },
  {
   "cell_type": "code",
   "execution_count": null,
   "id": "cce9cc10",
   "metadata": {
    "vscode": {
     "languageId": "wolfram"
    }
   },
   "outputs": [],
   "source": [
    "prob[(ϕ_)?NumericQ] := Re[Diagonal[traceout[ϵ[N[ϕ]], -Length[u]]]]"
   ]
  },
  {
   "cell_type": "markdown",
   "id": "274ade61",
   "metadata": {},
   "source": [
    "When  $\\phi$ \n",
    "\n",
    "\n",
    "\n",
    " is an integer multiple of  $2^{-t}$ \n",
    "\n",
    "\n",
    "\n",
    ", only one basis state has 100% probability of occurring. The  $i^{\\text{th}}$ \n",
    "\n",
    "\n",
    "\n",
    " basis state corresponds to a measurement of  $\\phi =\\frac{i-1}{2^t}$ \n",
    "\n",
    "\n",
    "\n",
    ":"
   ]
  },
  {
   "cell_type": "code",
   "execution_count": null,
   "id": "1b007fad",
   "metadata": {
    "vscode": {
     "languageId": "wolfram"
    }
   },
   "outputs": [],
   "source": [
    "MatrixForm[Chop[Table[prob[ϕ], {ϕ, 0, 1, 2^(-t)}]]]"
   ]
  },
  {
   "cell_type": "markdown",
   "id": "458163ba",
   "metadata": {},
   "source": [
    "When  $\\phi$ \n",
    "\n",
    "\n",
    "\n",
    " is not an integer multiple of  $2^{-t}$ \n",
    "\n",
    "\n",
    "\n",
    ", all basis states can occur in measurement:"
   ]
  },
  {
   "cell_type": "code",
   "execution_count": null,
   "id": "0055c971",
   "metadata": {
    "vscode": {
     "languageId": "wolfram"
    }
   },
   "outputs": [],
   "source": [
    "Round[prob[0.2], 0.001]"
   ]
  },
  {
   "cell_type": "markdown",
   "id": "60e34ceb",
   "metadata": {},
   "source": [
    "The mean measurement is a bad estimator (doesn’t converge as  $t\\to \\infty$ \n",
    "\n",
    "\n",
    "\n",
    ").\n",
    "\n",
    "The most likely measurement is a good estimator."
   ]
  },
  {
   "cell_type": "code",
   "execution_count": null,
   "id": "d840ad6e",
   "metadata": {
    "vscode": {
     "languageId": "wolfram"
    }
   },
   "outputs": [],
   "source": [
    "mean[(ϕ_)?NumericQ] := prob[ϕ] . (Range[0, 2^t - 1]/2^t); \n",
    "mostprobable[(ϕ_)?NumericQ] := (Ordering[prob[ϕ], -1][[1]] - 1)/2^t; \n",
    "Plot[{ϕ, mean[ϕ], mostprobable[ϕ]}, {ϕ, 0, 1}, FrameLabel -> {\"phase setting\", \"phase measurement\"}, LabelStyle -> Directive[16, Black, Bold], PlotRange -> {{0, 1}, {0, 1}}, PlotRangePadding -> None, PlotStyle -> {Black, {Thick, Blue}, {Thick, Red}}, AspectRatio -> Automatic, PlotTheme -> \"Scientific\", PlotLegends -> {\"exact\", \"mean of measurements\", \"most frequent measurement\"}, GridLines -> {Range[1, 2^t - 1]/2^t, Range[1, 2^t - 1]/2^t}]"
   ]
  },
  {
   "cell_type": "markdown",
   "id": "5f43e142",
   "metadata": {},
   "source": [
    "This Mathematica code is part of the lecture script  *Introduction to Computational Quantum Mechanics*  by Roman Schmied. It is licensed under a  [Creative Commons Attribution-ShareAlike 4.0 International License](http://creativecommons.org/licenses/by-sa/4.0/) .\n",
    "\n",
    "<img src=\"data:image/jpg;base64,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\" class=\"img-responsive\"/>\n",
    "\n",
    "You can download the associated lecture script at  [http://arxiv.org/abs/1403.7050](http://arxiv.org/abs/1403.7050) \n",
    "\n",
    "# particle in a 1D gravity well\n",
    "\n",
    "### units\n",
    "\n",
    "we use natural units for simplicity:"
   ]
  },
  {
   "cell_type": "code",
   "execution_count": null,
   "id": "8eaccec0",
   "metadata": {
    "vscode": {
     "languageId": "wolfram"
    }
   },
   "outputs": [],
   "source": [
    "m = ℏ = g = 1; "
   ]
  },
  {
   "cell_type": "markdown",
   "id": "02687ef8",
   "metadata": {},
   "source": [
    "Other unit systems can be defined here.\n",
    "\n",
    "### analytic calculation\n",
    "\n",
    "Hamiltonian:\n",
    "\n",
    " $$\\hat{H}=-\\frac{\\hbar ^2}{2m}\\frac{d^2}{dx^2}+m g \\hat{x}$$ \n",
    "\n",
    "\n",
    "\n",
    "exact energy eigenstates and energies:"
   ]
  },
  {
   "cell_type": "code",
   "execution_count": null,
   "id": "567912ec",
   "metadata": {
    "vscode": {
     "languageId": "wolfram"
    }
   },
   "outputs": [],
   "source": [
    "ψ[k_, x_] = ((2*m^2*g)/ℏ^2)^(1/6)*(AiryAi[AiryAiZero[k] + x*((2*m^2*g)/ℏ^2)^(1/3)]/Derivative[1][AiryAi][AiryAiZero[k]]); \n",
    "ϵ[k_] = (-AiryAiZero[k])*((m*g^2*ℏ^2)/2)^(1/3); "
   ]
  },
  {
   "cell_type": "markdown",
   "id": "389923a1",
   "metadata": {},
   "source": [
    "show lowest energy eigenstates:"
   ]
  },
  {
   "cell_type": "code",
   "execution_count": null,
   "id": "b55804e0",
   "metadata": {
    "vscode": {
     "languageId": "wolfram"
    }
   },
   "outputs": [],
   "source": [
    "Plot[Evaluate[Table[ψ[k, x], {k, 3}]], {x, 0, 10}]"
   ]
  },
  {
   "cell_type": "markdown",
   "id": "2d8b8673",
   "metadata": {},
   "source": [
    "### system setup\n",
    "\n",
    "basis set size:"
   ]
  },
  {
   "cell_type": "code",
   "execution_count": null,
   "id": "1416d839",
   "metadata": {
    "vscode": {
     "languageId": "wolfram"
    }
   },
   "outputs": [],
   "source": [
    "nmax = 12; "
   ]
  },
  {
   "cell_type": "markdown",
   "id": "3f64ab18",
   "metadata": {},
   "source": [
    "computational box size:"
   ]
  },
  {
   "cell_type": "code",
   "execution_count": null,
   "id": "f86c4a59",
   "metadata": {
    "vscode": {
     "languageId": "wolfram"
    }
   },
   "outputs": [],
   "source": [
    "a = 10; "
   ]
  },
  {
   "cell_type": "markdown",
   "id": "66ff1946",
   "metadata": {},
   "source": [
    "### basis set\n",
    "\n",
    "momentum-basis functions:"
   ]
  },
  {
   "cell_type": "code",
   "execution_count": null,
   "id": "3f5809c9",
   "metadata": {
    "vscode": {
     "languageId": "wolfram"
    }
   },
   "outputs": [],
   "source": [
    "ϕ[n_, x_] = Sqrt[2/a]*Sin[(n*Pi*x)/a]; "
   ]
  },
  {
   "cell_type": "markdown",
   "id": "3f9e73f7",
   "metadata": {},
   "source": [
    "### numerical solution (I): momentum basis\n",
    "\n",
    "kinetic-energy operator  $\\hat{T}$ \n",
    "\n",
    "\n",
    "\n",
    ":"
   ]
  },
  {
   "cell_type": "code",
   "execution_count": null,
   "id": "93a3bcc7",
   "metadata": {
    "vscode": {
     "languageId": "wolfram"
    }
   },
   "outputs": [],
   "source": [
    "TM = SparseArray[Band[{1, 1}] -> Range[nmax]^2*((Pi^2*ℏ^2)/(2*m*a^2))]; "
   ]
  },
  {
   "cell_type": "markdown",
   "id": "6946f337",
   "metadata": {},
   "source": [
    "position operator  $\\hat{x}$ \n",
    "\n",
    "\n",
    "\n",
    ":"
   ]
  },
  {
   "cell_type": "code",
   "execution_count": null,
   "id": "a7588907",
   "metadata": {
    "vscode": {
     "languageId": "wolfram"
    }
   },
   "outputs": [],
   "source": [
    "xM = SparseArray[{Band[{1, 1}] -> a/2, {n1_, n2_} /; OddQ[n1 - n2] -> -((8*a*n1*n2)/((n1^2 - n2^2)^2*Pi^2))}, {nmax, nmax}]; "
   ]
  },
  {
   "cell_type": "markdown",
   "id": "f98d4272",
   "metadata": {},
   "source": [
    "potential-energy operator:"
   ]
  },
  {
   "cell_type": "code",
   "execution_count": null,
   "id": "77a844fe",
   "metadata": {
    "vscode": {
     "languageId": "wolfram"
    }
   },
   "outputs": [],
   "source": [
    "VM = m*g*xM; "
   ]
  },
  {
   "cell_type": "markdown",
   "id": "5fd9d289",
   "metadata": {},
   "source": [
    "Hamiltonian in the momentum representation:"
   ]
  },
  {
   "cell_type": "code",
   "execution_count": null,
   "id": "a619cd6a",
   "metadata": {
    "vscode": {
     "languageId": "wolfram"
    }
   },
   "outputs": [],
   "source": [
    "HM = TM + VM; "
   ]
  },
  {
   "cell_type": "markdown",
   "id": "bd0c44eb",
   "metadata": {},
   "source": [
    "ground state:"
   ]
  },
  {
   "cell_type": "code",
   "execution_count": null,
   "id": "5b37c232",
   "metadata": {
    "vscode": {
     "languageId": "wolfram"
    }
   },
   "outputs": [],
   "source": [
    "gsM = -Eigensystem[-N[HM], 1, Method -> {\"Arnoldi\", \"Criteria\" -> \"RealPart\", MaxIterations -> 10^6}]; "
   ]
  },
  {
   "cell_type": "markdown",
   "id": "627c2491",
   "metadata": {},
   "source": [
    "ground-state energy, compared to analytic result:"
   ]
  },
  {
   "cell_type": "code",
   "execution_count": null,
   "id": "373d81fe",
   "metadata": {
    "vscode": {
     "languageId": "wolfram"
    }
   },
   "outputs": [],
   "source": [
    "{gsM[[1,1]], N[ϵ[1]]}"
   ]
  },
  {
   "cell_type": "markdown",
   "id": "1e2b2111",
   "metadata": {},
   "source": [
    "numerical ground-state wavefunction:"
   ]
  },
  {
   "cell_type": "code",
   "execution_count": null,
   "id": "dd9d730f",
   "metadata": {
    "vscode": {
     "languageId": "wolfram"
    }
   },
   "outputs": [],
   "source": [
    "ψ0[x_] = gsM[[2,1]] . Table[ϕ[n, x], {n, nmax}]; "
   ]
  },
  {
   "cell_type": "markdown",
   "id": "28afae66",
   "metadata": {},
   "source": [
    "overlap with the exact ground state:"
   ]
  },
  {
   "cell_type": "code",
   "execution_count": null,
   "id": "44b833fb",
   "metadata": {
    "vscode": {
     "languageId": "wolfram"
    }
   },
   "outputs": [],
   "source": [
    "Abs[NIntegrate[ψ0[x]*ψ[1, x], {x, 0, a}]]^2"
   ]
  },
  {
   "cell_type": "markdown",
   "id": "82cf72fe",
   "metadata": {},
   "source": [
    "### numerical solution (II): mixed basis\n",
    "\n",
    "computational grid:"
   ]
  },
  {
   "cell_type": "code",
   "execution_count": null,
   "id": "1e6d2394",
   "metadata": {
    "vscode": {
     "languageId": "wolfram"
    }
   },
   "outputs": [],
   "source": [
    "Δ = a/(nmax + 1); \n",
    "xgrid = Range[nmax]*Δ; "
   ]
  },
  {
   "cell_type": "markdown",
   "id": "8d31a4a1",
   "metadata": {},
   "source": [
    "convert the kinetic-energy operator into the position basis:"
   ]
  },
  {
   "cell_type": "code",
   "execution_count": null,
   "id": "307f2d4a",
   "metadata": {
    "vscode": {
     "languageId": "wolfram"
    }
   },
   "outputs": [],
   "source": [
    "TM = SparseArray[Band[{1, 1}] -> Range[nmax]^2*((Pi^2*ℏ^2)/(2*m*a^2))]; \n",
    "TP = FourierDST[TM, 1]; "
   ]
  },
  {
   "cell_type": "markdown",
   "id": "3b6bd9c4",
   "metadata": {},
   "source": [
    "potential-energy operator: gravity well  $W(x)=m g x$ \n",
    "\n",
    "\n",
    "\n"
   ]
  },
  {
   "cell_type": "code",
   "execution_count": null,
   "id": "bdd09d20",
   "metadata": {
    "vscode": {
     "languageId": "wolfram"
    }
   },
   "outputs": [],
   "source": [
    "W[x_] = m*g*x; \n",
    "Wgrid = W /@ xgrid; \n",
    "VP = SparseArray[Band[{1, 1}] -> Wgrid]; "
   ]
  },
  {
   "cell_type": "markdown",
   "id": "a1b30aa6",
   "metadata": {},
   "source": [
    "Hamiltonian in the position representation:"
   ]
  },
  {
   "cell_type": "code",
   "execution_count": null,
   "id": "8dd83add",
   "metadata": {
    "vscode": {
     "languageId": "wolfram"
    }
   },
   "outputs": [],
   "source": [
    "HP = TP + VP; "
   ]
  },
  {
   "cell_type": "markdown",
   "id": "85de19e2",
   "metadata": {},
   "source": [
    "ground state:"
   ]
  },
  {
   "cell_type": "code",
   "execution_count": null,
   "id": "e95ddb54",
   "metadata": {
    "vscode": {
     "languageId": "wolfram"
    }
   },
   "outputs": [],
   "source": [
    "gsP = -Eigensystem[-N[HP], 1, Method -> {\"Arnoldi\", \"Criteria\" -> \"RealPart\", MaxIterations -> 10^6}]; "
   ]
  },
  {
   "cell_type": "markdown",
   "id": "20e76b85",
   "metadata": {},
   "source": [
    "ground-state energy, compared to analytic result:"
   ]
  },
  {
   "cell_type": "code",
   "execution_count": null,
   "id": "ec1f120a",
   "metadata": {
    "vscode": {
     "languageId": "wolfram"
    }
   },
   "outputs": [],
   "source": [
    "{gsP[[1,1]], N[ϵ[1]]}"
   ]
  },
  {
   "cell_type": "markdown",
   "id": "ac743e26",
   "metadata": {},
   "source": [
    "ground-state wavefunction as linear interpolation between grid points:"
   ]
  },
  {
   "cell_type": "code",
   "execution_count": null,
   "id": "87c6f99e",
   "metadata": {
    "vscode": {
     "languageId": "wolfram"
    }
   },
   "outputs": [],
   "source": [
    "γ = Join[{{0, 0}}, Transpose[{xgrid, gsP[[2,1]]/Sqrt[Δ]}], {{a, 0}}]; \n",
    "P1 = ListLinePlot[γ]; \n",
    "P2 = Plot[ψ0[x], {x, 0, a}, PlotStyle -> Orange]; \n",
    "Show[P2, P1]"
   ]
  },
  {
   "cell_type": "markdown",
   "id": "bf2af042",
   "metadata": {},
   "source": [
    "#### Wigner distribution\n",
    "\n",
    "calculate the  $k$ \n",
    "\n",
    "\n",
    "\n",
    "-dependent Wigner distribution of a pure state with coefficient vector  $\\overset{\\rightharpoonup }{v}$ \n",
    "\n",
    "\n",
    "\n",
    " on the spatial grid\n",
    "\n",
    "return a function of one parameter  $\\kappa =k a$ \n",
    "\n",
    "\n",
    "\n",
    "\n",
    "\n",
    "-  $a$ \n",
    "\n",
    "\n",
    "\n",
    " is the size of the grid\n",
    "\n",
    "-  $n$ \n",
    "\n",
    "\n",
    "\n",
    " is the number of grid points (the length of the vector  $\\overset{\\rightharpoonup }{v}$ \n",
    "\n",
    "\n",
    "\n",
    ")\n",
    "\n",
    "-  $\\Delta =\\frac{a}{n+1}$ \n",
    "\n",
    "\n",
    "\n",
    " is the grid spacing\n",
    "\n",
    "-  $v_j=\\langle j|\\psi \\rangle$ \n",
    "\n",
    "\n",
    "\n",
    " is the projection of the pure state onto the  $j^{\\text{th}}$ \n",
    "\n",
    "\n",
    "\n",
    " spatial basis function"
   ]
  },
  {
   "cell_type": "code",
   "execution_count": null,
   "id": "4155b355",
   "metadata": {
    "vscode": {
     "languageId": "wolfram"
    }
   },
   "outputs": [],
   "source": [
    "WignerDistribution[(v_)?VectorQ] := With[{nmax = Length[v]}, Function[κ, Evaluate[(Sinc[κ/(nmax + 1)]/Pi)*Table[ComplexExpand[Re[Sum[v[[j - m]]*Conjugate[v[[j + m]]]*Exp[(2*I*κ*m)/(nmax + 1)], {m, -Min[j - 1, nmax - j], Min[j - 1, nmax - j]}]]], {j, 0, nmax + 1}]]]]"
   ]
  },
  {
   "cell_type": "markdown",
   "id": "2ea70282",
   "metadata": {},
   "source": [
    "plot the Wigner function of a pure state with coefficient vector  $Y=\\overset{\\rightharpoonup }{v}$ \n",
    "\n",
    "\n",
    "\n",
    " or density matrix  $Y=R$ \n",
    "\n",
    "\n",
    "\n",
    ":\n",
    "\n",
    "(needs the grid coordinates,  $x\\in \\left[x_{\\min },x_{\\max }\\right]$ \n",
    "\n",
    "\n",
    "\n",
    ", for labeling the axes;  $a=x_{\\max }-x_{\\min }$ \n",
    "\n",
    "\n",
    "\n",
    ")\n",
    "\n",
    "color scale is  $\\left[-,+\\right]$ \n",
    "\n",
    "\n",
    "\n",
    " with  $-$ \n",
    "\n",
    "\n",
    "\n",
    "=blue,  $0$ \n",
    "\n",
    "\n",
    "\n",
    "=white,  $+\\frac{1}{\\pi }$ \n",
    "\n",
    "\n",
    "\n",
    "=red"
   ]
  },
  {
   "cell_type": "code",
   "execution_count": null,
   "id": "cbff7b78",
   "metadata": {
    "vscode": {
     "languageId": "wolfram"
    }
   },
   "outputs": [],
   "source": [
    "WignerDistributionPlot[(v_)?VectorQ, {(xmin_)?NumericQ, (xmax_)?NumericQ} /; xmax > xmin] := Module[{nmax, qmax, w, W}, nmax = Length[v]; w = WignerDistribution[v]; qmax = Floor[nmax/2]; W = Table[w[q*Pi], {q, -qmax, qmax}]; ArrayPlot[W, FrameTicks -> Automatic, DataRange -> {{xmin, xmax}, ((qmax*Pi)/(xmax - xmin))*{-1, 1}}, PlotRange -> {{xmin, xmax}, ((qmax*Pi)/(xmax - xmin))*{-1, 1}}, AspectRatio -> 1/GoldenRatio, ColorFunctionScaling -> False, ColorFunction -> (Blend[{Blue, White, Red}, (Pi*#1 + 1)/2] & )]]"
   ]
  },
  {
   "cell_type": "markdown",
   "id": "5ea6f983",
   "metadata": {},
   "source": [
    "plot the Wigner distribution of the ground state:"
   ]
  },
  {
   "cell_type": "code",
   "execution_count": null,
   "id": "2900e319",
   "metadata": {
    "vscode": {
     "languageId": "wolfram"
    }
   },
   "outputs": [],
   "source": [
    "WignerDistributionPlot[gsP[[2,1]], {0, a}]"
   ]
  },
  {
   "cell_type": "markdown",
   "id": "9f41064d",
   "metadata": {},
   "source": [
    "This Mathematica code is part of the lecture script  *Introduction to Computational Quantum Mechanics*  by Roman Schmied. It is licensed under a  [Creative Commons Attribution-ShareAlike 4.0 International License](http://creativecommons.org/licenses/by-sa/4.0/) .\n",
    "\n",
    "<img src=\"data:image/jpg;base64,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\" class=\"img-responsive\"/>\n",
    "\n",
    "You can download the associated lecture script at  [http://arxiv.org/abs/1403.7050](http://arxiv.org/abs/1403.7050) \n",
    "\n",
    "# Wigner quasi-probability distribution\n",
    "\n",
    "The Wigner quasi-probability distribution of a density operator  $\\hat{\\rho }$ \n",
    "\n",
    "\n",
    "\n",
    " is\n",
    "\n",
    " $$W(x,k)=\\frac{1}{\\pi }\\int _{-\\infty }^{\\infty }dy\\left\\langle x-y\\left| \\hat{\\rho }\\right| x+y\\right\\rangle e^{2i k y}$$ \n",
    "\n",
    "\n",
    "\n",
    "### definitions\n",
    "\n",
    "calculate the  $k$ \n",
    "\n",
    "\n",
    "\n",
    "-dependent Wigner distribution of a pure state with coefficient vector  $\\overset{\\rightharpoonup }{v}$ \n",
    "\n",
    "\n",
    "\n",
    " on the spatial grid\n",
    "\n",
    "return a function of one parameter  $\\kappa =k a$ \n",
    "\n",
    "\n",
    "\n",
    "\n",
    "\n",
    "-  $a$ \n",
    "\n",
    "\n",
    "\n",
    " is the size of the grid\n",
    "\n",
    "-  $n$ \n",
    "\n",
    "\n",
    "\n",
    " is the number of grid points (the length of the vector  $\\overset{\\rightharpoonup }{v}$ \n",
    "\n",
    "\n",
    "\n",
    ")\n",
    "\n",
    "-  $\\Delta =\\frac{a}{n+1}$ \n",
    "\n",
    "\n",
    "\n",
    " is the grid spacing\n",
    "\n",
    "-  $v_j=\\langle j|\\psi \\rangle$ \n",
    "\n",
    "\n",
    "\n",
    " is the projection of the pure state onto the  $j^{\\text{th}}$ \n",
    "\n",
    "\n",
    "\n",
    " spatial basis function"
   ]
  },
  {
   "cell_type": "code",
   "execution_count": null,
   "id": "259fcbfb",
   "metadata": {
    "vscode": {
     "languageId": "wolfram"
    }
   },
   "outputs": [],
   "source": [
    "WignerDistribution[(v_)?VectorQ] := With[{nmax = Length[v]}, Function[κ, Evaluate[(Sinc[κ/(nmax + 1)]/Pi)*Table[ComplexExpand[Re[Sum[v[[j - m]]*Conjugate[v[[j + m]]]*Exp[(2*I*κ*m)/(nmax + 1)], {m, -Min[j - 1, nmax - j], Min[j - 1, nmax - j]}]]], {j, 0, nmax + 1}]]]]"
   ]
  },
  {
   "cell_type": "markdown",
   "id": "31ba22ce",
   "metadata": {},
   "source": [
    "same for a mixed state with coefficient matrix  $R$ \n",
    "\n",
    "\n",
    "\n",
    ":"
   ]
  },
  {
   "cell_type": "code",
   "execution_count": null,
   "id": "28f050f0",
   "metadata": {
    "vscode": {
     "languageId": "wolfram"
    }
   },
   "outputs": [],
   "source": [
    "WignerDistribution[R_ /; MatrixQ[R, NumericQ] && Length[R] == Length[Transpose[R]]] := With[{nmax = Length[R]}, Function[κ, Evaluate[(Sinc[κ/(nmax + 1)]/Pi)*Table[ComplexExpand[Re[Sum[R[[j - m,j + m]]*Exp[(2*I*κ*m)/(nmax + 1)], {m, -Min[j - 1, nmax - j], Min[j - 1, nmax - j]}]]], {j, 0, nmax + 1}]]]]"
   ]
  },
  {
   "cell_type": "markdown",
   "id": "49f3ae4c",
   "metadata": {},
   "source": [
    "### plotting\n",
    "\n",
    "plot the Wigner function of a pure state with coefficient vector  $Y=\\overset{\\rightharpoonup }{v}$ \n",
    "\n",
    "\n",
    "\n",
    " or density matrix  $Y=R$ \n",
    "\n",
    "\n",
    "\n",
    ":\n",
    "\n",
    "(needs the grid coordinates,  $x\\in \\left[x_{\\min },x_{\\max }\\right]$ \n",
    "\n",
    "\n",
    "\n",
    ", for labeling the axes;  $a=x_{\\max }-x_{\\min }$ \n",
    "\n",
    "\n",
    "\n",
    ")\n",
    "\n",
    "color scale is  $\\left[-,+\\right]$ \n",
    "\n",
    "\n",
    "\n",
    " with  $-$ \n",
    "\n",
    "\n",
    "\n",
    "=blue,  $0$ \n",
    "\n",
    "\n",
    "\n",
    "=white,  $+\\frac{1}{\\pi }$ \n",
    "\n",
    "\n",
    "\n",
    "=red"
   ]
  },
  {
   "cell_type": "code",
   "execution_count": null,
   "id": "b68d9f43",
   "metadata": {
    "vscode": {
     "languageId": "wolfram"
    }
   },
   "outputs": [],
   "source": [
    "WignerDistributionPlot[Y_ /; VectorQ[Y, NumericQ] || (MatrixQ[Y, NumericQ] && Length[Y] == Length[Transpose[Y]]), {(xmin_)?NumericQ, (xmax_)?NumericQ} /; xmax > xmin] := Module[{nmax, qmax, w, W}, nmax = Length[Y]; w = WignerDistribution[Y]; qmax = Floor[nmax/2]; W = Table[w[q*Pi], {q, -qmax, qmax}]; ArrayPlot[W, FrameTicks -> Automatic, DataRange -> {{xmin, xmax}, ((qmax*Pi)/(xmax - xmin))*{-1, 1}}, PlotRange -> {{xmin, xmax}, ((qmax*Pi)/(xmax - xmin))*{-1, 1}}, AspectRatio -> 1/GoldenRatio, ColorFunctionScaling -> False, ColorFunction -> (Blend[{Blue, White, Red}, (Pi*#1 + 1)/2] & )]]"
   ]
  },
  {
   "cell_type": "markdown",
   "id": "ccbfe7a8",
   "metadata": {},
   "source": [
    "This Mathematica code is part of the lecture script  *Introduction to Computational Quantum Mechanics*  by Roman Schmied. It is licensed under a  [Creative Commons Attribution-ShareAlike 4.0 International License](http://creativecommons.org/licenses/by-sa/4.0/) .\n",
    "\n",
    "<img src=\"data:image/jpg;base64,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\" class=\"img-responsive\"/>\n",
    "\n",
    "You can download the associated lecture script at  [http://arxiv.org/abs/1403.7050](http://arxiv.org/abs/1403.7050) \n",
    "\n",
    "# dynamics of a particle moving in a 1D potential: split-step method\n",
    "\n",
    "### units\n",
    "\n",
    "we use natural units for simplicity:"
   ]
  },
  {
   "cell_type": "code",
   "execution_count": null,
   "id": "5a3a1d3e",
   "metadata": {
    "vscode": {
     "languageId": "wolfram"
    }
   },
   "outputs": [],
   "source": [
    "m = ℏ = g = 1; "
   ]
  },
  {
   "cell_type": "markdown",
   "id": "80852420",
   "metadata": {},
   "source": [
    "Other unit systems can be defined here.\n",
    "\n",
    "### system setup\n",
    "\n",
    "basis set size:"
   ]
  },
  {
   "cell_type": "code",
   "execution_count": null,
   "id": "7437a759",
   "metadata": {
    "vscode": {
     "languageId": "wolfram"
    }
   },
   "outputs": [],
   "source": [
    "nmax = 1000; "
   ]
  },
  {
   "cell_type": "markdown",
   "id": "b3447d08",
   "metadata": {},
   "source": [
    "computational grid:"
   ]
  },
  {
   "cell_type": "code",
   "execution_count": null,
   "id": "0c30f165",
   "metadata": {
    "vscode": {
     "languageId": "wolfram"
    }
   },
   "outputs": [],
   "source": [
    "a = 30; \n",
    "Δ = a/(nmax + 1); \n",
    "xgrid = Range[nmax]*Δ; "
   ]
  },
  {
   "cell_type": "markdown",
   "id": "b05f8346",
   "metadata": {},
   "source": [
    "potential: gravity well with potential  $W(x)=m g x$ \n",
    "\n",
    "\n",
    "\n"
   ]
  },
  {
   "cell_type": "code",
   "execution_count": null,
   "id": "3a9bcb5d",
   "metadata": {
    "vscode": {
     "languageId": "wolfram"
    }
   },
   "outputs": [],
   "source": [
    "W[x_] = m*g*x; \n",
    "Wgrid = W /@ xgrid; "
   ]
  },
  {
   "cell_type": "markdown",
   "id": "84b08766",
   "metadata": {},
   "source": [
    "### exact propagation\n",
    "\n",
    "propagation in the position-basis representation:"
   ]
  },
  {
   "cell_type": "code",
   "execution_count": null,
   "id": "a8b56501",
   "metadata": {
    "vscode": {
     "languageId": "wolfram"
    }
   },
   "outputs": [],
   "source": [
    "VP = SparseArray[Band[{1, 1}] -> Wgrid]; \n",
    "TP = FourierDST[SparseArray[Band[{1, 1}] -> Range[nmax]^2*((Pi^2*ℏ^2)/(2*m*a^2))], 1]; \n",
    "HP = TP + VP; \n",
    "propExact[(Δt_)?NumericQ, v0_ /; VectorQ[v0, NumericQ]] := MatrixExp[(-I)*HP*N[Δt/ℏ]] . v0"
   ]
  },
  {
   "cell_type": "markdown",
   "id": "a0391331",
   "metadata": {},
   "source": [
    "### split-step propagation"
   ]
  },
  {
   "cell_type": "code",
   "execution_count": null,
   "id": "0b44f5e9",
   "metadata": {
    "vscode": {
     "languageId": "wolfram"
    }
   },
   "outputs": [],
   "source": [
    "propApprox[(Δt_)?NumericQ, M_Integer /; M >= 1, v0_ /; VectorQ[v0, NumericQ]] := Module[{λ, Ke, Pe2, propKin, propPot2, prop}, λ = (-I)*N[Δt/(M*ℏ)]; Ke = Exp[λ*Range[nmax]^2*((Pi^2*ℏ^2)/(2*m*a^2))]; propKin[v_] := FourierDST[Ke*FourierDST[v, 1], 1]; Pe2 = Exp[(λ/2)*Wgrid]; propPot2[v_] := Pe2*v; prop[v_] := propPot2[propKin[propPot2[v]]]; Transpose[{(Range[0, M]/M)*Δt, NestList[prop, v0, M]}]]"
   ]
  },
  {
   "cell_type": "markdown",
   "id": "e551a835",
   "metadata": {},
   "source": [
    "#### initial wavefunction\n",
    "\n",
    "starting point: Gaussian localized around the initial position  $x_0$ \n",
    "\n",
    "\n",
    "\n",
    " in the simulation box\n",
    "\n",
    "mean gridue:  $\\left\\langle \\hat{x}\\right\\rangle =x_0$ \n",
    "\n",
    "\n",
    "\n",
    "\n",
    "\n",
    "standard deviation:  $\\left\\langle \\hat{x}^2\\right\\rangle -\\left\\langle \\hat{x}\\right\\rangle ^2=\\sigma ^2$ \n",
    "\n",
    "\n",
    "\n"
   ]
  },
  {
   "cell_type": "code",
   "execution_count": null,
   "id": "e9e08fff",
   "metadata": {
    "vscode": {
     "languageId": "wolfram"
    }
   },
   "outputs": [],
   "source": [
    "x0 = 15; \n",
    "σ = 1; \n",
    "t1 = Sqrt[2*(x0/g)]; \n",
    "vv = Normalize[N[E^(-((xgrid - x0)/(2*σ))^2)]]; \n",
    "ListLinePlot[Join[{{0, 0}}, Transpose[{xgrid, vv/Sqrt[Δ]}], {{a, 0}}], PlotRange -> All, AxesLabel -> {\"x\", \"ψ(x)\"}]"
   ]
  },
  {
   "cell_type": "markdown",
   "id": "c705685c",
   "metadata": {},
   "source": [
    "#### time-dependent density\n",
    "\n",
    "propagate in time and show time-dependent density:"
   ]
  },
  {
   "cell_type": "code",
   "execution_count": null,
   "id": "628e7b08",
   "metadata": {
    "vscode": {
     "languageId": "wolfram"
    }
   },
   "outputs": [],
   "source": [
    "With[{Δt = 50, M = 1000}, ρ = ArrayPad[Abs[propApprox[Δt, M, vv][[All,2]]]^2/Δ, {{0, 0}, {1, 1}}]; Pq = ArrayPlot[Reverse[Transpose[ρ]], DataRange -> {{0, Δt}, {0, a}}]; Pc = Plot[x0 - (1/2)*Mod[t, 2*t1, -t1]^2, {t, 0, Δt}, PlotStyle -> Orange]; Show[Pq, Pc, AspectRatio -> 1/2, FrameLabel -> {t, x}, FrameTicks -> Automatic]]"
   ]
  },
  {
   "cell_type": "markdown",
   "id": "d67889e6",
   "metadata": {},
   "source": [
    "plot the time-dependent average position:"
   ]
  },
  {
   "cell_type": "code",
   "execution_count": null,
   "id": "b71f27f4",
   "metadata": {
    "vscode": {
     "languageId": "wolfram"
    }
   },
   "outputs": [],
   "source": [
    "With[{Δt = 50, M = 1000}, Mq = ListLinePlot[({#1[[1]], Abs[#1[[2]]]^2 . xgrid} & ) /@ propApprox[Δt, M, vv], PlotRange -> All]; Mc = Plot[x0 - (1/2)*Mod[t, 2*t1, -t1]^2, {t, 0, Δt}, PlotStyle -> Orange, PlotRange -> All]; Show[Mc, Mq, AxesLabel -> {t, 〈 OverHat[x] 〉}]]"
   ]
  },
  {
   "cell_type": "markdown",
   "id": "32411b44",
   "metadata": {},
   "source": [
    "### split-step propagation with a time-dependent potential\n",
    "\n",
    "propagate with a time-dependent potential given as a function  $W(x,t)$ \n",
    "\n",
    "\n",
    "\n",
    ":"
   ]
  },
  {
   "cell_type": "code",
   "execution_count": null,
   "id": "3fe93739",
   "metadata": {
    "vscode": {
     "languageId": "wolfram"
    }
   },
   "outputs": [],
   "source": [
    "propApprox[Wt_, (Δt_)?NumericQ, M_Integer /; M >= 1, v0_ /; VectorQ[v0, NumericQ]] := Module[{λ, Ke, propKin, propPot2, prop}, λ = (-I)*N[Δt/(M*ℏ)]; Ke = Exp[λ*Range[nmax]^2*((Pi^2*ℏ^2)/(2*m*a^2))]; propKin[v_] := FourierDST[Ke*FourierDST[v, 1], 1]; propPot2[t_, v_] := Exp[(λ/2)*(Wt[#1, t] & ) /@ xgrid]*v; prop[v_, t_] := propPot2[t + (3*Δt)/(4*M), propKin[propPot2[t + Δt/(4*M), v]]]; Transpose[{(Range[0, M]/M)*Δt, FoldList[prop, v0, (Range[0, M - 1]/M)*Δt]}]]"
   ]
  },
  {
   "cell_type": "markdown",
   "id": "df2b5306",
   "metadata": {},
   "source": [
    "propagate in time and show time-dependent density:\n",
    "\n",
    "resonant driving:  $W(x,t)=W(x)(1+A \\sin (\\omega  t))$ \n",
    "\n",
    "\n",
    "\n",
    ", picking a resonant  $\\omega =\\pi \\left/t_1\\right.$ \n",
    "\n",
    "\n",
    "\n",
    " to amplify the bouncing motion"
   ]
  },
  {
   "cell_type": "code",
   "execution_count": null,
   "id": "5550d0cf",
   "metadata": {
    "vscode": {
     "languageId": "wolfram"
    }
   },
   "outputs": [],
   "source": [
    "With[{A = 0.1, ω = Pi/t1, Δt = 50, M = 1000}, Wt[x_, t_] = W[x]*(1 + A*Sin[ω*t]); ρ = ArrayPad[Abs[propApprox[Wt, Δt, M, vv][[All,2]]]^2/Δ, {{0, 0}, {1, 1}}]; Pq = ArrayPlot[Reverse[Transpose[ρ]], DataRange -> {{0, Δt}, {0, a}}]; Show[Pq, AspectRatio -> 1/2, FrameLabel -> {t, x}, FrameTicks -> Automatic]]"
   ]
  },
  {
   "cell_type": "markdown",
   "id": "bb11ab05",
   "metadata": {},
   "source": [
    "### split-step propagation with a time-dependent potential and with nonlinear interaction\n",
    "\n",
    "propagate with a time-dependent potential given as a function  $W(x,t)+\\kappa | \\psi (x,t)| ^2$ \n",
    "\n",
    "\n",
    "\n",
    ":"
   ]
  },
  {
   "cell_type": "code",
   "execution_count": null,
   "id": "67996fbd",
   "metadata": {
    "vscode": {
     "languageId": "wolfram"
    }
   },
   "outputs": [],
   "source": [
    "propApprox[Wt_, (κ_)?NumericQ, (Δt_)?NumericQ, M_Integer /; M >= 1, v0_ /; VectorQ[v0, NumericQ]] := Module[{λ, Ke, propKin, propPot2, prop}, λ = (-I)*N[Δt/(M*ℏ)]; Ke = Exp[λ*Range[nmax]^2*((Pi^2*ℏ^2)/(2*m*a^2))]; propKin[v_] := FourierDST[Ke*FourierDST[v, 1], 1]; propPot2[t_, v_] := Exp[(λ/2)*((Wt[#1, t] & ) /@ xgrid + κ*(Abs[v]^2/Δ))]*v; prop[v_, t_] := propPot2[t + (3*Δt)/(4*M), propKin[propPot2[t + Δt/(4*M), v]]]; Transpose[{(Range[0, M]/M)*Δt, FoldList[prop, v0, (Range[0, M - 1]/M)*Δt]}]]"
   ]
  },
  {
   "cell_type": "markdown",
   "id": "86eec000",
   "metadata": {},
   "source": [
    "propagate in time and show time-dependent density:\n",
    "\n",
    "[here using time-independent potential  $W(x,t)=W(x)$ \n",
    "\n",
    "\n",
    "\n",
    "]"
   ]
  },
  {
   "cell_type": "code",
   "execution_count": null,
   "id": "53d5617c",
   "metadata": {
    "vscode": {
     "languageId": "wolfram"
    }
   },
   "outputs": [],
   "source": [
    "With[{κ = -3*((g*ℏ^4)/m)^(1/3), Δt = 50, M = 1000}, ρ = ArrayPad[Abs[propApprox[W[#1] & , κ, Δt, M, vv][[All,2]]]^2/Δ, {{0, 0}, {1, 1}}]; Pq = ArrayPlot[Reverse[Transpose[ρ]], DataRange -> {{0, Δt}, {0, a}}]; Show[Pq, AspectRatio -> 1/2, FrameLabel -> {t, x}, FrameTicks -> Automatic]]"
   ]
  },
  {
   "cell_type": "code",
   "execution_count": null,
   "id": "dc2bf049",
   "metadata": {
    "vscode": {
     "languageId": "wolfram"
    }
   },
   "outputs": [],
   "source": [
    "With[{κ = 0*((g*ℏ^4)/m)^(1/3), Δt = 50, M = 1000}, ρ = ArrayPad[Abs[propApprox[W[#1] & , κ, Δt, M, vv][[All,2]]]^2/Δ, {{0, 0}, {1, 1}}]; Pq = ArrayPlot[Reverse[Transpose[ρ]], DataRange -> {{0, Δt}, {0, a}}]; Show[Pq, AspectRatio -> 1/2, FrameLabel -> {t, x}, FrameTicks -> Automatic]]"
   ]
  },
  {
   "cell_type": "code",
   "execution_count": null,
   "id": "2c2e793f",
   "metadata": {
    "vscode": {
     "languageId": "wolfram"
    }
   },
   "outputs": [],
   "source": [
    "With[{κ = 3*((g*ℏ^4)/m)^(1/3), Δt = 50, M = 1000}, ρ = ArrayPad[Abs[propApprox[W[#1] & , κ, Δt, M, vv][[All,2]]]^2/Δ, {{0, 0}, {1, 1}}]; Pq = ArrayPlot[Reverse[Transpose[ρ]], DataRange -> {{0, Δt}, {0, a}}]; Show[Pq, AspectRatio -> 1/2, FrameLabel -> {t, x}, FrameTicks -> Automatic]]"
   ]
  }
 ],
 "metadata": {
  "language_info": {
   "name": "python"
  }
 },
 "nbformat": 4,
 "nbformat_minor": 5
}
