{
 "metadata": {
  "name": "",
  "signature": "sha256:6dc313d27eabce6868814ce31b9d5f694fa6310380af4595343c75198d6a6529"
 },
 "nbformat": 3,
 "nbformat_minor": 0,
 "worksheets": [
  {
   "cells": [
    {
     "cell_type": "heading",
     "level": 1,
     "metadata": {},
     "source": [
      "Examples of using BosonOperator and FermionOperator"
     ]
    },
    {
     "cell_type": "markdown",
     "metadata": {},
     "source": [
      "J. R. Johansson, http://jrjohansson.github.com, <robert@riken.jp>"
     ]
    },
    {
     "cell_type": "markdown",
     "metadata": {},
     "source": [
      "Note: This notebook requires and experimental branch of sympy available at: https://github.com/jrjohansson/sympy"
     ]
    },
    {
     "cell_type": "code",
     "collapsed": false,
     "input": [
      "from sympy import *\n",
      "init_printing()"
     ],
     "language": "python",
     "metadata": {},
     "outputs": [],
     "prompt_number": 1
    },
    {
     "cell_type": "code",
     "collapsed": false,
     "input": [
      "from sympy.physics.quantum import *\n",
      "from sympy.physics.quantum.boson import *\n",
      "from sympy.physics.quantum.fermion import *\n",
      "from sympy.physics.quantum.operatorordering import *"
     ],
     "language": "python",
     "metadata": {},
     "outputs": [],
     "prompt_number": 2
    },
    {
     "cell_type": "heading",
     "level": 2,
     "metadata": {},
     "source": [
      "Docstrings"
     ]
    },
    {
     "cell_type": "code",
     "collapsed": false,
     "input": [
      "#help(BosonOp)"
     ],
     "language": "python",
     "metadata": {},
     "outputs": [],
     "prompt_number": 3
    },
    {
     "cell_type": "code",
     "collapsed": false,
     "input": [
      "#help(FermionOp)"
     ],
     "language": "python",
     "metadata": {},
     "outputs": [],
     "prompt_number": 4
    },
    {
     "cell_type": "code",
     "collapsed": false,
     "input": [
      "help(normal_order)"
     ],
     "language": "python",
     "metadata": {},
     "outputs": [
      {
       "output_type": "stream",
       "stream": "stdout",
       "text": [
        "Help on function normal_order in module sympy.physics.quantum.operatorordering:\n",
        "\n",
        "normal_order(expr, recursive_limit=10, _recursive_depth=0)\n",
        "    Normal order an expression with bosonic or fermionic operators. Note\n",
        "    that this normal order is not equivalent to the original expression, but\n",
        "    the creation and annihilation operators in each term in expr is reordered\n",
        "    so that the expression becomes normal ordered.\n",
        "    \n",
        "    Parameters\n",
        "    ==========\n",
        "    \n",
        "    expr : expression\n",
        "        The expression to normal order.\n",
        "    \n",
        "    recursive_limit : int (default 10)\n",
        "        The number of allowed recursive applications of the function.\n",
        "    \n",
        "    Examples\n",
        "    ========\n",
        "    \n",
        "    >>> from sympy.physics.quantum import Dagger\n",
        "    >>> from sympy.physics.quantum.boson import BosonOp\n",
        "    >>> from sympy.physics.quantum.operatorordering import normal_order\n",
        "    >>> a = BosonOp(\"a\")\n",
        "    >>> normal_order(a * Dagger(a))\n",
        "    Dagger(a)*a\n",
        "\n"
       ]
      }
     ],
     "prompt_number": 5
    },
    {
     "cell_type": "code",
     "collapsed": false,
     "input": [
      "help(normal_ordered_form)"
     ],
     "language": "python",
     "metadata": {},
     "outputs": [
      {
       "output_type": "stream",
       "stream": "stdout",
       "text": [
        "Help on function normal_ordered_form in module sympy.physics.quantum.operatorordering:\n",
        "\n",
        "normal_ordered_form(expr, independent=False, recursive_limit=10, _recursive_depth=0)\n",
        "    Write an expression with bosonic or fermionic operators on normal\n",
        "    ordered form, where each term is normally ordered. Note that this\n",
        "    normal ordered form is equivalent to the original expression.\n",
        "    \n",
        "    Parameters\n",
        "    ==========\n",
        "    \n",
        "    expr : expression\n",
        "        The expression write on normal ordered form.\n",
        "    \n",
        "    recursive_limit : int (default 10)\n",
        "        The number of allowed recursive applications of the function.\n",
        "    \n",
        "    Examples\n",
        "    ========\n",
        "    \n",
        "    >>> from sympy.physics.quantum import Dagger\n",
        "    >>> from sympy.physics.quantum.boson import BosonOp\n",
        "    >>> from sympy.physics.quantum.operatorordering import normal_ordered_form\n",
        "    >>> a = BosonOp(\"a\")\n",
        "    >>> normal_ordered_form(a * Dagger(a))\n",
        "    1 + Dagger(a)*a\n",
        "\n"
       ]
      }
     ],
     "prompt_number": 6
    },
    {
     "cell_type": "heading",
     "level": 3,
     "metadata": {},
     "source": [
      "Test Boson operators"
     ]
    },
    {
     "cell_type": "code",
     "collapsed": false,
     "input": [
      "a = BosonOp('a')\n",
      "b = BosonOp('b')"
     ],
     "language": "python",
     "metadata": {},
     "outputs": [],
     "prompt_number": 7
    },
    {
     "cell_type": "code",
     "collapsed": false,
     "input": [
      "a.is_annihilation, Dagger(a).is_annihilation"
     ],
     "language": "python",
     "metadata": {},
     "outputs": [
      {
       "metadata": {},
       "output_type": "pyout",
       "prompt_number": 8,
       "text": [
        "(True, False)"
       ]
      }
     ],
     "prompt_number": 8
    },
    {
     "cell_type": "code",
     "collapsed": false,
     "input": [
      "Commutator(a, Dagger(a)).doit()"
     ],
     "language": "python",
     "metadata": {},
     "outputs": [
      {
       "latex": [
        "$$1$$"
       ],
       "metadata": {},
       "output_type": "pyout",
       "png": "[encoded data removed]",
       "prompt_number": 9,
       "text": [
        "1"
       ]
      }
     ],
     "prompt_number": 9
    },
    {
     "cell_type": "code",
     "collapsed": false,
     "input": [
      "Commutator(Dagger(a), a).doit()"
     ],
     "language": "python",
     "metadata": {},
     "outputs": [
      {
       "latex": [
        "$$-1$$"
       ],
       "metadata": {},
       "output_type": "pyout",
       "png": "[encoded data removed]",
       "prompt_number": 10,
       "text": [
        "-1"
       ]
      }
     ],
     "prompt_number": 10
    },
    {
     "cell_type": "code",
     "collapsed": false,
     "input": [
      "Commutator(a, a).doit()"
     ],
     "language": "python",
     "metadata": {},
     "outputs": [
      {
       "latex": [
        "$$0$$"
       ],
       "metadata": {},
       "output_type": "pyout",
       "png": "[encoded data removed]",
       "prompt_number": 11,
       "text": [
        "0"
       ]
      }
     ],
     "prompt_number": 11
    },
    {
     "cell_type": "code",
     "collapsed": false,
     "input": [
      "Commutator(Dagger(a), Dagger(a)).doit()"
     ],
     "language": "python",
     "metadata": {},
     "outputs": [
      {
       "latex": [
        "$$0$$"
       ],
       "metadata": {},
       "output_type": "pyout",
       "png": "[encoded data removed]",
       "prompt_number": 12,
       "text": [
        "0"
       ]
      }
     ],
     "prompt_number": 12
    },
    {
     "cell_type": "code",
     "collapsed": false,
     "input": [
      "Dagger(Dagger(Dagger(a)))"
     ],
     "language": "python",
     "metadata": {},
     "outputs": [
      {
       "latex": [
        "$${{a}^\\dagger}$$"
       ],
       "metadata": {},
       "output_type": "pyout",
       "png": "[encoded data removed]",
       "prompt_number": 13,
       "text": [
        " \u2020\n",
        "a "
       ]
      }
     ],
     "prompt_number": 13
    },
    {
     "cell_type": "code",
     "collapsed": false,
     "input": [
      "Commutator(a, Dagger(Dagger(a))) #.doit()"
     ],
     "language": "python",
     "metadata": {},
     "outputs": [
      {
       "latex": [
        "$$0$$"
       ],
       "metadata": {},
       "output_type": "pyout",
       "png": "[encoded data removed]",
       "prompt_number": 14,
       "text": [
        "0"
       ]
      }
     ],
     "prompt_number": 14
    },
    {
     "cell_type": "code",
     "collapsed": false,
     "input": [
      "Commutator(a, b).doit()"
     ],
     "language": "python",
     "metadata": {},
     "outputs": [
      {
       "latex": [
        "$${a} {b} - {b} {a}$$"
       ],
       "metadata": {},
       "output_type": "pyout",
       "png": "[encoded data removed]",
       "prompt_number": 15,
       "text": [
        "a\u22c5b - b\u22c5a"
       ]
      }
     ],
     "prompt_number": 15
    },
    {
     "cell_type": "code",
     "collapsed": false,
     "input": [
      "Commutator(a, b).doit(independent=True)"
     ],
     "language": "python",
     "metadata": {},
     "outputs": [
      {
       "latex": [
        "$$0$$"
       ],
       "metadata": {},
       "output_type": "pyout",
       "png": "[encoded data removed]",
       "prompt_number": 16,
       "text": [
        "0"
       ]
      }
     ],
     "prompt_number": 16
    },
    {
     "cell_type": "heading",
     "level": 3,
     "metadata": {},
     "source": [
      "Test Fermion operators"
     ]
    },
    {
     "cell_type": "code",
     "collapsed": false,
     "input": [
      "c = FermionOp('c')\n",
      "d = FermionOp('d')"
     ],
     "language": "python",
     "metadata": {},
     "outputs": [],
     "prompt_number": 17
    },
    {
     "cell_type": "code",
     "collapsed": false,
     "input": [
      "Commutator(c,Dagger(c))"
     ],
     "language": "python",
     "metadata": {},
     "outputs": [
      {
       "latex": [
        "$$- \\left[{{c}^\\dagger},{c}\\right]$$"
       ],
       "metadata": {},
       "output_type": "pyout",
       "png": "[encoded data removed]",
       "prompt_number": 18,
       "text": [
        " \u23a1 \u2020  \u23a4\n",
        "-\u23a3c ,c\u23a6"
       ]
      }
     ],
     "prompt_number": 18
    },
    {
     "cell_type": "code",
     "collapsed": false,
     "input": [
      "AntiCommutator(c,Dagger(c))"
     ],
     "language": "python",
     "metadata": {},
     "outputs": [
      {
       "latex": [
        "$$\\left\\{{{c}^\\dagger},{c}\\right\\}$$"
       ],
       "metadata": {},
       "output_type": "pyout",
       "png": "[encoded data removed]",
       "prompt_number": 19,
       "text": [
        "\u23a7 \u2020  \u23ab\n",
        "\u23a8c ,c\u23ac\n",
        "\u23a9    \u23ad"
       ]
      }
     ],
     "prompt_number": 19
    },
    {
     "cell_type": "code",
     "collapsed": false,
     "input": [
      "AntiCommutator(c, Dagger(c)).doit()"
     ],
     "language": "python",
     "metadata": {},
     "outputs": [
      {
       "latex": [
        "$$1$$"
       ],
       "metadata": {},
       "output_type": "pyout",
       "png": "[encoded data removed]",
       "prompt_number": 20,
       "text": [
        "1"
       ]
      }
     ],
     "prompt_number": 20
    },
    {
     "cell_type": "code",
     "collapsed": false,
     "input": [
      "AntiCommutator(Dagger(c), c).doit()"
     ],
     "language": "python",
     "metadata": {},
     "outputs": [
      {
       "latex": [
        "$$1$$"
       ],
       "metadata": {},
       "output_type": "pyout",
       "png": "[encoded data removed]",
       "prompt_number": 21,
       "text": [
        "1"
       ]
      }
     ],
     "prompt_number": 21
    },
    {
     "cell_type": "code",
     "collapsed": false,
     "input": [
      "AntiCommutator(c,d).doit()"
     ],
     "language": "python",
     "metadata": {},
     "outputs": [
      {
       "latex": [
        "$${c} {d} + {d} {c}$$"
       ],
       "metadata": {},
       "output_type": "pyout",
       "png": "[encoded data removed]",
       "prompt_number": 22,
       "text": [
        "c\u22c5d + d\u22c5c"
       ]
      }
     ],
     "prompt_number": 22
    },
    {
     "cell_type": "heading",
     "level": 2,
     "metadata": {},
     "source": [
      "Commutators between fermions and bosons"
     ]
    },
    {
     "cell_type": "code",
     "collapsed": false,
     "input": [
      "Commutator(a, c).doit()"
     ],
     "language": "python",
     "metadata": {},
     "outputs": [
      {
       "latex": [
        "$$0$$"
       ],
       "metadata": {},
       "output_type": "pyout",
       "png": "[encoded data removed]",
       "prompt_number": 23,
       "text": [
        "0"
       ]
      }
     ],
     "prompt_number": 23
    },
    {
     "cell_type": "heading",
     "level": 2,
     "metadata": {},
     "source": [
      "Simplifying operator expressions"
     ]
    },
    {
     "cell_type": "heading",
     "level": 3,
     "metadata": {},
     "source": [
      "Test operator ordering of bosons"
     ]
    },
    {
     "cell_type": "code",
     "collapsed": false,
     "input": [
      "normal_ordered_form(Dagger(a) * a)"
     ],
     "language": "python",
     "metadata": {},
     "outputs": [
      {
       "latex": [
        "$${{a}^\\dagger} {a}$$"
       ],
       "metadata": {},
       "output_type": "pyout",
       "png": "[encoded data removed]",
       "prompt_number": 24,
       "text": [
        " \u2020  \n",
        "a \u22c5a"
       ]
      }
     ],
     "prompt_number": 24
    },
    {
     "cell_type": "code",
     "collapsed": false,
     "input": [
      "normal_ordered_form(a * Dagger(a))"
     ],
     "language": "python",
     "metadata": {},
     "outputs": [
      {
       "latex": [
        "$$1 + {{a}^\\dagger} {a}$$"
       ],
       "metadata": {},
       "output_type": "pyout",
       "png": "[encoded data removed]",
       "prompt_number": 25,
       "text": [
        "     \u2020  \n",
        "1 + a \u22c5a"
       ]
      }
     ],
     "prompt_number": 25
    },
    {
     "cell_type": "code",
     "collapsed": false,
     "input": [
      "normal_ordered_form(a * Dagger(a) * a)"
     ],
     "language": "python",
     "metadata": {},
     "outputs": [
      {
       "latex": [
        "$${{a}^\\dagger} \\left({a}\\right)^{2} + {a}$$"
       ],
       "metadata": {},
       "output_type": "pyout",
       "png": "[encoded data removed]",
       "prompt_number": 26,
       "text": [
        " \u2020  2    \n",
        "a \u22c5a  + a"
       ]
      }
     ],
     "prompt_number": 26
    },
    {
     "cell_type": "code",
     "collapsed": false,
     "input": [
      "normal_ordered_form(a * a * Dagger(a))"
     ],
     "language": "python",
     "metadata": {},
     "outputs": [
      {
       "latex": [
        "$${{a}^\\dagger} \\left({a}\\right)^{2} + 2 {a}$$"
       ],
       "metadata": {},
       "output_type": "pyout",
       "png": "[encoded data removed]",
       "prompt_number": 27,
       "text": [
        " \u2020  2      \n",
        "a \u22c5a  + 2\u22c5a"
       ]
      }
     ],
     "prompt_number": 27
    },
    {
     "cell_type": "code",
     "collapsed": false,
     "input": [
      "normal_ordered_form(a * a * a * Dagger(a))"
     ],
     "language": "python",
     "metadata": {},
     "outputs": [
      {
       "latex": [
        "$${{a}^\\dagger} \\left({a}\\right)^{3} + 3 \\left({a}\\right)^{2}$$"
       ],
       "metadata": {},
       "output_type": "pyout",
       "png": "[encoded data removed]",
       "prompt_number": 28,
       "text": [
        " \u2020  3      2\n",
        "a \u22c5a  + 3\u22c5a "
       ]
      }
     ],
     "prompt_number": 28
    },
    {
     "cell_type": "code",
     "collapsed": false,
     "input": [
      "normal_ordered_form(a * Dagger(a) * a * Dagger(a))"
     ],
     "language": "python",
     "metadata": {},
     "outputs": [
      {
       "latex": [
        "$$1 + 3 {{a}^\\dagger} {a} + \\left({{a}^\\dagger}\\right)^{2} \\left({a}\\right)^{2}$$"
       ],
       "metadata": {},
       "output_type": "pyout",
       "png": "[encoded data removed]",
       "prompt_number": 29,
       "text": [
        "                 2   \n",
        "       \u2020     \u239b \u2020\u239e   2\n",
        "1 + 3\u22c5a \u22c5a + \u239da \u23a0 \u22c5a "
       ]
      }
     ],
     "prompt_number": 29
    },
    {
     "cell_type": "code",
     "collapsed": false,
     "input": [
      "normal_ordered_form(a * Dagger(a) * Dagger(a) * Dagger(a))"
     ],
     "language": "python",
     "metadata": {},
     "outputs": [
      {
       "latex": [
        "$$3 \\left({{a}^\\dagger}\\right)^{2} + \\left({{a}^\\dagger}\\right)^{3} {a}$$"
       ],
       "metadata": {},
       "output_type": "pyout",
       "png": "[encoded data removed]",
       "prompt_number": 30,
       "text": [
        "      2       3  \n",
        "  \u239b \u2020\u239e    \u239b \u2020\u239e   \n",
        "3\u22c5\u239da \u23a0  + \u239da \u23a0 \u22c5a"
       ]
      }
     ],
     "prompt_number": 30
    },
    {
     "cell_type": "code",
     "collapsed": false,
     "input": [
      "normal_ordered_form(a * Dagger(b))"
     ],
     "language": "python",
     "metadata": {},
     "outputs": [
      {
       "latex": [
        "$${{b}^\\dagger} {a} + \\left[{a},{{b}^\\dagger}\\right]$$"
       ],
       "metadata": {},
       "output_type": "pyout",
       "png": "[encoded data removed]",
       "prompt_number": 31,
       "text": [
        " \u2020     \u23a1   \u2020\u23a4\n",
        "b \u22c5a + \u23a3a,b \u23a6"
       ]
      }
     ],
     "prompt_number": 31
    },
    {
     "cell_type": "code",
     "collapsed": false,
     "input": [
      "normal_ordered_form(a * Dagger(b)).doit()"
     ],
     "language": "python",
     "metadata": {},
     "outputs": [
      {
       "latex": [
        "$${a} {{b}^\\dagger}$$"
       ],
       "metadata": {},
       "output_type": "pyout",
       "png": "[encoded data removed]",
       "prompt_number": 32,
       "text": [
        "   \u2020\n",
        "a\u22c5b "
       ]
      }
     ],
     "prompt_number": 32
    },
    {
     "cell_type": "code",
     "collapsed": false,
     "input": [
      "normal_ordered_form(a * Dagger(b), independent=True)"
     ],
     "language": "python",
     "metadata": {},
     "outputs": [
      {
       "latex": [
        "$${{b}^\\dagger} {a}$$"
       ],
       "metadata": {},
       "output_type": "pyout",
       "png": "[encoded data removed]",
       "prompt_number": 33,
       "text": [
        " \u2020  \n",
        "b \u22c5a"
       ]
      }
     ],
     "prompt_number": 33
    },
    {
     "cell_type": "code",
     "collapsed": false,
     "input": [
      "normal_ordered_form(a * Dagger(b) * Dagger(a))"
     ],
     "language": "python",
     "metadata": {},
     "outputs": [
      {
       "latex": [
        "$${{b}^\\dagger} + {{b}^\\dagger} {{a}^\\dagger} {a} + \\left[{a},{{b}^\\dagger}\\right] {{a}^\\dagger}$$"
       ],
       "metadata": {},
       "output_type": "pyout",
       "png": "[encoded data removed]",
       "prompt_number": 34,
       "text": [
        " \u2020    \u2020  \u2020     \u23a1   \u2020\u23a4  \u2020\n",
        "b  + b \u22c5a \u22c5a + \u23a3a,b \u23a6\u22c5a "
       ]
      }
     ],
     "prompt_number": 34
    },
    {
     "cell_type": "code",
     "collapsed": false,
     "input": [
      "normal_ordered_form(a * Dagger(b) * Dagger(a), independent=True)"
     ],
     "language": "python",
     "metadata": {},
     "outputs": [
      {
       "latex": [
        "$${{a}^\\dagger} {{b}^\\dagger} {a} + {{b}^\\dagger}$$"
       ],
       "metadata": {},
       "output_type": "pyout",
       "png": "[encoded data removed]",
       "prompt_number": 35,
       "text": [
        " \u2020  \u2020      \u2020\n",
        "a \u22c5b \u22c5a + b "
       ]
      }
     ],
     "prompt_number": 35
    },
    {
     "cell_type": "heading",
     "level": 4,
     "metadata": {},
     "source": [
      "Normal ordering"
     ]
    },
    {
     "cell_type": "code",
     "collapsed": false,
     "input": [
      "normal_order(Dagger(a) * a)"
     ],
     "language": "python",
     "metadata": {},
     "outputs": [
      {
       "latex": [
        "$${{a}^\\dagger} {a}$$"
       ],
       "metadata": {},
       "output_type": "pyout",
       "png": "[encoded data removed]",
       "prompt_number": 36,
       "text": [
        " \u2020  \n",
        "a \u22c5a"
       ]
      }
     ],
     "prompt_number": 36
    },
    {
     "cell_type": "code",
     "collapsed": false,
     "input": [
      "normal_order(a * Dagger(a))"
     ],
     "language": "python",
     "metadata": {},
     "outputs": [
      {
       "latex": [
        "$${{a}^\\dagger} {a}$$"
       ],
       "metadata": {},
       "output_type": "pyout",
       "png": "[encoded data removed]",
       "prompt_number": 37,
       "text": [
        " \u2020  \n",
        "a \u22c5a"
       ]
      }
     ],
     "prompt_number": 37
    },
    {
     "cell_type": "code",
     "collapsed": false,
     "input": [
      "normal_order(a * a * a * Dagger(a))"
     ],
     "language": "python",
     "metadata": {},
     "outputs": [
      {
       "latex": [
        "$${{a}^\\dagger} \\left({a}\\right)^{3}$$"
       ],
       "metadata": {},
       "output_type": "pyout",
       "png": "[encoded data removed]",
       "prompt_number": 38,
       "text": [
        " \u2020  3\n",
        "a \u22c5a "
       ]
      }
     ],
     "prompt_number": 38
    },
    {
     "cell_type": "code",
     "collapsed": false,
     "input": [
      "normal_order(a * Dagger(a) * a * Dagger(a) * a)"
     ],
     "language": "python",
     "metadata": {},
     "outputs": [
      {
       "latex": [
        "$$\\left({{a}^\\dagger}\\right)^{2} \\left({a}\\right)^{3}$$"
       ],
       "metadata": {},
       "output_type": "pyout",
       "png": "[encoded data removed]",
       "prompt_number": 39,
       "text": [
        "    2   \n",
        "\u239b \u2020\u239e   3\n",
        "\u239da \u23a0 \u22c5a "
       ]
      }
     ],
     "prompt_number": 39
    },
    {
     "cell_type": "markdown",
     "metadata": {},
     "source": [
      "Wick's contraction:"
     ]
    },
    {
     "cell_type": "code",
     "collapsed": false,
     "input": [
      "a * Dagger(a) - normal_order(a * Dagger(a))"
     ],
     "language": "python",
     "metadata": {},
     "outputs": [
      {
       "latex": [
        "$$- {{a}^\\dagger} {a} + {a} {{a}^\\dagger}$$"
       ],
       "metadata": {},
       "output_type": "pyout",
       "png": "[encoded data removed]",
       "prompt_number": 40,
       "text": [
        "   \u2020        \u2020\n",
        "- a \u22c5a + a\u22c5a "
       ]
      }
     ],
     "prompt_number": 40
    },
    {
     "cell_type": "code",
     "collapsed": false,
     "input": [
      "normal_ordered_form(a * Dagger(a) - normal_order(a * Dagger(a)))"
     ],
     "language": "python",
     "metadata": {},
     "outputs": [
      {
       "latex": [
        "$$1$$"
       ],
       "metadata": {},
       "output_type": "pyout",
       "png": "[encoded data removed]",
       "prompt_number": 41,
       "text": [
        "1"
       ]
      }
     ],
     "prompt_number": 41
    },
    {
     "cell_type": "heading",
     "level": 3,
     "metadata": {},
     "source": [
      "Test operator ordering of fermions"
     ]
    },
    {
     "cell_type": "code",
     "collapsed": false,
     "input": [
      "normal_ordered_form(Dagger(c) * c)"
     ],
     "language": "python",
     "metadata": {},
     "outputs": [
      {
       "latex": [
        "$${{c}^\\dagger} {c}$$"
       ],
       "metadata": {},
       "output_type": "pyout",
       "png": "[encoded data removed]",
       "prompt_number": 42,
       "text": [
        " \u2020  \n",
        "c \u22c5c"
       ]
      }
     ],
     "prompt_number": 42
    },
    {
     "cell_type": "code",
     "collapsed": false,
     "input": [
      "normal_ordered_form(c * Dagger(c))"
     ],
     "language": "python",
     "metadata": {},
     "outputs": [
      {
       "latex": [
        "$$1 - {{c}^\\dagger} {c}$$"
       ],
       "metadata": {},
       "output_type": "pyout",
       "png": "[encoded data removed]",
       "prompt_number": 43,
       "text": [
        "     \u2020  \n",
        "1 - c \u22c5c"
       ]
      }
     ],
     "prompt_number": 43
    },
    {
     "cell_type": "code",
     "collapsed": false,
     "input": [
      "normal_ordered_form(c * c * Dagger(c))"
     ],
     "language": "python",
     "metadata": {},
     "outputs": [
      {
       "latex": [
        "$${{c}^\\dagger} \\left({c}\\right)^{2}$$"
       ],
       "metadata": {},
       "output_type": "pyout",
       "png": "[encoded data removed]",
       "prompt_number": 44,
       "text": [
        " \u2020  2\n",
        "c \u22c5c "
       ]
      }
     ],
     "prompt_number": 44
    },
    {
     "cell_type": "code",
     "collapsed": false,
     "input": [
      "normal_ordered_form(c * c * c * Dagger(c))"
     ],
     "language": "python",
     "metadata": {},
     "outputs": [
      {
       "latex": [
        "$$- {{c}^\\dagger} \\left({c}\\right)^{3} + \\left({c}\\right)^{2}$$"
       ],
       "metadata": {},
       "output_type": "pyout",
       "png": "[encoded data removed]",
       "prompt_number": 45,
       "text": [
        "   \u2020  3    2\n",
        "- c \u22c5c  + c "
       ]
      }
     ],
     "prompt_number": 45
    },
    {
     "cell_type": "code",
     "collapsed": false,
     "input": [
      "normal_ordered_form(c * Dagger(c) * c * Dagger(c))"
     ],
     "language": "python",
     "metadata": {},
     "outputs": [
      {
       "latex": [
        "$$1 - {{c}^\\dagger} {c} - \\left({{c}^\\dagger}\\right)^{2} \\left({c}\\right)^{2}$$"
       ],
       "metadata": {},
       "output_type": "pyout",
       "png": "[encoded data removed]",
       "prompt_number": 46,
       "text": [
        "               2   \n",
        "     \u2020     \u239b \u2020\u239e   2\n",
        "1 - c \u22c5c - \u239dc \u23a0 \u22c5c "
       ]
      }
     ],
     "prompt_number": 46
    },
    {
     "cell_type": "code",
     "collapsed": false,
     "input": [
      "normal_ordered_form(c * Dagger(d))"
     ],
     "language": "python",
     "metadata": {},
     "outputs": [
      {
       "latex": [
        "$$\\left\\{{c},{{d}^\\dagger}\\right\\} - {{d}^\\dagger} {c}$$"
       ],
       "metadata": {},
       "output_type": "pyout",
       "png": "[encoded data removed]",
       "prompt_number": 47,
       "text": [
        "\u23a7   \u2020\u23ab    \u2020  \n",
        "\u23a8c,d \u23ac - d \u22c5c\n",
        "\u23a9    \u23ad       "
       ]
      }
     ],
     "prompt_number": 47
    },
    {
     "cell_type": "code",
     "collapsed": false,
     "input": [
      "normal_ordered_form(c * Dagger(d), independent=True)"
     ],
     "language": "python",
     "metadata": {},
     "outputs": [
      {
       "latex": [
        "$$- {{d}^\\dagger} {c}$$"
       ],
       "metadata": {},
       "output_type": "pyout",
       "png": "[encoded data removed]",
       "prompt_number": 48,
       "text": [
        "  \u2020  \n",
        "-d \u22c5c"
       ]
      }
     ],
     "prompt_number": 48
    },
    {
     "cell_type": "heading",
     "level": 4,
     "metadata": {},
     "source": [
      "Normal ordering"
     ]
    },
    {
     "cell_type": "code",
     "collapsed": false,
     "input": [
      "normal_order(Dagger(c) * c)"
     ],
     "language": "python",
     "metadata": {},
     "outputs": [
      {
       "latex": [
        "$${{c}^\\dagger} {c}$$"
       ],
       "metadata": {},
       "output_type": "pyout",
       "png": "[encoded data removed]",
       "prompt_number": 49,
       "text": [
        " \u2020  \n",
        "c \u22c5c"
       ]
      }
     ],
     "prompt_number": 49
    },
    {
     "cell_type": "code",
     "collapsed": false,
     "input": [
      "normal_order(c * Dagger(c))"
     ],
     "language": "python",
     "metadata": {},
     "outputs": [
      {
       "latex": [
        "$$- {{c}^\\dagger} {c}$$"
       ],
       "metadata": {},
       "output_type": "pyout",
       "png": "[encoded data removed]",
       "prompt_number": 50,
       "text": [
        "  \u2020  \n",
        "-c \u22c5c"
       ]
      }
     ],
     "prompt_number": 50
    },
    {
     "cell_type": "code",
     "collapsed": false,
     "input": [
      "normal_order(c * Dagger(c) * c * Dagger(c) * c)"
     ],
     "language": "python",
     "metadata": {},
     "outputs": [
      {
       "latex": [
        "$$- \\left({{c}^\\dagger}\\right)^{2} \\left({c}\\right)^{3}$$"
       ],
       "metadata": {},
       "output_type": "pyout",
       "png": "[encoded data removed]",
       "prompt_number": 51,
       "text": [
        "     2   \n",
        " \u239b \u2020\u239e   3\n",
        "-\u239dc \u23a0 \u22c5c "
       ]
      }
     ],
     "prompt_number": 51
    },
    {
     "cell_type": "markdown",
     "metadata": {},
     "source": [
      "Wick's contraction"
     ]
    },
    {
     "cell_type": "code",
     "collapsed": false,
     "input": [
      "c * Dagger(c) - normal_order(c * Dagger(c))"
     ],
     "language": "python",
     "metadata": {},
     "outputs": [
      {
       "latex": [
        "$${{c}^\\dagger} {c} + {c} {{c}^\\dagger}$$"
       ],
       "metadata": {},
       "output_type": "pyout",
       "png": "[encoded data removed]",
       "prompt_number": 52,
       "text": [
        " \u2020        \u2020\n",
        "c \u22c5c + c\u22c5c "
       ]
      }
     ],
     "prompt_number": 52
    },
    {
     "cell_type": "code",
     "collapsed": false,
     "input": [
      "normal_ordered_form(c * Dagger(c) - normal_order(c * Dagger(c)))"
     ],
     "language": "python",
     "metadata": {},
     "outputs": [
      {
       "latex": [
        "$$1$$"
       ],
       "metadata": {},
       "output_type": "pyout",
       "png": "[encoded data removed]",
       "prompt_number": 53,
       "text": [
        "1"
       ]
      }
     ],
     "prompt_number": 53
    },
    {
     "cell_type": "heading",
     "level": 2,
     "metadata": {},
     "source": [
      "States"
     ]
    },
    {
     "cell_type": "heading",
     "level": 3,
     "metadata": {},
     "source": [
      "Boson Fock states"
     ]
    },
    {
     "cell_type": "code",
     "collapsed": false,
     "input": [
      "ket = BosonFockKet(2)\n",
      "\n",
      "ket"
     ],
     "language": "python",
     "metadata": {},
     "outputs": [
      {
       "latex": [
        "$${\\left|2\\right\\rangle }$$"
       ],
       "metadata": {},
       "output_type": "pyout",
       "png": "[encoded data removed]",
       "prompt_number": 54,
       "text": [
        "\u27582\u27e9"
       ]
      }
     ],
     "prompt_number": 54
    },
    {
     "cell_type": "code",
     "collapsed": false,
     "input": [
      "bra = BosonFockBra(2)\n",
      "\n",
      "bra"
     ],
     "language": "python",
     "metadata": {},
     "outputs": [
      {
       "latex": [
        "$${\\left\\langle 2\\right|}$$"
       ],
       "metadata": {},
       "output_type": "pyout",
       "png": "[encoded data removed]",
       "prompt_number": 55,
       "text": [
        "\u27e82\u2758"
       ]
      }
     ],
     "prompt_number": 55
    },
    {
     "cell_type": "code",
     "collapsed": false,
     "input": [
      "type(bra), type(ket)"
     ],
     "language": "python",
     "metadata": {},
     "outputs": [
      {
       "metadata": {},
       "output_type": "pyout",
       "prompt_number": 56,
       "text": [
        "(sympy.physics.quantum.boson.BosonFockBra,\n",
        " sympy.physics.quantum.boson.BosonFockKet)"
       ]
      }
     ],
     "prompt_number": 56
    },
    {
     "cell_type": "code",
     "collapsed": false,
     "input": [
      "a * ket, qapply(a * ket)"
     ],
     "language": "python",
     "metadata": {},
     "outputs": [
      {
       "latex": [
        "$$\\begin{pmatrix}{a} {\\left|2\\right\\rangle }, & \\sqrt{2} {\\left|1\\right\\rangle }\\end{pmatrix}$$"
       ],
       "metadata": {},
       "output_type": "pyout",
       "png": "[encoded data removed]",
       "prompt_number": 57,
       "text": [
        "\u239b         ___    \u239e\n",
        "\u239da\u22c5\u27582\u27e9, \u2572\u2571 2 \u22c5\u27581\u27e9\u23a0"
       ]
      }
     ],
     "prompt_number": 57
    },
    {
     "cell_type": "code",
     "collapsed": false,
     "input": [
      "bra * a, qapply(bra * a, dagger=True)"
     ],
     "language": "python",
     "metadata": {},
     "outputs": [
      {
       "latex": [
        "$$\\begin{pmatrix}{\\left\\langle 2\\right|} {a}, & \\sqrt{3} {\\left\\langle 3\\right|}\\end{pmatrix}$$"
       ],
       "metadata": {},
       "output_type": "pyout",
       "png": "[encoded data removed]",
       "prompt_number": 58,
       "text": [
        "\u239b         ___    \u239e\n",
        "\u239d\u27e82\u2758\u22c5a, \u2572\u2571 3 \u22c5\u27e83\u2758\u23a0"
       ]
      }
     ],
     "prompt_number": 58
    },
    {
     "cell_type": "code",
     "collapsed": false,
     "input": [
      "qapply(Dagger(ket) * ket)"
     ],
     "language": "python",
     "metadata": {},
     "outputs": [
      {
       "latex": [
        "$$\\left\\langle 2 \\right. {\\left|2\\right\\rangle }$$"
       ],
       "metadata": {},
       "output_type": "pyout",
       "png": "[encoded data removed]",
       "prompt_number": 59,
       "text": [
        "\u27e82\u27582\u27e9"
       ]
      }
     ],
     "prompt_number": 59
    },
    {
     "cell_type": "code",
     "collapsed": false,
     "input": [
      "(Dagger(ket) * ket).doit()"
     ],
     "language": "python",
     "metadata": {},
     "outputs": [
      {
       "latex": [
        "$$1$$"
       ],
       "metadata": {},
       "output_type": "pyout",
       "png": "[encoded data removed]",
       "prompt_number": 60,
       "text": [
        "1"
       ]
      }
     ],
     "prompt_number": 60
    },
    {
     "cell_type": "code",
     "collapsed": false,
     "input": [
      "(bra * Dagger(bra)).doit()"
     ],
     "language": "python",
     "metadata": {},
     "outputs": [
      {
       "latex": [
        "$$1$$"
       ],
       "metadata": {},
       "output_type": "pyout",
       "png": "[encoded data removed]",
       "prompt_number": 61,
       "text": [
        "1"
       ]
      }
     ],
     "prompt_number": 61
    },
    {
     "cell_type": "code",
     "collapsed": false,
     "input": [
      "Dagger(ket) * Dagger(a) * ket, qapply(Dagger(ket) * Dagger(a) * ket).doit()"
     ],
     "language": "python",
     "metadata": {},
     "outputs": [
      {
       "latex": [
        "$$\\begin{pmatrix}{\\left\\langle 2\\right|} {{a}^\\dagger} {\\left|2\\right\\rangle }, & 0\\end{pmatrix}$$"
       ],
       "metadata": {},
       "output_type": "pyout",
       "png": "[encoded data removed]",
       "prompt_number": 62,
       "text": [
        "\u239b     \u2020       \u239e\n",
        "\u239d\u27e82\u2758\u22c5a \u22c5\u27582\u27e9, 0\u23a0"
       ]
      }
     ],
     "prompt_number": 62
    },
    {
     "cell_type": "code",
     "collapsed": false,
     "input": [
      "(bra * Dagger(a) * Dagger(a) * a * a * ket).doit()"
     ],
     "language": "python",
     "metadata": {},
     "outputs": [
      {
       "latex": [
        "$${\\left\\langle 2\\right|} \\left({{a}^\\dagger}\\right)^{2} \\left({a}\\right)^{2} {\\left|2\\right\\rangle }$$"
       ],
       "metadata": {},
       "output_type": "pyout",
       "png": "[encoded data removed]",
       "prompt_number": 63,
       "text": [
        "        2       \n",
        "    \u239b \u2020\u239e   2    \n",
        "\u27e82\u2758\u22c5\u239da \u23a0 \u22c5a \u22c5\u27582\u27e9"
       ]
      }
     ],
     "prompt_number": 63
    },
    {
     "cell_type": "code",
     "collapsed": false,
     "input": [
      "qapply(Dagger(ket) * Dagger(a) * a * ket).doit()"
     ],
     "language": "python",
     "metadata": {},
     "outputs": [
      {
       "latex": [
        "$$2$$"
       ],
       "metadata": {},
       "output_type": "pyout",
       "png": "[encoded data removed]",
       "prompt_number": 64,
       "text": [
        "2"
       ]
      }
     ],
     "prompt_number": 64
    },
    {
     "cell_type": "code",
     "collapsed": false,
     "input": [
      "qapply(bra * Dagger(a) * a * Dagger(bra)).doit()"
     ],
     "language": "python",
     "metadata": {},
     "outputs": [
      {
       "latex": [
        "$$2$$"
       ],
       "metadata": {},
       "output_type": "pyout",
       "png": "[encoded data removed]",
       "prompt_number": 65,
       "text": [
        "2"
       ]
      }
     ],
     "prompt_number": 65
    },
    {
     "cell_type": "code",
     "collapsed": false,
     "input": [
      "ket = BosonFockKet(4)\n",
      "bra = BosonFockBra(2)\n",
      "\n",
      "bra * a * a * ket, qapply(bra * a * a * ket).doit()"
     ],
     "language": "python",
     "metadata": {},
     "outputs": [
      {
       "latex": [
        "$$\\begin{pmatrix}{\\left\\langle 2\\right|} \\left({a}\\right)^{2} {\\left|4\\right\\rangle }, & 2 \\sqrt{3}\\end{pmatrix}$$"
       ],
       "metadata": {},
       "output_type": "pyout",
       "png": "[encoded data removed]",
       "prompt_number": 66,
       "text": [
        "\u239b     2          ___\u239e\n",
        "\u239d\u27e82\u2758\u22c5a \u22c5\u27584\u27e9, 2\u22c5\u2572\u2571 3 \u23a0"
       ]
      }
     ],
     "prompt_number": 66
    },
    {
     "cell_type": "heading",
     "level": 3,
     "metadata": {},
     "source": [
      "Coherent states"
     ]
    },
    {
     "cell_type": "code",
     "collapsed": false,
     "input": [
      "alpha, beta = symbols(\"alpha, beta\")"
     ],
     "language": "python",
     "metadata": {},
     "outputs": [],
     "prompt_number": 67
    },
    {
     "cell_type": "code",
     "collapsed": false,
     "input": [
      "ket = BosonCoherentKet(alpha)\n",
      "\n",
      "ket"
     ],
     "language": "python",
     "metadata": {},
     "outputs": [
      {
       "latex": [
        "$${\\left|\\alpha\\right\\rangle }$$"
       ],
       "metadata": {},
       "output_type": "pyout",
       "png": "[encoded data removed]",
       "prompt_number": 68,
       "text": [
        "\u2758\u03b1\u27e9"
       ]
      }
     ],
     "prompt_number": 68
    },
    {
     "cell_type": "code",
     "collapsed": false,
     "input": [
      "bra = BosonCoherentBra(beta)\n",
      "\n",
      "bra"
     ],
     "language": "python",
     "metadata": {},
     "outputs": [
      {
       "latex": [
        "$${\\left\\langle \\beta\\right|}$$"
       ],
       "metadata": {},
       "output_type": "pyout",
       "png": "[encoded data removed]",
       "prompt_number": 69,
       "text": [
        "\u27e8\u03b2\u2758"
       ]
      }
     ],
     "prompt_number": 69
    },
    {
     "cell_type": "code",
     "collapsed": false,
     "input": [
      "bra * ket"
     ],
     "language": "python",
     "metadata": {},
     "outputs": [
      {
       "latex": [
        "$$\\left\\langle \\beta \\right. {\\left|\\alpha\\right\\rangle }$$"
       ],
       "metadata": {},
       "output_type": "pyout",
       "png": "[encoded data removed]",
       "prompt_number": 70,
       "text": [
        "\u27e8\u03b2\u2758\u03b1\u27e9"
       ]
      }
     ],
     "prompt_number": 70
    },
    {
     "cell_type": "code",
     "collapsed": false,
     "input": [
      "(bra * ket).doit()"
     ],
     "language": "python",
     "metadata": {},
     "outputs": [
      {
       "latex": [
        "$$e^{\\alpha \\overline{\\beta} - \\frac{\\left\\lvert{\\alpha}\\right\\rvert^{2}}{2} - \\frac{\\left\\lvert{\\beta}\\right\\rvert^{2}}{2}}$$"
       ],
       "metadata": {},
       "output_type": "pyout",
       "png": "[encoded data removed]",
       "prompt_number": 71,
       "text": [
        "          2      2\n",
        "   _   \u2502\u03b1\u2502    \u2502\u03b2\u2502 \n",
        " \u03b1\u22c5\u03b2 - \u2500\u2500\u2500\u2500 - \u2500\u2500\u2500\u2500\n",
        "        2      2  \n",
        "\u212f                 "
       ]
      }
     ],
     "prompt_number": 71
    },
    {
     "cell_type": "code",
     "collapsed": false,
     "input": [
      "qapply((bra * qapply(a * ket))).doit()"
     ],
     "language": "python",
     "metadata": {},
     "outputs": [
      {
       "latex": [
        "$$\\alpha e^{\\alpha \\overline{\\beta}} e^{- \\frac{\\left\\lvert{\\alpha}\\right\\rvert^{2}}{2}} e^{- \\frac{\\left\\lvert{\\beta}\\right\\rvert^{2}}{2}}$$"
       ],
       "metadata": {},
       "output_type": "pyout",
       "png": "[encoded data removed]",
       "prompt_number": 72,
       "text": [
        "            2       2 \n",
        "        -\u2502\u03b1\u2502    -\u2502\u03b2\u2502  \n",
        "     _  \u2500\u2500\u2500\u2500\u2500\u2500  \u2500\u2500\u2500\u2500\u2500\u2500\n",
        "   \u03b1\u22c5\u03b2    2       2   \n",
        "\u03b1\u22c5\u212f   \u22c5\u212f      \u22c5\u212f      "
       ]
      }
     ],
     "prompt_number": 72
    },
    {
     "cell_type": "code",
     "collapsed": false,
     "input": [
      "qapply(Dagger(ket) * Dagger(a) * a * ket, dagger=True)"
     ],
     "language": "python",
     "metadata": {},
     "outputs": [
      {
       "latex": [
        "$$\\alpha \\alpha^{\\dagger}$$"
       ],
       "metadata": {},
       "output_type": "pyout",
       "png": "[encoded data removed]",
       "prompt_number": 73,
       "text": [
        "   \u2020\n",
        "\u03b1\u22c5\u03b1 "
       ]
      }
     ],
     "prompt_number": 73
    },
    {
     "cell_type": "code",
     "collapsed": false,
     "input": [
      "normal_ordered_form(a * Dagger(a))"
     ],
     "language": "python",
     "metadata": {},
     "outputs": [
      {
       "latex": [
        "$$1 + {{a}^\\dagger} {a}$$"
       ],
       "metadata": {},
       "output_type": "pyout",
       "png": "[encoded data removed]",
       "prompt_number": 74,
       "text": [
        "     \u2020  \n",
        "1 + a \u22c5a"
       ]
      }
     ],
     "prompt_number": 74
    },
    {
     "cell_type": "code",
     "collapsed": false,
     "input": [
      "qapply(bra * a * Dagger(a) * ket, dagger=True)"
     ],
     "language": "python",
     "metadata": {},
     "outputs": [
      {
       "latex": [
        "$${\\left\\langle \\beta\\right|} {a} {{a}^\\dagger} {\\left|\\alpha\\right\\rangle }$$"
       ],
       "metadata": {},
       "output_type": "pyout",
       "png": "[encoded data removed]",
       "prompt_number": 75,
       "text": [
        "       \u2020    \n",
        "\u27e8\u03b2\u2758\u22c5a\u22c5a \u22c5\u2758\u03b1\u27e9"
       ]
      }
     ],
     "prompt_number": 75
    },
    {
     "cell_type": "code",
     "collapsed": false,
     "input": [
      "qapply(bra * normal_ordered_form(a * Dagger(a)) * ket, dagger=True)"
     ],
     "language": "python",
     "metadata": {},
     "outputs": [
      {
       "latex": [
        "$$\\alpha e^{- \\frac{\\left\\lvert{\\alpha}\\right\\rvert^{2}}{2}} e^{- \\frac{\\left\\lvert{\\beta}\\right\\rvert^{2}}{2}} \\beta^{\\dagger} \\operatorname{transpose}{\\left (e^{\\alpha \\overline{\\beta}} \\right )} + e^{\\alpha \\overline{\\beta}} e^{- \\frac{\\left\\lvert{\\alpha}\\right\\rvert^{2}}{2}} e^{- \\frac{\\left\\lvert{\\beta}\\right\\rvert^{2}}{2}}$$"
       ],
       "metadata": {},
       "output_type": "pyout",
       "png": "[encoded data removed]",
       "prompt_number": 76,
       "text": [
        "       2       2                                 2       2 \n",
        "   -\u2502\u03b1\u2502    -\u2502\u03b2\u2502                              -\u2502\u03b1\u2502    -\u2502\u03b2\u2502  \n",
        "   \u2500\u2500\u2500\u2500\u2500\u2500  \u2500\u2500\u2500\u2500\u2500\u2500             \u239b   _\u239e      _  \u2500\u2500\u2500\u2500\u2500\u2500  \u2500\u2500\u2500\u2500\u2500\u2500\n",
        "     2       2     \u2020          \u239c \u03b1\u22c5\u03b2\u239f    \u03b1\u22c5\u03b2    2       2   \n",
        "\u03b1\u22c5\u212f      \u22c5\u212f      \u22c5\u03b2 \u22c5transpose\u239d\u212f   \u23a0 + \u212f   \u22c5\u212f      \u22c5\u212f      "
       ]
      }
     ],
     "prompt_number": 76
    },
    {
     "cell_type": "heading",
     "level": 3,
     "metadata": {},
     "source": [
      "Fermion Fock states"
     ]
    },
    {
     "cell_type": "code",
     "collapsed": false,
     "input": [
      "ket = FermionFockKet(1)\n",
      "\n",
      "ket"
     ],
     "language": "python",
     "metadata": {},
     "outputs": [
      {
       "latex": [
        "$${\\left|1\\right\\rangle }$$"
       ],
       "metadata": {},
       "output_type": "pyout",
       "png": "[encoded data removed]",
       "prompt_number": 77,
       "text": [
        "\u27581\u27e9"
       ]
      }
     ],
     "prompt_number": 77
    },
    {
     "cell_type": "code",
     "collapsed": false,
     "input": [
      "bra = FermionFockBra(0)\n",
      "\n",
      "bra"
     ],
     "language": "python",
     "metadata": {},
     "outputs": [
      {
       "latex": [
        "$${\\left\\langle 0\\right|}$$"
       ],
       "metadata": {},
       "output_type": "pyout",
       "png": "[encoded data removed]",
       "prompt_number": 78,
       "text": [
        "\u27e80\u2758"
       ]
      }
     ],
     "prompt_number": 78
    },
    {
     "cell_type": "code",
     "collapsed": false,
     "input": [
      "(bra * ket).doit()"
     ],
     "language": "python",
     "metadata": {},
     "outputs": [
      {
       "latex": [
        "$$0$$"
       ],
       "metadata": {},
       "output_type": "pyout",
       "png": "[encoded data removed]",
       "prompt_number": 79,
       "text": [
        "0"
       ]
      }
     ],
     "prompt_number": 79
    },
    {
     "cell_type": "code",
     "collapsed": false,
     "input": [
      "c * ket"
     ],
     "language": "python",
     "metadata": {},
     "outputs": [
      {
       "latex": [
        "$${c} {\\left|1\\right\\rangle }$$"
       ],
       "metadata": {},
       "output_type": "pyout",
       "png": "[encoded data removed]",
       "prompt_number": 80,
       "text": [
        "c\u22c5\u27581\u27e9"
       ]
      }
     ],
     "prompt_number": 80
    },
    {
     "cell_type": "code",
     "collapsed": false,
     "input": [
      "qapply(c * ket)"
     ],
     "language": "python",
     "metadata": {},
     "outputs": [
      {
       "latex": [
        "$${\\left|0\\right\\rangle }$$"
       ],
       "metadata": {},
       "output_type": "pyout",
       "png": "[encoded data removed]",
       "prompt_number": 81,
       "text": [
        "\u27580\u27e9"
       ]
      }
     ],
     "prompt_number": 81
    },
    {
     "cell_type": "code",
     "collapsed": false,
     "input": [
      "qapply(c * c * ket)"
     ],
     "language": "python",
     "metadata": {},
     "outputs": [
      {
       "latex": [
        "$$0$$"
       ],
       "metadata": {},
       "output_type": "pyout",
       "png": "[encoded data removed]",
       "prompt_number": 82,
       "text": [
        "0"
       ]
      }
     ],
     "prompt_number": 82
    },
    {
     "cell_type": "code",
     "collapsed": false,
     "input": [
      "qapply(Dagger(c) * ket)"
     ],
     "language": "python",
     "metadata": {},
     "outputs": [
      {
       "latex": [
        "$$0$$"
       ],
       "metadata": {},
       "output_type": "pyout",
       "png": "[encoded data removed]",
       "prompt_number": 83,
       "text": [
        "0"
       ]
      }
     ],
     "prompt_number": 83
    },
    {
     "cell_type": "code",
     "collapsed": false,
     "input": [
      "qapply(Dagger(c) * c * ket)"
     ],
     "language": "python",
     "metadata": {},
     "outputs": [
      {
       "latex": [
        "$${\\left|1\\right\\rangle }$$"
       ],
       "metadata": {},
       "output_type": "pyout",
       "png": "[encoded data removed]",
       "prompt_number": 84,
       "text": [
        "\u27581\u27e9"
       ]
      }
     ],
     "prompt_number": 84
    },
    {
     "cell_type": "code",
     "collapsed": false,
     "input": [
      "Dagger(c) * c"
     ],
     "language": "python",
     "metadata": {},
     "outputs": [
      {
       "latex": [
        "$${{c}^\\dagger} {c}$$"
       ],
       "metadata": {},
       "output_type": "pyout",
       "png": "[encoded data removed]",
       "prompt_number": 85,
       "text": [
        " \u2020  \n",
        "c \u22c5c"
       ]
      }
     ],
     "prompt_number": 85
    },
    {
     "cell_type": "code",
     "collapsed": false,
     "input": [
      "qapply(Dagger(ket) * Dagger(c) * c * ket).doit()"
     ],
     "language": "python",
     "metadata": {},
     "outputs": [
      {
       "latex": [
        "$$1$$"
       ],
       "metadata": {},
       "output_type": "pyout",
       "png": "[encoded data removed]",
       "prompt_number": 86,
       "text": [
        "1"
       ]
      }
     ],
     "prompt_number": 86
    },
    {
     "cell_type": "code",
     "collapsed": false,
     "input": [
      "qapply(bra * Dagger(c) * c * Dagger(bra)).doit()"
     ],
     "language": "python",
     "metadata": {},
     "outputs": [
      {
       "latex": [
        "$$0$$"
       ],
       "metadata": {},
       "output_type": "pyout",
       "png": "[encoded data removed]",
       "prompt_number": 87,
       "text": [
        "0"
       ]
      }
     ],
     "prompt_number": 87
    },
    {
     "cell_type": "heading",
     "level": 2,
     "metadata": {},
     "source": [
      "TensorProduct spaces"
     ]
    },
    {
     "cell_type": "code",
     "collapsed": false,
     "input": [
      "I2 = TensorProduct(IdentityOperator(), IdentityOperator())\n",
      "\n",
      "I2"
     ],
     "language": "python",
     "metadata": {},
     "outputs": [
      {
       "latex": [
        "$${{\\mathcal{I}}}\\otimes {{\\mathcal{I}}}$$"
       ],
       "metadata": {},
       "output_type": "pyout",
       "png": "[encoded data removed]",
       "prompt_number": 88,
       "text": [
        "I\u2a02 I"
       ]
      }
     ],
     "prompt_number": 88
    },
    {
     "cell_type": "code",
     "collapsed": false,
     "input": [
      "psi = TensorProduct(BosonFockKet(1),BosonFockKet(2))\n",
      "\n",
      "psi"
     ],
     "language": "python",
     "metadata": {},
     "outputs": [
      {
       "latex": [
        "$${{\\left|1\\right\\rangle }}\\otimes {{\\left|2\\right\\rangle }}$$"
       ],
       "metadata": {},
       "output_type": "pyout",
       "png": "[encoded data removed]",
       "prompt_number": 89,
       "text": [
        "\u27581\u27e9\u2a02 \u27582\u27e9"
       ]
      }
     ],
     "prompt_number": 89
    },
    {
     "cell_type": "code",
     "collapsed": false,
     "input": [
      "I2 * psi"
     ],
     "language": "python",
     "metadata": {},
     "outputs": [
      {
       "latex": [
        "$${{\\mathcal{I}}}\\otimes {{\\mathcal{I}}} {{\\left|1\\right\\rangle }}\\otimes {{\\left|2\\right\\rangle }}$$"
       ],
       "metadata": {},
       "output_type": "pyout",
       "png": "[encoded data removed]",
       "prompt_number": 90,
       "text": [
        "I\u2a02 I\u22c5\u27581\u27e9\u2a02 \u27582\u27e9"
       ]
      }
     ],
     "prompt_number": 90
    },
    {
     "cell_type": "code",
     "collapsed": false,
     "input": [
      "qapply(I2 * psi)"
     ],
     "language": "python",
     "metadata": {},
     "outputs": [
      {
       "latex": [
        "$${{\\left|1\\right\\rangle }}\\otimes {{\\left|2\\right\\rangle }}$$"
       ],
       "metadata": {},
       "output_type": "pyout",
       "png": "[encoded data removed]",
       "prompt_number": 91,
       "text": [
        "\u27581\u27e9\u2a02 \u27582\u27e9"
       ]
      }
     ],
     "prompt_number": 91
    },
    {
     "cell_type": "code",
     "collapsed": false,
     "input": [
      "a1 = TensorProduct(BosonOp(\"a\"), IdentityOperator())\n",
      "a2 = TensorProduct(IdentityOperator(), BosonOp(\"a\"))\n",
      "\n",
      "a1, a2"
     ],
     "language": "python",
     "metadata": {},
     "outputs": [
      {
       "latex": [
        "$$\\begin{pmatrix}{{a}}\\otimes {{\\mathcal{I}}}, & {{\\mathcal{I}}}\\otimes {{a}}\\end{pmatrix}$$"
       ],
       "metadata": {},
       "output_type": "pyout",
       "png": "[encoded data removed]",
       "prompt_number": 93,
       "text": [
        "(a\u2a02 I, I\u2a02 a)"
       ]
      }
     ],
     "prompt_number": 93
    },
    {
     "cell_type": "code",
     "collapsed": false,
     "input": [
      "a1 * psi"
     ],
     "language": "python",
     "metadata": {},
     "outputs": [
      {
       "latex": [
        "$${{a}}\\otimes {{\\mathcal{I}}} {{\\left|1\\right\\rangle }}\\otimes {{\\left|2\\right\\rangle }}$$"
       ],
       "metadata": {},
       "output_type": "pyout",
       "png": "[encoded data removed]",
       "prompt_number": 94,
       "text": [
        "a\u2a02 I\u22c5\u27581\u27e9\u2a02 \u27582\u27e9"
       ]
      }
     ],
     "prompt_number": 94
    },
    {
     "cell_type": "code",
     "collapsed": false,
     "input": [
      "psi1 = qapply(a1 * psi)\n",
      "\n",
      "psi1"
     ],
     "language": "python",
     "metadata": {},
     "outputs": [
      {
       "latex": [
        "$${{\\left|0\\right\\rangle }}\\otimes {{\\left|2\\right\\rangle }}$$"
       ],
       "metadata": {},
       "output_type": "pyout",
       "png": "[encoded data removed]",
       "prompt_number": 95,
       "text": [
        "\u27580\u27e9\u2a02 \u27582\u27e9"
       ]
      }
     ],
     "prompt_number": 95
    },
    {
     "cell_type": "code",
     "collapsed": false,
     "input": [
      "psi2 = qapply(a2 * psi)\n",
      "\n",
      "psi2"
     ],
     "language": "python",
     "metadata": {},
     "outputs": [
      {
       "latex": [
        "$$\\sqrt{2} {{\\left|1\\right\\rangle }}\\otimes {{\\left|1\\right\\rangle }}$$"
       ],
       "metadata": {},
       "output_type": "pyout",
       "png": "[encoded data removed]",
       "prompt_number": 96,
       "text": [
        "  ___         \n",
        "\u2572\u2571 2 \u22c5\u27581\u27e9\u2a02 \u27581\u27e9"
       ]
      }
     ],
     "prompt_number": 96
    },
    {
     "cell_type": "code",
     "collapsed": false,
     "input": [
      "qapply(Dagger(psi1) * psi2).doit()"
     ],
     "language": "python",
     "metadata": {},
     "outputs": [
      {
       "latex": [
        "$$0$$"
       ],
       "metadata": {},
       "output_type": "pyout",
       "png": "[encoded data removed]",
       "prompt_number": 97,
       "text": [
        "0"
       ]
      }
     ],
     "prompt_number": 97
    },
    {
     "cell_type": "code",
     "collapsed": false,
     "input": [
      "qapply(Dagger(psi2) * psi2).doit()"
     ],
     "language": "python",
     "metadata": {},
     "outputs": [
      {
       "latex": [
        "$$2 \\cdot {1}\\otimes {1}$$"
       ],
       "metadata": {},
       "output_type": "pyout",
       "png": "[encoded data removed]",
       "prompt_number": 98,
       "text": [
        "2\u22c51\u2a02 1"
       ]
      }
     ],
     "prompt_number": 98
    },
    {
     "cell_type": "code",
     "collapsed": false,
     "input": [
      "e = TensorProduct(IdentityOperator(), BosonFockKet(1))\n",
      "\n",
      "e"
     ],
     "language": "python",
     "metadata": {},
     "outputs": [
      {
       "latex": [
        "$${{\\mathcal{I}}}\\otimes {{\\left|1\\right\\rangle }}$$"
       ],
       "metadata": {},
       "output_type": "pyout",
       "png": "[encoded data removed]",
       "prompt_number": 99,
       "text": [
        "I\u2a02 \u27581\u27e9"
       ]
      }
     ],
     "prompt_number": 99
    },
    {
     "cell_type": "code",
     "collapsed": false,
     "input": [
      "qapply(Dagger(psi2) * e).doit()"
     ],
     "language": "python",
     "metadata": {},
     "outputs": [
      {
       "latex": [
        "$$\\sqrt{2} {{\\left\\langle 1\\right|}}\\otimes {1}$$"
       ],
       "metadata": {},
       "output_type": "pyout",
       "png": "[encoded data removed]",
       "prompt_number": 100,
       "text": [
        "  ___       \n",
        "\u2572\u2571 2 \u22c5\u27e81\u2758\u2a02 1"
       ]
      }
     ],
     "prompt_number": 100
    },
    {
     "cell_type": "code",
     "collapsed": false,
     "input": [
      "qapply(qapply(Dagger(psi2) * e) * TensorProduct(BosonFockKet(1), IdentityOperator())).doit()"
     ],
     "language": "python",
     "metadata": {},
     "outputs": [
      {
       "latex": [
        "$$\\sqrt{2} \\cdot {1}\\otimes {{\\mathcal{I}}}$$"
       ],
       "metadata": {},
       "output_type": "pyout",
       "png": "[encoded data removed]",
       "prompt_number": 101,
       "text": [
        "  ___     \n",
        "\u2572\u2571 2 \u22c51\u2a02 I"
       ]
      }
     ],
     "prompt_number": 101
    },
    {
     "cell_type": "code",
     "collapsed": false,
     "input": [
      "bra = TensorProduct(BosonFockBra(1),BosonFockBra(2))\n",
      "ket = TensorProduct(BosonFockKet(1),BosonFockKet(2))"
     ],
     "language": "python",
     "metadata": {},
     "outputs": [],
     "prompt_number": 102
    },
    {
     "cell_type": "code",
     "collapsed": false,
     "input": [
      "qapply(bra * ket).doit()"
     ],
     "language": "python",
     "metadata": {},
     "outputs": [
      {
       "latex": [
        "$${1}\\otimes {1}$$"
       ],
       "metadata": {},
       "output_type": "pyout",
       "png": "[encoded data removed]",
       "prompt_number": 103,
       "text": [
        "1\u2a02 1"
       ]
      }
     ],
     "prompt_number": 103
    },
    {
     "cell_type": "code",
     "collapsed": false,
     "input": [
      "e = qapply(qapply(TensorProduct(IdentityOperator(), BosonCoherentBra(2)) * \n",
      "       TensorProduct(a, normal_ordered_form(Dagger(b)*b*Dagger(b)*b)) * \n",
      "       TensorProduct(IdentityOperator(), BosonCoherentKet(2))))\n",
      "\n",
      "e"
     ],
     "language": "python",
     "metadata": {},
     "outputs": [
      {
       "latex": [
        "$$2 {{a}}\\otimes \\left({{\\left\\langle 2\\right|} {{b}^\\dagger} {\\left|2\\right\\rangle }}\\right) + 4 {{a}}\\otimes \\left({{\\left\\langle 2\\right|} \\left({{b}^\\dagger}\\right)^{2} {\\left|2\\right\\rangle }}\\right)$$"
       ],
       "metadata": {},
       "output_type": "pyout",
       "png": "[encoded data removed]",
       "prompt_number": 104,
       "text": [
        "                         \u239b        2    \u239e\n",
        "     \u239b     \u2020    \u239e        \u239c    \u239b \u2020\u239e     \u239f\n",
        "2\u22c5a\u2a02 \u239d\u27e82\u2758\u22c5b \u22c5\u27582\u27e9\u23a0 + 4\u22c5a\u2a02 \u239d\u27e82\u2758\u22c5\u239db \u23a0 \u22c5\u27582\u27e9\u23a0"
       ]
      }
     ],
     "prompt_number": 104
    },
    {
     "cell_type": "code",
     "collapsed": false,
     "input": [
      "ket = TensorProduct(IdentityOperator(), BosonFockKet(2))\n",
      "bra = Dagger(ket)\n",
      "\n",
      "qapply(qapply(bra * TensorProduct(a, normal_ordered_form(Dagger(b)*b*Dagger(b)*b)) * ket)).doit()"
     ],
     "language": "python",
     "metadata": {},
     "outputs": [
      {
       "latex": [
        "$$4 {{a}}\\otimes {1}$$"
       ],
       "metadata": {},
       "output_type": "pyout",
       "png": "[encoded data removed]",
       "prompt_number": 105,
       "text": [
        "4\u22c5a\u2a02 1"
       ]
      }
     ],
     "prompt_number": 105
    },
    {
     "cell_type": "heading",
     "level": 2,
     "metadata": {},
     "source": [
      "Versions"
     ]
    },
    {
     "cell_type": "code",
     "collapsed": false,
     "input": [
      "#%install_ext http://raw.github.com/jrjohansson/version_information/master/version_information.py\n",
      "%reload_ext version_information\n",
      "\n",
      "%version_information sympy"
     ],
     "language": "python",
     "metadata": {},
     "outputs": [
      {
       "html": [
        "<table><tr><th>Software</th><th>Version</th></tr><tr><td>Python</td><td>3.4.1 (default, May 21 2014, 01:39:38) [GCC 4.2.1 Compatible Apple LLVM 5.1 (clang-503.0.40)]</td></tr><tr><td>IPython</td><td>2.1.0</td></tr><tr><td>OS</td><td>posix [darwin]</td></tr><tr><td>sympy</td><td>0.7.4.1-git</td></tr><tr><td colspan='2'>Thu Jun 05 15:32:12 2014 JST</td></tr></table>"
       ],
       "json": [
        "{ \"Software versions\" : [{ \"module\" : \"Python\", \"version\" : \"3.4.1 (default, May 21 2014, 01:39:38) [GCC 4.2.1 Compatible Apple LLVM 5.1 (clang-503.0.40)]\" }, { \"module\" : \"IPython\", \"version\" : \"2.1.0\" }, { \"module\" : \"OS\", \"version\" : \"posix [darwin]\" }, { \"module\" : \"sympy\", \"version\" : \"0.7.4.1-git\" } ] }"
       ],
       "latex": [
        "\\begin{tabular}{|l|l|}\\hline\n",
        "{\\bf Software} & {\\bf Version} \\\\ \\hline\\hline\n",
        "Python & 3.4.1 (default, May 21 2014, 01:39:38) [GCC 4.2.1 Compatible Apple LLVM 5.1 (clang-503.0.40)] \\\\ \\hline\n",
        "IPython & 2.1.0 \\\\ \\hline\n",
        "OS & posix [darwin] \\\\ \\hline\n",
        "sympy & 0.7.4.1-git \\\\ \\hline\n",
        "\\hline \\multicolumn{2}{|l|}{Thu Jun 05 15:32:12 2014 JST} \\\\ \\hline\n",
        "\\end{tabular}\n"
       ],
       "metadata": {},
       "output_type": "pyout",
       "prompt_number": 106,
       "text": [
        "Software versions\n",
        "Python 3.4.1 (default, May 21 2014, 01:39:38) [GCC 4.2.1 Compatible Apple LLVM 5.1 (clang-503.0.40)]\n",
        "IPython 2.1.0\n",
        "OS posix [darwin]\n",
        "sympy 0.7.4.1-git\n",
        "\n",
        "Thu Jun 05 15:32:12 2014 JST"
       ]
      }
     ],
     "prompt_number": 106
    }
   ],
   "metadata": {}
  }
 ]
}