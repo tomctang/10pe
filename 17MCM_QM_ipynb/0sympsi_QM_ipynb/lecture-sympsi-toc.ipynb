{
 "metadata": {
  "name": "",
  "signature": "sha256:12011bdddc4d8145eea326743047540e9f4ff1560d7547867e767f9344b173d4"
 },
 "nbformat": 3,
 "nbformat_minor": 0,
 "worksheets": [
  {
   "cells": [
    {
     "cell_type": "heading",
     "level": 1,
     "metadata": {},
     "source": [
      "Lectures - Symbolic quantum mechanics with SymPsi - Table of content"
     ]
    },
    {
     "cell_type": "markdown",
     "metadata": {},
     "source": [
      "Author: J. R. Johansson (robert@riken.jp), [http://jrjohansson.github.io](http://jrjohansson.github.io).\n",
      "\n",
      "Status: Preliminary (work in progress)\n",
      "\n",
      "This notebook is part of a series of IPython notebooks on symbolic quantum mechanics computations using \n",
      "[SymPy](http://sympy.org) and [SymPsi](http://www.github.com/jrjohansson/sympsi). SymPsi is an experimental fork and extension of the [`sympy.physics.quantum`](http://docs.sympy.org/dev/modules/physics/quantum/) module in SymPy. The latest version of this notebook is available at [http://github.com/jrjohansson/sympy-quantum-notebooks](http://github.com/jrjohansson/sympy-quantum-notebooks), and the other notebooks in this lecture series are also indexed at [http://jrjohansson.github.io](http://jrjohansson.github.com).\n",
      "\n",
      "Requirements: A recent version of SymPy and the latest development version of SymPsi is required to execute this notebook. Instructions for how to install SymPsi is available [here](http://www.github.com/jrjohansson/sympsi).\n",
      "\n",
      "Disclaimer: The SymPsi module is still under active development and may change in behavior without notice, and the intention is to move some of its features to [`sympy.physics.quantum`](http://docs.sympy.org/dev/modules/physics/quantum/) when they matured and have been tested. However, these notebooks will be kept up-to-date the latest versions of SymPy and SymPsi."
     ]
    },
    {
     "cell_type": "heading",
     "level": 2,
     "metadata": {},
     "source": [
      "About these notebooks"
     ]
    },
    {
     "cell_type": "markdown",
     "metadata": {},
     "source": [
      "These notebooks are vaguely written in the form of lecture notes. However, the point of these notebooks is not to give an introduction to quantum mechanics or even the topics covered by the notebooks, but rather demonstrate how analytical calculations that are often necessary when working with these quantum mechanical systems can be carried out symbolically. "
     ]
    },
    {
     "cell_type": "heading",
     "level": 2,
     "metadata": {},
     "source": [
      "Table of content"
     ]
    },
    {
     "cell_type": "markdown",
     "metadata": {},
     "source": [
      " * [Basics](lecture-sympsi-basics.ipynb)\n",
      "   * About SymPy and the SymPsi module\n",
      "   * Getting started\n",
      " * [Two-level systems](lecture-sympsi-two-level-system.ipynb)\n",
      "   * Eigenbasis\n",
      " * [Resonators and cavities](lecture-sympsi-resonator.ipynb)\n",
      "   * Classical driving fields\n",
      "   * Rotating frames and the rotating-wave approximation\n",
      "   * Optical parametric oscillator\n",
      " * [Atom and cavity](lecture-sympsi-atom-cavity.ipynb)\n",
      "   * The Jaynes-Cumming model\n",
      "   * Dispersive regime\n",
      " * [Optomechanics](lecture-sympsi-optomechanics.ipynb)\n",
      "   * Linear regime\n",
      "     * Red sideband\n",
      "     * Blue sideband\n",
      "   * Kerr effect and photon blockade\n",
      " * Input/Output theory\n",
      "   * Quantum Langevin equation\n",
      "   * One-sided cavity\n",
      " * Master equations\n",
      "   * Adjoint master equation\n",
      " * [Semiclassical equations of motion](lecture-sympsi-semiclassical-eqm.ipynb)\n",
      " * Composite systems"
     ]
    }
   ],
   "metadata": {}
  }
 ]
}