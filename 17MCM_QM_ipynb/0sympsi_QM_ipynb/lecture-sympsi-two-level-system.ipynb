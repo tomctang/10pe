{
 "metadata": {
  "name": "",
  "signature": "sha256:89eef5791e03ca861ed86352508b8eb6404e414f65fd6280db2fb0f5edb29488"
 },
 "nbformat": 3,
 "nbformat_minor": 0,
 "worksheets": [
  {
   "cells": [
    {
     "cell_type": "heading",
     "level": 1,
     "metadata": {},
     "source": [
      "Lecture 2 - Symbolic quantum mechanics using SymPsi - Two-level systems"
     ]
    },
    {
     "cell_type": "markdown",
     "metadata": {},
     "source": [
      "Author: J. R. Johansson (robert@riken.jp), [http://jrjohansson.github.io](http://jrjohansson.github.io).\n",
      "\n",
      "Status: Preliminary (work in progress)\n",
      "\n",
      "This notebook is part of a series of IPython notebooks on symbolic quantum mechanics computations using \n",
      "[SymPy](http://sympy.org) and [SymPsi](http://www.github.com/jrjohansson/sympsi). SymPsi is an experimental fork and extension of the [`sympy.physics.quantum`](http://docs.sympy.org/dev/modules/physics/quantum/) module in SymPy. The latest version of this notebook is available at [http://github.com/jrjohansson/sympy-quantum-notebooks](http://github.com/jrjohansson/sympy-quantum-notebooks), and the other notebooks in this lecture series are also indexed at [http://jrjohansson.github.io](http://jrjohansson.github.com).\n",
      "\n",
      "Requirements: A recent version of SymPy and the latest development version of SymPsi is required to execute this notebook. Instructions for how to install SymPsi is available [here](http://www.github.com/jrjohansson/sympsi).\n",
      "\n",
      "Disclaimer: The SymPsi module is still under active development and may change in behavior without notice, and the intention is to move some of its features to [`sympy.physics.quantum`](http://docs.sympy.org/dev/modules/physics/quantum/) when they matured and have been tested. However, these notebooks will be kept up-to-date the latest versions of SymPy and SymPsi."
     ]
    },
    {
     "cell_type": "heading",
     "level": 2,
     "metadata": {},
     "source": [
      "Setup modules"
     ]
    },
    {
     "cell_type": "code",
     "collapsed": false,
     "input": [
      "from sympy import *\n",
      "init_printing()"
     ],
     "language": "python",
     "metadata": {},
     "outputs": [],
     "prompt_number": 1
    },
    {
     "cell_type": "code",
     "collapsed": false,
     "input": [
      "from sympsi import *\n",
      "from sympsi.pauli import *"
     ],
     "language": "python",
     "metadata": {},
     "outputs": [],
     "prompt_number": 2
    },
    {
     "cell_type": "heading",
     "level": 2,
     "metadata": {},
     "source": [
      "Introduction: Hamiltonian and Pauli matrices"
     ]
    },
    {
     "cell_type": "markdown",
     "metadata": {},
     "source": [
      "One of the simplest possible quantum system is the two-level system, such as a spin-$1/2$, or an atom or artificial-atom (nano-device) with (effectively) only two quantum states. \n",
      "\n",
      "The Hamiltonian for a two-level quantum system is conveniently written in terms of the [Pauli matrices](http://en.wikipedia.org/wiki/Pauli_matrices) $\\sigma_x$, $\\sigma_y$ and $\\sigma_z$, and their annihilation and creation operators $\\sigma_-$ and $\\sigma_+$. In terms of these operators we can write the Hamiltonian on the form:\n",
      "\n",
      "$$\n",
      "H = -\\frac{1}{2}\\Delta\\sigma_x - \\frac{1}{2}\\epsilon\\sigma_z \n",
      "$$\n",
      "\n",
      "where $\\epsilon$ is the bare energy splitting and $\\Delta$ is the tunneling rate between the two states of the two-level system.\n",
      "\n",
      "In SymPy we can represent this Hamiltonian as:"
     ]
    },
    {
     "cell_type": "code",
     "collapsed": false,
     "input": [
      "theta, t = symbols(\"theta, t\")\n",
      "eps, Delta, Omega = symbols(\"epsilon, Delta, Omega\", positive=True)\n",
      "Hsym = symbols(\"H\")"
     ],
     "language": "python",
     "metadata": {},
     "outputs": [],
     "prompt_number": 3
    },
    {
     "cell_type": "code",
     "collapsed": false,
     "input": [
      "sx, sy, sz = SigmaX(), SigmaY(), SigmaZ()"
     ],
     "language": "python",
     "metadata": {},
     "outputs": [],
     "prompt_number": 4
    },
    {
     "cell_type": "code",
     "collapsed": false,
     "input": [
      "H = -eps/2 * sz - Delta/2 * sx\n",
      "\n",
      "Eq(Hsym, H)"
     ],
     "language": "python",
     "metadata": {},
     "outputs": [
      {
       "latex": [
        "$$H = - \\frac{\\Delta {\\sigma_x}}{2} - \\frac{\\epsilon {\\sigma_z}}{2}$$"
       ],
       "metadata": {},
       "output_type": "pyout",
       "png": "[encoded data removed]",
       "prompt_number": 5,
       "text": [
        "      \u0394\u22c5False   \u03b5\u22c5False\n",
        "H = - \u2500\u2500\u2500\u2500\u2500\u2500\u2500 - \u2500\u2500\u2500\u2500\u2500\u2500\u2500\n",
        "         2         2   "
       ]
      }
     ],
     "prompt_number": 5
    },
    {
     "cell_type": "heading",
     "level": 2,
     "metadata": {},
     "source": [
      "Instantaneous eigenbasis"
     ]
    },
    {
     "cell_type": "markdown",
     "metadata": {},
     "source": [
      "Is often convenient to perform basis transformation that simplifies the Hamiltonian. For example, we can transform the Hamiltonian to the eigenbasis (where the Hamiltonian is diagonal, that is only containing a $\\sigma_z$ term) by applying the unitary tranformation:"
     ]
    },
    {
     "cell_type": "code",
     "collapsed": false,
     "input": [
      "U = exp(I * theta/2 * sy); U"
     ],
     "language": "python",
     "metadata": {},
     "outputs": [
      {
       "latex": [
        "$$e^{\\frac{i \\theta}{2} {\\sigma_y}}$$"
       ],
       "metadata": {},
       "output_type": "pyout",
       "png": "[encoded data removed]",
       "prompt_number": 6,
       "text": [
        " \u2148\u22c5\u03b8\u22c5False\n",
        " \u2500\u2500\u2500\u2500\u2500\u2500\u2500\u2500\u2500\n",
        "     2    \n",
        "\u212f         "
       ]
      }
     ],
     "prompt_number": 6
    },
    {
     "cell_type": "markdown",
     "metadata": {},
     "source": [
      "This unitary tranformation transforms the operators in the Hamiltonian according to these well-known relations:"
     ]
    },
    {
     "cell_type": "code",
     "collapsed": false,
     "input": [
      "hamiltonian_transformation(U, sx)"
     ],
     "language": "python",
     "metadata": {},
     "outputs": [
      {
       "latex": [
        "$$\\sin{\\left (\\theta \\right )} {\\sigma_z} + \\cos{\\left (\\theta \\right )} {\\sigma_x}$$"
       ],
       "metadata": {},
       "output_type": "pyout",
       "png": "[encoded data removed]",
       "prompt_number": 7,
       "text": [
        "sin(\u03b8)\u22c5False + cos(\u03b8)\u22c5False"
       ]
      }
     ],
     "prompt_number": 7
    },
    {
     "cell_type": "code",
     "collapsed": false,
     "input": [
      "hamiltonian_transformation(U, sz)"
     ],
     "language": "python",
     "metadata": {},
     "outputs": [
      {
       "latex": [
        "$$- \\sin{\\left (\\theta \\right )} {\\sigma_x} + \\cos{\\left (\\theta \\right )} {\\sigma_z}$$"
       ],
       "metadata": {},
       "output_type": "pyout",
       "png": "[encoded data removed]",
       "prompt_number": 8,
       "text": [
        "-sin(\u03b8)\u22c5False + cos(\u03b8)\u22c5False"
       ]
      }
     ],
     "prompt_number": 8
    },
    {
     "cell_type": "markdown",
     "metadata": {},
     "source": [
      "so the Hamiltonian after this transformation takes the form "
     ]
    },
    {
     "cell_type": "code",
     "collapsed": false,
     "input": [
      "H1 = hamiltonian_transformation(U, H)\n",
      "\n",
      "H1"
     ],
     "language": "python",
     "metadata": {},
     "outputs": [
      {
       "latex": [
        "$$- \\frac{\\Delta}{2} \\left(\\sin{\\left (\\theta \\right )} {\\sigma_z} + \\cos{\\left (\\theta \\right )} {\\sigma_x}\\right) - \\frac{\\epsilon}{2} \\left(- \\sin{\\left (\\theta \\right )} {\\sigma_x} + \\cos{\\left (\\theta \\right )} {\\sigma_z}\\right)$$"
       ],
       "metadata": {},
       "output_type": "pyout",
       "png": "[encoded data removed]",
       "prompt_number": 9,
       "text": [
        "  \u0394\u22c5(sin(\u03b8)\u22c5False + cos(\u03b8)\u22c5False)   \u03b5\u22c5(-sin(\u03b8)\u22c5False + cos(\u03b8)\u22c5False)\n",
        "- \u2500\u2500\u2500\u2500\u2500\u2500\u2500\u2500\u2500\u2500\u2500\u2500\u2500\u2500\u2500\u2500\u2500\u2500\u2500\u2500\u2500\u2500\u2500\u2500\u2500\u2500\u2500\u2500\u2500\u2500\u2500 - \u2500\u2500\u2500\u2500\u2500\u2500\u2500\u2500\u2500\u2500\u2500\u2500\u2500\u2500\u2500\u2500\u2500\u2500\u2500\u2500\u2500\u2500\u2500\u2500\u2500\u2500\u2500\u2500\u2500\u2500\u2500\u2500\n",
        "                 2                                 2                "
       ]
      }
     ],
     "prompt_number": 9
    },
    {
     "cell_type": "code",
     "collapsed": false,
     "input": [
      "H2 = collect(H1.expand(), (sx, sz))\n",
      "\n",
      "H2"
     ],
     "language": "python",
     "metadata": {},
     "outputs": [
      {
       "latex": [
        "$$\\left(- \\frac{\\Delta}{2} \\sin{\\left (\\theta \\right )} - \\frac{\\epsilon}{2} \\cos{\\left (\\theta \\right )}\\right) {\\sigma_z} + \\left(- \\frac{\\Delta}{2} \\cos{\\left (\\theta \\right )} + \\frac{\\epsilon}{2} \\sin{\\left (\\theta \\right )}\\right) {\\sigma_x}$$"
       ],
       "metadata": {},
       "output_type": "pyout",
       "png": "[encoded data removed]",
       "prompt_number": 10,
       "text": [
        "\u239b  \u0394\u22c5sin(\u03b8)   \u03b5\u22c5cos(\u03b8)\u239e         \u239b  \u0394\u22c5cos(\u03b8)   \u03b5\u22c5sin(\u03b8)\u239e      \n",
        "\u239c- \u2500\u2500\u2500\u2500\u2500\u2500\u2500\u2500 - \u2500\u2500\u2500\u2500\u2500\u2500\u2500\u2500\u239f\u22c5False + \u239c- \u2500\u2500\u2500\u2500\u2500\u2500\u2500\u2500 + \u2500\u2500\u2500\u2500\u2500\u2500\u2500\u2500\u239f\u22c5False\n",
        "\u239d     2          2    \u23a0         \u239d     2          2    \u23a0      "
       ]
      }
     ],
     "prompt_number": 10
    },
    {
     "cell_type": "markdown",
     "metadata": {},
     "source": [
      "In the eigenbasis we require the coefficient of $\\sigma_x$ to be zero, so we have the condition:"
     ]
    },
    {
     "cell_type": "code",
     "collapsed": false,
     "input": [
      "c, o = split_coeff_operator(H2.args[0])\n",
      "\n",
      "Eq(c, 0)"
     ],
     "language": "python",
     "metadata": {},
     "outputs": [
      {
       "latex": [
        "$$- \\frac{\\Delta}{2} \\cos{\\left (\\theta \\right )} + \\frac{\\epsilon}{2} \\sin{\\left (\\theta \\right )} = 0$$"
       ],
       "metadata": {},
       "output_type": "pyout",
       "png": "[encoded data removed]",
       "prompt_number": 11,
       "text": [
        "  \u0394\u22c5cos(\u03b8)   \u03b5\u22c5sin(\u03b8)    \n",
        "- \u2500\u2500\u2500\u2500\u2500\u2500\u2500\u2500 + \u2500\u2500\u2500\u2500\u2500\u2500\u2500\u2500 = 0\n",
        "     2          2        "
       ]
      }
     ],
     "prompt_number": 11
    },
    {
     "cell_type": "markdown",
     "metadata": {},
     "source": [
      "with the solution"
     ]
    },
    {
     "cell_type": "code",
     "collapsed": false,
     "input": [
      "Eq(tan(theta), Delta/eps)"
     ],
     "language": "python",
     "metadata": {},
     "outputs": [
      {
       "latex": [
        "$$\\tan{\\left (\\theta \\right )} = \\frac{\\Delta}{\\epsilon}$$"
       ],
       "metadata": {},
       "output_type": "pyout",
       "png": "[encoded data removed]",
       "prompt_number": 12,
       "text": [
        "         \u0394\n",
        "tan(\u03b8) = \u2500\n",
        "         \u03b5"
       ]
      }
     ],
     "prompt_number": 12
    },
    {
     "cell_type": "markdown",
     "metadata": {},
     "source": [
      "Substituting this into the Hamiltonian results in "
     ]
    },
    {
     "cell_type": "code",
     "collapsed": false,
     "input": [
      "H3 = simplify(H2.subs(theta, atan(Delta/eps)))\n",
      "\n",
      "H3"
     ],
     "language": "python",
     "metadata": {},
     "outputs": [
      {
       "latex": [
        "$$- \\frac{{\\sigma_z}}{2} \\sqrt{\\Delta^{2} + \\epsilon^{2}}$$"
       ],
       "metadata": {},
       "output_type": "pyout",
       "png": "[encoded data removed]",
       "prompt_number": 13,
       "text": [
        "    _________       \n",
        "   \u2571  2    2        \n",
        "-\u2572\u2571  \u0394  + \u03b5  \u22c5False \n",
        "\u2500\u2500\u2500\u2500\u2500\u2500\u2500\u2500\u2500\u2500\u2500\u2500\u2500\u2500\u2500\u2500\u2500\u2500\u2500\u2500\n",
        "         2          "
       ]
      }
     ],
     "prompt_number": 13
    },
    {
     "cell_type": "markdown",
     "metadata": {},
     "source": [
      "Now introduce $\\Omega = \\sqrt{\\Delta^2 + \\epsilon^2}$, which is the eigenenergies of the two-level system:"
     ]
    },
    {
     "cell_type": "code",
     "collapsed": false,
     "input": [
      "H3.subs(Delta, sqrt(Omega ** 2 - eps ** 2))"
     ],
     "language": "python",
     "metadata": {},
     "outputs": [
      {
       "latex": [
        "$$- \\frac{\\Omega {\\sigma_z}}{2}$$"
       ],
       "metadata": {},
       "output_type": "pyout",
       "png": "[encoded data removed]",
       "prompt_number": 14,
       "text": [
        "-\u03a9\u22c5False \n",
        "\u2500\u2500\u2500\u2500\u2500\u2500\u2500\u2500\u2500\n",
        "    2    "
       ]
      }
     ],
     "prompt_number": 14
    },
    {
     "cell_type": "markdown",
     "metadata": {},
     "source": [
      "In summary, to reach this basis, we have transformed $\\sigma_x$ and $\\sigma_z$ as:"
     ]
    },
    {
     "cell_type": "code",
     "collapsed": false,
     "input": [
      "hamiltonian_transformation(U, sx)"
     ],
     "language": "python",
     "metadata": {},
     "outputs": [
      {
       "latex": [
        "$$\\sin{\\left (\\theta \\right )} {\\sigma_z} + \\cos{\\left (\\theta \\right )} {\\sigma_x}$$"
       ],
       "metadata": {},
       "output_type": "pyout",
       "png": "[encoded data removed]",
       "prompt_number": 15,
       "text": [
        "sin(\u03b8)\u22c5False + cos(\u03b8)\u22c5False"
       ]
      }
     ],
     "prompt_number": 15
    },
    {
     "cell_type": "code",
     "collapsed": false,
     "input": [
      "hamiltonian_transformation(U, sz)"
     ],
     "language": "python",
     "metadata": {},
     "outputs": [
      {
       "latex": [
        "$$- \\sin{\\left (\\theta \\right )} {\\sigma_x} + \\cos{\\left (\\theta \\right )} {\\sigma_z}$$"
       ],
       "metadata": {},
       "output_type": "pyout",
       "png": "[encoded data removed]",
       "prompt_number": 16,
       "text": [
        "-sin(\u03b8)\u22c5False + cos(\u03b8)\u22c5False"
       ]
      }
     ],
     "prompt_number": 16
    },
    {
     "cell_type": "markdown",
     "metadata": {},
     "source": [
      "and chosen $\\theta = \\arctan(\\Delta/\\epsilon)$."
     ]
    },
    {
     "cell_type": "heading",
     "level": 2,
     "metadata": {},
     "source": [
      "Versions"
     ]
    },
    {
     "cell_type": "code",
     "collapsed": false,
     "input": [
      "%reload_ext version_information\n",
      "\n",
      "%version_information sympy, sympsi"
     ],
     "language": "python",
     "metadata": {},
     "outputs": [
      {
       "html": [
        "<table><tr><th>Software</th><th>Version</th></tr><tr><td>Python</td><td>3.4.1 (default, Sep 20 2014, 19:44:17) [GCC 4.2.1 Compatible Apple LLVM 5.1 (clang-503.0.40)]</td></tr><tr><td>IPython</td><td>2.3.0</td></tr><tr><td>OS</td><td>Darwin 13.4.0 x86_64 i386 64bit</td></tr><tr><td>sympy</td><td>0.7.5-git</td></tr><tr><td>sympsi</td><td>0.1.0.dev-0c6e514</td></tr><tr><td colspan='2'>Thu Oct 09 15:23:41 2014 JST</td></tr></table>"
       ],
       "json": [
        "{\"Software versions\": [{\"module\": \"Python\", \"version\": \"3.4.1 (default, Sep 20 2014, 19:44:17) [GCC 4.2.1 Compatible Apple LLVM 5.1 (clang-503.0.40)]\"}, {\"module\": \"IPython\", \"version\": \"2.3.0\"}, {\"module\": \"OS\", \"version\": \"Darwin 13.4.0 x86_64 i386 64bit\"}, {\"module\": \"sympy\", \"version\": \"0.7.5-git\"}, {\"module\": \"sympsi\", \"version\": \"0.1.0.dev-0c6e514\"}]}"
       ],
       "latex": [
        "\\begin{tabular}{|l|l|}\\hline\n",
        "{\\bf Software} & {\\bf Version} \\\\ \\hline\\hline\n",
        "Python & 3.4.1 (default, Sep 20 2014, 19:44:17) [GCC 4.2.1 Compatible Apple LLVM 5.1 (clang-503.0.40)] \\\\ \\hline\n",
        "IPython & 2.3.0 \\\\ \\hline\n",
        "OS & Darwin 13.4.0 x86\\letterunderscore{}64 i386 64bit \\\\ \\hline\n",
        "sympy & 0.7.5-git \\\\ \\hline\n",
        "sympsi & 0.1.0.dev-0c6e514 \\\\ \\hline\n",
        "\\hline \\multicolumn{2}{|l|}{Thu Oct 09 15:23:41 2014 JST} \\\\ \\hline\n",
        "\\end{tabular}\n"
       ],
       "metadata": {},
       "output_type": "pyout",
       "prompt_number": 17,
       "text": [
        "Software versions\n",
        "Python 3.4.1 (default, Sep 20 2014, 19:44:17) [GCC 4.2.1 Compatible Apple LLVM 5.1 (clang-503.0.40)]\n",
        "IPython 2.3.0\n",
        "OS Darwin 13.4.0 x86_64 i386 64bit\n",
        "sympy 0.7.5-git\n",
        "sympsi 0.1.0.dev-0c6e514\n",
        "Thu Oct 09 15:23:41 2014 JST"
       ]
      }
     ],
     "prompt_number": 17
    }
   ],
   "metadata": {}
  }
 ]
}