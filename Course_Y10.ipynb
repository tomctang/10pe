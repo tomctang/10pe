{
 "cells": [
  {
   "cell_type": "markdown",
   "id": "55411774",
   "metadata": {},
   "source": [
    "1. Amount of time invested\n",
    "\n",
    "$\\$65.10=\\$900\\times\\frac{\\frac{11}{365}}{100}\\times N$\n",
    "\n",
    "$N=\\frac{\\$65.10}{\\$0.271}$\n",
    "\n",
    "$N=240\\text{ days}$\n",
    "\n",
    "2. Borrowed money\n",
    "\n",
    "$\\$2113.8-P=P\\times\\frac{14.4}{100}\\times\\frac{7}{12}$\n",
    "\n",
    "$P=\\frac{\\$2113.8}{1.084}$\n",
    "\n",
    "$P=\\$1950$\n",
    "\n",
    "3. Amount of time invested\n",
    "\n",
    "$\\$200=\\$4000\\times\\frac{2.5}{100}\\times N$\n",
    "\n",
    "$N=\\frac{200}{100}$\n",
    "\n",
    "$N=2\\text{ years}$"
   ]
  },
  {
   "cell_type": "code",
   "execution_count": 2,
   "id": "dc39551d",
   "metadata": {
    "vscode": {
     "languageId": "sage"
    }
   },
   "outputs": [],
   "source": [
    "# new show\n",
    "from IPython.display import display, Math\n",
    "def s(*args):\n",
    "    latex_output = \"\"\n",
    "    for arg in args:\n",
    "        latex_output += f\"{latex(arg)} \\\\qquad   \"  # Add spacing btw expressions\n",
    "    display(Math(latex_output))"
   ]
  },
  {
   "cell_type": "markdown",
   "id": "32ef2ac5",
   "metadata": {},
   "source": [
    "- a. Total Amount Returned\n",
    "\n",
    "$I_1=\\$9400\\times\\frac{5.4}{100}=\\$507.6$\n",
    "\n",
    "$P_2=\\$9400+\\$507.6=\\$9907.6$\n",
    "\n",
    "$I_2=\\$9907.6\\times\\frac{5.4}{100}=\\$535.01$\n",
    "\n",
    "$P_3=\\$9907.6+\\$535.01=\\$10442.61$\n",
    "\n",
    "$I_3=\\$10442.61\\times\\frac{5.4}{100}=\\$563.9$\n",
    "\n",
    "Answer : $\\$10442.61+\\$563.9=\\$11006.51$\n",
    "\n",
    "- b. Interest Returned\n",
    "\n",
    "Total Interest : $\\$507.6+\\$535.01+\\$563.9=\\$1606.51$\n",
    "\n",
    "- c. Simple Interest Returned\n",
    "\n",
    "Total Interest : $I=\\$9400\\times\\frac{5.4}{100}\\times3=\\$1522.8$\n",
    "\n",
    "-d. Extra Interest\n",
    "\n",
    "Extra Interest : $\\$1606.51-\\$1522.8=\\$83.71$"
   ]
  },
  {
   "cell_type": "code",
   "execution_count": 13,
   "id": "7e32d67e",
   "metadata": {
    "vscode": {
     "languageId": "sage"
    }
   },
   "outputs": [
    {
     "name": "stdout",
     "output_type": "stream",
     "text": [
      "1606.51000000000\n",
      "1522.80000000000\n",
      "83.7100000000000\n"
     ]
    }
   ],
   "source": [
    "print(507.6+535.01+563.9)\n",
    "print(9400*5.4/100*3)\n",
    "print(1606.51-1522.8)"
   ]
  },
  {
   "cell_type": "code",
   "execution_count": 10,
   "id": "9e2c64e1",
   "metadata": {
    "vscode": {
     "languageId": "sage"
    }
   },
   "outputs": [
    {
     "name": "stdout",
     "output_type": "stream",
     "text": [
      "507.600000000000\n",
      "9907.60000000000\n",
      "535.010400000000\n",
      "10442.6100000000\n",
      "563.900940000000\n",
      "11006.5100000000\n"
     ]
    }
   ],
   "source": [
    "print(9400*5.4/100)\n",
    "print(9400+507.6)\n",
    "print(9907.6*5.4/100)\n",
    "print(9907.6+535.01)\n",
    "print(10442.61*5.4/100)\n",
    "print(10442.61+563.9)"
   ]
  }
 ],
 "metadata": {
  "kernelspec": {
   "display_name": "SageMath 10.6",
   "language": "sage",
   "name": "sagemath"
  },
  "language_info": {
   "codemirror_mode": {
    "name": "ipython",
    "version": 3
   },
   "file_extension": ".py",
   "mimetype": "text/x-python",
   "name": "python",
   "nbconvert_exporter": "python",
   "pygments_lexer": "ipython3",
   "version": "3.12.10"
  }
 },
 "nbformat": 4,
 "nbformat_minor": 5
}
