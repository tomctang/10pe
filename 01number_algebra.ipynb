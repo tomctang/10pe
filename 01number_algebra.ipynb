{
 "cells": [
  {
   "cell_type": "markdown",
   "metadata": {
    "vscode": {
     "languageId": "plaintext"
    }
   },
   "source": [
    "# Number & Algebra"
   ]
  },
  {
   "cell_type": "markdown",
   "metadata": {},
   "source": [
    "## Number Theory"
   ]
  },
  {
   "cell_type": "markdown",
   "metadata": {},
   "source": [
    "<img src=\"https://raw.githubusercontent.com/tomctang/NB_img/main/numbersys.png\" alt=\"数系统5层\" width=\"350\">\n",
    "\n",
    "<img src=\"https://raw.githubusercontent.com/tomctang/NB_img/main/自然数整数有理数实数复数.png\" alt=\"自然数-整数-有理数-实数-复数\" width=\"600\">\n",
    "\n",
    "\n",
    "[Pre-calculus by Openstax](https://openstax.org/subjects/math) \n",
    "\n",
    "    Sets\n",
    "    └── Basic Set Concepts, Subsets, Venn Diagrams, Set Operations with Two Sets and Three Sets \n",
    "    Logic & Formulas\n",
    "    ├── Statements and Quantifiers, Compound Statements, Constructing Truth Tables\n",
    "    ├── Truth Tables for Conditional and Biconditional, Equivalent Statements, De Morgan's Laws, Logical Arguments \n",
    "    ├── Propositions from Propositions 命题中的命题, Propositional Logic in Computer Programs 计算机程序中的命题逻辑\n",
    "    └── Equivalence and Validity 等价性和有效性, The Algebra of Propositions 命题的代数, The Sat Problem, Predicate Formulas谓词公式\n",
    "    Proofs\n",
    "    ├── Propositions命题, Predicates谓词, The Axiomatic Method公理化方法, Our Axioms, Proving an Implication证明蕴涵\n",
    "    └── Proving An “If and Only If” 证明“当且仅当, Proof by Cases案例证明, Proof by Contradiction反证法 \n",
    "    Induction 归纳法\n",
    "    └── Ordinary Induction, Strong Induction强归纳法 Vs. Induction Vs. Well Ordering Proofs良序证明, State Machines\n",
    "    Number Systems\n",
    "    ├── Prime and Composite Numbers, Integers, Order of Operations, Rational Numbers, Irrational Numbers\n",
    "    └── Real Numbers, Clock Arithmetic, Exponents, Scientific Notation, Arithmetic Sequences, Geometric Sequences\n",
    "    Number Theory\n",
    "    ├── Divisibility可除性, Greatest Common Divisor最大公约数, Prime, The Fundamental Theorem of Arithmetic 算术基本定理\n",
    "    ├── Alan Turing 阿兰图灵, Modular Arithmetic 模算术, Remainder Arithmetic 余数算术, Turing’S Code (Version 2.0) 图灵密码\n",
    "    └── Multiplicative Inverses and Cancelling乘法逆和抵消, Euler's Theorem, RSA Public Key Encryption 公钥加密\n",
    "    Number Representation and Calculation\n",
    "    ├── Hindu-Arabic Positional System, Early Numeration Systems, Converting with Base Systems\n",
    "    └── Addition and Subtraction in Base Systems, Multiplication and Division in Base Systems\n",
    "    Sequences, Probability and Counting Theory （前面就是组合论了）\n",
    "    ├── Sequences and Their Notations, Arithmetic Sequences, Geometric Sequences, Series and Their Notations\n",
    "    └── Counting Principles, Binomial Theorem, Probability"
   ]
  },
  {
   "cell_type": "markdown",
   "metadata": {},
   "source": [
    "### Investigating Pi and e"
   ]
  },
  {
   "cell_type": "code",
   "execution_count": null,
   "metadata": {},
   "outputs": [],
   "source": [
    "from sympy import *\n",
    "x=symbols('x')\n",
    "print(limit(sin(x)/x,x,0))\n",
    "print(limit(pow(1+1/x,x),x,oo)) # natural constant e\n",
    "\n",
    "# job 1: estimate pi in series\n",
    "import math\n",
    "sum = 0  # Initialize the sum to 0\n",
    "for n in range(10000):  # Iterate over the terms of the series\n",
    "    term = 4*(-1)**n / (2*n + 1)     # Compute the nth term of the series\n",
    "    sum += term                        # Add the term to the sum\n",
    "print(\"Pi Estimate:\", sum)  # Multiply the sum by 4 to get an estimate of pi\n",
    "\n",
    "# job 1.1: estimate pi using a limit\n",
    "n = 9   ; print(\"pi is\", n*math.sin(math.radians(180/n)))\n",
    "n = 99  ; print(\"pi is\", n*math.sin(math.radians(180/n)))\n",
    "n = 999999999 ; print(\"pi is\", n*math.sin(math.radians(180/n)))\n",
    "\n",
    "# job 2: estimate e in series\n",
    "sum1 = 1  # Initialize the sum and factorial to 1\n",
    "factorial = 1\n",
    "for n in range(1, 10000):  # Iterate over the terms of the series\n",
    "    factorial *= n         # Compute the nth term of the series\n",
    "    term = 1 / factorial\n",
    "    sum1 += term\n",
    "print(\"e Estimate:\", sum1)\n",
    "\n",
    "# job 2.1: estimate e in compound form\n",
    "n = 100   ; print(\"Estimated value of e:\", (1 + 1/n) ** (n*1))\n",
    "n = 1000  ; print(\"Estimated value of e:\", (1 + 1/n) ** (n*1))\n",
    "n = 100000000  ; print(\"Estimated value of e:\", (1 + 1/n) ** (n*1))"
   ]
  },
  {
   "cell_type": "markdown",
   "metadata": {},
   "source": [
    "### Continued Fraction "
   ]
  },
  {
   "cell_type": "markdown",
   "metadata": {},
   "source": [
    "Numerators and denominators ${N_i}$ and ${D_i}$ could be any sequences or functions\n",
    "\n",
    "$$D_0+\\cfrac{N_1}{D_1+\\cfrac{N_2}{{ D_k+\\cfrac{N_k}{\\ddots}}}} = D_0 + \\mathop{K}\\limits_{i=1}^{\\infty} \\frac{N_i}{D_i} \\quad  e.g. \\quad\n",
    "1+\\frac{1}{2+\\frac{1}{{ 2+\\frac{1}{\\ddots}}}}$$"
   ]
  },
  {
   "cell_type": "code",
   "execution_count": null,
   "metadata": {
    "vscode": {
     "languageId": "wolfram"
    }
   },
   "outputs": [
    {
     "data": {
      "text/plain": [
       "{1, 2, 2, 2, 2, 2, 2, 2, 2, 2}"
      ],
      "x-application/wolfram-language-html": "<div class=\"wexpr\"><wrow><w></w><wb>{</wb><wrow><w></w><w>1</w><w>,</w><w>2</w><w>,</w><w>2</w><w>,</w><w>2</w><w>,</w><w>2</w><w>,</w><w>2</w><w>,</w><w>2</w><w>,</w><w>2</w><w>,</w><w>2</w><w>,</w><w>2</w></wrow><wb>}</wb></wrow></div>"
     },
     "metadata": {},
     "output_type": "display_data"
    },
    {
     "data": {
      "text/plain": [
       "{1, 3/2, 7/5, 17/12, 41/29, 99/70, 239/169, 577/408, 1393/985, 3363/2378}"
      ],
      "x-application/wolfram-language-html": "<div class=\"wexpr\"><wrow><w></w><wb>{</wb><wrow><w></w><w>1</w><w>,</w><wfrac><w><w>3</w></w><w><w></w><w><w>2</w></w></w></wfrac><w>,</w><wfrac><w><w>7</w></w><w><w></w><w><w>5</w></w></w></wfrac><w>,</w><wfrac><w><w>17</w></w><w><w></w><w><w>12</w></w></w></wfrac><w>,</w><wfrac><w><w>41</w></w><w><w></w><w><w>29</w></w></w></wfrac><w>,</w><wfrac><w><w>99</w></w><w><w></w><w><w>70</w></w></w></wfrac><w>,</w><wfrac><w><w>239</w></w><w><w></w><w><w>169</w></w></w></wfrac><w>,</w><wfrac><w><w>577</w></w><w><w></w><w><w>408</w></w></w></wfrac><w>,</w><wfrac><w><w>1393</w></w><w><w></w><w><w>985</w></w></w></wfrac><w>,</w><wfrac><w><w>3363</w></w><w><w></w><w><w>2378</w></w></w></wfrac></wrow><wb>}</wb></wrow></div>"
     },
     "metadata": {},
     "output_type": "display_data"
    },
    {
     "data": {
      "text/plain": [
       "aa[{1, 2}]"
      ],
      "x-application/wolfram-language-html": "<div class=\"wexpr\"><wrow><w></w><w>aa</w><wrow><w></w><wb>[</wb><wrow><w></w><wb>{</wb><wrow><w></w><w>1</w><w>,</w><w>2</w></wrow><wb>}</wb></wrow><wb>]</wb></wrow></wrow></div>"
     },
     "metadata": {},
     "output_type": "display_data"
    }
   ],
   "source": [
    "(* 连分数 Continued Fraction for Sqrt[2] *)\n",
    "ContinuedFraction[Sqrt[2], 10]   (*generate D series*)\n",
    "Convergents[ContinuedFraction[Sqrt[2], 10]] (*generate each CF*)\n",
    "  (*now do it manually, \n",
    "  Fold[f, x, {a, b, c, d}] == f{f{f{f[x,a],b},c},d}\n",
    "  #1 is the accumulated result; #2 is the the current element;\n",
    "  '&' at the end: defining an anonymous function *)\n",
    "aa[x] := Fold[#2 + 1/#1 &, x, Reverse[x]]; \n",
    "aa[ContinuedFraction[Sqrt[2], 2]]"
   ]
  },
  {
   "cell_type": "markdown",
   "metadata": {},
   "source": [
    "## Algebra"
   ]
  },
  {
   "cell_type": "markdown",
   "metadata": {},
   "source": [
    "[Pre-calculus by Openstax](https://openstax.org/subjects/math) \n",
    "\n",
    "    Algebra\n",
    "    ├── Algebraic Expressions, Linear Equations in One Variable with Applications\n",
    "    ├── Linear Inequalities in One Variable with Applications, Ratios and Proportions, Graphing Linear Equations and Inequalities\n",
    "    ├── Quadratic Equations with Two Variables with Applications, Functions, Graphing Functions\n",
    "    └── Systems of Linear Equations in Two Variables, Systems of Linear Inequalities in Two Variables, Linear Programming\n",
    "    1. Functions\n",
    "    ├── Functions and Function Notation, Domain and Range, Rates of Change and Behavior of Graphs\n",
    "    └── Composition of Functions, Transformation of Functions, Absolute Value Functions, Inverse Functions\n",
    "    2. Linear Functions\n",
    "    └── Linear Functions, Graphs of Linear Functions, Modeling with Linear Functions, Fitting Linear Models to Data\n",
    "    3. Polynomial and Rational Functions\n",
    "    ├── Complex Numbers, Quadratic Functions, Power Functions and Polynomial Functions, Graphs, Dividing Polynomials\n",
    "    └── Zeros of Polynomial Functions, Rational Functions, Inverses and Radical Functions, Modeling Using Variation\n",
    "    4. Exponential and Logarithmic Functions\n",
    "    ├── Exponential Functions, Graphs, Logarithmic Functions, Graphs, Logarithmic Properties\n",
    "    └── Exponential and Logarithmic Equations, Exponential and Logarithmic Models, Fitting Exponential Models to Data \n",
    "    5. Trigonometric Functions\n",
    "    ├── Angles, Unit Circle: Sine and Cosine Functions\n",
    "    └── The Other Trigonometric Functions, Right Triangle Trigonometry\n",
    "    6. Periodic Functions\n",
    "    └── Graphs of the Sine and Cosine Functions, Graphs of the Other Trigonometric Functions, Inverse Trigonometric Functions \n",
    "    7. Trigonometric Identities and Equations\n",
    "    ├── Solving Trigonometric Equations with Identities, Sum and Difference Identities, Double-Angle\n",
    "    ├── Half-Angle, and Reduction Formulas, Sum-to-Product and Product-to-Sum Formulas\n",
    "    └── Solving Trigonometric Equations, Modeling with Trigonometric Functions \n",
    "    8. Applications of Trigonometry\n",
    "    ├── Non-right Triangles: Law of Sines, Law of Cosines, Polar Coordinates, Graphs\n",
    "    └── Polar Form of Complex Numbers, Parametric Equations, Parametric Equations: Graphs, Vectors \n",
    "    9. Systems of Equations and Inequalities\n",
    "    ├── Systems of Linear Equations: Two Variables, Three Variables \n",
    "    ├── Systems of Nonlinear Equations and Inequalities: Two Variables, Partial Fractions, Matrices and Matrix Operations\n",
    "    └── Solving Systems with Gaussian Elimination, Solving Systems with Inverses, Solving Systems with Cramer's Rule\n",
    "    10. Analytic Geometry\n",
    "    └── The Ellipse, The Hyperbola, The Parabola, Rotation of Axes, Conic Sections in Polar Coordinates"
   ]
  },
  {
   "cell_type": "markdown",
   "metadata": {},
   "source": [
    "### Euler’s formula \n",
    "\n",
    "- Euler's formula arises naturally as a solution to DE, such as the second-order linear DE: $y''+y=0$\n",
    "    - establishes the fundamental relationship btw **exponential** and **trigonometric** functions, and paves a way to complex numbers, complex functions, and related theory.\n",
    "    - comprehend all whenever expressions $sin$, $e$, $i$ are involved. It actually complete a ring among these symbols and relationships.\n",
    "\n",
    "<img src=\"https://raw.githubusercontent.com/tomctang/NB_img/main/Euler_formula.png\" alt=\"Euler_formula\" width=\"500\">"
   ]
  },
  {
   "cell_type": "markdown",
   "metadata": {},
   "source": [
    "## Linear Algebra"
   ]
  },
  {
   "cell_type": "markdown",
   "metadata": {},
   "source": [
    "vector和复数的联系"
   ]
  },
  {
   "cell_type": "markdown",
   "metadata": {},
   "source": [
    "## Abstract Algebra(Group, Ring, Field)\n"
   ]
  },
  {
   "cell_type": "markdown",
   "metadata": {},
   "source": [
    "<img src=\"https://raw.githubusercontent.com/tomctang/NB_img/main/abstract_algebra1.png\" alt=\"abstract_algebra1\" width=\"900\">\n",
    "\n",
    "<img src=\"https://raw.githubusercontent.com/tomctang/NB_img/main/abstract_algebra2.png\" alt=\"abstract_algebra2\" width=\"500\">"
   ]
  }
 ],
 "metadata": {
  "language_info": {
   "name": "python"
  }
 },
 "nbformat": 4,
 "nbformat_minor": 2
}
