{
 "metadata": {
  "name": "",
  "signature": "sha256:945973d0e876cbb291acfa62b69c6e726f1656c12bb0595d3a35cbf07432ed91"
 },
 "nbformat": 3,
 "nbformat_minor": 0,
 "worksheets": [
  {
   "cells": [
    {
     "cell_type": "heading",
     "level": 1,
     "metadata": {},
     "source": [
      "Lecture 3 - Symbolic quantum mechanics using SymPsi - Resonators and cavities"
     ]
    },
    {
     "cell_type": "markdown",
     "metadata": {},
     "source": [
      "Author: J. R. Johansson (robert@riken.jp), [http://jrjohansson.github.io](http://jrjohansson.github.io).\n",
      "\n",
      "Status: Preliminary (work in progress)\n",
      "\n",
      "This notebook is part of a series of IPython notebooks on symbolic quantum mechanics computations using \n",
      "[SymPy](http://sympy.org) and [SymPsi](http://www.github.com/jrjohansson/sympsi). SymPsi is an experimental fork and extension of the [`sympy.physics.quantum`](http://docs.sympy.org/dev/modules/physics/quantum/) module in SymPy. The latest version of this notebook is available at [http://github.com/jrjohansson/sympy-quantum-notebooks](http://github.com/jrjohansson/sympy-quantum-notebooks), and the other notebooks in this lecture series are also indexed at [http://jrjohansson.github.io](http://jrjohansson.github.com).\n",
      "\n",
      "Requirements: A recent version of SymPy and the latest development version of SymPsi is required to execute this notebook. Instructions for how to install SymPsi is available [here](http://www.github.com/jrjohansson/sympsi).\n",
      "\n",
      "Disclaimer: The SymPsi module is still under active development and may change in behavior without notice, and the intention is to move some of its features to [`sympy.physics.quantum`](http://docs.sympy.org/dev/modules/physics/quantum/) when they matured and have been tested. However, these notebooks will be kept up-to-date the latest versions of SymPy and SymPsi."
     ]
    },
    {
     "cell_type": "heading",
     "level": 2,
     "metadata": {},
     "source": [
      "Setup modules"
     ]
    },
    {
     "cell_type": "code",
     "collapsed": false,
     "input": [
      "from sympy import *\n",
      "init_printing()"
     ],
     "language": "python",
     "metadata": {},
     "outputs": [],
     "prompt_number": 1
    },
    {
     "cell_type": "code",
     "collapsed": false,
     "input": [
      "from sympsi import *\n",
      "from sympsi.boson import *\n",
      "from sympsi.operatorordering import *"
     ],
     "language": "python",
     "metadata": {},
     "outputs": [],
     "prompt_number": 2
    },
    {
     "cell_type": "heading",
     "level": 2,
     "metadata": {},
     "source": [
      "Introduction"
     ]
    },
    {
     "cell_type": "markdown",
     "metadata": {},
     "source": [
      "In this notebook we will work with cavities and resonators. A single mode of a resonator can be modelled with a quantum harmonic oscillator. Here we look at the effect of classical driving fields, transformation to different rotating frames, and various types of coupling between different modes in a resonator."
     ]
    },
    {
     "cell_type": "heading",
     "level": 2,
     "metadata": {},
     "source": [
      "Quantum Harmonic Oscillator"
     ]
    },
    {
     "cell_type": "markdown",
     "metadata": {},
     "source": [
      "First we consider the Hamiltonian for a single harmonic oscillator, which describes a single mode of for example a cavity or a waveguide resonator:\n",
      "\n",
      "$$\n",
      "H = \\hbar \\omega_r a^\\dagger a\n",
      "$$\n",
      "\n",
      "To represent this Hamiltonian in sympy we create a symbol `omega_r` and an instance of the class `BosonOp`:"
     ]
    },
    {
     "cell_type": "code",
     "collapsed": false,
     "input": [
      "omega_r = symbols(\"omega_r\", positive=True)\n",
      "Hsym = symbols(\"H\")\n",
      "a = BosonOp(\"a\")"
     ],
     "language": "python",
     "metadata": {},
     "outputs": [],
     "prompt_number": 3
    },
    {
     "cell_type": "code",
     "collapsed": false,
     "input": [
      "H0 = omega_r * Dagger(a) * a\n",
      "\n",
      "Eq(Hsym, H0)"
     ],
     "language": "python",
     "metadata": {},
     "outputs": [
      {
       "latex": [
        "$$H = \\omega_{r} {{a}^\\dagger} {a}$$"
       ],
       "metadata": {},
       "output_type": "pyout",
       "png": "[encoded data removed]",
       "prompt_number": 4,
       "text": [
        "        \u2020  \n",
        "H = \u03c9\u1d63\u22c5a \u22c5a"
       ]
      }
     ],
     "prompt_number": 4
    },
    {
     "cell_type": "heading",
     "level": 3,
     "metadata": {},
     "source": [
      "Classical drive signal"
     ]
    },
    {
     "cell_type": "markdown",
     "metadata": {},
     "source": [
      "A classical driving field of frequency $\\omega_d$ and amplitude $A$ and phase $\\phi_0$ can be modelled by including an additional term in the Hamiltonian:\n",
      "\n",
      "$$\n",
      "H = \\hbar \\omega_r a^\\dagger a + A \\cos(\\omega_dt  + \\phi_0) (a + a^\\dagger)\n",
      "$$\n",
      "\n",
      "where we have assumed that the driving field couples to the quadrature of the resonator $a + a^\\dagger$, which is the canonical case. It is convenient to rewrite the $\\cos$ factor\n",
      "\n",
      "$$\n",
      "H = \\hbar \\omega_r a^\\dagger a + (Ae^{-i\\omega_dt}+ A^*e^{i\\omega_dt})(a + a^\\dagger)\n",
      "$$\n",
      "\n",
      "where we have redefined $A \\rightarrow Ae^{-i\\phi_0}$. In Sympy we can represent this Hamiltonian as:"
     ]
    },
    {
     "cell_type": "code",
     "collapsed": false,
     "input": [
      "omega_d, t = symbols(\"omega_d, t\")\n",
      "A = symbols(\"A\")"
     ],
     "language": "python",
     "metadata": {},
     "outputs": [],
     "prompt_number": 5
    },
    {
     "cell_type": "code",
     "collapsed": false,
     "input": [
      "Hdrive = (A * exp(-I * omega_d * t) + conjugate(A) * exp(I * omega_d * t)) * (a + Dagger(a))\n",
      "\n",
      "Hdrive"
     ],
     "language": "python",
     "metadata": {},
     "outputs": [
      {
       "latex": [
        "$$\\left(A e^{- i \\omega_{d} t} + e^{i \\omega_{d} t} \\overline{A}\\right) \\left({{a}^\\dagger} + {a}\\right)$$"
       ],
       "metadata": {},
       "output_type": "pyout",
       "png": "[encoded data removed]",
       "prompt_number": 6,
       "text": [
        "\u239b   -\u2148\u22c5\u03c9_d\u22c5t    \u2148\u22c5\u03c9_d\u22c5t _\u239e \u239b \u2020    \u239e\n",
        "\u239dA\u22c5\u212f         + \u212f       \u22c5A\u23a0\u22c5\u239da  + a\u23a0"
       ]
      }
     ],
     "prompt_number": 6
    },
    {
     "cell_type": "code",
     "collapsed": false,
     "input": [
      "H = H0 + Hdrive\n",
      "\n",
      "Eq(Hsym, H)"
     ],
     "language": "python",
     "metadata": {},
     "outputs": [
      {
       "latex": [
        "$$H = \\omega_{r} {{a}^\\dagger} {a} + \\left(A e^{- i \\omega_{d} t} + e^{i \\omega_{d} t} \\overline{A}\\right) \\left({{a}^\\dagger} + {a}\\right)$$"
       ],
       "metadata": {},
       "output_type": "pyout",
       "png": "[encoded data removed]",
       "prompt_number": 7,
       "text": [
        "        \u2020     \u239b   -\u2148\u22c5\u03c9_d\u22c5t    \u2148\u22c5\u03c9_d\u22c5t _\u239e \u239b \u2020    \u239e\n",
        "H = \u03c9\u1d63\u22c5a \u22c5a + \u239dA\u22c5\u212f         + \u212f       \u22c5A\u23a0\u22c5\u239da  + a\u23a0"
       ]
      }
     ],
     "prompt_number": 7
    },
    {
     "cell_type": "markdown",
     "metadata": {},
     "source": [
      "When working with Hamiltonians like this one, one common operation is to move to different rotating frames (by performing unitary transformations) where the Hamiltonian takes a simplier form.\n",
      "\n",
      "Here we want to transform this Hamiltonian to a rotating frame in which the drive term (and all other terms) are no longer explicitly depening on time `t`. We can accomplish this by performing the unitary transformation \n",
      "\n",
      "$$\n",
      "U = \\exp(i\\omega_d a^\\dagger a t)\n",
      "$$"
     ]
    },
    {
     "cell_type": "code",
     "collapsed": false,
     "input": [
      "U = exp(I * omega_d * t * Dagger(a) * a)\n",
      "\n",
      "U"
     ],
     "language": "python",
     "metadata": {},
     "outputs": [
      {
       "latex": [
        "$$e^{i \\omega_{d} t {{a}^\\dagger} {a}}$$"
       ],
       "metadata": {},
       "output_type": "pyout",
       "png": "[encoded data removed]",
       "prompt_number": 8,
       "text": [
        "          \u2020  \n",
        " \u2148\u22c5\u03c9_d\u22c5t\u22c5a \u22c5a\n",
        "\u212f            "
       ]
      }
     ],
     "prompt_number": 8
    },
    {
     "cell_type": "markdown",
     "metadata": {},
     "source": [
      "When doing a unitary basis transformation, the Hamiltonian is transformed as\n",
      "\n",
      "$$\n",
      "H \\rightarrow UHU^\\dagger -i U \\frac{d}{dt}U^\\dagger\n",
      "$$\n",
      "\n",
      "and we can carry out this transformation using the function `hamiltonian_transformation`:"
     ]
    },
    {
     "cell_type": "code",
     "collapsed": false,
     "input": [
      "H2 = hamiltonian_transformation(U, H.expand())\n",
      "\n",
      "H2"
     ],
     "language": "python",
     "metadata": {},
     "outputs": [
      {
       "latex": [
        "$$A {{a}^\\dagger} + A e^{- 2 i \\omega_{d} t} {a} - \\omega_{d} {{a}^\\dagger} {a} + \\omega_{r} {{a}^\\dagger} {a} + e^{2 i \\omega_{d} t} \\overline{A} {{a}^\\dagger} + \\overline{A} {a}$$"
       ],
       "metadata": {},
       "output_type": "pyout",
       "png": "[encoded data removed]",
       "prompt_number": 9,
       "text": [
        "   \u2020      -2\u22c5\u2148\u22c5\u03c9_d\u22c5t          \u2020         \u2020      2\u22c5\u2148\u22c5\u03c9_d\u22c5t _  \u2020   _  \n",
        "A\u22c5a  + A\u22c5\u212f          \u22c5a - \u03c9_d\u22c5a \u22c5a + \u03c9\u1d63\u22c5a \u22c5a + \u212f         \u22c5A\u22c5a  + A\u22c5a"
       ]
      }
     ],
     "prompt_number": 9
    },
    {
     "cell_type": "markdown",
     "metadata": {},
     "source": [
      "Now let's introduce the detuning $\\Delta = \\omega_r - \\omega_d$:"
     ]
    },
    {
     "cell_type": "code",
     "collapsed": false,
     "input": [
      "Delta = symbols(\"Delta\", positive=True)"
     ],
     "language": "python",
     "metadata": {},
     "outputs": [],
     "prompt_number": 10
    },
    {
     "cell_type": "code",
     "collapsed": false,
     "input": [
      "H3 = collect(H2, Dagger(a) * a).subs(omega_r - omega_d, Delta)\n",
      "\n",
      "H3"
     ],
     "language": "python",
     "metadata": {},
     "outputs": [
      {
       "latex": [
        "$$A {{a}^\\dagger} + A e^{- 2 i \\omega_{d} t} {a} + \\Delta {{a}^\\dagger} {a} + e^{2 i \\omega_{d} t} \\overline{A} {{a}^\\dagger} + \\overline{A} {a}$$"
       ],
       "metadata": {},
       "output_type": "pyout",
       "png": "[encoded data removed]",
       "prompt_number": 11,
       "text": [
        "   \u2020      -2\u22c5\u2148\u22c5\u03c9_d\u22c5t        \u2020      2\u22c5\u2148\u22c5\u03c9_d\u22c5t _  \u2020   _  \n",
        "A\u22c5a  + A\u22c5\u212f          \u22c5a + \u0394\u22c5a \u22c5a + \u212f         \u22c5A\u22c5a  + A\u22c5a"
       ]
      }
     ],
     "prompt_number": 11
    },
    {
     "cell_type": "heading",
     "level": 3,
     "metadata": {},
     "source": [
      "Rotating-wave approximation (RWA)"
     ]
    },
    {
     "cell_type": "markdown",
     "metadata": {},
     "source": [
      "Now we invoke the rotating-wave approximation, under which we assume that $\\omega_d$ is much larger than $\\Delta$, so that the we can neglect the two fast rotating terms which contains factors $\\exp(\\pm 2i \\omega_d t)$:"
     ]
    },
    {
     "cell_type": "code",
     "collapsed": false,
     "input": [
      "H3 = drop_terms_containing(H3, [exp( 2 * I * omega_d * t),\n",
      "                                exp(-2 * I * omega_d * t)])\n",
      "\n",
      "Eq(Hsym, H3)"
     ],
     "language": "python",
     "metadata": {},
     "outputs": [
      {
       "latex": [
        "$$H = A {{a}^\\dagger} + \\Delta {{a}^\\dagger} {a} + \\overline{A} {a}$$"
       ],
       "metadata": {},
       "output_type": "pyout",
       "png": "[encoded data removed]",
       "prompt_number": 12,
       "text": [
        "       \u2020      \u2020     _  \n",
        "H = A\u22c5a  + \u0394\u22c5a \u22c5a + A\u22c5a"
       ]
      }
     ],
     "prompt_number": 12
    },
    {
     "cell_type": "markdown",
     "metadata": {},
     "source": [
      "This is a time-independent hamiltonian describing the resonator in a rotating frame, where fast rotating terms have been dropped. We can no apply a displacement transformation by applying the unitary transformation:"
     ]
    },
    {
     "cell_type": "code",
     "collapsed": false,
     "input": [
      "alpha = symbols(\"alpha\")\n",
      "H = Dagger(a) * alpha - conjugate(alpha) * a\n",
      "U = exp(H)\n",
      "\n",
      "U"
     ],
     "language": "python",
     "metadata": {},
     "outputs": [
      {
       "latex": [
        "$$e^{\\alpha {{a}^\\dagger} - \\overline{\\alpha} {a}}$$"
       ],
       "metadata": {},
       "output_type": "pyout",
       "png": "[encoded data removed]",
       "prompt_number": 13,
       "text": [
        "    \u2020   _  \n",
        " \u03b1\u22c5a  - \u03b1\u22c5a\n",
        "\u212f          "
       ]
      }
     ],
     "prompt_number": 13
    },
    {
     "cell_type": "code",
     "collapsed": false,
     "input": [
      "H4 = hamiltonian_transformation(U, H3)\n",
      "\n",
      "H4 = collect(H4.expand(), [Dagger(a)*a, a, Dagger(a)])\n",
      "\n",
      "H4"
     ],
     "language": "python",
     "metadata": {},
     "outputs": [
      {
       "latex": [
        "$$- A \\overline{\\alpha} + \\Delta \\alpha \\overline{\\alpha} + \\Delta {{a}^\\dagger} {a} - \\alpha \\overline{A} + \\left(A - \\Delta \\alpha\\right) {{a}^\\dagger} + \\left(- \\Delta \\overline{\\alpha} + \\overline{A}\\right) {a}$$"
       ],
       "metadata": {},
       "output_type": "pyout",
       "png": "[encoded data removed]",
       "prompt_number": 14,
       "text": [
        "    _       _      \u2020       _              \u2020   \u239b    _   _\u239e  \n",
        "- A\u22c5\u03b1 + \u0394\u22c5\u03b1\u22c5\u03b1 + \u0394\u22c5a \u22c5a - \u03b1\u22c5A + (A - \u0394\u22c5\u03b1)\u22c5a  + \u239d- \u0394\u22c5\u03b1 + A\u23a0\u22c5a"
       ]
      }
     ],
     "prompt_number": 14
    },
    {
     "cell_type": "markdown",
     "metadata": {},
     "source": [
      "If we choose $\\alpha = A/\\Delta$ and drop c-numbers from the hamiltonian, we obtain a particularly simple form:"
     ]
    },
    {
     "cell_type": "code",
     "collapsed": false,
     "input": [
      "H5 = H4.subs(alpha, A/Delta)\n",
      "\n",
      "H5 = drop_c_number_terms(H5)\n",
      "\n",
      "H5"
     ],
     "language": "python",
     "metadata": {},
     "outputs": [
      {
       "latex": [
        "$$\\Delta {{a}^\\dagger} {a}$$"
       ],
       "metadata": {},
       "output_type": "pyout",
       "png": "[encoded data removed]",
       "prompt_number": 15,
       "text": [
        "   \u2020  \n",
        "\u0394\u22c5a \u22c5a"
       ]
      }
     ],
     "prompt_number": 15
    },
    {
     "cell_type": "markdown",
     "metadata": {},
     "source": [
      "So a driven harmonic oscillator can be described by the hamiltonian of an undriven harmonic oscillator in a displaced frame."
     ]
    },
    {
     "cell_type": "heading",
     "level": 2,
     "metadata": {},
     "source": [
      "Optical parametric oscillator"
     ]
    },
    {
     "cell_type": "markdown",
     "metadata": {},
     "source": [
      "An optical parametric oscillator (OPO) is a two-mode system with a particular nonlinear interaction. The Hamiltonian of the OPO is\n",
      "\n",
      "$$\n",
      "H = \\omega_r a^\\dagger a + \\omega_p b^\\dagger b + (\\kappa {a^\\dagger}^2 b + \\kappa^* a^2 b^\\dagger) + (A e^{i\\omega_pt} + A^* e^{-i\\omega_pt})(b + b^\\dagger)\n",
      "$$\n",
      "\n",
      "where the operators of the two modes are$a$ and $b$, and the nonlinear interaction strength is $\\kappa$, and where we have also included a classical drive field applied to mode $b$.\n",
      "\n",
      "To model this system in SymPy we create two instances of `BosonOp`, one for each mode, and construct the Hamiltonian:"
     ]
    },
    {
     "cell_type": "code",
     "collapsed": false,
     "input": [
      "a, b = BosonOp(\"a\"), BosonOp(\"b\")"
     ],
     "language": "python",
     "metadata": {},
     "outputs": [],
     "prompt_number": 16
    },
    {
     "cell_type": "code",
     "collapsed": false,
     "input": [
      "kappa, omega_p, omega_a, omega_b, t = symbols(\"kappa, omega_p, omega_a, omega_b, t\")\n",
      "Delta_a, Delta_b = symbols(\"Delta_a, Delta_b\", positive=True)"
     ],
     "language": "python",
     "metadata": {},
     "outputs": [],
     "prompt_number": 17
    },
    {
     "cell_type": "code",
     "collapsed": false,
     "input": [
      "Hdrive = (A * exp(-I * omega_p * t) + conjugate(A) * exp(I * omega_p * t)) * (b + Dagger(b))\n",
      "H1 = omega_a * Dagger(a) * a + omega_b * Dagger(b) * b  + kappa * (a ** 2 * Dagger(b) + Dagger(a) ** 2 * b) + Hdrive\n",
      "\n",
      "Eq(Hsym, H1)"
     ],
     "language": "python",
     "metadata": {},
     "outputs": [
      {
       "latex": [
        "$$H = \\kappa \\left(\\left({{a}^\\dagger}\\right)^{2} {b} + \\left({a}\\right)^{2} {{b}^\\dagger}\\right) + \\omega_{a} {{a}^\\dagger} {a} + \\omega_{b} {{b}^\\dagger} {b} + \\left(A e^{- i \\omega_{p} t} + e^{i \\omega_{p} t} \\overline{A}\\right) \\left({{b}^\\dagger} + {b}\\right)$$"
       ],
       "metadata": {},
       "output_type": "pyout",
       "png": "[encoded data removed]",
       "prompt_number": 18,
       "text": [
        "      \u239b    2          \u239e                                                       \n",
        "      \u239c\u239b \u2020\u239e       2  \u2020\u239f       \u2020          \u2020     \u239b   -\u2148\u22c5\u03c9_p\u22c5t    \u2148\u22c5\u03c9_p\u22c5t _\u239e \u239b \u2020 \n",
        "H = \u03ba\u22c5\u239d\u239da \u23a0 \u22c5b + a \u22c5b \u23a0 + \u03c9\u2090\u22c5a \u22c5a + \u03c9_b\u22c5b \u22c5b + \u239dA\u22c5\u212f         + \u212f       \u22c5A\u23a0\u22c5\u239db  \n",
        "\n",
        "    \n",
        "   \u239e\n",
        "+ b\u23a0"
       ]
      }
     ],
     "prompt_number": 18
    },
    {
     "cell_type": "markdown",
     "metadata": {},
     "source": [
      "We first move to a frame rotating with frequency $\\omega_p$ with respect to mode $b$:"
     ]
    },
    {
     "cell_type": "code",
     "collapsed": false,
     "input": [
      "U = exp(I * omega_p * t * Dagger(b) * b)\n",
      "\n",
      "U"
     ],
     "language": "python",
     "metadata": {},
     "outputs": [
      {
       "latex": [
        "$$e^{i \\omega_{p} t {{b}^\\dagger} {b}}$$"
       ],
       "metadata": {},
       "output_type": "pyout",
       "png": "[encoded data removed]",
       "prompt_number": 19,
       "text": [
        "          \u2020  \n",
        " \u2148\u22c5\u03c9_p\u22c5t\u22c5b \u22c5b\n",
        "\u212f            "
       ]
      }
     ],
     "prompt_number": 19
    },
    {
     "cell_type": "code",
     "collapsed": false,
     "input": [
      "H2 = hamiltonian_transformation(U, H1.expand(), independent=True)\n",
      "\n",
      "H2"
     ],
     "language": "python",
     "metadata": {},
     "outputs": [
      {
       "latex": [
        "$$A {{b}^\\dagger} + A e^{- 2 i \\omega_{p} t} {b} + \\kappa e^{i \\omega_{p} t} \\left({a}\\right)^{2} {{b}^\\dagger} + \\kappa e^{- i \\omega_{p} t} \\left({{a}^\\dagger}\\right)^{2} {b} + \\omega_{a} {{a}^\\dagger} {a} + \\omega_{b} {{b}^\\dagger} {b} - \\omega_{p} {{b}^\\dagger} {b} + e^{2 i \\omega_{p} t} \\overline{A} {{b}^\\dagger} + \\overline{A} {b}$$"
       ],
       "metadata": {},
       "output_type": "pyout",
       "png": "[encoded data removed]",
       "prompt_number": 20,
       "text": [
        "                                                            2                 \n",
        "   \u2020      -2\u22c5\u2148\u22c5\u03c9_p\u22c5t        \u2148\u22c5\u03c9_p\u22c5t  2  \u2020      -\u2148\u22c5\u03c9_p\u22c5t \u239b \u2020\u239e          \u2020       \n",
        "A\u22c5b  + A\u22c5\u212f          \u22c5b + \u03ba\u22c5\u212f       \u22c5a \u22c5b  + \u03ba\u22c5\u212f        \u22c5\u239da \u23a0 \u22c5b + \u03c9\u2090\u22c5a \u22c5a + \u03c9_\n",
        "\n",
        "                                         \n",
        "   \u2020          \u2020      2\u22c5\u2148\u22c5\u03c9_p\u22c5t _  \u2020   _  \n",
        "b\u22c5b \u22c5b - \u03c9_p\u22c5b \u22c5b + \u212f         \u22c5A\u22c5b  + A\u22c5b"
       ]
      }
     ],
     "prompt_number": 20
    },
    {
     "cell_type": "markdown",
     "metadata": {},
     "source": [
      "and we can perform the rotating wave approximation and drop the fast rotating terms $\\exp{\\left(\\pm i \\omega_p t\\right)}$:"
     ]
    },
    {
     "cell_type": "code",
     "collapsed": false,
     "input": [
      "H3 = drop_terms_containing(H2, [exp(2 * I * omega_p * t),\n",
      "                                exp(-2 * I * omega_p * t)])\n",
      "\n",
      "H3 = collect(H3, kappa)\n",
      "\n",
      "H3"
     ],
     "language": "python",
     "metadata": {},
     "outputs": [
      {
       "latex": [
        "$$A {{b}^\\dagger} + \\kappa \\left(e^{i \\omega_{p} t} \\left({a}\\right)^{2} {{b}^\\dagger} + e^{- i \\omega_{p} t} \\left({{a}^\\dagger}\\right)^{2} {b}\\right) + \\omega_{a} {{a}^\\dagger} {a} + \\omega_{b} {{b}^\\dagger} {b} - \\omega_{p} {{b}^\\dagger} {b} + \\overline{A} {b}$$"
       ],
       "metadata": {},
       "output_type": "pyout",
       "png": "[encoded data removed]",
       "prompt_number": 21,
       "text": [
        "         \u239b                               2  \u239e                                 \n",
        "   \u2020     \u239c \u2148\u22c5\u03c9_p\u22c5t  2  \u2020    -\u2148\u22c5\u03c9_p\u22c5t \u239b \u2020\u239e   \u239f       \u2020          \u2020          \u2020   \n",
        "A\u22c5b  + \u03ba\u22c5\u239d\u212f       \u22c5a \u22c5b  + \u212f        \u22c5\u239da \u23a0 \u22c5b\u23a0 + \u03c9\u2090\u22c5a \u22c5a + \u03c9_b\u22c5b \u22c5b - \u03c9_p\u22c5b \u22c5b \n",
        "\n",
        "     \n",
        "  _  \n",
        "+ A\u22c5b"
       ]
      }
     ],
     "prompt_number": 21
    },
    {
     "cell_type": "markdown",
     "metadata": {},
     "source": [
      "Introduce a new variable for the detuning $\\Delta_b = \\omega_b - \\omega_p$:"
     ]
    },
    {
     "cell_type": "code",
     "collapsed": false,
     "input": [
      "H4 = H3.subs(omega_b, Delta_b + omega_p).expand()\n",
      "\n",
      "H4"
     ],
     "language": "python",
     "metadata": {},
     "outputs": [
      {
       "latex": [
        "$$A {{b}^\\dagger} + \\Delta_{b} {{b}^\\dagger} {b} + \\kappa e^{i \\omega_{p} t} \\left({a}\\right)^{2} {{b}^\\dagger} + \\kappa e^{- i \\omega_{p} t} \\left({{a}^\\dagger}\\right)^{2} {b} + \\omega_{a} {{a}^\\dagger} {a} + \\overline{A} {b}$$"
       ],
       "metadata": {},
       "output_type": "pyout",
       "png": "[encoded data removed]",
       "prompt_number": 22,
       "text": [
        "                                                     2                  \n",
        "   \u2020        \u2020        \u2148\u22c5\u03c9_p\u22c5t  2  \u2020      -\u2148\u22c5\u03c9_p\u22c5t \u239b \u2020\u239e          \u2020     _  \n",
        "A\u22c5b  + \u0394_b\u22c5b \u22c5b + \u03ba\u22c5\u212f       \u22c5a \u22c5b  + \u03ba\u22c5\u212f        \u22c5\u239da \u23a0 \u22c5b + \u03c9\u2090\u22c5a \u22c5a + A\u22c5b"
       ]
      }
     ],
     "prompt_number": 22
    },
    {
     "cell_type": "markdown",
     "metadata": {},
     "source": [
      "Next we want to displace the mode $b$ so that the drive terms are eliminated:"
     ]
    },
    {
     "cell_type": "code",
     "collapsed": false,
     "input": [
      "beta = symbols(\"beta\")\n",
      "H = Dagger(b) * beta - conjugate(beta) * b\n",
      "U = exp(H)\n",
      "\n",
      "U"
     ],
     "language": "python",
     "metadata": {},
     "outputs": [
      {
       "latex": [
        "$$e^{\\beta {{b}^\\dagger} - \\overline{\\beta} {b}}$$"
       ],
       "metadata": {},
       "output_type": "pyout",
       "png": "[encoded data removed]",
       "prompt_number": 23,
       "text": [
        "    \u2020   _  \n",
        " \u03b2\u22c5b  - \u03b2\u22c5b\n",
        "\u212f          "
       ]
      }
     ],
     "prompt_number": 23
    },
    {
     "cell_type": "code",
     "collapsed": false,
     "input": [
      "H5 = hamiltonian_transformation(U, H4.expand(), independent=True)\n",
      "\n",
      "H5"
     ],
     "language": "python",
     "metadata": {},
     "outputs": [
      {
       "latex": [
        "$$A \\left(- \\overline{\\beta} + {{b}^\\dagger}\\right) + \\Delta_{b} \\left(- \\overline{\\beta} + {{b}^\\dagger}\\right) \\left(- \\beta + {b}\\right) + \\kappa e^{i \\omega_{p} t} \\left({a}\\right)^{2} \\left(- \\overline{\\beta} + {{b}^\\dagger}\\right) + \\kappa e^{- i \\omega_{p} t} \\left({{a}^\\dagger}\\right)^{2} \\left(- \\beta + {b}\\right) + \\omega_{a} {{a}^\\dagger} {a} + \\overline{A} \\left(- \\beta + {b}\\right)$$"
       ],
       "metadata": {},
       "output_type": "pyout",
       "png": "[encoded data removed]",
       "prompt_number": 24,
       "text": [
        "                                                                              \n",
        "  \u239b  _    \u2020\u239e       \u239b  _    \u2020\u239e               \u2148\u22c5\u03c9_p\u22c5t  2 \u239b  _    \u2020\u239e      -\u2148\u22c5\u03c9_p\u22c5\n",
        "A\u22c5\u239d- \u03b2 + b \u23a0 + \u0394_b\u22c5\u239d- \u03b2 + b \u23a0\u22c5(-\u03b2 + b) + \u03ba\u22c5\u212f       \u22c5a \u22c5\u239d- \u03b2 + b \u23a0 + \u03ba\u22c5\u212f       \n",
        "\n",
        "      2                                \n",
        "t \u239b \u2020\u239e                 \u2020     _         \n",
        " \u22c5\u239da \u23a0 \u22c5(-\u03b2 + b) + \u03c9\u2090\u22c5a \u22c5a + A\u22c5(-\u03b2 + b)"
       ]
      }
     ],
     "prompt_number": 24
    },
    {
     "cell_type": "code",
     "collapsed": false,
     "input": [
      "H5 = collect(H5.expand(), [Dagger(a) * a, Dagger(b) * b, Dagger(a) ** 2 * b, a ** 2 * Dagger(b), b, Dagger(b)])\n",
      "\n",
      "H5"
     ],
     "language": "python",
     "metadata": {},
     "outputs": [
      {
       "latex": [
        "$$- A \\overline{\\beta} + \\Delta_{b} \\beta \\overline{\\beta} + \\Delta_{b} {{b}^\\dagger} {b} - \\beta \\kappa e^{- i \\omega_{p} t} \\left({{a}^\\dagger}\\right)^{2} - \\beta \\overline{A} - \\kappa e^{i \\omega_{p} t} \\overline{\\beta} \\left({a}\\right)^{2} + \\kappa e^{i \\omega_{p} t} \\left({a}\\right)^{2} {{b}^\\dagger} + \\kappa e^{- i \\omega_{p} t} \\left({{a}^\\dagger}\\right)^{2} {b} + \\omega_{a} {{a}^\\dagger} {a} + \\left(A - \\Delta_{b} \\beta\\right) {{b}^\\dagger} + \\left(- \\Delta_{b} \\overline{\\beta} + \\overline{A}\\right) {b}$$"
       ],
       "metadata": {},
       "output_type": "pyout",
       "png": "[encoded data removed]",
       "prompt_number": 25,
       "text": [
        "                                               2                              \n",
        "    _         _        \u2020          -\u2148\u22c5\u03c9_p\u22c5t \u239b \u2020\u239e      _      \u2148\u22c5\u03c9_p\u22c5t _  2      \n",
        "- A\u22c5\u03b2 + \u0394_b\u22c5\u03b2\u22c5\u03b2 + \u0394_b\u22c5b \u22c5b - \u03b2\u22c5\u03ba\u22c5\u212f        \u22c5\u239da \u23a0  - \u03b2\u22c5A - \u03ba\u22c5\u212f       \u22c5\u03b2\u22c5a  + \u03ba\u22c5\u212f\n",
        "\n",
        "                                2                                             \n",
        "\u2148\u22c5\u03c9_p\u22c5t  2  \u2020      -\u2148\u22c5\u03c9_p\u22c5t \u239b \u2020\u239e          \u2020                  \u2020   \u239b      _   _\u239e\n",
        "       \u22c5a \u22c5b  + \u03ba\u22c5\u212f        \u22c5\u239da \u23a0 \u22c5b + \u03c9\u2090\u22c5a \u22c5a + (A - \u0394_b\u22c5\u03b2)\u22c5b  + \u239d- \u0394_b\u22c5\u03b2 + A\u23a0\n",
        "\n",
        "  \n",
        "  \n",
        "\u22c5b"
       ]
      }
     ],
     "prompt_number": 25
    },
    {
     "cell_type": "markdown",
     "metadata": {},
     "source": [
      "The choice $\\beta = A/\\Delta_b$ eliminates the drive terms. After dropping c numbers we have:"
     ]
    },
    {
     "cell_type": "code",
     "collapsed": false,
     "input": [
      "H6 = H5.subs(beta, A/Delta_b)\n",
      "\n",
      "H6 = drop_c_number_terms(H6)\n",
      "\n",
      "H6 = collect(H6, [exp( I * omega_p * t) * kappa * a ** 2,\n",
      "                  exp(-I * omega_p * t) * kappa * Dagger(a) ** 2])\n",
      "\n",
      "H6"
     ],
     "language": "python",
     "metadata": {},
     "outputs": [
      {
       "latex": [
        "$$\\Delta_{b} {{b}^\\dagger} {b} + \\kappa e^{i \\omega_{p} t} \\left({a}\\right)^{2} \\left({{b}^\\dagger} - \\frac{\\overline{A}}{\\Delta_{b}}\\right) + \\kappa e^{- i \\omega_{p} t} \\left({{a}^\\dagger}\\right)^{2} \\left(- \\frac{A}{\\Delta_{b}} + {b}\\right) + \\omega_{a} {{a}^\\dagger} {a}$$"
       ],
       "metadata": {},
       "output_type": "pyout",
       "png": "[encoded data removed]",
       "prompt_number": 26,
       "text": [
        "                         \u239b      _ \u239e                   2                      \n",
        "     \u2020        \u2148\u22c5\u03c9_p\u22c5t  2 \u239c \u2020    A \u239f      -\u2148\u22c5\u03c9_p\u22c5t \u239b \u2020\u239e  \u239b   A     \u239e       \u2020  \n",
        "\u0394_b\u22c5b \u22c5b + \u03ba\u22c5\u212f       \u22c5a \u22c5\u239cb  - \u2500\u2500\u2500\u239f + \u03ba\u22c5\u212f        \u22c5\u239da \u23a0 \u22c5\u239c- \u2500\u2500\u2500 + b\u239f + \u03c9\u2090\u22c5a \u22c5a\n",
        "                         \u239d     \u0394_b\u23a0                     \u239d  \u0394_b    \u23a0          "
       ]
      }
     ],
     "prompt_number": 26
    },
    {
     "cell_type": "markdown",
     "metadata": {},
     "source": [
      "If we now assume that the dynamics of the mode $b$ is dominated by the classical drive field, we can neglect the $b$ operators in the hamiltonian (in this displaced frame, which describes deviations from the dynamics induced by the classical driving field):"
     ]
    },
    {
     "cell_type": "code",
     "collapsed": false,
     "input": [
      "H7 = drop_terms_containing(H6.expand(), [b, Dagger(b)])\n",
      "\n",
      "H7 = collect(H7, kappa / Delta_b)\n",
      "\n",
      "H7"
     ],
     "language": "python",
     "metadata": {},
     "outputs": [
      {
       "latex": [
        "$$\\omega_{a} {{a}^\\dagger} {a} + \\frac{\\kappa}{\\Delta_{b}} \\left(- A e^{- i \\omega_{p} t} \\left({{a}^\\dagger}\\right)^{2} - e^{i \\omega_{p} t} \\overline{A} \\left({a}\\right)^{2}\\right)$$"
       ],
       "metadata": {},
       "output_type": "pyout",
       "png": "[encoded data removed]",
       "prompt_number": 27,
       "text": [
        "            \u239b                  2                \u239e\n",
        "            \u239c     -\u2148\u22c5\u03c9_p\u22c5t \u239b \u2020\u239e     \u2148\u22c5\u03c9_p\u22c5t _  2\u239f\n",
        "    \u2020     \u03ba\u22c5\u239d- A\u22c5\u212f        \u22c5\u239da \u23a0  - \u212f       \u22c5A\u22c5a \u23a0\n",
        "\u03c9\u2090\u22c5a \u22c5a + \u2500\u2500\u2500\u2500\u2500\u2500\u2500\u2500\u2500\u2500\u2500\u2500\u2500\u2500\u2500\u2500\u2500\u2500\u2500\u2500\u2500\u2500\u2500\u2500\u2500\u2500\u2500\u2500\u2500\u2500\u2500\u2500\u2500\u2500\u2500\u2500\u2500\u2500\u2500\n",
        "                            \u0394_b                  "
       ]
      }
     ],
     "prompt_number": 27
    },
    {
     "cell_type": "markdown",
     "metadata": {},
     "source": [
      "To simpify the notation we redefine $- \\kappa A / \\Delta_b \\rightarrow \\kappa$, and assume that $A$ is real:"
     ]
    },
    {
     "cell_type": "code",
     "collapsed": false,
     "input": [
      "H = omega_a * Dagger(a) * a  + kappa * (a ** 2 * exp(I * omega_p * t) + Dagger(a) ** 2 * exp(-I * omega_p * t))\n",
      "\n",
      "Eq(Hsym, H)"
     ],
     "language": "python",
     "metadata": {},
     "outputs": [
      {
       "latex": [
        "$$H = \\kappa \\left(e^{i \\omega_{p} t} \\left({a}\\right)^{2} + e^{- i \\omega_{p} t} \\left({{a}^\\dagger}\\right)^{2}\\right) + \\omega_{a} {{a}^\\dagger} {a}$$"
       ],
       "metadata": {},
       "output_type": "pyout",
       "png": "[encoded data removed]",
       "prompt_number": 28,
       "text": [
        "      \u239b                            2\u239e          \n",
        "      \u239c \u2148\u22c5\u03c9_p\u22c5t  2    -\u2148\u22c5\u03c9_p\u22c5t \u239b \u2020\u239e \u239f       \u2020  \n",
        "H = \u03ba\u22c5\u239d\u212f       \u22c5a  + \u212f        \u22c5\u239da \u23a0 \u23a0 + \u03c9\u2090\u22c5a \u22c5a"
       ]
      }
     ],
     "prompt_number": 28
    },
    {
     "cell_type": "markdown",
     "metadata": {},
     "source": [
      "To eliminate the time-dependence in the interaction term we move to a rotating frame using the unitary transformation:"
     ]
    },
    {
     "cell_type": "code",
     "collapsed": false,
     "input": [
      "U = exp(I * omega_d * t * Dagger(a) * a)\n",
      "\n",
      "U"
     ],
     "language": "python",
     "metadata": {},
     "outputs": [
      {
       "latex": [
        "$$e^{i \\omega_{d} t {{a}^\\dagger} {a}}$$"
       ],
       "metadata": {},
       "output_type": "pyout",
       "png": "[encoded data removed]",
       "prompt_number": 29,
       "text": [
        "          \u2020  \n",
        " \u2148\u22c5\u03c9_d\u22c5t\u22c5a \u22c5a\n",
        "\u212f            "
       ]
      }
     ],
     "prompt_number": 29
    },
    {
     "cell_type": "code",
     "collapsed": false,
     "input": [
      "H2 = hamiltonian_transformation(U, H)\n",
      "\n",
      "H2"
     ],
     "language": "python",
     "metadata": {},
     "outputs": [
      {
       "latex": [
        "$$\\kappa \\left(e^{2 i \\omega_{d} t} e^{- i \\omega_{p} t} \\left({{a}^\\dagger}\\right)^{2} + e^{- 2 i \\omega_{d} t} e^{i \\omega_{p} t} \\left({a}\\right)^{2}\\right) + \\omega_{a} {{a}^\\dagger} {a} - \\omega_{d} {{a}^\\dagger} {a}$$"
       ],
       "metadata": {},
       "output_type": "pyout",
       "png": "[encoded data removed]",
       "prompt_number": 30,
       "text": [
        "  \u239b                         2                          \u239e                     \n",
        "  \u239c 2\u22c5\u2148\u22c5\u03c9_d\u22c5t  -\u2148\u22c5\u03c9_p\u22c5t \u239b \u2020\u239e     -2\u22c5\u2148\u22c5\u03c9_d\u22c5t  \u2148\u22c5\u03c9_p\u22c5t  2\u239f       \u2020          \u2020  \n",
        "\u03ba\u22c5\u239d\u212f         \u22c5\u212f        \u22c5\u239da \u23a0  + \u212f          \u22c5\u212f       \u22c5a \u23a0 + \u03c9\u2090\u22c5a \u22c5a - \u03c9_d\u22c5a \u22c5a"
       ]
      }
     ],
     "prompt_number": 30
    },
    {
     "cell_type": "markdown",
     "metadata": {},
     "source": [
      "Now consider the case $\\omega_p = 2 \\omega_d$:"
     ]
    },
    {
     "cell_type": "code",
     "collapsed": false,
     "input": [
      "H3 = H2.subs(omega_d, omega_p/2)\n",
      "\n",
      "H3 = collect(H3, Dagger(a) * a)\n",
      "\n",
      "H3"
     ],
     "language": "python",
     "metadata": {},
     "outputs": [
      {
       "latex": [
        "$$\\kappa \\left(\\left({{a}^\\dagger}\\right)^{2} + \\left({a}\\right)^{2}\\right) + \\left(\\omega_{a} - \\frac{\\omega_{p}}{2}\\right) {{a}^\\dagger} {a}$$"
       ],
       "metadata": {},
       "output_type": "pyout",
       "png": "[encoded data removed]",
       "prompt_number": 31,
       "text": [
        "  \u239b    2     \u239e                  \n",
        "  \u239c\u239b \u2020\u239e     2\u239f   \u239b     \u03c9_p\u239e  \u2020  \n",
        "\u03ba\u22c5\u239d\u239da \u23a0  + a \u23a0 + \u239c\u03c9\u2090 - \u2500\u2500\u2500\u239f\u22c5a \u22c5a\n",
        "                 \u239d      2 \u23a0     "
       ]
      }
     ],
     "prompt_number": 31
    },
    {
     "cell_type": "markdown",
     "metadata": {},
     "source": [
      "Introduce $\\Delta_a = \\omega_a - \\omega_p / 2$:"
     ]
    },
    {
     "cell_type": "code",
     "collapsed": false,
     "input": [
      "H4 = H3.subs(omega_a, Delta_a + omega_p/2)\n",
      "\n",
      "H4"
     ],
     "language": "python",
     "metadata": {},
     "outputs": [
      {
       "latex": [
        "$$\\Delta_{a} {{a}^\\dagger} {a} + \\kappa \\left(\\left({{a}^\\dagger}\\right)^{2} + \\left({a}\\right)^{2}\\right)$$"
       ],
       "metadata": {},
       "output_type": "pyout",
       "png": "[encoded data removed]",
       "prompt_number": 32,
       "text": [
        "            \u239b    2     \u239e\n",
        "    \u2020       \u239c\u239b \u2020\u239e     2\u239f\n",
        "\u0394\u2090\u22c5a \u22c5a + \u03ba\u22c5\u239d\u239da \u23a0  + a \u23a0"
       ]
      }
     ],
     "prompt_number": 32
    },
    {
     "cell_type": "markdown",
     "metadata": {},
     "source": [
      "We can diagonalize this Hamiltonian by introducing the squeezing transformation:"
     ]
    },
    {
     "cell_type": "code",
     "collapsed": false,
     "input": [
      "chi = symbols(\"chi\")"
     ],
     "language": "python",
     "metadata": {},
     "outputs": [],
     "prompt_number": 33
    },
    {
     "cell_type": "code",
     "collapsed": false,
     "input": [
      "U = exp(chi/2 * a **2 - chi/2 * Dagger(a) ** 2)\n",
      "\n",
      "U"
     ],
     "language": "python",
     "metadata": {},
     "outputs": [
      {
       "latex": [
        "$$e^{- \\frac{\\chi \\left({{a}^\\dagger}\\right)^{2}}{2} + \\frac{\\chi \\left({a}\\right)^{2}}{2}}$$"
       ],
       "metadata": {},
       "output_type": "pyout",
       "png": "[encoded data removed]",
       "prompt_number": 34,
       "text": [
        "         2       \n",
        "     \u239b \u2020\u239e       2\n",
        "   \u03c7\u22c5\u239da \u23a0    \u03c7\u22c5a \n",
        " - \u2500\u2500\u2500\u2500\u2500\u2500\u2500 + \u2500\u2500\u2500\u2500\n",
        "      2       2  \n",
        "\u212f                "
       ]
      }
     ],
     "prompt_number": 34
    },
    {
     "cell_type": "markdown",
     "metadata": {},
     "source": [
      "which tranforms the operators $a$ and $a^\\dagger$ according to the well-known relations:"
     ]
    },
    {
     "cell_type": "code",
     "collapsed": false,
     "input": [
      "hamiltonian_transformation(U, a)"
     ],
     "language": "python",
     "metadata": {},
     "outputs": [
      {
       "latex": [
        "$$\\sinh{\\left (\\chi \\right )} {{a}^\\dagger} + \\cosh{\\left (\\chi \\right )} {a}$$"
       ],
       "metadata": {},
       "output_type": "pyout",
       "png": "[encoded data removed]",
       "prompt_number": 35,
       "text": [
        "         \u2020            \n",
        "sinh(\u03c7)\u22c5a  + cosh(\u03c7)\u22c5a"
       ]
      }
     ],
     "prompt_number": 35
    },
    {
     "cell_type": "code",
     "collapsed": false,
     "input": [
      "hamiltonian_transformation(U, Dagger(a))"
     ],
     "language": "python",
     "metadata": {},
     "outputs": [
      {
       "latex": [
        "$$\\sinh{\\left (\\chi \\right )} {a} + \\cosh{\\left (\\chi \\right )} {{a}^\\dagger}$$"
       ],
       "metadata": {},
       "output_type": "pyout",
       "png": "[encoded data removed]",
       "prompt_number": 36,
       "text": [
        "                     \u2020\n",
        "sinh(\u03c7)\u22c5a + cosh(\u03c7)\u22c5a "
       ]
      }
     ],
     "prompt_number": 36
    },
    {
     "cell_type": "markdown",
     "metadata": {},
     "source": [
      "and in this frame the Hamiltonian takes the form:"
     ]
    },
    {
     "cell_type": "code",
     "collapsed": false,
     "input": [
      "H5 = hamiltonian_transformation(U, H4)\n",
      "\n",
      "H5"
     ],
     "language": "python",
     "metadata": {},
     "outputs": [
      {
       "latex": [
        "$$\\Delta_{a} \\left(\\sinh{\\left (\\chi \\right )} {a} + \\cosh{\\left (\\chi \\right )} {{a}^\\dagger}\\right) \\left(\\sinh{\\left (\\chi \\right )} {{a}^\\dagger} + \\cosh{\\left (\\chi \\right )} {a}\\right) + \\kappa \\left(\\left(\\sinh{\\left (\\chi \\right )} {{a}^\\dagger} + \\cosh{\\left (\\chi \\right )} {a}\\right)^{2} + \\left(\\sinh{\\left (\\chi \\right )} {a} + \\cosh{\\left (\\chi \\right )} {{a}^\\dagger}\\right)^{2}\\right)$$"
       ],
       "metadata": {},
       "output_type": "pyout",
       "png": "[encoded data removed]",
       "prompt_number": 37,
       "text": [
        "                                                         \u239b                    \n",
        "   \u239b                     \u2020\u239e \u239b         \u2020            \u239e     \u239c\u239b         \u2020         \n",
        "\u0394\u2090\u22c5\u239dsinh(\u03c7)\u22c5a + cosh(\u03c7)\u22c5a \u23a0\u22c5\u239dsinh(\u03c7)\u22c5a  + cosh(\u03c7)\u22c5a\u23a0 + \u03ba\u22c5\u239d\u239dsinh(\u03c7)\u22c5a  + cosh(\u03c7\n",
        "\n",
        "    2                           2\u239e\n",
        "   \u239e    \u239b                     \u2020\u239e \u239f\n",
        ")\u22c5a\u23a0  + \u239dsinh(\u03c7)\u22c5a + cosh(\u03c7)\u22c5a \u23a0 \u23a0"
       ]
      }
     ],
     "prompt_number": 37
    },
    {
     "cell_type": "code",
     "collapsed": false,
     "input": [
      "H6 = normal_ordered_form(H5.expand(), independent=True)\n",
      "\n",
      "H6 = drop_c_number_terms(H6)\n",
      "\n",
      "H6 = collect(H6, [Dagger(a) * a, Dagger(a)**2, a**2])\n",
      "\n",
      "H6"
     ],
     "language": "python",
     "metadata": {},
     "outputs": [
      {
       "latex": [
        "$$\\left(\\Delta_{a} \\sinh^{2}{\\left (\\chi \\right )} + \\Delta_{a} \\cosh^{2}{\\left (\\chi \\right )} + 4 \\kappa \\sinh{\\left (\\chi \\right )} \\cosh{\\left (\\chi \\right )}\\right) {{a}^\\dagger} {a} + \\left(\\Delta_{a} \\sinh{\\left (\\chi \\right )} \\cosh{\\left (\\chi \\right )} + \\kappa \\sinh^{2}{\\left (\\chi \\right )} + \\kappa \\cosh^{2}{\\left (\\chi \\right )}\\right) \\left({{a}^\\dagger}\\right)^{2} + \\left(\\Delta_{a} \\sinh{\\left (\\chi \\right )} \\cosh{\\left (\\chi \\right )} + \\kappa \\sinh^{2}{\\left (\\chi \\right )} + \\kappa \\cosh^{2}{\\left (\\chi \\right )}\\right) \\left({a}\\right)^{2}$$"
       ],
       "metadata": {},
       "output_type": "pyout",
       "png": "[encoded data removed]",
       "prompt_number": 38,
       "text": [
        "                                                                              \n",
        "\u239b       2             2                         \u239e  \u2020     \u239b                    \n",
        "\u239d\u0394\u2090\u22c5sinh (\u03c7) + \u0394\u2090\u22c5cosh (\u03c7) + 4\u22c5\u03ba\u22c5sinh(\u03c7)\u22c5cosh(\u03c7)\u23a0\u22c5a \u22c5a + \u239d\u0394\u2090\u22c5sinh(\u03c7)\u22c5cosh(\u03c7) +\n",
        "\n",
        "                              2                                               \n",
        "       2            2   \u239e \u239b \u2020\u239e    \u239b                           2            2  \n",
        " \u03ba\u22c5sinh (\u03c7) + \u03ba\u22c5cosh (\u03c7)\u23a0\u22c5\u239da \u23a0  + \u239d\u0394\u2090\u22c5sinh(\u03c7)\u22c5cosh(\u03c7) + \u03ba\u22c5sinh (\u03c7) + \u03ba\u22c5cosh (\u03c7\n",
        "\n",
        "     \n",
        " \u239e  2\n",
        ")\u23a0\u22c5a "
       ]
      }
     ],
     "prompt_number": 38
    },
    {
     "cell_type": "code",
     "collapsed": false,
     "input": [
      "H7 = collect(H6, H6.args[1].args[0])\n",
      "\n",
      "H7"
     ],
     "language": "python",
     "metadata": {},
     "outputs": [
      {
       "latex": [
        "$$\\left(\\Delta_{a} \\sinh^{2}{\\left (\\chi \\right )} + \\Delta_{a} \\cosh^{2}{\\left (\\chi \\right )} + 4 \\kappa \\sinh{\\left (\\chi \\right )} \\cosh{\\left (\\chi \\right )}\\right) {{a}^\\dagger} {a} + \\left(\\Delta_{a} \\sinh{\\left (\\chi \\right )} \\cosh{\\left (\\chi \\right )} + \\kappa \\sinh^{2}{\\left (\\chi \\right )} + \\kappa \\cosh^{2}{\\left (\\chi \\right )}\\right) \\left(\\left({{a}^\\dagger}\\right)^{2} + \\left({a}\\right)^{2}\\right)$$"
       ],
       "metadata": {},
       "output_type": "pyout",
       "png": "[encoded data removed]",
       "prompt_number": 39,
       "text": [
        "                                                                              \n",
        "\u239b       2             2                         \u239e  \u2020     \u239b                    \n",
        "\u239d\u0394\u2090\u22c5sinh (\u03c7) + \u0394\u2090\u22c5cosh (\u03c7) + 4\u22c5\u03ba\u22c5sinh(\u03c7)\u22c5cosh(\u03c7)\u23a0\u22c5a \u22c5a + \u239d\u0394\u2090\u22c5sinh(\u03c7)\u22c5cosh(\u03c7) +\n",
        "\n",
        "                          \u239b    2     \u239e\n",
        "       2            2   \u239e \u239c\u239b \u2020\u239e     2\u239f\n",
        " \u03ba\u22c5sinh (\u03c7) + \u03ba\u22c5cosh (\u03c7)\u23a0\u22c5\u239d\u239da \u23a0  + a \u23a0"
       ]
      }
     ],
     "prompt_number": 39
    },
    {
     "cell_type": "code",
     "collapsed": false,
     "input": [
      "# Trick to simplify the coefficients for the quantum operators\n",
      "H8 = Add(*(simplify(arg.args[0]) * Mul(*(arg.args[1:])) for arg in H7.args))\n",
      "\n",
      "H8"
     ],
     "language": "python",
     "metadata": {},
     "outputs": [
      {
       "latex": [
        "$$\\left(\\frac{\\Delta_{a}}{2} \\sinh{\\left (2 \\chi \\right )} + \\kappa \\cosh{\\left (2 \\chi \\right )}\\right) \\left(\\left({{a}^\\dagger}\\right)^{2} + \\left({a}\\right)^{2}\\right) + \\left(\\Delta_{a} \\cosh{\\left (2 \\chi \\right )} + 2 \\kappa \\sinh{\\left (2 \\chi \\right )}\\right) {{a}^\\dagger} {a}$$"
       ],
       "metadata": {},
       "output_type": "pyout",
       "png": "[encoded data removed]",
       "prompt_number": 40,
       "text": [
        "                             \u239b    2     \u239e                                     \n",
        "\u239b\u0394\u2090\u22c5sinh(2\u22c5\u03c7)              \u239e \u239c\u239b \u2020\u239e     2\u239f                                   \u2020 \n",
        "\u239c\u2500\u2500\u2500\u2500\u2500\u2500\u2500\u2500\u2500\u2500\u2500\u2500 + \u03ba\u22c5cosh(2\u22c5\u03c7)\u239f\u22c5\u239d\u239da \u23a0  + a \u23a0 + (\u0394\u2090\u22c5cosh(2\u22c5\u03c7) + 2\u22c5\u03ba\u22c5sinh(2\u22c5\u03c7))\u22c5a \u22c5\n",
        "\u239d     2                    \u23a0                                                  \n",
        "\n",
        " \n",
        " \n",
        "a\n",
        " "
       ]
      }
     ],
     "prompt_number": 40
    },
    {
     "cell_type": "markdown",
     "metadata": {},
     "source": [
      "Now if we choose $\\chi$ such that the coefficient of $a^2 + {a^\\dagger}^2$ is zero:"
     ]
    },
    {
     "cell_type": "code",
     "collapsed": false,
     "input": [
      "chi_eq = H8.args[0].args[0]"
     ],
     "language": "python",
     "metadata": {},
     "outputs": [],
     "prompt_number": 41
    },
    {
     "cell_type": "code",
     "collapsed": false,
     "input": [
      "Eq(chi_eq, 0)"
     ],
     "language": "python",
     "metadata": {},
     "outputs": [
      {
       "latex": [
        "$$\\frac{\\Delta_{a}}{2} \\sinh{\\left (2 \\chi \\right )} + \\kappa \\cosh{\\left (2 \\chi \\right )} = 0$$"
       ],
       "metadata": {},
       "output_type": "pyout",
       "png": "[encoded data removed]",
       "prompt_number": 42,
       "text": [
        "\u0394\u2090\u22c5sinh(2\u22c5\u03c7)                  \n",
        "\u2500\u2500\u2500\u2500\u2500\u2500\u2500\u2500\u2500\u2500\u2500\u2500 + \u03ba\u22c5cosh(2\u22c5\u03c7) = 0\n",
        "     2                        "
       ]
      }
     ],
     "prompt_number": 42
    },
    {
     "cell_type": "code",
     "collapsed": false,
     "input": [
      "chi_sol = simplify(solve(chi_eq, chi)[3])\n",
      "\n",
      "Eq(chi, chi_sol)"
     ],
     "language": "python",
     "metadata": {},
     "outputs": [
      {
       "latex": [
        "$$\\chi = \\log{\\left (\\sqrt[4]{\\frac{\\Delta_{a} - 2 \\kappa}{\\Delta_{a} + 2 \\kappa}} \\right )}$$"
       ],
       "metadata": {},
       "output_type": "pyout",
       "png": "[encoded data removed]",
       "prompt_number": 43,
       "text": [
        "       \u239b    __________\u239e\n",
        "       \u239c   \u2571 \u0394\u2090 - 2\u22c5\u03ba \u239f\n",
        "\u03c7 = log\u239c4 \u2571  \u2500\u2500\u2500\u2500\u2500\u2500\u2500\u2500 \u239f\n",
        "       \u239d\u2572\u2571   \u0394\u2090 + 2\u22c5\u03ba \u23a0"
       ]
      }
     ],
     "prompt_number": 43
    },
    {
     "cell_type": "markdown",
     "metadata": {},
     "source": [
      "we obtain a diagonal Hamiltonian:"
     ]
    },
    {
     "cell_type": "code",
     "collapsed": false,
     "input": [
      "H9 = H8.subs(chi_eq.args[0], -chi_eq.args[1])\n",
      "\n",
      "H9"
     ],
     "language": "python",
     "metadata": {},
     "outputs": [
      {
       "latex": [
        "$$\\left(\\Delta_{a} \\cosh{\\left (2 \\chi \\right )} + 2 \\kappa \\sinh{\\left (2 \\chi \\right )}\\right) {{a}^\\dagger} {a}$$"
       ],
       "metadata": {},
       "output_type": "pyout",
       "png": "[encoded data removed]",
       "prompt_number": 44,
       "text": [
        "                                \u2020  \n",
        "(\u0394\u2090\u22c5cosh(2\u22c5\u03c7) + 2\u22c5\u03ba\u22c5sinh(2\u22c5\u03c7))\u22c5a \u22c5a"
       ]
      }
     ],
     "prompt_number": 44
    },
    {
     "cell_type": "markdown",
     "metadata": {},
     "source": [
      "with frequency:"
     ]
    },
    {
     "cell_type": "code",
     "collapsed": false,
     "input": [
      "Eq(Symbol(\"omega\"), H9.args[0])"
     ],
     "language": "python",
     "metadata": {},
     "outputs": [
      {
       "latex": [
        "$$\\omega = \\Delta_{a} \\cosh{\\left (2 \\chi \\right )} + 2 \\kappa \\sinh{\\left (2 \\chi \\right )}$$"
       ],
       "metadata": {},
       "output_type": "pyout",
       "png": "[encoded data removed]",
       "prompt_number": 45,
       "text": [
        "\u03c9 = \u0394\u2090\u22c5cosh(2\u22c5\u03c7) + 2\u22c5\u03ba\u22c5sinh(2\u22c5\u03c7)"
       ]
      }
     ],
     "prompt_number": 45
    },
    {
     "cell_type": "heading",
     "level": 3,
     "metadata": {},
     "source": [
      "Versions"
     ]
    },
    {
     "cell_type": "code",
     "collapsed": false,
     "input": [
      "%reload_ext version_information\n",
      "\n",
      "%version_information sympy, sympsi"
     ],
     "language": "python",
     "metadata": {},
     "outputs": [
      {
       "html": [
        "<table><tr><th>Software</th><th>Version</th></tr><tr><td>Python</td><td>3.4.1 (default, Sep 20 2014, 19:44:17) [GCC 4.2.1 Compatible Apple LLVM 5.1 (clang-503.0.40)]</td></tr><tr><td>IPython</td><td>2.3.0</td></tr><tr><td>OS</td><td>Darwin 13.4.0 x86_64 i386 64bit</td></tr><tr><td>sympy</td><td>0.7.5-git</td></tr><tr><td>sympsi</td><td>0.1.0.dev-0c6e514</td></tr><tr><td colspan='2'>Thu Oct 09 16:01:18 2014 JST</td></tr></table>"
       ],
       "json": [
        "{\"Software versions\": [{\"module\": \"Python\", \"version\": \"3.4.1 (default, Sep 20 2014, 19:44:17) [GCC 4.2.1 Compatible Apple LLVM 5.1 (clang-503.0.40)]\"}, {\"module\": \"IPython\", \"version\": \"2.3.0\"}, {\"module\": \"OS\", \"version\": \"Darwin 13.4.0 x86_64 i386 64bit\"}, {\"module\": \"sympy\", \"version\": \"0.7.5-git\"}, {\"module\": \"sympsi\", \"version\": \"0.1.0.dev-0c6e514\"}]}"
       ],
       "latex": [
        "\\begin{tabular}{|l|l|}\\hline\n",
        "{\\bf Software} & {\\bf Version} \\\\ \\hline\\hline\n",
        "Python & 3.4.1 (default, Sep 20 2014, 19:44:17) [GCC 4.2.1 Compatible Apple LLVM 5.1 (clang-503.0.40)] \\\\ \\hline\n",
        "IPython & 2.3.0 \\\\ \\hline\n",
        "OS & Darwin 13.4.0 x86\\letterunderscore{}64 i386 64bit \\\\ \\hline\n",
        "sympy & 0.7.5-git \\\\ \\hline\n",
        "sympsi & 0.1.0.dev-0c6e514 \\\\ \\hline\n",
        "\\hline \\multicolumn{2}{|l|}{Thu Oct 09 16:01:18 2014 JST} \\\\ \\hline\n",
        "\\end{tabular}\n"
       ],
       "metadata": {},
       "output_type": "pyout",
       "prompt_number": 46,
       "text": [
        "Software versions\n",
        "Python 3.4.1 (default, Sep 20 2014, 19:44:17) [GCC 4.2.1 Compatible Apple LLVM 5.1 (clang-503.0.40)]\n",
        "IPython 2.3.0\n",
        "OS Darwin 13.4.0 x86_64 i386 64bit\n",
        "sympy 0.7.5-git\n",
        "sympsi 0.1.0.dev-0c6e514\n",
        "Thu Oct 09 16:01:18 2014 JST"
       ]
      }
     ],
     "prompt_number": 46
    }
   ],
   "metadata": {}
  }
 ]
}