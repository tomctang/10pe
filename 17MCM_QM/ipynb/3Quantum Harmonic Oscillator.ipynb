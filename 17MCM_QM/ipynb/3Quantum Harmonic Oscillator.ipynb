{
 "cells": [
  {
   "cell_type": "markdown",
   "id": "871abf",
   "metadata": {
    "collapsed": false
   },
   "source": [
    "\n",
    "Physicists LOVE the harmonic oscillator potential.  It is one of our favorites for two very important reasons: 1) It is one of handful of potentials that we can solve exactly and 2) _any_ restoring force potential can be approximated as a harmonic oscillator near the equilibrium point.  This is why we often approximate solid matter as a collection of ball-and-springs; the molecular bonds between atoms behave like springs if you don't compress the solid too much.\n",
    "\n",
    "The harmonic potential energy equation is \\(U=\\frac{1}{2}m \\omega^2 x^2\\).  Plugging this into Schrodinger's equation gives\n",
    "\n",
    "\\[\\frac{-\\hbar^2}{2m} \\frac{d^2}{dx^2}\\psi(x) + \\frac{1}{2}m \\omega^2 x^2 \\psi(x) = E \\psi(x)\\] \n",
    "\n",
    "\n",
    "# <img src=\"sagemathcloud_logo1.png\" width=\"48\"> Solving differential equations\n",
    "\n",
    "\n",
    "- When solving differential equations it helps to specify which variables are real and which are positive using the `assume()` command.\n",
    "- You need to specify the independent variable of your function.  In this case we specify that $\\psi$ is a function of $x$.\n",
    "- The differential equation is defined using the Python `def` method.\n",
    "    - This creates a function which we can differential, integrate, or solve using the differential equation solver.\n",
    "- Use `desolve()` to solve the differential equation.  The arguments of `desolve()` are the differential equation to solve, the dependent variable ($\\psi$ in this case), and the independent variable x (specified using `ivar=x` to indicate the independent variable).  In this case, `desolve()` with encounter an issue unless you specify `contrib_ode=True`, in which case a slightly different solver is used to handle the differential equation."
   ]
  },
  {
   "cell_type": "code",
   "execution_count": 0,
   "id": "708f75",
   "metadata": {
    "collapsed": false
   },
   "outputs": [
   ],
   "source": [
    "psi,m,L,omega=var('psi,m,L,omega')  #Declare wave function, mass, and box length as variables\n",
    "\n",
    "Ener=var('Ener',latex_name=r'\\mathcal{E}')  #Declare Ener as energy variable but will display a script E when using show() and pretty_print\n",
    "hbar=var('hbar',latex_name=r'\\hbar')  #Declares hbar as a variable and displays hbar symbol when using show() and pretty_print\n",
    "\n",
    "assume(Ener,'real')   #Assume the variable Ener (the energy) only takes real values...\n",
    "assume(Ener>0)   #... and assume the energy is greater than zero.  These are needed for desolve()\n",
    "\n",
    "assume(m,'real')   #Assume the mass is real...\n",
    "assume(m>0)     #... and positive.  If you don't make these assumptions you will get an error message asking if these variables are positive, negative, or zero\n",
    "\n",
    "psi=function('psi')(x)   #To solve the differential equation we must tell SageMath that psi is a function called 'psi' with a single dependent variable\n",
    "\n",
    "\n",
    "def f(psi):  #Define the equation to solve.\n",
    "    return -hbar^2/(2*m)*diff(psi,x,2)+(1/2*m*omega^2*x^2-Ener)*psi   #This is the differential equation to be solved\n",
    "\n",
    "general_soln = desolve(f(psi)==0,psi,ivar=x,contrib_ode=True)   #\n",
    "\n",
    "\n",
    "pretty_print('The general solution to Schrodinger\\'s equation is ', general_soln[0])"
   ]
  },
  {
   "cell_type": "markdown",
   "id": "22a3bf",
   "metadata": {
    "collapsed": false
   },
   "source": [
    "\n",
    "The Kummer functions are [confluent hypergeometric functions](https://en.wikipedia.org/wiki/Confluent_hypergeometric_function).  At present SageMath cannot evaluate these functions so I'll enter the first few wave functions for you manually below."
   ]
  },
  {
   "cell_type": "code",
   "execution_count": 0,
   "id": "4790bb",
   "metadata": {
    "collapsed": false
   },
   "outputs": [
   ],
   "source": [
    "#Harmonic Oscillator Wavefunction and energy\n",
    "m,omega=var('m,omega')\n",
    "hbar=var('hbar',latex_name=r'\\hbar')                                  #Declares hbar as a variable and displays hbar symbol when using show() and pretty_print\n",
    "alpha=m*omega/hbar                               #If alpha is defined _after_ the wave functions are defined, you would need to use .substitute(alpha=m*omega/hbar)\n",
    "\n",
    "psi_HO0(x) = (alpha/pi)^(1/4)*e^(-alpha*x^2/2)                        #n=0 state of 1D harmonic oscillator\n",
    "psi_HO1(x) = (4*alpha^3/pi)^(1/4)*x*e^(-alpha*x^2/2)                  #n=1 state of 1D harmonic oscillator\n",
    "psi_HO2(x) = (alpha/(4*pi))^(1/4)*(2*alpha*x^2-1)*e^(-alpha*x^2/2)    #n=2 state of 1D harmonic oscillator\n",
    "psi_HO3(x) = (alpha^3/(9*pi))^(1/4)*(2*alpha*x^3-3*x)*e^(-alpha*x^2/2)#n=3 state of 1D harmonic oscillator\n",
    "psi_HO4(x) = (alpha/(36*pi))^(1/4)*(2*alpha^2*x^4-6*alpha*x^2+3/2)*e^(-alpha*x^2/2)  #n=4 state of 1D harmonic oscillator\n",
    "psi_HO5(x) = (alpha/(225*pi))^(1/4)*(2*alpha^(5/2)*x^5-10*alpha^(3/2)*x^3+15*alpha^(1/2)*x/2)*e^(-alpha*x^2/2)  #n=5 state of 1D harmonic oscillator\n",
    "\n",
    "\n",
    "def E_n(n,omega):                                                     #1D harmonic oscillator energy function\n",
    "    return (n+1/2)*hbar*omega\n",
    "\n",
    "def H(psi):                                                           #1D harmonic oscillator Hamiltonian\n",
    "    return -hbar^2/(2*m)*diff(psi,x,2)+1/2*m*omega^2*x^2*psi"
   ]
  },
  {
   "cell_type": "markdown",
   "id": "2f157b",
   "metadata": {
    "collapsed": false
   },
   "source": [
    "\n",
    "In general, the quantum harmonic oscillator wave function can be found from the following relationships:\n",
    "\n",
    "\\[\\psi_n(x) = \\left( \\frac{1}{2^n n!} \\right) \\left( \\frac{\\alpha}{\\pi} \\right) H_n(\\alpha^{1/2}x) e^{-\\alpha x^2/2}   \\] \n",
    "\n",
    "where the Hermite polynomial $H_n(x)$ is found from \n",
    "\n",
    "\\[H_n(x) = (-1)^n e^{x^2} \\frac{d^n}{dx^n} e^{-x^2} \\]"
   ]
  },
  {
   "cell_type": "markdown",
   "id": "711b40",
   "metadata": {
    "collapsed": false
   },
   "source": [
    "\n",
    "# For You To Try:\n",
    "\n",
    "Prove that the quantum harmonic oscillator wave functions are normalized"
   ]
  },
  {
   "cell_type": "code",
   "execution_count": 0,
   "id": "67d4cb",
   "metadata": {
    "collapsed": false
   },
   "outputs": [
   ],
   "source": [
    "#Insert your work here"
   ]
  },
  {
   "cell_type": "markdown",
   "id": "44ed53",
   "metadata": {
    "collapsed": false
   },
   "source": [
    "\n",
    "# <img src=\"sagemathcloud_logo1.png\" width=\"48\"> Fancier 2D Plotting\n",
    "\n",
    "\n",
    "- You can add titles, label axes, change label size, and move the title of plots\n",
    "- You can specify different line styles:\n",
    "    - Solid lines '-'\n",
    "    - Dashed lines '--'\n",
    "    - Dash dot '-.'\n",
    "    - Dotted ':'\n",
    "- If you assign a plot to a variable name, you can add on additional plots and features.\n",
    "    - In Python, `P+=text...` is the same as `P=P+text...`.  This is called in-place addition\n",
    "    - Text can be added to a plot using `text('something profound', (x,y), color='red)` where `x` and `y` are the location of the midpoint of the text.\n",
    "    - Arrows can be added to point out features by specifying the location of the head and tail of the arrow `arrow2d((x1,y1),(x2,y2))`\n",
    "    - Multiple plots can be combined into a single graph by adding `plot()` commands to`P`\n",
    "    \n",
    "    ### Plot the ground state wavefunction of the one-dimensional harmonic oscillator"
   ]
  },
  {
   "cell_type": "code",
   "execution_count": 0,
   "id": "f72dbe",
   "metadata": {
    "collapsed": false
   },
   "outputs": [
   ],
   "source": [
    "psi0_plot(x)=psi_HO0(x).substitute(m=1,omega=1,hbar=1)      #To plot a function, all variables must be defined - chose variables = 1 for simplicity\n",
    "\n",
    "P=plot(psi0_plot(x),[x,-2,2],linestyle='--',title='n=1 State of QHO', axes_labels=['Position x', '$\\psi(x)$'],axes_labels_size=1, title_pos=(.3,1))\n",
    "P+= text('Wave function peak', (1, 1.05), color='red')\n",
    "P+=arrow2d((1, 1), (0, .75))\n",
    "P.show()"
   ]
  },
  {
   "cell_type": "markdown",
   "id": "af487e",
   "metadata": {
    "collapsed": false
   },
   "source": [
    "\n",
    "# For You To Try:\n",
    "\n",
    "- Plot the $n=1$, $n=2$, and $n=3$ wave functions for the quantum harmonic oscillator on the same plot\n",
    "- Describe how the number of nodes in the wave function relates to the value of n\n",
    "- Draw arrows to indicate the location of the nodes of the wave function"
   ]
  },
  {
   "cell_type": "code",
   "execution_count": 0,
   "id": "ae90ac",
   "metadata": {
    "collapsed": false
   },
   "outputs": [
   ],
   "source": [
    "#Insert your code here"
   ]
  },
  {
   "cell_type": "markdown",
   "id": "41fe8d",
   "metadata": {
    "collapsed": false
   },
   "source": [
    "\n",
    "### Calculate harmonic oscillator energy from Schrodinger equation and wave function\n",
    "\n",
    "We can check that the wave functions satisfy Schrodinger's equation and give the correct energy.  The equation is\n",
    "\n",
    "\\[\\hat{H}\\psi(x) = E \\psi(x).\\] \n",
    "\n",
    "Since $E$ is a number (unlike $\\hat{H}$, which is an operator), we can divide both sides of the equation by $\\psi(x)$ and cancel the terms on the right hand side to get an equation for the energy.\n",
    "\n",
    "\\[\\frac{\\hat{H}\\psi(x)}{\\psi(x)} = E.\\]"
   ]
  },
  {
   "cell_type": "code",
   "execution_count": 0,
   "id": "6fb8a9",
   "metadata": {
    "collapsed": false
   },
   "outputs": [
   ],
   "source": [
    "f=H(psi_HO0(x))/psi_HO0(x)\n",
    "show(f)"
   ]
  },
  {
   "cell_type": "markdown",
   "id": "8f1da3",
   "metadata": {
    "collapsed": false
   },
   "source": [
    "\n",
    "# <img src=\"sagemathcloud_logo1.png\" width=\"48\"> Simplify Symbolic Expressions\n",
    "\n",
    "- The `.expand()` command will distribute terms and expand powers in an expression\n",
    "    - Useful for getting terms to cancel out\n",
    "- The `.canonicalize_radical()` command returns the _canonical_ form of logs and exponents\n",
    "- Other simplification commands include:\n",
    "    - `.combine()`,\n",
    "    - `.simplify_fill()`, \n",
    "    - `.simplify_trig()`, \n",
    "    - `.reduce_trig()`, \n",
    "    - `.simplify_log()`, \n",
    "    - `.trig_expand()`\n",
    "\n",
    "This result does not look like what we would expect.  However, computer algebra systems like Maxima (the heart of SageMath computer algebra) sometimes have issues with non-integer powers.  One trick is to raise this function to the nth power (in this case it would be to the 4th power) to get rid of non-integer powers, simplify the equation, then take the nth root to get the final result.  Let's try this:"
   ]
  },
  {
   "cell_type": "code",
   "execution_count": 0,
   "id": "0bc406",
   "metadata": {
    "collapsed": false
   },
   "outputs": [
   ],
   "source": [
    "f4=(f^4).expand()    #Fourth power\n",
    "\n",
    "pretty_print('Taking the fourth power of our original result simplifies things down to $f^4=$', f4) \n",
    "\n",
    "f1=(f4^(1/4)).canonicalize_radical()    #.canonicalize_radical() simplifies terms involving exponents\n",
    "\n",
    "pretty_print('Taking the fourth root and using the .canonicalize_radical() command gives us ', f1)\n",
    "pretty_print('The energy of the n=1 state from the energy function E_n(n,omega) is $E_n=$', E_n(0,omega))"
   ]
  },
  {
   "cell_type": "markdown",
   "id": "45b892",
   "metadata": {
    "collapsed": false
   },
   "source": [
    "\n",
    "# For you to try:\n",
    "\n",
    "- Use the Hamiltonian to find the energies of the \\(n=1\\), \\(n=2\\), and \\(n=3\\) states.\n",
    "    - Remember that \\(E = \\frac{H \\psi(x)}{\\psi(x)}\\)\n",
    "    - If your resulting equation is a huge mess, try squaring, expanding, then simplifying the equation\n",
    "\n",
    "- Check that your results are correct by using the function `E_n(n,omega)`"
   ]
  },
  {
   "cell_type": "code",
   "execution_count": 0,
   "id": "1fe055",
   "metadata": {
    "collapsed": false
   },
   "outputs": [
   ],
   "source": [
    "#Insert your work here"
   ]
  },
  {
   "cell_type": "markdown",
   "id": "89e0ff",
   "metadata": {
    "collapsed": false
   },
   "source": [
    "\n",
    "### Calculate the commutator $[\\hat{x},\\hat{p}]$\n",
    "\n",
    "We can define the momentum operator $\\hat{p}$ using `def p:`.  The operator $\\hat{x}$ is just multiplication by the variable $x$ so we don't need to define a separate operator.  One thing to keep in mind is that we must explicitly apply the operators (i.e. All terms that the operator operates on must be inside the parentheses as an argument to the operator function)"
   ]
  },
  {
   "cell_type": "code",
   "execution_count": 0,
   "id": "fc9eaf",
   "metadata": {
    "collapsed": false
   },
   "outputs": [
   ],
   "source": [
    "def p(psi):   #momentum operator\n",
    "    return -i*hbar*diff(psi,x)\n",
    "\n",
    "\n",
    "psi=function('psi')(x)   #Dummy function\n",
    "\n",
    "\n",
    "com=x*p(psi)-p(x*psi)   #Calculate the commutation relation [x,p]\n",
    "pretty_print('The commutation relation between $\\hat{x}$ and $\\hat{p}$ is $[\\hat{x},\\hat{p}]\\psi(x) = $', com.expand())  #.expand() required to simplify expression"
   ]
  },
  {
   "cell_type": "markdown",
   "id": "97f320",
   "metadata": {
    "collapsed": false
   },
   "source": [
    "\n",
    "### Raising and Lowering Operators\n",
    "\n",
    "The raising and lowering operators are powerful tools for exploring the quantum harmonic oscillator.  Most quantum physics texts will cover these in detail.  The following cells will explore a few things you can do in SageMath with the raising and lowering operators.  The cell below defines the operators.\n",
    "\n",
    "Note: The output from the cell below includes a term $D[0]\\psi(x)$.  This is SageMath notation for the derivative with respect to the first variable in the function (remember that Python starts numbering at zero).  If $\\psi$ was a function of $x$ and $y$, then the derivative of $\\psi(x,y)$ with respect to $y$ would be denoted $D[1]\\psi(x,y)$."
   ]
  },
  {
   "cell_type": "code",
   "execution_count": 0,
   "id": "fe7f43",
   "metadata": {
    "collapsed": false
   },
   "outputs": [
   ],
   "source": [
    "psi,m,L,omega, f=var('psi,m,L,omega,f')                          #Declare wave function, mass, and box length as variables\n",
    "\n",
    "Ener=var('Ener',latex_name=r'\\mathcal{E}')                       #Declare Ener as energy variable but will display a script E when using show() and pretty_print\n",
    "hbar=var('hbar',latex_name=r'\\hbar')                             #Declares hbar as a variable and displays hbar symbol when using show() and pretty_print\n",
    "\n",
    "psi=function('psi')(x)    #Define dummy function\n",
    "\n",
    "def p(psi):   #momentum operator\n",
    "    return -i*hbar*diff(psi,x)\n",
    "\n",
    "\n",
    "def a_plus(psi):   #raising operator\n",
    "    return 1/sqrt(2*hbar*m*omega)*(-i*p(psi)+m*omega*x*psi)\n",
    "\n",
    "\n",
    "def a_minus(psi):   #lowering operator\n",
    "    return 1/sqrt(2*hbar*m*omega)*(+i*p(psi)+m*omega*x*psi)\n",
    "\n",
    "show(a_plus(psi))"
   ]
  },
  {
   "cell_type": "markdown",
   "id": "a81bab",
   "metadata": {
    "collapsed": false
   },
   "source": [
    "\n",
    "### Demonstrate that $a_+ \\psi_{0}(x)= \\psi_{1}(x)$\n",
    "\n",
    "- Any easy way to show two equations are equal is to divide one equation by the other and show the result is equal to 1\n",
    "    - This cuts down on manipulation of equations to put them in the same format\n",
    "- To get all terms to cancel we will raise everything to the 4th power and then take the 4th root\n",
    "- The `.canonicalize_radical()` command is used to expand the exponent terms\n",
    "\n",
    "Show that $\\frac{a_+ \\psi_0(x)}{\\psi_1(x)} = 1$"
   ]
  },
  {
   "cell_type": "code",
   "execution_count": 0,
   "id": "27dd0f",
   "metadata": {
    "collapsed": false
   },
   "outputs": [
   ],
   "source": [
    "f=(a_plus(psi_HO0(x))/psi_HO1(x))\n",
    "\n",
    "pretty_print(' \\( a_+ \\psi_0(x)/\\psi_1(x) = \\)' ,f)   #It's not clear this is equal to one but ...\n",
    "f4=(f^4)                                              #... with a little nudge...\n",
    "f1=(f4^(1/4)).canonicalize_radical()\n",
    "pretty_print(' \\( a_+ \\psi_0(x)/\\psi_1(x) = \\)' ,f1)  #...everything works out nicely"
   ]
  },
  {
   "cell_type": "markdown",
   "id": "487c89",
   "metadata": {
    "collapsed": false
   },
   "source": [
    "\n",
    "### Demonstrate that $a_+ \\psi_{1}(x)= \\sqrt{2}\\psi_{2}(x)$\n",
    "\n",
    "- In addition to `.canonicalize_radical()` we also have to use `.combine()` to collect terms over a common denominator, and `.expand()`.\n",
    "\n",
    "Show that $\\frac{a_+ \\psi_1(x)}{\\psi_2(x)} = \\sqrt{2}$"
   ]
  },
  {
   "cell_type": "code",
   "execution_count": 0,
   "id": "0e2978",
   "metadata": {
    "collapsed": false
   },
   "outputs": [
   ],
   "source": [
    "f=(a_plus(psi_HO1(x))/psi_HO2(x)).expand().combine()\n",
    "\n",
    "pretty_print(' \\( a_+ \\psi_1(x)/\\psi_2(x) = \\)' ,f) \n",
    "\n",
    "f4=(f^4).expand()\n",
    "f1=(f4^(1/4)).canonicalize_radical()\n",
    "\n",
    "pretty_print(' \\( a_+ \\psi_1(x)/\\psi_2(x) = \\)' ,f1)\n",
    "pretty_print(' or equivalently \\( a_+ \\psi_1(x) =\\)',f1,' \\(\\psi_2(x)\\)')"
   ]
  },
  {
   "cell_type": "markdown",
   "id": "48ecc5",
   "metadata": {
    "collapsed": false
   },
   "source": [
    "\n",
    "## For You To Try\n",
    "\n",
    "Show that Show that $\\frac{a_+ \\psi_2(x)}{\\psi_1(x)} = \\sqrt{3}$"
   ]
  },
  {
   "cell_type": "code",
   "execution_count": 0,
   "id": "be193c",
   "metadata": {
    "collapsed": false
   },
   "outputs": [
   ],
   "source": [
    "#Insert your work here"
   ]
  },
  {
   "cell_type": "markdown",
   "id": "798625",
   "metadata": {
    "collapsed": false
   },
   "source": [
    "\n",
    "# <img src=\"sagemathcloud_logo1.png\" width=\"48\"> Projects and Problem Ideas\n",
    "\n",
    "- Use $a_+$ to generate higher quantum harmonic oscillator wave functions and then use $H=\\hbar \\omega(a_- a_+ - \\frac{1}{2})$ to determine the energy of those states.\n",
    "- Rewrite $\\hat{x}$ and $\\hat{p}$ in terms of $a_-$ and $a_+$ and use the raising and lowering operators to calculate the expectation values $<x>$ and $<p>$.  Compare your results to what you get from $\\int \\psi^*(x) x \\psi(x) dx$ and $\\int \\psi^*(x) p \\psi(x) dx$."
   ]
  },
  {
   "cell_type": "code",
   "execution_count": 0,
   "id": "677bcc",
   "metadata": {
    "collapsed": false
   },
   "outputs": [
   ],
   "source": [
   ]
  }
 ],
 "metadata": {
  "kernelspec": {
   "argv": [
    "sage-10.6",
    "--python",
    "-m",
    "sage.repl.ipython_kernel",
    "--matplotlib=inline",
    "-f",
    "{connection_file}"
   ],
   "display_name": "SageMath 10.6",
   "env": {
   },
   "language": "sagemath",
   "metadata": {
    "cocalc": {
     "description": "Open-source mathematical software system",
     "priority": 10,
     "url": "https://www.sagemath.org/"
    }
   },
   "name": "sage-10.6",
   "resource_dir": "/ext/jupyter/kernels/sage-10.6"
  },
  "language_info": {
   "codemirror_mode": {
    "name": "ipython",
    "version": 2
   },
   "file_extension": ".py",
   "mimetype": "text/x-python",
   "name": "python",
   "nbconvert_exporter": "python",
   "pygments_lexer": "ipython2",
   "version": "2.7.12+"
  }
 },
 "nbformat": 4,
 "nbformat_minor": 4
}