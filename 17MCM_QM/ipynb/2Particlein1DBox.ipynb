{
 "metadata": {
  "kernelspec": {
   "display_name": "SageMath",
   "language": "python",
   "name": "sagemath"
  },
  "language_info": {
   "codemirror_mode": {
    "name": "ipython",
    "version": 2
   },
   "file_extension": ".py",
   "mimetype": "text/x-python",
   "name": "python",
   "nbconvert_exporter": "python",
   "pygments_lexer": "ipython2",
   "version": "2.7.12+"
  }
 },
 "nbformat": 4,
 "nbformat_minor": 4,
 "cells": [
  {
   "metadata": {
    "collapsed": false
   },
   "cell_type": "markdown",
   "source": [
    "\n",
    "# <img src=\"sagemathcloud_logo1.png\" width=\"48\"> Solving differential equations\n",
    "\n",
    "\n",
    "- When solving differential equations it helps to specify which variables are real and which are positive using the **assume()** command.\n",
    "- You need to specify the independent variable of your function.  In this case we specify that $\\psi$ is a function of $x$.\n",
    "- The differential equation is defined using the Python **def** method.\n",
    "    - This creates a function which we can differential, integrate, or solve using the differential equation solver.\n",
    "- Use **desolve()** to solve the differential equation.  The arguments of **desolve()** are the differential equation to solve, the dependent variable ($\\psi$ in this case), and the independent variable x (specified using **ivar=x** to indicate the independent variable).\n",
    "\n",
    "### Find general solution to Schrodinger's equation\n",
    "\n",
    "The time-independent Schrodinger's equation in one dimension is $\\frac{-\\hbar^2}{2m} \\frac{d^2}{dx^2}\\psi(x) + V(x)\\psi(x) = E \\psi(x)$.  For an infinite square well of width $L$ the potential energy function is given by\n",
    "\n",
    "\\[ V(x) = \\left\\{ \\begin{array}{cc} \\infty & \\text{if } x\\ge L\\\\ 0 & \\text{if } 0< x < L \\\\ \\infty & \\text{if } x \\le 0 \\end{array}\\right. \\]\n",
    "\n",
    "\n",
    "<img src=\"particle_in_a_box.png\" width=30%>\n",
    "\n",
    "Note: To solve this differential equation we set the potential energy to zero inside the box and rearrange Schrodinger's equation so it has the form \\(\\frac{-\\hbar^2}{2m} \\frac{d^2}{dx^2}\\psi(x) - E \\psi(x) = 0\\)."
   ]
  },
  {
   "metadata": {
    "collapsed": false
   },
   "cell_type": "code",
   "source": [
    "psi,m,L=var('psi,m,L')  #Declare wave function, mass, and box length as variables\n",
    "\n",
    "Ener=var('Ener',latex_name=r'\\mathcal{E}')  #Declare Ener as energy variable but will display a script E when using show() and pretty_print\n",
    "hbar=var('hbar',latex_name=r'\\hbar')  #Declares hbar as a variable and displays hbar symbol when using show() and pretty_print\n",
    "\n",
    "assume(Ener,'real')   #Assume the variable Ener (the energy) only takes real values...\n",
    "assume(Ener>0)   #... and assume the energy is greater than zero.  These are needed for desolve()\n",
    "\n",
    "assume(m,'real')   #Assume the mass is real...\n",
    "assume(m>0)     #... and positive.  If you don't make these assumptions you will get an error message asking if these variables are positive, negative, or zero\n",
    "\n",
    "psi=function('psi')(x)   #To solve the differential equation we must tell SageMath that psi is a function called 'psi' with a single dependent variable\n",
    "\n",
    "\n",
    "def f(psi):  #Define the equation to solve.\n",
    "    return -hbar^2/(2*m)*diff(psi,x,2)-Ener*psi   #This is the differential equation to be solved\n",
    "\n",
    "general_soln = desolve(f(psi)==0,psi,ivar=x)\n",
    "\n",
    "\n",
    "pretty_print('The general solution to Schrodinger\\'s equation is $\\psi(x)=$', general_soln)"
   ]
  },
  {
   "metadata": {
    "collapsed": false
   },
   "cell_type": "markdown",
   "source": [
    "\n",
    "### Satisfying boundary conditions\n",
    "\n",
    "The boundary conditions require that \\(\\psi(x,t)\\) must be zero at the two walls.  In other words, \\(\\psi(x=0,t)=0\\) and \\(\\psi(x=L,t)=0\\).  Since \\(\\sin(0)=0\\) and \\(\\cos(0)=1\\), this means that \\(K_2=0\\).  The boundary condition at \\(x=L\\) says that \\(K_1 \\sin(\\sqrt{2 \\mathcal{E} m} x/\\hbar) = 0\\) which is true if the argument of \\(\\sin()\\) is an integer multiple of \\(\\pi\\).  Thus \\(\\frac{\\sqrt{2 m \\mathcal{E}}L}{\\hbar} = n \\pi\\) for \\(n = 1, 2, 3, ...\\).  To be consistent with previous notation we will set \\(A_0 = K_1\\).  The wave function for the particle in a box is \\[\\psi(x,t) = A_0 \\sin(\\frac{n \\pi x}{L}).\\]"
   ]
  },
  {
   "metadata": {
    "collapsed": false
   },
   "cell_type": "markdown",
   "source": [
    "\n",
    "# <img src=\"sagemathcloud_logo1.png\" width=\"48\"> Integrating functions\n",
    "\n",
    "- To integrate the function **f(x)** you can either use **f(x).integrate(x)** or **integrate(f(x),x)**.\n",
    "- For a definite integral, instead of just specifying the integration variable **x** you should specify the variable *and* the limits **[x,0,L]**.\n",
    "- Integrals frequently gives errors asking if a quantity is positive, negative, or zero.  Use **assume()** commands to resolve this question.\n",
    "\n",
    "\n",
    "\n",
    "### Deterimine normalization constant\n",
    "\n",
    "The integral of the probability density over some region of space gives the probability of finding the particle in that region.  If we integrate over all possible places the particle might be, the total probability has to be 1 ( which corresponds to 100%).  We can use this fact to find the normalization constant \\(A_0\\).  In other words, by requiring \\(\\int_0^L \\psi^*(x,t) \\psi(x,t) dx = 1\\) we can solve for \\(A_0\\)."
   ]
  },
  {
   "metadata": {
    "collapsed": false
   },
   "cell_type": "code",
   "source": [
    "A_0,n =var('A_0,n ')\n",
    "assume(L,'real')  #Assume L is a real number\n",
    "assume(L>0)  #Assume L is positive\n",
    "assume(n,'integer')   #n must be an integer for a particle in an infinite square well - this is why we have quantization\n",
    "\n",
    "\n",
    "psi_well(x,n)=A_0*sin(n*pi*x/L)   #Define the wave function\n",
    "\n",
    "norm_int=integrate(psi_well*psi_well.conjugate(),[x,0,L])   #Integrate the probability density (psi* x psi) over the width of the well\n",
    "pretty_print('The normalization integral gives ', norm_int)\n",
    "\n",
    "answer=solve(norm_int==1,A_0)   #What value does A_0 need to have for a total probability of 1\n",
    "pretty_print('The possible answers for $A_0$ are ', answer)\n",
    "\n",
    "norm_const=answer[1].rhs()   #Select only the right hand side of the last term\n",
    "pretty_print('We are only interested in the positive value  which is $A_0=$', norm_const)\n",
    "\n",
    "psi_well(x,n)=psi_well(x,n).substitute(A_0=norm_const)  #Substitute our value for A_0 into the wave function\n",
    "pretty_print('The equation for our wave function inside an infinite potential well is $\\psi(x)=$', psi_well(x,n))"
   ]
  },
  {
   "metadata": {
    "collapsed": false
   },
   "cell_type": "markdown",
   "source": [
    "\n",
    "# More integration examples\n",
    "\n",
    "### Check orthogonality of infinite square well solutions\n",
    "\n",
    "The wave functions for differing values of $n$ should be orthogonal to one another.  This means that $\\int_0^L \\psi_n^*(x) \\psi_m(x) dx = \\delta_{mn}$"
   ]
  },
  {
   "metadata": {
    "collapsed": false
   },
   "cell_type": "code",
   "source": [
    "m=var('m')\n",
    "assume(m,'integer')\n",
    "\n",
    "probability_not_orthogonal=integrate(psi_well(x,n).conjugate()*psi_well(x,n),[x,0,L])  #Calculate for m=n\n",
    "pretty_print(' If both wave functions have same n-value, then $\\int_0^a\\psi_n^*(x) \\psi_n(x)dx$ = ', probability_not_orthogonal)\n",
    "\n",
    "\n",
    "probability_orthogonal=integrate(psi_well(x,n).conjugate()*psi_well(x,m),[x,0,L])   #Calculate for m not equal to n\n",
    "pretty_print(' If m is not equal to n, then $\\int_0^a\\psi_n^*(x) \\psi_m(x)dx$ = ', probability_orthogonal)  #%todo: \\ne or \\neq not working"
   ]
  },
  {
   "metadata": {
    "collapsed": false
   },
   "cell_type": "markdown",
   "source": [
    "\n",
    "# <img src=\"sagemathcloud_logo1.png\" width=\"48\"> 2D plots of functions\n",
    "\n",
    "- To plot a function \\(f(x)\\) vs. \\(x\\) from \\(x=0\\) to \\(x=2\\), use **plot(f(x),[x,0,2])**\n",
    "- You can change the color of the line plotted by setting the color argument (e.g. **color='black'**)\n",
    "- Multiple graphs can be combined into a single plot window by adding the **plot()** commands together.\n",
    "- Plots have various properties, such as line color, type of line, points plotted, titles, and axes labels that can be changed\n",
    "- Use the **show()** command to display a plot\n",
    "- When plotting functions with unspecified variables, set all variables to 1 using **.substitute()**.\n",
    "\n",
    "### Plot wave function and probabilty density\n",
    "\n",
    "The following commands demonstrate how to plot the wave function and probability densities for the first three lowest energy states of the 1D particle-in-a-box.\n",
    "\n",
    "Since the potential energy (and thus the Hamiltonian) is symmetric about the center of the well (about the point \\(x=L/2\\)), the wave functions will either be symmetric or antisymmetric about \\(x=L/2\\).  Since we haven't specified the length of the box we will set \\(L=1\\) for purposes of plotting."
   ]
  },
  {
   "metadata": {
    "collapsed": false
   },
   "cell_type": "code",
   "source": [
    "psi_well_1(x)=psi_well(x,1).substitute(L=1)  #n = 1 ground state with L=1\n",
    "psi_well_2(x)=psi_well(x,2).substitute(L=1)  #n = 2 first excited state with L=1\n",
    "psi_well_3(x)=psi_well(x,3).substitute(L=1)  #n=3 second excited state with L=1\n",
    "\n",
    "#The following three lines create plots of psi vs x\n",
    "P1=plot(psi_well_1(x),[x,0,1],color='red',legend_label='n=1 State',title='First three wave functions of infinite well',axes_labels=['Position x','$\\psi(x)$'])\n",
    "P2=plot(psi_well_2(x),[x,0,1],color='blue',legend_label='n=2 State')\n",
    "P3=plot(psi_well_3(x),[x,0,1],color='green',legend_label='n=3 State')\n",
    "\n",
    "\n",
    "P=P1+P2+P3  #Combine graphs of first three states into a single object called 'P'...\n",
    "P.show()  #... and display P on the screen\n",
    "\n",
    "#The following three lines create plots of the probability density (psi*)psi vs x\n",
    "P4=plot(psi_well_1(x)*psi_well_1(x).conjugate(),[x,0,1],color='red',legend_label='n=1 State',title='Probability density of first three states of infinite well',axes_labels=['Position x','|$\\psi(x)|^2$'])\n",
    "P5=plot(psi_well_2(x)*psi_well_2(x).conjugate(),[x,0,1],color='blue',legend_label='n=2 State')\n",
    "P6=plot(psi_well_3(x)*psi_well_3(x).conjugate(),[x,0,1],color='green',legend_label='n=3 State')\n",
    "\n",
    "\n",
    "PB=P4+P5+P6 #Combine the three graphs of probability density...\n",
    "PB.show()   #...and show them on the screen"
   ]
  },
  {
   "metadata": {
    "collapsed": false
   },
   "cell_type": "markdown",
   "source": [
    "\n",
    "# For you to try:\n",
    "\n",
    "How does the number of peaks of the wave function compare to the value of n?\n",
    "How does the number of nodes of the wave function compare to the value of n?\n",
    "To help answer this question, plot the wave functions for the n=4 and n=5 states and see if they agree with your answer to these two questions.  You can use psi_well(x,n) to define your wave functions."
   ]
  },
  {
   "metadata": {
    "collapsed": false
   },
   "cell_type": "code",
   "source": [
    "#Insert your work here"
   ]
  },
  {
   "metadata": {
    "collapsed": false
   },
   "cell_type": "markdown",
   "source": [
    "\n",
    "# Another example of integration\n",
    "- SageMath will leave answers in exact form (e.g. 1/4 or pi) so to get numerical approximations you must use **.n()**\n",
    "- You can specify how many digits are returned using **.n(digits=3)**\n",
    "\n",
    "### Probabilities to find the particle\n",
    "\n",
    "The probability to find a particle between \\(x=a\\) and \\(x=b\\) is found by integrating the probability density over the region: \\[\\int_a^b \\psi^*(x) \\psi(x) dx \\]\n",
    "\n",
    "What is the probability to find the particle somewhere in the box?\n",
    "\n",
    "\n",
    "What is the probability of finding the particle in the left half of the box (between $x=0$ and $x=L/2$)?\n",
    "\n",
    "\n",
    "What is the probability of finding the particle in the left quarter of the box (between $x=0$ and $x=L/4$)?"
   ]
  },
  {
   "metadata": {
    "collapsed": false
   },
   "cell_type": "code",
   "source": [
    "probability_somewhere=integrate(psi_well(x,1).conjugate()*psi_well(x,1),[x,0,L])\n",
    "\n",
    "pretty_print(\"The probablity to find the particle somewhere is \", probability_somewhere)\n",
    "\n",
    "probability_left_half=integrate(psi_well(x,1).conjugate()*psi_well(x,1),[x,0,L/2])\n",
    "\n",
    "pretty_print(\"The probability to find the particle in the left half of the box between $x=0$ and $x=L/2$ is \", probability_left_half)\n",
    "\n",
    "probability_left_quarter=integrate(psi_well(x,1).conjugate()*psi_well(x,1),[x,0,L/4])\n",
    "\n",
    "pretty_print(\"The probability to find the particle in the left quarter of the box between $x=0$ and $x=L/4$ is \", probability_left_quarter, \" = \", probability_left_quarter.n(digits=2) )"
   ]
  },
  {
   "metadata": {
    "collapsed": false
   },
   "cell_type": "markdown",
   "source": [
    "\n",
    "# For you to try:\n",
    "\n",
    "How do you think these three probabilities would differ for the $n=2$ state?\n",
    "\n",
    "Calculate the probability for the particle to be somewhere inside the well, in the left half of the well, and in the left quarter of the well for the $n=2$ state.  Compare these results to the answers for the $n=1$ state."
   ]
  },
  {
   "metadata": {
    "collapsed": false
   },
   "cell_type": "code",
   "source": [
    "#Insert your work here"
   ]
  },
  {
   "metadata": {
    "collapsed": false
   },
   "cell_type": "markdown",
   "source": [
    "\n",
    "# <img src=\"sagemathcloud_logo1.png\" width=\"48\"> Expanding symbolic answers and obtaining numerical results\n",
    "\n",
    "### Calculating expectation values\n",
    "\n",
    "- `.expand()` will distribute terms and expand powers in a symbolic expression\n",
    "    - Note: When using `.expand()` on an express (rather than a variable), it helps to put parenthese around the expression.\n",
    "        - This won't work `3*(x+y).expand()` but `(3*(x+y)).expand()` will work.\n",
    "- SageMath keeps results in exact form (e.g. $\\sin(\\pi/4)$ rather than $0.707$) but you can force SageMath to give an approximate answer using `.n()`\n",
    "    - You can specify the number of digits the approximate result should have using `.n(digits=3)`\n",
    "\n",
    "What is the expected value of the position of the particle $<x>$?"
   ]
  },
  {
   "metadata": {
    "collapsed": false
   },
   "cell_type": "code",
   "source": [
    "x_exp=integrate(psi_well(x,1).conjugate()*x*psi_well(x,1),[x,0,L]);x_exp  #Expecatation value of position <x>\n",
    "\n",
    "x_exp.expand()  #Simplify the result by multiplying terms together\n",
    "\n",
    "x_numeric=x_exp.substitute(L=1E-9)   #Set size of box to 1 nm\n",
    "x_numeric.n()   #Force SageMath to compute numerical result\n",
    "x_numeric.n(digits=3)   #You can specify the number of significant figures\n",
    "pi.n(digits=7)   #Pi to seven places\n",
    "\n",
    "def P(f):   #Definition of momentum operator\n",
    "    return -i*hbar*diff(f,x)\n",
    "\n",
    "\n",
    "p_exp=integrate(psi_well(x,1).conjugate()*P(psi_well(x,1)),[x,0,L])  #Expectation value of momentum <p>\n",
    "p_exp\n",
    "\n",
    "K_exp=integrate(psi_well(x,1).conjugate()*P(P(psi_well(x,1)))/(2*m),[x,0,L])  #Expectation value of kinetic energy <K>=<p^2>/2m\n",
    "K_exp.show()"
   ]
  },
  {
   "metadata": {
    "collapsed": false
   },
   "cell_type": "markdown",
   "source": [
    "\n",
    "### Time-dependent behavior of the wave function and probability densities"
   ]
  },
  {
   "metadata": {
    "collapsed": false
   },
   "cell_type": "code",
   "source": [
    "psi_plot_1(x,t)=psi_well_1(x)*e^(i*pi^2/2*t)\n",
    "\n",
    "\n",
    "plot_graph = [plot(psi_plot_1(x,t).real(),[x,0,1],color='red',ymin=-1.5,ymax=1.5) for t in sxrange(0,2,.1)]\n",
    "a=animate(plot_graph)\n",
    "a.show()"
   ]
  },
  {
   "metadata": {
    "collapsed": false
   },
   "cell_type": "code",
   "source": [
    "plot_graph_b = [plot(real(psi_plot_1(x,t)*psi_plot_1(x,t).conjugate()),[x,0,1],color='red',ymin=-2,ymax=2) for t in sxrange(0,2,.1)]\n",
    "b=animate(plot_graph_b)\n",
    "b.show()"
   ]
  },
  {
   "metadata": {
    "collapsed": false
   },
   "cell_type": "markdown",
   "source": [
    "\n",
    "# For you to try:\n",
    "\n",
    "Why does the wave function oscillate but the probability density does not?  (Hint: the probability density involves multiplying the wave function by its complex conjugate)\n",
    "\n",
    "Plot the wave function and probability density for the n=2 state and see if it displays the same behavior."
   ]
  },
  {
   "metadata": {
    "collapsed": false
   },
   "cell_type": "code",
   "source": [
    "#Insert your work here"
   ]
  },
  {
   "metadata": {
    "collapsed": false
   },
   "cell_type": "markdown",
   "source": [
    "\n",
    "### Animate plot of superposition of two states"
   ]
  },
  {
   "metadata": {
    "collapsed": false
   },
   "cell_type": "code",
   "source": [
    "psi_super(x,t)=psi_well_1(x)*e^(i*pi^2/2*t)+psi_well_2(x)*e^(i*4*pi^2/2*t)\n",
    "\n",
    "plot_graph_c = [plot(psi_super(x,t).real(),[x,0,1],color='red',ymin=-2.5,ymax=2.5) for t in sxrange(0,2,.1)]\n",
    "c=animate(plot_graph_c)\n",
    "c.show()"
   ]
  },
  {
   "metadata": {
    "collapsed": false
   },
   "cell_type": "code",
   "source": [
    "plot_graph_d = [plot(real(psi_super(x,t)*psi_super(x,t).conjugate()),[x,0,1],color='red',ymin=0,ymax=6.5) for t in sxrange(0,2,.1)]\n",
    "d=animate(plot_graph_d)\n",
    "d.show()"
   ]
  },
  {
   "metadata": {
    "collapsed": false
   },
   "cell_type": "markdown",
   "source": [
    "\n",
    "# For you to try:\n",
    "\n",
    "Why does the probability density of the superposition state vary with time while the pure n=1 and n=2 states do not vary (Hint: The time dependence of the wave function is contained in the term \\(e^{iE_n t/\\hbar}\\).  What happens to this time dependence when you calculate \\(\\psi^* \\psi\\) for the pure n=1 state or n=2 state? )\n",
    "\n",
    "Plot the real part of a superposition of the n=1 and n=3 states $\\psi_{super}(x,t)=\\psi_{n=1}(x,t)+\\psi_{n=3}(x,t)$.  Remember that the time dependency is $e^{iE_n t/\\hbar}$ where $E_n=\\frac{n^2\\pi^2\\hbar^2}{2mL^2}$ where we have assumed $\\hbar=1$, $m=1$, and $L=1$ for plotting purposes."
   ]
  },
  {
   "metadata": {
    "collapsed": false
   },
   "cell_type": "code",
   "source": [
    "#Insert your work here"
   ]
  },
  {
   "metadata": {
    "collapsed": false
   },
   "cell_type": "markdown",
   "source": [
    "# <img src=\"sagemathcloud_logo1.png\" width=\"48\"> Project Ideas and Problems to Solve\n",
    "\n",
    "1. Normalize a 50/50 superposition of the n=1 and n=3 state where \\(\\psi_{super}(x,t)=A_{norm}\\left( \\psi_{n=1}(x,t)+\\psi_{n=3}(x,t)\\right)\\).  In other words, find the value of \\(A_{norm}\\) such that \\(\\int_{-\\infty}^{\\infty}\\psi^*(x,0) \\psi(x,0) dx = 1\\).\n",
    "\n",
    "2. Calculate <x> for a particle in a superposition of the n=1 and n=3 states \\(\\psi_{super}(x,t)=\\psi_{n=1}(x,t)+\\psi_{n=3}(x,t)\\).\n",
    "\n",
    "3. Use the fact that the uncertainty of an observable is defined as \\(\\Delta A = \\sqrt{< A^2 > - < A >^2}\\) to find the uncertainty in the position and momentum for the first three states.\n",
    "\n",
    "4. Repeat the previous question for the superposition of the n=1 and n=3 states."
   ]
  },
  {
   "metadata": {
    "collapsed": false
   },
   "cell_type": "code",
   "source": [
    ""
   ]
  },
  {
   "metadata": {
    "collapsed": false
   },
   "cell_type": "code",
   "source": [
    ""
   ]
  },
  {
   "metadata": {
    "collapsed": false
   },
   "cell_type": "code",
   "source": [
    ""
   ]
  }
 ]
}