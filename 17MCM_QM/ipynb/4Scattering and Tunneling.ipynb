{
 "metadata": {
  "kernelspec": {
   "display_name": "SageMath",
   "language": "python",
   "name": "sagemath"
  },
  "language_info": {
   "codemirror_mode": {
    "name": "ipython",
    "version": 2
   },
   "file_extension": ".py",
   "mimetype": "text/x-python",
   "name": "python",
   "nbconvert_exporter": "python",
   "pygments_lexer": "ipython2",
   "version": "2.7.12+"
  }
 },
 "nbformat": 4,
 "nbformat_minor": 4,
 "cells": [
  {
   "metadata": {
    "collapsed": false
   },
   "cell_type": "markdown",
   "source": [
    "\n",
    "## Note: Hit `Restart` between cases\n",
    "\n",
    "\n",
    "I've reused variable names for each case and failure to restart can cause results from a previous problem to cause issues with later solutions.\n",
    "\n",
    "The three cases I've looked at are:\n",
    "- Wave function hitting a step potential with $E<V_0$\n",
    "- Wave function hitting a step potential with $E>V_0$\n",
    "- Wave function hitting a barrier potential with $E<V_0$"
   ]
  },
  {
   "metadata": {
    "collapsed": false
   },
   "cell_type": "markdown",
   "source": [
    "\n",
    "### Unbound States - Scattering and Tunneling\n",
    "\n",
    "\n",
    "Solving the Schrodinger equation for unbound states is good practice for students in devloping an understanding of the wave function.  It also gives students their first glimpse of quantum tunneling.  This worksheet walks you through how to set up and solve the boundary conditions for the wave function and how to plot the graphs to gain deeper understanding.\n",
    "\n",
    "The first case is a step potential with particle energy lower than the step potential height ($E < V_0$)\n",
    "\n",
    "<img src=\"tunneling_fig1.png\" width=\"400\">\n",
    "\n",
    "To solve this problem we assume a different wave function in each region but require that (1) the wave functions be continuous at the boundary and (2) the derivatives of the wave functions be continuous at the boundary.  The two wave functions are:\n",
    "\n",
    "\\[\\psi_I(x) = A e^{ik_1 x} + B e^{-ik_1 x}\\]\n",
    "\n",
    "and\n",
    "\n",
    "\\[\\psi_{II}(x) = C e^{k_2 x} + D e^{-k_2 x}.\\]\n",
    "\n",
    "The wave function must remain finite for all values of $x$, which means that the first term in $\\psi_{II}(x)$ must be zero (i.e. $C=0$)\n",
    "\n",
    "The boundary conditions require:\n",
    "\n",
    "\\[\\psi_I(0) = \\psi_{II}(0)\\]\n",
    "\n",
    "and\n",
    "\n",
    "\\[\\frac{d \\psi_I(x)}{dx}_{x=0} = \\frac{d \\psi_{II}(x)}{dx}_{x=0} .\\]\n",
    "\n",
    "\n",
    "These equations are solved long-hand to demonstrate some of the symbolic manipulation functions of SageMath\n",
    "\n",
    "- `.expand()`  Distributes and multiplies out all terms\n",
    "- `.combine()`  Collect terms over a common denominator\n",
    "- `.full_simplify()`  Runs numerous simplification routines\n",
    "\n",
    "Assuming the particles are incident form the left, the coefficient $A$ is associated with the density of incoming particles.  The reflection coefficient $R$, which is the probability that a particle is reflected, can be found from the ratio of incoming to returning particles.\n",
    "\n",
    "\\[R=\\frac{BB^*}{AA^*} = \\left| \\frac{B}{A} \\right|^2 \\]\n",
    "\n",
    "As expected, in this case we find that the reflection probability is $1$, which means 100\\% of the particles are reflected back.  However, the particles do penetrate into the classically forbidden region."
   ]
  },
  {
   "metadata": {
    "collapsed": false
   },
   "cell_type": "code",
   "source": [
    "#Step potential with E<V_0\n",
    "A,B,C,D,m,E,V_0,k_1,k_2=var('A,B,C,D,m,E,V_0,k_1,k_2')\n",
    "\n",
    "\n",
    "C=0   #Wave must decay as x->+oo (positive infinity) which means C must be zero\n",
    "\n",
    "psi_1(x)=A*e^(i*k_1*x) + B*e^(-i*k_1*x)\n",
    "psi_2(x)=C*e^(k_2*x) + D*e^(-k_2*x)\n",
    "\n",
    "psi_1(x).show()\n",
    "psi_2(x).show()\n",
    "\n",
    "\n",
    "\n",
    "#Continuity of w.f.\n",
    "eqn1 = psi_2(0)==psi_1(0)\n",
    "show(eqn1)\n",
    "\n",
    "#Continuity of derivative of w.f.\n",
    "eqn2 = diff(psi_1(x),x)==diff(psi_2(x),x)\n",
    "\n",
    "eqn2A=eqn2.substitute(x=0)\n",
    "show(eqn2A)\n",
    "\n",
    "#Solve equations (long-hand solution)\n",
    "eqn2B=eqn2A.substitute(D=A+B).expand()\n",
    "show(eqn2B)\n",
    "\n",
    "B_ans1=solve(eqn2B,B)[0]\n",
    "show(B_ans1)\n",
    "B_ans2=B_ans1.divide_both_sides(A).expand()\n",
    "show(B_ans2)\n",
    "eqn3=B_ans2.lhs()==B_ans2.rhs().combine()\n",
    "\n",
    "\n",
    "show(eqn3)\n",
    "R=(eqn3.rhs()*conjugate(eqn3.rhs())).expand().full_simplify()\n",
    "pretty_print(r'The probabilty of a particle being reflected is $R =  \\frac{BB^*}{AA^*}  = $', R)"
   ]
  },
  {
   "metadata": {
    "collapsed": false
   },
   "cell_type": "markdown",
   "source": [
    "\n",
    "### Plotting the wave function for the step potential\n",
    "\n",
    "- The step occurs at $x=0$\n",
    "- The red part of the wave function shows where the particle tunnels into the step, which is classically forbidden\n",
    "\n",
    "To animate the plot we add in the time dependence $e^{i\\omega t}$ with $\\omega =1$ for simplicity."
   ]
  },
  {
   "metadata": {
    "collapsed": false
   },
   "cell_type": "code",
   "source": [
    "#Plot real part of w.f. for k_2=0.5*k_1 and A=1\n",
    "\n",
    "wf1(x)=psi_1(x).substitute(B=B_ans2.rhs(),A=1).substitute(k_1=1,k_2=0.5)\n",
    "\n",
    "\n",
    "wf2(x)=psi_2(x).substitute(D=1+B_ans2.rhs(),A=1).substitute(k_1=1,k_2=0.5)\n",
    "\n",
    "\n",
    "omega=1  #Set angular frequency to a nice easy number for animated plot\n",
    "\n",
    "wf1_real(x,t)=real(wf1(x)*e^(i*omega*t))  #Add in time-dependent term and take real part\n",
    "P=plot(wf1_real(x,0),[x,-20,0], title='Wave function at a step potential',axes_labels=['Position x','$\\psi(x$)'],axes_labels_size=1,title_pos=[.8,1])\n",
    "\n",
    "wf2_real(x,t)=real(wf2(x)*e^(i*omega*t)) #Add in time-dependent term and take real part\n",
    "P+=plot(wf2_real(x,0),[x,0,20],color='red')\n",
    "\n",
    "P.show()"
   ]
  },
  {
   "metadata": {
    "collapsed": false
   },
   "cell_type": "markdown",
   "source": [
    "\n",
    "### Animated plot of wave function\n",
    "\n",
    "The following code creates an animation of the real part of the wavefunction to show how it changes in time."
   ]
  },
  {
   "metadata": {
    "collapsed": false
   },
   "cell_type": "code",
   "source": [
    "#Create animated plot of real part of w.f.\n",
    "times = sxrange(0,10,0.5)     #Create a list of the times for evaluation.  sxrange() creates a list of numbers from 0 to 10 in steps of 0.5\n",
    "plot_graph = []   #Create an empty list to store the plotted graphs at different times\n",
    "\n",
    "for t in times:    #Loop through all times\n",
    "    new_plot=plot(wf1_real(x,t),x,-20,0,ymin=-2.2,ymax=2.2)   #Create plot at time t for each value of t\n",
    "    new_plot+=plot(wf2_real(x,t),x,0,10,color='red',ymin=-2.2,ymax=2.2)\n",
    "    plot_graph.append(new_plot)    #Add the new plot to the list of images\n",
    "\n",
    "a=animate(plot_graph)    #Combine all plots contained in plot_graph into an animation\n",
    "a.show()  #Show the animation"
   ]
  },
  {
   "metadata": {
    "collapsed": false
   },
   "cell_type": "markdown",
   "source": [
    "\n",
    "## For You To Try:\n",
    "- Plot the imaginary part of the wave function and animate it.\n",
    "    - How does this graph differ from the real part?\n",
    "- Plot the probability density of the wave function"
   ]
  },
  {
   "metadata": {
    "collapsed": false
   },
   "cell_type": "markdown",
   "source": [
    "\n",
    "### Step Potential: $E>V_0$\n",
    "\n",
    "For this next example we will find the wave function for a particle incident on a step potential with the particle energy larger than the step height.\n",
    "\n",
    "<img src=\"tunneling_fig2.png\" width=\"400\">\n",
    "\n",
    "We expect that the particle reflection coefficient is no longer 100\\% in this case but classically we might not expect to see _any_ reflection, but the graph at the bottom of the next cell shows that the reflection probability varies as a function of the energy difference between the particle and step potential.\n",
    "\n",
    "The setup is the same as for the $E<V_0$ case except the wave function in region II is complex (and thus oscillatory).\n",
    "\n",
    "The two wave functions are:\n",
    "\n",
    "\\[\\psi_I(x) = A e^{ik_1 x} + B e^{-ik_1 x}\\]\n",
    "\n",
    "and\n",
    "\n",
    "\\[\\psi_{II}(x) = C e^{ik_2 x} + D e^{-ik_2 x}.\\]\n",
    "\n",
    "If we assume there is no particles entering from the right then we must have $D=0$.\n",
    "\n",
    "The boundary conditions require:\n",
    "\n",
    "\\[\\psi_I(0) = \\psi_{II}(0)\\]\n",
    "\n",
    "and\n",
    "\n",
    "\\[\\frac{d \\psi_I(x)}{dx}_{x=0} = \\frac{d \\psi_{II}(x)}{dx}_{x=0} .\\]\n",
    "\n",
    "The function for the reflection probability $R$ and the transmission probability $T$ are plotted at the bottom of the next cell."
   ]
  },
  {
   "metadata": {
    "collapsed": false
   },
   "cell_type": "code",
   "source": [
    "#Step potential with E>V_0\n",
    "A,B,C,D,m,E,V_0,k_1,k_2=var('A,B,C,D,m,E,V_0,k_1,k_2')\n",
    "Ener=var('Ener',latex_name=r'\\mathcal{E}')  #Declare Ener as energy variable but will display a script E when using show() and pretty_print\n",
    "hbar=var('hbar',latex_name=r'\\hbar')  #Declares hbar as a variable and displays hbar symbol when using show() and pretty_print\n",
    "assume(k_1,'real')\n",
    "assume(k_2,'real')\n",
    "\n",
    "D=0\n",
    "\n",
    "psi_3(x)=A*e^(i*k_1*x) + B*e^(-i*k_1*x)\n",
    "psi_4(x)=C*e^(i*k_2*x) + D*e^(-i*k_2*x)\n",
    "\n",
    "psi_3(x).show()\n",
    "psi_4(x).show()\n",
    "\n",
    "\n",
    "#Continuity of w.f.\n",
    "eqn1 = psi_3(0)==psi_4(0)\n",
    "show(eqn1)\n",
    "\n",
    "#Continuity of derivative of w.f.\n",
    "eqn2 = diff(psi_3(x),x)==diff(psi_4(x),x)\n",
    "\n",
    "eqn2A=eqn2.substitute(x=0)\n",
    "show(eqn2A)\n",
    "\n",
    "\n",
    "#Solve equations (long-hand solution)\n",
    "eqn2B=eqn2A.substitute(C=A+B).expand()\n",
    "show(eqn2B)\n",
    "\n",
    "B_ans1=solve(eqn2B,B)[0]\n",
    "show(B_ans1)\n",
    "B_ans2=B_ans1.divide_both_sides(A).expand()\n",
    "show(B_ans2)\n",
    "eqn3=B_ans2.lhs()==B_ans2.rhs().combine()\n",
    "\n",
    "\n",
    "show(eqn3)\n",
    "R=(eqn3.rhs()*conjugate(eqn3.rhs())).expand().full_simplify()\n",
    "show(R)\n",
    "R_plot=R.substitute(k_1=1)\n",
    "\n",
    "P=plot(R_plot,[k_2,0,1],title='Reflection and Transmission Probability',axes_labels=['$k_2$ as a fraction of $k_1$', 'Probability'],legend_label='Reflection Probability',axes_labels_size=1)\n",
    "#P.show()\n",
    "\n",
    "eqn4=eqn1.divide_both_sides(A).expand()\n",
    "show(eqn4)\n",
    "\n",
    "eqn5=eqn4.substitute(B=A*B_ans2.rhs().combine())\n",
    "eqn5.show()\n",
    "\n",
    "#Find T and R\n",
    "T=(1-R).full_simplify()\n",
    "T.show()\n",
    "\n",
    "T_plot=T.substitute(k_1=1)\n",
    "T_plot.show()\n",
    "\n",
    "P+=plot(T_plot,[k_2,0,1],color='red',legend_label='Transmission Probability')\n",
    "P.show()"
   ]
  },
  {
   "metadata": {
    "collapsed": false
   },
   "cell_type": "markdown",
   "source": [
    "\n",
    "# <img src=\"sagemathcloud_logo1.png\" width=\"48\"> Solve a system of equations\n",
    "\n",
    "- `solve()` returns a list of solutions\n",
    "    - Arguments of `solve()` are a list of equations to satisfy and a list of variables to solve for\n",
    "    - e.g. `solve([x+y==1,x-y==3],[x,y])`\n",
    "    - Note that equations must have double equals signs to work;\n",
    "\n",
    "### Barrier Tunneling\n",
    "\n",
    "This example calculates the wave function for a particle hitting a barrier.  It demonstrates that the particle does in fact tunnel through the barrier\n",
    "\n",
    "<img src=\"tunneling_fig3.png\" width=\"400\">\n",
    "\n",
    "We now need to have wave functions in each of the three regions.\n",
    "\n",
    "\\[\\psi_I(x) = A e^{ik_1 x} + B e^{-ik_1 x}\\]\n",
    "\n",
    "and\n",
    "\n",
    "\\[\\psi_{II}(x) = C e^{ik_2 x} + D e^{-ik_2 x}\\]\n",
    "\n",
    "and\n",
    "\n",
    "\\[\\psi_{III}(x) = F e^{ik_1 x} + G e^{-ik_1 x}.\\]\n",
    "\n",
    "With  no particles incident from the right we can set $G=0$.\n",
    "\n",
    "The wave function and derivatives of the wave functions must be continuous at both boundaries.  Rather than solving this set of equations long-hand, we'll use the `solve()` function to find $B$, $C$, $D$, and $F$.\n",
    "\n",
    "The transmission probability is\n",
    "\n",
    "\\[T=\\frac{FF^*}{AA^*} = \\left| \\frac{F}{A} \\right|^2.\\] \n",
    "\n",
    "In this case the transmission probability through the barrier is non-zero, even though the particle should not be able to penetrate the barrier classically."
   ]
  },
  {
   "metadata": {
    "collapsed": false
   },
   "cell_type": "code",
   "source": [
    "#Barrier: E<V_0\n",
    "\n",
    "A,B,C,D,F,G, m,E,V_0,k_1,k_2,a=var('A,B,C,D,F,G,m,E,V_0,k_1,k_2,a')\n",
    "\n",
    "G=0\n",
    "\n",
    "psi_1(x)=A*e^(i*k_1*x) + B*e^(-i*k_1*x)\n",
    "psi_2(x)=C*e^(k_2*x) + D*e^(-k_2*x)\n",
    "psi_3(x)=F*e^(i*k_1*x) + G*e^(-i*k_1*x)\n",
    "\n",
    "psi_1(x).show()\n",
    "psi_2(x).show()\n",
    "psi_3(x).show()\n",
    "\n",
    "#Continuity of w.f. at boundaries\n",
    "\n",
    "eqn1A=psi_1(0)==psi_2(0)\n",
    "eqn1A.show()\n",
    "eqn1B=psi_2(a)==psi_3(a)\n",
    "eqn1B.show()\n",
    "\n",
    "#Continuity of derivatives of w.f.\n",
    "eqn2A=diff(psi_1(x),x).substitute(x=0)==diff(psi_2(x),x).substitute(x=0)\n",
    "eqn2A.show()\n",
    "eqn2B=diff(psi_2(x),x).substitute(x=a)==diff(psi_3(x),x).substitute(x=a)\n",
    "eqn2B.show()\n",
    "\n",
    "#Solve the equations (quick and easy solution)\n",
    "soln=solve([eqn1A,eqn1B,eqn2A,eqn2B],[B,C,D,F])\n",
    "for i in soln[0]:   #Print off all solutions in the list of solutions\n",
    "    i.show()\n",
    "\n",
    "\n",
    "#soln is a list of lists which is structured like this: soln=[[ans0,ans1,ans2,ans3]]...\n",
    "#... which means soln[0]=[ans0,ans1,ans2,ans3].  This means soln[0][3] returns ans3\n",
    "\n",
    "#Find T and R\n",
    "F_1=soln[0][3].rhs()\n",
    "F_2=F_1/A\n",
    "B_1=soln[0][0].rhs()\n",
    "B_2=B_1/A\n",
    "\n",
    "F_2.show()\n",
    "B_2.show()\n",
    "\n",
    "R=(B_2*conjugate(B_2)).full_simplify()\n",
    "R.show()\n",
    "\n",
    "T=(F_2*conjugate(F_2)).full_simplify()\n",
    "T.show()\n",
    "\n",
    "\n",
    "R_plot=(R.substitute(k_1=1,a=5))\n",
    "T_plot=(T.substitute(k_1=1,a=5))\n",
    "\n",
    "R_plot.show()\n",
    "T_plot.show()\n",
    "P=plot(R_plot,[k_2,0,1],title='Transmission and Reflection from a Barrier',axes_labels=['$k_2$ as a fraction of $k_1$', 'Probability'],legend_label='Reflection probability',axes_labels_size=1)\n",
    "P+=plot(T_plot,[k_2,0,1],color='red',legend_label='Transmission probability')\n",
    "P.show()"
   ]
  },
  {
   "metadata": {
    "collapsed": false
   },
   "cell_type": "markdown",
   "source": [
    "\n",
    "# For You To Try\n",
    "\n",
    "- Type 'solve?' into the cell below and hit Shift+Enter to see the documentation for the `solve()` command\n",
    "- Use `solve()` to find the solutions to the equations:\n",
    "    - x+3y = 2\n",
    "    - 2y-4z=1\n",
    "    - x-z=2\n",
    "- Go back and solve the first two cases"
   ]
  },
  {
   "metadata": {
    "collapsed": false
   },
   "cell_type": "code",
   "source": [
    "#Insert your work here"
   ]
  },
  {
   "metadata": {
    "collapsed": false
   },
   "cell_type": "markdown",
   "source": [
    "\n",
    "# <img src=\"sagemathcloud_logo1.png\" width=\"48\"> Projects and Problem Ideas\n",
    "\n",
    "- Calculate the reflection and transmisison probabilities for a barrier when E>V_0\n",
    "- Calculate the wave function and energy of a particle bound in a delta function well for E<0 (there is a single bound state)\n",
    "- Calculate the wave function for an unbound particle near a delta function well (E>0)"
   ]
  },
  {
   "metadata": {
    "collapsed": false
   },
   "cell_type": "code",
   "source": [
    ""
   ]
  }
 ]
}