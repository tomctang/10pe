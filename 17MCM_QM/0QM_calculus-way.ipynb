{
 "cells": [
  {
   "cell_type": "markdown",
   "metadata": {},
   "source": [
    "This SageMath will explain how to define variables and functions, evaluate and plot functions, as well as finding derivatives and integrals of symbolic functions(**Calculus way**).\n",
    "\n",
    "# 1. Free particle wave function\n"
   ]
  },
  {
   "cell_type": "markdown",
   "id": "ae1fb6",
   "metadata": {
    "collapsed": false
   },
   "source": [
    "We will use the quantum mechanical wave function of a free particle as an example. Goals:\n",
    "\n",
    "- Defining functions and variables\n",
    "- Taking derivatives of a function\n",
    "- Plot the real and imaginary elements of the free particle wave function $\\psi(x,t) = A_0 e^{i(kx - \\omega t)}$\n",
    "- Create an animated plot of the wave function\n",
    "- Check that the wave function satisfies the Schrodinger's equation\n",
    "    - Extract solution from a list of answers\n",
    "    - Solving algebraic equations\n",
    "\n",
    "Schrodinger's equation for a 1D system (e.g. think of an electron confined to a nanowire) is $\\frac{-\\hbar^2}{2m}\\frac{\\partial^2}{\\partial x^2} \\psi(x,t) +V(x)\\psi(x,t) = i\\hbar \\frac{\\partial}{\\partial t} \\psi(x,t)$.\n",
    "\n",
    "A free particle is a particle that does not experience any forces along the direction of motion and can move freely without any walls.  In truth there is no such thing as a free particle since all particle are confined in some ways but as long as the dimensions of confinement are much much larger than the wavelength of the particle we can treat the particle as free.  An electron confined to a nanowire with a length on the order of millimeters would be a good example of this."
   ]
  },
  {
   "cell_type": "markdown",
   "id": "a5c74a",
   "metadata": {
    "collapsed": false
   },
   "source": [
    "## Defining variables and functions\n",
    "\n",
    "\n",
    "- All variables must be explicitly declared (except for the variable 'x' and variables used as arguments of functions) using the **var()** command\n",
    "- Variables cannot start with numbers or contain spaces but they can contain underscores\n",
    "- Functions can be evaluated by inserting values for the arguments\n",
    "- To evaluate an input cell in this worksheet, put the cursor in the cell and hit Shift+Enter.  The output will be displayed in the cell below the input cell.\n",
    "\n",
    "#### What is the free particle wave function solution to Schrodinger's equation?\n",
    "\n",
    "The general solution to Schrodinger's equation is $\\psi(x,t) = A_0 e^{i(kx-\\omega t)} + B_0 e^{i(kx + \\omega t)}$ where the only difference between the two terms is the sign in front of $\\omega t$, which determines which direction the wave travels.  For the moment we will only look at the first term by setting $B_0=0$."
   ]
  },
  {
   "cell_type": "code",
   "execution_count": null,
   "id": "25c6cb",
   "metadata": {
    "collapsed": false
   },
   "outputs": [],
   "source": [
    "#This is a calculation input cell.  SageMath will operate on anything typing into this cell and output the results in the cell below.\n",
    "#Insert the cursor in this cell and hit Shift-Enter to evaluate it.\n",
    "# Any text after the hashtag is ignored by SageMath\n",
    "\n",
    "A_0,k,omega, m = var('A_0,k,omega, m')  #Variables are defined using the 'var()' command.\n",
    "\n",
    "psi(x,t) = A_0*exp(i*(k*x - omega*t))  #This is a how you define a function.  Arguments of the function are placed in parentheses.\n",
    "psi(x,t) # When a function is defined SageMath does not output the equation.  \n",
    "psi(x,t).show() \n",
    "\n",
    "psi(0,0)  #Functions are evaluated by plugging in values for the arguments.  \n",
    "            # Notice that the wave function at x=0, t=0 has the value of A_0\n",
    "s(psi(0,0))  #Nicer looking output"
   ]
  },
  {
   "cell_type": "markdown",
   "id": "5e66d6",
   "metadata": {
    "collapsed": false
   },
   "source": [
    "##  Plotting functions\n",
    "\n",
    "- To replace variables with numerical values you need to use the **.substitute()** command.\n",
    "    - To replace all values of the variable $A_0$ with the value $1$, append '.substitute(A_0=1)' to the function name.\n",
    "- The real and imaginary parts of a function can be obtained by using **.real()** and **.imag()**.\n",
    "- Since SageMath is based on Python, everything is an object.  This means that you can modify properties or act on things using the \"dot\" notation.\n",
    "\n",
    "#### What does the free particle wave function look like?\n",
    "\n",
    "The solution to Schrodinger's equation must be a complex function so the wave function must be split into it's real part and imaginary part to plot the function.  The free particle wave function for a one-dimensional system is $\\psi(x,t) = e^{i(kx -\\omega t)}$.  What do you think the graph of the real part of the wave function will look like?  What do you think the imaginary part of the wave function will look like?  (Hint: What is Euler's identity?)"
   ]
  },
  {
   "cell_type": "code",
   "execution_count": null,
   "id": "2878dc",
   "metadata": {
    "collapsed": false
   },
   "outputs": [],
   "source": [
    "#Plotting the real and imaginary parts of the wave function\n",
    "psi_plot(x,t) = psi(x,t).substitute(A_0=1,k=1,omega=1)  #Since psi was defined with variable values for A_0, k, and omega, \n",
    "                    # we must use the '.substitute()' command to change the variables into numerical values\n",
    "#psi_plot(x,t) is the same function as psi(x,t) with A_0=1, k=1, and omega=1\n",
    "\n",
    "psi_plot_Re(x,t)=(psi_plot(x,t)).real()  #The '.real()' command extracts the real component of the function\n",
    "psi_plot_Im(x,t)=(psi_plot(x,t)).imag() #The '.imag()' command gets the imaginary component\n",
    "\n",
    "P1=plot(psi_plot_Re(x,0),x,0,10,legend_label='Real Part', title='Real and Imaginary Component of Free-Particle Wave Function')\n",
    "P2=plot(psi_plot_Im(x,0),x,0,10,legend_label='Imaginary Part',color='red')\n",
    "P=P1+P2  #Combine the two graphs into one plot\n",
    "P.show()  #Show the plot"
   ]
  },
  {
   "cell_type": "markdown",
   "id": "eda441",
   "metadata": {
    "collapsed": false
   },
   "source": [
    "### For You To Try:\n",
    "\n",
    "Use the fact that $e^{i \\theta} = \\cos(\\theta) + i \\sin(\\theta)$ to plot the real part of the wave function at time $t = 1$.  Type your work into the input cell below.\n",
    "\n",
    "How does your graph for the real part of the wave function compare to the graph of the real part above?  What function do you think represents the imaginary part of the free particle wave function?"
   ]
  },
  {
   "cell_type": "code",
   "execution_count": 0,
   "id": "06a424",
   "metadata": {
    "collapsed": false
   },
   "outputs": [],
   "source": [
    "#Add your work here"
   ]
  },
  {
   "cell_type": "markdown",
   "id": "5376e8",
   "metadata": {
    "collapsed": false
   },
   "source": [
    "##   Animating plots\n",
    "- A collection of still images can be combined to create an animation\n",
    "- Put all images in a list (square brackets denote a list)\n",
    "- Use the list of images as an argument to the `animage(list_of_images_here)` command\n",
    "\n",
    "#### Which way is the free particle wave function moving?\n",
    "\n",
    "To determine the direction that the wave is moving you can create an animated plot at different times using a short Python script.  You will need to create a list of plot snapshots at different times and then combine them into an animation."
   ]
  },
  {
   "cell_type": "code",
   "execution_count": null,
   "id": "f7965e",
   "metadata": {
    "collapsed": false
   },
   "outputs": [],
   "source": [
    "times = sxrange(0,5,0.5)     #Create a list of the times for evaluation. sxrange() creates a list of numbers from 0 to 5 in steps of 0.5\n",
    "plot_graph = []   #Create an empty list to store the plotted graphs at different times\n",
    "\n",
    "for t in times:    #Loop through all times\n",
    "    new_plot=plot(psi_plot_Re(x,t),x,0,10)+plot(psi_plot_Im(x,t),x,0,10,color='red')   #Create plot at time t for each value of t\n",
    "    plot_graph.append(new_plot)    #Add the new plot to the final list\n",
    "\n",
    "a=animate(plot_graph)    #Combine all plots contained in plot_graph into an animation\n",
    "a.show()  #Show the animation"
   ]
  },
  {
   "cell_type": "markdown",
   "id": "a6f02d",
   "metadata": {
    "collapsed": false
   },
   "source": [
    "\n",
    "### Note:\n",
    "\n",
    "You can accomplish the same thing with more compact code using Python list comprehensions:\n",
    "\n",
    "    plot_graph = [plot(psi_plot_Re(x,t),x,0,10)+plot(psi_plot_Im(x,t),x,0,10,color='red') for t in sxrange(0,5,.5)]\n",
    "    a=animate(plot_graph)\n",
    "    a.show()"
   ]
  },
  {
   "cell_type": "markdown",
   "id": "8036a9",
   "metadata": {
    "collapsed": false
   },
   "source": [
    "##   Working with complex functions\n",
    "\n",
    "\n",
    "\n",
    "- Assumptions about variables can be specified using the **assume()** command.  In this case we assume all variables are real.\n",
    "- The complex conjugate can be found using **.conjugate()**.\n",
    "- **print()** and **pretty_print()** can be used to include text in an output cell.\n",
    "\n",
    "#### Calculate the probability density for the free particle wave function\n",
    "\n",
    "The wave function $\\psi(x,t)$ is called the probability amplitude of the particle.  The probility density $\\rho(x,t)$ is equal to the magnitude of the probability amplitude squared.  Since $\\psi(x,t)$ is complex, the magnitude squared _is not the same as_ the square of $\\psi(x,t)$.  You must multiply $\\psi(x,t)$ by it's complex conjugate, which is written as $\\psi^*(x,t)$.  The probability density is then given by $\\rho(x,t) = \\psi^*(x,t) \\psi(x,t)$.\n",
    "\n",
    "How would you find the probability to find a particle between two points given the probability density?  In other words, how is the probability density related to the probability to find the particle within some region of space?"
   ]
  },
  {
   "cell_type": "code",
   "execution_count": null,
   "id": "9590e1",
   "metadata": {
    "collapsed": false
   },
   "outputs": [],
   "source": [
    "#All of these quantities are real.  We need to specify that they are real because we will calculate the complex conjugate of psi(x,t)\n",
    "#Without assumption that these variables are real, rho(x,t) below will not simplify to A_0^2\n",
    "assume(omega,'real')\n",
    "assume(k,'real')\n",
    "assume(x,'real')\n",
    "assume(t,'real')\n",
    "assume(A_0,'real')\n",
    "\n",
    "rho(x,t)=psi(x,t)*psi(x,t).conjugate() #When defining a function, the results are not printed out ...\n",
    "rho(x,t)  #... so you'll need to call the function to get SageMath to print it in the output cell\n",
    "\n",
    "print('The probability density rho(x,t) for a free partile is', rho(x,t))\n",
    "\n",
    "#You can typeset the print statement using Latex by calling 'pretty_print()'...\n",
    "pretty_print('The probability density $\\\\rho(x,t)$ for a free particle is', rho(x,t))\n",
    "\n",
    "#Notice that print only requires quote marks around text while pretty_print() uses parentheses and quote marks"
   ]
  },
  {
   "cell_type": "markdown",
   "id": "bf256e",
   "metadata": {
    "collapsed": false
   },
   "source": [
    "### For You To Try:\n",
    "\n",
    "- To see what other assumptions you can make, type 'assume?' into the input cell below.\n",
    "- To get help with the **integral()** command, first type 'int' and then hit Tab to use autocomplete.  Select 'integral' from the pop-up list and add a question mark to the end before evaluating the cell by hitting Shift+Enter"
   ]
  },
  {
   "cell_type": "code",
   "execution_count": 0,
   "id": "fce3fa",
   "metadata": {
    "collapsed": false
   },
   "outputs": [],
   "source": [
    "#Input your work here"
   ]
  },
  {
   "cell_type": "markdown",
   "id": "d61d5c",
   "metadata": {
    "collapsed": false
   },
   "source": [
    "##  Taking derivatives of functions\n",
    "\n",
    "- The command **.derivative()** will find the derivative of a symbolic function.\n",
    "- The arguments of the **.derivative()** command are the variable of differentiation and the order of the derivative\n",
    "    - To find the third derivative of the function $f$ with respect to $x$ use:\n",
    "\n",
    "           f.derivative(x, 3)\n",
    "\n",
    "The output from the **.derivative()** command is another function, which you can evaluate or set equal to another variable."
   ]
  },
  {
   "cell_type": "code",
   "execution_count": null,
   "id": "bb32f7",
   "metadata": {
    "collapsed": false
   },
   "outputs": [],
   "source": [
    "psi.derivative(x,1)  #Taking the first derivative with respect to x\n",
    "psi.derivative(x)  #First order derivative is assumed if no number is given\n",
    "psi.derivative()  #If you don't specify the differentiation variable, SageMath will return a list with all possible derivatives\n",
    "\n",
    "psi(x,t).derivative(x)  #If you explicitly include the arguments of the function the result will be returned without (x,t) |-->\n",
    "\n",
    "\n",
    "psi.derivative(x)(x=1,t=1)  #You can evaluate the derivative at a point but specifying the values for x and t...\n",
    "\n",
    "psi_prime = psi.derivative(x)   #... or you can define your result as a new function...\n",
    "psi_prime(1,1)    #... and evaluate this new function at the point x=1, t=1"
   ]
  },
  {
   "cell_type": "markdown",
   "id": "d626cb",
   "metadata": {
    "collapsed": false
   },
   "source": [
    "\n",
    "### Note:\n",
    "\n",
    "Rather than using the \"dot\" notation, you can treat the **derivative()** command as a function.  You can also use **diff()** in place of **derivative**; the results are the same for both commands.\n",
    "\n",
    "- Here are a couple of examples that are all equivalent:\n",
    "\n",
    "      derivative(f,x,2)\n",
    "\n",
    "      diff(f,x,2)\n",
    "\n",
    "      f.derivative(x,2)\n",
    "\n",
    "      f.diff(x,2)"
   ]
  },
  {
   "cell_type": "markdown",
   "id": "0e675f",
   "metadata": {
    "collapsed": false
   },
   "source": [
    "##   Defining functionals involved derivatives\n",
    "\n",
    "Another way to define functions is using Python commands.\n",
    "- Definition must start with **def** followed by the name of the function and the arguments of the function.\n",
    "- First line of function definition must end with a colon **:**\n",
    "- All code included in the function must be indented four spaces (one tab)\n",
    "- Last line of function defintion must return resulting equation\n",
    "\n",
    "#### Momentum Operator\n",
    "\n",
    "In quantum mechanics, all observable quantities have an associated operator.  These operators require a wave function to operate on.  The momentum operator in one-dimension is defined as $\\hat{p}=-i\\hbar \\frac{d}{dx}$.  The value of the momentum $p$ is found by applying the operator to the wave function.  In other words, $p\\psi(x,t) = \\hat{p} \\psi(x,t)$ or, dividing both sides by $\\psi(x,t)$, $p=\\frac{\\hat{p}\\psi(x,t)}{\\psi(x,t)}.$  Notice that $\\psi(x,t)$ doesn't cancel out the $\\psi(x,t)$ in the numerator because the numerator is $\\hat{p}$ *operating* on $\\psi(x,t)$ which is different than multiplying the two terms together.\n",
    "\n",
    "The momentum of a free particle is given by $\\hbar k$, which is what the following calculation demonstrates."
   ]
  },
  {
   "cell_type": "code",
   "execution_count": null,
   "id": "cfdc4b",
   "metadata": {
    "collapsed": false
   },
   "outputs": [],
   "source": [
    "hbar=var('hbar',latex_name=r'\\hbar')  #This extra defintion will display the hbar symbol when using .show()\n",
    "\n",
    "def P(f):   #This will define the momentum operator P\n",
    "    return -i*hbar*diff(f,x)    #The function returns -i*hbar*diff(f,x) when called\n",
    "\n",
    "P(psi)  #Calculating momentum using P-operator.  Notice psi indicate P is operating on the function\n",
    "P(psi).show()  \n",
    "P(psi(x,t)).show()  # if I explicitly include the arguments of psi that (x,t) |--> is not included in the output\n",
    "\n",
    "momentum = P(psi(x,t))/psi(x,t)\n",
    "pretty_print('The momentum of a free particle is $p=$', momentum)"
   ]
  },
  {
   "cell_type": "markdown",
   "id": "8d1753",
   "metadata": {
    "collapsed": false
   },
   "source": [
    "### For You To Try:\n",
    "\n",
    "Schrodinger's equation is given by $\\frac{-\\hbar^2}{2m}\\frac{\\partial^2}{\\partial x^2} \\psi(x,t) +V(x)\\psi(x,t) = i\\hbar \\frac{\\partial}{\\partial t} \\psi(x,t).$  In order to demonstrate that $\\psi(x,t) = A_0 e^{i(kx - \\omega t)}$ satisfies this equation, you need to plug this equation for $\\psi(x,t)$ into both sides of the equation and show both sides are equal to one another.\n",
    "\n",
    "First, take the second derivative of the wave function $\\psi(x,t)$ with respect to $x$ in the cell below.  Multiply this by $-\\hbar^2/(2m)$.  This will give you the left-hand side of Schrodinger's equation.\n",
    "\n",
    "Next find the first derivative of $\\psi(x,t)$ with respect to $t$.  Multiply this result by $i \\hbar$ to get the right-hand side of Schrodinger's equation.   Compare this equation to the previous equation.  The two equations should agree if you recognize that $\\omega = \\hbar k^2/(2m)$.\n",
    "\n",
    "Use **.substitute(omega = hbar k^2/(2*M))** on this second equation and both equations should match, showing that this wave function satisfies Schrodinger's equation."
   ]
  },
  {
   "cell_type": "code",
   "execution_count": 0,
   "id": "0b905e",
   "metadata": {
    "collapsed": false
   },
   "outputs": [],
   "source": [
    "#Insert your work here"
   ]
  },
  {
   "cell_type": "markdown",
   "id": "a27000",
   "metadata": {
    "collapsed": false
   },
   "source": [
    "## Another exampe of defining functionals involving derivatives\n",
    "\n",
    "We will use the Python **def** command again to define our two functions.   To define the Hamiltonian operator $\\hat{H} = \\frac{-\\hbar^2}{2m} \\frac{d^2}{dx^2} $ we would use a Python definition that returns the desired function.  We can define the energy operator $\\hat{E} = -i \\hbar \\frac{d}{dt}$ in a similar fashion.  These two functions can then be used to find $\\hat{H}\\psi(x,t)$ and $\\hat{E}\\psi(x,t)$\n",
    "\n",
    "#### Defining Schrodinger's equation in SageMath\n",
    "\n",
    "The left-hand side of Schrodinger's equation is called the Hamiltonian which you may have heard of in a classical physics course.  The Hamiltonian $\\hat{H}$ and energy $\\hat{E}$ are operators which must have a function to operate on.  In this worksheet we use the hat symbol $\\hat{}$ above the letter to indicate an operator but your instructor may use different notation.  The operator $\\hat{H}$ is called 'H-hat'.\n",
    "\n",
    "In terms of operators, Schrodinger's equation can be written as $\\hat{H}\\psi(x,t) = \\hat{E} \\psi(x,t)$ where we understand that $\\hat{H}$ and $\\hat{E}$ operator on the functions immediately to their right."
   ]
  },
  {
   "cell_type": "code",
   "execution_count": 0,
   "id": "2f5230",
   "metadata": {
    "collapsed": false
   },
   "outputs": [],
   "source": [
    "hbar=var('hbar',latex_name=r'\\hbar')  #This defintion will display the hbar symbol when using .show() or pretty_print\n",
    "\n",
    "def H(f):    #The first line of the definition must include the name of the function, the variables, and end with a colon\n",
    "    return -hbar^2/(2*m)*diff(f,x,2)   #all lines that make up the function must be indented four spaces (one tab)\n",
    "\n",
    "def E(f):   #This function is the right-hand side of Schrodinger's equation\n",
    "    return i*hbar*diff(f,t)\n",
    "\n",
    "Hamil_term=H(psi(x,t))   #Calculate the Hamiltonian operating on psi\n",
    "Ener_term=E(psi(x,t))    #Calculate the energy operator on psi\n",
    "\n",
    "Hamil_term.show()    #Show pretty versions of H(psi)\n",
    "Ener_term.show()     #Show a pretty version of E(psi)"
   ]
  },
  {
   "cell_type": "markdown",
   "id": "50147d",
   "metadata": {
    "collapsed": false
   },
   "source": [
    "## Solving algebraic equations\n",
    "\n",
    "- When solving equations you must remember the difference between $==$ and $=$.\n",
    "    - The 'double-equals' sign $==$ is a comparison and is what you should use with the **solve()** command.\n",
    "    - The \"single-equals' sign $=$ is an assignment operator and sets the left hand side to the value on the right.\n",
    "- The arguments of **solve()** are the equation to solve and the variable to solve for.\n",
    "- Type **solve?** into an input cell to see the other options available for the **solve()** command.\n",
    "\n",
    "#### Find the values of $k$ that satisfy Schrodinger's equation\n",
    "\n",
    "We've already specified the equation that relates $k$ and $\\omega$ but the following will show you how to use SageMath to find this relation using Schrodinger's equation.  We'll use the previous definitions of $H$ and $E$ along with $\\psi(x,t)$ to find $k$."
   ]
  },
  {
   "cell_type": "code",
   "execution_count": 0,
   "id": "4295f2",
   "metadata": {
    "collapsed": false
   },
   "outputs": [],
   "source": [
    "ans = solve(H(psi(x,t))==E(psi(x,t)),k)\n",
    "show(ans)\n",
    "\n",
    "print \"Here are two other examples using the solve command\"\n",
    "ans2 = solve(cos(k*x)==0,x)\n",
    "pretty_print(\"The solution to $cos(k*x)=0$ is \", ans2 )  #This only gives one answer.  This equation holds true for *any* integer multiple of this answer.\n",
    "\n",
    "ans3 = solve(x^2+x==6,x)\n",
    "pretty_print(\"The solutions to $x^2+x = 6$ are \",ans3)"
   ]
  },
  {
   "cell_type": "markdown",
   "id": "c18056",
   "metadata": {
    "collapsed": false
   },
   "source": [
    "### For You To Try:\n",
    "\n",
    "Solve the equation $H \\psi(x,t) == E \\psi(x,t)$ for **omega** rather than **k** and show the result is $\\omega = \\frac{\\hbar^2 k^2}{2m}$."
   ]
  },
  {
   "cell_type": "code",
   "execution_count": 0,
   "id": "635005",
   "metadata": {
    "collapsed": false
   },
   "outputs": [],
   "source": [
    "#Insert your work here"
   ]
  },
  {
   "cell_type": "markdown",
   "id": "50ef31",
   "metadata": {
    "collapsed": false
   },
   "source": [
    "## Extract a solution from a list of answers\n",
    "\n",
    "\n",
    "- The solution from the **solve()** command is a Python list and we can extract elements of the equations from the list.  Python starts indices at 0 rather than 1 so the first element in *ans* is *ans[0]* and the second element is *ans[1]*.\n",
    "- You can extract the **r**ight **h**and **s**ide of an equation using **.rhs()**.\n",
    "- To see if the equation holds true we need to compare the two sides using a double equals sign (==) and force SageMath to give us a Boolean answer by using **bool()**.\n",
    "\n",
    "#### Double-check that $k$ satisfies the wave equation\n",
    "\n",
    "To help practice using SageMath, we will take the solution obtained for $k$ and plug it back into Schrodinger's equation (again)."
   ]
  },
  {
   "cell_type": "code",
   "execution_count": 0,
   "id": "bbb9d6",
   "metadata": {
    "collapsed": false
   },
   "outputs": [],
   "source": [
    "ans[0].show()  #Extract first equation from list of solutions\n",
    "ans[1].show()  #Extract second equation from list of solutions\n",
    "\n",
    "k1 = ans[0].rhs()   #Extract right-hand side of first solution...\n",
    "k1.show()   #... and show the typeset version\n",
    "\n",
    "k2 = ans[1].rhs()   #Extract right-hand side of second solution...\n",
    "k2.show()        #... and make it look nice\n",
    "\n",
    "\n",
    "t_or_f1=bool(H(psi(x,t).substitute(k=k1))==E(psi(x,t).substitute(k=k1)))   #Check if the two equations are equal for solution k1...\n",
    "pretty_print(\"$k_1$ satisfies the Schrodinger equation:\", t_or_f1)    #... and print the results\n",
    "\n",
    "\n",
    "t_or_f2=bool(H(psi(x,t).substitute(k=k2))==E(psi(x,t).substitute(k=k2)))   #Check if the two equations are equal for solution k2...\n",
    "pretty_print(\"$k_2$ satisfies the Schrodinger equation:\", t_or_f2)    #... and print the results"
   ]
  },
  {
   "cell_type": "markdown",
   "id": "205e6e",
   "metadata": {
    "collapsed": false
   },
   "source": [
    "##   Integrating a function\n",
    "\n",
    "\n",
    "\n",
    "- The command to integrate is **.integrate()** or you can apply **integrate()** as a function to the equation.\n",
    "- For an indefinite integral you only need to specify the variable of integration\n",
    "- For a definite integral you must specify the variable of integration and the limits.\n",
    "     - For example, to integrate the function $f(x)$ from $x=0$ to $x=L$ you'd type:\n",
    "             integrate(f(x),[x,0,L])\n",
    "\n",
    "\n",
    "### Normalize the wave function and find the probability to find the free particle between to points in space\n",
    "\n",
    "To normalize the wave function, the total probability to find the particle _somewhere_ must equal 1.  Unfortunately with the free particle you run into an issue because the free particle can be anywhere between $-\\infty$ and $\\infty$.  Using these limits results in a divergent integral.  To get around the infinite integral we will consider the case where the particle is limited to some region between $x=+L$ and $x=-L$ where $L \\gg \\lambda$ where $\\lambda$ is the wavelength of the free particle."
   ]
  },
  {
   "cell_type": "code",
   "execution_count": 0,
   "id": "215df7",
   "metadata": {
    "collapsed": false
   },
   "outputs": [],
   "source": [
    "norm_integral_1 = integrate(psi*psi.conjugate(),x); norm_integral_1   #Set the value of the indefnite integral = norm1, and display norm1\n",
    "solve(norm_integral_1 ==1,A_0)  #Solve for the values of A_0\n",
    "\n",
    "L=var('L')  #Define L as a variable\n",
    "assume(L,'real')  #Specify that L is a real quantity\n",
    "norm_integral_2 = integrate(psi*psi.conjugate(),[x,-L,L]);norm_integral_2  #Solve definite int using -L & L as the lower & upper bounds\n",
    "norm_const=solve(norm_integral_2==1,A_0);norm_const  #Solve for A_0\n",
    "show(\"If the particle is confined to a region of length 2L, the normalization constant $A_0$ is \", norm_const[1].rhs() )\n",
    "\n",
    "show(\"The wave function $\\psi(x,t)$, including the normalization constant is $psi(x,t)=$\", psi(x,t).substitute(A_0=norm_const[1].rhs()))"
   ]
  },
  {
   "cell_type": "markdown",
   "id": "511ccc",
   "metadata": {
    "collapsed": false
   },
   "source": [
    "## Other ways to do things\n",
    "\n",
    "In addition to using the \"dot\" notation to operate on functions, you can also use various operations as functions.  For instance, *derivative(psi,x)* gives the same result as *psi.derivative(x)*"
   ]
  },
  {
   "cell_type": "code",
   "execution_count": 0,
   "id": "10aa5f",
   "metadata": {
    "collapsed": false
   },
   "outputs": [],
   "source": [
    "psi.derivative(x,2)\n",
    "derivative(psi,x,2)\n",
    "\n",
    "psi.integrate(x)\n",
    "integrate(psi,x)\n",
    "\n",
    "psi.real()\n",
    "real(psi)\n",
    "\n",
    "psi.imag()\n",
    "imag(psi)\n",
    "\n",
    "psi.show()\n",
    "show(psi)"
   ]
  },
  {
   "cell_type": "markdown",
   "id": "068c3d",
   "metadata": {
    "collapsed": false
   },
   "source": [
    "## Project Ideas and Problems to Solve\n",
    "\n",
    "1. Have students find realistic values for masses and velocities for electrons, protons, or neutrons and use de Broglie's equation to find $k$, $\\omega$, and total energy $E$.\n",
    "\n",
    "2. Plot wave functions for electrons and protons on the same plot and have students explain why electron microscopes are used for imaging small objects while 'proton microscopes' aren't as useful.\n",
    "\n",
    "3. Have students complete homework problems from the end of the textbook chapter."
   ]
  },
  {
   "cell_type": "markdown",
   "metadata": {},
   "source": [
    "# 2. Particle in 1D box - Solving differential equations\n"
   ]
  },
  {
   "cell_type": "markdown",
   "metadata": {},
   "source": [
    "\n",
    "- Solving DEs\n",
    "- Integrating a function\n",
    "- Plotting functions\n",
    "- Creating an animated plot\n",
    "- Approximate numerical results\n",
    "- Expand symbolic expressions\n",
    "\n",
    "When solving DEs it helps to specify which variables are real and which are positive using the **assume()** command.\n",
    "- You need to specify the independent variable (**IV**) of your function.  In this case we specify that $\\psi$ is a function of $x$.\n",
    "- The DE is defined using the Python **def** method.\n",
    "    - This creates a function which we can differential, integrate, or use **desolve()**.\n",
    "    - **desolve()** includes the DE to solve, the dependent variable ($\\psi$ in this case), and the IV x (specified using **ivar=x** to indicate IV).\n",
    "\n",
    "### Find general solution to Schrodinger's equation\n",
    "\n",
    "The time-independent Schrodinger's equation in one dimension is $\\frac{-\\hbar^2}{2m} \\frac{d^2}{dx^2}\\psi(x) + V(x)\\psi(x) = E \\psi(x)$.  For an infinite square well of width $L$ the potential energy function is given by\n",
    "\n",
    "$V(x) = \\left\\{ \\begin{array}{cc} \\infty & \\text{if } x\\ge L\\\\ 0 & \\text{if } 0< x < L \\\\ \\infty & \\text{if } x \\le 0 \\end{array}\\right.$\n",
    "\n",
    "\n",
    "Note: To solve this differential equation we set the potential energy to zero inside the box and rearrange Schrodinger's equation so it has the form $\\frac{-\\hbar^2}{2m} \\frac{d^2}{dx^2}\\psi(x) - E \\psi(x) = 0$."
   ]
  },
  {
   "cell_type": "code",
   "execution_count": null,
   "metadata": {},
   "outputs": [],
   "source": [
    "psi,m,L=var('psi,m,L')  #Declare wave function, mass, and box length as variables\n",
    "\n",
    "Ener=var('Ener',latex_name=r'\\mathcal{E}')  #Declare Ener as energy variable but will display a script E when using show() \n",
    "hbar=var('hbar',latex_name=r'\\hbar')  #Declares hbar as a variable and displays hbar symbol when using show() \n",
    "\n",
    "assume(Ener,'real')   #Assume the variable Ener (the energy) only takes real values...\n",
    "assume(Ener>0)        #... and assume the energy is greater than zero.  These are needed for desolve()\n",
    "\n",
    "assume(m,'real')   #Assume the mass is real...\n",
    "assume(m>0)        #... and positive.  \n",
    "              #If you don't make assumptions you will get an error message asking if these variables are positive, negative, or zero\n",
    "\n",
    "#To solve DE, we must tell Sage that psi is a function called 'psi' with a single dependent variable\n",
    "psi=function('psi')(x)   \n",
    "\n",
    "def f(psi):  #Define the equation to solve.\n",
    "    return -hbar^2/(2*m)*diff(psi,x,2)-Ener*psi   #This is the differential equation to be solved\n",
    "\n",
    "general_soln = desolve(f(psi)==0,psi,ivar=x)\n",
    "\n",
    "\n",
    "pretty_print('The general solution to Schrodinger\\'s equation is $\\psi(x)=$', general_soln)"
   ]
  },
  {
   "cell_type": "markdown",
   "metadata": {},
   "source": [
    "\n",
    "### Satisfying boundary conditions\n",
    "\n",
    "The boundary conditions require that $\\psi(x,t)$ must be zero at the two walls.  In other words, $\\psi(x=0,t)=0$ and $\\psi(x=L,t)=0$.  Since $\\sin(0)=0$ and $\\cos(0)=1$, this means that $K_2=0$.  The boundary condition at $x=L$ says that $K_1 \\sin(\\sqrt{2 \\mathcal{E} m} x/\\hbar) = 0$ which is true if the argument of $\\sin()$ is an integer multiple of $\\pi$.  Thus $\\frac{\\sqrt{2 m \\mathcal{E}}L}{\\hbar} = n \\pi$ for $n = 1, 2, 3, ...$.  To be consistent with previous notation we will set $A_0 = K_1$.  The wave function for the particle in a box is $\\psi(x,t) = A_0 \\sin(\\frac{n \\pi x}{L}).$"
   ]
  },
  {
   "cell_type": "markdown",
   "metadata": {},
   "source": [
    "\n",
    "## Integrating functions\n",
    "\n",
    "- To integrate the function **f(x)** you can either use **f(x).integrate(x)** or **integrate(f(x),x)**.\n",
    "- For a definite integral, instead of just specifying the integration variable **x** you should specify the variable *and* the limits **[x,0,L]**.\n",
    "- Integrals frequently gives errors asking if a quantity is positive, negative, or zero.  Use **assume()** commands to resolve this question.\n",
    "\n",
    "\n",
    "\n",
    "### Deterimine normalization constant\n",
    "\n",
    "The integral of the probability density over some region of space gives the probability of finding the particle in that region.  If we integrate over all possible places the particle might be, the total probability has to be 1 ( which corresponds to 100%).  We can use this fact to find the normalization constant $A_0$.  In other words, by requiring $\\int_0^L \\psi^*(x,t) \\psi(x,t) dx = 1$ we can solve for $A_0$."
   ]
  },
  {
   "cell_type": "code",
   "execution_count": null,
   "metadata": {},
   "outputs": [],
   "source": [
    "A_0,n =var('A_0,n ')\n",
    "assume(L,'real')  #Assume L is a real number\n",
    "assume(L>0)  #Assume L is positive\n",
    "assume(n,'integer')   #n must be an integer for a particle in an infinite square well - this is why we have quantization\n",
    "\n",
    "\n",
    "psi_well(x,n)=A_0*sin(n*pi*x/L)   #Define the wave function\n",
    "\n",
    "norm_int=integrate(psi_well*psi_well.conjugate(),[x,0,L])   #Integrate the probability density (psi* x psi) over the width of the well\n",
    "pretty_print('The normalization integral gives ', norm_int)\n",
    "\n",
    "answer=solve(norm_int==1,A_0)   #What value does A_0 need to have for a total probability of 1\n",
    "pretty_print('The possible answers for $A_0$ are ', answer)\n",
    "\n",
    "norm_const=answer[1].rhs()   #Select only the right hand side of the last term\n",
    "pretty_print('We are only interested in the positive value  which is $A_0=$', norm_const)\n",
    "\n",
    "psi_well(x,n)=psi_well(x,n).substitute(A_0=norm_const)  #Substitute our value for A_0 into the wave function\n",
    "show('The equation for our wave function inside an infinite potential well is $\\psi(x)=$', psi_well(x,n))"
   ]
  },
  {
   "cell_type": "markdown",
   "metadata": {},
   "source": [
    "## More integration examples\n",
    "\n",
    "### Check orthogonality of infinite square well solutions\n",
    "\n",
    "The wave functions for differing values of $n$ should be orthogonal to one another.  This means that $\\int_0^L \\psi_n^*(x) \\psi_m(x) dx = \\delta_{mn}$"
   ]
  },
  {
   "cell_type": "code",
   "execution_count": null,
   "metadata": {},
   "outputs": [],
   "source": [
    "m=var('m')\n",
    "assume(m,'integer')\n",
    "\n",
    "probability_not_orthogonal=integrate(psi_well(x,n).conjugate()*psi_well(x,n),[x,0,L])  #Calculate for m=n\n",
    "show(' If both wave functions have same n-value, then $\\int_0^a\\psi_n^*(x) \\psi_n(x)dx$ = ', probability_not_orthogonal)\n",
    "\n",
    "\n",
    "probability_orthogonal=integrate(psi_well(x,n).conjugate()*psi_well(x,m),[x,0,L])   #Calculate for m not equal to n\n",
    "show(' If m is not equal to n, then $\\int_0^a\\psi_n^*(x) \\psi_m(x)dx$ = ', probability_orthogonal)  #%todo: \\ne or \\neq not working"
   ]
  },
  {
   "cell_type": "markdown",
   "metadata": {},
   "source": [
    "\n",
    "## 2D plots of functions\n",
    "\n",
    "- To plot a function $f(x)$ vs. $x$ from $x=0$ to $x=2$, use **plot(f(x),[x,0,2])**\n",
    "- You can change the color of the line plotted by setting the color argument (e.g. **color='black'**)\n",
    "- Multiple graphs can be combined into a single plot window by adding the **plot()** commands together.\n",
    "- Plots have various properties, such as line color, type of line, points plotted, titles, and axes labels that can be changed\n",
    "- Use the **show()** command to display a plot\n",
    "- When plotting functions with unspecified variables, set all variables to 1 using **.substitute()**.\n",
    "\n",
    "### Plot wave function and probabilty density\n",
    "\n",
    "The following commands demonstrate how to plot the wave function and probability densities for the first three lowest energy states of the 1D particle-in-a-box.\n",
    "\n",
    "Since the potential energy (and thus the Hamiltonian) is symmetric about the center of the well (about the point $x=L/2$), the wave functions will either be symmetric or antisymmetric about $x=L/2$.  Since we haven't specified the length of the box we will set $L=1$ for purposes of plotting."
   ]
  },
  {
   "cell_type": "code",
   "execution_count": null,
   "metadata": {},
   "outputs": [],
   "source": [
    "psi_well_1(x)=psi_well(x,1).substitute(L=1)  #n = 1 ground state with L=1\n",
    "psi_well_2(x)=psi_well(x,2).substitute(L=1)  #n = 2 first excited state with L=1\n",
    "psi_well_3(x)=psi_well(x,3).substitute(L=1)  #n=3 second excited state with L=1\n",
    "\n",
    "#The following three lines create plots of psi vs x\n",
    "P1=plot(psi_well_1(x),[x,0,1],color='red',legend_label='n=1 State',title='First three wave functions of infinite well',axes_labels=['Position x','$\\psi(x)$'])\n",
    "P2=plot(psi_well_2(x),[x,0,1],color='blue',legend_label='n=2 State')\n",
    "P3=plot(psi_well_3(x),[x,0,1],color='green',legend_label='n=3 State')\n",
    "\n",
    "\n",
    "P=P1+P2+P3  #Combine graphs of first three states into a single object called 'P'...\n",
    "P.show()  #... and display P on the screen\n",
    "\n",
    "#The following three lines create plots of the probability density (psi*)psi vs x\n",
    "P4=plot(psi_well_1(x)*psi_well_1(x).conjugate(),[x,0,1],color='red',legend_label='n=1 State',title='Probability density of first three states of infinite well',axes_labels=['Position x','|$\\psi(x)|^2$'])\n",
    "P5=plot(psi_well_2(x)*psi_well_2(x).conjugate(),[x,0,1],color='blue',legend_label='n=2 State')\n",
    "P6=plot(psi_well_3(x)*psi_well_3(x).conjugate(),[x,0,1],color='green',legend_label='n=3 State')\n",
    "\n",
    "\n",
    "PB=P4+P5+P6 #Combine the three graphs of probability density...\n",
    "PB.show()   #...and show them on the screen"
   ]
  },
  {
   "cell_type": "markdown",
   "metadata": {},
   "source": [
    "\n",
    "## For You To Try:\n",
    "\n",
    "How does the number of peaks of the wave function compare to the value of n?\n",
    "How does the number of nodes of the wave function compare to the value of n?\n",
    "To help answer this question, plot the wave functions for the n=4 and n=5 states and see if they agree with your answer to these two questions.  You can use psi_well(x,n) to define your wave functions."
   ]
  },
  {
   "cell_type": "code",
   "execution_count": null,
   "metadata": {},
   "outputs": [],
   "source": [
    "#Insert your work here"
   ]
  },
  {
   "cell_type": "markdown",
   "metadata": {},
   "source": [
    "## Another example of integration\n",
    "- SageMath will leave answers in exact form (e.g. 1/4 or pi) so to get numerical approximations you must use **.n()**\n",
    "- You can specify how many digits are returned using **.n(digits=3)**\n",
    "\n",
    "### Probabilities to find the particle\n",
    "\n",
    "The probability to find a particle between $x=a$ and $x=b$ is found by integrating the probability density over the region: $\\int_a^b \\psi^*(x) \\psi(x) dx $\n",
    "\n",
    "What is the probability to find the particle somewhere in the box?\n",
    "\n",
    "\n",
    "What is the probability of finding the particle in the left half of the box (between $x=0$ and $x=L/2$)?\n",
    "\n",
    "\n",
    "What is the probability of finding the particle in the left quarter of the box (between $x=0$ and $x=L/4$)?"
   ]
  },
  {
   "cell_type": "code",
   "execution_count": null,
   "metadata": {},
   "outputs": [],
   "source": [
    "probability_somewhere=integrate(psi_well(x,1).conjugate()*psi_well(x,1),[x,0,L])\n",
    "\n",
    "pretty_print(\"The probablity to find the particle somewhere is \", probability_somewhere)\n",
    "\n",
    "probability_left_half=integrate(psi_well(x,1).conjugate()*psi_well(x,1),[x,0,L/2])\n",
    "\n",
    "pretty_print(\"The probability to find the particle in the left half of the box between $x=0$ and $x=L/2$ is \", probability_left_half)\n",
    "\n",
    "probability_left_quarter=integrate(psi_well(x,1).conjugate()*psi_well(x,1),[x,0,L/4])\n",
    "\n",
    "show(\"The probability to find the particle in the left quarter of the box between $x=0$ and $x=L/4$ is \", probability_left_quarter, \" = \", probability_left_quarter.n(digits=2) )"
   ]
  },
  {
   "cell_type": "markdown",
   "metadata": {},
   "source": [
    "\n",
    "## For You To Try:\n",
    "\n",
    "How do you think these three probabilities would differ for the $n=2$ state?\n",
    "\n",
    "Calculate the probability for the particle to be somewhere inside the well, in the left half of the well, and in the left quarter of the well for the $n=2$ state.  Compare these results to the answers for the $n=1$ state."
   ]
  },
  {
   "cell_type": "code",
   "execution_count": null,
   "metadata": {},
   "outputs": [],
   "source": [
    "#Insert your work here"
   ]
  },
  {
   "cell_type": "markdown",
   "metadata": {},
   "source": [
    "\n",
    "## Expanding symbolic answers and obtaining numerical results\n",
    "\n",
    "### Calculating expectation values\n",
    "\n",
    "- `.expand()` will distribute terms and expand powers in a symbolic expression\n",
    "    - Note: When using `.expand()` on an express (rather than a variable), it helps to put parenthese around the expression.\n",
    "        - This won't work `3*(x+y).expand()` but `(3*(x+y)).expand()` will work.\n",
    "- SageMath keeps results in exact form (e.g. $\\sin(\\pi/4)$ rather than $0.707$) but you can force SageMath to give an approximate answer using `.n()`\n",
    "    - You can specify the number of digits the approximate result should have using `.n(digits=3)`\n",
    "\n",
    "What is the expected value of the position of the particle $<x>$?"
   ]
  },
  {
   "cell_type": "code",
   "execution_count": null,
   "metadata": {},
   "outputs": [],
   "source": [
    "x_exp=integrate(psi_well(x,1).conjugate()*x*psi_well(x,1),[x,0,L]);x_exp  #Expecatation value of position <x>\n",
    "\n",
    "x_exp.expand()  #Simplify the result by multiplying terms together\n",
    "\n",
    "x_numeric=x_exp.substitute(L=1E-9)   #Set size of box to 1 nm\n",
    "x_numeric.n()   #Force SageMath to compute numerical result\n",
    "x_numeric.n(digits=3)   #You can specify the number of significant figures\n",
    "pi.n(digits=7)   #Pi to seven places\n",
    "\n",
    "def P(f):   #Definition of momentum operator\n",
    "    return -i*hbar*diff(f,x)\n",
    "\n",
    "\n",
    "p_exp=integrate(psi_well(x,1).conjugate()*P(psi_well(x,1)),[x,0,L])  #Expectation value of momentum <p>\n",
    "p_exp\n",
    "\n",
    "K_exp=integrate(psi_well(x,1).conjugate()*P(P(psi_well(x,1)))/(2*m),[x,0,L])  #Expectation value of kinetic energy <K>=<p^2>/2m\n",
    "K_exp.show()"
   ]
  },
  {
   "cell_type": "markdown",
   "metadata": {},
   "source": [
    "\n",
    "### Time-dependent behavior of the wave function and probability densities"
   ]
  },
  {
   "cell_type": "code",
   "execution_count": null,
   "metadata": {},
   "outputs": [],
   "source": [
    "psi_plot_1(x,t)=psi_well_1(x)*e^(i*pi^2/2*t)\n",
    "\n",
    "\n",
    "plot_graph = [plot(psi_plot_1(x,t).real(),[x,0,1],color='red',ymin=-1.5,ymax=1.5) for t in sxrange(0,2,.1)]\n",
    "a=animate(plot_graph)\n",
    "a.show()"
   ]
  },
  {
   "cell_type": "code",
   "execution_count": null,
   "metadata": {},
   "outputs": [],
   "source": [
    "plot_graph_b = [plot(real(psi_plot_1(x,t)*psi_plot_1(x,t).conjugate()),[x,0,1],color='red',ymin=-2,ymax=2) for t in sxrange(0,2,.1)]\n",
    "b=animate(plot_graph_b)\n",
    "b.show()"
   ]
  },
  {
   "cell_type": "markdown",
   "metadata": {},
   "source": [
    "\n",
    "## For You To Try:\n",
    "\n",
    "Why does the wave function oscillate but the probability density does not?  (Hint: the probability density involves multiplying the wave function by its complex conjugate)\n",
    "\n",
    "Plot the wave function and probability density for the n=2 state and see if it displays the same behavior."
   ]
  },
  {
   "cell_type": "code",
   "execution_count": null,
   "metadata": {},
   "outputs": [],
   "source": [
    "#Insert your work here"
   ]
  },
  {
   "cell_type": "markdown",
   "metadata": {},
   "source": [
    "\n",
    "### Animate plot of superposition of two states"
   ]
  },
  {
   "cell_type": "code",
   "execution_count": null,
   "metadata": {},
   "outputs": [],
   "source": [
    "psi_super(x,t)=psi_well_1(x)*e^(i*pi^2/2*t)+psi_well_2(x)*e^(i*4*pi^2/2*t)\n",
    "\n",
    "plot_graph_c = [plot(psi_super(x,t).real(),[x,0,1],color='red',ymin=-2.5,ymax=2.5) for t in sxrange(0,2,.1)]\n",
    "c=animate(plot_graph_c)\n",
    "c.show()"
   ]
  },
  {
   "cell_type": "code",
   "execution_count": null,
   "metadata": {},
   "outputs": [],
   "source": [
    "plot_graph_d = [plot(real(psi_super(x,t)*psi_super(x,t).conjugate()),[x,0,1],color='red',ymin=0,ymax=6.5) for t in sxrange(0,2,.1)]\n",
    "d=animate(plot_graph_d)\n",
    "d.show()"
   ]
  },
  {
   "cell_type": "markdown",
   "metadata": {},
   "source": [
    "\n",
    "## For You To Try:\n",
    "\n",
    "Why does the probability density of the superposition state vary with time while the pure n=1 and n=2 states do not vary (Hint: The time dependence of the wave function is contained in the term $e^{iE_n t/\\hbar}$.  What happens to this time dependence when you calculate $\\psi^* \\psi$ for the pure n=1 state or n=2 state? )\n",
    "\n",
    "Plot the real part of a superposition of the n=1 and n=3 states $\\psi_{super}(x,t)=\\psi_{n=1}(x,t)+\\psi_{n=3}(x,t)$.  Remember that the time dependency is $e^{iE_n t/\\hbar}$ where $E_n=\\frac{n^2\\pi^2\\hbar^2}{2mL^2}$ where we have assumed $\\hbar=1$, $m=1$, and $L=1$ for plotting purposes."
   ]
  },
  {
   "cell_type": "code",
   "execution_count": null,
   "metadata": {},
   "outputs": [],
   "source": [
    "#Insert your work here"
   ]
  },
  {
   "cell_type": "markdown",
   "metadata": {},
   "source": [
    "##   Project Ideas and Problems to Solve\n",
    "\n",
    "1. Normalize a 50/50 superposition of the n=1 and n=3 state where $\\psi_{super}(x,t)=A_{norm}\\left( \\psi_{n=1}(x,t)+\\psi_{n=3}(x,t)\\right)$.  In other words, find the value of $A_{norm}$ such that $\\int_{-\\infty}^{\\infty}\\psi^*(x,0) \\psi(x,0) dx = 1$.\n",
    "\n",
    "2. Calculate <x> for a particle in a superposition of the n=1 and n=3 states $\\psi_{super}(x,t)=\\psi_{n=1}(x,t)+\\psi_{n=3}(x,t)$.\n",
    "\n",
    "3. Use the fact that the uncertainty of an observable is defined as $\\Delta A = \\sqrt{< A^2 > - < A >^2}$ to find the uncertainty in the position and momentum for the first three states.\n",
    "\n",
    "4. Repeat the previous question for the superposition of the n=1 and n=3 states."
   ]
  },
  {
   "cell_type": "markdown",
   "metadata": {},
   "source": [
    "# 3. Q harmonic oscillator - Solving DEs\n"
   ]
  },
  {
   "cell_type": "markdown",
   "metadata": {},
   "source": [
    "- Solving differential equations\n",
    "- Plot dotted, dashed, or solid lines\n",
    "- Placement of plot titles\n",
    "- Adding arrows and text to plots\n",
    "- Simplify symbolic expressions\n",
    "\n",
    "Physicists LOVE the harmonic oscillator potential.  It is one of our favorites for two very important reasons: 1) It is one of handful of potentials that we can solve exactly and 2) _any_ restoring force potential can be approximated as a harmonic oscillator near the equilibrium point.  This is why we often approximate solid matter as a collection of ball-and-springs; the molecular bonds between atoms behave like springs if you don't compress the solid too much.\n",
    "\n",
    "The harmonic potential energy equation is $U=\\frac{1}{2}m \\omega^2 x^2$.  Plugging this into Schrodinger's equation gives\n",
    "\n",
    "$\\frac{-\\hbar^2}{2m} \\frac{d^2}{dx^2}\\psi(x) + \\frac{1}{2}m \\omega^2 x^2 \\psi(x) = E \\psi(x)$\n",
    "\n",
    "\n",
    "- When solving differential equations it helps to specify which variables are real and which are positive using the `assume()` command.\n",
    "- You need to specify the independent variable of your function.  In this case we specify that $\\psi$ is a function of $x$.\n",
    "- The differential equation is defined using the Python `def` method.\n",
    "    - This creates a function which we can differential, integrate, or solve using the differential equation solver.\n",
    "- Use `desolve()` to solve the differential equation.  The arguments of `desolve()` are the differential equation to solve, the dependent variable ($\\psi$ in this case), and the independent variable x (specified using `ivar=x` to indicate the independent variable).  In this case, `desolve()` with encounter an issue unless you specify `contrib_ode=True`, in which case a slightly different solver is used to handle the differential equation."
   ]
  },
  {
   "cell_type": "code",
   "execution_count": null,
   "metadata": {},
   "outputs": [],
   "source": [
    "psi,m,L,omega=var('psi,m,L,omega')  #Declare wave function, mass, and box length as variables\n",
    "\n",
    "Ener=var('Ener',latex_name=r'\\mathcal{E}')  #Declare Ener as energy variable but will display a script E when using show()  \n",
    "hbar=var('hbar',latex_name=r'\\hbar')  #Declares hbar as a variable and displays hbar symbol when using show()  \n",
    "\n",
    "assume(Ener,'real')   #Assume the variable Ener (the energy) only takes real values...\n",
    "assume(Ener>0)   #... and assume the energy is greater than zero.  These are needed for desolve()\n",
    "\n",
    "assume(m,'real')   #Assume the mass is real...\n",
    "assume(m>0)     #... and positive.   \n",
    "\n",
    "#To solve the differential equation we must tell SageMath that psi is a function called 'psi' with a single dependent variable\n",
    "psi=function('psi')(x)   \n",
    "\n",
    "def f(psi):  #Define the equation to solve.\n",
    "    return -hbar^2/(2*m)*diff(psi,x,2)+(1/2*m*omega^2*x^2-Ener)*psi   #This is the differential equation to be solved\n",
    "\n",
    "general_soln = desolve(f(psi)==0,psi,ivar=x,contrib_ode=True)   #\n",
    "\n",
    "\n",
    "pretty_print('The general solution to Schrodinger\\'s equation is ', general_soln[0])"
   ]
  },
  {
   "cell_type": "markdown",
   "metadata": {},
   "source": [
    "\n",
    "The Kummer functions are [confluent hypergeometric functions](https://en.wikipedia.org/wiki/Confluent_hypergeometric_function).  At present SageMath cannot evaluate these functions so I'll enter the first few wave functions for you manually below."
   ]
  },
  {
   "cell_type": "code",
   "execution_count": null,
   "metadata": {},
   "outputs": [],
   "source": [
    "#Harmonic Oscillator Wavefunction and energy\n",
    "m,omega=var('m,omega')\n",
    "hbar=var('hbar',latex_name=r'\\hbar')                                  #Declares hbar as a variable and displays hbar symbol \n",
    "alpha=m*omega/hbar         #If alpha is defined after the wave functions are defined, you need to use .substitute(alpha=m*omega/hbar)\n",
    "\n",
    "psi_HO0(x) = (alpha/pi)^(1/4)*e^(-alpha*x^2/2)                        #n=0 state of 1D harmonic oscillator\n",
    "psi_HO1(x) = (4*alpha^3/pi)^(1/4)*x*e^(-alpha*x^2/2)                  #n=1 state of 1D harmonic oscillator\n",
    "psi_HO2(x) = (alpha/(4*pi))^(1/4)*(2*alpha*x^2-1)*e^(-alpha*x^2/2)    #n=2 state of 1D harmonic oscillator\n",
    "psi_HO3(x) = (alpha^3/(9*pi))^(1/4)*(2*alpha*x^3-3*x)*e^(-alpha*x^2/2)#n=3 state of 1D harmonic oscillator\n",
    "psi_HO4(x) = (alpha/(36*pi))^(1/4)*(2*alpha^2*x^4-6*alpha*x^2+3/2)*e^(-alpha*x^2/2)  #n=4 state of 1D harmonic oscillator\n",
    "psi_HO5(x) = (alpha/(225*pi))^(1/4)*(2*alpha^(5/2)*x^5-10*alpha^(3/2)*x^3+15*alpha^(1/2)*x/2)*e^(-alpha*x^2/2)  #n=5 state  \n",
    "\n",
    "def E_n(n,omega):                                                     #1D harmonic oscillator energy function\n",
    "    return (n+1/2)*hbar*omega\n",
    "\n",
    "def H(psi):                                                           #1D harmonic oscillator Hamiltonian\n",
    "    return -hbar^2/(2*m)*diff(psi,x,2)+1/2*m*omega^2*x^2*psi"
   ]
  },
  {
   "cell_type": "markdown",
   "metadata": {},
   "source": [
    "\n",
    "In general, the quantum harmonic oscillator wave function can be found from the following relationships:\n",
    "\n",
    "$\\psi_n(x) = \\left( \\frac{1}{2^n n!} \\right) \\left( \\frac{\\alpha}{\\pi} \\right) H_n(\\alpha^{1/2}x) e^{-\\alpha x^2/2}   $ \n",
    "\n",
    "where the Hermite polynomial $H_n(x)$ is found from \n",
    "\n",
    "$H_n(x) = (-1)^n e^{x^2} \\frac{d^n}{dx^n} e^{-x^2} $"
   ]
  },
  {
   "cell_type": "markdown",
   "metadata": {},
   "source": [
    "\n",
    "## For You To Try:\n",
    "\n",
    "Prove that the quantum harmonic oscillator wave functions are normalized"
   ]
  },
  {
   "cell_type": "code",
   "execution_count": null,
   "metadata": {},
   "outputs": [],
   "source": [
    "#Insert your work here"
   ]
  },
  {
   "cell_type": "markdown",
   "metadata": {},
   "source": [
    "\n",
    "## Fancier 2D Plotting\n",
    "\n",
    "\n",
    "- You can add titles, label axes, change label size, and move the title of plots\n",
    "- You can specify different line styles:\n",
    "    - Solid lines '-'\n",
    "    - Dashed lines '--'\n",
    "    - Dash dot '-.'\n",
    "    - Dotted ':'\n",
    "- If you assign a plot to a variable name, you can add on additional plots and features.\n",
    "    - In Python, `P+=text...` is the same as `P=P+text...`.  This is called in-place addition\n",
    "    - Text can be added to a plot using `text('something profound', (x,y), color='red)` where `x` and `y` are the location of the midpoint of the text.\n",
    "    - Arrows can be added to point out features by specifying the location of the head and tail of the arrow `arrow2d((x1,y1),(x2,y2))`\n",
    "    - Multiple plots can be combined into a single graph by adding `plot()` commands to`P`\n",
    "    \n",
    "    ### Plot the ground state wavefunction of the one-dimensional harmonic oscillator"
   ]
  },
  {
   "cell_type": "code",
   "execution_count": null,
   "metadata": {},
   "outputs": [],
   "source": [
    "#To plot a function, all variables must be defined - chose variables = 1 for simplicity\n",
    "psi0_plot(x)=psi_HO0(x).substitute(m=1,omega=1,hbar=1)      \n",
    "\n",
    "P=plot(psi0_plot(x),[x,-2,2],linestyle='--',title='n=1 State of QHO', axes_labels=['Position x', '$\\psi(x)$'],axes_labels_size=1, title_pos=(.3,1))\n",
    "P+= text('Wave function peak', (1, 1.05), color='red')\n",
    "P+=arrow2d((1, 1), (0, .75))\n",
    "P.show()"
   ]
  },
  {
   "cell_type": "markdown",
   "metadata": {},
   "source": [
    "\n",
    "## For You To Try:\n",
    "\n",
    "- Plot the $n=1$, $n=2$, and $n=3$ wave functions for the quantum harmonic oscillator on the same plot\n",
    "- Describe how the number of nodes in the wave function relates to the value of n\n",
    "- Draw arrows to indicate the location of the nodes of the wave function"
   ]
  },
  {
   "cell_type": "code",
   "execution_count": null,
   "metadata": {},
   "outputs": [],
   "source": [
    "#Insert your code here"
   ]
  },
  {
   "cell_type": "markdown",
   "metadata": {},
   "source": [
    "\n",
    "### Calculate harmonic oscillator energy from Schrodinger equation and wave function\n",
    "\n",
    "We can check that the wave functions satisfy Schrodinger's equation and give the correct energy.  The equation is\n",
    "\n",
    "$\\hat{H}\\psi(x) = E \\psi(x).$ \n",
    "\n",
    "Since $E$ is a number (unlike $\\hat{H}$, which is an operator), we can divide both sides of the equation by $\\psi(x)$ and cancel the terms on the right hand side to get an equation for the energy.\n",
    "\n",
    "$\\frac{\\hat{H}\\psi(x)}{\\psi(x)} = E.$"
   ]
  },
  {
   "cell_type": "code",
   "execution_count": null,
   "metadata": {},
   "outputs": [],
   "source": [
    "f=H(psi_HO0(x))/psi_HO0(x)\n",
    "show(f)"
   ]
  },
  {
   "cell_type": "markdown",
   "metadata": {},
   "source": [
    "\n",
    "## Simplify Symbolic Expressions\n",
    "\n",
    "- The `.expand()` command will distribute terms and expand powers in an expression\n",
    "    - Useful for getting terms to cancel out\n",
    "- The `.canonicalize_radical()` command returns the _canonical_ form of logs and exponents\n",
    "- Other simplification commands include:\n",
    "    - `.combine()`,\n",
    "    - `.simplify_fill()`, \n",
    "    - `.simplify_trig()`, \n",
    "    - `.reduce_trig()`, \n",
    "    - `.simplify_log()`, \n",
    "    - `.trig_expand()`\n",
    "\n",
    "This result does not look like what we would expect.  However, computer algebra systems like Maxima (the heart of SageMath computer algebra) sometimes have issues with non-integer powers.  One trick is to raise this function to the nth power (in this case it would be to the 4th power) to get rid of non-integer powers, simplify the equation, then take the nth root to get the final result.  Let's try this:"
   ]
  },
  {
   "cell_type": "code",
   "execution_count": null,
   "metadata": {},
   "outputs": [],
   "source": [
    "f4=(f^4).expand()    #Fourth power\n",
    "\n",
    "pretty_print('Taking the fourth power of our original result simplifies things down to $f^4=$', f4) \n",
    "\n",
    "f1=(f4^(1/4)).canonicalize_radical()    #.canonicalize_radical() simplifies terms involving exponents\n",
    "\n",
    "pretty_print('Taking the fourth root and using the .canonicalize_radical() command gives us ', f1)\n",
    "pretty_print('The energy of the n=1 state from the energy function E_n(n,omega) is $E_n=$', E_n(0,omega))"
   ]
  },
  {
   "cell_type": "markdown",
   "metadata": {},
   "source": [
    "\n",
    "## For You To Try:\n",
    "\n",
    "- Use the Hamiltonian to find the energies of the $n=1$, $n=2$, and $n=3$ states.\n",
    "    - Remember that $E = \\frac{H \\psi(x)}{\\psi(x)}$\n",
    "    - If your resulting equation is a huge mess, try squaring, expanding, then simplifying the equation\n",
    "\n",
    "- Check that your results are correct by using the function `E_n(n,omega)`"
   ]
  },
  {
   "cell_type": "code",
   "execution_count": null,
   "metadata": {},
   "outputs": [],
   "source": [
    "#Insert your work here"
   ]
  },
  {
   "cell_type": "markdown",
   "metadata": {},
   "source": [
    "\n",
    "### Calculate the commutator $[\\hat{x},\\hat{p}]$\n",
    "\n",
    "We can define the momentum operator $\\hat{p}$ using `def p:`.  The operator $\\hat{x}$ is just multiplication by the variable $x$ so we don't need to define a separate operator.  One thing to keep in mind is that we must explicitly apply the operators (i.e. All terms that the operator operates on must be inside the parentheses as an argument to the operator function)"
   ]
  },
  {
   "cell_type": "code",
   "execution_count": null,
   "metadata": {},
   "outputs": [],
   "source": [
    "def p(psi):   #momentum operator\n",
    "    return -i*hbar*diff(psi,x)\n",
    "\n",
    "\n",
    "psi=function('psi')(x)   #Dummy function\n",
    "\n",
    "\n",
    "com=x*p(psi)-p(x*psi)   #Calculate the commutation relation [x,p]\n",
    "pretty_print('The commutation relation between $\\hat{x}$ and $\\hat{p}$ is $[\\hat{x},\\hat{p}]\\psi(x) = $', com.expand())  #.expand() required to simplify expression"
   ]
  },
  {
   "cell_type": "markdown",
   "metadata": {},
   "source": [
    "\n",
    "### Raising and Lowering Operators\n",
    "\n",
    "The raising and lowering operators are powerful tools for exploring the quantum harmonic oscillator.  Most quantum physics texts will cover these in detail.  The following cells will explore a few things you can do in SageMath with the raising and lowering operators.  The cell below defines the operators.\n",
    "\n",
    "Note: The output from the cell below includes a term $D[0]\\psi(x)$.  This is SageMath notation for the derivative with respect to the first variable in the function (remember that Python starts numbering at zero).  If $\\psi$ was a function of $x$ and $y$, then the derivative of $\\psi(x,y)$ with respect to $y$ would be denoted $D[1]\\psi(x,y)$."
   ]
  },
  {
   "cell_type": "code",
   "execution_count": null,
   "metadata": {},
   "outputs": [],
   "source": [
    "psi,m,L,omega, f=var('psi,m,L,omega,f')                          #Declare wave function, mass, and box length as variables\n",
    "\n",
    "Ener=var('Ener',latex_name=r'\\mathcal{E}')                       #Declare Ener as energy variable but will display a script E \n",
    "hbar=var('hbar',latex_name=r'\\hbar')                             #Declares hbar as a variable and displays hbar symbol  \n",
    "\n",
    "psi=function('psi')(x)    #Define dummy function\n",
    "\n",
    "def p(psi):   #momentum operator\n",
    "    return -i*hbar*diff(psi,x)\n",
    "\n",
    "\n",
    "def a_plus(psi):   #raising operator\n",
    "    return 1/sqrt(2*hbar*m*omega)*(-i*p(psi)+m*omega*x*psi)\n",
    "\n",
    "\n",
    "def a_minus(psi):   #lowering operator\n",
    "    return 1/sqrt(2*hbar*m*omega)*(+i*p(psi)+m*omega*x*psi)\n",
    "\n",
    "show(a_plus(psi))"
   ]
  },
  {
   "cell_type": "markdown",
   "metadata": {},
   "source": [
    "\n",
    "### Demonstrate that $a_+ \\psi_{0}(x)= \\psi_{1}(x)$\n",
    "\n",
    "- Any easy way to show two equations are equal is to divide one equation by the other and show the result is equal to 1\n",
    "    - This cuts down on manipulation of equations to put them in the same format\n",
    "- To get all terms to cancel we will raise everything to the 4th power and then take the 4th root\n",
    "- The `.canonicalize_radical()` command is used to expand the exponent terms\n",
    "\n",
    "Show that $\\frac{a_+ \\psi_0(x)}{\\psi_1(x)} = 1$"
   ]
  },
  {
   "cell_type": "code",
   "execution_count": null,
   "metadata": {},
   "outputs": [],
   "source": [
    "f=(a_plus(psi_HO0(x))/psi_HO1(x))\n",
    "\n",
    "pretty_print(' $ a_+ \\psi_0(x)/\\psi_1(x) = $' ,f)   #It's not clear this is equal to one but ...\n",
    "f4=(f^4)                                              #... with a little nudge...\n",
    "f1=(f4^(1/4)).canonicalize_radical()\n",
    "pretty_print(' $ a_+ \\psi_0(x)/\\psi_1(x) = $' ,f1)  #...everything works out nicely"
   ]
  },
  {
   "cell_type": "markdown",
   "metadata": {},
   "source": [
    "\n",
    "### Demonstrate that $a_+ \\psi_{1}(x)= \\sqrt{2}\\psi_{2}(x)$\n",
    "\n",
    "- In addition to `.canonicalize_radical()` we also have to use `.combine()` to collect terms over a common denominator, and `.expand()`.\n",
    "\n",
    "Show that $\\frac{a_+ \\psi_1(x)}{\\psi_2(x)} = \\sqrt{2}$"
   ]
  },
  {
   "cell_type": "code",
   "execution_count": null,
   "metadata": {},
   "outputs": [],
   "source": [
    "f=(a_plus(psi_HO1(x))/psi_HO2(x)).expand().combine()\n",
    "\n",
    "pretty_print(' $ a_+ \\psi_1(x)/\\psi_2(x) = $' ,f) \n",
    "\n",
    "f4=(f^4).expand()\n",
    "f1=(f4^(1/4)).canonicalize_radical()\n",
    "\n",
    "pretty_print(' $ a_+ \\psi_1(x)/\\psi_2(x) = $' ,f1)\n",
    "pretty_print(' or equivalently $ a_+ \\psi_1(x) =$',f1,' $\\psi_2(x)$')"
   ]
  },
  {
   "cell_type": "markdown",
   "metadata": {},
   "source": [
    "\n",
    "### For You To Try\n",
    "\n",
    "Show that Show that $\\frac{a_+ \\psi_2(x)}{\\psi_1(x)} = \\sqrt{3}$"
   ]
  },
  {
   "cell_type": "code",
   "execution_count": null,
   "metadata": {},
   "outputs": [],
   "source": [
    "#Insert your work here"
   ]
  },
  {
   "cell_type": "markdown",
   "metadata": {},
   "source": [
    "\n",
    "## Projects and Problem Ideas\n",
    "\n",
    "- Use $a_+$ to generate higher quantum harmonic oscillator wave functions and then use $H=\\hbar \\omega(a_- a_+ - \\frac{1}{2})$ to determine the energy of those states.\n",
    "- Rewrite $\\hat{x}$ and $\\hat{p}$ in terms of $a_-$ and $a_+$ and use the raising and lowering operators to calculate the expectation values $<x>$ and $<p>$.  Compare your results to what you get from $\\int \\psi^*(x) x \\psi(x) dx$ and $\\int \\psi^*(x) p \\psi(x) dx$."
   ]
  },
  {
   "cell_type": "markdown",
   "metadata": {},
   "source": [
    "# 4. Scattering & Tunneling from Step Potentials\n"
   ]
  },
  {
   "cell_type": "markdown",
   "metadata": {},
   "source": [
    "- Solving systems of equations\n",
    "- Simplifying symbolic expressions\n",
    "  \n",
    "Note: Hit `Restart` between cases\n",
    "\n",
    "I've reused variable names for each case and failure to restart can cause results from a previous problem to cause issues with later solutions.\n",
    "\n",
    "The three cases I've looked at are:\n",
    "- Wave function hitting a step potential with $E<V_0$\n",
    "- Wave function hitting a step potential with $E>V_0$\n",
    "- Wave function hitting a barrier potential with $E<V_0$"
   ]
  },
  {
   "cell_type": "markdown",
   "metadata": {},
   "source": [
    "\n",
    "### Unbound States - Scattering and Tunneling\n",
    "\n",
    "\n",
    "Solving the Schrodinger equation for unbound states is good practice for students in devloping an understanding of the wave function.  It also gives students their first glimpse of quantum tunneling.  This worksheet walks you through how to set up and solve the boundary conditions for the wave function and how to plot the graphs to gain deeper understanding.\n",
    "\n",
    "The first case is a step potential with particle energy lower than the step potential height ($E < V_0$)\n",
    "\n",
    "To solve this problem we assume a different wave function in each region but require that (1) the wave functions be continuous at the boundary and (2) the derivatives of the wave functions be continuous at the boundary.  The two wave functions are:\n",
    "\n",
    "$\\psi_I(x) = A e^{ik_1 x} + B e^{-ik_1 x}$\n",
    "\n",
    "and\n",
    "\n",
    "$\\psi_{II}(x) = C e^{k_2 x} + D e^{-k_2 x}.$\n",
    "\n",
    "The wave function must remain finite for all values of $x$, which means that the first term in $\\psi_{II}(x)$ must be zero (i.e. $C=0$)\n",
    "\n",
    "The boundary conditions require:\n",
    "\n",
    "$\\psi_I(0) = \\psi_{II}(0)$\n",
    "\n",
    "and\n",
    "\n",
    "$\\frac{d \\psi_I(x)}{dx}_{x=0} = \\frac{d \\psi_{II}(x)}{dx}_{x=0} .$\n",
    "\n",
    "\n",
    "These equations are solved long-hand to demonstrate some of the symbolic manipulation functions of SageMath\n",
    "\n",
    "- `.expand()`  Distributes and multiplies out all terms\n",
    "- `.combine()`  Collect terms over a common denominator\n",
    "- `.full_simplify()`  Runs numerous simplification routines\n",
    "\n",
    "Assuming the particles are incident form the left, the coefficient $A$ is associated with the density of incoming particles.  The reflection coefficient $R$, which is the probability that a particle is reflected, can be found from the ratio of incoming to returning particles.\n",
    "\n",
    "$R=\\frac{BB^*}{AA^*} = \\left| \\frac{B}{A} \\right|^2 $\n",
    "\n",
    "As expected, in this case we find that the reflection probability is $1$, which means 100\\% of the particles are reflected back.  However, the particles do penetrate into the classically forbidden region."
   ]
  },
  {
   "cell_type": "code",
   "execution_count": null,
   "metadata": {},
   "outputs": [],
   "source": [
    "#Step potential with E<V_0\n",
    "A,B,C,D,m,E,V_0,k_1,k_2=var('A,B,C,D,m,E,V_0,k_1,k_2')\n",
    "\n",
    "\n",
    "C=0   #Wave must decay as x->+oo (positive infinity) which means C must be zero\n",
    "\n",
    "psi_1(x)=A*e^(i*k_1*x) + B*e^(-i*k_1*x)\n",
    "psi_2(x)=C*e^(k_2*x) + D*e^(-k_2*x)\n",
    "\n",
    "psi_1(x).show()\n",
    "psi_2(x).show()\n",
    "\n",
    "\n",
    "\n",
    "#Continuity of w.f.\n",
    "eqn1 = psi_2(0)==psi_1(0)\n",
    "show(eqn1)\n",
    "\n",
    "#Continuity of derivative of w.f.\n",
    "eqn2 = diff(psi_1(x),x)==diff(psi_2(x),x)\n",
    "\n",
    "eqn2A=eqn2.substitute(x=0)\n",
    "show(eqn2A)\n",
    "\n",
    "#Solve equations (long-hand solution)\n",
    "eqn2B=eqn2A.substitute(D=A+B).expand()\n",
    "show(eqn2B)\n",
    "\n",
    "B_ans1=solve(eqn2B,B)[0]\n",
    "show(B_ans1)\n",
    "B_ans2=B_ans1.divide_both_sides(A).expand()\n",
    "show(B_ans2)\n",
    "eqn3=B_ans2.lhs()==B_ans2.rhs().combine()\n",
    "\n",
    "\n",
    "show(eqn3)\n",
    "R=(eqn3.rhs()*conjugate(eqn3.rhs())).expand().full_simplify()\n",
    "pretty_print(r'The probabilty of a particle being reflected is $R =  \\frac{BB^*}{AA^*}  = $', R)"
   ]
  },
  {
   "cell_type": "markdown",
   "metadata": {},
   "source": [
    "\n",
    "### Plotting the wave function for the step potential\n",
    "\n",
    "- The step occurs at $x=0$\n",
    "- The red part of the wave function shows where the particle tunnels into the step, which is classically forbidden\n",
    "\n",
    "To animate the plot we add in the time dependence $e^{i\\omega t}$ with $\\omega =1$ for simplicity."
   ]
  },
  {
   "cell_type": "code",
   "execution_count": null,
   "metadata": {},
   "outputs": [],
   "source": [
    "#Plot real part of w.f. for k_2=0.5*k_1 and A=1\n",
    "\n",
    "wf1(x)=psi_1(x).substitute(B=B_ans2.rhs(),A=1).substitute(k_1=1,k_2=0.5)\n",
    "\n",
    "\n",
    "wf2(x)=psi_2(x).substitute(D=1+B_ans2.rhs(),A=1).substitute(k_1=1,k_2=0.5)\n",
    "\n",
    "\n",
    "omega=1  #Set angular frequency to a nice easy number for animated plot\n",
    "\n",
    "wf1_real(x,t)=real(wf1(x)*e^(i*omega*t))  #Add in time-dependent term and take real part\n",
    "P=plot(wf1_real(x,0),[x,-20,0], title='Wave function at a step potential',axes_labels=['Position x','$\\psi(x$)'],axes_labels_size=1,title_pos=[.8,1])\n",
    "\n",
    "wf2_real(x,t)=real(wf2(x)*e^(i*omega*t)) #Add in time-dependent term and take real part\n",
    "P+=plot(wf2_real(x,0),[x,0,20],color='red')\n",
    "\n",
    "P.show()"
   ]
  },
  {
   "cell_type": "markdown",
   "metadata": {},
   "source": [
    "\n",
    "### Animated plot of wave function\n",
    "\n",
    "The following code creates an animation of the real part of the wavefunction to show how it changes in time."
   ]
  },
  {
   "cell_type": "code",
   "execution_count": null,
   "metadata": {},
   "outputs": [],
   "source": [
    "#Create animated plot of real part of w.f.\n",
    "times = sxrange(0,10,0.5)   #the times for evaluation. sxrange() creates a list of numbers from 0 to 10 in steps of 0.5\n",
    "plot_graph = []   #Create an empty list to store the plotted graphs at different times\n",
    "\n",
    "for t in times:    #Loop through all times\n",
    "    new_plot=plot(wf1_real(x,t),x,-20,0,ymin=-2.2,ymax=2.2)   #Create plot at time t for each value of t\n",
    "    new_plot+=plot(wf2_real(x,t),x,0,10,color='red',ymin=-2.2,ymax=2.2)\n",
    "    plot_graph.append(new_plot)    #Add the new plot to the list of images\n",
    "\n",
    "a=animate(plot_graph)    #Combine all plots contained in plot_graph into an animation\n",
    "a.show()  #Show the animation"
   ]
  },
  {
   "cell_type": "markdown",
   "metadata": {},
   "source": [
    "\n",
    "### For You To Try:\n",
    "- Plot the imaginary part of the wave function and animate it.\n",
    "    - How does this graph differ from the real part?\n",
    "- Plot the probability density of the wave function"
   ]
  },
  {
   "cell_type": "markdown",
   "metadata": {},
   "source": [
    "\n",
    "### Step Potential: $E>V_0$\n",
    "\n",
    "For this next example we will find the wave function for a particle incident on a step potential with the particle energy larger than the step height.\n",
    "\n",
    "We expect that the particle reflection coefficient is no longer 100\\% in this case but classically we might not expect to see _any_ reflection, but the graph at the bottom of the next cell shows that the reflection probability varies as a function of the energy difference between the particle and step potential.\n",
    "\n",
    "The setup is the same as for the $E<V_0$ case except the wave function in region II is complex (and thus oscillatory).\n",
    "\n",
    "The two wave functions are:\n",
    "\n",
    "$\\psi_I(x) = A e^{ik_1 x} + B e^{-ik_1 x}$\n",
    "\n",
    "and\n",
    "\n",
    "$\\psi_{II}(x) = C e^{ik_2 x} + D e^{-ik_2 x}.$\n",
    "\n",
    "If we assume there is no particles entering from the right then we must have $D=0$.\n",
    "\n",
    "The boundary conditions require:\n",
    "\n",
    "$\\psi_I(0) = \\psi_{II}(0)$\n",
    "\n",
    "and\n",
    "\n",
    "$\\frac{d \\psi_I(x)}{dx}_{x=0} = \\frac{d \\psi_{II}(x)}{dx}_{x=0} .$\n",
    "\n",
    "The function for the reflection probability $R$ and the transmission probability $T$ are plotted at the bottom of the next cell."
   ]
  },
  {
   "cell_type": "code",
   "execution_count": null,
   "metadata": {},
   "outputs": [],
   "source": [
    "#Step potential with E>V_0\n",
    "A,B,C,D,m,E,V_0,k_1,k_2=var('A,B,C,D,m,E,V_0,k_1,k_2')\n",
    "Ener=var('Ener',latex_name=r'\\mathcal{E}')  #Declare Ener as energy variable but will display a script E when using show() and pretty_print\n",
    "hbar=var('hbar',latex_name=r'\\hbar')  #Declares hbar as a variable and displays hbar symbol when using show() and pretty_print\n",
    "assume(k_1,'real')\n",
    "assume(k_2,'real')\n",
    "\n",
    "D=0\n",
    "\n",
    "psi_3(x)=A*e^(i*k_1*x) + B*e^(-i*k_1*x)\n",
    "psi_4(x)=C*e^(i*k_2*x) + D*e^(-i*k_2*x)\n",
    "\n",
    "psi_3(x).show()\n",
    "psi_4(x).show()\n",
    "\n",
    "\n",
    "#Continuity of w.f.\n",
    "eqn1 = psi_3(0)==psi_4(0)\n",
    "show(eqn1)\n",
    "\n",
    "#Continuity of derivative of w.f.\n",
    "eqn2 = diff(psi_3(x),x)==diff(psi_4(x),x)\n",
    "\n",
    "eqn2A=eqn2.substitute(x=0)\n",
    "show(eqn2A)\n",
    "\n",
    "\n",
    "#Solve equations (long-hand solution)\n",
    "eqn2B=eqn2A.substitute(C=A+B).expand()\n",
    "show(eqn2B)\n",
    "\n",
    "B_ans1=solve(eqn2B,B)[0]\n",
    "show(B_ans1)\n",
    "B_ans2=B_ans1.divide_both_sides(A).expand()\n",
    "show(B_ans2)\n",
    "eqn3=B_ans2.lhs()==B_ans2.rhs().combine()\n",
    "\n",
    "\n",
    "show(eqn3)\n",
    "R=(eqn3.rhs()*conjugate(eqn3.rhs())).expand().full_simplify()\n",
    "show(R)\n",
    "R_plot=R.substitute(k_1=1)\n",
    "\n",
    "P=plot(R_plot,[k_2,0,1],title='Reflection and Transmission Probability',axes_labels=['$k_2$ as a fraction of $k_1$', 'Probability'],legend_label='Reflection Probability',axes_labels_size=1)\n",
    "#P.show()\n",
    "\n",
    "eqn4=eqn1.divide_both_sides(A).expand()\n",
    "show(eqn4)\n",
    "\n",
    "eqn5=eqn4.substitute(B=A*B_ans2.rhs().combine())\n",
    "eqn5.show()\n",
    "\n",
    "#Find T and R\n",
    "T=(1-R).full_simplify()\n",
    "T.show()\n",
    "\n",
    "T_plot=T.substitute(k_1=1)\n",
    "T_plot.show()\n",
    "\n",
    "P+=plot(T_plot,[k_2,0,1],color='red',legend_label='Transmission Probability')\n",
    "P.show()"
   ]
  },
  {
   "cell_type": "markdown",
   "metadata": {},
   "source": [
    "\n",
    "## Solve a system of equations\n",
    "\n",
    "- `solve()` returns a list of solutions\n",
    "    - Arguments of `solve()` are a list of equations to satisfy and a list of variables to solve for\n",
    "    - e.g. `solve([x+y==1,x-y==3],[x,y])`\n",
    "    - Note that equations must have double equals signs to work;\n",
    "\n",
    "### Barrier Tunneling\n",
    "\n",
    "This example calculates the wave function for a particle hitting a barrier.  It demonstrates that the particle does in fact tunnel through the barrier\n",
    "\n",
    "We now need to have wave functions in each of the three regions.\n",
    "\n",
    "$\\psi_I(x) = A e^{ik_1 x} + B e^{-ik_1 x}$\n",
    "\n",
    "and\n",
    "\n",
    "$\\psi_{II}(x) = C e^{ik_2 x} + D e^{-ik_2 x}$\n",
    "\n",
    "and\n",
    "\n",
    "$\\psi_{III}(x) = F e^{ik_1 x} + G e^{-ik_1 x}.$\n",
    "\n",
    "With  no particles incident from the right we can set $G=0$.\n",
    "\n",
    "The wave function and derivatives of the wave functions must be continuous at both boundaries.  Rather than solving this set of equations long-hand, we'll use the `solve()` function to find $B$, $C$, $D$, and $F$.\n",
    "\n",
    "The transmission probability is\n",
    "\n",
    "$T=\\frac{FF^*}{AA^*} = \\left| \\frac{F}{A} \\right|^2.$ \n",
    "\n",
    "In this case the transmission probability through the barrier is non-zero, even though the particle should not be able to penetrate the barrier classically."
   ]
  },
  {
   "cell_type": "code",
   "execution_count": null,
   "metadata": {},
   "outputs": [],
   "source": [
    "#Barrier: E<V_0\n",
    "\n",
    "A,B,C,D,F,G, m,E,V_0,k_1,k_2,a=var('A,B,C,D,F,G,m,E,V_0,k_1,k_2,a')\n",
    "\n",
    "G=0\n",
    "\n",
    "psi_1(x)=A*e^(i*k_1*x) + B*e^(-i*k_1*x)\n",
    "psi_2(x)=C*e^(k_2*x) + D*e^(-k_2*x)\n",
    "psi_3(x)=F*e^(i*k_1*x) + G*e^(-i*k_1*x)\n",
    "\n",
    "psi_1(x).show()\n",
    "psi_2(x).show()\n",
    "psi_3(x).show()\n",
    "\n",
    "#Continuity of w.f. at boundaries\n",
    "\n",
    "eqn1A=psi_1(0)==psi_2(0)\n",
    "eqn1A.show()\n",
    "eqn1B=psi_2(a)==psi_3(a)\n",
    "eqn1B.show()\n",
    "\n",
    "#Continuity of derivatives of w.f.\n",
    "eqn2A=diff(psi_1(x),x).substitute(x=0)==diff(psi_2(x),x).substitute(x=0)\n",
    "eqn2A.show()\n",
    "eqn2B=diff(psi_2(x),x).substitute(x=a)==diff(psi_3(x),x).substitute(x=a)\n",
    "eqn2B.show()\n",
    "\n",
    "#Solve the equations (quick and easy solution)\n",
    "soln=solve([eqn1A,eqn1B,eqn2A,eqn2B],[B,C,D,F])\n",
    "for i in soln[0]:   #Print off all solutions in the list of solutions\n",
    "    i.show()\n",
    "\n",
    "\n",
    "#soln is a list of lists which is structured like this: soln=[[ans0,ans1,ans2,ans3]]...\n",
    "#... which means soln[0]=[ans0,ans1,ans2,ans3].  This means soln[0][3] returns ans3\n",
    "\n",
    "#Find T and R\n",
    "F_1=soln[0][3].rhs()\n",
    "F_2=F_1/A\n",
    "B_1=soln[0][0].rhs()\n",
    "B_2=B_1/A\n",
    "\n",
    "F_2.show()\n",
    "B_2.show()\n",
    "\n",
    "R=(B_2*conjugate(B_2)).full_simplify()\n",
    "R.show()\n",
    "\n",
    "T=(F_2*conjugate(F_2)).full_simplify()\n",
    "T.show()\n",
    "\n",
    "\n",
    "R_plot=(R.substitute(k_1=1,a=5))\n",
    "T_plot=(T.substitute(k_1=1,a=5))\n",
    "\n",
    "R_plot.show()\n",
    "T_plot.show()\n",
    "P=plot(R_plot,[k_2,0,1],title='Transmission and Reflection from a Barrier',axes_labels=['$k_2$ as a fraction of $k_1$', 'Probability'],legend_label='Reflection probability',axes_labels_size=1)\n",
    "P+=plot(T_plot,[k_2,0,1],color='red',legend_label='Transmission probability')\n",
    "P.show()"
   ]
  },
  {
   "cell_type": "markdown",
   "metadata": {},
   "source": [
    "\n",
    "## For You To Try\n",
    "\n",
    "- Type 'solve?' into the cell below and hit Shift+Enter to see the documentation for the `solve()` command\n",
    "- Use `solve()` to find the solutions to the equations:\n",
    "    - x+3y = 2\n",
    "    - 2y-4z=1\n",
    "    - x-z=2\n",
    "- Go back and solve the first two cases"
   ]
  },
  {
   "cell_type": "code",
   "execution_count": null,
   "metadata": {},
   "outputs": [],
   "source": [
    "#Insert your work here"
   ]
  },
  {
   "cell_type": "markdown",
   "metadata": {},
   "source": [
    "\n",
    "## Projects and Problem Ideas\n",
    "\n",
    "- Calculate the reflection and transmisison probabilities for a barrier when E>V_0\n",
    "- Calculate the wave function and energy of a particle bound in a delta function well for E<0 (there is a single bound state)\n",
    "- Calculate the wave function for an unbound particle near a delta function well (E>0)"
   ]
  }
 ],
 "metadata": {
  "kernelspec": {
   "display_name": "base",
   "language": "python",
   "name": "python3"
  },
  "language_info": {
   "codemirror_mode": {
    "name": "ipython",
    "version": 3
   },
   "file_extension": ".py",
   "mimetype": "text/x-python",
   "name": "python",
   "nbconvert_exporter": "python",
   "pygments_lexer": "ipython3",
   "version": "3.13.2"
  }
 },
 "nbformat": 4,
 "nbformat_minor": 4
}
